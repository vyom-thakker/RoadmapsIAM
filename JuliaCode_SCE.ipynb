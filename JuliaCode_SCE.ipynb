{
 "cells": [
  {
   "cell_type": "markdown",
   "metadata": {},
   "source": [
    "# Readme\n",
    "\n",
    "Instructions for implementing following code:\n",
    "\n",
    "1. Download and Install Anaconda distribution from https://www.anaconda.com/products/individual. \n",
    "User guide can be found at https://docs.anaconda.com/anaconda/user-guide/getting-started/.\n",
    "2. Download and Install Julia from https://julialang.org/downloads/\n",
    "3. Open julia, and enter 'import Pkg', followed by 'Pkg.add(\"IJulia\")'\n",
    "4. In the Pkg environment, enter the following 'add(\"IJulia\")','add(\"JuMP\")','add(\"Cbc\")','add(\"Ipopt\")'\n",
    "5. Open Jupyter notebook from Anaconda Navigator, and open this file. \n",
    "6. Implement the code by pressing shift+enter in each cell.\n",
    "\n",
    "Content:\n",
    "\n",
    "1. Case 2 Analysis and Synthesis problem solution\n",
    "2. Case 3 Analysis and Synthesis problem solution\n",
    "3. Illustrative Example solution for multiple objectives\n",
    "4. Appendix A.1. Solutions\n"
   ]
  },
  {
   "cell_type": "code",
   "execution_count": 5,
   "metadata": {},
   "outputs": [],
   "source": [
    "using JuMP, Gurobi"
   ]
  },
  {
   "cell_type": "markdown",
   "metadata": {},
   "source": [
    "# Case 2: Downstream Alternatives\n",
    "\n",
    "## Analysis:"
   ]
  },
  {
   "cell_type": "code",
   "execution_count": 6,
   "metadata": {},
   "outputs": [
    {
     "data": {
      "text/plain": [
       "2-element Vector{Float64}:\n",
       "   87.5\n",
       " -150.0"
      ]
     },
     "execution_count": 6,
     "metadata": {},
     "output_type": "execute_result"
    }
   ],
   "source": [
    "A=[[2 -4 -2 0];[-1 1 0.45 -1];[0 4 2 0]]\n",
    "w1=0.5\n",
    "A_allocation=[[2*w1 -4 0 0];[2*(1-w1) 0 -2 0];[-1 1 0.45 -1];[0 4 2 0]]\n",
    "f=[0;0;0;100]\n",
    "s=inv(A_allocation)*f\n",
    "B=[[1 1 1 0];[-3 0 0 0]]\n",
    "g=B*s\n",
    "g"
   ]
  },
  {
   "cell_type": "markdown",
   "metadata": {},
   "source": [
    "## Synthesis:"
   ]
  },
  {
   "cell_type": "code",
   "execution_count": 7,
   "metadata": {},
   "outputs": [
    {
     "data": {
      "text/latex": [
       "$$ \\begin{aligned}\n",
       "\\min\\quad & g_{1}\\\\\n",
       "\\text{Subject to} \\quad & -f_{1} + 2 s_{1} - 4 s_{2} - 2 s_{3} = 0.0\\\\\n",
       " & -f_{2} - s_{1} + s_{2} + 0.45 s_{3} = 0.0\\\\\n",
       " & f_{1} = 0.0\\\\\n",
       " & -g_{1} + s_{1} + s_{2} + s_{3} = 0.0\\\\\n",
       " & -g_{2} - 3 s_{1} = 0.0\\\\\n",
       " & 4 s_{2} + 2 s_{3} = 100.0\\\\\n",
       " & s_{1} \\geq 0.0\\\\\n",
       " & s_{2} \\geq 0.0\\\\\n",
       " & s_{3} \\geq 0.0\\\\\n",
       "\\end{aligned} $$"
      ]
     },
     "metadata": {},
     "output_type": "display_data"
    },
    {
     "name": "stdout",
     "output_type": "stream",
     "text": [
      "Set parameter Username\n",
      "Academic license - for non-commercial use only - expires 2022-11-07\n",
      "Gurobi Optimizer version 9.5.0 build v9.5.0rc5 (linux64)\n",
      "Thread count: 8 physical cores, 16 logical processors, using up to 16 threads\n",
      "Optimize a model with 6 rows, 7 columns and 17 nonzeros\n",
      "Model fingerprint: 0x67d6f315\n",
      "Coefficient statistics:\n",
      "  Matrix range     [5e-01, 4e+00]\n",
      "  Objective range  [1e+00, 1e+00]\n",
      "  Bounds range     [0e+00, 0e+00]\n",
      "  RHS range        [1e+02, 1e+02]\n",
      "Presolve removed 6 rows and 7 columns\n",
      "Presolve time: 0.03s\n",
      "Presolve: All rows and columns removed\n",
      "Iteration    Objective       Primal Inf.    Dual Inf.      Time\n",
      "       0    7.5000000e+01   0.000000e+00   0.000000e+00      0s\n",
      "\n",
      "Solved in 0 iterations and 0.04 seconds (0.00 work units)\n",
      "Optimal objective  7.500000000e+01\n",
      "\n",
      "User-callback calls 36, time in user-callback 0.00 sec\n",
      "The solution is OPTIMAL\n",
      "The model is :\n",
      "\n",
      "\n",
      "Total Flow (Objective value): 75.0\n",
      "\n",
      "Scaling Factors:\n",
      "[50.0, 25.0, 0.0]\n",
      "Final Demands:\n",
      "[0.0, -25.0]"
     ]
    }
   ],
   "source": [
    "model = Model(with_optimizer(Gurobi.Optimizer))\n",
    "\n",
    "A=[[2 -4 -2];[-1 1 0.45]]\n",
    "B=[[1 1 1];[-3 0 0]]\n",
    "@variables(model, begin\n",
    "    f[1:2]\n",
    "    g[1:2] \n",
    "    s[1:3] ≥ 0\n",
    "end)\n",
    "@constraints(model, begin\n",
    "    A*s .== f #LC,A\n",
    "    f[1] == 0\n",
    "    #2*s[1]-4*s[2]-2*s[3]==0\n",
    "    #-1*s[1]+s[2]+0.45*s[3]==f[2]\n",
    "    #s[1]==50\n",
    "    B*s .== g #LC\n",
    "    4*s[2]+2*s[3] == 100 #U\n",
    "end)\n",
    "\n",
    "@objective(model, Min, g[1])\n",
    "JuMP.optimize!(model)\n",
    "println(\"The solution is $(termination_status(model))\")\n",
    "\n",
    "println(\"The model is :\")\n",
    "print(model)\n",
    "println(\"\\n\\nTotal Flow (Objective value): \", JuMP.objective_value(model))\n",
    "println(\"\\nScaling Factors:\")\n",
    "print(JuMP.value.(s))\n",
    "println(\"\\nFinal Demands:\")\n",
    "print(JuMP.value.(f))"
   ]
  },
  {
   "cell_type": "markdown",
   "metadata": {},
   "source": [
    "# Case 3: Upstream Alternatives\n",
    "\n",
    "## Analysis:\n"
   ]
  },
  {
   "cell_type": "code",
   "execution_count": 8,
   "metadata": {},
   "outputs": [
    {
     "data": {
      "text/plain": [
       "3-element Vector{Float64}:\n",
       " 75.0\n",
       " 12.5\n",
       " 12.5"
      ]
     },
     "execution_count": 8,
     "metadata": {},
     "output_type": "execute_result"
    }
   ],
   "source": [
    "A=[[-1.5 2.5];[-0.5 0.5];[2 -4];[2 0]]\n",
    "B=[[1 1];[0 0.5];[0 0.5]]\n",
    "A_CE=[[-1.5 2.5 -1 0];[-0.5 0.5 0 -1];[2 -4 0 0];[2 0 0 0]]\n",
    "B_CE=[[1 1 0 0];[0 0.5 0 0];[0 0.5 0 0]]\n",
    "f=[0;0;0;100]\n",
    "s=inv(A_CE)*f\n",
    "g=B_CE*s\n",
    "g"
   ]
  },
  {
   "cell_type": "markdown",
   "metadata": {},
   "source": [
    "## Synthesis:\n"
   ]
  },
  {
   "cell_type": "code",
   "execution_count": 11,
   "metadata": {},
   "outputs": [
    {
     "name": "stdout",
     "output_type": "stream",
     "text": [
      "Set parameter Username\n",
      "Academic license - for non-commercial use only - expires 2022-11-07\n",
      "Set parameter NonConvex to value 2\n",
      "Set parameter NonConvex to value 2\n",
      "Gurobi Optimizer version 9.5.0 build v9.5.0rc5 (linux64)\n",
      "Thread count: 8 physical cores, 16 logical processors, using up to 16 threads\n",
      "Optimize a model with 12 rows, 16 columns and 21 nonzeros\n",
      "Model fingerprint: 0xa6c02e4d\n",
      "Model has 7 quadratic constraints\n",
      "Coefficient statistics:\n",
      "  Matrix range     [1e+00, 4e+00]\n",
      "  QMatrix range    [1e+00, 2e+00]\n",
      "  QLMatrix range   [1e+00, 1e+00]\n",
      "  Objective range  [1e+00, 1e+00]\n",
      "  Bounds range     [0e+00, 0e+00]\n",
      "  RHS range        [2e+00, 2e+00]\n",
      "  QRHS range       [1e+02, 1e+02]\n",
      "Presolve removed 6 rows and 2 columns\n",
      "\n",
      "Continuous model is non-convex -- solving as a MIP\n",
      "\n",
      "Presolve removed 11 rows and 7 columns\n",
      "Presolve time: 0.01s\n",
      "Presolved: 30 rows, 14 columns, 64 nonzeros\n",
      "Presolved model has 6 bilinear constraint(s)\n",
      "Variable types: 14 continuous, 0 integer (0 binary)\n",
      "\n",
      "Root relaxation: objective 5.625000e+01, 7 iterations, 0.00 seconds (0.00 work units)\n",
      "\n",
      "    Nodes    |    Current Node    |     Objective Bounds      |     Work\n",
      " Expl Unexpl |  Obj  Depth IntInf | Incumbent    BestBd   Gap | It/Node Time\n",
      "\n",
      "     0     0   56.25000    0    4          -   56.25000      -     -    0s\n",
      "H    0     0                      75.0000000   56.25000  25.0%     -    0s\n",
      "     0     0   56.25000    0    6   75.00000   56.25000  25.0%     -    0s\n",
      "     0     0   56.25000    0    6   75.00000   56.25000  25.0%     -    0s\n",
      "     0     0   56.25000    0    6   75.00000   56.25000  25.0%     -    0s\n",
      "     0     0   72.91667    0    6   75.00000   72.91667  2.78%     -    0s\n",
      "     0     2   72.91667    0    6   75.00000   72.91667  2.78%     -    0s\n",
      "*   56    38              12      74.9999999   74.93134  0.09%   0.9    0s\n",
      "*   60    46              14      74.9999992   74.93134  0.09%   0.9    0s\n",
      "*   88    50              14      74.9999988   74.93134  0.09%   0.9    0s\n",
      "H  100    58                      74.9999977   74.93134  0.09%   0.8    0s\n",
      "\n",
      "Cutting planes:\n",
      "  BQP: 2\n",
      "\n",
      "Explored 3545 nodes (2481 simplex iterations) in 0.14 seconds (0.01 work units)\n",
      "Thread count was 16 (of 16 available processors)\n",
      "\n",
      "Solution count 5: 75 75 75 ... 75\n",
      "\n",
      "Optimal solution found (tolerance 1.00e-04)\n",
      "Best objective 7.499999767013e+01, best bound 7.499844216580e+01, gap 0.0021%\n",
      "\n",
      "User-callback calls 7364, time in user-callback 0.00 sec\n",
      "The solution is OPTIMAL\n",
      "\n",
      "\n",
      "Total Flow (Objective value): 74.99999767012574\n",
      "\n",
      "Scaling Factors:\n",
      "[49.99999844675049, 24.999999223375244]\n",
      "Final Demands:\n",
      "[-48.21903869249631, -1.187307538335792, 0.0]"
     ]
    }
   ],
   "source": [
    "model = Model(with_optimizer(Gurobi.Optimizer,NonConvex=2))\n",
    "\n",
    "@variables(model, begin\n",
    "    f[1:3]\n",
    "    g[1:3] \n",
    "    s[1:2] ≥ 0\n",
    "    a_var[1:2,1:2]\n",
    "    b_5[1:2] ≥ 0\n",
    "    x[1:2] ≥ 0\n",
    "end)\n",
    "@constraints(model, begin\n",
    "    #A*s.==f #LC,A\n",
    "    #B*s.==g #LC\n",
    "    a_var[1:2,1].≤ 0\n",
    "    a_var[1:2,2].≥ 0\n",
    "    constr1[i=1:2], sum(a_var[i,j]*s[j] for j in 1:2) == f[i]\n",
    "    constr2[i=2:3], b_5[i-1]*s[2] == g[i]\n",
    "    sum(A[3,j]*s[j] for j in 1:2) == f[3]\n",
    "    f[3]==0\n",
    "    \n",
    "    sum(B[1,j]*s[j] for j in 1:2) == g[1]\n",
    "    sum(a_var[i,1] for i in 1:2)==-1*A[3,1]\n",
    "    x[1]*(-2)==a_var[1,1]\n",
    "    x[2]*(-2)==a_var[2,1]\n",
    "    2*s[1]*x[1]==a_var[1,2]*s[2]+b_5[1]*s[2]\n",
    "    2*s[1]*x[2]==a_var[2,2]*s[2]+b_5[2]*s[2]\n",
    "    a_var[1,2]==b_5[1]\n",
    "    a_var[2,2]==2*b_5[2]\n",
    "    -1*(sum(a_var[i,1] for i in 1:2))*s[1]==100 #U\n",
    "end)\n",
    "\n",
    "@objective(model, Min, g[1])\n",
    "JuMP.optimize!(model)\n",
    "println(\"The solution is $(termination_status(model))\")\n",
    "\n",
    "println(\"\\n\\nTotal Flow (Objective value): \", JuMP.objective_value(model))\n",
    "println(\"\\nScaling Factors:\")\n",
    "print(JuMP.value.(s))\n",
    "println(\"\\nFinal Demands:\")\n",
    "print(JuMP.value.(f))"
   ]
  },
  {
   "cell_type": "markdown",
   "metadata": {},
   "source": [
    "# Section 4.2 Illustrative Example:\n",
    "\n",
    "## With All Alternatives and Multiple-Objectives"
   ]
  },
  {
   "cell_type": "code",
   "execution_count": 13,
   "metadata": {},
   "outputs": [
    {
     "data": {
      "text/latex": [
       "$$ \\begin{aligned}\n",
       "\\min\\quad & g_{1}\\\\\n",
       "\\text{Subject to} \\quad & -f_{1} + s_{1} - 20 s_{3} - 40 s_{4} + 30 s_{6} + 45 s_{7} = 0.0\\\\\n",
       " & -f_{2} + s_{2} - s_{3} - 2 s_{4} + 0.1 s_{9} = 0.0\\\\\n",
       " & -f_{5} + s_{5} - 30 s_{8} - 20 s_{9} = 0.0\\\\\n",
       " & -f_{6} - 50 s_{6} - 50 s_{7} + 22 s_{8} = 0.0\\\\\n",
       " & -g_{1} + 0.25 s_{1} + 0.2 s_{2} + 2 s_{3} + s_{4} + 2 s_{6} + 5 s_{7} + s_{8} + s_{9} = 0.0\\\\\n",
       " & -g_{2} + 0.4 s_{5} + 5 s_{6} + 5 s_{7} + 2 s_{9} = 0.0\\\\\n",
       " & -g_{3} + 15 s_{6} + 8 s_{8} + 5 s_{9} = 0.0\\\\\n",
       " & 0.2 x_{1} + 0.4 x_{2} = 1.4\\\\\n",
       " & f_{1} = 0.0\\\\\n",
       " & f_{2} = 0.0\\\\\n",
       " & f_{3} = 0.0\\\\\n",
       " & f_{4} = 0.0\\\\\n",
       " & f_{5} = 0.0\\\\\n",
       " & f_{6} = 0.0\\\\\n",
       " & -x_{1}\\times s_{5} - f_{3} + 100 s_{3} = 0.0\\\\\n",
       " & -x_{2}\\times s_{5} - f_{4} + 100 s_{4} = 0.0\\\\\n",
       " & 0.4 x_{2}\\times s_{6} - 0.2 s_{7}\\times x_{1} = 0.0\\\\\n",
       " & -0.4 s_{6}\\times x_{2} + 0.2 s_{7}\\times x_{1} = 0.0\\\\\n",
       " & x_{1}\\times s_{5} + x_{2}\\times s_{5} = 300.0\\\\\n",
       " & Dc\\times s_{1} + 0.2 s_{2}\\times Dc - 24 s_{6} - 36 s_{7} - 0.020000000000000004 s_{9} = 0.0\\\\\n",
       " & f_{1} \\geq 0.0\\\\\n",
       " & f_{2} \\geq 0.0\\\\\n",
       " & f_{3} \\geq 0.0\\\\\n",
       " & f_{4} \\geq 0.0\\\\\n",
       " & f_{5} \\geq 0.0\\\\\n",
       " & f_{6} \\geq 0.0\\\\\n",
       " & g_{1} \\geq 0.0\\\\\n",
       " & g_{2} \\geq 0.0\\\\\n",
       " & g_{3} \\geq 0.0\\\\\n",
       " & s_{1} \\geq 0.0\\\\\n",
       " & s_{2} \\geq 0.0\\\\\n",
       " & s_{3} \\geq 0.0\\\\\n",
       " & s_{4} \\geq 0.0\\\\\n",
       " & s_{5} \\geq 0.0\\\\\n",
       " & s_{6} \\geq 0.0\\\\\n",
       " & s_{7} \\geq 0.0\\\\\n",
       " & s_{8} \\geq 0.0\\\\\n",
       " & s_{9} \\geq 0.0\\\\\n",
       " & x_{1} \\geq 0.0\\\\\n",
       " & x_{2} \\geq 0.0\\\\\n",
       " & Dc \\geq 0.0\\\\\n",
       " & gCO2 \\geq 0.0\\\\\n",
       "\\end{aligned} $$"
      ]
     },
     "metadata": {},
     "output_type": "display_data"
    },
    {
     "name": "stdout",
     "output_type": "stream",
     "text": [
      "Set parameter Username\n",
      "Academic license - for non-commercial use only - expires 2022-11-07\n",
      "Set parameter NonConvex to value 2\n",
      "Set parameter NonConvex to value 2\n",
      "Gurobi Optimizer version 9.5.0 build v9.5.0rc5 (linux64)\n",
      "Thread count: 8 physical cores, 16 logical processors, using up to 16 threads\n",
      "Optimize a model with 14 rows, 22 columns and 45 nonzeros\n",
      "Model fingerprint: 0x9b66faeb\n",
      "Model has 6 quadratic constraints\n",
      "Coefficient statistics:\n",
      "  Matrix range     [1e-01, 5e+01]\n",
      "  QMatrix range    [2e-01, 1e+00]\n",
      "  QLMatrix range   [2e-02, 1e+02]\n",
      "  Objective range  [1e+00, 1e+00]\n",
      "  Bounds range     [0e+00, 0e+00]\n",
      "  RHS range        [1e+00, 1e+00]\n",
      "  QRHS range       [3e+02, 3e+02]\n",
      "Presolve removed 9 rows and 10 columns\n",
      "\n",
      "Continuous model is non-convex -- solving as a MIP\n",
      "\n",
      "Presolve removed 10 rows and 11 columns\n",
      "Presolve time: 0.00s\n",
      "Presolved: 39 rows, 18 columns, 88 nonzeros\n",
      "Presolved model has 8 bilinear constraint(s)\n",
      "Variable types: 18 continuous, 0 integer (0 binary)\n",
      "\n",
      "Root relaxation: objective 7.096970e+00, 11 iterations, 0.00 seconds (0.00 work units)\n",
      "\n",
      "    Nodes    |    Current Node    |     Objective Bounds      |     Work\n",
      " Expl Unexpl |  Obj  Depth IntInf | Incumbent    BestBd   Gap | It/Node Time\n",
      "\n",
      "     0     0    7.09697    0    4          -    7.09697      -     -    0s\n",
      "H    0     0                      19.5714286    7.09697  63.7%     -    0s\n",
      "     0     0    7.31823    0    8   19.57143    7.31823  62.6%     -    0s\n",
      "     0     0   15.98733    0    7   19.57143   15.98733  18.3%     -    0s\n",
      "     0     0   17.32012    0    8   19.57143   17.32012  11.5%     -    0s\n",
      "     0     0   19.57143    0    2   19.57143   19.57143  0.00%     -    0s\n",
      "\n",
      "Cutting planes:\n",
      "  RLT: 6\n",
      "  BQP: 2\n",
      "\n",
      "Explored 1 nodes (54 simplex iterations) in 0.01 seconds (0.00 work units)\n",
      "Thread count was 16 (of 16 available processors)\n",
      "\n",
      "Solution count 1: 19.5714 \n",
      "\n",
      "Optimal solution found (tolerance 1.00e-04)\n",
      "Best objective 1.957142857803e+01, best bound 1.957142857143e+01, gap 0.0000%\n",
      "\n",
      "User-callback calls 359, time in user-callback 0.00 sec\n",
      "\n",
      "\n",
      "Total Flow (Objective value): 19.571428578034887\n",
      "\n",
      "Scaling Factors:\n",
      " RM      Elec  P1   P2      C      R1      R2      SW     DC\n",
      "[41.143, 3.0, 3.0, 0.0, 42.857, 0.629, 0.0, 1.429, 0.0]\n",
      "Items chosen:\n",
      "P1    P2\n",
      "[300.0, 0.0]\n",
      "Final Demands:\n",
      "[0.0, 0.0, 0.0, 0.0, 0.0, 0.0]\n",
      "Dc:\n",
      "0.3613963039620678\n",
      "\n"
     ]
    },
    {
     "ename": "LoadError",
     "evalue": "MathOptInterface.UnsupportedAttribute{MathOptInterface.NLPBlock}: Attribute MathOptInterface.NLPBlock() is not supported by the model.",
     "output_type": "error",
     "traceback": [
      "MathOptInterface.UnsupportedAttribute{MathOptInterface.NLPBlock}: Attribute MathOptInterface.NLPBlock() is not supported by the model.",
      "",
      "Stacktrace:",
      "  [1] throw_set_error_fallback(model::Gurobi.Optimizer, attr::MathOptInterface.NLPBlock, value::MathOptInterface.NLPBlockData; error_if_supported::MathOptInterface.SetAttributeNotAllowed{MathOptInterface.NLPBlock})",
      "    @ MathOptInterface ~/.julia/packages/MathOptInterface/eoIu0/src/attributes.jl:496",
      "  [2] throw_set_error_fallback(model::Gurobi.Optimizer, attr::MathOptInterface.NLPBlock, value::MathOptInterface.NLPBlockData)",
      "    @ MathOptInterface ~/.julia/packages/MathOptInterface/eoIu0/src/attributes.jl:493",
      "  [3] set(model::Gurobi.Optimizer, attr::MathOptInterface.NLPBlock, args::MathOptInterface.NLPBlockData)",
      "    @ MathOptInterface ~/.julia/packages/MathOptInterface/eoIu0/src/attributes.jl:481",
      "  [4] set(b::MathOptInterface.Bridges.LazyBridgeOptimizer{Gurobi.Optimizer}, attr::MathOptInterface.NLPBlock, value::MathOptInterface.NLPBlockData)",
      "    @ MathOptInterface.Bridges ~/.julia/packages/MathOptInterface/eoIu0/src/Bridges/bridge_optimizer.jl:839",
      "  [5] set(m::MathOptInterface.Utilities.CachingOptimizer{MathOptInterface.Bridges.LazyBridgeOptimizer{Gurobi.Optimizer}, MathOptInterface.Utilities.UniversalFallback{MathOptInterface.Utilities.Model{Float64}}}, attr::MathOptInterface.NLPBlock, value::MathOptInterface.NLPBlockData)",
      "    @ MathOptInterface.Utilities ~/.julia/packages/MathOptInterface/eoIu0/src/Utilities/cachingoptimizer.jl:733",
      "  [6] set(m::Model, attr::MathOptInterface.NLPBlock, value::MathOptInterface.NLPBlockData)",
      "    @ JuMP ~/.julia/packages/JuMP/2IF9U/src/JuMP.jl:1299",
      "  [7] optimize!(model::Model, optimizer_factory::Nothing; bridge_constraints::Bool, ignore_optimize_hook::Bool, kwargs::Base.Iterators.Pairs{Union{}, Union{}, Tuple{}, NamedTuple{(), Tuple{}}})",
      "    @ JuMP ~/.julia/packages/JuMP/2IF9U/src/optimizer_interface.jl:168",
      "  [8] optimize! (repeats 2 times)",
      "    @ ~/.julia/packages/JuMP/2IF9U/src/optimizer_interface.jl:167 [inlined]",
      "  [9] top-level scope",
      "    @ In[13]:51",
      " [10] eval",
      "    @ ./boot.jl:360 [inlined]",
      " [11] include_string(mapexpr::typeof(REPL.softscope), mod::Module, code::String, filename::String)",
      "    @ Base ./loading.jl:1116"
     ]
    }
   ],
   "source": [
    "model = Model(with_optimizer(Gurobi.Optimizer,NonConvex=2))\n",
    "#   RM E P1 P2 C R1 R2 SW DC  \n",
    "A=[ [1 0 -20 -40 0 30 45 0 0];\n",
    "    [0 1 -1 -2 0 0 0 0 0.1];\n",
    "    [0 0 100 0 -1 0 0 0 0];\n",
    "    [0 0 0 100 -1 0 0 0 0];\n",
    "    [0 0 0 0 1 0 0 -30 -20];\n",
    "    [0 0 0 0 0 -50 -50 22 0]]\n",
    "\n",
    "B=[[0.25 0.2 2 1 0 2 5 1 1];\n",
    "    [0 0 0 0 0.4 5 5 0 2];\n",
    "    [0 0 0 0 0 15 0 8 5]]\n",
    "\n",
    "m=[0.2 0.4]\n",
    "@variables(model, begin\n",
    "    f[1:6] ≥ 0\n",
    "    g[1:3] ≥ 0\n",
    "    s[1:9] ≥ 0\n",
    "    x[1:2] ≥ 0 #variables in a_consumer\n",
    "    Dc ≥ 0\n",
    "    gCO2 ≥ 0\n",
    "end)\n",
    "@constraints(model, begin\n",
    "    constr1[i=1:2], sum(A[i,j]*s[j] for j in 1:9) == f[i]\n",
    "    constr2[i=3:4], sum(A[i,j]*s[j] for j in 1:9 if j!=5)+sum(A[i,j]*s[j]*x[i-2] for j in 1:9 if j==5) == f[i]\n",
    "    constr3[i=5:6], sum(A[i,j]*s[j] for j in 1:9) == f[i]\n",
    "    s[6]*((m[1]*x[1])+(m[2]*x[2]))==m[1]*x[1]*(s[6]+s[7])\n",
    "    s[7]*((m[1]*x[1])+(m[2]*x[2]))==m[2]*x[2]*(s[6]+s[7]) # MASS-BASED ALLOCATION\n",
    "    B*s.==g\n",
    "    (x[1]+x[2])*s[5]==300\n",
    "    ((m[1]*x[1])+(m[2]*x[2]))==1+B[2,5]\n",
    "    constr[i=1:6],f[i]==0\n",
    "end)\n",
    "\n",
    "@constraint(model, Dc*(s[1]+0.2*s[2])==(0.8*A[1,6]*s[6]+0.8*A[1,7]*s[7]+A[2,9]*s[9]*0.2))\n",
    "@objective(model, Min, g[1]) #Impact(GWP)\n",
    "JuMP.optimize!(model)\n",
    "print(model)\n",
    "println(\"\\n\\nTotal Flow (Objective value): \", JuMP.objective_value(model))\n",
    "println(\"\\nScaling Factors:\\n RM      Elec  P1   P2      C      R1      R2      SW     DC\")\n",
    "print(round.(JuMP.value.(s),digits=3))\n",
    "println(\"\\nItems chosen:\\nP1    P2\")\n",
    "print(round.(JuMP.value.(100*s[3:4]),digits=0))\n",
    "println(\"\\nFinal Demands:\")\n",
    "print(JuMP.value.(f))\n",
    "println(\"\\nDc:\")\n",
    "print(JuMP.value(Dc))\n",
    "println(\"\\n\")\n",
    "\n",
    "@NLobjective(model, Max, Dc) #Dc\n",
    "JuMP.optimize!(model)\n",
    "print(model)\n",
    "println(\"\\n\\nTotal Flow (Objective value): \", JuMP.objective_value(model))\n",
    "println(\"\\nScaling Factors:\\n RM      Elec  P1   P2      C      R1      R2      SW     DC\")\n",
    "print(round.(JuMP.value.(s),digits=3))\n",
    "println(\"\\nItems chosen:\\nP1    P2\")\n",
    "print(round.(JuMP.value.(100*s[3:4]),digits=0))\n",
    "println(\"\\nFinal Demands:\")\n",
    "print(JuMP.value.(f))\n",
    "println(\"\\ngCO2:\")\n",
    "print(JuMP.value(g[1]))\n",
    "println(\"\\n\")\n",
    "\n",
    "@objective(model, Min, (s[1] +(s[2]*0.25))) #Cs\n",
    "JuMP.optimize!(model)\n",
    "print(model)\n",
    "println(\"\\n\\nTotal Flow (Objective value): \", JuMP.objective_value(model))\n",
    "println(\"\\nScaling Factors:\\n RM      Elec  P1   P2      C      R1      R2      SW     DC\")\n",
    "print(round.(JuMP.value.(s),digits=3))\n",
    "println(\"\\nItems chosen:\\nP1    P2\")\n",
    "print(round.(JuMP.value.(100*s[3:4]),digits=0))\n",
    "println(\"\\nFinal Demands:\")\n",
    "print(JuMP.value.(f))\n",
    "println(\"\\n\")\n",
    "\n",
    "\n",
    "\n",
    "@NLobjective(model, Max, Dc) #Trade-off solution\n",
    "@constraint(model, g[1] <=25.5) #e-constraint method\n",
    "JuMP.optimize!(model)\n",
    "print(model)\n",
    "println(\"\\n\\nTotal Flow (Objective value): \", JuMP.objective_value(model))\n",
    "println(\"\\nScaling Factors:\\n RM      Elec  P1   P2      C      R1      R2      SW     DC\")\n",
    "print(round.(JuMP.value.(s),digits=3))\n",
    "println(\"\\nItems chosen:\\nP1    P2\")\n",
    "print(round.(JuMP.value.(100*s[3:4]),digits=0))\n",
    "println(\"\\nFinal Demands:\")\n",
    "print(JuMP.value.(f))\n",
    "println(\"\\ngCO2:\")\n",
    "print(JuMP.value(g[1]))\n",
    "println(\"\\n\")\n",
    "\n"
   ]
  },
  {
   "cell_type": "markdown",
   "metadata": {},
   "source": [
    "## Component Balance constraint instead of Mass-Ratio based allocation constraint \n",
    "\n",
    "### (Figure 9, and Table 3 of Main paper)\n",
    "\n"
   ]
  },
  {
   "cell_type": "code",
   "execution_count": 4,
   "metadata": {},
   "outputs": [
    {
     "ename": "LoadError",
     "evalue": "UndefVarError: Ipopt not defined",
     "output_type": "error",
     "traceback": [
      "UndefVarError: Ipopt not defined",
      "",
      "Stacktrace:",
      " [1] top-level scope",
      "   @ In[4]:1",
      " [2] eval",
      "   @ ./boot.jl:360 [inlined]",
      " [3] include_string(mapexpr::typeof(REPL.softscope), mod::Module, code::String, filename::String)",
      "   @ Base ./loading.jl:1116"
     ]
    }
   ],
   "source": [
    "model = Model(with_optimizer(Ipopt.Optimizer, print_level = 0))\n",
    "#   RM E P1 P2 C R1 R2 SW DC  \n",
    "A=[ [1 0 -20 -40 0 30 45 0 0];\n",
    "    [0 1 -1 -2 0 0 0 0 0.1];\n",
    "    [0 0 100 0 -1 0 0 0 0];\n",
    "    [0 0 0 100 -1 0 0 0 0];\n",
    "    [0 0 0 0 1 0 0 -30 -20];\n",
    "    [0 0 0 0 0 -50 -50 22 0]]\n",
    "\n",
    "B=[[0.25 0.2 2 1 0 2 5 1 10];\n",
    "    [0 0 0 0 0.4 5 5 0 2];\n",
    "    [0 0 0 0 0 15 0 8 5]]\n",
    "\n",
    "m=[0.2 0.4]\n",
    "@variables(model, begin\n",
    "    f[1:6] ≥ 0\n",
    "    g[1:3] ≥ 0\n",
    "    s[1:9] ≥ 0\n",
    "    x[1:2] ≥ 0  #a_c variable \n",
    "    xs[1:2] ≥ 0 #a_s variable\n",
    "    xl[1:2] ≥ 0 #b_s variable\n",
    "    -0.5 ≤ slack ≤ 0.5\n",
    "end)\n",
    "@constraints(model, begin\n",
    "    constr1[i=1:2], sum(A[i,j]*s[j] for j in 1:9) == f[i]\n",
    "    constr2[i=3:4], sum(A[i,j]*s[j] for j in 1:9 if j!=5)+sum(A[i,j]*s[j]*x[i-2] for j in 1:9 if j==5) == f[i]\n",
    "    constr3[i=5:6], sum(A[i,j]*s[j] for j in 1:9) == f[i]\n",
    "    xs[1]*(A[6,6]*s[6]+A[6,7]*s[7])==A[6,6]*s[6]\n",
    "    xs[2]*(A[6,6]*s[6]+A[6,7]*s[7])==A[6,7]*s[7]\n",
    "    (B[2,8]+B[3,8])*s[8]*xl[1]-A[6,6]*s[6]==-1*A[5,8]*s[8]*m[1]*x[1]/1.4\n",
    "    (B[2,8]+B[3,8])*s[8]*xl[2]-A[6,7]*s[7]==-1*A[5,8]*s[8]*m[2]*x[2]/1.4\n",
    "    xs[2]==xl[2]\n",
    "    -1*A[6,7]*s[7]<=(m[2]*x[2]*s[5])+((A[5,9]+B[2,9]+B[3,9])*m[2]*x[2]*s[9]/1.4)-((B[2,8]+B[3,8])*s[8]*xl[2])\n",
    "    B*s.==g\n",
    "    (x[1]+x[2])*s[5]==300\n",
    "    (m[1]*x[1])+(m[2]*x[2])==1+B[2,5]\n",
    "    constr[i=1:6],f[i]==0\n",
    "    #f[1]==0\n",
    "end)\n",
    "@objective(model, Min, g[1]) #Impact(GWP)\n",
    "JuMP.optimize!(model)\n",
    "\n",
    "print(model)\n",
    "println(\"\\n\\nTotal Flow (Objective value): \", JuMP.objective_value(model))\n",
    "println(\"\\nScaling Factors:\\n RM      Elec  P1   P2      C      R1      R2      SW     DC\")\n",
    "print(round.(JuMP.value.(s),digits=3))\n",
    "println(\"\\nItems chosen:\\nP1    P2\")\n",
    "print(round.(JuMP.value.(100*s[3:4]),digits=0))\n",
    "println(\"\\nFinal Demands:\")\n",
    "print(JuMP.value.(f))\n",
    "\n",
    "\n",
    "@NLobjective(model, Max, (0.8*A[1,6]*s[6]+0.8*A[1,7]*s[7]+A[2,9]*s[9]*0.2)/(s[1]+0.2*s[2])) #Dc\n",
    "JuMP.optimize!(model)\n",
    "print(model)\n",
    "println(\"\\n\\nTotal Flow (Objective value): \", JuMP.objective_value(model))\n",
    "println(\"\\nScaling Factors:\\n RM      Elec  P1   P2      C      R1      R2      SW     DC\")\n",
    "print(round.(JuMP.value.(s),digits=3))\n",
    "println(\"\\nItems chosen:\\nP1    P2\")\n",
    "print(round.(JuMP.value.(100*s[3:4]),digits=0))\n",
    "println(\"\\nFinal Demands:\")\n",
    "print(JuMP.value.(f))"
   ]
  },
  {
   "cell_type": "markdown",
   "metadata": {},
   "source": [
    "## Technology Matrix and Intervention Matrix"
   ]
  },
  {
   "cell_type": "code",
   "execution_count": 13,
   "metadata": {},
   "outputs": [
    {
     "data": {
      "text/plain": [
       "6×9 view(::Array{Float64,2}, 1:6, 1:9) with eltype Float64:\n",
       " 1.0  0.0  -20.0  -40.0   0.0   30.0   45.0    0.0    0.0\n",
       " 0.0  1.0   -1.0   -2.0   0.0    0.0    0.0    0.0    0.1\n",
       " 0.0  0.0  100.0    0.0  -1.0    0.0    0.0    0.0    0.0\n",
       " 0.0  0.0    0.0  100.0  -1.0    0.0    0.0    0.0    0.0\n",
       " 0.0  0.0    0.0    0.0   1.0    0.0    0.0  -30.0  -20.0\n",
       " 0.0  0.0    0.0    0.0   0.0  -50.0  -50.0   22.0    0.0"
      ]
     },
     "execution_count": 13,
     "metadata": {},
     "output_type": "execute_result"
    }
   ],
   "source": [
    "view(A,1:6,1:9)"
   ]
  },
  {
   "cell_type": "code",
   "execution_count": 14,
   "metadata": {},
   "outputs": [
    {
     "data": {
      "text/plain": [
       "3×9 view(::Array{Float64,2}, 1:3, 1:9) with eltype Float64:\n",
       " 0.25  0.2  2.0  1.0  0.0   2.0  5.0  1.0  10.0\n",
       " 0.0   0.0  0.0  0.0  0.4   5.0  5.0  0.0   2.0\n",
       " 0.0   0.0  0.0  0.0  0.0  15.0  0.0  8.0   5.0"
      ]
     },
     "execution_count": 14,
     "metadata": {},
     "output_type": "execute_result"
    }
   ],
   "source": [
    "view(B,1:3,1:9)"
   ]
  },
  {
   "cell_type": "markdown",
   "metadata": {},
   "source": [
    "# Appendix A.1.2: Recycle Loop Optimization Problem"
   ]
  },
  {
   "cell_type": "code",
   "execution_count": 15,
   "metadata": {},
   "outputs": [
    {
     "name": "stdout",
     "output_type": "stream",
     "text": [
      "\n",
      "\n",
      "Total Flow (Objective value): 16.88571428571429\n",
      "\n",
      "Scaling Factors:\n",
      "[34.28571428571429, 3.0, 3.0, 42.857142857142854, 0.8571428571428571]\n",
      "Final Demands:\n",
      "[0.0, 0.0, 0.0, 0.0]\n",
      "\n",
      "Welcome to the CBC MILP Solver \n",
      "Version: 2.10.3 \n",
      "Build Date: Jan  1 1970 \n",
      "\n",
      "command line - Cbc_C_Interface -LogLevel 1 -solve -quit (default strategy 1)\n",
      "Presolve 0 (-10) rows, 0 (-12) columns and 0 (-26) elements\n",
      "Empty problem - 0 rows, 0 columns and 0 elements\n",
      "Optimal - objective value 16.885714\n",
      "After Postsolve, objective 16.885714, infeasibilities - dual 0 (0), primal 0 (0)\n",
      "Optimal objective 16.88571429 - 0 iterations time 0.002, Presolve 0.00\n",
      "Total time (CPU seconds):       0.00   (Wallclock seconds):       0.00\n",
      "\n"
     ]
    }
   ],
   "source": [
    "model = Model(with_optimizer(Cbc.Optimizer, LogLevel=1))\n",
    "A=[[1 0 -20 0 30];[0 1 -1 0 0];[0 0 100 -7 0];[0 0 0 1 -50]]\n",
    "B=[[0.25 0.2 2 0 2];[0 0 0 0.4 5];[0 0 0 0 15]]\n",
    "@variables(model, begin\n",
    "    f[1:4] ≥ 0\n",
    "    g[1:3] ≥ 0\n",
    "    s[1:5] ≥ 0\n",
    "end)\n",
    "@constraints(model, begin\n",
    "    A*s.==f\n",
    "    B*s.==g\n",
    "    7*s[4]==300\n",
    "    constr[i=3:4],f[i]==0\n",
    "end)\n",
    "\n",
    "@objective(model, Min, g[1])\n",
    "JuMP.optimize!(model)\n",
    "\n",
    "println(\"\\n\\nTotal Flow (Objective value): \", JuMP.objective_value(model))\n",
    "println(\"\\nScaling Factors:\")\n",
    "print(JuMP.value.(s))\n",
    "println(\"\\nFinal Demands:\")\n",
    "print(JuMP.value.(f))\n",
    "println(\"\\n\")"
   ]
  },
  {
   "cell_type": "markdown",
   "metadata": {},
   "source": [
    "# Appendix A.1.3: Recycling and Down-Cycling Optimization "
   ]
  },
  {
   "cell_type": "code",
   "execution_count": 16,
   "metadata": {},
   "outputs": [
    {
     "name": "stdout",
     "output_type": "stream",
     "text": [
      "\n",
      "\n",
      "Total Flow (Objective value): 16.885714285714272\n",
      "\n",
      "Scaling Factors:\n",
      "[34.28571428571428, 3.0, 3.0, 42.857142857142854, 0.8571428571428571, 0.0]\n",
      "Final Demands:\n",
      "[0.0, 0.0, 0.0, 0.0]\n",
      "\n",
      "Welcome to the CBC MILP Solver \n",
      "Version: 2.10.3 \n",
      "Build Date: Jan  1 1970 \n",
      "\n",
      "command line - Cbc_C_Interface -LogLevel 0 -solve -quit (default strategy 1)\n",
      "Presolve 0 (-10) rows, 0 (-13) columns and 0 (-31) elements\n",
      "Empty problem - 0 rows, 0 columns and 0 elements\n",
      "Optimal - objective value 16.885714\n",
      "After Postsolve, objective 16.885714, infeasibilities - dual 0 (0), primal 0 (0)\n",
      "Optimal objective 16.88571429 - 0 iterations time 0.002, Presolve 0.00\n"
     ]
    }
   ],
   "source": [
    "model = Model(with_optimizer(Cbc.Optimizer, LogLevel=0))\n",
    "A=[[1 0 -20 0 30 0];[0 1 -1 0 0 0.1];[0 0 100 -7 0 0];[0 0 0 1 -50 -20]]\n",
    "B=[[0.25 0.2 2 0 2 10];[0 0 0 0.4 5 2];[0 0 0 0 15 5]]\n",
    "@variables(model, begin\n",
    "    f[1:4] ≥ 0\n",
    "    g[1:3] ≥ 0\n",
    "    s[1:6] ≥ 0\n",
    "end)\n",
    "@constraints(model, begin\n",
    "    A*s.==f\n",
    "    B*s.==g\n",
    "    7*s[4]==300\n",
    "    constr[i=3:4],f[i]==0\n",
    "end)\n",
    "\n",
    "@objective(model, Min, g[1])\n",
    "JuMP.optimize!(model)\n",
    "\n",
    "println(\"\\n\\nTotal Flow (Objective value): \", JuMP.objective_value(model))\n",
    "println(\"\\nScaling Factors:\")\n",
    "print(JuMP.value.(s))\n",
    "println(\"\\nFinal Demands:\")\n",
    "print(JuMP.value.(f))\n",
    "println(\"\\n\");"
   ]
  },
  {
   "cell_type": "markdown",
   "metadata": {},
   "source": [
    "## With Mandatory Sorting"
   ]
  },
  {
   "cell_type": "code",
   "execution_count": 17,
   "metadata": {},
   "outputs": [
    {
     "name": "stdout",
     "output_type": "stream",
     "text": [
      "\n",
      "\n",
      "Total Flow (Objective value): 19.57142857142857\n",
      "\n",
      "Scaling Factors:\n",
      "[41.14285714285714, 3.0, 3.0, 42.857142857142854, 0.6285714285714284, 0.0, 1.4285714285714284]\n",
      "Final Demands:\n",
      "[0.0, 0.0, 0.0, 0.0, 0.0]\n",
      "\n",
      "Welcome to the CBC MILP Solver \n",
      "Version: 2.10.3 \n",
      "Build Date: Jan  1 1970 \n",
      "\n",
      "command line - Cbc_C_Interface -solve -quit (default strategy 1)\n",
      "Presolve 0 (-12) rows, 0 (-15) columns and 0 (-37) elements\n",
      "Empty problem - 0 rows, 0 columns and 0 elements\n",
      "Optimal - objective value 19.571429\n",
      "After Postsolve, objective 19.571429, infeasibilities - dual 0 (0), primal 0 (0)\n",
      "Optimal objective 19.57142857 - 0 iterations time 0.002, Presolve 0.00\n",
      "Total time (CPU seconds):       0.00   (Wallclock seconds):       0.00\n",
      "\n"
     ]
    }
   ],
   "source": [
    "model = Model(with_optimizer(Cbc.Optimizer))\n",
    "A=[[1 0 -20 0 30 0 0];\n",
    "   [0 1 -1 0 0 0.1 0];\n",
    "   [0 0 100 -7 0 0 0];\n",
    "   [0 0 0 1 0 -20 -30];\n",
    "   [0 0 0 0 -50 0 22]]\n",
    "\n",
    "B=[[0.25 0.2 2 0 2 10 1];\n",
    "   [0 0 0 0.4 5 2 0];\n",
    "   [0 0 0 0 15 5 8]]\n",
    "\n",
    "@variables(model, begin\n",
    "    f[1:5] ≥ 0\n",
    "    g[1:3] ≥ 0\n",
    "    s[1:7] ≥ 0\n",
    "end)\n",
    "@constraints(model, begin\n",
    "    A*s.==f\n",
    "    B*s.==g\n",
    "    7*s[4]==300\n",
    "    constr[i=3:5],f[i]==0\n",
    "end)\n",
    "\n",
    "@objective(model, Min, g[1])\n",
    "JuMP.optimize!(model)\n",
    "\n",
    "println(\"\\n\\nTotal Flow (Objective value): \", JuMP.objective_value(model))\n",
    "println(\"\\nScaling Factors:\")\n",
    "print(JuMP.value.(s))\n",
    "println(\"\\nFinal Demands:\")\n",
    "print(JuMP.value.(f))\n",
    "println(\"\\n\")"
   ]
  },
  {
   "cell_type": "markdown",
   "metadata": {},
   "source": [
    "## Technology Matrix and Intervention Matrix for A.1.3"
   ]
  },
  {
   "cell_type": "code",
   "execution_count": 18,
   "metadata": {},
   "outputs": [
    {
     "data": {
      "text/plain": [
       "5×7 view(::Array{Float64,2}, 1:5, 1:7) with eltype Float64:\n",
       " 1.0  0.0  -20.0   0.0   30.0    0.0    0.0\n",
       " 0.0  1.0   -1.0   0.0    0.0    0.1    0.0\n",
       " 0.0  0.0  100.0  -7.0    0.0    0.0    0.0\n",
       " 0.0  0.0    0.0   1.0    0.0  -20.0  -30.0\n",
       " 0.0  0.0    0.0   0.0  -50.0    0.0   22.0"
      ]
     },
     "execution_count": 18,
     "metadata": {},
     "output_type": "execute_result"
    }
   ],
   "source": [
    "view(A,1:5,1:7)"
   ]
  },
  {
   "cell_type": "code",
   "execution_count": 19,
   "metadata": {},
   "outputs": [
    {
     "data": {
      "text/plain": [
       "3×7 view(::Array{Float64,2}, 1:3, 1:7) with eltype Float64:\n",
       " 0.25  0.2  2.0  0.0   2.0  10.0  1.0\n",
       " 0.0   0.0  0.0  0.4   5.0   2.0  0.0\n",
       " 0.0   0.0  0.0  0.0  15.0   5.0  8.0"
      ]
     },
     "execution_count": 19,
     "metadata": {},
     "output_type": "execute_result"
    }
   ],
   "source": [
    "view(B,1:3,1:7)"
   ]
  },
  {
   "cell_type": "code",
   "execution_count": null,
   "metadata": {},
   "outputs": [],
   "source": []
  }
 ],
 "metadata": {
  "kernelspec": {
   "display_name": "Julia 1.6.3",
   "language": "julia",
   "name": "julia-1.6"
  },
  "language_info": {
   "file_extension": ".jl",
   "mimetype": "application/julia",
   "name": "julia",
   "version": "1.6.3"
  }
 },
 "nbformat": 4,
 "nbformat_minor": 4
}
