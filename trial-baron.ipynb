{
 "cells": [
  {
   "cell_type": "code",
   "execution_count": 3,
   "id": "0cd38929",
   "metadata": {},
   "outputs": [
    {
     "name": "stderr",
     "output_type": "stream",
     "text": [
      "\u001b[32m\u001b[1m  Activating\u001b[22m\u001b[39m environment at `~/Documents/project-codes/Plan_RoadmapsIAM/toy-problem/baron_env/Project.toml`\n"
     ]
    }
   ],
   "source": [
    "\n",
    "using Pkg\n",
    "Pkg.activate(\"./baron_env\")\n",
    "#Pkg.pin(\"JuMP\")\n",
    "#Pkg.pin(\"Gurobi\")\n",
    "using JuMP\n",
    "using CSV\n",
    "using GraphRecipes, Plots\n",
    "using LightGraphs\n",
    "using LinearAlgebra\n",
    "using SparseArrays\n",
    "using DataFrames\n",
    "using BARON"
   ]
  },
  {
   "cell_type": "code",
   "execution_count": 4,
   "id": "6cd49756",
   "metadata": {},
   "outputs": [
    {
     "data": {
      "text/plain": [
       "7"
      ]
     },
     "execution_count": 4,
     "metadata": {},
     "output_type": "execute_result"
    }
   ],
   "source": [
    "innovations = CSV.File(\"./innovations.csv\",header=1,delim=\",\") |> DataFrame\n",
    "mapki = CSV.File(\"./map-ki.csv\",header=1,delim=\",\") |> DataFrame\n",
    "compromise = CSV.File(\"./compromise.csv\",header=1,delim=\",\") |> DataFrame\n",
    "initial = CSV.File(\"./initial.csv\",header=1,delim=\",\") |> DataFrame\n",
    "ci=innovations[!,2]\n",
    "rl=innovations[!,3]\n",
    "initial\n",
    "innovations[2,6]=7\n",
    "#innovations[2,3]=2\n",
    "#innovations[2,2]=142"
   ]
  },
  {
   "cell_type": "code",
   "execution_count": 5,
   "id": "050a94c4",
   "metadata": {},
   "outputs": [],
   "source": [
    "#using Pkg;\n",
    "#Pkg.build(\"BARON\")"
   ]
  },
  {
   "cell_type": "code",
   "execution_count": 44,
   "id": "160b339d",
   "metadata": {},
   "outputs": [
    {
     "data": {
      "text/plain": [
       "get_RL_atT (generic function with 1 method)"
      ]
     },
     "execution_count": 44,
     "metadata": {},
     "output_type": "execute_result"
    }
   ],
   "source": [
    "function get_transition_mat(i)\n",
    "    p_mat=reshape(collect(innovations[i,9:33]),5,5)\n",
    "    return p_mat'\n",
    "end\n",
    "\n",
    "\n",
    "function get_rate_mat(i)\n",
    "    p_mat=get_transition_mat(i)\n",
    "    q_mat=p_mat./collect(innovations[i,4:8])\n",
    "    for i in 1:5\n",
    "        q_mat[i,i]=-1*sum(q_mat[i,j] for j in 1:5 if j!=i)\n",
    "    end\n",
    "    return q_mat\n",
    "end\n",
    "\n",
    "function get_IAM_factor(t)\n",
    "    return 1\n",
    "end\n",
    "\n",
    "function give_sorted(t)\n",
    "    v=sortperm(t)\n",
    "    return v\n",
    "end\n",
    "\n",
    "function calc_tot_co2(x,t)\n",
    "    v=give_sorted(t)\n",
    "    for i in 1:(size(tk)[1]-1)\n",
    "        print(initial[1,3]*tk[v][1]-sum(xk[v[j]]*tk[v][j+1]*(initial[1,3]-compromise[v,3][j]) for j in 1:i))\n",
    "        print(\"\\n\")\n",
    "    end\n",
    "    return 1\n",
    "end\n",
    "\n",
    "function get_RL_atT(i,t)\n",
    "    s0=[0 0 0 0 0]\n",
    "    s0[rl[i]]=1\n",
    "    q=get_rate_mat(i)\n",
    "    rl_t=sum([1 2 3 4 5].*(s0*exp(q*t)))\n",
    "    #rl_t=sum([1 2 3 4 5].*(s0*(I+t*q+1/2*t^2*q^2)))\n",
    "    #temp1=Diagonal(eigvals(q))\n",
    "    #temp2=reshape(reduce(vcat,(exp.(temp1))),5,5)\n",
    "    #d=eigvecs(q)'*(temp2)*inv(eigvecs(q)')\n",
    "    #rl_t=sum([1 2 3 4 5].*(s0*d))\n",
    "    return rl_t\n",
    "end\n"
   ]
  },
  {
   "cell_type": "code",
   "execution_count": 45,
   "id": "54e9fd3d-1d93-4b82-afa2-ecff64de11c4",
   "metadata": {},
   "outputs": [
    {
     "data": {
      "text/plain": [
       "4.216387738396684"
      ]
     },
     "execution_count": 45,
     "metadata": {},
     "output_type": "execute_result"
    }
   ],
   "source": [
    "get_RL_atT(3,50)"
   ]
  },
  {
   "cell_type": "code",
   "execution_count": 46,
   "id": "b9a5bd8e",
   "metadata": {},
   "outputs": [
    {
     "data": {
      "text/plain": [
       "tech_roadmap (generic function with 1 method)"
      ]
     },
     "execution_count": 46,
     "metadata": {},
     "output_type": "execute_result"
    }
   ],
   "source": [
    "function tech_roadmap()\n",
    "    rdmap= Model(BARON.Optimizer)\n",
    "    @variable(rdmap,yk[k=1:nrow(compromise)],Bin)\n",
    "    @variable(rdmap,0 ≤ tk[k=1:nrow(compromise)] ≤ 50)\n",
    "    @variable(rdmap,0 ≤ xk[k=1:nrow(compromise)] ≤ 1)\n",
    "    @variable(rdmap,yi[i=1:nrow(innovations)],Bin)\n",
    "    @variable(rdmap,0 ≤ ti[i=1:nrow(innovations)] ≤ 50)\n",
    "    @variable(rdmap, 1 ≤ s[i=1:nrow(innovations)] )\n",
    "    \n",
    "    @variable(rdmap, co2_2050 ≥ 0)\n",
    "    @variable(rdmap, co2_total ≥ 0)\n",
    "    @variable(rdmap, cost_inn≥ 0)\n",
    "    \n",
    "    @constraint(rdmap, [i=1], sum(yk[k] for k=1:mapki[i,2])==yi[i])\n",
    "    @constraint(rdmap, [i=2:nrow(mapki)], sum(yk[k] for k=mapki[i-1,2]:mapki[i,2])==yi[i])\n",
    "    \n",
    "    @constraint(rdmap, [i=1,k=1:mapki[i,2]], ti[i] ≤ tk[k])\n",
    "    @constraint(rdmap, [i=2:nrow(mapki),k=mapki[i-1,2]:mapki[i,2]], ti[i] ≤ tk[k])\n",
    "    \n",
    "    @constraint(rdmap, [i=1:nrow(mapki)], 50*yi[i] ≥ ti[i])\n",
    "    @constraint(rdmap, [k=1:nrow(compromise)], 50*yk[k] ≥ tk[k])\n",
    "    \n",
    "    @constraint(rdmap, [k=1:nrow(compromise)], yk[k] ≥ xk[k])\n",
    "    @constraint(rdmap, sum(xk[k] for k in 1:nrow(compromise)) ≤ 1) \n",
    "    \n",
    "    \n",
    "    @constraint(rdmap, co2_2050==sum(xk[k]*compromise[k,3]*get_IAM_factor(tk[k]) for k in 1:nrow(compromise))\n",
    "        + (1-sum(xk[k] for k in 1:nrow(compromise)))*initial[1,3])\n",
    "    \n",
    "    #@constraint(rdmap, co2_total == calc_tot_co2(xk,tk))\n",
    "    \n",
    "    @constraint(rdmap, [i=1:nrow(innovations)], s[i]==get_RL_atT(i,ti[i]))\n",
    "    \n",
    "    @constraint(rdmap, co2_2050 ≤ 75)\n",
    "    @constraint(rdmap, cost_inn == sum(ci[i]*(yi[i]*(5-s[i])) for i in 1:nrow(innovations)))\n",
    "    @objective(rdmap,Min, cost_inn)\n",
    "    \n",
    "    optimize!(rdmap)\n",
    "    return JuMP.value.(yk), JuMP.value.(tk), JuMP.value.(xk), JuMP.value.(yi), JuMP.value.(ti), JuMP.value.(s), JuMP.value.(co2_2050), JuMP.value.(cost_inn)  \n",
    "end"
   ]
  },
  {
   "cell_type": "code",
   "execution_count": 47,
   "id": "e971da9a",
   "metadata": {
    "scrolled": true
   },
   "outputs": [
    {
     "ename": "LoadError",
     "evalue": "MethodError: no method matching exp(::Matrix{AffExpr})\n\u001b[0mClosest candidates are:\n\u001b[0m  exp(\u001b[91m::StridedMatrix{var\"#s814\"} where var\"#s814\"<:Union{Float32, Float64, ComplexF32, ComplexF64}\u001b[39m) at /buildworker/worker/package_linux64/build/usr/share/julia/stdlib/v1.6/LinearAlgebra/src/dense.jl:557\n\u001b[0m  exp(\u001b[91m::StridedMatrix{var\"#s814\"} where var\"#s814\"<:Union{Integer, Complex{var\"#s813\"} where var\"#s813\"<:Integer}\u001b[39m) at /buildworker/worker/package_linux64/build/usr/share/julia/stdlib/v1.6/LinearAlgebra/src/dense.jl:558\n\u001b[0m  exp(\u001b[91m::UniformScaling\u001b[39m) at /buildworker/worker/package_linux64/build/usr/share/julia/stdlib/v1.6/LinearAlgebra/src/uniformscaling.jl:174\n\u001b[0m  ...",
     "output_type": "error",
     "traceback": [
      "MethodError: no method matching exp(::Matrix{AffExpr})\n\u001b[0mClosest candidates are:\n\u001b[0m  exp(\u001b[91m::StridedMatrix{var\"#s814\"} where var\"#s814\"<:Union{Float32, Float64, ComplexF32, ComplexF64}\u001b[39m) at /buildworker/worker/package_linux64/build/usr/share/julia/stdlib/v1.6/LinearAlgebra/src/dense.jl:557\n\u001b[0m  exp(\u001b[91m::StridedMatrix{var\"#s814\"} where var\"#s814\"<:Union{Integer, Complex{var\"#s813\"} where var\"#s813\"<:Integer}\u001b[39m) at /buildworker/worker/package_linux64/build/usr/share/julia/stdlib/v1.6/LinearAlgebra/src/dense.jl:558\n\u001b[0m  exp(\u001b[91m::UniformScaling\u001b[39m) at /buildworker/worker/package_linux64/build/usr/share/julia/stdlib/v1.6/LinearAlgebra/src/uniformscaling.jl:174\n\u001b[0m  ...",
      "",
      "Stacktrace:",
      "  [1] get_RL_atT(i::Int64, t::VariableRef)",
      "    @ Main ./In[44]:38",
      "  [2] macro expansion",
      "    @ ~/.julia/packages/MutableArithmetics/0Y9ZS/src/rewrite.jl:279 [inlined]",
      "  [3] macro expansion",
      "    @ ~/.julia/packages/JuMP/klrjG/src/macros.jl:676 [inlined]",
      "  [4] (::var\"#258#276\"{Vector{VariableRef}, Vector{VariableRef}, Model})(i::Int64)",
      "    @ Main ~/.julia/packages/JuMP/klrjG/src/Containers/macro.jl:194",
      "  [5] #36",
      "    @ ~/.julia/packages/JuMP/klrjG/src/Containers/container.jl:72 [inlined]",
      "  [6] iterate",
      "    @ ./generator.jl:47 [inlined]",
      "  [7] collect(itr::Base.Generator{JuMP.Containers.VectorizedProductIterator{Tuple{Base.OneTo{Int64}}}, JuMP.Containers.var\"#36#37\"{var\"#258#276\"{Vector{VariableRef}, Vector{VariableRef}, Model}}})",
      "    @ Base ./array.jl:681",
      "  [8] map",
      "    @ ./abstractarray.jl:2323 [inlined]",
      "  [9] container",
      "    @ ~/.julia/packages/JuMP/klrjG/src/Containers/container.jl:72 [inlined]",
      " [10] container",
      "    @ ~/.julia/packages/JuMP/klrjG/src/Containers/container.jl:66 [inlined]",
      " [11] tech_roadmap()",
      "    @ Main ./In[46]:32",
      " [12] top-level scope",
      "    @ In[47]:1",
      " [13] eval",
      "    @ ./boot.jl:360 [inlined]",
      " [14] include_string(mapexpr::typeof(REPL.softscope), mod::Module, code::String, filename::String)",
      "    @ Base ./loading.jl:1116"
     ]
    }
   ],
   "source": [
    "yk, tk, xk, yi, ti, s, co2, cost1=tech_roadmap()\n",
    "yi"
   ]
  },
  {
   "cell_type": "code",
   "execution_count": 36,
   "id": "385863c0",
   "metadata": {},
   "outputs": [
    {
     "data": {
      "text/plain": [
       "5-element Vector{Float64}:\n",
       " 0.0\n",
       " 0.0\n",
       " 0.0\n",
       " 0.0\n",
       " 0.0"
      ]
     },
     "execution_count": 36,
     "metadata": {},
     "output_type": "execute_result"
    }
   ],
   "source": [
    "ti"
   ]
  },
  {
   "cell_type": "code",
   "execution_count": 37,
   "id": "7a1746e6",
   "metadata": {},
   "outputs": [
    {
     "data": {
      "text/plain": [
       "5-element Vector{Float64}:\n",
       " 0.0\n",
       " 1.0\n",
       " 0.0\n",
       " 0.0\n",
       " 0.0"
      ]
     },
     "execution_count": 37,
     "metadata": {},
     "output_type": "execute_result"
    }
   ],
   "source": [
    "yi"
   ]
  },
  {
   "cell_type": "code",
   "execution_count": 38,
   "id": "f1bc445a-189b-46db-9787-4d7e0bb692ee",
   "metadata": {},
   "outputs": [
    {
     "data": {
      "text/plain": [
       "75.0"
      ]
     },
     "execution_count": 38,
     "metadata": {},
     "output_type": "execute_result"
    }
   ],
   "source": [
    "co2"
   ]
  },
  {
   "cell_type": "code",
   "execution_count": 39,
   "id": "aaa08e92-1891-4d57-9f48-64bb590664a1",
   "metadata": {},
   "outputs": [
    {
     "data": {
      "text/plain": [
       "5-element Vector{Float64}:\n",
       " 2.0\n",
       " 2.9999999999999987\n",
       " 1.0\n",
       " 3.000000000000001\n",
       " 1.0"
      ]
     },
     "execution_count": 39,
     "metadata": {},
     "output_type": "execute_result"
    }
   ],
   "source": [
    "s"
   ]
  },
  {
   "cell_type": "code",
   "execution_count": 40,
   "id": "2858b727",
   "metadata": {},
   "outputs": [
    {
     "data": {
      "text/plain": [
       "244.00000000000017"
      ]
     },
     "execution_count": 40,
     "metadata": {},
     "output_type": "execute_result"
    }
   ],
   "source": [
    "cost1"
   ]
  },
  {
   "cell_type": "code",
   "execution_count": 41,
   "id": "7daab2db",
   "metadata": {},
   "outputs": [
    {
     "data": {
      "text/html": [
       "<div class=\"data-frame\"><p>5 rows × 33 columns (omitted printing of 24 columns)</p><table class=\"data-frame\"><thead><tr><th></th><th>i</th><th>Cost_per_RL</th><th>RL</th><th>Sojourn1</th><th>Sojourn2</th><th>Sojourn3</th><th>Sojourn4</th><th>Sojourn5</th><th>P11</th></tr><tr><th></th><th title=\"Int64\">Int64</th><th title=\"Int64\">Int64</th><th title=\"Int64\">Int64</th><th title=\"Float64\">Float64</th><th title=\"Float64\">Float64</th><th title=\"Float64\">Float64</th><th title=\"Float64\">Float64</th><th title=\"Float64\">Float64</th><th title=\"Int64\">Int64</th></tr></thead><tbody><tr><th>1</th><td>1</td><td>92</td><td>2</td><td>4.6</td><td>1.34</td><td>2.04</td><td>0.12</td><td>8.86</td><td>0</td></tr><tr><th>2</th><td>2</td><td>122</td><td>3</td><td>8.32</td><td>8.84</td><td>7.0</td><td>9.9</td><td>9.65</td><td>0</td></tr><tr><th>3</th><td>3</td><td>78</td><td>1</td><td>4.44</td><td>1.21</td><td>5.09</td><td>6.52</td><td>8.67</td><td>0</td></tr><tr><th>4</th><td>4</td><td>131</td><td>3</td><td>5.48</td><td>7.62</td><td>3.34</td><td>5.05</td><td>5.6</td><td>0</td></tr><tr><th>5</th><td>5</td><td>95</td><td>1</td><td>9.94</td><td>2.38</td><td>7.94</td><td>3.82</td><td>5.44</td><td>0</td></tr></tbody></table></div>"
      ],
      "text/latex": [
       "\\begin{tabular}{r|cccccccccc}\n",
       "\t& i & Cost\\_per\\_RL & RL & Sojourn1 & Sojourn2 & Sojourn3 & Sojourn4 & Sojourn5 & P11 & \\\\\n",
       "\t\\hline\n",
       "\t& Int64 & Int64 & Int64 & Float64 & Float64 & Float64 & Float64 & Float64 & Int64 & \\\\\n",
       "\t\\hline\n",
       "\t1 & 1 & 92 & 2 & 4.6 & 1.34 & 2.04 & 0.12 & 8.86 & 0 & $\\dots$ \\\\\n",
       "\t2 & 2 & 122 & 3 & 8.32 & 8.84 & 7.0 & 9.9 & 9.65 & 0 & $\\dots$ \\\\\n",
       "\t3 & 3 & 78 & 1 & 4.44 & 1.21 & 5.09 & 6.52 & 8.67 & 0 & $\\dots$ \\\\\n",
       "\t4 & 4 & 131 & 3 & 5.48 & 7.62 & 3.34 & 5.05 & 5.6 & 0 & $\\dots$ \\\\\n",
       "\t5 & 5 & 95 & 1 & 9.94 & 2.38 & 7.94 & 3.82 & 5.44 & 0 & $\\dots$ \\\\\n",
       "\\end{tabular}\n"
      ],
      "text/plain": [
       "\u001b[1m5×33 DataFrame\u001b[0m\n",
       "\u001b[1m Row \u001b[0m│\u001b[1m i     \u001b[0m\u001b[1m Cost_per_RL \u001b[0m\u001b[1m RL    \u001b[0m\u001b[1m Sojourn1 \u001b[0m\u001b[1m Sojourn2 \u001b[0m\u001b[1m Sojourn3 \u001b[0m\u001b[1m Sojourn4 \u001b[0m\u001b[1m Sojo\u001b[0m ⋯\n",
       "\u001b[1m     \u001b[0m│\u001b[90m Int64 \u001b[0m\u001b[90m Int64       \u001b[0m\u001b[90m Int64 \u001b[0m\u001b[90m Float64  \u001b[0m\u001b[90m Float64  \u001b[0m\u001b[90m Float64  \u001b[0m\u001b[90m Float64  \u001b[0m\u001b[90m Floa\u001b[0m ⋯\n",
       "─────┼──────────────────────────────────────────────────────────────────────────\n",
       "   1 │     1           92      2      4.6       1.34      2.04      0.12       ⋯\n",
       "   2 │     2          122      3      8.32      8.84      7.0       9.9\n",
       "   3 │     3           78      1      4.44      1.21      5.09      6.52\n",
       "   4 │     4          131      3      5.48      7.62      3.34      5.05\n",
       "   5 │     5           95      1      9.94      2.38      7.94      3.82       ⋯\n",
       "\u001b[36m                                                              26 columns omitted\u001b[0m"
      ]
     },
     "execution_count": 41,
     "metadata": {},
     "output_type": "execute_result"
    }
   ],
   "source": [
    "innovations"
   ]
  },
  {
   "cell_type": "code",
   "execution_count": 42,
   "id": "e0dd093a",
   "metadata": {},
   "outputs": [
    {
     "data": {
      "text/plain": [
       "-41.11305631301775"
      ]
     },
     "execution_count": 42,
     "metadata": {},
     "output_type": "execute_result"
    }
   ],
   "source": [
    "get_RL_atT(4,50)"
   ]
  },
  {
   "cell_type": "code",
   "execution_count": 43,
   "id": "a60414f8",
   "metadata": {},
   "outputs": [
    {
     "data": {
      "text/plain": [
       "2-element Vector{Vector{Vector{Real}}}:\n",
       " [[0, 0.76, 0.21, 0.03, 0]]\n",
       " [[0, 0.76, 0.21, 0.03, 0]]"
      ]
     },
     "execution_count": 43,
     "metadata": {},
     "output_type": "execute_result"
    }
   ],
   "source": [
    "i=1\n",
    "eDtmc=[[collect(innovations[i,9:13])],[collect(innovations[i,9:13])]]"
   ]
  },
  {
   "cell_type": "code",
   "execution_count": 44,
   "id": "525e6be7",
   "metadata": {},
   "outputs": [
    {
     "data": {
      "text/html": [
       "<p>DataFrameRow (5 columns)</p><div class=\"data-frame\"><table class=\"data-frame\"><thead><tr><th></th><th>P11</th><th>P12</th><th>P13</th><th>P14</th><th>P15</th></tr><tr><th></th><th title=\"Int64\">Int64</th><th title=\"Float64\">Float64</th><th title=\"Float64\">Float64</th><th title=\"Float64\">Float64</th><th title=\"Int64\">Int64</th></tr></thead><tbody><tr><th>1</th><td>0</td><td>0.76</td><td>0.21</td><td>0.03</td><td>0</td></tr></tbody></table></div>"
      ],
      "text/latex": [
       "\\begin{tabular}{r|ccccc}\n",
       "\t& P11 & P12 & P13 & P14 & P15\\\\\n",
       "\t\\hline\n",
       "\t& Int64 & Float64 & Float64 & Float64 & Int64\\\\\n",
       "\t\\hline\n",
       "\t1 & 0 & 0.76 & 0.21 & 0.03 & 0 \\\\\n",
       "\\end{tabular}\n"
      ],
      "text/plain": [
       "\u001b[1mDataFrameRow\u001b[0m\n",
       "\u001b[1m Row \u001b[0m│\u001b[1m P11   \u001b[0m\u001b[1m P12     \u001b[0m\u001b[1m P13     \u001b[0m\u001b[1m P14     \u001b[0m\u001b[1m P15   \u001b[0m\n",
       "\u001b[1m     \u001b[0m│\u001b[90m Int64 \u001b[0m\u001b[90m Float64 \u001b[0m\u001b[90m Float64 \u001b[0m\u001b[90m Float64 \u001b[0m\u001b[90m Int64 \u001b[0m\n",
       "─────┼─────────────────────────────────────────\n",
       "   1 │     0     0.76     0.21     0.03      0"
      ]
     },
     "execution_count": 44,
     "metadata": {},
     "output_type": "execute_result"
    }
   ],
   "source": [
    "innovations[1,9:13]"
   ]
  },
  {
   "cell_type": "code",
   "execution_count": 45,
   "id": "048bd6da",
   "metadata": {},
   "outputs": [
    {
     "data": {
      "text/plain": [
       "5-element Vector{Real}:\n",
       " 0\n",
       " 0.76\n",
       " 0.21\n",
       " 0.03\n",
       " 0"
      ]
     },
     "execution_count": 45,
     "metadata": {},
     "output_type": "execute_result"
    }
   ],
   "source": [
    "collect(innovations[i,9:13])"
   ]
  },
  {
   "cell_type": "code",
   "execution_count": 46,
   "id": "2945163c",
   "metadata": {},
   "outputs": [
    {
     "data": {
      "text/plain": [
       "5×5 Matrix{Float64}:\n",
       " 0.0771895  0.128895   0.138814   0.385642  0.269459\n",
       " 0.0679296  0.114343   0.130868   0.400474  0.286385\n",
       " 0.0452652  0.0776663  0.109623   0.437398  0.330047\n",
       " 0.0280624  0.0499089  0.0930683  0.465243  0.363718\n",
       " 0.0252328  0.0453331  0.0902223  0.46976   0.369452"
      ]
     },
     "execution_count": 46,
     "metadata": {},
     "output_type": "execute_result"
    }
   ],
   "source": [
    "g=exp(get_rate_mat(2)*50)\n"
   ]
  },
  {
   "cell_type": "code",
   "execution_count": 101,
   "id": "9d70e055",
   "metadata": {},
   "outputs": [
    {
     "data": {
      "image/svg+xml": [
       "<?xml version=\"1.0\" encoding=\"utf-8\"?>\n",
       "<svg xmlns=\"http://www.w3.org/2000/svg\" xmlns:xlink=\"http://www.w3.org/1999/xlink\" width=\"600\" height=\"400\" viewBox=\"0 0 2400 1600\">\n",
       "<defs>\n",
       "  <clipPath id=\"clip070\">\n",
       "    <rect x=\"0\" y=\"0\" width=\"2400\" height=\"1600\"/>\n",
       "  </clipPath>\n",
       "</defs>\n",
       "<path clip-path=\"url(#clip070)\" d=\"\n",
       "M0 1600 L2400 1600 L2400 0 L0 0  Z\n",
       "  \" fill=\"#ffffff\" fill-rule=\"evenodd\" fill-opacity=\"1\"/>\n",
       "<defs>\n",
       "  <clipPath id=\"clip071\">\n",
       "    <rect x=\"480\" y=\"0\" width=\"1681\" height=\"1600\"/>\n",
       "  </clipPath>\n",
       "</defs>\n",
       "<path clip-path=\"url(#clip070)\" d=\"\n",
       "M447.244 1552.76 L1952.76 1552.76 L1952.76 47.2441 L447.244 47.2441  Z\n",
       "  \" fill=\"#ffffff\" fill-rule=\"evenodd\" fill-opacity=\"1\"/>\n",
       "<defs>\n",
       "  <clipPath id=\"clip072\">\n",
       "    <rect x=\"447\" y=\"47\" width=\"1507\" height=\"1507\"/>\n",
       "  </clipPath>\n",
       "</defs>\n",
       "<polyline clip-path=\"url(#clip072)\" style=\"stroke:#000000; stroke-linecap:butt; stroke-linejoin:round; stroke-width:4; stroke-opacity:0.7; fill:none\" points=\"\n",
       "  1364.94,1455.03 1367.7,1462.57 1370.45,1470.08 1373.2,1477.51 1375.92,1484.82 1378.63,1491.97 1381.31,1498.93 1383.95,1505.64 1386.56,1512.07 1389.13,1518.19 \n",
       "  1391.64,1523.95 1394.1,1529.31 1396.5,1534.23 1398.84,1538.68 1401.11,1542.65 1403.3,1546.16 1405.43,1549.21 1407.47,1551.81 1409.44,1553.98 1411.32,1555.73 \n",
       "  1413.12,1557.08 1414.83,1558.02 1416.45,1558.58 1417.98,1558.76 1419.41,1558.58 1420.74,1558.04 1421.98,1557.17 1423.1,1555.94 1424.11,1554.39 1425,1552.49 \n",
       "  1425.77,1550.26 1426.41,1547.7 1426.92,1544.81 1427.28,1541.59 1427.51,1538.05 1427.58,1534.19 1427.5,1530.01 1427.26,1525.52 1426.86,1520.72 1426.31,1515.65 \n",
       "  1425.62,1510.31 1424.82,1504.75 1423.91,1498.98 1422.91,1493.03 1421.82,1486.93 1420.67,1480.7 1419.47,1474.37 1418.22,1467.97 1416.95,1461.51 1415.66,1455.03 \n",
       "  \n",
       "  \"/>\n",
       "<polyline clip-path=\"url(#clip072)\" style=\"stroke:#000000; stroke-linecap:butt; stroke-linejoin:round; stroke-width:4; stroke-opacity:0.7; fill:none\" points=\"\n",
       "  1405.01,1493.84 1415.66,1455.03 1440.32,1486.84 \n",
       "  \"/>\n",
       "<polyline clip-path=\"url(#clip072)\" style=\"stroke:#000000; stroke-linecap:butt; stroke-linejoin:round; stroke-width:4; stroke-opacity:0.7; fill:none\" points=\"\n",
       "  1415.66,1455.03 1416.95,1461.51 \n",
       "  \"/>\n",
       "<polyline clip-path=\"url(#clip072)\" style=\"stroke:#000000; stroke-linecap:butt; stroke-linejoin:round; stroke-width:4; stroke-opacity:0.7; fill:none\" points=\"\n",
       "  1355.02,1337.68 1374.35,1328.71 1393.65,1319.74 1412.87,1310.74 1431.98,1301.72 1450.93,1292.66 1469.69,1283.55 1488.22,1274.39 1506.48,1265.16 1524.43,1255.86 \n",
       "  1542.04,1246.47 1559.26,1237 1576.06,1227.42 1592.39,1217.73 1608.23,1207.92 1623.52,1197.98 1638.24,1187.9 1652.34,1177.68 1665.79,1167.29 1678.55,1156.74 \n",
       "  1690.57,1146.02 1701.83,1135.11 1712.28,1124 1721.88,1112.7 1730.59,1101.17 1738.39,1089.43 1745.26,1077.47 1751.24,1065.29 1756.38,1052.91 1760.71,1040.34 \n",
       "  1764.27,1027.58 1767.1,1014.65 1769.24,1001.55 1770.73,988.288 1771.59,974.882 1771.88,961.337 1771.63,947.663 1770.88,933.869 1769.67,919.964 1768.04,905.957 \n",
       "  1766.02,891.857 1763.66,877.675 1760.98,863.418 1758.04,849.097 1754.87,834.72 1751.5,820.297 1747.98,805.837 1744.34,791.349 1740.63,776.842 1736.88,762.327 \n",
       "  \n",
       "  \"/>\n",
       "<polyline clip-path=\"url(#clip072)\" style=\"stroke:#000000; stroke-linecap:butt; stroke-linejoin:round; stroke-width:4; stroke-opacity:0.7; fill:none\" points=\"\n",
       "  1728.46,801.685 1736.88,762.327 1763.32,792.679 \n",
       "  \"/>\n",
       "<polyline clip-path=\"url(#clip072)\" style=\"stroke:#000000; stroke-linecap:butt; stroke-linejoin:round; stroke-width:4; stroke-opacity:0.7; fill:none\" points=\"\n",
       "  1736.88,762.327 1740.63,776.842 \n",
       "  \"/>\n",
       "<polyline clip-path=\"url(#clip072)\" style=\"stroke:#000000; stroke-linecap:butt; stroke-linejoin:round; stroke-width:4; stroke-opacity:0.7; fill:none\" points=\"\n",
       "  1355.02,1337.68 1339.68,1329.16 1324.38,1320.64 1309.15,1312.11 1294.03,1303.59 1279.07,1295.07 1264.29,1286.54 1249.74,1278.01 1235.45,1269.48 1221.46,1260.96 \n",
       "  1207.81,1252.42 1194.53,1243.89 1181.66,1235.36 1169.24,1226.82 1157.31,1218.28 1145.9,1209.74 1135.06,1201.19 1124.81,1192.64 1115.21,1184.09 1106.27,1175.54 \n",
       "  1098.05,1166.98 1090.57,1158.42 1083.88,1149.85 1078.02,1141.28 1073.02,1132.71 1068.91,1124.13 1065.71,1115.55 1063.36,1106.96 1061.84,1098.37 1061.1,1089.77 \n",
       "  1061.11,1081.18 1061.84,1072.57 1063.23,1063.97 1065.27,1055.36 1067.9,1046.75 1071.1,1038.13 1074.82,1029.52 1079.03,1020.9 1083.68,1012.28 1088.75,1003.65 \n",
       "  1094.2,995.026 1099.98,986.399 1106.06,977.77 1112.4,969.14 1118.96,960.509 1125.72,951.877 1132.62,943.244 1139.64,934.611 1146.73,925.977 1153.86,917.343 \n",
       "  \n",
       "  \"/>\n",
       "<polyline clip-path=\"url(#clip072)\" style=\"stroke:#000000; stroke-linecap:butt; stroke-linejoin:round; stroke-width:4; stroke-opacity:0.7; fill:none\" points=\"\n",
       "  1117.06,933.644 1153.86,917.343 1144.82,956.564 \n",
       "  \"/>\n",
       "<polyline clip-path=\"url(#clip072)\" style=\"stroke:#000000; stroke-linecap:butt; stroke-linejoin:round; stroke-width:4; stroke-opacity:0.7; fill:none\" points=\"\n",
       "  1153.86,917.343 1146.73,925.977 \n",
       "  \"/>\n",
       "<polyline clip-path=\"url(#clip072)\" style=\"stroke:#000000; stroke-linecap:butt; stroke-linejoin:round; stroke-width:4; stroke-opacity:0.7; fill:none\" points=\"\n",
       "  1355.02,1337.68 1333.79,1340.26 1312.59,1342.81 1291.45,1345.3 1270.4,1347.71 1249.46,1350.02 1228.66,1352.18 1208.03,1354.19 1187.6,1356.01 1167.4,1357.61 \n",
       "  1147.46,1358.97 1127.8,1360.06 1108.46,1360.85 1089.45,1361.31 1070.82,1361.43 1052.58,1361.16 1034.77,1360.49 1017.42,1359.39 1000.55,1357.83 984.194,1355.78 \n",
       "  968.379,1353.22 953.133,1350.11 938.485,1346.44 924.463,1342.18 911.096,1337.29 898.412,1331.76 886.409,1325.57 875.062,1318.77 864.341,1311.37 854.217,1303.4 \n",
       "  844.664,1294.89 835.651,1285.87 827.15,1276.36 819.134,1266.4 811.574,1255.99 804.44,1245.19 797.705,1234 791.34,1222.47 785.317,1210.61 779.607,1198.45 \n",
       "  774.182,1186.02 769.013,1173.35 764.072,1160.46 759.33,1147.38 754.759,1134.15 750.33,1120.77 746.016,1107.29 741.786,1093.72 737.614,1080.11 733.47,1066.46 \n",
       "  \n",
       "  \"/>\n",
       "<polyline clip-path=\"url(#clip072)\" style=\"stroke:#000000; stroke-linecap:butt; stroke-linejoin:round; stroke-width:4; stroke-opacity:0.7; fill:none\" points=\"\n",
       "  726.708,1106.14 733.47,1066.46 761.154,1095.68 \n",
       "  \"/>\n",
       "<polyline clip-path=\"url(#clip072)\" style=\"stroke:#000000; stroke-linecap:butt; stroke-linejoin:round; stroke-width:4; stroke-opacity:0.7; fill:none\" points=\"\n",
       "  733.47,1066.46 737.614,1080.11 \n",
       "  \"/>\n",
       "<polyline clip-path=\"url(#clip072)\" style=\"stroke:#000000; stroke-linecap:butt; stroke-linejoin:round; stroke-width:4; stroke-opacity:0.7; fill:none\" points=\"\n",
       "  1355.02,1337.68 1336.15,1318.19 1317.32,1298.69 1298.57,1279.19 1279.95,1259.7 1261.49,1240.2 1243.24,1220.7 1225.23,1201.2 1207.52,1181.7 1190.13,1162.2 \n",
       "  1173.11,1142.69 1156.5,1123.19 1140.35,1103.68 1124.68,1084.17 1109.56,1064.66 1095.01,1045.14 1081.07,1025.62 1067.79,1006.1 1055.22,986.577 1043.38,967.049 \n",
       "  1032.32,947.518 1022.09,927.983 1012.72,908.445 1004.26,888.902 996.736,869.355 990.202,849.803 984.653,830.247 980.049,810.687 976.351,791.123 973.516,771.555 \n",
       "  971.503,751.983 970.272,732.408 969.781,712.829 969.989,693.247 970.856,673.662 972.338,654.075 974.397,634.484 976.99,614.892 980.077,595.297 983.616,575.7 \n",
       "  987.566,556.101 991.887,536.501 996.536,516.899 1001.47,497.296 1006.66,477.692 1012.05,458.087 1017.6,438.481 1023.28,418.874 1029.04,399.267 1034.84,379.66 \n",
       "  \n",
       "  \"/>\n",
       "<polyline clip-path=\"url(#clip072)\" style=\"stroke:#000000; stroke-linecap:butt; stroke-linejoin:round; stroke-width:4; stroke-opacity:0.7; fill:none\" points=\"\n",
       "  1007.36,409.075 1034.84,379.66 1041.89,419.288 \n",
       "  \"/>\n",
       "<polyline clip-path=\"url(#clip072)\" style=\"stroke:#000000; stroke-linecap:butt; stroke-linejoin:round; stroke-width:4; stroke-opacity:0.7; fill:none\" points=\"\n",
       "  1034.84,379.66 1029.04,399.267 \n",
       "  \"/>\n",
       "<polyline clip-path=\"url(#clip072)\" style=\"stroke:#000000; stroke-linecap:butt; stroke-linejoin:round; stroke-width:4; stroke-opacity:0.7; fill:none\" points=\"\n",
       "  1737.68,644.984 1718.35,653.952 1699.05,662.93 1679.82,671.926 1660.72,680.95 1641.77,690.011 1623.01,699.118 1604.48,708.28 1586.22,717.507 1568.27,726.809 \n",
       "  1550.66,736.193 1533.44,745.67 1516.64,755.249 1500.31,764.938 1484.47,774.748 1469.18,784.687 1454.46,794.765 1440.35,804.991 1426.9,815.374 1414.15,825.924 \n",
       "  1402.12,836.649 1390.87,847.559 1380.42,858.664 1370.82,869.971 1362.11,881.492 1354.31,893.234 1347.44,905.197 1341.46,917.373 1336.32,929.753 1331.99,942.327 \n",
       "  1328.42,955.085 1325.59,968.02 1323.46,981.121 1321.97,994.379 1321.11,1007.78 1320.82,1021.33 1321.06,1035 1321.81,1048.8 1323.02,1062.7 1324.66,1076.71 \n",
       "  1326.68,1090.81 1329.04,1104.99 1331.72,1119.25 1334.66,1133.57 1337.83,1147.95 1341.2,1162.37 1344.72,1176.83 1348.35,1191.32 1352.07,1205.82 1355.82,1220.34 \n",
       "  \n",
       "  \"/>\n",
       "<polyline clip-path=\"url(#clip072)\" style=\"stroke:#000000; stroke-linecap:butt; stroke-linejoin:round; stroke-width:4; stroke-opacity:0.7; fill:none\" points=\"\n",
       "  1364.24,1180.98 1355.82,1220.34 1329.38,1189.99 \n",
       "  \"/>\n",
       "<polyline clip-path=\"url(#clip072)\" style=\"stroke:#000000; stroke-linecap:butt; stroke-linejoin:round; stroke-width:4; stroke-opacity:0.7; fill:none\" points=\"\n",
       "  1355.82,1220.34 1352.07,1205.82 \n",
       "  \"/>\n",
       "<polyline clip-path=\"url(#clip072)\" style=\"stroke:#000000; stroke-linecap:butt; stroke-linejoin:round; stroke-width:4; stroke-opacity:0.7; fill:none\" points=\"\n",
       "  1608.49,655.906 1627.94,652.426 1647.25,648.956 1666.3,645.51 1684.94,642.097 1703.03,638.728 1720.46,635.416 1737.07,632.171 1752.73,629.005 1767.32,625.928 \n",
       "  1780.69,622.951 1792.71,620.087 1803.25,617.347 1812.18,614.739 1819.53,612.267 1825.42,609.927 1829.95,607.715 1833.23,605.629 1835.35,603.666 1836.44,601.823 \n",
       "  1836.59,600.096 1835.92,598.483 1834.53,596.98 1832.52,595.585 1830.01,594.294 1827.09,593.104 1823.88,592.014 1820.47,591.023 1816.96,590.131 1813.45,589.337 \n",
       "  1810.03,588.64 1806.81,588.04 1803.87,587.536 1801.33,587.128 1799.27,586.816 1797.79,586.598 1797,586.475 1796.99,586.446 1797.8,586.508 1799.38,586.653 \n",
       "  1801.66,586.875 1804.57,587.166 1808.03,587.518 1811.98,587.923 1816.35,588.373 1821.07,588.862 1826.07,589.382 1831.28,589.924 1836.62,590.482 1842.04,591.047 \n",
       "  \n",
       "  \"/>\n",
       "<polyline clip-path=\"url(#clip072)\" style=\"stroke:#000000; stroke-linecap:butt; stroke-linejoin:round; stroke-width:4; stroke-opacity:0.7; fill:none\" points=\"\n",
       "  1808.1,569.408 1842.04,591.047 1804.36,605.213 \n",
       "  \"/>\n",
       "<polyline clip-path=\"url(#clip072)\" style=\"stroke:#000000; stroke-linecap:butt; stroke-linejoin:round; stroke-width:4; stroke-opacity:0.7; fill:none\" points=\"\n",
       "  1842.04,591.047 1836.62,590.482 \n",
       "  \"/>\n",
       "<polyline clip-path=\"url(#clip072)\" style=\"stroke:#000000; stroke-linecap:butt; stroke-linejoin:round; stroke-width:4; stroke-opacity:0.7; fill:none\" points=\"\n",
       "  1737.68,644.984 1729.23,660.35 1720.78,675.679 1712.32,690.933 1703.86,706.073 1695.4,721.062 1686.94,735.863 1678.47,750.437 1669.99,764.748 1661.51,778.756 \n",
       "  1653.01,792.425 1644.51,805.716 1636,818.593 1627.48,831.017 1618.95,842.95 1610.4,854.355 1601.84,865.195 1593.27,875.43 1584.68,885.025 1576.07,893.94 \n",
       "  1567.45,902.138 1558.81,909.582 1550.15,916.233 1541.48,922.055 1532.78,927.008 1524.06,931.058 1515.32,934.204 1506.56,936.482 1497.78,937.93 1488.98,938.586 \n",
       "  1480.16,938.487 1471.32,937.672 1462.47,936.177 1453.61,934.041 1444.73,931.301 1435.84,927.996 1426.93,924.162 1418.01,919.838 1409.08,915.061 1400.15,909.869 \n",
       "  1391.2,904.3 1382.25,898.391 1373.28,892.18 1364.32,885.705 1355.34,879.004 1346.36,872.115 1337.38,865.074 1328.4,857.92 1319.41,850.691 1310.43,843.424 \n",
       "  \n",
       "  \"/>\n",
       "<polyline clip-path=\"url(#clip072)\" style=\"stroke:#000000; stroke-linecap:butt; stroke-linejoin:round; stroke-width:4; stroke-opacity:0.7; fill:none\" points=\"\n",
       "  1327.1,880.056 1310.43,843.424 1349.74,852.063 \n",
       "  \"/>\n",
       "<polyline clip-path=\"url(#clip072)\" style=\"stroke:#000000; stroke-linecap:butt; stroke-linejoin:round; stroke-width:4; stroke-opacity:0.7; fill:none\" points=\"\n",
       "  1310.43,843.424 1319.41,850.691 \n",
       "  \"/>\n",
       "<polyline clip-path=\"url(#clip072)\" style=\"stroke:#000000; stroke-linecap:butt; stroke-linejoin:round; stroke-width:4; stroke-opacity:0.7; fill:none\" points=\"\n",
       "  1737.68,644.984 1718.07,663.843 1698.45,682.661 1678.84,701.396 1659.23,720.009 1639.63,738.458 1620.03,756.701 1600.43,774.699 1580.85,792.409 1561.27,809.791 \n",
       "  1541.7,826.805 1522.14,843.407 1502.59,859.559 1483.05,875.218 1463.53,890.345 1444.02,904.896 1424.53,918.833 1405.05,932.113 1385.59,944.696 1366.14,956.541 \n",
       "  1346.72,967.606 1327.32,977.851 1307.94,987.235 1288.58,995.716 1269.24,1003.25 1249.93,1009.81 1230.64,1015.38 1211.37,1020.01 1192.13,1023.74 1172.91,1026.6 \n",
       "  1153.71,1028.64 1134.52,1029.91 1115.36,1030.44 1096.21,1030.27 1077.08,1029.44 1057.97,1028 1038.87,1025.98 1019.78,1023.43 1000.7,1020.39 981.635,1016.9 \n",
       "  962.58,1012.99 943.534,1008.72 924.496,1004.12 905.465,999.232 886.44,994.099 867.42,988.76 848.404,983.257 829.392,977.631 810.381,971.922 791.371,966.173 \n",
       "  \n",
       "  \"/>\n",
       "<polyline clip-path=\"url(#clip072)\" style=\"stroke:#000000; stroke-linecap:butt; stroke-linejoin:round; stroke-width:4; stroke-opacity:0.7; fill:none\" points=\"\n",
       "  820.619,993.824 791.371,966.173 831.04,959.365 \n",
       "  \"/>\n",
       "<polyline clip-path=\"url(#clip072)\" style=\"stroke:#000000; stroke-linecap:butt; stroke-linejoin:round; stroke-width:4; stroke-opacity:0.7; fill:none\" points=\"\n",
       "  791.371,966.173 810.381,971.922 \n",
       "  \"/>\n",
       "<polyline clip-path=\"url(#clip072)\" style=\"stroke:#000000; stroke-linecap:butt; stroke-linejoin:round; stroke-width:4; stroke-opacity:0.7; fill:none\" points=\"\n",
       "  1737.68,644.984 1716.46,647.559 1695.26,650.106 1674.12,652.6 1653.07,655.012 1632.13,657.317 1611.33,659.486 1590.7,661.493 1570.27,663.31 1550.07,664.912 \n",
       "  1530.13,666.27 1510.47,667.358 1491.12,668.148 1472.12,668.614 1453.48,668.728 1435.25,668.464 1417.44,667.794 1400.09,666.692 1383.22,665.13 1366.86,663.082 \n",
       "  1351.05,660.52 1335.8,657.417 1321.15,653.746 1307.13,649.48 1293.76,644.593 1281.08,639.058 1269.08,632.875 1257.73,626.07 1247.01,618.671 1236.88,610.703 \n",
       "  1227.33,602.195 1218.32,593.174 1209.82,583.665 1201.8,573.697 1194.24,563.297 1187.11,552.491 1180.37,541.306 1174.01,529.77 1167.98,517.909 1162.27,505.751 \n",
       "  1156.85,493.323 1151.68,480.651 1146.74,467.764 1142,454.686 1137.43,441.447 1133,428.072 1128.68,414.59 1124.45,401.026 1120.28,387.408 1116.14,373.763 \n",
       "  \n",
       "  \"/>\n",
       "<polyline clip-path=\"url(#clip072)\" style=\"stroke:#000000; stroke-linecap:butt; stroke-linejoin:round; stroke-width:4; stroke-opacity:0.7; fill:none\" points=\"\n",
       "  1109.37,413.44 1116.14,373.763 1143.82,402.979 \n",
       "  \"/>\n",
       "<polyline clip-path=\"url(#clip072)\" style=\"stroke:#000000; stroke-linecap:butt; stroke-linejoin:round; stroke-width:4; stroke-opacity:0.7; fill:none\" points=\"\n",
       "  1116.14,373.763 1120.28,387.408 \n",
       "  \"/>\n",
       "<polyline clip-path=\"url(#clip072)\" style=\"stroke:#000000; stroke-linecap:butt; stroke-linejoin:round; stroke-width:4; stroke-opacity:0.7; fill:none\" points=\"\n",
       "  1200,800 1215.34,808.523 1230.64,817.046 1245.87,825.569 1260.98,834.093 1275.95,842.618 1290.72,851.144 1305.28,859.67 1319.57,868.198 1333.56,876.728 \n",
       "  1347.21,885.259 1360.49,893.792 1373.36,902.327 1385.77,910.864 1397.7,919.404 1409.11,927.946 1419.96,936.491 1430.2,945.039 1439.81,953.59 1448.75,962.145 \n",
       "  1456.97,970.703 1464.44,979.264 1471.13,987.83 1477,996.4 1482,1004.97 1486.1,1013.55 1489.31,1022.13 1491.66,1030.72 1493.18,1039.31 1493.92,1047.91 \n",
       "  1493.9,1056.51 1493.18,1065.11 1491.78,1073.71 1489.75,1082.32 1487.11,1090.93 1483.92,1099.55 1480.2,1108.17 1475.99,1116.79 1471.33,1125.41 1466.26,1134.03 \n",
       "  1460.82,1142.66 1455.04,1151.28 1448.96,1159.91 1442.62,1168.54 1436.05,1177.17 1429.3,1185.81 1422.39,1194.44 1415.38,1203.07 1408.29,1211.71 1401.16,1220.34 \n",
       "  \n",
       "  \"/>\n",
       "<polyline clip-path=\"url(#clip072)\" style=\"stroke:#000000; stroke-linecap:butt; stroke-linejoin:round; stroke-width:4; stroke-opacity:0.7; fill:none\" points=\"\n",
       "  1437.96,1204.04 1401.16,1220.34 1410.2,1181.12 \n",
       "  \"/>\n",
       "<polyline clip-path=\"url(#clip072)\" style=\"stroke:#000000; stroke-linecap:butt; stroke-linejoin:round; stroke-width:4; stroke-opacity:0.7; fill:none\" points=\"\n",
       "  1401.16,1220.34 1408.29,1211.71 \n",
       "  \"/>\n",
       "<polyline clip-path=\"url(#clip072)\" style=\"stroke:#000000; stroke-linecap:butt; stroke-linejoin:round; stroke-width:4; stroke-opacity:0.7; fill:none\" points=\"\n",
       "  1200,800 1208.45,784.634 1216.91,769.305 1225.36,754.051 1233.82,738.911 1242.28,723.922 1250.75,709.121 1259.22,694.547 1267.69,680.236 1276.18,666.228 \n",
       "  1284.67,652.559 1293.17,639.267 1301.68,626.391 1310.2,613.967 1318.74,602.034 1327.28,590.629 1335.84,579.789 1344.42,569.554 1353.01,559.959 1361.61,551.044 \n",
       "  1370.23,542.846 1378.87,535.402 1387.53,528.751 1396.21,522.929 1404.9,517.976 1413.62,513.926 1422.37,510.78 1431.13,508.502 1439.91,507.054 1448.71,506.398 \n",
       "  1457.52,506.497 1466.36,507.312 1475.21,508.807 1484.08,510.943 1492.95,513.682 1501.85,516.988 1510.75,520.822 1519.67,525.146 1528.6,529.923 1537.54,535.115 \n",
       "  1546.48,540.684 1555.44,546.593 1564.4,552.804 1573.37,559.279 1582.34,565.98 1591.32,572.869 1600.3,579.91 1609.28,587.064 1618.27,594.293 1627.26,601.56 \n",
       "  \n",
       "  \"/>\n",
       "<polyline clip-path=\"url(#clip072)\" style=\"stroke:#000000; stroke-linecap:butt; stroke-linejoin:round; stroke-width:4; stroke-opacity:0.7; fill:none\" points=\"\n",
       "  1610.58,564.928 1627.26,601.56 1587.95,592.921 \n",
       "  \"/>\n",
       "<polyline clip-path=\"url(#clip072)\" style=\"stroke:#000000; stroke-linecap:butt; stroke-linejoin:round; stroke-width:4; stroke-opacity:0.7; fill:none\" points=\"\n",
       "  1627.26,601.56 1618.27,594.293 \n",
       "  \"/>\n",
       "<polyline clip-path=\"url(#clip072)\" style=\"stroke:#000000; stroke-linecap:butt; stroke-linejoin:round; stroke-width:4; stroke-opacity:0.7; fill:none\" points=\"\n",
       "  1108.9,723.103 1124.84,734.092 1140.67,744.996 1156.3,755.73 1171.63,766.208 1186.55,776.345 1200.97,786.057 1214.78,795.258 1227.88,803.862 1240.17,811.785 \n",
       "  1251.55,818.942 1261.92,825.247 1271.18,830.616 1279.23,834.973 1286.1,838.341 1291.87,840.79 1296.6,842.391 1300.37,843.214 1303.27,843.331 1305.35,842.813 \n",
       "  1306.71,841.731 1307.41,840.155 1307.54,838.157 1307.16,835.807 1306.35,833.176 1305.18,830.336 1303.74,827.355 1302.08,824.299 1300.27,821.236 1298.39,818.231 \n",
       "  1296.49,815.351 1294.65,812.662 1292.93,810.232 1291.41,808.126 1290.14,806.412 1289.19,805.155 1288.64,804.422 1288.55,804.279 1288.95,804.756 1289.81,805.808 \n",
       "  1291.08,807.382 1292.73,809.427 1294.72,811.891 1297,814.72 1299.52,817.863 1302.26,821.268 1305.16,824.881 1308.19,828.652 1311.3,832.527 1314.45,836.454 \n",
       "  \n",
       "  \"/>\n",
       "<polyline clip-path=\"url(#clip072)\" style=\"stroke:#000000; stroke-linecap:butt; stroke-linejoin:round; stroke-width:4; stroke-opacity:0.7; fill:none\" points=\"\n",
       "  1305.95,797.112 1314.45,836.454 1277.88,819.646 \n",
       "  \"/>\n",
       "<polyline clip-path=\"url(#clip072)\" style=\"stroke:#000000; stroke-linecap:butt; stroke-linejoin:round; stroke-width:4; stroke-opacity:0.7; fill:none\" points=\"\n",
       "  1314.45,836.454 1311.3,832.527 \n",
       "  \"/>\n",
       "<polyline clip-path=\"url(#clip072)\" style=\"stroke:#000000; stroke-linecap:butt; stroke-linejoin:round; stroke-width:4; stroke-opacity:0.7; fill:none\" points=\"\n",
       "  1200,800 1191.55,815.367 1183.1,830.696 1174.64,845.949 1166.18,861.089 1157.72,876.079 1149.26,890.879 1140.78,905.454 1132.31,919.764 1123.82,933.772 \n",
       "  1115.33,947.441 1106.83,960.733 1098.32,973.609 1089.8,986.033 1081.26,997.966 1072.72,1009.37 1064.16,1020.21 1055.58,1030.45 1047,1040.04 1038.39,1048.96 \n",
       "  1029.77,1057.15 1021.13,1064.6 1012.47,1071.25 1003.79,1077.07 995.095,1082.02 986.376,1086.07 977.635,1089.22 968.873,1091.5 960.092,1092.95 951.293,1093.6 \n",
       "  942.475,1093.5 933.641,1092.69 924.79,1091.19 915.925,1089.06 907.045,1086.32 898.152,1083.01 889.246,1079.18 880.329,1074.85 871.401,1070.08 862.463,1064.88 \n",
       "  853.516,1059.32 844.562,1053.41 835.6,1047.2 826.632,1040.72 817.658,1034.02 808.681,1027.13 799.699,1020.09 790.715,1012.94 781.729,1005.71 772.743,998.439 \n",
       "  \n",
       "  \"/>\n",
       "<polyline clip-path=\"url(#clip072)\" style=\"stroke:#000000; stroke-linecap:butt; stroke-linejoin:round; stroke-width:4; stroke-opacity:0.7; fill:none\" points=\"\n",
       "  789.417,1035.07 772.743,998.439 812.054,1007.08 \n",
       "  \"/>\n",
       "<polyline clip-path=\"url(#clip072)\" style=\"stroke:#000000; stroke-linecap:butt; stroke-linejoin:round; stroke-width:4; stroke-opacity:0.7; fill:none\" points=\"\n",
       "  772.743,998.439 781.729,1005.71 \n",
       "  \"/>\n",
       "<polyline clip-path=\"url(#clip072)\" style=\"stroke:#000000; stroke-linecap:butt; stroke-linejoin:round; stroke-width:4; stroke-opacity:0.7; fill:none\" points=\"\n",
       "  1200,800 1184.66,791.477 1169.36,782.954 1154.13,774.431 1139.02,765.907 1124.06,757.383 1109.28,748.857 1094.73,740.33 1080.44,731.802 1066.44,723.273 \n",
       "  1052.79,714.742 1039.51,706.209 1026.64,697.674 1014.23,689.137 1002.3,680.597 990.889,672.055 980.044,663.51 969.799,654.962 960.19,646.411 951.255,637.856 \n",
       "  943.032,629.298 935.557,620.736 928.869,612.171 923.006,603.601 918.003,595.027 913.898,586.449 910.69,577.866 908.343,569.279 906.82,560.688 906.084,552.093 \n",
       "  906.096,543.494 906.821,534.892 908.219,526.286 910.254,517.677 912.888,509.066 916.084,500.451 919.805,491.834 924.012,483.215 928.668,474.593 933.737,465.969 \n",
       "  939.18,457.344 944.96,448.716 951.04,440.088 957.381,431.457 963.948,422.826 970.702,414.194 977.605,405.561 984.621,396.928 991.712,388.294 998.84,379.66 \n",
       "  \n",
       "  \"/>\n",
       "<polyline clip-path=\"url(#clip072)\" style=\"stroke:#000000; stroke-linecap:butt; stroke-linejoin:round; stroke-width:4; stroke-opacity:0.7; fill:none\" points=\"\n",
       "  962.04,395.961 998.84,379.66 989.801,418.881 \n",
       "  \"/>\n",
       "<polyline clip-path=\"url(#clip072)\" style=\"stroke:#000000; stroke-linecap:butt; stroke-linejoin:round; stroke-width:4; stroke-opacity:0.7; fill:none\" points=\"\n",
       "  998.84,379.66 991.712,388.294 \n",
       "  \"/>\n",
       "<polyline clip-path=\"url(#clip072)\" style=\"stroke:#000000; stroke-linecap:butt; stroke-linejoin:round; stroke-width:4; stroke-opacity:0.7; fill:none\" points=\"\n",
       "  662.317,955.015 683.542,952.44 704.739,949.893 725.879,947.399 746.934,944.987 767.874,942.682 788.672,940.513 809.3,938.506 829.728,936.689 849.928,935.087 \n",
       "  869.872,933.729 889.531,932.642 908.877,931.851 927.882,931.386 946.516,931.271 964.752,931.535 982.56,932.205 999.913,933.307 1016.78,934.869 1033.14,936.918 \n",
       "  1048.95,939.48 1064.2,942.583 1078.85,946.254 1092.87,950.519 1106.24,955.407 1118.92,960.942 1130.92,967.125 1142.27,973.929 1152.99,981.329 1163.12,989.296 \n",
       "  1172.67,997.804 1181.68,1006.83 1190.18,1016.33 1198.2,1026.3 1205.76,1036.7 1212.89,1047.51 1219.63,1058.69 1225.99,1070.23 1232.02,1082.09 1237.73,1094.25 \n",
       "  1243.15,1106.68 1248.32,1119.35 1253.26,1132.24 1258,1145.31 1262.57,1158.55 1267,1171.93 1271.32,1185.41 1275.55,1198.97 1279.72,1212.59 1283.86,1226.24 \n",
       "  \n",
       "  \"/>\n",
       "<polyline clip-path=\"url(#clip072)\" style=\"stroke:#000000; stroke-linecap:butt; stroke-linejoin:round; stroke-width:4; stroke-opacity:0.7; fill:none\" points=\"\n",
       "  1290.62,1186.56 1283.86,1226.24 1256.18,1197.02 \n",
       "  \"/>\n",
       "<polyline clip-path=\"url(#clip072)\" style=\"stroke:#000000; stroke-linecap:butt; stroke-linejoin:round; stroke-width:4; stroke-opacity:0.7; fill:none\" points=\"\n",
       "  1283.86,1226.24 1279.72,1212.59 \n",
       "  \"/>\n",
       "<polyline clip-path=\"url(#clip072)\" style=\"stroke:#000000; stroke-linecap:butt; stroke-linejoin:round; stroke-width:4; stroke-opacity:0.7; fill:none\" points=\"\n",
       "  662.317,955.015 681.932,936.156 701.547,917.338 721.159,898.603 740.768,879.99 760.373,861.541 779.973,843.297 799.567,825.3 819.154,807.59 838.733,790.207 \n",
       "  858.303,773.194 877.863,756.592 897.411,740.44 916.948,724.781 936.471,709.654 955.98,695.103 975.474,681.166 994.952,667.886 1014.41,655.303 1033.86,643.458 \n",
       "  1053.28,632.393 1072.68,622.148 1092.06,612.764 1111.42,604.283 1130.76,596.746 1150.07,590.191 1169.36,584.619 1188.63,579.99 1207.87,576.264 1227.09,573.399 \n",
       "  1246.29,571.354 1265.48,570.089 1284.64,569.562 1303.79,569.733 1322.92,570.56 1342.03,572.002 1361.13,574.018 1380.22,576.568 1399.3,579.61 1418.36,583.103 \n",
       "  1437.42,587.006 1456.47,591.278 1475.5,595.879 1494.54,600.767 1513.56,605.9 1532.58,611.239 1551.6,616.742 1570.61,622.368 1589.62,628.076 1608.63,633.826 \n",
       "  \n",
       "  \"/>\n",
       "<polyline clip-path=\"url(#clip072)\" style=\"stroke:#000000; stroke-linecap:butt; stroke-linejoin:round; stroke-width:4; stroke-opacity:0.7; fill:none\" points=\"\n",
       "  1579.38,606.175 1608.63,633.826 1568.96,640.634 \n",
       "  \"/>\n",
       "<polyline clip-path=\"url(#clip072)\" style=\"stroke:#000000; stroke-linecap:butt; stroke-linejoin:round; stroke-width:4; stroke-opacity:0.7; fill:none\" points=\"\n",
       "  1608.63,633.826 1589.62,628.076 \n",
       "  \"/>\n",
       "<polyline clip-path=\"url(#clip072)\" style=\"stroke:#000000; stroke-linecap:butt; stroke-linejoin:round; stroke-width:4; stroke-opacity:0.7; fill:none\" points=\"\n",
       "  662.317,955.015 670.77,939.649 679.223,924.32 687.678,909.066 696.136,893.926 704.597,878.937 713.063,864.136 721.534,849.562 730.011,835.251 738.495,821.243 \n",
       "  746.988,807.574 755.489,794.283 764,781.406 772.522,768.982 781.056,757.049 789.601,745.644 798.161,734.805 806.734,724.569 815.323,714.975 823.927,706.06 \n",
       "  832.549,697.861 841.189,690.418 849.847,683.766 858.524,677.945 867.223,672.991 875.942,668.941 884.683,665.796 893.444,663.517 902.225,662.069 911.025,661.413 \n",
       "  919.843,661.512 928.677,662.328 937.527,663.822 946.393,665.958 955.273,668.698 964.166,672.004 973.072,675.838 981.989,680.162 990.917,684.939 999.855,690.131 \n",
       "  1008.8,695.7 1017.76,701.609 1026.72,707.82 1035.69,714.294 1044.66,720.996 1053.64,727.885 1062.62,734.926 1071.6,742.08 1080.59,749.309 1089.58,756.576 \n",
       "  \n",
       "  \"/>\n",
       "<polyline clip-path=\"url(#clip072)\" style=\"stroke:#000000; stroke-linecap:butt; stroke-linejoin:round; stroke-width:4; stroke-opacity:0.7; fill:none\" points=\"\n",
       "  1072.9,719.944 1089.58,756.576 1050.26,747.937 \n",
       "  \"/>\n",
       "<polyline clip-path=\"url(#clip072)\" style=\"stroke:#000000; stroke-linecap:butt; stroke-linejoin:round; stroke-width:4; stroke-opacity:0.7; fill:none\" points=\"\n",
       "  1089.58,756.576 1080.59,749.309 \n",
       "  \"/>\n",
       "<polyline clip-path=\"url(#clip072)\" style=\"stroke:#000000; stroke-linecap:butt; stroke-linejoin:round; stroke-width:4; stroke-opacity:0.7; fill:none\" points=\"\n",
       "  533.127,965.937 526.844,968.304 520.59,970.669 514.396,973.03 508.29,975.383 502.303,977.728 496.465,980.061 490.804,982.38 485.351,984.683 480.135,986.968 \n",
       "  475.185,989.232 470.533,991.473 466.206,993.689 462.233,995.877 458.621,998.033 455.371,1000.15 452.48,1002.22 449.946,1004.25 447.77,1006.21 445.948,1008.12 \n",
       "  444.481,1009.96 443.365,1011.72 442.601,1013.41 442.186,1015.01 442.119,1016.52 442.4,1017.93 443.03,1019.24 444.018,1020.43 445.37,1021.51 447.095,1022.45 \n",
       "  449.199,1023.26 451.69,1023.92 454.576,1024.43 457.863,1024.78 461.56,1024.95 465.673,1024.94 470.21,1024.75 475.179,1024.36 480.573,1023.77 486.359,1023 \n",
       "  492.503,1022.07 498.967,1020.99 505.717,1019.77 512.717,1018.44 519.93,1017.01 527.323,1015.5 534.857,1013.92 542.499,1012.29 550.213,1010.63 557.962,1008.95 \n",
       "  \n",
       "  \"/>\n",
       "<polyline clip-path=\"url(#clip072)\" style=\"stroke:#000000; stroke-linecap:butt; stroke-linejoin:round; stroke-width:4; stroke-opacity:0.7; fill:none\" points=\"\n",
       "  518.967,998.98 557.962,1008.95 526.587,1034.16 \n",
       "  \"/>\n",
       "<polyline clip-path=\"url(#clip072)\" style=\"stroke:#000000; stroke-linecap:butt; stroke-linejoin:round; stroke-width:4; stroke-opacity:0.7; fill:none\" points=\"\n",
       "  557.962,1008.95 550.213,1010.63 \n",
       "  \"/>\n",
       "<polyline clip-path=\"url(#clip072)\" style=\"stroke:#000000; stroke-linecap:butt; stroke-linejoin:round; stroke-width:4; stroke-opacity:0.7; fill:none\" points=\"\n",
       "  662.317,955.015 681.654,946.047 700.953,937.069 720.175,928.073 739.281,919.049 758.234,909.988 776.994,900.881 795.523,891.719 813.782,882.492 831.734,873.19 \n",
       "  849.339,863.806 866.56,854.329 883.357,844.751 899.692,835.061 915.528,825.251 930.824,815.312 945.543,805.234 959.646,795.008 973.095,784.625 985.851,774.076 \n",
       "  997.876,763.35 1009.13,752.44 1019.58,741.336 1029.18,730.028 1037.89,718.508 1045.69,706.766 1052.56,694.802 1058.54,682.626 1063.68,670.247 1068.01,657.673 \n",
       "  1071.58,644.914 1074.41,631.98 1076.54,618.879 1078.03,605.621 1078.89,592.215 1079.18,578.67 1078.94,564.996 1078.19,551.202 1076.98,537.297 1075.34,523.29 \n",
       "  1073.32,509.19 1070.96,495.008 1068.28,480.751 1065.34,466.43 1062.17,452.053 1058.8,437.63 1055.28,423.17 1051.65,408.682 1047.93,394.176 1044.18,379.66 \n",
       "  \n",
       "  \"/>\n",
       "<polyline clip-path=\"url(#clip072)\" style=\"stroke:#000000; stroke-linecap:butt; stroke-linejoin:round; stroke-width:4; stroke-opacity:0.7; fill:none\" points=\"\n",
       "  1035.76,419.019 1044.18,379.66 1070.62,410.012 \n",
       "  \"/>\n",
       "<polyline clip-path=\"url(#clip072)\" style=\"stroke:#000000; stroke-linecap:butt; stroke-linejoin:round; stroke-width:4; stroke-opacity:0.7; fill:none\" points=\"\n",
       "  1044.18,379.66 1047.93,394.176 \n",
       "  \"/>\n",
       "<polyline clip-path=\"url(#clip072)\" style=\"stroke:#000000; stroke-linecap:butt; stroke-linejoin:round; stroke-width:4; stroke-opacity:0.7; fill:none\" points=\"\n",
       "  1044.98,262.317 1063.85,281.813 1082.68,301.309 1101.43,320.806 1120.05,340.303 1138.51,359.8 1156.76,379.299 1174.77,398.799 1192.48,418.3 1209.87,437.803 \n",
       "  1226.89,457.307 1243.5,476.813 1259.65,496.321 1275.32,515.832 1290.44,535.344 1304.99,554.86 1318.93,574.378 1332.2,593.899 1344.78,613.423 1356.62,632.951 \n",
       "  1367.68,652.482 1377.91,672.017 1387.28,691.555 1395.74,711.098 1403.26,730.645 1409.8,750.197 1415.35,769.753 1419.95,789.313 1423.65,808.877 1426.48,828.445 \n",
       "  1428.5,848.017 1429.73,867.592 1430.22,887.171 1430.01,906.753 1429.14,926.338 1427.66,945.925 1425.6,965.516 1423.01,985.108 1419.92,1004.7 1416.38,1024.3 \n",
       "  1412.43,1043.9 1408.11,1063.5 1403.46,1083.1 1398.53,1102.7 1393.34,1122.31 1387.95,1141.91 1382.4,1161.52 1376.72,1181.13 1370.96,1200.73 1365.16,1220.34 \n",
       "  \n",
       "  \"/>\n",
       "<polyline clip-path=\"url(#clip072)\" style=\"stroke:#000000; stroke-linecap:butt; stroke-linejoin:round; stroke-width:4; stroke-opacity:0.7; fill:none\" points=\"\n",
       "  1392.63,1190.93 1365.16,1220.34 1358.11,1180.71 \n",
       "  \"/>\n",
       "<polyline clip-path=\"url(#clip072)\" style=\"stroke:#000000; stroke-linecap:butt; stroke-linejoin:round; stroke-width:4; stroke-opacity:0.7; fill:none\" points=\"\n",
       "  1365.16,1220.34 1370.96,1200.73 \n",
       "  \"/>\n",
       "<polyline clip-path=\"url(#clip072)\" style=\"stroke:#000000; stroke-linecap:butt; stroke-linejoin:round; stroke-width:4; stroke-opacity:0.7; fill:none\" points=\"\n",
       "  1044.98,262.317 1066.21,259.742 1087.41,257.195 1108.55,254.701 1129.6,252.289 1150.54,249.984 1171.34,247.815 1191.97,245.808 1212.39,243.991 1232.59,242.389 \n",
       "  1252.54,241.031 1272.2,239.943 1291.54,239.153 1310.55,238.687 1329.18,238.573 1347.42,238.837 1365.23,239.507 1382.58,240.609 1399.45,242.171 1415.81,244.219 \n",
       "  1431.62,246.781 1446.87,249.884 1461.51,253.555 1475.54,257.821 1488.9,262.708 1501.59,268.243 1513.59,274.426 1524.94,281.231 1535.66,288.63 1545.78,296.598 \n",
       "  1555.34,305.106 1564.35,314.127 1572.85,323.636 1580.87,333.604 1588.43,344.004 1595.56,354.81 1602.29,365.995 1608.66,377.531 1614.68,389.392 1620.39,401.55 \n",
       "  1625.82,413.978 1630.99,426.65 1635.93,439.537 1640.67,452.615 1645.24,465.854 1649.67,479.229 1653.98,492.711 1658.21,506.275 1662.39,519.893 1666.53,533.538 \n",
       "  \n",
       "  \"/>\n",
       "<polyline clip-path=\"url(#clip072)\" style=\"stroke:#000000; stroke-linecap:butt; stroke-linejoin:round; stroke-width:4; stroke-opacity:0.7; fill:none\" points=\"\n",
       "  1673.29,493.861 1666.53,533.538 1638.85,504.322 \n",
       "  \"/>\n",
       "<polyline clip-path=\"url(#clip072)\" style=\"stroke:#000000; stroke-linecap:butt; stroke-linejoin:round; stroke-width:4; stroke-opacity:0.7; fill:none\" points=\"\n",
       "  1666.53,533.538 1662.39,519.893 \n",
       "  \"/>\n",
       "<polyline clip-path=\"url(#clip072)\" style=\"stroke:#000000; stroke-linecap:butt; stroke-linejoin:round; stroke-width:4; stroke-opacity:0.7; fill:none\" points=\"\n",
       "  1044.98,262.317 1060.32,270.84 1075.62,279.363 1090.85,287.886 1105.97,296.41 1120.93,304.935 1135.71,313.46 1150.26,321.987 1164.55,330.515 1178.54,339.044 \n",
       "  1192.19,347.576 1205.47,356.109 1218.34,364.644 1230.76,373.181 1242.69,381.72 1254.1,390.263 1264.94,398.808 1275.19,407.356 1284.79,415.907 1293.73,424.461 \n",
       "  1301.95,433.019 1309.43,441.581 1316.12,450.147 1321.98,458.716 1326.98,467.29 1331.09,475.868 1334.3,484.451 1336.64,493.038 1338.16,501.63 1338.9,510.225 \n",
       "  1338.89,518.823 1338.16,527.426 1336.77,536.031 1334.73,544.64 1332.1,553.252 1328.9,561.866 1325.18,570.483 1320.97,579.103 1316.32,587.724 1311.25,596.348 \n",
       "  1305.8,604.974 1300.02,613.601 1293.95,622.23 1287.6,630.86 1281.04,639.491 1274.28,648.123 1267.38,656.756 1260.36,665.389 1253.27,674.023 1246.14,682.657 \n",
       "  \n",
       "  \"/>\n",
       "<polyline clip-path=\"url(#clip072)\" style=\"stroke:#000000; stroke-linecap:butt; stroke-linejoin:round; stroke-width:4; stroke-opacity:0.7; fill:none\" points=\"\n",
       "  1282.94,666.356 1246.14,682.657 1255.18,643.436 \n",
       "  \"/>\n",
       "<polyline clip-path=\"url(#clip072)\" style=\"stroke:#000000; stroke-linecap:butt; stroke-linejoin:round; stroke-width:4; stroke-opacity:0.7; fill:none\" points=\"\n",
       "  1246.14,682.657 1253.27,674.023 \n",
       "  \"/>\n",
       "<polyline clip-path=\"url(#clip072)\" style=\"stroke:#000000; stroke-linecap:butt; stroke-linejoin:round; stroke-width:4; stroke-opacity:0.7; fill:none\" points=\"\n",
       "  1044.98,262.317 1025.65,271.286 1006.35,280.263 987.126,289.259 968.02,298.283 949.068,307.344 930.308,316.451 911.779,325.613 893.519,334.841 875.567,344.142 \n",
       "  857.962,353.526 840.741,363.003 823.944,372.582 807.609,382.271 791.774,392.081 776.477,402.02 761.758,412.098 747.655,422.324 734.206,432.707 721.45,443.257 \n",
       "  709.425,453.982 698.17,464.892 687.723,475.996 678.122,487.304 669.407,498.825 661.614,510.567 654.743,522.53 648.757,534.706 643.618,547.086 639.287,559.659 \n",
       "  635.725,572.418 632.895,585.352 630.758,598.453 629.275,611.711 628.407,625.117 628.117,638.662 628.366,652.336 629.115,666.13 630.326,680.036 631.96,694.042 \n",
       "  633.979,708.142 636.344,722.325 639.018,736.581 641.96,750.903 645.134,765.279 648.5,779.702 652.02,794.162 655.655,808.65 659.368,823.157 663.119,837.672 \n",
       "  \n",
       "  \"/>\n",
       "<polyline clip-path=\"url(#clip072)\" style=\"stroke:#000000; stroke-linecap:butt; stroke-linejoin:round; stroke-width:4; stroke-opacity:0.7; fill:none\" points=\"\n",
       "  671.54,798.314 663.119,837.672 636.684,807.32 \n",
       "  \"/>\n",
       "<polyline clip-path=\"url(#clip072)\" style=\"stroke:#000000; stroke-linecap:butt; stroke-linejoin:round; stroke-width:4; stroke-opacity:0.7; fill:none\" points=\"\n",
       "  663.119,837.672 659.368,823.157 \n",
       "  \"/>\n",
       "<polyline clip-path=\"url(#clip072)\" style=\"stroke:#000000; stroke-linecap:butt; stroke-linejoin:round; stroke-width:4; stroke-opacity:0.7; fill:none\" points=\"\n",
       "  1035.06,144.974 1032.3,137.426 1029.55,129.917 1026.8,122.487 1024.08,115.177 1021.37,108.026 1018.69,101.074 1016.05,94.361 1013.44,87.9261 1010.87,81.8094 \n",
       "  1008.36,76.0507 1005.9,70.6897 1003.49,65.7663 1001.16,61.3166 998.891,57.3454 996.695,53.8412 994.573,50.7927 992.528,48.1882 990.562,46.0163 988.678,44.2654 \n",
       "  986.88,42.924 985.169,41.9805 983.548,41.4235 982.02,41.2415 980.588,41.4228 979.255,41.9562 978.024,42.8346 976.901,44.0551 975.89,45.6149 974.998,47.5114 \n",
       "  974.229,49.7419 973.589,52.3036 973.082,55.1938 972.715,58.4099 972.493,61.9491 972.419,65.8088 972.501,69.9861 972.743,74.4784 973.144,79.2757 973.693,84.3541 \n",
       "  974.375,89.6879 975.178,95.2517 976.088,101.02 977.092,106.967 978.177,113.067 979.328,119.295 980.533,125.626 981.778,132.033 983.049,138.491 984.335,144.974 \n",
       "  \n",
       "  \"/>\n",
       "<polyline clip-path=\"url(#clip072)\" style=\"stroke:#000000; stroke-linecap:butt; stroke-linejoin:round; stroke-width:4; stroke-opacity:0.7; fill:none\" points=\"\n",
       "  994.991,106.161 984.335,144.974 959.678,113.161 \n",
       "  \"/>\n",
       "<polyline clip-path=\"url(#clip072)\" style=\"stroke:#000000; stroke-linecap:butt; stroke-linejoin:round; stroke-width:4; stroke-opacity:0.7; fill:none\" points=\"\n",
       "  984.335,144.974 983.049,138.491 \n",
       "  \"/>\n",
       "<path clip-path=\"url(#clip072)\" d=\"\n",
       "M1337.57 1594.71 L1501.25 1594.71 L1501.25 1522.44 L1337.57 1522.44 L1337.57 1594.71 L1337.57 1594.71  Z\n",
       "  \" fill=\"#ffffff\" fill-rule=\"evenodd\" fill-opacity=\"1\"/>\n",
       "<polyline clip-path=\"url(#clip072)\" style=\"stroke:#a9a9a9; stroke-linecap:butt; stroke-linejoin:round; stroke-width:0; stroke-opacity:0.7; fill:none\" points=\"\n",
       "  1337.57,1594.71 1501.25,1594.71 1501.25,1522.44 1337.57,1522.44 1337.57,1594.71 \n",
       "  \"/>\n",
       "<path clip-path=\"url(#clip072)\" d=\"\n",
       "M1666.15 1131.46 L1803.06 1131.46 L1803.06 1059.2 L1666.15 1059.2 L1666.15 1131.46 L1666.15 1131.46  Z\n",
       "  \" fill=\"#ffffff\" fill-rule=\"evenodd\" fill-opacity=\"1\"/>\n",
       "<polyline clip-path=\"url(#clip072)\" style=\"stroke:#a9a9a9; stroke-linecap:butt; stroke-linejoin:round; stroke-width:0; stroke-opacity:0.7; fill:none\" points=\"\n",
       "  1666.15,1131.46 1803.06,1131.46 1803.06,1059.2 1666.15,1059.2 1666.15,1131.46 \n",
       "  \"/>\n",
       "<path clip-path=\"url(#clip072)\" d=\"\n",
       "M1002.39 1164.55 L1139.31 1164.55 L1139.31 1092.29 L1002.39 1092.29 L1002.39 1164.55 L1002.39 1164.55  Z\n",
       "  \" fill=\"#ffffff\" fill-rule=\"evenodd\" fill-opacity=\"1\"/>\n",
       "<polyline clip-path=\"url(#clip072)\" style=\"stroke:#a9a9a9; stroke-linecap:butt; stroke-linejoin:round; stroke-width:0; stroke-opacity:0.7; fill:none\" points=\"\n",
       "  1002.39,1164.55 1139.31,1164.55 1139.31,1092.29 1002.39,1092.29 1002.39,1164.55 \n",
       "  \"/>\n",
       "<path clip-path=\"url(#clip072)\" d=\"\n",
       "M836.21 1370.74 L973.125 1370.74 L973.125 1298.47 L836.21 1298.47 L836.21 1370.74 L836.21 1370.74  Z\n",
       "  \" fill=\"#ffffff\" fill-rule=\"evenodd\" fill-opacity=\"1\"/>\n",
       "<polyline clip-path=\"url(#clip072)\" style=\"stroke:#a9a9a9; stroke-linecap:butt; stroke-linejoin:round; stroke-width:0; stroke-opacity:0.7; fill:none\" points=\"\n",
       "  836.21,1370.74 973.125,1370.74 973.125,1298.47 836.21,1298.47 836.21,1370.74 \n",
       "  \"/>\n",
       "<path clip-path=\"url(#clip072)\" d=\"\n",
       "M924.886 895.712 L1061.8 895.712 L1061.8 823.447 L924.886 823.447 L924.886 895.712 L924.886 895.712  Z\n",
       "  \" fill=\"#ffffff\" fill-rule=\"evenodd\" fill-opacity=\"1\"/>\n",
       "<polyline clip-path=\"url(#clip072)\" style=\"stroke:#a9a9a9; stroke-linecap:butt; stroke-linejoin:round; stroke-width:0; stroke-opacity:0.7; fill:none\" points=\"\n",
       "  924.886,895.712 1061.8,895.712 1061.8,823.447 924.886,823.447 924.886,895.712 \n",
       "  \"/>\n",
       "<path clip-path=\"url(#clip072)\" d=\"\n",
       "M1276.25 923.467 L1439.93 923.467 L1439.93 851.202 L1276.25 851.202 L1276.25 923.467 L1276.25 923.467  Z\n",
       "  \" fill=\"#ffffff\" fill-rule=\"evenodd\" fill-opacity=\"1\"/>\n",
       "<polyline clip-path=\"url(#clip072)\" style=\"stroke:#a9a9a9; stroke-linecap:butt; stroke-linejoin:round; stroke-width:0; stroke-opacity:0.7; fill:none\" points=\"\n",
       "  1276.25,923.467 1439.93,923.467 1439.93,851.202 1276.25,851.202 1276.25,923.467 \n",
       "  \"/>\n",
       "<path clip-path=\"url(#clip072)\" d=\"\n",
       "M1761.55 630.426 L1898.46 630.426 L1898.46 558.162 L1761.55 558.162 L1761.55 630.426 L1761.55 630.426  Z\n",
       "  \" fill=\"#ffffff\" fill-rule=\"evenodd\" fill-opacity=\"1\"/>\n",
       "<polyline clip-path=\"url(#clip072)\" style=\"stroke:#a9a9a9; stroke-linecap:butt; stroke-linejoin:round; stroke-width:0; stroke-opacity:0.7; fill:none\" points=\"\n",
       "  1761.55,630.426 1898.46,630.426 1898.46,558.162 1761.55,558.162 1761.55,630.426 \n",
       "  \"/>\n",
       "<path clip-path=\"url(#clip072)\" d=\"\n",
       "M1459.96 965.28 L1596.88 965.28 L1596.88 893.016 L1459.96 893.016 L1459.96 965.28 L1459.96 965.28  Z\n",
       "  \" fill=\"#ffffff\" fill-rule=\"evenodd\" fill-opacity=\"1\"/>\n",
       "<polyline clip-path=\"url(#clip072)\" style=\"stroke:#a9a9a9; stroke-linecap:butt; stroke-linejoin:round; stroke-width:0; stroke-opacity:0.7; fill:none\" points=\"\n",
       "  1459.96,965.28 1596.88,965.28 1596.88,893.016 1459.96,893.016 1459.96,965.28 \n",
       "  \"/>\n",
       "<path clip-path=\"url(#clip072)\" d=\"\n",
       "M1205.2 1042.79 L1313.96 1042.79 L1313.96 970.523 L1205.2 970.523 L1205.2 1042.79 L1205.2 1042.79  Z\n",
       "  \" fill=\"#ffffff\" fill-rule=\"evenodd\" fill-opacity=\"1\"/>\n",
       "<polyline clip-path=\"url(#clip072)\" style=\"stroke:#a9a9a9; stroke-linecap:butt; stroke-linejoin:round; stroke-width:0; stroke-opacity:0.7; fill:none\" points=\"\n",
       "  1205.2,1042.79 1313.96,1042.79 1313.96,970.523 1205.2,970.523 1205.2,1042.79 \n",
       "  \"/>\n",
       "<path clip-path=\"url(#clip072)\" d=\"\n",
       "M1218.88 678.04 L1355.79 678.04 L1355.79 605.775 L1218.88 605.775 L1218.88 678.04 L1218.88 678.04  Z\n",
       "  \" fill=\"#ffffff\" fill-rule=\"evenodd\" fill-opacity=\"1\"/>\n",
       "<polyline clip-path=\"url(#clip072)\" style=\"stroke:#a9a9a9; stroke-linecap:butt; stroke-linejoin:round; stroke-width:0; stroke-opacity:0.7; fill:none\" points=\"\n",
       "  1218.88,678.04 1355.79,678.04 1355.79,605.775 1218.88,605.775 1218.88,678.04 \n",
       "  \"/>\n",
       "<path clip-path=\"url(#clip072)\" d=\"\n",
       "M1402.33 1045.39 L1566 1045.39 L1566 973.13 L1402.33 973.13 L1402.33 1045.39 L1402.33 1045.39  Z\n",
       "  \" fill=\"#ffffff\" fill-rule=\"evenodd\" fill-opacity=\"1\"/>\n",
       "<polyline clip-path=\"url(#clip072)\" style=\"stroke:#a9a9a9; stroke-linecap:butt; stroke-linejoin:round; stroke-width:0; stroke-opacity:0.7; fill:none\" points=\"\n",
       "  1402.33,1045.39 1566,1045.39 1566,973.13 1402.33,973.13 1402.33,1045.39 \n",
       "  \"/>\n",
       "<path clip-path=\"url(#clip072)\" d=\"\n",
       "M1327.42 551.968 L1491.1 551.968 L1491.1 479.704 L1327.42 479.704 L1327.42 551.968 L1327.42 551.968  Z\n",
       "  \" fill=\"#ffffff\" fill-rule=\"evenodd\" fill-opacity=\"1\"/>\n",
       "<polyline clip-path=\"url(#clip072)\" style=\"stroke:#a9a9a9; stroke-linecap:butt; stroke-linejoin:round; stroke-width:0; stroke-opacity:0.7; fill:none\" points=\"\n",
       "  1327.42,551.968 1491.1,551.968 1491.1,479.704 1327.42,479.704 1327.42,551.968 \n",
       "  \"/>\n",
       "<path clip-path=\"url(#clip072)\" d=\"\n",
       "M1237.89 869.309 L1374.8 869.309 L1374.8 797.044 L1237.89 797.044 L1237.89 869.309 L1237.89 869.309  Z\n",
       "  \" fill=\"#ffffff\" fill-rule=\"evenodd\" fill-opacity=\"1\"/>\n",
       "<polyline clip-path=\"url(#clip072)\" style=\"stroke:#a9a9a9; stroke-linecap:butt; stroke-linejoin:round; stroke-width:0; stroke-opacity:0.7; fill:none\" points=\"\n",
       "  1237.89,869.309 1374.8,869.309 1374.8,797.044 1237.89,797.044 1237.89,869.309 \n",
       "  \"/>\n",
       "<path clip-path=\"url(#clip072)\" d=\"\n",
       "M922.28 1120.3 L1059.2 1120.3 L1059.2 1048.03 L922.28 1048.03 L922.28 1120.3 L922.28 1120.3  Z\n",
       "  \" fill=\"#ffffff\" fill-rule=\"evenodd\" fill-opacity=\"1\"/>\n",
       "<polyline clip-path=\"url(#clip072)\" style=\"stroke:#a9a9a9; stroke-linecap:butt; stroke-linejoin:round; stroke-width:0; stroke-opacity:0.7; fill:none\" points=\"\n",
       "  922.28,1120.3 1059.2,1120.3 1059.2,1048.03 922.28,1048.03 922.28,1120.3 \n",
       "  \"/>\n",
       "<path clip-path=\"url(#clip072)\" d=\"\n",
       "M847.379 626.871 L984.294 626.871 L984.294 554.606 L847.379 554.606 L847.379 626.871 L847.379 626.871  Z\n",
       "  \" fill=\"#ffffff\" fill-rule=\"evenodd\" fill-opacity=\"1\"/>\n",
       "<polyline clip-path=\"url(#clip072)\" style=\"stroke:#a9a9a9; stroke-linecap:butt; stroke-linejoin:round; stroke-width:0; stroke-opacity:0.7; fill:none\" points=\"\n",
       "  847.379,626.871 984.294,626.871 984.294,554.606 847.379,554.606 847.379,626.871 \n",
       "  \"/>\n",
       "<path clip-path=\"url(#clip072)\" d=\"\n",
       "M1030.83 994.224 L1194.5 994.224 L1194.5 921.96 L1030.83 921.96 L1030.83 994.224 L1030.83 994.224  Z\n",
       "  \" fill=\"#ffffff\" fill-rule=\"evenodd\" fill-opacity=\"1\"/>\n",
       "<polyline clip-path=\"url(#clip072)\" style=\"stroke:#a9a9a9; stroke-linecap:butt; stroke-linejoin:round; stroke-width:0; stroke-opacity:0.7; fill:none\" points=\"\n",
       "  1030.83,994.224 1194.5,994.224 1194.5,921.96 1030.83,921.96 1030.83,994.224 \n",
       "  \"/>\n",
       "<path clip-path=\"url(#clip072)\" d=\"\n",
       "M1071.96 629.476 L1208.88 629.476 L1208.88 557.211 L1071.96 557.211 L1071.96 629.476 L1071.96 629.476  Z\n",
       "  \" fill=\"#ffffff\" fill-rule=\"evenodd\" fill-opacity=\"1\"/>\n",
       "<polyline clip-path=\"url(#clip072)\" style=\"stroke:#a9a9a9; stroke-linecap:butt; stroke-linejoin:round; stroke-width:0; stroke-opacity:0.7; fill:none\" points=\"\n",
       "  1071.96,629.476 1208.88,629.476 1208.88,557.211 1071.96,557.211 1071.96,629.476 \n",
       "  \"/>\n",
       "<path clip-path=\"url(#clip072)\" d=\"\n",
       "M789.742 706.984 L953.417 706.984 L953.417 634.719 L789.742 634.719 L789.742 706.984 L789.742 706.984  Z\n",
       "  \" fill=\"#ffffff\" fill-rule=\"evenodd\" fill-opacity=\"1\"/>\n",
       "<polyline clip-path=\"url(#clip072)\" style=\"stroke:#a9a9a9; stroke-linecap:butt; stroke-linejoin:round; stroke-width:0; stroke-opacity:0.7; fill:none\" points=\"\n",
       "  789.742,706.984 953.417,706.984 953.417,634.719 789.742,634.719 789.742,706.984 \n",
       "  \"/>\n",
       "<path clip-path=\"url(#clip072)\" d=\"\n",
       "M373.662 1052.65 L510.577 1052.65 L510.577 980.383 L373.662 980.383 L373.662 1052.65 L373.662 1052.65  Z\n",
       "  \" fill=\"#ffffff\" fill-rule=\"evenodd\" fill-opacity=\"1\"/>\n",
       "<polyline clip-path=\"url(#clip072)\" style=\"stroke:#a9a9a9; stroke-linecap:butt; stroke-linejoin:round; stroke-width:0; stroke-opacity:0.7; fill:none\" points=\"\n",
       "  373.662,1052.65 510.577,1052.65 510.577,980.383 373.662,980.383 373.662,1052.65 \n",
       "  \"/>\n",
       "<path clip-path=\"url(#clip072)\" d=\"\n",
       "M973.45 748.797 L1110.37 748.797 L1110.37 676.533 L973.45 676.533 L973.45 748.797 L973.45 748.797  Z\n",
       "  \" fill=\"#ffffff\" fill-rule=\"evenodd\" fill-opacity=\"1\"/>\n",
       "<polyline clip-path=\"url(#clip072)\" style=\"stroke:#a9a9a9; stroke-linecap:butt; stroke-linejoin:round; stroke-width:0; stroke-opacity:0.7; fill:none\" points=\"\n",
       "  973.45,748.797 1110.37,748.797 1110.37,676.533 973.45,676.533 973.45,748.797 \n",
       "  \"/>\n",
       "<path clip-path=\"url(#clip072)\" d=\"\n",
       "M1324.82 776.553 L1488.49 776.553 L1488.49 704.288 L1324.82 704.288 L1324.82 776.553 L1324.82 776.553  Z\n",
       "  \" fill=\"#ffffff\" fill-rule=\"evenodd\" fill-opacity=\"1\"/>\n",
       "<polyline clip-path=\"url(#clip072)\" style=\"stroke:#a9a9a9; stroke-linecap:butt; stroke-linejoin:round; stroke-width:0; stroke-opacity:0.7; fill:none\" points=\"\n",
       "  1324.82,776.553 1488.49,776.553 1488.49,704.288 1324.82,704.288 1324.82,776.553 \n",
       "  \"/>\n",
       "<path clip-path=\"url(#clip072)\" d=\"\n",
       "M1413.49 301.526 L1577.17 301.526 L1577.17 229.261 L1413.49 229.261 L1413.49 301.526 L1413.49 301.526  Z\n",
       "  \" fill=\"#ffffff\" fill-rule=\"evenodd\" fill-opacity=\"1\"/>\n",
       "<polyline clip-path=\"url(#clip072)\" style=\"stroke:#a9a9a9; stroke-linecap:butt; stroke-linejoin:round; stroke-width:0; stroke-opacity:0.7; fill:none\" points=\"\n",
       "  1413.49,301.526 1577.17,301.526 1577.17,229.261 1413.49,229.261 1413.49,301.526 \n",
       "  \"/>\n",
       "<path clip-path=\"url(#clip072)\" d=\"\n",
       "M1260.69 507.711 L1397.61 507.711 L1397.61 435.446 L1260.69 435.446 L1260.69 507.711 L1260.69 507.711  Z\n",
       "  \" fill=\"#ffffff\" fill-rule=\"evenodd\" fill-opacity=\"1\"/>\n",
       "<polyline clip-path=\"url(#clip072)\" style=\"stroke:#a9a9a9; stroke-linecap:butt; stroke-linejoin:round; stroke-width:0; stroke-opacity:0.7; fill:none\" points=\"\n",
       "  1260.69,507.711 1397.61,507.711 1397.61,435.446 1260.69,435.446 1260.69,507.711 \n",
       "  \"/>\n",
       "<path clip-path=\"url(#clip072)\" d=\"\n",
       "M596.936 540.8 L733.851 540.8 L733.851 468.535 L596.936 468.535 L596.936 540.8 L596.936 540.8  Z\n",
       "  \" fill=\"#ffffff\" fill-rule=\"evenodd\" fill-opacity=\"1\"/>\n",
       "<polyline clip-path=\"url(#clip072)\" style=\"stroke:#a9a9a9; stroke-linecap:butt; stroke-linejoin:round; stroke-width:0; stroke-opacity:0.7; fill:none\" points=\"\n",
       "  596.936,540.8 733.851,540.8 733.851,468.535 596.936,468.535 596.936,540.8 \n",
       "  \"/>\n",
       "<path clip-path=\"url(#clip072)\" d=\"\n",
       "M912.131 77.5551 L1049.05 77.5551 L1049.05 5.29053 L912.131 5.29053 L912.131 77.5551 L912.131 77.5551  Z\n",
       "  \" fill=\"#ffffff\" fill-rule=\"evenodd\" fill-opacity=\"1\"/>\n",
       "<polyline clip-path=\"url(#clip072)\" style=\"stroke:#a9a9a9; stroke-linecap:butt; stroke-linejoin:round; stroke-width:0; stroke-opacity:0.7; fill:none\" points=\"\n",
       "  912.131,77.5551 1049.05,77.5551 1049.05,5.29053 912.131,5.29053 912.131,77.5551 \n",
       "  \"/>\n",
       "<path clip-path=\"url(#clip072)\" d=\"\n",
       "M1490.51 1337.68 L1422.76 1220.34 L1287.27 1220.34 L1219.52 1337.68 L1287.27 1455.03 L1422.76 1455.03 L1490.51 1337.68 L1490.51 1337.68  Z\n",
       "  \" fill=\"#ffff00\" fill-rule=\"evenodd\" fill-opacity=\"1\"/>\n",
       "<polyline clip-path=\"url(#clip072)\" style=\"stroke:#000000; stroke-linecap:butt; stroke-linejoin:round; stroke-width:4; stroke-opacity:1; fill:none\" points=\"\n",
       "  1490.51,1337.68 1422.76,1220.34 1287.27,1220.34 1219.52,1337.68 1287.27,1455.03 1422.76,1455.03 1490.51,1337.68 \n",
       "  \"/>\n",
       "<path clip-path=\"url(#clip072)\" d=\"\n",
       "M1873.18 644.984 L1805.43 527.641 L1669.93 527.641 L1602.19 644.984 L1669.93 762.327 L1805.43 762.327 L1873.18 644.984 L1873.18 644.984  Z\n",
       "  \" fill=\"#ffff00\" fill-rule=\"evenodd\" fill-opacity=\"1\"/>\n",
       "<polyline clip-path=\"url(#clip072)\" style=\"stroke:#000000; stroke-linecap:butt; stroke-linejoin:round; stroke-width:4; stroke-opacity:1; fill:none\" points=\"\n",
       "  1873.18,644.984 1805.43,527.641 1669.93,527.641 1602.19,644.984 1669.93,762.327 1805.43,762.327 1873.18,644.984 \n",
       "  \"/>\n",
       "<path clip-path=\"url(#clip072)\" d=\"\n",
       "M1335.5 800 L1267.75 682.657 L1132.25 682.657 L1064.5 800 L1132.25 917.343 L1267.75 917.343 L1335.5 800 L1335.5 800  Z\n",
       "  \" fill=\"#ffff00\" fill-rule=\"evenodd\" fill-opacity=\"1\"/>\n",
       "<polyline clip-path=\"url(#clip072)\" style=\"stroke:#000000; stroke-linecap:butt; stroke-linejoin:round; stroke-width:4; stroke-opacity:1; fill:none\" points=\"\n",
       "  1335.5,800 1267.75,682.657 1132.25,682.657 1064.5,800 1132.25,917.343 1267.75,917.343 1335.5,800 \n",
       "  \"/>\n",
       "<path clip-path=\"url(#clip072)\" d=\"\n",
       "M797.813 955.015 L730.065 837.672 L594.569 837.672 L526.821 955.015 L594.569 1072.36 L730.065 1072.36 L797.813 955.015 L797.813 955.015  Z\n",
       "  \" fill=\"#ffff00\" fill-rule=\"evenodd\" fill-opacity=\"1\"/>\n",
       "<polyline clip-path=\"url(#clip072)\" style=\"stroke:#000000; stroke-linecap:butt; stroke-linejoin:round; stroke-width:4; stroke-opacity:1; fill:none\" points=\"\n",
       "  797.813,955.015 730.065,837.672 594.569,837.672 526.821,955.015 594.569,1072.36 730.065,1072.36 797.813,955.015 797.813,955.015 \n",
       "  \"/>\n",
       "<path clip-path=\"url(#clip072)\" d=\"\n",
       "M1180.48 262.317 L1112.73 144.974 L977.236 144.974 L909.488 262.317 L977.236 379.66 L1112.73 379.66 L1180.48 262.317 L1180.48 262.317  Z\n",
       "  \" fill=\"#ffff00\" fill-rule=\"evenodd\" fill-opacity=\"1\"/>\n",
       "<polyline clip-path=\"url(#clip072)\" style=\"stroke:#000000; stroke-linecap:butt; stroke-linejoin:round; stroke-width:4; stroke-opacity:1; fill:none\" points=\"\n",
       "  1180.48,262.317 1112.73,144.974 977.236,144.974 909.488,262.317 977.236,379.66 1112.73,379.66 1180.48,262.317 \n",
       "  \"/>\n",
       "<path clip-path=\"url(#clip072)\" d=\"M1355.02 1339.68 L1353.28 1338.68 L1353.28 1336.68 L1355.02 1335.68 L1356.75 1336.68 L1356.75 1338.68 Z\" fill=\"#ffff00\" fill-rule=\"evenodd\" fill-opacity=\"1\" stroke=\"#000000\" stroke-opacity=\"1\" stroke-width=\"3.2\"/>\n",
       "<path clip-path=\"url(#clip072)\" d=\"M1737.68 646.984 L1735.95 645.984 L1735.95 643.984 L1737.68 642.984 L1739.41 643.984 L1739.41 645.984 Z\" fill=\"#ffff00\" fill-rule=\"evenodd\" fill-opacity=\"1\" stroke=\"#000000\" stroke-opacity=\"1\" stroke-width=\"3.2\"/>\n",
       "<path clip-path=\"url(#clip072)\" d=\"M1200 802 L1198.27 801 L1198.27 799 L1200 798 L1201.73 799 L1201.73 801 Z\" fill=\"#ffff00\" fill-rule=\"evenodd\" fill-opacity=\"1\" stroke=\"#000000\" stroke-opacity=\"1\" stroke-width=\"3.2\"/>\n",
       "<path clip-path=\"url(#clip072)\" d=\"M662.317 957.015 L660.585 956.015 L660.585 954.015 L662.317 953.015 L664.049 954.015 L664.049 956.015 Z\" fill=\"#ffff00\" fill-rule=\"evenodd\" fill-opacity=\"1\" stroke=\"#000000\" stroke-opacity=\"1\" stroke-width=\"3.2\"/>\n",
       "<path clip-path=\"url(#clip072)\" d=\"M1044.98 264.317 L1043.25 263.317 L1043.25 261.317 L1044.98 260.317 L1046.72 261.317 L1046.72 263.317 Z\" fill=\"#ffff00\" fill-rule=\"evenodd\" fill-opacity=\"1\" stroke=\"#000000\" stroke-opacity=\"1\" stroke-width=\"3.2\"/>\n",
       "<path clip-path=\"url(#clip070)\" d=\"M1373.63 1546.15 Q1370.47 1546.15 1368.87 1549.27 Q1367.29 1552.37 1367.29 1558.61 Q1367.29 1564.83 1368.87 1567.94 Q1370.47 1571.04 1373.63 1571.04 Q1376.81 1571.04 1378.39 1567.94 Q1379.99 1564.83 1379.99 1558.61 Q1379.99 1552.37 1378.39 1549.27 Q1376.81 1546.15 1373.63 1546.15 M1373.63 1542.91 Q1378.71 1542.91 1381.38 1546.94 Q1384.08 1550.95 1384.08 1558.61 Q1384.08 1566.24 1381.38 1570.27 Q1378.71 1574.28 1373.63 1574.28 Q1368.54 1574.28 1365.85 1570.27 Q1363.17 1566.24 1363.17 1558.61 Q1363.17 1550.95 1365.85 1546.94 Q1368.54 1542.91 1373.63 1542.91 Z\" fill=\"#000000\" fill-rule=\"evenodd\" fill-opacity=\"1\" /><path clip-path=\"url(#clip070)\" d=\"M1391.27 1568.55 L1395.54 1568.55 L1395.54 1573.7 L1391.27 1573.7 L1391.27 1568.55 Z\" fill=\"#000000\" fill-rule=\"evenodd\" fill-opacity=\"1\" /><path clip-path=\"url(#clip070)\" d=\"M1413.2 1546.15 Q1410.04 1546.15 1408.44 1549.27 Q1406.86 1552.37 1406.86 1558.61 Q1406.86 1564.83 1408.44 1567.94 Q1410.04 1571.04 1413.2 1571.04 Q1416.38 1571.04 1417.96 1567.94 Q1419.56 1564.83 1419.56 1558.61 Q1419.56 1552.37 1417.96 1549.27 Q1416.38 1546.15 1413.2 1546.15 M1413.2 1542.91 Q1418.29 1542.91 1420.96 1546.94 Q1423.65 1550.95 1423.65 1558.61 Q1423.65 1566.24 1420.96 1570.27 Q1418.29 1574.28 1413.2 1574.28 Q1408.12 1574.28 1405.43 1570.27 Q1402.75 1566.24 1402.75 1558.61 Q1402.75 1550.95 1405.43 1546.94 Q1408.12 1542.91 1413.2 1542.91 Z\" fill=\"#000000\" fill-rule=\"evenodd\" fill-opacity=\"1\" /><path clip-path=\"url(#clip070)\" d=\"M1429.81 1543.46 L1449.26 1543.46 L1449.26 1545.2 L1438.28 1573.7 L1434 1573.7 L1444.33 1546.9 L1429.81 1546.9 L1429.81 1543.46 Z\" fill=\"#000000\" fill-rule=\"evenodd\" fill-opacity=\"1\" /><path clip-path=\"url(#clip070)\" d=\"M1456.2 1543.46 L1475.65 1543.46 L1475.65 1545.2 L1464.67 1573.7 L1460.4 1573.7 L1470.73 1546.9 L1456.2 1546.9 L1456.2 1543.46 Z\" fill=\"#000000\" fill-rule=\"evenodd\" fill-opacity=\"1\" /><path clip-path=\"url(#clip070)\" d=\"M1701.91 1082.91 Q1698.75 1082.91 1697.15 1086.03 Q1695.57 1089.12 1695.57 1095.36 Q1695.57 1101.58 1697.15 1104.7 Q1698.75 1107.8 1701.91 1107.8 Q1705.09 1107.8 1706.66 1104.7 Q1708.27 1101.58 1708.27 1095.36 Q1708.27 1089.12 1706.66 1086.03 Q1705.09 1082.91 1701.91 1082.91 M1701.91 1079.67 Q1706.99 1079.67 1709.66 1083.7 Q1712.36 1087.71 1712.36 1095.36 Q1712.36 1103 1709.66 1107.03 Q1706.99 1111.04 1701.91 1111.04 Q1696.82 1111.04 1694.13 1107.03 Q1691.45 1103 1691.45 1095.36 Q1691.45 1087.71 1694.13 1083.7 Q1696.82 1079.67 1701.91 1079.67 Z\" fill=\"#000000\" fill-rule=\"evenodd\" fill-opacity=\"1\" /><path clip-path=\"url(#clip070)\" d=\"M1719.55 1105.31 L1723.82 1105.31 L1723.82 1110.45 L1719.55 1110.45 L1719.55 1105.31 Z\" fill=\"#000000\" fill-rule=\"evenodd\" fill-opacity=\"1\" /><path clip-path=\"url(#clip070)\" d=\"M1733.44 1107.01 L1740.13 1107.01 L1740.13 1083.94 L1732.85 1085.4 L1732.85 1081.67 L1740.08 1080.21 L1744.18 1080.21 L1744.18 1107.01 L1750.86 1107.01 L1750.86 1110.45 L1733.44 1110.45 L1733.44 1107.01 Z\" fill=\"#000000\" fill-rule=\"evenodd\" fill-opacity=\"1\" /><path clip-path=\"url(#clip070)\" d=\"M1771.52 1094.15 Q1774.46 1094.78 1776.1 1096.76 Q1777.76 1098.74 1777.76 1101.66 Q1777.76 1106.14 1774.68 1108.59 Q1771.6 1111.04 1765.93 1111.04 Q1764.03 1111.04 1762 1110.65 Q1760 1110.29 1757.85 1109.54 L1757.85 1105.59 Q1759.55 1106.58 1761.57 1107.09 Q1763.6 1107.6 1765.81 1107.6 Q1769.66 1107.6 1771.66 1106.08 Q1773.69 1104.56 1773.69 1101.66 Q1773.69 1098.99 1771.8 1097.49 Q1769.94 1095.97 1766.6 1095.97 L1763.07 1095.97 L1763.07 1092.61 L1766.76 1092.61 Q1769.78 1092.61 1771.38 1091.41 Q1772.98 1090.2 1772.98 1087.93 Q1772.98 1085.6 1771.32 1084.36 Q1769.68 1083.11 1766.6 1083.11 Q1764.92 1083.11 1762.99 1083.47 Q1761.07 1083.84 1758.76 1084.61 L1758.76 1080.96 Q1761.09 1080.31 1763.11 1079.99 Q1765.16 1079.67 1766.96 1079.67 Q1771.62 1079.67 1774.34 1081.79 Q1777.05 1083.9 1777.05 1087.5 Q1777.05 1090.02 1775.61 1091.76 Q1774.17 1093.48 1771.52 1094.15 Z\" fill=\"#000000\" fill-rule=\"evenodd\" fill-opacity=\"1\" /><path clip-path=\"url(#clip070)\" d=\"M1037.65 1115.99 Q1034.5 1115.99 1032.89 1119.11 Q1031.32 1122.21 1031.32 1128.45 Q1031.32 1134.67 1032.89 1137.79 Q1034.5 1140.89 1037.65 1140.89 Q1040.83 1140.89 1042.41 1137.79 Q1044.01 1134.67 1044.01 1128.45 Q1044.01 1122.21 1042.41 1119.11 Q1040.83 1115.99 1037.65 1115.99 M1037.65 1112.75 Q1042.74 1112.75 1045.41 1116.78 Q1048.11 1120.79 1048.11 1128.45 Q1048.11 1136.09 1045.41 1140.12 Q1042.74 1144.13 1037.65 1144.13 Q1032.57 1144.13 1029.88 1140.12 Q1027.2 1136.09 1027.2 1128.45 Q1027.2 1120.79 1029.88 1116.78 Q1032.57 1112.75 1037.65 1112.75 Z\" fill=\"#000000\" fill-rule=\"evenodd\" fill-opacity=\"1\" /><path clip-path=\"url(#clip070)\" d=\"M1055.3 1138.4 L1059.57 1138.4 L1059.57 1143.54 L1055.3 1143.54 L1055.3 1138.4 Z\" fill=\"#000000\" fill-rule=\"evenodd\" fill-opacity=\"1\" /><path clip-path=\"url(#clip070)\" d=\"M1069.19 1140.1 L1075.87 1140.1 L1075.87 1117.03 L1068.6 1118.49 L1068.6 1114.76 L1075.83 1113.3 L1079.93 1113.3 L1079.93 1140.1 L1086.61 1140.1 L1086.61 1143.54 L1069.19 1143.54 L1069.19 1140.1 Z\" fill=\"#000000\" fill-rule=\"evenodd\" fill-opacity=\"1\" /><path clip-path=\"url(#clip070)\" d=\"M1106.11 1116.87 L1095.79 1133.01 L1106.11 1133.01 L1106.11 1116.87 M1105.04 1113.3 L1110.19 1113.3 L1110.19 1133.01 L1114.5 1133.01 L1114.5 1136.41 L1110.19 1136.41 L1110.19 1143.54 L1106.11 1143.54 L1106.11 1136.41 L1092.46 1136.41 L1092.46 1132.46 L1105.04 1113.3 Z\" fill=\"#000000\" fill-rule=\"evenodd\" fill-opacity=\"1\" /><path clip-path=\"url(#clip070)\" d=\"M871.764 1322.18 Q868.604 1322.18 867.004 1325.3 Q865.424 1328.4 865.424 1334.64 Q865.424 1340.85 867.004 1343.97 Q868.604 1347.07 871.764 1347.07 Q874.944 1347.07 876.524 1343.97 Q878.124 1340.85 878.124 1334.64 Q878.124 1328.4 876.524 1325.3 Q874.944 1322.18 871.764 1322.18 M871.764 1318.94 Q876.848 1318.94 879.521 1322.97 Q882.215 1326.98 882.215 1334.64 Q882.215 1342.27 879.521 1346.3 Q876.848 1350.31 871.764 1350.31 Q866.68 1350.31 863.986 1346.3 Q861.313 1342.27 861.313 1334.64 Q861.313 1326.98 863.986 1322.97 Q866.68 1318.94 871.764 1318.94 Z\" fill=\"#000000\" fill-rule=\"evenodd\" fill-opacity=\"1\" /><path clip-path=\"url(#clip070)\" d=\"M889.406 1344.58 L893.679 1344.58 L893.679 1349.73 L889.406 1349.73 L889.406 1344.58 Z\" fill=\"#000000\" fill-rule=\"evenodd\" fill-opacity=\"1\" /><path clip-path=\"url(#clip070)\" d=\"M914.987 1333.42 Q917.924 1334.05 919.565 1336.03 Q921.225 1338.02 921.225 1340.94 Q921.225 1345.41 918.147 1347.86 Q915.068 1350.31 909.397 1350.31 Q907.493 1350.31 905.467 1349.93 Q903.462 1349.56 901.315 1348.81 L901.315 1344.86 Q903.017 1345.86 905.042 1346.36 Q907.068 1346.87 909.275 1346.87 Q913.124 1346.87 915.129 1345.35 Q917.154 1343.83 917.154 1340.94 Q917.154 1338.26 915.271 1336.76 Q913.407 1335.24 910.065 1335.24 L906.541 1335.24 L906.541 1331.88 L910.227 1331.88 Q913.245 1331.88 914.845 1330.69 Q916.445 1329.47 916.445 1327.2 Q916.445 1324.87 914.785 1323.64 Q913.144 1322.38 910.065 1322.38 Q908.384 1322.38 906.46 1322.75 Q904.536 1323.11 902.227 1323.88 L902.227 1320.24 Q904.556 1319.59 906.581 1319.26 Q908.627 1318.94 910.43 1318.94 Q915.088 1318.94 917.802 1321.07 Q920.517 1323.17 920.517 1326.78 Q920.517 1329.29 919.078 1331.03 Q917.64 1332.75 914.987 1333.42 Z\" fill=\"#000000\" fill-rule=\"evenodd\" fill-opacity=\"1\" /><path clip-path=\"url(#clip070)\" d=\"M929.104 1349.1 L929.104 1345.37 Q930.644 1346.1 932.224 1346.49 Q933.804 1346.87 935.323 1346.87 Q939.373 1346.87 941.5 1344.16 Q943.647 1341.42 943.951 1335.87 Q942.776 1337.61 940.974 1338.55 Q939.171 1339.48 936.983 1339.48 Q932.446 1339.48 929.793 1336.74 Q927.16 1333.99 927.16 1329.23 Q927.16 1324.57 929.915 1321.75 Q932.669 1318.94 937.247 1318.94 Q942.493 1318.94 945.247 1322.97 Q948.022 1326.98 948.022 1334.64 Q948.022 1341.79 944.619 1346.06 Q941.237 1350.31 935.505 1350.31 Q933.966 1350.31 932.386 1350.01 Q930.806 1349.71 929.104 1349.1 M937.247 1336.28 Q940.001 1336.28 941.601 1334.39 Q943.222 1332.51 943.222 1329.23 Q943.222 1325.97 941.601 1324.08 Q940.001 1322.18 937.247 1322.18 Q934.492 1322.18 932.872 1324.08 Q931.272 1325.97 931.272 1329.23 Q931.272 1332.51 932.872 1334.39 Q934.492 1336.28 937.247 1336.28 Z\" fill=\"#000000\" fill-rule=\"evenodd\" fill-opacity=\"1\" /><path clip-path=\"url(#clip070)\" d=\"M960.754 847.153 Q957.594 847.153 955.994 850.273 Q954.414 853.372 954.414 859.61 Q954.414 865.828 955.994 868.947 Q957.594 872.046 960.754 872.046 Q963.934 872.046 965.514 868.947 Q967.114 865.828 967.114 859.61 Q967.114 853.372 965.514 850.273 Q963.934 847.153 960.754 847.153 M960.754 843.913 Q965.838 843.913 968.512 847.943 Q971.205 851.954 971.205 859.61 Q971.205 867.246 968.512 871.277 Q965.838 875.287 960.754 875.287 Q955.67 875.287 952.976 871.277 Q950.303 867.246 950.303 859.61 Q950.303 851.954 952.976 847.943 Q955.67 843.913 960.754 843.913 Z\" fill=\"#000000\" fill-rule=\"evenodd\" fill-opacity=\"1\" /><path clip-path=\"url(#clip070)\" d=\"M978.396 869.555 L982.67 869.555 L982.67 874.7 L978.396 874.7 L978.396 869.555 Z\" fill=\"#000000\" fill-rule=\"evenodd\" fill-opacity=\"1\" /><path clip-path=\"url(#clip070)\" d=\"M995.106 871.256 L1009.39 871.256 L1009.39 874.7 L990.184 874.7 L990.184 871.256 Q992.513 868.846 996.524 864.795 Q1000.55 860.724 1001.59 859.549 Q1003.55 857.341 1004.32 855.822 Q1005.11 854.283 1005.11 852.804 Q1005.11 850.394 1003.41 848.875 Q1001.73 847.356 999.015 847.356 Q997.091 847.356 994.944 848.024 Q992.817 848.693 990.386 850.05 L990.386 845.918 Q992.858 844.925 995.005 844.419 Q997.151 843.913 998.934 843.913 Q1003.63 843.913 1006.43 846.262 Q1009.22 848.612 1009.22 852.541 Q1009.22 854.405 1008.51 856.086 Q1007.83 857.747 1005.98 860.015 Q1005.48 860.602 1002.76 863.418 Q1000.05 866.213 995.106 871.256 Z\" fill=\"#000000\" fill-rule=\"evenodd\" fill-opacity=\"1\" /><path clip-path=\"url(#clip070)\" d=\"M1016.94 844.46 L1036.38 844.46 L1036.38 846.201 L1025.41 874.7 L1021.13 874.7 L1031.46 847.903 L1016.94 847.903 L1016.94 844.46 Z\" fill=\"#000000\" fill-rule=\"evenodd\" fill-opacity=\"1\" /><path clip-path=\"url(#clip070)\" d=\"M1311.95 874.908 Q1308.79 874.908 1307.19 878.028 Q1305.61 881.127 1305.61 887.365 Q1305.61 893.583 1307.19 896.702 Q1308.79 899.801 1311.95 899.801 Q1315.13 899.801 1316.71 896.702 Q1318.31 893.583 1318.31 887.365 Q1318.31 881.127 1316.71 878.028 Q1315.13 874.908 1311.95 874.908 M1311.95 871.668 Q1317.04 871.668 1319.71 875.698 Q1322.4 879.709 1322.4 887.365 Q1322.4 895.001 1319.71 899.032 Q1317.04 903.042 1311.95 903.042 Q1306.87 903.042 1304.17 899.032 Q1301.5 895.001 1301.5 887.365 Q1301.5 879.709 1304.17 875.698 Q1306.87 871.668 1311.95 871.668 Z\" fill=\"#000000\" fill-rule=\"evenodd\" fill-opacity=\"1\" /><path clip-path=\"url(#clip070)\" d=\"M1329.59 897.31 L1333.87 897.31 L1333.87 902.455 L1329.59 902.455 L1329.59 897.31 Z\" fill=\"#000000\" fill-rule=\"evenodd\" fill-opacity=\"1\" /><path clip-path=\"url(#clip070)\" d=\"M1351.53 874.908 Q1348.37 874.908 1346.77 878.028 Q1345.19 881.127 1345.19 887.365 Q1345.19 893.583 1346.77 896.702 Q1348.37 899.801 1351.53 899.801 Q1354.71 899.801 1356.29 896.702 Q1357.89 893.583 1357.89 887.365 Q1357.89 881.127 1356.29 878.028 Q1354.71 874.908 1351.53 874.908 M1351.53 871.668 Q1356.61 871.668 1359.29 875.698 Q1361.98 879.709 1361.98 887.365 Q1361.98 895.001 1359.29 899.032 Q1356.61 903.042 1351.53 903.042 Q1346.45 903.042 1343.75 899.032 Q1341.08 895.001 1341.08 887.365 Q1341.08 879.709 1343.75 875.698 Q1346.45 871.668 1351.53 871.668 Z\" fill=\"#000000\" fill-rule=\"evenodd\" fill-opacity=\"1\" /><path clip-path=\"url(#clip070)\" d=\"M1378.43 885.704 Q1375.67 885.704 1374.05 887.588 Q1372.45 889.471 1372.45 892.753 Q1372.45 896.014 1374.05 897.918 Q1375.67 899.801 1378.43 899.801 Q1381.18 899.801 1382.78 897.918 Q1384.4 896.014 1384.4 892.753 Q1384.4 889.471 1382.78 887.588 Q1381.18 885.704 1378.43 885.704 M1386.55 872.883 L1386.55 876.61 Q1385.01 875.881 1383.43 875.496 Q1381.87 875.111 1380.33 875.111 Q1376.28 875.111 1374.13 877.845 Q1372.01 880.58 1371.7 886.109 Q1372.9 884.347 1374.7 883.415 Q1376.5 882.463 1378.67 882.463 Q1383.23 882.463 1385.86 885.238 Q1388.51 887.993 1388.51 892.753 Q1388.51 897.411 1385.76 900.227 Q1383.01 903.042 1378.43 903.042 Q1373.18 903.042 1370.41 899.032 Q1367.63 895.001 1367.63 887.365 Q1367.63 880.195 1371.03 875.941 Q1374.44 871.668 1380.17 871.668 Q1381.71 871.668 1383.27 871.971 Q1384.85 872.275 1386.55 872.883 Z\" fill=\"#000000\" fill-rule=\"evenodd\" fill-opacity=\"1\" /><path clip-path=\"url(#clip070)\" d=\"M1404.31 888.094 Q1401.4 888.094 1399.72 889.654 Q1398.05 891.213 1398.05 893.948 Q1398.05 896.682 1399.72 898.242 Q1401.4 899.801 1404.31 899.801 Q1407.23 899.801 1408.91 898.242 Q1410.59 896.662 1410.59 893.948 Q1410.59 891.213 1408.91 889.654 Q1407.25 888.094 1404.31 888.094 M1400.22 886.352 Q1397.59 885.704 1396.11 883.901 Q1394.65 882.099 1394.65 879.506 Q1394.65 875.881 1397.22 873.774 Q1399.82 871.668 1404.31 871.668 Q1408.83 871.668 1411.4 873.774 Q1413.97 875.881 1413.97 879.506 Q1413.97 882.099 1412.5 883.901 Q1411.04 885.704 1408.42 886.352 Q1411.38 887.041 1413.02 889.046 Q1414.68 891.051 1414.68 893.948 Q1414.68 898.343 1411.99 900.692 Q1409.32 903.042 1404.31 903.042 Q1399.31 903.042 1396.62 900.692 Q1393.94 898.343 1393.94 893.948 Q1393.94 891.051 1395.6 889.046 Q1397.26 887.041 1400.22 886.352 M1398.72 879.891 Q1398.72 882.241 1400.18 883.557 Q1401.66 884.874 1404.31 884.874 Q1406.95 884.874 1408.42 883.557 Q1409.92 882.241 1409.92 879.891 Q1409.92 877.541 1408.42 876.225 Q1406.95 874.908 1404.31 874.908 Q1401.66 874.908 1400.18 876.225 Q1398.72 877.541 1398.72 879.891 Z\" fill=\"#000000\" fill-rule=\"evenodd\" fill-opacity=\"1\" /><path clip-path=\"url(#clip070)\" d=\"M1797.56 581.868 Q1794.4 581.868 1792.8 584.987 Q1791.22 588.086 1791.22 594.324 Q1791.22 600.542 1792.8 603.662 Q1794.4 606.761 1797.56 606.761 Q1800.74 606.761 1802.32 603.662 Q1803.92 600.542 1803.92 594.324 Q1803.92 588.086 1802.32 584.987 Q1800.74 581.868 1797.56 581.868 M1797.56 578.627 Q1802.64 578.627 1805.32 582.658 Q1808.01 586.668 1808.01 594.324 Q1808.01 601.96 1805.32 605.991 Q1802.64 610.001 1797.56 610.001 Q1792.47 610.001 1789.78 605.991 Q1787.11 601.96 1787.11 594.324 Q1787.11 586.668 1789.78 582.658 Q1792.47 578.627 1797.56 578.627 Z\" fill=\"#000000\" fill-rule=\"evenodd\" fill-opacity=\"1\" /><path clip-path=\"url(#clip070)\" d=\"M1815.2 604.269 L1819.47 604.269 L1819.47 609.414 L1815.2 609.414 L1815.2 604.269 Z\" fill=\"#000000\" fill-rule=\"evenodd\" fill-opacity=\"1\" /><path clip-path=\"url(#clip070)\" d=\"M1829.09 605.971 L1835.78 605.971 L1835.78 582.901 L1828.51 584.359 L1828.51 580.632 L1835.74 579.174 L1839.83 579.174 L1839.83 605.971 L1846.51 605.971 L1846.51 609.414 L1829.09 609.414 L1829.09 605.971 Z\" fill=\"#000000\" fill-rule=\"evenodd\" fill-opacity=\"1\" /><path clip-path=\"url(#clip070)\" d=\"M1855.49 605.971 L1862.17 605.971 L1862.17 582.901 L1854.9 584.359 L1854.9 580.632 L1862.13 579.174 L1866.22 579.174 L1866.22 605.971 L1872.91 605.971 L1872.91 609.414 L1855.49 609.414 L1855.49 605.971 Z\" fill=\"#000000\" fill-rule=\"evenodd\" fill-opacity=\"1\" /><path clip-path=\"url(#clip070)\" d=\"M1495.72 916.722 Q1492.56 916.722 1490.96 919.841 Q1489.38 922.94 1489.38 929.178 Q1489.38 935.396 1490.96 938.516 Q1492.56 941.615 1495.72 941.615 Q1498.9 941.615 1500.48 938.516 Q1502.08 935.396 1502.08 929.178 Q1502.08 922.94 1500.48 919.841 Q1498.9 916.722 1495.72 916.722 M1495.72 913.481 Q1500.8 913.481 1503.48 917.512 Q1506.17 921.522 1506.17 929.178 Q1506.17 936.814 1503.48 940.845 Q1500.8 944.855 1495.72 944.855 Q1490.64 944.855 1487.94 940.845 Q1485.27 936.814 1485.27 929.178 Q1485.27 921.522 1487.94 917.512 Q1490.64 913.481 1495.72 913.481 Z\" fill=\"#000000\" fill-rule=\"evenodd\" fill-opacity=\"1\" /><path clip-path=\"url(#clip070)\" d=\"M1513.36 939.123 L1517.64 939.123 L1517.64 944.268 L1513.36 944.268 L1513.36 939.123 Z\" fill=\"#000000\" fill-rule=\"evenodd\" fill-opacity=\"1\" /><path clip-path=\"url(#clip070)\" d=\"M1527.26 940.825 L1533.94 940.825 L1533.94 917.755 L1526.67 919.213 L1526.67 915.486 L1533.9 914.028 L1537.99 914.028 L1537.99 940.825 L1544.68 940.825 L1544.68 944.268 L1527.26 944.268 L1527.26 940.825 Z\" fill=\"#000000\" fill-rule=\"evenodd\" fill-opacity=\"1\" /><path clip-path=\"url(#clip070)\" d=\"M1565.34 927.963 Q1568.27 928.591 1569.91 930.576 Q1571.57 932.561 1571.57 935.477 Q1571.57 939.954 1568.5 942.404 Q1565.42 944.855 1559.75 944.855 Q1557.84 944.855 1555.82 944.47 Q1553.81 944.106 1551.66 943.356 L1551.66 939.407 Q1553.37 940.399 1555.39 940.906 Q1557.42 941.412 1559.62 941.412 Q1563.47 941.412 1565.48 939.893 Q1567.5 938.374 1567.5 935.477 Q1567.5 932.804 1565.62 931.305 Q1563.76 929.786 1560.41 929.786 L1556.89 929.786 L1556.89 926.424 L1560.58 926.424 Q1563.59 926.424 1565.19 925.229 Q1566.79 924.013 1566.79 921.745 Q1566.79 919.416 1565.13 918.18 Q1563.49 916.924 1560.41 916.924 Q1558.73 916.924 1556.81 917.289 Q1554.88 917.653 1552.58 918.423 L1552.58 914.777 Q1554.9 914.129 1556.93 913.805 Q1558.98 913.481 1560.78 913.481 Q1565.44 913.481 1568.15 915.608 Q1570.86 917.714 1570.86 921.32 Q1570.86 923.831 1569.43 925.573 Q1567.99 927.295 1565.34 927.963 Z\" fill=\"#000000\" fill-rule=\"evenodd\" fill-opacity=\"1\" /><path clip-path=\"url(#clip070)\" d=\"M1239.58 994.229 Q1236.42 994.229 1234.82 997.349 Q1233.24 1000.45 1233.24 1006.69 Q1233.24 1012.9 1234.82 1016.02 Q1236.42 1019.12 1239.58 1019.12 Q1242.76 1019.12 1244.34 1016.02 Q1245.94 1012.9 1245.94 1006.69 Q1245.94 1000.45 1244.34 997.349 Q1242.76 994.229 1239.58 994.229 M1239.58 990.989 Q1244.66 990.989 1247.34 995.019 Q1250.03 999.03 1250.03 1006.69 Q1250.03 1014.32 1247.34 1018.35 Q1244.66 1022.36 1239.58 1022.36 Q1234.49 1022.36 1231.8 1018.35 Q1229.13 1014.32 1229.13 1006.69 Q1229.13 999.03 1231.8 995.019 Q1234.49 990.989 1239.58 990.989 Z\" fill=\"#000000\" fill-rule=\"evenodd\" fill-opacity=\"1\" /><path clip-path=\"url(#clip070)\" d=\"M1257.22 1016.63 L1261.49 1016.63 L1261.49 1021.78 L1257.22 1021.78 L1257.22 1016.63 Z\" fill=\"#000000\" fill-rule=\"evenodd\" fill-opacity=\"1\" /><path clip-path=\"url(#clip070)\" d=\"M1281.65 995.1 L1271.32 1011.24 L1281.65 1011.24 L1281.65 995.1 M1280.57 991.535 L1285.72 991.535 L1285.72 1011.24 L1290.03 1011.24 L1290.03 1014.65 L1285.72 1014.65 L1285.72 1021.78 L1281.65 1021.78 L1281.65 1014.65 L1268 1014.65 L1268 1010.7 L1280.57 991.535 Z\" fill=\"#000000\" fill-rule=\"evenodd\" fill-opacity=\"1\" /><path clip-path=\"url(#clip070)\" d=\"M1254.43 629.481 Q1251.27 629.481 1249.67 632.601 Q1248.09 635.7 1248.09 641.938 Q1248.09 648.156 1249.67 651.275 Q1251.27 654.374 1254.43 654.374 Q1257.61 654.374 1259.19 651.275 Q1260.79 648.156 1260.79 641.938 Q1260.79 635.7 1259.19 632.601 Q1257.61 629.481 1254.43 629.481 M1254.43 626.241 Q1259.52 626.241 1262.19 630.271 Q1264.88 634.282 1264.88 641.938 Q1264.88 649.574 1262.19 653.605 Q1259.52 657.615 1254.43 657.615 Q1249.35 657.615 1246.65 653.605 Q1243.98 649.574 1243.98 641.938 Q1243.98 634.282 1246.65 630.271 Q1249.35 626.241 1254.43 626.241 Z\" fill=\"#000000\" fill-rule=\"evenodd\" fill-opacity=\"1\" /><path clip-path=\"url(#clip070)\" d=\"M1272.07 651.883 L1276.35 651.883 L1276.35 657.028 L1272.07 657.028 L1272.07 651.883 Z\" fill=\"#000000\" fill-rule=\"evenodd\" fill-opacity=\"1\" /><path clip-path=\"url(#clip070)\" d=\"M1288.78 653.584 L1303.06 653.584 L1303.06 657.028 L1283.86 657.028 L1283.86 653.584 Q1286.19 651.174 1290.2 647.123 Q1294.23 643.052 1295.26 641.877 Q1297.23 639.669 1298 638.15 Q1298.79 636.611 1298.79 635.132 Q1298.79 632.722 1297.09 631.203 Q1295.41 629.684 1292.69 629.684 Q1290.77 629.684 1288.62 630.352 Q1286.49 631.021 1284.06 632.378 L1284.06 628.246 Q1286.53 627.253 1288.68 626.747 Q1290.83 626.241 1292.61 626.241 Q1297.31 626.241 1300.11 628.59 Q1302.9 630.94 1302.9 634.869 Q1302.9 636.733 1302.19 638.414 Q1301.5 640.075 1299.66 642.343 Q1299.15 642.93 1296.44 645.746 Q1293.73 648.541 1288.78 653.584 Z\" fill=\"#000000\" fill-rule=\"evenodd\" fill-opacity=\"1\" /><path clip-path=\"url(#clip070)\" d=\"M1311.77 656.4 L1311.77 652.673 Q1313.31 653.402 1314.89 653.787 Q1316.47 654.172 1317.99 654.172 Q1322.04 654.172 1324.17 651.458 Q1326.31 648.723 1326.62 643.174 Q1325.44 644.915 1323.64 645.847 Q1321.84 646.779 1319.65 646.779 Q1315.11 646.779 1312.46 644.044 Q1309.83 641.29 1309.83 636.53 Q1309.83 631.871 1312.58 629.056 Q1315.34 626.241 1319.91 626.241 Q1325.16 626.241 1327.91 630.271 Q1330.69 634.282 1330.69 641.938 Q1330.69 649.088 1327.29 653.362 Q1323.9 657.615 1318.17 657.615 Q1316.63 657.615 1315.05 657.311 Q1313.47 657.007 1311.77 656.4 M1319.91 643.579 Q1322.67 643.579 1324.27 641.695 Q1325.89 639.811 1325.89 636.53 Q1325.89 633.269 1324.27 631.385 Q1322.67 629.481 1319.91 629.481 Q1317.16 629.481 1315.54 631.385 Q1313.94 633.269 1313.94 636.53 Q1313.94 639.811 1315.54 641.695 Q1317.16 643.579 1319.91 643.579 Z\" fill=\"#000000\" fill-rule=\"evenodd\" fill-opacity=\"1\" /><path clip-path=\"url(#clip070)\" d=\"M1438.42 996.836 Q1435.26 996.836 1433.66 999.955 Q1432.08 1003.05 1432.08 1009.29 Q1432.08 1015.51 1433.66 1018.63 Q1435.26 1021.73 1438.42 1021.73 Q1441.6 1021.73 1443.18 1018.63 Q1444.78 1015.51 1444.78 1009.29 Q1444.78 1003.05 1443.18 999.955 Q1441.6 996.836 1438.42 996.836 M1438.42 993.595 Q1443.5 993.595 1446.18 997.626 Q1448.87 1001.64 1448.87 1009.29 Q1448.87 1016.93 1446.18 1020.96 Q1443.5 1024.97 1438.42 1024.97 Q1433.34 1024.97 1430.64 1020.96 Q1427.97 1016.93 1427.97 1009.29 Q1427.97 1001.64 1430.64 997.626 Q1433.34 993.595 1438.42 993.595 Z\" fill=\"#000000\" fill-rule=\"evenodd\" fill-opacity=\"1\" /><path clip-path=\"url(#clip070)\" d=\"M1456.06 1019.24 L1460.33 1019.24 L1460.33 1024.38 L1456.06 1024.38 L1456.06 1019.24 Z\" fill=\"#000000\" fill-rule=\"evenodd\" fill-opacity=\"1\" /><path clip-path=\"url(#clip070)\" d=\"M1478 996.836 Q1474.84 996.836 1473.24 999.955 Q1471.66 1003.05 1471.66 1009.29 Q1471.66 1015.51 1473.24 1018.63 Q1474.84 1021.73 1478 1021.73 Q1481.18 1021.73 1482.76 1018.63 Q1484.36 1015.51 1484.36 1009.29 Q1484.36 1003.05 1482.76 999.955 Q1481.18 996.836 1478 996.836 M1478 993.595 Q1483.08 993.595 1485.75 997.626 Q1488.45 1001.64 1488.45 1009.29 Q1488.45 1016.93 1485.75 1020.96 Q1483.08 1024.97 1478 1024.97 Q1472.91 1024.97 1470.22 1020.96 Q1467.55 1016.93 1467.55 1009.29 Q1467.55 1001.64 1470.22 997.626 Q1472.91 993.595 1478 993.595 Z\" fill=\"#000000\" fill-rule=\"evenodd\" fill-opacity=\"1\" /><path clip-path=\"url(#clip070)\" d=\"M1506.88 997.707 L1496.55 1013.85 L1506.88 1013.85 L1506.88 997.707 M1505.81 994.142 L1510.95 994.142 L1510.95 1013.85 L1515.26 1013.85 L1515.26 1017.25 L1510.95 1017.25 L1510.95 1024.38 L1506.88 1024.38 L1506.88 1017.25 L1493.23 1017.25 L1493.23 1013.3 L1505.81 994.142 Z\" fill=\"#000000\" fill-rule=\"evenodd\" fill-opacity=\"1\" /><path clip-path=\"url(#clip070)\" d=\"M1522.07 994.142 L1538.13 994.142 L1538.13 997.585 L1525.82 997.585 L1525.82 1005 Q1526.71 1004.69 1527.6 1004.55 Q1528.49 1004.39 1529.38 1004.39 Q1534.45 1004.39 1537.4 1007.17 Q1540.36 1009.94 1540.36 1014.68 Q1540.36 1019.56 1537.32 1022.28 Q1534.28 1024.97 1528.75 1024.97 Q1526.85 1024.97 1524.87 1024.65 Q1522.9 1024.32 1520.79 1023.67 L1520.79 1019.56 Q1522.62 1020.55 1524.56 1021.04 Q1526.51 1021.53 1528.67 1021.53 Q1532.18 1021.53 1534.22 1019.68 Q1536.27 1017.84 1536.27 1014.68 Q1536.27 1011.52 1534.22 1009.68 Q1532.18 1007.83 1528.67 1007.83 Q1527.03 1007.83 1525.39 1008.2 Q1523.77 1008.56 1522.07 1009.33 L1522.07 994.142 Z\" fill=\"#000000\" fill-rule=\"evenodd\" fill-opacity=\"1\" /><path clip-path=\"url(#clip070)\" d=\"M1363.12 503.41 Q1359.96 503.41 1358.36 506.529 Q1356.78 509.628 1356.78 515.866 Q1356.78 522.085 1358.36 525.204 Q1359.96 528.303 1363.12 528.303 Q1366.3 528.303 1367.88 525.204 Q1369.48 522.085 1369.48 515.866 Q1369.48 509.628 1367.88 506.529 Q1366.3 503.41 1363.12 503.41 M1363.12 500.169 Q1368.21 500.169 1370.88 504.2 Q1373.57 508.21 1373.57 515.866 Q1373.57 523.502 1370.88 527.533 Q1368.21 531.543 1363.12 531.543 Q1358.04 531.543 1355.34 527.533 Q1352.67 523.502 1352.67 515.866 Q1352.67 508.21 1355.34 504.2 Q1358.04 500.169 1363.12 500.169 Z\" fill=\"#000000\" fill-rule=\"evenodd\" fill-opacity=\"1\" /><path clip-path=\"url(#clip070)\" d=\"M1380.76 525.811 L1385.04 525.811 L1385.04 530.956 L1380.76 530.956 L1380.76 525.811 Z\" fill=\"#000000\" fill-rule=\"evenodd\" fill-opacity=\"1\" /><path clip-path=\"url(#clip070)\" d=\"M1402.7 503.41 Q1399.54 503.41 1397.94 506.529 Q1396.36 509.628 1396.36 515.866 Q1396.36 522.085 1397.94 525.204 Q1399.54 528.303 1402.7 528.303 Q1405.88 528.303 1407.46 525.204 Q1409.06 522.085 1409.06 515.866 Q1409.06 509.628 1407.46 506.529 Q1405.88 503.41 1402.7 503.41 M1402.7 500.169 Q1407.78 500.169 1410.46 504.2 Q1413.15 508.21 1413.15 515.866 Q1413.15 523.502 1410.46 527.533 Q1407.78 531.543 1402.7 531.543 Q1397.62 531.543 1394.92 527.533 Q1392.25 523.502 1392.25 515.866 Q1392.25 508.21 1394.92 504.2 Q1397.62 500.169 1402.7 500.169 Z\" fill=\"#000000\" fill-rule=\"evenodd\" fill-opacity=\"1\" /><path clip-path=\"url(#clip070)\" d=\"M1419.31 500.716 L1438.75 500.716 L1438.75 502.458 L1427.77 530.956 L1423.5 530.956 L1433.83 504.159 L1419.31 504.159 L1419.31 500.716 Z\" fill=\"#000000\" fill-rule=\"evenodd\" fill-opacity=\"1\" /><path clip-path=\"url(#clip070)\" d=\"M1455.48 516.596 Q1452.57 516.596 1450.88 518.155 Q1449.22 519.715 1449.22 522.449 Q1449.22 525.183 1450.88 526.743 Q1452.57 528.303 1455.48 528.303 Q1458.4 528.303 1460.08 526.743 Q1461.76 525.163 1461.76 522.449 Q1461.76 519.715 1460.08 518.155 Q1458.42 516.596 1455.48 516.596 M1451.39 514.854 Q1448.76 514.206 1447.28 512.403 Q1445.82 510.6 1445.82 508.008 Q1445.82 504.382 1448.39 502.276 Q1450.99 500.169 1455.48 500.169 Q1460 500.169 1462.57 502.276 Q1465.14 504.382 1465.14 508.008 Q1465.14 510.6 1463.67 512.403 Q1462.21 514.206 1459.59 514.854 Q1462.55 515.542 1464.19 517.548 Q1465.85 519.553 1465.85 522.449 Q1465.85 526.844 1463.16 529.194 Q1460.49 531.543 1455.48 531.543 Q1450.48 531.543 1447.79 529.194 Q1445.11 526.844 1445.11 522.449 Q1445.11 519.553 1446.77 517.548 Q1448.43 515.542 1451.39 514.854 M1449.89 508.392 Q1449.89 510.742 1451.35 512.059 Q1452.83 513.375 1455.48 513.375 Q1458.12 513.375 1459.59 512.059 Q1461.09 510.742 1461.09 508.392 Q1461.09 506.043 1459.59 504.726 Q1458.12 503.41 1455.48 503.41 Q1452.83 503.41 1451.35 504.726 Q1449.89 506.043 1449.89 508.392 Z\" fill=\"#000000\" fill-rule=\"evenodd\" fill-opacity=\"1\" /><path clip-path=\"url(#clip070)\" d=\"M1273.9 820.75 Q1270.74 820.75 1269.14 823.869 Q1267.56 826.968 1267.56 833.207 Q1267.56 839.425 1269.14 842.544 Q1270.74 845.643 1273.9 845.643 Q1277.08 845.643 1278.66 842.544 Q1280.26 839.425 1280.26 833.207 Q1280.26 826.968 1278.66 823.869 Q1277.08 820.75 1273.9 820.75 M1273.9 817.51 Q1278.98 817.51 1281.66 821.54 Q1284.35 825.551 1284.35 833.207 Q1284.35 840.843 1281.66 844.873 Q1278.98 848.884 1273.9 848.884 Q1268.81 848.884 1266.12 844.873 Q1263.45 840.843 1263.45 833.207 Q1263.45 825.551 1266.12 821.54 Q1268.81 817.51 1273.9 817.51 Z\" fill=\"#000000\" fill-rule=\"evenodd\" fill-opacity=\"1\" /><path clip-path=\"url(#clip070)\" d=\"M1291.54 843.152 L1295.81 843.152 L1295.81 848.296 L1291.54 848.296 L1291.54 843.152 Z\" fill=\"#000000\" fill-rule=\"evenodd\" fill-opacity=\"1\" /><path clip-path=\"url(#clip070)\" d=\"M1305.43 844.853 L1312.12 844.853 L1312.12 821.783 L1304.85 823.242 L1304.85 819.515 L1312.08 818.056 L1316.17 818.056 L1316.17 844.853 L1322.85 844.853 L1322.85 848.296 L1305.43 848.296 L1305.43 844.853 Z\" fill=\"#000000\" fill-rule=\"evenodd\" fill-opacity=\"1\" /><path clip-path=\"url(#clip070)\" d=\"M1331.83 844.853 L1338.51 844.853 L1338.51 821.783 L1331.24 823.242 L1331.24 819.515 L1338.47 818.056 L1342.56 818.056 L1342.56 844.853 L1349.24 844.853 L1349.24 848.296 L1331.83 848.296 L1331.83 844.853 Z\" fill=\"#000000\" fill-rule=\"evenodd\" fill-opacity=\"1\" /><path clip-path=\"url(#clip070)\" d=\"M957.541 1071.74 Q954.381 1071.74 952.781 1074.86 Q951.201 1077.96 951.201 1084.19 Q951.201 1090.41 952.781 1093.53 Q954.381 1096.63 957.541 1096.63 Q960.721 1096.63 962.301 1093.53 Q963.901 1090.41 963.901 1084.19 Q963.901 1077.96 962.301 1074.86 Q960.721 1071.74 957.541 1071.74 M957.541 1068.5 Q962.625 1068.5 965.299 1072.53 Q967.992 1076.54 967.992 1084.19 Q967.992 1091.83 965.299 1095.86 Q962.625 1099.87 957.541 1099.87 Q952.457 1099.87 949.763 1095.86 Q947.09 1091.83 947.09 1084.19 Q947.09 1076.54 949.763 1072.53 Q952.457 1068.5 957.541 1068.5 Z\" fill=\"#000000\" fill-rule=\"evenodd\" fill-opacity=\"1\" /><path clip-path=\"url(#clip070)\" d=\"M975.183 1094.14 L979.456 1094.14 L979.456 1099.28 L975.183 1099.28 L975.183 1094.14 Z\" fill=\"#000000\" fill-rule=\"evenodd\" fill-opacity=\"1\" /><path clip-path=\"url(#clip070)\" d=\"M999.61 1072.61 L989.28 1088.75 L999.61 1088.75 L999.61 1072.61 M998.536 1069.04 L1003.68 1069.04 L1003.68 1088.75 L1008 1088.75 L1008 1092.15 L1003.68 1092.15 L1003.68 1099.28 L999.61 1099.28 L999.61 1092.15 L985.958 1092.15 L985.958 1088.2 L998.536 1069.04 Z\" fill=\"#000000\" fill-rule=\"evenodd\" fill-opacity=\"1\" /><path clip-path=\"url(#clip070)\" d=\"M1026 1072.61 L1015.67 1088.75 L1026 1088.75 L1026 1072.61 M1024.93 1069.04 L1030.07 1069.04 L1030.07 1088.75 L1034.39 1088.75 L1034.39 1092.15 L1030.07 1092.15 L1030.07 1099.28 L1026 1099.28 L1026 1092.15 L1012.35 1092.15 L1012.35 1088.2 L1024.93 1069.04 Z\" fill=\"#000000\" fill-rule=\"evenodd\" fill-opacity=\"1\" /><path clip-path=\"url(#clip070)\" d=\"M883.135 578.312 Q879.976 578.312 878.376 581.432 Q876.796 584.531 876.796 590.769 Q876.796 596.987 878.376 600.106 Q879.976 603.205 883.135 603.205 Q886.315 603.205 887.895 600.106 Q889.495 596.987 889.495 590.769 Q889.495 584.531 887.895 581.432 Q886.315 578.312 883.135 578.312 M883.135 575.072 Q888.219 575.072 890.893 579.102 Q893.587 583.113 893.587 590.769 Q893.587 598.405 890.893 602.436 Q888.219 606.446 883.135 606.446 Q878.052 606.446 875.358 602.436 Q872.684 598.405 872.684 590.769 Q872.684 583.113 875.358 579.102 Q878.052 575.072 883.135 575.072 Z\" fill=\"#000000\" fill-rule=\"evenodd\" fill-opacity=\"1\" /><path clip-path=\"url(#clip070)\" d=\"M900.777 600.714 L905.051 600.714 L905.051 605.859 L900.777 605.859 L900.777 600.714 Z\" fill=\"#000000\" fill-rule=\"evenodd\" fill-opacity=\"1\" /><path clip-path=\"url(#clip070)\" d=\"M926.359 589.554 Q929.296 590.182 930.936 592.167 Q932.597 594.151 932.597 597.068 Q932.597 601.544 929.518 603.995 Q926.44 606.446 920.768 606.446 Q918.864 606.446 916.839 606.061 Q914.834 605.697 912.687 604.947 L912.687 600.998 Q914.388 601.99 916.414 602.496 Q918.439 603.003 920.647 603.003 Q924.495 603.003 926.5 601.484 Q928.526 599.965 928.526 597.068 Q928.526 594.395 926.642 592.896 Q924.779 591.377 921.437 591.377 L917.912 591.377 L917.912 588.014 L921.599 588.014 Q924.617 588.014 926.217 586.819 Q927.817 585.604 927.817 583.336 Q927.817 581.006 926.156 579.771 Q924.515 578.515 921.437 578.515 Q919.756 578.515 917.831 578.88 Q915.907 579.244 913.598 580.014 L913.598 576.368 Q915.928 575.72 917.953 575.396 Q919.999 575.072 921.801 575.072 Q926.46 575.072 929.174 577.198 Q931.888 579.305 931.888 582.91 Q931.888 585.422 930.45 587.164 Q929.012 588.885 926.359 589.554 Z\" fill=\"#000000\" fill-rule=\"evenodd\" fill-opacity=\"1\" /><path clip-path=\"url(#clip070)\" d=\"M952.75 589.554 Q955.687 590.182 957.328 592.167 Q958.989 594.151 958.989 597.068 Q958.989 601.544 955.91 603.995 Q952.831 606.446 947.16 606.446 Q945.256 606.446 943.231 606.061 Q941.225 605.697 939.078 604.947 L939.078 600.998 Q940.78 601.99 942.805 602.496 Q944.831 603.003 947.038 603.003 Q950.887 603.003 952.892 601.484 Q954.917 599.965 954.917 597.068 Q954.917 594.395 953.034 592.896 Q951.17 591.377 947.828 591.377 L944.304 591.377 L944.304 588.014 L947.99 588.014 Q951.008 588.014 952.608 586.819 Q954.209 585.604 954.209 583.336 Q954.209 581.006 952.548 579.771 Q950.907 578.515 947.828 578.515 Q946.147 578.515 944.223 578.88 Q942.299 579.244 939.99 580.014 L939.99 576.368 Q942.319 575.72 944.345 575.396 Q946.39 575.072 948.193 575.072 Q952.852 575.072 955.566 577.198 Q958.28 579.305 958.28 582.91 Q958.28 585.422 956.842 587.164 Q955.404 588.885 952.75 589.554 Z\" fill=\"#000000\" fill-rule=\"evenodd\" fill-opacity=\"1\" /><path clip-path=\"url(#clip070)\" d=\"M1066.53 945.666 Q1063.37 945.666 1061.77 948.785 Q1060.19 951.884 1060.19 958.122 Q1060.19 964.341 1061.77 967.46 Q1063.37 970.559 1066.53 970.559 Q1069.71 970.559 1071.29 967.46 Q1072.89 964.341 1072.89 958.122 Q1072.89 951.884 1071.29 948.785 Q1069.71 945.666 1066.53 945.666 M1066.53 942.425 Q1071.61 942.425 1074.28 946.456 Q1076.98 950.466 1076.98 958.122 Q1076.98 965.758 1074.28 969.789 Q1071.61 973.799 1066.53 973.799 Q1061.44 973.799 1058.75 969.789 Q1056.07 965.758 1056.07 958.122 Q1056.07 950.466 1058.75 946.456 Q1061.44 942.425 1066.53 942.425 Z\" fill=\"#000000\" fill-rule=\"evenodd\" fill-opacity=\"1\" /><path clip-path=\"url(#clip070)\" d=\"M1084.17 968.067 L1088.44 968.067 L1088.44 973.212 L1084.17 973.212 L1084.17 968.067 Z\" fill=\"#000000\" fill-rule=\"evenodd\" fill-opacity=\"1\" /><path clip-path=\"url(#clip070)\" d=\"M1106.1 945.666 Q1102.94 945.666 1101.34 948.785 Q1099.76 951.884 1099.76 958.122 Q1099.76 964.341 1101.34 967.46 Q1102.94 970.559 1106.1 970.559 Q1109.28 970.559 1110.86 967.46 Q1112.46 964.341 1112.46 958.122 Q1112.46 951.884 1110.86 948.785 Q1109.28 945.666 1106.1 945.666 M1106.1 942.425 Q1111.19 942.425 1113.86 946.456 Q1116.55 950.466 1116.55 958.122 Q1116.55 965.758 1113.86 969.789 Q1111.19 973.799 1106.1 973.799 Q1101.02 973.799 1098.32 969.789 Q1095.65 965.758 1095.65 958.122 Q1095.65 950.466 1098.32 946.456 Q1101.02 942.425 1106.1 942.425 Z\" fill=\"#000000\" fill-rule=\"evenodd\" fill-opacity=\"1\" /><path clip-path=\"url(#clip070)\" d=\"M1127.27 969.769 L1141.55 969.769 L1141.55 973.212 L1122.35 973.212 L1122.35 969.769 Q1124.68 967.358 1128.69 963.308 Q1132.72 959.236 1133.75 958.062 Q1135.71 955.854 1136.48 954.335 Q1137.27 952.795 1137.27 951.317 Q1137.27 948.907 1135.57 947.388 Q1133.89 945.868 1131.18 945.868 Q1129.25 945.868 1127.11 946.537 Q1124.98 947.205 1122.55 948.562 L1122.55 944.43 Q1125.02 943.438 1127.17 942.932 Q1129.31 942.425 1131.1 942.425 Q1135.8 942.425 1138.59 944.775 Q1141.39 947.124 1141.39 951.054 Q1141.39 952.917 1140.68 954.598 Q1139.99 956.259 1138.15 958.527 Q1137.64 959.115 1134.92 961.93 Q1132.21 964.725 1127.27 969.769 Z\" fill=\"#000000\" fill-rule=\"evenodd\" fill-opacity=\"1\" /><path clip-path=\"url(#clip070)\" d=\"M1158.89 958.852 Q1155.97 958.852 1154.29 960.411 Q1152.63 961.971 1152.63 964.705 Q1152.63 967.439 1154.29 968.999 Q1155.97 970.559 1158.89 970.559 Q1161.8 970.559 1163.48 968.999 Q1165.16 967.419 1165.16 964.705 Q1165.16 961.971 1163.48 960.411 Q1161.82 958.852 1158.89 958.852 M1154.79 957.11 Q1152.16 956.462 1150.68 954.659 Q1149.22 952.856 1149.22 950.264 Q1149.22 946.638 1151.8 944.532 Q1154.39 942.425 1158.89 942.425 Q1163.4 942.425 1165.98 944.532 Q1168.55 946.638 1168.55 950.264 Q1168.55 952.856 1167.07 954.659 Q1165.61 956.462 1163 957.11 Q1165.95 957.798 1167.6 959.804 Q1169.26 961.809 1169.26 964.705 Q1169.26 969.1 1166.56 971.45 Q1163.89 973.799 1158.89 973.799 Q1153.88 973.799 1151.19 971.45 Q1148.52 969.1 1148.52 964.705 Q1148.52 961.809 1150.18 959.804 Q1151.84 957.798 1154.79 957.11 M1153.3 950.648 Q1153.3 952.998 1154.75 954.315 Q1156.23 955.631 1158.89 955.631 Q1161.52 955.631 1163 954.315 Q1164.5 952.998 1164.5 950.648 Q1164.5 948.299 1163 946.982 Q1161.52 945.666 1158.89 945.666 Q1156.23 945.666 1154.75 946.982 Q1153.3 948.299 1153.3 950.648 Z\" fill=\"#000000\" fill-rule=\"evenodd\" fill-opacity=\"1\" /><path clip-path=\"url(#clip070)\" d=\"M1107.87 580.917 Q1104.71 580.917 1103.11 584.036 Q1101.53 587.135 1101.53 593.374 Q1101.53 599.592 1103.11 602.711 Q1104.71 605.81 1107.87 605.81 Q1111.05 605.81 1112.63 602.711 Q1114.23 599.592 1114.23 593.374 Q1114.23 587.135 1112.63 584.036 Q1111.05 580.917 1107.87 580.917 M1107.87 577.677 Q1112.96 577.677 1115.63 581.707 Q1118.32 585.718 1118.32 593.374 Q1118.32 601.01 1115.63 605.04 Q1112.96 609.051 1107.87 609.051 Q1102.79 609.051 1100.09 605.04 Q1097.42 601.01 1097.42 593.374 Q1097.42 585.718 1100.09 581.707 Q1102.79 577.677 1107.87 577.677 Z\" fill=\"#000000\" fill-rule=\"evenodd\" fill-opacity=\"1\" /><path clip-path=\"url(#clip070)\" d=\"M1125.51 603.319 L1129.79 603.319 L1129.79 608.463 L1125.51 608.463 L1125.51 603.319 Z\" fill=\"#000000\" fill-rule=\"evenodd\" fill-opacity=\"1\" /><path clip-path=\"url(#clip070)\" d=\"M1147.45 580.917 Q1144.29 580.917 1142.69 584.036 Q1141.11 587.135 1141.11 593.374 Q1141.11 599.592 1142.69 602.711 Q1144.29 605.81 1147.45 605.81 Q1150.63 605.81 1152.21 602.711 Q1153.81 599.592 1153.81 593.374 Q1153.81 587.135 1152.21 584.036 Q1150.63 580.917 1147.45 580.917 M1147.45 577.677 Q1152.53 577.677 1155.21 581.707 Q1157.9 585.718 1157.9 593.374 Q1157.9 601.01 1155.21 605.04 Q1152.53 609.051 1147.45 609.051 Q1142.36 609.051 1139.67 605.04 Q1137 601.01 1137 593.374 Q1137 585.718 1139.67 581.707 Q1142.36 577.677 1147.45 577.677 Z\" fill=\"#000000\" fill-rule=\"evenodd\" fill-opacity=\"1\" /><path clip-path=\"url(#clip070)\" d=\"M1165.13 578.223 L1181.19 578.223 L1181.19 581.667 L1168.88 581.667 L1168.88 589.08 Q1169.77 588.776 1170.66 588.634 Q1171.55 588.472 1172.44 588.472 Q1177.51 588.472 1180.46 591.247 Q1183.42 594.022 1183.42 598.762 Q1183.42 603.643 1180.38 606.357 Q1177.34 609.051 1171.81 609.051 Q1169.91 609.051 1167.93 608.727 Q1165.96 608.403 1163.85 607.755 L1163.85 603.643 Q1165.68 604.635 1167.62 605.121 Q1169.57 605.608 1171.73 605.608 Q1175.24 605.608 1177.28 603.764 Q1179.33 601.921 1179.33 598.762 Q1179.33 595.602 1177.28 593.759 Q1175.24 591.915 1171.73 591.915 Q1170.09 591.915 1168.45 592.28 Q1166.83 592.645 1165.13 593.414 L1165.13 578.223 Z\" fill=\"#000000\" fill-rule=\"evenodd\" fill-opacity=\"1\" /><path clip-path=\"url(#clip070)\" d=\"M825.683 658.425 Q822.523 658.425 820.923 661.545 Q819.343 664.644 819.343 670.882 Q819.343 677.1 820.923 680.219 Q822.523 683.318 825.683 683.318 Q828.863 683.318 830.443 680.219 Q832.043 677.1 832.043 670.882 Q832.043 664.644 830.443 661.545 Q828.863 658.425 825.683 658.425 M825.683 655.185 Q830.767 655.185 833.44 659.215 Q836.134 663.226 836.134 670.882 Q836.134 678.518 833.44 682.549 Q830.767 686.559 825.683 686.559 Q820.599 686.559 817.905 682.549 Q815.232 678.518 815.232 670.882 Q815.232 663.226 817.905 659.215 Q820.599 655.185 825.683 655.185 Z\" fill=\"#000000\" fill-rule=\"evenodd\" fill-opacity=\"1\" /><path clip-path=\"url(#clip070)\" d=\"M843.325 680.827 L847.598 680.827 L847.598 685.972 L843.325 685.972 L843.325 680.827 Z\" fill=\"#000000\" fill-rule=\"evenodd\" fill-opacity=\"1\" /><path clip-path=\"url(#clip070)\" d=\"M865.26 658.425 Q862.101 658.425 860.5 661.545 Q858.921 664.644 858.921 670.882 Q858.921 677.1 860.5 680.219 Q862.101 683.318 865.26 683.318 Q868.44 683.318 870.02 680.219 Q871.62 677.1 871.62 670.882 Q871.62 664.644 870.02 661.545 Q868.44 658.425 865.26 658.425 M865.26 655.185 Q870.344 655.185 873.018 659.215 Q875.712 663.226 875.712 670.882 Q875.712 678.518 873.018 682.549 Q870.344 686.559 865.26 686.559 Q860.176 686.559 857.482 682.549 Q854.809 678.518 854.809 670.882 Q854.809 663.226 857.482 659.215 Q860.176 655.185 865.26 655.185 Z\" fill=\"#000000\" fill-rule=\"evenodd\" fill-opacity=\"1\" /><path clip-path=\"url(#clip070)\" d=\"M883.023 685.344 L883.023 681.617 Q884.563 682.346 886.143 682.731 Q887.722 683.116 889.242 683.116 Q893.292 683.116 895.419 680.402 Q897.566 677.667 897.87 672.117 Q896.695 673.859 894.893 674.791 Q893.09 675.723 890.902 675.723 Q886.365 675.723 883.712 672.988 Q881.079 670.234 881.079 665.474 Q881.079 660.815 883.834 658 Q886.588 655.185 891.166 655.185 Q896.412 655.185 899.166 659.215 Q901.941 663.226 901.941 670.882 Q901.941 678.032 898.538 682.305 Q895.156 686.559 889.424 686.559 Q887.885 686.559 886.305 686.255 Q884.725 685.951 883.023 685.344 M891.166 672.523 Q893.92 672.523 895.52 670.639 Q897.141 668.755 897.141 665.474 Q897.141 662.213 895.52 660.329 Q893.92 658.425 891.166 658.425 Q888.411 658.425 886.791 660.329 Q885.191 662.213 885.191 665.474 Q885.191 668.755 886.791 670.639 Q888.411 672.523 891.166 672.523 Z\" fill=\"#000000\" fill-rule=\"evenodd\" fill-opacity=\"1\" /><path clip-path=\"url(#clip070)\" d=\"M921.689 669.667 Q924.626 670.295 926.267 672.279 Q927.928 674.264 927.928 677.181 Q927.928 681.657 924.849 684.108 Q921.77 686.559 916.099 686.559 Q914.195 686.559 912.17 686.174 Q910.165 685.809 908.018 685.06 L908.018 681.11 Q909.719 682.103 911.744 682.609 Q913.77 683.116 915.978 683.116 Q919.826 683.116 921.831 681.597 Q923.857 680.077 923.857 677.181 Q923.857 674.507 921.973 673.009 Q920.109 671.49 916.767 671.49 L913.243 671.49 L913.243 668.127 L916.93 668.127 Q919.947 668.127 921.548 666.932 Q923.148 665.717 923.148 663.448 Q923.148 661.119 921.487 659.884 Q919.846 658.628 916.767 658.628 Q915.086 658.628 913.162 658.992 Q911.238 659.357 908.929 660.127 L908.929 656.481 Q911.258 655.833 913.284 655.509 Q915.329 655.185 917.132 655.185 Q921.791 655.185 924.505 657.311 Q927.219 659.418 927.219 663.023 Q927.219 665.535 925.781 667.277 Q924.343 668.998 921.689 669.667 Z\" fill=\"#000000\" fill-rule=\"evenodd\" fill-opacity=\"1\" /><path clip-path=\"url(#clip070)\" d=\"M409.53 1004.09 Q406.37 1004.09 404.77 1007.21 Q403.19 1010.31 403.19 1016.55 Q403.19 1022.76 404.77 1025.88 Q406.37 1028.98 409.53 1028.98 Q412.71 1028.98 414.29 1025.88 Q415.89 1022.76 415.89 1016.55 Q415.89 1010.31 414.29 1007.21 Q412.71 1004.09 409.53 1004.09 M409.53 1000.85 Q414.614 1000.85 417.287 1004.88 Q419.981 1008.89 419.981 1016.55 Q419.981 1024.18 417.287 1028.21 Q414.614 1032.22 409.53 1032.22 Q404.446 1032.22 401.752 1028.21 Q399.079 1024.18 399.079 1016.55 Q399.079 1008.89 401.752 1004.88 Q404.446 1000.85 409.53 1000.85 Z\" fill=\"#000000\" fill-rule=\"evenodd\" fill-opacity=\"1\" /><path clip-path=\"url(#clip070)\" d=\"M427.172 1026.49 L431.445 1026.49 L431.445 1031.64 L427.172 1031.64 L427.172 1026.49 Z\" fill=\"#000000\" fill-rule=\"evenodd\" fill-opacity=\"1\" /><path clip-path=\"url(#clip070)\" d=\"M451.598 1004.96 L441.269 1021.1 L451.598 1021.1 L451.598 1004.96 M450.525 1001.4 L455.67 1001.4 L455.67 1021.1 L459.984 1021.1 L459.984 1024.51 L455.67 1024.51 L455.67 1031.64 L451.598 1031.64 L451.598 1024.51 L437.947 1024.51 L437.947 1020.56 L450.525 1001.4 Z\" fill=\"#000000\" fill-rule=\"evenodd\" fill-opacity=\"1\" /><path clip-path=\"url(#clip070)\" d=\"M465.716 1001.4 L485.16 1001.4 L485.16 1003.14 L474.182 1031.64 L469.909 1031.64 L480.238 1004.84 L465.716 1004.84 L465.716 1001.4 Z\" fill=\"#000000\" fill-rule=\"evenodd\" fill-opacity=\"1\" /><path clip-path=\"url(#clip070)\" d=\"M1008.85 700.239 Q1005.69 700.239 1004.09 703.358 Q1002.51 706.457 1002.51 712.695 Q1002.51 718.913 1004.09 722.033 Q1005.69 725.132 1008.85 725.132 Q1012.03 725.132 1013.61 722.033 Q1015.21 718.913 1015.21 712.695 Q1015.21 706.457 1013.61 703.358 Q1012.03 700.239 1008.85 700.239 M1008.85 696.998 Q1013.94 696.998 1016.61 701.029 Q1019.3 705.039 1019.3 712.695 Q1019.3 720.331 1016.61 724.362 Q1013.94 728.372 1008.85 728.372 Q1003.77 728.372 1001.07 724.362 Q998.401 720.331 998.401 712.695 Q998.401 705.039 1001.07 701.029 Q1003.77 696.998 1008.85 696.998 Z\" fill=\"#000000\" fill-rule=\"evenodd\" fill-opacity=\"1\" /><path clip-path=\"url(#clip070)\" d=\"M1026.49 722.64 L1030.77 722.64 L1030.77 727.785 L1026.49 727.785 L1026.49 722.64 Z\" fill=\"#000000\" fill-rule=\"evenodd\" fill-opacity=\"1\" /><path clip-path=\"url(#clip070)\" d=\"M1052.08 711.48 Q1055.01 712.108 1056.65 714.093 Q1058.31 716.078 1058.31 718.994 Q1058.31 723.471 1055.24 725.921 Q1052.16 728.372 1046.49 728.372 Q1044.58 728.372 1042.56 727.987 Q1040.55 727.623 1038.4 726.873 L1038.4 722.924 Q1040.1 723.916 1042.13 724.423 Q1044.16 724.929 1046.36 724.929 Q1050.21 724.929 1052.22 723.41 Q1054.24 721.891 1054.24 718.994 Q1054.24 716.321 1052.36 714.822 Q1050.5 713.303 1047.15 713.303 L1043.63 713.303 L1043.63 709.941 L1047.32 709.941 Q1050.33 709.941 1051.93 708.746 Q1053.53 707.53 1053.53 705.262 Q1053.53 702.933 1051.87 701.697 Q1050.23 700.441 1047.15 700.441 Q1045.47 700.441 1043.55 700.806 Q1041.62 701.17 1039.32 701.94 L1039.32 698.294 Q1041.64 697.646 1043.67 697.322 Q1045.72 696.998 1047.52 696.998 Q1052.18 696.998 1054.89 699.125 Q1057.6 701.231 1057.6 704.837 Q1057.6 707.348 1056.17 709.09 Q1054.73 710.812 1052.08 711.48 Z\" fill=\"#000000\" fill-rule=\"evenodd\" fill-opacity=\"1\" /><path clip-path=\"url(#clip070)\" d=\"M1075.33 711.034 Q1072.57 711.034 1070.95 712.918 Q1069.35 714.802 1069.35 718.083 Q1069.35 721.344 1070.95 723.248 Q1072.57 725.132 1075.33 725.132 Q1078.08 725.132 1079.68 723.248 Q1081.3 721.344 1081.3 718.083 Q1081.3 714.802 1079.68 712.918 Q1078.08 711.034 1075.33 711.034 M1083.45 698.213 L1083.45 701.94 Q1081.91 701.211 1080.33 700.826 Q1078.77 700.441 1077.23 700.441 Q1073.18 700.441 1071.03 703.176 Q1068.91 705.91 1068.6 711.44 Q1069.8 709.677 1071.6 708.746 Q1073.4 707.794 1075.57 707.794 Q1080.13 707.794 1082.76 710.569 Q1085.41 713.323 1085.41 718.083 Q1085.41 722.742 1082.66 725.557 Q1079.91 728.372 1075.33 728.372 Q1070.08 728.372 1067.31 724.362 Q1064.53 720.331 1064.53 712.695 Q1064.53 705.525 1067.93 701.272 Q1071.34 696.998 1077.07 696.998 Q1078.61 696.998 1080.17 697.302 Q1081.75 697.606 1083.45 698.213 Z\" fill=\"#000000\" fill-rule=\"evenodd\" fill-opacity=\"1\" /><path clip-path=\"url(#clip070)\" d=\"M1360.91 727.994 Q1357.75 727.994 1356.15 731.113 Q1354.57 734.212 1354.57 740.451 Q1354.57 746.669 1356.15 749.788 Q1357.75 752.887 1360.91 752.887 Q1364.09 752.887 1365.67 749.788 Q1367.27 746.669 1367.27 740.451 Q1367.27 734.212 1365.67 731.113 Q1364.09 727.994 1360.91 727.994 M1360.91 724.754 Q1365.99 724.754 1368.67 728.784 Q1371.36 732.795 1371.36 740.451 Q1371.36 748.087 1368.67 752.117 Q1365.99 756.128 1360.91 756.128 Q1355.83 756.128 1353.13 752.117 Q1350.46 748.087 1350.46 740.451 Q1350.46 732.795 1353.13 728.784 Q1355.83 724.754 1360.91 724.754 Z\" fill=\"#000000\" fill-rule=\"evenodd\" fill-opacity=\"1\" /><path clip-path=\"url(#clip070)\" d=\"M1378.55 750.396 L1382.83 750.396 L1382.83 755.54 L1378.55 755.54 L1378.55 750.396 Z\" fill=\"#000000\" fill-rule=\"evenodd\" fill-opacity=\"1\" /><path clip-path=\"url(#clip070)\" d=\"M1400.49 727.994 Q1397.33 727.994 1395.73 731.113 Q1394.15 734.212 1394.15 740.451 Q1394.15 746.669 1395.73 749.788 Q1397.33 752.887 1400.49 752.887 Q1403.67 752.887 1405.25 749.788 Q1406.85 746.669 1406.85 740.451 Q1406.85 734.212 1405.25 731.113 Q1403.67 727.994 1400.49 727.994 M1400.49 724.754 Q1405.57 724.754 1408.25 728.784 Q1410.94 732.795 1410.94 740.451 Q1410.94 748.087 1408.25 752.117 Q1405.57 756.128 1400.49 756.128 Q1395.4 756.128 1392.71 752.117 Q1390.04 748.087 1390.04 740.451 Q1390.04 732.795 1392.71 728.784 Q1395.4 724.754 1400.49 724.754 Z\" fill=\"#000000\" fill-rule=\"evenodd\" fill-opacity=\"1\" /><path clip-path=\"url(#clip070)\" d=\"M1421.65 752.097 L1435.93 752.097 L1435.93 755.54 L1416.73 755.54 L1416.73 752.097 Q1419.06 749.687 1423.07 745.636 Q1427.1 741.565 1428.14 740.39 Q1430.1 738.182 1430.87 736.663 Q1431.66 735.124 1431.66 733.645 Q1431.66 731.235 1429.96 729.716 Q1428.28 728.197 1425.56 728.197 Q1423.64 728.197 1421.49 728.865 Q1419.37 729.534 1416.93 730.891 L1416.93 726.759 Q1419.41 725.766 1421.55 725.26 Q1423.7 724.754 1425.48 724.754 Q1430.18 724.754 1432.98 727.103 Q1435.77 729.453 1435.77 733.382 Q1435.77 735.245 1435.06 736.926 Q1434.37 738.587 1432.53 740.856 Q1432.02 741.443 1429.31 744.259 Q1426.6 747.054 1421.65 752.097 Z\" fill=\"#000000\" fill-rule=\"evenodd\" fill-opacity=\"1\" /><path clip-path=\"url(#clip070)\" d=\"M1444.56 725.3 L1460.62 725.3 L1460.62 728.744 L1448.31 728.744 L1448.31 736.157 Q1449.2 735.853 1450.09 735.711 Q1450.98 735.549 1451.87 735.549 Q1456.94 735.549 1459.89 738.324 Q1462.85 741.099 1462.85 745.838 Q1462.85 750.72 1459.81 753.434 Q1456.78 756.128 1451.25 756.128 Q1449.34 756.128 1447.36 755.804 Q1445.39 755.48 1443.29 754.831 L1443.29 750.72 Q1445.11 751.712 1447.05 752.198 Q1449 752.685 1451.17 752.685 Q1454.67 752.685 1456.71 750.841 Q1458.76 748.998 1458.76 745.838 Q1458.76 742.679 1456.71 740.836 Q1454.67 738.992 1451.17 738.992 Q1449.52 738.992 1447.88 739.357 Q1446.26 739.722 1444.56 740.491 L1444.56 725.3 Z\" fill=\"#000000\" fill-rule=\"evenodd\" fill-opacity=\"1\" /><path clip-path=\"url(#clip070)\" d=\"M1449.59 252.967 Q1446.43 252.967 1444.83 256.086 Q1443.25 259.185 1443.25 265.424 Q1443.25 271.642 1444.83 274.761 Q1446.43 277.86 1449.59 277.86 Q1452.77 277.86 1454.35 274.761 Q1455.95 271.642 1455.95 265.424 Q1455.95 259.185 1454.35 256.086 Q1452.77 252.967 1449.59 252.967 M1449.59 249.727 Q1454.67 249.727 1457.34 253.757 Q1460.04 257.768 1460.04 265.424 Q1460.04 273.06 1457.34 277.09 Q1454.67 281.101 1449.59 281.101 Q1444.5 281.101 1441.81 277.09 Q1439.14 273.06 1439.14 265.424 Q1439.14 257.768 1441.81 253.757 Q1444.5 249.727 1449.59 249.727 Z\" fill=\"#000000\" fill-rule=\"evenodd\" fill-opacity=\"1\" /><path clip-path=\"url(#clip070)\" d=\"M1467.23 275.369 L1471.5 275.369 L1471.5 280.513 L1467.23 280.513 L1467.23 275.369 Z\" fill=\"#000000\" fill-rule=\"evenodd\" fill-opacity=\"1\" /><path clip-path=\"url(#clip070)\" d=\"M1489.16 252.967 Q1486 252.967 1484.4 256.086 Q1482.82 259.185 1482.82 265.424 Q1482.82 271.642 1484.4 274.761 Q1486 277.86 1489.16 277.86 Q1492.34 277.86 1493.92 274.761 Q1495.52 271.642 1495.52 265.424 Q1495.52 259.185 1493.92 256.086 Q1492.34 252.967 1489.16 252.967 M1489.16 249.727 Q1494.25 249.727 1496.92 253.757 Q1499.62 257.768 1499.62 265.424 Q1499.62 273.06 1496.92 277.09 Q1494.25 281.101 1489.16 281.101 Q1484.08 281.101 1481.39 277.09 Q1478.71 273.06 1478.71 265.424 Q1478.71 257.768 1481.39 253.757 Q1484.08 249.727 1489.16 249.727 Z\" fill=\"#000000\" fill-rule=\"evenodd\" fill-opacity=\"1\" /><path clip-path=\"url(#clip070)\" d=\"M1518.05 253.838 L1507.72 269.981 L1518.05 269.981 L1518.05 253.838 M1516.97 250.273 L1522.12 250.273 L1522.12 269.981 L1526.43 269.981 L1526.43 273.384 L1522.12 273.384 L1522.12 280.513 L1518.05 280.513 L1518.05 273.384 L1504.4 273.384 L1504.4 269.434 L1516.97 250.273 Z\" fill=\"#000000\" fill-rule=\"evenodd\" fill-opacity=\"1\" /><path clip-path=\"url(#clip070)\" d=\"M1533.24 250.273 L1549.3 250.273 L1549.3 253.717 L1536.99 253.717 L1536.99 261.13 Q1537.88 260.826 1538.77 260.684 Q1539.66 260.522 1540.55 260.522 Q1545.61 260.522 1548.57 263.297 Q1551.53 266.072 1551.53 270.811 Q1551.53 275.693 1548.49 278.407 Q1545.45 281.101 1539.92 281.101 Q1538.02 281.101 1536.03 280.777 Q1534.07 280.453 1531.96 279.804 L1531.96 275.693 Q1533.79 276.685 1535.73 277.171 Q1537.67 277.658 1539.84 277.658 Q1543.35 277.658 1545.39 275.814 Q1547.44 273.971 1547.44 270.811 Q1547.44 267.652 1545.39 265.809 Q1543.35 263.965 1539.84 263.965 Q1538.2 263.965 1536.56 264.33 Q1534.94 264.695 1533.24 265.464 L1533.24 250.273 Z\" fill=\"#000000\" fill-rule=\"evenodd\" fill-opacity=\"1\" /><path clip-path=\"url(#clip070)\" d=\"M1296.24 459.153 Q1293.09 459.153 1291.48 462.272 Q1289.91 465.371 1289.91 471.609 Q1289.91 477.827 1291.48 480.946 Q1293.09 484.045 1296.24 484.045 Q1299.42 484.045 1301 480.946 Q1302.6 477.827 1302.6 471.609 Q1302.6 465.371 1301 462.272 Q1299.42 459.153 1296.24 459.153 M1296.24 455.912 Q1301.33 455.912 1304 459.943 Q1306.7 463.953 1306.7 471.609 Q1306.7 479.245 1304 483.276 Q1301.33 487.286 1296.24 487.286 Q1291.16 487.286 1288.47 483.276 Q1285.79 479.245 1285.79 471.609 Q1285.79 463.953 1288.47 459.943 Q1291.16 455.912 1296.24 455.912 Z\" fill=\"#000000\" fill-rule=\"evenodd\" fill-opacity=\"1\" /><path clip-path=\"url(#clip070)\" d=\"M1313.89 481.554 L1318.16 481.554 L1318.16 486.699 L1313.89 486.699 L1313.89 481.554 Z\" fill=\"#000000\" fill-rule=\"evenodd\" fill-opacity=\"1\" /><path clip-path=\"url(#clip070)\" d=\"M1335.82 459.153 Q1332.66 459.153 1331.06 462.272 Q1329.48 465.371 1329.48 471.609 Q1329.48 477.827 1331.06 480.946 Q1332.66 484.045 1335.82 484.045 Q1339 484.045 1340.58 480.946 Q1342.18 477.827 1342.18 471.609 Q1342.18 465.371 1340.58 462.272 Q1339 459.153 1335.82 459.153 M1335.82 455.912 Q1340.91 455.912 1343.58 459.943 Q1346.27 463.953 1346.27 471.609 Q1346.27 479.245 1343.58 483.276 Q1340.91 487.286 1335.82 487.286 Q1330.74 487.286 1328.04 483.276 Q1325.37 479.245 1325.37 471.609 Q1325.37 463.953 1328.04 459.943 Q1330.74 455.912 1335.82 455.912 Z\" fill=\"#000000\" fill-rule=\"evenodd\" fill-opacity=\"1\" /><path clip-path=\"url(#clip070)\" d=\"M1353.59 486.071 L1353.59 482.344 Q1355.12 483.073 1356.7 483.458 Q1358.28 483.843 1359.8 483.843 Q1363.85 483.843 1365.98 481.129 Q1368.13 478.394 1368.43 472.845 Q1367.26 474.587 1365.45 475.518 Q1363.65 476.45 1361.46 476.45 Q1356.93 476.45 1354.27 473.716 Q1351.64 470.961 1351.64 466.201 Q1351.64 461.543 1354.4 458.727 Q1357.15 455.912 1361.73 455.912 Q1366.97 455.912 1369.73 459.943 Q1372.5 463.953 1372.5 471.609 Q1372.5 478.759 1369.1 483.033 Q1365.72 487.286 1359.99 487.286 Q1358.45 487.286 1356.87 486.982 Q1355.29 486.678 1353.59 486.071 M1361.73 473.25 Q1364.48 473.25 1366.08 471.366 Q1367.7 469.482 1367.7 466.201 Q1367.7 462.94 1366.08 461.057 Q1364.48 459.153 1361.73 459.153 Q1358.97 459.153 1357.35 461.057 Q1355.75 462.94 1355.75 466.201 Q1355.75 469.482 1357.35 471.366 Q1358.97 473.25 1361.73 473.25 Z\" fill=\"#000000\" fill-rule=\"evenodd\" fill-opacity=\"1\" /><path clip-path=\"url(#clip070)\" d=\"M632.804 492.241 Q629.644 492.241 628.044 495.36 Q626.464 498.459 626.464 504.698 Q626.464 510.916 628.044 514.035 Q629.644 517.134 632.804 517.134 Q635.984 517.134 637.564 514.035 Q639.164 510.916 639.164 504.698 Q639.164 498.459 637.564 495.36 Q635.984 492.241 632.804 492.241 M632.804 489.001 Q637.888 489.001 640.562 493.031 Q643.255 497.042 643.255 504.698 Q643.255 512.334 640.562 516.364 Q637.888 520.375 632.804 520.375 Q627.72 520.375 625.026 516.364 Q622.353 512.334 622.353 504.698 Q622.353 497.042 625.026 493.031 Q627.72 489.001 632.804 489.001 Z\" fill=\"#000000\" fill-rule=\"evenodd\" fill-opacity=\"1\" /><path clip-path=\"url(#clip070)\" d=\"M650.446 514.643 L654.719 514.643 L654.719 519.787 L650.446 519.787 L650.446 514.643 Z\" fill=\"#000000\" fill-rule=\"evenodd\" fill-opacity=\"1\" /><path clip-path=\"url(#clip070)\" d=\"M674.873 493.112 L664.543 509.255 L674.873 509.255 L674.873 493.112 M673.799 489.547 L678.944 489.547 L678.944 509.255 L683.258 509.255 L683.258 512.658 L678.944 512.658 L678.944 519.787 L674.873 519.787 L674.873 512.658 L661.221 512.658 L661.221 508.708 L673.799 489.547 Z\" fill=\"#000000\" fill-rule=\"evenodd\" fill-opacity=\"1\" /><path clip-path=\"url(#clip070)\" d=\"M688.99 489.547 L708.434 489.547 L708.434 491.289 L697.456 519.787 L693.183 519.787 L703.513 492.991 L688.99 492.991 L688.99 489.547 Z\" fill=\"#000000\" fill-rule=\"evenodd\" fill-opacity=\"1\" /><path clip-path=\"url(#clip070)\" d=\"M947.999 28.9967 Q944.839 28.9967 943.239 32.1159 Q941.659 35.2148 941.659 41.4532 Q941.659 47.6713 943.239 50.7905 Q944.839 53.8895 947.999 53.8895 Q951.179 53.8895 952.759 50.7905 Q954.359 47.6713 954.359 41.4532 Q954.359 35.2148 952.759 32.1159 Q951.179 28.9967 947.999 28.9967 M947.999 25.7559 Q953.083 25.7559 955.756 29.7866 Q958.45 33.797 958.45 41.4532 Q958.45 49.0892 955.756 53.1198 Q953.083 57.1302 947.999 57.1302 Q942.915 57.1302 940.221 53.1198 Q937.548 49.0892 937.548 41.4532 Q937.548 33.797 940.221 29.7866 Q942.915 25.7559 947.999 25.7559 Z\" fill=\"#000000\" fill-rule=\"evenodd\" fill-opacity=\"1\" /><path clip-path=\"url(#clip070)\" d=\"M965.641 51.3982 L969.914 51.3982 L969.914 56.5428 L965.641 56.5428 L965.641 51.3982 Z\" fill=\"#000000\" fill-rule=\"evenodd\" fill-opacity=\"1\" /><path clip-path=\"url(#clip070)\" d=\"M991.222 40.2379 Q994.159 40.8658 995.8 42.8508 Q997.46 44.8357 997.46 47.7524 Q997.46 52.2286 994.382 54.6794 Q991.303 57.1302 985.632 57.1302 Q983.728 57.1302 981.702 56.7454 Q979.697 56.3808 977.55 55.6314 L977.55 51.6817 Q979.252 52.6742 981.277 53.1806 Q983.302 53.6869 985.51 53.6869 Q989.359 53.6869 991.364 52.1678 Q993.389 50.6487 993.389 47.7524 Q993.389 45.0788 991.506 43.5799 Q989.642 42.0608 986.3 42.0608 L982.776 42.0608 L982.776 38.6986 L986.462 38.6986 Q989.48 38.6986 991.08 37.5036 Q992.68 36.2883 992.68 34.0198 Q992.68 31.6905 991.019 30.455 Q989.379 29.1992 986.3 29.1992 Q984.619 29.1992 982.695 29.5638 Q980.771 29.9284 978.462 30.698 L978.462 27.0522 Q980.791 26.4041 982.816 26.08 Q984.862 25.7559 986.665 25.7559 Q991.323 25.7559 994.037 27.8827 Q996.751 29.9891 996.751 33.5944 Q996.751 36.106 995.313 37.8479 Q993.875 39.5695 991.222 40.2379 Z\" fill=\"#000000\" fill-rule=\"evenodd\" fill-opacity=\"1\" /><path clip-path=\"url(#clip070)\" d=\"M1004.18 26.3028 L1023.63 26.3028 L1023.63 28.0447 L1012.65 56.5428 L1008.38 56.5428 L1018.71 29.7461 L1004.18 29.7461 L1004.18 26.3028 Z\" fill=\"#000000\" fill-rule=\"evenodd\" fill-opacity=\"1\" /><path clip-path=\"url(#clip070)\" d=\"M1346.6 1349.36 L1353.28 1349.36 L1353.28 1326.29 L1346.01 1327.75 L1346.01 1324.02 L1353.24 1322.56 L1357.33 1322.56 L1357.33 1349.36 L1364.02 1349.36 L1364.02 1352.8 L1346.6 1352.8 L1346.6 1349.36 Z\" fill=\"#000000\" fill-rule=\"evenodd\" fill-opacity=\"1\" /><path clip-path=\"url(#clip070)\" d=\"M1733 656.661 L1747.28 656.661 L1747.28 660.104 L1728.08 660.104 L1728.08 656.661 Q1730.41 654.25 1734.42 650.199 Q1738.45 646.128 1739.49 644.953 Q1741.45 642.746 1742.22 641.227 Q1743.01 639.687 1743.01 638.209 Q1743.01 635.798 1741.31 634.279 Q1739.63 632.76 1736.91 632.76 Q1734.99 632.76 1732.84 633.429 Q1730.72 634.097 1728.28 635.454 L1728.28 631.322 Q1730.76 630.33 1732.9 629.823 Q1735.05 629.317 1736.83 629.317 Q1741.53 629.317 1744.33 631.666 Q1747.12 634.016 1747.12 637.945 Q1747.12 639.809 1746.41 641.49 Q1745.72 643.151 1743.88 645.419 Q1743.37 646.007 1740.66 648.822 Q1737.95 651.617 1733 656.661 Z\" fill=\"#000000\" fill-rule=\"evenodd\" fill-opacity=\"1\" /><path clip-path=\"url(#clip070)\" d=\"M1203.72 798.815 Q1206.65 799.443 1208.29 801.428 Q1209.96 803.413 1209.96 806.33 Q1209.96 810.806 1206.88 813.257 Q1203.8 815.708 1198.13 815.708 Q1196.22 815.708 1194.2 815.323 Q1192.19 814.958 1190.05 814.209 L1190.05 810.259 Q1191.75 811.252 1193.77 811.758 Q1195.8 812.264 1198.01 812.264 Q1201.85 812.264 1203.86 810.745 Q1205.88 809.226 1205.88 806.33 Q1205.88 803.656 1204 802.157 Q1202.14 800.638 1198.8 800.638 L1195.27 800.638 L1195.27 797.276 L1198.96 797.276 Q1201.98 797.276 1203.58 796.081 Q1205.18 794.866 1205.18 792.597 Q1205.18 790.268 1203.51 789.032 Q1201.87 787.777 1198.8 787.777 Q1197.11 787.777 1195.19 788.141 Q1193.27 788.506 1190.96 789.275 L1190.96 785.63 Q1193.29 784.981 1195.31 784.657 Q1197.36 784.333 1199.16 784.333 Q1203.82 784.333 1206.53 786.46 Q1209.25 788.566 1209.25 792.172 Q1209.25 794.683 1207.81 796.425 Q1206.37 798.147 1203.72 798.815 Z\" fill=\"#000000\" fill-rule=\"evenodd\" fill-opacity=\"1\" /><path clip-path=\"url(#clip070)\" d=\"M664.95 943.46 L654.62 959.603 L664.95 959.603 L664.95 943.46 M663.877 939.895 L669.021 939.895 L669.021 959.603 L673.336 959.603 L673.336 963.006 L669.021 963.006 L669.021 970.135 L664.95 970.135 L664.95 963.006 L651.299 963.006 L651.299 959.056 L663.877 939.895 Z\" fill=\"#000000\" fill-rule=\"evenodd\" fill-opacity=\"1\" /><path clip-path=\"url(#clip070)\" d=\"M1036.48 247.197 L1052.54 247.197 L1052.54 250.64 L1040.22 250.64 L1040.22 258.054 Q1041.12 257.75 1042.01 257.608 Q1042.9 257.446 1043.79 257.446 Q1048.85 257.446 1051.81 260.221 Q1054.77 262.996 1054.77 267.735 Q1054.77 272.617 1051.73 275.331 Q1048.69 278.025 1043.16 278.025 Q1041.26 278.025 1039.27 277.701 Q1037.31 277.376 1035.2 276.728 L1035.2 272.617 Q1037.02 273.609 1038.97 274.095 Q1040.91 274.581 1043.08 274.581 Q1046.58 274.581 1048.63 272.738 Q1050.68 270.895 1050.68 267.735 Q1050.68 264.576 1048.63 262.732 Q1046.58 260.889 1043.08 260.889 Q1041.44 260.889 1039.8 261.254 Q1038.18 261.618 1036.48 262.388 L1036.48 247.197 Z\" fill=\"#000000\" fill-rule=\"evenodd\" fill-opacity=\"1\" /></svg>\n"
      ]
     },
     "execution_count": 101,
     "metadata": {},
     "output_type": "execute_result"
    }
   ],
   "source": [
    "n = 5\n",
    "edgelabel_dict = Dict()\n",
    "edgelabel_mat = Array{String}(undef, n, n)\n",
    "for i in 1:n\n",
    "    for j in 1:n\n",
    "        edgelabel_mat[i, j] = edgelabel_dict[(i, j)] = string(round(g[i,j],sigdigits=2)) \n",
    "    end\n",
    "end\n",
    "edgelabel_vec = edgelabel_mat[:]\n",
    "\n",
    "\n",
    "graphplot(g, names=1:5, curvature_scalar=0.2,  edgelabel=edgelabel_dict, markersize = 0.5,\n",
    "           linecolor = :darkgrey, markercolor = \"yellow\",\n",
    "           linealpha = 0.7)"
   ]
  },
  {
   "cell_type": "code",
   "execution_count": 48,
   "id": "63df4e12",
   "metadata": {},
   "outputs": [
    {
     "data": {
      "text/plain": [
       "5×5 Matrix{Float64}:\n",
       " 0.860082  1.49996  2.43039  11.033   8.5099\n",
       " 0.846386  1.47826  2.41825  11.055   8.53542\n",
       " 0.812576  1.4236   2.38646  11.11    8.60068\n",
       " 0.786893  1.38217  2.36188  11.1516  8.65078\n",
       " 0.782657  1.37533  2.3577   11.1584  8.65924"
      ]
     },
     "execution_count": 48,
     "metadata": {},
     "output_type": "execute_result"
    }
   ],
   "source": [
    "tt=4\n",
    "g+tt*g^2/2+tt^3*g^3/6+tt^4*g^4/24"
   ]
  },
  {
   "cell_type": "code",
   "execution_count": 49,
   "id": "28b1c0c8",
   "metadata": {},
   "outputs": [
    {
     "data": {
      "text/plain": [
       "5×5 Matrix{Float64}:\n",
       " 2.98448  3.44865  5.43726  24.1562  18.5716\n",
       " 1.93566  4.37144  5.39434  24.2346  18.6621\n",
       " 1.8154   3.17698  6.28135  24.4303  18.8941\n",
       " 1.72406  3.02962  5.19382  25.5782  19.0724\n",
       " 1.70901  3.0053   5.1789   24.6023  20.1026"
      ]
     },
     "execution_count": 49,
     "metadata": {},
     "output_type": "execute_result"
    }
   ],
   "source": [
    "exp(g*tt)"
   ]
  },
  {
   "cell_type": "code",
   "execution_count": null,
   "id": "5364e7a7",
   "metadata": {},
   "outputs": [],
   "source": []
  },
  {
   "cell_type": "code",
   "execution_count": 50,
   "id": "3aa3dabf",
   "metadata": {},
   "outputs": [
    {
     "data": {
      "text/plain": [
       "5-element Vector{Float64}:\n",
       " 0.1\n",
       " 0.32\n",
       " 0.2\n",
       " 0.11\n",
       " 0.4"
      ]
     },
     "execution_count": 50,
     "metadata": {},
     "output_type": "execute_result"
    }
   ],
   "source": [
    "tk=vec([1 34 2 112 44])\n",
    "xk=vec([0.1 0.32 0.2 0.11 0.4])"
   ]
  },
  {
   "cell_type": "code",
   "execution_count": 51,
   "id": "3468f6cb",
   "metadata": {},
   "outputs": [
    {
     "data": {
      "text/html": [
       "<div class=\"data-frame\"><p>25 rows × 6 columns</p><table class=\"data-frame\"><thead><tr><th></th><th>k</th><th>i</th><th>GWP</th><th>Theta</th><th>Per_Recycl</th><th>Per_Comp</th></tr><tr><th></th><th title=\"Int64\">Int64</th><th title=\"Int64\">Int64</th><th title=\"Int64\">Int64</th><th title=\"Float64\">Float64</th><th title=\"Float64\">Float64</th><th title=\"Float64\">Float64</th></tr></thead><tbody><tr><th>1</th><td>1</td><td>1</td><td>80</td><td>0.6</td><td>0.5</td><td>0.0</td></tr><tr><th>2</th><td>2</td><td>1</td><td>86</td><td>0.66</td><td>0.55</td><td>0.0</td></tr><tr><th>3</th><td>3</td><td>1</td><td>91</td><td>0.68</td><td>0.567</td><td>0.0</td></tr><tr><th>4</th><td>4</td><td>1</td><td>95</td><td>0.7</td><td>0.583</td><td>0.0</td></tr><tr><th>5</th><td>5</td><td>2</td><td>60</td><td>0.4</td><td>0.0</td><td>0.2</td></tr><tr><th>6</th><td>6</td><td>2</td><td>64</td><td>0.48</td><td>0.0</td><td>0.24</td></tr><tr><th>7</th><td>7</td><td>2</td><td>68</td><td>0.5</td><td>0.0</td><td>0.27</td></tr><tr><th>8</th><td>8</td><td>2</td><td>76</td><td>0.52</td><td>0.0</td><td>0.34</td></tr><tr><th>9</th><td>9</td><td>2</td><td>80</td><td>0.54</td><td>0.0</td><td>0.37</td></tr><tr><th>10</th><td>10</td><td>2</td><td>85</td><td>0.55</td><td>0.0</td><td>0.4</td></tr><tr><th>11</th><td>11</td><td>3</td><td>85</td><td>0.6</td><td>0.6</td><td>0.3</td></tr><tr><th>12</th><td>12</td><td>3</td><td>89</td><td>0.68</td><td>0.55</td><td>0.4</td></tr><tr><th>13</th><td>13</td><td>3</td><td>93</td><td>0.76</td><td>0.53</td><td>0.4</td></tr><tr><th>14</th><td>14</td><td>3</td><td>95</td><td>0.82</td><td>0.5</td><td>0.4</td></tr><tr><th>15</th><td>15</td><td>4</td><td>75</td><td>0.65</td><td>0.0</td><td>0.5</td></tr><tr><th>16</th><td>16</td><td>4</td><td>78</td><td>0.69</td><td>0.0</td><td>0.531</td></tr><tr><th>17</th><td>17</td><td>4</td><td>80</td><td>0.71</td><td>0.0</td><td>0.55</td></tr><tr><th>18</th><td>18</td><td>4</td><td>81</td><td>0.72</td><td>0.0</td><td>0.55</td></tr><tr><th>19</th><td>19</td><td>4</td><td>83</td><td>0.74</td><td>0.0</td><td>0.57</td></tr><tr><th>20</th><td>20</td><td>4</td><td>85</td><td>0.75</td><td>0.0</td><td>0.8</td></tr><tr><th>21</th><td>21</td><td>5</td><td>90</td><td>0.9</td><td>0.7</td><td>0.15</td></tr><tr><th>22</th><td>22</td><td>5</td><td>92</td><td>0.92</td><td>0.716</td><td>0.1</td></tr><tr><th>23</th><td>23</td><td>5</td><td>94</td><td>0.94</td><td>0.731</td><td>0.0</td></tr><tr><th>24</th><td>24</td><td>5</td><td>96</td><td>0.95</td><td>0.738</td><td>0.0</td></tr><tr><th>25</th><td>25</td><td>5</td><td>100</td><td>0.95</td><td>0.738</td><td>0.0</td></tr></tbody></table></div>"
      ],
      "text/latex": [
       "\\begin{tabular}{r|cccccc}\n",
       "\t& k & i & GWP & Theta & Per\\_Recycl & Per\\_Comp\\\\\n",
       "\t\\hline\n",
       "\t& Int64 & Int64 & Int64 & Float64 & Float64 & Float64\\\\\n",
       "\t\\hline\n",
       "\t1 & 1 & 1 & 80 & 0.6 & 0.5 & 0.0 \\\\\n",
       "\t2 & 2 & 1 & 86 & 0.66 & 0.55 & 0.0 \\\\\n",
       "\t3 & 3 & 1 & 91 & 0.68 & 0.567 & 0.0 \\\\\n",
       "\t4 & 4 & 1 & 95 & 0.7 & 0.583 & 0.0 \\\\\n",
       "\t5 & 5 & 2 & 60 & 0.4 & 0.0 & 0.2 \\\\\n",
       "\t6 & 6 & 2 & 64 & 0.48 & 0.0 & 0.24 \\\\\n",
       "\t7 & 7 & 2 & 68 & 0.5 & 0.0 & 0.27 \\\\\n",
       "\t8 & 8 & 2 & 76 & 0.52 & 0.0 & 0.34 \\\\\n",
       "\t9 & 9 & 2 & 80 & 0.54 & 0.0 & 0.37 \\\\\n",
       "\t10 & 10 & 2 & 85 & 0.55 & 0.0 & 0.4 \\\\\n",
       "\t11 & 11 & 3 & 85 & 0.6 & 0.6 & 0.3 \\\\\n",
       "\t12 & 12 & 3 & 89 & 0.68 & 0.55 & 0.4 \\\\\n",
       "\t13 & 13 & 3 & 93 & 0.76 & 0.53 & 0.4 \\\\\n",
       "\t14 & 14 & 3 & 95 & 0.82 & 0.5 & 0.4 \\\\\n",
       "\t15 & 15 & 4 & 75 & 0.65 & 0.0 & 0.5 \\\\\n",
       "\t16 & 16 & 4 & 78 & 0.69 & 0.0 & 0.531 \\\\\n",
       "\t17 & 17 & 4 & 80 & 0.71 & 0.0 & 0.55 \\\\\n",
       "\t18 & 18 & 4 & 81 & 0.72 & 0.0 & 0.55 \\\\\n",
       "\t19 & 19 & 4 & 83 & 0.74 & 0.0 & 0.57 \\\\\n",
       "\t20 & 20 & 4 & 85 & 0.75 & 0.0 & 0.8 \\\\\n",
       "\t21 & 21 & 5 & 90 & 0.9 & 0.7 & 0.15 \\\\\n",
       "\t22 & 22 & 5 & 92 & 0.92 & 0.716 & 0.1 \\\\\n",
       "\t23 & 23 & 5 & 94 & 0.94 & 0.731 & 0.0 \\\\\n",
       "\t24 & 24 & 5 & 96 & 0.95 & 0.738 & 0.0 \\\\\n",
       "\t25 & 25 & 5 & 100 & 0.95 & 0.738 & 0.0 \\\\\n",
       "\\end{tabular}\n"
      ],
      "text/plain": [
       "\u001b[1m25×6 DataFrame\u001b[0m\n",
       "\u001b[1m Row \u001b[0m│\u001b[1m k     \u001b[0m\u001b[1m i     \u001b[0m\u001b[1m GWP   \u001b[0m\u001b[1m Theta   \u001b[0m\u001b[1m Per_Recycl \u001b[0m\u001b[1m Per_Comp \u001b[0m\n",
       "\u001b[1m     \u001b[0m│\u001b[90m Int64 \u001b[0m\u001b[90m Int64 \u001b[0m\u001b[90m Int64 \u001b[0m\u001b[90m Float64 \u001b[0m\u001b[90m Float64    \u001b[0m\u001b[90m Float64  \u001b[0m\n",
       "─────┼────────────────────────────────────────────────────\n",
       "   1 │     1      1     80     0.6        0.5       0.0\n",
       "   2 │     2      1     86     0.66       0.55      0.0\n",
       "   3 │     3      1     91     0.68       0.567     0.0\n",
       "   4 │     4      1     95     0.7        0.583     0.0\n",
       "   5 │     5      2     60     0.4        0.0       0.2\n",
       "   6 │     6      2     64     0.48       0.0       0.24\n",
       "   7 │     7      2     68     0.5        0.0       0.27\n",
       "   8 │     8      2     76     0.52       0.0       0.34\n",
       "   9 │     9      2     80     0.54       0.0       0.37\n",
       "  10 │    10      2     85     0.55       0.0       0.4\n",
       "  11 │    11      3     85     0.6        0.6       0.3\n",
       "  ⋮  │   ⋮      ⋮      ⋮       ⋮         ⋮          ⋮\n",
       "  16 │    16      4     78     0.69       0.0       0.531\n",
       "  17 │    17      4     80     0.71       0.0       0.55\n",
       "  18 │    18      4     81     0.72       0.0       0.55\n",
       "  19 │    19      4     83     0.74       0.0       0.57\n",
       "  20 │    20      4     85     0.75       0.0       0.8\n",
       "  21 │    21      5     90     0.9        0.7       0.15\n",
       "  22 │    22      5     92     0.92       0.716     0.1\n",
       "  23 │    23      5     94     0.94       0.731     0.0\n",
       "  24 │    24      5     96     0.95       0.738     0.0\n",
       "  25 │    25      5    100     0.95       0.738     0.0\n",
       "\u001b[36m                                            4 rows omitted\u001b[0m"
      ]
     },
     "execution_count": 51,
     "metadata": {},
     "output_type": "execute_result"
    }
   ],
   "source": [
    "xk[give_sorted(tk)]\n",
    "v=give_sorted(tk)\n",
    "v\n",
    "compromise"
   ]
  },
  {
   "cell_type": "code",
   "execution_count": 52,
   "id": "4e2ead5b-7b01-4354-895b-dfc62df29869",
   "metadata": {},
   "outputs": [
    {
     "data": {
      "text/plain": [
       "1×5 Matrix{Float64}:\n",
       " 0.0280624  0.0499089  0.0930683  0.465243  0.363718"
      ]
     },
     "execution_count": 52,
     "metadata": {},
     "output_type": "execute_result"
    }
   ],
   "source": [
    "q=get_rate_mat(2)\n",
    "t=50\n",
    "s0=[0 0 0 1 0]\n",
    "(s0*(exp(q*t)))"
   ]
  },
  {
   "cell_type": "code",
   "execution_count": 53,
   "id": "d0749555",
   "metadata": {},
   "outputs": [
    {
     "name": "stdout",
     "output_type": "stream",
     "text": [
      "0.1\n",
      "0.30000000000000004\n",
      "0.6200000000000001\n",
      "1.02\n",
      "1.1300000000000001\n"
     ]
    }
   ],
   "source": [
    "for i in 1:size(tk)[1]\n",
    "    print(sum(xk[v[j]] for j in 1:i))\n",
    "    print(\"\\n\")\n",
    "end"
   ]
  },
  {
   "cell_type": "code",
   "execution_count": 54,
   "id": "73d91cf2",
   "metadata": {},
   "outputs": [
    {
     "data": {
      "text/plain": [
       "5"
      ]
     },
     "execution_count": 54,
     "metadata": {},
     "output_type": "execute_result"
    }
   ],
   "source": [
    "size(tk)[1]"
   ]
  },
  {
   "cell_type": "code",
   "execution_count": 55,
   "id": "76fb40ab",
   "metadata": {},
   "outputs": [
    {
     "name": "stdout",
     "output_type": "stream",
     "text": [
      "96.0\n",
      "34.8\n",
      "-162.32\n",
      "-1954.3200000000002\n"
     ]
    }
   ],
   "source": [
    "for i in 1:(size(tk)[1]-1)\n",
    "    print(initial[1,3]*tk[v][1]-sum(xk[v[j]]*tk[v][j+1]*(initial[1,3]-compromise[v,3][j]) for j in 1:i))\n",
    "    print(\"\\n\")\n",
    "end"
   ]
  },
  {
   "cell_type": "code",
   "execution_count": 56,
   "id": "94fb60e1",
   "metadata": {},
   "outputs": [
    {
     "data": {
      "text/plain": [
       "5×5 Matrix{Float64}:\n",
       " -8.12409   6.87956     1.78832   0.456204   0.0\n",
       "  2.42126  -5.56168     3.83202   0.308399   0.0\n",
       "  1.78144   2.93413   -13.9701    9.49102    0.763473\n",
       "  0.0       0.405941    1.92079  -8.90099    7.57426\n",
       "  0.0       0.0         0.0       8.92857   -7.92857"
      ]
     },
     "execution_count": 56,
     "metadata": {},
     "output_type": "execute_result"
    }
   ],
   "source": [
    "apprx=I+get_rate_mat(4)*50"
   ]
  },
  {
   "cell_type": "code",
   "execution_count": 57,
   "id": "96625c4f-7709-4cd3-99af-6d31c7d93f0e",
   "metadata": {},
   "outputs": [
    {
     "data": {
      "text/plain": [
       "1×5 Matrix{Float64}:\n",
       " 5.34431  8.8024  -41.9102  28.4731  2.29042"
      ]
     },
     "execution_count": 57,
     "metadata": {},
     "output_type": "execute_result"
    }
   ],
   "source": [
    "n1=[1 2 3 4 5].*[0 0 1 0 0]*apprx"
   ]
  },
  {
   "cell_type": "code",
   "execution_count": 58,
   "id": "cbfc6aaa-e841-4735-815c-863c4bf3e725",
   "metadata": {},
   "outputs": [
    {
     "data": {
      "text/plain": [
       "3.0000000000000013"
      ]
     },
     "execution_count": 58,
     "metadata": {},
     "output_type": "execute_result"
    }
   ],
   "source": [
    "sum(n1)"
   ]
  },
  {
   "cell_type": "code",
   "execution_count": 59,
   "id": "e4346172-859d-49f5-911a-a71d509d20fc",
   "metadata": {},
   "outputs": [
    {
     "data": {
      "text/plain": [
       "5×5 Matrix{Float64}:\n",
       "  43.4219   -44.3599     -6.13627     5.66386    2.41037\n",
       " -13.1551    29.9792    -34.9618     16.507      2.63077\n",
       " -16.1275   -20.6002    114.411    -104.268     27.5842\n",
       "   2.20233   -0.117564  -21.1875     83.1052   -63.0025\n",
       "   0.0        1.81223     8.57496   -75.132     65.7448"
      ]
     },
     "execution_count": 59,
     "metadata": {},
     "output_type": "execute_result"
    }
   ],
   "source": [
    "i=4\n",
    "s0=[0 0 0 0 0]\n",
    "s0[i]=rl[i]\n",
    "q=get_rate_mat(i)\n",
    "t=50\n",
    "apprx=I+q*t+1/2*t^2*q^2"
   ]
  },
  {
   "cell_type": "code",
   "execution_count": 60,
   "id": "1b70908a-ab80-448f-bebf-11643b4c0ba1",
   "metadata": {},
   "outputs": [
    {
     "data": {
      "text/plain": [
       "3.000000000000057"
      ]
     },
     "execution_count": 60,
     "metadata": {},
     "output_type": "execute_result"
    }
   ],
   "source": [
    "n1=[1 2 3 4 5].*[0 0 1 0 0]*apprx\n",
    "sum(n1)"
   ]
  },
  {
   "cell_type": "code",
   "execution_count": 61,
   "id": "ea7ce0db-61af-4f60-a7f7-557c856ec2f9",
   "metadata": {},
   "outputs": [
    {
     "data": {
      "text/plain": [
       "-41.11305631301775"
      ]
     },
     "execution_count": 61,
     "metadata": {},
     "output_type": "execute_result"
    }
   ],
   "source": [
    "get_RL_atT(4,50)"
   ]
  },
  {
   "cell_type": "code",
   "execution_count": 62,
   "id": "ecd28874-fd6c-4fe2-b6b7-766fd2c3f5a3",
   "metadata": {},
   "outputs": [
    {
     "data": {
      "text/plain": [
       "1×5 Matrix{Int64}:\n",
       " 0  0  0  3  0"
      ]
     },
     "execution_count": 62,
     "metadata": {},
     "output_type": "execute_result"
    }
   ],
   "source": [
    "s0"
   ]
  },
  {
   "cell_type": "code",
   "execution_count": 63,
   "id": "bf001aaa",
   "metadata": {},
   "outputs": [
    {
     "data": {
      "text/plain": [
       "8.178628123098022"
      ]
     },
     "execution_count": 63,
     "metadata": {},
     "output_type": "execute_result"
    }
   ],
   "source": [
    "\n",
    "i=2\n",
    "t=50\n",
    "s0=[0 0 0 0 0]\n",
    "s0[rl[i]]=1\n",
    "q=get_rate_mat(i)\n",
    "#rl_t=sum([1 2 3 4 5].*(s0*exp(q*t)))\n",
    "rl_t=sum([1 2 3 4 5].*(s0*(I+t*q+1/2*t^2*q^2)))"
   ]
  },
  {
   "cell_type": "code",
   "execution_count": 64,
   "id": "884ef550",
   "metadata": {},
   "outputs": [
    {
     "data": {
      "text/plain": [
       "1×5 Matrix{Int64}:\n",
       " 0  0  0  1  0"
      ]
     },
     "execution_count": 64,
     "metadata": {},
     "output_type": "execute_result"
    }
   ],
   "source": [
    "s0=[0 0.2 0.3 0.4 0.1]\n",
    "s1=[0 0 0 1 0]"
   ]
  },
  {
   "cell_type": "code",
   "execution_count": 65,
   "id": "9c476cf8",
   "metadata": {},
   "outputs": [
    {
     "data": {
      "text/plain": [
       "1×5 Matrix{Float64}:\n",
       " 18.7711  -24.5321  5.34423  -7.83121  9.248"
      ]
     },
     "execution_count": 65,
     "metadata": {},
     "output_type": "execute_result"
    }
   ],
   "source": [
    "s0*(I+t.*q+((1/2)*t^2).*q^2+((1/6)*t^3).*q^3+((1/24)*t^4).*q^4+((1/120)*t^5).*q^5)"
   ]
  },
  {
   "cell_type": "code",
   "execution_count": 66,
   "id": "6526aa97",
   "metadata": {},
   "outputs": [
    {
     "data": {
      "text/plain": [
       "5×5 Matrix{Float64}:\n",
       " -138.354     241.038    -165.434     67.2842    -3.53511\n",
       "   66.0809   -182.399     251.702   -234.925    100.541\n",
       "   31.4691     52.7655   -254.965    436.357   -264.626\n",
       "  -11.9463    -11.7273     99.6773  -306.575    231.571\n",
       "    8.92662     8.08954   -83.7745   308.766   -241.008"
      ]
     },
     "execution_count": 66,
     "metadata": {},
     "output_type": "execute_result"
    }
   ],
   "source": [
    "(I+t.*q+((1/2)*t^2).*q^2+((1/6)*t^3).*q^3+((1/24)*t^4).*q^4+((1/120)*t^5).*q^5)"
   ]
  },
  {
   "cell_type": "code",
   "execution_count": 67,
   "id": "36099cf6",
   "metadata": {},
   "outputs": [
    {
     "data": {
      "text/plain": [
       "5×5 Matrix{Float64}:\n",
       " -94.2609   313.131   -519.969    684.184  -382.085\n",
       "  25.8329  -239.916    596.533  -1069.33    687.883\n",
       "  64.8606    87.1085  -543.548   1347.24   -954.662\n",
       " -38.9508   -39.9843   304.811   -837.239   612.363\n",
       "  37.0407    37.7705  -292.265    821.345  -602.892"
      ]
     },
     "execution_count": 67,
     "metadata": {},
     "output_type": "execute_result"
    }
   ],
   "source": [
    "(I+sum((1/factorial(i))*(t^i)*(q^i) for i in 1:20))"
   ]
  },
  {
   "cell_type": "code",
   "execution_count": 68,
   "id": "210757e1",
   "metadata": {},
   "outputs": [
    {
     "data": {
      "text/plain": [
       "3.9693414106379463"
      ]
     },
     "execution_count": 68,
     "metadata": {},
     "output_type": "execute_result"
    }
   ],
   "source": [
    "sum([1 2 3 4 5].*(s0*exp(q*t)))"
   ]
  },
  {
   "cell_type": "code",
   "execution_count": 69,
   "id": "6d07aa35",
   "metadata": {},
   "outputs": [
    {
     "data": {
      "text/plain": [
       "3.9693414106379463"
      ]
     },
     "execution_count": 69,
     "metadata": {},
     "output_type": "execute_result"
    }
   ],
   "source": [
    "sum([1 2 3 4 5].*(s0*(exp(q*t))))"
   ]
  },
  {
   "cell_type": "code",
   "execution_count": 70,
   "id": "712acaf6",
   "metadata": {},
   "outputs": [
    {
     "data": {
      "text/plain": [
       "5×5 Matrix{Float64}:\n",
       " -0.120192    0.0930288    0.0227163   0.00444712   0.0\n",
       "  0.039819   -0.113122     0.0667421   0.00656109   0.0\n",
       "  0.0168571   0.0287143   -0.142857    0.0918571    0.00542857\n",
       "  0.0         0.00141414   0.020404   -0.10101      0.0791919\n",
       "  0.0         0.0          0.0         0.103627    -0.103627"
      ]
     },
     "execution_count": 70,
     "metadata": {},
     "output_type": "execute_result"
    }
   ],
   "source": [
    "q"
   ]
  },
  {
   "cell_type": "code",
   "execution_count": 71,
   "id": "9df6bc6c-0f36-47c0-9c58-0d6ae2dbc83b",
   "metadata": {},
   "outputs": [
    {
     "data": {
      "text/plain": [
       "5×5 Matrix{Float64}:\n",
       " 0.0771895  0.128895   0.138814   0.385642  0.269459\n",
       " 0.0679296  0.114343   0.130868   0.400474  0.286385\n",
       " 0.0452652  0.0776663  0.109623   0.437398  0.330047\n",
       " 0.0280624  0.0499089  0.0930683  0.465243  0.363718\n",
       " 0.0252328  0.0453331  0.0902223  0.46976   0.369452"
      ]
     },
     "execution_count": 71,
     "metadata": {},
     "output_type": "execute_result"
    }
   ],
   "source": [
    "exp(q*50)"
   ]
  },
  {
   "cell_type": "code",
   "execution_count": 72,
   "id": "2672cc01",
   "metadata": {},
   "outputs": [
    {
     "data": {
      "text/plain": [
       "5×5 Matrix{Float64}:\n",
       " -0.120192    0.0930288    0.0227163   0.00444712   0.0\n",
       "  0.039819   -0.113122     0.0667421   0.00656109   0.0\n",
       "  0.0168571   0.0287143   -0.142857    0.0918571    0.00542857\n",
       "  0.0         0.00141414   0.020404   -0.10101      0.0791919\n",
       "  0.0         0.0          0.0         0.103627    -0.103627"
      ]
     },
     "execution_count": 72,
     "metadata": {},
     "output_type": "execute_result"
    }
   ],
   "source": [
    "q"
   ]
  },
  {
   "cell_type": "code",
   "execution_count": 73,
   "id": "77ca1906",
   "metadata": {},
   "outputs": [
    {
     "data": {
      "text/plain": [
       "5-element Vector{Float64}:\n",
       " -0.2098085085920511\n",
       " -0.17936850177094582\n",
       " -0.15160942696594223\n",
       " -0.040022229181495284\n",
       "  2.0816681711721685e-17"
      ]
     },
     "execution_count": 73,
     "metadata": {},
     "output_type": "execute_result"
    }
   ],
   "source": [
    "eigvals(q)"
   ]
  },
  {
   "cell_type": "code",
   "execution_count": 74,
   "id": "25ce5bcd",
   "metadata": {},
   "outputs": [
    {
     "data": {
      "text/plain": [
       "5×5 Matrix{Float64}:\n",
       " -0.434616   0.838843      0.877579    0.754836   0.447214\n",
       "  0.537586  -0.543012     -0.194178    0.60145    0.447214\n",
       " -0.552263   0.0384604    -0.404635    0.215999   0.447214\n",
       "  0.333468   0.000561943  -0.0708359  -0.0772814  0.447214\n",
       " -0.325445  -0.00076883    0.152983   -0.125909   0.447214"
      ]
     },
     "execution_count": 74,
     "metadata": {},
     "output_type": "execute_result"
    }
   ],
   "source": [
    "eigvecs(q)"
   ]
  },
  {
   "cell_type": "code",
   "execution_count": 75,
   "id": "7fcf23ed",
   "metadata": {},
   "outputs": [
    {
     "data": {
      "text/plain": [
       "5×5 Diagonal{Float64, Vector{Float64}}:\n",
       " -0.209809    ⋅          ⋅          ⋅          ⋅ \n",
       "   ⋅        -0.179369    ⋅          ⋅          ⋅ \n",
       "   ⋅          ⋅        -0.151609    ⋅          ⋅ \n",
       "   ⋅          ⋅          ⋅        -0.0400222   ⋅ \n",
       "   ⋅          ⋅          ⋅          ⋅         2.08167e-17"
      ]
     },
     "execution_count": 75,
     "metadata": {},
     "output_type": "execute_result"
    }
   ],
   "source": [
    "Diagonal(eigvals(q))"
   ]
  },
  {
   "cell_type": "code",
   "execution_count": 76,
   "id": "e9e6e6f8",
   "metadata": {},
   "outputs": [
    {
     "data": {
      "text/plain": [
       "1×5 Matrix{Int64}:\n",
       " 0  0  1  0  0"
      ]
     },
     "execution_count": 76,
     "metadata": {},
     "output_type": "execute_result"
    }
   ],
   "source": [
    "s1=[0 0 0 0 0]\n",
    "s1[rl[i]]=1\n",
    "s1"
   ]
  },
  {
   "cell_type": "code",
   "execution_count": 77,
   "id": "b7273ba6",
   "metadata": {},
   "outputs": [
    {
     "data": {
      "text/plain": [
       "5×5 Matrix{Float64}:\n",
       " -6.00962       4.65144       1.13582       0.222356   2.58992e-15\n",
       "  1.99095      -5.65611       3.3371        0.328054  -9.62798e-16\n",
       "  0.842857      1.43571      -7.14286       4.59286    0.271429\n",
       " -8.68107e-16   0.0707071     1.0202       -5.05051    3.9596\n",
       " -1.46485e-15  -5.14331e-17   1.04499e-15   5.18135   -5.18135"
      ]
     },
     "execution_count": 77,
     "metadata": {},
     "output_type": "execute_result"
    }
   ],
   "source": [
    "q=get_rate_mat(2)\n",
    "d=eigvecs(q)*Diagonal(eigvals(q)*t)*inv(eigvecs(q))\n",
    "#d=eigvecs(q)*(I+t*Diagonal(eigvals(q)))*inv(eigvecs(q))"
   ]
  },
  {
   "cell_type": "code",
   "execution_count": 78,
   "id": "d0821426",
   "metadata": {},
   "outputs": [
    {
     "data": {
      "text/plain": [
       "2.0142857142857187"
      ]
     },
     "execution_count": 78,
     "metadata": {},
     "output_type": "execute_result"
    }
   ],
   "source": [
    "sum([1 2 3 4 5].*(s1*d))"
   ]
  },
  {
   "cell_type": "code",
   "execution_count": 79,
   "id": "0be78a6c",
   "metadata": {},
   "outputs": [
    {
     "data": {
      "text/plain": [
       "1×5 Matrix{Int64}:\n",
       " 0  0  1  0  0"
      ]
     },
     "execution_count": 79,
     "metadata": {},
     "output_type": "execute_result"
    }
   ],
   "source": [
    "s1"
   ]
  },
  {
   "cell_type": "code",
   "execution_count": null,
   "id": "aa61157e",
   "metadata": {},
   "outputs": [],
   "source": []
  },
  {
   "cell_type": "code",
   "execution_count": 80,
   "id": "1dbbb137-e2f4-4cc1-9753-c55e766381d0",
   "metadata": {},
   "outputs": [
    {
     "data": {
      "text/plain": [
       "-13.899832849996947"
      ]
     },
     "execution_count": 80,
     "metadata": {},
     "output_type": "execute_result"
    }
   ],
   "source": [
    "get_RL_atT(1,50)"
   ]
  },
  {
   "cell_type": "code",
   "execution_count": 81,
   "id": "2d64fcb0-4dc9-444a-8700-35ecef45ef82",
   "metadata": {},
   "outputs": [
    {
     "data": {
      "text/plain": [
       "5×5 Matrix{Float64}:\n",
       "   24.8037     -30.5065     -20.7009      81.0788        -10.3392\n",
       "   36.1094   12337.0      16959.0     -32236.3          3609.06\n",
       "  188.362    26705.1      41500.9     -79407.9          8876.7\n",
       " -184.609   -38797.5     -61959.7          1.20847e5  -13593.4\n",
       "   83.4968   20899.2      33492.6     -65783.5          7418.99"
      ]
     },
     "execution_count": 81,
     "metadata": {},
     "output_type": "execute_result"
    }
   ],
   "source": [
    "i=1\n",
    "q=get_rate_mat(i)\n",
    "t=50\n",
    "eigvecs(q)'*(I+t*Diagonal(eigvals(q))+t^2*Diagonal(eigvals(q).^2))*inv(eigvecs(q)')"
   ]
  },
  {
   "cell_type": "code",
   "execution_count": 82,
   "id": "a69b6b6f-0a6a-4ab6-ab4b-56d299b87d27",
   "metadata": {},
   "outputs": [
    {
     "data": {
      "text/html": [
       "<div class=\"data-frame\"><p>5 rows × 33 columns (omitted printing of 24 columns)</p><table class=\"data-frame\"><thead><tr><th></th><th>i</th><th>Cost_per_RL</th><th>RL</th><th>Sojourn1</th><th>Sojourn2</th><th>Sojourn3</th><th>Sojourn4</th><th>Sojourn5</th><th>P11</th></tr><tr><th></th><th title=\"Int64\">Int64</th><th title=\"Int64\">Int64</th><th title=\"Int64\">Int64</th><th title=\"Float64\">Float64</th><th title=\"Float64\">Float64</th><th title=\"Float64\">Float64</th><th title=\"Float64\">Float64</th><th title=\"Float64\">Float64</th><th title=\"Int64\">Int64</th></tr></thead><tbody><tr><th>1</th><td>1</td><td>92</td><td>2</td><td>4.6</td><td>1.34</td><td>2.04</td><td>0.12</td><td>8.86</td><td>0</td></tr><tr><th>2</th><td>2</td><td>122</td><td>3</td><td>8.32</td><td>8.84</td><td>7.0</td><td>9.9</td><td>9.65</td><td>0</td></tr><tr><th>3</th><td>3</td><td>78</td><td>1</td><td>4.44</td><td>1.21</td><td>5.09</td><td>6.52</td><td>8.67</td><td>0</td></tr><tr><th>4</th><td>4</td><td>131</td><td>3</td><td>5.48</td><td>7.62</td><td>3.34</td><td>5.05</td><td>5.6</td><td>0</td></tr><tr><th>5</th><td>5</td><td>95</td><td>1</td><td>9.94</td><td>2.38</td><td>7.94</td><td>3.82</td><td>5.44</td><td>0</td></tr></tbody></table></div>"
      ],
      "text/latex": [
       "\\begin{tabular}{r|cccccccccc}\n",
       "\t& i & Cost\\_per\\_RL & RL & Sojourn1 & Sojourn2 & Sojourn3 & Sojourn4 & Sojourn5 & P11 & \\\\\n",
       "\t\\hline\n",
       "\t& Int64 & Int64 & Int64 & Float64 & Float64 & Float64 & Float64 & Float64 & Int64 & \\\\\n",
       "\t\\hline\n",
       "\t1 & 1 & 92 & 2 & 4.6 & 1.34 & 2.04 & 0.12 & 8.86 & 0 & $\\dots$ \\\\\n",
       "\t2 & 2 & 122 & 3 & 8.32 & 8.84 & 7.0 & 9.9 & 9.65 & 0 & $\\dots$ \\\\\n",
       "\t3 & 3 & 78 & 1 & 4.44 & 1.21 & 5.09 & 6.52 & 8.67 & 0 & $\\dots$ \\\\\n",
       "\t4 & 4 & 131 & 3 & 5.48 & 7.62 & 3.34 & 5.05 & 5.6 & 0 & $\\dots$ \\\\\n",
       "\t5 & 5 & 95 & 1 & 9.94 & 2.38 & 7.94 & 3.82 & 5.44 & 0 & $\\dots$ \\\\\n",
       "\\end{tabular}\n"
      ],
      "text/plain": [
       "\u001b[1m5×33 DataFrame\u001b[0m\n",
       "\u001b[1m Row \u001b[0m│\u001b[1m i     \u001b[0m\u001b[1m Cost_per_RL \u001b[0m\u001b[1m RL    \u001b[0m\u001b[1m Sojourn1 \u001b[0m\u001b[1m Sojourn2 \u001b[0m\u001b[1m Sojourn3 \u001b[0m\u001b[1m Sojourn4 \u001b[0m\u001b[1m Sojo\u001b[0m ⋯\n",
       "\u001b[1m     \u001b[0m│\u001b[90m Int64 \u001b[0m\u001b[90m Int64       \u001b[0m\u001b[90m Int64 \u001b[0m\u001b[90m Float64  \u001b[0m\u001b[90m Float64  \u001b[0m\u001b[90m Float64  \u001b[0m\u001b[90m Float64  \u001b[0m\u001b[90m Floa\u001b[0m ⋯\n",
       "─────┼──────────────────────────────────────────────────────────────────────────\n",
       "   1 │     1           92      2      4.6       1.34      2.04      0.12       ⋯\n",
       "   2 │     2          122      3      8.32      8.84      7.0       9.9\n",
       "   3 │     3           78      1      4.44      1.21      5.09      6.52\n",
       "   4 │     4          131      3      5.48      7.62      3.34      5.05\n",
       "   5 │     5           95      1      9.94      2.38      7.94      3.82       ⋯\n",
       "\u001b[36m                                                              26 columns omitted\u001b[0m"
      ]
     },
     "execution_count": 82,
     "metadata": {},
     "output_type": "execute_result"
    }
   ],
   "source": [
    "innovations"
   ]
  },
  {
   "cell_type": "code",
   "execution_count": 83,
   "id": "74e50159-edd4-404f-aa48-f3aac8ecfbe8",
   "metadata": {},
   "outputs": [
    {
     "data": {
      "text/plain": [
       "5×5 Matrix{Real}:\n",
       " 0     0.36  0.12  0    0\n",
       " 0.76  0     0.2   0.0  0\n",
       " 0.21  0.58  0     0.2  0\n",
       " 0.03  0.06  0.65  0    1\n",
       " 0     0     0.03  0.8  0"
      ]
     },
     "execution_count": 83,
     "metadata": {},
     "output_type": "execute_result"
    }
   ],
   "source": [
    "get_transition_mat(1)'"
   ]
  },
  {
   "cell_type": "code",
   "execution_count": 84,
   "id": "f8a92cdd-3b5b-41c4-a7cf-26cba47cd8cf",
   "metadata": {},
   "outputs": [
    {
     "data": {
      "text/plain": [
       "2×2 Matrix{Int64}:\n",
       " 1  2\n",
       " 4  3"
      ]
     },
     "execution_count": 84,
     "metadata": {},
     "output_type": "execute_result"
    }
   ],
   "source": [
    "a=[1 2; 4 3]"
   ]
  },
  {
   "cell_type": "code",
   "execution_count": 85,
   "id": "34c81736-7d14-4a74-92f2-d52b9a7d5b8d",
   "metadata": {},
   "outputs": [
    {
     "data": {
      "text/plain": [
       "2×2 Matrix{Float64}:\n",
       " 49.7163  49.3484\n",
       " 98.6969  99.0647"
      ]
     },
     "execution_count": 85,
     "metadata": {},
     "output_type": "execute_result"
    }
   ],
   "source": [
    "exp(a)"
   ]
  },
  {
   "cell_type": "code",
   "execution_count": 86,
   "id": "02ee76a9-f129-48f0-9c6e-45ee839c3373",
   "metadata": {},
   "outputs": [
    {
     "data": {
      "text/plain": [
       "2×2 Matrix{Float64}:\n",
       " 46.3476  45.9798\n",
       " 91.9595  92.3274"
      ]
     },
     "execution_count": 86,
     "metadata": {},
     "output_type": "execute_result"
    }
   ],
   "source": [
    "I+a+(a^2)./2+(a^3)./6+(a^4)./24+(a^5)./120+(a^6)./720+(a^7)./factorial(7)+(a^8)./factorial(8)"
   ]
  },
  {
   "cell_type": "code",
   "execution_count": 87,
   "id": "aa19152d-83c7-427c-bf9c-601adc74d1d0",
   "metadata": {},
   "outputs": [
    {
     "data": {
      "text/plain": [
       "2×2 Matrix{Int64}:\n",
       "  9   8\n",
       " 16  17"
      ]
     },
     "execution_count": 87,
     "metadata": {},
     "output_type": "execute_result"
    }
   ],
   "source": [
    "a^2"
   ]
  },
  {
   "cell_type": "code",
   "execution_count": 88,
   "id": "fe870888-2857-47cc-8a72-8259c1acb7d7",
   "metadata": {},
   "outputs": [
    {
     "data": {
      "text/plain": [
       "5×5 adjoint(::Matrix{Real}) with eltype Real:\n",
       " 0     0.76  0.21  0.03  0\n",
       " 0.36  0     0.58  0.06  0\n",
       " 0.12  0.2   0     0.65  0.03\n",
       " 0     0.0   0.2   0     0.8\n",
       " 0     0     0     1     0"
      ]
     },
     "execution_count": 88,
     "metadata": {},
     "output_type": "execute_result"
    }
   ],
   "source": [
    "get_transition_mat(1)"
   ]
  },
  {
   "cell_type": "code",
   "execution_count": 89,
   "id": "52779078-bdf6-41c2-9a5b-855678c80ade",
   "metadata": {},
   "outputs": [
    {
     "data": {
      "text/html": [
       "<div class=\"data-frame\"><p>5 rows × 33 columns (omitted printing of 24 columns)</p><table class=\"data-frame\"><thead><tr><th></th><th>i</th><th>Cost_per_RL</th><th>RL</th><th>Sojourn1</th><th>Sojourn2</th><th>Sojourn3</th><th>Sojourn4</th><th>Sojourn5</th><th>P11</th></tr><tr><th></th><th title=\"Int64\">Int64</th><th title=\"Int64\">Int64</th><th title=\"Int64\">Int64</th><th title=\"Float64\">Float64</th><th title=\"Float64\">Float64</th><th title=\"Float64\">Float64</th><th title=\"Float64\">Float64</th><th title=\"Float64\">Float64</th><th title=\"Int64\">Int64</th></tr></thead><tbody><tr><th>1</th><td>1</td><td>92</td><td>2</td><td>4.6</td><td>1.34</td><td>2.04</td><td>0.12</td><td>8.86</td><td>0</td></tr><tr><th>2</th><td>2</td><td>122</td><td>3</td><td>8.32</td><td>8.84</td><td>7.0</td><td>9.9</td><td>9.65</td><td>0</td></tr><tr><th>3</th><td>3</td><td>78</td><td>1</td><td>4.44</td><td>1.21</td><td>5.09</td><td>6.52</td><td>8.67</td><td>0</td></tr><tr><th>4</th><td>4</td><td>131</td><td>3</td><td>5.48</td><td>7.62</td><td>3.34</td><td>5.05</td><td>5.6</td><td>0</td></tr><tr><th>5</th><td>5</td><td>95</td><td>1</td><td>9.94</td><td>2.38</td><td>7.94</td><td>3.82</td><td>5.44</td><td>0</td></tr></tbody></table></div>"
      ],
      "text/latex": [
       "\\begin{tabular}{r|cccccccccc}\n",
       "\t& i & Cost\\_per\\_RL & RL & Sojourn1 & Sojourn2 & Sojourn3 & Sojourn4 & Sojourn5 & P11 & \\\\\n",
       "\t\\hline\n",
       "\t& Int64 & Int64 & Int64 & Float64 & Float64 & Float64 & Float64 & Float64 & Int64 & \\\\\n",
       "\t\\hline\n",
       "\t1 & 1 & 92 & 2 & 4.6 & 1.34 & 2.04 & 0.12 & 8.86 & 0 & $\\dots$ \\\\\n",
       "\t2 & 2 & 122 & 3 & 8.32 & 8.84 & 7.0 & 9.9 & 9.65 & 0 & $\\dots$ \\\\\n",
       "\t3 & 3 & 78 & 1 & 4.44 & 1.21 & 5.09 & 6.52 & 8.67 & 0 & $\\dots$ \\\\\n",
       "\t4 & 4 & 131 & 3 & 5.48 & 7.62 & 3.34 & 5.05 & 5.6 & 0 & $\\dots$ \\\\\n",
       "\t5 & 5 & 95 & 1 & 9.94 & 2.38 & 7.94 & 3.82 & 5.44 & 0 & $\\dots$ \\\\\n",
       "\\end{tabular}\n"
      ],
      "text/plain": [
       "\u001b[1m5×33 DataFrame\u001b[0m\n",
       "\u001b[1m Row \u001b[0m│\u001b[1m i     \u001b[0m\u001b[1m Cost_per_RL \u001b[0m\u001b[1m RL    \u001b[0m\u001b[1m Sojourn1 \u001b[0m\u001b[1m Sojourn2 \u001b[0m\u001b[1m Sojourn3 \u001b[0m\u001b[1m Sojourn4 \u001b[0m\u001b[1m Sojo\u001b[0m ⋯\n",
       "\u001b[1m     \u001b[0m│\u001b[90m Int64 \u001b[0m\u001b[90m Int64       \u001b[0m\u001b[90m Int64 \u001b[0m\u001b[90m Float64  \u001b[0m\u001b[90m Float64  \u001b[0m\u001b[90m Float64  \u001b[0m\u001b[90m Float64  \u001b[0m\u001b[90m Floa\u001b[0m ⋯\n",
       "─────┼──────────────────────────────────────────────────────────────────────────\n",
       "   1 │     1           92      2      4.6       1.34      2.04      0.12       ⋯\n",
       "   2 │     2          122      3      8.32      8.84      7.0       9.9\n",
       "   3 │     3           78      1      4.44      1.21      5.09      6.52\n",
       "   4 │     4          131      3      5.48      7.62      3.34      5.05\n",
       "   5 │     5           95      1      9.94      2.38      7.94      3.82       ⋯\n",
       "\u001b[36m                                                              26 columns omitted\u001b[0m"
      ]
     },
     "execution_count": 89,
     "metadata": {},
     "output_type": "execute_result"
    }
   ],
   "source": [
    "innovations"
   ]
  },
  {
   "cell_type": "code",
   "execution_count": null,
   "id": "c1d2f151-6d55-4671-bae9-820761f6598d",
   "metadata": {},
   "outputs": [],
   "source": []
  },
  {
   "cell_type": "code",
   "execution_count": 90,
   "id": "0f9357e8-8fd0-48f3-b317-36bfae16ac68",
   "metadata": {},
   "outputs": [
    {
     "data": {
      "text/plain": [
       "5×5 Matrix{Float64}:\n",
       " 0.0        0.165217   0.0456522  0.00652174  0.0\n",
       " 0.268657   0.0        0.432836   0.0447761   0.0\n",
       " 0.0588235  0.0980392  0.0        0.318627    0.0147059\n",
       " 0.0        0.0        1.66667    0.0         6.66667\n",
       " 0.0        0.0        0.0        0.112867    0.0"
      ]
     },
     "execution_count": 90,
     "metadata": {},
     "output_type": "execute_result"
    }
   ],
   "source": [
    "get_transition_mat(1)./collect(innovations[1,4:8])"
   ]
  },
  {
   "cell_type": "code",
   "execution_count": null,
   "id": "3b53446a-f03f-43d8-8ddf-c8ba6da14b4c",
   "metadata": {},
   "outputs": [],
   "source": []
  },
  {
   "cell_type": "code",
   "execution_count": 91,
   "id": "4eb51a3c-cead-4d31-9b2f-64dc8c1379d9",
   "metadata": {},
   "outputs": [
    {
     "data": {
      "text/plain": [
       "5×5 Diagonal{Float64, Vector{Float64}}:\n",
       " 1.79753e5      ⋅       ⋅       ⋅       ⋅ \n",
       "  ⋅         1934.58     ⋅       ⋅       ⋅ \n",
       "  ⋅             ⋅    419.098    ⋅       ⋅ \n",
       "  ⋅             ⋅       ⋅     21.9329   ⋅ \n",
       "  ⋅             ⋅       ⋅       ⋅      1.0"
      ]
     },
     "execution_count": 91,
     "metadata": {},
     "output_type": "execute_result"
    }
   ],
   "source": [
    "I+t*Diagonal(eigvals(q))+t^2*Diagonal(eigvals(q).^2)"
   ]
  },
  {
   "cell_type": "code",
   "execution_count": 92,
   "id": "1d2a1c2e-0d5c-469d-8e13-3bee6bd1ec1a",
   "metadata": {},
   "outputs": [
    {
     "data": {
      "text/plain": [
       "5×5 Diagonal{Float64, Vector{Float64}}:\n",
       " 4.51242e-185   ⋅            ⋅            ⋅          ⋅ \n",
       "  ⋅            4.83727e-20   ⋅            ⋅          ⋅ \n",
       "  ⋅             ⋅           7.94298e-10   ⋅          ⋅ \n",
       "  ⋅             ⋅            ⋅           0.0060816   ⋅ \n",
       "  ⋅             ⋅            ⋅            ⋅         1.0"
      ]
     },
     "execution_count": 92,
     "metadata": {},
     "output_type": "execute_result"
    }
   ],
   "source": [
    "exp(50*Diagonal(eigvals(q)))"
   ]
  },
  {
   "cell_type": "code",
   "execution_count": 93,
   "id": "d3245906-97e3-4389-9f0c-02b9311a31d5",
   "metadata": {},
   "outputs": [
    {
     "data": {
      "text/plain": [
       "5-element Vector{Float64}:\n",
       " -8.48942815163113\n",
       " -0.8895070448628717\n",
       " -0.41907123933545865\n",
       " -0.10204975415525477\n",
       " -4.885048420854648e-17"
      ]
     },
     "execution_count": 93,
     "metadata": {},
     "output_type": "execute_result"
    }
   ],
   "source": [
    "eigvals(q)"
   ]
  },
  {
   "cell_type": "code",
   "execution_count": 94,
   "id": "1fdb00e6-1202-401f-9028-2c6adf9ffd9c",
   "metadata": {},
   "outputs": [
    {
     "data": {
      "text/plain": [
       "3.366441526732466e21"
      ]
     },
     "execution_count": 94,
     "metadata": {},
     "output_type": "execute_result"
    }
   ],
   "source": [
    "t=50\n",
    "1+sum((1/factorial(i))*t^i*(8.5)^i for i in 1:20)"
   ]
  }
 ],
 "metadata": {
  "kernelspec": {
   "display_name": "Julia 1.6.3",
   "language": "julia",
   "name": "julia-1.6"
  },
  "language_info": {
   "file_extension": ".jl",
   "mimetype": "application/julia",
   "name": "julia",
   "version": "1.6.3"
  }
 },
 "nbformat": 4,
 "nbformat_minor": 5
}
