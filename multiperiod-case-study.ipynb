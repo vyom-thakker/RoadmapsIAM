{
 "cells": [
  {
   "cell_type": "code",
   "execution_count": 273,
   "id": "0cd38929",
   "metadata": {},
   "outputs": [
    {
     "name": "stderr",
     "output_type": "stream",
     "text": [
      "\u001b[32m\u001b[1m  Activating\u001b[22m\u001b[39m environment at `~/Documents/project-codes/Plan_RoadmapsIAM/toy-problem/baron_env/Project.toml`\n"
     ]
    }
   ],
   "source": [
    "\n",
    "using Pkg\n",
    "Pkg.activate(\"./baron_env\")\n",
    "#Pkg.pin(\"JuMP\")\n",
    "using JuMP\n",
    "using CSV\n",
    "using GraphRecipes, Plots\n",
    "using LightGraphs\n",
    "using LinearAlgebra\n",
    "using SparseArrays\n",
    "using DataFrames\n",
    "using BARON\n",
    "using Gurobi\n",
    "using PiecewiseLinearOpt\n",
    "using VegaLite, VegaDatasets\n",
    "using FileIO"
   ]
  },
  {
   "cell_type": "code",
   "execution_count": 274,
   "id": "e8956d14-30ad-49f9-bf77-ae0d8a2937f8",
   "metadata": {},
   "outputs": [
    {
     "name": "stderr",
     "output_type": "stream",
     "text": [
      "┌ Warning: Pkg.installed() is deprecated\n",
      "└ @ Pkg /buildworker/worker/package_linux64/build/usr/share/julia/stdlib/v1.6/Pkg/src/Pkg.jl:570\n"
     ]
    },
    {
     "data": {
      "text/plain": [
       "Dict{String, VersionNumber} with 3 entries:\n",
       "  \"BARON\"              => v\"0.6.5\"\n",
       "  \"PiecewiseLinearOpt\" => v\"0.3.0\"\n",
       "  \"CPLEX\"              => v\"0.7.8\""
      ]
     },
     "execution_count": 274,
     "metadata": {},
     "output_type": "execute_result"
    }
   ],
   "source": [
    "Pkg.installed()"
   ]
  },
  {
   "cell_type": "code",
   "execution_count": 385,
   "id": "6cd49756",
   "metadata": {},
   "outputs": [
    {
     "data": {
      "text/html": [
       "<div class=\"data-frame\"><p>10 rows × 34 columns (omitted printing of 25 columns)</p><table class=\"data-frame\"><thead><tr><th></th><th>i</th><th>Cost_per_RL</th><th>RL</th><th>Sojourn1</th><th>Sojourn2</th><th>Sojourn3</th><th>Sojourn4</th><th>Sojourn5</th><th>P11</th></tr><tr><th></th><th title=\"Int64\">Int64</th><th title=\"Float64\">Float64</th><th title=\"Int64\">Int64</th><th title=\"Float64\">Float64</th><th title=\"Float64\">Float64</th><th title=\"Float64\">Float64</th><th title=\"Float64\">Float64</th><th title=\"Float64\">Float64</th><th title=\"Int64\">Int64</th></tr></thead><tbody><tr><th>1</th><td>1</td><td>121.08</td><td>3</td><td>8.32</td><td>8.84</td><td>0.65</td><td>9.9</td><td>9.65</td><td>0</td></tr><tr><th>2</th><td>2</td><td>103.22</td><td>3</td><td>8.32</td><td>8.84</td><td>0.65</td><td>9.9</td><td>9.65</td><td>0</td></tr><tr><th>3</th><td>3</td><td>156.0</td><td>1</td><td>4.6</td><td>1.34</td><td>2.04</td><td>0.12</td><td>8.86</td><td>0</td></tr><tr><th>4</th><td>4</td><td>90.68</td><td>1</td><td>5.48</td><td>7.62</td><td>3.34</td><td>5.05</td><td>1.1</td><td>0</td></tr><tr><th>5</th><td>5</td><td>77.52</td><td>3</td><td>9.94</td><td>2.38</td><td>7.94</td><td>3.82</td><td>5.44</td><td>0</td></tr><tr><th>6</th><td>6</td><td>98.51</td><td>2</td><td>4.44</td><td>1.21</td><td>5.09</td><td>6.52</td><td>8.67</td><td>0</td></tr><tr><th>7</th><td>7</td><td>121.59</td><td>3</td><td>4.44</td><td>1.21</td><td>5.09</td><td>6.52</td><td>8.67</td><td>0</td></tr><tr><th>8</th><td>8</td><td>122.1</td><td>1</td><td>4.6</td><td>1.34</td><td>2.04</td><td>0.12</td><td>8.86</td><td>0</td></tr><tr><th>9</th><td>9</td><td>122.26</td><td>2</td><td>5.48</td><td>7.62</td><td>3.34</td><td>5.05</td><td>1.1</td><td>0</td></tr><tr><th>10</th><td>10</td><td>89.63</td><td>1</td><td>5.48</td><td>7.62</td><td>3.34</td><td>5.05</td><td>1.1</td><td>0</td></tr></tbody></table></div>"
      ],
      "text/latex": [
       "\\begin{tabular}{r|cccccccccc}\n",
       "\t& i & Cost\\_per\\_RL & RL & Sojourn1 & Sojourn2 & Sojourn3 & Sojourn4 & Sojourn5 & P11 & \\\\\n",
       "\t\\hline\n",
       "\t& Int64 & Float64 & Int64 & Float64 & Float64 & Float64 & Float64 & Float64 & Int64 & \\\\\n",
       "\t\\hline\n",
       "\t1 & 1 & 121.08 & 3 & 8.32 & 8.84 & 0.65 & 9.9 & 9.65 & 0 & $\\dots$ \\\\\n",
       "\t2 & 2 & 103.22 & 3 & 8.32 & 8.84 & 0.65 & 9.9 & 9.65 & 0 & $\\dots$ \\\\\n",
       "\t3 & 3 & 156.0 & 1 & 4.6 & 1.34 & 2.04 & 0.12 & 8.86 & 0 & $\\dots$ \\\\\n",
       "\t4 & 4 & 90.68 & 1 & 5.48 & 7.62 & 3.34 & 5.05 & 1.1 & 0 & $\\dots$ \\\\\n",
       "\t5 & 5 & 77.52 & 3 & 9.94 & 2.38 & 7.94 & 3.82 & 5.44 & 0 & $\\dots$ \\\\\n",
       "\t6 & 6 & 98.51 & 2 & 4.44 & 1.21 & 5.09 & 6.52 & 8.67 & 0 & $\\dots$ \\\\\n",
       "\t7 & 7 & 121.59 & 3 & 4.44 & 1.21 & 5.09 & 6.52 & 8.67 & 0 & $\\dots$ \\\\\n",
       "\t8 & 8 & 122.1 & 1 & 4.6 & 1.34 & 2.04 & 0.12 & 8.86 & 0 & $\\dots$ \\\\\n",
       "\t9 & 9 & 122.26 & 2 & 5.48 & 7.62 & 3.34 & 5.05 & 1.1 & 0 & $\\dots$ \\\\\n",
       "\t10 & 10 & 89.63 & 1 & 5.48 & 7.62 & 3.34 & 5.05 & 1.1 & 0 & $\\dots$ \\\\\n",
       "\\end{tabular}\n"
      ],
      "text/plain": [
       "\u001b[1m10×34 DataFrame\u001b[0m\n",
       "\u001b[1m Row \u001b[0m│\u001b[1m i     \u001b[0m\u001b[1m Cost_per_RL \u001b[0m\u001b[1m RL    \u001b[0m\u001b[1m Sojourn1 \u001b[0m\u001b[1m Sojourn2 \u001b[0m\u001b[1m Sojourn3 \u001b[0m\u001b[1m Sojourn4 \u001b[0m\u001b[1m Sojo\u001b[0m ⋯\n",
       "\u001b[1m     \u001b[0m│\u001b[90m Int64 \u001b[0m\u001b[90m Float64     \u001b[0m\u001b[90m Int64 \u001b[0m\u001b[90m Float64  \u001b[0m\u001b[90m Float64  \u001b[0m\u001b[90m Float64  \u001b[0m\u001b[90m Float64  \u001b[0m\u001b[90m Floa\u001b[0m ⋯\n",
       "─────┼──────────────────────────────────────────────────────────────────────────\n",
       "   1 │     1       121.08      3      8.32      8.84      0.65      9.9        ⋯\n",
       "   2 │     2       103.22      3      8.32      8.84      0.65      9.9\n",
       "   3 │     3       156.0       1      4.6       1.34      2.04      0.12\n",
       "   4 │     4        90.68      1      5.48      7.62      3.34      5.05\n",
       "   5 │     5        77.52      3      9.94      2.38      7.94      3.82       ⋯\n",
       "   6 │     6        98.51      2      4.44      1.21      5.09      6.52\n",
       "   7 │     7       121.59      3      4.44      1.21      5.09      6.52\n",
       "   8 │     8       122.1       1      4.6       1.34      2.04      0.12\n",
       "   9 │     9       122.26      2      5.48      7.62      3.34      5.05       ⋯\n",
       "  10 │    10        89.63      1      5.48      7.62      3.34      5.05\n",
       "\u001b[36m                                                              27 columns omitted\u001b[0m"
      ]
     },
     "execution_count": 385,
     "metadata": {},
     "output_type": "execute_result"
    }
   ],
   "source": [
    "innovations = CSV.File(\"./data-case-roadmap/innovations.csv\",header=1,delim=\",\") |> DataFrame\n",
    "mapki = CSV.File(\"./data-case-roadmap/map-ki.csv\",header=1,delim=\",\") |> DataFrame\n",
    "compromise = CSV.File(\"./data-case-roadmap/compromise.csv\",header=1,delim=\",\") |> DataFrame\n",
    "compromise[67:240,:GHG_ElecInd].+=1\n",
    "compromise[100:165,:GHG_ElecInd].+=0.5\n",
    "initial = CSV.File(\"./data-case-roadmap/initial.csv\",header=1,delim=\",\") |> DataFrame\n",
    "iam_model = CSV.File(\"./data/iam_model.csv\",header=1,delim=\",\") |> DataFrame\n",
    "ci=innovations[!,2]\n",
    "rl=innovations[!,3]\n",
    "initial\n",
    "innovations[3,2]=156\n",
    "#innovations[2,6]=7\n",
    "#compromise[!,3]=compromise[!,3]/2\n",
    "#innovations[2,2]=175\n",
    "#innovations[2,2]=205\n",
    "#innovations[2,3]=2\n",
    "#innovations[1,3]=3\n",
    "#innovations[4,2]=108\n",
    "\n",
    "#innovations[1,2]=185\n",
    "#innovations[3,3]=2\n",
    "innovations\n",
    "#CSV.write(\"innovations.csv\",innovations)"
   ]
  },
  {
   "cell_type": "code",
   "execution_count": 386,
   "id": "33d1096b-bd0b-4edf-8fb1-38ca9b060af5",
   "metadata": {},
   "outputs": [
    {
     "data": {
      "text/html": [
       "<div class=\"data-frame\"><p>240 rows × 9 columns</p><table class=\"data-frame\"><thead><tr><th></th><th>k</th><th>i</th><th>GWP</th><th>Theta</th><th>Per_Recycl</th><th>Per_Comp</th><th>GHG_ElecInd</th><th>GHG_Trans</th><th>OCost</th></tr><tr><th></th><th title=\"Int64\">Int64</th><th title=\"Int64\">Int64</th><th title=\"Float64\">Float64</th><th title=\"Float64\">Float64</th><th title=\"Float64\">Float64</th><th title=\"Float64\">Float64</th><th title=\"Float64\">Float64</th><th title=\"Float64\">Float64</th><th title=\"Float64\">Float64</th></tr></thead><tbody><tr><th>1</th><td>1</td><td>1</td><td>15.0711</td><td>0.621</td><td>0.0</td><td>0.0</td><td>0.499</td><td>0.122</td><td>3.4294</td></tr><tr><th>2</th><td>2</td><td>1</td><td>2.7837</td><td>0.3955</td><td>0.661676</td><td>0.0</td><td>0.47</td><td>0.127</td><td>1.1203</td></tr><tr><th>3</th><td>3</td><td>1</td><td>10.0834</td><td>0.41</td><td>0.0</td><td>1.0</td><td>0.56</td><td>0.111</td><td>0.65</td></tr><tr><th>4</th><td>4</td><td>1</td><td>8.9103</td><td>0.4132</td><td>0.0</td><td>0.958953</td><td>0.54</td><td>0.104</td><td>0.67</td></tr><tr><th>5</th><td>5</td><td>1</td><td>4.0</td><td>0.4546</td><td>0.0</td><td>0.0</td><td>0.54</td><td>0.139</td><td>0.7</td></tr><tr><th>6</th><td>6</td><td>1</td><td>4.1434</td><td>0.5081</td><td>0.0</td><td>0.0</td><td>0.57</td><td>0.12</td><td>0.7</td></tr><tr><th>7</th><td>7</td><td>1</td><td>7.1535</td><td>0.4218</td><td>0.0</td><td>0.854318</td><td>0.5</td><td>0.114</td><td>0.7</td></tr><tr><th>8</th><td>8</td><td>1</td><td>4.1374</td><td>0.5081</td><td>0.0</td><td>0.0</td><td>0.46</td><td>0.116</td><td>0.7</td></tr><tr><th>9</th><td>9</td><td>1</td><td>7.1535</td><td>0.4218</td><td>0.0</td><td>0.854318</td><td>0.52</td><td>0.132</td><td>0.7</td></tr><tr><th>10</th><td>10</td><td>1</td><td>4.0</td><td>0.4915</td><td>0.0922065</td><td>0.0</td><td>0.59</td><td>0.117</td><td>0.8014</td></tr><tr><th>11</th><td>11</td><td>1</td><td>8.5</td><td>0.5836</td><td>0.0</td><td>0.0</td><td>0.59</td><td>0.103</td><td>1.8103</td></tr><tr><th>12</th><td>12</td><td>1</td><td>9.2698</td><td>0.5904</td><td>0.0</td><td>0.0</td><td>0.52</td><td>0.134</td><td>2.0</td></tr><tr><th>13</th><td>13</td><td>1</td><td>9.2698</td><td>0.5904</td><td>0.0</td><td>0.0</td><td>0.58</td><td>0.105</td><td>2.0</td></tr><tr><th>14</th><td>14</td><td>1</td><td>9.2698</td><td>0.5904</td><td>0.0</td><td>0.0</td><td>0.56</td><td>0.107</td><td>2.0</td></tr><tr><th>15</th><td>15</td><td>1</td><td>4.0</td><td>0.4915</td><td>0.0922065</td><td>0.0</td><td>0.48</td><td>0.155</td><td>0.8014</td></tr><tr><th>16</th><td>16</td><td>1</td><td>8.5</td><td>0.5836</td><td>0.0</td><td>0.0</td><td>0.53</td><td>0.14</td><td>1.8103</td></tr><tr><th>17</th><td>17</td><td>1</td><td>10.0</td><td>0.596</td><td>0.0</td><td>0.0</td><td>0.53</td><td>0.126</td><td>2.1799</td></tr><tr><th>18</th><td>18</td><td>1</td><td>10.75</td><td>0.6011</td><td>0.0</td><td>0.0</td><td>0.57</td><td>0.156</td><td>2.3647</td></tr><tr><th>19</th><td>19</td><td>1</td><td>11.0285</td><td>0.6028</td><td>0.0</td><td>0.0</td><td>0.54</td><td>0.144</td><td>2.4333</td></tr><tr><th>20</th><td>20</td><td>1</td><td>4.0</td><td>0.4915</td><td>0.0922065</td><td>0.0</td><td>0.58</td><td>0.104</td><td>0.8014</td></tr><tr><th>21</th><td>21</td><td>1</td><td>8.5</td><td>0.5836</td><td>0.0</td><td>0.0</td><td>0.54</td><td>0.115</td><td>1.8103</td></tr><tr><th>22</th><td>22</td><td>1</td><td>10.0</td><td>0.596</td><td>0.0</td><td>0.0</td><td>0.58</td><td>0.101</td><td>2.1799</td></tr><tr><th>23</th><td>23</td><td>1</td><td>10.75</td><td>0.6011</td><td>0.0</td><td>0.0</td><td>0.58</td><td>0.139</td><td>2.3647</td></tr><tr><th>24</th><td>24</td><td>1</td><td>11.2</td><td>0.6038</td><td>0.0</td><td>0.0</td><td>0.55</td><td>0.124</td><td>2.4756</td></tr><tr><th>25</th><td>25</td><td>1</td><td>4.0</td><td>0.4915</td><td>0.0922065</td><td>0.0</td><td>0.53</td><td>0.123</td><td>0.8014</td></tr><tr><th>26</th><td>26</td><td>1</td><td>8.5</td><td>0.5836</td><td>0.0</td><td>0.0</td><td>0.57</td><td>0.144</td><td>1.8103</td></tr><tr><th>27</th><td>27</td><td>1</td><td>10.0</td><td>0.596</td><td>0.0</td><td>0.0</td><td>0.6</td><td>0.154</td><td>2.1799</td></tr><tr><th>28</th><td>28</td><td>1</td><td>10.75</td><td>0.6011</td><td>0.0</td><td>0.0</td><td>0.45</td><td>0.101</td><td>2.3647</td></tr><tr><th>29</th><td>29</td><td>1</td><td>11.2</td><td>0.6038</td><td>0.0</td><td>0.0</td><td>0.53</td><td>0.132</td><td>2.4756</td></tr><tr><th>30</th><td>30</td><td>2</td><td>12.2276</td><td>0.5596</td><td>0.881291</td><td>0.0</td><td>0.55</td><td>0.107</td><td>3.7074</td></tr><tr><th>&vellip;</th><td>&vellip;</td><td>&vellip;</td><td>&vellip;</td><td>&vellip;</td><td>&vellip;</td><td>&vellip;</td><td>&vellip;</td><td>&vellip;</td><td>&vellip;</td></tr></tbody></table></div>"
      ],
      "text/latex": [
       "\\begin{tabular}{r|ccccccccc}\n",
       "\t& k & i & GWP & Theta & Per\\_Recycl & Per\\_Comp & GHG\\_ElecInd & GHG\\_Trans & OCost\\\\\n",
       "\t\\hline\n",
       "\t& Int64 & Int64 & Float64 & Float64 & Float64 & Float64 & Float64 & Float64 & Float64\\\\\n",
       "\t\\hline\n",
       "\t1 & 1 & 1 & 15.0711 & 0.621 & 0.0 & 0.0 & 0.499 & 0.122 & 3.4294 \\\\\n",
       "\t2 & 2 & 1 & 2.7837 & 0.3955 & 0.661676 & 0.0 & 0.47 & 0.127 & 1.1203 \\\\\n",
       "\t3 & 3 & 1 & 10.0834 & 0.41 & 0.0 & 1.0 & 0.56 & 0.111 & 0.65 \\\\\n",
       "\t4 & 4 & 1 & 8.9103 & 0.4132 & 0.0 & 0.958953 & 0.54 & 0.104 & 0.67 \\\\\n",
       "\t5 & 5 & 1 & 4.0 & 0.4546 & 0.0 & 0.0 & 0.54 & 0.139 & 0.7 \\\\\n",
       "\t6 & 6 & 1 & 4.1434 & 0.5081 & 0.0 & 0.0 & 0.57 & 0.12 & 0.7 \\\\\n",
       "\t7 & 7 & 1 & 7.1535 & 0.4218 & 0.0 & 0.854318 & 0.5 & 0.114 & 0.7 \\\\\n",
       "\t8 & 8 & 1 & 4.1374 & 0.5081 & 0.0 & 0.0 & 0.46 & 0.116 & 0.7 \\\\\n",
       "\t9 & 9 & 1 & 7.1535 & 0.4218 & 0.0 & 0.854318 & 0.52 & 0.132 & 0.7 \\\\\n",
       "\t10 & 10 & 1 & 4.0 & 0.4915 & 0.0922065 & 0.0 & 0.59 & 0.117 & 0.8014 \\\\\n",
       "\t11 & 11 & 1 & 8.5 & 0.5836 & 0.0 & 0.0 & 0.59 & 0.103 & 1.8103 \\\\\n",
       "\t12 & 12 & 1 & 9.2698 & 0.5904 & 0.0 & 0.0 & 0.52 & 0.134 & 2.0 \\\\\n",
       "\t13 & 13 & 1 & 9.2698 & 0.5904 & 0.0 & 0.0 & 0.58 & 0.105 & 2.0 \\\\\n",
       "\t14 & 14 & 1 & 9.2698 & 0.5904 & 0.0 & 0.0 & 0.56 & 0.107 & 2.0 \\\\\n",
       "\t15 & 15 & 1 & 4.0 & 0.4915 & 0.0922065 & 0.0 & 0.48 & 0.155 & 0.8014 \\\\\n",
       "\t16 & 16 & 1 & 8.5 & 0.5836 & 0.0 & 0.0 & 0.53 & 0.14 & 1.8103 \\\\\n",
       "\t17 & 17 & 1 & 10.0 & 0.596 & 0.0 & 0.0 & 0.53 & 0.126 & 2.1799 \\\\\n",
       "\t18 & 18 & 1 & 10.75 & 0.6011 & 0.0 & 0.0 & 0.57 & 0.156 & 2.3647 \\\\\n",
       "\t19 & 19 & 1 & 11.0285 & 0.6028 & 0.0 & 0.0 & 0.54 & 0.144 & 2.4333 \\\\\n",
       "\t20 & 20 & 1 & 4.0 & 0.4915 & 0.0922065 & 0.0 & 0.58 & 0.104 & 0.8014 \\\\\n",
       "\t21 & 21 & 1 & 8.5 & 0.5836 & 0.0 & 0.0 & 0.54 & 0.115 & 1.8103 \\\\\n",
       "\t22 & 22 & 1 & 10.0 & 0.596 & 0.0 & 0.0 & 0.58 & 0.101 & 2.1799 \\\\\n",
       "\t23 & 23 & 1 & 10.75 & 0.6011 & 0.0 & 0.0 & 0.58 & 0.139 & 2.3647 \\\\\n",
       "\t24 & 24 & 1 & 11.2 & 0.6038 & 0.0 & 0.0 & 0.55 & 0.124 & 2.4756 \\\\\n",
       "\t25 & 25 & 1 & 4.0 & 0.4915 & 0.0922065 & 0.0 & 0.53 & 0.123 & 0.8014 \\\\\n",
       "\t26 & 26 & 1 & 8.5 & 0.5836 & 0.0 & 0.0 & 0.57 & 0.144 & 1.8103 \\\\\n",
       "\t27 & 27 & 1 & 10.0 & 0.596 & 0.0 & 0.0 & 0.6 & 0.154 & 2.1799 \\\\\n",
       "\t28 & 28 & 1 & 10.75 & 0.6011 & 0.0 & 0.0 & 0.45 & 0.101 & 2.3647 \\\\\n",
       "\t29 & 29 & 1 & 11.2 & 0.6038 & 0.0 & 0.0 & 0.53 & 0.132 & 2.4756 \\\\\n",
       "\t30 & 30 & 2 & 12.2276 & 0.5596 & 0.881291 & 0.0 & 0.55 & 0.107 & 3.7074 \\\\\n",
       "\t$\\dots$ & $\\dots$ & $\\dots$ & $\\dots$ & $\\dots$ & $\\dots$ & $\\dots$ & $\\dots$ & $\\dots$ & $\\dots$ \\\\\n",
       "\\end{tabular}\n"
      ],
      "text/plain": [
       "\u001b[1m240×9 DataFrame\u001b[0m\n",
       "\u001b[1m Row \u001b[0m│\u001b[1m k     \u001b[0m\u001b[1m i     \u001b[0m\u001b[1m GWP     \u001b[0m\u001b[1m Theta   \u001b[0m\u001b[1m Per_Recycl \u001b[0m\u001b[1m Per_Comp  \u001b[0m\u001b[1m GHG_ElecInd \u001b[0m\u001b[1m GHG\u001b[0m ⋯\n",
       "\u001b[1m     \u001b[0m│\u001b[90m Int64 \u001b[0m\u001b[90m Int64 \u001b[0m\u001b[90m Float64 \u001b[0m\u001b[90m Float64 \u001b[0m\u001b[90m Float64    \u001b[0m\u001b[90m Float64   \u001b[0m\u001b[90m Float64     \u001b[0m\u001b[90m Flo\u001b[0m ⋯\n",
       "─────┼──────────────────────────────────────────────────────────────────────────\n",
       "   1 │     1      1  15.0711   0.621    0.0        0.0              0.499      ⋯\n",
       "   2 │     2      1   2.7837   0.3955   0.661676   0.0              0.47\n",
       "   3 │     3      1  10.0834   0.41     0.0        1.0              0.56\n",
       "   4 │     4      1   8.9103   0.4132   0.0        0.958953         0.54\n",
       "   5 │     5      1   4.0      0.4546   0.0        0.0              0.54       ⋯\n",
       "   6 │     6      1   4.1434   0.5081   0.0        0.0              0.57\n",
       "   7 │     7      1   7.1535   0.4218   0.0        0.854318         0.5\n",
       "   8 │     8      1   4.1374   0.5081   0.0        0.0              0.46\n",
       "   9 │     9      1   7.1535   0.4218   0.0        0.854318         0.52       ⋯\n",
       "  10 │    10      1   4.0      0.4915   0.0922065  0.0              0.59\n",
       "  11 │    11      1   8.5      0.5836   0.0        0.0              0.59\n",
       "  ⋮  │   ⋮      ⋮       ⋮        ⋮         ⋮           ⋮           ⋮           ⋱\n",
       " 231 │   231     10   3.2136   0.175    0.27592    0.0              1.48\n",
       " 232 │   232     10   3.1062   0.175    0.245418   0.0646392        1.58       ⋯\n",
       " 233 │   233     10   2.9988   0.175    0.230787   0.153537         1.48\n",
       " 234 │   234     10   2.8914   0.2485   0.405205   0.0              1.57\n",
       " 235 │   235     10   2.784    0.3955   0.661676   0.0              1.52\n",
       " 236 │   236     10   3.1024   0.05     0.065482   0.0              1.45       ⋯\n",
       " 237 │   237     10   3.1021   0.05     0.065482   0.0              1.5\n",
       " 238 │   238     10   2.9988   0.05     0.0752763  0.0              1.58\n",
       " 239 │   239     10   2.8914   0.207    0.295782   0.0888537        1.56\n",
       " 240 │   240     10   2.784    0.3949   0.660557   0.0              1.48       ⋯\n",
       "\u001b[36m                                                  2 columns and 219 rows omitted\u001b[0m"
      ]
     },
     "execution_count": 386,
     "metadata": {},
     "output_type": "execute_result"
    }
   ],
   "source": [
    "\n",
    "compromise"
   ]
  },
  {
   "cell_type": "code",
   "execution_count": 387,
   "id": "768b23d5",
   "metadata": {},
   "outputs": [
    {
     "data": {
      "text/html": [
       "<div class=\"data-frame\"><p>10 rows × 3 columns</p><table class=\"data-frame\"><thead><tr><th></th><th>i</th><th>k_lim</th><th>name</th></tr><tr><th></th><th title=\"Int64\">Int64</th><th title=\"Int64\">Int64</th><th title=\"String31\">String31</th></tr></thead><tbody><tr><th>1</th><td>1</td><td>29</td><td>MSW pyrolysis to small olefins</td></tr><tr><th>2</th><td>2</td><td>52</td><td>Source Segregation</td></tr><tr><th>3</th><td>3</td><td>66</td><td>AI robot segregation</td></tr><tr><th>4</th><td>4</td><td>91</td><td>LABS from PE</td></tr><tr><th>5</th><td>5</td><td>113</td><td>Pyrolysis of LDPE</td></tr><tr><th>6</th><td>6</td><td>140</td><td>Pyrolysis of HDPE</td></tr><tr><th>7</th><td>7</td><td>165</td><td>Pyrolysis of PP</td></tr><tr><th>8</th><td>8</td><td>193</td><td>Recycling back to PLA usin Clay</td></tr><tr><th>9</th><td>9</td><td>215</td><td>Alkaline hydrolysis of PLA</td></tr><tr><th>10</th><td>10</td><td>240</td><td>Alcoholysis of PLA</td></tr></tbody></table></div>"
      ],
      "text/latex": [
       "\\begin{tabular}{r|ccc}\n",
       "\t& i & k\\_lim & name\\\\\n",
       "\t\\hline\n",
       "\t& Int64 & Int64 & String31\\\\\n",
       "\t\\hline\n",
       "\t1 & 1 & 29 & MSW pyrolysis to small olefins \\\\\n",
       "\t2 & 2 & 52 & Source Segregation \\\\\n",
       "\t3 & 3 & 66 & AI robot segregation \\\\\n",
       "\t4 & 4 & 91 & LABS from PE \\\\\n",
       "\t5 & 5 & 113 & Pyrolysis of LDPE \\\\\n",
       "\t6 & 6 & 140 & Pyrolysis of HDPE \\\\\n",
       "\t7 & 7 & 165 & Pyrolysis of PP \\\\\n",
       "\t8 & 8 & 193 & Recycling back to PLA usin Clay \\\\\n",
       "\t9 & 9 & 215 & Alkaline hydrolysis of PLA \\\\\n",
       "\t10 & 10 & 240 & Alcoholysis of PLA \\\\\n",
       "\\end{tabular}\n"
      ],
      "text/plain": [
       "\u001b[1m10×3 DataFrame\u001b[0m\n",
       "\u001b[1m Row \u001b[0m│\u001b[1m i     \u001b[0m\u001b[1m k_lim \u001b[0m\u001b[1m name                            \u001b[0m\n",
       "\u001b[1m     \u001b[0m│\u001b[90m Int64 \u001b[0m\u001b[90m Int64 \u001b[0m\u001b[90m String31                        \u001b[0m\n",
       "─────┼───────────────────────────────────────────────\n",
       "   1 │     1     29  MSW pyrolysis to small olefins\n",
       "   2 │     2     52  Source Segregation\n",
       "   3 │     3     66  AI robot segregation\n",
       "   4 │     4     91  LABS from PE\n",
       "   5 │     5    113  Pyrolysis of LDPE\n",
       "   6 │     6    140  Pyrolysis of HDPE\n",
       "   7 │     7    165  Pyrolysis of PP\n",
       "   8 │     8    193  Recycling back to PLA usin Clay\n",
       "   9 │     9    215  Alkaline hydrolysis of PLA\n",
       "  10 │    10    240  Alcoholysis of PLA"
      ]
     },
     "execution_count": 387,
     "metadata": {},
     "output_type": "execute_result"
    }
   ],
   "source": [
    "mapki[10,2]=240\n",
    "mapki"
   ]
  },
  {
   "cell_type": "code",
   "execution_count": 388,
   "id": "4e49351a-5301-4c14-8142-72ea5910982a",
   "metadata": {},
   "outputs": [
    {
     "data": {
      "text/plain": [
       "give_sorted (generic function with 1 method)"
      ]
     },
     "execution_count": 388,
     "metadata": {},
     "output_type": "execute_result"
    }
   ],
   "source": [
    "function get_transition_mat(i)\n",
    "    p_mat=reshape(collect(innovations[i,9:33]),5,5)\n",
    "    return p_mat'\n",
    "end\n",
    "\n",
    "\n",
    "function get_rate_mat(i)\n",
    "    p_mat=get_transition_mat(i)\n",
    "    q_mat=p_mat./collect(innovations[i,4:8])\n",
    "    for i in 1:5\n",
    "        q_mat[i,i]=-1*sum(q_mat[i,j] for j in 1:5 if j!=i)\n",
    "    end\n",
    "    return q_mat\n",
    "end\n",
    "\n",
    "function get_rate_eig_mat(i)\n",
    "    p_mat=get_transition_mat(i)\n",
    "    q_mat=p_mat./collect(innovations[i,4:8])\n",
    "    for i in 1:5\n",
    "        q_mat[i,i]=-1*sum(q_mat[i,j] for j in 1:5 if j!=i)\n",
    "    end\n",
    "    return [q_mat,eigvecs(q_mat),eigvals(q_mat)]\n",
    "end\n",
    "\n",
    "function get_IAM_factor(t)\n",
    "    return 1\n",
    "end\n",
    "\n",
    "function give_sorted(t)\n",
    "    v=sortperm(t)\n",
    "    return v\n",
    "end\n"
   ]
  },
  {
   "cell_type": "code",
   "execution_count": 389,
   "id": "d6e7594d",
   "metadata": {},
   "outputs": [
    {
     "data": {
      "text/plain": [
       "1×5 Matrix{Int64}:\n",
       " 1  2  3  4  5"
      ]
     },
     "execution_count": 389,
     "metadata": {},
     "output_type": "execute_result"
    }
   ],
   "source": [
    "q=zeros(5,5,nrow(innovations))\n",
    "a=zeros(5,5,nrow(innovations))\n",
    "ainv=zeros(5,5,nrow(innovations))\n",
    "d=zeros(5,1,nrow(innovations))\n",
    "s0=zeros(1,5,nrow(innovations))\n",
    "for i in 1:nrow(innovations)\n",
    "    q[:,:,i]=round.(get_rate_eig_mat(i)[1],digits=3)\n",
    "    a[:,:,i]=(get_rate_eig_mat(i)[2])\n",
    "    d[:,:,i]=round.(get_rate_eig_mat(i)[3],digits=3)\n",
    "    ainv[:,:,i]=round.(inv(get_rate_eig_mat(i)[2]),digits=3)\n",
    "    s0[1,rl[i],i]=1\n",
    "end\n",
    "rl_vals=[1 2 3 4 5]"
   ]
  },
  {
   "cell_type": "code",
   "execution_count": 390,
   "id": "82bcdb33-a9c3-4e1c-a456-21ed1fdb43b4",
   "metadata": {},
   "outputs": [
    {
     "data": {
      "text/html": [
       "<div class=\"data-frame\"><p>10 rows × 7 columns</p><table class=\"data-frame\"><thead><tr><th></th><th>Column1</th><th>Y0</th><th>Y1</th><th>Y2</th><th>Y3</th><th>Y4</th><th>Y5</th></tr><tr><th></th><th title=\"Int64\">Int64</th><th title=\"Int64\">Int64</th><th title=\"Float64\">Float64</th><th title=\"Float64\">Float64</th><th title=\"Float64\">Float64</th><th title=\"Float64\">Float64</th><th title=\"Float64\">Float64</th></tr></thead><tbody><tr><th>1</th><td>1</td><td>2</td><td>1.81274</td><td>2.24624</td><td>3.227</td><td>4.48808</td><td>6.08818</td></tr><tr><th>2</th><td>2</td><td>2</td><td>1.81274</td><td>2.24624</td><td>3.227</td><td>4.48808</td><td>6.08818</td></tr><tr><th>3</th><td>3</td><td>4</td><td>3.69121</td><td>4.57345</td><td>6.60407</td><td>9.45836</td><td>13.0855</td></tr><tr><th>4</th><td>4</td><td>4</td><td>3.72014</td><td>4.11985</td><td>5.30286</td><td>7.01497</td><td>9.24516</td></tr><tr><th>5</th><td>5</td><td>2</td><td>2.35761</td><td>3.16539</td><td>4.30352</td><td>5.69014</td><td>7.54168</td></tr><tr><th>6</th><td>6</td><td>3</td><td>2.68846</td><td>3.30768</td><td>4.82566</td><td>6.93351</td><td>9.60059</td></tr><tr><th>7</th><td>7</td><td>2</td><td>2.38591</td><td>3.62069</td><td>5.21565</td><td>7.22296</td><td>9.61039</td></tr><tr><th>8</th><td>8</td><td>4</td><td>3.69121</td><td>4.57345</td><td>6.60407</td><td>9.45836</td><td>13.0855</td></tr><tr><th>9</th><td>9</td><td>3</td><td>3.8944</td><td>4.79125</td><td>5.90838</td><td>7.44012</td><td>9.19717</td></tr><tr><th>10</th><td>10</td><td>4</td><td>3.72014</td><td>4.11985</td><td>5.30286</td><td>7.01497</td><td>9.24516</td></tr></tbody></table></div>"
      ],
      "text/latex": [
       "\\begin{tabular}{r|ccccccc}\n",
       "\t& Column1 & Y0 & Y1 & Y2 & Y3 & Y4 & Y5\\\\\n",
       "\t\\hline\n",
       "\t& Int64 & Int64 & Float64 & Float64 & Float64 & Float64 & Float64\\\\\n",
       "\t\\hline\n",
       "\t1 & 1 & 2 & 1.81274 & 2.24624 & 3.227 & 4.48808 & 6.08818 \\\\\n",
       "\t2 & 2 & 2 & 1.81274 & 2.24624 & 3.227 & 4.48808 & 6.08818 \\\\\n",
       "\t3 & 3 & 4 & 3.69121 & 4.57345 & 6.60407 & 9.45836 & 13.0855 \\\\\n",
       "\t4 & 4 & 4 & 3.72014 & 4.11985 & 5.30286 & 7.01497 & 9.24516 \\\\\n",
       "\t5 & 5 & 2 & 2.35761 & 3.16539 & 4.30352 & 5.69014 & 7.54168 \\\\\n",
       "\t6 & 6 & 3 & 2.68846 & 3.30768 & 4.82566 & 6.93351 & 9.60059 \\\\\n",
       "\t7 & 7 & 2 & 2.38591 & 3.62069 & 5.21565 & 7.22296 & 9.61039 \\\\\n",
       "\t8 & 8 & 4 & 3.69121 & 4.57345 & 6.60407 & 9.45836 & 13.0855 \\\\\n",
       "\t9 & 9 & 3 & 3.8944 & 4.79125 & 5.90838 & 7.44012 & 9.19717 \\\\\n",
       "\t10 & 10 & 4 & 3.72014 & 4.11985 & 5.30286 & 7.01497 & 9.24516 \\\\\n",
       "\\end{tabular}\n"
      ],
      "text/plain": [
       "\u001b[1m10×7 DataFrame\u001b[0m\n",
       "\u001b[1m Row \u001b[0m│\u001b[1m Column1 \u001b[0m\u001b[1m Y0    \u001b[0m\u001b[1m Y1      \u001b[0m\u001b[1m Y2      \u001b[0m\u001b[1m Y3      \u001b[0m\u001b[1m Y4      \u001b[0m\u001b[1m Y5       \u001b[0m\n",
       "\u001b[1m     \u001b[0m│\u001b[90m Int64   \u001b[0m\u001b[90m Int64 \u001b[0m\u001b[90m Float64 \u001b[0m\u001b[90m Float64 \u001b[0m\u001b[90m Float64 \u001b[0m\u001b[90m Float64 \u001b[0m\u001b[90m Float64  \u001b[0m\n",
       "─────┼──────────────────────────────────────────────────────────────\n",
       "   1 │       1      2  1.81274  2.24624  3.227    4.48808   6.08818\n",
       "   2 │       2      2  1.81274  2.24624  3.227    4.48808   6.08818\n",
       "   3 │       3      4  3.69121  4.57345  6.60407  9.45836  13.0855\n",
       "   4 │       4      4  3.72014  4.11985  5.30286  7.01497   9.24516\n",
       "   5 │       5      2  2.35761  3.16539  4.30352  5.69014   7.54168\n",
       "   6 │       6      3  2.68846  3.30768  4.82566  6.93351   9.60059\n",
       "   7 │       7      2  2.38591  3.62069  5.21565  7.22296   9.61039\n",
       "   8 │       8      4  3.69121  4.57345  6.60407  9.45836  13.0855\n",
       "   9 │       9      3  3.8944   4.79125  5.90838  7.44012   9.19717\n",
       "  10 │      10      4  3.72014  4.11985  5.30286  7.01497   9.24516"
      ]
     },
     "execution_count": 390,
     "metadata": {},
     "output_type": "execute_result"
    }
   ],
   "source": [
    "inn_reg = CSV.File(\"./data-case-roadmap/inn_reg.csv\",header=1,delim=\",\") |> DataFrame\n",
    "inn_xrang = CSV.File(\"./data-case-roadmap/inn_xrang.csv\",header=1,delim=\",\") |> DataFrame\n",
    "inn_yrang = CSV.File(\"./data-case-roadmap/inn_yrang.csv\",header=1,delim=\",\") |> DataFrame\n",
    "inn_yrang[!,\"Y0\"]=-1*(innovations[!,\"RL\"].-5)\n",
    "inn_yrang"
   ]
  },
  {
   "cell_type": "code",
   "execution_count": 391,
   "id": "f0da4ca7",
   "metadata": {},
   "outputs": [
    {
     "data": {
      "text/plain": [
       "7-element Vector{Int64}:\n",
       "  0\n",
       "  5\n",
       " 10\n",
       " 15\n",
       " 20\n",
       " 25\n",
       " 30"
      ]
     },
     "execution_count": 391,
     "metadata": {},
     "output_type": "execute_result"
    }
   ],
   "source": [
    "tau=[0,5,10,15,20,25,30]"
   ]
  },
  {
   "cell_type": "code",
   "execution_count": 392,
   "id": "99858d20",
   "metadata": {},
   "outputs": [
    {
     "data": {
      "text/html": [
       "<div class=\"data-frame\"><p>240 rows × 9 columns</p><table class=\"data-frame\"><thead><tr><th></th><th>k</th><th>i</th><th>GWP</th><th>Theta</th><th>Per_Recycl</th><th>Per_Comp</th><th>GHG_ElecInd</th><th>GHG_Trans</th><th>OCost</th></tr><tr><th></th><th title=\"Int64\">Int64</th><th title=\"Int64\">Int64</th><th title=\"Float64\">Float64</th><th title=\"Float64\">Float64</th><th title=\"Float64\">Float64</th><th title=\"Float64\">Float64</th><th title=\"Float64\">Float64</th><th title=\"Float64\">Float64</th><th title=\"Float64\">Float64</th></tr></thead><tbody><tr><th>1</th><td>1</td><td>1</td><td>15.0711</td><td>0.621</td><td>0.0</td><td>0.0</td><td>0.499</td><td>0.122</td><td>3.4294</td></tr><tr><th>2</th><td>2</td><td>1</td><td>2.7837</td><td>0.3955</td><td>0.661676</td><td>0.0</td><td>0.47</td><td>0.127</td><td>1.1203</td></tr><tr><th>3</th><td>3</td><td>1</td><td>10.0834</td><td>0.41</td><td>0.0</td><td>1.0</td><td>0.56</td><td>0.111</td><td>0.65</td></tr><tr><th>4</th><td>4</td><td>1</td><td>8.9103</td><td>0.4132</td><td>0.0</td><td>0.958953</td><td>0.54</td><td>0.104</td><td>0.67</td></tr><tr><th>5</th><td>5</td><td>1</td><td>4.0</td><td>0.4546</td><td>0.0</td><td>0.0</td><td>0.54</td><td>0.139</td><td>0.7</td></tr><tr><th>6</th><td>6</td><td>1</td><td>4.1434</td><td>0.5081</td><td>0.0</td><td>0.0</td><td>0.57</td><td>0.12</td><td>0.7</td></tr><tr><th>7</th><td>7</td><td>1</td><td>7.1535</td><td>0.4218</td><td>0.0</td><td>0.854318</td><td>0.5</td><td>0.114</td><td>0.7</td></tr><tr><th>8</th><td>8</td><td>1</td><td>4.1374</td><td>0.5081</td><td>0.0</td><td>0.0</td><td>0.46</td><td>0.116</td><td>0.7</td></tr><tr><th>9</th><td>9</td><td>1</td><td>7.1535</td><td>0.4218</td><td>0.0</td><td>0.854318</td><td>0.52</td><td>0.132</td><td>0.7</td></tr><tr><th>10</th><td>10</td><td>1</td><td>4.0</td><td>0.4915</td><td>0.0922065</td><td>0.0</td><td>0.59</td><td>0.117</td><td>0.8014</td></tr><tr><th>11</th><td>11</td><td>1</td><td>8.5</td><td>0.5836</td><td>0.0</td><td>0.0</td><td>0.59</td><td>0.103</td><td>1.8103</td></tr><tr><th>12</th><td>12</td><td>1</td><td>9.2698</td><td>0.5904</td><td>0.0</td><td>0.0</td><td>0.52</td><td>0.134</td><td>2.0</td></tr><tr><th>13</th><td>13</td><td>1</td><td>9.2698</td><td>0.5904</td><td>0.0</td><td>0.0</td><td>0.58</td><td>0.105</td><td>2.0</td></tr><tr><th>14</th><td>14</td><td>1</td><td>9.2698</td><td>0.5904</td><td>0.0</td><td>0.0</td><td>0.56</td><td>0.107</td><td>2.0</td></tr><tr><th>15</th><td>15</td><td>1</td><td>4.0</td><td>0.4915</td><td>0.0922065</td><td>0.0</td><td>0.48</td><td>0.155</td><td>0.8014</td></tr><tr><th>16</th><td>16</td><td>1</td><td>8.5</td><td>0.5836</td><td>0.0</td><td>0.0</td><td>0.53</td><td>0.14</td><td>1.8103</td></tr><tr><th>17</th><td>17</td><td>1</td><td>10.0</td><td>0.596</td><td>0.0</td><td>0.0</td><td>0.53</td><td>0.126</td><td>2.1799</td></tr><tr><th>18</th><td>18</td><td>1</td><td>10.75</td><td>0.6011</td><td>0.0</td><td>0.0</td><td>0.57</td><td>0.156</td><td>2.3647</td></tr><tr><th>19</th><td>19</td><td>1</td><td>11.0285</td><td>0.6028</td><td>0.0</td><td>0.0</td><td>0.54</td><td>0.144</td><td>2.4333</td></tr><tr><th>20</th><td>20</td><td>1</td><td>4.0</td><td>0.4915</td><td>0.0922065</td><td>0.0</td><td>0.58</td><td>0.104</td><td>0.8014</td></tr><tr><th>21</th><td>21</td><td>1</td><td>8.5</td><td>0.5836</td><td>0.0</td><td>0.0</td><td>0.54</td><td>0.115</td><td>1.8103</td></tr><tr><th>22</th><td>22</td><td>1</td><td>10.0</td><td>0.596</td><td>0.0</td><td>0.0</td><td>0.58</td><td>0.101</td><td>2.1799</td></tr><tr><th>23</th><td>23</td><td>1</td><td>10.75</td><td>0.6011</td><td>0.0</td><td>0.0</td><td>0.58</td><td>0.139</td><td>2.3647</td></tr><tr><th>24</th><td>24</td><td>1</td><td>11.2</td><td>0.6038</td><td>0.0</td><td>0.0</td><td>0.55</td><td>0.124</td><td>2.4756</td></tr><tr><th>25</th><td>25</td><td>1</td><td>4.0</td><td>0.4915</td><td>0.0922065</td><td>0.0</td><td>0.53</td><td>0.123</td><td>0.8014</td></tr><tr><th>26</th><td>26</td><td>1</td><td>8.5</td><td>0.5836</td><td>0.0</td><td>0.0</td><td>0.57</td><td>0.144</td><td>1.8103</td></tr><tr><th>27</th><td>27</td><td>1</td><td>10.0</td><td>0.596</td><td>0.0</td><td>0.0</td><td>0.6</td><td>0.154</td><td>2.1799</td></tr><tr><th>28</th><td>28</td><td>1</td><td>10.75</td><td>0.6011</td><td>0.0</td><td>0.0</td><td>0.45</td><td>0.101</td><td>2.3647</td></tr><tr><th>29</th><td>29</td><td>1</td><td>11.2</td><td>0.6038</td><td>0.0</td><td>0.0</td><td>0.53</td><td>0.132</td><td>2.4756</td></tr><tr><th>30</th><td>30</td><td>2</td><td>12.2276</td><td>0.5596</td><td>0.881291</td><td>0.0</td><td>0.55</td><td>0.107</td><td>3.7074</td></tr><tr><th>&vellip;</th><td>&vellip;</td><td>&vellip;</td><td>&vellip;</td><td>&vellip;</td><td>&vellip;</td><td>&vellip;</td><td>&vellip;</td><td>&vellip;</td><td>&vellip;</td></tr></tbody></table></div>"
      ],
      "text/latex": [
       "\\begin{tabular}{r|ccccccccc}\n",
       "\t& k & i & GWP & Theta & Per\\_Recycl & Per\\_Comp & GHG\\_ElecInd & GHG\\_Trans & OCost\\\\\n",
       "\t\\hline\n",
       "\t& Int64 & Int64 & Float64 & Float64 & Float64 & Float64 & Float64 & Float64 & Float64\\\\\n",
       "\t\\hline\n",
       "\t1 & 1 & 1 & 15.0711 & 0.621 & 0.0 & 0.0 & 0.499 & 0.122 & 3.4294 \\\\\n",
       "\t2 & 2 & 1 & 2.7837 & 0.3955 & 0.661676 & 0.0 & 0.47 & 0.127 & 1.1203 \\\\\n",
       "\t3 & 3 & 1 & 10.0834 & 0.41 & 0.0 & 1.0 & 0.56 & 0.111 & 0.65 \\\\\n",
       "\t4 & 4 & 1 & 8.9103 & 0.4132 & 0.0 & 0.958953 & 0.54 & 0.104 & 0.67 \\\\\n",
       "\t5 & 5 & 1 & 4.0 & 0.4546 & 0.0 & 0.0 & 0.54 & 0.139 & 0.7 \\\\\n",
       "\t6 & 6 & 1 & 4.1434 & 0.5081 & 0.0 & 0.0 & 0.57 & 0.12 & 0.7 \\\\\n",
       "\t7 & 7 & 1 & 7.1535 & 0.4218 & 0.0 & 0.854318 & 0.5 & 0.114 & 0.7 \\\\\n",
       "\t8 & 8 & 1 & 4.1374 & 0.5081 & 0.0 & 0.0 & 0.46 & 0.116 & 0.7 \\\\\n",
       "\t9 & 9 & 1 & 7.1535 & 0.4218 & 0.0 & 0.854318 & 0.52 & 0.132 & 0.7 \\\\\n",
       "\t10 & 10 & 1 & 4.0 & 0.4915 & 0.0922065 & 0.0 & 0.59 & 0.117 & 0.8014 \\\\\n",
       "\t11 & 11 & 1 & 8.5 & 0.5836 & 0.0 & 0.0 & 0.59 & 0.103 & 1.8103 \\\\\n",
       "\t12 & 12 & 1 & 9.2698 & 0.5904 & 0.0 & 0.0 & 0.52 & 0.134 & 2.0 \\\\\n",
       "\t13 & 13 & 1 & 9.2698 & 0.5904 & 0.0 & 0.0 & 0.58 & 0.105 & 2.0 \\\\\n",
       "\t14 & 14 & 1 & 9.2698 & 0.5904 & 0.0 & 0.0 & 0.56 & 0.107 & 2.0 \\\\\n",
       "\t15 & 15 & 1 & 4.0 & 0.4915 & 0.0922065 & 0.0 & 0.48 & 0.155 & 0.8014 \\\\\n",
       "\t16 & 16 & 1 & 8.5 & 0.5836 & 0.0 & 0.0 & 0.53 & 0.14 & 1.8103 \\\\\n",
       "\t17 & 17 & 1 & 10.0 & 0.596 & 0.0 & 0.0 & 0.53 & 0.126 & 2.1799 \\\\\n",
       "\t18 & 18 & 1 & 10.75 & 0.6011 & 0.0 & 0.0 & 0.57 & 0.156 & 2.3647 \\\\\n",
       "\t19 & 19 & 1 & 11.0285 & 0.6028 & 0.0 & 0.0 & 0.54 & 0.144 & 2.4333 \\\\\n",
       "\t20 & 20 & 1 & 4.0 & 0.4915 & 0.0922065 & 0.0 & 0.58 & 0.104 & 0.8014 \\\\\n",
       "\t21 & 21 & 1 & 8.5 & 0.5836 & 0.0 & 0.0 & 0.54 & 0.115 & 1.8103 \\\\\n",
       "\t22 & 22 & 1 & 10.0 & 0.596 & 0.0 & 0.0 & 0.58 & 0.101 & 2.1799 \\\\\n",
       "\t23 & 23 & 1 & 10.75 & 0.6011 & 0.0 & 0.0 & 0.58 & 0.139 & 2.3647 \\\\\n",
       "\t24 & 24 & 1 & 11.2 & 0.6038 & 0.0 & 0.0 & 0.55 & 0.124 & 2.4756 \\\\\n",
       "\t25 & 25 & 1 & 4.0 & 0.4915 & 0.0922065 & 0.0 & 0.53 & 0.123 & 0.8014 \\\\\n",
       "\t26 & 26 & 1 & 8.5 & 0.5836 & 0.0 & 0.0 & 0.57 & 0.144 & 1.8103 \\\\\n",
       "\t27 & 27 & 1 & 10.0 & 0.596 & 0.0 & 0.0 & 0.6 & 0.154 & 2.1799 \\\\\n",
       "\t28 & 28 & 1 & 10.75 & 0.6011 & 0.0 & 0.0 & 0.45 & 0.101 & 2.3647 \\\\\n",
       "\t29 & 29 & 1 & 11.2 & 0.6038 & 0.0 & 0.0 & 0.53 & 0.132 & 2.4756 \\\\\n",
       "\t30 & 30 & 2 & 12.2276 & 0.5596 & 0.881291 & 0.0 & 0.55 & 0.107 & 3.7074 \\\\\n",
       "\t$\\dots$ & $\\dots$ & $\\dots$ & $\\dots$ & $\\dots$ & $\\dots$ & $\\dots$ & $\\dots$ & $\\dots$ & $\\dots$ \\\\\n",
       "\\end{tabular}\n"
      ],
      "text/plain": [
       "\u001b[1m240×9 DataFrame\u001b[0m\n",
       "\u001b[1m Row \u001b[0m│\u001b[1m k     \u001b[0m\u001b[1m i     \u001b[0m\u001b[1m GWP     \u001b[0m\u001b[1m Theta   \u001b[0m\u001b[1m Per_Recycl \u001b[0m\u001b[1m Per_Comp  \u001b[0m\u001b[1m GHG_ElecInd \u001b[0m\u001b[1m GHG\u001b[0m ⋯\n",
       "\u001b[1m     \u001b[0m│\u001b[90m Int64 \u001b[0m\u001b[90m Int64 \u001b[0m\u001b[90m Float64 \u001b[0m\u001b[90m Float64 \u001b[0m\u001b[90m Float64    \u001b[0m\u001b[90m Float64   \u001b[0m\u001b[90m Float64     \u001b[0m\u001b[90m Flo\u001b[0m ⋯\n",
       "─────┼──────────────────────────────────────────────────────────────────────────\n",
       "   1 │     1      1  15.0711   0.621    0.0        0.0              0.499      ⋯\n",
       "   2 │     2      1   2.7837   0.3955   0.661676   0.0              0.47\n",
       "   3 │     3      1  10.0834   0.41     0.0        1.0              0.56\n",
       "   4 │     4      1   8.9103   0.4132   0.0        0.958953         0.54\n",
       "   5 │     5      1   4.0      0.4546   0.0        0.0              0.54       ⋯\n",
       "   6 │     6      1   4.1434   0.5081   0.0        0.0              0.57\n",
       "   7 │     7      1   7.1535   0.4218   0.0        0.854318         0.5\n",
       "   8 │     8      1   4.1374   0.5081   0.0        0.0              0.46\n",
       "   9 │     9      1   7.1535   0.4218   0.0        0.854318         0.52       ⋯\n",
       "  10 │    10      1   4.0      0.4915   0.0922065  0.0              0.59\n",
       "  11 │    11      1   8.5      0.5836   0.0        0.0              0.59\n",
       "  ⋮  │   ⋮      ⋮       ⋮        ⋮         ⋮           ⋮           ⋮           ⋱\n",
       " 231 │   231     10   3.2136   0.175    0.27592    0.0              1.48\n",
       " 232 │   232     10   3.1062   0.175    0.245418   0.0646392        1.58       ⋯\n",
       " 233 │   233     10   2.9988   0.175    0.230787   0.153537         1.48\n",
       " 234 │   234     10   2.8914   0.2485   0.405205   0.0              1.57\n",
       " 235 │   235     10   2.784    0.3955   0.661676   0.0              1.52\n",
       " 236 │   236     10   3.1024   0.05     0.065482   0.0              1.45       ⋯\n",
       " 237 │   237     10   3.1021   0.05     0.065482   0.0              1.5\n",
       " 238 │   238     10   2.9988   0.05     0.0752763  0.0              1.58\n",
       " 239 │   239     10   2.8914   0.207    0.295782   0.0888537        1.56\n",
       " 240 │   240     10   2.784    0.3949   0.660557   0.0              1.48       ⋯\n",
       "\u001b[36m                                                  2 columns and 219 rows omitted\u001b[0m"
      ]
     },
     "execution_count": 392,
     "metadata": {},
     "output_type": "execute_result"
    }
   ],
   "source": [
    "compromise"
   ]
  },
  {
   "cell_type": "code",
   "execution_count": 393,
   "id": "12fc4d55",
   "metadata": {},
   "outputs": [
    {
     "data": {
      "text/plain": [
       "tech_roadmap_mccormick_peicewise_iam_multipd (generic function with 1 method)"
      ]
     },
     "execution_count": 393,
     "metadata": {},
     "output_type": "execute_result"
    }
   ],
   "source": [
    "function tech_roadmap_mccormick_peicewise_iam_multipd(co2_target,circularity_target)\n",
    "    \n",
    "    rdmap= Model(Gurobi.Optimizer)\n",
    "    #set_optimizer_attribute(rdmap, \"MaxTime\", 100)\n",
    "    #set_optimizer_attribute(rdmap, \"optCR\", 0.2)\n",
    "    set_optimizer_attribute(rdmap, \"NonConvex\", 2)\n",
    "    \n",
    "    #Sets\n",
    "    # i: innovation\n",
    "    # k: compromise or pareto optimal solution\n",
    "    # r,c : row column of transition matrices\n",
    "    \n",
    "    #Declaration of variables\n",
    "    \n",
    "    #binary variable choosing the pareto optimal solution\n",
    "    @variable(rdmap,yk[k=1:nrow(compromise),tt=1:7],Bin)\n",
    "    #time at which a pareto optimal solution is chosen\n",
    "    @variable(rdmap,0 ≤ tk[k=1:nrow(compromise),tt=1:7] ≤ 5)\n",
    "    #percentage of functional unit that a pareto optimal solution takes up\n",
    "    @variable(rdmap,0 ≤ xk[k=1:nrow(compromise),tt=1:7] ≤ 1)\n",
    "    \n",
    "    #binary variable choosing which innovation to invest in for adoption\n",
    "    @variable(rdmap,yi[i=1:nrow(innovations),tt=1:7],Bin)\n",
    "    #time at which invested is made and innovation made adoptible\n",
    "    @variable(rdmap,0 ≤ ti[i=1:nrow(innovations),tt=1:7] ≤ 5)\n",
    "    #readiness level state value of ith innovation\n",
    "    @variable(rdmap, s[i=1:nrow(innovations),tt=1:7] )\n",
    "    \n",
    "    #CO2 at 2050 target\n",
    "    @variable(rdmap, co2_2050[tt=1:7])\n",
    "    \n",
    "    #circularity at 2030 target\n",
    "    @variable(rdmap, theta_2030[tt=1:7] ≥ 0)\n",
    "    #recycled content at 2030 target\n",
    "    @variable(rdmap, recycl_2030[tt=1:7] ≥ 0)\n",
    "    #compostable content at 2030 target\n",
    "    @variable(rdmap, comp_2030[tt=1:7] ≥ 0)\n",
    "    \n",
    "    #integral approximator of CO2\n",
    "    @variable(rdmap, co2_tot ≥ 0)\n",
    "    \n",
    "    #cost incured in investing to adopt\n",
    "    @variable(rdmap, 0 ≤ cost_inn)\n",
    "    \n",
    "    #surrogate models\n",
    "    @variable(rdmap,f_fit[i=1:nrow(innovations),tt=1:7] ≥ 0)\n",
    "    @variable(rdmap,co2_factor[k=1:nrow(compromise),tt=1:7]≥ 0)\n",
    "    @variable(rdmap,co2_corrected[k=1:nrow(compromise),tt=1:7]≥ 0)\n",
    "\n",
    "    for i in 1:nrow(innovations)\n",
    "        for tt in 1:7\n",
    "            f_fit[i,tt] = piecewiselinear(rdmap, tau[tt]+ti[i,tt], Matrix(inn_xrang[!,2:ncol(inn_xrang)])[i,:],Matrix(inn_yrang[!,2:ncol(inn_yrang)])[i,:])\n",
    "        end\n",
    "    end\n",
    "            \n",
    "    \n",
    "    for k in 1:nrow(compromise)\n",
    "        for tt in 1:7\n",
    "            co2_factor[k,tt] = (piecewiselinear(rdmap, tau[tt]+tk[k,tt], Matrix(iam_model[!,1:1])[:,1],Matrix(iam_model[!,2:2])[:,1]))\n",
    "    \n",
    "        end\n",
    "    end\n",
    "    \n",
    "    @constraint(rdmap, [k=1:nrow(compromise),tt=1:7], co2_corrected[k,tt] == \n",
    "        compromise[k,3]*((1-compromise[k,7]) + compromise[k,7]*(co2_factor[k,tt])))\n",
    "    \n",
    "    #Constraints\n",
    "    \n",
    "    \n",
    "    #Planning optimization constraints    \n",
    "    #only one compromise solution chosen on each pareto front, and chosen only if investment made in ith front\n",
    "    @constraint(rdmap, [i=1,tt=1:7], sum(yk[k,tt] for k=1:mapki[i,2])≤yi[i,tt])\n",
    "    @constraint(rdmap, [i=2:nrow(mapki),tt=1:7], sum(yk[k,tt] for k=mapki[i-1,2]:mapki[i,2])≤yi[i,tt])\n",
    "    \n",
    "    #one can pick a compromise solution from ith front to satisfy functional unit only after investment in ith innovation made\n",
    "    @constraint(rdmap, [i=1,tt=1:7], ti[i,tt] ≤ sum(tk[k,tt] for k=1:mapki[i,2]))\n",
    "    @constraint(rdmap, [i=2:nrow(mapki),tt=1:7], ti[i,tt] ≤ sum(tk[k,tt] for k=mapki[i-1,2]:mapki[i,2]))\n",
    "    \n",
    "    #if innovation invested in, time has to be between 0 and fifty, otherwise 0\n",
    "    @constraint(rdmap, [i=1:nrow(mapki),tt=1:7], 5*yi[i,tt] ≥ ti[i,tt])\n",
    "    #if compromise solution chosen, time has to be between 0 and fifty, otherwise 0\n",
    "    @constraint(rdmap, [k=1:nrow(compromise),tt=1:7], 5*yk[k,tt] ≥ tk[k,tt])\n",
    "    \n",
    "    @constraint(rdmap, [i=1:nrow(mapki),tt=1:6], yi[i,tt+1] ≥ yi[i,tt])\n",
    "    @constraint(rdmap, [i=1:nrow(mapki),tt=2:7],ti[i,tt]≤ 5*( yi[i,tt]-yi[i,tt-1]))\n",
    "    \n",
    "    #if compromise chosen across boundary tk=0\n",
    "    #@constraint(rdmap, [k=1:nrow(compromise),tt=2:7],tk[k,tt]≤ 5*( yk[k,tt]-yk[k,tt-1]))\n",
    "    #@constraint(rdmap, [k=1:nrow(compromise),tt=2:7],tk[k,tt]≤ 5000*( xk[k,tt]-xk[k,tt-1]))\n",
    "    #time of change has to be same\n",
    "    #=   \n",
    "    @variables(rdmap,begin \n",
    "                    u1[k=1:nrow(compromise),tt=2:7], Bin\n",
    "                    u2[k=1:nrow(compromise),tt=2:7], Bin\n",
    "                    u0[k=1:nrow(compromise),tt=2:7], Bin\n",
    "        end)\n",
    "    \n",
    "    \n",
    "    for i in 2:nrow(mapki)\n",
    "        @constraint(rdmap,[k=mapki[i-1,2]:mapki[i,2],tt=2:7],1-u0[k,tt]==yi[i,tt]-yi[i,tt-1])\n",
    "        @constraint(rdmap,[k=(mapki[i-1,2]+1):mapki[i,2],tt=2:7],tk[k,tt] ≥ tk[k-1,tt]+(1/5000)*u1[k,tt])\n",
    "        @constraint(rdmap,[k=(mapki[i-1,2]+1):mapki[i,2],tt=2:7],tk[k,tt] ≤ tk[k-1,tt]-(1/5000)*u2[k,tt])\n",
    "        @constraint(rdmap,[k=mapki[i-1,2]:mapki[i,2],tt=2:7],u0[k,tt]+u1[k,tt]+u2[k,tt]≤1)\n",
    "    end\n",
    "    \n",
    "    i=1\n",
    "    @constraint(rdmap,[k=1:mapki[i,2],tt=2:7],1-u0[k,tt]==yi[i,tt]-yi[i,tt-1])  \n",
    "    @constraint(rdmap,[k=2:mapki[i,2],tt=2:7],tk[k,tt] ≥ tk[k-1,tt]+(1/5000)*u1[k,tt])\n",
    "    @constraint(rdmap,[k=2:mapki[i,2],tt=2:7],tk[k,tt] ≤ tk[k-1,tt]-(1/5000)*u2[k,tt])\n",
    "    @constraint(rdmap,[k=1:mapki[i,2],tt=2:7],u0[k,tt]+u1[k,tt]+u2[k,tt]≤1)\n",
    "    =#  \n",
    "    \n",
    "    \n",
    "    \n",
    "    #if innovation invested in, time has to be between 0 and fifty, otherwise 0\n",
    "    #@constraint(rdmap, [i=1:nrow(mapki)], 50*yi[i] ≤ ti[i])\n",
    "    #if compromise solution chosen, time has to be between 0 and fifty, otherwise 0\n",
    "    #@constraint(rdmap, [k=1:nrow(compromise)], 50*yk[k] ≤ tk[k])\n",
    "    \n",
    "    \n",
    "    #functional unit allocation to innovation iff compromise solution chosen\n",
    "    @constraint(rdmap, [k=1:nrow(compromise),tt=1:7], yk[k,tt] ≥ xk[k,tt])\n",
    "    \n",
    "    #total fraction of functional unit satisfied by innovative compromise solutions <1i\n",
    "    @constraint(rdmap,[tt=1:7], sum(xk[k,tt] for k in 1:nrow(compromise)) ≤ 1) \n",
    "    \n",
    "    #co2 at 2050 target formulated based on distribution of functional unit to various pareto solutions from innovative and conventional fronts\n",
    "    @constraint(rdmap,[tt=7],co2_2050[tt]==sum(xk[k,7]*co2_corrected[k,7] for k in 1:nrow(compromise))\n",
    "        + (1-sum(xk[k,7] for k in 1:nrow(compromise)))*initial[1,3])\n",
    "    \n",
    "    #tk < 30\n",
    "    #@variable(rdmap, zk_2030[k=1:nrow(compromise)], Bin)\n",
    "    #@constraint(rdmap, [k=1:nrow(compromise)], 50*(1-zk_2030[k]) ≥ tk[k]-40)\n",
    "    \n",
    "    #circularity at 2030 target\n",
    "    #@constraint(rdmap, theta_2030==sum(xk[k]*compromise[k,4]*(zk_2030[k]) for k in 1:nrow(compromise))\n",
    "    #   + (1-sum(xk[k]*(zk_2030[k]) for k in 1:nrow(compromise)))*initial[1,4])\n",
    "    \n",
    "    #recyclable content at 2030 target\n",
    "    @constraint(rdmap,[tt=3:7], recycl_2030[tt]==sum(xk[k,tt]*compromise[k,5] for k in 1:nrow(compromise))\n",
    "        + (1-sum(xk[k,tt] for k in 1:nrow(compromise)))*initial[1,5])\n",
    "    \n",
    "    #compostable at 2030 target\n",
    "    @constraint(rdmap,[tt=3:7], comp_2030[tt]==sum(xk[k,tt]*compromise[k,6] for k in 1:nrow(compromise))\n",
    "        + (1-sum(xk[k,tt] for k in 1:nrow(compromise)))*initial[1,6])\n",
    "    \n",
    "    \n",
    "    #Time evolution of innovation\n",
    "   \n",
    "    \n",
    "    #Integral approximation of co2 emitted during the entire time horizon\n",
    "    \n",
    "    #mccormick envelopes reduces computational time by 3 fold (see previous formulation for actual bilinear integral approximation)\n",
    "    @variable(rdmap,0 ≤ w1k[k=1:nrow(compromise),tt=2:7])\n",
    "    @constraint(rdmap,[k=1:nrow(compromise),tt=2:7],w1k[k,tt] ≥ 5*xk[k,tt-1]+tk[k,tt]-5)\n",
    "    @constraint(rdmap,[k=1:nrow(compromise),tt=2:7],w1k[k,tt] ≤ 5*xk[k,tt-1])\n",
    "    @constraint(rdmap,[k=1:nrow(compromise),tt=2:7],w1k[k,tt] ≤ tk[k,tt])\n",
    "    \n",
    "    @variable(rdmap,0 ≤ w2k[k=1:nrow(compromise),tt=1:7])\n",
    "    @constraint(rdmap,[k=1:nrow(compromise),tt=1:7],w2k[k,tt] ≥ 5*xk[k,tt]+tk[k,tt]-5)\n",
    "    @constraint(rdmap,[k=1:nrow(compromise),tt=1:7],w2k[k,tt] ≤ 5*xk[k,tt])\n",
    "    @constraint(rdmap,[k=1:nrow(compromise),tt=1:7],w2k[k,tt] ≤ tk[k,tt])\n",
    "    \n",
    "    \n",
    "    \n",
    "    #@constraint(rdmap, co2_tot == 50*initial[1,3]-sum(sum((5-tk[k,tt])*xk[k,tt]*\n",
    "    #                        (initial[1,3]-co2_corrected[k,tt]) for k in 1:nrow(compromise)) for tt in 1:6))\n",
    "    #@constraint(rdmap, co2_tot == 50*initial[1,3]-sum(sum((5*xk[k,tt]-wk[k,tt])*(initial[1,3]-co2_corrected[k,tt]) \n",
    "    #                for k in 1:nrow(compromise)) for tt in 1:7))\n",
    "    \n",
    "    @constraint(rdmap, co2_tot == 5*initial[1,3]*sum(1-xk[k,1] for k in 1:nrow(compromise))\n",
    "                        -sum(sum(((w1k[k,tt]-5*xk[k,tt-1])*co2_corrected[k,tt-1])+(w2k[k,tt]*co2_corrected[k,tt])\n",
    "                        + 5*initial[1,3]*(sum(xk[k,tt-1] for k in 1:nrow(compromise))-sum(xk[k,tt] for k in 1:nrow(compromise)))\n",
    "                        for k in 1:nrow(compromise)) for tt in 2:7))\n",
    "    \n",
    "    #@constraint(rdmap, 120*0.001*co2_tot ≤ 360)\n",
    "    \n",
    "\n",
    "    #setting target for 2050 co2 pledge\n",
    "    @constraint(rdmap, co2_2050[7] ≤ co2_target)\n",
    "    \n",
    "    #setting target for 2030 circularity pledge\n",
    "    #@constraint(rdmap, theta_2030 ≥ 0.72)\n",
    "    \n",
    "    #setting target for 2030 recycl pledge\n",
    "    @constraint(rdmap,[tt=3:7], recycl_2030[tt] + comp_2030[tt] ≥ circularity_target)\n",
    "    \n",
    "    #setting target for 2030 comp pledge\n",
    "    #@constraint(rdmap, comp_2030 ≥ 0.45)\n",
    "    \n",
    "    #@constraint(rdmap,[k=1:25,tt=3:7],tk[k,tt]==0)\n",
    "\n",
    "\n",
    "    #investment cost\n",
    "    @constraint(rdmap, cost_inn == sum(sum(ci[i]*((yi[i,tt]-yi[i,tt-1])*f_fit[i,tt])\n",
    "                for i in 1:nrow(innovations)) for tt in 2:7) + sum(ci[i]*(yi[i,1]*f_fit[i,1]) for i in 1:nrow(innovations)))\n",
    "    \n",
    "    #operating cost\n",
    "    @variable(rdmap,cost_op ≥ 0)\n",
    "    @constraint(rdmap,cost_op == sum(sum(xk[k,tt]*compromise[k,9]*0.968^(-1*tau[tt]) for k in 1:nrow(compromise))\n",
    "        + (1-sum(xk[k,tt] for k in 1:nrow(compromise)))*initial[1,7]*0.968^(-1*tau[tt]) for tt in 1:7))\n",
    "\n",
    "    \n",
    "    @constraint(rdmap, [i=1:nrow(innovations),tt=1:7],s[i,tt]==f_fit[i,tt])\n",
    "    \n",
    "    #@variable(rdmap, y1, Bin)\n",
    "    #@NLconstraint(rdmap, cost_inn == sum(ci[i]*(yi[i]*(y1*(2*t/50)+(1-y1)*(3*t/50))) for i in 1:nrow(innovations)))\n",
    "    \n",
    "    \n",
    "    #definining objective function as investment cost + Co2 emission cost during the time horizon\n",
    "    #40*0.001*co2_tot+\n",
    "    #@NLconstraint(rdmap, obj_val == cost_inn)\n",
    "    #120*0.001*co2_tot+\n",
    "    @objective(rdmap,Min,120*0.001*co2_tot+cost_inn+cost_op)\n",
    "    #120*0.001*co2_tot+\n",
    "    #supplying lower bound on objective based on cost_inn optimal\n",
    "    #@variable(rdmap, obj_val ≥ 180)\n",
    "    #print(rdmap)\n",
    "    optimize!(rdmap)\n",
    "    \n",
    "    return JuMP.value.(yk), JuMP.value.(tk), JuMP.value.(xk), JuMP.value.(yi), JuMP.value.(ti), \n",
    "        JuMP.value.(s), JuMP.value.(co2_2050), JuMP.value.(cost_inn), JuMP.value.(co2_tot), JuMP.value.(co2_corrected), JuMP.value.(co2_factor)\n",
    "end\n",
    "\n",
    "\n"
   ]
  },
  {
   "cell_type": "code",
   "execution_count": 397,
   "id": "6644178b",
   "metadata": {
    "scrolled": true
   },
   "outputs": [
    {
     "name": "stdout",
     "output_type": "stream",
     "text": [
      "Academic license - for non-commercial use only - expires 2022-11-07\n",
      "Gurobi Optimizer version 9.1.2 build v9.1.2rc0 (linux64)\n",
      "Thread count: 8 physical cores, 16 logical processors, using up to 16 threads\n",
      "Optimize a model with 30574 rows, 29331 columns and 109143 nonzeros\n",
      "Model fingerprint: 0x793033ac\n",
      "Model has 3 quadratic constraints\n",
      "Variable types: 22331 continuous, 7000 integer (7000 binary)\n",
      "Coefficient statistics:\n",
      "  Matrix range     [6e-03, 5e+01]\n",
      "  QMatrix range    [1e+00, 2e+02]\n",
      "  QLMatrix range   [1e+00, 1e+04]\n",
      "  Objective range  [1e-01, 1e+00]\n",
      "  Bounds range     [3e-01, 1e+01]\n",
      "  RHS range        [1e-01, 4e+01]\n",
      "  QRHS range       [8e+00, 1e+04]\n",
      "Presolve removed 10481 rows and 13636 columns\n",
      "Presolve time: 0.19s\n",
      "Presolved: 38726 rows, 20385 columns, 152483 nonzeros\n",
      "Presolved model has 4560 bilinear constraint(s)\n",
      "Variable types: 16914 continuous, 3471 integer (3471 binary)\n",
      "\n",
      "Deterministic concurrent LP optimizer: primal and dual simplex\n",
      "Showing first log only...\n",
      "\n",
      "Concurrent spin time: 0.00s\n",
      "\n",
      "Solved with primal simplex\n",
      "\n",
      "Root relaxation: objective 1.192599e+03, 23691 iterations, 1.13 seconds\n",
      "\n",
      "    Nodes    |    Current Node    |     Objective Bounds      |     Work\n",
      " Expl Unexpl |  Obj  Depth IntInf | Incumbent    BestBd   Gap | It/Node Time\n",
      "\n",
      "     0     0 1295.49735    0  246          - 1295.49735      -     -    1s\n",
      "     0     0 1342.08547    0  264          - 1342.08547      -     -    2s\n",
      "     0     0 1343.50200    0  361          - 1343.50200      -     -    2s\n",
      "     0     0 1362.63233    0  315          - 1362.63233      -     -    3s\n",
      "     0     0 1362.83265    0  267          - 1362.83265      -     -    3s\n",
      "     0     0 1434.79733    0  439          - 1434.79733      -     -    4s\n",
      "     0     0 1439.76126    0  515          - 1439.76126      -     -    4s\n",
      "     0     0 1453.29397    0  380          - 1453.29397      -     -    5s\n",
      "     0     0 1461.37177    0  371          - 1461.37177      -     -    5s\n",
      "     0     0 1509.28762    0  420          - 1509.28762      -     -    5s\n",
      "     0     0 1510.02361    0  397          - 1510.02361      -     -    5s\n",
      "     0     0 1515.40712    0  377          - 1515.40712      -     -    6s\n",
      "     0     0 1529.11233    0  497          - 1529.11233      -     -    6s\n",
      "     0     0 1533.53539    0  456          - 1533.53539      -     -    6s\n",
      "     0     0 1533.82784    0  466          - 1533.82784      -     -    7s\n",
      "     0     0 1536.20271    0  429          - 1536.20271      -     -    7s\n",
      "     0     0 1536.23555    0  450          - 1536.23555      -     -    7s\n",
      "     0     0 1543.09464    0  427          - 1543.09464      -     -    7s\n",
      "     0     0 1543.11110    0  443          - 1543.11110      -     -    7s\n",
      "     0     0 1559.99829    0  497          - 1559.99829      -     -    8s\n",
      "     0     0 1566.56060    0  625          - 1566.56060      -     -    8s\n",
      "     0     0 1570.61255    0  582          - 1570.61255      -     -    9s\n",
      "     0     0 1571.09914    0  620          - 1571.09914      -     -    9s\n",
      "     0     0 1571.77602    0  642          - 1571.77602      -     -    9s\n",
      "     0     0 1571.87329    0  670          - 1571.87329      -     -   10s\n",
      "     0     0 1572.46795    0  615          - 1572.46795      -     -   11s\n",
      "     0     0 1572.49182    0  652          - 1572.49182      -     -   11s\n",
      "     0     0 1572.63167    0  614          - 1572.63167      -     -   11s\n",
      "     0     0 1572.65245    0  653          - 1572.65245      -     -   11s\n",
      "     0     0 1573.69471    0  493          - 1573.69471      -     -   12s\n",
      "     0     0 1573.69941    0  523          - 1573.69941      -     -   12s\n",
      "     0     0 1573.72857    0  525          - 1573.72857      -     -   12s\n",
      "     0     0 1573.73485    0  506          - 1573.73485      -     -   12s\n",
      "     0     0 1573.74925    0  503          - 1573.74925      -     -   12s\n",
      "     0     0 1573.87589    0  508          - 1573.87589      -     -   13s\n",
      "H    0     0                    1639.5690573 1573.87589  4.01%     -   14s\n",
      "     0     0 1573.87589    0  147 1639.56906 1573.87589  4.01%     -   16s\n",
      "     0     0 1573.87589    0  152 1639.56906 1573.87589  4.01%     -   16s\n",
      "     0     0 1573.87589    0  232 1639.56906 1573.87589  4.01%     -   16s\n",
      "     0     0 1573.87589    0  345 1639.56906 1573.87589  4.01%     -   17s\n",
      "     0     0 1574.11130    0  311 1639.56906 1574.11130  3.99%     -   17s\n",
      "     0     0 1585.43949    0  405 1639.56906 1585.43949  3.30%     -   18s\n",
      "     0     0 1585.66202    0  388 1639.56906 1585.66202  3.29%     -   18s\n",
      "     0     0 1587.25165    0  514 1639.56906 1587.25165  3.19%     -   19s\n",
      "     0     0 1588.05861    0  512 1639.56906 1588.05861  3.14%     -   19s\n",
      "     0     0 1591.48998    0  434 1639.56906 1591.48998  2.93%     -   20s\n",
      "     0     0 1591.52975    0  451 1639.56906 1591.52975  2.93%     -   20s\n",
      "     0     0 1591.56619    0  449 1639.56906 1591.56619  2.93%     -   20s\n",
      "     0     0 1591.57414    0  405 1639.56906 1591.57414  2.93%     -   20s\n",
      "     0     0 1591.61043    0  455 1639.56906 1591.61043  2.93%     -   20s\n",
      "     0     0 1591.62052    0  442 1639.56906 1591.62052  2.92%     -   21s\n",
      "     0     0 1591.66943    0  471 1639.56906 1591.66943  2.92%     -   21s\n",
      "     0     0 1591.70880    0  478 1639.56906 1591.70880  2.92%     -   21s\n",
      "     0     0 1591.74387    0  495 1639.56906 1591.74387  2.92%     -   21s\n",
      "     0     0 1591.75554    0  495 1639.56906 1591.75554  2.92%     -   26s\n",
      "     0     0 1591.75554    0  148 1639.56906 1591.75554  2.92%     -   29s\n",
      "H    0     0                    1639.5690150 1591.75554  2.92%     -   29s\n",
      "     0     0 1591.75554    0  238 1639.56901 1591.75554  2.92%     -   29s\n",
      "H    0     0                    1639.5690092 1591.75554  2.92%     -   29s\n",
      "     0     0 1591.75554    0  271 1639.56901 1591.75554  2.92%     -   29s\n",
      "     0     0 1591.75554    0  368 1639.56901 1591.75554  2.92%     -   30s\n",
      "H    0     0                    1639.5690081 1591.75554  2.92%     -   30s\n",
      "     0     0 1591.75554    0  510 1639.56901 1591.75554  2.92%     -   30s\n",
      "     0     0 1594.46649    0  341 1639.56901 1594.46649  2.75%     -   31s\n",
      "     0     0 1598.77135    0  372 1639.56901 1598.77135  2.49%     -   32s\n",
      "     0     0 1600.41594    0  389 1639.56901 1600.41594  2.39%     -   32s\n",
      "     0     0 1600.58325    0  446 1639.56901 1600.58325  2.38%     -   33s\n",
      "     0     0 1602.33235    0  463 1639.56901 1602.33235  2.27%     -   33s\n",
      "     0     0 1602.44400    0  523 1639.56901 1602.44400  2.26%     -   33s\n",
      "     0     0 1604.07860    0  487 1639.56901 1604.07860  2.16%     -   33s\n",
      "     0     0 1604.10070    0  523 1639.56901 1604.10070  2.16%     -   34s\n",
      "     0     0 1604.71435    0  472 1639.56901 1604.71435  2.13%     -   34s\n",
      "     0     0 1604.99332    0  487 1639.56901 1604.99332  2.11%     -   34s\n",
      "     0     0 1605.78365    0  494 1639.56901 1605.78365  2.06%     -   34s\n",
      "     0     0 1605.85806    0  545 1639.56901 1605.85806  2.06%     -   35s\n",
      "     0     0 1606.12208    0  530 1639.56901 1606.12208  2.04%     -   35s\n",
      "     0     0 1606.12579    0  552 1639.56901 1606.12579  2.04%     -   35s\n",
      "     0     0 1608.92755    0  423 1639.56901 1608.92755  1.87%     -   35s\n",
      "     0     0 1609.19400    0  409 1639.56901 1609.19400  1.85%     -   36s\n",
      "     0     0 1609.31158    0  425 1639.56901 1609.31158  1.85%     -   36s\n",
      "     0     0 1609.31822    0  397 1639.56901 1609.31822  1.85%     -   36s\n",
      "     0     0 1609.32820    0  415 1639.56901 1609.32820  1.84%     -   36s\n",
      "     0     0 1609.33070    0  420 1639.56901 1609.33070  1.84%     -   36s\n",
      "     0     0 1609.33389    0  414 1639.56901 1609.33389  1.84%     -   36s\n",
      "     0     0 1609.33482    0  406 1639.56901 1609.33482  1.84%     -   37s\n",
      "     0     0 1609.33482    0  133 1639.56901 1609.33482  1.84%     -   39s\n",
      "     0     0 1609.33482    0  175 1639.56901 1609.33482  1.84%     -   39s\n",
      "     0     0 1609.33482    0  290 1639.56901 1609.33482  1.84%     -   39s\n",
      "     0     0 1609.33482    0  300 1639.56901 1609.33482  1.84%     -   39s\n",
      "H    0     0                    1639.5344756 1609.33482  1.84%     -   39s\n",
      "     0     0 1609.33482    0  328 1639.53448 1609.33482  1.84%     -   40s\n",
      "     0     0 1614.12955    0  405 1639.53448 1614.12955  1.55%     -   40s\n",
      "     0     0 1615.76734    0  356 1639.53448 1615.76734  1.45%     -   40s\n",
      "     0     0 1617.19323    0  332 1639.53448 1617.19323  1.36%     -   41s\n",
      "     0     0 1617.22473    0  316 1639.53448 1617.22473  1.36%     -   41s\n",
      "     0     0 1617.27478    0  350 1639.53448 1617.27478  1.36%     -   41s\n",
      "     0     0 1617.29170    0  319 1639.53448 1617.29170  1.36%     -   41s\n",
      "     0     0 1617.32858    0  335 1639.53448 1617.32858  1.35%     -   41s\n",
      "H    0     0                    1639.5344739 1617.32858  1.35%     -   41s\n",
      "     0     0 1617.34741    0  370 1639.53447 1617.34741  1.35%     -   41s\n",
      "     0     0 1617.37198    0  413 1639.53447 1617.37198  1.35%     -   41s\n",
      "     0     0 1625.96603    0  300 1639.53447 1625.96603  0.83%     -   44s\n",
      "     0     0 1626.18021    0  256 1639.53447 1626.18021  0.81%     -   44s\n",
      "     0     0 1626.18021    0  256 1639.53447 1626.18021  0.81%     -   44s\n",
      "     0     0 1626.68570    0  131 1639.53447 1626.68570  0.78%     -   46s\n",
      "     0     0 1626.68570    0  207 1639.53447 1626.68570  0.78%     -   46s\n",
      "     0     0 1626.68570    0  236 1639.53447 1626.68570  0.78%     -   46s\n",
      "     0     0 1627.88968    0  223 1639.53447 1627.88968  0.71%     -   46s\n",
      "     0     0 1628.03961    0  198 1639.53447 1628.03961  0.70%     -   46s\n",
      "     0     0 1628.26128    0  208 1639.53447 1628.26128  0.69%     -   46s\n",
      "     0     0 1628.31849    0  218 1639.53447 1628.31849  0.68%     -   46s\n",
      "     0     0 1628.35015    0  221 1639.53447 1628.35015  0.68%     -   46s\n",
      "     0     0 1628.35534    0  221 1639.53447 1628.35534  0.68%     -   46s\n",
      "     0     0 1628.36419    0  230 1639.53447 1628.36419  0.68%     -   46s\n",
      "     0     0 1628.36510    0  233 1639.53447 1628.36510  0.68%     -   46s\n",
      "     0     0 1628.36804    0  224 1639.53447 1628.36804  0.68%     -   46s\n",
      "     0     0 1637.40872    0   85 1639.53447 1637.40872  0.13%     -   47s\n",
      "     0     0 1637.40872    0   85 1639.53447 1637.40872  0.13%     -   47s\n",
      "H    0     0                    1638.1757877 1637.40872  0.05%     -   47s\n",
      "     0     0 1637.41451    0   93 1638.17579 1637.41451  0.05%     -   47s\n",
      "     0     0 1637.41451    0   92 1638.17579 1637.41451  0.05%     -   47s\n",
      "     0     0 1637.41451    0  102 1638.17579 1637.41451  0.05%     -   47s\n",
      "     0     0 1637.52075    0   99 1638.17579 1637.52075  0.04%     -   47s\n",
      "     0     0 1637.54338    0   75 1638.17579 1637.54338  0.04%     -   47s\n",
      "     0     0 1637.58165    0   79 1638.17579 1637.58165  0.04%     -   47s\n",
      "     0     0 1637.58585    0   84 1638.17579 1637.58585  0.04%     -   47s\n",
      "     0     0 1637.62885    0   98 1638.17579 1637.62885  0.03%     -   47s\n",
      "H    0     0                    1638.1757873 1637.62885  0.03%     -   47s\n",
      "     0     0 1637.63626    0   88 1638.17579 1637.63626  0.03%     -   47s\n",
      "     0     0 1637.69496    0   99 1638.17579 1637.69496  0.03%     -   47s\n",
      "     0     0 1637.70340    0  111 1638.17579 1637.70340  0.03%     -   47s\n",
      "     0     0 1637.78904    0   87 1638.17579 1637.78904  0.02%     -   47s\n",
      "     0     0 1637.79260    0   84 1638.17579 1637.79260  0.02%     -   47s\n",
      "     0     0 1637.82423    0  121 1638.17579 1637.82423  0.02%     -   47s\n",
      "     0     0 1637.83689    0   97 1638.17579 1637.83689  0.02%     -   47s\n",
      "     0     0 1637.84034    0   88 1638.17579 1637.84034  0.02%     -   47s\n",
      "     0     0 1637.84370    0   90 1638.17579 1637.84370  0.02%     -   47s\n",
      "     0     0 1637.84824    0   85 1638.17579 1637.84824  0.02%     -   47s\n",
      "     0     0 1637.84857    0   97 1638.17579 1637.84857  0.02%     -   47s\n",
      "     0     0 1637.85219    0   94 1638.17579 1637.85219  0.02%     -   47s\n",
      "     0     0 1637.85219    0   94 1638.17579 1637.85219  0.02%     -   47s\n",
      "     0     2 1637.85229    0   94 1638.17579 1637.85229  0.02%     -   47s\n",
      "*  153    97              24    1638.1275785 1637.97798  0.01%  30.1   48s\n",
      "\n",
      "Cutting planes:\n",
      "  Gomory: 9\n",
      "  Implied bound: 111\n",
      "  MIR: 42\n",
      "  Flow cover: 40\n",
      "  RLT: 112\n",
      "  Relax-and-lift: 25\n",
      "\n",
      "Explored 169 nodes (212504 simplex iterations) in 48.84 seconds\n",
      "Thread count was 16 (of 16 available processors)\n",
      "\n",
      "Solution count 10: 1638.13 1638.18 1638.18 ... 1639.57\n",
      "\n",
      "Optimal solution found (tolerance 1.00e-04)\n",
      "Warning: max constraint violation (4.2343e-05) exceeds tolerance\n",
      "Best objective 1.638127578509e+03, best bound 1.637977983736e+03, gap 0.0091%\n",
      "\n",
      "User-callback calls 8304, time in user-callback 0.00 sec\n"
     ]
    },
    {
     "data": {
      "text/plain": [
       "10×7 Matrix{Float64}:\n",
       " 0.0  0.0  0.0  0.0  0.0  0.0  0.0\n",
       " 0.0  0.0  0.0  0.0  0.0  0.0  0.0\n",
       " 0.0  0.0  0.0  0.0  0.0  0.0  0.0\n",
       " 0.0  0.0  0.0  0.0  0.0  0.0  0.0\n",
       " 1.0  1.0  1.0  1.0  1.0  1.0  1.0\n",
       " 0.0  0.0  0.0  0.0  0.0  0.0  0.0\n",
       " 0.0  0.0  0.0  0.0  0.0  0.0  0.0\n",
       " 0.0  0.0  0.0  0.0  0.0  0.0  0.0\n",
       " 0.0  0.0  0.0  0.0  0.0  0.0  0.0\n",
       " 1.0  1.0  1.0  1.0  1.0  1.0  1.0"
      ]
     },
     "execution_count": 397,
     "metadata": {},
     "output_type": "execute_result"
    }
   ],
   "source": [
    "yk, tk, xk, yi, ti, s, co2, costInn, co2tot, co2fac, cc=tech_roadmap_mccormick_peicewise_iam_multipd(0.5,0.75)\n",
    "yi\n"
   ]
  },
  {
   "cell_type": "code",
   "execution_count": 399,
   "id": "0629277d",
   "metadata": {
    "scrolled": true
   },
   "outputs": [
    {
     "data": {
      "application/vnd.vegalite.v4+json": {
       "data": {
        "values": [
         {
          "value": 0,
          "variable": "x1",
          "year": 5
         },
         {
          "value": 0,
          "variable": "x1",
          "year": 10
         },
         {
          "value": 0,
          "variable": "x1",
          "year": 15
         },
         {
          "value": 0,
          "variable": "x1",
          "year": 20
         },
         {
          "value": 0,
          "variable": "x1",
          "year": 25
         },
         {
          "value": 0,
          "variable": "x1",
          "year": 30
         },
         {
          "value": 0,
          "variable": "x1",
          "year": 35
         },
         {
          "value": 0,
          "variable": "x2",
          "year": 5
         },
         {
          "value": 0,
          "variable": "x2",
          "year": 10
         },
         {
          "value": 0,
          "variable": "x2",
          "year": 15
         },
         {
          "value": 0,
          "variable": "x2",
          "year": 20
         },
         {
          "value": 0,
          "variable": "x2",
          "year": 25
         },
         {
          "value": 0,
          "variable": "x2",
          "year": 30
         },
         {
          "value": 0,
          "variable": "x2",
          "year": 35
         },
         {
          "value": 0,
          "variable": "x3",
          "year": 5
         },
         {
          "value": 0,
          "variable": "x3",
          "year": 10
         },
         {
          "value": 0,
          "variable": "x3",
          "year": 15
         },
         {
          "value": 0,
          "variable": "x3",
          "year": 20
         },
         {
          "value": 0,
          "variable": "x3",
          "year": 25
         },
         {
          "value": 0,
          "variable": "x3",
          "year": 30
         },
         {
          "value": 0,
          "variable": "x3",
          "year": 35
         },
         {
          "value": 0,
          "variable": "x4",
          "year": 5
         },
         {
          "value": 0,
          "variable": "x4",
          "year": 10
         },
         {
          "value": 0,
          "variable": "x4",
          "year": 15
         },
         {
          "value": 0,
          "variable": "x4",
          "year": 20
         },
         {
          "value": 0,
          "variable": "x4",
          "year": 25
         },
         {
          "value": 0,
          "variable": "x4",
          "year": 30
         },
         {
          "value": 0,
          "variable": "x4",
          "year": 35
         },
         {
          "value": 0,
          "variable": "x5",
          "year": 5
         },
         {
          "value": 0,
          "variable": "x5",
          "year": 10
         },
         {
          "value": 0,
          "variable": "x5",
          "year": 15
         },
         {
          "value": 0,
          "variable": "x5",
          "year": 20
         },
         {
          "value": 0,
          "variable": "x5",
          "year": 25
         },
         {
          "value": 0,
          "variable": "x5",
          "year": 30
         },
         {
          "value": 0,
          "variable": "x5",
          "year": 35
         },
         {
          "value": 0,
          "variable": "x6",
          "year": 5
         },
         {
          "value": 0,
          "variable": "x6",
          "year": 10
         },
         {
          "value": 0,
          "variable": "x6",
          "year": 15
         },
         {
          "value": 0,
          "variable": "x6",
          "year": 20
         },
         {
          "value": 0,
          "variable": "x6",
          "year": 25
         },
         {
          "value": 0,
          "variable": "x6",
          "year": 30
         },
         {
          "value": 0,
          "variable": "x6",
          "year": 35
         },
         {
          "value": 0,
          "variable": "x7",
          "year": 5
         },
         {
          "value": 0,
          "variable": "x7",
          "year": 10
         },
         {
          "value": 0,
          "variable": "x7",
          "year": 15
         },
         {
          "value": 0,
          "variable": "x7",
          "year": 20
         },
         {
          "value": 0,
          "variable": "x7",
          "year": 25
         },
         {
          "value": 0,
          "variable": "x7",
          "year": 30
         },
         {
          "value": 0,
          "variable": "x7",
          "year": 35
         },
         {
          "value": 0,
          "variable": "x8",
          "year": 5
         },
         {
          "value": 0,
          "variable": "x8",
          "year": 10
         },
         {
          "value": 0,
          "variable": "x8",
          "year": 15
         },
         {
          "value": 0,
          "variable": "x8",
          "year": 20
         },
         {
          "value": 0,
          "variable": "x8",
          "year": 25
         },
         {
          "value": 0,
          "variable": "x8",
          "year": 30
         },
         {
          "value": 0,
          "variable": "x8",
          "year": 35
         },
         {
          "value": 0,
          "variable": "x9",
          "year": 5
         },
         {
          "value": 0,
          "variable": "x9",
          "year": 10
         },
         {
          "value": 0,
          "variable": "x9",
          "year": 15
         },
         {
          "value": 0,
          "variable": "x9",
          "year": 20
         },
         {
          "value": 0,
          "variable": "x9",
          "year": 25
         },
         {
          "value": 0,
          "variable": "x9",
          "year": 30
         },
         {
          "value": 0,
          "variable": "x9",
          "year": 35
         },
         {
          "value": 0,
          "variable": "x10",
          "year": 5
         },
         {
          "value": 0,
          "variable": "x10",
          "year": 10
         },
         {
          "value": 0,
          "variable": "x10",
          "year": 15
         },
         {
          "value": 0,
          "variable": "x10",
          "year": 20
         },
         {
          "value": 0,
          "variable": "x10",
          "year": 25
         },
         {
          "value": 0,
          "variable": "x10",
          "year": 30
         },
         {
          "value": 0,
          "variable": "x10",
          "year": 35
         },
         {
          "value": 0,
          "variable": "x11",
          "year": 5
         },
         {
          "value": 0,
          "variable": "x11",
          "year": 10
         },
         {
          "value": 0,
          "variable": "x11",
          "year": 15
         },
         {
          "value": 0,
          "variable": "x11",
          "year": 20
         },
         {
          "value": 0,
          "variable": "x11",
          "year": 25
         },
         {
          "value": 0,
          "variable": "x11",
          "year": 30
         },
         {
          "value": 0,
          "variable": "x11",
          "year": 35
         },
         {
          "value": 0,
          "variable": "x12",
          "year": 5
         },
         {
          "value": 0,
          "variable": "x12",
          "year": 10
         },
         {
          "value": 0,
          "variable": "x12",
          "year": 15
         },
         {
          "value": 0,
          "variable": "x12",
          "year": 20
         },
         {
          "value": 0,
          "variable": "x12",
          "year": 25
         },
         {
          "value": 0,
          "variable": "x12",
          "year": 30
         },
         {
          "value": 0,
          "variable": "x12",
          "year": 35
         },
         {
          "value": 0,
          "variable": "x13",
          "year": 5
         },
         {
          "value": 0,
          "variable": "x13",
          "year": 10
         },
         {
          "value": 0,
          "variable": "x13",
          "year": 15
         },
         {
          "value": 0,
          "variable": "x13",
          "year": 20
         },
         {
          "value": 0,
          "variable": "x13",
          "year": 25
         },
         {
          "value": 0,
          "variable": "x13",
          "year": 30
         },
         {
          "value": 0,
          "variable": "x13",
          "year": 35
         },
         {
          "value": 0,
          "variable": "x14",
          "year": 5
         },
         {
          "value": 0,
          "variable": "x14",
          "year": 10
         },
         {
          "value": 0,
          "variable": "x14",
          "year": 15
         },
         {
          "value": 0,
          "variable": "x14",
          "year": 20
         },
         {
          "value": 0,
          "variable": "x14",
          "year": 25
         },
         {
          "value": 0,
          "variable": "x14",
          "year": 30
         },
         {
          "value": 0,
          "variable": "x14",
          "year": 35
         },
         {
          "value": 0,
          "variable": "x15",
          "year": 5
         },
         {
          "value": 0,
          "variable": "x15",
          "year": 10
         },
         {
          "value": 0,
          "variable": "x15",
          "year": 15
         },
         {
          "value": 0,
          "variable": "x15",
          "year": 20
         },
         {
          "value": 0,
          "variable": "x15",
          "year": 25
         },
         {
          "value": 0,
          "variable": "x15",
          "year": 30
         },
         {
          "value": 0,
          "variable": "x15",
          "year": 35
         },
         {
          "value": 0,
          "variable": "x16",
          "year": 5
         },
         {
          "value": 0,
          "variable": "x16",
          "year": 10
         },
         {
          "value": 0,
          "variable": "x16",
          "year": 15
         },
         {
          "value": 0,
          "variable": "x16",
          "year": 20
         },
         {
          "value": 0,
          "variable": "x16",
          "year": 25
         },
         {
          "value": 0,
          "variable": "x16",
          "year": 30
         },
         {
          "value": 0,
          "variable": "x16",
          "year": 35
         },
         {
          "value": 0,
          "variable": "x17",
          "year": 5
         },
         {
          "value": 0,
          "variable": "x17",
          "year": 10
         },
         {
          "value": 0,
          "variable": "x17",
          "year": 15
         },
         {
          "value": 0,
          "variable": "x17",
          "year": 20
         },
         {
          "value": 0,
          "variable": "x17",
          "year": 25
         },
         {
          "value": 0,
          "variable": "x17",
          "year": 30
         },
         {
          "value": 0,
          "variable": "x17",
          "year": 35
         },
         {
          "value": 0,
          "variable": "x18",
          "year": 5
         },
         {
          "value": 0,
          "variable": "x18",
          "year": 10
         },
         {
          "value": 0,
          "variable": "x18",
          "year": 15
         },
         {
          "value": 0,
          "variable": "x18",
          "year": 20
         },
         {
          "value": 0,
          "variable": "x18",
          "year": 25
         },
         {
          "value": 0,
          "variable": "x18",
          "year": 30
         },
         {
          "value": 0,
          "variable": "x18",
          "year": 35
         },
         {
          "value": 0,
          "variable": "x19",
          "year": 5
         },
         {
          "value": 0,
          "variable": "x19",
          "year": 10
         },
         {
          "value": 0,
          "variable": "x19",
          "year": 15
         },
         {
          "value": 0,
          "variable": "x19",
          "year": 20
         },
         {
          "value": 0,
          "variable": "x19",
          "year": 25
         },
         {
          "value": 0,
          "variable": "x19",
          "year": 30
         },
         {
          "value": 0,
          "variable": "x19",
          "year": 35
         },
         {
          "value": 0,
          "variable": "x20",
          "year": 5
         },
         {
          "value": 0,
          "variable": "x20",
          "year": 10
         },
         {
          "value": 0,
          "variable": "x20",
          "year": 15
         },
         {
          "value": 0,
          "variable": "x20",
          "year": 20
         },
         {
          "value": 0,
          "variable": "x20",
          "year": 25
         },
         {
          "value": 0,
          "variable": "x20",
          "year": 30
         },
         {
          "value": 0,
          "variable": "x20",
          "year": 35
         },
         {
          "value": 0,
          "variable": "x21",
          "year": 5
         },
         {
          "value": 0,
          "variable": "x21",
          "year": 10
         },
         {
          "value": 0,
          "variable": "x21",
          "year": 15
         },
         {
          "value": 0,
          "variable": "x21",
          "year": 20
         },
         {
          "value": 0,
          "variable": "x21",
          "year": 25
         },
         {
          "value": 0,
          "variable": "x21",
          "year": 30
         },
         {
          "value": 0,
          "variable": "x21",
          "year": 35
         },
         {
          "value": 0,
          "variable": "x22",
          "year": 5
         },
         {
          "value": 0,
          "variable": "x22",
          "year": 10
         },
         {
          "value": 0,
          "variable": "x22",
          "year": 15
         },
         {
          "value": 0,
          "variable": "x22",
          "year": 20
         },
         {
          "value": 0,
          "variable": "x22",
          "year": 25
         },
         {
          "value": 0,
          "variable": "x22",
          "year": 30
         },
         {
          "value": 0,
          "variable": "x22",
          "year": 35
         },
         {
          "value": 0,
          "variable": "x23",
          "year": 5
         },
         {
          "value": 0,
          "variable": "x23",
          "year": 10
         },
         {
          "value": 0,
          "variable": "x23",
          "year": 15
         },
         {
          "value": 0,
          "variable": "x23",
          "year": 20
         },
         {
          "value": 0,
          "variable": "x23",
          "year": 25
         },
         {
          "value": 0,
          "variable": "x23",
          "year": 30
         },
         {
          "value": 0,
          "variable": "x23",
          "year": 35
         },
         {
          "value": 0,
          "variable": "x24",
          "year": 5
         },
         {
          "value": 0,
          "variable": "x24",
          "year": 10
         },
         {
          "value": 0,
          "variable": "x24",
          "year": 15
         },
         {
          "value": 0,
          "variable": "x24",
          "year": 20
         },
         {
          "value": 0,
          "variable": "x24",
          "year": 25
         },
         {
          "value": 0,
          "variable": "x24",
          "year": 30
         },
         {
          "value": 0,
          "variable": "x24",
          "year": 35
         },
         {
          "value": 0,
          "variable": "x25",
          "year": 5
         },
         {
          "value": 0,
          "variable": "x25",
          "year": 10
         },
         {
          "value": 0,
          "variable": "x25",
          "year": 15
         },
         {
          "value": 0,
          "variable": "x25",
          "year": 20
         },
         {
          "value": 0,
          "variable": "x25",
          "year": 25
         },
         {
          "value": 0,
          "variable": "x25",
          "year": 30
         },
         {
          "value": 0,
          "variable": "x25",
          "year": 35
         },
         {
          "value": 0,
          "variable": "x26",
          "year": 5
         },
         {
          "value": 0,
          "variable": "x26",
          "year": 10
         },
         {
          "value": 0,
          "variable": "x26",
          "year": 15
         },
         {
          "value": 0,
          "variable": "x26",
          "year": 20
         },
         {
          "value": 0,
          "variable": "x26",
          "year": 25
         },
         {
          "value": 0,
          "variable": "x26",
          "year": 30
         },
         {
          "value": 0,
          "variable": "x26",
          "year": 35
         },
         {
          "value": 0,
          "variable": "x27",
          "year": 5
         },
         {
          "value": 0,
          "variable": "x27",
          "year": 10
         },
         {
          "value": 0,
          "variable": "x27",
          "year": 15
         },
         {
          "value": 0,
          "variable": "x27",
          "year": 20
         },
         {
          "value": 0,
          "variable": "x27",
          "year": 25
         },
         {
          "value": 0,
          "variable": "x27",
          "year": 30
         },
         {
          "value": 0,
          "variable": "x27",
          "year": 35
         },
         {
          "value": 0,
          "variable": "x28",
          "year": 5
         },
         {
          "value": 0,
          "variable": "x28",
          "year": 10
         },
         {
          "value": 0,
          "variable": "x28",
          "year": 15
         },
         {
          "value": 0,
          "variable": "x28",
          "year": 20
         },
         {
          "value": 0,
          "variable": "x28",
          "year": 25
         },
         {
          "value": 0,
          "variable": "x28",
          "year": 30
         },
         {
          "value": 0,
          "variable": "x28",
          "year": 35
         },
         {
          "value": 0,
          "variable": "x29",
          "year": 5
         },
         {
          "value": 0,
          "variable": "x29",
          "year": 10
         },
         {
          "value": 0,
          "variable": "x29",
          "year": 15
         },
         {
          "value": 0,
          "variable": "x29",
          "year": 20
         },
         {
          "value": 0,
          "variable": "x29",
          "year": 25
         },
         {
          "value": 0,
          "variable": "x29",
          "year": 30
         },
         {
          "value": 0,
          "variable": "x29",
          "year": 35
         },
         {
          "value": 0,
          "variable": "x30",
          "year": 5
         },
         {
          "value": 0,
          "variable": "x30",
          "year": 10
         },
         {
          "value": 0,
          "variable": "x30",
          "year": 15
         },
         {
          "value": 0,
          "variable": "x30",
          "year": 20
         },
         {
          "value": 0,
          "variable": "x30",
          "year": 25
         },
         {
          "value": 0,
          "variable": "x30",
          "year": 30
         },
         {
          "value": 0,
          "variable": "x30",
          "year": 35
         },
         {
          "value": 0,
          "variable": "x31",
          "year": 5
         },
         {
          "value": 0,
          "variable": "x31",
          "year": 10
         },
         {
          "value": 0,
          "variable": "x31",
          "year": 15
         },
         {
          "value": 0,
          "variable": "x31",
          "year": 20
         },
         {
          "value": 0,
          "variable": "x31",
          "year": 25
         },
         {
          "value": 0,
          "variable": "x31",
          "year": 30
         },
         {
          "value": 0,
          "variable": "x31",
          "year": 35
         },
         {
          "value": 0,
          "variable": "x32",
          "year": 5
         },
         {
          "value": 0,
          "variable": "x32",
          "year": 10
         },
         {
          "value": 0,
          "variable": "x32",
          "year": 15
         },
         {
          "value": 0,
          "variable": "x32",
          "year": 20
         },
         {
          "value": 0,
          "variable": "x32",
          "year": 25
         },
         {
          "value": 0,
          "variable": "x32",
          "year": 30
         },
         {
          "value": 0,
          "variable": "x32",
          "year": 35
         },
         {
          "value": 0,
          "variable": "x33",
          "year": 5
         },
         {
          "value": 0,
          "variable": "x33",
          "year": 10
         },
         {
          "value": 0,
          "variable": "x33",
          "year": 15
         },
         {
          "value": 0,
          "variable": "x33",
          "year": 20
         },
         {
          "value": 0,
          "variable": "x33",
          "year": 25
         },
         {
          "value": 0,
          "variable": "x33",
          "year": 30
         },
         {
          "value": 0,
          "variable": "x33",
          "year": 35
         },
         {
          "value": 0,
          "variable": "x34",
          "year": 5
         },
         {
          "value": 0,
          "variable": "x34",
          "year": 10
         },
         {
          "value": 0,
          "variable": "x34",
          "year": 15
         },
         {
          "value": 0,
          "variable": "x34",
          "year": 20
         },
         {
          "value": 0,
          "variable": "x34",
          "year": 25
         },
         {
          "value": 0,
          "variable": "x34",
          "year": 30
         },
         {
          "value": 0,
          "variable": "x34",
          "year": 35
         },
         {
          "value": 0,
          "variable": "x35",
          "year": 5
         },
         {
          "value": 0,
          "variable": "x35",
          "year": 10
         },
         {
          "value": 0,
          "variable": "x35",
          "year": 15
         },
         {
          "value": 0,
          "variable": "x35",
          "year": 20
         },
         {
          "value": 0,
          "variable": "x35",
          "year": 25
         },
         {
          "value": 0,
          "variable": "x35",
          "year": 30
         },
         {
          "value": 0,
          "variable": "x35",
          "year": 35
         },
         {
          "value": 0,
          "variable": "x36",
          "year": 5
         },
         {
          "value": 0,
          "variable": "x36",
          "year": 10
         },
         {
          "value": 0,
          "variable": "x36",
          "year": 15
         },
         {
          "value": 0,
          "variable": "x36",
          "year": 20
         },
         {
          "value": 0,
          "variable": "x36",
          "year": 25
         },
         {
          "value": 0,
          "variable": "x36",
          "year": 30
         },
         {
          "value": 0,
          "variable": "x36",
          "year": 35
         },
         {
          "value": 0,
          "variable": "x37",
          "year": 5
         },
         {
          "value": 0,
          "variable": "x37",
          "year": 10
         },
         {
          "value": 0,
          "variable": "x37",
          "year": 15
         },
         {
          "value": 0,
          "variable": "x37",
          "year": 20
         },
         {
          "value": 0,
          "variable": "x37",
          "year": 25
         },
         {
          "value": 0,
          "variable": "x37",
          "year": 30
         },
         {
          "value": 0,
          "variable": "x37",
          "year": 35
         },
         {
          "value": 0,
          "variable": "x38",
          "year": 5
         },
         {
          "value": 0,
          "variable": "x38",
          "year": 10
         },
         {
          "value": 0,
          "variable": "x38",
          "year": 15
         },
         {
          "value": 0,
          "variable": "x38",
          "year": 20
         },
         {
          "value": 0,
          "variable": "x38",
          "year": 25
         },
         {
          "value": 0,
          "variable": "x38",
          "year": 30
         },
         {
          "value": 0,
          "variable": "x38",
          "year": 35
         },
         {
          "value": 0,
          "variable": "x39",
          "year": 5
         },
         {
          "value": 0,
          "variable": "x39",
          "year": 10
         },
         {
          "value": 0,
          "variable": "x39",
          "year": 15
         },
         {
          "value": 0,
          "variable": "x39",
          "year": 20
         },
         {
          "value": 0,
          "variable": "x39",
          "year": 25
         },
         {
          "value": 0,
          "variable": "x39",
          "year": 30
         },
         {
          "value": 0,
          "variable": "x39",
          "year": 35
         },
         {
          "value": 0,
          "variable": "x40",
          "year": 5
         },
         {
          "value": 0,
          "variable": "x40",
          "year": 10
         },
         {
          "value": 0,
          "variable": "x40",
          "year": 15
         },
         {
          "value": 0,
          "variable": "x40",
          "year": 20
         },
         {
          "value": 0,
          "variable": "x40",
          "year": 25
         },
         {
          "value": 0,
          "variable": "x40",
          "year": 30
         },
         {
          "value": 0,
          "variable": "x40",
          "year": 35
         },
         {
          "value": 0,
          "variable": "x41",
          "year": 5
         },
         {
          "value": 0,
          "variable": "x41",
          "year": 10
         },
         {
          "value": 0,
          "variable": "x41",
          "year": 15
         },
         {
          "value": 0,
          "variable": "x41",
          "year": 20
         },
         {
          "value": 0,
          "variable": "x41",
          "year": 25
         },
         {
          "value": 0,
          "variable": "x41",
          "year": 30
         },
         {
          "value": 0,
          "variable": "x41",
          "year": 35
         },
         {
          "value": 0,
          "variable": "x42",
          "year": 5
         },
         {
          "value": 0,
          "variable": "x42",
          "year": 10
         },
         {
          "value": 0,
          "variable": "x42",
          "year": 15
         },
         {
          "value": 0,
          "variable": "x42",
          "year": 20
         },
         {
          "value": 0,
          "variable": "x42",
          "year": 25
         },
         {
          "value": 0,
          "variable": "x42",
          "year": 30
         },
         {
          "value": 0,
          "variable": "x42",
          "year": 35
         },
         {
          "value": 0,
          "variable": "x43",
          "year": 5
         },
         {
          "value": 0,
          "variable": "x43",
          "year": 10
         },
         {
          "value": 0,
          "variable": "x43",
          "year": 15
         },
         {
          "value": 0,
          "variable": "x43",
          "year": 20
         },
         {
          "value": 0,
          "variable": "x43",
          "year": 25
         },
         {
          "value": 0,
          "variable": "x43",
          "year": 30
         },
         {
          "value": 0,
          "variable": "x43",
          "year": 35
         },
         {
          "value": 0,
          "variable": "x44",
          "year": 5
         },
         {
          "value": 0,
          "variable": "x44",
          "year": 10
         },
         {
          "value": 0,
          "variable": "x44",
          "year": 15
         },
         {
          "value": 0,
          "variable": "x44",
          "year": 20
         },
         {
          "value": 0,
          "variable": "x44",
          "year": 25
         },
         {
          "value": 0,
          "variable": "x44",
          "year": 30
         },
         {
          "value": 0,
          "variable": "x44",
          "year": 35
         },
         {
          "value": 0,
          "variable": "x45",
          "year": 5
         },
         {
          "value": 0,
          "variable": "x45",
          "year": 10
         },
         {
          "value": 0,
          "variable": "x45",
          "year": 15
         },
         {
          "value": 0,
          "variable": "x45",
          "year": 20
         },
         {
          "value": 0,
          "variable": "x45",
          "year": 25
         },
         {
          "value": 0,
          "variable": "x45",
          "year": 30
         },
         {
          "value": 0,
          "variable": "x45",
          "year": 35
         },
         {
          "value": 0,
          "variable": "x46",
          "year": 5
         },
         {
          "value": 0,
          "variable": "x46",
          "year": 10
         },
         {
          "value": 0,
          "variable": "x46",
          "year": 15
         },
         {
          "value": 0,
          "variable": "x46",
          "year": 20
         },
         {
          "value": 0,
          "variable": "x46",
          "year": 25
         },
         {
          "value": 0,
          "variable": "x46",
          "year": 30
         },
         {
          "value": 0,
          "variable": "x46",
          "year": 35
         },
         {
          "value": 0,
          "variable": "x47",
          "year": 5
         },
         {
          "value": 0,
          "variable": "x47",
          "year": 10
         },
         {
          "value": 0,
          "variable": "x47",
          "year": 15
         },
         {
          "value": 0,
          "variable": "x47",
          "year": 20
         },
         {
          "value": 0,
          "variable": "x47",
          "year": 25
         },
         {
          "value": 0,
          "variable": "x47",
          "year": 30
         },
         {
          "value": 0,
          "variable": "x47",
          "year": 35
         },
         {
          "value": 0,
          "variable": "x48",
          "year": 5
         },
         {
          "value": 0,
          "variable": "x48",
          "year": 10
         },
         {
          "value": 0,
          "variable": "x48",
          "year": 15
         },
         {
          "value": 0,
          "variable": "x48",
          "year": 20
         },
         {
          "value": 0,
          "variable": "x48",
          "year": 25
         },
         {
          "value": 0,
          "variable": "x48",
          "year": 30
         },
         {
          "value": 0,
          "variable": "x48",
          "year": 35
         },
         {
          "value": 0,
          "variable": "x49",
          "year": 5
         },
         {
          "value": 0,
          "variable": "x49",
          "year": 10
         },
         {
          "value": 0,
          "variable": "x49",
          "year": 15
         },
         {
          "value": 0,
          "variable": "x49",
          "year": 20
         },
         {
          "value": 0,
          "variable": "x49",
          "year": 25
         },
         {
          "value": 0,
          "variable": "x49",
          "year": 30
         },
         {
          "value": 0,
          "variable": "x49",
          "year": 35
         },
         {
          "value": 0,
          "variable": "x50",
          "year": 5
         },
         {
          "value": 0,
          "variable": "x50",
          "year": 10
         },
         {
          "value": 0,
          "variable": "x50",
          "year": 15
         },
         {
          "value": 0,
          "variable": "x50",
          "year": 20
         },
         {
          "value": 0,
          "variable": "x50",
          "year": 25
         },
         {
          "value": 0,
          "variable": "x50",
          "year": 30
         },
         {
          "value": 0,
          "variable": "x50",
          "year": 35
         },
         {
          "value": 0,
          "variable": "x51",
          "year": 5
         },
         {
          "value": 0,
          "variable": "x51",
          "year": 10
         },
         {
          "value": 0,
          "variable": "x51",
          "year": 15
         },
         {
          "value": 0,
          "variable": "x51",
          "year": 20
         },
         {
          "value": 0,
          "variable": "x51",
          "year": 25
         },
         {
          "value": 0,
          "variable": "x51",
          "year": 30
         },
         {
          "value": 0,
          "variable": "x51",
          "year": 35
         },
         {
          "value": 0,
          "variable": "x52",
          "year": 5
         },
         {
          "value": 0,
          "variable": "x52",
          "year": 10
         },
         {
          "value": 0,
          "variable": "x52",
          "year": 15
         },
         {
          "value": 0,
          "variable": "x52",
          "year": 20
         },
         {
          "value": 0,
          "variable": "x52",
          "year": 25
         },
         {
          "value": 0,
          "variable": "x52",
          "year": 30
         },
         {
          "value": 0,
          "variable": "x52",
          "year": 35
         },
         {
          "value": 0,
          "variable": "x53",
          "year": 5
         },
         {
          "value": 0,
          "variable": "x53",
          "year": 10
         },
         {
          "value": 0,
          "variable": "x53",
          "year": 15
         },
         {
          "value": 0,
          "variable": "x53",
          "year": 20
         },
         {
          "value": 0,
          "variable": "x53",
          "year": 25
         },
         {
          "value": 0,
          "variable": "x53",
          "year": 30
         },
         {
          "value": 0,
          "variable": "x53",
          "year": 35
         },
         {
          "value": 0,
          "variable": "x54",
          "year": 5
         },
         {
          "value": 0,
          "variable": "x54",
          "year": 10
         },
         {
          "value": 0,
          "variable": "x54",
          "year": 15
         },
         {
          "value": 0,
          "variable": "x54",
          "year": 20
         },
         {
          "value": 0,
          "variable": "x54",
          "year": 25
         },
         {
          "value": 0,
          "variable": "x54",
          "year": 30
         },
         {
          "value": 0,
          "variable": "x54",
          "year": 35
         },
         {
          "value": 0,
          "variable": "x55",
          "year": 5
         },
         {
          "value": 0,
          "variable": "x55",
          "year": 10
         },
         {
          "value": 0,
          "variable": "x55",
          "year": 15
         },
         {
          "value": 0,
          "variable": "x55",
          "year": 20
         },
         {
          "value": 0,
          "variable": "x55",
          "year": 25
         },
         {
          "value": 0,
          "variable": "x55",
          "year": 30
         },
         {
          "value": 0,
          "variable": "x55",
          "year": 35
         },
         {
          "value": 0,
          "variable": "x56",
          "year": 5
         },
         {
          "value": 0,
          "variable": "x56",
          "year": 10
         },
         {
          "value": 0,
          "variable": "x56",
          "year": 15
         },
         {
          "value": 0,
          "variable": "x56",
          "year": 20
         },
         {
          "value": 0,
          "variable": "x56",
          "year": 25
         },
         {
          "value": 0,
          "variable": "x56",
          "year": 30
         },
         {
          "value": 0,
          "variable": "x56",
          "year": 35
         },
         {
          "value": 0,
          "variable": "x57",
          "year": 5
         },
         {
          "value": 0,
          "variable": "x57",
          "year": 10
         },
         {
          "value": 0,
          "variable": "x57",
          "year": 15
         },
         {
          "value": 0,
          "variable": "x57",
          "year": 20
         },
         {
          "value": 0,
          "variable": "x57",
          "year": 25
         },
         {
          "value": 0,
          "variable": "x57",
          "year": 30
         },
         {
          "value": 0,
          "variable": "x57",
          "year": 35
         },
         {
          "value": 0,
          "variable": "x58",
          "year": 5
         },
         {
          "value": 0,
          "variable": "x58",
          "year": 10
         },
         {
          "value": 0,
          "variable": "x58",
          "year": 15
         },
         {
          "value": 0,
          "variable": "x58",
          "year": 20
         },
         {
          "value": 0,
          "variable": "x58",
          "year": 25
         },
         {
          "value": 0,
          "variable": "x58",
          "year": 30
         },
         {
          "value": 0,
          "variable": "x58",
          "year": 35
         },
         {
          "value": 0,
          "variable": "x59",
          "year": 5
         },
         {
          "value": 0,
          "variable": "x59",
          "year": 10
         },
         {
          "value": 0,
          "variable": "x59",
          "year": 15
         },
         {
          "value": 0,
          "variable": "x59",
          "year": 20
         },
         {
          "value": 0,
          "variable": "x59",
          "year": 25
         },
         {
          "value": 0,
          "variable": "x59",
          "year": 30
         },
         {
          "value": 0,
          "variable": "x59",
          "year": 35
         },
         {
          "value": 0,
          "variable": "x60",
          "year": 5
         },
         {
          "value": 0,
          "variable": "x60",
          "year": 10
         },
         {
          "value": 0,
          "variable": "x60",
          "year": 15
         },
         {
          "value": 0,
          "variable": "x60",
          "year": 20
         },
         {
          "value": 0,
          "variable": "x60",
          "year": 25
         },
         {
          "value": 0,
          "variable": "x60",
          "year": 30
         },
         {
          "value": 0,
          "variable": "x60",
          "year": 35
         },
         {
          "value": 0,
          "variable": "x61",
          "year": 5
         },
         {
          "value": 0,
          "variable": "x61",
          "year": 10
         },
         {
          "value": 0,
          "variable": "x61",
          "year": 15
         },
         {
          "value": 0,
          "variable": "x61",
          "year": 20
         },
         {
          "value": 0,
          "variable": "x61",
          "year": 25
         },
         {
          "value": 0,
          "variable": "x61",
          "year": 30
         },
         {
          "value": 0,
          "variable": "x61",
          "year": 35
         },
         {
          "value": 0,
          "variable": "x62",
          "year": 5
         },
         {
          "value": 0,
          "variable": "x62",
          "year": 10
         },
         {
          "value": 0,
          "variable": "x62",
          "year": 15
         },
         {
          "value": 0,
          "variable": "x62",
          "year": 20
         },
         {
          "value": 0,
          "variable": "x62",
          "year": 25
         },
         {
          "value": 0,
          "variable": "x62",
          "year": 30
         },
         {
          "value": 0,
          "variable": "x62",
          "year": 35
         },
         {
          "value": 0,
          "variable": "x63",
          "year": 5
         },
         {
          "value": 0,
          "variable": "x63",
          "year": 10
         },
         {
          "value": 0,
          "variable": "x63",
          "year": 15
         },
         {
          "value": 0,
          "variable": "x63",
          "year": 20
         },
         {
          "value": 0,
          "variable": "x63",
          "year": 25
         },
         {
          "value": 0,
          "variable": "x63",
          "year": 30
         },
         {
          "value": 0,
          "variable": "x63",
          "year": 35
         },
         {
          "value": 0,
          "variable": "x64",
          "year": 5
         },
         {
          "value": 0,
          "variable": "x64",
          "year": 10
         },
         {
          "value": 0,
          "variable": "x64",
          "year": 15
         },
         {
          "value": 0,
          "variable": "x64",
          "year": 20
         },
         {
          "value": 0,
          "variable": "x64",
          "year": 25
         },
         {
          "value": 0,
          "variable": "x64",
          "year": 30
         },
         {
          "value": 0,
          "variable": "x64",
          "year": 35
         },
         {
          "value": 0,
          "variable": "x65",
          "year": 5
         },
         {
          "value": 0,
          "variable": "x65",
          "year": 10
         },
         {
          "value": 0,
          "variable": "x65",
          "year": 15
         },
         {
          "value": 0,
          "variable": "x65",
          "year": 20
         },
         {
          "value": 0,
          "variable": "x65",
          "year": 25
         },
         {
          "value": 0,
          "variable": "x65",
          "year": 30
         },
         {
          "value": 0,
          "variable": "x65",
          "year": 35
         },
         {
          "value": 0,
          "variable": "x66",
          "year": 5
         },
         {
          "value": 0,
          "variable": "x66",
          "year": 10
         },
         {
          "value": 0,
          "variable": "x66",
          "year": 15
         },
         {
          "value": 0,
          "variable": "x66",
          "year": 20
         },
         {
          "value": 0,
          "variable": "x66",
          "year": 25
         },
         {
          "value": 0,
          "variable": "x66",
          "year": 30
         },
         {
          "value": 0,
          "variable": "x66",
          "year": 35
         },
         {
          "value": 0,
          "variable": "x67",
          "year": 5
         },
         {
          "value": 0,
          "variable": "x67",
          "year": 10
         },
         {
          "value": 0,
          "variable": "x67",
          "year": 15
         },
         {
          "value": 0,
          "variable": "x67",
          "year": 20
         },
         {
          "value": 0,
          "variable": "x67",
          "year": 25
         },
         {
          "value": 0,
          "variable": "x67",
          "year": 30
         },
         {
          "value": 0,
          "variable": "x67",
          "year": 35
         },
         {
          "value": 0,
          "variable": "x68",
          "year": 5
         },
         {
          "value": 0,
          "variable": "x68",
          "year": 10
         },
         {
          "value": 0,
          "variable": "x68",
          "year": 15
         },
         {
          "value": 0,
          "variable": "x68",
          "year": 20
         },
         {
          "value": 0,
          "variable": "x68",
          "year": 25
         },
         {
          "value": 0,
          "variable": "x68",
          "year": 30
         },
         {
          "value": 0,
          "variable": "x68",
          "year": 35
         },
         {
          "value": 0,
          "variable": "x69",
          "year": 5
         },
         {
          "value": 0,
          "variable": "x69",
          "year": 10
         },
         {
          "value": 0,
          "variable": "x69",
          "year": 15
         },
         {
          "value": 0,
          "variable": "x69",
          "year": 20
         },
         {
          "value": 0,
          "variable": "x69",
          "year": 25
         },
         {
          "value": 0,
          "variable": "x69",
          "year": 30
         },
         {
          "value": 0,
          "variable": "x69",
          "year": 35
         },
         {
          "value": 0,
          "variable": "x70",
          "year": 5
         },
         {
          "value": 0,
          "variable": "x70",
          "year": 10
         },
         {
          "value": 0,
          "variable": "x70",
          "year": 15
         },
         {
          "value": 0,
          "variable": "x70",
          "year": 20
         },
         {
          "value": 0,
          "variable": "x70",
          "year": 25
         },
         {
          "value": 0,
          "variable": "x70",
          "year": 30
         },
         {
          "value": 0,
          "variable": "x70",
          "year": 35
         },
         {
          "value": 0,
          "variable": "x71",
          "year": 5
         },
         {
          "value": 0,
          "variable": "x71",
          "year": 10
         },
         {
          "value": 0,
          "variable": "x71",
          "year": 15
         },
         {
          "value": 0,
          "variable": "x71",
          "year": 20
         },
         {
          "value": 0,
          "variable": "x71",
          "year": 25
         },
         {
          "value": 0,
          "variable": "x71",
          "year": 30
         },
         {
          "value": 0,
          "variable": "x71",
          "year": 35
         },
         {
          "value": 0,
          "variable": "x72",
          "year": 5
         },
         {
          "value": 0,
          "variable": "x72",
          "year": 10
         },
         {
          "value": 0,
          "variable": "x72",
          "year": 15
         },
         {
          "value": 0,
          "variable": "x72",
          "year": 20
         },
         {
          "value": 0,
          "variable": "x72",
          "year": 25
         },
         {
          "value": 0,
          "variable": "x72",
          "year": 30
         },
         {
          "value": 0,
          "variable": "x72",
          "year": 35
         },
         {
          "value": 0,
          "variable": "x73",
          "year": 5
         },
         {
          "value": 0,
          "variable": "x73",
          "year": 10
         },
         {
          "value": 0,
          "variable": "x73",
          "year": 15
         },
         {
          "value": 0,
          "variable": "x73",
          "year": 20
         },
         {
          "value": 0,
          "variable": "x73",
          "year": 25
         },
         {
          "value": 0,
          "variable": "x73",
          "year": 30
         },
         {
          "value": 0,
          "variable": "x73",
          "year": 35
         },
         {
          "value": 0,
          "variable": "x74",
          "year": 5
         },
         {
          "value": 0,
          "variable": "x74",
          "year": 10
         },
         {
          "value": 0,
          "variable": "x74",
          "year": 15
         },
         {
          "value": 0,
          "variable": "x74",
          "year": 20
         },
         {
          "value": 0,
          "variable": "x74",
          "year": 25
         },
         {
          "value": 0,
          "variable": "x74",
          "year": 30
         },
         {
          "value": 0,
          "variable": "x74",
          "year": 35
         },
         {
          "value": 0,
          "variable": "x75",
          "year": 5
         },
         {
          "value": 0,
          "variable": "x75",
          "year": 10
         },
         {
          "value": 0,
          "variable": "x75",
          "year": 15
         },
         {
          "value": 0,
          "variable": "x75",
          "year": 20
         },
         {
          "value": 0,
          "variable": "x75",
          "year": 25
         },
         {
          "value": 0,
          "variable": "x75",
          "year": 30
         },
         {
          "value": 0,
          "variable": "x75",
          "year": 35
         },
         {
          "value": 0,
          "variable": "x76",
          "year": 5
         },
         {
          "value": 0,
          "variable": "x76",
          "year": 10
         },
         {
          "value": 0,
          "variable": "x76",
          "year": 15
         },
         {
          "value": 0,
          "variable": "x76",
          "year": 20
         },
         {
          "value": 0,
          "variable": "x76",
          "year": 25
         },
         {
          "value": 0,
          "variable": "x76",
          "year": 30
         },
         {
          "value": 0,
          "variable": "x76",
          "year": 35
         },
         {
          "value": 0,
          "variable": "x77",
          "year": 5
         },
         {
          "value": 0,
          "variable": "x77",
          "year": 10
         },
         {
          "value": 0,
          "variable": "x77",
          "year": 15
         },
         {
          "value": 0,
          "variable": "x77",
          "year": 20
         },
         {
          "value": 0,
          "variable": "x77",
          "year": 25
         },
         {
          "value": 0,
          "variable": "x77",
          "year": 30
         },
         {
          "value": 0,
          "variable": "x77",
          "year": 35
         },
         {
          "value": 0,
          "variable": "x78",
          "year": 5
         },
         {
          "value": 0,
          "variable": "x78",
          "year": 10
         },
         {
          "value": 0,
          "variable": "x78",
          "year": 15
         },
         {
          "value": 0,
          "variable": "x78",
          "year": 20
         },
         {
          "value": 0,
          "variable": "x78",
          "year": 25
         },
         {
          "value": 0,
          "variable": "x78",
          "year": 30
         },
         {
          "value": 0,
          "variable": "x78",
          "year": 35
         },
         {
          "value": 0,
          "variable": "x79",
          "year": 5
         },
         {
          "value": 0,
          "variable": "x79",
          "year": 10
         },
         {
          "value": 0,
          "variable": "x79",
          "year": 15
         },
         {
          "value": 0,
          "variable": "x79",
          "year": 20
         },
         {
          "value": 0,
          "variable": "x79",
          "year": 25
         },
         {
          "value": 0,
          "variable": "x79",
          "year": 30
         },
         {
          "value": 0,
          "variable": "x79",
          "year": 35
         },
         {
          "value": 0,
          "variable": "x80",
          "year": 5
         },
         {
          "value": 0,
          "variable": "x80",
          "year": 10
         },
         {
          "value": 0,
          "variable": "x80",
          "year": 15
         },
         {
          "value": 0,
          "variable": "x80",
          "year": 20
         },
         {
          "value": 0,
          "variable": "x80",
          "year": 25
         },
         {
          "value": 0,
          "variable": "x80",
          "year": 30
         },
         {
          "value": 0,
          "variable": "x80",
          "year": 35
         },
         {
          "value": 0,
          "variable": "x81",
          "year": 5
         },
         {
          "value": 0,
          "variable": "x81",
          "year": 10
         },
         {
          "value": 0,
          "variable": "x81",
          "year": 15
         },
         {
          "value": 0,
          "variable": "x81",
          "year": 20
         },
         {
          "value": 0,
          "variable": "x81",
          "year": 25
         },
         {
          "value": 0,
          "variable": "x81",
          "year": 30
         },
         {
          "value": 0,
          "variable": "x81",
          "year": 35
         },
         {
          "value": 0,
          "variable": "x82",
          "year": 5
         },
         {
          "value": 0,
          "variable": "x82",
          "year": 10
         },
         {
          "value": 0,
          "variable": "x82",
          "year": 15
         },
         {
          "value": 0,
          "variable": "x82",
          "year": 20
         },
         {
          "value": 0,
          "variable": "x82",
          "year": 25
         },
         {
          "value": 0,
          "variable": "x82",
          "year": 30
         },
         {
          "value": 0,
          "variable": "x82",
          "year": 35
         },
         {
          "value": 0,
          "variable": "x83",
          "year": 5
         },
         {
          "value": 0,
          "variable": "x83",
          "year": 10
         },
         {
          "value": 0,
          "variable": "x83",
          "year": 15
         },
         {
          "value": 0,
          "variable": "x83",
          "year": 20
         },
         {
          "value": 0,
          "variable": "x83",
          "year": 25
         },
         {
          "value": 0,
          "variable": "x83",
          "year": 30
         },
         {
          "value": 0,
          "variable": "x83",
          "year": 35
         },
         {
          "value": 0,
          "variable": "x84",
          "year": 5
         },
         {
          "value": 0,
          "variable": "x84",
          "year": 10
         },
         {
          "value": 0,
          "variable": "x84",
          "year": 15
         },
         {
          "value": 0,
          "variable": "x84",
          "year": 20
         },
         {
          "value": 0,
          "variable": "x84",
          "year": 25
         },
         {
          "value": 0,
          "variable": "x84",
          "year": 30
         },
         {
          "value": 0,
          "variable": "x84",
          "year": 35
         },
         {
          "value": 0,
          "variable": "x85",
          "year": 5
         },
         {
          "value": 0,
          "variable": "x85",
          "year": 10
         },
         {
          "value": 0,
          "variable": "x85",
          "year": 15
         },
         {
          "value": 0,
          "variable": "x85",
          "year": 20
         },
         {
          "value": 0,
          "variable": "x85",
          "year": 25
         },
         {
          "value": 0,
          "variable": "x85",
          "year": 30
         },
         {
          "value": 0,
          "variable": "x85",
          "year": 35
         },
         {
          "value": 0,
          "variable": "x86",
          "year": 5
         },
         {
          "value": 0,
          "variable": "x86",
          "year": 10
         },
         {
          "value": 0,
          "variable": "x86",
          "year": 15
         },
         {
          "value": 0,
          "variable": "x86",
          "year": 20
         },
         {
          "value": 0,
          "variable": "x86",
          "year": 25
         },
         {
          "value": 0,
          "variable": "x86",
          "year": 30
         },
         {
          "value": 0,
          "variable": "x86",
          "year": 35
         },
         {
          "value": 0,
          "variable": "x87",
          "year": 5
         },
         {
          "value": 0,
          "variable": "x87",
          "year": 10
         },
         {
          "value": 0,
          "variable": "x87",
          "year": 15
         },
         {
          "value": 0,
          "variable": "x87",
          "year": 20
         },
         {
          "value": 0,
          "variable": "x87",
          "year": 25
         },
         {
          "value": 0,
          "variable": "x87",
          "year": 30
         },
         {
          "value": 0,
          "variable": "x87",
          "year": 35
         },
         {
          "value": 0,
          "variable": "x88",
          "year": 5
         },
         {
          "value": 0,
          "variable": "x88",
          "year": 10
         },
         {
          "value": 0,
          "variable": "x88",
          "year": 15
         },
         {
          "value": 0,
          "variable": "x88",
          "year": 20
         },
         {
          "value": 0,
          "variable": "x88",
          "year": 25
         },
         {
          "value": 0,
          "variable": "x88",
          "year": 30
         },
         {
          "value": 0,
          "variable": "x88",
          "year": 35
         },
         {
          "value": 0,
          "variable": "x89",
          "year": 5
         },
         {
          "value": 0,
          "variable": "x89",
          "year": 10
         },
         {
          "value": 0,
          "variable": "x89",
          "year": 15
         },
         {
          "value": 0,
          "variable": "x89",
          "year": 20
         },
         {
          "value": 0,
          "variable": "x89",
          "year": 25
         },
         {
          "value": 0,
          "variable": "x89",
          "year": 30
         },
         {
          "value": 0,
          "variable": "x89",
          "year": 35
         },
         {
          "value": 0,
          "variable": "x90",
          "year": 5
         },
         {
          "value": 0,
          "variable": "x90",
          "year": 10
         },
         {
          "value": 0,
          "variable": "x90",
          "year": 15
         },
         {
          "value": 0,
          "variable": "x90",
          "year": 20
         },
         {
          "value": 0,
          "variable": "x90",
          "year": 25
         },
         {
          "value": 0,
          "variable": "x90",
          "year": 30
         },
         {
          "value": 0,
          "variable": "x90",
          "year": 35
         },
         {
          "value": 0,
          "variable": "x91",
          "year": 5
         },
         {
          "value": 0,
          "variable": "x91",
          "year": 10
         },
         {
          "value": 0,
          "variable": "x91",
          "year": 15
         },
         {
          "value": 0,
          "variable": "x91",
          "year": 20
         },
         {
          "value": 0,
          "variable": "x91",
          "year": 25
         },
         {
          "value": 0,
          "variable": "x91",
          "year": 30
         },
         {
          "value": 0,
          "variable": "x91",
          "year": 35
         },
         {
          "value": 0,
          "variable": "x92",
          "year": 5
         },
         {
          "value": 0.95,
          "variable": "x92",
          "year": 10
         },
         {
          "value": 0.37934305509128785,
          "variable": "x92",
          "year": 15
         },
         {
          "value": 0.36097918706126036,
          "variable": "x92",
          "year": 20
         },
         {
          "value": 0.36097918706126036,
          "variable": "x92",
          "year": 25
         },
         {
          "value": 0,
          "variable": "x92",
          "year": 30
         },
         {
          "value": 0,
          "variable": "x92",
          "year": 35
         },
         {
          "value": 0,
          "variable": "x93",
          "year": 5
         },
         {
          "value": 0,
          "variable": "x93",
          "year": 10
         },
         {
          "value": 0,
          "variable": "x93",
          "year": 15
         },
         {
          "value": 0,
          "variable": "x93",
          "year": 20
         },
         {
          "value": 0,
          "variable": "x93",
          "year": 25
         },
         {
          "value": 0,
          "variable": "x93",
          "year": 30
         },
         {
          "value": 0,
          "variable": "x93",
          "year": 35
         },
         {
          "value": 0,
          "variable": "x94",
          "year": 5
         },
         {
          "value": 0,
          "variable": "x94",
          "year": 10
         },
         {
          "value": 0,
          "variable": "x94",
          "year": 15
         },
         {
          "value": 0,
          "variable": "x94",
          "year": 20
         },
         {
          "value": 0,
          "variable": "x94",
          "year": 25
         },
         {
          "value": 0,
          "variable": "x94",
          "year": 30
         },
         {
          "value": 0,
          "variable": "x94",
          "year": 35
         },
         {
          "value": 0,
          "variable": "x95",
          "year": 5
         },
         {
          "value": 0,
          "variable": "x95",
          "year": 10
         },
         {
          "value": 0,
          "variable": "x95",
          "year": 15
         },
         {
          "value": 0,
          "variable": "x95",
          "year": 20
         },
         {
          "value": 0,
          "variable": "x95",
          "year": 25
         },
         {
          "value": 0,
          "variable": "x95",
          "year": 30
         },
         {
          "value": 0,
          "variable": "x95",
          "year": 35
         },
         {
          "value": 0,
          "variable": "x96",
          "year": 5
         },
         {
          "value": 0,
          "variable": "x96",
          "year": 10
         },
         {
          "value": 0,
          "variable": "x96",
          "year": 15
         },
         {
          "value": 0,
          "variable": "x96",
          "year": 20
         },
         {
          "value": 0,
          "variable": "x96",
          "year": 25
         },
         {
          "value": 0,
          "variable": "x96",
          "year": 30
         },
         {
          "value": 0,
          "variable": "x96",
          "year": 35
         },
         {
          "value": 0,
          "variable": "x97",
          "year": 5
         },
         {
          "value": 0,
          "variable": "x97",
          "year": 10
         },
         {
          "value": 0,
          "variable": "x97",
          "year": 15
         },
         {
          "value": 0,
          "variable": "x97",
          "year": 20
         },
         {
          "value": 0,
          "variable": "x97",
          "year": 25
         },
         {
          "value": 0,
          "variable": "x97",
          "year": 30
         },
         {
          "value": 0,
          "variable": "x97",
          "year": 35
         },
         {
          "value": 0,
          "variable": "x98",
          "year": 5
         },
         {
          "value": 0,
          "variable": "x98",
          "year": 10
         },
         {
          "value": 0,
          "variable": "x98",
          "year": 15
         },
         {
          "value": 0,
          "variable": "x98",
          "year": 20
         },
         {
          "value": 0,
          "variable": "x98",
          "year": 25
         },
         {
          "value": 0,
          "variable": "x98",
          "year": 30
         },
         {
          "value": 0,
          "variable": "x98",
          "year": 35
         },
         {
          "value": 0,
          "variable": "x99",
          "year": 5
         },
         {
          "value": 0,
          "variable": "x99",
          "year": 10
         },
         {
          "value": 0,
          "variable": "x99",
          "year": 15
         },
         {
          "value": 0,
          "variable": "x99",
          "year": 20
         },
         {
          "value": 0,
          "variable": "x99",
          "year": 25
         },
         {
          "value": 0,
          "variable": "x99",
          "year": 30
         },
         {
          "value": 0,
          "variable": "x99",
          "year": 35
         },
         {
          "value": 0,
          "variable": "x100",
          "year": 5
         },
         {
          "value": 0,
          "variable": "x100",
          "year": 10
         },
         {
          "value": 0,
          "variable": "x100",
          "year": 15
         },
         {
          "value": 0,
          "variable": "x100",
          "year": 20
         },
         {
          "value": 0,
          "variable": "x100",
          "year": 25
         },
         {
          "value": 0,
          "variable": "x100",
          "year": 30
         },
         {
          "value": 0,
          "variable": "x100",
          "year": 35
         },
         {
          "value": 0,
          "variable": "x101",
          "year": 5
         },
         {
          "value": 0,
          "variable": "x101",
          "year": 10
         },
         {
          "value": 0,
          "variable": "x101",
          "year": 15
         },
         {
          "value": 0,
          "variable": "x101",
          "year": 20
         },
         {
          "value": 0,
          "variable": "x101",
          "year": 25
         },
         {
          "value": 0,
          "variable": "x101",
          "year": 30
         },
         {
          "value": 0,
          "variable": "x101",
          "year": 35
         },
         {
          "value": 0,
          "variable": "x102",
          "year": 5
         },
         {
          "value": 0,
          "variable": "x102",
          "year": 10
         },
         {
          "value": 0,
          "variable": "x102",
          "year": 15
         },
         {
          "value": 0,
          "variable": "x102",
          "year": 20
         },
         {
          "value": 0,
          "variable": "x102",
          "year": 25
         },
         {
          "value": 0,
          "variable": "x102",
          "year": 30
         },
         {
          "value": 0,
          "variable": "x102",
          "year": 35
         },
         {
          "value": 0,
          "variable": "x103",
          "year": 5
         },
         {
          "value": 0,
          "variable": "x103",
          "year": 10
         },
         {
          "value": 0,
          "variable": "x103",
          "year": 15
         },
         {
          "value": 0,
          "variable": "x103",
          "year": 20
         },
         {
          "value": 0,
          "variable": "x103",
          "year": 25
         },
         {
          "value": 0,
          "variable": "x103",
          "year": 30
         },
         {
          "value": 0.354483495885327,
          "variable": "x103",
          "year": 35
         },
         {
          "value": 0,
          "variable": "x104",
          "year": 5
         },
         {
          "value": 0,
          "variable": "x104",
          "year": 10
         },
         {
          "value": 0,
          "variable": "x104",
          "year": 15
         },
         {
          "value": 0,
          "variable": "x104",
          "year": 20
         },
         {
          "value": 0,
          "variable": "x104",
          "year": 25
         },
         {
          "value": 0,
          "variable": "x104",
          "year": 30
         },
         {
          "value": 0,
          "variable": "x104",
          "year": 35
         },
         {
          "value": 0,
          "variable": "x105",
          "year": 5
         },
         {
          "value": 0,
          "variable": "x105",
          "year": 10
         },
         {
          "value": 0,
          "variable": "x105",
          "year": 15
         },
         {
          "value": 0,
          "variable": "x105",
          "year": 20
         },
         {
          "value": 0,
          "variable": "x105",
          "year": 25
         },
         {
          "value": 0,
          "variable": "x105",
          "year": 30
         },
         {
          "value": 0,
          "variable": "x105",
          "year": 35
         },
         {
          "value": 0,
          "variable": "x106",
          "year": 5
         },
         {
          "value": 0,
          "variable": "x106",
          "year": 10
         },
         {
          "value": 0,
          "variable": "x106",
          "year": 15
         },
         {
          "value": 0,
          "variable": "x106",
          "year": 20
         },
         {
          "value": 0,
          "variable": "x106",
          "year": 25
         },
         {
          "value": 0,
          "variable": "x106",
          "year": 30
         },
         {
          "value": 0,
          "variable": "x106",
          "year": 35
         },
         {
          "value": 0,
          "variable": "x107",
          "year": 5
         },
         {
          "value": 0,
          "variable": "x107",
          "year": 10
         },
         {
          "value": 0,
          "variable": "x107",
          "year": 15
         },
         {
          "value": 0,
          "variable": "x107",
          "year": 20
         },
         {
          "value": 0,
          "variable": "x107",
          "year": 25
         },
         {
          "value": 0,
          "variable": "x107",
          "year": 30
         },
         {
          "value": 0,
          "variable": "x107",
          "year": 35
         },
         {
          "value": 0,
          "variable": "x108",
          "year": 5
         },
         {
          "value": 0,
          "variable": "x108",
          "year": 10
         },
         {
          "value": 0,
          "variable": "x108",
          "year": 15
         },
         {
          "value": 0,
          "variable": "x108",
          "year": 20
         },
         {
          "value": 0,
          "variable": "x108",
          "year": 25
         },
         {
          "value": 0,
          "variable": "x108",
          "year": 30
         },
         {
          "value": 0,
          "variable": "x108",
          "year": 35
         },
         {
          "value": 0,
          "variable": "x109",
          "year": 5
         },
         {
          "value": 0,
          "variable": "x109",
          "year": 10
         },
         {
          "value": 0,
          "variable": "x109",
          "year": 15
         },
         {
          "value": 0,
          "variable": "x109",
          "year": 20
         },
         {
          "value": 0,
          "variable": "x109",
          "year": 25
         },
         {
          "value": 0,
          "variable": "x109",
          "year": 30
         },
         {
          "value": 0,
          "variable": "x109",
          "year": 35
         },
         {
          "value": 0,
          "variable": "x110",
          "year": 5
         },
         {
          "value": 0,
          "variable": "x110",
          "year": 10
         },
         {
          "value": 0,
          "variable": "x110",
          "year": 15
         },
         {
          "value": 0,
          "variable": "x110",
          "year": 20
         },
         {
          "value": 0,
          "variable": "x110",
          "year": 25
         },
         {
          "value": 0,
          "variable": "x110",
          "year": 30
         },
         {
          "value": 0,
          "variable": "x110",
          "year": 35
         },
         {
          "value": 0,
          "variable": "x111",
          "year": 5
         },
         {
          "value": 0,
          "variable": "x111",
          "year": 10
         },
         {
          "value": 0,
          "variable": "x111",
          "year": 15
         },
         {
          "value": 0,
          "variable": "x111",
          "year": 20
         },
         {
          "value": 0,
          "variable": "x111",
          "year": 25
         },
         {
          "value": 0,
          "variable": "x111",
          "year": 30
         },
         {
          "value": 0,
          "variable": "x111",
          "year": 35
         },
         {
          "value": 0,
          "variable": "x112",
          "year": 5
         },
         {
          "value": 0,
          "variable": "x112",
          "year": 10
         },
         {
          "value": 0,
          "variable": "x112",
          "year": 15
         },
         {
          "value": 0,
          "variable": "x112",
          "year": 20
         },
         {
          "value": 0,
          "variable": "x112",
          "year": 25
         },
         {
          "value": 0,
          "variable": "x112",
          "year": 30
         },
         {
          "value": 0,
          "variable": "x112",
          "year": 35
         },
         {
          "value": 0,
          "variable": "x113",
          "year": 5
         },
         {
          "value": 0,
          "variable": "x113",
          "year": 10
         },
         {
          "value": 0,
          "variable": "x113",
          "year": 15
         },
         {
          "value": 0,
          "variable": "x113",
          "year": 20
         },
         {
          "value": 0,
          "variable": "x113",
          "year": 25
         },
         {
          "value": 0,
          "variable": "x113",
          "year": 30
         },
         {
          "value": 0,
          "variable": "x113",
          "year": 35
         },
         {
          "value": 0,
          "variable": "x114",
          "year": 5
         },
         {
          "value": 0,
          "variable": "x114",
          "year": 10
         },
         {
          "value": 0,
          "variable": "x114",
          "year": 15
         },
         {
          "value": 0,
          "variable": "x114",
          "year": 20
         },
         {
          "value": 0,
          "variable": "x114",
          "year": 25
         },
         {
          "value": 0,
          "variable": "x114",
          "year": 30
         },
         {
          "value": 0,
          "variable": "x114",
          "year": 35
         },
         {
          "value": 0,
          "variable": "x115",
          "year": 5
         },
         {
          "value": 0,
          "variable": "x115",
          "year": 10
         },
         {
          "value": 0,
          "variable": "x115",
          "year": 15
         },
         {
          "value": 0,
          "variable": "x115",
          "year": 20
         },
         {
          "value": 0,
          "variable": "x115",
          "year": 25
         },
         {
          "value": 0,
          "variable": "x115",
          "year": 30
         },
         {
          "value": 0,
          "variable": "x115",
          "year": 35
         },
         {
          "value": 0,
          "variable": "x116",
          "year": 5
         },
         {
          "value": 0,
          "variable": "x116",
          "year": 10
         },
         {
          "value": 0,
          "variable": "x116",
          "year": 15
         },
         {
          "value": 0,
          "variable": "x116",
          "year": 20
         },
         {
          "value": 0,
          "variable": "x116",
          "year": 25
         },
         {
          "value": 0,
          "variable": "x116",
          "year": 30
         },
         {
          "value": 0,
          "variable": "x116",
          "year": 35
         },
         {
          "value": 0,
          "variable": "x117",
          "year": 5
         },
         {
          "value": 0,
          "variable": "x117",
          "year": 10
         },
         {
          "value": 0,
          "variable": "x117",
          "year": 15
         },
         {
          "value": 0,
          "variable": "x117",
          "year": 20
         },
         {
          "value": 0,
          "variable": "x117",
          "year": 25
         },
         {
          "value": 0,
          "variable": "x117",
          "year": 30
         },
         {
          "value": 0,
          "variable": "x117",
          "year": 35
         },
         {
          "value": 0,
          "variable": "x118",
          "year": 5
         },
         {
          "value": 0,
          "variable": "x118",
          "year": 10
         },
         {
          "value": 0,
          "variable": "x118",
          "year": 15
         },
         {
          "value": 0,
          "variable": "x118",
          "year": 20
         },
         {
          "value": 0,
          "variable": "x118",
          "year": 25
         },
         {
          "value": 0,
          "variable": "x118",
          "year": 30
         },
         {
          "value": 0,
          "variable": "x118",
          "year": 35
         },
         {
          "value": 0,
          "variable": "x119",
          "year": 5
         },
         {
          "value": 0,
          "variable": "x119",
          "year": 10
         },
         {
          "value": 0,
          "variable": "x119",
          "year": 15
         },
         {
          "value": 0,
          "variable": "x119",
          "year": 20
         },
         {
          "value": 0,
          "variable": "x119",
          "year": 25
         },
         {
          "value": 0,
          "variable": "x119",
          "year": 30
         },
         {
          "value": 0,
          "variable": "x119",
          "year": 35
         },
         {
          "value": 0,
          "variable": "x120",
          "year": 5
         },
         {
          "value": 0,
          "variable": "x120",
          "year": 10
         },
         {
          "value": 0,
          "variable": "x120",
          "year": 15
         },
         {
          "value": 0,
          "variable": "x120",
          "year": 20
         },
         {
          "value": 0,
          "variable": "x120",
          "year": 25
         },
         {
          "value": 0,
          "variable": "x120",
          "year": 30
         },
         {
          "value": 0,
          "variable": "x120",
          "year": 35
         },
         {
          "value": 0,
          "variable": "x121",
          "year": 5
         },
         {
          "value": 0,
          "variable": "x121",
          "year": 10
         },
         {
          "value": 0,
          "variable": "x121",
          "year": 15
         },
         {
          "value": 0,
          "variable": "x121",
          "year": 20
         },
         {
          "value": 0,
          "variable": "x121",
          "year": 25
         },
         {
          "value": 0,
          "variable": "x121",
          "year": 30
         },
         {
          "value": 0,
          "variable": "x121",
          "year": 35
         },
         {
          "value": 0,
          "variable": "x122",
          "year": 5
         },
         {
          "value": 0,
          "variable": "x122",
          "year": 10
         },
         {
          "value": 0,
          "variable": "x122",
          "year": 15
         },
         {
          "value": 0,
          "variable": "x122",
          "year": 20
         },
         {
          "value": 0,
          "variable": "x122",
          "year": 25
         },
         {
          "value": 0,
          "variable": "x122",
          "year": 30
         },
         {
          "value": 0,
          "variable": "x122",
          "year": 35
         },
         {
          "value": 0,
          "variable": "x123",
          "year": 5
         },
         {
          "value": 0,
          "variable": "x123",
          "year": 10
         },
         {
          "value": 0,
          "variable": "x123",
          "year": 15
         },
         {
          "value": 0,
          "variable": "x123",
          "year": 20
         },
         {
          "value": 0,
          "variable": "x123",
          "year": 25
         },
         {
          "value": 0,
          "variable": "x123",
          "year": 30
         },
         {
          "value": 0,
          "variable": "x123",
          "year": 35
         },
         {
          "value": 0,
          "variable": "x124",
          "year": 5
         },
         {
          "value": 0,
          "variable": "x124",
          "year": 10
         },
         {
          "value": 0,
          "variable": "x124",
          "year": 15
         },
         {
          "value": 0,
          "variable": "x124",
          "year": 20
         },
         {
          "value": 0,
          "variable": "x124",
          "year": 25
         },
         {
          "value": 0,
          "variable": "x124",
          "year": 30
         },
         {
          "value": 0,
          "variable": "x124",
          "year": 35
         },
         {
          "value": 0,
          "variable": "x125",
          "year": 5
         },
         {
          "value": 0,
          "variable": "x125",
          "year": 10
         },
         {
          "value": 0,
          "variable": "x125",
          "year": 15
         },
         {
          "value": 0,
          "variable": "x125",
          "year": 20
         },
         {
          "value": 0,
          "variable": "x125",
          "year": 25
         },
         {
          "value": 0,
          "variable": "x125",
          "year": 30
         },
         {
          "value": 0,
          "variable": "x125",
          "year": 35
         },
         {
          "value": 0,
          "variable": "x126",
          "year": 5
         },
         {
          "value": 0,
          "variable": "x126",
          "year": 10
         },
         {
          "value": 0,
          "variable": "x126",
          "year": 15
         },
         {
          "value": 0,
          "variable": "x126",
          "year": 20
         },
         {
          "value": 0,
          "variable": "x126",
          "year": 25
         },
         {
          "value": 0,
          "variable": "x126",
          "year": 30
         },
         {
          "value": 0,
          "variable": "x126",
          "year": 35
         },
         {
          "value": 0,
          "variable": "x127",
          "year": 5
         },
         {
          "value": 0,
          "variable": "x127",
          "year": 10
         },
         {
          "value": 0,
          "variable": "x127",
          "year": 15
         },
         {
          "value": 0,
          "variable": "x127",
          "year": 20
         },
         {
          "value": 0,
          "variable": "x127",
          "year": 25
         },
         {
          "value": 0,
          "variable": "x127",
          "year": 30
         },
         {
          "value": 0,
          "variable": "x127",
          "year": 35
         },
         {
          "value": 0,
          "variable": "x128",
          "year": 5
         },
         {
          "value": 0,
          "variable": "x128",
          "year": 10
         },
         {
          "value": 0,
          "variable": "x128",
          "year": 15
         },
         {
          "value": 0,
          "variable": "x128",
          "year": 20
         },
         {
          "value": 0,
          "variable": "x128",
          "year": 25
         },
         {
          "value": 0,
          "variable": "x128",
          "year": 30
         },
         {
          "value": 0,
          "variable": "x128",
          "year": 35
         },
         {
          "value": 0,
          "variable": "x129",
          "year": 5
         },
         {
          "value": 0,
          "variable": "x129",
          "year": 10
         },
         {
          "value": 0,
          "variable": "x129",
          "year": 15
         },
         {
          "value": 0,
          "variable": "x129",
          "year": 20
         },
         {
          "value": 0,
          "variable": "x129",
          "year": 25
         },
         {
          "value": 0,
          "variable": "x129",
          "year": 30
         },
         {
          "value": 0,
          "variable": "x129",
          "year": 35
         },
         {
          "value": 0,
          "variable": "x130",
          "year": 5
         },
         {
          "value": 0,
          "variable": "x130",
          "year": 10
         },
         {
          "value": 0,
          "variable": "x130",
          "year": 15
         },
         {
          "value": 0,
          "variable": "x130",
          "year": 20
         },
         {
          "value": 0,
          "variable": "x130",
          "year": 25
         },
         {
          "value": 0,
          "variable": "x130",
          "year": 30
         },
         {
          "value": 0,
          "variable": "x130",
          "year": 35
         },
         {
          "value": 0,
          "variable": "x131",
          "year": 5
         },
         {
          "value": 0,
          "variable": "x131",
          "year": 10
         },
         {
          "value": 0,
          "variable": "x131",
          "year": 15
         },
         {
          "value": 0,
          "variable": "x131",
          "year": 20
         },
         {
          "value": 0,
          "variable": "x131",
          "year": 25
         },
         {
          "value": 0,
          "variable": "x131",
          "year": 30
         },
         {
          "value": 0,
          "variable": "x131",
          "year": 35
         },
         {
          "value": 0,
          "variable": "x132",
          "year": 5
         },
         {
          "value": 0,
          "variable": "x132",
          "year": 10
         },
         {
          "value": 0,
          "variable": "x132",
          "year": 15
         },
         {
          "value": 0,
          "variable": "x132",
          "year": 20
         },
         {
          "value": 0,
          "variable": "x132",
          "year": 25
         },
         {
          "value": 0,
          "variable": "x132",
          "year": 30
         },
         {
          "value": 0,
          "variable": "x132",
          "year": 35
         },
         {
          "value": 0,
          "variable": "x133",
          "year": 5
         },
         {
          "value": 0,
          "variable": "x133",
          "year": 10
         },
         {
          "value": 0,
          "variable": "x133",
          "year": 15
         },
         {
          "value": 0,
          "variable": "x133",
          "year": 20
         },
         {
          "value": 0,
          "variable": "x133",
          "year": 25
         },
         {
          "value": 0,
          "variable": "x133",
          "year": 30
         },
         {
          "value": 0,
          "variable": "x133",
          "year": 35
         },
         {
          "value": 0,
          "variable": "x134",
          "year": 5
         },
         {
          "value": 0,
          "variable": "x134",
          "year": 10
         },
         {
          "value": 0,
          "variable": "x134",
          "year": 15
         },
         {
          "value": 0,
          "variable": "x134",
          "year": 20
         },
         {
          "value": 0,
          "variable": "x134",
          "year": 25
         },
         {
          "value": 0,
          "variable": "x134",
          "year": 30
         },
         {
          "value": 0,
          "variable": "x134",
          "year": 35
         },
         {
          "value": 0,
          "variable": "x135",
          "year": 5
         },
         {
          "value": 0,
          "variable": "x135",
          "year": 10
         },
         {
          "value": 0,
          "variable": "x135",
          "year": 15
         },
         {
          "value": 0,
          "variable": "x135",
          "year": 20
         },
         {
          "value": 0,
          "variable": "x135",
          "year": 25
         },
         {
          "value": 0,
          "variable": "x135",
          "year": 30
         },
         {
          "value": 0,
          "variable": "x135",
          "year": 35
         },
         {
          "value": 0,
          "variable": "x136",
          "year": 5
         },
         {
          "value": 0,
          "variable": "x136",
          "year": 10
         },
         {
          "value": 0,
          "variable": "x136",
          "year": 15
         },
         {
          "value": 0,
          "variable": "x136",
          "year": 20
         },
         {
          "value": 0,
          "variable": "x136",
          "year": 25
         },
         {
          "value": 0,
          "variable": "x136",
          "year": 30
         },
         {
          "value": 0,
          "variable": "x136",
          "year": 35
         },
         {
          "value": 0,
          "variable": "x137",
          "year": 5
         },
         {
          "value": 0,
          "variable": "x137",
          "year": 10
         },
         {
          "value": 0,
          "variable": "x137",
          "year": 15
         },
         {
          "value": 0,
          "variable": "x137",
          "year": 20
         },
         {
          "value": 0,
          "variable": "x137",
          "year": 25
         },
         {
          "value": 0,
          "variable": "x137",
          "year": 30
         },
         {
          "value": 0,
          "variable": "x137",
          "year": 35
         },
         {
          "value": 0,
          "variable": "x138",
          "year": 5
         },
         {
          "value": 0,
          "variable": "x138",
          "year": 10
         },
         {
          "value": 0,
          "variable": "x138",
          "year": 15
         },
         {
          "value": 0,
          "variable": "x138",
          "year": 20
         },
         {
          "value": 0,
          "variable": "x138",
          "year": 25
         },
         {
          "value": 0,
          "variable": "x138",
          "year": 30
         },
         {
          "value": 0,
          "variable": "x138",
          "year": 35
         },
         {
          "value": 0,
          "variable": "x139",
          "year": 5
         },
         {
          "value": 0,
          "variable": "x139",
          "year": 10
         },
         {
          "value": 0,
          "variable": "x139",
          "year": 15
         },
         {
          "value": 0,
          "variable": "x139",
          "year": 20
         },
         {
          "value": 0,
          "variable": "x139",
          "year": 25
         },
         {
          "value": 0,
          "variable": "x139",
          "year": 30
         },
         {
          "value": 0,
          "variable": "x139",
          "year": 35
         },
         {
          "value": 0,
          "variable": "x140",
          "year": 5
         },
         {
          "value": 0,
          "variable": "x140",
          "year": 10
         },
         {
          "value": 0,
          "variable": "x140",
          "year": 15
         },
         {
          "value": 0,
          "variable": "x140",
          "year": 20
         },
         {
          "value": 0,
          "variable": "x140",
          "year": 25
         },
         {
          "value": 0,
          "variable": "x140",
          "year": 30
         },
         {
          "value": 0,
          "variable": "x140",
          "year": 35
         },
         {
          "value": 0,
          "variable": "x141",
          "year": 5
         },
         {
          "value": 0,
          "variable": "x141",
          "year": 10
         },
         {
          "value": 0,
          "variable": "x141",
          "year": 15
         },
         {
          "value": 0,
          "variable": "x141",
          "year": 20
         },
         {
          "value": 0,
          "variable": "x141",
          "year": 25
         },
         {
          "value": 0,
          "variable": "x141",
          "year": 30
         },
         {
          "value": 0,
          "variable": "x141",
          "year": 35
         },
         {
          "value": 0,
          "variable": "x142",
          "year": 5
         },
         {
          "value": 0,
          "variable": "x142",
          "year": 10
         },
         {
          "value": 0,
          "variable": "x142",
          "year": 15
         },
         {
          "value": 0,
          "variable": "x142",
          "year": 20
         },
         {
          "value": 0,
          "variable": "x142",
          "year": 25
         },
         {
          "value": 0,
          "variable": "x142",
          "year": 30
         },
         {
          "value": 0,
          "variable": "x142",
          "year": 35
         },
         {
          "value": 0,
          "variable": "x143",
          "year": 5
         },
         {
          "value": 0,
          "variable": "x143",
          "year": 10
         },
         {
          "value": 0,
          "variable": "x143",
          "year": 15
         },
         {
          "value": 0,
          "variable": "x143",
          "year": 20
         },
         {
          "value": 0,
          "variable": "x143",
          "year": 25
         },
         {
          "value": 0,
          "variable": "x143",
          "year": 30
         },
         {
          "value": 0,
          "variable": "x143",
          "year": 35
         },
         {
          "value": 0,
          "variable": "x144",
          "year": 5
         },
         {
          "value": 0,
          "variable": "x144",
          "year": 10
         },
         {
          "value": 0,
          "variable": "x144",
          "year": 15
         },
         {
          "value": 0,
          "variable": "x144",
          "year": 20
         },
         {
          "value": 0,
          "variable": "x144",
          "year": 25
         },
         {
          "value": 0,
          "variable": "x144",
          "year": 30
         },
         {
          "value": 0,
          "variable": "x144",
          "year": 35
         },
         {
          "value": 0,
          "variable": "x145",
          "year": 5
         },
         {
          "value": 0,
          "variable": "x145",
          "year": 10
         },
         {
          "value": 0,
          "variable": "x145",
          "year": 15
         },
         {
          "value": 0,
          "variable": "x145",
          "year": 20
         },
         {
          "value": 0,
          "variable": "x145",
          "year": 25
         },
         {
          "value": 0,
          "variable": "x145",
          "year": 30
         },
         {
          "value": 0,
          "variable": "x145",
          "year": 35
         },
         {
          "value": 0,
          "variable": "x146",
          "year": 5
         },
         {
          "value": 0,
          "variable": "x146",
          "year": 10
         },
         {
          "value": 0,
          "variable": "x146",
          "year": 15
         },
         {
          "value": 0,
          "variable": "x146",
          "year": 20
         },
         {
          "value": 0,
          "variable": "x146",
          "year": 25
         },
         {
          "value": 0,
          "variable": "x146",
          "year": 30
         },
         {
          "value": 0,
          "variable": "x146",
          "year": 35
         },
         {
          "value": 0,
          "variable": "x147",
          "year": 5
         },
         {
          "value": 0,
          "variable": "x147",
          "year": 10
         },
         {
          "value": 0,
          "variable": "x147",
          "year": 15
         },
         {
          "value": 0,
          "variable": "x147",
          "year": 20
         },
         {
          "value": 0,
          "variable": "x147",
          "year": 25
         },
         {
          "value": 0,
          "variable": "x147",
          "year": 30
         },
         {
          "value": 0,
          "variable": "x147",
          "year": 35
         },
         {
          "value": 0,
          "variable": "x148",
          "year": 5
         },
         {
          "value": 0,
          "variable": "x148",
          "year": 10
         },
         {
          "value": 0,
          "variable": "x148",
          "year": 15
         },
         {
          "value": 0,
          "variable": "x148",
          "year": 20
         },
         {
          "value": 0,
          "variable": "x148",
          "year": 25
         },
         {
          "value": 0,
          "variable": "x148",
          "year": 30
         },
         {
          "value": 0,
          "variable": "x148",
          "year": 35
         },
         {
          "value": 0,
          "variable": "x149",
          "year": 5
         },
         {
          "value": 0,
          "variable": "x149",
          "year": 10
         },
         {
          "value": 0,
          "variable": "x149",
          "year": 15
         },
         {
          "value": 0,
          "variable": "x149",
          "year": 20
         },
         {
          "value": 0,
          "variable": "x149",
          "year": 25
         },
         {
          "value": 0,
          "variable": "x149",
          "year": 30
         },
         {
          "value": 0,
          "variable": "x149",
          "year": 35
         },
         {
          "value": 0,
          "variable": "x150",
          "year": 5
         },
         {
          "value": 0,
          "variable": "x150",
          "year": 10
         },
         {
          "value": 0,
          "variable": "x150",
          "year": 15
         },
         {
          "value": 0,
          "variable": "x150",
          "year": 20
         },
         {
          "value": 0,
          "variable": "x150",
          "year": 25
         },
         {
          "value": 0,
          "variable": "x150",
          "year": 30
         },
         {
          "value": 0,
          "variable": "x150",
          "year": 35
         },
         {
          "value": 0,
          "variable": "x151",
          "year": 5
         },
         {
          "value": 0,
          "variable": "x151",
          "year": 10
         },
         {
          "value": 0,
          "variable": "x151",
          "year": 15
         },
         {
          "value": 0,
          "variable": "x151",
          "year": 20
         },
         {
          "value": 0,
          "variable": "x151",
          "year": 25
         },
         {
          "value": 0,
          "variable": "x151",
          "year": 30
         },
         {
          "value": 0,
          "variable": "x151",
          "year": 35
         },
         {
          "value": 0,
          "variable": "x152",
          "year": 5
         },
         {
          "value": 0,
          "variable": "x152",
          "year": 10
         },
         {
          "value": 0,
          "variable": "x152",
          "year": 15
         },
         {
          "value": 0,
          "variable": "x152",
          "year": 20
         },
         {
          "value": 0,
          "variable": "x152",
          "year": 25
         },
         {
          "value": 0,
          "variable": "x152",
          "year": 30
         },
         {
          "value": 0,
          "variable": "x152",
          "year": 35
         },
         {
          "value": 0,
          "variable": "x153",
          "year": 5
         },
         {
          "value": 0,
          "variable": "x153",
          "year": 10
         },
         {
          "value": 0,
          "variable": "x153",
          "year": 15
         },
         {
          "value": 0,
          "variable": "x153",
          "year": 20
         },
         {
          "value": 0,
          "variable": "x153",
          "year": 25
         },
         {
          "value": 0,
          "variable": "x153",
          "year": 30
         },
         {
          "value": 0,
          "variable": "x153",
          "year": 35
         },
         {
          "value": 0,
          "variable": "x154",
          "year": 5
         },
         {
          "value": 0,
          "variable": "x154",
          "year": 10
         },
         {
          "value": 0,
          "variable": "x154",
          "year": 15
         },
         {
          "value": 0,
          "variable": "x154",
          "year": 20
         },
         {
          "value": 0,
          "variable": "x154",
          "year": 25
         },
         {
          "value": 0,
          "variable": "x154",
          "year": 30
         },
         {
          "value": 0,
          "variable": "x154",
          "year": 35
         },
         {
          "value": 0,
          "variable": "x155",
          "year": 5
         },
         {
          "value": 0,
          "variable": "x155",
          "year": 10
         },
         {
          "value": 0,
          "variable": "x155",
          "year": 15
         },
         {
          "value": 0,
          "variable": "x155",
          "year": 20
         },
         {
          "value": 0,
          "variable": "x155",
          "year": 25
         },
         {
          "value": 0,
          "variable": "x155",
          "year": 30
         },
         {
          "value": 0,
          "variable": "x155",
          "year": 35
         },
         {
          "value": 0,
          "variable": "x156",
          "year": 5
         },
         {
          "value": 0,
          "variable": "x156",
          "year": 10
         },
         {
          "value": 0,
          "variable": "x156",
          "year": 15
         },
         {
          "value": 0,
          "variable": "x156",
          "year": 20
         },
         {
          "value": 0,
          "variable": "x156",
          "year": 25
         },
         {
          "value": 0,
          "variable": "x156",
          "year": 30
         },
         {
          "value": 0,
          "variable": "x156",
          "year": 35
         },
         {
          "value": 0,
          "variable": "x157",
          "year": 5
         },
         {
          "value": 0,
          "variable": "x157",
          "year": 10
         },
         {
          "value": 0,
          "variable": "x157",
          "year": 15
         },
         {
          "value": 0,
          "variable": "x157",
          "year": 20
         },
         {
          "value": 0,
          "variable": "x157",
          "year": 25
         },
         {
          "value": 0,
          "variable": "x157",
          "year": 30
         },
         {
          "value": 0,
          "variable": "x157",
          "year": 35
         },
         {
          "value": 0,
          "variable": "x158",
          "year": 5
         },
         {
          "value": 0,
          "variable": "x158",
          "year": 10
         },
         {
          "value": 0,
          "variable": "x158",
          "year": 15
         },
         {
          "value": 0,
          "variable": "x158",
          "year": 20
         },
         {
          "value": 0,
          "variable": "x158",
          "year": 25
         },
         {
          "value": 0,
          "variable": "x158",
          "year": 30
         },
         {
          "value": 0,
          "variable": "x158",
          "year": 35
         },
         {
          "value": 0,
          "variable": "x159",
          "year": 5
         },
         {
          "value": 0,
          "variable": "x159",
          "year": 10
         },
         {
          "value": 0,
          "variable": "x159",
          "year": 15
         },
         {
          "value": 0,
          "variable": "x159",
          "year": 20
         },
         {
          "value": 0,
          "variable": "x159",
          "year": 25
         },
         {
          "value": 0,
          "variable": "x159",
          "year": 30
         },
         {
          "value": 0,
          "variable": "x159",
          "year": 35
         },
         {
          "value": 0,
          "variable": "x160",
          "year": 5
         },
         {
          "value": 0,
          "variable": "x160",
          "year": 10
         },
         {
          "value": 0,
          "variable": "x160",
          "year": 15
         },
         {
          "value": 0,
          "variable": "x160",
          "year": 20
         },
         {
          "value": 0,
          "variable": "x160",
          "year": 25
         },
         {
          "value": 0,
          "variable": "x160",
          "year": 30
         },
         {
          "value": 0,
          "variable": "x160",
          "year": 35
         },
         {
          "value": 0,
          "variable": "x161",
          "year": 5
         },
         {
          "value": 0,
          "variable": "x161",
          "year": 10
         },
         {
          "value": 0,
          "variable": "x161",
          "year": 15
         },
         {
          "value": 0,
          "variable": "x161",
          "year": 20
         },
         {
          "value": 0,
          "variable": "x161",
          "year": 25
         },
         {
          "value": 0,
          "variable": "x161",
          "year": 30
         },
         {
          "value": 0,
          "variable": "x161",
          "year": 35
         },
         {
          "value": 0,
          "variable": "x162",
          "year": 5
         },
         {
          "value": 0,
          "variable": "x162",
          "year": 10
         },
         {
          "value": 0,
          "variable": "x162",
          "year": 15
         },
         {
          "value": 0,
          "variable": "x162",
          "year": 20
         },
         {
          "value": 0,
          "variable": "x162",
          "year": 25
         },
         {
          "value": 0,
          "variable": "x162",
          "year": 30
         },
         {
          "value": 0,
          "variable": "x162",
          "year": 35
         },
         {
          "value": 0,
          "variable": "x163",
          "year": 5
         },
         {
          "value": 0,
          "variable": "x163",
          "year": 10
         },
         {
          "value": 0,
          "variable": "x163",
          "year": 15
         },
         {
          "value": 0,
          "variable": "x163",
          "year": 20
         },
         {
          "value": 0,
          "variable": "x163",
          "year": 25
         },
         {
          "value": 0,
          "variable": "x163",
          "year": 30
         },
         {
          "value": 0,
          "variable": "x163",
          "year": 35
         },
         {
          "value": 0,
          "variable": "x164",
          "year": 5
         },
         {
          "value": 0,
          "variable": "x164",
          "year": 10
         },
         {
          "value": 0,
          "variable": "x164",
          "year": 15
         },
         {
          "value": 0,
          "variable": "x164",
          "year": 20
         },
         {
          "value": 0,
          "variable": "x164",
          "year": 25
         },
         {
          "value": 0,
          "variable": "x164",
          "year": 30
         },
         {
          "value": 0,
          "variable": "x164",
          "year": 35
         },
         {
          "value": 0,
          "variable": "x165",
          "year": 5
         },
         {
          "value": 0,
          "variable": "x165",
          "year": 10
         },
         {
          "value": 0,
          "variable": "x165",
          "year": 15
         },
         {
          "value": 0,
          "variable": "x165",
          "year": 20
         },
         {
          "value": 0,
          "variable": "x165",
          "year": 25
         },
         {
          "value": 0,
          "variable": "x165",
          "year": 30
         },
         {
          "value": 0,
          "variable": "x165",
          "year": 35
         },
         {
          "value": 0,
          "variable": "x166",
          "year": 5
         },
         {
          "value": 0,
          "variable": "x166",
          "year": 10
         },
         {
          "value": 0,
          "variable": "x166",
          "year": 15
         },
         {
          "value": 0,
          "variable": "x166",
          "year": 20
         },
         {
          "value": 0,
          "variable": "x166",
          "year": 25
         },
         {
          "value": 0,
          "variable": "x166",
          "year": 30
         },
         {
          "value": 0,
          "variable": "x166",
          "year": 35
         },
         {
          "value": 0,
          "variable": "x167",
          "year": 5
         },
         {
          "value": 0,
          "variable": "x167",
          "year": 10
         },
         {
          "value": 0,
          "variable": "x167",
          "year": 15
         },
         {
          "value": 0,
          "variable": "x167",
          "year": 20
         },
         {
          "value": 0,
          "variable": "x167",
          "year": 25
         },
         {
          "value": 0,
          "variable": "x167",
          "year": 30
         },
         {
          "value": 0,
          "variable": "x167",
          "year": 35
         },
         {
          "value": 0,
          "variable": "x168",
          "year": 5
         },
         {
          "value": 0,
          "variable": "x168",
          "year": 10
         },
         {
          "value": 0,
          "variable": "x168",
          "year": 15
         },
         {
          "value": 0,
          "variable": "x168",
          "year": 20
         },
         {
          "value": 0,
          "variable": "x168",
          "year": 25
         },
         {
          "value": 0,
          "variable": "x168",
          "year": 30
         },
         {
          "value": 0,
          "variable": "x168",
          "year": 35
         },
         {
          "value": 0,
          "variable": "x169",
          "year": 5
         },
         {
          "value": 0,
          "variable": "x169",
          "year": 10
         },
         {
          "value": 0,
          "variable": "x169",
          "year": 15
         },
         {
          "value": 0,
          "variable": "x169",
          "year": 20
         },
         {
          "value": 0,
          "variable": "x169",
          "year": 25
         },
         {
          "value": 0,
          "variable": "x169",
          "year": 30
         },
         {
          "value": 0,
          "variable": "x169",
          "year": 35
         },
         {
          "value": 0,
          "variable": "x170",
          "year": 5
         },
         {
          "value": 0,
          "variable": "x170",
          "year": 10
         },
         {
          "value": 0,
          "variable": "x170",
          "year": 15
         },
         {
          "value": 0,
          "variable": "x170",
          "year": 20
         },
         {
          "value": 0,
          "variable": "x170",
          "year": 25
         },
         {
          "value": 0,
          "variable": "x170",
          "year": 30
         },
         {
          "value": 0,
          "variable": "x170",
          "year": 35
         },
         {
          "value": 0,
          "variable": "x171",
          "year": 5
         },
         {
          "value": 0,
          "variable": "x171",
          "year": 10
         },
         {
          "value": 0,
          "variable": "x171",
          "year": 15
         },
         {
          "value": 0,
          "variable": "x171",
          "year": 20
         },
         {
          "value": 0,
          "variable": "x171",
          "year": 25
         },
         {
          "value": 0,
          "variable": "x171",
          "year": 30
         },
         {
          "value": 0,
          "variable": "x171",
          "year": 35
         },
         {
          "value": 0,
          "variable": "x172",
          "year": 5
         },
         {
          "value": 0,
          "variable": "x172",
          "year": 10
         },
         {
          "value": 0,
          "variable": "x172",
          "year": 15
         },
         {
          "value": 0,
          "variable": "x172",
          "year": 20
         },
         {
          "value": 0,
          "variable": "x172",
          "year": 25
         },
         {
          "value": 0,
          "variable": "x172",
          "year": 30
         },
         {
          "value": 0,
          "variable": "x172",
          "year": 35
         },
         {
          "value": 0,
          "variable": "x173",
          "year": 5
         },
         {
          "value": 0,
          "variable": "x173",
          "year": 10
         },
         {
          "value": 0,
          "variable": "x173",
          "year": 15
         },
         {
          "value": 0,
          "variable": "x173",
          "year": 20
         },
         {
          "value": 0,
          "variable": "x173",
          "year": 25
         },
         {
          "value": 0,
          "variable": "x173",
          "year": 30
         },
         {
          "value": 0,
          "variable": "x173",
          "year": 35
         },
         {
          "value": 0,
          "variable": "x174",
          "year": 5
         },
         {
          "value": 0,
          "variable": "x174",
          "year": 10
         },
         {
          "value": 0,
          "variable": "x174",
          "year": 15
         },
         {
          "value": 0,
          "variable": "x174",
          "year": 20
         },
         {
          "value": 0,
          "variable": "x174",
          "year": 25
         },
         {
          "value": 0,
          "variable": "x174",
          "year": 30
         },
         {
          "value": 0,
          "variable": "x174",
          "year": 35
         },
         {
          "value": 0,
          "variable": "x175",
          "year": 5
         },
         {
          "value": 0,
          "variable": "x175",
          "year": 10
         },
         {
          "value": 0,
          "variable": "x175",
          "year": 15
         },
         {
          "value": 0,
          "variable": "x175",
          "year": 20
         },
         {
          "value": 0,
          "variable": "x175",
          "year": 25
         },
         {
          "value": 0,
          "variable": "x175",
          "year": 30
         },
         {
          "value": 0,
          "variable": "x175",
          "year": 35
         },
         {
          "value": 0,
          "variable": "x176",
          "year": 5
         },
         {
          "value": 0,
          "variable": "x176",
          "year": 10
         },
         {
          "value": 0,
          "variable": "x176",
          "year": 15
         },
         {
          "value": 0,
          "variable": "x176",
          "year": 20
         },
         {
          "value": 0,
          "variable": "x176",
          "year": 25
         },
         {
          "value": 0,
          "variable": "x176",
          "year": 30
         },
         {
          "value": 0,
          "variable": "x176",
          "year": 35
         },
         {
          "value": 0,
          "variable": "x177",
          "year": 5
         },
         {
          "value": 0,
          "variable": "x177",
          "year": 10
         },
         {
          "value": 0,
          "variable": "x177",
          "year": 15
         },
         {
          "value": 0,
          "variable": "x177",
          "year": 20
         },
         {
          "value": 0,
          "variable": "x177",
          "year": 25
         },
         {
          "value": 0,
          "variable": "x177",
          "year": 30
         },
         {
          "value": 0,
          "variable": "x177",
          "year": 35
         },
         {
          "value": 0,
          "variable": "x178",
          "year": 5
         },
         {
          "value": 0,
          "variable": "x178",
          "year": 10
         },
         {
          "value": 0,
          "variable": "x178",
          "year": 15
         },
         {
          "value": 0,
          "variable": "x178",
          "year": 20
         },
         {
          "value": 0,
          "variable": "x178",
          "year": 25
         },
         {
          "value": 0,
          "variable": "x178",
          "year": 30
         },
         {
          "value": 0,
          "variable": "x178",
          "year": 35
         },
         {
          "value": 0,
          "variable": "x179",
          "year": 5
         },
         {
          "value": 0,
          "variable": "x179",
          "year": 10
         },
         {
          "value": 0,
          "variable": "x179",
          "year": 15
         },
         {
          "value": 0,
          "variable": "x179",
          "year": 20
         },
         {
          "value": 0,
          "variable": "x179",
          "year": 25
         },
         {
          "value": 0,
          "variable": "x179",
          "year": 30
         },
         {
          "value": 0,
          "variable": "x179",
          "year": 35
         },
         {
          "value": 0,
          "variable": "x180",
          "year": 5
         },
         {
          "value": 0,
          "variable": "x180",
          "year": 10
         },
         {
          "value": 0,
          "variable": "x180",
          "year": 15
         },
         {
          "value": 0,
          "variable": "x180",
          "year": 20
         },
         {
          "value": 0,
          "variable": "x180",
          "year": 25
         },
         {
          "value": 0,
          "variable": "x180",
          "year": 30
         },
         {
          "value": 0,
          "variable": "x180",
          "year": 35
         },
         {
          "value": 0,
          "variable": "x181",
          "year": 5
         },
         {
          "value": 0,
          "variable": "x181",
          "year": 10
         },
         {
          "value": 0,
          "variable": "x181",
          "year": 15
         },
         {
          "value": 0,
          "variable": "x181",
          "year": 20
         },
         {
          "value": 0,
          "variable": "x181",
          "year": 25
         },
         {
          "value": 0,
          "variable": "x181",
          "year": 30
         },
         {
          "value": 0,
          "variable": "x181",
          "year": 35
         },
         {
          "value": 0,
          "variable": "x182",
          "year": 5
         },
         {
          "value": 0,
          "variable": "x182",
          "year": 10
         },
         {
          "value": 0,
          "variable": "x182",
          "year": 15
         },
         {
          "value": 0,
          "variable": "x182",
          "year": 20
         },
         {
          "value": 0,
          "variable": "x182",
          "year": 25
         },
         {
          "value": 0,
          "variable": "x182",
          "year": 30
         },
         {
          "value": 0,
          "variable": "x182",
          "year": 35
         },
         {
          "value": 0,
          "variable": "x183",
          "year": 5
         },
         {
          "value": 0,
          "variable": "x183",
          "year": 10
         },
         {
          "value": 0,
          "variable": "x183",
          "year": 15
         },
         {
          "value": 0,
          "variable": "x183",
          "year": 20
         },
         {
          "value": 0,
          "variable": "x183",
          "year": 25
         },
         {
          "value": 0,
          "variable": "x183",
          "year": 30
         },
         {
          "value": 0,
          "variable": "x183",
          "year": 35
         },
         {
          "value": 0,
          "variable": "x184",
          "year": 5
         },
         {
          "value": 0,
          "variable": "x184",
          "year": 10
         },
         {
          "value": 0,
          "variable": "x184",
          "year": 15
         },
         {
          "value": 0,
          "variable": "x184",
          "year": 20
         },
         {
          "value": 0,
          "variable": "x184",
          "year": 25
         },
         {
          "value": 0,
          "variable": "x184",
          "year": 30
         },
         {
          "value": 0,
          "variable": "x184",
          "year": 35
         },
         {
          "value": 0,
          "variable": "x185",
          "year": 5
         },
         {
          "value": 0,
          "variable": "x185",
          "year": 10
         },
         {
          "value": 0,
          "variable": "x185",
          "year": 15
         },
         {
          "value": 0,
          "variable": "x185",
          "year": 20
         },
         {
          "value": 0,
          "variable": "x185",
          "year": 25
         },
         {
          "value": 0,
          "variable": "x185",
          "year": 30
         },
         {
          "value": 0,
          "variable": "x185",
          "year": 35
         },
         {
          "value": 0,
          "variable": "x186",
          "year": 5
         },
         {
          "value": 0,
          "variable": "x186",
          "year": 10
         },
         {
          "value": 0,
          "variable": "x186",
          "year": 15
         },
         {
          "value": 0,
          "variable": "x186",
          "year": 20
         },
         {
          "value": 0,
          "variable": "x186",
          "year": 25
         },
         {
          "value": 0,
          "variable": "x186",
          "year": 30
         },
         {
          "value": 0,
          "variable": "x186",
          "year": 35
         },
         {
          "value": 0,
          "variable": "x187",
          "year": 5
         },
         {
          "value": 0,
          "variable": "x187",
          "year": 10
         },
         {
          "value": 0,
          "variable": "x187",
          "year": 15
         },
         {
          "value": 0,
          "variable": "x187",
          "year": 20
         },
         {
          "value": 0,
          "variable": "x187",
          "year": 25
         },
         {
          "value": 0,
          "variable": "x187",
          "year": 30
         },
         {
          "value": 0,
          "variable": "x187",
          "year": 35
         },
         {
          "value": 0,
          "variable": "x188",
          "year": 5
         },
         {
          "value": 0,
          "variable": "x188",
          "year": 10
         },
         {
          "value": 0,
          "variable": "x188",
          "year": 15
         },
         {
          "value": 0,
          "variable": "x188",
          "year": 20
         },
         {
          "value": 0,
          "variable": "x188",
          "year": 25
         },
         {
          "value": 0,
          "variable": "x188",
          "year": 30
         },
         {
          "value": 0,
          "variable": "x188",
          "year": 35
         },
         {
          "value": 0,
          "variable": "x189",
          "year": 5
         },
         {
          "value": 0,
          "variable": "x189",
          "year": 10
         },
         {
          "value": 0,
          "variable": "x189",
          "year": 15
         },
         {
          "value": 0,
          "variable": "x189",
          "year": 20
         },
         {
          "value": 0,
          "variable": "x189",
          "year": 25
         },
         {
          "value": 0,
          "variable": "x189",
          "year": 30
         },
         {
          "value": 0,
          "variable": "x189",
          "year": 35
         },
         {
          "value": 0,
          "variable": "x190",
          "year": 5
         },
         {
          "value": 0,
          "variable": "x190",
          "year": 10
         },
         {
          "value": 0,
          "variable": "x190",
          "year": 15
         },
         {
          "value": 0,
          "variable": "x190",
          "year": 20
         },
         {
          "value": 0,
          "variable": "x190",
          "year": 25
         },
         {
          "value": 0,
          "variable": "x190",
          "year": 30
         },
         {
          "value": 0,
          "variable": "x190",
          "year": 35
         },
         {
          "value": 0,
          "variable": "x191",
          "year": 5
         },
         {
          "value": 0,
          "variable": "x191",
          "year": 10
         },
         {
          "value": 0,
          "variable": "x191",
          "year": 15
         },
         {
          "value": 0,
          "variable": "x191",
          "year": 20
         },
         {
          "value": 0,
          "variable": "x191",
          "year": 25
         },
         {
          "value": 0,
          "variable": "x191",
          "year": 30
         },
         {
          "value": 0,
          "variable": "x191",
          "year": 35
         },
         {
          "value": 0,
          "variable": "x192",
          "year": 5
         },
         {
          "value": 0,
          "variable": "x192",
          "year": 10
         },
         {
          "value": 0,
          "variable": "x192",
          "year": 15
         },
         {
          "value": 0,
          "variable": "x192",
          "year": 20
         },
         {
          "value": 0,
          "variable": "x192",
          "year": 25
         },
         {
          "value": 0,
          "variable": "x192",
          "year": 30
         },
         {
          "value": 0,
          "variable": "x192",
          "year": 35
         },
         {
          "value": 0,
          "variable": "x193",
          "year": 5
         },
         {
          "value": 0,
          "variable": "x193",
          "year": 10
         },
         {
          "value": 0,
          "variable": "x193",
          "year": 15
         },
         {
          "value": 0,
          "variable": "x193",
          "year": 20
         },
         {
          "value": 0,
          "variable": "x193",
          "year": 25
         },
         {
          "value": 0,
          "variable": "x193",
          "year": 30
         },
         {
          "value": 0,
          "variable": "x193",
          "year": 35
         },
         {
          "value": 0,
          "variable": "x194",
          "year": 5
         },
         {
          "value": 0,
          "variable": "x194",
          "year": 10
         },
         {
          "value": 0,
          "variable": "x194",
          "year": 15
         },
         {
          "value": 0,
          "variable": "x194",
          "year": 20
         },
         {
          "value": 0,
          "variable": "x194",
          "year": 25
         },
         {
          "value": 0,
          "variable": "x194",
          "year": 30
         },
         {
          "value": 0,
          "variable": "x194",
          "year": 35
         },
         {
          "value": 0,
          "variable": "x195",
          "year": 5
         },
         {
          "value": 0,
          "variable": "x195",
          "year": 10
         },
         {
          "value": 0,
          "variable": "x195",
          "year": 15
         },
         {
          "value": 0,
          "variable": "x195",
          "year": 20
         },
         {
          "value": 0,
          "variable": "x195",
          "year": 25
         },
         {
          "value": 0,
          "variable": "x195",
          "year": 30
         },
         {
          "value": 0,
          "variable": "x195",
          "year": 35
         },
         {
          "value": 0,
          "variable": "x196",
          "year": 5
         },
         {
          "value": 0,
          "variable": "x196",
          "year": 10
         },
         {
          "value": 0,
          "variable": "x196",
          "year": 15
         },
         {
          "value": 0,
          "variable": "x196",
          "year": 20
         },
         {
          "value": 0,
          "variable": "x196",
          "year": 25
         },
         {
          "value": 0,
          "variable": "x196",
          "year": 30
         },
         {
          "value": 0,
          "variable": "x196",
          "year": 35
         },
         {
          "value": 0,
          "variable": "x197",
          "year": 5
         },
         {
          "value": 0,
          "variable": "x197",
          "year": 10
         },
         {
          "value": 0,
          "variable": "x197",
          "year": 15
         },
         {
          "value": 0,
          "variable": "x197",
          "year": 20
         },
         {
          "value": 0,
          "variable": "x197",
          "year": 25
         },
         {
          "value": 0,
          "variable": "x197",
          "year": 30
         },
         {
          "value": 0,
          "variable": "x197",
          "year": 35
         },
         {
          "value": 0,
          "variable": "x198",
          "year": 5
         },
         {
          "value": 0,
          "variable": "x198",
          "year": 10
         },
         {
          "value": 0,
          "variable": "x198",
          "year": 15
         },
         {
          "value": 0,
          "variable": "x198",
          "year": 20
         },
         {
          "value": 0,
          "variable": "x198",
          "year": 25
         },
         {
          "value": 0,
          "variable": "x198",
          "year": 30
         },
         {
          "value": 0,
          "variable": "x198",
          "year": 35
         },
         {
          "value": 0,
          "variable": "x199",
          "year": 5
         },
         {
          "value": 0,
          "variable": "x199",
          "year": 10
         },
         {
          "value": 0,
          "variable": "x199",
          "year": 15
         },
         {
          "value": 0,
          "variable": "x199",
          "year": 20
         },
         {
          "value": 0,
          "variable": "x199",
          "year": 25
         },
         {
          "value": 0,
          "variable": "x199",
          "year": 30
         },
         {
          "value": 0,
          "variable": "x199",
          "year": 35
         },
         {
          "value": 0,
          "variable": "x200",
          "year": 5
         },
         {
          "value": 0,
          "variable": "x200",
          "year": 10
         },
         {
          "value": 0,
          "variable": "x200",
          "year": 15
         },
         {
          "value": 0,
          "variable": "x200",
          "year": 20
         },
         {
          "value": 0,
          "variable": "x200",
          "year": 25
         },
         {
          "value": 0,
          "variable": "x200",
          "year": 30
         },
         {
          "value": 0,
          "variable": "x200",
          "year": 35
         },
         {
          "value": 0,
          "variable": "x201",
          "year": 5
         },
         {
          "value": 0,
          "variable": "x201",
          "year": 10
         },
         {
          "value": 0,
          "variable": "x201",
          "year": 15
         },
         {
          "value": 0,
          "variable": "x201",
          "year": 20
         },
         {
          "value": 0,
          "variable": "x201",
          "year": 25
         },
         {
          "value": 0,
          "variable": "x201",
          "year": 30
         },
         {
          "value": 0,
          "variable": "x201",
          "year": 35
         },
         {
          "value": 0,
          "variable": "x202",
          "year": 5
         },
         {
          "value": 0,
          "variable": "x202",
          "year": 10
         },
         {
          "value": 0,
          "variable": "x202",
          "year": 15
         },
         {
          "value": 0,
          "variable": "x202",
          "year": 20
         },
         {
          "value": 0,
          "variable": "x202",
          "year": 25
         },
         {
          "value": 0,
          "variable": "x202",
          "year": 30
         },
         {
          "value": 0,
          "variable": "x202",
          "year": 35
         },
         {
          "value": 0,
          "variable": "x203",
          "year": 5
         },
         {
          "value": 0,
          "variable": "x203",
          "year": 10
         },
         {
          "value": 0,
          "variable": "x203",
          "year": 15
         },
         {
          "value": 0,
          "variable": "x203",
          "year": 20
         },
         {
          "value": 0,
          "variable": "x203",
          "year": 25
         },
         {
          "value": 0,
          "variable": "x203",
          "year": 30
         },
         {
          "value": 0,
          "variable": "x203",
          "year": 35
         },
         {
          "value": 0,
          "variable": "x204",
          "year": 5
         },
         {
          "value": 0,
          "variable": "x204",
          "year": 10
         },
         {
          "value": 0,
          "variable": "x204",
          "year": 15
         },
         {
          "value": 0,
          "variable": "x204",
          "year": 20
         },
         {
          "value": 0,
          "variable": "x204",
          "year": 25
         },
         {
          "value": 0,
          "variable": "x204",
          "year": 30
         },
         {
          "value": 0,
          "variable": "x204",
          "year": 35
         },
         {
          "value": 0,
          "variable": "x205",
          "year": 5
         },
         {
          "value": 0,
          "variable": "x205",
          "year": 10
         },
         {
          "value": 0,
          "variable": "x205",
          "year": 15
         },
         {
          "value": 0,
          "variable": "x205",
          "year": 20
         },
         {
          "value": 0,
          "variable": "x205",
          "year": 25
         },
         {
          "value": 0,
          "variable": "x205",
          "year": 30
         },
         {
          "value": 0,
          "variable": "x205",
          "year": 35
         },
         {
          "value": 0,
          "variable": "x206",
          "year": 5
         },
         {
          "value": 0,
          "variable": "x206",
          "year": 10
         },
         {
          "value": 0,
          "variable": "x206",
          "year": 15
         },
         {
          "value": 0,
          "variable": "x206",
          "year": 20
         },
         {
          "value": 0,
          "variable": "x206",
          "year": 25
         },
         {
          "value": 0,
          "variable": "x206",
          "year": 30
         },
         {
          "value": 0,
          "variable": "x206",
          "year": 35
         },
         {
          "value": 0,
          "variable": "x207",
          "year": 5
         },
         {
          "value": 0,
          "variable": "x207",
          "year": 10
         },
         {
          "value": 0,
          "variable": "x207",
          "year": 15
         },
         {
          "value": 0,
          "variable": "x207",
          "year": 20
         },
         {
          "value": 0,
          "variable": "x207",
          "year": 25
         },
         {
          "value": 0,
          "variable": "x207",
          "year": 30
         },
         {
          "value": 0,
          "variable": "x207",
          "year": 35
         },
         {
          "value": 0,
          "variable": "x208",
          "year": 5
         },
         {
          "value": 0,
          "variable": "x208",
          "year": 10
         },
         {
          "value": 0,
          "variable": "x208",
          "year": 15
         },
         {
          "value": 0,
          "variable": "x208",
          "year": 20
         },
         {
          "value": 0,
          "variable": "x208",
          "year": 25
         },
         {
          "value": 0,
          "variable": "x208",
          "year": 30
         },
         {
          "value": 0,
          "variable": "x208",
          "year": 35
         },
         {
          "value": 0,
          "variable": "x209",
          "year": 5
         },
         {
          "value": 0,
          "variable": "x209",
          "year": 10
         },
         {
          "value": 0,
          "variable": "x209",
          "year": 15
         },
         {
          "value": 0,
          "variable": "x209",
          "year": 20
         },
         {
          "value": 0,
          "variable": "x209",
          "year": 25
         },
         {
          "value": 0,
          "variable": "x209",
          "year": 30
         },
         {
          "value": 0,
          "variable": "x209",
          "year": 35
         },
         {
          "value": 0,
          "variable": "x210",
          "year": 5
         },
         {
          "value": 0,
          "variable": "x210",
          "year": 10
         },
         {
          "value": 0,
          "variable": "x210",
          "year": 15
         },
         {
          "value": 0,
          "variable": "x210",
          "year": 20
         },
         {
          "value": 0,
          "variable": "x210",
          "year": 25
         },
         {
          "value": 0,
          "variable": "x210",
          "year": 30
         },
         {
          "value": 0,
          "variable": "x210",
          "year": 35
         },
         {
          "value": 0,
          "variable": "x211",
          "year": 5
         },
         {
          "value": 0,
          "variable": "x211",
          "year": 10
         },
         {
          "value": 0,
          "variable": "x211",
          "year": 15
         },
         {
          "value": 0,
          "variable": "x211",
          "year": 20
         },
         {
          "value": 0,
          "variable": "x211",
          "year": 25
         },
         {
          "value": 0,
          "variable": "x211",
          "year": 30
         },
         {
          "value": 0,
          "variable": "x211",
          "year": 35
         },
         {
          "value": 0,
          "variable": "x212",
          "year": 5
         },
         {
          "value": 0,
          "variable": "x212",
          "year": 10
         },
         {
          "value": 0,
          "variable": "x212",
          "year": 15
         },
         {
          "value": 0,
          "variable": "x212",
          "year": 20
         },
         {
          "value": 0,
          "variable": "x212",
          "year": 25
         },
         {
          "value": 0,
          "variable": "x212",
          "year": 30
         },
         {
          "value": 0,
          "variable": "x212",
          "year": 35
         },
         {
          "value": 0,
          "variable": "x213",
          "year": 5
         },
         {
          "value": 0,
          "variable": "x213",
          "year": 10
         },
         {
          "value": 0,
          "variable": "x213",
          "year": 15
         },
         {
          "value": 0,
          "variable": "x213",
          "year": 20
         },
         {
          "value": 0,
          "variable": "x213",
          "year": 25
         },
         {
          "value": 0,
          "variable": "x213",
          "year": 30
         },
         {
          "value": 0,
          "variable": "x213",
          "year": 35
         },
         {
          "value": 0,
          "variable": "x214",
          "year": 5
         },
         {
          "value": 0,
          "variable": "x214",
          "year": 10
         },
         {
          "value": 0,
          "variable": "x214",
          "year": 15
         },
         {
          "value": 0,
          "variable": "x214",
          "year": 20
         },
         {
          "value": 0,
          "variable": "x214",
          "year": 25
         },
         {
          "value": 0,
          "variable": "x214",
          "year": 30
         },
         {
          "value": 0,
          "variable": "x214",
          "year": 35
         },
         {
          "value": 0,
          "variable": "x215",
          "year": 5
         },
         {
          "value": 0,
          "variable": "x215",
          "year": 10
         },
         {
          "value": 0,
          "variable": "x215",
          "year": 15
         },
         {
          "value": 0,
          "variable": "x215",
          "year": 20
         },
         {
          "value": 0,
          "variable": "x215",
          "year": 25
         },
         {
          "value": 0,
          "variable": "x215",
          "year": 30
         },
         {
          "value": 0,
          "variable": "x215",
          "year": 35
         },
         {
          "value": 0,
          "variable": "x216",
          "year": 5
         },
         {
          "value": 0,
          "variable": "x216",
          "year": 10
         },
         {
          "value": 0,
          "variable": "x216",
          "year": 15
         },
         {
          "value": 0,
          "variable": "x216",
          "year": 20
         },
         {
          "value": 0,
          "variable": "x216",
          "year": 25
         },
         {
          "value": 0,
          "variable": "x216",
          "year": 30
         },
         {
          "value": 0,
          "variable": "x216",
          "year": 35
         },
         {
          "value": 1,
          "variable": "x217",
          "year": 5
         },
         {
          "value": 0.04999999999999993,
          "variable": "x217",
          "year": 10
         },
         {
          "value": 0,
          "variable": "x217",
          "year": 15
         },
         {
          "value": 0,
          "variable": "x217",
          "year": 20
         },
         {
          "value": 0,
          "variable": "x217",
          "year": 25
         },
         {
          "value": 0,
          "variable": "x217",
          "year": 30
         },
         {
          "value": 0,
          "variable": "x217",
          "year": 35
         },
         {
          "value": 0,
          "variable": "x218",
          "year": 5
         },
         {
          "value": 0,
          "variable": "x218",
          "year": 10
         },
         {
          "value": 0,
          "variable": "x218",
          "year": 15
         },
         {
          "value": 0,
          "variable": "x218",
          "year": 20
         },
         {
          "value": 0,
          "variable": "x218",
          "year": 25
         },
         {
          "value": 0,
          "variable": "x218",
          "year": 30
         },
         {
          "value": 0,
          "variable": "x218",
          "year": 35
         },
         {
          "value": 0,
          "variable": "x219",
          "year": 5
         },
         {
          "value": 0,
          "variable": "x219",
          "year": 10
         },
         {
          "value": 0,
          "variable": "x219",
          "year": 15
         },
         {
          "value": 0,
          "variable": "x219",
          "year": 20
         },
         {
          "value": 0,
          "variable": "x219",
          "year": 25
         },
         {
          "value": 0,
          "variable": "x219",
          "year": 30
         },
         {
          "value": 0,
          "variable": "x219",
          "year": 35
         },
         {
          "value": 0,
          "variable": "x220",
          "year": 5
         },
         {
          "value": 0,
          "variable": "x220",
          "year": 10
         },
         {
          "value": 0,
          "variable": "x220",
          "year": 15
         },
         {
          "value": 0,
          "variable": "x220",
          "year": 20
         },
         {
          "value": 0,
          "variable": "x220",
          "year": 25
         },
         {
          "value": 0,
          "variable": "x220",
          "year": 30
         },
         {
          "value": 0,
          "variable": "x220",
          "year": 35
         },
         {
          "value": 0,
          "variable": "x221",
          "year": 5
         },
         {
          "value": 0,
          "variable": "x221",
          "year": 10
         },
         {
          "value": 0.6206569449087659,
          "variable": "x221",
          "year": 15
         },
         {
          "value": 0.6390208129387396,
          "variable": "x221",
          "year": 20
         },
         {
          "value": 0.6390208129387396,
          "variable": "x221",
          "year": 25
         },
         {
          "value": 1,
          "variable": "x221",
          "year": 30
         },
         {
          "value": 0.6409244382807946,
          "variable": "x221",
          "year": 35
         },
         {
          "value": 0,
          "variable": "x222",
          "year": 5
         },
         {
          "value": 0,
          "variable": "x222",
          "year": 10
         },
         {
          "value": 0,
          "variable": "x222",
          "year": 15
         },
         {
          "value": 0,
          "variable": "x222",
          "year": 20
         },
         {
          "value": 0,
          "variable": "x222",
          "year": 25
         },
         {
          "value": 0,
          "variable": "x222",
          "year": 30
         },
         {
          "value": 0,
          "variable": "x222",
          "year": 35
         },
         {
          "value": 0,
          "variable": "x223",
          "year": 5
         },
         {
          "value": 0,
          "variable": "x223",
          "year": 10
         },
         {
          "value": 0,
          "variable": "x223",
          "year": 15
         },
         {
          "value": 0,
          "variable": "x223",
          "year": 20
         },
         {
          "value": 0,
          "variable": "x223",
          "year": 25
         },
         {
          "value": 0,
          "variable": "x223",
          "year": 30
         },
         {
          "value": 0,
          "variable": "x223",
          "year": 35
         },
         {
          "value": 0,
          "variable": "x224",
          "year": 5
         },
         {
          "value": 0,
          "variable": "x224",
          "year": 10
         },
         {
          "value": 0,
          "variable": "x224",
          "year": 15
         },
         {
          "value": 0,
          "variable": "x224",
          "year": 20
         },
         {
          "value": 0,
          "variable": "x224",
          "year": 25
         },
         {
          "value": 0,
          "variable": "x224",
          "year": 30
         },
         {
          "value": 0,
          "variable": "x224",
          "year": 35
         },
         {
          "value": 0,
          "variable": "x225",
          "year": 5
         },
         {
          "value": 0,
          "variable": "x225",
          "year": 10
         },
         {
          "value": 0,
          "variable": "x225",
          "year": 15
         },
         {
          "value": 0,
          "variable": "x225",
          "year": 20
         },
         {
          "value": 0,
          "variable": "x225",
          "year": 25
         },
         {
          "value": 0,
          "variable": "x225",
          "year": 30
         },
         {
          "value": 0,
          "variable": "x225",
          "year": 35
         },
         {
          "value": 0,
          "variable": "x226",
          "year": 5
         },
         {
          "value": 0,
          "variable": "x226",
          "year": 10
         },
         {
          "value": 0,
          "variable": "x226",
          "year": 15
         },
         {
          "value": 0,
          "variable": "x226",
          "year": 20
         },
         {
          "value": 0,
          "variable": "x226",
          "year": 25
         },
         {
          "value": 0,
          "variable": "x226",
          "year": 30
         },
         {
          "value": 0,
          "variable": "x226",
          "year": 35
         },
         {
          "value": 0,
          "variable": "x227",
          "year": 5
         },
         {
          "value": 0,
          "variable": "x227",
          "year": 10
         },
         {
          "value": 0,
          "variable": "x227",
          "year": 15
         },
         {
          "value": 0,
          "variable": "x227",
          "year": 20
         },
         {
          "value": 0,
          "variable": "x227",
          "year": 25
         },
         {
          "value": 0,
          "variable": "x227",
          "year": 30
         },
         {
          "value": 0,
          "variable": "x227",
          "year": 35
         },
         {
          "value": 0,
          "variable": "x228",
          "year": 5
         },
         {
          "value": 0,
          "variable": "x228",
          "year": 10
         },
         {
          "value": 0,
          "variable": "x228",
          "year": 15
         },
         {
          "value": 0,
          "variable": "x228",
          "year": 20
         },
         {
          "value": 0,
          "variable": "x228",
          "year": 25
         },
         {
          "value": 0,
          "variable": "x228",
          "year": 30
         },
         {
          "value": 0,
          "variable": "x228",
          "year": 35
         },
         {
          "value": 0,
          "variable": "x229",
          "year": 5
         },
         {
          "value": 0,
          "variable": "x229",
          "year": 10
         },
         {
          "value": 0,
          "variable": "x229",
          "year": 15
         },
         {
          "value": 0,
          "variable": "x229",
          "year": 20
         },
         {
          "value": 0,
          "variable": "x229",
          "year": 25
         },
         {
          "value": 0,
          "variable": "x229",
          "year": 30
         },
         {
          "value": 0,
          "variable": "x229",
          "year": 35
         },
         {
          "value": 0,
          "variable": "x230",
          "year": 5
         },
         {
          "value": 0,
          "variable": "x230",
          "year": 10
         },
         {
          "value": 0,
          "variable": "x230",
          "year": 15
         },
         {
          "value": 0,
          "variable": "x230",
          "year": 20
         },
         {
          "value": 0,
          "variable": "x230",
          "year": 25
         },
         {
          "value": 0,
          "variable": "x230",
          "year": 30
         },
         {
          "value": 0,
          "variable": "x230",
          "year": 35
         },
         {
          "value": 0,
          "variable": "x231",
          "year": 5
         },
         {
          "value": 0,
          "variable": "x231",
          "year": 10
         },
         {
          "value": 0,
          "variable": "x231",
          "year": 15
         },
         {
          "value": 0,
          "variable": "x231",
          "year": 20
         },
         {
          "value": 0,
          "variable": "x231",
          "year": 25
         },
         {
          "value": 0,
          "variable": "x231",
          "year": 30
         },
         {
          "value": 0,
          "variable": "x231",
          "year": 35
         },
         {
          "value": 0,
          "variable": "x232",
          "year": 5
         },
         {
          "value": 0,
          "variable": "x232",
          "year": 10
         },
         {
          "value": 0,
          "variable": "x232",
          "year": 15
         },
         {
          "value": 0,
          "variable": "x232",
          "year": 20
         },
         {
          "value": 0,
          "variable": "x232",
          "year": 25
         },
         {
          "value": 0,
          "variable": "x232",
          "year": 30
         },
         {
          "value": 0,
          "variable": "x232",
          "year": 35
         },
         {
          "value": 0,
          "variable": "x233",
          "year": 5
         },
         {
          "value": 0,
          "variable": "x233",
          "year": 10
         },
         {
          "value": 0,
          "variable": "x233",
          "year": 15
         },
         {
          "value": 0,
          "variable": "x233",
          "year": 20
         },
         {
          "value": 0,
          "variable": "x233",
          "year": 25
         },
         {
          "value": 0,
          "variable": "x233",
          "year": 30
         },
         {
          "value": 0,
          "variable": "x233",
          "year": 35
         },
         {
          "value": 0,
          "variable": "x234",
          "year": 5
         },
         {
          "value": 0,
          "variable": "x234",
          "year": 10
         },
         {
          "value": 0,
          "variable": "x234",
          "year": 15
         },
         {
          "value": 0,
          "variable": "x234",
          "year": 20
         },
         {
          "value": 0,
          "variable": "x234",
          "year": 25
         },
         {
          "value": 0,
          "variable": "x234",
          "year": 30
         },
         {
          "value": 0,
          "variable": "x234",
          "year": 35
         },
         {
          "value": 0,
          "variable": "x235",
          "year": 5
         },
         {
          "value": 0,
          "variable": "x235",
          "year": 10
         },
         {
          "value": 0,
          "variable": "x235",
          "year": 15
         },
         {
          "value": 0,
          "variable": "x235",
          "year": 20
         },
         {
          "value": 0,
          "variable": "x235",
          "year": 25
         },
         {
          "value": 0,
          "variable": "x235",
          "year": 30
         },
         {
          "value": 0,
          "variable": "x235",
          "year": 35
         },
         {
          "value": 0,
          "variable": "x236",
          "year": 5
         },
         {
          "value": 0,
          "variable": "x236",
          "year": 10
         },
         {
          "value": 0,
          "variable": "x236",
          "year": 15
         },
         {
          "value": 0,
          "variable": "x236",
          "year": 20
         },
         {
          "value": 0,
          "variable": "x236",
          "year": 25
         },
         {
          "value": 0,
          "variable": "x236",
          "year": 30
         },
         {
          "value": 0,
          "variable": "x236",
          "year": 35
         },
         {
          "value": 0,
          "variable": "x237",
          "year": 5
         },
         {
          "value": 0,
          "variable": "x237",
          "year": 10
         },
         {
          "value": 0,
          "variable": "x237",
          "year": 15
         },
         {
          "value": 0,
          "variable": "x237",
          "year": 20
         },
         {
          "value": 0,
          "variable": "x237",
          "year": 25
         },
         {
          "value": 0,
          "variable": "x237",
          "year": 30
         },
         {
          "value": 0,
          "variable": "x237",
          "year": 35
         },
         {
          "value": 0,
          "variable": "x238",
          "year": 5
         },
         {
          "value": 0,
          "variable": "x238",
          "year": 10
         },
         {
          "value": 0,
          "variable": "x238",
          "year": 15
         },
         {
          "value": 0,
          "variable": "x238",
          "year": 20
         },
         {
          "value": 0,
          "variable": "x238",
          "year": 25
         },
         {
          "value": 0,
          "variable": "x238",
          "year": 30
         },
         {
          "value": 0,
          "variable": "x238",
          "year": 35
         },
         {
          "value": 0,
          "variable": "x239",
          "year": 5
         },
         {
          "value": 0,
          "variable": "x239",
          "year": 10
         },
         {
          "value": 0,
          "variable": "x239",
          "year": 15
         },
         {
          "value": 0,
          "variable": "x239",
          "year": 20
         },
         {
          "value": 0,
          "variable": "x239",
          "year": 25
         },
         {
          "value": 0,
          "variable": "x239",
          "year": 30
         },
         {
          "value": 0,
          "variable": "x239",
          "year": 35
         },
         {
          "value": 0,
          "variable": "x240",
          "year": 5
         },
         {
          "value": 0,
          "variable": "x240",
          "year": 10
         },
         {
          "value": 0,
          "variable": "x240",
          "year": 15
         },
         {
          "value": 0,
          "variable": "x240",
          "year": 20
         },
         {
          "value": 0,
          "variable": "x240",
          "year": 25
         },
         {
          "value": 0,
          "variable": "x240",
          "year": 30
         },
         {
          "value": 0,
          "variable": "x240",
          "year": 35
         }
        ]
       },
       "encoding": {
        "color": {
         "field": "variable",
         "type": "nominal"
        },
        "x": {
         "field": "year",
         "type": "quantitative"
        },
        "y": {
         "field": "value",
         "stack": "zero",
         "title": "xk",
         "type": "quantitative"
        }
       },
       "legend": "sNames",
       "mark": "area"
      },
      "image/png": "[encoded data removed]",
      "image/svg+xml": [
       "<?xml version=\"1.0\" encoding=\"utf-8\"?>\n",
       "<!DOCTYPE svg PUBLIC \"-//W3C//DTD SVG 1.1//EN\" \"http://www.w3.org/Graphics/SVG/1.1/DTD/svg11.dtd\">\n",
       "<svg xmlns=\"http://www.w3.org/2000/svg\" xmlns:xlink=\"http://www.w3.org/1999/xlink\" version=\"1.1\" class=\"marks\" width=\"346\" height=\"414\" viewBox=\"0 0 346 414\"><rect width=\"346\" height=\"414\" fill=\"white\"/><g fill=\"none\" stroke-miterlimit=\"10\" transform=\"translate(42,5)\"><g class=\"mark-group role-frame root\" role=\"graphics-object\" aria-roledescription=\"group mark container\"><g transform=\"translate(0,0)\"><path class=\"background\" aria-hidden=\"true\" d=\"M0.5,0.5h200v200h-200Z\" stroke=\"#ddd\"/><g><g class=\"mark-group role-axis\" aria-hidden=\"true\"><g transform=\"translate(0.5,200.5)\"><path class=\"background\" aria-hidden=\"true\" d=\"M0,0h0v0h0Z\" pointer-events=\"none\"/><g><g class=\"mark-rule role-axis-grid\" pointer-events=\"none\"><line transform=\"translate(0,-200)\" x2=\"0\" y2=\"200\" stroke=\"#ddd\" stroke-width=\"1\" opacity=\"1\"/><line transform=\"translate(50,-200)\" x2=\"0\" y2=\"200\" stroke=\"#ddd\" stroke-width=\"1\" opacity=\"1\"/><line transform=\"translate(100,-200)\" x2=\"0\" y2=\"200\" stroke=\"#ddd\" stroke-width=\"1\" opacity=\"1\"/><line transform=\"translate(150,-200)\" x2=\"0\" y2=\"200\" stroke=\"#ddd\" stroke-width=\"1\" opacity=\"1\"/><line transform=\"translate(200,-200)\" x2=\"0\" y2=\"200\" stroke=\"#ddd\" stroke-width=\"1\" opacity=\"1\"/></g></g><path class=\"foreground\" aria-hidden=\"true\" d=\"\" pointer-events=\"none\" display=\"none\"/></g></g><g class=\"mark-group role-axis\" aria-hidden=\"true\"><g transform=\"translate(0.5,0.5)\"><path class=\"background\" aria-hidden=\"true\" d=\"M0,0h0v0h0Z\" pointer-events=\"none\"/><g><g class=\"mark-rule role-axis-grid\" pointer-events=\"none\"><line transform=\"translate(0,200)\" x2=\"200\" y2=\"0\" stroke=\"#ddd\" stroke-width=\"1\" opacity=\"1\"/><line transform=\"translate(0,164)\" x2=\"200\" y2=\"0\" stroke=\"#ddd\" stroke-width=\"1\" opacity=\"1\"/><line transform=\"translate(0,127)\" x2=\"200\" y2=\"0\" stroke=\"#ddd\" stroke-width=\"1\" opacity=\"1\"/><line transform=\"translate(0,91)\" x2=\"200\" y2=\"0\" stroke=\"#ddd\" stroke-width=\"1\" opacity=\"1\"/><line transform=\"translate(0,55)\" x2=\"200\" y2=\"0\" stroke=\"#ddd\" stroke-width=\"1\" opacity=\"1\"/><line transform=\"translate(0,18)\" x2=\"200\" y2=\"0\" stroke=\"#ddd\" stroke-width=\"1\" opacity=\"1\"/></g></g><path class=\"foreground\" aria-hidden=\"true\" d=\"\" pointer-events=\"none\" display=\"none\"/></g></g><g class=\"mark-group role-axis\" role=\"graphics-symbol\" aria-roledescription=\"axis\" aria-label=\"X-axis titled 'year' for a linear scale with values from 0 to 40\"><g transform=\"translate(0.5,200.5)\"><path class=\"background\" aria-hidden=\"true\" d=\"M0,0h0v0h0Z\" pointer-events=\"none\"/><g><g class=\"mark-rule role-axis-tick\" pointer-events=\"none\"><line transform=\"translate(0,0)\" x2=\"0\" y2=\"5\" stroke=\"#888\" stroke-width=\"1\" opacity=\"1\"/><line transform=\"translate(50,0)\" x2=\"0\" y2=\"5\" stroke=\"#888\" stroke-width=\"1\" opacity=\"1\"/><line transform=\"translate(100,0)\" x2=\"0\" y2=\"5\" stroke=\"#888\" stroke-width=\"1\" opacity=\"1\"/><line transform=\"translate(150,0)\" x2=\"0\" y2=\"5\" stroke=\"#888\" stroke-width=\"1\" opacity=\"1\"/><line transform=\"translate(200,0)\" x2=\"0\" y2=\"5\" stroke=\"#888\" stroke-width=\"1\" opacity=\"1\"/></g><g class=\"mark-text role-axis-label\" pointer-events=\"none\"><text text-anchor=\"start\" transform=\"translate(0,15)\" font-family=\"sans-serif\" font-size=\"10px\" fill=\"#000\" opacity=\"1\">0</text><text text-anchor=\"middle\" transform=\"translate(50,15)\" font-family=\"sans-serif\" font-size=\"10px\" fill=\"#000\" opacity=\"1\">10</text><text text-anchor=\"middle\" transform=\"translate(100,15)\" font-family=\"sans-serif\" font-size=\"10px\" fill=\"#000\" opacity=\"1\">20</text><text text-anchor=\"middle\" transform=\"translate(150,15)\" font-family=\"sans-serif\" font-size=\"10px\" fill=\"#000\" opacity=\"1\">30</text><text text-anchor=\"end\" transform=\"translate(200,15)\" font-family=\"sans-serif\" font-size=\"10px\" fill=\"#000\" opacity=\"1\">40</text></g><g class=\"mark-rule role-axis-domain\" pointer-events=\"none\"><line transform=\"translate(0,0)\" x2=\"200\" y2=\"0\" stroke=\"#888\" stroke-width=\"1\" opacity=\"1\"/></g><g class=\"mark-text role-axis-title\" pointer-events=\"none\"><text text-anchor=\"middle\" transform=\"translate(100,30)\" font-family=\"sans-serif\" font-size=\"11px\" font-weight=\"bold\" fill=\"#000\" opacity=\"1\">year</text></g></g><path class=\"foreground\" aria-hidden=\"true\" d=\"\" pointer-events=\"none\" display=\"none\"/></g></g><g class=\"mark-group role-axis\" role=\"graphics-symbol\" aria-roledescription=\"axis\" aria-label=\"Y-axis titled 'xk' for a linear scale with values from 0.0 to 1.1\"><g transform=\"translate(0.5,0.5)\"><path class=\"background\" aria-hidden=\"true\" d=\"M0,0h0v0h0Z\" pointer-events=\"none\"/><g><g class=\"mark-rule role-axis-tick\" pointer-events=\"none\"><line transform=\"translate(0,200)\" x2=\"-5\" y2=\"0\" stroke=\"#888\" stroke-width=\"1\" opacity=\"1\"/><line transform=\"translate(0,164)\" x2=\"-5\" y2=\"0\" stroke=\"#888\" stroke-width=\"1\" opacity=\"1\"/><line transform=\"translate(0,127)\" x2=\"-5\" y2=\"0\" stroke=\"#888\" stroke-width=\"1\" opacity=\"1\"/><line transform=\"translate(0,91)\" x2=\"-5\" y2=\"0\" stroke=\"#888\" stroke-width=\"1\" opacity=\"1\"/><line transform=\"translate(0,55)\" x2=\"-5\" y2=\"0\" stroke=\"#888\" stroke-width=\"1\" opacity=\"1\"/><line transform=\"translate(0,18)\" x2=\"-5\" y2=\"0\" stroke=\"#888\" stroke-width=\"1\" opacity=\"1\"/></g><g class=\"mark-text role-axis-label\" pointer-events=\"none\"><text text-anchor=\"end\" transform=\"translate(-7,203)\" font-family=\"sans-serif\" font-size=\"10px\" fill=\"#000\" opacity=\"1\">0.0</text><text text-anchor=\"end\" transform=\"translate(-7,166.63636363636363)\" font-family=\"sans-serif\" font-size=\"10px\" fill=\"#000\" opacity=\"1\">0.2</text><text text-anchor=\"end\" transform=\"translate(-7,130.27272727272725)\" font-family=\"sans-serif\" font-size=\"10px\" fill=\"#000\" opacity=\"1\">0.4</text><text text-anchor=\"end\" transform=\"translate(-7,93.90909090909092)\" font-family=\"sans-serif\" font-size=\"10px\" fill=\"#000\" opacity=\"1\">0.6</text><text text-anchor=\"end\" transform=\"translate(-7,57.54545454545454)\" font-family=\"sans-serif\" font-size=\"10px\" fill=\"#000\" opacity=\"1\">0.8</text><text text-anchor=\"end\" transform=\"translate(-7,21.181818181818187)\" font-family=\"sans-serif\" font-size=\"10px\" fill=\"#000\" opacity=\"1\">1.0</text></g><g class=\"mark-rule role-axis-domain\" pointer-events=\"none\"><line transform=\"translate(0,200)\" x2=\"0\" y2=\"-200\" stroke=\"#888\" stroke-width=\"1\" opacity=\"1\"/></g><g class=\"mark-text role-axis-title\" pointer-events=\"none\"><text text-anchor=\"middle\" transform=\"translate(-26,100) rotate(-90) translate(0,-2)\" font-family=\"sans-serif\" font-size=\"11px\" font-weight=\"bold\" fill=\"#000\" opacity=\"1\">xk</text></g></g><path class=\"foreground\" aria-hidden=\"true\" d=\"\" pointer-events=\"none\" display=\"none\"/></g></g><g class=\"mark-group role-scope pathgroup\" role=\"graphics-object\" aria-roledescription=\"group mark container\"><g transform=\"translate(0,0)\"><path class=\"background\" aria-hidden=\"true\" d=\"M0,0h200v200h-200Z\"/><g><g class=\"mark-area role-mark marks\" role=\"graphics-object\" aria-roledescription=\"area mark container\"><path aria-label=\"year: 5; xk: 0; variable: x1\" role=\"graphics-symbol\" aria-roledescription=\"area mark\" d=\"M25,18.181818181818187L50,18.18181818181821L75,18.181818181808417L100,18.181818181818187L125,18.181818181818187L150,18.181818181818187L175,19.01673924252336L175,19.01673924252336L150,18.181818181818187L125,18.181818181818187L100,18.181818181818187L75,18.181818181808417L50,18.18181818181821L25,18.181818181818187Z\" fill=\"#4c78a8\"/></g></g><path class=\"foreground\" aria-hidden=\"true\" d=\"\" display=\"none\"/></g><g transform=\"translate(0,0)\"><path class=\"background\" aria-hidden=\"true\" d=\"M0,0h200v200h-200Z\"/><g><g class=\"mark-area role-mark marks\" role=\"graphics-object\" aria-roledescription=\"area mark container\"><path aria-label=\"year: 5; xk: 0; variable: x2\" role=\"graphics-symbol\" aria-roledescription=\"area mark\" d=\"M25,18.181818181818187L50,18.18181818181821L75,18.181818181808417L100,18.181818181818187L125,18.181818181818187L150,18.181818181818187L175,83.46828394894645L175,83.46828394894645L150,18.181818181818187L125,18.181818181818187L100,18.181818181818187L75,18.181818181808417L50,18.18181818181821L25,18.181818181818187Z\" fill=\"#f58518\"/></g></g><path class=\"foreground\" aria-hidden=\"true\" d=\"\" display=\"none\"/></g><g transform=\"translate(0,0)\"><path class=\"background\" aria-hidden=\"true\" d=\"M0,0h200v200h-200Z\"/><g><g class=\"mark-area role-mark marks\" role=\"graphics-object\" aria-roledescription=\"area mark container\"><path aria-label=\"year: 5; xk: 0; variable: x3\" role=\"graphics-symbol\" aria-roledescription=\"area mark\" d=\"M25,200L50,27.272727272727295L75,131.02853543794768L100,134.3674205343163L125,134.3674205343163L150,200L175,200L175,200L150,200L125,134.3674205343163L100,134.3674205343163L75,131.02853543794768L50,27.272727272727295L25,200Z\" fill=\"#72b7b2\"/></g></g><path class=\"foreground\" aria-hidden=\"true\" d=\"\" display=\"none\"/></g><g transform=\"translate(0,0)\"><path class=\"background\" aria-hidden=\"true\" d=\"M0,0h200v200h-200Z\"/><g><g class=\"mark-area role-mark marks\" role=\"graphics-object\" aria-roledescription=\"area mark container\"><path aria-label=\"year: 5; xk: 0; variable: x4\" role=\"graphics-symbol\" aria-roledescription=\"area mark\" d=\"M25,200L50,27.272727272727295L75,131.02853543794768L100,134.3674205343163L125,134.3674205343163L150,200L175,200L175,200L150,200L125,134.3674205343163L100,134.3674205343163L75,131.02853543794768L50,27.272727272727295L25,200Z\" fill=\"#54a24b\"/></g></g><path class=\"foreground\" aria-hidden=\"true\" d=\"\" display=\"none\"/></g><g transform=\"translate(0,0)\"><path class=\"background\" aria-hidden=\"true\" d=\"M0,0h200v200h-200Z\"/><g><g class=\"mark-area role-mark marks\" role=\"graphics-object\" aria-roledescription=\"area mark container\"><path aria-label=\"year: 5; xk: 0; variable: x5\" role=\"graphics-symbol\" aria-roledescription=\"area mark\" d=\"M25,200L50,27.272727272727295L75,131.02853543794768L100,134.3674205343163L125,134.3674205343163L150,200L175,200L175,200L150,200L125,134.3674205343163L100,134.3674205343163L75,131.02853543794768L50,27.272727272727295L25,200Z\" fill=\"#eeca3b\"/></g></g><path class=\"foreground\" aria-hidden=\"true\" d=\"\" display=\"none\"/></g><g transform=\"translate(0,0)\"><path class=\"background\" aria-hidden=\"true\" d=\"M0,0h200v200h-200Z\"/><g><g class=\"mark-area role-mark marks\" role=\"graphics-object\" aria-roledescription=\"area mark container\"><path aria-label=\"year: 5; xk: 0; variable: x6\" role=\"graphics-symbol\" aria-roledescription=\"area mark\" d=\"M25,200L50,27.272727272727295L75,131.02853543794768L100,134.3674205343163L125,134.3674205343163L150,200L175,200L175,200L150,200L125,134.3674205343163L100,134.3674205343163L75,131.02853543794768L50,27.272727272727295L25,200Z\" fill=\"#b279a2\"/></g></g><path class=\"foreground\" aria-hidden=\"true\" d=\"\" display=\"none\"/></g><g transform=\"translate(0,0)\"><path class=\"background\" aria-hidden=\"true\" d=\"M0,0h200v200h-200Z\"/><g><g class=\"mark-area role-mark marks\" role=\"graphics-object\" aria-roledescription=\"area mark container\"><path aria-label=\"year: 5; xk: 0; variable: x7\" role=\"graphics-symbol\" aria-roledescription=\"area mark\" d=\"M25,200L50,27.272727272727295L75,131.02853543794768L100,134.3674205343163L125,134.3674205343163L150,200L175,200L175,200L150,200L125,134.3674205343163L100,134.3674205343163L75,131.02853543794768L50,27.272727272727295L25,200Z\" fill=\"#ff9da6\"/></g></g><path class=\"foreground\" aria-hidden=\"true\" d=\"\" display=\"none\"/></g><g transform=\"translate(0,0)\"><path class=\"background\" aria-hidden=\"true\" d=\"M0,0h200v200h-200Z\"/><g><g class=\"mark-area role-mark marks\" role=\"graphics-object\" aria-roledescription=\"area mark container\"><path aria-label=\"year: 5; xk: 0; variable: x8\" role=\"graphics-symbol\" aria-roledescription=\"area mark\" d=\"M25,200L50,27.272727272727295L75,131.02853543794768L100,134.3674205343163L125,134.3674205343163L150,200L175,200L175,200L150,200L125,134.3674205343163L100,134.3674205343163L75,131.02853543794768L50,27.272727272727295L25,200Z\" fill=\"#9d755d\"/></g></g><path class=\"foreground\" aria-hidden=\"true\" d=\"\" display=\"none\"/></g><g transform=\"translate(0,0)\"><path class=\"background\" aria-hidden=\"true\" d=\"M0,0h200v200h-200Z\"/><g><g class=\"mark-area role-mark marks\" role=\"graphics-object\" aria-roledescription=\"area mark container\"><path aria-label=\"year: 5; xk: 0; variable: x9\" role=\"graphics-symbol\" aria-roledescription=\"area mark\" d=\"M25,200L50,27.272727272727295L75,131.02853543794768L100,134.3674205343163L125,134.3674205343163L150,200L175,200L175,200L150,200L125,134.3674205343163L100,134.3674205343163L75,131.02853543794768L50,27.272727272727295L25,200Z\" fill=\"#bab0ac\"/></g></g><path class=\"foreground\" aria-hidden=\"true\" d=\"\" display=\"none\"/></g><g transform=\"translate(0,0)\"><path class=\"background\" aria-hidden=\"true\" d=\"M0,0h200v200h-200Z\"/><g><g class=\"mark-area role-mark marks\" role=\"graphics-object\" aria-roledescription=\"area mark container\"><path aria-label=\"year: 5; xk: 0; variable: x10\" role=\"graphics-symbol\" aria-roledescription=\"area mark\" d=\"M25,18.181818181818187L50,18.18181818181821L75,18.181818181808417L100,18.181818181818187L125,18.181818181818187L150,18.181818181818187L175,19.01673924252336L175,19.01673924252336L150,18.181818181818187L125,18.181818181818187L100,18.181818181818187L75,18.181818181808417L50,18.18181818181821L25,18.181818181818187Z\" fill=\"#f58518\"/></g></g><path class=\"foreground\" aria-hidden=\"true\" d=\"\" display=\"none\"/></g><g transform=\"translate(0,0)\"><path class=\"background\" aria-hidden=\"true\" d=\"M0,0h200v200h-200Z\"/><g><g class=\"mark-area role-mark marks\" role=\"graphics-object\" aria-roledescription=\"area mark container\"><path aria-label=\"year: 5; xk: 0; variable: x11\" role=\"graphics-symbol\" aria-roledescription=\"area mark\" d=\"M25,18.181818181818187L50,18.18181818181821L75,18.181818181808417L100,18.181818181818187L125,18.181818181818187L150,18.181818181818187L175,83.46828394894645L175,83.46828394894645L150,18.181818181818187L125,18.181818181818187L100,18.181818181818187L75,18.181818181808417L50,18.18181818181821L25,18.181818181818187Z\" fill=\"#e45756\"/></g></g><path class=\"foreground\" aria-hidden=\"true\" d=\"\" display=\"none\"/></g><g transform=\"translate(0,0)\"><path class=\"background\" aria-hidden=\"true\" d=\"M0,0h200v200h-200Z\"/><g><g class=\"mark-area role-mark marks\" role=\"graphics-object\" aria-roledescription=\"area mark container\"><path aria-label=\"year: 5; xk: 0; variable: x12\" role=\"graphics-symbol\" aria-roledescription=\"area mark\" d=\"M25,18.181818181818187L50,18.18181818181821L75,18.181818181808417L100,18.181818181818187L125,18.181818181818187L150,18.181818181818187L175,83.46828394894645L175,83.46828394894645L150,18.181818181818187L125,18.181818181818187L100,18.181818181818187L75,18.181818181808417L50,18.18181818181821L25,18.181818181818187Z\" fill=\"#72b7b2\"/></g></g><path class=\"foreground\" aria-hidden=\"true\" d=\"\" display=\"none\"/></g><g transform=\"translate(0,0)\"><path class=\"background\" aria-hidden=\"true\" d=\"M0,0h200v200h-200Z\"/><g><g class=\"mark-area role-mark marks\" role=\"graphics-object\" aria-roledescription=\"area mark container\"><path aria-label=\"year: 5; xk: 0; variable: x13\" role=\"graphics-symbol\" aria-roledescription=\"area mark\" d=\"M25,18.181818181818187L50,18.18181818181821L75,18.181818181808417L100,18.181818181818187L125,18.181818181818187L150,18.181818181818187L175,83.46828394894645L175,83.46828394894645L150,18.181818181818187L125,18.181818181818187L100,18.181818181818187L75,18.181818181808417L50,18.18181818181821L25,18.181818181818187Z\" fill=\"#54a24b\"/></g></g><path class=\"foreground\" aria-hidden=\"true\" d=\"\" display=\"none\"/></g><g transform=\"translate(0,0)\"><path class=\"background\" aria-hidden=\"true\" d=\"M0,0h200v200h-200Z\"/><g><g class=\"mark-area role-mark marks\" role=\"graphics-object\" aria-roledescription=\"area mark container\"><path aria-label=\"year: 5; xk: 0; variable: x14\" role=\"graphics-symbol\" aria-roledescription=\"area mark\" d=\"M25,18.181818181818187L50,18.18181818181821L75,18.181818181808417L100,18.181818181818187L125,18.181818181818187L150,18.181818181818187L175,83.46828394894645L175,83.46828394894645L150,18.181818181818187L125,18.181818181818187L100,18.181818181818187L75,18.181818181808417L50,18.18181818181821L25,18.181818181818187Z\" fill=\"#eeca3b\"/></g></g><path class=\"foreground\" aria-hidden=\"true\" d=\"\" display=\"none\"/></g><g transform=\"translate(0,0)\"><path class=\"background\" aria-hidden=\"true\" d=\"M0,0h200v200h-200Z\"/><g><g class=\"mark-area role-mark marks\" role=\"graphics-object\" aria-roledescription=\"area mark container\"><path aria-label=\"year: 5; xk: 0; variable: x15\" role=\"graphics-symbol\" aria-roledescription=\"area mark\" d=\"M25,18.181818181818187L50,18.18181818181821L75,18.181818181808417L100,18.181818181818187L125,18.181818181818187L150,18.181818181818187L175,83.46828394894645L175,83.46828394894645L150,18.181818181818187L125,18.181818181818187L100,18.181818181818187L75,18.181818181808417L50,18.18181818181821L25,18.181818181818187Z\" fill=\"#b279a2\"/></g></g><path class=\"foreground\" aria-hidden=\"true\" d=\"\" display=\"none\"/></g><g transform=\"translate(0,0)\"><path class=\"background\" aria-hidden=\"true\" d=\"M0,0h200v200h-200Z\"/><g><g class=\"mark-area role-mark marks\" role=\"graphics-object\" aria-roledescription=\"area mark container\"><path aria-label=\"year: 5; xk: 0; variable: x16\" role=\"graphics-symbol\" aria-roledescription=\"area mark\" d=\"M25,18.181818181818187L50,18.18181818181821L75,18.181818181808417L100,18.181818181818187L125,18.181818181818187L150,18.181818181818187L175,83.46828394894645L175,83.46828394894645L150,18.181818181818187L125,18.181818181818187L100,18.181818181818187L75,18.181818181808417L50,18.18181818181821L25,18.181818181818187Z\" fill=\"#ff9da6\"/></g></g><path class=\"foreground\" aria-hidden=\"true\" d=\"\" display=\"none\"/></g><g transform=\"translate(0,0)\"><path class=\"background\" aria-hidden=\"true\" d=\"M0,0h200v200h-200Z\"/><g><g class=\"mark-area role-mark marks\" role=\"graphics-object\" aria-roledescription=\"area mark container\"><path aria-label=\"year: 5; xk: 0; variable: x17\" role=\"graphics-symbol\" aria-roledescription=\"area mark\" d=\"M25,18.181818181818187L50,18.18181818181821L75,18.181818181808417L100,18.181818181818187L125,18.181818181818187L150,18.181818181818187L175,83.46828394894645L175,83.46828394894645L150,18.181818181818187L125,18.181818181818187L100,18.181818181818187L75,18.181818181808417L50,18.18181818181821L25,18.181818181818187Z\" fill=\"#9d755d\"/></g></g><path class=\"foreground\" aria-hidden=\"true\" d=\"\" display=\"none\"/></g><g transform=\"translate(0,0)\"><path class=\"background\" aria-hidden=\"true\" d=\"M0,0h200v200h-200Z\"/><g><g class=\"mark-area role-mark marks\" role=\"graphics-object\" aria-roledescription=\"area mark container\"><path aria-label=\"year: 5; xk: 0; variable: x18\" role=\"graphics-symbol\" aria-roledescription=\"area mark\" d=\"M25,18.181818181818187L50,18.18181818181821L75,18.181818181808417L100,18.181818181818187L125,18.181818181818187L150,18.181818181818187L175,83.46828394894645L175,83.46828394894645L150,18.181818181818187L125,18.181818181818187L100,18.181818181818187L75,18.181818181808417L50,18.18181818181821L25,18.181818181818187Z\" fill=\"#bab0ac\"/></g></g><path class=\"foreground\" aria-hidden=\"true\" d=\"\" display=\"none\"/></g><g transform=\"translate(0,0)\"><path class=\"background\" aria-hidden=\"true\" d=\"M0,0h200v200h-200Z\"/><g><g class=\"mark-area role-mark marks\" role=\"graphics-object\" aria-roledescription=\"area mark container\"><path aria-label=\"year: 5; xk: 0; variable: x19\" role=\"graphics-symbol\" aria-roledescription=\"area mark\" d=\"M25,18.181818181818187L50,18.18181818181821L75,18.181818181808417L100,18.181818181818187L125,18.181818181818187L150,18.181818181818187L175,83.46828394894645L175,83.46828394894645L150,18.181818181818187L125,18.181818181818187L100,18.181818181818187L75,18.181818181808417L50,18.18181818181821L25,18.181818181818187Z\" fill=\"#4c78a8\"/></g></g><path class=\"foreground\" aria-hidden=\"true\" d=\"\" display=\"none\"/></g><g transform=\"translate(0,0)\"><path class=\"background\" aria-hidden=\"true\" d=\"M0,0h200v200h-200Z\"/><g><g class=\"mark-area role-mark marks\" role=\"graphics-object\" aria-roledescription=\"area mark container\"><path aria-label=\"year: 5; xk: 0; variable: x20\" role=\"graphics-symbol\" aria-roledescription=\"area mark\" d=\"M25,18.181818181818187L50,18.18181818181821L75,18.181818181808417L100,18.181818181818187L125,18.181818181818187L150,18.181818181818187L175,83.46828394894645L175,83.46828394894645L150,18.181818181818187L125,18.181818181818187L100,18.181818181818187L75,18.181818181808417L50,18.18181818181821L25,18.181818181818187Z\" fill=\"#e45756\"/></g></g><path class=\"foreground\" aria-hidden=\"true\" d=\"\" display=\"none\"/></g><g transform=\"translate(0,0)\"><path class=\"background\" aria-hidden=\"true\" d=\"M0,0h200v200h-200Z\"/><g><g class=\"mark-area role-mark marks\" role=\"graphics-object\" aria-roledescription=\"area mark container\"><path aria-label=\"year: 5; xk: 0; variable: x21\" role=\"graphics-symbol\" aria-roledescription=\"area mark\" d=\"M25,18.181818181818187L50,18.18181818181821L75,18.181818181808417L100,18.181818181818187L125,18.181818181818187L150,18.181818181818187L175,83.46828394894645L175,83.46828394894645L150,18.181818181818187L125,18.181818181818187L100,18.181818181818187L75,18.181818181808417L50,18.18181818181821L25,18.181818181818187Z\" fill=\"#72b7b2\"/></g></g><path class=\"foreground\" aria-hidden=\"true\" d=\"\" display=\"none\"/></g><g transform=\"translate(0,0)\"><path class=\"background\" aria-hidden=\"true\" d=\"M0,0h200v200h-200Z\"/><g><g class=\"mark-area role-mark marks\" role=\"graphics-object\" aria-roledescription=\"area mark container\"><path aria-label=\"year: 5; xk: 0; variable: x22\" role=\"graphics-symbol\" aria-roledescription=\"area mark\" d=\"M25,200L50,27.272727272727295L75,18.181818181808417L100,18.181818181818187L125,18.181818181818187L150,18.181818181818187L175,83.46828394894645L175,83.46828394894645L150,18.181818181818187L125,18.181818181818187L100,18.181818181818187L75,18.181818181808417L50,27.272727272727295L25,200Z\" fill=\"#54a24b\"/></g></g><path class=\"foreground\" aria-hidden=\"true\" d=\"\" display=\"none\"/></g><g transform=\"translate(0,0)\"><path class=\"background\" aria-hidden=\"true\" d=\"M0,0h200v200h-200Z\"/><g><g class=\"mark-area role-mark marks\" role=\"graphics-object\" aria-roledescription=\"area mark container\"><path aria-label=\"year: 5; xk: 0; variable: x23\" role=\"graphics-symbol\" aria-roledescription=\"area mark\" d=\"M25,200L50,27.272727272727295L75,131.02853543794768L100,134.3674205343163L125,134.3674205343163L150,200L175,200L175,200L150,200L125,134.3674205343163L100,134.3674205343163L75,131.02853543794768L50,27.272727272727295L25,200Z\" fill=\"#eeca3b\"/></g></g><path class=\"foreground\" aria-hidden=\"true\" d=\"\" display=\"none\"/></g><g transform=\"translate(0,0)\"><path class=\"background\" aria-hidden=\"true\" d=\"M0,0h200v200h-200Z\"/><g><g class=\"mark-area role-mark marks\" role=\"graphics-object\" aria-roledescription=\"area mark container\"><path aria-label=\"year: 5; xk: 0; variable: x24\" role=\"graphics-symbol\" aria-roledescription=\"area mark\" d=\"M25,200L50,27.272727272727295L75,131.02853543794768L100,134.3674205343163L125,134.3674205343163L150,200L175,200L175,200L150,200L125,134.3674205343163L100,134.3674205343163L75,131.02853543794768L50,27.272727272727295L25,200Z\" fill=\"#b279a2\"/></g></g><path class=\"foreground\" aria-hidden=\"true\" d=\"\" display=\"none\"/></g><g transform=\"translate(0,0)\"><path class=\"background\" aria-hidden=\"true\" d=\"M0,0h200v200h-200Z\"/><g><g class=\"mark-area role-mark marks\" role=\"graphics-object\" aria-roledescription=\"area mark container\"><path aria-label=\"year: 5; xk: 0; variable: x25\" role=\"graphics-symbol\" aria-roledescription=\"area mark\" d=\"M25,200L50,27.272727272727295L75,131.02853543794768L100,134.3674205343163L125,134.3674205343163L150,200L175,200L175,200L150,200L125,134.3674205343163L100,134.3674205343163L75,131.02853543794768L50,27.272727272727295L25,200Z\" fill=\"#9d755d\"/></g></g><path class=\"foreground\" aria-hidden=\"true\" d=\"\" display=\"none\"/></g><g transform=\"translate(0,0)\"><path class=\"background\" aria-hidden=\"true\" d=\"M0,0h200v200h-200Z\"/><g><g class=\"mark-area role-mark marks\" role=\"graphics-object\" aria-roledescription=\"area mark container\"><path aria-label=\"year: 5; xk: 0; variable: x26\" role=\"graphics-symbol\" aria-roledescription=\"area mark\" d=\"M25,200L50,27.272727272727295L75,131.02853543794768L100,134.3674205343163L125,134.3674205343163L150,200L175,200L175,200L150,200L125,134.3674205343163L100,134.3674205343163L75,131.02853543794768L50,27.272727272727295L25,200Z\" fill=\"#bab0ac\"/></g></g><path class=\"foreground\" aria-hidden=\"true\" d=\"\" display=\"none\"/></g><g transform=\"translate(0,0)\"><path class=\"background\" aria-hidden=\"true\" d=\"M0,0h200v200h-200Z\"/><g><g class=\"mark-area role-mark marks\" role=\"graphics-object\" aria-roledescription=\"area mark container\"><path aria-label=\"year: 5; xk: 0; variable: x27\" role=\"graphics-symbol\" aria-roledescription=\"area mark\" d=\"M25,200L50,27.272727272727295L75,131.02853543794768L100,134.3674205343163L125,134.3674205343163L150,200L175,200L175,200L150,200L125,134.3674205343163L100,134.3674205343163L75,131.02853543794768L50,27.272727272727295L25,200Z\" fill=\"#4c78a8\"/></g></g><path class=\"foreground\" aria-hidden=\"true\" d=\"\" display=\"none\"/></g><g transform=\"translate(0,0)\"><path class=\"background\" aria-hidden=\"true\" d=\"M0,0h200v200h-200Z\"/><g><g class=\"mark-area role-mark marks\" role=\"graphics-object\" aria-roledescription=\"area mark container\"><path aria-label=\"year: 5; xk: 0; variable: x28\" role=\"graphics-symbol\" aria-roledescription=\"area mark\" d=\"M25,200L50,27.272727272727295L75,131.02853543794768L100,134.3674205343163L125,134.3674205343163L150,200L175,200L175,200L150,200L125,134.3674205343163L100,134.3674205343163L75,131.02853543794768L50,27.272727272727295L25,200Z\" fill=\"#f58518\"/></g></g><path class=\"foreground\" aria-hidden=\"true\" d=\"\" display=\"none\"/></g><g transform=\"translate(0,0)\"><path class=\"background\" aria-hidden=\"true\" d=\"M0,0h200v200h-200Z\"/><g><g class=\"mark-area role-mark marks\" role=\"graphics-object\" aria-roledescription=\"area mark container\"><path aria-label=\"year: 5; xk: 0; variable: x29\" role=\"graphics-symbol\" aria-roledescription=\"area mark\" d=\"M25,200L50,27.272727272727295L75,131.02853543794768L100,134.3674205343163L125,134.3674205343163L150,200L175,200L175,200L150,200L125,134.3674205343163L100,134.3674205343163L75,131.02853543794768L50,27.272727272727295L25,200Z\" fill=\"#e45756\"/></g></g><path class=\"foreground\" aria-hidden=\"true\" d=\"\" display=\"none\"/></g><g transform=\"translate(0,0)\"><path class=\"background\" aria-hidden=\"true\" d=\"M0,0h200v200h-200Z\"/><g><g class=\"mark-area role-mark marks\" role=\"graphics-object\" aria-roledescription=\"area mark container\"><path aria-label=\"year: 5; xk: 0; variable: x30\" role=\"graphics-symbol\" aria-roledescription=\"area mark\" d=\"M25,200L50,27.272727272727295L75,131.02853543794768L100,134.3674205343163L125,134.3674205343163L150,200L175,200L175,200L150,200L125,134.3674205343163L100,134.3674205343163L75,131.02853543794768L50,27.272727272727295L25,200Z\" fill=\"#54a24b\"/></g></g><path class=\"foreground\" aria-hidden=\"true\" d=\"\" display=\"none\"/></g><g transform=\"translate(0,0)\"><path class=\"background\" aria-hidden=\"true\" d=\"M0,0h200v200h-200Z\"/><g><g class=\"mark-area role-mark marks\" role=\"graphics-object\" aria-roledescription=\"area mark container\"><path aria-label=\"year: 5; xk: 0; variable: x31\" role=\"graphics-symbol\" aria-roledescription=\"area mark\" d=\"M25,200L50,27.272727272727295L75,131.02853543794768L100,134.3674205343163L125,134.3674205343163L150,200L175,200L175,200L150,200L125,134.3674205343163L100,134.3674205343163L75,131.02853543794768L50,27.272727272727295L25,200Z\" fill=\"#eeca3b\"/></g></g><path class=\"foreground\" aria-hidden=\"true\" d=\"\" display=\"none\"/></g><g transform=\"translate(0,0)\"><path class=\"background\" aria-hidden=\"true\" d=\"M0,0h200v200h-200Z\"/><g><g class=\"mark-area role-mark marks\" role=\"graphics-object\" aria-roledescription=\"area mark container\"><path aria-label=\"year: 5; xk: 0; variable: x32\" role=\"graphics-symbol\" aria-roledescription=\"area mark\" d=\"M25,200L50,27.272727272727295L75,131.02853543794768L100,134.3674205343163L125,134.3674205343163L150,200L175,200L175,200L150,200L125,134.3674205343163L100,134.3674205343163L75,131.02853543794768L50,27.272727272727295L25,200Z\" fill=\"#b279a2\"/></g></g><path class=\"foreground\" aria-hidden=\"true\" d=\"\" display=\"none\"/></g><g transform=\"translate(0,0)\"><path class=\"background\" aria-hidden=\"true\" d=\"M0,0h200v200h-200Z\"/><g><g class=\"mark-area role-mark marks\" role=\"graphics-object\" aria-roledescription=\"area mark container\"><path aria-label=\"year: 5; xk: 0; variable: x33\" role=\"graphics-symbol\" aria-roledescription=\"area mark\" d=\"M25,200L50,27.272727272727295L75,131.02853543794768L100,134.3674205343163L125,134.3674205343163L150,200L175,200L175,200L150,200L125,134.3674205343163L100,134.3674205343163L75,131.02853543794768L50,27.272727272727295L25,200Z\" fill=\"#ff9da6\"/></g></g><path class=\"foreground\" aria-hidden=\"true\" d=\"\" display=\"none\"/></g><g transform=\"translate(0,0)\"><path class=\"background\" aria-hidden=\"true\" d=\"M0,0h200v200h-200Z\"/><g><g class=\"mark-area role-mark marks\" role=\"graphics-object\" aria-roledescription=\"area mark container\"><path aria-label=\"year: 5; xk: 0; variable: x34\" role=\"graphics-symbol\" aria-roledescription=\"area mark\" d=\"M25,200L50,27.272727272727295L75,131.02853543794768L100,134.3674205343163L125,134.3674205343163L150,200L175,200L175,200L150,200L125,134.3674205343163L100,134.3674205343163L75,131.02853543794768L50,27.272727272727295L25,200Z\" fill=\"#9d755d\"/></g></g><path class=\"foreground\" aria-hidden=\"true\" d=\"\" display=\"none\"/></g><g transform=\"translate(0,0)\"><path class=\"background\" aria-hidden=\"true\" d=\"M0,0h200v200h-200Z\"/><g><g class=\"mark-area role-mark marks\" role=\"graphics-object\" aria-roledescription=\"area mark container\"><path aria-label=\"year: 5; xk: 0; variable: x35\" role=\"graphics-symbol\" aria-roledescription=\"area mark\" d=\"M25,200L50,27.272727272727295L75,131.02853543794768L100,134.3674205343163L125,134.3674205343163L150,200L175,200L175,200L150,200L125,134.3674205343163L100,134.3674205343163L75,131.02853543794768L50,27.272727272727295L25,200Z\" fill=\"#bab0ac\"/></g></g><path class=\"foreground\" aria-hidden=\"true\" d=\"\" display=\"none\"/></g><g transform=\"translate(0,0)\"><path class=\"background\" aria-hidden=\"true\" d=\"M0,0h200v200h-200Z\"/><g><g class=\"mark-area role-mark marks\" role=\"graphics-object\" aria-roledescription=\"area mark container\"><path aria-label=\"year: 5; xk: 0; variable: x36\" role=\"graphics-symbol\" aria-roledescription=\"area mark\" d=\"M25,200L50,27.272727272727295L75,131.02853543794768L100,134.3674205343163L125,134.3674205343163L150,200L175,200L175,200L150,200L125,134.3674205343163L100,134.3674205343163L75,131.02853543794768L50,27.272727272727295L25,200Z\" fill=\"#4c78a8\"/></g></g><path class=\"foreground\" aria-hidden=\"true\" d=\"\" display=\"none\"/></g><g transform=\"translate(0,0)\"><path class=\"background\" aria-hidden=\"true\" d=\"M0,0h200v200h-200Z\"/><g><g class=\"mark-area role-mark marks\" role=\"graphics-object\" aria-roledescription=\"area mark container\"><path aria-label=\"year: 5; xk: 0; variable: x37\" role=\"graphics-symbol\" aria-roledescription=\"area mark\" d=\"M25,200L50,27.272727272727295L75,131.02853543794768L100,134.3674205343163L125,134.3674205343163L150,200L175,200L175,200L150,200L125,134.3674205343163L100,134.3674205343163L75,131.02853543794768L50,27.272727272727295L25,200Z\" fill=\"#f58518\"/></g></g><path class=\"foreground\" aria-hidden=\"true\" d=\"\" display=\"none\"/></g><g transform=\"translate(0,0)\"><path class=\"background\" aria-hidden=\"true\" d=\"M0,0h200v200h-200Z\"/><g><g class=\"mark-area role-mark marks\" role=\"graphics-object\" aria-roledescription=\"area mark container\"><path aria-label=\"year: 5; xk: 0; variable: x38\" role=\"graphics-symbol\" aria-roledescription=\"area mark\" d=\"M25,200L50,27.272727272727295L75,131.02853543794768L100,134.3674205343163L125,134.3674205343163L150,200L175,200L175,200L150,200L125,134.3674205343163L100,134.3674205343163L75,131.02853543794768L50,27.272727272727295L25,200Z\" fill=\"#e45756\"/></g></g><path class=\"foreground\" aria-hidden=\"true\" d=\"\" display=\"none\"/></g><g transform=\"translate(0,0)\"><path class=\"background\" aria-hidden=\"true\" d=\"M0,0h200v200h-200Z\"/><g><g class=\"mark-area role-mark marks\" role=\"graphics-object\" aria-roledescription=\"area mark container\"><path aria-label=\"year: 5; xk: 0; variable: x39\" role=\"graphics-symbol\" aria-roledescription=\"area mark\" d=\"M25,200L50,27.272727272727295L75,131.02853543794768L100,134.3674205343163L125,134.3674205343163L150,200L175,200L175,200L150,200L125,134.3674205343163L100,134.3674205343163L75,131.02853543794768L50,27.272727272727295L25,200Z\" fill=\"#72b7b2\"/></g></g><path class=\"foreground\" aria-hidden=\"true\" d=\"\" display=\"none\"/></g><g transform=\"translate(0,0)\"><path class=\"background\" aria-hidden=\"true\" d=\"M0,0h200v200h-200Z\"/><g><g class=\"mark-area role-mark marks\" role=\"graphics-object\" aria-roledescription=\"area mark container\"><path aria-label=\"year: 5; xk: 0; variable: x40\" role=\"graphics-symbol\" aria-roledescription=\"area mark\" d=\"M25,200L50,27.272727272727295L75,131.02853543794768L100,134.3674205343163L125,134.3674205343163L150,200L175,200L175,200L150,200L125,134.3674205343163L100,134.3674205343163L75,131.02853543794768L50,27.272727272727295L25,200Z\" fill=\"#eeca3b\"/></g></g><path class=\"foreground\" aria-hidden=\"true\" d=\"\" display=\"none\"/></g><g transform=\"translate(0,0)\"><path class=\"background\" aria-hidden=\"true\" d=\"M0,0h200v200h-200Z\"/><g><g class=\"mark-area role-mark marks\" role=\"graphics-object\" aria-roledescription=\"area mark container\"><path aria-label=\"year: 5; xk: 0; variable: x41\" role=\"graphics-symbol\" aria-roledescription=\"area mark\" d=\"M25,200L50,27.272727272727295L75,131.02853543794768L100,134.3674205343163L125,134.3674205343163L150,200L175,200L175,200L150,200L125,134.3674205343163L100,134.3674205343163L75,131.02853543794768L50,27.272727272727295L25,200Z\" fill=\"#b279a2\"/></g></g><path class=\"foreground\" aria-hidden=\"true\" d=\"\" display=\"none\"/></g><g transform=\"translate(0,0)\"><path class=\"background\" aria-hidden=\"true\" d=\"M0,0h200v200h-200Z\"/><g><g class=\"mark-area role-mark marks\" role=\"graphics-object\" aria-roledescription=\"area mark container\"><path aria-label=\"year: 5; xk: 0; variable: x42\" role=\"graphics-symbol\" aria-roledescription=\"area mark\" d=\"M25,200L50,27.272727272727295L75,131.02853543794768L100,134.3674205343163L125,134.3674205343163L150,200L175,200L175,200L150,200L125,134.3674205343163L100,134.3674205343163L75,131.02853543794768L50,27.272727272727295L25,200Z\" fill=\"#ff9da6\"/></g></g><path class=\"foreground\" aria-hidden=\"true\" d=\"\" display=\"none\"/></g><g transform=\"translate(0,0)\"><path class=\"background\" aria-hidden=\"true\" d=\"M0,0h200v200h-200Z\"/><g><g class=\"mark-area role-mark marks\" role=\"graphics-object\" aria-roledescription=\"area mark container\"><path aria-label=\"year: 5; xk: 0; variable: x43\" role=\"graphics-symbol\" aria-roledescription=\"area mark\" d=\"M25,200L50,27.272727272727295L75,131.02853543794768L100,134.3674205343163L125,134.3674205343163L150,200L175,200L175,200L150,200L125,134.3674205343163L100,134.3674205343163L75,131.02853543794768L50,27.272727272727295L25,200Z\" fill=\"#9d755d\"/></g></g><path class=\"foreground\" aria-hidden=\"true\" d=\"\" display=\"none\"/></g><g transform=\"translate(0,0)\"><path class=\"background\" aria-hidden=\"true\" d=\"M0,0h200v200h-200Z\"/><g><g class=\"mark-area role-mark marks\" role=\"graphics-object\" aria-roledescription=\"area mark container\"><path aria-label=\"year: 5; xk: 0; variable: x44\" role=\"graphics-symbol\" aria-roledescription=\"area mark\" d=\"M25,200L50,27.272727272727295L75,131.02853543794768L100,134.3674205343163L125,134.3674205343163L150,200L175,200L175,200L150,200L125,134.3674205343163L100,134.3674205343163L75,131.02853543794768L50,27.272727272727295L25,200Z\" fill=\"#bab0ac\"/></g></g><path class=\"foreground\" aria-hidden=\"true\" d=\"\" display=\"none\"/></g><g transform=\"translate(0,0)\"><path class=\"background\" aria-hidden=\"true\" d=\"M0,0h200v200h-200Z\"/><g><g class=\"mark-area role-mark marks\" role=\"graphics-object\" aria-roledescription=\"area mark container\"><path aria-label=\"year: 5; xk: 0; variable: x45\" role=\"graphics-symbol\" aria-roledescription=\"area mark\" d=\"M25,200L50,27.272727272727295L75,131.02853543794768L100,134.3674205343163L125,134.3674205343163L150,200L175,200L175,200L150,200L125,134.3674205343163L100,134.3674205343163L75,131.02853543794768L50,27.272727272727295L25,200Z\" fill=\"#4c78a8\"/></g></g><path class=\"foreground\" aria-hidden=\"true\" d=\"\" display=\"none\"/></g><g transform=\"translate(0,0)\"><path class=\"background\" aria-hidden=\"true\" d=\"M0,0h200v200h-200Z\"/><g><g class=\"mark-area role-mark marks\" role=\"graphics-object\" aria-roledescription=\"area mark container\"><path aria-label=\"year: 5; xk: 0; variable: x46\" role=\"graphics-symbol\" aria-roledescription=\"area mark\" d=\"M25,200L50,27.272727272727295L75,131.02853543794768L100,134.3674205343163L125,134.3674205343163L150,200L175,200L175,200L150,200L125,134.3674205343163L100,134.3674205343163L75,131.02853543794768L50,27.272727272727295L25,200Z\" fill=\"#f58518\"/></g></g><path class=\"foreground\" aria-hidden=\"true\" d=\"\" display=\"none\"/></g><g transform=\"translate(0,0)\"><path class=\"background\" aria-hidden=\"true\" d=\"M0,0h200v200h-200Z\"/><g><g class=\"mark-area role-mark marks\" role=\"graphics-object\" aria-roledescription=\"area mark container\"><path aria-label=\"year: 5; xk: 0; variable: x47\" role=\"graphics-symbol\" aria-roledescription=\"area mark\" d=\"M25,200L50,27.272727272727295L75,131.02853543794768L100,134.3674205343163L125,134.3674205343163L150,200L175,200L175,200L150,200L125,134.3674205343163L100,134.3674205343163L75,131.02853543794768L50,27.272727272727295L25,200Z\" fill=\"#e45756\"/></g></g><path class=\"foreground\" aria-hidden=\"true\" d=\"\" display=\"none\"/></g><g transform=\"translate(0,0)\"><path class=\"background\" aria-hidden=\"true\" d=\"M0,0h200v200h-200Z\"/><g><g class=\"mark-area role-mark marks\" role=\"graphics-object\" aria-roledescription=\"area mark container\"><path aria-label=\"year: 5; xk: 0; variable: x48\" role=\"graphics-symbol\" aria-roledescription=\"area mark\" d=\"M25,200L50,27.272727272727295L75,131.02853543794768L100,134.3674205343163L125,134.3674205343163L150,200L175,200L175,200L150,200L125,134.3674205343163L100,134.3674205343163L75,131.02853543794768L50,27.272727272727295L25,200Z\" fill=\"#72b7b2\"/></g></g><path class=\"foreground\" aria-hidden=\"true\" d=\"\" display=\"none\"/></g><g transform=\"translate(0,0)\"><path class=\"background\" aria-hidden=\"true\" d=\"M0,0h200v200h-200Z\"/><g><g class=\"mark-area role-mark marks\" role=\"graphics-object\" aria-roledescription=\"area mark container\"><path aria-label=\"year: 5; xk: 0; variable: x49\" role=\"graphics-symbol\" aria-roledescription=\"area mark\" d=\"M25,200L50,27.272727272727295L75,131.02853543794768L100,134.3674205343163L125,134.3674205343163L150,200L175,200L175,200L150,200L125,134.3674205343163L100,134.3674205343163L75,131.02853543794768L50,27.272727272727295L25,200Z\" fill=\"#54a24b\"/></g></g><path class=\"foreground\" aria-hidden=\"true\" d=\"\" display=\"none\"/></g><g transform=\"translate(0,0)\"><path class=\"background\" aria-hidden=\"true\" d=\"M0,0h200v200h-200Z\"/><g><g class=\"mark-area role-mark marks\" role=\"graphics-object\" aria-roledescription=\"area mark container\"><path aria-label=\"year: 5; xk: 0; variable: x50\" role=\"graphics-symbol\" aria-roledescription=\"area mark\" d=\"M25,200L50,27.272727272727295L75,131.02853543794768L100,134.3674205343163L125,134.3674205343163L150,200L175,200L175,200L150,200L125,134.3674205343163L100,134.3674205343163L75,131.02853543794768L50,27.272727272727295L25,200Z\" fill=\"#b279a2\"/></g></g><path class=\"foreground\" aria-hidden=\"true\" d=\"\" display=\"none\"/></g><g transform=\"translate(0,0)\"><path class=\"background\" aria-hidden=\"true\" d=\"M0,0h200v200h-200Z\"/><g><g class=\"mark-area role-mark marks\" role=\"graphics-object\" aria-roledescription=\"area mark container\"><path aria-label=\"year: 5; xk: 0; variable: x51\" role=\"graphics-symbol\" aria-roledescription=\"area mark\" d=\"M25,200L50,27.272727272727295L75,131.02853543794768L100,134.3674205343163L125,134.3674205343163L150,200L175,200L175,200L150,200L125,134.3674205343163L100,134.3674205343163L75,131.02853543794768L50,27.272727272727295L25,200Z\" fill=\"#ff9da6\"/></g></g><path class=\"foreground\" aria-hidden=\"true\" d=\"\" display=\"none\"/></g><g transform=\"translate(0,0)\"><path class=\"background\" aria-hidden=\"true\" d=\"M0,0h200v200h-200Z\"/><g><g class=\"mark-area role-mark marks\" role=\"graphics-object\" aria-roledescription=\"area mark container\"><path aria-label=\"year: 5; xk: 0; variable: x52\" role=\"graphics-symbol\" aria-roledescription=\"area mark\" d=\"M25,200L50,27.272727272727295L75,131.02853543794768L100,134.3674205343163L125,134.3674205343163L150,200L175,200L175,200L150,200L125,134.3674205343163L100,134.3674205343163L75,131.02853543794768L50,27.272727272727295L25,200Z\" fill=\"#9d755d\"/></g></g><path class=\"foreground\" aria-hidden=\"true\" d=\"\" display=\"none\"/></g><g transform=\"translate(0,0)\"><path class=\"background\" aria-hidden=\"true\" d=\"M0,0h200v200h-200Z\"/><g><g class=\"mark-area role-mark marks\" role=\"graphics-object\" aria-roledescription=\"area mark container\"><path aria-label=\"year: 5; xk: 0; variable: x53\" role=\"graphics-symbol\" aria-roledescription=\"area mark\" d=\"M25,200L50,27.272727272727295L75,131.02853543794768L100,134.3674205343163L125,134.3674205343163L150,200L175,200L175,200L150,200L125,134.3674205343163L100,134.3674205343163L75,131.02853543794768L50,27.272727272727295L25,200Z\" fill=\"#bab0ac\"/></g></g><path class=\"foreground\" aria-hidden=\"true\" d=\"\" display=\"none\"/></g><g transform=\"translate(0,0)\"><path class=\"background\" aria-hidden=\"true\" d=\"M0,0h200v200h-200Z\"/><g><g class=\"mark-area role-mark marks\" role=\"graphics-object\" aria-roledescription=\"area mark container\"><path aria-label=\"year: 5; xk: 0; variable: x54\" role=\"graphics-symbol\" aria-roledescription=\"area mark\" d=\"M25,200L50,27.272727272727295L75,131.02853543794768L100,134.3674205343163L125,134.3674205343163L150,200L175,200L175,200L150,200L125,134.3674205343163L100,134.3674205343163L75,131.02853543794768L50,27.272727272727295L25,200Z\" fill=\"#4c78a8\"/></g></g><path class=\"foreground\" aria-hidden=\"true\" d=\"\" display=\"none\"/></g><g transform=\"translate(0,0)\"><path class=\"background\" aria-hidden=\"true\" d=\"M0,0h200v200h-200Z\"/><g><g class=\"mark-area role-mark marks\" role=\"graphics-object\" aria-roledescription=\"area mark container\"><path aria-label=\"year: 5; xk: 0; variable: x55\" role=\"graphics-symbol\" aria-roledescription=\"area mark\" d=\"M25,200L50,27.272727272727295L75,131.02853543794768L100,134.3674205343163L125,134.3674205343163L150,200L175,200L175,200L150,200L125,134.3674205343163L100,134.3674205343163L75,131.02853543794768L50,27.272727272727295L25,200Z\" fill=\"#f58518\"/></g></g><path class=\"foreground\" aria-hidden=\"true\" d=\"\" display=\"none\"/></g><g transform=\"translate(0,0)\"><path class=\"background\" aria-hidden=\"true\" d=\"M0,0h200v200h-200Z\"/><g><g class=\"mark-area role-mark marks\" role=\"graphics-object\" aria-roledescription=\"area mark container\"><path aria-label=\"year: 5; xk: 0; variable: x56\" role=\"graphics-symbol\" aria-roledescription=\"area mark\" d=\"M25,200L50,27.272727272727295L75,131.02853543794768L100,134.3674205343163L125,134.3674205343163L150,200L175,200L175,200L150,200L125,134.3674205343163L100,134.3674205343163L75,131.02853543794768L50,27.272727272727295L25,200Z\" fill=\"#e45756\"/></g></g><path class=\"foreground\" aria-hidden=\"true\" d=\"\" display=\"none\"/></g><g transform=\"translate(0,0)\"><path class=\"background\" aria-hidden=\"true\" d=\"M0,0h200v200h-200Z\"/><g><g class=\"mark-area role-mark marks\" role=\"graphics-object\" aria-roledescription=\"area mark container\"><path aria-label=\"year: 5; xk: 0; variable: x57\" role=\"graphics-symbol\" aria-roledescription=\"area mark\" d=\"M25,200L50,27.272727272727295L75,131.02853543794768L100,134.3674205343163L125,134.3674205343163L150,200L175,200L175,200L150,200L125,134.3674205343163L100,134.3674205343163L75,131.02853543794768L50,27.272727272727295L25,200Z\" fill=\"#72b7b2\"/></g></g><path class=\"foreground\" aria-hidden=\"true\" d=\"\" display=\"none\"/></g><g transform=\"translate(0,0)\"><path class=\"background\" aria-hidden=\"true\" d=\"M0,0h200v200h-200Z\"/><g><g class=\"mark-area role-mark marks\" role=\"graphics-object\" aria-roledescription=\"area mark container\"><path aria-label=\"year: 5; xk: 0; variable: x58\" role=\"graphics-symbol\" aria-roledescription=\"area mark\" d=\"M25,200L50,27.272727272727295L75,131.02853543794768L100,134.3674205343163L125,134.3674205343163L150,200L175,200L175,200L150,200L125,134.3674205343163L100,134.3674205343163L75,131.02853543794768L50,27.272727272727295L25,200Z\" fill=\"#54a24b\"/></g></g><path class=\"foreground\" aria-hidden=\"true\" d=\"\" display=\"none\"/></g><g transform=\"translate(0,0)\"><path class=\"background\" aria-hidden=\"true\" d=\"M0,0h200v200h-200Z\"/><g><g class=\"mark-area role-mark marks\" role=\"graphics-object\" aria-roledescription=\"area mark container\"><path aria-label=\"year: 5; xk: 0; variable: x59\" role=\"graphics-symbol\" aria-roledescription=\"area mark\" d=\"M25,200L50,27.272727272727295L75,131.02853543794768L100,134.3674205343163L125,134.3674205343163L150,200L175,200L175,200L150,200L125,134.3674205343163L100,134.3674205343163L75,131.02853543794768L50,27.272727272727295L25,200Z\" fill=\"#eeca3b\"/></g></g><path class=\"foreground\" aria-hidden=\"true\" d=\"\" display=\"none\"/></g><g transform=\"translate(0,0)\"><path class=\"background\" aria-hidden=\"true\" d=\"M0,0h200v200h-200Z\"/><g><g class=\"mark-area role-mark marks\" role=\"graphics-object\" aria-roledescription=\"area mark container\"><path aria-label=\"year: 5; xk: 0; variable: x60\" role=\"graphics-symbol\" aria-roledescription=\"area mark\" d=\"M25,200L50,27.272727272727295L75,131.02853543794768L100,134.3674205343163L125,134.3674205343163L150,200L175,200L175,200L150,200L125,134.3674205343163L100,134.3674205343163L75,131.02853543794768L50,27.272727272727295L25,200Z\" fill=\"#ff9da6\"/></g></g><path class=\"foreground\" aria-hidden=\"true\" d=\"\" display=\"none\"/></g><g transform=\"translate(0,0)\"><path class=\"background\" aria-hidden=\"true\" d=\"M0,0h200v200h-200Z\"/><g><g class=\"mark-area role-mark marks\" role=\"graphics-object\" aria-roledescription=\"area mark container\"><path aria-label=\"year: 5; xk: 0; variable: x61\" role=\"graphics-symbol\" aria-roledescription=\"area mark\" d=\"M25,200L50,27.272727272727295L75,131.02853543794768L100,134.3674205343163L125,134.3674205343163L150,200L175,200L175,200L150,200L125,134.3674205343163L100,134.3674205343163L75,131.02853543794768L50,27.272727272727295L25,200Z\" fill=\"#9d755d\"/></g></g><path class=\"foreground\" aria-hidden=\"true\" d=\"\" display=\"none\"/></g><g transform=\"translate(0,0)\"><path class=\"background\" aria-hidden=\"true\" d=\"M0,0h200v200h-200Z\"/><g><g class=\"mark-area role-mark marks\" role=\"graphics-object\" aria-roledescription=\"area mark container\"><path aria-label=\"year: 5; xk: 0; variable: x62\" role=\"graphics-symbol\" aria-roledescription=\"area mark\" d=\"M25,200L50,27.272727272727295L75,131.02853543794768L100,134.3674205343163L125,134.3674205343163L150,200L175,200L175,200L150,200L125,134.3674205343163L100,134.3674205343163L75,131.02853543794768L50,27.272727272727295L25,200Z\" fill=\"#bab0ac\"/></g></g><path class=\"foreground\" aria-hidden=\"true\" d=\"\" display=\"none\"/></g><g transform=\"translate(0,0)\"><path class=\"background\" aria-hidden=\"true\" d=\"M0,0h200v200h-200Z\"/><g><g class=\"mark-area role-mark marks\" role=\"graphics-object\" aria-roledescription=\"area mark container\"><path aria-label=\"year: 5; xk: 0; variable: x63\" role=\"graphics-symbol\" aria-roledescription=\"area mark\" d=\"M25,200L50,27.272727272727295L75,131.02853543794768L100,134.3674205343163L125,134.3674205343163L150,200L175,200L175,200L150,200L125,134.3674205343163L100,134.3674205343163L75,131.02853543794768L50,27.272727272727295L25,200Z\" fill=\"#4c78a8\"/></g></g><path class=\"foreground\" aria-hidden=\"true\" d=\"\" display=\"none\"/></g><g transform=\"translate(0,0)\"><path class=\"background\" aria-hidden=\"true\" d=\"M0,0h200v200h-200Z\"/><g><g class=\"mark-area role-mark marks\" role=\"graphics-object\" aria-roledescription=\"area mark container\"><path aria-label=\"year: 5; xk: 0; variable: x64\" role=\"graphics-symbol\" aria-roledescription=\"area mark\" d=\"M25,200L50,27.272727272727295L75,131.02853543794768L100,134.3674205343163L125,134.3674205343163L150,200L175,200L175,200L150,200L125,134.3674205343163L100,134.3674205343163L75,131.02853543794768L50,27.272727272727295L25,200Z\" fill=\"#f58518\"/></g></g><path class=\"foreground\" aria-hidden=\"true\" d=\"\" display=\"none\"/></g><g transform=\"translate(0,0)\"><path class=\"background\" aria-hidden=\"true\" d=\"M0,0h200v200h-200Z\"/><g><g class=\"mark-area role-mark marks\" role=\"graphics-object\" aria-roledescription=\"area mark container\"><path aria-label=\"year: 5; xk: 0; variable: x65\" role=\"graphics-symbol\" aria-roledescription=\"area mark\" d=\"M25,200L50,27.272727272727295L75,131.02853543794768L100,134.3674205343163L125,134.3674205343163L150,200L175,200L175,200L150,200L125,134.3674205343163L100,134.3674205343163L75,131.02853543794768L50,27.272727272727295L25,200Z\" fill=\"#e45756\"/></g></g><path class=\"foreground\" aria-hidden=\"true\" d=\"\" display=\"none\"/></g><g transform=\"translate(0,0)\"><path class=\"background\" aria-hidden=\"true\" d=\"M0,0h200v200h-200Z\"/><g><g class=\"mark-area role-mark marks\" role=\"graphics-object\" aria-roledescription=\"area mark container\"><path aria-label=\"year: 5; xk: 0; variable: x66\" role=\"graphics-symbol\" aria-roledescription=\"area mark\" d=\"M25,200L50,27.272727272727295L75,131.02853543794768L100,134.3674205343163L125,134.3674205343163L150,200L175,200L175,200L150,200L125,134.3674205343163L100,134.3674205343163L75,131.02853543794768L50,27.272727272727295L25,200Z\" fill=\"#72b7b2\"/></g></g><path class=\"foreground\" aria-hidden=\"true\" d=\"\" display=\"none\"/></g><g transform=\"translate(0,0)\"><path class=\"background\" aria-hidden=\"true\" d=\"M0,0h200v200h-200Z\"/><g><g class=\"mark-area role-mark marks\" role=\"graphics-object\" aria-roledescription=\"area mark container\"><path aria-label=\"year: 5; xk: 0; variable: x67\" role=\"graphics-symbol\" aria-roledescription=\"area mark\" d=\"M25,200L50,27.272727272727295L75,131.02853543794768L100,134.3674205343163L125,134.3674205343163L150,200L175,200L175,200L150,200L125,134.3674205343163L100,134.3674205343163L75,131.02853543794768L50,27.272727272727295L25,200Z\" fill=\"#54a24b\"/></g></g><path class=\"foreground\" aria-hidden=\"true\" d=\"\" display=\"none\"/></g><g transform=\"translate(0,0)\"><path class=\"background\" aria-hidden=\"true\" d=\"M0,0h200v200h-200Z\"/><g><g class=\"mark-area role-mark marks\" role=\"graphics-object\" aria-roledescription=\"area mark container\"><path aria-label=\"year: 5; xk: 0; variable: x68\" role=\"graphics-symbol\" aria-roledescription=\"area mark\" d=\"M25,200L50,27.272727272727295L75,131.02853543794768L100,134.3674205343163L125,134.3674205343163L150,200L175,200L175,200L150,200L125,134.3674205343163L100,134.3674205343163L75,131.02853543794768L50,27.272727272727295L25,200Z\" fill=\"#eeca3b\"/></g></g><path class=\"foreground\" aria-hidden=\"true\" d=\"\" display=\"none\"/></g><g transform=\"translate(0,0)\"><path class=\"background\" aria-hidden=\"true\" d=\"M0,0h200v200h-200Z\"/><g><g class=\"mark-area role-mark marks\" role=\"graphics-object\" aria-roledescription=\"area mark container\"><path aria-label=\"year: 5; xk: 0; variable: x69\" role=\"graphics-symbol\" aria-roledescription=\"area mark\" d=\"M25,200L50,27.272727272727295L75,131.02853543794768L100,134.3674205343163L125,134.3674205343163L150,200L175,200L175,200L150,200L125,134.3674205343163L100,134.3674205343163L75,131.02853543794768L50,27.272727272727295L25,200Z\" fill=\"#b279a2\"/></g></g><path class=\"foreground\" aria-hidden=\"true\" d=\"\" display=\"none\"/></g><g transform=\"translate(0,0)\"><path class=\"background\" aria-hidden=\"true\" d=\"M0,0h200v200h-200Z\"/><g><g class=\"mark-area role-mark marks\" role=\"graphics-object\" aria-roledescription=\"area mark container\"><path aria-label=\"year: 5; xk: 0; variable: x70\" role=\"graphics-symbol\" aria-roledescription=\"area mark\" d=\"M25,200L50,27.272727272727295L75,131.02853543794768L100,134.3674205343163L125,134.3674205343163L150,200L175,200L175,200L150,200L125,134.3674205343163L100,134.3674205343163L75,131.02853543794768L50,27.272727272727295L25,200Z\" fill=\"#9d755d\"/></g></g><path class=\"foreground\" aria-hidden=\"true\" d=\"\" display=\"none\"/></g><g transform=\"translate(0,0)\"><path class=\"background\" aria-hidden=\"true\" d=\"M0,0h200v200h-200Z\"/><g><g class=\"mark-area role-mark marks\" role=\"graphics-object\" aria-roledescription=\"area mark container\"><path aria-label=\"year: 5; xk: 0; variable: x71\" role=\"graphics-symbol\" aria-roledescription=\"area mark\" d=\"M25,200L50,27.272727272727295L75,131.02853543794768L100,134.3674205343163L125,134.3674205343163L150,200L175,200L175,200L150,200L125,134.3674205343163L100,134.3674205343163L75,131.02853543794768L50,27.272727272727295L25,200Z\" fill=\"#bab0ac\"/></g></g><path class=\"foreground\" aria-hidden=\"true\" d=\"\" display=\"none\"/></g><g transform=\"translate(0,0)\"><path class=\"background\" aria-hidden=\"true\" d=\"M0,0h200v200h-200Z\"/><g><g class=\"mark-area role-mark marks\" role=\"graphics-object\" aria-roledescription=\"area mark container\"><path aria-label=\"year: 5; xk: 0; variable: x72\" role=\"graphics-symbol\" aria-roledescription=\"area mark\" d=\"M25,200L50,27.272727272727295L75,131.02853543794768L100,134.3674205343163L125,134.3674205343163L150,200L175,200L175,200L150,200L125,134.3674205343163L100,134.3674205343163L75,131.02853543794768L50,27.272727272727295L25,200Z\" fill=\"#4c78a8\"/></g></g><path class=\"foreground\" aria-hidden=\"true\" d=\"\" display=\"none\"/></g><g transform=\"translate(0,0)\"><path class=\"background\" aria-hidden=\"true\" d=\"M0,0h200v200h-200Z\"/><g><g class=\"mark-area role-mark marks\" role=\"graphics-object\" aria-roledescription=\"area mark container\"><path aria-label=\"year: 5; xk: 0; variable: x73\" role=\"graphics-symbol\" aria-roledescription=\"area mark\" d=\"M25,200L50,27.272727272727295L75,131.02853543794768L100,134.3674205343163L125,134.3674205343163L150,200L175,200L175,200L150,200L125,134.3674205343163L100,134.3674205343163L75,131.02853543794768L50,27.272727272727295L25,200Z\" fill=\"#f58518\"/></g></g><path class=\"foreground\" aria-hidden=\"true\" d=\"\" display=\"none\"/></g><g transform=\"translate(0,0)\"><path class=\"background\" aria-hidden=\"true\" d=\"M0,0h200v200h-200Z\"/><g><g class=\"mark-area role-mark marks\" role=\"graphics-object\" aria-roledescription=\"area mark container\"><path aria-label=\"year: 5; xk: 0; variable: x74\" role=\"graphics-symbol\" aria-roledescription=\"area mark\" d=\"M25,200L50,27.272727272727295L75,131.02853543794768L100,134.3674205343163L125,134.3674205343163L150,200L175,200L175,200L150,200L125,134.3674205343163L100,134.3674205343163L75,131.02853543794768L50,27.272727272727295L25,200Z\" fill=\"#e45756\"/></g></g><path class=\"foreground\" aria-hidden=\"true\" d=\"\" display=\"none\"/></g><g transform=\"translate(0,0)\"><path class=\"background\" aria-hidden=\"true\" d=\"M0,0h200v200h-200Z\"/><g><g class=\"mark-area role-mark marks\" role=\"graphics-object\" aria-roledescription=\"area mark container\"><path aria-label=\"year: 5; xk: 0; variable: x75\" role=\"graphics-symbol\" aria-roledescription=\"area mark\" d=\"M25,200L50,27.272727272727295L75,131.02853543794768L100,134.3674205343163L125,134.3674205343163L150,200L175,200L175,200L150,200L125,134.3674205343163L100,134.3674205343163L75,131.02853543794768L50,27.272727272727295L25,200Z\" fill=\"#72b7b2\"/></g></g><path class=\"foreground\" aria-hidden=\"true\" d=\"\" display=\"none\"/></g><g transform=\"translate(0,0)\"><path class=\"background\" aria-hidden=\"true\" d=\"M0,0h200v200h-200Z\"/><g><g class=\"mark-area role-mark marks\" role=\"graphics-object\" aria-roledescription=\"area mark container\"><path aria-label=\"year: 5; xk: 0; variable: x76\" role=\"graphics-symbol\" aria-roledescription=\"area mark\" d=\"M25,200L50,27.272727272727295L75,131.02853543794768L100,134.3674205343163L125,134.3674205343163L150,200L175,200L175,200L150,200L125,134.3674205343163L100,134.3674205343163L75,131.02853543794768L50,27.272727272727295L25,200Z\" fill=\"#54a24b\"/></g></g><path class=\"foreground\" aria-hidden=\"true\" d=\"\" display=\"none\"/></g><g transform=\"translate(0,0)\"><path class=\"background\" aria-hidden=\"true\" d=\"M0,0h200v200h-200Z\"/><g><g class=\"mark-area role-mark marks\" role=\"graphics-object\" aria-roledescription=\"area mark container\"><path aria-label=\"year: 5; xk: 0; variable: x77\" role=\"graphics-symbol\" aria-roledescription=\"area mark\" d=\"M25,200L50,27.272727272727295L75,131.02853543794768L100,134.3674205343163L125,134.3674205343163L150,200L175,200L175,200L150,200L125,134.3674205343163L100,134.3674205343163L75,131.02853543794768L50,27.272727272727295L25,200Z\" fill=\"#eeca3b\"/></g></g><path class=\"foreground\" aria-hidden=\"true\" d=\"\" display=\"none\"/></g><g transform=\"translate(0,0)\"><path class=\"background\" aria-hidden=\"true\" d=\"M0,0h200v200h-200Z\"/><g><g class=\"mark-area role-mark marks\" role=\"graphics-object\" aria-roledescription=\"area mark container\"><path aria-label=\"year: 5; xk: 0; variable: x78\" role=\"graphics-symbol\" aria-roledescription=\"area mark\" d=\"M25,200L50,27.272727272727295L75,131.02853543794768L100,134.3674205343163L125,134.3674205343163L150,200L175,200L175,200L150,200L125,134.3674205343163L100,134.3674205343163L75,131.02853543794768L50,27.272727272727295L25,200Z\" fill=\"#b279a2\"/></g></g><path class=\"foreground\" aria-hidden=\"true\" d=\"\" display=\"none\"/></g><g transform=\"translate(0,0)\"><path class=\"background\" aria-hidden=\"true\" d=\"M0,0h200v200h-200Z\"/><g><g class=\"mark-area role-mark marks\" role=\"graphics-object\" aria-roledescription=\"area mark container\"><path aria-label=\"year: 5; xk: 0; variable: x79\" role=\"graphics-symbol\" aria-roledescription=\"area mark\" d=\"M25,200L50,27.272727272727295L75,131.02853543794768L100,134.3674205343163L125,134.3674205343163L150,200L175,200L175,200L150,200L125,134.3674205343163L100,134.3674205343163L75,131.02853543794768L50,27.272727272727295L25,200Z\" fill=\"#ff9da6\"/></g></g><path class=\"foreground\" aria-hidden=\"true\" d=\"\" display=\"none\"/></g><g transform=\"translate(0,0)\"><path class=\"background\" aria-hidden=\"true\" d=\"M0,0h200v200h-200Z\"/><g><g class=\"mark-area role-mark marks\" role=\"graphics-object\" aria-roledescription=\"area mark container\"><path aria-label=\"year: 5; xk: 0; variable: x80\" role=\"graphics-symbol\" aria-roledescription=\"area mark\" d=\"M25,200L50,27.272727272727295L75,131.02853543794768L100,134.3674205343163L125,134.3674205343163L150,200L175,200L175,200L150,200L125,134.3674205343163L100,134.3674205343163L75,131.02853543794768L50,27.272727272727295L25,200Z\" fill=\"#bab0ac\"/></g></g><path class=\"foreground\" aria-hidden=\"true\" d=\"\" display=\"none\"/></g><g transform=\"translate(0,0)\"><path class=\"background\" aria-hidden=\"true\" d=\"M0,0h200v200h-200Z\"/><g><g class=\"mark-area role-mark marks\" role=\"graphics-object\" aria-roledescription=\"area mark container\"><path aria-label=\"year: 5; xk: 0; variable: x81\" role=\"graphics-symbol\" aria-roledescription=\"area mark\" d=\"M25,200L50,27.272727272727295L75,131.02853543794768L100,134.3674205343163L125,134.3674205343163L150,200L175,200L175,200L150,200L125,134.3674205343163L100,134.3674205343163L75,131.02853543794768L50,27.272727272727295L25,200Z\" fill=\"#4c78a8\"/></g></g><path class=\"foreground\" aria-hidden=\"true\" d=\"\" display=\"none\"/></g><g transform=\"translate(0,0)\"><path class=\"background\" aria-hidden=\"true\" d=\"M0,0h200v200h-200Z\"/><g><g class=\"mark-area role-mark marks\" role=\"graphics-object\" aria-roledescription=\"area mark container\"><path aria-label=\"year: 5; xk: 0; variable: x82\" role=\"graphics-symbol\" aria-roledescription=\"area mark\" d=\"M25,200L50,27.272727272727295L75,131.02853543794768L100,134.3674205343163L125,134.3674205343163L150,200L175,200L175,200L150,200L125,134.3674205343163L100,134.3674205343163L75,131.02853543794768L50,27.272727272727295L25,200Z\" fill=\"#f58518\"/></g></g><path class=\"foreground\" aria-hidden=\"true\" d=\"\" display=\"none\"/></g><g transform=\"translate(0,0)\"><path class=\"background\" aria-hidden=\"true\" d=\"M0,0h200v200h-200Z\"/><g><g class=\"mark-area role-mark marks\" role=\"graphics-object\" aria-roledescription=\"area mark container\"><path aria-label=\"year: 5; xk: 0; variable: x83\" role=\"graphics-symbol\" aria-roledescription=\"area mark\" d=\"M25,200L50,27.272727272727295L75,131.02853543794768L100,134.3674205343163L125,134.3674205343163L150,200L175,200L175,200L150,200L125,134.3674205343163L100,134.3674205343163L75,131.02853543794768L50,27.272727272727295L25,200Z\" fill=\"#e45756\"/></g></g><path class=\"foreground\" aria-hidden=\"true\" d=\"\" display=\"none\"/></g><g transform=\"translate(0,0)\"><path class=\"background\" aria-hidden=\"true\" d=\"M0,0h200v200h-200Z\"/><g><g class=\"mark-area role-mark marks\" role=\"graphics-object\" aria-roledescription=\"area mark container\"><path aria-label=\"year: 5; xk: 0; variable: x84\" role=\"graphics-symbol\" aria-roledescription=\"area mark\" d=\"M25,200L50,27.272727272727295L75,131.02853543794768L100,134.3674205343163L125,134.3674205343163L150,200L175,200L175,200L150,200L125,134.3674205343163L100,134.3674205343163L75,131.02853543794768L50,27.272727272727295L25,200Z\" fill=\"#72b7b2\"/></g></g><path class=\"foreground\" aria-hidden=\"true\" d=\"\" display=\"none\"/></g><g transform=\"translate(0,0)\"><path class=\"background\" aria-hidden=\"true\" d=\"M0,0h200v200h-200Z\"/><g><g class=\"mark-area role-mark marks\" role=\"graphics-object\" aria-roledescription=\"area mark container\"><path aria-label=\"year: 5; xk: 0; variable: x85\" role=\"graphics-symbol\" aria-roledescription=\"area mark\" d=\"M25,200L50,27.272727272727295L75,131.02853543794768L100,134.3674205343163L125,134.3674205343163L150,200L175,200L175,200L150,200L125,134.3674205343163L100,134.3674205343163L75,131.02853543794768L50,27.272727272727295L25,200Z\" fill=\"#54a24b\"/></g></g><path class=\"foreground\" aria-hidden=\"true\" d=\"\" display=\"none\"/></g><g transform=\"translate(0,0)\"><path class=\"background\" aria-hidden=\"true\" d=\"M0,0h200v200h-200Z\"/><g><g class=\"mark-area role-mark marks\" role=\"graphics-object\" aria-roledescription=\"area mark container\"><path aria-label=\"year: 5; xk: 0; variable: x86\" role=\"graphics-symbol\" aria-roledescription=\"area mark\" d=\"M25,200L50,27.272727272727295L75,131.02853543794768L100,134.3674205343163L125,134.3674205343163L150,200L175,200L175,200L150,200L125,134.3674205343163L100,134.3674205343163L75,131.02853543794768L50,27.272727272727295L25,200Z\" fill=\"#eeca3b\"/></g></g><path class=\"foreground\" aria-hidden=\"true\" d=\"\" display=\"none\"/></g><g transform=\"translate(0,0)\"><path class=\"background\" aria-hidden=\"true\" d=\"M0,0h200v200h-200Z\"/><g><g class=\"mark-area role-mark marks\" role=\"graphics-object\" aria-roledescription=\"area mark container\"><path aria-label=\"year: 5; xk: 0; variable: x87\" role=\"graphics-symbol\" aria-roledescription=\"area mark\" d=\"M25,200L50,27.272727272727295L75,131.02853543794768L100,134.3674205343163L125,134.3674205343163L150,200L175,200L175,200L150,200L125,134.3674205343163L100,134.3674205343163L75,131.02853543794768L50,27.272727272727295L25,200Z\" fill=\"#b279a2\"/></g></g><path class=\"foreground\" aria-hidden=\"true\" d=\"\" display=\"none\"/></g><g transform=\"translate(0,0)\"><path class=\"background\" aria-hidden=\"true\" d=\"M0,0h200v200h-200Z\"/><g><g class=\"mark-area role-mark marks\" role=\"graphics-object\" aria-roledescription=\"area mark container\"><path aria-label=\"year: 5; xk: 0; variable: x88\" role=\"graphics-symbol\" aria-roledescription=\"area mark\" d=\"M25,200L50,27.272727272727295L75,131.02853543794768L100,134.3674205343163L125,134.3674205343163L150,200L175,200L175,200L150,200L125,134.3674205343163L100,134.3674205343163L75,131.02853543794768L50,27.272727272727295L25,200Z\" fill=\"#ff9da6\"/></g></g><path class=\"foreground\" aria-hidden=\"true\" d=\"\" display=\"none\"/></g><g transform=\"translate(0,0)\"><path class=\"background\" aria-hidden=\"true\" d=\"M0,0h200v200h-200Z\"/><g><g class=\"mark-area role-mark marks\" role=\"graphics-object\" aria-roledescription=\"area mark container\"><path aria-label=\"year: 5; xk: 0; variable: x89\" role=\"graphics-symbol\" aria-roledescription=\"area mark\" d=\"M25,200L50,27.272727272727295L75,131.02853543794768L100,134.3674205343163L125,134.3674205343163L150,200L175,200L175,200L150,200L125,134.3674205343163L100,134.3674205343163L75,131.02853543794768L50,27.272727272727295L25,200Z\" fill=\"#9d755d\"/></g></g><path class=\"foreground\" aria-hidden=\"true\" d=\"\" display=\"none\"/></g><g transform=\"translate(0,0)\"><path class=\"background\" aria-hidden=\"true\" d=\"M0,0h200v200h-200Z\"/><g><g class=\"mark-area role-mark marks\" role=\"graphics-object\" aria-roledescription=\"area mark container\"><path aria-label=\"year: 5; xk: 0; variable: x90\" role=\"graphics-symbol\" aria-roledescription=\"area mark\" d=\"M25,200L50,27.272727272727295L75,131.02853543794768L100,134.3674205343163L125,134.3674205343163L150,200L175,200L175,200L150,200L125,134.3674205343163L100,134.3674205343163L75,131.02853543794768L50,27.272727272727295L25,200Z\" fill=\"#4c78a8\"/></g></g><path class=\"foreground\" aria-hidden=\"true\" d=\"\" display=\"none\"/></g><g transform=\"translate(0,0)\"><path class=\"background\" aria-hidden=\"true\" d=\"M0,0h200v200h-200Z\"/><g><g class=\"mark-area role-mark marks\" role=\"graphics-object\" aria-roledescription=\"area mark container\"><path aria-label=\"year: 5; xk: 0; variable: x91\" role=\"graphics-symbol\" aria-roledescription=\"area mark\" d=\"M25,200L50,27.272727272727295L75,131.02853543794768L100,134.3674205343163L125,134.3674205343163L150,200L175,200L175,200L150,200L125,134.3674205343163L100,134.3674205343163L75,131.02853543794768L50,27.272727272727295L25,200Z\" fill=\"#f58518\"/></g></g><path class=\"foreground\" aria-hidden=\"true\" d=\"\" display=\"none\"/></g><g transform=\"translate(0,0)\"><path class=\"background\" aria-hidden=\"true\" d=\"M0,0h200v200h-200Z\"/><g><g class=\"mark-area role-mark marks\" role=\"graphics-object\" aria-roledescription=\"area mark container\"><path aria-label=\"year: 5; xk: 0; variable: x92\" role=\"graphics-symbol\" aria-roledescription=\"area mark\" d=\"M25,200L50,27.272727272727295L75,131.02853543794768L100,134.3674205343163L125,134.3674205343163L150,200L175,200L175,200L150,200L125,200L100,200L75,200L50,200L25,200Z\" fill=\"#e45756\"/></g></g><path class=\"foreground\" aria-hidden=\"true\" d=\"\" display=\"none\"/></g><g transform=\"translate(0,0)\"><path class=\"background\" aria-hidden=\"true\" d=\"M0,0h200v200h-200Z\"/><g><g class=\"mark-area role-mark marks\" role=\"graphics-object\" aria-roledescription=\"area mark container\"><path aria-label=\"year: 5; xk: 0; variable: x93\" role=\"graphics-symbol\" aria-roledescription=\"area mark\" d=\"M25,200L50,200L75,200L100,200L125,200L150,200L175,200L175,200L150,200L125,200L100,200L75,200L50,200L25,200Z\" fill=\"#72b7b2\"/></g></g><path class=\"foreground\" aria-hidden=\"true\" d=\"\" display=\"none\"/></g><g transform=\"translate(0,0)\"><path class=\"background\" aria-hidden=\"true\" d=\"M0,0h200v200h-200Z\"/><g><g class=\"mark-area role-mark marks\" role=\"graphics-object\" aria-roledescription=\"area mark container\"><path aria-label=\"year: 5; xk: 0; variable: x94\" role=\"graphics-symbol\" aria-roledescription=\"area mark\" d=\"M25,200L50,200L75,200L100,200L125,200L150,200L175,200L175,200L150,200L125,200L100,200L75,200L50,200L25,200Z\" fill=\"#54a24b\"/></g></g><path class=\"foreground\" aria-hidden=\"true\" d=\"\" display=\"none\"/></g><g transform=\"translate(0,0)\"><path class=\"background\" aria-hidden=\"true\" d=\"M0,0h200v200h-200Z\"/><g><g class=\"mark-area role-mark marks\" role=\"graphics-object\" aria-roledescription=\"area mark container\"><path aria-label=\"year: 5; xk: 0; variable: x95\" role=\"graphics-symbol\" aria-roledescription=\"area mark\" d=\"M25,200L50,200L75,200L100,200L125,200L150,200L175,200L175,200L150,200L125,200L100,200L75,200L50,200L25,200Z\" fill=\"#eeca3b\"/></g></g><path class=\"foreground\" aria-hidden=\"true\" d=\"\" display=\"none\"/></g><g transform=\"translate(0,0)\"><path class=\"background\" aria-hidden=\"true\" d=\"M0,0h200v200h-200Z\"/><g><g class=\"mark-area role-mark marks\" role=\"graphics-object\" aria-roledescription=\"area mark container\"><path aria-label=\"year: 5; xk: 0; variable: x96\" role=\"graphics-symbol\" aria-roledescription=\"area mark\" d=\"M25,200L50,200L75,200L100,200L125,200L150,200L175,200L175,200L150,200L125,200L100,200L75,200L50,200L25,200Z\" fill=\"#b279a2\"/></g></g><path class=\"foreground\" aria-hidden=\"true\" d=\"\" display=\"none\"/></g><g transform=\"translate(0,0)\"><path class=\"background\" aria-hidden=\"true\" d=\"M0,0h200v200h-200Z\"/><g><g class=\"mark-area role-mark marks\" role=\"graphics-object\" aria-roledescription=\"area mark container\"><path aria-label=\"year: 5; xk: 0; variable: x97\" role=\"graphics-symbol\" aria-roledescription=\"area mark\" d=\"M25,200L50,200L75,200L100,200L125,200L150,200L175,200L175,200L150,200L125,200L100,200L75,200L50,200L25,200Z\" fill=\"#ff9da6\"/></g></g><path class=\"foreground\" aria-hidden=\"true\" d=\"\" display=\"none\"/></g><g transform=\"translate(0,0)\"><path class=\"background\" aria-hidden=\"true\" d=\"M0,0h200v200h-200Z\"/><g><g class=\"mark-area role-mark marks\" role=\"graphics-object\" aria-roledescription=\"area mark container\"><path aria-label=\"year: 5; xk: 0; variable: x98\" role=\"graphics-symbol\" aria-roledescription=\"area mark\" d=\"M25,200L50,200L75,200L100,200L125,200L150,200L175,200L175,200L150,200L125,200L100,200L75,200L50,200L25,200Z\" fill=\"#9d755d\"/></g></g><path class=\"foreground\" aria-hidden=\"true\" d=\"\" display=\"none\"/></g><g transform=\"translate(0,0)\"><path class=\"background\" aria-hidden=\"true\" d=\"M0,0h200v200h-200Z\"/><g><g class=\"mark-area role-mark marks\" role=\"graphics-object\" aria-roledescription=\"area mark container\"><path aria-label=\"year: 5; xk: 0; variable: x99\" role=\"graphics-symbol\" aria-roledescription=\"area mark\" d=\"M25,200L50,200L75,200L100,200L125,200L150,200L175,200L175,200L150,200L125,200L100,200L75,200L50,200L25,200Z\" fill=\"#bab0ac\"/></g></g><path class=\"foreground\" aria-hidden=\"true\" d=\"\" display=\"none\"/></g><g transform=\"translate(0,0)\"><path class=\"background\" aria-hidden=\"true\" d=\"M0,0h200v200h-200Z\"/><g><g class=\"mark-area role-mark marks\" role=\"graphics-object\" aria-roledescription=\"area mark container\"><path aria-label=\"year: 5; xk: 0; variable: x100\" role=\"graphics-symbol\" aria-roledescription=\"area mark\" d=\"M25,18.181818181818187L50,18.18181818181821L75,18.181818181808417L100,18.181818181818187L125,18.181818181818187L150,18.181818181818187L175,19.01673924252336L175,19.01673924252336L150,18.181818181818187L125,18.181818181818187L100,18.181818181818187L75,18.181818181808417L50,18.18181818181821L25,18.181818181818187Z\" fill=\"#e45756\"/></g></g><path class=\"foreground\" aria-hidden=\"true\" d=\"\" display=\"none\"/></g><g transform=\"translate(0,0)\"><path class=\"background\" aria-hidden=\"true\" d=\"M0,0h200v200h-200Z\"/><g><g class=\"mark-area role-mark marks\" role=\"graphics-object\" aria-roledescription=\"area mark container\"><path aria-label=\"year: 5; xk: 0; variable: x101\" role=\"graphics-symbol\" aria-roledescription=\"area mark\" d=\"M25,18.181818181818187L50,18.18181818181821L75,18.181818181808417L100,18.181818181818187L125,18.181818181818187L150,18.181818181818187L175,19.01673924252336L175,19.01673924252336L150,18.181818181818187L125,18.181818181818187L100,18.181818181818187L75,18.181818181808417L50,18.18181818181821L25,18.181818181818187Z\" fill=\"#72b7b2\"/></g></g><path class=\"foreground\" aria-hidden=\"true\" d=\"\" display=\"none\"/></g><g transform=\"translate(0,0)\"><path class=\"background\" aria-hidden=\"true\" d=\"M0,0h200v200h-200Z\"/><g><g class=\"mark-area role-mark marks\" role=\"graphics-object\" aria-roledescription=\"area mark container\"><path aria-label=\"year: 5; xk: 0; variable: x102\" role=\"graphics-symbol\" aria-roledescription=\"area mark\" d=\"M25,18.181818181818187L50,18.18181818181821L75,18.181818181808417L100,18.181818181818187L125,18.181818181818187L150,18.181818181818187L175,19.01673924252336L175,19.01673924252336L150,18.181818181818187L125,18.181818181818187L100,18.181818181818187L75,18.181818181808417L50,18.18181818181821L25,18.181818181818187Z\" fill=\"#54a24b\"/></g></g><path class=\"foreground\" aria-hidden=\"true\" d=\"\" display=\"none\"/></g><g transform=\"translate(0,0)\"><path class=\"background\" aria-hidden=\"true\" d=\"M0,0h200v200h-200Z\"/><g><g class=\"mark-area role-mark marks\" role=\"graphics-object\" aria-roledescription=\"area mark container\"><path aria-label=\"year: 5; xk: 0; variable: x103\" role=\"graphics-symbol\" aria-roledescription=\"area mark\" d=\"M25,18.181818181818187L50,18.18181818181821L75,18.181818181808417L100,18.181818181818187L125,18.181818181818187L150,18.181818181818187L175,19.01673924252336L175,83.46828394894645L150,18.181818181818187L125,18.181818181818187L100,18.181818181818187L75,18.181818181808417L50,18.18181818181821L25,18.181818181818187Z\" fill=\"#eeca3b\"/></g></g><path class=\"foreground\" aria-hidden=\"true\" d=\"\" display=\"none\"/></g><g transform=\"translate(0,0)\"><path class=\"background\" aria-hidden=\"true\" d=\"M0,0h200v200h-200Z\"/><g><g class=\"mark-area role-mark marks\" role=\"graphics-object\" aria-roledescription=\"area mark container\"><path aria-label=\"year: 5; xk: 0; variable: x104\" role=\"graphics-symbol\" aria-roledescription=\"area mark\" d=\"M25,18.181818181818187L50,18.18181818181821L75,18.181818181808417L100,18.181818181818187L125,18.181818181818187L150,18.181818181818187L175,83.46828394894645L175,83.46828394894645L150,18.181818181818187L125,18.181818181818187L100,18.181818181818187L75,18.181818181808417L50,18.18181818181821L25,18.181818181818187Z\" fill=\"#b279a2\"/></g></g><path class=\"foreground\" aria-hidden=\"true\" d=\"\" display=\"none\"/></g><g transform=\"translate(0,0)\"><path class=\"background\" aria-hidden=\"true\" d=\"M0,0h200v200h-200Z\"/><g><g class=\"mark-area role-mark marks\" role=\"graphics-object\" aria-roledescription=\"area mark container\"><path aria-label=\"year: 5; xk: 0; variable: x105\" role=\"graphics-symbol\" aria-roledescription=\"area mark\" d=\"M25,18.181818181818187L50,18.18181818181821L75,18.181818181808417L100,18.181818181818187L125,18.181818181818187L150,18.181818181818187L175,83.46828394894645L175,83.46828394894645L150,18.181818181818187L125,18.181818181818187L100,18.181818181818187L75,18.181818181808417L50,18.18181818181821L25,18.181818181818187Z\" fill=\"#ff9da6\"/></g></g><path class=\"foreground\" aria-hidden=\"true\" d=\"\" display=\"none\"/></g><g transform=\"translate(0,0)\"><path class=\"background\" aria-hidden=\"true\" d=\"M0,0h200v200h-200Z\"/><g><g class=\"mark-area role-mark marks\" role=\"graphics-object\" aria-roledescription=\"area mark container\"><path aria-label=\"year: 5; xk: 0; variable: x106\" role=\"graphics-symbol\" aria-roledescription=\"area mark\" d=\"M25,18.181818181818187L50,18.18181818181821L75,18.181818181808417L100,18.181818181818187L125,18.181818181818187L150,18.181818181818187L175,83.46828394894645L175,83.46828394894645L150,18.181818181818187L125,18.181818181818187L100,18.181818181818187L75,18.181818181808417L50,18.18181818181821L25,18.181818181818187Z\" fill=\"#9d755d\"/></g></g><path class=\"foreground\" aria-hidden=\"true\" d=\"\" display=\"none\"/></g><g transform=\"translate(0,0)\"><path class=\"background\" aria-hidden=\"true\" d=\"M0,0h200v200h-200Z\"/><g><g class=\"mark-area role-mark marks\" role=\"graphics-object\" aria-roledescription=\"area mark container\"><path aria-label=\"year: 5; xk: 0; variable: x107\" role=\"graphics-symbol\" aria-roledescription=\"area mark\" d=\"M25,18.181818181818187L50,18.18181818181821L75,18.181818181808417L100,18.181818181818187L125,18.181818181818187L150,18.181818181818187L175,83.46828394894645L175,83.46828394894645L150,18.181818181818187L125,18.181818181818187L100,18.181818181818187L75,18.181818181808417L50,18.18181818181821L25,18.181818181818187Z\" fill=\"#bab0ac\"/></g></g><path class=\"foreground\" aria-hidden=\"true\" d=\"\" display=\"none\"/></g><g transform=\"translate(0,0)\"><path class=\"background\" aria-hidden=\"true\" d=\"M0,0h200v200h-200Z\"/><g><g class=\"mark-area role-mark marks\" role=\"graphics-object\" aria-roledescription=\"area mark container\"><path aria-label=\"year: 5; xk: 0; variable: x108\" role=\"graphics-symbol\" aria-roledescription=\"area mark\" d=\"M25,18.181818181818187L50,18.18181818181821L75,18.181818181808417L100,18.181818181818187L125,18.181818181818187L150,18.181818181818187L175,83.46828394894645L175,83.46828394894645L150,18.181818181818187L125,18.181818181818187L100,18.181818181818187L75,18.181818181808417L50,18.18181818181821L25,18.181818181818187Z\" fill=\"#4c78a8\"/></g></g><path class=\"foreground\" aria-hidden=\"true\" d=\"\" display=\"none\"/></g><g transform=\"translate(0,0)\"><path class=\"background\" aria-hidden=\"true\" d=\"M0,0h200v200h-200Z\"/><g><g class=\"mark-area role-mark marks\" role=\"graphics-object\" aria-roledescription=\"area mark container\"><path aria-label=\"year: 5; xk: 0; variable: x109\" role=\"graphics-symbol\" aria-roledescription=\"area mark\" d=\"M25,18.181818181818187L50,18.18181818181821L75,18.181818181808417L100,18.181818181818187L125,18.181818181818187L150,18.181818181818187L175,83.46828394894645L175,83.46828394894645L150,18.181818181818187L125,18.181818181818187L100,18.181818181818187L75,18.181818181808417L50,18.18181818181821L25,18.181818181818187Z\" fill=\"#f58518\"/></g></g><path class=\"foreground\" aria-hidden=\"true\" d=\"\" display=\"none\"/></g><g transform=\"translate(0,0)\"><path class=\"background\" aria-hidden=\"true\" d=\"M0,0h200v200h-200Z\"/><g><g class=\"mark-area role-mark marks\" role=\"graphics-object\" aria-roledescription=\"area mark container\"><path aria-label=\"year: 5; xk: 0; variable: x110\" role=\"graphics-symbol\" aria-roledescription=\"area mark\" d=\"M25,18.181818181818187L50,18.18181818181821L75,18.181818181808417L100,18.181818181818187L125,18.181818181818187L150,18.181818181818187L175,83.46828394894645L175,83.46828394894645L150,18.181818181818187L125,18.181818181818187L100,18.181818181818187L75,18.181818181808417L50,18.18181818181821L25,18.181818181818187Z\" fill=\"#72b7b2\"/></g></g><path class=\"foreground\" aria-hidden=\"true\" d=\"\" display=\"none\"/></g><g transform=\"translate(0,0)\"><path class=\"background\" aria-hidden=\"true\" d=\"M0,0h200v200h-200Z\"/><g><g class=\"mark-area role-mark marks\" role=\"graphics-object\" aria-roledescription=\"area mark container\"><path aria-label=\"year: 5; xk: 0; variable: x111\" role=\"graphics-symbol\" aria-roledescription=\"area mark\" d=\"M25,18.181818181818187L50,18.18181818181821L75,18.181818181808417L100,18.181818181818187L125,18.181818181818187L150,18.181818181818187L175,83.46828394894645L175,83.46828394894645L150,18.181818181818187L125,18.181818181818187L100,18.181818181818187L75,18.181818181808417L50,18.18181818181821L25,18.181818181818187Z\" fill=\"#54a24b\"/></g></g><path class=\"foreground\" aria-hidden=\"true\" d=\"\" display=\"none\"/></g><g transform=\"translate(0,0)\"><path class=\"background\" aria-hidden=\"true\" d=\"M0,0h200v200h-200Z\"/><g><g class=\"mark-area role-mark marks\" role=\"graphics-object\" aria-roledescription=\"area mark container\"><path aria-label=\"year: 5; xk: 0; variable: x112\" role=\"graphics-symbol\" aria-roledescription=\"area mark\" d=\"M25,18.181818181818187L50,18.18181818181821L75,18.181818181808417L100,18.181818181818187L125,18.181818181818187L150,18.181818181818187L175,83.46828394894645L175,83.46828394894645L150,18.181818181818187L125,18.181818181818187L100,18.181818181818187L75,18.181818181808417L50,18.18181818181821L25,18.181818181818187Z\" fill=\"#eeca3b\"/></g></g><path class=\"foreground\" aria-hidden=\"true\" d=\"\" display=\"none\"/></g><g transform=\"translate(0,0)\"><path class=\"background\" aria-hidden=\"true\" d=\"M0,0h200v200h-200Z\"/><g><g class=\"mark-area role-mark marks\" role=\"graphics-object\" aria-roledescription=\"area mark container\"><path aria-label=\"year: 5; xk: 0; variable: x113\" role=\"graphics-symbol\" aria-roledescription=\"area mark\" d=\"M25,18.181818181818187L50,18.18181818181821L75,18.181818181808417L100,18.181818181818187L125,18.181818181818187L150,18.181818181818187L175,83.46828394894645L175,83.46828394894645L150,18.181818181818187L125,18.181818181818187L100,18.181818181818187L75,18.181818181808417L50,18.18181818181821L25,18.181818181818187Z\" fill=\"#b279a2\"/></g></g><path class=\"foreground\" aria-hidden=\"true\" d=\"\" display=\"none\"/></g><g transform=\"translate(0,0)\"><path class=\"background\" aria-hidden=\"true\" d=\"M0,0h200v200h-200Z\"/><g><g class=\"mark-area role-mark marks\" role=\"graphics-object\" aria-roledescription=\"area mark container\"><path aria-label=\"year: 5; xk: 0; variable: x114\" role=\"graphics-symbol\" aria-roledescription=\"area mark\" d=\"M25,18.181818181818187L50,18.18181818181821L75,18.181818181808417L100,18.181818181818187L125,18.181818181818187L150,18.181818181818187L175,83.46828394894645L175,83.46828394894645L150,18.181818181818187L125,18.181818181818187L100,18.181818181818187L75,18.181818181808417L50,18.18181818181821L25,18.181818181818187Z\" fill=\"#ff9da6\"/></g></g><path class=\"foreground\" aria-hidden=\"true\" d=\"\" display=\"none\"/></g><g transform=\"translate(0,0)\"><path class=\"background\" aria-hidden=\"true\" d=\"M0,0h200v200h-200Z\"/><g><g class=\"mark-area role-mark marks\" role=\"graphics-object\" aria-roledescription=\"area mark container\"><path aria-label=\"year: 5; xk: 0; variable: x115\" role=\"graphics-symbol\" aria-roledescription=\"area mark\" d=\"M25,18.181818181818187L50,18.18181818181821L75,18.181818181808417L100,18.181818181818187L125,18.181818181818187L150,18.181818181818187L175,83.46828394894645L175,83.46828394894645L150,18.181818181818187L125,18.181818181818187L100,18.181818181818187L75,18.181818181808417L50,18.18181818181821L25,18.181818181818187Z\" fill=\"#9d755d\"/></g></g><path class=\"foreground\" aria-hidden=\"true\" d=\"\" display=\"none\"/></g><g transform=\"translate(0,0)\"><path class=\"background\" aria-hidden=\"true\" d=\"M0,0h200v200h-200Z\"/><g><g class=\"mark-area role-mark marks\" role=\"graphics-object\" aria-roledescription=\"area mark container\"><path aria-label=\"year: 5; xk: 0; variable: x116\" role=\"graphics-symbol\" aria-roledescription=\"area mark\" d=\"M25,18.181818181818187L50,18.18181818181821L75,18.181818181808417L100,18.181818181818187L125,18.181818181818187L150,18.181818181818187L175,83.46828394894645L175,83.46828394894645L150,18.181818181818187L125,18.181818181818187L100,18.181818181818187L75,18.181818181808417L50,18.18181818181821L25,18.181818181818187Z\" fill=\"#bab0ac\"/></g></g><path class=\"foreground\" aria-hidden=\"true\" d=\"\" display=\"none\"/></g><g transform=\"translate(0,0)\"><path class=\"background\" aria-hidden=\"true\" d=\"M0,0h200v200h-200Z\"/><g><g class=\"mark-area role-mark marks\" role=\"graphics-object\" aria-roledescription=\"area mark container\"><path aria-label=\"year: 5; xk: 0; variable: x117\" role=\"graphics-symbol\" aria-roledescription=\"area mark\" d=\"M25,18.181818181818187L50,18.18181818181821L75,18.181818181808417L100,18.181818181818187L125,18.181818181818187L150,18.181818181818187L175,83.46828394894645L175,83.46828394894645L150,18.181818181818187L125,18.181818181818187L100,18.181818181818187L75,18.181818181808417L50,18.18181818181821L25,18.181818181818187Z\" fill=\"#4c78a8\"/></g></g><path class=\"foreground\" aria-hidden=\"true\" d=\"\" display=\"none\"/></g><g transform=\"translate(0,0)\"><path class=\"background\" aria-hidden=\"true\" d=\"M0,0h200v200h-200Z\"/><g><g class=\"mark-area role-mark marks\" role=\"graphics-object\" aria-roledescription=\"area mark container\"><path aria-label=\"year: 5; xk: 0; variable: x118\" role=\"graphics-symbol\" aria-roledescription=\"area mark\" d=\"M25,18.181818181818187L50,18.18181818181821L75,18.181818181808417L100,18.181818181818187L125,18.181818181818187L150,18.181818181818187L175,83.46828394894645L175,83.46828394894645L150,18.181818181818187L125,18.181818181818187L100,18.181818181818187L75,18.181818181808417L50,18.18181818181821L25,18.181818181818187Z\" fill=\"#f58518\"/></g></g><path class=\"foreground\" aria-hidden=\"true\" d=\"\" display=\"none\"/></g><g transform=\"translate(0,0)\"><path class=\"background\" aria-hidden=\"true\" d=\"M0,0h200v200h-200Z\"/><g><g class=\"mark-area role-mark marks\" role=\"graphics-object\" aria-roledescription=\"area mark container\"><path aria-label=\"year: 5; xk: 0; variable: x119\" role=\"graphics-symbol\" aria-roledescription=\"area mark\" d=\"M25,18.181818181818187L50,18.18181818181821L75,18.181818181808417L100,18.181818181818187L125,18.181818181818187L150,18.181818181818187L175,83.46828394894645L175,83.46828394894645L150,18.181818181818187L125,18.181818181818187L100,18.181818181818187L75,18.181818181808417L50,18.18181818181821L25,18.181818181818187Z\" fill=\"#e45756\"/></g></g><path class=\"foreground\" aria-hidden=\"true\" d=\"\" display=\"none\"/></g><g transform=\"translate(0,0)\"><path class=\"background\" aria-hidden=\"true\" d=\"M0,0h200v200h-200Z\"/><g><g class=\"mark-area role-mark marks\" role=\"graphics-object\" aria-roledescription=\"area mark container\"><path aria-label=\"year: 5; xk: 0; variable: x120\" role=\"graphics-symbol\" aria-roledescription=\"area mark\" d=\"M25,18.181818181818187L50,18.18181818181821L75,18.181818181808417L100,18.181818181818187L125,18.181818181818187L150,18.181818181818187L175,83.46828394894645L175,83.46828394894645L150,18.181818181818187L125,18.181818181818187L100,18.181818181818187L75,18.181818181808417L50,18.18181818181821L25,18.181818181818187Z\" fill=\"#54a24b\"/></g></g><path class=\"foreground\" aria-hidden=\"true\" d=\"\" display=\"none\"/></g><g transform=\"translate(0,0)\"><path class=\"background\" aria-hidden=\"true\" d=\"M0,0h200v200h-200Z\"/><g><g class=\"mark-area role-mark marks\" role=\"graphics-object\" aria-roledescription=\"area mark container\"><path aria-label=\"year: 5; xk: 0; variable: x121\" role=\"graphics-symbol\" aria-roledescription=\"area mark\" d=\"M25,18.181818181818187L50,18.18181818181821L75,18.181818181808417L100,18.181818181818187L125,18.181818181818187L150,18.181818181818187L175,83.46828394894645L175,83.46828394894645L150,18.181818181818187L125,18.181818181818187L100,18.181818181818187L75,18.181818181808417L50,18.18181818181821L25,18.181818181818187Z\" fill=\"#eeca3b\"/></g></g><path class=\"foreground\" aria-hidden=\"true\" d=\"\" display=\"none\"/></g><g transform=\"translate(0,0)\"><path class=\"background\" aria-hidden=\"true\" d=\"M0,0h200v200h-200Z\"/><g><g class=\"mark-area role-mark marks\" role=\"graphics-object\" aria-roledescription=\"area mark container\"><path aria-label=\"year: 5; xk: 0; variable: x122\" role=\"graphics-symbol\" aria-roledescription=\"area mark\" d=\"M25,18.181818181818187L50,18.18181818181821L75,18.181818181808417L100,18.181818181818187L125,18.181818181818187L150,18.181818181818187L175,83.46828394894645L175,83.46828394894645L150,18.181818181818187L125,18.181818181818187L100,18.181818181818187L75,18.181818181808417L50,18.18181818181821L25,18.181818181818187Z\" fill=\"#b279a2\"/></g></g><path class=\"foreground\" aria-hidden=\"true\" d=\"\" display=\"none\"/></g><g transform=\"translate(0,0)\"><path class=\"background\" aria-hidden=\"true\" d=\"M0,0h200v200h-200Z\"/><g><g class=\"mark-area role-mark marks\" role=\"graphics-object\" aria-roledescription=\"area mark container\"><path aria-label=\"year: 5; xk: 0; variable: x123\" role=\"graphics-symbol\" aria-roledescription=\"area mark\" d=\"M25,18.181818181818187L50,18.18181818181821L75,18.181818181808417L100,18.181818181818187L125,18.181818181818187L150,18.181818181818187L175,83.46828394894645L175,83.46828394894645L150,18.181818181818187L125,18.181818181818187L100,18.181818181818187L75,18.181818181808417L50,18.18181818181821L25,18.181818181818187Z\" fill=\"#ff9da6\"/></g></g><path class=\"foreground\" aria-hidden=\"true\" d=\"\" display=\"none\"/></g><g transform=\"translate(0,0)\"><path class=\"background\" aria-hidden=\"true\" d=\"M0,0h200v200h-200Z\"/><g><g class=\"mark-area role-mark marks\" role=\"graphics-object\" aria-roledescription=\"area mark container\"><path aria-label=\"year: 5; xk: 0; variable: x124\" role=\"graphics-symbol\" aria-roledescription=\"area mark\" d=\"M25,18.181818181818187L50,18.18181818181821L75,18.181818181808417L100,18.181818181818187L125,18.181818181818187L150,18.181818181818187L175,83.46828394894645L175,83.46828394894645L150,18.181818181818187L125,18.181818181818187L100,18.181818181818187L75,18.181818181808417L50,18.18181818181821L25,18.181818181818187Z\" fill=\"#9d755d\"/></g></g><path class=\"foreground\" aria-hidden=\"true\" d=\"\" display=\"none\"/></g><g transform=\"translate(0,0)\"><path class=\"background\" aria-hidden=\"true\" d=\"M0,0h200v200h-200Z\"/><g><g class=\"mark-area role-mark marks\" role=\"graphics-object\" aria-roledescription=\"area mark container\"><path aria-label=\"year: 5; xk: 0; variable: x125\" role=\"graphics-symbol\" aria-roledescription=\"area mark\" d=\"M25,18.181818181818187L50,18.18181818181821L75,18.181818181808417L100,18.181818181818187L125,18.181818181818187L150,18.181818181818187L175,83.46828394894645L175,83.46828394894645L150,18.181818181818187L125,18.181818181818187L100,18.181818181818187L75,18.181818181808417L50,18.18181818181821L25,18.181818181818187Z\" fill=\"#bab0ac\"/></g></g><path class=\"foreground\" aria-hidden=\"true\" d=\"\" display=\"none\"/></g><g transform=\"translate(0,0)\"><path class=\"background\" aria-hidden=\"true\" d=\"M0,0h200v200h-200Z\"/><g><g class=\"mark-area role-mark marks\" role=\"graphics-object\" aria-roledescription=\"area mark container\"><path aria-label=\"year: 5; xk: 0; variable: x126\" role=\"graphics-symbol\" aria-roledescription=\"area mark\" d=\"M25,18.181818181818187L50,18.18181818181821L75,18.181818181808417L100,18.181818181818187L125,18.181818181818187L150,18.181818181818187L175,83.46828394894645L175,83.46828394894645L150,18.181818181818187L125,18.181818181818187L100,18.181818181818187L75,18.181818181808417L50,18.18181818181821L25,18.181818181818187Z\" fill=\"#4c78a8\"/></g></g><path class=\"foreground\" aria-hidden=\"true\" d=\"\" display=\"none\"/></g><g transform=\"translate(0,0)\"><path class=\"background\" aria-hidden=\"true\" d=\"M0,0h200v200h-200Z\"/><g><g class=\"mark-area role-mark marks\" role=\"graphics-object\" aria-roledescription=\"area mark container\"><path aria-label=\"year: 5; xk: 0; variable: x127\" role=\"graphics-symbol\" aria-roledescription=\"area mark\" d=\"M25,18.181818181818187L50,18.18181818181821L75,18.181818181808417L100,18.181818181818187L125,18.181818181818187L150,18.181818181818187L175,83.46828394894645L175,83.46828394894645L150,18.181818181818187L125,18.181818181818187L100,18.181818181818187L75,18.181818181808417L50,18.18181818181821L25,18.181818181818187Z\" fill=\"#f58518\"/></g></g><path class=\"foreground\" aria-hidden=\"true\" d=\"\" display=\"none\"/></g><g transform=\"translate(0,0)\"><path class=\"background\" aria-hidden=\"true\" d=\"M0,0h200v200h-200Z\"/><g><g class=\"mark-area role-mark marks\" role=\"graphics-object\" aria-roledescription=\"area mark container\"><path aria-label=\"year: 5; xk: 0; variable: x128\" role=\"graphics-symbol\" aria-roledescription=\"area mark\" d=\"M25,18.181818181818187L50,18.18181818181821L75,18.181818181808417L100,18.181818181818187L125,18.181818181818187L150,18.181818181818187L175,83.46828394894645L175,83.46828394894645L150,18.181818181818187L125,18.181818181818187L100,18.181818181818187L75,18.181818181808417L50,18.18181818181821L25,18.181818181818187Z\" fill=\"#e45756\"/></g></g><path class=\"foreground\" aria-hidden=\"true\" d=\"\" display=\"none\"/></g><g transform=\"translate(0,0)\"><path class=\"background\" aria-hidden=\"true\" d=\"M0,0h200v200h-200Z\"/><g><g class=\"mark-area role-mark marks\" role=\"graphics-object\" aria-roledescription=\"area mark container\"><path aria-label=\"year: 5; xk: 0; variable: x129\" role=\"graphics-symbol\" aria-roledescription=\"area mark\" d=\"M25,18.181818181818187L50,18.18181818181821L75,18.181818181808417L100,18.181818181818187L125,18.181818181818187L150,18.181818181818187L175,83.46828394894645L175,83.46828394894645L150,18.181818181818187L125,18.181818181818187L100,18.181818181818187L75,18.181818181808417L50,18.18181818181821L25,18.181818181818187Z\" fill=\"#72b7b2\"/></g></g><path class=\"foreground\" aria-hidden=\"true\" d=\"\" display=\"none\"/></g><g transform=\"translate(0,0)\"><path class=\"background\" aria-hidden=\"true\" d=\"M0,0h200v200h-200Z\"/><g><g class=\"mark-area role-mark marks\" role=\"graphics-object\" aria-roledescription=\"area mark container\"><path aria-label=\"year: 5; xk: 0; variable: x130\" role=\"graphics-symbol\" aria-roledescription=\"area mark\" d=\"M25,18.181818181818187L50,18.18181818181821L75,18.181818181808417L100,18.181818181818187L125,18.181818181818187L150,18.181818181818187L175,83.46828394894645L175,83.46828394894645L150,18.181818181818187L125,18.181818181818187L100,18.181818181818187L75,18.181818181808417L50,18.18181818181821L25,18.181818181818187Z\" fill=\"#eeca3b\"/></g></g><path class=\"foreground\" aria-hidden=\"true\" d=\"\" display=\"none\"/></g><g transform=\"translate(0,0)\"><path class=\"background\" aria-hidden=\"true\" d=\"M0,0h200v200h-200Z\"/><g><g class=\"mark-area role-mark marks\" role=\"graphics-object\" aria-roledescription=\"area mark container\"><path aria-label=\"year: 5; xk: 0; variable: x131\" role=\"graphics-symbol\" aria-roledescription=\"area mark\" d=\"M25,18.181818181818187L50,18.18181818181821L75,18.181818181808417L100,18.181818181818187L125,18.181818181818187L150,18.181818181818187L175,83.46828394894645L175,83.46828394894645L150,18.181818181818187L125,18.181818181818187L100,18.181818181818187L75,18.181818181808417L50,18.18181818181821L25,18.181818181818187Z\" fill=\"#b279a2\"/></g></g><path class=\"foreground\" aria-hidden=\"true\" d=\"\" display=\"none\"/></g><g transform=\"translate(0,0)\"><path class=\"background\" aria-hidden=\"true\" d=\"M0,0h200v200h-200Z\"/><g><g class=\"mark-area role-mark marks\" role=\"graphics-object\" aria-roledescription=\"area mark container\"><path aria-label=\"year: 5; xk: 0; variable: x132\" role=\"graphics-symbol\" aria-roledescription=\"area mark\" d=\"M25,18.181818181818187L50,18.18181818181821L75,18.181818181808417L100,18.181818181818187L125,18.181818181818187L150,18.181818181818187L175,83.46828394894645L175,83.46828394894645L150,18.181818181818187L125,18.181818181818187L100,18.181818181818187L75,18.181818181808417L50,18.18181818181821L25,18.181818181818187Z\" fill=\"#ff9da6\"/></g></g><path class=\"foreground\" aria-hidden=\"true\" d=\"\" display=\"none\"/></g><g transform=\"translate(0,0)\"><path class=\"background\" aria-hidden=\"true\" d=\"M0,0h200v200h-200Z\"/><g><g class=\"mark-area role-mark marks\" role=\"graphics-object\" aria-roledescription=\"area mark container\"><path aria-label=\"year: 5; xk: 0; variable: x133\" role=\"graphics-symbol\" aria-roledescription=\"area mark\" d=\"M25,18.181818181818187L50,18.18181818181821L75,18.181818181808417L100,18.181818181818187L125,18.181818181818187L150,18.181818181818187L175,83.46828394894645L175,83.46828394894645L150,18.181818181818187L125,18.181818181818187L100,18.181818181818187L75,18.181818181808417L50,18.18181818181821L25,18.181818181818187Z\" fill=\"#9d755d\"/></g></g><path class=\"foreground\" aria-hidden=\"true\" d=\"\" display=\"none\"/></g><g transform=\"translate(0,0)\"><path class=\"background\" aria-hidden=\"true\" d=\"M0,0h200v200h-200Z\"/><g><g class=\"mark-area role-mark marks\" role=\"graphics-object\" aria-roledescription=\"area mark container\"><path aria-label=\"year: 5; xk: 0; variable: x134\" role=\"graphics-symbol\" aria-roledescription=\"area mark\" d=\"M25,18.181818181818187L50,18.18181818181821L75,18.181818181808417L100,18.181818181818187L125,18.181818181818187L150,18.181818181818187L175,83.46828394894645L175,83.46828394894645L150,18.181818181818187L125,18.181818181818187L100,18.181818181818187L75,18.181818181808417L50,18.18181818181821L25,18.181818181818187Z\" fill=\"#bab0ac\"/></g></g><path class=\"foreground\" aria-hidden=\"true\" d=\"\" display=\"none\"/></g><g transform=\"translate(0,0)\"><path class=\"background\" aria-hidden=\"true\" d=\"M0,0h200v200h-200Z\"/><g><g class=\"mark-area role-mark marks\" role=\"graphics-object\" aria-roledescription=\"area mark container\"><path aria-label=\"year: 5; xk: 0; variable: x135\" role=\"graphics-symbol\" aria-roledescription=\"area mark\" d=\"M25,18.181818181818187L50,18.18181818181821L75,18.181818181808417L100,18.181818181818187L125,18.181818181818187L150,18.181818181818187L175,83.46828394894645L175,83.46828394894645L150,18.181818181818187L125,18.181818181818187L100,18.181818181818187L75,18.181818181808417L50,18.18181818181821L25,18.181818181818187Z\" fill=\"#4c78a8\"/></g></g><path class=\"foreground\" aria-hidden=\"true\" d=\"\" display=\"none\"/></g><g transform=\"translate(0,0)\"><path class=\"background\" aria-hidden=\"true\" d=\"M0,0h200v200h-200Z\"/><g><g class=\"mark-area role-mark marks\" role=\"graphics-object\" aria-roledescription=\"area mark container\"><path aria-label=\"year: 5; xk: 0; variable: x136\" role=\"graphics-symbol\" aria-roledescription=\"area mark\" d=\"M25,18.181818181818187L50,18.18181818181821L75,18.181818181808417L100,18.181818181818187L125,18.181818181818187L150,18.181818181818187L175,83.46828394894645L175,83.46828394894645L150,18.181818181818187L125,18.181818181818187L100,18.181818181818187L75,18.181818181808417L50,18.18181818181821L25,18.181818181818187Z\" fill=\"#f58518\"/></g></g><path class=\"foreground\" aria-hidden=\"true\" d=\"\" display=\"none\"/></g><g transform=\"translate(0,0)\"><path class=\"background\" aria-hidden=\"true\" d=\"M0,0h200v200h-200Z\"/><g><g class=\"mark-area role-mark marks\" role=\"graphics-object\" aria-roledescription=\"area mark container\"><path aria-label=\"year: 5; xk: 0; variable: x137\" role=\"graphics-symbol\" aria-roledescription=\"area mark\" d=\"M25,18.181818181818187L50,18.18181818181821L75,18.181818181808417L100,18.181818181818187L125,18.181818181818187L150,18.181818181818187L175,83.46828394894645L175,83.46828394894645L150,18.181818181818187L125,18.181818181818187L100,18.181818181818187L75,18.181818181808417L50,18.18181818181821L25,18.181818181818187Z\" fill=\"#e45756\"/></g></g><path class=\"foreground\" aria-hidden=\"true\" d=\"\" display=\"none\"/></g><g transform=\"translate(0,0)\"><path class=\"background\" aria-hidden=\"true\" d=\"M0,0h200v200h-200Z\"/><g><g class=\"mark-area role-mark marks\" role=\"graphics-object\" aria-roledescription=\"area mark container\"><path aria-label=\"year: 5; xk: 0; variable: x138\" role=\"graphics-symbol\" aria-roledescription=\"area mark\" d=\"M25,18.181818181818187L50,18.18181818181821L75,18.181818181808417L100,18.181818181818187L125,18.181818181818187L150,18.181818181818187L175,83.46828394894645L175,83.46828394894645L150,18.181818181818187L125,18.181818181818187L100,18.181818181818187L75,18.181818181808417L50,18.18181818181821L25,18.181818181818187Z\" fill=\"#72b7b2\"/></g></g><path class=\"foreground\" aria-hidden=\"true\" d=\"\" display=\"none\"/></g><g transform=\"translate(0,0)\"><path class=\"background\" aria-hidden=\"true\" d=\"M0,0h200v200h-200Z\"/><g><g class=\"mark-area role-mark marks\" role=\"graphics-object\" aria-roledescription=\"area mark container\"><path aria-label=\"year: 5; xk: 0; variable: x139\" role=\"graphics-symbol\" aria-roledescription=\"area mark\" d=\"M25,18.181818181818187L50,18.18181818181821L75,18.181818181808417L100,18.181818181818187L125,18.181818181818187L150,18.181818181818187L175,83.46828394894645L175,83.46828394894645L150,18.181818181818187L125,18.181818181818187L100,18.181818181818187L75,18.181818181808417L50,18.18181818181821L25,18.181818181818187Z\" fill=\"#54a24b\"/></g></g><path class=\"foreground\" aria-hidden=\"true\" d=\"\" display=\"none\"/></g><g transform=\"translate(0,0)\"><path class=\"background\" aria-hidden=\"true\" d=\"M0,0h200v200h-200Z\"/><g><g class=\"mark-area role-mark marks\" role=\"graphics-object\" aria-roledescription=\"area mark container\"><path aria-label=\"year: 5; xk: 0; variable: x140\" role=\"graphics-symbol\" aria-roledescription=\"area mark\" d=\"M25,18.181818181818187L50,18.18181818181821L75,18.181818181808417L100,18.181818181818187L125,18.181818181818187L150,18.181818181818187L175,83.46828394894645L175,83.46828394894645L150,18.181818181818187L125,18.181818181818187L100,18.181818181818187L75,18.181818181808417L50,18.18181818181821L25,18.181818181818187Z\" fill=\"#b279a2\"/></g></g><path class=\"foreground\" aria-hidden=\"true\" d=\"\" display=\"none\"/></g><g transform=\"translate(0,0)\"><path class=\"background\" aria-hidden=\"true\" d=\"M0,0h200v200h-200Z\"/><g><g class=\"mark-area role-mark marks\" role=\"graphics-object\" aria-roledescription=\"area mark container\"><path aria-label=\"year: 5; xk: 0; variable: x141\" role=\"graphics-symbol\" aria-roledescription=\"area mark\" d=\"M25,18.181818181818187L50,18.18181818181821L75,18.181818181808417L100,18.181818181818187L125,18.181818181818187L150,18.181818181818187L175,83.46828394894645L175,83.46828394894645L150,18.181818181818187L125,18.181818181818187L100,18.181818181818187L75,18.181818181808417L50,18.18181818181821L25,18.181818181818187Z\" fill=\"#ff9da6\"/></g></g><path class=\"foreground\" aria-hidden=\"true\" d=\"\" display=\"none\"/></g><g transform=\"translate(0,0)\"><path class=\"background\" aria-hidden=\"true\" d=\"M0,0h200v200h-200Z\"/><g><g class=\"mark-area role-mark marks\" role=\"graphics-object\" aria-roledescription=\"area mark container\"><path aria-label=\"year: 5; xk: 0; variable: x142\" role=\"graphics-symbol\" aria-roledescription=\"area mark\" d=\"M25,18.181818181818187L50,18.18181818181821L75,18.181818181808417L100,18.181818181818187L125,18.181818181818187L150,18.181818181818187L175,83.46828394894645L175,83.46828394894645L150,18.181818181818187L125,18.181818181818187L100,18.181818181818187L75,18.181818181808417L50,18.18181818181821L25,18.181818181818187Z\" fill=\"#9d755d\"/></g></g><path class=\"foreground\" aria-hidden=\"true\" d=\"\" display=\"none\"/></g><g transform=\"translate(0,0)\"><path class=\"background\" aria-hidden=\"true\" d=\"M0,0h200v200h-200Z\"/><g><g class=\"mark-area role-mark marks\" role=\"graphics-object\" aria-roledescription=\"area mark container\"><path aria-label=\"year: 5; xk: 0; variable: x143\" role=\"graphics-symbol\" aria-roledescription=\"area mark\" d=\"M25,18.181818181818187L50,18.18181818181821L75,18.181818181808417L100,18.181818181818187L125,18.181818181818187L150,18.181818181818187L175,83.46828394894645L175,83.46828394894645L150,18.181818181818187L125,18.181818181818187L100,18.181818181818187L75,18.181818181808417L50,18.18181818181821L25,18.181818181818187Z\" fill=\"#bab0ac\"/></g></g><path class=\"foreground\" aria-hidden=\"true\" d=\"\" display=\"none\"/></g><g transform=\"translate(0,0)\"><path class=\"background\" aria-hidden=\"true\" d=\"M0,0h200v200h-200Z\"/><g><g class=\"mark-area role-mark marks\" role=\"graphics-object\" aria-roledescription=\"area mark container\"><path aria-label=\"year: 5; xk: 0; variable: x144\" role=\"graphics-symbol\" aria-roledescription=\"area mark\" d=\"M25,18.181818181818187L50,18.18181818181821L75,18.181818181808417L100,18.181818181818187L125,18.181818181818187L150,18.181818181818187L175,83.46828394894645L175,83.46828394894645L150,18.181818181818187L125,18.181818181818187L100,18.181818181818187L75,18.181818181808417L50,18.18181818181821L25,18.181818181818187Z\" fill=\"#4c78a8\"/></g></g><path class=\"foreground\" aria-hidden=\"true\" d=\"\" display=\"none\"/></g><g transform=\"translate(0,0)\"><path class=\"background\" aria-hidden=\"true\" d=\"M0,0h200v200h-200Z\"/><g><g class=\"mark-area role-mark marks\" role=\"graphics-object\" aria-roledescription=\"area mark container\"><path aria-label=\"year: 5; xk: 0; variable: x145\" role=\"graphics-symbol\" aria-roledescription=\"area mark\" d=\"M25,18.181818181818187L50,18.18181818181821L75,18.181818181808417L100,18.181818181818187L125,18.181818181818187L150,18.181818181818187L175,83.46828394894645L175,83.46828394894645L150,18.181818181818187L125,18.181818181818187L100,18.181818181818187L75,18.181818181808417L50,18.18181818181821L25,18.181818181818187Z\" fill=\"#f58518\"/></g></g><path class=\"foreground\" aria-hidden=\"true\" d=\"\" display=\"none\"/></g><g transform=\"translate(0,0)\"><path class=\"background\" aria-hidden=\"true\" d=\"M0,0h200v200h-200Z\"/><g><g class=\"mark-area role-mark marks\" role=\"graphics-object\" aria-roledescription=\"area mark container\"><path aria-label=\"year: 5; xk: 0; variable: x146\" role=\"graphics-symbol\" aria-roledescription=\"area mark\" d=\"M25,18.181818181818187L50,18.18181818181821L75,18.181818181808417L100,18.181818181818187L125,18.181818181818187L150,18.181818181818187L175,83.46828394894645L175,83.46828394894645L150,18.181818181818187L125,18.181818181818187L100,18.181818181818187L75,18.181818181808417L50,18.18181818181821L25,18.181818181818187Z\" fill=\"#e45756\"/></g></g><path class=\"foreground\" aria-hidden=\"true\" d=\"\" display=\"none\"/></g><g transform=\"translate(0,0)\"><path class=\"background\" aria-hidden=\"true\" d=\"M0,0h200v200h-200Z\"/><g><g class=\"mark-area role-mark marks\" role=\"graphics-object\" aria-roledescription=\"area mark container\"><path aria-label=\"year: 5; xk: 0; variable: x147\" role=\"graphics-symbol\" aria-roledescription=\"area mark\" d=\"M25,18.181818181818187L50,18.18181818181821L75,18.181818181808417L100,18.181818181818187L125,18.181818181818187L150,18.181818181818187L175,83.46828394894645L175,83.46828394894645L150,18.181818181818187L125,18.181818181818187L100,18.181818181818187L75,18.181818181808417L50,18.18181818181821L25,18.181818181818187Z\" fill=\"#72b7b2\"/></g></g><path class=\"foreground\" aria-hidden=\"true\" d=\"\" display=\"none\"/></g><g transform=\"translate(0,0)\"><path class=\"background\" aria-hidden=\"true\" d=\"M0,0h200v200h-200Z\"/><g><g class=\"mark-area role-mark marks\" role=\"graphics-object\" aria-roledescription=\"area mark container\"><path aria-label=\"year: 5; xk: 0; variable: x148\" role=\"graphics-symbol\" aria-roledescription=\"area mark\" d=\"M25,18.181818181818187L50,18.18181818181821L75,18.181818181808417L100,18.181818181818187L125,18.181818181818187L150,18.181818181818187L175,83.46828394894645L175,83.46828394894645L150,18.181818181818187L125,18.181818181818187L100,18.181818181818187L75,18.181818181808417L50,18.18181818181821L25,18.181818181818187Z\" fill=\"#54a24b\"/></g></g><path class=\"foreground\" aria-hidden=\"true\" d=\"\" display=\"none\"/></g><g transform=\"translate(0,0)\"><path class=\"background\" aria-hidden=\"true\" d=\"M0,0h200v200h-200Z\"/><g><g class=\"mark-area role-mark marks\" role=\"graphics-object\" aria-roledescription=\"area mark container\"><path aria-label=\"year: 5; xk: 0; variable: x149\" role=\"graphics-symbol\" aria-roledescription=\"area mark\" d=\"M25,18.181818181818187L50,18.18181818181821L75,18.181818181808417L100,18.181818181818187L125,18.181818181818187L150,18.181818181818187L175,83.46828394894645L175,83.46828394894645L150,18.181818181818187L125,18.181818181818187L100,18.181818181818187L75,18.181818181808417L50,18.18181818181821L25,18.181818181818187Z\" fill=\"#eeca3b\"/></g></g><path class=\"foreground\" aria-hidden=\"true\" d=\"\" display=\"none\"/></g><g transform=\"translate(0,0)\"><path class=\"background\" aria-hidden=\"true\" d=\"M0,0h200v200h-200Z\"/><g><g class=\"mark-area role-mark marks\" role=\"graphics-object\" aria-roledescription=\"area mark container\"><path aria-label=\"year: 5; xk: 0; variable: x150\" role=\"graphics-symbol\" aria-roledescription=\"area mark\" d=\"M25,18.181818181818187L50,18.18181818181821L75,18.181818181808417L100,18.181818181818187L125,18.181818181818187L150,18.181818181818187L175,83.46828394894645L175,83.46828394894645L150,18.181818181818187L125,18.181818181818187L100,18.181818181818187L75,18.181818181808417L50,18.18181818181821L25,18.181818181818187Z\" fill=\"#ff9da6\"/></g></g><path class=\"foreground\" aria-hidden=\"true\" d=\"\" display=\"none\"/></g><g transform=\"translate(0,0)\"><path class=\"background\" aria-hidden=\"true\" d=\"M0,0h200v200h-200Z\"/><g><g class=\"mark-area role-mark marks\" role=\"graphics-object\" aria-roledescription=\"area mark container\"><path aria-label=\"year: 5; xk: 0; variable: x151\" role=\"graphics-symbol\" aria-roledescription=\"area mark\" d=\"M25,18.181818181818187L50,18.18181818181821L75,18.181818181808417L100,18.181818181818187L125,18.181818181818187L150,18.181818181818187L175,83.46828394894645L175,83.46828394894645L150,18.181818181818187L125,18.181818181818187L100,18.181818181818187L75,18.181818181808417L50,18.18181818181821L25,18.181818181818187Z\" fill=\"#9d755d\"/></g></g><path class=\"foreground\" aria-hidden=\"true\" d=\"\" display=\"none\"/></g><g transform=\"translate(0,0)\"><path class=\"background\" aria-hidden=\"true\" d=\"M0,0h200v200h-200Z\"/><g><g class=\"mark-area role-mark marks\" role=\"graphics-object\" aria-roledescription=\"area mark container\"><path aria-label=\"year: 5; xk: 0; variable: x152\" role=\"graphics-symbol\" aria-roledescription=\"area mark\" d=\"M25,18.181818181818187L50,18.18181818181821L75,18.181818181808417L100,18.181818181818187L125,18.181818181818187L150,18.181818181818187L175,83.46828394894645L175,83.46828394894645L150,18.181818181818187L125,18.181818181818187L100,18.181818181818187L75,18.181818181808417L50,18.18181818181821L25,18.181818181818187Z\" fill=\"#bab0ac\"/></g></g><path class=\"foreground\" aria-hidden=\"true\" d=\"\" display=\"none\"/></g><g transform=\"translate(0,0)\"><path class=\"background\" aria-hidden=\"true\" d=\"M0,0h200v200h-200Z\"/><g><g class=\"mark-area role-mark marks\" role=\"graphics-object\" aria-roledescription=\"area mark container\"><path aria-label=\"year: 5; xk: 0; variable: x153\" role=\"graphics-symbol\" aria-roledescription=\"area mark\" d=\"M25,18.181818181818187L50,18.18181818181821L75,18.181818181808417L100,18.181818181818187L125,18.181818181818187L150,18.181818181818187L175,83.46828394894645L175,83.46828394894645L150,18.181818181818187L125,18.181818181818187L100,18.181818181818187L75,18.181818181808417L50,18.18181818181821L25,18.181818181818187Z\" fill=\"#4c78a8\"/></g></g><path class=\"foreground\" aria-hidden=\"true\" d=\"\" display=\"none\"/></g><g transform=\"translate(0,0)\"><path class=\"background\" aria-hidden=\"true\" d=\"M0,0h200v200h-200Z\"/><g><g class=\"mark-area role-mark marks\" role=\"graphics-object\" aria-roledescription=\"area mark container\"><path aria-label=\"year: 5; xk: 0; variable: x154\" role=\"graphics-symbol\" aria-roledescription=\"area mark\" d=\"M25,18.181818181818187L50,18.18181818181821L75,18.181818181808417L100,18.181818181818187L125,18.181818181818187L150,18.181818181818187L175,83.46828394894645L175,83.46828394894645L150,18.181818181818187L125,18.181818181818187L100,18.181818181818187L75,18.181818181808417L50,18.18181818181821L25,18.181818181818187Z\" fill=\"#f58518\"/></g></g><path class=\"foreground\" aria-hidden=\"true\" d=\"\" display=\"none\"/></g><g transform=\"translate(0,0)\"><path class=\"background\" aria-hidden=\"true\" d=\"M0,0h200v200h-200Z\"/><g><g class=\"mark-area role-mark marks\" role=\"graphics-object\" aria-roledescription=\"area mark container\"><path aria-label=\"year: 5; xk: 0; variable: x155\" role=\"graphics-symbol\" aria-roledescription=\"area mark\" d=\"M25,18.181818181818187L50,18.18181818181821L75,18.181818181808417L100,18.181818181818187L125,18.181818181818187L150,18.181818181818187L175,83.46828394894645L175,83.46828394894645L150,18.181818181818187L125,18.181818181818187L100,18.181818181818187L75,18.181818181808417L50,18.18181818181821L25,18.181818181818187Z\" fill=\"#e45756\"/></g></g><path class=\"foreground\" aria-hidden=\"true\" d=\"\" display=\"none\"/></g><g transform=\"translate(0,0)\"><path class=\"background\" aria-hidden=\"true\" d=\"M0,0h200v200h-200Z\"/><g><g class=\"mark-area role-mark marks\" role=\"graphics-object\" aria-roledescription=\"area mark container\"><path aria-label=\"year: 5; xk: 0; variable: x156\" role=\"graphics-symbol\" aria-roledescription=\"area mark\" d=\"M25,18.181818181818187L50,18.18181818181821L75,18.181818181808417L100,18.181818181818187L125,18.181818181818187L150,18.181818181818187L175,83.46828394894645L175,83.46828394894645L150,18.181818181818187L125,18.181818181818187L100,18.181818181818187L75,18.181818181808417L50,18.18181818181821L25,18.181818181818187Z\" fill=\"#72b7b2\"/></g></g><path class=\"foreground\" aria-hidden=\"true\" d=\"\" display=\"none\"/></g><g transform=\"translate(0,0)\"><path class=\"background\" aria-hidden=\"true\" d=\"M0,0h200v200h-200Z\"/><g><g class=\"mark-area role-mark marks\" role=\"graphics-object\" aria-roledescription=\"area mark container\"><path aria-label=\"year: 5; xk: 0; variable: x157\" role=\"graphics-symbol\" aria-roledescription=\"area mark\" d=\"M25,18.181818181818187L50,18.18181818181821L75,18.181818181808417L100,18.181818181818187L125,18.181818181818187L150,18.181818181818187L175,83.46828394894645L175,83.46828394894645L150,18.181818181818187L125,18.181818181818187L100,18.181818181818187L75,18.181818181808417L50,18.18181818181821L25,18.181818181818187Z\" fill=\"#54a24b\"/></g></g><path class=\"foreground\" aria-hidden=\"true\" d=\"\" display=\"none\"/></g><g transform=\"translate(0,0)\"><path class=\"background\" aria-hidden=\"true\" d=\"M0,0h200v200h-200Z\"/><g><g class=\"mark-area role-mark marks\" role=\"graphics-object\" aria-roledescription=\"area mark container\"><path aria-label=\"year: 5; xk: 0; variable: x158\" role=\"graphics-symbol\" aria-roledescription=\"area mark\" d=\"M25,18.181818181818187L50,18.18181818181821L75,18.181818181808417L100,18.181818181818187L125,18.181818181818187L150,18.181818181818187L175,83.46828394894645L175,83.46828394894645L150,18.181818181818187L125,18.181818181818187L100,18.181818181818187L75,18.181818181808417L50,18.18181818181821L25,18.181818181818187Z\" fill=\"#eeca3b\"/></g></g><path class=\"foreground\" aria-hidden=\"true\" d=\"\" display=\"none\"/></g><g transform=\"translate(0,0)\"><path class=\"background\" aria-hidden=\"true\" d=\"M0,0h200v200h-200Z\"/><g><g class=\"mark-area role-mark marks\" role=\"graphics-object\" aria-roledescription=\"area mark container\"><path aria-label=\"year: 5; xk: 0; variable: x159\" role=\"graphics-symbol\" aria-roledescription=\"area mark\" d=\"M25,18.181818181818187L50,18.18181818181821L75,18.181818181808417L100,18.181818181818187L125,18.181818181818187L150,18.181818181818187L175,83.46828394894645L175,83.46828394894645L150,18.181818181818187L125,18.181818181818187L100,18.181818181818187L75,18.181818181808417L50,18.18181818181821L25,18.181818181818187Z\" fill=\"#b279a2\"/></g></g><path class=\"foreground\" aria-hidden=\"true\" d=\"\" display=\"none\"/></g><g transform=\"translate(0,0)\"><path class=\"background\" aria-hidden=\"true\" d=\"M0,0h200v200h-200Z\"/><g><g class=\"mark-area role-mark marks\" role=\"graphics-object\" aria-roledescription=\"area mark container\"><path aria-label=\"year: 5; xk: 0; variable: x160\" role=\"graphics-symbol\" aria-roledescription=\"area mark\" d=\"M25,18.181818181818187L50,18.18181818181821L75,18.181818181808417L100,18.181818181818187L125,18.181818181818187L150,18.181818181818187L175,83.46828394894645L175,83.46828394894645L150,18.181818181818187L125,18.181818181818187L100,18.181818181818187L75,18.181818181808417L50,18.18181818181821L25,18.181818181818187Z\" fill=\"#9d755d\"/></g></g><path class=\"foreground\" aria-hidden=\"true\" d=\"\" display=\"none\"/></g><g transform=\"translate(0,0)\"><path class=\"background\" aria-hidden=\"true\" d=\"M0,0h200v200h-200Z\"/><g><g class=\"mark-area role-mark marks\" role=\"graphics-object\" aria-roledescription=\"area mark container\"><path aria-label=\"year: 5; xk: 0; variable: x161\" role=\"graphics-symbol\" aria-roledescription=\"area mark\" d=\"M25,18.181818181818187L50,18.18181818181821L75,18.181818181808417L100,18.181818181818187L125,18.181818181818187L150,18.181818181818187L175,83.46828394894645L175,83.46828394894645L150,18.181818181818187L125,18.181818181818187L100,18.181818181818187L75,18.181818181808417L50,18.18181818181821L25,18.181818181818187Z\" fill=\"#bab0ac\"/></g></g><path class=\"foreground\" aria-hidden=\"true\" d=\"\" display=\"none\"/></g><g transform=\"translate(0,0)\"><path class=\"background\" aria-hidden=\"true\" d=\"M0,0h200v200h-200Z\"/><g><g class=\"mark-area role-mark marks\" role=\"graphics-object\" aria-roledescription=\"area mark container\"><path aria-label=\"year: 5; xk: 0; variable: x162\" role=\"graphics-symbol\" aria-roledescription=\"area mark\" d=\"M25,18.181818181818187L50,18.18181818181821L75,18.181818181808417L100,18.181818181818187L125,18.181818181818187L150,18.181818181818187L175,83.46828394894645L175,83.46828394894645L150,18.181818181818187L125,18.181818181818187L100,18.181818181818187L75,18.181818181808417L50,18.18181818181821L25,18.181818181818187Z\" fill=\"#4c78a8\"/></g></g><path class=\"foreground\" aria-hidden=\"true\" d=\"\" display=\"none\"/></g><g transform=\"translate(0,0)\"><path class=\"background\" aria-hidden=\"true\" d=\"M0,0h200v200h-200Z\"/><g><g class=\"mark-area role-mark marks\" role=\"graphics-object\" aria-roledescription=\"area mark container\"><path aria-label=\"year: 5; xk: 0; variable: x163\" role=\"graphics-symbol\" aria-roledescription=\"area mark\" d=\"M25,18.181818181818187L50,18.18181818181821L75,18.181818181808417L100,18.181818181818187L125,18.181818181818187L150,18.181818181818187L175,83.46828394894645L175,83.46828394894645L150,18.181818181818187L125,18.181818181818187L100,18.181818181818187L75,18.181818181808417L50,18.18181818181821L25,18.181818181818187Z\" fill=\"#f58518\"/></g></g><path class=\"foreground\" aria-hidden=\"true\" d=\"\" display=\"none\"/></g><g transform=\"translate(0,0)\"><path class=\"background\" aria-hidden=\"true\" d=\"M0,0h200v200h-200Z\"/><g><g class=\"mark-area role-mark marks\" role=\"graphics-object\" aria-roledescription=\"area mark container\"><path aria-label=\"year: 5; xk: 0; variable: x164\" role=\"graphics-symbol\" aria-roledescription=\"area mark\" d=\"M25,18.181818181818187L50,18.18181818181821L75,18.181818181808417L100,18.181818181818187L125,18.181818181818187L150,18.181818181818187L175,83.46828394894645L175,83.46828394894645L150,18.181818181818187L125,18.181818181818187L100,18.181818181818187L75,18.181818181808417L50,18.18181818181821L25,18.181818181818187Z\" fill=\"#e45756\"/></g></g><path class=\"foreground\" aria-hidden=\"true\" d=\"\" display=\"none\"/></g><g transform=\"translate(0,0)\"><path class=\"background\" aria-hidden=\"true\" d=\"M0,0h200v200h-200Z\"/><g><g class=\"mark-area role-mark marks\" role=\"graphics-object\" aria-roledescription=\"area mark container\"><path aria-label=\"year: 5; xk: 0; variable: x165\" role=\"graphics-symbol\" aria-roledescription=\"area mark\" d=\"M25,18.181818181818187L50,18.18181818181821L75,18.181818181808417L100,18.181818181818187L125,18.181818181818187L150,18.181818181818187L175,83.46828394894645L175,83.46828394894645L150,18.181818181818187L125,18.181818181818187L100,18.181818181818187L75,18.181818181808417L50,18.18181818181821L25,18.181818181818187Z\" fill=\"#72b7b2\"/></g></g><path class=\"foreground\" aria-hidden=\"true\" d=\"\" display=\"none\"/></g><g transform=\"translate(0,0)\"><path class=\"background\" aria-hidden=\"true\" d=\"M0,0h200v200h-200Z\"/><g><g class=\"mark-area role-mark marks\" role=\"graphics-object\" aria-roledescription=\"area mark container\"><path aria-label=\"year: 5; xk: 0; variable: x166\" role=\"graphics-symbol\" aria-roledescription=\"area mark\" d=\"M25,18.181818181818187L50,18.18181818181821L75,18.181818181808417L100,18.181818181818187L125,18.181818181818187L150,18.181818181818187L175,83.46828394894645L175,83.46828394894645L150,18.181818181818187L125,18.181818181818187L100,18.181818181818187L75,18.181818181808417L50,18.18181818181821L25,18.181818181818187Z\" fill=\"#54a24b\"/></g></g><path class=\"foreground\" aria-hidden=\"true\" d=\"\" display=\"none\"/></g><g transform=\"translate(0,0)\"><path class=\"background\" aria-hidden=\"true\" d=\"M0,0h200v200h-200Z\"/><g><g class=\"mark-area role-mark marks\" role=\"graphics-object\" aria-roledescription=\"area mark container\"><path aria-label=\"year: 5; xk: 0; variable: x167\" role=\"graphics-symbol\" aria-roledescription=\"area mark\" d=\"M25,18.181818181818187L50,18.18181818181821L75,18.181818181808417L100,18.181818181818187L125,18.181818181818187L150,18.181818181818187L175,83.46828394894645L175,83.46828394894645L150,18.181818181818187L125,18.181818181818187L100,18.181818181818187L75,18.181818181808417L50,18.18181818181821L25,18.181818181818187Z\" fill=\"#eeca3b\"/></g></g><path class=\"foreground\" aria-hidden=\"true\" d=\"\" display=\"none\"/></g><g transform=\"translate(0,0)\"><path class=\"background\" aria-hidden=\"true\" d=\"M0,0h200v200h-200Z\"/><g><g class=\"mark-area role-mark marks\" role=\"graphics-object\" aria-roledescription=\"area mark container\"><path aria-label=\"year: 5; xk: 0; variable: x168\" role=\"graphics-symbol\" aria-roledescription=\"area mark\" d=\"M25,18.181818181818187L50,18.18181818181821L75,18.181818181808417L100,18.181818181818187L125,18.181818181818187L150,18.181818181818187L175,83.46828394894645L175,83.46828394894645L150,18.181818181818187L125,18.181818181818187L100,18.181818181818187L75,18.181818181808417L50,18.18181818181821L25,18.181818181818187Z\" fill=\"#b279a2\"/></g></g><path class=\"foreground\" aria-hidden=\"true\" d=\"\" display=\"none\"/></g><g transform=\"translate(0,0)\"><path class=\"background\" aria-hidden=\"true\" d=\"M0,0h200v200h-200Z\"/><g><g class=\"mark-area role-mark marks\" role=\"graphics-object\" aria-roledescription=\"area mark container\"><path aria-label=\"year: 5; xk: 0; variable: x169\" role=\"graphics-symbol\" aria-roledescription=\"area mark\" d=\"M25,18.181818181818187L50,18.18181818181821L75,18.181818181808417L100,18.181818181818187L125,18.181818181818187L150,18.181818181818187L175,83.46828394894645L175,83.46828394894645L150,18.181818181818187L125,18.181818181818187L100,18.181818181818187L75,18.181818181808417L50,18.18181818181821L25,18.181818181818187Z\" fill=\"#ff9da6\"/></g></g><path class=\"foreground\" aria-hidden=\"true\" d=\"\" display=\"none\"/></g><g transform=\"translate(0,0)\"><path class=\"background\" aria-hidden=\"true\" d=\"M0,0h200v200h-200Z\"/><g><g class=\"mark-area role-mark marks\" role=\"graphics-object\" aria-roledescription=\"area mark container\"><path aria-label=\"year: 5; xk: 0; variable: x170\" role=\"graphics-symbol\" aria-roledescription=\"area mark\" d=\"M25,18.181818181818187L50,18.18181818181821L75,18.181818181808417L100,18.181818181818187L125,18.181818181818187L150,18.181818181818187L175,83.46828394894645L175,83.46828394894645L150,18.181818181818187L125,18.181818181818187L100,18.181818181818187L75,18.181818181808417L50,18.18181818181821L25,18.181818181818187Z\" fill=\"#bab0ac\"/></g></g><path class=\"foreground\" aria-hidden=\"true\" d=\"\" display=\"none\"/></g><g transform=\"translate(0,0)\"><path class=\"background\" aria-hidden=\"true\" d=\"M0,0h200v200h-200Z\"/><g><g class=\"mark-area role-mark marks\" role=\"graphics-object\" aria-roledescription=\"area mark container\"><path aria-label=\"year: 5; xk: 0; variable: x171\" role=\"graphics-symbol\" aria-roledescription=\"area mark\" d=\"M25,18.181818181818187L50,18.18181818181821L75,18.181818181808417L100,18.181818181818187L125,18.181818181818187L150,18.181818181818187L175,83.46828394894645L175,83.46828394894645L150,18.181818181818187L125,18.181818181818187L100,18.181818181818187L75,18.181818181808417L50,18.18181818181821L25,18.181818181818187Z\" fill=\"#4c78a8\"/></g></g><path class=\"foreground\" aria-hidden=\"true\" d=\"\" display=\"none\"/></g><g transform=\"translate(0,0)\"><path class=\"background\" aria-hidden=\"true\" d=\"M0,0h200v200h-200Z\"/><g><g class=\"mark-area role-mark marks\" role=\"graphics-object\" aria-roledescription=\"area mark container\"><path aria-label=\"year: 5; xk: 0; variable: x172\" role=\"graphics-symbol\" aria-roledescription=\"area mark\" d=\"M25,18.181818181818187L50,18.18181818181821L75,18.181818181808417L100,18.181818181818187L125,18.181818181818187L150,18.181818181818187L175,83.46828394894645L175,83.46828394894645L150,18.181818181818187L125,18.181818181818187L100,18.181818181818187L75,18.181818181808417L50,18.18181818181821L25,18.181818181818187Z\" fill=\"#f58518\"/></g></g><path class=\"foreground\" aria-hidden=\"true\" d=\"\" display=\"none\"/></g><g transform=\"translate(0,0)\"><path class=\"background\" aria-hidden=\"true\" d=\"M0,0h200v200h-200Z\"/><g><g class=\"mark-area role-mark marks\" role=\"graphics-object\" aria-roledescription=\"area mark container\"><path aria-label=\"year: 5; xk: 0; variable: x173\" role=\"graphics-symbol\" aria-roledescription=\"area mark\" d=\"M25,18.181818181818187L50,18.18181818181821L75,18.181818181808417L100,18.181818181818187L125,18.181818181818187L150,18.181818181818187L175,83.46828394894645L175,83.46828394894645L150,18.181818181818187L125,18.181818181818187L100,18.181818181818187L75,18.181818181808417L50,18.18181818181821L25,18.181818181818187Z\" fill=\"#e45756\"/></g></g><path class=\"foreground\" aria-hidden=\"true\" d=\"\" display=\"none\"/></g><g transform=\"translate(0,0)\"><path class=\"background\" aria-hidden=\"true\" d=\"M0,0h200v200h-200Z\"/><g><g class=\"mark-area role-mark marks\" role=\"graphics-object\" aria-roledescription=\"area mark container\"><path aria-label=\"year: 5; xk: 0; variable: x174\" role=\"graphics-symbol\" aria-roledescription=\"area mark\" d=\"M25,18.181818181818187L50,18.18181818181821L75,18.181818181808417L100,18.181818181818187L125,18.181818181818187L150,18.181818181818187L175,83.46828394894645L175,83.46828394894645L150,18.181818181818187L125,18.181818181818187L100,18.181818181818187L75,18.181818181808417L50,18.18181818181821L25,18.181818181818187Z\" fill=\"#72b7b2\"/></g></g><path class=\"foreground\" aria-hidden=\"true\" d=\"\" display=\"none\"/></g><g transform=\"translate(0,0)\"><path class=\"background\" aria-hidden=\"true\" d=\"M0,0h200v200h-200Z\"/><g><g class=\"mark-area role-mark marks\" role=\"graphics-object\" aria-roledescription=\"area mark container\"><path aria-label=\"year: 5; xk: 0; variable: x175\" role=\"graphics-symbol\" aria-roledescription=\"area mark\" d=\"M25,18.181818181818187L50,18.18181818181821L75,18.181818181808417L100,18.181818181818187L125,18.181818181818187L150,18.181818181818187L175,83.46828394894645L175,83.46828394894645L150,18.181818181818187L125,18.181818181818187L100,18.181818181818187L75,18.181818181808417L50,18.18181818181821L25,18.181818181818187Z\" fill=\"#54a24b\"/></g></g><path class=\"foreground\" aria-hidden=\"true\" d=\"\" display=\"none\"/></g><g transform=\"translate(0,0)\"><path class=\"background\" aria-hidden=\"true\" d=\"M0,0h200v200h-200Z\"/><g><g class=\"mark-area role-mark marks\" role=\"graphics-object\" aria-roledescription=\"area mark container\"><path aria-label=\"year: 5; xk: 0; variable: x176\" role=\"graphics-symbol\" aria-roledescription=\"area mark\" d=\"M25,18.181818181818187L50,18.18181818181821L75,18.181818181808417L100,18.181818181818187L125,18.181818181818187L150,18.181818181818187L175,83.46828394894645L175,83.46828394894645L150,18.181818181818187L125,18.181818181818187L100,18.181818181818187L75,18.181818181808417L50,18.18181818181821L25,18.181818181818187Z\" fill=\"#eeca3b\"/></g></g><path class=\"foreground\" aria-hidden=\"true\" d=\"\" display=\"none\"/></g><g transform=\"translate(0,0)\"><path class=\"background\" aria-hidden=\"true\" d=\"M0,0h200v200h-200Z\"/><g><g class=\"mark-area role-mark marks\" role=\"graphics-object\" aria-roledescription=\"area mark container\"><path aria-label=\"year: 5; xk: 0; variable: x177\" role=\"graphics-symbol\" aria-roledescription=\"area mark\" d=\"M25,18.181818181818187L50,18.18181818181821L75,18.181818181808417L100,18.181818181818187L125,18.181818181818187L150,18.181818181818187L175,83.46828394894645L175,83.46828394894645L150,18.181818181818187L125,18.181818181818187L100,18.181818181818187L75,18.181818181808417L50,18.18181818181821L25,18.181818181818187Z\" fill=\"#b279a2\"/></g></g><path class=\"foreground\" aria-hidden=\"true\" d=\"\" display=\"none\"/></g><g transform=\"translate(0,0)\"><path class=\"background\" aria-hidden=\"true\" d=\"M0,0h200v200h-200Z\"/><g><g class=\"mark-area role-mark marks\" role=\"graphics-object\" aria-roledescription=\"area mark container\"><path aria-label=\"year: 5; xk: 0; variable: x178\" role=\"graphics-symbol\" aria-roledescription=\"area mark\" d=\"M25,18.181818181818187L50,18.18181818181821L75,18.181818181808417L100,18.181818181818187L125,18.181818181818187L150,18.181818181818187L175,83.46828394894645L175,83.46828394894645L150,18.181818181818187L125,18.181818181818187L100,18.181818181818187L75,18.181818181808417L50,18.18181818181821L25,18.181818181818187Z\" fill=\"#ff9da6\"/></g></g><path class=\"foreground\" aria-hidden=\"true\" d=\"\" display=\"none\"/></g><g transform=\"translate(0,0)\"><path class=\"background\" aria-hidden=\"true\" d=\"M0,0h200v200h-200Z\"/><g><g class=\"mark-area role-mark marks\" role=\"graphics-object\" aria-roledescription=\"area mark container\"><path aria-label=\"year: 5; xk: 0; variable: x179\" role=\"graphics-symbol\" aria-roledescription=\"area mark\" d=\"M25,18.181818181818187L50,18.18181818181821L75,18.181818181808417L100,18.181818181818187L125,18.181818181818187L150,18.181818181818187L175,83.46828394894645L175,83.46828394894645L150,18.181818181818187L125,18.181818181818187L100,18.181818181818187L75,18.181818181808417L50,18.18181818181821L25,18.181818181818187Z\" fill=\"#9d755d\"/></g></g><path class=\"foreground\" aria-hidden=\"true\" d=\"\" display=\"none\"/></g><g transform=\"translate(0,0)\"><path class=\"background\" aria-hidden=\"true\" d=\"M0,0h200v200h-200Z\"/><g><g class=\"mark-area role-mark marks\" role=\"graphics-object\" aria-roledescription=\"area mark container\"><path aria-label=\"year: 5; xk: 0; variable: x180\" role=\"graphics-symbol\" aria-roledescription=\"area mark\" d=\"M25,18.181818181818187L50,18.18181818181821L75,18.181818181808417L100,18.181818181818187L125,18.181818181818187L150,18.181818181818187L175,83.46828394894645L175,83.46828394894645L150,18.181818181818187L125,18.181818181818187L100,18.181818181818187L75,18.181818181808417L50,18.18181818181821L25,18.181818181818187Z\" fill=\"#4c78a8\"/></g></g><path class=\"foreground\" aria-hidden=\"true\" d=\"\" display=\"none\"/></g><g transform=\"translate(0,0)\"><path class=\"background\" aria-hidden=\"true\" d=\"M0,0h200v200h-200Z\"/><g><g class=\"mark-area role-mark marks\" role=\"graphics-object\" aria-roledescription=\"area mark container\"><path aria-label=\"year: 5; xk: 0; variable: x181\" role=\"graphics-symbol\" aria-roledescription=\"area mark\" d=\"M25,18.181818181818187L50,18.18181818181821L75,18.181818181808417L100,18.181818181818187L125,18.181818181818187L150,18.181818181818187L175,83.46828394894645L175,83.46828394894645L150,18.181818181818187L125,18.181818181818187L100,18.181818181818187L75,18.181818181808417L50,18.18181818181821L25,18.181818181818187Z\" fill=\"#f58518\"/></g></g><path class=\"foreground\" aria-hidden=\"true\" d=\"\" display=\"none\"/></g><g transform=\"translate(0,0)\"><path class=\"background\" aria-hidden=\"true\" d=\"M0,0h200v200h-200Z\"/><g><g class=\"mark-area role-mark marks\" role=\"graphics-object\" aria-roledescription=\"area mark container\"><path aria-label=\"year: 5; xk: 0; variable: x182\" role=\"graphics-symbol\" aria-roledescription=\"area mark\" d=\"M25,18.181818181818187L50,18.18181818181821L75,18.181818181808417L100,18.181818181818187L125,18.181818181818187L150,18.181818181818187L175,83.46828394894645L175,83.46828394894645L150,18.181818181818187L125,18.181818181818187L100,18.181818181818187L75,18.181818181808417L50,18.18181818181821L25,18.181818181818187Z\" fill=\"#e45756\"/></g></g><path class=\"foreground\" aria-hidden=\"true\" d=\"\" display=\"none\"/></g><g transform=\"translate(0,0)\"><path class=\"background\" aria-hidden=\"true\" d=\"M0,0h200v200h-200Z\"/><g><g class=\"mark-area role-mark marks\" role=\"graphics-object\" aria-roledescription=\"area mark container\"><path aria-label=\"year: 5; xk: 0; variable: x183\" role=\"graphics-symbol\" aria-roledescription=\"area mark\" d=\"M25,18.181818181818187L50,18.18181818181821L75,18.181818181808417L100,18.181818181818187L125,18.181818181818187L150,18.181818181818187L175,83.46828394894645L175,83.46828394894645L150,18.181818181818187L125,18.181818181818187L100,18.181818181818187L75,18.181818181808417L50,18.18181818181821L25,18.181818181818187Z\" fill=\"#72b7b2\"/></g></g><path class=\"foreground\" aria-hidden=\"true\" d=\"\" display=\"none\"/></g><g transform=\"translate(0,0)\"><path class=\"background\" aria-hidden=\"true\" d=\"M0,0h200v200h-200Z\"/><g><g class=\"mark-area role-mark marks\" role=\"graphics-object\" aria-roledescription=\"area mark container\"><path aria-label=\"year: 5; xk: 0; variable: x184\" role=\"graphics-symbol\" aria-roledescription=\"area mark\" d=\"M25,18.181818181818187L50,18.18181818181821L75,18.181818181808417L100,18.181818181818187L125,18.181818181818187L150,18.181818181818187L175,83.46828394894645L175,83.46828394894645L150,18.181818181818187L125,18.181818181818187L100,18.181818181818187L75,18.181818181808417L50,18.18181818181821L25,18.181818181818187Z\" fill=\"#54a24b\"/></g></g><path class=\"foreground\" aria-hidden=\"true\" d=\"\" display=\"none\"/></g><g transform=\"translate(0,0)\"><path class=\"background\" aria-hidden=\"true\" d=\"M0,0h200v200h-200Z\"/><g><g class=\"mark-area role-mark marks\" role=\"graphics-object\" aria-roledescription=\"area mark container\"><path aria-label=\"year: 5; xk: 0; variable: x185\" role=\"graphics-symbol\" aria-roledescription=\"area mark\" d=\"M25,18.181818181818187L50,18.18181818181821L75,18.181818181808417L100,18.181818181818187L125,18.181818181818187L150,18.181818181818187L175,83.46828394894645L175,83.46828394894645L150,18.181818181818187L125,18.181818181818187L100,18.181818181818187L75,18.181818181808417L50,18.18181818181821L25,18.181818181818187Z\" fill=\"#eeca3b\"/></g></g><path class=\"foreground\" aria-hidden=\"true\" d=\"\" display=\"none\"/></g><g transform=\"translate(0,0)\"><path class=\"background\" aria-hidden=\"true\" d=\"M0,0h200v200h-200Z\"/><g><g class=\"mark-area role-mark marks\" role=\"graphics-object\" aria-roledescription=\"area mark container\"><path aria-label=\"year: 5; xk: 0; variable: x186\" role=\"graphics-symbol\" aria-roledescription=\"area mark\" d=\"M25,18.181818181818187L50,18.18181818181821L75,18.181818181808417L100,18.181818181818187L125,18.181818181818187L150,18.181818181818187L175,83.46828394894645L175,83.46828394894645L150,18.181818181818187L125,18.181818181818187L100,18.181818181818187L75,18.181818181808417L50,18.18181818181821L25,18.181818181818187Z\" fill=\"#b279a2\"/></g></g><path class=\"foreground\" aria-hidden=\"true\" d=\"\" display=\"none\"/></g><g transform=\"translate(0,0)\"><path class=\"background\" aria-hidden=\"true\" d=\"M0,0h200v200h-200Z\"/><g><g class=\"mark-area role-mark marks\" role=\"graphics-object\" aria-roledescription=\"area mark container\"><path aria-label=\"year: 5; xk: 0; variable: x187\" role=\"graphics-symbol\" aria-roledescription=\"area mark\" d=\"M25,18.181818181818187L50,18.18181818181821L75,18.181818181808417L100,18.181818181818187L125,18.181818181818187L150,18.181818181818187L175,83.46828394894645L175,83.46828394894645L150,18.181818181818187L125,18.181818181818187L100,18.181818181818187L75,18.181818181808417L50,18.18181818181821L25,18.181818181818187Z\" fill=\"#ff9da6\"/></g></g><path class=\"foreground\" aria-hidden=\"true\" d=\"\" display=\"none\"/></g><g transform=\"translate(0,0)\"><path class=\"background\" aria-hidden=\"true\" d=\"M0,0h200v200h-200Z\"/><g><g class=\"mark-area role-mark marks\" role=\"graphics-object\" aria-roledescription=\"area mark container\"><path aria-label=\"year: 5; xk: 0; variable: x188\" role=\"graphics-symbol\" aria-roledescription=\"area mark\" d=\"M25,18.181818181818187L50,18.18181818181821L75,18.181818181808417L100,18.181818181818187L125,18.181818181818187L150,18.181818181818187L175,83.46828394894645L175,83.46828394894645L150,18.181818181818187L125,18.181818181818187L100,18.181818181818187L75,18.181818181808417L50,18.18181818181821L25,18.181818181818187Z\" fill=\"#9d755d\"/></g></g><path class=\"foreground\" aria-hidden=\"true\" d=\"\" display=\"none\"/></g><g transform=\"translate(0,0)\"><path class=\"background\" aria-hidden=\"true\" d=\"M0,0h200v200h-200Z\"/><g><g class=\"mark-area role-mark marks\" role=\"graphics-object\" aria-roledescription=\"area mark container\"><path aria-label=\"year: 5; xk: 0; variable: x189\" role=\"graphics-symbol\" aria-roledescription=\"area mark\" d=\"M25,18.181818181818187L50,18.18181818181821L75,18.181818181808417L100,18.181818181818187L125,18.181818181818187L150,18.181818181818187L175,83.46828394894645L175,83.46828394894645L150,18.181818181818187L125,18.181818181818187L100,18.181818181818187L75,18.181818181808417L50,18.18181818181821L25,18.181818181818187Z\" fill=\"#bab0ac\"/></g></g><path class=\"foreground\" aria-hidden=\"true\" d=\"\" display=\"none\"/></g><g transform=\"translate(0,0)\"><path class=\"background\" aria-hidden=\"true\" d=\"M0,0h200v200h-200Z\"/><g><g class=\"mark-area role-mark marks\" role=\"graphics-object\" aria-roledescription=\"area mark container\"><path aria-label=\"year: 5; xk: 0; variable: x190\" role=\"graphics-symbol\" aria-roledescription=\"area mark\" d=\"M25,18.181818181818187L50,18.18181818181821L75,18.181818181808417L100,18.181818181818187L125,18.181818181818187L150,18.181818181818187L175,83.46828394894645L175,83.46828394894645L150,18.181818181818187L125,18.181818181818187L100,18.181818181818187L75,18.181818181808417L50,18.18181818181821L25,18.181818181818187Z\" fill=\"#f58518\"/></g></g><path class=\"foreground\" aria-hidden=\"true\" d=\"\" display=\"none\"/></g><g transform=\"translate(0,0)\"><path class=\"background\" aria-hidden=\"true\" d=\"M0,0h200v200h-200Z\"/><g><g class=\"mark-area role-mark marks\" role=\"graphics-object\" aria-roledescription=\"area mark container\"><path aria-label=\"year: 5; xk: 0; variable: x191\" role=\"graphics-symbol\" aria-roledescription=\"area mark\" d=\"M25,18.181818181818187L50,18.18181818181821L75,18.181818181808417L100,18.181818181818187L125,18.181818181818187L150,18.181818181818187L175,83.46828394894645L175,83.46828394894645L150,18.181818181818187L125,18.181818181818187L100,18.181818181818187L75,18.181818181808417L50,18.18181818181821L25,18.181818181818187Z\" fill=\"#e45756\"/></g></g><path class=\"foreground\" aria-hidden=\"true\" d=\"\" display=\"none\"/></g><g transform=\"translate(0,0)\"><path class=\"background\" aria-hidden=\"true\" d=\"M0,0h200v200h-200Z\"/><g><g class=\"mark-area role-mark marks\" role=\"graphics-object\" aria-roledescription=\"area mark container\"><path aria-label=\"year: 5; xk: 0; variable: x192\" role=\"graphics-symbol\" aria-roledescription=\"area mark\" d=\"M25,18.181818181818187L50,18.18181818181821L75,18.181818181808417L100,18.181818181818187L125,18.181818181818187L150,18.181818181818187L175,83.46828394894645L175,83.46828394894645L150,18.181818181818187L125,18.181818181818187L100,18.181818181818187L75,18.181818181808417L50,18.18181818181821L25,18.181818181818187Z\" fill=\"#72b7b2\"/></g></g><path class=\"foreground\" aria-hidden=\"true\" d=\"\" display=\"none\"/></g><g transform=\"translate(0,0)\"><path class=\"background\" aria-hidden=\"true\" d=\"M0,0h200v200h-200Z\"/><g><g class=\"mark-area role-mark marks\" role=\"graphics-object\" aria-roledescription=\"area mark container\"><path aria-label=\"year: 5; xk: 0; variable: x193\" role=\"graphics-symbol\" aria-roledescription=\"area mark\" d=\"M25,18.181818181818187L50,18.18181818181821L75,18.181818181808417L100,18.181818181818187L125,18.181818181818187L150,18.181818181818187L175,83.46828394894645L175,83.46828394894645L150,18.181818181818187L125,18.181818181818187L100,18.181818181818187L75,18.181818181808417L50,18.18181818181821L25,18.181818181818187Z\" fill=\"#54a24b\"/></g></g><path class=\"foreground\" aria-hidden=\"true\" d=\"\" display=\"none\"/></g><g transform=\"translate(0,0)\"><path class=\"background\" aria-hidden=\"true\" d=\"M0,0h200v200h-200Z\"/><g><g class=\"mark-area role-mark marks\" role=\"graphics-object\" aria-roledescription=\"area mark container\"><path aria-label=\"year: 5; xk: 0; variable: x194\" role=\"graphics-symbol\" aria-roledescription=\"area mark\" d=\"M25,18.181818181818187L50,18.18181818181821L75,18.181818181808417L100,18.181818181818187L125,18.181818181818187L150,18.181818181818187L175,83.46828394894645L175,83.46828394894645L150,18.181818181818187L125,18.181818181818187L100,18.181818181818187L75,18.181818181808417L50,18.18181818181821L25,18.181818181818187Z\" fill=\"#eeca3b\"/></g></g><path class=\"foreground\" aria-hidden=\"true\" d=\"\" display=\"none\"/></g><g transform=\"translate(0,0)\"><path class=\"background\" aria-hidden=\"true\" d=\"M0,0h200v200h-200Z\"/><g><g class=\"mark-area role-mark marks\" role=\"graphics-object\" aria-roledescription=\"area mark container\"><path aria-label=\"year: 5; xk: 0; variable: x195\" role=\"graphics-symbol\" aria-roledescription=\"area mark\" d=\"M25,18.181818181818187L50,18.18181818181821L75,18.181818181808417L100,18.181818181818187L125,18.181818181818187L150,18.181818181818187L175,83.46828394894645L175,83.46828394894645L150,18.181818181818187L125,18.181818181818187L100,18.181818181818187L75,18.181818181808417L50,18.18181818181821L25,18.181818181818187Z\" fill=\"#b279a2\"/></g></g><path class=\"foreground\" aria-hidden=\"true\" d=\"\" display=\"none\"/></g><g transform=\"translate(0,0)\"><path class=\"background\" aria-hidden=\"true\" d=\"M0,0h200v200h-200Z\"/><g><g class=\"mark-area role-mark marks\" role=\"graphics-object\" aria-roledescription=\"area mark container\"><path aria-label=\"year: 5; xk: 0; variable: x196\" role=\"graphics-symbol\" aria-roledescription=\"area mark\" d=\"M25,18.181818181818187L50,18.18181818181821L75,18.181818181808417L100,18.181818181818187L125,18.181818181818187L150,18.181818181818187L175,83.46828394894645L175,83.46828394894645L150,18.181818181818187L125,18.181818181818187L100,18.181818181818187L75,18.181818181808417L50,18.18181818181821L25,18.181818181818187Z\" fill=\"#ff9da6\"/></g></g><path class=\"foreground\" aria-hidden=\"true\" d=\"\" display=\"none\"/></g><g transform=\"translate(0,0)\"><path class=\"background\" aria-hidden=\"true\" d=\"M0,0h200v200h-200Z\"/><g><g class=\"mark-area role-mark marks\" role=\"graphics-object\" aria-roledescription=\"area mark container\"><path aria-label=\"year: 5; xk: 0; variable: x197\" role=\"graphics-symbol\" aria-roledescription=\"area mark\" d=\"M25,18.181818181818187L50,18.18181818181821L75,18.181818181808417L100,18.181818181818187L125,18.181818181818187L150,18.181818181818187L175,83.46828394894645L175,83.46828394894645L150,18.181818181818187L125,18.181818181818187L100,18.181818181818187L75,18.181818181808417L50,18.18181818181821L25,18.181818181818187Z\" fill=\"#9d755d\"/></g></g><path class=\"foreground\" aria-hidden=\"true\" d=\"\" display=\"none\"/></g><g transform=\"translate(0,0)\"><path class=\"background\" aria-hidden=\"true\" d=\"M0,0h200v200h-200Z\"/><g><g class=\"mark-area role-mark marks\" role=\"graphics-object\" aria-roledescription=\"area mark container\"><path aria-label=\"year: 5; xk: 0; variable: x198\" role=\"graphics-symbol\" aria-roledescription=\"area mark\" d=\"M25,18.181818181818187L50,18.18181818181821L75,18.181818181808417L100,18.181818181818187L125,18.181818181818187L150,18.181818181818187L175,83.46828394894645L175,83.46828394894645L150,18.181818181818187L125,18.181818181818187L100,18.181818181818187L75,18.181818181808417L50,18.18181818181821L25,18.181818181818187Z\" fill=\"#bab0ac\"/></g></g><path class=\"foreground\" aria-hidden=\"true\" d=\"\" display=\"none\"/></g><g transform=\"translate(0,0)\"><path class=\"background\" aria-hidden=\"true\" d=\"M0,0h200v200h-200Z\"/><g><g class=\"mark-area role-mark marks\" role=\"graphics-object\" aria-roledescription=\"area mark container\"><path aria-label=\"year: 5; xk: 0; variable: x199\" role=\"graphics-symbol\" aria-roledescription=\"area mark\" d=\"M25,18.181818181818187L50,18.18181818181821L75,18.181818181808417L100,18.181818181818187L125,18.181818181818187L150,18.181818181818187L175,83.46828394894645L175,83.46828394894645L150,18.181818181818187L125,18.181818181818187L100,18.181818181818187L75,18.181818181808417L50,18.18181818181821L25,18.181818181818187Z\" fill=\"#4c78a8\"/></g></g><path class=\"foreground\" aria-hidden=\"true\" d=\"\" display=\"none\"/></g><g transform=\"translate(0,0)\"><path class=\"background\" aria-hidden=\"true\" d=\"M0,0h200v200h-200Z\"/><g><g class=\"mark-area role-mark marks\" role=\"graphics-object\" aria-roledescription=\"area mark container\"><path aria-label=\"year: 5; xk: 0; variable: x200\" role=\"graphics-symbol\" aria-roledescription=\"area mark\" d=\"M25,18.181818181818187L50,18.18181818181821L75,18.181818181808417L100,18.181818181818187L125,18.181818181818187L150,18.181818181818187L175,83.46828394894645L175,83.46828394894645L150,18.181818181818187L125,18.181818181818187L100,18.181818181818187L75,18.181818181808417L50,18.18181818181821L25,18.181818181818187Z\" fill=\"#72b7b2\"/></g></g><path class=\"foreground\" aria-hidden=\"true\" d=\"\" display=\"none\"/></g><g transform=\"translate(0,0)\"><path class=\"background\" aria-hidden=\"true\" d=\"M0,0h200v200h-200Z\"/><g><g class=\"mark-area role-mark marks\" role=\"graphics-object\" aria-roledescription=\"area mark container\"><path aria-label=\"year: 5; xk: 0; variable: x201\" role=\"graphics-symbol\" aria-roledescription=\"area mark\" d=\"M25,18.181818181818187L50,18.18181818181821L75,18.181818181808417L100,18.181818181818187L125,18.181818181818187L150,18.181818181818187L175,83.46828394894645L175,83.46828394894645L150,18.181818181818187L125,18.181818181818187L100,18.181818181818187L75,18.181818181808417L50,18.18181818181821L25,18.181818181818187Z\" fill=\"#54a24b\"/></g></g><path class=\"foreground\" aria-hidden=\"true\" d=\"\" display=\"none\"/></g><g transform=\"translate(0,0)\"><path class=\"background\" aria-hidden=\"true\" d=\"M0,0h200v200h-200Z\"/><g><g class=\"mark-area role-mark marks\" role=\"graphics-object\" aria-roledescription=\"area mark container\"><path aria-label=\"year: 5; xk: 0; variable: x202\" role=\"graphics-symbol\" aria-roledescription=\"area mark\" d=\"M25,18.181818181818187L50,18.18181818181821L75,18.181818181808417L100,18.181818181818187L125,18.181818181818187L150,18.181818181818187L175,83.46828394894645L175,83.46828394894645L150,18.181818181818187L125,18.181818181818187L100,18.181818181818187L75,18.181818181808417L50,18.18181818181821L25,18.181818181818187Z\" fill=\"#eeca3b\"/></g></g><path class=\"foreground\" aria-hidden=\"true\" d=\"\" display=\"none\"/></g><g transform=\"translate(0,0)\"><path class=\"background\" aria-hidden=\"true\" d=\"M0,0h200v200h-200Z\"/><g><g class=\"mark-area role-mark marks\" role=\"graphics-object\" aria-roledescription=\"area mark container\"><path aria-label=\"year: 5; xk: 0; variable: x203\" role=\"graphics-symbol\" aria-roledescription=\"area mark\" d=\"M25,18.181818181818187L50,18.18181818181821L75,18.181818181808417L100,18.181818181818187L125,18.181818181818187L150,18.181818181818187L175,83.46828394894645L175,83.46828394894645L150,18.181818181818187L125,18.181818181818187L100,18.181818181818187L75,18.181818181808417L50,18.18181818181821L25,18.181818181818187Z\" fill=\"#b279a2\"/></g></g><path class=\"foreground\" aria-hidden=\"true\" d=\"\" display=\"none\"/></g><g transform=\"translate(0,0)\"><path class=\"background\" aria-hidden=\"true\" d=\"M0,0h200v200h-200Z\"/><g><g class=\"mark-area role-mark marks\" role=\"graphics-object\" aria-roledescription=\"area mark container\"><path aria-label=\"year: 5; xk: 0; variable: x204\" role=\"graphics-symbol\" aria-roledescription=\"area mark\" d=\"M25,18.181818181818187L50,18.18181818181821L75,18.181818181808417L100,18.181818181818187L125,18.181818181818187L150,18.181818181818187L175,83.46828394894645L175,83.46828394894645L150,18.181818181818187L125,18.181818181818187L100,18.181818181818187L75,18.181818181808417L50,18.18181818181821L25,18.181818181818187Z\" fill=\"#ff9da6\"/></g></g><path class=\"foreground\" aria-hidden=\"true\" d=\"\" display=\"none\"/></g><g transform=\"translate(0,0)\"><path class=\"background\" aria-hidden=\"true\" d=\"M0,0h200v200h-200Z\"/><g><g class=\"mark-area role-mark marks\" role=\"graphics-object\" aria-roledescription=\"area mark container\"><path aria-label=\"year: 5; xk: 0; variable: x205\" role=\"graphics-symbol\" aria-roledescription=\"area mark\" d=\"M25,18.181818181818187L50,18.18181818181821L75,18.181818181808417L100,18.181818181818187L125,18.181818181818187L150,18.181818181818187L175,83.46828394894645L175,83.46828394894645L150,18.181818181818187L125,18.181818181818187L100,18.181818181818187L75,18.181818181808417L50,18.18181818181821L25,18.181818181818187Z\" fill=\"#9d755d\"/></g></g><path class=\"foreground\" aria-hidden=\"true\" d=\"\" display=\"none\"/></g><g transform=\"translate(0,0)\"><path class=\"background\" aria-hidden=\"true\" d=\"M0,0h200v200h-200Z\"/><g><g class=\"mark-area role-mark marks\" role=\"graphics-object\" aria-roledescription=\"area mark container\"><path aria-label=\"year: 5; xk: 0; variable: x206\" role=\"graphics-symbol\" aria-roledescription=\"area mark\" d=\"M25,18.181818181818187L50,18.18181818181821L75,18.181818181808417L100,18.181818181818187L125,18.181818181818187L150,18.181818181818187L175,83.46828394894645L175,83.46828394894645L150,18.181818181818187L125,18.181818181818187L100,18.181818181818187L75,18.181818181808417L50,18.18181818181821L25,18.181818181818187Z\" fill=\"#bab0ac\"/></g></g><path class=\"foreground\" aria-hidden=\"true\" d=\"\" display=\"none\"/></g><g transform=\"translate(0,0)\"><path class=\"background\" aria-hidden=\"true\" d=\"M0,0h200v200h-200Z\"/><g><g class=\"mark-area role-mark marks\" role=\"graphics-object\" aria-roledescription=\"area mark container\"><path aria-label=\"year: 5; xk: 0; variable: x207\" role=\"graphics-symbol\" aria-roledescription=\"area mark\" d=\"M25,18.181818181818187L50,18.18181818181821L75,18.181818181808417L100,18.181818181818187L125,18.181818181818187L150,18.181818181818187L175,83.46828394894645L175,83.46828394894645L150,18.181818181818187L125,18.181818181818187L100,18.181818181818187L75,18.181818181808417L50,18.18181818181821L25,18.181818181818187Z\" fill=\"#4c78a8\"/></g></g><path class=\"foreground\" aria-hidden=\"true\" d=\"\" display=\"none\"/></g><g transform=\"translate(0,0)\"><path class=\"background\" aria-hidden=\"true\" d=\"M0,0h200v200h-200Z\"/><g><g class=\"mark-area role-mark marks\" role=\"graphics-object\" aria-roledescription=\"area mark container\"><path aria-label=\"year: 5; xk: 0; variable: x208\" role=\"graphics-symbol\" aria-roledescription=\"area mark\" d=\"M25,18.181818181818187L50,18.18181818181821L75,18.181818181808417L100,18.181818181818187L125,18.181818181818187L150,18.181818181818187L175,83.46828394894645L175,83.46828394894645L150,18.181818181818187L125,18.181818181818187L100,18.181818181818187L75,18.181818181808417L50,18.18181818181821L25,18.181818181818187Z\" fill=\"#f58518\"/></g></g><path class=\"foreground\" aria-hidden=\"true\" d=\"\" display=\"none\"/></g><g transform=\"translate(0,0)\"><path class=\"background\" aria-hidden=\"true\" d=\"M0,0h200v200h-200Z\"/><g><g class=\"mark-area role-mark marks\" role=\"graphics-object\" aria-roledescription=\"area mark container\"><path aria-label=\"year: 5; xk: 0; variable: x209\" role=\"graphics-symbol\" aria-roledescription=\"area mark\" d=\"M25,18.181818181818187L50,18.18181818181821L75,18.181818181808417L100,18.181818181818187L125,18.181818181818187L150,18.181818181818187L175,83.46828394894645L175,83.46828394894645L150,18.181818181818187L125,18.181818181818187L100,18.181818181818187L75,18.181818181808417L50,18.18181818181821L25,18.181818181818187Z\" fill=\"#e45756\"/></g></g><path class=\"foreground\" aria-hidden=\"true\" d=\"\" display=\"none\"/></g><g transform=\"translate(0,0)\"><path class=\"background\" aria-hidden=\"true\" d=\"M0,0h200v200h-200Z\"/><g><g class=\"mark-area role-mark marks\" role=\"graphics-object\" aria-roledescription=\"area mark container\"><path aria-label=\"year: 5; xk: 0; variable: x210\" role=\"graphics-symbol\" aria-roledescription=\"area mark\" d=\"M25,18.181818181818187L50,18.18181818181821L75,18.181818181808417L100,18.181818181818187L125,18.181818181818187L150,18.181818181818187L175,83.46828394894645L175,83.46828394894645L150,18.181818181818187L125,18.181818181818187L100,18.181818181818187L75,18.181818181808417L50,18.18181818181821L25,18.181818181818187Z\" fill=\"#54a24b\"/></g></g><path class=\"foreground\" aria-hidden=\"true\" d=\"\" display=\"none\"/></g><g transform=\"translate(0,0)\"><path class=\"background\" aria-hidden=\"true\" d=\"M0,0h200v200h-200Z\"/><g><g class=\"mark-area role-mark marks\" role=\"graphics-object\" aria-roledescription=\"area mark container\"><path aria-label=\"year: 5; xk: 0; variable: x211\" role=\"graphics-symbol\" aria-roledescription=\"area mark\" d=\"M25,18.181818181818187L50,18.18181818181821L75,18.181818181808417L100,18.181818181818187L125,18.181818181818187L150,18.181818181818187L175,83.46828394894645L175,83.46828394894645L150,18.181818181818187L125,18.181818181818187L100,18.181818181818187L75,18.181818181808417L50,18.18181818181821L25,18.181818181818187Z\" fill=\"#eeca3b\"/></g></g><path class=\"foreground\" aria-hidden=\"true\" d=\"\" display=\"none\"/></g><g transform=\"translate(0,0)\"><path class=\"background\" aria-hidden=\"true\" d=\"M0,0h200v200h-200Z\"/><g><g class=\"mark-area role-mark marks\" role=\"graphics-object\" aria-roledescription=\"area mark container\"><path aria-label=\"year: 5; xk: 0; variable: x212\" role=\"graphics-symbol\" aria-roledescription=\"area mark\" d=\"M25,18.181818181818187L50,18.18181818181821L75,18.181818181808417L100,18.181818181818187L125,18.181818181818187L150,18.181818181818187L175,83.46828394894645L175,83.46828394894645L150,18.181818181818187L125,18.181818181818187L100,18.181818181818187L75,18.181818181808417L50,18.18181818181821L25,18.181818181818187Z\" fill=\"#b279a2\"/></g></g><path class=\"foreground\" aria-hidden=\"true\" d=\"\" display=\"none\"/></g><g transform=\"translate(0,0)\"><path class=\"background\" aria-hidden=\"true\" d=\"M0,0h200v200h-200Z\"/><g><g class=\"mark-area role-mark marks\" role=\"graphics-object\" aria-roledescription=\"area mark container\"><path aria-label=\"year: 5; xk: 0; variable: x213\" role=\"graphics-symbol\" aria-roledescription=\"area mark\" d=\"M25,18.181818181818187L50,18.18181818181821L75,18.181818181808417L100,18.181818181818187L125,18.181818181818187L150,18.181818181818187L175,83.46828394894645L175,83.46828394894645L150,18.181818181818187L125,18.181818181818187L100,18.181818181818187L75,18.181818181808417L50,18.18181818181821L25,18.181818181818187Z\" fill=\"#ff9da6\"/></g></g><path class=\"foreground\" aria-hidden=\"true\" d=\"\" display=\"none\"/></g><g transform=\"translate(0,0)\"><path class=\"background\" aria-hidden=\"true\" d=\"M0,0h200v200h-200Z\"/><g><g class=\"mark-area role-mark marks\" role=\"graphics-object\" aria-roledescription=\"area mark container\"><path aria-label=\"year: 5; xk: 0; variable: x214\" role=\"graphics-symbol\" aria-roledescription=\"area mark\" d=\"M25,18.181818181818187L50,18.18181818181821L75,18.181818181808417L100,18.181818181818187L125,18.181818181818187L150,18.181818181818187L175,83.46828394894645L175,83.46828394894645L150,18.181818181818187L125,18.181818181818187L100,18.181818181818187L75,18.181818181808417L50,18.18181818181821L25,18.181818181818187Z\" fill=\"#9d755d\"/></g></g><path class=\"foreground\" aria-hidden=\"true\" d=\"\" display=\"none\"/></g><g transform=\"translate(0,0)\"><path class=\"background\" aria-hidden=\"true\" d=\"M0,0h200v200h-200Z\"/><g><g class=\"mark-area role-mark marks\" role=\"graphics-object\" aria-roledescription=\"area mark container\"><path aria-label=\"year: 5; xk: 0; variable: x215\" role=\"graphics-symbol\" aria-roledescription=\"area mark\" d=\"M25,18.181818181818187L50,18.18181818181821L75,18.181818181808417L100,18.181818181818187L125,18.181818181818187L150,18.181818181818187L175,83.46828394894645L175,83.46828394894645L150,18.181818181818187L125,18.181818181818187L100,18.181818181818187L75,18.181818181808417L50,18.18181818181821L25,18.181818181818187Z\" fill=\"#bab0ac\"/></g></g><path class=\"foreground\" aria-hidden=\"true\" d=\"\" display=\"none\"/></g><g transform=\"translate(0,0)\"><path class=\"background\" aria-hidden=\"true\" d=\"M0,0h200v200h-200Z\"/><g><g class=\"mark-area role-mark marks\" role=\"graphics-object\" aria-roledescription=\"area mark container\"><path aria-label=\"year: 5; xk: 0; variable: x216\" role=\"graphics-symbol\" aria-roledescription=\"area mark\" d=\"M25,18.181818181818187L50,18.18181818181821L75,18.181818181808417L100,18.181818181818187L125,18.181818181818187L150,18.181818181818187L175,83.46828394894645L175,83.46828394894645L150,18.181818181818187L125,18.181818181818187L100,18.181818181818187L75,18.181818181808417L50,18.18181818181821L25,18.181818181818187Z\" fill=\"#4c78a8\"/></g></g><path class=\"foreground\" aria-hidden=\"true\" d=\"\" display=\"none\"/></g><g transform=\"translate(0,0)\"><path class=\"background\" aria-hidden=\"true\" d=\"M0,0h200v200h-200Z\"/><g><g class=\"mark-area role-mark marks\" role=\"graphics-object\" aria-roledescription=\"area mark container\"><path aria-label=\"year: 5; xk: 1; variable: x217\" role=\"graphics-symbol\" aria-roledescription=\"area mark\" d=\"M25,18.181818181818187L50,18.18181818181821L75,18.181818181808417L100,18.181818181818187L125,18.181818181818187L150,18.181818181818187L175,83.46828394894645L175,83.46828394894645L150,18.181818181818187L125,18.181818181818187L100,18.181818181818187L75,18.181818181808417L50,27.272727272727295L25,200Z\" fill=\"#f58518\"/></g></g><path class=\"foreground\" aria-hidden=\"true\" d=\"\" display=\"none\"/></g><g transform=\"translate(0,0)\"><path class=\"background\" aria-hidden=\"true\" d=\"M0,0h200v200h-200Z\"/><g><g class=\"mark-area role-mark marks\" role=\"graphics-object\" aria-roledescription=\"area mark container\"><path aria-label=\"year: 5; xk: 0; variable: x218\" role=\"graphics-symbol\" aria-roledescription=\"area mark\" d=\"M25,200L50,27.272727272727295L75,18.181818181808417L100,18.181818181818187L125,18.181818181818187L150,18.181818181818187L175,83.46828394894645L175,83.46828394894645L150,18.181818181818187L125,18.181818181818187L100,18.181818181818187L75,18.181818181808417L50,27.272727272727295L25,200Z\" fill=\"#e45756\"/></g></g><path class=\"foreground\" aria-hidden=\"true\" d=\"\" display=\"none\"/></g><g transform=\"translate(0,0)\"><path class=\"background\" aria-hidden=\"true\" d=\"M0,0h200v200h-200Z\"/><g><g class=\"mark-area role-mark marks\" role=\"graphics-object\" aria-roledescription=\"area mark container\"><path aria-label=\"year: 5; xk: 0; variable: x219\" role=\"graphics-symbol\" aria-roledescription=\"area mark\" d=\"M25,200L50,27.272727272727295L75,18.181818181808417L100,18.181818181818187L125,18.181818181818187L150,18.181818181818187L175,83.46828394894645L175,83.46828394894645L150,18.181818181818187L125,18.181818181818187L100,18.181818181818187L75,18.181818181808417L50,27.272727272727295L25,200Z\" fill=\"#72b7b2\"/></g></g><path class=\"foreground\" aria-hidden=\"true\" d=\"\" display=\"none\"/></g><g transform=\"translate(0,0)\"><path class=\"background\" aria-hidden=\"true\" d=\"M0,0h200v200h-200Z\"/><g><g class=\"mark-area role-mark marks\" role=\"graphics-object\" aria-roledescription=\"area mark container\"><path aria-label=\"year: 5; xk: 0; variable: x220\" role=\"graphics-symbol\" aria-roledescription=\"area mark\" d=\"M25,200L50,27.272727272727295L75,18.181818181808417L100,18.181818181818187L125,18.181818181818187L150,18.181818181818187L175,83.46828394894645L175,83.46828394894645L150,18.181818181818187L125,18.181818181818187L100,18.181818181818187L75,18.181818181808417L50,27.272727272727295L25,200Z\" fill=\"#eeca3b\"/></g></g><path class=\"foreground\" aria-hidden=\"true\" d=\"\" display=\"none\"/></g><g transform=\"translate(0,0)\"><path class=\"background\" aria-hidden=\"true\" d=\"M0,0h200v200h-200Z\"/><g><g class=\"mark-area role-mark marks\" role=\"graphics-object\" aria-roledescription=\"area mark container\"><path aria-label=\"year: 5; xk: 0; variable: x221\" role=\"graphics-symbol\" aria-roledescription=\"area mark\" d=\"M25,200L50,27.272727272727295L75,18.181818181808417L100,18.181818181818187L125,18.181818181818187L150,18.181818181818187L175,83.46828394894645L175,200L150,200L125,134.3674205343163L100,134.3674205343163L75,131.02853543794768L50,27.272727272727295L25,200Z\" fill=\"#b279a2\"/></g></g><path class=\"foreground\" aria-hidden=\"true\" d=\"\" display=\"none\"/></g><g transform=\"translate(0,0)\"><path class=\"background\" aria-hidden=\"true\" d=\"M0,0h200v200h-200Z\"/><g><g class=\"mark-area role-mark marks\" role=\"graphics-object\" aria-roledescription=\"area mark container\"><path aria-label=\"year: 5; xk: 0; variable: x222\" role=\"graphics-symbol\" aria-roledescription=\"area mark\" d=\"M25,200L50,27.272727272727295L75,131.02853543794768L100,134.3674205343163L125,134.3674205343163L150,200L175,200L175,200L150,200L125,134.3674205343163L100,134.3674205343163L75,131.02853543794768L50,27.272727272727295L25,200Z\" fill=\"#ff9da6\"/></g></g><path class=\"foreground\" aria-hidden=\"true\" d=\"\" display=\"none\"/></g><g transform=\"translate(0,0)\"><path class=\"background\" aria-hidden=\"true\" d=\"M0,0h200v200h-200Z\"/><g><g class=\"mark-area role-mark marks\" role=\"graphics-object\" aria-roledescription=\"area mark container\"><path aria-label=\"year: 5; xk: 0; variable: x223\" role=\"graphics-symbol\" aria-roledescription=\"area mark\" d=\"M25,200L50,27.272727272727295L75,131.02853543794768L100,134.3674205343163L125,134.3674205343163L150,200L175,200L175,200L150,200L125,134.3674205343163L100,134.3674205343163L75,131.02853543794768L50,27.272727272727295L25,200Z\" fill=\"#9d755d\"/></g></g><path class=\"foreground\" aria-hidden=\"true\" d=\"\" display=\"none\"/></g><g transform=\"translate(0,0)\"><path class=\"background\" aria-hidden=\"true\" d=\"M0,0h200v200h-200Z\"/><g><g class=\"mark-area role-mark marks\" role=\"graphics-object\" aria-roledescription=\"area mark container\"><path aria-label=\"year: 5; xk: 0; variable: x224\" role=\"graphics-symbol\" aria-roledescription=\"area mark\" d=\"M25,200L50,27.272727272727295L75,131.02853543794768L100,134.3674205343163L125,134.3674205343163L150,200L175,200L175,200L150,200L125,134.3674205343163L100,134.3674205343163L75,131.02853543794768L50,27.272727272727295L25,200Z\" fill=\"#bab0ac\"/></g></g><path class=\"foreground\" aria-hidden=\"true\" d=\"\" display=\"none\"/></g><g transform=\"translate(0,0)\"><path class=\"background\" aria-hidden=\"true\" d=\"M0,0h200v200h-200Z\"/><g><g class=\"mark-area role-mark marks\" role=\"graphics-object\" aria-roledescription=\"area mark container\"><path aria-label=\"year: 5; xk: 0; variable: x225\" role=\"graphics-symbol\" aria-roledescription=\"area mark\" d=\"M25,200L50,27.272727272727295L75,131.02853543794768L100,134.3674205343163L125,134.3674205343163L150,200L175,200L175,200L150,200L125,134.3674205343163L100,134.3674205343163L75,131.02853543794768L50,27.272727272727295L25,200Z\" fill=\"#4c78a8\"/></g></g><path class=\"foreground\" aria-hidden=\"true\" d=\"\" display=\"none\"/></g><g transform=\"translate(0,0)\"><path class=\"background\" aria-hidden=\"true\" d=\"M0,0h200v200h-200Z\"/><g><g class=\"mark-area role-mark marks\" role=\"graphics-object\" aria-roledescription=\"area mark container\"><path aria-label=\"year: 5; xk: 0; variable: x226\" role=\"graphics-symbol\" aria-roledescription=\"area mark\" d=\"M25,200L50,27.272727272727295L75,131.02853543794768L100,134.3674205343163L125,134.3674205343163L150,200L175,200L175,200L150,200L125,134.3674205343163L100,134.3674205343163L75,131.02853543794768L50,27.272727272727295L25,200Z\" fill=\"#f58518\"/></g></g><path class=\"foreground\" aria-hidden=\"true\" d=\"\" display=\"none\"/></g><g transform=\"translate(0,0)\"><path class=\"background\" aria-hidden=\"true\" d=\"M0,0h200v200h-200Z\"/><g><g class=\"mark-area role-mark marks\" role=\"graphics-object\" aria-roledescription=\"area mark container\"><path aria-label=\"year: 5; xk: 0; variable: x227\" role=\"graphics-symbol\" aria-roledescription=\"area mark\" d=\"M25,200L50,27.272727272727295L75,131.02853543794768L100,134.3674205343163L125,134.3674205343163L150,200L175,200L175,200L150,200L125,134.3674205343163L100,134.3674205343163L75,131.02853543794768L50,27.272727272727295L25,200Z\" fill=\"#e45756\"/></g></g><path class=\"foreground\" aria-hidden=\"true\" d=\"\" display=\"none\"/></g><g transform=\"translate(0,0)\"><path class=\"background\" aria-hidden=\"true\" d=\"M0,0h200v200h-200Z\"/><g><g class=\"mark-area role-mark marks\" role=\"graphics-object\" aria-roledescription=\"area mark container\"><path aria-label=\"year: 5; xk: 0; variable: x228\" role=\"graphics-symbol\" aria-roledescription=\"area mark\" d=\"M25,200L50,27.272727272727295L75,131.02853543794768L100,134.3674205343163L125,134.3674205343163L150,200L175,200L175,200L150,200L125,134.3674205343163L100,134.3674205343163L75,131.02853543794768L50,27.272727272727295L25,200Z\" fill=\"#72b7b2\"/></g></g><path class=\"foreground\" aria-hidden=\"true\" d=\"\" display=\"none\"/></g><g transform=\"translate(0,0)\"><path class=\"background\" aria-hidden=\"true\" d=\"M0,0h200v200h-200Z\"/><g><g class=\"mark-area role-mark marks\" role=\"graphics-object\" aria-roledescription=\"area mark container\"><path aria-label=\"year: 5; xk: 0; variable: x229\" role=\"graphics-symbol\" aria-roledescription=\"area mark\" d=\"M25,200L50,27.272727272727295L75,131.02853543794768L100,134.3674205343163L125,134.3674205343163L150,200L175,200L175,200L150,200L125,134.3674205343163L100,134.3674205343163L75,131.02853543794768L50,27.272727272727295L25,200Z\" fill=\"#54a24b\"/></g></g><path class=\"foreground\" aria-hidden=\"true\" d=\"\" display=\"none\"/></g><g transform=\"translate(0,0)\"><path class=\"background\" aria-hidden=\"true\" d=\"M0,0h200v200h-200Z\"/><g><g class=\"mark-area role-mark marks\" role=\"graphics-object\" aria-roledescription=\"area mark container\"><path aria-label=\"year: 5; xk: 0; variable: x230\" role=\"graphics-symbol\" aria-roledescription=\"area mark\" d=\"M25,200L50,27.272727272727295L75,131.02853543794768L100,134.3674205343163L125,134.3674205343163L150,200L175,200L175,200L150,200L125,134.3674205343163L100,134.3674205343163L75,131.02853543794768L50,27.272727272727295L25,200Z\" fill=\"#b279a2\"/></g></g><path class=\"foreground\" aria-hidden=\"true\" d=\"\" display=\"none\"/></g><g transform=\"translate(0,0)\"><path class=\"background\" aria-hidden=\"true\" d=\"M0,0h200v200h-200Z\"/><g><g class=\"mark-area role-mark marks\" role=\"graphics-object\" aria-roledescription=\"area mark container\"><path aria-label=\"year: 5; xk: 0; variable: x231\" role=\"graphics-symbol\" aria-roledescription=\"area mark\" d=\"M25,200L50,27.272727272727295L75,131.02853543794768L100,134.3674205343163L125,134.3674205343163L150,200L175,200L175,200L150,200L125,134.3674205343163L100,134.3674205343163L75,131.02853543794768L50,27.272727272727295L25,200Z\" fill=\"#ff9da6\"/></g></g><path class=\"foreground\" aria-hidden=\"true\" d=\"\" display=\"none\"/></g><g transform=\"translate(0,0)\"><path class=\"background\" aria-hidden=\"true\" d=\"M0,0h200v200h-200Z\"/><g><g class=\"mark-area role-mark marks\" role=\"graphics-object\" aria-roledescription=\"area mark container\"><path aria-label=\"year: 5; xk: 0; variable: x232\" role=\"graphics-symbol\" aria-roledescription=\"area mark\" d=\"M25,200L50,27.272727272727295L75,131.02853543794768L100,134.3674205343163L125,134.3674205343163L150,200L175,200L175,200L150,200L125,134.3674205343163L100,134.3674205343163L75,131.02853543794768L50,27.272727272727295L25,200Z\" fill=\"#9d755d\"/></g></g><path class=\"foreground\" aria-hidden=\"true\" d=\"\" display=\"none\"/></g><g transform=\"translate(0,0)\"><path class=\"background\" aria-hidden=\"true\" d=\"M0,0h200v200h-200Z\"/><g><g class=\"mark-area role-mark marks\" role=\"graphics-object\" aria-roledescription=\"area mark container\"><path aria-label=\"year: 5; xk: 0; variable: x233\" role=\"graphics-symbol\" aria-roledescription=\"area mark\" d=\"M25,200L50,27.272727272727295L75,131.02853543794768L100,134.3674205343163L125,134.3674205343163L150,200L175,200L175,200L150,200L125,134.3674205343163L100,134.3674205343163L75,131.02853543794768L50,27.272727272727295L25,200Z\" fill=\"#bab0ac\"/></g></g><path class=\"foreground\" aria-hidden=\"true\" d=\"\" display=\"none\"/></g><g transform=\"translate(0,0)\"><path class=\"background\" aria-hidden=\"true\" d=\"M0,0h200v200h-200Z\"/><g><g class=\"mark-area role-mark marks\" role=\"graphics-object\" aria-roledescription=\"area mark container\"><path aria-label=\"year: 5; xk: 0; variable: x234\" role=\"graphics-symbol\" aria-roledescription=\"area mark\" d=\"M25,200L50,27.272727272727295L75,131.02853543794768L100,134.3674205343163L125,134.3674205343163L150,200L175,200L175,200L150,200L125,134.3674205343163L100,134.3674205343163L75,131.02853543794768L50,27.272727272727295L25,200Z\" fill=\"#4c78a8\"/></g></g><path class=\"foreground\" aria-hidden=\"true\" d=\"\" display=\"none\"/></g><g transform=\"translate(0,0)\"><path class=\"background\" aria-hidden=\"true\" d=\"M0,0h200v200h-200Z\"/><g><g class=\"mark-area role-mark marks\" role=\"graphics-object\" aria-roledescription=\"area mark container\"><path aria-label=\"year: 5; xk: 0; variable: x235\" role=\"graphics-symbol\" aria-roledescription=\"area mark\" d=\"M25,200L50,27.272727272727295L75,131.02853543794768L100,134.3674205343163L125,134.3674205343163L150,200L175,200L175,200L150,200L125,134.3674205343163L100,134.3674205343163L75,131.02853543794768L50,27.272727272727295L25,200Z\" fill=\"#f58518\"/></g></g><path class=\"foreground\" aria-hidden=\"true\" d=\"\" display=\"none\"/></g><g transform=\"translate(0,0)\"><path class=\"background\" aria-hidden=\"true\" d=\"M0,0h200v200h-200Z\"/><g><g class=\"mark-area role-mark marks\" role=\"graphics-object\" aria-roledescription=\"area mark container\"><path aria-label=\"year: 5; xk: 0; variable: x236\" role=\"graphics-symbol\" aria-roledescription=\"area mark\" d=\"M25,200L50,27.272727272727295L75,131.02853543794768L100,134.3674205343163L125,134.3674205343163L150,200L175,200L175,200L150,200L125,134.3674205343163L100,134.3674205343163L75,131.02853543794768L50,27.272727272727295L25,200Z\" fill=\"#e45756\"/></g></g><path class=\"foreground\" aria-hidden=\"true\" d=\"\" display=\"none\"/></g><g transform=\"translate(0,0)\"><path class=\"background\" aria-hidden=\"true\" d=\"M0,0h200v200h-200Z\"/><g><g class=\"mark-area role-mark marks\" role=\"graphics-object\" aria-roledescription=\"area mark container\"><path aria-label=\"year: 5; xk: 0; variable: x237\" role=\"graphics-symbol\" aria-roledescription=\"area mark\" d=\"M25,200L50,27.272727272727295L75,131.02853543794768L100,134.3674205343163L125,134.3674205343163L150,200L175,200L175,200L150,200L125,134.3674205343163L100,134.3674205343163L75,131.02853543794768L50,27.272727272727295L25,200Z\" fill=\"#72b7b2\"/></g></g><path class=\"foreground\" aria-hidden=\"true\" d=\"\" display=\"none\"/></g><g transform=\"translate(0,0)\"><path class=\"background\" aria-hidden=\"true\" d=\"M0,0h200v200h-200Z\"/><g><g class=\"mark-area role-mark marks\" role=\"graphics-object\" aria-roledescription=\"area mark container\"><path aria-label=\"year: 5; xk: 0; variable: x238\" role=\"graphics-symbol\" aria-roledescription=\"area mark\" d=\"M25,200L50,27.272727272727295L75,131.02853543794768L100,134.3674205343163L125,134.3674205343163L150,200L175,200L175,200L150,200L125,134.3674205343163L100,134.3674205343163L75,131.02853543794768L50,27.272727272727295L25,200Z\" fill=\"#54a24b\"/></g></g><path class=\"foreground\" aria-hidden=\"true\" d=\"\" display=\"none\"/></g><g transform=\"translate(0,0)\"><path class=\"background\" aria-hidden=\"true\" d=\"M0,0h200v200h-200Z\"/><g><g class=\"mark-area role-mark marks\" role=\"graphics-object\" aria-roledescription=\"area mark container\"><path aria-label=\"year: 5; xk: 0; variable: x239\" role=\"graphics-symbol\" aria-roledescription=\"area mark\" d=\"M25,200L50,27.272727272727295L75,131.02853543794768L100,134.3674205343163L125,134.3674205343163L150,200L175,200L175,200L150,200L125,134.3674205343163L100,134.3674205343163L75,131.02853543794768L50,27.272727272727295L25,200Z\" fill=\"#eeca3b\"/></g></g><path class=\"foreground\" aria-hidden=\"true\" d=\"\" display=\"none\"/></g><g transform=\"translate(0,0)\"><path class=\"background\" aria-hidden=\"true\" d=\"M0,0h200v200h-200Z\"/><g><g class=\"mark-area role-mark marks\" role=\"graphics-object\" aria-roledescription=\"area mark container\"><path aria-label=\"year: 5; xk: 0; variable: x240\" role=\"graphics-symbol\" aria-roledescription=\"area mark\" d=\"M25,200L50,27.272727272727295L75,131.02853543794768L100,134.3674205343163L125,134.3674205343163L150,200L175,200L175,200L150,200L125,134.3674205343163L100,134.3674205343163L75,131.02853543794768L50,27.272727272727295L25,200Z\" fill=\"#ff9da6\"/></g></g><path class=\"foreground\" aria-hidden=\"true\" d=\"\" display=\"none\"/></g></g><g class=\"mark-group role-legend\" role=\"graphics-symbol\" aria-roledescription=\"legend\" aria-label=\"Symbol legend titled 'variable' for fill color with 240 values: x1, x10, x100, x101, x102, ending with x99\"><g transform=\"translate(218,0)\"><path class=\"background\" aria-hidden=\"true\" d=\"M0,0h81v404h-81Z\" pointer-events=\"none\"/><g><g class=\"mark-group role-legend-entry\"><g transform=\"translate(0,16)\"><path class=\"background\" aria-hidden=\"true\" d=\"M0,0h0v0h0Z\" pointer-events=\"none\"/><g><g class=\"mark-group role-scope\" role=\"graphics-object\" aria-roledescription=\"group mark container\"><g transform=\"translate(0,0)\"><path class=\"background\" aria-hidden=\"true\" d=\"M0,0h81v11h-81Z\" pointer-events=\"none\" opacity=\"1\"/><g><g class=\"mark-symbol role-legend-symbol\" pointer-events=\"none\"><path transform=\"translate(6,6)\" d=\"M5,0A5,5,0,1,1,-5,0A5,5,0,1,1,5,0\" fill=\"#4c78a8\" stroke-width=\"1.5\" opacity=\"1\"/></g><g class=\"mark-text role-legend-label\" pointer-events=\"none\"><text text-anchor=\"start\" transform=\"translate(16,9)\" font-family=\"sans-serif\" font-size=\"10px\" fill=\"#000\" opacity=\"1\">x1</text></g></g><path class=\"foreground\" aria-hidden=\"true\" d=\"\" pointer-events=\"none\" display=\"none\"/></g><g transform=\"translate(0,13)\"><path class=\"background\" aria-hidden=\"true\" d=\"M0,0h81v11h-81Z\" pointer-events=\"none\" opacity=\"1\"/><g><g class=\"mark-symbol role-legend-symbol\" pointer-events=\"none\"><path transform=\"translate(6,6)\" d=\"M5,0A5,5,0,1,1,-5,0A5,5,0,1,1,5,0\" fill=\"#f58518\" stroke-width=\"1.5\" opacity=\"1\"/></g><g class=\"mark-text role-legend-label\" pointer-events=\"none\"><text text-anchor=\"start\" transform=\"translate(16,9)\" font-family=\"sans-serif\" font-size=\"10px\" fill=\"#000\" opacity=\"1\">x10</text></g></g><path class=\"foreground\" aria-hidden=\"true\" d=\"\" pointer-events=\"none\" display=\"none\"/></g><g transform=\"translate(0,26)\"><path class=\"background\" aria-hidden=\"true\" d=\"M0,0h81v11h-81Z\" pointer-events=\"none\" opacity=\"1\"/><g><g class=\"mark-symbol role-legend-symbol\" pointer-events=\"none\"><path transform=\"translate(6,6)\" d=\"M5,0A5,5,0,1,1,-5,0A5,5,0,1,1,5,0\" fill=\"#e45756\" stroke-width=\"1.5\" opacity=\"1\"/></g><g class=\"mark-text role-legend-label\" pointer-events=\"none\"><text text-anchor=\"start\" transform=\"translate(16,9)\" font-family=\"sans-serif\" font-size=\"10px\" fill=\"#000\" opacity=\"1\">x100</text></g></g><path class=\"foreground\" aria-hidden=\"true\" d=\"\" pointer-events=\"none\" display=\"none\"/></g><g transform=\"translate(0,39)\"><path class=\"background\" aria-hidden=\"true\" d=\"M0,0h81v11h-81Z\" pointer-events=\"none\" opacity=\"1\"/><g><g class=\"mark-symbol role-legend-symbol\" pointer-events=\"none\"><path transform=\"translate(6,6)\" d=\"M5,0A5,5,0,1,1,-5,0A5,5,0,1,1,5,0\" fill=\"#72b7b2\" stroke-width=\"1.5\" opacity=\"1\"/></g><g class=\"mark-text role-legend-label\" pointer-events=\"none\"><text text-anchor=\"start\" transform=\"translate(16,9)\" font-family=\"sans-serif\" font-size=\"10px\" fill=\"#000\" opacity=\"1\">x101</text></g></g><path class=\"foreground\" aria-hidden=\"true\" d=\"\" pointer-events=\"none\" display=\"none\"/></g><g transform=\"translate(0,52)\"><path class=\"background\" aria-hidden=\"true\" d=\"M0,0h81v11h-81Z\" pointer-events=\"none\" opacity=\"1\"/><g><g class=\"mark-symbol role-legend-symbol\" pointer-events=\"none\"><path transform=\"translate(6,6)\" d=\"M5,0A5,5,0,1,1,-5,0A5,5,0,1,1,5,0\" fill=\"#54a24b\" stroke-width=\"1.5\" opacity=\"1\"/></g><g class=\"mark-text role-legend-label\" pointer-events=\"none\"><text text-anchor=\"start\" transform=\"translate(16,9)\" font-family=\"sans-serif\" font-size=\"10px\" fill=\"#000\" opacity=\"1\">x102</text></g></g><path class=\"foreground\" aria-hidden=\"true\" d=\"\" pointer-events=\"none\" display=\"none\"/></g><g transform=\"translate(0,65)\"><path class=\"background\" aria-hidden=\"true\" d=\"M0,0h81v11h-81Z\" pointer-events=\"none\" opacity=\"1\"/><g><g class=\"mark-symbol role-legend-symbol\" pointer-events=\"none\"><path transform=\"translate(6,6)\" d=\"M5,0A5,5,0,1,1,-5,0A5,5,0,1,1,5,0\" fill=\"#eeca3b\" stroke-width=\"1.5\" opacity=\"1\"/></g><g class=\"mark-text role-legend-label\" pointer-events=\"none\"><text text-anchor=\"start\" transform=\"translate(16,9)\" font-family=\"sans-serif\" font-size=\"10px\" fill=\"#000\" opacity=\"1\">x103</text></g></g><path class=\"foreground\" aria-hidden=\"true\" d=\"\" pointer-events=\"none\" display=\"none\"/></g><g transform=\"translate(0,78)\"><path class=\"background\" aria-hidden=\"true\" d=\"M0,0h81v11h-81Z\" pointer-events=\"none\" opacity=\"1\"/><g><g class=\"mark-symbol role-legend-symbol\" pointer-events=\"none\"><path transform=\"translate(6,6)\" d=\"M5,0A5,5,0,1,1,-5,0A5,5,0,1,1,5,0\" fill=\"#b279a2\" stroke-width=\"1.5\" opacity=\"1\"/></g><g class=\"mark-text role-legend-label\" pointer-events=\"none\"><text text-anchor=\"start\" transform=\"translate(16,9)\" font-family=\"sans-serif\" font-size=\"10px\" fill=\"#000\" opacity=\"1\">x104</text></g></g><path class=\"foreground\" aria-hidden=\"true\" d=\"\" pointer-events=\"none\" display=\"none\"/></g><g transform=\"translate(0,91)\"><path class=\"background\" aria-hidden=\"true\" d=\"M0,0h81v11h-81Z\" pointer-events=\"none\" opacity=\"1\"/><g><g class=\"mark-symbol role-legend-symbol\" pointer-events=\"none\"><path transform=\"translate(6,6)\" d=\"M5,0A5,5,0,1,1,-5,0A5,5,0,1,1,5,0\" fill=\"#ff9da6\" stroke-width=\"1.5\" opacity=\"1\"/></g><g class=\"mark-text role-legend-label\" pointer-events=\"none\"><text text-anchor=\"start\" transform=\"translate(16,9)\" font-family=\"sans-serif\" font-size=\"10px\" fill=\"#000\" opacity=\"1\">x105</text></g></g><path class=\"foreground\" aria-hidden=\"true\" d=\"\" pointer-events=\"none\" display=\"none\"/></g><g transform=\"translate(0,104)\"><path class=\"background\" aria-hidden=\"true\" d=\"M0,0h81v11h-81Z\" pointer-events=\"none\" opacity=\"1\"/><g><g class=\"mark-symbol role-legend-symbol\" pointer-events=\"none\"><path transform=\"translate(6,6)\" d=\"M5,0A5,5,0,1,1,-5,0A5,5,0,1,1,5,0\" fill=\"#9d755d\" stroke-width=\"1.5\" opacity=\"1\"/></g><g class=\"mark-text role-legend-label\" pointer-events=\"none\"><text text-anchor=\"start\" transform=\"translate(16,9)\" font-family=\"sans-serif\" font-size=\"10px\" fill=\"#000\" opacity=\"1\">x106</text></g></g><path class=\"foreground\" aria-hidden=\"true\" d=\"\" pointer-events=\"none\" display=\"none\"/></g><g transform=\"translate(0,117)\"><path class=\"background\" aria-hidden=\"true\" d=\"M0,0h81v11h-81Z\" pointer-events=\"none\" opacity=\"1\"/><g><g class=\"mark-symbol role-legend-symbol\" pointer-events=\"none\"><path transform=\"translate(6,6)\" d=\"M5,0A5,5,0,1,1,-5,0A5,5,0,1,1,5,0\" fill=\"#bab0ac\" stroke-width=\"1.5\" opacity=\"1\"/></g><g class=\"mark-text role-legend-label\" pointer-events=\"none\"><text text-anchor=\"start\" transform=\"translate(16,9)\" font-family=\"sans-serif\" font-size=\"10px\" fill=\"#000\" opacity=\"1\">x107</text></g></g><path class=\"foreground\" aria-hidden=\"true\" d=\"\" pointer-events=\"none\" display=\"none\"/></g><g transform=\"translate(0,130)\"><path class=\"background\" aria-hidden=\"true\" d=\"M0,0h81v11h-81Z\" pointer-events=\"none\" opacity=\"1\"/><g><g class=\"mark-symbol role-legend-symbol\" pointer-events=\"none\"><path transform=\"translate(6,6)\" d=\"M5,0A5,5,0,1,1,-5,0A5,5,0,1,1,5,0\" fill=\"#4c78a8\" stroke-width=\"1.5\" opacity=\"1\"/></g><g class=\"mark-text role-legend-label\" pointer-events=\"none\"><text text-anchor=\"start\" transform=\"translate(16,9)\" font-family=\"sans-serif\" font-size=\"10px\" fill=\"#000\" opacity=\"1\">x108</text></g></g><path class=\"foreground\" aria-hidden=\"true\" d=\"\" pointer-events=\"none\" display=\"none\"/></g><g transform=\"translate(0,143)\"><path class=\"background\" aria-hidden=\"true\" d=\"M0,0h81v11h-81Z\" pointer-events=\"none\" opacity=\"1\"/><g><g class=\"mark-symbol role-legend-symbol\" pointer-events=\"none\"><path transform=\"translate(6,6)\" d=\"M5,0A5,5,0,1,1,-5,0A5,5,0,1,1,5,0\" fill=\"#f58518\" stroke-width=\"1.5\" opacity=\"1\"/></g><g class=\"mark-text role-legend-label\" pointer-events=\"none\"><text text-anchor=\"start\" transform=\"translate(16,9)\" font-family=\"sans-serif\" font-size=\"10px\" fill=\"#000\" opacity=\"1\">x109</text></g></g><path class=\"foreground\" aria-hidden=\"true\" d=\"\" pointer-events=\"none\" display=\"none\"/></g><g transform=\"translate(0,156)\"><path class=\"background\" aria-hidden=\"true\" d=\"M0,0h81v11h-81Z\" pointer-events=\"none\" opacity=\"1\"/><g><g class=\"mark-symbol role-legend-symbol\" pointer-events=\"none\"><path transform=\"translate(6,6)\" d=\"M5,0A5,5,0,1,1,-5,0A5,5,0,1,1,5,0\" fill=\"#e45756\" stroke-width=\"1.5\" opacity=\"1\"/></g><g class=\"mark-text role-legend-label\" pointer-events=\"none\"><text text-anchor=\"start\" transform=\"translate(16,9)\" font-family=\"sans-serif\" font-size=\"10px\" fill=\"#000\" opacity=\"1\">x11</text></g></g><path class=\"foreground\" aria-hidden=\"true\" d=\"\" pointer-events=\"none\" display=\"none\"/></g><g transform=\"translate(0,169)\"><path class=\"background\" aria-hidden=\"true\" d=\"M0,0h81v11h-81Z\" pointer-events=\"none\" opacity=\"1\"/><g><g class=\"mark-symbol role-legend-symbol\" pointer-events=\"none\"><path transform=\"translate(6,6)\" d=\"M5,0A5,5,0,1,1,-5,0A5,5,0,1,1,5,0\" fill=\"#72b7b2\" stroke-width=\"1.5\" opacity=\"1\"/></g><g class=\"mark-text role-legend-label\" pointer-events=\"none\"><text text-anchor=\"start\" transform=\"translate(16,9)\" font-family=\"sans-serif\" font-size=\"10px\" fill=\"#000\" opacity=\"1\">x110</text></g></g><path class=\"foreground\" aria-hidden=\"true\" d=\"\" pointer-events=\"none\" display=\"none\"/></g><g transform=\"translate(0,182)\"><path class=\"background\" aria-hidden=\"true\" d=\"M0,0h81v11h-81Z\" pointer-events=\"none\" opacity=\"1\"/><g><g class=\"mark-symbol role-legend-symbol\" pointer-events=\"none\"><path transform=\"translate(6,6)\" d=\"M5,0A5,5,0,1,1,-5,0A5,5,0,1,1,5,0\" fill=\"#54a24b\" stroke-width=\"1.5\" opacity=\"1\"/></g><g class=\"mark-text role-legend-label\" pointer-events=\"none\"><text text-anchor=\"start\" transform=\"translate(16,9)\" font-family=\"sans-serif\" font-size=\"10px\" fill=\"#000\" opacity=\"1\">x111</text></g></g><path class=\"foreground\" aria-hidden=\"true\" d=\"\" pointer-events=\"none\" display=\"none\"/></g><g transform=\"translate(0,195)\"><path class=\"background\" aria-hidden=\"true\" d=\"M0,0h81v11h-81Z\" pointer-events=\"none\" opacity=\"1\"/><g><g class=\"mark-symbol role-legend-symbol\" pointer-events=\"none\"><path transform=\"translate(6,6)\" d=\"M5,0A5,5,0,1,1,-5,0A5,5,0,1,1,5,0\" fill=\"#eeca3b\" stroke-width=\"1.5\" opacity=\"1\"/></g><g class=\"mark-text role-legend-label\" pointer-events=\"none\"><text text-anchor=\"start\" transform=\"translate(16,9)\" font-family=\"sans-serif\" font-size=\"10px\" fill=\"#000\" opacity=\"1\">x112</text></g></g><path class=\"foreground\" aria-hidden=\"true\" d=\"\" pointer-events=\"none\" display=\"none\"/></g><g transform=\"translate(0,208)\"><path class=\"background\" aria-hidden=\"true\" d=\"M0,0h81v11h-81Z\" pointer-events=\"none\" opacity=\"1\"/><g><g class=\"mark-symbol role-legend-symbol\" pointer-events=\"none\"><path transform=\"translate(6,6)\" d=\"M5,0A5,5,0,1,1,-5,0A5,5,0,1,1,5,0\" fill=\"#b279a2\" stroke-width=\"1.5\" opacity=\"1\"/></g><g class=\"mark-text role-legend-label\" pointer-events=\"none\"><text text-anchor=\"start\" transform=\"translate(16,9)\" font-family=\"sans-serif\" font-size=\"10px\" fill=\"#000\" opacity=\"1\">x113</text></g></g><path class=\"foreground\" aria-hidden=\"true\" d=\"\" pointer-events=\"none\" display=\"none\"/></g><g transform=\"translate(0,221)\"><path class=\"background\" aria-hidden=\"true\" d=\"M0,0h81v11h-81Z\" pointer-events=\"none\" opacity=\"1\"/><g><g class=\"mark-symbol role-legend-symbol\" pointer-events=\"none\"><path transform=\"translate(6,6)\" d=\"M5,0A5,5,0,1,1,-5,0A5,5,0,1,1,5,0\" fill=\"#ff9da6\" stroke-width=\"1.5\" opacity=\"1\"/></g><g class=\"mark-text role-legend-label\" pointer-events=\"none\"><text text-anchor=\"start\" transform=\"translate(16,9)\" font-family=\"sans-serif\" font-size=\"10px\" fill=\"#000\" opacity=\"1\">x114</text></g></g><path class=\"foreground\" aria-hidden=\"true\" d=\"\" pointer-events=\"none\" display=\"none\"/></g><g transform=\"translate(0,234)\"><path class=\"background\" aria-hidden=\"true\" d=\"M0,0h81v11h-81Z\" pointer-events=\"none\" opacity=\"1\"/><g><g class=\"mark-symbol role-legend-symbol\" pointer-events=\"none\"><path transform=\"translate(6,6)\" d=\"M5,0A5,5,0,1,1,-5,0A5,5,0,1,1,5,0\" fill=\"#9d755d\" stroke-width=\"1.5\" opacity=\"1\"/></g><g class=\"mark-text role-legend-label\" pointer-events=\"none\"><text text-anchor=\"start\" transform=\"translate(16,9)\" font-family=\"sans-serif\" font-size=\"10px\" fill=\"#000\" opacity=\"1\">x115</text></g></g><path class=\"foreground\" aria-hidden=\"true\" d=\"\" pointer-events=\"none\" display=\"none\"/></g><g transform=\"translate(0,247)\"><path class=\"background\" aria-hidden=\"true\" d=\"M0,0h81v11h-81Z\" pointer-events=\"none\" opacity=\"1\"/><g><g class=\"mark-symbol role-legend-symbol\" pointer-events=\"none\"><path transform=\"translate(6,6)\" d=\"M5,0A5,5,0,1,1,-5,0A5,5,0,1,1,5,0\" fill=\"#bab0ac\" stroke-width=\"1.5\" opacity=\"1\"/></g><g class=\"mark-text role-legend-label\" pointer-events=\"none\"><text text-anchor=\"start\" transform=\"translate(16,9)\" font-family=\"sans-serif\" font-size=\"10px\" fill=\"#000\" opacity=\"1\">x116</text></g></g><path class=\"foreground\" aria-hidden=\"true\" d=\"\" pointer-events=\"none\" display=\"none\"/></g><g transform=\"translate(0,260)\"><path class=\"background\" aria-hidden=\"true\" d=\"M0,0h81v11h-81Z\" pointer-events=\"none\" opacity=\"1\"/><g><g class=\"mark-symbol role-legend-symbol\" pointer-events=\"none\"><path transform=\"translate(6,6)\" d=\"M5,0A5,5,0,1,1,-5,0A5,5,0,1,1,5,0\" fill=\"#4c78a8\" stroke-width=\"1.5\" opacity=\"1\"/></g><g class=\"mark-text role-legend-label\" pointer-events=\"none\"><text text-anchor=\"start\" transform=\"translate(16,9)\" font-family=\"sans-serif\" font-size=\"10px\" fill=\"#000\" opacity=\"1\">x117</text></g></g><path class=\"foreground\" aria-hidden=\"true\" d=\"\" pointer-events=\"none\" display=\"none\"/></g><g transform=\"translate(0,273)\"><path class=\"background\" aria-hidden=\"true\" d=\"M0,0h81v11h-81Z\" pointer-events=\"none\" opacity=\"1\"/><g><g class=\"mark-symbol role-legend-symbol\" pointer-events=\"none\"><path transform=\"translate(6,6)\" d=\"M5,0A5,5,0,1,1,-5,0A5,5,0,1,1,5,0\" fill=\"#f58518\" stroke-width=\"1.5\" opacity=\"1\"/></g><g class=\"mark-text role-legend-label\" pointer-events=\"none\"><text text-anchor=\"start\" transform=\"translate(16,9)\" font-family=\"sans-serif\" font-size=\"10px\" fill=\"#000\" opacity=\"1\">x118</text></g></g><path class=\"foreground\" aria-hidden=\"true\" d=\"\" pointer-events=\"none\" display=\"none\"/></g><g transform=\"translate(0,286)\"><path class=\"background\" aria-hidden=\"true\" d=\"M0,0h81v11h-81Z\" pointer-events=\"none\" opacity=\"1\"/><g><g class=\"mark-symbol role-legend-symbol\" pointer-events=\"none\"><path transform=\"translate(6,6)\" d=\"M5,0A5,5,0,1,1,-5,0A5,5,0,1,1,5,0\" fill=\"#e45756\" stroke-width=\"1.5\" opacity=\"1\"/></g><g class=\"mark-text role-legend-label\" pointer-events=\"none\"><text text-anchor=\"start\" transform=\"translate(16,9)\" font-family=\"sans-serif\" font-size=\"10px\" fill=\"#000\" opacity=\"1\">x119</text></g></g><path class=\"foreground\" aria-hidden=\"true\" d=\"\" pointer-events=\"none\" display=\"none\"/></g><g transform=\"translate(0,299)\"><path class=\"background\" aria-hidden=\"true\" d=\"M0,0h81v11h-81Z\" pointer-events=\"none\" opacity=\"1\"/><g><g class=\"mark-symbol role-legend-symbol\" pointer-events=\"none\"><path transform=\"translate(6,6)\" d=\"M5,0A5,5,0,1,1,-5,0A5,5,0,1,1,5,0\" fill=\"#72b7b2\" stroke-width=\"1.5\" opacity=\"1\"/></g><g class=\"mark-text role-legend-label\" pointer-events=\"none\"><text text-anchor=\"start\" transform=\"translate(16,9)\" font-family=\"sans-serif\" font-size=\"10px\" fill=\"#000\" opacity=\"1\">x12</text></g></g><path class=\"foreground\" aria-hidden=\"true\" d=\"\" pointer-events=\"none\" display=\"none\"/></g><g transform=\"translate(0,312)\"><path class=\"background\" aria-hidden=\"true\" d=\"M0,0h81v11h-81Z\" pointer-events=\"none\" opacity=\"1\"/><g><g class=\"mark-symbol role-legend-symbol\" pointer-events=\"none\"><path transform=\"translate(6,6)\" d=\"M5,0A5,5,0,1,1,-5,0A5,5,0,1,1,5,0\" fill=\"#54a24b\" stroke-width=\"1.5\" opacity=\"1\"/></g><g class=\"mark-text role-legend-label\" pointer-events=\"none\"><text text-anchor=\"start\" transform=\"translate(16,9)\" font-family=\"sans-serif\" font-size=\"10px\" fill=\"#000\" opacity=\"1\">x120</text></g></g><path class=\"foreground\" aria-hidden=\"true\" d=\"\" pointer-events=\"none\" display=\"none\"/></g><g transform=\"translate(0,325)\"><path class=\"background\" aria-hidden=\"true\" d=\"M0,0h81v11h-81Z\" pointer-events=\"none\" opacity=\"1\"/><g><g class=\"mark-symbol role-legend-symbol\" pointer-events=\"none\"><path transform=\"translate(6,6)\" d=\"M5,0A5,5,0,1,1,-5,0A5,5,0,1,1,5,0\" fill=\"#eeca3b\" stroke-width=\"1.5\" opacity=\"1\"/></g><g class=\"mark-text role-legend-label\" pointer-events=\"none\"><text text-anchor=\"start\" transform=\"translate(16,9)\" font-family=\"sans-serif\" font-size=\"10px\" fill=\"#000\" opacity=\"1\">x121</text></g></g><path class=\"foreground\" aria-hidden=\"true\" d=\"\" pointer-events=\"none\" display=\"none\"/></g><g transform=\"translate(0,338)\"><path class=\"background\" aria-hidden=\"true\" d=\"M0,0h81v11h-81Z\" pointer-events=\"none\" opacity=\"1\"/><g><g class=\"mark-symbol role-legend-symbol\" pointer-events=\"none\"><path transform=\"translate(6,6)\" d=\"M5,0A5,5,0,1,1,-5,0A5,5,0,1,1,5,0\" fill=\"#b279a2\" stroke-width=\"1.5\" opacity=\"1\"/></g><g class=\"mark-text role-legend-label\" pointer-events=\"none\"><text text-anchor=\"start\" transform=\"translate(16,9)\" font-family=\"sans-serif\" font-size=\"10px\" fill=\"#000\" opacity=\"1\">x122</text></g></g><path class=\"foreground\" aria-hidden=\"true\" d=\"\" pointer-events=\"none\" display=\"none\"/></g><g transform=\"translate(0,351)\"><path class=\"background\" aria-hidden=\"true\" d=\"M0,0h81v11h-81Z\" pointer-events=\"none\" opacity=\"1\"/><g><g class=\"mark-symbol role-legend-symbol\" pointer-events=\"none\"><path transform=\"translate(6,6)\" d=\"M5,0A5,5,0,1,1,-5,0A5,5,0,1,1,5,0\" fill=\"#ff9da6\" stroke-width=\"1.5\" opacity=\"1\"/></g><g class=\"mark-text role-legend-label\" pointer-events=\"none\"><text text-anchor=\"start\" transform=\"translate(16,9)\" font-family=\"sans-serif\" font-size=\"10px\" fill=\"#000\" opacity=\"1\">x123</text></g></g><path class=\"foreground\" aria-hidden=\"true\" d=\"\" pointer-events=\"none\" display=\"none\"/></g><g transform=\"translate(0,364)\"><path class=\"background\" aria-hidden=\"true\" d=\"M0,0h81v11h-81Z\" pointer-events=\"none\" opacity=\"1\"/><g><g class=\"mark-symbol role-legend-symbol\" pointer-events=\"none\"><path transform=\"translate(6,6)\" d=\"M5,0A5,5,0,1,1,-5,0A5,5,0,1,1,5,0\" fill=\"#9d755d\" stroke-width=\"1.5\" opacity=\"1\"/></g><g class=\"mark-text role-legend-label\" pointer-events=\"none\"><text text-anchor=\"start\" transform=\"translate(16,9)\" font-family=\"sans-serif\" font-size=\"10px\" fill=\"#000\" opacity=\"1\">x124</text></g></g><path class=\"foreground\" aria-hidden=\"true\" d=\"\" pointer-events=\"none\" display=\"none\"/></g><g transform=\"translate(0,377)\"><path class=\"background\" aria-hidden=\"true\" d=\"M0,0h81v11h-81Z\" pointer-events=\"none\" opacity=\"1\"/><g><g class=\"mark-symbol role-legend-symbol\" pointer-events=\"none\"><path transform=\"translate(6,6)\" d=\"M5,0A5,5,0,1,1,-5,0A5,5,0,1,1,5,0\" fill=\"#bab0ac\" stroke-width=\"1.5\" opacity=\"1\"/></g><g class=\"mark-text role-legend-label\" pointer-events=\"none\"><text text-anchor=\"start\" transform=\"translate(16,9)\" font-family=\"sans-serif\" font-size=\"10px\" fill=\"#000\" opacity=\"1\">…211 entries</text></g></g><path class=\"foreground\" aria-hidden=\"true\" d=\"\" pointer-events=\"none\" display=\"none\"/></g></g></g><path class=\"foreground\" aria-hidden=\"true\" d=\"\" pointer-events=\"none\" display=\"none\"/></g></g><g class=\"mark-text role-legend-title\" pointer-events=\"none\"><text text-anchor=\"start\" transform=\"translate(0,9)\" font-family=\"sans-serif\" font-size=\"11px\" font-weight=\"bold\" fill=\"#000\" opacity=\"1\">variable</text></g></g><path class=\"foreground\" aria-hidden=\"true\" d=\"\" pointer-events=\"none\" display=\"none\"/></g></g></g><path class=\"foreground\" aria-hidden=\"true\" d=\"\" display=\"none\"/></g></g></g></svg>\n"
      ],
      "text/plain": [
       "@vlplot(\n",
       "    legend=\"sNames\",\n",
       "    mark=\"area\",\n",
       "    encoding={\n",
       "        x={\n",
       "            field=\"year\"\n",
       "        },\n",
       "        y={\n",
       "            stack=\"zero\",\n",
       "            title=\"xk\",\n",
       "            field=\"value\"\n",
       "        },\n",
       "        color={\n",
       "            field=\"variable\",\n",
       "            type=\"nominal\"\n",
       "        }\n",
       "    },\n",
       "    data={\n",
       "        values=...\n",
       "    }\n",
       ")"
      ]
     },
     "execution_count": 399,
     "metadata": {},
     "output_type": "execute_result"
    }
   ],
   "source": [
    "transpose(xk)\n",
    "df1=DataFrame(xk',:auto)\n",
    "df1[!,:year] = 5*collect(1:7)\n",
    "\n",
    "sNames=\"compromise \".*string.(collect(1:length(xk[:,1])))\n",
    "df1 |> stack |> @vlplot(:area, x=:year, y={:value, stack=:zero, title=\"xk\"}, color=\"variable:n\",legend=:sNames) "
   ]
  },
  {
   "cell_type": "code",
   "execution_count": 400,
   "id": "a84de32e",
   "metadata": {},
   "outputs": [
    {
     "data": {
      "text/html": [
       "<div class=\"data-frame\"><p>10 rows × 3 columns</p><table class=\"data-frame\"><thead><tr><th></th><th>i</th><th>k_lim</th><th>name</th></tr><tr><th></th><th title=\"Int64\">Int64</th><th title=\"Int64\">Int64</th><th title=\"String31\">String31</th></tr></thead><tbody><tr><th>1</th><td>1</td><td>29</td><td>MSW pyrolysis to small olefins</td></tr><tr><th>2</th><td>2</td><td>52</td><td>Source Segregation</td></tr><tr><th>3</th><td>3</td><td>66</td><td>AI robot segregation</td></tr><tr><th>4</th><td>4</td><td>91</td><td>LABS from PE</td></tr><tr><th>5</th><td>5</td><td>113</td><td>Pyrolysis of LDPE</td></tr><tr><th>6</th><td>6</td><td>140</td><td>Pyrolysis of HDPE</td></tr><tr><th>7</th><td>7</td><td>165</td><td>Pyrolysis of PP</td></tr><tr><th>8</th><td>8</td><td>193</td><td>Recycling back to PLA usin Clay</td></tr><tr><th>9</th><td>9</td><td>215</td><td>Alkaline hydrolysis of PLA</td></tr><tr><th>10</th><td>10</td><td>240</td><td>Alcoholysis of PLA</td></tr></tbody></table></div>"
      ],
      "text/latex": [
       "\\begin{tabular}{r|ccc}\n",
       "\t& i & k\\_lim & name\\\\\n",
       "\t\\hline\n",
       "\t& Int64 & Int64 & String31\\\\\n",
       "\t\\hline\n",
       "\t1 & 1 & 29 & MSW pyrolysis to small olefins \\\\\n",
       "\t2 & 2 & 52 & Source Segregation \\\\\n",
       "\t3 & 3 & 66 & AI robot segregation \\\\\n",
       "\t4 & 4 & 91 & LABS from PE \\\\\n",
       "\t5 & 5 & 113 & Pyrolysis of LDPE \\\\\n",
       "\t6 & 6 & 140 & Pyrolysis of HDPE \\\\\n",
       "\t7 & 7 & 165 & Pyrolysis of PP \\\\\n",
       "\t8 & 8 & 193 & Recycling back to PLA usin Clay \\\\\n",
       "\t9 & 9 & 215 & Alkaline hydrolysis of PLA \\\\\n",
       "\t10 & 10 & 240 & Alcoholysis of PLA \\\\\n",
       "\\end{tabular}\n"
      ],
      "text/plain": [
       "\u001b[1m10×3 DataFrame\u001b[0m\n",
       "\u001b[1m Row \u001b[0m│\u001b[1m i     \u001b[0m\u001b[1m k_lim \u001b[0m\u001b[1m name                            \u001b[0m\n",
       "\u001b[1m     \u001b[0m│\u001b[90m Int64 \u001b[0m\u001b[90m Int64 \u001b[0m\u001b[90m String31                        \u001b[0m\n",
       "─────┼───────────────────────────────────────────────\n",
       "   1 │     1     29  MSW pyrolysis to small olefins\n",
       "   2 │     2     52  Source Segregation\n",
       "   3 │     3     66  AI robot segregation\n",
       "   4 │     4     91  LABS from PE\n",
       "   5 │     5    113  Pyrolysis of LDPE\n",
       "   6 │     6    140  Pyrolysis of HDPE\n",
       "   7 │     7    165  Pyrolysis of PP\n",
       "   8 │     8    193  Recycling back to PLA usin Clay\n",
       "   9 │     9    215  Alkaline hydrolysis of PLA\n",
       "  10 │    10    240  Alcoholysis of PLA"
      ]
     },
     "execution_count": 400,
     "metadata": {},
     "output_type": "execute_result"
    }
   ],
   "source": [
    "mapki"
   ]
  },
  {
   "cell_type": "code",
   "execution_count": 401,
   "id": "5e34a2c5",
   "metadata": {},
   "outputs": [
    {
     "data": {
      "text/plain": [
       "240×7 Matrix{Float64}:\n",
       " 0.0  0.0  0.0  0.0  0.0  0.0  0.0\n",
       " 0.0  0.0  0.0  0.0  0.0  0.0  0.0\n",
       " 0.0  0.0  0.0  0.0  0.0  0.0  0.0\n",
       " 0.0  0.0  0.0  0.0  0.0  0.0  0.0\n",
       " 0.0  0.0  0.0  0.0  0.0  0.0  0.0\n",
       " 0.0  0.0  0.0  0.0  0.0  0.0  0.0\n",
       " 0.0  0.0  0.0  0.0  0.0  0.0  0.0\n",
       " 0.0  0.0  0.0  0.0  0.0  0.0  0.0\n",
       " 0.0  0.0  0.0  0.0  0.0  0.0  0.0\n",
       " 0.0  0.0  0.0  0.0  0.0  0.0  0.0\n",
       " 0.0  0.0  0.0  0.0  0.0  0.0  0.0\n",
       " 0.0  0.0  0.0  0.0  0.0  0.0  0.0\n",
       " 0.0  0.0  0.0  0.0  0.0  0.0  0.0\n",
       " ⋮                        ⋮    \n",
       " 0.0  0.0  0.0  0.0  0.0  0.0  0.0\n",
       " 0.0  0.0  0.0  0.0  0.0  0.0  0.0\n",
       " 0.0  0.0  0.0  0.0  0.0  0.0  0.0\n",
       " 0.0  0.0  0.0  0.0  0.0  0.0  0.0\n",
       " 0.0  0.0  0.0  0.0  0.0  0.0  0.0\n",
       " 0.0  0.0  0.0  0.0  0.0  0.0  0.0\n",
       " 0.0  0.0  0.0  0.0  0.0  0.0  0.0\n",
       " 0.0  0.0  0.0  0.0  0.0  0.0  0.0\n",
       " 0.0  0.0  0.0  0.0  0.0  0.0  0.0\n",
       " 0.0  0.0  0.0  0.0  0.0  0.0  0.0\n",
       " 0.0  0.0  0.0  0.0  0.0  0.0  0.0\n",
       " 0.0  0.0  0.0  0.0  0.0  0.0  0.0"
      ]
     },
     "execution_count": 401,
     "metadata": {},
     "output_type": "execute_result"
    }
   ],
   "source": [
    "xk"
   ]
  },
  {
   "cell_type": "code",
   "execution_count": 402,
   "id": "ef7beb2e",
   "metadata": {},
   "outputs": [
    {
     "data": {
      "text/plain": [
       "10×7 Matrix{Float64}:\n",
       " 0.0          -3.55271e-14  -2.84217e-14  …   3.55271e-15  -4.61853e-14\n",
       " 0.0          -3.55271e-14  -2.84217e-14      0.0          -7.81597e-14\n",
       " 0.0           0.0          -2.84217e-14      0.0           0.0\n",
       " 0.0           0.0          -4.26326e-14      0.0           0.0\n",
       " 0.0           0.0          -3.55271e-15     -1.42109e-14  -4.44089e-15\n",
       " 8.88178e-15   0.0          -2.84217e-14  …  -8.88178e-15  -3.55271e-14\n",
       " 0.0          -7.10543e-15   0.0             -2.4869e-14   -8.43769e-15\n",
       " 0.0           0.0          -2.84217e-14      0.0           0.0\n",
       " 0.0           7.10543e-15  -1.95399e-14     -3.55271e-14  -2.84217e-14\n",
       " 5.0           0.0          -4.26326e-14     -5.32907e-15   0.0"
      ]
     },
     "execution_count": 402,
     "metadata": {},
     "output_type": "execute_result"
    }
   ],
   "source": [
    "ti  "
   ]
  },
  {
   "cell_type": "code",
   "execution_count": null,
   "id": "775063a2",
   "metadata": {},
   "outputs": [],
   "source": []
  },
  {
   "cell_type": "code",
   "execution_count": 403,
   "id": "005243fc",
   "metadata": {},
   "outputs": [
    {
     "data": {
      "text/html": [
       "<div class=\"data-frame\"><p>240 rows × 9 columns</p><table class=\"data-frame\"><thead><tr><th></th><th>k</th><th>i</th><th>GWP</th><th>Theta</th><th>Per_Recycl</th><th>Per_Comp</th><th>GHG_ElecInd</th><th>GHG_Trans</th><th>OCost</th></tr><tr><th></th><th title=\"Int64\">Int64</th><th title=\"Int64\">Int64</th><th title=\"Float64\">Float64</th><th title=\"Float64\">Float64</th><th title=\"Float64\">Float64</th><th title=\"Float64\">Float64</th><th title=\"Float64\">Float64</th><th title=\"Float64\">Float64</th><th title=\"Float64\">Float64</th></tr></thead><tbody><tr><th>1</th><td>1</td><td>1</td><td>15.0711</td><td>0.621</td><td>0.0</td><td>0.0</td><td>0.499</td><td>0.122</td><td>3.4294</td></tr><tr><th>2</th><td>2</td><td>1</td><td>2.7837</td><td>0.3955</td><td>0.661676</td><td>0.0</td><td>0.47</td><td>0.127</td><td>1.1203</td></tr><tr><th>3</th><td>3</td><td>1</td><td>10.0834</td><td>0.41</td><td>0.0</td><td>1.0</td><td>0.56</td><td>0.111</td><td>0.65</td></tr><tr><th>4</th><td>4</td><td>1</td><td>8.9103</td><td>0.4132</td><td>0.0</td><td>0.958953</td><td>0.54</td><td>0.104</td><td>0.67</td></tr><tr><th>5</th><td>5</td><td>1</td><td>4.0</td><td>0.4546</td><td>0.0</td><td>0.0</td><td>0.54</td><td>0.139</td><td>0.7</td></tr><tr><th>6</th><td>6</td><td>1</td><td>4.1434</td><td>0.5081</td><td>0.0</td><td>0.0</td><td>0.57</td><td>0.12</td><td>0.7</td></tr><tr><th>7</th><td>7</td><td>1</td><td>7.1535</td><td>0.4218</td><td>0.0</td><td>0.854318</td><td>0.5</td><td>0.114</td><td>0.7</td></tr><tr><th>8</th><td>8</td><td>1</td><td>4.1374</td><td>0.5081</td><td>0.0</td><td>0.0</td><td>0.46</td><td>0.116</td><td>0.7</td></tr><tr><th>9</th><td>9</td><td>1</td><td>7.1535</td><td>0.4218</td><td>0.0</td><td>0.854318</td><td>0.52</td><td>0.132</td><td>0.7</td></tr><tr><th>10</th><td>10</td><td>1</td><td>4.0</td><td>0.4915</td><td>0.0922065</td><td>0.0</td><td>0.59</td><td>0.117</td><td>0.8014</td></tr><tr><th>11</th><td>11</td><td>1</td><td>8.5</td><td>0.5836</td><td>0.0</td><td>0.0</td><td>0.59</td><td>0.103</td><td>1.8103</td></tr><tr><th>12</th><td>12</td><td>1</td><td>9.2698</td><td>0.5904</td><td>0.0</td><td>0.0</td><td>0.52</td><td>0.134</td><td>2.0</td></tr><tr><th>13</th><td>13</td><td>1</td><td>9.2698</td><td>0.5904</td><td>0.0</td><td>0.0</td><td>0.58</td><td>0.105</td><td>2.0</td></tr><tr><th>14</th><td>14</td><td>1</td><td>9.2698</td><td>0.5904</td><td>0.0</td><td>0.0</td><td>0.56</td><td>0.107</td><td>2.0</td></tr><tr><th>15</th><td>15</td><td>1</td><td>4.0</td><td>0.4915</td><td>0.0922065</td><td>0.0</td><td>0.48</td><td>0.155</td><td>0.8014</td></tr><tr><th>16</th><td>16</td><td>1</td><td>8.5</td><td>0.5836</td><td>0.0</td><td>0.0</td><td>0.53</td><td>0.14</td><td>1.8103</td></tr><tr><th>17</th><td>17</td><td>1</td><td>10.0</td><td>0.596</td><td>0.0</td><td>0.0</td><td>0.53</td><td>0.126</td><td>2.1799</td></tr><tr><th>18</th><td>18</td><td>1</td><td>10.75</td><td>0.6011</td><td>0.0</td><td>0.0</td><td>0.57</td><td>0.156</td><td>2.3647</td></tr><tr><th>19</th><td>19</td><td>1</td><td>11.0285</td><td>0.6028</td><td>0.0</td><td>0.0</td><td>0.54</td><td>0.144</td><td>2.4333</td></tr><tr><th>20</th><td>20</td><td>1</td><td>4.0</td><td>0.4915</td><td>0.0922065</td><td>0.0</td><td>0.58</td><td>0.104</td><td>0.8014</td></tr><tr><th>21</th><td>21</td><td>1</td><td>8.5</td><td>0.5836</td><td>0.0</td><td>0.0</td><td>0.54</td><td>0.115</td><td>1.8103</td></tr><tr><th>22</th><td>22</td><td>1</td><td>10.0</td><td>0.596</td><td>0.0</td><td>0.0</td><td>0.58</td><td>0.101</td><td>2.1799</td></tr><tr><th>23</th><td>23</td><td>1</td><td>10.75</td><td>0.6011</td><td>0.0</td><td>0.0</td><td>0.58</td><td>0.139</td><td>2.3647</td></tr><tr><th>24</th><td>24</td><td>1</td><td>11.2</td><td>0.6038</td><td>0.0</td><td>0.0</td><td>0.55</td><td>0.124</td><td>2.4756</td></tr><tr><th>25</th><td>25</td><td>1</td><td>4.0</td><td>0.4915</td><td>0.0922065</td><td>0.0</td><td>0.53</td><td>0.123</td><td>0.8014</td></tr><tr><th>26</th><td>26</td><td>1</td><td>8.5</td><td>0.5836</td><td>0.0</td><td>0.0</td><td>0.57</td><td>0.144</td><td>1.8103</td></tr><tr><th>27</th><td>27</td><td>1</td><td>10.0</td><td>0.596</td><td>0.0</td><td>0.0</td><td>0.6</td><td>0.154</td><td>2.1799</td></tr><tr><th>28</th><td>28</td><td>1</td><td>10.75</td><td>0.6011</td><td>0.0</td><td>0.0</td><td>0.45</td><td>0.101</td><td>2.3647</td></tr><tr><th>29</th><td>29</td><td>1</td><td>11.2</td><td>0.6038</td><td>0.0</td><td>0.0</td><td>0.53</td><td>0.132</td><td>2.4756</td></tr><tr><th>30</th><td>30</td><td>2</td><td>12.2276</td><td>0.5596</td><td>0.881291</td><td>0.0</td><td>0.55</td><td>0.107</td><td>3.7074</td></tr><tr><th>&vellip;</th><td>&vellip;</td><td>&vellip;</td><td>&vellip;</td><td>&vellip;</td><td>&vellip;</td><td>&vellip;</td><td>&vellip;</td><td>&vellip;</td><td>&vellip;</td></tr></tbody></table></div>"
      ],
      "text/latex": [
       "\\begin{tabular}{r|ccccccccc}\n",
       "\t& k & i & GWP & Theta & Per\\_Recycl & Per\\_Comp & GHG\\_ElecInd & GHG\\_Trans & OCost\\\\\n",
       "\t\\hline\n",
       "\t& Int64 & Int64 & Float64 & Float64 & Float64 & Float64 & Float64 & Float64 & Float64\\\\\n",
       "\t\\hline\n",
       "\t1 & 1 & 1 & 15.0711 & 0.621 & 0.0 & 0.0 & 0.499 & 0.122 & 3.4294 \\\\\n",
       "\t2 & 2 & 1 & 2.7837 & 0.3955 & 0.661676 & 0.0 & 0.47 & 0.127 & 1.1203 \\\\\n",
       "\t3 & 3 & 1 & 10.0834 & 0.41 & 0.0 & 1.0 & 0.56 & 0.111 & 0.65 \\\\\n",
       "\t4 & 4 & 1 & 8.9103 & 0.4132 & 0.0 & 0.958953 & 0.54 & 0.104 & 0.67 \\\\\n",
       "\t5 & 5 & 1 & 4.0 & 0.4546 & 0.0 & 0.0 & 0.54 & 0.139 & 0.7 \\\\\n",
       "\t6 & 6 & 1 & 4.1434 & 0.5081 & 0.0 & 0.0 & 0.57 & 0.12 & 0.7 \\\\\n",
       "\t7 & 7 & 1 & 7.1535 & 0.4218 & 0.0 & 0.854318 & 0.5 & 0.114 & 0.7 \\\\\n",
       "\t8 & 8 & 1 & 4.1374 & 0.5081 & 0.0 & 0.0 & 0.46 & 0.116 & 0.7 \\\\\n",
       "\t9 & 9 & 1 & 7.1535 & 0.4218 & 0.0 & 0.854318 & 0.52 & 0.132 & 0.7 \\\\\n",
       "\t10 & 10 & 1 & 4.0 & 0.4915 & 0.0922065 & 0.0 & 0.59 & 0.117 & 0.8014 \\\\\n",
       "\t11 & 11 & 1 & 8.5 & 0.5836 & 0.0 & 0.0 & 0.59 & 0.103 & 1.8103 \\\\\n",
       "\t12 & 12 & 1 & 9.2698 & 0.5904 & 0.0 & 0.0 & 0.52 & 0.134 & 2.0 \\\\\n",
       "\t13 & 13 & 1 & 9.2698 & 0.5904 & 0.0 & 0.0 & 0.58 & 0.105 & 2.0 \\\\\n",
       "\t14 & 14 & 1 & 9.2698 & 0.5904 & 0.0 & 0.0 & 0.56 & 0.107 & 2.0 \\\\\n",
       "\t15 & 15 & 1 & 4.0 & 0.4915 & 0.0922065 & 0.0 & 0.48 & 0.155 & 0.8014 \\\\\n",
       "\t16 & 16 & 1 & 8.5 & 0.5836 & 0.0 & 0.0 & 0.53 & 0.14 & 1.8103 \\\\\n",
       "\t17 & 17 & 1 & 10.0 & 0.596 & 0.0 & 0.0 & 0.53 & 0.126 & 2.1799 \\\\\n",
       "\t18 & 18 & 1 & 10.75 & 0.6011 & 0.0 & 0.0 & 0.57 & 0.156 & 2.3647 \\\\\n",
       "\t19 & 19 & 1 & 11.0285 & 0.6028 & 0.0 & 0.0 & 0.54 & 0.144 & 2.4333 \\\\\n",
       "\t20 & 20 & 1 & 4.0 & 0.4915 & 0.0922065 & 0.0 & 0.58 & 0.104 & 0.8014 \\\\\n",
       "\t21 & 21 & 1 & 8.5 & 0.5836 & 0.0 & 0.0 & 0.54 & 0.115 & 1.8103 \\\\\n",
       "\t22 & 22 & 1 & 10.0 & 0.596 & 0.0 & 0.0 & 0.58 & 0.101 & 2.1799 \\\\\n",
       "\t23 & 23 & 1 & 10.75 & 0.6011 & 0.0 & 0.0 & 0.58 & 0.139 & 2.3647 \\\\\n",
       "\t24 & 24 & 1 & 11.2 & 0.6038 & 0.0 & 0.0 & 0.55 & 0.124 & 2.4756 \\\\\n",
       "\t25 & 25 & 1 & 4.0 & 0.4915 & 0.0922065 & 0.0 & 0.53 & 0.123 & 0.8014 \\\\\n",
       "\t26 & 26 & 1 & 8.5 & 0.5836 & 0.0 & 0.0 & 0.57 & 0.144 & 1.8103 \\\\\n",
       "\t27 & 27 & 1 & 10.0 & 0.596 & 0.0 & 0.0 & 0.6 & 0.154 & 2.1799 \\\\\n",
       "\t28 & 28 & 1 & 10.75 & 0.6011 & 0.0 & 0.0 & 0.45 & 0.101 & 2.3647 \\\\\n",
       "\t29 & 29 & 1 & 11.2 & 0.6038 & 0.0 & 0.0 & 0.53 & 0.132 & 2.4756 \\\\\n",
       "\t30 & 30 & 2 & 12.2276 & 0.5596 & 0.881291 & 0.0 & 0.55 & 0.107 & 3.7074 \\\\\n",
       "\t$\\dots$ & $\\dots$ & $\\dots$ & $\\dots$ & $\\dots$ & $\\dots$ & $\\dots$ & $\\dots$ & $\\dots$ & $\\dots$ \\\\\n",
       "\\end{tabular}\n"
      ],
      "text/plain": [
       "\u001b[1m240×9 DataFrame\u001b[0m\n",
       "\u001b[1m Row \u001b[0m│\u001b[1m k     \u001b[0m\u001b[1m i     \u001b[0m\u001b[1m GWP     \u001b[0m\u001b[1m Theta   \u001b[0m\u001b[1m Per_Recycl \u001b[0m\u001b[1m Per_Comp  \u001b[0m\u001b[1m GHG_ElecInd \u001b[0m\u001b[1m GHG\u001b[0m ⋯\n",
       "\u001b[1m     \u001b[0m│\u001b[90m Int64 \u001b[0m\u001b[90m Int64 \u001b[0m\u001b[90m Float64 \u001b[0m\u001b[90m Float64 \u001b[0m\u001b[90m Float64    \u001b[0m\u001b[90m Float64   \u001b[0m\u001b[90m Float64     \u001b[0m\u001b[90m Flo\u001b[0m ⋯\n",
       "─────┼──────────────────────────────────────────────────────────────────────────\n",
       "   1 │     1      1  15.0711   0.621    0.0        0.0              0.499      ⋯\n",
       "   2 │     2      1   2.7837   0.3955   0.661676   0.0              0.47\n",
       "   3 │     3      1  10.0834   0.41     0.0        1.0              0.56\n",
       "   4 │     4      1   8.9103   0.4132   0.0        0.958953         0.54\n",
       "   5 │     5      1   4.0      0.4546   0.0        0.0              0.54       ⋯\n",
       "   6 │     6      1   4.1434   0.5081   0.0        0.0              0.57\n",
       "   7 │     7      1   7.1535   0.4218   0.0        0.854318         0.5\n",
       "   8 │     8      1   4.1374   0.5081   0.0        0.0              0.46\n",
       "   9 │     9      1   7.1535   0.4218   0.0        0.854318         0.52       ⋯\n",
       "  10 │    10      1   4.0      0.4915   0.0922065  0.0              0.59\n",
       "  11 │    11      1   8.5      0.5836   0.0        0.0              0.59\n",
       "  ⋮  │   ⋮      ⋮       ⋮        ⋮         ⋮           ⋮           ⋮           ⋱\n",
       " 231 │   231     10   3.2136   0.175    0.27592    0.0              1.48\n",
       " 232 │   232     10   3.1062   0.175    0.245418   0.0646392        1.58       ⋯\n",
       " 233 │   233     10   2.9988   0.175    0.230787   0.153537         1.48\n",
       " 234 │   234     10   2.8914   0.2485   0.405205   0.0              1.57\n",
       " 235 │   235     10   2.784    0.3955   0.661676   0.0              1.52\n",
       " 236 │   236     10   3.1024   0.05     0.065482   0.0              1.45       ⋯\n",
       " 237 │   237     10   3.1021   0.05     0.065482   0.0              1.5\n",
       " 238 │   238     10   2.9988   0.05     0.0752763  0.0              1.58\n",
       " 239 │   239     10   2.8914   0.207    0.295782   0.0888537        1.56\n",
       " 240 │   240     10   2.784    0.3949   0.660557   0.0              1.48       ⋯\n",
       "\u001b[36m                                                  2 columns and 219 rows omitted\u001b[0m"
      ]
     },
     "execution_count": 403,
     "metadata": {},
     "output_type": "execute_result"
    }
   ],
   "source": [
    "compromise"
   ]
  },
  {
   "cell_type": "code",
   "execution_count": 404,
   "id": "e3a3dbe8",
   "metadata": {},
   "outputs": [
    {
     "data": {
      "text/plain": [
       "10×7 Matrix{Float64}:\n",
       " 2.0      1.93097  2.08861  2.24624  2.60288  2.95952  3.36712\n",
       " 2.0      1.93097  2.08861  2.24624  2.60288  2.95952  3.36712\n",
       " 4.0      3.69121  4.08332  4.47542  5.18264  5.99488  6.92121\n",
       " 4.0      3.72014  3.89779  4.07544  4.47475  4.94796  5.49309\n",
       " 2.0      2.15894  2.31787  2.62687  2.98589  3.44992  4.01899\n",
       " 3.0      2.68846  2.96366  3.23887  3.76307  4.37027  5.05987\n",
       " 2.0      2.25727  2.63287  3.12678  3.62069  4.32956  5.03843\n",
       " 4.0      3.69121  4.08332  4.47542  5.18264  5.99488  6.92121\n",
       " 3.0      3.29813  3.59627  3.8944   4.34283  4.79125  5.42961\n",
       " 3.72014  3.72014  3.89779  4.07544  4.47475  4.94796  5.49309"
      ]
     },
     "execution_count": 404,
     "metadata": {},
     "output_type": "execute_result"
    }
   ],
   "source": [
    "s"
   ]
  },
  {
   "cell_type": "code",
   "execution_count": 405,
   "id": "37a60cdb",
   "metadata": {},
   "outputs": [
    {
     "data": {
      "text/html": [
       "<div class=\"data-frame\"><p>7 rows × 241 columns (omitted printing of 232 columns)</p><table class=\"data-frame\"><thead><tr><th></th><th>x1</th><th>x2</th><th>x3</th><th>x4</th><th>x5</th><th>x6</th><th>x7</th><th>x8</th><th>x9</th></tr><tr><th></th><th title=\"Float64\">Float64</th><th title=\"Float64\">Float64</th><th title=\"Float64\">Float64</th><th title=\"Float64\">Float64</th><th title=\"Float64\">Float64</th><th title=\"Float64\">Float64</th><th title=\"Float64\">Float64</th><th title=\"Float64\">Float64</th><th title=\"Float64\">Float64</th></tr></thead><tbody><tr><th>1</th><td>0.0</td><td>0.0</td><td>0.0</td><td>0.0</td><td>0.0</td><td>0.0</td><td>0.0</td><td>0.0</td><td>0.0</td></tr><tr><th>2</th><td>0.0</td><td>0.0</td><td>0.0</td><td>0.0</td><td>0.0</td><td>0.0</td><td>0.0</td><td>0.0</td><td>0.0</td></tr><tr><th>3</th><td>0.0</td><td>0.0</td><td>0.0</td><td>0.0</td><td>0.0</td><td>0.0</td><td>0.0</td><td>0.0</td><td>0.0</td></tr><tr><th>4</th><td>0.0</td><td>0.0</td><td>0.0</td><td>0.0</td><td>0.0</td><td>0.0</td><td>0.0</td><td>0.0</td><td>0.0</td></tr><tr><th>5</th><td>0.0</td><td>0.0</td><td>0.0</td><td>0.0</td><td>0.0</td><td>0.0</td><td>0.0</td><td>0.0</td><td>0.0</td></tr><tr><th>6</th><td>0.0</td><td>0.0</td><td>0.0</td><td>0.0</td><td>0.0</td><td>0.0</td><td>0.0</td><td>0.0</td><td>0.0</td></tr><tr><th>7</th><td>0.0</td><td>0.0</td><td>0.0</td><td>0.0</td><td>0.0</td><td>0.0</td><td>0.0</td><td>0.0</td><td>0.0</td></tr></tbody></table></div>"
      ],
      "text/latex": [
       "\\begin{tabular}{r|cccccccccc}\n",
       "\t& x1 & x2 & x3 & x4 & x5 & x6 & x7 & x8 & x9 & \\\\\n",
       "\t\\hline\n",
       "\t& Float64 & Float64 & Float64 & Float64 & Float64 & Float64 & Float64 & Float64 & Float64 & \\\\\n",
       "\t\\hline\n",
       "\t1 & 0.0 & 0.0 & 0.0 & 0.0 & 0.0 & 0.0 & 0.0 & 0.0 & 0.0 & $\\dots$ \\\\\n",
       "\t2 & 0.0 & 0.0 & 0.0 & 0.0 & 0.0 & 0.0 & 0.0 & 0.0 & 0.0 & $\\dots$ \\\\\n",
       "\t3 & 0.0 & 0.0 & 0.0 & 0.0 & 0.0 & 0.0 & 0.0 & 0.0 & 0.0 & $\\dots$ \\\\\n",
       "\t4 & 0.0 & 0.0 & 0.0 & 0.0 & 0.0 & 0.0 & 0.0 & 0.0 & 0.0 & $\\dots$ \\\\\n",
       "\t5 & 0.0 & 0.0 & 0.0 & 0.0 & 0.0 & 0.0 & 0.0 & 0.0 & 0.0 & $\\dots$ \\\\\n",
       "\t6 & 0.0 & 0.0 & 0.0 & 0.0 & 0.0 & 0.0 & 0.0 & 0.0 & 0.0 & $\\dots$ \\\\\n",
       "\t7 & 0.0 & 0.0 & 0.0 & 0.0 & 0.0 & 0.0 & 0.0 & 0.0 & 0.0 & $\\dots$ \\\\\n",
       "\\end{tabular}\n"
      ],
      "text/plain": [
       "\u001b[1m7×241 DataFrame\u001b[0m\n",
       "\u001b[1m Row \u001b[0m│\u001b[1m x1      \u001b[0m\u001b[1m x2      \u001b[0m\u001b[1m x3      \u001b[0m\u001b[1m x4      \u001b[0m\u001b[1m x5      \u001b[0m\u001b[1m x6      \u001b[0m\u001b[1m x7      \u001b[0m\u001b[1m x8      \u001b[0m\u001b[1m\u001b[0m ⋯\n",
       "\u001b[1m     \u001b[0m│\u001b[90m Float64 \u001b[0m\u001b[90m Float64 \u001b[0m\u001b[90m Float64 \u001b[0m\u001b[90m Float64 \u001b[0m\u001b[90m Float64 \u001b[0m\u001b[90m Float64 \u001b[0m\u001b[90m Float64 \u001b[0m\u001b[90m Float64 \u001b[0m\u001b[90m\u001b[0m ⋯\n",
       "─────┼──────────────────────────────────────────────────────────────────────────\n",
       "   1 │     0.0      0.0      0.0      0.0      0.0      0.0      0.0      0.0  ⋯\n",
       "   2 │     0.0      0.0      0.0      0.0      0.0      0.0      0.0      0.0\n",
       "   3 │     0.0      0.0      0.0      0.0      0.0      0.0      0.0      0.0\n",
       "   4 │     0.0      0.0      0.0      0.0      0.0      0.0      0.0      0.0\n",
       "   5 │     0.0      0.0      0.0      0.0      0.0      0.0      0.0      0.0  ⋯\n",
       "   6 │     0.0      0.0      0.0      0.0      0.0      0.0      0.0      0.0\n",
       "   7 │     0.0      0.0      0.0      0.0      0.0      0.0      0.0      0.0\n",
       "\u001b[36m                                                             233 columns omitted\u001b[0m"
      ]
     },
     "execution_count": 405,
     "metadata": {},
     "output_type": "execute_result"
    }
   ],
   "source": [
    "df1"
   ]
  },
  {
   "cell_type": "code",
   "execution_count": 406,
   "id": "d665b15b",
   "metadata": {},
   "outputs": [
    {
     "data": {
      "text/html": [
       "<div class=\"data-frame\"><p>6 rows × 2 columns</p><table class=\"data-frame\"><thead><tr><th></th><th>Yr</th><th>Back_RedFr_Elec</th></tr><tr><th></th><th title=\"Int64\">Int64</th><th title=\"Float64\">Float64</th></tr></thead><tbody><tr><th>1</th><td>0</td><td>1.0</td></tr><tr><th>2</th><td>10</td><td>0.949785</td></tr><tr><th>3</th><td>20</td><td>0.809146</td></tr><tr><th>4</th><td>30</td><td>0.623735</td></tr><tr><th>5</th><td>40</td><td>0.414707</td></tr><tr><th>6</th><td>50</td><td>0.331447</td></tr></tbody></table></div>"
      ],
      "text/latex": [
       "\\begin{tabular}{r|cc}\n",
       "\t& Yr & Back\\_RedFr\\_Elec\\\\\n",
       "\t\\hline\n",
       "\t& Int64 & Float64\\\\\n",
       "\t\\hline\n",
       "\t1 & 0 & 1.0 \\\\\n",
       "\t2 & 10 & 0.949785 \\\\\n",
       "\t3 & 20 & 0.809146 \\\\\n",
       "\t4 & 30 & 0.623735 \\\\\n",
       "\t5 & 40 & 0.414707 \\\\\n",
       "\t6 & 50 & 0.331447 \\\\\n",
       "\\end{tabular}\n"
      ],
      "text/plain": [
       "\u001b[1m6×2 DataFrame\u001b[0m\n",
       "\u001b[1m Row \u001b[0m│\u001b[1m Yr    \u001b[0m\u001b[1m Back_RedFr_Elec \u001b[0m\n",
       "\u001b[1m     \u001b[0m│\u001b[90m Int64 \u001b[0m\u001b[90m Float64         \u001b[0m\n",
       "─────┼────────────────────────\n",
       "   1 │     0         1.0\n",
       "   2 │    10         0.949785\n",
       "   3 │    20         0.809146\n",
       "   4 │    30         0.623735\n",
       "   5 │    40         0.414707\n",
       "   6 │    50         0.331447"
      ]
     },
     "execution_count": 406,
     "metadata": {},
     "output_type": "execute_result"
    }
   ],
   "source": [
    "iam_model"
   ]
  },
  {
   "cell_type": "code",
   "execution_count": 407,
   "id": "8fb21231",
   "metadata": {},
   "outputs": [
    {
     "data": {
      "application/vnd.vegalite.v4+json": {
       "data": {
        "values": [
         {
          "value": 8,
          "variable": "conv",
          "year": "2020"
         },
         {
          "value": 0,
          "variable": "conv",
          "year": "2021"
         },
         {
          "value": 0,
          "variable": "conv",
          "year": "2022"
         },
         {
          "value": 0,
          "variable": "conv",
          "year": "2023"
         },
         {
          "value": 0,
          "variable": "conv",
          "year": "2024"
         },
         {
          "value": 8.881784197001252e-16,
          "variable": "conv",
          "year": "2025"
         },
         {
          "value": 8.881784197001252e-16,
          "variable": "conv",
          "year": "2026"
         },
         {
          "value": 8.881784197001252e-16,
          "variable": "conv",
          "year": "2027"
         },
         {
          "value": 8.881784197001252e-16,
          "variable": "conv",
          "year": "2028"
         },
         {
          "value": 8.881784197001252e-16,
          "variable": "conv",
          "year": "2029"
         },
         {
          "value": 0,
          "variable": "conv",
          "year": "2030"
         },
         {
          "value": 0,
          "variable": "conv",
          "year": "2031"
         },
         {
          "value": 0,
          "variable": "conv",
          "year": "2032"
         },
         {
          "value": 0,
          "variable": "conv",
          "year": "2033"
         },
         {
          "value": 0,
          "variable": "conv",
          "year": "2034"
         },
         {
          "value": 0,
          "variable": "conv",
          "year": "2035"
         },
         {
          "value": 0,
          "variable": "conv",
          "year": "2036"
         },
         {
          "value": 0,
          "variable": "conv",
          "year": "2037"
         },
         {
          "value": 0,
          "variable": "conv",
          "year": "2038"
         },
         {
          "value": 0,
          "variable": "conv",
          "year": "2039"
         },
         {
          "value": 0,
          "variable": "conv",
          "year": "2040"
         },
         {
          "value": 0,
          "variable": "conv",
          "year": "2041"
         },
         {
          "value": 0,
          "variable": "conv",
          "year": "2042"
         },
         {
          "value": 0,
          "variable": "conv",
          "year": "2043"
         },
         {
          "value": 0,
          "variable": "conv",
          "year": "2044"
         },
         {
          "value": 0.036736526671027114,
          "variable": "conv",
          "year": "2045"
         },
         {
          "value": 0.036736526671027114,
          "variable": "conv",
          "year": "2046"
         },
         {
          "value": 0.036736526671027114,
          "variable": "conv",
          "year": "2047"
         },
         {
          "value": 0.036736526671027114,
          "variable": "conv",
          "year": "2048"
         },
         {
          "value": 0.036736526671027114,
          "variable": "conv",
          "year": "2049"
         },
         {
          "value": 0.036736526671027114,
          "variable": "conv",
          "year": "2050"
         },
         {
          "value": 0.036736526671027114,
          "variable": "conv",
          "year": "2051"
         },
         {
          "value": 0.036736526671027114,
          "variable": "conv",
          "year": "2052"
         },
         {
          "value": 0.036736526671027114,
          "variable": "conv",
          "year": "2053"
         },
         {
          "value": 0.036736526671027114,
          "variable": "conv",
          "year": "2054"
         },
         {
          "value": 0.036736526671027114,
          "variable": "conv",
          "year": "2055"
         },
         {
          "value": 0,
          "variable": "inn1",
          "year": "2020"
         },
         {
          "value": 0,
          "variable": "inn1",
          "year": "2021"
         },
         {
          "value": 0,
          "variable": "inn1",
          "year": "2022"
         },
         {
          "value": 0,
          "variable": "inn1",
          "year": "2023"
         },
         {
          "value": 0,
          "variable": "inn1",
          "year": "2024"
         },
         {
          "value": 0,
          "variable": "inn1",
          "year": "2025"
         },
         {
          "value": 0,
          "variable": "inn1",
          "year": "2026"
         },
         {
          "value": 0,
          "variable": "inn1",
          "year": "2027"
         },
         {
          "value": 0,
          "variable": "inn1",
          "year": "2028"
         },
         {
          "value": 0,
          "variable": "inn1",
          "year": "2029"
         },
         {
          "value": 0,
          "variable": "inn1",
          "year": "2030"
         },
         {
          "value": 0,
          "variable": "inn1",
          "year": "2031"
         },
         {
          "value": 0,
          "variable": "inn1",
          "year": "2032"
         },
         {
          "value": 0,
          "variable": "inn1",
          "year": "2033"
         },
         {
          "value": 0,
          "variable": "inn1",
          "year": "2034"
         },
         {
          "value": 0,
          "variable": "inn1",
          "year": "2035"
         },
         {
          "value": 0,
          "variable": "inn1",
          "year": "2036"
         },
         {
          "value": 0,
          "variable": "inn1",
          "year": "2037"
         },
         {
          "value": 0,
          "variable": "inn1",
          "year": "2038"
         },
         {
          "value": 0,
          "variable": "inn1",
          "year": "2039"
         },
         {
          "value": 0,
          "variable": "inn1",
          "year": "2040"
         },
         {
          "value": 0,
          "variable": "inn1",
          "year": "2041"
         },
         {
          "value": 0,
          "variable": "inn1",
          "year": "2042"
         },
         {
          "value": 0,
          "variable": "inn1",
          "year": "2043"
         },
         {
          "value": 0,
          "variable": "inn1",
          "year": "2044"
         },
         {
          "value": 0,
          "variable": "inn1",
          "year": "2045"
         },
         {
          "value": 0,
          "variable": "inn1",
          "year": "2046"
         },
         {
          "value": 0,
          "variable": "inn1",
          "year": "2047"
         },
         {
          "value": 0,
          "variable": "inn1",
          "year": "2048"
         },
         {
          "value": 0,
          "variable": "inn1",
          "year": "2049"
         },
         {
          "value": 0,
          "variable": "inn1",
          "year": "2050"
         },
         {
          "value": 0,
          "variable": "inn1",
          "year": "2051"
         },
         {
          "value": 0,
          "variable": "inn1",
          "year": "2052"
         },
         {
          "value": 0,
          "variable": "inn1",
          "year": "2053"
         },
         {
          "value": 0,
          "variable": "inn1",
          "year": "2054"
         },
         {
          "value": 0,
          "variable": "inn1",
          "year": "2055"
         },
         {
          "value": 0,
          "variable": "inn2",
          "year": "2020"
         },
         {
          "value": 0,
          "variable": "inn2",
          "year": "2021"
         },
         {
          "value": 0,
          "variable": "inn2",
          "year": "2022"
         },
         {
          "value": 0,
          "variable": "inn2",
          "year": "2023"
         },
         {
          "value": 0,
          "variable": "inn2",
          "year": "2024"
         },
         {
          "value": 0,
          "variable": "inn2",
          "year": "2025"
         },
         {
          "value": 0,
          "variable": "inn2",
          "year": "2026"
         },
         {
          "value": 0,
          "variable": "inn2",
          "year": "2027"
         },
         {
          "value": 0,
          "variable": "inn2",
          "year": "2028"
         },
         {
          "value": 0,
          "variable": "inn2",
          "year": "2029"
         },
         {
          "value": 0,
          "variable": "inn2",
          "year": "2030"
         },
         {
          "value": 0,
          "variable": "inn2",
          "year": "2031"
         },
         {
          "value": 0,
          "variable": "inn2",
          "year": "2032"
         },
         {
          "value": 0,
          "variable": "inn2",
          "year": "2033"
         },
         {
          "value": 0,
          "variable": "inn2",
          "year": "2034"
         },
         {
          "value": 0,
          "variable": "inn2",
          "year": "2035"
         },
         {
          "value": 0,
          "variable": "inn2",
          "year": "2036"
         },
         {
          "value": 0,
          "variable": "inn2",
          "year": "2037"
         },
         {
          "value": 0,
          "variable": "inn2",
          "year": "2038"
         },
         {
          "value": 0,
          "variable": "inn2",
          "year": "2039"
         },
         {
          "value": 0,
          "variable": "inn2",
          "year": "2040"
         },
         {
          "value": 0,
          "variable": "inn2",
          "year": "2041"
         },
         {
          "value": 0,
          "variable": "inn2",
          "year": "2042"
         },
         {
          "value": 0,
          "variable": "inn2",
          "year": "2043"
         },
         {
          "value": 0,
          "variable": "inn2",
          "year": "2044"
         },
         {
          "value": 0,
          "variable": "inn2",
          "year": "2045"
         },
         {
          "value": 0,
          "variable": "inn2",
          "year": "2046"
         },
         {
          "value": 0,
          "variable": "inn2",
          "year": "2047"
         },
         {
          "value": 0,
          "variable": "inn2",
          "year": "2048"
         },
         {
          "value": 0,
          "variable": "inn2",
          "year": "2049"
         },
         {
          "value": 0,
          "variable": "inn2",
          "year": "2050"
         },
         {
          "value": 0,
          "variable": "inn2",
          "year": "2051"
         },
         {
          "value": 0,
          "variable": "inn2",
          "year": "2052"
         },
         {
          "value": 0,
          "variable": "inn2",
          "year": "2053"
         },
         {
          "value": 0,
          "variable": "inn2",
          "year": "2054"
         },
         {
          "value": 0,
          "variable": "inn2",
          "year": "2055"
         },
         {
          "value": 0,
          "variable": "inn3",
          "year": "2020"
         },
         {
          "value": 0,
          "variable": "inn3",
          "year": "2021"
         },
         {
          "value": 0,
          "variable": "inn3",
          "year": "2022"
         },
         {
          "value": 0,
          "variable": "inn3",
          "year": "2023"
         },
         {
          "value": 0,
          "variable": "inn3",
          "year": "2024"
         },
         {
          "value": 0,
          "variable": "inn3",
          "year": "2025"
         },
         {
          "value": 0,
          "variable": "inn3",
          "year": "2026"
         },
         {
          "value": 0,
          "variable": "inn3",
          "year": "2027"
         },
         {
          "value": 0,
          "variable": "inn3",
          "year": "2028"
         },
         {
          "value": 0,
          "variable": "inn3",
          "year": "2029"
         },
         {
          "value": 0,
          "variable": "inn3",
          "year": "2030"
         },
         {
          "value": 0,
          "variable": "inn3",
          "year": "2031"
         },
         {
          "value": 0,
          "variable": "inn3",
          "year": "2032"
         },
         {
          "value": 0,
          "variable": "inn3",
          "year": "2033"
         },
         {
          "value": 0,
          "variable": "inn3",
          "year": "2034"
         },
         {
          "value": 0,
          "variable": "inn3",
          "year": "2035"
         },
         {
          "value": 0,
          "variable": "inn3",
          "year": "2036"
         },
         {
          "value": 0,
          "variable": "inn3",
          "year": "2037"
         },
         {
          "value": 0,
          "variable": "inn3",
          "year": "2038"
         },
         {
          "value": 0,
          "variable": "inn3",
          "year": "2039"
         },
         {
          "value": 0,
          "variable": "inn3",
          "year": "2040"
         },
         {
          "value": 0,
          "variable": "inn3",
          "year": "2041"
         },
         {
          "value": 0,
          "variable": "inn3",
          "year": "2042"
         },
         {
          "value": 0,
          "variable": "inn3",
          "year": "2043"
         },
         {
          "value": 0,
          "variable": "inn3",
          "year": "2044"
         },
         {
          "value": 0,
          "variable": "inn3",
          "year": "2045"
         },
         {
          "value": 0,
          "variable": "inn3",
          "year": "2046"
         },
         {
          "value": 0,
          "variable": "inn3",
          "year": "2047"
         },
         {
          "value": 0,
          "variable": "inn3",
          "year": "2048"
         },
         {
          "value": 0,
          "variable": "inn3",
          "year": "2049"
         },
         {
          "value": 0,
          "variable": "inn3",
          "year": "2050"
         },
         {
          "value": 0,
          "variable": "inn3",
          "year": "2051"
         },
         {
          "value": 0,
          "variable": "inn3",
          "year": "2052"
         },
         {
          "value": 0,
          "variable": "inn3",
          "year": "2053"
         },
         {
          "value": 0,
          "variable": "inn3",
          "year": "2054"
         },
         {
          "value": 0,
          "variable": "inn3",
          "year": "2055"
         },
         {
          "value": 0,
          "variable": "inn4",
          "year": "2020"
         },
         {
          "value": 0,
          "variable": "inn4",
          "year": "2021"
         },
         {
          "value": 0,
          "variable": "inn4",
          "year": "2022"
         },
         {
          "value": 0,
          "variable": "inn4",
          "year": "2023"
         },
         {
          "value": 0,
          "variable": "inn4",
          "year": "2024"
         },
         {
          "value": 0,
          "variable": "inn4",
          "year": "2025"
         },
         {
          "value": 0,
          "variable": "inn4",
          "year": "2026"
         },
         {
          "value": 0,
          "variable": "inn4",
          "year": "2027"
         },
         {
          "value": 0,
          "variable": "inn4",
          "year": "2028"
         },
         {
          "value": 0,
          "variable": "inn4",
          "year": "2029"
         },
         {
          "value": 0,
          "variable": "inn4",
          "year": "2030"
         },
         {
          "value": 0,
          "variable": "inn4",
          "year": "2031"
         },
         {
          "value": 0,
          "variable": "inn4",
          "year": "2032"
         },
         {
          "value": 0,
          "variable": "inn4",
          "year": "2033"
         },
         {
          "value": 0,
          "variable": "inn4",
          "year": "2034"
         },
         {
          "value": 0,
          "variable": "inn4",
          "year": "2035"
         },
         {
          "value": 0,
          "variable": "inn4",
          "year": "2036"
         },
         {
          "value": 0,
          "variable": "inn4",
          "year": "2037"
         },
         {
          "value": 0,
          "variable": "inn4",
          "year": "2038"
         },
         {
          "value": 0,
          "variable": "inn4",
          "year": "2039"
         },
         {
          "value": 0,
          "variable": "inn4",
          "year": "2040"
         },
         {
          "value": 0,
          "variable": "inn4",
          "year": "2041"
         },
         {
          "value": 0,
          "variable": "inn4",
          "year": "2042"
         },
         {
          "value": 0,
          "variable": "inn4",
          "year": "2043"
         },
         {
          "value": 0,
          "variable": "inn4",
          "year": "2044"
         },
         {
          "value": 0,
          "variable": "inn4",
          "year": "2045"
         },
         {
          "value": 0,
          "variable": "inn4",
          "year": "2046"
         },
         {
          "value": 0,
          "variable": "inn4",
          "year": "2047"
         },
         {
          "value": 0,
          "variable": "inn4",
          "year": "2048"
         },
         {
          "value": 0,
          "variable": "inn4",
          "year": "2049"
         },
         {
          "value": 0,
          "variable": "inn4",
          "year": "2050"
         },
         {
          "value": 0,
          "variable": "inn4",
          "year": "2051"
         },
         {
          "value": 0,
          "variable": "inn4",
          "year": "2052"
         },
         {
          "value": 0,
          "variable": "inn4",
          "year": "2053"
         },
         {
          "value": 0,
          "variable": "inn4",
          "year": "2054"
         },
         {
          "value": 0,
          "variable": "inn4",
          "year": "2055"
         },
         {
          "value": 0,
          "variable": "inn5",
          "year": "2020"
         },
         {
          "value": 0,
          "variable": "inn5",
          "year": "2021"
         },
         {
          "value": 0,
          "variable": "inn5",
          "year": "2022"
         },
         {
          "value": 0,
          "variable": "inn5",
          "year": "2023"
         },
         {
          "value": 0,
          "variable": "inn5",
          "year": "2024"
         },
         {
          "value": 4.369606101622506,
          "variable": "inn5",
          "year": "2025"
         },
         {
          "value": 4.369606101622506,
          "variable": "inn5",
          "year": "2026"
         },
         {
          "value": 4.369606101622506,
          "variable": "inn5",
          "year": "2027"
         },
         {
          "value": 4.369606101622506,
          "variable": "inn5",
          "year": "2028"
         },
         {
          "value": 4.369606101622506,
          "variable": "inn5",
          "year": "2029"
         },
         {
          "value": 1.3843747916623448,
          "variable": "inn5",
          "year": "2030"
         },
         {
          "value": 1.3843747916623448,
          "variable": "inn5",
          "year": "2031"
         },
         {
          "value": 1.3843747916623448,
          "variable": "inn5",
          "year": "2032"
         },
         {
          "value": 1.3843747916623448,
          "variable": "inn5",
          "year": "2033"
         },
         {
          "value": 1.3843747916623448,
          "variable": "inn5",
          "year": "2034"
         },
         {
          "value": 1.1719980038783189,
          "variable": "inn5",
          "year": "2035"
         },
         {
          "value": 1.1719980038783189,
          "variable": "inn5",
          "year": "2036"
         },
         {
          "value": 1.1719980038783189,
          "variable": "inn5",
          "year": "2037"
         },
         {
          "value": 1.1719980038783189,
          "variable": "inn5",
          "year": "2038"
         },
         {
          "value": 1.1719980038783189,
          "variable": "inn5",
          "year": "2039"
         },
         {
          "value": 0,
          "variable": "inn5",
          "year": "2040"
         },
         {
          "value": 0,
          "variable": "inn5",
          "year": "2041"
         },
         {
          "value": 0,
          "variable": "inn5",
          "year": "2042"
         },
         {
          "value": 0,
          "variable": "inn5",
          "year": "2043"
         },
         {
          "value": 0,
          "variable": "inn5",
          "year": "2044"
         },
         {
          "value": 0,
          "variable": "inn5",
          "year": "2045"
         },
         {
          "value": 0,
          "variable": "inn5",
          "year": "2046"
         },
         {
          "value": 0,
          "variable": "inn5",
          "year": "2047"
         },
         {
          "value": 0,
          "variable": "inn5",
          "year": "2048"
         },
         {
          "value": 0,
          "variable": "inn5",
          "year": "2049"
         },
         {
          "value": 0,
          "variable": "inn5",
          "year": "2050"
         },
         {
          "value": 0,
          "variable": "inn5",
          "year": "2051"
         },
         {
          "value": 0,
          "variable": "inn5",
          "year": "2052"
         },
         {
          "value": 0,
          "variable": "inn5",
          "year": "2053"
         },
         {
          "value": 0,
          "variable": "inn5",
          "year": "2054"
         },
         {
          "value": 0,
          "variable": "inn5",
          "year": "2055"
         },
         {
          "value": 0,
          "variable": "inn6",
          "year": "2020"
         },
         {
          "value": 0,
          "variable": "inn6",
          "year": "2021"
         },
         {
          "value": 0,
          "variable": "inn6",
          "year": "2022"
         },
         {
          "value": 0,
          "variable": "inn6",
          "year": "2023"
         },
         {
          "value": 0,
          "variable": "inn6",
          "year": "2024"
         },
         {
          "value": 0,
          "variable": "inn6",
          "year": "2025"
         },
         {
          "value": 0,
          "variable": "inn6",
          "year": "2026"
         },
         {
          "value": 0,
          "variable": "inn6",
          "year": "2027"
         },
         {
          "value": 0,
          "variable": "inn6",
          "year": "2028"
         },
         {
          "value": 0,
          "variable": "inn6",
          "year": "2029"
         },
         {
          "value": 0,
          "variable": "inn6",
          "year": "2030"
         },
         {
          "value": 0,
          "variable": "inn6",
          "year": "2031"
         },
         {
          "value": 0,
          "variable": "inn6",
          "year": "2032"
         },
         {
          "value": 0,
          "variable": "inn6",
          "year": "2033"
         },
         {
          "value": 0,
          "variable": "inn6",
          "year": "2034"
         },
         {
          "value": 0,
          "variable": "inn6",
          "year": "2035"
         },
         {
          "value": 0,
          "variable": "inn6",
          "year": "2036"
         },
         {
          "value": 0,
          "variable": "inn6",
          "year": "2037"
         },
         {
          "value": 0,
          "variable": "inn6",
          "year": "2038"
         },
         {
          "value": 0,
          "variable": "inn6",
          "year": "2039"
         },
         {
          "value": 0,
          "variable": "inn6",
          "year": "2040"
         },
         {
          "value": 0,
          "variable": "inn6",
          "year": "2041"
         },
         {
          "value": 0,
          "variable": "inn6",
          "year": "2042"
         },
         {
          "value": 0,
          "variable": "inn6",
          "year": "2043"
         },
         {
          "value": 0,
          "variable": "inn6",
          "year": "2044"
         },
         {
          "value": 0,
          "variable": "inn6",
          "year": "2045"
         },
         {
          "value": 0,
          "variable": "inn6",
          "year": "2046"
         },
         {
          "value": 0,
          "variable": "inn6",
          "year": "2047"
         },
         {
          "value": 0,
          "variable": "inn6",
          "year": "2048"
         },
         {
          "value": 0,
          "variable": "inn6",
          "year": "2049"
         },
         {
          "value": 0,
          "variable": "inn6",
          "year": "2050"
         },
         {
          "value": 0,
          "variable": "inn6",
          "year": "2051"
         },
         {
          "value": 0,
          "variable": "inn6",
          "year": "2052"
         },
         {
          "value": 0,
          "variable": "inn6",
          "year": "2053"
         },
         {
          "value": 0,
          "variable": "inn6",
          "year": "2054"
         },
         {
          "value": 0,
          "variable": "inn6",
          "year": "2055"
         },
         {
          "value": 0,
          "variable": "inn7",
          "year": "2020"
         },
         {
          "value": 0,
          "variable": "inn7",
          "year": "2021"
         },
         {
          "value": 0,
          "variable": "inn7",
          "year": "2022"
         },
         {
          "value": 0,
          "variable": "inn7",
          "year": "2023"
         },
         {
          "value": 0,
          "variable": "inn7",
          "year": "2024"
         },
         {
          "value": 0,
          "variable": "inn7",
          "year": "2025"
         },
         {
          "value": 0,
          "variable": "inn7",
          "year": "2026"
         },
         {
          "value": 0,
          "variable": "inn7",
          "year": "2027"
         },
         {
          "value": 0,
          "variable": "inn7",
          "year": "2028"
         },
         {
          "value": 0,
          "variable": "inn7",
          "year": "2029"
         },
         {
          "value": 0,
          "variable": "inn7",
          "year": "2030"
         },
         {
          "value": 0,
          "variable": "inn7",
          "year": "2031"
         },
         {
          "value": 0,
          "variable": "inn7",
          "year": "2032"
         },
         {
          "value": 0,
          "variable": "inn7",
          "year": "2033"
         },
         {
          "value": 0,
          "variable": "inn7",
          "year": "2034"
         },
         {
          "value": 0,
          "variable": "inn7",
          "year": "2035"
         },
         {
          "value": 0,
          "variable": "inn7",
          "year": "2036"
         },
         {
          "value": 0,
          "variable": "inn7",
          "year": "2037"
         },
         {
          "value": 0,
          "variable": "inn7",
          "year": "2038"
         },
         {
          "value": 0,
          "variable": "inn7",
          "year": "2039"
         },
         {
          "value": 0,
          "variable": "inn7",
          "year": "2040"
         },
         {
          "value": 0,
          "variable": "inn7",
          "year": "2041"
         },
         {
          "value": 0,
          "variable": "inn7",
          "year": "2042"
         },
         {
          "value": 0,
          "variable": "inn7",
          "year": "2043"
         },
         {
          "value": 0,
          "variable": "inn7",
          "year": "2044"
         },
         {
          "value": 0,
          "variable": "inn7",
          "year": "2045"
         },
         {
          "value": 0,
          "variable": "inn7",
          "year": "2046"
         },
         {
          "value": 0,
          "variable": "inn7",
          "year": "2047"
         },
         {
          "value": 0,
          "variable": "inn7",
          "year": "2048"
         },
         {
          "value": 0,
          "variable": "inn7",
          "year": "2049"
         },
         {
          "value": 0,
          "variable": "inn7",
          "year": "2050"
         },
         {
          "value": 0,
          "variable": "inn7",
          "year": "2051"
         },
         {
          "value": 0,
          "variable": "inn7",
          "year": "2052"
         },
         {
          "value": 0,
          "variable": "inn7",
          "year": "2053"
         },
         {
          "value": 0,
          "variable": "inn7",
          "year": "2054"
         },
         {
          "value": 0,
          "variable": "inn7",
          "year": "2055"
         },
         {
          "value": 0,
          "variable": "inn8",
          "year": "2020"
         },
         {
          "value": 0,
          "variable": "inn8",
          "year": "2021"
         },
         {
          "value": 0,
          "variable": "inn8",
          "year": "2022"
         },
         {
          "value": 0,
          "variable": "inn8",
          "year": "2023"
         },
         {
          "value": 0,
          "variable": "inn8",
          "year": "2024"
         },
         {
          "value": 0,
          "variable": "inn8",
          "year": "2025"
         },
         {
          "value": 0,
          "variable": "inn8",
          "year": "2026"
         },
         {
          "value": 0,
          "variable": "inn8",
          "year": "2027"
         },
         {
          "value": 0,
          "variable": "inn8",
          "year": "2028"
         },
         {
          "value": 0,
          "variable": "inn8",
          "year": "2029"
         },
         {
          "value": 0,
          "variable": "inn8",
          "year": "2030"
         },
         {
          "value": 0,
          "variable": "inn8",
          "year": "2031"
         },
         {
          "value": 0,
          "variable": "inn8",
          "year": "2032"
         },
         {
          "value": 0,
          "variable": "inn8",
          "year": "2033"
         },
         {
          "value": 0,
          "variable": "inn8",
          "year": "2034"
         },
         {
          "value": 0,
          "variable": "inn8",
          "year": "2035"
         },
         {
          "value": 0,
          "variable": "inn8",
          "year": "2036"
         },
         {
          "value": 0,
          "variable": "inn8",
          "year": "2037"
         },
         {
          "value": 0,
          "variable": "inn8",
          "year": "2038"
         },
         {
          "value": 0,
          "variable": "inn8",
          "year": "2039"
         },
         {
          "value": 0,
          "variable": "inn8",
          "year": "2040"
         },
         {
          "value": 0,
          "variable": "inn8",
          "year": "2041"
         },
         {
          "value": 0,
          "variable": "inn8",
          "year": "2042"
         },
         {
          "value": 0,
          "variable": "inn8",
          "year": "2043"
         },
         {
          "value": 0,
          "variable": "inn8",
          "year": "2044"
         },
         {
          "value": 0,
          "variable": "inn8",
          "year": "2045"
         },
         {
          "value": 0,
          "variable": "inn8",
          "year": "2046"
         },
         {
          "value": 0,
          "variable": "inn8",
          "year": "2047"
         },
         {
          "value": 0,
          "variable": "inn8",
          "year": "2048"
         },
         {
          "value": 0,
          "variable": "inn8",
          "year": "2049"
         },
         {
          "value": 0,
          "variable": "inn8",
          "year": "2050"
         },
         {
          "value": 0,
          "variable": "inn8",
          "year": "2051"
         },
         {
          "value": 0,
          "variable": "inn8",
          "year": "2052"
         },
         {
          "value": 0,
          "variable": "inn8",
          "year": "2053"
         },
         {
          "value": 0,
          "variable": "inn8",
          "year": "2054"
         },
         {
          "value": 0,
          "variable": "inn8",
          "year": "2055"
         },
         {
          "value": 0,
          "variable": "inn9",
          "year": "2020"
         },
         {
          "value": 0,
          "variable": "inn9",
          "year": "2021"
         },
         {
          "value": 0,
          "variable": "inn9",
          "year": "2022"
         },
         {
          "value": 0,
          "variable": "inn9",
          "year": "2023"
         },
         {
          "value": 0,
          "variable": "inn9",
          "year": "2024"
         },
         {
          "value": 0,
          "variable": "inn9",
          "year": "2025"
         },
         {
          "value": 0,
          "variable": "inn9",
          "year": "2026"
         },
         {
          "value": 0,
          "variable": "inn9",
          "year": "2027"
         },
         {
          "value": 0,
          "variable": "inn9",
          "year": "2028"
         },
         {
          "value": 0,
          "variable": "inn9",
          "year": "2029"
         },
         {
          "value": 0,
          "variable": "inn9",
          "year": "2030"
         },
         {
          "value": 0,
          "variable": "inn9",
          "year": "2031"
         },
         {
          "value": 0,
          "variable": "inn9",
          "year": "2032"
         },
         {
          "value": 0,
          "variable": "inn9",
          "year": "2033"
         },
         {
          "value": 0,
          "variable": "inn9",
          "year": "2034"
         },
         {
          "value": 0,
          "variable": "inn9",
          "year": "2035"
         },
         {
          "value": 0,
          "variable": "inn9",
          "year": "2036"
         },
         {
          "value": 0,
          "variable": "inn9",
          "year": "2037"
         },
         {
          "value": 0,
          "variable": "inn9",
          "year": "2038"
         },
         {
          "value": 0,
          "variable": "inn9",
          "year": "2039"
         },
         {
          "value": 0,
          "variable": "inn9",
          "year": "2040"
         },
         {
          "value": 0,
          "variable": "inn9",
          "year": "2041"
         },
         {
          "value": 0,
          "variable": "inn9",
          "year": "2042"
         },
         {
          "value": 0,
          "variable": "inn9",
          "year": "2043"
         },
         {
          "value": 0,
          "variable": "inn9",
          "year": "2044"
         },
         {
          "value": 0,
          "variable": "inn9",
          "year": "2045"
         },
         {
          "value": 0,
          "variable": "inn9",
          "year": "2046"
         },
         {
          "value": 0,
          "variable": "inn9",
          "year": "2047"
         },
         {
          "value": 0,
          "variable": "inn9",
          "year": "2048"
         },
         {
          "value": 0,
          "variable": "inn9",
          "year": "2049"
         },
         {
          "value": 0,
          "variable": "inn9",
          "year": "2050"
         },
         {
          "value": 0,
          "variable": "inn9",
          "year": "2051"
         },
         {
          "value": 0,
          "variable": "inn9",
          "year": "2052"
         },
         {
          "value": 0,
          "variable": "inn9",
          "year": "2053"
         },
         {
          "value": 0,
          "variable": "inn9",
          "year": "2054"
         },
         {
          "value": 0,
          "variable": "inn9",
          "year": "2055"
         },
         {
          "value": 0,
          "variable": "inn10",
          "year": "2020"
         },
         {
          "value": 2.84707913862223,
          "variable": "inn10",
          "year": "2021"
         },
         {
          "value": 2.84707913862223,
          "variable": "inn10",
          "year": "2022"
         },
         {
          "value": 2.84707913862223,
          "variable": "inn10",
          "year": "2023"
         },
         {
          "value": 2.84707913862223,
          "variable": "inn10",
          "year": "2024"
         },
         {
          "value": 0.13678291386219985,
          "variable": "inn10",
          "year": "2025"
         },
         {
          "value": 0.13678291386219985,
          "variable": "inn10",
          "year": "2026"
         },
         {
          "value": 0.13678291386219985,
          "variable": "inn10",
          "year": "2027"
         },
         {
          "value": 0.13678291386219985,
          "variable": "inn10",
          "year": "2028"
         },
         {
          "value": 0.13678291386219985,
          "variable": "inn10",
          "year": "2029"
         },
         {
          "value": 1.367369131853628,
          "variable": "inn10",
          "year": "2030"
         },
         {
          "value": 1.367369131853628,
          "variable": "inn10",
          "year": "2031"
         },
         {
          "value": 1.367369131853628,
          "variable": "inn10",
          "year": "2032"
         },
         {
          "value": 1.367369131853628,
          "variable": "inn10",
          "year": "2033"
         },
         {
          "value": 1.367369131853628,
          "variable": "inn10",
          "year": "2034"
         },
         {
          "value": 1.122384967175347,
          "variable": "inn10",
          "year": "2035"
         },
         {
          "value": 1.122384967175347,
          "variable": "inn10",
          "year": "2036"
         },
         {
          "value": 1.122384967175347,
          "variable": "inn10",
          "year": "2037"
         },
         {
          "value": 1.122384967175347,
          "variable": "inn10",
          "year": "2038"
         },
         {
          "value": 1.122384967175347,
          "variable": "inn10",
          "year": "2039"
         },
         {
          "value": 1.1942237761071361,
          "variable": "inn10",
          "year": "2040"
         },
         {
          "value": 1.1942237761071361,
          "variable": "inn10",
          "year": "2041"
         },
         {
          "value": 1.1942237761071361,
          "variable": "inn10",
          "year": "2042"
         },
         {
          "value": 1.1942237761071361,
          "variable": "inn10",
          "year": "2043"
         },
         {
          "value": 1.1942237761071361,
          "variable": "inn10",
          "year": "2044"
         },
         {
          "value": 0.4632634733289722,
          "variable": "inn10",
          "year": "2045"
         },
         {
          "value": 0.4632634733289722,
          "variable": "inn10",
          "year": "2046"
         },
         {
          "value": 0.4632634733289722,
          "variable": "inn10",
          "year": "2047"
         },
         {
          "value": 0.4632634733289722,
          "variable": "inn10",
          "year": "2048"
         },
         {
          "value": 0.4632634733289722,
          "variable": "inn10",
          "year": "2049"
         },
         {
          "value": 0.4632634733289722,
          "variable": "inn10",
          "year": "2050"
         },
         {
          "value": 0.4632634733289722,
          "variable": "inn10",
          "year": "2051"
         },
         {
          "value": 0.4632634733289722,
          "variable": "inn10",
          "year": "2052"
         },
         {
          "value": 0.4632634733289722,
          "variable": "inn10",
          "year": "2053"
         },
         {
          "value": 0.4632634733289722,
          "variable": "inn10",
          "year": "2054"
         },
         {
          "value": 0.4632634733289722,
          "variable": "inn10",
          "year": "2055"
         }
        ]
       },
       "encoding": {
        "color": {
         "field": "variable",
         "type": "nominal"
        },
        "x": {
         "field": "year"
        },
        "y": {
         "field": "value",
         "stack": "zero",
         "title": "CO2",
         "type": "quantitative"
        }
       },
       "legend": "sNames",
       "mark": "area"
      },
      "image/png": "[encoded data removed]",
      "image/svg+xml": [
       "<?xml version=\"1.0\" encoding=\"utf-8\"?>\n",
       "<!DOCTYPE svg PUBLIC \"-//W3C//DTD SVG 1.1//EN\" \"http://www.w3.org/Graphics/SVG/1.1/DTD/svg11.dtd\">\n",
       "<svg xmlns=\"http://www.w3.org/2000/svg\" xmlns:xlink=\"http://www.w3.org/1999/xlink\" version=\"1.1\" class=\"marks\" width=\"825\" height=\"261\" viewBox=\"0 0 825 261\"><rect width=\"825\" height=\"261\" fill=\"white\"/><g fill=\"none\" stroke-miterlimit=\"10\" transform=\"translate(33,10)\"><g class=\"mark-group role-frame root\" role=\"graphics-object\" aria-roledescription=\"group mark container\"><g transform=\"translate(0,0)\"><path class=\"background\" aria-hidden=\"true\" d=\"M0.5,0.5h720v200h-720Z\" stroke=\"#ddd\"/><g><g class=\"mark-group role-axis\" aria-hidden=\"true\"><g transform=\"translate(0.5,0.5)\"><path class=\"background\" aria-hidden=\"true\" d=\"M0,0h0v0h0Z\" pointer-events=\"none\"/><g><g class=\"mark-rule role-axis-grid\" pointer-events=\"none\"><line transform=\"translate(0,200)\" x2=\"720\" y2=\"0\" stroke=\"#ddd\" stroke-width=\"1\" opacity=\"1\"/><line transform=\"translate(0,150)\" x2=\"720\" y2=\"0\" stroke=\"#ddd\" stroke-width=\"1\" opacity=\"1\"/><line transform=\"translate(0,100)\" x2=\"720\" y2=\"0\" stroke=\"#ddd\" stroke-width=\"1\" opacity=\"1\"/><line transform=\"translate(0,50)\" x2=\"720\" y2=\"0\" stroke=\"#ddd\" stroke-width=\"1\" opacity=\"1\"/><line transform=\"translate(0,0)\" x2=\"720\" y2=\"0\" stroke=\"#ddd\" stroke-width=\"1\" opacity=\"1\"/></g></g><path class=\"foreground\" aria-hidden=\"true\" d=\"\" pointer-events=\"none\" display=\"none\"/></g></g><g class=\"mark-group role-axis\" role=\"graphics-symbol\" aria-roledescription=\"axis\" aria-label=\"X-axis titled 'year' for a discrete scale with 36 values: 2020, 2021, 2022, 2023, 2024, ending with 2055\"><g transform=\"translate(0.5,200.5)\"><path class=\"background\" aria-hidden=\"true\" d=\"M0,0h0v0h0Z\" pointer-events=\"none\"/><g><g class=\"mark-rule role-axis-tick\" pointer-events=\"none\"><line transform=\"translate(10,0)\" x2=\"0\" y2=\"5\" stroke=\"#888\" stroke-width=\"1\" opacity=\"1\"/><line transform=\"translate(30,0)\" x2=\"0\" y2=\"5\" stroke=\"#888\" stroke-width=\"1\" opacity=\"1\"/><line transform=\"translate(50,0)\" x2=\"0\" y2=\"5\" stroke=\"#888\" stroke-width=\"1\" opacity=\"1\"/><line transform=\"translate(70,0)\" x2=\"0\" y2=\"5\" stroke=\"#888\" stroke-width=\"1\" opacity=\"1\"/><line transform=\"translate(90,0)\" x2=\"0\" y2=\"5\" stroke=\"#888\" stroke-width=\"1\" opacity=\"1\"/><line transform=\"translate(110,0)\" x2=\"0\" y2=\"5\" stroke=\"#888\" stroke-width=\"1\" opacity=\"1\"/><line transform=\"translate(130,0)\" x2=\"0\" y2=\"5\" stroke=\"#888\" stroke-width=\"1\" opacity=\"1\"/><line transform=\"translate(150,0)\" x2=\"0\" y2=\"5\" stroke=\"#888\" stroke-width=\"1\" opacity=\"1\"/><line transform=\"translate(170,0)\" x2=\"0\" y2=\"5\" stroke=\"#888\" stroke-width=\"1\" opacity=\"1\"/><line transform=\"translate(190,0)\" x2=\"0\" y2=\"5\" stroke=\"#888\" stroke-width=\"1\" opacity=\"1\"/><line transform=\"translate(210,0)\" x2=\"0\" y2=\"5\" stroke=\"#888\" stroke-width=\"1\" opacity=\"1\"/><line transform=\"translate(230,0)\" x2=\"0\" y2=\"5\" stroke=\"#888\" stroke-width=\"1\" opacity=\"1\"/><line transform=\"translate(250,0)\" x2=\"0\" y2=\"5\" stroke=\"#888\" stroke-width=\"1\" opacity=\"1\"/><line transform=\"translate(270,0)\" x2=\"0\" y2=\"5\" stroke=\"#888\" stroke-width=\"1\" opacity=\"1\"/><line transform=\"translate(290,0)\" x2=\"0\" y2=\"5\" stroke=\"#888\" stroke-width=\"1\" opacity=\"1\"/><line transform=\"translate(310,0)\" x2=\"0\" y2=\"5\" stroke=\"#888\" stroke-width=\"1\" opacity=\"1\"/><line transform=\"translate(330,0)\" x2=\"0\" y2=\"5\" stroke=\"#888\" stroke-width=\"1\" opacity=\"1\"/><line transform=\"translate(350,0)\" x2=\"0\" y2=\"5\" stroke=\"#888\" stroke-width=\"1\" opacity=\"1\"/><line transform=\"translate(370,0)\" x2=\"0\" y2=\"5\" stroke=\"#888\" stroke-width=\"1\" opacity=\"1\"/><line transform=\"translate(390,0)\" x2=\"0\" y2=\"5\" stroke=\"#888\" stroke-width=\"1\" opacity=\"1\"/><line transform=\"translate(410,0)\" x2=\"0\" y2=\"5\" stroke=\"#888\" stroke-width=\"1\" opacity=\"1\"/><line transform=\"translate(430,0)\" x2=\"0\" y2=\"5\" stroke=\"#888\" stroke-width=\"1\" opacity=\"1\"/><line transform=\"translate(450,0)\" x2=\"0\" y2=\"5\" stroke=\"#888\" stroke-width=\"1\" opacity=\"1\"/><line transform=\"translate(470,0)\" x2=\"0\" y2=\"5\" stroke=\"#888\" stroke-width=\"1\" opacity=\"1\"/><line transform=\"translate(490,0)\" x2=\"0\" y2=\"5\" stroke=\"#888\" stroke-width=\"1\" opacity=\"1\"/><line transform=\"translate(510,0)\" x2=\"0\" y2=\"5\" stroke=\"#888\" stroke-width=\"1\" opacity=\"1\"/><line transform=\"translate(530,0)\" x2=\"0\" y2=\"5\" stroke=\"#888\" stroke-width=\"1\" opacity=\"1\"/><line transform=\"translate(550,0)\" x2=\"0\" y2=\"5\" stroke=\"#888\" stroke-width=\"1\" opacity=\"1\"/><line transform=\"translate(570,0)\" x2=\"0\" y2=\"5\" stroke=\"#888\" stroke-width=\"1\" opacity=\"1\"/><line transform=\"translate(590,0)\" x2=\"0\" y2=\"5\" stroke=\"#888\" stroke-width=\"1\" opacity=\"1\"/><line transform=\"translate(610,0)\" x2=\"0\" y2=\"5\" stroke=\"#888\" stroke-width=\"1\" opacity=\"1\"/><line transform=\"translate(630,0)\" x2=\"0\" y2=\"5\" stroke=\"#888\" stroke-width=\"1\" opacity=\"1\"/><line transform=\"translate(650,0)\" x2=\"0\" y2=\"5\" stroke=\"#888\" stroke-width=\"1\" opacity=\"1\"/><line transform=\"translate(670,0)\" x2=\"0\" y2=\"5\" stroke=\"#888\" stroke-width=\"1\" opacity=\"1\"/><line transform=\"translate(690,0)\" x2=\"0\" y2=\"5\" stroke=\"#888\" stroke-width=\"1\" opacity=\"1\"/><line transform=\"translate(710,0)\" x2=\"0\" y2=\"5\" stroke=\"#888\" stroke-width=\"1\" opacity=\"1\"/></g><g class=\"mark-text role-axis-label\" pointer-events=\"none\"><text text-anchor=\"end\" transform=\"translate(10,7) rotate(270) translate(0,3)\" font-family=\"sans-serif\" font-size=\"10px\" fill=\"#000\" opacity=\"1\">2020</text><text text-anchor=\"end\" transform=\"translate(30,7) rotate(270) translate(0,3)\" font-family=\"sans-serif\" font-size=\"10px\" fill=\"#000\" opacity=\"1\">2021</text><text text-anchor=\"end\" transform=\"translate(50,7) rotate(270) translate(0,3)\" font-family=\"sans-serif\" font-size=\"10px\" fill=\"#000\" opacity=\"1\">2022</text><text text-anchor=\"end\" transform=\"translate(70,7) rotate(270) translate(0,3)\" font-family=\"sans-serif\" font-size=\"10px\" fill=\"#000\" opacity=\"1\">2023</text><text text-anchor=\"end\" transform=\"translate(90,7) rotate(270) translate(0,3)\" font-family=\"sans-serif\" font-size=\"10px\" fill=\"#000\" opacity=\"1\">2024</text><text text-anchor=\"end\" transform=\"translate(110,7) rotate(270) translate(0,3)\" font-family=\"sans-serif\" font-size=\"10px\" fill=\"#000\" opacity=\"1\">2025</text><text text-anchor=\"end\" transform=\"translate(130,7) rotate(270) translate(0,3)\" font-family=\"sans-serif\" font-size=\"10px\" fill=\"#000\" opacity=\"1\">2026</text><text text-anchor=\"end\" transform=\"translate(150,7) rotate(270) translate(0,3)\" font-family=\"sans-serif\" font-size=\"10px\" fill=\"#000\" opacity=\"1\">2027</text><text text-anchor=\"end\" transform=\"translate(170,7) rotate(270) translate(0,3)\" font-family=\"sans-serif\" font-size=\"10px\" fill=\"#000\" opacity=\"1\">2028</text><text text-anchor=\"end\" transform=\"translate(190,7) rotate(270) translate(0,3)\" font-family=\"sans-serif\" font-size=\"10px\" fill=\"#000\" opacity=\"1\">2029</text><text text-anchor=\"end\" transform=\"translate(210,7) rotate(270) translate(0,3)\" font-family=\"sans-serif\" font-size=\"10px\" fill=\"#000\" opacity=\"1\">2030</text><text text-anchor=\"end\" transform=\"translate(230,7) rotate(270) translate(0,3)\" font-family=\"sans-serif\" font-size=\"10px\" fill=\"#000\" opacity=\"1\">2031</text><text text-anchor=\"end\" transform=\"translate(250,7) rotate(270) translate(0,3)\" font-family=\"sans-serif\" font-size=\"10px\" fill=\"#000\" opacity=\"1\">2032</text><text text-anchor=\"end\" transform=\"translate(270,7) rotate(270) translate(0,3)\" font-family=\"sans-serif\" font-size=\"10px\" fill=\"#000\" opacity=\"1\">2033</text><text text-anchor=\"end\" transform=\"translate(290,7) rotate(270) translate(0,3)\" font-family=\"sans-serif\" font-size=\"10px\" fill=\"#000\" opacity=\"1\">2034</text><text text-anchor=\"end\" transform=\"translate(310,7) rotate(270) translate(0,3)\" font-family=\"sans-serif\" font-size=\"10px\" fill=\"#000\" opacity=\"1\">2035</text><text text-anchor=\"end\" transform=\"translate(330,7) rotate(270) translate(0,3)\" font-family=\"sans-serif\" font-size=\"10px\" fill=\"#000\" opacity=\"1\">2036</text><text text-anchor=\"end\" transform=\"translate(350,7) rotate(270) translate(0,3)\" font-family=\"sans-serif\" font-size=\"10px\" fill=\"#000\" opacity=\"1\">2037</text><text text-anchor=\"end\" transform=\"translate(370,7) rotate(270) translate(0,3)\" font-family=\"sans-serif\" font-size=\"10px\" fill=\"#000\" opacity=\"1\">2038</text><text text-anchor=\"end\" transform=\"translate(390,7) rotate(270) translate(0,3)\" font-family=\"sans-serif\" font-size=\"10px\" fill=\"#000\" opacity=\"1\">2039</text><text text-anchor=\"end\" transform=\"translate(410,7) rotate(270) translate(0,3)\" font-family=\"sans-serif\" font-size=\"10px\" fill=\"#000\" opacity=\"1\">2040</text><text text-anchor=\"end\" transform=\"translate(430,7) rotate(270) translate(0,3)\" font-family=\"sans-serif\" font-size=\"10px\" fill=\"#000\" opacity=\"1\">2041</text><text text-anchor=\"end\" transform=\"translate(450,7) rotate(270) translate(0,3)\" font-family=\"sans-serif\" font-size=\"10px\" fill=\"#000\" opacity=\"1\">2042</text><text text-anchor=\"end\" transform=\"translate(470,7) rotate(270) translate(0,3)\" font-family=\"sans-serif\" font-size=\"10px\" fill=\"#000\" opacity=\"1\">2043</text><text text-anchor=\"end\" transform=\"translate(490,7) rotate(270) translate(0,3)\" font-family=\"sans-serif\" font-size=\"10px\" fill=\"#000\" opacity=\"1\">2044</text><text text-anchor=\"end\" transform=\"translate(510,7) rotate(270) translate(0,3)\" font-family=\"sans-serif\" font-size=\"10px\" fill=\"#000\" opacity=\"1\">2045</text><text text-anchor=\"end\" transform=\"translate(530,7) rotate(270) translate(0,3)\" font-family=\"sans-serif\" font-size=\"10px\" fill=\"#000\" opacity=\"1\">2046</text><text text-anchor=\"end\" transform=\"translate(550,7) rotate(270) translate(0,3)\" font-family=\"sans-serif\" font-size=\"10px\" fill=\"#000\" opacity=\"1\">2047</text><text text-anchor=\"end\" transform=\"translate(570,7) rotate(270) translate(0,3)\" font-family=\"sans-serif\" font-size=\"10px\" fill=\"#000\" opacity=\"1\">2048</text><text text-anchor=\"end\" transform=\"translate(590,7) rotate(270) translate(0,3)\" font-family=\"sans-serif\" font-size=\"10px\" fill=\"#000\" opacity=\"1\">2049</text><text text-anchor=\"end\" transform=\"translate(610,7) rotate(270) translate(0,3)\" font-family=\"sans-serif\" font-size=\"10px\" fill=\"#000\" opacity=\"1\">2050</text><text text-anchor=\"end\" transform=\"translate(630,7) rotate(270) translate(0,3)\" font-family=\"sans-serif\" font-size=\"10px\" fill=\"#000\" opacity=\"1\">2051</text><text text-anchor=\"end\" transform=\"translate(650,7) rotate(270) translate(0,3)\" font-family=\"sans-serif\" font-size=\"10px\" fill=\"#000\" opacity=\"1\">2052</text><text text-anchor=\"end\" transform=\"translate(670,7) rotate(270) translate(0,3)\" font-family=\"sans-serif\" font-size=\"10px\" fill=\"#000\" opacity=\"1\">2053</text><text text-anchor=\"end\" transform=\"translate(690,7) rotate(270) translate(0,3)\" font-family=\"sans-serif\" font-size=\"10px\" fill=\"#000\" opacity=\"1\">2054</text><text text-anchor=\"end\" transform=\"translate(710,7) rotate(270) translate(0,3)\" font-family=\"sans-serif\" font-size=\"10px\" fill=\"#000\" opacity=\"1\">2055</text></g><g class=\"mark-rule role-axis-domain\" pointer-events=\"none\"><line transform=\"translate(0,0)\" x2=\"720\" y2=\"0\" stroke=\"#888\" stroke-width=\"1\" opacity=\"1\"/></g><g class=\"mark-text role-axis-title\" pointer-events=\"none\"><text text-anchor=\"middle\" transform=\"translate(360,44)\" font-family=\"sans-serif\" font-size=\"11px\" font-weight=\"bold\" fill=\"#000\" opacity=\"1\">year</text></g></g><path class=\"foreground\" aria-hidden=\"true\" d=\"\" pointer-events=\"none\" display=\"none\"/></g></g><g class=\"mark-group role-axis\" role=\"graphics-symbol\" aria-roledescription=\"axis\" aria-label=\"Y-axis titled 'CO2' for a linear scale with values from 0 to 8\"><g transform=\"translate(0.5,0.5)\"><path class=\"background\" aria-hidden=\"true\" d=\"M0,0h0v0h0Z\" pointer-events=\"none\"/><g><g class=\"mark-rule role-axis-tick\" pointer-events=\"none\"><line transform=\"translate(0,200)\" x2=\"-5\" y2=\"0\" stroke=\"#888\" stroke-width=\"1\" opacity=\"1\"/><line transform=\"translate(0,150)\" x2=\"-5\" y2=\"0\" stroke=\"#888\" stroke-width=\"1\" opacity=\"1\"/><line transform=\"translate(0,100)\" x2=\"-5\" y2=\"0\" stroke=\"#888\" stroke-width=\"1\" opacity=\"1\"/><line transform=\"translate(0,50)\" x2=\"-5\" y2=\"0\" stroke=\"#888\" stroke-width=\"1\" opacity=\"1\"/><line transform=\"translate(0,0)\" x2=\"-5\" y2=\"0\" stroke=\"#888\" stroke-width=\"1\" opacity=\"1\"/></g><g class=\"mark-text role-axis-label\" pointer-events=\"none\"><text text-anchor=\"end\" transform=\"translate(-7,203)\" font-family=\"sans-serif\" font-size=\"10px\" fill=\"#000\" opacity=\"1\">0</text><text text-anchor=\"end\" transform=\"translate(-7,153)\" font-family=\"sans-serif\" font-size=\"10px\" fill=\"#000\" opacity=\"1\">2</text><text text-anchor=\"end\" transform=\"translate(-7,103)\" font-family=\"sans-serif\" font-size=\"10px\" fill=\"#000\" opacity=\"1\">4</text><text text-anchor=\"end\" transform=\"translate(-7,53)\" font-family=\"sans-serif\" font-size=\"10px\" fill=\"#000\" opacity=\"1\">6</text><text text-anchor=\"end\" transform=\"translate(-7,3)\" font-family=\"sans-serif\" font-size=\"10px\" fill=\"#000\" opacity=\"1\">8</text></g><g class=\"mark-rule role-axis-domain\" pointer-events=\"none\"><line transform=\"translate(0,200)\" x2=\"0\" y2=\"-200\" stroke=\"#888\" stroke-width=\"1\" opacity=\"1\"/></g><g class=\"mark-text role-axis-title\" pointer-events=\"none\"><text text-anchor=\"middle\" transform=\"translate(-17,100) rotate(-90) translate(0,-2)\" font-family=\"sans-serif\" font-size=\"11px\" font-weight=\"bold\" fill=\"#000\" opacity=\"1\">CO2</text></g></g><path class=\"foreground\" aria-hidden=\"true\" d=\"\" pointer-events=\"none\" display=\"none\"/></g></g><g class=\"mark-group role-scope pathgroup\" role=\"graphics-object\" aria-roledescription=\"group mark container\"><g transform=\"translate(0,0)\"><path class=\"background\" aria-hidden=\"true\" d=\"M0,0h720v200h-720Z\"/><g><g class=\"mark-area role-mark marks\" role=\"graphics-object\" aria-roledescription=\"area mark container\"><path aria-label=\"year: 2020; CO2: 8; variable: conv\" role=\"graphics-symbol\" aria-roledescription=\"area mark\" d=\"M10,0L30,128.82302153444425L50,128.82302153444425L70,128.82302153444425L90,128.82302153444425L110,87.34027461288234L130,87.34027461288234L150,87.34027461288234L170,87.34027461288234L190,87.34027461288234L210,131.2064019121007L230,131.2064019121007L250,131.2064019121007L270,131.2064019121007L290,131.2064019121007L310,142.64042572365835L330,142.64042572365835L350,142.64042572365835L370,142.64042572365835L390,142.64042572365835L410,170.1444055973216L430,170.1444055973216L450,170.1444055973216L470,170.1444055973216L490,170.1444055973216L510,187.50000000000003L530,187.50000000000003L550,187.50000000000003L570,187.50000000000003L590,187.50000000000003L610,187.50000000000003L630,187.50000000000003L650,187.50000000000003L670,187.50000000000003L690,187.50000000000003L710,187.50000000000003L710,188.4184131667757L690,188.4184131667757L670,188.4184131667757L650,188.4184131667757L630,188.4184131667757L610,188.4184131667757L590,188.4184131667757L570,188.4184131667757L550,188.4184131667757L530,188.4184131667757L510,188.4184131667757L490,170.1444055973216L470,170.1444055973216L450,170.1444055973216L430,170.1444055973216L410,170.1444055973216L390,142.64042572365835L370,142.64042572365835L350,142.64042572365835L330,142.64042572365835L310,142.64042572365835L290,131.2064019121007L270,131.2064019121007L250,131.2064019121007L230,131.2064019121007L210,131.2064019121007L190,87.34027461288237L170,87.34027461288237L150,87.34027461288237L130,87.34027461288237L110,87.34027461288237L90,128.82302153444425L70,128.82302153444425L50,128.82302153444425L30,128.82302153444425L10,200Z\" fill=\"#4c78a8\"/></g></g><path class=\"foreground\" aria-hidden=\"true\" d=\"\" display=\"none\"/></g><g transform=\"translate(0,0)\"><path class=\"background\" aria-hidden=\"true\" d=\"M0,0h720v200h-720Z\"/><g><g class=\"mark-area role-mark marks\" role=\"graphics-object\" aria-roledescription=\"area mark container\"><path aria-label=\"year: 2020; CO2: 0; variable: inn1\" role=\"graphics-symbol\" aria-roledescription=\"area mark\" d=\"M10,200L30,128.82302153444425L50,128.82302153444425L70,128.82302153444425L90,128.82302153444425L110,87.34027461288237L130,87.34027461288237L150,87.34027461288237L170,87.34027461288237L190,87.34027461288237L210,131.2064019121007L230,131.2064019121007L250,131.2064019121007L270,131.2064019121007L290,131.2064019121007L310,142.64042572365835L330,142.64042572365835L350,142.64042572365835L370,142.64042572365835L390,142.64042572365835L410,170.1444055973216L430,170.1444055973216L450,170.1444055973216L470,170.1444055973216L490,170.1444055973216L510,188.4184131667757L530,188.4184131667757L550,188.4184131667757L570,188.4184131667757L590,188.4184131667757L610,188.4184131667757L630,188.4184131667757L650,188.4184131667757L670,188.4184131667757L690,188.4184131667757L710,188.4184131667757L710,188.4184131667757L690,188.4184131667757L670,188.4184131667757L650,188.4184131667757L630,188.4184131667757L610,188.4184131667757L590,188.4184131667757L570,188.4184131667757L550,188.4184131667757L530,188.4184131667757L510,188.4184131667757L490,170.1444055973216L470,170.1444055973216L450,170.1444055973216L430,170.1444055973216L410,170.1444055973216L390,142.64042572365835L370,142.64042572365835L350,142.64042572365835L330,142.64042572365835L310,142.64042572365835L290,131.2064019121007L270,131.2064019121007L250,131.2064019121007L230,131.2064019121007L210,131.2064019121007L190,87.34027461288237L170,87.34027461288237L150,87.34027461288237L130,87.34027461288237L110,87.34027461288237L90,128.82302153444425L70,128.82302153444425L50,128.82302153444425L30,128.82302153444425L10,200Z\" fill=\"#f58518\"/></g></g><path class=\"foreground\" aria-hidden=\"true\" d=\"\" display=\"none\"/></g><g transform=\"translate(0,0)\"><path class=\"background\" aria-hidden=\"true\" d=\"M0,0h720v200h-720Z\"/><g><g class=\"mark-area role-mark marks\" role=\"graphics-object\" aria-roledescription=\"area mark container\"><path aria-label=\"year: 2020; CO2: 0; variable: inn2\" role=\"graphics-symbol\" aria-roledescription=\"area mark\" d=\"M10,200L30,200L50,200L70,200L90,200L110,90.75984745943735L130,90.75984745943735L150,90.75984745943735L170,90.75984745943735L190,90.75984745943735L210,165.3906302084414L230,165.3906302084414L250,165.3906302084414L270,165.3906302084414L290,165.3906302084414L310,170.70004990304204L330,170.70004990304204L350,170.70004990304204L370,170.70004990304204L390,170.70004990304204L410,200L430,200L450,200L470,200L490,200L510,200L530,200L550,200L570,200L590,200L610,200L630,200L650,200L670,200L690,200L710,200L710,200L690,200L670,200L650,200L630,200L610,200L590,200L570,200L550,200L530,200L510,200L490,200L470,200L450,200L430,200L410,200L390,170.70004990304204L370,170.70004990304204L350,170.70004990304204L330,170.70004990304204L310,170.70004990304204L290,165.3906302084414L270,165.3906302084414L250,165.3906302084414L230,165.3906302084414L210,165.3906302084414L190,90.75984745943735L170,90.75984745943735L150,90.75984745943735L130,90.75984745943735L110,90.75984745943735L90,200L70,200L50,200L30,200L10,200Z\" fill=\"#72b7b2\"/></g></g><path class=\"foreground\" aria-hidden=\"true\" d=\"\" display=\"none\"/></g><g transform=\"translate(0,0)\"><path class=\"background\" aria-hidden=\"true\" d=\"M0,0h720v200h-720Z\"/><g><g class=\"mark-area role-mark marks\" role=\"graphics-object\" aria-roledescription=\"area mark container\"><path aria-label=\"year: 2020; CO2: 0; variable: inn3\" role=\"graphics-symbol\" aria-roledescription=\"area mark\" d=\"M10,200L30,200L50,200L70,200L90,200L110,90.75984745943735L130,90.75984745943735L150,90.75984745943735L170,90.75984745943735L190,90.75984745943735L210,165.3906302084414L230,165.3906302084414L250,165.3906302084414L270,165.3906302084414L290,165.3906302084414L310,170.70004990304204L330,170.70004990304204L350,170.70004990304204L370,170.70004990304204L390,170.70004990304204L410,200L430,200L450,200L470,200L490,200L510,200L530,200L550,200L570,200L590,200L610,200L630,200L650,200L670,200L690,200L710,200L710,200L690,200L670,200L650,200L630,200L610,200L590,200L570,200L550,200L530,200L510,200L490,200L470,200L450,200L430,200L410,200L390,170.70004990304204L370,170.70004990304204L350,170.70004990304204L330,170.70004990304204L310,170.70004990304204L290,165.3906302084414L270,165.3906302084414L250,165.3906302084414L230,165.3906302084414L210,165.3906302084414L190,90.75984745943735L170,90.75984745943735L150,90.75984745943735L130,90.75984745943735L110,90.75984745943735L90,200L70,200L50,200L30,200L10,200Z\" fill=\"#54a24b\"/></g></g><path class=\"foreground\" aria-hidden=\"true\" d=\"\" display=\"none\"/></g><g transform=\"translate(0,0)\"><path class=\"background\" aria-hidden=\"true\" d=\"M0,0h720v200h-720Z\"/><g><g class=\"mark-area role-mark marks\" role=\"graphics-object\" aria-roledescription=\"area mark container\"><path aria-label=\"year: 2020; CO2: 0; variable: inn4\" role=\"graphics-symbol\" aria-roledescription=\"area mark\" d=\"M10,200L30,200L50,200L70,200L90,200L110,90.75984745943735L130,90.75984745943735L150,90.75984745943735L170,90.75984745943735L190,90.75984745943735L210,165.3906302084414L230,165.3906302084414L250,165.3906302084414L270,165.3906302084414L290,165.3906302084414L310,170.70004990304204L330,170.70004990304204L350,170.70004990304204L370,170.70004990304204L390,170.70004990304204L410,200L430,200L450,200L470,200L490,200L510,200L530,200L550,200L570,200L590,200L610,200L630,200L650,200L670,200L690,200L710,200L710,200L690,200L670,200L650,200L630,200L610,200L590,200L570,200L550,200L530,200L510,200L490,200L470,200L450,200L430,200L410,200L390,170.70004990304204L370,170.70004990304204L350,170.70004990304204L330,170.70004990304204L310,170.70004990304204L290,165.3906302084414L270,165.3906302084414L250,165.3906302084414L230,165.3906302084414L210,165.3906302084414L190,90.75984745943735L170,90.75984745943735L150,90.75984745943735L130,90.75984745943735L110,90.75984745943735L90,200L70,200L50,200L30,200L10,200Z\" fill=\"#eeca3b\"/></g></g><path class=\"foreground\" aria-hidden=\"true\" d=\"\" display=\"none\"/></g><g transform=\"translate(0,0)\"><path class=\"background\" aria-hidden=\"true\" d=\"M0,0h720v200h-720Z\"/><g><g class=\"mark-area role-mark marks\" role=\"graphics-object\" aria-roledescription=\"area mark container\"><path aria-label=\"year: 2020; CO2: 0; variable: inn5\" role=\"graphics-symbol\" aria-roledescription=\"area mark\" d=\"M10,200L30,200L50,200L70,200L90,200L110,90.75984745943735L130,90.75984745943735L150,90.75984745943735L170,90.75984745943735L190,90.75984745943735L210,165.3906302084414L230,165.3906302084414L250,165.3906302084414L270,165.3906302084414L290,165.3906302084414L310,170.70004990304204L330,170.70004990304204L350,170.70004990304204L370,170.70004990304204L390,170.70004990304204L410,200L430,200L450,200L470,200L490,200L510,200L530,200L550,200L570,200L590,200L610,200L630,200L650,200L670,200L690,200L710,200L710,200L690,200L670,200L650,200L630,200L610,200L590,200L570,200L550,200L530,200L510,200L490,200L470,200L450,200L430,200L410,200L390,200L370,200L350,200L330,200L310,200L290,200L270,200L250,200L230,200L210,200L190,200L170,200L150,200L130,200L110,200L90,200L70,200L50,200L30,200L10,200Z\" fill=\"#b279a2\"/></g></g><path class=\"foreground\" aria-hidden=\"true\" d=\"\" display=\"none\"/></g><g transform=\"translate(0,0)\"><path class=\"background\" aria-hidden=\"true\" d=\"M0,0h720v200h-720Z\"/><g><g class=\"mark-area role-mark marks\" role=\"graphics-object\" aria-roledescription=\"area mark container\"><path aria-label=\"year: 2020; CO2: 0; variable: inn6\" role=\"graphics-symbol\" aria-roledescription=\"area mark\" d=\"M10,200L30,200L50,200L70,200L90,200L110,200L130,200L150,200L170,200L190,200L210,200L230,200L250,200L270,200L290,200L310,200L330,200L350,200L370,200L390,200L410,200L430,200L450,200L470,200L490,200L510,200L530,200L550,200L570,200L590,200L610,200L630,200L650,200L670,200L690,200L710,200L710,200L690,200L670,200L650,200L630,200L610,200L590,200L570,200L550,200L530,200L510,200L490,200L470,200L450,200L430,200L410,200L390,200L370,200L350,200L330,200L310,200L290,200L270,200L250,200L230,200L210,200L190,200L170,200L150,200L130,200L110,200L90,200L70,200L50,200L30,200L10,200Z\" fill=\"#ff9da6\"/></g></g><path class=\"foreground\" aria-hidden=\"true\" d=\"\" display=\"none\"/></g><g transform=\"translate(0,0)\"><path class=\"background\" aria-hidden=\"true\" d=\"M0,0h720v200h-720Z\"/><g><g class=\"mark-area role-mark marks\" role=\"graphics-object\" aria-roledescription=\"area mark container\"><path aria-label=\"year: 2020; CO2: 0; variable: inn7\" role=\"graphics-symbol\" aria-roledescription=\"area mark\" d=\"M10,200L30,200L50,200L70,200L90,200L110,200L130,200L150,200L170,200L190,200L210,200L230,200L250,200L270,200L290,200L310,200L330,200L350,200L370,200L390,200L410,200L430,200L450,200L470,200L490,200L510,200L530,200L550,200L570,200L590,200L610,200L630,200L650,200L670,200L690,200L710,200L710,200L690,200L670,200L650,200L630,200L610,200L590,200L570,200L550,200L530,200L510,200L490,200L470,200L450,200L430,200L410,200L390,200L370,200L350,200L330,200L310,200L290,200L270,200L250,200L230,200L210,200L190,200L170,200L150,200L130,200L110,200L90,200L70,200L50,200L30,200L10,200Z\" fill=\"#9d755d\"/></g></g><path class=\"foreground\" aria-hidden=\"true\" d=\"\" display=\"none\"/></g><g transform=\"translate(0,0)\"><path class=\"background\" aria-hidden=\"true\" d=\"M0,0h720v200h-720Z\"/><g><g class=\"mark-area role-mark marks\" role=\"graphics-object\" aria-roledescription=\"area mark container\"><path aria-label=\"year: 2020; CO2: 0; variable: inn8\" role=\"graphics-symbol\" aria-roledescription=\"area mark\" d=\"M10,200L30,200L50,200L70,200L90,200L110,200L130,200L150,200L170,200L190,200L210,200L230,200L250,200L270,200L290,200L310,200L330,200L350,200L370,200L390,200L410,200L430,200L450,200L470,200L490,200L510,200L530,200L550,200L570,200L590,200L610,200L630,200L650,200L670,200L690,200L710,200L710,200L690,200L670,200L650,200L630,200L610,200L590,200L570,200L550,200L530,200L510,200L490,200L470,200L450,200L430,200L410,200L390,200L370,200L350,200L330,200L310,200L290,200L270,200L250,200L230,200L210,200L190,200L170,200L150,200L130,200L110,200L90,200L70,200L50,200L30,200L10,200Z\" fill=\"#bab0ac\"/></g></g><path class=\"foreground\" aria-hidden=\"true\" d=\"\" display=\"none\"/></g><g transform=\"translate(0,0)\"><path class=\"background\" aria-hidden=\"true\" d=\"M0,0h720v200h-720Z\"/><g><g class=\"mark-area role-mark marks\" role=\"graphics-object\" aria-roledescription=\"area mark container\"><path aria-label=\"year: 2020; CO2: 0; variable: inn9\" role=\"graphics-symbol\" aria-roledescription=\"area mark\" d=\"M10,200L30,200L50,200L70,200L90,200L110,200L130,200L150,200L170,200L190,200L210,200L230,200L250,200L270,200L290,200L310,200L330,200L350,200L370,200L390,200L410,200L430,200L450,200L470,200L490,200L510,200L530,200L550,200L570,200L590,200L610,200L630,200L650,200L670,200L690,200L710,200L710,200L690,200L670,200L650,200L630,200L610,200L590,200L570,200L550,200L530,200L510,200L490,200L470,200L450,200L430,200L410,200L390,200L370,200L350,200L330,200L310,200L290,200L270,200L250,200L230,200L210,200L190,200L170,200L150,200L130,200L110,200L90,200L70,200L50,200L30,200L10,200Z\" fill=\"#4c78a8\"/></g></g><path class=\"foreground\" aria-hidden=\"true\" d=\"\" display=\"none\"/></g><g transform=\"translate(0,0)\"><path class=\"background\" aria-hidden=\"true\" d=\"M0,0h720v200h-720Z\"/><g><g class=\"mark-area role-mark marks\" role=\"graphics-object\" aria-roledescription=\"area mark container\"><path aria-label=\"year: 2020; CO2: 0; variable: inn10\" role=\"graphics-symbol\" aria-roledescription=\"area mark\" d=\"M10,200L30,128.82302153444425L50,128.82302153444425L70,128.82302153444425L90,128.82302153444425L110,87.34027461288237L130,87.34027461288237L150,87.34027461288237L170,87.34027461288237L190,87.34027461288237L210,131.2064019121007L230,131.2064019121007L250,131.2064019121007L270,131.2064019121007L290,131.2064019121007L310,142.64042572365835L330,142.64042572365835L350,142.64042572365835L370,142.64042572365835L390,142.64042572365835L410,170.1444055973216L430,170.1444055973216L450,170.1444055973216L470,170.1444055973216L490,170.1444055973216L510,188.4184131667757L530,188.4184131667757L550,188.4184131667757L570,188.4184131667757L590,188.4184131667757L610,188.4184131667757L630,188.4184131667757L650,188.4184131667757L670,188.4184131667757L690,188.4184131667757L710,188.4184131667757L710,200L690,200L670,200L650,200L630,200L610,200L590,200L570,200L550,200L530,200L510,200L490,200L470,200L450,200L430,200L410,200L390,170.70004990304204L370,170.70004990304204L350,170.70004990304204L330,170.70004990304204L310,170.70004990304204L290,165.3906302084414L270,165.3906302084414L250,165.3906302084414L230,165.3906302084414L210,165.3906302084414L190,90.75984745943735L170,90.75984745943735L150,90.75984745943735L130,90.75984745943735L110,90.75984745943735L90,200L70,200L50,200L30,200L10,200Z\" fill=\"#e45756\"/></g></g><path class=\"foreground\" aria-hidden=\"true\" d=\"\" display=\"none\"/></g></g><g class=\"mark-group role-legend\" role=\"graphics-symbol\" aria-roledescription=\"legend\" aria-label=\"Symbol legend titled 'variable' for fill color with 11 values: conv, inn1, inn10, inn2, inn3, ending with inn9\"><g transform=\"translate(738,0)\"><path class=\"background\" aria-hidden=\"true\" d=\"M0,0h49v157h-49Z\" pointer-events=\"none\"/><g><g class=\"mark-group role-legend-entry\"><g transform=\"translate(0,16)\"><path class=\"background\" aria-hidden=\"true\" d=\"M0,0h0v0h0Z\" pointer-events=\"none\"/><g><g class=\"mark-group role-scope\" role=\"graphics-object\" aria-roledescription=\"group mark container\"><g transform=\"translate(0,0)\"><path class=\"background\" aria-hidden=\"true\" d=\"M0,0h43v11h-43Z\" pointer-events=\"none\" opacity=\"1\"/><g><g class=\"mark-symbol role-legend-symbol\" pointer-events=\"none\"><path transform=\"translate(6,6)\" d=\"M5,0A5,5,0,1,1,-5,0A5,5,0,1,1,5,0\" fill=\"#4c78a8\" stroke-width=\"1.5\" opacity=\"1\"/></g><g class=\"mark-text role-legend-label\" pointer-events=\"none\"><text text-anchor=\"start\" transform=\"translate(16,9)\" font-family=\"sans-serif\" font-size=\"10px\" fill=\"#000\" opacity=\"1\">conv</text></g></g><path class=\"foreground\" aria-hidden=\"true\" d=\"\" pointer-events=\"none\" display=\"none\"/></g><g transform=\"translate(0,13)\"><path class=\"background\" aria-hidden=\"true\" d=\"M0,0h43v11h-43Z\" pointer-events=\"none\" opacity=\"1\"/><g><g class=\"mark-symbol role-legend-symbol\" pointer-events=\"none\"><path transform=\"translate(6,6)\" d=\"M5,0A5,5,0,1,1,-5,0A5,5,0,1,1,5,0\" fill=\"#f58518\" stroke-width=\"1.5\" opacity=\"1\"/></g><g class=\"mark-text role-legend-label\" pointer-events=\"none\"><text text-anchor=\"start\" transform=\"translate(16,9)\" font-family=\"sans-serif\" font-size=\"10px\" fill=\"#000\" opacity=\"1\">inn1</text></g></g><path class=\"foreground\" aria-hidden=\"true\" d=\"\" pointer-events=\"none\" display=\"none\"/></g><g transform=\"translate(0,26)\"><path class=\"background\" aria-hidden=\"true\" d=\"M0,0h43v11h-43Z\" pointer-events=\"none\" opacity=\"1\"/><g><g class=\"mark-symbol role-legend-symbol\" pointer-events=\"none\"><path transform=\"translate(6,6)\" d=\"M5,0A5,5,0,1,1,-5,0A5,5,0,1,1,5,0\" fill=\"#e45756\" stroke-width=\"1.5\" opacity=\"1\"/></g><g class=\"mark-text role-legend-label\" pointer-events=\"none\"><text text-anchor=\"start\" transform=\"translate(16,9)\" font-family=\"sans-serif\" font-size=\"10px\" fill=\"#000\" opacity=\"1\">inn10</text></g></g><path class=\"foreground\" aria-hidden=\"true\" d=\"\" pointer-events=\"none\" display=\"none\"/></g><g transform=\"translate(0,39)\"><path class=\"background\" aria-hidden=\"true\" d=\"M0,0h43v11h-43Z\" pointer-events=\"none\" opacity=\"1\"/><g><g class=\"mark-symbol role-legend-symbol\" pointer-events=\"none\"><path transform=\"translate(6,6)\" d=\"M5,0A5,5,0,1,1,-5,0A5,5,0,1,1,5,0\" fill=\"#72b7b2\" stroke-width=\"1.5\" opacity=\"1\"/></g><g class=\"mark-text role-legend-label\" pointer-events=\"none\"><text text-anchor=\"start\" transform=\"translate(16,9)\" font-family=\"sans-serif\" font-size=\"10px\" fill=\"#000\" opacity=\"1\">inn2</text></g></g><path class=\"foreground\" aria-hidden=\"true\" d=\"\" pointer-events=\"none\" display=\"none\"/></g><g transform=\"translate(0,52)\"><path class=\"background\" aria-hidden=\"true\" d=\"M0,0h43v11h-43Z\" pointer-events=\"none\" opacity=\"1\"/><g><g class=\"mark-symbol role-legend-symbol\" pointer-events=\"none\"><path transform=\"translate(6,6)\" d=\"M5,0A5,5,0,1,1,-5,0A5,5,0,1,1,5,0\" fill=\"#54a24b\" stroke-width=\"1.5\" opacity=\"1\"/></g><g class=\"mark-text role-legend-label\" pointer-events=\"none\"><text text-anchor=\"start\" transform=\"translate(16,9)\" font-family=\"sans-serif\" font-size=\"10px\" fill=\"#000\" opacity=\"1\">inn3</text></g></g><path class=\"foreground\" aria-hidden=\"true\" d=\"\" pointer-events=\"none\" display=\"none\"/></g><g transform=\"translate(0,65)\"><path class=\"background\" aria-hidden=\"true\" d=\"M0,0h43v11h-43Z\" pointer-events=\"none\" opacity=\"1\"/><g><g class=\"mark-symbol role-legend-symbol\" pointer-events=\"none\"><path transform=\"translate(6,6)\" d=\"M5,0A5,5,0,1,1,-5,0A5,5,0,1,1,5,0\" fill=\"#eeca3b\" stroke-width=\"1.5\" opacity=\"1\"/></g><g class=\"mark-text role-legend-label\" pointer-events=\"none\"><text text-anchor=\"start\" transform=\"translate(16,9)\" font-family=\"sans-serif\" font-size=\"10px\" fill=\"#000\" opacity=\"1\">inn4</text></g></g><path class=\"foreground\" aria-hidden=\"true\" d=\"\" pointer-events=\"none\" display=\"none\"/></g><g transform=\"translate(0,78)\"><path class=\"background\" aria-hidden=\"true\" d=\"M0,0h43v11h-43Z\" pointer-events=\"none\" opacity=\"1\"/><g><g class=\"mark-symbol role-legend-symbol\" pointer-events=\"none\"><path transform=\"translate(6,6)\" d=\"M5,0A5,5,0,1,1,-5,0A5,5,0,1,1,5,0\" fill=\"#b279a2\" stroke-width=\"1.5\" opacity=\"1\"/></g><g class=\"mark-text role-legend-label\" pointer-events=\"none\"><text text-anchor=\"start\" transform=\"translate(16,9)\" font-family=\"sans-serif\" font-size=\"10px\" fill=\"#000\" opacity=\"1\">inn5</text></g></g><path class=\"foreground\" aria-hidden=\"true\" d=\"\" pointer-events=\"none\" display=\"none\"/></g><g transform=\"translate(0,91)\"><path class=\"background\" aria-hidden=\"true\" d=\"M0,0h43v11h-43Z\" pointer-events=\"none\" opacity=\"1\"/><g><g class=\"mark-symbol role-legend-symbol\" pointer-events=\"none\"><path transform=\"translate(6,6)\" d=\"M5,0A5,5,0,1,1,-5,0A5,5,0,1,1,5,0\" fill=\"#ff9da6\" stroke-width=\"1.5\" opacity=\"1\"/></g><g class=\"mark-text role-legend-label\" pointer-events=\"none\"><text text-anchor=\"start\" transform=\"translate(16,9)\" font-family=\"sans-serif\" font-size=\"10px\" fill=\"#000\" opacity=\"1\">inn6</text></g></g><path class=\"foreground\" aria-hidden=\"true\" d=\"\" pointer-events=\"none\" display=\"none\"/></g><g transform=\"translate(0,104)\"><path class=\"background\" aria-hidden=\"true\" d=\"M0,0h43v11h-43Z\" pointer-events=\"none\" opacity=\"1\"/><g><g class=\"mark-symbol role-legend-symbol\" pointer-events=\"none\"><path transform=\"translate(6,6)\" d=\"M5,0A5,5,0,1,1,-5,0A5,5,0,1,1,5,0\" fill=\"#9d755d\" stroke-width=\"1.5\" opacity=\"1\"/></g><g class=\"mark-text role-legend-label\" pointer-events=\"none\"><text text-anchor=\"start\" transform=\"translate(16,9)\" font-family=\"sans-serif\" font-size=\"10px\" fill=\"#000\" opacity=\"1\">inn7</text></g></g><path class=\"foreground\" aria-hidden=\"true\" d=\"\" pointer-events=\"none\" display=\"none\"/></g><g transform=\"translate(0,117)\"><path class=\"background\" aria-hidden=\"true\" d=\"M0,0h43v11h-43Z\" pointer-events=\"none\" opacity=\"1\"/><g><g class=\"mark-symbol role-legend-symbol\" pointer-events=\"none\"><path transform=\"translate(6,6)\" d=\"M5,0A5,5,0,1,1,-5,0A5,5,0,1,1,5,0\" fill=\"#bab0ac\" stroke-width=\"1.5\" opacity=\"1\"/></g><g class=\"mark-text role-legend-label\" pointer-events=\"none\"><text text-anchor=\"start\" transform=\"translate(16,9)\" font-family=\"sans-serif\" font-size=\"10px\" fill=\"#000\" opacity=\"1\">inn8</text></g></g><path class=\"foreground\" aria-hidden=\"true\" d=\"\" pointer-events=\"none\" display=\"none\"/></g><g transform=\"translate(0,130)\"><path class=\"background\" aria-hidden=\"true\" d=\"M0,0h43v11h-43Z\" pointer-events=\"none\" opacity=\"1\"/><g><g class=\"mark-symbol role-legend-symbol\" pointer-events=\"none\"><path transform=\"translate(6,6)\" d=\"M5,0A5,5,0,1,1,-5,0A5,5,0,1,1,5,0\" fill=\"#4c78a8\" stroke-width=\"1.5\" opacity=\"1\"/></g><g class=\"mark-text role-legend-label\" pointer-events=\"none\"><text text-anchor=\"start\" transform=\"translate(16,9)\" font-family=\"sans-serif\" font-size=\"10px\" fill=\"#000\" opacity=\"1\">inn9</text></g></g><path class=\"foreground\" aria-hidden=\"true\" d=\"\" pointer-events=\"none\" display=\"none\"/></g></g></g><path class=\"foreground\" aria-hidden=\"true\" d=\"\" pointer-events=\"none\" display=\"none\"/></g></g><g class=\"mark-text role-legend-title\" pointer-events=\"none\"><text text-anchor=\"start\" transform=\"translate(0,9)\" font-family=\"sans-serif\" font-size=\"11px\" font-weight=\"bold\" fill=\"#000\" opacity=\"1\">variable</text></g></g><path class=\"foreground\" aria-hidden=\"true\" d=\"\" pointer-events=\"none\" display=\"none\"/></g></g></g><path class=\"foreground\" aria-hidden=\"true\" d=\"\" display=\"none\"/></g></g></g></svg>\n"
      ],
      "text/plain": [
       "@vlplot(\n",
       "    legend=\"sNames\",\n",
       "    mark=\"area\",\n",
       "    encoding={\n",
       "        x={\n",
       "            field=\"year\"\n",
       "        },\n",
       "        y={\n",
       "            stack=\"zero\",\n",
       "            title=\"CO2\",\n",
       "            field=\"value\"\n",
       "        },\n",
       "        color={\n",
       "            field=\"variable\",\n",
       "            type=\"nominal\"\n",
       "        }\n",
       "    },\n",
       "    data={\n",
       "        values=...\n",
       "    }\n",
       ")"
      ]
     },
     "execution_count": 407,
     "metadata": {},
     "output_type": "execute_result"
    }
   ],
   "source": [
    "function conventional(t)\n",
    "    return initial[1,3]*(1-sum(JuMP.values.(xk)[k,t] for k in 1:nrow(compromise)))\n",
    "end\n",
    "\n",
    "function innovation(i,t)\n",
    "    if i==1\n",
    "        return sum(JuMP.values.(xk)[k,t]*(co2fac[k,t]) for k=1:mapki[i,2])\n",
    "    else\n",
    "        return sum(JuMP.values.(xk)[k,t]*(co2fac[k,t]) for k=mapki[i-1,2]:mapki[i,2])\n",
    "    end\n",
    "end\n",
    "\n",
    "conv=zeros(51)\n",
    "\n",
    "conv[1]=initial[1,3]\n",
    "inn_co2=zeros(nrow(innovations),51)\n",
    "\n",
    "for inn in 1:nrow(innovations)\n",
    "    inn_co2[inn,1]=0\n",
    "end\n",
    "j=0\n",
    "for i in 2:51\n",
    "    if 0 ≤ i ≤ 5\n",
    "        j=1\n",
    "    elseif 6 ≤ i ≤ 10\n",
    "        j=2\n",
    "    elseif 6 ≤ i ≤ 10\n",
    "        j=3\n",
    "    elseif 11 ≤ i ≤ 15\n",
    "        j=4\n",
    "    elseif 16 ≤ i ≤ 20\n",
    "        j=5\n",
    "    elseif 21 ≤ i ≤ 25\n",
    "        j=6\n",
    "    else\n",
    "        j=7\n",
    "    end\n",
    "        \n",
    "    conv[i]=conventional(j)\n",
    "    for inn in 1:nrow(innovations)\n",
    "        inn_co2[inn,i]=innovation(inn,j)\n",
    "    end\n",
    "end\n",
    "\n",
    "\n",
    "sNames = [\"conv\",\"inn1\",\"inn2\",\"inn3\",\"inn4\",\"inn5\",\"inn6\",\"inn7\",\"inn8\",\"inn9\",\"inn10\"]\n",
    "xLabels = []\n",
    "for i in 2020:2070\n",
    "    push!(xLabels,string(i))\n",
    "end\n",
    "\n",
    "df = DataFrame(year=xLabels, conv=conv, inn1=inn_co2[1,:],inn2=inn_co2[2,:],inn3=inn_co2[3,:],inn4=inn_co2[4,:],\n",
    "        inn5=inn_co2[5,:],inn6=inn_co2[6,:],inn7=inn_co2[7,:],inn8=inn_co2[8,:],inn9=inn_co2[9,:],inn10=inn_co2[10,:])\n",
    "df=df[1:36,:]\n",
    "df |> stack |> @vlplot(:area, x=:year, y={:value, stack=:zero, title=\"CO2\"}, color=\"variable:n\",legend=:sNames) "
   ]
  },
  {
   "cell_type": "code",
   "execution_count": 408,
   "id": "3645b8d1",
   "metadata": {},
   "outputs": [
    {
     "data": {
      "application/vnd.vegalite.v4+json": {
       "data": {
        "values": [
         {
          "value": 0.12,
          "variable": "conv",
          "year": "2020"
         },
         {
          "value": 0,
          "variable": "conv",
          "year": "2021"
         },
         {
          "value": 0,
          "variable": "conv",
          "year": "2022"
         },
         {
          "value": 0,
          "variable": "conv",
          "year": "2023"
         },
         {
          "value": 0,
          "variable": "conv",
          "year": "2024"
         },
         {
          "value": 1.3322676295501878e-17,
          "variable": "conv",
          "year": "2025"
         },
         {
          "value": 1.3322676295501878e-17,
          "variable": "conv",
          "year": "2026"
         },
         {
          "value": 1.3322676295501878e-17,
          "variable": "conv",
          "year": "2027"
         },
         {
          "value": 1.3322676295501878e-17,
          "variable": "conv",
          "year": "2028"
         },
         {
          "value": 1.3322676295501878e-17,
          "variable": "conv",
          "year": "2029"
         },
         {
          "value": 0,
          "variable": "conv",
          "year": "2030"
         },
         {
          "value": 0,
          "variable": "conv",
          "year": "2031"
         },
         {
          "value": 0,
          "variable": "conv",
          "year": "2032"
         },
         {
          "value": 0,
          "variable": "conv",
          "year": "2033"
         },
         {
          "value": 0,
          "variable": "conv",
          "year": "2034"
         },
         {
          "value": 0,
          "variable": "conv",
          "year": "2035"
         },
         {
          "value": 0,
          "variable": "conv",
          "year": "2036"
         },
         {
          "value": 0,
          "variable": "conv",
          "year": "2037"
         },
         {
          "value": 0,
          "variable": "conv",
          "year": "2038"
         },
         {
          "value": 0,
          "variable": "conv",
          "year": "2039"
         },
         {
          "value": 0,
          "variable": "conv",
          "year": "2040"
         },
         {
          "value": 0,
          "variable": "conv",
          "year": "2041"
         },
         {
          "value": 0,
          "variable": "conv",
          "year": "2042"
         },
         {
          "value": 0,
          "variable": "conv",
          "year": "2043"
         },
         {
          "value": 0,
          "variable": "conv",
          "year": "2044"
         },
         {
          "value": 0.0005510479000654067,
          "variable": "conv",
          "year": "2045"
         },
         {
          "value": 0.0005510479000654067,
          "variable": "conv",
          "year": "2046"
         },
         {
          "value": 0.0005510479000654067,
          "variable": "conv",
          "year": "2047"
         },
         {
          "value": 0.0005510479000654067,
          "variable": "conv",
          "year": "2048"
         },
         {
          "value": 0.0005510479000654067,
          "variable": "conv",
          "year": "2049"
         },
         {
          "value": 0.0005510479000654067,
          "variable": "conv",
          "year": "2050"
         },
         {
          "value": 0.0005510479000654067,
          "variable": "conv",
          "year": "2051"
         },
         {
          "value": 0.0005510479000654067,
          "variable": "conv",
          "year": "2052"
         },
         {
          "value": 0.0005510479000654067,
          "variable": "conv",
          "year": "2053"
         },
         {
          "value": 0.0005510479000654067,
          "variable": "conv",
          "year": "2054"
         },
         {
          "value": 0.0005510479000654067,
          "variable": "conv",
          "year": "2055"
         },
         {
          "value": 0,
          "variable": "inn1",
          "year": "2020"
         },
         {
          "value": 0,
          "variable": "inn1",
          "year": "2021"
         },
         {
          "value": 0,
          "variable": "inn1",
          "year": "2022"
         },
         {
          "value": 0,
          "variable": "inn1",
          "year": "2023"
         },
         {
          "value": 0,
          "variable": "inn1",
          "year": "2024"
         },
         {
          "value": 0,
          "variable": "inn1",
          "year": "2025"
         },
         {
          "value": 0,
          "variable": "inn1",
          "year": "2026"
         },
         {
          "value": 0,
          "variable": "inn1",
          "year": "2027"
         },
         {
          "value": 0,
          "variable": "inn1",
          "year": "2028"
         },
         {
          "value": 0,
          "variable": "inn1",
          "year": "2029"
         },
         {
          "value": 0,
          "variable": "inn1",
          "year": "2030"
         },
         {
          "value": 0,
          "variable": "inn1",
          "year": "2031"
         },
         {
          "value": 0,
          "variable": "inn1",
          "year": "2032"
         },
         {
          "value": 0,
          "variable": "inn1",
          "year": "2033"
         },
         {
          "value": 0,
          "variable": "inn1",
          "year": "2034"
         },
         {
          "value": 0,
          "variable": "inn1",
          "year": "2035"
         },
         {
          "value": 0,
          "variable": "inn1",
          "year": "2036"
         },
         {
          "value": 0,
          "variable": "inn1",
          "year": "2037"
         },
         {
          "value": 0,
          "variable": "inn1",
          "year": "2038"
         },
         {
          "value": 0,
          "variable": "inn1",
          "year": "2039"
         },
         {
          "value": 0,
          "variable": "inn1",
          "year": "2040"
         },
         {
          "value": 0,
          "variable": "inn1",
          "year": "2041"
         },
         {
          "value": 0,
          "variable": "inn1",
          "year": "2042"
         },
         {
          "value": 0,
          "variable": "inn1",
          "year": "2043"
         },
         {
          "value": 0,
          "variable": "inn1",
          "year": "2044"
         },
         {
          "value": 0,
          "variable": "inn1",
          "year": "2045"
         },
         {
          "value": 0,
          "variable": "inn1",
          "year": "2046"
         },
         {
          "value": 0,
          "variable": "inn1",
          "year": "2047"
         },
         {
          "value": 0,
          "variable": "inn1",
          "year": "2048"
         },
         {
          "value": 0,
          "variable": "inn1",
          "year": "2049"
         },
         {
          "value": 0,
          "variable": "inn1",
          "year": "2050"
         },
         {
          "value": 0,
          "variable": "inn1",
          "year": "2051"
         },
         {
          "value": 0,
          "variable": "inn1",
          "year": "2052"
         },
         {
          "value": 0,
          "variable": "inn1",
          "year": "2053"
         },
         {
          "value": 0,
          "variable": "inn1",
          "year": "2054"
         },
         {
          "value": 0,
          "variable": "inn1",
          "year": "2055"
         },
         {
          "value": 0,
          "variable": "inn2",
          "year": "2020"
         },
         {
          "value": 0,
          "variable": "inn2",
          "year": "2021"
         },
         {
          "value": 0,
          "variable": "inn2",
          "year": "2022"
         },
         {
          "value": 0,
          "variable": "inn2",
          "year": "2023"
         },
         {
          "value": 0,
          "variable": "inn2",
          "year": "2024"
         },
         {
          "value": 0,
          "variable": "inn2",
          "year": "2025"
         },
         {
          "value": 0,
          "variable": "inn2",
          "year": "2026"
         },
         {
          "value": 0,
          "variable": "inn2",
          "year": "2027"
         },
         {
          "value": 0,
          "variable": "inn2",
          "year": "2028"
         },
         {
          "value": 0,
          "variable": "inn2",
          "year": "2029"
         },
         {
          "value": 0,
          "variable": "inn2",
          "year": "2030"
         },
         {
          "value": 0,
          "variable": "inn2",
          "year": "2031"
         },
         {
          "value": 0,
          "variable": "inn2",
          "year": "2032"
         },
         {
          "value": 0,
          "variable": "inn2",
          "year": "2033"
         },
         {
          "value": 0,
          "variable": "inn2",
          "year": "2034"
         },
         {
          "value": 0,
          "variable": "inn2",
          "year": "2035"
         },
         {
          "value": 0,
          "variable": "inn2",
          "year": "2036"
         },
         {
          "value": 0,
          "variable": "inn2",
          "year": "2037"
         },
         {
          "value": 0,
          "variable": "inn2",
          "year": "2038"
         },
         {
          "value": 0,
          "variable": "inn2",
          "year": "2039"
         },
         {
          "value": 0,
          "variable": "inn2",
          "year": "2040"
         },
         {
          "value": 0,
          "variable": "inn2",
          "year": "2041"
         },
         {
          "value": 0,
          "variable": "inn2",
          "year": "2042"
         },
         {
          "value": 0,
          "variable": "inn2",
          "year": "2043"
         },
         {
          "value": 0,
          "variable": "inn2",
          "year": "2044"
         },
         {
          "value": 0,
          "variable": "inn2",
          "year": "2045"
         },
         {
          "value": 0,
          "variable": "inn2",
          "year": "2046"
         },
         {
          "value": 0,
          "variable": "inn2",
          "year": "2047"
         },
         {
          "value": 0,
          "variable": "inn2",
          "year": "2048"
         },
         {
          "value": 0,
          "variable": "inn2",
          "year": "2049"
         },
         {
          "value": 0,
          "variable": "inn2",
          "year": "2050"
         },
         {
          "value": 0,
          "variable": "inn2",
          "year": "2051"
         },
         {
          "value": 0,
          "variable": "inn2",
          "year": "2052"
         },
         {
          "value": 0,
          "variable": "inn2",
          "year": "2053"
         },
         {
          "value": 0,
          "variable": "inn2",
          "year": "2054"
         },
         {
          "value": 0,
          "variable": "inn2",
          "year": "2055"
         },
         {
          "value": 0,
          "variable": "inn3",
          "year": "2020"
         },
         {
          "value": 0,
          "variable": "inn3",
          "year": "2021"
         },
         {
          "value": 0,
          "variable": "inn3",
          "year": "2022"
         },
         {
          "value": 0,
          "variable": "inn3",
          "year": "2023"
         },
         {
          "value": 0,
          "variable": "inn3",
          "year": "2024"
         },
         {
          "value": 0,
          "variable": "inn3",
          "year": "2025"
         },
         {
          "value": 0,
          "variable": "inn3",
          "year": "2026"
         },
         {
          "value": 0,
          "variable": "inn3",
          "year": "2027"
         },
         {
          "value": 0,
          "variable": "inn3",
          "year": "2028"
         },
         {
          "value": 0,
          "variable": "inn3",
          "year": "2029"
         },
         {
          "value": 0,
          "variable": "inn3",
          "year": "2030"
         },
         {
          "value": 0,
          "variable": "inn3",
          "year": "2031"
         },
         {
          "value": 0,
          "variable": "inn3",
          "year": "2032"
         },
         {
          "value": 0,
          "variable": "inn3",
          "year": "2033"
         },
         {
          "value": 0,
          "variable": "inn3",
          "year": "2034"
         },
         {
          "value": 0,
          "variable": "inn3",
          "year": "2035"
         },
         {
          "value": 0,
          "variable": "inn3",
          "year": "2036"
         },
         {
          "value": 0,
          "variable": "inn3",
          "year": "2037"
         },
         {
          "value": 0,
          "variable": "inn3",
          "year": "2038"
         },
         {
          "value": 0,
          "variable": "inn3",
          "year": "2039"
         },
         {
          "value": 0,
          "variable": "inn3",
          "year": "2040"
         },
         {
          "value": 0,
          "variable": "inn3",
          "year": "2041"
         },
         {
          "value": 0,
          "variable": "inn3",
          "year": "2042"
         },
         {
          "value": 0,
          "variable": "inn3",
          "year": "2043"
         },
         {
          "value": 0,
          "variable": "inn3",
          "year": "2044"
         },
         {
          "value": 0,
          "variable": "inn3",
          "year": "2045"
         },
         {
          "value": 0,
          "variable": "inn3",
          "year": "2046"
         },
         {
          "value": 0,
          "variable": "inn3",
          "year": "2047"
         },
         {
          "value": 0,
          "variable": "inn3",
          "year": "2048"
         },
         {
          "value": 0,
          "variable": "inn3",
          "year": "2049"
         },
         {
          "value": 0,
          "variable": "inn3",
          "year": "2050"
         },
         {
          "value": 0,
          "variable": "inn3",
          "year": "2051"
         },
         {
          "value": 0,
          "variable": "inn3",
          "year": "2052"
         },
         {
          "value": 0,
          "variable": "inn3",
          "year": "2053"
         },
         {
          "value": 0,
          "variable": "inn3",
          "year": "2054"
         },
         {
          "value": 0,
          "variable": "inn3",
          "year": "2055"
         },
         {
          "value": 0,
          "variable": "inn4",
          "year": "2020"
         },
         {
          "value": 0,
          "variable": "inn4",
          "year": "2021"
         },
         {
          "value": 0,
          "variable": "inn4",
          "year": "2022"
         },
         {
          "value": 0,
          "variable": "inn4",
          "year": "2023"
         },
         {
          "value": 0,
          "variable": "inn4",
          "year": "2024"
         },
         {
          "value": 0,
          "variable": "inn4",
          "year": "2025"
         },
         {
          "value": 0,
          "variable": "inn4",
          "year": "2026"
         },
         {
          "value": 0,
          "variable": "inn4",
          "year": "2027"
         },
         {
          "value": 0,
          "variable": "inn4",
          "year": "2028"
         },
         {
          "value": 0,
          "variable": "inn4",
          "year": "2029"
         },
         {
          "value": 0,
          "variable": "inn4",
          "year": "2030"
         },
         {
          "value": 0,
          "variable": "inn4",
          "year": "2031"
         },
         {
          "value": 0,
          "variable": "inn4",
          "year": "2032"
         },
         {
          "value": 0,
          "variable": "inn4",
          "year": "2033"
         },
         {
          "value": 0,
          "variable": "inn4",
          "year": "2034"
         },
         {
          "value": 0,
          "variable": "inn4",
          "year": "2035"
         },
         {
          "value": 0,
          "variable": "inn4",
          "year": "2036"
         },
         {
          "value": 0,
          "variable": "inn4",
          "year": "2037"
         },
         {
          "value": 0,
          "variable": "inn4",
          "year": "2038"
         },
         {
          "value": 0,
          "variable": "inn4",
          "year": "2039"
         },
         {
          "value": 0,
          "variable": "inn4",
          "year": "2040"
         },
         {
          "value": 0,
          "variable": "inn4",
          "year": "2041"
         },
         {
          "value": 0,
          "variable": "inn4",
          "year": "2042"
         },
         {
          "value": 0,
          "variable": "inn4",
          "year": "2043"
         },
         {
          "value": 0,
          "variable": "inn4",
          "year": "2044"
         },
         {
          "value": 0,
          "variable": "inn4",
          "year": "2045"
         },
         {
          "value": 0,
          "variable": "inn4",
          "year": "2046"
         },
         {
          "value": 0,
          "variable": "inn4",
          "year": "2047"
         },
         {
          "value": 0,
          "variable": "inn4",
          "year": "2048"
         },
         {
          "value": 0,
          "variable": "inn4",
          "year": "2049"
         },
         {
          "value": 0,
          "variable": "inn4",
          "year": "2050"
         },
         {
          "value": 0,
          "variable": "inn4",
          "year": "2051"
         },
         {
          "value": 0,
          "variable": "inn4",
          "year": "2052"
         },
         {
          "value": 0,
          "variable": "inn4",
          "year": "2053"
         },
         {
          "value": 0,
          "variable": "inn4",
          "year": "2054"
         },
         {
          "value": 0,
          "variable": "inn4",
          "year": "2055"
         },
         {
          "value": 0,
          "variable": "inn5",
          "year": "2020"
         },
         {
          "value": 0,
          "variable": "inn5",
          "year": "2021"
         },
         {
          "value": 0,
          "variable": "inn5",
          "year": "2022"
         },
         {
          "value": 0,
          "variable": "inn5",
          "year": "2023"
         },
         {
          "value": 0,
          "variable": "inn5",
          "year": "2024"
         },
         {
          "value": 0.6285924166,
          "variable": "inn5",
          "year": "2025"
         },
         {
          "value": 0.6285924166,
          "variable": "inn5",
          "year": "2026"
         },
         {
          "value": 0.6285924166,
          "variable": "inn5",
          "year": "2027"
         },
         {
          "value": 0.6285924166,
          "variable": "inn5",
          "year": "2028"
         },
         {
          "value": 0.6285924166,
          "variable": "inn5",
          "year": "2029"
         },
         {
          "value": 0.2388513468812012,
          "variable": "inn5",
          "year": "2030"
         },
         {
          "value": 0.2388513468812012,
          "variable": "inn5",
          "year": "2031"
         },
         {
          "value": 0.2388513468812012,
          "variable": "inn5",
          "year": "2032"
         },
         {
          "value": 0.2388513468812012,
          "variable": "inn5",
          "year": "2033"
         },
         {
          "value": 0.2388513468812012,
          "variable": "inn5",
          "year": "2034"
         },
         {
          "value": 0.2388513468812012,
          "variable": "inn5",
          "year": "2035"
         },
         {
          "value": 0.2388513468812012,
          "variable": "inn5",
          "year": "2036"
         },
         {
          "value": 0.2388513468812012,
          "variable": "inn5",
          "year": "2037"
         },
         {
          "value": 0.2388513468812012,
          "variable": "inn5",
          "year": "2038"
         },
         {
          "value": 0.2388513468812012,
          "variable": "inn5",
          "year": "2039"
         },
         {
          "value": 0,
          "variable": "inn5",
          "year": "2040"
         },
         {
          "value": 0,
          "variable": "inn5",
          "year": "2041"
         },
         {
          "value": 0,
          "variable": "inn5",
          "year": "2042"
         },
         {
          "value": 0,
          "variable": "inn5",
          "year": "2043"
         },
         {
          "value": 0,
          "variable": "inn5",
          "year": "2044"
         },
         {
          "value": 0.23415651099005397,
          "variable": "inn5",
          "year": "2045"
         },
         {
          "value": 0.23415651099005397,
          "variable": "inn5",
          "year": "2046"
         },
         {
          "value": 0.23415651099005397,
          "variable": "inn5",
          "year": "2047"
         },
         {
          "value": 0.23415651099005397,
          "variable": "inn5",
          "year": "2048"
         },
         {
          "value": 0.23415651099005397,
          "variable": "inn5",
          "year": "2049"
         },
         {
          "value": 0.23415651099005397,
          "variable": "inn5",
          "year": "2050"
         },
         {
          "value": 0.23415651099005397,
          "variable": "inn5",
          "year": "2051"
         },
         {
          "value": 0.23415651099005397,
          "variable": "inn5",
          "year": "2052"
         },
         {
          "value": 0.23415651099005397,
          "variable": "inn5",
          "year": "2053"
         },
         {
          "value": 0.23415651099005397,
          "variable": "inn5",
          "year": "2054"
         },
         {
          "value": 0.23415651099005397,
          "variable": "inn5",
          "year": "2055"
         },
         {
          "value": 0,
          "variable": "inn6",
          "year": "2020"
         },
         {
          "value": 0,
          "variable": "inn6",
          "year": "2021"
         },
         {
          "value": 0,
          "variable": "inn6",
          "year": "2022"
         },
         {
          "value": 0,
          "variable": "inn6",
          "year": "2023"
         },
         {
          "value": 0,
          "variable": "inn6",
          "year": "2024"
         },
         {
          "value": 0,
          "variable": "inn6",
          "year": "2025"
         },
         {
          "value": 0,
          "variable": "inn6",
          "year": "2026"
         },
         {
          "value": 0,
          "variable": "inn6",
          "year": "2027"
         },
         {
          "value": 0,
          "variable": "inn6",
          "year": "2028"
         },
         {
          "value": 0,
          "variable": "inn6",
          "year": "2029"
         },
         {
          "value": 0,
          "variable": "inn6",
          "year": "2030"
         },
         {
          "value": 0,
          "variable": "inn6",
          "year": "2031"
         },
         {
          "value": 0,
          "variable": "inn6",
          "year": "2032"
         },
         {
          "value": 0,
          "variable": "inn6",
          "year": "2033"
         },
         {
          "value": 0,
          "variable": "inn6",
          "year": "2034"
         },
         {
          "value": 0,
          "variable": "inn6",
          "year": "2035"
         },
         {
          "value": 0,
          "variable": "inn6",
          "year": "2036"
         },
         {
          "value": 0,
          "variable": "inn6",
          "year": "2037"
         },
         {
          "value": 0,
          "variable": "inn6",
          "year": "2038"
         },
         {
          "value": 0,
          "variable": "inn6",
          "year": "2039"
         },
         {
          "value": 0,
          "variable": "inn6",
          "year": "2040"
         },
         {
          "value": 0,
          "variable": "inn6",
          "year": "2041"
         },
         {
          "value": 0,
          "variable": "inn6",
          "year": "2042"
         },
         {
          "value": 0,
          "variable": "inn6",
          "year": "2043"
         },
         {
          "value": 0,
          "variable": "inn6",
          "year": "2044"
         },
         {
          "value": 0,
          "variable": "inn6",
          "year": "2045"
         },
         {
          "value": 0,
          "variable": "inn6",
          "year": "2046"
         },
         {
          "value": 0,
          "variable": "inn6",
          "year": "2047"
         },
         {
          "value": 0,
          "variable": "inn6",
          "year": "2048"
         },
         {
          "value": 0,
          "variable": "inn6",
          "year": "2049"
         },
         {
          "value": 0,
          "variable": "inn6",
          "year": "2050"
         },
         {
          "value": 0,
          "variable": "inn6",
          "year": "2051"
         },
         {
          "value": 0,
          "variable": "inn6",
          "year": "2052"
         },
         {
          "value": 0,
          "variable": "inn6",
          "year": "2053"
         },
         {
          "value": 0,
          "variable": "inn6",
          "year": "2054"
         },
         {
          "value": 0,
          "variable": "inn6",
          "year": "2055"
         },
         {
          "value": 0,
          "variable": "inn7",
          "year": "2020"
         },
         {
          "value": 0,
          "variable": "inn7",
          "year": "2021"
         },
         {
          "value": 0,
          "variable": "inn7",
          "year": "2022"
         },
         {
          "value": 0,
          "variable": "inn7",
          "year": "2023"
         },
         {
          "value": 0,
          "variable": "inn7",
          "year": "2024"
         },
         {
          "value": 0,
          "variable": "inn7",
          "year": "2025"
         },
         {
          "value": 0,
          "variable": "inn7",
          "year": "2026"
         },
         {
          "value": 0,
          "variable": "inn7",
          "year": "2027"
         },
         {
          "value": 0,
          "variable": "inn7",
          "year": "2028"
         },
         {
          "value": 0,
          "variable": "inn7",
          "year": "2029"
         },
         {
          "value": 0,
          "variable": "inn7",
          "year": "2030"
         },
         {
          "value": 0,
          "variable": "inn7",
          "year": "2031"
         },
         {
          "value": 0,
          "variable": "inn7",
          "year": "2032"
         },
         {
          "value": 0,
          "variable": "inn7",
          "year": "2033"
         },
         {
          "value": 0,
          "variable": "inn7",
          "year": "2034"
         },
         {
          "value": 0,
          "variable": "inn7",
          "year": "2035"
         },
         {
          "value": 0,
          "variable": "inn7",
          "year": "2036"
         },
         {
          "value": 0,
          "variable": "inn7",
          "year": "2037"
         },
         {
          "value": 0,
          "variable": "inn7",
          "year": "2038"
         },
         {
          "value": 0,
          "variable": "inn7",
          "year": "2039"
         },
         {
          "value": 0,
          "variable": "inn7",
          "year": "2040"
         },
         {
          "value": 0,
          "variable": "inn7",
          "year": "2041"
         },
         {
          "value": 0,
          "variable": "inn7",
          "year": "2042"
         },
         {
          "value": 0,
          "variable": "inn7",
          "year": "2043"
         },
         {
          "value": 0,
          "variable": "inn7",
          "year": "2044"
         },
         {
          "value": 0,
          "variable": "inn7",
          "year": "2045"
         },
         {
          "value": 0,
          "variable": "inn7",
          "year": "2046"
         },
         {
          "value": 0,
          "variable": "inn7",
          "year": "2047"
         },
         {
          "value": 0,
          "variable": "inn7",
          "year": "2048"
         },
         {
          "value": 0,
          "variable": "inn7",
          "year": "2049"
         },
         {
          "value": 0,
          "variable": "inn7",
          "year": "2050"
         },
         {
          "value": 0,
          "variable": "inn7",
          "year": "2051"
         },
         {
          "value": 0,
          "variable": "inn7",
          "year": "2052"
         },
         {
          "value": 0,
          "variable": "inn7",
          "year": "2053"
         },
         {
          "value": 0,
          "variable": "inn7",
          "year": "2054"
         },
         {
          "value": 0,
          "variable": "inn7",
          "year": "2055"
         },
         {
          "value": 0,
          "variable": "inn8",
          "year": "2020"
         },
         {
          "value": 0,
          "variable": "inn8",
          "year": "2021"
         },
         {
          "value": 0,
          "variable": "inn8",
          "year": "2022"
         },
         {
          "value": 0,
          "variable": "inn8",
          "year": "2023"
         },
         {
          "value": 0,
          "variable": "inn8",
          "year": "2024"
         },
         {
          "value": 0,
          "variable": "inn8",
          "year": "2025"
         },
         {
          "value": 0,
          "variable": "inn8",
          "year": "2026"
         },
         {
          "value": 0,
          "variable": "inn8",
          "year": "2027"
         },
         {
          "value": 0,
          "variable": "inn8",
          "year": "2028"
         },
         {
          "value": 0,
          "variable": "inn8",
          "year": "2029"
         },
         {
          "value": 0,
          "variable": "inn8",
          "year": "2030"
         },
         {
          "value": 0,
          "variable": "inn8",
          "year": "2031"
         },
         {
          "value": 0,
          "variable": "inn8",
          "year": "2032"
         },
         {
          "value": 0,
          "variable": "inn8",
          "year": "2033"
         },
         {
          "value": 0,
          "variable": "inn8",
          "year": "2034"
         },
         {
          "value": 0,
          "variable": "inn8",
          "year": "2035"
         },
         {
          "value": 0,
          "variable": "inn8",
          "year": "2036"
         },
         {
          "value": 0,
          "variable": "inn8",
          "year": "2037"
         },
         {
          "value": 0,
          "variable": "inn8",
          "year": "2038"
         },
         {
          "value": 0,
          "variable": "inn8",
          "year": "2039"
         },
         {
          "value": 0,
          "variable": "inn8",
          "year": "2040"
         },
         {
          "value": 0,
          "variable": "inn8",
          "year": "2041"
         },
         {
          "value": 0,
          "variable": "inn8",
          "year": "2042"
         },
         {
          "value": 0,
          "variable": "inn8",
          "year": "2043"
         },
         {
          "value": 0,
          "variable": "inn8",
          "year": "2044"
         },
         {
          "value": 0,
          "variable": "inn8",
          "year": "2045"
         },
         {
          "value": 0,
          "variable": "inn8",
          "year": "2046"
         },
         {
          "value": 0,
          "variable": "inn8",
          "year": "2047"
         },
         {
          "value": 0,
          "variable": "inn8",
          "year": "2048"
         },
         {
          "value": 0,
          "variable": "inn8",
          "year": "2049"
         },
         {
          "value": 0,
          "variable": "inn8",
          "year": "2050"
         },
         {
          "value": 0,
          "variable": "inn8",
          "year": "2051"
         },
         {
          "value": 0,
          "variable": "inn8",
          "year": "2052"
         },
         {
          "value": 0,
          "variable": "inn8",
          "year": "2053"
         },
         {
          "value": 0,
          "variable": "inn8",
          "year": "2054"
         },
         {
          "value": 0,
          "variable": "inn8",
          "year": "2055"
         },
         {
          "value": 0,
          "variable": "inn9",
          "year": "2020"
         },
         {
          "value": 0,
          "variable": "inn9",
          "year": "2021"
         },
         {
          "value": 0,
          "variable": "inn9",
          "year": "2022"
         },
         {
          "value": 0,
          "variable": "inn9",
          "year": "2023"
         },
         {
          "value": 0,
          "variable": "inn9",
          "year": "2024"
         },
         {
          "value": 0,
          "variable": "inn9",
          "year": "2025"
         },
         {
          "value": 0,
          "variable": "inn9",
          "year": "2026"
         },
         {
          "value": 0,
          "variable": "inn9",
          "year": "2027"
         },
         {
          "value": 0,
          "variable": "inn9",
          "year": "2028"
         },
         {
          "value": 0,
          "variable": "inn9",
          "year": "2029"
         },
         {
          "value": 0,
          "variable": "inn9",
          "year": "2030"
         },
         {
          "value": 0,
          "variable": "inn9",
          "year": "2031"
         },
         {
          "value": 0,
          "variable": "inn9",
          "year": "2032"
         },
         {
          "value": 0,
          "variable": "inn9",
          "year": "2033"
         },
         {
          "value": 0,
          "variable": "inn9",
          "year": "2034"
         },
         {
          "value": 0,
          "variable": "inn9",
          "year": "2035"
         },
         {
          "value": 0,
          "variable": "inn9",
          "year": "2036"
         },
         {
          "value": 0,
          "variable": "inn9",
          "year": "2037"
         },
         {
          "value": 0,
          "variable": "inn9",
          "year": "2038"
         },
         {
          "value": 0,
          "variable": "inn9",
          "year": "2039"
         },
         {
          "value": 0,
          "variable": "inn9",
          "year": "2040"
         },
         {
          "value": 0,
          "variable": "inn9",
          "year": "2041"
         },
         {
          "value": 0,
          "variable": "inn9",
          "year": "2042"
         },
         {
          "value": 0,
          "variable": "inn9",
          "year": "2043"
         },
         {
          "value": 0,
          "variable": "inn9",
          "year": "2044"
         },
         {
          "value": 0,
          "variable": "inn9",
          "year": "2045"
         },
         {
          "value": 0,
          "variable": "inn9",
          "year": "2046"
         },
         {
          "value": 0,
          "variable": "inn9",
          "year": "2047"
         },
         {
          "value": 0,
          "variable": "inn9",
          "year": "2048"
         },
         {
          "value": 0,
          "variable": "inn9",
          "year": "2049"
         },
         {
          "value": 0,
          "variable": "inn9",
          "year": "2050"
         },
         {
          "value": 0,
          "variable": "inn9",
          "year": "2051"
         },
         {
          "value": 0,
          "variable": "inn9",
          "year": "2052"
         },
         {
          "value": 0,
          "variable": "inn9",
          "year": "2053"
         },
         {
          "value": 0,
          "variable": "inn9",
          "year": "2054"
         },
         {
          "value": 0,
          "variable": "inn9",
          "year": "2055"
         },
         {
          "value": 0,
          "variable": "inn10",
          "year": "2020"
         },
         {
          "value": 0,
          "variable": "inn10",
          "year": "2021"
         },
         {
          "value": 0,
          "variable": "inn10",
          "year": "2022"
         },
         {
          "value": 0,
          "variable": "inn10",
          "year": "2023"
         },
         {
          "value": 0,
          "variable": "inn10",
          "year": "2024"
         },
         {
          "value": 0,
          "variable": "inn10",
          "year": "2025"
         },
         {
          "value": 0,
          "variable": "inn10",
          "year": "2026"
         },
         {
          "value": 0,
          "variable": "inn10",
          "year": "2027"
         },
         {
          "value": 0,
          "variable": "inn10",
          "year": "2028"
         },
         {
          "value": 0,
          "variable": "inn10",
          "year": "2029"
         },
         {
          "value": 0.5137619584337989,
          "variable": "inn10",
          "year": "2030"
         },
         {
          "value": 0.5137619584337989,
          "variable": "inn10",
          "year": "2031"
         },
         {
          "value": 0.5137619584337989,
          "variable": "inn10",
          "year": "2032"
         },
         {
          "value": 0.5137619584337989,
          "variable": "inn10",
          "year": "2033"
         },
         {
          "value": 0.5137619584337989,
          "variable": "inn10",
          "year": "2034"
         },
         {
          "value": 0.5137619584337989,
          "variable": "inn10",
          "year": "2035"
         },
         {
          "value": 0.5137619584337989,
          "variable": "inn10",
          "year": "2036"
         },
         {
          "value": 0.5137619584337989,
          "variable": "inn10",
          "year": "2037"
         },
         {
          "value": 0.5137619584337989,
          "variable": "inn10",
          "year": "2038"
         },
         {
          "value": 0.5137619584337989,
          "variable": "inn10",
          "year": "2039"
         },
         {
          "value": 0.803983138,
          "variable": "inn10",
          "year": "2040"
         },
         {
          "value": 0.803983138,
          "variable": "inn10",
          "year": "2041"
         },
         {
          "value": 0.803983138,
          "variable": "inn10",
          "year": "2042"
         },
         {
          "value": 0.803983138,
          "variable": "inn10",
          "year": "2043"
         },
         {
          "value": 0.803983138,
          "variable": "inn10",
          "year": "2044"
         },
         {
          "value": 0.5152924411098805,
          "variable": "inn10",
          "year": "2045"
         },
         {
          "value": 0.5152924411098805,
          "variable": "inn10",
          "year": "2046"
         },
         {
          "value": 0.5152924411098805,
          "variable": "inn10",
          "year": "2047"
         },
         {
          "value": 0.5152924411098805,
          "variable": "inn10",
          "year": "2048"
         },
         {
          "value": 0.5152924411098805,
          "variable": "inn10",
          "year": "2049"
         },
         {
          "value": 0.5152924411098805,
          "variable": "inn10",
          "year": "2050"
         },
         {
          "value": 0.5152924411098805,
          "variable": "inn10",
          "year": "2051"
         },
         {
          "value": 0.5152924411098805,
          "variable": "inn10",
          "year": "2052"
         },
         {
          "value": 0.5152924411098805,
          "variable": "inn10",
          "year": "2053"
         },
         {
          "value": 0.5152924411098805,
          "variable": "inn10",
          "year": "2054"
         },
         {
          "value": 0.5152924411098805,
          "variable": "inn10",
          "year": "2055"
         }
        ]
       },
       "encoding": {
        "color": {
         "field": "variable",
         "type": "nominal"
        },
        "x": {
         "field": "year"
        },
        "y": {
         "field": "value",
         "stack": "zero",
         "title": "recycled/renewable content",
         "type": "quantitative"
        }
       },
       "legend": "sNames",
       "mark": "area"
      },
      "image/png": "[encoded data removed]",
      "image/svg+xml": [
       "<?xml version=\"1.0\" encoding=\"utf-8\"?>\n",
       "<!DOCTYPE svg PUBLIC \"-//W3C//DTD SVG 1.1//EN\" \"http://www.w3.org/Graphics/SVG/1.1/DTD/svg11.dtd\">\n",
       "<svg xmlns=\"http://www.w3.org/2000/svg\" xmlns:xlink=\"http://www.w3.org/1999/xlink\" version=\"1.1\" class=\"marks\" width=\"834\" height=\"256\" viewBox=\"0 0 834 256\"><rect width=\"834\" height=\"256\" fill=\"white\"/><g fill=\"none\" stroke-miterlimit=\"10\" transform=\"translate(42,5)\"><g class=\"mark-group role-frame root\" role=\"graphics-object\" aria-roledescription=\"group mark container\"><g transform=\"translate(0,0)\"><path class=\"background\" aria-hidden=\"true\" d=\"M0.5,0.5h720v200h-720Z\" stroke=\"#ddd\"/><g><g class=\"mark-group role-axis\" aria-hidden=\"true\"><g transform=\"translate(0.5,0.5)\"><path class=\"background\" aria-hidden=\"true\" d=\"M0,0h0v0h0Z\" pointer-events=\"none\"/><g><g class=\"mark-rule role-axis-grid\" pointer-events=\"none\"><line transform=\"translate(0,200)\" x2=\"720\" y2=\"0\" stroke=\"#ddd\" stroke-width=\"1\" opacity=\"1\"/><line transform=\"translate(0,156)\" x2=\"720\" y2=\"0\" stroke=\"#ddd\" stroke-width=\"1\" opacity=\"1\"/><line transform=\"translate(0,111)\" x2=\"720\" y2=\"0\" stroke=\"#ddd\" stroke-width=\"1\" opacity=\"1\"/><line transform=\"translate(0,67)\" x2=\"720\" y2=\"0\" stroke=\"#ddd\" stroke-width=\"1\" opacity=\"1\"/><line transform=\"translate(0,22)\" x2=\"720\" y2=\"0\" stroke=\"#ddd\" stroke-width=\"1\" opacity=\"1\"/></g></g><path class=\"foreground\" aria-hidden=\"true\" d=\"\" pointer-events=\"none\" display=\"none\"/></g></g><g class=\"mark-group role-axis\" role=\"graphics-symbol\" aria-roledescription=\"axis\" aria-label=\"X-axis titled 'year' for a discrete scale with 36 values: 2020, 2021, 2022, 2023, 2024, ending with 2055\"><g transform=\"translate(0.5,200.5)\"><path class=\"background\" aria-hidden=\"true\" d=\"M0,0h0v0h0Z\" pointer-events=\"none\"/><g><g class=\"mark-rule role-axis-tick\" pointer-events=\"none\"><line transform=\"translate(10,0)\" x2=\"0\" y2=\"5\" stroke=\"#888\" stroke-width=\"1\" opacity=\"1\"/><line transform=\"translate(30,0)\" x2=\"0\" y2=\"5\" stroke=\"#888\" stroke-width=\"1\" opacity=\"1\"/><line transform=\"translate(50,0)\" x2=\"0\" y2=\"5\" stroke=\"#888\" stroke-width=\"1\" opacity=\"1\"/><line transform=\"translate(70,0)\" x2=\"0\" y2=\"5\" stroke=\"#888\" stroke-width=\"1\" opacity=\"1\"/><line transform=\"translate(90,0)\" x2=\"0\" y2=\"5\" stroke=\"#888\" stroke-width=\"1\" opacity=\"1\"/><line transform=\"translate(110,0)\" x2=\"0\" y2=\"5\" stroke=\"#888\" stroke-width=\"1\" opacity=\"1\"/><line transform=\"translate(130,0)\" x2=\"0\" y2=\"5\" stroke=\"#888\" stroke-width=\"1\" opacity=\"1\"/><line transform=\"translate(150,0)\" x2=\"0\" y2=\"5\" stroke=\"#888\" stroke-width=\"1\" opacity=\"1\"/><line transform=\"translate(170,0)\" x2=\"0\" y2=\"5\" stroke=\"#888\" stroke-width=\"1\" opacity=\"1\"/><line transform=\"translate(190,0)\" x2=\"0\" y2=\"5\" stroke=\"#888\" stroke-width=\"1\" opacity=\"1\"/><line transform=\"translate(210,0)\" x2=\"0\" y2=\"5\" stroke=\"#888\" stroke-width=\"1\" opacity=\"1\"/><line transform=\"translate(230,0)\" x2=\"0\" y2=\"5\" stroke=\"#888\" stroke-width=\"1\" opacity=\"1\"/><line transform=\"translate(250,0)\" x2=\"0\" y2=\"5\" stroke=\"#888\" stroke-width=\"1\" opacity=\"1\"/><line transform=\"translate(270,0)\" x2=\"0\" y2=\"5\" stroke=\"#888\" stroke-width=\"1\" opacity=\"1\"/><line transform=\"translate(290,0)\" x2=\"0\" y2=\"5\" stroke=\"#888\" stroke-width=\"1\" opacity=\"1\"/><line transform=\"translate(310,0)\" x2=\"0\" y2=\"5\" stroke=\"#888\" stroke-width=\"1\" opacity=\"1\"/><line transform=\"translate(330,0)\" x2=\"0\" y2=\"5\" stroke=\"#888\" stroke-width=\"1\" opacity=\"1\"/><line transform=\"translate(350,0)\" x2=\"0\" y2=\"5\" stroke=\"#888\" stroke-width=\"1\" opacity=\"1\"/><line transform=\"translate(370,0)\" x2=\"0\" y2=\"5\" stroke=\"#888\" stroke-width=\"1\" opacity=\"1\"/><line transform=\"translate(390,0)\" x2=\"0\" y2=\"5\" stroke=\"#888\" stroke-width=\"1\" opacity=\"1\"/><line transform=\"translate(410,0)\" x2=\"0\" y2=\"5\" stroke=\"#888\" stroke-width=\"1\" opacity=\"1\"/><line transform=\"translate(430,0)\" x2=\"0\" y2=\"5\" stroke=\"#888\" stroke-width=\"1\" opacity=\"1\"/><line transform=\"translate(450,0)\" x2=\"0\" y2=\"5\" stroke=\"#888\" stroke-width=\"1\" opacity=\"1\"/><line transform=\"translate(470,0)\" x2=\"0\" y2=\"5\" stroke=\"#888\" stroke-width=\"1\" opacity=\"1\"/><line transform=\"translate(490,0)\" x2=\"0\" y2=\"5\" stroke=\"#888\" stroke-width=\"1\" opacity=\"1\"/><line transform=\"translate(510,0)\" x2=\"0\" y2=\"5\" stroke=\"#888\" stroke-width=\"1\" opacity=\"1\"/><line transform=\"translate(530,0)\" x2=\"0\" y2=\"5\" stroke=\"#888\" stroke-width=\"1\" opacity=\"1\"/><line transform=\"translate(550,0)\" x2=\"0\" y2=\"5\" stroke=\"#888\" stroke-width=\"1\" opacity=\"1\"/><line transform=\"translate(570,0)\" x2=\"0\" y2=\"5\" stroke=\"#888\" stroke-width=\"1\" opacity=\"1\"/><line transform=\"translate(590,0)\" x2=\"0\" y2=\"5\" stroke=\"#888\" stroke-width=\"1\" opacity=\"1\"/><line transform=\"translate(610,0)\" x2=\"0\" y2=\"5\" stroke=\"#888\" stroke-width=\"1\" opacity=\"1\"/><line transform=\"translate(630,0)\" x2=\"0\" y2=\"5\" stroke=\"#888\" stroke-width=\"1\" opacity=\"1\"/><line transform=\"translate(650,0)\" x2=\"0\" y2=\"5\" stroke=\"#888\" stroke-width=\"1\" opacity=\"1\"/><line transform=\"translate(670,0)\" x2=\"0\" y2=\"5\" stroke=\"#888\" stroke-width=\"1\" opacity=\"1\"/><line transform=\"translate(690,0)\" x2=\"0\" y2=\"5\" stroke=\"#888\" stroke-width=\"1\" opacity=\"1\"/><line transform=\"translate(710,0)\" x2=\"0\" y2=\"5\" stroke=\"#888\" stroke-width=\"1\" opacity=\"1\"/></g><g class=\"mark-text role-axis-label\" pointer-events=\"none\"><text text-anchor=\"end\" transform=\"translate(10,7) rotate(270) translate(0,3)\" font-family=\"sans-serif\" font-size=\"10px\" fill=\"#000\" opacity=\"1\">2020</text><text text-anchor=\"end\" transform=\"translate(30,7) rotate(270) translate(0,3)\" font-family=\"sans-serif\" font-size=\"10px\" fill=\"#000\" opacity=\"1\">2021</text><text text-anchor=\"end\" transform=\"translate(50,7) rotate(270) translate(0,3)\" font-family=\"sans-serif\" font-size=\"10px\" fill=\"#000\" opacity=\"1\">2022</text><text text-anchor=\"end\" transform=\"translate(70,7) rotate(270) translate(0,3)\" font-family=\"sans-serif\" font-size=\"10px\" fill=\"#000\" opacity=\"1\">2023</text><text text-anchor=\"end\" transform=\"translate(90,7) rotate(270) translate(0,3)\" font-family=\"sans-serif\" font-size=\"10px\" fill=\"#000\" opacity=\"1\">2024</text><text text-anchor=\"end\" transform=\"translate(110,7) rotate(270) translate(0,3)\" font-family=\"sans-serif\" font-size=\"10px\" fill=\"#000\" opacity=\"1\">2025</text><text text-anchor=\"end\" transform=\"translate(130,7) rotate(270) translate(0,3)\" font-family=\"sans-serif\" font-size=\"10px\" fill=\"#000\" opacity=\"1\">2026</text><text text-anchor=\"end\" transform=\"translate(150,7) rotate(270) translate(0,3)\" font-family=\"sans-serif\" font-size=\"10px\" fill=\"#000\" opacity=\"1\">2027</text><text text-anchor=\"end\" transform=\"translate(170,7) rotate(270) translate(0,3)\" font-family=\"sans-serif\" font-size=\"10px\" fill=\"#000\" opacity=\"1\">2028</text><text text-anchor=\"end\" transform=\"translate(190,7) rotate(270) translate(0,3)\" font-family=\"sans-serif\" font-size=\"10px\" fill=\"#000\" opacity=\"1\">2029</text><text text-anchor=\"end\" transform=\"translate(210,7) rotate(270) translate(0,3)\" font-family=\"sans-serif\" font-size=\"10px\" fill=\"#000\" opacity=\"1\">2030</text><text text-anchor=\"end\" transform=\"translate(230,7) rotate(270) translate(0,3)\" font-family=\"sans-serif\" font-size=\"10px\" fill=\"#000\" opacity=\"1\">2031</text><text text-anchor=\"end\" transform=\"translate(250,7) rotate(270) translate(0,3)\" font-family=\"sans-serif\" font-size=\"10px\" fill=\"#000\" opacity=\"1\">2032</text><text text-anchor=\"end\" transform=\"translate(270,7) rotate(270) translate(0,3)\" font-family=\"sans-serif\" font-size=\"10px\" fill=\"#000\" opacity=\"1\">2033</text><text text-anchor=\"end\" transform=\"translate(290,7) rotate(270) translate(0,3)\" font-family=\"sans-serif\" font-size=\"10px\" fill=\"#000\" opacity=\"1\">2034</text><text text-anchor=\"end\" transform=\"translate(310,7) rotate(270) translate(0,3)\" font-family=\"sans-serif\" font-size=\"10px\" fill=\"#000\" opacity=\"1\">2035</text><text text-anchor=\"end\" transform=\"translate(330,7) rotate(270) translate(0,3)\" font-family=\"sans-serif\" font-size=\"10px\" fill=\"#000\" opacity=\"1\">2036</text><text text-anchor=\"end\" transform=\"translate(350,7) rotate(270) translate(0,3)\" font-family=\"sans-serif\" font-size=\"10px\" fill=\"#000\" opacity=\"1\">2037</text><text text-anchor=\"end\" transform=\"translate(370,7) rotate(270) translate(0,3)\" font-family=\"sans-serif\" font-size=\"10px\" fill=\"#000\" opacity=\"1\">2038</text><text text-anchor=\"end\" transform=\"translate(390,7) rotate(270) translate(0,3)\" font-family=\"sans-serif\" font-size=\"10px\" fill=\"#000\" opacity=\"1\">2039</text><text text-anchor=\"end\" transform=\"translate(410,7) rotate(270) translate(0,3)\" font-family=\"sans-serif\" font-size=\"10px\" fill=\"#000\" opacity=\"1\">2040</text><text text-anchor=\"end\" transform=\"translate(430,7) rotate(270) translate(0,3)\" font-family=\"sans-serif\" font-size=\"10px\" fill=\"#000\" opacity=\"1\">2041</text><text text-anchor=\"end\" transform=\"translate(450,7) rotate(270) translate(0,3)\" font-family=\"sans-serif\" font-size=\"10px\" fill=\"#000\" opacity=\"1\">2042</text><text text-anchor=\"end\" transform=\"translate(470,7) rotate(270) translate(0,3)\" font-family=\"sans-serif\" font-size=\"10px\" fill=\"#000\" opacity=\"1\">2043</text><text text-anchor=\"end\" transform=\"translate(490,7) rotate(270) translate(0,3)\" font-family=\"sans-serif\" font-size=\"10px\" fill=\"#000\" opacity=\"1\">2044</text><text text-anchor=\"end\" transform=\"translate(510,7) rotate(270) translate(0,3)\" font-family=\"sans-serif\" font-size=\"10px\" fill=\"#000\" opacity=\"1\">2045</text><text text-anchor=\"end\" transform=\"translate(530,7) rotate(270) translate(0,3)\" font-family=\"sans-serif\" font-size=\"10px\" fill=\"#000\" opacity=\"1\">2046</text><text text-anchor=\"end\" transform=\"translate(550,7) rotate(270) translate(0,3)\" font-family=\"sans-serif\" font-size=\"10px\" fill=\"#000\" opacity=\"1\">2047</text><text text-anchor=\"end\" transform=\"translate(570,7) rotate(270) translate(0,3)\" font-family=\"sans-serif\" font-size=\"10px\" fill=\"#000\" opacity=\"1\">2048</text><text text-anchor=\"end\" transform=\"translate(590,7) rotate(270) translate(0,3)\" font-family=\"sans-serif\" font-size=\"10px\" fill=\"#000\" opacity=\"1\">2049</text><text text-anchor=\"end\" transform=\"translate(610,7) rotate(270) translate(0,3)\" font-family=\"sans-serif\" font-size=\"10px\" fill=\"#000\" opacity=\"1\">2050</text><text text-anchor=\"end\" transform=\"translate(630,7) rotate(270) translate(0,3)\" font-family=\"sans-serif\" font-size=\"10px\" fill=\"#000\" opacity=\"1\">2051</text><text text-anchor=\"end\" transform=\"translate(650,7) rotate(270) translate(0,3)\" font-family=\"sans-serif\" font-size=\"10px\" fill=\"#000\" opacity=\"1\">2052</text><text text-anchor=\"end\" transform=\"translate(670,7) rotate(270) translate(0,3)\" font-family=\"sans-serif\" font-size=\"10px\" fill=\"#000\" opacity=\"1\">2053</text><text text-anchor=\"end\" transform=\"translate(690,7) rotate(270) translate(0,3)\" font-family=\"sans-serif\" font-size=\"10px\" fill=\"#000\" opacity=\"1\">2054</text><text text-anchor=\"end\" transform=\"translate(710,7) rotate(270) translate(0,3)\" font-family=\"sans-serif\" font-size=\"10px\" fill=\"#000\" opacity=\"1\">2055</text></g><g class=\"mark-rule role-axis-domain\" pointer-events=\"none\"><line transform=\"translate(0,0)\" x2=\"720\" y2=\"0\" stroke=\"#888\" stroke-width=\"1\" opacity=\"1\"/></g><g class=\"mark-text role-axis-title\" pointer-events=\"none\"><text text-anchor=\"middle\" transform=\"translate(360,44)\" font-family=\"sans-serif\" font-size=\"11px\" font-weight=\"bold\" fill=\"#000\" opacity=\"1\">year</text></g></g><path class=\"foreground\" aria-hidden=\"true\" d=\"\" pointer-events=\"none\" display=\"none\"/></g></g><g class=\"mark-group role-axis\" role=\"graphics-symbol\" aria-roledescription=\"axis\" aria-label=\"Y-axis titled 'recycled/renewable content' for a linear scale with values from 0.0 to 0.9\"><g transform=\"translate(0.5,0.5)\"><path class=\"background\" aria-hidden=\"true\" d=\"M0,0h0v0h0Z\" pointer-events=\"none\"/><g><g class=\"mark-rule role-axis-tick\" pointer-events=\"none\"><line transform=\"translate(0,200)\" x2=\"-5\" y2=\"0\" stroke=\"#888\" stroke-width=\"1\" opacity=\"1\"/><line transform=\"translate(0,156)\" x2=\"-5\" y2=\"0\" stroke=\"#888\" stroke-width=\"1\" opacity=\"1\"/><line transform=\"translate(0,111)\" x2=\"-5\" y2=\"0\" stroke=\"#888\" stroke-width=\"1\" opacity=\"1\"/><line transform=\"translate(0,67)\" x2=\"-5\" y2=\"0\" stroke=\"#888\" stroke-width=\"1\" opacity=\"1\"/><line transform=\"translate(0,22)\" x2=\"-5\" y2=\"0\" stroke=\"#888\" stroke-width=\"1\" opacity=\"1\"/></g><g class=\"mark-text role-axis-label\" pointer-events=\"none\"><text text-anchor=\"end\" transform=\"translate(-7,203)\" font-family=\"sans-serif\" font-size=\"10px\" fill=\"#000\" opacity=\"1\">0.0</text><text text-anchor=\"end\" transform=\"translate(-7,158.55555555555557)\" font-family=\"sans-serif\" font-size=\"10px\" fill=\"#000\" opacity=\"1\">0.2</text><text text-anchor=\"end\" transform=\"translate(-7,114.11111111111111)\" font-family=\"sans-serif\" font-size=\"10px\" fill=\"#000\" opacity=\"1\">0.4</text><text text-anchor=\"end\" transform=\"translate(-7,69.66666666666667)\" font-family=\"sans-serif\" font-size=\"10px\" fill=\"#000\" opacity=\"1\">0.6</text><text text-anchor=\"end\" transform=\"translate(-7,25.22222222222221)\" font-family=\"sans-serif\" font-size=\"10px\" fill=\"#000\" opacity=\"1\">0.8</text></g><g class=\"mark-rule role-axis-domain\" pointer-events=\"none\"><line transform=\"translate(0,200)\" x2=\"0\" y2=\"-200\" stroke=\"#888\" stroke-width=\"1\" opacity=\"1\"/></g><g class=\"mark-text role-axis-title\" pointer-events=\"none\"><text text-anchor=\"middle\" transform=\"translate(-26,100) rotate(-90) translate(0,-2)\" font-family=\"sans-serif\" font-size=\"11px\" font-weight=\"bold\" fill=\"#000\" opacity=\"1\">recycled/renewable content</text></g></g><path class=\"foreground\" aria-hidden=\"true\" d=\"\" pointer-events=\"none\" display=\"none\"/></g></g><g class=\"mark-group role-scope pathgroup\" role=\"graphics-object\" aria-roledescription=\"group mark container\"><g transform=\"translate(0,0)\"><path class=\"background\" aria-hidden=\"true\" d=\"M0,0h720v200h-720Z\"/><g><g class=\"mark-area role-mark marks\" role=\"graphics-object\" aria-roledescription=\"area mark container\"><path aria-label=\"year: 2020; recycled/renewable content: 0.12; variable: conv\" role=\"graphics-symbol\" aria-roledescription=\"area mark\" d=\"M10,173.33333333333334L30,200L50,200L70,200L90,200L110,60.31279631111113L130,60.31279631111113L150,60.31279631111113L170,60.31279631111113L190,60.31279631111113L210,32.752598818888856L230,32.752598818888856L250,32.752598818888856L270,32.752598818888856L290,32.752598818888856L310,32.752598818888856L330,32.752598818888856L350,32.752598818888856L370,32.752598818888856L390,32.752598818888856L410,21.337080444444446L430,21.337080444444446L450,21.337080444444446L470,21.337080444444446L490,21.337080444444446L510,33.33333333333337L530,33.33333333333337L550,33.33333333333337L570,33.33333333333337L590,33.33333333333337L610,33.33333333333337L630,33.33333333333337L650,33.33333333333337L670,33.33333333333337L690,33.33333333333337L710,33.33333333333337L710,33.4557884222368L690,33.4557884222368L670,33.4557884222368L650,33.4557884222368L630,33.4557884222368L610,33.4557884222368L590,33.4557884222368L570,33.4557884222368L550,33.4557884222368L530,33.4557884222368L510,33.4557884222368L490,21.337080444444446L470,21.337080444444446L450,21.337080444444446L430,21.337080444444446L410,21.337080444444446L390,32.752598818888856L370,32.752598818888856L350,32.752598818888856L330,32.752598818888856L310,32.752598818888856L290,32.752598818888856L270,32.752598818888856L250,32.752598818888856L230,32.752598818888856L210,32.752598818888856L190,60.31279631111113L170,60.31279631111113L150,60.31279631111113L130,60.31279631111113L110,60.31279631111113L90,200L70,200L50,200L30,200L10,200Z\" fill=\"#4c78a8\"/></g></g><path class=\"foreground\" aria-hidden=\"true\" d=\"\" display=\"none\"/></g><g transform=\"translate(0,0)\"><path class=\"background\" aria-hidden=\"true\" d=\"M0,0h720v200h-720Z\"/><g><g class=\"mark-area role-mark marks\" role=\"graphics-object\" aria-roledescription=\"area mark container\"><path aria-label=\"year: 2020; recycled/renewable content: 0; variable: inn1\" role=\"graphics-symbol\" aria-roledescription=\"area mark\" d=\"M10,200L30,200L50,200L70,200L90,200L110,60.31279631111113L130,60.31279631111113L150,60.31279631111113L170,60.31279631111113L190,60.31279631111113L210,32.752598818888856L230,32.752598818888856L250,32.752598818888856L270,32.752598818888856L290,32.752598818888856L310,32.752598818888856L330,32.752598818888856L350,32.752598818888856L370,32.752598818888856L390,32.752598818888856L410,21.337080444444446L430,21.337080444444446L450,21.337080444444446L470,21.337080444444446L490,21.337080444444446L510,33.4557884222368L530,33.4557884222368L550,33.4557884222368L570,33.4557884222368L590,33.4557884222368L610,33.4557884222368L630,33.4557884222368L650,33.4557884222368L670,33.4557884222368L690,33.4557884222368L710,33.4557884222368L710,33.4557884222368L690,33.4557884222368L670,33.4557884222368L650,33.4557884222368L630,33.4557884222368L610,33.4557884222368L590,33.4557884222368L570,33.4557884222368L550,33.4557884222368L530,33.4557884222368L510,33.4557884222368L490,21.337080444444446L470,21.337080444444446L450,21.337080444444446L430,21.337080444444446L410,21.337080444444446L390,32.752598818888856L370,32.752598818888856L350,32.752598818888856L330,32.752598818888856L310,32.752598818888856L290,32.752598818888856L270,32.752598818888856L250,32.752598818888856L230,32.752598818888856L210,32.752598818888856L190,60.31279631111113L170,60.31279631111113L150,60.31279631111113L130,60.31279631111113L110,60.31279631111113L90,200L70,200L50,200L30,200L10,200Z\" fill=\"#f58518\"/></g></g><path class=\"foreground\" aria-hidden=\"true\" d=\"\" display=\"none\"/></g><g transform=\"translate(0,0)\"><path class=\"background\" aria-hidden=\"true\" d=\"M0,0h720v200h-720Z\"/><g><g class=\"mark-area role-mark marks\" role=\"graphics-object\" aria-roledescription=\"area mark container\"><path aria-label=\"year: 2020; recycled/renewable content: 0; variable: inn2\" role=\"graphics-symbol\" aria-roledescription=\"area mark\" d=\"M10,200L30,200L50,200L70,200L90,200L110,60.31279631111113L130,60.31279631111113L150,60.31279631111113L170,60.31279631111113L190,60.31279631111113L210,146.92192291528863L230,146.92192291528863L250,146.92192291528863L270,146.92192291528863L290,146.92192291528863L310,146.92192291528863L330,146.92192291528863L350,146.92192291528863L370,146.92192291528863L390,146.92192291528863L410,200L430,200L450,200L470,200L490,200L510,147.96521977998802L530,147.96521977998802L550,147.96521977998802L570,147.96521977998802L590,147.96521977998802L610,147.96521977998802L630,147.96521977998802L650,147.96521977998802L670,147.96521977998802L690,147.96521977998802L710,147.96521977998802L710,147.96521977998802L690,147.96521977998802L670,147.96521977998802L650,147.96521977998802L630,147.96521977998802L610,147.96521977998802L590,147.96521977998802L570,147.96521977998802L550,147.96521977998802L530,147.96521977998802L510,147.96521977998802L490,200L470,200L450,200L430,200L410,200L390,146.92192291528863L370,146.92192291528863L350,146.92192291528863L330,146.92192291528863L310,146.92192291528863L290,146.92192291528863L270,146.92192291528863L250,146.92192291528863L230,146.92192291528863L210,146.92192291528863L190,60.31279631111113L170,60.31279631111113L150,60.31279631111113L130,60.31279631111113L110,60.31279631111113L90,200L70,200L50,200L30,200L10,200Z\" fill=\"#72b7b2\"/></g></g><path class=\"foreground\" aria-hidden=\"true\" d=\"\" display=\"none\"/></g><g transform=\"translate(0,0)\"><path class=\"background\" aria-hidden=\"true\" d=\"M0,0h720v200h-720Z\"/><g><g class=\"mark-area role-mark marks\" role=\"graphics-object\" aria-roledescription=\"area mark container\"><path aria-label=\"year: 2020; recycled/renewable content: 0; variable: inn3\" role=\"graphics-symbol\" aria-roledescription=\"area mark\" d=\"M10,200L30,200L50,200L70,200L90,200L110,60.31279631111113L130,60.31279631111113L150,60.31279631111113L170,60.31279631111113L190,60.31279631111113L210,146.92192291528863L230,146.92192291528863L250,146.92192291528863L270,146.92192291528863L290,146.92192291528863L310,146.92192291528863L330,146.92192291528863L350,146.92192291528863L370,146.92192291528863L390,146.92192291528863L410,200L430,200L450,200L470,200L490,200L510,147.96521977998802L530,147.96521977998802L550,147.96521977998802L570,147.96521977998802L590,147.96521977998802L610,147.96521977998802L630,147.96521977998802L650,147.96521977998802L670,147.96521977998802L690,147.96521977998802L710,147.96521977998802L710,147.96521977998802L690,147.96521977998802L670,147.96521977998802L650,147.96521977998802L630,147.96521977998802L610,147.96521977998802L590,147.96521977998802L570,147.96521977998802L550,147.96521977998802L530,147.96521977998802L510,147.96521977998802L490,200L470,200L450,200L430,200L410,200L390,146.92192291528863L370,146.92192291528863L350,146.92192291528863L330,146.92192291528863L310,146.92192291528863L290,146.92192291528863L270,146.92192291528863L250,146.92192291528863L230,146.92192291528863L210,146.92192291528863L190,60.31279631111113L170,60.31279631111113L150,60.31279631111113L130,60.31279631111113L110,60.31279631111113L90,200L70,200L50,200L30,200L10,200Z\" fill=\"#54a24b\"/></g></g><path class=\"foreground\" aria-hidden=\"true\" d=\"\" display=\"none\"/></g><g transform=\"translate(0,0)\"><path class=\"background\" aria-hidden=\"true\" d=\"M0,0h720v200h-720Z\"/><g><g class=\"mark-area role-mark marks\" role=\"graphics-object\" aria-roledescription=\"area mark container\"><path aria-label=\"year: 2020; recycled/renewable content: 0; variable: inn4\" role=\"graphics-symbol\" aria-roledescription=\"area mark\" d=\"M10,200L30,200L50,200L70,200L90,200L110,60.31279631111113L130,60.31279631111113L150,60.31279631111113L170,60.31279631111113L190,60.31279631111113L210,146.92192291528863L230,146.92192291528863L250,146.92192291528863L270,146.92192291528863L290,146.92192291528863L310,146.92192291528863L330,146.92192291528863L350,146.92192291528863L370,146.92192291528863L390,146.92192291528863L410,200L430,200L450,200L470,200L490,200L510,147.96521977998802L530,147.96521977998802L550,147.96521977998802L570,147.96521977998802L590,147.96521977998802L610,147.96521977998802L630,147.96521977998802L650,147.96521977998802L670,147.96521977998802L690,147.96521977998802L710,147.96521977998802L710,147.96521977998802L690,147.96521977998802L670,147.96521977998802L650,147.96521977998802L630,147.96521977998802L610,147.96521977998802L590,147.96521977998802L570,147.96521977998802L550,147.96521977998802L530,147.96521977998802L510,147.96521977998802L490,200L470,200L450,200L430,200L410,200L390,146.92192291528863L370,146.92192291528863L350,146.92192291528863L330,146.92192291528863L310,146.92192291528863L290,146.92192291528863L270,146.92192291528863L250,146.92192291528863L230,146.92192291528863L210,146.92192291528863L190,60.31279631111113L170,60.31279631111113L150,60.31279631111113L130,60.31279631111113L110,60.31279631111113L90,200L70,200L50,200L30,200L10,200Z\" fill=\"#eeca3b\"/></g></g><path class=\"foreground\" aria-hidden=\"true\" d=\"\" display=\"none\"/></g><g transform=\"translate(0,0)\"><path class=\"background\" aria-hidden=\"true\" d=\"M0,0h720v200h-720Z\"/><g><g class=\"mark-area role-mark marks\" role=\"graphics-object\" aria-roledescription=\"area mark container\"><path aria-label=\"year: 2020; recycled/renewable content: 0; variable: inn5\" role=\"graphics-symbol\" aria-roledescription=\"area mark\" d=\"M10,200L30,200L50,200L70,200L90,200L110,60.31279631111113L130,60.31279631111113L150,60.31279631111113L170,60.31279631111113L190,60.31279631111113L210,146.92192291528863L230,146.92192291528863L250,146.92192291528863L270,146.92192291528863L290,146.92192291528863L310,146.92192291528863L330,146.92192291528863L350,146.92192291528863L370,146.92192291528863L390,146.92192291528863L410,200L430,200L450,200L470,200L490,200L510,147.96521977998802L530,147.96521977998802L550,147.96521977998802L570,147.96521977998802L590,147.96521977998802L610,147.96521977998802L630,147.96521977998802L650,147.96521977998802L670,147.96521977998802L690,147.96521977998802L710,147.96521977998802L710,200L690,200L670,200L650,200L630,200L610,200L590,200L570,200L550,200L530,200L510,200L490,200L470,200L450,200L430,200L410,200L390,200L370,200L350,200L330,200L310,200L290,200L270,200L250,200L230,200L210,200L190,200L170,200L150,200L130,200L110,200L90,200L70,200L50,200L30,200L10,200Z\" fill=\"#b279a2\"/></g></g><path class=\"foreground\" aria-hidden=\"true\" d=\"\" display=\"none\"/></g><g transform=\"translate(0,0)\"><path class=\"background\" aria-hidden=\"true\" d=\"M0,0h720v200h-720Z\"/><g><g class=\"mark-area role-mark marks\" role=\"graphics-object\" aria-roledescription=\"area mark container\"><path aria-label=\"year: 2020; recycled/renewable content: 0; variable: inn6\" role=\"graphics-symbol\" aria-roledescription=\"area mark\" d=\"M10,200L30,200L50,200L70,200L90,200L110,200L130,200L150,200L170,200L190,200L210,200L230,200L250,200L270,200L290,200L310,200L330,200L350,200L370,200L390,200L410,200L430,200L450,200L470,200L490,200L510,200L530,200L550,200L570,200L590,200L610,200L630,200L650,200L670,200L690,200L710,200L710,200L690,200L670,200L650,200L630,200L610,200L590,200L570,200L550,200L530,200L510,200L490,200L470,200L450,200L430,200L410,200L390,200L370,200L350,200L330,200L310,200L290,200L270,200L250,200L230,200L210,200L190,200L170,200L150,200L130,200L110,200L90,200L70,200L50,200L30,200L10,200Z\" fill=\"#ff9da6\"/></g></g><path class=\"foreground\" aria-hidden=\"true\" d=\"\" display=\"none\"/></g><g transform=\"translate(0,0)\"><path class=\"background\" aria-hidden=\"true\" d=\"M0,0h720v200h-720Z\"/><g><g class=\"mark-area role-mark marks\" role=\"graphics-object\" aria-roledescription=\"area mark container\"><path aria-label=\"year: 2020; recycled/renewable content: 0; variable: inn7\" role=\"graphics-symbol\" aria-roledescription=\"area mark\" d=\"M10,200L30,200L50,200L70,200L90,200L110,200L130,200L150,200L170,200L190,200L210,200L230,200L250,200L270,200L290,200L310,200L330,200L350,200L370,200L390,200L410,200L430,200L450,200L470,200L490,200L510,200L530,200L550,200L570,200L590,200L610,200L630,200L650,200L670,200L690,200L710,200L710,200L690,200L670,200L650,200L630,200L610,200L590,200L570,200L550,200L530,200L510,200L490,200L470,200L450,200L430,200L410,200L390,200L370,200L350,200L330,200L310,200L290,200L270,200L250,200L230,200L210,200L190,200L170,200L150,200L130,200L110,200L90,200L70,200L50,200L30,200L10,200Z\" fill=\"#9d755d\"/></g></g><path class=\"foreground\" aria-hidden=\"true\" d=\"\" display=\"none\"/></g><g transform=\"translate(0,0)\"><path class=\"background\" aria-hidden=\"true\" d=\"M0,0h720v200h-720Z\"/><g><g class=\"mark-area role-mark marks\" role=\"graphics-object\" aria-roledescription=\"area mark container\"><path aria-label=\"year: 2020; recycled/renewable content: 0; variable: inn8\" role=\"graphics-symbol\" aria-roledescription=\"area mark\" d=\"M10,200L30,200L50,200L70,200L90,200L110,200L130,200L150,200L170,200L190,200L210,200L230,200L250,200L270,200L290,200L310,200L330,200L350,200L370,200L390,200L410,200L430,200L450,200L470,200L490,200L510,200L530,200L550,200L570,200L590,200L610,200L630,200L650,200L670,200L690,200L710,200L710,200L690,200L670,200L650,200L630,200L610,200L590,200L570,200L550,200L530,200L510,200L490,200L470,200L450,200L430,200L410,200L390,200L370,200L350,200L330,200L310,200L290,200L270,200L250,200L230,200L210,200L190,200L170,200L150,200L130,200L110,200L90,200L70,200L50,200L30,200L10,200Z\" fill=\"#bab0ac\"/></g></g><path class=\"foreground\" aria-hidden=\"true\" d=\"\" display=\"none\"/></g><g transform=\"translate(0,0)\"><path class=\"background\" aria-hidden=\"true\" d=\"M0,0h720v200h-720Z\"/><g><g class=\"mark-area role-mark marks\" role=\"graphics-object\" aria-roledescription=\"area mark container\"><path aria-label=\"year: 2020; recycled/renewable content: 0; variable: inn9\" role=\"graphics-symbol\" aria-roledescription=\"area mark\" d=\"M10,200L30,200L50,200L70,200L90,200L110,200L130,200L150,200L170,200L190,200L210,200L230,200L250,200L270,200L290,200L310,200L330,200L350,200L370,200L390,200L410,200L430,200L450,200L470,200L490,200L510,200L530,200L550,200L570,200L590,200L610,200L630,200L650,200L670,200L690,200L710,200L710,200L690,200L670,200L650,200L630,200L610,200L590,200L570,200L550,200L530,200L510,200L490,200L470,200L450,200L430,200L410,200L390,200L370,200L350,200L330,200L310,200L290,200L270,200L250,200L230,200L210,200L190,200L170,200L150,200L130,200L110,200L90,200L70,200L50,200L30,200L10,200Z\" fill=\"#4c78a8\"/></g></g><path class=\"foreground\" aria-hidden=\"true\" d=\"\" display=\"none\"/></g><g transform=\"translate(0,0)\"><path class=\"background\" aria-hidden=\"true\" d=\"M0,0h720v200h-720Z\"/><g><g class=\"mark-area role-mark marks\" role=\"graphics-object\" aria-roledescription=\"area mark container\"><path aria-label=\"year: 2020; recycled/renewable content: 0; variable: inn10\" role=\"graphics-symbol\" aria-roledescription=\"area mark\" d=\"M10,200L30,200L50,200L70,200L90,200L110,60.31279631111113L130,60.31279631111113L150,60.31279631111113L170,60.31279631111113L190,60.31279631111113L210,32.752598818888856L230,32.752598818888856L250,32.752598818888856L270,32.752598818888856L290,32.752598818888856L310,32.752598818888856L330,32.752598818888856L350,32.752598818888856L370,32.752598818888856L390,32.752598818888856L410,21.337080444444446L430,21.337080444444446L450,21.337080444444446L470,21.337080444444446L490,21.337080444444446L510,33.4557884222368L530,33.4557884222368L550,33.4557884222368L570,33.4557884222368L590,33.4557884222368L610,33.4557884222368L630,33.4557884222368L650,33.4557884222368L670,33.4557884222368L690,33.4557884222368L710,33.4557884222368L710,147.96521977998802L690,147.96521977998802L670,147.96521977998802L650,147.96521977998802L630,147.96521977998802L610,147.96521977998802L590,147.96521977998802L570,147.96521977998802L550,147.96521977998802L530,147.96521977998802L510,147.96521977998802L490,200L470,200L450,200L430,200L410,200L390,146.92192291528863L370,146.92192291528863L350,146.92192291528863L330,146.92192291528863L310,146.92192291528863L290,146.92192291528863L270,146.92192291528863L250,146.92192291528863L230,146.92192291528863L210,146.92192291528863L190,60.31279631111113L170,60.31279631111113L150,60.31279631111113L130,60.31279631111113L110,60.31279631111113L90,200L70,200L50,200L30,200L10,200Z\" fill=\"#e45756\"/></g></g><path class=\"foreground\" aria-hidden=\"true\" d=\"\" display=\"none\"/></g></g><g class=\"mark-group role-legend\" role=\"graphics-symbol\" aria-roledescription=\"legend\" aria-label=\"Symbol legend titled 'variable' for fill color with 11 values: conv, inn1, inn10, inn2, inn3, ending with inn9\"><g transform=\"translate(738,0)\"><path class=\"background\" aria-hidden=\"true\" d=\"M0,0h49v157h-49Z\" pointer-events=\"none\"/><g><g class=\"mark-group role-legend-entry\"><g transform=\"translate(0,16)\"><path class=\"background\" aria-hidden=\"true\" d=\"M0,0h0v0h0Z\" pointer-events=\"none\"/><g><g class=\"mark-group role-scope\" role=\"graphics-object\" aria-roledescription=\"group mark container\"><g transform=\"translate(0,0)\"><path class=\"background\" aria-hidden=\"true\" d=\"M0,0h43v11h-43Z\" pointer-events=\"none\" opacity=\"1\"/><g><g class=\"mark-symbol role-legend-symbol\" pointer-events=\"none\"><path transform=\"translate(6,6)\" d=\"M5,0A5,5,0,1,1,-5,0A5,5,0,1,1,5,0\" fill=\"#4c78a8\" stroke-width=\"1.5\" opacity=\"1\"/></g><g class=\"mark-text role-legend-label\" pointer-events=\"none\"><text text-anchor=\"start\" transform=\"translate(16,9)\" font-family=\"sans-serif\" font-size=\"10px\" fill=\"#000\" opacity=\"1\">conv</text></g></g><path class=\"foreground\" aria-hidden=\"true\" d=\"\" pointer-events=\"none\" display=\"none\"/></g><g transform=\"translate(0,13)\"><path class=\"background\" aria-hidden=\"true\" d=\"M0,0h43v11h-43Z\" pointer-events=\"none\" opacity=\"1\"/><g><g class=\"mark-symbol role-legend-symbol\" pointer-events=\"none\"><path transform=\"translate(6,6)\" d=\"M5,0A5,5,0,1,1,-5,0A5,5,0,1,1,5,0\" fill=\"#f58518\" stroke-width=\"1.5\" opacity=\"1\"/></g><g class=\"mark-text role-legend-label\" pointer-events=\"none\"><text text-anchor=\"start\" transform=\"translate(16,9)\" font-family=\"sans-serif\" font-size=\"10px\" fill=\"#000\" opacity=\"1\">inn1</text></g></g><path class=\"foreground\" aria-hidden=\"true\" d=\"\" pointer-events=\"none\" display=\"none\"/></g><g transform=\"translate(0,26)\"><path class=\"background\" aria-hidden=\"true\" d=\"M0,0h43v11h-43Z\" pointer-events=\"none\" opacity=\"1\"/><g><g class=\"mark-symbol role-legend-symbol\" pointer-events=\"none\"><path transform=\"translate(6,6)\" d=\"M5,0A5,5,0,1,1,-5,0A5,5,0,1,1,5,0\" fill=\"#e45756\" stroke-width=\"1.5\" opacity=\"1\"/></g><g class=\"mark-text role-legend-label\" pointer-events=\"none\"><text text-anchor=\"start\" transform=\"translate(16,9)\" font-family=\"sans-serif\" font-size=\"10px\" fill=\"#000\" opacity=\"1\">inn10</text></g></g><path class=\"foreground\" aria-hidden=\"true\" d=\"\" pointer-events=\"none\" display=\"none\"/></g><g transform=\"translate(0,39)\"><path class=\"background\" aria-hidden=\"true\" d=\"M0,0h43v11h-43Z\" pointer-events=\"none\" opacity=\"1\"/><g><g class=\"mark-symbol role-legend-symbol\" pointer-events=\"none\"><path transform=\"translate(6,6)\" d=\"M5,0A5,5,0,1,1,-5,0A5,5,0,1,1,5,0\" fill=\"#72b7b2\" stroke-width=\"1.5\" opacity=\"1\"/></g><g class=\"mark-text role-legend-label\" pointer-events=\"none\"><text text-anchor=\"start\" transform=\"translate(16,9)\" font-family=\"sans-serif\" font-size=\"10px\" fill=\"#000\" opacity=\"1\">inn2</text></g></g><path class=\"foreground\" aria-hidden=\"true\" d=\"\" pointer-events=\"none\" display=\"none\"/></g><g transform=\"translate(0,52)\"><path class=\"background\" aria-hidden=\"true\" d=\"M0,0h43v11h-43Z\" pointer-events=\"none\" opacity=\"1\"/><g><g class=\"mark-symbol role-legend-symbol\" pointer-events=\"none\"><path transform=\"translate(6,6)\" d=\"M5,0A5,5,0,1,1,-5,0A5,5,0,1,1,5,0\" fill=\"#54a24b\" stroke-width=\"1.5\" opacity=\"1\"/></g><g class=\"mark-text role-legend-label\" pointer-events=\"none\"><text text-anchor=\"start\" transform=\"translate(16,9)\" font-family=\"sans-serif\" font-size=\"10px\" fill=\"#000\" opacity=\"1\">inn3</text></g></g><path class=\"foreground\" aria-hidden=\"true\" d=\"\" pointer-events=\"none\" display=\"none\"/></g><g transform=\"translate(0,65)\"><path class=\"background\" aria-hidden=\"true\" d=\"M0,0h43v11h-43Z\" pointer-events=\"none\" opacity=\"1\"/><g><g class=\"mark-symbol role-legend-symbol\" pointer-events=\"none\"><path transform=\"translate(6,6)\" d=\"M5,0A5,5,0,1,1,-5,0A5,5,0,1,1,5,0\" fill=\"#eeca3b\" stroke-width=\"1.5\" opacity=\"1\"/></g><g class=\"mark-text role-legend-label\" pointer-events=\"none\"><text text-anchor=\"start\" transform=\"translate(16,9)\" font-family=\"sans-serif\" font-size=\"10px\" fill=\"#000\" opacity=\"1\">inn4</text></g></g><path class=\"foreground\" aria-hidden=\"true\" d=\"\" pointer-events=\"none\" display=\"none\"/></g><g transform=\"translate(0,78)\"><path class=\"background\" aria-hidden=\"true\" d=\"M0,0h43v11h-43Z\" pointer-events=\"none\" opacity=\"1\"/><g><g class=\"mark-symbol role-legend-symbol\" pointer-events=\"none\"><path transform=\"translate(6,6)\" d=\"M5,0A5,5,0,1,1,-5,0A5,5,0,1,1,5,0\" fill=\"#b279a2\" stroke-width=\"1.5\" opacity=\"1\"/></g><g class=\"mark-text role-legend-label\" pointer-events=\"none\"><text text-anchor=\"start\" transform=\"translate(16,9)\" font-family=\"sans-serif\" font-size=\"10px\" fill=\"#000\" opacity=\"1\">inn5</text></g></g><path class=\"foreground\" aria-hidden=\"true\" d=\"\" pointer-events=\"none\" display=\"none\"/></g><g transform=\"translate(0,91)\"><path class=\"background\" aria-hidden=\"true\" d=\"M0,0h43v11h-43Z\" pointer-events=\"none\" opacity=\"1\"/><g><g class=\"mark-symbol role-legend-symbol\" pointer-events=\"none\"><path transform=\"translate(6,6)\" d=\"M5,0A5,5,0,1,1,-5,0A5,5,0,1,1,5,0\" fill=\"#ff9da6\" stroke-width=\"1.5\" opacity=\"1\"/></g><g class=\"mark-text role-legend-label\" pointer-events=\"none\"><text text-anchor=\"start\" transform=\"translate(16,9)\" font-family=\"sans-serif\" font-size=\"10px\" fill=\"#000\" opacity=\"1\">inn6</text></g></g><path class=\"foreground\" aria-hidden=\"true\" d=\"\" pointer-events=\"none\" display=\"none\"/></g><g transform=\"translate(0,104)\"><path class=\"background\" aria-hidden=\"true\" d=\"M0,0h43v11h-43Z\" pointer-events=\"none\" opacity=\"1\"/><g><g class=\"mark-symbol role-legend-symbol\" pointer-events=\"none\"><path transform=\"translate(6,6)\" d=\"M5,0A5,5,0,1,1,-5,0A5,5,0,1,1,5,0\" fill=\"#9d755d\" stroke-width=\"1.5\" opacity=\"1\"/></g><g class=\"mark-text role-legend-label\" pointer-events=\"none\"><text text-anchor=\"start\" transform=\"translate(16,9)\" font-family=\"sans-serif\" font-size=\"10px\" fill=\"#000\" opacity=\"1\">inn7</text></g></g><path class=\"foreground\" aria-hidden=\"true\" d=\"\" pointer-events=\"none\" display=\"none\"/></g><g transform=\"translate(0,117)\"><path class=\"background\" aria-hidden=\"true\" d=\"M0,0h43v11h-43Z\" pointer-events=\"none\" opacity=\"1\"/><g><g class=\"mark-symbol role-legend-symbol\" pointer-events=\"none\"><path transform=\"translate(6,6)\" d=\"M5,0A5,5,0,1,1,-5,0A5,5,0,1,1,5,0\" fill=\"#bab0ac\" stroke-width=\"1.5\" opacity=\"1\"/></g><g class=\"mark-text role-legend-label\" pointer-events=\"none\"><text text-anchor=\"start\" transform=\"translate(16,9)\" font-family=\"sans-serif\" font-size=\"10px\" fill=\"#000\" opacity=\"1\">inn8</text></g></g><path class=\"foreground\" aria-hidden=\"true\" d=\"\" pointer-events=\"none\" display=\"none\"/></g><g transform=\"translate(0,130)\"><path class=\"background\" aria-hidden=\"true\" d=\"M0,0h43v11h-43Z\" pointer-events=\"none\" opacity=\"1\"/><g><g class=\"mark-symbol role-legend-symbol\" pointer-events=\"none\"><path transform=\"translate(6,6)\" d=\"M5,0A5,5,0,1,1,-5,0A5,5,0,1,1,5,0\" fill=\"#4c78a8\" stroke-width=\"1.5\" opacity=\"1\"/></g><g class=\"mark-text role-legend-label\" pointer-events=\"none\"><text text-anchor=\"start\" transform=\"translate(16,9)\" font-family=\"sans-serif\" font-size=\"10px\" fill=\"#000\" opacity=\"1\">inn9</text></g></g><path class=\"foreground\" aria-hidden=\"true\" d=\"\" pointer-events=\"none\" display=\"none\"/></g></g></g><path class=\"foreground\" aria-hidden=\"true\" d=\"\" pointer-events=\"none\" display=\"none\"/></g></g><g class=\"mark-text role-legend-title\" pointer-events=\"none\"><text text-anchor=\"start\" transform=\"translate(0,9)\" font-family=\"sans-serif\" font-size=\"11px\" font-weight=\"bold\" fill=\"#000\" opacity=\"1\">variable</text></g></g><path class=\"foreground\" aria-hidden=\"true\" d=\"\" pointer-events=\"none\" display=\"none\"/></g></g></g><path class=\"foreground\" aria-hidden=\"true\" d=\"\" display=\"none\"/></g></g></g></svg>\n"
      ],
      "text/plain": [
       "@vlplot(\n",
       "    legend=\"sNames\",\n",
       "    mark=\"area\",\n",
       "    encoding={\n",
       "        x={\n",
       "            field=\"year\"\n",
       "        },\n",
       "        y={\n",
       "            stack=\"zero\",\n",
       "            title=\"recycled/renewable content\",\n",
       "            field=\"value\"\n",
       "        },\n",
       "        color={\n",
       "            field=\"variable\",\n",
       "            type=\"nominal\"\n",
       "        }\n",
       "    },\n",
       "    data={\n",
       "        values=...\n",
       "    }\n",
       ")"
      ]
     },
     "execution_count": 408,
     "metadata": {},
     "output_type": "execute_result"
    }
   ],
   "source": [
    "function conventional(t)\n",
    "    return initial[1,5]*(1-sum(JuMP.values.(xk)[k,t] for k in 1:nrow(compromise)))\n",
    "end\n",
    "\n",
    "function innovation(i,t)\n",
    "    if i==1\n",
    "        return sum(JuMP.values.(xk)[k,t]*(compromise[k,5])+JuMP.values.(xk)[k,t]*(compromise[k,6]) for k=1:mapki[i,2])\n",
    "    else\n",
    "        return sum(JuMP.values.(xk)[k,t]*(compromise[k,5])+JuMP.values.(xk)[k,t]*(compromise[k,6]) for k=mapki[i-1,2]:mapki[i,2] )\n",
    "    end\n",
    "end\n",
    "\n",
    "conv=zeros(51)\n",
    "\n",
    "conv[1]=initial[1,5]\n",
    "inn_co2=zeros(nrow(innovations),51)\n",
    "\n",
    "for inn in 1:nrow(innovations)\n",
    "    inn_co2[inn,1]=0\n",
    "end\n",
    "\n",
    "j=0\n",
    "for i in 2:51\n",
    "    if 0 ≤ i ≤ 5\n",
    "        j=1\n",
    "    elseif 6 ≤ i ≤ 10\n",
    "        j=2\n",
    "    elseif 6 ≤ i ≤ 10\n",
    "        j=3\n",
    "    elseif 11 ≤ i ≤ 15\n",
    "        j=4\n",
    "    elseif 16 ≤ i ≤ 20\n",
    "        j=5\n",
    "    elseif 21 ≤ i ≤ 25\n",
    "        j=6\n",
    "    else\n",
    "        j=7\n",
    "    end\n",
    "        \n",
    "    conv[i]=conventional(j)\n",
    "    for inn in 1:nrow(innovations)\n",
    "        inn_co2[inn,i]=innovation(inn,j)\n",
    "    end\n",
    "end\n",
    "sNames = [\"conv\",\"inn1\",\"inn2\",\"inn3\",\"inn4\",\"inn5\",\"inn6\",\"inn7\",\"inn8\",\"inn9\",\"inn10\"]\n",
    "xLabels = []\n",
    "for i in 2020:2070\n",
    "    push!(xLabels,string(i))\n",
    "end\n",
    "\n",
    "df = DataFrame(year=xLabels, conv=conv, inn1=inn_co2[1,:],inn2=inn_co2[2,:],inn3=inn_co2[3,:],inn4=inn_co2[4,:],\n",
    "        inn5=inn_co2[5,:],inn6=inn_co2[6,:],inn7=inn_co2[7,:],inn8=inn_co2[8,:],inn9=inn_co2[9,:],inn10=inn_co2[10,:])\n",
    "df=df[1:36,:]\n",
    "df |> stack |> @vlplot(:area, x=:year, y={:value, stack=:zero, title=\"recycled/renewable content\"}, color=\"variable:n\",legend=:sNames) "
   ]
  },
  {
   "cell_type": "code",
   "execution_count": 409,
   "id": "6747696d",
   "metadata": {},
   "outputs": [
    {
     "data": {
      "application/vnd.vegalite.v4+json": {
       "data": {
        "values": [
         {
          "value": 0.12,
          "variable": "conv",
          "year": "2020"
         },
         {
          "value": 0,
          "variable": "conv",
          "year": "2021"
         },
         {
          "value": 0,
          "variable": "conv",
          "year": "2022"
         },
         {
          "value": 0,
          "variable": "conv",
          "year": "2023"
         },
         {
          "value": 0,
          "variable": "conv",
          "year": "2024"
         },
         {
          "value": 1.1102230246251565e-16,
          "variable": "conv",
          "year": "2025"
         },
         {
          "value": 1.1102230246251565e-16,
          "variable": "conv",
          "year": "2026"
         },
         {
          "value": 1.1102230246251565e-16,
          "variable": "conv",
          "year": "2027"
         },
         {
          "value": 1.1102230246251565e-16,
          "variable": "conv",
          "year": "2028"
         },
         {
          "value": 1.1102230246251565e-16,
          "variable": "conv",
          "year": "2029"
         },
         {
          "value": 0,
          "variable": "conv",
          "year": "2030"
         },
         {
          "value": 0,
          "variable": "conv",
          "year": "2031"
         },
         {
          "value": 0,
          "variable": "conv",
          "year": "2032"
         },
         {
          "value": 0,
          "variable": "conv",
          "year": "2033"
         },
         {
          "value": 0,
          "variable": "conv",
          "year": "2034"
         },
         {
          "value": 0,
          "variable": "conv",
          "year": "2035"
         },
         {
          "value": 0,
          "variable": "conv",
          "year": "2036"
         },
         {
          "value": 0,
          "variable": "conv",
          "year": "2037"
         },
         {
          "value": 0,
          "variable": "conv",
          "year": "2038"
         },
         {
          "value": 0,
          "variable": "conv",
          "year": "2039"
         },
         {
          "value": 0,
          "variable": "conv",
          "year": "2040"
         },
         {
          "value": 0,
          "variable": "conv",
          "year": "2041"
         },
         {
          "value": 0,
          "variable": "conv",
          "year": "2042"
         },
         {
          "value": 0,
          "variable": "conv",
          "year": "2043"
         },
         {
          "value": 0,
          "variable": "conv",
          "year": "2044"
         },
         {
          "value": 0.004592065833878389,
          "variable": "conv",
          "year": "2045"
         },
         {
          "value": 0.004592065833878389,
          "variable": "conv",
          "year": "2046"
         },
         {
          "value": 0.004592065833878389,
          "variable": "conv",
          "year": "2047"
         },
         {
          "value": 0.004592065833878389,
          "variable": "conv",
          "year": "2048"
         },
         {
          "value": 0.004592065833878389,
          "variable": "conv",
          "year": "2049"
         },
         {
          "value": 0.004592065833878389,
          "variable": "conv",
          "year": "2050"
         },
         {
          "value": 0.004592065833878389,
          "variable": "conv",
          "year": "2051"
         },
         {
          "value": 0.004592065833878389,
          "variable": "conv",
          "year": "2052"
         },
         {
          "value": 0.004592065833878389,
          "variable": "conv",
          "year": "2053"
         },
         {
          "value": 0.004592065833878389,
          "variable": "conv",
          "year": "2054"
         },
         {
          "value": 0.004592065833878389,
          "variable": "conv",
          "year": "2055"
         },
         {
          "value": 0,
          "variable": "inn1",
          "year": "2020"
         },
         {
          "value": 0,
          "variable": "inn1",
          "year": "2021"
         },
         {
          "value": 0,
          "variable": "inn1",
          "year": "2022"
         },
         {
          "value": 0,
          "variable": "inn1",
          "year": "2023"
         },
         {
          "value": 0,
          "variable": "inn1",
          "year": "2024"
         },
         {
          "value": 0,
          "variable": "inn1",
          "year": "2025"
         },
         {
          "value": 0,
          "variable": "inn1",
          "year": "2026"
         },
         {
          "value": 0,
          "variable": "inn1",
          "year": "2027"
         },
         {
          "value": 0,
          "variable": "inn1",
          "year": "2028"
         },
         {
          "value": 0,
          "variable": "inn1",
          "year": "2029"
         },
         {
          "value": 0,
          "variable": "inn1",
          "year": "2030"
         },
         {
          "value": 0,
          "variable": "inn1",
          "year": "2031"
         },
         {
          "value": 0,
          "variable": "inn1",
          "year": "2032"
         },
         {
          "value": 0,
          "variable": "inn1",
          "year": "2033"
         },
         {
          "value": 0,
          "variable": "inn1",
          "year": "2034"
         },
         {
          "value": 0,
          "variable": "inn1",
          "year": "2035"
         },
         {
          "value": 0,
          "variable": "inn1",
          "year": "2036"
         },
         {
          "value": 0,
          "variable": "inn1",
          "year": "2037"
         },
         {
          "value": 0,
          "variable": "inn1",
          "year": "2038"
         },
         {
          "value": 0,
          "variable": "inn1",
          "year": "2039"
         },
         {
          "value": 0,
          "variable": "inn1",
          "year": "2040"
         },
         {
          "value": 0,
          "variable": "inn1",
          "year": "2041"
         },
         {
          "value": 0,
          "variable": "inn1",
          "year": "2042"
         },
         {
          "value": 0,
          "variable": "inn1",
          "year": "2043"
         },
         {
          "value": 0,
          "variable": "inn1",
          "year": "2044"
         },
         {
          "value": 0,
          "variable": "inn1",
          "year": "2045"
         },
         {
          "value": 0,
          "variable": "inn1",
          "year": "2046"
         },
         {
          "value": 0,
          "variable": "inn1",
          "year": "2047"
         },
         {
          "value": 0,
          "variable": "inn1",
          "year": "2048"
         },
         {
          "value": 0,
          "variable": "inn1",
          "year": "2049"
         },
         {
          "value": 0,
          "variable": "inn1",
          "year": "2050"
         },
         {
          "value": 0,
          "variable": "inn1",
          "year": "2051"
         },
         {
          "value": 0,
          "variable": "inn1",
          "year": "2052"
         },
         {
          "value": 0,
          "variable": "inn1",
          "year": "2053"
         },
         {
          "value": 0,
          "variable": "inn1",
          "year": "2054"
         },
         {
          "value": 0,
          "variable": "inn1",
          "year": "2055"
         },
         {
          "value": 0,
          "variable": "inn2",
          "year": "2020"
         },
         {
          "value": 0,
          "variable": "inn2",
          "year": "2021"
         },
         {
          "value": 0,
          "variable": "inn2",
          "year": "2022"
         },
         {
          "value": 0,
          "variable": "inn2",
          "year": "2023"
         },
         {
          "value": 0,
          "variable": "inn2",
          "year": "2024"
         },
         {
          "value": 0,
          "variable": "inn2",
          "year": "2025"
         },
         {
          "value": 0,
          "variable": "inn2",
          "year": "2026"
         },
         {
          "value": 0,
          "variable": "inn2",
          "year": "2027"
         },
         {
          "value": 0,
          "variable": "inn2",
          "year": "2028"
         },
         {
          "value": 0,
          "variable": "inn2",
          "year": "2029"
         },
         {
          "value": 0,
          "variable": "inn2",
          "year": "2030"
         },
         {
          "value": 0,
          "variable": "inn2",
          "year": "2031"
         },
         {
          "value": 0,
          "variable": "inn2",
          "year": "2032"
         },
         {
          "value": 0,
          "variable": "inn2",
          "year": "2033"
         },
         {
          "value": 0,
          "variable": "inn2",
          "year": "2034"
         },
         {
          "value": 0,
          "variable": "inn2",
          "year": "2035"
         },
         {
          "value": 0,
          "variable": "inn2",
          "year": "2036"
         },
         {
          "value": 0,
          "variable": "inn2",
          "year": "2037"
         },
         {
          "value": 0,
          "variable": "inn2",
          "year": "2038"
         },
         {
          "value": 0,
          "variable": "inn2",
          "year": "2039"
         },
         {
          "value": 0,
          "variable": "inn2",
          "year": "2040"
         },
         {
          "value": 0,
          "variable": "inn2",
          "year": "2041"
         },
         {
          "value": 0,
          "variable": "inn2",
          "year": "2042"
         },
         {
          "value": 0,
          "variable": "inn2",
          "year": "2043"
         },
         {
          "value": 0,
          "variable": "inn2",
          "year": "2044"
         },
         {
          "value": 0,
          "variable": "inn2",
          "year": "2045"
         },
         {
          "value": 0,
          "variable": "inn2",
          "year": "2046"
         },
         {
          "value": 0,
          "variable": "inn2",
          "year": "2047"
         },
         {
          "value": 0,
          "variable": "inn2",
          "year": "2048"
         },
         {
          "value": 0,
          "variable": "inn2",
          "year": "2049"
         },
         {
          "value": 0,
          "variable": "inn2",
          "year": "2050"
         },
         {
          "value": 0,
          "variable": "inn2",
          "year": "2051"
         },
         {
          "value": 0,
          "variable": "inn2",
          "year": "2052"
         },
         {
          "value": 0,
          "variable": "inn2",
          "year": "2053"
         },
         {
          "value": 0,
          "variable": "inn2",
          "year": "2054"
         },
         {
          "value": 0,
          "variable": "inn2",
          "year": "2055"
         },
         {
          "value": 0,
          "variable": "inn3",
          "year": "2020"
         },
         {
          "value": 0,
          "variable": "inn3",
          "year": "2021"
         },
         {
          "value": 0,
          "variable": "inn3",
          "year": "2022"
         },
         {
          "value": 0,
          "variable": "inn3",
          "year": "2023"
         },
         {
          "value": 0,
          "variable": "inn3",
          "year": "2024"
         },
         {
          "value": 0,
          "variable": "inn3",
          "year": "2025"
         },
         {
          "value": 0,
          "variable": "inn3",
          "year": "2026"
         },
         {
          "value": 0,
          "variable": "inn3",
          "year": "2027"
         },
         {
          "value": 0,
          "variable": "inn3",
          "year": "2028"
         },
         {
          "value": 0,
          "variable": "inn3",
          "year": "2029"
         },
         {
          "value": 0,
          "variable": "inn3",
          "year": "2030"
         },
         {
          "value": 0,
          "variable": "inn3",
          "year": "2031"
         },
         {
          "value": 0,
          "variable": "inn3",
          "year": "2032"
         },
         {
          "value": 0,
          "variable": "inn3",
          "year": "2033"
         },
         {
          "value": 0,
          "variable": "inn3",
          "year": "2034"
         },
         {
          "value": 0,
          "variable": "inn3",
          "year": "2035"
         },
         {
          "value": 0,
          "variable": "inn3",
          "year": "2036"
         },
         {
          "value": 0,
          "variable": "inn3",
          "year": "2037"
         },
         {
          "value": 0,
          "variable": "inn3",
          "year": "2038"
         },
         {
          "value": 0,
          "variable": "inn3",
          "year": "2039"
         },
         {
          "value": 0,
          "variable": "inn3",
          "year": "2040"
         },
         {
          "value": 0,
          "variable": "inn3",
          "year": "2041"
         },
         {
          "value": 0,
          "variable": "inn3",
          "year": "2042"
         },
         {
          "value": 0,
          "variable": "inn3",
          "year": "2043"
         },
         {
          "value": 0,
          "variable": "inn3",
          "year": "2044"
         },
         {
          "value": 0,
          "variable": "inn3",
          "year": "2045"
         },
         {
          "value": 0,
          "variable": "inn3",
          "year": "2046"
         },
         {
          "value": 0,
          "variable": "inn3",
          "year": "2047"
         },
         {
          "value": 0,
          "variable": "inn3",
          "year": "2048"
         },
         {
          "value": 0,
          "variable": "inn3",
          "year": "2049"
         },
         {
          "value": 0,
          "variable": "inn3",
          "year": "2050"
         },
         {
          "value": 0,
          "variable": "inn3",
          "year": "2051"
         },
         {
          "value": 0,
          "variable": "inn3",
          "year": "2052"
         },
         {
          "value": 0,
          "variable": "inn3",
          "year": "2053"
         },
         {
          "value": 0,
          "variable": "inn3",
          "year": "2054"
         },
         {
          "value": 0,
          "variable": "inn3",
          "year": "2055"
         },
         {
          "value": 0,
          "variable": "inn4",
          "year": "2020"
         },
         {
          "value": 0,
          "variable": "inn4",
          "year": "2021"
         },
         {
          "value": 0,
          "variable": "inn4",
          "year": "2022"
         },
         {
          "value": 0,
          "variable": "inn4",
          "year": "2023"
         },
         {
          "value": 0,
          "variable": "inn4",
          "year": "2024"
         },
         {
          "value": 0,
          "variable": "inn4",
          "year": "2025"
         },
         {
          "value": 0,
          "variable": "inn4",
          "year": "2026"
         },
         {
          "value": 0,
          "variable": "inn4",
          "year": "2027"
         },
         {
          "value": 0,
          "variable": "inn4",
          "year": "2028"
         },
         {
          "value": 0,
          "variable": "inn4",
          "year": "2029"
         },
         {
          "value": 0,
          "variable": "inn4",
          "year": "2030"
         },
         {
          "value": 0,
          "variable": "inn4",
          "year": "2031"
         },
         {
          "value": 0,
          "variable": "inn4",
          "year": "2032"
         },
         {
          "value": 0,
          "variable": "inn4",
          "year": "2033"
         },
         {
          "value": 0,
          "variable": "inn4",
          "year": "2034"
         },
         {
          "value": 0,
          "variable": "inn4",
          "year": "2035"
         },
         {
          "value": 0,
          "variable": "inn4",
          "year": "2036"
         },
         {
          "value": 0,
          "variable": "inn4",
          "year": "2037"
         },
         {
          "value": 0,
          "variable": "inn4",
          "year": "2038"
         },
         {
          "value": 0,
          "variable": "inn4",
          "year": "2039"
         },
         {
          "value": 0,
          "variable": "inn4",
          "year": "2040"
         },
         {
          "value": 0,
          "variable": "inn4",
          "year": "2041"
         },
         {
          "value": 0,
          "variable": "inn4",
          "year": "2042"
         },
         {
          "value": 0,
          "variable": "inn4",
          "year": "2043"
         },
         {
          "value": 0,
          "variable": "inn4",
          "year": "2044"
         },
         {
          "value": 0,
          "variable": "inn4",
          "year": "2045"
         },
         {
          "value": 0,
          "variable": "inn4",
          "year": "2046"
         },
         {
          "value": 0,
          "variable": "inn4",
          "year": "2047"
         },
         {
          "value": 0,
          "variable": "inn4",
          "year": "2048"
         },
         {
          "value": 0,
          "variable": "inn4",
          "year": "2049"
         },
         {
          "value": 0,
          "variable": "inn4",
          "year": "2050"
         },
         {
          "value": 0,
          "variable": "inn4",
          "year": "2051"
         },
         {
          "value": 0,
          "variable": "inn4",
          "year": "2052"
         },
         {
          "value": 0,
          "variable": "inn4",
          "year": "2053"
         },
         {
          "value": 0,
          "variable": "inn4",
          "year": "2054"
         },
         {
          "value": 0,
          "variable": "inn4",
          "year": "2055"
         },
         {
          "value": 0,
          "variable": "inn5",
          "year": "2020"
         },
         {
          "value": 0,
          "variable": "inn5",
          "year": "2021"
         },
         {
          "value": 0,
          "variable": "inn5",
          "year": "2022"
         },
         {
          "value": 0,
          "variable": "inn5",
          "year": "2023"
         },
         {
          "value": 0,
          "variable": "inn5",
          "year": "2024"
         },
         {
          "value": 0.95,
          "variable": "inn5",
          "year": "2025"
         },
         {
          "value": 0.95,
          "variable": "inn5",
          "year": "2026"
         },
         {
          "value": 0.95,
          "variable": "inn5",
          "year": "2027"
         },
         {
          "value": 0.95,
          "variable": "inn5",
          "year": "2028"
         },
         {
          "value": 0.95,
          "variable": "inn5",
          "year": "2029"
         },
         {
          "value": 0.36097918706126036,
          "variable": "inn5",
          "year": "2030"
         },
         {
          "value": 0.36097918706126036,
          "variable": "inn5",
          "year": "2031"
         },
         {
          "value": 0.36097918706126036,
          "variable": "inn5",
          "year": "2032"
         },
         {
          "value": 0.36097918706126036,
          "variable": "inn5",
          "year": "2033"
         },
         {
          "value": 0.36097918706126036,
          "variable": "inn5",
          "year": "2034"
         },
         {
          "value": 0.36097918706126036,
          "variable": "inn5",
          "year": "2035"
         },
         {
          "value": 0.36097918706126036,
          "variable": "inn5",
          "year": "2036"
         },
         {
          "value": 0.36097918706126036,
          "variable": "inn5",
          "year": "2037"
         },
         {
          "value": 0.36097918706126036,
          "variable": "inn5",
          "year": "2038"
         },
         {
          "value": 0.36097918706126036,
          "variable": "inn5",
          "year": "2039"
         },
         {
          "value": 0,
          "variable": "inn5",
          "year": "2040"
         },
         {
          "value": 0,
          "variable": "inn5",
          "year": "2041"
         },
         {
          "value": 0,
          "variable": "inn5",
          "year": "2042"
         },
         {
          "value": 0,
          "variable": "inn5",
          "year": "2043"
         },
         {
          "value": 0,
          "variable": "inn5",
          "year": "2044"
         },
         {
          "value": 0.354483495885327,
          "variable": "inn5",
          "year": "2045"
         },
         {
          "value": 0.354483495885327,
          "variable": "inn5",
          "year": "2046"
         },
         {
          "value": 0.354483495885327,
          "variable": "inn5",
          "year": "2047"
         },
         {
          "value": 0.354483495885327,
          "variable": "inn5",
          "year": "2048"
         },
         {
          "value": 0.354483495885327,
          "variable": "inn5",
          "year": "2049"
         },
         {
          "value": 0.354483495885327,
          "variable": "inn5",
          "year": "2050"
         },
         {
          "value": 0.354483495885327,
          "variable": "inn5",
          "year": "2051"
         },
         {
          "value": 0.354483495885327,
          "variable": "inn5",
          "year": "2052"
         },
         {
          "value": 0.354483495885327,
          "variable": "inn5",
          "year": "2053"
         },
         {
          "value": 0.354483495885327,
          "variable": "inn5",
          "year": "2054"
         },
         {
          "value": 0.354483495885327,
          "variable": "inn5",
          "year": "2055"
         },
         {
          "value": 0,
          "variable": "inn6",
          "year": "2020"
         },
         {
          "value": 0,
          "variable": "inn6",
          "year": "2021"
         },
         {
          "value": 0,
          "variable": "inn6",
          "year": "2022"
         },
         {
          "value": 0,
          "variable": "inn6",
          "year": "2023"
         },
         {
          "value": 0,
          "variable": "inn6",
          "year": "2024"
         },
         {
          "value": 0,
          "variable": "inn6",
          "year": "2025"
         },
         {
          "value": 0,
          "variable": "inn6",
          "year": "2026"
         },
         {
          "value": 0,
          "variable": "inn6",
          "year": "2027"
         },
         {
          "value": 0,
          "variable": "inn6",
          "year": "2028"
         },
         {
          "value": 0,
          "variable": "inn6",
          "year": "2029"
         },
         {
          "value": 0,
          "variable": "inn6",
          "year": "2030"
         },
         {
          "value": 0,
          "variable": "inn6",
          "year": "2031"
         },
         {
          "value": 0,
          "variable": "inn6",
          "year": "2032"
         },
         {
          "value": 0,
          "variable": "inn6",
          "year": "2033"
         },
         {
          "value": 0,
          "variable": "inn6",
          "year": "2034"
         },
         {
          "value": 0,
          "variable": "inn6",
          "year": "2035"
         },
         {
          "value": 0,
          "variable": "inn6",
          "year": "2036"
         },
         {
          "value": 0,
          "variable": "inn6",
          "year": "2037"
         },
         {
          "value": 0,
          "variable": "inn6",
          "year": "2038"
         },
         {
          "value": 0,
          "variable": "inn6",
          "year": "2039"
         },
         {
          "value": 0,
          "variable": "inn6",
          "year": "2040"
         },
         {
          "value": 0,
          "variable": "inn6",
          "year": "2041"
         },
         {
          "value": 0,
          "variable": "inn6",
          "year": "2042"
         },
         {
          "value": 0,
          "variable": "inn6",
          "year": "2043"
         },
         {
          "value": 0,
          "variable": "inn6",
          "year": "2044"
         },
         {
          "value": 0,
          "variable": "inn6",
          "year": "2045"
         },
         {
          "value": 0,
          "variable": "inn6",
          "year": "2046"
         },
         {
          "value": 0,
          "variable": "inn6",
          "year": "2047"
         },
         {
          "value": 0,
          "variable": "inn6",
          "year": "2048"
         },
         {
          "value": 0,
          "variable": "inn6",
          "year": "2049"
         },
         {
          "value": 0,
          "variable": "inn6",
          "year": "2050"
         },
         {
          "value": 0,
          "variable": "inn6",
          "year": "2051"
         },
         {
          "value": 0,
          "variable": "inn6",
          "year": "2052"
         },
         {
          "value": 0,
          "variable": "inn6",
          "year": "2053"
         },
         {
          "value": 0,
          "variable": "inn6",
          "year": "2054"
         },
         {
          "value": 0,
          "variable": "inn6",
          "year": "2055"
         },
         {
          "value": 0,
          "variable": "inn7",
          "year": "2020"
         },
         {
          "value": 0,
          "variable": "inn7",
          "year": "2021"
         },
         {
          "value": 0,
          "variable": "inn7",
          "year": "2022"
         },
         {
          "value": 0,
          "variable": "inn7",
          "year": "2023"
         },
         {
          "value": 0,
          "variable": "inn7",
          "year": "2024"
         },
         {
          "value": 0,
          "variable": "inn7",
          "year": "2025"
         },
         {
          "value": 0,
          "variable": "inn7",
          "year": "2026"
         },
         {
          "value": 0,
          "variable": "inn7",
          "year": "2027"
         },
         {
          "value": 0,
          "variable": "inn7",
          "year": "2028"
         },
         {
          "value": 0,
          "variable": "inn7",
          "year": "2029"
         },
         {
          "value": 0,
          "variable": "inn7",
          "year": "2030"
         },
         {
          "value": 0,
          "variable": "inn7",
          "year": "2031"
         },
         {
          "value": 0,
          "variable": "inn7",
          "year": "2032"
         },
         {
          "value": 0,
          "variable": "inn7",
          "year": "2033"
         },
         {
          "value": 0,
          "variable": "inn7",
          "year": "2034"
         },
         {
          "value": 0,
          "variable": "inn7",
          "year": "2035"
         },
         {
          "value": 0,
          "variable": "inn7",
          "year": "2036"
         },
         {
          "value": 0,
          "variable": "inn7",
          "year": "2037"
         },
         {
          "value": 0,
          "variable": "inn7",
          "year": "2038"
         },
         {
          "value": 0,
          "variable": "inn7",
          "year": "2039"
         },
         {
          "value": 0,
          "variable": "inn7",
          "year": "2040"
         },
         {
          "value": 0,
          "variable": "inn7",
          "year": "2041"
         },
         {
          "value": 0,
          "variable": "inn7",
          "year": "2042"
         },
         {
          "value": 0,
          "variable": "inn7",
          "year": "2043"
         },
         {
          "value": 0,
          "variable": "inn7",
          "year": "2044"
         },
         {
          "value": 0,
          "variable": "inn7",
          "year": "2045"
         },
         {
          "value": 0,
          "variable": "inn7",
          "year": "2046"
         },
         {
          "value": 0,
          "variable": "inn7",
          "year": "2047"
         },
         {
          "value": 0,
          "variable": "inn7",
          "year": "2048"
         },
         {
          "value": 0,
          "variable": "inn7",
          "year": "2049"
         },
         {
          "value": 0,
          "variable": "inn7",
          "year": "2050"
         },
         {
          "value": 0,
          "variable": "inn7",
          "year": "2051"
         },
         {
          "value": 0,
          "variable": "inn7",
          "year": "2052"
         },
         {
          "value": 0,
          "variable": "inn7",
          "year": "2053"
         },
         {
          "value": 0,
          "variable": "inn7",
          "year": "2054"
         },
         {
          "value": 0,
          "variable": "inn7",
          "year": "2055"
         },
         {
          "value": 0,
          "variable": "inn8",
          "year": "2020"
         },
         {
          "value": 0,
          "variable": "inn8",
          "year": "2021"
         },
         {
          "value": 0,
          "variable": "inn8",
          "year": "2022"
         },
         {
          "value": 0,
          "variable": "inn8",
          "year": "2023"
         },
         {
          "value": 0,
          "variable": "inn8",
          "year": "2024"
         },
         {
          "value": 0,
          "variable": "inn8",
          "year": "2025"
         },
         {
          "value": 0,
          "variable": "inn8",
          "year": "2026"
         },
         {
          "value": 0,
          "variable": "inn8",
          "year": "2027"
         },
         {
          "value": 0,
          "variable": "inn8",
          "year": "2028"
         },
         {
          "value": 0,
          "variable": "inn8",
          "year": "2029"
         },
         {
          "value": 0,
          "variable": "inn8",
          "year": "2030"
         },
         {
          "value": 0,
          "variable": "inn8",
          "year": "2031"
         },
         {
          "value": 0,
          "variable": "inn8",
          "year": "2032"
         },
         {
          "value": 0,
          "variable": "inn8",
          "year": "2033"
         },
         {
          "value": 0,
          "variable": "inn8",
          "year": "2034"
         },
         {
          "value": 0,
          "variable": "inn8",
          "year": "2035"
         },
         {
          "value": 0,
          "variable": "inn8",
          "year": "2036"
         },
         {
          "value": 0,
          "variable": "inn8",
          "year": "2037"
         },
         {
          "value": 0,
          "variable": "inn8",
          "year": "2038"
         },
         {
          "value": 0,
          "variable": "inn8",
          "year": "2039"
         },
         {
          "value": 0,
          "variable": "inn8",
          "year": "2040"
         },
         {
          "value": 0,
          "variable": "inn8",
          "year": "2041"
         },
         {
          "value": 0,
          "variable": "inn8",
          "year": "2042"
         },
         {
          "value": 0,
          "variable": "inn8",
          "year": "2043"
         },
         {
          "value": 0,
          "variable": "inn8",
          "year": "2044"
         },
         {
          "value": 0,
          "variable": "inn8",
          "year": "2045"
         },
         {
          "value": 0,
          "variable": "inn8",
          "year": "2046"
         },
         {
          "value": 0,
          "variable": "inn8",
          "year": "2047"
         },
         {
          "value": 0,
          "variable": "inn8",
          "year": "2048"
         },
         {
          "value": 0,
          "variable": "inn8",
          "year": "2049"
         },
         {
          "value": 0,
          "variable": "inn8",
          "year": "2050"
         },
         {
          "value": 0,
          "variable": "inn8",
          "year": "2051"
         },
         {
          "value": 0,
          "variable": "inn8",
          "year": "2052"
         },
         {
          "value": 0,
          "variable": "inn8",
          "year": "2053"
         },
         {
          "value": 0,
          "variable": "inn8",
          "year": "2054"
         },
         {
          "value": 0,
          "variable": "inn8",
          "year": "2055"
         },
         {
          "value": 0,
          "variable": "inn9",
          "year": "2020"
         },
         {
          "value": 0,
          "variable": "inn9",
          "year": "2021"
         },
         {
          "value": 0,
          "variable": "inn9",
          "year": "2022"
         },
         {
          "value": 0,
          "variable": "inn9",
          "year": "2023"
         },
         {
          "value": 0,
          "variable": "inn9",
          "year": "2024"
         },
         {
          "value": 0,
          "variable": "inn9",
          "year": "2025"
         },
         {
          "value": 0,
          "variable": "inn9",
          "year": "2026"
         },
         {
          "value": 0,
          "variable": "inn9",
          "year": "2027"
         },
         {
          "value": 0,
          "variable": "inn9",
          "year": "2028"
         },
         {
          "value": 0,
          "variable": "inn9",
          "year": "2029"
         },
         {
          "value": 0,
          "variable": "inn9",
          "year": "2030"
         },
         {
          "value": 0,
          "variable": "inn9",
          "year": "2031"
         },
         {
          "value": 0,
          "variable": "inn9",
          "year": "2032"
         },
         {
          "value": 0,
          "variable": "inn9",
          "year": "2033"
         },
         {
          "value": 0,
          "variable": "inn9",
          "year": "2034"
         },
         {
          "value": 0,
          "variable": "inn9",
          "year": "2035"
         },
         {
          "value": 0,
          "variable": "inn9",
          "year": "2036"
         },
         {
          "value": 0,
          "variable": "inn9",
          "year": "2037"
         },
         {
          "value": 0,
          "variable": "inn9",
          "year": "2038"
         },
         {
          "value": 0,
          "variable": "inn9",
          "year": "2039"
         },
         {
          "value": 0,
          "variable": "inn9",
          "year": "2040"
         },
         {
          "value": 0,
          "variable": "inn9",
          "year": "2041"
         },
         {
          "value": 0,
          "variable": "inn9",
          "year": "2042"
         },
         {
          "value": 0,
          "variable": "inn9",
          "year": "2043"
         },
         {
          "value": 0,
          "variable": "inn9",
          "year": "2044"
         },
         {
          "value": 0,
          "variable": "inn9",
          "year": "2045"
         },
         {
          "value": 0,
          "variable": "inn9",
          "year": "2046"
         },
         {
          "value": 0,
          "variable": "inn9",
          "year": "2047"
         },
         {
          "value": 0,
          "variable": "inn9",
          "year": "2048"
         },
         {
          "value": 0,
          "variable": "inn9",
          "year": "2049"
         },
         {
          "value": 0,
          "variable": "inn9",
          "year": "2050"
         },
         {
          "value": 0,
          "variable": "inn9",
          "year": "2051"
         },
         {
          "value": 0,
          "variable": "inn9",
          "year": "2052"
         },
         {
          "value": 0,
          "variable": "inn9",
          "year": "2053"
         },
         {
          "value": 0,
          "variable": "inn9",
          "year": "2054"
         },
         {
          "value": 0,
          "variable": "inn9",
          "year": "2055"
         },
         {
          "value": 0,
          "variable": "inn10",
          "year": "2020"
         },
         {
          "value": 1,
          "variable": "inn10",
          "year": "2021"
         },
         {
          "value": 1,
          "variable": "inn10",
          "year": "2022"
         },
         {
          "value": 1,
          "variable": "inn10",
          "year": "2023"
         },
         {
          "value": 1,
          "variable": "inn10",
          "year": "2024"
         },
         {
          "value": 0.04999999999999993,
          "variable": "inn10",
          "year": "2025"
         },
         {
          "value": 0.04999999999999993,
          "variable": "inn10",
          "year": "2026"
         },
         {
          "value": 0.04999999999999993,
          "variable": "inn10",
          "year": "2027"
         },
         {
          "value": 0.04999999999999993,
          "variable": "inn10",
          "year": "2028"
         },
         {
          "value": 0.04999999999999993,
          "variable": "inn10",
          "year": "2029"
         },
         {
          "value": 0.6390208129387396,
          "variable": "inn10",
          "year": "2030"
         },
         {
          "value": 0.6390208129387396,
          "variable": "inn10",
          "year": "2031"
         },
         {
          "value": 0.6390208129387396,
          "variable": "inn10",
          "year": "2032"
         },
         {
          "value": 0.6390208129387396,
          "variable": "inn10",
          "year": "2033"
         },
         {
          "value": 0.6390208129387396,
          "variable": "inn10",
          "year": "2034"
         },
         {
          "value": 0.6390208129387396,
          "variable": "inn10",
          "year": "2035"
         },
         {
          "value": 0.6390208129387396,
          "variable": "inn10",
          "year": "2036"
         },
         {
          "value": 0.6390208129387396,
          "variable": "inn10",
          "year": "2037"
         },
         {
          "value": 0.6390208129387396,
          "variable": "inn10",
          "year": "2038"
         },
         {
          "value": 0.6390208129387396,
          "variable": "inn10",
          "year": "2039"
         },
         {
          "value": 1,
          "variable": "inn10",
          "year": "2040"
         },
         {
          "value": 1,
          "variable": "inn10",
          "year": "2041"
         },
         {
          "value": 1,
          "variable": "inn10",
          "year": "2042"
         },
         {
          "value": 1,
          "variable": "inn10",
          "year": "2043"
         },
         {
          "value": 1,
          "variable": "inn10",
          "year": "2044"
         },
         {
          "value": 0.6409244382807946,
          "variable": "inn10",
          "year": "2045"
         },
         {
          "value": 0.6409244382807946,
          "variable": "inn10",
          "year": "2046"
         },
         {
          "value": 0.6409244382807946,
          "variable": "inn10",
          "year": "2047"
         },
         {
          "value": 0.6409244382807946,
          "variable": "inn10",
          "year": "2048"
         },
         {
          "value": 0.6409244382807946,
          "variable": "inn10",
          "year": "2049"
         },
         {
          "value": 0.6409244382807946,
          "variable": "inn10",
          "year": "2050"
         },
         {
          "value": 0.6409244382807946,
          "variable": "inn10",
          "year": "2051"
         },
         {
          "value": 0.6409244382807946,
          "variable": "inn10",
          "year": "2052"
         },
         {
          "value": 0.6409244382807946,
          "variable": "inn10",
          "year": "2053"
         },
         {
          "value": 0.6409244382807946,
          "variable": "inn10",
          "year": "2054"
         },
         {
          "value": 0.6409244382807946,
          "variable": "inn10",
          "year": "2055"
         }
        ]
       },
       "encoding": {
        "color": {
         "field": "variable",
         "type": "nominal"
        },
        "x": {
         "field": "year"
        },
        "y": {
         "field": "value",
         "stack": "zero",
         "title": "CO2",
         "type": "quantitative"
        }
       },
       "legend": "sNames",
       "mark": "area"
      },
      "image/png": "[encoded data removed]",
      "image/svg+xml": [
       "<?xml version=\"1.0\" encoding=\"utf-8\"?>\n",
       "<!DOCTYPE svg PUBLIC \"-//W3C//DTD SVG 1.1//EN\" \"http://www.w3.org/Graphics/SVG/1.1/DTD/svg11.dtd\">\n",
       "<svg xmlns=\"http://www.w3.org/2000/svg\" xmlns:xlink=\"http://www.w3.org/1999/xlink\" version=\"1.1\" class=\"marks\" width=\"834\" height=\"261\" viewBox=\"0 0 834 261\"><rect width=\"834\" height=\"261\" fill=\"white\"/><g fill=\"none\" stroke-miterlimit=\"10\" transform=\"translate(42,10)\"><g class=\"mark-group role-frame root\" role=\"graphics-object\" aria-roledescription=\"group mark container\"><g transform=\"translate(0,0)\"><path class=\"background\" aria-hidden=\"true\" d=\"M0.5,0.5h720v200h-720Z\" stroke=\"#ddd\"/><g><g class=\"mark-group role-axis\" aria-hidden=\"true\"><g transform=\"translate(0.5,0.5)\"><path class=\"background\" aria-hidden=\"true\" d=\"M0,0h0v0h0Z\" pointer-events=\"none\"/><g><g class=\"mark-rule role-axis-grid\" pointer-events=\"none\"><line transform=\"translate(0,200)\" x2=\"720\" y2=\"0\" stroke=\"#ddd\" stroke-width=\"1\" opacity=\"1\"/><line transform=\"translate(0,160)\" x2=\"720\" y2=\"0\" stroke=\"#ddd\" stroke-width=\"1\" opacity=\"1\"/><line transform=\"translate(0,120)\" x2=\"720\" y2=\"0\" stroke=\"#ddd\" stroke-width=\"1\" opacity=\"1\"/><line transform=\"translate(0,80)\" x2=\"720\" y2=\"0\" stroke=\"#ddd\" stroke-width=\"1\" opacity=\"1\"/><line transform=\"translate(0,40)\" x2=\"720\" y2=\"0\" stroke=\"#ddd\" stroke-width=\"1\" opacity=\"1\"/><line transform=\"translate(0,0)\" x2=\"720\" y2=\"0\" stroke=\"#ddd\" stroke-width=\"1\" opacity=\"1\"/></g></g><path class=\"foreground\" aria-hidden=\"true\" d=\"\" pointer-events=\"none\" display=\"none\"/></g></g><g class=\"mark-group role-axis\" role=\"graphics-symbol\" aria-roledescription=\"axis\" aria-label=\"X-axis titled 'year' for a discrete scale with 36 values: 2020, 2021, 2022, 2023, 2024, ending with 2055\"><g transform=\"translate(0.5,200.5)\"><path class=\"background\" aria-hidden=\"true\" d=\"M0,0h0v0h0Z\" pointer-events=\"none\"/><g><g class=\"mark-rule role-axis-tick\" pointer-events=\"none\"><line transform=\"translate(10,0)\" x2=\"0\" y2=\"5\" stroke=\"#888\" stroke-width=\"1\" opacity=\"1\"/><line transform=\"translate(30,0)\" x2=\"0\" y2=\"5\" stroke=\"#888\" stroke-width=\"1\" opacity=\"1\"/><line transform=\"translate(50,0)\" x2=\"0\" y2=\"5\" stroke=\"#888\" stroke-width=\"1\" opacity=\"1\"/><line transform=\"translate(70,0)\" x2=\"0\" y2=\"5\" stroke=\"#888\" stroke-width=\"1\" opacity=\"1\"/><line transform=\"translate(90,0)\" x2=\"0\" y2=\"5\" stroke=\"#888\" stroke-width=\"1\" opacity=\"1\"/><line transform=\"translate(110,0)\" x2=\"0\" y2=\"5\" stroke=\"#888\" stroke-width=\"1\" opacity=\"1\"/><line transform=\"translate(130,0)\" x2=\"0\" y2=\"5\" stroke=\"#888\" stroke-width=\"1\" opacity=\"1\"/><line transform=\"translate(150,0)\" x2=\"0\" y2=\"5\" stroke=\"#888\" stroke-width=\"1\" opacity=\"1\"/><line transform=\"translate(170,0)\" x2=\"0\" y2=\"5\" stroke=\"#888\" stroke-width=\"1\" opacity=\"1\"/><line transform=\"translate(190,0)\" x2=\"0\" y2=\"5\" stroke=\"#888\" stroke-width=\"1\" opacity=\"1\"/><line transform=\"translate(210,0)\" x2=\"0\" y2=\"5\" stroke=\"#888\" stroke-width=\"1\" opacity=\"1\"/><line transform=\"translate(230,0)\" x2=\"0\" y2=\"5\" stroke=\"#888\" stroke-width=\"1\" opacity=\"1\"/><line transform=\"translate(250,0)\" x2=\"0\" y2=\"5\" stroke=\"#888\" stroke-width=\"1\" opacity=\"1\"/><line transform=\"translate(270,0)\" x2=\"0\" y2=\"5\" stroke=\"#888\" stroke-width=\"1\" opacity=\"1\"/><line transform=\"translate(290,0)\" x2=\"0\" y2=\"5\" stroke=\"#888\" stroke-width=\"1\" opacity=\"1\"/><line transform=\"translate(310,0)\" x2=\"0\" y2=\"5\" stroke=\"#888\" stroke-width=\"1\" opacity=\"1\"/><line transform=\"translate(330,0)\" x2=\"0\" y2=\"5\" stroke=\"#888\" stroke-width=\"1\" opacity=\"1\"/><line transform=\"translate(350,0)\" x2=\"0\" y2=\"5\" stroke=\"#888\" stroke-width=\"1\" opacity=\"1\"/><line transform=\"translate(370,0)\" x2=\"0\" y2=\"5\" stroke=\"#888\" stroke-width=\"1\" opacity=\"1\"/><line transform=\"translate(390,0)\" x2=\"0\" y2=\"5\" stroke=\"#888\" stroke-width=\"1\" opacity=\"1\"/><line transform=\"translate(410,0)\" x2=\"0\" y2=\"5\" stroke=\"#888\" stroke-width=\"1\" opacity=\"1\"/><line transform=\"translate(430,0)\" x2=\"0\" y2=\"5\" stroke=\"#888\" stroke-width=\"1\" opacity=\"1\"/><line transform=\"translate(450,0)\" x2=\"0\" y2=\"5\" stroke=\"#888\" stroke-width=\"1\" opacity=\"1\"/><line transform=\"translate(470,0)\" x2=\"0\" y2=\"5\" stroke=\"#888\" stroke-width=\"1\" opacity=\"1\"/><line transform=\"translate(490,0)\" x2=\"0\" y2=\"5\" stroke=\"#888\" stroke-width=\"1\" opacity=\"1\"/><line transform=\"translate(510,0)\" x2=\"0\" y2=\"5\" stroke=\"#888\" stroke-width=\"1\" opacity=\"1\"/><line transform=\"translate(530,0)\" x2=\"0\" y2=\"5\" stroke=\"#888\" stroke-width=\"1\" opacity=\"1\"/><line transform=\"translate(550,0)\" x2=\"0\" y2=\"5\" stroke=\"#888\" stroke-width=\"1\" opacity=\"1\"/><line transform=\"translate(570,0)\" x2=\"0\" y2=\"5\" stroke=\"#888\" stroke-width=\"1\" opacity=\"1\"/><line transform=\"translate(590,0)\" x2=\"0\" y2=\"5\" stroke=\"#888\" stroke-width=\"1\" opacity=\"1\"/><line transform=\"translate(610,0)\" x2=\"0\" y2=\"5\" stroke=\"#888\" stroke-width=\"1\" opacity=\"1\"/><line transform=\"translate(630,0)\" x2=\"0\" y2=\"5\" stroke=\"#888\" stroke-width=\"1\" opacity=\"1\"/><line transform=\"translate(650,0)\" x2=\"0\" y2=\"5\" stroke=\"#888\" stroke-width=\"1\" opacity=\"1\"/><line transform=\"translate(670,0)\" x2=\"0\" y2=\"5\" stroke=\"#888\" stroke-width=\"1\" opacity=\"1\"/><line transform=\"translate(690,0)\" x2=\"0\" y2=\"5\" stroke=\"#888\" stroke-width=\"1\" opacity=\"1\"/><line transform=\"translate(710,0)\" x2=\"0\" y2=\"5\" stroke=\"#888\" stroke-width=\"1\" opacity=\"1\"/></g><g class=\"mark-text role-axis-label\" pointer-events=\"none\"><text text-anchor=\"end\" transform=\"translate(10,7) rotate(270) translate(0,3)\" font-family=\"sans-serif\" font-size=\"10px\" fill=\"#000\" opacity=\"1\">2020</text><text text-anchor=\"end\" transform=\"translate(30,7) rotate(270) translate(0,3)\" font-family=\"sans-serif\" font-size=\"10px\" fill=\"#000\" opacity=\"1\">2021</text><text text-anchor=\"end\" transform=\"translate(50,7) rotate(270) translate(0,3)\" font-family=\"sans-serif\" font-size=\"10px\" fill=\"#000\" opacity=\"1\">2022</text><text text-anchor=\"end\" transform=\"translate(70,7) rotate(270) translate(0,3)\" font-family=\"sans-serif\" font-size=\"10px\" fill=\"#000\" opacity=\"1\">2023</text><text text-anchor=\"end\" transform=\"translate(90,7) rotate(270) translate(0,3)\" font-family=\"sans-serif\" font-size=\"10px\" fill=\"#000\" opacity=\"1\">2024</text><text text-anchor=\"end\" transform=\"translate(110,7) rotate(270) translate(0,3)\" font-family=\"sans-serif\" font-size=\"10px\" fill=\"#000\" opacity=\"1\">2025</text><text text-anchor=\"end\" transform=\"translate(130,7) rotate(270) translate(0,3)\" font-family=\"sans-serif\" font-size=\"10px\" fill=\"#000\" opacity=\"1\">2026</text><text text-anchor=\"end\" transform=\"translate(150,7) rotate(270) translate(0,3)\" font-family=\"sans-serif\" font-size=\"10px\" fill=\"#000\" opacity=\"1\">2027</text><text text-anchor=\"end\" transform=\"translate(170,7) rotate(270) translate(0,3)\" font-family=\"sans-serif\" font-size=\"10px\" fill=\"#000\" opacity=\"1\">2028</text><text text-anchor=\"end\" transform=\"translate(190,7) rotate(270) translate(0,3)\" font-family=\"sans-serif\" font-size=\"10px\" fill=\"#000\" opacity=\"1\">2029</text><text text-anchor=\"end\" transform=\"translate(210,7) rotate(270) translate(0,3)\" font-family=\"sans-serif\" font-size=\"10px\" fill=\"#000\" opacity=\"1\">2030</text><text text-anchor=\"end\" transform=\"translate(230,7) rotate(270) translate(0,3)\" font-family=\"sans-serif\" font-size=\"10px\" fill=\"#000\" opacity=\"1\">2031</text><text text-anchor=\"end\" transform=\"translate(250,7) rotate(270) translate(0,3)\" font-family=\"sans-serif\" font-size=\"10px\" fill=\"#000\" opacity=\"1\">2032</text><text text-anchor=\"end\" transform=\"translate(270,7) rotate(270) translate(0,3)\" font-family=\"sans-serif\" font-size=\"10px\" fill=\"#000\" opacity=\"1\">2033</text><text text-anchor=\"end\" transform=\"translate(290,7) rotate(270) translate(0,3)\" font-family=\"sans-serif\" font-size=\"10px\" fill=\"#000\" opacity=\"1\">2034</text><text text-anchor=\"end\" transform=\"translate(310,7) rotate(270) translate(0,3)\" font-family=\"sans-serif\" font-size=\"10px\" fill=\"#000\" opacity=\"1\">2035</text><text text-anchor=\"end\" transform=\"translate(330,7) rotate(270) translate(0,3)\" font-family=\"sans-serif\" font-size=\"10px\" fill=\"#000\" opacity=\"1\">2036</text><text text-anchor=\"end\" transform=\"translate(350,7) rotate(270) translate(0,3)\" font-family=\"sans-serif\" font-size=\"10px\" fill=\"#000\" opacity=\"1\">2037</text><text text-anchor=\"end\" transform=\"translate(370,7) rotate(270) translate(0,3)\" font-family=\"sans-serif\" font-size=\"10px\" fill=\"#000\" opacity=\"1\">2038</text><text text-anchor=\"end\" transform=\"translate(390,7) rotate(270) translate(0,3)\" font-family=\"sans-serif\" font-size=\"10px\" fill=\"#000\" opacity=\"1\">2039</text><text text-anchor=\"end\" transform=\"translate(410,7) rotate(270) translate(0,3)\" font-family=\"sans-serif\" font-size=\"10px\" fill=\"#000\" opacity=\"1\">2040</text><text text-anchor=\"end\" transform=\"translate(430,7) rotate(270) translate(0,3)\" font-family=\"sans-serif\" font-size=\"10px\" fill=\"#000\" opacity=\"1\">2041</text><text text-anchor=\"end\" transform=\"translate(450,7) rotate(270) translate(0,3)\" font-family=\"sans-serif\" font-size=\"10px\" fill=\"#000\" opacity=\"1\">2042</text><text text-anchor=\"end\" transform=\"translate(470,7) rotate(270) translate(0,3)\" font-family=\"sans-serif\" font-size=\"10px\" fill=\"#000\" opacity=\"1\">2043</text><text text-anchor=\"end\" transform=\"translate(490,7) rotate(270) translate(0,3)\" font-family=\"sans-serif\" font-size=\"10px\" fill=\"#000\" opacity=\"1\">2044</text><text text-anchor=\"end\" transform=\"translate(510,7) rotate(270) translate(0,3)\" font-family=\"sans-serif\" font-size=\"10px\" fill=\"#000\" opacity=\"1\">2045</text><text text-anchor=\"end\" transform=\"translate(530,7) rotate(270) translate(0,3)\" font-family=\"sans-serif\" font-size=\"10px\" fill=\"#000\" opacity=\"1\">2046</text><text text-anchor=\"end\" transform=\"translate(550,7) rotate(270) translate(0,3)\" font-family=\"sans-serif\" font-size=\"10px\" fill=\"#000\" opacity=\"1\">2047</text><text text-anchor=\"end\" transform=\"translate(570,7) rotate(270) translate(0,3)\" font-family=\"sans-serif\" font-size=\"10px\" fill=\"#000\" opacity=\"1\">2048</text><text text-anchor=\"end\" transform=\"translate(590,7) rotate(270) translate(0,3)\" font-family=\"sans-serif\" font-size=\"10px\" fill=\"#000\" opacity=\"1\">2049</text><text text-anchor=\"end\" transform=\"translate(610,7) rotate(270) translate(0,3)\" font-family=\"sans-serif\" font-size=\"10px\" fill=\"#000\" opacity=\"1\">2050</text><text text-anchor=\"end\" transform=\"translate(630,7) rotate(270) translate(0,3)\" font-family=\"sans-serif\" font-size=\"10px\" fill=\"#000\" opacity=\"1\">2051</text><text text-anchor=\"end\" transform=\"translate(650,7) rotate(270) translate(0,3)\" font-family=\"sans-serif\" font-size=\"10px\" fill=\"#000\" opacity=\"1\">2052</text><text text-anchor=\"end\" transform=\"translate(670,7) rotate(270) translate(0,3)\" font-family=\"sans-serif\" font-size=\"10px\" fill=\"#000\" opacity=\"1\">2053</text><text text-anchor=\"end\" transform=\"translate(690,7) rotate(270) translate(0,3)\" font-family=\"sans-serif\" font-size=\"10px\" fill=\"#000\" opacity=\"1\">2054</text><text text-anchor=\"end\" transform=\"translate(710,7) rotate(270) translate(0,3)\" font-family=\"sans-serif\" font-size=\"10px\" fill=\"#000\" opacity=\"1\">2055</text></g><g class=\"mark-rule role-axis-domain\" pointer-events=\"none\"><line transform=\"translate(0,0)\" x2=\"720\" y2=\"0\" stroke=\"#888\" stroke-width=\"1\" opacity=\"1\"/></g><g class=\"mark-text role-axis-title\" pointer-events=\"none\"><text text-anchor=\"middle\" transform=\"translate(360,44)\" font-family=\"sans-serif\" font-size=\"11px\" font-weight=\"bold\" fill=\"#000\" opacity=\"1\">year</text></g></g><path class=\"foreground\" aria-hidden=\"true\" d=\"\" pointer-events=\"none\" display=\"none\"/></g></g><g class=\"mark-group role-axis\" role=\"graphics-symbol\" aria-roledescription=\"axis\" aria-label=\"Y-axis titled 'CO2' for a linear scale with values from 0.0 to 1.0\"><g transform=\"translate(0.5,0.5)\"><path class=\"background\" aria-hidden=\"true\" d=\"M0,0h0v0h0Z\" pointer-events=\"none\"/><g><g class=\"mark-rule role-axis-tick\" pointer-events=\"none\"><line transform=\"translate(0,200)\" x2=\"-5\" y2=\"0\" stroke=\"#888\" stroke-width=\"1\" opacity=\"1\"/><line transform=\"translate(0,160)\" x2=\"-5\" y2=\"0\" stroke=\"#888\" stroke-width=\"1\" opacity=\"1\"/><line transform=\"translate(0,120)\" x2=\"-5\" y2=\"0\" stroke=\"#888\" stroke-width=\"1\" opacity=\"1\"/><line transform=\"translate(0,80)\" x2=\"-5\" y2=\"0\" stroke=\"#888\" stroke-width=\"1\" opacity=\"1\"/><line transform=\"translate(0,40)\" x2=\"-5\" y2=\"0\" stroke=\"#888\" stroke-width=\"1\" opacity=\"1\"/><line transform=\"translate(0,0)\" x2=\"-5\" y2=\"0\" stroke=\"#888\" stroke-width=\"1\" opacity=\"1\"/></g><g class=\"mark-text role-axis-label\" pointer-events=\"none\"><text text-anchor=\"end\" transform=\"translate(-7,203)\" font-family=\"sans-serif\" font-size=\"10px\" fill=\"#000\" opacity=\"1\">0.0</text><text text-anchor=\"end\" transform=\"translate(-7,163)\" font-family=\"sans-serif\" font-size=\"10px\" fill=\"#000\" opacity=\"1\">0.2</text><text text-anchor=\"end\" transform=\"translate(-7,123)\" font-family=\"sans-serif\" font-size=\"10px\" fill=\"#000\" opacity=\"1\">0.4</text><text text-anchor=\"end\" transform=\"translate(-7,83)\" font-family=\"sans-serif\" font-size=\"10px\" fill=\"#000\" opacity=\"1\">0.6</text><text text-anchor=\"end\" transform=\"translate(-7,42.99999999999999)\" font-family=\"sans-serif\" font-size=\"10px\" fill=\"#000\" opacity=\"1\">0.8</text><text text-anchor=\"end\" transform=\"translate(-7,3)\" font-family=\"sans-serif\" font-size=\"10px\" fill=\"#000\" opacity=\"1\">1.0</text></g><g class=\"mark-rule role-axis-domain\" pointer-events=\"none\"><line transform=\"translate(0,200)\" x2=\"0\" y2=\"-200\" stroke=\"#888\" stroke-width=\"1\" opacity=\"1\"/></g><g class=\"mark-text role-axis-title\" pointer-events=\"none\"><text text-anchor=\"middle\" transform=\"translate(-26,100) rotate(-90) translate(0,-2)\" font-family=\"sans-serif\" font-size=\"11px\" font-weight=\"bold\" fill=\"#000\" opacity=\"1\">CO2</text></g></g><path class=\"foreground\" aria-hidden=\"true\" d=\"\" pointer-events=\"none\" display=\"none\"/></g></g><g class=\"mark-group role-scope pathgroup\" role=\"graphics-object\" aria-roledescription=\"group mark container\"><g transform=\"translate(0,0)\"><path class=\"background\" aria-hidden=\"true\" d=\"M0,0h720v200h-720Z\"/><g><g class=\"mark-area role-mark marks\" role=\"graphics-object\" aria-roledescription=\"area mark container\"><path aria-label=\"year: 2020; CO2: 0.12; variable: conv\" role=\"graphics-symbol\" aria-roledescription=\"area mark\" d=\"M10,176L30,0L50,0L70,0L90,0L110,0L130,0L150,0L170,0L190,0L210,0L230,0L250,0L270,0L290,0L310,0L330,0L350,0L370,0L390,0L410,0L430,0L450,0L470,0L490,0L510,0L530,0L550,0L570,0L590,0L610,0L630,0L650,0L670,0L690,0L710,0L710,0.9184131667756779L690,0.9184131667756779L670,0.9184131667756779L650,0.9184131667756779L630,0.9184131667756779L610,0.9184131667756779L590,0.9184131667756779L570,0.9184131667756779L550,0.9184131667756779L530,0.9184131667756779L510,0.9184131667756779L490,0L470,0L450,0L430,0L410,0L390,0L370,0L350,0L330,0L310,0L290,0L270,0L250,0L230,0L210,0L190,2.220446049250313e-14L170,2.220446049250313e-14L150,2.220446049250313e-14L130,2.220446049250313e-14L110,2.220446049250313e-14L90,0L70,0L50,0L30,0L10,200Z\" fill=\"#4c78a8\"/></g></g><path class=\"foreground\" aria-hidden=\"true\" d=\"\" display=\"none\"/></g><g transform=\"translate(0,0)\"><path class=\"background\" aria-hidden=\"true\" d=\"M0,0h720v200h-720Z\"/><g><g class=\"mark-area role-mark marks\" role=\"graphics-object\" aria-roledescription=\"area mark container\"><path aria-label=\"year: 2020; CO2: 0; variable: inn1\" role=\"graphics-symbol\" aria-roledescription=\"area mark\" d=\"M10,200L30,0L50,0L70,0L90,0L110,2.220446049250313e-14L130,2.220446049250313e-14L150,2.220446049250313e-14L170,2.220446049250313e-14L190,2.220446049250313e-14L210,0L230,0L250,0L270,0L290,0L310,0L330,0L350,0L370,0L390,0L410,0L430,0L450,0L470,0L490,0L510,0.9184131667756779L530,0.9184131667756779L550,0.9184131667756779L570,0.9184131667756779L590,0.9184131667756779L610,0.9184131667756779L630,0.9184131667756779L650,0.9184131667756779L670,0.9184131667756779L690,0.9184131667756779L710,0.9184131667756779L710,0.9184131667756779L690,0.9184131667756779L670,0.9184131667756779L650,0.9184131667756779L630,0.9184131667756779L610,0.9184131667756779L590,0.9184131667756779L570,0.9184131667756779L550,0.9184131667756779L530,0.9184131667756779L510,0.9184131667756779L490,0L470,0L450,0L430,0L410,0L390,0L370,0L350,0L330,0L310,0L290,0L270,0L250,0L230,0L210,0L190,2.220446049250313e-14L170,2.220446049250313e-14L150,2.220446049250313e-14L130,2.220446049250313e-14L110,2.220446049250313e-14L90,0L70,0L50,0L30,0L10,200Z\" fill=\"#f58518\"/></g></g><path class=\"foreground\" aria-hidden=\"true\" d=\"\" display=\"none\"/></g><g transform=\"translate(0,0)\"><path class=\"background\" aria-hidden=\"true\" d=\"M0,0h720v200h-720Z\"/><g><g class=\"mark-area role-mark marks\" role=\"graphics-object\" aria-roledescription=\"area mark container\"><path aria-label=\"year: 2020; CO2: 0; variable: inn2\" role=\"graphics-symbol\" aria-roledescription=\"area mark\" d=\"M10,200L30,200L50,200L70,200L90,200L110,10.000000000000009L130,10.000000000000009L150,10.000000000000009L170,10.000000000000009L190,10.000000000000009L210,127.80416258774791L230,127.80416258774791L250,127.80416258774791L270,127.80416258774791L290,127.80416258774791L310,127.80416258774791L330,127.80416258774791L350,127.80416258774791L370,127.80416258774791L390,127.80416258774791L410,200L430,200L450,200L470,200L490,200L510,129.10330082293459L530,129.10330082293459L550,129.10330082293459L570,129.10330082293459L590,129.10330082293459L610,129.10330082293459L630,129.10330082293459L650,129.10330082293459L670,129.10330082293459L690,129.10330082293459L710,129.10330082293459L710,129.10330082293459L690,129.10330082293459L670,129.10330082293459L650,129.10330082293459L630,129.10330082293459L610,129.10330082293459L590,129.10330082293459L570,129.10330082293459L550,129.10330082293459L530,129.10330082293459L510,129.10330082293459L490,200L470,200L450,200L430,200L410,200L390,127.80416258774791L370,127.80416258774791L350,127.80416258774791L330,127.80416258774791L310,127.80416258774791L290,127.80416258774791L270,127.80416258774791L250,127.80416258774791L230,127.80416258774791L210,127.80416258774791L190,10.000000000000009L170,10.000000000000009L150,10.000000000000009L130,10.000000000000009L110,10.000000000000009L90,200L70,200L50,200L30,200L10,200Z\" fill=\"#72b7b2\"/></g></g><path class=\"foreground\" aria-hidden=\"true\" d=\"\" display=\"none\"/></g><g transform=\"translate(0,0)\"><path class=\"background\" aria-hidden=\"true\" d=\"M0,0h720v200h-720Z\"/><g><g class=\"mark-area role-mark marks\" role=\"graphics-object\" aria-roledescription=\"area mark container\"><path aria-label=\"year: 2020; CO2: 0; variable: inn3\" role=\"graphics-symbol\" aria-roledescription=\"area mark\" d=\"M10,200L30,200L50,200L70,200L90,200L110,10.000000000000009L130,10.000000000000009L150,10.000000000000009L170,10.000000000000009L190,10.000000000000009L210,127.80416258774791L230,127.80416258774791L250,127.80416258774791L270,127.80416258774791L290,127.80416258774791L310,127.80416258774791L330,127.80416258774791L350,127.80416258774791L370,127.80416258774791L390,127.80416258774791L410,200L430,200L450,200L470,200L490,200L510,129.10330082293459L530,129.10330082293459L550,129.10330082293459L570,129.10330082293459L590,129.10330082293459L610,129.10330082293459L630,129.10330082293459L650,129.10330082293459L670,129.10330082293459L690,129.10330082293459L710,129.10330082293459L710,129.10330082293459L690,129.10330082293459L670,129.10330082293459L650,129.10330082293459L630,129.10330082293459L610,129.10330082293459L590,129.10330082293459L570,129.10330082293459L550,129.10330082293459L530,129.10330082293459L510,129.10330082293459L490,200L470,200L450,200L430,200L410,200L390,127.80416258774791L370,127.80416258774791L350,127.80416258774791L330,127.80416258774791L310,127.80416258774791L290,127.80416258774791L270,127.80416258774791L250,127.80416258774791L230,127.80416258774791L210,127.80416258774791L190,10.000000000000009L170,10.000000000000009L150,10.000000000000009L130,10.000000000000009L110,10.000000000000009L90,200L70,200L50,200L30,200L10,200Z\" fill=\"#54a24b\"/></g></g><path class=\"foreground\" aria-hidden=\"true\" d=\"\" display=\"none\"/></g><g transform=\"translate(0,0)\"><path class=\"background\" aria-hidden=\"true\" d=\"M0,0h720v200h-720Z\"/><g><g class=\"mark-area role-mark marks\" role=\"graphics-object\" aria-roledescription=\"area mark container\"><path aria-label=\"year: 2020; CO2: 0; variable: inn4\" role=\"graphics-symbol\" aria-roledescription=\"area mark\" d=\"M10,200L30,200L50,200L70,200L90,200L110,10.000000000000009L130,10.000000000000009L150,10.000000000000009L170,10.000000000000009L190,10.000000000000009L210,127.80416258774791L230,127.80416258774791L250,127.80416258774791L270,127.80416258774791L290,127.80416258774791L310,127.80416258774791L330,127.80416258774791L350,127.80416258774791L370,127.80416258774791L390,127.80416258774791L410,200L430,200L450,200L470,200L490,200L510,129.10330082293459L530,129.10330082293459L550,129.10330082293459L570,129.10330082293459L590,129.10330082293459L610,129.10330082293459L630,129.10330082293459L650,129.10330082293459L670,129.10330082293459L690,129.10330082293459L710,129.10330082293459L710,129.10330082293459L690,129.10330082293459L670,129.10330082293459L650,129.10330082293459L630,129.10330082293459L610,129.10330082293459L590,129.10330082293459L570,129.10330082293459L550,129.10330082293459L530,129.10330082293459L510,129.10330082293459L490,200L470,200L450,200L430,200L410,200L390,127.80416258774791L370,127.80416258774791L350,127.80416258774791L330,127.80416258774791L310,127.80416258774791L290,127.80416258774791L270,127.80416258774791L250,127.80416258774791L230,127.80416258774791L210,127.80416258774791L190,10.000000000000009L170,10.000000000000009L150,10.000000000000009L130,10.000000000000009L110,10.000000000000009L90,200L70,200L50,200L30,200L10,200Z\" fill=\"#eeca3b\"/></g></g><path class=\"foreground\" aria-hidden=\"true\" d=\"\" display=\"none\"/></g><g transform=\"translate(0,0)\"><path class=\"background\" aria-hidden=\"true\" d=\"M0,0h720v200h-720Z\"/><g><g class=\"mark-area role-mark marks\" role=\"graphics-object\" aria-roledescription=\"area mark container\"><path aria-label=\"year: 2020; CO2: 0; variable: inn5\" role=\"graphics-symbol\" aria-roledescription=\"area mark\" d=\"M10,200L30,200L50,200L70,200L90,200L110,10.000000000000009L130,10.000000000000009L150,10.000000000000009L170,10.000000000000009L190,10.000000000000009L210,127.80416258774791L230,127.80416258774791L250,127.80416258774791L270,127.80416258774791L290,127.80416258774791L310,127.80416258774791L330,127.80416258774791L350,127.80416258774791L370,127.80416258774791L390,127.80416258774791L410,200L430,200L450,200L470,200L490,200L510,129.10330082293459L530,129.10330082293459L550,129.10330082293459L570,129.10330082293459L590,129.10330082293459L610,129.10330082293459L630,129.10330082293459L650,129.10330082293459L670,129.10330082293459L690,129.10330082293459L710,129.10330082293459L710,200L690,200L670,200L650,200L630,200L610,200L590,200L570,200L550,200L530,200L510,200L490,200L470,200L450,200L430,200L410,200L390,200L370,200L350,200L330,200L310,200L290,200L270,200L250,200L230,200L210,200L190,200L170,200L150,200L130,200L110,200L90,200L70,200L50,200L30,200L10,200Z\" fill=\"#b279a2\"/></g></g><path class=\"foreground\" aria-hidden=\"true\" d=\"\" display=\"none\"/></g><g transform=\"translate(0,0)\"><path class=\"background\" aria-hidden=\"true\" d=\"M0,0h720v200h-720Z\"/><g><g class=\"mark-area role-mark marks\" role=\"graphics-object\" aria-roledescription=\"area mark container\"><path aria-label=\"year: 2020; CO2: 0; variable: inn6\" role=\"graphics-symbol\" aria-roledescription=\"area mark\" d=\"M10,200L30,200L50,200L70,200L90,200L110,200L130,200L150,200L170,200L190,200L210,200L230,200L250,200L270,200L290,200L310,200L330,200L350,200L370,200L390,200L410,200L430,200L450,200L470,200L490,200L510,200L530,200L550,200L570,200L590,200L610,200L630,200L650,200L670,200L690,200L710,200L710,200L690,200L670,200L650,200L630,200L610,200L590,200L570,200L550,200L530,200L510,200L490,200L470,200L450,200L430,200L410,200L390,200L370,200L350,200L330,200L310,200L290,200L270,200L250,200L230,200L210,200L190,200L170,200L150,200L130,200L110,200L90,200L70,200L50,200L30,200L10,200Z\" fill=\"#ff9da6\"/></g></g><path class=\"foreground\" aria-hidden=\"true\" d=\"\" display=\"none\"/></g><g transform=\"translate(0,0)\"><path class=\"background\" aria-hidden=\"true\" d=\"M0,0h720v200h-720Z\"/><g><g class=\"mark-area role-mark marks\" role=\"graphics-object\" aria-roledescription=\"area mark container\"><path aria-label=\"year: 2020; CO2: 0; variable: inn7\" role=\"graphics-symbol\" aria-roledescription=\"area mark\" d=\"M10,200L30,200L50,200L70,200L90,200L110,200L130,200L150,200L170,200L190,200L210,200L230,200L250,200L270,200L290,200L310,200L330,200L350,200L370,200L390,200L410,200L430,200L450,200L470,200L490,200L510,200L530,200L550,200L570,200L590,200L610,200L630,200L650,200L670,200L690,200L710,200L710,200L690,200L670,200L650,200L630,200L610,200L590,200L570,200L550,200L530,200L510,200L490,200L470,200L450,200L430,200L410,200L390,200L370,200L350,200L330,200L310,200L290,200L270,200L250,200L230,200L210,200L190,200L170,200L150,200L130,200L110,200L90,200L70,200L50,200L30,200L10,200Z\" fill=\"#9d755d\"/></g></g><path class=\"foreground\" aria-hidden=\"true\" d=\"\" display=\"none\"/></g><g transform=\"translate(0,0)\"><path class=\"background\" aria-hidden=\"true\" d=\"M0,0h720v200h-720Z\"/><g><g class=\"mark-area role-mark marks\" role=\"graphics-object\" aria-roledescription=\"area mark container\"><path aria-label=\"year: 2020; CO2: 0; variable: inn8\" role=\"graphics-symbol\" aria-roledescription=\"area mark\" d=\"M10,200L30,200L50,200L70,200L90,200L110,200L130,200L150,200L170,200L190,200L210,200L230,200L250,200L270,200L290,200L310,200L330,200L350,200L370,200L390,200L410,200L430,200L450,200L470,200L490,200L510,200L530,200L550,200L570,200L590,200L610,200L630,200L650,200L670,200L690,200L710,200L710,200L690,200L670,200L650,200L630,200L610,200L590,200L570,200L550,200L530,200L510,200L490,200L470,200L450,200L430,200L410,200L390,200L370,200L350,200L330,200L310,200L290,200L270,200L250,200L230,200L210,200L190,200L170,200L150,200L130,200L110,200L90,200L70,200L50,200L30,200L10,200Z\" fill=\"#bab0ac\"/></g></g><path class=\"foreground\" aria-hidden=\"true\" d=\"\" display=\"none\"/></g><g transform=\"translate(0,0)\"><path class=\"background\" aria-hidden=\"true\" d=\"M0,0h720v200h-720Z\"/><g><g class=\"mark-area role-mark marks\" role=\"graphics-object\" aria-roledescription=\"area mark container\"><path aria-label=\"year: 2020; CO2: 0; variable: inn9\" role=\"graphics-symbol\" aria-roledescription=\"area mark\" d=\"M10,200L30,200L50,200L70,200L90,200L110,200L130,200L150,200L170,200L190,200L210,200L230,200L250,200L270,200L290,200L310,200L330,200L350,200L370,200L390,200L410,200L430,200L450,200L470,200L490,200L510,200L530,200L550,200L570,200L590,200L610,200L630,200L650,200L670,200L690,200L710,200L710,200L690,200L670,200L650,200L630,200L610,200L590,200L570,200L550,200L530,200L510,200L490,200L470,200L450,200L430,200L410,200L390,200L370,200L350,200L330,200L310,200L290,200L270,200L250,200L230,200L210,200L190,200L170,200L150,200L130,200L110,200L90,200L70,200L50,200L30,200L10,200Z\" fill=\"#4c78a8\"/></g></g><path class=\"foreground\" aria-hidden=\"true\" d=\"\" display=\"none\"/></g><g transform=\"translate(0,0)\"><path class=\"background\" aria-hidden=\"true\" d=\"M0,0h720v200h-720Z\"/><g><g class=\"mark-area role-mark marks\" role=\"graphics-object\" aria-roledescription=\"area mark container\"><path aria-label=\"year: 2020; CO2: 0; variable: inn10\" role=\"graphics-symbol\" aria-roledescription=\"area mark\" d=\"M10,200L30,0L50,0L70,0L90,0L110,2.220446049250313e-14L130,2.220446049250313e-14L150,2.220446049250313e-14L170,2.220446049250313e-14L190,2.220446049250313e-14L210,0L230,0L250,0L270,0L290,0L310,0L330,0L350,0L370,0L390,0L410,0L430,0L450,0L470,0L490,0L510,0.9184131667756779L530,0.9184131667756779L550,0.9184131667756779L570,0.9184131667756779L590,0.9184131667756779L610,0.9184131667756779L630,0.9184131667756779L650,0.9184131667756779L670,0.9184131667756779L690,0.9184131667756779L710,0.9184131667756779L710,129.10330082293459L690,129.10330082293459L670,129.10330082293459L650,129.10330082293459L630,129.10330082293459L610,129.10330082293459L590,129.10330082293459L570,129.10330082293459L550,129.10330082293459L530,129.10330082293459L510,129.10330082293459L490,200L470,200L450,200L430,200L410,200L390,127.80416258774791L370,127.80416258774791L350,127.80416258774791L330,127.80416258774791L310,127.80416258774791L290,127.80416258774791L270,127.80416258774791L250,127.80416258774791L230,127.80416258774791L210,127.80416258774791L190,10.000000000000007L170,10.000000000000007L150,10.000000000000007L130,10.000000000000007L110,10.000000000000007L90,200L70,200L50,200L30,200L10,200Z\" fill=\"#e45756\"/></g></g><path class=\"foreground\" aria-hidden=\"true\" d=\"\" display=\"none\"/></g></g><g class=\"mark-group role-legend\" role=\"graphics-symbol\" aria-roledescription=\"legend\" aria-label=\"Symbol legend titled 'variable' for fill color with 11 values: conv, inn1, inn10, inn2, inn3, ending with inn9\"><g transform=\"translate(738,0)\"><path class=\"background\" aria-hidden=\"true\" d=\"M0,0h49v157h-49Z\" pointer-events=\"none\"/><g><g class=\"mark-group role-legend-entry\"><g transform=\"translate(0,16)\"><path class=\"background\" aria-hidden=\"true\" d=\"M0,0h0v0h0Z\" pointer-events=\"none\"/><g><g class=\"mark-group role-scope\" role=\"graphics-object\" aria-roledescription=\"group mark container\"><g transform=\"translate(0,0)\"><path class=\"background\" aria-hidden=\"true\" d=\"M0,0h43v11h-43Z\" pointer-events=\"none\" opacity=\"1\"/><g><g class=\"mark-symbol role-legend-symbol\" pointer-events=\"none\"><path transform=\"translate(6,6)\" d=\"M5,0A5,5,0,1,1,-5,0A5,5,0,1,1,5,0\" fill=\"#4c78a8\" stroke-width=\"1.5\" opacity=\"1\"/></g><g class=\"mark-text role-legend-label\" pointer-events=\"none\"><text text-anchor=\"start\" transform=\"translate(16,9)\" font-family=\"sans-serif\" font-size=\"10px\" fill=\"#000\" opacity=\"1\">conv</text></g></g><path class=\"foreground\" aria-hidden=\"true\" d=\"\" pointer-events=\"none\" display=\"none\"/></g><g transform=\"translate(0,13)\"><path class=\"background\" aria-hidden=\"true\" d=\"M0,0h43v11h-43Z\" pointer-events=\"none\" opacity=\"1\"/><g><g class=\"mark-symbol role-legend-symbol\" pointer-events=\"none\"><path transform=\"translate(6,6)\" d=\"M5,0A5,5,0,1,1,-5,0A5,5,0,1,1,5,0\" fill=\"#f58518\" stroke-width=\"1.5\" opacity=\"1\"/></g><g class=\"mark-text role-legend-label\" pointer-events=\"none\"><text text-anchor=\"start\" transform=\"translate(16,9)\" font-family=\"sans-serif\" font-size=\"10px\" fill=\"#000\" opacity=\"1\">inn1</text></g></g><path class=\"foreground\" aria-hidden=\"true\" d=\"\" pointer-events=\"none\" display=\"none\"/></g><g transform=\"translate(0,26)\"><path class=\"background\" aria-hidden=\"true\" d=\"M0,0h43v11h-43Z\" pointer-events=\"none\" opacity=\"1\"/><g><g class=\"mark-symbol role-legend-symbol\" pointer-events=\"none\"><path transform=\"translate(6,6)\" d=\"M5,0A5,5,0,1,1,-5,0A5,5,0,1,1,5,0\" fill=\"#e45756\" stroke-width=\"1.5\" opacity=\"1\"/></g><g class=\"mark-text role-legend-label\" pointer-events=\"none\"><text text-anchor=\"start\" transform=\"translate(16,9)\" font-family=\"sans-serif\" font-size=\"10px\" fill=\"#000\" opacity=\"1\">inn10</text></g></g><path class=\"foreground\" aria-hidden=\"true\" d=\"\" pointer-events=\"none\" display=\"none\"/></g><g transform=\"translate(0,39)\"><path class=\"background\" aria-hidden=\"true\" d=\"M0,0h43v11h-43Z\" pointer-events=\"none\" opacity=\"1\"/><g><g class=\"mark-symbol role-legend-symbol\" pointer-events=\"none\"><path transform=\"translate(6,6)\" d=\"M5,0A5,5,0,1,1,-5,0A5,5,0,1,1,5,0\" fill=\"#72b7b2\" stroke-width=\"1.5\" opacity=\"1\"/></g><g class=\"mark-text role-legend-label\" pointer-events=\"none\"><text text-anchor=\"start\" transform=\"translate(16,9)\" font-family=\"sans-serif\" font-size=\"10px\" fill=\"#000\" opacity=\"1\">inn2</text></g></g><path class=\"foreground\" aria-hidden=\"true\" d=\"\" pointer-events=\"none\" display=\"none\"/></g><g transform=\"translate(0,52)\"><path class=\"background\" aria-hidden=\"true\" d=\"M0,0h43v11h-43Z\" pointer-events=\"none\" opacity=\"1\"/><g><g class=\"mark-symbol role-legend-symbol\" pointer-events=\"none\"><path transform=\"translate(6,6)\" d=\"M5,0A5,5,0,1,1,-5,0A5,5,0,1,1,5,0\" fill=\"#54a24b\" stroke-width=\"1.5\" opacity=\"1\"/></g><g class=\"mark-text role-legend-label\" pointer-events=\"none\"><text text-anchor=\"start\" transform=\"translate(16,9)\" font-family=\"sans-serif\" font-size=\"10px\" fill=\"#000\" opacity=\"1\">inn3</text></g></g><path class=\"foreground\" aria-hidden=\"true\" d=\"\" pointer-events=\"none\" display=\"none\"/></g><g transform=\"translate(0,65)\"><path class=\"background\" aria-hidden=\"true\" d=\"M0,0h43v11h-43Z\" pointer-events=\"none\" opacity=\"1\"/><g><g class=\"mark-symbol role-legend-symbol\" pointer-events=\"none\"><path transform=\"translate(6,6)\" d=\"M5,0A5,5,0,1,1,-5,0A5,5,0,1,1,5,0\" fill=\"#eeca3b\" stroke-width=\"1.5\" opacity=\"1\"/></g><g class=\"mark-text role-legend-label\" pointer-events=\"none\"><text text-anchor=\"start\" transform=\"translate(16,9)\" font-family=\"sans-serif\" font-size=\"10px\" fill=\"#000\" opacity=\"1\">inn4</text></g></g><path class=\"foreground\" aria-hidden=\"true\" d=\"\" pointer-events=\"none\" display=\"none\"/></g><g transform=\"translate(0,78)\"><path class=\"background\" aria-hidden=\"true\" d=\"M0,0h43v11h-43Z\" pointer-events=\"none\" opacity=\"1\"/><g><g class=\"mark-symbol role-legend-symbol\" pointer-events=\"none\"><path transform=\"translate(6,6)\" d=\"M5,0A5,5,0,1,1,-5,0A5,5,0,1,1,5,0\" fill=\"#b279a2\" stroke-width=\"1.5\" opacity=\"1\"/></g><g class=\"mark-text role-legend-label\" pointer-events=\"none\"><text text-anchor=\"start\" transform=\"translate(16,9)\" font-family=\"sans-serif\" font-size=\"10px\" fill=\"#000\" opacity=\"1\">inn5</text></g></g><path class=\"foreground\" aria-hidden=\"true\" d=\"\" pointer-events=\"none\" display=\"none\"/></g><g transform=\"translate(0,91)\"><path class=\"background\" aria-hidden=\"true\" d=\"M0,0h43v11h-43Z\" pointer-events=\"none\" opacity=\"1\"/><g><g class=\"mark-symbol role-legend-symbol\" pointer-events=\"none\"><path transform=\"translate(6,6)\" d=\"M5,0A5,5,0,1,1,-5,0A5,5,0,1,1,5,0\" fill=\"#ff9da6\" stroke-width=\"1.5\" opacity=\"1\"/></g><g class=\"mark-text role-legend-label\" pointer-events=\"none\"><text text-anchor=\"start\" transform=\"translate(16,9)\" font-family=\"sans-serif\" font-size=\"10px\" fill=\"#000\" opacity=\"1\">inn6</text></g></g><path class=\"foreground\" aria-hidden=\"true\" d=\"\" pointer-events=\"none\" display=\"none\"/></g><g transform=\"translate(0,104)\"><path class=\"background\" aria-hidden=\"true\" d=\"M0,0h43v11h-43Z\" pointer-events=\"none\" opacity=\"1\"/><g><g class=\"mark-symbol role-legend-symbol\" pointer-events=\"none\"><path transform=\"translate(6,6)\" d=\"M5,0A5,5,0,1,1,-5,0A5,5,0,1,1,5,0\" fill=\"#9d755d\" stroke-width=\"1.5\" opacity=\"1\"/></g><g class=\"mark-text role-legend-label\" pointer-events=\"none\"><text text-anchor=\"start\" transform=\"translate(16,9)\" font-family=\"sans-serif\" font-size=\"10px\" fill=\"#000\" opacity=\"1\">inn7</text></g></g><path class=\"foreground\" aria-hidden=\"true\" d=\"\" pointer-events=\"none\" display=\"none\"/></g><g transform=\"translate(0,117)\"><path class=\"background\" aria-hidden=\"true\" d=\"M0,0h43v11h-43Z\" pointer-events=\"none\" opacity=\"1\"/><g><g class=\"mark-symbol role-legend-symbol\" pointer-events=\"none\"><path transform=\"translate(6,6)\" d=\"M5,0A5,5,0,1,1,-5,0A5,5,0,1,1,5,0\" fill=\"#bab0ac\" stroke-width=\"1.5\" opacity=\"1\"/></g><g class=\"mark-text role-legend-label\" pointer-events=\"none\"><text text-anchor=\"start\" transform=\"translate(16,9)\" font-family=\"sans-serif\" font-size=\"10px\" fill=\"#000\" opacity=\"1\">inn8</text></g></g><path class=\"foreground\" aria-hidden=\"true\" d=\"\" pointer-events=\"none\" display=\"none\"/></g><g transform=\"translate(0,130)\"><path class=\"background\" aria-hidden=\"true\" d=\"M0,0h43v11h-43Z\" pointer-events=\"none\" opacity=\"1\"/><g><g class=\"mark-symbol role-legend-symbol\" pointer-events=\"none\"><path transform=\"translate(6,6)\" d=\"M5,0A5,5,0,1,1,-5,0A5,5,0,1,1,5,0\" fill=\"#4c78a8\" stroke-width=\"1.5\" opacity=\"1\"/></g><g class=\"mark-text role-legend-label\" pointer-events=\"none\"><text text-anchor=\"start\" transform=\"translate(16,9)\" font-family=\"sans-serif\" font-size=\"10px\" fill=\"#000\" opacity=\"1\">inn9</text></g></g><path class=\"foreground\" aria-hidden=\"true\" d=\"\" pointer-events=\"none\" display=\"none\"/></g></g></g><path class=\"foreground\" aria-hidden=\"true\" d=\"\" pointer-events=\"none\" display=\"none\"/></g></g><g class=\"mark-text role-legend-title\" pointer-events=\"none\"><text text-anchor=\"start\" transform=\"translate(0,9)\" font-family=\"sans-serif\" font-size=\"11px\" font-weight=\"bold\" fill=\"#000\" opacity=\"1\">variable</text></g></g><path class=\"foreground\" aria-hidden=\"true\" d=\"\" pointer-events=\"none\" display=\"none\"/></g></g></g><path class=\"foreground\" aria-hidden=\"true\" d=\"\" display=\"none\"/></g></g></g></svg>\n"
      ],
      "text/plain": [
       "@vlplot(\n",
       "    legend=\"sNames\",\n",
       "    mark=\"area\",\n",
       "    encoding={\n",
       "        x={\n",
       "            field=\"year\"\n",
       "        },\n",
       "        y={\n",
       "            stack=\"zero\",\n",
       "            title=\"CO2\",\n",
       "            field=\"value\"\n",
       "        },\n",
       "        color={\n",
       "            field=\"variable\",\n",
       "            type=\"nominal\"\n",
       "        }\n",
       "    },\n",
       "    data={\n",
       "        values=...\n",
       "    }\n",
       ")"
      ]
     },
     "execution_count": 409,
     "metadata": {},
     "output_type": "execute_result"
    }
   ],
   "source": [
    "function conventional(t)\n",
    "    return (1-sum(JuMP.values.(xk)[k,t] for k in 1:nrow(compromise)))\n",
    "end\n",
    "\n",
    "function innovation(i,t)\n",
    "    if i==1\n",
    "        return sum(JuMP.values.(xk)[k,t] for k=1:mapki[i,2])\n",
    "    else\n",
    "        return sum(JuMP.values.(xk)[k,t] for k=mapki[i-1,2]:mapki[i,2] )\n",
    "    end\n",
    "end\n",
    "\n",
    "conv=zeros(51)\n",
    "\n",
    "conv[1]=initial[1,5]\n",
    "inn_co2=zeros(nrow(innovations),51)\n",
    "\n",
    "for inn in 1:nrow(innovations)\n",
    "    inn_co2[inn,1]=0\n",
    "end\n",
    "\n",
    "j=0\n",
    "for i in 2:51\n",
    "    if 0 ≤ i ≤ 5\n",
    "        j=1\n",
    "    elseif 6 ≤ i ≤ 10\n",
    "        j=2\n",
    "    elseif 6 ≤ i ≤ 10\n",
    "        j=3\n",
    "    elseif 11 ≤ i ≤ 15\n",
    "        j=4\n",
    "    elseif 16 ≤ i ≤ 20\n",
    "        j=5\n",
    "    elseif 21 ≤ i ≤ 25\n",
    "        j=6\n",
    "    else\n",
    "        j=7\n",
    "    end\n",
    "        \n",
    "    conv[i]=conventional(j)\n",
    "    for inn in 1:nrow(innovations)\n",
    "        inn_co2[inn,i]=innovation(inn,j)\n",
    "    end\n",
    "end\n",
    "\n",
    "sNames = [\"conv\",\"inn1\",\"inn2\",\"inn3\",\"inn4\",\"inn5\",\"inn6\",\"inn7\",\"inn8\",\"inn9\",\"inn10\"]\n",
    "xLabels = []\n",
    "for i in 2020:2070\n",
    "    push!(xLabels,string(i))\n",
    "end\n",
    "\n",
    "df = DataFrame(year=xLabels, conv=conv, inn1=inn_co2[1,:],inn2=inn_co2[2,:],inn3=inn_co2[3,:],inn4=inn_co2[4,:],\n",
    "        inn5=inn_co2[5,:],inn6=inn_co2[6,:],inn7=inn_co2[7,:],inn8=inn_co2[8,:],inn9=inn_co2[9,:],inn10=inn_co2[10,:])\n",
    "df=df[1:36,:]\n",
    "df |> stack |> @vlplot(:area, x=:year, y={:value, stack=:zero, title=\"CO2\"}, color=\"variable:n\",legend=:sNames) "
   ]
  },
  {
   "cell_type": "code",
   "execution_count": 410,
   "id": "bbce2b22",
   "metadata": {},
   "outputs": [],
   "source": [
    "#=\n",
    "#cost objective\n",
    "#@NLconstraint(rdmap, cost_inn == sum(sum(ci[i]*((yi[i,tt]-yi[i,tt-1])*f_fit[i,tt])\n",
    "#            for i in 2:nrow(innovations)) for tt in 2:7) + sum(ci[i]*(yi[i,1]*f_fit[i,1]) for i in 1:nrow(innovations)))\n",
    "#linearization\n",
    "@variable(rdmap,0≤p[i=1:nrow(innovations),tt=2:7]≤5)\n",
    "@constraint(rdmap,[i=1:nrow(innovations),tt=2:7],p[i,tt]≤5*(yi[i,tt]-yi[i,tt-1]))\n",
    "@constraint(rdmap,[i=1:nrow(innovations),tt=2:7],p[i,tt]≤(f_fit[i,tt]))\n",
    "@constraint(rdmap,[i=1:nrow(innovations),tt=2:7],p[i,tt]≥(f_fit[i,tt])-5*(1-(yi[i,tt]-yi[i,tt-1])))\n",
    "\n",
    "@variable(rdmap,0≤q[i=1:nrow(innovations),tt=1:1]≤5)\n",
    "@constraint(rdmap,[i=1:nrow(innovations),tt=1:1],q[i,tt]≤(yi[i,tt]))\n",
    "@constraint(rdmap,[i=1:nrow(innovations),tt=1:1],q[i,tt]≤(f_fit[i,tt]))\n",
    "@constraint(rdmap,[i=1:nrow(innovations),tt=1:1],q[i,tt]≥(f_fit[i,tt])-5*(1-(yi[i,tt])))\n",
    "\n",
    "@constraint(rdmap,cost_inn == sum(sum(ci[i]*p[i,tt] for i in 2:nrow(innovations)) for tt in 2:7) +\n",
    "                                sum(ci[i]*q[i,1] for i in 1:nrow(innovations)))\n",
    "\n",
    "#http://yetanothermathprogrammingconsultant.blogspot.com/2008/05/multiplication-of-continuous-and-binary.html\n",
    "\n",
    "=#\n"
   ]
  },
  {
   "cell_type": "code",
   "execution_count": null,
   "id": "fa9dc350",
   "metadata": {},
   "outputs": [],
   "source": []
  },
  {
   "cell_type": "code",
   "execution_count": null,
   "id": "9a18d234",
   "metadata": {},
   "outputs": [],
   "source": []
  }
 ],
 "metadata": {
  "kernelspec": {
   "display_name": "Julia 1.6.3",
   "language": "julia",
   "name": "julia-1.6"
  },
  "language_info": {
   "file_extension": ".jl",
   "mimetype": "application/julia",
   "name": "julia",
   "version": "1.6.3"
  }
 },
 "nbformat": 4,
 "nbformat_minor": 5
}
