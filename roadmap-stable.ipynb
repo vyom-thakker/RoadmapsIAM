{
 "cells": [
  {
   "cell_type": "code",
   "execution_count": 1,
   "id": "0cd38929",
   "metadata": {},
   "outputs": [
    {
     "name": "stderr",
     "output_type": "stream",
     "text": [
      "\u001b[32m\u001b[1m  Activating\u001b[22m\u001b[39m environment at `~/Documents/project-codes/Plan_RoadmapsIAM/toy-problem/baron_env/Project.toml`\n"
     ]
    }
   ],
   "source": [
    "\n",
    "using Pkg\n",
    "Pkg.activate(\"./baron_env\")\n",
    "#Pkg.pin(\"JuMP\")\n",
    "using JuMP\n",
    "using CSV\n",
    "using GraphRecipes, Plots\n",
    "using LightGraphs\n",
    "using LinearAlgebra\n",
    "using SparseArrays\n",
    "using DataFrames\n",
    "using BARON\n",
    "using Gurobi\n",
    "using PiecewiseLinearOpt\n",
    "using VegaLite, VegaDatasets\n",
    "using FileIO"
   ]
  },
  {
   "cell_type": "code",
   "execution_count": 2,
   "id": "e8956d14-30ad-49f9-bf77-ae0d8a2937f8",
   "metadata": {},
   "outputs": [
    {
     "name": "stderr",
     "output_type": "stream",
     "text": [
      "┌ Warning: Pkg.installed() is deprecated\n",
      "└ @ Pkg /buildworker/worker/package_linux64/build/usr/share/julia/stdlib/v1.6/Pkg/src/Pkg.jl:570\n"
     ]
    },
    {
     "data": {
      "text/plain": [
       "Dict{String, VersionNumber} with 3 entries:\n",
       "  \"BARON\"              => v\"0.6.5\"\n",
       "  \"PiecewiseLinearOpt\" => v\"0.3.0\"\n",
       "  \"CPLEX\"              => v\"0.7.8\""
      ]
     },
     "execution_count": 2,
     "metadata": {},
     "output_type": "execute_result"
    }
   ],
   "source": [
    "Pkg.installed()"
   ]
  },
  {
   "cell_type": "code",
   "execution_count": 3,
   "id": "6cd49756",
   "metadata": {},
   "outputs": [
    {
     "data": {
      "text/html": [
       "<div class=\"data-frame\"><p>1 rows × 7 columns</p><table class=\"data-frame\"><thead><tr><th></th><th>k</th><th>i</th><th>GWP</th><th>Theta</th><th>Per_Recycl</th><th>Per_Comp</th><th>Ocost</th></tr><tr><th></th><th title=\"Int64\">Int64</th><th title=\"Int64\">Int64</th><th title=\"Int64\">Int64</th><th title=\"Float64\">Float64</th><th title=\"Float64\">Float64</th><th title=\"Int64\">Int64</th><th title=\"Float64\">Float64</th></tr></thead><tbody><tr><th>1</th><td>0</td><td>0</td><td>8</td><td>0.15</td><td>0.12</td><td>0</td><td>3.2</td></tr></tbody></table></div>"
      ],
      "text/latex": [
       "\\begin{tabular}{r|ccccccc}\n",
       "\t& k & i & GWP & Theta & Per\\_Recycl & Per\\_Comp & Ocost\\\\\n",
       "\t\\hline\n",
       "\t& Int64 & Int64 & Int64 & Float64 & Float64 & Int64 & Float64\\\\\n",
       "\t\\hline\n",
       "\t1 & 0 & 0 & 8 & 0.15 & 0.12 & 0 & 3.2 \\\\\n",
       "\\end{tabular}\n"
      ],
      "text/plain": [
       "\u001b[1m1×7 DataFrame\u001b[0m\n",
       "\u001b[1m Row \u001b[0m│\u001b[1m k     \u001b[0m\u001b[1m i     \u001b[0m\u001b[1m GWP   \u001b[0m\u001b[1m Theta   \u001b[0m\u001b[1m Per_Recycl \u001b[0m\u001b[1m Per_Comp \u001b[0m\u001b[1m Ocost   \u001b[0m\n",
       "\u001b[1m     \u001b[0m│\u001b[90m Int64 \u001b[0m\u001b[90m Int64 \u001b[0m\u001b[90m Int64 \u001b[0m\u001b[90m Float64 \u001b[0m\u001b[90m Float64    \u001b[0m\u001b[90m Int64    \u001b[0m\u001b[90m Float64 \u001b[0m\n",
       "─────┼─────────────────────────────────────────────────────────────\n",
       "   1 │     0      0      8     0.15        0.12         0      3.2"
      ]
     },
     "execution_count": 3,
     "metadata": {},
     "output_type": "execute_result"
    }
   ],
   "source": [
    "add_key=\"_netzero\"\n",
    "innovations = CSV.File(\"./data-case-roadmap/innovations\"*add_key*\".csv\",header=1,delim=\",\") |> DataFrame\n",
    "mapki = CSV.File(\"./data-case-roadmap/map-ki\"*add_key*\".csv\",header=1,delim=\",\") |> DataFrame\n",
    "compromise = CSV.File(\"./data-case-roadmap/compromise\"*add_key*\".csv\",header=1,delim=\",\") |> DataFrame\n",
    "initial = CSV.File(\"./data-case-roadmap/initial.csv\",header=1,delim=\",\") |> DataFrame\n",
    "iam_model = CSV.File(\"./data/iam_model.csv\",header=1,delim=\",\") |> DataFrame\n",
    "ci=innovations[!,2]\n",
    "rl=innovations[!,3]\n",
    "initial\n",
    "#innovations"
   ]
  },
  {
   "cell_type": "code",
   "execution_count": 4,
   "id": "d780e0f4",
   "metadata": {},
   "outputs": [
    {
     "data": {
      "text/plain": [
       "3-element view(::Vector{Int64}, 5:7) with eltype Int64:\n",
       " 200\n",
       " 200\n",
       " 200"
      ]
     },
     "execution_count": 4,
     "metadata": {},
     "output_type": "execute_result"
    }
   ],
   "source": [
    "innovations[!,:Cost_per_RL].=100\n",
    "innovations[5:7,:Cost_per_RL].=200"
   ]
  },
  {
   "cell_type": "code",
   "execution_count": 5,
   "id": "768b23d5",
   "metadata": {},
   "outputs": [
    {
     "data": {
      "text/html": [
       "<div class=\"data-frame\"><p>11 rows × 3 columns</p><table class=\"data-frame\"><thead><tr><th></th><th>i</th><th>k_lim</th><th>name</th></tr><tr><th></th><th title=\"Int64\">Int64</th><th title=\"Int64\">Int64</th><th title=\"String31\">String31</th></tr></thead><tbody><tr><th>1</th><td>1</td><td>27</td><td>LABS from PE</td></tr><tr><th>2</th><td>2</td><td>53</td><td>Pyrolysis of LDPE</td></tr><tr><th>3</th><td>3</td><td>80</td><td>Pyrolysis of HDPE</td></tr><tr><th>4</th><td>4</td><td>107</td><td>Pyrolysis of PP</td></tr><tr><th>5</th><td>5</td><td>133</td><td>Recycling back to PLA usin Clay</td></tr><tr><th>6</th><td>6</td><td>156</td><td>Alkaline hydrolysis of PLA</td></tr><tr><th>7</th><td>7</td><td>175</td><td>Alcoholysis of PLA</td></tr><tr><th>8</th><td>8</td><td>202</td><td>Bio-Ethanol</td></tr><tr><th>9</th><td>9</td><td>231</td><td>MSW pyrolysis to small olefins</td></tr><tr><th>10</th><td>10</td><td>254</td><td>Source Segregation</td></tr><tr><th>11</th><td>11</td><td>268</td><td>AI robot segregation</td></tr></tbody></table></div>"
      ],
      "text/latex": [
       "\\begin{tabular}{r|ccc}\n",
       "\t& i & k\\_lim & name\\\\\n",
       "\t\\hline\n",
       "\t& Int64 & Int64 & String31\\\\\n",
       "\t\\hline\n",
       "\t1 & 1 & 27 & LABS from PE \\\\\n",
       "\t2 & 2 & 53 & Pyrolysis of LDPE \\\\\n",
       "\t3 & 3 & 80 & Pyrolysis of HDPE \\\\\n",
       "\t4 & 4 & 107 & Pyrolysis of PP \\\\\n",
       "\t5 & 5 & 133 & Recycling back to PLA usin Clay \\\\\n",
       "\t6 & 6 & 156 & Alkaline hydrolysis of PLA \\\\\n",
       "\t7 & 7 & 175 & Alcoholysis of PLA \\\\\n",
       "\t8 & 8 & 202 & Bio-Ethanol \\\\\n",
       "\t9 & 9 & 231 & MSW pyrolysis to small olefins \\\\\n",
       "\t10 & 10 & 254 & Source Segregation \\\\\n",
       "\t11 & 11 & 268 & AI robot segregation \\\\\n",
       "\\end{tabular}\n"
      ],
      "text/plain": [
       "\u001b[1m11×3 DataFrame\u001b[0m\n",
       "\u001b[1m Row \u001b[0m│\u001b[1m i     \u001b[0m\u001b[1m k_lim \u001b[0m\u001b[1m name                            \u001b[0m\n",
       "\u001b[1m     \u001b[0m│\u001b[90m Int64 \u001b[0m\u001b[90m Int64 \u001b[0m\u001b[90m String31                        \u001b[0m\n",
       "─────┼───────────────────────────────────────────────\n",
       "   1 │     1     27  LABS from PE\n",
       "   2 │     2     53  Pyrolysis of LDPE\n",
       "   3 │     3     80  Pyrolysis of HDPE\n",
       "   4 │     4    107  Pyrolysis of PP\n",
       "   5 │     5    133  Recycling back to PLA usin Clay\n",
       "   6 │     6    156  Alkaline hydrolysis of PLA\n",
       "   7 │     7    175  Alcoholysis of PLA\n",
       "   8 │     8    202  Bio-Ethanol\n",
       "   9 │     9    231  MSW pyrolysis to small olefins\n",
       "  10 │    10    254  Source Segregation\n",
       "  11 │    11    268  AI robot segregation"
      ]
     },
     "execution_count": 5,
     "metadata": {},
     "output_type": "execute_result"
    }
   ],
   "source": [
    "\n",
    "mapki"
   ]
  },
  {
   "cell_type": "code",
   "execution_count": 6,
   "id": "4e49351a-5301-4c14-8142-72ea5910982a",
   "metadata": {},
   "outputs": [
    {
     "data": {
      "text/plain": [
       "give_sorted (generic function with 1 method)"
      ]
     },
     "execution_count": 6,
     "metadata": {},
     "output_type": "execute_result"
    }
   ],
   "source": [
    "function get_transition_mat(i)\n",
    "    p_mat=reshape(collect(innovations[i,9:33]),5,5)\n",
    "    return p_mat'\n",
    "end\n",
    "\n",
    "\n",
    "function get_rate_mat(i)\n",
    "    p_mat=get_transition_mat(i)\n",
    "    q_mat=p_mat./collect(innovations[i,4:8])\n",
    "    for i in 1:5\n",
    "        q_mat[i,i]=-1*sum(q_mat[i,j] for j in 1:5 if j!=i)\n",
    "    end\n",
    "    return q_mat\n",
    "end\n",
    "\n",
    "function get_rate_eig_mat(i)\n",
    "    p_mat=get_transition_mat(i)\n",
    "    q_mat=p_mat./collect(innovations[i,4:8])\n",
    "    for i in 1:5\n",
    "        q_mat[i,i]=-1*sum(q_mat[i,j] for j in 1:5 if j!=i)\n",
    "    end\n",
    "    return [q_mat,eigvecs(q_mat),eigvals(q_mat)]\n",
    "end\n",
    "\n",
    "function get_IAM_factor(t)\n",
    "    return 1\n",
    "end\n",
    "\n",
    "function give_sorted(t)\n",
    "    v=sortperm(t)\n",
    "    return v\n",
    "end\n"
   ]
  },
  {
   "cell_type": "code",
   "execution_count": 7,
   "id": "d6e7594d",
   "metadata": {},
   "outputs": [
    {
     "data": {
      "text/plain": [
       "1×5 Matrix{Int64}:\n",
       " 1  2  3  4  5"
      ]
     },
     "execution_count": 7,
     "metadata": {},
     "output_type": "execute_result"
    }
   ],
   "source": [
    "q=zeros(5,5,nrow(innovations))\n",
    "a=zeros(5,5,nrow(innovations))\n",
    "ainv=zeros(5,5,nrow(innovations))\n",
    "d=zeros(5,1,nrow(innovations))\n",
    "s0=zeros(1,5,nrow(innovations))\n",
    "for i in 1:nrow(innovations)\n",
    "    q[:,:,i]=round.(get_rate_eig_mat(i)[1],digits=3)\n",
    "    a[:,:,i]=(get_rate_eig_mat(i)[2])\n",
    "    d[:,:,i]=round.(get_rate_eig_mat(i)[3],digits=3)\n",
    "    ainv[:,:,i]=round.(inv(get_rate_eig_mat(i)[2]),digits=3)\n",
    "    s0[1,rl[i],i]=1\n",
    "end\n",
    "rl_vals=[1 2 3 4 5]"
   ]
  },
  {
   "cell_type": "code",
   "execution_count": 8,
   "id": "82bcdb33-a9c3-4e1c-a456-21ed1fdb43b4",
   "metadata": {},
   "outputs": [
    {
     "data": {
      "text/plain": [
       "11-element Vector{Int64}:\n",
       " 4\n",
       " 2\n",
       " 3\n",
       " 2\n",
       " 4\n",
       " 3\n",
       " 4\n",
       " 4\n",
       " 2\n",
       " 2\n",
       " 4"
      ]
     },
     "execution_count": 8,
     "metadata": {},
     "output_type": "execute_result"
    }
   ],
   "source": [
    "inn_reg = CSV.File(\"./data-case-roadmap/inn_reg.csv\",header=1,delim=\",\") |> DataFrame\n",
    "inn_xrang = CSV.File(\"./data-case-roadmap/inn_xrang.csv\",header=1,delim=\",\") |> DataFrame\n",
    "inn_yrang = CSV.File(\"./data-case-roadmap/inn_yrang.csv\",header=1,delim=\",\") |> DataFrame\n",
    "inn_yrang[!,\"Y0\"]=-1*(innovations[!,\"RL\"].-5)\n",
    "#inn_yrang"
   ]
  },
  {
   "cell_type": "code",
   "execution_count": 9,
   "id": "a3dc8236",
   "metadata": {},
   "outputs": [
    {
     "data": {
      "text/html": [
       "<div class=\"data-frame\"><p>6 rows × 2 columns</p><table class=\"data-frame\"><thead><tr><th></th><th>Yr</th><th>Back_RedFr_Elec</th></tr><tr><th></th><th title=\"Int64\">Int64</th><th title=\"Float64\">Float64</th></tr></thead><tbody><tr><th>1</th><td>0</td><td>1.0</td></tr><tr><th>2</th><td>10</td><td>0.949785</td></tr><tr><th>3</th><td>20</td><td>0.809146</td></tr><tr><th>4</th><td>30</td><td>0.623735</td></tr><tr><th>5</th><td>40</td><td>0.414707</td></tr><tr><th>6</th><td>50</td><td>0.331447</td></tr></tbody></table></div>"
      ],
      "text/latex": [
       "\\begin{tabular}{r|cc}\n",
       "\t& Yr & Back\\_RedFr\\_Elec\\\\\n",
       "\t\\hline\n",
       "\t& Int64 & Float64\\\\\n",
       "\t\\hline\n",
       "\t1 & 0 & 1.0 \\\\\n",
       "\t2 & 10 & 0.949785 \\\\\n",
       "\t3 & 20 & 0.809146 \\\\\n",
       "\t4 & 30 & 0.623735 \\\\\n",
       "\t5 & 40 & 0.414707 \\\\\n",
       "\t6 & 50 & 0.331447 \\\\\n",
       "\\end{tabular}\n"
      ],
      "text/plain": [
       "\u001b[1m6×2 DataFrame\u001b[0m\n",
       "\u001b[1m Row \u001b[0m│\u001b[1m Yr    \u001b[0m\u001b[1m Back_RedFr_Elec \u001b[0m\n",
       "\u001b[1m     \u001b[0m│\u001b[90m Int64 \u001b[0m\u001b[90m Float64         \u001b[0m\n",
       "─────┼────────────────────────\n",
       "   1 │     0         1.0\n",
       "   2 │    10         0.949785\n",
       "   3 │    20         0.809146\n",
       "   4 │    30         0.623735\n",
       "   5 │    40         0.414707\n",
       "   6 │    50         0.331447"
      ]
     },
     "execution_count": 9,
     "metadata": {},
     "output_type": "execute_result"
    }
   ],
   "source": [
    "tau=[0,5,10,15,20,25,30]\n",
    "iam_model"
   ]
  },
  {
   "cell_type": "code",
   "execution_count": 10,
   "id": "bd09aa5a",
   "metadata": {},
   "outputs": [
    {
     "data": {
      "text/html": [
       "<div class=\"data-frame\"><p>6 rows × 7 columns</p><table class=\"data-frame\"><thead><tr><th></th><th>Yr</th><th>Back_RedFr_Elec</th><th>SSP2_26</th><th>SSP2_34</th><th>SSP2_45</th><th>SSP2_60</th><th>SSP2_Base</th></tr><tr><th></th><th title=\"Int64\">Int64</th><th title=\"Float64\">Float64</th><th title=\"Float64\">Float64</th><th title=\"Float64\">Float64</th><th title=\"Float64\">Float64</th><th title=\"Float64\">Float64</th><th title=\"Float64\">Float64</th></tr></thead><tbody><tr><th>1</th><td>0</td><td>1.0</td><td>1.0</td><td>1.0</td><td>1.0</td><td>1.0</td><td>1.0</td></tr><tr><th>2</th><td>10</td><td>0.949785</td><td>0.709401</td><td>0.792017</td><td>0.845749</td><td>0.863384</td><td>0.868369</td></tr><tr><th>3</th><td>20</td><td>0.809146</td><td>0.338928</td><td>0.586739</td><td>0.697765</td><td>0.756985</td><td>0.765739</td></tr><tr><th>4</th><td>30</td><td>0.623735</td><td>0.16745</td><td>0.421703</td><td>0.592428</td><td>0.698648</td><td>0.714738</td></tr><tr><th>5</th><td>40</td><td>0.414707</td><td>0.0406239</td><td>0.256391</td><td>0.495806</td><td>0.646562</td><td>0.671558</td></tr><tr><th>6</th><td>50</td><td>0.331447</td><td>-0.00755</td><td>0.173374</td><td>0.38228</td><td>0.573216</td><td>0.615689</td></tr></tbody></table></div>"
      ],
      "text/latex": [
       "\\begin{tabular}{r|ccccccc}\n",
       "\t& Yr & Back\\_RedFr\\_Elec & SSP2\\_26 & SSP2\\_34 & SSP2\\_45 & SSP2\\_60 & SSP2\\_Base\\\\\n",
       "\t\\hline\n",
       "\t& Int64 & Float64 & Float64 & Float64 & Float64 & Float64 & Float64\\\\\n",
       "\t\\hline\n",
       "\t1 & 0 & 1.0 & 1.0 & 1.0 & 1.0 & 1.0 & 1.0 \\\\\n",
       "\t2 & 10 & 0.949785 & 0.709401 & 0.792017 & 0.845749 & 0.863384 & 0.868369 \\\\\n",
       "\t3 & 20 & 0.809146 & 0.338928 & 0.586739 & 0.697765 & 0.756985 & 0.765739 \\\\\n",
       "\t4 & 30 & 0.623735 & 0.16745 & 0.421703 & 0.592428 & 0.698648 & 0.714738 \\\\\n",
       "\t5 & 40 & 0.414707 & 0.0406239 & 0.256391 & 0.495806 & 0.646562 & 0.671558 \\\\\n",
       "\t6 & 50 & 0.331447 & -0.00755 & 0.173374 & 0.38228 & 0.573216 & 0.615689 \\\\\n",
       "\\end{tabular}\n"
      ],
      "text/plain": [
       "\u001b[1m6×7 DataFrame\u001b[0m\n",
       "\u001b[1m Row \u001b[0m│\u001b[1m Yr    \u001b[0m\u001b[1m Back_RedFr_Elec \u001b[0m\u001b[1m SSP2_26    \u001b[0m\u001b[1m SSP2_34  \u001b[0m\u001b[1m SSP2_45  \u001b[0m\u001b[1m SSP2_60  \u001b[0m\u001b[1m SSP2_\u001b[0m ⋯\n",
       "\u001b[1m     \u001b[0m│\u001b[90m Int64 \u001b[0m\u001b[90m Float64         \u001b[0m\u001b[90m Float64    \u001b[0m\u001b[90m Float64  \u001b[0m\u001b[90m Float64  \u001b[0m\u001b[90m Float64  \u001b[0m\u001b[90m Float\u001b[0m ⋯\n",
       "─────┼──────────────────────────────────────────────────────────────────────────\n",
       "   1 │     0         1.0        1.0        1.0       1.0       1.0        1.0  ⋯\n",
       "   2 │    10         0.949785   0.709401   0.792017  0.845749  0.863384   0.86\n",
       "   3 │    20         0.809146   0.338928   0.586739  0.697765  0.756985   0.76\n",
       "   4 │    30         0.623735   0.16745    0.421703  0.592428  0.698648   0.71\n",
       "   5 │    40         0.414707   0.0406239  0.256391  0.495806  0.646562   0.67 ⋯\n",
       "   6 │    50         0.331447  -0.00755    0.173374  0.38228   0.573216   0.61\n",
       "\u001b[36m                                                                1 column omitted\u001b[0m"
      ]
     },
     "execution_count": 10,
     "metadata": {},
     "output_type": "execute_result"
    }
   ],
   "source": [
    "iam_model[!,:SSP2_26]=[1;0.709400568;0.338927654;0.167450131;0.040623854;-0.007550004]\n",
    "iam_model[!,:SSP2_34]=[1\n",
    "0.79201692\n",
    "0.58673921\n",
    "0.421703033\n",
    "0.256391318\n",
    "0.173374409]\n",
    "iam_model[!,:SSP2_45]=[1\n",
    "0.845749028\n",
    "0.697764574\n",
    "0.592427808\n",
    "0.495805938\n",
    "0.382279665]\n",
    "iam_model[!,:SSP2_60]=[1\n",
    "0.863384263\n",
    "0.756985447\n",
    "0.698647714\n",
    "0.646561914\n",
    "0.57321622\n",
    "]\n",
    "iam_model[!,:SSP2_Base]=[1\n",
    "0.868368691\n",
    "0.765739022\n",
    "0.714737561\n",
    "0.671557877\n",
    "0.6156889\n",
    "]\n",
    "iam_model\n",
    "\n"
   ]
  },
  {
   "cell_type": "code",
   "execution_count": 11,
   "id": "8724d439",
   "metadata": {},
   "outputs": [
    {
     "data": {
      "image/svg+xml": [
       "<?xml version=\"1.0\" encoding=\"utf-8\"?>\n",
       "<svg xmlns=\"http://www.w3.org/2000/svg\" xmlns:xlink=\"http://www.w3.org/1999/xlink\" width=\"600\" height=\"400\" viewBox=\"0 0 2400 1600\">\n",
       "<defs>\n",
       "  <clipPath id=\"clip760\">\n",
       "    <rect x=\"0\" y=\"0\" width=\"2400\" height=\"1600\"/>\n",
       "  </clipPath>\n",
       "</defs>\n",
       "<path clip-path=\"url(#clip760)\" d=\"\n",
       "M0 1600 L2400 1600 L2400 0 L0 0  Z\n",
       "  \" fill=\"#ffffff\" fill-rule=\"evenodd\" fill-opacity=\"1\"/>\n",
       "<defs>\n",
       "  <clipPath id=\"clip761\">\n",
       "    <rect x=\"480\" y=\"0\" width=\"1681\" height=\"1600\"/>\n",
       "  </clipPath>\n",
       "</defs>\n",
       "<path clip-path=\"url(#clip760)\" d=\"\n",
       "M219.866 1423.18 L2352.76 1423.18 L2352.76 47.2441 L219.866 47.2441  Z\n",
       "  \" fill=\"#ffffff\" fill-rule=\"evenodd\" fill-opacity=\"1\"/>\n",
       "<defs>\n",
       "  <clipPath id=\"clip762\">\n",
       "    <rect x=\"219\" y=\"47\" width=\"2134\" height=\"1377\"/>\n",
       "  </clipPath>\n",
       "</defs>\n",
       "<polyline clip-path=\"url(#clip762)\" style=\"stroke:#000000; stroke-linecap:butt; stroke-linejoin:round; stroke-width:2; stroke-opacity:0.1; fill:none\" points=\"\n",
       "  280.231,1423.18 280.231,47.2441 \n",
       "  \"/>\n",
       "<polyline clip-path=\"url(#clip762)\" style=\"stroke:#000000; stroke-linecap:butt; stroke-linejoin:round; stroke-width:2; stroke-opacity:0.1; fill:none\" points=\"\n",
       "  682.663,1423.18 682.663,47.2441 \n",
       "  \"/>\n",
       "<polyline clip-path=\"url(#clip762)\" style=\"stroke:#000000; stroke-linecap:butt; stroke-linejoin:round; stroke-width:2; stroke-opacity:0.1; fill:none\" points=\"\n",
       "  1085.1,1423.18 1085.1,47.2441 \n",
       "  \"/>\n",
       "<polyline clip-path=\"url(#clip762)\" style=\"stroke:#000000; stroke-linecap:butt; stroke-linejoin:round; stroke-width:2; stroke-opacity:0.1; fill:none\" points=\"\n",
       "  1487.53,1423.18 1487.53,47.2441 \n",
       "  \"/>\n",
       "<polyline clip-path=\"url(#clip762)\" style=\"stroke:#000000; stroke-linecap:butt; stroke-linejoin:round; stroke-width:2; stroke-opacity:0.1; fill:none\" points=\"\n",
       "  1889.96,1423.18 1889.96,47.2441 \n",
       "  \"/>\n",
       "<polyline clip-path=\"url(#clip762)\" style=\"stroke:#000000; stroke-linecap:butt; stroke-linejoin:round; stroke-width:2; stroke-opacity:0.1; fill:none\" points=\"\n",
       "  2292.39,1423.18 2292.39,47.2441 \n",
       "  \"/>\n",
       "<polyline clip-path=\"url(#clip760)\" style=\"stroke:#000000; stroke-linecap:butt; stroke-linejoin:round; stroke-width:4; stroke-opacity:1; fill:none\" points=\"\n",
       "  219.866,1423.18 2352.76,1423.18 \n",
       "  \"/>\n",
       "<polyline clip-path=\"url(#clip760)\" style=\"stroke:#000000; stroke-linecap:butt; stroke-linejoin:round; stroke-width:4; stroke-opacity:1; fill:none\" points=\"\n",
       "  280.231,1423.18 280.231,1404.28 \n",
       "  \"/>\n",
       "<polyline clip-path=\"url(#clip760)\" style=\"stroke:#000000; stroke-linecap:butt; stroke-linejoin:round; stroke-width:4; stroke-opacity:1; fill:none\" points=\"\n",
       "  682.663,1423.18 682.663,1404.28 \n",
       "  \"/>\n",
       "<polyline clip-path=\"url(#clip760)\" style=\"stroke:#000000; stroke-linecap:butt; stroke-linejoin:round; stroke-width:4; stroke-opacity:1; fill:none\" points=\"\n",
       "  1085.1,1423.18 1085.1,1404.28 \n",
       "  \"/>\n",
       "<polyline clip-path=\"url(#clip760)\" style=\"stroke:#000000; stroke-linecap:butt; stroke-linejoin:round; stroke-width:4; stroke-opacity:1; fill:none\" points=\"\n",
       "  1487.53,1423.18 1487.53,1404.28 \n",
       "  \"/>\n",
       "<polyline clip-path=\"url(#clip760)\" style=\"stroke:#000000; stroke-linecap:butt; stroke-linejoin:round; stroke-width:4; stroke-opacity:1; fill:none\" points=\"\n",
       "  1889.96,1423.18 1889.96,1404.28 \n",
       "  \"/>\n",
       "<polyline clip-path=\"url(#clip760)\" style=\"stroke:#000000; stroke-linecap:butt; stroke-linejoin:round; stroke-width:4; stroke-opacity:1; fill:none\" points=\"\n",
       "  2292.39,1423.18 2292.39,1404.28 \n",
       "  \"/>\n",
       "<path clip-path=\"url(#clip760)\" d=\"M228.842 1481.64 L245.162 1481.64 L245.162 1485.58 L223.217 1485.58 L223.217 1481.64 Q225.88 1478.89 230.463 1474.26 Q235.069 1469.61 236.25 1468.27 Q238.495 1465.74 239.375 1464.01 Q240.278 1462.25 240.278 1460.56 Q240.278 1457.8 238.333 1456.07 Q236.412 1454.33 233.31 1454.33 Q231.111 1454.33 228.657 1455.09 Q226.227 1455.86 223.449 1457.41 L223.449 1452.69 Q226.273 1451.55 228.727 1450.97 Q231.18 1450.39 233.217 1450.39 Q238.588 1450.39 241.782 1453.08 Q244.977 1455.77 244.977 1460.26 Q244.977 1462.39 244.166 1464.31 Q243.379 1466.2 241.273 1468.8 Q240.694 1469.47 237.592 1472.69 Q234.491 1475.88 228.842 1481.64 Z\" fill=\"#000000\" fill-rule=\"evenodd\" fill-opacity=\"1\" /><path clip-path=\"url(#clip760)\" d=\"M264.977 1454.1 Q261.365 1454.1 259.537 1457.66 Q257.731 1461.2 257.731 1468.33 Q257.731 1475.44 259.537 1479.01 Q261.365 1482.55 264.977 1482.55 Q268.611 1482.55 270.416 1479.01 Q272.245 1475.44 272.245 1468.33 Q272.245 1461.2 270.416 1457.66 Q268.611 1454.1 264.977 1454.1 M264.977 1450.39 Q270.787 1450.39 273.842 1455 Q276.921 1459.58 276.921 1468.33 Q276.921 1477.06 273.842 1481.67 Q270.787 1486.25 264.977 1486.25 Q259.166 1486.25 256.088 1481.67 Q253.032 1477.06 253.032 1468.33 Q253.032 1459.58 256.088 1455 Q259.166 1450.39 264.977 1450.39 Z\" fill=\"#000000\" fill-rule=\"evenodd\" fill-opacity=\"1\" /><path clip-path=\"url(#clip760)\" d=\"M289.166 1481.64 L305.486 1481.64 L305.486 1485.58 L283.541 1485.58 L283.541 1481.64 Q286.203 1478.89 290.787 1474.26 Q295.393 1469.61 296.574 1468.27 Q298.819 1465.74 299.699 1464.01 Q300.601 1462.25 300.601 1460.56 Q300.601 1457.8 298.657 1456.07 Q296.736 1454.33 293.634 1454.33 Q291.435 1454.33 288.981 1455.09 Q286.55 1455.86 283.773 1457.41 L283.773 1452.69 Q286.597 1451.55 289.05 1450.97 Q291.504 1450.39 293.541 1450.39 Q298.912 1450.39 302.106 1453.08 Q305.3 1455.77 305.3 1460.26 Q305.3 1462.39 304.49 1464.31 Q303.703 1466.2 301.597 1468.8 Q301.018 1469.47 297.916 1472.69 Q294.814 1475.88 289.166 1481.64 Z\" fill=\"#000000\" fill-rule=\"evenodd\" fill-opacity=\"1\" /><path clip-path=\"url(#clip760)\" d=\"M325.3 1454.1 Q321.689 1454.1 319.86 1457.66 Q318.055 1461.2 318.055 1468.33 Q318.055 1475.44 319.86 1479.01 Q321.689 1482.55 325.3 1482.55 Q328.935 1482.55 330.74 1479.01 Q332.569 1475.44 332.569 1468.33 Q332.569 1461.2 330.74 1457.66 Q328.935 1454.1 325.3 1454.1 M325.3 1450.39 Q331.11 1450.39 334.166 1455 Q337.245 1459.58 337.245 1468.33 Q337.245 1477.06 334.166 1481.67 Q331.11 1486.25 325.3 1486.25 Q319.49 1486.25 316.411 1481.67 Q313.356 1477.06 313.356 1468.33 Q313.356 1459.58 316.411 1455 Q319.49 1450.39 325.3 1450.39 Z\" fill=\"#000000\" fill-rule=\"evenodd\" fill-opacity=\"1\" /><path clip-path=\"url(#clip760)\" d=\"M631.274 1481.64 L647.594 1481.64 L647.594 1485.58 L625.649 1485.58 L625.649 1481.64 Q628.312 1478.89 632.895 1474.26 Q637.501 1469.61 638.682 1468.27 Q640.927 1465.74 641.807 1464.01 Q642.71 1462.25 642.71 1460.56 Q642.71 1457.8 640.765 1456.07 Q638.844 1454.33 635.742 1454.33 Q633.543 1454.33 631.089 1455.09 Q628.659 1455.86 625.881 1457.41 L625.881 1452.69 Q628.705 1451.55 631.159 1450.97 Q633.612 1450.39 635.649 1450.39 Q641.02 1450.39 644.214 1453.08 Q647.409 1455.77 647.409 1460.26 Q647.409 1462.39 646.598 1464.31 Q645.811 1466.2 643.705 1468.8 Q643.126 1469.47 640.024 1472.69 Q636.923 1475.88 631.274 1481.64 Z\" fill=\"#000000\" fill-rule=\"evenodd\" fill-opacity=\"1\" /><path clip-path=\"url(#clip760)\" d=\"M667.409 1454.1 Q663.797 1454.1 661.969 1457.66 Q660.163 1461.2 660.163 1468.33 Q660.163 1475.44 661.969 1479.01 Q663.797 1482.55 667.409 1482.55 Q671.043 1482.55 672.848 1479.01 Q674.677 1475.44 674.677 1468.33 Q674.677 1461.2 672.848 1457.66 Q671.043 1454.1 667.409 1454.1 M667.409 1450.39 Q673.219 1450.39 676.274 1455 Q679.353 1459.58 679.353 1468.33 Q679.353 1477.06 676.274 1481.67 Q673.219 1486.25 667.409 1486.25 Q661.598 1486.25 658.52 1481.67 Q655.464 1477.06 655.464 1468.33 Q655.464 1459.58 658.52 1455 Q661.598 1450.39 667.409 1450.39 Z\" fill=\"#000000\" fill-rule=\"evenodd\" fill-opacity=\"1\" /><path clip-path=\"url(#clip760)\" d=\"M701.737 1466.95 Q705.094 1467.66 706.968 1469.93 Q708.867 1472.2 708.867 1475.53 Q708.867 1480.65 705.348 1483.45 Q701.83 1486.25 695.348 1486.25 Q693.172 1486.25 690.857 1485.81 Q688.566 1485.39 686.112 1484.54 L686.112 1480.02 Q688.057 1481.16 690.371 1481.74 Q692.686 1482.32 695.209 1482.32 Q699.607 1482.32 701.899 1480.58 Q704.214 1478.84 704.214 1475.53 Q704.214 1472.48 702.061 1470.77 Q699.932 1469.03 696.112 1469.03 L692.084 1469.03 L692.084 1465.19 L696.297 1465.19 Q699.746 1465.19 701.575 1463.82 Q703.404 1462.43 703.404 1459.84 Q703.404 1457.18 701.506 1455.77 Q699.631 1454.33 696.112 1454.33 Q694.191 1454.33 691.992 1454.75 Q689.793 1455.16 687.154 1456.04 L687.154 1451.88 Q689.816 1451.14 692.131 1450.77 Q694.469 1450.39 696.529 1450.39 Q701.853 1450.39 704.955 1452.83 Q708.056 1455.23 708.056 1459.35 Q708.056 1462.22 706.413 1464.21 Q704.769 1466.18 701.737 1466.95 Z\" fill=\"#000000\" fill-rule=\"evenodd\" fill-opacity=\"1\" /><path clip-path=\"url(#clip760)\" d=\"M727.732 1454.1 Q724.121 1454.1 722.292 1457.66 Q720.487 1461.2 720.487 1468.33 Q720.487 1475.44 722.292 1479.01 Q724.121 1482.55 727.732 1482.55 Q731.367 1482.55 733.172 1479.01 Q735.001 1475.44 735.001 1468.33 Q735.001 1461.2 733.172 1457.66 Q731.367 1454.1 727.732 1454.1 M727.732 1450.39 Q733.542 1450.39 736.598 1455 Q739.677 1459.58 739.677 1468.33 Q739.677 1477.06 736.598 1481.67 Q733.542 1486.25 727.732 1486.25 Q721.922 1486.25 718.843 1481.67 Q715.788 1477.06 715.788 1468.33 Q715.788 1459.58 718.843 1455 Q721.922 1450.39 727.732 1450.39 Z\" fill=\"#000000\" fill-rule=\"evenodd\" fill-opacity=\"1\" /><path clip-path=\"url(#clip760)\" d=\"M1033.71 1481.64 L1050.03 1481.64 L1050.03 1485.58 L1028.08 1485.58 L1028.08 1481.64 Q1030.74 1478.89 1035.33 1474.26 Q1039.93 1469.61 1041.11 1468.27 Q1043.36 1465.74 1044.24 1464.01 Q1045.14 1462.25 1045.14 1460.56 Q1045.14 1457.8 1043.2 1456.07 Q1041.28 1454.33 1038.17 1454.33 Q1035.97 1454.33 1033.52 1455.09 Q1031.09 1455.86 1028.31 1457.41 L1028.31 1452.69 Q1031.14 1451.55 1033.59 1450.97 Q1036.04 1450.39 1038.08 1450.39 Q1043.45 1450.39 1046.65 1453.08 Q1049.84 1455.77 1049.84 1460.26 Q1049.84 1462.39 1049.03 1464.31 Q1048.24 1466.2 1046.14 1468.8 Q1045.56 1469.47 1042.46 1472.69 Q1039.35 1475.88 1033.71 1481.64 Z\" fill=\"#000000\" fill-rule=\"evenodd\" fill-opacity=\"1\" /><path clip-path=\"url(#clip760)\" d=\"M1069.84 1454.1 Q1066.23 1454.1 1064.4 1457.66 Q1062.6 1461.2 1062.6 1468.33 Q1062.6 1475.44 1064.4 1479.01 Q1066.23 1482.55 1069.84 1482.55 Q1073.47 1482.55 1075.28 1479.01 Q1077.11 1475.44 1077.11 1468.33 Q1077.11 1461.2 1075.28 1457.66 Q1073.47 1454.1 1069.84 1454.1 M1069.84 1450.39 Q1075.65 1450.39 1078.71 1455 Q1081.78 1459.58 1081.78 1468.33 Q1081.78 1477.06 1078.71 1481.67 Q1075.65 1486.25 1069.84 1486.25 Q1064.03 1486.25 1060.95 1481.67 Q1057.9 1477.06 1057.9 1468.33 Q1057.9 1459.58 1060.95 1455 Q1064.03 1450.39 1069.84 1450.39 Z\" fill=\"#000000\" fill-rule=\"evenodd\" fill-opacity=\"1\" /><path clip-path=\"url(#clip760)\" d=\"M1102.85 1455.09 L1091.04 1473.54 L1102.85 1473.54 L1102.85 1455.09 M1101.62 1451.02 L1107.5 1451.02 L1107.5 1473.54 L1112.43 1473.54 L1112.43 1477.43 L1107.5 1477.43 L1107.5 1485.58 L1102.85 1485.58 L1102.85 1477.43 L1087.25 1477.43 L1087.25 1472.92 L1101.62 1451.02 Z\" fill=\"#000000\" fill-rule=\"evenodd\" fill-opacity=\"1\" /><path clip-path=\"url(#clip760)\" d=\"M1130.16 1454.1 Q1126.55 1454.1 1124.72 1457.66 Q1122.92 1461.2 1122.92 1468.33 Q1122.92 1475.44 1124.72 1479.01 Q1126.55 1482.55 1130.16 1482.55 Q1133.8 1482.55 1135.6 1479.01 Q1137.43 1475.44 1137.43 1468.33 Q1137.43 1461.2 1135.6 1457.66 Q1133.8 1454.1 1130.16 1454.1 M1130.16 1450.39 Q1135.97 1450.39 1139.03 1455 Q1142.11 1459.58 1142.11 1468.33 Q1142.11 1477.06 1139.03 1481.67 Q1135.97 1486.25 1130.16 1486.25 Q1124.35 1486.25 1121.28 1481.67 Q1118.22 1477.06 1118.22 1468.33 Q1118.22 1459.58 1121.28 1455 Q1124.35 1450.39 1130.16 1450.39 Z\" fill=\"#000000\" fill-rule=\"evenodd\" fill-opacity=\"1\" /><path clip-path=\"url(#clip760)\" d=\"M1436.14 1481.64 L1452.46 1481.64 L1452.46 1485.58 L1430.51 1485.58 L1430.51 1481.64 Q1433.18 1478.89 1437.76 1474.26 Q1442.37 1469.61 1443.55 1468.27 Q1445.79 1465.74 1446.67 1464.01 Q1447.57 1462.25 1447.57 1460.56 Q1447.57 1457.8 1445.63 1456.07 Q1443.71 1454.33 1440.61 1454.33 Q1438.41 1454.33 1435.95 1455.09 Q1433.52 1455.86 1430.74 1457.41 L1430.74 1452.69 Q1433.57 1451.55 1436.02 1450.97 Q1438.48 1450.39 1440.51 1450.39 Q1445.88 1450.39 1449.08 1453.08 Q1452.27 1455.77 1452.27 1460.26 Q1452.27 1462.39 1451.46 1464.31 Q1450.68 1466.2 1448.57 1468.8 Q1447.99 1469.47 1444.89 1472.69 Q1441.79 1475.88 1436.14 1481.64 Z\" fill=\"#000000\" fill-rule=\"evenodd\" fill-opacity=\"1\" /><path clip-path=\"url(#clip760)\" d=\"M1472.27 1454.1 Q1468.66 1454.1 1466.83 1457.66 Q1465.03 1461.2 1465.03 1468.33 Q1465.03 1475.44 1466.83 1479.01 Q1468.66 1482.55 1472.27 1482.55 Q1475.91 1482.55 1477.71 1479.01 Q1479.54 1475.44 1479.54 1468.33 Q1479.54 1461.2 1477.71 1457.66 Q1475.91 1454.1 1472.27 1454.1 M1472.27 1450.39 Q1478.08 1450.39 1481.14 1455 Q1484.22 1459.58 1484.22 1468.33 Q1484.22 1477.06 1481.14 1481.67 Q1478.08 1486.25 1472.27 1486.25 Q1466.46 1486.25 1463.38 1481.67 Q1460.33 1477.06 1460.33 1468.33 Q1460.33 1459.58 1463.38 1455 Q1466.46 1450.39 1472.27 1450.39 Z\" fill=\"#000000\" fill-rule=\"evenodd\" fill-opacity=\"1\" /><path clip-path=\"url(#clip760)\" d=\"M1492.48 1451.02 L1510.84 1451.02 L1510.84 1454.96 L1496.76 1454.96 L1496.76 1463.43 Q1497.78 1463.08 1498.8 1462.92 Q1499.82 1462.73 1500.84 1462.73 Q1506.62 1462.73 1510 1465.9 Q1513.38 1469.08 1513.38 1474.49 Q1513.38 1480.07 1509.91 1483.17 Q1506.44 1486.25 1500.12 1486.25 Q1497.94 1486.25 1495.68 1485.88 Q1493.43 1485.51 1491.02 1484.77 L1491.02 1480.07 Q1493.11 1481.2 1495.33 1481.76 Q1497.55 1482.32 1500.03 1482.32 Q1504.03 1482.32 1506.37 1480.21 Q1508.71 1478.1 1508.71 1474.49 Q1508.71 1470.88 1506.37 1468.77 Q1504.03 1466.67 1500.03 1466.67 Q1498.15 1466.67 1496.28 1467.08 Q1494.43 1467.5 1492.48 1468.38 L1492.48 1451.02 Z\" fill=\"#000000\" fill-rule=\"evenodd\" fill-opacity=\"1\" /><path clip-path=\"url(#clip760)\" d=\"M1532.6 1454.1 Q1528.99 1454.1 1527.16 1457.66 Q1525.35 1461.2 1525.35 1468.33 Q1525.35 1475.44 1527.16 1479.01 Q1528.99 1482.55 1532.6 1482.55 Q1536.23 1482.55 1538.04 1479.01 Q1539.86 1475.44 1539.86 1468.33 Q1539.86 1461.2 1538.04 1457.66 Q1536.23 1454.1 1532.6 1454.1 M1532.6 1450.39 Q1538.41 1450.39 1541.46 1455 Q1544.54 1459.58 1544.54 1468.33 Q1544.54 1477.06 1541.46 1481.67 Q1538.41 1486.25 1532.6 1486.25 Q1526.79 1486.25 1523.71 1481.67 Q1520.65 1477.06 1520.65 1468.33 Q1520.65 1459.58 1523.71 1455 Q1526.79 1450.39 1532.6 1450.39 Z\" fill=\"#000000\" fill-rule=\"evenodd\" fill-opacity=\"1\" /><path clip-path=\"url(#clip760)\" d=\"M1838.57 1481.64 L1854.89 1481.64 L1854.89 1485.58 L1832.95 1485.58 L1832.95 1481.64 Q1835.61 1478.89 1840.19 1474.26 Q1844.8 1469.61 1845.98 1468.27 Q1848.22 1465.74 1849.1 1464.01 Q1850.01 1462.25 1850.01 1460.56 Q1850.01 1457.8 1848.06 1456.07 Q1846.14 1454.33 1843.04 1454.33 Q1840.84 1454.33 1838.39 1455.09 Q1835.95 1455.86 1833.18 1457.41 L1833.18 1452.69 Q1836 1451.55 1838.45 1450.97 Q1840.91 1450.39 1842.95 1450.39 Q1848.32 1450.39 1851.51 1453.08 Q1854.7 1455.77 1854.7 1460.26 Q1854.7 1462.39 1853.89 1464.31 Q1853.11 1466.2 1851 1468.8 Q1850.42 1469.47 1847.32 1472.69 Q1844.22 1475.88 1838.57 1481.64 Z\" fill=\"#000000\" fill-rule=\"evenodd\" fill-opacity=\"1\" /><path clip-path=\"url(#clip760)\" d=\"M1874.7 1454.1 Q1871.09 1454.1 1869.26 1457.66 Q1867.46 1461.2 1867.46 1468.33 Q1867.46 1475.44 1869.26 1479.01 Q1871.09 1482.55 1874.7 1482.55 Q1878.34 1482.55 1880.14 1479.01 Q1881.97 1475.44 1881.97 1468.33 Q1881.97 1461.2 1880.14 1457.66 Q1878.34 1454.1 1874.7 1454.1 M1874.7 1450.39 Q1880.51 1450.39 1883.57 1455 Q1886.65 1459.58 1886.65 1468.33 Q1886.65 1477.06 1883.57 1481.67 Q1880.51 1486.25 1874.7 1486.25 Q1868.89 1486.25 1865.82 1481.67 Q1862.76 1477.06 1862.76 1468.33 Q1862.76 1459.58 1865.82 1455 Q1868.89 1450.39 1874.7 1450.39 Z\" fill=\"#000000\" fill-rule=\"evenodd\" fill-opacity=\"1\" /><path clip-path=\"url(#clip760)\" d=\"M1905.45 1466.44 Q1902.3 1466.44 1900.45 1468.59 Q1898.62 1470.74 1898.62 1474.49 Q1898.62 1478.22 1900.45 1480.39 Q1902.3 1482.55 1905.45 1482.55 Q1908.59 1482.55 1910.42 1480.39 Q1912.27 1478.22 1912.27 1474.49 Q1912.27 1470.74 1910.42 1468.59 Q1908.59 1466.44 1905.45 1466.44 M1914.73 1451.78 L1914.73 1456.04 Q1912.97 1455.21 1911.16 1454.77 Q1909.38 1454.33 1907.62 1454.33 Q1902.99 1454.33 1900.54 1457.45 Q1898.11 1460.58 1897.76 1466.9 Q1899.13 1464.89 1901.19 1463.82 Q1903.25 1462.73 1905.72 1462.73 Q1910.93 1462.73 1913.94 1465.9 Q1916.97 1469.05 1916.97 1474.49 Q1916.97 1479.82 1913.82 1483.03 Q1910.68 1486.25 1905.45 1486.25 Q1899.45 1486.25 1896.28 1481.67 Q1893.11 1477.06 1893.11 1468.33 Q1893.11 1460.14 1897 1455.28 Q1900.88 1450.39 1907.44 1450.39 Q1909.2 1450.39 1910.98 1450.74 Q1912.78 1451.09 1914.73 1451.78 Z\" fill=\"#000000\" fill-rule=\"evenodd\" fill-opacity=\"1\" /><path clip-path=\"url(#clip760)\" d=\"M1935.03 1454.1 Q1931.42 1454.1 1929.59 1457.66 Q1927.78 1461.2 1927.78 1468.33 Q1927.78 1475.44 1929.59 1479.01 Q1931.42 1482.55 1935.03 1482.55 Q1938.66 1482.55 1940.47 1479.01 Q1942.3 1475.44 1942.3 1468.33 Q1942.3 1461.2 1940.47 1457.66 Q1938.66 1454.1 1935.03 1454.1 M1935.03 1450.39 Q1940.84 1450.39 1943.89 1455 Q1946.97 1459.58 1946.97 1468.33 Q1946.97 1477.06 1943.89 1481.67 Q1940.84 1486.25 1935.03 1486.25 Q1929.22 1486.25 1926.14 1481.67 Q1923.08 1477.06 1923.08 1468.33 Q1923.08 1459.58 1926.14 1455 Q1929.22 1450.39 1935.03 1450.39 Z\" fill=\"#000000\" fill-rule=\"evenodd\" fill-opacity=\"1\" /><path clip-path=\"url(#clip760)\" d=\"M2241 1481.64 L2257.32 1481.64 L2257.32 1485.58 L2235.38 1485.58 L2235.38 1481.64 Q2238.04 1478.89 2242.62 1474.26 Q2247.23 1469.61 2248.41 1468.27 Q2250.66 1465.74 2251.53 1464.01 Q2252.44 1462.25 2252.44 1460.56 Q2252.44 1457.8 2250.49 1456.07 Q2248.57 1454.33 2245.47 1454.33 Q2243.27 1454.33 2240.82 1455.09 Q2238.39 1455.86 2235.61 1457.41 L2235.61 1452.69 Q2238.43 1451.55 2240.89 1450.97 Q2243.34 1450.39 2245.38 1450.39 Q2250.75 1450.39 2253.94 1453.08 Q2257.14 1455.77 2257.14 1460.26 Q2257.14 1462.39 2256.33 1464.31 Q2255.54 1466.2 2253.43 1468.8 Q2252.85 1469.47 2249.75 1472.69 Q2246.65 1475.88 2241 1481.64 Z\" fill=\"#000000\" fill-rule=\"evenodd\" fill-opacity=\"1\" /><path clip-path=\"url(#clip760)\" d=\"M2277.14 1454.1 Q2273.53 1454.1 2271.7 1457.66 Q2269.89 1461.2 2269.89 1468.33 Q2269.89 1475.44 2271.7 1479.01 Q2273.53 1482.55 2277.14 1482.55 Q2280.77 1482.55 2282.58 1479.01 Q2284.41 1475.44 2284.41 1468.33 Q2284.41 1461.2 2282.58 1457.66 Q2280.77 1454.1 2277.14 1454.1 M2277.14 1450.39 Q2282.95 1450.39 2286 1455 Q2289.08 1459.58 2289.08 1468.33 Q2289.08 1477.06 2286 1481.67 Q2282.95 1486.25 2277.14 1486.25 Q2271.33 1486.25 2268.25 1481.67 Q2265.19 1477.06 2265.19 1468.33 Q2265.19 1459.58 2268.25 1455 Q2271.33 1450.39 2277.14 1450.39 Z\" fill=\"#000000\" fill-rule=\"evenodd\" fill-opacity=\"1\" /><path clip-path=\"url(#clip760)\" d=\"M2296.12 1451.02 L2318.34 1451.02 L2318.34 1453.01 L2305.79 1485.58 L2300.91 1485.58 L2312.72 1454.96 L2296.12 1454.96 L2296.12 1451.02 Z\" fill=\"#000000\" fill-rule=\"evenodd\" fill-opacity=\"1\" /><path clip-path=\"url(#clip760)\" d=\"M2337.46 1454.1 Q2333.85 1454.1 2332.02 1457.66 Q2330.21 1461.2 2330.21 1468.33 Q2330.21 1475.44 2332.02 1479.01 Q2333.85 1482.55 2337.46 1482.55 Q2341.09 1482.55 2342.9 1479.01 Q2344.73 1475.44 2344.73 1468.33 Q2344.73 1461.2 2342.9 1457.66 Q2341.09 1454.1 2337.46 1454.1 M2337.46 1450.39 Q2343.27 1450.39 2346.33 1455 Q2349.4 1459.58 2349.4 1468.33 Q2349.4 1477.06 2346.33 1481.67 Q2343.27 1486.25 2337.46 1486.25 Q2331.65 1486.25 2328.57 1481.67 Q2325.52 1477.06 2325.52 1468.33 Q2325.52 1459.58 2328.57 1455 Q2331.65 1450.39 2337.46 1450.39 Z\" fill=\"#000000\" fill-rule=\"evenodd\" fill-opacity=\"1\" /><path clip-path=\"url(#clip760)\" d=\"M1217.24 1520.52 L1224.15 1520.52 L1237.33 1540.07 L1250.41 1520.52 L1257.32 1520.52 L1240.51 1545.41 L1240.51 1568.04 L1234.05 1568.04 L1234.05 1545.41 L1217.24 1520.52 Z\" fill=\"#000000\" fill-rule=\"evenodd\" fill-opacity=\"1\" /><path clip-path=\"url(#clip760)\" d=\"M1285.17 1548.76 L1285.17 1551.62 L1258.24 1551.62 Q1258.62 1557.67 1261.87 1560.85 Q1265.15 1564 1270.97 1564 Q1274.34 1564 1277.49 1563.17 Q1280.68 1562.35 1283.8 1560.69 L1283.8 1566.23 Q1280.65 1567.57 1277.34 1568.27 Q1274.03 1568.97 1270.62 1568.97 Q1262.09 1568.97 1257.09 1564 Q1252.13 1559.04 1252.13 1550.57 Q1252.13 1541.82 1256.84 1536.69 Q1261.58 1531.54 1269.6 1531.54 Q1276.79 1531.54 1280.96 1536.18 Q1285.17 1540.8 1285.17 1548.76 M1279.31 1547.04 Q1279.25 1542.23 1276.6 1539.37 Q1273.99 1536.5 1269.66 1536.5 Q1264.76 1536.5 1261.8 1539.27 Q1258.87 1542.04 1258.43 1547.07 L1279.31 1547.04 Z\" fill=\"#000000\" fill-rule=\"evenodd\" fill-opacity=\"1\" /><path clip-path=\"url(#clip760)\" d=\"M1310.98 1550.12 Q1303.88 1550.12 1301.14 1551.75 Q1298.41 1553.37 1298.41 1557.29 Q1298.41 1560.4 1300.44 1562.25 Q1302.51 1564.07 1306.04 1564.07 Q1310.91 1564.07 1313.84 1560.63 Q1316.8 1557.16 1316.8 1551.43 L1316.8 1550.12 L1310.98 1550.12 M1322.66 1547.71 L1322.66 1568.04 L1316.8 1568.04 L1316.8 1562.63 Q1314.8 1565.88 1311.81 1567.44 Q1308.81 1568.97 1304.49 1568.97 Q1299.01 1568.97 1295.76 1565.91 Q1292.55 1562.82 1292.55 1557.67 Q1292.55 1551.65 1296.56 1548.6 Q1300.6 1545.54 1308.59 1545.54 L1316.8 1545.54 L1316.8 1544.97 Q1316.8 1540.93 1314.13 1538.73 Q1311.49 1536.5 1306.68 1536.5 Q1303.63 1536.5 1300.73 1537.23 Q1297.83 1537.97 1295.16 1539.43 L1295.16 1534.02 Q1298.37 1532.78 1301.4 1532.17 Q1304.42 1531.54 1307.29 1531.54 Q1315.02 1531.54 1318.84 1535.55 Q1322.66 1539.56 1322.66 1547.71 Z\" fill=\"#000000\" fill-rule=\"evenodd\" fill-opacity=\"1\" /><path clip-path=\"url(#clip760)\" d=\"M1355.38 1537.87 Q1354.39 1537.3 1353.21 1537.04 Q1352.07 1536.76 1350.67 1536.76 Q1345.7 1536.76 1343.03 1540 Q1340.39 1543.22 1340.39 1549.27 L1340.39 1568.04 L1334.5 1568.04 L1334.5 1532.4 L1340.39 1532.4 L1340.39 1537.93 Q1342.23 1534.69 1345.19 1533.13 Q1348.15 1531.54 1352.39 1531.54 Q1352.99 1531.54 1353.72 1531.63 Q1354.46 1531.7 1355.35 1531.85 L1355.38 1537.87 Z\" fill=\"#000000\" fill-rule=\"evenodd\" fill-opacity=\"1\" /><polyline clip-path=\"url(#clip762)\" style=\"stroke:#000000; stroke-linecap:butt; stroke-linejoin:round; stroke-width:2; stroke-opacity:0.1; fill:none\" points=\"\n",
       "  219.866,1423.18 2352.76,1423.18 \n",
       "  \"/>\n",
       "<polyline clip-path=\"url(#clip762)\" style=\"stroke:#000000; stroke-linecap:butt; stroke-linejoin:round; stroke-width:2; stroke-opacity:0.1; fill:none\" points=\"\n",
       "  219.866,1147.99 2352.76,1147.99 \n",
       "  \"/>\n",
       "<polyline clip-path=\"url(#clip762)\" style=\"stroke:#000000; stroke-linecap:butt; stroke-linejoin:round; stroke-width:2; stroke-opacity:0.1; fill:none\" points=\"\n",
       "  219.866,872.806 2352.76,872.806 \n",
       "  \"/>\n",
       "<polyline clip-path=\"url(#clip762)\" style=\"stroke:#000000; stroke-linecap:butt; stroke-linejoin:round; stroke-width:2; stroke-opacity:0.1; fill:none\" points=\"\n",
       "  219.866,597.618 2352.76,597.618 \n",
       "  \"/>\n",
       "<polyline clip-path=\"url(#clip762)\" style=\"stroke:#000000; stroke-linecap:butt; stroke-linejoin:round; stroke-width:2; stroke-opacity:0.1; fill:none\" points=\"\n",
       "  219.866,322.431 2352.76,322.431 \n",
       "  \"/>\n",
       "<polyline clip-path=\"url(#clip762)\" style=\"stroke:#000000; stroke-linecap:butt; stroke-linejoin:round; stroke-width:2; stroke-opacity:0.1; fill:none\" points=\"\n",
       "  219.866,47.2441 2352.76,47.2441 \n",
       "  \"/>\n",
       "<polyline clip-path=\"url(#clip760)\" style=\"stroke:#000000; stroke-linecap:butt; stroke-linejoin:round; stroke-width:4; stroke-opacity:1; fill:none\" points=\"\n",
       "  219.866,1423.18 219.866,47.2441 \n",
       "  \"/>\n",
       "<polyline clip-path=\"url(#clip760)\" style=\"stroke:#000000; stroke-linecap:butt; stroke-linejoin:round; stroke-width:4; stroke-opacity:1; fill:none\" points=\"\n",
       "  219.866,1423.18 238.764,1423.18 \n",
       "  \"/>\n",
       "<polyline clip-path=\"url(#clip760)\" style=\"stroke:#000000; stroke-linecap:butt; stroke-linejoin:round; stroke-width:4; stroke-opacity:1; fill:none\" points=\"\n",
       "  219.866,1147.99 238.764,1147.99 \n",
       "  \"/>\n",
       "<polyline clip-path=\"url(#clip760)\" style=\"stroke:#000000; stroke-linecap:butt; stroke-linejoin:round; stroke-width:4; stroke-opacity:1; fill:none\" points=\"\n",
       "  219.866,872.806 238.764,872.806 \n",
       "  \"/>\n",
       "<polyline clip-path=\"url(#clip760)\" style=\"stroke:#000000; stroke-linecap:butt; stroke-linejoin:round; stroke-width:4; stroke-opacity:1; fill:none\" points=\"\n",
       "  219.866,597.618 238.764,597.618 \n",
       "  \"/>\n",
       "<polyline clip-path=\"url(#clip760)\" style=\"stroke:#000000; stroke-linecap:butt; stroke-linejoin:round; stroke-width:4; stroke-opacity:1; fill:none\" points=\"\n",
       "  219.866,322.431 238.764,322.431 \n",
       "  \"/>\n",
       "<polyline clip-path=\"url(#clip760)\" style=\"stroke:#000000; stroke-linecap:butt; stroke-linejoin:round; stroke-width:4; stroke-opacity:1; fill:none\" points=\"\n",
       "  219.866,47.2441 238.764,47.2441 \n",
       "  \"/>\n",
       "<path clip-path=\"url(#clip760)\" d=\"M126.691 1408.98 Q123.08 1408.98 121.251 1412.54 Q119.445 1416.08 119.445 1423.21 Q119.445 1430.32 121.251 1433.89 Q123.08 1437.43 126.691 1437.43 Q130.325 1437.43 132.13 1433.89 Q133.959 1430.32 133.959 1423.21 Q133.959 1416.08 132.13 1412.54 Q130.325 1408.98 126.691 1408.98 M126.691 1405.27 Q132.501 1405.27 135.556 1409.88 Q138.635 1414.46 138.635 1423.21 Q138.635 1431.94 135.556 1436.55 Q132.501 1441.13 126.691 1441.13 Q120.88 1441.13 117.802 1436.55 Q114.746 1431.94 114.746 1423.21 Q114.746 1414.46 117.802 1409.88 Q120.88 1405.27 126.691 1405.27 Z\" fill=\"#000000\" fill-rule=\"evenodd\" fill-opacity=\"1\" /><path clip-path=\"url(#clip760)\" d=\"M146.853 1434.58 L151.737 1434.58 L151.737 1440.46 L146.853 1440.46 L146.853 1434.58 Z\" fill=\"#000000\" fill-rule=\"evenodd\" fill-opacity=\"1\" /><path clip-path=\"url(#clip760)\" d=\"M171.922 1408.98 Q168.311 1408.98 166.482 1412.54 Q164.677 1416.08 164.677 1423.21 Q164.677 1430.32 166.482 1433.89 Q168.311 1437.43 171.922 1437.43 Q175.556 1437.43 177.362 1433.89 Q179.19 1430.32 179.19 1423.21 Q179.19 1416.08 177.362 1412.54 Q175.556 1408.98 171.922 1408.98 M171.922 1405.27 Q177.732 1405.27 180.788 1409.88 Q183.866 1414.46 183.866 1423.21 Q183.866 1431.94 180.788 1436.55 Q177.732 1441.13 171.922 1441.13 Q166.112 1441.13 163.033 1436.55 Q159.978 1431.94 159.978 1423.21 Q159.978 1414.46 163.033 1409.88 Q166.112 1405.27 171.922 1405.27 Z\" fill=\"#000000\" fill-rule=\"evenodd\" fill-opacity=\"1\" /><path clip-path=\"url(#clip760)\" d=\"M128.288 1133.79 Q124.677 1133.79 122.848 1137.36 Q121.043 1140.9 121.043 1148.03 Q121.043 1155.13 122.848 1158.7 Q124.677 1162.24 128.288 1162.24 Q131.922 1162.24 133.728 1158.7 Q135.556 1155.13 135.556 1148.03 Q135.556 1140.9 133.728 1137.36 Q131.922 1133.79 128.288 1133.79 M128.288 1130.09 Q134.098 1130.09 137.154 1134.69 Q140.232 1139.28 140.232 1148.03 Q140.232 1156.75 137.154 1161.36 Q134.098 1165.94 128.288 1165.94 Q122.478 1165.94 119.399 1161.36 Q116.343 1156.75 116.343 1148.03 Q116.343 1139.28 119.399 1134.69 Q122.478 1130.09 128.288 1130.09 Z\" fill=\"#000000\" fill-rule=\"evenodd\" fill-opacity=\"1\" /><path clip-path=\"url(#clip760)\" d=\"M148.45 1159.39 L153.334 1159.39 L153.334 1165.27 L148.45 1165.27 L148.45 1159.39 Z\" fill=\"#000000\" fill-rule=\"evenodd\" fill-opacity=\"1\" /><path clip-path=\"url(#clip760)\" d=\"M167.547 1161.34 L183.866 1161.34 L183.866 1165.27 L161.922 1165.27 L161.922 1161.34 Q164.584 1158.58 169.167 1153.95 Q173.774 1149.3 174.954 1147.96 Q177.2 1145.43 178.079 1143.7 Q178.982 1141.94 178.982 1140.25 Q178.982 1137.5 177.038 1135.76 Q175.116 1134.02 172.014 1134.02 Q169.815 1134.02 167.362 1134.79 Q164.931 1135.55 162.153 1137.1 L162.153 1132.38 Q164.977 1131.25 167.431 1130.67 Q169.885 1130.09 171.922 1130.09 Q177.292 1130.09 180.487 1132.77 Q183.681 1135.46 183.681 1139.95 Q183.681 1142.08 182.871 1144 Q182.084 1145.9 179.977 1148.49 Q179.399 1149.16 176.297 1152.38 Q173.195 1155.57 167.547 1161.34 Z\" fill=\"#000000\" fill-rule=\"evenodd\" fill-opacity=\"1\" /><path clip-path=\"url(#clip760)\" d=\"M126.205 858.604 Q122.593 858.604 120.765 862.169 Q118.959 865.711 118.959 872.84 Q118.959 879.947 120.765 883.512 Q122.593 887.053 126.205 887.053 Q129.839 887.053 131.644 883.512 Q133.473 879.947 133.473 872.84 Q133.473 865.711 131.644 862.169 Q129.839 858.604 126.205 858.604 M126.205 854.901 Q132.015 854.901 135.07 859.507 Q138.149 864.09 138.149 872.84 Q138.149 881.567 135.07 886.174 Q132.015 890.757 126.205 890.757 Q120.394 890.757 117.316 886.174 Q114.26 881.567 114.26 872.84 Q114.26 864.09 117.316 859.507 Q120.394 854.901 126.205 854.901 Z\" fill=\"#000000\" fill-rule=\"evenodd\" fill-opacity=\"1\" /><path clip-path=\"url(#clip760)\" d=\"M146.366 884.206 L151.251 884.206 L151.251 890.086 L146.366 890.086 L146.366 884.206 Z\" fill=\"#000000\" fill-rule=\"evenodd\" fill-opacity=\"1\" /><path clip-path=\"url(#clip760)\" d=\"M174.283 859.6 L162.477 878.049 L174.283 878.049 L174.283 859.6 M173.056 855.526 L178.936 855.526 L178.936 878.049 L183.866 878.049 L183.866 881.937 L178.936 881.937 L178.936 890.086 L174.283 890.086 L174.283 881.937 L158.681 881.937 L158.681 877.424 L173.056 855.526 Z\" fill=\"#000000\" fill-rule=\"evenodd\" fill-opacity=\"1\" /><path clip-path=\"url(#clip760)\" d=\"M126.529 583.417 Q122.918 583.417 121.089 586.982 Q119.283 590.524 119.283 597.653 Q119.283 604.76 121.089 608.324 Q122.918 611.866 126.529 611.866 Q130.163 611.866 131.968 608.324 Q133.797 604.76 133.797 597.653 Q133.797 590.524 131.968 586.982 Q130.163 583.417 126.529 583.417 M126.529 579.713 Q132.339 579.713 135.394 584.32 Q138.473 588.903 138.473 597.653 Q138.473 606.38 135.394 610.986 Q132.339 615.57 126.529 615.57 Q120.718 615.57 117.64 610.986 Q114.584 606.38 114.584 597.653 Q114.584 588.903 117.64 584.32 Q120.718 579.713 126.529 579.713 Z\" fill=\"#000000\" fill-rule=\"evenodd\" fill-opacity=\"1\" /><path clip-path=\"url(#clip760)\" d=\"M146.691 609.019 L151.575 609.019 L151.575 614.898 L146.691 614.898 L146.691 609.019 Z\" fill=\"#000000\" fill-rule=\"evenodd\" fill-opacity=\"1\" /><path clip-path=\"url(#clip760)\" d=\"M172.339 595.755 Q169.19 595.755 167.339 597.908 Q165.51 600.061 165.51 603.81 Q165.51 607.537 167.339 609.713 Q169.19 611.866 172.339 611.866 Q175.487 611.866 177.315 609.713 Q179.167 607.537 179.167 603.81 Q179.167 600.061 177.315 597.908 Q175.487 595.755 172.339 595.755 M181.621 581.102 L181.621 585.362 Q179.862 584.528 178.056 584.088 Q176.274 583.649 174.514 583.649 Q169.885 583.649 167.431 586.774 Q165.001 589.899 164.653 596.218 Q166.019 594.204 168.079 593.139 Q170.139 592.051 172.616 592.051 Q177.825 592.051 180.834 595.223 Q183.866 598.371 183.866 603.81 Q183.866 609.135 180.718 612.352 Q177.57 615.57 172.339 615.57 Q166.343 615.57 163.172 610.986 Q160.001 606.38 160.001 597.653 Q160.001 589.459 163.89 584.598 Q167.778 579.713 174.329 579.713 Q176.089 579.713 177.871 580.061 Q179.676 580.408 181.621 581.102 Z\" fill=\"#000000\" fill-rule=\"evenodd\" fill-opacity=\"1\" /><path clip-path=\"url(#clip760)\" d=\"M126.783 308.23 Q123.172 308.23 121.343 311.795 Q119.538 315.336 119.538 322.466 Q119.538 329.572 121.343 333.137 Q123.172 336.679 126.783 336.679 Q130.417 336.679 132.223 333.137 Q134.052 329.572 134.052 322.466 Q134.052 315.336 132.223 311.795 Q130.417 308.23 126.783 308.23 M126.783 304.526 Q132.593 304.526 135.649 309.133 Q138.728 313.716 138.728 322.466 Q138.728 331.193 135.649 335.799 Q132.593 340.383 126.783 340.383 Q120.973 340.383 117.894 335.799 Q114.839 331.193 114.839 322.466 Q114.839 313.716 117.894 309.133 Q120.973 304.526 126.783 304.526 Z\" fill=\"#000000\" fill-rule=\"evenodd\" fill-opacity=\"1\" /><path clip-path=\"url(#clip760)\" d=\"M146.945 333.832 L151.829 333.832 L151.829 339.711 L146.945 339.711 L146.945 333.832 Z\" fill=\"#000000\" fill-rule=\"evenodd\" fill-opacity=\"1\" /><path clip-path=\"url(#clip760)\" d=\"M172.014 323.299 Q168.681 323.299 166.76 325.082 Q164.862 326.864 164.862 329.989 Q164.862 333.114 166.76 334.896 Q168.681 336.679 172.014 336.679 Q175.348 336.679 177.269 334.896 Q179.19 333.091 179.19 329.989 Q179.19 326.864 177.269 325.082 Q175.371 323.299 172.014 323.299 M167.339 321.309 Q164.329 320.568 162.64 318.508 Q160.973 316.447 160.973 313.485 Q160.973 309.341 163.913 306.934 Q166.876 304.526 172.014 304.526 Q177.176 304.526 180.116 306.934 Q183.056 309.341 183.056 313.485 Q183.056 316.447 181.366 318.508 Q179.7 320.568 176.714 321.309 Q180.093 322.096 181.968 324.387 Q183.866 326.679 183.866 329.989 Q183.866 335.012 180.788 337.697 Q177.732 340.383 172.014 340.383 Q166.297 340.383 163.218 337.697 Q160.163 335.012 160.163 329.989 Q160.163 326.679 162.061 324.387 Q163.959 322.096 167.339 321.309 M165.626 313.924 Q165.626 316.61 167.292 318.114 Q168.982 319.619 172.014 319.619 Q175.024 319.619 176.714 318.114 Q178.426 316.61 178.426 313.924 Q178.426 311.239 176.714 309.735 Q175.024 308.23 172.014 308.23 Q168.982 308.23 167.292 309.735 Q165.626 311.239 165.626 313.924 Z\" fill=\"#000000\" fill-rule=\"evenodd\" fill-opacity=\"1\" /><path clip-path=\"url(#clip760)\" d=\"M117.501 60.5889 L125.14 60.5889 L125.14 34.2233 L116.83 35.89 L116.83 31.6308 L125.093 29.9641 L129.769 29.9641 L129.769 60.5889 L137.408 60.5889 L137.408 64.5241 L117.501 64.5241 L117.501 60.5889 Z\" fill=\"#000000\" fill-rule=\"evenodd\" fill-opacity=\"1\" /><path clip-path=\"url(#clip760)\" d=\"M146.853 58.6445 L151.737 58.6445 L151.737 64.5241 L146.853 64.5241 L146.853 58.6445 Z\" fill=\"#000000\" fill-rule=\"evenodd\" fill-opacity=\"1\" /><path clip-path=\"url(#clip760)\" d=\"M171.922 33.0428 Q168.311 33.0428 166.482 36.6076 Q164.677 40.1492 164.677 47.2788 Q164.677 54.3853 166.482 57.9501 Q168.311 61.4917 171.922 61.4917 Q175.556 61.4917 177.362 57.9501 Q179.19 54.3853 179.19 47.2788 Q179.19 40.1492 177.362 36.6076 Q175.556 33.0428 171.922 33.0428 M171.922 29.3391 Q177.732 29.3391 180.788 33.9456 Q183.866 38.5289 183.866 47.2788 Q183.866 56.0056 180.788 60.6121 Q177.732 65.1954 171.922 65.1954 Q166.112 65.1954 163.033 60.6121 Q159.978 56.0056 159.978 47.2788 Q159.978 38.5289 163.033 33.9456 Q166.112 29.3391 171.922 29.3391 Z\" fill=\"#000000\" fill-rule=\"evenodd\" fill-opacity=\"1\" /><path clip-path=\"url(#clip760)\" d=\"M16.4842 1323.05 L16.4842 1293.01 L21.895 1293.01 L21.895 1316.62 L35.9632 1316.62 L35.9632 1293.99 L41.3741 1293.99 L41.3741 1316.62 L58.5933 1316.62 L58.5933 1292.43 L64.0042 1292.43 L64.0042 1323.05 L16.4842 1323.05 Z\" fill=\"#000000\" fill-rule=\"evenodd\" fill-opacity=\"1\" /><path clip-path=\"url(#clip760)\" d=\"M35.1993 1254.37 Q31.2526 1252.17 29.3747 1249.12 Q27.4968 1246.06 27.4968 1241.92 Q27.4968 1236.35 31.4117 1233.33 Q35.2948 1230.3 42.4881 1230.3 L64.0042 1230.3 L64.0042 1236.19 L42.679 1236.19 Q37.5546 1236.19 35.072 1238.01 Q32.5894 1239.82 32.5894 1243.55 Q32.5894 1248.1 35.6131 1250.74 Q38.6368 1253.38 43.8567 1253.38 L64.0042 1253.38 L64.0042 1259.27 L42.679 1259.27 Q37.5228 1259.27 35.072 1261.08 Q32.5894 1262.9 32.5894 1266.68 Q32.5894 1271.17 35.6449 1273.81 Q38.6686 1276.46 43.8567 1276.46 L64.0042 1276.46 L64.0042 1282.34 L28.3562 1282.34 L28.3562 1276.46 L33.8944 1276.46 Q30.616 1274.45 29.0564 1271.65 Q27.4968 1268.85 27.4968 1265 Q27.4968 1261.11 29.4702 1258.41 Q31.4436 1255.67 35.1993 1254.37 Z\" fill=\"#000000\" fill-rule=\"evenodd\" fill-opacity=\"1\" /><path clip-path=\"url(#clip760)\" d=\"M28.3562 1218.62 L28.3562 1212.77 L64.0042 1212.77 L64.0042 1218.62 L28.3562 1218.62 M14.479 1218.62 L14.479 1212.77 L21.895 1212.77 L21.895 1218.62 L14.479 1218.62 Z\" fill=\"#000000\" fill-rule=\"evenodd\" fill-opacity=\"1\" /><path clip-path=\"url(#clip760)\" d=\"M29.4065 1177.79 L34.9447 1177.79 Q33.6716 1180.27 33.035 1182.94 Q32.3984 1185.62 32.3984 1188.48 Q32.3984 1192.84 33.7352 1195.04 Q35.072 1197.2 37.7456 1197.2 Q39.7826 1197.2 40.9603 1195.64 Q42.1061 1194.08 43.1565 1189.37 L43.6021 1187.37 Q44.9389 1181.13 47.3897 1178.52 Q49.8086 1175.88 54.1691 1175.88 Q59.1344 1175.88 62.0308 1179.82 Q64.9272 1183.74 64.9272 1190.61 Q64.9272 1193.48 64.3543 1196.6 Q63.8132 1199.69 62.6992 1203.12 L56.6518 1203.12 Q58.3387 1199.88 59.198 1196.73 Q60.0256 1193.57 60.0256 1190.49 Q60.0256 1186.35 58.6251 1184.12 Q57.1929 1181.89 54.6147 1181.89 Q52.2276 1181.89 50.9545 1183.52 Q49.6813 1185.11 48.5037 1190.55 L48.0262 1192.59 Q46.8804 1198.03 44.5251 1200.45 Q42.138 1202.87 38.0002 1202.87 Q32.9713 1202.87 30.2341 1199.3 Q27.4968 1195.74 27.4968 1189.18 Q27.4968 1185.94 27.9743 1183.07 Q28.4517 1180.21 29.4065 1177.79 Z\" fill=\"#000000\" fill-rule=\"evenodd\" fill-opacity=\"1\" /><path clip-path=\"url(#clip760)\" d=\"M29.4065 1143.83 L34.9447 1143.83 Q33.6716 1146.31 33.035 1148.98 Q32.3984 1151.66 32.3984 1154.52 Q32.3984 1158.88 33.7352 1161.08 Q35.072 1163.24 37.7456 1163.24 Q39.7826 1163.24 40.9603 1161.68 Q42.1061 1160.12 43.1565 1155.41 L43.6021 1153.41 Q44.9389 1147.17 47.3897 1144.56 Q49.8086 1141.92 54.1691 1141.92 Q59.1344 1141.92 62.0308 1145.86 Q64.9272 1149.78 64.9272 1156.65 Q64.9272 1159.52 64.3543 1162.64 Q63.8132 1165.72 62.6992 1169.16 L56.6518 1169.16 Q58.3387 1165.92 59.198 1162.76 Q60.0256 1159.61 60.0256 1156.53 Q60.0256 1152.39 58.6251 1150.16 Q57.1929 1147.93 54.6147 1147.93 Q52.2276 1147.93 50.9545 1149.56 Q49.6813 1151.15 48.5037 1156.59 L48.0262 1158.63 Q46.8804 1164.07 44.5251 1166.49 Q42.138 1168.91 38.0002 1168.91 Q32.9713 1168.91 30.2341 1165.34 Q27.4968 1161.78 27.4968 1155.22 Q27.4968 1151.97 27.9743 1149.11 Q28.4517 1146.25 29.4065 1143.83 Z\" fill=\"#000000\" fill-rule=\"evenodd\" fill-opacity=\"1\" /><path clip-path=\"url(#clip760)\" d=\"M28.3562 1132.59 L28.3562 1126.73 L64.0042 1126.73 L64.0042 1132.59 L28.3562 1132.59 M14.479 1132.59 L14.479 1126.73 L21.895 1126.73 L21.895 1132.59 L14.479 1132.59 Z\" fill=\"#000000\" fill-rule=\"evenodd\" fill-opacity=\"1\" /><path clip-path=\"url(#clip760)\" d=\"M32.4621 1100.67 Q32.4621 1105.38 36.1542 1108.12 Q39.8145 1110.85 46.212 1110.85 Q52.6095 1110.85 56.3017 1108.15 Q59.9619 1105.41 59.9619 1100.67 Q59.9619 1095.99 56.2698 1093.25 Q52.5777 1090.51 46.212 1090.51 Q39.8781 1090.51 36.186 1093.25 Q32.4621 1095.99 32.4621 1100.67 M27.4968 1100.67 Q27.4968 1093.03 32.4621 1088.67 Q37.4273 1084.31 46.212 1084.31 Q54.9649 1084.31 59.9619 1088.67 Q64.9272 1093.03 64.9272 1100.67 Q64.9272 1108.34 59.9619 1112.7 Q54.9649 1117.03 46.212 1117.03 Q37.4273 1117.03 32.4621 1112.7 Q27.4968 1108.34 27.4968 1100.67 Z\" fill=\"#000000\" fill-rule=\"evenodd\" fill-opacity=\"1\" /><path clip-path=\"url(#clip760)\" d=\"M42.4881 1044.97 L64.0042 1044.97 L64.0042 1050.82 L42.679 1050.82 Q37.6183 1050.82 35.1038 1052.8 Q32.5894 1054.77 32.5894 1058.72 Q32.5894 1063.46 35.6131 1066.2 Q38.6368 1068.93 43.8567 1068.93 L64.0042 1068.93 L64.0042 1074.82 L28.3562 1074.82 L28.3562 1068.93 L33.8944 1068.93 Q30.6797 1066.83 29.0883 1064 Q27.4968 1061.14 27.4968 1057.41 Q27.4968 1051.27 31.3163 1048.12 Q35.1038 1044.97 42.4881 1044.97 Z\" fill=\"#000000\" fill-rule=\"evenodd\" fill-opacity=\"1\" /><path clip-path=\"url(#clip760)\" d=\"M29.4065 1010.56 L34.9447 1010.56 Q33.6716 1013.04 33.035 1015.72 Q32.3984 1018.39 32.3984 1021.25 Q32.3984 1025.62 33.7352 1027.81 Q35.072 1029.98 37.7456 1029.98 Q39.7826 1029.98 40.9603 1028.42 Q42.1061 1026.86 43.1565 1022.15 L43.6021 1020.14 Q44.9389 1013.9 47.3897 1011.29 Q49.8086 1008.65 54.1691 1008.65 Q59.1344 1008.65 62.0308 1012.6 Q64.9272 1016.51 64.9272 1023.39 Q64.9272 1026.25 64.3543 1029.37 Q63.8132 1032.46 62.6992 1035.9 L56.6518 1035.9 Q58.3387 1032.65 59.198 1029.5 Q60.0256 1026.35 60.0256 1023.26 Q60.0256 1019.12 58.6251 1016.89 Q57.1929 1014.67 54.6147 1014.67 Q52.2276 1014.67 50.9545 1016.29 Q49.6813 1017.88 48.5037 1023.32 L48.0262 1025.36 Q46.8804 1030.8 44.5251 1033.22 Q42.138 1035.64 38.0002 1035.64 Q32.9713 1035.64 30.2341 1032.08 Q27.4968 1028.51 27.4968 1021.96 Q27.4968 1018.71 27.9743 1015.84 Q28.4517 1012.98 29.4065 1010.56 Z\" fill=\"#000000\" fill-rule=\"evenodd\" fill-opacity=\"1\" /><path clip-path=\"url(#clip760)\" d=\"M14.479 960.558 L19.3487 960.558 L19.3487 966.16 Q19.3487 969.311 20.6219 970.552 Q21.895 971.762 25.2052 971.762 L28.3562 971.762 L28.3562 962.118 L32.9077 962.118 L32.9077 971.762 L64.0042 971.762 L64.0042 977.65 L32.9077 977.65 L32.9077 983.252 L28.3562 983.252 L28.3562 977.65 L25.8736 977.65 Q19.9216 977.65 17.2162 974.881 Q14.479 972.112 14.479 966.096 L14.479 960.558 Z\" fill=\"#000000\" fill-rule=\"evenodd\" fill-opacity=\"1\" /><path clip-path=\"url(#clip760)\" d=\"M33.8307 935 Q33.2578 935.986 33.0032 937.164 Q32.7167 938.31 32.7167 939.71 Q32.7167 944.676 35.9632 947.349 Q39.1779 949.991 45.2253 949.991 L64.0042 949.991 L64.0042 955.879 L28.3562 955.879 L28.3562 949.991 L33.8944 949.991 Q30.6479 948.145 29.0883 945.185 Q27.4968 942.225 27.4968 937.992 Q27.4968 937.387 27.5923 936.655 Q27.656 935.923 27.8151 935.031 L33.8307 935 Z\" fill=\"#000000\" fill-rule=\"evenodd\" fill-opacity=\"1\" /><path clip-path=\"url(#clip760)\" d=\"M32.4621 916.475 Q32.4621 921.186 36.1542 923.923 Q39.8145 926.661 46.212 926.661 Q52.6095 926.661 56.3017 923.955 Q59.9619 921.218 59.9619 916.475 Q59.9619 911.797 56.2698 909.059 Q52.5777 906.322 46.212 906.322 Q39.8781 906.322 36.186 909.059 Q32.4621 911.797 32.4621 916.475 M27.4968 916.475 Q27.4968 908.837 32.4621 904.476 Q37.4273 900.116 46.212 900.116 Q54.9649 900.116 59.9619 904.476 Q64.9272 908.837 64.9272 916.475 Q64.9272 924.146 59.9619 928.507 Q54.9649 932.835 46.212 932.835 Q37.4273 932.835 32.4621 928.507 Q27.4968 924.146 27.4968 916.475 Z\" fill=\"#000000\" fill-rule=\"evenodd\" fill-opacity=\"1\" /><path clip-path=\"url(#clip760)\" d=\"M35.1993 862.653 Q31.2526 860.457 29.3747 857.402 Q27.4968 854.346 27.4968 850.208 Q27.4968 844.638 31.4117 841.615 Q35.2948 838.591 42.4881 838.591 L64.0042 838.591 L64.0042 844.479 L42.679 844.479 Q37.5546 844.479 35.072 846.294 Q32.5894 848.108 32.5894 851.832 Q32.5894 856.383 35.6131 859.025 Q38.6368 861.667 43.8567 861.667 L64.0042 861.667 L64.0042 867.555 L42.679 867.555 Q37.5228 867.555 35.072 869.369 Q32.5894 871.183 32.5894 874.971 Q32.5894 879.459 35.6449 882.101 Q38.6686 884.742 43.8567 884.742 L64.0042 884.742 L64.0042 890.631 L28.3562 890.631 L28.3562 884.742 L33.8944 884.742 Q30.616 882.737 29.0564 879.936 Q27.4968 877.135 27.4968 873.284 Q27.4968 869.401 29.4702 866.696 Q31.4436 863.958 35.1993 862.653 Z\" fill=\"#000000\" fill-rule=\"evenodd\" fill-opacity=\"1\" /><path clip-path=\"url(#clip760)\" d=\"M16.4842 805.935 L16.4842 775.889 L21.895 775.889 L21.895 799.506 L35.9632 799.506 L35.9632 776.876 L41.3741 776.876 L41.3741 799.506 L58.5933 799.506 L58.5933 775.316 L64.0042 775.316 L64.0042 805.935 L16.4842 805.935 Z\" fill=\"#000000\" fill-rule=\"evenodd\" fill-opacity=\"1\" /><path clip-path=\"url(#clip760)\" d=\"M14.479 765.003 L14.479 759.147 L64.0042 759.147 L64.0042 765.003 L14.479 765.003 Z\" fill=\"#000000\" fill-rule=\"evenodd\" fill-opacity=\"1\" /><path clip-path=\"url(#clip760)\" d=\"M44.7161 716.401 L47.5806 716.401 L47.5806 743.328 Q53.6281 742.946 56.8109 739.7 Q59.9619 736.421 59.9619 730.597 Q59.9619 727.223 59.1344 724.072 Q58.3069 720.889 56.6518 717.77 L62.1899 717.77 Q63.5267 720.921 64.227 724.231 Q64.9272 727.541 64.9272 730.947 Q64.9272 739.477 59.9619 744.474 Q54.9967 749.439 46.5303 749.439 Q37.7774 749.439 32.6531 744.729 Q27.4968 739.986 27.4968 731.965 Q27.4968 724.772 32.1438 720.603 Q36.7589 716.401 44.7161 716.401 M42.9973 722.258 Q38.1912 722.321 35.3266 724.963 Q32.4621 727.573 32.4621 731.902 Q32.4621 736.803 35.2312 739.763 Q38.0002 742.692 43.0292 743.137 L42.9973 722.258 Z\" fill=\"#000000\" fill-rule=\"evenodd\" fill-opacity=\"1\" /><path clip-path=\"url(#clip760)\" d=\"M29.7248 681.135 L35.1993 681.135 Q33.8307 683.618 33.1623 686.132 Q32.4621 688.615 32.4621 691.161 Q32.4621 696.859 36.0905 700.01 Q39.6872 703.161 46.212 703.161 Q52.7369 703.161 56.3653 700.01 Q59.9619 696.859 59.9619 691.161 Q59.9619 688.615 59.2935 686.132 Q58.5933 683.618 57.2247 681.135 L62.6355 681.135 Q63.7814 683.586 64.3543 686.228 Q64.9272 688.838 64.9272 691.798 Q64.9272 699.85 59.8664 704.593 Q54.8057 709.335 46.212 709.335 Q37.491 709.335 32.4939 704.561 Q27.4968 699.755 27.4968 691.416 Q27.4968 688.71 28.0697 686.132 Q28.6108 683.554 29.7248 681.135 Z\" fill=\"#000000\" fill-rule=\"evenodd\" fill-opacity=\"1\" /><path clip-path=\"url(#clip760)\" d=\"M18.2347 665.157 L28.3562 665.157 L28.3562 653.094 L32.9077 653.094 L32.9077 665.157 L52.2594 665.157 Q56.6199 665.157 57.8613 663.98 Q59.1026 662.77 59.1026 659.11 L59.1026 653.094 L64.0042 653.094 L64.0042 659.11 Q64.0042 665.889 61.4897 668.468 Q58.9434 671.046 52.2594 671.046 L32.9077 671.046 L32.9077 675.342 L28.3562 675.342 L28.3562 671.046 L18.2347 671.046 L18.2347 665.157 Z\" fill=\"#000000\" fill-rule=\"evenodd\" fill-opacity=\"1\" /><path clip-path=\"url(#clip760)\" d=\"M33.8307 624.735 Q33.2578 625.722 33.0032 626.899 Q32.7167 628.045 32.7167 629.446 Q32.7167 634.411 35.9632 637.085 Q39.1779 639.726 45.2253 639.726 L64.0042 639.726 L64.0042 645.615 L28.3562 645.615 L28.3562 639.726 L33.8944 639.726 Q30.6479 637.88 29.0883 634.92 Q27.4968 631.96 27.4968 627.727 Q27.4968 627.122 27.5923 626.39 Q27.656 625.658 27.8151 624.767 L33.8307 624.735 Z\" fill=\"#000000\" fill-rule=\"evenodd\" fill-opacity=\"1\" /><path clip-path=\"url(#clip760)\" d=\"M28.3562 618.592 L28.3562 612.736 L64.0042 612.736 L64.0042 618.592 L28.3562 618.592 M14.479 618.592 L14.479 612.736 L21.895 612.736 L21.895 618.592 L14.479 618.592 Z\" fill=\"#000000\" fill-rule=\"evenodd\" fill-opacity=\"1\" /><path clip-path=\"url(#clip760)\" d=\"M29.7248 574.828 L35.1993 574.828 Q33.8307 577.311 33.1623 579.825 Q32.4621 582.308 32.4621 584.854 Q32.4621 590.551 36.0905 593.702 Q39.6872 596.853 46.212 596.853 Q52.7369 596.853 56.3653 593.702 Q59.9619 590.551 59.9619 584.854 Q59.9619 582.308 59.2935 579.825 Q58.5933 577.311 57.2247 574.828 L62.6355 574.828 Q63.7814 577.279 64.3543 579.921 Q64.9272 582.53 64.9272 585.491 Q64.9272 593.543 59.8664 598.286 Q54.8057 603.028 46.212 603.028 Q37.491 603.028 32.4939 598.254 Q27.4968 593.448 27.4968 585.109 Q27.4968 582.403 28.0697 579.825 Q28.6108 577.247 29.7248 574.828 Z\" fill=\"#000000\" fill-rule=\"evenodd\" fill-opacity=\"1\" /><path clip-path=\"url(#clip760)\" d=\"M28.3562 564.643 L28.3562 558.786 L64.0042 558.786 L64.0042 564.643 L28.3562 564.643 M14.479 564.643 L14.479 558.786 L21.895 558.786 L21.895 564.643 L14.479 564.643 Z\" fill=\"#000000\" fill-rule=\"evenodd\" fill-opacity=\"1\" /><path clip-path=\"url(#clip760)\" d=\"M18.2347 540.74 L28.3562 540.74 L28.3562 528.677 L32.9077 528.677 L32.9077 540.74 L52.2594 540.74 Q56.6199 540.74 57.8613 539.562 Q59.1026 538.352 59.1026 534.692 L59.1026 528.677 L64.0042 528.677 L64.0042 534.692 Q64.0042 541.472 61.4897 544.05 Q58.9434 546.628 52.2594 546.628 L32.9077 546.628 L32.9077 550.925 L28.3562 550.925 L28.3562 546.628 L18.2347 546.628 L18.2347 540.74 Z\" fill=\"#000000\" fill-rule=\"evenodd\" fill-opacity=\"1\" /><path clip-path=\"url(#clip760)\" d=\"M67.3143 506.142 Q73.68 508.625 75.6216 510.98 Q77.5631 513.335 77.5631 517.282 L77.5631 521.961 L72.6615 521.961 L72.6615 518.523 Q72.6615 516.104 71.5157 514.768 Q70.3699 513.431 66.1048 511.807 L63.4312 510.757 L28.3562 525.175 L28.3562 518.969 L56.238 507.829 L28.3562 496.689 L28.3562 490.482 L67.3143 506.142 Z\" fill=\"#000000\" fill-rule=\"evenodd\" fill-opacity=\"1\" /><path clip-path=\"url(#clip760)\" d=\"M14.5426 447.609 Q21.8632 451.874 29.0246 453.943 Q36.186 456.012 43.5384 456.012 Q50.8908 456.012 58.1159 453.943 Q65.3091 451.843 72.5979 447.609 L72.5979 452.702 Q65.1182 457.476 57.8931 459.863 Q50.668 462.219 43.5384 462.219 Q36.4406 462.219 29.2474 459.863 Q22.0542 457.508 14.5426 452.702 L14.5426 447.609 Z\" fill=\"#000000\" fill-rule=\"evenodd\" fill-opacity=\"1\" /><path clip-path=\"url(#clip760)\" d=\"M58.657 430.581 L77.5631 430.581 L77.5631 436.469 L28.3562 436.469 L28.3562 430.581 L33.7671 430.581 Q30.5842 428.735 29.0564 425.934 Q27.4968 423.101 27.4968 419.186 Q27.4968 412.693 32.6531 408.651 Q37.8093 404.577 46.212 404.577 Q54.6147 404.577 59.771 408.651 Q64.9272 412.693 64.9272 419.186 Q64.9272 423.101 63.3994 425.934 Q61.8398 428.735 58.657 430.581 M46.212 410.656 Q39.7508 410.656 36.0905 413.33 Q32.3984 415.972 32.3984 420.619 Q32.3984 425.266 36.0905 427.939 Q39.7508 430.581 46.212 430.581 Q52.6732 430.581 56.3653 427.939 Q60.0256 425.266 60.0256 420.619 Q60.0256 415.972 56.3653 413.33 Q52.6732 410.656 46.212 410.656 Z\" fill=\"#000000\" fill-rule=\"evenodd\" fill-opacity=\"1\" /><path clip-path=\"url(#clip760)\" d=\"M44.7161 364.378 L47.5806 364.378 L47.5806 391.305 Q53.6281 390.923 56.8109 387.676 Q59.9619 384.398 59.9619 378.573 Q59.9619 375.199 59.1344 372.048 Q58.3069 368.866 56.6518 365.746 L62.1899 365.746 Q63.5267 368.897 64.227 372.208 Q64.9272 375.518 64.9272 378.923 Q64.9272 387.453 59.9619 392.45 Q54.9967 397.416 46.5303 397.416 Q37.7774 397.416 32.6531 392.705 Q27.4968 387.963 27.4968 379.942 Q27.4968 372.749 32.1438 368.579 Q36.7589 364.378 44.7161 364.378 M42.9973 370.234 Q38.1912 370.298 35.3266 372.94 Q32.4621 375.55 32.4621 379.878 Q32.4621 384.78 35.2312 387.74 Q38.0002 390.668 43.0292 391.114 L42.9973 370.234 Z\" fill=\"#000000\" fill-rule=\"evenodd\" fill-opacity=\"1\" /><path clip-path=\"url(#clip760)\" d=\"M33.8307 334.109 Q33.2578 335.095 33.0032 336.273 Q32.7167 337.419 32.7167 338.819 Q32.7167 343.785 35.9632 346.458 Q39.1779 349.1 45.2253 349.1 L64.0042 349.1 L64.0042 354.988 L28.3562 354.988 L28.3562 349.1 L33.8944 349.1 Q30.6479 347.254 29.0883 344.294 Q27.4968 341.334 27.4968 337.101 Q27.4968 336.496 27.5923 335.764 Q27.656 335.032 27.8151 334.141 L33.8307 334.109 Z\" fill=\"#000000\" fill-rule=\"evenodd\" fill-opacity=\"1\" /><path clip-path=\"url(#clip760)\" d=\"M16.4842 306.991 L16.4842 300.562 L36.568 300.562 L16.4842 279.236 L16.4842 270.961 L38.6368 294.546 L64.0042 269.274 L64.0042 277.74 L41.1194 300.562 L64.0042 300.562 L64.0042 306.991 L16.4842 306.991 Z\" fill=\"#000000\" fill-rule=\"evenodd\" fill-opacity=\"1\" /><path clip-path=\"url(#clip760)\" d=\"M16.4842 270.802 L16.4842 264.309 L56.6518 254.315 L16.4842 244.352 L16.4842 237.127 L56.6518 227.133 L16.4842 217.171 L16.4842 210.646 L64.0042 222.582 L64.0042 230.666 L22.7544 240.692 L64.0042 250.814 L64.0042 258.898 L16.4842 270.802 Z\" fill=\"#000000\" fill-rule=\"evenodd\" fill-opacity=\"1\" /><path clip-path=\"url(#clip760)\" d=\"M42.4881 172.738 L64.0042 172.738 L64.0042 178.595 L42.679 178.595 Q37.6183 178.595 35.1038 180.568 Q32.5894 182.541 32.5894 186.488 Q32.5894 191.231 35.6131 193.968 Q38.6368 196.705 43.8567 196.705 L64.0042 196.705 L64.0042 202.593 L14.479 202.593 L14.479 196.705 L33.8944 196.705 Q30.6797 194.604 29.0883 191.772 Q27.4968 188.907 27.4968 185.183 Q27.4968 179.04 31.3163 175.889 Q35.1038 172.738 42.4881 172.738 Z\" fill=\"#000000\" fill-rule=\"evenodd\" fill-opacity=\"1\" /><path clip-path=\"url(#clip760)\" d=\"M14.5426 161.98 L14.5426 156.888 Q22.0542 152.113 29.2474 149.758 Q36.4406 147.371 43.5384 147.371 Q50.668 147.371 57.8931 149.758 Q65.1182 152.113 72.5979 156.888 L72.5979 161.98 Q65.3091 157.747 58.1159 155.678 Q50.8908 153.577 43.5384 153.577 Q36.186 153.577 29.0246 155.678 Q21.8632 157.747 14.5426 161.98 Z\" fill=\"#000000\" fill-rule=\"evenodd\" fill-opacity=\"1\" /><polyline clip-path=\"url(#clip762)\" style=\"stroke:#009af9; stroke-linecap:butt; stroke-linejoin:round; stroke-width:8; stroke-opacity:1; fill:none\" points=\"\n",
       "  280.231,47.2441 682.663,116.337 1085.1,309.848 1487.53,564.961 1889.96,852.57 2292.39,967.13 \n",
       "  \"/>\n",
       "<polyline clip-path=\"url(#clip762)\" style=\"stroke:#e26f46; stroke-linecap:butt; stroke-linejoin:round; stroke-width:8; stroke-opacity:1; fill:none\" points=\"\n",
       "  280.231,47.2441 682.663,447.09 1085.1,956.837 1487.53,1192.78 1889.96,1367.28 2292.39,1433.57 \n",
       "  \"/>\n",
       "<polyline clip-path=\"url(#clip762)\" style=\"stroke:#3da44d; stroke-linecap:butt; stroke-linejoin:round; stroke-width:8; stroke-opacity:1; fill:none\" points=\"\n",
       "  280.231,47.2441 682.663,333.415 1085.1,615.864 1487.53,842.944 1889.96,1070.4 2292.39,1184.63 \n",
       "  \"/>\n",
       "<polyline clip-path=\"url(#clip762)\" style=\"stroke:#c271d2; stroke-linecap:butt; stroke-linejoin:round; stroke-width:8; stroke-opacity:1; fill:none\" points=\"\n",
       "  280.231,47.2441 682.663,259.484 1085.1,463.101 1487.53,608.037 1889.96,740.983 2292.39,897.188 \n",
       "  \"/>\n",
       "<polyline clip-path=\"url(#clip762)\" style=\"stroke:#ac8d18; stroke-linecap:butt; stroke-linejoin:round; stroke-width:8; stroke-opacity:1; fill:none\" points=\"\n",
       "  280.231,47.2441 682.663,235.219 1085.1,381.617 1487.53,461.885 1889.96,533.552 2292.39,634.471 \n",
       "  \"/>\n",
       "<polyline clip-path=\"url(#clip762)\" style=\"stroke:#00a9ad; stroke-linecap:butt; stroke-linejoin:round; stroke-width:8; stroke-opacity:1; fill:none\" points=\"\n",
       "  280.231,47.2441 682.663,228.36 1085.1,369.572 1487.53,439.747 1889.96,499.159 2292.39,576.031 \n",
       "  \"/>\n",
       "<path clip-path=\"url(#clip760)\" d=\"\n",
       "M1599.16 455.989 L2281.66 455.989 L2281.66 93.1086 L1599.16 93.1086  Z\n",
       "  \" fill=\"#ffffff\" fill-rule=\"evenodd\" fill-opacity=\"1\"/>\n",
       "<polyline clip-path=\"url(#clip760)\" style=\"stroke:#000000; stroke-linecap:butt; stroke-linejoin:round; stroke-width:4; stroke-opacity:1; fill:none\" points=\"\n",
       "  1599.16,455.989 2281.66,455.989 2281.66,93.1086 1599.16,93.1086 1599.16,455.989 \n",
       "  \"/>\n",
       "<polyline clip-path=\"url(#clip760)\" style=\"stroke:#009af9; stroke-linecap:butt; stroke-linejoin:round; stroke-width:4; stroke-opacity:1; fill:none\" points=\"\n",
       "  1622.86,144.949 1765.06,144.949 \n",
       "  \"/>\n",
       "<path clip-path=\"url(#clip760)\" d=\"M1788.76 127.669 L1795.05 127.669 L1810.38 156.581 L1810.38 127.669 L1814.91 127.669 L1814.91 162.229 L1808.62 162.229 L1793.29 133.317 L1793.29 162.229 L1788.76 162.229 L1788.76 127.669 Z\" fill=\"#000000\" fill-rule=\"evenodd\" fill-opacity=\"1\" /><path clip-path=\"url(#clip760)\" d=\"M1834.08 139.289 Q1830.65 139.289 1828.66 141.974 Q1826.67 144.636 1826.67 149.289 Q1826.67 153.942 1828.64 156.627 Q1830.63 159.289 1834.08 159.289 Q1837.48 159.289 1839.47 156.604 Q1841.46 153.918 1841.46 149.289 Q1841.46 144.682 1839.47 141.997 Q1837.48 139.289 1834.08 139.289 M1834.08 135.678 Q1839.63 135.678 1842.81 139.289 Q1845.98 142.9 1845.98 149.289 Q1845.98 155.655 1842.81 159.289 Q1839.63 162.9 1834.08 162.9 Q1828.5 162.9 1825.33 159.289 Q1822.18 155.655 1822.18 149.289 Q1822.18 142.9 1825.33 139.289 Q1828.5 135.678 1834.08 135.678 Z\" fill=\"#000000\" fill-rule=\"evenodd\" fill-opacity=\"1\" /><path clip-path=\"url(#clip760)\" d=\"M1885.17 140.238 L1885.17 126.21 L1889.43 126.21 L1889.43 162.229 L1885.17 162.229 L1885.17 158.34 Q1883.82 160.655 1881.76 161.789 Q1879.73 162.9 1876.86 162.9 Q1872.16 162.9 1869.19 159.15 Q1866.25 155.4 1866.25 149.289 Q1866.25 143.178 1869.19 139.428 Q1872.16 135.678 1876.86 135.678 Q1879.73 135.678 1881.76 136.812 Q1883.82 137.923 1885.17 140.238 M1870.65 149.289 Q1870.65 153.988 1872.57 156.673 Q1874.52 159.335 1877.9 159.335 Q1881.28 159.335 1883.22 156.673 Q1885.17 153.988 1885.17 149.289 Q1885.17 144.59 1883.22 141.928 Q1881.28 139.243 1877.9 139.243 Q1874.52 139.243 1872.57 141.928 Q1870.65 144.59 1870.65 149.289 Z\" fill=\"#000000\" fill-rule=\"evenodd\" fill-opacity=\"1\" /><path clip-path=\"url(#clip760)\" d=\"M1920.37 148.201 L1920.37 150.284 L1900.79 150.284 Q1901.07 154.682 1903.43 156.997 Q1905.81 159.289 1910.05 159.289 Q1912.5 159.289 1914.8 158.687 Q1917.11 158.085 1919.38 156.881 L1919.38 160.909 Q1917.09 161.881 1914.68 162.391 Q1912.27 162.9 1909.8 162.9 Q1903.59 162.9 1899.96 159.289 Q1896.35 155.678 1896.35 149.52 Q1896.35 143.155 1899.77 139.428 Q1903.22 135.678 1909.06 135.678 Q1914.29 135.678 1917.32 139.057 Q1920.37 142.414 1920.37 148.201 M1916.12 146.951 Q1916.07 143.456 1914.15 141.372 Q1912.25 139.289 1909.1 139.289 Q1905.54 139.289 1903.38 141.303 Q1901.25 143.317 1900.93 146.974 L1916.12 146.951 Z\" fill=\"#000000\" fill-rule=\"evenodd\" fill-opacity=\"1\" /><path clip-path=\"url(#clip760)\" d=\"M1947.55 141.28 Q1949.15 138.409 1951.37 137.044 Q1953.59 135.678 1956.6 135.678 Q1960.65 135.678 1962.85 138.525 Q1965.05 141.349 1965.05 146.581 L1965.05 162.229 L1960.77 162.229 L1960.77 146.719 Q1960.77 142.993 1959.45 141.187 Q1958.13 139.382 1955.42 139.382 Q1952.11 139.382 1950.19 141.581 Q1948.27 143.78 1948.27 147.576 L1948.27 162.229 L1943.99 162.229 L1943.99 146.719 Q1943.99 142.969 1942.67 141.187 Q1941.35 139.382 1938.59 139.382 Q1935.33 139.382 1933.41 141.604 Q1931.49 143.803 1931.49 147.576 L1931.49 162.229 L1927.2 162.229 L1927.2 136.303 L1931.49 136.303 L1931.49 140.331 Q1932.94 137.946 1934.98 136.812 Q1937.02 135.678 1939.82 135.678 Q1942.64 135.678 1944.61 137.113 Q1946.6 138.548 1947.55 141.28 Z\" fill=\"#000000\" fill-rule=\"evenodd\" fill-opacity=\"1\" /><path clip-path=\"url(#clip760)\" d=\"M1985.33 149.196 Q1980.17 149.196 1978.18 150.377 Q1976.18 151.557 1976.18 154.405 Q1976.18 156.673 1977.67 158.016 Q1979.17 159.335 1981.74 159.335 Q1985.28 159.335 1987.41 156.835 Q1989.56 154.312 1989.56 150.145 L1989.56 149.196 L1985.33 149.196 M1993.82 147.437 L1993.82 162.229 L1989.56 162.229 L1989.56 158.293 Q1988.11 160.655 1985.93 161.789 Q1983.75 162.9 1980.61 162.9 Q1976.62 162.9 1974.26 160.678 Q1971.93 158.432 1971.93 154.682 Q1971.93 150.307 1974.84 148.085 Q1977.78 145.863 1983.59 145.863 L1989.56 145.863 L1989.56 145.446 Q1989.56 142.507 1987.62 140.909 Q1985.7 139.289 1982.2 139.289 Q1979.98 139.289 1977.87 139.821 Q1975.77 140.354 1973.82 141.419 L1973.82 137.483 Q1976.16 136.581 1978.36 136.141 Q1980.56 135.678 1982.64 135.678 Q1988.27 135.678 1991.05 138.594 Q1993.82 141.511 1993.82 147.437 Z\" fill=\"#000000\" fill-rule=\"evenodd\" fill-opacity=\"1\" /><path clip-path=\"url(#clip760)\" d=\"M2024.15 146.581 L2024.15 162.229 L2019.89 162.229 L2019.89 146.719 Q2019.89 143.039 2018.45 141.21 Q2017.02 139.382 2014.15 139.382 Q2010.7 139.382 2008.71 141.581 Q2006.72 143.78 2006.72 147.576 L2006.72 162.229 L2002.43 162.229 L2002.43 136.303 L2006.72 136.303 L2006.72 140.331 Q2008.24 137.993 2010.3 136.835 Q2012.39 135.678 2015.1 135.678 Q2019.56 135.678 2021.86 138.456 Q2024.15 141.21 2024.15 146.581 Z\" fill=\"#000000\" fill-rule=\"evenodd\" fill-opacity=\"1\" /><path clip-path=\"url(#clip760)\" d=\"M2049.7 140.238 L2049.7 126.21 L2053.96 126.21 L2053.96 162.229 L2049.7 162.229 L2049.7 158.34 Q2048.36 160.655 2046.3 161.789 Q2044.26 162.9 2041.39 162.9 Q2036.69 162.9 2033.73 159.15 Q2030.79 155.4 2030.79 149.289 Q2030.79 143.178 2033.73 139.428 Q2036.69 135.678 2041.39 135.678 Q2044.26 135.678 2046.3 136.812 Q2048.36 137.923 2049.7 140.238 M2035.19 149.289 Q2035.19 153.988 2037.11 156.673 Q2039.05 159.335 2042.43 159.335 Q2045.81 159.335 2047.76 156.673 Q2049.7 153.988 2049.7 149.289 Q2049.7 144.59 2047.76 141.928 Q2045.81 139.243 2042.43 139.243 Q2039.05 139.243 2037.11 141.928 Q2035.19 144.59 2035.19 149.289 Z\" fill=\"#000000\" fill-rule=\"evenodd\" fill-opacity=\"1\" /><path clip-path=\"url(#clip760)\" d=\"M2094.86 148.965 Q2094.86 144.335 2092.94 141.789 Q2091.05 139.243 2087.6 139.243 Q2084.17 139.243 2082.25 141.789 Q2080.35 144.335 2080.35 148.965 Q2080.35 153.571 2082.25 156.118 Q2084.17 158.664 2087.6 158.664 Q2091.05 158.664 2092.94 156.118 Q2094.86 153.571 2094.86 148.965 M2099.12 159.011 Q2099.12 165.631 2096.18 168.849 Q2093.24 172.09 2087.18 172.09 Q2084.93 172.09 2082.94 171.742 Q2080.95 171.418 2079.08 170.724 L2079.08 166.58 Q2080.95 167.599 2082.78 168.085 Q2084.61 168.571 2086.51 168.571 Q2090.7 168.571 2092.78 166.372 Q2094.86 164.196 2094.86 159.775 L2094.86 157.668 Q2093.55 159.96 2091.49 161.094 Q2089.42 162.229 2086.55 162.229 Q2081.79 162.229 2078.87 158.594 Q2075.95 154.96 2075.95 148.965 Q2075.95 142.946 2078.87 139.312 Q2081.79 135.678 2086.55 135.678 Q2089.42 135.678 2091.49 136.812 Q2093.55 137.946 2094.86 140.238 L2094.86 136.303 L2099.12 136.303 L2099.12 159.011 Z\" fill=\"#000000\" fill-rule=\"evenodd\" fill-opacity=\"1\" /><path clip-path=\"url(#clip760)\" d=\"M2122.92 140.284 Q2122.2 139.868 2121.35 139.682 Q2120.51 139.474 2119.49 139.474 Q2115.88 139.474 2113.94 141.835 Q2112.02 144.173 2112.02 148.571 L2112.02 162.229 L2107.73 162.229 L2107.73 136.303 L2112.02 136.303 L2112.02 140.331 Q2113.36 137.969 2115.51 136.835 Q2117.67 135.678 2120.74 135.678 Q2121.18 135.678 2121.72 135.747 Q2122.25 135.794 2122.9 135.909 L2122.92 140.284 Z\" fill=\"#000000\" fill-rule=\"evenodd\" fill-opacity=\"1\" /><path clip-path=\"url(#clip760)\" d=\"M2136.39 139.289 Q2132.97 139.289 2130.98 141.974 Q2128.98 144.636 2128.98 149.289 Q2128.98 153.942 2130.95 156.627 Q2132.94 159.289 2136.39 159.289 Q2139.79 159.289 2141.79 156.604 Q2143.78 153.918 2143.78 149.289 Q2143.78 144.682 2141.79 141.997 Q2139.79 139.289 2136.39 139.289 M2136.39 135.678 Q2141.95 135.678 2145.12 139.289 Q2148.29 142.9 2148.29 149.289 Q2148.29 155.655 2145.12 159.289 Q2141.95 162.9 2136.39 162.9 Q2130.81 162.9 2127.64 159.289 Q2124.49 155.655 2124.49 149.289 Q2124.49 142.9 2127.64 139.289 Q2130.81 135.678 2136.39 135.678 Z\" fill=\"#000000\" fill-rule=\"evenodd\" fill-opacity=\"1\" /><path clip-path=\"url(#clip760)\" d=\"M2152.87 136.303 L2157.13 136.303 L2162.46 156.534 L2167.76 136.303 L2172.78 136.303 L2178.1 156.534 L2183.41 136.303 L2187.67 136.303 L2180.88 162.229 L2175.86 162.229 L2170.28 140.979 L2164.68 162.229 L2159.66 162.229 L2152.87 136.303 Z\" fill=\"#000000\" fill-rule=\"evenodd\" fill-opacity=\"1\" /><path clip-path=\"url(#clip760)\" d=\"M2198.34 128.942 L2198.34 136.303 L2207.11 136.303 L2207.11 139.613 L2198.34 139.613 L2198.34 153.687 Q2198.34 156.858 2199.19 157.761 Q2200.07 158.664 2202.73 158.664 L2207.11 158.664 L2207.11 162.229 L2202.73 162.229 Q2197.8 162.229 2195.93 160.4 Q2194.05 158.548 2194.05 153.687 L2194.05 139.613 L2190.93 139.613 L2190.93 136.303 L2194.05 136.303 L2194.05 128.942 L2198.34 128.942 Z\" fill=\"#000000\" fill-rule=\"evenodd\" fill-opacity=\"1\" /><path clip-path=\"url(#clip760)\" d=\"M2234.26 146.581 L2234.26 162.229 L2230 162.229 L2230 146.719 Q2230 143.039 2228.57 141.21 Q2227.13 139.382 2224.26 139.382 Q2220.81 139.382 2218.82 141.581 Q2216.83 143.78 2216.83 147.576 L2216.83 162.229 L2212.55 162.229 L2212.55 126.21 L2216.83 126.21 L2216.83 140.331 Q2218.36 137.993 2220.42 136.835 Q2222.5 135.678 2225.21 135.678 Q2229.68 135.678 2231.97 138.456 Q2234.26 141.21 2234.26 146.581 Z\" fill=\"#000000\" fill-rule=\"evenodd\" fill-opacity=\"1\" /><polyline clip-path=\"url(#clip760)\" style=\"stroke:#e26f46; stroke-linecap:butt; stroke-linejoin:round; stroke-width:4; stroke-opacity:1; fill:none\" points=\"\n",
       "  1622.86,196.789 1765.06,196.789 \n",
       "  \"/>\n",
       "<path clip-path=\"url(#clip760)\" d=\"M1811 180.643 L1811 185.203 Q1808.34 183.93 1805.98 183.305 Q1803.62 182.68 1801.42 182.68 Q1797.6 182.68 1795.51 184.161 Q1793.45 185.643 1793.45 188.374 Q1793.45 190.666 1794.82 191.847 Q1796.21 193.004 1800.05 193.722 L1802.88 194.3 Q1808.11 195.296 1810.58 197.819 Q1813.08 200.319 1813.08 204.532 Q1813.08 209.555 1809.7 212.147 Q1806.35 214.74 1799.84 214.74 Q1797.39 214.74 1794.61 214.184 Q1791.86 213.629 1788.89 212.541 L1788.89 207.726 Q1791.74 209.323 1794.47 210.133 Q1797.2 210.944 1799.84 210.944 Q1803.85 210.944 1806.02 209.37 Q1808.2 207.796 1808.2 204.879 Q1808.2 202.333 1806.63 200.897 Q1805.07 199.462 1801.51 198.745 L1798.66 198.189 Q1793.43 197.147 1791.09 194.925 Q1788.76 192.703 1788.76 188.745 Q1788.76 184.161 1791.97 181.522 Q1795.21 178.884 1800.88 178.884 Q1803.32 178.884 1805.84 179.323 Q1808.36 179.763 1811 180.643 Z\" fill=\"#000000\" fill-rule=\"evenodd\" fill-opacity=\"1\" /><path clip-path=\"url(#clip760)\" d=\"M1841.09 180.643 L1841.09 185.203 Q1838.43 183.93 1836.07 183.305 Q1833.71 182.68 1831.51 182.68 Q1827.69 182.68 1825.61 184.161 Q1823.55 185.643 1823.55 188.374 Q1823.55 190.666 1824.91 191.847 Q1826.3 193.004 1830.14 193.722 L1832.97 194.3 Q1838.2 195.296 1840.68 197.819 Q1843.18 200.319 1843.18 204.532 Q1843.18 209.555 1839.8 212.147 Q1836.44 214.74 1829.94 214.74 Q1827.48 214.74 1824.7 214.184 Q1821.95 213.629 1818.99 212.541 L1818.99 207.726 Q1821.83 209.323 1824.57 210.133 Q1827.3 210.944 1829.94 210.944 Q1833.94 210.944 1836.12 209.37 Q1838.29 207.796 1838.29 204.879 Q1838.29 202.333 1836.72 200.897 Q1835.17 199.462 1831.6 198.745 L1828.75 198.189 Q1823.52 197.147 1821.19 194.925 Q1818.85 192.703 1818.85 188.745 Q1818.85 184.161 1822.07 181.522 Q1825.31 178.884 1830.98 178.884 Q1833.41 178.884 1835.93 179.323 Q1838.45 179.763 1841.09 180.643 Z\" fill=\"#000000\" fill-rule=\"evenodd\" fill-opacity=\"1\" /><path clip-path=\"url(#clip760)\" d=\"M1855.14 183.351 L1855.14 196.337 L1861.02 196.337 Q1864.29 196.337 1866.07 194.647 Q1867.85 192.958 1867.85 189.833 Q1867.85 186.731 1866.07 185.041 Q1864.29 183.351 1861.02 183.351 L1855.14 183.351 M1850.47 179.509 L1861.02 179.509 Q1866.83 179.509 1869.8 182.147 Q1872.78 184.763 1872.78 189.833 Q1872.78 194.948 1869.8 197.564 Q1866.83 200.18 1861.02 200.18 L1855.14 200.18 L1855.14 214.069 L1850.47 214.069 L1850.47 179.509 Z\" fill=\"#000000\" fill-rule=\"evenodd\" fill-opacity=\"1\" /><path clip-path=\"url(#clip760)\" d=\"M1883.5 210.133 L1899.82 210.133 L1899.82 214.069 L1877.88 214.069 L1877.88 210.133 Q1880.54 207.379 1885.12 202.749 Q1889.73 198.096 1890.91 196.754 Q1893.15 194.231 1894.03 192.495 Q1894.94 190.735 1894.94 189.046 Q1894.94 186.291 1892.99 184.555 Q1891.07 182.819 1887.97 182.819 Q1885.77 182.819 1883.31 183.583 Q1880.88 184.347 1878.11 185.897 L1878.11 181.175 Q1880.93 180.041 1883.38 179.462 Q1885.84 178.884 1887.88 178.884 Q1893.25 178.884 1896.44 181.569 Q1899.63 184.254 1899.63 188.745 Q1899.63 190.874 1898.82 192.796 Q1898.04 194.694 1895.93 197.286 Q1895.35 197.958 1892.25 201.175 Q1889.15 204.37 1883.5 210.133 Z\" fill=\"#000000\" fill-rule=\"evenodd\" fill-opacity=\"1\" /><path clip-path=\"url(#clip760)\" d=\"M1928.73 221.939 L1928.73 225.249 L1904.1 225.249 L1904.1 221.939 L1928.73 221.939 Z\" fill=\"#000000\" fill-rule=\"evenodd\" fill-opacity=\"1\" /><path clip-path=\"url(#clip760)\" d=\"M1937.37 210.133 L1953.68 210.133 L1953.68 214.069 L1931.74 214.069 L1931.74 210.133 Q1934.4 207.379 1938.99 202.749 Q1943.59 198.096 1944.77 196.754 Q1947.02 194.231 1947.9 192.495 Q1948.8 190.735 1948.8 189.046 Q1948.8 186.291 1946.86 184.555 Q1944.93 182.819 1941.83 182.819 Q1939.63 182.819 1937.18 183.583 Q1934.75 184.347 1931.97 185.897 L1931.97 181.175 Q1934.8 180.041 1937.25 179.462 Q1939.7 178.884 1941.74 178.884 Q1947.11 178.884 1950.31 181.569 Q1953.5 184.254 1953.5 188.745 Q1953.5 190.874 1952.69 192.796 Q1951.9 194.694 1949.8 197.286 Q1949.22 197.958 1946.12 201.175 Q1943.01 204.37 1937.37 210.133 Z\" fill=\"#000000\" fill-rule=\"evenodd\" fill-opacity=\"1\" /><path clip-path=\"url(#clip760)\" d=\"M1974.08 194.925 Q1970.93 194.925 1969.08 197.078 Q1967.25 199.231 1967.25 202.981 Q1967.25 206.708 1969.08 208.883 Q1970.93 211.036 1974.08 211.036 Q1977.23 211.036 1979.06 208.883 Q1980.91 206.708 1980.91 202.981 Q1980.91 199.231 1979.06 197.078 Q1977.23 194.925 1974.08 194.925 M1983.36 180.273 L1983.36 184.532 Q1981.6 183.698 1979.8 183.259 Q1978.01 182.819 1976.25 182.819 Q1971.62 182.819 1969.17 185.944 Q1966.74 189.069 1966.39 195.388 Q1967.76 193.374 1969.82 192.309 Q1971.88 191.222 1974.36 191.222 Q1979.56 191.222 1982.57 194.393 Q1985.61 197.541 1985.61 202.981 Q1985.61 208.305 1982.46 211.522 Q1979.31 214.74 1974.08 214.74 Q1968.08 214.74 1964.91 210.157 Q1961.74 205.55 1961.74 196.823 Q1961.74 188.629 1965.63 183.768 Q1969.52 178.884 1976.07 178.884 Q1977.83 178.884 1979.61 179.231 Q1981.42 179.578 1983.36 180.273 Z\" fill=\"#000000\" fill-rule=\"evenodd\" fill-opacity=\"1\" /><polyline clip-path=\"url(#clip760)\" style=\"stroke:#3da44d; stroke-linecap:butt; stroke-linejoin:round; stroke-width:4; stroke-opacity:1; fill:none\" points=\"\n",
       "  1622.86,248.629 1765.06,248.629 \n",
       "  \"/>\n",
       "<path clip-path=\"url(#clip760)\" d=\"M1811 232.483 L1811 237.043 Q1808.34 235.77 1805.98 235.145 Q1803.62 234.52 1801.42 234.52 Q1797.6 234.52 1795.51 236.001 Q1793.45 237.483 1793.45 240.214 Q1793.45 242.506 1794.82 243.687 Q1796.21 244.844 1800.05 245.562 L1802.88 246.14 Q1808.11 247.136 1810.58 249.659 Q1813.08 252.159 1813.08 256.372 Q1813.08 261.395 1809.7 263.987 Q1806.35 266.58 1799.84 266.58 Q1797.39 266.58 1794.61 266.024 Q1791.86 265.469 1788.89 264.381 L1788.89 259.566 Q1791.74 261.163 1794.47 261.973 Q1797.2 262.784 1799.84 262.784 Q1803.85 262.784 1806.02 261.21 Q1808.2 259.636 1808.2 256.719 Q1808.2 254.173 1806.63 252.737 Q1805.07 251.302 1801.51 250.585 L1798.66 250.029 Q1793.43 248.987 1791.09 246.765 Q1788.76 244.543 1788.76 240.585 Q1788.76 236.001 1791.97 233.362 Q1795.21 230.724 1800.88 230.724 Q1803.32 230.724 1805.84 231.163 Q1808.36 231.603 1811 232.483 Z\" fill=\"#000000\" fill-rule=\"evenodd\" fill-opacity=\"1\" /><path clip-path=\"url(#clip760)\" d=\"M1841.09 232.483 L1841.09 237.043 Q1838.43 235.77 1836.07 235.145 Q1833.71 234.52 1831.51 234.52 Q1827.69 234.52 1825.61 236.001 Q1823.55 237.483 1823.55 240.214 Q1823.55 242.506 1824.91 243.687 Q1826.3 244.844 1830.14 245.562 L1832.97 246.14 Q1838.2 247.136 1840.68 249.659 Q1843.18 252.159 1843.18 256.372 Q1843.18 261.395 1839.8 263.987 Q1836.44 266.58 1829.94 266.58 Q1827.48 266.58 1824.7 266.024 Q1821.95 265.469 1818.99 264.381 L1818.99 259.566 Q1821.83 261.163 1824.57 261.973 Q1827.3 262.784 1829.94 262.784 Q1833.94 262.784 1836.12 261.21 Q1838.29 259.636 1838.29 256.719 Q1838.29 254.173 1836.72 252.737 Q1835.17 251.302 1831.6 250.585 L1828.75 250.029 Q1823.52 248.987 1821.19 246.765 Q1818.85 244.543 1818.85 240.585 Q1818.85 236.001 1822.07 233.362 Q1825.31 230.724 1830.98 230.724 Q1833.41 230.724 1835.93 231.163 Q1838.45 231.603 1841.09 232.483 Z\" fill=\"#000000\" fill-rule=\"evenodd\" fill-opacity=\"1\" /><path clip-path=\"url(#clip760)\" d=\"M1855.14 235.191 L1855.14 248.177 L1861.02 248.177 Q1864.29 248.177 1866.07 246.487 Q1867.85 244.798 1867.85 241.673 Q1867.85 238.571 1866.07 236.881 Q1864.29 235.191 1861.02 235.191 L1855.14 235.191 M1850.47 231.349 L1861.02 231.349 Q1866.83 231.349 1869.8 233.987 Q1872.78 236.603 1872.78 241.673 Q1872.78 246.788 1869.8 249.404 Q1866.83 252.02 1861.02 252.02 L1855.14 252.02 L1855.14 265.909 L1850.47 265.909 L1850.47 231.349 Z\" fill=\"#000000\" fill-rule=\"evenodd\" fill-opacity=\"1\" /><path clip-path=\"url(#clip760)\" d=\"M1883.5 261.973 L1899.82 261.973 L1899.82 265.909 L1877.88 265.909 L1877.88 261.973 Q1880.54 259.219 1885.12 254.589 Q1889.73 249.936 1890.91 248.594 Q1893.15 246.071 1894.03 244.335 Q1894.94 242.575 1894.94 240.886 Q1894.94 238.131 1892.99 236.395 Q1891.07 234.659 1887.97 234.659 Q1885.77 234.659 1883.31 235.423 Q1880.88 236.187 1878.11 237.737 L1878.11 233.015 Q1880.93 231.881 1883.38 231.302 Q1885.84 230.724 1887.88 230.724 Q1893.25 230.724 1896.44 233.409 Q1899.63 236.094 1899.63 240.585 Q1899.63 242.714 1898.82 244.636 Q1898.04 246.534 1895.93 249.126 Q1895.35 249.798 1892.25 253.015 Q1889.15 256.21 1883.5 261.973 Z\" fill=\"#000000\" fill-rule=\"evenodd\" fill-opacity=\"1\" /><path clip-path=\"url(#clip760)\" d=\"M1928.73 273.779 L1928.73 277.089 L1904.1 277.089 L1904.1 273.779 L1928.73 273.779 Z\" fill=\"#000000\" fill-rule=\"evenodd\" fill-opacity=\"1\" /><path clip-path=\"url(#clip760)\" d=\"M1947.5 247.274 Q1950.86 247.992 1952.74 250.261 Q1954.63 252.529 1954.63 255.862 Q1954.63 260.978 1951.12 263.779 Q1947.6 266.58 1941.12 266.58 Q1938.94 266.58 1936.62 266.14 Q1934.33 265.723 1931.88 264.867 L1931.88 260.353 Q1933.82 261.487 1936.14 262.066 Q1938.45 262.645 1940.98 262.645 Q1945.37 262.645 1947.67 260.909 Q1949.98 259.173 1949.98 255.862 Q1949.98 252.807 1947.83 251.094 Q1945.7 249.358 1941.88 249.358 L1937.85 249.358 L1937.85 245.515 L1942.06 245.515 Q1945.51 245.515 1947.34 244.149 Q1949.17 242.761 1949.17 240.168 Q1949.17 237.506 1947.27 236.094 Q1945.4 234.659 1941.88 234.659 Q1939.96 234.659 1937.76 235.075 Q1935.56 235.492 1932.92 236.372 L1932.92 232.205 Q1935.58 231.464 1937.9 231.094 Q1940.24 230.724 1942.3 230.724 Q1947.62 230.724 1950.72 233.154 Q1953.82 235.562 1953.82 239.682 Q1953.82 242.552 1952.18 244.543 Q1950.54 246.511 1947.5 247.274 Z\" fill=\"#000000\" fill-rule=\"evenodd\" fill-opacity=\"1\" /><path clip-path=\"url(#clip760)\" d=\"M1976.35 235.423 L1964.54 253.872 L1976.35 253.872 L1976.35 235.423 M1975.12 231.349 L1981 231.349 L1981 253.872 L1985.93 253.872 L1985.93 257.761 L1981 257.761 L1981 265.909 L1976.35 265.909 L1976.35 257.761 L1960.74 257.761 L1960.74 253.247 L1975.12 231.349 Z\" fill=\"#000000\" fill-rule=\"evenodd\" fill-opacity=\"1\" /><polyline clip-path=\"url(#clip760)\" style=\"stroke:#c271d2; stroke-linecap:butt; stroke-linejoin:round; stroke-width:4; stroke-opacity:1; fill:none\" points=\"\n",
       "  1622.86,300.469 1765.06,300.469 \n",
       "  \"/>\n",
       "<path clip-path=\"url(#clip760)\" d=\"M1811 284.323 L1811 288.883 Q1808.34 287.61 1805.98 286.985 Q1803.62 286.36 1801.42 286.36 Q1797.6 286.36 1795.51 287.841 Q1793.45 289.323 1793.45 292.054 Q1793.45 294.346 1794.82 295.527 Q1796.21 296.684 1800.05 297.402 L1802.88 297.98 Q1808.11 298.976 1810.58 301.499 Q1813.08 303.999 1813.08 308.212 Q1813.08 313.235 1809.7 315.827 Q1806.35 318.42 1799.84 318.42 Q1797.39 318.42 1794.61 317.864 Q1791.86 317.309 1788.89 316.221 L1788.89 311.406 Q1791.74 313.003 1794.47 313.813 Q1797.2 314.624 1799.84 314.624 Q1803.85 314.624 1806.02 313.05 Q1808.2 311.476 1808.2 308.559 Q1808.2 306.013 1806.63 304.577 Q1805.07 303.142 1801.51 302.425 L1798.66 301.869 Q1793.43 300.827 1791.09 298.605 Q1788.76 296.383 1788.76 292.425 Q1788.76 287.841 1791.97 285.202 Q1795.21 282.564 1800.88 282.564 Q1803.32 282.564 1805.84 283.003 Q1808.36 283.443 1811 284.323 Z\" fill=\"#000000\" fill-rule=\"evenodd\" fill-opacity=\"1\" /><path clip-path=\"url(#clip760)\" d=\"M1841.09 284.323 L1841.09 288.883 Q1838.43 287.61 1836.07 286.985 Q1833.71 286.36 1831.51 286.36 Q1827.69 286.36 1825.61 287.841 Q1823.55 289.323 1823.55 292.054 Q1823.55 294.346 1824.91 295.527 Q1826.3 296.684 1830.14 297.402 L1832.97 297.98 Q1838.2 298.976 1840.68 301.499 Q1843.18 303.999 1843.18 308.212 Q1843.18 313.235 1839.8 315.827 Q1836.44 318.42 1829.94 318.42 Q1827.48 318.42 1824.7 317.864 Q1821.95 317.309 1818.99 316.221 L1818.99 311.406 Q1821.83 313.003 1824.57 313.813 Q1827.3 314.624 1829.94 314.624 Q1833.94 314.624 1836.12 313.05 Q1838.29 311.476 1838.29 308.559 Q1838.29 306.013 1836.72 304.577 Q1835.17 303.142 1831.6 302.425 L1828.75 301.869 Q1823.52 300.827 1821.19 298.605 Q1818.85 296.383 1818.85 292.425 Q1818.85 287.841 1822.07 285.202 Q1825.31 282.564 1830.98 282.564 Q1833.41 282.564 1835.93 283.003 Q1838.45 283.443 1841.09 284.323 Z\" fill=\"#000000\" fill-rule=\"evenodd\" fill-opacity=\"1\" /><path clip-path=\"url(#clip760)\" d=\"M1855.14 287.031 L1855.14 300.017 L1861.02 300.017 Q1864.29 300.017 1866.07 298.327 Q1867.85 296.638 1867.85 293.513 Q1867.85 290.411 1866.07 288.721 Q1864.29 287.031 1861.02 287.031 L1855.14 287.031 M1850.47 283.189 L1861.02 283.189 Q1866.83 283.189 1869.8 285.827 Q1872.78 288.443 1872.78 293.513 Q1872.78 298.628 1869.8 301.244 Q1866.83 303.86 1861.02 303.86 L1855.14 303.86 L1855.14 317.749 L1850.47 317.749 L1850.47 283.189 Z\" fill=\"#000000\" fill-rule=\"evenodd\" fill-opacity=\"1\" /><path clip-path=\"url(#clip760)\" d=\"M1883.5 313.813 L1899.82 313.813 L1899.82 317.749 L1877.88 317.749 L1877.88 313.813 Q1880.54 311.059 1885.12 306.429 Q1889.73 301.776 1890.91 300.434 Q1893.15 297.911 1894.03 296.175 Q1894.94 294.415 1894.94 292.726 Q1894.94 289.971 1892.99 288.235 Q1891.07 286.499 1887.97 286.499 Q1885.77 286.499 1883.31 287.263 Q1880.88 288.027 1878.11 289.577 L1878.11 284.855 Q1880.93 283.721 1883.38 283.142 Q1885.84 282.564 1887.88 282.564 Q1893.25 282.564 1896.44 285.249 Q1899.63 287.934 1899.63 292.425 Q1899.63 294.554 1898.82 296.476 Q1898.04 298.374 1895.93 300.966 Q1895.35 301.638 1892.25 304.855 Q1889.15 308.05 1883.5 313.813 Z\" fill=\"#000000\" fill-rule=\"evenodd\" fill-opacity=\"1\" /><path clip-path=\"url(#clip760)\" d=\"M1928.73 325.619 L1928.73 328.929 L1904.1 328.929 L1904.1 325.619 L1928.73 325.619 Z\" fill=\"#000000\" fill-rule=\"evenodd\" fill-opacity=\"1\" /><path clip-path=\"url(#clip760)\" d=\"M1946.18 287.263 L1934.38 305.712 L1946.18 305.712 L1946.18 287.263 M1944.96 283.189 L1950.84 283.189 L1950.84 305.712 L1955.77 305.712 L1955.77 309.601 L1950.84 309.601 L1950.84 317.749 L1946.18 317.749 L1946.18 309.601 L1930.58 309.601 L1930.58 305.087 L1944.96 283.189 Z\" fill=\"#000000\" fill-rule=\"evenodd\" fill-opacity=\"1\" /><path clip-path=\"url(#clip760)\" d=\"M1963.55 283.189 L1981.9 283.189 L1981.9 287.124 L1967.83 287.124 L1967.83 295.596 Q1968.85 295.249 1969.87 295.087 Q1970.88 294.902 1971.9 294.902 Q1977.69 294.902 1981.07 298.073 Q1984.45 301.244 1984.45 306.661 Q1984.45 312.239 1980.98 315.341 Q1977.5 318.42 1971.18 318.42 Q1969.01 318.42 1966.74 318.05 Q1964.49 317.679 1962.09 316.938 L1962.09 312.239 Q1964.17 313.374 1966.39 313.929 Q1968.62 314.485 1971.09 314.485 Q1975.1 314.485 1977.43 312.378 Q1979.77 310.272 1979.77 306.661 Q1979.77 303.05 1977.43 300.943 Q1975.1 298.837 1971.09 298.837 Q1969.22 298.837 1967.34 299.253 Q1965.49 299.67 1963.55 300.55 L1963.55 283.189 Z\" fill=\"#000000\" fill-rule=\"evenodd\" fill-opacity=\"1\" /><polyline clip-path=\"url(#clip760)\" style=\"stroke:#ac8d18; stroke-linecap:butt; stroke-linejoin:round; stroke-width:4; stroke-opacity:1; fill:none\" points=\"\n",
       "  1622.86,352.309 1765.06,352.309 \n",
       "  \"/>\n",
       "<path clip-path=\"url(#clip760)\" d=\"M1811 336.163 L1811 340.723 Q1808.34 339.45 1805.98 338.825 Q1803.62 338.2 1801.42 338.2 Q1797.6 338.2 1795.51 339.681 Q1793.45 341.163 1793.45 343.894 Q1793.45 346.186 1794.82 347.367 Q1796.21 348.524 1800.05 349.242 L1802.88 349.82 Q1808.11 350.816 1810.58 353.339 Q1813.08 355.839 1813.08 360.052 Q1813.08 365.075 1809.7 367.667 Q1806.35 370.26 1799.84 370.26 Q1797.39 370.26 1794.61 369.704 Q1791.86 369.149 1788.89 368.061 L1788.89 363.246 Q1791.74 364.843 1794.47 365.653 Q1797.2 366.464 1799.84 366.464 Q1803.85 366.464 1806.02 364.89 Q1808.2 363.316 1808.2 360.399 Q1808.2 357.853 1806.63 356.417 Q1805.07 354.982 1801.51 354.265 L1798.66 353.709 Q1793.43 352.667 1791.09 350.445 Q1788.76 348.223 1788.76 344.265 Q1788.76 339.681 1791.97 337.042 Q1795.21 334.404 1800.88 334.404 Q1803.32 334.404 1805.84 334.843 Q1808.36 335.283 1811 336.163 Z\" fill=\"#000000\" fill-rule=\"evenodd\" fill-opacity=\"1\" /><path clip-path=\"url(#clip760)\" d=\"M1841.09 336.163 L1841.09 340.723 Q1838.43 339.45 1836.07 338.825 Q1833.71 338.2 1831.51 338.2 Q1827.69 338.2 1825.61 339.681 Q1823.55 341.163 1823.55 343.894 Q1823.55 346.186 1824.91 347.367 Q1826.3 348.524 1830.14 349.242 L1832.97 349.82 Q1838.2 350.816 1840.68 353.339 Q1843.18 355.839 1843.18 360.052 Q1843.18 365.075 1839.8 367.667 Q1836.44 370.26 1829.94 370.26 Q1827.48 370.26 1824.7 369.704 Q1821.95 369.149 1818.99 368.061 L1818.99 363.246 Q1821.83 364.843 1824.57 365.653 Q1827.3 366.464 1829.94 366.464 Q1833.94 366.464 1836.12 364.89 Q1838.29 363.316 1838.29 360.399 Q1838.29 357.853 1836.72 356.417 Q1835.17 354.982 1831.6 354.265 L1828.75 353.709 Q1823.52 352.667 1821.19 350.445 Q1818.85 348.223 1818.85 344.265 Q1818.85 339.681 1822.07 337.042 Q1825.31 334.404 1830.98 334.404 Q1833.41 334.404 1835.93 334.843 Q1838.45 335.283 1841.09 336.163 Z\" fill=\"#000000\" fill-rule=\"evenodd\" fill-opacity=\"1\" /><path clip-path=\"url(#clip760)\" d=\"M1855.14 338.871 L1855.14 351.857 L1861.02 351.857 Q1864.29 351.857 1866.07 350.167 Q1867.85 348.478 1867.85 345.353 Q1867.85 342.251 1866.07 340.561 Q1864.29 338.871 1861.02 338.871 L1855.14 338.871 M1850.47 335.029 L1861.02 335.029 Q1866.83 335.029 1869.8 337.667 Q1872.78 340.283 1872.78 345.353 Q1872.78 350.468 1869.8 353.084 Q1866.83 355.7 1861.02 355.7 L1855.14 355.7 L1855.14 369.589 L1850.47 369.589 L1850.47 335.029 Z\" fill=\"#000000\" fill-rule=\"evenodd\" fill-opacity=\"1\" /><path clip-path=\"url(#clip760)\" d=\"M1883.5 365.653 L1899.82 365.653 L1899.82 369.589 L1877.88 369.589 L1877.88 365.653 Q1880.54 362.899 1885.12 358.269 Q1889.73 353.616 1890.91 352.274 Q1893.15 349.751 1894.03 348.015 Q1894.94 346.255 1894.94 344.566 Q1894.94 341.811 1892.99 340.075 Q1891.07 338.339 1887.97 338.339 Q1885.77 338.339 1883.31 339.103 Q1880.88 339.867 1878.11 341.417 L1878.11 336.695 Q1880.93 335.561 1883.38 334.982 Q1885.84 334.404 1887.88 334.404 Q1893.25 334.404 1896.44 337.089 Q1899.63 339.774 1899.63 344.265 Q1899.63 346.394 1898.82 348.316 Q1898.04 350.214 1895.93 352.806 Q1895.35 353.478 1892.25 356.695 Q1889.15 359.89 1883.5 365.653 Z\" fill=\"#000000\" fill-rule=\"evenodd\" fill-opacity=\"1\" /><path clip-path=\"url(#clip760)\" d=\"M1928.73 377.459 L1928.73 380.769 L1904.1 380.769 L1904.1 377.459 L1928.73 377.459 Z\" fill=\"#000000\" fill-rule=\"evenodd\" fill-opacity=\"1\" /><path clip-path=\"url(#clip760)\" d=\"M1943.92 350.445 Q1940.77 350.445 1938.92 352.598 Q1937.09 354.751 1937.09 358.501 Q1937.09 362.228 1938.92 364.403 Q1940.77 366.556 1943.92 366.556 Q1947.06 366.556 1948.89 364.403 Q1950.75 362.228 1950.75 358.501 Q1950.75 354.751 1948.89 352.598 Q1947.06 350.445 1943.92 350.445 M1953.2 335.793 L1953.2 340.052 Q1951.44 339.218 1949.63 338.779 Q1947.85 338.339 1946.09 338.339 Q1941.46 338.339 1939.01 341.464 Q1936.58 344.589 1936.23 350.908 Q1937.6 348.894 1939.66 347.829 Q1941.72 346.742 1944.19 346.742 Q1949.4 346.742 1952.41 349.913 Q1955.44 353.061 1955.44 358.501 Q1955.44 363.825 1952.3 367.042 Q1949.15 370.26 1943.92 370.26 Q1937.92 370.26 1934.75 365.677 Q1931.58 361.07 1931.58 352.343 Q1931.58 344.149 1935.47 339.288 Q1939.36 334.404 1945.91 334.404 Q1947.67 334.404 1949.45 334.751 Q1951.25 335.098 1953.2 335.793 Z\" fill=\"#000000\" fill-rule=\"evenodd\" fill-opacity=\"1\" /><path clip-path=\"url(#clip760)\" d=\"M1973.5 338.107 Q1969.89 338.107 1968.06 341.672 Q1966.25 345.214 1966.25 352.343 Q1966.25 359.45 1968.06 363.015 Q1969.89 366.556 1973.5 366.556 Q1977.13 366.556 1978.94 363.015 Q1980.77 359.45 1980.77 352.343 Q1980.77 345.214 1978.94 341.672 Q1977.13 338.107 1973.5 338.107 M1973.5 334.404 Q1979.31 334.404 1982.37 339.01 Q1985.44 343.593 1985.44 352.343 Q1985.44 361.07 1982.37 365.677 Q1979.31 370.26 1973.5 370.26 Q1967.69 370.26 1964.61 365.677 Q1961.56 361.07 1961.56 352.343 Q1961.56 343.593 1964.61 339.01 Q1967.69 334.404 1973.5 334.404 Z\" fill=\"#000000\" fill-rule=\"evenodd\" fill-opacity=\"1\" /><polyline clip-path=\"url(#clip760)\" style=\"stroke:#00a9ad; stroke-linecap:butt; stroke-linejoin:round; stroke-width:4; stroke-opacity:1; fill:none\" points=\"\n",
       "  1622.86,404.149 1765.06,404.149 \n",
       "  \"/>\n",
       "<path clip-path=\"url(#clip760)\" d=\"M1811 388.003 L1811 392.563 Q1808.34 391.29 1805.98 390.665 Q1803.62 390.04 1801.42 390.04 Q1797.6 390.04 1795.51 391.521 Q1793.45 393.003 1793.45 395.734 Q1793.45 398.026 1794.82 399.207 Q1796.21 400.364 1800.05 401.082 L1802.88 401.66 Q1808.11 402.656 1810.58 405.179 Q1813.08 407.679 1813.08 411.892 Q1813.08 416.915 1809.7 419.507 Q1806.35 422.1 1799.84 422.1 Q1797.39 422.1 1794.61 421.544 Q1791.86 420.989 1788.89 419.901 L1788.89 415.086 Q1791.74 416.683 1794.47 417.493 Q1797.2 418.304 1799.84 418.304 Q1803.85 418.304 1806.02 416.73 Q1808.2 415.156 1808.2 412.239 Q1808.2 409.693 1806.63 408.257 Q1805.07 406.822 1801.51 406.105 L1798.66 405.549 Q1793.43 404.507 1791.09 402.285 Q1788.76 400.063 1788.76 396.105 Q1788.76 391.521 1791.97 388.882 Q1795.21 386.244 1800.88 386.244 Q1803.32 386.244 1805.84 386.683 Q1808.36 387.123 1811 388.003 Z\" fill=\"#000000\" fill-rule=\"evenodd\" fill-opacity=\"1\" /><path clip-path=\"url(#clip760)\" d=\"M1841.09 388.003 L1841.09 392.563 Q1838.43 391.29 1836.07 390.665 Q1833.71 390.04 1831.51 390.04 Q1827.69 390.04 1825.61 391.521 Q1823.55 393.003 1823.55 395.734 Q1823.55 398.026 1824.91 399.207 Q1826.3 400.364 1830.14 401.082 L1832.97 401.66 Q1838.2 402.656 1840.68 405.179 Q1843.18 407.679 1843.18 411.892 Q1843.18 416.915 1839.8 419.507 Q1836.44 422.1 1829.94 422.1 Q1827.48 422.1 1824.7 421.544 Q1821.95 420.989 1818.99 419.901 L1818.99 415.086 Q1821.83 416.683 1824.57 417.493 Q1827.3 418.304 1829.94 418.304 Q1833.94 418.304 1836.12 416.73 Q1838.29 415.156 1838.29 412.239 Q1838.29 409.693 1836.72 408.257 Q1835.17 406.822 1831.6 406.105 L1828.75 405.549 Q1823.52 404.507 1821.19 402.285 Q1818.85 400.063 1818.85 396.105 Q1818.85 391.521 1822.07 388.882 Q1825.31 386.244 1830.98 386.244 Q1833.41 386.244 1835.93 386.683 Q1838.45 387.123 1841.09 388.003 Z\" fill=\"#000000\" fill-rule=\"evenodd\" fill-opacity=\"1\" /><path clip-path=\"url(#clip760)\" d=\"M1855.14 390.711 L1855.14 403.697 L1861.02 403.697 Q1864.29 403.697 1866.07 402.007 Q1867.85 400.318 1867.85 397.193 Q1867.85 394.091 1866.07 392.401 Q1864.29 390.711 1861.02 390.711 L1855.14 390.711 M1850.47 386.869 L1861.02 386.869 Q1866.83 386.869 1869.8 389.507 Q1872.78 392.123 1872.78 397.193 Q1872.78 402.308 1869.8 404.924 Q1866.83 407.54 1861.02 407.54 L1855.14 407.54 L1855.14 421.429 L1850.47 421.429 L1850.47 386.869 Z\" fill=\"#000000\" fill-rule=\"evenodd\" fill-opacity=\"1\" /><path clip-path=\"url(#clip760)\" d=\"M1883.5 417.493 L1899.82 417.493 L1899.82 421.429 L1877.88 421.429 L1877.88 417.493 Q1880.54 414.739 1885.12 410.109 Q1889.73 405.456 1890.91 404.114 Q1893.15 401.591 1894.03 399.855 Q1894.94 398.095 1894.94 396.406 Q1894.94 393.651 1892.99 391.915 Q1891.07 390.179 1887.97 390.179 Q1885.77 390.179 1883.31 390.943 Q1880.88 391.707 1878.11 393.257 L1878.11 388.535 Q1880.93 387.401 1883.38 386.822 Q1885.84 386.244 1887.88 386.244 Q1893.25 386.244 1896.44 388.929 Q1899.63 391.614 1899.63 396.105 Q1899.63 398.234 1898.82 400.156 Q1898.04 402.054 1895.93 404.646 Q1895.35 405.318 1892.25 408.535 Q1889.15 411.73 1883.5 417.493 Z\" fill=\"#000000\" fill-rule=\"evenodd\" fill-opacity=\"1\" /><path clip-path=\"url(#clip760)\" d=\"M1928.73 429.299 L1928.73 432.609 L1904.1 432.609 L1904.1 429.299 L1928.73 429.299 Z\" fill=\"#000000\" fill-rule=\"evenodd\" fill-opacity=\"1\" /><path clip-path=\"url(#clip760)\" d=\"M1937.6 404.924 L1937.6 417.586 L1945.1 417.586 Q1948.87 417.586 1950.68 416.035 Q1952.5 414.461 1952.5 411.243 Q1952.5 408.003 1950.68 406.475 Q1948.87 404.924 1945.1 404.924 L1937.6 404.924 M1937.6 390.711 L1937.6 401.128 L1944.52 401.128 Q1947.94 401.128 1949.61 399.855 Q1951.3 398.558 1951.3 395.919 Q1951.3 393.304 1949.61 392.007 Q1947.94 390.711 1944.52 390.711 L1937.6 390.711 M1932.92 386.869 L1944.87 386.869 Q1950.21 386.869 1953.11 389.091 Q1956 391.313 1956 395.41 Q1956 398.582 1954.52 400.457 Q1953.04 402.331 1950.17 402.794 Q1953.62 403.535 1955.51 405.896 Q1957.43 408.234 1957.43 411.753 Q1957.43 416.382 1954.29 418.905 Q1951.14 421.429 1945.33 421.429 L1932.92 421.429 L1932.92 386.869 Z\" fill=\"#000000\" fill-rule=\"evenodd\" fill-opacity=\"1\" /><path clip-path=\"url(#clip760)\" d=\"M1977.04 408.396 Q1971.88 408.396 1969.89 409.577 Q1967.9 410.757 1967.9 413.605 Q1967.9 415.873 1969.38 417.216 Q1970.88 418.535 1973.45 418.535 Q1976.99 418.535 1979.12 416.035 Q1981.28 413.512 1981.28 409.345 L1981.28 408.396 L1977.04 408.396 M1985.54 406.637 L1985.54 421.429 L1981.28 421.429 L1981.28 417.493 Q1979.82 419.855 1977.64 420.989 Q1975.47 422.1 1972.32 422.1 Q1968.34 422.1 1965.98 419.878 Q1963.64 417.632 1963.64 413.882 Q1963.64 409.507 1966.56 407.285 Q1969.49 405.063 1975.31 405.063 L1981.28 405.063 L1981.28 404.646 Q1981.28 401.707 1979.33 400.109 Q1977.41 398.489 1973.92 398.489 Q1971.69 398.489 1969.59 399.021 Q1967.48 399.554 1965.54 400.619 L1965.54 396.683 Q1967.87 395.781 1970.07 395.341 Q1972.27 394.878 1974.36 394.878 Q1979.98 394.878 1982.76 397.794 Q1985.54 400.711 1985.54 406.637 Z\" fill=\"#000000\" fill-rule=\"evenodd\" fill-opacity=\"1\" /><path clip-path=\"url(#clip760)\" d=\"M2010.84 396.267 L2010.84 400.294 Q2009.03 399.369 2007.09 398.906 Q2005.14 398.443 2003.06 398.443 Q1999.89 398.443 1998.29 399.415 Q1996.72 400.387 1996.72 402.331 Q1996.72 403.813 1997.85 404.669 Q1998.99 405.503 2002.41 406.267 L2003.87 406.591 Q2008.41 407.563 2010.3 409.345 Q2012.23 411.105 2012.23 414.276 Q2012.23 417.887 2009.36 419.993 Q2006.51 422.1 2001.51 422.1 Q1999.43 422.1 1997.16 421.683 Q1994.91 421.29 1992.41 420.48 L1992.41 416.081 Q1994.77 417.308 1997.06 417.933 Q1999.36 418.535 2001.6 418.535 Q2004.61 418.535 2006.23 417.517 Q2007.85 416.475 2007.85 414.6 Q2007.85 412.864 2006.67 411.938 Q2005.51 411.012 2001.55 410.156 L2000.07 409.808 Q1996.12 408.975 1994.36 407.262 Q1992.6 405.526 1992.6 402.517 Q1992.6 398.859 1995.19 396.869 Q1997.78 394.878 2002.55 394.878 Q2004.91 394.878 2006.99 395.225 Q2009.08 395.572 2010.84 396.267 Z\" fill=\"#000000\" fill-rule=\"evenodd\" fill-opacity=\"1\" /><path clip-path=\"url(#clip760)\" d=\"M2041.18 407.401 L2041.18 409.484 L2021.6 409.484 Q2021.88 413.882 2024.24 416.197 Q2026.62 418.489 2030.86 418.489 Q2033.31 418.489 2035.61 417.887 Q2037.92 417.285 2040.19 416.081 L2040.19 420.109 Q2037.9 421.081 2035.49 421.591 Q2033.08 422.1 2030.61 422.1 Q2024.4 422.1 2020.77 418.489 Q2017.16 414.878 2017.16 408.72 Q2017.16 402.355 2020.58 398.628 Q2024.03 394.878 2029.86 394.878 Q2035.1 394.878 2038.13 398.257 Q2041.18 401.614 2041.18 407.401 M2036.93 406.151 Q2036.88 402.656 2034.96 400.572 Q2033.06 398.489 2029.91 398.489 Q2026.35 398.489 2024.19 400.503 Q2022.06 402.517 2021.74 406.174 L2036.93 406.151 Z\" fill=\"#000000\" fill-rule=\"evenodd\" fill-opacity=\"1\" /></svg>\n"
      ]
     },
     "execution_count": 11,
     "metadata": {},
     "output_type": "execute_result"
    }
   ],
   "source": [
    "plot(iam_model[!,:Yr].+(2020),iam_model[!,:Back_RedFr_Elec],lw=2, label=\"No demand growth\",ylims=(0,1))\n",
    "plot!(iam_model[!,:Yr].+(2020),iam_model[!,3],lw=2, label=\"SSP2_26\",ylims=(0,1))\n",
    "plot!(iam_model[!,:Yr].+(2020),iam_model[!,4],lw=2, label=\"SSP2_34\" ,ylims=(0,1))\n",
    "plot!(iam_model[!,:Yr].+(2020),iam_model[!,5],lw=2, label=\"SSP2_45\" ,ylims=(0,1))\n",
    "plot!(iam_model[!,:Yr].+(2020),iam_model[!,6],lw=2, label=\"SSP2_60\" ,ylims=(0,1))\n",
    "plot!(iam_model[!,:Yr].+(2020),iam_model[!,7],lw=2, label=\"SSP2_Base\" ,ylims=(0,1))\n",
    "xlabel!(\"Year\")\n",
    "ylabel!(\"Emissions from Electricity (per KWh)\")"
   ]
  },
  {
   "cell_type": "code",
   "execution_count": 12,
   "id": "4b071a59",
   "metadata": {},
   "outputs": [
    {
     "data": {
      "text/plain": [
       "0"
      ]
     },
     "execution_count": 12,
     "metadata": {},
     "output_type": "execute_result"
    }
   ],
   "source": [
    "#1=Back_redFr_elec (No Demand Growth)\n",
    "#2=SSP2_26\n",
    "#2=SSP2_34\n",
    "#2=SSP2_45\n",
    "#2=SSP2_60\n",
    "#2=SSP2_Baseline\n",
    "\n",
    "iam_selection=2\n",
    "add_identifier=\"\"\n",
    "output_key=names(iam_model)[iam_selection+1]*add_identifier\n",
    "want_save=0"
   ]
  },
  {
   "cell_type": "code",
   "execution_count": 20,
   "id": "12fc4d55",
   "metadata": {},
   "outputs": [
    {
     "data": {
      "text/plain": [
       "tech_roadmap_mccormick_peicewise_iam_multipd (generic function with 1 method)"
      ]
     },
     "execution_count": 20,
     "metadata": {},
     "output_type": "execute_result"
    }
   ],
   "source": [
    "function tech_roadmap_mccormick_peicewise_iam_multipd(co2_target,circularity_target)\n",
    "    \n",
    "    rdmap= Model(Gurobi.Optimizer)\n",
    "    #rdmap=Model(BARON.Optimizer)\n",
    "    #set_optimizer_attribute(rdmap, \"MaxTime\", 250)\n",
    "    #set_optimizer_attribute(rdmap, \"DoLocal\", 0)\n",
    "    #set_optimizer_attribute(rdmap, \"NumLoc\", 0)\n",
    "    set_optimizer_attribute(rdmap, \"NonConvex\", 2)\n",
    "    \n",
    "    #Sets\n",
    "    # i: innovation\n",
    "    # k: compromise or pareto optimal solution\n",
    "    # r,c : row column of transition matrices\n",
    "    \n",
    "    #Declaration of variables\n",
    "    \n",
    "    #binary variable choosing the pareto optimal solution\n",
    "    @variable(rdmap,yk[k=1:nrow(compromise),tt=1:7],Bin)\n",
    "    #time at which a pareto optimal solution is chosen\n",
    "    @variable(rdmap,0 ≤ tk[k=1:nrow(compromise),tt=1:7] ≤ 5)\n",
    "    #percentage of functional unit that a pareto optimal solution takes up\n",
    "    @variable(rdmap,0 ≤ xk[k=1:nrow(compromise),tt=1:7] ≤ 1)\n",
    "    \n",
    "    #binary variable choosing which innovation to invest in for adoption\n",
    "    @variable(rdmap,yi[i=1:nrow(innovations),tt=1:7],Bin)\n",
    "    #time at which invested is made and innovation made adoptible\n",
    "    @variable(rdmap,0 ≤ ti[i=1:nrow(innovations),tt=1:7] ≤ 5)\n",
    "    #readiness level state value of ith innovation\n",
    "    @variable(rdmap, s[i=1:nrow(innovations),tt=1:7] )\n",
    "    \n",
    "    #CO2 at 2050 target\n",
    "    @variable(rdmap, co2_2050[tt=1:7])\n",
    "    \n",
    "    #circularity at 2030 target\n",
    "    @variable(rdmap, theta_2030[tt=1:7] ≥ 0)\n",
    "    #recycled content at 2030 target\n",
    "    @variable(rdmap, recycl_2030[tt=1:7] ≥ 0)\n",
    "    #compostable content at 2030 target\n",
    "    @variable(rdmap, comp_2030[tt=1:7] ≥ 0)\n",
    "    \n",
    "    #integral approximator of CO2\n",
    "    @variable(rdmap, co2_tot ≥ 0)\n",
    "    \n",
    "    #cost incured in investing to adopt\n",
    "    @variable(rdmap, 0 ≤ cost_inn)\n",
    "    \n",
    "    #surrogate models\n",
    "    @variable(rdmap,f_fit[i=1:nrow(innovations),tt=1:7] ≥ 0)\n",
    "    @variable(rdmap,co2_factor[k=1:nrow(compromise),tt=1:7])\n",
    "    @variable(rdmap,co2_corrected[k=1:nrow(compromise),tt=1:7])\n",
    "\n",
    "    for i in 1:nrow(innovations)\n",
    "        for tt in 1:7\n",
    "            f_fit[i,tt] = piecewiselinear(rdmap, tau[tt]+ti[i,tt], Matrix(inn_xrang[!,2:ncol(inn_xrang)])[i,:],Matrix(inn_yrang[!,2:ncol(inn_yrang)])[i,:])\n",
    "        end\n",
    "    end\n",
    "            \n",
    "    \n",
    "    for k in 1:nrow(compromise)\n",
    "        for tt in 1:7\n",
    "            co2_factor[k,tt] = (piecewiselinear(rdmap, tau[tt]+tk[k,tt], Matrix(iam_model[!,1:1])[:,1],Matrix(iam_model[!,2:7])[:,iam_selection]))\n",
    "    \n",
    "        end\n",
    "    end\n",
    "    \n",
    "    #old method when fraction of emission was specified\n",
    "    #@constraint(rdmap, [k=1:nrow(compromise),tt=1:7], co2_corrected[k,tt] == \n",
    "    #    compromise[k,3]*((1-compromise[k,7]) + compromise[k,7]*(co2_factor[k,tt])))\n",
    "    \n",
    "    @constraint(rdmap, [k=1:nrow(compromise),tt=1:7], co2_corrected[k,tt] == \n",
    "        compromise[k,3]-(compromise[k,7]*(1-co2_factor[k,tt])))\n",
    "    \n",
    "    #Constraints\n",
    "    \n",
    "    \n",
    "    #Planning optimization constraints    \n",
    "    #only one compromise solution chosen on each pareto front, and chosen only if investment made in ith front\n",
    "    @constraint(rdmap, [i=1,tt=1:7], sum(yk[k,tt] for k=1:mapki[i,2])≤ yi[i,tt])\n",
    "    @constraint(rdmap, [i=2:nrow(mapki),tt=1:7], sum(yk[k,tt] for k=mapki[i-1,2]:mapki[i,2])≤ yi[i,tt])\n",
    "    #@constraint(rdmap,[k=2:nrow(compromise),tt=1:7],tk[k-1,tt]==tk[k,tt])\n",
    "    \n",
    "    \n",
    "    #one can pick a compromise solution from ith front to satisfy functional unit only after investment in ith innovation made\n",
    "    @constraint(rdmap, [i=1,tt=1:7], ti[i,tt] ≤ sum(tk[k,tt] for k=1:mapki[i,2]))\n",
    "    @constraint(rdmap, [i=2:nrow(mapki),tt=1:7], ti[i,tt] ≤ sum(tk[k,tt] for k=mapki[i-1,2]:mapki[i,2]))\n",
    "    \n",
    "    #if innovation invested in, time has to be between 0 and fifty, otherwise 0\n",
    "    @constraint(rdmap, [i=1:nrow(mapki),tt=1:7], 5*yi[i,tt] ≥ ti[i,tt])\n",
    "    #if compromise solution chosen, time has to be between 0 and fifty, otherwise 0\n",
    "    @constraint(rdmap, [k=1:nrow(compromise),tt=1:7], 5*yk[k,tt] ≥ tk[k,tt])\n",
    "    \n",
    "    @constraint(rdmap, [i=1:nrow(mapki),tt=1:6], yi[i,tt+1] ≥ yi[i,tt])\n",
    "    @constraint(rdmap, [i=1:nrow(mapki),tt=2:7],ti[i,tt]≤ 5*( yi[i,tt]-yi[i,tt-1]))\n",
    "    \n",
    "    #if compromise chosen across boundary tk=0\n",
    "    #@constraint(rdmap, [k=1:nrow(compromise),tt=2:7],tk[k,tt]≤ 5*( yk[k,tt]-yk[k,tt-1]))\n",
    "    #@constraint(rdmap, [k=1:nrow(compromise),tt=2:7],tk[k,tt]≤ 5000*( xk[k,tt]-xk[k,tt-1]))\n",
    "    #time of change has to be same\n",
    "    #=   \n",
    "    @variables(rdmap,begin \n",
    "                    u1[k=1:nrow(compromise),tt=2:7], Bin\n",
    "                    u2[k=1:nrow(compromise),tt=2:7], Bin\n",
    "                    u0[k=1:nrow(compromise),tt=2:7], Bin\n",
    "        end)\n",
    "    \n",
    "    \n",
    "    for i in 2:nrow(mapki)\n",
    "        @constraint(rdmap,[k=mapki[i-1,2]:mapki[i,2],tt=2:7],1-u0[k,tt]==yi[i,tt]-yi[i,tt-1])\n",
    "        @constraint(rdmap,[k=(mapki[i-1,2]+1):mapki[i,2],tt=2:7],tk[k,tt] ≥ tk[k-1,tt]+(1/5000)*u1[k,tt])\n",
    "        @constraint(rdmap,[k=(mapki[i-1,2]+1):mapki[i,2],tt=2:7],tk[k,tt] ≤ tk[k-1,tt]-(1/5000)*u2[k,tt])\n",
    "        @constraint(rdmap,[k=mapki[i-1,2]:mapki[i,2],tt=2:7],u0[k,tt]+u1[k,tt]+u2[k,tt]≤1)\n",
    "    end\n",
    "    \n",
    "    i=1\n",
    "    @constraint(rdmap,[k=1:mapki[i,2],tt=2:7],1-u0[k,tt]==yi[i,tt]-yi[i,tt-1])  \n",
    "    @constraint(rdmap,[k=2:mapki[i,2],tt=2:7],tk[k,tt] ≥ tk[k-1,tt]+(1/5000)*u1[k,tt])\n",
    "    @constraint(rdmap,[k=2:mapki[i,2],tt=2:7],tk[k,tt] ≤ tk[k-1,tt]-(1/5000)*u2[k,tt])\n",
    "    @constraint(rdmap,[k=1:mapki[i,2],tt=2:7],u0[k,tt]+u1[k,tt]+u2[k,tt]≤1)\n",
    "    =#  \n",
    "    \n",
    "    \n",
    "    \n",
    "    #if innovation invested in, time has to be between 0 and fifty, otherwise 0\n",
    "    #@constraint(rdmap, [i=1:nrow(mapki)], 50*yi[i] ≤ ti[i])\n",
    "    #if compromise solution chosen, time has to be between 0 and fifty, otherwise 0\n",
    "    #@constraint(rdmap, [k=1:nrow(compromise)], 50*yk[k] ≤ tk[k])\n",
    "    \n",
    "    \n",
    "    #functional unit allocation to innovation iff compromise solution chosen\n",
    "    @constraint(rdmap, [k=1:nrow(compromise),tt=1:7], yk[k,tt] ≥ xk[k,tt])\n",
    "    \n",
    "    #total fraction of functional unit satisfied by innovative compromise solutions <1i\n",
    "    @constraint(rdmap,[tt=1:7], sum(xk[k,tt] for k in 1:nrow(compromise)) ≤ 1) \n",
    "    \n",
    "    #co2 at 2050 target formulated based on distribution of functional unit to various pareto solutions from innovative and conventional fronts\n",
    "    #@constraint(rdmap,[tt=6:7],co2_2050[tt]==sum(xk[k,tt]*co2_corrected[k,tt] for k in 1:nrow(compromise))\n",
    "    #    + (1-sum(xk[k,tt] for k in 1:nrow(compromise)))*initial[1,3])\n",
    "    \n",
    "    @constraint(rdmap,[tt=6:7],co2_2050[tt]==sum(xk[k,tt]*co2_corrected[k,tt] for k in 1:nrow(compromise))\n",
    "        +(1-sum(xk[k,tt] for k in 1:nrow(compromise)))*initial[1,3]\n",
    "        + (5*initial[1,3])*(sum(xk[k,tt-1]*tk[k,tt]-(xk[k,tt]*tk[k,tt]-5*xk[k,tt])\n",
    "                    for k in 1:nrow(compromise))/5))\n",
    "    \n",
    "    #@constraint(rdmap, [k=1:nrow(compromise),tt=1:6], xk[k,tt+1] ≥ xk[k,tt])\n",
    "    \n",
    "    #tk < 30\n",
    "    #@variable(rdmap, zk_2030[k=1:nrow(compromise)], Bin)\n",
    "    #@constraint(rdmap, [k=1:nrow(compromise)], 50*(1-zk_2030[k]) ≥ tk[k]-40)\n",
    "    \n",
    "    #circularity at 2030 target\n",
    "    #@constraint(rdmap, theta_2030==sum(xk[k]*compromise[k,4]*(zk_2030[k]) for k in 1:nrow(compromise))\n",
    "    #   + (1-sum(xk[k]*(zk_2030[k]) for k in 1:nrow(compromise)))*initial[1,4])\n",
    "    \n",
    "    #circularity at 2030 target\n",
    "    @constraint(rdmap,[tt=3:7], theta_2030[tt]==sum(xk[k,tt]*compromise[k,4] for k in 1:nrow(compromise))\n",
    "        + (1-sum(xk[k,tt] for k in 1:nrow(compromise)))*initial[1,4])\n",
    "    \n",
    "    #recyclable content at 2030 target\n",
    "    @constraint(rdmap,[tt=3:7], recycl_2030[tt]==sum(xk[k,tt]*compromise[k,5] for k in 1:nrow(compromise))\n",
    "        + (1-sum(xk[k,tt] for k in 1:nrow(compromise)))*initial[1,5])\n",
    "    \n",
    "    #compostable at 2030 target\n",
    "    @constraint(rdmap,[tt=3:7], comp_2030[tt]==sum(xk[k,tt]*compromise[k,6] for k in 1:nrow(compromise))\n",
    "        + (1-sum(xk[k,tt] for k in 1:nrow(compromise)))*initial[1,6])\n",
    "    \n",
    "    \n",
    "    #Time evolution of innovation\n",
    "   \n",
    "    \n",
    "    #Integral approximation of co2 emitted during the entire time horizon\n",
    "    \n",
    "    #mccormick envelopes reduces computational time by 3 fold (see previous formulation for actual bilinear integral approximation)\n",
    "    @variable(rdmap,0 ≤ w1k[k=1:nrow(compromise),tt=2:7])\n",
    "    @constraint(rdmap,[k=1:nrow(compromise),tt=2:7],w1k[k,tt] ≥ 5*xk[k,tt-1]+tk[k,tt]-5)\n",
    "    @constraint(rdmap,[k=1:nrow(compromise),tt=2:7],w1k[k,tt] ≤ 5*xk[k,tt-1])\n",
    "    @constraint(rdmap,[k=1:nrow(compromise),tt=2:7],w1k[k,tt] ≤ tk[k,tt])\n",
    "    \n",
    "    @variable(rdmap,0 ≤ w2k[k=1:nrow(compromise),tt=1:7])\n",
    "    @constraint(rdmap,[k=1:nrow(compromise),tt=1:7],w2k[k,tt] ≥ 5*xk[k,tt]+tk[k,tt]-5)\n",
    "    @constraint(rdmap,[k=1:nrow(compromise),tt=1:7],w2k[k,tt] ≤ 5*xk[k,tt])\n",
    "    @constraint(rdmap,[k=1:nrow(compromise),tt=1:7],w2k[k,tt] ≤ tk[k,tt])\n",
    "    \n",
    "    \n",
    "    \n",
    "    #@constraint(rdmap, co2_tot == 50*initial[1,3]-sum(sum((5-tk[k,tt])*xk[k,tt]*\n",
    "    #                        (initial[1,3]-co2_corrected[k,tt]) for k in 1:nrow(compromise)) for tt in 1:6))\n",
    "    #@constraint(rdmap, co2_tot == 50*initial[1,3]-sum(sum((5*xk[k,tt]-wk[k,tt])*(initial[1,3]-co2_corrected[k,tt]) \n",
    "    #                for k in 1:nrow(compromise)) for tt in 1:7))\n",
    "    \n",
    "    #@constraint(rdmap, co2_tot == 5*initial[1,3]*sum(1-xk[k,1] for k in 1:nrow(compromise))\n",
    "    #                    -sum(sum(((w1k[k,tt]-5*xk[k,tt-1])*co2_corrected[k,tt-1])+(w2k[k,tt]*co2_corrected[k,tt])\n",
    "    #                    + 5*initial[1,3]*(sum(xk[k,tt-1] for k in 1:nrow(compromise))-sum(xk[k,tt] for k in 1:nrow(compromise)))\n",
    "    #                    for k in 1:nrow(compromise)) for tt in 2:7))\n",
    "    \n",
    "    #@constraint(rdmap, co2_tot == 5*initial[1,3]*sum(1-xk[k,1] for k in 1:nrow(compromise))\n",
    "    #                -sum(sum(((w1k[k,tt]-5*xk[k,tt-1])*co2_corrected[k,tt-1])-(w2k[k,tt]*co2_corrected[k,tt])\n",
    "    #                for k in 1:nrow(compromise)) - 5*(initial[1,3])*(sum(xk[k,tt-1] for k in 1:nrow(compromise))\n",
    "    #                -sum(xk[k,tt] for k in 1:nrow(compromise))) for tt in 2:7))\n",
    "    \n",
    "    #@constraint(rdmap, co2_tot == 5*initial[1,3]*sum(1-xk[k,1] for k in 1:nrow(compromise))\n",
    "    #                +sum(sum(((w1k[k,tt])*co2_corrected[k,tt-1])-((w2k[k,tt]-5*xk[k,tt])*co2_corrected[k,tt])\n",
    "    #                for k in 1:nrow(compromise)) + 5*(initial[1,3])*(sum(xk[k,tt-1] for k in 1:nrow(compromise))\n",
    "    #                -sum(xk[k,tt] for k in 1:nrow(compromise))) for tt in 2:7))\n",
    "     \n",
    "    \n",
    "    #correct one\n",
    "    #@constraint(rdmap, co2_tot == 5*initial[1,3]*sum(1-xk[k,1] for k in 1:nrow(compromise))\n",
    "    #                +sum(sum(((w1k[k,tt])*co2_corrected[k,tt-1])-((w2k[k,tt]-5*xk[k,tt])*co2_corrected[k,tt])\n",
    "    #                for k in 1:nrow(compromise)) for tt in 2:7) + \n",
    "    #                sum(5*(initial[1,3])*(sum(w1k[k,tt]-(w2k[k,tt]-5*xk[k,tt])\n",
    "    #                for k in 1:nrow(compromise))/5) for tt in 2:7))\n",
    "    \n",
    "    #@constraint(rdmap, co2_tot == 5*initial[1,3]*(1-sum(xk[k,1] for k in 1:nrow(compromise)))\n",
    "    #                +sum(sum(((w1k[k,tt])*co2_corrected[k,tt-1])-((w2k[k,tt]-5*xk[k,tt])*co2_corrected[k,tt])\n",
    "    #                for k in 1:nrow(compromise)) for tt in 2:7) + \n",
    "    #                sum(5*(initial[1,3])*(sum(xk[k,tt-1]*tk[k,tt]-(xk[k,tt]*tk[k,tt]-5*xk[k,tt])\n",
    "    #                for k in 1:nrow(compromise))/5) for tt in 2:7))\n",
    "    \n",
    "    @variable(rdmap,comp[tt=2:7])\n",
    "    @constraint(rdmap,[tt=2:7],comp[tt]==sum(((w1k[k,tt])*co2_corrected[k,tt-1])-((w2k[k,tt]-5*xk[k,tt])*co2_corrected[k,tt])\n",
    "                    for k in 1:nrow(compromise))  + \n",
    "                    5*(initial[1,3])*(sum(xk[k,tt-1]*tk[k,tt]-(xk[k,tt]*tk[k,tt]-5*xk[k,tt])\n",
    "                    for k in 1:nrow(compromise))/5) )\n",
    "        \n",
    "    #@constraint(rdmap, 120*0.001*co2_tot ≤ 360)\n",
    "    \n",
    "\n",
    "    #setting target for 2050 co2 pledge\n",
    "    @constraint(rdmap, co2_2050[7] .≤ co2_target)\n",
    "    \n",
    "    #setting target for 2030 circularity pledge\n",
    "    #@constraint(rdmap, theta_2030 ≥ 0.72)\n",
    "    \n",
    "    #setting target for 2030 recycl pledge\n",
    "    #@constraint(rdmap,[tt=3:7], recycl_2030[tt] + comp_2030[tt] ≥ circularity_target)\n",
    "    @constraint(rdmap,[tt=3:7], theta_2030[tt] ≥ circularity_target)\n",
    "    \n",
    "    #setting target for 2030 comp pledge\n",
    "    #@constraint(rdmap, comp_2030 ≥ 0.45)\n",
    "    \n",
    "    #@constraint(rdmap,[k=1:25,tt=3:7],tk[k,tt]==0)\n",
    "\n",
    "\n",
    "    #investment cost\n",
    "    @constraint(rdmap, cost_inn == sum(sum(ci[i]*((yi[i,tt]-yi[i,tt-1])*f_fit[i,tt])\n",
    "                for i in 1:nrow(innovations)) for tt in 2:7) + sum(ci[i]*(yi[i,1]*f_fit[i,1]) for i in 1:nrow(innovations)))\n",
    "    \n",
    "    #operating cost\n",
    "    @variable(rdmap,cost_op ≥ 0)\n",
    "    @constraint(rdmap,cost_op == sum(sum(xk[k,tt]*compromise[k,9]*0.982^(-1*tau[tt]) for k in 1:nrow(compromise))\n",
    "        + (1-sum(xk[k,tt] for k in 1:nrow(compromise)))*initial[1,7]*0.982^(-1*tau[tt]) for tt in 1:7))\n",
    "\n",
    "    \n",
    "    \n",
    "    @constraint(rdmap, [i=1:nrow(innovations),tt=1:7],s[i,tt]==f_fit[i,tt])\n",
    "    \n",
    "    #@constraint(rdmap,[i=9:11,tt=1:7],yi[i,tt]==0)\n",
    "    #@variable(rdmap, y1, Bin)\n",
    "    #@NLconstraint(rdmap, cost_inn == sum(ci[i]*(yi[i]*(y1*(2*t/50)+(1-y1)*(3*t/50))) for i in 1:nrow(innovations)))\n",
    "    \n",
    "    #@constraint(rdmap,[i=1:nrow(innovations)],sum(yi[i,tt] for tt=1:7)≥1)\n",
    "    #definining objective function as investment cost + Co2 emission cost during the time horizon\n",
    "    #40*0.001*co2_tot+\n",
    "    #@NLconstraint(rdmap, obj_val == cost_inn)\n",
    "    #120*0.001*co2_tot+\n",
    "    @objective(rdmap,Min,120*co2_tot+0.25*cost_inn+10*cost_op)\n",
    "    #120*0.001*co2_tot+\n",
    "    #supplying lower bound on objective based on cost_inn optimal\n",
    "    #@variable(rdmap, obj_val ≥ 180)\n",
    "    #print(rdmap)\n",
    "    optimize!(rdmap)\n",
    "    print(termination_status(rdmap))\n",
    "    return JuMP.value.(yk), JuMP.value.(tk), JuMP.value.(xk), JuMP.value.(yi), JuMP.value.(ti), \n",
    "        JuMP.value.(s), JuMP.value.(co2_2050), JuMP.value.(cost_inn), JuMP.value.(co2_tot), JuMP.value.(cost_op), JuMP.value.(co2_corrected), JuMP.value.(co2_factor), JuMP.values.(comp)\n",
    "end\n",
    "\n",
    "\n"
   ]
  },
  {
   "cell_type": "code",
   "execution_count": 21,
   "id": "6644178b",
   "metadata": {
    "scrolled": true
   },
   "outputs": [
    {
     "name": "stdout",
     "output_type": "stream",
     "text": [
      "\n",
      "--------------------------------------------\n",
      "Warning: your license will expire in 5 days\n",
      "--------------------------------------------\n",
      "\n",
      "Academic license - for non-commercial use only - expires 2022-11-07\n",
      "Gurobi Optimizer version 9.1.2 build v9.1.2rc0 (linux64)\n",
      "Thread count: 8 physical cores, 16 logical processors, using up to 16 threads\n",
      "Optimize a model with 34126 rows, 32739 columns and 123419 nonzeros\n",
      "Model fingerprint: 0x8ca7e689\n",
      "Model has 9 quadratic constraints\n",
      "Variable types: 24927 continuous, 7812 integer (7812 binary)\n",
      "Coefficient statistics:\n",
      "  Matrix range     [1e-04, 5e+01]\n",
      "  QMatrix range    [1e+00, 1e+02]\n",
      "  QLMatrix range   [1e+00, 4e+01]\n",
      "  Objective range  [2e-01, 1e+02]\n",
      "  Bounds range     [8e-03, 5e+00]\n",
      "  RHS range        [3e-02, 3e+01]\n",
      "  QRHS range       [8e+00, 8e+00]\n",
      "Presolve removed 11657 rows and 15174 columns\n",
      "Presolve time: 0.22s\n",
      "Presolved: 55067 rows, 25748 columns, 199235 nonzeros\n",
      "Presolved model has 8040 bilinear constraint(s)\n",
      "Variable types: 21865 continuous, 3883 integer (3883 binary)\n",
      "\n",
      "Deterministic concurrent LP optimizer: primal and dual simplex (primal and dual model)\n",
      "Showing first log only...\n",
      "\n",
      "Presolve removed 5967 rows and 2484 columns\n",
      "Presolved: 49100 rows, 23264 columns, 177639 nonzeros\n",
      "\n",
      "Concurrent spin time: 0.00s\n",
      "\n",
      "Solved with primal simplex (primal model)\n",
      "\n",
      "Root relaxation: objective 8.098816e+01, 10548 iterations, 0.38 seconds\n",
      "\n",
      "    Nodes    |    Current Node    |     Objective Bounds      |     Work\n",
      " Expl Unexpl |  Obj  Depth IntInf | Incumbent    BestBd   Gap | It/Node Time\n",
      "\n",
      "     0     0   81.74265    0  175          -   81.74265      -     -    1s\n",
      "     0     0  128.44542    0   95          -  128.44542      -     -    1s\n",
      "     0     0  130.28877    0   76          -  130.28877      -     -    1s\n",
      "     0     0  139.48403    0   44          -  139.48403      -     -    1s\n",
      "     0     0  140.20915    0   44          -  140.20915      -     -    1s\n",
      "     0     0  141.01338    0   95          -  141.01338      -     -    2s\n",
      "     0     0  141.26427    0   97          -  141.26427      -     -    2s\n",
      "     0     0  141.65424    0   99          -  141.65424      -     -    2s\n",
      "     0     0  141.77983    0   98          -  141.77983      -     -    2s\n",
      "     0     0  141.91828    0   94          -  141.91828      -     -    2s\n",
      "     0     0  141.93753    0  101          -  141.93753      -     -    2s\n",
      "     0     0  141.96805    0  109          -  141.96805      -     -    2s\n",
      "     0     0  141.96805    0  109          -  141.96805      -     -    2s\n",
      "     0     0  142.04137    0  112          -  142.04137      -     -    2s\n",
      "     0     0  142.08110    0  111          -  142.08110      -     -    2s\n",
      "     0     0  142.39322    0  107          -  142.39322      -     -    3s\n",
      "     0     0  142.40603    0  109          -  142.40603      -     -    3s\n",
      "     0     0  142.40799    0  103          -  142.40799      -     -    3s\n",
      "     0     0  142.41308    0  106          -  142.41308      -     -    3s\n",
      "     0     0  142.41751    0  106          -  142.41751      -     -    3s\n",
      "     0     0  142.41751    0   98          -  142.41751      -     -    3s\n",
      "     0     2  142.41793    0   98          -  142.41793      -     -    5s\n",
      "   268   285  172.21921   26   21          -  146.55020      -   274   10s\n",
      "*  316   307              28     187.6427623  146.55020  21.9%   256   10s\n",
      "*  318   305              27     150.0217741  146.55020  2.31%   263   10s\n",
      "*  319   305              27     150.0217535  146.55020  2.31%   262   10s\n",
      "*  412   367              31     149.0701976  146.55020  1.69%   310   12s\n",
      "*  482   426              37     148.6456289  146.55020  1.41%   275   13s\n",
      "*  502   490              36     148.2045781  146.55020  1.12%   264   14s\n",
      "*  504   490              37     148.1583989  146.55020  1.09%   263   14s\n",
      "*  506   490              38     148.1565068  146.55020  1.08%   262   14s\n",
      "*  536   490              42     146.7884356  146.55020  0.16%   257   14s\n",
      "*  537   490              43     146.7884187  146.55020  0.16%   256   14s\n",
      "*  574   490              41     146.5502180  146.55020  0.00%   241   14s\n",
      "*  575   490              41     146.5501974  146.55020  0.00%   241   14s\n",
      "\n",
      "Cutting planes:\n",
      "  Gomory: 33\n",
      "  Cover: 1\n",
      "  Implied bound: 77\n",
      "  Clique: 2\n",
      "  MIR: 60\n",
      "  Flow cover: 93\n",
      "  RLT: 87\n",
      "  Relax-and-lift: 29\n",
      "\n",
      "Explored 635 nodes (156366 simplex iterations) in 14.99 seconds\n",
      "Thread count was 16 (of 16 available processors)\n",
      "\n",
      "Solution count 9: 146.55 146.788 148.157 ... 187.643\n",
      "\n",
      "Optimal solution found (tolerance 1.00e-04)\n",
      "Warning: max constraint violation (6.3182e-06) exceeds tolerance\n",
      "Best objective 1.465501973719e+02, best bound 1.465501973719e+02, gap 0.0000%\n",
      "\n",
      "User-callback calls 3249, time in user-callback 0.00 sec\n",
      "OPTIMAL"
     ]
    },
    {
     "data": {
      "text/plain": [
       "11×7 Matrix{Float64}:\n",
       "  0.0   0.0   1.0  1.0   1.0   1.0   1.0\n",
       " -0.0   0.0   0.0  0.0   0.0   0.0  -0.0\n",
       "  0.0   0.0  -0.0  0.0   0.0   0.0  -0.0\n",
       "  0.0  -0.0   0.0  0.0   0.0  -0.0  -0.0\n",
       " -0.0   0.0  -0.0  0.0   0.0  -0.0   0.0\n",
       "  0.0  -0.0   0.0  0.0   0.0   0.0  -0.0\n",
       "  0.0   0.0  -0.0  0.0  -0.0   0.0   1.0\n",
       "  1.0   1.0   1.0  1.0   1.0   1.0   1.0\n",
       "  0.0  -0.0   0.0  0.0   0.0  -0.0  -0.0\n",
       "  0.0   0.0  -0.0  0.0   0.0   0.0  -0.0\n",
       "  0.0   0.0   0.0  0.0   0.0   0.0  -0.0"
      ]
     },
     "execution_count": 21,
     "metadata": {},
     "output_type": "execute_result"
    }
   ],
   "source": [
    "yk, tk, xk, yi, ti, s, co2, costInn, co2tot, ocost,co2fac, cc, comp1=tech_roadmap_mccormick_peicewise_iam_multipd(0,0.7)\n",
    "yi\n"
   ]
  },
  {
   "cell_type": "code",
   "execution_count": 22,
   "id": "96fb24b7",
   "metadata": {},
   "outputs": [
    {
     "data": {
      "text/plain": [
       "0.0"
      ]
     },
     "execution_count": 22,
     "metadata": {},
     "output_type": "execute_result"
    }
   ],
   "source": [
    "co2tot"
   ]
  },
  {
   "cell_type": "code",
   "execution_count": 23,
   "id": "0629277d",
   "metadata": {
    "scrolled": true
   },
   "outputs": [
    {
     "data": {
      "application/vnd.vegalite.v4+json": {
       "data": {
        "values": [
         {
          "value": 0,
          "variable": "x14",
          "year": 5
         },
         {
          "value": 0,
          "variable": "x14",
          "year": 10
         },
         {
          "value": 0,
          "variable": "x14",
          "year": 15
         },
         {
          "value": 0,
          "variable": "x14",
          "year": 20
         },
         {
          "value": 0,
          "variable": "x14",
          "year": 25
         },
         {
          "value": 0,
          "variable": "x14",
          "year": 30
         },
         {
          "value": 0.19711328125357436,
          "variable": "x14",
          "year": 35
         },
         {
          "value": 0,
          "variable": "x14",
          "year": 0
         },
         {
          "value": 0,
          "variable": "x22",
          "year": 5
         },
         {
          "value": 0,
          "variable": "x22",
          "year": 10
         },
         {
          "value": 0.5491488193300182,
          "variable": "x22",
          "year": 15
         },
         {
          "value": 0.5491488193300182,
          "variable": "x22",
          "year": 20
         },
         {
          "value": 0.5491488193300182,
          "variable": "x22",
          "year": 25
         },
         {
          "value": 0.5491488193300182,
          "variable": "x22",
          "year": 30
         },
         {
          "value": 0,
          "variable": "x22",
          "year": 35
         },
         {
          "value": 0,
          "variable": "x22",
          "year": 0
         },
         {
          "value": 0,
          "variable": "x157",
          "year": 5
         },
         {
          "value": 0,
          "variable": "x157",
          "year": 10
         },
         {
          "value": 0,
          "variable": "x157",
          "year": 15
         },
         {
          "value": 0,
          "variable": "x157",
          "year": 20
         },
         {
          "value": 0,
          "variable": "x157",
          "year": 25
         },
         {
          "value": 0,
          "variable": "x157",
          "year": 30
         },
         {
          "value": 0.44539277138332006,
          "variable": "x157",
          "year": 35
         },
         {
          "value": 0,
          "variable": "x157",
          "year": 0
         },
         {
          "value": 0,
          "variable": "x177",
          "year": 5
         },
         {
          "value": 0,
          "variable": "x177",
          "year": 10
         },
         {
          "value": 0,
          "variable": "x177",
          "year": 15
         },
         {
          "value": 0,
          "variable": "x177",
          "year": 20
         },
         {
          "value": 0,
          "variable": "x177",
          "year": 25
         },
         {
          "value": 0,
          "variable": "x177",
          "year": 30
         },
         {
          "value": 0.35749394736310564,
          "variable": "x177",
          "year": 35
         },
         {
          "value": 0,
          "variable": "x177",
          "year": 0
         },
         {
          "value": 1,
          "variable": "x178",
          "year": 5
         },
         {
          "value": 1,
          "variable": "x178",
          "year": 10
         },
         {
          "value": 0.4508511806699602,
          "variable": "x178",
          "year": 15
         },
         {
          "value": 0.45085118066998164,
          "variable": "x178",
          "year": 20
         },
         {
          "value": 0.4508511806699817,
          "variable": "x178",
          "year": 25
         },
         {
          "value": 0.4508511806699817,
          "variable": "x178",
          "year": 30
         },
         {
          "value": 0,
          "variable": "x178",
          "year": 35
         },
         {
          "value": 0,
          "variable": "x178",
          "year": 0
         },
         {
          "value": 0,
          "variable": "x183",
          "year": 5
         },
         {
          "value": 0,
          "variable": "x183",
          "year": 10
         },
         {
          "value": 2.1538326677728037e-14,
          "variable": "x183",
          "year": 15
         },
         {
          "value": 0,
          "variable": "x183",
          "year": 20
         },
         {
          "value": 0,
          "variable": "x183",
          "year": 25
         },
         {
          "value": 0,
          "variable": "x183",
          "year": 30
         },
         {
          "value": 0,
          "variable": "x183",
          "year": 35
         },
         {
          "value": 0,
          "variable": "x183",
          "year": 0
         },
         {
          "value": 0,
          "variable": "Conv",
          "year": 5
         },
         {
          "value": 0,
          "variable": "Conv",
          "year": 10
         },
         {
          "value": 0,
          "variable": "Conv",
          "year": 15
         },
         {
          "value": 0,
          "variable": "Conv",
          "year": 20
         },
         {
          "value": 0,
          "variable": "Conv",
          "year": 25
         },
         {
          "value": 0,
          "variable": "Conv",
          "year": 30
         },
         {
          "value": 0,
          "variable": "Conv",
          "year": 35
         },
         {
          "value": 1,
          "variable": "Conv",
          "year": 0
         }
        ]
       },
       "encoding": {
        "color": {
         "field": "variable",
         "type": "nominal"
        },
        "x": {
         "field": "year",
         "type": "quantitative"
        },
        "y": {
         "field": "value",
         "stack": "zero",
         "title": "Fraction",
         "type": "quantitative"
        }
       },
       "legend": "sNames",
       "mark": "area"
      },
      "image/png": "[encoded data removed]",
      "image/svg+xml": [
       "<?xml version=\"1.0\" encoding=\"utf-8\"?>\n",
       "<!DOCTYPE svg PUBLIC \"-//W3C//DTD SVG 1.1//EN\" \"http://www.w3.org/Graphics/SVG/1.1/DTD/svg11.dtd\">\n",
       "<svg xmlns=\"http://www.w3.org/2000/svg\" xmlns:xlink=\"http://www.w3.org/1999/xlink\" version=\"1.1\" class=\"marks\" width=\"314\" height=\"247\" viewBox=\"0 0 314 247\"><rect width=\"314\" height=\"247\" fill=\"white\"/><g fill=\"none\" stroke-miterlimit=\"10\" transform=\"translate(42,10)\"><g class=\"mark-group role-frame root\" role=\"graphics-object\" aria-roledescription=\"group mark container\"><g transform=\"translate(0,0)\"><path class=\"background\" aria-hidden=\"true\" d=\"M0.5,0.5h200v200h-200Z\" stroke=\"#ddd\"/><g><g class=\"mark-group role-axis\" aria-hidden=\"true\"><g transform=\"translate(0.5,200.5)\"><path class=\"background\" aria-hidden=\"true\" d=\"M0,0h0v0h0Z\" pointer-events=\"none\"/><g><g class=\"mark-rule role-axis-grid\" pointer-events=\"none\"><line transform=\"translate(0,-200)\" x2=\"0\" y2=\"200\" stroke=\"#ddd\" stroke-width=\"1\" opacity=\"1\"/><line transform=\"translate(29,-200)\" x2=\"0\" y2=\"200\" stroke=\"#ddd\" stroke-width=\"1\" opacity=\"1\"/><line transform=\"translate(57,-200)\" x2=\"0\" y2=\"200\" stroke=\"#ddd\" stroke-width=\"1\" opacity=\"1\"/><line transform=\"translate(86,-200)\" x2=\"0\" y2=\"200\" stroke=\"#ddd\" stroke-width=\"1\" opacity=\"1\"/><line transform=\"translate(114,-200)\" x2=\"0\" y2=\"200\" stroke=\"#ddd\" stroke-width=\"1\" opacity=\"1\"/><line transform=\"translate(143,-200)\" x2=\"0\" y2=\"200\" stroke=\"#ddd\" stroke-width=\"1\" opacity=\"1\"/><line transform=\"translate(171,-200)\" x2=\"0\" y2=\"200\" stroke=\"#ddd\" stroke-width=\"1\" opacity=\"1\"/><line transform=\"translate(200,-200)\" x2=\"0\" y2=\"200\" stroke=\"#ddd\" stroke-width=\"1\" opacity=\"1\"/></g></g><path class=\"foreground\" aria-hidden=\"true\" d=\"\" pointer-events=\"none\" display=\"none\"/></g></g><g class=\"mark-group role-axis\" aria-hidden=\"true\"><g transform=\"translate(0.5,0.5)\"><path class=\"background\" aria-hidden=\"true\" d=\"M0,0h0v0h0Z\" pointer-events=\"none\"/><g><g class=\"mark-rule role-axis-grid\" pointer-events=\"none\"><line transform=\"translate(0,200)\" x2=\"200\" y2=\"0\" stroke=\"#ddd\" stroke-width=\"1\" opacity=\"1\"/><line transform=\"translate(0,160)\" x2=\"200\" y2=\"0\" stroke=\"#ddd\" stroke-width=\"1\" opacity=\"1\"/><line transform=\"translate(0,120)\" x2=\"200\" y2=\"0\" stroke=\"#ddd\" stroke-width=\"1\" opacity=\"1\"/><line transform=\"translate(0,80)\" x2=\"200\" y2=\"0\" stroke=\"#ddd\" stroke-width=\"1\" opacity=\"1\"/><line transform=\"translate(0,40)\" x2=\"200\" y2=\"0\" stroke=\"#ddd\" stroke-width=\"1\" opacity=\"1\"/><line transform=\"translate(0,0)\" x2=\"200\" y2=\"0\" stroke=\"#ddd\" stroke-width=\"1\" opacity=\"1\"/></g></g><path class=\"foreground\" aria-hidden=\"true\" d=\"\" pointer-events=\"none\" display=\"none\"/></g></g><g class=\"mark-group role-axis\" role=\"graphics-symbol\" aria-roledescription=\"axis\" aria-label=\"X-axis titled 'year' for a linear scale with values from 0 to 35\"><g transform=\"translate(0.5,200.5)\"><path class=\"background\" aria-hidden=\"true\" d=\"M0,0h0v0h0Z\" pointer-events=\"none\"/><g><g class=\"mark-rule role-axis-tick\" pointer-events=\"none\"><line transform=\"translate(0,0)\" x2=\"0\" y2=\"5\" stroke=\"#888\" stroke-width=\"1\" opacity=\"1\"/><line transform=\"translate(29,0)\" x2=\"0\" y2=\"5\" stroke=\"#888\" stroke-width=\"1\" opacity=\"1\"/><line transform=\"translate(57,0)\" x2=\"0\" y2=\"5\" stroke=\"#888\" stroke-width=\"1\" opacity=\"1\"/><line transform=\"translate(86,0)\" x2=\"0\" y2=\"5\" stroke=\"#888\" stroke-width=\"1\" opacity=\"1\"/><line transform=\"translate(114,0)\" x2=\"0\" y2=\"5\" stroke=\"#888\" stroke-width=\"1\" opacity=\"1\"/><line transform=\"translate(143,0)\" x2=\"0\" y2=\"5\" stroke=\"#888\" stroke-width=\"1\" opacity=\"1\"/><line transform=\"translate(171,0)\" x2=\"0\" y2=\"5\" stroke=\"#888\" stroke-width=\"1\" opacity=\"1\"/><line transform=\"translate(200,0)\" x2=\"0\" y2=\"5\" stroke=\"#888\" stroke-width=\"1\" opacity=\"1\"/></g><g class=\"mark-text role-axis-label\" pointer-events=\"none\"><text text-anchor=\"start\" transform=\"translate(0,15)\" font-family=\"sans-serif\" font-size=\"10px\" fill=\"#000\" opacity=\"1\">0</text><text text-anchor=\"middle\" transform=\"translate(28.57142857142857,15)\" font-family=\"sans-serif\" font-size=\"10px\" fill=\"#000\" opacity=\"1\">5</text><text text-anchor=\"middle\" transform=\"translate(57.14285714285714,15)\" font-family=\"sans-serif\" font-size=\"10px\" fill=\"#000\" opacity=\"1\">10</text><text text-anchor=\"middle\" transform=\"translate(85.71428571428571,15)\" font-family=\"sans-serif\" font-size=\"10px\" fill=\"#000\" opacity=\"1\">15</text><text text-anchor=\"middle\" transform=\"translate(114.28571428571428,15)\" font-family=\"sans-serif\" font-size=\"10px\" fill=\"#000\" opacity=\"1\">20</text><text text-anchor=\"middle\" transform=\"translate(142.85714285714286,15)\" font-family=\"sans-serif\" font-size=\"10px\" fill=\"#000\" opacity=\"1\">25</text><text text-anchor=\"middle\" transform=\"translate(171.42857142857142,15)\" font-family=\"sans-serif\" font-size=\"10px\" fill=\"#000\" opacity=\"1\">30</text><text text-anchor=\"end\" transform=\"translate(200,15)\" font-family=\"sans-serif\" font-size=\"10px\" fill=\"#000\" opacity=\"1\">35</text></g><g class=\"mark-rule role-axis-domain\" pointer-events=\"none\"><line transform=\"translate(0,0)\" x2=\"200\" y2=\"0\" stroke=\"#888\" stroke-width=\"1\" opacity=\"1\"/></g><g class=\"mark-text role-axis-title\" pointer-events=\"none\"><text text-anchor=\"middle\" transform=\"translate(100,30)\" font-family=\"sans-serif\" font-size=\"11px\" font-weight=\"bold\" fill=\"#000\" opacity=\"1\">year</text></g></g><path class=\"foreground\" aria-hidden=\"true\" d=\"\" pointer-events=\"none\" display=\"none\"/></g></g><g class=\"mark-group role-axis\" role=\"graphics-symbol\" aria-roledescription=\"axis\" aria-label=\"Y-axis titled 'Fraction' for a linear scale with values from 0.0 to 1.0\"><g transform=\"translate(0.5,0.5)\"><path class=\"background\" aria-hidden=\"true\" d=\"M0,0h0v0h0Z\" pointer-events=\"none\"/><g><g class=\"mark-rule role-axis-tick\" pointer-events=\"none\"><line transform=\"translate(0,200)\" x2=\"-5\" y2=\"0\" stroke=\"#888\" stroke-width=\"1\" opacity=\"1\"/><line transform=\"translate(0,160)\" x2=\"-5\" y2=\"0\" stroke=\"#888\" stroke-width=\"1\" opacity=\"1\"/><line transform=\"translate(0,120)\" x2=\"-5\" y2=\"0\" stroke=\"#888\" stroke-width=\"1\" opacity=\"1\"/><line transform=\"translate(0,80)\" x2=\"-5\" y2=\"0\" stroke=\"#888\" stroke-width=\"1\" opacity=\"1\"/><line transform=\"translate(0,40)\" x2=\"-5\" y2=\"0\" stroke=\"#888\" stroke-width=\"1\" opacity=\"1\"/><line transform=\"translate(0,0)\" x2=\"-5\" y2=\"0\" stroke=\"#888\" stroke-width=\"1\" opacity=\"1\"/></g><g class=\"mark-text role-axis-label\" pointer-events=\"none\"><text text-anchor=\"end\" transform=\"translate(-7,203)\" font-family=\"sans-serif\" font-size=\"10px\" fill=\"#000\" opacity=\"1\">0.0</text><text text-anchor=\"end\" transform=\"translate(-7,163)\" font-family=\"sans-serif\" font-size=\"10px\" fill=\"#000\" opacity=\"1\">0.2</text><text text-anchor=\"end\" transform=\"translate(-7,123)\" font-family=\"sans-serif\" font-size=\"10px\" fill=\"#000\" opacity=\"1\">0.4</text><text text-anchor=\"end\" transform=\"translate(-7,83)\" font-family=\"sans-serif\" font-size=\"10px\" fill=\"#000\" opacity=\"1\">0.6</text><text text-anchor=\"end\" transform=\"translate(-7,42.99999999999999)\" font-family=\"sans-serif\" font-size=\"10px\" fill=\"#000\" opacity=\"1\">0.8</text><text text-anchor=\"end\" transform=\"translate(-7,3)\" font-family=\"sans-serif\" font-size=\"10px\" fill=\"#000\" opacity=\"1\">1.0</text></g><g class=\"mark-rule role-axis-domain\" pointer-events=\"none\"><line transform=\"translate(0,200)\" x2=\"0\" y2=\"-200\" stroke=\"#888\" stroke-width=\"1\" opacity=\"1\"/></g><g class=\"mark-text role-axis-title\" pointer-events=\"none\"><text text-anchor=\"middle\" transform=\"translate(-26,100) rotate(-90) translate(0,-2)\" font-family=\"sans-serif\" font-size=\"11px\" font-weight=\"bold\" fill=\"#000\" opacity=\"1\">Fraction</text></g></g><path class=\"foreground\" aria-hidden=\"true\" d=\"\" pointer-events=\"none\" display=\"none\"/></g></g><g class=\"mark-group role-scope pathgroup\" role=\"graphics-object\" aria-roledescription=\"group mark container\"><g transform=\"translate(0,0)\"><path class=\"background\" aria-hidden=\"true\" d=\"M0,0h200v200h-200Z\"/><g><g class=\"mark-area role-mark marks\" role=\"graphics-object\" aria-roledescription=\"area mark container\"><path aria-label=\"year: 0; Fraction: 0; variable: x14\" role=\"graphics-symbol\" aria-roledescription=\"area mark\" d=\"M0,200L28.57142857142857,0L57.14285714285714,0L85.71428571428571,0L114.28571428571428,2.220446049250313e-14L142.85714285714286,0L171.42857142857142,0L200,0L200,39.42265625071486L171.42857142857142,0L142.85714285714286,0L114.28571428571428,2.220446049250313e-14L85.71428571428571,0L57.14285714285714,0L28.57142857142857,0L0,200Z\" fill=\"#f58518\"/></g></g><path class=\"foreground\" aria-hidden=\"true\" d=\"\" display=\"none\"/></g><g transform=\"translate(0,0)\"><path class=\"background\" aria-hidden=\"true\" d=\"M0,0h200v200h-200Z\"/><g><g class=\"mark-area role-mark marks\" role=\"graphics-object\" aria-roledescription=\"area mark container\"><path aria-label=\"year: 0; Fraction: 0; variable: x22\" role=\"graphics-symbol\" aria-roledescription=\"area mark\" d=\"M0,200L28.57142857142857,200L57.14285714285714,200L85.71428571428571,90.17023613399635L114.28571428571428,90.17023613399635L142.85714285714286,90.17023613399635L171.42857142857142,90.17023613399635L200,200L200,200L171.42857142857142,200L142.85714285714286,200L114.28571428571428,200L85.71428571428571,200L57.14285714285714,200L28.57142857142857,200L0,200Z\" fill=\"#b279a2\"/></g></g><path class=\"foreground\" aria-hidden=\"true\" d=\"\" display=\"none\"/></g><g transform=\"translate(0,0)\"><path class=\"background\" aria-hidden=\"true\" d=\"M0,0h200v200h-200Z\"/><g><g class=\"mark-area role-mark marks\" role=\"graphics-object\" aria-roledescription=\"area mark container\"><path aria-label=\"year: 0; Fraction: 0; variable: x157\" role=\"graphics-symbol\" aria-roledescription=\"area mark\" d=\"M0,200L28.57142857142857,0L57.14285714285714,0L85.71428571428571,0L114.28571428571428,2.220446049250313e-14L142.85714285714286,0L171.42857142857142,0L200,39.42265625071486L200,128.50121052737887L171.42857142857142,0L142.85714285714286,0L114.28571428571428,2.220446049250313e-14L85.71428571428571,0L57.14285714285714,0L28.57142857142857,0L0,200Z\" fill=\"#e45756\"/></g></g><path class=\"foreground\" aria-hidden=\"true\" d=\"\" display=\"none\"/></g><g transform=\"translate(0,0)\"><path class=\"background\" aria-hidden=\"true\" d=\"M0,0h200v200h-200Z\"/><g><g class=\"mark-area role-mark marks\" role=\"graphics-object\" aria-roledescription=\"area mark container\"><path aria-label=\"year: 0; Fraction: 0; variable: x177\" role=\"graphics-symbol\" aria-roledescription=\"area mark\" d=\"M0,200L28.57142857142857,0L57.14285714285714,0L85.71428571428571,0L114.28571428571428,2.220446049250313e-14L142.85714285714286,0L171.42857142857142,0L200,128.50121052737887L200,200L171.42857142857142,0L142.85714285714286,0L114.28571428571428,2.220446049250313e-14L85.71428571428571,0L57.14285714285714,0L28.57142857142857,0L0,200Z\" fill=\"#72b7b2\"/></g></g><path class=\"foreground\" aria-hidden=\"true\" d=\"\" display=\"none\"/></g><g transform=\"translate(0,0)\"><path class=\"background\" aria-hidden=\"true\" d=\"M0,0h200v200h-200Z\"/><g><g class=\"mark-area role-mark marks\" role=\"graphics-object\" aria-roledescription=\"area mark container\"><path aria-label=\"year: 0; Fraction: 0; variable: x178\" role=\"graphics-symbol\" aria-roledescription=\"area mark\" d=\"M0,200L28.57142857142857,0L57.14285714285714,0L85.71428571428571,0L114.28571428571428,2.220446049250313e-14L142.85714285714286,0L171.42857142857142,0L200,200L200,200L171.42857142857142,90.17023613399635L142.85714285714286,90.17023613399635L114.28571428571428,90.17023613399635L85.71428571428571,90.17023613399205L57.14285714285714,200L28.57142857142857,200L0,200Z\" fill=\"#54a24b\"/></g></g><path class=\"foreground\" aria-hidden=\"true\" d=\"\" display=\"none\"/></g><g transform=\"translate(0,0)\"><path class=\"background\" aria-hidden=\"true\" d=\"M0,0h200v200h-200Z\"/><g><g class=\"mark-area role-mark marks\" role=\"graphics-object\" aria-roledescription=\"area mark container\"><path aria-label=\"year: 0; Fraction: 0; variable: x183\" role=\"graphics-symbol\" aria-roledescription=\"area mark\" d=\"M0,200L28.57142857142857,200L57.14285714285714,200L85.71428571428571,90.17023613399205L114.28571428571428,90.17023613399635L142.85714285714286,90.17023613399635L171.42857142857142,90.17023613399635L200,200L200,200L171.42857142857142,90.17023613399635L142.85714285714286,90.17023613399635L114.28571428571428,90.17023613399635L85.71428571428571,90.17023613399635L57.14285714285714,200L28.57142857142857,200L0,200Z\" fill=\"#eeca3b\"/></g></g><path class=\"foreground\" aria-hidden=\"true\" d=\"\" display=\"none\"/></g><g transform=\"translate(0,0)\"><path class=\"background\" aria-hidden=\"true\" d=\"M0,0h200v200h-200Z\"/><g><g class=\"mark-area role-mark marks\" role=\"graphics-object\" aria-roledescription=\"area mark container\"><path aria-label=\"year: 0; Fraction: 1; variable: Conv\" role=\"graphics-symbol\" aria-roledescription=\"area mark\" d=\"M0,0L28.57142857142857,0L57.14285714285714,0L85.71428571428571,0L114.28571428571428,2.220446049250313e-14L142.85714285714286,0L171.42857142857142,0L200,0L200,0L171.42857142857142,0L142.85714285714286,0L114.28571428571428,2.220446049250313e-14L85.71428571428571,0L57.14285714285714,0L28.57142857142857,0L0,200Z\" fill=\"#4c78a8\"/></g></g><path class=\"foreground\" aria-hidden=\"true\" d=\"\" display=\"none\"/></g></g><g class=\"mark-group role-legend\" role=\"graphics-symbol\" aria-roledescription=\"legend\" aria-label=\"Symbol legend titled 'variable' for fill color with 7 values: Conv, x14, x157, x177, x178, x183, x22\"><g transform=\"translate(218,0)\"><path class=\"background\" aria-hidden=\"true\" d=\"M0,0h49v105h-49Z\" pointer-events=\"none\"/><g><g class=\"mark-group role-legend-entry\"><g transform=\"translate(0,16)\"><path class=\"background\" aria-hidden=\"true\" d=\"M0,0h0v0h0Z\" pointer-events=\"none\"/><g><g class=\"mark-group role-scope\" role=\"graphics-object\" aria-roledescription=\"group mark container\"><g transform=\"translate(0,0)\"><path class=\"background\" aria-hidden=\"true\" d=\"M0,0h41v11h-41Z\" pointer-events=\"none\" opacity=\"1\"/><g><g class=\"mark-symbol role-legend-symbol\" pointer-events=\"none\"><path transform=\"translate(6,6)\" d=\"M5,0A5,5,0,1,1,-5,0A5,5,0,1,1,5,0\" fill=\"#4c78a8\" stroke-width=\"1.5\" opacity=\"1\"/></g><g class=\"mark-text role-legend-label\" pointer-events=\"none\"><text text-anchor=\"start\" transform=\"translate(16,9)\" font-family=\"sans-serif\" font-size=\"10px\" fill=\"#000\" opacity=\"1\">Conv</text></g></g><path class=\"foreground\" aria-hidden=\"true\" d=\"\" pointer-events=\"none\" display=\"none\"/></g><g transform=\"translate(0,13)\"><path class=\"background\" aria-hidden=\"true\" d=\"M0,0h41v11h-41Z\" pointer-events=\"none\" opacity=\"1\"/><g><g class=\"mark-symbol role-legend-symbol\" pointer-events=\"none\"><path transform=\"translate(6,6)\" d=\"M5,0A5,5,0,1,1,-5,0A5,5,0,1,1,5,0\" fill=\"#f58518\" stroke-width=\"1.5\" opacity=\"1\"/></g><g class=\"mark-text role-legend-label\" pointer-events=\"none\"><text text-anchor=\"start\" transform=\"translate(16,9)\" font-family=\"sans-serif\" font-size=\"10px\" fill=\"#000\" opacity=\"1\">x14</text></g></g><path class=\"foreground\" aria-hidden=\"true\" d=\"\" pointer-events=\"none\" display=\"none\"/></g><g transform=\"translate(0,26)\"><path class=\"background\" aria-hidden=\"true\" d=\"M0,0h41v11h-41Z\" pointer-events=\"none\" opacity=\"1\"/><g><g class=\"mark-symbol role-legend-symbol\" pointer-events=\"none\"><path transform=\"translate(6,6)\" d=\"M5,0A5,5,0,1,1,-5,0A5,5,0,1,1,5,0\" fill=\"#e45756\" stroke-width=\"1.5\" opacity=\"1\"/></g><g class=\"mark-text role-legend-label\" pointer-events=\"none\"><text text-anchor=\"start\" transform=\"translate(16,9)\" font-family=\"sans-serif\" font-size=\"10px\" fill=\"#000\" opacity=\"1\">x157</text></g></g><path class=\"foreground\" aria-hidden=\"true\" d=\"\" pointer-events=\"none\" display=\"none\"/></g><g transform=\"translate(0,39)\"><path class=\"background\" aria-hidden=\"true\" d=\"M0,0h41v11h-41Z\" pointer-events=\"none\" opacity=\"1\"/><g><g class=\"mark-symbol role-legend-symbol\" pointer-events=\"none\"><path transform=\"translate(6,6)\" d=\"M5,0A5,5,0,1,1,-5,0A5,5,0,1,1,5,0\" fill=\"#72b7b2\" stroke-width=\"1.5\" opacity=\"1\"/></g><g class=\"mark-text role-legend-label\" pointer-events=\"none\"><text text-anchor=\"start\" transform=\"translate(16,9)\" font-family=\"sans-serif\" font-size=\"10px\" fill=\"#000\" opacity=\"1\">x177</text></g></g><path class=\"foreground\" aria-hidden=\"true\" d=\"\" pointer-events=\"none\" display=\"none\"/></g><g transform=\"translate(0,52)\"><path class=\"background\" aria-hidden=\"true\" d=\"M0,0h41v11h-41Z\" pointer-events=\"none\" opacity=\"1\"/><g><g class=\"mark-symbol role-legend-symbol\" pointer-events=\"none\"><path transform=\"translate(6,6)\" d=\"M5,0A5,5,0,1,1,-5,0A5,5,0,1,1,5,0\" fill=\"#54a24b\" stroke-width=\"1.5\" opacity=\"1\"/></g><g class=\"mark-text role-legend-label\" pointer-events=\"none\"><text text-anchor=\"start\" transform=\"translate(16,9)\" font-family=\"sans-serif\" font-size=\"10px\" fill=\"#000\" opacity=\"1\">x178</text></g></g><path class=\"foreground\" aria-hidden=\"true\" d=\"\" pointer-events=\"none\" display=\"none\"/></g><g transform=\"translate(0,65)\"><path class=\"background\" aria-hidden=\"true\" d=\"M0,0h41v11h-41Z\" pointer-events=\"none\" opacity=\"1\"/><g><g class=\"mark-symbol role-legend-symbol\" pointer-events=\"none\"><path transform=\"translate(6,6)\" d=\"M5,0A5,5,0,1,1,-5,0A5,5,0,1,1,5,0\" fill=\"#eeca3b\" stroke-width=\"1.5\" opacity=\"1\"/></g><g class=\"mark-text role-legend-label\" pointer-events=\"none\"><text text-anchor=\"start\" transform=\"translate(16,9)\" font-family=\"sans-serif\" font-size=\"10px\" fill=\"#000\" opacity=\"1\">x183</text></g></g><path class=\"foreground\" aria-hidden=\"true\" d=\"\" pointer-events=\"none\" display=\"none\"/></g><g transform=\"translate(0,78)\"><path class=\"background\" aria-hidden=\"true\" d=\"M0,0h41v11h-41Z\" pointer-events=\"none\" opacity=\"1\"/><g><g class=\"mark-symbol role-legend-symbol\" pointer-events=\"none\"><path transform=\"translate(6,6)\" d=\"M5,0A5,5,0,1,1,-5,0A5,5,0,1,1,5,0\" fill=\"#b279a2\" stroke-width=\"1.5\" opacity=\"1\"/></g><g class=\"mark-text role-legend-label\" pointer-events=\"none\"><text text-anchor=\"start\" transform=\"translate(16,9)\" font-family=\"sans-serif\" font-size=\"10px\" fill=\"#000\" opacity=\"1\">x22</text></g></g><path class=\"foreground\" aria-hidden=\"true\" d=\"\" pointer-events=\"none\" display=\"none\"/></g></g></g><path class=\"foreground\" aria-hidden=\"true\" d=\"\" pointer-events=\"none\" display=\"none\"/></g></g><g class=\"mark-text role-legend-title\" pointer-events=\"none\"><text text-anchor=\"start\" transform=\"translate(0,9)\" font-family=\"sans-serif\" font-size=\"11px\" font-weight=\"bold\" fill=\"#000\" opacity=\"1\">variable</text></g></g><path class=\"foreground\" aria-hidden=\"true\" d=\"\" pointer-events=\"none\" display=\"none\"/></g></g></g><path class=\"foreground\" aria-hidden=\"true\" d=\"\" display=\"none\"/></g></g></g></svg>\n"
      ],
      "text/plain": [
       "@vlplot(\n",
       "    legend=\"sNames\",\n",
       "    mark=\"area\",\n",
       "    encoding={\n",
       "        x={\n",
       "            field=\"year\"\n",
       "        },\n",
       "        y={\n",
       "            stack=\"zero\",\n",
       "            title=\"Fraction\",\n",
       "            field=\"value\"\n",
       "        },\n",
       "        color={\n",
       "            field=\"variable\",\n",
       "            type=\"nominal\"\n",
       "        }\n",
       "    },\n",
       "    data={\n",
       "        values=...\n",
       "    }\n",
       ")"
      ]
     },
     "execution_count": 23,
     "metadata": {},
     "output_type": "execute_result"
    }
   ],
   "source": [
    "\n",
    "transpose(xk)\n",
    "df1=DataFrame(xk',:auto)\n",
    "df1[!,:year] = 5*collect(1:7)\n",
    "df1=df1[!, any.(>(0), eachcol(df1))]\n",
    "df1[!,:Conv] = zeros(7)\n",
    "sNames=\"compromise \".*string.(collect(1:length(xk[:,1])))\n",
    "push!(df1,zeros(size(df1)[2]))\n",
    "df1[8,:Conv]=1\n",
    "#rename!(df1,[:x28,:x29,:x30,:x44,:x48] .=> [:pyLDPE_maxTheta,:pyLDPE_minGWP,:pyLDPE_minLCC,:pyLDPE_14,:pyLDPE_18])\n",
    "#rename!(df1,[:x159,:x163] .=> [:alcPLA_minLCC,:alcPLA_3])\n",
    "comp=df1 |> stack |> @vlplot(:area, x=:year, y={:value, stack=:zero, title=\"Fraction\"}, color=\"variable:n\",legend=:sNames) \n",
    "#save(\"./result-case-roadmap/compromise-netzero.svg\", comp)\n",
    "#comp\n"
   ]
  },
  {
   "cell_type": "code",
   "execution_count": 19,
   "id": "e9f1736c",
   "metadata": {},
   "outputs": [
    {
     "data": {
      "application/vnd.vegalite.v4+json": {
       "data": {
        "values": [
         {
          "value": 0,
          "variable": "x14",
          "year": "2020"
         },
         {
          "value": 0,
          "variable": "x14",
          "year": "2021"
         },
         {
          "value": 0,
          "variable": "x14",
          "year": "2022"
         },
         {
          "value": 0,
          "variable": "x14",
          "year": "2023"
         },
         {
          "value": 0,
          "variable": "x14",
          "year": "2024"
         },
         {
          "value": 0,
          "variable": "x14",
          "year": "2025"
         },
         {
          "value": 0,
          "variable": "x14",
          "year": "2026"
         },
         {
          "value": 0,
          "variable": "x14",
          "year": "2027"
         },
         {
          "value": 0,
          "variable": "x14",
          "year": "2028"
         },
         {
          "value": 0,
          "variable": "x14",
          "year": "2029"
         },
         {
          "value": 0,
          "variable": "x14",
          "year": "2030"
         },
         {
          "value": 0,
          "variable": "x14",
          "year": "2031"
         },
         {
          "value": 0,
          "variable": "x14",
          "year": "2032"
         },
         {
          "value": 0,
          "variable": "x14",
          "year": "2033"
         },
         {
          "value": 0,
          "variable": "x14",
          "year": "2034"
         },
         {
          "value": 0,
          "variable": "x14",
          "year": "2035"
         },
         {
          "value": 0,
          "variable": "x14",
          "year": "2036"
         },
         {
          "value": 0,
          "variable": "x14",
          "year": "2037"
         },
         {
          "value": 0,
          "variable": "x14",
          "year": "2038"
         },
         {
          "value": 0,
          "variable": "x14",
          "year": "2039"
         },
         {
          "value": 55.61735261401354,
          "variable": "x14",
          "year": "2040"
         },
         {
          "value": 55.61735261401354,
          "variable": "x14",
          "year": "2041"
         },
         {
          "value": 55.61735261401354,
          "variable": "x14",
          "year": "2042"
         },
         {
          "value": 55.61735261401354,
          "variable": "x14",
          "year": "2043"
         },
         {
          "value": 55.61735261401354,
          "variable": "x14",
          "year": "2044"
         },
         {
          "value": 0,
          "variable": "x14",
          "year": "2045"
         },
         {
          "value": 0,
          "variable": "x14",
          "year": "2046"
         },
         {
          "value": 0,
          "variable": "x14",
          "year": "2047"
         },
         {
          "value": 0,
          "variable": "x14",
          "year": "2048"
         },
         {
          "value": 0,
          "variable": "x14",
          "year": "2049"
         },
         {
          "value": 55.61735261401354,
          "variable": "x14",
          "year": "2050"
         },
         {
          "value": 55.61735261401354,
          "variable": "x14",
          "year": "2051"
         },
         {
          "value": 55.61735261401354,
          "variable": "x14",
          "year": "2052"
         },
         {
          "value": 55.61735261401354,
          "variable": "x14",
          "year": "2053"
         },
         {
          "value": 55.61735261401354,
          "variable": "x14",
          "year": "2054"
         },
         {
          "value": 0,
          "variable": "x14",
          "year": "2055"
         },
         {
          "value": 0,
          "variable": "x14",
          "year": "2056"
         },
         {
          "value": 0,
          "variable": "x14",
          "year": "2057"
         },
         {
          "value": 0,
          "variable": "x14",
          "year": "2058"
         },
         {
          "value": 0,
          "variable": "x14",
          "year": "2059"
         },
         {
          "value": 0,
          "variable": "x14",
          "year": "2060"
         },
         {
          "value": 0,
          "variable": "x22",
          "year": "2020"
         },
         {
          "value": 0,
          "variable": "x22",
          "year": "2021"
         },
         {
          "value": 0,
          "variable": "x22",
          "year": "2022"
         },
         {
          "value": 0,
          "variable": "x22",
          "year": "2023"
         },
         {
          "value": 0,
          "variable": "x22",
          "year": "2024"
         },
         {
          "value": 0,
          "variable": "x22",
          "year": "2025"
         },
         {
          "value": 0,
          "variable": "x22",
          "year": "2026"
         },
         {
          "value": 0,
          "variable": "x22",
          "year": "2027"
         },
         {
          "value": 0,
          "variable": "x22",
          "year": "2028"
         },
         {
          "value": 0,
          "variable": "x22",
          "year": "2029"
         },
         {
          "value": 0,
          "variable": "x22",
          "year": "2030"
         },
         {
          "value": 0,
          "variable": "x22",
          "year": "2031"
         },
         {
          "value": 0,
          "variable": "x22",
          "year": "2032"
         },
         {
          "value": 0,
          "variable": "x22",
          "year": "2033"
         },
         {
          "value": 0,
          "variable": "x22",
          "year": "2034"
         },
         {
          "value": 54.67665615141753,
          "variable": "x22",
          "year": "2035"
         },
         {
          "value": 54.67665615141753,
          "variable": "x22",
          "year": "2036"
         },
         {
          "value": 54.67665615141753,
          "variable": "x22",
          "year": "2037"
         },
         {
          "value": 54.67665615141753,
          "variable": "x22",
          "year": "2038"
         },
         {
          "value": 54.67665615141753,
          "variable": "x22",
          "year": "2039"
         },
         {
          "value": 0,
          "variable": "x22",
          "year": "2040"
         },
         {
          "value": 0,
          "variable": "x22",
          "year": "2041"
         },
         {
          "value": 0,
          "variable": "x22",
          "year": "2042"
         },
         {
          "value": 0,
          "variable": "x22",
          "year": "2043"
         },
         {
          "value": 0,
          "variable": "x22",
          "year": "2044"
         },
         {
          "value": 54.67665615141753,
          "variable": "x22",
          "year": "2045"
         },
         {
          "value": 54.67665615141753,
          "variable": "x22",
          "year": "2046"
         },
         {
          "value": 54.67665615141753,
          "variable": "x22",
          "year": "2047"
         },
         {
          "value": 54.67665615141753,
          "variable": "x22",
          "year": "2048"
         },
         {
          "value": 54.67665615141753,
          "variable": "x22",
          "year": "2049"
         },
         {
          "value": 0,
          "variable": "x22",
          "year": "2050"
         },
         {
          "value": 0,
          "variable": "x22",
          "year": "2051"
         },
         {
          "value": 0,
          "variable": "x22",
          "year": "2052"
         },
         {
          "value": 0,
          "variable": "x22",
          "year": "2053"
         },
         {
          "value": 0,
          "variable": "x22",
          "year": "2054"
         },
         {
          "value": 19.911077716417235,
          "variable": "x22",
          "year": "2055"
         },
         {
          "value": 19.911077716417235,
          "variable": "x22",
          "year": "2056"
         },
         {
          "value": 19.911077716417235,
          "variable": "x22",
          "year": "2057"
         },
         {
          "value": 19.911077716417235,
          "variable": "x22",
          "year": "2058"
         },
         {
          "value": 19.911077716417235,
          "variable": "x22",
          "year": "2059"
         },
         {
          "value": 19.911077716417235,
          "variable": "x22",
          "year": "2060"
         },
         {
          "value": 0,
          "variable": "x158",
          "year": "2020"
         },
         {
          "value": 0,
          "variable": "x158",
          "year": "2021"
         },
         {
          "value": 0,
          "variable": "x158",
          "year": "2022"
         },
         {
          "value": 0,
          "variable": "x158",
          "year": "2023"
         },
         {
          "value": 0,
          "variable": "x158",
          "year": "2024"
         },
         {
          "value": 0,
          "variable": "x158",
          "year": "2025"
         },
         {
          "value": 0,
          "variable": "x158",
          "year": "2026"
         },
         {
          "value": 0,
          "variable": "x158",
          "year": "2027"
         },
         {
          "value": 0,
          "variable": "x158",
          "year": "2028"
         },
         {
          "value": 0,
          "variable": "x158",
          "year": "2029"
         },
         {
          "value": 0,
          "variable": "x158",
          "year": "2030"
         },
         {
          "value": 0,
          "variable": "x158",
          "year": "2031"
         },
         {
          "value": 0,
          "variable": "x158",
          "year": "2032"
         },
         {
          "value": 0,
          "variable": "x158",
          "year": "2033"
         },
         {
          "value": 0,
          "variable": "x158",
          "year": "2034"
         },
         {
          "value": 0,
          "variable": "x158",
          "year": "2035"
         },
         {
          "value": 0,
          "variable": "x158",
          "year": "2036"
         },
         {
          "value": 0,
          "variable": "x158",
          "year": "2037"
         },
         {
          "value": 0,
          "variable": "x158",
          "year": "2038"
         },
         {
          "value": 0,
          "variable": "x158",
          "year": "2039"
         },
         {
          "value": 0,
          "variable": "x158",
          "year": "2040"
         },
         {
          "value": 0,
          "variable": "x158",
          "year": "2041"
         },
         {
          "value": 0,
          "variable": "x158",
          "year": "2042"
         },
         {
          "value": 0,
          "variable": "x158",
          "year": "2043"
         },
         {
          "value": 0,
          "variable": "x158",
          "year": "2044"
         },
         {
          "value": 0,
          "variable": "x158",
          "year": "2045"
         },
         {
          "value": 0,
          "variable": "x158",
          "year": "2046"
         },
         {
          "value": 0,
          "variable": "x158",
          "year": "2047"
         },
         {
          "value": 0,
          "variable": "x158",
          "year": "2048"
         },
         {
          "value": 0,
          "variable": "x158",
          "year": "2049"
         },
         {
          "value": 0,
          "variable": "x158",
          "year": "2050"
         },
         {
          "value": 0,
          "variable": "x158",
          "year": "2051"
         },
         {
          "value": 0,
          "variable": "x158",
          "year": "2052"
         },
         {
          "value": 0,
          "variable": "x158",
          "year": "2053"
         },
         {
          "value": 0,
          "variable": "x158",
          "year": "2054"
         },
         {
          "value": 43.35852168016147,
          "variable": "x158",
          "year": "2055"
         },
         {
          "value": 43.35852168016147,
          "variable": "x158",
          "year": "2056"
         },
         {
          "value": 43.35852168016147,
          "variable": "x158",
          "year": "2057"
         },
         {
          "value": 43.35852168016147,
          "variable": "x158",
          "year": "2058"
         },
         {
          "value": 43.35852168016147,
          "variable": "x158",
          "year": "2059"
         },
         {
          "value": 43.35852168016147,
          "variable": "x158",
          "year": "2060"
         },
         {
          "value": 0,
          "variable": "x177",
          "year": "2020"
         },
         {
          "value": 0,
          "variable": "x177",
          "year": "2021"
         },
         {
          "value": 0,
          "variable": "x177",
          "year": "2022"
         },
         {
          "value": 0,
          "variable": "x177",
          "year": "2023"
         },
         {
          "value": 0,
          "variable": "x177",
          "year": "2024"
         },
         {
          "value": 0,
          "variable": "x177",
          "year": "2025"
         },
         {
          "value": 0,
          "variable": "x177",
          "year": "2026"
         },
         {
          "value": 0,
          "variable": "x177",
          "year": "2027"
         },
         {
          "value": 0,
          "variable": "x177",
          "year": "2028"
         },
         {
          "value": 0,
          "variable": "x177",
          "year": "2029"
         },
         {
          "value": 0,
          "variable": "x177",
          "year": "2030"
         },
         {
          "value": 0,
          "variable": "x177",
          "year": "2031"
         },
         {
          "value": 0,
          "variable": "x177",
          "year": "2032"
         },
         {
          "value": 0,
          "variable": "x177",
          "year": "2033"
         },
         {
          "value": 0,
          "variable": "x177",
          "year": "2034"
         },
         {
          "value": 0,
          "variable": "x177",
          "year": "2035"
         },
         {
          "value": 0,
          "variable": "x177",
          "year": "2036"
         },
         {
          "value": 0,
          "variable": "x177",
          "year": "2037"
         },
         {
          "value": 0,
          "variable": "x177",
          "year": "2038"
         },
         {
          "value": 0,
          "variable": "x177",
          "year": "2039"
         },
         {
          "value": 0,
          "variable": "x177",
          "year": "2040"
         },
         {
          "value": 0,
          "variable": "x177",
          "year": "2041"
         },
         {
          "value": 0,
          "variable": "x177",
          "year": "2042"
         },
         {
          "value": 0,
          "variable": "x177",
          "year": "2043"
         },
         {
          "value": 0,
          "variable": "x177",
          "year": "2044"
         },
         {
          "value": 0,
          "variable": "x177",
          "year": "2045"
         },
         {
          "value": 0,
          "variable": "x177",
          "year": "2046"
         },
         {
          "value": 0,
          "variable": "x177",
          "year": "2047"
         },
         {
          "value": 0,
          "variable": "x177",
          "year": "2048"
         },
         {
          "value": 0,
          "variable": "x177",
          "year": "2049"
         },
         {
          "value": 0,
          "variable": "x177",
          "year": "2050"
         },
         {
          "value": 0,
          "variable": "x177",
          "year": "2051"
         },
         {
          "value": 0,
          "variable": "x177",
          "year": "2052"
         },
         {
          "value": 0,
          "variable": "x177",
          "year": "2053"
         },
         {
          "value": 0,
          "variable": "x177",
          "year": "2054"
         },
         {
          "value": 36.73040060342112,
          "variable": "x177",
          "year": "2055"
         },
         {
          "value": 36.73040060342112,
          "variable": "x177",
          "year": "2056"
         },
         {
          "value": 36.73040060342112,
          "variable": "x177",
          "year": "2057"
         },
         {
          "value": 36.73040060342112,
          "variable": "x177",
          "year": "2058"
         },
         {
          "value": 36.73040060342112,
          "variable": "x177",
          "year": "2059"
         },
         {
          "value": 36.73040060342112,
          "variable": "x177",
          "year": "2060"
         },
         {
          "value": 0,
          "variable": "x178",
          "year": "2020"
         },
         {
          "value": 0,
          "variable": "x178",
          "year": "2021"
         },
         {
          "value": 0,
          "variable": "x178",
          "year": "2022"
         },
         {
          "value": 0,
          "variable": "x178",
          "year": "2023"
         },
         {
          "value": 0,
          "variable": "x178",
          "year": "2024"
         },
         {
          "value": 0,
          "variable": "x178",
          "year": "2025"
         },
         {
          "value": 0,
          "variable": "x178",
          "year": "2026"
         },
         {
          "value": 0,
          "variable": "x178",
          "year": "2027"
         },
         {
          "value": 0,
          "variable": "x178",
          "year": "2028"
         },
         {
          "value": 0,
          "variable": "x178",
          "year": "2029"
         },
         {
          "value": 100,
          "variable": "x178",
          "year": "2030"
         },
         {
          "value": 100,
          "variable": "x178",
          "year": "2031"
         },
         {
          "value": 100,
          "variable": "x178",
          "year": "2032"
         },
         {
          "value": 100,
          "variable": "x178",
          "year": "2033"
         },
         {
          "value": 100,
          "variable": "x178",
          "year": "2034"
         },
         {
          "value": 0,
          "variable": "x178",
          "year": "2035"
         },
         {
          "value": 0,
          "variable": "x178",
          "year": "2036"
         },
         {
          "value": 0,
          "variable": "x178",
          "year": "2037"
         },
         {
          "value": 0,
          "variable": "x178",
          "year": "2038"
         },
         {
          "value": 0,
          "variable": "x178",
          "year": "2039"
         },
         {
          "value": 44.382647385986466,
          "variable": "x178",
          "year": "2040"
         },
         {
          "value": 44.382647385986466,
          "variable": "x178",
          "year": "2041"
         },
         {
          "value": 44.382647385986466,
          "variable": "x178",
          "year": "2042"
         },
         {
          "value": 44.382647385986466,
          "variable": "x178",
          "year": "2043"
         },
         {
          "value": 44.382647385986466,
          "variable": "x178",
          "year": "2044"
         },
         {
          "value": 0,
          "variable": "x178",
          "year": "2045"
         },
         {
          "value": 0,
          "variable": "x178",
          "year": "2046"
         },
         {
          "value": 0,
          "variable": "x178",
          "year": "2047"
         },
         {
          "value": 0,
          "variable": "x178",
          "year": "2048"
         },
         {
          "value": 0,
          "variable": "x178",
          "year": "2049"
         },
         {
          "value": 44.382647385986466,
          "variable": "x178",
          "year": "2050"
         },
         {
          "value": 44.382647385986466,
          "variable": "x178",
          "year": "2051"
         },
         {
          "value": 44.382647385986466,
          "variable": "x178",
          "year": "2052"
         },
         {
          "value": 44.382647385986466,
          "variable": "x178",
          "year": "2053"
         },
         {
          "value": 44.382647385986466,
          "variable": "x178",
          "year": "2054"
         },
         {
          "value": 0,
          "variable": "x178",
          "year": "2055"
         },
         {
          "value": 0,
          "variable": "x178",
          "year": "2056"
         },
         {
          "value": 0,
          "variable": "x178",
          "year": "2057"
         },
         {
          "value": 0,
          "variable": "x178",
          "year": "2058"
         },
         {
          "value": 0,
          "variable": "x178",
          "year": "2059"
         },
         {
          "value": 0,
          "variable": "x178",
          "year": "2060"
         },
         {
          "value": 0,
          "variable": "x183",
          "year": "2020"
         },
         {
          "value": 0,
          "variable": "x183",
          "year": "2021"
         },
         {
          "value": 0,
          "variable": "x183",
          "year": "2022"
         },
         {
          "value": 0,
          "variable": "x183",
          "year": "2023"
         },
         {
          "value": 0,
          "variable": "x183",
          "year": "2024"
         },
         {
          "value": 0,
          "variable": "x183",
          "year": "2025"
         },
         {
          "value": 0,
          "variable": "x183",
          "year": "2026"
         },
         {
          "value": 0,
          "variable": "x183",
          "year": "2027"
         },
         {
          "value": 0,
          "variable": "x183",
          "year": "2028"
         },
         {
          "value": 0,
          "variable": "x183",
          "year": "2029"
         },
         {
          "value": 0,
          "variable": "x183",
          "year": "2030"
         },
         {
          "value": 0,
          "variable": "x183",
          "year": "2031"
         },
         {
          "value": 0,
          "variable": "x183",
          "year": "2032"
         },
         {
          "value": 0,
          "variable": "x183",
          "year": "2033"
         },
         {
          "value": 0,
          "variable": "x183",
          "year": "2034"
         },
         {
          "value": 45.32334384858247,
          "variable": "x183",
          "year": "2035"
         },
         {
          "value": 45.32334384858247,
          "variable": "x183",
          "year": "2036"
         },
         {
          "value": 45.32334384858247,
          "variable": "x183",
          "year": "2037"
         },
         {
          "value": 45.32334384858247,
          "variable": "x183",
          "year": "2038"
         },
         {
          "value": 45.32334384858247,
          "variable": "x183",
          "year": "2039"
         },
         {
          "value": 0,
          "variable": "x183",
          "year": "2040"
         },
         {
          "value": 0,
          "variable": "x183",
          "year": "2041"
         },
         {
          "value": 0,
          "variable": "x183",
          "year": "2042"
         },
         {
          "value": 0,
          "variable": "x183",
          "year": "2043"
         },
         {
          "value": 0,
          "variable": "x183",
          "year": "2044"
         },
         {
          "value": 45.32334384858247,
          "variable": "x183",
          "year": "2045"
         },
         {
          "value": 45.32334384858247,
          "variable": "x183",
          "year": "2046"
         },
         {
          "value": 45.32334384858247,
          "variable": "x183",
          "year": "2047"
         },
         {
          "value": 45.32334384858247,
          "variable": "x183",
          "year": "2048"
         },
         {
          "value": 45.32334384858247,
          "variable": "x183",
          "year": "2049"
         },
         {
          "value": 0,
          "variable": "x183",
          "year": "2050"
         },
         {
          "value": 0,
          "variable": "x183",
          "year": "2051"
         },
         {
          "value": 0,
          "variable": "x183",
          "year": "2052"
         },
         {
          "value": 0,
          "variable": "x183",
          "year": "2053"
         },
         {
          "value": 0,
          "variable": "x183",
          "year": "2054"
         },
         {
          "value": 0,
          "variable": "x183",
          "year": "2055"
         },
         {
          "value": 0,
          "variable": "x183",
          "year": "2056"
         },
         {
          "value": 0,
          "variable": "x183",
          "year": "2057"
         },
         {
          "value": 0,
          "variable": "x183",
          "year": "2058"
         },
         {
          "value": 0,
          "variable": "x183",
          "year": "2059"
         },
         {
          "value": 0,
          "variable": "x183",
          "year": "2060"
         },
         {
          "value": 0,
          "variable": "x193",
          "year": "2020"
         },
         {
          "value": 0,
          "variable": "x193",
          "year": "2021"
         },
         {
          "value": 0,
          "variable": "x193",
          "year": "2022"
         },
         {
          "value": 0,
          "variable": "x193",
          "year": "2023"
         },
         {
          "value": 0,
          "variable": "x193",
          "year": "2024"
         },
         {
          "value": 100,
          "variable": "x193",
          "year": "2025"
         },
         {
          "value": 100,
          "variable": "x193",
          "year": "2026"
         },
         {
          "value": 100,
          "variable": "x193",
          "year": "2027"
         },
         {
          "value": 100,
          "variable": "x193",
          "year": "2028"
         },
         {
          "value": 100,
          "variable": "x193",
          "year": "2029"
         },
         {
          "value": 0,
          "variable": "x193",
          "year": "2030"
         },
         {
          "value": 0,
          "variable": "x193",
          "year": "2031"
         },
         {
          "value": 0,
          "variable": "x193",
          "year": "2032"
         },
         {
          "value": 0,
          "variable": "x193",
          "year": "2033"
         },
         {
          "value": 0,
          "variable": "x193",
          "year": "2034"
         },
         {
          "value": 0,
          "variable": "x193",
          "year": "2035"
         },
         {
          "value": 0,
          "variable": "x193",
          "year": "2036"
         },
         {
          "value": 0,
          "variable": "x193",
          "year": "2037"
         },
         {
          "value": 0,
          "variable": "x193",
          "year": "2038"
         },
         {
          "value": 0,
          "variable": "x193",
          "year": "2039"
         },
         {
          "value": 0,
          "variable": "x193",
          "year": "2040"
         },
         {
          "value": 0,
          "variable": "x193",
          "year": "2041"
         },
         {
          "value": 0,
          "variable": "x193",
          "year": "2042"
         },
         {
          "value": 0,
          "variable": "x193",
          "year": "2043"
         },
         {
          "value": 0,
          "variable": "x193",
          "year": "2044"
         },
         {
          "value": 0,
          "variable": "x193",
          "year": "2045"
         },
         {
          "value": 0,
          "variable": "x193",
          "year": "2046"
         },
         {
          "value": 0,
          "variable": "x193",
          "year": "2047"
         },
         {
          "value": 0,
          "variable": "x193",
          "year": "2048"
         },
         {
          "value": 0,
          "variable": "x193",
          "year": "2049"
         },
         {
          "value": 0,
          "variable": "x193",
          "year": "2050"
         },
         {
          "value": 0,
          "variable": "x193",
          "year": "2051"
         },
         {
          "value": 0,
          "variable": "x193",
          "year": "2052"
         },
         {
          "value": 0,
          "variable": "x193",
          "year": "2053"
         },
         {
          "value": 0,
          "variable": "x193",
          "year": "2054"
         },
         {
          "value": 0,
          "variable": "x193",
          "year": "2055"
         },
         {
          "value": 0,
          "variable": "x193",
          "year": "2056"
         },
         {
          "value": 0,
          "variable": "x193",
          "year": "2057"
         },
         {
          "value": 0,
          "variable": "x193",
          "year": "2058"
         },
         {
          "value": 0,
          "variable": "x193",
          "year": "2059"
         },
         {
          "value": 0,
          "variable": "x193",
          "year": "2060"
         },
         {
          "value": 100,
          "variable": "Conv",
          "year": "2020"
         },
         {
          "value": 100,
          "variable": "Conv",
          "year": "2021"
         },
         {
          "value": 100,
          "variable": "Conv",
          "year": "2022"
         },
         {
          "value": 100,
          "variable": "Conv",
          "year": "2023"
         },
         {
          "value": 100,
          "variable": "Conv",
          "year": "2024"
         },
         {
          "value": 0,
          "variable": "Conv",
          "year": "2025"
         },
         {
          "value": 0,
          "variable": "Conv",
          "year": "2026"
         },
         {
          "value": 0,
          "variable": "Conv",
          "year": "2027"
         },
         {
          "value": 0,
          "variable": "Conv",
          "year": "2028"
         },
         {
          "value": 0,
          "variable": "Conv",
          "year": "2029"
         },
         {
          "value": 0,
          "variable": "Conv",
          "year": "2030"
         },
         {
          "value": 0,
          "variable": "Conv",
          "year": "2031"
         },
         {
          "value": 0,
          "variable": "Conv",
          "year": "2032"
         },
         {
          "value": 0,
          "variable": "Conv",
          "year": "2033"
         },
         {
          "value": 0,
          "variable": "Conv",
          "year": "2034"
         },
         {
          "value": 0,
          "variable": "Conv",
          "year": "2035"
         },
         {
          "value": 0,
          "variable": "Conv",
          "year": "2036"
         },
         {
          "value": 0,
          "variable": "Conv",
          "year": "2037"
         },
         {
          "value": 0,
          "variable": "Conv",
          "year": "2038"
         },
         {
          "value": 0,
          "variable": "Conv",
          "year": "2039"
         },
         {
          "value": 0,
          "variable": "Conv",
          "year": "2040"
         },
         {
          "value": 0,
          "variable": "Conv",
          "year": "2041"
         },
         {
          "value": 0,
          "variable": "Conv",
          "year": "2042"
         },
         {
          "value": 0,
          "variable": "Conv",
          "year": "2043"
         },
         {
          "value": 0,
          "variable": "Conv",
          "year": "2044"
         },
         {
          "value": 0,
          "variable": "Conv",
          "year": "2045"
         },
         {
          "value": 0,
          "variable": "Conv",
          "year": "2046"
         },
         {
          "value": 0,
          "variable": "Conv",
          "year": "2047"
         },
         {
          "value": 0,
          "variable": "Conv",
          "year": "2048"
         },
         {
          "value": 0,
          "variable": "Conv",
          "year": "2049"
         },
         {
          "value": 0,
          "variable": "Conv",
          "year": "2050"
         },
         {
          "value": 0,
          "variable": "Conv",
          "year": "2051"
         },
         {
          "value": 0,
          "variable": "Conv",
          "year": "2052"
         },
         {
          "value": 0,
          "variable": "Conv",
          "year": "2053"
         },
         {
          "value": 0,
          "variable": "Conv",
          "year": "2054"
         },
         {
          "value": 1.7763568394002505e-13,
          "variable": "Conv",
          "year": "2055"
         },
         {
          "value": 1.7763568394002505e-13,
          "variable": "Conv",
          "year": "2056"
         },
         {
          "value": 1.7763568394002505e-13,
          "variable": "Conv",
          "year": "2057"
         },
         {
          "value": 1.7763568394002505e-13,
          "variable": "Conv",
          "year": "2058"
         },
         {
          "value": 1.7763568394002505e-13,
          "variable": "Conv",
          "year": "2059"
         },
         {
          "value": 1.7763568394002505e-13,
          "variable": "Conv",
          "year": "2060"
         }
        ]
       },
       "encoding": {
        "color": {
         "field": "variable",
         "type": "nominal"
        },
        "x": {
         "field": "year"
        },
        "y": {
         "field": "value",
         "stack": "zero",
         "title": "Value-chain adopted (%)",
         "type": "quantitative"
        }
       },
       "legend": "sNames",
       "mark": "area"
      },
      "image/png": "[encoded data removed]",
      "image/svg+xml": [
       "<?xml version=\"1.0\" encoding=\"utf-8\"?>\n",
       "<!DOCTYPE svg PUBLIC \"-//W3C//DTD SVG 1.1//EN\" \"http://www.w3.org/Graphics/SVG/1.1/DTD/svg11.dtd\">\n",
       "<svg xmlns=\"http://www.w3.org/2000/svg\" xmlns:xlink=\"http://www.w3.org/1999/xlink\" version=\"1.1\" class=\"marks\" width=\"937\" height=\"261\" viewBox=\"0 0 937 261\"><rect width=\"937\" height=\"261\" fill=\"white\"/><g fill=\"none\" stroke-miterlimit=\"10\" transform=\"translate(45,10)\"><g class=\"mark-group role-frame root\" role=\"graphics-object\" aria-roledescription=\"group mark container\"><g transform=\"translate(0,0)\"><path class=\"background\" aria-hidden=\"true\" d=\"M0.5,0.5h820v200h-820Z\" stroke=\"#ddd\"/><g><g class=\"mark-group role-axis\" aria-hidden=\"true\"><g transform=\"translate(0.5,0.5)\"><path class=\"background\" aria-hidden=\"true\" d=\"M0,0h0v0h0Z\" pointer-events=\"none\"/><g><g class=\"mark-rule role-axis-grid\" pointer-events=\"none\"><line transform=\"translate(0,200)\" x2=\"820\" y2=\"0\" stroke=\"#ddd\" stroke-width=\"1\" opacity=\"1\"/><line transform=\"translate(0,160)\" x2=\"820\" y2=\"0\" stroke=\"#ddd\" stroke-width=\"1\" opacity=\"1\"/><line transform=\"translate(0,120)\" x2=\"820\" y2=\"0\" stroke=\"#ddd\" stroke-width=\"1\" opacity=\"1\"/><line transform=\"translate(0,80)\" x2=\"820\" y2=\"0\" stroke=\"#ddd\" stroke-width=\"1\" opacity=\"1\"/><line transform=\"translate(0,40)\" x2=\"820\" y2=\"0\" stroke=\"#ddd\" stroke-width=\"1\" opacity=\"1\"/><line transform=\"translate(0,0)\" x2=\"820\" y2=\"0\" stroke=\"#ddd\" stroke-width=\"1\" opacity=\"1\"/></g></g><path class=\"foreground\" aria-hidden=\"true\" d=\"\" pointer-events=\"none\" display=\"none\"/></g></g><g class=\"mark-group role-axis\" role=\"graphics-symbol\" aria-roledescription=\"axis\" aria-label=\"X-axis titled 'year' for a discrete scale with 41 values: 2020, 2021, 2022, 2023, 2024, ending with 2060\"><g transform=\"translate(0.5,200.5)\"><path class=\"background\" aria-hidden=\"true\" d=\"M0,0h0v0h0Z\" pointer-events=\"none\"/><g><g class=\"mark-rule role-axis-tick\" pointer-events=\"none\"><line transform=\"translate(10,0)\" x2=\"0\" y2=\"5\" stroke=\"#888\" stroke-width=\"1\" opacity=\"1\"/><line transform=\"translate(30,0)\" x2=\"0\" y2=\"5\" stroke=\"#888\" stroke-width=\"1\" opacity=\"1\"/><line transform=\"translate(50,0)\" x2=\"0\" y2=\"5\" stroke=\"#888\" stroke-width=\"1\" opacity=\"1\"/><line transform=\"translate(70,0)\" x2=\"0\" y2=\"5\" stroke=\"#888\" stroke-width=\"1\" opacity=\"1\"/><line transform=\"translate(90,0)\" x2=\"0\" y2=\"5\" stroke=\"#888\" stroke-width=\"1\" opacity=\"1\"/><line transform=\"translate(110,0)\" x2=\"0\" y2=\"5\" stroke=\"#888\" stroke-width=\"1\" opacity=\"1\"/><line transform=\"translate(130,0)\" x2=\"0\" y2=\"5\" stroke=\"#888\" stroke-width=\"1\" opacity=\"1\"/><line transform=\"translate(150,0)\" x2=\"0\" y2=\"5\" stroke=\"#888\" stroke-width=\"1\" opacity=\"1\"/><line transform=\"translate(170,0)\" x2=\"0\" y2=\"5\" stroke=\"#888\" stroke-width=\"1\" opacity=\"1\"/><line transform=\"translate(190,0)\" x2=\"0\" y2=\"5\" stroke=\"#888\" stroke-width=\"1\" opacity=\"1\"/><line transform=\"translate(210,0)\" x2=\"0\" y2=\"5\" stroke=\"#888\" stroke-width=\"1\" opacity=\"1\"/><line transform=\"translate(230,0)\" x2=\"0\" y2=\"5\" stroke=\"#888\" stroke-width=\"1\" opacity=\"1\"/><line transform=\"translate(250,0)\" x2=\"0\" y2=\"5\" stroke=\"#888\" stroke-width=\"1\" opacity=\"1\"/><line transform=\"translate(270,0)\" x2=\"0\" y2=\"5\" stroke=\"#888\" stroke-width=\"1\" opacity=\"1\"/><line transform=\"translate(290,0)\" x2=\"0\" y2=\"5\" stroke=\"#888\" stroke-width=\"1\" opacity=\"1\"/><line transform=\"translate(310,0)\" x2=\"0\" y2=\"5\" stroke=\"#888\" stroke-width=\"1\" opacity=\"1\"/><line transform=\"translate(330,0)\" x2=\"0\" y2=\"5\" stroke=\"#888\" stroke-width=\"1\" opacity=\"1\"/><line transform=\"translate(350,0)\" x2=\"0\" y2=\"5\" stroke=\"#888\" stroke-width=\"1\" opacity=\"1\"/><line transform=\"translate(370,0)\" x2=\"0\" y2=\"5\" stroke=\"#888\" stroke-width=\"1\" opacity=\"1\"/><line transform=\"translate(390,0)\" x2=\"0\" y2=\"5\" stroke=\"#888\" stroke-width=\"1\" opacity=\"1\"/><line transform=\"translate(410,0)\" x2=\"0\" y2=\"5\" stroke=\"#888\" stroke-width=\"1\" opacity=\"1\"/><line transform=\"translate(430,0)\" x2=\"0\" y2=\"5\" stroke=\"#888\" stroke-width=\"1\" opacity=\"1\"/><line transform=\"translate(450,0)\" x2=\"0\" y2=\"5\" stroke=\"#888\" stroke-width=\"1\" opacity=\"1\"/><line transform=\"translate(470,0)\" x2=\"0\" y2=\"5\" stroke=\"#888\" stroke-width=\"1\" opacity=\"1\"/><line transform=\"translate(490,0)\" x2=\"0\" y2=\"5\" stroke=\"#888\" stroke-width=\"1\" opacity=\"1\"/><line transform=\"translate(510,0)\" x2=\"0\" y2=\"5\" stroke=\"#888\" stroke-width=\"1\" opacity=\"1\"/><line transform=\"translate(530,0)\" x2=\"0\" y2=\"5\" stroke=\"#888\" stroke-width=\"1\" opacity=\"1\"/><line transform=\"translate(550,0)\" x2=\"0\" y2=\"5\" stroke=\"#888\" stroke-width=\"1\" opacity=\"1\"/><line transform=\"translate(570,0)\" x2=\"0\" y2=\"5\" stroke=\"#888\" stroke-width=\"1\" opacity=\"1\"/><line transform=\"translate(590,0)\" x2=\"0\" y2=\"5\" stroke=\"#888\" stroke-width=\"1\" opacity=\"1\"/><line transform=\"translate(610,0)\" x2=\"0\" y2=\"5\" stroke=\"#888\" stroke-width=\"1\" opacity=\"1\"/><line transform=\"translate(630,0)\" x2=\"0\" y2=\"5\" stroke=\"#888\" stroke-width=\"1\" opacity=\"1\"/><line transform=\"translate(650,0)\" x2=\"0\" y2=\"5\" stroke=\"#888\" stroke-width=\"1\" opacity=\"1\"/><line transform=\"translate(670,0)\" x2=\"0\" y2=\"5\" stroke=\"#888\" stroke-width=\"1\" opacity=\"1\"/><line transform=\"translate(690,0)\" x2=\"0\" y2=\"5\" stroke=\"#888\" stroke-width=\"1\" opacity=\"1\"/><line transform=\"translate(710,0)\" x2=\"0\" y2=\"5\" stroke=\"#888\" stroke-width=\"1\" opacity=\"1\"/><line transform=\"translate(730,0)\" x2=\"0\" y2=\"5\" stroke=\"#888\" stroke-width=\"1\" opacity=\"1\"/><line transform=\"translate(750,0)\" x2=\"0\" y2=\"5\" stroke=\"#888\" stroke-width=\"1\" opacity=\"1\"/><line transform=\"translate(770,0)\" x2=\"0\" y2=\"5\" stroke=\"#888\" stroke-width=\"1\" opacity=\"1\"/><line transform=\"translate(790,0)\" x2=\"0\" y2=\"5\" stroke=\"#888\" stroke-width=\"1\" opacity=\"1\"/><line transform=\"translate(810,0)\" x2=\"0\" y2=\"5\" stroke=\"#888\" stroke-width=\"1\" opacity=\"1\"/></g><g class=\"mark-text role-axis-label\" pointer-events=\"none\"><text text-anchor=\"end\" transform=\"translate(10,7) rotate(270) translate(0,3)\" font-family=\"sans-serif\" font-size=\"10px\" fill=\"#000\" opacity=\"1\">2020</text><text text-anchor=\"end\" transform=\"translate(30,7) rotate(270) translate(0,3)\" font-family=\"sans-serif\" font-size=\"10px\" fill=\"#000\" opacity=\"1\">2021</text><text text-anchor=\"end\" transform=\"translate(50,7) rotate(270) translate(0,3)\" font-family=\"sans-serif\" font-size=\"10px\" fill=\"#000\" opacity=\"1\">2022</text><text text-anchor=\"end\" transform=\"translate(70,7) rotate(270) translate(0,3)\" font-family=\"sans-serif\" font-size=\"10px\" fill=\"#000\" opacity=\"1\">2023</text><text text-anchor=\"end\" transform=\"translate(90,7) rotate(270) translate(0,3)\" font-family=\"sans-serif\" font-size=\"10px\" fill=\"#000\" opacity=\"1\">2024</text><text text-anchor=\"end\" transform=\"translate(110,7) rotate(270) translate(0,3)\" font-family=\"sans-serif\" font-size=\"10px\" fill=\"#000\" opacity=\"1\">2025</text><text text-anchor=\"end\" transform=\"translate(130,7) rotate(270) translate(0,3)\" font-family=\"sans-serif\" font-size=\"10px\" fill=\"#000\" opacity=\"1\">2026</text><text text-anchor=\"end\" transform=\"translate(150,7) rotate(270) translate(0,3)\" font-family=\"sans-serif\" font-size=\"10px\" fill=\"#000\" opacity=\"1\">2027</text><text text-anchor=\"end\" transform=\"translate(170,7) rotate(270) translate(0,3)\" font-family=\"sans-serif\" font-size=\"10px\" fill=\"#000\" opacity=\"1\">2028</text><text text-anchor=\"end\" transform=\"translate(190,7) rotate(270) translate(0,3)\" font-family=\"sans-serif\" font-size=\"10px\" fill=\"#000\" opacity=\"1\">2029</text><text text-anchor=\"end\" transform=\"translate(210,7) rotate(270) translate(0,3)\" font-family=\"sans-serif\" font-size=\"10px\" fill=\"#000\" opacity=\"1\">2030</text><text text-anchor=\"end\" transform=\"translate(230,7) rotate(270) translate(0,3)\" font-family=\"sans-serif\" font-size=\"10px\" fill=\"#000\" opacity=\"1\">2031</text><text text-anchor=\"end\" transform=\"translate(250,7) rotate(270) translate(0,3)\" font-family=\"sans-serif\" font-size=\"10px\" fill=\"#000\" opacity=\"1\">2032</text><text text-anchor=\"end\" transform=\"translate(270,7) rotate(270) translate(0,3)\" font-family=\"sans-serif\" font-size=\"10px\" fill=\"#000\" opacity=\"1\">2033</text><text text-anchor=\"end\" transform=\"translate(290,7) rotate(270) translate(0,3)\" font-family=\"sans-serif\" font-size=\"10px\" fill=\"#000\" opacity=\"1\">2034</text><text text-anchor=\"end\" transform=\"translate(310,7) rotate(270) translate(0,3)\" font-family=\"sans-serif\" font-size=\"10px\" fill=\"#000\" opacity=\"1\">2035</text><text text-anchor=\"end\" transform=\"translate(330,7) rotate(270) translate(0,3)\" font-family=\"sans-serif\" font-size=\"10px\" fill=\"#000\" opacity=\"1\">2036</text><text text-anchor=\"end\" transform=\"translate(350,7) rotate(270) translate(0,3)\" font-family=\"sans-serif\" font-size=\"10px\" fill=\"#000\" opacity=\"1\">2037</text><text text-anchor=\"end\" transform=\"translate(370,7) rotate(270) translate(0,3)\" font-family=\"sans-serif\" font-size=\"10px\" fill=\"#000\" opacity=\"1\">2038</text><text text-anchor=\"end\" transform=\"translate(390,7) rotate(270) translate(0,3)\" font-family=\"sans-serif\" font-size=\"10px\" fill=\"#000\" opacity=\"1\">2039</text><text text-anchor=\"end\" transform=\"translate(410,7) rotate(270) translate(0,3)\" font-family=\"sans-serif\" font-size=\"10px\" fill=\"#000\" opacity=\"1\">2040</text><text text-anchor=\"end\" transform=\"translate(430,7) rotate(270) translate(0,3)\" font-family=\"sans-serif\" font-size=\"10px\" fill=\"#000\" opacity=\"1\">2041</text><text text-anchor=\"end\" transform=\"translate(450,7) rotate(270) translate(0,3)\" font-family=\"sans-serif\" font-size=\"10px\" fill=\"#000\" opacity=\"1\">2042</text><text text-anchor=\"end\" transform=\"translate(470,7) rotate(270) translate(0,3)\" font-family=\"sans-serif\" font-size=\"10px\" fill=\"#000\" opacity=\"1\">2043</text><text text-anchor=\"end\" transform=\"translate(490,7) rotate(270) translate(0,3)\" font-family=\"sans-serif\" font-size=\"10px\" fill=\"#000\" opacity=\"1\">2044</text><text text-anchor=\"end\" transform=\"translate(510,7) rotate(270) translate(0,3)\" font-family=\"sans-serif\" font-size=\"10px\" fill=\"#000\" opacity=\"1\">2045</text><text text-anchor=\"end\" transform=\"translate(530,7) rotate(270) translate(0,3)\" font-family=\"sans-serif\" font-size=\"10px\" fill=\"#000\" opacity=\"1\">2046</text><text text-anchor=\"end\" transform=\"translate(550,7) rotate(270) translate(0,3)\" font-family=\"sans-serif\" font-size=\"10px\" fill=\"#000\" opacity=\"1\">2047</text><text text-anchor=\"end\" transform=\"translate(570,7) rotate(270) translate(0,3)\" font-family=\"sans-serif\" font-size=\"10px\" fill=\"#000\" opacity=\"1\">2048</text><text text-anchor=\"end\" transform=\"translate(590,7) rotate(270) translate(0,3)\" font-family=\"sans-serif\" font-size=\"10px\" fill=\"#000\" opacity=\"1\">2049</text><text text-anchor=\"end\" transform=\"translate(610,7) rotate(270) translate(0,3)\" font-family=\"sans-serif\" font-size=\"10px\" fill=\"#000\" opacity=\"1\">2050</text><text text-anchor=\"end\" transform=\"translate(630,7) rotate(270) translate(0,3)\" font-family=\"sans-serif\" font-size=\"10px\" fill=\"#000\" opacity=\"1\">2051</text><text text-anchor=\"end\" transform=\"translate(650,7) rotate(270) translate(0,3)\" font-family=\"sans-serif\" font-size=\"10px\" fill=\"#000\" opacity=\"1\">2052</text><text text-anchor=\"end\" transform=\"translate(670,7) rotate(270) translate(0,3)\" font-family=\"sans-serif\" font-size=\"10px\" fill=\"#000\" opacity=\"1\">2053</text><text text-anchor=\"end\" transform=\"translate(690,7) rotate(270) translate(0,3)\" font-family=\"sans-serif\" font-size=\"10px\" fill=\"#000\" opacity=\"1\">2054</text><text text-anchor=\"end\" transform=\"translate(710,7) rotate(270) translate(0,3)\" font-family=\"sans-serif\" font-size=\"10px\" fill=\"#000\" opacity=\"1\">2055</text><text text-anchor=\"end\" transform=\"translate(730,7) rotate(270) translate(0,3)\" font-family=\"sans-serif\" font-size=\"10px\" fill=\"#000\" opacity=\"1\">2056</text><text text-anchor=\"end\" transform=\"translate(750,7) rotate(270) translate(0,3)\" font-family=\"sans-serif\" font-size=\"10px\" fill=\"#000\" opacity=\"1\">2057</text><text text-anchor=\"end\" transform=\"translate(770,7) rotate(270) translate(0,3)\" font-family=\"sans-serif\" font-size=\"10px\" fill=\"#000\" opacity=\"1\">2058</text><text text-anchor=\"end\" transform=\"translate(790,7) rotate(270) translate(0,3)\" font-family=\"sans-serif\" font-size=\"10px\" fill=\"#000\" opacity=\"1\">2059</text><text text-anchor=\"end\" transform=\"translate(810,7) rotate(270) translate(0,3)\" font-family=\"sans-serif\" font-size=\"10px\" fill=\"#000\" opacity=\"1\">2060</text></g><g class=\"mark-rule role-axis-domain\" pointer-events=\"none\"><line transform=\"translate(0,0)\" x2=\"820\" y2=\"0\" stroke=\"#888\" stroke-width=\"1\" opacity=\"1\"/></g><g class=\"mark-text role-axis-title\" pointer-events=\"none\"><text text-anchor=\"middle\" transform=\"translate(410,44)\" font-family=\"sans-serif\" font-size=\"11px\" font-weight=\"bold\" fill=\"#000\" opacity=\"1\">year</text></g></g><path class=\"foreground\" aria-hidden=\"true\" d=\"\" pointer-events=\"none\" display=\"none\"/></g></g><g class=\"mark-group role-axis\" role=\"graphics-symbol\" aria-roledescription=\"axis\" aria-label=\"Y-axis titled 'Value-chain adopted (%)' for a linear scale with values from 0 to 100\"><g transform=\"translate(0.5,0.5)\"><path class=\"background\" aria-hidden=\"true\" d=\"M0,0h0v0h0Z\" pointer-events=\"none\"/><g><g class=\"mark-rule role-axis-tick\" pointer-events=\"none\"><line transform=\"translate(0,200)\" x2=\"-5\" y2=\"0\" stroke=\"#888\" stroke-width=\"1\" opacity=\"1\"/><line transform=\"translate(0,160)\" x2=\"-5\" y2=\"0\" stroke=\"#888\" stroke-width=\"1\" opacity=\"1\"/><line transform=\"translate(0,120)\" x2=\"-5\" y2=\"0\" stroke=\"#888\" stroke-width=\"1\" opacity=\"1\"/><line transform=\"translate(0,80)\" x2=\"-5\" y2=\"0\" stroke=\"#888\" stroke-width=\"1\" opacity=\"1\"/><line transform=\"translate(0,40)\" x2=\"-5\" y2=\"0\" stroke=\"#888\" stroke-width=\"1\" opacity=\"1\"/><line transform=\"translate(0,0)\" x2=\"-5\" y2=\"0\" stroke=\"#888\" stroke-width=\"1\" opacity=\"1\"/></g><g class=\"mark-text role-axis-label\" pointer-events=\"none\"><text text-anchor=\"end\" transform=\"translate(-7,203)\" font-family=\"sans-serif\" font-size=\"10px\" fill=\"#000\" opacity=\"1\">0</text><text text-anchor=\"end\" transform=\"translate(-7,163)\" font-family=\"sans-serif\" font-size=\"10px\" fill=\"#000\" opacity=\"1\">20</text><text text-anchor=\"end\" transform=\"translate(-7,123)\" font-family=\"sans-serif\" font-size=\"10px\" fill=\"#000\" opacity=\"1\">40</text><text text-anchor=\"end\" transform=\"translate(-7,83)\" font-family=\"sans-serif\" font-size=\"10px\" fill=\"#000\" opacity=\"1\">60</text><text text-anchor=\"end\" transform=\"translate(-7,42.99999999999999)\" font-family=\"sans-serif\" font-size=\"10px\" fill=\"#000\" opacity=\"1\">80</text><text text-anchor=\"end\" transform=\"translate(-7,3)\" font-family=\"sans-serif\" font-size=\"10px\" fill=\"#000\" opacity=\"1\">100</text></g><g class=\"mark-rule role-axis-domain\" pointer-events=\"none\"><line transform=\"translate(0,200)\" x2=\"0\" y2=\"-200\" stroke=\"#888\" stroke-width=\"1\" opacity=\"1\"/></g><g class=\"mark-text role-axis-title\" pointer-events=\"none\"><text text-anchor=\"middle\" transform=\"translate(-29,100) rotate(-90) translate(0,-2)\" font-family=\"sans-serif\" font-size=\"11px\" font-weight=\"bold\" fill=\"#000\" opacity=\"1\">Value-chain adopted (%)</text></g></g><path class=\"foreground\" aria-hidden=\"true\" d=\"\" pointer-events=\"none\" display=\"none\"/></g></g><g class=\"mark-group role-scope pathgroup\" role=\"graphics-object\" aria-roledescription=\"group mark container\"><g transform=\"translate(0,0)\"><path class=\"background\" aria-hidden=\"true\" d=\"M0,0h820v200h-820Z\"/><g><g class=\"mark-area role-mark marks\" role=\"graphics-object\" aria-roledescription=\"area mark container\"><path aria-label=\"year: 2020; Value-chain adopted (%): 0; variable: x14\" role=\"graphics-symbol\" aria-roledescription=\"area mark\" d=\"M10,200L30,200L50,200L70,200L90,200L110,0L130,0L150,0L170,0L190,0L210,0L230,0L250,0L270,0L290,0L310,0L330,0L350,0L370,0L390,0L410,0L430,0L450,0L470,0L490,0L510,0L530,0L550,0L570,0L590,0L610,0L630,0L650,0L670,0L690,0L710,3.3306690738754696e-13L730,3.3306690738754696e-13L750,3.3306690738754696e-13L770,3.3306690738754696e-13L790,3.3306690738754696e-13L810,3.3306690738754696e-13L810,3.3306690738754696e-13L790,3.3306690738754696e-13L770,3.3306690738754696e-13L750,3.3306690738754696e-13L730,3.3306690738754696e-13L710,3.3306690738754696e-13L690,111.23470522802705L670,111.23470522802705L650,111.23470522802705L630,111.23470522802705L610,111.23470522802705L590,0L570,0L550,0L530,0L510,0L490,111.23470522802705L470,111.23470522802705L450,111.23470522802705L430,111.23470522802705L410,111.23470522802705L390,0L370,0L350,0L330,0L310,0L290,0L270,0L250,0L230,0L210,0L190,0L170,0L150,0L130,0L110,0L90,200L70,200L50,200L30,200L10,200Z\" fill=\"#f58518\"/></g></g><path class=\"foreground\" aria-hidden=\"true\" d=\"\" display=\"none\"/></g><g transform=\"translate(0,0)\"><path class=\"background\" aria-hidden=\"true\" d=\"M0,0h820v200h-820Z\"/><g><g class=\"mark-area role-mark marks\" role=\"graphics-object\" aria-roledescription=\"area mark container\"><path aria-label=\"year: 2020; Value-chain adopted (%): 0; variable: x22\" role=\"graphics-symbol\" aria-roledescription=\"area mark\" d=\"M10,200L30,200L50,200L70,200L90,200L110,200L130,200L150,200L170,200L190,200L210,200L230,200L250,200L270,200L290,200L310,90.64668769716494L330,90.64668769716494L350,90.64668769716494L370,90.64668769716494L390,90.64668769716494L410,200L430,200L450,200L470,200L490,200L510,90.64668769716494L530,90.64668769716494L550,90.64668769716494L570,90.64668769716494L590,90.64668769716494L610,200L630,200L650,200L670,200L690,200L710,160.17784456716552L730,160.17784456716552L750,160.17784456716552L770,160.17784456716552L790,160.17784456716552L810,160.17784456716552L810,200L790,200L770,200L750,200L730,200L710,200L690,200L670,200L650,200L630,200L610,200L590,200L570,200L550,200L530,200L510,200L490,200L470,200L450,200L430,200L410,200L390,200L370,200L350,200L330,200L310,200L290,200L270,200L250,200L230,200L210,200L190,200L170,200L150,200L130,200L110,200L90,200L70,200L50,200L30,200L10,200Z\" fill=\"#ff9da6\"/></g></g><path class=\"foreground\" aria-hidden=\"true\" d=\"\" display=\"none\"/></g><g transform=\"translate(0,0)\"><path class=\"background\" aria-hidden=\"true\" d=\"M0,0h820v200h-820Z\"/><g><g class=\"mark-area role-mark marks\" role=\"graphics-object\" aria-roledescription=\"area mark container\"><path aria-label=\"year: 2020; Value-chain adopted (%): 0; variable: x158\" role=\"graphics-symbol\" aria-roledescription=\"area mark\" d=\"M10,200L30,200L50,200L70,200L90,200L110,0L130,0L150,0L170,0L190,0L210,0L230,0L250,0L270,0L290,0L310,0L330,0L350,0L370,0L390,0L410,111.23470522802705L430,111.23470522802705L450,111.23470522802705L470,111.23470522802705L490,111.23470522802705L510,0L530,0L550,0L570,0L590,0L610,111.23470522802705L630,111.23470522802705L650,111.23470522802705L670,111.23470522802705L690,111.23470522802705L710,3.3306690738754696e-13L730,3.3306690738754696e-13L750,3.3306690738754696e-13L770,3.3306690738754696e-13L790,3.3306690738754696e-13L810,3.3306690738754696e-13L810,86.71704336032329L790,86.71704336032329L770,86.71704336032329L750,86.71704336032329L730,86.71704336032329L710,86.71704336032329L690,111.23470522802705L670,111.23470522802705L650,111.23470522802705L630,111.23470522802705L610,111.23470522802705L590,0L570,0L550,0L530,0L510,0L490,111.23470522802705L470,111.23470522802705L450,111.23470522802705L430,111.23470522802705L410,111.23470522802705L390,0L370,0L350,0L330,0L310,0L290,0L270,0L250,0L230,0L210,0L190,0L170,0L150,0L130,0L110,0L90,200L70,200L50,200L30,200L10,200Z\" fill=\"#e45756\"/></g></g><path class=\"foreground\" aria-hidden=\"true\" d=\"\" display=\"none\"/></g><g transform=\"translate(0,0)\"><path class=\"background\" aria-hidden=\"true\" d=\"M0,0h820v200h-820Z\"/><g><g class=\"mark-area role-mark marks\" role=\"graphics-object\" aria-roledescription=\"area mark container\"><path aria-label=\"year: 2020; Value-chain adopted (%): 0; variable: x177\" role=\"graphics-symbol\" aria-roledescription=\"area mark\" d=\"M10,200L30,200L50,200L70,200L90,200L110,0L130,0L150,0L170,0L190,0L210,0L230,0L250,0L270,0L290,0L310,0L330,0L350,0L370,0L390,0L410,111.23470522802705L430,111.23470522802705L450,111.23470522802705L470,111.23470522802705L490,111.23470522802705L510,0L530,0L550,0L570,0L590,0L610,111.23470522802705L630,111.23470522802705L650,111.23470522802705L670,111.23470522802705L690,111.23470522802705L710,86.71704336032329L730,86.71704336032329L750,86.71704336032329L770,86.71704336032329L790,86.71704336032329L810,86.71704336032329L810,160.17784456716552L790,160.17784456716552L770,160.17784456716552L750,160.17784456716552L730,160.17784456716552L710,160.17784456716552L690,111.23470522802705L670,111.23470522802705L650,111.23470522802705L630,111.23470522802705L610,111.23470522802705L590,0L570,0L550,0L530,0L510,0L490,111.23470522802705L470,111.23470522802705L450,111.23470522802705L430,111.23470522802705L410,111.23470522802705L390,0L370,0L350,0L330,0L310,0L290,0L270,0L250,0L230,0L210,0L190,0L170,0L150,0L130,0L110,0L90,200L70,200L50,200L30,200L10,200Z\" fill=\"#72b7b2\"/></g></g><path class=\"foreground\" aria-hidden=\"true\" d=\"\" display=\"none\"/></g><g transform=\"translate(0,0)\"><path class=\"background\" aria-hidden=\"true\" d=\"M0,0h820v200h-820Z\"/><g><g class=\"mark-area role-mark marks\" role=\"graphics-object\" aria-roledescription=\"area mark container\"><path aria-label=\"year: 2020; Value-chain adopted (%): 0; variable: x178\" role=\"graphics-symbol\" aria-roledescription=\"area mark\" d=\"M10,200L30,200L50,200L70,200L90,200L110,0L130,0L150,0L170,0L190,0L210,0L230,0L250,0L270,0L290,0L310,0L330,0L350,0L370,0L390,0L410,111.23470522802705L430,111.23470522802705L450,111.23470522802705L470,111.23470522802705L490,111.23470522802705L510,0L530,0L550,0L570,0L590,0L610,111.23470522802705L630,111.23470522802705L650,111.23470522802705L670,111.23470522802705L690,111.23470522802705L710,160.17784456716552L730,160.17784456716552L750,160.17784456716552L770,160.17784456716552L790,160.17784456716552L810,160.17784456716552L810,160.17784456716552L790,160.17784456716552L770,160.17784456716552L750,160.17784456716552L730,160.17784456716552L710,160.17784456716552L690,200L670,200L650,200L630,200L610,200L590,0L570,0L550,0L530,0L510,0L490,200L470,200L450,200L430,200L410,200L390,0L370,0L350,0L330,0L310,0L290,200L270,200L250,200L230,200L210,200L190,0L170,0L150,0L130,0L110,0L90,200L70,200L50,200L30,200L10,200Z\" fill=\"#54a24b\"/></g></g><path class=\"foreground\" aria-hidden=\"true\" d=\"\" display=\"none\"/></g><g transform=\"translate(0,0)\"><path class=\"background\" aria-hidden=\"true\" d=\"M0,0h820v200h-820Z\"/><g><g class=\"mark-area role-mark marks\" role=\"graphics-object\" aria-roledescription=\"area mark container\"><path aria-label=\"year: 2020; Value-chain adopted (%): 0; variable: x183\" role=\"graphics-symbol\" aria-roledescription=\"area mark\" d=\"M10,200L30,200L50,200L70,200L90,200L110,0L130,0L150,0L170,0L190,0L210,200L230,200L250,200L270,200L290,200L310,0L330,0L350,0L370,0L390,0L410,200L430,200L450,200L470,200L490,200L510,0L530,0L550,0L570,0L590,0L610,200L630,200L650,200L670,200L690,200L710,160.17784456716552L730,160.17784456716552L750,160.17784456716552L770,160.17784456716552L790,160.17784456716552L810,160.17784456716552L810,160.17784456716552L790,160.17784456716552L770,160.17784456716552L750,160.17784456716552L730,160.17784456716552L710,160.17784456716552L690,200L670,200L650,200L630,200L610,200L590,90.64668769716494L570,90.64668769716494L550,90.64668769716494L530,90.64668769716494L510,90.64668769716494L490,200L470,200L450,200L430,200L410,200L390,90.64668769716494L370,90.64668769716494L350,90.64668769716494L330,90.64668769716494L310,90.64668769716494L290,200L270,200L250,200L230,200L210,200L190,0L170,0L150,0L130,0L110,0L90,200L70,200L50,200L30,200L10,200Z\" fill=\"#eeca3b\"/></g></g><path class=\"foreground\" aria-hidden=\"true\" d=\"\" display=\"none\"/></g><g transform=\"translate(0,0)\"><path class=\"background\" aria-hidden=\"true\" d=\"M0,0h820v200h-820Z\"/><g><g class=\"mark-area role-mark marks\" role=\"graphics-object\" aria-roledescription=\"area mark container\"><path aria-label=\"year: 2020; Value-chain adopted (%): 0; variable: x193\" role=\"graphics-symbol\" aria-roledescription=\"area mark\" d=\"M10,200L30,200L50,200L70,200L90,200L110,0L130,0L150,0L170,0L190,0L210,200L230,200L250,200L270,200L290,200L310,90.64668769716494L330,90.64668769716494L350,90.64668769716494L370,90.64668769716494L390,90.64668769716494L410,200L430,200L450,200L470,200L490,200L510,90.64668769716494L530,90.64668769716494L550,90.64668769716494L570,90.64668769716494L590,90.64668769716494L610,200L630,200L650,200L670,200L690,200L710,160.17784456716552L730,160.17784456716552L750,160.17784456716552L770,160.17784456716552L790,160.17784456716552L810,160.17784456716552L810,160.17784456716552L790,160.17784456716552L770,160.17784456716552L750,160.17784456716552L730,160.17784456716552L710,160.17784456716552L690,200L670,200L650,200L630,200L610,200L590,90.64668769716494L570,90.64668769716494L550,90.64668769716494L530,90.64668769716494L510,90.64668769716494L490,200L470,200L450,200L430,200L410,200L390,90.64668769716494L370,90.64668769716494L350,90.64668769716494L330,90.64668769716494L310,90.64668769716494L290,200L270,200L250,200L230,200L210,200L190,200L170,200L150,200L130,200L110,200L90,200L70,200L50,200L30,200L10,200Z\" fill=\"#b279a2\"/></g></g><path class=\"foreground\" aria-hidden=\"true\" d=\"\" display=\"none\"/></g><g transform=\"translate(0,0)\"><path class=\"background\" aria-hidden=\"true\" d=\"M0,0h820v200h-820Z\"/><g><g class=\"mark-area role-mark marks\" role=\"graphics-object\" aria-roledescription=\"area mark container\"><path aria-label=\"year: 2020; Value-chain adopted (%): 100; variable: Conv\" role=\"graphics-symbol\" aria-roledescription=\"area mark\" d=\"M10,0L30,0L50,0L70,0L90,0L110,0L130,0L150,0L170,0L190,0L210,0L230,0L250,0L270,0L290,0L310,0L330,0L350,0L370,0L390,0L410,0L430,0L450,0L470,0L490,0L510,0L530,0L550,0L570,0L590,0L610,0L630,0L650,0L670,0L690,0L710,0L730,0L750,0L770,0L790,0L810,0L810,3.3306690738754696e-13L790,3.3306690738754696e-13L770,3.3306690738754696e-13L750,3.3306690738754696e-13L730,3.3306690738754696e-13L710,3.3306690738754696e-13L690,0L670,0L650,0L630,0L610,0L590,0L570,0L550,0L530,0L510,0L490,0L470,0L450,0L430,0L410,0L390,0L370,0L350,0L330,0L310,0L290,0L270,0L250,0L230,0L210,0L190,0L170,0L150,0L130,0L110,0L90,200L70,200L50,200L30,200L10,200Z\" fill=\"#4c78a8\"/></g></g><path class=\"foreground\" aria-hidden=\"true\" d=\"\" display=\"none\"/></g></g><g class=\"mark-group role-legend\" role=\"graphics-symbol\" aria-roledescription=\"legend\" aria-label=\"Symbol legend titled 'variable' for fill color with 8 values: Conv, x14, x158, x177, x178, ending with x22\"><g transform=\"translate(838,0)\"><path class=\"background\" aria-hidden=\"true\" d=\"M0,0h49v118h-49Z\" pointer-events=\"none\"/><g><g class=\"mark-group role-legend-entry\"><g transform=\"translate(0,16)\"><path class=\"background\" aria-hidden=\"true\" d=\"M0,0h0v0h0Z\" pointer-events=\"none\"/><g><g class=\"mark-group role-scope\" role=\"graphics-object\" aria-roledescription=\"group mark container\"><g transform=\"translate(0,0)\"><path class=\"background\" aria-hidden=\"true\" d=\"M0,0h41v11h-41Z\" pointer-events=\"none\" opacity=\"1\"/><g><g class=\"mark-symbol role-legend-symbol\" pointer-events=\"none\"><path transform=\"translate(6,6)\" d=\"M5,0A5,5,0,1,1,-5,0A5,5,0,1,1,5,0\" fill=\"#4c78a8\" stroke-width=\"1.5\" opacity=\"1\"/></g><g class=\"mark-text role-legend-label\" pointer-events=\"none\"><text text-anchor=\"start\" transform=\"translate(16,9)\" font-family=\"sans-serif\" font-size=\"10px\" fill=\"#000\" opacity=\"1\">Conv</text></g></g><path class=\"foreground\" aria-hidden=\"true\" d=\"\" pointer-events=\"none\" display=\"none\"/></g><g transform=\"translate(0,13)\"><path class=\"background\" aria-hidden=\"true\" d=\"M0,0h41v11h-41Z\" pointer-events=\"none\" opacity=\"1\"/><g><g class=\"mark-symbol role-legend-symbol\" pointer-events=\"none\"><path transform=\"translate(6,6)\" d=\"M5,0A5,5,0,1,1,-5,0A5,5,0,1,1,5,0\" fill=\"#f58518\" stroke-width=\"1.5\" opacity=\"1\"/></g><g class=\"mark-text role-legend-label\" pointer-events=\"none\"><text text-anchor=\"start\" transform=\"translate(16,9)\" font-family=\"sans-serif\" font-size=\"10px\" fill=\"#000\" opacity=\"1\">x14</text></g></g><path class=\"foreground\" aria-hidden=\"true\" d=\"\" pointer-events=\"none\" display=\"none\"/></g><g transform=\"translate(0,26)\"><path class=\"background\" aria-hidden=\"true\" d=\"M0,0h41v11h-41Z\" pointer-events=\"none\" opacity=\"1\"/><g><g class=\"mark-symbol role-legend-symbol\" pointer-events=\"none\"><path transform=\"translate(6,6)\" d=\"M5,0A5,5,0,1,1,-5,0A5,5,0,1,1,5,0\" fill=\"#e45756\" stroke-width=\"1.5\" opacity=\"1\"/></g><g class=\"mark-text role-legend-label\" pointer-events=\"none\"><text text-anchor=\"start\" transform=\"translate(16,9)\" font-family=\"sans-serif\" font-size=\"10px\" fill=\"#000\" opacity=\"1\">x158</text></g></g><path class=\"foreground\" aria-hidden=\"true\" d=\"\" pointer-events=\"none\" display=\"none\"/></g><g transform=\"translate(0,39)\"><path class=\"background\" aria-hidden=\"true\" d=\"M0,0h41v11h-41Z\" pointer-events=\"none\" opacity=\"1\"/><g><g class=\"mark-symbol role-legend-symbol\" pointer-events=\"none\"><path transform=\"translate(6,6)\" d=\"M5,0A5,5,0,1,1,-5,0A5,5,0,1,1,5,0\" fill=\"#72b7b2\" stroke-width=\"1.5\" opacity=\"1\"/></g><g class=\"mark-text role-legend-label\" pointer-events=\"none\"><text text-anchor=\"start\" transform=\"translate(16,9)\" font-family=\"sans-serif\" font-size=\"10px\" fill=\"#000\" opacity=\"1\">x177</text></g></g><path class=\"foreground\" aria-hidden=\"true\" d=\"\" pointer-events=\"none\" display=\"none\"/></g><g transform=\"translate(0,52)\"><path class=\"background\" aria-hidden=\"true\" d=\"M0,0h41v11h-41Z\" pointer-events=\"none\" opacity=\"1\"/><g><g class=\"mark-symbol role-legend-symbol\" pointer-events=\"none\"><path transform=\"translate(6,6)\" d=\"M5,0A5,5,0,1,1,-5,0A5,5,0,1,1,5,0\" fill=\"#54a24b\" stroke-width=\"1.5\" opacity=\"1\"/></g><g class=\"mark-text role-legend-label\" pointer-events=\"none\"><text text-anchor=\"start\" transform=\"translate(16,9)\" font-family=\"sans-serif\" font-size=\"10px\" fill=\"#000\" opacity=\"1\">x178</text></g></g><path class=\"foreground\" aria-hidden=\"true\" d=\"\" pointer-events=\"none\" display=\"none\"/></g><g transform=\"translate(0,65)\"><path class=\"background\" aria-hidden=\"true\" d=\"M0,0h41v11h-41Z\" pointer-events=\"none\" opacity=\"1\"/><g><g class=\"mark-symbol role-legend-symbol\" pointer-events=\"none\"><path transform=\"translate(6,6)\" d=\"M5,0A5,5,0,1,1,-5,0A5,5,0,1,1,5,0\" fill=\"#eeca3b\" stroke-width=\"1.5\" opacity=\"1\"/></g><g class=\"mark-text role-legend-label\" pointer-events=\"none\"><text text-anchor=\"start\" transform=\"translate(16,9)\" font-family=\"sans-serif\" font-size=\"10px\" fill=\"#000\" opacity=\"1\">x183</text></g></g><path class=\"foreground\" aria-hidden=\"true\" d=\"\" pointer-events=\"none\" display=\"none\"/></g><g transform=\"translate(0,78)\"><path class=\"background\" aria-hidden=\"true\" d=\"M0,0h41v11h-41Z\" pointer-events=\"none\" opacity=\"1\"/><g><g class=\"mark-symbol role-legend-symbol\" pointer-events=\"none\"><path transform=\"translate(6,6)\" d=\"M5,0A5,5,0,1,1,-5,0A5,5,0,1,1,5,0\" fill=\"#b279a2\" stroke-width=\"1.5\" opacity=\"1\"/></g><g class=\"mark-text role-legend-label\" pointer-events=\"none\"><text text-anchor=\"start\" transform=\"translate(16,9)\" font-family=\"sans-serif\" font-size=\"10px\" fill=\"#000\" opacity=\"1\">x193</text></g></g><path class=\"foreground\" aria-hidden=\"true\" d=\"\" pointer-events=\"none\" display=\"none\"/></g><g transform=\"translate(0,91)\"><path class=\"background\" aria-hidden=\"true\" d=\"M0,0h41v11h-41Z\" pointer-events=\"none\" opacity=\"1\"/><g><g class=\"mark-symbol role-legend-symbol\" pointer-events=\"none\"><path transform=\"translate(6,6)\" d=\"M5,0A5,5,0,1,1,-5,0A5,5,0,1,1,5,0\" fill=\"#ff9da6\" stroke-width=\"1.5\" opacity=\"1\"/></g><g class=\"mark-text role-legend-label\" pointer-events=\"none\"><text text-anchor=\"start\" transform=\"translate(16,9)\" font-family=\"sans-serif\" font-size=\"10px\" fill=\"#000\" opacity=\"1\">x22</text></g></g><path class=\"foreground\" aria-hidden=\"true\" d=\"\" pointer-events=\"none\" display=\"none\"/></g></g></g><path class=\"foreground\" aria-hidden=\"true\" d=\"\" pointer-events=\"none\" display=\"none\"/></g></g><g class=\"mark-text role-legend-title\" pointer-events=\"none\"><text text-anchor=\"start\" transform=\"translate(0,9)\" font-family=\"sans-serif\" font-size=\"11px\" font-weight=\"bold\" fill=\"#000\" opacity=\"1\">variable</text></g></g><path class=\"foreground\" aria-hidden=\"true\" d=\"\" pointer-events=\"none\" display=\"none\"/></g></g></g><path class=\"foreground\" aria-hidden=\"true\" d=\"\" display=\"none\"/></g></g></g></svg>\n"
      ],
      "text/plain": [
       "@vlplot(\n",
       "    legend=\"sNames\",\n",
       "    mark=\"area\",\n",
       "    encoding={\n",
       "        x={\n",
       "            field=\"year\"\n",
       "        },\n",
       "        y={\n",
       "            stack=\"zero\",\n",
       "            title=\"Value-chain adopted (%)\",\n",
       "            field=\"value\"\n",
       "        },\n",
       "        color={\n",
       "            field=\"variable\",\n",
       "            type=\"nominal\"\n",
       "        }\n",
       "    },\n",
       "    data={\n",
       "        values=...\n",
       "    }\n",
       ")"
      ]
     },
     "execution_count": 19,
     "metadata": {},
     "output_type": "execute_result"
    }
   ],
   "source": [
    "#only for this result\n",
    "\n",
    "function conventional(i1,t)\n",
    "    if t==7\n",
    "        return (1-sum(JuMP.values.(xk)[k,t] for k in 1:nrow(compromise)))\n",
    "    end\n",
    "    if t==0\n",
    "        if mod(i1,5)≥mod(round.(sum(JuMP.values.(tk)[1:nrow(compromise),t+1])-0.001;digits=4),5) && sum(JuMP.values.(xk)[1:nrow(compromise),t+1]) > 0\n",
    "            return (1-sum(JuMP.values.(xk)[k,t+1] for k in 1:nrow(compromise)))\n",
    "        else\n",
    "            return 1\n",
    "        end\n",
    "    else\n",
    "        sum_xks_atT=0\n",
    "        for k1 in 1:nrow(compromise)\n",
    "            if mod(i1,5)≥mod(round(JuMP.values.(tk)[k1,t+1]-0.001;digits=4),5) && sum(JuMP.values.(xk)[k1,t:t+1])>0 && t>0\n",
    "                sum_xks_atT+=JuMP.values.(xk)[k1,t+1]\n",
    "            else\n",
    "                sum_xks_atT+=JuMP.values.(xk)[k1,t]\n",
    "            end\n",
    "        end\n",
    "            \n",
    "        #if mod(i1,5)≥mod(round(sum(JuMP.values.(tk)[1:nrow(compromise),t+1]);digits=2),5) && sum(JuMP.values.(xk)[1:nrow(compromise),t:t+1])>0 && t>0\n",
    "        #    t=t+1\n",
    "        #end\n",
    "        #return (1-sum(JuMP.values.(xk)[k,t] for k in 1:nrow(compromise)))\n",
    "        return (1-sum_xks_atT)\n",
    "    end\n",
    "end\n",
    "\n",
    "function innovation(i1,k1,t)\n",
    "    if t==7\n",
    "        return sum(JuMP.values.(xk)[k,t] for k=k1:k1)\n",
    "    end\n",
    "    if t==0 \n",
    "        if mod(i1,5)≥mod(round(JuMP.values.(tk)[k1,t+1]-0.001;digits=4),5) && JuMP.values.(xk)[k1,t+1] > 0\n",
    "            t=1\n",
    "            return (sum(JuMP.values.(xk)[k,t] for k=k1:k1))            \n",
    "        else\n",
    "            return 0\n",
    "        end\n",
    "    end\n",
    "    if mod(i1,5)≥mod(round(JuMP.values.(tk)[k1,t+1]-0.001;digits=4),5) && sum(JuMP.values.(xk)[k1,t:t+1])>0 && t>0\n",
    "        t=t+1\n",
    "    end\n",
    "    return sum(JuMP.values.(xk)[k,t] for k=k1:k1)\n",
    "    \n",
    "end\n",
    "\n",
    "conv=zeros(55)\n",
    "\n",
    "conv[1]=100\n",
    "inn_co2=zeros(nrow(compromise),55)\n",
    "\n",
    "for k in 1:nrow(compromise)\n",
    "    inn_co2[k,1]=0\n",
    "end\n",
    "j=0\n",
    "for t in 1:55\n",
    "    if 0 ≤ t ≤ 5\n",
    "        j=0\n",
    "    elseif 6 ≤ t ≤ 10\n",
    "        j=1\n",
    "    elseif 11 ≤ t ≤ 15\n",
    "        j=2\n",
    "    elseif 16 ≤ t ≤ 20\n",
    "        j=3\n",
    "    elseif 21 ≤ t ≤ 25\n",
    "        j=4\n",
    "    elseif 26 ≤ t ≤ 30\n",
    "        j=5\n",
    "    elseif 31 ≤ t ≤ 35\n",
    "        j=6\n",
    "    else\n",
    "        j=7\n",
    "    end\n",
    "    \n",
    "    \n",
    "    \n",
    "    conv[t]=100*conventional(t,j)\n",
    "    for k in 1:nrow(compromise)\n",
    "        \n",
    "        inn_co2[k,t]=100*innovation(t,k,j)\n",
    "    end\n",
    "end\n",
    "#conv[1:5].=100\n",
    "\n",
    "sNames = [\"conv\",\"inn1\",\"inn2\",\"inn3\",\"inn4\",\"inn5\",\"inn6\",\"inn7\",\"inn8\",\"inn9\",\"inn10\"]\n",
    "xLabels = []\n",
    "for i in 2020:2070\n",
    "    push!(xLabels,string(i))\n",
    "end\n",
    "\n",
    "#df = DataFrame(year=xLabels, conv=conv, inn1=inn_co2[1,:],inn2=inn_co2[2,:],inn3=inn_co2[3,:],inn4=inn_co2[4,:],\n",
    "#        inn5=inn_co2[5,:],inn6=inn_co2[6,:],inn7=inn_co2[7,:],inn8=inn_co2[8,:],inn9=inn_co2[9,:],inn10=inn_co2[10,:])\n",
    "df = DataFrame(vcat(inn_co2,conv')',:auto)\n",
    "\n",
    "\n",
    "df=df[1:41,:]\n",
    "\n",
    "df=df[!, any.(>(0), eachcol(df))]\n",
    "df[!,:year]=xLabels[1:41]\n",
    "#rename!(df,[:x1,:x93,:x218,:x222] .=> [:Conv,:pyLDPE1,:alcPLA2,:alcPLA6])\n",
    "#df[!,:pyLDPE11]=zeros(36)\n",
    "rename!(df,[:x269] .=> [:Conv])\n",
    "#df[!,:x31]=zeros(36)\n",
    "#df[!,:x38]=zeros(36)\n",
    "#df[!,:x164]=zeros(36)\n",
    "\n",
    "#rename!(df,[:x94,:x95,:x104,:x109,:x196,:x198,:x199,:x200,:x201] .=> [:LABS12,:LABS13,:LABS22,:LABS27,:RecyclPLA2,:RecyclPLA4,:RecyclPLA5,:RecyclPLA6,:RecyclPLA7])\n",
    "#rename!(df,[:x29,:x30,:x31,:x45,:x49] .=> [:pyLDPE_maxTheta,:pyLDPE_minGWP,:pyLDPE_minLCC,:pyLDPE_14,:pyLDPE_18])\n",
    "#rename!(df,[:x160,:x164] .=> [:alcPLA_minLCC,:alcPLA_3])\n",
    "split_yearly=df |> stack |> @vlplot(:area, x=:year, y={:value, stack=:zero, title=\"Value-chain adopted (%)\"}, color=\"variable:n\",legend=:sNames) \n",
    "if want_save>0\n",
    "    save(\"./result-case-roadmap/split_yearly-\"*output_key*\".svg\", split_yearly)\n",
    "end\n",
    "#save(\"./result-case-roadmap/split_yearly-netzero.svg\", split_yearly)\n",
    "split_yearly\n",
    "\n"
   ]
  },
  {
   "cell_type": "code",
   "execution_count": 57,
   "id": "ffaef1be",
   "metadata": {},
   "outputs": [
    {
     "data": {
      "application/vnd.vegalite.v4+json": {
       "data": {
        "values": [
         {
          "value": 0,
          "variable": "x28",
          "year": 5
         },
         {
          "value": 0,
          "variable": "x28",
          "year": 10
         },
         {
          "value": 1,
          "variable": "x28",
          "year": 15
         },
         {
          "value": 0,
          "variable": "x28",
          "year": 20
         },
         {
          "value": 0.7999085818763277,
          "variable": "x28",
          "year": 25
         },
         {
          "value": 0,
          "variable": "x28",
          "year": 30
         },
         {
          "value": 0,
          "variable": "x28",
          "year": 35
         },
         {
          "value": 0,
          "variable": "x28",
          "year": 0
         },
         {
          "value": 0,
          "variable": "x30",
          "year": 5
         },
         {
          "value": 1,
          "variable": "x30",
          "year": 10
         },
         {
          "value": 0,
          "variable": "x30",
          "year": 15
         },
         {
          "value": 0,
          "variable": "x30",
          "year": 20
         },
         {
          "value": 0,
          "variable": "x30",
          "year": 25
         },
         {
          "value": 0,
          "variable": "x30",
          "year": 30
         },
         {
          "value": 0,
          "variable": "x30",
          "year": 35
         },
         {
          "value": 0,
          "variable": "x30",
          "year": 0
         },
         {
          "value": 1,
          "variable": "x34",
          "year": 5
         },
         {
          "value": 0,
          "variable": "x34",
          "year": 10
         },
         {
          "value": 0,
          "variable": "x34",
          "year": 15
         },
         {
          "value": 0,
          "variable": "x34",
          "year": 20
         },
         {
          "value": 0,
          "variable": "x34",
          "year": 25
         },
         {
          "value": 0,
          "variable": "x34",
          "year": 30
         },
         {
          "value": 0,
          "variable": "x34",
          "year": 35
         },
         {
          "value": 0,
          "variable": "x34",
          "year": 0
         },
         {
          "value": 0,
          "variable": "x37",
          "year": 5
         },
         {
          "value": 0,
          "variable": "x37",
          "year": 10
         },
         {
          "value": 0,
          "variable": "x37",
          "year": 15
         },
         {
          "value": 0,
          "variable": "x37",
          "year": 20
         },
         {
          "value": 0,
          "variable": "x37",
          "year": 25
         },
         {
          "value": 0,
          "variable": "x37",
          "year": 30
         },
         {
          "value": 0.21357971637312256,
          "variable": "x37",
          "year": 35
         },
         {
          "value": 0,
          "variable": "x37",
          "year": 0
         },
         {
          "value": 0,
          "variable": "x48",
          "year": 5
         },
         {
          "value": 0,
          "variable": "x48",
          "year": 10
         },
         {
          "value": 0,
          "variable": "x48",
          "year": 15
         },
         {
          "value": 0.9783001808322878,
          "variable": "x48",
          "year": 20
         },
         {
          "value": 0,
          "variable": "x48",
          "year": 25
         },
         {
          "value": 0.9783001808322892,
          "variable": "x48",
          "year": 30
         },
         {
          "value": 0,
          "variable": "x48",
          "year": 35
         },
         {
          "value": 0,
          "variable": "x48",
          "year": 0
         },
         {
          "value": 0,
          "variable": "x158",
          "year": 5
         },
         {
          "value": 0,
          "variable": "x158",
          "year": 10
         },
         {
          "value": 0,
          "variable": "x158",
          "year": 15
         },
         {
          "value": 0.021699819167684264,
          "variable": "x158",
          "year": 20
         },
         {
          "value": 0,
          "variable": "x158",
          "year": 25
         },
         {
          "value": 0.0216998191677108,
          "variable": "x158",
          "year": 30
         },
         {
          "value": 0,
          "variable": "x158",
          "year": 35
         },
         {
          "value": 0,
          "variable": "x158",
          "year": 0
         },
         {
          "value": 0,
          "variable": "x159",
          "year": 5
         },
         {
          "value": 0,
          "variable": "x159",
          "year": 10
         },
         {
          "value": 0,
          "variable": "x159",
          "year": 15
         },
         {
          "value": 0,
          "variable": "x159",
          "year": 20
         },
         {
          "value": 0.20009141812367226,
          "variable": "x159",
          "year": 25
         },
         {
          "value": 0,
          "variable": "x159",
          "year": 30
         },
         {
          "value": 0,
          "variable": "x159",
          "year": 35
         },
         {
          "value": 0,
          "variable": "x159",
          "year": 0
         },
         {
          "value": 0,
          "variable": "x163",
          "year": 5
         },
         {
          "value": 0,
          "variable": "x163",
          "year": 10
         },
         {
          "value": 0,
          "variable": "x163",
          "year": 15
         },
         {
          "value": 2.80216974443936e-14,
          "variable": "x163",
          "year": 20
         },
         {
          "value": 0,
          "variable": "x163",
          "year": 25
         },
         {
          "value": 0,
          "variable": "x163",
          "year": 30
         },
         {
          "value": 0.7864202836268774,
          "variable": "x163",
          "year": 35
         },
         {
          "value": 0,
          "variable": "x163",
          "year": 0
         },
         {
          "value": 0,
          "variable": "Conv",
          "year": 5
         },
         {
          "value": 0,
          "variable": "Conv",
          "year": 10
         },
         {
          "value": 0,
          "variable": "Conv",
          "year": 15
         },
         {
          "value": 0,
          "variable": "Conv",
          "year": 20
         },
         {
          "value": 0,
          "variable": "Conv",
          "year": 25
         },
         {
          "value": 0,
          "variable": "Conv",
          "year": 30
         },
         {
          "value": 0,
          "variable": "Conv",
          "year": 35
         },
         {
          "value": 1,
          "variable": "Conv",
          "year": 0
         }
        ]
       },
       "encoding": {
        "color": {
         "field": "variable",
         "type": "nominal"
        },
        "x": {
         "field": "year",
         "type": "quantitative"
        },
        "y": {
         "field": "value",
         "stack": "zero",
         "title": "Fraction",
         "type": "quantitative"
        }
       },
       "legend": "sNames",
       "mark": "area"
      },
      "image/png": "[encoded data removed]",
      "image/svg+xml": [
       "<?xml version=\"1.0\" encoding=\"utf-8\"?>\n",
       "<!DOCTYPE svg PUBLIC \"-//W3C//DTD SVG 1.1//EN\" \"http://www.w3.org/Graphics/SVG/1.1/DTD/svg11.dtd\">\n",
       "<svg xmlns=\"http://www.w3.org/2000/svg\" xmlns:xlink=\"http://www.w3.org/1999/xlink\" version=\"1.1\" class=\"marks\" width=\"314\" height=\"247\" viewBox=\"0 0 314 247\"><rect width=\"314\" height=\"247\" fill=\"white\"/><g fill=\"none\" stroke-miterlimit=\"10\" transform=\"translate(42,10)\"><g class=\"mark-group role-frame root\" role=\"graphics-object\" aria-roledescription=\"group mark container\"><g transform=\"translate(0,0)\"><path class=\"background\" aria-hidden=\"true\" d=\"M0.5,0.5h200v200h-200Z\" stroke=\"#ddd\"/><g><g class=\"mark-group role-axis\" aria-hidden=\"true\"><g transform=\"translate(0.5,200.5)\"><path class=\"background\" aria-hidden=\"true\" d=\"M0,0h0v0h0Z\" pointer-events=\"none\"/><g><g class=\"mark-rule role-axis-grid\" pointer-events=\"none\"><line transform=\"translate(0,-200)\" x2=\"0\" y2=\"200\" stroke=\"#ddd\" stroke-width=\"1\" opacity=\"1\"/><line transform=\"translate(29,-200)\" x2=\"0\" y2=\"200\" stroke=\"#ddd\" stroke-width=\"1\" opacity=\"1\"/><line transform=\"translate(57,-200)\" x2=\"0\" y2=\"200\" stroke=\"#ddd\" stroke-width=\"1\" opacity=\"1\"/><line transform=\"translate(86,-200)\" x2=\"0\" y2=\"200\" stroke=\"#ddd\" stroke-width=\"1\" opacity=\"1\"/><line transform=\"translate(114,-200)\" x2=\"0\" y2=\"200\" stroke=\"#ddd\" stroke-width=\"1\" opacity=\"1\"/><line transform=\"translate(143,-200)\" x2=\"0\" y2=\"200\" stroke=\"#ddd\" stroke-width=\"1\" opacity=\"1\"/><line transform=\"translate(171,-200)\" x2=\"0\" y2=\"200\" stroke=\"#ddd\" stroke-width=\"1\" opacity=\"1\"/><line transform=\"translate(200,-200)\" x2=\"0\" y2=\"200\" stroke=\"#ddd\" stroke-width=\"1\" opacity=\"1\"/></g></g><path class=\"foreground\" aria-hidden=\"true\" d=\"\" pointer-events=\"none\" display=\"none\"/></g></g><g class=\"mark-group role-axis\" aria-hidden=\"true\"><g transform=\"translate(0.5,0.5)\"><path class=\"background\" aria-hidden=\"true\" d=\"M0,0h0v0h0Z\" pointer-events=\"none\"/><g><g class=\"mark-rule role-axis-grid\" pointer-events=\"none\"><line transform=\"translate(0,200)\" x2=\"200\" y2=\"0\" stroke=\"#ddd\" stroke-width=\"1\" opacity=\"1\"/><line transform=\"translate(0,160)\" x2=\"200\" y2=\"0\" stroke=\"#ddd\" stroke-width=\"1\" opacity=\"1\"/><line transform=\"translate(0,120)\" x2=\"200\" y2=\"0\" stroke=\"#ddd\" stroke-width=\"1\" opacity=\"1\"/><line transform=\"translate(0,80)\" x2=\"200\" y2=\"0\" stroke=\"#ddd\" stroke-width=\"1\" opacity=\"1\"/><line transform=\"translate(0,40)\" x2=\"200\" y2=\"0\" stroke=\"#ddd\" stroke-width=\"1\" opacity=\"1\"/><line transform=\"translate(0,0)\" x2=\"200\" y2=\"0\" stroke=\"#ddd\" stroke-width=\"1\" opacity=\"1\"/></g></g><path class=\"foreground\" aria-hidden=\"true\" d=\"\" pointer-events=\"none\" display=\"none\"/></g></g><g class=\"mark-group role-axis\" role=\"graphics-symbol\" aria-roledescription=\"axis\" aria-label=\"X-axis titled 'year' for a linear scale with values from 0 to 35\"><g transform=\"translate(0.5,200.5)\"><path class=\"background\" aria-hidden=\"true\" d=\"M0,0h0v0h0Z\" pointer-events=\"none\"/><g><g class=\"mark-rule role-axis-tick\" pointer-events=\"none\"><line transform=\"translate(0,0)\" x2=\"0\" y2=\"5\" stroke=\"#888\" stroke-width=\"1\" opacity=\"1\"/><line transform=\"translate(29,0)\" x2=\"0\" y2=\"5\" stroke=\"#888\" stroke-width=\"1\" opacity=\"1\"/><line transform=\"translate(57,0)\" x2=\"0\" y2=\"5\" stroke=\"#888\" stroke-width=\"1\" opacity=\"1\"/><line transform=\"translate(86,0)\" x2=\"0\" y2=\"5\" stroke=\"#888\" stroke-width=\"1\" opacity=\"1\"/><line transform=\"translate(114,0)\" x2=\"0\" y2=\"5\" stroke=\"#888\" stroke-width=\"1\" opacity=\"1\"/><line transform=\"translate(143,0)\" x2=\"0\" y2=\"5\" stroke=\"#888\" stroke-width=\"1\" opacity=\"1\"/><line transform=\"translate(171,0)\" x2=\"0\" y2=\"5\" stroke=\"#888\" stroke-width=\"1\" opacity=\"1\"/><line transform=\"translate(200,0)\" x2=\"0\" y2=\"5\" stroke=\"#888\" stroke-width=\"1\" opacity=\"1\"/></g><g class=\"mark-text role-axis-label\" pointer-events=\"none\"><text text-anchor=\"start\" transform=\"translate(0,15)\" font-family=\"sans-serif\" font-size=\"10px\" fill=\"#000\" opacity=\"1\">0</text><text text-anchor=\"middle\" transform=\"translate(28.57142857142857,15)\" font-family=\"sans-serif\" font-size=\"10px\" fill=\"#000\" opacity=\"1\">5</text><text text-anchor=\"middle\" transform=\"translate(57.14285714285714,15)\" font-family=\"sans-serif\" font-size=\"10px\" fill=\"#000\" opacity=\"1\">10</text><text text-anchor=\"middle\" transform=\"translate(85.71428571428571,15)\" font-family=\"sans-serif\" font-size=\"10px\" fill=\"#000\" opacity=\"1\">15</text><text text-anchor=\"middle\" transform=\"translate(114.28571428571428,15)\" font-family=\"sans-serif\" font-size=\"10px\" fill=\"#000\" opacity=\"1\">20</text><text text-anchor=\"middle\" transform=\"translate(142.85714285714286,15)\" font-family=\"sans-serif\" font-size=\"10px\" fill=\"#000\" opacity=\"1\">25</text><text text-anchor=\"middle\" transform=\"translate(171.42857142857142,15)\" font-family=\"sans-serif\" font-size=\"10px\" fill=\"#000\" opacity=\"1\">30</text><text text-anchor=\"end\" transform=\"translate(200,15)\" font-family=\"sans-serif\" font-size=\"10px\" fill=\"#000\" opacity=\"1\">35</text></g><g class=\"mark-rule role-axis-domain\" pointer-events=\"none\"><line transform=\"translate(0,0)\" x2=\"200\" y2=\"0\" stroke=\"#888\" stroke-width=\"1\" opacity=\"1\"/></g><g class=\"mark-text role-axis-title\" pointer-events=\"none\"><text text-anchor=\"middle\" transform=\"translate(100,30)\" font-family=\"sans-serif\" font-size=\"11px\" font-weight=\"bold\" fill=\"#000\" opacity=\"1\">year</text></g></g><path class=\"foreground\" aria-hidden=\"true\" d=\"\" pointer-events=\"none\" display=\"none\"/></g></g><g class=\"mark-group role-axis\" role=\"graphics-symbol\" aria-roledescription=\"axis\" aria-label=\"Y-axis titled 'Fraction' for a linear scale with values from 0.0 to 1.0\"><g transform=\"translate(0.5,0.5)\"><path class=\"background\" aria-hidden=\"true\" d=\"M0,0h0v0h0Z\" pointer-events=\"none\"/><g><g class=\"mark-rule role-axis-tick\" pointer-events=\"none\"><line transform=\"translate(0,200)\" x2=\"-5\" y2=\"0\" stroke=\"#888\" stroke-width=\"1\" opacity=\"1\"/><line transform=\"translate(0,160)\" x2=\"-5\" y2=\"0\" stroke=\"#888\" stroke-width=\"1\" opacity=\"1\"/><line transform=\"translate(0,120)\" x2=\"-5\" y2=\"0\" stroke=\"#888\" stroke-width=\"1\" opacity=\"1\"/><line transform=\"translate(0,80)\" x2=\"-5\" y2=\"0\" stroke=\"#888\" stroke-width=\"1\" opacity=\"1\"/><line transform=\"translate(0,40)\" x2=\"-5\" y2=\"0\" stroke=\"#888\" stroke-width=\"1\" opacity=\"1\"/><line transform=\"translate(0,0)\" x2=\"-5\" y2=\"0\" stroke=\"#888\" stroke-width=\"1\" opacity=\"1\"/></g><g class=\"mark-text role-axis-label\" pointer-events=\"none\"><text text-anchor=\"end\" transform=\"translate(-7,203)\" font-family=\"sans-serif\" font-size=\"10px\" fill=\"#000\" opacity=\"1\">0.0</text><text text-anchor=\"end\" transform=\"translate(-7,163)\" font-family=\"sans-serif\" font-size=\"10px\" fill=\"#000\" opacity=\"1\">0.2</text><text text-anchor=\"end\" transform=\"translate(-7,123)\" font-family=\"sans-serif\" font-size=\"10px\" fill=\"#000\" opacity=\"1\">0.4</text><text text-anchor=\"end\" transform=\"translate(-7,83)\" font-family=\"sans-serif\" font-size=\"10px\" fill=\"#000\" opacity=\"1\">0.6</text><text text-anchor=\"end\" transform=\"translate(-7,42.99999999999999)\" font-family=\"sans-serif\" font-size=\"10px\" fill=\"#000\" opacity=\"1\">0.8</text><text text-anchor=\"end\" transform=\"translate(-7,3)\" font-family=\"sans-serif\" font-size=\"10px\" fill=\"#000\" opacity=\"1\">1.0</text></g><g class=\"mark-rule role-axis-domain\" pointer-events=\"none\"><line transform=\"translate(0,200)\" x2=\"0\" y2=\"-200\" stroke=\"#888\" stroke-width=\"1\" opacity=\"1\"/></g><g class=\"mark-text role-axis-title\" pointer-events=\"none\"><text text-anchor=\"middle\" transform=\"translate(-26,100) rotate(-90) translate(0,-2)\" font-family=\"sans-serif\" font-size=\"11px\" font-weight=\"bold\" fill=\"#000\" opacity=\"1\">Fraction</text></g></g><path class=\"foreground\" aria-hidden=\"true\" d=\"\" pointer-events=\"none\" display=\"none\"/></g></g><g class=\"mark-group role-scope pathgroup\" role=\"graphics-object\" aria-roledescription=\"group mark container\"><g transform=\"translate(0,0)\"><path class=\"background\" aria-hidden=\"true\" d=\"M0,0h200v200h-200Z\"/><g><g class=\"mark-area role-mark marks\" role=\"graphics-object\" aria-roledescription=\"area mark container\"><path aria-label=\"year: 0; Fraction: 0; variable: x28\" role=\"graphics-symbol\" aria-roledescription=\"area mark\" d=\"M0,200L28.57142857142857,0L57.14285714285714,0L85.71428571428571,0L114.28571428571428,4.339963833542448L142.85714285714286,40.01828362473445L171.42857142857142,4.33996383354216L200,157.28405672537548L200,157.28405672537548L171.42857142857142,4.33996383354216L142.85714285714286,200L114.28571428571428,4.339963833542448L85.71428571428571,200L57.14285714285714,0L28.57142857142857,0L0,200Z\" fill=\"#54a24b\"/></g></g><path class=\"foreground\" aria-hidden=\"true\" d=\"\" display=\"none\"/></g><g transform=\"translate(0,0)\"><path class=\"background\" aria-hidden=\"true\" d=\"M0,0h200v200h-200Z\"/><g><g class=\"mark-area role-mark marks\" role=\"graphics-object\" aria-roledescription=\"area mark container\"><path aria-label=\"year: 0; Fraction: 0; variable: x30\" role=\"graphics-symbol\" aria-roledescription=\"area mark\" d=\"M0,200L28.57142857142857,0L57.14285714285714,0L85.71428571428571,200L114.28571428571428,4.339963833542448L142.85714285714286,200L171.42857142857142,4.33996383354216L200,157.28405672537548L200,157.28405672537548L171.42857142857142,4.33996383354216L142.85714285714286,200L114.28571428571428,4.339963833542448L85.71428571428571,200L57.14285714285714,200L28.57142857142857,0L0,200Z\" fill=\"#eeca3b\"/></g></g><path class=\"foreground\" aria-hidden=\"true\" d=\"\" display=\"none\"/></g><g transform=\"translate(0,0)\"><path class=\"background\" aria-hidden=\"true\" d=\"M0,0h200v200h-200Z\"/><g><g class=\"mark-area role-mark marks\" role=\"graphics-object\" aria-roledescription=\"area mark container\"><path aria-label=\"year: 0; Fraction: 0; variable: x34\" role=\"graphics-symbol\" aria-roledescription=\"area mark\" d=\"M0,200L28.57142857142857,0L57.14285714285714,200L85.71428571428571,200L114.28571428571428,4.339963833542448L142.85714285714286,200L171.42857142857142,4.33996383354216L200,157.28405672537548L200,157.28405672537548L171.42857142857142,4.33996383354216L142.85714285714286,200L114.28571428571428,4.339963833542448L85.71428571428571,200L57.14285714285714,200L28.57142857142857,200L0,200Z\" fill=\"#b279a2\"/></g></g><path class=\"foreground\" aria-hidden=\"true\" d=\"\" display=\"none\"/></g><g transform=\"translate(0,0)\"><path class=\"background\" aria-hidden=\"true\" d=\"M0,0h200v200h-200Z\"/><g><g class=\"mark-area role-mark marks\" role=\"graphics-object\" aria-roledescription=\"area mark container\"><path aria-label=\"year: 0; Fraction: 0; variable: x37\" role=\"graphics-symbol\" aria-roledescription=\"area mark\" d=\"M0,200L28.57142857142857,200L57.14285714285714,200L85.71428571428571,200L114.28571428571428,4.339963833542448L142.85714285714286,200L171.42857142857142,4.33996383354216L200,157.28405672537548L200,200L171.42857142857142,4.33996383354216L142.85714285714286,200L114.28571428571428,4.339963833542448L85.71428571428571,200L57.14285714285714,200L28.57142857142857,200L0,200Z\" fill=\"#ff9da6\"/></g></g><path class=\"foreground\" aria-hidden=\"true\" d=\"\" display=\"none\"/></g><g transform=\"translate(0,0)\"><path class=\"background\" aria-hidden=\"true\" d=\"M0,0h200v200h-200Z\"/><g><g class=\"mark-area role-mark marks\" role=\"graphics-object\" aria-roledescription=\"area mark container\"><path aria-label=\"year: 0; Fraction: 0; variable: x48\" role=\"graphics-symbol\" aria-roledescription=\"area mark\" d=\"M0,200L28.57142857142857,200L57.14285714285714,200L85.71428571428571,200L114.28571428571428,4.339963833542448L142.85714285714286,200L171.42857142857142,4.33996383354216L200,200L200,200L171.42857142857142,200L142.85714285714286,200L114.28571428571428,200L85.71428571428571,200L57.14285714285714,200L28.57142857142857,200L0,200Z\" fill=\"#9d755d\"/></g></g><path class=\"foreground\" aria-hidden=\"true\" d=\"\" display=\"none\"/></g><g transform=\"translate(0,0)\"><path class=\"background\" aria-hidden=\"true\" d=\"M0,0h200v200h-200Z\"/><g><g class=\"mark-area role-mark marks\" role=\"graphics-object\" aria-roledescription=\"area mark container\"><path aria-label=\"year: 0; Fraction: 0; variable: x158\" role=\"graphics-symbol\" aria-roledescription=\"area mark\" d=\"M0,200L28.57142857142857,0L57.14285714285714,0L85.71428571428571,0L114.28571428571428,0L142.85714285714286,0L171.42857142857142,0L200,0L200,0L171.42857142857142,4.33996383354216L142.85714285714286,0L114.28571428571428,4.339963833536853L85.71428571428571,0L57.14285714285714,0L28.57142857142857,0L0,200Z\" fill=\"#f58518\"/></g></g><path class=\"foreground\" aria-hidden=\"true\" d=\"\" display=\"none\"/></g><g transform=\"translate(0,0)\"><path class=\"background\" aria-hidden=\"true\" d=\"M0,0h200v200h-200Z\"/><g><g class=\"mark-area role-mark marks\" role=\"graphics-object\" aria-roledescription=\"area mark container\"><path aria-label=\"year: 0; Fraction: 0; variable: x159\" role=\"graphics-symbol\" aria-roledescription=\"area mark\" d=\"M0,200L28.57142857142857,0L57.14285714285714,0L85.71428571428571,0L114.28571428571428,4.339963833536853L142.85714285714286,0L171.42857142857142,4.33996383354216L200,0L200,0L171.42857142857142,4.33996383354216L142.85714285714286,40.01828362473445L114.28571428571428,4.339963833536853L85.71428571428571,0L57.14285714285714,0L28.57142857142857,0L0,200Z\" fill=\"#e45756\"/></g></g><path class=\"foreground\" aria-hidden=\"true\" d=\"\" display=\"none\"/></g><g transform=\"translate(0,0)\"><path class=\"background\" aria-hidden=\"true\" d=\"M0,0h200v200h-200Z\"/><g><g class=\"mark-area role-mark marks\" role=\"graphics-object\" aria-roledescription=\"area mark container\"><path aria-label=\"year: 0; Fraction: 0; variable: x163\" role=\"graphics-symbol\" aria-roledescription=\"area mark\" d=\"M0,200L28.57142857142857,0L57.14285714285714,0L85.71428571428571,0L114.28571428571428,4.339963833536853L142.85714285714286,40.01828362473445L171.42857142857142,4.33996383354216L200,0L200,157.28405672537548L171.42857142857142,4.33996383354216L142.85714285714286,40.01828362473445L114.28571428571428,4.339963833542448L85.71428571428571,0L57.14285714285714,0L28.57142857142857,0L0,200Z\" fill=\"#72b7b2\"/></g></g><path class=\"foreground\" aria-hidden=\"true\" d=\"\" display=\"none\"/></g><g transform=\"translate(0,0)\"><path class=\"background\" aria-hidden=\"true\" d=\"M0,0h200v200h-200Z\"/><g><g class=\"mark-area role-mark marks\" role=\"graphics-object\" aria-roledescription=\"area mark container\"><path aria-label=\"year: 0; Fraction: 1; variable: Conv\" role=\"graphics-symbol\" aria-roledescription=\"area mark\" d=\"M0,0L28.57142857142857,0L57.14285714285714,0L85.71428571428571,0L114.28571428571428,0L142.85714285714286,0L171.42857142857142,0L200,0L200,0L171.42857142857142,0L142.85714285714286,0L114.28571428571428,0L85.71428571428571,0L57.14285714285714,0L28.57142857142857,0L0,200Z\" fill=\"#4c78a8\"/></g></g><path class=\"foreground\" aria-hidden=\"true\" d=\"\" display=\"none\"/></g></g><g class=\"mark-group role-legend\" role=\"graphics-symbol\" aria-roledescription=\"legend\" aria-label=\"Symbol legend titled 'variable' for fill color with 9 values: Conv, x158, x159, x163, x28, ending with x48\"><g transform=\"translate(218,0)\"><path class=\"background\" aria-hidden=\"true\" d=\"M0,0h49v131h-49Z\" pointer-events=\"none\"/><g><g class=\"mark-group role-legend-entry\"><g transform=\"translate(0,16)\"><path class=\"background\" aria-hidden=\"true\" d=\"M0,0h0v0h0Z\" pointer-events=\"none\"/><g><g class=\"mark-group role-scope\" role=\"graphics-object\" aria-roledescription=\"group mark container\"><g transform=\"translate(0,0)\"><path class=\"background\" aria-hidden=\"true\" d=\"M0,0h41v11h-41Z\" pointer-events=\"none\" opacity=\"1\"/><g><g class=\"mark-symbol role-legend-symbol\" pointer-events=\"none\"><path transform=\"translate(6,6)\" d=\"M5,0A5,5,0,1,1,-5,0A5,5,0,1,1,5,0\" fill=\"#4c78a8\" stroke-width=\"1.5\" opacity=\"1\"/></g><g class=\"mark-text role-legend-label\" pointer-events=\"none\"><text text-anchor=\"start\" transform=\"translate(16,9)\" font-family=\"sans-serif\" font-size=\"10px\" fill=\"#000\" opacity=\"1\">Conv</text></g></g><path class=\"foreground\" aria-hidden=\"true\" d=\"\" pointer-events=\"none\" display=\"none\"/></g><g transform=\"translate(0,13)\"><path class=\"background\" aria-hidden=\"true\" d=\"M0,0h41v11h-41Z\" pointer-events=\"none\" opacity=\"1\"/><g><g class=\"mark-symbol role-legend-symbol\" pointer-events=\"none\"><path transform=\"translate(6,6)\" d=\"M5,0A5,5,0,1,1,-5,0A5,5,0,1,1,5,0\" fill=\"#f58518\" stroke-width=\"1.5\" opacity=\"1\"/></g><g class=\"mark-text role-legend-label\" pointer-events=\"none\"><text text-anchor=\"start\" transform=\"translate(16,9)\" font-family=\"sans-serif\" font-size=\"10px\" fill=\"#000\" opacity=\"1\">x158</text></g></g><path class=\"foreground\" aria-hidden=\"true\" d=\"\" pointer-events=\"none\" display=\"none\"/></g><g transform=\"translate(0,26)\"><path class=\"background\" aria-hidden=\"true\" d=\"M0,0h41v11h-41Z\" pointer-events=\"none\" opacity=\"1\"/><g><g class=\"mark-symbol role-legend-symbol\" pointer-events=\"none\"><path transform=\"translate(6,6)\" d=\"M5,0A5,5,0,1,1,-5,0A5,5,0,1,1,5,0\" fill=\"#e45756\" stroke-width=\"1.5\" opacity=\"1\"/></g><g class=\"mark-text role-legend-label\" pointer-events=\"none\"><text text-anchor=\"start\" transform=\"translate(16,9)\" font-family=\"sans-serif\" font-size=\"10px\" fill=\"#000\" opacity=\"1\">x159</text></g></g><path class=\"foreground\" aria-hidden=\"true\" d=\"\" pointer-events=\"none\" display=\"none\"/></g><g transform=\"translate(0,39)\"><path class=\"background\" aria-hidden=\"true\" d=\"M0,0h41v11h-41Z\" pointer-events=\"none\" opacity=\"1\"/><g><g class=\"mark-symbol role-legend-symbol\" pointer-events=\"none\"><path transform=\"translate(6,6)\" d=\"M5,0A5,5,0,1,1,-5,0A5,5,0,1,1,5,0\" fill=\"#72b7b2\" stroke-width=\"1.5\" opacity=\"1\"/></g><g class=\"mark-text role-legend-label\" pointer-events=\"none\"><text text-anchor=\"start\" transform=\"translate(16,9)\" font-family=\"sans-serif\" font-size=\"10px\" fill=\"#000\" opacity=\"1\">x163</text></g></g><path class=\"foreground\" aria-hidden=\"true\" d=\"\" pointer-events=\"none\" display=\"none\"/></g><g transform=\"translate(0,52)\"><path class=\"background\" aria-hidden=\"true\" d=\"M0,0h41v11h-41Z\" pointer-events=\"none\" opacity=\"1\"/><g><g class=\"mark-symbol role-legend-symbol\" pointer-events=\"none\"><path transform=\"translate(6,6)\" d=\"M5,0A5,5,0,1,1,-5,0A5,5,0,1,1,5,0\" fill=\"#54a24b\" stroke-width=\"1.5\" opacity=\"1\"/></g><g class=\"mark-text role-legend-label\" pointer-events=\"none\"><text text-anchor=\"start\" transform=\"translate(16,9)\" font-family=\"sans-serif\" font-size=\"10px\" fill=\"#000\" opacity=\"1\">x28</text></g></g><path class=\"foreground\" aria-hidden=\"true\" d=\"\" pointer-events=\"none\" display=\"none\"/></g><g transform=\"translate(0,65)\"><path class=\"background\" aria-hidden=\"true\" d=\"M0,0h41v11h-41Z\" pointer-events=\"none\" opacity=\"1\"/><g><g class=\"mark-symbol role-legend-symbol\" pointer-events=\"none\"><path transform=\"translate(6,6)\" d=\"M5,0A5,5,0,1,1,-5,0A5,5,0,1,1,5,0\" fill=\"#eeca3b\" stroke-width=\"1.5\" opacity=\"1\"/></g><g class=\"mark-text role-legend-label\" pointer-events=\"none\"><text text-anchor=\"start\" transform=\"translate(16,9)\" font-family=\"sans-serif\" font-size=\"10px\" fill=\"#000\" opacity=\"1\">x30</text></g></g><path class=\"foreground\" aria-hidden=\"true\" d=\"\" pointer-events=\"none\" display=\"none\"/></g><g transform=\"translate(0,78)\"><path class=\"background\" aria-hidden=\"true\" d=\"M0,0h41v11h-41Z\" pointer-events=\"none\" opacity=\"1\"/><g><g class=\"mark-symbol role-legend-symbol\" pointer-events=\"none\"><path transform=\"translate(6,6)\" d=\"M5,0A5,5,0,1,1,-5,0A5,5,0,1,1,5,0\" fill=\"#b279a2\" stroke-width=\"1.5\" opacity=\"1\"/></g><g class=\"mark-text role-legend-label\" pointer-events=\"none\"><text text-anchor=\"start\" transform=\"translate(16,9)\" font-family=\"sans-serif\" font-size=\"10px\" fill=\"#000\" opacity=\"1\">x34</text></g></g><path class=\"foreground\" aria-hidden=\"true\" d=\"\" pointer-events=\"none\" display=\"none\"/></g><g transform=\"translate(0,91)\"><path class=\"background\" aria-hidden=\"true\" d=\"M0,0h41v11h-41Z\" pointer-events=\"none\" opacity=\"1\"/><g><g class=\"mark-symbol role-legend-symbol\" pointer-events=\"none\"><path transform=\"translate(6,6)\" d=\"M5,0A5,5,0,1,1,-5,0A5,5,0,1,1,5,0\" fill=\"#ff9da6\" stroke-width=\"1.5\" opacity=\"1\"/></g><g class=\"mark-text role-legend-label\" pointer-events=\"none\"><text text-anchor=\"start\" transform=\"translate(16,9)\" font-family=\"sans-serif\" font-size=\"10px\" fill=\"#000\" opacity=\"1\">x37</text></g></g><path class=\"foreground\" aria-hidden=\"true\" d=\"\" pointer-events=\"none\" display=\"none\"/></g><g transform=\"translate(0,104)\"><path class=\"background\" aria-hidden=\"true\" d=\"M0,0h41v11h-41Z\" pointer-events=\"none\" opacity=\"1\"/><g><g class=\"mark-symbol role-legend-symbol\" pointer-events=\"none\"><path transform=\"translate(6,6)\" d=\"M5,0A5,5,0,1,1,-5,0A5,5,0,1,1,5,0\" fill=\"#9d755d\" stroke-width=\"1.5\" opacity=\"1\"/></g><g class=\"mark-text role-legend-label\" pointer-events=\"none\"><text text-anchor=\"start\" transform=\"translate(16,9)\" font-family=\"sans-serif\" font-size=\"10px\" fill=\"#000\" opacity=\"1\">x48</text></g></g><path class=\"foreground\" aria-hidden=\"true\" d=\"\" pointer-events=\"none\" display=\"none\"/></g></g></g><path class=\"foreground\" aria-hidden=\"true\" d=\"\" pointer-events=\"none\" display=\"none\"/></g></g><g class=\"mark-text role-legend-title\" pointer-events=\"none\"><text text-anchor=\"start\" transform=\"translate(0,9)\" font-family=\"sans-serif\" font-size=\"11px\" font-weight=\"bold\" fill=\"#000\" opacity=\"1\">variable</text></g></g><path class=\"foreground\" aria-hidden=\"true\" d=\"\" pointer-events=\"none\" display=\"none\"/></g></g></g><path class=\"foreground\" aria-hidden=\"true\" d=\"\" display=\"none\"/></g></g></g></svg>\n"
      ],
      "text/plain": [
       "@vlplot(\n",
       "    legend=\"sNames\",\n",
       "    mark=\"area\",\n",
       "    encoding={\n",
       "        x={\n",
       "            field=\"year\"\n",
       "        },\n",
       "        y={\n",
       "            stack=\"zero\",\n",
       "            title=\"Fraction\",\n",
       "            field=\"value\"\n",
       "        },\n",
       "        color={\n",
       "            field=\"variable\",\n",
       "            type=\"nominal\"\n",
       "        }\n",
       "    },\n",
       "    data={\n",
       "        values=...\n",
       "    }\n",
       ")"
      ]
     },
     "execution_count": 57,
     "metadata": {},
     "output_type": "execute_result"
    }
   ],
   "source": [
    "if want_save>0\n",
    "    save(\"./result-case-roadmap/compromise-roadmap-\"*output_key*\".svg\", comp)\n",
    "end\n",
    "comp"
   ]
  },
  {
   "cell_type": "code",
   "execution_count": 58,
   "id": "97f64bb9",
   "metadata": {},
   "outputs": [
    {
     "data": {
      "application/vnd.vegalite.v4+json": {
       "data": {
        "values": [
         {
          "value": 0,
          "variable": "x28",
          "year": "2020"
         },
         {
          "value": 0,
          "variable": "x28",
          "year": "2021"
         },
         {
          "value": 0,
          "variable": "x28",
          "year": "2022"
         },
         {
          "value": 0,
          "variable": "x28",
          "year": "2023"
         },
         {
          "value": 0,
          "variable": "x28",
          "year": "2024"
         },
         {
          "value": 0,
          "variable": "x28",
          "year": "2025"
         },
         {
          "value": 0,
          "variable": "x28",
          "year": "2026"
         },
         {
          "value": 0,
          "variable": "x28",
          "year": "2027"
         },
         {
          "value": 0,
          "variable": "x28",
          "year": "2028"
         },
         {
          "value": 0,
          "variable": "x28",
          "year": "2029"
         },
         {
          "value": 0,
          "variable": "x28",
          "year": "2030"
         },
         {
          "value": 0,
          "variable": "x28",
          "year": "2031"
         },
         {
          "value": 0,
          "variable": "x28",
          "year": "2032"
         },
         {
          "value": 0,
          "variable": "x28",
          "year": "2033"
         },
         {
          "value": 0,
          "variable": "x28",
          "year": "2034"
         },
         {
          "value": 100,
          "variable": "x28",
          "year": "2035"
         },
         {
          "value": 100,
          "variable": "x28",
          "year": "2036"
         },
         {
          "value": 100,
          "variable": "x28",
          "year": "2037"
         },
         {
          "value": 100,
          "variable": "x28",
          "year": "2038"
         },
         {
          "value": 100,
          "variable": "x28",
          "year": "2039"
         },
         {
          "value": 0,
          "variable": "x28",
          "year": "2040"
         },
         {
          "value": 0,
          "variable": "x28",
          "year": "2041"
         },
         {
          "value": 0,
          "variable": "x28",
          "year": "2042"
         },
         {
          "value": 0,
          "variable": "x28",
          "year": "2043"
         },
         {
          "value": 0,
          "variable": "x28",
          "year": "2044"
         },
         {
          "value": 79.99085818763277,
          "variable": "x28",
          "year": "2045"
         },
         {
          "value": 79.99085818763277,
          "variable": "x28",
          "year": "2046"
         },
         {
          "value": 79.99085818763277,
          "variable": "x28",
          "year": "2047"
         },
         {
          "value": 79.99085818763277,
          "variable": "x28",
          "year": "2048"
         },
         {
          "value": 79.99085818763277,
          "variable": "x28",
          "year": "2049"
         },
         {
          "value": 0,
          "variable": "x28",
          "year": "2050"
         },
         {
          "value": 0,
          "variable": "x28",
          "year": "2051"
         },
         {
          "value": 0,
          "variable": "x28",
          "year": "2052"
         },
         {
          "value": 0,
          "variable": "x28",
          "year": "2053"
         },
         {
          "value": 0,
          "variable": "x28",
          "year": "2054"
         },
         {
          "value": 0,
          "variable": "x28",
          "year": "2055"
         },
         {
          "value": 0,
          "variable": "x28",
          "year": "2056"
         },
         {
          "value": 0,
          "variable": "x28",
          "year": "2057"
         },
         {
          "value": 0,
          "variable": "x28",
          "year": "2058"
         },
         {
          "value": 0,
          "variable": "x28",
          "year": "2059"
         },
         {
          "value": 0,
          "variable": "x28",
          "year": "2060"
         },
         {
          "value": 0,
          "variable": "x30",
          "year": "2020"
         },
         {
          "value": 0,
          "variable": "x30",
          "year": "2021"
         },
         {
          "value": 0,
          "variable": "x30",
          "year": "2022"
         },
         {
          "value": 0,
          "variable": "x30",
          "year": "2023"
         },
         {
          "value": 0,
          "variable": "x30",
          "year": "2024"
         },
         {
          "value": 0,
          "variable": "x30",
          "year": "2025"
         },
         {
          "value": 0,
          "variable": "x30",
          "year": "2026"
         },
         {
          "value": 0,
          "variable": "x30",
          "year": "2027"
         },
         {
          "value": 0,
          "variable": "x30",
          "year": "2028"
         },
         {
          "value": 0,
          "variable": "x30",
          "year": "2029"
         },
         {
          "value": 100,
          "variable": "x30",
          "year": "2030"
         },
         {
          "value": 100,
          "variable": "x30",
          "year": "2031"
         },
         {
          "value": 100,
          "variable": "x30",
          "year": "2032"
         },
         {
          "value": 100,
          "variable": "x30",
          "year": "2033"
         },
         {
          "value": 100,
          "variable": "x30",
          "year": "2034"
         },
         {
          "value": 0,
          "variable": "x30",
          "year": "2035"
         },
         {
          "value": 0,
          "variable": "x30",
          "year": "2036"
         },
         {
          "value": 0,
          "variable": "x30",
          "year": "2037"
         },
         {
          "value": 0,
          "variable": "x30",
          "year": "2038"
         },
         {
          "value": 0,
          "variable": "x30",
          "year": "2039"
         },
         {
          "value": 0,
          "variable": "x30",
          "year": "2040"
         },
         {
          "value": 0,
          "variable": "x30",
          "year": "2041"
         },
         {
          "value": 0,
          "variable": "x30",
          "year": "2042"
         },
         {
          "value": 0,
          "variable": "x30",
          "year": "2043"
         },
         {
          "value": 0,
          "variable": "x30",
          "year": "2044"
         },
         {
          "value": 0,
          "variable": "x30",
          "year": "2045"
         },
         {
          "value": 0,
          "variable": "x30",
          "year": "2046"
         },
         {
          "value": 0,
          "variable": "x30",
          "year": "2047"
         },
         {
          "value": 0,
          "variable": "x30",
          "year": "2048"
         },
         {
          "value": 0,
          "variable": "x30",
          "year": "2049"
         },
         {
          "value": 0,
          "variable": "x30",
          "year": "2050"
         },
         {
          "value": 0,
          "variable": "x30",
          "year": "2051"
         },
         {
          "value": 0,
          "variable": "x30",
          "year": "2052"
         },
         {
          "value": 0,
          "variable": "x30",
          "year": "2053"
         },
         {
          "value": 0,
          "variable": "x30",
          "year": "2054"
         },
         {
          "value": 0,
          "variable": "x30",
          "year": "2055"
         },
         {
          "value": 0,
          "variable": "x30",
          "year": "2056"
         },
         {
          "value": 0,
          "variable": "x30",
          "year": "2057"
         },
         {
          "value": 0,
          "variable": "x30",
          "year": "2058"
         },
         {
          "value": 0,
          "variable": "x30",
          "year": "2059"
         },
         {
          "value": 0,
          "variable": "x30",
          "year": "2060"
         },
         {
          "value": 0,
          "variable": "x34",
          "year": "2020"
         },
         {
          "value": 0,
          "variable": "x34",
          "year": "2021"
         },
         {
          "value": 0,
          "variable": "x34",
          "year": "2022"
         },
         {
          "value": 0,
          "variable": "x34",
          "year": "2023"
         },
         {
          "value": 0,
          "variable": "x34",
          "year": "2024"
         },
         {
          "value": 100,
          "variable": "x34",
          "year": "2025"
         },
         {
          "value": 100,
          "variable": "x34",
          "year": "2026"
         },
         {
          "value": 100,
          "variable": "x34",
          "year": "2027"
         },
         {
          "value": 100,
          "variable": "x34",
          "year": "2028"
         },
         {
          "value": 100,
          "variable": "x34",
          "year": "2029"
         },
         {
          "value": 0,
          "variable": "x34",
          "year": "2030"
         },
         {
          "value": 0,
          "variable": "x34",
          "year": "2031"
         },
         {
          "value": 0,
          "variable": "x34",
          "year": "2032"
         },
         {
          "value": 0,
          "variable": "x34",
          "year": "2033"
         },
         {
          "value": 0,
          "variable": "x34",
          "year": "2034"
         },
         {
          "value": 0,
          "variable": "x34",
          "year": "2035"
         },
         {
          "value": 0,
          "variable": "x34",
          "year": "2036"
         },
         {
          "value": 0,
          "variable": "x34",
          "year": "2037"
         },
         {
          "value": 0,
          "variable": "x34",
          "year": "2038"
         },
         {
          "value": 0,
          "variable": "x34",
          "year": "2039"
         },
         {
          "value": 0,
          "variable": "x34",
          "year": "2040"
         },
         {
          "value": 0,
          "variable": "x34",
          "year": "2041"
         },
         {
          "value": 0,
          "variable": "x34",
          "year": "2042"
         },
         {
          "value": 0,
          "variable": "x34",
          "year": "2043"
         },
         {
          "value": 0,
          "variable": "x34",
          "year": "2044"
         },
         {
          "value": 0,
          "variable": "x34",
          "year": "2045"
         },
         {
          "value": 0,
          "variable": "x34",
          "year": "2046"
         },
         {
          "value": 0,
          "variable": "x34",
          "year": "2047"
         },
         {
          "value": 0,
          "variable": "x34",
          "year": "2048"
         },
         {
          "value": 0,
          "variable": "x34",
          "year": "2049"
         },
         {
          "value": 0,
          "variable": "x34",
          "year": "2050"
         },
         {
          "value": 0,
          "variable": "x34",
          "year": "2051"
         },
         {
          "value": 0,
          "variable": "x34",
          "year": "2052"
         },
         {
          "value": 0,
          "variable": "x34",
          "year": "2053"
         },
         {
          "value": 0,
          "variable": "x34",
          "year": "2054"
         },
         {
          "value": 0,
          "variable": "x34",
          "year": "2055"
         },
         {
          "value": 0,
          "variable": "x34",
          "year": "2056"
         },
         {
          "value": 0,
          "variable": "x34",
          "year": "2057"
         },
         {
          "value": 0,
          "variable": "x34",
          "year": "2058"
         },
         {
          "value": 0,
          "variable": "x34",
          "year": "2059"
         },
         {
          "value": 0,
          "variable": "x34",
          "year": "2060"
         },
         {
          "value": 0,
          "variable": "x37",
          "year": "2020"
         },
         {
          "value": 0,
          "variable": "x37",
          "year": "2021"
         },
         {
          "value": 0,
          "variable": "x37",
          "year": "2022"
         },
         {
          "value": 0,
          "variable": "x37",
          "year": "2023"
         },
         {
          "value": 0,
          "variable": "x37",
          "year": "2024"
         },
         {
          "value": 0,
          "variable": "x37",
          "year": "2025"
         },
         {
          "value": 0,
          "variable": "x37",
          "year": "2026"
         },
         {
          "value": 0,
          "variable": "x37",
          "year": "2027"
         },
         {
          "value": 0,
          "variable": "x37",
          "year": "2028"
         },
         {
          "value": 0,
          "variable": "x37",
          "year": "2029"
         },
         {
          "value": 0,
          "variable": "x37",
          "year": "2030"
         },
         {
          "value": 0,
          "variable": "x37",
          "year": "2031"
         },
         {
          "value": 0,
          "variable": "x37",
          "year": "2032"
         },
         {
          "value": 0,
          "variable": "x37",
          "year": "2033"
         },
         {
          "value": 0,
          "variable": "x37",
          "year": "2034"
         },
         {
          "value": 0,
          "variable": "x37",
          "year": "2035"
         },
         {
          "value": 0,
          "variable": "x37",
          "year": "2036"
         },
         {
          "value": 0,
          "variable": "x37",
          "year": "2037"
         },
         {
          "value": 0,
          "variable": "x37",
          "year": "2038"
         },
         {
          "value": 0,
          "variable": "x37",
          "year": "2039"
         },
         {
          "value": 0,
          "variable": "x37",
          "year": "2040"
         },
         {
          "value": 0,
          "variable": "x37",
          "year": "2041"
         },
         {
          "value": 0,
          "variable": "x37",
          "year": "2042"
         },
         {
          "value": 0,
          "variable": "x37",
          "year": "2043"
         },
         {
          "value": 0,
          "variable": "x37",
          "year": "2044"
         },
         {
          "value": 0,
          "variable": "x37",
          "year": "2045"
         },
         {
          "value": 0,
          "variable": "x37",
          "year": "2046"
         },
         {
          "value": 0,
          "variable": "x37",
          "year": "2047"
         },
         {
          "value": 0,
          "variable": "x37",
          "year": "2048"
         },
         {
          "value": 0,
          "variable": "x37",
          "year": "2049"
         },
         {
          "value": 0,
          "variable": "x37",
          "year": "2050"
         },
         {
          "value": 0,
          "variable": "x37",
          "year": "2051"
         },
         {
          "value": 0,
          "variable": "x37",
          "year": "2052"
         },
         {
          "value": 0,
          "variable": "x37",
          "year": "2053"
         },
         {
          "value": 0,
          "variable": "x37",
          "year": "2054"
         },
         {
          "value": 21.357971637312257,
          "variable": "x37",
          "year": "2055"
         },
         {
          "value": 21.357971637312257,
          "variable": "x37",
          "year": "2056"
         },
         {
          "value": 21.357971637312257,
          "variable": "x37",
          "year": "2057"
         },
         {
          "value": 21.357971637312257,
          "variable": "x37",
          "year": "2058"
         },
         {
          "value": 21.357971637312257,
          "variable": "x37",
          "year": "2059"
         },
         {
          "value": 21.357971637312257,
          "variable": "x37",
          "year": "2060"
         },
         {
          "value": 0,
          "variable": "x48",
          "year": "2020"
         },
         {
          "value": 0,
          "variable": "x48",
          "year": "2021"
         },
         {
          "value": 0,
          "variable": "x48",
          "year": "2022"
         },
         {
          "value": 0,
          "variable": "x48",
          "year": "2023"
         },
         {
          "value": 0,
          "variable": "x48",
          "year": "2024"
         },
         {
          "value": 0,
          "variable": "x48",
          "year": "2025"
         },
         {
          "value": 0,
          "variable": "x48",
          "year": "2026"
         },
         {
          "value": 0,
          "variable": "x48",
          "year": "2027"
         },
         {
          "value": 0,
          "variable": "x48",
          "year": "2028"
         },
         {
          "value": 0,
          "variable": "x48",
          "year": "2029"
         },
         {
          "value": 0,
          "variable": "x48",
          "year": "2030"
         },
         {
          "value": 0,
          "variable": "x48",
          "year": "2031"
         },
         {
          "value": 0,
          "variable": "x48",
          "year": "2032"
         },
         {
          "value": 0,
          "variable": "x48",
          "year": "2033"
         },
         {
          "value": 0,
          "variable": "x48",
          "year": "2034"
         },
         {
          "value": 0,
          "variable": "x48",
          "year": "2035"
         },
         {
          "value": 0,
          "variable": "x48",
          "year": "2036"
         },
         {
          "value": 0,
          "variable": "x48",
          "year": "2037"
         },
         {
          "value": 0,
          "variable": "x48",
          "year": "2038"
         },
         {
          "value": 0,
          "variable": "x48",
          "year": "2039"
         },
         {
          "value": 97.83001808322878,
          "variable": "x48",
          "year": "2040"
         },
         {
          "value": 97.83001808322878,
          "variable": "x48",
          "year": "2041"
         },
         {
          "value": 97.83001808322878,
          "variable": "x48",
          "year": "2042"
         },
         {
          "value": 97.83001808322878,
          "variable": "x48",
          "year": "2043"
         },
         {
          "value": 97.83001808322878,
          "variable": "x48",
          "year": "2044"
         },
         {
          "value": 0,
          "variable": "x48",
          "year": "2045"
         },
         {
          "value": 0,
          "variable": "x48",
          "year": "2046"
         },
         {
          "value": 0,
          "variable": "x48",
          "year": "2047"
         },
         {
          "value": 0,
          "variable": "x48",
          "year": "2048"
         },
         {
          "value": 0,
          "variable": "x48",
          "year": "2049"
         },
         {
          "value": 97.83001808322892,
          "variable": "x48",
          "year": "2050"
         },
         {
          "value": 97.83001808322892,
          "variable": "x48",
          "year": "2051"
         },
         {
          "value": 97.83001808322892,
          "variable": "x48",
          "year": "2052"
         },
         {
          "value": 97.83001808322892,
          "variable": "x48",
          "year": "2053"
         },
         {
          "value": 97.83001808322892,
          "variable": "x48",
          "year": "2054"
         },
         {
          "value": 0,
          "variable": "x48",
          "year": "2055"
         },
         {
          "value": 0,
          "variable": "x48",
          "year": "2056"
         },
         {
          "value": 0,
          "variable": "x48",
          "year": "2057"
         },
         {
          "value": 0,
          "variable": "x48",
          "year": "2058"
         },
         {
          "value": 0,
          "variable": "x48",
          "year": "2059"
         },
         {
          "value": 0,
          "variable": "x48",
          "year": "2060"
         },
         {
          "value": 0,
          "variable": "x158",
          "year": "2020"
         },
         {
          "value": 0,
          "variable": "x158",
          "year": "2021"
         },
         {
          "value": 0,
          "variable": "x158",
          "year": "2022"
         },
         {
          "value": 0,
          "variable": "x158",
          "year": "2023"
         },
         {
          "value": 0,
          "variable": "x158",
          "year": "2024"
         },
         {
          "value": 0,
          "variable": "x158",
          "year": "2025"
         },
         {
          "value": 0,
          "variable": "x158",
          "year": "2026"
         },
         {
          "value": 0,
          "variable": "x158",
          "year": "2027"
         },
         {
          "value": 0,
          "variable": "x158",
          "year": "2028"
         },
         {
          "value": 0,
          "variable": "x158",
          "year": "2029"
         },
         {
          "value": 0,
          "variable": "x158",
          "year": "2030"
         },
         {
          "value": 0,
          "variable": "x158",
          "year": "2031"
         },
         {
          "value": 0,
          "variable": "x158",
          "year": "2032"
         },
         {
          "value": 0,
          "variable": "x158",
          "year": "2033"
         },
         {
          "value": 0,
          "variable": "x158",
          "year": "2034"
         },
         {
          "value": 0,
          "variable": "x158",
          "year": "2035"
         },
         {
          "value": 0,
          "variable": "x158",
          "year": "2036"
         },
         {
          "value": 0,
          "variable": "x158",
          "year": "2037"
         },
         {
          "value": 0,
          "variable": "x158",
          "year": "2038"
         },
         {
          "value": 0,
          "variable": "x158",
          "year": "2039"
         },
         {
          "value": 2.1699819167684264,
          "variable": "x158",
          "year": "2040"
         },
         {
          "value": 2.1699819167684264,
          "variable": "x158",
          "year": "2041"
         },
         {
          "value": 2.1699819167684264,
          "variable": "x158",
          "year": "2042"
         },
         {
          "value": 2.1699819167684264,
          "variable": "x158",
          "year": "2043"
         },
         {
          "value": 2.1699819167684264,
          "variable": "x158",
          "year": "2044"
         },
         {
          "value": 0,
          "variable": "x158",
          "year": "2045"
         },
         {
          "value": 0,
          "variable": "x158",
          "year": "2046"
         },
         {
          "value": 0,
          "variable": "x158",
          "year": "2047"
         },
         {
          "value": 0,
          "variable": "x158",
          "year": "2048"
         },
         {
          "value": 0,
          "variable": "x158",
          "year": "2049"
         },
         {
          "value": 2.16998191677108,
          "variable": "x158",
          "year": "2050"
         },
         {
          "value": 2.16998191677108,
          "variable": "x158",
          "year": "2051"
         },
         {
          "value": 2.16998191677108,
          "variable": "x158",
          "year": "2052"
         },
         {
          "value": 2.16998191677108,
          "variable": "x158",
          "year": "2053"
         },
         {
          "value": 2.16998191677108,
          "variable": "x158",
          "year": "2054"
         },
         {
          "value": 0,
          "variable": "x158",
          "year": "2055"
         },
         {
          "value": 0,
          "variable": "x158",
          "year": "2056"
         },
         {
          "value": 0,
          "variable": "x158",
          "year": "2057"
         },
         {
          "value": 0,
          "variable": "x158",
          "year": "2058"
         },
         {
          "value": 0,
          "variable": "x158",
          "year": "2059"
         },
         {
          "value": 0,
          "variable": "x158",
          "year": "2060"
         },
         {
          "value": 0,
          "variable": "x159",
          "year": "2020"
         },
         {
          "value": 0,
          "variable": "x159",
          "year": "2021"
         },
         {
          "value": 0,
          "variable": "x159",
          "year": "2022"
         },
         {
          "value": 0,
          "variable": "x159",
          "year": "2023"
         },
         {
          "value": 0,
          "variable": "x159",
          "year": "2024"
         },
         {
          "value": 0,
          "variable": "x159",
          "year": "2025"
         },
         {
          "value": 0,
          "variable": "x159",
          "year": "2026"
         },
         {
          "value": 0,
          "variable": "x159",
          "year": "2027"
         },
         {
          "value": 0,
          "variable": "x159",
          "year": "2028"
         },
         {
          "value": 0,
          "variable": "x159",
          "year": "2029"
         },
         {
          "value": 0,
          "variable": "x159",
          "year": "2030"
         },
         {
          "value": 0,
          "variable": "x159",
          "year": "2031"
         },
         {
          "value": 0,
          "variable": "x159",
          "year": "2032"
         },
         {
          "value": 0,
          "variable": "x159",
          "year": "2033"
         },
         {
          "value": 0,
          "variable": "x159",
          "year": "2034"
         },
         {
          "value": 0,
          "variable": "x159",
          "year": "2035"
         },
         {
          "value": 0,
          "variable": "x159",
          "year": "2036"
         },
         {
          "value": 0,
          "variable": "x159",
          "year": "2037"
         },
         {
          "value": 0,
          "variable": "x159",
          "year": "2038"
         },
         {
          "value": 0,
          "variable": "x159",
          "year": "2039"
         },
         {
          "value": 0,
          "variable": "x159",
          "year": "2040"
         },
         {
          "value": 0,
          "variable": "x159",
          "year": "2041"
         },
         {
          "value": 0,
          "variable": "x159",
          "year": "2042"
         },
         {
          "value": 0,
          "variable": "x159",
          "year": "2043"
         },
         {
          "value": 0,
          "variable": "x159",
          "year": "2044"
         },
         {
          "value": 20.009141812367226,
          "variable": "x159",
          "year": "2045"
         },
         {
          "value": 20.009141812367226,
          "variable": "x159",
          "year": "2046"
         },
         {
          "value": 20.009141812367226,
          "variable": "x159",
          "year": "2047"
         },
         {
          "value": 20.009141812367226,
          "variable": "x159",
          "year": "2048"
         },
         {
          "value": 20.009141812367226,
          "variable": "x159",
          "year": "2049"
         },
         {
          "value": 0,
          "variable": "x159",
          "year": "2050"
         },
         {
          "value": 0,
          "variable": "x159",
          "year": "2051"
         },
         {
          "value": 0,
          "variable": "x159",
          "year": "2052"
         },
         {
          "value": 0,
          "variable": "x159",
          "year": "2053"
         },
         {
          "value": 0,
          "variable": "x159",
          "year": "2054"
         },
         {
          "value": 0,
          "variable": "x159",
          "year": "2055"
         },
         {
          "value": 0,
          "variable": "x159",
          "year": "2056"
         },
         {
          "value": 0,
          "variable": "x159",
          "year": "2057"
         },
         {
          "value": 0,
          "variable": "x159",
          "year": "2058"
         },
         {
          "value": 0,
          "variable": "x159",
          "year": "2059"
         },
         {
          "value": 0,
          "variable": "x159",
          "year": "2060"
         },
         {
          "value": 0,
          "variable": "x163",
          "year": "2020"
         },
         {
          "value": 0,
          "variable": "x163",
          "year": "2021"
         },
         {
          "value": 0,
          "variable": "x163",
          "year": "2022"
         },
         {
          "value": 0,
          "variable": "x163",
          "year": "2023"
         },
         {
          "value": 0,
          "variable": "x163",
          "year": "2024"
         },
         {
          "value": 0,
          "variable": "x163",
          "year": "2025"
         },
         {
          "value": 0,
          "variable": "x163",
          "year": "2026"
         },
         {
          "value": 0,
          "variable": "x163",
          "year": "2027"
         },
         {
          "value": 0,
          "variable": "x163",
          "year": "2028"
         },
         {
          "value": 0,
          "variable": "x163",
          "year": "2029"
         },
         {
          "value": 0,
          "variable": "x163",
          "year": "2030"
         },
         {
          "value": 0,
          "variable": "x163",
          "year": "2031"
         },
         {
          "value": 0,
          "variable": "x163",
          "year": "2032"
         },
         {
          "value": 0,
          "variable": "x163",
          "year": "2033"
         },
         {
          "value": 0,
          "variable": "x163",
          "year": "2034"
         },
         {
          "value": 0,
          "variable": "x163",
          "year": "2035"
         },
         {
          "value": 0,
          "variable": "x163",
          "year": "2036"
         },
         {
          "value": 0,
          "variable": "x163",
          "year": "2037"
         },
         {
          "value": 0,
          "variable": "x163",
          "year": "2038"
         },
         {
          "value": 0,
          "variable": "x163",
          "year": "2039"
         },
         {
          "value": 2.8021697444393597e-12,
          "variable": "x163",
          "year": "2040"
         },
         {
          "value": 2.8021697444393597e-12,
          "variable": "x163",
          "year": "2041"
         },
         {
          "value": 2.8021697444393597e-12,
          "variable": "x163",
          "year": "2042"
         },
         {
          "value": 2.8021697444393597e-12,
          "variable": "x163",
          "year": "2043"
         },
         {
          "value": 2.8021697444393597e-12,
          "variable": "x163",
          "year": "2044"
         },
         {
          "value": 0,
          "variable": "x163",
          "year": "2045"
         },
         {
          "value": 0,
          "variable": "x163",
          "year": "2046"
         },
         {
          "value": 0,
          "variable": "x163",
          "year": "2047"
         },
         {
          "value": 0,
          "variable": "x163",
          "year": "2048"
         },
         {
          "value": 0,
          "variable": "x163",
          "year": "2049"
         },
         {
          "value": 0,
          "variable": "x163",
          "year": "2050"
         },
         {
          "value": 0,
          "variable": "x163",
          "year": "2051"
         },
         {
          "value": 0,
          "variable": "x163",
          "year": "2052"
         },
         {
          "value": 0,
          "variable": "x163",
          "year": "2053"
         },
         {
          "value": 0,
          "variable": "x163",
          "year": "2054"
         },
         {
          "value": 78.64202836268774,
          "variable": "x163",
          "year": "2055"
         },
         {
          "value": 78.64202836268774,
          "variable": "x163",
          "year": "2056"
         },
         {
          "value": 78.64202836268774,
          "variable": "x163",
          "year": "2057"
         },
         {
          "value": 78.64202836268774,
          "variable": "x163",
          "year": "2058"
         },
         {
          "value": 78.64202836268774,
          "variable": "x163",
          "year": "2059"
         },
         {
          "value": 78.64202836268774,
          "variable": "x163",
          "year": "2060"
         },
         {
          "value": 100,
          "variable": "Conv",
          "year": "2020"
         },
         {
          "value": 100,
          "variable": "Conv",
          "year": "2021"
         },
         {
          "value": 100,
          "variable": "Conv",
          "year": "2022"
         },
         {
          "value": 100,
          "variable": "Conv",
          "year": "2023"
         },
         {
          "value": 100,
          "variable": "Conv",
          "year": "2024"
         },
         {
          "value": 0,
          "variable": "Conv",
          "year": "2025"
         },
         {
          "value": 0,
          "variable": "Conv",
          "year": "2026"
         },
         {
          "value": 0,
          "variable": "Conv",
          "year": "2027"
         },
         {
          "value": 0,
          "variable": "Conv",
          "year": "2028"
         },
         {
          "value": 0,
          "variable": "Conv",
          "year": "2029"
         },
         {
          "value": 0,
          "variable": "Conv",
          "year": "2030"
         },
         {
          "value": 0,
          "variable": "Conv",
          "year": "2031"
         },
         {
          "value": 0,
          "variable": "Conv",
          "year": "2032"
         },
         {
          "value": 0,
          "variable": "Conv",
          "year": "2033"
         },
         {
          "value": 0,
          "variable": "Conv",
          "year": "2034"
         },
         {
          "value": 0,
          "variable": "Conv",
          "year": "2035"
         },
         {
          "value": 0,
          "variable": "Conv",
          "year": "2036"
         },
         {
          "value": 0,
          "variable": "Conv",
          "year": "2037"
         },
         {
          "value": 0,
          "variable": "Conv",
          "year": "2038"
         },
         {
          "value": 0,
          "variable": "Conv",
          "year": "2039"
         },
         {
          "value": 0,
          "variable": "Conv",
          "year": "2040"
         },
         {
          "value": 0,
          "variable": "Conv",
          "year": "2041"
         },
         {
          "value": 0,
          "variable": "Conv",
          "year": "2042"
         },
         {
          "value": 0,
          "variable": "Conv",
          "year": "2043"
         },
         {
          "value": 0,
          "variable": "Conv",
          "year": "2044"
         },
         {
          "value": 0,
          "variable": "Conv",
          "year": "2045"
         },
         {
          "value": 0,
          "variable": "Conv",
          "year": "2046"
         },
         {
          "value": 0,
          "variable": "Conv",
          "year": "2047"
         },
         {
          "value": 0,
          "variable": "Conv",
          "year": "2048"
         },
         {
          "value": 0,
          "variable": "Conv",
          "year": "2049"
         },
         {
          "value": 0,
          "variable": "Conv",
          "year": "2050"
         },
         {
          "value": 0,
          "variable": "Conv",
          "year": "2051"
         },
         {
          "value": 0,
          "variable": "Conv",
          "year": "2052"
         },
         {
          "value": 0,
          "variable": "Conv",
          "year": "2053"
         },
         {
          "value": 0,
          "variable": "Conv",
          "year": "2054"
         },
         {
          "value": 0,
          "variable": "Conv",
          "year": "2055"
         },
         {
          "value": 0,
          "variable": "Conv",
          "year": "2056"
         },
         {
          "value": 0,
          "variable": "Conv",
          "year": "2057"
         },
         {
          "value": 0,
          "variable": "Conv",
          "year": "2058"
         },
         {
          "value": 0,
          "variable": "Conv",
          "year": "2059"
         },
         {
          "value": 0,
          "variable": "Conv",
          "year": "2060"
         }
        ]
       },
       "encoding": {
        "color": {
         "field": "variable",
         "type": "nominal"
        },
        "x": {
         "field": "year"
        },
        "y": {
         "field": "value",
         "stack": "zero",
         "title": "Value-chain adopted (%)",
         "type": "quantitative"
        }
       },
       "legend": "sNames",
       "mark": "area"
      },
      "image/png": "[encoded data removed]",
      "image/svg+xml": [
       "<?xml version=\"1.0\" encoding=\"utf-8\"?>\n",
       "<!DOCTYPE svg PUBLIC \"-//W3C//DTD SVG 1.1//EN\" \"http://www.w3.org/Graphics/SVG/1.1/DTD/svg11.dtd\">\n",
       "<svg xmlns=\"http://www.w3.org/2000/svg\" xmlns:xlink=\"http://www.w3.org/1999/xlink\" version=\"1.1\" class=\"marks\" width=\"937\" height=\"261\" viewBox=\"0 0 937 261\"><rect width=\"937\" height=\"261\" fill=\"white\"/><g fill=\"none\" stroke-miterlimit=\"10\" transform=\"translate(45,10)\"><g class=\"mark-group role-frame root\" role=\"graphics-object\" aria-roledescription=\"group mark container\"><g transform=\"translate(0,0)\"><path class=\"background\" aria-hidden=\"true\" d=\"M0.5,0.5h820v200h-820Z\" stroke=\"#ddd\"/><g><g class=\"mark-group role-axis\" aria-hidden=\"true\"><g transform=\"translate(0.5,0.5)\"><path class=\"background\" aria-hidden=\"true\" d=\"M0,0h0v0h0Z\" pointer-events=\"none\"/><g><g class=\"mark-rule role-axis-grid\" pointer-events=\"none\"><line transform=\"translate(0,200)\" x2=\"820\" y2=\"0\" stroke=\"#ddd\" stroke-width=\"1\" opacity=\"1\"/><line transform=\"translate(0,160)\" x2=\"820\" y2=\"0\" stroke=\"#ddd\" stroke-width=\"1\" opacity=\"1\"/><line transform=\"translate(0,120)\" x2=\"820\" y2=\"0\" stroke=\"#ddd\" stroke-width=\"1\" opacity=\"1\"/><line transform=\"translate(0,80)\" x2=\"820\" y2=\"0\" stroke=\"#ddd\" stroke-width=\"1\" opacity=\"1\"/><line transform=\"translate(0,40)\" x2=\"820\" y2=\"0\" stroke=\"#ddd\" stroke-width=\"1\" opacity=\"1\"/><line transform=\"translate(0,0)\" x2=\"820\" y2=\"0\" stroke=\"#ddd\" stroke-width=\"1\" opacity=\"1\"/></g></g><path class=\"foreground\" aria-hidden=\"true\" d=\"\" pointer-events=\"none\" display=\"none\"/></g></g><g class=\"mark-group role-axis\" role=\"graphics-symbol\" aria-roledescription=\"axis\" aria-label=\"X-axis titled 'year' for a discrete scale with 41 values: 2020, 2021, 2022, 2023, 2024, ending with 2060\"><g transform=\"translate(0.5,200.5)\"><path class=\"background\" aria-hidden=\"true\" d=\"M0,0h0v0h0Z\" pointer-events=\"none\"/><g><g class=\"mark-rule role-axis-tick\" pointer-events=\"none\"><line transform=\"translate(10,0)\" x2=\"0\" y2=\"5\" stroke=\"#888\" stroke-width=\"1\" opacity=\"1\"/><line transform=\"translate(30,0)\" x2=\"0\" y2=\"5\" stroke=\"#888\" stroke-width=\"1\" opacity=\"1\"/><line transform=\"translate(50,0)\" x2=\"0\" y2=\"5\" stroke=\"#888\" stroke-width=\"1\" opacity=\"1\"/><line transform=\"translate(70,0)\" x2=\"0\" y2=\"5\" stroke=\"#888\" stroke-width=\"1\" opacity=\"1\"/><line transform=\"translate(90,0)\" x2=\"0\" y2=\"5\" stroke=\"#888\" stroke-width=\"1\" opacity=\"1\"/><line transform=\"translate(110,0)\" x2=\"0\" y2=\"5\" stroke=\"#888\" stroke-width=\"1\" opacity=\"1\"/><line transform=\"translate(130,0)\" x2=\"0\" y2=\"5\" stroke=\"#888\" stroke-width=\"1\" opacity=\"1\"/><line transform=\"translate(150,0)\" x2=\"0\" y2=\"5\" stroke=\"#888\" stroke-width=\"1\" opacity=\"1\"/><line transform=\"translate(170,0)\" x2=\"0\" y2=\"5\" stroke=\"#888\" stroke-width=\"1\" opacity=\"1\"/><line transform=\"translate(190,0)\" x2=\"0\" y2=\"5\" stroke=\"#888\" stroke-width=\"1\" opacity=\"1\"/><line transform=\"translate(210,0)\" x2=\"0\" y2=\"5\" stroke=\"#888\" stroke-width=\"1\" opacity=\"1\"/><line transform=\"translate(230,0)\" x2=\"0\" y2=\"5\" stroke=\"#888\" stroke-width=\"1\" opacity=\"1\"/><line transform=\"translate(250,0)\" x2=\"0\" y2=\"5\" stroke=\"#888\" stroke-width=\"1\" opacity=\"1\"/><line transform=\"translate(270,0)\" x2=\"0\" y2=\"5\" stroke=\"#888\" stroke-width=\"1\" opacity=\"1\"/><line transform=\"translate(290,0)\" x2=\"0\" y2=\"5\" stroke=\"#888\" stroke-width=\"1\" opacity=\"1\"/><line transform=\"translate(310,0)\" x2=\"0\" y2=\"5\" stroke=\"#888\" stroke-width=\"1\" opacity=\"1\"/><line transform=\"translate(330,0)\" x2=\"0\" y2=\"5\" stroke=\"#888\" stroke-width=\"1\" opacity=\"1\"/><line transform=\"translate(350,0)\" x2=\"0\" y2=\"5\" stroke=\"#888\" stroke-width=\"1\" opacity=\"1\"/><line transform=\"translate(370,0)\" x2=\"0\" y2=\"5\" stroke=\"#888\" stroke-width=\"1\" opacity=\"1\"/><line transform=\"translate(390,0)\" x2=\"0\" y2=\"5\" stroke=\"#888\" stroke-width=\"1\" opacity=\"1\"/><line transform=\"translate(410,0)\" x2=\"0\" y2=\"5\" stroke=\"#888\" stroke-width=\"1\" opacity=\"1\"/><line transform=\"translate(430,0)\" x2=\"0\" y2=\"5\" stroke=\"#888\" stroke-width=\"1\" opacity=\"1\"/><line transform=\"translate(450,0)\" x2=\"0\" y2=\"5\" stroke=\"#888\" stroke-width=\"1\" opacity=\"1\"/><line transform=\"translate(470,0)\" x2=\"0\" y2=\"5\" stroke=\"#888\" stroke-width=\"1\" opacity=\"1\"/><line transform=\"translate(490,0)\" x2=\"0\" y2=\"5\" stroke=\"#888\" stroke-width=\"1\" opacity=\"1\"/><line transform=\"translate(510,0)\" x2=\"0\" y2=\"5\" stroke=\"#888\" stroke-width=\"1\" opacity=\"1\"/><line transform=\"translate(530,0)\" x2=\"0\" y2=\"5\" stroke=\"#888\" stroke-width=\"1\" opacity=\"1\"/><line transform=\"translate(550,0)\" x2=\"0\" y2=\"5\" stroke=\"#888\" stroke-width=\"1\" opacity=\"1\"/><line transform=\"translate(570,0)\" x2=\"0\" y2=\"5\" stroke=\"#888\" stroke-width=\"1\" opacity=\"1\"/><line transform=\"translate(590,0)\" x2=\"0\" y2=\"5\" stroke=\"#888\" stroke-width=\"1\" opacity=\"1\"/><line transform=\"translate(610,0)\" x2=\"0\" y2=\"5\" stroke=\"#888\" stroke-width=\"1\" opacity=\"1\"/><line transform=\"translate(630,0)\" x2=\"0\" y2=\"5\" stroke=\"#888\" stroke-width=\"1\" opacity=\"1\"/><line transform=\"translate(650,0)\" x2=\"0\" y2=\"5\" stroke=\"#888\" stroke-width=\"1\" opacity=\"1\"/><line transform=\"translate(670,0)\" x2=\"0\" y2=\"5\" stroke=\"#888\" stroke-width=\"1\" opacity=\"1\"/><line transform=\"translate(690,0)\" x2=\"0\" y2=\"5\" stroke=\"#888\" stroke-width=\"1\" opacity=\"1\"/><line transform=\"translate(710,0)\" x2=\"0\" y2=\"5\" stroke=\"#888\" stroke-width=\"1\" opacity=\"1\"/><line transform=\"translate(730,0)\" x2=\"0\" y2=\"5\" stroke=\"#888\" stroke-width=\"1\" opacity=\"1\"/><line transform=\"translate(750,0)\" x2=\"0\" y2=\"5\" stroke=\"#888\" stroke-width=\"1\" opacity=\"1\"/><line transform=\"translate(770,0)\" x2=\"0\" y2=\"5\" stroke=\"#888\" stroke-width=\"1\" opacity=\"1\"/><line transform=\"translate(790,0)\" x2=\"0\" y2=\"5\" stroke=\"#888\" stroke-width=\"1\" opacity=\"1\"/><line transform=\"translate(810,0)\" x2=\"0\" y2=\"5\" stroke=\"#888\" stroke-width=\"1\" opacity=\"1\"/></g><g class=\"mark-text role-axis-label\" pointer-events=\"none\"><text text-anchor=\"end\" transform=\"translate(10,7) rotate(270) translate(0,3)\" font-family=\"sans-serif\" font-size=\"10px\" fill=\"#000\" opacity=\"1\">2020</text><text text-anchor=\"end\" transform=\"translate(30,7) rotate(270) translate(0,3)\" font-family=\"sans-serif\" font-size=\"10px\" fill=\"#000\" opacity=\"1\">2021</text><text text-anchor=\"end\" transform=\"translate(50,7) rotate(270) translate(0,3)\" font-family=\"sans-serif\" font-size=\"10px\" fill=\"#000\" opacity=\"1\">2022</text><text text-anchor=\"end\" transform=\"translate(70,7) rotate(270) translate(0,3)\" font-family=\"sans-serif\" font-size=\"10px\" fill=\"#000\" opacity=\"1\">2023</text><text text-anchor=\"end\" transform=\"translate(90,7) rotate(270) translate(0,3)\" font-family=\"sans-serif\" font-size=\"10px\" fill=\"#000\" opacity=\"1\">2024</text><text text-anchor=\"end\" transform=\"translate(110,7) rotate(270) translate(0,3)\" font-family=\"sans-serif\" font-size=\"10px\" fill=\"#000\" opacity=\"1\">2025</text><text text-anchor=\"end\" transform=\"translate(130,7) rotate(270) translate(0,3)\" font-family=\"sans-serif\" font-size=\"10px\" fill=\"#000\" opacity=\"1\">2026</text><text text-anchor=\"end\" transform=\"translate(150,7) rotate(270) translate(0,3)\" font-family=\"sans-serif\" font-size=\"10px\" fill=\"#000\" opacity=\"1\">2027</text><text text-anchor=\"end\" transform=\"translate(170,7) rotate(270) translate(0,3)\" font-family=\"sans-serif\" font-size=\"10px\" fill=\"#000\" opacity=\"1\">2028</text><text text-anchor=\"end\" transform=\"translate(190,7) rotate(270) translate(0,3)\" font-family=\"sans-serif\" font-size=\"10px\" fill=\"#000\" opacity=\"1\">2029</text><text text-anchor=\"end\" transform=\"translate(210,7) rotate(270) translate(0,3)\" font-family=\"sans-serif\" font-size=\"10px\" fill=\"#000\" opacity=\"1\">2030</text><text text-anchor=\"end\" transform=\"translate(230,7) rotate(270) translate(0,3)\" font-family=\"sans-serif\" font-size=\"10px\" fill=\"#000\" opacity=\"1\">2031</text><text text-anchor=\"end\" transform=\"translate(250,7) rotate(270) translate(0,3)\" font-family=\"sans-serif\" font-size=\"10px\" fill=\"#000\" opacity=\"1\">2032</text><text text-anchor=\"end\" transform=\"translate(270,7) rotate(270) translate(0,3)\" font-family=\"sans-serif\" font-size=\"10px\" fill=\"#000\" opacity=\"1\">2033</text><text text-anchor=\"end\" transform=\"translate(290,7) rotate(270) translate(0,3)\" font-family=\"sans-serif\" font-size=\"10px\" fill=\"#000\" opacity=\"1\">2034</text><text text-anchor=\"end\" transform=\"translate(310,7) rotate(270) translate(0,3)\" font-family=\"sans-serif\" font-size=\"10px\" fill=\"#000\" opacity=\"1\">2035</text><text text-anchor=\"end\" transform=\"translate(330,7) rotate(270) translate(0,3)\" font-family=\"sans-serif\" font-size=\"10px\" fill=\"#000\" opacity=\"1\">2036</text><text text-anchor=\"end\" transform=\"translate(350,7) rotate(270) translate(0,3)\" font-family=\"sans-serif\" font-size=\"10px\" fill=\"#000\" opacity=\"1\">2037</text><text text-anchor=\"end\" transform=\"translate(370,7) rotate(270) translate(0,3)\" font-family=\"sans-serif\" font-size=\"10px\" fill=\"#000\" opacity=\"1\">2038</text><text text-anchor=\"end\" transform=\"translate(390,7) rotate(270) translate(0,3)\" font-family=\"sans-serif\" font-size=\"10px\" fill=\"#000\" opacity=\"1\">2039</text><text text-anchor=\"end\" transform=\"translate(410,7) rotate(270) translate(0,3)\" font-family=\"sans-serif\" font-size=\"10px\" fill=\"#000\" opacity=\"1\">2040</text><text text-anchor=\"end\" transform=\"translate(430,7) rotate(270) translate(0,3)\" font-family=\"sans-serif\" font-size=\"10px\" fill=\"#000\" opacity=\"1\">2041</text><text text-anchor=\"end\" transform=\"translate(450,7) rotate(270) translate(0,3)\" font-family=\"sans-serif\" font-size=\"10px\" fill=\"#000\" opacity=\"1\">2042</text><text text-anchor=\"end\" transform=\"translate(470,7) rotate(270) translate(0,3)\" font-family=\"sans-serif\" font-size=\"10px\" fill=\"#000\" opacity=\"1\">2043</text><text text-anchor=\"end\" transform=\"translate(490,7) rotate(270) translate(0,3)\" font-family=\"sans-serif\" font-size=\"10px\" fill=\"#000\" opacity=\"1\">2044</text><text text-anchor=\"end\" transform=\"translate(510,7) rotate(270) translate(0,3)\" font-family=\"sans-serif\" font-size=\"10px\" fill=\"#000\" opacity=\"1\">2045</text><text text-anchor=\"end\" transform=\"translate(530,7) rotate(270) translate(0,3)\" font-family=\"sans-serif\" font-size=\"10px\" fill=\"#000\" opacity=\"1\">2046</text><text text-anchor=\"end\" transform=\"translate(550,7) rotate(270) translate(0,3)\" font-family=\"sans-serif\" font-size=\"10px\" fill=\"#000\" opacity=\"1\">2047</text><text text-anchor=\"end\" transform=\"translate(570,7) rotate(270) translate(0,3)\" font-family=\"sans-serif\" font-size=\"10px\" fill=\"#000\" opacity=\"1\">2048</text><text text-anchor=\"end\" transform=\"translate(590,7) rotate(270) translate(0,3)\" font-family=\"sans-serif\" font-size=\"10px\" fill=\"#000\" opacity=\"1\">2049</text><text text-anchor=\"end\" transform=\"translate(610,7) rotate(270) translate(0,3)\" font-family=\"sans-serif\" font-size=\"10px\" fill=\"#000\" opacity=\"1\">2050</text><text text-anchor=\"end\" transform=\"translate(630,7) rotate(270) translate(0,3)\" font-family=\"sans-serif\" font-size=\"10px\" fill=\"#000\" opacity=\"1\">2051</text><text text-anchor=\"end\" transform=\"translate(650,7) rotate(270) translate(0,3)\" font-family=\"sans-serif\" font-size=\"10px\" fill=\"#000\" opacity=\"1\">2052</text><text text-anchor=\"end\" transform=\"translate(670,7) rotate(270) translate(0,3)\" font-family=\"sans-serif\" font-size=\"10px\" fill=\"#000\" opacity=\"1\">2053</text><text text-anchor=\"end\" transform=\"translate(690,7) rotate(270) translate(0,3)\" font-family=\"sans-serif\" font-size=\"10px\" fill=\"#000\" opacity=\"1\">2054</text><text text-anchor=\"end\" transform=\"translate(710,7) rotate(270) translate(0,3)\" font-family=\"sans-serif\" font-size=\"10px\" fill=\"#000\" opacity=\"1\">2055</text><text text-anchor=\"end\" transform=\"translate(730,7) rotate(270) translate(0,3)\" font-family=\"sans-serif\" font-size=\"10px\" fill=\"#000\" opacity=\"1\">2056</text><text text-anchor=\"end\" transform=\"translate(750,7) rotate(270) translate(0,3)\" font-family=\"sans-serif\" font-size=\"10px\" fill=\"#000\" opacity=\"1\">2057</text><text text-anchor=\"end\" transform=\"translate(770,7) rotate(270) translate(0,3)\" font-family=\"sans-serif\" font-size=\"10px\" fill=\"#000\" opacity=\"1\">2058</text><text text-anchor=\"end\" transform=\"translate(790,7) rotate(270) translate(0,3)\" font-family=\"sans-serif\" font-size=\"10px\" fill=\"#000\" opacity=\"1\">2059</text><text text-anchor=\"end\" transform=\"translate(810,7) rotate(270) translate(0,3)\" font-family=\"sans-serif\" font-size=\"10px\" fill=\"#000\" opacity=\"1\">2060</text></g><g class=\"mark-rule role-axis-domain\" pointer-events=\"none\"><line transform=\"translate(0,0)\" x2=\"820\" y2=\"0\" stroke=\"#888\" stroke-width=\"1\" opacity=\"1\"/></g><g class=\"mark-text role-axis-title\" pointer-events=\"none\"><text text-anchor=\"middle\" transform=\"translate(410,44)\" font-family=\"sans-serif\" font-size=\"11px\" font-weight=\"bold\" fill=\"#000\" opacity=\"1\">year</text></g></g><path class=\"foreground\" aria-hidden=\"true\" d=\"\" pointer-events=\"none\" display=\"none\"/></g></g><g class=\"mark-group role-axis\" role=\"graphics-symbol\" aria-roledescription=\"axis\" aria-label=\"Y-axis titled 'Value-chain adopted (%)' for a linear scale with values from 0 to 100\"><g transform=\"translate(0.5,0.5)\"><path class=\"background\" aria-hidden=\"true\" d=\"M0,0h0v0h0Z\" pointer-events=\"none\"/><g><g class=\"mark-rule role-axis-tick\" pointer-events=\"none\"><line transform=\"translate(0,200)\" x2=\"-5\" y2=\"0\" stroke=\"#888\" stroke-width=\"1\" opacity=\"1\"/><line transform=\"translate(0,160)\" x2=\"-5\" y2=\"0\" stroke=\"#888\" stroke-width=\"1\" opacity=\"1\"/><line transform=\"translate(0,120)\" x2=\"-5\" y2=\"0\" stroke=\"#888\" stroke-width=\"1\" opacity=\"1\"/><line transform=\"translate(0,80)\" x2=\"-5\" y2=\"0\" stroke=\"#888\" stroke-width=\"1\" opacity=\"1\"/><line transform=\"translate(0,40)\" x2=\"-5\" y2=\"0\" stroke=\"#888\" stroke-width=\"1\" opacity=\"1\"/><line transform=\"translate(0,0)\" x2=\"-5\" y2=\"0\" stroke=\"#888\" stroke-width=\"1\" opacity=\"1\"/></g><g class=\"mark-text role-axis-label\" pointer-events=\"none\"><text text-anchor=\"end\" transform=\"translate(-7,203)\" font-family=\"sans-serif\" font-size=\"10px\" fill=\"#000\" opacity=\"1\">0</text><text text-anchor=\"end\" transform=\"translate(-7,163)\" font-family=\"sans-serif\" font-size=\"10px\" fill=\"#000\" opacity=\"1\">20</text><text text-anchor=\"end\" transform=\"translate(-7,123)\" font-family=\"sans-serif\" font-size=\"10px\" fill=\"#000\" opacity=\"1\">40</text><text text-anchor=\"end\" transform=\"translate(-7,83)\" font-family=\"sans-serif\" font-size=\"10px\" fill=\"#000\" opacity=\"1\">60</text><text text-anchor=\"end\" transform=\"translate(-7,42.99999999999999)\" font-family=\"sans-serif\" font-size=\"10px\" fill=\"#000\" opacity=\"1\">80</text><text text-anchor=\"end\" transform=\"translate(-7,3)\" font-family=\"sans-serif\" font-size=\"10px\" fill=\"#000\" opacity=\"1\">100</text></g><g class=\"mark-rule role-axis-domain\" pointer-events=\"none\"><line transform=\"translate(0,200)\" x2=\"0\" y2=\"-200\" stroke=\"#888\" stroke-width=\"1\" opacity=\"1\"/></g><g class=\"mark-text role-axis-title\" pointer-events=\"none\"><text text-anchor=\"middle\" transform=\"translate(-29,100) rotate(-90) translate(0,-2)\" font-family=\"sans-serif\" font-size=\"11px\" font-weight=\"bold\" fill=\"#000\" opacity=\"1\">Value-chain adopted (%)</text></g></g><path class=\"foreground\" aria-hidden=\"true\" d=\"\" pointer-events=\"none\" display=\"none\"/></g></g><g class=\"mark-group role-scope pathgroup\" role=\"graphics-object\" aria-roledescription=\"group mark container\"><g transform=\"translate(0,0)\"><path class=\"background\" aria-hidden=\"true\" d=\"M0,0h820v200h-820Z\"/><g><g class=\"mark-area role-mark marks\" role=\"graphics-object\" aria-roledescription=\"area mark container\"><path aria-label=\"year: 2020; Value-chain adopted (%): 0; variable: x28\" role=\"graphics-symbol\" aria-roledescription=\"area mark\" d=\"M10,200L30,200L50,200L70,200L90,200L110,0L130,0L150,0L170,0L190,0L210,0L230,0L250,0L270,0L290,0L310,0L330,0L350,0L370,0L390,0L410,4.339963833542448L430,4.339963833542448L450,4.339963833542448L470,4.339963833542448L490,4.339963833542448L510,40.01828362473447L530,40.01828362473447L550,40.01828362473447L570,40.01828362473447L590,40.01828362473447L610,4.33996383354216L630,4.33996383354216L650,4.33996383354216L670,4.33996383354216L690,4.33996383354216L710,157.28405672537548L730,157.28405672537548L750,157.28405672537548L770,157.28405672537548L790,157.28405672537548L810,157.28405672537548L810,157.28405672537548L790,157.28405672537548L770,157.28405672537548L750,157.28405672537548L730,157.28405672537548L710,157.28405672537548L690,4.33996383354216L670,4.33996383354216L650,4.33996383354216L630,4.33996383354216L610,4.33996383354216L590,200L570,200L550,200L530,200L510,200L490,4.339963833542448L470,4.339963833542448L450,4.339963833542448L430,4.339963833542448L410,4.339963833542448L390,200L370,200L350,200L330,200L310,200L290,0L270,0L250,0L230,0L210,0L190,0L170,0L150,0L130,0L110,0L90,200L70,200L50,200L30,200L10,200Z\" fill=\"#54a24b\"/></g></g><path class=\"foreground\" aria-hidden=\"true\" d=\"\" display=\"none\"/></g><g transform=\"translate(0,0)\"><path class=\"background\" aria-hidden=\"true\" d=\"M0,0h820v200h-820Z\"/><g><g class=\"mark-area role-mark marks\" role=\"graphics-object\" aria-roledescription=\"area mark container\"><path aria-label=\"year: 2020; Value-chain adopted (%): 0; variable: x30\" role=\"graphics-symbol\" aria-roledescription=\"area mark\" d=\"M10,200L30,200L50,200L70,200L90,200L110,0L130,0L150,0L170,0L190,0L210,0L230,0L250,0L270,0L290,0L310,200L330,200L350,200L370,200L390,200L410,4.339963833542448L430,4.339963833542448L450,4.339963833542448L470,4.339963833542448L490,4.339963833542448L510,200L530,200L550,200L570,200L590,200L610,4.33996383354216L630,4.33996383354216L650,4.33996383354216L670,4.33996383354216L690,4.33996383354216L710,157.28405672537548L730,157.28405672537548L750,157.28405672537548L770,157.28405672537548L790,157.28405672537548L810,157.28405672537548L810,157.28405672537548L790,157.28405672537548L770,157.28405672537548L750,157.28405672537548L730,157.28405672537548L710,157.28405672537548L690,4.33996383354216L670,4.33996383354216L650,4.33996383354216L630,4.33996383354216L610,4.33996383354216L590,200L570,200L550,200L530,200L510,200L490,4.339963833542448L470,4.339963833542448L450,4.339963833542448L430,4.339963833542448L410,4.339963833542448L390,200L370,200L350,200L330,200L310,200L290,200L270,200L250,200L230,200L210,200L190,0L170,0L150,0L130,0L110,0L90,200L70,200L50,200L30,200L10,200Z\" fill=\"#eeca3b\"/></g></g><path class=\"foreground\" aria-hidden=\"true\" d=\"\" display=\"none\"/></g><g transform=\"translate(0,0)\"><path class=\"background\" aria-hidden=\"true\" d=\"M0,0h820v200h-820Z\"/><g><g class=\"mark-area role-mark marks\" role=\"graphics-object\" aria-roledescription=\"area mark container\"><path aria-label=\"year: 2020; Value-chain adopted (%): 0; variable: x34\" role=\"graphics-symbol\" aria-roledescription=\"area mark\" d=\"M10,200L30,200L50,200L70,200L90,200L110,0L130,0L150,0L170,0L190,0L210,200L230,200L250,200L270,200L290,200L310,200L330,200L350,200L370,200L390,200L410,4.339963833542448L430,4.339963833542448L450,4.339963833542448L470,4.339963833542448L490,4.339963833542448L510,200L530,200L550,200L570,200L590,200L610,4.33996383354216L630,4.33996383354216L650,4.33996383354216L670,4.33996383354216L690,4.33996383354216L710,157.28405672537548L730,157.28405672537548L750,157.28405672537548L770,157.28405672537548L790,157.28405672537548L810,157.28405672537548L810,157.28405672537548L790,157.28405672537548L770,157.28405672537548L750,157.28405672537548L730,157.28405672537548L710,157.28405672537548L690,4.33996383354216L670,4.33996383354216L650,4.33996383354216L630,4.33996383354216L610,4.33996383354216L590,200L570,200L550,200L530,200L510,200L490,4.339963833542448L470,4.339963833542448L450,4.339963833542448L430,4.339963833542448L410,4.339963833542448L390,200L370,200L350,200L330,200L310,200L290,200L270,200L250,200L230,200L210,200L190,200L170,200L150,200L130,200L110,200L90,200L70,200L50,200L30,200L10,200Z\" fill=\"#b279a2\"/></g></g><path class=\"foreground\" aria-hidden=\"true\" d=\"\" display=\"none\"/></g><g transform=\"translate(0,0)\"><path class=\"background\" aria-hidden=\"true\" d=\"M0,0h820v200h-820Z\"/><g><g class=\"mark-area role-mark marks\" role=\"graphics-object\" aria-roledescription=\"area mark container\"><path aria-label=\"year: 2020; Value-chain adopted (%): 0; variable: x37\" role=\"graphics-symbol\" aria-roledescription=\"area mark\" d=\"M10,200L30,200L50,200L70,200L90,200L110,200L130,200L150,200L170,200L190,200L210,200L230,200L250,200L270,200L290,200L310,200L330,200L350,200L370,200L390,200L410,4.339963833542448L430,4.339963833542448L450,4.339963833542448L470,4.339963833542448L490,4.339963833542448L510,200L530,200L550,200L570,200L590,200L610,4.33996383354216L630,4.33996383354216L650,4.33996383354216L670,4.33996383354216L690,4.33996383354216L710,157.28405672537548L730,157.28405672537548L750,157.28405672537548L770,157.28405672537548L790,157.28405672537548L810,157.28405672537548L810,200L790,200L770,200L750,200L730,200L710,200L690,4.33996383354216L670,4.33996383354216L650,4.33996383354216L630,4.33996383354216L610,4.33996383354216L590,200L570,200L550,200L530,200L510,200L490,4.339963833542448L470,4.339963833542448L450,4.339963833542448L430,4.339963833542448L410,4.339963833542448L390,200L370,200L350,200L330,200L310,200L290,200L270,200L250,200L230,200L210,200L190,200L170,200L150,200L130,200L110,200L90,200L70,200L50,200L30,200L10,200Z\" fill=\"#ff9da6\"/></g></g><path class=\"foreground\" aria-hidden=\"true\" d=\"\" display=\"none\"/></g><g transform=\"translate(0,0)\"><path class=\"background\" aria-hidden=\"true\" d=\"M0,0h820v200h-820Z\"/><g><g class=\"mark-area role-mark marks\" role=\"graphics-object\" aria-roledescription=\"area mark container\"><path aria-label=\"year: 2020; Value-chain adopted (%): 0; variable: x48\" role=\"graphics-symbol\" aria-roledescription=\"area mark\" d=\"M10,200L30,200L50,200L70,200L90,200L110,200L130,200L150,200L170,200L190,200L210,200L230,200L250,200L270,200L290,200L310,200L330,200L350,200L370,200L390,200L410,4.339963833542448L430,4.339963833542448L450,4.339963833542448L470,4.339963833542448L490,4.339963833542448L510,200L530,200L550,200L570,200L590,200L610,4.33996383354216L630,4.33996383354216L650,4.33996383354216L670,4.33996383354216L690,4.33996383354216L710,200L730,200L750,200L770,200L790,200L810,200L810,200L790,200L770,200L750,200L730,200L710,200L690,200L670,200L650,200L630,200L610,200L590,200L570,200L550,200L530,200L510,200L490,200L470,200L450,200L430,200L410,200L390,200L370,200L350,200L330,200L310,200L290,200L270,200L250,200L230,200L210,200L190,200L170,200L150,200L130,200L110,200L90,200L70,200L50,200L30,200L10,200Z\" fill=\"#9d755d\"/></g></g><path class=\"foreground\" aria-hidden=\"true\" d=\"\" display=\"none\"/></g><g transform=\"translate(0,0)\"><path class=\"background\" aria-hidden=\"true\" d=\"M0,0h820v200h-820Z\"/><g><g class=\"mark-area role-mark marks\" role=\"graphics-object\" aria-roledescription=\"area mark container\"><path aria-label=\"year: 2020; Value-chain adopted (%): 0; variable: x158\" role=\"graphics-symbol\" aria-roledescription=\"area mark\" d=\"M10,200L30,200L50,200L70,200L90,200L110,0L130,0L150,0L170,0L190,0L210,0L230,0L250,0L270,0L290,0L310,0L330,0L350,0L370,0L390,0L410,0L430,0L450,0L470,0L490,0L510,0L530,0L550,0L570,0L590,0L610,0L630,0L650,0L670,0L690,0L710,0L730,0L750,0L770,0L790,0L810,0L810,0L790,0L770,0L750,0L730,0L710,0L690,4.33996383354216L670,4.33996383354216L650,4.33996383354216L630,4.33996383354216L610,4.33996383354216L590,0L570,0L550,0L530,0L510,0L490,4.339963833536853L470,4.339963833536853L450,4.339963833536853L430,4.339963833536853L410,4.339963833536853L390,0L370,0L350,0L330,0L310,0L290,0L270,0L250,0L230,0L210,0L190,0L170,0L150,0L130,0L110,0L90,200L70,200L50,200L30,200L10,200Z\" fill=\"#f58518\"/></g></g><path class=\"foreground\" aria-hidden=\"true\" d=\"\" display=\"none\"/></g><g transform=\"translate(0,0)\"><path class=\"background\" aria-hidden=\"true\" d=\"M0,0h820v200h-820Z\"/><g><g class=\"mark-area role-mark marks\" role=\"graphics-object\" aria-roledescription=\"area mark container\"><path aria-label=\"year: 2020; Value-chain adopted (%): 0; variable: x159\" role=\"graphics-symbol\" aria-roledescription=\"area mark\" d=\"M10,200L30,200L50,200L70,200L90,200L110,0L130,0L150,0L170,0L190,0L210,0L230,0L250,0L270,0L290,0L310,0L330,0L350,0L370,0L390,0L410,4.339963833536853L430,4.339963833536853L450,4.339963833536853L470,4.339963833536853L490,4.339963833536853L510,0L530,0L550,0L570,0L590,0L610,4.33996383354216L630,4.33996383354216L650,4.33996383354216L670,4.33996383354216L690,4.33996383354216L710,0L730,0L750,0L770,0L790,0L810,0L810,0L790,0L770,0L750,0L730,0L710,0L690,4.33996383354216L670,4.33996383354216L650,4.33996383354216L630,4.33996383354216L610,4.33996383354216L590,40.01828362473447L570,40.01828362473447L550,40.01828362473447L530,40.01828362473447L510,40.01828362473447L490,4.339963833536853L470,4.339963833536853L450,4.339963833536853L430,4.339963833536853L410,4.339963833536853L390,0L370,0L350,0L330,0L310,0L290,0L270,0L250,0L230,0L210,0L190,0L170,0L150,0L130,0L110,0L90,200L70,200L50,200L30,200L10,200Z\" fill=\"#e45756\"/></g></g><path class=\"foreground\" aria-hidden=\"true\" d=\"\" display=\"none\"/></g><g transform=\"translate(0,0)\"><path class=\"background\" aria-hidden=\"true\" d=\"M0,0h820v200h-820Z\"/><g><g class=\"mark-area role-mark marks\" role=\"graphics-object\" aria-roledescription=\"area mark container\"><path aria-label=\"year: 2020; Value-chain adopted (%): 0; variable: x163\" role=\"graphics-symbol\" aria-roledescription=\"area mark\" d=\"M10,200L30,200L50,200L70,200L90,200L110,0L130,0L150,0L170,0L190,0L210,0L230,0L250,0L270,0L290,0L310,0L330,0L350,0L370,0L390,0L410,4.339963833536853L430,4.339963833536853L450,4.339963833536853L470,4.339963833536853L490,4.339963833536853L510,40.01828362473447L530,40.01828362473447L550,40.01828362473447L570,40.01828362473447L590,40.01828362473447L610,4.33996383354216L630,4.33996383354216L650,4.33996383354216L670,4.33996383354216L690,4.33996383354216L710,0L730,0L750,0L770,0L790,0L810,0L810,157.28405672537548L790,157.28405672537548L770,157.28405672537548L750,157.28405672537548L730,157.28405672537548L710,157.28405672537548L690,4.33996383354216L670,4.33996383354216L650,4.33996383354216L630,4.33996383354216L610,4.33996383354216L590,40.01828362473447L570,40.01828362473447L550,40.01828362473447L530,40.01828362473447L510,40.01828362473447L490,4.339963833542448L470,4.339963833542448L450,4.339963833542448L430,4.339963833542448L410,4.339963833542448L390,0L370,0L350,0L330,0L310,0L290,0L270,0L250,0L230,0L210,0L190,0L170,0L150,0L130,0L110,0L90,200L70,200L50,200L30,200L10,200Z\" fill=\"#72b7b2\"/></g></g><path class=\"foreground\" aria-hidden=\"true\" d=\"\" display=\"none\"/></g><g transform=\"translate(0,0)\"><path class=\"background\" aria-hidden=\"true\" d=\"M0,0h820v200h-820Z\"/><g><g class=\"mark-area role-mark marks\" role=\"graphics-object\" aria-roledescription=\"area mark container\"><path aria-label=\"year: 2020; Value-chain adopted (%): 100; variable: Conv\" role=\"graphics-symbol\" aria-roledescription=\"area mark\" d=\"M10,0L30,0L50,0L70,0L90,0L110,0L130,0L150,0L170,0L190,0L210,0L230,0L250,0L270,0L290,0L310,0L330,0L350,0L370,0L390,0L410,0L430,0L450,0L470,0L490,0L510,0L530,0L550,0L570,0L590,0L610,0L630,0L650,0L670,0L690,0L710,0L730,0L750,0L770,0L790,0L810,0L810,0L790,0L770,0L750,0L730,0L710,0L690,0L670,0L650,0L630,0L610,0L590,0L570,0L550,0L530,0L510,0L490,0L470,0L450,0L430,0L410,0L390,0L370,0L350,0L330,0L310,0L290,0L270,0L250,0L230,0L210,0L190,0L170,0L150,0L130,0L110,0L90,200L70,200L50,200L30,200L10,200Z\" fill=\"#4c78a8\"/></g></g><path class=\"foreground\" aria-hidden=\"true\" d=\"\" display=\"none\"/></g></g><g class=\"mark-group role-legend\" role=\"graphics-symbol\" aria-roledescription=\"legend\" aria-label=\"Symbol legend titled 'variable' for fill color with 9 values: Conv, x158, x159, x163, x28, ending with x48\"><g transform=\"translate(838,0)\"><path class=\"background\" aria-hidden=\"true\" d=\"M0,0h49v131h-49Z\" pointer-events=\"none\"/><g><g class=\"mark-group role-legend-entry\"><g transform=\"translate(0,16)\"><path class=\"background\" aria-hidden=\"true\" d=\"M0,0h0v0h0Z\" pointer-events=\"none\"/><g><g class=\"mark-group role-scope\" role=\"graphics-object\" aria-roledescription=\"group mark container\"><g transform=\"translate(0,0)\"><path class=\"background\" aria-hidden=\"true\" d=\"M0,0h41v11h-41Z\" pointer-events=\"none\" opacity=\"1\"/><g><g class=\"mark-symbol role-legend-symbol\" pointer-events=\"none\"><path transform=\"translate(6,6)\" d=\"M5,0A5,5,0,1,1,-5,0A5,5,0,1,1,5,0\" fill=\"#4c78a8\" stroke-width=\"1.5\" opacity=\"1\"/></g><g class=\"mark-text role-legend-label\" pointer-events=\"none\"><text text-anchor=\"start\" transform=\"translate(16,9)\" font-family=\"sans-serif\" font-size=\"10px\" fill=\"#000\" opacity=\"1\">Conv</text></g></g><path class=\"foreground\" aria-hidden=\"true\" d=\"\" pointer-events=\"none\" display=\"none\"/></g><g transform=\"translate(0,13)\"><path class=\"background\" aria-hidden=\"true\" d=\"M0,0h41v11h-41Z\" pointer-events=\"none\" opacity=\"1\"/><g><g class=\"mark-symbol role-legend-symbol\" pointer-events=\"none\"><path transform=\"translate(6,6)\" d=\"M5,0A5,5,0,1,1,-5,0A5,5,0,1,1,5,0\" fill=\"#f58518\" stroke-width=\"1.5\" opacity=\"1\"/></g><g class=\"mark-text role-legend-label\" pointer-events=\"none\"><text text-anchor=\"start\" transform=\"translate(16,9)\" font-family=\"sans-serif\" font-size=\"10px\" fill=\"#000\" opacity=\"1\">x158</text></g></g><path class=\"foreground\" aria-hidden=\"true\" d=\"\" pointer-events=\"none\" display=\"none\"/></g><g transform=\"translate(0,26)\"><path class=\"background\" aria-hidden=\"true\" d=\"M0,0h41v11h-41Z\" pointer-events=\"none\" opacity=\"1\"/><g><g class=\"mark-symbol role-legend-symbol\" pointer-events=\"none\"><path transform=\"translate(6,6)\" d=\"M5,0A5,5,0,1,1,-5,0A5,5,0,1,1,5,0\" fill=\"#e45756\" stroke-width=\"1.5\" opacity=\"1\"/></g><g class=\"mark-text role-legend-label\" pointer-events=\"none\"><text text-anchor=\"start\" transform=\"translate(16,9)\" font-family=\"sans-serif\" font-size=\"10px\" fill=\"#000\" opacity=\"1\">x159</text></g></g><path class=\"foreground\" aria-hidden=\"true\" d=\"\" pointer-events=\"none\" display=\"none\"/></g><g transform=\"translate(0,39)\"><path class=\"background\" aria-hidden=\"true\" d=\"M0,0h41v11h-41Z\" pointer-events=\"none\" opacity=\"1\"/><g><g class=\"mark-symbol role-legend-symbol\" pointer-events=\"none\"><path transform=\"translate(6,6)\" d=\"M5,0A5,5,0,1,1,-5,0A5,5,0,1,1,5,0\" fill=\"#72b7b2\" stroke-width=\"1.5\" opacity=\"1\"/></g><g class=\"mark-text role-legend-label\" pointer-events=\"none\"><text text-anchor=\"start\" transform=\"translate(16,9)\" font-family=\"sans-serif\" font-size=\"10px\" fill=\"#000\" opacity=\"1\">x163</text></g></g><path class=\"foreground\" aria-hidden=\"true\" d=\"\" pointer-events=\"none\" display=\"none\"/></g><g transform=\"translate(0,52)\"><path class=\"background\" aria-hidden=\"true\" d=\"M0,0h41v11h-41Z\" pointer-events=\"none\" opacity=\"1\"/><g><g class=\"mark-symbol role-legend-symbol\" pointer-events=\"none\"><path transform=\"translate(6,6)\" d=\"M5,0A5,5,0,1,1,-5,0A5,5,0,1,1,5,0\" fill=\"#54a24b\" stroke-width=\"1.5\" opacity=\"1\"/></g><g class=\"mark-text role-legend-label\" pointer-events=\"none\"><text text-anchor=\"start\" transform=\"translate(16,9)\" font-family=\"sans-serif\" font-size=\"10px\" fill=\"#000\" opacity=\"1\">x28</text></g></g><path class=\"foreground\" aria-hidden=\"true\" d=\"\" pointer-events=\"none\" display=\"none\"/></g><g transform=\"translate(0,65)\"><path class=\"background\" aria-hidden=\"true\" d=\"M0,0h41v11h-41Z\" pointer-events=\"none\" opacity=\"1\"/><g><g class=\"mark-symbol role-legend-symbol\" pointer-events=\"none\"><path transform=\"translate(6,6)\" d=\"M5,0A5,5,0,1,1,-5,0A5,5,0,1,1,5,0\" fill=\"#eeca3b\" stroke-width=\"1.5\" opacity=\"1\"/></g><g class=\"mark-text role-legend-label\" pointer-events=\"none\"><text text-anchor=\"start\" transform=\"translate(16,9)\" font-family=\"sans-serif\" font-size=\"10px\" fill=\"#000\" opacity=\"1\">x30</text></g></g><path class=\"foreground\" aria-hidden=\"true\" d=\"\" pointer-events=\"none\" display=\"none\"/></g><g transform=\"translate(0,78)\"><path class=\"background\" aria-hidden=\"true\" d=\"M0,0h41v11h-41Z\" pointer-events=\"none\" opacity=\"1\"/><g><g class=\"mark-symbol role-legend-symbol\" pointer-events=\"none\"><path transform=\"translate(6,6)\" d=\"M5,0A5,5,0,1,1,-5,0A5,5,0,1,1,5,0\" fill=\"#b279a2\" stroke-width=\"1.5\" opacity=\"1\"/></g><g class=\"mark-text role-legend-label\" pointer-events=\"none\"><text text-anchor=\"start\" transform=\"translate(16,9)\" font-family=\"sans-serif\" font-size=\"10px\" fill=\"#000\" opacity=\"1\">x34</text></g></g><path class=\"foreground\" aria-hidden=\"true\" d=\"\" pointer-events=\"none\" display=\"none\"/></g><g transform=\"translate(0,91)\"><path class=\"background\" aria-hidden=\"true\" d=\"M0,0h41v11h-41Z\" pointer-events=\"none\" opacity=\"1\"/><g><g class=\"mark-symbol role-legend-symbol\" pointer-events=\"none\"><path transform=\"translate(6,6)\" d=\"M5,0A5,5,0,1,1,-5,0A5,5,0,1,1,5,0\" fill=\"#ff9da6\" stroke-width=\"1.5\" opacity=\"1\"/></g><g class=\"mark-text role-legend-label\" pointer-events=\"none\"><text text-anchor=\"start\" transform=\"translate(16,9)\" font-family=\"sans-serif\" font-size=\"10px\" fill=\"#000\" opacity=\"1\">x37</text></g></g><path class=\"foreground\" aria-hidden=\"true\" d=\"\" pointer-events=\"none\" display=\"none\"/></g><g transform=\"translate(0,104)\"><path class=\"background\" aria-hidden=\"true\" d=\"M0,0h41v11h-41Z\" pointer-events=\"none\" opacity=\"1\"/><g><g class=\"mark-symbol role-legend-symbol\" pointer-events=\"none\"><path transform=\"translate(6,6)\" d=\"M5,0A5,5,0,1,1,-5,0A5,5,0,1,1,5,0\" fill=\"#9d755d\" stroke-width=\"1.5\" opacity=\"1\"/></g><g class=\"mark-text role-legend-label\" pointer-events=\"none\"><text text-anchor=\"start\" transform=\"translate(16,9)\" font-family=\"sans-serif\" font-size=\"10px\" fill=\"#000\" opacity=\"1\">x48</text></g></g><path class=\"foreground\" aria-hidden=\"true\" d=\"\" pointer-events=\"none\" display=\"none\"/></g></g></g><path class=\"foreground\" aria-hidden=\"true\" d=\"\" pointer-events=\"none\" display=\"none\"/></g></g><g class=\"mark-text role-legend-title\" pointer-events=\"none\"><text text-anchor=\"start\" transform=\"translate(0,9)\" font-family=\"sans-serif\" font-size=\"11px\" font-weight=\"bold\" fill=\"#000\" opacity=\"1\">variable</text></g></g><path class=\"foreground\" aria-hidden=\"true\" d=\"\" pointer-events=\"none\" display=\"none\"/></g></g></g><path class=\"foreground\" aria-hidden=\"true\" d=\"\" display=\"none\"/></g></g></g></svg>\n"
      ],
      "text/plain": [
       "@vlplot(\n",
       "    legend=\"sNames\",\n",
       "    mark=\"area\",\n",
       "    encoding={\n",
       "        x={\n",
       "            field=\"year\"\n",
       "        },\n",
       "        y={\n",
       "            stack=\"zero\",\n",
       "            title=\"Value-chain adopted (%)\",\n",
       "            field=\"value\"\n",
       "        },\n",
       "        color={\n",
       "            field=\"variable\",\n",
       "            type=\"nominal\"\n",
       "        }\n",
       "    },\n",
       "    data={\n",
       "        values=...\n",
       "    }\n",
       ")"
      ]
     },
     "execution_count": 58,
     "metadata": {},
     "output_type": "execute_result"
    }
   ],
   "source": [
    "#only for this result\n",
    "\n",
    "function conventional(i1,t)\n",
    "    if t==7\n",
    "        return (1-sum(JuMP.values.(xk)[k,t] for k in 1:nrow(compromise)))\n",
    "    end\n",
    "    if t==0\n",
    "        if mod(i1,5)≥mod(round.(sum(JuMP.values.(tk)[1:nrow(compromise),t+1])-0.001;digits=4),5) && sum(JuMP.values.(xk)[1:nrow(compromise),t+1]) > 0\n",
    "            return (1-sum(JuMP.values.(xk)[k,t+1] for k in 1:nrow(compromise)))\n",
    "        else\n",
    "            return 1\n",
    "        end\n",
    "    else\n",
    "        sum_xks_atT=0\n",
    "        for k1 in 1:nrow(compromise)\n",
    "            if mod(i1,5)≥mod(round(JuMP.values.(tk)[k1,t+1]-0.001;digits=4),5) && sum(JuMP.values.(xk)[k1,t:t+1])>0 && t>0\n",
    "                sum_xks_atT+=JuMP.values.(xk)[k1,t+1]\n",
    "            else\n",
    "                sum_xks_atT+=JuMP.values.(xk)[k1,t]\n",
    "            end\n",
    "        end\n",
    "            \n",
    "        #if mod(i1,5)≥mod(round(sum(JuMP.values.(tk)[1:nrow(compromise),t+1]);digits=2),5) && sum(JuMP.values.(xk)[1:nrow(compromise),t:t+1])>0 && t>0\n",
    "        #    t=t+1\n",
    "        #end\n",
    "        #return (1-sum(JuMP.values.(xk)[k,t] for k in 1:nrow(compromise)))\n",
    "        return (1-sum_xks_atT)\n",
    "    end\n",
    "end\n",
    "\n",
    "function innovation(i1,k1,t)\n",
    "    if t==7\n",
    "        return sum(JuMP.values.(xk)[k,t] for k=k1:k1)\n",
    "    end\n",
    "    if t==0 \n",
    "        if mod(i1,5)≥mod(round(JuMP.values.(tk)[k1,t+1]-0.001;digits=4),5) && JuMP.values.(xk)[k1,t+1] > 0\n",
    "            t=1\n",
    "            return (sum(JuMP.values.(xk)[k,t] for k=k1:k1))            \n",
    "        else\n",
    "            return 0\n",
    "        end\n",
    "    end\n",
    "    if mod(i1,5)≥mod(round(JuMP.values.(tk)[k1,t+1]-0.001;digits=4),5) && sum(JuMP.values.(xk)[k1,t:t+1])>0 && t>0\n",
    "        t=t+1\n",
    "    end\n",
    "    return sum(JuMP.values.(xk)[k,t] for k=k1:k1)\n",
    "    \n",
    "end\n",
    "\n",
    "conv=zeros(55)\n",
    "\n",
    "conv[1]=100\n",
    "inn_co2=zeros(nrow(compromise),55)\n",
    "\n",
    "for k in 1:nrow(compromise)\n",
    "    inn_co2[k,1]=0\n",
    "end\n",
    "j=0\n",
    "for t in 1:55\n",
    "    if 0 ≤ t ≤ 5\n",
    "        j=0\n",
    "    elseif 6 ≤ t ≤ 10\n",
    "        j=1\n",
    "    elseif 11 ≤ t ≤ 15\n",
    "        j=2\n",
    "    elseif 16 ≤ t ≤ 20\n",
    "        j=3\n",
    "    elseif 21 ≤ t ≤ 25\n",
    "        j=4\n",
    "    elseif 26 ≤ t ≤ 30\n",
    "        j=5\n",
    "    elseif 31 ≤ t ≤ 35\n",
    "        j=6\n",
    "    else\n",
    "        j=7\n",
    "    end\n",
    "    \n",
    "    \n",
    "    \n",
    "    conv[t]=100*conventional(t,j)\n",
    "    for k in 1:nrow(compromise)\n",
    "        \n",
    "        inn_co2[k,t]=100*innovation(t,k,j)\n",
    "    end\n",
    "end\n",
    "#conv[1:5].=100\n",
    "\n",
    "sNames = [\"conv\",\"inn1\",\"inn2\",\"inn3\",\"inn4\",\"inn5\",\"inn6\",\"inn7\",\"inn8\",\"inn9\",\"inn10\"]\n",
    "xLabels = []\n",
    "for i in 2020:2070\n",
    "    push!(xLabels,string(i))\n",
    "end\n",
    "\n",
    "#df = DataFrame(year=xLabels, conv=conv, inn1=inn_co2[1,:],inn2=inn_co2[2,:],inn3=inn_co2[3,:],inn4=inn_co2[4,:],\n",
    "#        inn5=inn_co2[5,:],inn6=inn_co2[6,:],inn7=inn_co2[7,:],inn8=inn_co2[8,:],inn9=inn_co2[9,:],inn10=inn_co2[10,:])\n",
    "df = DataFrame(vcat(inn_co2,conv')',:auto)\n",
    "\n",
    "\n",
    "df=df[1:41,:]\n",
    "\n",
    "df=df[!, any.(>(0), eachcol(df))]\n",
    "df[!,:year]=xLabels[1:41]\n",
    "#rename!(df,[:x1,:x93,:x218,:x222] .=> [:Conv,:pyLDPE1,:alcPLA2,:alcPLA6])\n",
    "#df[!,:pyLDPE11]=zeros(36)\n",
    "rename!(df,[:x269] .=> [:Conv])\n",
    "#df[!,:x31]=zeros(36)\n",
    "#df[!,:x38]=zeros(36)\n",
    "#df[!,:x164]=zeros(36)\n",
    "\n",
    "#rename!(df,[:x94,:x95,:x104,:x109,:x196,:x198,:x199,:x200,:x201] .=> [:LABS12,:LABS13,:LABS22,:LABS27,:RecyclPLA2,:RecyclPLA4,:RecyclPLA5,:RecyclPLA6,:RecyclPLA7])\n",
    "#rename!(df,[:x29,:x30,:x31,:x45,:x49] .=> [:pyLDPE_maxTheta,:pyLDPE_minGWP,:pyLDPE_minLCC,:pyLDPE_14,:pyLDPE_18])\n",
    "#rename!(df,[:x160,:x164] .=> [:alcPLA_minLCC,:alcPLA_3])\n",
    "split_yearly=df |> stack |> @vlplot(:area, x=:year, y={:value, stack=:zero, title=\"Value-chain adopted (%)\"}, color=\"variable:n\",legend=:sNames) \n",
    "if want_save>0\n",
    "    save(\"./result-case-roadmap/split_yearly-\"*output_key*\".svg\", split_yearly)\n",
    "end\n",
    "#save(\"./result-case-roadmap/split_yearly-netzero.svg\", split_yearly)\n",
    "split_yearly\n",
    "\n"
   ]
  },
  {
   "cell_type": "code",
   "execution_count": 59,
   "id": "4b41ac92",
   "metadata": {},
   "outputs": [
    {
     "data": {
      "application/vnd.vegalite.v4+json": {
       "data": {
        "values": [
         {
          "value": 0,
          "variable": "x28",
          "year": "2020"
         },
         {
          "value": 0,
          "variable": "x28",
          "year": "2021"
         },
         {
          "value": 0,
          "variable": "x28",
          "year": "2022"
         },
         {
          "value": 0,
          "variable": "x28",
          "year": "2023"
         },
         {
          "value": 0,
          "variable": "x28",
          "year": "2024"
         },
         {
          "value": 0,
          "variable": "x28",
          "year": "2025"
         },
         {
          "value": 0,
          "variable": "x28",
          "year": "2026"
         },
         {
          "value": 0,
          "variable": "x28",
          "year": "2027"
         },
         {
          "value": 0,
          "variable": "x28",
          "year": "2028"
         },
         {
          "value": 0,
          "variable": "x28",
          "year": "2029"
         },
         {
          "value": 0,
          "variable": "x28",
          "year": "2030"
         },
         {
          "value": 0,
          "variable": "x28",
          "year": "2031"
         },
         {
          "value": 0,
          "variable": "x28",
          "year": "2032"
         },
         {
          "value": 0,
          "variable": "x28",
          "year": "2033"
         },
         {
          "value": 0,
          "variable": "x28",
          "year": "2034"
         },
         {
          "value": 4.304542392882712,
          "variable": "x28",
          "year": "2035"
         },
         {
          "value": 4.304542392882712,
          "variable": "x28",
          "year": "2036"
         },
         {
          "value": 4.304542392882712,
          "variable": "x28",
          "year": "2037"
         },
         {
          "value": 4.304542392882712,
          "variable": "x28",
          "year": "2038"
         },
         {
          "value": 4.304542392882712,
          "variable": "x28",
          "year": "2039"
         },
         {
          "value": 0,
          "variable": "x28",
          "year": "2040"
         },
         {
          "value": 0,
          "variable": "x28",
          "year": "2041"
         },
         {
          "value": 0,
          "variable": "x28",
          "year": "2042"
         },
         {
          "value": 0,
          "variable": "x28",
          "year": "2043"
         },
         {
          "value": 0,
          "variable": "x28",
          "year": "2044"
         },
         {
          "value": 3.2521202746671802,
          "variable": "x28",
          "year": "2045"
         },
         {
          "value": 3.2521202746671802,
          "variable": "x28",
          "year": "2046"
         },
         {
          "value": 3.2521202746671802,
          "variable": "x28",
          "year": "2047"
         },
         {
          "value": 3.2521202746671802,
          "variable": "x28",
          "year": "2048"
         },
         {
          "value": 3.2521202746671802,
          "variable": "x28",
          "year": "2049"
         },
         {
          "value": 0,
          "variable": "x28",
          "year": "2050"
         },
         {
          "value": 0,
          "variable": "x28",
          "year": "2051"
         },
         {
          "value": 0,
          "variable": "x28",
          "year": "2052"
         },
         {
          "value": 0,
          "variable": "x28",
          "year": "2053"
         },
         {
          "value": 0,
          "variable": "x28",
          "year": "2054"
         },
         {
          "value": 0,
          "variable": "x28",
          "year": "2055"
         },
         {
          "value": 0,
          "variable": "x28",
          "year": "2056"
         },
         {
          "value": 0,
          "variable": "x28",
          "year": "2057"
         },
         {
          "value": 0,
          "variable": "x28",
          "year": "2058"
         },
         {
          "value": 0,
          "variable": "x28",
          "year": "2059"
         },
         {
          "value": 0,
          "variable": "x28",
          "year": "2060"
         },
         {
          "value": 0,
          "variable": "x30",
          "year": "2020"
         },
         {
          "value": 0,
          "variable": "x30",
          "year": "2021"
         },
         {
          "value": 0,
          "variable": "x30",
          "year": "2022"
         },
         {
          "value": 0,
          "variable": "x30",
          "year": "2023"
         },
         {
          "value": 0,
          "variable": "x30",
          "year": "2024"
         },
         {
          "value": 0,
          "variable": "x30",
          "year": "2025"
         },
         {
          "value": 0,
          "variable": "x30",
          "year": "2026"
         },
         {
          "value": 0,
          "variable": "x30",
          "year": "2027"
         },
         {
          "value": 0,
          "variable": "x30",
          "year": "2028"
         },
         {
          "value": 0,
          "variable": "x30",
          "year": "2029"
         },
         {
          "value": 2.7845637501961376,
          "variable": "x30",
          "year": "2030"
         },
         {
          "value": 2.7845637501961376,
          "variable": "x30",
          "year": "2031"
         },
         {
          "value": 2.7845637501961376,
          "variable": "x30",
          "year": "2032"
         },
         {
          "value": 2.7845637501961376,
          "variable": "x30",
          "year": "2033"
         },
         {
          "value": 2.7845637501961376,
          "variable": "x30",
          "year": "2034"
         },
         {
          "value": 0,
          "variable": "x30",
          "year": "2035"
         },
         {
          "value": 0,
          "variable": "x30",
          "year": "2036"
         },
         {
          "value": 0,
          "variable": "x30",
          "year": "2037"
         },
         {
          "value": 0,
          "variable": "x30",
          "year": "2038"
         },
         {
          "value": 0,
          "variable": "x30",
          "year": "2039"
         },
         {
          "value": 0,
          "variable": "x30",
          "year": "2040"
         },
         {
          "value": 0,
          "variable": "x30",
          "year": "2041"
         },
         {
          "value": 0,
          "variable": "x30",
          "year": "2042"
         },
         {
          "value": 0,
          "variable": "x30",
          "year": "2043"
         },
         {
          "value": 0,
          "variable": "x30",
          "year": "2044"
         },
         {
          "value": 0,
          "variable": "x30",
          "year": "2045"
         },
         {
          "value": 0,
          "variable": "x30",
          "year": "2046"
         },
         {
          "value": 0,
          "variable": "x30",
          "year": "2047"
         },
         {
          "value": 0,
          "variable": "x30",
          "year": "2048"
         },
         {
          "value": 0,
          "variable": "x30",
          "year": "2049"
         },
         {
          "value": 0,
          "variable": "x30",
          "year": "2050"
         },
         {
          "value": 0,
          "variable": "x30",
          "year": "2051"
         },
         {
          "value": 0,
          "variable": "x30",
          "year": "2052"
         },
         {
          "value": 0,
          "variable": "x30",
          "year": "2053"
         },
         {
          "value": 0,
          "variable": "x30",
          "year": "2054"
         },
         {
          "value": 0,
          "variable": "x30",
          "year": "2055"
         },
         {
          "value": 0,
          "variable": "x30",
          "year": "2056"
         },
         {
          "value": 0,
          "variable": "x30",
          "year": "2057"
         },
         {
          "value": 0,
          "variable": "x30",
          "year": "2058"
         },
         {
          "value": 0,
          "variable": "x30",
          "year": "2059"
         },
         {
          "value": 0,
          "variable": "x30",
          "year": "2060"
         },
         {
          "value": 0,
          "variable": "x34",
          "year": "2020"
         },
         {
          "value": 0,
          "variable": "x34",
          "year": "2021"
         },
         {
          "value": 0,
          "variable": "x34",
          "year": "2022"
         },
         {
          "value": 0,
          "variable": "x34",
          "year": "2023"
         },
         {
          "value": 0,
          "variable": "x34",
          "year": "2024"
         },
         {
          "value": 2.992912129088112,
          "variable": "x34",
          "year": "2025"
         },
         {
          "value": 2.992912129088112,
          "variable": "x34",
          "year": "2026"
         },
         {
          "value": 2.992912129088112,
          "variable": "x34",
          "year": "2027"
         },
         {
          "value": 2.992912129088112,
          "variable": "x34",
          "year": "2028"
         },
         {
          "value": 2.992912129088112,
          "variable": "x34",
          "year": "2029"
         },
         {
          "value": 0,
          "variable": "x34",
          "year": "2030"
         },
         {
          "value": 0,
          "variable": "x34",
          "year": "2031"
         },
         {
          "value": 0,
          "variable": "x34",
          "year": "2032"
         },
         {
          "value": 0,
          "variable": "x34",
          "year": "2033"
         },
         {
          "value": 0,
          "variable": "x34",
          "year": "2034"
         },
         {
          "value": 0,
          "variable": "x34",
          "year": "2035"
         },
         {
          "value": 0,
          "variable": "x34",
          "year": "2036"
         },
         {
          "value": 0,
          "variable": "x34",
          "year": "2037"
         },
         {
          "value": 0,
          "variable": "x34",
          "year": "2038"
         },
         {
          "value": 0,
          "variable": "x34",
          "year": "2039"
         },
         {
          "value": 0,
          "variable": "x34",
          "year": "2040"
         },
         {
          "value": 0,
          "variable": "x34",
          "year": "2041"
         },
         {
          "value": 0,
          "variable": "x34",
          "year": "2042"
         },
         {
          "value": 0,
          "variable": "x34",
          "year": "2043"
         },
         {
          "value": 0,
          "variable": "x34",
          "year": "2044"
         },
         {
          "value": 0,
          "variable": "x34",
          "year": "2045"
         },
         {
          "value": 0,
          "variable": "x34",
          "year": "2046"
         },
         {
          "value": 0,
          "variable": "x34",
          "year": "2047"
         },
         {
          "value": 0,
          "variable": "x34",
          "year": "2048"
         },
         {
          "value": 0,
          "variable": "x34",
          "year": "2049"
         },
         {
          "value": 0,
          "variable": "x34",
          "year": "2050"
         },
         {
          "value": 0,
          "variable": "x34",
          "year": "2051"
         },
         {
          "value": 0,
          "variable": "x34",
          "year": "2052"
         },
         {
          "value": 0,
          "variable": "x34",
          "year": "2053"
         },
         {
          "value": 0,
          "variable": "x34",
          "year": "2054"
         },
         {
          "value": 0,
          "variable": "x34",
          "year": "2055"
         },
         {
          "value": 0,
          "variable": "x34",
          "year": "2056"
         },
         {
          "value": 0,
          "variable": "x34",
          "year": "2057"
         },
         {
          "value": 0,
          "variable": "x34",
          "year": "2058"
         },
         {
          "value": 0,
          "variable": "x34",
          "year": "2059"
         },
         {
          "value": 0,
          "variable": "x34",
          "year": "2060"
         },
         {
          "value": 0,
          "variable": "x37",
          "year": "2020"
         },
         {
          "value": 0,
          "variable": "x37",
          "year": "2021"
         },
         {
          "value": 0,
          "variable": "x37",
          "year": "2022"
         },
         {
          "value": 0,
          "variable": "x37",
          "year": "2023"
         },
         {
          "value": 0,
          "variable": "x37",
          "year": "2024"
         },
         {
          "value": 0,
          "variable": "x37",
          "year": "2025"
         },
         {
          "value": 0,
          "variable": "x37",
          "year": "2026"
         },
         {
          "value": 0,
          "variable": "x37",
          "year": "2027"
         },
         {
          "value": 0,
          "variable": "x37",
          "year": "2028"
         },
         {
          "value": 0,
          "variable": "x37",
          "year": "2029"
         },
         {
          "value": 0,
          "variable": "x37",
          "year": "2030"
         },
         {
          "value": 0,
          "variable": "x37",
          "year": "2031"
         },
         {
          "value": 0,
          "variable": "x37",
          "year": "2032"
         },
         {
          "value": 0,
          "variable": "x37",
          "year": "2033"
         },
         {
          "value": 0,
          "variable": "x37",
          "year": "2034"
         },
         {
          "value": 0,
          "variable": "x37",
          "year": "2035"
         },
         {
          "value": 0,
          "variable": "x37",
          "year": "2036"
         },
         {
          "value": 0,
          "variable": "x37",
          "year": "2037"
         },
         {
          "value": 0,
          "variable": "x37",
          "year": "2038"
         },
         {
          "value": 0,
          "variable": "x37",
          "year": "2039"
         },
         {
          "value": 0,
          "variable": "x37",
          "year": "2040"
         },
         {
          "value": 0,
          "variable": "x37",
          "year": "2041"
         },
         {
          "value": 0,
          "variable": "x37",
          "year": "2042"
         },
         {
          "value": 0,
          "variable": "x37",
          "year": "2043"
         },
         {
          "value": 0,
          "variable": "x37",
          "year": "2044"
         },
         {
          "value": 0,
          "variable": "x37",
          "year": "2045"
         },
         {
          "value": 0,
          "variable": "x37",
          "year": "2046"
         },
         {
          "value": 0,
          "variable": "x37",
          "year": "2047"
         },
         {
          "value": 0,
          "variable": "x37",
          "year": "2048"
         },
         {
          "value": 0,
          "variable": "x37",
          "year": "2049"
         },
         {
          "value": 0,
          "variable": "x37",
          "year": "2050"
         },
         {
          "value": 0,
          "variable": "x37",
          "year": "2051"
         },
         {
          "value": 0,
          "variable": "x37",
          "year": "2052"
         },
         {
          "value": 0,
          "variable": "x37",
          "year": "2053"
         },
         {
          "value": 0,
          "variable": "x37",
          "year": "2054"
         },
         {
          "value": 0.4800269244273519,
          "variable": "x37",
          "year": "2055"
         },
         {
          "value": 0.4800269244273519,
          "variable": "x37",
          "year": "2056"
         },
         {
          "value": 0.4800269244273519,
          "variable": "x37",
          "year": "2057"
         },
         {
          "value": 0.4800269244273519,
          "variable": "x37",
          "year": "2058"
         },
         {
          "value": 0.4800269244273519,
          "variable": "x37",
          "year": "2059"
         },
         {
          "value": 0.4800269244273519,
          "variable": "x37",
          "year": "2060"
         },
         {
          "value": 0,
          "variable": "x48",
          "year": "2020"
         },
         {
          "value": 0,
          "variable": "x48",
          "year": "2021"
         },
         {
          "value": 0,
          "variable": "x48",
          "year": "2022"
         },
         {
          "value": 0,
          "variable": "x48",
          "year": "2023"
         },
         {
          "value": 0,
          "variable": "x48",
          "year": "2024"
         },
         {
          "value": 0,
          "variable": "x48",
          "year": "2025"
         },
         {
          "value": 0,
          "variable": "x48",
          "year": "2026"
         },
         {
          "value": 0,
          "variable": "x48",
          "year": "2027"
         },
         {
          "value": 0,
          "variable": "x48",
          "year": "2028"
         },
         {
          "value": 0,
          "variable": "x48",
          "year": "2029"
         },
         {
          "value": 0,
          "variable": "x48",
          "year": "2030"
         },
         {
          "value": 0,
          "variable": "x48",
          "year": "2031"
         },
         {
          "value": 0,
          "variable": "x48",
          "year": "2032"
         },
         {
          "value": 0,
          "variable": "x48",
          "year": "2033"
         },
         {
          "value": 0,
          "variable": "x48",
          "year": "2034"
         },
         {
          "value": 0,
          "variable": "x48",
          "year": "2035"
         },
         {
          "value": 0,
          "variable": "x48",
          "year": "2036"
         },
         {
          "value": 0,
          "variable": "x48",
          "year": "2037"
         },
         {
          "value": 0,
          "variable": "x48",
          "year": "2038"
         },
         {
          "value": 0,
          "variable": "x48",
          "year": "2039"
         },
         {
          "value": 3.3984441391705915,
          "variable": "x48",
          "year": "2040"
         },
         {
          "value": 3.3984441391705915,
          "variable": "x48",
          "year": "2041"
         },
         {
          "value": 3.3984441391705915,
          "variable": "x48",
          "year": "2042"
         },
         {
          "value": 3.3984441391705915,
          "variable": "x48",
          "year": "2043"
         },
         {
          "value": 3.3984441391705915,
          "variable": "x48",
          "year": "2044"
         },
         {
          "value": 0,
          "variable": "x48",
          "year": "2045"
         },
         {
          "value": 0,
          "variable": "x48",
          "year": "2046"
         },
         {
          "value": 0,
          "variable": "x48",
          "year": "2047"
         },
         {
          "value": 0,
          "variable": "x48",
          "year": "2048"
         },
         {
          "value": 0,
          "variable": "x48",
          "year": "2049"
         },
         {
          "value": 3.1881819890155767,
          "variable": "x48",
          "year": "2050"
         },
         {
          "value": 3.1881819890155767,
          "variable": "x48",
          "year": "2051"
         },
         {
          "value": 3.1881819890155767,
          "variable": "x48",
          "year": "2052"
         },
         {
          "value": 3.1881819890155767,
          "variable": "x48",
          "year": "2053"
         },
         {
          "value": 3.1881819890155767,
          "variable": "x48",
          "year": "2054"
         },
         {
          "value": 0,
          "variable": "x48",
          "year": "2055"
         },
         {
          "value": 0,
          "variable": "x48",
          "year": "2056"
         },
         {
          "value": 0,
          "variable": "x48",
          "year": "2057"
         },
         {
          "value": 0,
          "variable": "x48",
          "year": "2058"
         },
         {
          "value": 0,
          "variable": "x48",
          "year": "2059"
         },
         {
          "value": 0,
          "variable": "x48",
          "year": "2060"
         },
         {
          "value": 0,
          "variable": "x158",
          "year": "2020"
         },
         {
          "value": 0,
          "variable": "x158",
          "year": "2021"
         },
         {
          "value": 0,
          "variable": "x158",
          "year": "2022"
         },
         {
          "value": 0,
          "variable": "x158",
          "year": "2023"
         },
         {
          "value": 0,
          "variable": "x158",
          "year": "2024"
         },
         {
          "value": 0,
          "variable": "x158",
          "year": "2025"
         },
         {
          "value": 0,
          "variable": "x158",
          "year": "2026"
         },
         {
          "value": 0,
          "variable": "x158",
          "year": "2027"
         },
         {
          "value": 0,
          "variable": "x158",
          "year": "2028"
         },
         {
          "value": 0,
          "variable": "x158",
          "year": "2029"
         },
         {
          "value": 0,
          "variable": "x158",
          "year": "2030"
         },
         {
          "value": 0,
          "variable": "x158",
          "year": "2031"
         },
         {
          "value": 0,
          "variable": "x158",
          "year": "2032"
         },
         {
          "value": 0,
          "variable": "x158",
          "year": "2033"
         },
         {
          "value": 0,
          "variable": "x158",
          "year": "2034"
         },
         {
          "value": 0,
          "variable": "x158",
          "year": "2035"
         },
         {
          "value": 0,
          "variable": "x158",
          "year": "2036"
         },
         {
          "value": 0,
          "variable": "x158",
          "year": "2037"
         },
         {
          "value": 0,
          "variable": "x158",
          "year": "2038"
         },
         {
          "value": 0,
          "variable": "x158",
          "year": "2039"
         },
         {
          "value": 0.00399857101512502,
          "variable": "x158",
          "year": "2040"
         },
         {
          "value": 0.00399857101512502,
          "variable": "x158",
          "year": "2041"
         },
         {
          "value": 0.00399857101512502,
          "variable": "x158",
          "year": "2042"
         },
         {
          "value": 0.00399857101512502,
          "variable": "x158",
          "year": "2043"
         },
         {
          "value": 0.00399857101512502,
          "variable": "x158",
          "year": "2044"
         },
         {
          "value": 0,
          "variable": "x158",
          "year": "2045"
         },
         {
          "value": 0,
          "variable": "x158",
          "year": "2046"
         },
         {
          "value": 0,
          "variable": "x158",
          "year": "2047"
         },
         {
          "value": 0,
          "variable": "x158",
          "year": "2048"
         },
         {
          "value": 0,
          "variable": "x158",
          "year": "2049"
         },
         {
          "value": -0.01239996610878006,
          "variable": "x158",
          "year": "2050"
         },
         {
          "value": -0.01239996610878006,
          "variable": "x158",
          "year": "2051"
         },
         {
          "value": -0.01239996610878006,
          "variable": "x158",
          "year": "2052"
         },
         {
          "value": -0.01239996610878006,
          "variable": "x158",
          "year": "2053"
         },
         {
          "value": -0.01239996610878006,
          "variable": "x158",
          "year": "2054"
         },
         {
          "value": 0,
          "variable": "x158",
          "year": "2055"
         },
         {
          "value": 0,
          "variable": "x158",
          "year": "2056"
         },
         {
          "value": 0,
          "variable": "x158",
          "year": "2057"
         },
         {
          "value": 0,
          "variable": "x158",
          "year": "2058"
         },
         {
          "value": 0,
          "variable": "x158",
          "year": "2059"
         },
         {
          "value": 0,
          "variable": "x158",
          "year": "2060"
         },
         {
          "value": 0,
          "variable": "x159",
          "year": "2020"
         },
         {
          "value": 0,
          "variable": "x159",
          "year": "2021"
         },
         {
          "value": 0,
          "variable": "x159",
          "year": "2022"
         },
         {
          "value": 0,
          "variable": "x159",
          "year": "2023"
         },
         {
          "value": 0,
          "variable": "x159",
          "year": "2024"
         },
         {
          "value": 0,
          "variable": "x159",
          "year": "2025"
         },
         {
          "value": 0,
          "variable": "x159",
          "year": "2026"
         },
         {
          "value": 0,
          "variable": "x159",
          "year": "2027"
         },
         {
          "value": 0,
          "variable": "x159",
          "year": "2028"
         },
         {
          "value": 0,
          "variable": "x159",
          "year": "2029"
         },
         {
          "value": 0,
          "variable": "x159",
          "year": "2030"
         },
         {
          "value": 0,
          "variable": "x159",
          "year": "2031"
         },
         {
          "value": 0,
          "variable": "x159",
          "year": "2032"
         },
         {
          "value": 0,
          "variable": "x159",
          "year": "2033"
         },
         {
          "value": 0,
          "variable": "x159",
          "year": "2034"
         },
         {
          "value": 0,
          "variable": "x159",
          "year": "2035"
         },
         {
          "value": 0,
          "variable": "x159",
          "year": "2036"
         },
         {
          "value": 0,
          "variable": "x159",
          "year": "2037"
         },
         {
          "value": 0,
          "variable": "x159",
          "year": "2038"
         },
         {
          "value": 0,
          "variable": "x159",
          "year": "2039"
         },
         {
          "value": 0,
          "variable": "x159",
          "year": "2040"
         },
         {
          "value": 0,
          "variable": "x159",
          "year": "2041"
         },
         {
          "value": 0,
          "variable": "x159",
          "year": "2042"
         },
         {
          "value": 0,
          "variable": "x159",
          "year": "2043"
         },
         {
          "value": 0,
          "variable": "x159",
          "year": "2044"
         },
         {
          "value": 0.5090189498874685,
          "variable": "x159",
          "year": "2045"
         },
         {
          "value": 0.5090189498874685,
          "variable": "x159",
          "year": "2046"
         },
         {
          "value": 0.5090189498874685,
          "variable": "x159",
          "year": "2047"
         },
         {
          "value": 0.5090189498874685,
          "variable": "x159",
          "year": "2048"
         },
         {
          "value": 0.5090189498874685,
          "variable": "x159",
          "year": "2049"
         },
         {
          "value": 0,
          "variable": "x159",
          "year": "2050"
         },
         {
          "value": 0,
          "variable": "x159",
          "year": "2051"
         },
         {
          "value": 0,
          "variable": "x159",
          "year": "2052"
         },
         {
          "value": 0,
          "variable": "x159",
          "year": "2053"
         },
         {
          "value": 0,
          "variable": "x159",
          "year": "2054"
         },
         {
          "value": 0,
          "variable": "x159",
          "year": "2055"
         },
         {
          "value": 0,
          "variable": "x159",
          "year": "2056"
         },
         {
          "value": 0,
          "variable": "x159",
          "year": "2057"
         },
         {
          "value": 0,
          "variable": "x159",
          "year": "2058"
         },
         {
          "value": 0,
          "variable": "x159",
          "year": "2059"
         },
         {
          "value": 0,
          "variable": "x159",
          "year": "2060"
         },
         {
          "value": 0,
          "variable": "x163",
          "year": "2020"
         },
         {
          "value": 0,
          "variable": "x163",
          "year": "2021"
         },
         {
          "value": 0,
          "variable": "x163",
          "year": "2022"
         },
         {
          "value": 0,
          "variable": "x163",
          "year": "2023"
         },
         {
          "value": 0,
          "variable": "x163",
          "year": "2024"
         },
         {
          "value": 0,
          "variable": "x163",
          "year": "2025"
         },
         {
          "value": 0,
          "variable": "x163",
          "year": "2026"
         },
         {
          "value": 0,
          "variable": "x163",
          "year": "2027"
         },
         {
          "value": 0,
          "variable": "x163",
          "year": "2028"
         },
         {
          "value": 0,
          "variable": "x163",
          "year": "2029"
         },
         {
          "value": 0,
          "variable": "x163",
          "year": "2030"
         },
         {
          "value": 0,
          "variable": "x163",
          "year": "2031"
         },
         {
          "value": 0,
          "variable": "x163",
          "year": "2032"
         },
         {
          "value": 0,
          "variable": "x163",
          "year": "2033"
         },
         {
          "value": 0,
          "variable": "x163",
          "year": "2034"
         },
         {
          "value": 0,
          "variable": "x163",
          "year": "2035"
         },
         {
          "value": 0,
          "variable": "x163",
          "year": "2036"
         },
         {
          "value": 0,
          "variable": "x163",
          "year": "2037"
         },
         {
          "value": 0,
          "variable": "x163",
          "year": "2038"
         },
         {
          "value": 0,
          "variable": "x163",
          "year": "2039"
         },
         {
          "value": 2.4676006608213214e-14,
          "variable": "x163",
          "year": "2040"
         },
         {
          "value": 2.4676006608213214e-14,
          "variable": "x163",
          "year": "2041"
         },
         {
          "value": 2.4676006608213214e-14,
          "variable": "x163",
          "year": "2042"
         },
         {
          "value": 2.4676006608213214e-14,
          "variable": "x163",
          "year": "2043"
         },
         {
          "value": 2.4676006608213214e-14,
          "variable": "x163",
          "year": "2044"
         },
         {
          "value": 0,
          "variable": "x163",
          "year": "2045"
         },
         {
          "value": 0,
          "variable": "x163",
          "year": "2046"
         },
         {
          "value": 0,
          "variable": "x163",
          "year": "2047"
         },
         {
          "value": 0,
          "variable": "x163",
          "year": "2048"
         },
         {
          "value": 0,
          "variable": "x163",
          "year": "2049"
         },
         {
          "value": 0,
          "variable": "x163",
          "year": "2050"
         },
         {
          "value": 0,
          "variable": "x163",
          "year": "2051"
         },
         {
          "value": 0,
          "variable": "x163",
          "year": "2052"
         },
         {
          "value": 0,
          "variable": "x163",
          "year": "2053"
         },
         {
          "value": 0,
          "variable": "x163",
          "year": "2054"
         },
         {
          "value": -0.5209541459785196,
          "variable": "x163",
          "year": "2055"
         },
         {
          "value": -0.5209541459785196,
          "variable": "x163",
          "year": "2056"
         },
         {
          "value": -0.5209541459785196,
          "variable": "x163",
          "year": "2057"
         },
         {
          "value": -0.5209541459785196,
          "variable": "x163",
          "year": "2058"
         },
         {
          "value": -0.5209541459785196,
          "variable": "x163",
          "year": "2059"
         },
         {
          "value": -0.5209541459785196,
          "variable": "x163",
          "year": "2060"
         },
         {
          "value": 8,
          "variable": "Conv",
          "year": "2020"
         },
         {
          "value": 8,
          "variable": "Conv",
          "year": "2021"
         },
         {
          "value": 8,
          "variable": "Conv",
          "year": "2022"
         },
         {
          "value": 8,
          "variable": "Conv",
          "year": "2023"
         },
         {
          "value": 8,
          "variable": "Conv",
          "year": "2024"
         },
         {
          "value": 0,
          "variable": "Conv",
          "year": "2025"
         },
         {
          "value": 0,
          "variable": "Conv",
          "year": "2026"
         },
         {
          "value": 0,
          "variable": "Conv",
          "year": "2027"
         },
         {
          "value": 0,
          "variable": "Conv",
          "year": "2028"
         },
         {
          "value": 0,
          "variable": "Conv",
          "year": "2029"
         },
         {
          "value": 0,
          "variable": "Conv",
          "year": "2030"
         },
         {
          "value": 0,
          "variable": "Conv",
          "year": "2031"
         },
         {
          "value": 0,
          "variable": "Conv",
          "year": "2032"
         },
         {
          "value": 0,
          "variable": "Conv",
          "year": "2033"
         },
         {
          "value": 0,
          "variable": "Conv",
          "year": "2034"
         },
         {
          "value": 0,
          "variable": "Conv",
          "year": "2035"
         },
         {
          "value": 0,
          "variable": "Conv",
          "year": "2036"
         },
         {
          "value": 0,
          "variable": "Conv",
          "year": "2037"
         },
         {
          "value": 0,
          "variable": "Conv",
          "year": "2038"
         },
         {
          "value": 0,
          "variable": "Conv",
          "year": "2039"
         },
         {
          "value": 0,
          "variable": "Conv",
          "year": "2040"
         },
         {
          "value": 0,
          "variable": "Conv",
          "year": "2041"
         },
         {
          "value": 0,
          "variable": "Conv",
          "year": "2042"
         },
         {
          "value": 0,
          "variable": "Conv",
          "year": "2043"
         },
         {
          "value": 0,
          "variable": "Conv",
          "year": "2044"
         },
         {
          "value": 0,
          "variable": "Conv",
          "year": "2045"
         },
         {
          "value": 0,
          "variable": "Conv",
          "year": "2046"
         },
         {
          "value": 0,
          "variable": "Conv",
          "year": "2047"
         },
         {
          "value": 0,
          "variable": "Conv",
          "year": "2048"
         },
         {
          "value": 0,
          "variable": "Conv",
          "year": "2049"
         },
         {
          "value": 0,
          "variable": "Conv",
          "year": "2050"
         },
         {
          "value": 0,
          "variable": "Conv",
          "year": "2051"
         },
         {
          "value": 0,
          "variable": "Conv",
          "year": "2052"
         },
         {
          "value": 0,
          "variable": "Conv",
          "year": "2053"
         },
         {
          "value": 0,
          "variable": "Conv",
          "year": "2054"
         },
         {
          "value": 0,
          "variable": "Conv",
          "year": "2055"
         },
         {
          "value": 0,
          "variable": "Conv",
          "year": "2056"
         },
         {
          "value": 0,
          "variable": "Conv",
          "year": "2057"
         },
         {
          "value": 0,
          "variable": "Conv",
          "year": "2058"
         },
         {
          "value": 0,
          "variable": "Conv",
          "year": "2059"
         },
         {
          "value": 0,
          "variable": "Conv",
          "year": "2060"
         }
        ]
       },
       "encoding": {
        "color": {
         "field": "variable",
         "type": "nominal"
        },
        "x": {
         "field": "year"
        },
        "y": {
         "field": "value",
         "stack": "zero",
         "title": "CO2",
         "type": "quantitative"
        }
       },
       "legend": "sNames",
       "mark": "area"
      },
      "image/png": "[encoded data removed]",
      "image/svg+xml": [
       "<?xml version=\"1.0\" encoding=\"utf-8\"?>\n",
       "<!DOCTYPE svg PUBLIC \"-//W3C//DTD SVG 1.1//EN\" \"http://www.w3.org/Graphics/SVG/1.1/DTD/svg11.dtd\">\n",
       "<svg xmlns=\"http://www.w3.org/2000/svg\" xmlns:xlink=\"http://www.w3.org/1999/xlink\" version=\"1.1\" class=\"marks\" width=\"925\" height=\"261\" viewBox=\"0 0 925 261\"><rect width=\"925\" height=\"261\" fill=\"white\"/><g fill=\"none\" stroke-miterlimit=\"10\" transform=\"translate(33,10)\"><g class=\"mark-group role-frame root\" role=\"graphics-object\" aria-roledescription=\"group mark container\"><g transform=\"translate(0,0)\"><path class=\"background\" aria-hidden=\"true\" d=\"M0.5,0.5h820v200h-820Z\" stroke=\"#ddd\"/><g><g class=\"mark-group role-axis\" aria-hidden=\"true\"><g transform=\"translate(0.5,0.5)\"><path class=\"background\" aria-hidden=\"true\" d=\"M0,0h0v0h0Z\" pointer-events=\"none\"/><g><g class=\"mark-rule role-axis-grid\" pointer-events=\"none\"><line transform=\"translate(0,178)\" x2=\"820\" y2=\"0\" stroke=\"#ddd\" stroke-width=\"1\" opacity=\"1\"/><line transform=\"translate(0,133)\" x2=\"820\" y2=\"0\" stroke=\"#ddd\" stroke-width=\"1\" opacity=\"1\"/><line transform=\"translate(0,89)\" x2=\"820\" y2=\"0\" stroke=\"#ddd\" stroke-width=\"1\" opacity=\"1\"/><line transform=\"translate(0,44)\" x2=\"820\" y2=\"0\" stroke=\"#ddd\" stroke-width=\"1\" opacity=\"1\"/><line transform=\"translate(0,0)\" x2=\"820\" y2=\"0\" stroke=\"#ddd\" stroke-width=\"1\" opacity=\"1\"/></g></g><path class=\"foreground\" aria-hidden=\"true\" d=\"\" pointer-events=\"none\" display=\"none\"/></g></g><g class=\"mark-group role-axis\" role=\"graphics-symbol\" aria-roledescription=\"axis\" aria-label=\"X-axis titled 'year' for a discrete scale with 41 values: 2020, 2021, 2022, 2023, 2024, ending with 2060\"><g transform=\"translate(0.5,200.5)\"><path class=\"background\" aria-hidden=\"true\" d=\"M0,0h0v0h0Z\" pointer-events=\"none\"/><g><g class=\"mark-rule role-axis-tick\" pointer-events=\"none\"><line transform=\"translate(10,0)\" x2=\"0\" y2=\"5\" stroke=\"#888\" stroke-width=\"1\" opacity=\"1\"/><line transform=\"translate(30,0)\" x2=\"0\" y2=\"5\" stroke=\"#888\" stroke-width=\"1\" opacity=\"1\"/><line transform=\"translate(50,0)\" x2=\"0\" y2=\"5\" stroke=\"#888\" stroke-width=\"1\" opacity=\"1\"/><line transform=\"translate(70,0)\" x2=\"0\" y2=\"5\" stroke=\"#888\" stroke-width=\"1\" opacity=\"1\"/><line transform=\"translate(90,0)\" x2=\"0\" y2=\"5\" stroke=\"#888\" stroke-width=\"1\" opacity=\"1\"/><line transform=\"translate(110,0)\" x2=\"0\" y2=\"5\" stroke=\"#888\" stroke-width=\"1\" opacity=\"1\"/><line transform=\"translate(130,0)\" x2=\"0\" y2=\"5\" stroke=\"#888\" stroke-width=\"1\" opacity=\"1\"/><line transform=\"translate(150,0)\" x2=\"0\" y2=\"5\" stroke=\"#888\" stroke-width=\"1\" opacity=\"1\"/><line transform=\"translate(170,0)\" x2=\"0\" y2=\"5\" stroke=\"#888\" stroke-width=\"1\" opacity=\"1\"/><line transform=\"translate(190,0)\" x2=\"0\" y2=\"5\" stroke=\"#888\" stroke-width=\"1\" opacity=\"1\"/><line transform=\"translate(210,0)\" x2=\"0\" y2=\"5\" stroke=\"#888\" stroke-width=\"1\" opacity=\"1\"/><line transform=\"translate(230,0)\" x2=\"0\" y2=\"5\" stroke=\"#888\" stroke-width=\"1\" opacity=\"1\"/><line transform=\"translate(250,0)\" x2=\"0\" y2=\"5\" stroke=\"#888\" stroke-width=\"1\" opacity=\"1\"/><line transform=\"translate(270,0)\" x2=\"0\" y2=\"5\" stroke=\"#888\" stroke-width=\"1\" opacity=\"1\"/><line transform=\"translate(290,0)\" x2=\"0\" y2=\"5\" stroke=\"#888\" stroke-width=\"1\" opacity=\"1\"/><line transform=\"translate(310,0)\" x2=\"0\" y2=\"5\" stroke=\"#888\" stroke-width=\"1\" opacity=\"1\"/><line transform=\"translate(330,0)\" x2=\"0\" y2=\"5\" stroke=\"#888\" stroke-width=\"1\" opacity=\"1\"/><line transform=\"translate(350,0)\" x2=\"0\" y2=\"5\" stroke=\"#888\" stroke-width=\"1\" opacity=\"1\"/><line transform=\"translate(370,0)\" x2=\"0\" y2=\"5\" stroke=\"#888\" stroke-width=\"1\" opacity=\"1\"/><line transform=\"translate(390,0)\" x2=\"0\" y2=\"5\" stroke=\"#888\" stroke-width=\"1\" opacity=\"1\"/><line transform=\"translate(410,0)\" x2=\"0\" y2=\"5\" stroke=\"#888\" stroke-width=\"1\" opacity=\"1\"/><line transform=\"translate(430,0)\" x2=\"0\" y2=\"5\" stroke=\"#888\" stroke-width=\"1\" opacity=\"1\"/><line transform=\"translate(450,0)\" x2=\"0\" y2=\"5\" stroke=\"#888\" stroke-width=\"1\" opacity=\"1\"/><line transform=\"translate(470,0)\" x2=\"0\" y2=\"5\" stroke=\"#888\" stroke-width=\"1\" opacity=\"1\"/><line transform=\"translate(490,0)\" x2=\"0\" y2=\"5\" stroke=\"#888\" stroke-width=\"1\" opacity=\"1\"/><line transform=\"translate(510,0)\" x2=\"0\" y2=\"5\" stroke=\"#888\" stroke-width=\"1\" opacity=\"1\"/><line transform=\"translate(530,0)\" x2=\"0\" y2=\"5\" stroke=\"#888\" stroke-width=\"1\" opacity=\"1\"/><line transform=\"translate(550,0)\" x2=\"0\" y2=\"5\" stroke=\"#888\" stroke-width=\"1\" opacity=\"1\"/><line transform=\"translate(570,0)\" x2=\"0\" y2=\"5\" stroke=\"#888\" stroke-width=\"1\" opacity=\"1\"/><line transform=\"translate(590,0)\" x2=\"0\" y2=\"5\" stroke=\"#888\" stroke-width=\"1\" opacity=\"1\"/><line transform=\"translate(610,0)\" x2=\"0\" y2=\"5\" stroke=\"#888\" stroke-width=\"1\" opacity=\"1\"/><line transform=\"translate(630,0)\" x2=\"0\" y2=\"5\" stroke=\"#888\" stroke-width=\"1\" opacity=\"1\"/><line transform=\"translate(650,0)\" x2=\"0\" y2=\"5\" stroke=\"#888\" stroke-width=\"1\" opacity=\"1\"/><line transform=\"translate(670,0)\" x2=\"0\" y2=\"5\" stroke=\"#888\" stroke-width=\"1\" opacity=\"1\"/><line transform=\"translate(690,0)\" x2=\"0\" y2=\"5\" stroke=\"#888\" stroke-width=\"1\" opacity=\"1\"/><line transform=\"translate(710,0)\" x2=\"0\" y2=\"5\" stroke=\"#888\" stroke-width=\"1\" opacity=\"1\"/><line transform=\"translate(730,0)\" x2=\"0\" y2=\"5\" stroke=\"#888\" stroke-width=\"1\" opacity=\"1\"/><line transform=\"translate(750,0)\" x2=\"0\" y2=\"5\" stroke=\"#888\" stroke-width=\"1\" opacity=\"1\"/><line transform=\"translate(770,0)\" x2=\"0\" y2=\"5\" stroke=\"#888\" stroke-width=\"1\" opacity=\"1\"/><line transform=\"translate(790,0)\" x2=\"0\" y2=\"5\" stroke=\"#888\" stroke-width=\"1\" opacity=\"1\"/><line transform=\"translate(810,0)\" x2=\"0\" y2=\"5\" stroke=\"#888\" stroke-width=\"1\" opacity=\"1\"/></g><g class=\"mark-text role-axis-label\" pointer-events=\"none\"><text text-anchor=\"end\" transform=\"translate(10,7) rotate(270) translate(0,3)\" font-family=\"sans-serif\" font-size=\"10px\" fill=\"#000\" opacity=\"1\">2020</text><text text-anchor=\"end\" transform=\"translate(30,7) rotate(270) translate(0,3)\" font-family=\"sans-serif\" font-size=\"10px\" fill=\"#000\" opacity=\"1\">2021</text><text text-anchor=\"end\" transform=\"translate(50,7) rotate(270) translate(0,3)\" font-family=\"sans-serif\" font-size=\"10px\" fill=\"#000\" opacity=\"1\">2022</text><text text-anchor=\"end\" transform=\"translate(70,7) rotate(270) translate(0,3)\" font-family=\"sans-serif\" font-size=\"10px\" fill=\"#000\" opacity=\"1\">2023</text><text text-anchor=\"end\" transform=\"translate(90,7) rotate(270) translate(0,3)\" font-family=\"sans-serif\" font-size=\"10px\" fill=\"#000\" opacity=\"1\">2024</text><text text-anchor=\"end\" transform=\"translate(110,7) rotate(270) translate(0,3)\" font-family=\"sans-serif\" font-size=\"10px\" fill=\"#000\" opacity=\"1\">2025</text><text text-anchor=\"end\" transform=\"translate(130,7) rotate(270) translate(0,3)\" font-family=\"sans-serif\" font-size=\"10px\" fill=\"#000\" opacity=\"1\">2026</text><text text-anchor=\"end\" transform=\"translate(150,7) rotate(270) translate(0,3)\" font-family=\"sans-serif\" font-size=\"10px\" fill=\"#000\" opacity=\"1\">2027</text><text text-anchor=\"end\" transform=\"translate(170,7) rotate(270) translate(0,3)\" font-family=\"sans-serif\" font-size=\"10px\" fill=\"#000\" opacity=\"1\">2028</text><text text-anchor=\"end\" transform=\"translate(190,7) rotate(270) translate(0,3)\" font-family=\"sans-serif\" font-size=\"10px\" fill=\"#000\" opacity=\"1\">2029</text><text text-anchor=\"end\" transform=\"translate(210,7) rotate(270) translate(0,3)\" font-family=\"sans-serif\" font-size=\"10px\" fill=\"#000\" opacity=\"1\">2030</text><text text-anchor=\"end\" transform=\"translate(230,7) rotate(270) translate(0,3)\" font-family=\"sans-serif\" font-size=\"10px\" fill=\"#000\" opacity=\"1\">2031</text><text text-anchor=\"end\" transform=\"translate(250,7) rotate(270) translate(0,3)\" font-family=\"sans-serif\" font-size=\"10px\" fill=\"#000\" opacity=\"1\">2032</text><text text-anchor=\"end\" transform=\"translate(270,7) rotate(270) translate(0,3)\" font-family=\"sans-serif\" font-size=\"10px\" fill=\"#000\" opacity=\"1\">2033</text><text text-anchor=\"end\" transform=\"translate(290,7) rotate(270) translate(0,3)\" font-family=\"sans-serif\" font-size=\"10px\" fill=\"#000\" opacity=\"1\">2034</text><text text-anchor=\"end\" transform=\"translate(310,7) rotate(270) translate(0,3)\" font-family=\"sans-serif\" font-size=\"10px\" fill=\"#000\" opacity=\"1\">2035</text><text text-anchor=\"end\" transform=\"translate(330,7) rotate(270) translate(0,3)\" font-family=\"sans-serif\" font-size=\"10px\" fill=\"#000\" opacity=\"1\">2036</text><text text-anchor=\"end\" transform=\"translate(350,7) rotate(270) translate(0,3)\" font-family=\"sans-serif\" font-size=\"10px\" fill=\"#000\" opacity=\"1\">2037</text><text text-anchor=\"end\" transform=\"translate(370,7) rotate(270) translate(0,3)\" font-family=\"sans-serif\" font-size=\"10px\" fill=\"#000\" opacity=\"1\">2038</text><text text-anchor=\"end\" transform=\"translate(390,7) rotate(270) translate(0,3)\" font-family=\"sans-serif\" font-size=\"10px\" fill=\"#000\" opacity=\"1\">2039</text><text text-anchor=\"end\" transform=\"translate(410,7) rotate(270) translate(0,3)\" font-family=\"sans-serif\" font-size=\"10px\" fill=\"#000\" opacity=\"1\">2040</text><text text-anchor=\"end\" transform=\"translate(430,7) rotate(270) translate(0,3)\" font-family=\"sans-serif\" font-size=\"10px\" fill=\"#000\" opacity=\"1\">2041</text><text text-anchor=\"end\" transform=\"translate(450,7) rotate(270) translate(0,3)\" font-family=\"sans-serif\" font-size=\"10px\" fill=\"#000\" opacity=\"1\">2042</text><text text-anchor=\"end\" transform=\"translate(470,7) rotate(270) translate(0,3)\" font-family=\"sans-serif\" font-size=\"10px\" fill=\"#000\" opacity=\"1\">2043</text><text text-anchor=\"end\" transform=\"translate(490,7) rotate(270) translate(0,3)\" font-family=\"sans-serif\" font-size=\"10px\" fill=\"#000\" opacity=\"1\">2044</text><text text-anchor=\"end\" transform=\"translate(510,7) rotate(270) translate(0,3)\" font-family=\"sans-serif\" font-size=\"10px\" fill=\"#000\" opacity=\"1\">2045</text><text text-anchor=\"end\" transform=\"translate(530,7) rotate(270) translate(0,3)\" font-family=\"sans-serif\" font-size=\"10px\" fill=\"#000\" opacity=\"1\">2046</text><text text-anchor=\"end\" transform=\"translate(550,7) rotate(270) translate(0,3)\" font-family=\"sans-serif\" font-size=\"10px\" fill=\"#000\" opacity=\"1\">2047</text><text text-anchor=\"end\" transform=\"translate(570,7) rotate(270) translate(0,3)\" font-family=\"sans-serif\" font-size=\"10px\" fill=\"#000\" opacity=\"1\">2048</text><text text-anchor=\"end\" transform=\"translate(590,7) rotate(270) translate(0,3)\" font-family=\"sans-serif\" font-size=\"10px\" fill=\"#000\" opacity=\"1\">2049</text><text text-anchor=\"end\" transform=\"translate(610,7) rotate(270) translate(0,3)\" font-family=\"sans-serif\" font-size=\"10px\" fill=\"#000\" opacity=\"1\">2050</text><text text-anchor=\"end\" transform=\"translate(630,7) rotate(270) translate(0,3)\" font-family=\"sans-serif\" font-size=\"10px\" fill=\"#000\" opacity=\"1\">2051</text><text text-anchor=\"end\" transform=\"translate(650,7) rotate(270) translate(0,3)\" font-family=\"sans-serif\" font-size=\"10px\" fill=\"#000\" opacity=\"1\">2052</text><text text-anchor=\"end\" transform=\"translate(670,7) rotate(270) translate(0,3)\" font-family=\"sans-serif\" font-size=\"10px\" fill=\"#000\" opacity=\"1\">2053</text><text text-anchor=\"end\" transform=\"translate(690,7) rotate(270) translate(0,3)\" font-family=\"sans-serif\" font-size=\"10px\" fill=\"#000\" opacity=\"1\">2054</text><text text-anchor=\"end\" transform=\"translate(710,7) rotate(270) translate(0,3)\" font-family=\"sans-serif\" font-size=\"10px\" fill=\"#000\" opacity=\"1\">2055</text><text text-anchor=\"end\" transform=\"translate(730,7) rotate(270) translate(0,3)\" font-family=\"sans-serif\" font-size=\"10px\" fill=\"#000\" opacity=\"1\">2056</text><text text-anchor=\"end\" transform=\"translate(750,7) rotate(270) translate(0,3)\" font-family=\"sans-serif\" font-size=\"10px\" fill=\"#000\" opacity=\"1\">2057</text><text text-anchor=\"end\" transform=\"translate(770,7) rotate(270) translate(0,3)\" font-family=\"sans-serif\" font-size=\"10px\" fill=\"#000\" opacity=\"1\">2058</text><text text-anchor=\"end\" transform=\"translate(790,7) rotate(270) translate(0,3)\" font-family=\"sans-serif\" font-size=\"10px\" fill=\"#000\" opacity=\"1\">2059</text><text text-anchor=\"end\" transform=\"translate(810,7) rotate(270) translate(0,3)\" font-family=\"sans-serif\" font-size=\"10px\" fill=\"#000\" opacity=\"1\">2060</text></g><g class=\"mark-rule role-axis-domain\" pointer-events=\"none\"><line transform=\"translate(0,0)\" x2=\"820\" y2=\"0\" stroke=\"#888\" stroke-width=\"1\" opacity=\"1\"/></g><g class=\"mark-text role-axis-title\" pointer-events=\"none\"><text text-anchor=\"middle\" transform=\"translate(410,44)\" font-family=\"sans-serif\" font-size=\"11px\" font-weight=\"bold\" fill=\"#000\" opacity=\"1\">year</text></g></g><path class=\"foreground\" aria-hidden=\"true\" d=\"\" pointer-events=\"none\" display=\"none\"/></g></g><g class=\"mark-group role-axis\" role=\"graphics-symbol\" aria-roledescription=\"axis\" aria-label=\"Y-axis titled 'CO2' for a linear scale with values from −1 to 8\"><g transform=\"translate(0.5,0.5)\"><path class=\"background\" aria-hidden=\"true\" d=\"M0,0h0v0h0Z\" pointer-events=\"none\"/><g><g class=\"mark-rule role-axis-tick\" pointer-events=\"none\"><line transform=\"translate(0,178)\" x2=\"-5\" y2=\"0\" stroke=\"#888\" stroke-width=\"1\" opacity=\"1\"/><line transform=\"translate(0,133)\" x2=\"-5\" y2=\"0\" stroke=\"#888\" stroke-width=\"1\" opacity=\"1\"/><line transform=\"translate(0,89)\" x2=\"-5\" y2=\"0\" stroke=\"#888\" stroke-width=\"1\" opacity=\"1\"/><line transform=\"translate(0,44)\" x2=\"-5\" y2=\"0\" stroke=\"#888\" stroke-width=\"1\" opacity=\"1\"/><line transform=\"translate(0,0)\" x2=\"-5\" y2=\"0\" stroke=\"#888\" stroke-width=\"1\" opacity=\"1\"/></g><g class=\"mark-text role-axis-label\" pointer-events=\"none\"><text text-anchor=\"end\" transform=\"translate(-7,180.77777777777777)\" font-family=\"sans-serif\" font-size=\"10px\" fill=\"#000\" opacity=\"1\">0</text><text text-anchor=\"end\" transform=\"translate(-7,136.33333333333334)\" font-family=\"sans-serif\" font-size=\"10px\" fill=\"#000\" opacity=\"1\">2</text><text text-anchor=\"end\" transform=\"translate(-7,91.88888888888889)\" font-family=\"sans-serif\" font-size=\"10px\" fill=\"#000\" opacity=\"1\">4</text><text text-anchor=\"end\" transform=\"translate(-7,47.44444444444444)\" font-family=\"sans-serif\" font-size=\"10px\" fill=\"#000\" opacity=\"1\">6</text><text text-anchor=\"end\" transform=\"translate(-7,3)\" font-family=\"sans-serif\" font-size=\"10px\" fill=\"#000\" opacity=\"1\">8</text></g><g class=\"mark-rule role-axis-domain\" pointer-events=\"none\"><line transform=\"translate(0,200)\" x2=\"0\" y2=\"-200\" stroke=\"#888\" stroke-width=\"1\" opacity=\"1\"/></g><g class=\"mark-text role-axis-title\" pointer-events=\"none\"><text text-anchor=\"middle\" transform=\"translate(-17,100) rotate(-90) translate(0,-2)\" font-family=\"sans-serif\" font-size=\"11px\" font-weight=\"bold\" fill=\"#000\" opacity=\"1\">CO2</text></g></g><path class=\"foreground\" aria-hidden=\"true\" d=\"\" pointer-events=\"none\" display=\"none\"/></g></g><g class=\"mark-group role-scope pathgroup\" role=\"graphics-object\" aria-roledescription=\"group mark container\"><g transform=\"translate(0,0)\"><path class=\"background\" aria-hidden=\"true\" d=\"M0,0h820v200h-820Z\"/><g><g class=\"mark-area role-mark marks\" role=\"graphics-object\" aria-roledescription=\"area mark container\"><path aria-label=\"year: 2020; CO2: 0; variable: x28\" role=\"graphics-symbol\" aria-roledescription=\"area mark\" d=\"M10,177.77777777777777L30,177.77777777777777L50,177.77777777777777L70,177.77777777777777L90,177.77777777777777L110,111.26861935359751L130,111.26861935359751L150,111.26861935359751L170,111.26861935359751L190,111.26861935359751L210,115.89858332897474L230,115.89858332897474L250,115.89858332897474L270,115.89858332897474L290,115.89858332897474L310,82.12128015816195L330,82.12128015816195L350,82.12128015816195L370,82.12128015816195L390,82.12128015816195L410,102.25679690732021L430,102.25679690732021L450,102.25679690732021L470,102.25679690732021L490,102.25679690732021L510,105.50843834072934L530,105.50843834072934L550,105.50843834072934L570,105.50843834072934L590,105.50843834072934L610,106.92928913298717L630,106.92928913298717L650,106.92928913298717L670,106.92928913298717L690,106.92928913298717L710,167.1105127905033L730,167.1105127905033L750,167.1105127905033L770,167.1105127905033L790,167.1105127905033L810,167.1105127905033L810,167.1105127905033L790,167.1105127905033L770,167.1105127905033L750,167.1105127905033L730,167.1105127905033L710,167.1105127905033L690,106.92928913298717L670,106.92928913298717L650,106.92928913298717L630,106.92928913298717L610,106.92928913298717L590,177.77777777777777L570,177.77777777777777L550,177.77777777777777L530,177.77777777777777L510,177.77777777777777L490,102.25679690732021L470,102.25679690732021L450,102.25679690732021L430,102.25679690732021L410,102.25679690732021L390,177.77777777777777L370,177.77777777777777L350,177.77777777777777L330,177.77777777777777L310,177.77777777777777L290,115.89858332897474L270,115.89858332897474L250,115.89858332897474L230,115.89858332897474L210,115.89858332897474L190,111.26861935359751L170,111.26861935359751L150,111.26861935359751L130,111.26861935359751L110,111.26861935359751L90,177.77777777777777L70,177.77777777777777L50,177.77777777777777L30,177.77777777777777L10,177.77777777777777Z\" fill=\"#54a24b\"/></g></g><path class=\"foreground\" aria-hidden=\"true\" d=\"\" display=\"none\"/></g><g transform=\"translate(0,0)\"><path class=\"background\" aria-hidden=\"true\" d=\"M0,0h820v200h-820Z\"/><g><g class=\"mark-area role-mark marks\" role=\"graphics-object\" aria-roledescription=\"area mark container\"><path aria-label=\"year: 2020; CO2: 0; variable: x30\" role=\"graphics-symbol\" aria-roledescription=\"area mark\" d=\"M10,177.77777777777777L30,177.77777777777777L50,177.77777777777777L70,177.77777777777777L90,177.77777777777777L110,111.26861935359751L130,111.26861935359751L150,111.26861935359751L170,111.26861935359751L190,111.26861935359751L210,115.89858332897474L230,115.89858332897474L250,115.89858332897474L270,115.89858332897474L290,115.89858332897474L310,177.77777777777777L330,177.77777777777777L350,177.77777777777777L370,177.77777777777777L390,177.77777777777777L410,102.25679690732021L430,102.25679690732021L450,102.25679690732021L470,102.25679690732021L490,102.25679690732021L510,177.77777777777777L530,177.77777777777777L550,177.77777777777777L570,177.77777777777777L590,177.77777777777777L610,106.92928913298717L630,106.92928913298717L650,106.92928913298717L670,106.92928913298717L690,106.92928913298717L710,167.1105127905033L730,167.1105127905033L750,167.1105127905033L770,167.1105127905033L790,167.1105127905033L810,167.1105127905033L810,167.1105127905033L790,167.1105127905033L770,167.1105127905033L750,167.1105127905033L730,167.1105127905033L710,167.1105127905033L690,106.92928913298717L670,106.92928913298717L650,106.92928913298717L630,106.92928913298717L610,106.92928913298717L590,177.77777777777777L570,177.77777777777777L550,177.77777777777777L530,177.77777777777777L510,177.77777777777777L490,102.25679690732021L470,102.25679690732021L450,102.25679690732021L430,102.25679690732021L410,102.25679690732021L390,177.77777777777777L370,177.77777777777777L350,177.77777777777777L330,177.77777777777777L310,177.77777777777777L290,177.77777777777777L270,177.77777777777777L250,177.77777777777777L230,177.77777777777777L210,177.77777777777777L190,111.26861935359751L170,111.26861935359751L150,111.26861935359751L130,111.26861935359751L110,111.26861935359751L90,177.77777777777777L70,177.77777777777777L50,177.77777777777777L30,177.77777777777777L10,177.77777777777777Z\" fill=\"#eeca3b\"/></g></g><path class=\"foreground\" aria-hidden=\"true\" d=\"\" display=\"none\"/></g><g transform=\"translate(0,0)\"><path class=\"background\" aria-hidden=\"true\" d=\"M0,0h820v200h-820Z\"/><g><g class=\"mark-area role-mark marks\" role=\"graphics-object\" aria-roledescription=\"area mark container\"><path aria-label=\"year: 2020; CO2: 0; variable: x34\" role=\"graphics-symbol\" aria-roledescription=\"area mark\" d=\"M10,177.77777777777777L30,177.77777777777777L50,177.77777777777777L70,177.77777777777777L90,177.77777777777777L110,111.26861935359751L130,111.26861935359751L150,111.26861935359751L170,111.26861935359751L190,111.26861935359751L210,177.77777777777777L230,177.77777777777777L250,177.77777777777777L270,177.77777777777777L290,177.77777777777777L310,177.77777777777777L330,177.77777777777777L350,177.77777777777777L370,177.77777777777777L390,177.77777777777777L410,102.25679690732021L430,102.25679690732021L450,102.25679690732021L470,102.25679690732021L490,102.25679690732021L510,177.77777777777777L530,177.77777777777777L550,177.77777777777777L570,177.77777777777777L590,177.77777777777777L610,106.92928913298717L630,106.92928913298717L650,106.92928913298717L670,106.92928913298717L690,106.92928913298717L710,167.1105127905033L730,167.1105127905033L750,167.1105127905033L770,167.1105127905033L790,167.1105127905033L810,167.1105127905033L810,167.1105127905033L790,167.1105127905033L770,167.1105127905033L750,167.1105127905033L730,167.1105127905033L710,167.1105127905033L690,106.92928913298717L670,106.92928913298717L650,106.92928913298717L630,106.92928913298717L610,106.92928913298717L590,177.77777777777777L570,177.77777777777777L550,177.77777777777777L530,177.77777777777777L510,177.77777777777777L490,102.25679690732021L470,102.25679690732021L450,102.25679690732021L430,102.25679690732021L410,102.25679690732021L390,177.77777777777777L370,177.77777777777777L350,177.77777777777777L330,177.77777777777777L310,177.77777777777777L290,177.77777777777777L270,177.77777777777777L250,177.77777777777777L230,177.77777777777777L210,177.77777777777777L190,177.77777777777777L170,177.77777777777777L150,177.77777777777777L130,177.77777777777777L110,177.77777777777777L90,177.77777777777777L70,177.77777777777777L50,177.77777777777777L30,177.77777777777777L10,177.77777777777777Z\" fill=\"#b279a2\"/></g></g><path class=\"foreground\" aria-hidden=\"true\" d=\"\" display=\"none\"/></g><g transform=\"translate(0,0)\"><path class=\"background\" aria-hidden=\"true\" d=\"M0,0h820v200h-820Z\"/><g><g class=\"mark-area role-mark marks\" role=\"graphics-object\" aria-roledescription=\"area mark container\"><path aria-label=\"year: 2020; CO2: 0; variable: x37\" role=\"graphics-symbol\" aria-roledescription=\"area mark\" d=\"M10,177.77777777777777L30,177.77777777777777L50,177.77777777777777L70,177.77777777777777L90,177.77777777777777L110,177.77777777777777L130,177.77777777777777L150,177.77777777777777L170,177.77777777777777L190,177.77777777777777L210,177.77777777777777L230,177.77777777777777L250,177.77777777777777L270,177.77777777777777L290,177.77777777777777L310,177.77777777777777L330,177.77777777777777L350,177.77777777777777L370,177.77777777777777L390,177.77777777777777L410,102.25679690732021L430,102.25679690732021L450,102.25679690732021L470,102.25679690732021L490,102.25679690732021L510,177.77777777777777L530,177.77777777777777L550,177.77777777777777L570,177.77777777777777L590,177.77777777777777L610,106.92928913298717L630,106.92928913298717L650,106.92928913298717L670,106.92928913298717L690,106.92928913298717L710,167.1105127905033L730,167.1105127905033L750,167.1105127905033L770,167.1105127905033L790,167.1105127905033L810,167.1105127905033L810,177.77777777777777L790,177.77777777777777L770,177.77777777777777L750,177.77777777777777L730,177.77777777777777L710,177.77777777777777L690,106.92928913298717L670,106.92928913298717L650,106.92928913298717L630,106.92928913298717L610,106.92928913298717L590,177.77777777777777L570,177.77777777777777L550,177.77777777777777L530,177.77777777777777L510,177.77777777777777L490,102.25679690732021L470,102.25679690732021L450,102.25679690732021L430,102.25679690732021L410,102.25679690732021L390,177.77777777777777L370,177.77777777777777L350,177.77777777777777L330,177.77777777777777L310,177.77777777777777L290,177.77777777777777L270,177.77777777777777L250,177.77777777777777L230,177.77777777777777L210,177.77777777777777L190,177.77777777777777L170,177.77777777777777L150,177.77777777777777L130,177.77777777777777L110,177.77777777777777L90,177.77777777777777L70,177.77777777777777L50,177.77777777777777L30,177.77777777777777L10,177.77777777777777Z\" fill=\"#ff9da6\"/></g></g><path class=\"foreground\" aria-hidden=\"true\" d=\"\" display=\"none\"/></g><g transform=\"translate(0,0)\"><path class=\"background\" aria-hidden=\"true\" d=\"M0,0h820v200h-820Z\"/><g><g class=\"mark-area role-mark marks\" role=\"graphics-object\" aria-roledescription=\"area mark container\"><path aria-label=\"year: 2020; CO2: 0; variable: x48\" role=\"graphics-symbol\" aria-roledescription=\"area mark\" d=\"M10,177.77777777777777L30,177.77777777777777L50,177.77777777777777L70,177.77777777777777L90,177.77777777777777L110,177.77777777777777L130,177.77777777777777L150,177.77777777777777L170,177.77777777777777L190,177.77777777777777L210,177.77777777777777L230,177.77777777777777L250,177.77777777777777L270,177.77777777777777L290,177.77777777777777L310,177.77777777777777L330,177.77777777777777L350,177.77777777777777L370,177.77777777777777L390,177.77777777777777L410,102.25679690732021L430,102.25679690732021L450,102.25679690732021L470,102.25679690732021L490,102.25679690732021L510,177.77777777777777L530,177.77777777777777L550,177.77777777777777L570,177.77777777777777L590,177.77777777777777L610,106.92928913298717L630,106.92928913298717L650,106.92928913298717L670,106.92928913298717L690,106.92928913298717L710,177.77777777777777L730,177.77777777777777L750,177.77777777777777L770,177.77777777777777L790,177.77777777777777L810,177.77777777777777L810,177.77777777777777L790,177.77777777777777L770,177.77777777777777L750,177.77777777777777L730,177.77777777777777L710,177.77777777777777L690,177.77777777777777L670,177.77777777777777L650,177.77777777777777L630,177.77777777777777L610,177.77777777777777L590,177.77777777777777L570,177.77777777777777L550,177.77777777777777L530,177.77777777777777L510,177.77777777777777L490,177.77777777777777L470,177.77777777777777L450,177.77777777777777L430,177.77777777777777L410,177.77777777777777L390,177.77777777777777L370,177.77777777777777L350,177.77777777777777L330,177.77777777777777L310,177.77777777777777L290,177.77777777777777L270,177.77777777777777L250,177.77777777777777L230,177.77777777777777L210,177.77777777777777L190,177.77777777777777L170,177.77777777777777L150,177.77777777777777L130,177.77777777777777L110,177.77777777777777L90,177.77777777777777L70,177.77777777777777L50,177.77777777777777L30,177.77777777777777L10,177.77777777777777Z\" fill=\"#9d755d\"/></g></g><path class=\"foreground\" aria-hidden=\"true\" d=\"\" display=\"none\"/></g><g transform=\"translate(0,0)\"><path class=\"background\" aria-hidden=\"true\" d=\"M0,0h820v200h-820Z\"/><g><g class=\"mark-area role-mark marks\" role=\"graphics-object\" aria-roledescription=\"area mark container\"><path aria-label=\"year: 2020; CO2: 0; variable: x158\" role=\"graphics-symbol\" aria-roledescription=\"area mark\" d=\"M10,177.77777777777777L30,177.77777777777777L50,177.77777777777777L70,177.77777777777777L90,177.77777777777777L110,111.26861935359751L130,111.26861935359751L150,111.26861935359751L170,111.26861935359751L190,111.26861935359751L210,115.89858332897474L230,115.89858332897474L250,115.89858332897474L270,115.89858332897474L290,115.89858332897474L310,82.12128015816195L330,82.12128015816195L350,82.12128015816195L370,82.12128015816195L390,82.12128015816195L410,102.16793977365018L430,102.16793977365018L450,102.16793977365018L470,102.16793977365018L490,102.16793977365018L510,94.19690612100781L530,94.19690612100781L550,94.19690612100781L570,94.19690612100781L590,94.19690612100781L610,178.0533325801951L630,178.0533325801951L650,178.0533325801951L670,178.0533325801951L690,178.0533325801951L710,167.1105127905033L730,167.1105127905033L750,167.1105127905033L770,167.1105127905033L790,167.1105127905033L810,167.1105127905033L810,167.1105127905033L790,167.1105127905033L770,167.1105127905033L750,167.1105127905033L730,167.1105127905033L710,167.1105127905033L690,177.77777777777777L670,177.77777777777777L650,177.77777777777777L630,177.77777777777777L610,177.77777777777777L590,94.19690612100781L570,94.19690612100781L550,94.19690612100781L530,94.19690612100781L510,94.19690612100781L490,102.25679690731964L470,102.25679690731964L450,102.25679690731964L430,102.25679690731964L410,102.25679690731964L390,82.12128015816195L370,82.12128015816195L350,82.12128015816195L330,82.12128015816195L310,82.12128015816195L290,115.89858332897474L270,115.89858332897474L250,115.89858332897474L230,115.89858332897474L210,115.89858332897474L190,111.26861935359751L170,111.26861935359751L150,111.26861935359751L130,111.26861935359751L110,111.26861935359751L90,177.77777777777777L70,177.77777777777777L50,177.77777777777777L30,177.77777777777777L10,177.77777777777777Z\" fill=\"#f58518\"/></g></g><path class=\"foreground\" aria-hidden=\"true\" d=\"\" display=\"none\"/></g><g transform=\"translate(0,0)\"><path class=\"background\" aria-hidden=\"true\" d=\"M0,0h820v200h-820Z\"/><g><g class=\"mark-area role-mark marks\" role=\"graphics-object\" aria-roledescription=\"area mark container\"><path aria-label=\"year: 2020; CO2: 0; variable: x159\" role=\"graphics-symbol\" aria-roledescription=\"area mark\" d=\"M10,177.77777777777777L30,177.77777777777777L50,177.77777777777777L70,177.77777777777777L90,177.77777777777777L110,111.26861935359751L130,111.26861935359751L150,111.26861935359751L170,111.26861935359751L190,111.26861935359751L210,115.89858332897474L230,115.89858332897474L250,115.89858332897474L270,115.89858332897474L290,115.89858332897474L310,82.12128015816195L330,82.12128015816195L350,82.12128015816195L370,82.12128015816195L390,82.12128015816195L410,102.25679690731964L430,102.25679690731964L450,102.25679690731964L470,102.25679690731964L490,102.25679690731964L510,94.19690612100781L530,94.19690612100781L550,94.19690612100781L570,94.19690612100781L590,94.19690612100781L610,106.92928913298717L630,106.92928913298717L650,106.92928913298717L670,106.92928913298717L690,106.92928913298717L710,167.1105127905033L730,167.1105127905033L750,167.1105127905033L770,167.1105127905033L790,167.1105127905033L810,167.1105127905033L810,167.1105127905033L790,167.1105127905033L770,167.1105127905033L750,167.1105127905033L730,167.1105127905033L710,167.1105127905033L690,106.92928913298717L670,106.92928913298717L650,106.92928913298717L630,106.92928913298717L610,106.92928913298717L590,105.50843834072934L570,105.50843834072934L550,105.50843834072934L530,105.50843834072934L510,105.50843834072934L490,102.25679690731964L470,102.25679690731964L450,102.25679690731964L430,102.25679690731964L410,102.25679690731964L390,82.12128015816195L370,82.12128015816195L350,82.12128015816195L330,82.12128015816195L310,82.12128015816195L290,115.89858332897474L270,115.89858332897474L250,115.89858332897474L230,115.89858332897474L210,115.89858332897474L190,111.26861935359751L170,111.26861935359751L150,111.26861935359751L130,111.26861935359751L110,111.26861935359751L90,177.77777777777777L70,177.77777777777777L50,177.77777777777777L30,177.77777777777777L10,177.77777777777777Z\" fill=\"#e45756\"/></g></g><path class=\"foreground\" aria-hidden=\"true\" d=\"\" display=\"none\"/></g><g transform=\"translate(0,0)\"><path class=\"background\" aria-hidden=\"true\" d=\"M0,0h820v200h-820Z\"/><g><g class=\"mark-area role-mark marks\" role=\"graphics-object\" aria-roledescription=\"area mark container\"><path aria-label=\"year: 2020; CO2: 0; variable: x163\" role=\"graphics-symbol\" aria-roledescription=\"area mark\" d=\"M10,177.77777777777777L30,177.77777777777777L50,177.77777777777777L70,177.77777777777777L90,177.77777777777777L110,111.26861935359751L130,111.26861935359751L150,111.26861935359751L170,111.26861935359751L190,111.26861935359751L210,115.89858332897474L230,115.89858332897474L250,115.89858332897474L270,115.89858332897474L290,115.89858332897474L310,82.12128015816195L330,82.12128015816195L350,82.12128015816195L370,82.12128015816195L390,82.12128015816195L410,102.25679690731964L430,102.25679690731964L450,102.25679690731964L470,102.25679690731964L490,102.25679690731964L510,105.50843834072934L530,105.50843834072934L550,105.50843834072934L570,105.50843834072934L590,105.50843834072934L610,106.92928913298717L630,106.92928913298717L650,106.92928913298717L670,106.92928913298717L690,106.92928913298717L710,189.35453657730045L730,189.35453657730045L750,189.35453657730045L770,189.35453657730045L790,189.35453657730045L810,189.35453657730045L810,177.77777777777777L790,177.77777777777777L770,177.77777777777777L750,177.77777777777777L730,177.77777777777777L710,177.77777777777777L690,106.92928913298717L670,106.92928913298717L650,106.92928913298717L630,106.92928913298717L610,106.92928913298717L590,105.50843834072934L570,105.50843834072934L550,105.50843834072934L530,105.50843834072934L510,105.50843834072934L490,102.25679690732021L470,102.25679690732021L450,102.25679690732021L430,102.25679690732021L410,102.25679690732021L390,82.12128015816195L370,82.12128015816195L350,82.12128015816195L330,82.12128015816195L310,82.12128015816195L290,115.89858332897474L270,115.89858332897474L250,115.89858332897474L230,115.89858332897474L210,115.89858332897474L190,111.26861935359751L170,111.26861935359751L150,111.26861935359751L130,111.26861935359751L110,111.26861935359751L90,177.77777777777777L70,177.77777777777777L50,177.77777777777777L30,177.77777777777777L10,177.77777777777777Z\" fill=\"#72b7b2\"/></g></g><path class=\"foreground\" aria-hidden=\"true\" d=\"\" display=\"none\"/></g><g transform=\"translate(0,0)\"><path class=\"background\" aria-hidden=\"true\" d=\"M0,0h820v200h-820Z\"/><g><g class=\"mark-area role-mark marks\" role=\"graphics-object\" aria-roledescription=\"area mark container\"><path aria-label=\"year: 2020; CO2: 8; variable: Conv\" role=\"graphics-symbol\" aria-roledescription=\"area mark\" d=\"M10,0L30,0L50,0L70,0L90,0L110,111.26861935359751L130,111.26861935359751L150,111.26861935359751L170,111.26861935359751L190,111.26861935359751L210,115.89858332897474L230,115.89858332897474L250,115.89858332897474L270,115.89858332897474L290,115.89858332897474L310,82.12128015816195L330,82.12128015816195L350,82.12128015816195L370,82.12128015816195L390,82.12128015816195L410,102.16793977365018L430,102.16793977365018L450,102.16793977365018L470,102.16793977365018L490,102.16793977365018L510,94.19690612100781L530,94.19690612100781L550,94.19690612100781L570,94.19690612100781L590,94.19690612100781L610,106.92928913298717L630,106.92928913298717L650,106.92928913298717L670,106.92928913298717L690,106.92928913298717L710,167.1105127905033L730,167.1105127905033L750,167.1105127905033L770,167.1105127905033L790,167.1105127905033L810,167.1105127905033L810,167.1105127905033L790,167.1105127905033L770,167.1105127905033L750,167.1105127905033L730,167.1105127905033L710,167.1105127905033L690,106.92928913298717L670,106.92928913298717L650,106.92928913298717L630,106.92928913298717L610,106.92928913298717L590,94.19690612100781L570,94.19690612100781L550,94.19690612100781L530,94.19690612100781L510,94.19690612100781L490,102.16793977365018L470,102.16793977365018L450,102.16793977365018L430,102.16793977365018L410,102.16793977365018L390,82.12128015816195L370,82.12128015816195L350,82.12128015816195L330,82.12128015816195L310,82.12128015816195L290,115.89858332897474L270,115.89858332897474L250,115.89858332897474L230,115.89858332897474L210,115.89858332897474L190,111.26861935359751L170,111.26861935359751L150,111.26861935359751L130,111.26861935359751L110,111.26861935359751L90,177.77777777777777L70,177.77777777777777L50,177.77777777777777L30,177.77777777777777L10,177.77777777777777Z\" fill=\"#4c78a8\"/></g></g><path class=\"foreground\" aria-hidden=\"true\" d=\"\" display=\"none\"/></g></g><g class=\"mark-group role-legend\" role=\"graphics-symbol\" aria-roledescription=\"legend\" aria-label=\"Symbol legend titled 'variable' for fill color with 9 values: Conv, x158, x159, x163, x28, ending with x48\"><g transform=\"translate(838,0)\"><path class=\"background\" aria-hidden=\"true\" d=\"M0,0h49v131h-49Z\" pointer-events=\"none\"/><g><g class=\"mark-group role-legend-entry\"><g transform=\"translate(0,16)\"><path class=\"background\" aria-hidden=\"true\" d=\"M0,0h0v0h0Z\" pointer-events=\"none\"/><g><g class=\"mark-group role-scope\" role=\"graphics-object\" aria-roledescription=\"group mark container\"><g transform=\"translate(0,0)\"><path class=\"background\" aria-hidden=\"true\" d=\"M0,0h41v11h-41Z\" pointer-events=\"none\" opacity=\"1\"/><g><g class=\"mark-symbol role-legend-symbol\" pointer-events=\"none\"><path transform=\"translate(6,6)\" d=\"M5,0A5,5,0,1,1,-5,0A5,5,0,1,1,5,0\" fill=\"#4c78a8\" stroke-width=\"1.5\" opacity=\"1\"/></g><g class=\"mark-text role-legend-label\" pointer-events=\"none\"><text text-anchor=\"start\" transform=\"translate(16,9)\" font-family=\"sans-serif\" font-size=\"10px\" fill=\"#000\" opacity=\"1\">Conv</text></g></g><path class=\"foreground\" aria-hidden=\"true\" d=\"\" pointer-events=\"none\" display=\"none\"/></g><g transform=\"translate(0,13)\"><path class=\"background\" aria-hidden=\"true\" d=\"M0,0h41v11h-41Z\" pointer-events=\"none\" opacity=\"1\"/><g><g class=\"mark-symbol role-legend-symbol\" pointer-events=\"none\"><path transform=\"translate(6,6)\" d=\"M5,0A5,5,0,1,1,-5,0A5,5,0,1,1,5,0\" fill=\"#f58518\" stroke-width=\"1.5\" opacity=\"1\"/></g><g class=\"mark-text role-legend-label\" pointer-events=\"none\"><text text-anchor=\"start\" transform=\"translate(16,9)\" font-family=\"sans-serif\" font-size=\"10px\" fill=\"#000\" opacity=\"1\">x158</text></g></g><path class=\"foreground\" aria-hidden=\"true\" d=\"\" pointer-events=\"none\" display=\"none\"/></g><g transform=\"translate(0,26)\"><path class=\"background\" aria-hidden=\"true\" d=\"M0,0h41v11h-41Z\" pointer-events=\"none\" opacity=\"1\"/><g><g class=\"mark-symbol role-legend-symbol\" pointer-events=\"none\"><path transform=\"translate(6,6)\" d=\"M5,0A5,5,0,1,1,-5,0A5,5,0,1,1,5,0\" fill=\"#e45756\" stroke-width=\"1.5\" opacity=\"1\"/></g><g class=\"mark-text role-legend-label\" pointer-events=\"none\"><text text-anchor=\"start\" transform=\"translate(16,9)\" font-family=\"sans-serif\" font-size=\"10px\" fill=\"#000\" opacity=\"1\">x159</text></g></g><path class=\"foreground\" aria-hidden=\"true\" d=\"\" pointer-events=\"none\" display=\"none\"/></g><g transform=\"translate(0,39)\"><path class=\"background\" aria-hidden=\"true\" d=\"M0,0h41v11h-41Z\" pointer-events=\"none\" opacity=\"1\"/><g><g class=\"mark-symbol role-legend-symbol\" pointer-events=\"none\"><path transform=\"translate(6,6)\" d=\"M5,0A5,5,0,1,1,-5,0A5,5,0,1,1,5,0\" fill=\"#72b7b2\" stroke-width=\"1.5\" opacity=\"1\"/></g><g class=\"mark-text role-legend-label\" pointer-events=\"none\"><text text-anchor=\"start\" transform=\"translate(16,9)\" font-family=\"sans-serif\" font-size=\"10px\" fill=\"#000\" opacity=\"1\">x163</text></g></g><path class=\"foreground\" aria-hidden=\"true\" d=\"\" pointer-events=\"none\" display=\"none\"/></g><g transform=\"translate(0,52)\"><path class=\"background\" aria-hidden=\"true\" d=\"M0,0h41v11h-41Z\" pointer-events=\"none\" opacity=\"1\"/><g><g class=\"mark-symbol role-legend-symbol\" pointer-events=\"none\"><path transform=\"translate(6,6)\" d=\"M5,0A5,5,0,1,1,-5,0A5,5,0,1,1,5,0\" fill=\"#54a24b\" stroke-width=\"1.5\" opacity=\"1\"/></g><g class=\"mark-text role-legend-label\" pointer-events=\"none\"><text text-anchor=\"start\" transform=\"translate(16,9)\" font-family=\"sans-serif\" font-size=\"10px\" fill=\"#000\" opacity=\"1\">x28</text></g></g><path class=\"foreground\" aria-hidden=\"true\" d=\"\" pointer-events=\"none\" display=\"none\"/></g><g transform=\"translate(0,65)\"><path class=\"background\" aria-hidden=\"true\" d=\"M0,0h41v11h-41Z\" pointer-events=\"none\" opacity=\"1\"/><g><g class=\"mark-symbol role-legend-symbol\" pointer-events=\"none\"><path transform=\"translate(6,6)\" d=\"M5,0A5,5,0,1,1,-5,0A5,5,0,1,1,5,0\" fill=\"#eeca3b\" stroke-width=\"1.5\" opacity=\"1\"/></g><g class=\"mark-text role-legend-label\" pointer-events=\"none\"><text text-anchor=\"start\" transform=\"translate(16,9)\" font-family=\"sans-serif\" font-size=\"10px\" fill=\"#000\" opacity=\"1\">x30</text></g></g><path class=\"foreground\" aria-hidden=\"true\" d=\"\" pointer-events=\"none\" display=\"none\"/></g><g transform=\"translate(0,78)\"><path class=\"background\" aria-hidden=\"true\" d=\"M0,0h41v11h-41Z\" pointer-events=\"none\" opacity=\"1\"/><g><g class=\"mark-symbol role-legend-symbol\" pointer-events=\"none\"><path transform=\"translate(6,6)\" d=\"M5,0A5,5,0,1,1,-5,0A5,5,0,1,1,5,0\" fill=\"#b279a2\" stroke-width=\"1.5\" opacity=\"1\"/></g><g class=\"mark-text role-legend-label\" pointer-events=\"none\"><text text-anchor=\"start\" transform=\"translate(16,9)\" font-family=\"sans-serif\" font-size=\"10px\" fill=\"#000\" opacity=\"1\">x34</text></g></g><path class=\"foreground\" aria-hidden=\"true\" d=\"\" pointer-events=\"none\" display=\"none\"/></g><g transform=\"translate(0,91)\"><path class=\"background\" aria-hidden=\"true\" d=\"M0,0h41v11h-41Z\" pointer-events=\"none\" opacity=\"1\"/><g><g class=\"mark-symbol role-legend-symbol\" pointer-events=\"none\"><path transform=\"translate(6,6)\" d=\"M5,0A5,5,0,1,1,-5,0A5,5,0,1,1,5,0\" fill=\"#ff9da6\" stroke-width=\"1.5\" opacity=\"1\"/></g><g class=\"mark-text role-legend-label\" pointer-events=\"none\"><text text-anchor=\"start\" transform=\"translate(16,9)\" font-family=\"sans-serif\" font-size=\"10px\" fill=\"#000\" opacity=\"1\">x37</text></g></g><path class=\"foreground\" aria-hidden=\"true\" d=\"\" pointer-events=\"none\" display=\"none\"/></g><g transform=\"translate(0,104)\"><path class=\"background\" aria-hidden=\"true\" d=\"M0,0h41v11h-41Z\" pointer-events=\"none\" opacity=\"1\"/><g><g class=\"mark-symbol role-legend-symbol\" pointer-events=\"none\"><path transform=\"translate(6,6)\" d=\"M5,0A5,5,0,1,1,-5,0A5,5,0,1,1,5,0\" fill=\"#9d755d\" stroke-width=\"1.5\" opacity=\"1\"/></g><g class=\"mark-text role-legend-label\" pointer-events=\"none\"><text text-anchor=\"start\" transform=\"translate(16,9)\" font-family=\"sans-serif\" font-size=\"10px\" fill=\"#000\" opacity=\"1\">x48</text></g></g><path class=\"foreground\" aria-hidden=\"true\" d=\"\" pointer-events=\"none\" display=\"none\"/></g></g></g><path class=\"foreground\" aria-hidden=\"true\" d=\"\" pointer-events=\"none\" display=\"none\"/></g></g><g class=\"mark-text role-legend-title\" pointer-events=\"none\"><text text-anchor=\"start\" transform=\"translate(0,9)\" font-family=\"sans-serif\" font-size=\"11px\" font-weight=\"bold\" fill=\"#000\" opacity=\"1\">variable</text></g></g><path class=\"foreground\" aria-hidden=\"true\" d=\"\" pointer-events=\"none\" display=\"none\"/></g></g></g><path class=\"foreground\" aria-hidden=\"true\" d=\"\" display=\"none\"/></g></g></g></svg>\n"
      ],
      "text/plain": [
       "@vlplot(\n",
       "    legend=\"sNames\",\n",
       "    mark=\"area\",\n",
       "    encoding={\n",
       "        x={\n",
       "            field=\"year\"\n",
       "        },\n",
       "        y={\n",
       "            stack=\"zero\",\n",
       "            title=\"CO2\",\n",
       "            field=\"value\"\n",
       "        },\n",
       "        color={\n",
       "            field=\"variable\",\n",
       "            type=\"nominal\"\n",
       "        }\n",
       "    },\n",
       "    data={\n",
       "        values=...\n",
       "    }\n",
       ")"
      ]
     },
     "execution_count": 59,
     "metadata": {},
     "output_type": "execute_result"
    }
   ],
   "source": [
    "#only for this result\n",
    "\n",
    "function conventional0(i1,t)\n",
    "    if t==0\n",
    "        if mod(i1,5)≥mod(round(sum(JuMP.values.(tk)[k1,t+1]-0.001 for k1=1:nrow(compromise));digits=2),5)\n",
    "            return initial[1,3]*(1-sum(JuMP.values.(xk)[k,t+1] for k in 1:nrow(compromise)))\n",
    "        else\n",
    "            return 0\n",
    "        end\n",
    "    else\n",
    "        return initial[1,3]*(1-sum(JuMP.values.(xk)[k,t] for k in 1:nrow(compromise)))\n",
    "    end\n",
    "end\n",
    "\n",
    "function conventional(i1,t)\n",
    "    if t==7\n",
    "        return initial[1,3]*(1-sum(JuMP.values.(xk)[k,t] for k=1:nrow(compromise)))\n",
    "    end\n",
    "    if t==0\n",
    "        if mod(i1,5)≥mod(round.(sum(JuMP.values.(tk)[1:nrow(compromise),t+1])-0.001;digits=4),5) && sum(JuMP.values.(xk)[1:nrow(compromise),t+1]) > 0\n",
    "            return initial[1,3]*(1-sum(JuMP.values.(xk)[k,t+1] for k in 1:nrow(compromise)))\n",
    "        else\n",
    "            return 0\n",
    "        end\n",
    "    else\n",
    "        sum_xks_atT=0\n",
    "        for k1 in 1:nrow(compromise)\n",
    "            if mod(i1,5)≥mod(round(JuMP.values.(tk)[k1,t+1]-0.001;digits=4),5) && sum(JuMP.values.(xk)[k1,t:t+1])>0 && t>0\n",
    "                sum_xks_atT+=JuMP.values.(xk)[k1,t+1]\n",
    "            else\n",
    "                sum_xks_atT+=JuMP.values.(xk)[k1,t]\n",
    "            end\n",
    "        end\n",
    "            \n",
    "        #if mod(i1,5)≥mod(round(sum(JuMP.values.(tk)[1:nrow(compromise),t+1]);digits=2),5) && sum(JuMP.values.(xk)[1:nrow(compromise),t:t+1])>0 && t>0\n",
    "        #    t=t+1\n",
    "        #end\n",
    "        #return (1-sum(JuMP.values.(xk)[k,t] for k in 1:nrow(compromise)))\n",
    "        return initial[1,3]*(1-sum_xks_atT)\n",
    "    end\n",
    "end\n",
    "\n",
    "\n",
    "function innovation(i1,k1,t)\n",
    "    if t==7\n",
    "        return sum(JuMP.values.(xk)[k,t]*(co2fac[k,t]) for k=k1:k1)\n",
    "    end\n",
    "    if t==0 \n",
    "        if mod(i1,5)≥mod(round(JuMP.values.(tk)[k1,t+1]-0.001;digits=4),5) && JuMP.values.(xk)[k1,t+1] > 0\n",
    "            t=1\n",
    "            return (sum(JuMP.values.(xk)[k,t]*(co2fac[k,t]) for k=k1:k1))            \n",
    "        else\n",
    "            return 0\n",
    "        end\n",
    "    end\n",
    "    if mod(i1,5)≥mod(round(JuMP.values.(tk)[k1,t+1]-0.001;digits=4),5) && sum(JuMP.values.(xk)[k1,t:t+1])>0 && t>0\n",
    "        t=t+1\n",
    "    end\n",
    "    return sum(JuMP.values.(xk)[k,t]*(co2fac[k,t]) for k=k1:k1)\n",
    "end\n",
    "\n",
    "conv=zeros(55)\n",
    "\n",
    "conv[1]=initial[1,3]\n",
    "inn_co2=zeros(nrow(compromise),55)\n",
    "\n",
    "for k in 1:nrow(compromise)\n",
    "    inn_co2[k,1]=0\n",
    "end\n",
    "j=0\n",
    "for t in 2:55\n",
    "    if 0 ≤ t ≤ 5\n",
    "        j=0\n",
    "    elseif 6 ≤ t ≤ 10\n",
    "        j=1\n",
    "    elseif 11 ≤ t ≤ 15\n",
    "        j=2\n",
    "    elseif 16 ≤ t ≤ 20\n",
    "        j=3\n",
    "    elseif 21 ≤ t ≤ 25\n",
    "        j=4\n",
    "    elseif 26 ≤ t ≤ 30\n",
    "        j=5\n",
    "    elseif 31 ≤ t ≤ 35\n",
    "        j=6\n",
    "    else\n",
    "        j=7\n",
    "    end\n",
    "    \n",
    "    \n",
    "    \n",
    "    conv[t]=conventional(t,j)\n",
    "    for k in 1:nrow(compromise)\n",
    "        \n",
    "        inn_co2[k,t]=innovation(t,k,j)\n",
    "    end\n",
    "end\n",
    "conv[1:5].=initial[1,3]\n",
    "\n",
    "sNames = [\"conv\",\"inn1\",\"inn2\",\"inn3\",\"inn4\",\"inn5\",\"inn6\",\"inn7\",\"inn8\",\"inn9\",\"inn10\"]\n",
    "xLabels = []\n",
    "for i in 2020:2070\n",
    "    push!(xLabels,string(i))\n",
    "end\n",
    "\n",
    "#df = DataFrame(year=xLabels, conv=conv, inn1=inn_co2[1,:],inn2=inn_co2[2,:],inn3=inn_co2[3,:],inn4=inn_co2[4,:],\n",
    "#        inn5=inn_co2[5,:],inn6=inn_co2[6,:],inn7=inn_co2[7,:],inn8=inn_co2[8,:],inn9=inn_co2[9,:],inn10=inn_co2[10,:])\n",
    "df = DataFrame(vcat(inn_co2,conv')',:auto)\n",
    "\n",
    "\n",
    "df=df[1:41,:]\n",
    "\n",
    "df=df[!, any.(>(0), eachcol(df))]\n",
    "df[!,:year]=xLabels[1:41]\n",
    "#rename!(df,[:x1,:x93,:x218,:x222] .=> [:Conv,:pyLDPE1,:alcPLA2,:alcPLA6])\n",
    "#df[!,:pyLDPE11]=zeros(36)\n",
    "rename!(df,[:x269] .=> [:Conv])\n",
    "#df[!,:x104]=zeros(36)\n",
    "#df[!,:x201]=zeros(36)\n",
    "#df[!,:x196]=zeros(36)\n",
    "#df[!,:x126]=zeros(36)\n",
    "#rename!(df,[:x94,:x95,:x104,:x109,:x196,:x198,:x199,:x200,:x201] .=> [:LABS12,:LABS13,:LABS22,:LABS27,:RecyclPLA2,:RecyclPLA4,:RecyclPLA5,:RecyclPLA6,:RecyclPLA7])\n",
    "#rename!(df,[:x29,:x30,:x31,:x45,:x49] .=> [:pyLDPE_maxTheta,:pyLDPE_minGWP,:pyLDPE_minLCC,:pyLDPE_14,:pyLDPE_18])\n",
    "#rename!(df,[:x160,:x164] .=> [:alcPLA_minLCC,:alcPLA_3])\n",
    "co2_inn=df |> stack |> @vlplot(:area, x=:year, y={:value, stack=:zero, title=\"CO2\"}, color=\"variable:n\",legend=:sNames) \n",
    "\n",
    "if want_save>0\n",
    "    save(\"./result-case-roadmap/co2-roadmap-\"*output_key*\".svg\", co2_inn)\n",
    "end\n",
    "co2_inn\n",
    "\n"
   ]
  },
  {
   "cell_type": "code",
   "execution_count": 60,
   "id": "935c38b6",
   "metadata": {},
   "outputs": [
    {
     "data": {
      "application/vnd.vegalite.v4+json": {
       "data": {
        "values": [
         {
          "value": 0,
          "variable": "x28",
          "year": "2020"
         },
         {
          "value": 0,
          "variable": "x28",
          "year": "2021"
         },
         {
          "value": 0,
          "variable": "x28",
          "year": "2022"
         },
         {
          "value": 0,
          "variable": "x28",
          "year": "2023"
         },
         {
          "value": 0,
          "variable": "x28",
          "year": "2024"
         },
         {
          "value": 0,
          "variable": "x28",
          "year": "2025"
         },
         {
          "value": 0,
          "variable": "x28",
          "year": "2026"
         },
         {
          "value": 0,
          "variable": "x28",
          "year": "2027"
         },
         {
          "value": 0,
          "variable": "x28",
          "year": "2028"
         },
         {
          "value": 0,
          "variable": "x28",
          "year": "2029"
         },
         {
          "value": 0,
          "variable": "x28",
          "year": "2030"
         },
         {
          "value": 0,
          "variable": "x28",
          "year": "2031"
         },
         {
          "value": 0,
          "variable": "x28",
          "year": "2032"
         },
         {
          "value": 0,
          "variable": "x28",
          "year": "2033"
         },
         {
          "value": 0,
          "variable": "x28",
          "year": "2034"
         },
         {
          "value": 0.8751,
          "variable": "x28",
          "year": "2035"
         },
         {
          "value": 0.8751,
          "variable": "x28",
          "year": "2036"
         },
         {
          "value": 0.8751,
          "variable": "x28",
          "year": "2037"
         },
         {
          "value": 0.8751,
          "variable": "x28",
          "year": "2038"
         },
         {
          "value": 0.8751,
          "variable": "x28",
          "year": "2039"
         },
         {
          "value": 0,
          "variable": "x28",
          "year": "2040"
         },
         {
          "value": 0,
          "variable": "x28",
          "year": "2041"
         },
         {
          "value": 0,
          "variable": "x28",
          "year": "2042"
         },
         {
          "value": 0,
          "variable": "x28",
          "year": "2043"
         },
         {
          "value": 0,
          "variable": "x28",
          "year": "2044"
         },
         {
          "value": 0.6999999999999744,
          "variable": "x28",
          "year": "2045"
         },
         {
          "value": 0.6999999999999744,
          "variable": "x28",
          "year": "2046"
         },
         {
          "value": 0.6999999999999744,
          "variable": "x28",
          "year": "2047"
         },
         {
          "value": 0.6999999999999744,
          "variable": "x28",
          "year": "2048"
         },
         {
          "value": 0.6999999999999744,
          "variable": "x28",
          "year": "2049"
         },
         {
          "value": 0,
          "variable": "x28",
          "year": "2050"
         },
         {
          "value": 0,
          "variable": "x28",
          "year": "2051"
         },
         {
          "value": 0,
          "variable": "x28",
          "year": "2052"
         },
         {
          "value": 0,
          "variable": "x28",
          "year": "2053"
         },
         {
          "value": 0,
          "variable": "x28",
          "year": "2054"
         },
         {
          "value": 0,
          "variable": "x28",
          "year": "2055"
         },
         {
          "value": 0,
          "variable": "x28",
          "year": "2056"
         },
         {
          "value": 0,
          "variable": "x28",
          "year": "2057"
         },
         {
          "value": 0,
          "variable": "x28",
          "year": "2058"
         },
         {
          "value": 0,
          "variable": "x28",
          "year": "2059"
         },
         {
          "value": 0,
          "variable": "x28",
          "year": "2060"
         },
         {
          "value": 0,
          "variable": "x34",
          "year": "2020"
         },
         {
          "value": 0,
          "variable": "x34",
          "year": "2021"
         },
         {
          "value": 0,
          "variable": "x34",
          "year": "2022"
         },
         {
          "value": 0,
          "variable": "x34",
          "year": "2023"
         },
         {
          "value": 0,
          "variable": "x34",
          "year": "2024"
         },
         {
          "value": 0.0778,
          "variable": "x34",
          "year": "2025"
         },
         {
          "value": 0.0778,
          "variable": "x34",
          "year": "2026"
         },
         {
          "value": 0.0778,
          "variable": "x34",
          "year": "2027"
         },
         {
          "value": 0.0778,
          "variable": "x34",
          "year": "2028"
         },
         {
          "value": 0.0778,
          "variable": "x34",
          "year": "2029"
         },
         {
          "value": 0,
          "variable": "x34",
          "year": "2030"
         },
         {
          "value": 0,
          "variable": "x34",
          "year": "2031"
         },
         {
          "value": 0,
          "variable": "x34",
          "year": "2032"
         },
         {
          "value": 0,
          "variable": "x34",
          "year": "2033"
         },
         {
          "value": 0,
          "variable": "x34",
          "year": "2034"
         },
         {
          "value": 0,
          "variable": "x34",
          "year": "2035"
         },
         {
          "value": 0,
          "variable": "x34",
          "year": "2036"
         },
         {
          "value": 0,
          "variable": "x34",
          "year": "2037"
         },
         {
          "value": 0,
          "variable": "x34",
          "year": "2038"
         },
         {
          "value": 0,
          "variable": "x34",
          "year": "2039"
         },
         {
          "value": 0,
          "variable": "x34",
          "year": "2040"
         },
         {
          "value": 0,
          "variable": "x34",
          "year": "2041"
         },
         {
          "value": 0,
          "variable": "x34",
          "year": "2042"
         },
         {
          "value": 0,
          "variable": "x34",
          "year": "2043"
         },
         {
          "value": 0,
          "variable": "x34",
          "year": "2044"
         },
         {
          "value": 0,
          "variable": "x34",
          "year": "2045"
         },
         {
          "value": 0,
          "variable": "x34",
          "year": "2046"
         },
         {
          "value": 0,
          "variable": "x34",
          "year": "2047"
         },
         {
          "value": 0,
          "variable": "x34",
          "year": "2048"
         },
         {
          "value": 0,
          "variable": "x34",
          "year": "2049"
         },
         {
          "value": 0,
          "variable": "x34",
          "year": "2050"
         },
         {
          "value": 0,
          "variable": "x34",
          "year": "2051"
         },
         {
          "value": 0,
          "variable": "x34",
          "year": "2052"
         },
         {
          "value": 0,
          "variable": "x34",
          "year": "2053"
         },
         {
          "value": 0,
          "variable": "x34",
          "year": "2054"
         },
         {
          "value": 0,
          "variable": "x34",
          "year": "2055"
         },
         {
          "value": 0,
          "variable": "x34",
          "year": "2056"
         },
         {
          "value": 0,
          "variable": "x34",
          "year": "2057"
         },
         {
          "value": 0,
          "variable": "x34",
          "year": "2058"
         },
         {
          "value": 0,
          "variable": "x34",
          "year": "2059"
         },
         {
          "value": 0,
          "variable": "x34",
          "year": "2060"
         },
         {
          "value": 0,
          "variable": "x37",
          "year": "2020"
         },
         {
          "value": 0,
          "variable": "x37",
          "year": "2021"
         },
         {
          "value": 0,
          "variable": "x37",
          "year": "2022"
         },
         {
          "value": 0,
          "variable": "x37",
          "year": "2023"
         },
         {
          "value": 0,
          "variable": "x37",
          "year": "2024"
         },
         {
          "value": 0,
          "variable": "x37",
          "year": "2025"
         },
         {
          "value": 0,
          "variable": "x37",
          "year": "2026"
         },
         {
          "value": 0,
          "variable": "x37",
          "year": "2027"
         },
         {
          "value": 0,
          "variable": "x37",
          "year": "2028"
         },
         {
          "value": 0,
          "variable": "x37",
          "year": "2029"
         },
         {
          "value": 0,
          "variable": "x37",
          "year": "2030"
         },
         {
          "value": 0,
          "variable": "x37",
          "year": "2031"
         },
         {
          "value": 0,
          "variable": "x37",
          "year": "2032"
         },
         {
          "value": 0,
          "variable": "x37",
          "year": "2033"
         },
         {
          "value": 0,
          "variable": "x37",
          "year": "2034"
         },
         {
          "value": 0,
          "variable": "x37",
          "year": "2035"
         },
         {
          "value": 0,
          "variable": "x37",
          "year": "2036"
         },
         {
          "value": 0,
          "variable": "x37",
          "year": "2037"
         },
         {
          "value": 0,
          "variable": "x37",
          "year": "2038"
         },
         {
          "value": 0,
          "variable": "x37",
          "year": "2039"
         },
         {
          "value": 0,
          "variable": "x37",
          "year": "2040"
         },
         {
          "value": 0,
          "variable": "x37",
          "year": "2041"
         },
         {
          "value": 0,
          "variable": "x37",
          "year": "2042"
         },
         {
          "value": 0,
          "variable": "x37",
          "year": "2043"
         },
         {
          "value": 0,
          "variable": "x37",
          "year": "2044"
         },
         {
          "value": 0,
          "variable": "x37",
          "year": "2045"
         },
         {
          "value": 0,
          "variable": "x37",
          "year": "2046"
         },
         {
          "value": 0,
          "variable": "x37",
          "year": "2047"
         },
         {
          "value": 0,
          "variable": "x37",
          "year": "2048"
         },
         {
          "value": 0,
          "variable": "x37",
          "year": "2049"
         },
         {
          "value": 0,
          "variable": "x37",
          "year": "2050"
         },
         {
          "value": 0,
          "variable": "x37",
          "year": "2051"
         },
         {
          "value": 0,
          "variable": "x37",
          "year": "2052"
         },
         {
          "value": 0,
          "variable": "x37",
          "year": "2053"
         },
         {
          "value": 0,
          "variable": "x37",
          "year": "2054"
         },
         {
          "value": 0.11042071336490437,
          "variable": "x37",
          "year": "2055"
         },
         {
          "value": 0.11042071336490437,
          "variable": "x37",
          "year": "2056"
         },
         {
          "value": 0.11042071336490437,
          "variable": "x37",
          "year": "2057"
         },
         {
          "value": 0.11042071336490437,
          "variable": "x37",
          "year": "2058"
         },
         {
          "value": 0.11042071336490437,
          "variable": "x37",
          "year": "2059"
         },
         {
          "value": 0.11042071336490437,
          "variable": "x37",
          "year": "2060"
         },
         {
          "value": 0,
          "variable": "x48",
          "year": "2020"
         },
         {
          "value": 0,
          "variable": "x48",
          "year": "2021"
         },
         {
          "value": 0,
          "variable": "x48",
          "year": "2022"
         },
         {
          "value": 0,
          "variable": "x48",
          "year": "2023"
         },
         {
          "value": 0,
          "variable": "x48",
          "year": "2024"
         },
         {
          "value": 0,
          "variable": "x48",
          "year": "2025"
         },
         {
          "value": 0,
          "variable": "x48",
          "year": "2026"
         },
         {
          "value": 0,
          "variable": "x48",
          "year": "2027"
         },
         {
          "value": 0,
          "variable": "x48",
          "year": "2028"
         },
         {
          "value": 0,
          "variable": "x48",
          "year": "2029"
         },
         {
          "value": 0,
          "variable": "x48",
          "year": "2030"
         },
         {
          "value": 0,
          "variable": "x48",
          "year": "2031"
         },
         {
          "value": 0,
          "variable": "x48",
          "year": "2032"
         },
         {
          "value": 0,
          "variable": "x48",
          "year": "2033"
         },
         {
          "value": 0,
          "variable": "x48",
          "year": "2034"
         },
         {
          "value": 0,
          "variable": "x48",
          "year": "2035"
         },
         {
          "value": 0,
          "variable": "x48",
          "year": "2036"
         },
         {
          "value": 0,
          "variable": "x48",
          "year": "2037"
         },
         {
          "value": 0,
          "variable": "x48",
          "year": "2038"
         },
         {
          "value": 0,
          "variable": "x48",
          "year": "2039"
         },
         {
          "value": 0.6836361663656026,
          "variable": "x48",
          "year": "2040"
         },
         {
          "value": 0.6836361663656026,
          "variable": "x48",
          "year": "2041"
         },
         {
          "value": 0.6836361663656026,
          "variable": "x48",
          "year": "2042"
         },
         {
          "value": 0.6836361663656026,
          "variable": "x48",
          "year": "2043"
         },
         {
          "value": 0.6836361663656026,
          "variable": "x48",
          "year": "2044"
         },
         {
          "value": 0,
          "variable": "x48",
          "year": "2045"
         },
         {
          "value": 0,
          "variable": "x48",
          "year": "2046"
         },
         {
          "value": 0,
          "variable": "x48",
          "year": "2047"
         },
         {
          "value": 0,
          "variable": "x48",
          "year": "2048"
         },
         {
          "value": 0,
          "variable": "x48",
          "year": "2049"
         },
         {
          "value": 0.6836361663656036,
          "variable": "x48",
          "year": "2050"
         },
         {
          "value": 0.6836361663656036,
          "variable": "x48",
          "year": "2051"
         },
         {
          "value": 0.6836361663656036,
          "variable": "x48",
          "year": "2052"
         },
         {
          "value": 0.6836361663656036,
          "variable": "x48",
          "year": "2053"
         },
         {
          "value": 0.6836361663656036,
          "variable": "x48",
          "year": "2054"
         },
         {
          "value": 0,
          "variable": "x48",
          "year": "2055"
         },
         {
          "value": 0,
          "variable": "x48",
          "year": "2056"
         },
         {
          "value": 0,
          "variable": "x48",
          "year": "2057"
         },
         {
          "value": 0,
          "variable": "x48",
          "year": "2058"
         },
         {
          "value": 0,
          "variable": "x48",
          "year": "2059"
         },
         {
          "value": 0,
          "variable": "x48",
          "year": "2060"
         },
         {
          "value": 0,
          "variable": "x158",
          "year": "2020"
         },
         {
          "value": 0,
          "variable": "x158",
          "year": "2021"
         },
         {
          "value": 0,
          "variable": "x158",
          "year": "2022"
         },
         {
          "value": 0,
          "variable": "x158",
          "year": "2023"
         },
         {
          "value": 0,
          "variable": "x158",
          "year": "2024"
         },
         {
          "value": 0,
          "variable": "x158",
          "year": "2025"
         },
         {
          "value": 0,
          "variable": "x158",
          "year": "2026"
         },
         {
          "value": 0,
          "variable": "x158",
          "year": "2027"
         },
         {
          "value": 0,
          "variable": "x158",
          "year": "2028"
         },
         {
          "value": 0,
          "variable": "x158",
          "year": "2029"
         },
         {
          "value": 0,
          "variable": "x158",
          "year": "2030"
         },
         {
          "value": 0,
          "variable": "x158",
          "year": "2031"
         },
         {
          "value": 0,
          "variable": "x158",
          "year": "2032"
         },
         {
          "value": 0,
          "variable": "x158",
          "year": "2033"
         },
         {
          "value": 0,
          "variable": "x158",
          "year": "2034"
         },
         {
          "value": 0,
          "variable": "x158",
          "year": "2035"
         },
         {
          "value": 0,
          "variable": "x158",
          "year": "2036"
         },
         {
          "value": 0,
          "variable": "x158",
          "year": "2037"
         },
         {
          "value": 0,
          "variable": "x158",
          "year": "2038"
         },
         {
          "value": 0,
          "variable": "x158",
          "year": "2039"
         },
         {
          "value": 0.016363833634350705,
          "variable": "x158",
          "year": "2040"
         },
         {
          "value": 0.016363833634350705,
          "variable": "x158",
          "year": "2041"
         },
         {
          "value": 0.016363833634350705,
          "variable": "x158",
          "year": "2042"
         },
         {
          "value": 0.016363833634350705,
          "variable": "x158",
          "year": "2043"
         },
         {
          "value": 0.016363833634350705,
          "variable": "x158",
          "year": "2044"
         },
         {
          "value": 0,
          "variable": "x158",
          "year": "2045"
         },
         {
          "value": 0,
          "variable": "x158",
          "year": "2046"
         },
         {
          "value": 0,
          "variable": "x158",
          "year": "2047"
         },
         {
          "value": 0,
          "variable": "x158",
          "year": "2048"
         },
         {
          "value": 0,
          "variable": "x158",
          "year": "2049"
         },
         {
          "value": 0.016363833634370713,
          "variable": "x158",
          "year": "2050"
         },
         {
          "value": 0.016363833634370713,
          "variable": "x158",
          "year": "2051"
         },
         {
          "value": 0.016363833634370713,
          "variable": "x158",
          "year": "2052"
         },
         {
          "value": 0.016363833634370713,
          "variable": "x158",
          "year": "2053"
         },
         {
          "value": 0.016363833634370713,
          "variable": "x158",
          "year": "2054"
         },
         {
          "value": 0,
          "variable": "x158",
          "year": "2055"
         },
         {
          "value": 0,
          "variable": "x158",
          "year": "2056"
         },
         {
          "value": 0,
          "variable": "x158",
          "year": "2057"
         },
         {
          "value": 0,
          "variable": "x158",
          "year": "2058"
         },
         {
          "value": 0,
          "variable": "x158",
          "year": "2059"
         },
         {
          "value": 0,
          "variable": "x158",
          "year": "2060"
         },
         {
          "value": 0,
          "variable": "x163",
          "year": "2020"
         },
         {
          "value": 0,
          "variable": "x163",
          "year": "2021"
         },
         {
          "value": 0,
          "variable": "x163",
          "year": "2022"
         },
         {
          "value": 0,
          "variable": "x163",
          "year": "2023"
         },
         {
          "value": 0,
          "variable": "x163",
          "year": "2024"
         },
         {
          "value": 0,
          "variable": "x163",
          "year": "2025"
         },
         {
          "value": 0,
          "variable": "x163",
          "year": "2026"
         },
         {
          "value": 0,
          "variable": "x163",
          "year": "2027"
         },
         {
          "value": 0,
          "variable": "x163",
          "year": "2028"
         },
         {
          "value": 0,
          "variable": "x163",
          "year": "2029"
         },
         {
          "value": 0,
          "variable": "x163",
          "year": "2030"
         },
         {
          "value": 0,
          "variable": "x163",
          "year": "2031"
         },
         {
          "value": 0,
          "variable": "x163",
          "year": "2032"
         },
         {
          "value": 0,
          "variable": "x163",
          "year": "2033"
         },
         {
          "value": 0,
          "variable": "x163",
          "year": "2034"
         },
         {
          "value": 0,
          "variable": "x163",
          "year": "2035"
         },
         {
          "value": 0,
          "variable": "x163",
          "year": "2036"
         },
         {
          "value": 0,
          "variable": "x163",
          "year": "2037"
         },
         {
          "value": 0,
          "variable": "x163",
          "year": "2038"
         },
         {
          "value": 0,
          "variable": "x163",
          "year": "2039"
         },
         {
          "value": 2.1007866574061884e-14,
          "variable": "x163",
          "year": "2040"
         },
         {
          "value": 2.1007866574061884e-14,
          "variable": "x163",
          "year": "2041"
         },
         {
          "value": 2.1007866574061884e-14,
          "variable": "x163",
          "year": "2042"
         },
         {
          "value": 2.1007866574061884e-14,
          "variable": "x163",
          "year": "2043"
         },
         {
          "value": 2.1007866574061884e-14,
          "variable": "x163",
          "year": "2044"
         },
         {
          "value": 0,
          "variable": "x163",
          "year": "2045"
         },
         {
          "value": 0,
          "variable": "x163",
          "year": "2046"
         },
         {
          "value": 0,
          "variable": "x163",
          "year": "2047"
         },
         {
          "value": 0,
          "variable": "x163",
          "year": "2048"
         },
         {
          "value": 0,
          "variable": "x163",
          "year": "2049"
         },
         {
          "value": 0,
          "variable": "x163",
          "year": "2050"
         },
         {
          "value": 0,
          "variable": "x163",
          "year": "2051"
         },
         {
          "value": 0,
          "variable": "x163",
          "year": "2052"
         },
         {
          "value": 0,
          "variable": "x163",
          "year": "2053"
         },
         {
          "value": 0,
          "variable": "x163",
          "year": "2054"
         },
         {
          "value": 0.5895792866350701,
          "variable": "x163",
          "year": "2055"
         },
         {
          "value": 0.5895792866350701,
          "variable": "x163",
          "year": "2056"
         },
         {
          "value": 0.5895792866350701,
          "variable": "x163",
          "year": "2057"
         },
         {
          "value": 0.5895792866350701,
          "variable": "x163",
          "year": "2058"
         },
         {
          "value": 0.5895792866350701,
          "variable": "x163",
          "year": "2059"
         },
         {
          "value": 0.5895792866350701,
          "variable": "x163",
          "year": "2060"
         },
         {
          "value": 0.15,
          "variable": "Conv",
          "year": "2020"
         },
         {
          "value": 0.15,
          "variable": "Conv",
          "year": "2021"
         },
         {
          "value": 0.15,
          "variable": "Conv",
          "year": "2022"
         },
         {
          "value": 0.15,
          "variable": "Conv",
          "year": "2023"
         },
         {
          "value": 0.15,
          "variable": "Conv",
          "year": "2024"
         },
         {
          "value": 0,
          "variable": "Conv",
          "year": "2025"
         },
         {
          "value": 0,
          "variable": "Conv",
          "year": "2026"
         },
         {
          "value": 0,
          "variable": "Conv",
          "year": "2027"
         },
         {
          "value": 0,
          "variable": "Conv",
          "year": "2028"
         },
         {
          "value": 0,
          "variable": "Conv",
          "year": "2029"
         },
         {
          "value": 0,
          "variable": "Conv",
          "year": "2030"
         },
         {
          "value": 0,
          "variable": "Conv",
          "year": "2031"
         },
         {
          "value": 0,
          "variable": "Conv",
          "year": "2032"
         },
         {
          "value": 0,
          "variable": "Conv",
          "year": "2033"
         },
         {
          "value": 0,
          "variable": "Conv",
          "year": "2034"
         },
         {
          "value": 0,
          "variable": "Conv",
          "year": "2035"
         },
         {
          "value": 0,
          "variable": "Conv",
          "year": "2036"
         },
         {
          "value": 0,
          "variable": "Conv",
          "year": "2037"
         },
         {
          "value": 0,
          "variable": "Conv",
          "year": "2038"
         },
         {
          "value": 0,
          "variable": "Conv",
          "year": "2039"
         },
         {
          "value": 0,
          "variable": "Conv",
          "year": "2040"
         },
         {
          "value": 0,
          "variable": "Conv",
          "year": "2041"
         },
         {
          "value": 0,
          "variable": "Conv",
          "year": "2042"
         },
         {
          "value": 0,
          "variable": "Conv",
          "year": "2043"
         },
         {
          "value": 0,
          "variable": "Conv",
          "year": "2044"
         },
         {
          "value": 0,
          "variable": "Conv",
          "year": "2045"
         },
         {
          "value": 0,
          "variable": "Conv",
          "year": "2046"
         },
         {
          "value": 0,
          "variable": "Conv",
          "year": "2047"
         },
         {
          "value": 0,
          "variable": "Conv",
          "year": "2048"
         },
         {
          "value": 0,
          "variable": "Conv",
          "year": "2049"
         },
         {
          "value": 0,
          "variable": "Conv",
          "year": "2050"
         },
         {
          "value": 0,
          "variable": "Conv",
          "year": "2051"
         },
         {
          "value": 0,
          "variable": "Conv",
          "year": "2052"
         },
         {
          "value": 0,
          "variable": "Conv",
          "year": "2053"
         },
         {
          "value": 0,
          "variable": "Conv",
          "year": "2054"
         },
         {
          "value": 0,
          "variable": "Conv",
          "year": "2055"
         },
         {
          "value": 0,
          "variable": "Conv",
          "year": "2056"
         },
         {
          "value": 0,
          "variable": "Conv",
          "year": "2057"
         },
         {
          "value": 0,
          "variable": "Conv",
          "year": "2058"
         },
         {
          "value": 0,
          "variable": "Conv",
          "year": "2059"
         },
         {
          "value": 0,
          "variable": "Conv",
          "year": "2060"
         },
         {
          "value": 0,
          "variable": "x30",
          "year": "2020"
         },
         {
          "value": 0,
          "variable": "x30",
          "year": "2021"
         },
         {
          "value": 0,
          "variable": "x30",
          "year": "2022"
         },
         {
          "value": 0,
          "variable": "x30",
          "year": "2023"
         },
         {
          "value": 0,
          "variable": "x30",
          "year": "2024"
         },
         {
          "value": 0,
          "variable": "x30",
          "year": "2025"
         },
         {
          "value": 0,
          "variable": "x30",
          "year": "2026"
         },
         {
          "value": 0,
          "variable": "x30",
          "year": "2027"
         },
         {
          "value": 0,
          "variable": "x30",
          "year": "2028"
         },
         {
          "value": 0,
          "variable": "x30",
          "year": "2029"
         },
         {
          "value": 0,
          "variable": "x30",
          "year": "2030"
         },
         {
          "value": 0,
          "variable": "x30",
          "year": "2031"
         },
         {
          "value": 0,
          "variable": "x30",
          "year": "2032"
         },
         {
          "value": 0,
          "variable": "x30",
          "year": "2033"
         },
         {
          "value": 0,
          "variable": "x30",
          "year": "2034"
         },
         {
          "value": 0,
          "variable": "x30",
          "year": "2035"
         },
         {
          "value": 0,
          "variable": "x30",
          "year": "2036"
         },
         {
          "value": 0,
          "variable": "x30",
          "year": "2037"
         },
         {
          "value": 0,
          "variable": "x30",
          "year": "2038"
         },
         {
          "value": 0,
          "variable": "x30",
          "year": "2039"
         },
         {
          "value": 0,
          "variable": "x30",
          "year": "2040"
         },
         {
          "value": 0,
          "variable": "x30",
          "year": "2041"
         },
         {
          "value": 0,
          "variable": "x30",
          "year": "2042"
         },
         {
          "value": 0,
          "variable": "x30",
          "year": "2043"
         },
         {
          "value": 0,
          "variable": "x30",
          "year": "2044"
         },
         {
          "value": 0,
          "variable": "x30",
          "year": "2045"
         },
         {
          "value": 0,
          "variable": "x30",
          "year": "2046"
         },
         {
          "value": 0,
          "variable": "x30",
          "year": "2047"
         },
         {
          "value": 0,
          "variable": "x30",
          "year": "2048"
         },
         {
          "value": 0,
          "variable": "x30",
          "year": "2049"
         },
         {
          "value": 0,
          "variable": "x30",
          "year": "2050"
         },
         {
          "value": 0,
          "variable": "x30",
          "year": "2051"
         },
         {
          "value": 0,
          "variable": "x30",
          "year": "2052"
         },
         {
          "value": 0,
          "variable": "x30",
          "year": "2053"
         },
         {
          "value": 0,
          "variable": "x30",
          "year": "2054"
         },
         {
          "value": 0,
          "variable": "x30",
          "year": "2055"
         },
         {
          "value": 0,
          "variable": "x30",
          "year": "2056"
         },
         {
          "value": 0,
          "variable": "x30",
          "year": "2057"
         },
         {
          "value": 0,
          "variable": "x30",
          "year": "2058"
         },
         {
          "value": 0,
          "variable": "x30",
          "year": "2059"
         },
         {
          "value": 0,
          "variable": "x30",
          "year": "2060"
         },
         {
          "value": 0,
          "variable": "x159",
          "year": "2020"
         },
         {
          "value": 0,
          "variable": "x159",
          "year": "2021"
         },
         {
          "value": 0,
          "variable": "x159",
          "year": "2022"
         },
         {
          "value": 0,
          "variable": "x159",
          "year": "2023"
         },
         {
          "value": 0,
          "variable": "x159",
          "year": "2024"
         },
         {
          "value": 0,
          "variable": "x159",
          "year": "2025"
         },
         {
          "value": 0,
          "variable": "x159",
          "year": "2026"
         },
         {
          "value": 0,
          "variable": "x159",
          "year": "2027"
         },
         {
          "value": 0,
          "variable": "x159",
          "year": "2028"
         },
         {
          "value": 0,
          "variable": "x159",
          "year": "2029"
         },
         {
          "value": 0,
          "variable": "x159",
          "year": "2030"
         },
         {
          "value": 0,
          "variable": "x159",
          "year": "2031"
         },
         {
          "value": 0,
          "variable": "x159",
          "year": "2032"
         },
         {
          "value": 0,
          "variable": "x159",
          "year": "2033"
         },
         {
          "value": 0,
          "variable": "x159",
          "year": "2034"
         },
         {
          "value": 0,
          "variable": "x159",
          "year": "2035"
         },
         {
          "value": 0,
          "variable": "x159",
          "year": "2036"
         },
         {
          "value": 0,
          "variable": "x159",
          "year": "2037"
         },
         {
          "value": 0,
          "variable": "x159",
          "year": "2038"
         },
         {
          "value": 0,
          "variable": "x159",
          "year": "2039"
         },
         {
          "value": 0,
          "variable": "x159",
          "year": "2040"
         },
         {
          "value": 0,
          "variable": "x159",
          "year": "2041"
         },
         {
          "value": 0,
          "variable": "x159",
          "year": "2042"
         },
         {
          "value": 0,
          "variable": "x159",
          "year": "2043"
         },
         {
          "value": 0,
          "variable": "x159",
          "year": "2044"
         },
         {
          "value": 0,
          "variable": "x159",
          "year": "2045"
         },
         {
          "value": 0,
          "variable": "x159",
          "year": "2046"
         },
         {
          "value": 0,
          "variable": "x159",
          "year": "2047"
         },
         {
          "value": 0,
          "variable": "x159",
          "year": "2048"
         },
         {
          "value": 0,
          "variable": "x159",
          "year": "2049"
         },
         {
          "value": 0,
          "variable": "x159",
          "year": "2050"
         },
         {
          "value": 0,
          "variable": "x159",
          "year": "2051"
         },
         {
          "value": 0,
          "variable": "x159",
          "year": "2052"
         },
         {
          "value": 0,
          "variable": "x159",
          "year": "2053"
         },
         {
          "value": 0,
          "variable": "x159",
          "year": "2054"
         },
         {
          "value": 0,
          "variable": "x159",
          "year": "2055"
         },
         {
          "value": 0,
          "variable": "x159",
          "year": "2056"
         },
         {
          "value": 0,
          "variable": "x159",
          "year": "2057"
         },
         {
          "value": 0,
          "variable": "x159",
          "year": "2058"
         },
         {
          "value": 0,
          "variable": "x159",
          "year": "2059"
         },
         {
          "value": 0,
          "variable": "x159",
          "year": "2060"
         }
        ]
       },
       "encoding": {
        "color": {
         "field": "variable",
         "type": "nominal"
        },
        "x": {
         "field": "year"
        },
        "y": {
         "field": "value",
         "stack": "zero",
         "title": "Circularity",
         "type": "quantitative"
        }
       },
       "legend": "sNames",
       "mark": "area"
      },
      "image/png": "[encoded data removed]",
      "image/svg+xml": [
       "<?xml version=\"1.0\" encoding=\"utf-8\"?>\n",
       "<!DOCTYPE svg PUBLIC \"-//W3C//DTD SVG 1.1//EN\" \"http://www.w3.org/Graphics/SVG/1.1/DTD/svg11.dtd\">\n",
       "<svg xmlns=\"http://www.w3.org/2000/svg\" xmlns:xlink=\"http://www.w3.org/1999/xlink\" version=\"1.1\" class=\"marks\" width=\"934\" height=\"256\" viewBox=\"0 0 934 256\"><rect width=\"934\" height=\"256\" fill=\"white\"/><g fill=\"none\" stroke-miterlimit=\"10\" transform=\"translate(42,5)\"><g class=\"mark-group role-frame root\" role=\"graphics-object\" aria-roledescription=\"group mark container\"><g transform=\"translate(0,0)\"><path class=\"background\" aria-hidden=\"true\" d=\"M0.5,0.5h820v200h-820Z\" stroke=\"#ddd\"/><g><g class=\"mark-group role-axis\" aria-hidden=\"true\"><g transform=\"translate(0.5,0.5)\"><path class=\"background\" aria-hidden=\"true\" d=\"M0,0h0v0h0Z\" pointer-events=\"none\"/><g><g class=\"mark-rule role-axis-grid\" pointer-events=\"none\"><line transform=\"translate(0,200)\" x2=\"820\" y2=\"0\" stroke=\"#ddd\" stroke-width=\"1\" opacity=\"1\"/><line transform=\"translate(0,156)\" x2=\"820\" y2=\"0\" stroke=\"#ddd\" stroke-width=\"1\" opacity=\"1\"/><line transform=\"translate(0,111)\" x2=\"820\" y2=\"0\" stroke=\"#ddd\" stroke-width=\"1\" opacity=\"1\"/><line transform=\"translate(0,67)\" x2=\"820\" y2=\"0\" stroke=\"#ddd\" stroke-width=\"1\" opacity=\"1\"/><line transform=\"translate(0,22)\" x2=\"820\" y2=\"0\" stroke=\"#ddd\" stroke-width=\"1\" opacity=\"1\"/></g></g><path class=\"foreground\" aria-hidden=\"true\" d=\"\" pointer-events=\"none\" display=\"none\"/></g></g><g class=\"mark-group role-axis\" role=\"graphics-symbol\" aria-roledescription=\"axis\" aria-label=\"X-axis titled 'year' for a discrete scale with 41 values: 2020, 2021, 2022, 2023, 2024, ending with 2060\"><g transform=\"translate(0.5,200.5)\"><path class=\"background\" aria-hidden=\"true\" d=\"M0,0h0v0h0Z\" pointer-events=\"none\"/><g><g class=\"mark-rule role-axis-tick\" pointer-events=\"none\"><line transform=\"translate(10,0)\" x2=\"0\" y2=\"5\" stroke=\"#888\" stroke-width=\"1\" opacity=\"1\"/><line transform=\"translate(30,0)\" x2=\"0\" y2=\"5\" stroke=\"#888\" stroke-width=\"1\" opacity=\"1\"/><line transform=\"translate(50,0)\" x2=\"0\" y2=\"5\" stroke=\"#888\" stroke-width=\"1\" opacity=\"1\"/><line transform=\"translate(70,0)\" x2=\"0\" y2=\"5\" stroke=\"#888\" stroke-width=\"1\" opacity=\"1\"/><line transform=\"translate(90,0)\" x2=\"0\" y2=\"5\" stroke=\"#888\" stroke-width=\"1\" opacity=\"1\"/><line transform=\"translate(110,0)\" x2=\"0\" y2=\"5\" stroke=\"#888\" stroke-width=\"1\" opacity=\"1\"/><line transform=\"translate(130,0)\" x2=\"0\" y2=\"5\" stroke=\"#888\" stroke-width=\"1\" opacity=\"1\"/><line transform=\"translate(150,0)\" x2=\"0\" y2=\"5\" stroke=\"#888\" stroke-width=\"1\" opacity=\"1\"/><line transform=\"translate(170,0)\" x2=\"0\" y2=\"5\" stroke=\"#888\" stroke-width=\"1\" opacity=\"1\"/><line transform=\"translate(190,0)\" x2=\"0\" y2=\"5\" stroke=\"#888\" stroke-width=\"1\" opacity=\"1\"/><line transform=\"translate(210,0)\" x2=\"0\" y2=\"5\" stroke=\"#888\" stroke-width=\"1\" opacity=\"1\"/><line transform=\"translate(230,0)\" x2=\"0\" y2=\"5\" stroke=\"#888\" stroke-width=\"1\" opacity=\"1\"/><line transform=\"translate(250,0)\" x2=\"0\" y2=\"5\" stroke=\"#888\" stroke-width=\"1\" opacity=\"1\"/><line transform=\"translate(270,0)\" x2=\"0\" y2=\"5\" stroke=\"#888\" stroke-width=\"1\" opacity=\"1\"/><line transform=\"translate(290,0)\" x2=\"0\" y2=\"5\" stroke=\"#888\" stroke-width=\"1\" opacity=\"1\"/><line transform=\"translate(310,0)\" x2=\"0\" y2=\"5\" stroke=\"#888\" stroke-width=\"1\" opacity=\"1\"/><line transform=\"translate(330,0)\" x2=\"0\" y2=\"5\" stroke=\"#888\" stroke-width=\"1\" opacity=\"1\"/><line transform=\"translate(350,0)\" x2=\"0\" y2=\"5\" stroke=\"#888\" stroke-width=\"1\" opacity=\"1\"/><line transform=\"translate(370,0)\" x2=\"0\" y2=\"5\" stroke=\"#888\" stroke-width=\"1\" opacity=\"1\"/><line transform=\"translate(390,0)\" x2=\"0\" y2=\"5\" stroke=\"#888\" stroke-width=\"1\" opacity=\"1\"/><line transform=\"translate(410,0)\" x2=\"0\" y2=\"5\" stroke=\"#888\" stroke-width=\"1\" opacity=\"1\"/><line transform=\"translate(430,0)\" x2=\"0\" y2=\"5\" stroke=\"#888\" stroke-width=\"1\" opacity=\"1\"/><line transform=\"translate(450,0)\" x2=\"0\" y2=\"5\" stroke=\"#888\" stroke-width=\"1\" opacity=\"1\"/><line transform=\"translate(470,0)\" x2=\"0\" y2=\"5\" stroke=\"#888\" stroke-width=\"1\" opacity=\"1\"/><line transform=\"translate(490,0)\" x2=\"0\" y2=\"5\" stroke=\"#888\" stroke-width=\"1\" opacity=\"1\"/><line transform=\"translate(510,0)\" x2=\"0\" y2=\"5\" stroke=\"#888\" stroke-width=\"1\" opacity=\"1\"/><line transform=\"translate(530,0)\" x2=\"0\" y2=\"5\" stroke=\"#888\" stroke-width=\"1\" opacity=\"1\"/><line transform=\"translate(550,0)\" x2=\"0\" y2=\"5\" stroke=\"#888\" stroke-width=\"1\" opacity=\"1\"/><line transform=\"translate(570,0)\" x2=\"0\" y2=\"5\" stroke=\"#888\" stroke-width=\"1\" opacity=\"1\"/><line transform=\"translate(590,0)\" x2=\"0\" y2=\"5\" stroke=\"#888\" stroke-width=\"1\" opacity=\"1\"/><line transform=\"translate(610,0)\" x2=\"0\" y2=\"5\" stroke=\"#888\" stroke-width=\"1\" opacity=\"1\"/><line transform=\"translate(630,0)\" x2=\"0\" y2=\"5\" stroke=\"#888\" stroke-width=\"1\" opacity=\"1\"/><line transform=\"translate(650,0)\" x2=\"0\" y2=\"5\" stroke=\"#888\" stroke-width=\"1\" opacity=\"1\"/><line transform=\"translate(670,0)\" x2=\"0\" y2=\"5\" stroke=\"#888\" stroke-width=\"1\" opacity=\"1\"/><line transform=\"translate(690,0)\" x2=\"0\" y2=\"5\" stroke=\"#888\" stroke-width=\"1\" opacity=\"1\"/><line transform=\"translate(710,0)\" x2=\"0\" y2=\"5\" stroke=\"#888\" stroke-width=\"1\" opacity=\"1\"/><line transform=\"translate(730,0)\" x2=\"0\" y2=\"5\" stroke=\"#888\" stroke-width=\"1\" opacity=\"1\"/><line transform=\"translate(750,0)\" x2=\"0\" y2=\"5\" stroke=\"#888\" stroke-width=\"1\" opacity=\"1\"/><line transform=\"translate(770,0)\" x2=\"0\" y2=\"5\" stroke=\"#888\" stroke-width=\"1\" opacity=\"1\"/><line transform=\"translate(790,0)\" x2=\"0\" y2=\"5\" stroke=\"#888\" stroke-width=\"1\" opacity=\"1\"/><line transform=\"translate(810,0)\" x2=\"0\" y2=\"5\" stroke=\"#888\" stroke-width=\"1\" opacity=\"1\"/></g><g class=\"mark-text role-axis-label\" pointer-events=\"none\"><text text-anchor=\"end\" transform=\"translate(10,7) rotate(270) translate(0,3)\" font-family=\"sans-serif\" font-size=\"10px\" fill=\"#000\" opacity=\"1\">2020</text><text text-anchor=\"end\" transform=\"translate(30,7) rotate(270) translate(0,3)\" font-family=\"sans-serif\" font-size=\"10px\" fill=\"#000\" opacity=\"1\">2021</text><text text-anchor=\"end\" transform=\"translate(50,7) rotate(270) translate(0,3)\" font-family=\"sans-serif\" font-size=\"10px\" fill=\"#000\" opacity=\"1\">2022</text><text text-anchor=\"end\" transform=\"translate(70,7) rotate(270) translate(0,3)\" font-family=\"sans-serif\" font-size=\"10px\" fill=\"#000\" opacity=\"1\">2023</text><text text-anchor=\"end\" transform=\"translate(90,7) rotate(270) translate(0,3)\" font-family=\"sans-serif\" font-size=\"10px\" fill=\"#000\" opacity=\"1\">2024</text><text text-anchor=\"end\" transform=\"translate(110,7) rotate(270) translate(0,3)\" font-family=\"sans-serif\" font-size=\"10px\" fill=\"#000\" opacity=\"1\">2025</text><text text-anchor=\"end\" transform=\"translate(130,7) rotate(270) translate(0,3)\" font-family=\"sans-serif\" font-size=\"10px\" fill=\"#000\" opacity=\"1\">2026</text><text text-anchor=\"end\" transform=\"translate(150,7) rotate(270) translate(0,3)\" font-family=\"sans-serif\" font-size=\"10px\" fill=\"#000\" opacity=\"1\">2027</text><text text-anchor=\"end\" transform=\"translate(170,7) rotate(270) translate(0,3)\" font-family=\"sans-serif\" font-size=\"10px\" fill=\"#000\" opacity=\"1\">2028</text><text text-anchor=\"end\" transform=\"translate(190,7) rotate(270) translate(0,3)\" font-family=\"sans-serif\" font-size=\"10px\" fill=\"#000\" opacity=\"1\">2029</text><text text-anchor=\"end\" transform=\"translate(210,7) rotate(270) translate(0,3)\" font-family=\"sans-serif\" font-size=\"10px\" fill=\"#000\" opacity=\"1\">2030</text><text text-anchor=\"end\" transform=\"translate(230,7) rotate(270) translate(0,3)\" font-family=\"sans-serif\" font-size=\"10px\" fill=\"#000\" opacity=\"1\">2031</text><text text-anchor=\"end\" transform=\"translate(250,7) rotate(270) translate(0,3)\" font-family=\"sans-serif\" font-size=\"10px\" fill=\"#000\" opacity=\"1\">2032</text><text text-anchor=\"end\" transform=\"translate(270,7) rotate(270) translate(0,3)\" font-family=\"sans-serif\" font-size=\"10px\" fill=\"#000\" opacity=\"1\">2033</text><text text-anchor=\"end\" transform=\"translate(290,7) rotate(270) translate(0,3)\" font-family=\"sans-serif\" font-size=\"10px\" fill=\"#000\" opacity=\"1\">2034</text><text text-anchor=\"end\" transform=\"translate(310,7) rotate(270) translate(0,3)\" font-family=\"sans-serif\" font-size=\"10px\" fill=\"#000\" opacity=\"1\">2035</text><text text-anchor=\"end\" transform=\"translate(330,7) rotate(270) translate(0,3)\" font-family=\"sans-serif\" font-size=\"10px\" fill=\"#000\" opacity=\"1\">2036</text><text text-anchor=\"end\" transform=\"translate(350,7) rotate(270) translate(0,3)\" font-family=\"sans-serif\" font-size=\"10px\" fill=\"#000\" opacity=\"1\">2037</text><text text-anchor=\"end\" transform=\"translate(370,7) rotate(270) translate(0,3)\" font-family=\"sans-serif\" font-size=\"10px\" fill=\"#000\" opacity=\"1\">2038</text><text text-anchor=\"end\" transform=\"translate(390,7) rotate(270) translate(0,3)\" font-family=\"sans-serif\" font-size=\"10px\" fill=\"#000\" opacity=\"1\">2039</text><text text-anchor=\"end\" transform=\"translate(410,7) rotate(270) translate(0,3)\" font-family=\"sans-serif\" font-size=\"10px\" fill=\"#000\" opacity=\"1\">2040</text><text text-anchor=\"end\" transform=\"translate(430,7) rotate(270) translate(0,3)\" font-family=\"sans-serif\" font-size=\"10px\" fill=\"#000\" opacity=\"1\">2041</text><text text-anchor=\"end\" transform=\"translate(450,7) rotate(270) translate(0,3)\" font-family=\"sans-serif\" font-size=\"10px\" fill=\"#000\" opacity=\"1\">2042</text><text text-anchor=\"end\" transform=\"translate(470,7) rotate(270) translate(0,3)\" font-family=\"sans-serif\" font-size=\"10px\" fill=\"#000\" opacity=\"1\">2043</text><text text-anchor=\"end\" transform=\"translate(490,7) rotate(270) translate(0,3)\" font-family=\"sans-serif\" font-size=\"10px\" fill=\"#000\" opacity=\"1\">2044</text><text text-anchor=\"end\" transform=\"translate(510,7) rotate(270) translate(0,3)\" font-family=\"sans-serif\" font-size=\"10px\" fill=\"#000\" opacity=\"1\">2045</text><text text-anchor=\"end\" transform=\"translate(530,7) rotate(270) translate(0,3)\" font-family=\"sans-serif\" font-size=\"10px\" fill=\"#000\" opacity=\"1\">2046</text><text text-anchor=\"end\" transform=\"translate(550,7) rotate(270) translate(0,3)\" font-family=\"sans-serif\" font-size=\"10px\" fill=\"#000\" opacity=\"1\">2047</text><text text-anchor=\"end\" transform=\"translate(570,7) rotate(270) translate(0,3)\" font-family=\"sans-serif\" font-size=\"10px\" fill=\"#000\" opacity=\"1\">2048</text><text text-anchor=\"end\" transform=\"translate(590,7) rotate(270) translate(0,3)\" font-family=\"sans-serif\" font-size=\"10px\" fill=\"#000\" opacity=\"1\">2049</text><text text-anchor=\"end\" transform=\"translate(610,7) rotate(270) translate(0,3)\" font-family=\"sans-serif\" font-size=\"10px\" fill=\"#000\" opacity=\"1\">2050</text><text text-anchor=\"end\" transform=\"translate(630,7) rotate(270) translate(0,3)\" font-family=\"sans-serif\" font-size=\"10px\" fill=\"#000\" opacity=\"1\">2051</text><text text-anchor=\"end\" transform=\"translate(650,7) rotate(270) translate(0,3)\" font-family=\"sans-serif\" font-size=\"10px\" fill=\"#000\" opacity=\"1\">2052</text><text text-anchor=\"end\" transform=\"translate(670,7) rotate(270) translate(0,3)\" font-family=\"sans-serif\" font-size=\"10px\" fill=\"#000\" opacity=\"1\">2053</text><text text-anchor=\"end\" transform=\"translate(690,7) rotate(270) translate(0,3)\" font-family=\"sans-serif\" font-size=\"10px\" fill=\"#000\" opacity=\"1\">2054</text><text text-anchor=\"end\" transform=\"translate(710,7) rotate(270) translate(0,3)\" font-family=\"sans-serif\" font-size=\"10px\" fill=\"#000\" opacity=\"1\">2055</text><text text-anchor=\"end\" transform=\"translate(730,7) rotate(270) translate(0,3)\" font-family=\"sans-serif\" font-size=\"10px\" fill=\"#000\" opacity=\"1\">2056</text><text text-anchor=\"end\" transform=\"translate(750,7) rotate(270) translate(0,3)\" font-family=\"sans-serif\" font-size=\"10px\" fill=\"#000\" opacity=\"1\">2057</text><text text-anchor=\"end\" transform=\"translate(770,7) rotate(270) translate(0,3)\" font-family=\"sans-serif\" font-size=\"10px\" fill=\"#000\" opacity=\"1\">2058</text><text text-anchor=\"end\" transform=\"translate(790,7) rotate(270) translate(0,3)\" font-family=\"sans-serif\" font-size=\"10px\" fill=\"#000\" opacity=\"1\">2059</text><text text-anchor=\"end\" transform=\"translate(810,7) rotate(270) translate(0,3)\" font-family=\"sans-serif\" font-size=\"10px\" fill=\"#000\" opacity=\"1\">2060</text></g><g class=\"mark-rule role-axis-domain\" pointer-events=\"none\"><line transform=\"translate(0,0)\" x2=\"820\" y2=\"0\" stroke=\"#888\" stroke-width=\"1\" opacity=\"1\"/></g><g class=\"mark-text role-axis-title\" pointer-events=\"none\"><text text-anchor=\"middle\" transform=\"translate(410,44)\" font-family=\"sans-serif\" font-size=\"11px\" font-weight=\"bold\" fill=\"#000\" opacity=\"1\">year</text></g></g><path class=\"foreground\" aria-hidden=\"true\" d=\"\" pointer-events=\"none\" display=\"none\"/></g></g><g class=\"mark-group role-axis\" role=\"graphics-symbol\" aria-roledescription=\"axis\" aria-label=\"Y-axis titled 'Circularity' for a linear scale with values from 0.0 to 0.9\"><g transform=\"translate(0.5,0.5)\"><path class=\"background\" aria-hidden=\"true\" d=\"M0,0h0v0h0Z\" pointer-events=\"none\"/><g><g class=\"mark-rule role-axis-tick\" pointer-events=\"none\"><line transform=\"translate(0,200)\" x2=\"-5\" y2=\"0\" stroke=\"#888\" stroke-width=\"1\" opacity=\"1\"/><line transform=\"translate(0,156)\" x2=\"-5\" y2=\"0\" stroke=\"#888\" stroke-width=\"1\" opacity=\"1\"/><line transform=\"translate(0,111)\" x2=\"-5\" y2=\"0\" stroke=\"#888\" stroke-width=\"1\" opacity=\"1\"/><line transform=\"translate(0,67)\" x2=\"-5\" y2=\"0\" stroke=\"#888\" stroke-width=\"1\" opacity=\"1\"/><line transform=\"translate(0,22)\" x2=\"-5\" y2=\"0\" stroke=\"#888\" stroke-width=\"1\" opacity=\"1\"/></g><g class=\"mark-text role-axis-label\" pointer-events=\"none\"><text text-anchor=\"end\" transform=\"translate(-7,203)\" font-family=\"sans-serif\" font-size=\"10px\" fill=\"#000\" opacity=\"1\">0.0</text><text text-anchor=\"end\" transform=\"translate(-7,158.55555555555557)\" font-family=\"sans-serif\" font-size=\"10px\" fill=\"#000\" opacity=\"1\">0.2</text><text text-anchor=\"end\" transform=\"translate(-7,114.11111111111111)\" font-family=\"sans-serif\" font-size=\"10px\" fill=\"#000\" opacity=\"1\">0.4</text><text text-anchor=\"end\" transform=\"translate(-7,69.66666666666667)\" font-family=\"sans-serif\" font-size=\"10px\" fill=\"#000\" opacity=\"1\">0.6</text><text text-anchor=\"end\" transform=\"translate(-7,25.22222222222221)\" font-family=\"sans-serif\" font-size=\"10px\" fill=\"#000\" opacity=\"1\">0.8</text></g><g class=\"mark-rule role-axis-domain\" pointer-events=\"none\"><line transform=\"translate(0,200)\" x2=\"0\" y2=\"-200\" stroke=\"#888\" stroke-width=\"1\" opacity=\"1\"/></g><g class=\"mark-text role-axis-title\" pointer-events=\"none\"><text text-anchor=\"middle\" transform=\"translate(-26,100) rotate(-90) translate(0,-2)\" font-family=\"sans-serif\" font-size=\"11px\" font-weight=\"bold\" fill=\"#000\" opacity=\"1\">Circularity</text></g></g><path class=\"foreground\" aria-hidden=\"true\" d=\"\" pointer-events=\"none\" display=\"none\"/></g></g><g class=\"mark-group role-scope pathgroup\" role=\"graphics-object\" aria-roledescription=\"group mark container\"><g transform=\"translate(0,0)\"><path class=\"background\" aria-hidden=\"true\" d=\"M0,0h820v200h-820Z\"/><g><g class=\"mark-area role-mark marks\" role=\"graphics-object\" aria-roledescription=\"area mark container\"><path aria-label=\"year: 2020; Circularity: 0; variable: x28\" role=\"graphics-symbol\" aria-roledescription=\"area mark\" d=\"M10,200L30,200L50,200L70,200L90,200L110,182.7111111111111L130,182.7111111111111L150,182.7111111111111L170,182.7111111111111L190,182.7111111111111L210,200L230,200L250,200L270,200L290,200L310,5.533333333333346L330,5.533333333333346L350,5.533333333333346L370,5.533333333333346L390,5.533333333333346L410,48.08085191875497L430,48.08085191875497L450,48.08085191875497L470,48.08085191875497L490,48.08085191875497L510,44.44444444445013L530,44.44444444445013L550,44.44444444445013L570,44.44444444445013L590,44.44444444445013L610,48.08085191875475L630,48.08085191875475L650,48.08085191875475L670,48.08085191875475L690,48.08085191875475L710,175.46206369668792L730,175.46206369668792L750,175.46206369668792L770,175.46206369668792L790,175.46206369668792L810,175.46206369668792L810,175.46206369668792L790,175.46206369668792L770,175.46206369668792L750,175.46206369668792L730,175.46206369668792L710,175.46206369668792L690,48.08085191875475L670,48.08085191875475L650,48.08085191875475L630,48.08085191875475L610,48.08085191875475L590,200L570,200L550,200L530,200L510,200L490,48.08085191875497L470,48.08085191875497L450,48.08085191875497L430,48.08085191875497L410,48.08085191875497L390,200L370,200L350,200L330,200L310,200L290,200L270,200L250,200L230,200L210,200L190,182.7111111111111L170,182.7111111111111L150,182.7111111111111L130,182.7111111111111L110,182.7111111111111L90,200L70,200L50,200L30,200L10,200Z\" fill=\"#54a24b\"/></g></g><path class=\"foreground\" aria-hidden=\"true\" d=\"\" display=\"none\"/></g><g transform=\"translate(0,0)\"><path class=\"background\" aria-hidden=\"true\" d=\"M0,0h820v200h-820Z\"/><g><g class=\"mark-area role-mark marks\" role=\"graphics-object\" aria-roledescription=\"area mark container\"><path aria-label=\"year: 2020; Circularity: 0; variable: x34\" role=\"graphics-symbol\" aria-roledescription=\"area mark\" d=\"M10,200L30,200L50,200L70,200L90,200L110,182.7111111111111L130,182.7111111111111L150,182.7111111111111L170,182.7111111111111L190,182.7111111111111L210,200L230,200L250,200L270,200L290,200L310,200L330,200L350,200L370,200L390,200L410,48.08085191875497L430,48.08085191875497L450,48.08085191875497L470,48.08085191875497L490,48.08085191875497L510,200L530,200L550,200L570,200L590,200L610,48.08085191875475L630,48.08085191875475L650,48.08085191875475L670,48.08085191875475L690,48.08085191875475L710,175.46206369668792L730,175.46206369668792L750,175.46206369668792L770,175.46206369668792L790,175.46206369668792L810,175.46206369668792L810,175.46206369668792L790,175.46206369668792L770,175.46206369668792L750,175.46206369668792L730,175.46206369668792L710,175.46206369668792L690,48.08085191875475L670,48.08085191875475L650,48.08085191875475L630,48.08085191875475L610,48.08085191875475L590,200L570,200L550,200L530,200L510,200L490,48.08085191875497L470,48.08085191875497L450,48.08085191875497L430,48.08085191875497L410,48.08085191875497L390,200L370,200L350,200L330,200L310,200L290,200L270,200L250,200L230,200L210,200L190,200L170,200L150,200L130,200L110,200L90,200L70,200L50,200L30,200L10,200Z\" fill=\"#b279a2\"/></g></g><path class=\"foreground\" aria-hidden=\"true\" d=\"\" display=\"none\"/></g><g transform=\"translate(0,0)\"><path class=\"background\" aria-hidden=\"true\" d=\"M0,0h820v200h-820Z\"/><g><g class=\"mark-area role-mark marks\" role=\"graphics-object\" aria-roledescription=\"area mark container\"><path aria-label=\"year: 2020; Circularity: 0; variable: x37\" role=\"graphics-symbol\" aria-roledescription=\"area mark\" d=\"M10,200L30,200L50,200L70,200L90,200L110,200L130,200L150,200L170,200L190,200L210,200L230,200L250,200L270,200L290,200L310,200L330,200L350,200L370,200L390,200L410,48.08085191875497L430,48.08085191875497L450,48.08085191875497L470,48.08085191875497L490,48.08085191875497L510,200L530,200L550,200L570,200L590,200L610,48.08085191875475L630,48.08085191875475L650,48.08085191875475L670,48.08085191875475L690,48.08085191875475L710,175.46206369668792L730,175.46206369668792L750,175.46206369668792L770,175.46206369668792L790,175.46206369668792L810,175.46206369668792L810,200L790,200L770,200L750,200L730,200L710,200L690,48.08085191875475L670,48.08085191875475L650,48.08085191875475L630,48.08085191875475L610,48.08085191875475L590,200L570,200L550,200L530,200L510,200L490,48.08085191875497L470,48.08085191875497L450,48.08085191875497L430,48.08085191875497L410,48.08085191875497L390,200L370,200L350,200L330,200L310,200L290,200L270,200L250,200L230,200L210,200L190,200L170,200L150,200L130,200L110,200L90,200L70,200L50,200L30,200L10,200Z\" fill=\"#ff9da6\"/></g></g><path class=\"foreground\" aria-hidden=\"true\" d=\"\" display=\"none\"/></g><g transform=\"translate(0,0)\"><path class=\"background\" aria-hidden=\"true\" d=\"M0,0h820v200h-820Z\"/><g><g class=\"mark-area role-mark marks\" role=\"graphics-object\" aria-roledescription=\"area mark container\"><path aria-label=\"year: 2020; Circularity: 0; variable: x48\" role=\"graphics-symbol\" aria-roledescription=\"area mark\" d=\"M10,200L30,200L50,200L70,200L90,200L110,200L130,200L150,200L170,200L190,200L210,200L230,200L250,200L270,200L290,200L310,200L330,200L350,200L370,200L390,200L410,48.08085191875497L430,48.08085191875497L450,48.08085191875497L470,48.08085191875497L490,48.08085191875497L510,200L530,200L550,200L570,200L590,200L610,48.08085191875475L630,48.08085191875475L650,48.08085191875475L670,48.08085191875475L690,48.08085191875475L710,200L730,200L750,200L770,200L790,200L810,200L810,200L790,200L770,200L750,200L730,200L710,200L690,200L670,200L650,200L630,200L610,200L590,200L570,200L550,200L530,200L510,200L490,200L470,200L450,200L430,200L410,200L390,200L370,200L350,200L330,200L310,200L290,200L270,200L250,200L230,200L210,200L190,200L170,200L150,200L130,200L110,200L90,200L70,200L50,200L30,200L10,200Z\" fill=\"#9d755d\"/></g></g><path class=\"foreground\" aria-hidden=\"true\" d=\"\" display=\"none\"/></g><g transform=\"translate(0,0)\"><path class=\"background\" aria-hidden=\"true\" d=\"M0,0h820v200h-820Z\"/><g><g class=\"mark-area role-mark marks\" role=\"graphics-object\" aria-roledescription=\"area mark container\"><path aria-label=\"year: 2020; Circularity: 0; variable: x158\" role=\"graphics-symbol\" aria-roledescription=\"area mark\" d=\"M10,200L30,200L50,200L70,200L90,200L110,182.7111111111111L130,182.7111111111111L150,182.7111111111111L170,182.7111111111111L190,182.7111111111111L210,200L230,200L250,200L270,200L290,200L310,5.533333333333346L330,5.533333333333346L350,5.533333333333346L370,5.533333333333346L390,5.533333333333346L410,44.44444444445015L430,44.44444444445015L450,44.44444444445015L470,44.44444444445015L490,44.44444444445015L510,44.44444444445013L530,44.44444444445013L550,44.44444444445013L570,44.44444444445013L590,44.44444444445013L610,44.44444444445015L630,44.44444444445015L650,44.44444444445015L670,44.44444444445015L690,44.44444444445015L710,44.44444444445013L730,44.44444444445013L750,44.44444444445013L770,44.44444444445013L790,44.44444444445013L810,44.44444444445013L810,44.44444444445013L790,44.44444444445013L770,44.44444444445013L750,44.44444444445013L730,44.44444444445013L710,44.44444444445013L690,48.08085191875475L670,48.08085191875475L650,48.08085191875475L630,48.08085191875475L610,48.08085191875475L590,44.44444444445013L570,44.44444444445013L550,44.44444444445013L530,44.44444444445013L510,44.44444444445013L490,48.08085191875031L470,48.08085191875031L450,48.08085191875031L430,48.08085191875031L410,48.08085191875031L390,5.533333333333346L370,5.533333333333346L350,5.533333333333346L330,5.533333333333346L310,5.533333333333346L290,200L270,200L250,200L230,200L210,200L190,182.7111111111111L170,182.7111111111111L150,182.7111111111111L130,182.7111111111111L110,182.7111111111111L90,200L70,200L50,200L30,200L10,200Z\" fill=\"#f58518\"/></g></g><path class=\"foreground\" aria-hidden=\"true\" d=\"\" display=\"none\"/></g><g transform=\"translate(0,0)\"><path class=\"background\" aria-hidden=\"true\" d=\"M0,0h820v200h-820Z\"/><g><g class=\"mark-area role-mark marks\" role=\"graphics-object\" aria-roledescription=\"area mark container\"><path aria-label=\"year: 2020; Circularity: 0; variable: x163\" role=\"graphics-symbol\" aria-roledescription=\"area mark\" d=\"M10,200L30,200L50,200L70,200L90,200L110,182.7111111111111L130,182.7111111111111L150,182.7111111111111L170,182.7111111111111L190,182.7111111111111L210,200L230,200L250,200L270,200L290,200L310,5.533333333333346L330,5.533333333333346L350,5.533333333333346L370,5.533333333333346L390,5.533333333333346L410,48.08085191875031L430,48.08085191875031L450,48.08085191875031L470,48.08085191875031L490,48.08085191875031L510,44.44444444445013L530,44.44444444445013L550,44.44444444445013L570,44.44444444445013L590,44.44444444445013L610,48.08085191875475L630,48.08085191875475L650,48.08085191875475L670,48.08085191875475L690,48.08085191875475L710,44.44444444445013L730,44.44444444445013L750,44.44444444445013L770,44.44444444445013L790,44.44444444445013L810,44.44444444445013L810,175.46206369668795L790,175.46206369668795L770,175.46206369668795L750,175.46206369668795L730,175.46206369668795L710,175.46206369668795L690,48.08085191875475L670,48.08085191875475L650,48.08085191875475L630,48.08085191875475L610,48.08085191875475L590,44.44444444445013L570,44.44444444445013L550,44.44444444445013L530,44.44444444445013L510,44.44444444445013L490,48.08085191875497L470,48.08085191875497L450,48.08085191875497L430,48.08085191875497L410,48.08085191875497L390,5.533333333333346L370,5.533333333333346L350,5.533333333333346L330,5.533333333333346L310,5.533333333333346L290,200L270,200L250,200L230,200L210,200L190,182.7111111111111L170,182.7111111111111L150,182.7111111111111L130,182.7111111111111L110,182.7111111111111L90,200L70,200L50,200L30,200L10,200Z\" fill=\"#72b7b2\"/></g></g><path class=\"foreground\" aria-hidden=\"true\" d=\"\" display=\"none\"/></g><g transform=\"translate(0,0)\"><path class=\"background\" aria-hidden=\"true\" d=\"M0,0h820v200h-820Z\"/><g><g class=\"mark-area role-mark marks\" role=\"graphics-object\" aria-roledescription=\"area mark container\"><path aria-label=\"year: 2020; Circularity: 0.15; variable: Conv\" role=\"graphics-symbol\" aria-roledescription=\"area mark\" d=\"M10,166.66666666666669L30,166.66666666666669L50,166.66666666666669L70,166.66666666666669L90,166.66666666666669L110,182.7111111111111L130,182.7111111111111L150,182.7111111111111L170,182.7111111111111L190,182.7111111111111L210,200L230,200L250,200L270,200L290,200L310,5.533333333333346L330,5.533333333333346L350,5.533333333333346L370,5.533333333333346L390,5.533333333333346L410,44.44444444445015L430,44.44444444445015L450,44.44444444445015L470,44.44444444445015L490,44.44444444445015L510,44.44444444445013L530,44.44444444445013L550,44.44444444445013L570,44.44444444445013L590,44.44444444445013L610,44.44444444445015L630,44.44444444445015L650,44.44444444445015L670,44.44444444445015L690,44.44444444445015L710,44.44444444445013L730,44.44444444445013L750,44.44444444445013L770,44.44444444445013L790,44.44444444445013L810,44.44444444445013L810,44.44444444445013L790,44.44444444445013L770,44.44444444445013L750,44.44444444445013L730,44.44444444445013L710,44.44444444445013L690,44.44444444445015L670,44.44444444445015L650,44.44444444445015L630,44.44444444445015L610,44.44444444445015L590,44.44444444445013L570,44.44444444445013L550,44.44444444445013L530,44.44444444445013L510,44.44444444445013L490,44.44444444445015L470,44.44444444445015L450,44.44444444445015L430,44.44444444445015L410,44.44444444445015L390,5.533333333333346L370,5.533333333333346L350,5.533333333333346L330,5.533333333333346L310,5.533333333333346L290,200L270,200L250,200L230,200L210,200L190,182.7111111111111L170,182.7111111111111L150,182.7111111111111L130,182.7111111111111L110,182.7111111111111L90,200L70,200L50,200L30,200L10,200Z\" fill=\"#4c78a8\"/></g></g><path class=\"foreground\" aria-hidden=\"true\" d=\"\" display=\"none\"/></g><g transform=\"translate(0,0)\"><path class=\"background\" aria-hidden=\"true\" d=\"M0,0h820v200h-820Z\"/><g><g class=\"mark-area role-mark marks\" role=\"graphics-object\" aria-roledescription=\"area mark container\"><path aria-label=\"year: 2020; Circularity: 0; variable: x30\" role=\"graphics-symbol\" aria-roledescription=\"area mark\" d=\"M10,200L30,200L50,200L70,200L90,200L110,182.7111111111111L130,182.7111111111111L150,182.7111111111111L170,182.7111111111111L190,182.7111111111111L210,200L230,200L250,200L270,200L290,200L310,200L330,200L350,200L370,200L390,200L410,48.08085191875497L430,48.08085191875497L450,48.08085191875497L470,48.08085191875497L490,48.08085191875497L510,200L530,200L550,200L570,200L590,200L610,48.08085191875475L630,48.08085191875475L650,48.08085191875475L670,48.08085191875475L690,48.08085191875475L710,175.46206369668792L730,175.46206369668792L750,175.46206369668792L770,175.46206369668792L790,175.46206369668792L810,175.46206369668792L810,175.46206369668792L790,175.46206369668792L770,175.46206369668792L750,175.46206369668792L730,175.46206369668792L710,175.46206369668792L690,48.08085191875475L670,48.08085191875475L650,48.08085191875475L630,48.08085191875475L610,48.08085191875475L590,200L570,200L550,200L530,200L510,200L490,48.08085191875497L470,48.08085191875497L450,48.08085191875497L430,48.08085191875497L410,48.08085191875497L390,200L370,200L350,200L330,200L310,200L290,200L270,200L250,200L230,200L210,200L190,182.7111111111111L170,182.7111111111111L150,182.7111111111111L130,182.7111111111111L110,182.7111111111111L90,200L70,200L50,200L30,200L10,200Z\" fill=\"#eeca3b\"/></g></g><path class=\"foreground\" aria-hidden=\"true\" d=\"\" display=\"none\"/></g><g transform=\"translate(0,0)\"><path class=\"background\" aria-hidden=\"true\" d=\"M0,0h820v200h-820Z\"/><g><g class=\"mark-area role-mark marks\" role=\"graphics-object\" aria-roledescription=\"area mark container\"><path aria-label=\"year: 2020; Circularity: 0; variable: x159\" role=\"graphics-symbol\" aria-roledescription=\"area mark\" d=\"M10,200L30,200L50,200L70,200L90,200L110,182.7111111111111L130,182.7111111111111L150,182.7111111111111L170,182.7111111111111L190,182.7111111111111L210,200L230,200L250,200L270,200L290,200L310,5.533333333333346L330,5.533333333333346L350,5.533333333333346L370,5.533333333333346L390,5.533333333333346L410,48.08085191875031L430,48.08085191875031L450,48.08085191875031L470,48.08085191875031L490,48.08085191875031L510,44.44444444445013L530,44.44444444445013L550,44.44444444445013L570,44.44444444445013L590,44.44444444445013L610,48.08085191875475L630,48.08085191875475L650,48.08085191875475L670,48.08085191875475L690,48.08085191875475L710,44.44444444445013L730,44.44444444445013L750,44.44444444445013L770,44.44444444445013L790,44.44444444445013L810,44.44444444445013L810,44.44444444445013L790,44.44444444445013L770,44.44444444445013L750,44.44444444445013L730,44.44444444445013L710,44.44444444445013L690,48.08085191875475L670,48.08085191875475L650,48.08085191875475L630,48.08085191875475L610,48.08085191875475L590,44.44444444445013L570,44.44444444445013L550,44.44444444445013L530,44.44444444445013L510,44.44444444445013L490,48.08085191875031L470,48.08085191875031L450,48.08085191875031L430,48.08085191875031L410,48.08085191875031L390,5.533333333333346L370,5.533333333333346L350,5.533333333333346L330,5.533333333333346L310,5.533333333333346L290,200L270,200L250,200L230,200L210,200L190,182.7111111111111L170,182.7111111111111L150,182.7111111111111L130,182.7111111111111L110,182.7111111111111L90,200L70,200L50,200L30,200L10,200Z\" fill=\"#e45756\"/></g></g><path class=\"foreground\" aria-hidden=\"true\" d=\"\" display=\"none\"/></g></g><g class=\"mark-group role-legend\" role=\"graphics-symbol\" aria-roledescription=\"legend\" aria-label=\"Symbol legend titled 'variable' for fill color with 9 values: Conv, x158, x159, x163, x28, ending with x48\"><g transform=\"translate(838,0)\"><path class=\"background\" aria-hidden=\"true\" d=\"M0,0h49v131h-49Z\" pointer-events=\"none\"/><g><g class=\"mark-group role-legend-entry\"><g transform=\"translate(0,16)\"><path class=\"background\" aria-hidden=\"true\" d=\"M0,0h0v0h0Z\" pointer-events=\"none\"/><g><g class=\"mark-group role-scope\" role=\"graphics-object\" aria-roledescription=\"group mark container\"><g transform=\"translate(0,0)\"><path class=\"background\" aria-hidden=\"true\" d=\"M0,0h41v11h-41Z\" pointer-events=\"none\" opacity=\"1\"/><g><g class=\"mark-symbol role-legend-symbol\" pointer-events=\"none\"><path transform=\"translate(6,6)\" d=\"M5,0A5,5,0,1,1,-5,0A5,5,0,1,1,5,0\" fill=\"#4c78a8\" stroke-width=\"1.5\" opacity=\"1\"/></g><g class=\"mark-text role-legend-label\" pointer-events=\"none\"><text text-anchor=\"start\" transform=\"translate(16,9)\" font-family=\"sans-serif\" font-size=\"10px\" fill=\"#000\" opacity=\"1\">Conv</text></g></g><path class=\"foreground\" aria-hidden=\"true\" d=\"\" pointer-events=\"none\" display=\"none\"/></g><g transform=\"translate(0,13)\"><path class=\"background\" aria-hidden=\"true\" d=\"M0,0h41v11h-41Z\" pointer-events=\"none\" opacity=\"1\"/><g><g class=\"mark-symbol role-legend-symbol\" pointer-events=\"none\"><path transform=\"translate(6,6)\" d=\"M5,0A5,5,0,1,1,-5,0A5,5,0,1,1,5,0\" fill=\"#f58518\" stroke-width=\"1.5\" opacity=\"1\"/></g><g class=\"mark-text role-legend-label\" pointer-events=\"none\"><text text-anchor=\"start\" transform=\"translate(16,9)\" font-family=\"sans-serif\" font-size=\"10px\" fill=\"#000\" opacity=\"1\">x158</text></g></g><path class=\"foreground\" aria-hidden=\"true\" d=\"\" pointer-events=\"none\" display=\"none\"/></g><g transform=\"translate(0,26)\"><path class=\"background\" aria-hidden=\"true\" d=\"M0,0h41v11h-41Z\" pointer-events=\"none\" opacity=\"1\"/><g><g class=\"mark-symbol role-legend-symbol\" pointer-events=\"none\"><path transform=\"translate(6,6)\" d=\"M5,0A5,5,0,1,1,-5,0A5,5,0,1,1,5,0\" fill=\"#e45756\" stroke-width=\"1.5\" opacity=\"1\"/></g><g class=\"mark-text role-legend-label\" pointer-events=\"none\"><text text-anchor=\"start\" transform=\"translate(16,9)\" font-family=\"sans-serif\" font-size=\"10px\" fill=\"#000\" opacity=\"1\">x159</text></g></g><path class=\"foreground\" aria-hidden=\"true\" d=\"\" pointer-events=\"none\" display=\"none\"/></g><g transform=\"translate(0,39)\"><path class=\"background\" aria-hidden=\"true\" d=\"M0,0h41v11h-41Z\" pointer-events=\"none\" opacity=\"1\"/><g><g class=\"mark-symbol role-legend-symbol\" pointer-events=\"none\"><path transform=\"translate(6,6)\" d=\"M5,0A5,5,0,1,1,-5,0A5,5,0,1,1,5,0\" fill=\"#72b7b2\" stroke-width=\"1.5\" opacity=\"1\"/></g><g class=\"mark-text role-legend-label\" pointer-events=\"none\"><text text-anchor=\"start\" transform=\"translate(16,9)\" font-family=\"sans-serif\" font-size=\"10px\" fill=\"#000\" opacity=\"1\">x163</text></g></g><path class=\"foreground\" aria-hidden=\"true\" d=\"\" pointer-events=\"none\" display=\"none\"/></g><g transform=\"translate(0,52)\"><path class=\"background\" aria-hidden=\"true\" d=\"M0,0h41v11h-41Z\" pointer-events=\"none\" opacity=\"1\"/><g><g class=\"mark-symbol role-legend-symbol\" pointer-events=\"none\"><path transform=\"translate(6,6)\" d=\"M5,0A5,5,0,1,1,-5,0A5,5,0,1,1,5,0\" fill=\"#54a24b\" stroke-width=\"1.5\" opacity=\"1\"/></g><g class=\"mark-text role-legend-label\" pointer-events=\"none\"><text text-anchor=\"start\" transform=\"translate(16,9)\" font-family=\"sans-serif\" font-size=\"10px\" fill=\"#000\" opacity=\"1\">x28</text></g></g><path class=\"foreground\" aria-hidden=\"true\" d=\"\" pointer-events=\"none\" display=\"none\"/></g><g transform=\"translate(0,65)\"><path class=\"background\" aria-hidden=\"true\" d=\"M0,0h41v11h-41Z\" pointer-events=\"none\" opacity=\"1\"/><g><g class=\"mark-symbol role-legend-symbol\" pointer-events=\"none\"><path transform=\"translate(6,6)\" d=\"M5,0A5,5,0,1,1,-5,0A5,5,0,1,1,5,0\" fill=\"#eeca3b\" stroke-width=\"1.5\" opacity=\"1\"/></g><g class=\"mark-text role-legend-label\" pointer-events=\"none\"><text text-anchor=\"start\" transform=\"translate(16,9)\" font-family=\"sans-serif\" font-size=\"10px\" fill=\"#000\" opacity=\"1\">x30</text></g></g><path class=\"foreground\" aria-hidden=\"true\" d=\"\" pointer-events=\"none\" display=\"none\"/></g><g transform=\"translate(0,78)\"><path class=\"background\" aria-hidden=\"true\" d=\"M0,0h41v11h-41Z\" pointer-events=\"none\" opacity=\"1\"/><g><g class=\"mark-symbol role-legend-symbol\" pointer-events=\"none\"><path transform=\"translate(6,6)\" d=\"M5,0A5,5,0,1,1,-5,0A5,5,0,1,1,5,0\" fill=\"#b279a2\" stroke-width=\"1.5\" opacity=\"1\"/></g><g class=\"mark-text role-legend-label\" pointer-events=\"none\"><text text-anchor=\"start\" transform=\"translate(16,9)\" font-family=\"sans-serif\" font-size=\"10px\" fill=\"#000\" opacity=\"1\">x34</text></g></g><path class=\"foreground\" aria-hidden=\"true\" d=\"\" pointer-events=\"none\" display=\"none\"/></g><g transform=\"translate(0,91)\"><path class=\"background\" aria-hidden=\"true\" d=\"M0,0h41v11h-41Z\" pointer-events=\"none\" opacity=\"1\"/><g><g class=\"mark-symbol role-legend-symbol\" pointer-events=\"none\"><path transform=\"translate(6,6)\" d=\"M5,0A5,5,0,1,1,-5,0A5,5,0,1,1,5,0\" fill=\"#ff9da6\" stroke-width=\"1.5\" opacity=\"1\"/></g><g class=\"mark-text role-legend-label\" pointer-events=\"none\"><text text-anchor=\"start\" transform=\"translate(16,9)\" font-family=\"sans-serif\" font-size=\"10px\" fill=\"#000\" opacity=\"1\">x37</text></g></g><path class=\"foreground\" aria-hidden=\"true\" d=\"\" pointer-events=\"none\" display=\"none\"/></g><g transform=\"translate(0,104)\"><path class=\"background\" aria-hidden=\"true\" d=\"M0,0h41v11h-41Z\" pointer-events=\"none\" opacity=\"1\"/><g><g class=\"mark-symbol role-legend-symbol\" pointer-events=\"none\"><path transform=\"translate(6,6)\" d=\"M5,0A5,5,0,1,1,-5,0A5,5,0,1,1,5,0\" fill=\"#9d755d\" stroke-width=\"1.5\" opacity=\"1\"/></g><g class=\"mark-text role-legend-label\" pointer-events=\"none\"><text text-anchor=\"start\" transform=\"translate(16,9)\" font-family=\"sans-serif\" font-size=\"10px\" fill=\"#000\" opacity=\"1\">x48</text></g></g><path class=\"foreground\" aria-hidden=\"true\" d=\"\" pointer-events=\"none\" display=\"none\"/></g></g></g><path class=\"foreground\" aria-hidden=\"true\" d=\"\" pointer-events=\"none\" display=\"none\"/></g></g><g class=\"mark-text role-legend-title\" pointer-events=\"none\"><text text-anchor=\"start\" transform=\"translate(0,9)\" font-family=\"sans-serif\" font-size=\"11px\" font-weight=\"bold\" fill=\"#000\" opacity=\"1\">variable</text></g></g><path class=\"foreground\" aria-hidden=\"true\" d=\"\" pointer-events=\"none\" display=\"none\"/></g></g></g><path class=\"foreground\" aria-hidden=\"true\" d=\"\" display=\"none\"/></g></g></g></svg>\n"
      ],
      "text/plain": [
       "@vlplot(\n",
       "    legend=\"sNames\",\n",
       "    mark=\"area\",\n",
       "    encoding={\n",
       "        x={\n",
       "            field=\"year\"\n",
       "        },\n",
       "        y={\n",
       "            stack=\"zero\",\n",
       "            title=\"Circularity\",\n",
       "            field=\"value\"\n",
       "        },\n",
       "        color={\n",
       "            field=\"variable\",\n",
       "            type=\"nominal\"\n",
       "        }\n",
       "    },\n",
       "    data={\n",
       "        values=...\n",
       "    }\n",
       ")"
      ]
     },
     "execution_count": 60,
     "metadata": {},
     "output_type": "execute_result"
    }
   ],
   "source": [
    "#=\n",
    "function conventional(t)\n",
    "    return initial[1,5]*(1-sum(JuMP.values.(xk)[k,t] for k in 1:nrow(compromise)))\n",
    "end\n",
    "\n",
    "function innovation(i1,k1,t)\n",
    "     if mod(i1,5)>JuMP.values.(tk)[k1,t] && t<7\n",
    "        t=t+1\n",
    "    end\n",
    "    if k1==1\n",
    "        return sum(JuMP.values.(xk)[k,t]*(compromise[k,5])+JuMP.values.(xk)[k,t]*(compromise[k,6]) for k=k1:k1)\n",
    "    else\n",
    "        return sum(JuMP.values.(xk)[k,t]*(compromise[k,5])+JuMP.values.(xk)[k,t]*(compromise[k,6]) for k=k1:k1 )\n",
    "    end\n",
    "end\n",
    "=#\n",
    "\n",
    "function conventional(i1,t)\n",
    "    if t==7\n",
    "        return initial[1,5]*(1-sum(JuMP.values.(xk)[k,t] for k in 1:nrow(compromise)))\n",
    "    end\n",
    "    if t==0\n",
    "        if mod(i1,5)≥mod(round.(sum(JuMP.values.(tk)[1:nrow(compromise),t+1])-0.001;digits=4),5) && sum(JuMP.values.(xk)[1:nrow(compromise),t+1]) > 0\n",
    "            return initial[1,4]*(1-sum(JuMP.values.(xk)[k,t+1] for k in 1:nrow(compromise)))\n",
    "        else\n",
    "            return initial[1,4]\n",
    "        end\n",
    "    else\n",
    "        sum_xks_atT=0\n",
    "        for k1 in 1:nrow(compromise)\n",
    "            if mod(i1,5)≥mod(round(JuMP.values.(tk)[k1,t+1]-0.001;digits=4),5) && sum(JuMP.values.(xk)[k1,t:t+1])>0 && t>0\n",
    "                sum_xks_atT+=JuMP.values.(xk)[k1,t+1]\n",
    "            else\n",
    "                sum_xks_atT+=JuMP.values.(xk)[k1,t]\n",
    "            end\n",
    "        end\n",
    "            \n",
    "        #if mod(i1,5)≥mod(round(sum(JuMP.values.(tk)[1:nrow(compromise),t+1]);digits=2),5) && sum(JuMP.values.(xk)[1:nrow(compromise),t:t+1])>0 && t>0\n",
    "        #    t=t+1\n",
    "        #end\n",
    "        #return (1-sum(JuMP.values.(xk)[k,t] for k in 1:nrow(compromise)))\n",
    "        return initial[1,4]*(1-sum_xks_atT)\n",
    "    end\n",
    "end\n",
    "\n",
    "\n",
    "function innovation(i1,k1,t)\n",
    "    if t==7\n",
    "        return sum(JuMP.values.(xk)[k,t]*(compromise[k,4]) for k=k1:k1)\n",
    "    end\n",
    "    if t==0 \n",
    "        if mod(i1,5)≥mod(round(JuMP.values.(tk)[k1,t+1]-0.0001;digits=4),5) && JuMP.values.(xk)[k1,t+1] > 0\n",
    "            t=1\n",
    "            return (sum(JuMP.values.(xk)[k,t]*(compromise[k,4]) for k=k1:k1))            \n",
    "        else\n",
    "            return 0\n",
    "        end\n",
    "    end\n",
    "    if mod(i1,5)≥mod(round(JuMP.values.(tk)[k1,t+1]-0.001;digits=4),5) && sum(JuMP.values.(xk)[k1,t:t+1])>0 && t>0\n",
    "        t=t+1\n",
    "    end\n",
    "    return sum(JuMP.values.(xk)[k,t]*(compromise[k,4]) for k=k1:k1)\n",
    "end\n",
    "\n",
    "\n",
    "\n",
    "\n",
    "\n",
    "conv=zeros(55)\n",
    "\n",
    "\n",
    "inn_co2=zeros(nrow(compromise),55)\n",
    "\n",
    "for k in 1:nrow(compromise)\n",
    "    inn_co2[k,1]=0\n",
    "end\n",
    "j=0\n",
    "for t in 1:55\n",
    "    if 0 ≤ t ≤ 5\n",
    "        j=0\n",
    "    elseif 6 ≤ t ≤ 10\n",
    "        j=1\n",
    "    elseif 11 ≤ t ≤ 15\n",
    "        j=2\n",
    "    elseif 16 ≤ t ≤ 20\n",
    "        j=3\n",
    "    elseif 21 ≤ t ≤ 25\n",
    "        j=4\n",
    "    elseif 26 ≤ t ≤ 30\n",
    "        j=5\n",
    "    elseif 31 ≤ t ≤ 35\n",
    "        j=6\n",
    "    else\n",
    "        j=7\n",
    "    end\n",
    "        \n",
    "    conv[t]=conventional(t,j)\n",
    "    for k in 1:nrow(compromise)\n",
    "        inn_co2[k,t]=innovation(t,k,j)\n",
    "    end\n",
    "end\n",
    "#conv[1:5].=initial[1,5]\n",
    "\n",
    "sNames = [\"conv\",\"inn1\",\"inn2\",\"inn3\",\"inn4\",\"inn5\",\"inn6\",\"inn7\",\"inn8\",\"inn9\",\"inn10\"]\n",
    "xLabels = []\n",
    "for i in 2020:2070\n",
    "    push!(xLabels,string(i))\n",
    "end\n",
    "\n",
    "#df = DataFrame(year=xLabels, conv=conv, inn1=inn_co2[1,:],inn2=inn_co2[2,:],inn3=inn_co2[3,:],inn4=inn_co2[4,:],\n",
    "#        inn5=inn_co2[5,:],inn6=inn_co2[6,:],inn7=inn_co2[7,:],inn8=inn_co2[8,:],inn9=inn_co2[9,:],inn10=inn_co2[10,:])\n",
    "df = DataFrame(vcat(inn_co2,conv')',:auto)\n",
    "\n",
    "\n",
    "df=df[1:41,:]\n",
    "\n",
    "df=df[!, any.(>(0), eachcol(df))]\n",
    "df[!,:year]=xLabels[1:41]\n",
    "rename!(df,[:x269] .=> [:Conv])\n",
    "#rename!(df,[:x1,:x93,:x104,:x222] .=> [:Conv,:pyLDPE1,:pyLDPE11,:alcPLA6])\n",
    "#df[!,:alcPLA2]=zeros(36)\n",
    "#df |> stack |> @vlplot(:area, x=:year, y={:value, stack=:zero, title=\"recycled/renewable content\"}, color=\"variable:n\",legend=:sNames) \n",
    "#df[!,:Conv]=zeros(36)\n",
    "df[!,:x30]=zeros(41)\n",
    "df[!,:x159]=zeros(41)\n",
    "#df[!,:x201]=zeros(36)\n",
    "#df[!,:x95]=zeros(36)\n",
    "#rename!(df,[:x1,:x94,:x95,:x104,:x109,:x196,:x198,:x199,:x200,:x201] .=> [:Conv,:LABS12,:LABS13,:LABS22,:LABS27,:RecyclPLA2,:RecyclPLA4,:RecyclPLA5,:RecyclPLA6,:RecyclPLA7])\n",
    "\n",
    "#rename!(df,[:conv,:inn5,:inn10] .=> [:Conventional,:LDPE_Pyrolysis,:PLA_Alcoholysis])\n",
    "\n",
    "circular_inn=df |> stack |> @vlplot(:area, x=:year, y={:value, stack=:zero, title=\"Circularity\"}, color=\"variable:n\",legend=:sNames) \n",
    "if want_save>0\n",
    "    save(\"./result-case-roadmap/circularity-\"*output_key*\".svg\", circular_inn)\n",
    "end\n",
    "#save(\"./result-case-roadmap/circularity-roadmap.svg\", circular_inn)\n",
    "circular_inn\n"
   ]
  },
  {
   "cell_type": "code",
   "execution_count": 61,
   "id": "39d32d80",
   "metadata": {},
   "outputs": [
    {
     "data": {
      "application/vnd.vegalite.v4+json": {
       "data": {
        "values": [
         {
          "value": 0,
          "variable": "x28",
          "year": "2020"
         },
         {
          "value": 0,
          "variable": "x28",
          "year": "2021"
         },
         {
          "value": 0,
          "variable": "x28",
          "year": "2022"
         },
         {
          "value": 0,
          "variable": "x28",
          "year": "2023"
         },
         {
          "value": 0,
          "variable": "x28",
          "year": "2024"
         },
         {
          "value": 0,
          "variable": "x28",
          "year": "2025"
         },
         {
          "value": 0,
          "variable": "x28",
          "year": "2026"
         },
         {
          "value": 0,
          "variable": "x28",
          "year": "2027"
         },
         {
          "value": 0,
          "variable": "x28",
          "year": "2028"
         },
         {
          "value": 0,
          "variable": "x28",
          "year": "2029"
         },
         {
          "value": 0,
          "variable": "x28",
          "year": "2030"
         },
         {
          "value": 0,
          "variable": "x28",
          "year": "2031"
         },
         {
          "value": 0,
          "variable": "x28",
          "year": "2032"
         },
         {
          "value": 0,
          "variable": "x28",
          "year": "2033"
         },
         {
          "value": 0,
          "variable": "x28",
          "year": "2034"
         },
         {
          "value": 1.8810570403859626,
          "variable": "x28",
          "year": "2035"
         },
         {
          "value": 1.8810570403859626,
          "variable": "x28",
          "year": "2036"
         },
         {
          "value": 1.8810570403859626,
          "variable": "x28",
          "year": "2037"
         },
         {
          "value": 1.8810570403859626,
          "variable": "x28",
          "year": "2038"
         },
         {
          "value": 1.8810570403859626,
          "variable": "x28",
          "year": "2039"
         },
         {
          "value": 0,
          "variable": "x28",
          "year": "2040"
         },
         {
          "value": 0,
          "variable": "x28",
          "year": "2041"
         },
         {
          "value": 0,
          "variable": "x28",
          "year": "2042"
         },
         {
          "value": 0,
          "variable": "x28",
          "year": "2043"
         },
         {
          "value": 0,
          "variable": "x28",
          "year": "2044"
         },
         {
          "value": 2.0829974975649588,
          "variable": "x28",
          "year": "2045"
         },
         {
          "value": 2.0829974975649588,
          "variable": "x28",
          "year": "2046"
         },
         {
          "value": 2.0829974975649588,
          "variable": "x28",
          "year": "2047"
         },
         {
          "value": 2.0829974975649588,
          "variable": "x28",
          "year": "2048"
         },
         {
          "value": 2.0829974975649588,
          "variable": "x28",
          "year": "2049"
         },
         {
          "value": 0,
          "variable": "x28",
          "year": "2050"
         },
         {
          "value": 0,
          "variable": "x28",
          "year": "2051"
         },
         {
          "value": 0,
          "variable": "x28",
          "year": "2052"
         },
         {
          "value": 0,
          "variable": "x28",
          "year": "2053"
         },
         {
          "value": 0,
          "variable": "x28",
          "year": "2054"
         },
         {
          "value": 0,
          "variable": "x28",
          "year": "2055"
         },
         {
          "value": 0,
          "variable": "x28",
          "year": "2056"
         },
         {
          "value": 0,
          "variable": "x28",
          "year": "2057"
         },
         {
          "value": 0,
          "variable": "x28",
          "year": "2058"
         },
         {
          "value": 0,
          "variable": "x28",
          "year": "2059"
         },
         {
          "value": 0,
          "variable": "x28",
          "year": "2060"
         },
         {
          "value": 0,
          "variable": "x30",
          "year": "2020"
         },
         {
          "value": 0,
          "variable": "x30",
          "year": "2021"
         },
         {
          "value": 0,
          "variable": "x30",
          "year": "2022"
         },
         {
          "value": 0,
          "variable": "x30",
          "year": "2023"
         },
         {
          "value": 0,
          "variable": "x30",
          "year": "2024"
         },
         {
          "value": 0,
          "variable": "x30",
          "year": "2025"
         },
         {
          "value": 0,
          "variable": "x30",
          "year": "2026"
         },
         {
          "value": 0,
          "variable": "x30",
          "year": "2027"
         },
         {
          "value": 0,
          "variable": "x30",
          "year": "2028"
         },
         {
          "value": 0,
          "variable": "x30",
          "year": "2029"
         },
         {
          "value": 0.9226777574787562,
          "variable": "x30",
          "year": "2030"
         },
         {
          "value": 0.9226777574787562,
          "variable": "x30",
          "year": "2031"
         },
         {
          "value": 0.9226777574787562,
          "variable": "x30",
          "year": "2032"
         },
         {
          "value": 0.9226777574787562,
          "variable": "x30",
          "year": "2033"
         },
         {
          "value": 0.9226777574787562,
          "variable": "x30",
          "year": "2034"
         },
         {
          "value": 0,
          "variable": "x30",
          "year": "2035"
         },
         {
          "value": 0,
          "variable": "x30",
          "year": "2036"
         },
         {
          "value": 0,
          "variable": "x30",
          "year": "2037"
         },
         {
          "value": 0,
          "variable": "x30",
          "year": "2038"
         },
         {
          "value": 0,
          "variable": "x30",
          "year": "2039"
         },
         {
          "value": 0,
          "variable": "x30",
          "year": "2040"
         },
         {
          "value": 0,
          "variable": "x30",
          "year": "2041"
         },
         {
          "value": 0,
          "variable": "x30",
          "year": "2042"
         },
         {
          "value": 0,
          "variable": "x30",
          "year": "2043"
         },
         {
          "value": 0,
          "variable": "x30",
          "year": "2044"
         },
         {
          "value": 0,
          "variable": "x30",
          "year": "2045"
         },
         {
          "value": 0,
          "variable": "x30",
          "year": "2046"
         },
         {
          "value": 0,
          "variable": "x30",
          "year": "2047"
         },
         {
          "value": 0,
          "variable": "x30",
          "year": "2048"
         },
         {
          "value": 0,
          "variable": "x30",
          "year": "2049"
         },
         {
          "value": 0,
          "variable": "x30",
          "year": "2050"
         },
         {
          "value": 0,
          "variable": "x30",
          "year": "2051"
         },
         {
          "value": 0,
          "variable": "x30",
          "year": "2052"
         },
         {
          "value": 0,
          "variable": "x30",
          "year": "2053"
         },
         {
          "value": 0,
          "variable": "x30",
          "year": "2054"
         },
         {
          "value": 0,
          "variable": "x30",
          "year": "2055"
         },
         {
          "value": 0,
          "variable": "x30",
          "year": "2056"
         },
         {
          "value": 0,
          "variable": "x30",
          "year": "2057"
         },
         {
          "value": 0,
          "variable": "x30",
          "year": "2058"
         },
         {
          "value": 0,
          "variable": "x30",
          "year": "2059"
         },
         {
          "value": 0,
          "variable": "x30",
          "year": "2060"
         },
         {
          "value": 0,
          "variable": "x34",
          "year": "2020"
         },
         {
          "value": 0,
          "variable": "x34",
          "year": "2021"
         },
         {
          "value": 0,
          "variable": "x34",
          "year": "2022"
         },
         {
          "value": 0,
          "variable": "x34",
          "year": "2023"
         },
         {
          "value": 0,
          "variable": "x34",
          "year": "2024"
         },
         {
          "value": 0.8234,
          "variable": "x34",
          "year": "2025"
         },
         {
          "value": 0.8234,
          "variable": "x34",
          "year": "2026"
         },
         {
          "value": 0.8234,
          "variable": "x34",
          "year": "2027"
         },
         {
          "value": 0.8234,
          "variable": "x34",
          "year": "2028"
         },
         {
          "value": 0.8234,
          "variable": "x34",
          "year": "2029"
         },
         {
          "value": 0,
          "variable": "x34",
          "year": "2030"
         },
         {
          "value": 0,
          "variable": "x34",
          "year": "2031"
         },
         {
          "value": 0,
          "variable": "x34",
          "year": "2032"
         },
         {
          "value": 0,
          "variable": "x34",
          "year": "2033"
         },
         {
          "value": 0,
          "variable": "x34",
          "year": "2034"
         },
         {
          "value": 0,
          "variable": "x34",
          "year": "2035"
         },
         {
          "value": 0,
          "variable": "x34",
          "year": "2036"
         },
         {
          "value": 0,
          "variable": "x34",
          "year": "2037"
         },
         {
          "value": 0,
          "variable": "x34",
          "year": "2038"
         },
         {
          "value": 0,
          "variable": "x34",
          "year": "2039"
         },
         {
          "value": 0,
          "variable": "x34",
          "year": "2040"
         },
         {
          "value": 0,
          "variable": "x34",
          "year": "2041"
         },
         {
          "value": 0,
          "variable": "x34",
          "year": "2042"
         },
         {
          "value": 0,
          "variable": "x34",
          "year": "2043"
         },
         {
          "value": 0,
          "variable": "x34",
          "year": "2044"
         },
         {
          "value": 0,
          "variable": "x34",
          "year": "2045"
         },
         {
          "value": 0,
          "variable": "x34",
          "year": "2046"
         },
         {
          "value": 0,
          "variable": "x34",
          "year": "2047"
         },
         {
          "value": 0,
          "variable": "x34",
          "year": "2048"
         },
         {
          "value": 0,
          "variable": "x34",
          "year": "2049"
         },
         {
          "value": 0,
          "variable": "x34",
          "year": "2050"
         },
         {
          "value": 0,
          "variable": "x34",
          "year": "2051"
         },
         {
          "value": 0,
          "variable": "x34",
          "year": "2052"
         },
         {
          "value": 0,
          "variable": "x34",
          "year": "2053"
         },
         {
          "value": 0,
          "variable": "x34",
          "year": "2054"
         },
         {
          "value": 0,
          "variable": "x34",
          "year": "2055"
         },
         {
          "value": 0,
          "variable": "x34",
          "year": "2056"
         },
         {
          "value": 0,
          "variable": "x34",
          "year": "2057"
         },
         {
          "value": 0,
          "variable": "x34",
          "year": "2058"
         },
         {
          "value": 0,
          "variable": "x34",
          "year": "2059"
         },
         {
          "value": 0,
          "variable": "x34",
          "year": "2060"
         },
         {
          "value": 0,
          "variable": "x37",
          "year": "2020"
         },
         {
          "value": 0,
          "variable": "x37",
          "year": "2021"
         },
         {
          "value": 0,
          "variable": "x37",
          "year": "2022"
         },
         {
          "value": 0,
          "variable": "x37",
          "year": "2023"
         },
         {
          "value": 0,
          "variable": "x37",
          "year": "2024"
         },
         {
          "value": 0,
          "variable": "x37",
          "year": "2025"
         },
         {
          "value": 0,
          "variable": "x37",
          "year": "2026"
         },
         {
          "value": 0,
          "variable": "x37",
          "year": "2027"
         },
         {
          "value": 0,
          "variable": "x37",
          "year": "2028"
         },
         {
          "value": 0,
          "variable": "x37",
          "year": "2029"
         },
         {
          "value": 0,
          "variable": "x37",
          "year": "2030"
         },
         {
          "value": 0,
          "variable": "x37",
          "year": "2031"
         },
         {
          "value": 0,
          "variable": "x37",
          "year": "2032"
         },
         {
          "value": 0,
          "variable": "x37",
          "year": "2033"
         },
         {
          "value": 0,
          "variable": "x37",
          "year": "2034"
         },
         {
          "value": 0,
          "variable": "x37",
          "year": "2035"
         },
         {
          "value": 0,
          "variable": "x37",
          "year": "2036"
         },
         {
          "value": 0,
          "variable": "x37",
          "year": "2037"
         },
         {
          "value": 0,
          "variable": "x37",
          "year": "2038"
         },
         {
          "value": 0,
          "variable": "x37",
          "year": "2039"
         },
         {
          "value": 0,
          "variable": "x37",
          "year": "2040"
         },
         {
          "value": 0,
          "variable": "x37",
          "year": "2041"
         },
         {
          "value": 0,
          "variable": "x37",
          "year": "2042"
         },
         {
          "value": 0,
          "variable": "x37",
          "year": "2043"
         },
         {
          "value": 0,
          "variable": "x37",
          "year": "2044"
         },
         {
          "value": 0,
          "variable": "x37",
          "year": "2045"
         },
         {
          "value": 0,
          "variable": "x37",
          "year": "2046"
         },
         {
          "value": 0,
          "variable": "x37",
          "year": "2047"
         },
         {
          "value": 0,
          "variable": "x37",
          "year": "2048"
         },
         {
          "value": 0,
          "variable": "x37",
          "year": "2049"
         },
         {
          "value": 0,
          "variable": "x37",
          "year": "2050"
         },
         {
          "value": 0,
          "variable": "x37",
          "year": "2051"
         },
         {
          "value": 0,
          "variable": "x37",
          "year": "2052"
         },
         {
          "value": 0,
          "variable": "x37",
          "year": "2053"
         },
         {
          "value": 0,
          "variable": "x37",
          "year": "2054"
         },
         {
          "value": 0.21357971637312256,
          "variable": "x37",
          "year": "2055"
         },
         {
          "value": 0.21357971637312256,
          "variable": "x37",
          "year": "2056"
         },
         {
          "value": 0.21357971637312256,
          "variable": "x37",
          "year": "2057"
         },
         {
          "value": 0.21357971637312256,
          "variable": "x37",
          "year": "2058"
         },
         {
          "value": 0.21357971637312256,
          "variable": "x37",
          "year": "2059"
         },
         {
          "value": 0.21357971637312256,
          "variable": "x37",
          "year": "2060"
         },
         {
          "value": 0,
          "variable": "x48",
          "year": "2020"
         },
         {
          "value": 0,
          "variable": "x48",
          "year": "2021"
         },
         {
          "value": 0,
          "variable": "x48",
          "year": "2022"
         },
         {
          "value": 0,
          "variable": "x48",
          "year": "2023"
         },
         {
          "value": 0,
          "variable": "x48",
          "year": "2024"
         },
         {
          "value": 0,
          "variable": "x48",
          "year": "2025"
         },
         {
          "value": 0,
          "variable": "x48",
          "year": "2026"
         },
         {
          "value": 0,
          "variable": "x48",
          "year": "2027"
         },
         {
          "value": 0,
          "variable": "x48",
          "year": "2028"
         },
         {
          "value": 0,
          "variable": "x48",
          "year": "2029"
         },
         {
          "value": 0,
          "variable": "x48",
          "year": "2030"
         },
         {
          "value": 0,
          "variable": "x48",
          "year": "2031"
         },
         {
          "value": 0,
          "variable": "x48",
          "year": "2032"
         },
         {
          "value": 0,
          "variable": "x48",
          "year": "2033"
         },
         {
          "value": 0,
          "variable": "x48",
          "year": "2034"
         },
         {
          "value": 0,
          "variable": "x48",
          "year": "2035"
         },
         {
          "value": 0,
          "variable": "x48",
          "year": "2036"
         },
         {
          "value": 0,
          "variable": "x48",
          "year": "2037"
         },
         {
          "value": 0,
          "variable": "x48",
          "year": "2038"
         },
         {
          "value": 0,
          "variable": "x48",
          "year": "2039"
         },
         {
          "value": 2.0241750725001757,
          "variable": "x48",
          "year": "2040"
         },
         {
          "value": 2.0241750725001757,
          "variable": "x48",
          "year": "2041"
         },
         {
          "value": 2.0241750725001757,
          "variable": "x48",
          "year": "2042"
         },
         {
          "value": 2.0241750725001757,
          "variable": "x48",
          "year": "2043"
         },
         {
          "value": 2.0241750725001757,
          "variable": "x48",
          "year": "2044"
         },
         {
          "value": 0,
          "variable": "x48",
          "year": "2045"
         },
         {
          "value": 0,
          "variable": "x48",
          "year": "2046"
         },
         {
          "value": 0,
          "variable": "x48",
          "year": "2047"
         },
         {
          "value": 0,
          "variable": "x48",
          "year": "2048"
         },
         {
          "value": 0,
          "variable": "x48",
          "year": "2049"
         },
         {
          "value": 2.802170128863871,
          "variable": "x48",
          "year": "2050"
         },
         {
          "value": 2.802170128863871,
          "variable": "x48",
          "year": "2051"
         },
         {
          "value": 2.802170128863871,
          "variable": "x48",
          "year": "2052"
         },
         {
          "value": 2.802170128863871,
          "variable": "x48",
          "year": "2053"
         },
         {
          "value": 2.802170128863871,
          "variable": "x48",
          "year": "2054"
         },
         {
          "value": 0,
          "variable": "x48",
          "year": "2055"
         },
         {
          "value": 0,
          "variable": "x48",
          "year": "2056"
         },
         {
          "value": 0,
          "variable": "x48",
          "year": "2057"
         },
         {
          "value": 0,
          "variable": "x48",
          "year": "2058"
         },
         {
          "value": 0,
          "variable": "x48",
          "year": "2059"
         },
         {
          "value": 0,
          "variable": "x48",
          "year": "2060"
         },
         {
          "value": 0,
          "variable": "x158",
          "year": "2020"
         },
         {
          "value": 0,
          "variable": "x158",
          "year": "2021"
         },
         {
          "value": 0,
          "variable": "x158",
          "year": "2022"
         },
         {
          "value": 0,
          "variable": "x158",
          "year": "2023"
         },
         {
          "value": 0,
          "variable": "x158",
          "year": "2024"
         },
         {
          "value": 0,
          "variable": "x158",
          "year": "2025"
         },
         {
          "value": 0,
          "variable": "x158",
          "year": "2026"
         },
         {
          "value": 0,
          "variable": "x158",
          "year": "2027"
         },
         {
          "value": 0,
          "variable": "x158",
          "year": "2028"
         },
         {
          "value": 0,
          "variable": "x158",
          "year": "2029"
         },
         {
          "value": 0,
          "variable": "x158",
          "year": "2030"
         },
         {
          "value": 0,
          "variable": "x158",
          "year": "2031"
         },
         {
          "value": 0,
          "variable": "x158",
          "year": "2032"
         },
         {
          "value": 0,
          "variable": "x158",
          "year": "2033"
         },
         {
          "value": 0,
          "variable": "x158",
          "year": "2034"
         },
         {
          "value": 0,
          "variable": "x158",
          "year": "2035"
         },
         {
          "value": 0,
          "variable": "x158",
          "year": "2036"
         },
         {
          "value": 0,
          "variable": "x158",
          "year": "2037"
         },
         {
          "value": 0,
          "variable": "x158",
          "year": "2038"
         },
         {
          "value": 0,
          "variable": "x158",
          "year": "2039"
         },
         {
          "value": 0.12626582939422062,
          "variable": "x158",
          "year": "2040"
         },
         {
          "value": 0.12626582939422062,
          "variable": "x158",
          "year": "2041"
         },
         {
          "value": 0.12626582939422062,
          "variable": "x158",
          "year": "2042"
         },
         {
          "value": 0.12626582939422062,
          "variable": "x158",
          "year": "2043"
         },
         {
          "value": 0.12626582939422062,
          "variable": "x158",
          "year": "2044"
         },
         {
          "value": 0,
          "variable": "x158",
          "year": "2045"
         },
         {
          "value": 0,
          "variable": "x158",
          "year": "2046"
         },
         {
          "value": 0,
          "variable": "x158",
          "year": "2047"
         },
         {
          "value": 0,
          "variable": "x158",
          "year": "2048"
         },
         {
          "value": 0,
          "variable": "x158",
          "year": "2049"
         },
         {
          "value": 0.17479631096736972,
          "variable": "x158",
          "year": "2050"
         },
         {
          "value": 0.17479631096736972,
          "variable": "x158",
          "year": "2051"
         },
         {
          "value": 0.17479631096736972,
          "variable": "x158",
          "year": "2052"
         },
         {
          "value": 0.17479631096736972,
          "variable": "x158",
          "year": "2053"
         },
         {
          "value": 0.17479631096736972,
          "variable": "x158",
          "year": "2054"
         },
         {
          "value": 0,
          "variable": "x158",
          "year": "2055"
         },
         {
          "value": 0,
          "variable": "x158",
          "year": "2056"
         },
         {
          "value": 0,
          "variable": "x158",
          "year": "2057"
         },
         {
          "value": 0,
          "variable": "x158",
          "year": "2058"
         },
         {
          "value": 0,
          "variable": "x158",
          "year": "2059"
         },
         {
          "value": 0,
          "variable": "x158",
          "year": "2060"
         },
         {
          "value": 0,
          "variable": "x159",
          "year": "2020"
         },
         {
          "value": 0,
          "variable": "x159",
          "year": "2021"
         },
         {
          "value": 0,
          "variable": "x159",
          "year": "2022"
         },
         {
          "value": 0,
          "variable": "x159",
          "year": "2023"
         },
         {
          "value": 0,
          "variable": "x159",
          "year": "2024"
         },
         {
          "value": 0,
          "variable": "x159",
          "year": "2025"
         },
         {
          "value": 0,
          "variable": "x159",
          "year": "2026"
         },
         {
          "value": 0,
          "variable": "x159",
          "year": "2027"
         },
         {
          "value": 0,
          "variable": "x159",
          "year": "2028"
         },
         {
          "value": 0,
          "variable": "x159",
          "year": "2029"
         },
         {
          "value": 0,
          "variable": "x159",
          "year": "2030"
         },
         {
          "value": 0,
          "variable": "x159",
          "year": "2031"
         },
         {
          "value": 0,
          "variable": "x159",
          "year": "2032"
         },
         {
          "value": 0,
          "variable": "x159",
          "year": "2033"
         },
         {
          "value": 0,
          "variable": "x159",
          "year": "2034"
         },
         {
          "value": 0,
          "variable": "x159",
          "year": "2035"
         },
         {
          "value": 0,
          "variable": "x159",
          "year": "2036"
         },
         {
          "value": 0,
          "variable": "x159",
          "year": "2037"
         },
         {
          "value": 0,
          "variable": "x159",
          "year": "2038"
         },
         {
          "value": 0,
          "variable": "x159",
          "year": "2039"
         },
         {
          "value": 0,
          "variable": "x159",
          "year": "2040"
         },
         {
          "value": 0,
          "variable": "x159",
          "year": "2041"
         },
         {
          "value": 0,
          "variable": "x159",
          "year": "2042"
         },
         {
          "value": 0,
          "variable": "x159",
          "year": "2043"
         },
         {
          "value": 0,
          "variable": "x159",
          "year": "2044"
         },
         {
          "value": 0.30071019622580686,
          "variable": "x159",
          "year": "2045"
         },
         {
          "value": 0.30071019622580686,
          "variable": "x159",
          "year": "2046"
         },
         {
          "value": 0.30071019622580686,
          "variable": "x159",
          "year": "2047"
         },
         {
          "value": 0.30071019622580686,
          "variable": "x159",
          "year": "2048"
         },
         {
          "value": 0.30071019622580686,
          "variable": "x159",
          "year": "2049"
         },
         {
          "value": 0,
          "variable": "x159",
          "year": "2050"
         },
         {
          "value": 0,
          "variable": "x159",
          "year": "2051"
         },
         {
          "value": 0,
          "variable": "x159",
          "year": "2052"
         },
         {
          "value": 0,
          "variable": "x159",
          "year": "2053"
         },
         {
          "value": 0,
          "variable": "x159",
          "year": "2054"
         },
         {
          "value": 0,
          "variable": "x159",
          "year": "2055"
         },
         {
          "value": 0,
          "variable": "x159",
          "year": "2056"
         },
         {
          "value": 0,
          "variable": "x159",
          "year": "2057"
         },
         {
          "value": 0,
          "variable": "x159",
          "year": "2058"
         },
         {
          "value": 0,
          "variable": "x159",
          "year": "2059"
         },
         {
          "value": 0,
          "variable": "x159",
          "year": "2060"
         },
         {
          "value": 0,
          "variable": "x163",
          "year": "2020"
         },
         {
          "value": 0,
          "variable": "x163",
          "year": "2021"
         },
         {
          "value": 0,
          "variable": "x163",
          "year": "2022"
         },
         {
          "value": 0,
          "variable": "x163",
          "year": "2023"
         },
         {
          "value": 0,
          "variable": "x163",
          "year": "2024"
         },
         {
          "value": 0,
          "variable": "x163",
          "year": "2025"
         },
         {
          "value": 0,
          "variable": "x163",
          "year": "2026"
         },
         {
          "value": 0,
          "variable": "x163",
          "year": "2027"
         },
         {
          "value": 0,
          "variable": "x163",
          "year": "2028"
         },
         {
          "value": 0,
          "variable": "x163",
          "year": "2029"
         },
         {
          "value": 0,
          "variable": "x163",
          "year": "2030"
         },
         {
          "value": 0,
          "variable": "x163",
          "year": "2031"
         },
         {
          "value": 0,
          "variable": "x163",
          "year": "2032"
         },
         {
          "value": 0,
          "variable": "x163",
          "year": "2033"
         },
         {
          "value": 0,
          "variable": "x163",
          "year": "2034"
         },
         {
          "value": 0,
          "variable": "x163",
          "year": "2035"
         },
         {
          "value": 0,
          "variable": "x163",
          "year": "2036"
         },
         {
          "value": 0,
          "variable": "x163",
          "year": "2037"
         },
         {
          "value": 0,
          "variable": "x163",
          "year": "2038"
         },
         {
          "value": 0,
          "variable": "x163",
          "year": "2039"
         },
         {
          "value": 1.548996103548007e-13,
          "variable": "x163",
          "year": "2040"
         },
         {
          "value": 1.548996103548007e-13,
          "variable": "x163",
          "year": "2041"
         },
         {
          "value": 1.548996103548007e-13,
          "variable": "x163",
          "year": "2042"
         },
         {
          "value": 1.548996103548007e-13,
          "variable": "x163",
          "year": "2043"
         },
         {
          "value": 1.548996103548007e-13,
          "variable": "x163",
          "year": "2044"
         },
         {
          "value": 0,
          "variable": "x163",
          "year": "2045"
         },
         {
          "value": 0,
          "variable": "x163",
          "year": "2046"
         },
         {
          "value": 0,
          "variable": "x163",
          "year": "2047"
         },
         {
          "value": 0,
          "variable": "x163",
          "year": "2048"
         },
         {
          "value": 0,
          "variable": "x163",
          "year": "2049"
         },
         {
          "value": 0,
          "variable": "x163",
          "year": "2050"
         },
         {
          "value": 0,
          "variable": "x163",
          "year": "2051"
         },
         {
          "value": 0,
          "variable": "x163",
          "year": "2052"
         },
         {
          "value": 0,
          "variable": "x163",
          "year": "2053"
         },
         {
          "value": 0,
          "variable": "x163",
          "year": "2054"
         },
         {
          "value": 0.7864202836268774,
          "variable": "x163",
          "year": "2055"
         },
         {
          "value": 0.7864202836268774,
          "variable": "x163",
          "year": "2056"
         },
         {
          "value": 0.7864202836268774,
          "variable": "x163",
          "year": "2057"
         },
         {
          "value": 0.7864202836268774,
          "variable": "x163",
          "year": "2058"
         },
         {
          "value": 0.7864202836268774,
          "variable": "x163",
          "year": "2059"
         },
         {
          "value": 0.7864202836268774,
          "variable": "x163",
          "year": "2060"
         },
         {
          "value": 3.2,
          "variable": "Conv",
          "year": "2020"
         },
         {
          "value": 3.2,
          "variable": "Conv",
          "year": "2021"
         },
         {
          "value": 3.2,
          "variable": "Conv",
          "year": "2022"
         },
         {
          "value": 3.2,
          "variable": "Conv",
          "year": "2023"
         },
         {
          "value": 3.2,
          "variable": "Conv",
          "year": "2024"
         },
         {
          "value": 0,
          "variable": "Conv",
          "year": "2025"
         },
         {
          "value": 0,
          "variable": "Conv",
          "year": "2026"
         },
         {
          "value": 0,
          "variable": "Conv",
          "year": "2027"
         },
         {
          "value": 0,
          "variable": "Conv",
          "year": "2028"
         },
         {
          "value": 0,
          "variable": "Conv",
          "year": "2029"
         },
         {
          "value": 0,
          "variable": "Conv",
          "year": "2030"
         },
         {
          "value": 0,
          "variable": "Conv",
          "year": "2031"
         },
         {
          "value": 0,
          "variable": "Conv",
          "year": "2032"
         },
         {
          "value": 0,
          "variable": "Conv",
          "year": "2033"
         },
         {
          "value": 0,
          "variable": "Conv",
          "year": "2034"
         },
         {
          "value": 0,
          "variable": "Conv",
          "year": "2035"
         },
         {
          "value": 0,
          "variable": "Conv",
          "year": "2036"
         },
         {
          "value": 0,
          "variable": "Conv",
          "year": "2037"
         },
         {
          "value": 0,
          "variable": "Conv",
          "year": "2038"
         },
         {
          "value": 0,
          "variable": "Conv",
          "year": "2039"
         },
         {
          "value": 0,
          "variable": "Conv",
          "year": "2040"
         },
         {
          "value": 0,
          "variable": "Conv",
          "year": "2041"
         },
         {
          "value": 0,
          "variable": "Conv",
          "year": "2042"
         },
         {
          "value": 0,
          "variable": "Conv",
          "year": "2043"
         },
         {
          "value": 0,
          "variable": "Conv",
          "year": "2044"
         },
         {
          "value": 0,
          "variable": "Conv",
          "year": "2045"
         },
         {
          "value": 0,
          "variable": "Conv",
          "year": "2046"
         },
         {
          "value": 0,
          "variable": "Conv",
          "year": "2047"
         },
         {
          "value": 0,
          "variable": "Conv",
          "year": "2048"
         },
         {
          "value": 0,
          "variable": "Conv",
          "year": "2049"
         },
         {
          "value": 0,
          "variable": "Conv",
          "year": "2050"
         },
         {
          "value": 0,
          "variable": "Conv",
          "year": "2051"
         },
         {
          "value": 0,
          "variable": "Conv",
          "year": "2052"
         },
         {
          "value": 0,
          "variable": "Conv",
          "year": "2053"
         },
         {
          "value": 0,
          "variable": "Conv",
          "year": "2054"
         },
         {
          "value": 0,
          "variable": "Conv",
          "year": "2055"
         },
         {
          "value": 0,
          "variable": "Conv",
          "year": "2056"
         },
         {
          "value": 0,
          "variable": "Conv",
          "year": "2057"
         },
         {
          "value": 0,
          "variable": "Conv",
          "year": "2058"
         },
         {
          "value": 0,
          "variable": "Conv",
          "year": "2059"
         },
         {
          "value": 0,
          "variable": "Conv",
          "year": "2060"
         }
        ]
       },
       "encoding": {
        "color": {
         "field": "variable",
         "type": "nominal"
        },
        "x": {
         "field": "year"
        },
        "y": {
         "field": "value",
         "stack": "zero",
         "title": "Value-chain adopted (%)",
         "type": "quantitative"
        }
       },
       "legend": "sNames",
       "mark": "area"
      },
      "image/png": "[encoded data removed]",
      "image/svg+xml": [
       "<?xml version=\"1.0\" encoding=\"utf-8\"?>\n",
       "<!DOCTYPE svg PUBLIC \"-//W3C//DTD SVG 1.1//EN\" \"http://www.w3.org/Graphics/SVG/1.1/DTD/svg11.dtd\">\n",
       "<svg xmlns=\"http://www.w3.org/2000/svg\" xmlns:xlink=\"http://www.w3.org/1999/xlink\" version=\"1.1\" class=\"marks\" width=\"934\" height=\"261\" viewBox=\"0 0 934 261\"><rect width=\"934\" height=\"261\" fill=\"white\"/><g fill=\"none\" stroke-miterlimit=\"10\" transform=\"translate(42,10)\"><g class=\"mark-group role-frame root\" role=\"graphics-object\" aria-roledescription=\"group mark container\"><g transform=\"translate(0,0)\"><path class=\"background\" aria-hidden=\"true\" d=\"M0.5,0.5h820v200h-820Z\" stroke=\"#ddd\"/><g><g class=\"mark-group role-axis\" aria-hidden=\"true\"><g transform=\"translate(0.5,0.5)\"><path class=\"background\" aria-hidden=\"true\" d=\"M0,0h0v0h0Z\" pointer-events=\"none\"/><g><g class=\"mark-rule role-axis-grid\" pointer-events=\"none\"><line transform=\"translate(0,200)\" x2=\"820\" y2=\"0\" stroke=\"#ddd\" stroke-width=\"1\" opacity=\"1\"/><line transform=\"translate(0,171)\" x2=\"820\" y2=\"0\" stroke=\"#ddd\" stroke-width=\"1\" opacity=\"1\"/><line transform=\"translate(0,143)\" x2=\"820\" y2=\"0\" stroke=\"#ddd\" stroke-width=\"1\" opacity=\"1\"/><line transform=\"translate(0,114)\" x2=\"820\" y2=\"0\" stroke=\"#ddd\" stroke-width=\"1\" opacity=\"1\"/><line transform=\"translate(0,86)\" x2=\"820\" y2=\"0\" stroke=\"#ddd\" stroke-width=\"1\" opacity=\"1\"/><line transform=\"translate(0,57)\" x2=\"820\" y2=\"0\" stroke=\"#ddd\" stroke-width=\"1\" opacity=\"1\"/><line transform=\"translate(0,29)\" x2=\"820\" y2=\"0\" stroke=\"#ddd\" stroke-width=\"1\" opacity=\"1\"/><line transform=\"translate(0,0)\" x2=\"820\" y2=\"0\" stroke=\"#ddd\" stroke-width=\"1\" opacity=\"1\"/></g></g><path class=\"foreground\" aria-hidden=\"true\" d=\"\" pointer-events=\"none\" display=\"none\"/></g></g><g class=\"mark-group role-axis\" role=\"graphics-symbol\" aria-roledescription=\"axis\" aria-label=\"X-axis titled 'year' for a discrete scale with 41 values: 2020, 2021, 2022, 2023, 2024, ending with 2060\"><g transform=\"translate(0.5,200.5)\"><path class=\"background\" aria-hidden=\"true\" d=\"M0,0h0v0h0Z\" pointer-events=\"none\"/><g><g class=\"mark-rule role-axis-tick\" pointer-events=\"none\"><line transform=\"translate(10,0)\" x2=\"0\" y2=\"5\" stroke=\"#888\" stroke-width=\"1\" opacity=\"1\"/><line transform=\"translate(30,0)\" x2=\"0\" y2=\"5\" stroke=\"#888\" stroke-width=\"1\" opacity=\"1\"/><line transform=\"translate(50,0)\" x2=\"0\" y2=\"5\" stroke=\"#888\" stroke-width=\"1\" opacity=\"1\"/><line transform=\"translate(70,0)\" x2=\"0\" y2=\"5\" stroke=\"#888\" stroke-width=\"1\" opacity=\"1\"/><line transform=\"translate(90,0)\" x2=\"0\" y2=\"5\" stroke=\"#888\" stroke-width=\"1\" opacity=\"1\"/><line transform=\"translate(110,0)\" x2=\"0\" y2=\"5\" stroke=\"#888\" stroke-width=\"1\" opacity=\"1\"/><line transform=\"translate(130,0)\" x2=\"0\" y2=\"5\" stroke=\"#888\" stroke-width=\"1\" opacity=\"1\"/><line transform=\"translate(150,0)\" x2=\"0\" y2=\"5\" stroke=\"#888\" stroke-width=\"1\" opacity=\"1\"/><line transform=\"translate(170,0)\" x2=\"0\" y2=\"5\" stroke=\"#888\" stroke-width=\"1\" opacity=\"1\"/><line transform=\"translate(190,0)\" x2=\"0\" y2=\"5\" stroke=\"#888\" stroke-width=\"1\" opacity=\"1\"/><line transform=\"translate(210,0)\" x2=\"0\" y2=\"5\" stroke=\"#888\" stroke-width=\"1\" opacity=\"1\"/><line transform=\"translate(230,0)\" x2=\"0\" y2=\"5\" stroke=\"#888\" stroke-width=\"1\" opacity=\"1\"/><line transform=\"translate(250,0)\" x2=\"0\" y2=\"5\" stroke=\"#888\" stroke-width=\"1\" opacity=\"1\"/><line transform=\"translate(270,0)\" x2=\"0\" y2=\"5\" stroke=\"#888\" stroke-width=\"1\" opacity=\"1\"/><line transform=\"translate(290,0)\" x2=\"0\" y2=\"5\" stroke=\"#888\" stroke-width=\"1\" opacity=\"1\"/><line transform=\"translate(310,0)\" x2=\"0\" y2=\"5\" stroke=\"#888\" stroke-width=\"1\" opacity=\"1\"/><line transform=\"translate(330,0)\" x2=\"0\" y2=\"5\" stroke=\"#888\" stroke-width=\"1\" opacity=\"1\"/><line transform=\"translate(350,0)\" x2=\"0\" y2=\"5\" stroke=\"#888\" stroke-width=\"1\" opacity=\"1\"/><line transform=\"translate(370,0)\" x2=\"0\" y2=\"5\" stroke=\"#888\" stroke-width=\"1\" opacity=\"1\"/><line transform=\"translate(390,0)\" x2=\"0\" y2=\"5\" stroke=\"#888\" stroke-width=\"1\" opacity=\"1\"/><line transform=\"translate(410,0)\" x2=\"0\" y2=\"5\" stroke=\"#888\" stroke-width=\"1\" opacity=\"1\"/><line transform=\"translate(430,0)\" x2=\"0\" y2=\"5\" stroke=\"#888\" stroke-width=\"1\" opacity=\"1\"/><line transform=\"translate(450,0)\" x2=\"0\" y2=\"5\" stroke=\"#888\" stroke-width=\"1\" opacity=\"1\"/><line transform=\"translate(470,0)\" x2=\"0\" y2=\"5\" stroke=\"#888\" stroke-width=\"1\" opacity=\"1\"/><line transform=\"translate(490,0)\" x2=\"0\" y2=\"5\" stroke=\"#888\" stroke-width=\"1\" opacity=\"1\"/><line transform=\"translate(510,0)\" x2=\"0\" y2=\"5\" stroke=\"#888\" stroke-width=\"1\" opacity=\"1\"/><line transform=\"translate(530,0)\" x2=\"0\" y2=\"5\" stroke=\"#888\" stroke-width=\"1\" opacity=\"1\"/><line transform=\"translate(550,0)\" x2=\"0\" y2=\"5\" stroke=\"#888\" stroke-width=\"1\" opacity=\"1\"/><line transform=\"translate(570,0)\" x2=\"0\" y2=\"5\" stroke=\"#888\" stroke-width=\"1\" opacity=\"1\"/><line transform=\"translate(590,0)\" x2=\"0\" y2=\"5\" stroke=\"#888\" stroke-width=\"1\" opacity=\"1\"/><line transform=\"translate(610,0)\" x2=\"0\" y2=\"5\" stroke=\"#888\" stroke-width=\"1\" opacity=\"1\"/><line transform=\"translate(630,0)\" x2=\"0\" y2=\"5\" stroke=\"#888\" stroke-width=\"1\" opacity=\"1\"/><line transform=\"translate(650,0)\" x2=\"0\" y2=\"5\" stroke=\"#888\" stroke-width=\"1\" opacity=\"1\"/><line transform=\"translate(670,0)\" x2=\"0\" y2=\"5\" stroke=\"#888\" stroke-width=\"1\" opacity=\"1\"/><line transform=\"translate(690,0)\" x2=\"0\" y2=\"5\" stroke=\"#888\" stroke-width=\"1\" opacity=\"1\"/><line transform=\"translate(710,0)\" x2=\"0\" y2=\"5\" stroke=\"#888\" stroke-width=\"1\" opacity=\"1\"/><line transform=\"translate(730,0)\" x2=\"0\" y2=\"5\" stroke=\"#888\" stroke-width=\"1\" opacity=\"1\"/><line transform=\"translate(750,0)\" x2=\"0\" y2=\"5\" stroke=\"#888\" stroke-width=\"1\" opacity=\"1\"/><line transform=\"translate(770,0)\" x2=\"0\" y2=\"5\" stroke=\"#888\" stroke-width=\"1\" opacity=\"1\"/><line transform=\"translate(790,0)\" x2=\"0\" y2=\"5\" stroke=\"#888\" stroke-width=\"1\" opacity=\"1\"/><line transform=\"translate(810,0)\" x2=\"0\" y2=\"5\" stroke=\"#888\" stroke-width=\"1\" opacity=\"1\"/></g><g class=\"mark-text role-axis-label\" pointer-events=\"none\"><text text-anchor=\"end\" transform=\"translate(10,7) rotate(270) translate(0,3)\" font-family=\"sans-serif\" font-size=\"10px\" fill=\"#000\" opacity=\"1\">2020</text><text text-anchor=\"end\" transform=\"translate(30,7) rotate(270) translate(0,3)\" font-family=\"sans-serif\" font-size=\"10px\" fill=\"#000\" opacity=\"1\">2021</text><text text-anchor=\"end\" transform=\"translate(50,7) rotate(270) translate(0,3)\" font-family=\"sans-serif\" font-size=\"10px\" fill=\"#000\" opacity=\"1\">2022</text><text text-anchor=\"end\" transform=\"translate(70,7) rotate(270) translate(0,3)\" font-family=\"sans-serif\" font-size=\"10px\" fill=\"#000\" opacity=\"1\">2023</text><text text-anchor=\"end\" transform=\"translate(90,7) rotate(270) translate(0,3)\" font-family=\"sans-serif\" font-size=\"10px\" fill=\"#000\" opacity=\"1\">2024</text><text text-anchor=\"end\" transform=\"translate(110,7) rotate(270) translate(0,3)\" font-family=\"sans-serif\" font-size=\"10px\" fill=\"#000\" opacity=\"1\">2025</text><text text-anchor=\"end\" transform=\"translate(130,7) rotate(270) translate(0,3)\" font-family=\"sans-serif\" font-size=\"10px\" fill=\"#000\" opacity=\"1\">2026</text><text text-anchor=\"end\" transform=\"translate(150,7) rotate(270) translate(0,3)\" font-family=\"sans-serif\" font-size=\"10px\" fill=\"#000\" opacity=\"1\">2027</text><text text-anchor=\"end\" transform=\"translate(170,7) rotate(270) translate(0,3)\" font-family=\"sans-serif\" font-size=\"10px\" fill=\"#000\" opacity=\"1\">2028</text><text text-anchor=\"end\" transform=\"translate(190,7) rotate(270) translate(0,3)\" font-family=\"sans-serif\" font-size=\"10px\" fill=\"#000\" opacity=\"1\">2029</text><text text-anchor=\"end\" transform=\"translate(210,7) rotate(270) translate(0,3)\" font-family=\"sans-serif\" font-size=\"10px\" fill=\"#000\" opacity=\"1\">2030</text><text text-anchor=\"end\" transform=\"translate(230,7) rotate(270) translate(0,3)\" font-family=\"sans-serif\" font-size=\"10px\" fill=\"#000\" opacity=\"1\">2031</text><text text-anchor=\"end\" transform=\"translate(250,7) rotate(270) translate(0,3)\" font-family=\"sans-serif\" font-size=\"10px\" fill=\"#000\" opacity=\"1\">2032</text><text text-anchor=\"end\" transform=\"translate(270,7) rotate(270) translate(0,3)\" font-family=\"sans-serif\" font-size=\"10px\" fill=\"#000\" opacity=\"1\">2033</text><text text-anchor=\"end\" transform=\"translate(290,7) rotate(270) translate(0,3)\" font-family=\"sans-serif\" font-size=\"10px\" fill=\"#000\" opacity=\"1\">2034</text><text text-anchor=\"end\" transform=\"translate(310,7) rotate(270) translate(0,3)\" font-family=\"sans-serif\" font-size=\"10px\" fill=\"#000\" opacity=\"1\">2035</text><text text-anchor=\"end\" transform=\"translate(330,7) rotate(270) translate(0,3)\" font-family=\"sans-serif\" font-size=\"10px\" fill=\"#000\" opacity=\"1\">2036</text><text text-anchor=\"end\" transform=\"translate(350,7) rotate(270) translate(0,3)\" font-family=\"sans-serif\" font-size=\"10px\" fill=\"#000\" opacity=\"1\">2037</text><text text-anchor=\"end\" transform=\"translate(370,7) rotate(270) translate(0,3)\" font-family=\"sans-serif\" font-size=\"10px\" fill=\"#000\" opacity=\"1\">2038</text><text text-anchor=\"end\" transform=\"translate(390,7) rotate(270) translate(0,3)\" font-family=\"sans-serif\" font-size=\"10px\" fill=\"#000\" opacity=\"1\">2039</text><text text-anchor=\"end\" transform=\"translate(410,7) rotate(270) translate(0,3)\" font-family=\"sans-serif\" font-size=\"10px\" fill=\"#000\" opacity=\"1\">2040</text><text text-anchor=\"end\" transform=\"translate(430,7) rotate(270) translate(0,3)\" font-family=\"sans-serif\" font-size=\"10px\" fill=\"#000\" opacity=\"1\">2041</text><text text-anchor=\"end\" transform=\"translate(450,7) rotate(270) translate(0,3)\" font-family=\"sans-serif\" font-size=\"10px\" fill=\"#000\" opacity=\"1\">2042</text><text text-anchor=\"end\" transform=\"translate(470,7) rotate(270) translate(0,3)\" font-family=\"sans-serif\" font-size=\"10px\" fill=\"#000\" opacity=\"1\">2043</text><text text-anchor=\"end\" transform=\"translate(490,7) rotate(270) translate(0,3)\" font-family=\"sans-serif\" font-size=\"10px\" fill=\"#000\" opacity=\"1\">2044</text><text text-anchor=\"end\" transform=\"translate(510,7) rotate(270) translate(0,3)\" font-family=\"sans-serif\" font-size=\"10px\" fill=\"#000\" opacity=\"1\">2045</text><text text-anchor=\"end\" transform=\"translate(530,7) rotate(270) translate(0,3)\" font-family=\"sans-serif\" font-size=\"10px\" fill=\"#000\" opacity=\"1\">2046</text><text text-anchor=\"end\" transform=\"translate(550,7) rotate(270) translate(0,3)\" font-family=\"sans-serif\" font-size=\"10px\" fill=\"#000\" opacity=\"1\">2047</text><text text-anchor=\"end\" transform=\"translate(570,7) rotate(270) translate(0,3)\" font-family=\"sans-serif\" font-size=\"10px\" fill=\"#000\" opacity=\"1\">2048</text><text text-anchor=\"end\" transform=\"translate(590,7) rotate(270) translate(0,3)\" font-family=\"sans-serif\" font-size=\"10px\" fill=\"#000\" opacity=\"1\">2049</text><text text-anchor=\"end\" transform=\"translate(610,7) rotate(270) translate(0,3)\" font-family=\"sans-serif\" font-size=\"10px\" fill=\"#000\" opacity=\"1\">2050</text><text text-anchor=\"end\" transform=\"translate(630,7) rotate(270) translate(0,3)\" font-family=\"sans-serif\" font-size=\"10px\" fill=\"#000\" opacity=\"1\">2051</text><text text-anchor=\"end\" transform=\"translate(650,7) rotate(270) translate(0,3)\" font-family=\"sans-serif\" font-size=\"10px\" fill=\"#000\" opacity=\"1\">2052</text><text text-anchor=\"end\" transform=\"translate(670,7) rotate(270) translate(0,3)\" font-family=\"sans-serif\" font-size=\"10px\" fill=\"#000\" opacity=\"1\">2053</text><text text-anchor=\"end\" transform=\"translate(690,7) rotate(270) translate(0,3)\" font-family=\"sans-serif\" font-size=\"10px\" fill=\"#000\" opacity=\"1\">2054</text><text text-anchor=\"end\" transform=\"translate(710,7) rotate(270) translate(0,3)\" font-family=\"sans-serif\" font-size=\"10px\" fill=\"#000\" opacity=\"1\">2055</text><text text-anchor=\"end\" transform=\"translate(730,7) rotate(270) translate(0,3)\" font-family=\"sans-serif\" font-size=\"10px\" fill=\"#000\" opacity=\"1\">2056</text><text text-anchor=\"end\" transform=\"translate(750,7) rotate(270) translate(0,3)\" font-family=\"sans-serif\" font-size=\"10px\" fill=\"#000\" opacity=\"1\">2057</text><text text-anchor=\"end\" transform=\"translate(770,7) rotate(270) translate(0,3)\" font-family=\"sans-serif\" font-size=\"10px\" fill=\"#000\" opacity=\"1\">2058</text><text text-anchor=\"end\" transform=\"translate(790,7) rotate(270) translate(0,3)\" font-family=\"sans-serif\" font-size=\"10px\" fill=\"#000\" opacity=\"1\">2059</text><text text-anchor=\"end\" transform=\"translate(810,7) rotate(270) translate(0,3)\" font-family=\"sans-serif\" font-size=\"10px\" fill=\"#000\" opacity=\"1\">2060</text></g><g class=\"mark-rule role-axis-domain\" pointer-events=\"none\"><line transform=\"translate(0,0)\" x2=\"820\" y2=\"0\" stroke=\"#888\" stroke-width=\"1\" opacity=\"1\"/></g><g class=\"mark-text role-axis-title\" pointer-events=\"none\"><text text-anchor=\"middle\" transform=\"translate(410,44)\" font-family=\"sans-serif\" font-size=\"11px\" font-weight=\"bold\" fill=\"#000\" opacity=\"1\">year</text></g></g><path class=\"foreground\" aria-hidden=\"true\" d=\"\" pointer-events=\"none\" display=\"none\"/></g></g><g class=\"mark-group role-axis\" role=\"graphics-symbol\" aria-roledescription=\"axis\" aria-label=\"Y-axis titled 'Value-chain adopted (%)' for a linear scale with values from 0.0 to 3.5\"><g transform=\"translate(0.5,0.5)\"><path class=\"background\" aria-hidden=\"true\" d=\"M0,0h0v0h0Z\" pointer-events=\"none\"/><g><g class=\"mark-rule role-axis-tick\" pointer-events=\"none\"><line transform=\"translate(0,200)\" x2=\"-5\" y2=\"0\" stroke=\"#888\" stroke-width=\"1\" opacity=\"1\"/><line transform=\"translate(0,171)\" x2=\"-5\" y2=\"0\" stroke=\"#888\" stroke-width=\"1\" opacity=\"1\"/><line transform=\"translate(0,143)\" x2=\"-5\" y2=\"0\" stroke=\"#888\" stroke-width=\"1\" opacity=\"1\"/><line transform=\"translate(0,114)\" x2=\"-5\" y2=\"0\" stroke=\"#888\" stroke-width=\"1\" opacity=\"1\"/><line transform=\"translate(0,86)\" x2=\"-5\" y2=\"0\" stroke=\"#888\" stroke-width=\"1\" opacity=\"1\"/><line transform=\"translate(0,57)\" x2=\"-5\" y2=\"0\" stroke=\"#888\" stroke-width=\"1\" opacity=\"1\"/><line transform=\"translate(0,29)\" x2=\"-5\" y2=\"0\" stroke=\"#888\" stroke-width=\"1\" opacity=\"1\"/><line transform=\"translate(0,0)\" x2=\"-5\" y2=\"0\" stroke=\"#888\" stroke-width=\"1\" opacity=\"1\"/></g><g class=\"mark-text role-axis-label\" pointer-events=\"none\"><text text-anchor=\"end\" transform=\"translate(-7,203)\" font-family=\"sans-serif\" font-size=\"10px\" fill=\"#000\" opacity=\"1\">0.0</text><text text-anchor=\"end\" transform=\"translate(-7,174.42857142857144)\" font-family=\"sans-serif\" font-size=\"10px\" fill=\"#000\" opacity=\"1\">0.5</text><text text-anchor=\"end\" transform=\"translate(-7,145.85714285714286)\" font-family=\"sans-serif\" font-size=\"10px\" fill=\"#000\" opacity=\"1\">1.0</text><text text-anchor=\"end\" transform=\"translate(-7,117.28571428571428)\" font-family=\"sans-serif\" font-size=\"10px\" fill=\"#000\" opacity=\"1\">1.5</text><text text-anchor=\"end\" transform=\"translate(-7,88.71428571428572)\" font-family=\"sans-serif\" font-size=\"10px\" fill=\"#000\" opacity=\"1\">2.0</text><text text-anchor=\"end\" transform=\"translate(-7,60.14285714285714)\" font-family=\"sans-serif\" font-size=\"10px\" fill=\"#000\" opacity=\"1\">2.5</text><text text-anchor=\"end\" transform=\"translate(-7,31.57142857142858)\" font-family=\"sans-serif\" font-size=\"10px\" fill=\"#000\" opacity=\"1\">3.0</text><text text-anchor=\"end\" transform=\"translate(-7,3)\" font-family=\"sans-serif\" font-size=\"10px\" fill=\"#000\" opacity=\"1\">3.5</text></g><g class=\"mark-rule role-axis-domain\" pointer-events=\"none\"><line transform=\"translate(0,200)\" x2=\"0\" y2=\"-200\" stroke=\"#888\" stroke-width=\"1\" opacity=\"1\"/></g><g class=\"mark-text role-axis-title\" pointer-events=\"none\"><text text-anchor=\"middle\" transform=\"translate(-26,100) rotate(-90) translate(0,-2)\" font-family=\"sans-serif\" font-size=\"11px\" font-weight=\"bold\" fill=\"#000\" opacity=\"1\">Value-chain adopted (%)</text></g></g><path class=\"foreground\" aria-hidden=\"true\" d=\"\" pointer-events=\"none\" display=\"none\"/></g></g><g class=\"mark-group role-scope pathgroup\" role=\"graphics-object\" aria-roledescription=\"group mark container\"><g transform=\"translate(0,0)\"><path class=\"background\" aria-hidden=\"true\" d=\"M0,0h820v200h-820Z\"/><g><g class=\"mark-area role-mark marks\" role=\"graphics-object\" aria-roledescription=\"area mark container\"><path aria-label=\"year: 2020; Value-chain adopted (%): 0; variable: x28\" role=\"graphics-symbol\" aria-roledescription=\"area mark\" d=\"M10,200L30,200L50,200L70,200L90,200L110,152.94857142857143L130,152.94857142857143L150,152.94857142857143L170,152.94857142857143L190,152.94857142857143L210,147.27555671549965L230,147.27555671549965L250,147.27555671549965L270,147.27555671549965L290,147.27555671549965L310,92.51102626365928L330,92.51102626365928L350,92.51102626365928L370,92.51102626365928L390,92.51102626365928L410,84.33285299998997L430,84.33285299998997L450,84.33285299998997L470,84.33285299998997L490,84.33285299998997L510,80.97157156771664L530,80.97157156771664L550,80.97157156771664L570,80.97157156771664L590,80.97157156771664L610,39.87599263635022L630,39.87599263635022L650,39.87599263635022L670,39.87599263635022L690,39.87599263635022L710,187.7954447786787L730,187.7954447786787L750,187.7954447786787L770,187.7954447786787L790,187.7954447786787L810,187.7954447786787L810,187.7954447786787L790,187.7954447786787L770,187.7954447786787L750,187.7954447786787L730,187.7954447786787L710,187.7954447786787L690,39.87599263635022L670,39.87599263635022L650,39.87599263635022L630,39.87599263635022L610,39.87599263635022L590,200L570,200L550,200L530,200L510,200L490,84.33285299998997L470,84.33285299998997L450,84.33285299998997L430,84.33285299998997L410,84.33285299998997L390,200L370,200L350,200L330,200L310,200L290,147.27555671549965L270,147.27555671549965L250,147.27555671549965L230,147.27555671549965L210,147.27555671549965L190,152.94857142857143L170,152.94857142857143L150,152.94857142857143L130,152.94857142857143L110,152.94857142857143L90,200L70,200L50,200L30,200L10,200Z\" fill=\"#54a24b\"/></g></g><path class=\"foreground\" aria-hidden=\"true\" d=\"\" display=\"none\"/></g><g transform=\"translate(0,0)\"><path class=\"background\" aria-hidden=\"true\" d=\"M0,0h820v200h-820Z\"/><g><g class=\"mark-area role-mark marks\" role=\"graphics-object\" aria-roledescription=\"area mark container\"><path aria-label=\"year: 2020; Value-chain adopted (%): 0; variable: x30\" role=\"graphics-symbol\" aria-roledescription=\"area mark\" d=\"M10,200L30,200L50,200L70,200L90,200L110,152.94857142857143L130,152.94857142857143L150,152.94857142857143L170,152.94857142857143L190,152.94857142857143L210,147.27555671549965L230,147.27555671549965L250,147.27555671549965L270,147.27555671549965L290,147.27555671549965L310,200L330,200L350,200L370,200L390,200L410,84.33285299998997L430,84.33285299998997L450,84.33285299998997L470,84.33285299998997L490,84.33285299998997L510,200L530,200L550,200L570,200L590,200L610,39.87599263635022L630,39.87599263635022L650,39.87599263635022L670,39.87599263635022L690,39.87599263635022L710,187.7954447786787L730,187.7954447786787L750,187.7954447786787L770,187.7954447786787L790,187.7954447786787L810,187.7954447786787L810,187.7954447786787L790,187.7954447786787L770,187.7954447786787L750,187.7954447786787L730,187.7954447786787L710,187.7954447786787L690,39.87599263635022L670,39.87599263635022L650,39.87599263635022L630,39.87599263635022L610,39.87599263635022L590,200L570,200L550,200L530,200L510,200L490,84.33285299998997L470,84.33285299998997L450,84.33285299998997L430,84.33285299998997L410,84.33285299998997L390,200L370,200L350,200L330,200L310,200L290,200L270,200L250,200L230,200L210,200L190,152.94857142857143L170,152.94857142857143L150,152.94857142857143L130,152.94857142857143L110,152.94857142857143L90,200L70,200L50,200L30,200L10,200Z\" fill=\"#eeca3b\"/></g></g><path class=\"foreground\" aria-hidden=\"true\" d=\"\" display=\"none\"/></g><g transform=\"translate(0,0)\"><path class=\"background\" aria-hidden=\"true\" d=\"M0,0h820v200h-820Z\"/><g><g class=\"mark-area role-mark marks\" role=\"graphics-object\" aria-roledescription=\"area mark container\"><path aria-label=\"year: 2020; Value-chain adopted (%): 0; variable: x34\" role=\"graphics-symbol\" aria-roledescription=\"area mark\" d=\"M10,200L30,200L50,200L70,200L90,200L110,152.94857142857143L130,152.94857142857143L150,152.94857142857143L170,152.94857142857143L190,152.94857142857143L210,200L230,200L250,200L270,200L290,200L310,200L330,200L350,200L370,200L390,200L410,84.33285299998997L430,84.33285299998997L450,84.33285299998997L470,84.33285299998997L490,84.33285299998997L510,200L530,200L550,200L570,200L590,200L610,39.87599263635022L630,39.87599263635022L650,39.87599263635022L670,39.87599263635022L690,39.87599263635022L710,187.7954447786787L730,187.7954447786787L750,187.7954447786787L770,187.7954447786787L790,187.7954447786787L810,187.7954447786787L810,187.7954447786787L790,187.7954447786787L770,187.7954447786787L750,187.7954447786787L730,187.7954447786787L710,187.7954447786787L690,39.87599263635022L670,39.87599263635022L650,39.87599263635022L630,39.87599263635022L610,39.87599263635022L590,200L570,200L550,200L530,200L510,200L490,84.33285299998997L470,84.33285299998997L450,84.33285299998997L430,84.33285299998997L410,84.33285299998997L390,200L370,200L350,200L330,200L310,200L290,200L270,200L250,200L230,200L210,200L190,200L170,200L150,200L130,200L110,200L90,200L70,200L50,200L30,200L10,200Z\" fill=\"#b279a2\"/></g></g><path class=\"foreground\" aria-hidden=\"true\" d=\"\" display=\"none\"/></g><g transform=\"translate(0,0)\"><path class=\"background\" aria-hidden=\"true\" d=\"M0,0h820v200h-820Z\"/><g><g class=\"mark-area role-mark marks\" role=\"graphics-object\" aria-roledescription=\"area mark container\"><path aria-label=\"year: 2020; Value-chain adopted (%): 0; variable: x37\" role=\"graphics-symbol\" aria-roledescription=\"area mark\" d=\"M10,200L30,200L50,200L70,200L90,200L110,200L130,200L150,200L170,200L190,200L210,200L230,200L250,200L270,200L290,200L310,200L330,200L350,200L370,200L390,200L410,84.33285299998997L430,84.33285299998997L450,84.33285299998997L470,84.33285299998997L490,84.33285299998997L510,200L530,200L550,200L570,200L590,200L610,39.87599263635022L630,39.87599263635022L650,39.87599263635022L670,39.87599263635022L690,39.87599263635022L710,187.7954447786787L730,187.7954447786787L750,187.7954447786787L770,187.7954447786787L790,187.7954447786787L810,187.7954447786787L810,200L790,200L770,200L750,200L730,200L710,200L690,39.87599263635022L670,39.87599263635022L650,39.87599263635022L630,39.87599263635022L610,39.87599263635022L590,200L570,200L550,200L530,200L510,200L490,84.33285299998997L470,84.33285299998997L450,84.33285299998997L430,84.33285299998997L410,84.33285299998997L390,200L370,200L350,200L330,200L310,200L290,200L270,200L250,200L230,200L210,200L190,200L170,200L150,200L130,200L110,200L90,200L70,200L50,200L30,200L10,200Z\" fill=\"#ff9da6\"/></g></g><path class=\"foreground\" aria-hidden=\"true\" d=\"\" display=\"none\"/></g><g transform=\"translate(0,0)\"><path class=\"background\" aria-hidden=\"true\" d=\"M0,0h820v200h-820Z\"/><g><g class=\"mark-area role-mark marks\" role=\"graphics-object\" aria-roledescription=\"area mark container\"><path aria-label=\"year: 2020; Value-chain adopted (%): 0; variable: x48\" role=\"graphics-symbol\" aria-roledescription=\"area mark\" d=\"M10,200L30,200L50,200L70,200L90,200L110,200L130,200L150,200L170,200L190,200L210,200L230,200L250,200L270,200L290,200L310,200L330,200L350,200L370,200L390,200L410,84.33285299998997L430,84.33285299998997L450,84.33285299998997L470,84.33285299998997L490,84.33285299998997L510,200L530,200L550,200L570,200L590,200L610,39.87599263635022L630,39.87599263635022L650,39.87599263635022L670,39.87599263635022L690,39.87599263635022L710,200L730,200L750,200L770,200L790,200L810,200L810,200L790,200L770,200L750,200L730,200L710,200L690,200L670,200L650,200L630,200L610,200L590,200L570,200L550,200L530,200L510,200L490,200L470,200L450,200L430,200L410,200L390,200L370,200L350,200L330,200L310,200L290,200L270,200L250,200L230,200L210,200L190,200L170,200L150,200L130,200L110,200L90,200L70,200L50,200L30,200L10,200Z\" fill=\"#9d755d\"/></g></g><path class=\"foreground\" aria-hidden=\"true\" d=\"\" display=\"none\"/></g><g transform=\"translate(0,0)\"><path class=\"background\" aria-hidden=\"true\" d=\"M0,0h820v200h-820Z\"/><g><g class=\"mark-area role-mark marks\" role=\"graphics-object\" aria-roledescription=\"area mark container\"><path aria-label=\"year: 2020; Value-chain adopted (%): 0; variable: x158\" role=\"graphics-symbol\" aria-roledescription=\"area mark\" d=\"M10,200L30,200L50,200L70,200L90,200L110,152.94857142857143L130,152.94857142857143L150,152.94857142857143L170,152.94857142857143L190,152.94857142857143L210,147.27555671549965L230,147.27555671549965L250,147.27555671549965L270,147.27555671549965L290,147.27555671549965L310,92.51102626365928L330,92.51102626365928L350,92.51102626365928L370,92.51102626365928L390,92.51102626365928L410,77.1176627488828L430,77.1176627488828L450,77.1176627488828L470,77.1176627488828L490,77.1176627488828L510,63.78813178338483L530,63.78813178338483L550,63.78813178338483L570,63.78813178338483L590,63.78813178338483L610,29.887632009643394L630,29.887632009643394L650,29.887632009643394L670,29.887632009643394L690,29.887632009643394L710,142.85714285714286L730,142.85714285714286L750,142.85714285714286L770,142.85714285714286L790,142.85714285714286L810,142.85714285714286L810,142.85714285714286L790,142.85714285714286L770,142.85714285714286L750,142.85714285714286L730,142.85714285714286L710,142.85714285714286L690,39.87599263635022L670,39.87599263635022L650,39.87599263635022L630,39.87599263635022L610,39.87599263635022L590,63.78813178338483L570,63.78813178338483L550,63.78813178338483L530,63.78813178338483L510,63.78813178338483L490,84.3328529999811L470,84.3328529999811L450,84.3328529999811L430,84.3328529999811L410,84.3328529999811L390,92.51102626365928L370,92.51102626365928L350,92.51102626365928L330,92.51102626365928L310,92.51102626365928L290,147.27555671549965L270,147.27555671549965L250,147.27555671549965L230,147.27555671549965L210,147.27555671549965L190,152.94857142857143L170,152.94857142857143L150,152.94857142857143L130,152.94857142857143L110,152.94857142857143L90,200L70,200L50,200L30,200L10,200Z\" fill=\"#f58518\"/></g></g><path class=\"foreground\" aria-hidden=\"true\" d=\"\" display=\"none\"/></g><g transform=\"translate(0,0)\"><path class=\"background\" aria-hidden=\"true\" d=\"M0,0h820v200h-820Z\"/><g><g class=\"mark-area role-mark marks\" role=\"graphics-object\" aria-roledescription=\"area mark container\"><path aria-label=\"year: 2020; Value-chain adopted (%): 0; variable: x159\" role=\"graphics-symbol\" aria-roledescription=\"area mark\" d=\"M10,200L30,200L50,200L70,200L90,200L110,152.94857142857143L130,152.94857142857143L150,152.94857142857143L170,152.94857142857143L190,152.94857142857143L210,147.27555671549965L230,147.27555671549965L250,147.27555671549965L270,147.27555671549965L290,147.27555671549965L310,92.51102626365928L330,92.51102626365928L350,92.51102626365928L370,92.51102626365928L390,92.51102626365928L410,84.3328529999811L430,84.3328529999811L450,84.3328529999811L470,84.3328529999811L490,84.3328529999811L510,63.78813178338483L530,63.78813178338483L550,63.78813178338483L570,63.78813178338483L590,63.78813178338483L610,39.87599263635022L630,39.87599263635022L650,39.87599263635022L670,39.87599263635022L690,39.87599263635022L710,142.85714285714286L730,142.85714285714286L750,142.85714285714286L770,142.85714285714286L790,142.85714285714286L810,142.85714285714286L810,142.85714285714286L790,142.85714285714286L770,142.85714285714286L750,142.85714285714286L730,142.85714285714286L710,142.85714285714286L690,39.87599263635022L670,39.87599263635022L650,39.87599263635022L630,39.87599263635022L610,39.87599263635022L590,80.97157156771664L570,80.97157156771664L550,80.97157156771664L530,80.97157156771664L510,80.97157156771664L490,84.3328529999811L470,84.3328529999811L450,84.3328529999811L430,84.3328529999811L410,84.3328529999811L390,92.51102626365928L370,92.51102626365928L350,92.51102626365928L330,92.51102626365928L310,92.51102626365928L290,147.27555671549965L270,147.27555671549965L250,147.27555671549965L230,147.27555671549965L210,147.27555671549965L190,152.94857142857143L170,152.94857142857143L150,152.94857142857143L130,152.94857142857143L110,152.94857142857143L90,200L70,200L50,200L30,200L10,200Z\" fill=\"#e45756\"/></g></g><path class=\"foreground\" aria-hidden=\"true\" d=\"\" display=\"none\"/></g><g transform=\"translate(0,0)\"><path class=\"background\" aria-hidden=\"true\" d=\"M0,0h820v200h-820Z\"/><g><g class=\"mark-area role-mark marks\" role=\"graphics-object\" aria-roledescription=\"area mark container\"><path aria-label=\"year: 2020; Value-chain adopted (%): 0; variable: x163\" role=\"graphics-symbol\" aria-roledescription=\"area mark\" d=\"M10,200L30,200L50,200L70,200L90,200L110,152.94857142857143L130,152.94857142857143L150,152.94857142857143L170,152.94857142857143L190,152.94857142857143L210,147.27555671549965L230,147.27555671549965L250,147.27555671549965L270,147.27555671549965L290,147.27555671549965L310,92.51102626365928L330,92.51102626365928L350,92.51102626365928L370,92.51102626365928L390,92.51102626365928L410,84.3328529999811L430,84.3328529999811L450,84.3328529999811L470,84.3328529999811L490,84.3328529999811L510,80.97157156771664L530,80.97157156771664L550,80.97157156771664L570,80.97157156771664L590,80.97157156771664L610,39.87599263635022L630,39.87599263635022L650,39.87599263635022L670,39.87599263635022L690,39.87599263635022L710,142.85714285714286L730,142.85714285714286L750,142.85714285714286L770,142.85714285714286L790,142.85714285714286L810,142.85714285714286L810,187.7954447786787L790,187.7954447786787L770,187.7954447786787L750,187.7954447786787L730,187.7954447786787L710,187.7954447786787L690,39.87599263635022L670,39.87599263635022L650,39.87599263635022L630,39.87599263635022L610,39.87599263635022L590,80.97157156771664L570,80.97157156771664L550,80.97157156771664L530,80.97157156771664L510,80.97157156771664L490,84.33285299998997L470,84.33285299998997L450,84.33285299998997L430,84.33285299998997L410,84.33285299998997L390,92.51102626365928L370,92.51102626365928L350,92.51102626365928L330,92.51102626365928L310,92.51102626365928L290,147.27555671549965L270,147.27555671549965L250,147.27555671549965L230,147.27555671549965L210,147.27555671549965L190,152.94857142857143L170,152.94857142857143L150,152.94857142857143L130,152.94857142857143L110,152.94857142857143L90,200L70,200L50,200L30,200L10,200Z\" fill=\"#72b7b2\"/></g></g><path class=\"foreground\" aria-hidden=\"true\" d=\"\" display=\"none\"/></g><g transform=\"translate(0,0)\"><path class=\"background\" aria-hidden=\"true\" d=\"M0,0h820v200h-820Z\"/><g><g class=\"mark-area role-mark marks\" role=\"graphics-object\" aria-roledescription=\"area mark container\"><path aria-label=\"year: 2020; Value-chain adopted (%): 3.2; variable: Conv\" role=\"graphics-symbol\" aria-roledescription=\"area mark\" d=\"M10,17.142857142857125L30,17.142857142857125L50,17.142857142857125L70,17.142857142857125L90,17.142857142857125L110,152.94857142857143L130,152.94857142857143L150,152.94857142857143L170,152.94857142857143L190,152.94857142857143L210,147.27555671549965L230,147.27555671549965L250,147.27555671549965L270,147.27555671549965L290,147.27555671549965L310,92.51102626365928L330,92.51102626365928L350,92.51102626365928L370,92.51102626365928L390,92.51102626365928L410,77.1176627488828L430,77.1176627488828L450,77.1176627488828L470,77.1176627488828L490,77.1176627488828L510,63.78813178338483L530,63.78813178338483L550,63.78813178338483L570,63.78813178338483L590,63.78813178338483L610,29.887632009643394L630,29.887632009643394L650,29.887632009643394L670,29.887632009643394L690,29.887632009643394L710,142.85714285714286L730,142.85714285714286L750,142.85714285714286L770,142.85714285714286L790,142.85714285714286L810,142.85714285714286L810,142.85714285714286L790,142.85714285714286L770,142.85714285714286L750,142.85714285714286L730,142.85714285714286L710,142.85714285714286L690,29.887632009643394L670,29.887632009643394L650,29.887632009643394L630,29.887632009643394L610,29.887632009643394L590,63.78813178338483L570,63.78813178338483L550,63.78813178338483L530,63.78813178338483L510,63.78813178338483L490,77.1176627488828L470,77.1176627488828L450,77.1176627488828L430,77.1176627488828L410,77.1176627488828L390,92.51102626365928L370,92.51102626365928L350,92.51102626365928L330,92.51102626365928L310,92.51102626365928L290,147.27555671549965L270,147.27555671549965L250,147.27555671549965L230,147.27555671549965L210,147.27555671549965L190,152.94857142857143L170,152.94857142857143L150,152.94857142857143L130,152.94857142857143L110,152.94857142857143L90,200L70,200L50,200L30,200L10,200Z\" fill=\"#4c78a8\"/></g></g><path class=\"foreground\" aria-hidden=\"true\" d=\"\" display=\"none\"/></g></g><g class=\"mark-group role-legend\" role=\"graphics-symbol\" aria-roledescription=\"legend\" aria-label=\"Symbol legend titled 'variable' for fill color with 9 values: Conv, x158, x159, x163, x28, ending with x48\"><g transform=\"translate(838,0)\"><path class=\"background\" aria-hidden=\"true\" d=\"M0,0h49v131h-49Z\" pointer-events=\"none\"/><g><g class=\"mark-group role-legend-entry\"><g transform=\"translate(0,16)\"><path class=\"background\" aria-hidden=\"true\" d=\"M0,0h0v0h0Z\" pointer-events=\"none\"/><g><g class=\"mark-group role-scope\" role=\"graphics-object\" aria-roledescription=\"group mark container\"><g transform=\"translate(0,0)\"><path class=\"background\" aria-hidden=\"true\" d=\"M0,0h41v11h-41Z\" pointer-events=\"none\" opacity=\"1\"/><g><g class=\"mark-symbol role-legend-symbol\" pointer-events=\"none\"><path transform=\"translate(6,6)\" d=\"M5,0A5,5,0,1,1,-5,0A5,5,0,1,1,5,0\" fill=\"#4c78a8\" stroke-width=\"1.5\" opacity=\"1\"/></g><g class=\"mark-text role-legend-label\" pointer-events=\"none\"><text text-anchor=\"start\" transform=\"translate(16,9)\" font-family=\"sans-serif\" font-size=\"10px\" fill=\"#000\" opacity=\"1\">Conv</text></g></g><path class=\"foreground\" aria-hidden=\"true\" d=\"\" pointer-events=\"none\" display=\"none\"/></g><g transform=\"translate(0,13)\"><path class=\"background\" aria-hidden=\"true\" d=\"M0,0h41v11h-41Z\" pointer-events=\"none\" opacity=\"1\"/><g><g class=\"mark-symbol role-legend-symbol\" pointer-events=\"none\"><path transform=\"translate(6,6)\" d=\"M5,0A5,5,0,1,1,-5,0A5,5,0,1,1,5,0\" fill=\"#f58518\" stroke-width=\"1.5\" opacity=\"1\"/></g><g class=\"mark-text role-legend-label\" pointer-events=\"none\"><text text-anchor=\"start\" transform=\"translate(16,9)\" font-family=\"sans-serif\" font-size=\"10px\" fill=\"#000\" opacity=\"1\">x158</text></g></g><path class=\"foreground\" aria-hidden=\"true\" d=\"\" pointer-events=\"none\" display=\"none\"/></g><g transform=\"translate(0,26)\"><path class=\"background\" aria-hidden=\"true\" d=\"M0,0h41v11h-41Z\" pointer-events=\"none\" opacity=\"1\"/><g><g class=\"mark-symbol role-legend-symbol\" pointer-events=\"none\"><path transform=\"translate(6,6)\" d=\"M5,0A5,5,0,1,1,-5,0A5,5,0,1,1,5,0\" fill=\"#e45756\" stroke-width=\"1.5\" opacity=\"1\"/></g><g class=\"mark-text role-legend-label\" pointer-events=\"none\"><text text-anchor=\"start\" transform=\"translate(16,9)\" font-family=\"sans-serif\" font-size=\"10px\" fill=\"#000\" opacity=\"1\">x159</text></g></g><path class=\"foreground\" aria-hidden=\"true\" d=\"\" pointer-events=\"none\" display=\"none\"/></g><g transform=\"translate(0,39)\"><path class=\"background\" aria-hidden=\"true\" d=\"M0,0h41v11h-41Z\" pointer-events=\"none\" opacity=\"1\"/><g><g class=\"mark-symbol role-legend-symbol\" pointer-events=\"none\"><path transform=\"translate(6,6)\" d=\"M5,0A5,5,0,1,1,-5,0A5,5,0,1,1,5,0\" fill=\"#72b7b2\" stroke-width=\"1.5\" opacity=\"1\"/></g><g class=\"mark-text role-legend-label\" pointer-events=\"none\"><text text-anchor=\"start\" transform=\"translate(16,9)\" font-family=\"sans-serif\" font-size=\"10px\" fill=\"#000\" opacity=\"1\">x163</text></g></g><path class=\"foreground\" aria-hidden=\"true\" d=\"\" pointer-events=\"none\" display=\"none\"/></g><g transform=\"translate(0,52)\"><path class=\"background\" aria-hidden=\"true\" d=\"M0,0h41v11h-41Z\" pointer-events=\"none\" opacity=\"1\"/><g><g class=\"mark-symbol role-legend-symbol\" pointer-events=\"none\"><path transform=\"translate(6,6)\" d=\"M5,0A5,5,0,1,1,-5,0A5,5,0,1,1,5,0\" fill=\"#54a24b\" stroke-width=\"1.5\" opacity=\"1\"/></g><g class=\"mark-text role-legend-label\" pointer-events=\"none\"><text text-anchor=\"start\" transform=\"translate(16,9)\" font-family=\"sans-serif\" font-size=\"10px\" fill=\"#000\" opacity=\"1\">x28</text></g></g><path class=\"foreground\" aria-hidden=\"true\" d=\"\" pointer-events=\"none\" display=\"none\"/></g><g transform=\"translate(0,65)\"><path class=\"background\" aria-hidden=\"true\" d=\"M0,0h41v11h-41Z\" pointer-events=\"none\" opacity=\"1\"/><g><g class=\"mark-symbol role-legend-symbol\" pointer-events=\"none\"><path transform=\"translate(6,6)\" d=\"M5,0A5,5,0,1,1,-5,0A5,5,0,1,1,5,0\" fill=\"#eeca3b\" stroke-width=\"1.5\" opacity=\"1\"/></g><g class=\"mark-text role-legend-label\" pointer-events=\"none\"><text text-anchor=\"start\" transform=\"translate(16,9)\" font-family=\"sans-serif\" font-size=\"10px\" fill=\"#000\" opacity=\"1\">x30</text></g></g><path class=\"foreground\" aria-hidden=\"true\" d=\"\" pointer-events=\"none\" display=\"none\"/></g><g transform=\"translate(0,78)\"><path class=\"background\" aria-hidden=\"true\" d=\"M0,0h41v11h-41Z\" pointer-events=\"none\" opacity=\"1\"/><g><g class=\"mark-symbol role-legend-symbol\" pointer-events=\"none\"><path transform=\"translate(6,6)\" d=\"M5,0A5,5,0,1,1,-5,0A5,5,0,1,1,5,0\" fill=\"#b279a2\" stroke-width=\"1.5\" opacity=\"1\"/></g><g class=\"mark-text role-legend-label\" pointer-events=\"none\"><text text-anchor=\"start\" transform=\"translate(16,9)\" font-family=\"sans-serif\" font-size=\"10px\" fill=\"#000\" opacity=\"1\">x34</text></g></g><path class=\"foreground\" aria-hidden=\"true\" d=\"\" pointer-events=\"none\" display=\"none\"/></g><g transform=\"translate(0,91)\"><path class=\"background\" aria-hidden=\"true\" d=\"M0,0h41v11h-41Z\" pointer-events=\"none\" opacity=\"1\"/><g><g class=\"mark-symbol role-legend-symbol\" pointer-events=\"none\"><path transform=\"translate(6,6)\" d=\"M5,0A5,5,0,1,1,-5,0A5,5,0,1,1,5,0\" fill=\"#ff9da6\" stroke-width=\"1.5\" opacity=\"1\"/></g><g class=\"mark-text role-legend-label\" pointer-events=\"none\"><text text-anchor=\"start\" transform=\"translate(16,9)\" font-family=\"sans-serif\" font-size=\"10px\" fill=\"#000\" opacity=\"1\">x37</text></g></g><path class=\"foreground\" aria-hidden=\"true\" d=\"\" pointer-events=\"none\" display=\"none\"/></g><g transform=\"translate(0,104)\"><path class=\"background\" aria-hidden=\"true\" d=\"M0,0h41v11h-41Z\" pointer-events=\"none\" opacity=\"1\"/><g><g class=\"mark-symbol role-legend-symbol\" pointer-events=\"none\"><path transform=\"translate(6,6)\" d=\"M5,0A5,5,0,1,1,-5,0A5,5,0,1,1,5,0\" fill=\"#9d755d\" stroke-width=\"1.5\" opacity=\"1\"/></g><g class=\"mark-text role-legend-label\" pointer-events=\"none\"><text text-anchor=\"start\" transform=\"translate(16,9)\" font-family=\"sans-serif\" font-size=\"10px\" fill=\"#000\" opacity=\"1\">x48</text></g></g><path class=\"foreground\" aria-hidden=\"true\" d=\"\" pointer-events=\"none\" display=\"none\"/></g></g></g><path class=\"foreground\" aria-hidden=\"true\" d=\"\" pointer-events=\"none\" display=\"none\"/></g></g><g class=\"mark-text role-legend-title\" pointer-events=\"none\"><text text-anchor=\"start\" transform=\"translate(0,9)\" font-family=\"sans-serif\" font-size=\"11px\" font-weight=\"bold\" fill=\"#000\" opacity=\"1\">variable</text></g></g><path class=\"foreground\" aria-hidden=\"true\" d=\"\" pointer-events=\"none\" display=\"none\"/></g></g></g><path class=\"foreground\" aria-hidden=\"true\" d=\"\" display=\"none\"/></g></g></g></svg>\n"
      ],
      "text/plain": [
       "@vlplot(\n",
       "    legend=\"sNames\",\n",
       "    mark=\"area\",\n",
       "    encoding={\n",
       "        x={\n",
       "            field=\"year\"\n",
       "        },\n",
       "        y={\n",
       "            stack=\"zero\",\n",
       "            title=\"Value-chain adopted (%)\",\n",
       "            field=\"value\"\n",
       "        },\n",
       "        color={\n",
       "            field=\"variable\",\n",
       "            type=\"nominal\"\n",
       "        }\n",
       "    },\n",
       "    data={\n",
       "        values=...\n",
       "    }\n",
       ")"
      ]
     },
     "execution_count": 61,
     "metadata": {},
     "output_type": "execute_result"
    }
   ],
   "source": [
    "#only for this result\n",
    "\n",
    "function conventional(i1,t)\n",
    "    if t==7\n",
    "        return (1-sum(JuMP.values.(xk)[k,t] for k in 1:nrow(compromise)))\n",
    "    end\n",
    "    if t==0\n",
    "        if mod(i1,5)≥mod(round.(sum(JuMP.values.(tk)[1:nrow(compromise),t+1])-0.001;digits=4),5) && sum(JuMP.values.(xk)[1:nrow(compromise),t+1]) > 0\n",
    "            return (1-sum(JuMP.values.(xk)[k,t+1] for k in 1:nrow(compromise)))*initial[1,:Ocost]\n",
    "        else\n",
    "            return initial[1,:Ocost]\n",
    "        end\n",
    "    else\n",
    "        sum_xks_atT=0\n",
    "        for k1 in 1:nrow(compromise)\n",
    "            if mod(i1,5)≥mod(round(JuMP.values.(tk)[k1,t+1]-0.001;digits=4),5) && sum(JuMP.values.(xk)[k1,t:t+1])>0 && t>0\n",
    "                sum_xks_atT+=JuMP.values.(xk)[k1,t+1]\n",
    "            else\n",
    "                sum_xks_atT+=JuMP.values.(xk)[k1,t]\n",
    "            end\n",
    "        end\n",
    "            \n",
    "        #if mod(i1,5)≥mod(round(sum(JuMP.values.(tk)[1:nrow(compromise),t+1]);digits=2),5) && sum(JuMP.values.(xk)[1:nrow(compromise),t:t+1])>0 && t>0\n",
    "        #    t=t+1\n",
    "        #end\n",
    "        #return (1-sum(JuMP.values.(xk)[k,t] for k in 1:nrow(compromise)))\n",
    "        return (1-sum_xks_atT)*initial[1,:Ocost]*0.982^(-1*tau[t])\n",
    "    end\n",
    "end\n",
    "\n",
    "function innovation(i1,k1,t)\n",
    "    if t==7\n",
    "        return sum(JuMP.values.(xk)[k,t] for k=k1:k1)\n",
    "    end\n",
    "    if t==0 \n",
    "        if mod(i1,5)≥mod(round(JuMP.values.(tk)[k1,t+1]-0.001;digits=4),5) && JuMP.values.(xk)[k1,t+1] > 0\n",
    "            t=1\n",
    "            return (sum(JuMP.values.(xk)[k,t]*compromise[k,9] for k=k1:k1))            \n",
    "        else\n",
    "            return 0\n",
    "        end\n",
    "    end\n",
    "    if mod(i1,5)≥mod(round(JuMP.values.(tk)[k1,t+1]-0.001;digits=4),5) && sum(JuMP.values.(xk)[k1,t:t+1])>0 && t>0\n",
    "        t=t+1\n",
    "    end\n",
    "    return sum(JuMP.values.(xk)[k,t]*compromise[k,9]*0.968^(-1*tau[t]) for k=k1:k1)\n",
    "    \n",
    "end\n",
    "\n",
    "conv=zeros(55)\n",
    "\n",
    "#onv[1]=100\n",
    "inn_co2=zeros(nrow(compromise),55)\n",
    "\n",
    "for k in 1:nrow(compromise)\n",
    "    inn_co2[k,1]=0\n",
    "end\n",
    "j=0\n",
    "for t in 1:55\n",
    "    if 0 ≤ t ≤ 5\n",
    "        j=0\n",
    "    elseif 6 ≤ t ≤ 10\n",
    "        j=1\n",
    "    elseif 11 ≤ t ≤ 15\n",
    "        j=2\n",
    "    elseif 16 ≤ t ≤ 20\n",
    "        j=3\n",
    "    elseif 21 ≤ t ≤ 25\n",
    "        j=4\n",
    "    elseif 26 ≤ t ≤ 30\n",
    "        j=5\n",
    "    elseif 31 ≤ t ≤ 35\n",
    "        j=6\n",
    "    else\n",
    "        j=7\n",
    "    end\n",
    "    \n",
    "    \n",
    "    \n",
    "    conv[t]=conventional(t,j)\n",
    "    for k in 1:nrow(compromise)\n",
    "        \n",
    "        inn_co2[k,t]=innovation(t,k,j)\n",
    "    end\n",
    "end\n",
    "#conv[1:5].=100\n",
    "\n",
    "sNames = [\"conv\",\"inn1\",\"inn2\",\"inn3\",\"inn4\",\"inn5\",\"inn6\",\"inn7\",\"inn8\",\"inn9\",\"inn10\"]\n",
    "xLabels = []\n",
    "for i in 2020:2070\n",
    "    push!(xLabels,string(i))\n",
    "end\n",
    "\n",
    "#df = DataFrame(year=xLabels, conv=conv, inn1=inn_co2[1,:],inn2=inn_co2[2,:],inn3=inn_co2[3,:],inn4=inn_co2[4,:],\n",
    "#        inn5=inn_co2[5,:],inn6=inn_co2[6,:],inn7=inn_co2[7,:],inn8=inn_co2[8,:],inn9=inn_co2[9,:],inn10=inn_co2[10,:])\n",
    "df = DataFrame(vcat(inn_co2,conv')',:auto)\n",
    "\n",
    "\n",
    "df=df[1:41,:]\n",
    "\n",
    "df=df[!, any.(>(0), eachcol(df))]\n",
    "df[!,:year]=xLabels[1:41]\n",
    "#rename!(df,[:x1,:x93,:x218,:x222] .=> [:Conv,:pyLDPE1,:alcPLA2,:alcPLA6])\n",
    "#df[!,:pyLDPE11]=zeros(36)\n",
    "rename!(df,[:x269] .=> [:Conv])\n",
    "#df[!,:x31]=zeros(36)\n",
    "#df[!,:x38]=zeros(36)\n",
    "#df[!,:x164]=zeros(36)\n",
    "\n",
    "#rename!(df,[:x94,:x95,:x104,:x109,:x196,:x198,:x199,:x200,:x201] .=> [:LABS12,:LABS13,:LABS22,:LABS27,:RecyclPLA2,:RecyclPLA4,:RecyclPLA5,:RecyclPLA6,:RecyclPLA7])\n",
    "#rename!(df,[:x29,:x30,:x31,:x45,:x49] .=> [:pyLDPE_maxTheta,:pyLDPE_minGWP,:pyLDPE_minLCC,:pyLDPE_14,:pyLDPE_18])\n",
    "#rename!(df,[:x160,:x164] .=> [:alcPLA_minLCC,:alcPLA_3])\n",
    "o_cost=df |> stack |> @vlplot(:area, x=:year, y={:value, stack=:zero, title=\"Value-chain adopted (%)\"}, color=\"variable:n\",legend=:sNames) \n",
    "if want_save>0\n",
    "    save(\"./result-case-roadmap/op_cost-\"*output_key*\".svg\", o_cost)\n",
    "end\n",
    "#save(\"./result-case-roadmap/split_yearly-netzero.svg\", split_yearly)\n",
    "o_cost\n",
    "\n"
   ]
  },
  {
   "cell_type": "code",
   "execution_count": 230,
   "id": "e4019a0a",
   "metadata": {},
   "outputs": [
    {
     "name": "stdout",
     "output_type": "stream",
     "text": [
      "34--1.0\n",
      "34--4.9999999894590434\n",
      "--\n",
      "2.992912129088112\n",
      "-----------\n",
      "30--1.0\n",
      "30--5.0\n",
      "--\n",
      "2.7845637501961376\n",
      "0.0\n",
      "-----------\n",
      "28--1.0\n",
      "28--5.0\n",
      "--\n",
      "4.304542392882712\n",
      "0.0\n",
      "-----------\n",
      "48--0.9783001808322878\n",
      "48--4.998787859895857\n",
      "--\n",
      "3.3984441391705915\n",
      "0.009486695064616413\n",
      "158--0.021699819167684264\n",
      "158--4.999999985605264\n",
      "--\n",
      "0.00399857101512502\n",
      "2.498905304904042e-9\n",
      "163--2.80216974443936e-14\n",
      "163--0.0\n",
      "--\n",
      "2.4676006608213214e-14\n",
      "1.1208678977757439e-12\n",
      "-----------\n",
      "28--0.7999085818763277\n",
      "28--4.999174818482046\n",
      "--\n",
      "3.2521202746671802\n",
      "0.005280558222541032\n",
      "159--0.20009141812367226\n",
      "159--4.996245602495604\n",
      "--\n",
      "0.5090189498874685\n",
      "0.006009781766835864\n",
      "-----------\n",
      "48--0.9783001808322892\n",
      "48--5.000000000000148\n",
      "--\n",
      "3.1881819890155767\n",
      "-1.1652900866465643e-12\n",
      "158--0.0216998191677108\n",
      "158--4.823421570186088\n",
      "--\n",
      "-0.01239996610878006\n",
      "0.03065375996704156\n",
      "-----------\n",
      "37--0.21357971637312256\n",
      "37--4.996928570508013\n",
      "--\n",
      "0.4800269244273519\n",
      "0.005247960318069289\n",
      "163--0.7864202836268774\n",
      "163--4.999154225670477\n",
      "--\n",
      "-0.5209541459785196\n",
      "0.005321072704862928\n",
      "-----------\n"
     ]
    }
   ],
   "source": [
    "for i in 1:7\n",
    "    for k in 1:nrow(compromise)\n",
    "        if xk[k,i]>0\n",
    "            println(k,\"--\",xk[k,i])\n",
    "            println(k,\"--\",tk[k,i])\n",
    "            println(\"--\")\n",
    "            println(sum(xk[k,i]*co2fac[k,i]))\n",
    "        #+(1-sum(xk[k,tt] for k in 1:nrow(compromise)))*initial[1,3]\n",
    "            if i>1\n",
    "                println((initial[1,3])*(xk[k,i-1]*tk[k,i]-(xk[k,i]*tk[k,i]-5*xk[k,i])))\n",
    "            end\n",
    "            \n",
    "        end\n",
    "    end\n",
    "    println(\"-----------\")\n",
    "end"
   ]
  },
  {
   "cell_type": "code",
   "execution_count": 178,
   "id": "69fdca65",
   "metadata": {},
   "outputs": [
    {
     "name": "stdout",
     "output_type": "stream",
     "text": [
      "28[0.0, 0.0, 4.3, 0.0, 3.25, 0.0, 0.0]\n",
      "30[0.0, 2.78, 0.0, 0.0, 0.0, 0.0, 0.0]\n",
      "34[2.99, 0.0, 0.0, 0.0, 0.0, 0.0, 0.0]\n",
      "37[0.0, 0.0, 0.0, 0.0, 0.0, 0.0, 0.48]\n",
      "48[0.0, 0.0, 0.0, 3.4, 0.0, 3.19, 0.0]\n",
      "158[0.0, 0.0, 0.0, 0.0, 0.0, -0.01, -0.0]\n",
      "159[0.0, 0.0, 0.0, 0.0, 0.51, 0.0, 0.0]\n",
      "163[0.0, 0.0, 0.0, 0.0, 0.0, 0.0, -0.52]\n"
     ]
    }
   ],
   "source": [
    "for i in 1:240\n",
    "    if sum(xk[i,:])>0\n",
    "        print(i)\n",
    "        println(round.(xk[i,:].*co2fac[i,:];digits=2))\n",
    "    end\n",
    "end"
   ]
  },
  {
   "cell_type": "code",
   "execution_count": 177,
   "id": "b9272fc7",
   "metadata": {},
   "outputs": [
    {
     "name": "stdout",
     "output_type": "stream",
     "text": [
      "28[0.0, 0.0, 1.0, 0.0, 0.8, 0.0, 0.0]\n",
      "30[0.0, 1.0, 0.0, 0.0, 0.0, 0.0, 0.0]\n",
      "34[1.0, 0.0, 0.0, 0.0, 0.0, 0.0, 0.0]\n",
      "37[0.0, 0.0, 0.0, 0.0, 0.0, 0.0, 0.21]\n",
      "48[0.0, 0.0, 0.0, 0.98, 0.0, 0.98, 0.0]\n",
      "158[0.0, 0.0, 0.0, 0.02, 0.0, 0.02, 0.0]\n",
      "159[0.0, 0.0, 0.0, 0.0, 0.2, 0.0, 0.0]\n",
      "163[0.0, 0.0, 0.0, 0.0, 0.0, 0.0, 0.79]\n"
     ]
    }
   ],
   "source": [
    "for i in 1:240\n",
    "    if sum(xk[i,:])>0\n",
    "        print(i)\n",
    "        println(round.(xk[i,:];digits=2))\n",
    "    end\n",
    "end"
   ]
  },
  {
   "cell_type": "code",
   "execution_count": 37,
   "id": "91d9e882",
   "metadata": {},
   "outputs": [
    {
     "name": "stdout",
     "output_type": "stream",
     "text": [
      "93[0.0, 0.0, 0.0, 5.0, 0.0, 5.0, 0.0]\n",
      "94[0.0, 0.0, 0.0, 0.0, 0.0, 0.0, 0.0]\n",
      "103[0.0, 0.0, 5.0, 0.0, 0.0, 0.0, 0.0]\n",
      "108[0.0, 0.0, 0.0, 0.0, 5.0, 0.0, 5.0]\n",
      "195[5.0, 5.0, 0.0, 0.0, 0.0, 0.0, 0.0]\n",
      "197[0.0, 0.0, 0.0, 0.0, 0.0, 0.0, 5.0]\n",
      "198[0.0, 0.0, 0.0, 0.0, 5.0, 0.0, 0.0]\n",
      "199[0.0, 0.0, 0.0, 5.0, 0.0, 5.0, 0.0]\n",
      "200[0.0, 0.0, 5.0, 0.0, 0.0, 0.0, 0.0]\n"
     ]
    }
   ],
   "source": [
    "for i in 1:240\n",
    "    if sum(xk[i,:])>0\n",
    "        print(i)\n",
    "        println(round.(tk[i,:];digits=2))\n",
    "    end\n",
    "end"
   ]
  }
 ],
 "metadata": {
  "kernelspec": {
   "display_name": "Julia 1.6.3",
   "language": "julia",
   "name": "julia-1.6"
  },
  "language_info": {
   "file_extension": ".jl",
   "mimetype": "application/julia",
   "name": "julia",
   "version": "1.6.3"
  }
 },
 "nbformat": 4,
 "nbformat_minor": 5
}
