{
 "cells": [
  {
   "cell_type": "code",
   "execution_count": 1,
   "id": "0cd38929",
   "metadata": {},
   "outputs": [
    {
     "name": "stderr",
     "output_type": "stream",
     "text": [
      "\u001b[32m\u001b[1m  Activating\u001b[22m\u001b[39m environment at `~/Documents/project-codes/Plan_RoadmapsIAM/toy-problem/baron_env/Project.toml`\n"
     ]
    }
   ],
   "source": [
    "\n",
    "using Pkg\n",
    "Pkg.activate(\"./baron_env\")\n",
    "#Pkg.pin(\"JuMP\")\n",
    "using JuMP\n",
    "using CSV\n",
    "using GraphRecipes, Plots\n",
    "using LightGraphs\n",
    "using LinearAlgebra\n",
    "using SparseArrays\n",
    "using DataFrames\n",
    "using BARON\n",
    "using PiecewiseLinearOpt\n"
   ]
  },
  {
   "cell_type": "code",
   "execution_count": 2,
   "id": "e8956d14-30ad-49f9-bf77-ae0d8a2937f8",
   "metadata": {},
   "outputs": [
    {
     "name": "stderr",
     "output_type": "stream",
     "text": [
      "┌ Warning: Pkg.installed() is deprecated\n",
      "└ @ Pkg /buildworker/worker/package_linux64/build/usr/share/julia/stdlib/v1.6/Pkg/src/Pkg.jl:570\n"
     ]
    },
    {
     "data": {
      "text/plain": [
       "Dict{String, VersionNumber} with 3 entries:\n",
       "  \"BARON\"              => v\"0.6.5\"\n",
       "  \"PiecewiseLinearOpt\" => v\"0.3.0\"\n",
       "  \"CPLEX\"              => v\"0.7.8\""
      ]
     },
     "execution_count": 2,
     "metadata": {},
     "output_type": "execute_result"
    }
   ],
   "source": [
    "Pkg.installed()"
   ]
  },
  {
   "cell_type": "code",
   "execution_count": 3,
   "id": "6cd49756",
   "metadata": {},
   "outputs": [
    {
     "data": {
      "text/html": [
       "<div class=\"data-frame\"><p>5 rows × 33 columns (omitted printing of 24 columns)</p><table class=\"data-frame\"><thead><tr><th></th><th>i</th><th>Cost_per_RL</th><th>RL</th><th>Sojourn1</th><th>Sojourn2</th><th>Sojourn3</th><th>Sojourn4</th><th>Sojourn5</th><th>P11</th></tr><tr><th></th><th title=\"Int64\">Int64</th><th title=\"Int64\">Int64</th><th title=\"Int64\">Int64</th><th title=\"Float64\">Float64</th><th title=\"Float64\">Float64</th><th title=\"Float64\">Float64</th><th title=\"Float64\">Float64</th><th title=\"Float64\">Float64</th><th title=\"Int64\">Int64</th></tr></thead><tbody><tr><th>1</th><td>1</td><td>92</td><td>3</td><td>4.6</td><td>1.34</td><td>2.04</td><td>0.12</td><td>8.86</td><td>0</td></tr><tr><th>2</th><td>2</td><td>175</td><td>2</td><td>8.32</td><td>8.84</td><td>0.65</td><td>9.9</td><td>9.65</td><td>0</td></tr><tr><th>3</th><td>3</td><td>78</td><td>1</td><td>4.44</td><td>1.21</td><td>5.09</td><td>6.52</td><td>8.67</td><td>0</td></tr><tr><th>4</th><td>4</td><td>168</td><td>3</td><td>5.48</td><td>7.62</td><td>3.34</td><td>5.05</td><td>5.6</td><td>0</td></tr><tr><th>5</th><td>5</td><td>95</td><td>1</td><td>9.94</td><td>2.38</td><td>7.94</td><td>3.82</td><td>5.44</td><td>0</td></tr></tbody></table></div>"
      ],
      "text/latex": [
       "\\begin{tabular}{r|cccccccccc}\n",
       "\t& i & Cost\\_per\\_RL & RL & Sojourn1 & Sojourn2 & Sojourn3 & Sojourn4 & Sojourn5 & P11 & \\\\\n",
       "\t\\hline\n",
       "\t& Int64 & Int64 & Int64 & Float64 & Float64 & Float64 & Float64 & Float64 & Int64 & \\\\\n",
       "\t\\hline\n",
       "\t1 & 1 & 92 & 3 & 4.6 & 1.34 & 2.04 & 0.12 & 8.86 & 0 & $\\dots$ \\\\\n",
       "\t2 & 2 & 175 & 2 & 8.32 & 8.84 & 0.65 & 9.9 & 9.65 & 0 & $\\dots$ \\\\\n",
       "\t3 & 3 & 78 & 1 & 4.44 & 1.21 & 5.09 & 6.52 & 8.67 & 0 & $\\dots$ \\\\\n",
       "\t4 & 4 & 168 & 3 & 5.48 & 7.62 & 3.34 & 5.05 & 5.6 & 0 & $\\dots$ \\\\\n",
       "\t5 & 5 & 95 & 1 & 9.94 & 2.38 & 7.94 & 3.82 & 5.44 & 0 & $\\dots$ \\\\\n",
       "\\end{tabular}\n"
      ],
      "text/plain": [
       "\u001b[1m5×33 DataFrame\u001b[0m\n",
       "\u001b[1m Row \u001b[0m│\u001b[1m i     \u001b[0m\u001b[1m Cost_per_RL \u001b[0m\u001b[1m RL    \u001b[0m\u001b[1m Sojourn1 \u001b[0m\u001b[1m Sojourn2 \u001b[0m\u001b[1m Sojourn3 \u001b[0m\u001b[1m Sojourn4 \u001b[0m\u001b[1m Sojo\u001b[0m ⋯\n",
       "\u001b[1m     \u001b[0m│\u001b[90m Int64 \u001b[0m\u001b[90m Int64       \u001b[0m\u001b[90m Int64 \u001b[0m\u001b[90m Float64  \u001b[0m\u001b[90m Float64  \u001b[0m\u001b[90m Float64  \u001b[0m\u001b[90m Float64  \u001b[0m\u001b[90m Floa\u001b[0m ⋯\n",
       "─────┼──────────────────────────────────────────────────────────────────────────\n",
       "   1 │     1           92      3      4.6       1.34      2.04      0.12       ⋯\n",
       "   2 │     2          175      2      8.32      8.84      0.65      9.9\n",
       "   3 │     3           78      1      4.44      1.21      5.09      6.52\n",
       "   4 │     4          168      3      5.48      7.62      3.34      5.05\n",
       "   5 │     5           95      1      9.94      2.38      7.94      3.82       ⋯\n",
       "\u001b[36m                                                              26 columns omitted\u001b[0m"
      ]
     },
     "execution_count": 3,
     "metadata": {},
     "output_type": "execute_result"
    }
   ],
   "source": [
    "innovations = CSV.File(\"./data/innovations.csv\",header=1,delim=\",\") |> DataFrame\n",
    "mapki = CSV.File(\"./data/map-ki.csv\",header=1,delim=\",\") |> DataFrame\n",
    "compromise = CSV.File(\"./data/compromise.csv\",header=1,delim=\",\") |> DataFrame\n",
    "initial = CSV.File(\"./data/initial.csv\",header=1,delim=\",\") |> DataFrame\n",
    "ci=innovations[!,2]\n",
    "rl=innovations[!,3]\n",
    "initial\n",
    "#innovations[2,6]=7\n",
    "compromise[!,3]=compromise[!,3]/2\n",
    "innovations[2,2]=175\n",
    "innovations[2,3]=2\n",
    "innovations[1,3]=3\n",
    "innovations[4,2]=168\n",
    "#innovations[3,3]=2\n",
    "innovations"
   ]
  },
  {
   "cell_type": "code",
   "execution_count": 4,
   "id": "33d1096b-bd0b-4edf-8fb1-38ca9b060af5",
   "metadata": {},
   "outputs": [
    {
     "data": {
      "text/html": [
       "<div class=\"data-frame\"><p>25 rows × 6 columns</p><table class=\"data-frame\"><thead><tr><th></th><th>k</th><th>i</th><th>GWP</th><th>Theta</th><th>Per_Recycl</th><th>Per_Comp</th></tr><tr><th></th><th title=\"Int64\">Int64</th><th title=\"Int64\">Int64</th><th title=\"Float64\">Float64</th><th title=\"Float64\">Float64</th><th title=\"Float64\">Float64</th><th title=\"Float64\">Float64</th></tr></thead><tbody><tr><th>1</th><td>1</td><td>1</td><td>40.0</td><td>0.6</td><td>0.5</td><td>0.0</td></tr><tr><th>2</th><td>2</td><td>1</td><td>43.0</td><td>0.66</td><td>0.55</td><td>0.0</td></tr><tr><th>3</th><td>3</td><td>1</td><td>45.5</td><td>0.68</td><td>0.567</td><td>0.0</td></tr><tr><th>4</th><td>4</td><td>1</td><td>47.5</td><td>0.7</td><td>0.583</td><td>0.0</td></tr><tr><th>5</th><td>5</td><td>2</td><td>30.0</td><td>0.4</td><td>0.0</td><td>0.2</td></tr><tr><th>6</th><td>6</td><td>2</td><td>32.0</td><td>0.48</td><td>0.0</td><td>0.24</td></tr><tr><th>7</th><td>7</td><td>2</td><td>34.0</td><td>0.5</td><td>0.0</td><td>0.27</td></tr><tr><th>8</th><td>8</td><td>2</td><td>38.0</td><td>0.52</td><td>0.0</td><td>0.34</td></tr><tr><th>9</th><td>9</td><td>2</td><td>40.0</td><td>0.54</td><td>0.0</td><td>0.37</td></tr><tr><th>10</th><td>10</td><td>2</td><td>42.5</td><td>0.55</td><td>0.0</td><td>0.4</td></tr><tr><th>11</th><td>11</td><td>3</td><td>42.5</td><td>0.6</td><td>0.6</td><td>0.3</td></tr><tr><th>12</th><td>12</td><td>3</td><td>44.5</td><td>0.68</td><td>0.55</td><td>0.4</td></tr><tr><th>13</th><td>13</td><td>3</td><td>46.5</td><td>0.76</td><td>0.53</td><td>0.4</td></tr><tr><th>14</th><td>14</td><td>3</td><td>47.5</td><td>0.82</td><td>0.5</td><td>0.4</td></tr><tr><th>15</th><td>15</td><td>4</td><td>37.5</td><td>0.65</td><td>0.0</td><td>0.5</td></tr><tr><th>16</th><td>16</td><td>4</td><td>39.0</td><td>0.69</td><td>0.0</td><td>0.531</td></tr><tr><th>17</th><td>17</td><td>4</td><td>40.0</td><td>0.71</td><td>0.0</td><td>0.55</td></tr><tr><th>18</th><td>18</td><td>4</td><td>40.5</td><td>0.72</td><td>0.0</td><td>0.55</td></tr><tr><th>19</th><td>19</td><td>4</td><td>41.5</td><td>0.74</td><td>0.0</td><td>0.57</td></tr><tr><th>20</th><td>20</td><td>4</td><td>42.5</td><td>0.75</td><td>0.0</td><td>0.8</td></tr><tr><th>21</th><td>21</td><td>5</td><td>45.0</td><td>0.9</td><td>0.7</td><td>0.15</td></tr><tr><th>22</th><td>22</td><td>5</td><td>46.0</td><td>0.92</td><td>0.716</td><td>0.1</td></tr><tr><th>23</th><td>23</td><td>5</td><td>47.0</td><td>0.94</td><td>0.731</td><td>0.0</td></tr><tr><th>24</th><td>24</td><td>5</td><td>48.0</td><td>0.95</td><td>0.738</td><td>0.0</td></tr><tr><th>25</th><td>25</td><td>5</td><td>50.0</td><td>0.95</td><td>0.738</td><td>0.0</td></tr></tbody></table></div>"
      ],
      "text/latex": [
       "\\begin{tabular}{r|cccccc}\n",
       "\t& k & i & GWP & Theta & Per\\_Recycl & Per\\_Comp\\\\\n",
       "\t\\hline\n",
       "\t& Int64 & Int64 & Float64 & Float64 & Float64 & Float64\\\\\n",
       "\t\\hline\n",
       "\t1 & 1 & 1 & 40.0 & 0.6 & 0.5 & 0.0 \\\\\n",
       "\t2 & 2 & 1 & 43.0 & 0.66 & 0.55 & 0.0 \\\\\n",
       "\t3 & 3 & 1 & 45.5 & 0.68 & 0.567 & 0.0 \\\\\n",
       "\t4 & 4 & 1 & 47.5 & 0.7 & 0.583 & 0.0 \\\\\n",
       "\t5 & 5 & 2 & 30.0 & 0.4 & 0.0 & 0.2 \\\\\n",
       "\t6 & 6 & 2 & 32.0 & 0.48 & 0.0 & 0.24 \\\\\n",
       "\t7 & 7 & 2 & 34.0 & 0.5 & 0.0 & 0.27 \\\\\n",
       "\t8 & 8 & 2 & 38.0 & 0.52 & 0.0 & 0.34 \\\\\n",
       "\t9 & 9 & 2 & 40.0 & 0.54 & 0.0 & 0.37 \\\\\n",
       "\t10 & 10 & 2 & 42.5 & 0.55 & 0.0 & 0.4 \\\\\n",
       "\t11 & 11 & 3 & 42.5 & 0.6 & 0.6 & 0.3 \\\\\n",
       "\t12 & 12 & 3 & 44.5 & 0.68 & 0.55 & 0.4 \\\\\n",
       "\t13 & 13 & 3 & 46.5 & 0.76 & 0.53 & 0.4 \\\\\n",
       "\t14 & 14 & 3 & 47.5 & 0.82 & 0.5 & 0.4 \\\\\n",
       "\t15 & 15 & 4 & 37.5 & 0.65 & 0.0 & 0.5 \\\\\n",
       "\t16 & 16 & 4 & 39.0 & 0.69 & 0.0 & 0.531 \\\\\n",
       "\t17 & 17 & 4 & 40.0 & 0.71 & 0.0 & 0.55 \\\\\n",
       "\t18 & 18 & 4 & 40.5 & 0.72 & 0.0 & 0.55 \\\\\n",
       "\t19 & 19 & 4 & 41.5 & 0.74 & 0.0 & 0.57 \\\\\n",
       "\t20 & 20 & 4 & 42.5 & 0.75 & 0.0 & 0.8 \\\\\n",
       "\t21 & 21 & 5 & 45.0 & 0.9 & 0.7 & 0.15 \\\\\n",
       "\t22 & 22 & 5 & 46.0 & 0.92 & 0.716 & 0.1 \\\\\n",
       "\t23 & 23 & 5 & 47.0 & 0.94 & 0.731 & 0.0 \\\\\n",
       "\t24 & 24 & 5 & 48.0 & 0.95 & 0.738 & 0.0 \\\\\n",
       "\t25 & 25 & 5 & 50.0 & 0.95 & 0.738 & 0.0 \\\\\n",
       "\\end{tabular}\n"
      ],
      "text/plain": [
       "\u001b[1m25×6 DataFrame\u001b[0m\n",
       "\u001b[1m Row \u001b[0m│\u001b[1m k     \u001b[0m\u001b[1m i     \u001b[0m\u001b[1m GWP     \u001b[0m\u001b[1m Theta   \u001b[0m\u001b[1m Per_Recycl \u001b[0m\u001b[1m Per_Comp \u001b[0m\n",
       "\u001b[1m     \u001b[0m│\u001b[90m Int64 \u001b[0m\u001b[90m Int64 \u001b[0m\u001b[90m Float64 \u001b[0m\u001b[90m Float64 \u001b[0m\u001b[90m Float64    \u001b[0m\u001b[90m Float64  \u001b[0m\n",
       "─────┼──────────────────────────────────────────────────────\n",
       "   1 │     1      1     40.0     0.6        0.5       0.0\n",
       "   2 │     2      1     43.0     0.66       0.55      0.0\n",
       "   3 │     3      1     45.5     0.68       0.567     0.0\n",
       "   4 │     4      1     47.5     0.7        0.583     0.0\n",
       "   5 │     5      2     30.0     0.4        0.0       0.2\n",
       "   6 │     6      2     32.0     0.48       0.0       0.24\n",
       "   7 │     7      2     34.0     0.5        0.0       0.27\n",
       "   8 │     8      2     38.0     0.52       0.0       0.34\n",
       "   9 │     9      2     40.0     0.54       0.0       0.37\n",
       "  10 │    10      2     42.5     0.55       0.0       0.4\n",
       "  11 │    11      3     42.5     0.6        0.6       0.3\n",
       "  ⋮  │   ⋮      ⋮       ⋮        ⋮         ⋮          ⋮\n",
       "  16 │    16      4     39.0     0.69       0.0       0.531\n",
       "  17 │    17      4     40.0     0.71       0.0       0.55\n",
       "  18 │    18      4     40.5     0.72       0.0       0.55\n",
       "  19 │    19      4     41.5     0.74       0.0       0.57\n",
       "  20 │    20      4     42.5     0.75       0.0       0.8\n",
       "  21 │    21      5     45.0     0.9        0.7       0.15\n",
       "  22 │    22      5     46.0     0.92       0.716     0.1\n",
       "  23 │    23      5     47.0     0.94       0.731     0.0\n",
       "  24 │    24      5     48.0     0.95       0.738     0.0\n",
       "  25 │    25      5     50.0     0.95       0.738     0.0\n",
       "\u001b[36m                                              4 rows omitted\u001b[0m"
      ]
     },
     "execution_count": 4,
     "metadata": {},
     "output_type": "execute_result"
    }
   ],
   "source": [
    "compromise"
   ]
  },
  {
   "cell_type": "code",
   "execution_count": 5,
   "id": "4e49351a-5301-4c14-8142-72ea5910982a",
   "metadata": {},
   "outputs": [
    {
     "data": {
      "text/plain": [
       "give_sorted (generic function with 1 method)"
      ]
     },
     "execution_count": 5,
     "metadata": {},
     "output_type": "execute_result"
    }
   ],
   "source": [
    "function get_transition_mat(i)\n",
    "    p_mat=reshape(collect(innovations[i,9:33]),5,5)\n",
    "    return p_mat'\n",
    "end\n",
    "\n",
    "\n",
    "function get_rate_mat(i)\n",
    "    p_mat=get_transition_mat(i)\n",
    "    q_mat=p_mat./collect(innovations[i,4:8])\n",
    "    for i in 1:5\n",
    "        q_mat[i,i]=-1*sum(q_mat[i,j] for j in 1:5 if j!=i)\n",
    "    end\n",
    "    return q_mat\n",
    "end\n",
    "\n",
    "function get_rate_eig_mat(i)\n",
    "    p_mat=get_transition_mat(i)\n",
    "    q_mat=p_mat./collect(innovations[i,4:8])\n",
    "    for i in 1:5\n",
    "        q_mat[i,i]=-1*sum(q_mat[i,j] for j in 1:5 if j!=i)\n",
    "    end\n",
    "    return [q_mat,eigvecs(q_mat),eigvals(q_mat)]\n",
    "end\n",
    "\n",
    "function get_IAM_factor(t)\n",
    "    return 1\n",
    "end\n",
    "\n",
    "function give_sorted(t)\n",
    "    v=sortperm(t)\n",
    "    return v\n",
    "end\n"
   ]
  },
  {
   "cell_type": "code",
   "execution_count": 6,
   "id": "d6e7594d",
   "metadata": {},
   "outputs": [
    {
     "data": {
      "text/plain": [
       "1×5 Matrix{Int64}:\n",
       " 1  2  3  4  5"
      ]
     },
     "execution_count": 6,
     "metadata": {},
     "output_type": "execute_result"
    }
   ],
   "source": [
    "q=zeros(5,5,nrow(innovations))\n",
    "a=zeros(5,5,nrow(innovations))\n",
    "ainv=zeros(5,5,nrow(innovations))\n",
    "d=zeros(5,1,nrow(innovations))\n",
    "s0=zeros(1,5,nrow(innovations))\n",
    "for i in 1:nrow(innovations)\n",
    "    q[:,:,i]=round.(get_rate_eig_mat(i)[1],digits=3)\n",
    "    a[:,:,i]=(get_rate_eig_mat(i)[2])\n",
    "    d[:,:,i]=round.(get_rate_eig_mat(i)[3],digits=3)\n",
    "    ainv[:,:,i]=round.(inv(get_rate_eig_mat(i)[2]),digits=3)\n",
    "    s0[1,rl[i],i]=1\n",
    "end\n",
    "rl_vals=[1 2 3 4 5]"
   ]
  },
  {
   "cell_type": "code",
   "execution_count": 7,
   "id": "82bcdb33-a9c3-4e1c-a456-21ed1fdb43b4",
   "metadata": {},
   "outputs": [
    {
     "data": {
      "text/html": [
       "<div class=\"data-frame\"><p>5 rows × 7 columns</p><table class=\"data-frame\"><thead><tr><th></th><th>Column1</th><th>Y0</th><th>Y1</th><th>Y2</th><th>Y3</th><th>Y4</th><th>Y5</th></tr><tr><th></th><th title=\"Int64\">Int64</th><th title=\"Int64\">Int64</th><th title=\"Float64\">Float64</th><th title=\"Float64\">Float64</th><th title=\"Float64\">Float64</th><th title=\"Float64\">Float64</th><th title=\"Float64\">Float64</th></tr></thead><tbody><tr><th>1</th><td>1</td><td>2</td><td>1.55336</td><td>1.08482</td><td>0.987212</td><td>1.26794</td><td>1.87998</td></tr><tr><th>2</th><td>2</td><td>3</td><td>3.55746</td><td>3.93607</td><td>4.40891</td><td>5.05482</td><td>5.76446</td></tr><tr><th>3</th><td>3</td><td>4</td><td>3.16098</td><td>2.53288</td><td>2.48238</td><td>2.96874</td><td>3.96047</td></tr><tr><th>4</th><td>4</td><td>2</td><td>1.90803</td><td>2.33811</td><td>3.25335</td><td>4.37439</td><td>5.72498</td></tr><tr><th>5</th><td>5</td><td>4</td><td>4.03011</td><td>4.32668</td><td>4.96027</td><td>5.88777</td><td>7.0267</td></tr></tbody></table></div>"
      ],
      "text/latex": [
       "\\begin{tabular}{r|ccccccc}\n",
       "\t& Column1 & Y0 & Y1 & Y2 & Y3 & Y4 & Y5\\\\\n",
       "\t\\hline\n",
       "\t& Int64 & Int64 & Float64 & Float64 & Float64 & Float64 & Float64\\\\\n",
       "\t\\hline\n",
       "\t1 & 1 & 2 & 1.55336 & 1.08482 & 0.987212 & 1.26794 & 1.87998 \\\\\n",
       "\t2 & 2 & 3 & 3.55746 & 3.93607 & 4.40891 & 5.05482 & 5.76446 \\\\\n",
       "\t3 & 3 & 4 & 3.16098 & 2.53288 & 2.48238 & 2.96874 & 3.96047 \\\\\n",
       "\t4 & 4 & 2 & 1.90803 & 2.33811 & 3.25335 & 4.37439 & 5.72498 \\\\\n",
       "\t5 & 5 & 4 & 4.03011 & 4.32668 & 4.96027 & 5.88777 & 7.0267 \\\\\n",
       "\\end{tabular}\n"
      ],
      "text/plain": [
       "\u001b[1m5×7 DataFrame\u001b[0m\n",
       "\u001b[1m Row \u001b[0m│\u001b[1m Column1 \u001b[0m\u001b[1m Y0    \u001b[0m\u001b[1m Y1      \u001b[0m\u001b[1m Y2      \u001b[0m\u001b[1m Y3       \u001b[0m\u001b[1m Y4      \u001b[0m\u001b[1m Y5      \u001b[0m\n",
       "\u001b[1m     \u001b[0m│\u001b[90m Int64   \u001b[0m\u001b[90m Int64 \u001b[0m\u001b[90m Float64 \u001b[0m\u001b[90m Float64 \u001b[0m\u001b[90m Float64  \u001b[0m\u001b[90m Float64 \u001b[0m\u001b[90m Float64 \u001b[0m\n",
       "─────┼──────────────────────────────────────────────────────────────\n",
       "   1 │       1      2  1.55336  1.08482  0.987212  1.26794  1.87998\n",
       "   2 │       2      3  3.55746  3.93607  4.40891   5.05482  5.76446\n",
       "   3 │       3      4  3.16098  2.53288  2.48238   2.96874  3.96047\n",
       "   4 │       4      2  1.90803  2.33811  3.25335   4.37439  5.72498\n",
       "   5 │       5      4  4.03011  4.32668  4.96027   5.88777  7.0267"
      ]
     },
     "execution_count": 7,
     "metadata": {},
     "output_type": "execute_result"
    }
   ],
   "source": [
    "inn_reg = CSV.File(\"./data/inn_reg.csv\",header=1,delim=\",\") |> DataFrame\n",
    "inn_xrang = CSV.File(\"./data/inn_xrang.csv\",header=1,delim=\",\") |> DataFrame\n",
    "inn_yrang = CSV.File(\"./data/inn_yrang.csv\",header=1,delim=\",\") |> DataFrame\n",
    "inn_yrang[!,\"Y0\"]=-1*(innovations[!,\"RL\"].-5)\n",
    "inn_yrang"
   ]
  },
  {
   "cell_type": "code",
   "execution_count": 80,
   "id": "8e71e88a-0c0c-4457-94b8-9f47678e64ac",
   "metadata": {},
   "outputs": [
    {
     "data": {
      "text/plain": [
       "tech_roadmap_mccormick_peicewise_self (generic function with 1 method)"
      ]
     },
     "execution_count": 80,
     "metadata": {},
     "output_type": "execute_result"
    }
   ],
   "source": [
    "function tech_roadmap_mccormick_peicewise_self()\n",
    "    \n",
    "    rdmap= Model(BARON.Optimizer)\n",
    "    set_optimizer_attribute(rdmap, \"MaxTime\", 2500)\n",
    "    \n",
    "    #Sets\n",
    "    # i: innovation\n",
    "    # k: compromise or pareto optimal solution\n",
    "    # r,c : row column of transition matrices\n",
    "    \n",
    "    #Declaration of variables\n",
    "    \n",
    "    #binary variable choosing the pareto optimal solution\n",
    "    @variable(rdmap,yk[k=1:nrow(compromise)],Bin)\n",
    "    #time at which a pareto optimal solution is chosen\n",
    "    @variable(rdmap,0 ≤ tk[k=1:nrow(compromise)] ≤ 50)\n",
    "    #percentage of functional unit that a pareto optimal solution takes up\n",
    "    @variable(rdmap,0 ≤ xk[k=1:nrow(compromise)] ≤ 1)\n",
    "    \n",
    "    #binary variable choosing which innovation to invest in for adoption\n",
    "    @variable(rdmap,yi[i=1:nrow(innovations)],Bin)\n",
    "    #time at which invested is made and innovation made adoptible\n",
    "    @variable(rdmap,0 ≤ ti[i=1:nrow(innovations)] ≤ 50)\n",
    "    #readiness level state value of ith innovation\n",
    "    @variable(rdmap, s[i=1:nrow(innovations)] )\n",
    "    \n",
    "    #CO2 at 2050 target\n",
    "    @variable(rdmap, co2_2050 ≥ 0)\n",
    "    #circularity at 2030 target\n",
    "    @variable(rdmap, theta_2030 ≥ 0)\n",
    "    #integral approximator of CO2\n",
    "    @variable(rdmap, co2_tot ≥ 0)\n",
    "    \n",
    "    #cost incured in investing to adopt\n",
    "    @variable(rdmap, 0 ≤ cost_inn)\n",
    "    \n",
    "    \n",
    "    #Constraints\n",
    "    \n",
    "    #Planning optimization constraints    \n",
    "    #only one compromise solution chosen on each pareto front, and chosen only if investment made in ith front\n",
    "    @constraint(rdmap, [i=1], sum(yk[k] for k=1:mapki[i,2])==yi[i])\n",
    "    @constraint(rdmap, [i=2:nrow(mapki)], sum(yk[k] for k=mapki[i-1,2]:mapki[i,2])==yi[i])\n",
    "    \n",
    "    #one can pick a compromise solution from ith front to satisfy functional unit only after investment in ith innovation made\n",
    "    @constraint(rdmap, [i=1], ti[i] ≤ sum(tk[k] for k=1:mapki[i,2]))\n",
    "    @constraint(rdmap, [i=2:nrow(mapki)], ti[i] ≤ sum(tk[k] for k=mapki[i-1,2]:mapki[i,2]))\n",
    "    \n",
    "    #if innovation invested in, time has to be between 0 and fifty, otherwise 0\n",
    "    @constraint(rdmap, [i=1:nrow(mapki)], 50*yi[i] ≥ ti[i])\n",
    "    #if compromise solution chosen, time has to be between 0 and fifty, otherwise 0\n",
    "    @constraint(rdmap, [k=1:nrow(compromise)], 50*yk[k] ≥ tk[k])\n",
    "    \n",
    "    #if innovation invested in, time has to be between 0 and fifty, otherwise 0\n",
    "    #@constraint(rdmap, [i=1:nrow(mapki)], 50*yi[i] ≤ ti[i])\n",
    "    #if compromise solution chosen, time has to be between 0 and fifty, otherwise 0\n",
    "    #@constraint(rdmap, [k=1:nrow(compromise)], 50*yk[k] ≤ tk[k])\n",
    "    \n",
    "    \n",
    "    #functional unit allocation to innovation iff compromise solution chosen\n",
    "    @constraint(rdmap, [k=1:nrow(compromise)], yk[k] ≥ xk[k])\n",
    "    \n",
    "    #total fraction of functional unit satisfied by innovative compromise solutions <1\n",
    "    @constraint(rdmap, sum(xk[k] for k in 1:nrow(compromise)) ≤ 1) \n",
    "    \n",
    "    #co2 at 2050 target formulated based on distribution of functional unit to various pareto solutions from innovative and conventional fronts\n",
    "    @constraint(rdmap, co2_2050==sum(xk[k]*compromise[k,3] for k in 1:nrow(compromise))\n",
    "        + (1-sum(xk[k] for k in 1:nrow(compromise)))*initial[1,3])\n",
    "    \n",
    "    #tk < 30\n",
    "    @variable(rdmap, tk_2030[k=1:nrow(compromise)], Bin)\n",
    "    @constraint(rdmap, [k=1:nrow(compromise)], 50*tk_2030[k] ≥ 30 - tk[k])\n",
    "    \n",
    "    #circularity at 2030 target\n",
    "    @constraint(rdmap, theta_2030==sum(xk[k]*compromise[k,4]*(tk_2030[k]) for k in 1:nrow(compromise))\n",
    "        + (1-sum(xk[k]*(tk_2030[k]) for k in 1:nrow(compromise)))*initial[1,4])\n",
    "    \n",
    "    #Time evolution of innovation\n",
    "   \n",
    "    \n",
    "    #Integral approximation of co2 emitted during the entire time horizon\n",
    "    \n",
    "    #mccormick envelopes reduces computational time by 3 fold (see previous formulation for actual bilinear integral approximation)\n",
    "    @variable(rdmap,0 ≤ wk[k=1:nrow(compromise)])\n",
    "    @constraint(rdmap,[k=1:nrow(compromise)],wk[k] ≥ 50*xk[k]+tk[k]-50)\n",
    "    @constraint(rdmap,[k=1:nrow(compromise)],wk[k] ≤ 50*xk[k])\n",
    "    @constraint(rdmap,[k=1:nrow(compromise)],wk[k] ≤ tk[k])\n",
    "    \n",
    "    @NLconstraint(rdmap, co2_tot == 50*initial[1,3]-sum((50-tk[k])*xk[k]*(initial[1,3]-compromise[k,3]) for k in 1:nrow(compromise)))\n",
    "    #@constraint(rdmap, co2_tot == 50*initial[1,3]-sum((50*xk[k]-wk[k])*(initial[1,3]-compromise[k,3]) for k in 1:nrow(compromise)))\n",
    "\n",
    "    #setting target for 2050 co2 pledge\n",
    "    @constraint(rdmap, co2_2050 ≤ 50)\n",
    "    \n",
    "    #setting target for 2030 circularity pledge\n",
    "    @constraint(rdmap, theta_2030 ≥ 0.72)\n",
    "    \n",
    "    @variable(rdmap,f_fit[i=1:nrow(innovations)] ≥ 0)\n",
    "\n",
    "    for i in 1:nrow(innovations)\n",
    "        f_fit[i] = piecewiselinear(rdmap, ti[i], Matrix(inn_xrang[!,2:ncol(inn_xrang)])[i,:],Matrix(inn_yrang[!,2:ncol(inn_yrang)])[i,:])\n",
    "    end\n",
    "\n",
    "    \n",
    "    @NLconstraint(rdmap, cost_inn == sum(ci[i]*(yi[i]*f_fit[i]) for i in 1:nrow(innovations)))\n",
    "                \n",
    "\n",
    "    \n",
    "    @constraint(rdmap, [i=1:nrow(innovations)],s[i]==f_fit[i])\n",
    "    \n",
    "    #@variable(rdmap, y1, Bin)\n",
    "    #@NLconstraint(rdmap, cost_inn == sum(ci[i]*(yi[i]*(y1*(2*t/50)+(1-y1)*(3*t/50))) for i in 1:nrow(innovations)))\n",
    "    \n",
    "    \n",
    "\n",
    "    #definining objective function as investment cost + Co2 emission cost during the time horizon\n",
    "    #40*0.001*co2_tot+\n",
    "    #@NLconstraint(rdmap, obj_val == cost_inn)\n",
    "    @NLobjective(rdmap,Min, 40*0.001*co2_tot+cost_inn)\n",
    "    #supplying lower bound on objective based on cost_inn optimal\n",
    "    #@variable(rdmap, obj_val ≥ 180)\n",
    "    #print(rdmap)\n",
    "    optimize!(rdmap)\n",
    "    \n",
    "    return JuMP.value.(yk), JuMP.value.(tk), JuMP.value.(xk), JuMP.value.(yi), JuMP.value.(ti), \n",
    "        JuMP.value.(s), JuMP.value.(co2_2050), JuMP.value.(cost_inn), JuMP.value.(co2_tot)\n",
    "end\n",
    "\n",
    "\n"
   ]
  },
  {
   "cell_type": "code",
   "execution_count": 81,
   "id": "af85f631",
   "metadata": {},
   "outputs": [
    {
     "name": "stdout",
     "output_type": "stream",
     "text": [
      "===========================================================================\n",
      " BARON version 21.1.13. Built: LNX-64 Wed Jan 13 16:09:31 EST 2021\n",
      "\n",
      " BARON is a product of The Optimization Firm.\n",
      " For information on BARON, see https://minlp.com/about-baron\n",
      " Licensee: Bhavik R. Bakshi at The Ohio State University, bakshi.2@osu.edu.\n",
      "\n",
      " If you use this software, please cite publications from\n",
      " https://minlp.com/baron-publications, such as: \n",
      "\n",
      " Kilinc, M. and N. V. Sahinidis, Exploiting integrality in the global\n",
      " optimization of mixed-integer nonlinear programming problems in BARON,\n",
      " Optimization Methods and Software, 33, 540-562, 2018.\n",
      "===========================================================================\n",
      " This BARON run may utilize the following subsolver(s)\n",
      " For LP/MIP/QP: CLP/CBC                                         \n",
      " For NLP: IPOPT, FILTERSD, FILTERSQP\n",
      "===========================================================================\n",
      " Doing local search\n",
      " Unable to find/load CPLEX library libcplex.so: cannot open shared object file: No such file or directory\n",
      " Unable to find/load CPLEX library libcplex2010.so: cannot open shared object file: No such file or directory\n",
      " Preprocessing found feasible solution with value  575.803048924     \n",
      " Solving bounding LP\n",
      " Starting multi-start local search\n",
      " Preprocessing found feasible solution with value  571.803048924     \n",
      " Preprocessing found feasible solution with value  570.823511962     \n",
      " Done with local search\n",
      "===========================================================================\n",
      "  Iteration    Open nodes         Time (s)    Lower bound      Upper bound\n",
      "*         1             1             0.42      0.00000         325.340    \n",
      "          1             0             0.42     325.339          325.340    \n",
      "\n",
      " Calculating duals\n",
      "\n",
      "                         *** Normal completion ***            \n",
      "\n",
      " Wall clock time:                     0.42\n",
      " Total CPU time used:                 0.42\n",
      "\n",
      " Total no. of BaR iterations:       1\n",
      " Best solution found at node:       1\n",
      " Max. no. of nodes in memory:       1\n",
      " \n",
      " All done\n",
      "===========================================================================\n"
     ]
    },
    {
     "data": {
      "text/plain": [
       "5-element Vector{Float64}:\n",
       " 0.0\n",
       " 0.0\n",
       " 1.0\n",
       " 0.0\n",
       " 0.0"
      ]
     },
     "execution_count": 81,
     "metadata": {},
     "output_type": "execute_result"
    }
   ],
   "source": [
    "yk, tk, xk, yi, ti, s, co2, costInn, co2tot=tech_roadmap_mccormick_peicewise_self()\n",
    "yi\n"
   ]
  },
  {
   "cell_type": "code",
   "execution_count": 82,
   "id": "b4f63b97-8e5f-4b63-8535-b19d99aab222",
   "metadata": {},
   "outputs": [
    {
     "data": {
      "text/plain": [
       "5-element Vector{Float64}:\n",
       "  0.0\n",
       "  0.0\n",
       " 16.25\n",
       "  0.0\n",
       "  0.0"
      ]
     },
     "execution_count": 82,
     "metadata": {},
     "output_type": "execute_result"
    }
   ],
   "source": [
    "ti"
   ]
  },
  {
   "cell_type": "code",
   "execution_count": 83,
   "id": "b1112d72-1fcc-461f-8d56-0abb7d01d9a2",
   "metadata": {},
   "outputs": [
    {
     "data": {
      "text/plain": [
       "197.56474994009506"
      ]
     },
     "execution_count": 83,
     "metadata": {},
     "output_type": "execute_result"
    }
   ],
   "source": [
    "costInn"
   ]
  },
  {
   "cell_type": "code",
   "execution_count": 77,
   "id": "13367c8a",
   "metadata": {},
   "outputs": [
    {
     "data": {
      "text/plain": [
       "25-element Vector{Float64}:\n",
       "  0.0\n",
       "  0.0\n",
       " 10.0\n",
       "  0.0\n",
       "  0.0\n",
       "  0.0\n",
       "  0.0\n",
       "  0.0\n",
       "  0.0\n",
       "  0.0\n",
       "  0.0\n",
       "  0.0\n",
       "  0.0\n",
       "  0.0\n",
       "  0.0\n",
       "  0.0\n",
       "  0.0\n",
       "  0.0\n",
       "  0.0\n",
       "  0.0\n",
       "  0.0\n",
       "  0.0\n",
       "  0.0\n",
       "  0.0\n",
       "  0.0"
      ]
     },
     "execution_count": 77,
     "metadata": {},
     "output_type": "execute_result"
    }
   ],
   "source": [
    "tk"
   ]
  },
  {
   "cell_type": "code",
   "execution_count": 78,
   "id": "baa9385f",
   "metadata": {},
   "outputs": [
    {
     "data": {
      "text/plain": [
       "112.80000000000001"
      ]
     },
     "execution_count": 78,
     "metadata": {},
     "output_type": "execute_result"
    }
   ],
   "source": [
    "co2tot*40*0.001"
   ]
  },
  {
   "cell_type": "code",
   "execution_count": 79,
   "id": "2a487c68",
   "metadata": {},
   "outputs": [
    {
     "data": {
      "text/plain": [
       "5-element Vector{Float64}:\n",
       " 1.0\n",
       " 0.0\n",
       " 0.0\n",
       " 0.0\n",
       " 0.0"
      ]
     },
     "execution_count": 79,
     "metadata": {},
     "output_type": "execute_result"
    }
   ],
   "source": [
    "yi"
   ]
  },
  {
   "cell_type": "code",
   "execution_count": 69,
   "id": "c6f1ba5c",
   "metadata": {},
   "outputs": [
    {
     "data": {
      "text/plain": [
       "25-element Vector{Float64}:\n",
       "  0.0\n",
       "  0.0\n",
       "  0.0\n",
       "  0.0\n",
       "  0.0\n",
       "  0.0\n",
       "  0.0\n",
       "  0.0\n",
       "  0.0\n",
       "  0.0\n",
       "  0.0\n",
       "  0.0\n",
       " 16.25\n",
       "  0.0\n",
       "  0.0\n",
       "  0.0\n",
       "  0.0\n",
       "  0.0\n",
       "  0.0\n",
       "  0.0\n",
       "  0.0\n",
       "  0.0\n",
       "  0.0\n",
       "  0.0\n",
       "  0.0"
      ]
     },
     "execution_count": 69,
     "metadata": {},
     "output_type": "execute_result"
    }
   ],
   "source": [
    "tk"
   ]
  },
  {
   "cell_type": "code",
   "execution_count": 70,
   "id": "f89dc476",
   "metadata": {},
   "outputs": [
    {
     "data": {
      "text/plain": [
       "25-element Vector{Float64}:\n",
       " 0.0\n",
       " 0.0\n",
       " 0.0\n",
       " 0.0\n",
       " 0.0\n",
       " 0.0\n",
       " 0.0\n",
       " 0.0\n",
       " 0.0\n",
       " 0.0\n",
       " 0.0\n",
       " 0.0\n",
       " 1.0\n",
       " 0.0\n",
       " 0.0\n",
       " 0.0\n",
       " 0.0\n",
       " 0.0\n",
       " 0.0\n",
       " 0.0\n",
       " 0.0\n",
       " 0.0\n",
       " 0.0\n",
       " 0.0\n",
       " 0.0"
      ]
     },
     "execution_count": 70,
     "metadata": {},
     "output_type": "execute_result"
    }
   ],
   "source": [
    "xk\n"
   ]
  },
  {
   "cell_type": "code",
   "execution_count": 71,
   "id": "8cee8b14",
   "metadata": {},
   "outputs": [
    {
     "data": {
      "text/plain": [
       "25-element Vector{Float64}:\n",
       " 0.0\n",
       " 0.0\n",
       " 0.0\n",
       " 0.0\n",
       " 0.0\n",
       " 0.0\n",
       " 0.0\n",
       " 0.0\n",
       " 0.0\n",
       " 0.0\n",
       " 0.0\n",
       " 0.0\n",
       " 1.0\n",
       " 0.0\n",
       " 0.0\n",
       " 0.0\n",
       " 0.0\n",
       " 0.0\n",
       " 0.0\n",
       " 0.0\n",
       " 0.0\n",
       " 0.0\n",
       " 0.0\n",
       " 0.0\n",
       " 0.0"
      ]
     },
     "execution_count": 71,
     "metadata": {},
     "output_type": "execute_result"
    }
   ],
   "source": [
    "yk"
   ]
  },
  {
   "cell_type": "code",
   "execution_count": 21,
   "id": "a2fc12dc-fdb1-4420-aec5-214d711dff10",
   "metadata": {},
   "outputs": [
    {
     "data": {
      "text/plain": [
       "5-element Vector{Float64}:\n",
       " 1.0848157491777743\n",
       " 3.0\n",
       " 4.0\n",
       " 2.0\n",
       " 4.0"
      ]
     },
     "execution_count": 21,
     "metadata": {},
     "output_type": "execute_result"
    }
   ],
   "source": [
    "s"
   ]
  },
  {
   "cell_type": "code",
   "execution_count": null,
   "id": "f69f8002-be30-4258-93bf-d9c0652c8b5c",
   "metadata": {},
   "outputs": [],
   "source": []
  }
 ],
 "metadata": {
  "kernelspec": {
   "display_name": "Julia 1.6.3",
   "language": "julia",
   "name": "julia-1.6"
  },
  "language_info": {
   "file_extension": ".jl",
   "mimetype": "application/julia",
   "name": "julia",
   "version": "1.6.3"
  }
 },
 "nbformat": 4,
 "nbformat_minor": 5
}
