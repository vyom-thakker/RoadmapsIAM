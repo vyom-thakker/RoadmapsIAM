{
 "cells": [
  {
   "cell_type": "code",
   "execution_count": 9,
   "id": "0cd38929",
   "metadata": {},
   "outputs": [],
   "source": [
    "using JuMP\n",
    "using Ipopt\n",
    "using CSV\n",
    "using GraphRecipes, Plots\n",
    "using LightGraphs\n",
    "using LinearAlgebra\n",
    "using SparseArrays\n",
    "using DataFrames\n",
    "using Juniper, Alpine"
   ]
  },
  {
   "cell_type": "code",
   "execution_count": 10,
   "id": "6cd49756",
   "metadata": {},
   "outputs": [
    {
     "data": {
      "text/html": [
       "<div class=\"data-frame\"><p>1 rows × 6 columns</p><table class=\"data-frame\"><thead><tr><th></th><th>k</th><th>i</th><th>GWP</th><th>Theta</th><th>Per_Recycl</th><th>Per_Comp</th></tr><tr><th></th><th title=\"Int64\">Int64</th><th title=\"Int64\">Int64</th><th title=\"Int64\">Int64</th><th title=\"Float64\">Float64</th><th title=\"Float64\">Float64</th><th title=\"Int64\">Int64</th></tr></thead><tbody><tr><th>1</th><td>0</td><td>0</td><td>100</td><td>0.25</td><td>0.12</td><td>0</td></tr></tbody></table></div>"
      ],
      "text/latex": [
       "\\begin{tabular}{r|cccccc}\n",
       "\t& k & i & GWP & Theta & Per\\_Recycl & Per\\_Comp\\\\\n",
       "\t\\hline\n",
       "\t& Int64 & Int64 & Int64 & Float64 & Float64 & Int64\\\\\n",
       "\t\\hline\n",
       "\t1 & 0 & 0 & 100 & 0.25 & 0.12 & 0 \\\\\n",
       "\\end{tabular}\n"
      ],
      "text/plain": [
       "\u001b[1m1×6 DataFrame\u001b[0m\n",
       "\u001b[1m Row \u001b[0m│\u001b[1m k     \u001b[0m\u001b[1m i     \u001b[0m\u001b[1m GWP   \u001b[0m\u001b[1m Theta   \u001b[0m\u001b[1m Per_Recycl \u001b[0m\u001b[1m Per_Comp \u001b[0m\n",
       "\u001b[1m     \u001b[0m│\u001b[90m Int64 \u001b[0m\u001b[90m Int64 \u001b[0m\u001b[90m Int64 \u001b[0m\u001b[90m Float64 \u001b[0m\u001b[90m Float64    \u001b[0m\u001b[90m Int64    \u001b[0m\n",
       "─────┼────────────────────────────────────────────────────\n",
       "   1 │     0      0    100     0.25        0.12         0"
      ]
     },
     "execution_count": 10,
     "metadata": {},
     "output_type": "execute_result"
    }
   ],
   "source": [
    "innovations = CSV.File(\"./innovations.csv\",header=1,delim=\",\") |> DataFrame\n",
    "mapki = CSV.File(\"./map-ki.csv\",header=1,delim=\",\") |> DataFrame\n",
    "compromise = CSV.File(\"./compromise.csv\",header=1,delim=\",\") |> DataFrame\n",
    "initial = CSV.File(\"./initial.csv\",header=1,delim=\",\") |> DataFrame\n"
   ]
  },
  {
   "cell_type": "code",
   "execution_count": 11,
   "id": "39405933",
   "metadata": {},
   "outputs": [
    {
     "name": "stdout",
     "output_type": "stream",
     "text": [
      "1"
     ]
    }
   ],
   "source": [
    "i=5\n",
    "p=i-4\n",
    "print(p)"
   ]
  },
  {
   "cell_type": "code",
   "execution_count": 19,
   "id": "b9a5bd8e",
   "metadata": {},
   "outputs": [
    {
     "data": {
      "text/plain": [
       "tech_roadmap (generic function with 1 method)"
      ]
     },
     "execution_count": 19,
     "metadata": {},
     "output_type": "execute_result"
    }
   ],
   "source": [
    "function tech_roadmap()\n",
    "    rdmap=Model(Alpine.Optimizer)\n",
    "    @variable(rdmap,yk[k=1:nrow(compromise)],Bin)\n",
    "    @variable(rdmap,0 ≤ tk[k=1:nrow(compromise)] ≤ 50)\n",
    "    @variable(rdmap,0 ≤ xk[k=1:nrow(compromise)] ≤ 1)\n",
    "    @variable(rdmap,yi[i=1:nrow(innovations)],Bin)\n",
    "    @variable(rdmap,0 ≤ ti[i=1:nrow(innovations)] ≤ 50)\n",
    "    \n",
    "    @constraint(rdmap, [i=1], sum(yk[k] for k=1:mapki[i,2])==yi[i])\n",
    "    @constraint(rdmap, [i=2:nrow(mapki)], sum(yk[k] for k=mapki[i-1,2]:mapki[i,2])==yi[i])\n",
    "    \n",
    "    @constraint(rdmap, [i=1,k=1:mapki[i,2]], ti[i] ≤ tk[k])\n",
    "    @constraint(rdmap, [i=2:nrow(mapki),k=mapki[i-1,2]:mapki[i,2]], ti[i] ≤ tk[k])\n",
    "    \n",
    "    @constraint(rdmap, [i=1:nrow(mapki)], 50*yi[i] ≥ ti[i])\n",
    "    @constraint(rdmap, [k=1:nrow(compromise)], 50*yk[k] ≥ tk[k])\n",
    "    \n",
    "    @constraint(rdmap, [k=1:nrow(compromise)], yk[k] ≥ xk[k])\n",
    "    @constraint(rdmap, sum(xk[k] for k in 1:nrow(compromise)) ≤ 1) \n",
    "    \n",
    "    \n",
    "    dummy=10\n",
    "    @objective(rdmap,Min,dummy)\n",
    "    \n",
    "    optimize!(rdmap)\n",
    "    return JuMP.value.(yk)  \n",
    "end"
   ]
  },
  {
   "cell_type": "code",
   "execution_count": 20,
   "id": "e971da9a",
   "metadata": {},
   "outputs": [
    {
     "ename": "LoadError",
     "evalue": "MethodError: no method matching initialize(::Nothing, ::Vector{Symbol})\n\u001b[0mClosest candidates are:\n\u001b[0m  initialize(\u001b[91m::MathOptInterface.Test.HS071\u001b[39m, ::Vector{Symbol}) at /home/thakker.8/.julia/packages/MathOptInterface/YDdD3/src/Test/nlp.jl:22\n\u001b[0m  initialize(\u001b[91m::MathOptInterface.Test.FeasibilitySenseEvaluator\u001b[39m, ::Vector{Symbol}) at /home/thakker.8/.julia/packages/MathOptInterface/YDdD3/src/Test/nlp.jl:280\n\u001b[0m  initialize(\u001b[91m::NLPEvaluator\u001b[39m, ::Vector{Symbol}) at /home/thakker.8/.julia/packages/JuMP/klrjG/src/nlp.jl:411\n\u001b[0m  ...",
     "output_type": "error",
     "traceback": [
      "MethodError: no method matching initialize(::Nothing, ::Vector{Symbol})\n\u001b[0mClosest candidates are:\n\u001b[0m  initialize(\u001b[91m::MathOptInterface.Test.HS071\u001b[39m, ::Vector{Symbol}) at /home/thakker.8/.julia/packages/MathOptInterface/YDdD3/src/Test/nlp.jl:22\n\u001b[0m  initialize(\u001b[91m::MathOptInterface.Test.FeasibilitySenseEvaluator\u001b[39m, ::Vector{Symbol}) at /home/thakker.8/.julia/packages/MathOptInterface/YDdD3/src/Test/nlp.jl:280\n\u001b[0m  initialize(\u001b[91m::NLPEvaluator\u001b[39m, ::Vector{Symbol}) at /home/thakker.8/.julia/packages/JuMP/klrjG/src/nlp.jl:411\n\u001b[0m  ...",
      "",
      "Stacktrace:",
      "  [1] load!(m::Alpine.Optimizer)",
      "    @ Alpine ~/.julia/packages/Alpine/0w1zg/src/solver.jl:486",
      "  [2] optimize!(m::Alpine.Optimizer)",
      "    @ Alpine ~/.julia/packages/Alpine/0w1zg/src/algorithm.jl:17",
      "  [3] optimize!(b::MathOptInterface.Bridges.LazyBridgeOptimizer{Alpine.Optimizer})",
      "    @ MathOptInterface.Bridges ~/.julia/packages/MathOptInterface/YDdD3/src/Bridges/bridge_optimizer.jl:319",
      "  [4] optimize!(m::MathOptInterface.Utilities.CachingOptimizer{MathOptInterface.AbstractOptimizer, MathOptInterface.Utilities.UniversalFallback{MathOptInterface.Utilities.GenericModel{Float64, MathOptInterface.Utilities.ModelFunctionConstraints{Float64}}}})",
      "    @ MathOptInterface.Utilities ~/.julia/packages/MathOptInterface/YDdD3/src/Utilities/cachingoptimizer.jl:252",
      "  [5] optimize!(model::Model, optimizer_factory::Nothing; bridge_constraints::Bool, ignore_optimize_hook::Bool, kwargs::Base.Iterators.Pairs{Union{}, Union{}, Tuple{}, NamedTuple{(), Tuple{}}})",
      "    @ JuMP ~/.julia/packages/JuMP/klrjG/src/optimizer_interface.jl:185",
      "  [6] optimize! (repeats 2 times)",
      "    @ ~/.julia/packages/JuMP/klrjG/src/optimizer_interface.jl:157 [inlined]",
      "  [7] tech_roadmap()",
      "    @ Main ./In[19]:25",
      "  [8] top-level scope",
      "    @ In[20]:1",
      "  [9] eval",
      "    @ ./boot.jl:360 [inlined]",
      " [10] include_string(mapexpr::typeof(REPL.softscope), mod::Module, code::String, filename::String)",
      "    @ Base ./loading.jl:1116"
     ]
    }
   ],
   "source": [
    "y=tech_roadmap()"
   ]
  },
  {
   "cell_type": "code",
   "execution_count": null,
   "id": "385863c0",
   "metadata": {},
   "outputs": [],
   "source": []
  },
  {
   "cell_type": "code",
   "execution_count": null,
   "id": "7daab2db",
   "metadata": {},
   "outputs": [],
   "source": []
  }
 ],
 "metadata": {
  "kernelspec": {
   "display_name": "Julia 1.6.3",
   "language": "julia",
   "name": "julia-1.6"
  },
  "language_info": {
   "file_extension": ".jl",
   "mimetype": "application/julia",
   "name": "julia",
   "version": "1.6.3"
  }
 },
 "nbformat": 4,
 "nbformat_minor": 5
}
