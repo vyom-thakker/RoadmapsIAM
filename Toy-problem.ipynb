{
 "cells": [
  {
   "cell_type": "code",
   "execution_count": 1,
   "id": "0cd38929",
   "metadata": {},
   "outputs": [],
   "source": [
    "using JuMP\n",
    "using Ipopt\n",
    "using CSV\n",
    "using GraphRecipes, Plots\n",
    "using LightGraphs\n",
    "using LinearAlgebra\n",
    "using SparseArrays\n",
    "using DataFrames\n",
    "using Juniper, Alpine"
   ]
  },
  {
   "cell_type": "code",
   "execution_count": 2,
   "id": "6cd49756",
   "metadata": {},
   "outputs": [
    {
     "data": {
      "text/html": [
       "<div class=\"data-frame\"><p>1 rows × 6 columns</p><table class=\"data-frame\"><thead><tr><th></th><th>k</th><th>i</th><th>GWP</th><th>Theta</th><th>Per_Recycl</th><th>Per_Comp</th></tr><tr><th></th><th title=\"Int64\">Int64</th><th title=\"Int64\">Int64</th><th title=\"Int64\">Int64</th><th title=\"Float64\">Float64</th><th title=\"Float64\">Float64</th><th title=\"Int64\">Int64</th></tr></thead><tbody><tr><th>1</th><td>0</td><td>0</td><td>100</td><td>0.25</td><td>0.12</td><td>0</td></tr></tbody></table></div>"
      ],
      "text/latex": [
       "\\begin{tabular}{r|cccccc}\n",
       "\t& k & i & GWP & Theta & Per\\_Recycl & Per\\_Comp\\\\\n",
       "\t\\hline\n",
       "\t& Int64 & Int64 & Int64 & Float64 & Float64 & Int64\\\\\n",
       "\t\\hline\n",
       "\t1 & 0 & 0 & 100 & 0.25 & 0.12 & 0 \\\\\n",
       "\\end{tabular}\n"
      ],
      "text/plain": [
       "\u001b[1m1×6 DataFrame\u001b[0m\n",
       "\u001b[1m Row \u001b[0m│\u001b[1m k     \u001b[0m\u001b[1m i     \u001b[0m\u001b[1m GWP   \u001b[0m\u001b[1m Theta   \u001b[0m\u001b[1m Per_Recycl \u001b[0m\u001b[1m Per_Comp \u001b[0m\n",
       "\u001b[1m     \u001b[0m│\u001b[90m Int64 \u001b[0m\u001b[90m Int64 \u001b[0m\u001b[90m Int64 \u001b[0m\u001b[90m Float64 \u001b[0m\u001b[90m Float64    \u001b[0m\u001b[90m Int64    \u001b[0m\n",
       "─────┼────────────────────────────────────────────────────\n",
       "   1 │     0      0    100     0.25        0.12         0"
      ]
     },
     "execution_count": 2,
     "metadata": {},
     "output_type": "execute_result"
    }
   ],
   "source": [
    "innovations = CSV.File(\"./innovations.csv\",header=1,delim=\",\") |> DataFrame\n",
    "mapki = CSV.File(\"./map-ki.csv\",header=1,delim=\",\") |> DataFrame\n",
    "compromise = CSV.File(\"./compromise.csv\",header=1,delim=\",\") |> DataFrame\n",
    "initial = CSV.File(\"./initial.csv\",header=1,delim=\",\") |> DataFrame\n"
   ]
  },
  {
   "cell_type": "code",
   "execution_count": 3,
   "id": "39405933",
   "metadata": {},
   "outputs": [
    {
     "name": "stdout",
     "output_type": "stream",
     "text": [
      "1"
     ]
    }
   ],
   "source": [
    "i=5\n",
    "p=i-4\n",
    "print(p)"
   ]
  },
  {
   "cell_type": "code",
   "execution_count": 4,
   "id": "b9a5bd8e",
   "metadata": {},
   "outputs": [
    {
     "data": {
      "text/plain": [
       "tech_roadmap (generic function with 1 method)"
      ]
     },
     "execution_count": 4,
     "metadata": {},
     "output_type": "execute_result"
    }
   ],
   "source": [
    "function tech_roadmap()\n",
    "    rdmap=Model(Alpine.Optimizer)\n",
    "    @variable(rdmap,yk[k=1:nrow(compromise)],Bin)\n",
    "    @variable(rdmap,0 ≤ tk[k=1:nrow(compromise)] ≤ 50)\n",
    "    @variable(rdmap,0 ≤ xk[k=1:nrow(compromise)] ≤ 1)\n",
    "    @variable(rdmap,yi[i=1:nrow(innovations)],Bin)\n",
    "    @variable(rdmap,0 ≤ ti[i=1:nrow(innovations)] ≤ 50)\n",
    "    \n",
    "    @constraint(rdmap, [i=1], sum(yk[k] for k=1:mapki[i,2])==yi[i])\n",
    "    @constraint(rdmap, [i=2:nrow(mapki)], sum(yk[k] for k=mapki[i-1,2]:mapki[i,2])==yi[i])\n",
    "    \n",
    "    @constraint(rdmap, [i=1,k=1:mapki[i,2]], ti[i] ≤ tk[k])\n",
    "    @constraint(rdmap, [i=2:nrow(mapki),k=mapki[i-1,2]:mapki[i,2]], ti[i] ≤ tk[k])\n",
    "    \n",
    "    @constraint(rdmap, [i=1:nrow(mapki)], 50*yi[i] ≥ ti[i])\n",
    "    @constraint(rdmap, [k=1:nrow(compromise)], 50*yk[k] ≥ tk[k])\n",
    "    \n",
    "    @constraint(rdmap, [k=1:nrow(compromise)], yk[k] ≥ xk[k])\n",
    "    @constraint(rdmap, sum(xk[k] for k in 1:nrow(compromise)) ≤ 1) \n",
    "    \n",
    "    \n",
    "    dummy=10\n",
    "    @objective(rdmap,Min,dummy)\n",
    "    \n",
    "    optimize!(rdmap)\n",
    "    return JuMP.value.(yk)  \n",
    "end"
   ]
  },
  {
   "cell_type": "code",
   "execution_count": 5,
   "id": "e971da9a",
   "metadata": {},
   "outputs": [
    {
     "ename": "LoadError",
     "evalue": "MethodError: no method matching initialize(::Nothing, ::Vector{Symbol})\n\u001b[0mClosest candidates are:\n\u001b[0m  initialize(\u001b[91m::MathOptInterface.Test.HS071\u001b[39m, ::Vector{Symbol}) at /home/thakker.8/.julia/packages/MathOptInterface/YDdD3/src/Test/nlp.jl:22\n\u001b[0m  initialize(\u001b[91m::MathOptInterface.Test.FeasibilitySenseEvaluator\u001b[39m, ::Vector{Symbol}) at /home/thakker.8/.julia/packages/MathOptInterface/YDdD3/src/Test/nlp.jl:280\n\u001b[0m  initialize(\u001b[91m::NLPEvaluator\u001b[39m, ::Vector{Symbol}) at /home/thakker.8/.julia/packages/JuMP/klrjG/src/nlp.jl:411\n\u001b[0m  ...",
     "output_type": "error",
     "traceback": [
      "MethodError: no method matching initialize(::Nothing, ::Vector{Symbol})\n\u001b[0mClosest candidates are:\n\u001b[0m  initialize(\u001b[91m::MathOptInterface.Test.HS071\u001b[39m, ::Vector{Symbol}) at /home/thakker.8/.julia/packages/MathOptInterface/YDdD3/src/Test/nlp.jl:22\n\u001b[0m  initialize(\u001b[91m::MathOptInterface.Test.FeasibilitySenseEvaluator\u001b[39m, ::Vector{Symbol}) at /home/thakker.8/.julia/packages/MathOptInterface/YDdD3/src/Test/nlp.jl:280\n\u001b[0m  initialize(\u001b[91m::NLPEvaluator\u001b[39m, ::Vector{Symbol}) at /home/thakker.8/.julia/packages/JuMP/klrjG/src/nlp.jl:411\n\u001b[0m  ...",
      "",
      "Stacktrace:",
      "  [1] load!(m::Alpine.Optimizer)",
      "    @ Alpine ~/.julia/packages/Alpine/0w1zg/src/solver.jl:486",
      "  [2] optimize!(m::Alpine.Optimizer)",
      "    @ Alpine ~/.julia/packages/Alpine/0w1zg/src/algorithm.jl:17",
      "  [3] optimize!(b::MathOptInterface.Bridges.LazyBridgeOptimizer{Alpine.Optimizer})",
      "    @ MathOptInterface.Bridges ~/.julia/packages/MathOptInterface/YDdD3/src/Bridges/bridge_optimizer.jl:319",
      "  [4] optimize!(m::MathOptInterface.Utilities.CachingOptimizer{MathOptInterface.AbstractOptimizer, MathOptInterface.Utilities.UniversalFallback{MathOptInterface.Utilities.GenericModel{Float64, MathOptInterface.Utilities.ModelFunctionConstraints{Float64}}}})",
      "    @ MathOptInterface.Utilities ~/.julia/packages/MathOptInterface/YDdD3/src/Utilities/cachingoptimizer.jl:252",
      "  [5] optimize!(model::Model, optimizer_factory::Nothing; bridge_constraints::Bool, ignore_optimize_hook::Bool, kwargs::Base.Iterators.Pairs{Union{}, Union{}, Tuple{}, NamedTuple{(), Tuple{}}})",
      "    @ JuMP ~/.julia/packages/JuMP/klrjG/src/optimizer_interface.jl:185",
      "  [6] optimize! (repeats 2 times)",
      "    @ ~/.julia/packages/JuMP/klrjG/src/optimizer_interface.jl:157 [inlined]",
      "  [7] tech_roadmap()",
      "    @ Main ./In[4]:25",
      "  [8] top-level scope",
      "    @ In[5]:1",
      "  [9] eval",
      "    @ ./boot.jl:360 [inlined]",
      " [10] include_string(mapexpr::typeof(REPL.softscope), mod::Module, code::String, filename::String)",
      "    @ Base ./loading.jl:1116"
     ]
    }
   ],
   "source": [
    "y=tech_roadmap()"
   ]
  },
  {
   "cell_type": "code",
   "execution_count": 30,
   "id": "385863c0",
   "metadata": {},
   "outputs": [
    {
     "data": {
      "text/plain": [
       "5-element Vector{Int64}:\n",
       "  92\n",
       " 122\n",
       "  78\n",
       " 131\n",
       "  95"
      ]
     },
     "execution_count": 30,
     "metadata": {},
     "output_type": "execute_result"
    }
   ],
   "source": [
    "ci=innovations[!,2]"
   ]
  },
  {
   "cell_type": "code",
   "execution_count": 6,
   "id": "7daab2db",
   "metadata": {},
   "outputs": [
    {
     "data": {
      "text/html": [
       "<div class=\"data-frame\"><p>5 rows × 32 columns (omitted printing of 23 columns)</p><table class=\"data-frame\"><thead><tr><th></th><th>i</th><th>Cost_per_RL</th><th>Sojourn1</th><th>Sojourn2</th><th>Sojourn3</th><th>Sojourn4</th><th>Sojourn5</th><th>P11</th><th>P12</th></tr><tr><th></th><th title=\"Int64\">Int64</th><th title=\"Int64\">Int64</th><th title=\"Float64\">Float64</th><th title=\"Float64\">Float64</th><th title=\"Float64\">Float64</th><th title=\"Float64\">Float64</th><th title=\"Float64\">Float64</th><th title=\"Int64\">Int64</th><th title=\"Float64\">Float64</th></tr></thead><tbody><tr><th>1</th><td>1</td><td>92</td><td>4.6</td><td>1.34</td><td>2.04</td><td>0.12</td><td>8.86</td><td>0</td><td>0.76</td></tr><tr><th>2</th><td>2</td><td>122</td><td>8.32</td><td>8.84</td><td>0.65</td><td>9.9</td><td>9.65</td><td>0</td><td>0.774</td></tr><tr><th>3</th><td>3</td><td>78</td><td>4.44</td><td>1.21</td><td>5.09</td><td>6.52</td><td>8.67</td><td>0</td><td>0.756</td></tr><tr><th>4</th><td>4</td><td>131</td><td>5.48</td><td>7.62</td><td>3.34</td><td>5.05</td><td>5.6</td><td>0</td><td>0.754</td></tr><tr><th>5</th><td>5</td><td>95</td><td>9.94</td><td>2.38</td><td>7.94</td><td>3.82</td><td>5.44</td><td>0</td><td>0.764</td></tr></tbody></table></div>"
      ],
      "text/latex": [
       "\\begin{tabular}{r|cccccccccc}\n",
       "\t& i & Cost\\_per\\_RL & Sojourn1 & Sojourn2 & Sojourn3 & Sojourn4 & Sojourn5 & P11 & P12 & \\\\\n",
       "\t\\hline\n",
       "\t& Int64 & Int64 & Float64 & Float64 & Float64 & Float64 & Float64 & Int64 & Float64 & \\\\\n",
       "\t\\hline\n",
       "\t1 & 1 & 92 & 4.6 & 1.34 & 2.04 & 0.12 & 8.86 & 0 & 0.76 & $\\dots$ \\\\\n",
       "\t2 & 2 & 122 & 8.32 & 8.84 & 0.65 & 9.9 & 9.65 & 0 & 0.774 & $\\dots$ \\\\\n",
       "\t3 & 3 & 78 & 4.44 & 1.21 & 5.09 & 6.52 & 8.67 & 0 & 0.756 & $\\dots$ \\\\\n",
       "\t4 & 4 & 131 & 5.48 & 7.62 & 3.34 & 5.05 & 5.6 & 0 & 0.754 & $\\dots$ \\\\\n",
       "\t5 & 5 & 95 & 9.94 & 2.38 & 7.94 & 3.82 & 5.44 & 0 & 0.764 & $\\dots$ \\\\\n",
       "\\end{tabular}\n"
      ],
      "text/plain": [
       "\u001b[1m5×32 DataFrame\u001b[0m\n",
       "\u001b[1m Row \u001b[0m│\u001b[1m i     \u001b[0m\u001b[1m Cost_per_RL \u001b[0m\u001b[1m Sojourn1 \u001b[0m\u001b[1m Sojourn2 \u001b[0m\u001b[1m Sojourn3 \u001b[0m\u001b[1m Sojourn4 \u001b[0m\u001b[1m Sojourn5 \u001b[0m\u001b[1m P\u001b[0m ⋯\n",
       "\u001b[1m     \u001b[0m│\u001b[90m Int64 \u001b[0m\u001b[90m Int64       \u001b[0m\u001b[90m Float64  \u001b[0m\u001b[90m Float64  \u001b[0m\u001b[90m Float64  \u001b[0m\u001b[90m Float64  \u001b[0m\u001b[90m Float64  \u001b[0m\u001b[90m I\u001b[0m ⋯\n",
       "─────┼──────────────────────────────────────────────────────────────────────────\n",
       "   1 │     1           92      4.6       1.34      2.04      0.12      8.86    ⋯\n",
       "   2 │     2          122      8.32      8.84      0.65      9.9       9.65\n",
       "   3 │     3           78      4.44      1.21      5.09      6.52      8.67\n",
       "   4 │     4          131      5.48      7.62      3.34      5.05      5.6\n",
       "   5 │     5           95      9.94      2.38      7.94      3.82      5.44    ⋯\n",
       "\u001b[36m                                                              25 columns omitted\u001b[0m"
      ]
     },
     "execution_count": 6,
     "metadata": {},
     "output_type": "execute_result"
    }
   ],
   "source": [
    "innovations"
   ]
  },
  {
   "cell_type": "code",
   "execution_count": 19,
   "id": "a60414f8",
   "metadata": {},
   "outputs": [
    {
     "data": {
      "text/plain": [
       "2-element Vector{Vector{Vector{Real}}}:\n",
       " [[0, 0.76, 0.21, 0.03, 0]]\n",
       " [[0, 0.76, 0.21, 0.03, 0]]"
      ]
     },
     "execution_count": 19,
     "metadata": {},
     "output_type": "execute_result"
    }
   ],
   "source": [
    "i=1\n",
    "eDtmc=[[collect(innovations[i,8:12])],[collect(innovations[i,8:12])]]"
   ]
  },
  {
   "cell_type": "code",
   "execution_count": 9,
   "id": "525e6be7",
   "metadata": {},
   "outputs": [
    {
     "data": {
      "text/html": [
       "<p>DataFrameRow (5 columns)</p><div class=\"data-frame\"><table class=\"data-frame\"><thead><tr><th></th><th>P11</th><th>P12</th><th>P13</th><th>P14</th><th>P15</th></tr><tr><th></th><th title=\"Int64\">Int64</th><th title=\"Float64\">Float64</th><th title=\"Float64\">Float64</th><th title=\"Float64\">Float64</th><th title=\"Int64\">Int64</th></tr></thead><tbody><tr><th>1</th><td>0</td><td>0.76</td><td>0.21</td><td>0.03</td><td>0</td></tr></tbody></table></div>"
      ],
      "text/latex": [
       "\\begin{tabular}{r|ccccc}\n",
       "\t& P11 & P12 & P13 & P14 & P15\\\\\n",
       "\t\\hline\n",
       "\t& Int64 & Float64 & Float64 & Float64 & Int64\\\\\n",
       "\t\\hline\n",
       "\t1 & 0 & 0.76 & 0.21 & 0.03 & 0 \\\\\n",
       "\\end{tabular}\n"
      ],
      "text/plain": [
       "\u001b[1mDataFrameRow\u001b[0m\n",
       "\u001b[1m Row \u001b[0m│\u001b[1m P11   \u001b[0m\u001b[1m P12     \u001b[0m\u001b[1m P13     \u001b[0m\u001b[1m P14     \u001b[0m\u001b[1m P15   \u001b[0m\n",
       "\u001b[1m     \u001b[0m│\u001b[90m Int64 \u001b[0m\u001b[90m Float64 \u001b[0m\u001b[90m Float64 \u001b[0m\u001b[90m Float64 \u001b[0m\u001b[90m Int64 \u001b[0m\n",
       "─────┼─────────────────────────────────────────\n",
       "   1 │     0     0.76     0.21     0.03      0"
      ]
     },
     "execution_count": 9,
     "metadata": {},
     "output_type": "execute_result"
    }
   ],
   "source": [
    "innovations[1,8:12]"
   ]
  },
  {
   "cell_type": "code",
   "execution_count": null,
   "id": "b349464a",
   "metadata": {},
   "outputs": [],
   "source": []
  },
  {
   "cell_type": "code",
   "execution_count": 18,
   "id": "048bd6da",
   "metadata": {},
   "outputs": [
    {
     "data": {
      "text/plain": [
       "5-element Vector{Real}:\n",
       " 0\n",
       " 0.76\n",
       " 0.21\n",
       " 0.03\n",
       " 0"
      ]
     },
     "execution_count": 18,
     "metadata": {},
     "output_type": "execute_result"
    }
   ],
   "source": [
    "collect(innovations[i,8:12])"
   ]
  },
  {
   "cell_type": "code",
   "execution_count": 74,
   "id": "b8cb075f",
   "metadata": {},
   "outputs": [
    {
     "data": {
      "text/plain": [
       "get_rate_mat (generic function with 1 method)"
      ]
     },
     "execution_count": 74,
     "metadata": {},
     "output_type": "execute_result"
    }
   ],
   "source": [
    "function get_transition_mat(i)\n",
    "    p_mat=reshape(collect(innovations[i,8:32]),5,5)\n",
    "    return p_mat\n",
    "end\n",
    "\n",
    "\n",
    "function get_rate_mat(i)\n",
    "    p_mat=get_transition_mat(i)\n",
    "    q_mat=p_mat.*collect(innovations[i,3:7])\n",
    "    for i in 1:5\n",
    "        q_mat[i,i]=-1*sum(q_mat[i,j] for j in 1:5 if j!=i)\n",
    "    end\n",
    "    return q_mat\n",
    "end"
   ]
  },
  {
   "cell_type": "code",
   "execution_count": 75,
   "id": "2945163c",
   "metadata": {},
   "outputs": [
    {
     "data": {
      "text/plain": [
       "5×5 Matrix{Float64}:\n",
       " -2.13564   1.60284   0.5328     0.0       0.0\n",
       "  0.91476  -1.17491   0.24321    0.01694   0.0\n",
       "  0.97219   2.97765  -4.96784    1.018     0.0\n",
       "  0.34556   0.35208   4.15976  -11.3774    6.52\n",
       "  0.0       0.0       0.35547    6.81462  -7.17009"
      ]
     },
     "execution_count": 75,
     "metadata": {},
     "output_type": "execute_result"
    }
   ],
   "source": [
    "g=get_rate_mat(3)"
   ]
  },
  {
   "cell_type": "code",
   "execution_count": 85,
   "id": "9d70e055",
   "metadata": {},
   "outputs": [
    {
     "data": {
      "image/svg+xml": [
       "<?xml version=\"1.0\" encoding=\"utf-8\"?>\n",
       "<svg xmlns=\"http://www.w3.org/2000/svg\" xmlns:xlink=\"http://www.w3.org/1999/xlink\" width=\"600\" height=\"400\" viewBox=\"0 0 2400 1600\">\n",
       "<defs>\n",
       "  <clipPath id=\"clip240\">\n",
       "    <rect x=\"0\" y=\"0\" width=\"2400\" height=\"1600\"/>\n",
       "  </clipPath>\n",
       "</defs>\n",
       "<path clip-path=\"url(#clip240)\" d=\"\n",
       "M0 1600 L2400 1600 L2400 0 L0 0  Z\n",
       "  \" fill=\"#ffffff\" fill-rule=\"evenodd\" fill-opacity=\"1\"/>\n",
       "<defs>\n",
       "  <clipPath id=\"clip241\">\n",
       "    <rect x=\"480\" y=\"0\" width=\"1681\" height=\"1600\"/>\n",
       "  </clipPath>\n",
       "</defs>\n",
       "<path clip-path=\"url(#clip240)\" d=\"\n",
       "M447.244 1552.76 L1952.76 1552.76 L1952.76 47.2441 L447.244 47.2441  Z\n",
       "  \" fill=\"#ffffff\" fill-rule=\"evenodd\" fill-opacity=\"1\"/>\n",
       "<defs>\n",
       "  <clipPath id=\"clip242\">\n",
       "    <rect x=\"447\" y=\"47\" width=\"1507\" height=\"1507\"/>\n",
       "  </clipPath>\n",
       "</defs>\n",
       "<polyline clip-path=\"url(#clip242)\" style=\"stroke:#000000; stroke-linecap:butt; stroke-linejoin:round; stroke-width:4; stroke-opacity:0.7; fill:none\" points=\"\n",
       "  545.33,1123.44 539.134,1127.05 532.969,1130.66 526.869,1134.24 520.867,1137.81 514.993,1141.33 509.281,1144.82 503.764,1148.25 498.472,1151.62 493.439,1154.91 \n",
       "  488.697,1158.13 484.279,1161.26 480.216,1164.3 476.538,1167.23 473.252,1170.04 470.352,1172.75 467.83,1175.33 465.683,1177.79 463.902,1180.12 462.483,1182.32 \n",
       "  461.42,1184.38 460.705,1186.3 460.334,1188.07 460.301,1189.69 460.598,1191.16 461.221,1192.47 462.167,1193.61 463.439,1194.58 465.038,1195.37 466.967,1195.96 \n",
       "  469.228,1196.36 471.823,1196.55 474.754,1196.52 478.024,1196.27 481.635,1195.79 485.588,1195.06 489.887,1194.09 494.532,1192.85 499.517,1191.36 504.815,1189.63 \n",
       "  510.398,1187.68 516.237,1185.54 522.304,1183.23 528.57,1180.77 535.007,1178.17 541.586,1175.47 548.28,1172.68 555.058,1169.83 561.894,1166.93 568.758,1164.01 \n",
       "  \n",
       "  \"/>\n",
       "<polyline clip-path=\"url(#clip242)\" style=\"stroke:#000000; stroke-linecap:butt; stroke-linejoin:round; stroke-width:4; stroke-opacity:0.7; fill:none\" points=\"\n",
       "  528.585,1161.53 568.758,1164.01 542.671,1194.66 \n",
       "  \"/>\n",
       "<polyline clip-path=\"url(#clip242)\" style=\"stroke:#000000; stroke-linecap:butt; stroke-linejoin:round; stroke-width:4; stroke-opacity:0.7; fill:none\" points=\"\n",
       "  568.758,1164.01 561.894,1166.93 \n",
       "  \"/>\n",
       "<polyline clip-path=\"url(#clip242)\" style=\"stroke:#000000; stroke-linecap:butt; stroke-linejoin:round; stroke-width:4; stroke-opacity:0.7; fill:none\" points=\"\n",
       "  662.317,1091.38 677.859,1075.52 693.361,1059.67 708.785,1043.82 724.089,1027.99 739.236,1012.18 754.185,996.389 768.897,980.625 783.332,964.893 797.452,949.195 \n",
       "  811.215,933.538 824.583,917.925 837.517,902.361 849.976,886.851 861.922,871.398 873.314,856.007 884.114,840.683 894.281,825.43 903.776,810.252 912.56,795.155 \n",
       "  920.593,780.142 927.836,765.217 934.248,750.386 939.792,735.653 944.426,721.021 948.114,706.497 950.854,692.078 952.686,677.762 953.649,663.543 953.781,649.418 \n",
       "  953.123,635.382 951.714,621.43 949.594,607.558 946.802,593.761 943.377,580.036 939.36,566.377 934.79,552.78 929.705,539.241 924.147,525.755 918.154,512.318 \n",
       "  911.765,498.926 905.021,485.574 897.961,472.257 890.624,458.971 883.05,445.712 875.279,432.475 867.349,419.256 859.301,406.05 851.174,392.853 843.007,379.66 \n",
       "  \n",
       "  \"/>\n",
       "<polyline clip-path=\"url(#clip242)\" style=\"stroke:#000000; stroke-linecap:butt; stroke-linejoin:round; stroke-width:4; stroke-opacity:0.7; fill:none\" points=\"\n",
       "  846.651,419.744 843.007,379.66 877.26,400.795 \n",
       "  \"/>\n",
       "<polyline clip-path=\"url(#clip242)\" style=\"stroke:#000000; stroke-linecap:butt; stroke-linejoin:round; stroke-width:4; stroke-opacity:0.7; fill:none\" points=\"\n",
       "  843.007,379.66 851.174,392.853 \n",
       "  \"/>\n",
       "<polyline clip-path=\"url(#clip242)\" style=\"stroke:#000000; stroke-linecap:butt; stroke-linejoin:round; stroke-width:4; stroke-opacity:0.7; fill:none\" points=\"\n",
       "  662.317,1091.38 667.462,1107.88 672.615,1124.35 677.783,1140.75 682.973,1157.03 688.193,1173.18 693.451,1189.13 698.754,1204.87 704.11,1220.35 709.526,1235.54 \n",
       "  715.009,1250.4 720.568,1264.89 726.209,1278.98 731.941,1292.63 737.77,1305.81 743.705,1318.47 749.753,1330.58 755.921,1342.11 762.216,1353.02 768.648,1363.27 \n",
       "  775.222,1372.82 781.946,1381.64 788.828,1389.69 795.876,1396.93 803.097,1403.34 810.498,1408.86 818.079,1413.51 825.833,1417.32 833.753,1420.32 841.831,1422.56 \n",
       "  850.059,1424.06 858.429,1424.86 866.936,1425.01 875.57,1424.54 884.324,1423.47 893.191,1421.86 902.164,1419.74 911.234,1417.14 920.395,1414.11 929.638,1410.67 \n",
       "  938.957,1406.86 948.343,1402.73 957.789,1398.3 967.288,1393.61 976.832,1388.71 986.414,1383.62 996.026,1378.39 1005.66,1373.04 1015.31,1367.63 1024.97,1362.17 \n",
       "  \n",
       "  \"/>\n",
       "<polyline clip-path=\"url(#clip242)\" style=\"stroke:#000000; stroke-linecap:butt; stroke-linejoin:round; stroke-width:4; stroke-opacity:0.7; fill:none\" points=\"\n",
       "  984.768,1364.2 1024.97,1362.17 1002.47,1395.55 \n",
       "  \"/>\n",
       "<polyline clip-path=\"url(#clip242)\" style=\"stroke:#000000; stroke-linecap:butt; stroke-linejoin:round; stroke-width:4; stroke-opacity:0.7; fill:none\" points=\"\n",
       "  1024.97,1362.17 1015.31,1367.63 \n",
       "  \"/>\n",
       "<polyline clip-path=\"url(#clip242)\" style=\"stroke:#000000; stroke-linecap:butt; stroke-linejoin:round; stroke-width:4; stroke-opacity:0.7; fill:none\" points=\"\n",
       "  806.695,262.317 791.153,278.174 775.65,294.027 760.227,309.871 744.922,325.701 729.776,341.514 714.827,357.304 700.115,373.068 685.679,388.801 671.56,404.498 \n",
       "  657.797,420.155 644.429,435.768 631.495,451.332 619.036,466.843 607.09,482.296 595.698,497.686 584.898,513.011 574.731,528.264 565.236,543.441 556.452,558.539 \n",
       "  548.419,573.552 541.176,588.476 534.763,603.307 529.22,618.041 524.586,632.672 520.898,647.197 518.157,661.615 516.326,675.931 515.363,690.15 515.231,704.275 \n",
       "  515.889,718.312 517.298,732.264 519.418,746.136 522.21,759.932 525.635,773.658 529.652,787.317 534.222,800.914 539.306,814.452 544.865,827.938 550.858,841.375 \n",
       "  557.247,854.767 563.991,868.12 571.051,881.437 578.388,894.723 585.962,907.982 593.733,921.219 601.663,934.438 609.711,947.644 617.838,960.841 626.005,974.033 \n",
       "  \n",
       "  \"/>\n",
       "<polyline clip-path=\"url(#clip242)\" style=\"stroke:#000000; stroke-linecap:butt; stroke-linejoin:round; stroke-width:4; stroke-opacity:0.7; fill:none\" points=\"\n",
       "  622.361,933.949 626.005,974.033 591.752,952.898 \n",
       "  \"/>\n",
       "<polyline clip-path=\"url(#clip242)\" style=\"stroke:#000000; stroke-linecap:butt; stroke-linejoin:round; stroke-width:4; stroke-opacity:0.7; fill:none\" points=\"\n",
       "  626.005,974.033 617.838,960.841 \n",
       "  \"/>\n",
       "<polyline clip-path=\"url(#clip242)\" style=\"stroke:#000000; stroke-linecap:butt; stroke-linejoin:round; stroke-width:4; stroke-opacity:0.7; fill:none\" points=\"\n",
       "  836.217,379.66 829.436,361.032 822.688,342.536 816.01,324.302 809.436,306.463 802.999,289.149 796.735,272.493 790.679,256.626 784.864,241.678 779.325,227.783 \n",
       "  774.097,215.07 769.214,203.672 764.71,193.72 760.618,185.329 756.931,178.468 753.629,173.035 750.69,168.923 748.091,166.029 745.811,164.246 743.828,163.471 \n",
       "  742.12,163.598 740.665,164.523 739.441,166.14 738.426,168.345 737.598,171.032 736.936,174.098 736.419,177.441 736.029,180.965 735.749,184.572 735.561,188.167 \n",
       "  735.445,191.653 735.385,194.933 735.363,197.911 735.36,200.49 735.358,202.573 735.34,204.064 735.287,204.866 735.182,204.883 735.014,204.072 734.786,202.491 \n",
       "  734.505,200.209 734.175,197.297 733.802,193.825 733.391,189.862 732.948,185.48 732.478,180.747 731.986,175.735 731.478,170.512 730.959,165.149 730.435,159.716 \n",
       "  \n",
       "  \"/>\n",
       "<polyline clip-path=\"url(#clip242)\" style=\"stroke:#000000; stroke-linecap:butt; stroke-linejoin:round; stroke-width:4; stroke-opacity:0.7; fill:none\" points=\"\n",
       "  715.975,197.278 730.435,159.716 751.809,193.822 \n",
       "  \"/>\n",
       "<polyline clip-path=\"url(#clip242)\" style=\"stroke:#000000; stroke-linecap:butt; stroke-linejoin:round; stroke-width:4; stroke-opacity:0.7; fill:none\" points=\"\n",
       "  730.435,159.716 730.959,165.149 \n",
       "  \"/>\n",
       "<polyline clip-path=\"url(#clip242)\" style=\"stroke:#000000; stroke-linecap:butt; stroke-linejoin:round; stroke-width:4; stroke-opacity:0.7; fill:none\" points=\"\n",
       "  806.695,262.317 801.875,289.234 797.089,316.128 792.371,342.975 787.755,369.753 783.274,396.437 778.962,423.004 774.853,449.432 770.981,475.697 767.379,501.775 \n",
       "  764.082,527.644 761.124,553.279 758.538,578.659 756.358,603.758 754.618,628.555 753.351,653.026 752.593,677.147 752.375,700.895 752.733,724.247 753.701,747.18 \n",
       "  755.311,769.67 757.598,791.694 760.595,813.229 764.337,834.251 768.858,854.737 774.189,874.665 780.331,894.035 787.251,912.869 794.916,931.19 803.291,949.022 \n",
       "  812.344,966.388 822.039,983.311 832.343,999.815 843.223,1015.92 854.644,1031.66 866.573,1047.04 878.975,1062.1 891.818,1076.86 905.066,1091.33 918.687,1105.56 \n",
       "  932.646,1119.54 946.91,1133.32 961.444,1146.91 976.215,1160.34 991.19,1173.63 1006.33,1186.8 1021.61,1199.88 1036.99,1212.89 1052.44,1225.85 1067.92,1238.79 \n",
       "  \n",
       "  \"/>\n",
       "<polyline clip-path=\"url(#clip242)\" style=\"stroke:#000000; stroke-linecap:butt; stroke-linejoin:round; stroke-width:4; stroke-opacity:0.7; fill:none\" points=\"\n",
       "  1051.84,1201.89 1067.92,1238.79 1028.76,1229.51 \n",
       "  \"/>\n",
       "<polyline clip-path=\"url(#clip242)\" style=\"stroke:#000000; stroke-linecap:butt; stroke-linejoin:round; stroke-width:4; stroke-opacity:0.7; fill:none\" points=\"\n",
       "  1067.92,1238.79 1052.44,1225.85 \n",
       "  \"/>\n",
       "<polyline clip-path=\"url(#clip242)\" style=\"stroke:#000000; stroke-linecap:butt; stroke-linejoin:round; stroke-width:4; stroke-opacity:0.7; fill:none\" points=\"\n",
       "  806.695,262.317 811.301,279.106 815.916,295.858 820.549,312.538 825.208,329.109 829.903,345.535 834.641,361.779 839.432,377.805 844.286,393.577 849.209,409.059 \n",
       "  854.212,424.214 859.303,439.005 864.491,453.398 869.785,467.355 875.194,480.839 880.725,493.816 886.389,506.248 892.194,518.099 898.149,529.333 904.263,539.913 \n",
       "  910.544,549.804 917.001,558.968 923.644,567.37 930.48,574.973 937.519,581.741 944.769,587.639 952.231,592.668 959.895,596.861 967.753,600.256 975.796,602.888 \n",
       "  984.016,604.794 992.403,606.01 1000.95,606.573 1009.64,606.519 1018.48,605.883 1027.45,604.703 1036.54,603.015 1045.75,600.855 1055.06,598.259 1064.47,595.264 \n",
       "  1073.97,591.905 1083.54,588.22 1093.19,584.245 1102.9,580.015 1112.66,575.567 1122.47,570.938 1132.31,566.164 1142.18,561.281 1152.06,556.325 1161.96,551.333 \n",
       "  \n",
       "  \"/>\n",
       "<polyline clip-path=\"url(#clip242)\" style=\"stroke:#000000; stroke-linecap:butt; stroke-linejoin:round; stroke-width:4; stroke-opacity:0.7; fill:none\" points=\"\n",
       "  1121.71,551.479 1161.96,551.333 1137.92,583.62 \n",
       "  \"/>\n",
       "<polyline clip-path=\"url(#clip242)\" style=\"stroke:#000000; stroke-linecap:butt; stroke-linejoin:round; stroke-width:4; stroke-opacity:0.7; fill:none\" points=\"\n",
       "  1161.96,551.333 1152.06,556.325 \n",
       "  \"/>\n",
       "<polyline clip-path=\"url(#clip242)\" style=\"stroke:#000000; stroke-linecap:butt; stroke-linejoin:round; stroke-width:4; stroke-opacity:0.7; fill:none\" points=\"\n",
       "  1146.32,1337.68 1141.18,1321.18 1136.02,1304.71 1130.86,1288.31 1125.67,1272.02 1120.45,1255.88 1115.19,1239.93 1109.89,1224.19 1104.53,1208.71 1099.11,1193.52 \n",
       "  1093.63,1178.66 1088.07,1164.17 1082.43,1150.08 1076.7,1136.43 1070.87,1123.25 1064.93,1110.59 1058.89,1098.47 1052.72,1086.95 1046.42,1076.04 1039.99,1065.79 \n",
       "  1033.42,1056.24 1026.69,1047.42 1019.81,1039.37 1012.76,1032.13 1005.54,1025.72 998.141,1020.2 990.56,1015.55 982.806,1011.74 974.886,1008.74 966.809,1006.5 \n",
       "  958.581,1005 950.21,1004.2 941.703,1004.05 933.069,1004.52 924.315,1005.58 915.448,1007.19 906.475,1009.32 897.405,1011.91 888.244,1014.95 879.001,1018.39 \n",
       "  869.683,1022.2 860.296,1026.33 850.85,1030.76 841.351,1035.45 831.807,1040.35 822.225,1045.44 812.614,1050.67 802.979,1056.01 793.33,1061.43 783.673,1066.88 \n",
       "  \n",
       "  \"/>\n",
       "<polyline clip-path=\"url(#clip242)\" style=\"stroke:#000000; stroke-linecap:butt; stroke-linejoin:round; stroke-width:4; stroke-opacity:0.7; fill:none\" points=\"\n",
       "  823.871,1064.86 783.673,1066.88 806.169,1033.51 \n",
       "  \"/>\n",
       "<polyline clip-path=\"url(#clip242)\" style=\"stroke:#000000; stroke-linecap:butt; stroke-linejoin:round; stroke-width:4; stroke-opacity:0.7; fill:none\" points=\"\n",
       "  783.673,1066.88 793.33,1061.43 \n",
       "  \"/>\n",
       "<polyline clip-path=\"url(#clip242)\" style=\"stroke:#000000; stroke-linecap:butt; stroke-linejoin:round; stroke-width:4; stroke-opacity:0.7; fill:none\" points=\"\n",
       "  1146.32,1337.68 1151.14,1310.77 1155.93,1283.87 1160.65,1257.02 1165.26,1230.25 1169.74,1203.56 1174.06,1177 1178.16,1150.57 1182.04,1124.3 1185.64,1098.22 \n",
       "  1188.93,1072.36 1191.89,1046.72 1194.48,1021.34 1196.66,996.242 1198.4,971.445 1199.67,946.974 1200.42,922.853 1200.64,899.105 1200.28,875.753 1199.32,852.82 \n",
       "  1197.71,830.33 1195.42,808.306 1192.42,786.771 1188.68,765.749 1184.16,745.263 1178.83,725.335 1172.69,705.965 1165.77,687.131 1158.1,668.81 1149.73,650.978 \n",
       "  1140.67,633.612 1130.98,616.689 1120.67,600.185 1109.79,584.078 1098.37,568.343 1086.44,552.957 1074.04,537.898 1061.2,523.142 1047.95,508.665 1034.33,494.445 \n",
       "  1020.37,480.458 1006.11,466.68 991.573,453.089 976.801,439.661 961.827,426.372 946.683,413.2 931.404,400.122 916.024,387.113 900.576,374.151 885.094,361.212 \n",
       "  \n",
       "  \"/>\n",
       "<polyline clip-path=\"url(#clip242)\" style=\"stroke:#000000; stroke-linecap:butt; stroke-linejoin:round; stroke-width:4; stroke-opacity:0.7; fill:none\" points=\"\n",
       "  901.174,398.109 885.094,361.212 924.26,370.486 \n",
       "  \"/>\n",
       "<polyline clip-path=\"url(#clip242)\" style=\"stroke:#000000; stroke-linecap:butt; stroke-linejoin:round; stroke-width:4; stroke-opacity:0.7; fill:none\" points=\"\n",
       "  885.094,361.212 900.576,374.151 \n",
       "  \"/>\n",
       "<polyline clip-path=\"url(#clip242)\" style=\"stroke:#000000; stroke-linecap:butt; stroke-linejoin:round; stroke-width:4; stroke-opacity:0.7; fill:none\" points=\"\n",
       "  1106.27,1455.03 1105.82,1462.01 1105.39,1468.96 1104.97,1475.86 1104.58,1482.66 1104.24,1489.34 1103.95,1495.87 1103.72,1502.21 1103.57,1508.35 1103.5,1514.24 \n",
       "  1103.53,1519.86 1103.66,1525.18 1103.91,1530.16 1104.28,1534.79 1104.78,1539.04 1105.4,1542.92 1106.12,1546.44 1106.95,1549.59 1107.88,1552.37 1108.9,1554.79 \n",
       "  1110,1556.84 1111.18,1558.53 1112.43,1559.86 1113.75,1560.83 1115.12,1561.45 1116.55,1561.7 1118.02,1561.59 1119.53,1561.12 1121.07,1560.27 1122.64,1559.03 \n",
       "  1124.23,1557.4 1125.85,1555.37 1127.47,1552.93 1129.1,1550.07 1130.73,1546.79 1132.36,1543.08 1133.98,1538.92 1135.58,1534.32 1137.17,1529.28 1138.74,1523.83 \n",
       "  1140.29,1518 1141.83,1511.85 1143.35,1505.39 1144.87,1498.68 1146.37,1491.74 1147.87,1484.62 1149.36,1477.35 1150.85,1469.97 1152.33,1462.52 1153.82,1455.03 \n",
       "  \n",
       "  \"/>\n",
       "<polyline clip-path=\"url(#clip242)\" style=\"stroke:#000000; stroke-linecap:butt; stroke-linejoin:round; stroke-width:4; stroke-opacity:0.7; fill:none\" points=\"\n",
       "  1129.17,1486.85 1153.82,1455.03 1164.49,1493.83 \n",
       "  \"/>\n",
       "<polyline clip-path=\"url(#clip242)\" style=\"stroke:#000000; stroke-linecap:butt; stroke-linejoin:round; stroke-width:4; stroke-opacity:0.7; fill:none\" points=\"\n",
       "  1153.82,1455.03 1152.33,1462.52 \n",
       "  \"/>\n",
       "<polyline clip-path=\"url(#clip242)\" style=\"stroke:#000000; stroke-linecap:butt; stroke-linejoin:round; stroke-width:4; stroke-opacity:0.7; fill:none\" points=\"\n",
       "  1146.32,1337.68 1161.76,1322.31 1177.17,1306.95 1192.49,1291.59 1207.69,1276.24 1222.74,1260.92 1237.59,1245.61 1252.21,1230.34 1266.55,1215.09 1280.57,1199.88 \n",
       "  1294.24,1184.71 1307.52,1169.58 1320.36,1154.5 1332.73,1139.48 1344.59,1124.51 1355.9,1109.61 1366.62,1094.77 1376.71,1080 1386.13,1065.31 1394.84,1050.7 \n",
       "  1402.8,1036.17 1409.98,1021.74 1416.32,1007.39 1421.81,993.144 1426.38,978.999 1430.02,964.96 1432.71,951.028 1434.5,937.198 1435.42,923.466 1435.51,909.827 \n",
       "  1434.81,896.276 1433.37,882.811 1431.22,869.425 1428.4,856.115 1424.95,842.875 1420.91,829.703 1416.32,816.592 1411.22,803.539 1405.64,790.54 1399.64,777.589 \n",
       "  1393.23,764.683 1386.48,751.817 1379.41,738.986 1372.06,726.187 1364.48,713.414 1356.7,700.663 1348.76,687.93 1340.71,675.211 1332.57,662.5 1324.4,649.794 \n",
       "  \n",
       "  \"/>\n",
       "<polyline clip-path=\"url(#clip242)\" style=\"stroke:#000000; stroke-linecap:butt; stroke-linejoin:round; stroke-width:4; stroke-opacity:0.7; fill:none\" points=\"\n",
       "  1328.74,689.809 1324.4,649.794 1359.02,670.333 \n",
       "  \"/>\n",
       "<polyline clip-path=\"url(#clip242)\" style=\"stroke:#000000; stroke-linecap:butt; stroke-linejoin:round; stroke-width:4; stroke-opacity:0.7; fill:none\" points=\"\n",
       "  1324.4,649.794 1332.57,662.5 \n",
       "  \"/>\n",
       "<polyline clip-path=\"url(#clip242)\" style=\"stroke:#000000; stroke-linecap:butt; stroke-linejoin:round; stroke-width:4; stroke-opacity:0.7; fill:none\" points=\"\n",
       "  1286.55,532.451 1264.57,535.248 1242.63,538.066 1220.76,540.926 1198.98,543.848 1177.34,546.852 1155.88,549.961 1134.61,553.193 1113.58,556.571 1092.82,560.114 \n",
       "  1072.37,563.844 1052.26,567.781 1032.51,571.945 1013.18,576.359 994.281,581.042 975.86,586.014 957.946,591.298 940.574,596.913 923.777,602.88 907.59,609.22 \n",
       "  892.046,615.954 877.179,623.102 863.024,630.686 849.613,638.725 836.981,647.24 825.16,656.252 814.15,665.76 803.919,675.745 794.433,686.186 785.658,697.061 \n",
       "  777.56,708.351 770.105,720.035 763.26,732.091 756.99,744.5 751.262,757.24 746.042,770.291 741.296,783.632 736.99,797.243 733.09,811.102 729.563,825.188 \n",
       "  726.374,839.482 723.49,853.963 720.877,868.609 718.501,883.4 716.328,898.316 714.325,913.335 712.456,928.437 710.69,943.601 708.991,958.807 707.326,974.033 \n",
       "  \n",
       "  \"/>\n",
       "<polyline clip-path=\"url(#clip242)\" style=\"stroke:#000000; stroke-linecap:butt; stroke-linejoin:round; stroke-width:4; stroke-opacity:0.7; fill:none\" points=\"\n",
       "  729.133,940.203 707.326,974.033 693.346,936.29 \n",
       "  \"/>\n",
       "<polyline clip-path=\"url(#clip242)\" style=\"stroke:#000000; stroke-linecap:butt; stroke-linejoin:round; stroke-width:4; stroke-opacity:0.7; fill:none\" points=\"\n",
       "  707.326,974.033 708.991,958.807 \n",
       "  \"/>\n",
       "<polyline clip-path=\"url(#clip242)\" style=\"stroke:#000000; stroke-linecap:butt; stroke-linejoin:round; stroke-width:4; stroke-opacity:0.7; fill:none\" points=\"\n",
       "  1286.55,532.451 1281.94,515.662 1277.33,498.91 1272.7,482.23 1268.04,465.659 1263.34,449.233 1258.6,432.989 1253.81,416.963 1248.96,401.191 1244.04,385.709 \n",
       "  1239.03,370.554 1233.94,355.762 1228.75,341.37 1223.46,327.413 1218.05,313.928 1212.52,300.952 1206.86,288.52 1201.05,276.669 1195.1,265.435 1188.98,254.855 \n",
       "  1182.7,244.964 1176.24,235.8 1169.6,227.398 1162.77,219.795 1155.73,213.027 1148.48,207.129 1141.02,202.1 1133.35,197.907 1125.49,194.512 1117.45,191.88 \n",
       "  1109.23,189.974 1100.84,188.757 1092.3,188.195 1083.6,188.249 1074.77,188.885 1065.8,190.065 1056.71,191.753 1047.5,193.913 1038.19,196.509 1028.78,199.504 \n",
       "  1019.28,202.863 1009.7,206.548 1000.05,210.523 990.346,214.753 980.584,219.201 970.778,223.83 960.936,228.604 951.069,233.487 941.183,238.443 931.289,243.435 \n",
       "  \n",
       "  \"/>\n",
       "<polyline clip-path=\"url(#clip242)\" style=\"stroke:#000000; stroke-linecap:butt; stroke-linejoin:round; stroke-width:4; stroke-opacity:0.7; fill:none\" points=\"\n",
       "  971.538,243.289 931.289,243.435 955.321,211.148 \n",
       "  \"/>\n",
       "<polyline clip-path=\"url(#clip242)\" style=\"stroke:#000000; stroke-linecap:butt; stroke-linejoin:round; stroke-width:4; stroke-opacity:0.7; fill:none\" points=\"\n",
       "  931.289,243.435 941.183,238.443 \n",
       "  \"/>\n",
       "<polyline clip-path=\"url(#clip242)\" style=\"stroke:#000000; stroke-linecap:butt; stroke-linejoin:round; stroke-width:4; stroke-opacity:0.7; fill:none\" points=\"\n",
       "  1286.55,532.451 1271.11,547.821 1255.71,563.188 1240.38,578.545 1225.18,593.889 1210.13,609.216 1195.28,624.52 1180.66,639.798 1166.33,655.044 1152.3,670.255 \n",
       "  1138.63,685.426 1125.35,700.553 1112.51,715.63 1100.14,730.655 1088.28,745.621 1076.97,760.526 1066.25,775.364 1056.17,790.13 1046.75,804.822 1038.04,819.433 \n",
       "  1030.07,833.96 1022.9,848.398 1016.55,862.743 1011.07,876.99 1006.49,891.135 1002.85,905.173 1000.16,919.106 998.378,932.936 997.458,946.668 997.365,960.307 \n",
       "  998.059,973.857 999.501,987.323 1001.65,1000.71 1004.47,1014.02 1007.92,1027.26 1011.96,1040.43 1016.55,1053.54 1021.65,1066.59 1027.23,1079.59 1033.24,1092.54 \n",
       "  1039.64,1105.45 1046.39,1118.32 1053.47,1131.15 1060.81,1143.95 1068.39,1156.72 1076.17,1169.47 1084.11,1182.2 1092.17,1194.92 1100.3,1207.63 1108.47,1220.34 \n",
       "  \n",
       "  \"/>\n",
       "<polyline clip-path=\"url(#clip242)\" style=\"stroke:#000000; stroke-linecap:butt; stroke-linejoin:round; stroke-width:4; stroke-opacity:0.7; fill:none\" points=\"\n",
       "  1104.14,1180.32 1108.47,1220.34 1073.86,1199.8 \n",
       "  \"/>\n",
       "<polyline clip-path=\"url(#clip242)\" style=\"stroke:#000000; stroke-linecap:butt; stroke-linejoin:round; stroke-width:4; stroke-opacity:0.7; fill:none\" points=\"\n",
       "  1108.47,1220.34 1100.3,1207.63 \n",
       "  \"/>\n",
       "<polyline clip-path=\"url(#clip242)\" style=\"stroke:#000000; stroke-linecap:butt; stroke-linejoin:round; stroke-width:4; stroke-opacity:0.7; fill:none\" points=\"\n",
       "  1382.21,463.447 1387.28,457.15 1392.33,450.878 1397.31,444.657 1402.2,438.512 1406.96,432.47 1411.56,426.555 1415.98,420.793 1420.17,415.209 1424.11,409.83 \n",
       "  1427.77,404.68 1431.11,399.785 1434.11,395.171 1436.73,390.861 1438.98,386.86 1440.86,383.164 1442.38,379.77 1443.56,376.673 1444.41,373.87 1444.94,371.357 \n",
       "  1445.17,369.129 1445.09,367.183 1444.73,365.514 1444.1,364.119 1443.2,362.993 1442.05,362.134 1440.66,361.539 1439.03,361.213 1437.17,361.157 1435.08,361.374 \n",
       "  1432.77,361.867 1430.24,362.639 1427.5,363.692 1424.56,365.03 1421.41,366.655 1418.07,368.569 1414.54,370.776 1410.82,373.278 1406.92,376.069 1402.87,379.127 \n",
       "  1398.66,382.428 1394.32,385.947 1389.86,389.66 1385.3,393.543 1380.65,397.572 1375.92,401.722 1371.14,405.969 1366.31,410.288 1361.45,414.657 1356.57,419.049 \n",
       "  \n",
       "  \"/>\n",
       "<polyline clip-path=\"url(#clip242)\" style=\"stroke:#000000; stroke-linecap:butt; stroke-linejoin:round; stroke-width:4; stroke-opacity:0.7; fill:none\" points=\"\n",
       "  1395.37,408.318 1356.57,419.049 1371.27,381.577 \n",
       "  \"/>\n",
       "<polyline clip-path=\"url(#clip242)\" style=\"stroke:#000000; stroke-linecap:butt; stroke-linejoin:round; stroke-width:4; stroke-opacity:0.7; fill:none\" points=\"\n",
       "  1356.57,419.049 1361.45,414.657 \n",
       "  \"/>\n",
       "<polyline clip-path=\"url(#clip242)\" style=\"stroke:#000000; stroke-linecap:butt; stroke-linejoin:round; stroke-width:4; stroke-opacity:0.7; fill:none\" points=\"\n",
       "  1286.55,532.451 1285.83,554.204 1285.14,575.927 1284.49,597.59 1283.93,619.164 1283.47,640.617 1283.14,661.921 1282.97,683.044 1282.98,703.959 1283.19,724.633 \n",
       "  1283.65,745.037 1284.36,765.142 1285.36,784.917 1286.68,804.333 1288.33,823.359 1290.35,841.966 1292.76,860.122 1295.59,877.8 1298.86,894.968 1302.6,911.596 \n",
       "  1306.84,927.655 1311.6,943.115 1316.91,957.946 1322.79,972.117 1329.27,985.598 1336.38,998.362 1344.11,1010.41 1352.44,1021.76 1361.35,1032.46 1370.8,1042.53 \n",
       "  1380.78,1052 1391.25,1060.9 1402.19,1069.26 1413.58,1077.11 1425.38,1084.48 1437.58,1091.4 1450.14,1097.9 1463.04,1104.01 1476.25,1109.77 1489.75,1115.19 \n",
       "  1503.51,1120.31 1517.51,1125.16 1531.71,1129.78 1546.1,1134.18 1560.64,1138.41 1575.32,1142.48 1590.09,1146.43 1604.95,1150.3 1619.86,1154.1 1634.79,1157.88 \n",
       "  \n",
       "  \"/>\n",
       "<polyline clip-path=\"url(#clip242)\" style=\"stroke:#000000; stroke-linecap:butt; stroke-linejoin:round; stroke-width:4; stroke-opacity:0.7; fill:none\" points=\"\n",
       "  1604.3,1131.61 1634.79,1157.88 1595.48,1166.51 \n",
       "  \"/>\n",
       "<polyline clip-path=\"url(#clip242)\" style=\"stroke:#000000; stroke-linecap:butt; stroke-linejoin:round; stroke-width:4; stroke-opacity:0.7; fill:none\" points=\"\n",
       "  1634.79,1157.88 1619.86,1154.1 \n",
       "  \"/>\n",
       "<polyline clip-path=\"url(#clip242)\" style=\"stroke:#000000; stroke-linecap:butt; stroke-linejoin:round; stroke-width:4; stroke-opacity:0.7; fill:none\" points=\"\n",
       "  1737.68,1214.36 1722.08,1204.91 1706.49,1195.49 1690.94,1186.15 1675.44,1176.9 1660.01,1167.79 1644.66,1158.85 1629.42,1150.11 1614.31,1141.61 1599.33,1133.38 \n",
       "  1584.51,1125.45 1569.87,1117.86 1555.42,1110.64 1541.17,1103.82 1527.16,1097.45 1513.39,1091.54 1499.88,1086.15 1486.65,1081.29 1473.71,1077 1461.1,1073.33 \n",
       "  1448.81,1070.29 1436.87,1067.93 1425.3,1066.28 1414.11,1065.37 1403.33,1065.24 1392.96,1065.92 1383.02,1067.4 1373.47,1069.66 1364.31,1072.67 1355.51,1076.38 \n",
       "  1347.07,1080.77 1338.96,1085.79 1331.16,1091.43 1323.65,1097.64 1316.43,1104.39 1309.47,1111.65 1302.75,1119.38 1296.26,1127.54 1289.98,1136.12 1283.9,1145.06 \n",
       "  1277.98,1154.34 1272.23,1163.92 1266.61,1173.78 1261.12,1183.87 1255.73,1194.16 1250.43,1204.63 1245.2,1215.22 1240.02,1225.92 1234.87,1236.69 1229.74,1247.49 \n",
       "  \n",
       "  \"/>\n",
       "<polyline clip-path=\"url(#clip242)\" style=\"stroke:#000000; stroke-linecap:butt; stroke-linejoin:round; stroke-width:4; stroke-opacity:0.7; fill:none\" points=\"\n",
       "  1261.44,1222.69 1229.74,1247.49 1228.92,1207.25 \n",
       "  \"/>\n",
       "<polyline clip-path=\"url(#clip242)\" style=\"stroke:#000000; stroke-linecap:butt; stroke-linejoin:round; stroke-width:4; stroke-opacity:0.7; fill:none\" points=\"\n",
       "  1229.74,1247.49 1234.87,1236.69 \n",
       "  \"/>\n",
       "<polyline clip-path=\"url(#clip242)\" style=\"stroke:#000000; stroke-linecap:butt; stroke-linejoin:round; stroke-width:4; stroke-opacity:0.7; fill:none\" points=\"\n",
       "  1737.68,1214.36 1738.4,1192.6 1739.1,1170.88 1739.74,1149.22 1740.31,1127.64 1740.77,1106.19 1741.1,1084.89 1741.27,1063.76 1741.26,1042.85 1741.04,1022.17 \n",
       "  1740.59,1001.77 1739.87,981.665 1738.87,961.89 1737.56,942.474 1735.9,923.448 1733.88,904.841 1731.47,886.685 1728.64,869.007 1725.37,851.839 1721.63,835.211 \n",
       "  1717.39,819.152 1712.63,803.692 1707.33,788.861 1701.44,774.69 1694.96,761.209 1687.86,748.445 1680.12,736.399 1671.79,725.042 1662.88,714.345 1653.43,704.277 \n",
       "  1643.45,694.809 1632.98,685.91 1622.04,677.55 1610.65,669.7 1598.85,662.329 1586.65,655.408 1574.09,648.906 1561.2,642.794 1547.98,637.042 1534.48,631.619 \n",
       "  1520.72,626.496 1506.73,621.643 1492.52,617.029 1478.14,612.625 1463.59,608.401 1448.92,604.327 1434.14,600.373 1419.28,596.508 1404.37,592.704 1389.44,588.93 \n",
       "  \n",
       "  \"/>\n",
       "<polyline clip-path=\"url(#clip242)\" style=\"stroke:#000000; stroke-linecap:butt; stroke-linejoin:round; stroke-width:4; stroke-opacity:0.7; fill:none\" points=\"\n",
       "  1419.93,615.202 1389.44,588.93 1428.75,580.299 \n",
       "  \"/>\n",
       "<polyline clip-path=\"url(#clip242)\" style=\"stroke:#000000; stroke-linecap:butt; stroke-linejoin:round; stroke-width:4; stroke-opacity:0.7; fill:none\" points=\"\n",
       "  1389.44,588.93 1404.37,592.704 \n",
       "  \"/>\n",
       "<polyline clip-path=\"url(#clip242)\" style=\"stroke:#000000; stroke-linecap:butt; stroke-linejoin:round; stroke-width:4; stroke-opacity:0.7; fill:none\" points=\"\n",
       "  1639.77,1149.26 1656.98,1158.35 1674.08,1167.37 1690.96,1176.24 1707.5,1184.9 1723.6,1193.26 1739.14,1201.26 1754.01,1208.81 1768.11,1215.86 1781.31,1222.32 \n",
       "  1793.52,1228.13 1804.61,1233.21 1814.47,1237.48 1823.02,1240.89 1830.27,1243.45 1836.3,1245.22 1841.19,1246.27 1845.05,1246.66 1847.93,1246.45 1849.94,1245.69 \n",
       "  1851.15,1244.46 1851.65,1242.82 1851.53,1240.82 1850.86,1238.53 1849.73,1236.01 1848.22,1233.32 1846.42,1230.53 1844.4,1227.68 1842.24,1224.85 1840.01,1222.08 \n",
       "  1837.78,1219.43 1835.64,1216.97 1833.66,1214.76 1831.9,1212.84 1830.46,1211.28 1829.41,1210.14 1828.81,1209.47 1828.75,1209.33 1829.26,1209.76 1830.31,1210.7 \n",
       "  1831.83,1212.11 1833.8,1213.95 1836.15,1216.17 1838.84,1218.71 1841.82,1221.54 1845.04,1224.6 1848.45,1227.85 1852.01,1231.25 1855.67,1234.73 1859.37,1238.27 \n",
       "  \n",
       "  \"/>\n",
       "<polyline clip-path=\"url(#clip242)\" style=\"stroke:#000000; stroke-linecap:butt; stroke-linejoin:round; stroke-width:4; stroke-opacity:0.7; fill:none\" points=\"\n",
       "  1845.75,1200.39 1859.37,1238.27 1820.9,1226.44 \n",
       "  \"/>\n",
       "<polyline clip-path=\"url(#clip242)\" style=\"stroke:#000000; stroke-linecap:butt; stroke-linejoin:round; stroke-width:4; stroke-opacity:0.7; fill:none\" points=\"\n",
       "  1859.37,1238.27 1855.67,1234.73 \n",
       "  \"/>\n",
       "<path clip-path=\"url(#clip242)\" d=\"\n",
       "M392.14 1227.29 L529.056 1227.29 L529.056 1155.03 L392.14 1155.03 L392.14 1227.29 L392.14 1227.29  Z\n",
       "  \" fill=\"#ffffff\" fill-rule=\"evenodd\" fill-opacity=\"1\"/>\n",
       "<polyline clip-path=\"url(#clip242)\" style=\"stroke:#a9a9a9; stroke-linecap:butt; stroke-linejoin:round; stroke-width:0; stroke-opacity:0.7; fill:none\" points=\"\n",
       "  392.14,1227.29 529.056,1227.29 529.056,1155.03 392.14,1155.03 392.14,1227.29 \n",
       "  \"/>\n",
       "<path clip-path=\"url(#clip242)\" d=\"\n",
       "M892.006 749.878 L1000.77 749.878 L1000.77 677.613 L892.006 677.613 L892.006 749.878 L892.006 749.878  Z\n",
       "  \" fill=\"#ffffff\" fill-rule=\"evenodd\" fill-opacity=\"1\"/>\n",
       "<polyline clip-path=\"url(#clip242)\" style=\"stroke:#a9a9a9; stroke-linecap:butt; stroke-linejoin:round; stroke-width:0; stroke-opacity:0.7; fill:none\" points=\"\n",
       "  892.006,749.878 1000.77,749.878 1000.77,677.613 892.006,677.613 892.006,749.878 \n",
       "  \"/>\n",
       "<path clip-path=\"url(#clip242)\" d=\"\n",
       "M738.317 1442.34 L875.233 1442.34 L875.233 1370.08 L738.317 1370.08 L738.317 1442.34 L738.317 1442.34  Z\n",
       "  \" fill=\"#ffffff\" fill-rule=\"evenodd\" fill-opacity=\"1\"/>\n",
       "<polyline clip-path=\"url(#clip242)\" style=\"stroke:#a9a9a9; stroke-linecap:butt; stroke-linejoin:round; stroke-width:0; stroke-opacity:0.7; fill:none\" points=\"\n",
       "  738.317,1442.34 875.233,1442.34 875.233,1370.08 738.317,1370.08 738.317,1442.34 \n",
       "  \"/>\n",
       "<path clip-path=\"url(#clip242)\" d=\"\n",
       "M454.164 676.08 L591.08 676.08 L591.08 603.816 L454.164 603.816 L454.164 676.08 L454.164 676.08  Z\n",
       "  \" fill=\"#ffffff\" fill-rule=\"evenodd\" fill-opacity=\"1\"/>\n",
       "<polyline clip-path=\"url(#clip242)\" style=\"stroke:#a9a9a9; stroke-linecap:butt; stroke-linejoin:round; stroke-width:0; stroke-opacity:0.7; fill:none\" points=\"\n",
       "  454.164,676.08 591.08,676.08 591.08,603.816 454.164,603.816 454.164,676.08 \n",
       "  \"/>\n",
       "<path clip-path=\"url(#clip242)\" d=\"\n",
       "M669.14 207.164 L806.056 207.164 L806.056 134.9 L669.14 134.9 L669.14 207.164 L669.14 207.164  Z\n",
       "  \" fill=\"#ffffff\" fill-rule=\"evenodd\" fill-opacity=\"1\"/>\n",
       "<polyline clip-path=\"url(#clip242)\" style=\"stroke:#a9a9a9; stroke-linecap:butt; stroke-linejoin:round; stroke-width:0; stroke-opacity:0.7; fill:none\" points=\"\n",
       "  669.14,207.164 806.056,207.164 806.056,134.9 669.14,134.9 669.14,207.164 \n",
       "  \"/>\n",
       "<path clip-path=\"url(#clip242)\" d=\"\n",
       "M702.963 900.904 L839.878 900.904 L839.878 828.64 L702.963 828.64 L702.963 900.904 L702.963 900.904  Z\n",
       "  \" fill=\"#ffffff\" fill-rule=\"evenodd\" fill-opacity=\"1\"/>\n",
       "<polyline clip-path=\"url(#clip242)\" style=\"stroke:#a9a9a9; stroke-linecap:butt; stroke-linejoin:round; stroke-width:0; stroke-opacity:0.7; fill:none\" points=\"\n",
       "  702.963,900.904 839.878,900.904 839.878,828.64 702.963,828.64 702.963,900.904 \n",
       "  \"/>\n",
       "<path clip-path=\"url(#clip242)\" d=\"\n",
       "M859.28 620.933 L1022.95 620.933 L1022.95 548.668 L859.28 548.668 L859.28 620.933 L859.28 620.933  Z\n",
       "  \" fill=\"#ffffff\" fill-rule=\"evenodd\" fill-opacity=\"1\"/>\n",
       "<polyline clip-path=\"url(#clip242)\" style=\"stroke:#a9a9a9; stroke-linecap:butt; stroke-linejoin:round; stroke-width:0; stroke-opacity:0.7; fill:none\" points=\"\n",
       "  859.28,620.933 1022.95,620.933 1022.95,548.668 859.28,548.668 859.28,620.933 \n",
       "  \"/>\n",
       "<path clip-path=\"url(#clip242)\" d=\"\n",
       "M933.407 1058.98 L1070.32 1058.98 L1070.32 986.717 L933.407 986.717 L933.407 1058.98 L933.407 1058.98  Z\n",
       "  \" fill=\"#ffffff\" fill-rule=\"evenodd\" fill-opacity=\"1\"/>\n",
       "<polyline clip-path=\"url(#clip242)\" style=\"stroke:#a9a9a9; stroke-linecap:butt; stroke-linejoin:round; stroke-width:0; stroke-opacity:0.7; fill:none\" points=\"\n",
       "  933.407,1058.98 1070.32,1058.98 1070.32,986.717 933.407,986.717 933.407,1058.98 \n",
       "  \"/>\n",
       "<path clip-path=\"url(#clip242)\" d=\"\n",
       "M1127.21 771.36 L1235.98 771.36 L1235.98 699.096 L1127.21 699.096 L1127.21 771.36 L1127.21 771.36  Z\n",
       "  \" fill=\"#ffffff\" fill-rule=\"evenodd\" fill-opacity=\"1\"/>\n",
       "<polyline clip-path=\"url(#clip242)\" style=\"stroke:#a9a9a9; stroke-linecap:butt; stroke-linejoin:round; stroke-width:0; stroke-opacity:0.7; fill:none\" points=\"\n",
       "  1127.21,771.36 1235.98,771.36 1235.98,699.096 1127.21,699.096 1127.21,771.36 \n",
       "  \"/>\n",
       "<path clip-path=\"url(#clip242)\" d=\"\n",
       "M1046.67 1597.58 L1183.58 1597.58 L1183.58 1525.31 L1046.67 1525.31 L1046.67 1597.58 L1046.67 1597.58  Z\n",
       "  \" fill=\"#ffffff\" fill-rule=\"evenodd\" fill-opacity=\"1\"/>\n",
       "<polyline clip-path=\"url(#clip242)\" style=\"stroke:#a9a9a9; stroke-linecap:butt; stroke-linejoin:round; stroke-width:0; stroke-opacity:0.7; fill:none\" points=\"\n",
       "  1046.67,1597.58 1183.58,1597.58 1183.58,1525.31 1046.67,1525.31 1046.67,1597.58 \n",
       "  \"/>\n",
       "<path clip-path=\"url(#clip242)\" d=\"\n",
       "M1373.94 1008.1 L1482.7 1008.1 L1482.7 935.834 L1373.94 935.834 L1373.94 1008.1 L1373.94 1008.1  Z\n",
       "  \" fill=\"#ffffff\" fill-rule=\"evenodd\" fill-opacity=\"1\"/>\n",
       "<polyline clip-path=\"url(#clip242)\" style=\"stroke:#a9a9a9; stroke-linecap:butt; stroke-linejoin:round; stroke-width:0; stroke-opacity:0.7; fill:none\" points=\"\n",
       "  1373.94,1008.1 1482.7,1008.1 1482.7,935.834 1373.94,935.834 1373.94,1008.1 \n",
       "  \"/>\n",
       "<path clip-path=\"url(#clip242)\" d=\"\n",
       "M762.51 687.815 L899.425 687.815 L899.425 615.551 L762.51 615.551 L762.51 687.815 L762.51 687.815  Z\n",
       "  \" fill=\"#ffffff\" fill-rule=\"evenodd\" fill-opacity=\"1\"/>\n",
       "<polyline clip-path=\"url(#clip242)\" style=\"stroke:#a9a9a9; stroke-linecap:butt; stroke-linejoin:round; stroke-width:0; stroke-opacity:0.7; fill:none\" points=\"\n",
       "  762.51,687.815 899.425,687.815 899.425,615.551 762.51,615.551 762.51,687.815 \n",
       "  \"/>\n",
       "<path clip-path=\"url(#clip242)\" d=\"\n",
       "M1083.67 246.099 L1220.59 246.099 L1220.59 173.835 L1083.67 173.835 L1083.67 246.099 L1083.67 246.099  Z\n",
       "  \" fill=\"#ffffff\" fill-rule=\"evenodd\" fill-opacity=\"1\"/>\n",
       "<polyline clip-path=\"url(#clip242)\" style=\"stroke:#a9a9a9; stroke-linecap:butt; stroke-linejoin:round; stroke-width:0; stroke-opacity:0.7; fill:none\" points=\"\n",
       "  1083.67,246.099 1220.59,246.099 1220.59,173.835 1083.67,173.835 1083.67,246.099 \n",
       "  \"/>\n",
       "<path clip-path=\"url(#clip242)\" d=\"\n",
       "M950.168 934.3 L1058.94 934.3 L1058.94 862.035 L950.168 862.035 L950.168 934.3 L950.168 934.3  Z\n",
       "  \" fill=\"#ffffff\" fill-rule=\"evenodd\" fill-opacity=\"1\"/>\n",
       "<polyline clip-path=\"url(#clip242)\" style=\"stroke:#a9a9a9; stroke-linecap:butt; stroke-linejoin:round; stroke-width:0; stroke-opacity:0.7; fill:none\" points=\"\n",
       "  950.168,934.3 1058.94,934.3 1058.94,862.035 950.168,862.035 950.168,934.3 \n",
       "  \"/>\n",
       "<path clip-path=\"url(#clip242)\" d=\"\n",
       "M1361.36 399.126 L1525.04 399.126 L1525.04 326.861 L1361.36 326.861 L1361.36 399.126 L1361.36 399.126  Z\n",
       "  \" fill=\"#ffffff\" fill-rule=\"evenodd\" fill-opacity=\"1\"/>\n",
       "<polyline clip-path=\"url(#clip242)\" style=\"stroke:#a9a9a9; stroke-linecap:butt; stroke-linejoin:round; stroke-width:0; stroke-opacity:0.7; fill:none\" points=\"\n",
       "  1361.36,399.126 1525.04,399.126 1525.04,326.861 1361.36,326.861 1361.36,399.126 \n",
       "  \"/>\n",
       "<path clip-path=\"url(#clip242)\" d=\"\n",
       "M1278.36 1028.2 L1387.13 1028.2 L1387.13 955.939 L1278.36 955.939 L1278.36 1028.2 L1278.36 1028.2  Z\n",
       "  \" fill=\"#ffffff\" fill-rule=\"evenodd\" fill-opacity=\"1\"/>\n",
       "<polyline clip-path=\"url(#clip242)\" style=\"stroke:#a9a9a9; stroke-linecap:butt; stroke-linejoin:round; stroke-width:0; stroke-opacity:0.7; fill:none\" points=\"\n",
       "  1278.36,1028.2 1387.13,1028.2 1387.13,955.939 1278.36,955.939 1278.36,1028.2 \n",
       "  \"/>\n",
       "<path clip-path=\"url(#clip242)\" d=\"\n",
       "M1329.64 1101.61 L1466.55 1101.61 L1466.55 1029.34 L1329.64 1029.34 L1329.64 1101.61 L1329.64 1101.61  Z\n",
       "  \" fill=\"#ffffff\" fill-rule=\"evenodd\" fill-opacity=\"1\"/>\n",
       "<polyline clip-path=\"url(#clip242)\" style=\"stroke:#a9a9a9; stroke-linecap:butt; stroke-linejoin:round; stroke-width:0; stroke-opacity:0.7; fill:none\" points=\"\n",
       "  1329.64,1101.61 1466.55,1101.61 1466.55,1029.34 1329.64,1029.34 1329.64,1101.61 \n",
       "  \"/>\n",
       "<path clip-path=\"url(#clip242)\" d=\"\n",
       "M1637.1 790.868 L1745.87 790.868 L1745.87 718.603 L1637.1 718.603 L1637.1 790.868 L1637.1 790.868  Z\n",
       "  \" fill=\"#ffffff\" fill-rule=\"evenodd\" fill-opacity=\"1\"/>\n",
       "<polyline clip-path=\"url(#clip242)\" style=\"stroke:#a9a9a9; stroke-linecap:butt; stroke-linejoin:round; stroke-width:0; stroke-opacity:0.7; fill:none\" points=\"\n",
       "  1637.1,790.868 1745.87,790.868 1745.87,718.603 1637.1,718.603 1637.1,790.868 \n",
       "  \"/>\n",
       "<path clip-path=\"url(#clip242)\" d=\"\n",
       "M1781.27 1272.14 L1918.19 1272.14 L1918.19 1199.88 L1781.27 1199.88 L1781.27 1272.14 L1781.27 1272.14  Z\n",
       "  \" fill=\"#ffffff\" fill-rule=\"evenodd\" fill-opacity=\"1\"/>\n",
       "<polyline clip-path=\"url(#clip242)\" style=\"stroke:#a9a9a9; stroke-linecap:butt; stroke-linejoin:round; stroke-width:0; stroke-opacity:0.7; fill:none\" points=\"\n",
       "  1781.27,1272.14 1918.19,1272.14 1918.19,1199.88 1781.27,1199.88 1781.27,1272.14 \n",
       "  \"/>\n",
       "<path clip-path=\"url(#clip242)\" d=\"\n",
       "M797.813 1091.38 L730.065 974.033 L594.569 974.033 L526.821 1091.38 L594.569 1208.72 L730.065 1208.72 L797.813 1091.38 L797.813 1091.38  Z\n",
       "  \" fill=\"#ffff00\" fill-rule=\"evenodd\" fill-opacity=\"1\"/>\n",
       "<polyline clip-path=\"url(#clip242)\" style=\"stroke:#000000; stroke-linecap:butt; stroke-linejoin:round; stroke-width:4; stroke-opacity:1; fill:none\" points=\"\n",
       "  797.813,1091.38 730.065,974.033 594.569,974.033 526.821,1091.38 594.569,1208.72 730.065,1208.72 797.813,1091.38 \n",
       "  \"/>\n",
       "<path clip-path=\"url(#clip242)\" d=\"\n",
       "M942.191 262.317 L874.443 144.974 L738.947 144.974 L671.199 262.317 L738.947 379.66 L874.443 379.66 L942.191 262.317 L942.191 262.317  Z\n",
       "  \" fill=\"#ffff00\" fill-rule=\"evenodd\" fill-opacity=\"1\"/>\n",
       "<polyline clip-path=\"url(#clip242)\" style=\"stroke:#000000; stroke-linecap:butt; stroke-linejoin:round; stroke-width:4; stroke-opacity:1; fill:none\" points=\"\n",
       "  942.191,262.317 874.443,144.974 738.947,144.974 671.199,262.317 738.947,379.66 874.443,379.66 942.191,262.317 \n",
       "  \"/>\n",
       "<path clip-path=\"url(#clip242)\" d=\"\n",
       "M1281.82 1337.68 L1214.07 1220.34 L1078.57 1220.34 L1010.83 1337.68 L1078.57 1455.03 L1214.07 1455.03 L1281.82 1337.68 L1281.82 1337.68  Z\n",
       "  \" fill=\"#ffff00\" fill-rule=\"evenodd\" fill-opacity=\"1\"/>\n",
       "<polyline clip-path=\"url(#clip242)\" style=\"stroke:#000000; stroke-linecap:butt; stroke-linejoin:round; stroke-width:4; stroke-opacity:1; fill:none\" points=\"\n",
       "  1281.82,1337.68 1214.07,1220.34 1078.57,1220.34 1010.83,1337.68 1078.57,1455.03 1214.07,1455.03 1281.82,1337.68 \n",
       "  \"/>\n",
       "<path clip-path=\"url(#clip242)\" d=\"\n",
       "M1422.05 532.451 L1354.3 415.108 L1218.8 415.108 L1151.06 532.451 L1218.8 649.794 L1354.3 649.794 L1422.05 532.451 L1422.05 532.451  Z\n",
       "  \" fill=\"#ffff00\" fill-rule=\"evenodd\" fill-opacity=\"1\"/>\n",
       "<polyline clip-path=\"url(#clip242)\" style=\"stroke:#000000; stroke-linecap:butt; stroke-linejoin:round; stroke-width:4; stroke-opacity:1; fill:none\" points=\"\n",
       "  1422.05,532.451 1354.3,415.108 1218.8,415.108 1151.06,532.451 1218.8,649.794 1354.3,649.794 1422.05,532.451 \n",
       "  \"/>\n",
       "<path clip-path=\"url(#clip242)\" d=\"\n",
       "M1873.18 1214.36 L1805.43 1097.01 L1669.93 1097.01 L1602.19 1214.36 L1669.93 1331.7 L1805.43 1331.7 L1873.18 1214.36 L1873.18 1214.36  Z\n",
       "  \" fill=\"#ffff00\" fill-rule=\"evenodd\" fill-opacity=\"1\"/>\n",
       "<polyline clip-path=\"url(#clip242)\" style=\"stroke:#000000; stroke-linecap:butt; stroke-linejoin:round; stroke-width:4; stroke-opacity:1; fill:none\" points=\"\n",
       "  1873.18,1214.36 1805.43,1097.01 1669.93,1097.01 1602.19,1214.36 1669.93,1331.7 1805.43,1331.7 1873.18,1214.36 \n",
       "  \"/>\n",
       "<path clip-path=\"url(#clip242)\" d=\"M662.317 1093.38 L660.585 1092.38 L660.585 1090.38 L662.317 1089.38 L664.049 1090.38 L664.049 1092.38 Z\" fill=\"#ffff00\" fill-rule=\"evenodd\" fill-opacity=\"1\" stroke=\"#000000\" stroke-opacity=\"1\" stroke-width=\"3.2\"/>\n",
       "<path clip-path=\"url(#clip242)\" d=\"M806.695 264.317 L804.963 263.317 L804.963 261.317 L806.695 260.317 L808.427 261.317 L808.427 263.317 Z\" fill=\"#ffff00\" fill-rule=\"evenodd\" fill-opacity=\"1\" stroke=\"#000000\" stroke-opacity=\"1\" stroke-width=\"3.2\"/>\n",
       "<path clip-path=\"url(#clip242)\" d=\"M1146.32 1339.68 L1144.59 1338.68 L1144.59 1336.68 L1146.32 1335.68 L1148.05 1336.68 L1148.05 1338.68 Z\" fill=\"#ffff00\" fill-rule=\"evenodd\" fill-opacity=\"1\" stroke=\"#000000\" stroke-opacity=\"1\" stroke-width=\"3.2\"/>\n",
       "<path clip-path=\"url(#clip242)\" d=\"M1286.55 534.451 L1284.82 533.451 L1284.82 531.451 L1286.55 530.451 L1288.28 531.451 L1288.28 533.451 Z\" fill=\"#ffff00\" fill-rule=\"evenodd\" fill-opacity=\"1\" stroke=\"#000000\" stroke-opacity=\"1\" stroke-width=\"3.2\"/>\n",
       "<path clip-path=\"url(#clip242)\" d=\"M1737.68 1216.36 L1735.95 1215.36 L1735.95 1213.36 L1737.68 1212.36 L1739.41 1213.36 L1739.41 1215.36 Z\" fill=\"#ffff00\" fill-rule=\"evenodd\" fill-opacity=\"1\" stroke=\"#000000\" stroke-opacity=\"1\" stroke-width=\"3.2\"/>\n",
       "<path clip-path=\"url(#clip240)\" d=\"M423.056 1193.25 L433.973 1193.25 L433.973 1196.58 L423.056 1196.58 L423.056 1193.25 Z\" fill=\"#000000\" fill-rule=\"evenodd\" fill-opacity=\"1\" /><path clip-path=\"url(#clip240)\" d=\"M443.959 1202.83 L458.238 1202.83 L458.238 1206.28 L439.037 1206.28 L439.037 1202.83 Q441.366 1200.42 445.377 1196.37 Q449.407 1192.3 450.44 1191.13 Q452.405 1188.92 453.175 1187.4 Q453.965 1185.86 453.965 1184.38 Q453.965 1181.97 452.263 1180.45 Q450.582 1178.93 447.868 1178.93 Q445.944 1178.93 443.797 1179.6 Q441.67 1180.27 439.24 1181.63 L439.24 1177.5 Q441.711 1176.5 443.858 1176 Q446.005 1175.49 447.787 1175.49 Q452.486 1175.49 455.281 1177.84 Q458.076 1180.19 458.076 1184.12 Q458.076 1185.98 457.367 1187.66 Q456.679 1189.33 454.836 1191.59 Q454.329 1192.18 451.615 1195 Q448.901 1197.79 443.959 1202.83 Z\" fill=\"#000000\" fill-rule=\"evenodd\" fill-opacity=\"1\" /><path clip-path=\"url(#clip240)\" d=\"M466.826 1201.13 L471.1 1201.13 L471.1 1206.28 L466.826 1206.28 L466.826 1201.13 Z\" fill=\"#000000\" fill-rule=\"evenodd\" fill-opacity=\"1\" /><path clip-path=\"url(#clip240)\" d=\"M480.721 1202.83 L487.405 1202.83 L487.405 1179.77 L480.133 1181.22 L480.133 1177.5 L487.364 1176.04 L491.456 1176.04 L491.456 1202.83 L498.14 1202.83 L498.14 1206.28 L480.721 1206.28 L480.721 1202.83 Z\" fill=\"#000000\" fill-rule=\"evenodd\" fill-opacity=\"1\" /><path clip-path=\"url(#clip240)\" d=\"M917.578 725.422 L924.262 725.422 L924.262 702.352 L916.991 703.811 L916.991 700.084 L924.222 698.626 L928.313 698.626 L928.313 725.422 L934.997 725.422 L934.997 728.866 L917.578 728.866 L917.578 725.422 Z\" fill=\"#000000\" fill-rule=\"evenodd\" fill-opacity=\"1\" /><path clip-path=\"url(#clip240)\" d=\"M943.261 723.721 L947.535 723.721 L947.535 728.866 L943.261 728.866 L943.261 723.721 Z\" fill=\"#000000\" fill-rule=\"evenodd\" fill-opacity=\"1\" /><path clip-path=\"url(#clip240)\" d=\"M965.703 712.115 Q962.948 712.115 961.328 713.999 Q959.728 715.882 959.728 719.164 Q959.728 722.425 961.328 724.329 Q962.948 726.212 965.703 726.212 Q968.457 726.212 970.058 724.329 Q971.678 722.425 971.678 719.164 Q971.678 715.882 970.058 713.999 Q968.457 712.115 965.703 712.115 M973.825 699.294 L973.825 703.021 Q972.286 702.292 970.706 701.907 Q969.146 701.522 967.607 701.522 Q963.556 701.522 961.409 704.256 Q959.282 706.991 958.978 712.52 Q960.173 710.758 961.976 709.826 Q963.779 708.874 965.946 708.874 Q970.503 708.874 973.136 711.649 Q975.79 714.404 975.79 719.164 Q975.79 723.822 973.035 726.638 Q970.28 729.453 965.703 729.453 Q960.457 729.453 957.682 725.443 Q954.907 721.412 954.907 713.776 Q954.907 706.606 958.31 702.352 Q961.713 698.079 967.445 698.079 Q968.984 698.079 970.544 698.382 Q972.124 698.686 973.825 699.294 Z\" fill=\"#000000\" fill-rule=\"evenodd\" fill-opacity=\"1\" /><path clip-path=\"url(#clip240)\" d=\"M774.074 1393.78 Q770.914 1393.78 769.314 1396.9 Q767.734 1400 767.734 1406.24 Q767.734 1412.46 769.314 1415.58 Q770.914 1418.68 774.074 1418.68 Q777.254 1418.68 778.834 1415.58 Q780.434 1412.46 780.434 1406.24 Q780.434 1400 778.834 1396.9 Q777.254 1393.78 774.074 1393.78 M774.074 1390.54 Q779.158 1390.54 781.831 1394.57 Q784.525 1398.58 784.525 1406.24 Q784.525 1413.88 781.831 1417.91 Q779.158 1421.92 774.074 1421.92 Q768.99 1421.92 766.296 1417.91 Q763.622 1413.88 763.622 1406.24 Q763.622 1398.58 766.296 1394.57 Q768.99 1390.54 774.074 1390.54 Z\" fill=\"#000000\" fill-rule=\"evenodd\" fill-opacity=\"1\" /><path clip-path=\"url(#clip240)\" d=\"M791.715 1416.19 L795.989 1416.19 L795.989 1421.33 L791.715 1421.33 L791.715 1416.19 Z\" fill=\"#000000\" fill-rule=\"evenodd\" fill-opacity=\"1\" /><path clip-path=\"url(#clip240)\" d=\"M804.942 1391.09 L821.004 1391.09 L821.004 1394.53 L808.689 1394.53 L808.689 1401.95 Q809.58 1401.64 810.471 1401.5 Q811.362 1401.34 812.254 1401.34 Q817.317 1401.34 820.274 1404.11 Q823.232 1406.89 823.232 1411.63 Q823.232 1416.51 820.193 1419.22 Q817.155 1421.92 811.626 1421.92 Q809.722 1421.92 807.737 1421.59 Q805.772 1421.27 803.666 1420.62 L803.666 1416.51 Q805.489 1417.5 807.433 1417.99 Q809.377 1418.47 811.545 1418.47 Q815.049 1418.47 817.094 1416.63 Q819.14 1414.79 819.14 1411.63 Q819.14 1408.47 817.094 1406.63 Q815.049 1404.78 811.545 1404.78 Q809.904 1404.78 808.263 1405.15 Q806.643 1405.51 804.942 1406.28 L804.942 1391.09 Z\" fill=\"#000000\" fill-rule=\"evenodd\" fill-opacity=\"1\" /><path clip-path=\"url(#clip240)\" d=\"M843.689 1405.03 Q846.625 1405.65 848.266 1407.64 Q849.927 1409.62 849.927 1412.54 Q849.927 1417.02 846.848 1419.47 Q843.77 1421.92 838.098 1421.92 Q836.194 1421.92 834.169 1421.53 Q832.164 1421.17 830.017 1420.42 L830.017 1416.47 Q831.718 1417.46 833.744 1417.97 Q835.769 1418.47 837.977 1418.47 Q841.825 1418.47 843.83 1416.96 Q845.856 1415.44 845.856 1412.54 Q845.856 1409.87 843.972 1408.37 Q842.109 1406.85 838.767 1406.85 L835.242 1406.85 L835.242 1403.49 L838.929 1403.49 Q841.947 1403.49 843.547 1402.29 Q845.147 1401.08 845.147 1398.81 Q845.147 1396.48 843.486 1395.24 Q841.845 1393.99 838.767 1393.99 Q837.086 1393.99 835.161 1394.35 Q833.237 1394.72 830.928 1395.49 L830.928 1391.84 Q833.258 1391.19 835.283 1390.87 Q837.329 1390.54 839.131 1390.54 Q843.79 1390.54 846.504 1392.67 Q849.218 1394.78 849.218 1398.38 Q849.218 1400.89 847.78 1402.64 Q846.342 1404.36 843.689 1405.03 Z\" fill=\"#000000\" fill-rule=\"evenodd\" fill-opacity=\"1\" /><path clip-path=\"url(#clip240)\" d=\"M490.174 627.522 Q487.014 627.522 485.414 630.641 Q483.834 633.74 483.834 639.978 Q483.834 646.196 485.414 649.316 Q487.014 652.415 490.174 652.415 Q493.354 652.415 494.934 649.316 Q496.534 646.196 496.534 639.978 Q496.534 633.74 494.934 630.641 Q493.354 627.522 490.174 627.522 M490.174 624.281 Q495.258 624.281 497.931 628.312 Q500.625 632.322 500.625 639.978 Q500.625 647.614 497.931 651.645 Q495.258 655.655 490.174 655.655 Q485.09 655.655 482.396 651.645 Q479.723 647.614 479.723 639.978 Q479.723 632.322 482.396 628.312 Q485.09 624.281 490.174 624.281 Z\" fill=\"#000000\" fill-rule=\"evenodd\" fill-opacity=\"1\" /><path clip-path=\"url(#clip240)\" d=\"M507.816 649.923 L512.089 649.923 L512.089 655.068 L507.816 655.068 L507.816 649.923 Z\" fill=\"#000000\" fill-rule=\"evenodd\" fill-opacity=\"1\" /><path clip-path=\"url(#clip240)\" d=\"M521.123 654.44 L521.123 650.713 Q522.662 651.442 524.242 651.827 Q525.822 652.212 527.341 652.212 Q531.392 652.212 533.519 649.498 Q535.666 646.764 535.969 641.214 Q534.795 642.956 532.992 643.887 Q531.189 644.819 529.002 644.819 Q524.465 644.819 521.812 642.085 Q519.178 639.33 519.178 634.57 Q519.178 629.912 521.933 627.096 Q524.688 624.281 529.265 624.281 Q534.511 624.281 537.266 628.312 Q540.041 632.322 540.041 639.978 Q540.041 647.128 536.638 651.402 Q533.255 655.655 527.523 655.655 Q525.984 655.655 524.404 655.351 Q522.824 655.048 521.123 654.44 M529.265 641.619 Q532.02 641.619 533.62 639.735 Q535.24 637.852 535.24 634.57 Q535.24 631.309 533.62 629.426 Q532.02 627.522 529.265 627.522 Q526.511 627.522 524.89 629.426 Q523.29 631.309 523.29 634.57 Q523.29 637.852 524.89 639.735 Q526.511 641.619 529.265 641.619 Z\" fill=\"#000000\" fill-rule=\"evenodd\" fill-opacity=\"1\" /><path clip-path=\"url(#clip240)\" d=\"M548.102 651.625 L554.786 651.625 L554.786 628.555 L547.515 630.013 L547.515 626.286 L554.745 624.828 L558.837 624.828 L558.837 651.625 L565.521 651.625 L565.521 655.068 L548.102 655.068 L548.102 651.625 Z\" fill=\"#000000\" fill-rule=\"evenodd\" fill-opacity=\"1\" /><path clip-path=\"url(#clip240)\" d=\"M700.218 173.128 L711.135 173.128 L711.135 176.45 L700.218 176.45 L700.218 173.128 Z\" fill=\"#000000\" fill-rule=\"evenodd\" fill-opacity=\"1\" /><path clip-path=\"url(#clip240)\" d=\"M718.306 182.709 L724.99 182.709 L724.99 159.639 L717.718 161.097 L717.718 157.37 L724.949 155.912 L729.04 155.912 L729.04 182.709 L735.724 182.709 L735.724 186.152 L718.306 186.152 L718.306 182.709 Z\" fill=\"#000000\" fill-rule=\"evenodd\" fill-opacity=\"1\" /><path clip-path=\"url(#clip240)\" d=\"M743.988 181.007 L748.262 181.007 L748.262 186.152 L743.988 186.152 L743.988 181.007 Z\" fill=\"#000000\" fill-rule=\"evenodd\" fill-opacity=\"1\" /><path clip-path=\"url(#clip240)\" d=\"M760.698 182.709 L774.978 182.709 L774.978 186.152 L755.776 186.152 L755.776 182.709 Q758.106 180.299 762.116 176.248 Q766.147 172.176 767.18 171.002 Q769.144 168.794 769.914 167.275 Q770.704 165.736 770.704 164.257 Q770.704 161.847 769.003 160.328 Q767.321 158.809 764.607 158.809 Q762.683 158.809 760.536 159.477 Q758.409 160.145 755.979 161.502 L755.979 157.37 Q758.45 156.378 760.597 155.872 Q762.744 155.365 764.526 155.365 Q769.225 155.365 772.021 157.715 Q774.816 160.064 774.816 163.994 Q774.816 165.857 774.107 167.538 Q773.418 169.199 771.575 171.468 Q771.069 172.055 768.354 174.87 Q765.64 177.665 760.698 182.709 Z\" fill=\"#000000\" fill-rule=\"evenodd\" fill-opacity=\"1\" /><path clip-path=\"url(#clip240)\" d=\"M738.223 852.346 Q735.064 852.346 733.463 855.465 Q731.884 858.564 731.884 864.802 Q731.884 871.02 733.463 874.14 Q735.064 877.239 738.223 877.239 Q741.403 877.239 742.983 874.14 Q744.583 871.02 744.583 864.802 Q744.583 858.564 742.983 855.465 Q741.403 852.346 738.223 852.346 M738.223 849.105 Q743.307 849.105 745.981 853.136 Q748.675 857.146 748.675 864.802 Q748.675 872.438 745.981 876.469 Q743.307 880.479 738.223 880.479 Q733.139 880.479 730.446 876.469 Q727.772 872.438 727.772 864.802 Q727.772 857.146 730.446 853.136 Q733.139 849.105 738.223 849.105 Z\" fill=\"#000000\" fill-rule=\"evenodd\" fill-opacity=\"1\" /><path clip-path=\"url(#clip240)\" d=\"M755.865 874.747 L760.139 874.747 L760.139 879.892 L755.865 879.892 L755.865 874.747 Z\" fill=\"#000000\" fill-rule=\"evenodd\" fill-opacity=\"1\" /><path clip-path=\"url(#clip240)\" d=\"M772.575 876.449 L786.854 876.449 L786.854 879.892 L767.653 879.892 L767.653 876.449 Q769.982 874.038 773.993 869.987 Q778.023 865.916 779.056 864.741 Q781.021 862.534 781.791 861.015 Q782.581 859.475 782.581 857.997 Q782.581 855.586 780.879 854.067 Q779.198 852.548 776.484 852.548 Q774.56 852.548 772.413 853.217 Q770.286 853.885 767.856 855.242 L767.856 851.11 Q770.327 850.118 772.474 849.611 Q774.621 849.105 776.403 849.105 Q781.102 849.105 783.897 851.455 Q786.692 853.804 786.692 857.733 Q786.692 859.597 785.983 861.278 Q785.295 862.939 783.452 865.207 Q782.945 865.795 780.231 868.61 Q777.517 871.405 772.575 876.449 Z\" fill=\"#000000\" fill-rule=\"evenodd\" fill-opacity=\"1\" /><path clip-path=\"url(#clip240)\" d=\"M806.684 853.217 L796.354 869.36 L806.684 869.36 L806.684 853.217 M805.61 849.652 L810.755 849.652 L810.755 869.36 L815.069 869.36 L815.069 872.762 L810.755 872.762 L810.755 879.892 L806.684 879.892 L806.684 872.762 L793.032 872.762 L793.032 868.813 L805.61 849.652 Z\" fill=\"#000000\" fill-rule=\"evenodd\" fill-opacity=\"1\" /><path clip-path=\"url(#clip240)\" d=\"M895.332 572.374 Q892.172 572.374 890.572 575.494 Q888.992 578.593 888.992 584.831 Q888.992 591.049 890.572 594.168 Q892.172 597.267 895.332 597.267 Q898.512 597.267 900.092 594.168 Q901.692 591.049 901.692 584.831 Q901.692 578.593 900.092 575.494 Q898.512 572.374 895.332 572.374 M895.332 569.134 Q900.416 569.134 903.09 573.164 Q905.783 577.175 905.783 584.831 Q905.783 592.467 903.09 596.498 Q900.416 600.508 895.332 600.508 Q890.248 600.508 887.554 596.498 Q884.881 592.467 884.881 584.831 Q884.881 577.175 887.554 573.164 Q890.248 569.134 895.332 569.134 Z\" fill=\"#000000\" fill-rule=\"evenodd\" fill-opacity=\"1\" /><path clip-path=\"url(#clip240)\" d=\"M912.974 594.776 L917.247 594.776 L917.247 599.921 L912.974 599.921 L912.974 594.776 Z\" fill=\"#000000\" fill-rule=\"evenodd\" fill-opacity=\"1\" /><path clip-path=\"url(#clip240)\" d=\"M934.909 572.374 Q931.75 572.374 930.15 575.494 Q928.57 578.593 928.57 584.831 Q928.57 591.049 930.15 594.168 Q931.75 597.267 934.909 597.267 Q938.089 597.267 939.669 594.168 Q941.269 591.049 941.269 584.831 Q941.269 578.593 939.669 575.494 Q938.089 572.374 934.909 572.374 M934.909 569.134 Q939.993 569.134 942.667 573.164 Q945.361 577.175 945.361 584.831 Q945.361 592.467 942.667 596.498 Q939.993 600.508 934.909 600.508 Q929.825 600.508 927.132 596.498 Q924.458 592.467 924.458 584.831 Q924.458 577.175 927.132 573.164 Q929.825 569.134 934.909 569.134 Z\" fill=\"#000000\" fill-rule=\"evenodd\" fill-opacity=\"1\" /><path clip-path=\"url(#clip240)\" d=\"M953.26 596.477 L959.944 596.477 L959.944 573.407 L952.673 574.866 L952.673 571.139 L959.903 569.681 L963.995 569.681 L963.995 596.477 L970.679 596.477 L970.679 599.921 L953.26 599.921 L953.26 596.477 Z\" fill=\"#000000\" fill-rule=\"evenodd\" fill-opacity=\"1\" /><path clip-path=\"url(#clip240)\" d=\"M977.91 569.681 L997.354 569.681 L997.354 571.423 L986.376 599.921 L982.102 599.921 L992.432 573.124 L977.91 573.124 L977.91 569.681 Z\" fill=\"#000000\" fill-rule=\"evenodd\" fill-opacity=\"1\" /><path clip-path=\"url(#clip240)\" d=\"M969.275 1010.42 Q966.115 1010.42 964.515 1013.54 Q962.935 1016.64 962.935 1022.88 Q962.935 1029.1 964.515 1032.22 Q966.115 1035.32 969.275 1035.32 Q972.455 1035.32 974.035 1032.22 Q975.635 1029.1 975.635 1022.88 Q975.635 1016.64 974.035 1013.54 Q972.455 1010.42 969.275 1010.42 M969.275 1007.18 Q974.359 1007.18 977.032 1011.21 Q979.726 1015.22 979.726 1022.88 Q979.726 1030.52 977.032 1034.55 Q974.359 1038.56 969.275 1038.56 Q964.191 1038.56 961.497 1034.55 Q958.824 1030.52 958.824 1022.88 Q958.824 1015.22 961.497 1011.21 Q964.191 1007.18 969.275 1007.18 Z\" fill=\"#000000\" fill-rule=\"evenodd\" fill-opacity=\"1\" /><path clip-path=\"url(#clip240)\" d=\"M986.917 1032.82 L991.19 1032.82 L991.19 1037.97 L986.917 1037.97 L986.917 1032.82 Z\" fill=\"#000000\" fill-rule=\"evenodd\" fill-opacity=\"1\" /><path clip-path=\"url(#clip240)\" d=\"M1000.22 1037.34 L1000.22 1033.61 Q1001.76 1034.34 1003.34 1034.73 Q1004.92 1035.11 1006.44 1035.11 Q1010.49 1035.11 1012.62 1032.4 Q1014.77 1029.66 1015.07 1024.11 Q1013.9 1025.86 1012.09 1026.79 Q1010.29 1027.72 1008.1 1027.72 Q1003.57 1027.72 1000.91 1024.99 Q998.279 1022.23 998.279 1017.47 Q998.279 1012.81 1001.03 1010 Q1003.79 1007.18 1008.37 1007.18 Q1013.61 1007.18 1016.37 1011.21 Q1019.14 1015.22 1019.14 1022.88 Q1019.14 1030.03 1015.74 1034.3 Q1012.36 1038.56 1006.62 1038.56 Q1005.08 1038.56 1003.51 1038.25 Q1001.93 1037.95 1000.22 1037.34 M1008.37 1024.52 Q1011.12 1024.52 1012.72 1022.64 Q1014.34 1020.75 1014.34 1017.47 Q1014.34 1014.21 1012.72 1012.33 Q1011.12 1010.42 1008.37 1010.42 Q1005.61 1010.42 1003.99 1012.33 Q1002.39 1014.21 1002.39 1017.47 Q1002.39 1020.75 1003.99 1022.64 Q1005.61 1024.52 1008.37 1024.52 Z\" fill=\"#000000\" fill-rule=\"evenodd\" fill-opacity=\"1\" /><path clip-path=\"url(#clip240)\" d=\"M1025.46 1007.73 L1044.91 1007.73 L1044.91 1009.47 L1033.93 1037.97 L1029.65 1037.97 L1039.98 1011.17 L1025.46 1011.17 L1025.46 1007.73 Z\" fill=\"#000000\" fill-rule=\"evenodd\" fill-opacity=\"1\" /><path clip-path=\"url(#clip240)\" d=\"M1165.24 734.043 Q1168.18 734.671 1169.82 736.656 Q1171.48 738.641 1171.48 741.558 Q1171.48 746.034 1168.4 748.485 Q1165.32 750.936 1159.65 750.936 Q1157.75 750.936 1155.72 750.551 Q1153.72 750.186 1151.57 749.437 L1151.57 745.487 Q1153.27 746.48 1155.3 746.986 Q1157.32 747.492 1159.53 747.492 Q1163.38 747.492 1165.38 745.973 Q1167.41 744.454 1167.41 741.558 Q1167.41 738.884 1165.52 737.385 Q1163.66 735.866 1160.32 735.866 L1156.79 735.866 L1156.79 732.504 L1160.48 732.504 Q1163.5 732.504 1165.1 731.309 Q1166.7 730.094 1166.7 727.825 Q1166.7 725.496 1165.04 724.26 Q1163.4 723.005 1160.32 723.005 Q1158.64 723.005 1156.71 723.369 Q1154.79 723.734 1152.48 724.503 L1152.48 720.858 Q1154.81 720.209 1156.84 719.885 Q1158.88 719.561 1160.68 719.561 Q1165.34 719.561 1168.06 721.688 Q1170.77 723.794 1170.77 727.4 Q1170.77 729.911 1169.33 731.653 Q1167.89 733.375 1165.24 734.043 Z\" fill=\"#000000\" fill-rule=\"evenodd\" fill-opacity=\"1\" /><path clip-path=\"url(#clip240)\" d=\"M1179.24 745.203 L1183.51 745.203 L1183.51 750.348 L1179.24 750.348 L1179.24 745.203 Z\" fill=\"#000000\" fill-rule=\"evenodd\" fill-opacity=\"1\" /><path clip-path=\"url(#clip240)\" d=\"M1201.17 722.802 Q1198.01 722.802 1196.41 725.921 Q1194.83 729.02 1194.83 735.259 Q1194.83 741.477 1196.41 744.596 Q1198.01 747.695 1201.17 747.695 Q1204.35 747.695 1205.93 744.596 Q1207.53 741.477 1207.53 735.259 Q1207.53 729.02 1205.93 725.921 Q1204.35 722.802 1201.17 722.802 M1201.17 719.561 Q1206.26 719.561 1208.93 723.592 Q1211.62 727.602 1211.62 735.259 Q1211.62 742.894 1208.93 746.925 Q1206.26 750.936 1201.17 750.936 Q1196.09 750.936 1193.39 746.925 Q1190.72 742.894 1190.72 735.259 Q1190.72 727.602 1193.39 723.592 Q1196.09 719.561 1201.17 719.561 Z\" fill=\"#000000\" fill-rule=\"evenodd\" fill-opacity=\"1\" /><path clip-path=\"url(#clip240)\" d=\"M1077.04 1563.54 L1087.96 1563.54 L1087.96 1566.86 L1077.04 1566.86 L1077.04 1563.54 Z\" fill=\"#000000\" fill-rule=\"evenodd\" fill-opacity=\"1\" /><path clip-path=\"url(#clip240)\" d=\"M1094.46 1546.33 L1110.53 1546.33 L1110.53 1549.77 L1098.21 1549.77 L1098.21 1557.18 Q1099.1 1556.88 1099.99 1556.74 Q1100.88 1556.58 1101.78 1556.58 Q1106.84 1556.58 1109.8 1559.35 Q1112.75 1562.13 1112.75 1566.86 Q1112.75 1571.75 1109.72 1574.46 Q1106.68 1577.15 1101.15 1577.15 Q1099.24 1577.15 1097.26 1576.83 Q1095.29 1576.51 1093.19 1575.86 L1093.19 1571.75 Q1095.01 1572.74 1096.95 1573.22 Q1098.9 1573.71 1101.07 1573.71 Q1104.57 1573.71 1106.62 1571.87 Q1108.66 1570.02 1108.66 1566.86 Q1108.66 1563.71 1106.62 1561.86 Q1104.57 1560.02 1101.07 1560.02 Q1099.43 1560.02 1097.79 1560.38 Q1096.17 1560.75 1094.46 1561.52 L1094.46 1546.33 Z\" fill=\"#000000\" fill-rule=\"evenodd\" fill-opacity=\"1\" /><path clip-path=\"url(#clip240)\" d=\"M1120.81 1571.42 L1125.09 1571.42 L1125.09 1576.57 L1120.81 1576.57 L1120.81 1571.42 Z\" fill=\"#000000\" fill-rule=\"evenodd\" fill-opacity=\"1\" /><path clip-path=\"url(#clip240)\" d=\"M1142.75 1549.02 Q1139.59 1549.02 1137.99 1552.14 Q1136.41 1555.24 1136.41 1561.48 Q1136.41 1567.7 1137.99 1570.81 Q1139.59 1573.91 1142.75 1573.91 Q1145.93 1573.91 1147.51 1570.81 Q1149.11 1567.7 1149.11 1561.48 Q1149.11 1555.24 1147.51 1552.14 Q1145.93 1549.02 1142.75 1549.02 M1142.75 1545.78 Q1147.83 1545.78 1150.51 1549.81 Q1153.2 1553.82 1153.2 1561.48 Q1153.2 1569.11 1150.51 1573.14 Q1147.83 1577.15 1142.75 1577.15 Q1137.67 1577.15 1134.97 1573.14 Q1132.3 1569.11 1132.3 1561.48 Q1132.3 1553.82 1134.97 1549.81 Q1137.67 1545.78 1142.75 1545.78 Z\" fill=\"#000000\" fill-rule=\"evenodd\" fill-opacity=\"1\" /><path clip-path=\"url(#clip240)\" d=\"M1399.58 983.643 L1406.26 983.643 L1406.26 960.573 L1398.99 962.031 L1398.99 958.304 L1406.22 956.846 L1410.31 956.846 L1410.31 983.643 L1417 983.643 L1417 987.086 L1399.58 987.086 L1399.58 983.643 Z\" fill=\"#000000\" fill-rule=\"evenodd\" fill-opacity=\"1\" /><path clip-path=\"url(#clip240)\" d=\"M1425.26 981.941 L1429.54 981.941 L1429.54 987.086 L1425.26 987.086 L1425.26 981.941 Z\" fill=\"#000000\" fill-rule=\"evenodd\" fill-opacity=\"1\" /><path clip-path=\"url(#clip240)\" d=\"M1447.2 959.54 Q1444.04 959.54 1442.44 962.659 Q1440.86 965.758 1440.86 971.996 Q1440.86 978.214 1442.44 981.334 Q1444.04 984.432 1447.2 984.432 Q1450.38 984.432 1451.96 981.334 Q1453.56 978.214 1453.56 971.996 Q1453.56 965.758 1451.96 962.659 Q1450.38 959.54 1447.2 959.54 M1447.2 956.299 Q1452.28 956.299 1454.96 960.33 Q1457.65 964.34 1457.65 971.996 Q1457.65 979.632 1454.96 983.663 Q1452.28 987.673 1447.2 987.673 Q1442.11 987.673 1439.42 983.663 Q1436.75 979.632 1436.75 971.996 Q1436.75 964.34 1439.42 960.33 Q1442.11 956.299 1447.2 956.299 Z\" fill=\"#000000\" fill-rule=\"evenodd\" fill-opacity=\"1\" /><path clip-path=\"url(#clip240)\" d=\"M798.418 639.257 Q795.259 639.257 793.659 642.376 Q792.079 645.475 792.079 651.714 Q792.079 657.932 793.659 661.051 Q795.259 664.15 798.418 664.15 Q801.598 664.15 803.178 661.051 Q804.778 657.932 804.778 651.714 Q804.778 645.475 803.178 642.376 Q801.598 639.257 798.418 639.257 M798.418 636.016 Q803.502 636.016 806.176 640.047 Q808.87 644.057 808.87 651.714 Q808.87 659.349 806.176 663.38 Q803.502 667.391 798.418 667.391 Q793.335 667.391 790.641 663.38 Q787.967 659.349 787.967 651.714 Q787.967 644.057 790.641 640.047 Q793.335 636.016 798.418 636.016 Z\" fill=\"#000000\" fill-rule=\"evenodd\" fill-opacity=\"1\" /><path clip-path=\"url(#clip240)\" d=\"M816.06 661.658 L820.334 661.658 L820.334 666.803 L816.06 666.803 L816.06 661.658 Z\" fill=\"#000000\" fill-rule=\"evenodd\" fill-opacity=\"1\" /><path clip-path=\"url(#clip240)\" d=\"M841.642 650.498 Q844.578 651.126 846.219 653.111 Q847.88 655.096 847.88 658.013 Q847.88 662.489 844.801 664.94 Q841.723 667.391 836.051 667.391 Q834.147 667.391 832.122 667.006 Q830.117 666.641 827.97 665.892 L827.97 661.942 Q829.671 662.935 831.697 663.441 Q833.722 663.947 835.93 663.947 Q839.778 663.947 841.783 662.428 Q843.809 660.909 843.809 658.013 Q843.809 655.339 841.925 653.84 Q840.062 652.321 836.72 652.321 L833.195 652.321 L833.195 648.959 L836.882 648.959 Q839.9 648.959 841.5 647.764 Q843.1 646.549 843.1 644.28 Q843.1 641.951 841.439 640.715 Q839.798 639.46 836.72 639.46 Q835.039 639.46 833.114 639.824 Q831.19 640.189 828.881 640.958 L828.881 637.313 Q831.211 636.664 833.236 636.34 Q835.282 636.016 837.084 636.016 Q841.743 636.016 844.457 638.143 Q847.171 640.249 847.171 643.855 Q847.171 646.366 845.733 648.108 Q844.295 649.83 841.642 650.498 Z\" fill=\"#000000\" fill-rule=\"evenodd\" fill-opacity=\"1\" /><path clip-path=\"url(#clip240)\" d=\"M855.678 636.563 L871.74 636.563 L871.74 640.006 L859.425 640.006 L859.425 647.42 Q860.316 647.116 861.207 646.974 Q862.099 646.812 862.99 646.812 Q868.053 646.812 871.011 649.587 Q873.968 652.362 873.968 657.101 Q873.968 661.983 870.93 664.697 Q867.891 667.391 862.362 667.391 Q860.458 667.391 858.473 667.066 Q856.508 666.742 854.402 666.094 L854.402 661.983 Q856.225 662.975 858.169 663.461 Q860.114 663.947 862.281 663.947 Q865.785 663.947 867.831 662.104 Q869.876 660.261 869.876 657.101 Q869.876 653.942 867.831 652.098 Q865.785 650.255 862.281 650.255 Q860.64 650.255 859 650.62 Q857.379 650.984 855.678 651.754 L855.678 636.563 Z\" fill=\"#000000\" fill-rule=\"evenodd\" fill-opacity=\"1\" /><path clip-path=\"url(#clip240)\" d=\"M1119.58 197.541 Q1116.42 197.541 1114.82 200.66 Q1113.24 203.759 1113.24 209.998 Q1113.24 216.216 1114.82 219.335 Q1116.42 222.434 1119.58 222.434 Q1122.76 222.434 1124.34 219.335 Q1125.94 216.216 1125.94 209.998 Q1125.94 203.759 1124.34 200.66 Q1122.76 197.541 1119.58 197.541 M1119.58 194.3 Q1124.66 194.3 1127.34 198.331 Q1130.03 202.341 1130.03 209.998 Q1130.03 217.634 1127.34 221.664 Q1124.66 225.675 1119.58 225.675 Q1114.5 225.675 1111.8 221.664 Q1109.13 217.634 1109.13 209.998 Q1109.13 202.341 1111.8 198.331 Q1114.5 194.3 1119.58 194.3 Z\" fill=\"#000000\" fill-rule=\"evenodd\" fill-opacity=\"1\" /><path clip-path=\"url(#clip240)\" d=\"M1137.22 219.943 L1141.49 219.943 L1141.49 225.087 L1137.22 225.087 L1137.22 219.943 Z\" fill=\"#000000\" fill-rule=\"evenodd\" fill-opacity=\"1\" /><path clip-path=\"url(#clip240)\" d=\"M1162.8 208.782 Q1165.74 209.41 1167.38 211.395 Q1169.04 213.38 1169.04 216.297 Q1169.04 220.773 1165.96 223.224 Q1162.88 225.675 1157.21 225.675 Q1155.31 225.675 1153.28 225.29 Q1151.28 224.925 1149.13 224.176 L1149.13 220.226 Q1150.83 221.219 1152.86 221.725 Q1154.88 222.231 1157.09 222.231 Q1160.94 222.231 1162.94 220.712 Q1164.97 219.193 1164.97 216.297 Q1164.97 213.623 1163.09 212.124 Q1161.22 210.605 1157.88 210.605 L1154.36 210.605 L1154.36 207.243 L1158.04 207.243 Q1161.06 207.243 1162.66 206.048 Q1164.26 204.833 1164.26 202.564 Q1164.26 200.235 1162.6 198.999 Q1160.96 197.744 1157.88 197.744 Q1156.2 197.744 1154.28 198.108 Q1152.35 198.473 1150.04 199.242 L1150.04 195.597 Q1152.37 194.948 1154.4 194.624 Q1156.44 194.3 1158.25 194.3 Q1162.9 194.3 1165.62 196.427 Q1168.33 198.534 1168.33 202.139 Q1168.33 204.65 1166.89 206.392 Q1165.46 208.114 1162.8 208.782 Z\" fill=\"#000000\" fill-rule=\"evenodd\" fill-opacity=\"1\" /><path clip-path=\"url(#clip240)\" d=\"M1176.84 194.847 L1192.9 194.847 L1192.9 198.29 L1180.59 198.29 L1180.59 205.704 Q1181.48 205.4 1182.37 205.258 Q1183.26 205.096 1184.15 205.096 Q1189.21 205.096 1192.17 207.871 Q1195.13 210.646 1195.13 215.385 Q1195.13 220.267 1192.09 222.981 Q1189.05 225.675 1183.52 225.675 Q1181.62 225.675 1179.63 225.351 Q1177.67 225.026 1175.56 224.378 L1175.56 220.267 Q1177.39 221.259 1179.33 221.745 Q1181.27 222.231 1183.44 222.231 Q1186.95 222.231 1188.99 220.388 Q1191.04 218.545 1191.04 215.385 Q1191.04 212.226 1188.99 210.382 Q1186.95 208.539 1183.44 208.539 Q1181.8 208.539 1180.16 208.904 Q1178.54 209.268 1176.84 210.038 L1176.84 194.847 Z\" fill=\"#000000\" fill-rule=\"evenodd\" fill-opacity=\"1\" /><path clip-path=\"url(#clip240)\" d=\"M988.308 886.612 L977.978 902.755 L988.308 902.755 L988.308 886.612 M987.235 883.048 L992.379 883.048 L992.379 902.755 L996.694 902.755 L996.694 906.158 L992.379 906.158 L992.379 913.288 L988.308 913.288 L988.308 906.158 L974.657 906.158 L974.657 902.208 L987.235 883.048 Z\" fill=\"#000000\" fill-rule=\"evenodd\" fill-opacity=\"1\" /><path clip-path=\"url(#clip240)\" d=\"M1003.46 908.143 L1007.73 908.143 L1007.73 913.288 L1003.46 913.288 L1003.46 908.143 Z\" fill=\"#000000\" fill-rule=\"evenodd\" fill-opacity=\"1\" /><path clip-path=\"url(#clip240)\" d=\"M1020.17 909.844 L1034.45 909.844 L1034.45 913.288 L1015.25 913.288 L1015.25 909.844 Q1017.58 907.434 1021.59 903.383 Q1025.62 899.312 1026.65 898.137 Q1028.61 895.929 1029.38 894.41 Q1030.17 892.871 1030.17 891.392 Q1030.17 888.982 1028.47 887.463 Q1026.79 885.944 1024.08 885.944 Q1022.15 885.944 1020.01 886.612 Q1017.88 887.281 1015.45 888.638 L1015.45 884.506 Q1017.92 883.513 1020.07 883.007 Q1022.21 882.501 1024 882.501 Q1028.7 882.501 1031.49 884.85 Q1034.29 887.2 1034.29 891.129 Q1034.29 892.993 1033.58 894.674 Q1032.89 896.335 1031.05 898.603 Q1030.54 899.19 1027.82 902.006 Q1025.11 904.801 1020.17 909.844 Z\" fill=\"#000000\" fill-rule=\"evenodd\" fill-opacity=\"1\" /><path clip-path=\"url(#clip240)\" d=\"M1391.92 365.09 L1402.84 365.09 L1402.84 368.411 L1391.92 368.411 L1391.92 365.09 Z\" fill=\"#000000\" fill-rule=\"evenodd\" fill-opacity=\"1\" /><path clip-path=\"url(#clip240)\" d=\"M1410.01 374.67 L1416.7 374.67 L1416.7 351.6 L1409.42 353.058 L1409.42 349.332 L1416.66 347.873 L1420.75 347.873 L1420.75 374.67 L1427.43 374.67 L1427.43 378.113 L1410.01 378.113 L1410.01 374.67 Z\" fill=\"#000000\" fill-rule=\"evenodd\" fill-opacity=\"1\" /><path clip-path=\"url(#clip240)\" d=\"M1436.4 374.67 L1443.09 374.67 L1443.09 351.6 L1435.82 353.058 L1435.82 349.332 L1443.05 347.873 L1447.14 347.873 L1447.14 374.67 L1453.82 374.67 L1453.82 378.113 L1436.4 378.113 L1436.4 374.67 Z\" fill=\"#000000\" fill-rule=\"evenodd\" fill-opacity=\"1\" /><path clip-path=\"url(#clip240)\" d=\"M1462.09 372.969 L1466.36 372.969 L1466.36 378.113 L1462.09 378.113 L1462.09 372.969 Z\" fill=\"#000000\" fill-rule=\"evenodd\" fill-opacity=\"1\" /><path clip-path=\"url(#clip240)\" d=\"M1484.02 350.567 Q1480.86 350.567 1479.26 353.686 Q1477.68 356.785 1477.68 363.024 Q1477.68 369.242 1479.26 372.361 Q1480.86 375.46 1484.02 375.46 Q1487.2 375.46 1488.78 372.361 Q1490.38 369.242 1490.38 363.024 Q1490.38 356.785 1488.78 353.686 Q1487.2 350.567 1484.02 350.567 M1484.02 347.326 Q1489.11 347.326 1491.78 351.357 Q1494.47 355.367 1494.47 363.024 Q1494.47 370.66 1491.78 374.69 Q1489.11 378.701 1484.02 378.701 Q1478.94 378.701 1476.24 374.69 Q1473.57 370.66 1473.57 363.024 Q1473.57 355.367 1476.24 351.357 Q1478.94 347.326 1484.02 347.326 Z\" fill=\"#000000\" fill-rule=\"evenodd\" fill-opacity=\"1\" /><path clip-path=\"url(#clip240)\" d=\"M1313.82 990.441 Q1311.06 990.441 1309.44 992.325 Q1307.84 994.208 1307.84 997.49 Q1307.84 1000.75 1309.44 1002.65 Q1311.06 1004.54 1313.82 1004.54 Q1316.57 1004.54 1318.17 1002.65 Q1319.79 1000.75 1319.79 997.49 Q1319.79 994.208 1318.17 992.325 Q1316.57 990.441 1313.82 990.441 M1321.94 977.62 L1321.94 981.347 Q1320.4 980.618 1318.82 980.233 Q1317.26 979.848 1315.72 979.848 Q1311.67 979.848 1309.52 982.582 Q1307.4 985.317 1307.09 990.846 Q1308.29 989.084 1310.09 988.152 Q1311.89 987.2 1314.06 987.2 Q1318.62 987.2 1321.25 989.975 Q1323.9 992.73 1323.9 997.49 Q1323.9 1002.15 1321.15 1004.96 Q1318.39 1007.78 1313.82 1007.78 Q1308.57 1007.78 1305.8 1003.77 Q1303.02 999.738 1303.02 992.102 Q1303.02 984.932 1306.42 980.678 Q1309.83 976.405 1315.56 976.405 Q1317.1 976.405 1318.66 976.708 Q1320.24 977.012 1321.94 977.62 Z\" fill=\"#000000\" fill-rule=\"evenodd\" fill-opacity=\"1\" /><path clip-path=\"url(#clip240)\" d=\"M1330.95 1002.05 L1335.23 1002.05 L1335.23 1007.19 L1330.95 1007.19 L1330.95 1002.05 Z\" fill=\"#000000\" fill-rule=\"evenodd\" fill-opacity=\"1\" /><path clip-path=\"url(#clip240)\" d=\"M1344.18 976.952 L1360.24 976.952 L1360.24 980.395 L1347.93 980.395 L1347.93 987.808 Q1348.82 987.504 1349.71 987.362 Q1350.6 987.2 1351.49 987.2 Q1356.55 987.2 1359.51 989.975 Q1362.47 992.75 1362.47 997.49 Q1362.47 1002.37 1359.43 1005.09 Q1356.39 1007.78 1350.86 1007.78 Q1348.96 1007.78 1346.97 1007.45 Q1345.01 1007.13 1342.9 1006.48 L1342.9 1002.37 Q1344.73 1003.36 1346.67 1003.85 Q1348.61 1004.34 1350.78 1004.34 Q1354.29 1004.34 1356.33 1002.49 Q1358.38 1000.65 1358.38 997.49 Q1358.38 994.33 1356.33 992.487 Q1354.29 990.644 1350.78 990.644 Q1349.14 990.644 1347.5 991.008 Q1345.88 991.373 1344.18 992.142 L1344.18 976.952 Z\" fill=\"#000000\" fill-rule=\"evenodd\" fill-opacity=\"1\" /><path clip-path=\"url(#clip240)\" d=\"M1365.04 1053.05 Q1361.88 1053.05 1360.28 1056.17 Q1358.7 1059.27 1358.7 1065.51 Q1358.7 1071.72 1360.28 1074.84 Q1361.88 1077.94 1365.04 1077.94 Q1368.22 1077.94 1369.8 1074.84 Q1371.4 1071.72 1371.4 1065.51 Q1371.4 1059.27 1369.8 1056.17 Q1368.22 1053.05 1365.04 1053.05 M1365.04 1049.81 Q1370.12 1049.81 1372.8 1053.84 Q1375.49 1057.85 1375.49 1065.51 Q1375.49 1073.14 1372.8 1077.17 Q1370.12 1081.18 1365.04 1081.18 Q1359.95 1081.18 1357.26 1077.17 Q1354.59 1073.14 1354.59 1065.51 Q1354.59 1057.85 1357.26 1053.84 Q1359.95 1049.81 1365.04 1049.81 Z\" fill=\"#000000\" fill-rule=\"evenodd\" fill-opacity=\"1\" /><path clip-path=\"url(#clip240)\" d=\"M1382.68 1075.45 L1386.95 1075.45 L1386.95 1080.6 L1382.68 1080.6 L1382.68 1075.45 Z\" fill=\"#000000\" fill-rule=\"evenodd\" fill-opacity=\"1\" /><path clip-path=\"url(#clip240)\" d=\"M1408.26 1064.29 Q1411.2 1064.92 1412.84 1066.9 Q1414.5 1068.89 1414.5 1071.81 Q1414.5 1076.28 1411.42 1078.73 Q1408.34 1081.18 1402.67 1081.18 Q1400.77 1081.18 1398.74 1080.8 Q1396.74 1080.43 1394.59 1079.68 L1394.59 1075.74 Q1396.29 1076.73 1398.32 1077.23 Q1400.34 1077.74 1402.55 1077.74 Q1406.4 1077.74 1408.4 1076.22 Q1410.43 1074.7 1410.43 1071.81 Q1410.43 1069.13 1408.55 1067.63 Q1406.68 1066.11 1403.34 1066.11 L1399.82 1066.11 L1399.82 1062.75 L1403.5 1062.75 Q1406.52 1062.75 1408.12 1061.56 Q1409.72 1060.34 1409.72 1058.07 Q1409.72 1055.74 1408.06 1054.51 Q1406.42 1053.25 1403.34 1053.25 Q1401.66 1053.25 1399.73 1053.62 Q1397.81 1053.98 1395.5 1054.75 L1395.5 1051.11 Q1397.83 1050.46 1399.86 1050.13 Q1401.9 1049.81 1403.7 1049.81 Q1408.36 1049.81 1411.08 1051.94 Q1413.79 1054.04 1413.79 1057.65 Q1413.79 1060.16 1412.35 1061.9 Q1410.92 1063.62 1408.26 1064.29 Z\" fill=\"#000000\" fill-rule=\"evenodd\" fill-opacity=\"1\" /><path clip-path=\"url(#clip240)\" d=\"M1431.51 1063.85 Q1428.76 1063.85 1427.14 1065.73 Q1425.54 1067.61 1425.54 1070.89 Q1425.54 1074.16 1427.14 1076.06 Q1428.76 1077.94 1431.51 1077.94 Q1434.27 1077.94 1435.87 1076.06 Q1437.49 1074.16 1437.49 1070.89 Q1437.49 1067.61 1435.87 1065.73 Q1434.27 1063.85 1431.51 1063.85 M1439.64 1051.02 L1439.64 1054.75 Q1438.1 1054.02 1436.52 1053.64 Q1434.96 1053.25 1433.42 1053.25 Q1429.37 1053.25 1427.22 1055.99 Q1425.09 1058.72 1424.79 1064.25 Q1425.98 1062.49 1427.79 1061.56 Q1429.59 1060.6 1431.76 1060.6 Q1436.31 1060.6 1438.95 1063.38 Q1441.6 1066.13 1441.6 1070.89 Q1441.6 1075.55 1438.85 1078.37 Q1436.09 1081.18 1431.51 1081.18 Q1426.27 1081.18 1423.49 1077.17 Q1420.72 1073.14 1420.72 1065.51 Q1420.72 1058.34 1424.12 1054.08 Q1427.52 1049.81 1433.26 1049.81 Q1434.8 1049.81 1436.36 1050.11 Q1437.93 1050.42 1439.64 1051.02 Z\" fill=\"#000000\" fill-rule=\"evenodd\" fill-opacity=\"1\" /><path clip-path=\"url(#clip240)\" d=\"M1672.17 753.105 Q1669.41 753.105 1667.79 754.989 Q1666.19 756.872 1666.19 760.154 Q1666.19 763.415 1667.79 765.318 Q1669.41 767.202 1672.17 767.202 Q1674.92 767.202 1676.52 765.318 Q1678.14 763.415 1678.14 760.154 Q1678.14 756.872 1676.52 754.989 Q1674.92 753.105 1672.17 753.105 M1680.29 740.284 L1680.29 744.011 Q1678.75 743.282 1677.17 742.897 Q1675.61 742.512 1674.07 742.512 Q1670.02 742.512 1667.87 745.246 Q1665.75 747.981 1665.44 753.51 Q1666.64 751.748 1668.44 750.816 Q1670.24 749.864 1672.41 749.864 Q1676.97 749.864 1679.6 752.639 Q1682.25 755.394 1682.25 760.154 Q1682.25 764.812 1679.5 767.627 Q1676.74 770.443 1672.17 770.443 Q1666.92 770.443 1664.15 766.432 Q1661.37 762.402 1661.37 754.766 Q1661.37 747.596 1664.77 743.342 Q1668.18 739.069 1673.91 739.069 Q1675.45 739.069 1677.01 739.372 Q1678.59 739.676 1680.29 740.284 Z\" fill=\"#000000\" fill-rule=\"evenodd\" fill-opacity=\"1\" /><path clip-path=\"url(#clip240)\" d=\"M1689.3 764.711 L1693.58 764.711 L1693.58 769.855 L1689.3 769.855 L1689.3 764.711 Z\" fill=\"#000000\" fill-rule=\"evenodd\" fill-opacity=\"1\" /><path clip-path=\"url(#clip240)\" d=\"M1711.24 755.495 Q1708.32 755.495 1706.64 757.055 Q1704.98 758.614 1704.98 761.349 Q1704.98 764.083 1706.64 765.643 Q1708.32 767.202 1711.24 767.202 Q1714.15 767.202 1715.83 765.643 Q1717.52 764.063 1717.52 761.349 Q1717.52 758.614 1715.83 757.055 Q1714.17 755.495 1711.24 755.495 M1707.15 753.753 Q1704.51 753.105 1703.03 751.302 Q1701.58 749.5 1701.58 746.907 Q1701.58 743.282 1704.15 741.175 Q1706.74 739.069 1711.24 739.069 Q1715.75 739.069 1718.33 741.175 Q1720.9 743.282 1720.9 746.907 Q1720.9 749.5 1719.42 751.302 Q1717.96 753.105 1715.35 753.753 Q1718.31 754.442 1719.95 756.447 Q1721.61 758.452 1721.61 761.349 Q1721.61 765.744 1718.91 768.093 Q1716.24 770.443 1711.24 770.443 Q1706.23 770.443 1703.54 768.093 Q1700.87 765.744 1700.87 761.349 Q1700.87 758.452 1702.53 756.447 Q1704.19 754.442 1707.15 753.753 M1705.65 747.292 Q1705.65 749.641 1707.11 750.958 Q1708.58 752.275 1711.24 752.275 Q1713.87 752.275 1715.35 750.958 Q1716.85 749.641 1716.85 747.292 Q1716.85 744.942 1715.35 743.626 Q1713.87 742.309 1711.24 742.309 Q1708.58 742.309 1707.11 743.626 Q1705.65 744.942 1705.65 747.292 Z\" fill=\"#000000\" fill-rule=\"evenodd\" fill-opacity=\"1\" /><path clip-path=\"url(#clip240)\" d=\"M1812.35 1238.11 L1823.27 1238.11 L1823.27 1241.43 L1812.35 1241.43 L1812.35 1238.11 Z\" fill=\"#000000\" fill-rule=\"evenodd\" fill-opacity=\"1\" /><path clip-path=\"url(#clip240)\" d=\"M1828.69 1220.89 L1848.14 1220.89 L1848.14 1222.63 L1837.16 1251.13 L1832.89 1251.13 L1843.22 1224.33 L1828.69 1224.33 L1828.69 1220.89 Z\" fill=\"#000000\" fill-rule=\"evenodd\" fill-opacity=\"1\" /><path clip-path=\"url(#clip240)\" d=\"M1856.12 1245.99 L1860.39 1245.99 L1860.39 1251.13 L1856.12 1251.13 L1856.12 1245.99 Z\" fill=\"#000000\" fill-rule=\"evenodd\" fill-opacity=\"1\" /><path clip-path=\"url(#clip240)\" d=\"M1872.83 1247.69 L1887.11 1247.69 L1887.11 1251.13 L1867.91 1251.13 L1867.91 1247.69 Q1870.24 1245.28 1874.25 1241.23 Q1878.28 1237.16 1879.31 1235.98 Q1881.27 1233.77 1882.04 1232.25 Q1882.83 1230.72 1882.83 1229.24 Q1882.83 1226.83 1881.13 1225.31 Q1879.45 1223.79 1876.74 1223.79 Q1874.81 1223.79 1872.67 1224.46 Q1870.54 1225.12 1868.11 1226.48 L1868.11 1222.35 Q1870.58 1221.36 1872.73 1220.85 Q1874.87 1220.34 1876.66 1220.34 Q1881.36 1220.34 1884.15 1222.69 Q1886.95 1225.04 1886.95 1228.97 Q1886.95 1230.84 1886.24 1232.52 Q1885.55 1234.18 1883.71 1236.45 Q1883.2 1237.03 1880.49 1239.85 Q1877.77 1242.64 1872.83 1247.69 Z\" fill=\"#000000\" fill-rule=\"evenodd\" fill-opacity=\"1\" /><path clip-path=\"url(#clip240)\" d=\"M653.901 1103.05 L660.585 1103.05 L660.585 1079.98 L653.314 1081.44 L653.314 1077.71 L660.545 1076.26 L664.636 1076.26 L664.636 1103.05 L671.32 1103.05 L671.32 1106.5 L653.901 1106.5 L653.901 1103.05 Z\" fill=\"#000000\" fill-rule=\"evenodd\" fill-opacity=\"1\" /><path clip-path=\"url(#clip240)\" d=\"M802.016 273.994 L816.295 273.994 L816.295 277.437 L797.094 277.437 L797.094 273.994 Q799.423 271.584 803.434 267.533 Q807.464 263.462 808.497 262.287 Q810.462 260.079 811.232 258.56 Q812.022 257.021 812.022 255.542 Q812.022 253.132 810.32 251.613 Q808.639 250.094 805.925 250.094 Q804.001 250.094 801.854 250.762 Q799.727 251.43 797.297 252.787 L797.297 248.656 Q799.768 247.663 801.915 247.157 Q804.062 246.65 805.844 246.65 Q810.543 246.65 813.338 249 Q816.133 251.349 816.133 255.279 Q816.133 257.142 815.424 258.823 Q814.736 260.484 812.893 262.753 Q812.386 263.34 809.672 266.155 Q806.958 268.951 802.016 273.994 Z\" fill=\"#000000\" fill-rule=\"evenodd\" fill-opacity=\"1\" /><path clip-path=\"url(#clip240)\" d=\"M1150.04 1336.5 Q1152.98 1337.13 1154.62 1339.11 Q1156.28 1341.1 1156.28 1344.01 Q1156.28 1348.49 1153.2 1350.94 Q1150.12 1353.39 1144.45 1353.39 Q1142.54 1353.39 1140.52 1353.01 Q1138.51 1352.64 1136.37 1351.89 L1136.37 1347.94 Q1138.07 1348.93 1140.09 1349.44 Q1142.12 1349.95 1144.33 1349.95 Q1148.18 1349.95 1150.18 1348.43 Q1152.21 1346.91 1152.21 1344.01 Q1152.21 1341.34 1150.32 1339.84 Q1148.46 1338.32 1145.12 1338.32 L1141.59 1338.32 L1141.59 1334.96 L1145.28 1334.96 Q1148.3 1334.96 1149.9 1333.76 Q1151.5 1332.55 1151.5 1330.28 Q1151.5 1327.95 1149.84 1326.71 Q1148.2 1325.46 1145.12 1325.46 Q1143.44 1325.46 1141.51 1325.82 Q1139.59 1326.19 1137.28 1326.96 L1137.28 1323.31 Q1139.61 1322.66 1141.63 1322.34 Q1143.68 1322.02 1145.48 1322.02 Q1150.14 1322.02 1152.85 1324.14 Q1155.57 1326.25 1155.57 1329.85 Q1155.57 1332.37 1154.13 1334.11 Q1152.69 1335.83 1150.04 1336.5 Z\" fill=\"#000000\" fill-rule=\"evenodd\" fill-opacity=\"1\" /><path clip-path=\"url(#clip240)\" d=\"M1289.18 520.895 L1278.85 537.038 L1289.18 537.038 L1289.18 520.895 M1288.11 517.331 L1293.26 517.331 L1293.26 537.038 L1297.57 537.038 L1297.57 540.441 L1293.26 540.441 L1293.26 547.571 L1289.18 547.571 L1289.18 540.441 L1275.53 540.441 L1275.53 536.491 L1288.11 517.331 Z\" fill=\"#000000\" fill-rule=\"evenodd\" fill-opacity=\"1\" /><path clip-path=\"url(#clip240)\" d=\"M1729.18 1199.24 L1745.24 1199.24 L1745.24 1202.68 L1732.92 1202.68 L1732.92 1210.09 Q1733.81 1209.79 1734.71 1209.65 Q1735.6 1209.49 1736.49 1209.49 Q1741.55 1209.49 1744.51 1212.26 Q1747.47 1215.03 1747.47 1219.77 Q1747.47 1224.66 1744.43 1227.37 Q1741.39 1230.06 1735.86 1230.06 Q1733.96 1230.06 1731.97 1229.74 Q1730.01 1229.42 1727.9 1228.77 L1727.9 1224.66 Q1729.72 1225.65 1731.67 1226.13 Q1733.61 1226.62 1735.78 1226.62 Q1739.28 1226.62 1741.33 1224.78 Q1743.37 1222.93 1743.37 1219.77 Q1743.37 1216.61 1741.33 1214.77 Q1739.28 1212.93 1735.78 1212.93 Q1734.14 1212.93 1732.5 1213.29 Q1730.88 1213.66 1729.18 1214.43 L1729.18 1199.24 Z\" fill=\"#000000\" fill-rule=\"evenodd\" fill-opacity=\"1\" /></svg>\n"
      ]
     },
     "execution_count": 85,
     "metadata": {},
     "output_type": "execute_result"
    }
   ],
   "source": [
    "n = 5\n",
    "edgelabel_dict = Dict()\n",
    "edgelabel_mat = Array{String}(undef, n, n)\n",
    "for i in 1:n\n",
    "    for j in 1:n\n",
    "        edgelabel_mat[i, j] = edgelabel_dict[(i, j)] = string(round(g[i,j],sigdigits=2)) \n",
    "    end\n",
    "end\n",
    "edgelabel_vec = edgelabel_mat[:]\n",
    "\n",
    "\n",
    "graphplot(g, names=1:5, curvature_scalar=0.2,  edgelabel=edgelabel_dict, markersize = 0.5,\n",
    "           linecolor = :darkgrey, markercolor = \"yellow\",\n",
    "           linealpha = 0.7)"
   ]
  },
  {
   "cell_type": "code",
   "execution_count": 95,
   "id": "63df4e12",
   "metadata": {},
   "outputs": [
    {
     "data": {
      "text/plain": [
       "5×5 Matrix{Float64}:\n",
       " 0.293555  0.59818   0.0760125  0.0168925  0.0153609\n",
       " 0.293555  0.59818   0.0760125  0.0168924  0.0153608\n",
       " 0.293554  0.598179  0.0760127  0.0168926  0.0153611\n",
       " 0.293554  0.598178  0.0760132  0.0168931  0.0153616\n",
       " 0.293553  0.598178  0.0760134  0.0168933  0.0153619"
      ]
     },
     "execution_count": 95,
     "metadata": {},
     "output_type": "execute_result"
    }
   ],
   "source": [
    "exp(g*7)"
   ]
  },
  {
   "cell_type": "code",
   "execution_count": null,
   "id": "02670102",
   "metadata": {},
   "outputs": [],
   "source": []
  }
 ],
 "metadata": {
  "kernelspec": {
   "display_name": "Julia 1.6.3",
   "language": "julia",
   "name": "julia-1.6"
  },
  "language_info": {
   "file_extension": ".jl",
   "mimetype": "application/julia",
   "name": "julia",
   "version": "1.6.3"
  }
 },
 "nbformat": 4,
 "nbformat_minor": 5
}
