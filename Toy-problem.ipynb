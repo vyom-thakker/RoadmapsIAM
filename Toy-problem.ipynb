{
 "cells": [
  {
   "cell_type": "code",
   "execution_count": 237,
   "id": "0cd38929",
   "metadata": {},
   "outputs": [
    {
     "name": "stderr",
     "output_type": "stream",
     "text": [
      "\u001b[32m\u001b[1m  Activating\u001b[22m\u001b[39m environment at `~/Documents/project-codes/Plan_RoadmapsIAM/toy-problem/Project.toml`\n"
     ]
    }
   ],
   "source": [
    "\n",
    "using Pkg\n",
    "Pkg.activate(\".\")\n",
    "using JuMP\n",
    "using CSV\n",
    "using GraphRecipes, Plots\n",
    "using LightGraphs\n",
    "using LinearAlgebra\n",
    "using SparseArrays\n",
    "using DataFrames\n",
    "using Gurobi"
   ]
  },
  {
   "cell_type": "code",
   "execution_count": 238,
   "id": "6cd49756",
   "metadata": {},
   "outputs": [
    {
     "data": {
      "text/plain": [
       "7"
      ]
     },
     "execution_count": 238,
     "metadata": {},
     "output_type": "execute_result"
    }
   ],
   "source": [
    "innovations = CSV.File(\"./innovations.csv\",header=1,delim=\",\") |> DataFrame\n",
    "mapki = CSV.File(\"./map-ki.csv\",header=1,delim=\",\") |> DataFrame\n",
    "compromise = CSV.File(\"./compromise.csv\",header=1,delim=\",\") |> DataFrame\n",
    "initial = CSV.File(\"./initial.csv\",header=1,delim=\",\") |> DataFrame\n",
    "ci=innovations[!,2]\n",
    "rl=innovations[!,3]\n",
    "initial\n",
    "innovations[2,6]=7\n",
    "#innovations[2,3]=2\n",
    "#innovations[2,2]=142"
   ]
  },
  {
   "cell_type": "code",
   "execution_count": 239,
   "id": "050a94c4",
   "metadata": {},
   "outputs": [],
   "source": [
    "#using Pkg;\n",
    "#Pkg.build(\"BARON\")"
   ]
  },
  {
   "cell_type": "code",
   "execution_count": 264,
   "id": "160b339d",
   "metadata": {},
   "outputs": [
    {
     "data": {
      "text/plain": [
       "get_RL_atT (generic function with 1 method)"
      ]
     },
     "execution_count": 264,
     "metadata": {},
     "output_type": "execute_result"
    }
   ],
   "source": [
    "function get_transition_mat(i)\n",
    "    p_mat=reshape(collect(innovations[i,9:33]),5,5)\n",
    "    return p_mat'\n",
    "end\n",
    "\n",
    "\n",
    "function get_rate_mat(i)\n",
    "    p_mat=get_transition_mat(i)\n",
    "    q_mat=p_mat./collect(innovations[i,4:8])\n",
    "    for i in 1:5\n",
    "        q_mat[i,i]=-1*sum(q_mat[i,j] for j in 1:5 if j!=i)\n",
    "    end\n",
    "    return q_mat\n",
    "end\n",
    "\n",
    "function get_IAM_factor(t)\n",
    "    return 1\n",
    "end\n",
    "\n",
    "function give_sorted(t)\n",
    "    v=sortperm(t)\n",
    "    return v\n",
    "end\n",
    "\n",
    "function calc_tot_co2(x,t)\n",
    "    v=give_sorted(t)\n",
    "    for i in 1:(size(tk)[1]-1)\n",
    "        print(initial[1,3]*tk[v][1]-sum(xk[v[j]]*tk[v][j+1]*(initial[1,3]-compromise[v,3][j]) for j in 1:i))\n",
    "        print(\"\\n\")\n",
    "    end\n",
    "    return 1\n",
    "end\n",
    "\n",
    "function get_RL_atT(i,t)\n",
    "    s0=[0 0 0 0 0]\n",
    "    s0[rl[i]]=1\n",
    "    q=get_rate_mat(i)\n",
    "    rl_t=sum([1 2 3 4 5].*(s0*exp(q*t)))\n",
    "    #rl_t=sum([1 2 3 4 5].*(s0*(I+t*q+1/2*t^2*q^2)))\n",
    "    #temp1=Diagonal(eigvals(q))\n",
    "    #temp2=reshape(reduce(vcat,(I(5)+t.*temp1)),5,5)\n",
    "    #d=eigvecs(q)'*(temp2)*inv(eigvecs(q)')\n",
    "    #rl_t=sum([1 2 3 4 5].*(s0*d))\n",
    "    return rl_t\n",
    "end\n"
   ]
  },
  {
   "cell_type": "code",
   "execution_count": 265,
   "id": "54e9fd3d-1d93-4b82-afa2-ecff64de11c4",
   "metadata": {},
   "outputs": [
    {
     "data": {
      "text/plain": [
       "3.614915662058677"
      ]
     },
     "execution_count": 265,
     "metadata": {},
     "output_type": "execute_result"
    }
   ],
   "source": [
    "get_RL_atT(5,50)"
   ]
  },
  {
   "cell_type": "code",
   "execution_count": 242,
   "id": "b9a5bd8e",
   "metadata": {},
   "outputs": [
    {
     "data": {
      "text/plain": [
       "tech_roadmap (generic function with 1 method)"
      ]
     },
     "execution_count": 242,
     "metadata": {},
     "output_type": "execute_result"
    }
   ],
   "source": [
    "function tech_roadmap()\n",
    "    rdmap= Model(Gurobi.Optimizer)\n",
    "    @variable(rdmap,yk[k=1:nrow(compromise)],Bin)\n",
    "    @variable(rdmap,0 ≤ tk[k=1:nrow(compromise)] ≤ 50)\n",
    "    @variable(rdmap,0 ≤ xk[k=1:nrow(compromise)] ≤ 1)\n",
    "    @variable(rdmap,yi[i=1:nrow(innovations)],Bin)\n",
    "    @variable(rdmap,0 ≤ ti[i=1:nrow(innovations)] ≤ 50)\n",
    "    @variable(rdmap, 1 ≤ s[i=1:nrow(innovations)] )\n",
    "    \n",
    "    @variable(rdmap, co2_2050 ≥ 0)\n",
    "    @variable(rdmap, co2_total ≥ 0)\n",
    "    @variable(rdmap, cost_inn≥ 0)\n",
    "    \n",
    "    @constraint(rdmap, [i=1], sum(yk[k] for k=1:mapki[i,2])==yi[i])\n",
    "    @constraint(rdmap, [i=2:nrow(mapki)], sum(yk[k] for k=mapki[i-1,2]:mapki[i,2])==yi[i])\n",
    "    \n",
    "    @constraint(rdmap, [i=1,k=1:mapki[i,2]], ti[i] ≤ tk[k])\n",
    "    @constraint(rdmap, [i=2:nrow(mapki),k=mapki[i-1,2]:mapki[i,2]], ti[i] ≤ tk[k])\n",
    "    \n",
    "    @constraint(rdmap, [i=1:nrow(mapki)], 50*yi[i] ≥ ti[i])\n",
    "    @constraint(rdmap, [k=1:nrow(compromise)], 50*yk[k] ≥ tk[k])\n",
    "    \n",
    "    @constraint(rdmap, [k=1:nrow(compromise)], yk[k] ≥ xk[k])\n",
    "    @constraint(rdmap, sum(xk[k] for k in 1:nrow(compromise)) ≤ 1) \n",
    "    \n",
    "    \n",
    "    @constraint(rdmap, co2_2050==sum(xk[k]*compromise[k,3]*get_IAM_factor(tk[k]) for k in 1:nrow(compromise))\n",
    "        + (1-sum(xk[k] for k in 1:nrow(compromise)))*initial[1,3])\n",
    "    \n",
    "    #@constraint(rdmap, co2_total == calc_tot_co2(xk,tk))\n",
    "    \n",
    "    @constraint(rdmap, [i=1:nrow(innovations)], s[i]==get_RL_atT(i,ti[i]))\n",
    "    \n",
    "    @constraint(rdmap, co2_2050 ≤ 75)\n",
    "    @constraint(rdmap, cost_inn == sum(ci[i]*(yi[i]*(5-s[i])) for i in 1:nrow(innovations)))\n",
    "    @objective(rdmap,Min, cost_inn)\n",
    "    \n",
    "    optimize!(rdmap)\n",
    "    return JuMP.value.(yk), JuMP.value.(tk), JuMP.value.(xk), JuMP.value.(yi), JuMP.value.(ti), JuMP.value.(s), JuMP.value.(co2_2050), JuMP.value.(cost_inn)  \n",
    "end"
   ]
  },
  {
   "cell_type": "code",
   "execution_count": 243,
   "id": "e971da9a",
   "metadata": {},
   "outputs": [
    {
     "name": "stdout",
     "output_type": "stream",
     "text": [
      "Set parameter Username\n",
      "Academic license - for non-commercial use only - expires 2022-11-07\n"
     ]
    },
    {
     "name": "stderr",
     "output_type": "stream",
     "text": [
      "┌ Warning: Axis contains one element: 1. If intended, you can safely ignore this warning. To explicitly pass the axis with one element, pass `[1]` instead of `1`.\n",
      "└ @ JuMP.Containers /home/thakker.8/.julia/packages/JuMP/2IF9U/src/Containers/DenseAxisArray.jl:156\n"
     ]
    },
    {
     "ename": "LoadError",
     "evalue": "MethodError: no method matching exp(::Matrix{AffExpr})\n\u001b[0mClosest candidates are:\n\u001b[0m  exp(\u001b[91m::StridedMatrix{var\"#s814\"} where var\"#s814\"<:Union{Float32, Float64, ComplexF32, ComplexF64}\u001b[39m) at /buildworker/worker/package_linux64/build/usr/share/julia/stdlib/v1.6/LinearAlgebra/src/dense.jl:557\n\u001b[0m  exp(\u001b[91m::StridedMatrix{var\"#s814\"} where var\"#s814\"<:Union{Integer, Complex{var\"#s813\"} where var\"#s813\"<:Integer}\u001b[39m) at /buildworker/worker/package_linux64/build/usr/share/julia/stdlib/v1.6/LinearAlgebra/src/dense.jl:558\n\u001b[0m  exp(\u001b[91m::UniformScaling\u001b[39m) at /buildworker/worker/package_linux64/build/usr/share/julia/stdlib/v1.6/LinearAlgebra/src/uniformscaling.jl:174\n\u001b[0m  ...",
     "output_type": "error",
     "traceback": [
      "MethodError: no method matching exp(::Matrix{AffExpr})\n\u001b[0mClosest candidates are:\n\u001b[0m  exp(\u001b[91m::StridedMatrix{var\"#s814\"} where var\"#s814\"<:Union{Float32, Float64, ComplexF32, ComplexF64}\u001b[39m) at /buildworker/worker/package_linux64/build/usr/share/julia/stdlib/v1.6/LinearAlgebra/src/dense.jl:557\n\u001b[0m  exp(\u001b[91m::StridedMatrix{var\"#s814\"} where var\"#s814\"<:Union{Integer, Complex{var\"#s813\"} where var\"#s813\"<:Integer}\u001b[39m) at /buildworker/worker/package_linux64/build/usr/share/julia/stdlib/v1.6/LinearAlgebra/src/dense.jl:558\n\u001b[0m  exp(\u001b[91m::UniformScaling\u001b[39m) at /buildworker/worker/package_linux64/build/usr/share/julia/stdlib/v1.6/LinearAlgebra/src/uniformscaling.jl:174\n\u001b[0m  ...",
      "",
      "Stacktrace:",
      "  [1] get_RL_atT(i::Int64, t::VariableRef)",
      "    @ Main ./In[240]:38",
      "  [2] macro expansion",
      "    @ ~/.julia/packages/MutableArithmetics/zrdPL/src/rewrite.jl:281 [inlined]",
      "  [3] macro expansion",
      "    @ ~/.julia/packages/JuMP/2IF9U/src/macros.jl:813 [inlined]",
      "  [4] (::var\"#786#804\"{Vector{VariableRef}, Vector{VariableRef}, Model})(i::Int64)",
      "    @ Main ~/.julia/packages/JuMP/2IF9U/src/Containers/macro.jl:309",
      "  [5] #37",
      "    @ ~/.julia/packages/JuMP/2IF9U/src/Containers/container.jl:72 [inlined]",
      "  [6] iterate",
      "    @ ./generator.jl:47 [inlined]",
      "  [7] collect(itr::Base.Generator{JuMP.Containers.VectorizedProductIterator{Tuple{Base.OneTo{Int64}}}, JuMP.Containers.var\"#37#38\"{var\"#786#804\"{Vector{VariableRef}, Vector{VariableRef}, Model}}})",
      "    @ Base ./array.jl:681",
      "  [8] map",
      "    @ ./abstractarray.jl:2323 [inlined]",
      "  [9] container",
      "    @ ~/.julia/packages/JuMP/2IF9U/src/Containers/container.jl:72 [inlined]",
      " [10] container",
      "    @ ~/.julia/packages/JuMP/2IF9U/src/Containers/container.jl:66 [inlined]",
      " [11] tech_roadmap()",
      "    @ Main ./In[242]:32",
      " [12] top-level scope",
      "    @ In[243]:1",
      " [13] eval",
      "    @ ./boot.jl:360 [inlined]",
      " [14] include_string(mapexpr::typeof(REPL.softscope), mod::Module, code::String, filename::String)",
      "    @ Base ./loading.jl:1116"
     ]
    }
   ],
   "source": [
    "yk, tk, xk, yi, ti, s, co2, cost1=tech_roadmap()\n",
    "yi"
   ]
  },
  {
   "cell_type": "code",
   "execution_count": 180,
   "id": "385863c0",
   "metadata": {},
   "outputs": [
    {
     "data": {
      "text/plain": [
       "5-element Vector{Float64}:\n",
       " 0.0\n",
       " 0.0\n",
       " 0.0\n",
       " 0.0\n",
       " 2.6645352591003757e-15"
      ]
     },
     "execution_count": 180,
     "metadata": {},
     "output_type": "execute_result"
    }
   ],
   "source": [
    "ti"
   ]
  },
  {
   "cell_type": "code",
   "execution_count": 181,
   "id": "7a1746e6",
   "metadata": {},
   "outputs": [
    {
     "data": {
      "text/plain": [
       "5-element Vector{Float64}:\n",
       " -0.0\n",
       "  1.0\n",
       " -0.0\n",
       " -0.0\n",
       " -0.0"
      ]
     },
     "execution_count": 181,
     "metadata": {},
     "output_type": "execute_result"
    }
   ],
   "source": [
    "yi"
   ]
  },
  {
   "cell_type": "code",
   "execution_count": 182,
   "id": "f1bc445a-189b-46db-9787-4d7e0bb692ee",
   "metadata": {},
   "outputs": [
    {
     "data": {
      "text/plain": [
       "75.00000000000011"
      ]
     },
     "execution_count": 182,
     "metadata": {},
     "output_type": "execute_result"
    }
   ],
   "source": [
    "co2"
   ]
  },
  {
   "cell_type": "code",
   "execution_count": 191,
   "id": "aaa08e92-1891-4d57-9f48-64bb590664a1",
   "metadata": {},
   "outputs": [
    {
     "data": {
      "text/plain": [
       "5-element Vector{Float64}:\n",
       " 1.9999999999999998\n",
       " 3.0\n",
       " 1.0\n",
       " 3.0\n",
       " 1.0"
      ]
     },
     "execution_count": 191,
     "metadata": {},
     "output_type": "execute_result"
    }
   ],
   "source": [
    "s"
   ]
  },
  {
   "cell_type": "code",
   "execution_count": 184,
   "id": "2858b727",
   "metadata": {},
   "outputs": [
    {
     "data": {
      "text/plain": [
       "244.0"
      ]
     },
     "execution_count": 184,
     "metadata": {},
     "output_type": "execute_result"
    }
   ],
   "source": [
    "cost1"
   ]
  },
  {
   "cell_type": "code",
   "execution_count": 185,
   "id": "7daab2db",
   "metadata": {},
   "outputs": [
    {
     "data": {
      "text/html": [
       "<div class=\"data-frame\"><p>5 rows × 33 columns (omitted printing of 24 columns)</p><table class=\"data-frame\"><thead><tr><th></th><th>i</th><th>Cost_per_RL</th><th>RL</th><th>Sojourn1</th><th>Sojourn2</th><th>Sojourn3</th><th>Sojourn4</th><th>Sojourn5</th><th>P11</th></tr><tr><th></th><th title=\"Int64\">Int64</th><th title=\"Int64\">Int64</th><th title=\"Int64\">Int64</th><th title=\"Float64\">Float64</th><th title=\"Float64\">Float64</th><th title=\"Float64\">Float64</th><th title=\"Float64\">Float64</th><th title=\"Float64\">Float64</th><th title=\"Int64\">Int64</th></tr></thead><tbody><tr><th>1</th><td>1</td><td>92</td><td>2</td><td>4.6</td><td>1.34</td><td>2.04</td><td>0.12</td><td>8.86</td><td>0</td></tr><tr><th>2</th><td>2</td><td>122</td><td>3</td><td>8.32</td><td>8.84</td><td>7.0</td><td>9.9</td><td>9.65</td><td>0</td></tr><tr><th>3</th><td>3</td><td>78</td><td>1</td><td>4.44</td><td>1.21</td><td>5.09</td><td>6.52</td><td>8.67</td><td>0</td></tr><tr><th>4</th><td>4</td><td>131</td><td>3</td><td>5.48</td><td>7.62</td><td>3.34</td><td>5.05</td><td>5.6</td><td>0</td></tr><tr><th>5</th><td>5</td><td>95</td><td>1</td><td>9.94</td><td>2.38</td><td>7.94</td><td>3.82</td><td>5.44</td><td>0</td></tr></tbody></table></div>"
      ],
      "text/latex": [
       "\\begin{tabular}{r|cccccccccc}\n",
       "\t& i & Cost\\_per\\_RL & RL & Sojourn1 & Sojourn2 & Sojourn3 & Sojourn4 & Sojourn5 & P11 & \\\\\n",
       "\t\\hline\n",
       "\t& Int64 & Int64 & Int64 & Float64 & Float64 & Float64 & Float64 & Float64 & Int64 & \\\\\n",
       "\t\\hline\n",
       "\t1 & 1 & 92 & 2 & 4.6 & 1.34 & 2.04 & 0.12 & 8.86 & 0 & $\\dots$ \\\\\n",
       "\t2 & 2 & 122 & 3 & 8.32 & 8.84 & 7.0 & 9.9 & 9.65 & 0 & $\\dots$ \\\\\n",
       "\t3 & 3 & 78 & 1 & 4.44 & 1.21 & 5.09 & 6.52 & 8.67 & 0 & $\\dots$ \\\\\n",
       "\t4 & 4 & 131 & 3 & 5.48 & 7.62 & 3.34 & 5.05 & 5.6 & 0 & $\\dots$ \\\\\n",
       "\t5 & 5 & 95 & 1 & 9.94 & 2.38 & 7.94 & 3.82 & 5.44 & 0 & $\\dots$ \\\\\n",
       "\\end{tabular}\n"
      ],
      "text/plain": [
       "\u001b[1m5×33 DataFrame\u001b[0m\n",
       "\u001b[1m Row \u001b[0m│\u001b[1m i     \u001b[0m\u001b[1m Cost_per_RL \u001b[0m\u001b[1m RL    \u001b[0m\u001b[1m Sojourn1 \u001b[0m\u001b[1m Sojourn2 \u001b[0m\u001b[1m Sojourn3 \u001b[0m\u001b[1m Sojourn4 \u001b[0m\u001b[1m Sojo\u001b[0m ⋯\n",
       "\u001b[1m     \u001b[0m│\u001b[90m Int64 \u001b[0m\u001b[90m Int64       \u001b[0m\u001b[90m Int64 \u001b[0m\u001b[90m Float64  \u001b[0m\u001b[90m Float64  \u001b[0m\u001b[90m Float64  \u001b[0m\u001b[90m Float64  \u001b[0m\u001b[90m Floa\u001b[0m ⋯\n",
       "─────┼──────────────────────────────────────────────────────────────────────────\n",
       "   1 │     1           92      2      4.6       1.34      2.04      0.12       ⋯\n",
       "   2 │     2          122      3      8.32      8.84      7.0       9.9\n",
       "   3 │     3           78      1      4.44      1.21      5.09      6.52\n",
       "   4 │     4          131      3      5.48      7.62      3.34      5.05\n",
       "   5 │     5           95      1      9.94      2.38      7.94      3.82       ⋯\n",
       "\u001b[36m                                                              26 columns omitted\u001b[0m"
      ]
     },
     "execution_count": 185,
     "metadata": {},
     "output_type": "execute_result"
    }
   ],
   "source": [
    "innovations"
   ]
  },
  {
   "cell_type": "code",
   "execution_count": 13,
   "id": "e0dd093a",
   "metadata": {},
   "outputs": [
    {
     "data": {
      "text/plain": [
       "15.104427168668323"
      ]
     },
     "execution_count": 13,
     "metadata": {},
     "output_type": "execute_result"
    }
   ],
   "source": [
    "get_RL_atT(4,50)"
   ]
  },
  {
   "cell_type": "code",
   "execution_count": 14,
   "id": "a60414f8",
   "metadata": {},
   "outputs": [
    {
     "data": {
      "text/plain": [
       "2-element Vector{Vector{Vector{Real}}}:\n",
       " [[0, 0.76, 0.21, 0.03, 0]]\n",
       " [[0, 0.76, 0.21, 0.03, 0]]"
      ]
     },
     "execution_count": 14,
     "metadata": {},
     "output_type": "execute_result"
    }
   ],
   "source": [
    "i=1\n",
    "eDtmc=[[collect(innovations[i,9:13])],[collect(innovations[i,9:13])]]"
   ]
  },
  {
   "cell_type": "code",
   "execution_count": 15,
   "id": "525e6be7",
   "metadata": {},
   "outputs": [
    {
     "data": {
      "text/html": [
       "<p>DataFrameRow (5 columns)</p><div class=\"data-frame\"><table class=\"data-frame\"><thead><tr><th></th><th>P11</th><th>P12</th><th>P13</th><th>P14</th><th>P15</th></tr><tr><th></th><th title=\"Int64\">Int64</th><th title=\"Float64\">Float64</th><th title=\"Float64\">Float64</th><th title=\"Float64\">Float64</th><th title=\"Int64\">Int64</th></tr></thead><tbody><tr><th>1</th><td>0</td><td>0.76</td><td>0.21</td><td>0.03</td><td>0</td></tr></tbody></table></div>"
      ],
      "text/latex": [
       "\\begin{tabular}{r|ccccc}\n",
       "\t& P11 & P12 & P13 & P14 & P15\\\\\n",
       "\t\\hline\n",
       "\t& Int64 & Float64 & Float64 & Float64 & Int64\\\\\n",
       "\t\\hline\n",
       "\t1 & 0 & 0.76 & 0.21 & 0.03 & 0 \\\\\n",
       "\\end{tabular}\n"
      ],
      "text/plain": [
       "\u001b[1mDataFrameRow\u001b[0m\n",
       "\u001b[1m Row \u001b[0m│\u001b[1m P11   \u001b[0m\u001b[1m P12     \u001b[0m\u001b[1m P13     \u001b[0m\u001b[1m P14     \u001b[0m\u001b[1m P15   \u001b[0m\n",
       "\u001b[1m     \u001b[0m│\u001b[90m Int64 \u001b[0m\u001b[90m Float64 \u001b[0m\u001b[90m Float64 \u001b[0m\u001b[90m Float64 \u001b[0m\u001b[90m Int64 \u001b[0m\n",
       "─────┼─────────────────────────────────────────\n",
       "   1 │     0     0.76     0.21     0.03      0"
      ]
     },
     "execution_count": 15,
     "metadata": {},
     "output_type": "execute_result"
    }
   ],
   "source": [
    "innovations[1,9:13]"
   ]
  },
  {
   "cell_type": "code",
   "execution_count": 16,
   "id": "048bd6da",
   "metadata": {},
   "outputs": [
    {
     "data": {
      "text/plain": [
       "5-element Vector{Real}:\n",
       " 0\n",
       " 0.76\n",
       " 0.21\n",
       " 0.03\n",
       " 0"
      ]
     },
     "execution_count": 16,
     "metadata": {},
     "output_type": "execute_result"
    }
   ],
   "source": [
    "collect(innovations[i,9:13])"
   ]
  },
  {
   "cell_type": "code",
   "execution_count": 17,
   "id": "2945163c",
   "metadata": {},
   "outputs": [
    {
     "data": {
      "text/plain": [
       "5×5 Matrix{Float64}:\n",
       " 0.509675  0.259744  0.170531  0.0293273  0.0307228\n",
       " 0.504729  0.25929   0.171824  0.0307344  0.0334224\n",
       " 0.478735  0.253665  0.177902  0.0392907  0.050407\n",
       " 0.392655  0.226214  0.190891  0.071864   0.118376\n",
       " 0.337489  0.207874  0.198567  0.093104   0.162965"
      ]
     },
     "execution_count": 17,
     "metadata": {},
     "output_type": "execute_result"
    }
   ],
   "source": [
    "g=exp(get_rate_mat(2)*50)\n"
   ]
  },
  {
   "cell_type": "code",
   "execution_count": 18,
   "id": "9d70e055",
   "metadata": {},
   "outputs": [
    {
     "data": {
      "image/svg+xml": [
       "<?xml version=\"1.0\" encoding=\"utf-8\"?>\n",
       "<svg xmlns=\"http://www.w3.org/2000/svg\" xmlns:xlink=\"http://www.w3.org/1999/xlink\" width=\"600\" height=\"400\" viewBox=\"0 0 2400 1600\">\n",
       "<defs>\n",
       "  <clipPath id=\"clip760\">\n",
       "    <rect x=\"0\" y=\"0\" width=\"2400\" height=\"1600\"/>\n",
       "  </clipPath>\n",
       "</defs>\n",
       "<path clip-path=\"url(#clip760)\" d=\"\n",
       "M0 1600 L2400 1600 L2400 0 L0 0  Z\n",
       "  \" fill=\"#ffffff\" fill-rule=\"evenodd\" fill-opacity=\"1\"/>\n",
       "<defs>\n",
       "  <clipPath id=\"clip761\">\n",
       "    <rect x=\"480\" y=\"0\" width=\"1681\" height=\"1600\"/>\n",
       "  </clipPath>\n",
       "</defs>\n",
       "<path clip-path=\"url(#clip760)\" d=\"\n",
       "M447.244 1552.76 L1952.76 1552.76 L1952.76 47.2441 L447.244 47.2441  Z\n",
       "  \" fill=\"#ffffff\" fill-rule=\"evenodd\" fill-opacity=\"1\"/>\n",
       "<defs>\n",
       "  <clipPath id=\"clip762\">\n",
       "    <rect x=\"447\" y=\"47\" width=\"1507\" height=\"1507\"/>\n",
       "  </clipPath>\n",
       "</defs>\n",
       "<polyline clip-path=\"url(#clip762)\" style=\"stroke:#000000; stroke-linecap:butt; stroke-linejoin:round; stroke-width:4; stroke-opacity:0.7; fill:none\" points=\"\n",
       "  1017,1244.55 1005.48,1260.64 994.06,1276.62 982.813,1292.4 971.832,1307.87 961.207,1322.93 951.027,1337.48 941.379,1351.41 932.353,1364.62 924.039,1377.02 \n",
       "  916.524,1388.49 909.897,1398.94 904.248,1408.27 899.653,1416.37 896.091,1423.28 893.488,1429.07 891.769,1433.81 890.861,1437.59 890.689,1440.48 891.179,1442.56 \n",
       "  892.257,1443.9 893.849,1444.58 895.881,1444.69 898.278,1444.28 900.967,1443.45 903.873,1442.27 906.925,1440.81 910.052,1439.15 913.186,1437.34 916.257,1435.46 \n",
       "  919.194,1433.59 921.93,1431.78 924.394,1430.11 926.516,1428.64 928.227,1427.45 929.458,1426.6 930.139,1426.17 930.2,1426.21 929.612,1426.78 928.421,1427.82 \n",
       "  926.681,1429.3 924.448,1431.17 921.776,1433.39 918.72,1435.91 915.335,1438.7 911.676,1441.7 907.798,1444.88 903.755,1448.19 899.602,1451.59 895.395,1455.03 \n",
       "  \n",
       "  \"/>\n",
       "<polyline clip-path=\"url(#clip762)\" style=\"stroke:#000000; stroke-linecap:butt; stroke-linejoin:round; stroke-width:4; stroke-opacity:0.7; fill:none\" points=\"\n",
       "  934.659,1446.17 895.395,1455.03 911.872,1418.3 \n",
       "  \"/>\n",
       "<polyline clip-path=\"url(#clip762)\" style=\"stroke:#000000; stroke-linecap:butt; stroke-linejoin:round; stroke-width:4; stroke-opacity:0.7; fill:none\" points=\"\n",
       "  895.395,1455.03 899.602,1451.59 \n",
       "  \"/>\n",
       "<polyline clip-path=\"url(#clip762)\" style=\"stroke:#000000; stroke-linecap:butt; stroke-linejoin:round; stroke-width:4; stroke-opacity:0.7; fill:none\" points=\"\n",
       "  935.271,1337.68 917.837,1329.14 900.442,1320.59 883.124,1312.02 865.921,1303.44 848.871,1294.84 832.012,1286.21 815.384,1277.55 799.024,1268.84 782.97,1260.09 \n",
       "  767.262,1251.29 751.937,1242.43 737.034,1233.5 722.59,1224.51 708.645,1215.45 695.237,1206.3 682.404,1197.07 670.184,1187.75 658.615,1178.33 647.737,1168.81 \n",
       "  637.587,1159.18 628.204,1149.44 619.625,1139.57 611.89,1129.58 605.037,1119.46 599.102,1109.2 594.085,1098.81 589.951,1088.28 586.659,1077.63 584.173,1066.86 \n",
       "  582.453,1055.97 581.461,1044.98 581.16,1033.88 581.51,1022.69 582.473,1011.4 584.012,1000.03 586.087,988.578 588.661,977.053 591.694,965.459 595.149,953.802 \n",
       "  598.988,942.089 603.171,930.323 607.662,918.513 612.42,906.662 617.409,894.777 622.589,882.863 627.922,870.927 633.371,858.973 638.896,847.008 644.46,835.037 \n",
       "  \n",
       "  \"/>\n",
       "<polyline clip-path=\"url(#clip762)\" style=\"stroke:#000000; stroke-linecap:butt; stroke-linejoin:round; stroke-width:4; stroke-opacity:0.7; fill:none\" points=\"\n",
       "  612.964,860.097 644.46,835.037 645.61,875.27 \n",
       "  \"/>\n",
       "<polyline clip-path=\"url(#clip762)\" style=\"stroke:#000000; stroke-linecap:butt; stroke-linejoin:round; stroke-width:4; stroke-opacity:0.7; fill:none\" points=\"\n",
       "  644.46,835.037 638.896,847.008 \n",
       "  \"/>\n",
       "<polyline clip-path=\"url(#clip762)\" style=\"stroke:#000000; stroke-linecap:butt; stroke-linejoin:round; stroke-width:4; stroke-opacity:0.7; fill:none\" points=\"\n",
       "  935.271,1337.68 951.197,1348.53 967.108,1359.34 982.992,1370.09 998.833,1380.72 1014.62,1391.21 1030.33,1401.52 1045.96,1411.61 1061.49,1421.45 1076.9,1431 \n",
       "  1092.19,1440.23 1107.34,1449.1 1122.33,1457.58 1137.15,1465.62 1151.79,1473.19 1166.23,1480.26 1180.46,1486.79 1194.46,1492.74 1208.22,1498.08 1221.72,1502.77 \n",
       "  1234.96,1506.78 1247.91,1510.07 1260.56,1512.61 1272.91,1514.35 1284.92,1515.26 1296.6,1515.31 1307.94,1514.5 1318.95,1512.86 1329.66,1510.43 1340.06,1507.24 \n",
       "  1350.18,1503.33 1360.03,1498.74 1369.63,1493.5 1378.99,1487.65 1388.12,1481.22 1397.04,1474.26 1405.76,1466.78 1414.29,1458.84 1422.66,1450.47 1430.87,1441.71 \n",
       "  1438.93,1432.58 1446.87,1423.13 1454.7,1413.39 1462.43,1403.4 1470.07,1393.19 1477.65,1382.8 1485.16,1372.27 1492.63,1361.63 1500.08,1350.92 1507.51,1340.17 \n",
       "  \n",
       "  \"/>\n",
       "<polyline clip-path=\"url(#clip762)\" style=\"stroke:#000000; stroke-linecap:butt; stroke-linejoin:round; stroke-width:4; stroke-opacity:0.7; fill:none\" points=\"\n",
       "  1472.23,1359.55 1507.51,1340.17 1501.84,1380.02 \n",
       "  \"/>\n",
       "<polyline clip-path=\"url(#clip762)\" style=\"stroke:#000000; stroke-linecap:butt; stroke-linejoin:round; stroke-width:4; stroke-opacity:0.7; fill:none\" points=\"\n",
       "  1507.51,1340.17 1500.08,1350.92 \n",
       "  \"/>\n",
       "<polyline clip-path=\"url(#clip762)\" style=\"stroke:#000000; stroke-linecap:butt; stroke-linejoin:round; stroke-width:4; stroke-opacity:0.7; fill:none\" points=\"\n",
       "  935.271,1337.68 952.504,1317.21 969.695,1296.75 986.806,1276.29 1003.79,1255.83 1020.62,1235.4 1037.24,1214.97 1053.61,1194.57 1069.7,1174.18 1085.46,1153.82 \n",
       "  1100.85,1133.49 1115.83,1113.19 1130.36,1092.92 1144.4,1072.69 1157.91,1052.5 1170.85,1032.35 1183.17,1012.25 1194.84,992.195 1205.81,972.193 1216.05,952.247 \n",
       "  1225.5,932.359 1234.14,912.532 1241.92,892.769 1248.8,873.074 1254.74,853.449 1259.7,833.898 1263.68,814.42 1266.72,795.012 1268.85,775.672 1270.13,756.395 \n",
       "  1270.59,737.181 1270.27,718.024 1269.22,698.922 1267.47,679.873 1265.06,660.872 1262.04,641.918 1258.45,623.006 1254.33,604.134 1249.71,585.299 1244.65,566.497 \n",
       "  1239.17,547.726 1233.33,528.983 1227.16,510.264 1220.7,491.566 1214,472.887 1207.09,454.224 1200.02,435.572 1192.83,416.93 1185.56,398.293 1178.24,379.66 \n",
       "  \n",
       "  \"/>\n",
       "<polyline clip-path=\"url(#clip762)\" style=\"stroke:#000000; stroke-linecap:butt; stroke-linejoin:round; stroke-width:4; stroke-opacity:0.7; fill:none\" points=\"\n",
       "  1174.64,419.748 1178.24,379.66 1208.15,406.592 \n",
       "  \"/>\n",
       "<polyline clip-path=\"url(#clip762)\" style=\"stroke:#000000; stroke-linecap:butt; stroke-linejoin:round; stroke-width:4; stroke-opacity:0.7; fill:none\" points=\"\n",
       "  1178.24,379.66 1185.56,398.293 \n",
       "  \"/>\n",
       "<polyline clip-path=\"url(#clip762)\" style=\"stroke:#000000; stroke-linecap:butt; stroke-linejoin:round; stroke-width:4; stroke-opacity:0.7; fill:none\" points=\"\n",
       "  935.271,1337.68 961.128,1331.14 986.95,1324.58 1012.7,1317.98 1038.34,1311.32 1063.85,1304.58 1089.17,1297.74 1114.28,1290.77 1139.15,1283.66 1163.73,1276.39 \n",
       "  1187.99,1268.94 1211.89,1261.28 1235.41,1253.4 1258.5,1245.27 1281.13,1236.88 1303.26,1228.21 1324.86,1219.23 1345.89,1209.92 1366.32,1200.27 1386.11,1190.25 \n",
       "  1405.22,1179.84 1423.63,1169.03 1441.29,1157.79 1458.17,1146.11 1474.23,1133.95 1489.44,1121.31 1503.81,1108.18 1517.35,1094.58 1530.12,1080.54 1542.14,1066.06 \n",
       "  1553.45,1051.18 1564.09,1035.92 1574.09,1020.28 1583.48,1004.31 1592.31,988.002 1600.6,971.393 1608.4,954.498 1615.74,937.34 1622.65,919.937 1629.17,902.31 \n",
       "  1635.34,884.48 1641.19,866.467 1646.75,848.291 1652.06,829.972 1657.16,811.532 1662.09,792.99 1666.87,774.366 1671.55,755.681 1676.15,736.956 1680.72,718.21 \n",
       "  \n",
       "  \"/>\n",
       "<polyline clip-path=\"url(#clip762)\" style=\"stroke:#000000; stroke-linecap:butt; stroke-linejoin:round; stroke-width:4; stroke-opacity:0.7; fill:none\" points=\"\n",
       "  1654.71,748.923 1680.72,718.21 1689.68,757.449 \n",
       "  \"/>\n",
       "<polyline clip-path=\"url(#clip762)\" style=\"stroke:#000000; stroke-linecap:butt; stroke-linejoin:round; stroke-width:4; stroke-opacity:0.7; fill:none\" points=\"\n",
       "  1680.72,718.21 1676.15,736.956 \n",
       "  \"/>\n",
       "<polyline clip-path=\"url(#clip762)\" style=\"stroke:#000000; stroke-linecap:butt; stroke-linejoin:round; stroke-width:4; stroke-opacity:0.7; fill:none\" points=\"\n",
       "  662.317,717.694 679.751,726.24 697.146,734.791 714.464,743.353 731.667,751.933 748.717,760.536 765.576,769.167 782.204,777.832 798.564,786.537 814.617,795.288 \n",
       "  830.326,804.091 845.651,812.95 860.554,821.872 874.998,830.863 888.943,839.928 902.351,849.073 915.184,858.303 927.404,867.625 938.973,877.044 949.851,886.566 \n",
       "  960.001,896.196 969.384,905.941 977.963,915.805 985.698,925.795 992.551,935.916 998.486,946.175 1003.5,956.569 1007.64,967.096 1010.93,977.747 1013.42,988.519 \n",
       "  1015.14,999.405 1016.13,1010.4 1016.43,1021.5 1016.08,1032.69 1015.11,1043.98 1013.58,1055.35 1011.5,1066.8 1008.93,1078.32 1005.89,1089.92 1002.44,1101.57 \n",
       "  998.6,1113.29 994.417,1125.05 989.926,1136.86 985.168,1148.72 980.179,1160.6 974.999,1172.51 969.666,1184.45 964.217,1196.4 958.692,1208.37 953.128,1220.34 \n",
       "  \n",
       "  \"/>\n",
       "<polyline clip-path=\"url(#clip762)\" style=\"stroke:#000000; stroke-linecap:butt; stroke-linejoin:round; stroke-width:4; stroke-opacity:0.7; fill:none\" points=\"\n",
       "  984.624,1195.28 953.128,1220.34 951.978,1180.11 \n",
       "  \"/>\n",
       "<polyline clip-path=\"url(#clip762)\" style=\"stroke:#000000; stroke-linecap:butt; stroke-linejoin:round; stroke-width:4; stroke-opacity:0.7; fill:none\" points=\"\n",
       "  953.128,1220.34 958.692,1208.37 \n",
       "  \"/>\n",
       "<polyline clip-path=\"url(#clip762)\" style=\"stroke:#000000; stroke-linecap:butt; stroke-linejoin:round; stroke-width:4; stroke-opacity:0.7; fill:none\" points=\"\n",
       "  553.584,671.34 545.509,670.251 537.472,669.177 529.513,668.13 521.67,667.124 513.981,666.173 506.485,665.291 499.22,664.492 492.226,663.789 485.54,663.196 \n",
       "  479.202,662.727 473.25,662.395 467.722,662.215 462.654,662.199 458.051,662.345 453.904,662.646 450.203,663.094 446.937,663.682 444.098,664.402 441.675,665.246 \n",
       "  439.659,666.206 438.039,667.275 436.807,668.445 435.951,669.709 435.463,671.057 435.332,672.484 435.554,673.982 436.127,675.544 437.051,677.166 438.324,678.842 \n",
       "  439.946,680.565 441.916,682.33 444.233,684.13 446.896,685.961 449.905,687.816 453.259,689.69 456.956,691.576 460.996,693.468 465.37,695.364 470.051,697.261 \n",
       "  475.012,699.161 480.224,701.062 485.659,702.964 491.291,704.868 497.089,706.773 503.028,708.679 509.078,710.586 515.213,712.493 521.403,714.401 527.621,716.309 \n",
       "  \n",
       "  \"/>\n",
       "<polyline clip-path=\"url(#clip762)\" style=\"stroke:#000000; stroke-linecap:butt; stroke-linejoin:round; stroke-width:4; stroke-opacity:0.7; fill:none\" points=\"\n",
       "  498.485,688.541 527.621,716.309 487.925,722.957 \n",
       "  \"/>\n",
       "<polyline clip-path=\"url(#clip762)\" style=\"stroke:#000000; stroke-linecap:butt; stroke-linejoin:round; stroke-width:4; stroke-opacity:0.7; fill:none\" points=\"\n",
       "  527.621,716.309 521.403,714.401 \n",
       "  \"/>\n",
       "<polyline clip-path=\"url(#clip762)\" style=\"stroke:#000000; stroke-linecap:butt; stroke-linejoin:round; stroke-width:4; stroke-opacity:0.7; fill:none\" points=\"\n",
       "  662.317,717.694 676.081,740.43 689.853,763.127 703.645,785.743 717.465,808.241 731.323,830.579 745.228,852.717 759.189,874.617 773.217,896.238 787.32,917.541 \n",
       "  801.508,938.485 815.79,959.031 830.176,979.139 844.675,998.769 859.297,1017.88 874.051,1036.44 888.946,1054.39 903.992,1071.71 919.199,1088.36 934.575,1104.28 \n",
       "  950.131,1119.45 965.875,1133.83 981.818,1147.36 997.968,1160.03 1014.33,1171.77 1030.93,1182.56 1047.75,1192.4 1064.78,1201.32 1082.03,1209.36 1099.47,1216.57 \n",
       "  1117.1,1222.99 1134.91,1228.64 1152.89,1233.58 1171.03,1237.84 1189.32,1241.47 1207.75,1244.49 1226.31,1246.96 1245,1248.92 1263.8,1250.39 1282.7,1251.43 \n",
       "  1301.7,1252.06 1320.78,1252.34 1339.94,1252.3 1359.17,1251.99 1378.45,1251.43 1397.77,1250.67 1417.14,1249.76 1436.53,1248.73 1455.95,1247.61 1475.37,1246.46 \n",
       "  \n",
       "  \"/>\n",
       "<polyline clip-path=\"url(#clip762)\" style=\"stroke:#000000; stroke-linecap:butt; stroke-linejoin:round; stroke-width:4; stroke-opacity:0.7; fill:none\" points=\"\n",
       "  1438.37,1230.62 1475.37,1246.46 1440.5,1266.56 \n",
       "  \"/>\n",
       "<polyline clip-path=\"url(#clip762)\" style=\"stroke:#000000; stroke-linecap:butt; stroke-linejoin:round; stroke-width:4; stroke-opacity:0.7; fill:none\" points=\"\n",
       "  1475.37,1246.46 1455.95,1247.61 \n",
       "  \"/>\n",
       "<polyline clip-path=\"url(#clip762)\" style=\"stroke:#000000; stroke-linecap:butt; stroke-linejoin:round; stroke-width:4; stroke-opacity:0.7; fill:none\" points=\"\n",
       "  662.317,717.694 681.656,716.899 700.963,716.084 720.204,715.227 739.346,714.31 758.356,713.311 777.203,712.211 795.852,710.989 814.272,709.624 832.428,708.096 \n",
       "  850.289,706.385 867.822,704.471 884.993,702.333 901.769,699.95 918.119,697.303 934.009,694.372 949.406,691.135 964.277,687.572 978.59,683.664 992.312,679.389 \n",
       "  1005.41,674.728 1017.85,669.66 1029.6,664.164 1040.63,658.221 1050.9,651.81 1060.39,644.911 1069.08,637.525 1077.03,629.671 1084.25,621.369 1090.78,612.64 \n",
       "  1096.65,603.504 1101.9,593.982 1106.55,584.093 1110.65,573.858 1114.23,563.297 1117.31,552.432 1119.93,541.281 1122.12,529.866 1123.92,518.207 1125.36,506.324 \n",
       "  1126.47,494.238 1127.28,481.968 1127.83,469.536 1128.15,456.961 1128.27,444.264 1128.23,431.465 1128.06,418.585 1127.79,405.644 1127.46,392.662 1127.09,379.66 \n",
       "  \n",
       "  \"/>\n",
       "<polyline clip-path=\"url(#clip762)\" style=\"stroke:#000000; stroke-linecap:butt; stroke-linejoin:round; stroke-width:4; stroke-opacity:0.7; fill:none\" points=\"\n",
       "  1110.11,416.157 1127.09,379.66 1146.1,415.135 \n",
       "  \"/>\n",
       "<polyline clip-path=\"url(#clip762)\" style=\"stroke:#000000; stroke-linecap:butt; stroke-linejoin:round; stroke-width:4; stroke-opacity:0.7; fill:none\" points=\"\n",
       "  1127.09,379.66 1127.46,392.662 \n",
       "  \"/>\n",
       "<polyline clip-path=\"url(#clip762)\" style=\"stroke:#000000; stroke-linecap:butt; stroke-linejoin:round; stroke-width:4; stroke-opacity:0.7; fill:none\" points=\"\n",
       "  662.317,717.694 686.742,727.834 711.152,737.936 735.531,747.961 759.864,757.873 784.135,767.633 808.33,777.202 832.433,786.544 856.429,795.619 880.302,804.39 \n",
       "  904.038,812.819 927.62,820.868 951.033,828.499 974.263,835.673 997.293,842.353 1020.11,848.501 1042.69,854.079 1065.04,859.049 1087.12,863.372 1108.92,867.011 \n",
       "  1130.43,869.928 1151.64,872.084 1172.53,873.443 1193.07,873.964 1213.27,873.612 1233.1,872.348 1252.56,870.174 1271.67,867.125 1290.44,863.241 1308.89,858.557 \n",
       "  1327.03,853.114 1344.88,846.948 1362.46,840.098 1379.77,832.601 1396.84,824.497 1413.68,815.822 1430.31,806.615 1446.74,796.913 1462.98,786.756 1479.05,776.18 \n",
       "  1494.97,765.224 1510.76,753.926 1526.42,742.324 1541.97,730.456 1557.43,718.36 1572.82,706.073 1588.14,693.635 1603.42,681.082 1618.66,668.454 1633.9,655.787 \n",
       "  \n",
       "  \"/>\n",
       "<polyline clip-path=\"url(#clip762)\" style=\"stroke:#000000; stroke-linecap:butt; stroke-linejoin:round; stroke-width:4; stroke-opacity:0.7; fill:none\" points=\"\n",
       "  1594.71,664.966 1633.9,655.787 1617.72,692.645 \n",
       "  \"/>\n",
       "<polyline clip-path=\"url(#clip762)\" style=\"stroke:#000000; stroke-linecap:butt; stroke-linejoin:round; stroke-width:4; stroke-opacity:0.7; fill:none\" points=\"\n",
       "  1633.9,655.787 1618.66,668.454 \n",
       "  \"/>\n",
       "<polyline clip-path=\"url(#clip762)\" style=\"stroke:#000000; stroke-linecap:butt; stroke-linejoin:round; stroke-width:4; stroke-opacity:0.7; fill:none\" points=\"\n",
       "  1599.88,1265.48 1583.96,1254.63 1568.05,1243.82 1552.16,1233.08 1536.32,1222.44 1520.54,1211.95 1504.82,1201.64 1489.19,1191.55 1473.67,1181.71 1458.25,1172.16 \n",
       "  1442.96,1162.93 1427.81,1154.06 1412.82,1145.59 1398,1137.55 1383.36,1129.97 1368.92,1122.9 1354.7,1116.37 1340.7,1110.42 1326.94,1105.08 1313.43,1100.39 \n",
       "  1300.2,1096.38 1287.25,1093.09 1274.59,1090.56 1262.25,1088.81 1250.23,1087.9 1238.55,1087.85 1227.21,1088.66 1216.2,1090.3 1205.5,1092.73 1195.09,1095.92 \n",
       "  1184.97,1099.83 1175.12,1104.42 1165.52,1109.66 1156.17,1115.51 1147.04,1121.94 1138.12,1128.91 1129.4,1136.38 1120.86,1144.32 1112.5,1152.69 1104.29,1161.46 \n",
       "  1096.22,1170.58 1088.28,1180.04 1080.45,1189.77 1072.72,1199.77 1065.08,1209.97 1057.51,1220.36 1049.99,1230.89 1042.52,1241.53 1035.07,1252.24 1027.64,1262.99 \n",
       "  \n",
       "  \"/>\n",
       "<polyline clip-path=\"url(#clip762)\" style=\"stroke:#000000; stroke-linecap:butt; stroke-linejoin:round; stroke-width:4; stroke-opacity:0.7; fill:none\" points=\"\n",
       "  1062.92,1243.62 1027.64,1262.99 1033.31,1223.14 \n",
       "  \"/>\n",
       "<polyline clip-path=\"url(#clip762)\" style=\"stroke:#000000; stroke-linecap:butt; stroke-linejoin:round; stroke-width:4; stroke-opacity:0.7; fill:none\" points=\"\n",
       "  1027.64,1262.99 1035.07,1252.24 \n",
       "  \"/>\n",
       "<polyline clip-path=\"url(#clip762)\" style=\"stroke:#000000; stroke-linecap:butt; stroke-linejoin:round; stroke-width:4; stroke-opacity:0.7; fill:none\" points=\"\n",
       "  1599.88,1265.48 1586.12,1242.74 1572.35,1220.05 1558.56,1197.43 1544.74,1174.93 1530.88,1152.59 1516.97,1130.46 1503.01,1108.56 1488.98,1086.93 1474.88,1065.63 \n",
       "  1460.69,1044.69 1446.41,1024.14 1432.02,1004.03 1417.53,984.404 1402.9,965.292 1388.15,946.737 1373.25,928.78 1358.21,911.459 1343,894.816 1327.63,878.89 \n",
       "  1312.07,863.72 1296.33,849.346 1280.38,835.809 1264.23,823.148 1247.87,811.403 1231.27,800.612 1214.45,790.775 1197.42,781.854 1180.17,773.809 1162.73,766.6 \n",
       "  1145.1,760.188 1127.29,754.532 1109.31,749.593 1091.18,745.331 1072.88,741.707 1054.45,738.679 1035.89,736.21 1017.2,734.257 998.402,732.783 979.499,731.747 \n",
       "  960.501,731.109 941.418,730.829 922.26,730.868 903.035,731.186 883.754,731.743 864.426,732.499 845.06,733.414 825.666,734.448 806.253,735.562 786.831,736.716 \n",
       "  \n",
       "  \"/>\n",
       "<polyline clip-path=\"url(#clip762)\" style=\"stroke:#000000; stroke-linecap:butt; stroke-linejoin:round; stroke-width:4; stroke-opacity:0.7; fill:none\" points=\"\n",
       "  823.835,752.549 786.831,736.716 821.7,716.613 \n",
       "  \"/>\n",
       "<polyline clip-path=\"url(#clip762)\" style=\"stroke:#000000; stroke-linecap:butt; stroke-linejoin:round; stroke-width:4; stroke-opacity:0.7; fill:none\" points=\"\n",
       "  786.831,736.716 806.253,735.562 \n",
       "  \"/>\n",
       "<polyline clip-path=\"url(#clip762)\" style=\"stroke:#000000; stroke-linecap:butt; stroke-linejoin:round; stroke-width:4; stroke-opacity:0.7; fill:none\" points=\"\n",
       "  1530.79,1150.46 1542.64,1166.6 1554.41,1182.62 1566.04,1198.4 1577.46,1213.84 1588.59,1228.79 1599.37,1243.16 1609.73,1256.82 1619.59,1269.66 1628.89,1281.54 \n",
       "  1637.55,1292.37 1645.5,1302.02 1652.67,1310.37 1659,1317.32 1664.51,1322.89 1669.23,1327.19 1673.23,1330.3 1676.56,1332.34 1679.26,1333.38 1681.38,1333.53 \n",
       "  1682.98,1332.88 1684.12,1331.54 1684.83,1329.59 1685.17,1327.13 1685.19,1324.27 1684.94,1321.09 1684.48,1317.68 1683.84,1314.15 1683.07,1310.57 1682.21,1307.03 \n",
       "  1681.32,1303.64 1680.43,1300.46 1679.58,1297.61 1678.83,1295.15 1678.22,1293.19 1677.8,1291.82 1677.6,1291.12 1677.68,1291.17 1678.05,1292.03 1678.7,1293.64 \n",
       "  1679.59,1295.92 1680.72,1298.81 1682.04,1302.24 1683.54,1306.15 1685.19,1310.46 1686.96,1315.11 1688.84,1320.03 1690.79,1325.15 1692.79,1330.41 1694.81,1335.74 \n",
       "  \n",
       "  \"/>\n",
       "<polyline clip-path=\"url(#clip762)\" style=\"stroke:#000000; stroke-linecap:butt; stroke-linejoin:round; stroke-width:4; stroke-opacity:0.7; fill:none\" points=\"\n",
       "  1698.85,1295.69 1694.81,1335.74 1665.2,1308.49 \n",
       "  \"/>\n",
       "<polyline clip-path=\"url(#clip762)\" style=\"stroke:#000000; stroke-linecap:butt; stroke-linejoin:round; stroke-width:4; stroke-opacity:0.7; fill:none\" points=\"\n",
       "  1694.81,1335.74 1692.79,1330.41 \n",
       "  \"/>\n",
       "<polyline clip-path=\"url(#clip762)\" style=\"stroke:#000000; stroke-linecap:butt; stroke-linejoin:round; stroke-width:4; stroke-opacity:0.7; fill:none\" points=\"\n",
       "  1599.88,1265.48 1578.78,1249.11 1557.71,1232.74 1536.73,1216.36 1515.86,1199.96 1495.16,1183.54 1474.67,1167.09 1454.41,1150.6 1434.44,1134.08 1414.8,1117.51 \n",
       "  1395.52,1100.88 1376.65,1084.2 1358.23,1067.46 1340.29,1050.65 1322.88,1033.77 1306.04,1016.8 1289.81,999.752 1274.23,982.61 1259.34,965.371 1245.19,948.03 \n",
       "  1231.8,930.58 1219.23,913.015 1207.51,895.331 1196.69,877.521 1186.8,859.58 1177.88,841.502 1169.94,823.288 1162.93,804.942 1156.82,786.47 1151.56,767.878 \n",
       "  1147.12,749.173 1143.44,730.358 1140.5,711.441 1138.25,692.427 1136.65,673.322 1135.65,654.131 1135.23,634.86 1135.34,615.514 1135.93,596.101 1136.97,576.624 \n",
       "  1138.42,557.09 1140.23,537.505 1142.37,517.875 1144.79,498.204 1147.45,478.499 1150.32,458.766 1153.35,439.009 1156.51,419.236 1159.74,399.451 1163.02,379.66 \n",
       "  \n",
       "  \"/>\n",
       "<polyline clip-path=\"url(#clip762)\" style=\"stroke:#000000; stroke-linecap:butt; stroke-linejoin:round; stroke-width:4; stroke-opacity:0.7; fill:none\" points=\"\n",
       "  1139.38,412.238 1163.02,379.66 1174.9,418.116 \n",
       "  \"/>\n",
       "<polyline clip-path=\"url(#clip762)\" style=\"stroke:#000000; stroke-linecap:butt; stroke-linejoin:round; stroke-width:4; stroke-opacity:0.7; fill:none\" points=\"\n",
       "  1163.02,379.66 1159.74,399.451 \n",
       "  \"/>\n",
       "<polyline clip-path=\"url(#clip762)\" style=\"stroke:#000000; stroke-linecap:butt; stroke-linejoin:round; stroke-width:4; stroke-opacity:0.7; fill:none\" points=\"\n",
       "  1599.88,1265.48 1615.13,1253.39 1630.34,1241.31 1645.47,1229.23 1660.49,1217.16 1675.35,1205.1 1690.03,1193.06 1704.47,1181.04 1718.64,1169.04 1732.5,1157.06 \n",
       "  1746.02,1145.11 1759.15,1133.19 1771.86,1121.31 1784.11,1109.46 1795.86,1097.65 1807.07,1085.89 1817.71,1074.17 1827.73,1062.5 1837.09,1050.88 1845.76,1039.31 \n",
       "  1853.71,1027.81 1860.88,1016.37 1867.25,1004.99 1872.77,993.673 1877.4,982.431 1881.12,971.262 1883.91,960.167 1885.82,949.142 1886.88,938.184 1887.14,927.291 \n",
       "  1886.63,916.459 1885.38,905.685 1883.45,894.966 1880.86,884.299 1877.65,873.681 1873.87,863.109 1869.55,852.58 1864.73,842.091 1859.45,831.638 1853.75,821.22 \n",
       "  1847.66,810.831 1841.23,800.471 1834.48,790.135 1827.47,779.82 1820.23,769.523 1812.8,759.242 1805.21,748.974 1797.51,738.714 1789.73,728.46 1781.91,718.21 \n",
       "  \n",
       "  \"/>\n",
       "<polyline clip-path=\"url(#clip762)\" style=\"stroke:#000000; stroke-linecap:butt; stroke-linejoin:round; stroke-width:4; stroke-opacity:0.7; fill:none\" points=\"\n",
       "  1789.43,757.75 1781.91,718.21 1818.05,735.917 \n",
       "  \"/>\n",
       "<polyline clip-path=\"url(#clip762)\" style=\"stroke:#000000; stroke-linecap:butt; stroke-linejoin:round; stroke-width:4; stroke-opacity:0.7; fill:none\" points=\"\n",
       "  1781.91,718.21 1789.73,728.46 \n",
       "  \"/>\n",
       "<polyline clip-path=\"url(#clip762)\" style=\"stroke:#000000; stroke-linecap:butt; stroke-linejoin:round; stroke-width:4; stroke-opacity:0.7; fill:none\" points=\"\n",
       "  1158.23,262.317 1141,282.787 1123.81,303.254 1106.7,323.714 1089.71,344.166 1072.89,364.605 1056.27,385.029 1039.9,405.434 1023.81,425.818 1008.05,446.178 \n",
       "  992.658,466.51 977.676,486.811 963.144,507.079 949.103,527.31 935.593,547.501 922.657,567.65 910.335,587.752 898.667,607.805 887.695,627.807 877.459,647.753 \n",
       "  868.001,667.641 859.362,687.468 851.581,707.231 844.701,726.926 838.762,746.551 833.804,766.102 829.826,785.58 826.789,804.988 824.652,824.328 823.374,843.605 \n",
       "  822.915,862.819 823.234,881.976 824.289,901.078 826.039,920.127 828.445,939.128 831.464,958.082 835.056,976.994 839.18,995.866 843.795,1014.7 848.86,1033.5 \n",
       "  854.334,1052.27 860.177,1071.02 866.347,1089.74 872.803,1108.43 879.505,1127.11 886.412,1145.78 893.482,1164.43 900.675,1183.07 907.95,1201.71 915.265,1220.34 \n",
       "  \n",
       "  \"/>\n",
       "<polyline clip-path=\"url(#clip762)\" style=\"stroke:#000000; stroke-linecap:butt; stroke-linejoin:round; stroke-width:4; stroke-opacity:0.7; fill:none\" points=\"\n",
       "  918.864,1180.25 915.265,1220.34 885.354,1193.41 \n",
       "  \"/>\n",
       "<polyline clip-path=\"url(#clip762)\" style=\"stroke:#000000; stroke-linecap:butt; stroke-linejoin:round; stroke-width:4; stroke-opacity:0.7; fill:none\" points=\"\n",
       "  915.265,1220.34 907.95,1201.71 \n",
       "  \"/>\n",
       "<polyline clip-path=\"url(#clip762)\" style=\"stroke:#000000; stroke-linecap:butt; stroke-linejoin:round; stroke-width:4; stroke-opacity:0.7; fill:none\" points=\"\n",
       "  1158.23,262.317 1138.9,263.112 1119.59,263.928 1100.35,264.784 1081.21,265.701 1062.2,266.7 1043.35,267.8 1024.7,269.023 1006.28,270.388 988.124,271.916 \n",
       "  970.263,273.626 952.73,275.541 935.559,277.679 918.783,280.061 902.433,282.708 886.543,285.64 871.146,288.877 856.275,292.439 841.962,296.347 828.24,300.622 \n",
       "  815.143,305.283 802.702,310.352 790.952,315.847 779.924,321.79 769.652,328.201 760.167,335.1 751.469,342.486 743.526,350.34 736.307,358.642 729.777,367.371 \n",
       "  723.904,376.507 718.656,386.03 713.998,395.919 709.9,406.154 706.327,416.714 703.246,427.58 700.626,438.73 698.432,450.145 696.633,461.804 695.196,473.687 \n",
       "  694.086,485.774 693.273,498.043 692.722,510.476 692.401,523.051 692.278,535.748 692.318,548.546 692.49,561.426 692.761,574.367 693.097,587.349 693.466,600.351 \n",
       "  \n",
       "  \"/>\n",
       "<polyline clip-path=\"url(#clip762)\" style=\"stroke:#000000; stroke-linecap:butt; stroke-linejoin:round; stroke-width:4; stroke-opacity:0.7; fill:none\" points=\"\n",
       "  710.437,563.855 693.466,600.351 674.452,564.876 \n",
       "  \"/>\n",
       "<polyline clip-path=\"url(#clip762)\" style=\"stroke:#000000; stroke-linecap:butt; stroke-linejoin:round; stroke-width:4; stroke-opacity:0.7; fill:none\" points=\"\n",
       "  693.466,600.351 693.097,587.349 \n",
       "  \"/>\n",
       "<polyline clip-path=\"url(#clip762)\" style=\"stroke:#000000; stroke-linecap:butt; stroke-linejoin:round; stroke-width:4; stroke-opacity:0.7; fill:none\" points=\"\n",
       "  1158.23,262.317 1179.34,278.682 1200.41,295.053 1221.39,311.436 1242.26,327.835 1262.96,344.258 1283.45,360.709 1303.71,377.194 1323.67,393.719 1343.32,410.29 \n",
       "  1362.6,426.912 1381.47,443.591 1399.89,460.333 1417.83,477.144 1435.24,494.029 1452.08,510.994 1468.31,528.044 1483.89,545.186 1498.77,562.425 1512.93,579.766 \n",
       "  1526.32,597.217 1538.89,614.781 1550.61,632.465 1561.43,650.275 1571.32,668.216 1580.23,686.294 1588.18,704.509 1595.18,722.855 1601.3,741.326 1606.56,759.918 \n",
       "  1611,778.624 1614.68,797.438 1617.62,816.355 1619.87,835.369 1621.47,854.474 1622.46,873.666 1622.89,892.937 1622.78,912.282 1622.19,931.696 1621.15,951.172 \n",
       "  1619.7,970.706 1617.89,990.291 1615.75,1009.92 1613.33,1029.59 1610.66,1049.3 1607.79,1069.03 1604.76,1088.79 1601.61,1108.56 1598.37,1128.35 1595.1,1148.14 \n",
       "  \n",
       "  \"/>\n",
       "<polyline clip-path=\"url(#clip762)\" style=\"stroke:#000000; stroke-linecap:butt; stroke-linejoin:round; stroke-width:4; stroke-opacity:0.7; fill:none\" points=\"\n",
       "  1618.74,1115.56 1595.1,1148.14 1583.22,1109.68 \n",
       "  \"/>\n",
       "<polyline clip-path=\"url(#clip762)\" style=\"stroke:#000000; stroke-linecap:butt; stroke-linejoin:round; stroke-width:4; stroke-opacity:0.7; fill:none\" points=\"\n",
       "  1595.1,1148.14 1598.37,1128.35 \n",
       "  \"/>\n",
       "<polyline clip-path=\"url(#clip762)\" style=\"stroke:#000000; stroke-linecap:butt; stroke-linejoin:round; stroke-width:4; stroke-opacity:0.7; fill:none\" points=\"\n",
       "  1147.72,379.66 1147.52,360.237 1147.3,340.946 1147.07,321.92 1146.79,303.29 1146.48,285.19 1146.1,267.751 1145.66,251.106 1145.15,235.387 1144.54,220.726 \n",
       "  1143.83,207.256 1143.01,195.108 1142.07,184.416 1140.99,175.295 1139.79,167.717 1138.47,161.579 1137.06,156.778 1135.56,153.211 1134,150.775 1132.38,149.368 \n",
       "  1130.72,148.885 1129.03,149.224 1127.33,150.282 1125.63,151.956 1123.96,154.143 1122.31,156.739 1120.71,159.647 1119.17,162.772 1117.7,166.02 1116.33,169.298 \n",
       "  1115.07,172.512 1113.93,175.566 1112.93,178.369 1112.08,180.825 1111.4,182.841 1110.9,184.323 1110.6,185.176 1110.52,185.308 1110.66,184.675 1111,183.33 \n",
       "  1111.52,181.338 1112.21,178.764 1113.05,175.673 1114.02,172.128 1115.1,168.196 1116.27,163.939 1117.51,159.425 1118.81,154.716 1120.15,149.877 1121.5,144.974 \n",
       "  \n",
       "  \"/>\n",
       "<polyline clip-path=\"url(#clip762)\" style=\"stroke:#000000; stroke-linecap:butt; stroke-linejoin:round; stroke-width:4; stroke-opacity:0.7; fill:none\" points=\"\n",
       "  1094.56,174.877 1121.5,144.974 1129.26,184.469 \n",
       "  \"/>\n",
       "<polyline clip-path=\"url(#clip762)\" style=\"stroke:#000000; stroke-linecap:butt; stroke-linejoin:round; stroke-width:4; stroke-opacity:0.7; fill:none\" points=\"\n",
       "  1121.5,144.974 1120.15,149.877 \n",
       "  \"/>\n",
       "<polyline clip-path=\"url(#clip762)\" style=\"stroke:#000000; stroke-linecap:butt; stroke-linejoin:round; stroke-width:4; stroke-opacity:0.7; fill:none\" points=\"\n",
       "  1158.23,262.317 1164.77,280.534 1171.31,298.713 1177.87,316.818 1184.46,334.811 1191.08,352.654 1197.74,370.311 1204.46,387.744 1211.24,404.915 1218.08,421.788 \n",
       "  1225.01,438.325 1232.02,454.489 1239.12,470.242 1246.33,485.547 1253.65,500.368 1261.09,514.665 1268.66,528.403 1276.37,541.543 1284.22,554.049 1292.24,565.883 \n",
       "  1300.41,577.008 1308.76,587.386 1317.29,596.981 1326.01,605.754 1334.92,613.669 1344.05,620.689 1353.38,626.816 1362.91,632.083 1372.63,636.53 1382.53,640.193 \n",
       "  1392.61,643.109 1402.84,645.316 1413.24,646.852 1423.78,647.753 1434.46,648.056 1445.26,647.8 1456.19,647.021 1467.23,645.757 1478.38,644.045 1489.62,641.922 \n",
       "  1500.94,639.426 1512.35,636.594 1523.82,633.464 1535.35,630.072 1546.94,626.457 1558.57,622.655 1570.23,618.703 1581.92,614.639 1593.62,610.501 1605.34,606.326 \n",
       "  \n",
       "  \"/>\n",
       "<polyline clip-path=\"url(#clip762)\" style=\"stroke:#000000; stroke-linecap:butt; stroke-linejoin:round; stroke-width:4; stroke-opacity:0.7; fill:none\" points=\"\n",
       "  1565.38,601.458 1605.34,606.326 1577.47,635.368 \n",
       "  \"/>\n",
       "<polyline clip-path=\"url(#clip762)\" style=\"stroke:#000000; stroke-linecap:butt; stroke-linejoin:round; stroke-width:4; stroke-opacity:0.7; fill:none\" points=\"\n",
       "  1605.34,606.326 1593.62,610.501 \n",
       "  \"/>\n",
       "<polyline clip-path=\"url(#clip762)\" style=\"stroke:#000000; stroke-linecap:butt; stroke-linejoin:round; stroke-width:4; stroke-opacity:0.7; fill:none\" points=\"\n",
       "  1737.68,600.867 1711.83,607.406 1686,613.965 1660.25,620.565 1634.61,627.226 1609.11,633.968 1583.78,640.812 1558.67,647.778 1533.81,654.887 1509.23,662.158 \n",
       "  1484.97,669.613 1461.06,677.271 1437.54,685.152 1414.46,693.278 1391.83,701.669 1369.7,710.344 1348.1,719.325 1327.07,728.631 1306.64,738.283 1286.85,748.301 \n",
       "  1267.73,758.706 1249.33,769.518 1231.67,780.757 1214.79,792.444 1198.72,804.599 1183.51,817.241 1169.15,830.371 1155.6,843.969 1142.84,858.014 1130.81,872.487 \n",
       "  1119.5,887.366 1108.87,902.633 1098.87,918.265 1089.47,934.244 1080.64,950.548 1072.35,967.157 1064.55,984.051 1057.21,1001.21 1050.3,1018.61 1043.78,1036.24 \n",
       "  1037.62,1054.07 1031.77,1072.08 1026.21,1090.26 1020.89,1108.58 1015.79,1127.02 1010.87,1145.56 1006.08,1164.18 1001.41,1182.87 996.802,1201.59 992.233,1220.34 \n",
       "  \n",
       "  \"/>\n",
       "<polyline clip-path=\"url(#clip762)\" style=\"stroke:#000000; stroke-linecap:butt; stroke-linejoin:round; stroke-width:4; stroke-opacity:0.7; fill:none\" points=\"\n",
       "  1018.25,1189.63 992.233,1220.34 983.271,1181.1 \n",
       "  \"/>\n",
       "<polyline clip-path=\"url(#clip762)\" style=\"stroke:#000000; stroke-linecap:butt; stroke-linejoin:round; stroke-width:4; stroke-opacity:0.7; fill:none\" points=\"\n",
       "  992.233,1220.34 996.802,1201.59 \n",
       "  \"/>\n",
       "<polyline clip-path=\"url(#clip762)\" style=\"stroke:#000000; stroke-linecap:butt; stroke-linejoin:round; stroke-width:4; stroke-opacity:0.7; fill:none\" points=\"\n",
       "  1737.68,600.867 1713.26,590.727 1688.85,580.625 1664.47,570.6 1640.14,560.688 1615.86,550.929 1591.67,541.359 1567.57,532.018 1543.57,522.942 1519.7,514.171 \n",
       "  1495.96,505.742 1472.38,497.693 1448.97,490.063 1425.74,482.888 1402.71,476.208 1379.89,470.06 1357.31,464.482 1334.96,459.512 1312.88,455.189 1291.08,451.55 \n",
       "  1269.57,448.633 1248.36,446.477 1227.47,445.119 1206.93,444.597 1186.73,444.949 1166.9,446.213 1147.44,448.387 1128.33,451.436 1109.56,455.321 1091.11,460.004 \n",
       "  1072.97,465.447 1055.12,471.613 1037.54,478.463 1020.23,485.96 1003.16,494.064 986.316,502.739 969.69,511.946 953.264,521.648 937.021,531.805 920.947,542.381 \n",
       "  905.026,553.337 889.243,564.635 873.582,576.237 858.029,588.105 842.568,600.201 827.184,612.488 811.86,624.926 796.583,637.479 781.336,650.107 766.105,662.774 \n",
       "  \n",
       "  \"/>\n",
       "<polyline clip-path=\"url(#clip762)\" style=\"stroke:#000000; stroke-linecap:butt; stroke-linejoin:round; stroke-width:4; stroke-opacity:0.7; fill:none\" points=\"\n",
       "  805.294,653.595 766.105,662.774 782.275,625.916 \n",
       "  \"/>\n",
       "<polyline clip-path=\"url(#clip762)\" style=\"stroke:#000000; stroke-linecap:butt; stroke-linejoin:round; stroke-width:4; stroke-opacity:0.7; fill:none\" points=\"\n",
       "  766.105,662.774 781.336,650.107 \n",
       "  \"/>\n",
       "<polyline clip-path=\"url(#clip762)\" style=\"stroke:#000000; stroke-linecap:butt; stroke-linejoin:round; stroke-width:4; stroke-opacity:0.7; fill:none\" points=\"\n",
       "  1737.68,600.867 1722.43,612.954 1707.23,625.038 1692.09,637.116 1677.07,649.185 1662.21,661.241 1647.54,673.282 1633.1,685.305 1618.93,697.306 1605.06,709.283 \n",
       "  1591.55,721.232 1578.41,733.151 1565.7,745.036 1553.45,756.884 1541.7,768.693 1530.49,780.458 1519.86,792.178 1509.84,803.849 1500.48,815.467 1491.8,827.031 \n",
       "  1483.86,838.536 1476.69,849.981 1470.32,861.36 1464.8,872.673 1460.16,883.915 1456.45,895.084 1453.65,906.179 1451.75,917.204 1450.68,928.162 1450.43,939.055 \n",
       "  1450.94,949.887 1452.18,960.661 1454.12,971.38 1456.71,982.047 1459.91,992.665 1463.69,1003.24 1468.01,1013.77 1472.83,1024.25 1478.11,1034.71 1483.82,1045.13 \n",
       "  1489.91,1055.51 1496.34,1065.88 1503.08,1076.21 1510.09,1086.53 1517.34,1096.82 1524.77,1107.1 1532.36,1117.37 1540.06,1127.63 1547.84,1137.89 1555.66,1148.14 \n",
       "  \n",
       "  \"/>\n",
       "<polyline clip-path=\"url(#clip762)\" style=\"stroke:#000000; stroke-linecap:butt; stroke-linejoin:round; stroke-width:4; stroke-opacity:0.7; fill:none\" points=\"\n",
       "  1548.14,1108.6 1555.66,1148.14 1519.51,1130.43 \n",
       "  \"/>\n",
       "<polyline clip-path=\"url(#clip762)\" style=\"stroke:#000000; stroke-linecap:butt; stroke-linejoin:round; stroke-width:4; stroke-opacity:0.7; fill:none\" points=\"\n",
       "  1555.66,1148.14 1547.84,1137.89 \n",
       "  \"/>\n",
       "<polyline clip-path=\"url(#clip762)\" style=\"stroke:#000000; stroke-linecap:butt; stroke-linejoin:round; stroke-width:4; stroke-opacity:0.7; fill:none\" points=\"\n",
       "  1737.68,600.867 1731.15,582.65 1724.6,564.471 1718.04,546.366 1711.46,528.373 1704.84,510.53 1698.17,492.873 1691.46,475.44 1684.68,458.269 1677.83,441.396 \n",
       "  1670.91,424.859 1663.9,408.695 1656.8,392.942 1649.59,377.637 1642.27,362.817 1634.83,348.519 1627.26,334.781 1619.55,321.641 1611.69,309.135 1603.68,297.301 \n",
       "  1595.51,286.176 1587.16,275.798 1578.63,266.204 1569.91,257.43 1560.99,249.515 1551.87,242.495 1542.54,236.368 1533.01,231.101 1523.29,226.654 1513.39,222.991 \n",
       "  1503.31,220.075 1493.07,217.868 1482.68,216.332 1472.14,215.432 1461.46,215.128 1450.65,215.384 1439.72,216.163 1428.68,217.427 1417.54,219.139 1406.3,221.262 \n",
       "  1394.97,223.758 1383.57,226.59 1372.1,229.72 1360.56,233.112 1348.98,236.727 1337.35,240.53 1325.69,244.481 1314,248.545 1302.29,252.683 1290.58,256.858 \n",
       "  \n",
       "  \"/>\n",
       "<polyline clip-path=\"url(#clip762)\" style=\"stroke:#000000; stroke-linecap:butt; stroke-linejoin:round; stroke-width:4; stroke-opacity:0.7; fill:none\" points=\"\n",
       "  1330.53,261.727 1290.58,256.858 1318.45,227.816 \n",
       "  \"/>\n",
       "<polyline clip-path=\"url(#clip762)\" style=\"stroke:#000000; stroke-linecap:butt; stroke-linejoin:round; stroke-width:4; stroke-opacity:0.7; fill:none\" points=\"\n",
       "  1290.58,256.858 1302.29,252.683 \n",
       "  \"/>\n",
       "<polyline clip-path=\"url(#clip762)\" style=\"stroke:#000000; stroke-linecap:butt; stroke-linejoin:round; stroke-width:4; stroke-opacity:0.7; fill:none\" points=\"\n",
       "  1617.84,627.974 1636.3,621.915 1654.63,615.885 1672.71,609.914 1690.39,604.03 1707.56,598.262 1724.07,592.641 1739.81,587.194 1754.65,581.952 1768.44,576.943 \n",
       "  1781.07,572.196 1792.4,567.741 1802.31,563.607 1810.67,559.82 1817.53,556.377 1822.97,553.261 1827.11,550.455 1830.05,547.942 1831.89,545.705 1832.73,543.726 \n",
       "  1832.68,541.988 1831.83,540.474 1830.3,539.167 1828.18,538.049 1825.57,537.103 1822.59,536.313 1819.32,535.662 1815.87,535.138 1812.32,534.727 1808.78,534.415 \n",
       "  1805.33,534.188 1802.07,534.034 1799.09,533.939 1796.49,533.89 1794.37,533.872 1792.82,533.873 1791.92,533.878 1791.79,533.876 1792.45,533.856 1793.86,533.819 \n",
       "  1795.94,533.767 1798.63,533.701 1801.86,533.624 1805.56,533.535 1809.67,533.438 1814.11,533.333 1818.83,533.221 1823.74,533.106 1828.8,532.987 1833.92,532.866 \n",
       "  \n",
       "  \"/>\n",
       "<polyline clip-path=\"url(#clip762)\" style=\"stroke:#000000; stroke-linecap:butt; stroke-linejoin:round; stroke-width:4; stroke-opacity:0.7; fill:none\" points=\"\n",
       "  1797.51,515.717 1833.92,532.866 1798.35,551.707 \n",
       "  \"/>\n",
       "<polyline clip-path=\"url(#clip762)\" style=\"stroke:#000000; stroke-linecap:butt; stroke-linejoin:round; stroke-width:4; stroke-opacity:0.7; fill:none\" points=\"\n",
       "  1833.92,532.866 1828.8,532.987 \n",
       "  \"/>\n",
       "<path clip-path=\"url(#clip762)\" d=\"\n",
       "M832.509 1479.58 L969.425 1479.58 L969.425 1407.32 L832.509 1407.32 L832.509 1479.58 L832.509 1479.58  Z\n",
       "  \" fill=\"#ffffff\" fill-rule=\"evenodd\" fill-opacity=\"1\"/>\n",
       "<polyline clip-path=\"url(#clip762)\" style=\"stroke:#a9a9a9; stroke-linecap:butt; stroke-linejoin:round; stroke-width:0; stroke-opacity:0.7; fill:none\" points=\"\n",
       "  832.509,1479.58 969.425,1479.58 969.425,1407.32 832.509,1407.32 832.509,1479.58 \n",
       "  \"/>\n",
       "<path clip-path=\"url(#clip762)\" d=\"\n",
       "M533.495 1150.48 L670.411 1150.48 L670.411 1078.22 L533.495 1078.22 L533.495 1150.48 L533.495 1150.48  Z\n",
       "  \" fill=\"#ffffff\" fill-rule=\"evenodd\" fill-opacity=\"1\"/>\n",
       "<polyline clip-path=\"url(#clip762)\" style=\"stroke:#a9a9a9; stroke-linecap:butt; stroke-linejoin:round; stroke-width:0; stroke-opacity:0.7; fill:none\" points=\"\n",
       "  533.495,1150.48 670.411,1150.48 670.411,1078.22 533.495,1078.22 533.495,1150.48 \n",
       "  \"/>\n",
       "<path clip-path=\"url(#clip762)\" d=\"\n",
       "M1222.35 1551.53 L1359.26 1551.53 L1359.26 1479.26 L1222.35 1479.26 L1222.35 1551.53 L1222.35 1551.53  Z\n",
       "  \" fill=\"#ffffff\" fill-rule=\"evenodd\" fill-opacity=\"1\"/>\n",
       "<polyline clip-path=\"url(#clip762)\" style=\"stroke:#a9a9a9; stroke-linecap:butt; stroke-linejoin:round; stroke-width:0; stroke-opacity:0.7; fill:none\" points=\"\n",
       "  1222.35,1551.53 1359.26,1551.53 1359.26,1479.26 1222.35,1479.26 1222.35,1551.53 \n",
       "  \"/>\n",
       "<path clip-path=\"url(#clip762)\" d=\"\n",
       "M1175.51 879.796 L1339.18 879.796 L1339.18 807.532 L1175.51 807.532 L1175.51 879.796 L1175.51 879.796  Z\n",
       "  \" fill=\"#ffffff\" fill-rule=\"evenodd\" fill-opacity=\"1\"/>\n",
       "<polyline clip-path=\"url(#clip762)\" style=\"stroke:#a9a9a9; stroke-linecap:butt; stroke-linejoin:round; stroke-width:0; stroke-opacity:0.7; fill:none\" points=\"\n",
       "  1175.51,879.796 1339.18,879.796 1339.18,807.532 1175.51,807.532 1175.51,879.796 \n",
       "  \"/>\n",
       "<path clip-path=\"url(#clip762)\" d=\"\n",
       "M1400.11 1163.82 L1563.78 1163.82 L1563.78 1091.56 L1400.11 1091.56 L1400.11 1163.82 L1400.11 1163.82  Z\n",
       "  \" fill=\"#ffffff\" fill-rule=\"evenodd\" fill-opacity=\"1\"/>\n",
       "<polyline clip-path=\"url(#clip762)\" style=\"stroke:#a9a9a9; stroke-linecap:butt; stroke-linejoin:round; stroke-width:0; stroke-opacity:0.7; fill:none\" points=\"\n",
       "  1400.11,1163.82 1563.78,1163.82 1563.78,1091.56 1400.11,1091.56 1400.11,1163.82 \n",
       "  \"/>\n",
       "<path clip-path=\"url(#clip762)\" d=\"\n",
       "M941.251 977.16 L1050.02 977.16 L1050.02 904.896 L941.251 904.896 L941.251 977.16 L941.251 977.16  Z\n",
       "  \" fill=\"#ffffff\" fill-rule=\"evenodd\" fill-opacity=\"1\"/>\n",
       "<polyline clip-path=\"url(#clip762)\" style=\"stroke:#a9a9a9; stroke-linecap:butt; stroke-linejoin:round; stroke-width:0; stroke-opacity:0.7; fill:none\" points=\"\n",
       "  941.251,977.16 1050.02,977.16 1050.02,904.896 941.251,904.896 941.251,977.16 \n",
       "  \"/>\n",
       "<path clip-path=\"url(#clip762)\" d=\"\n",
       "M367.005 707.19 L503.921 707.19 L503.921 634.925 L367.005 634.925 L367.005 707.19 L367.005 707.19  Z\n",
       "  \" fill=\"#ffffff\" fill-rule=\"evenodd\" fill-opacity=\"1\"/>\n",
       "<polyline clip-path=\"url(#clip762)\" style=\"stroke:#a9a9a9; stroke-linecap:butt; stroke-linejoin:round; stroke-width:0; stroke-opacity:0.7; fill:none\" points=\"\n",
       "  367.005,707.19 503.921,707.19 503.921,634.925 367.005,634.925 367.005,707.19 \n",
       "  \"/>\n",
       "<path clip-path=\"url(#clip762)\" d=\"\n",
       "M954.144 1213.42 L1091.06 1213.42 L1091.06 1141.15 L954.144 1141.15 L954.144 1213.42 L954.144 1213.42  Z\n",
       "  \" fill=\"#ffffff\" fill-rule=\"evenodd\" fill-opacity=\"1\"/>\n",
       "<polyline clip-path=\"url(#clip762)\" style=\"stroke:#a9a9a9; stroke-linecap:butt; stroke-linejoin:round; stroke-width:0; stroke-opacity:0.7; fill:none\" points=\"\n",
       "  954.144,1213.42 1091.06,1213.42 1091.06,1141.15 954.144,1141.15 954.144,1213.42 \n",
       "  \"/>\n",
       "<path clip-path=\"url(#clip762)\" d=\"\n",
       "M973.905 684.555 L1137.58 684.555 L1137.58 612.29 L973.905 612.29 L973.905 684.555 L973.905 684.555  Z\n",
       "  \" fill=\"#ffffff\" fill-rule=\"evenodd\" fill-opacity=\"1\"/>\n",
       "<polyline clip-path=\"url(#clip762)\" style=\"stroke:#a9a9a9; stroke-linecap:butt; stroke-linejoin:round; stroke-width:0; stroke-opacity:0.7; fill:none\" points=\"\n",
       "  973.905,684.555 1137.58,684.555 1137.58,612.29 973.905,612.29 973.905,684.555 \n",
       "  \"/>\n",
       "<path clip-path=\"url(#clip762)\" d=\"\n",
       "M1141.39 909.228 L1305.07 909.228 L1305.07 836.963 L1141.39 836.963 L1141.39 909.228 L1141.39 909.228  Z\n",
       "  \" fill=\"#ffffff\" fill-rule=\"evenodd\" fill-opacity=\"1\"/>\n",
       "<polyline clip-path=\"url(#clip762)\" style=\"stroke:#a9a9a9; stroke-linecap:butt; stroke-linejoin:round; stroke-width:0; stroke-opacity:0.7; fill:none\" points=\"\n",
       "  1141.39,909.228 1305.07,909.228 1305.07,836.963 1141.39,836.963 1141.39,909.228 \n",
       "  \"/>\n",
       "<path clip-path=\"url(#clip762)\" d=\"\n",
       "M1175.89 1123.9 L1312.81 1123.9 L1312.81 1051.63 L1175.89 1051.63 L1175.89 1123.9 L1175.89 1123.9  Z\n",
       "  \" fill=\"#ffffff\" fill-rule=\"evenodd\" fill-opacity=\"1\"/>\n",
       "<polyline clip-path=\"url(#clip762)\" style=\"stroke:#a9a9a9; stroke-linecap:butt; stroke-linejoin:round; stroke-width:0; stroke-opacity:0.7; fill:none\" points=\"\n",
       "  1175.89,1123.9 1312.81,1123.9 1312.81,1051.63 1175.89,1051.63 1175.89,1123.9 \n",
       "  \"/>\n",
       "<path clip-path=\"url(#clip762)\" d=\"\n",
       "M1171.14 842.018 L1308.06 842.018 L1308.06 769.754 L1171.14 769.754 L1171.14 842.018 L1171.14 842.018  Z\n",
       "  \" fill=\"#ffffff\" fill-rule=\"evenodd\" fill-opacity=\"1\"/>\n",
       "<polyline clip-path=\"url(#clip762)\" style=\"stroke:#a9a9a9; stroke-linecap:butt; stroke-linejoin:round; stroke-width:0; stroke-opacity:0.7; fill:none\" points=\"\n",
       "  1171.14,842.018 1308.06,842.018 1308.06,769.754 1171.14,769.754 1171.14,842.018 \n",
       "  \"/>\n",
       "<path clip-path=\"url(#clip762)\" d=\"\n",
       "M1616.73 1360.4 L1753.65 1360.4 L1753.65 1288.14 L1616.73 1288.14 L1616.73 1360.4 L1616.73 1360.4  Z\n",
       "  \" fill=\"#ffffff\" fill-rule=\"evenodd\" fill-opacity=\"1\"/>\n",
       "<polyline clip-path=\"url(#clip762)\" style=\"stroke:#a9a9a9; stroke-linecap:butt; stroke-linejoin:round; stroke-width:0; stroke-opacity:0.7; fill:none\" points=\"\n",
       "  1616.73,1360.4 1753.65,1360.4 1753.65,1288.14 1616.73,1288.14 1616.73,1360.4 \n",
       "  \"/>\n",
       "<path clip-path=\"url(#clip762)\" d=\"\n",
       "M1100.38 886.691 L1264.06 886.691 L1264.06 814.426 L1100.38 814.426 L1100.38 886.691 L1100.38 886.691  Z\n",
       "  \" fill=\"#ffffff\" fill-rule=\"evenodd\" fill-opacity=\"1\"/>\n",
       "<polyline clip-path=\"url(#clip762)\" style=\"stroke:#a9a9a9; stroke-linecap:butt; stroke-linejoin:round; stroke-width:0; stroke-opacity:0.7; fill:none\" points=\"\n",
       "  1100.38,886.691 1264.06,886.691 1264.06,814.426 1100.38,814.426 1100.38,886.691 \n",
       "  \"/>\n",
       "<path clip-path=\"url(#clip762)\" d=\"\n",
       "M1810.92 1012.97 L1947.83 1012.97 L1947.83 940.705 L1810.92 940.705 L1810.92 1012.97 L1810.92 1012.97  Z\n",
       "  \" fill=\"#ffffff\" fill-rule=\"evenodd\" fill-opacity=\"1\"/>\n",
       "<polyline clip-path=\"url(#clip762)\" style=\"stroke:#a9a9a9; stroke-linecap:butt; stroke-linejoin:round; stroke-width:0; stroke-opacity:0.7; fill:none\" points=\"\n",
       "  1810.92,1012.97 1947.83,1012.97 1947.83,940.705 1810.92,940.705 1810.92,1012.97 \n",
       "  \"/>\n",
       "<path clip-path=\"url(#clip762)\" d=\"\n",
       "M767.701 792.468 L904.616 792.468 L904.616 720.204 L767.701 720.204 L767.701 792.468 L767.701 792.468  Z\n",
       "  \" fill=\"#ffffff\" fill-rule=\"evenodd\" fill-opacity=\"1\"/>\n",
       "<polyline clip-path=\"url(#clip762)\" style=\"stroke:#a9a9a9; stroke-linecap:butt; stroke-linejoin:round; stroke-width:0; stroke-opacity:0.7; fill:none\" points=\"\n",
       "  767.701,792.468 904.616,792.468 904.616,720.204 767.701,720.204 767.701,792.468 \n",
       "  \"/>\n",
       "<path clip-path=\"url(#clip762)\" d=\"\n",
       "M696.352 367.721 L833.267 367.721 L833.267 295.457 L696.352 295.457 L696.352 367.721 L696.352 367.721  Z\n",
       "  \" fill=\"#ffffff\" fill-rule=\"evenodd\" fill-opacity=\"1\"/>\n",
       "<polyline clip-path=\"url(#clip762)\" style=\"stroke:#a9a9a9; stroke-linecap:butt; stroke-linejoin:round; stroke-width:0; stroke-opacity:0.7; fill:none\" points=\"\n",
       "  696.352,367.721 833.267,367.721 833.267,295.457 696.352,295.457 696.352,367.721 \n",
       "  \"/>\n",
       "<path clip-path=\"url(#clip762)\" d=\"\n",
       "M1507.44 713.37 L1644.36 713.37 L1644.36 641.105 L1507.44 641.105 L1507.44 713.37 L1507.44 713.37  Z\n",
       "  \" fill=\"#ffffff\" fill-rule=\"evenodd\" fill-opacity=\"1\"/>\n",
       "<polyline clip-path=\"url(#clip762)\" style=\"stroke:#a9a9a9; stroke-linecap:butt; stroke-linejoin:round; stroke-width:0; stroke-opacity:0.7; fill:none\" points=\"\n",
       "  1507.44,713.37 1644.36,713.37 1644.36,641.105 1507.44,641.105 1507.44,713.37 \n",
       "  \"/>\n",
       "<path clip-path=\"url(#clip762)\" d=\"\n",
       "M1042.12 190.275 L1205.79 190.275 L1205.79 118.01 L1042.12 118.01 L1042.12 190.275 L1042.12 190.275  Z\n",
       "  \" fill=\"#ffffff\" fill-rule=\"evenodd\" fill-opacity=\"1\"/>\n",
       "<polyline clip-path=\"url(#clip762)\" style=\"stroke:#a9a9a9; stroke-linecap:butt; stroke-linejoin:round; stroke-width:0; stroke-opacity:0.7; fill:none\" points=\"\n",
       "  1042.12,190.275 1205.79,190.275 1205.79,118.01 1042.12,118.01 1042.12,190.275 \n",
       "  \"/>\n",
       "<path clip-path=\"url(#clip762)\" d=\"\n",
       "M1271 653.425 L1407.92 653.425 L1407.92 581.16 L1271 581.16 L1271 653.425 L1271 653.425  Z\n",
       "  \" fill=\"#ffffff\" fill-rule=\"evenodd\" fill-opacity=\"1\"/>\n",
       "<polyline clip-path=\"url(#clip762)\" style=\"stroke:#a9a9a9; stroke-linecap:butt; stroke-linejoin:round; stroke-width:0; stroke-opacity:0.7; fill:none\" points=\"\n",
       "  1271,653.425 1407.92,653.425 1407.92,581.16 1271,581.16 1271,653.425 \n",
       "  \"/>\n",
       "<path clip-path=\"url(#clip762)\" d=\"\n",
       "M1122.55 846.99 L1259.47 846.99 L1259.47 774.726 L1122.55 774.726 L1122.55 846.99 L1122.55 846.99  Z\n",
       "  \" fill=\"#ffffff\" fill-rule=\"evenodd\" fill-opacity=\"1\"/>\n",
       "<polyline clip-path=\"url(#clip762)\" style=\"stroke:#a9a9a9; stroke-linecap:butt; stroke-linejoin:round; stroke-width:0; stroke-opacity:0.7; fill:none\" points=\"\n",
       "  1122.55,846.99 1259.47,846.99 1259.47,774.726 1122.55,774.726 1122.55,846.99 \n",
       "  \"/>\n",
       "<path clip-path=\"url(#clip762)\" d=\"\n",
       "M1108.31 481.598 L1245.23 481.598 L1245.23 409.333 L1108.31 409.333 L1108.31 481.598 L1108.31 481.598  Z\n",
       "  \" fill=\"#ffffff\" fill-rule=\"evenodd\" fill-opacity=\"1\"/>\n",
       "<polyline clip-path=\"url(#clip762)\" style=\"stroke:#a9a9a9; stroke-linecap:butt; stroke-linejoin:round; stroke-width:0; stroke-opacity:0.7; fill:none\" points=\"\n",
       "  1108.31,481.598 1245.23,481.598 1245.23,409.333 1108.31,409.333 1108.31,481.598 \n",
       "  \"/>\n",
       "<path clip-path=\"url(#clip762)\" d=\"\n",
       "M1403.8 925.641 L1512.57 925.641 L1512.57 853.376 L1403.8 853.376 L1403.8 925.641 L1403.8 925.641  Z\n",
       "  \" fill=\"#ffffff\" fill-rule=\"evenodd\" fill-opacity=\"1\"/>\n",
       "<polyline clip-path=\"url(#clip762)\" style=\"stroke:#a9a9a9; stroke-linecap:butt; stroke-linejoin:round; stroke-width:0; stroke-opacity:0.7; fill:none\" points=\"\n",
       "  1403.8,925.641 1512.57,925.641 1512.57,853.376 1403.8,853.376 1403.8,925.641 \n",
       "  \"/>\n",
       "<path clip-path=\"url(#clip762)\" d=\"\n",
       "M1474.62 282.024 L1638.29 282.024 L1638.29 209.759 L1474.62 209.759 L1474.62 282.024 L1474.62 282.024  Z\n",
       "  \" fill=\"#ffffff\" fill-rule=\"evenodd\" fill-opacity=\"1\"/>\n",
       "<polyline clip-path=\"url(#clip762)\" style=\"stroke:#a9a9a9; stroke-linecap:butt; stroke-linejoin:round; stroke-width:0; stroke-opacity:0.7; fill:none\" points=\"\n",
       "  1474.62,282.024 1638.29,282.024 1638.29,209.759 1474.62,209.759 1474.62,282.024 \n",
       "  \"/>\n",
       "<path clip-path=\"url(#clip762)\" d=\"\n",
       "M1757.11 573.236 L1894.03 573.236 L1894.03 500.971 L1757.11 500.971 L1757.11 573.236 L1757.11 573.236  Z\n",
       "  \" fill=\"#ffffff\" fill-rule=\"evenodd\" fill-opacity=\"1\"/>\n",
       "<polyline clip-path=\"url(#clip762)\" style=\"stroke:#a9a9a9; stroke-linecap:butt; stroke-linejoin:round; stroke-width:0; stroke-opacity:0.7; fill:none\" points=\"\n",
       "  1757.11,573.236 1894.03,573.236 1894.03,500.971 1757.11,500.971 1757.11,573.236 \n",
       "  \"/>\n",
       "<path clip-path=\"url(#clip762)\" d=\"\n",
       "M1070.77 1337.68 L1003.02 1220.34 L867.523 1220.34 L799.775 1337.68 L867.523 1455.03 L1003.02 1455.03 L1070.77 1337.68 L1070.77 1337.68  Z\n",
       "  \" fill=\"#ffff00\" fill-rule=\"evenodd\" fill-opacity=\"1\"/>\n",
       "<polyline clip-path=\"url(#clip762)\" style=\"stroke:#000000; stroke-linecap:butt; stroke-linejoin:round; stroke-width:4; stroke-opacity:1; fill:none\" points=\"\n",
       "  1070.77,1337.68 1003.02,1220.34 867.523,1220.34 799.775,1337.68 867.523,1455.03 1003.02,1455.03 1070.77,1337.68 \n",
       "  \"/>\n",
       "<path clip-path=\"url(#clip762)\" d=\"\n",
       "M797.813 717.694 L730.065 600.351 L594.569 600.351 L526.821 717.694 L594.569 835.037 L730.065 835.037 L797.813 717.694 L797.813 717.694  Z\n",
       "  \" fill=\"#ffff00\" fill-rule=\"evenodd\" fill-opacity=\"1\"/>\n",
       "<polyline clip-path=\"url(#clip762)\" style=\"stroke:#000000; stroke-linecap:butt; stroke-linejoin:round; stroke-width:4; stroke-opacity:1; fill:none\" points=\"\n",
       "  797.813,717.694 730.065,600.351 594.569,600.351 526.821,717.694 594.569,835.037 730.065,835.037 797.813,717.694 \n",
       "  \"/>\n",
       "<path clip-path=\"url(#clip762)\" d=\"\n",
       "M1735.38 1265.48 L1667.63 1148.14 L1532.14 1148.14 L1464.39 1265.48 L1532.14 1382.82 L1667.63 1382.82 L1735.38 1265.48 L1735.38 1265.48  Z\n",
       "  \" fill=\"#ffff00\" fill-rule=\"evenodd\" fill-opacity=\"1\"/>\n",
       "<polyline clip-path=\"url(#clip762)\" style=\"stroke:#000000; stroke-linecap:butt; stroke-linejoin:round; stroke-width:4; stroke-opacity:1; fill:none\" points=\"\n",
       "  1735.38,1265.48 1667.63,1148.14 1532.14,1148.14 1464.39,1265.48 1532.14,1382.82 1667.63,1382.82 1735.38,1265.48 \n",
       "  \"/>\n",
       "<path clip-path=\"url(#clip762)\" d=\"\n",
       "M1293.73 262.317 L1225.98 144.974 L1090.49 144.974 L1022.74 262.317 L1090.49 379.66 L1225.98 379.66 L1293.73 262.317 L1293.73 262.317  Z\n",
       "  \" fill=\"#ffff00\" fill-rule=\"evenodd\" fill-opacity=\"1\"/>\n",
       "<polyline clip-path=\"url(#clip762)\" style=\"stroke:#000000; stroke-linecap:butt; stroke-linejoin:round; stroke-width:4; stroke-opacity:1; fill:none\" points=\"\n",
       "  1293.73,262.317 1225.98,144.974 1090.49,144.974 1022.74,262.317 1090.49,379.66 1225.98,379.66 1293.73,262.317 \n",
       "  \"/>\n",
       "<path clip-path=\"url(#clip762)\" d=\"\n",
       "M1873.18 600.867 L1805.43 483.524 L1669.93 483.524 L1602.19 600.867 L1669.93 718.21 L1805.43 718.21 L1873.18 600.867 L1873.18 600.867  Z\n",
       "  \" fill=\"#ffff00\" fill-rule=\"evenodd\" fill-opacity=\"1\"/>\n",
       "<polyline clip-path=\"url(#clip762)\" style=\"stroke:#000000; stroke-linecap:butt; stroke-linejoin:round; stroke-width:4; stroke-opacity:1; fill:none\" points=\"\n",
       "  1873.18,600.867 1805.43,483.524 1669.93,483.524 1602.19,600.867 1669.93,718.21 1805.43,718.21 1873.18,600.867 1873.18,600.867 \n",
       "  \"/>\n",
       "<path clip-path=\"url(#clip762)\" d=\"M935.271 1339.68 L933.539 1338.68 L933.539 1336.68 L935.271 1335.68 L937.003 1336.68 L937.003 1338.68 Z\" fill=\"#ffff00\" fill-rule=\"evenodd\" fill-opacity=\"1\" stroke=\"#000000\" stroke-opacity=\"1\" stroke-width=\"3.2\"/>\n",
       "<path clip-path=\"url(#clip762)\" d=\"M662.317 719.694 L660.585 718.694 L660.585 716.694 L662.317 715.694 L664.049 716.694 L664.049 718.694 Z\" fill=\"#ffff00\" fill-rule=\"evenodd\" fill-opacity=\"1\" stroke=\"#000000\" stroke-opacity=\"1\" stroke-width=\"3.2\"/>\n",
       "<path clip-path=\"url(#clip762)\" d=\"M1599.88 1267.48 L1598.15 1266.48 L1598.15 1264.48 L1599.88 1263.48 L1601.62 1264.48 L1601.62 1266.48 Z\" fill=\"#ffff00\" fill-rule=\"evenodd\" fill-opacity=\"1\" stroke=\"#000000\" stroke-opacity=\"1\" stroke-width=\"3.2\"/>\n",
       "<path clip-path=\"url(#clip762)\" d=\"M1158.23 264.317 L1156.5 263.317 L1156.5 261.317 L1158.23 260.317 L1159.97 261.317 L1159.97 263.317 Z\" fill=\"#ffff00\" fill-rule=\"evenodd\" fill-opacity=\"1\" stroke=\"#000000\" stroke-opacity=\"1\" stroke-width=\"3.2\"/>\n",
       "<path clip-path=\"url(#clip762)\" d=\"M1737.68 602.867 L1735.95 601.867 L1735.95 599.867 L1737.68 598.867 L1739.41 599.867 L1739.41 601.867 Z\" fill=\"#ffff00\" fill-rule=\"evenodd\" fill-opacity=\"1\" stroke=\"#000000\" stroke-opacity=\"1\" stroke-width=\"3.2\"/>\n",
       "<path clip-path=\"url(#clip760)\" d=\"M868.519 1431.03 Q865.359 1431.03 863.759 1434.15 Q862.179 1437.24 862.179 1443.48 Q862.179 1449.7 863.759 1452.82 Q865.359 1455.92 868.519 1455.92 Q871.699 1455.92 873.279 1452.82 Q874.879 1449.7 874.879 1443.48 Q874.879 1437.24 873.279 1434.15 Q871.699 1431.03 868.519 1431.03 M868.519 1427.79 Q873.603 1427.79 876.277 1431.82 Q878.97 1435.83 878.97 1443.48 Q878.97 1451.12 876.277 1455.15 Q873.603 1459.16 868.519 1459.16 Q863.435 1459.16 860.741 1455.15 Q858.068 1451.12 858.068 1443.48 Q858.068 1435.83 860.741 1431.82 Q863.435 1427.79 868.519 1427.79 Z\" fill=\"#000000\" fill-rule=\"evenodd\" fill-opacity=\"1\" /><path clip-path=\"url(#clip760)\" d=\"M886.161 1453.43 L890.435 1453.43 L890.435 1458.57 L886.161 1458.57 L886.161 1453.43 Z\" fill=\"#000000\" fill-rule=\"evenodd\" fill-opacity=\"1\" /><path clip-path=\"url(#clip760)\" d=\"M899.387 1428.33 L915.449 1428.33 L915.449 1431.78 L903.134 1431.78 L903.134 1439.19 Q904.025 1438.88 904.917 1438.74 Q905.808 1438.58 906.699 1438.58 Q911.763 1438.58 914.72 1441.36 Q917.677 1444.13 917.677 1448.87 Q917.677 1453.75 914.639 1456.47 Q911.601 1459.16 906.071 1459.16 Q904.167 1459.16 902.182 1458.84 Q900.217 1458.51 898.111 1457.86 L898.111 1453.75 Q899.934 1454.74 901.878 1455.23 Q903.823 1455.72 905.99 1455.72 Q909.494 1455.72 911.54 1453.87 Q913.585 1452.03 913.585 1448.87 Q913.585 1445.71 911.54 1443.87 Q909.494 1442.02 905.99 1442.02 Q904.349 1442.02 902.709 1442.39 Q901.088 1442.75 899.387 1443.52 L899.387 1428.33 Z\" fill=\"#000000\" fill-rule=\"evenodd\" fill-opacity=\"1\" /><path clip-path=\"url(#clip760)\" d=\"M926.447 1455.13 L933.131 1455.13 L933.131 1432.06 L925.86 1433.52 L925.86 1429.79 L933.091 1428.33 L937.182 1428.33 L937.182 1455.13 L943.866 1455.13 L943.866 1458.57 L926.447 1458.57 L926.447 1455.13 Z\" fill=\"#000000\" fill-rule=\"evenodd\" fill-opacity=\"1\" /><path clip-path=\"url(#clip760)\" d=\"M568.897 1101.92 Q565.738 1101.92 564.138 1105.04 Q562.558 1108.14 562.558 1114.38 Q562.558 1120.6 564.138 1123.72 Q565.738 1126.82 568.897 1126.82 Q572.077 1126.82 573.657 1123.72 Q575.257 1120.6 575.257 1114.38 Q575.257 1108.14 573.657 1105.04 Q572.077 1101.92 568.897 1101.92 M568.897 1098.68 Q573.981 1098.68 576.655 1102.71 Q579.349 1106.72 579.349 1114.38 Q579.349 1122.02 576.655 1126.05 Q573.981 1130.06 568.897 1130.06 Q563.814 1130.06 561.12 1126.05 Q558.446 1122.02 558.446 1114.38 Q558.446 1106.72 561.12 1102.71 Q563.814 1098.68 568.897 1098.68 Z\" fill=\"#000000\" fill-rule=\"evenodd\" fill-opacity=\"1\" /><path clip-path=\"url(#clip760)\" d=\"M586.539 1124.32 L590.813 1124.32 L590.813 1129.47 L586.539 1129.47 L586.539 1124.32 Z\" fill=\"#000000\" fill-rule=\"evenodd\" fill-opacity=\"1\" /><path clip-path=\"url(#clip760)\" d=\"M603.249 1126.03 L617.529 1126.03 L617.529 1129.47 L598.327 1129.47 L598.327 1126.03 Q600.657 1123.62 604.667 1119.56 Q608.698 1115.49 609.731 1114.32 Q611.695 1112.11 612.465 1110.59 Q613.255 1109.05 613.255 1107.57 Q613.255 1105.16 611.553 1103.64 Q609.872 1102.13 607.158 1102.13 Q605.234 1102.13 603.087 1102.79 Q600.96 1103.46 598.53 1104.82 L598.53 1100.69 Q601.001 1099.69 603.148 1099.19 Q605.295 1098.68 607.077 1098.68 Q611.776 1098.68 614.571 1101.03 Q617.367 1103.38 617.367 1107.31 Q617.367 1109.17 616.658 1110.86 Q615.969 1112.52 614.126 1114.78 Q613.619 1115.37 610.905 1118.19 Q608.191 1120.98 603.249 1126.03 Z\" fill=\"#000000\" fill-rule=\"evenodd\" fill-opacity=\"1\" /><path clip-path=\"url(#clip760)\" d=\"M635.373 1112.72 Q632.618 1112.72 630.998 1114.6 Q629.398 1116.49 629.398 1119.77 Q629.398 1123.03 630.998 1124.93 Q632.618 1126.82 635.373 1126.82 Q638.127 1126.82 639.728 1124.93 Q641.348 1123.03 641.348 1119.77 Q641.348 1116.49 639.728 1114.6 Q638.127 1112.72 635.373 1112.72 M643.495 1099.9 L643.495 1103.62 Q641.956 1102.9 640.376 1102.51 Q638.816 1102.13 637.277 1102.13 Q633.226 1102.13 631.079 1104.86 Q628.952 1107.59 628.648 1113.12 Q629.843 1111.36 631.646 1110.43 Q633.449 1109.48 635.616 1109.48 Q640.173 1109.48 642.806 1112.25 Q645.46 1115.01 645.46 1119.77 Q645.46 1124.43 642.705 1127.24 Q639.95 1130.06 635.373 1130.06 Q630.127 1130.06 627.352 1126.05 Q624.577 1122.02 624.577 1114.38 Q624.577 1107.21 627.98 1102.96 Q631.383 1098.68 637.115 1098.68 Q638.654 1098.68 640.214 1098.99 Q641.793 1099.29 643.495 1099.9 Z\" fill=\"#000000\" fill-rule=\"evenodd\" fill-opacity=\"1\" /><path clip-path=\"url(#clip760)\" d=\"M1258.22 1502.97 Q1255.06 1502.97 1253.46 1506.09 Q1251.88 1509.19 1251.88 1515.43 Q1251.88 1521.64 1253.46 1524.76 Q1255.06 1527.86 1258.22 1527.86 Q1261.4 1527.86 1262.98 1524.76 Q1264.58 1521.64 1264.58 1515.43 Q1264.58 1509.19 1262.98 1506.09 Q1261.4 1502.97 1258.22 1502.97 M1258.22 1499.73 Q1263.3 1499.73 1265.97 1503.76 Q1268.67 1507.77 1268.67 1515.43 Q1268.67 1523.06 1265.97 1527.09 Q1263.3 1531.1 1258.22 1531.1 Q1253.13 1531.1 1250.44 1527.09 Q1247.77 1523.06 1247.77 1515.43 Q1247.77 1507.77 1250.44 1503.76 Q1253.13 1499.73 1258.22 1499.73 Z\" fill=\"#000000\" fill-rule=\"evenodd\" fill-opacity=\"1\" /><path clip-path=\"url(#clip760)\" d=\"M1275.86 1525.37 L1280.13 1525.37 L1280.13 1530.52 L1275.86 1530.52 L1275.86 1525.37 Z\" fill=\"#000000\" fill-rule=\"evenodd\" fill-opacity=\"1\" /><path clip-path=\"url(#clip760)\" d=\"M1289.75 1527.07 L1296.44 1527.07 L1296.44 1504 L1289.17 1505.46 L1289.17 1501.73 L1296.4 1500.28 L1300.49 1500.28 L1300.49 1527.07 L1307.17 1527.07 L1307.17 1530.52 L1289.75 1530.52 L1289.75 1527.07 Z\" fill=\"#000000\" fill-rule=\"evenodd\" fill-opacity=\"1\" /><path clip-path=\"url(#clip760)\" d=\"M1314.4 1500.28 L1333.85 1500.28 L1333.85 1502.02 L1322.87 1530.52 L1318.6 1530.52 L1328.92 1503.72 L1314.4 1503.72 L1314.4 1500.28 Z\" fill=\"#000000\" fill-rule=\"evenodd\" fill-opacity=\"1\" /><path clip-path=\"url(#clip760)\" d=\"M1211.25 831.238 Q1208.09 831.238 1206.49 834.357 Q1204.91 837.456 1204.91 843.695 Q1204.91 849.913 1206.49 853.032 Q1208.09 856.131 1211.25 856.131 Q1214.43 856.131 1216.01 853.032 Q1217.61 849.913 1217.61 843.695 Q1217.61 837.456 1216.01 834.357 Q1214.43 831.238 1211.25 831.238 M1211.25 827.997 Q1216.33 827.997 1219.01 832.028 Q1221.7 836.038 1221.7 843.695 Q1221.7 851.33 1219.01 855.361 Q1216.33 859.372 1211.25 859.372 Q1206.16 859.372 1203.47 855.361 Q1200.8 851.33 1200.8 843.695 Q1200.8 836.038 1203.47 832.028 Q1206.16 827.997 1211.25 827.997 Z\" fill=\"#000000\" fill-rule=\"evenodd\" fill-opacity=\"1\" /><path clip-path=\"url(#clip760)\" d=\"M1228.89 853.64 L1233.16 853.64 L1233.16 858.784 L1228.89 858.784 L1228.89 853.64 Z\" fill=\"#000000\" fill-rule=\"evenodd\" fill-opacity=\"1\" /><path clip-path=\"url(#clip760)\" d=\"M1250.82 831.238 Q1247.67 831.238 1246.07 834.357 Q1244.49 837.456 1244.49 843.695 Q1244.49 849.913 1246.07 853.032 Q1247.67 856.131 1250.82 856.131 Q1254 856.131 1255.58 853.032 Q1257.18 849.913 1257.18 843.695 Q1257.18 837.456 1255.58 834.357 Q1254 831.238 1250.82 831.238 M1250.82 827.997 Q1255.91 827.997 1258.58 832.028 Q1261.28 836.038 1261.28 843.695 Q1261.28 851.33 1258.58 855.361 Q1255.91 859.372 1250.82 859.372 Q1245.74 859.372 1243.05 855.361 Q1240.37 851.33 1240.37 843.695 Q1240.37 836.038 1243.05 832.028 Q1245.74 827.997 1250.82 827.997 Z\" fill=\"#000000\" fill-rule=\"evenodd\" fill-opacity=\"1\" /><path clip-path=\"url(#clip760)\" d=\"M1271.99 855.341 L1286.27 855.341 L1286.27 858.784 L1267.07 858.784 L1267.07 855.341 Q1269.4 852.931 1273.41 848.88 Q1277.44 844.809 1278.47 843.634 Q1280.44 841.426 1281.21 839.907 Q1282 838.368 1282 836.889 Q1282 834.479 1280.3 832.96 Q1278.61 831.441 1275.9 831.441 Q1273.98 831.441 1271.83 832.109 Q1269.7 832.777 1267.27 834.134 L1267.27 830.002 Q1269.74 829.01 1271.89 828.504 Q1274.04 827.997 1275.82 827.997 Q1280.52 827.997 1283.31 830.347 Q1286.11 832.696 1286.11 836.626 Q1286.11 838.489 1285.4 840.17 Q1284.71 841.831 1282.87 844.1 Q1282.36 844.687 1279.65 847.502 Q1276.93 850.298 1271.99 855.341 Z\" fill=\"#000000\" fill-rule=\"evenodd\" fill-opacity=\"1\" /><path clip-path=\"url(#clip760)\" d=\"M1294.98 858.156 L1294.98 854.429 Q1296.52 855.159 1298.1 855.543 Q1299.68 855.928 1301.2 855.928 Q1305.25 855.928 1307.38 853.214 Q1309.52 850.48 1309.83 844.93 Q1308.65 846.672 1306.85 847.604 Q1305.05 848.535 1302.86 848.535 Q1298.32 848.535 1295.67 845.801 Q1293.04 843.046 1293.04 838.287 Q1293.04 833.628 1295.79 830.813 Q1298.54 827.997 1303.12 827.997 Q1308.37 827.997 1311.12 832.028 Q1313.9 836.038 1313.9 843.695 Q1313.9 850.844 1310.49 855.118 Q1307.11 859.372 1301.38 859.372 Q1299.84 859.372 1298.26 859.068 Q1296.68 858.764 1294.98 858.156 M1303.12 845.335 Q1305.88 845.335 1307.48 843.451 Q1309.1 841.568 1309.1 838.287 Q1309.1 835.026 1307.48 833.142 Q1305.88 831.238 1303.12 831.238 Q1300.37 831.238 1298.75 833.142 Q1297.15 835.026 1297.15 838.287 Q1297.15 841.568 1298.75 843.451 Q1300.37 845.335 1303.12 845.335 Z\" fill=\"#000000\" fill-rule=\"evenodd\" fill-opacity=\"1\" /><path clip-path=\"url(#clip760)\" d=\"M1436.3 1115.27 Q1433.14 1115.27 1431.54 1118.38 Q1429.96 1121.48 1429.96 1127.72 Q1429.96 1133.94 1431.54 1137.06 Q1433.14 1140.16 1436.3 1140.16 Q1439.48 1140.16 1441.06 1137.06 Q1442.66 1133.94 1442.66 1127.72 Q1442.66 1121.48 1441.06 1118.38 Q1439.48 1115.27 1436.3 1115.27 M1436.3 1112.02 Q1441.38 1112.02 1444.06 1116.06 Q1446.75 1120.07 1446.75 1127.72 Q1446.75 1135.36 1444.06 1139.39 Q1441.38 1143.4 1436.3 1143.4 Q1431.22 1143.4 1428.52 1139.39 Q1425.85 1135.36 1425.85 1127.72 Q1425.85 1120.07 1428.52 1116.06 Q1431.22 1112.02 1436.3 1112.02 Z\" fill=\"#000000\" fill-rule=\"evenodd\" fill-opacity=\"1\" /><path clip-path=\"url(#clip760)\" d=\"M1453.94 1137.67 L1458.22 1137.67 L1458.22 1142.81 L1453.94 1142.81 L1453.94 1137.67 Z\" fill=\"#000000\" fill-rule=\"evenodd\" fill-opacity=\"1\" /><path clip-path=\"url(#clip760)\" d=\"M1475.88 1115.27 Q1472.72 1115.27 1471.12 1118.38 Q1469.54 1121.48 1469.54 1127.72 Q1469.54 1133.94 1471.12 1137.06 Q1472.72 1140.16 1475.88 1140.16 Q1479.06 1140.16 1480.64 1137.06 Q1482.24 1133.94 1482.24 1127.72 Q1482.24 1121.48 1480.64 1118.38 Q1479.06 1115.27 1475.88 1115.27 M1475.88 1112.02 Q1480.96 1112.02 1483.63 1116.06 Q1486.33 1120.07 1486.33 1127.72 Q1486.33 1135.36 1483.63 1139.39 Q1480.96 1143.4 1475.88 1143.4 Q1470.79 1143.4 1468.1 1139.39 Q1465.43 1135.36 1465.43 1127.72 Q1465.43 1120.07 1468.1 1116.06 Q1470.79 1112.02 1475.88 1112.02 Z\" fill=\"#000000\" fill-rule=\"evenodd\" fill-opacity=\"1\" /><path clip-path=\"url(#clip760)\" d=\"M1505.91 1126.51 Q1508.85 1127.13 1510.49 1129.12 Q1512.15 1131.1 1512.15 1134.02 Q1512.15 1138.5 1509.07 1140.95 Q1506 1143.4 1500.32 1143.4 Q1498.42 1143.4 1496.39 1143.01 Q1494.39 1142.65 1492.24 1141.9 L1492.24 1137.95 Q1493.94 1138.94 1495.97 1139.45 Q1497.99 1139.96 1500.2 1139.96 Q1504.05 1139.96 1506.06 1138.44 Q1508.08 1136.92 1508.08 1134.02 Q1508.08 1131.35 1506.2 1129.85 Q1504.33 1128.33 1500.99 1128.33 L1497.47 1128.33 L1497.47 1124.97 L1501.15 1124.97 Q1504.17 1124.97 1505.77 1123.77 Q1507.37 1122.56 1507.37 1120.29 Q1507.37 1117.96 1505.71 1116.72 Q1504.07 1115.47 1500.99 1115.47 Q1499.31 1115.47 1497.39 1115.83 Q1495.46 1116.2 1493.15 1116.97 L1493.15 1113.32 Q1495.48 1112.67 1497.51 1112.35 Q1499.55 1112.02 1501.36 1112.02 Q1506.02 1112.02 1508.73 1114.15 Q1511.44 1116.26 1511.44 1119.86 Q1511.44 1122.37 1510.01 1124.12 Q1508.57 1125.84 1505.91 1126.51 Z\" fill=\"#000000\" fill-rule=\"evenodd\" fill-opacity=\"1\" /><path clip-path=\"url(#clip760)\" d=\"M1520.62 1139.37 L1527.3 1139.37 L1527.3 1116.3 L1520.03 1117.76 L1520.03 1114.03 L1527.26 1112.57 L1531.35 1112.57 L1531.35 1139.37 L1538.04 1139.37 L1538.04 1142.81 L1520.62 1142.81 L1520.62 1139.37 Z\" fill=\"#000000\" fill-rule=\"evenodd\" fill-opacity=\"1\" /><path clip-path=\"url(#clip760)\" d=\"M976.282 928.602 Q973.122 928.602 971.522 931.721 Q969.942 934.82 969.942 941.058 Q969.942 947.277 971.522 950.396 Q973.122 953.495 976.282 953.495 Q979.462 953.495 981.042 950.396 Q982.642 947.277 982.642 941.058 Q982.642 934.82 981.042 931.721 Q979.462 928.602 976.282 928.602 M976.282 925.361 Q981.366 925.361 984.039 929.392 Q986.733 933.402 986.733 941.058 Q986.733 948.694 984.039 952.725 Q981.366 956.735 976.282 956.735 Q971.198 956.735 968.504 952.725 Q965.831 948.694 965.831 941.058 Q965.831 933.402 968.504 929.392 Q971.198 925.361 976.282 925.361 Z\" fill=\"#000000\" fill-rule=\"evenodd\" fill-opacity=\"1\" /><path clip-path=\"url(#clip760)\" d=\"M993.924 951.003 L998.197 951.003 L998.197 956.148 L993.924 956.148 L993.924 951.003 Z\" fill=\"#000000\" fill-rule=\"evenodd\" fill-opacity=\"1\" /><path clip-path=\"url(#clip760)\" d=\"M1007.15 925.908 L1023.21 925.908 L1023.21 929.351 L1010.9 929.351 L1010.9 936.765 Q1011.79 936.461 1012.68 936.319 Q1013.57 936.157 1014.46 936.157 Q1019.53 936.157 1022.48 938.932 Q1025.44 941.707 1025.44 946.446 Q1025.44 951.328 1022.4 954.042 Q1019.36 956.735 1013.83 956.735 Q1011.93 956.735 1009.94 956.411 Q1007.98 956.087 1005.87 955.439 L1005.87 951.328 Q1007.7 952.32 1009.64 952.806 Q1011.59 953.292 1013.75 953.292 Q1017.26 953.292 1019.3 951.449 Q1021.35 949.606 1021.35 946.446 Q1021.35 943.286 1019.3 941.443 Q1017.26 939.6 1013.75 939.6 Q1012.11 939.6 1010.47 939.965 Q1008.85 940.329 1007.15 941.099 L1007.15 925.908 Z\" fill=\"#000000\" fill-rule=\"evenodd\" fill-opacity=\"1\" /><path clip-path=\"url(#clip760)\" d=\"M402.408 658.631 Q399.248 658.631 397.648 661.75 Q396.068 664.849 396.068 671.088 Q396.068 677.306 397.648 680.425 Q399.248 683.524 402.408 683.524 Q405.588 683.524 407.167 680.425 Q408.768 677.306 408.768 671.088 Q408.768 664.849 407.167 661.75 Q405.588 658.631 402.408 658.631 M402.408 655.391 Q407.491 655.391 410.165 659.421 Q412.859 663.432 412.859 671.088 Q412.859 678.724 410.165 682.754 Q407.491 686.765 402.408 686.765 Q397.324 686.765 394.63 682.754 Q391.956 678.724 391.956 671.088 Q391.956 663.432 394.63 659.421 Q397.324 655.391 402.408 655.391 Z\" fill=\"#000000\" fill-rule=\"evenodd\" fill-opacity=\"1\" /><path clip-path=\"url(#clip760)\" d=\"M420.049 681.033 L424.323 681.033 L424.323 686.177 L420.049 686.177 L420.049 681.033 Z\" fill=\"#000000\" fill-rule=\"evenodd\" fill-opacity=\"1\" /><path clip-path=\"url(#clip760)\" d=\"M436.759 682.734 L451.039 682.734 L451.039 686.177 L431.837 686.177 L431.837 682.734 Q434.167 680.324 438.177 676.273 Q442.208 672.202 443.241 671.027 Q445.205 668.819 445.975 667.3 Q446.765 665.761 446.765 664.282 Q446.765 661.872 445.064 660.353 Q443.382 658.834 440.668 658.834 Q438.744 658.834 436.597 659.502 Q434.47 660.171 432.04 661.528 L432.04 657.396 Q434.511 656.403 436.658 655.897 Q438.805 655.391 440.587 655.391 Q445.286 655.391 448.082 657.74 Q450.877 660.09 450.877 664.019 Q450.877 665.882 450.168 667.564 Q449.479 669.224 447.636 671.493 Q447.13 672.08 444.415 674.896 Q441.701 677.691 436.759 682.734 Z\" fill=\"#000000\" fill-rule=\"evenodd\" fill-opacity=\"1\" /><path clip-path=\"url(#clip760)\" d=\"M468.883 669.427 Q466.128 669.427 464.508 671.311 Q462.908 673.194 462.908 676.476 Q462.908 679.736 464.508 681.64 Q466.128 683.524 468.883 683.524 Q471.638 683.524 473.238 681.64 Q474.858 679.736 474.858 676.476 Q474.858 673.194 473.238 671.311 Q471.638 669.427 468.883 669.427 M477.005 656.606 L477.005 660.333 Q475.466 659.604 473.886 659.219 Q472.326 658.834 470.787 658.834 Q466.736 658.834 464.589 661.568 Q462.462 664.303 462.158 669.832 Q463.353 668.07 465.156 667.138 Q466.959 666.186 469.126 666.186 Q473.683 666.186 476.316 668.961 Q478.97 671.716 478.97 676.476 Q478.97 681.134 476.215 683.949 Q473.46 686.765 468.883 686.765 Q463.637 686.765 460.862 682.754 Q458.087 678.724 458.087 671.088 Q458.087 663.918 461.49 659.664 Q464.893 655.391 470.625 655.391 Q472.164 655.391 473.724 655.694 Q475.304 655.998 477.005 656.606 Z\" fill=\"#000000\" fill-rule=\"evenodd\" fill-opacity=\"1\" /><path clip-path=\"url(#clip760)\" d=\"M990.013 1164.86 Q986.853 1164.86 985.253 1167.98 Q983.673 1171.08 983.673 1177.32 Q983.673 1183.54 985.253 1186.65 Q986.853 1189.75 990.013 1189.75 Q993.193 1189.75 994.773 1186.65 Q996.373 1183.54 996.373 1177.32 Q996.373 1171.08 994.773 1167.98 Q993.193 1164.86 990.013 1164.86 M990.013 1161.62 Q995.097 1161.62 997.77 1165.65 Q1000.46 1169.66 1000.46 1177.32 Q1000.46 1184.95 997.77 1188.98 Q995.097 1192.99 990.013 1192.99 Q984.929 1192.99 982.235 1188.98 Q979.562 1184.95 979.562 1177.32 Q979.562 1169.66 982.235 1165.65 Q984.929 1161.62 990.013 1161.62 Z\" fill=\"#000000\" fill-rule=\"evenodd\" fill-opacity=\"1\" /><path clip-path=\"url(#clip760)\" d=\"M1007.65 1187.26 L1011.93 1187.26 L1011.93 1192.41 L1007.65 1192.41 L1007.65 1187.26 Z\" fill=\"#000000\" fill-rule=\"evenodd\" fill-opacity=\"1\" /><path clip-path=\"url(#clip760)\" d=\"M1021.55 1188.96 L1028.23 1188.96 L1028.23 1165.89 L1020.96 1167.35 L1020.96 1163.63 L1028.19 1162.17 L1032.28 1162.17 L1032.28 1188.96 L1038.97 1188.96 L1038.97 1192.41 L1021.55 1192.41 L1021.55 1188.96 Z\" fill=\"#000000\" fill-rule=\"evenodd\" fill-opacity=\"1\" /><path clip-path=\"url(#clip760)\" d=\"M1046.2 1162.17 L1065.64 1162.17 L1065.64 1163.91 L1054.67 1192.41 L1050.39 1192.41 L1060.72 1165.61 L1046.2 1165.61 L1046.2 1162.17 Z\" fill=\"#000000\" fill-rule=\"evenodd\" fill-opacity=\"1\" /><path clip-path=\"url(#clip760)\" d=\"M1010.1 635.997 Q1006.94 635.997 1005.34 639.116 Q1003.76 642.215 1003.76 648.453 Q1003.76 654.671 1005.34 657.79 Q1006.94 660.889 1010.1 660.889 Q1013.28 660.889 1014.86 657.79 Q1016.46 654.671 1016.46 648.453 Q1016.46 642.215 1014.86 639.116 Q1013.28 635.997 1010.1 635.997 M1010.1 632.756 Q1015.18 632.756 1017.86 636.786 Q1020.55 640.797 1020.55 648.453 Q1020.55 656.089 1017.86 660.12 Q1015.18 664.13 1010.1 664.13 Q1005.02 664.13 1002.32 660.12 Q999.648 656.089 999.648 648.453 Q999.648 640.797 1002.32 636.786 Q1005.02 632.756 1010.1 632.756 Z\" fill=\"#000000\" fill-rule=\"evenodd\" fill-opacity=\"1\" /><path clip-path=\"url(#clip760)\" d=\"M1027.74 658.398 L1032.01 658.398 L1032.01 663.543 L1027.74 663.543 L1027.74 658.398 Z\" fill=\"#000000\" fill-rule=\"evenodd\" fill-opacity=\"1\" /><path clip-path=\"url(#clip760)\" d=\"M1049.68 635.997 Q1046.52 635.997 1044.92 639.116 Q1043.34 642.215 1043.34 648.453 Q1043.34 654.671 1044.92 657.79 Q1046.52 660.889 1049.68 660.889 Q1052.86 660.889 1054.44 657.79 Q1056.04 654.671 1056.04 648.453 Q1056.04 642.215 1054.44 639.116 Q1052.86 635.997 1049.68 635.997 M1049.68 632.756 Q1054.76 632.756 1057.43 636.786 Q1060.13 640.797 1060.13 648.453 Q1060.13 656.089 1057.43 660.12 Q1054.76 664.13 1049.68 664.13 Q1044.59 664.13 1041.9 660.12 Q1039.23 656.089 1039.23 648.453 Q1039.23 640.797 1041.9 636.786 Q1044.59 632.756 1049.68 632.756 Z\" fill=\"#000000\" fill-rule=\"evenodd\" fill-opacity=\"1\" /><path clip-path=\"url(#clip760)\" d=\"M1079.71 647.238 Q1082.65 647.866 1084.29 649.851 Q1085.95 651.836 1085.95 654.752 Q1085.95 659.228 1082.87 661.679 Q1079.79 664.13 1074.12 664.13 Q1072.22 664.13 1070.19 663.745 Q1068.19 663.381 1066.04 662.631 L1066.04 658.682 Q1067.74 659.674 1069.77 660.18 Q1071.79 660.687 1074 660.687 Q1077.85 660.687 1079.86 659.168 Q1081.88 657.649 1081.88 654.752 Q1081.88 652.079 1080 650.58 Q1078.13 649.061 1074.79 649.061 L1071.27 649.061 L1071.27 645.698 L1074.95 645.698 Q1077.97 645.698 1079.57 644.503 Q1081.17 643.288 1081.17 641.02 Q1081.17 638.69 1079.51 637.455 Q1077.87 636.199 1074.79 636.199 Q1073.11 636.199 1071.19 636.564 Q1069.26 636.928 1066.95 637.698 L1066.95 634.052 Q1069.28 633.404 1071.31 633.08 Q1073.35 632.756 1075.16 632.756 Q1079.82 632.756 1082.53 634.883 Q1085.24 636.989 1085.24 640.594 Q1085.24 643.106 1083.81 644.848 Q1082.37 646.569 1079.71 647.238 Z\" fill=\"#000000\" fill-rule=\"evenodd\" fill-opacity=\"1\" /><path clip-path=\"url(#clip760)\" d=\"M1094.42 660.099 L1101.1 660.099 L1101.1 637.029 L1093.83 638.488 L1093.83 634.761 L1101.06 633.303 L1105.15 633.303 L1105.15 660.099 L1111.84 660.099 L1111.84 663.543 L1094.42 663.543 L1094.42 660.099 Z\" fill=\"#000000\" fill-rule=\"evenodd\" fill-opacity=\"1\" /><path clip-path=\"url(#clip760)\" d=\"M1177.33 860.669 Q1174.17 860.669 1172.57 863.789 Q1170.99 866.888 1170.99 873.126 Q1170.99 879.344 1172.57 882.463 Q1174.17 885.562 1177.33 885.562 Q1180.51 885.562 1182.09 882.463 Q1183.69 879.344 1183.69 873.126 Q1183.69 866.888 1182.09 863.789 Q1180.51 860.669 1177.33 860.669 M1177.33 857.429 Q1182.42 857.429 1185.09 861.459 Q1187.78 865.47 1187.78 873.126 Q1187.78 880.762 1185.09 884.793 Q1182.42 888.803 1177.33 888.803 Q1172.25 888.803 1169.55 884.793 Q1166.88 880.762 1166.88 873.126 Q1166.88 865.47 1169.55 861.459 Q1172.25 857.429 1177.33 857.429 Z\" fill=\"#000000\" fill-rule=\"evenodd\" fill-opacity=\"1\" /><path clip-path=\"url(#clip760)\" d=\"M1194.97 883.071 L1199.25 883.071 L1199.25 888.216 L1194.97 888.216 L1194.97 883.071 Z\" fill=\"#000000\" fill-rule=\"evenodd\" fill-opacity=\"1\" /><path clip-path=\"url(#clip760)\" d=\"M1216.91 860.669 Q1213.75 860.669 1212.15 863.789 Q1210.57 866.888 1210.57 873.126 Q1210.57 879.344 1212.15 882.463 Q1213.75 885.562 1216.91 885.562 Q1220.09 885.562 1221.67 882.463 Q1223.27 879.344 1223.27 873.126 Q1223.27 866.888 1221.67 863.789 Q1220.09 860.669 1216.91 860.669 M1216.91 857.429 Q1221.99 857.429 1224.67 861.459 Q1227.36 865.47 1227.36 873.126 Q1227.36 880.762 1224.67 884.793 Q1221.99 888.803 1216.91 888.803 Q1211.83 888.803 1209.13 884.793 Q1206.46 880.762 1206.46 873.126 Q1206.46 865.47 1209.13 861.459 Q1211.83 857.429 1216.91 857.429 Z\" fill=\"#000000\" fill-rule=\"evenodd\" fill-opacity=\"1\" /><path clip-path=\"url(#clip760)\" d=\"M1246.95 871.911 Q1249.88 872.539 1251.52 874.524 Q1253.19 876.508 1253.19 879.425 Q1253.19 883.901 1250.11 886.352 Q1247.03 888.803 1241.36 888.803 Q1239.45 888.803 1237.43 888.418 Q1235.42 888.054 1233.28 887.304 L1233.28 883.355 Q1234.98 884.347 1237 884.853 Q1239.03 885.36 1241.24 885.36 Q1245.08 885.36 1247.09 883.841 Q1249.11 882.322 1249.11 879.425 Q1249.11 876.752 1247.23 875.253 Q1245.37 873.734 1242.02 873.734 L1238.5 873.734 L1238.5 870.371 L1242.19 870.371 Q1245.2 870.371 1246.81 869.176 Q1248.41 867.961 1248.41 865.693 Q1248.41 863.363 1246.74 862.128 Q1245.1 860.872 1242.02 860.872 Q1240.34 860.872 1238.42 861.237 Q1236.5 861.601 1234.19 862.371 L1234.19 858.725 Q1236.52 858.077 1238.54 857.753 Q1240.59 857.429 1242.39 857.429 Q1247.05 857.429 1249.76 859.555 Q1252.48 861.662 1252.48 865.267 Q1252.48 867.779 1251.04 869.521 Q1249.6 871.242 1246.95 871.911 Z\" fill=\"#000000\" fill-rule=\"evenodd\" fill-opacity=\"1\" /><path clip-path=\"url(#clip760)\" d=\"M1273.34 871.911 Q1276.28 872.539 1277.92 874.524 Q1279.58 876.508 1279.58 879.425 Q1279.58 883.901 1276.5 886.352 Q1273.42 888.803 1267.75 888.803 Q1265.84 888.803 1263.82 888.418 Q1261.81 888.054 1259.67 887.304 L1259.67 883.355 Q1261.37 884.347 1263.39 884.853 Q1265.42 885.36 1267.63 885.36 Q1271.48 885.36 1273.48 883.841 Q1275.51 882.322 1275.51 879.425 Q1275.51 876.752 1273.62 875.253 Q1271.76 873.734 1268.42 873.734 L1264.89 873.734 L1264.89 870.371 L1268.58 870.371 Q1271.6 870.371 1273.2 869.176 Q1274.8 867.961 1274.8 865.693 Q1274.8 863.363 1273.14 862.128 Q1271.5 860.872 1268.42 860.872 Q1266.74 860.872 1264.81 861.237 Q1262.89 861.601 1260.58 862.371 L1260.58 858.725 Q1262.91 858.077 1264.93 857.753 Q1266.98 857.429 1268.78 857.429 Q1273.44 857.429 1276.15 859.555 Q1278.87 861.662 1278.87 865.267 Q1278.87 867.779 1277.43 869.521 Q1275.99 871.242 1273.34 871.911 Z\" fill=\"#000000\" fill-rule=\"evenodd\" fill-opacity=\"1\" /><path clip-path=\"url(#clip760)\" d=\"M1211.4 1075.34 Q1208.24 1075.34 1206.64 1078.46 Q1205.06 1081.56 1205.06 1087.8 Q1205.06 1094.01 1206.64 1097.13 Q1208.24 1100.23 1211.4 1100.23 Q1214.58 1100.23 1216.16 1097.13 Q1217.76 1094.01 1217.76 1087.8 Q1217.76 1081.56 1216.16 1078.46 Q1214.58 1075.34 1211.4 1075.34 M1211.4 1072.1 Q1216.49 1072.1 1219.16 1076.13 Q1221.86 1080.14 1221.86 1087.8 Q1221.86 1095.43 1219.16 1099.46 Q1216.49 1103.47 1211.4 1103.47 Q1206.32 1103.47 1203.63 1099.46 Q1200.95 1095.43 1200.95 1087.8 Q1200.95 1080.14 1203.63 1076.13 Q1206.32 1072.1 1211.4 1072.1 Z\" fill=\"#000000\" fill-rule=\"evenodd\" fill-opacity=\"1\" /><path clip-path=\"url(#clip760)\" d=\"M1229.05 1097.74 L1233.32 1097.74 L1233.32 1102.89 L1229.05 1102.89 L1229.05 1097.74 Z\" fill=\"#000000\" fill-rule=\"evenodd\" fill-opacity=\"1\" /><path clip-path=\"url(#clip760)\" d=\"M1253.47 1076.21 L1243.14 1092.35 L1253.47 1092.35 L1253.47 1076.21 M1252.4 1072.65 L1257.54 1072.65 L1257.54 1092.35 L1261.86 1092.35 L1261.86 1095.76 L1257.54 1095.76 L1257.54 1102.89 L1253.47 1102.89 L1253.47 1095.76 L1239.82 1095.76 L1239.82 1091.81 L1252.4 1072.65 Z\" fill=\"#000000\" fill-rule=\"evenodd\" fill-opacity=\"1\" /><path clip-path=\"url(#clip760)\" d=\"M1277.37 1088.53 Q1274.46 1088.53 1272.78 1090.09 Q1271.11 1091.64 1271.11 1094.38 Q1271.11 1097.11 1272.78 1098.67 Q1274.46 1100.23 1277.37 1100.23 Q1280.29 1100.23 1281.97 1098.67 Q1283.65 1097.09 1283.65 1094.38 Q1283.65 1091.64 1281.97 1090.09 Q1280.31 1088.53 1277.37 1088.53 M1273.28 1086.78 Q1270.65 1086.14 1269.17 1084.33 Q1267.71 1082.53 1267.71 1079.94 Q1267.71 1076.31 1270.28 1074.21 Q1272.88 1072.1 1277.37 1072.1 Q1281.89 1072.1 1284.46 1074.21 Q1287.03 1076.31 1287.03 1079.94 Q1287.03 1082.53 1285.56 1084.33 Q1284.1 1086.14 1281.48 1086.78 Q1284.44 1087.47 1286.08 1089.48 Q1287.74 1091.48 1287.74 1094.38 Q1287.74 1098.77 1285.05 1101.12 Q1282.38 1103.47 1277.37 1103.47 Q1272.37 1103.47 1269.68 1101.12 Q1267 1098.77 1267 1094.38 Q1267 1091.48 1268.66 1089.48 Q1270.32 1087.47 1273.28 1086.78 M1271.78 1080.32 Q1271.78 1082.67 1273.24 1083.99 Q1274.72 1085.3 1277.37 1085.3 Q1280.01 1085.3 1281.48 1083.99 Q1282.98 1082.67 1282.98 1080.32 Q1282.98 1077.97 1281.48 1076.66 Q1280.01 1075.34 1277.37 1075.34 Q1274.72 1075.34 1273.24 1076.66 Q1271.78 1077.97 1271.78 1080.32 Z\" fill=\"#000000\" fill-rule=\"evenodd\" fill-opacity=\"1\" /><path clip-path=\"url(#clip760)\" d=\"M1207.05 793.46 Q1203.89 793.46 1202.29 796.579 Q1200.71 799.678 1200.71 805.917 Q1200.71 812.135 1202.29 815.254 Q1203.89 818.353 1207.05 818.353 Q1210.23 818.353 1211.81 815.254 Q1213.41 812.135 1213.41 805.917 Q1213.41 799.678 1211.81 796.579 Q1210.23 793.46 1207.05 793.46 M1207.05 790.219 Q1212.13 790.219 1214.81 794.25 Q1217.5 798.26 1217.5 805.917 Q1217.5 813.552 1214.81 817.583 Q1212.13 821.594 1207.05 821.594 Q1201.97 821.594 1199.27 817.583 Q1196.6 813.552 1196.6 805.917 Q1196.6 798.26 1199.27 794.25 Q1201.97 790.219 1207.05 790.219 Z\" fill=\"#000000\" fill-rule=\"evenodd\" fill-opacity=\"1\" /><path clip-path=\"url(#clip760)\" d=\"M1224.69 815.862 L1228.96 815.862 L1228.96 821.006 L1224.69 821.006 L1224.69 815.862 Z\" fill=\"#000000\" fill-rule=\"evenodd\" fill-opacity=\"1\" /><path clip-path=\"url(#clip760)\" d=\"M1241.4 817.563 L1255.68 817.563 L1255.68 821.006 L1236.48 821.006 L1236.48 817.563 Q1238.81 815.153 1242.82 811.102 Q1246.85 807.031 1247.88 805.856 Q1249.85 803.648 1250.62 802.129 Q1251.41 800.59 1251.41 799.111 Q1251.41 796.701 1249.71 795.182 Q1248.02 793.663 1245.31 793.663 Q1243.39 793.663 1241.24 794.331 Q1239.11 794.999 1236.68 796.356 L1236.68 792.224 Q1239.15 791.232 1241.3 790.726 Q1243.45 790.219 1245.23 790.219 Q1249.93 790.219 1252.72 792.569 Q1255.52 794.918 1255.52 798.848 Q1255.52 800.711 1254.81 802.392 Q1254.12 804.053 1252.28 806.322 Q1251.77 806.909 1249.06 809.724 Q1246.34 812.52 1241.4 817.563 Z\" fill=\"#000000\" fill-rule=\"evenodd\" fill-opacity=\"1\" /><path clip-path=\"url(#clip760)\" d=\"M1264.31 790.766 L1280.37 790.766 L1280.37 794.209 L1268.06 794.209 L1268.06 801.623 Q1268.95 801.319 1269.84 801.177 Q1270.73 801.015 1271.62 801.015 Q1276.68 801.015 1279.64 803.79 Q1282.6 806.565 1282.6 811.304 Q1282.6 816.186 1279.56 818.9 Q1276.52 821.594 1270.99 821.594 Q1269.09 821.594 1267.1 821.269 Q1265.14 820.945 1263.03 820.297 L1263.03 816.186 Q1264.86 817.178 1266.8 817.664 Q1268.74 818.15 1270.91 818.15 Q1274.42 818.15 1276.46 816.307 Q1278.51 814.464 1278.51 811.304 Q1278.51 808.145 1276.46 806.301 Q1274.42 804.458 1270.91 804.458 Q1269.27 804.458 1267.63 804.823 Q1266.01 805.187 1264.31 805.957 L1264.31 790.766 Z\" fill=\"#000000\" fill-rule=\"evenodd\" fill-opacity=\"1\" /><path clip-path=\"url(#clip760)\" d=\"M1652.25 1311.84 Q1649.09 1311.84 1647.49 1314.96 Q1645.91 1318.06 1645.91 1324.3 Q1645.91 1330.52 1647.49 1333.64 Q1649.09 1336.73 1652.25 1336.73 Q1655.43 1336.73 1657.01 1333.64 Q1658.61 1330.52 1658.61 1324.3 Q1658.61 1318.06 1657.01 1314.96 Q1655.43 1311.84 1652.25 1311.84 M1652.25 1308.6 Q1657.33 1308.6 1660 1312.63 Q1662.7 1316.64 1662.7 1324.3 Q1662.7 1331.93 1660 1335.96 Q1657.33 1339.98 1652.25 1339.98 Q1647.16 1339.98 1644.47 1335.96 Q1641.79 1331.93 1641.79 1324.3 Q1641.79 1316.64 1644.47 1312.63 Q1647.16 1308.6 1652.25 1308.6 Z\" fill=\"#000000\" fill-rule=\"evenodd\" fill-opacity=\"1\" /><path clip-path=\"url(#clip760)\" d=\"M1669.89 1334.24 L1674.16 1334.24 L1674.16 1339.39 L1669.89 1339.39 L1669.89 1334.24 Z\" fill=\"#000000\" fill-rule=\"evenodd\" fill-opacity=\"1\" /><path clip-path=\"url(#clip760)\" d=\"M1683.78 1335.94 L1690.47 1335.94 L1690.47 1312.87 L1683.19 1314.33 L1683.19 1310.61 L1690.43 1309.15 L1694.52 1309.15 L1694.52 1335.94 L1701.2 1335.94 L1701.2 1339.39 L1683.78 1339.39 L1683.78 1335.94 Z\" fill=\"#000000\" fill-rule=\"evenodd\" fill-opacity=\"1\" /><path clip-path=\"url(#clip760)\" d=\"M1718.21 1325.03 Q1715.3 1325.03 1713.62 1326.59 Q1711.96 1328.15 1711.96 1330.88 Q1711.96 1333.62 1713.62 1335.18 Q1715.3 1336.73 1718.21 1336.73 Q1721.13 1336.73 1722.81 1335.18 Q1724.49 1333.6 1724.49 1330.88 Q1724.49 1328.15 1722.81 1326.59 Q1721.15 1325.03 1718.21 1325.03 M1714.12 1323.29 Q1711.49 1322.64 1710.01 1320.83 Q1708.55 1319.03 1708.55 1316.44 Q1708.55 1312.81 1711.13 1310.71 Q1713.72 1308.6 1718.21 1308.6 Q1722.73 1308.6 1725.3 1310.71 Q1727.88 1312.81 1727.88 1316.44 Q1727.88 1319.03 1726.4 1320.83 Q1724.94 1322.64 1722.33 1323.29 Q1725.28 1323.97 1726.92 1325.98 Q1728.59 1327.98 1728.59 1330.88 Q1728.59 1335.28 1725.89 1337.63 Q1723.22 1339.98 1718.21 1339.98 Q1713.21 1339.98 1710.52 1337.63 Q1707.84 1335.28 1707.84 1330.88 Q1707.84 1327.98 1709.51 1325.98 Q1711.17 1323.97 1714.12 1323.29 M1712.62 1316.82 Q1712.62 1319.17 1714.08 1320.49 Q1715.56 1321.81 1718.21 1321.81 Q1720.85 1321.81 1722.33 1320.49 Q1723.83 1319.17 1723.83 1316.82 Q1723.83 1314.47 1722.33 1313.16 Q1720.85 1311.84 1718.21 1311.84 Q1715.56 1311.84 1714.08 1313.16 Q1712.62 1314.47 1712.62 1316.82 Z\" fill=\"#000000\" fill-rule=\"evenodd\" fill-opacity=\"1\" /><path clip-path=\"url(#clip760)\" d=\"M1136.12 838.132 Q1132.96 838.132 1131.36 841.252 Q1129.78 844.351 1129.78 850.589 Q1129.78 856.807 1131.36 859.926 Q1132.96 863.025 1136.12 863.025 Q1139.3 863.025 1140.88 859.926 Q1142.48 856.807 1142.48 850.589 Q1142.48 844.351 1140.88 841.252 Q1139.3 838.132 1136.12 838.132 M1136.12 834.892 Q1141.2 834.892 1143.88 838.922 Q1146.57 842.933 1146.57 850.589 Q1146.57 858.225 1143.88 862.256 Q1141.2 866.266 1136.12 866.266 Q1131.03 866.266 1128.34 862.256 Q1125.67 858.225 1125.67 850.589 Q1125.67 842.933 1128.34 838.922 Q1131.03 834.892 1136.12 834.892 Z\" fill=\"#000000\" fill-rule=\"evenodd\" fill-opacity=\"1\" /><path clip-path=\"url(#clip760)\" d=\"M1153.76 860.534 L1158.03 860.534 L1158.03 865.679 L1153.76 865.679 L1153.76 860.534 Z\" fill=\"#000000\" fill-rule=\"evenodd\" fill-opacity=\"1\" /><path clip-path=\"url(#clip760)\" d=\"M1175.7 838.132 Q1172.54 838.132 1170.94 841.252 Q1169.36 844.351 1169.36 850.589 Q1169.36 856.807 1170.94 859.926 Q1172.54 863.025 1175.7 863.025 Q1178.88 863.025 1180.46 859.926 Q1182.06 856.807 1182.06 850.589 Q1182.06 844.351 1180.46 841.252 Q1178.88 838.132 1175.7 838.132 M1175.7 834.892 Q1180.78 834.892 1183.45 838.922 Q1186.15 842.933 1186.15 850.589 Q1186.15 858.225 1183.45 862.256 Q1180.78 866.266 1175.7 866.266 Q1170.61 866.266 1167.92 862.256 Q1165.24 858.225 1165.24 850.589 Q1165.24 842.933 1167.92 838.922 Q1170.61 834.892 1175.7 834.892 Z\" fill=\"#000000\" fill-rule=\"evenodd\" fill-opacity=\"1\" /><path clip-path=\"url(#clip760)\" d=\"M1205.73 849.374 Q1208.67 850.002 1210.31 851.987 Q1211.97 853.972 1211.97 856.888 Q1211.97 861.364 1208.89 863.815 Q1205.81 866.266 1200.14 866.266 Q1198.24 866.266 1196.21 865.881 Q1194.21 865.517 1192.06 864.767 L1192.06 860.818 Q1193.76 861.81 1195.79 862.316 Q1197.81 862.823 1200.02 862.823 Q1203.87 862.823 1205.88 861.304 Q1207.9 859.785 1207.9 856.888 Q1207.9 854.215 1206.02 852.716 Q1204.15 851.197 1200.81 851.197 L1197.29 851.197 L1197.29 847.834 L1200.97 847.834 Q1203.99 847.834 1205.59 846.639 Q1207.19 845.424 1207.19 843.156 Q1207.19 840.826 1205.53 839.591 Q1203.89 838.335 1200.81 838.335 Q1199.13 838.335 1197.21 838.7 Q1195.28 839.064 1192.97 839.834 L1192.97 836.188 Q1195.3 835.54 1197.33 835.216 Q1199.37 834.892 1201.18 834.892 Q1205.83 834.892 1208.55 837.018 Q1211.26 839.125 1211.26 842.73 Q1211.26 845.242 1209.82 846.984 Q1208.39 848.705 1205.73 849.374 Z\" fill=\"#000000\" fill-rule=\"evenodd\" fill-opacity=\"1\" /><path clip-path=\"url(#clip760)\" d=\"M1219.85 865.051 L1219.85 861.324 Q1221.39 862.053 1222.97 862.438 Q1224.55 862.823 1226.07 862.823 Q1230.12 862.823 1232.25 860.109 Q1234.39 857.374 1234.7 851.825 Q1233.52 853.566 1231.72 854.498 Q1229.92 855.43 1227.73 855.43 Q1223.19 855.43 1220.54 852.695 Q1217.91 849.941 1217.91 845.181 Q1217.91 840.523 1220.66 837.707 Q1223.42 834.892 1227.99 834.892 Q1233.24 834.892 1235.99 838.922 Q1238.77 842.933 1238.77 850.589 Q1238.77 857.739 1235.37 862.013 Q1231.98 866.266 1226.25 866.266 Q1224.71 866.266 1223.13 865.962 Q1221.55 865.658 1219.85 865.051 M1227.99 852.23 Q1230.75 852.23 1232.35 850.346 Q1233.97 848.462 1233.97 845.181 Q1233.97 841.92 1232.35 840.036 Q1230.75 838.132 1227.99 838.132 Q1225.24 838.132 1223.62 840.036 Q1222.02 841.92 1222.02 845.181 Q1222.02 848.462 1223.62 850.346 Q1225.24 852.23 1227.99 852.23 Z\" fill=\"#000000\" fill-rule=\"evenodd\" fill-opacity=\"1\" /><path clip-path=\"url(#clip760)\" d=\"M1846.83 964.411 Q1843.67 964.411 1842.07 967.53 Q1840.49 970.629 1840.49 976.868 Q1840.49 983.086 1842.07 986.205 Q1843.67 989.304 1846.83 989.304 Q1850.01 989.304 1851.59 986.205 Q1853.19 983.086 1853.19 976.868 Q1853.19 970.629 1851.59 967.53 Q1850.01 964.411 1846.83 964.411 M1846.83 961.17 Q1851.91 961.17 1854.59 965.201 Q1857.28 969.211 1857.28 976.868 Q1857.28 984.504 1854.59 988.534 Q1851.91 992.545 1846.83 992.545 Q1841.74 992.545 1839.05 988.534 Q1836.38 984.504 1836.38 976.868 Q1836.38 969.211 1839.05 965.201 Q1841.74 961.17 1846.83 961.17 Z\" fill=\"#000000\" fill-rule=\"evenodd\" fill-opacity=\"1\" /><path clip-path=\"url(#clip760)\" d=\"M1864.47 986.813 L1868.74 986.813 L1868.74 991.957 L1864.47 991.957 L1864.47 986.813 Z\" fill=\"#000000\" fill-rule=\"evenodd\" fill-opacity=\"1\" /><path clip-path=\"url(#clip760)\" d=\"M1886.41 964.411 Q1883.25 964.411 1881.65 967.53 Q1880.07 970.629 1880.07 976.868 Q1880.07 983.086 1881.65 986.205 Q1883.25 989.304 1886.41 989.304 Q1889.59 989.304 1891.17 986.205 Q1892.77 983.086 1892.77 976.868 Q1892.77 970.629 1891.17 967.53 Q1889.59 964.411 1886.41 964.411 M1886.41 961.17 Q1891.49 961.17 1894.16 965.201 Q1896.86 969.211 1896.86 976.868 Q1896.86 984.504 1894.16 988.534 Q1891.49 992.545 1886.41 992.545 Q1881.32 992.545 1878.63 988.534 Q1875.95 984.504 1875.95 976.868 Q1875.95 969.211 1878.63 965.201 Q1881.32 961.17 1886.41 961.17 Z\" fill=\"#000000\" fill-rule=\"evenodd\" fill-opacity=\"1\" /><path clip-path=\"url(#clip760)\" d=\"M1904.09 961.717 L1920.15 961.717 L1920.15 965.16 L1907.83 965.16 L1907.83 972.574 Q1908.73 972.27 1909.62 972.128 Q1910.51 971.966 1911.4 971.966 Q1916.46 971.966 1919.42 974.741 Q1922.38 977.516 1922.38 982.255 Q1922.38 987.137 1919.34 989.851 Q1916.3 992.545 1910.77 992.545 Q1908.87 992.545 1906.88 992.22 Q1904.92 991.896 1902.81 991.248 L1902.81 987.137 Q1904.63 988.129 1906.58 988.615 Q1908.52 989.101 1910.69 989.101 Q1914.19 989.101 1916.24 987.258 Q1918.29 985.415 1918.29 982.255 Q1918.29 979.096 1916.24 977.252 Q1914.19 975.409 1910.69 975.409 Q1909.05 975.409 1907.41 975.774 Q1905.79 976.138 1904.09 976.908 L1904.09 961.717 Z\" fill=\"#000000\" fill-rule=\"evenodd\" fill-opacity=\"1\" /><path clip-path=\"url(#clip760)\" d=\"M803.255 743.91 Q800.095 743.91 798.495 747.029 Q796.915 750.128 796.915 756.366 Q796.915 762.584 798.495 765.704 Q800.095 768.803 803.255 768.803 Q806.435 768.803 808.015 765.704 Q809.615 762.584 809.615 756.366 Q809.615 750.128 808.015 747.029 Q806.435 743.91 803.255 743.91 M803.255 740.669 Q808.339 740.669 811.013 744.7 Q813.706 748.71 813.706 756.366 Q813.706 764.002 811.013 768.033 Q808.339 772.043 803.255 772.043 Q798.171 772.043 795.477 768.033 Q792.804 764.002 792.804 756.366 Q792.804 748.71 795.477 744.7 Q798.171 740.669 803.255 740.669 Z\" fill=\"#000000\" fill-rule=\"evenodd\" fill-opacity=\"1\" /><path clip-path=\"url(#clip760)\" d=\"M820.897 766.311 L825.171 766.311 L825.171 771.456 L820.897 771.456 L820.897 766.311 Z\" fill=\"#000000\" fill-rule=\"evenodd\" fill-opacity=\"1\" /><path clip-path=\"url(#clip760)\" d=\"M846.478 755.151 Q849.415 755.779 851.056 757.764 Q852.717 759.749 852.717 762.665 Q852.717 767.142 849.638 769.592 Q846.559 772.043 840.888 772.043 Q838.984 772.043 836.959 771.658 Q834.953 771.294 832.806 770.544 L832.806 766.595 Q834.508 767.587 836.533 768.094 Q838.559 768.6 840.767 768.6 Q844.615 768.6 846.62 767.081 Q848.646 765.562 848.646 762.665 Q848.646 759.992 846.762 758.493 Q844.898 756.974 841.556 756.974 L838.032 756.974 L838.032 753.612 L841.718 753.612 Q844.736 753.612 846.337 752.417 Q847.937 751.201 847.937 748.933 Q847.937 746.604 846.276 745.368 Q844.635 744.112 841.556 744.112 Q839.875 744.112 837.951 744.477 Q836.027 744.841 833.718 745.611 L833.718 741.965 Q836.047 741.317 838.073 740.993 Q840.118 740.669 841.921 740.669 Q846.58 740.669 849.294 742.796 Q852.008 744.902 852.008 748.507 Q852.008 751.019 850.57 752.761 Q849.132 754.483 846.478 755.151 Z\" fill=\"#000000\" fill-rule=\"evenodd\" fill-opacity=\"1\" /><path clip-path=\"url(#clip760)\" d=\"M860.596 770.828 L860.596 767.101 Q862.135 767.83 863.715 768.215 Q865.295 768.6 866.814 768.6 Q870.865 768.6 872.991 765.886 Q875.138 763.151 875.442 757.602 Q874.267 759.344 872.465 760.275 Q870.662 761.207 868.475 761.207 Q863.938 761.207 861.284 758.473 Q858.651 755.718 858.651 750.958 Q858.651 746.3 861.406 743.484 Q864.16 740.669 868.738 740.669 Q873.984 740.669 876.739 744.7 Q879.513 748.71 879.513 756.366 Q879.513 763.516 876.111 767.79 Q872.728 772.043 866.996 772.043 Q865.457 772.043 863.877 771.739 Q862.297 771.436 860.596 770.828 M868.738 758.007 Q871.493 758.007 873.093 756.123 Q874.713 754.239 874.713 750.958 Q874.713 747.697 873.093 745.814 Q871.493 743.91 868.738 743.91 Q865.983 743.91 864.363 745.814 Q862.763 747.697 862.763 750.958 Q862.763 754.239 864.363 756.123 Q865.983 758.007 868.738 758.007 Z\" fill=\"#000000\" fill-rule=\"evenodd\" fill-opacity=\"1\" /><path clip-path=\"url(#clip760)\" d=\"M732.109 319.163 Q728.949 319.163 727.349 322.282 Q725.769 325.381 725.769 331.619 Q725.769 337.837 727.349 340.957 Q728.949 344.055 732.109 344.055 Q735.288 344.055 736.868 340.957 Q738.468 337.837 738.468 331.619 Q738.468 325.381 736.868 322.282 Q735.288 319.163 732.109 319.163 M732.109 315.922 Q737.192 315.922 739.866 319.953 Q742.56 323.963 742.56 331.619 Q742.56 339.255 739.866 343.286 Q737.192 347.296 732.109 347.296 Q727.025 347.296 724.331 343.286 Q721.657 339.255 721.657 331.619 Q721.657 323.963 724.331 319.953 Q727.025 315.922 732.109 315.922 Z\" fill=\"#000000\" fill-rule=\"evenodd\" fill-opacity=\"1\" /><path clip-path=\"url(#clip760)\" d=\"M749.75 341.564 L754.024 341.564 L754.024 346.709 L749.75 346.709 L749.75 341.564 Z\" fill=\"#000000\" fill-rule=\"evenodd\" fill-opacity=\"1\" /><path clip-path=\"url(#clip760)\" d=\"M766.46 343.266 L780.74 343.266 L780.74 346.709 L761.538 346.709 L761.538 343.266 Q763.868 340.855 767.878 336.804 Q771.909 332.733 772.942 331.558 Q774.906 329.351 775.676 327.832 Q776.466 326.292 776.466 324.814 Q776.466 322.403 774.765 320.884 Q773.083 319.365 770.369 319.365 Q768.445 319.365 766.298 320.034 Q764.171 320.702 761.741 322.059 L761.741 317.927 Q764.212 316.935 766.359 316.428 Q768.506 315.922 770.288 315.922 Q774.987 315.922 777.782 318.271 Q780.578 320.621 780.578 324.55 Q780.578 326.414 779.869 328.095 Q779.18 329.756 777.337 332.024 Q776.83 332.612 774.116 335.427 Q771.402 338.222 766.46 343.266 Z\" fill=\"#000000\" fill-rule=\"evenodd\" fill-opacity=\"1\" /><path clip-path=\"url(#clip760)\" d=\"M801.723 330.404 Q804.66 331.032 806.301 333.017 Q807.962 335.002 807.962 337.918 Q807.962 342.395 804.883 344.845 Q801.804 347.296 796.133 347.296 Q794.229 347.296 792.204 346.911 Q790.198 346.547 788.051 345.797 L788.051 341.848 Q789.753 342.84 791.778 343.347 Q793.804 343.853 796.012 343.853 Q799.86 343.853 801.865 342.334 Q803.891 340.815 803.891 337.918 Q803.891 335.245 802.007 333.746 Q800.143 332.227 796.801 332.227 L793.277 332.227 L793.277 328.865 L796.963 328.865 Q799.981 328.865 801.582 327.67 Q803.182 326.454 803.182 324.186 Q803.182 321.857 801.521 320.621 Q799.88 319.365 796.801 319.365 Q795.12 319.365 793.196 319.73 Q791.272 320.094 788.963 320.864 L788.963 317.218 Q791.292 316.57 793.318 316.246 Q795.363 315.922 797.166 315.922 Q801.825 315.922 804.539 318.049 Q807.253 320.155 807.253 323.76 Q807.253 326.272 805.815 328.014 Q804.377 329.736 801.723 330.404 Z\" fill=\"#000000\" fill-rule=\"evenodd\" fill-opacity=\"1\" /><path clip-path=\"url(#clip760)\" d=\"M1543 664.811 Q1539.84 664.811 1538.24 667.931 Q1536.66 671.03 1536.66 677.268 Q1536.66 683.486 1538.24 686.605 Q1539.84 689.704 1543 689.704 Q1546.18 689.704 1547.76 686.605 Q1549.36 683.486 1549.36 677.268 Q1549.36 671.03 1547.76 667.931 Q1546.18 664.811 1543 664.811 M1543 661.571 Q1548.08 661.571 1550.75 665.601 Q1553.45 669.612 1553.45 677.268 Q1553.45 684.904 1550.75 688.935 Q1548.08 692.945 1543 692.945 Q1537.91 692.945 1535.22 688.935 Q1532.55 684.904 1532.55 677.268 Q1532.55 669.612 1535.22 665.601 Q1537.91 661.571 1543 661.571 Z\" fill=\"#000000\" fill-rule=\"evenodd\" fill-opacity=\"1\" /><path clip-path=\"url(#clip760)\" d=\"M1560.64 687.213 L1564.91 687.213 L1564.91 692.358 L1560.64 692.358 L1560.64 687.213 Z\" fill=\"#000000\" fill-rule=\"evenodd\" fill-opacity=\"1\" /><path clip-path=\"url(#clip760)\" d=\"M1574.53 688.914 L1581.22 688.914 L1581.22 665.844 L1573.95 667.303 L1573.95 663.576 L1581.18 662.118 L1585.27 662.118 L1585.27 688.914 L1591.95 688.914 L1591.95 692.358 L1574.53 692.358 L1574.53 688.914 Z\" fill=\"#000000\" fill-rule=\"evenodd\" fill-opacity=\"1\" /><path clip-path=\"url(#clip760)\" d=\"M1600.34 691.73 L1600.34 688.003 Q1601.88 688.732 1603.46 689.117 Q1605.04 689.502 1606.56 689.502 Q1610.61 689.502 1612.73 686.788 Q1614.88 684.053 1615.18 678.503 Q1614.01 680.245 1612.21 681.177 Q1610.4 682.109 1608.22 682.109 Q1603.68 682.109 1601.03 679.374 Q1598.39 676.62 1598.39 671.86 Q1598.39 667.201 1601.15 664.386 Q1603.9 661.571 1608.48 661.571 Q1613.73 661.571 1616.48 665.601 Q1619.25 669.612 1619.25 677.268 Q1619.25 684.418 1615.85 688.692 Q1612.47 692.945 1606.74 692.945 Q1605.2 692.945 1603.62 692.641 Q1602.04 692.337 1600.34 691.73 M1608.48 678.909 Q1611.23 678.909 1612.83 677.025 Q1614.45 675.141 1614.45 671.86 Q1614.45 668.599 1612.83 666.715 Q1611.23 664.811 1608.48 664.811 Q1605.72 664.811 1604.1 666.715 Q1602.5 668.599 1602.5 671.86 Q1602.5 675.141 1604.1 677.025 Q1605.72 678.909 1608.48 678.909 Z\" fill=\"#000000\" fill-rule=\"evenodd\" fill-opacity=\"1\" /><path clip-path=\"url(#clip760)\" d=\"M1078.47 141.716 Q1075.31 141.716 1073.71 144.836 Q1072.13 147.935 1072.13 154.173 Q1072.13 160.391 1073.71 163.51 Q1075.31 166.609 1078.47 166.609 Q1081.65 166.609 1083.23 163.51 Q1084.83 160.391 1084.83 154.173 Q1084.83 147.935 1083.23 144.836 Q1081.65 141.716 1078.47 141.716 M1078.47 138.476 Q1083.56 138.476 1086.23 142.506 Q1088.93 146.517 1088.93 154.173 Q1088.93 161.809 1086.23 165.84 Q1083.56 169.85 1078.47 169.85 Q1073.39 169.85 1070.7 165.84 Q1068.02 161.809 1068.02 154.173 Q1068.02 146.517 1070.7 142.506 Q1073.39 138.476 1078.47 138.476 Z\" fill=\"#000000\" fill-rule=\"evenodd\" fill-opacity=\"1\" /><path clip-path=\"url(#clip760)\" d=\"M1096.12 164.118 L1100.39 164.118 L1100.39 169.263 L1096.12 169.263 L1096.12 164.118 Z\" fill=\"#000000\" fill-rule=\"evenodd\" fill-opacity=\"1\" /><path clip-path=\"url(#clip760)\" d=\"M1118.05 141.716 Q1114.89 141.716 1113.29 144.836 Q1111.71 147.935 1111.71 154.173 Q1111.71 160.391 1113.29 163.51 Q1114.89 166.609 1118.05 166.609 Q1121.23 166.609 1122.81 163.51 Q1124.41 160.391 1124.41 154.173 Q1124.41 147.935 1122.81 144.836 Q1121.23 141.716 1118.05 141.716 M1118.05 138.476 Q1123.14 138.476 1125.81 142.506 Q1128.5 146.517 1128.5 154.173 Q1128.5 161.809 1125.81 165.84 Q1123.14 169.85 1118.05 169.85 Q1112.97 169.85 1110.27 165.84 Q1107.6 161.809 1107.6 154.173 Q1107.6 146.517 1110.27 142.506 Q1112.97 138.476 1118.05 138.476 Z\" fill=\"#000000\" fill-rule=\"evenodd\" fill-opacity=\"1\" /><path clip-path=\"url(#clip760)\" d=\"M1134.66 139.023 L1154.1 139.023 L1154.1 140.764 L1143.13 169.263 L1138.85 169.263 L1149.18 142.466 L1134.66 142.466 L1134.66 139.023 Z\" fill=\"#000000\" fill-rule=\"evenodd\" fill-opacity=\"1\" /><path clip-path=\"url(#clip760)\" d=\"M1165.61 165.819 L1179.89 165.819 L1179.89 169.263 L1160.69 169.263 L1160.69 165.819 Q1163.02 163.409 1167.03 159.358 Q1171.06 155.287 1172.09 154.112 Q1174.06 151.904 1174.82 150.385 Q1175.61 148.846 1175.61 147.367 Q1175.61 144.957 1173.91 143.438 Q1172.23 141.919 1169.52 141.919 Q1167.59 141.919 1165.45 142.587 Q1163.32 143.256 1160.89 144.613 L1160.89 140.481 Q1163.36 139.488 1165.51 138.982 Q1167.65 138.476 1169.44 138.476 Q1174.14 138.476 1176.93 140.825 Q1179.73 143.175 1179.73 147.104 Q1179.73 148.968 1179.02 150.649 Q1178.33 152.309 1176.49 154.578 Q1175.98 155.165 1173.27 157.981 Q1170.55 160.776 1165.61 165.819 Z\" fill=\"#000000\" fill-rule=\"evenodd\" fill-opacity=\"1\" /><path clip-path=\"url(#clip760)\" d=\"M1307.18 604.866 Q1304.02 604.866 1302.42 607.986 Q1300.84 611.085 1300.84 617.323 Q1300.84 623.541 1302.42 626.66 Q1304.02 629.759 1307.18 629.759 Q1310.36 629.759 1311.94 626.66 Q1313.54 623.541 1313.54 617.323 Q1313.54 611.085 1311.94 607.986 Q1310.36 604.866 1307.18 604.866 M1307.18 601.626 Q1312.26 601.626 1314.93 605.656 Q1317.63 609.667 1317.63 617.323 Q1317.63 624.959 1314.93 628.99 Q1312.26 633 1307.18 633 Q1302.09 633 1299.4 628.99 Q1296.72 624.959 1296.72 617.323 Q1296.72 609.667 1299.4 605.656 Q1302.09 601.626 1307.18 601.626 Z\" fill=\"#000000\" fill-rule=\"evenodd\" fill-opacity=\"1\" /><path clip-path=\"url(#clip760)\" d=\"M1324.82 627.268 L1329.09 627.268 L1329.09 632.413 L1324.82 632.413 L1324.82 627.268 Z\" fill=\"#000000\" fill-rule=\"evenodd\" fill-opacity=\"1\" /><path clip-path=\"url(#clip760)\" d=\"M1338.71 628.969 L1345.4 628.969 L1345.4 605.899 L1338.12 607.358 L1338.12 603.631 L1345.36 602.173 L1349.45 602.173 L1349.45 628.969 L1356.13 628.969 L1356.13 632.413 L1338.71 632.413 L1338.71 628.969 Z\" fill=\"#000000\" fill-rule=\"evenodd\" fill-opacity=\"1\" /><path clip-path=\"url(#clip760)\" d=\"M1367.92 628.969 L1382.2 628.969 L1382.2 632.413 L1363 632.413 L1363 628.969 Q1365.33 626.559 1369.34 622.508 Q1373.37 618.437 1374.4 617.262 Q1376.36 615.054 1377.13 613.535 Q1377.92 611.996 1377.92 610.517 Q1377.92 608.107 1376.22 606.588 Q1374.54 605.069 1371.83 605.069 Q1369.9 605.069 1367.76 605.737 Q1365.63 606.406 1363.2 607.763 L1363.2 603.631 Q1365.67 602.638 1367.82 602.132 Q1369.96 601.626 1371.75 601.626 Q1376.45 601.626 1379.24 603.975 Q1382.04 606.325 1382.04 610.254 Q1382.04 612.118 1381.33 613.799 Q1380.64 615.459 1378.8 617.728 Q1378.29 618.315 1375.57 621.131 Q1372.86 623.926 1367.92 628.969 Z\" fill=\"#000000\" fill-rule=\"evenodd\" fill-opacity=\"1\" /><path clip-path=\"url(#clip760)\" d=\"M1157.81 798.432 Q1154.65 798.432 1153.05 801.551 Q1151.47 804.65 1151.47 810.888 Q1151.47 817.106 1153.05 820.226 Q1154.65 823.325 1157.81 823.325 Q1160.99 823.325 1162.57 820.226 Q1164.17 817.106 1164.17 810.888 Q1164.17 804.65 1162.57 801.551 Q1160.99 798.432 1157.81 798.432 M1157.81 795.191 Q1162.9 795.191 1165.57 799.222 Q1168.26 803.232 1168.26 810.888 Q1168.26 818.524 1165.57 822.555 Q1162.9 826.565 1157.81 826.565 Q1152.73 826.565 1150.04 822.555 Q1147.36 818.524 1147.36 810.888 Q1147.36 803.232 1150.04 799.222 Q1152.73 795.191 1157.81 795.191 Z\" fill=\"#000000\" fill-rule=\"evenodd\" fill-opacity=\"1\" /><path clip-path=\"url(#clip760)\" d=\"M1175.45 820.833 L1179.73 820.833 L1179.73 825.978 L1175.45 825.978 L1175.45 820.833 Z\" fill=\"#000000\" fill-rule=\"evenodd\" fill-opacity=\"1\" /><path clip-path=\"url(#clip760)\" d=\"M1201.04 809.673 Q1203.97 810.301 1205.61 812.286 Q1207.27 814.271 1207.27 817.187 Q1207.27 821.664 1204.2 824.114 Q1201.12 826.565 1195.45 826.565 Q1193.54 826.565 1191.52 826.18 Q1189.51 825.816 1187.36 825.066 L1187.36 821.117 Q1189.07 822.109 1191.09 822.616 Q1193.12 823.122 1195.32 823.122 Q1199.17 823.122 1201.18 821.603 Q1203.2 820.084 1203.2 817.187 Q1203.2 814.514 1201.32 813.015 Q1199.46 811.496 1196.11 811.496 L1192.59 811.496 L1192.59 808.134 L1196.28 808.134 Q1199.29 808.134 1200.89 806.939 Q1202.49 805.723 1202.49 803.455 Q1202.49 801.126 1200.83 799.89 Q1199.19 798.634 1196.11 798.634 Q1194.43 798.634 1192.51 798.999 Q1190.58 799.363 1188.28 800.133 L1188.28 796.487 Q1190.61 795.839 1192.63 795.515 Q1194.68 795.191 1196.48 795.191 Q1201.14 795.191 1203.85 797.318 Q1206.57 799.424 1206.57 803.03 Q1206.57 805.541 1205.13 807.283 Q1203.69 809.005 1201.04 809.673 Z\" fill=\"#000000\" fill-rule=\"evenodd\" fill-opacity=\"1\" /><path clip-path=\"url(#clip760)\" d=\"M1226.27 799.303 L1215.94 815.446 L1226.27 815.446 L1226.27 799.303 M1225.2 795.738 L1230.34 795.738 L1230.34 815.446 L1234.66 815.446 L1234.66 818.848 L1230.34 818.848 L1230.34 825.978 L1226.27 825.978 L1226.27 818.848 L1212.62 818.848 L1212.62 814.899 L1225.2 795.738 Z\" fill=\"#000000\" fill-rule=\"evenodd\" fill-opacity=\"1\" /><path clip-path=\"url(#clip760)\" d=\"M1144.32 433.039 Q1141.16 433.039 1139.56 436.159 Q1137.98 439.258 1137.98 445.496 Q1137.98 451.714 1139.56 454.833 Q1141.16 457.932 1144.32 457.932 Q1147.5 457.932 1149.08 454.833 Q1150.68 451.714 1150.68 445.496 Q1150.68 439.258 1149.08 436.159 Q1147.5 433.039 1144.32 433.039 M1144.32 429.799 Q1149.41 429.799 1152.08 433.829 Q1154.77 437.84 1154.77 445.496 Q1154.77 453.132 1152.08 457.163 Q1149.41 461.173 1144.32 461.173 Q1139.24 461.173 1136.55 457.163 Q1133.87 453.132 1133.87 445.496 Q1133.87 437.84 1136.55 433.829 Q1139.24 429.799 1144.32 429.799 Z\" fill=\"#000000\" fill-rule=\"evenodd\" fill-opacity=\"1\" /><path clip-path=\"url(#clip760)\" d=\"M1161.97 455.441 L1166.24 455.441 L1166.24 460.586 L1161.97 460.586 L1161.97 455.441 Z\" fill=\"#000000\" fill-rule=\"evenodd\" fill-opacity=\"1\" /><path clip-path=\"url(#clip760)\" d=\"M1178.68 457.142 L1192.95 457.142 L1192.95 460.586 L1173.75 460.586 L1173.75 457.142 Q1176.08 454.732 1180.09 450.681 Q1184.12 446.61 1185.16 445.435 Q1187.12 443.227 1187.89 441.708 Q1188.68 440.169 1188.68 438.69 Q1188.68 436.28 1186.98 434.761 Q1185.3 433.242 1182.58 433.242 Q1180.66 433.242 1178.51 433.91 Q1176.39 434.579 1173.96 435.936 L1173.96 431.804 Q1176.43 430.811 1178.57 430.305 Q1180.72 429.799 1182.5 429.799 Q1187.2 429.799 1190 432.148 Q1192.79 434.498 1192.79 438.427 Q1192.79 440.291 1192.08 441.972 Q1191.39 443.633 1189.55 445.901 Q1189.05 446.488 1186.33 449.304 Q1183.62 452.099 1178.68 457.142 Z\" fill=\"#000000\" fill-rule=\"evenodd\" fill-opacity=\"1\" /><path clip-path=\"url(#clip760)\" d=\"M1202.25 457.142 L1208.94 457.142 L1208.94 434.072 L1201.66 435.531 L1201.66 431.804 L1208.89 430.346 L1212.99 430.346 L1212.99 457.142 L1219.67 457.142 L1219.67 460.586 L1202.25 460.586 L1202.25 457.142 Z\" fill=\"#000000\" fill-rule=\"evenodd\" fill-opacity=\"1\" /><path clip-path=\"url(#clip760)\" d=\"M1439.1 877.083 Q1435.94 877.083 1434.34 880.202 Q1432.76 883.301 1432.76 889.539 Q1432.76 895.757 1434.34 898.876 Q1435.94 901.975 1439.1 901.975 Q1442.28 901.975 1443.86 898.876 Q1445.46 895.757 1445.46 889.539 Q1445.46 883.301 1443.86 880.202 Q1442.28 877.083 1439.1 877.083 M1439.1 873.842 Q1444.18 873.842 1446.86 877.872 Q1449.55 881.883 1449.55 889.539 Q1449.55 897.175 1446.86 901.206 Q1444.18 905.216 1439.1 905.216 Q1434.02 905.216 1431.32 901.206 Q1428.65 897.175 1428.65 889.539 Q1428.65 881.883 1431.32 877.872 Q1434.02 873.842 1439.1 873.842 Z\" fill=\"#000000\" fill-rule=\"evenodd\" fill-opacity=\"1\" /><path clip-path=\"url(#clip760)\" d=\"M1456.74 899.484 L1461.01 899.484 L1461.01 904.629 L1456.74 904.629 L1456.74 899.484 Z\" fill=\"#000000\" fill-rule=\"evenodd\" fill-opacity=\"1\" /><path clip-path=\"url(#clip760)\" d=\"M1473.45 901.185 L1487.73 901.185 L1487.73 904.629 L1468.53 904.629 L1468.53 901.185 Q1470.86 898.775 1474.87 894.724 Q1478.9 890.653 1479.93 889.478 Q1481.9 887.271 1482.67 885.751 Q1483.46 884.212 1483.46 882.734 Q1483.46 880.323 1481.76 878.804 Q1480.07 877.285 1477.36 877.285 Q1475.44 877.285 1473.29 877.953 Q1471.16 878.622 1468.73 879.979 L1468.73 875.847 Q1471.2 874.855 1473.35 874.348 Q1475.5 873.842 1477.28 873.842 Q1481.98 873.842 1484.77 876.191 Q1487.57 878.541 1487.57 882.47 Q1487.57 884.334 1486.86 886.015 Q1486.17 887.676 1484.33 889.944 Q1483.82 890.532 1481.11 893.347 Q1478.39 896.142 1473.45 901.185 Z\" fill=\"#000000\" fill-rule=\"evenodd\" fill-opacity=\"1\" /><path clip-path=\"url(#clip760)\" d=\"M1510.56 233.465 Q1507.4 233.465 1505.8 236.585 Q1504.22 239.684 1504.22 245.922 Q1504.22 252.14 1505.8 255.259 Q1507.4 258.358 1510.56 258.358 Q1513.74 258.358 1515.32 255.259 Q1516.92 252.14 1516.92 245.922 Q1516.92 239.684 1515.32 236.585 Q1513.74 233.465 1510.56 233.465 M1510.56 230.225 Q1515.64 230.225 1518.32 234.255 Q1521.01 238.266 1521.01 245.922 Q1521.01 253.558 1518.32 257.589 Q1515.64 261.599 1510.56 261.599 Q1505.48 261.599 1502.78 257.589 Q1500.11 253.558 1500.11 245.922 Q1500.11 238.266 1502.78 234.255 Q1505.48 230.225 1510.56 230.225 Z\" fill=\"#000000\" fill-rule=\"evenodd\" fill-opacity=\"1\" /><path clip-path=\"url(#clip760)\" d=\"M1528.2 255.867 L1532.48 255.867 L1532.48 261.012 L1528.2 261.012 L1528.2 255.867 Z\" fill=\"#000000\" fill-rule=\"evenodd\" fill-opacity=\"1\" /><path clip-path=\"url(#clip760)\" d=\"M1550.14 233.465 Q1546.98 233.465 1545.38 236.585 Q1543.8 239.684 1543.8 245.922 Q1543.8 252.14 1545.38 255.259 Q1546.98 258.358 1550.14 258.358 Q1553.32 258.358 1554.9 255.259 Q1556.5 252.14 1556.5 245.922 Q1556.5 239.684 1554.9 236.585 Q1553.32 233.465 1550.14 233.465 M1550.14 230.225 Q1555.22 230.225 1557.89 234.255 Q1560.59 238.266 1560.59 245.922 Q1560.59 253.558 1557.89 257.589 Q1555.22 261.599 1550.14 261.599 Q1545.05 261.599 1542.36 257.589 Q1539.69 253.558 1539.69 245.922 Q1539.69 238.266 1542.36 234.255 Q1545.05 230.225 1550.14 230.225 Z\" fill=\"#000000\" fill-rule=\"evenodd\" fill-opacity=\"1\" /><path clip-path=\"url(#clip760)\" d=\"M1567.9 260.384 L1567.9 256.657 Q1569.44 257.386 1571.02 257.771 Q1572.6 258.156 1574.12 258.156 Q1578.17 258.156 1580.3 255.442 Q1582.44 252.707 1582.75 247.157 Q1581.57 248.899 1579.77 249.831 Q1577.97 250.763 1575.78 250.763 Q1571.24 250.763 1568.59 248.028 Q1565.96 245.274 1565.96 240.514 Q1565.96 235.855 1568.71 233.04 Q1571.47 230.225 1576.04 230.225 Q1581.29 230.225 1584.04 234.255 Q1586.82 238.266 1586.82 245.922 Q1586.82 253.072 1583.42 257.345 Q1580.03 261.599 1574.3 261.599 Q1572.76 261.599 1571.18 261.295 Q1569.6 260.991 1567.9 260.384 M1576.04 247.563 Q1578.8 247.563 1580.4 245.679 Q1582.02 243.795 1582.02 240.514 Q1582.02 237.253 1580.4 235.369 Q1578.8 233.465 1576.04 233.465 Q1573.29 233.465 1571.67 235.369 Q1570.07 237.253 1570.07 240.514 Q1570.07 243.795 1571.67 245.679 Q1573.29 247.563 1576.04 247.563 Z\" fill=\"#000000\" fill-rule=\"evenodd\" fill-opacity=\"1\" /><path clip-path=\"url(#clip760)\" d=\"M1606.57 244.707 Q1609.5 245.335 1611.14 247.32 Q1612.8 249.304 1612.8 252.221 Q1612.8 256.697 1609.73 259.148 Q1606.65 261.599 1600.98 261.599 Q1599.07 261.599 1597.05 261.214 Q1595.04 260.85 1592.89 260.1 L1592.89 256.15 Q1594.6 257.143 1596.62 257.649 Q1598.65 258.156 1600.85 258.156 Q1604.7 258.156 1606.71 256.637 Q1608.73 255.117 1608.73 252.221 Q1608.73 249.548 1606.85 248.049 Q1604.99 246.53 1601.64 246.53 L1598.12 246.53 L1598.12 243.167 L1601.81 243.167 Q1604.82 243.167 1606.42 241.972 Q1608.02 240.757 1608.02 238.489 Q1608.02 236.159 1606.36 234.924 Q1604.72 233.668 1601.64 233.668 Q1599.96 233.668 1598.04 234.033 Q1596.11 234.397 1593.81 235.167 L1593.81 231.521 Q1596.14 230.873 1598.16 230.549 Q1600.21 230.225 1602.01 230.225 Q1606.67 230.225 1609.38 232.351 Q1612.1 234.458 1612.1 238.063 Q1612.1 240.575 1610.66 242.317 Q1609.22 244.038 1606.57 244.707 Z\" fill=\"#000000\" fill-rule=\"evenodd\" fill-opacity=\"1\" /><path clip-path=\"url(#clip760)\" d=\"M1792.52 524.677 Q1789.36 524.677 1787.76 527.796 Q1786.18 530.895 1786.18 537.134 Q1786.18 543.352 1787.76 546.471 Q1789.36 549.57 1792.52 549.57 Q1795.7 549.57 1797.28 546.471 Q1798.88 543.352 1798.88 537.134 Q1798.88 530.895 1797.28 527.796 Q1795.7 524.677 1792.52 524.677 M1792.52 521.436 Q1797.6 521.436 1800.27 525.467 Q1802.97 529.477 1802.97 537.134 Q1802.97 544.77 1800.27 548.8 Q1797.6 552.811 1792.52 552.811 Q1787.43 552.811 1784.74 548.8 Q1782.07 544.77 1782.07 537.134 Q1782.07 529.477 1784.74 525.467 Q1787.43 521.436 1792.52 521.436 Z\" fill=\"#000000\" fill-rule=\"evenodd\" fill-opacity=\"1\" /><path clip-path=\"url(#clip760)\" d=\"M1810.16 547.079 L1814.43 547.079 L1814.43 552.223 L1810.16 552.223 L1810.16 547.079 Z\" fill=\"#000000\" fill-rule=\"evenodd\" fill-opacity=\"1\" /><path clip-path=\"url(#clip760)\" d=\"M1824.05 548.78 L1830.74 548.78 L1830.74 525.71 L1823.47 527.168 L1823.47 523.442 L1830.7 521.983 L1834.79 521.983 L1834.79 548.78 L1841.47 548.78 L1841.47 552.223 L1824.05 552.223 L1824.05 548.78 Z\" fill=\"#000000\" fill-rule=\"evenodd\" fill-opacity=\"1\" /><path clip-path=\"url(#clip760)\" d=\"M1858.99 535.473 Q1856.24 535.473 1854.62 537.356 Q1853.02 539.24 1853.02 542.521 Q1853.02 545.782 1854.62 547.686 Q1856.24 549.57 1858.99 549.57 Q1861.75 549.57 1863.35 547.686 Q1864.97 545.782 1864.97 542.521 Q1864.97 539.24 1863.35 537.356 Q1861.75 535.473 1858.99 535.473 M1867.11 522.652 L1867.11 526.378 Q1865.57 525.649 1864 525.264 Q1862.44 524.88 1860.9 524.88 Q1856.85 524.88 1854.7 527.614 Q1852.57 530.348 1852.27 535.878 Q1853.46 534.116 1855.27 533.184 Q1857.07 532.232 1859.24 532.232 Q1863.79 532.232 1866.43 535.007 Q1869.08 537.761 1869.08 542.521 Q1869.08 547.18 1866.32 549.995 Q1863.57 552.811 1858.99 552.811 Q1853.75 552.811 1850.97 548.8 Q1848.2 544.77 1848.2 537.134 Q1848.2 529.963 1851.6 525.71 Q1855 521.436 1860.73 521.436 Q1862.27 521.436 1863.83 521.74 Q1865.41 522.044 1867.11 522.652 Z\" fill=\"#000000\" fill-rule=\"evenodd\" fill-opacity=\"1\" /><path clip-path=\"url(#clip760)\" d=\"M926.855 1349.36 L933.539 1349.36 L933.539 1326.29 L926.268 1327.75 L926.268 1324.02 L933.498 1322.56 L937.59 1322.56 L937.59 1349.36 L944.274 1349.36 L944.274 1352.8 L926.855 1352.8 L926.855 1349.36 Z\" fill=\"#000000\" fill-rule=\"evenodd\" fill-opacity=\"1\" /><path clip-path=\"url(#clip760)\" d=\"M657.638 729.371 L671.918 729.371 L671.918 732.814 L652.717 732.814 L652.717 729.371 Q655.046 726.961 659.056 722.91 Q663.087 718.839 664.12 717.664 Q666.085 715.456 666.854 713.937 Q667.644 712.398 667.644 710.919 Q667.644 708.509 665.943 706.99 Q664.262 705.471 661.548 705.471 Q659.623 705.471 657.476 706.139 Q655.35 706.807 652.919 708.165 L652.919 704.033 Q655.39 703.04 657.537 702.534 Q659.684 702.027 661.467 702.027 Q666.166 702.027 668.961 704.377 Q671.756 706.726 671.756 710.656 Q671.756 712.519 671.047 714.2 Q670.358 715.861 668.515 718.13 Q668.009 718.717 665.295 721.532 Q662.581 724.328 657.638 729.371 Z\" fill=\"#000000\" fill-rule=\"evenodd\" fill-opacity=\"1\" /><path clip-path=\"url(#clip760)\" d=\"M1603.6 1264.29 Q1606.54 1264.92 1608.18 1266.91 Q1609.84 1268.89 1609.84 1271.81 Q1609.84 1276.28 1606.76 1278.74 Q1603.68 1281.19 1598.01 1281.19 Q1596.11 1281.19 1594.08 1280.8 Q1592.08 1280.44 1589.93 1279.69 L1589.93 1275.74 Q1591.63 1276.73 1593.65 1277.24 Q1595.68 1277.74 1597.89 1277.74 Q1601.74 1277.74 1603.74 1276.22 Q1605.77 1274.7 1605.77 1271.81 Q1605.77 1269.13 1603.88 1267.64 Q1602.02 1266.12 1598.68 1266.12 L1595.15 1266.12 L1595.15 1262.75 L1598.84 1262.75 Q1601.86 1262.75 1603.46 1261.56 Q1605.06 1260.34 1605.06 1258.08 Q1605.06 1255.75 1603.4 1254.51 Q1601.76 1253.26 1598.68 1253.26 Q1597 1253.26 1595.07 1253.62 Q1593.15 1253.98 1590.84 1254.75 L1590.84 1251.11 Q1593.17 1250.46 1595.19 1250.14 Q1597.24 1249.81 1599.04 1249.81 Q1603.7 1249.81 1606.42 1251.94 Q1609.13 1254.05 1609.13 1257.65 Q1609.13 1260.16 1607.69 1261.9 Q1606.25 1263.63 1603.6 1264.29 Z\" fill=\"#000000\" fill-rule=\"evenodd\" fill-opacity=\"1\" /><path clip-path=\"url(#clip760)\" d=\"M1160.87 250.762 L1150.54 266.905 L1160.87 266.905 L1160.87 250.762 M1159.79 247.197 L1164.94 247.197 L1164.94 266.905 L1169.25 266.905 L1169.25 270.308 L1164.94 270.308 L1164.94 277.437 L1160.87 277.437 L1160.87 270.308 L1147.22 270.308 L1147.22 266.358 L1159.79 247.197 Z\" fill=\"#000000\" fill-rule=\"evenodd\" fill-opacity=\"1\" /><path clip-path=\"url(#clip760)\" d=\"M1729.18 585.747 L1745.24 585.747 L1745.24 589.19 L1732.92 589.19 L1732.92 596.603 Q1733.81 596.299 1734.71 596.158 Q1735.6 595.996 1736.49 595.996 Q1741.55 595.996 1744.51 598.771 Q1747.47 601.545 1747.47 606.285 Q1747.47 611.166 1744.43 613.88 Q1741.39 616.574 1735.86 616.574 Q1733.96 616.574 1731.97 616.25 Q1730.01 615.926 1727.9 615.278 L1727.9 611.166 Q1729.72 612.159 1731.67 612.645 Q1733.61 613.131 1735.78 613.131 Q1739.28 613.131 1741.33 611.288 Q1743.37 609.445 1743.37 606.285 Q1743.37 603.125 1741.33 601.282 Q1739.28 599.439 1735.78 599.439 Q1734.14 599.439 1732.5 599.804 Q1730.88 600.168 1729.18 600.938 L1729.18 585.747 Z\" fill=\"#000000\" fill-rule=\"evenodd\" fill-opacity=\"1\" /></svg>\n"
      ]
     },
     "execution_count": 18,
     "metadata": {},
     "output_type": "execute_result"
    }
   ],
   "source": [
    "n = 5\n",
    "edgelabel_dict = Dict()\n",
    "edgelabel_mat = Array{String}(undef, n, n)\n",
    "for i in 1:n\n",
    "    for j in 1:n\n",
    "        edgelabel_mat[i, j] = edgelabel_dict[(i, j)] = string(round(g[i,j],sigdigits=2)) \n",
    "    end\n",
    "end\n",
    "edgelabel_vec = edgelabel_mat[:]\n",
    "\n",
    "\n",
    "graphplot(g, names=1:5, curvature_scalar=0.2,  edgelabel=edgelabel_dict, markersize = 0.5,\n",
    "           linecolor = :darkgrey, markercolor = \"yellow\",\n",
    "           linealpha = 0.7)"
   ]
  },
  {
   "cell_type": "code",
   "execution_count": 19,
   "id": "63df4e12",
   "metadata": {},
   "outputs": [
    {
     "data": {
      "text/plain": [
       "5×5 Matrix{Float64}:\n",
       " 11.9866  6.21598  4.23065  0.858264  1.0418\n",
       " 11.9789  6.2147   4.23242  0.860706  1.04664\n",
       " 11.9356  6.20397  4.24139  0.875612  1.07675\n",
       " 11.7827  6.15669  4.26553  0.932795  1.19564\n",
       " 11.6838  6.12539  4.28048  0.97012   1.27351"
      ]
     },
     "execution_count": 19,
     "metadata": {},
     "output_type": "execute_result"
    }
   ],
   "source": [
    "tt=4\n",
    "g+tt*g^2/2+tt^3*g^3/6+tt^4*g^4/24"
   ]
  },
  {
   "cell_type": "code",
   "execution_count": 20,
   "id": "28b1c0c8",
   "metadata": {},
   "outputs": [
    {
     "data": {
      "text/plain": [
       "5×5 Matrix{Float64}:\n",
       " 27.4385  13.7009   9.31179  1.87787  2.26905\n",
       " 26.4119  14.6971   9.31812  1.88601  2.28504\n",
       " 26.2659  13.6622  10.3495   1.93567  2.38489\n",
       " 25.7592  13.5042   9.42851  3.12575  2.78049\n",
       " 25.4324  13.3994   9.47688  2.24979  4.03972"
      ]
     },
     "execution_count": 20,
     "metadata": {},
     "output_type": "execute_result"
    }
   ],
   "source": [
    "exp(g*tt)"
   ]
  },
  {
   "cell_type": "code",
   "execution_count": null,
   "id": "5364e7a7",
   "metadata": {},
   "outputs": [],
   "source": []
  },
  {
   "cell_type": "code",
   "execution_count": 21,
   "id": "3aa3dabf",
   "metadata": {},
   "outputs": [
    {
     "data": {
      "text/plain": [
       "5-element Vector{Float64}:\n",
       " 0.1\n",
       " 0.32\n",
       " 0.2\n",
       " 0.11\n",
       " 0.4"
      ]
     },
     "execution_count": 21,
     "metadata": {},
     "output_type": "execute_result"
    }
   ],
   "source": [
    "tk=vec([1 34 2 112 44])\n",
    "xk=vec([0.1 0.32 0.2 0.11 0.4])"
   ]
  },
  {
   "cell_type": "code",
   "execution_count": 22,
   "id": "3468f6cb",
   "metadata": {},
   "outputs": [
    {
     "data": {
      "text/html": [
       "<div class=\"data-frame\"><p>25 rows × 6 columns</p><table class=\"data-frame\"><thead><tr><th></th><th>k</th><th>i</th><th>GWP</th><th>Theta</th><th>Per_Recycl</th><th>Per_Comp</th></tr><tr><th></th><th title=\"Int64\">Int64</th><th title=\"Int64\">Int64</th><th title=\"Int64\">Int64</th><th title=\"Float64\">Float64</th><th title=\"Float64\">Float64</th><th title=\"Float64\">Float64</th></tr></thead><tbody><tr><th>1</th><td>1</td><td>1</td><td>80</td><td>0.6</td><td>0.5</td><td>0.0</td></tr><tr><th>2</th><td>2</td><td>1</td><td>86</td><td>0.66</td><td>0.55</td><td>0.0</td></tr><tr><th>3</th><td>3</td><td>1</td><td>91</td><td>0.68</td><td>0.567</td><td>0.0</td></tr><tr><th>4</th><td>4</td><td>1</td><td>95</td><td>0.7</td><td>0.583</td><td>0.0</td></tr><tr><th>5</th><td>5</td><td>2</td><td>60</td><td>0.4</td><td>0.0</td><td>0.2</td></tr><tr><th>6</th><td>6</td><td>2</td><td>64</td><td>0.48</td><td>0.0</td><td>0.24</td></tr><tr><th>7</th><td>7</td><td>2</td><td>68</td><td>0.5</td><td>0.0</td><td>0.27</td></tr><tr><th>8</th><td>8</td><td>2</td><td>76</td><td>0.52</td><td>0.0</td><td>0.34</td></tr><tr><th>9</th><td>9</td><td>2</td><td>80</td><td>0.54</td><td>0.0</td><td>0.37</td></tr><tr><th>10</th><td>10</td><td>2</td><td>85</td><td>0.55</td><td>0.0</td><td>0.4</td></tr><tr><th>11</th><td>11</td><td>3</td><td>85</td><td>0.6</td><td>0.6</td><td>0.3</td></tr><tr><th>12</th><td>12</td><td>3</td><td>89</td><td>0.68</td><td>0.55</td><td>0.4</td></tr><tr><th>13</th><td>13</td><td>3</td><td>93</td><td>0.76</td><td>0.53</td><td>0.4</td></tr><tr><th>14</th><td>14</td><td>3</td><td>95</td><td>0.82</td><td>0.5</td><td>0.4</td></tr><tr><th>15</th><td>15</td><td>4</td><td>75</td><td>0.65</td><td>0.0</td><td>0.5</td></tr><tr><th>16</th><td>16</td><td>4</td><td>78</td><td>0.69</td><td>0.0</td><td>0.531</td></tr><tr><th>17</th><td>17</td><td>4</td><td>80</td><td>0.71</td><td>0.0</td><td>0.55</td></tr><tr><th>18</th><td>18</td><td>4</td><td>81</td><td>0.72</td><td>0.0</td><td>0.55</td></tr><tr><th>19</th><td>19</td><td>4</td><td>83</td><td>0.74</td><td>0.0</td><td>0.57</td></tr><tr><th>20</th><td>20</td><td>4</td><td>85</td><td>0.75</td><td>0.0</td><td>0.8</td></tr><tr><th>21</th><td>21</td><td>5</td><td>90</td><td>0.9</td><td>0.7</td><td>0.15</td></tr><tr><th>22</th><td>22</td><td>5</td><td>92</td><td>0.92</td><td>0.716</td><td>0.1</td></tr><tr><th>23</th><td>23</td><td>5</td><td>94</td><td>0.94</td><td>0.731</td><td>0.0</td></tr><tr><th>24</th><td>24</td><td>5</td><td>96</td><td>0.95</td><td>0.738</td><td>0.0</td></tr><tr><th>25</th><td>25</td><td>5</td><td>100</td><td>0.95</td><td>0.738</td><td>0.0</td></tr></tbody></table></div>"
      ],
      "text/latex": [
       "\\begin{tabular}{r|cccccc}\n",
       "\t& k & i & GWP & Theta & Per\\_Recycl & Per\\_Comp\\\\\n",
       "\t\\hline\n",
       "\t& Int64 & Int64 & Int64 & Float64 & Float64 & Float64\\\\\n",
       "\t\\hline\n",
       "\t1 & 1 & 1 & 80 & 0.6 & 0.5 & 0.0 \\\\\n",
       "\t2 & 2 & 1 & 86 & 0.66 & 0.55 & 0.0 \\\\\n",
       "\t3 & 3 & 1 & 91 & 0.68 & 0.567 & 0.0 \\\\\n",
       "\t4 & 4 & 1 & 95 & 0.7 & 0.583 & 0.0 \\\\\n",
       "\t5 & 5 & 2 & 60 & 0.4 & 0.0 & 0.2 \\\\\n",
       "\t6 & 6 & 2 & 64 & 0.48 & 0.0 & 0.24 \\\\\n",
       "\t7 & 7 & 2 & 68 & 0.5 & 0.0 & 0.27 \\\\\n",
       "\t8 & 8 & 2 & 76 & 0.52 & 0.0 & 0.34 \\\\\n",
       "\t9 & 9 & 2 & 80 & 0.54 & 0.0 & 0.37 \\\\\n",
       "\t10 & 10 & 2 & 85 & 0.55 & 0.0 & 0.4 \\\\\n",
       "\t11 & 11 & 3 & 85 & 0.6 & 0.6 & 0.3 \\\\\n",
       "\t12 & 12 & 3 & 89 & 0.68 & 0.55 & 0.4 \\\\\n",
       "\t13 & 13 & 3 & 93 & 0.76 & 0.53 & 0.4 \\\\\n",
       "\t14 & 14 & 3 & 95 & 0.82 & 0.5 & 0.4 \\\\\n",
       "\t15 & 15 & 4 & 75 & 0.65 & 0.0 & 0.5 \\\\\n",
       "\t16 & 16 & 4 & 78 & 0.69 & 0.0 & 0.531 \\\\\n",
       "\t17 & 17 & 4 & 80 & 0.71 & 0.0 & 0.55 \\\\\n",
       "\t18 & 18 & 4 & 81 & 0.72 & 0.0 & 0.55 \\\\\n",
       "\t19 & 19 & 4 & 83 & 0.74 & 0.0 & 0.57 \\\\\n",
       "\t20 & 20 & 4 & 85 & 0.75 & 0.0 & 0.8 \\\\\n",
       "\t21 & 21 & 5 & 90 & 0.9 & 0.7 & 0.15 \\\\\n",
       "\t22 & 22 & 5 & 92 & 0.92 & 0.716 & 0.1 \\\\\n",
       "\t23 & 23 & 5 & 94 & 0.94 & 0.731 & 0.0 \\\\\n",
       "\t24 & 24 & 5 & 96 & 0.95 & 0.738 & 0.0 \\\\\n",
       "\t25 & 25 & 5 & 100 & 0.95 & 0.738 & 0.0 \\\\\n",
       "\\end{tabular}\n"
      ],
      "text/plain": [
       "\u001b[1m25×6 DataFrame\u001b[0m\n",
       "\u001b[1m Row \u001b[0m│\u001b[1m k     \u001b[0m\u001b[1m i     \u001b[0m\u001b[1m GWP   \u001b[0m\u001b[1m Theta   \u001b[0m\u001b[1m Per_Recycl \u001b[0m\u001b[1m Per_Comp \u001b[0m\n",
       "\u001b[1m     \u001b[0m│\u001b[90m Int64 \u001b[0m\u001b[90m Int64 \u001b[0m\u001b[90m Int64 \u001b[0m\u001b[90m Float64 \u001b[0m\u001b[90m Float64    \u001b[0m\u001b[90m Float64  \u001b[0m\n",
       "─────┼────────────────────────────────────────────────────\n",
       "   1 │     1      1     80     0.6        0.5       0.0\n",
       "   2 │     2      1     86     0.66       0.55      0.0\n",
       "   3 │     3      1     91     0.68       0.567     0.0\n",
       "   4 │     4      1     95     0.7        0.583     0.0\n",
       "   5 │     5      2     60     0.4        0.0       0.2\n",
       "   6 │     6      2     64     0.48       0.0       0.24\n",
       "   7 │     7      2     68     0.5        0.0       0.27\n",
       "   8 │     8      2     76     0.52       0.0       0.34\n",
       "   9 │     9      2     80     0.54       0.0       0.37\n",
       "  10 │    10      2     85     0.55       0.0       0.4\n",
       "  11 │    11      3     85     0.6        0.6       0.3\n",
       "  ⋮  │   ⋮      ⋮      ⋮       ⋮         ⋮          ⋮\n",
       "  16 │    16      4     78     0.69       0.0       0.531\n",
       "  17 │    17      4     80     0.71       0.0       0.55\n",
       "  18 │    18      4     81     0.72       0.0       0.55\n",
       "  19 │    19      4     83     0.74       0.0       0.57\n",
       "  20 │    20      4     85     0.75       0.0       0.8\n",
       "  21 │    21      5     90     0.9        0.7       0.15\n",
       "  22 │    22      5     92     0.92       0.716     0.1\n",
       "  23 │    23      5     94     0.94       0.731     0.0\n",
       "  24 │    24      5     96     0.95       0.738     0.0\n",
       "  25 │    25      5    100     0.95       0.738     0.0\n",
       "\u001b[36m                                            4 rows omitted\u001b[0m"
      ]
     },
     "execution_count": 22,
     "metadata": {},
     "output_type": "execute_result"
    }
   ],
   "source": [
    "xk[give_sorted(tk)]\n",
    "v=give_sorted(tk)\n",
    "v\n",
    "compromise"
   ]
  },
  {
   "cell_type": "code",
   "execution_count": 23,
   "id": "4e2ead5b-7b01-4354-895b-dfc62df29869",
   "metadata": {},
   "outputs": [
    {
     "data": {
      "text/plain": [
       "1×5 Matrix{Float64}:\n",
       " 0.392655  0.226214  0.190891  0.071864  0.118376"
      ]
     },
     "execution_count": 23,
     "metadata": {},
     "output_type": "execute_result"
    }
   ],
   "source": [
    "q=get_rate_mat(2)\n",
    "t=50\n",
    "s0=[0 0 0 1 0]\n",
    "(s0*(exp(q*t)))"
   ]
  },
  {
   "cell_type": "code",
   "execution_count": 24,
   "id": "d0749555",
   "metadata": {},
   "outputs": [
    {
     "name": "stdout",
     "output_type": "stream",
     "text": [
      "0.1\n",
      "0.30000000000000004\n",
      "0.6200000000000001\n",
      "1.02\n",
      "1.1300000000000001\n"
     ]
    }
   ],
   "source": [
    "for i in 1:size(tk)[1]\n",
    "    print(sum(xk[v[j]] for j in 1:i))\n",
    "    print(\"\\n\")\n",
    "end"
   ]
  },
  {
   "cell_type": "code",
   "execution_count": 25,
   "id": "73d91cf2",
   "metadata": {},
   "outputs": [
    {
     "data": {
      "text/plain": [
       "5"
      ]
     },
     "execution_count": 25,
     "metadata": {},
     "output_type": "execute_result"
    }
   ],
   "source": [
    "size(tk)[1]"
   ]
  },
  {
   "cell_type": "code",
   "execution_count": 26,
   "id": "76fb40ab",
   "metadata": {},
   "outputs": [
    {
     "name": "stdout",
     "output_type": "stream",
     "text": [
      "96.0\n",
      "34.8\n",
      "-162.32\n",
      "-1954.3200000000002\n"
     ]
    }
   ],
   "source": [
    "for i in 1:(size(tk)[1]-1)\n",
    "    print(initial[1,3]*tk[v][1]-sum(xk[v[j]]*tk[v][j+1]*(initial[1,3]-compromise[v,3][j]) for j in 1:i))\n",
    "    print(\"\\n\")\n",
    "end"
   ]
  },
  {
   "cell_type": "code",
   "execution_count": 27,
   "id": "94fb60e1",
   "metadata": {},
   "outputs": [
    {
     "data": {
      "text/plain": [
       "5×5 Matrix{Float64}:\n",
       " -3.2027     2.42126    1.78144     0.0        0.0\n",
       "  6.87956   -9.21963    2.93413     0.405941   0.0\n",
       "  1.78832    3.83202   -6.54113     1.92079    0.0\n",
       "  0.456204   0.308399   9.49102   -18.1842     8.92857\n",
       "  0.0        0.0        0.763473    7.57426   -7.33773"
      ]
     },
     "execution_count": 27,
     "metadata": {},
     "output_type": "execute_result"
    }
   ],
   "source": [
    "apprx=I+get_rate_mat(4)*50"
   ]
  },
  {
   "cell_type": "code",
   "execution_count": 28,
   "id": "96625c4f-7709-4cd3-99af-6d31c7d93f0e",
   "metadata": {},
   "outputs": [
    {
     "data": {
      "text/plain": [
       "1×5 Matrix{Float64}:\n",
       " 5.36496  11.4961  -19.6234  5.76238  0.0"
      ]
     },
     "execution_count": 28,
     "metadata": {},
     "output_type": "execute_result"
    }
   ],
   "source": [
    "n1=[1 2 3 4 5].*[0 0 1 0 0]*apprx"
   ]
  },
  {
   "cell_type": "code",
   "execution_count": 29,
   "id": "cbfc6aaa-e841-4735-815c-863c4bf3e725",
   "metadata": {},
   "outputs": [
    {
     "data": {
      "text/plain": [
       "3.0"
      ]
     },
     "execution_count": 29,
     "metadata": {},
     "output_type": "execute_result"
    }
   ],
   "source": [
    "sum(n1)"
   ]
  },
  {
   "cell_type": "code",
   "execution_count": 30,
   "id": "e4346172-859d-49f5-911a-a71d509d20fc",
   "metadata": {},
   "outputs": [
    {
     "data": {
      "text/plain": [
       "5×5 Matrix{Float64}:\n",
       "  15.5501   -11.6256     -5.12686    2.20233     0.0\n",
       " -40.0139    57.0139    -15.0679    -2.74423     1.81223\n",
       "   4.9069   -27.7366     38.2231   -22.9683      8.57496\n",
       "   4.66892   14.5115   -113.067    208.824    -113.937\n",
       "   2.41037    2.63077    30.6456   -95.9216     61.2348"
      ]
     },
     "execution_count": 30,
     "metadata": {},
     "output_type": "execute_result"
    }
   ],
   "source": [
    "i=4\n",
    "s0=[0 0 0 0 0]\n",
    "s0[i]=rl[i]\n",
    "q=get_rate_mat(i)\n",
    "t=50\n",
    "apprx=I+q*t+1/2*t^2*q^2"
   ]
  },
  {
   "cell_type": "code",
   "execution_count": 31,
   "id": "1b70908a-ab80-448f-bebf-11643b4c0ba1",
   "metadata": {},
   "outputs": [
    {
     "data": {
      "text/plain": [
       "2.999999999999986"
      ]
     },
     "execution_count": 31,
     "metadata": {},
     "output_type": "execute_result"
    }
   ],
   "source": [
    "n1=[1 2 3 4 5].*[0 0 1 0 0]*apprx\n",
    "sum(n1)"
   ]
  },
  {
   "cell_type": "code",
   "execution_count": 32,
   "id": "ea7ce0db-61af-4f60-a7f7-557c856ec2f9",
   "metadata": {},
   "outputs": [
    {
     "data": {
      "text/plain": [
       "15.104427168668323"
      ]
     },
     "execution_count": 32,
     "metadata": {},
     "output_type": "execute_result"
    }
   ],
   "source": [
    "get_RL_atT(4,50)"
   ]
  },
  {
   "cell_type": "code",
   "execution_count": 33,
   "id": "ecd28874-fd6c-4fe2-b6b7-766fd2c3f5a3",
   "metadata": {},
   "outputs": [
    {
     "data": {
      "text/plain": [
       "1×5 Matrix{Int64}:\n",
       " 0  0  0  3  0"
      ]
     },
     "execution_count": 33,
     "metadata": {},
     "output_type": "execute_result"
    }
   ],
   "source": [
    "s0"
   ]
  },
  {
   "cell_type": "code",
   "execution_count": 34,
   "id": "bf001aaa",
   "metadata": {},
   "outputs": [
    {
     "data": {
      "text/plain": [
       "7.597755293153488"
      ]
     },
     "execution_count": 34,
     "metadata": {},
     "output_type": "execute_result"
    }
   ],
   "source": [
    "\n",
    "i=2\n",
    "t=50\n",
    "s0=[0 0 0 0 0]\n",
    "s0[rl[i]]=1\n",
    "q=get_rate_mat(i)\n",
    "#rl_t=sum([1 2 3 4 5].*(s0*exp(q*t)))\n",
    "rl_t=sum([1 2 3 4 5].*(s0*(I+t*q+1/2*t^2*q^2)))"
   ]
  },
  {
   "cell_type": "code",
   "execution_count": 35,
   "id": "884ef550",
   "metadata": {},
   "outputs": [
    {
     "data": {
      "text/plain": [
       "1×5 Matrix{Int64}:\n",
       " 0  0  0  1  0"
      ]
     },
     "execution_count": 35,
     "metadata": {},
     "output_type": "execute_result"
    }
   ],
   "source": [
    "s0=[0 0.2 0.3 0.4 0.1]\n",
    "s1=[0 0 0 1 0]"
   ]
  },
  {
   "cell_type": "code",
   "execution_count": 36,
   "id": "9c476cf8",
   "metadata": {},
   "outputs": [
    {
     "data": {
      "text/plain": [
       "1×5 Matrix{Float64}:\n",
       " 22.7302  -120.2  338.046  -569.103  329.526"
      ]
     },
     "execution_count": 36,
     "metadata": {},
     "output_type": "execute_result"
    }
   ],
   "source": [
    "s0*(I+t.*q+((1/2)*t^2).*q^2+((1/6)*t^3).*q^3+((1/24)*t^4).*q^4+((1/120)*t^5).*q^5)"
   ]
  },
  {
   "cell_type": "code",
   "execution_count": 98,
   "id": "6526aa97",
   "metadata": {},
   "outputs": [
    {
     "data": {
      "text/plain": [
       "5×5 Matrix{Float64}:\n",
       " -3.40599e6  -1.61229e6   2.09348e8   -1.87371e8   -1.6959e7\n",
       " -3.5899e6   -2.77629e7   8.55838e8   -8.00512e8   -2.39737e7\n",
       "  7.50247e7   4.57623e8  -1.51339e10   1.63247e10  -1.72343e9\n",
       " -1.40799e6  -8.56276e6   2.98247e8   -1.49036e9    1.20208e9\n",
       "  8.69601e6   5.12138e7  -3.07459e9    1.11057e11  -1.08043e11"
      ]
     },
     "execution_count": 98,
     "metadata": {},
     "output_type": "execute_result"
    }
   ],
   "source": [
    "(I+t.*q+((1/2)*t^2).*q^2+((1/6)*t^3).*q^3+((1/24)*t^4).*q^4+((1/120)*t^5).*q^5)"
   ]
  },
  {
   "cell_type": "code",
   "execution_count": 105,
   "id": "36099cf6",
   "metadata": {},
   "outputs": [
    {
     "data": {
      "text/plain": [
       "5×5 Matrix{Float64}:\n",
       " -4.8328e14   -2.94626e15   9.80163e16  -1.50658e17   5.60713e16\n",
       " -1.94342e15  -1.18577e16   3.91225e17  -3.52572e17  -2.48513e16\n",
       "  3.2771e16    2.00151e17  -6.44898e18  -6.28471e18   1.25008e19\n",
       "  2.20486e14   1.22872e15  -1.27741e17   6.93305e18  -6.80676e18\n",
       " -7.32103e16  -4.36266e17   2.21837e19  -6.29039e20   6.07365e20"
      ]
     },
     "execution_count": 105,
     "metadata": {},
     "output_type": "execute_result"
    }
   ],
   "source": [
    "(I+sum((1/factorial(i))*(t^i)*(q^i) for i in 1:20))"
   ]
  },
  {
   "cell_type": "code",
   "execution_count": 39,
   "id": "210757e1",
   "metadata": {},
   "outputs": [
    {
     "data": {
      "text/plain": [
       "2.1169121270482414"
      ]
     },
     "execution_count": 39,
     "metadata": {},
     "output_type": "execute_result"
    }
   ],
   "source": [
    "sum([1 2 3 4 5].*(s0*exp(q*t)))"
   ]
  },
  {
   "cell_type": "code",
   "execution_count": 40,
   "id": "6d07aa35",
   "metadata": {},
   "outputs": [
    {
     "data": {
      "text/plain": [
       "2.1169121270482414"
      ]
     },
     "execution_count": 40,
     "metadata": {},
     "output_type": "execute_result"
    }
   ],
   "source": [
    "sum([1 2 3 4 5].*(s0*(exp(q*t))))"
   ]
  },
  {
   "cell_type": "code",
   "execution_count": 41,
   "id": "712acaf6",
   "metadata": {},
   "outputs": [
    {
     "data": {
      "text/plain": [
       "5×5 Matrix{Float64}:\n",
       " -0.0566761    0.039819     0.0168571    0.0          0.0\n",
       "  0.0930288   -0.123157     0.0287143    0.00141414   0.0\n",
       "  0.0227163    0.0667421   -0.109862     0.020404     0.0\n",
       "  0.00444712   0.00656109   0.0918571   -0.206492     0.103627\n",
       "  0.0          0.0          0.00542857   0.0791919   -0.0846205"
      ]
     },
     "execution_count": 41,
     "metadata": {},
     "output_type": "execute_result"
    }
   ],
   "source": [
    "q"
   ]
  },
  {
   "cell_type": "code",
   "execution_count": 99,
   "id": "9df6bc6c-0f36-47c0-9c58-0d6ae2dbc83b",
   "metadata": {},
   "outputs": [
    {
     "data": {
      "text/plain": [
       "5×5 Matrix{Float64}:\n",
       " 0.000782566  0.00348269  0.0171536  0.968085  0.0104964\n",
       " 0.000782566  0.00348269  0.0171536  0.968085  0.0104964\n",
       " 0.000782566  0.00348269  0.0171536  0.968085  0.0104964\n",
       " 0.000782566  0.00348269  0.0171536  0.968085  0.0104964\n",
       " 0.000782566  0.00348269  0.0171536  0.968085  0.0104964"
      ]
     },
     "execution_count": 99,
     "metadata": {},
     "output_type": "execute_result"
    }
   ],
   "source": [
    "exp(q*50)"
   ]
  },
  {
   "cell_type": "code",
   "execution_count": 42,
   "id": "2672cc01",
   "metadata": {},
   "outputs": [
    {
     "data": {
      "text/plain": [
       "5×5 Matrix{Float64}:\n",
       " -0.0566761    0.039819     0.0168571    0.0          0.0\n",
       "  0.0930288   -0.123157     0.0287143    0.00141414   0.0\n",
       "  0.0227163    0.0667421   -0.109862     0.020404     0.0\n",
       "  0.00444712   0.00656109   0.0918571   -0.206492     0.103627\n",
       "  0.0          0.0          0.00542857   0.0791919   -0.0846205"
      ]
     },
     "execution_count": 42,
     "metadata": {},
     "output_type": "execute_result"
    }
   ],
   "source": [
    "q"
   ]
  },
  {
   "cell_type": "code",
   "execution_count": 86,
   "id": "77ca1906",
   "metadata": {},
   "outputs": [
    {
     "data": {
      "text/plain": [
       "5-element Vector{Float64}:\n",
       " -0.26434189838894084\n",
       " -0.16946494276656449\n",
       " -0.11246809381710884\n",
       " -0.03453373153782022\n",
       " -6.938893903907228e-18"
      ]
     },
     "execution_count": 86,
     "metadata": {},
     "output_type": "execute_result"
    }
   ],
   "source": [
    "eigvals(q)"
   ]
  },
  {
   "cell_type": "code",
   "execution_count": 84,
   "id": "25ce5bcd",
   "metadata": {},
   "outputs": [
    {
     "data": {
      "text/plain": [
       "5×5 Matrix{Float64}:\n",
       " -0.0080867  -0.147098   0.242716    -0.0930463  -0.447214\n",
       " -0.0112144   0.655526  -0.00875401  -0.0729895  -0.447214\n",
       "  0.126111   -0.564238  -0.782636     0.0501923  -0.447214\n",
       " -0.909106   -0.332271  -0.141643     0.527644   -0.447214\n",
       "  0.396776    0.346236   0.555366     0.839695   -0.447214"
      ]
     },
     "execution_count": 84,
     "metadata": {},
     "output_type": "execute_result"
    }
   ],
   "source": [
    "eigvecs(q)"
   ]
  },
  {
   "cell_type": "code",
   "execution_count": 66,
   "id": "7fcf23ed",
   "metadata": {},
   "outputs": [
    {
     "data": {
      "text/plain": [
       "5×5 Diagonal{Float64, Vector{Float64}}:\n",
       " -0.264342    ⋅          ⋅          ⋅           ⋅ \n",
       "   ⋅        -0.169465    ⋅          ⋅           ⋅ \n",
       "   ⋅          ⋅        -0.112468    ⋅           ⋅ \n",
       "   ⋅          ⋅          ⋅        -0.0345337    ⋅ \n",
       "   ⋅          ⋅          ⋅          ⋅         -6.93889e-18"
      ]
     },
     "execution_count": 66,
     "metadata": {},
     "output_type": "execute_result"
    }
   ],
   "source": [
    "Diagonal(eigvals(q))"
   ]
  },
  {
   "cell_type": "code",
   "execution_count": 153,
   "id": "e9e6e6f8",
   "metadata": {},
   "outputs": [
    {
     "data": {
      "text/plain": [
       "1×5 Matrix{Int64}:\n",
       " 0  0  1  0  0"
      ]
     },
     "execution_count": 153,
     "metadata": {},
     "output_type": "execute_result"
    }
   ],
   "source": [
    "s1=[0 0 0 0 0]\n",
    "s1[rl[i]]=1\n",
    "s1"
   ]
  },
  {
   "cell_type": "code",
   "execution_count": 157,
   "id": "b7273ba6",
   "metadata": {},
   "outputs": [
    {
     "data": {
      "text/plain": [
       "5×5 Matrix{Float64}:\n",
       " -2.83381       1.99095       0.842857    2.41622e-15  -2.26338e-15\n",
       "  4.65144      -6.15786       1.43571     0.0707071     2.19139e-15\n",
       "  1.13582       3.3371       -5.49312     1.0202        5.42077e-17\n",
       "  0.222356      0.328054      4.59286   -10.3246        5.18135\n",
       " -2.16886e-15   2.13194e-15   0.271429    3.9596       -4.23102"
      ]
     },
     "execution_count": 157,
     "metadata": {},
     "output_type": "execute_result"
    }
   ],
   "source": [
    "q=get_rate_mat(2)\n",
    "d=eigvecs(q)*Diagonal(eigvals(q)*t)*inv(eigvecs(q))\n",
    "#d=eigvecs(q)*(I+t*Diagonal(eigvals(q)))*inv(eigvecs(q))"
   ]
  },
  {
   "cell_type": "code",
   "execution_count": 158,
   "id": "d0821426",
   "metadata": {},
   "outputs": [
    {
     "data": {
      "text/plain": [
       "-4.588536667580799"
      ]
     },
     "execution_count": 158,
     "metadata": {},
     "output_type": "execute_result"
    }
   ],
   "source": [
    "sum([1 2 3 4 5].*(s1*d))"
   ]
  },
  {
   "cell_type": "code",
   "execution_count": 151,
   "id": "0be78a6c",
   "metadata": {},
   "outputs": [
    {
     "data": {
      "text/plain": [
       "1×5 Matrix{Int64}:\n",
       " 0  0  0  1  0"
      ]
     },
     "execution_count": 151,
     "metadata": {},
     "output_type": "execute_result"
    }
   ],
   "source": [
    "s1"
   ]
  },
  {
   "cell_type": "code",
   "execution_count": 11,
   "id": "aa61157e",
   "metadata": {},
   "outputs": [
    {
     "data": {
      "text/plain": [
       "18.274919222588533"
      ]
     },
     "execution_count": 11,
     "metadata": {},
     "output_type": "execute_result"
    }
   ],
   "source": []
  },
  {
   "cell_type": "code",
   "execution_count": 62,
   "id": "1dbbb137-e2f4-4cc1-9753-c55e766381d0",
   "metadata": {},
   "outputs": [
    {
     "data": {
      "text/plain": [
       "31.270296478798727"
      ]
     },
     "execution_count": 62,
     "metadata": {},
     "output_type": "execute_result"
    }
   ],
   "source": [
    "get_RL_atT(1,50)"
   ]
  },
  {
   "cell_type": "code",
   "execution_count": 228,
   "id": "2d64fcb0-4dc9-444a-8700-35ecef45ef82",
   "metadata": {},
   "outputs": [
    {
     "data": {
      "text/plain": [
       "5×5 Matrix{Float64}:\n",
       "   24.8037     -30.5065     -20.7009      81.0788        -10.3392\n",
       "   36.1094   12337.0      16959.0     -32236.3          3609.06\n",
       "  188.362    26705.1      41500.9     -79407.9          8876.7\n",
       " -184.609   -38797.5     -61959.7          1.20847e5  -13593.4\n",
       "   83.4968   20899.2      33492.6     -65783.5          7418.99"
      ]
     },
     "execution_count": 228,
     "metadata": {},
     "output_type": "execute_result"
    }
   ],
   "source": [
    "i=1\n",
    "q=get_rate_mat(i)\n",
    "t=50\n",
    "eigvecs(q)'*(I+t*Diagonal(eigvals(q))+t^2*Diagonal(eigvals(q).^2))*inv(eigvecs(q)')"
   ]
  },
  {
   "cell_type": "code",
   "execution_count": 229,
   "id": "a69b6b6f-0a6a-4ab6-ab4b-56d299b87d27",
   "metadata": {},
   "outputs": [
    {
     "data": {
      "text/html": [
       "<div class=\"data-frame\"><p>5 rows × 33 columns (omitted printing of 24 columns)</p><table class=\"data-frame\"><thead><tr><th></th><th>i</th><th>Cost_per_RL</th><th>RL</th><th>Sojourn1</th><th>Sojourn2</th><th>Sojourn3</th><th>Sojourn4</th><th>Sojourn5</th><th>P11</th></tr><tr><th></th><th title=\"Int64\">Int64</th><th title=\"Int64\">Int64</th><th title=\"Int64\">Int64</th><th title=\"Float64\">Float64</th><th title=\"Float64\">Float64</th><th title=\"Float64\">Float64</th><th title=\"Float64\">Float64</th><th title=\"Float64\">Float64</th><th title=\"Int64\">Int64</th></tr></thead><tbody><tr><th>1</th><td>1</td><td>92</td><td>2</td><td>4.6</td><td>1.34</td><td>2.04</td><td>0.12</td><td>8.86</td><td>0</td></tr><tr><th>2</th><td>2</td><td>122</td><td>3</td><td>8.32</td><td>8.84</td><td>7.0</td><td>9.9</td><td>9.65</td><td>0</td></tr><tr><th>3</th><td>3</td><td>78</td><td>1</td><td>4.44</td><td>1.21</td><td>5.09</td><td>6.52</td><td>8.67</td><td>0</td></tr><tr><th>4</th><td>4</td><td>131</td><td>3</td><td>5.48</td><td>7.62</td><td>3.34</td><td>5.05</td><td>5.6</td><td>0</td></tr><tr><th>5</th><td>5</td><td>95</td><td>1</td><td>9.94</td><td>2.38</td><td>7.94</td><td>3.82</td><td>5.44</td><td>0</td></tr></tbody></table></div>"
      ],
      "text/latex": [
       "\\begin{tabular}{r|cccccccccc}\n",
       "\t& i & Cost\\_per\\_RL & RL & Sojourn1 & Sojourn2 & Sojourn3 & Sojourn4 & Sojourn5 & P11 & \\\\\n",
       "\t\\hline\n",
       "\t& Int64 & Int64 & Int64 & Float64 & Float64 & Float64 & Float64 & Float64 & Int64 & \\\\\n",
       "\t\\hline\n",
       "\t1 & 1 & 92 & 2 & 4.6 & 1.34 & 2.04 & 0.12 & 8.86 & 0 & $\\dots$ \\\\\n",
       "\t2 & 2 & 122 & 3 & 8.32 & 8.84 & 7.0 & 9.9 & 9.65 & 0 & $\\dots$ \\\\\n",
       "\t3 & 3 & 78 & 1 & 4.44 & 1.21 & 5.09 & 6.52 & 8.67 & 0 & $\\dots$ \\\\\n",
       "\t4 & 4 & 131 & 3 & 5.48 & 7.62 & 3.34 & 5.05 & 5.6 & 0 & $\\dots$ \\\\\n",
       "\t5 & 5 & 95 & 1 & 9.94 & 2.38 & 7.94 & 3.82 & 5.44 & 0 & $\\dots$ \\\\\n",
       "\\end{tabular}\n"
      ],
      "text/plain": [
       "\u001b[1m5×33 DataFrame\u001b[0m\n",
       "\u001b[1m Row \u001b[0m│\u001b[1m i     \u001b[0m\u001b[1m Cost_per_RL \u001b[0m\u001b[1m RL    \u001b[0m\u001b[1m Sojourn1 \u001b[0m\u001b[1m Sojourn2 \u001b[0m\u001b[1m Sojourn3 \u001b[0m\u001b[1m Sojourn4 \u001b[0m\u001b[1m Sojo\u001b[0m ⋯\n",
       "\u001b[1m     \u001b[0m│\u001b[90m Int64 \u001b[0m\u001b[90m Int64       \u001b[0m\u001b[90m Int64 \u001b[0m\u001b[90m Float64  \u001b[0m\u001b[90m Float64  \u001b[0m\u001b[90m Float64  \u001b[0m\u001b[90m Float64  \u001b[0m\u001b[90m Floa\u001b[0m ⋯\n",
       "─────┼──────────────────────────────────────────────────────────────────────────\n",
       "   1 │     1           92      2      4.6       1.34      2.04      0.12       ⋯\n",
       "   2 │     2          122      3      8.32      8.84      7.0       9.9\n",
       "   3 │     3           78      1      4.44      1.21      5.09      6.52\n",
       "   4 │     4          131      3      5.48      7.62      3.34      5.05\n",
       "   5 │     5           95      1      9.94      2.38      7.94      3.82       ⋯\n",
       "\u001b[36m                                                              26 columns omitted\u001b[0m"
      ]
     },
     "execution_count": 229,
     "metadata": {},
     "output_type": "execute_result"
    }
   ],
   "source": [
    "innovations"
   ]
  },
  {
   "cell_type": "code",
   "execution_count": 74,
   "id": "74e50159-edd4-404f-aa48-f3aac8ecfbe8",
   "metadata": {},
   "outputs": [
    {
     "data": {
      "text/plain": [
       "5×5 adjoint(::Matrix{Real}) with eltype Real:\n",
       " 0     0.76  0.21  0.03  0\n",
       " 0.36  0     0.58  0.06  0\n",
       " 0.12  0.2   0     0.65  0.03\n",
       " 0     0.0   0.2   0     0.8\n",
       " 0     0     0     1     0"
      ]
     },
     "execution_count": 74,
     "metadata": {},
     "output_type": "execute_result"
    }
   ],
   "source": [
    "get_transition_mat(1)'"
   ]
  },
  {
   "cell_type": "code",
   "execution_count": 84,
   "id": "f8a92cdd-3b5b-41c4-a7cf-26cba47cd8cf",
   "metadata": {},
   "outputs": [
    {
     "data": {
      "text/plain": [
       "2×2 Matrix{Int64}:\n",
       " 1  2\n",
       " 4  3"
      ]
     },
     "execution_count": 84,
     "metadata": {},
     "output_type": "execute_result"
    }
   ],
   "source": [
    "a=[1 2; 4 3]"
   ]
  },
  {
   "cell_type": "code",
   "execution_count": 85,
   "id": "34c81736-7d14-4a74-92f2-d52b9a7d5b8d",
   "metadata": {},
   "outputs": [
    {
     "data": {
      "text/plain": [
       "2×2 Matrix{Float64}:\n",
       " 49.7163  49.3484\n",
       " 98.6969  99.0647"
      ]
     },
     "execution_count": 85,
     "metadata": {},
     "output_type": "execute_result"
    }
   ],
   "source": [
    "exp(a)"
   ]
  },
  {
   "cell_type": "code",
   "execution_count": 96,
   "id": "02ee76a9-f129-48f0-9c6e-45ee839c3373",
   "metadata": {},
   "outputs": [
    {
     "data": {
      "text/plain": [
       "2×2 Matrix{Float64}:\n",
       " 46.3476  45.9798\n",
       " 91.9595  92.3274"
      ]
     },
     "execution_count": 96,
     "metadata": {},
     "output_type": "execute_result"
    }
   ],
   "source": [
    "I+a+(a^2)./2+(a^3)./6+(a^4)./24+(a^5)./120+(a^6)./720+(a^7)./factorial(7)+(a^8)./factorial(8)"
   ]
  },
  {
   "cell_type": "code",
   "execution_count": 89,
   "id": "aa19152d-83c7-427c-bf9c-601adc74d1d0",
   "metadata": {},
   "outputs": [
    {
     "data": {
      "text/plain": [
       "2×2 Matrix{Int64}:\n",
       "  9   8\n",
       " 16  17"
      ]
     },
     "execution_count": 89,
     "metadata": {},
     "output_type": "execute_result"
    }
   ],
   "source": [
    "a^2"
   ]
  },
  {
   "cell_type": "code",
   "execution_count": 192,
   "id": "fe870888-2857-47cc-8a72-8259c1acb7d7",
   "metadata": {},
   "outputs": [
    {
     "data": {
      "text/plain": [
       "5×5 adjoint(::Matrix{Real}) with eltype Real:\n",
       " 0     0.76  0.21  0.03  0\n",
       " 0.36  0     0.58  0.06  0\n",
       " 0.12  0.2   0     0.65  0.03\n",
       " 0     0.0   0.2   0     0.8\n",
       " 0     0     0     1     0"
      ]
     },
     "execution_count": 192,
     "metadata": {},
     "output_type": "execute_result"
    }
   ],
   "source": [
    "get_transition_mat(1)"
   ]
  },
  {
   "cell_type": "code",
   "execution_count": 194,
   "id": "52779078-bdf6-41c2-9a5b-855678c80ade",
   "metadata": {},
   "outputs": [
    {
     "data": {
      "text/html": [
       "<div class=\"data-frame\"><p>5 rows × 33 columns (omitted printing of 24 columns)</p><table class=\"data-frame\"><thead><tr><th></th><th>i</th><th>Cost_per_RL</th><th>RL</th><th>Sojourn1</th><th>Sojourn2</th><th>Sojourn3</th><th>Sojourn4</th><th>Sojourn5</th><th>P11</th></tr><tr><th></th><th title=\"Int64\">Int64</th><th title=\"Int64\">Int64</th><th title=\"Int64\">Int64</th><th title=\"Float64\">Float64</th><th title=\"Float64\">Float64</th><th title=\"Float64\">Float64</th><th title=\"Float64\">Float64</th><th title=\"Float64\">Float64</th><th title=\"Int64\">Int64</th></tr></thead><tbody><tr><th>1</th><td>1</td><td>92</td><td>2</td><td>4.6</td><td>1.34</td><td>2.04</td><td>0.12</td><td>8.86</td><td>0</td></tr><tr><th>2</th><td>2</td><td>122</td><td>3</td><td>8.32</td><td>8.84</td><td>7.0</td><td>9.9</td><td>9.65</td><td>0</td></tr><tr><th>3</th><td>3</td><td>78</td><td>1</td><td>4.44</td><td>1.21</td><td>5.09</td><td>6.52</td><td>8.67</td><td>0</td></tr><tr><th>4</th><td>4</td><td>131</td><td>3</td><td>5.48</td><td>7.62</td><td>3.34</td><td>5.05</td><td>5.6</td><td>0</td></tr><tr><th>5</th><td>5</td><td>95</td><td>1</td><td>9.94</td><td>2.38</td><td>7.94</td><td>3.82</td><td>5.44</td><td>0</td></tr></tbody></table></div>"
      ],
      "text/latex": [
       "\\begin{tabular}{r|cccccccccc}\n",
       "\t& i & Cost\\_per\\_RL & RL & Sojourn1 & Sojourn2 & Sojourn3 & Sojourn4 & Sojourn5 & P11 & \\\\\n",
       "\t\\hline\n",
       "\t& Int64 & Int64 & Int64 & Float64 & Float64 & Float64 & Float64 & Float64 & Int64 & \\\\\n",
       "\t\\hline\n",
       "\t1 & 1 & 92 & 2 & 4.6 & 1.34 & 2.04 & 0.12 & 8.86 & 0 & $\\dots$ \\\\\n",
       "\t2 & 2 & 122 & 3 & 8.32 & 8.84 & 7.0 & 9.9 & 9.65 & 0 & $\\dots$ \\\\\n",
       "\t3 & 3 & 78 & 1 & 4.44 & 1.21 & 5.09 & 6.52 & 8.67 & 0 & $\\dots$ \\\\\n",
       "\t4 & 4 & 131 & 3 & 5.48 & 7.62 & 3.34 & 5.05 & 5.6 & 0 & $\\dots$ \\\\\n",
       "\t5 & 5 & 95 & 1 & 9.94 & 2.38 & 7.94 & 3.82 & 5.44 & 0 & $\\dots$ \\\\\n",
       "\\end{tabular}\n"
      ],
      "text/plain": [
       "\u001b[1m5×33 DataFrame\u001b[0m\n",
       "\u001b[1m Row \u001b[0m│\u001b[1m i     \u001b[0m\u001b[1m Cost_per_RL \u001b[0m\u001b[1m RL    \u001b[0m\u001b[1m Sojourn1 \u001b[0m\u001b[1m Sojourn2 \u001b[0m\u001b[1m Sojourn3 \u001b[0m\u001b[1m Sojourn4 \u001b[0m\u001b[1m Sojo\u001b[0m ⋯\n",
       "\u001b[1m     \u001b[0m│\u001b[90m Int64 \u001b[0m\u001b[90m Int64       \u001b[0m\u001b[90m Int64 \u001b[0m\u001b[90m Float64  \u001b[0m\u001b[90m Float64  \u001b[0m\u001b[90m Float64  \u001b[0m\u001b[90m Float64  \u001b[0m\u001b[90m Floa\u001b[0m ⋯\n",
       "─────┼──────────────────────────────────────────────────────────────────────────\n",
       "   1 │     1           92      2      4.6       1.34      2.04      0.12       ⋯\n",
       "   2 │     2          122      3      8.32      8.84      7.0       9.9\n",
       "   3 │     3           78      1      4.44      1.21      5.09      6.52\n",
       "   4 │     4          131      3      5.48      7.62      3.34      5.05\n",
       "   5 │     5           95      1      9.94      2.38      7.94      3.82       ⋯\n",
       "\u001b[36m                                                              26 columns omitted\u001b[0m"
      ]
     },
     "execution_count": 194,
     "metadata": {},
     "output_type": "execute_result"
    }
   ],
   "source": [
    "innovations"
   ]
  },
  {
   "cell_type": "code",
   "execution_count": null,
   "id": "c1d2f151-6d55-4671-bae9-820761f6598d",
   "metadata": {},
   "outputs": [],
   "source": []
  },
  {
   "cell_type": "code",
   "execution_count": 215,
   "id": "0f9357e8-8fd0-48f3-b317-36bfae16ac68",
   "metadata": {},
   "outputs": [
    {
     "data": {
      "text/plain": [
       "5×5 Matrix{Float64}:\n",
       "  0.0      8.26087   2.28261   0.326087    0.0\n",
       " 13.4328   0.0      21.6418    2.23881     0.0\n",
       "  2.94118  4.90196   0.0      15.9314      0.735294\n",
       "  0.0      0.0      83.3333    0.0       333.333\n",
       "  0.0      0.0       0.0       5.64334     0.0"
      ]
     },
     "execution_count": 215,
     "metadata": {},
     "output_type": "execute_result"
    }
   ],
   "source": [
    "get_transition_mat(1)./collect(innovations[1,4:8])"
   ]
  },
  {
   "cell_type": "code",
   "execution_count": 214,
   "id": "3b53446a-f03f-43d8-8ddf-c8ba6da14b4c",
   "metadata": {},
   "outputs": [
    {
     "data": {
      "text/plain": [
       "6.666666666666667"
      ]
     },
     "execution_count": 214,
     "metadata": {},
     "output_type": "execute_result"
    }
   ],
   "source": []
  },
  {
   "cell_type": "code",
   "execution_count": 244,
   "id": "4eb51a3c-cead-4d31-9b2f-64dc8c1379d9",
   "metadata": {},
   "outputs": [
    {
     "data": {
      "text/plain": [
       "5×5 Diagonal{Float64, Vector{Float64}}:\n",
       " 1.79753e5      ⋅       ⋅       ⋅       ⋅ \n",
       "  ⋅         1934.58     ⋅       ⋅       ⋅ \n",
       "  ⋅             ⋅    419.098    ⋅       ⋅ \n",
       "  ⋅             ⋅       ⋅     21.9329   ⋅ \n",
       "  ⋅             ⋅       ⋅       ⋅      1.0"
      ]
     },
     "execution_count": 244,
     "metadata": {},
     "output_type": "execute_result"
    }
   ],
   "source": [
    "I+t*Diagonal(eigvals(q))+t^2*Diagonal(eigvals(q).^2)"
   ]
  },
  {
   "cell_type": "code",
   "execution_count": 252,
   "id": "1d2a1c2e-0d5c-469d-8e13-3bee6bd1ec1a",
   "metadata": {},
   "outputs": [
    {
     "data": {
      "text/plain": [
       "5×5 Diagonal{Float64, Vector{Float64}}:\n",
       " 4.51242e-185   ⋅            ⋅            ⋅          ⋅ \n",
       "  ⋅            4.83727e-20   ⋅            ⋅          ⋅ \n",
       "  ⋅             ⋅           7.94298e-10   ⋅          ⋅ \n",
       "  ⋅             ⋅            ⋅           0.0060816   ⋅ \n",
       "  ⋅             ⋅            ⋅            ⋅         1.0"
      ]
     },
     "execution_count": 252,
     "metadata": {},
     "output_type": "execute_result"
    }
   ],
   "source": [
    "exp(50*Diagonal(eigvals(q)))"
   ]
  },
  {
   "cell_type": "code",
   "execution_count": 246,
   "id": "d3245906-97e3-4389-9f0c-02b9311a31d5",
   "metadata": {},
   "outputs": [
    {
     "data": {
      "text/plain": [
       "5-element Vector{Float64}:\n",
       " -8.48942815163113\n",
       " -0.8895070448628717\n",
       " -0.41907123933545865\n",
       " -0.10204975415525477\n",
       " -4.885048420854648e-17"
      ]
     },
     "execution_count": 246,
     "metadata": {},
     "output_type": "execute_result"
    }
   ],
   "source": [
    "eigvals(q)"
   ]
  },
  {
   "cell_type": "code",
   "execution_count": 262,
   "id": "1fdb00e6-1202-401f-9028-2c6adf9ffd9c",
   "metadata": {},
   "outputs": [
    {
     "data": {
      "text/plain": [
       "3.366441526732466e21"
      ]
     },
     "execution_count": 262,
     "metadata": {},
     "output_type": "execute_result"
    }
   ],
   "source": [
    "t=50\n",
    "1+sum((1/factorial(i))*t^i*(8.5)^i for i in 1:20)"
   ]
  },
  {
   "cell_type": "code",
   "execution_count": 263,
   "id": "b86924ee-32d9-4790-9893-bdf9b056e01a",
   "metadata": {},
   "outputs": [
    {
     "data": {
      "text/plain": [
       "3.759713994046786e184"
      ]
     },
     "execution_count": 263,
     "metadata": {},
     "output_type": "execute_result"
    }
   ],
   "source": [
    "\n",
    "exp(8.5*t)"
   ]
  },
  {
   "cell_type": "code",
   "execution_count": null,
   "id": "b6b31173-c101-463b-a671-08b87e87609e",
   "metadata": {},
   "outputs": [],
   "source": []
  }
 ],
 "metadata": {
  "kernelspec": {
   "display_name": "Julia 1.6.3",
   "language": "julia",
   "name": "julia-1.6"
  },
  "language_info": {
   "file_extension": ".jl",
   "mimetype": "application/julia",
   "name": "julia",
   "version": "1.6.3"
  }
 },
 "nbformat": 4,
 "nbformat_minor": 5
}
