{
 "cells": [
  {
   "cell_type": "code",
   "execution_count": 42,
   "id": "0cd38929",
   "metadata": {},
   "outputs": [],
   "source": [
    "using JuMP\n",
    "using Ipopt\n",
    "using CSV\n",
    "using GraphRecipes, Plots\n",
    "using LightGraphs\n",
    "using LinearAlgebra\n",
    "using SparseArrays\n",
    "using DataFrames\n",
    "using Juniper, Alpine, BARON"
   ]
  },
  {
   "cell_type": "code",
   "execution_count": 43,
   "id": "6cd49756",
   "metadata": {},
   "outputs": [
    {
     "data": {
      "text/plain": [
       "5-element Vector{Int64}:\n",
       " 2\n",
       " 3\n",
       " 1\n",
       " 3\n",
       " 1"
      ]
     },
     "execution_count": 43,
     "metadata": {},
     "output_type": "execute_result"
    }
   ],
   "source": [
    "innovations = CSV.File(\"./innovations.csv\",header=1,delim=\",\") |> DataFrame\n",
    "mapki = CSV.File(\"./map-ki.csv\",header=1,delim=\",\") |> DataFrame\n",
    "compromise = CSV.File(\"./compromise.csv\",header=1,delim=\",\") |> DataFrame\n",
    "initial = CSV.File(\"./initial.csv\",header=1,delim=\",\") |> DataFrame\n",
    "ci=innovations[!,2]\n",
    "rl=innovations[!,3]\n"
   ]
  },
  {
   "cell_type": "code",
   "execution_count": 44,
   "id": "050a94c4",
   "metadata": {},
   "outputs": [],
   "source": [
    "#using Pkg;\n",
    "#Pkg.build(\"BARON\")"
   ]
  },
  {
   "cell_type": "code",
   "execution_count": 45,
   "id": "160b339d",
   "metadata": {},
   "outputs": [
    {
     "data": {
      "text/plain": [
       "get_RL_atT (generic function with 1 method)"
      ]
     },
     "execution_count": 45,
     "metadata": {},
     "output_type": "execute_result"
    }
   ],
   "source": [
    "function get_transition_mat(i)\n",
    "    p_mat=reshape(collect(innovations[i,9:33]),5,5)\n",
    "    return p_mat\n",
    "end\n",
    "\n",
    "\n",
    "function get_rate_mat(i)\n",
    "    p_mat=get_transition_mat(i)\n",
    "    q_mat=300*p_mat.*collect(innovations[i,4:8])'\n",
    "    for i in 1:5\n",
    "        q_mat[i,i]=-1*sum(q_mat[i,j] for j in 1:5 if j!=i)\n",
    "    end\n",
    "    return q_mat\n",
    "end\n",
    "\n",
    "function get_IAM_factor(t)\n",
    "    return 1\n",
    "end\n",
    "\n",
    "function calc_tot_co2(x,t)\n",
    "    return 100\n",
    "end\n",
    "\n",
    "function get_RL_atT(i,t)\n",
    "    s0=[0 0 0 0 0 ]\n",
    "    s0[i]=rl[i]\n",
    "    q=get_rate_mat(i)\n",
    "    #rl_t=sum([1 2 3 4 5].*(s0*exp(q*t)))\n",
    "    rl_t=sum([1 2 3 4 5].*(s0*(I+t*q+1/2*t^2*q)))\n",
    "    return rl_t\n",
    "end"
   ]
  },
  {
   "cell_type": "code",
   "execution_count": 46,
   "id": "b9a5bd8e",
   "metadata": {},
   "outputs": [
    {
     "data": {
      "text/plain": [
       "tech_roadmap (generic function with 1 method)"
      ]
     },
     "execution_count": 46,
     "metadata": {},
     "output_type": "execute_result"
    }
   ],
   "source": [
    "function tech_roadmap()\n",
    "    rdmap=Model(BARON.Optimizer)\n",
    "    @variable(rdmap,yk[k=1:nrow(compromise)],Bin)\n",
    "    @variable(rdmap,0 ≤ tk[k=1:nrow(compromise)] ≤ 50)\n",
    "    @variable(rdmap,0 ≤ xk[k=1:nrow(compromise)] ≤ 1)\n",
    "    @variable(rdmap,yi[i=1:nrow(innovations)],Bin)\n",
    "    @variable(rdmap,0 ≤ ti[i=1:nrow(innovations)] ≤ 50)\n",
    "    @variable(rdmap, 1 ≤ s[i=1:nrow(innovations)] ≤ 5)\n",
    "    \n",
    "    @variable(rdmap, co2_2050 ≥ 0)\n",
    "    @variable(rdmap, co2_total ≥ 0)\n",
    "    \n",
    "    @constraint(rdmap, [i=1], sum(yk[k] for k=1:mapki[i,2])==yi[i])\n",
    "    @constraint(rdmap, [i=2:nrow(mapki)], sum(yk[k] for k=mapki[i-1,2]:mapki[i,2])==yi[i])\n",
    "    \n",
    "    @constraint(rdmap, [i=1,k=1:mapki[i,2]], ti[i] ≤ tk[k])\n",
    "    @constraint(rdmap, [i=2:nrow(mapki),k=mapki[i-1,2]:mapki[i,2]], ti[i] ≤ tk[k])\n",
    "    \n",
    "    @constraint(rdmap, [i=1:nrow(mapki)], 50*yi[i] ≥ ti[i])\n",
    "    @constraint(rdmap, [k=1:nrow(compromise)], 50*yk[k] ≥ tk[k])\n",
    "    \n",
    "    @constraint(rdmap, [k=1:nrow(compromise)], yk[k] ≥ xk[k])\n",
    "    @constraint(rdmap, sum(xk[k] for k in 1:nrow(compromise)) ≤ 1) \n",
    "    \n",
    "    \n",
    "    @constraint(rdmap, co2_2050==sum(xk[k]*compromise[k,3]*get_IAM_factor(tk[k]) for k in 1:nrow(compromise))\n",
    "        + (1-sum(xk[k] for k in 1:nrow(compromise)))*initial[1,3])\n",
    "    \n",
    "    @constraint(rdmap, co2_total == calc_tot_co2(xk,tk))\n",
    "    \n",
    "    @constraint(rdmap, [i=1:nrow(innovations)], s[i]==get_RL_atT(i,ti[i]))\n",
    "    \n",
    "    dummy=10\n",
    "    @objective(rdmap,Min,dummy)\n",
    "    \n",
    "    optimize!(rdmap)\n",
    "    return JuMP.value.(yk)  \n",
    "end"
   ]
  },
  {
   "cell_type": "code",
   "execution_count": 47,
   "id": "e971da9a",
   "metadata": {},
   "outputs": [
    {
     "ename": "LoadError",
     "evalue": "IOError: could not spawn `/home/thakker.8/.local/share/baron-lin64/baron: /tmp/jl_EFqeyw/baron_problem.bar`: no such file or directory (ENOENT)",
     "output_type": "error",
     "traceback": [
      "IOError: could not spawn `/home/thakker.8/.local/share/baron-lin64/baron: /tmp/jl_EFqeyw/baron_problem.bar`: no such file or directory (ENOENT)",
      "",
      "Stacktrace:",
      "  [1] _spawn_primitive(file::String, cmd::Cmd, stdio::Vector{Any})",
      "    @ Base ./process.jl:99",
      "  [2] #637",
      "    @ ./process.jl:112 [inlined]",
      "  [3] setup_stdios(f::Base.var\"#637#638\"{Cmd}, stdios::Vector{Any})",
      "    @ Base ./process.jl:196",
      "  [4] _spawn",
      "    @ ./process.jl:111 [inlined]",
      "  [5] run(::Cmd; wait::Bool)",
      "    @ Base ./process.jl:439",
      "  [6] run",
      "    @ ./process.jl:438 [inlined]",
      "  [7] optimize!",
      "    @ ~/.julia/packages/BARON/nEHtU/src/MOI_wrapper.jl:57 [inlined]",
      "  [8] optimize!(b::MathOptInterface.Bridges.LazyBridgeOptimizer{BARON.Optimizer})",
      "    @ MathOptInterface.Bridges ~/.julia/packages/MathOptInterface/YDdD3/src/Bridges/bridge_optimizer.jl:319",
      "  [9] optimize!(m::MathOptInterface.Utilities.CachingOptimizer{MathOptInterface.AbstractOptimizer, MathOptInterface.Utilities.UniversalFallback{MathOptInterface.Utilities.GenericModel{Float64, MathOptInterface.Utilities.ModelFunctionConstraints{Float64}}}})",
      "    @ MathOptInterface.Utilities ~/.julia/packages/MathOptInterface/YDdD3/src/Utilities/cachingoptimizer.jl:252",
      " [10] optimize!(model::Model, optimizer_factory::Nothing; bridge_constraints::Bool, ignore_optimize_hook::Bool, kwargs::Base.Iterators.Pairs{Union{}, Union{}, Tuple{}, NamedTuple{(), Tuple{}}})",
      "    @ JuMP ~/.julia/packages/JuMP/klrjG/src/optimizer_interface.jl:185",
      " [11] optimize! (repeats 2 times)",
      "    @ ~/.julia/packages/JuMP/klrjG/src/optimizer_interface.jl:157 [inlined]",
      " [12] tech_roadmap()",
      "    @ Main ./In[46]:36",
      " [13] top-level scope",
      "    @ In[47]:1",
      " [14] eval",
      "    @ ./boot.jl:360 [inlined]",
      " [15] include_string(mapexpr::typeof(REPL.softscope), mod::Module, code::String, filename::String)",
      "    @ Base ./loading.jl:1116"
     ]
    }
   ],
   "source": [
    "y=tech_roadmap()"
   ]
  },
  {
   "cell_type": "code",
   "execution_count": null,
   "id": "385863c0",
   "metadata": {},
   "outputs": [],
   "source": []
  },
  {
   "cell_type": "code",
   "execution_count": 6,
   "id": "7daab2db",
   "metadata": {},
   "outputs": [
    {
     "data": {
      "text/html": [
       "<div class=\"data-frame\"><p>5 rows × 33 columns (omitted printing of 24 columns)</p><table class=\"data-frame\"><thead><tr><th></th><th>i</th><th>Cost_per_RL</th><th>RL</th><th>Sojourn1</th><th>Sojourn2</th><th>Sojourn3</th><th>Sojourn4</th><th>Sojourn5</th><th>P11</th></tr><tr><th></th><th title=\"Int64\">Int64</th><th title=\"Int64\">Int64</th><th title=\"Int64\">Int64</th><th title=\"Float64\">Float64</th><th title=\"Float64\">Float64</th><th title=\"Float64\">Float64</th><th title=\"Float64\">Float64</th><th title=\"Float64\">Float64</th><th title=\"Int64\">Int64</th></tr></thead><tbody><tr><th>1</th><td>1</td><td>92</td><td>2</td><td>4.6</td><td>1.34</td><td>2.04</td><td>0.12</td><td>8.86</td><td>0</td></tr><tr><th>2</th><td>2</td><td>122</td><td>3</td><td>8.32</td><td>8.84</td><td>0.65</td><td>9.9</td><td>9.65</td><td>0</td></tr><tr><th>3</th><td>3</td><td>78</td><td>1</td><td>4.44</td><td>1.21</td><td>5.09</td><td>6.52</td><td>8.67</td><td>0</td></tr><tr><th>4</th><td>4</td><td>131</td><td>3</td><td>5.48</td><td>7.62</td><td>3.34</td><td>5.05</td><td>5.6</td><td>0</td></tr><tr><th>5</th><td>5</td><td>95</td><td>1</td><td>9.94</td><td>2.38</td><td>7.94</td><td>3.82</td><td>5.44</td><td>0</td></tr></tbody></table></div>"
      ],
      "text/latex": [
       "\\begin{tabular}{r|cccccccccc}\n",
       "\t& i & Cost\\_per\\_RL & RL & Sojourn1 & Sojourn2 & Sojourn3 & Sojourn4 & Sojourn5 & P11 & \\\\\n",
       "\t\\hline\n",
       "\t& Int64 & Int64 & Int64 & Float64 & Float64 & Float64 & Float64 & Float64 & Int64 & \\\\\n",
       "\t\\hline\n",
       "\t1 & 1 & 92 & 2 & 4.6 & 1.34 & 2.04 & 0.12 & 8.86 & 0 & $\\dots$ \\\\\n",
       "\t2 & 2 & 122 & 3 & 8.32 & 8.84 & 0.65 & 9.9 & 9.65 & 0 & $\\dots$ \\\\\n",
       "\t3 & 3 & 78 & 1 & 4.44 & 1.21 & 5.09 & 6.52 & 8.67 & 0 & $\\dots$ \\\\\n",
       "\t4 & 4 & 131 & 3 & 5.48 & 7.62 & 3.34 & 5.05 & 5.6 & 0 & $\\dots$ \\\\\n",
       "\t5 & 5 & 95 & 1 & 9.94 & 2.38 & 7.94 & 3.82 & 5.44 & 0 & $\\dots$ \\\\\n",
       "\\end{tabular}\n"
      ],
      "text/plain": [
       "\u001b[1m5×33 DataFrame\u001b[0m\n",
       "\u001b[1m Row \u001b[0m│\u001b[1m i     \u001b[0m\u001b[1m Cost_per_RL \u001b[0m\u001b[1m RL    \u001b[0m\u001b[1m Sojourn1 \u001b[0m\u001b[1m Sojourn2 \u001b[0m\u001b[1m Sojourn3 \u001b[0m\u001b[1m Sojourn4 \u001b[0m\u001b[1m Sojo\u001b[0m ⋯\n",
       "\u001b[1m     \u001b[0m│\u001b[90m Int64 \u001b[0m\u001b[90m Int64       \u001b[0m\u001b[90m Int64 \u001b[0m\u001b[90m Float64  \u001b[0m\u001b[90m Float64  \u001b[0m\u001b[90m Float64  \u001b[0m\u001b[90m Float64  \u001b[0m\u001b[90m Floa\u001b[0m ⋯\n",
       "─────┼──────────────────────────────────────────────────────────────────────────\n",
       "   1 │     1           92      2      4.6       1.34      2.04      0.12       ⋯\n",
       "   2 │     2          122      3      8.32      8.84      0.65      9.9\n",
       "   3 │     3           78      1      4.44      1.21      5.09      6.52\n",
       "   4 │     4          131      3      5.48      7.62      3.34      5.05\n",
       "   5 │     5           95      1      9.94      2.38      7.94      3.82       ⋯\n",
       "\u001b[36m                                                              26 columns omitted\u001b[0m"
      ]
     },
     "execution_count": 6,
     "metadata": {},
     "output_type": "execute_result"
    }
   ],
   "source": [
    "innovations"
   ]
  },
  {
   "cell_type": "code",
   "execution_count": 7,
   "id": "a60414f8",
   "metadata": {},
   "outputs": [
    {
     "data": {
      "text/plain": [
       "2-element Vector{Vector{Vector{Real}}}:\n",
       " [[0, 0.76, 0.21, 0.03, 0]]\n",
       " [[0, 0.76, 0.21, 0.03, 0]]"
      ]
     },
     "execution_count": 7,
     "metadata": {},
     "output_type": "execute_result"
    }
   ],
   "source": [
    "i=1\n",
    "eDtmc=[[collect(innovations[i,9:13])],[collect(innovations[i,9:13])]]"
   ]
  },
  {
   "cell_type": "code",
   "execution_count": 8,
   "id": "525e6be7",
   "metadata": {},
   "outputs": [
    {
     "data": {
      "text/html": [
       "<p>DataFrameRow (5 columns)</p><div class=\"data-frame\"><table class=\"data-frame\"><thead><tr><th></th><th>P11</th><th>P12</th><th>P13</th><th>P14</th><th>P15</th></tr><tr><th></th><th title=\"Int64\">Int64</th><th title=\"Float64\">Float64</th><th title=\"Float64\">Float64</th><th title=\"Float64\">Float64</th><th title=\"Int64\">Int64</th></tr></thead><tbody><tr><th>1</th><td>0</td><td>0.76</td><td>0.21</td><td>0.03</td><td>0</td></tr></tbody></table></div>"
      ],
      "text/latex": [
       "\\begin{tabular}{r|ccccc}\n",
       "\t& P11 & P12 & P13 & P14 & P15\\\\\n",
       "\t\\hline\n",
       "\t& Int64 & Float64 & Float64 & Float64 & Int64\\\\\n",
       "\t\\hline\n",
       "\t1 & 0 & 0.76 & 0.21 & 0.03 & 0 \\\\\n",
       "\\end{tabular}\n"
      ],
      "text/plain": [
       "\u001b[1mDataFrameRow\u001b[0m\n",
       "\u001b[1m Row \u001b[0m│\u001b[1m P11   \u001b[0m\u001b[1m P12     \u001b[0m\u001b[1m P13     \u001b[0m\u001b[1m P14     \u001b[0m\u001b[1m P15   \u001b[0m\n",
       "\u001b[1m     \u001b[0m│\u001b[90m Int64 \u001b[0m\u001b[90m Float64 \u001b[0m\u001b[90m Float64 \u001b[0m\u001b[90m Float64 \u001b[0m\u001b[90m Int64 \u001b[0m\n",
       "─────┼─────────────────────────────────────────\n",
       "   1 │     0     0.76     0.21     0.03      0"
      ]
     },
     "execution_count": 8,
     "metadata": {},
     "output_type": "execute_result"
    }
   ],
   "source": [
    "innovations[1,9:13]"
   ]
  },
  {
   "cell_type": "code",
   "execution_count": 9,
   "id": "048bd6da",
   "metadata": {},
   "outputs": [
    {
     "data": {
      "text/plain": [
       "5-element Vector{Real}:\n",
       " 0\n",
       " 0.76\n",
       " 0.21\n",
       " 0.03\n",
       " 0"
      ]
     },
     "execution_count": 9,
     "metadata": {},
     "output_type": "execute_result"
    }
   ],
   "source": [
    "collect(innovations[i,9:13])"
   ]
  },
  {
   "cell_type": "code",
   "execution_count": 10,
   "id": "2945163c",
   "metadata": {},
   "outputs": [
    {
     "data": {
      "text/plain": [
       "5×5 Matrix{Float64}:\n",
       " -3.14283    1.31043   1.8324     0.0        0.0\n",
       " 10.0699   -13.413     3.06927    0.27384    0.0\n",
       "  2.54412    2.12355  -8.57967    3.912      0.0\n",
       "  0.70596    0.19602   9.74226  -36.6542    26.01\n",
       "  0.0        0.0       0.62607   15.3742   -16.0002"
      ]
     },
     "execution_count": 10,
     "metadata": {},
     "output_type": "execute_result"
    }
   ],
   "source": [
    "g=get_rate_mat(3)"
   ]
  },
  {
   "cell_type": "code",
   "execution_count": 11,
   "id": "9d70e055",
   "metadata": {},
   "outputs": [
    {
     "data": {
      "image/svg+xml": [
       "<?xml version=\"1.0\" encoding=\"utf-8\"?>\n",
       "<svg xmlns=\"http://www.w3.org/2000/svg\" xmlns:xlink=\"http://www.w3.org/1999/xlink\" width=\"600\" height=\"400\" viewBox=\"0 0 2400 1600\">\n",
       "<defs>\n",
       "  <clipPath id=\"clip810\">\n",
       "    <rect x=\"0\" y=\"0\" width=\"2400\" height=\"1600\"/>\n",
       "  </clipPath>\n",
       "</defs>\n",
       "<path clip-path=\"url(#clip810)\" d=\"\n",
       "M0 1600 L2400 1600 L2400 0 L0 0  Z\n",
       "  \" fill=\"#ffffff\" fill-rule=\"evenodd\" fill-opacity=\"1\"/>\n",
       "<defs>\n",
       "  <clipPath id=\"clip811\">\n",
       "    <rect x=\"480\" y=\"0\" width=\"1681\" height=\"1600\"/>\n",
       "  </clipPath>\n",
       "</defs>\n",
       "<path clip-path=\"url(#clip810)\" d=\"\n",
       "M447.244 1552.76 L1952.76 1552.76 L1952.76 47.2441 L447.244 47.2441  Z\n",
       "  \" fill=\"#ffffff\" fill-rule=\"evenodd\" fill-opacity=\"1\"/>\n",
       "<defs>\n",
       "  <clipPath id=\"clip812\">\n",
       "    <rect x=\"447\" y=\"47\" width=\"1507\" height=\"1507\"/>\n",
       "  </clipPath>\n",
       "</defs>\n",
       "<polyline clip-path=\"url(#clip812)\" style=\"stroke:#000000; stroke-linecap:butt; stroke-linejoin:round; stroke-width:4; stroke-opacity:0.7; fill:none\" points=\"\n",
       "  782.259,678.693 762.62,676.307 743.113,673.951 723.872,671.651 705.028,669.438 686.714,667.341 669.063,665.387 652.207,663.606 636.279,662.026 621.411,660.677 \n",
       "  607.736,659.586 595.387,658.784 584.495,658.298 575.177,658.153 567.405,658.34 561.076,658.83 556.087,659.596 552.334,660.609 549.715,661.841 548.127,663.265 \n",
       "  547.466,664.852 547.63,666.574 548.514,668.403 550.017,670.311 552.034,672.27 554.463,674.252 557.205,676.228 560.167,678.172 563.254,680.055 566.372,681.85 \n",
       "  569.427,683.528 572.326,685.062 574.974,686.424 577.277,687.586 579.142,688.521 580.474,689.199 581.18,689.595 581.166,689.679 580.387,689.442 578.899,688.907 \n",
       "  576.765,688.1 574.05,687.05 570.818,685.782 567.134,684.325 563.063,682.706 558.669,680.95 554.016,679.087 549.17,677.142 544.195,675.142 539.156,673.116 \n",
       "  \n",
       "  \"/>\n",
       "<polyline clip-path=\"url(#clip812)\" style=\"stroke:#000000; stroke-linecap:butt; stroke-linejoin:round; stroke-width:4; stroke-opacity:0.7; fill:none\" points=\"\n",
       "  565.842,703.246 539.156,673.116 579.272,669.845 \n",
       "  \"/>\n",
       "<polyline clip-path=\"url(#clip812)\" style=\"stroke:#000000; stroke-linecap:butt; stroke-linejoin:round; stroke-width:4; stroke-opacity:0.7; fill:none\" points=\"\n",
       "  539.156,673.116 544.195,675.142 \n",
       "  \"/>\n",
       "<polyline clip-path=\"url(#clip812)\" style=\"stroke:#000000; stroke-linecap:butt; stroke-linejoin:round; stroke-width:4; stroke-opacity:0.7; fill:none\" points=\"\n",
       "  662.317,651.752 680.183,652.379 698.016,652.985 715.786,653.551 733.461,654.054 751.008,654.475 768.396,654.793 785.593,654.987 802.568,655.037 819.288,654.922 \n",
       "  835.721,654.622 851.837,654.116 867.603,653.383 882.986,652.403 897.957,651.155 912.481,649.619 926.529,647.774 940.067,645.599 953.065,643.073 965.49,640.177 \n",
       "  977.31,636.89 988.495,633.19 999.011,629.058 1008.83,624.473 1017.91,619.413 1026.23,613.86 1033.79,607.814 1040.62,601.294 1046.75,594.32 1052.21,586.914 \n",
       "  1057.03,579.095 1061.25,570.886 1064.9,562.305 1068,553.374 1070.6,544.114 1072.72,534.544 1074.4,524.686 1075.66,514.561 1076.53,504.188 1077.06,493.588 \n",
       "  1077.27,482.782 1077.2,471.791 1076.87,460.636 1076.31,449.336 1075.57,437.912 1074.67,426.385 1073.64,414.776 1072.51,403.105 1071.32,391.393 1070.1,379.66 \n",
       "  \n",
       "  \"/>\n",
       "<polyline clip-path=\"url(#clip812)\" style=\"stroke:#000000; stroke-linecap:butt; stroke-linejoin:round; stroke-width:4; stroke-opacity:0.7; fill:none\" points=\"\n",
       "  1055.92,417.33 1070.1,379.66 1091.73,413.603 \n",
       "  \"/>\n",
       "<polyline clip-path=\"url(#clip812)\" style=\"stroke:#000000; stroke-linecap:butt; stroke-linejoin:round; stroke-width:4; stroke-opacity:0.7; fill:none\" points=\"\n",
       "  1070.1,379.66 1071.32,391.393 \n",
       "  \"/>\n",
       "<polyline clip-path=\"url(#clip812)\" style=\"stroke:#000000; stroke-linecap:butt; stroke-linejoin:round; stroke-width:4; stroke-opacity:0.7; fill:none\" points=\"\n",
       "  662.317,651.752 662.851,669.794 663.402,687.803 663.991,705.746 664.634,723.589 665.35,741.3 666.158,758.846 667.075,776.194 668.121,793.31 669.312,810.162 \n",
       "  670.669,826.716 672.208,842.939 673.948,858.799 675.907,874.262 678.105,889.295 680.558,903.865 683.285,917.94 686.305,931.485 689.636,944.468 693.295,956.856 \n",
       "  697.303,968.616 701.675,979.715 706.432,990.119 711.591,999.796 717.17,1008.71 723.188,1016.84 729.643,1024.17 736.519,1030.74 743.797,1036.58 751.46,1041.73 \n",
       "  759.487,1046.22 767.862,1050.08 776.567,1053.35 785.582,1056.05 794.889,1058.23 804.471,1059.9 814.308,1061.12 824.384,1061.91 834.679,1062.29 845.174,1062.32 \n",
       "  855.853,1062.01 866.696,1061.41 877.686,1060.54 888.803,1059.44 900.03,1058.15 911.349,1056.68 922.741,1055.09 934.187,1053.4 945.67,1051.63 957.172,1049.84 \n",
       "  \n",
       "  \"/>\n",
       "<polyline clip-path=\"url(#clip812)\" style=\"stroke:#000000; stroke-linecap:butt; stroke-linejoin:round; stroke-width:4; stroke-opacity:0.7; fill:none\" points=\"\n",
       "  918.828,1037.6 957.172,1049.84 924.375,1073.17 \n",
       "  \"/>\n",
       "<polyline clip-path=\"url(#clip812)\" style=\"stroke:#000000; stroke-linecap:butt; stroke-linejoin:round; stroke-width:4; stroke-opacity:0.7; fill:none\" points=\"\n",
       "  957.172,1049.84 945.67,1051.63 \n",
       "  \"/>\n",
       "<polyline clip-path=\"url(#clip812)\" style=\"stroke:#000000; stroke-linecap:butt; stroke-linejoin:round; stroke-width:4; stroke-opacity:0.7; fill:none\" points=\"\n",
       "  1093.83,262.317 1075.96,261.69 1058.13,261.084 1040.36,260.519 1022.69,260.016 1005.14,259.595 987.75,259.277 970.553,259.082 953.578,259.032 936.858,259.147 \n",
       "  920.425,259.447 904.309,259.953 888.544,260.686 873.16,261.666 858.19,262.914 843.665,264.451 829.617,266.296 816.079,268.471 803.081,270.996 790.656,273.892 \n",
       "  778.836,277.18 767.652,280.879 757.136,285.011 747.319,289.597 738.235,294.656 729.913,300.209 722.353,306.256 715.525,312.776 709.397,319.749 703.937,327.156 \n",
       "  699.113,334.974 694.894,343.184 691.247,351.764 688.141,360.695 685.545,369.956 683.425,379.525 681.751,389.383 680.491,399.509 679.612,409.882 679.083,420.481 \n",
       "  678.873,431.287 678.949,442.278 679.279,453.434 679.832,464.734 680.576,476.158 681.479,487.684 682.509,499.293 683.635,510.964 684.824,522.676 686.045,534.409 \n",
       "  \n",
       "  \"/>\n",
       "<polyline clip-path=\"url(#clip812)\" style=\"stroke:#000000; stroke-linecap:butt; stroke-linejoin:round; stroke-width:4; stroke-opacity:0.7; fill:none\" points=\"\n",
       "  700.222,496.739 686.045,534.409 664.415,500.466 \n",
       "  \"/>\n",
       "<polyline clip-path=\"url(#clip812)\" style=\"stroke:#000000; stroke-linecap:butt; stroke-linejoin:round; stroke-width:4; stroke-opacity:0.7; fill:none\" points=\"\n",
       "  686.045,534.409 684.824,522.676 \n",
       "  \"/>\n",
       "<polyline clip-path=\"url(#clip812)\" style=\"stroke:#000000; stroke-linecap:butt; stroke-linejoin:round; stroke-width:4; stroke-opacity:0.7; fill:none\" points=\"\n",
       "  1065.73,379.66 1068.41,360.48 1071.07,341.429 1073.66,322.636 1076.16,304.228 1078.54,286.336 1080.76,269.087 1082.8,252.61 1084.62,237.034 1086.19,222.489 \n",
       "  1087.49,209.101 1088.48,197.001 1089.13,186.317 1089.41,177.162 1089.34,169.508 1088.95,163.258 1088.26,158.311 1087.3,154.569 1086.1,151.931 1084.7,150.299 \n",
       "  1083.12,149.574 1081.39,149.655 1079.55,150.444 1077.61,151.842 1075.62,153.748 1073.6,156.064 1071.58,158.696 1069.59,161.552 1067.66,164.542 1065.82,167.577 \n",
       "  1064.1,170.566 1062.52,173.419 1061.12,176.046 1059.93,178.357 1058.97,180.261 1058.28,181.668 1057.88,182.489 1057.8,182.633 1058.06,182.058 1058.63,180.814 \n",
       "  1059.48,178.963 1060.59,176.564 1061.92,173.679 1063.44,170.369 1065.14,166.693 1066.98,162.714 1068.93,158.492 1070.97,154.087 1073.06,149.561 1075.18,144.974 \n",
       "  \n",
       "  \"/>\n",
       "<polyline clip-path=\"url(#clip812)\" style=\"stroke:#000000; stroke-linecap:butt; stroke-linejoin:round; stroke-width:4; stroke-opacity:0.7; fill:none\" points=\"\n",
       "  1043.73,170.102 1075.18,144.974 1076.41,185.204 \n",
       "  \"/>\n",
       "<polyline clip-path=\"url(#clip812)\" style=\"stroke:#000000; stroke-linecap:butt; stroke-linejoin:round; stroke-width:4; stroke-opacity:0.7; fill:none\" points=\"\n",
       "  1075.18,144.974 1073.06,149.561 \n",
       "  \"/>\n",
       "<polyline clip-path=\"url(#clip812)\" style=\"stroke:#000000; stroke-linecap:butt; stroke-linejoin:round; stroke-width:4; stroke-opacity:0.7; fill:none\" points=\"\n",
       "  1093.83,262.317 1106.07,280.182 1118.28,298.033 1130.42,315.86 1142.44,333.648 1154.31,351.386 1166,369.061 1177.46,386.66 1188.67,404.17 1199.57,421.58 \n",
       "  1210.14,438.875 1220.34,456.044 1230.13,473.074 1239.47,489.953 1248.32,506.667 1256.66,523.204 1264.43,539.552 1271.61,555.697 1278.16,571.627 1284.03,587.33 \n",
       "  1289.2,602.793 1293.63,618.003 1297.27,632.947 1300.09,647.613 1302.05,661.989 1303.12,676.062 1303.3,689.832 1302.62,703.311 1301.13,716.512 1298.85,729.448 \n",
       "  1295.82,742.131 1292.09,754.573 1287.69,766.789 1282.65,778.789 1277.02,790.587 1270.83,802.195 1264.12,813.627 1256.92,824.894 1249.28,836.009 1241.22,846.986 \n",
       "  1232.8,857.836 1224.04,868.572 1214.98,879.207 1205.66,889.754 1196.11,900.225 1186.38,910.632 1176.51,920.989 1166.51,931.308 1156.45,941.602 1146.35,951.883 \n",
       "  \n",
       "  \"/>\n",
       "<polyline clip-path=\"url(#clip812)\" style=\"stroke:#000000; stroke-linecap:butt; stroke-linejoin:round; stroke-width:4; stroke-opacity:0.7; fill:none\" points=\"\n",
       "  1184.42,938.821 1146.35,951.883 1158.74,913.589 \n",
       "  \"/>\n",
       "<polyline clip-path=\"url(#clip812)\" style=\"stroke:#000000; stroke-linecap:butt; stroke-linejoin:round; stroke-width:4; stroke-opacity:0.7; fill:none\" points=\"\n",
       "  1146.35,951.883 1156.45,941.602 \n",
       "  \"/>\n",
       "<polyline clip-path=\"url(#clip812)\" style=\"stroke:#000000; stroke-linecap:butt; stroke-linejoin:round; stroke-width:4; stroke-opacity:0.7; fill:none\" points=\"\n",
       "  1093.83,262.317 1093.83,280.354 1093.85,298.359 1093.91,316.298 1094.03,334.14 1094.23,351.852 1094.52,369.402 1094.93,386.756 1095.47,403.883 1096.17,420.75 \n",
       "  1097.04,437.324 1098.11,453.574 1099.38,469.465 1100.89,484.967 1102.66,500.046 1104.69,514.67 1107.01,528.807 1109.64,542.424 1112.6,555.488 1115.91,567.966 \n",
       "  1119.59,579.828 1123.65,591.039 1128.12,601.568 1133.01,611.381 1138.35,620.447 1144.15,628.735 1150.42,636.243 1157.13,643.004 1164.26,649.05 1171.8,654.413 \n",
       "  1179.73,659.126 1188.03,663.222 1196.67,666.733 1205.64,669.691 1214.93,672.129 1224.5,674.079 1234.34,675.574 1244.43,676.647 1254.76,677.33 1265.3,677.655 \n",
       "  1276.03,677.656 1286.94,677.363 1298,676.811 1309.19,676.031 1320.51,675.056 1331.91,673.919 1343.4,672.651 1354.94,671.286 1366.53,669.856 1378.13,668.394 \n",
       "  \n",
       "  \"/>\n",
       "<polyline clip-path=\"url(#clip812)\" style=\"stroke:#000000; stroke-linecap:butt; stroke-linejoin:round; stroke-width:4; stroke-opacity:0.7; fill:none\" points=\"\n",
       "  1340.16,655.037 1378.13,668.394 1344.66,690.755 \n",
       "  \"/>\n",
       "<polyline clip-path=\"url(#clip812)\" style=\"stroke:#000000; stroke-linecap:butt; stroke-linejoin:round; stroke-width:4; stroke-opacity:0.7; fill:none\" points=\"\n",
       "  1378.13,668.394 1366.53,669.856 \n",
       "  \"/>\n",
       "<polyline clip-path=\"url(#clip812)\" style=\"stroke:#000000; stroke-linecap:butt; stroke-linejoin:round; stroke-width:4; stroke-opacity:0.7; fill:none\" points=\"\n",
       "  1081.48,1069.23 1080.94,1051.18 1080.39,1033.18 1079.8,1015.23 1079.16,997.389 1078.44,979.678 1077.64,962.132 1076.72,944.785 1075.67,927.668 1074.48,910.817 \n",
       "  1073.12,894.263 1071.59,878.039 1069.85,862.18 1067.89,846.717 1065.69,831.684 1063.24,817.113 1060.51,803.039 1057.49,789.494 1054.16,776.51 1050.5,764.122 \n",
       "  1046.49,752.363 1042.12,741.264 1037.36,730.86 1032.2,721.183 1026.62,712.266 1020.61,704.142 1014.15,696.81 1007.27,690.238 999.996,684.394 992.334,679.244 \n",
       "  984.306,674.755 975.931,670.895 967.227,667.63 958.212,664.926 948.904,662.752 939.322,661.074 929.485,659.858 919.409,659.073 909.115,658.684 898.619,658.659 \n",
       "  887.94,658.964 877.097,659.567 866.107,660.435 854.99,661.534 843.763,662.831 832.444,664.294 821.053,665.889 809.606,667.583 798.123,669.344 786.621,671.137 \n",
       "  \n",
       "  \"/>\n",
       "<polyline clip-path=\"url(#clip812)\" style=\"stroke:#000000; stroke-linecap:butt; stroke-linejoin:round; stroke-width:4; stroke-opacity:0.7; fill:none\" points=\"\n",
       "  824.965,683.376 786.621,671.137 819.419,647.806 \n",
       "  \"/>\n",
       "<polyline clip-path=\"url(#clip812)\" style=\"stroke:#000000; stroke-linecap:butt; stroke-linejoin:round; stroke-width:4; stroke-opacity:0.7; fill:none\" points=\"\n",
       "  786.621,671.137 798.123,669.344 \n",
       "  \"/>\n",
       "<polyline clip-path=\"url(#clip812)\" style=\"stroke:#000000; stroke-linecap:butt; stroke-linejoin:round; stroke-width:4; stroke-opacity:0.7; fill:none\" points=\"\n",
       "  1081.48,1069.23 1069.23,1051.36 1057.02,1033.51 1044.89,1015.68 1032.86,997.895 1020.99,980.157 1009.3,962.483 997.841,944.884 986.638,927.373 975.733,909.964 \n",
       "  965.163,892.668 954.966,875.499 945.179,858.469 935.839,841.591 926.983,824.877 918.648,808.339 910.873,791.992 903.693,775.847 897.147,759.916 891.271,744.213 \n",
       "  886.103,728.751 881.68,713.541 878.039,698.596 875.218,683.93 873.254,669.554 872.182,655.482 872.003,641.712 872.68,628.233 874.177,615.031 876.457,602.096 \n",
       "  879.481,589.413 883.213,576.97 887.616,564.755 892.652,552.755 898.284,540.957 904.475,529.348 911.187,517.917 918.384,506.65 926.027,495.534 934.081,484.558 \n",
       "  942.507,473.708 951.268,462.972 960.327,452.336 969.647,441.79 979.191,431.319 988.921,420.911 998.8,410.554 1008.79,400.235 1018.86,389.941 1028.96,379.66 \n",
       "  \n",
       "  \"/>\n",
       "<polyline clip-path=\"url(#clip812)\" style=\"stroke:#000000; stroke-linecap:butt; stroke-linejoin:round; stroke-width:4; stroke-opacity:0.7; fill:none\" points=\"\n",
       "  990.887,392.723 1028.96,379.66 1016.57,417.954 \n",
       "  \"/>\n",
       "<polyline clip-path=\"url(#clip812)\" style=\"stroke:#000000; stroke-linecap:butt; stroke-linejoin:round; stroke-width:4; stroke-opacity:0.7; fill:none\" points=\"\n",
       "  1028.96,379.66 1018.86,389.941 \n",
       "  \"/>\n",
       "<polyline clip-path=\"url(#clip812)\" style=\"stroke:#000000; stroke-linecap:butt; stroke-linejoin:round; stroke-width:4; stroke-opacity:0.7; fill:none\" points=\"\n",
       "  1167.18,982.977 1154.72,998.372 1142.35,1013.67 1130.18,1028.77 1118.28,1043.58 1106.77,1058.01 1095.73,1071.94 1085.27,1085.3 1075.46,1097.97 1066.41,1109.87 \n",
       "  1058.22,1120.89 1050.97,1130.94 1044.77,1139.92 1039.69,1147.74 1035.72,1154.43 1032.77,1160.06 1030.76,1164.7 1029.62,1168.42 1029.27,1171.29 1029.63,1173.39 \n",
       "  1030.62,1174.79 1032.17,1175.56 1034.18,1175.78 1036.6,1175.52 1039.33,1174.84 1042.29,1173.83 1045.42,1172.56 1048.64,1171.08 1051.88,1169.46 1055.06,1167.77 \n",
       "  1058.1,1166.07 1060.94,1164.43 1063.51,1162.92 1065.72,1161.59 1067.5,1160.51 1068.79,1159.75 1069.5,1159.38 1069.57,1159.45 1068.96,1160 1067.72,1161 \n",
       "  1065.91,1162.4 1063.59,1164.16 1060.8,1166.26 1057.62,1168.63 1054.09,1171.25 1050.28,1174.07 1046.24,1177.05 1042.02,1180.16 1037.69,1183.34 1033.31,1186.57 \n",
       "  \n",
       "  \"/>\n",
       "<polyline clip-path=\"url(#clip812)\" style=\"stroke:#000000; stroke-linecap:butt; stroke-linejoin:round; stroke-width:4; stroke-opacity:0.7; fill:none\" points=\"\n",
       "  1072.97,1179.73 1033.31,1186.57 1051.64,1150.74 \n",
       "  \"/>\n",
       "<polyline clip-path=\"url(#clip812)\" style=\"stroke:#000000; stroke-linecap:butt; stroke-linejoin:round; stroke-width:4; stroke-opacity:0.7; fill:none\" points=\"\n",
       "  1033.31,1186.57 1037.69,1183.34 \n",
       "  \"/>\n",
       "<polyline clip-path=\"url(#clip812)\" style=\"stroke:#000000; stroke-linecap:butt; stroke-linejoin:round; stroke-width:4; stroke-opacity:0.7; fill:none\" points=\"\n",
       "  1081.48,1069.23 1099.07,1070.08 1116.63,1070.92 1134.13,1071.71 1151.54,1072.44 1168.82,1073.09 1185.94,1073.64 1202.87,1074.06 1219.58,1074.34 1236.03,1074.45 \n",
       "  1252.2,1074.38 1268.06,1074.1 1283.57,1073.6 1298.69,1072.85 1313.41,1071.83 1327.68,1070.52 1341.48,1068.9 1354.77,1066.95 1367.52,1064.66 1379.71,1061.99 \n",
       "  1391.29,1058.93 1402.24,1055.46 1412.53,1051.56 1422.12,1047.2 1430.98,1042.37 1439.08,1037.04 1446.43,1031.22 1453.05,1024.93 1458.97,1018.19 1464.23,1011.01 \n",
       "  1468.85,1003.42 1472.87,995.438 1476.33,987.086 1479.24,978.384 1481.65,969.352 1483.59,960.011 1485.08,950.381 1486.16,940.484 1486.86,930.339 1487.22,919.968 \n",
       "  1487.25,909.391 1487,898.628 1486.5,887.701 1485.78,876.629 1484.87,865.434 1483.8,854.135 1482.6,842.755 1481.31,831.312 1479.95,819.828 1478.56,808.324 \n",
       "  \n",
       "  \"/>\n",
       "<polyline clip-path=\"url(#clip812)\" style=\"stroke:#000000; stroke-linecap:butt; stroke-linejoin:round; stroke-width:4; stroke-opacity:0.7; fill:none\" points=\"\n",
       "  1465,846.22 1478.56,808.324 1500.74,841.91 \n",
       "  \"/>\n",
       "<polyline clip-path=\"url(#clip812)\" style=\"stroke:#000000; stroke-linecap:butt; stroke-linejoin:round; stroke-width:4; stroke-opacity:0.7; fill:none\" points=\"\n",
       "  1478.56,808.324 1479.95,819.828 \n",
       "  \"/>\n",
       "<polyline clip-path=\"url(#clip812)\" style=\"stroke:#000000; stroke-linecap:butt; stroke-linejoin:round; stroke-width:4; stroke-opacity:0.7; fill:none\" points=\"\n",
       "  1500.58,690.981 1483,677.532 1465.42,664.121 1447.86,650.788 1430.33,637.572 1412.84,624.511 1395.38,611.645 1377.98,599.011 1360.65,586.649 1343.38,574.598 \n",
       "  1326.2,562.897 1309.1,551.584 1292.1,540.699 1275.21,530.28 1258.43,520.365 1241.78,510.995 1225.27,502.207 1208.89,494.041 1192.66,486.536 1176.6,479.729 \n",
       "  1160.7,473.661 1144.99,468.369 1129.46,463.894 1114.12,460.273 1098.99,457.545 1084.07,455.748 1069.37,454.882 1054.87,454.91 1040.57,455.792 1026.45,457.49 \n",
       "  1012.51,459.964 998.738,463.177 985.128,467.09 971.669,471.662 958.352,476.856 945.169,482.633 932.11,488.954 919.167,495.779 906.33,503.071 893.592,510.791 \n",
       "  880.942,518.898 868.373,527.356 855.874,536.124 843.438,545.164 831.055,554.437 818.717,563.904 806.414,573.527 794.138,583.266 781.88,593.083 769.631,602.939 \n",
       "  \n",
       "  \"/>\n",
       "<polyline clip-path=\"url(#clip812)\" style=\"stroke:#000000; stroke-linecap:butt; stroke-linejoin:round; stroke-width:4; stroke-opacity:0.7; fill:none\" points=\"\n",
       "  808.963,594.395 769.631,602.939 786.395,566.347 \n",
       "  \"/>\n",
       "<polyline clip-path=\"url(#clip812)\" style=\"stroke:#000000; stroke-linecap:butt; stroke-linejoin:round; stroke-width:4; stroke-opacity:0.7; fill:none\" points=\"\n",
       "  769.631,602.939 781.88,593.083 \n",
       "  \"/>\n",
       "<polyline clip-path=\"url(#clip812)\" style=\"stroke:#000000; stroke-linecap:butt; stroke-linejoin:round; stroke-width:4; stroke-opacity:0.7; fill:none\" points=\"\n",
       "  1500.58,690.981 1500.58,672.944 1500.56,654.94 1500.5,637 1500.38,619.158 1500.19,601.446 1499.9,583.897 1499.49,566.542 1498.94,549.415 1498.25,532.548 \n",
       "  1497.37,515.974 1496.31,499.725 1495.03,483.833 1493.52,468.331 1491.76,453.252 1489.73,438.628 1487.4,424.491 1484.77,410.875 1481.81,397.811 1478.5,385.332 \n",
       "  1474.83,373.471 1470.76,362.259 1466.3,351.731 1461.4,341.917 1456.06,332.851 1450.26,324.564 1444,317.055 1437.29,310.294 1430.15,304.248 1422.61,298.885 \n",
       "  1414.68,294.172 1406.39,290.076 1397.74,286.566 1388.77,283.608 1379.49,281.17 1369.92,279.219 1360.07,277.724 1349.98,276.651 1339.65,275.968 1329.11,275.643 \n",
       "  1318.38,275.643 1307.48,275.935 1296.42,276.487 1285.22,277.267 1273.91,278.242 1262.5,279.38 1251.01,280.647 1239.47,282.012 1227.89,283.442 1216.28,284.905 \n",
       "  \n",
       "  \"/>\n",
       "<polyline clip-path=\"url(#clip812)\" style=\"stroke:#000000; stroke-linecap:butt; stroke-linejoin:round; stroke-width:4; stroke-opacity:0.7; fill:none\" points=\"\n",
       "  1254.25,298.261 1216.28,284.905 1249.75,262.544 \n",
       "  \"/>\n",
       "<polyline clip-path=\"url(#clip812)\" style=\"stroke:#000000; stroke-linecap:butt; stroke-linejoin:round; stroke-width:4; stroke-opacity:0.7; fill:none\" points=\"\n",
       "  1216.28,284.905 1227.89,283.442 \n",
       "  \"/>\n",
       "<polyline clip-path=\"url(#clip812)\" style=\"stroke:#000000; stroke-linecap:butt; stroke-linejoin:round; stroke-width:4; stroke-opacity:0.7; fill:none\" points=\"\n",
       "  1500.58,690.981 1482.99,690.126 1465.43,689.291 1447.93,688.498 1430.52,687.766 1413.24,687.117 1396.12,686.571 1379.19,686.148 1362.48,685.87 1346.03,685.756 \n",
       "  1329.86,685.828 1314,686.106 1298.5,686.61 1283.37,687.362 1268.65,688.382 1254.38,689.69 1240.58,691.307 1227.29,693.253 1214.54,695.55 1202.35,698.218 \n",
       "  1190.77,701.277 1179.82,704.748 1169.53,708.652 1159.94,713.009 1151.08,717.84 1142.98,723.165 1135.63,728.983 1129.01,735.275 1123.09,742.02 1117.84,749.198 \n",
       "  1113.21,756.788 1109.19,764.769 1105.73,773.121 1102.82,781.824 1100.41,790.856 1098.47,800.197 1096.98,809.826 1095.9,819.724 1095.2,829.868 1094.85,840.239 \n",
       "  1094.81,850.817 1095.06,861.579 1095.56,872.507 1096.28,883.578 1097.19,894.774 1098.27,906.072 1099.46,917.453 1100.76,928.895 1102.11,940.379 1103.5,951.883 \n",
       "  \n",
       "  \"/>\n",
       "<polyline clip-path=\"url(#clip812)\" style=\"stroke:#000000; stroke-linecap:butt; stroke-linejoin:round; stroke-width:4; stroke-opacity:0.7; fill:none\" points=\"\n",
       "  1117.06,913.987 1103.5,951.883 1081.32,918.297 \n",
       "  \"/>\n",
       "<polyline clip-path=\"url(#clip812)\" style=\"stroke:#000000; stroke-linecap:butt; stroke-linejoin:round; stroke-width:4; stroke-opacity:0.7; fill:none\" points=\"\n",
       "  1103.5,951.883 1102.11,940.379 \n",
       "  \"/>\n",
       "<polyline clip-path=\"url(#clip812)\" style=\"stroke:#000000; stroke-linecap:butt; stroke-linejoin:round; stroke-width:4; stroke-opacity:0.7; fill:none\" points=\"\n",
       "  1611.96,649.195 1617.98,644.917 1623.98,640.651 1629.91,636.411 1635.74,632.209 1641.44,628.057 1646.97,623.968 1652.31,619.955 1657.41,616.03 1662.26,612.206 \n",
       "  1666.81,608.496 1671.02,604.912 1674.88,601.466 1678.35,598.171 1681.41,595.033 1684.09,592.054 1686.39,589.238 1688.32,586.587 1689.88,584.104 1691.08,581.793 \n",
       "  1691.93,579.655 1692.44,577.695 1692.62,575.914 1692.47,574.316 1692,572.903 1691.22,571.679 1690.14,570.649 1688.75,569.82 1687.06,569.201 1685.06,568.798 \n",
       "  1682.75,568.621 1680.14,568.675 1677.22,568.97 1674,569.513 1670.47,570.311 1666.64,571.373 1662.5,572.705 1658.06,574.316 1653.32,576.204 1648.3,578.348 \n",
       "  1643.04,580.723 1637.55,583.308 1631.87,586.079 1626.01,589.012 1620,592.084 1613.87,595.273 1607.64,598.555 1601.33,601.906 1594.97,605.304 1588.59,608.725 \n",
       "  \n",
       "  \"/>\n",
       "<polyline clip-path=\"url(#clip812)\" style=\"stroke:#000000; stroke-linecap:butt; stroke-linejoin:round; stroke-width:4; stroke-opacity:0.7; fill:none\" points=\"\n",
       "  1628.82,607.581 1588.59,608.725 1611.81,575.852 \n",
       "  \"/>\n",
       "<polyline clip-path=\"url(#clip812)\" style=\"stroke:#000000; stroke-linecap:butt; stroke-linejoin:round; stroke-width:4; stroke-opacity:0.7; fill:none\" points=\"\n",
       "  1588.59,608.725 1594.97,605.304 \n",
       "  \"/>\n",
       "<polyline clip-path=\"url(#clip812)\" style=\"stroke:#000000; stroke-linecap:butt; stroke-linejoin:round; stroke-width:4; stroke-opacity:0.7; fill:none\" points=\"\n",
       "  1500.58,690.981 1494.02,709.45 1487.49,727.897 1481.02,746.298 1474.64,764.632 1468.39,782.876 1462.3,801.007 1456.4,819.003 1450.72,836.842 1445.3,854.5 \n",
       "  1440.16,871.956 1435.33,889.186 1430.86,906.169 1426.76,922.881 1423.08,939.301 1419.84,955.405 1417.07,971.172 1414.81,986.578 1413.09,1001.6 1411.94,1016.22 \n",
       "  1411.39,1030.41 1411.47,1044.15 1412.22,1057.42 1413.66,1070.19 1415.84,1082.44 1418.77,1094.15 1422.45,1105.33 1426.87,1115.98 1431.99,1126.14 1437.76,1135.83 \n",
       "  1444.18,1145.07 1451.19,1153.88 1458.77,1162.28 1466.89,1170.3 1475.52,1177.96 1484.62,1185.29 1494.17,1192.29 1504.12,1199.01 1514.46,1205.45 1525.15,1211.65 \n",
       "  1536.15,1217.62 1547.43,1223.39 1558.97,1228.98 1570.73,1234.41 1582.69,1239.7 1594.79,1244.89 1607.03,1249.98 1619.36,1255.01 1631.76,1259.99 1644.18,1264.94 \n",
       "  \n",
       "  \"/>\n",
       "<polyline clip-path=\"url(#clip812)\" style=\"stroke:#000000; stroke-linecap:butt; stroke-linejoin:round; stroke-width:4; stroke-opacity:0.7; fill:none\" points=\"\n",
       "  1617.42,1234.88 1644.18,1264.94 1604.08,1268.32 \n",
       "  \"/>\n",
       "<polyline clip-path=\"url(#clip812)\" style=\"stroke:#000000; stroke-linecap:butt; stroke-linejoin:round; stroke-width:4; stroke-opacity:0.7; fill:none\" points=\"\n",
       "  1644.18,1264.94 1631.76,1259.99 \n",
       "  \"/>\n",
       "<polyline clip-path=\"url(#clip812)\" style=\"stroke:#000000; stroke-linecap:butt; stroke-linejoin:round; stroke-width:4; stroke-opacity:0.7; fill:none\" points=\"\n",
       "  1737.68,1337.68 1728.01,1320.22 1718.33,1302.8 1708.65,1285.46 1698.95,1268.23 1689.24,1251.16 1679.5,1234.28 1669.75,1217.63 1659.96,1201.25 1650.15,1185.18 \n",
       "  1640.3,1169.46 1630.4,1154.13 1620.47,1139.21 1610.49,1124.77 1600.46,1110.82 1590.37,1097.41 1580.22,1084.59 1570.01,1072.38 1559.73,1060.83 1549.38,1049.97 \n",
       "  1538.96,1039.84 1528.45,1030.49 1517.87,1021.95 1507.2,1014.26 1496.43,1007.45 1485.57,1001.57 1474.62,996.618 1463.58,992.551 1452.45,989.333 1441.23,986.926 \n",
       "  1429.94,985.291 1418.57,984.389 1407.13,984.182 1395.63,984.632 1384.06,985.699 1372.43,987.345 1360.75,989.532 1349.01,992.22 1337.23,995.372 1325.4,998.948 \n",
       "  1313.54,1002.91 1301.64,1007.22 1289.71,1011.84 1277.75,1016.73 1265.76,1021.85 1253.76,1027.16 1241.74,1032.63 1229.71,1038.21 1217.67,1043.87 1205.63,1049.57 \n",
       "  \n",
       "  \"/>\n",
       "<polyline clip-path=\"url(#clip812)\" style=\"stroke:#000000; stroke-linecap:butt; stroke-linejoin:round; stroke-width:4; stroke-opacity:0.7; fill:none\" points=\"\n",
       "  1245.87,1050.44 1205.63,1049.57 1230.47,1017.9 \n",
       "  \"/>\n",
       "<polyline clip-path=\"url(#clip812)\" style=\"stroke:#000000; stroke-linecap:butt; stroke-linejoin:round; stroke-width:4; stroke-opacity:0.7; fill:none\" points=\"\n",
       "  1205.63,1049.57 1217.67,1043.87 \n",
       "  \"/>\n",
       "<polyline clip-path=\"url(#clip812)\" style=\"stroke:#000000; stroke-linecap:butt; stroke-linejoin:round; stroke-width:4; stroke-opacity:0.7; fill:none\" points=\"\n",
       "  1737.68,1337.68 1744.25,1319.21 1750.78,1300.77 1757.25,1282.37 1763.63,1264.03 1769.87,1245.79 1775.96,1227.66 1781.86,1209.66 1787.54,1191.82 1792.97,1174.16 \n",
       "  1798.11,1156.71 1802.93,1139.48 1807.41,1122.49 1811.5,1105.78 1815.19,1089.36 1818.43,1073.26 1821.2,1057.49 1823.46,1042.09 1825.18,1027.06 1826.33,1012.44 \n",
       "  1826.88,998.255 1826.8,984.515 1826.05,971.249 1824.6,958.478 1822.43,946.224 1819.5,934.511 1815.81,923.337 1811.4,912.681 1806.28,902.521 1800.5,892.833 \n",
       "  1794.09,883.596 1787.08,874.787 1779.5,866.383 1771.38,858.362 1762.75,850.702 1753.65,843.379 1744.1,836.371 1734.14,829.657 1723.81,823.212 1713.12,817.016 \n",
       "  1702.12,811.044 1690.83,805.276 1679.29,799.687 1667.53,794.256 1655.58,788.96 1643.47,783.777 1631.24,778.684 1618.91,773.658 1606.51,768.678 1594.09,763.72 \n",
       "  \n",
       "  \"/>\n",
       "<polyline clip-path=\"url(#clip812)\" style=\"stroke:#000000; stroke-linecap:butt; stroke-linejoin:round; stroke-width:4; stroke-opacity:0.7; fill:none\" points=\"\n",
       "  1620.85,793.78 1594.09,763.72 1634.19,760.343 \n",
       "  \"/>\n",
       "<polyline clip-path=\"url(#clip812)\" style=\"stroke:#000000; stroke-linecap:butt; stroke-linejoin:round; stroke-width:4; stroke-opacity:0.7; fill:none\" points=\"\n",
       "  1594.09,763.72 1606.51,768.678 \n",
       "  \"/>\n",
       "<polyline clip-path=\"url(#clip812)\" style=\"stroke:#000000; stroke-linecap:butt; stroke-linejoin:round; stroke-width:4; stroke-opacity:0.7; fill:none\" points=\"\n",
       "  1809.01,1448.82 1813.99,1453.18 1818.95,1457.51 1823.88,1461.79 1828.76,1465.99 1833.58,1470.1 1838.32,1474.09 1842.97,1477.93 1847.51,1481.61 1851.93,1485.08 \n",
       "  1856.21,1488.34 1860.34,1491.35 1864.29,1494.1 1868.06,1496.55 1871.64,1498.71 1875.02,1500.57 1878.2,1502.15 1881.17,1503.44 1883.93,1504.44 1886.46,1505.17 \n",
       "  1888.78,1505.62 1890.87,1505.79 1892.72,1505.7 1894.34,1505.33 1895.72,1504.7 1896.85,1503.82 1897.72,1502.67 1898.33,1501.25 1898.65,1499.57 1898.69,1497.62 \n",
       "  1898.43,1495.39 1897.85,1492.88 1896.95,1490.09 1895.72,1487.02 1894.14,1483.66 1892.2,1480.01 1889.89,1476.06 1887.2,1471.81 1884.14,1467.27 1880.73,1462.46 \n",
       "  1876.99,1457.41 1872.98,1452.13 1868.71,1446.66 1864.21,1441.01 1859.53,1435.22 1854.69,1429.3 1849.72,1423.29 1844.66,1417.2 1839.53,1411.06 1834.37,1404.9 \n",
       "  \n",
       "  \"/>\n",
       "<polyline clip-path=\"url(#clip812)\" style=\"stroke:#000000; stroke-linecap:butt; stroke-linejoin:round; stroke-width:4; stroke-opacity:0.7; fill:none\" points=\"\n",
       "  1843.68,1444.06 1834.37,1404.9 1871.28,1420.95 \n",
       "  \"/>\n",
       "<polyline clip-path=\"url(#clip812)\" style=\"stroke:#000000; stroke-linecap:butt; stroke-linejoin:round; stroke-width:4; stroke-opacity:0.7; fill:none\" points=\"\n",
       "  1834.37,1404.9 1839.53,1411.06 \n",
       "  \"/>\n",
       "<path clip-path=\"url(#clip812)\" d=\"\n",
       "M483.576 708.402 L620.492 708.402 L620.492 636.137 L483.576 636.137 L483.576 708.402 L483.576 708.402  Z\n",
       "  \" fill=\"#ffffff\" fill-rule=\"evenodd\" fill-opacity=\"1\"/>\n",
       "<polyline clip-path=\"url(#clip812)\" style=\"stroke:#a9a9a9; stroke-linecap:butt; stroke-linejoin:round; stroke-width:0; stroke-opacity:0.7; fill:none\" points=\"\n",
       "  483.576,708.402 620.492,708.402 620.492,636.137 483.576,636.137 483.576,708.402 \n",
       "  \"/>\n",
       "<path clip-path=\"url(#clip812)\" d=\"\n",
       "M967.785 652.832 L1076.55 652.832 L1076.55 580.567 L967.785 580.567 L967.785 652.832 L967.785 652.832  Z\n",
       "  \" fill=\"#ffffff\" fill-rule=\"evenodd\" fill-opacity=\"1\"/>\n",
       "<polyline clip-path=\"url(#clip812)\" style=\"stroke:#a9a9a9; stroke-linecap:butt; stroke-linejoin:round; stroke-width:0; stroke-opacity:0.7; fill:none\" points=\"\n",
       "  967.785,652.832 1076.55,652.832 1076.55,580.567 967.785,580.567 967.785,652.832 \n",
       "  \"/>\n",
       "<path clip-path=\"url(#clip812)\" d=\"\n",
       "M665.739 1049.01 L774.508 1049.01 L774.508 976.743 L665.739 976.743 L665.739 1049.01 L665.739 1049.01  Z\n",
       "  \" fill=\"#ffffff\" fill-rule=\"evenodd\" fill-opacity=\"1\"/>\n",
       "<polyline clip-path=\"url(#clip812)\" style=\"stroke:#a9a9a9; stroke-linecap:butt; stroke-linejoin:round; stroke-width:0; stroke-opacity:0.7; fill:none\" points=\"\n",
       "  665.739,1049.01 774.508,1049.01 774.508,976.743 665.739,976.743 665.739,1049.01 \n",
       "  \"/>\n",
       "<path clip-path=\"url(#clip812)\" d=\"\n",
       "M665.519 333.502 L802.435 333.502 L802.435 261.238 L665.519 261.238 L665.519 333.502 L665.519 333.502  Z\n",
       "  \" fill=\"#ffffff\" fill-rule=\"evenodd\" fill-opacity=\"1\"/>\n",
       "<polyline clip-path=\"url(#clip812)\" style=\"stroke:#a9a9a9; stroke-linecap:butt; stroke-linejoin:round; stroke-width:0; stroke-opacity:0.7; fill:none\" points=\"\n",
       "  665.519,333.502 802.435,333.502 802.435,261.238 665.519,261.238 665.519,333.502 \n",
       "  \"/>\n",
       "<path clip-path=\"url(#clip812)\" d=\"\n",
       "M993.785 189.88 L1157.46 189.88 L1157.46 117.616 L993.785 117.616 L993.785 189.88 L993.785 189.88  Z\n",
       "  \" fill=\"#ffffff\" fill-rule=\"evenodd\" fill-opacity=\"1\"/>\n",
       "<polyline clip-path=\"url(#clip812)\" style=\"stroke:#a9a9a9; stroke-linecap:butt; stroke-linejoin:round; stroke-width:0; stroke-opacity:0.7; fill:none\" points=\"\n",
       "  993.785,189.88 1157.46,189.88 1157.46,117.616 993.785,117.616 993.785,189.88 \n",
       "  \"/>\n",
       "<path clip-path=\"url(#clip812)\" d=\"\n",
       "M1248.32 705.196 L1357.08 705.196 L1357.08 632.932 L1248.32 632.932 L1248.32 705.196 L1248.32 705.196  Z\n",
       "  \" fill=\"#ffffff\" fill-rule=\"evenodd\" fill-opacity=\"1\"/>\n",
       "<polyline clip-path=\"url(#clip812)\" style=\"stroke:#a9a9a9; stroke-linecap:butt; stroke-linejoin:round; stroke-width:0; stroke-opacity:0.7; fill:none\" points=\"\n",
       "  1248.32,705.196 1357.08,705.196 1357.08,632.932 1248.32,632.932 1248.32,705.196 \n",
       "  \"/>\n",
       "<path clip-path=\"url(#clip812)\" d=\"\n",
       "M1072.73 660.822 L1209.65 660.822 L1209.65 588.558 L1072.73 588.558 L1072.73 660.822 L1072.73 660.822  Z\n",
       "  \" fill=\"#ffffff\" fill-rule=\"evenodd\" fill-opacity=\"1\"/>\n",
       "<polyline clip-path=\"url(#clip812)\" style=\"stroke:#a9a9a9; stroke-linecap:butt; stroke-linejoin:round; stroke-width:0; stroke-opacity:0.7; fill:none\" points=\"\n",
       "  1072.73,660.822 1209.65,660.822 1209.65,588.558 1072.73,588.558 1072.73,660.822 \n",
       "  \"/>\n",
       "<path clip-path=\"url(#clip812)\" d=\"\n",
       "M969.286 744.236 L1078.05 744.236 L1078.05 671.971 L969.286 671.971 L969.286 744.236 L969.286 744.236  Z\n",
       "  \" fill=\"#ffffff\" fill-rule=\"evenodd\" fill-opacity=\"1\"/>\n",
       "<polyline clip-path=\"url(#clip812)\" style=\"stroke:#a9a9a9; stroke-linecap:butt; stroke-linejoin:round; stroke-width:0; stroke-opacity:0.7; fill:none\" points=\"\n",
       "  969.286,744.236 1078.05,744.236 1078.05,671.971 969.286,671.971 969.286,744.236 \n",
       "  \"/>\n",
       "<path clip-path=\"url(#clip812)\" d=\"\n",
       "M818.22 698.612 L926.989 698.612 L926.989 626.347 L818.22 626.347 L818.22 698.612 L818.22 698.612  Z\n",
       "  \" fill=\"#ffffff\" fill-rule=\"evenodd\" fill-opacity=\"1\"/>\n",
       "<polyline clip-path=\"url(#clip812)\" style=\"stroke:#a9a9a9; stroke-linecap:butt; stroke-linejoin:round; stroke-width:0; stroke-opacity:0.7; fill:none\" points=\"\n",
       "  818.22,698.612 926.989,698.612 926.989,626.347 818.22,626.347 818.22,698.612 \n",
       "  \"/>\n",
       "<path clip-path=\"url(#clip812)\" d=\"\n",
       "M970.867 1210.98 L1107.78 1210.98 L1107.78 1138.71 L970.867 1138.71 L970.867 1210.98 L970.867 1210.98  Z\n",
       "  \" fill=\"#ffffff\" fill-rule=\"evenodd\" fill-opacity=\"1\"/>\n",
       "<polyline clip-path=\"url(#clip812)\" style=\"stroke:#a9a9a9; stroke-linecap:butt; stroke-linejoin:round; stroke-width:0; stroke-opacity:0.7; fill:none\" points=\"\n",
       "  970.867,1210.98 1107.78,1210.98 1107.78,1138.71 970.867,1138.71 970.867,1210.98 \n",
       "  \"/>\n",
       "<path clip-path=\"url(#clip812)\" d=\"\n",
       "M1380.74 1075.9 L1489.51 1075.9 L1489.51 1003.64 L1380.74 1003.64 L1380.74 1075.9 L1380.74 1075.9  Z\n",
       "  \" fill=\"#ffffff\" fill-rule=\"evenodd\" fill-opacity=\"1\"/>\n",
       "<polyline clip-path=\"url(#clip812)\" style=\"stroke:#a9a9a9; stroke-linecap:butt; stroke-linejoin:round; stroke-width:0; stroke-opacity:0.7; fill:none\" points=\"\n",
       "  1380.74,1075.9 1489.51,1075.9 1489.51,1003.64 1380.74,1003.64 1380.74,1075.9 \n",
       "  \"/>\n",
       "<path clip-path=\"url(#clip812)\" d=\"\n",
       "M1023.05 492.661 L1159.96 492.661 L1159.96 420.396 L1023.05 420.396 L1023.05 492.661 L1023.05 492.661  Z\n",
       "  \" fill=\"#ffffff\" fill-rule=\"evenodd\" fill-opacity=\"1\"/>\n",
       "<polyline clip-path=\"url(#clip812)\" style=\"stroke:#a9a9a9; stroke-linecap:butt; stroke-linejoin:round; stroke-width:0; stroke-opacity:0.7; fill:none\" points=\"\n",
       "  1023.05,492.661 1159.96,492.661 1159.96,420.396 1023.05,420.396 1023.05,492.661 \n",
       "  \"/>\n",
       "<path clip-path=\"url(#clip812)\" d=\"\n",
       "M1398.84 364.741 L1507.61 364.741 L1507.61 292.476 L1398.84 292.476 L1398.84 364.741 L1398.84 364.741  Z\n",
       "  \" fill=\"#ffffff\" fill-rule=\"evenodd\" fill-opacity=\"1\"/>\n",
       "<polyline clip-path=\"url(#clip812)\" style=\"stroke:#a9a9a9; stroke-linecap:butt; stroke-linejoin:round; stroke-width:0; stroke-opacity:0.7; fill:none\" points=\"\n",
       "  1398.84,364.741 1507.61,364.741 1507.61,292.476 1398.84,292.476 1398.84,364.741 \n",
       "  \"/>\n",
       "<path clip-path=\"url(#clip812)\" d=\"\n",
       "M1092.55 756.572 L1201.32 756.572 L1201.32 684.307 L1092.55 684.307 L1092.55 756.572 L1092.55 756.572  Z\n",
       "  \" fill=\"#ffffff\" fill-rule=\"evenodd\" fill-opacity=\"1\"/>\n",
       "<polyline clip-path=\"url(#clip812)\" style=\"stroke:#a9a9a9; stroke-linecap:butt; stroke-linejoin:round; stroke-width:0; stroke-opacity:0.7; fill:none\" points=\"\n",
       "  1092.55,756.572 1201.32,756.572 1201.32,684.307 1092.55,684.307 1092.55,756.572 \n",
       "  \"/>\n",
       "<path clip-path=\"url(#clip812)\" d=\"\n",
       "M1610.16 609.035 L1773.84 609.035 L1773.84 536.771 L1610.16 536.771 L1610.16 609.035 L1610.16 609.035  Z\n",
       "  \" fill=\"#ffffff\" fill-rule=\"evenodd\" fill-opacity=\"1\"/>\n",
       "<polyline clip-path=\"url(#clip812)\" style=\"stroke:#a9a9a9; stroke-linecap:butt; stroke-linejoin:round; stroke-width:0; stroke-opacity:0.7; fill:none\" points=\"\n",
       "  1610.16,609.035 1773.84,609.035 1773.84,536.771 1610.16,536.771 1610.16,609.035 \n",
       "  \"/>\n",
       "<path clip-path=\"url(#clip812)\" d=\"\n",
       "M1348.75 1124.5 L1485.66 1124.5 L1485.66 1052.23 L1348.75 1052.23 L1348.75 1124.5 L1348.75 1124.5  Z\n",
       "  \" fill=\"#ffffff\" fill-rule=\"evenodd\" fill-opacity=\"1\"/>\n",
       "<polyline clip-path=\"url(#clip812)\" style=\"stroke:#a9a9a9; stroke-linecap:butt; stroke-linejoin:round; stroke-width:0; stroke-opacity:0.7; fill:none\" points=\"\n",
       "  1348.75,1124.5 1485.66,1124.5 1485.66,1052.23 1348.75,1052.23 1348.75,1124.5 \n",
       "  \"/>\n",
       "<path clip-path=\"url(#clip812)\" d=\"\n",
       "M1422.56 1040.53 L1559.47 1040.53 L1559.47 968.263 L1422.56 968.263 L1422.56 1040.53 L1422.56 1040.53  Z\n",
       "  \" fill=\"#ffffff\" fill-rule=\"evenodd\" fill-opacity=\"1\"/>\n",
       "<polyline clip-path=\"url(#clip812)\" style=\"stroke:#a9a9a9; stroke-linecap:butt; stroke-linejoin:round; stroke-width:0; stroke-opacity:0.7; fill:none\" points=\"\n",
       "  1422.56,1040.53 1559.47,1040.53 1559.47,968.263 1422.56,968.263 1422.56,1040.53 \n",
       "  \"/>\n",
       "<path clip-path=\"url(#clip812)\" d=\"\n",
       "M1752.61 976.431 L1889.52 976.431 L1889.52 904.167 L1752.61 904.167 L1752.61 976.431 L1752.61 976.431  Z\n",
       "  \" fill=\"#ffffff\" fill-rule=\"evenodd\" fill-opacity=\"1\"/>\n",
       "<polyline clip-path=\"url(#clip812)\" style=\"stroke:#a9a9a9; stroke-linecap:butt; stroke-linejoin:round; stroke-width:0; stroke-opacity:0.7; fill:none\" points=\"\n",
       "  1752.61,976.431 1889.52,976.431 1889.52,904.167 1752.61,904.167 1752.61,976.431 \n",
       "  \"/>\n",
       "<path clip-path=\"url(#clip812)\" d=\"\n",
       "M1813.88 1540.84 L1977.56 1540.84 L1977.56 1468.57 L1813.88 1468.57 L1813.88 1540.84 L1813.88 1540.84  Z\n",
       "  \" fill=\"#ffffff\" fill-rule=\"evenodd\" fill-opacity=\"1\"/>\n",
       "<polyline clip-path=\"url(#clip812)\" style=\"stroke:#a9a9a9; stroke-linecap:butt; stroke-linejoin:round; stroke-width:0; stroke-opacity:0.7; fill:none\" points=\"\n",
       "  1813.88,1540.84 1977.56,1540.84 1977.56,1468.57 1813.88,1468.57 1813.88,1540.84 \n",
       "  \"/>\n",
       "<path clip-path=\"url(#clip812)\" d=\"\n",
       "M797.813 651.752 L730.065 534.409 L594.569 534.409 L526.821 651.752 L594.569 769.095 L730.065 769.095 L797.813 651.752 L797.813 651.752  Z\n",
       "  \" fill=\"#ffff00\" fill-rule=\"evenodd\" fill-opacity=\"1\"/>\n",
       "<polyline clip-path=\"url(#clip812)\" style=\"stroke:#000000; stroke-linecap:butt; stroke-linejoin:round; stroke-width:4; stroke-opacity:1; fill:none\" points=\"\n",
       "  797.813,651.752 730.065,534.409 594.569,534.409 526.821,651.752 594.569,769.095 730.065,769.095 797.813,651.752 \n",
       "  \"/>\n",
       "<path clip-path=\"url(#clip812)\" d=\"\n",
       "M1229.33 262.317 L1161.58 144.974 L1026.08 144.974 L958.333 262.317 L1026.08 379.66 L1161.58 379.66 L1229.33 262.317 L1229.33 262.317  Z\n",
       "  \" fill=\"#ffff00\" fill-rule=\"evenodd\" fill-opacity=\"1\"/>\n",
       "<polyline clip-path=\"url(#clip812)\" style=\"stroke:#000000; stroke-linecap:butt; stroke-linejoin:round; stroke-width:4; stroke-opacity:1; fill:none\" points=\"\n",
       "  1229.33,262.317 1161.58,144.974 1026.08,144.974 958.333,262.317 1026.08,379.66 1161.58,379.66 1229.33,262.317 \n",
       "  \"/>\n",
       "<path clip-path=\"url(#clip812)\" d=\"\n",
       "M1216.97 1069.23 L1149.22 951.883 L1013.73 951.883 L945.98 1069.23 L1013.73 1186.57 L1149.22 1186.57 L1216.97 1069.23 L1216.97 1069.23  Z\n",
       "  \" fill=\"#ffff00\" fill-rule=\"evenodd\" fill-opacity=\"1\"/>\n",
       "<polyline clip-path=\"url(#clip812)\" style=\"stroke:#000000; stroke-linecap:butt; stroke-linejoin:round; stroke-width:4; stroke-opacity:1; fill:none\" points=\"\n",
       "  1216.97,1069.23 1149.22,951.883 1013.73,951.883 945.98,1069.23 1013.73,1186.57 1149.22,1186.57 1216.97,1069.23 \n",
       "  \"/>\n",
       "<path clip-path=\"url(#clip812)\" d=\"\n",
       "M1636.08 690.981 L1568.33 573.638 L1432.84 573.638 L1365.09 690.981 L1432.84 808.324 L1568.33 808.324 L1636.08 690.981 L1636.08 690.981  Z\n",
       "  \" fill=\"#ffff00\" fill-rule=\"evenodd\" fill-opacity=\"1\"/>\n",
       "<polyline clip-path=\"url(#clip812)\" style=\"stroke:#000000; stroke-linecap:butt; stroke-linejoin:round; stroke-width:4; stroke-opacity:1; fill:none\" points=\"\n",
       "  1636.08,690.981 1568.33,573.638 1432.84,573.638 1365.09,690.981 1432.84,808.324 1568.33,808.324 1636.08,690.981 \n",
       "  \"/>\n",
       "<path clip-path=\"url(#clip812)\" d=\"\n",
       "M1873.18 1337.68 L1805.43 1220.34 L1669.93 1220.34 L1602.19 1337.68 L1669.93 1455.03 L1805.43 1455.03 L1873.18 1337.68 L1873.18 1337.68  Z\n",
       "  \" fill=\"#ffff00\" fill-rule=\"evenodd\" fill-opacity=\"1\"/>\n",
       "<polyline clip-path=\"url(#clip812)\" style=\"stroke:#000000; stroke-linecap:butt; stroke-linejoin:round; stroke-width:4; stroke-opacity:1; fill:none\" points=\"\n",
       "  1873.18,1337.68 1805.43,1220.34 1669.93,1220.34 1602.19,1337.68 1669.93,1455.03 1805.43,1455.03 1873.18,1337.68 \n",
       "  \"/>\n",
       "<path clip-path=\"url(#clip812)\" d=\"M662.317 653.752 L660.585 652.752 L660.585 650.752 L662.317 649.752 L664.049 650.752 L664.049 652.752 Z\" fill=\"#ffff00\" fill-rule=\"evenodd\" fill-opacity=\"1\" stroke=\"#000000\" stroke-opacity=\"1\" stroke-width=\"3.2\"/>\n",
       "<path clip-path=\"url(#clip812)\" d=\"M1093.83 264.317 L1092.1 263.317 L1092.1 261.317 L1093.83 260.317 L1095.56 261.317 L1095.56 263.317 Z\" fill=\"#ffff00\" fill-rule=\"evenodd\" fill-opacity=\"1\" stroke=\"#000000\" stroke-opacity=\"1\" stroke-width=\"3.2\"/>\n",
       "<path clip-path=\"url(#clip812)\" d=\"M1081.48 1071.23 L1079.74 1070.23 L1079.74 1068.23 L1081.48 1067.23 L1083.21 1068.23 L1083.21 1070.23 Z\" fill=\"#ffff00\" fill-rule=\"evenodd\" fill-opacity=\"1\" stroke=\"#000000\" stroke-opacity=\"1\" stroke-width=\"3.2\"/>\n",
       "<path clip-path=\"url(#clip812)\" d=\"M1500.58 692.981 L1498.85 691.981 L1498.85 689.981 L1500.58 688.981 L1502.32 689.981 L1502.32 691.981 Z\" fill=\"#ffff00\" fill-rule=\"evenodd\" fill-opacity=\"1\" stroke=\"#000000\" stroke-opacity=\"1\" stroke-width=\"3.2\"/>\n",
       "<path clip-path=\"url(#clip812)\" d=\"M1737.68 1339.68 L1735.95 1338.68 L1735.95 1336.68 L1737.68 1335.68 L1739.41 1336.68 L1739.41 1338.68 Z\" fill=\"#ffff00\" fill-rule=\"evenodd\" fill-opacity=\"1\" stroke=\"#000000\" stroke-opacity=\"1\" stroke-width=\"3.2\"/>\n",
       "<path clip-path=\"url(#clip810)\" d=\"M514.492 674.366 L525.409 674.366 L525.409 677.688 L514.492 677.688 L514.492 674.366 Z\" fill=\"#000000\" fill-rule=\"evenodd\" fill-opacity=\"1\" /><path clip-path=\"url(#clip810)\" d=\"M544.266 671.085 Q547.203 671.713 548.844 673.698 Q550.505 675.683 550.505 678.599 Q550.505 683.075 547.426 685.526 Q544.347 687.977 538.676 687.977 Q536.772 687.977 534.747 687.592 Q532.741 687.228 530.594 686.478 L530.594 682.529 Q532.296 683.521 534.321 684.027 Q536.347 684.534 538.554 684.534 Q542.403 684.534 544.408 683.015 Q546.433 681.496 546.433 678.599 Q546.433 675.926 544.55 674.427 Q542.686 672.908 539.344 672.908 L535.82 672.908 L535.82 669.545 L539.506 669.545 Q542.524 669.545 544.124 668.35 Q545.725 667.135 545.725 664.867 Q545.725 662.537 544.064 661.302 Q542.423 660.046 539.344 660.046 Q537.663 660.046 535.739 660.411 Q533.815 660.775 531.506 661.545 L531.506 657.899 Q533.835 657.251 535.861 656.927 Q537.906 656.603 539.709 656.603 Q544.367 656.603 547.082 658.73 Q549.796 660.836 549.796 664.441 Q549.796 666.953 548.358 668.695 Q546.92 670.416 544.266 671.085 Z\" fill=\"#000000\" fill-rule=\"evenodd\" fill-opacity=\"1\" /><path clip-path=\"url(#clip810)\" d=\"M558.262 682.245 L562.536 682.245 L562.536 687.39 L558.262 687.39 L558.262 682.245 Z\" fill=\"#000000\" fill-rule=\"evenodd\" fill-opacity=\"1\" /><path clip-path=\"url(#clip810)\" d=\"M572.157 683.946 L578.841 683.946 L578.841 660.877 L571.569 662.335 L571.569 658.608 L578.8 657.15 L582.892 657.15 L582.892 683.946 L589.576 683.946 L589.576 687.39 L572.157 687.39 L572.157 683.946 Z\" fill=\"#000000\" fill-rule=\"evenodd\" fill-opacity=\"1\" /><path clip-path=\"url(#clip810)\" d=\"M993.711 628.376 L1000.4 628.376 L1000.4 605.306 L993.124 606.765 L993.124 603.038 L1000.35 601.579 L1004.45 601.579 L1004.45 628.376 L1011.13 628.376 L1011.13 631.819 L993.711 631.819 L993.711 628.376 Z\" fill=\"#000000\" fill-rule=\"evenodd\" fill-opacity=\"1\" /><path clip-path=\"url(#clip810)\" d=\"M1019.39 626.675 L1023.67 626.675 L1023.67 631.819 L1019.39 631.819 L1019.39 626.675 Z\" fill=\"#000000\" fill-rule=\"evenodd\" fill-opacity=\"1\" /><path clip-path=\"url(#clip810)\" d=\"M1044.98 615.515 Q1047.91 616.142 1049.55 618.127 Q1051.21 620.112 1051.21 623.029 Q1051.21 627.505 1048.14 629.956 Q1045.06 632.407 1039.39 632.407 Q1037.48 632.407 1035.46 632.022 Q1033.45 631.657 1031.3 630.908 L1031.3 626.958 Q1033.01 627.951 1035.03 628.457 Q1037.06 628.964 1039.26 628.964 Q1043.11 628.964 1045.12 627.444 Q1047.14 625.925 1047.14 623.029 Q1047.14 620.355 1045.26 618.857 Q1043.4 617.337 1040.05 617.337 L1036.53 617.337 L1036.53 613.975 L1040.22 613.975 Q1043.23 613.975 1044.83 612.78 Q1046.43 611.565 1046.43 609.296 Q1046.43 606.967 1044.77 605.732 Q1043.13 604.476 1040.05 604.476 Q1038.37 604.476 1036.45 604.84 Q1034.52 605.205 1032.22 605.975 L1032.22 602.329 Q1034.54 601.681 1036.57 601.357 Q1038.62 601.033 1040.42 601.033 Q1045.08 601.033 1047.79 603.159 Q1050.51 605.266 1050.51 608.871 Q1050.51 611.383 1049.07 613.125 Q1047.63 614.846 1044.98 615.515 Z\" fill=\"#000000\" fill-rule=\"evenodd\" fill-opacity=\"1\" /><path clip-path=\"url(#clip810)\" d=\"M691.423 1024.55 L698.107 1024.55 L698.107 1001.48 L690.835 1002.94 L690.835 999.213 L698.066 997.755 L702.158 997.755 L702.158 1024.55 L708.842 1024.55 L708.842 1027.99 L691.423 1027.99 L691.423 1024.55 Z\" fill=\"#000000\" fill-rule=\"evenodd\" fill-opacity=\"1\" /><path clip-path=\"url(#clip810)\" d=\"M717.106 1022.85 L721.379 1022.85 L721.379 1027.99 L717.106 1027.99 L717.106 1022.85 Z\" fill=\"#000000\" fill-rule=\"evenodd\" fill-opacity=\"1\" /><path clip-path=\"url(#clip810)\" d=\"M739.041 1013.63 Q736.125 1013.63 734.443 1015.19 Q732.783 1016.75 732.783 1019.49 Q732.783 1022.22 734.443 1023.78 Q736.125 1025.34 739.041 1025.34 Q741.958 1025.34 743.639 1023.78 Q745.32 1022.2 745.32 1019.49 Q745.32 1016.75 743.639 1015.19 Q741.978 1013.63 739.041 1013.63 M734.95 1011.89 Q732.317 1011.24 730.838 1009.44 Q729.38 1007.64 729.38 1005.05 Q729.38 1001.42 731.952 999.314 Q734.545 997.208 739.041 997.208 Q743.558 997.208 746.13 999.314 Q748.703 1001.42 748.703 1005.05 Q748.703 1007.64 747.224 1009.44 Q745.766 1011.24 743.153 1011.89 Q746.11 1012.58 747.751 1014.59 Q749.412 1016.59 749.412 1019.49 Q749.412 1023.88 746.718 1026.23 Q744.044 1028.58 739.041 1028.58 Q734.038 1028.58 731.345 1026.23 Q728.671 1023.88 728.671 1019.49 Q728.671 1016.59 730.332 1014.59 Q731.993 1012.58 734.95 1011.89 M733.451 1005.43 Q733.451 1007.78 734.909 1009.1 Q736.388 1010.41 739.041 1010.41 Q741.674 1010.41 743.153 1009.1 Q744.652 1007.78 744.652 1005.43 Q744.652 1003.08 743.153 1001.77 Q741.674 1000.45 739.041 1000.45 Q736.388 1000.45 734.909 1001.77 Q733.451 1003.08 733.451 1005.43 Z\" fill=\"#000000\" fill-rule=\"evenodd\" fill-opacity=\"1\" /><path clip-path=\"url(#clip810)\" d=\"M692.04 309.047 L698.724 309.047 L698.724 285.977 L691.453 287.435 L691.453 283.708 L698.684 282.25 L702.775 282.25 L702.775 309.047 L709.459 309.047 L709.459 312.49 L692.04 312.49 L692.04 309.047 Z\" fill=\"#000000\" fill-rule=\"evenodd\" fill-opacity=\"1\" /><path clip-path=\"url(#clip810)\" d=\"M726.473 284.944 Q723.313 284.944 721.713 288.063 Q720.133 291.162 720.133 297.4 Q720.133 303.618 721.713 306.738 Q723.313 309.837 726.473 309.837 Q729.653 309.837 731.233 306.738 Q732.833 303.618 732.833 297.4 Q732.833 291.162 731.233 288.063 Q729.653 284.944 726.473 284.944 M726.473 281.703 Q731.557 281.703 734.23 285.734 Q736.924 289.744 736.924 297.4 Q736.924 305.036 734.23 309.067 Q731.557 313.077 726.473 313.077 Q721.389 313.077 718.695 309.067 Q716.022 305.036 716.022 297.4 Q716.022 289.744 718.695 285.734 Q721.389 281.703 726.473 281.703 Z\" fill=\"#000000\" fill-rule=\"evenodd\" fill-opacity=\"1\" /><path clip-path=\"url(#clip810)\" d=\"M744.115 307.345 L748.388 307.345 L748.388 312.49 L744.115 312.49 L744.115 307.345 Z\" fill=\"#000000\" fill-rule=\"evenodd\" fill-opacity=\"1\" /><path clip-path=\"url(#clip810)\" d=\"M766.05 284.944 Q762.891 284.944 761.29 288.063 Q759.711 291.162 759.711 297.4 Q759.711 303.618 761.29 306.738 Q762.891 309.837 766.05 309.837 Q769.23 309.837 770.81 306.738 Q772.41 303.618 772.41 297.4 Q772.41 291.162 770.81 288.063 Q769.23 284.944 766.05 284.944 M766.05 281.703 Q771.134 281.703 773.808 285.734 Q776.502 289.744 776.502 297.4 Q776.502 305.036 773.808 309.067 Q771.134 313.077 766.05 313.077 Q760.966 313.077 758.273 309.067 Q755.599 305.036 755.599 297.4 Q755.599 289.744 758.273 285.734 Q760.966 281.703 766.05 281.703 Z\" fill=\"#000000\" fill-rule=\"evenodd\" fill-opacity=\"1\" /><path clip-path=\"url(#clip810)\" d=\"M1024.35 155.845 L1035.27 155.845 L1035.27 159.166 L1024.35 159.166 L1024.35 155.845 Z\" fill=\"#000000\" fill-rule=\"evenodd\" fill-opacity=\"1\" /><path clip-path=\"url(#clip810)\" d=\"M1042.44 165.425 L1049.12 165.425 L1049.12 142.355 L1041.85 143.813 L1041.85 140.087 L1049.08 138.628 L1053.17 138.628 L1053.17 165.425 L1059.85 165.425 L1059.85 168.868 L1042.44 168.868 L1042.44 165.425 Z\" fill=\"#000000\" fill-rule=\"evenodd\" fill-opacity=\"1\" /><path clip-path=\"url(#clip810)\" d=\"M1080.51 152.563 Q1083.45 153.191 1085.09 155.176 Q1086.75 157.161 1086.75 160.078 Q1086.75 164.554 1083.67 167.005 Q1080.59 169.456 1074.92 169.456 Q1073.02 169.456 1070.99 169.071 Q1068.99 168.706 1066.84 167.957 L1066.84 164.007 Q1068.54 165 1070.57 165.506 Q1072.59 166.012 1074.8 166.012 Q1078.65 166.012 1080.66 164.493 Q1082.68 162.974 1082.68 160.078 Q1082.68 157.404 1080.8 155.905 Q1078.93 154.386 1075.59 154.386 L1072.07 154.386 L1072.07 151.024 L1075.75 151.024 Q1078.77 151.024 1080.37 149.829 Q1081.97 148.614 1081.97 146.345 Q1081.97 144.016 1080.31 142.78 Q1078.67 141.525 1075.59 141.525 Q1073.91 141.525 1071.99 141.889 Q1070.06 142.254 1067.75 143.023 L1067.75 139.378 Q1070.08 138.729 1072.11 138.405 Q1074.15 138.081 1075.96 138.081 Q1080.61 138.081 1083.33 140.208 Q1086.04 142.315 1086.04 145.92 Q1086.04 148.431 1084.61 150.173 Q1083.17 151.895 1080.51 152.563 Z\" fill=\"#000000\" fill-rule=\"evenodd\" fill-opacity=\"1\" /><path clip-path=\"url(#clip810)\" d=\"M1094.51 163.724 L1098.78 163.724 L1098.78 168.868 L1094.51 168.868 L1094.51 163.724 Z\" fill=\"#000000\" fill-rule=\"evenodd\" fill-opacity=\"1\" /><path clip-path=\"url(#clip810)\" d=\"M1116.45 141.322 Q1113.29 141.322 1111.69 144.441 Q1110.11 147.54 1110.11 153.779 Q1110.11 159.997 1111.69 163.116 Q1113.29 166.215 1116.45 166.215 Q1119.63 166.215 1121.2 163.116 Q1122.81 159.997 1122.81 153.779 Q1122.81 147.54 1121.2 144.441 Q1119.63 141.322 1116.45 141.322 M1116.45 138.081 Q1121.53 138.081 1124.2 142.112 Q1126.9 146.122 1126.9 153.779 Q1126.9 161.415 1124.2 165.445 Q1121.53 169.456 1116.45 169.456 Q1111.36 169.456 1108.67 165.445 Q1105.99 161.415 1105.99 153.779 Q1105.99 146.122 1108.67 142.112 Q1111.36 138.081 1116.45 138.081 Z\" fill=\"#000000\" fill-rule=\"evenodd\" fill-opacity=\"1\" /><path clip-path=\"url(#clip810)\" d=\"M1286.88 667.879 Q1289.82 668.507 1291.46 670.492 Q1293.12 672.477 1293.12 675.393 Q1293.12 679.87 1290.04 682.321 Q1286.96 684.771 1281.29 684.771 Q1279.39 684.771 1277.36 684.386 Q1275.36 684.022 1273.21 683.272 L1273.21 679.323 Q1274.91 680.315 1276.94 680.822 Q1278.96 681.328 1281.17 681.328 Q1285.02 681.328 1287.02 679.809 Q1289.05 678.29 1289.05 675.393 Q1289.05 672.72 1287.17 671.221 Q1285.3 669.702 1281.96 669.702 L1278.44 669.702 L1278.44 666.34 L1282.12 666.34 Q1285.14 666.34 1286.74 665.145 Q1288.34 663.929 1288.34 661.661 Q1288.34 659.332 1286.68 658.096 Q1285.04 656.84 1281.96 656.84 Q1280.28 656.84 1278.35 657.205 Q1276.43 657.569 1274.12 658.339 L1274.12 654.693 Q1276.45 654.045 1278.48 653.721 Q1280.52 653.397 1282.32 653.397 Q1286.98 653.397 1289.7 655.524 Q1292.41 657.63 1292.41 661.236 Q1292.41 663.747 1290.97 665.489 Q1289.54 667.211 1286.88 667.879 Z\" fill=\"#000000\" fill-rule=\"evenodd\" fill-opacity=\"1\" /><path clip-path=\"url(#clip810)\" d=\"M1300.88 679.039 L1305.15 679.039 L1305.15 684.184 L1300.88 684.184 L1300.88 679.039 Z\" fill=\"#000000\" fill-rule=\"evenodd\" fill-opacity=\"1\" /><path clip-path=\"url(#clip810)\" d=\"M1314.77 680.741 L1321.46 680.741 L1321.46 657.671 L1314.18 659.129 L1314.18 655.402 L1321.42 653.944 L1325.51 653.944 L1325.51 680.741 L1332.19 680.741 L1332.19 684.184 L1314.77 684.184 L1314.77 680.741 Z\" fill=\"#000000\" fill-rule=\"evenodd\" fill-opacity=\"1\" /><path clip-path=\"url(#clip810)\" d=\"M1108.6 612.264 Q1105.44 612.264 1103.84 615.383 Q1102.26 618.482 1102.26 624.72 Q1102.26 630.938 1103.84 634.058 Q1105.44 637.156 1108.6 637.156 Q1111.78 637.156 1113.36 634.058 Q1114.96 630.938 1114.96 624.72 Q1114.96 618.482 1113.36 615.383 Q1111.78 612.264 1108.6 612.264 M1108.6 609.023 Q1113.69 609.023 1116.36 613.054 Q1119.05 617.064 1119.05 624.72 Q1119.05 632.356 1116.36 636.387 Q1113.69 640.397 1108.6 640.397 Q1103.52 640.397 1100.83 636.387 Q1098.15 632.356 1098.15 624.72 Q1098.15 617.064 1100.83 613.054 Q1103.52 609.023 1108.6 609.023 Z\" fill=\"#000000\" fill-rule=\"evenodd\" fill-opacity=\"1\" /><path clip-path=\"url(#clip810)\" d=\"M1126.24 634.665 L1130.52 634.665 L1130.52 639.81 L1126.24 639.81 L1126.24 634.665 Z\" fill=\"#000000\" fill-rule=\"evenodd\" fill-opacity=\"1\" /><path clip-path=\"url(#clip810)\" d=\"M1142.95 636.367 L1157.23 636.367 L1157.23 639.81 L1138.03 639.81 L1138.03 636.367 Q1140.36 633.956 1144.37 629.905 Q1148.4 625.834 1149.44 624.659 Q1151.4 622.452 1152.17 620.933 Q1152.96 619.393 1152.96 617.915 Q1152.96 615.504 1151.26 613.985 Q1149.58 612.466 1146.86 612.466 Q1144.94 612.466 1142.79 613.135 Q1140.67 613.803 1138.24 615.16 L1138.24 611.028 Q1140.71 610.036 1142.85 609.529 Q1145 609.023 1146.78 609.023 Q1151.48 609.023 1154.28 611.372 Q1157.07 613.722 1157.07 617.651 Q1157.07 619.515 1156.36 621.196 Q1155.67 622.857 1153.83 625.125 Q1153.33 625.713 1150.61 628.528 Q1147.9 631.323 1142.95 636.367 Z\" fill=\"#000000\" fill-rule=\"evenodd\" fill-opacity=\"1\" /><path clip-path=\"url(#clip810)\" d=\"M1164.79 609.57 L1184.23 609.57 L1184.23 611.312 L1173.26 639.81 L1168.98 639.81 L1179.31 613.013 L1164.79 613.013 L1164.79 609.57 Z\" fill=\"#000000\" fill-rule=\"evenodd\" fill-opacity=\"1\" /><path clip-path=\"url(#clip810)\" d=\"M998.939 719.78 L1013.22 719.78 L1013.22 723.224 L994.017 723.224 L994.017 719.78 Q996.346 717.37 1000.36 713.319 Q1004.39 709.248 1005.42 708.073 Q1007.39 705.866 1008.15 704.346 Q1008.94 702.807 1008.94 701.329 Q1008.94 698.918 1007.24 697.399 Q1005.56 695.88 1002.85 695.88 Q1000.92 695.88 998.777 696.548 Q996.65 697.217 994.22 698.574 L994.22 694.442 Q996.691 693.45 998.838 692.943 Q1000.98 692.437 1002.77 692.437 Q1007.47 692.437 1010.26 694.786 Q1013.06 697.136 1013.06 701.065 Q1013.06 702.929 1012.35 704.61 Q1011.66 706.271 1009.82 708.539 Q1009.31 709.127 1006.6 711.942 Q1003.88 714.737 998.939 719.78 Z\" fill=\"#000000\" fill-rule=\"evenodd\" fill-opacity=\"1\" /><path clip-path=\"url(#clip810)\" d=\"M1021.81 718.079 L1026.08 718.079 L1026.08 723.224 L1021.81 723.224 L1021.81 718.079 Z\" fill=\"#000000\" fill-rule=\"evenodd\" fill-opacity=\"1\" /><path clip-path=\"url(#clip810)\" d=\"M1035.03 692.984 L1051.09 692.984 L1051.09 696.427 L1038.78 696.427 L1038.78 703.84 Q1039.67 703.536 1040.56 703.395 Q1041.45 703.232 1042.34 703.232 Q1047.41 703.232 1050.37 706.007 Q1053.32 708.782 1053.32 713.522 Q1053.32 718.403 1050.28 721.117 Q1047.25 723.811 1041.72 723.811 Q1039.81 723.811 1037.83 723.487 Q1035.86 723.163 1033.76 722.515 L1033.76 718.403 Q1035.58 719.396 1037.52 719.882 Q1039.47 720.368 1041.64 720.368 Q1045.14 720.368 1047.19 718.525 Q1049.23 716.681 1049.23 713.522 Q1049.23 710.362 1047.19 708.519 Q1045.14 706.676 1041.64 706.676 Q1039.99 706.676 1038.35 707.04 Q1036.73 707.405 1035.03 708.175 L1035.03 692.984 Z\" fill=\"#000000\" fill-rule=\"evenodd\" fill-opacity=\"1\" /><path clip-path=\"url(#clip810)\" d=\"M847.975 674.156 L862.255 674.156 L862.255 677.6 L843.053 677.6 L843.053 674.156 Q845.383 671.746 849.393 667.695 Q853.424 663.624 854.457 662.449 Q856.421 660.241 857.191 658.722 Q857.981 657.183 857.981 655.704 Q857.981 653.294 856.279 651.775 Q854.598 650.256 851.884 650.256 Q849.96 650.256 847.813 650.924 Q845.686 651.593 843.256 652.95 L843.256 648.818 Q845.727 647.825 847.874 647.319 Q850.021 646.813 851.803 646.813 Q856.502 646.813 859.297 649.162 Q862.093 651.512 862.093 655.441 Q862.093 657.305 861.384 658.986 Q860.695 660.647 858.852 662.915 Q858.345 663.502 855.631 666.318 Q852.917 669.113 847.975 674.156 Z\" fill=\"#000000\" fill-rule=\"evenodd\" fill-opacity=\"1\" /><path clip-path=\"url(#clip810)\" d=\"M870.842 672.455 L875.116 672.455 L875.116 677.6 L870.842 677.6 L870.842 672.455 Z\" fill=\"#000000\" fill-rule=\"evenodd\" fill-opacity=\"1\" /><path clip-path=\"url(#clip810)\" d=\"M884.737 674.156 L891.421 674.156 L891.421 651.086 L884.15 652.545 L884.15 648.818 L891.381 647.36 L895.472 647.36 L895.472 674.156 L902.156 674.156 L902.156 677.6 L884.737 677.6 L884.737 674.156 Z\" fill=\"#000000\" fill-rule=\"evenodd\" fill-opacity=\"1\" /><path clip-path=\"url(#clip810)\" d=\"M1001.18 1176.94 L1012.09 1176.94 L1012.09 1180.26 L1001.18 1180.26 L1001.18 1176.94 Z\" fill=\"#000000\" fill-rule=\"evenodd\" fill-opacity=\"1\" /><path clip-path=\"url(#clip810)\" d=\"M1027.3 1175.6 Q1024.39 1175.6 1022.71 1177.16 Q1021.05 1178.72 1021.05 1181.46 Q1021.05 1184.19 1022.71 1185.75 Q1024.39 1187.31 1027.3 1187.31 Q1030.22 1187.31 1031.9 1185.75 Q1033.58 1184.17 1033.58 1181.46 Q1033.58 1178.72 1031.9 1177.16 Q1030.24 1175.6 1027.3 1175.6 M1023.21 1173.86 Q1020.58 1173.21 1019.1 1171.41 Q1017.64 1169.61 1017.64 1167.02 Q1017.64 1163.39 1020.21 1161.28 Q1022.81 1159.18 1027.3 1159.18 Q1031.82 1159.18 1034.39 1161.28 Q1036.97 1163.39 1036.97 1167.02 Q1036.97 1169.61 1035.49 1171.41 Q1034.03 1173.21 1031.42 1173.86 Q1034.37 1174.55 1036.01 1176.56 Q1037.67 1178.56 1037.67 1181.46 Q1037.67 1185.85 1034.98 1188.2 Q1032.31 1190.55 1027.3 1190.55 Q1022.3 1190.55 1019.61 1188.2 Q1016.93 1185.85 1016.93 1181.46 Q1016.93 1178.56 1018.59 1176.56 Q1020.26 1174.55 1023.21 1173.86 M1021.71 1167.4 Q1021.71 1169.75 1023.17 1171.07 Q1024.65 1172.38 1027.3 1172.38 Q1029.94 1172.38 1031.42 1171.07 Q1032.91 1169.75 1032.91 1167.4 Q1032.91 1165.05 1031.42 1163.73 Q1029.94 1162.42 1027.3 1162.42 Q1024.65 1162.42 1023.17 1163.73 Q1021.71 1165.05 1021.71 1167.4 Z\" fill=\"#000000\" fill-rule=\"evenodd\" fill-opacity=\"1\" /><path clip-path=\"url(#clip810)\" d=\"M1044.95 1184.82 L1049.22 1184.82 L1049.22 1189.96 L1044.95 1189.96 L1044.95 1184.82 Z\" fill=\"#000000\" fill-rule=\"evenodd\" fill-opacity=\"1\" /><path clip-path=\"url(#clip810)\" d=\"M1067.39 1173.21 Q1064.63 1173.21 1063.01 1175.1 Q1061.41 1176.98 1061.41 1180.26 Q1061.41 1183.52 1063.01 1185.43 Q1064.63 1187.31 1067.39 1187.31 Q1070.14 1187.31 1071.74 1185.43 Q1073.36 1183.52 1073.36 1180.26 Q1073.36 1176.98 1071.74 1175.1 Q1070.14 1173.21 1067.39 1173.21 M1075.51 1160.39 L1075.51 1164.12 Q1073.97 1163.39 1072.39 1163.01 Q1070.83 1162.62 1069.29 1162.62 Q1065.24 1162.62 1063.09 1165.35 Q1060.97 1168.09 1060.66 1173.62 Q1061.86 1171.86 1063.66 1170.92 Q1065.46 1169.97 1067.63 1169.97 Q1072.19 1169.97 1074.82 1172.75 Q1077.47 1175.5 1077.47 1180.26 Q1077.47 1184.92 1074.72 1187.74 Q1071.97 1190.55 1067.39 1190.55 Q1062.14 1190.55 1059.37 1186.54 Q1056.59 1182.51 1056.59 1174.87 Q1056.59 1167.7 1059.99 1163.45 Q1063.4 1159.18 1069.13 1159.18 Q1070.67 1159.18 1072.23 1159.48 Q1073.81 1159.78 1075.51 1160.39 Z\" fill=\"#000000\" fill-rule=\"evenodd\" fill-opacity=\"1\" /><path clip-path=\"url(#clip810)\" d=\"M1418.85 1038.58 Q1421.79 1039.21 1423.43 1041.2 Q1425.09 1043.18 1425.09 1046.1 Q1425.09 1050.57 1422.01 1053.02 Q1418.93 1055.48 1413.26 1055.48 Q1411.36 1055.48 1409.33 1055.09 Q1407.33 1054.73 1405.18 1053.98 L1405.18 1050.03 Q1406.88 1051.02 1408.91 1051.53 Q1410.93 1052.03 1413.14 1052.03 Q1416.99 1052.03 1418.99 1050.51 Q1421.02 1048.99 1421.02 1046.1 Q1421.02 1043.42 1419.14 1041.92 Q1417.27 1040.41 1413.93 1040.41 L1410.41 1040.41 L1410.41 1037.04 L1414.09 1037.04 Q1417.11 1037.04 1418.71 1035.85 Q1420.31 1034.63 1420.31 1032.36 Q1420.31 1030.04 1418.65 1028.8 Q1417.01 1027.54 1413.93 1027.54 Q1412.25 1027.54 1410.33 1027.91 Q1408.4 1028.27 1406.09 1029.04 L1406.09 1025.4 Q1408.42 1024.75 1410.45 1024.42 Q1412.49 1024.1 1414.3 1024.1 Q1418.95 1024.1 1421.67 1026.23 Q1424.38 1028.33 1424.38 1031.94 Q1424.38 1034.45 1422.94 1036.19 Q1421.51 1037.91 1418.85 1038.58 Z\" fill=\"#000000\" fill-rule=\"evenodd\" fill-opacity=\"1\" /><path clip-path=\"url(#clip810)\" d=\"M1432.85 1049.74 L1437.12 1049.74 L1437.12 1054.89 L1432.85 1054.89 L1432.85 1049.74 Z\" fill=\"#000000\" fill-rule=\"evenodd\" fill-opacity=\"1\" /><path clip-path=\"url(#clip810)\" d=\"M1446.16 1054.26 L1446.16 1050.53 Q1447.7 1051.26 1449.27 1051.65 Q1450.85 1052.03 1452.37 1052.03 Q1456.42 1052.03 1458.55 1049.32 Q1460.7 1046.58 1461 1041.03 Q1459.83 1042.78 1458.02 1043.71 Q1456.22 1044.64 1454.03 1044.64 Q1449.5 1044.64 1446.84 1041.9 Q1444.21 1039.15 1444.21 1034.39 Q1444.21 1029.73 1446.97 1026.92 Q1449.72 1024.1 1454.3 1024.1 Q1459.54 1024.1 1462.3 1028.13 Q1465.07 1032.14 1465.07 1039.8 Q1465.07 1046.95 1461.67 1051.22 Q1458.29 1055.48 1452.56 1055.48 Q1451.02 1055.48 1449.44 1055.17 Q1447.86 1054.87 1446.16 1054.26 M1454.3 1041.44 Q1457.05 1041.44 1458.65 1039.56 Q1460.27 1037.67 1460.27 1034.39 Q1460.27 1031.13 1458.65 1029.25 Q1457.05 1027.34 1454.3 1027.34 Q1451.54 1027.34 1449.92 1029.25 Q1448.32 1031.13 1448.32 1034.39 Q1448.32 1037.67 1449.92 1039.56 Q1451.54 1041.44 1454.3 1041.44 Z\" fill=\"#000000\" fill-rule=\"evenodd\" fill-opacity=\"1\" /><path clip-path=\"url(#clip810)\" d=\"M1059.06 444.102 Q1055.9 444.102 1054.3 447.222 Q1052.72 450.321 1052.72 456.559 Q1052.72 462.777 1054.3 465.896 Q1055.9 468.995 1059.06 468.995 Q1062.24 468.995 1063.82 465.896 Q1065.42 462.777 1065.42 456.559 Q1065.42 450.321 1063.82 447.222 Q1062.24 444.102 1059.06 444.102 M1059.06 440.862 Q1064.14 440.862 1066.81 444.892 Q1069.51 448.903 1069.51 456.559 Q1069.51 464.195 1066.81 468.226 Q1064.14 472.236 1059.06 472.236 Q1053.97 472.236 1051.28 468.226 Q1048.61 464.195 1048.61 456.559 Q1048.61 448.903 1051.28 444.892 Q1053.97 440.862 1059.06 440.862 Z\" fill=\"#000000\" fill-rule=\"evenodd\" fill-opacity=\"1\" /><path clip-path=\"url(#clip810)\" d=\"M1076.7 466.504 L1080.97 466.504 L1080.97 471.649 L1076.7 471.649 L1076.7 466.504 Z\" fill=\"#000000\" fill-rule=\"evenodd\" fill-opacity=\"1\" /><path clip-path=\"url(#clip810)\" d=\"M1088.85 441.409 L1108.3 441.409 L1108.3 443.151 L1097.32 471.649 L1093.04 471.649 L1103.37 444.852 L1088.85 444.852 L1088.85 441.409 Z\" fill=\"#000000\" fill-rule=\"evenodd\" fill-opacity=\"1\" /><path clip-path=\"url(#clip810)\" d=\"M1116.99 468.205 L1123.67 468.205 L1123.67 445.135 L1116.4 446.594 L1116.4 442.867 L1123.63 441.409 L1127.72 441.409 L1127.72 468.205 L1134.4 468.205 L1134.4 471.649 L1116.99 471.649 L1116.99 468.205 Z\" fill=\"#000000\" fill-rule=\"evenodd\" fill-opacity=\"1\" /><path clip-path=\"url(#clip810)\" d=\"M1434.13 316.182 Q1430.97 316.182 1429.37 319.302 Q1427.79 322.4 1427.79 328.639 Q1427.79 334.857 1429.37 337.976 Q1430.97 341.075 1434.13 341.075 Q1437.31 341.075 1438.89 337.976 Q1440.49 334.857 1440.49 328.639 Q1440.49 322.4 1438.89 319.302 Q1437.31 316.182 1434.13 316.182 M1434.13 312.942 Q1439.22 312.942 1441.89 316.972 Q1444.58 320.983 1444.58 328.639 Q1444.58 336.275 1441.89 340.305 Q1439.22 344.316 1434.13 344.316 Q1429.05 344.316 1426.35 340.305 Q1423.68 336.275 1423.68 328.639 Q1423.68 320.983 1426.35 316.972 Q1429.05 312.942 1434.13 312.942 Z\" fill=\"#000000\" fill-rule=\"evenodd\" fill-opacity=\"1\" /><path clip-path=\"url(#clip810)\" d=\"M1451.77 338.584 L1456.05 338.584 L1456.05 343.728 L1451.77 343.728 L1451.77 338.584 Z\" fill=\"#000000\" fill-rule=\"evenodd\" fill-opacity=\"1\" /><path clip-path=\"url(#clip810)\" d=\"M1468.48 340.285 L1482.76 340.285 L1482.76 343.728 L1463.56 343.728 L1463.56 340.285 Q1465.89 337.875 1469.9 333.824 Q1473.93 329.753 1474.96 328.578 Q1476.93 326.37 1477.7 324.851 Q1478.49 323.312 1478.49 321.833 Q1478.49 319.423 1476.79 317.904 Q1475.11 316.385 1472.39 316.385 Q1470.47 316.385 1468.32 317.053 Q1466.19 317.722 1463.76 319.079 L1463.76 314.947 Q1466.23 313.954 1468.38 313.448 Q1470.53 312.942 1472.31 312.942 Q1477.01 312.942 1479.81 315.291 Q1482.6 317.641 1482.6 321.57 Q1482.6 323.433 1481.89 325.115 Q1481.2 326.775 1479.36 329.044 Q1478.85 329.631 1476.14 332.447 Q1473.42 335.242 1468.48 340.285 Z\" fill=\"#000000\" fill-rule=\"evenodd\" fill-opacity=\"1\" /><path clip-path=\"url(#clip810)\" d=\"M1118.97 734.932 L1118.97 731.205 Q1120.51 731.934 1122.09 732.319 Q1123.67 732.704 1125.19 732.704 Q1129.24 732.704 1131.37 729.99 Q1133.52 727.255 1133.82 721.706 Q1132.64 723.447 1130.84 724.379 Q1129.04 725.311 1126.85 725.311 Q1122.31 725.311 1119.66 722.577 Q1117.03 719.822 1117.03 715.062 Q1117.03 710.404 1119.78 707.588 Q1122.54 704.773 1127.11 704.773 Q1132.36 704.773 1135.12 708.803 Q1137.89 712.814 1137.89 720.47 Q1137.89 727.62 1134.49 731.894 Q1131.1 736.147 1125.37 736.147 Q1123.83 736.147 1122.25 735.843 Q1120.67 735.539 1118.97 734.932 M1127.11 722.111 Q1129.87 722.111 1131.47 720.227 Q1133.09 718.343 1133.09 715.062 Q1133.09 711.801 1131.47 709.917 Q1129.87 708.014 1127.11 708.014 Q1124.36 708.014 1122.74 709.917 Q1121.14 711.801 1121.14 715.062 Q1121.14 718.343 1122.74 720.227 Q1124.36 722.111 1127.11 722.111 Z\" fill=\"#000000\" fill-rule=\"evenodd\" fill-opacity=\"1\" /><path clip-path=\"url(#clip810)\" d=\"M1145.24 730.415 L1149.52 730.415 L1149.52 735.56 L1145.24 735.56 L1145.24 730.415 Z\" fill=\"#000000\" fill-rule=\"evenodd\" fill-opacity=\"1\" /><path clip-path=\"url(#clip810)\" d=\"M1157.4 705.32 L1176.84 705.32 L1176.84 707.062 L1165.86 735.56 L1161.59 735.56 L1171.92 708.763 L1157.4 708.763 L1157.4 705.32 Z\" fill=\"#000000\" fill-rule=\"evenodd\" fill-opacity=\"1\" /><path clip-path=\"url(#clip810)\" d=\"M1640.73 574.999 L1651.64 574.999 L1651.64 578.321 L1640.73 578.321 L1640.73 574.999 Z\" fill=\"#000000\" fill-rule=\"evenodd\" fill-opacity=\"1\" /><path clip-path=\"url(#clip810)\" d=\"M1670.5 571.718 Q1673.44 572.346 1675.08 574.331 Q1676.74 576.316 1676.74 579.233 Q1676.74 583.709 1673.66 586.16 Q1670.58 588.61 1664.91 588.61 Q1663.01 588.61 1660.98 588.226 Q1658.98 587.861 1656.83 587.112 L1656.83 583.162 Q1658.53 584.154 1660.56 584.661 Q1662.58 585.167 1664.79 585.167 Q1668.64 585.167 1670.64 583.648 Q1672.67 582.129 1672.67 579.233 Q1672.67 576.559 1670.79 575.06 Q1668.92 573.541 1665.58 573.541 L1662.06 573.541 L1662.06 570.179 L1665.74 570.179 Q1668.76 570.179 1670.36 568.984 Q1671.96 567.768 1671.96 565.5 Q1671.96 563.171 1670.3 561.935 Q1668.66 560.679 1665.58 560.679 Q1663.9 560.679 1661.97 561.044 Q1660.05 561.409 1657.74 562.178 L1657.74 558.532 Q1660.07 557.884 1662.1 557.56 Q1664.14 557.236 1665.94 557.236 Q1670.6 557.236 1673.32 559.363 Q1676.03 561.469 1676.03 565.075 Q1676.03 567.586 1674.59 569.328 Q1673.16 571.05 1670.5 571.718 Z\" fill=\"#000000\" fill-rule=\"evenodd\" fill-opacity=\"1\" /><path clip-path=\"url(#clip810)\" d=\"M1683.46 557.783 L1702.91 557.783 L1702.91 559.525 L1691.93 588.023 L1687.66 588.023 L1697.99 561.226 L1683.46 561.226 L1683.46 557.783 Z\" fill=\"#000000\" fill-rule=\"evenodd\" fill-opacity=\"1\" /><path clip-path=\"url(#clip810)\" d=\"M1710.89 582.878 L1715.16 582.878 L1715.16 588.023 L1710.89 588.023 L1710.89 582.878 Z\" fill=\"#000000\" fill-rule=\"evenodd\" fill-opacity=\"1\" /><path clip-path=\"url(#clip810)\" d=\"M1732.82 560.477 Q1729.67 560.477 1728.07 563.596 Q1726.49 566.695 1726.49 572.933 Q1726.49 579.152 1728.07 582.271 Q1729.67 585.37 1732.82 585.37 Q1736 585.37 1737.58 582.271 Q1739.18 579.152 1739.18 572.933 Q1739.18 566.695 1737.58 563.596 Q1736 560.477 1732.82 560.477 M1732.82 557.236 Q1737.91 557.236 1740.58 561.267 Q1743.28 565.277 1743.28 572.933 Q1743.28 580.569 1740.58 584.6 Q1737.91 588.61 1732.82 588.61 Q1727.74 588.61 1725.05 584.6 Q1722.37 580.569 1722.37 572.933 Q1722.37 565.277 1725.05 561.267 Q1727.74 557.236 1732.82 557.236 Z\" fill=\"#000000\" fill-rule=\"evenodd\" fill-opacity=\"1\" /><path clip-path=\"url(#clip810)\" d=\"M1378.84 1100.04 L1393.12 1100.04 L1393.12 1103.48 L1373.92 1103.48 L1373.92 1100.04 Q1376.25 1097.63 1380.26 1093.58 Q1384.29 1089.51 1385.32 1088.33 Q1387.29 1086.13 1388.06 1084.61 Q1388.85 1083.07 1388.85 1081.59 Q1388.85 1079.18 1387.15 1077.66 Q1385.47 1076.14 1382.75 1076.14 Q1380.83 1076.14 1378.68 1076.81 Q1376.55 1077.48 1374.12 1078.83 L1374.12 1074.7 Q1376.59 1073.71 1378.74 1073.2 Q1380.89 1072.7 1382.67 1072.7 Q1387.37 1072.7 1390.16 1075.05 Q1392.96 1077.4 1392.96 1081.33 Q1392.96 1083.19 1392.25 1084.87 Q1391.56 1086.53 1389.72 1088.8 Q1389.21 1089.39 1386.5 1092.2 Q1383.78 1095 1378.84 1100.04 Z\" fill=\"#000000\" fill-rule=\"evenodd\" fill-opacity=\"1\" /><path clip-path=\"url(#clip810)\" d=\"M1410.97 1086.73 Q1408.21 1086.73 1406.59 1088.62 Q1404.99 1090.5 1404.99 1093.78 Q1404.99 1097.04 1406.59 1098.95 Q1408.21 1100.83 1410.97 1100.83 Q1413.72 1100.83 1415.32 1098.95 Q1416.94 1097.04 1416.94 1093.78 Q1416.94 1090.5 1415.32 1088.62 Q1413.72 1086.73 1410.97 1086.73 M1419.09 1073.91 L1419.09 1077.64 Q1417.55 1076.91 1415.97 1076.53 Q1414.41 1076.14 1412.87 1076.14 Q1408.82 1076.14 1406.67 1078.88 Q1404.55 1081.61 1404.24 1087.14 Q1405.44 1085.38 1407.24 1084.45 Q1409.04 1083.49 1411.21 1083.49 Q1415.77 1083.49 1418.4 1086.27 Q1421.05 1089.02 1421.05 1093.78 Q1421.05 1098.44 1418.3 1101.26 Q1415.54 1104.07 1410.97 1104.07 Q1405.72 1104.07 1402.94 1100.06 Q1400.17 1096.03 1400.17 1088.4 Q1400.17 1081.22 1403.57 1076.97 Q1406.98 1072.7 1412.71 1072.7 Q1414.25 1072.7 1415.81 1073 Q1417.39 1073.31 1419.09 1073.91 Z\" fill=\"#000000\" fill-rule=\"evenodd\" fill-opacity=\"1\" /><path clip-path=\"url(#clip810)\" d=\"M1428.1 1098.34 L1432.37 1098.34 L1432.37 1103.48 L1428.1 1103.48 L1428.1 1098.34 Z\" fill=\"#000000\" fill-rule=\"evenodd\" fill-opacity=\"1\" /><path clip-path=\"url(#clip810)\" d=\"M1450.04 1075.94 Q1446.88 1075.94 1445.28 1079.06 Q1443.7 1082.16 1443.7 1088.4 Q1443.7 1094.61 1445.28 1097.73 Q1446.88 1100.83 1450.04 1100.83 Q1453.22 1100.83 1454.8 1097.73 Q1456.4 1094.61 1456.4 1088.4 Q1456.4 1082.16 1454.8 1079.06 Q1453.22 1075.94 1450.04 1075.94 M1450.04 1072.7 Q1455.12 1072.7 1457.79 1076.73 Q1460.49 1080.74 1460.49 1088.4 Q1460.49 1096.03 1457.79 1100.06 Q1455.12 1104.07 1450.04 1104.07 Q1444.95 1104.07 1442.26 1100.06 Q1439.59 1096.03 1439.59 1088.4 Q1439.59 1080.74 1442.26 1076.73 Q1444.95 1072.7 1450.04 1072.7 Z\" fill=\"#000000\" fill-rule=\"evenodd\" fill-opacity=\"1\" /><path clip-path=\"url(#clip810)\" d=\"M1458.31 991.969 Q1455.15 991.969 1453.55 995.088 Q1451.97 998.187 1451.97 1004.43 Q1451.97 1010.64 1453.55 1013.76 Q1455.15 1016.86 1458.31 1016.86 Q1461.49 1016.86 1463.07 1013.76 Q1464.67 1010.64 1464.67 1004.43 Q1464.67 998.187 1463.07 995.088 Q1461.49 991.969 1458.31 991.969 M1458.31 988.728 Q1463.4 988.728 1466.07 992.759 Q1468.77 996.769 1468.77 1004.43 Q1468.77 1012.06 1466.07 1016.09 Q1463.4 1020.1 1458.31 1020.1 Q1453.23 1020.1 1450.54 1016.09 Q1447.86 1012.06 1447.86 1004.43 Q1447.86 996.769 1450.54 992.759 Q1453.23 988.728 1458.31 988.728 Z\" fill=\"#000000\" fill-rule=\"evenodd\" fill-opacity=\"1\" /><path clip-path=\"url(#clip810)\" d=\"M1475.96 1014.37 L1480.23 1014.37 L1480.23 1019.52 L1475.96 1019.52 L1475.96 1014.37 Z\" fill=\"#000000\" fill-rule=\"evenodd\" fill-opacity=\"1\" /><path clip-path=\"url(#clip810)\" d=\"M1498.4 1002.76 Q1495.64 1002.76 1494.02 1004.65 Q1492.42 1006.53 1492.42 1009.81 Q1492.42 1013.07 1494.02 1014.98 Q1495.64 1016.86 1498.4 1016.86 Q1501.15 1016.86 1502.75 1014.98 Q1504.37 1013.07 1504.37 1009.81 Q1504.37 1006.53 1502.75 1004.65 Q1501.15 1002.76 1498.4 1002.76 M1506.52 989.944 L1506.52 993.67 Q1504.98 992.941 1503.4 992.556 Q1501.84 992.172 1500.3 992.172 Q1496.25 992.172 1494.1 994.906 Q1491.98 997.64 1491.67 1003.17 Q1492.87 1001.41 1494.67 1000.48 Q1496.47 999.524 1498.64 999.524 Q1503.2 999.524 1505.83 1002.3 Q1508.48 1005.05 1508.48 1009.81 Q1508.48 1014.47 1505.73 1017.29 Q1502.98 1020.1 1498.4 1020.1 Q1493.15 1020.1 1490.38 1016.09 Q1487.6 1012.06 1487.6 1004.43 Q1487.6 997.255 1491.01 993.002 Q1494.41 988.728 1500.14 988.728 Q1501.68 988.728 1503.24 989.032 Q1504.82 989.336 1506.52 989.944 Z\" fill=\"#000000\" fill-rule=\"evenodd\" fill-opacity=\"1\" /><path clip-path=\"url(#clip810)\" d=\"M1527.93 1003.21 Q1530.87 1003.84 1532.51 1005.82 Q1534.17 1007.81 1534.17 1010.72 Q1534.17 1015.2 1531.09 1017.65 Q1528.01 1020.1 1522.34 1020.1 Q1520.44 1020.1 1518.41 1019.72 Q1516.4 1019.35 1514.26 1018.6 L1514.26 1014.65 Q1515.96 1015.65 1517.98 1016.15 Q1520.01 1016.66 1522.22 1016.66 Q1526.07 1016.66 1528.07 1015.14 Q1530.1 1013.62 1530.1 1010.72 Q1530.1 1008.05 1528.21 1006.55 Q1526.35 1005.03 1523.01 1005.03 L1519.48 1005.03 L1519.48 1001.67 L1523.17 1001.67 Q1526.19 1001.67 1527.79 1000.48 Q1529.39 999.261 1529.39 996.992 Q1529.39 994.663 1527.73 993.427 Q1526.09 992.172 1523.01 992.172 Q1521.33 992.172 1519.4 992.536 Q1517.48 992.901 1515.17 993.67 L1515.17 990.025 Q1517.5 989.376 1519.52 989.052 Q1521.57 988.728 1523.37 988.728 Q1528.03 988.728 1530.74 990.855 Q1533.46 992.961 1533.46 996.567 Q1533.46 999.078 1532.02 1000.82 Q1530.58 1002.54 1527.93 1003.21 Z\" fill=\"#000000\" fill-rule=\"evenodd\" fill-opacity=\"1\" /><path clip-path=\"url(#clip810)\" d=\"M1779.13 951.976 L1785.81 951.976 L1785.81 928.906 L1778.54 930.364 L1778.54 926.638 L1785.77 925.179 L1789.86 925.179 L1789.86 951.976 L1796.55 951.976 L1796.55 955.419 L1779.13 955.419 L1779.13 951.976 Z\" fill=\"#000000\" fill-rule=\"evenodd\" fill-opacity=\"1\" /><path clip-path=\"url(#clip810)\" d=\"M1804.85 925.179 L1820.91 925.179 L1820.91 928.622 L1808.6 928.622 L1808.6 936.036 Q1809.49 935.732 1810.38 935.59 Q1811.27 935.428 1812.16 935.428 Q1817.23 935.428 1820.18 938.203 Q1823.14 940.978 1823.14 945.717 Q1823.14 950.599 1820.1 953.313 Q1817.06 956.007 1811.53 956.007 Q1809.63 956.007 1807.64 955.682 Q1805.68 955.358 1803.57 954.71 L1803.57 950.599 Q1805.4 951.591 1807.34 952.077 Q1809.29 952.563 1811.45 952.563 Q1814.96 952.563 1817 950.72 Q1819.05 948.877 1819.05 945.717 Q1819.05 942.558 1817 940.714 Q1814.96 938.871 1811.45 938.871 Q1809.81 938.871 1808.17 939.236 Q1806.55 939.6 1804.85 940.37 L1804.85 925.179 Z\" fill=\"#000000\" fill-rule=\"evenodd\" fill-opacity=\"1\" /><path clip-path=\"url(#clip810)\" d=\"M1831.2 950.275 L1835.47 950.275 L1835.47 955.419 L1831.2 955.419 L1831.2 950.275 Z\" fill=\"#000000\" fill-rule=\"evenodd\" fill-opacity=\"1\" /><path clip-path=\"url(#clip810)\" d=\"M1853.14 927.873 Q1849.98 927.873 1848.38 930.992 Q1846.8 934.091 1846.8 940.33 Q1846.8 946.548 1848.38 949.667 Q1849.98 952.766 1853.14 952.766 Q1856.32 952.766 1857.9 949.667 Q1859.5 946.548 1859.5 940.33 Q1859.5 934.091 1857.9 930.992 Q1856.32 927.873 1853.14 927.873 M1853.14 924.632 Q1858.22 924.632 1860.89 928.663 Q1863.59 932.673 1863.59 940.33 Q1863.59 947.966 1860.89 951.996 Q1858.22 956.007 1853.14 956.007 Q1848.05 956.007 1845.36 951.996 Q1842.69 947.966 1842.69 940.33 Q1842.69 932.673 1845.36 928.663 Q1848.05 924.632 1853.14 924.632 Z\" fill=\"#000000\" fill-rule=\"evenodd\" fill-opacity=\"1\" /><path clip-path=\"url(#clip810)\" d=\"M1844.44 1506.8 L1855.36 1506.8 L1855.36 1510.12 L1844.44 1510.12 L1844.44 1506.8 Z\" fill=\"#000000\" fill-rule=\"evenodd\" fill-opacity=\"1\" /><path clip-path=\"url(#clip810)\" d=\"M1862.53 1516.38 L1869.22 1516.38 L1869.22 1493.31 L1861.94 1494.77 L1861.94 1491.04 L1869.18 1489.58 L1873.27 1489.58 L1873.27 1516.38 L1879.95 1516.38 L1879.95 1519.82 L1862.53 1519.82 L1862.53 1516.38 Z\" fill=\"#000000\" fill-rule=\"evenodd\" fill-opacity=\"1\" /><path clip-path=\"url(#clip810)\" d=\"M1897.47 1503.07 Q1894.72 1503.07 1893.1 1504.96 Q1891.5 1506.84 1891.5 1510.12 Q1891.5 1513.38 1893.1 1515.29 Q1894.72 1517.17 1897.47 1517.17 Q1900.23 1517.17 1901.83 1515.29 Q1903.45 1513.38 1903.45 1510.12 Q1903.45 1506.84 1901.83 1504.96 Q1900.23 1503.07 1897.47 1503.07 M1905.59 1490.25 L1905.59 1493.98 Q1904.05 1493.25 1902.47 1492.87 Q1900.91 1492.48 1899.37 1492.48 Q1895.32 1492.48 1893.18 1495.22 Q1891.05 1497.95 1890.75 1503.48 Q1891.94 1501.72 1893.74 1500.79 Q1895.55 1499.83 1897.71 1499.83 Q1902.27 1499.83 1904.9 1502.61 Q1907.56 1505.36 1907.56 1510.12 Q1907.56 1514.78 1904.8 1517.6 Q1902.05 1520.41 1897.47 1520.41 Q1892.23 1520.41 1889.45 1516.4 Q1886.68 1512.37 1886.68 1504.73 Q1886.68 1497.56 1890.08 1493.31 Q1893.48 1489.04 1899.21 1489.04 Q1900.75 1489.04 1902.31 1489.34 Q1903.89 1489.65 1905.59 1490.25 Z\" fill=\"#000000\" fill-rule=\"evenodd\" fill-opacity=\"1\" /><path clip-path=\"url(#clip810)\" d=\"M1914.61 1514.68 L1918.88 1514.68 L1918.88 1519.82 L1914.61 1519.82 L1914.61 1514.68 Z\" fill=\"#000000\" fill-rule=\"evenodd\" fill-opacity=\"1\" /><path clip-path=\"url(#clip810)\" d=\"M1936.54 1492.28 Q1933.38 1492.28 1931.78 1495.4 Q1930.2 1498.5 1930.2 1504.73 Q1930.2 1510.95 1931.78 1514.07 Q1933.38 1517.17 1936.54 1517.17 Q1939.72 1517.17 1941.3 1514.07 Q1942.9 1510.95 1942.9 1504.73 Q1942.9 1498.5 1941.3 1495.4 Q1939.72 1492.28 1936.54 1492.28 M1936.54 1489.04 Q1941.63 1489.04 1944.3 1493.07 Q1946.99 1497.08 1946.99 1504.73 Q1946.99 1512.37 1944.3 1516.4 Q1941.63 1520.41 1936.54 1520.41 Q1931.46 1520.41 1928.76 1516.4 Q1926.09 1512.37 1926.09 1504.73 Q1926.09 1497.08 1928.76 1493.07 Q1931.46 1489.04 1936.54 1489.04 Z\" fill=\"#000000\" fill-rule=\"evenodd\" fill-opacity=\"1\" /><path clip-path=\"url(#clip810)\" d=\"M653.901 663.429 L660.585 663.429 L660.585 640.359 L653.314 641.817 L653.314 638.091 L660.545 636.632 L664.636 636.632 L664.636 663.429 L671.32 663.429 L671.32 666.872 L653.901 666.872 L653.901 663.429 Z\" fill=\"#000000\" fill-rule=\"evenodd\" fill-opacity=\"1\" /><path clip-path=\"url(#clip810)\" d=\"M1089.15 273.994 L1103.43 273.994 L1103.43 277.437 L1084.23 277.437 L1084.23 273.994 Q1086.56 271.584 1090.57 267.533 Q1094.6 263.462 1095.63 262.287 Q1097.6 260.079 1098.37 258.56 Q1099.16 257.021 1099.16 255.542 Q1099.16 253.132 1097.45 251.613 Q1095.77 250.094 1093.06 250.094 Q1091.14 250.094 1088.99 250.762 Q1086.86 251.43 1084.43 252.787 L1084.43 248.656 Q1086.9 247.663 1089.05 247.157 Q1091.2 246.65 1092.98 246.65 Q1097.68 246.65 1100.47 249 Q1103.27 251.349 1103.27 255.279 Q1103.27 257.142 1102.56 258.823 Q1101.87 260.484 1100.03 262.753 Q1099.52 263.34 1096.81 266.155 Q1094.09 268.951 1089.15 273.994 Z\" fill=\"#000000\" fill-rule=\"evenodd\" fill-opacity=\"1\" /><path clip-path=\"url(#clip810)\" d=\"M1085.19 1068.04 Q1088.13 1068.67 1089.77 1070.65 Q1091.43 1072.64 1091.43 1075.56 Q1091.43 1080.03 1088.35 1082.48 Q1085.27 1084.93 1079.6 1084.93 Q1077.7 1084.93 1075.67 1084.55 Q1073.67 1084.18 1071.52 1083.43 L1071.52 1079.49 Q1073.22 1080.48 1075.25 1080.98 Q1077.27 1081.49 1079.48 1081.49 Q1083.33 1081.49 1085.33 1079.97 Q1087.36 1078.45 1087.36 1075.56 Q1087.36 1072.88 1085.48 1071.38 Q1083.61 1069.86 1080.27 1069.86 L1076.75 1069.86 L1076.75 1066.5 L1080.43 1066.5 Q1083.45 1066.5 1085.05 1065.31 Q1086.65 1064.09 1086.65 1061.82 Q1086.65 1059.49 1084.99 1058.26 Q1083.35 1057 1080.27 1057 Q1078.59 1057 1076.67 1057.37 Q1074.74 1057.73 1072.43 1058.5 L1072.43 1054.86 Q1074.76 1054.21 1076.79 1053.88 Q1078.83 1053.56 1080.64 1053.56 Q1085.29 1053.56 1088.01 1055.69 Q1090.72 1057.79 1090.72 1061.4 Q1090.72 1063.91 1089.28 1065.65 Q1087.85 1067.37 1085.19 1068.04 Z\" fill=\"#000000\" fill-rule=\"evenodd\" fill-opacity=\"1\" /><path clip-path=\"url(#clip810)\" d=\"M1503.22 679.426 L1492.89 695.569 L1503.22 695.569 L1503.22 679.426 M1502.14 675.861 L1507.29 675.861 L1507.29 695.569 L1511.6 695.569 L1511.6 698.971 L1507.29 698.971 L1507.29 706.101 L1503.22 706.101 L1503.22 698.971 L1489.57 698.971 L1489.57 695.022 L1502.14 675.861 Z\" fill=\"#000000\" fill-rule=\"evenodd\" fill-opacity=\"1\" /><path clip-path=\"url(#clip810)\" d=\"M1729.18 1322.56 L1745.24 1322.56 L1745.24 1326.01 L1732.92 1326.01 L1732.92 1333.42 Q1733.81 1333.12 1734.71 1332.97 Q1735.6 1332.81 1736.49 1332.81 Q1741.55 1332.81 1744.51 1335.59 Q1747.47 1338.36 1747.47 1343.1 Q1747.47 1347.98 1744.43 1350.7 Q1741.39 1353.39 1735.86 1353.39 Q1733.96 1353.39 1731.97 1353.07 Q1730.01 1352.74 1727.9 1352.09 L1727.9 1347.98 Q1729.72 1348.97 1731.67 1349.46 Q1733.61 1349.95 1735.78 1349.95 Q1739.28 1349.95 1741.33 1348.1 Q1743.37 1346.26 1743.37 1343.1 Q1743.37 1339.94 1741.33 1338.1 Q1739.28 1336.25 1735.78 1336.25 Q1734.14 1336.25 1732.5 1336.62 Q1730.88 1336.98 1729.18 1337.75 L1729.18 1322.56 Z\" fill=\"#000000\" fill-rule=\"evenodd\" fill-opacity=\"1\" /></svg>\n"
      ]
     },
     "execution_count": 11,
     "metadata": {},
     "output_type": "execute_result"
    }
   ],
   "source": [
    "n = 5\n",
    "edgelabel_dict = Dict()\n",
    "edgelabel_mat = Array{String}(undef, n, n)\n",
    "for i in 1:n\n",
    "    for j in 1:n\n",
    "        edgelabel_mat[i, j] = edgelabel_dict[(i, j)] = string(round(g[i,j],sigdigits=2)) \n",
    "    end\n",
    "end\n",
    "edgelabel_vec = edgelabel_mat[:]\n",
    "\n",
    "\n",
    "graphplot(g, names=1:5, curvature_scalar=0.2,  edgelabel=edgelabel_dict, markersize = 0.5,\n",
    "           linecolor = :darkgrey, markercolor = \"yellow\",\n",
    "           linealpha = 0.7)"
   ]
  },
  {
   "cell_type": "code",
   "execution_count": 12,
   "id": "63df4e12",
   "metadata": {},
   "outputs": [
    {
     "data": {
      "text/plain": [
       "5×5 Matrix{Float64}:\n",
       "   36089.9        -31786.2        …       1.7473e5      -1.28173e5\n",
       " -356029.0             4.45167e5     -22321.8        37871.5\n",
       "   76634.2            -1.54644e5         -4.36827e6      3.35247e6\n",
       "      -1.98728e5       3.70627e5          4.55057e7     -3.534e7\n",
       "   84409.8            -1.24455e5         -2.08083e7      1.61904e7"
      ]
     },
     "execution_count": 12,
     "metadata": {},
     "output_type": "execute_result"
    }
   ],
   "source": [
    "tt=4\n",
    "g+tt*g^2/2+tt^3*g^3/6+tt^4*g^4/24"
   ]
  },
  {
   "cell_type": "code",
   "execution_count": 13,
   "id": "28b1c0c8",
   "metadata": {},
   "outputs": [
    {
     "data": {
      "text/plain": [
       "5×5 Matrix{Float64}:\n",
       " 0.47519   0.0842387  0.231492  0.0796313  0.129449\n",
       " 0.475189  0.0842387  0.231492  0.0796314  0.129449\n",
       " 0.475187  0.0842385  0.231492  0.079632   0.12945\n",
       " 0.475185  0.0842384  0.231492  0.0796326  0.129451\n",
       " 0.475185  0.0842383  0.231493  0.0796328  0.129452"
      ]
     },
     "execution_count": 13,
     "metadata": {},
     "output_type": "execute_result"
    }
   ],
   "source": [
    "exp(g*tt)"
   ]
  },
  {
   "cell_type": "code",
   "execution_count": 14,
   "id": "e9cdab81",
   "metadata": {},
   "outputs": [
    {
     "data": {
      "text/plain": [
       "351.9200000000001"
      ]
     },
     "execution_count": 14,
     "metadata": {},
     "output_type": "execute_result"
    }
   ],
   "source": [
    "get_RL_atT(1,10)"
   ]
  },
  {
   "cell_type": "code",
   "execution_count": 15,
   "id": "b14920ac",
   "metadata": {},
   "outputs": [
    {
     "data": {
      "text/plain": [
       "5"
      ]
     },
     "execution_count": 15,
     "metadata": {},
     "output_type": "execute_result"
    }
   ],
   "source": [
    "q=get_rate_mat(3)\n",
    "t=5"
   ]
  },
  {
   "cell_type": "code",
   "execution_count": 16,
   "id": "5b41a6c9",
   "metadata": {},
   "outputs": [
    {
     "data": {
      "text/plain": [
       "5×5 Matrix{Float64}:\n",
       " -53.9995    22.9325     32.067      0.0        0.0\n",
       " 176.224   -233.728      53.7122     4.7922     0.0\n",
       "  44.5221    37.1621   -149.144     68.46       0.0\n",
       "  12.3543     3.43035   170.49    -640.449    455.175\n",
       "   0.0        0.0        10.9562   269.048   -279.004"
      ]
     },
     "execution_count": 16,
     "metadata": {},
     "output_type": "execute_result"
    }
   ],
   "source": [
    "(I+t*q+1/2*t^2*q)"
   ]
  },
  {
   "cell_type": "code",
   "execution_count": 17,
   "id": "1dd0c48c",
   "metadata": {},
   "outputs": [
    {
     "data": {
      "text/plain": [
       "5×5 Matrix{Float64}:\n",
       " 0.0    0.4824  0.2448  0.0    0.0\n",
       " 3.496  0.0     0.408   0.0    0.0\n",
       " 0.966  0.7772  0.0     0.024  0.0\n",
       " 0.138  0.0804  1.326   0.0    8.86\n",
       " 0.0    0.0     0.0612  0.096  0.0"
      ]
     },
     "execution_count": 17,
     "metadata": {},
     "output_type": "execute_result"
    }
   ],
   "source": [
    "q_mat=get_transition_mat(i).*collect(innovations[1,4:8])'"
   ]
  },
  {
   "cell_type": "code",
   "execution_count": 18,
   "id": "6e6e1bb6",
   "metadata": {},
   "outputs": [
    {
     "data": {
      "text/plain": [
       "5×5 Matrix{Real}:\n",
       " 0     0.36  0.12  0    0\n",
       " 0.76  0     0.2   0.0  0\n",
       " 0.21  0.58  0     0.2  0\n",
       " 0.03  0.06  0.65  0    1\n",
       " 0     0     0.03  0.8  0"
      ]
     },
     "execution_count": 18,
     "metadata": {},
     "output_type": "execute_result"
    }
   ],
   "source": [
    "get_transition_mat(i)"
   ]
  },
  {
   "cell_type": "code",
   "execution_count": 19,
   "id": "6c1897f3",
   "metadata": {},
   "outputs": [
    {
     "data": {
      "text/plain": [
       "5-element Vector{Float64}:\n",
       " 4.6\n",
       " 1.34\n",
       " 2.04\n",
       " 0.12\n",
       " 8.86"
      ]
     },
     "execution_count": 19,
     "metadata": {},
     "output_type": "execute_result"
    }
   ],
   "source": [
    "collect(innovations[1,4:8])"
   ]
  },
  {
   "cell_type": "code",
   "execution_count": 20,
   "id": "ac81bc95",
   "metadata": {},
   "outputs": [
    {
     "data": {
      "text/plain": [
       "5×5 Matrix{Real}:\n",
       " 0     0.36  0.12  0    0\n",
       " 0.76  0     0.2   0.0  0\n",
       " 0.21  0.58  0     0.2  0\n",
       " 0.03  0.06  0.65  0    1\n",
       " 0     0     0.03  0.8  0"
      ]
     },
     "execution_count": 20,
     "metadata": {},
     "output_type": "execute_result"
    }
   ],
   "source": [
    "get_transition_mat(i)"
   ]
  },
  {
   "cell_type": "code",
   "execution_count": 29,
   "id": "3b6e7444",
   "metadata": {},
   "outputs": [
    {
     "data": {
      "text/plain": [
       "5×5 Matrix{Float64}:\n",
       " -18.857      7.86258   10.9944      0.0        0.0\n",
       "  60.4195   -80.4782    18.4156      1.64304    0.0\n",
       "  15.2647    12.7413   -51.478      23.472      0.0\n",
       "   4.23576    1.17612   58.4536   -219.925    156.06\n",
       "   0.0        0.0        3.75642    92.245    -96.0014"
      ]
     },
     "execution_count": 29,
     "metadata": {},
     "output_type": "execute_result"
    }
   ],
   "source": [
    "q*6"
   ]
  },
  {
   "cell_type": "code",
   "execution_count": 58,
   "id": "c665f6ac",
   "metadata": {},
   "outputs": [
    {
     "data": {
      "text/plain": [
       "5×5 Matrix{Float64}:\n",
       " -218.16    144.72    73.44      0.0      0.0\n",
       " 1048.8   -1171.2    122.4       0.0      0.0\n",
       "  289.8     233.16  -530.16      7.2      0.0\n",
       "   41.4      24.12   397.8   -3121.32  2658.0\n",
       "    0.0       0.0     18.36     28.8    -47.16"
      ]
     },
     "execution_count": 58,
     "metadata": {},
     "output_type": "execute_result"
    }
   ],
   "source": [
    "q=get_rate_mat(1)"
   ]
  },
  {
   "cell_type": "code",
   "execution_count": 59,
   "id": "f1ed89da",
   "metadata": {},
   "outputs": [
    {
     "data": {
      "text/plain": [
       "5×5 Matrix{Float64}:\n",
       " 0.721822  0.114715  0.128138  0.000615839  0.0347095\n",
       " 0.721822  0.114715  0.128138  0.000615839  0.0347095\n",
       " 0.721822  0.114715  0.128138  0.000615839  0.0347095\n",
       " 0.721822  0.114715  0.128138  0.000615839  0.0347095\n",
       " 0.721822  0.114715  0.128138  0.000615839  0.0347095"
      ]
     },
     "execution_count": 59,
     "metadata": {},
     "output_type": "execute_result"
    }
   ],
   "source": [
    "exp(q*9)"
   ]
  },
  {
   "cell_type": "code",
   "execution_count": 60,
   "id": "d54f6cd2",
   "metadata": {},
   "outputs": [
    {
     "data": {
      "text/plain": [
       "7"
      ]
     },
     "execution_count": 60,
     "metadata": {},
     "output_type": "execute_result"
    }
   ],
   "source": [
    "t=7"
   ]
  },
  {
   "cell_type": "code",
   "execution_count": 61,
   "id": "d0ce0ebd",
   "metadata": {},
   "outputs": [
    {
     "data": {
      "text/plain": [
       "5×5 Matrix{Float64}:\n",
       " -1.09902e23   1.17128e23  -2.831e21    -3.10497e22   2.66548e22\n",
       "  9.55603e23  -1.02558e24   8.00398e22  -6.82682e22   5.82016e22\n",
       " -2.39071e23   2.65252e23  -2.21909e23   1.37213e24  -1.1764e24\n",
       "  7.14552e23  -2.51398e24   7.24031e25  -4.95273e26   4.2467e26\n",
       " -2.82463e21   1.90843e22  -6.71049e23   4.59326e24  -3.93847e24"
      ]
     },
     "execution_count": 61,
     "metadata": {},
     "output_type": "execute_result"
    }
   ],
   "source": [
    "I+t*+t^2*q^2/2+t^3*q^3/6+t^4*q^4/24+t^5*q^5/120+t^6*q^6/720+t^7*q^7/5040"
   ]
  },
  {
   "cell_type": "code",
   "execution_count": 66,
   "id": "0d34ea82",
   "metadata": {},
   "outputs": [
    {
     "data": {
      "text/plain": [
       "2×2 Matrix{Int64}:\n",
       " 1  2\n",
       " 1  1"
      ]
     },
     "execution_count": 66,
     "metadata": {},
     "output_type": "execute_result"
    }
   ],
   "source": [
    "a=[1 2; 1 1]"
   ]
  },
  {
   "cell_type": "code",
   "execution_count": 71,
   "id": "c6a78c0b",
   "metadata": {},
   "outputs": [
    {
     "data": {
      "text/plain": [
       "2×2 Matrix{Int64}:\n",
       " 7  10\n",
       " 5   7"
      ]
     },
     "execution_count": 71,
     "metadata": {},
     "output_type": "execute_result"
    }
   ],
   "source": [
    "a^3"
   ]
  },
  {
   "cell_type": "code",
   "execution_count": 68,
   "id": "2cc1163c",
   "metadata": {},
   "outputs": [
    {
     "data": {
      "text/plain": [
       "2×2 Matrix{Int64}:\n",
       " 1  4\n",
       " 1  1"
      ]
     },
     "execution_count": 68,
     "metadata": {},
     "output_type": "execute_result"
    }
   ],
   "source": [
    "a.^2"
   ]
  },
  {
   "cell_type": "code",
   "execution_count": null,
   "id": "3468f6cb",
   "metadata": {},
   "outputs": [],
   "source": []
  }
 ],
 "metadata": {
  "kernelspec": {
   "display_name": "Julia 1.6.3",
   "language": "julia",
   "name": "julia-1.6"
  },
  "language_info": {
   "file_extension": ".jl",
   "mimetype": "application/julia",
   "name": "julia",
   "version": "1.6.3"
  }
 },
 "nbformat": 4,
 "nbformat_minor": 5
}
