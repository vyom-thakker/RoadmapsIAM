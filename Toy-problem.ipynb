{
 "cells": [
  {
   "cell_type": "code",
   "execution_count": 1,
   "id": "0cd38929",
   "metadata": {},
   "outputs": [
    {
     "name": "stderr",
     "output_type": "stream",
     "text": [
      "\u001b[32m\u001b[1m  Activating\u001b[22m\u001b[39m environment at `~/Documents/project-codes/Plan_RoadmapsIAM/toy-problem/Project.toml`\n"
     ]
    }
   ],
   "source": [
    "\n",
    "using Pkg\n",
    "Pkg.activate(\".\")\n",
    "#Pkg.pin(\"JuMP\")\n",
    "#Pkg.pin(\"Gurobi\")\n",
    "using JuMP\n",
    "using CSV\n",
    "using GraphRecipes, Plots\n",
    "using LightGraphs\n",
    "using LinearAlgebra\n",
    "using SparseArrays\n",
    "using DataFrames\n",
    "using Gurobi"
   ]
  },
  {
   "cell_type": "code",
   "execution_count": 7,
   "id": "6cd49756",
   "metadata": {},
   "outputs": [
    {
     "data": {
      "text/html": [
       "<div class=\"data-frame\"><p>1 rows × 6 columns</p><table class=\"data-frame\"><thead><tr><th></th><th>k</th><th>i</th><th>GWP</th><th>Theta</th><th>Per_Recycl</th><th>Per_Comp</th></tr><tr><th></th><th title=\"Int64\">Int64</th><th title=\"Int64\">Int64</th><th title=\"Int64\">Int64</th><th title=\"Float64\">Float64</th><th title=\"Float64\">Float64</th><th title=\"Int64\">Int64</th></tr></thead><tbody><tr><th>1</th><td>0</td><td>0</td><td>100</td><td>0.25</td><td>0.12</td><td>0</td></tr></tbody></table></div>"
      ],
      "text/latex": [
       "\\begin{tabular}{r|cccccc}\n",
       "\t& k & i & GWP & Theta & Per\\_Recycl & Per\\_Comp\\\\\n",
       "\t\\hline\n",
       "\t& Int64 & Int64 & Int64 & Float64 & Float64 & Int64\\\\\n",
       "\t\\hline\n",
       "\t1 & 0 & 0 & 100 & 0.25 & 0.12 & 0 \\\\\n",
       "\\end{tabular}\n"
      ],
      "text/plain": [
       "\u001b[1m1×6 DataFrame\u001b[0m\n",
       "\u001b[1m Row \u001b[0m│\u001b[1m k     \u001b[0m\u001b[1m i     \u001b[0m\u001b[1m GWP   \u001b[0m\u001b[1m Theta   \u001b[0m\u001b[1m Per_Recycl \u001b[0m\u001b[1m Per_Comp \u001b[0m\n",
       "\u001b[1m     \u001b[0m│\u001b[90m Int64 \u001b[0m\u001b[90m Int64 \u001b[0m\u001b[90m Int64 \u001b[0m\u001b[90m Float64 \u001b[0m\u001b[90m Float64    \u001b[0m\u001b[90m Int64    \u001b[0m\n",
       "─────┼────────────────────────────────────────────────────\n",
       "   1 │     0      0    100     0.25        0.12         0"
      ]
     },
     "execution_count": 7,
     "metadata": {},
     "output_type": "execute_result"
    }
   ],
   "source": [
    "innovations = CSV.File(\"./innovations.csv\",header=1,delim=\",\") |> DataFrame\n",
    "mapki = CSV.File(\"./map-ki.csv\",header=1,delim=\",\") |> DataFrame\n",
    "compromise = CSV.File(\"./compromise.csv\",header=1,delim=\",\") |> DataFrame\n",
    "initial = CSV.File(\"./initial.csv\",header=1,delim=\",\") |> DataFrame\n",
    "ci=innovations[!,2]\n",
    "rl=innovations[!,3]\n",
    "innovations[2,6]=7\n",
    "initial"
   ]
  },
  {
   "cell_type": "code",
   "execution_count": 72,
   "id": "f12511b3",
   "metadata": {},
   "outputs": [
    {
     "data": {
      "text/html": [
       "<div class=\"data-frame\"><p>5 rows × 33 columns (omitted printing of 24 columns)</p><table class=\"data-frame\"><thead><tr><th></th><th>i</th><th>Cost_per_RL</th><th>RL</th><th>Sojourn1</th><th>Sojourn2</th><th>Sojourn3</th><th>Sojourn4</th><th>Sojourn5</th><th>P11</th></tr><tr><th></th><th title=\"Int64\">Int64</th><th title=\"Int64\">Int64</th><th title=\"Int64\">Int64</th><th title=\"Float64\">Float64</th><th title=\"Float64\">Float64</th><th title=\"Float64\">Float64</th><th title=\"Float64\">Float64</th><th title=\"Float64\">Float64</th><th title=\"Int64\">Int64</th></tr></thead><tbody><tr><th>1</th><td>1</td><td>92</td><td>2</td><td>4.6</td><td>1.34</td><td>2.04</td><td>0.12</td><td>8.86</td><td>0</td></tr><tr><th>2</th><td>2</td><td>122</td><td>3</td><td>8.32</td><td>8.84</td><td>7.0</td><td>9.9</td><td>9.65</td><td>0</td></tr><tr><th>3</th><td>3</td><td>78</td><td>1</td><td>4.44</td><td>1.21</td><td>5.09</td><td>6.52</td><td>8.67</td><td>0</td></tr><tr><th>4</th><td>4</td><td>131</td><td>3</td><td>5.48</td><td>7.62</td><td>3.34</td><td>5.05</td><td>5.6</td><td>0</td></tr><tr><th>5</th><td>5</td><td>95</td><td>1</td><td>9.94</td><td>2.38</td><td>7.94</td><td>3.82</td><td>5.44</td><td>0</td></tr></tbody></table></div>"
      ],
      "text/latex": [
       "\\begin{tabular}{r|cccccccccc}\n",
       "\t& i & Cost\\_per\\_RL & RL & Sojourn1 & Sojourn2 & Sojourn3 & Sojourn4 & Sojourn5 & P11 & \\\\\n",
       "\t\\hline\n",
       "\t& Int64 & Int64 & Int64 & Float64 & Float64 & Float64 & Float64 & Float64 & Int64 & \\\\\n",
       "\t\\hline\n",
       "\t1 & 1 & 92 & 2 & 4.6 & 1.34 & 2.04 & 0.12 & 8.86 & 0 & $\\dots$ \\\\\n",
       "\t2 & 2 & 122 & 3 & 8.32 & 8.84 & 7.0 & 9.9 & 9.65 & 0 & $\\dots$ \\\\\n",
       "\t3 & 3 & 78 & 1 & 4.44 & 1.21 & 5.09 & 6.52 & 8.67 & 0 & $\\dots$ \\\\\n",
       "\t4 & 4 & 131 & 3 & 5.48 & 7.62 & 3.34 & 5.05 & 5.6 & 0 & $\\dots$ \\\\\n",
       "\t5 & 5 & 95 & 1 & 9.94 & 2.38 & 7.94 & 3.82 & 5.44 & 0 & $\\dots$ \\\\\n",
       "\\end{tabular}\n"
      ],
      "text/plain": [
       "\u001b[1m5×33 DataFrame\u001b[0m\n",
       "\u001b[1m Row \u001b[0m│\u001b[1m i     \u001b[0m\u001b[1m Cost_per_RL \u001b[0m\u001b[1m RL    \u001b[0m\u001b[1m Sojourn1 \u001b[0m\u001b[1m Sojourn2 \u001b[0m\u001b[1m Sojourn3 \u001b[0m\u001b[1m Sojourn4 \u001b[0m\u001b[1m Sojo\u001b[0m ⋯\n",
       "\u001b[1m     \u001b[0m│\u001b[90m Int64 \u001b[0m\u001b[90m Int64       \u001b[0m\u001b[90m Int64 \u001b[0m\u001b[90m Float64  \u001b[0m\u001b[90m Float64  \u001b[0m\u001b[90m Float64  \u001b[0m\u001b[90m Float64  \u001b[0m\u001b[90m Floa\u001b[0m ⋯\n",
       "─────┼──────────────────────────────────────────────────────────────────────────\n",
       "   1 │     1           92      2      4.6       1.34      2.04      0.12       ⋯\n",
       "   2 │     2          122      3      8.32      8.84      7.0       9.9\n",
       "   3 │     3           78      1      4.44      1.21      5.09      6.52\n",
       "   4 │     4          131      3      5.48      7.62      3.34      5.05\n",
       "   5 │     5           95      1      9.94      2.38      7.94      3.82       ⋯\n",
       "\u001b[36m                                                              26 columns omitted\u001b[0m"
      ]
     },
     "execution_count": 72,
     "metadata": {},
     "output_type": "execute_result"
    }
   ],
   "source": [
    "innovations"
   ]
  },
  {
   "cell_type": "code",
   "execution_count": 73,
   "id": "c5e56caa",
   "metadata": {},
   "outputs": [
    {
     "data": {
      "text/html": [
       "<div class=\"data-frame\"><p>25 rows × 6 columns</p><table class=\"data-frame\"><thead><tr><th></th><th>k</th><th>i</th><th>GWP</th><th>Theta</th><th>Per_Recycl</th><th>Per_Comp</th></tr><tr><th></th><th title=\"Int64\">Int64</th><th title=\"Int64\">Int64</th><th title=\"Int64\">Int64</th><th title=\"Float64\">Float64</th><th title=\"Float64\">Float64</th><th title=\"Float64\">Float64</th></tr></thead><tbody><tr><th>1</th><td>1</td><td>1</td><td>80</td><td>0.6</td><td>0.5</td><td>0.0</td></tr><tr><th>2</th><td>2</td><td>1</td><td>86</td><td>0.66</td><td>0.55</td><td>0.0</td></tr><tr><th>3</th><td>3</td><td>1</td><td>91</td><td>0.68</td><td>0.567</td><td>0.0</td></tr><tr><th>4</th><td>4</td><td>1</td><td>95</td><td>0.7</td><td>0.583</td><td>0.0</td></tr><tr><th>5</th><td>5</td><td>2</td><td>60</td><td>0.4</td><td>0.0</td><td>0.2</td></tr><tr><th>6</th><td>6</td><td>2</td><td>64</td><td>0.48</td><td>0.0</td><td>0.24</td></tr><tr><th>7</th><td>7</td><td>2</td><td>68</td><td>0.5</td><td>0.0</td><td>0.27</td></tr><tr><th>8</th><td>8</td><td>2</td><td>76</td><td>0.52</td><td>0.0</td><td>0.34</td></tr><tr><th>9</th><td>9</td><td>2</td><td>80</td><td>0.54</td><td>0.0</td><td>0.37</td></tr><tr><th>10</th><td>10</td><td>2</td><td>85</td><td>0.55</td><td>0.0</td><td>0.4</td></tr><tr><th>11</th><td>11</td><td>3</td><td>85</td><td>0.6</td><td>0.6</td><td>0.3</td></tr><tr><th>12</th><td>12</td><td>3</td><td>89</td><td>0.68</td><td>0.55</td><td>0.4</td></tr><tr><th>13</th><td>13</td><td>3</td><td>93</td><td>0.76</td><td>0.53</td><td>0.4</td></tr><tr><th>14</th><td>14</td><td>3</td><td>95</td><td>0.82</td><td>0.5</td><td>0.4</td></tr><tr><th>15</th><td>15</td><td>4</td><td>75</td><td>0.65</td><td>0.0</td><td>0.5</td></tr><tr><th>16</th><td>16</td><td>4</td><td>78</td><td>0.69</td><td>0.0</td><td>0.531</td></tr><tr><th>17</th><td>17</td><td>4</td><td>80</td><td>0.71</td><td>0.0</td><td>0.55</td></tr><tr><th>18</th><td>18</td><td>4</td><td>81</td><td>0.72</td><td>0.0</td><td>0.55</td></tr><tr><th>19</th><td>19</td><td>4</td><td>83</td><td>0.74</td><td>0.0</td><td>0.57</td></tr><tr><th>20</th><td>20</td><td>4</td><td>85</td><td>0.75</td><td>0.0</td><td>0.8</td></tr><tr><th>21</th><td>21</td><td>5</td><td>90</td><td>0.9</td><td>0.7</td><td>0.15</td></tr><tr><th>22</th><td>22</td><td>5</td><td>92</td><td>0.92</td><td>0.716</td><td>0.1</td></tr><tr><th>23</th><td>23</td><td>5</td><td>94</td><td>0.94</td><td>0.731</td><td>0.0</td></tr><tr><th>24</th><td>24</td><td>5</td><td>96</td><td>0.95</td><td>0.738</td><td>0.0</td></tr><tr><th>25</th><td>25</td><td>5</td><td>100</td><td>0.95</td><td>0.738</td><td>0.0</td></tr></tbody></table></div>"
      ],
      "text/latex": [
       "\\begin{tabular}{r|cccccc}\n",
       "\t& k & i & GWP & Theta & Per\\_Recycl & Per\\_Comp\\\\\n",
       "\t\\hline\n",
       "\t& Int64 & Int64 & Int64 & Float64 & Float64 & Float64\\\\\n",
       "\t\\hline\n",
       "\t1 & 1 & 1 & 80 & 0.6 & 0.5 & 0.0 \\\\\n",
       "\t2 & 2 & 1 & 86 & 0.66 & 0.55 & 0.0 \\\\\n",
       "\t3 & 3 & 1 & 91 & 0.68 & 0.567 & 0.0 \\\\\n",
       "\t4 & 4 & 1 & 95 & 0.7 & 0.583 & 0.0 \\\\\n",
       "\t5 & 5 & 2 & 60 & 0.4 & 0.0 & 0.2 \\\\\n",
       "\t6 & 6 & 2 & 64 & 0.48 & 0.0 & 0.24 \\\\\n",
       "\t7 & 7 & 2 & 68 & 0.5 & 0.0 & 0.27 \\\\\n",
       "\t8 & 8 & 2 & 76 & 0.52 & 0.0 & 0.34 \\\\\n",
       "\t9 & 9 & 2 & 80 & 0.54 & 0.0 & 0.37 \\\\\n",
       "\t10 & 10 & 2 & 85 & 0.55 & 0.0 & 0.4 \\\\\n",
       "\t11 & 11 & 3 & 85 & 0.6 & 0.6 & 0.3 \\\\\n",
       "\t12 & 12 & 3 & 89 & 0.68 & 0.55 & 0.4 \\\\\n",
       "\t13 & 13 & 3 & 93 & 0.76 & 0.53 & 0.4 \\\\\n",
       "\t14 & 14 & 3 & 95 & 0.82 & 0.5 & 0.4 \\\\\n",
       "\t15 & 15 & 4 & 75 & 0.65 & 0.0 & 0.5 \\\\\n",
       "\t16 & 16 & 4 & 78 & 0.69 & 0.0 & 0.531 \\\\\n",
       "\t17 & 17 & 4 & 80 & 0.71 & 0.0 & 0.55 \\\\\n",
       "\t18 & 18 & 4 & 81 & 0.72 & 0.0 & 0.55 \\\\\n",
       "\t19 & 19 & 4 & 83 & 0.74 & 0.0 & 0.57 \\\\\n",
       "\t20 & 20 & 4 & 85 & 0.75 & 0.0 & 0.8 \\\\\n",
       "\t21 & 21 & 5 & 90 & 0.9 & 0.7 & 0.15 \\\\\n",
       "\t22 & 22 & 5 & 92 & 0.92 & 0.716 & 0.1 \\\\\n",
       "\t23 & 23 & 5 & 94 & 0.94 & 0.731 & 0.0 \\\\\n",
       "\t24 & 24 & 5 & 96 & 0.95 & 0.738 & 0.0 \\\\\n",
       "\t25 & 25 & 5 & 100 & 0.95 & 0.738 & 0.0 \\\\\n",
       "\\end{tabular}\n"
      ],
      "text/plain": [
       "\u001b[1m25×6 DataFrame\u001b[0m\n",
       "\u001b[1m Row \u001b[0m│\u001b[1m k     \u001b[0m\u001b[1m i     \u001b[0m\u001b[1m GWP   \u001b[0m\u001b[1m Theta   \u001b[0m\u001b[1m Per_Recycl \u001b[0m\u001b[1m Per_Comp \u001b[0m\n",
       "\u001b[1m     \u001b[0m│\u001b[90m Int64 \u001b[0m\u001b[90m Int64 \u001b[0m\u001b[90m Int64 \u001b[0m\u001b[90m Float64 \u001b[0m\u001b[90m Float64    \u001b[0m\u001b[90m Float64  \u001b[0m\n",
       "─────┼────────────────────────────────────────────────────\n",
       "   1 │     1      1     80     0.6        0.5       0.0\n",
       "   2 │     2      1     86     0.66       0.55      0.0\n",
       "   3 │     3      1     91     0.68       0.567     0.0\n",
       "   4 │     4      1     95     0.7        0.583     0.0\n",
       "   5 │     5      2     60     0.4        0.0       0.2\n",
       "   6 │     6      2     64     0.48       0.0       0.24\n",
       "   7 │     7      2     68     0.5        0.0       0.27\n",
       "   8 │     8      2     76     0.52       0.0       0.34\n",
       "   9 │     9      2     80     0.54       0.0       0.37\n",
       "  10 │    10      2     85     0.55       0.0       0.4\n",
       "  11 │    11      3     85     0.6        0.6       0.3\n",
       "  ⋮  │   ⋮      ⋮      ⋮       ⋮         ⋮          ⋮\n",
       "  16 │    16      4     78     0.69       0.0       0.531\n",
       "  17 │    17      4     80     0.71       0.0       0.55\n",
       "  18 │    18      4     81     0.72       0.0       0.55\n",
       "  19 │    19      4     83     0.74       0.0       0.57\n",
       "  20 │    20      4     85     0.75       0.0       0.8\n",
       "  21 │    21      5     90     0.9        0.7       0.15\n",
       "  22 │    22      5     92     0.92       0.716     0.1\n",
       "  23 │    23      5     94     0.94       0.731     0.0\n",
       "  24 │    24      5     96     0.95       0.738     0.0\n",
       "  25 │    25      5    100     0.95       0.738     0.0\n",
       "\u001b[36m                                            4 rows omitted\u001b[0m"
      ]
     },
     "execution_count": 73,
     "metadata": {},
     "output_type": "execute_result"
    }
   ],
   "source": [
    "compromise"
   ]
  },
  {
   "cell_type": "code",
   "execution_count": 6,
   "id": "be8c7969",
   "metadata": {},
   "outputs": [
    {
     "data": {
      "text/html": [
       "<div class=\"data-frame\"><p>5 rows × 2 columns</p><table class=\"data-frame\"><thead><tr><th></th><th>i</th><th>k_lim</th></tr><tr><th></th><th title=\"Int64\">Int64</th><th title=\"Int64\">Int64</th></tr></thead><tbody><tr><th>1</th><td>1</td><td>4</td></tr><tr><th>2</th><td>2</td><td>10</td></tr><tr><th>3</th><td>3</td><td>14</td></tr><tr><th>4</th><td>4</td><td>20</td></tr><tr><th>5</th><td>5</td><td>25</td></tr></tbody></table></div>"
      ],
      "text/latex": [
       "\\begin{tabular}{r|cc}\n",
       "\t& i & k\\_lim\\\\\n",
       "\t\\hline\n",
       "\t& Int64 & Int64\\\\\n",
       "\t\\hline\n",
       "\t1 & 1 & 4 \\\\\n",
       "\t2 & 2 & 10 \\\\\n",
       "\t3 & 3 & 14 \\\\\n",
       "\t4 & 4 & 20 \\\\\n",
       "\t5 & 5 & 25 \\\\\n",
       "\\end{tabular}\n"
      ],
      "text/plain": [
       "\u001b[1m5×2 DataFrame\u001b[0m\n",
       "\u001b[1m Row \u001b[0m│\u001b[1m i     \u001b[0m\u001b[1m k_lim \u001b[0m\n",
       "\u001b[1m     \u001b[0m│\u001b[90m Int64 \u001b[0m\u001b[90m Int64 \u001b[0m\n",
       "─────┼──────────────\n",
       "   1 │     1      4\n",
       "   2 │     2     10\n",
       "   3 │     3     14\n",
       "   4 │     4     20\n",
       "   5 │     5     25"
      ]
     },
     "execution_count": 6,
     "metadata": {},
     "output_type": "execute_result"
    }
   ],
   "source": [
    "mapki"
   ]
  },
  {
   "cell_type": "code",
   "execution_count": 71,
   "id": "9d70e055",
   "metadata": {},
   "outputs": [
    {
     "data": {
      "image/svg+xml": [
       "<?xml version=\"1.0\" encoding=\"utf-8\"?>\n",
       "<svg xmlns=\"http://www.w3.org/2000/svg\" xmlns:xlink=\"http://www.w3.org/1999/xlink\" width=\"600\" height=\"400\" viewBox=\"0 0 2400 1600\">\n",
       "<defs>\n",
       "  <clipPath id=\"clip930\">\n",
       "    <rect x=\"0\" y=\"0\" width=\"2400\" height=\"1600\"/>\n",
       "  </clipPath>\n",
       "</defs>\n",
       "<path clip-path=\"url(#clip930)\" d=\"\n",
       "M0 1600 L2400 1600 L2400 0 L0 0  Z\n",
       "  \" fill=\"#ffffff\" fill-rule=\"evenodd\" fill-opacity=\"1\"/>\n",
       "<defs>\n",
       "  <clipPath id=\"clip931\">\n",
       "    <rect x=\"480\" y=\"0\" width=\"1681\" height=\"1600\"/>\n",
       "  </clipPath>\n",
       "</defs>\n",
       "<path clip-path=\"url(#clip930)\" d=\"\n",
       "M447.244 1552.76 L1952.76 1552.76 L1952.76 47.2441 L447.244 47.2441  Z\n",
       "  \" fill=\"#ffffff\" fill-rule=\"evenodd\" fill-opacity=\"1\"/>\n",
       "<defs>\n",
       "  <clipPath id=\"clip932\">\n",
       "    <rect x=\"447\" y=\"47\" width=\"1507\" height=\"1507\"/>\n",
       "  </clipPath>\n",
       "</defs>\n",
       "<polyline clip-path=\"url(#clip932)\" style=\"stroke:#000000; stroke-linecap:butt; stroke-linejoin:round; stroke-width:4; stroke-opacity:0.7; fill:none\" points=\"\n",
       "  1391.72,1455.03 1395.16,1462.21 1398.59,1469.35 1402.01,1476.41 1405.39,1483.36 1408.74,1490.16 1412.05,1496.76 1415.3,1503.13 1418.49,1509.24 1421.61,1515.03 \n",
       "  1424.64,1520.48 1427.59,1525.55 1430.43,1530.19 1433.17,1534.37 1435.8,1538.09 1438.31,1541.36 1440.7,1544.18 1442.98,1546.58 1445.14,1548.56 1447.18,1550.13 \n",
       "  1449.1,1551.3 1450.9,1552.09 1452.56,1552.51 1454.11,1552.56 1455.52,1552.26 1456.8,1551.62 1457.94,1550.64 1458.95,1549.34 1459.81,1547.7 1460.53,1545.74 \n",
       "  1461.08,1543.45 1461.48,1540.85 1461.71,1537.92 1461.78,1534.68 1461.67,1531.13 1461.37,1527.26 1460.9,1523.09 1460.23,1518.61 1459.37,1513.84 1458.34,1508.79 \n",
       "  1457.15,1503.5 1455.82,1497.98 1454.36,1492.26 1452.79,1486.37 1451.13,1480.33 1449.39,1474.17 1447.58,1467.91 1445.72,1461.57 1443.84,1455.19 1441.93,1448.78 \n",
       "  \n",
       "  \"/>\n",
       "<polyline clip-path=\"url(#clip932)\" style=\"stroke:#000000; stroke-linecap:butt; stroke-linejoin:round; stroke-width:4; stroke-opacity:0.7; fill:none\" points=\"\n",
       "  1434.92,1488.41 1441.93,1448.78 1469.43,1478.17 \n",
       "  \"/>\n",
       "<polyline clip-path=\"url(#clip932)\" style=\"stroke:#000000; stroke-linecap:butt; stroke-linejoin:round; stroke-width:4; stroke-opacity:0.7; fill:none\" points=\"\n",
       "  1441.93,1448.78 1443.84,1455.19 \n",
       "  \"/>\n",
       "<polyline clip-path=\"url(#clip932)\" style=\"stroke:#000000; stroke-linecap:butt; stroke-linejoin:round; stroke-width:4; stroke-opacity:0.7; fill:none\" points=\"\n",
       "  1370.58,1337.68 1352.98,1346.19 1335.4,1354.66 1317.86,1363.07 1300.38,1371.38 1282.97,1379.55 1265.66,1387.55 1248.46,1395.35 1231.4,1402.92 1214.49,1410.22 \n",
       "  1197.76,1417.21 1181.22,1423.87 1164.89,1430.16 1148.79,1436.04 1132.94,1441.49 1117.36,1446.47 1102.06,1450.95 1087.08,1454.88 1072.42,1458.25 1058.11,1461.01 \n",
       "  1044.16,1463.13 1030.6,1464.58 1017.44,1465.32 1004.7,1465.33 992.403,1464.56 980.569,1462.99 969.194,1460.61 958.262,1457.46 947.752,1453.56 937.646,1448.97 \n",
       "  927.924,1443.7 918.567,1437.79 909.556,1431.28 900.872,1424.19 892.495,1416.57 884.407,1408.45 876.588,1399.85 869.018,1390.82 861.679,1381.38 854.551,1371.58 \n",
       "  847.616,1361.43 840.853,1350.99 834.244,1340.27 827.77,1329.33 821.411,1318.18 815.148,1306.86 808.962,1295.4 802.833,1283.85 796.743,1272.23 790.673,1260.58 \n",
       "  \n",
       "  \"/>\n",
       "<polyline clip-path=\"url(#clip932)\" style=\"stroke:#000000; stroke-linecap:butt; stroke-linejoin:round; stroke-width:4; stroke-opacity:0.7; fill:none\" points=\"\n",
       "  791.34,1300.82 790.673,1260.58 823.268,1284.19 \n",
       "  \"/>\n",
       "<polyline clip-path=\"url(#clip932)\" style=\"stroke:#000000; stroke-linecap:butt; stroke-linejoin:round; stroke-width:4; stroke-opacity:0.7; fill:none\" points=\"\n",
       "  790.673,1260.58 796.743,1272.23 \n",
       "  \"/>\n",
       "<polyline clip-path=\"url(#clip932)\" style=\"stroke:#000000; stroke-linecap:butt; stroke-linejoin:round; stroke-width:4; stroke-opacity:0.7; fill:none\" points=\"\n",
       "  1370.58,1337.68 1345.7,1328.1 1320.87,1318.5 1296.1,1308.87 1271.46,1299.18 1246.96,1289.44 1222.64,1279.6 1198.56,1269.67 1174.73,1259.63 1151.21,1249.45 \n",
       "  1128.02,1239.12 1105.2,1228.63 1082.8,1217.96 1060.85,1207.09 1039.39,1196 1018.45,1184.68 998.074,1173.12 978.297,1161.29 959.158,1149.18 940.693,1136.77 \n",
       "  922.94,1124.05 905.936,1111 889.72,1097.6 874.329,1083.84 859.8,1069.69 846.168,1055.16 833.435,1040.22 821.564,1024.91 810.517,1009.23 800.258,993.209 \n",
       "  790.748,976.855 781.95,960.188 773.827,943.223 766.341,925.977 759.455,908.467 753.132,890.709 747.333,872.72 742.021,854.516 737.159,836.114 732.709,817.531 \n",
       "  728.634,798.782 724.897,779.884 721.459,760.855 718.284,741.71 715.333,722.465 712.57,703.138 709.957,683.746 707.457,664.303 705.031,644.827 702.643,625.335 \n",
       "  \n",
       "  \"/>\n",
       "<polyline clip-path=\"url(#clip932)\" style=\"stroke:#000000; stroke-linecap:butt; stroke-linejoin:round; stroke-width:4; stroke-opacity:0.7; fill:none\" points=\"\n",
       "  689.155,663.257 702.643,625.335 724.887,658.879 \n",
       "  \"/>\n",
       "<polyline clip-path=\"url(#clip932)\" style=\"stroke:#000000; stroke-linecap:butt; stroke-linejoin:round; stroke-width:4; stroke-opacity:0.7; fill:none\" points=\"\n",
       "  702.643,625.335 705.031,644.827 \n",
       "  \"/>\n",
       "<polyline clip-path=\"url(#clip932)\" style=\"stroke:#000000; stroke-linecap:butt; stroke-linejoin:round; stroke-width:4; stroke-opacity:0.7; fill:none\" points=\"\n",
       "  1370.58,1337.68 1389.1,1332.2 1407.59,1326.7 1426,1321.18 1444.31,1315.62 1462.46,1310.02 1480.43,1304.35 1498.18,1298.62 1515.67,1292.79 1532.87,1286.88 \n",
       "  1549.74,1280.85 1566.23,1274.71 1582.33,1268.43 1597.98,1262.01 1613.15,1255.43 1627.8,1248.68 1641.9,1241.76 1655.42,1234.64 1668.3,1227.32 1680.52,1219.78 \n",
       "  1692.05,1212.01 1702.83,1204.01 1712.85,1195.75 1722.05,1187.23 1730.4,1178.43 1737.87,1169.34 1744.46,1159.97 1750.2,1150.32 1755.13,1140.4 1759.29,1130.23 \n",
       "  1762.71,1119.83 1765.43,1109.19 1767.49,1098.34 1768.92,1087.29 1769.76,1076.04 1770.04,1064.61 1769.82,1053.01 1769.11,1041.26 1767.96,1029.37 1766.4,1017.34 \n",
       "  1764.48,1005.19 1762.23,992.935 1759.68,980.583 1756.87,968.147 1753.84,955.639 1750.63,943.07 1747.27,930.454 1743.8,917.802 1740.25,905.125 1736.67,892.437 \n",
       "  \n",
       "  \"/>\n",
       "<polyline clip-path=\"url(#clip932)\" style=\"stroke:#000000; stroke-linecap:butt; stroke-linejoin:round; stroke-width:4; stroke-opacity:0.7; fill:none\" points=\"\n",
       "  1729.13,931.973 1736.67,892.437 1763.77,922.194 \n",
       "  \"/>\n",
       "<polyline clip-path=\"url(#clip932)\" style=\"stroke:#000000; stroke-linecap:butt; stroke-linejoin:round; stroke-width:4; stroke-opacity:0.7; fill:none\" points=\"\n",
       "  1736.67,892.437 1740.25,905.125 \n",
       "  \"/>\n",
       "<polyline clip-path=\"url(#clip932)\" style=\"stroke:#000000; stroke-linecap:butt; stroke-linejoin:round; stroke-width:4; stroke-opacity:0.7; fill:none\" points=\"\n",
       "  1370.58,1337.68 1356.39,1315.4 1342.25,1293.13 1328.18,1270.88 1314.24,1248.66 1300.45,1226.47 1286.86,1204.33 1273.52,1182.24 1260.45,1160.21 1247.7,1138.26 \n",
       "  1235.31,1116.39 1223.32,1094.61 1211.77,1072.93 1200.69,1051.36 1190.14,1029.91 1180.14,1008.59 1170.74,987.4 1161.98,966.357 1153.9,945.47 1146.54,924.745 \n",
       "  1139.93,904.194 1134.12,883.825 1129.15,863.646 1125.06,843.667 1121.89,823.898 1119.67,804.347 1118.4,785.013 1118.06,765.889 1118.59,746.964 1119.96,728.231 \n",
       "  1122.12,709.679 1125.05,691.3 1128.69,673.085 1133.01,655.025 1137.97,637.11 1143.53,619.331 1149.64,601.68 1156.28,584.147 1163.39,566.723 1170.94,549.399 \n",
       "  1178.9,532.166 1187.21,515.015 1195.83,497.936 1204.74,480.921 1213.89,463.961 1223.24,447.046 1232.74,430.168 1242.37,413.317 1252.08,396.484 1261.82,379.66 \n",
       "  \n",
       "  \"/>\n",
       "<polyline clip-path=\"url(#clip932)\" style=\"stroke:#000000; stroke-linecap:butt; stroke-linejoin:round; stroke-width:4; stroke-opacity:0.7; fill:none\" points=\"\n",
       "  1228.2,401.788 1261.82,379.66 1259.35,419.834 \n",
       "  \"/>\n",
       "<polyline clip-path=\"url(#clip932)\" style=\"stroke:#000000; stroke-linecap:butt; stroke-linejoin:round; stroke-width:4; stroke-opacity:0.7; fill:none\" points=\"\n",
       "  1261.82,379.66 1252.08,396.484 \n",
       "  \"/>\n",
       "<polyline clip-path=\"url(#clip932)\" style=\"stroke:#000000; stroke-linecap:butt; stroke-linejoin:round; stroke-width:4; stroke-opacity:0.7; fill:none\" points=\"\n",
       "  705.966,1172.6 723.565,1164.1 741.145,1155.62 758.686,1147.22 776.17,1138.91 793.576,1130.74 810.887,1122.74 828.082,1114.94 845.143,1107.37 862.05,1100.07 \n",
       "  878.784,1093.08 895.326,1086.42 911.657,1080.13 927.757,1074.24 943.607,1068.79 959.188,1063.82 974.481,1059.34 989.467,1055.41 1004.13,1052.04 1018.44,1049.28 \n",
       "  1032.39,1047.16 1045.95,1045.71 1059.11,1044.96 1071.85,1044.96 1084.14,1045.73 1095.98,1047.3 1107.35,1049.68 1118.28,1052.83 1128.79,1056.72 1138.9,1061.32 \n",
       "  1148.62,1066.59 1157.98,1072.5 1166.99,1079.01 1175.67,1086.09 1184.05,1093.72 1192.14,1101.84 1199.96,1110.44 1207.53,1119.47 1214.87,1128.91 1221.99,1138.71 \n",
       "  1228.93,1148.85 1235.69,1159.3 1242.3,1170.01 1248.78,1180.96 1255.13,1192.11 1261.4,1203.43 1267.58,1214.88 1273.71,1226.44 1279.8,1238.06 1285.87,1249.71 \n",
       "  \n",
       "  \"/>\n",
       "<polyline clip-path=\"url(#clip932)\" style=\"stroke:#000000; stroke-linecap:butt; stroke-linejoin:round; stroke-width:4; stroke-opacity:0.7; fill:none\" points=\"\n",
       "  1285.21,1209.47 1285.87,1249.71 1253.28,1226.1 \n",
       "  \"/>\n",
       "<polyline clip-path=\"url(#clip932)\" style=\"stroke:#000000; stroke-linecap:butt; stroke-linejoin:round; stroke-width:4; stroke-opacity:0.7; fill:none\" points=\"\n",
       "  1285.87,1249.71 1279.8,1238.06 \n",
       "  \"/>\n",
       "<polyline clip-path=\"url(#clip932)\" style=\"stroke:#000000; stroke-linecap:butt; stroke-linejoin:round; stroke-width:4; stroke-opacity:0.7; fill:none\" points=\"\n",
       "  808.967,1116.32 792.863,1127.39 776.876,1138.4 761.122,1149.27 745.719,1159.95 730.783,1170.37 716.431,1180.47 702.779,1190.17 689.945,1199.42 678.045,1208.15 \n",
       "  667.196,1216.29 657.514,1223.78 649.117,1230.56 642.107,1236.56 636.456,1241.81 632.07,1246.33 628.856,1250.19 626.718,1253.42 625.564,1256.08 625.299,1258.2 \n",
       "  625.828,1259.84 627.057,1261.04 628.892,1261.84 631.24,1262.3 634.005,1262.46 637.093,1262.37 640.414,1262.06 643.881,1261.59 647.407,1260.98 650.903,1260.28 \n",
       "  654.284,1259.54 657.462,1258.78 660.349,1258.06 662.859,1257.4 664.904,1256.86 666.397,1256.47 667.251,1256.27 667.38,1256.31 666.743,1256.59 665.396,1257.12 \n",
       "  663.403,1257.85 660.828,1258.78 657.736,1259.89 654.192,1261.14 650.261,1262.52 646.006,1264.01 641.492,1265.58 636.785,1267.22 631.949,1268.9 627.048,1270.6 \n",
       "  \n",
       "  \"/>\n",
       "<polyline clip-path=\"url(#clip932)\" style=\"stroke:#000000; stroke-linecap:butt; stroke-linejoin:round; stroke-width:4; stroke-opacity:0.7; fill:none\" points=\"\n",
       "  666.96,1275.79 627.048,1270.6 655.151,1241.79 \n",
       "  \"/>\n",
       "<polyline clip-path=\"url(#clip932)\" style=\"stroke:#000000; stroke-linecap:butt; stroke-linejoin:round; stroke-width:4; stroke-opacity:0.7; fill:none\" points=\"\n",
       "  627.048,1270.6 631.949,1268.9 \n",
       "  \"/>\n",
       "<polyline clip-path=\"url(#clip932)\" style=\"stroke:#000000; stroke-linecap:butt; stroke-linejoin:round; stroke-width:4; stroke-opacity:0.7; fill:none\" points=\"\n",
       "  705.966,1172.6 692.609,1158.71 679.288,1144.82 666.042,1130.95 652.907,1117.11 639.921,1103.3 627.12,1089.54 614.542,1075.84 602.223,1062.2 590.202,1048.63 \n",
       "  578.514,1035.14 567.198,1021.74 556.291,1008.45 545.828,995.261 535.848,982.192 526.388,969.251 517.485,956.446 509.175,943.786 501.497,931.281 494.486,918.939 \n",
       "  488.181,906.771 482.618,894.784 477.835,882.988 473.869,871.392 470.756,860.006 468.532,848.837 467.198,837.886 466.717,827.144 467.053,816.602 468.169,806.252 \n",
       "  470.027,796.083 472.59,786.087 475.821,776.254 479.684,766.577 484.14,757.044 489.153,747.648 494.686,738.38 500.701,729.229 507.162,720.188 514.031,711.247 \n",
       "  521.271,702.396 528.845,693.628 536.716,684.932 544.847,676.3 553.201,667.723 561.74,659.191 570.428,650.695 579.227,642.227 588.101,633.776 597.011,625.335 \n",
       "  \n",
       "  \"/>\n",
       "<polyline clip-path=\"url(#clip932)\" style=\"stroke:#000000; stroke-linecap:butt; stroke-linejoin:round; stroke-width:4; stroke-opacity:0.7; fill:none\" points=\"\n",
       "  558.497,637.026 597.011,625.335 583.255,663.161 \n",
       "  \"/>\n",
       "<polyline clip-path=\"url(#clip932)\" style=\"stroke:#000000; stroke-linecap:butt; stroke-linejoin:round; stroke-width:4; stroke-opacity:0.7; fill:none\" points=\"\n",
       "  597.011,625.335 588.101,633.776 \n",
       "  \"/>\n",
       "<polyline clip-path=\"url(#clip932)\" style=\"stroke:#000000; stroke-linecap:butt; stroke-linejoin:round; stroke-width:4; stroke-opacity:0.7; fill:none\" points=\"\n",
       "  705.966,1172.6 732.658,1175.95 759.325,1179.26 785.942,1182.51 812.484,1185.65 838.928,1188.67 865.247,1191.52 891.417,1194.18 917.413,1196.61 943.211,1198.78 \n",
       "  968.785,1200.65 994.111,1202.2 1019.16,1203.38 1043.92,1204.18 1068.35,1204.55 1092.43,1204.46 1116.15,1203.88 1139.46,1202.78 1162.35,1201.12 1184.8,1198.87 \n",
       "  1206.77,1196.01 1228.25,1192.49 1249.2,1188.28 1269.61,1183.35 1289.45,1177.67 1308.7,1171.21 1327.34,1163.97 1345.42,1155.97 1362.95,1147.25 1379.96,1137.85 \n",
       "  1396.47,1127.79 1412.52,1117.12 1428.11,1105.85 1443.28,1094.03 1458.06,1081.68 1472.46,1068.85 1486.51,1055.56 1500.24,1041.84 1513.68,1027.73 1526.84,1013.26 \n",
       "  1539.75,998.463 1552.44,983.372 1564.93,968.02 1577.25,952.439 1589.41,936.662 1601.46,920.721 1613.4,904.649 1625.27,888.48 1637.09,872.245 1648.88,855.977 \n",
       "  \n",
       "  \"/>\n",
       "<polyline clip-path=\"url(#clip932)\" style=\"stroke:#000000; stroke-linecap:butt; stroke-linejoin:round; stroke-width:4; stroke-opacity:0.7; fill:none\" points=\"\n",
       "  1613.18,874.557 1648.88,855.977 1642.33,895.689 \n",
       "  \"/>\n",
       "<polyline clip-path=\"url(#clip932)\" style=\"stroke:#000000; stroke-linecap:butt; stroke-linejoin:round; stroke-width:4; stroke-opacity:0.7; fill:none\" points=\"\n",
       "  1648.88,855.977 1637.09,872.245 \n",
       "  \"/>\n",
       "<polyline clip-path=\"url(#clip932)\" style=\"stroke:#000000; stroke-linecap:butt; stroke-linejoin:round; stroke-width:4; stroke-opacity:0.7; fill:none\" points=\"\n",
       "  705.966,1172.6 729.354,1160.02 752.703,1147.43 775.973,1134.81 799.125,1122.16 822.121,1109.46 844.921,1096.7 867.486,1083.87 889.776,1070.95 911.753,1057.94 \n",
       "  933.377,1044.82 954.61,1031.57 975.411,1018.2 995.742,1004.68 1015.56,991.01 1034.84,977.168 1053.52,963.146 1071.58,948.933 1088.97,934.515 1105.66,919.881 \n",
       "  1121.6,905.018 1136.76,889.916 1151.1,874.561 1164.57,858.943 1177.14,843.048 1188.78,826.865 1199.47,810.395 1209.26,793.649 1218.19,776.638 1226.3,759.375 \n",
       "  1233.63,741.873 1240.21,724.142 1246.08,706.194 1251.29,688.043 1255.87,669.7 1259.87,651.176 1263.31,632.485 1266.25,613.637 1268.71,594.645 1270.75,575.522 \n",
       "  1272.39,556.278 1273.68,536.926 1274.66,517.478 1275.36,497.945 1275.83,478.341 1276.1,458.677 1276.21,438.965 1276.21,419.217 1276.13,399.444 1276.01,379.66 \n",
       "  \n",
       "  \"/>\n",
       "<polyline clip-path=\"url(#clip932)\" style=\"stroke:#000000; stroke-linecap:butt; stroke-linejoin:round; stroke-width:4; stroke-opacity:0.7; fill:none\" points=\"\n",
       "  1258.23,415.769 1276.01,379.66 1294.22,415.55 \n",
       "  \"/>\n",
       "<polyline clip-path=\"url(#clip932)\" style=\"stroke:#000000; stroke-linecap:butt; stroke-linejoin:round; stroke-width:4; stroke-opacity:0.7; fill:none\" points=\"\n",
       "  1276.01,379.66 1276.13,399.444 \n",
       "  \"/>\n",
       "<polyline clip-path=\"url(#clip932)\" style=\"stroke:#000000; stroke-linecap:butt; stroke-linejoin:round; stroke-width:4; stroke-opacity:0.7; fill:none\" points=\"\n",
       "  662.317,507.992 687.192,517.576 712.029,527.176 736.791,536.808 761.441,546.491 785.94,556.239 810.253,566.071 834.34,576.001 858.165,586.047 881.69,596.224 \n",
       "  904.878,606.551 927.691,617.043 950.092,627.716 972.043,638.588 993.506,649.674 1014.45,660.992 1034.82,672.557 1054.6,684.387 1073.74,696.497 1092.2,708.905 \n",
       "  1109.96,721.627 1126.96,734.679 1143.18,748.077 1158.57,761.839 1173.1,775.981 1186.73,790.519 1199.46,805.452 1211.33,820.766 1222.38,836.442 1232.64,852.466 \n",
       "  1242.15,868.82 1250.95,885.487 1259.07,902.452 1266.55,919.698 1273.44,937.208 1279.76,954.966 1285.56,972.955 1290.88,991.159 1295.74,1009.56 1300.19,1028.14 \n",
       "  1304.26,1046.89 1308,1065.79 1311.44,1084.82 1314.61,1103.97 1317.56,1123.21 1320.33,1142.54 1322.94,1161.93 1325.44,1181.37 1327.86,1200.85 1330.25,1220.34 \n",
       "  \n",
       "  \"/>\n",
       "<polyline clip-path=\"url(#clip932)\" style=\"stroke:#000000; stroke-linecap:butt; stroke-linejoin:round; stroke-width:4; stroke-opacity:0.7; fill:none\" points=\"\n",
       "  1343.74,1182.42 1330.25,1220.34 1308.01,1186.8 \n",
       "  \"/>\n",
       "<polyline clip-path=\"url(#clip932)\" style=\"stroke:#000000; stroke-linecap:butt; stroke-linejoin:round; stroke-width:4; stroke-opacity:0.7; fill:none\" points=\"\n",
       "  1330.25,1220.34 1327.86,1200.85 \n",
       "  \"/>\n",
       "<polyline clip-path=\"url(#clip932)\" style=\"stroke:#000000; stroke-linecap:butt; stroke-linejoin:round; stroke-width:4; stroke-opacity:0.7; fill:none\" points=\"\n",
       "  662.317,507.992 675.675,521.889 688.995,535.776 702.242,549.645 715.377,563.487 728.363,577.293 741.164,591.053 753.742,604.758 766.061,618.4 778.082,631.969 \n",
       "  789.769,645.456 801.085,658.853 811.993,672.149 822.456,685.336 832.435,698.405 841.896,711.347 850.799,724.152 859.109,736.811 866.787,749.317 873.797,761.658 \n",
       "  880.102,773.827 885.665,785.814 890.448,797.609 894.415,809.205 897.528,820.592 899.751,831.761 901.086,842.711 901.566,853.453 901.23,863.995 900.115,874.346 \n",
       "  898.257,884.514 895.694,894.511 892.462,904.343 888.6,914.021 884.144,923.553 879.131,932.949 873.598,942.218 867.583,951.368 861.122,960.409 854.253,969.35 \n",
       "  847.013,978.201 839.439,986.969 831.567,995.665 823.436,1004.3 815.083,1012.87 806.543,1021.41 797.856,1029.9 789.056,1038.37 780.183,1046.82 771.273,1055.26 \n",
       "  \n",
       "  \"/>\n",
       "<polyline clip-path=\"url(#clip932)\" style=\"stroke:#000000; stroke-linecap:butt; stroke-linejoin:round; stroke-width:4; stroke-opacity:0.7; fill:none\" points=\"\n",
       "  809.787,1043.57 771.273,1055.26 785.028,1017.44 \n",
       "  \"/>\n",
       "<polyline clip-path=\"url(#clip932)\" style=\"stroke:#000000; stroke-linecap:butt; stroke-linejoin:round; stroke-width:4; stroke-opacity:0.7; fill:none\" points=\"\n",
       "  771.273,1055.26 780.183,1046.82 \n",
       "  \"/>\n",
       "<polyline clip-path=\"url(#clip932)\" style=\"stroke:#000000; stroke-linecap:butt; stroke-linejoin:round; stroke-width:4; stroke-opacity:0.7; fill:none\" points=\"\n",
       "  575.145,424.293 568.836,420.805 562.551,417.34 556.315,413.923 550.153,410.575 544.087,407.321 538.144,404.184 532.346,401.188 526.719,398.356 521.287,395.711 \n",
       "  516.074,393.276 511.105,391.076 506.403,389.133 501.992,387.469 497.88,386.087 494.067,384.977 490.554,384.134 487.34,383.549 484.427,383.215 481.814,383.125 \n",
       "  479.503,383.269 477.493,383.643 475.786,384.236 474.38,385.043 473.278,386.054 472.479,387.264 471.988,388.667 471.813,390.259 471.962,392.039 472.442,394.004 \n",
       "  473.263,396.151 474.433,398.478 475.958,400.981 477.849,403.659 480.112,406.508 482.756,409.526 485.79,412.71 489.22,416.058 493.043,419.564 497.228,423.215 \n",
       "  501.742,426.998 506.552,430.9 511.626,434.907 516.931,439.007 522.433,443.186 528.1,447.431 533.898,451.728 539.795,456.066 545.758,460.43 551.754,464.807 \n",
       "  \n",
       "  \"/>\n",
       "<polyline clip-path=\"url(#clip932)\" style=\"stroke:#000000; stroke-linecap:butt; stroke-linejoin:round; stroke-width:4; stroke-opacity:0.7; fill:none\" points=\"\n",
       "  533.29,429.042 551.754,464.807 512.065,458.119 \n",
       "  \"/>\n",
       "<polyline clip-path=\"url(#clip932)\" style=\"stroke:#000000; stroke-linecap:butt; stroke-linejoin:round; stroke-width:4; stroke-opacity:0.7; fill:none\" points=\"\n",
       "  551.754,464.807 545.758,460.43 \n",
       "  \"/>\n",
       "<polyline clip-path=\"url(#clip932)\" style=\"stroke:#000000; stroke-linecap:butt; stroke-linejoin:round; stroke-width:4; stroke-opacity:0.7; fill:none\" points=\"\n",
       "  662.317,507.992 682.377,526.052 702.434,544.07 722.486,562.007 742.532,579.821 762.569,597.471 782.594,614.916 802.605,632.116 822.6,649.029 842.577,665.615 \n",
       "  862.533,681.832 882.466,697.64 902.374,712.997 922.254,727.863 942.105,742.197 961.923,755.958 981.707,769.105 1001.45,781.597 1021.16,793.393 1040.83,804.451 \n",
       "  1060.45,814.733 1080.03,824.195 1099.56,832.797 1119.04,840.499 1138.46,847.26 1157.83,853.039 1177.15,857.838 1196.41,861.695 1215.62,864.651 1234.79,866.748 \n",
       "  1253.91,868.026 1272.98,868.526 1292.01,868.289 1311.01,867.357 1329.97,865.769 1348.89,863.567 1367.78,860.792 1386.64,857.485 1405.47,853.686 1424.28,849.438 \n",
       "  1443.07,844.779 1461.83,839.753 1480.58,834.399 1499.31,828.758 1518.02,822.872 1536.73,816.78 1555.42,810.526 1574.11,804.148 1592.8,797.689 1611.48,791.188 \n",
       "  \n",
       "  \"/>\n",
       "<polyline clip-path=\"url(#clip932)\" style=\"stroke:#000000; stroke-linecap:butt; stroke-linejoin:round; stroke-width:4; stroke-opacity:0.7; fill:none\" points=\"\n",
       "  1571.56,786.019 1611.48,791.188 1583.39,820.019 \n",
       "  \"/>\n",
       "<polyline clip-path=\"url(#clip932)\" style=\"stroke:#000000; stroke-linecap:butt; stroke-linejoin:round; stroke-width:4; stroke-opacity:0.7; fill:none\" points=\"\n",
       "  1611.48,791.188 1592.8,797.689 \n",
       "  \"/>\n",
       "<polyline clip-path=\"url(#clip932)\" style=\"stroke:#000000; stroke-linecap:butt; stroke-linejoin:round; stroke-width:4; stroke-opacity:0.7; fill:none\" points=\"\n",
       "  662.317,507.992 680.84,514.216 699.339,520.41 717.791,526.542 736.173,532.583 754.46,538.502 772.629,544.269 790.657,549.852 808.52,555.222 826.195,560.348 \n",
       "  843.657,565.199 860.884,569.746 877.851,573.957 894.536,577.802 910.914,581.25 926.962,584.272 942.657,586.836 957.975,588.911 972.892,590.469 987.385,591.477 \n",
       "  1001.43,591.906 1015,591.725 1028.08,590.903 1040.64,589.411 1052.66,587.217 1064.12,584.292 1075,580.636 1085.35,576.279 1095.18,571.251 1104.51,565.582 \n",
       "  1113.38,559.303 1121.79,552.445 1129.78,545.038 1137.37,537.112 1144.58,528.699 1151.44,519.827 1157.97,510.529 1164.2,500.834 1170.14,490.774 1175.82,480.377 \n",
       "  1181.26,469.676 1186.49,458.7 1191.54,447.481 1196.42,436.047 1201.16,424.431 1205.78,412.662 1210.3,400.772 1214.76,388.789 1219.17,376.746 1223.55,364.672 \n",
       "  \n",
       "  \"/>\n",
       "<polyline clip-path=\"url(#clip932)\" style=\"stroke:#000000; stroke-linecap:butt; stroke-linejoin:round; stroke-width:4; stroke-opacity:0.7; fill:none\" points=\"\n",
       "  1194.34,392.366 1223.55,364.672 1228.18,404.654 \n",
       "  \"/>\n",
       "<polyline clip-path=\"url(#clip932)\" style=\"stroke:#000000; stroke-linecap:butt; stroke-linejoin:round; stroke-width:4; stroke-opacity:0.7; fill:none\" points=\"\n",
       "  1223.55,364.672 1219.17,376.746 \n",
       "  \"/>\n",
       "<polyline clip-path=\"url(#clip932)\" style=\"stroke:#000000; stroke-linecap:butt; stroke-linejoin:round; stroke-width:4; stroke-opacity:0.7; fill:none\" points=\"\n",
       "  1737.68,775.094 1719.16,780.579 1700.67,786.076 1682.26,791.597 1663.96,797.154 1645.8,802.759 1627.83,808.424 1610.08,814.161 1592.59,819.982 1575.39,825.899 \n",
       "  1558.52,831.925 1542.03,838.07 1525.94,844.347 1510.29,850.769 1495.12,857.346 1480.46,864.092 1466.36,871.018 1452.85,878.136 1439.96,885.458 1427.74,892.996 \n",
       "  1416.21,900.763 1405.43,908.769 1395.42,917.028 1386.21,925.551 1377.86,934.349 1370.39,943.436 1363.8,952.81 1358.06,962.461 1353.13,972.376 1348.97,982.542 \n",
       "  1345.55,992.949 1342.83,1003.58 1340.78,1014.44 1339.35,1025.49 1338.51,1036.74 1338.22,1048.17 1338.45,1059.76 1339.15,1071.51 1340.3,1083.41 1341.86,1095.44 \n",
       "  1343.78,1107.59 1346.03,1119.84 1348.58,1132.19 1351.39,1144.63 1354.42,1157.14 1357.63,1169.71 1360.99,1182.32 1364.46,1194.98 1368.01,1207.65 1371.59,1220.34 \n",
       "  \n",
       "  \"/>\n",
       "<polyline clip-path=\"url(#clip932)\" style=\"stroke:#000000; stroke-linecap:butt; stroke-linejoin:round; stroke-width:4; stroke-opacity:0.7; fill:none\" points=\"\n",
       "  1379.13,1180.8 1371.59,1220.34 1344.49,1190.58 \n",
       "  \"/>\n",
       "<polyline clip-path=\"url(#clip932)\" style=\"stroke:#000000; stroke-linecap:butt; stroke-linejoin:round; stroke-width:4; stroke-opacity:0.7; fill:none\" points=\"\n",
       "  1371.59,1220.34 1368.01,1207.65 \n",
       "  \"/>\n",
       "<polyline clip-path=\"url(#clip932)\" style=\"stroke:#000000; stroke-linecap:butt; stroke-linejoin:round; stroke-width:4; stroke-opacity:0.7; fill:none\" points=\"\n",
       "  1737.68,775.094 1710.99,771.75 1684.32,768.439 1657.71,765.193 1631.16,762.045 1604.72,759.028 1578.4,756.174 1552.23,753.516 1526.24,751.088 1500.44,748.921 \n",
       "  1474.86,747.048 1449.54,745.502 1424.49,744.315 1399.73,743.521 1375.3,743.152 1351.21,743.24 1327.5,743.819 1304.19,744.921 1281.3,746.579 1258.85,748.825 \n",
       "  1236.88,751.692 1215.4,755.213 1194.44,759.421 1174.04,764.347 1154.2,770.026 1134.95,776.488 1116.31,783.733 1098.23,791.73 1080.7,800.446 1063.69,809.848 \n",
       "  1047.17,819.905 1031.13,830.582 1015.54,841.848 1000.37,853.67 985.593,866.014 971.191,878.849 957.137,892.142 943.405,905.86 929.971,919.97 916.81,934.44 \n",
       "  903.898,949.236 891.209,964.327 878.719,979.679 866.403,995.26 854.236,1011.04 842.192,1026.98 830.248,1043.05 818.379,1059.22 806.559,1075.45 794.764,1091.72 \n",
       "  \n",
       "  \"/>\n",
       "<polyline clip-path=\"url(#clip932)\" style=\"stroke:#000000; stroke-linecap:butt; stroke-linejoin:round; stroke-width:4; stroke-opacity:0.7; fill:none\" points=\"\n",
       "  830.469,1073.14 794.764,1091.72 801.324,1052.01 \n",
       "  \"/>\n",
       "<polyline clip-path=\"url(#clip932)\" style=\"stroke:#000000; stroke-linecap:butt; stroke-linejoin:round; stroke-width:4; stroke-opacity:0.7; fill:none\" points=\"\n",
       "  794.764,1091.72 806.559,1075.45 \n",
       "  \"/>\n",
       "<polyline clip-path=\"url(#clip932)\" style=\"stroke:#000000; stroke-linecap:butt; stroke-linejoin:round; stroke-width:4; stroke-opacity:0.7; fill:none\" points=\"\n",
       "  1737.68,775.094 1717.62,757.034 1697.57,739.016 1677.51,721.079 1657.47,703.266 1637.43,685.615 1617.41,668.17 1597.4,650.97 1577.4,634.057 1557.42,617.472 \n",
       "  1537.47,601.254 1517.53,585.447 1497.63,570.089 1477.75,555.223 1457.9,540.889 1438.08,527.128 1418.29,513.981 1398.55,501.49 1378.84,489.694 1359.17,478.635 \n",
       "  1339.55,468.354 1319.97,458.891 1300.44,450.289 1280.96,442.587 1261.54,435.827 1242.17,430.047 1222.85,425.248 1203.59,421.391 1184.38,418.435 1165.21,416.338 \n",
       "  1146.09,415.06 1127.02,414.56 1107.99,414.797 1088.99,415.73 1070.03,417.317 1051.11,419.519 1032.22,422.294 1013.36,425.601 994.526,429.4 975.718,433.649 \n",
       "  956.933,438.307 938.169,443.334 919.423,448.688 900.693,454.328 881.976,460.215 863.271,466.306 844.576,472.561 825.887,478.938 807.203,485.398 788.521,491.898 \n",
       "  \n",
       "  \"/>\n",
       "<polyline clip-path=\"url(#clip932)\" style=\"stroke:#000000; stroke-linecap:butt; stroke-linejoin:round; stroke-width:4; stroke-opacity:0.7; fill:none\" points=\"\n",
       "  828.437,497.068 788.521,491.898 816.606,463.067 \n",
       "  \"/>\n",
       "<polyline clip-path=\"url(#clip932)\" style=\"stroke:#000000; stroke-linecap:butt; stroke-linejoin:round; stroke-width:4; stroke-opacity:0.7; fill:none\" points=\"\n",
       "  788.521,491.898 807.203,485.398 \n",
       "  \"/>\n",
       "<polyline clip-path=\"url(#clip932)\" style=\"stroke:#000000; stroke-linecap:butt; stroke-linejoin:round; stroke-width:4; stroke-opacity:0.7; fill:none\" points=\"\n",
       "  1863.52,791.817 1870.5,790.82 1877.45,789.818 1884.34,788.809 1891.13,787.789 1897.79,786.753 1904.29,785.697 1910.59,784.619 1916.67,783.513 1922.5,782.377 \n",
       "  1928.03,781.207 1933.25,779.998 1938.11,778.746 1942.58,777.449 1946.67,776.109 1950.37,774.732 1953.68,773.324 1956.6,771.89 1959.15,770.437 1961.32,768.969 \n",
       "  1963.12,767.493 1964.54,766.014 1965.59,764.538 1966.28,763.071 1966.6,761.618 1966.56,760.186 1966.16,758.78 1965.39,757.406 1964.25,756.072 1962.72,754.783 \n",
       "  1960.81,753.545 1958.5,752.365 1955.79,751.25 1952.67,750.205 1949.14,749.236 1945.19,748.351 1940.81,747.556 1936,746.856 1930.76,746.254 1925.14,745.742 \n",
       "  1919.15,745.313 1912.84,744.957 1906.25,744.667 1899.41,744.434 1892.35,744.251 1885.12,744.108 1877.74,743.999 1870.25,743.914 1862.7,743.845 1855.1,743.785 \n",
       "  \n",
       "  \"/>\n",
       "<polyline clip-path=\"url(#clip932)\" style=\"stroke:#000000; stroke-linecap:butt; stroke-linejoin:round; stroke-width:4; stroke-opacity:0.7; fill:none\" points=\"\n",
       "  1890.96,762.07 1855.1,743.785 1891.24,726.071 \n",
       "  \"/>\n",
       "<polyline clip-path=\"url(#clip932)\" style=\"stroke:#000000; stroke-linecap:butt; stroke-linejoin:round; stroke-width:4; stroke-opacity:0.7; fill:none\" points=\"\n",
       "  1855.1,743.785 1862.7,743.845 \n",
       "  \"/>\n",
       "<polyline clip-path=\"url(#clip932)\" style=\"stroke:#000000; stroke-linecap:butt; stroke-linejoin:round; stroke-width:4; stroke-opacity:0.7; fill:none\" points=\"\n",
       "  1737.68,775.094 1718.57,771.978 1699.5,768.846 1680.49,765.681 1661.59,762.466 1642.84,759.185 1624.25,755.822 1605.88,752.359 1587.75,748.781 1569.9,745.07 \n",
       "  1552.37,741.211 1535.19,737.187 1518.39,732.982 1502.01,728.577 1486.09,723.959 1470.66,719.109 1455.76,714.011 1441.41,708.649 1427.66,703.006 1414.55,697.066 \n",
       "  1402.1,690.812 1390.34,684.228 1379.33,677.297 1369.08,670.002 1359.65,662.328 1351.05,654.258 1343.29,645.792 1336.33,636.946 1330.15,627.737 1324.7,618.182 \n",
       "  1319.96,608.295 1315.88,598.095 1312.43,587.598 1309.58,576.82 1307.28,565.777 1305.51,554.487 1304.24,542.966 1303.42,531.23 1303.02,519.295 1303,507.179 \n",
       "  1303.33,494.898 1303.98,482.468 1304.92,469.906 1306.09,457.229 1307.48,444.452 1309.04,431.593 1310.74,418.667 1312.55,405.693 1314.42,392.685 1316.33,379.66 \n",
       "  \n",
       "  \"/>\n",
       "<polyline clip-path=\"url(#clip932)\" style=\"stroke:#000000; stroke-linecap:butt; stroke-linejoin:round; stroke-width:4; stroke-opacity:0.7; fill:none\" points=\"\n",
       "  1293.3,412.665 1316.33,379.66 1328.92,417.893 \n",
       "  \"/>\n",
       "<polyline clip-path=\"url(#clip932)\" style=\"stroke:#000000; stroke-linecap:butt; stroke-linejoin:round; stroke-width:4; stroke-opacity:0.7; fill:none\" points=\"\n",
       "  1316.33,379.66 1314.42,392.685 \n",
       "  \"/>\n",
       "<polyline clip-path=\"url(#clip932)\" style=\"stroke:#000000; stroke-linecap:butt; stroke-linejoin:round; stroke-width:4; stroke-opacity:0.7; fill:none\" points=\"\n",
       "  1299.95,262.317 1314.14,284.596 1328.28,306.866 1342.35,329.118 1356.29,351.343 1370.08,373.531 1383.67,395.674 1397.01,417.762 1410.08,439.787 1422.83,461.738 \n",
       "  1435.22,483.608 1447.21,505.387 1458.76,527.066 1469.84,548.636 1480.39,570.088 1490.39,591.412 1499.79,612.6 1508.55,633.643 1516.63,654.53 1523.99,675.255 \n",
       "  1530.6,695.806 1536.41,716.175 1541.38,736.354 1545.47,756.333 1548.65,776.102 1550.87,795.653 1552.13,814.987 1552.48,834.111 1551.94,853.036 1550.57,871.769 \n",
       "  1548.41,890.321 1545.48,908.7 1541.84,926.915 1537.52,944.975 1532.56,962.89 1527,980.669 1520.89,998.32 1514.25,1015.85 1507.14,1033.28 1499.59,1050.6 \n",
       "  1491.64,1067.83 1483.33,1084.99 1474.7,1102.06 1465.79,1119.08 1456.64,1136.04 1447.29,1152.95 1437.79,1169.83 1428.16,1186.68 1418.45,1203.52 1408.71,1220.34 \n",
       "  \n",
       "  \"/>\n",
       "<polyline clip-path=\"url(#clip932)\" style=\"stroke:#000000; stroke-linecap:butt; stroke-linejoin:round; stroke-width:4; stroke-opacity:0.7; fill:none\" points=\"\n",
       "  1442.33,1198.21 1408.71,1220.34 1411.18,1180.17 \n",
       "  \"/>\n",
       "<polyline clip-path=\"url(#clip932)\" style=\"stroke:#000000; stroke-linecap:butt; stroke-linejoin:round; stroke-width:4; stroke-opacity:0.7; fill:none\" points=\"\n",
       "  1408.71,1220.34 1418.45,1203.52 \n",
       "  \"/>\n",
       "<polyline clip-path=\"url(#clip932)\" style=\"stroke:#000000; stroke-linecap:butt; stroke-linejoin:round; stroke-width:4; stroke-opacity:0.7; fill:none\" points=\"\n",
       "  1299.95,262.317 1276.57,274.898 1253.22,287.491 1229.95,300.108 1206.79,312.761 1183.8,325.462 1161,338.223 1138.43,351.056 1116.14,363.973 1094.17,376.986 \n",
       "  1072.54,390.107 1051.31,403.348 1030.51,416.721 1010.18,430.239 990.355,443.912 971.082,457.754 952.397,471.776 934.339,485.989 916.946,500.407 900.26,515.042 \n",
       "  884.317,529.904 869.159,545.006 854.823,560.361 841.35,575.979 828.777,591.874 817.144,608.057 806.449,624.527 796.656,641.273 787.725,658.284 779.616,675.547 \n",
       "  772.292,693.05 765.712,710.781 759.837,728.728 754.628,746.879 750.047,765.222 746.053,783.746 742.608,802.437 739.672,821.285 737.207,840.277 735.172,859.401 \n",
       "  733.53,878.645 732.24,897.997 731.263,917.445 730.561,936.977 730.094,956.581 729.823,976.245 729.709,995.957 729.712,1015.71 729.794,1035.48 729.914,1055.26 \n",
       "  \n",
       "  \"/>\n",
       "<polyline clip-path=\"url(#clip932)\" style=\"stroke:#000000; stroke-linecap:butt; stroke-linejoin:round; stroke-width:4; stroke-opacity:0.7; fill:none\" points=\"\n",
       "  747.694,1019.15 729.914,1055.26 711.695,1019.37 \n",
       "  \"/>\n",
       "<polyline clip-path=\"url(#clip932)\" style=\"stroke:#000000; stroke-linecap:butt; stroke-linejoin:round; stroke-width:4; stroke-opacity:0.7; fill:none\" points=\"\n",
       "  729.914,1055.26 729.794,1035.48 \n",
       "  \"/>\n",
       "<polyline clip-path=\"url(#clip932)\" style=\"stroke:#000000; stroke-linecap:butt; stroke-linejoin:round; stroke-width:4; stroke-opacity:0.7; fill:none\" points=\"\n",
       "  1299.95,262.317 1281.43,256.093 1262.93,249.9 1244.48,243.767 1226.1,237.726 1207.81,231.807 1189.64,226.041 1171.61,220.457 1153.75,215.087 1136.08,209.962 \n",
       "  1118.61,205.11 1101.39,200.564 1084.42,196.353 1067.73,192.508 1051.36,189.059 1035.31,186.038 1019.61,183.474 1004.3,181.398 989.378,179.841 974.886,178.832 \n",
       "  960.84,178.403 947.267,178.585 934.188,179.406 921.627,180.899 909.609,183.093 898.155,186.018 887.266,189.674 876.919,194.031 867.09,199.059 857.757,204.728 \n",
       "  848.894,211.006 840.479,217.864 832.489,225.272 824.899,233.197 817.687,241.611 810.827,250.482 804.298,259.78 798.075,269.475 792.135,279.536 786.454,289.932 \n",
       "  781.009,300.633 775.776,311.609 770.731,322.829 765.852,334.262 761.113,345.878 756.493,357.647 751.967,369.538 747.511,381.52 743.103,393.563 738.718,405.637 \n",
       "  \n",
       "  \"/>\n",
       "<polyline clip-path=\"url(#clip932)\" style=\"stroke:#000000; stroke-linecap:butt; stroke-linejoin:round; stroke-width:4; stroke-opacity:0.7; fill:none\" points=\"\n",
       "  767.926,377.944 738.718,405.637 734.088,365.655 \n",
       "  \"/>\n",
       "<polyline clip-path=\"url(#clip932)\" style=\"stroke:#000000; stroke-linecap:butt; stroke-linejoin:round; stroke-width:4; stroke-opacity:0.7; fill:none\" points=\"\n",
       "  738.718,405.637 743.103,393.563 \n",
       "  \"/>\n",
       "<polyline clip-path=\"url(#clip932)\" style=\"stroke:#000000; stroke-linecap:butt; stroke-linejoin:round; stroke-width:4; stroke-opacity:0.7; fill:none\" points=\"\n",
       "  1299.95,262.317 1319.06,265.433 1338.14,268.565 1357.14,271.73 1376.04,274.945 1394.8,278.226 1413.38,281.59 1431.76,285.052 1449.89,288.63 1467.73,292.341 \n",
       "  1485.27,296.2 1502.45,300.224 1519.25,304.43 1535.62,308.834 1551.54,313.452 1566.97,318.302 1581.88,323.4 1596.22,328.762 1609.97,334.405 1623.09,340.345 \n",
       "  1635.54,346.599 1647.29,353.183 1658.31,360.114 1668.55,367.409 1677.99,375.083 1686.59,383.153 1694.35,391.619 1701.3,400.465 1707.48,409.674 1712.93,419.23 \n",
       "  1717.68,429.116 1721.76,439.316 1725.21,449.813 1728.06,460.591 1730.35,471.634 1732.12,482.924 1733.4,494.445 1734.22,506.181 1734.62,518.116 1734.64,530.232 \n",
       "  1734.3,542.513 1733.65,554.943 1732.72,567.505 1731.54,580.182 1730.16,592.959 1728.6,605.818 1726.9,618.744 1725.09,631.719 1723.21,644.726 1721.3,657.751 \n",
       "  \n",
       "  \"/>\n",
       "<polyline clip-path=\"url(#clip932)\" style=\"stroke:#000000; stroke-linecap:butt; stroke-linejoin:round; stroke-width:4; stroke-opacity:0.7; fill:none\" points=\"\n",
       "  1744.34,624.746 1721.3,657.751 1708.72,619.519 \n",
       "  \"/>\n",
       "<polyline clip-path=\"url(#clip932)\" style=\"stroke:#000000; stroke-linecap:butt; stroke-linejoin:round; stroke-width:4; stroke-opacity:0.7; fill:none\" points=\"\n",
       "  1721.3,657.751 1723.21,644.726 \n",
       "  \"/>\n",
       "<polyline clip-path=\"url(#clip932)\" style=\"stroke:#000000; stroke-linecap:butt; stroke-linejoin:round; stroke-width:4; stroke-opacity:0.7; fill:none\" points=\"\n",
       "  1244.05,379.66 1250.87,361.097 1257.63,342.655 1264.27,324.459 1270.73,306.63 1276.96,289.29 1282.9,272.562 1288.49,256.569 1293.66,241.432 1298.37,227.275 \n",
       "  1302.56,214.219 1306.15,202.387 1309.1,191.901 1311.36,182.869 1312.94,175.265 1313.89,168.996 1314.27,163.969 1314.12,160.088 1313.5,157.261 1312.46,155.393 \n",
       "  1311.04,154.391 1309.31,154.161 1307.31,154.609 1305.09,155.64 1302.71,157.161 1300.21,159.079 1297.65,161.304 1295.07,163.75 1292.53,166.333 1290.07,168.967 \n",
       "  1287.74,171.569 1285.59,174.052 1283.68,176.332 1282.04,178.323 1280.73,179.942 1279.8,181.102 1279.3,181.718 1279.27,181.707 1279.74,181.028 1280.67,179.728 \n",
       "  1282.01,177.862 1283.73,175.488 1285.79,172.663 1288.14,169.442 1290.74,165.882 1293.55,162.039 1296.53,157.971 1299.63,153.733 1302.82,149.382 1306.04,144.974 \n",
       "  \n",
       "  \"/>\n",
       "<polyline clip-path=\"url(#clip932)\" style=\"stroke:#000000; stroke-linecap:butt; stroke-linejoin:round; stroke-width:4; stroke-opacity:0.7; fill:none\" points=\"\n",
       "  1270.25,163.381 1306.04,144.974 1299.29,184.653 \n",
       "  \"/>\n",
       "<polyline clip-path=\"url(#clip932)\" style=\"stroke:#000000; stroke-linecap:butt; stroke-linejoin:round; stroke-width:4; stroke-opacity:0.7; fill:none\" points=\"\n",
       "  1306.04,144.974 1302.82,149.382 \n",
       "  \"/>\n",
       "<path clip-path=\"url(#clip932)\" d=\"\n",
       "M1373.68 1588.39 L1537.35 1588.39 L1537.35 1516.13 L1373.68 1516.13 L1373.68 1588.39 L1373.68 1588.39  Z\n",
       "  \" fill=\"#ffffff\" fill-rule=\"evenodd\" fill-opacity=\"1\"/>\n",
       "<polyline clip-path=\"url(#clip932)\" style=\"stroke:#a9a9a9; stroke-linecap:butt; stroke-linejoin:round; stroke-width:0; stroke-opacity:0.7; fill:none\" points=\"\n",
       "  1373.68,1588.39 1537.35,1588.39 1537.35,1516.13 1373.68,1516.13 1373.68,1588.39 \n",
       "  \"/>\n",
       "<path clip-path=\"url(#clip932)\" d=\"\n",
       "M917.97 1500.01 L1054.89 1500.01 L1054.89 1427.74 L917.97 1427.74 L917.97 1500.01 L917.97 1500.01  Z\n",
       "  \" fill=\"#ffffff\" fill-rule=\"evenodd\" fill-opacity=\"1\"/>\n",
       "<polyline clip-path=\"url(#clip932)\" style=\"stroke:#a9a9a9; stroke-linecap:butt; stroke-linejoin:round; stroke-width:0; stroke-opacity:0.7; fill:none\" points=\"\n",
       "  917.97,1500.01 1054.89,1500.01 1054.89,1427.74 917.97,1427.74 917.97,1500.01 \n",
       "  \"/>\n",
       "<path clip-path=\"url(#clip932)\" d=\"\n",
       "M784.412 1098.61 L921.328 1098.61 L921.328 1026.34 L784.412 1026.34 L784.412 1098.61 L784.412 1098.61  Z\n",
       "  \" fill=\"#ffffff\" fill-rule=\"evenodd\" fill-opacity=\"1\"/>\n",
       "<polyline clip-path=\"url(#clip932)\" style=\"stroke:#a9a9a9; stroke-linecap:butt; stroke-linejoin:round; stroke-width:0; stroke-opacity:0.7; fill:none\" points=\"\n",
       "  784.412,1098.61 921.328,1098.61 921.328,1026.34 784.412,1026.34 784.412,1098.61 \n",
       "  \"/>\n",
       "<path clip-path=\"url(#clip932)\" d=\"\n",
       "M1665.79 1210.05 L1802.71 1210.05 L1802.71 1137.79 L1665.79 1137.79 L1665.79 1210.05 L1665.79 1210.05  Z\n",
       "  \" fill=\"#ffffff\" fill-rule=\"evenodd\" fill-opacity=\"1\"/>\n",
       "<polyline clip-path=\"url(#clip932)\" style=\"stroke:#a9a9a9; stroke-linecap:butt; stroke-linejoin:round; stroke-width:0; stroke-opacity:0.7; fill:none\" points=\"\n",
       "  1665.79,1210.05 1802.71,1210.05 1802.71,1137.79 1665.79,1137.79 1665.79,1210.05 \n",
       "  \"/>\n",
       "<path clip-path=\"url(#clip932)\" d=\"\n",
       "M1052.2 850.227 L1189.11 850.227 L1189.11 777.962 L1052.2 777.962 L1052.2 850.227 L1052.2 850.227  Z\n",
       "  \" fill=\"#ffffff\" fill-rule=\"evenodd\" fill-opacity=\"1\"/>\n",
       "<polyline clip-path=\"url(#clip932)\" style=\"stroke:#a9a9a9; stroke-linecap:butt; stroke-linejoin:round; stroke-width:0; stroke-opacity:0.7; fill:none\" points=\"\n",
       "  1052.2,850.227 1189.11,850.227 1189.11,777.962 1052.2,777.962 1052.2,850.227 \n",
       "  \"/>\n",
       "<path clip-path=\"url(#clip932)\" d=\"\n",
       "M1008.28 1082.55 L1171.95 1082.55 L1171.95 1010.28 L1008.28 1010.28 L1008.28 1082.55 L1008.28 1082.55  Z\n",
       "  \" fill=\"#ffffff\" fill-rule=\"evenodd\" fill-opacity=\"1\"/>\n",
       "<polyline clip-path=\"url(#clip932)\" style=\"stroke:#a9a9a9; stroke-linecap:butt; stroke-linejoin:round; stroke-width:0; stroke-opacity:0.7; fill:none\" points=\"\n",
       "  1008.28,1082.55 1171.95,1082.55 1171.95,1010.28 1008.28,1010.28 1008.28,1082.55 \n",
       "  \"/>\n",
       "<path clip-path=\"url(#clip932)\" d=\"\n",
       "M565.547 1298.6 L702.462 1298.6 L702.462 1226.33 L565.547 1226.33 L565.547 1298.6 L565.547 1298.6  Z\n",
       "  \" fill=\"#ffffff\" fill-rule=\"evenodd\" fill-opacity=\"1\"/>\n",
       "<polyline clip-path=\"url(#clip932)\" style=\"stroke:#a9a9a9; stroke-linecap:butt; stroke-linejoin:round; stroke-width:0; stroke-opacity:0.7; fill:none\" points=\"\n",
       "  565.547,1298.6 702.462,1298.6 702.462,1226.33 565.547,1226.33 565.547,1298.6 \n",
       "  \"/>\n",
       "<path clip-path=\"url(#clip932)\" d=\"\n",
       "M401.073 890.526 L537.989 890.526 L537.989 818.261 L401.073 818.261 L401.073 890.526 L401.073 890.526  Z\n",
       "  \" fill=\"#ffffff\" fill-rule=\"evenodd\" fill-opacity=\"1\"/>\n",
       "<polyline clip-path=\"url(#clip932)\" style=\"stroke:#a9a9a9; stroke-linecap:butt; stroke-linejoin:round; stroke-width:0; stroke-opacity:0.7; fill:none\" points=\"\n",
       "  401.073,890.526 537.989,890.526 537.989,818.261 401.073,818.261 401.073,890.526 \n",
       "  \"/>\n",
       "<path clip-path=\"url(#clip932)\" d=\"\n",
       "M1244.77 1210.67 L1353.53 1210.67 L1353.53 1138.41 L1244.77 1138.41 L1244.77 1210.67 L1244.77 1210.67  Z\n",
       "  \" fill=\"#ffffff\" fill-rule=\"evenodd\" fill-opacity=\"1\"/>\n",
       "<polyline clip-path=\"url(#clip932)\" style=\"stroke:#a9a9a9; stroke-linecap:butt; stroke-linejoin:round; stroke-width:0; stroke-opacity:0.7; fill:none\" points=\"\n",
       "  1244.77,1210.67 1353.53,1210.67 1353.53,1138.41 1244.77,1138.41 1244.77,1210.67 \n",
       "  \"/>\n",
       "<path clip-path=\"url(#clip932)\" d=\"\n",
       "M1114.62 871.125 L1251.54 871.125 L1251.54 798.861 L1114.62 798.861 L1114.62 871.125 L1114.62 871.125  Z\n",
       "  \" fill=\"#ffffff\" fill-rule=\"evenodd\" fill-opacity=\"1\"/>\n",
       "<polyline clip-path=\"url(#clip932)\" style=\"stroke:#a9a9a9; stroke-linecap:butt; stroke-linejoin:round; stroke-width:0; stroke-opacity:0.7; fill:none\" points=\"\n",
       "  1114.62,871.125 1251.54,871.125 1251.54,798.861 1114.62,798.861 1114.62,871.125 \n",
       "  \"/>\n",
       "<path clip-path=\"url(#clip932)\" d=\"\n",
       "M1098.19 819.332 L1261.86 819.332 L1261.86 747.068 L1098.19 747.068 L1098.19 819.332 L1098.19 819.332  Z\n",
       "  \" fill=\"#ffffff\" fill-rule=\"evenodd\" fill-opacity=\"1\"/>\n",
       "<polyline clip-path=\"url(#clip932)\" style=\"stroke:#a9a9a9; stroke-linecap:butt; stroke-linejoin:round; stroke-width:0; stroke-opacity:0.7; fill:none\" points=\"\n",
       "  1098.19,819.332 1261.86,819.332 1261.86,747.068 1098.19,747.068 1098.19,819.332 \n",
       "  \"/>\n",
       "<path clip-path=\"url(#clip932)\" d=\"\n",
       "M816.915 862.336 L980.59 862.336 L980.59 790.072 L816.915 790.072 L816.915 862.336 L816.915 862.336  Z\n",
       "  \" fill=\"#ffffff\" fill-rule=\"evenodd\" fill-opacity=\"1\"/>\n",
       "<polyline clip-path=\"url(#clip932)\" style=\"stroke:#a9a9a9; stroke-linecap:butt; stroke-linejoin:round; stroke-width:0; stroke-opacity:0.7; fill:none\" points=\"\n",
       "  816.915,862.336 980.59,862.336 980.59,790.072 816.915,790.072 816.915,862.336 \n",
       "  \"/>\n",
       "<path clip-path=\"url(#clip932)\" d=\"\n",
       "M404.82 422.187 L541.736 422.187 L541.736 349.922 L404.82 349.922 L404.82 422.187 L404.82 422.187  Z\n",
       "  \" fill=\"#ffffff\" fill-rule=\"evenodd\" fill-opacity=\"1\"/>\n",
       "<polyline clip-path=\"url(#clip932)\" style=\"stroke:#a9a9a9; stroke-linecap:butt; stroke-linejoin:round; stroke-width:0; stroke-opacity:0.7; fill:none\" points=\"\n",
       "  404.82,422.187 541.736,422.187 541.736,349.922 404.82,349.922 404.82,422.187 \n",
       "  \"/>\n",
       "<path clip-path=\"url(#clip932)\" d=\"\n",
       "M1079.7 886.406 L1216.61 886.406 L1216.61 814.142 L1079.7 814.142 L1079.7 886.406 L1079.7 886.406  Z\n",
       "  \" fill=\"#ffffff\" fill-rule=\"evenodd\" fill-opacity=\"1\"/>\n",
       "<polyline clip-path=\"url(#clip932)\" style=\"stroke:#a9a9a9; stroke-linecap:butt; stroke-linejoin:round; stroke-width:0; stroke-opacity:0.7; fill:none\" points=\"\n",
       "  1079.7,886.406 1216.61,886.406 1216.61,814.142 1079.7,814.142 1079.7,886.406 \n",
       "  \"/>\n",
       "<path clip-path=\"url(#clip932)\" d=\"\n",
       "M990.002 621.979 L1126.92 621.979 L1126.92 549.715 L990.002 549.715 L990.002 621.979 L990.002 621.979  Z\n",
       "  \" fill=\"#ffffff\" fill-rule=\"evenodd\" fill-opacity=\"1\"/>\n",
       "<polyline clip-path=\"url(#clip932)\" style=\"stroke:#a9a9a9; stroke-linecap:butt; stroke-linejoin:round; stroke-width:0; stroke-opacity:0.7; fill:none\" points=\"\n",
       "  990.002,621.979 1126.92,621.979 1126.92,549.715 990.002,549.715 990.002,621.979 \n",
       "  \"/>\n",
       "<path clip-path=\"url(#clip932)\" d=\"\n",
       "M1292.17 974.989 L1455.85 974.989 L1455.85 902.724 L1292.17 902.724 L1292.17 974.989 L1292.17 974.989  Z\n",
       "  \" fill=\"#ffffff\" fill-rule=\"evenodd\" fill-opacity=\"1\"/>\n",
       "<polyline clip-path=\"url(#clip932)\" style=\"stroke:#a9a9a9; stroke-linecap:butt; stroke-linejoin:round; stroke-width:0; stroke-opacity:0.7; fill:none\" points=\"\n",
       "  1292.17,974.989 1455.85,974.989 1455.85,902.724 1292.17,902.724 1292.17,974.989 \n",
       "  \"/>\n",
       "<path clip-path=\"url(#clip932)\" d=\"\n",
       "M1076.04 809.29 L1212.96 809.29 L1212.96 737.025 L1076.04 737.025 L1076.04 809.29 L1076.04 809.29  Z\n",
       "  \" fill=\"#ffffff\" fill-rule=\"evenodd\" fill-opacity=\"1\"/>\n",
       "<polyline clip-path=\"url(#clip932)\" style=\"stroke:#a9a9a9; stroke-linecap:butt; stroke-linejoin:round; stroke-width:0; stroke-opacity:0.7; fill:none\" points=\"\n",
       "  1076.04,809.29 1212.96,809.29 1212.96,737.025 1076.04,737.025 1076.04,809.29 \n",
       "  \"/>\n",
       "<path clip-path=\"url(#clip932)\" d=\"\n",
       "M1170.01 468.945 L1333.68 468.945 L1333.68 396.68 L1170.01 396.68 L1170.01 468.945 L1170.01 468.945  Z\n",
       "  \" fill=\"#ffffff\" fill-rule=\"evenodd\" fill-opacity=\"1\"/>\n",
       "<polyline clip-path=\"url(#clip932)\" style=\"stroke:#a9a9a9; stroke-linecap:butt; stroke-linejoin:round; stroke-width:0; stroke-opacity:0.7; fill:none\" points=\"\n",
       "  1170.01,468.945 1333.68,468.945 1333.68,396.68 1170.01,396.68 1170.01,468.945 \n",
       "  \"/>\n",
       "<path clip-path=\"url(#clip932)\" d=\"\n",
       "M1898.14 797.75 L2035.06 797.75 L2035.06 725.486 L1898.14 725.486 L1898.14 797.75 L1898.14 797.75  Z\n",
       "  \" fill=\"#ffffff\" fill-rule=\"evenodd\" fill-opacity=\"1\"/>\n",
       "<polyline clip-path=\"url(#clip932)\" style=\"stroke:#a9a9a9; stroke-linecap:butt; stroke-linejoin:round; stroke-width:0; stroke-opacity:0.7; fill:none\" points=\"\n",
       "  1898.14,797.75 2035.06,797.75 2035.06,725.486 1898.14,725.486 1898.14,797.75 \n",
       "  \"/>\n",
       "<path clip-path=\"url(#clip932)\" d=\"\n",
       "M1286.78 694.476 L1423.7 694.476 L1423.7 622.211 L1286.78 622.211 L1286.78 694.476 L1286.78 694.476  Z\n",
       "  \" fill=\"#ffffff\" fill-rule=\"evenodd\" fill-opacity=\"1\"/>\n",
       "<polyline clip-path=\"url(#clip932)\" style=\"stroke:#a9a9a9; stroke-linecap:butt; stroke-linejoin:round; stroke-width:0; stroke-opacity:0.7; fill:none\" points=\"\n",
       "  1286.78,694.476 1423.7,694.476 1423.7,622.211 1286.78,622.211 1286.78,694.476 \n",
       "  \"/>\n",
       "<path clip-path=\"url(#clip932)\" d=\"\n",
       "M1468.04 822.038 L1631.71 822.038 L1631.71 749.773 L1468.04 749.773 L1468.04 822.038 L1468.04 822.038  Z\n",
       "  \" fill=\"#ffffff\" fill-rule=\"evenodd\" fill-opacity=\"1\"/>\n",
       "<polyline clip-path=\"url(#clip932)\" style=\"stroke:#a9a9a9; stroke-linecap:butt; stroke-linejoin:round; stroke-width:0; stroke-opacity:0.7; fill:none\" points=\"\n",
       "  1468.04,822.038 1631.71,822.038 1631.71,749.773 1468.04,749.773 1468.04,822.038 \n",
       "  \"/>\n",
       "<path clip-path=\"url(#clip932)\" d=\"\n",
       "M741.004 636.061 L904.679 636.061 L904.679 563.797 L741.004 563.797 L741.004 636.061 L741.004 636.061  Z\n",
       "  \" fill=\"#ffffff\" fill-rule=\"evenodd\" fill-opacity=\"1\"/>\n",
       "<polyline clip-path=\"url(#clip932)\" style=\"stroke:#a9a9a9; stroke-linecap:butt; stroke-linejoin:round; stroke-width:0; stroke-opacity:0.7; fill:none\" points=\"\n",
       "  741.004,636.061 904.679,636.061 904.679,563.797 741.004,563.797 741.004,636.061 \n",
       "  \"/>\n",
       "<path clip-path=\"url(#clip932)\" d=\"\n",
       "M835.352 220.595 L972.268 220.595 L972.268 148.33 L835.352 148.33 L835.352 220.595 L835.352 220.595  Z\n",
       "  \" fill=\"#ffffff\" fill-rule=\"evenodd\" fill-opacity=\"1\"/>\n",
       "<polyline clip-path=\"url(#clip932)\" style=\"stroke:#a9a9a9; stroke-linecap:butt; stroke-linejoin:round; stroke-width:0; stroke-opacity:0.7; fill:none\" points=\"\n",
       "  835.352,220.595 972.268,220.595 972.268,148.33 835.352,148.33 835.352,220.595 \n",
       "  \"/>\n",
       "<path clip-path=\"url(#clip932)\" d=\"\n",
       "M1613.94 415.2 L1750.85 415.2 L1750.85 342.936 L1613.94 342.936 L1613.94 415.2 L1613.94 415.2  Z\n",
       "  \" fill=\"#ffffff\" fill-rule=\"evenodd\" fill-opacity=\"1\"/>\n",
       "<polyline clip-path=\"url(#clip932)\" style=\"stroke:#a9a9a9; stroke-linecap:butt; stroke-linejoin:round; stroke-width:0; stroke-opacity:0.7; fill:none\" points=\"\n",
       "  1613.94,415.2 1750.85,415.2 1750.85,342.936 1613.94,342.936 1613.94,415.2 \n",
       "  \"/>\n",
       "<path clip-path=\"url(#clip932)\" d=\"\n",
       "M1234.25 193.294 L1371.16 193.294 L1371.16 121.029 L1234.25 121.029 L1234.25 193.294 L1234.25 193.294  Z\n",
       "  \" fill=\"#ffffff\" fill-rule=\"evenodd\" fill-opacity=\"1\"/>\n",
       "<polyline clip-path=\"url(#clip932)\" style=\"stroke:#a9a9a9; stroke-linecap:butt; stroke-linejoin:round; stroke-width:0; stroke-opacity:0.7; fill:none\" points=\"\n",
       "  1234.25,193.294 1371.16,193.294 1371.16,121.029 1234.25,121.029 1234.25,193.294 \n",
       "  \"/>\n",
       "<path clip-path=\"url(#clip932)\" d=\"\n",
       "M1506.07 1337.68 L1438.33 1220.34 L1302.83 1220.34 L1235.08 1337.68 L1302.83 1455.03 L1438.33 1455.03 L1506.07 1337.68 L1506.07 1337.68  Z\n",
       "  \" fill=\"#ffff00\" fill-rule=\"evenodd\" fill-opacity=\"1\"/>\n",
       "<polyline clip-path=\"url(#clip932)\" style=\"stroke:#000000; stroke-linecap:butt; stroke-linejoin:round; stroke-width:4; stroke-opacity:1; fill:none\" points=\"\n",
       "  1506.07,1337.68 1438.33,1220.34 1302.83,1220.34 1235.08,1337.68 1302.83,1455.03 1438.33,1455.03 1506.07,1337.68 \n",
       "  \"/>\n",
       "<path clip-path=\"url(#clip932)\" d=\"\n",
       "M841.463 1172.6 L773.715 1055.26 L638.218 1055.26 L570.47 1172.6 L638.218 1289.95 L773.715 1289.95 L841.463 1172.6 L841.463 1172.6  Z\n",
       "  \" fill=\"#ffff00\" fill-rule=\"evenodd\" fill-opacity=\"1\"/>\n",
       "<polyline clip-path=\"url(#clip932)\" style=\"stroke:#000000; stroke-linecap:butt; stroke-linejoin:round; stroke-width:4; stroke-opacity:1; fill:none\" points=\"\n",
       "  841.463,1172.6 773.715,1055.26 638.218,1055.26 570.47,1172.6 638.218,1289.95 773.715,1289.95 841.463,1172.6 841.463,1172.6 \n",
       "  \"/>\n",
       "<path clip-path=\"url(#clip932)\" d=\"\n",
       "M797.813 507.992 L730.065 390.649 L594.569 390.649 L526.821 507.992 L594.569 625.335 L730.065 625.335 L797.813 507.992 L797.813 507.992  Z\n",
       "  \" fill=\"#ffff00\" fill-rule=\"evenodd\" fill-opacity=\"1\"/>\n",
       "<polyline clip-path=\"url(#clip932)\" style=\"stroke:#000000; stroke-linecap:butt; stroke-linejoin:round; stroke-width:4; stroke-opacity:1; fill:none\" points=\"\n",
       "  797.813,507.992 730.065,390.649 594.569,390.649 526.821,507.992 594.569,625.335 730.065,625.335 797.813,507.992 \n",
       "  \"/>\n",
       "<path clip-path=\"url(#clip932)\" d=\"\n",
       "M1873.18 775.094 L1805.43 657.751 L1669.93 657.751 L1602.19 775.094 L1669.93 892.437 L1805.43 892.437 L1873.18 775.094 L1873.18 775.094  Z\n",
       "  \" fill=\"#ffff00\" fill-rule=\"evenodd\" fill-opacity=\"1\"/>\n",
       "<polyline clip-path=\"url(#clip932)\" style=\"stroke:#000000; stroke-linecap:butt; stroke-linejoin:round; stroke-width:4; stroke-opacity:1; fill:none\" points=\"\n",
       "  1873.18,775.094 1805.43,657.751 1669.93,657.751 1602.19,775.094 1669.93,892.437 1805.43,892.437 1873.18,775.094 \n",
       "  \"/>\n",
       "<path clip-path=\"url(#clip932)\" d=\"\n",
       "M1435.45 262.317 L1367.7 144.974 L1232.21 144.974 L1164.46 262.317 L1232.21 379.66 L1367.7 379.66 L1435.45 262.317 L1435.45 262.317  Z\n",
       "  \" fill=\"#ffff00\" fill-rule=\"evenodd\" fill-opacity=\"1\"/>\n",
       "<polyline clip-path=\"url(#clip932)\" style=\"stroke:#000000; stroke-linecap:butt; stroke-linejoin:round; stroke-width:4; stroke-opacity:1; fill:none\" points=\"\n",
       "  1435.45,262.317 1367.7,144.974 1232.21,144.974 1164.46,262.317 1232.21,379.66 1367.7,379.66 1435.45,262.317 \n",
       "  \"/>\n",
       "<path clip-path=\"url(#clip932)\" d=\"M1370.58 1339.68 L1368.85 1338.68 L1368.85 1336.68 L1370.58 1335.68 L1372.31 1336.68 L1372.31 1338.68 Z\" fill=\"#ffff00\" fill-rule=\"evenodd\" fill-opacity=\"1\" stroke=\"#000000\" stroke-opacity=\"1\" stroke-width=\"3.2\"/>\n",
       "<path clip-path=\"url(#clip932)\" d=\"M705.966 1174.6 L704.234 1173.6 L704.234 1171.6 L705.966 1170.6 L707.698 1171.6 L707.698 1173.6 Z\" fill=\"#ffff00\" fill-rule=\"evenodd\" fill-opacity=\"1\" stroke=\"#000000\" stroke-opacity=\"1\" stroke-width=\"3.2\"/>\n",
       "<path clip-path=\"url(#clip932)\" d=\"M662.317 509.992 L660.585 508.992 L660.585 506.992 L662.317 505.992 L664.049 506.992 L664.049 508.992 Z\" fill=\"#ffff00\" fill-rule=\"evenodd\" fill-opacity=\"1\" stroke=\"#000000\" stroke-opacity=\"1\" stroke-width=\"3.2\"/>\n",
       "<path clip-path=\"url(#clip932)\" d=\"M1737.68 777.094 L1735.95 776.094 L1735.95 774.094 L1737.68 773.094 L1739.41 774.094 L1739.41 776.094 Z\" fill=\"#ffff00\" fill-rule=\"evenodd\" fill-opacity=\"1\" stroke=\"#000000\" stroke-opacity=\"1\" stroke-width=\"3.2\"/>\n",
       "<path clip-path=\"url(#clip932)\" d=\"M1299.95 264.317 L1298.22 263.317 L1298.22 261.317 L1299.95 260.317 L1301.69 261.317 L1301.69 263.317 Z\" fill=\"#ffff00\" fill-rule=\"evenodd\" fill-opacity=\"1\" stroke=\"#000000\" stroke-opacity=\"1\" stroke-width=\"3.2\"/>\n",
       "<path clip-path=\"url(#clip930)\" d=\"M1409.73 1539.83 Q1406.57 1539.83 1404.97 1542.95 Q1403.39 1546.05 1403.39 1552.29 Q1403.39 1558.51 1404.97 1561.63 Q1406.57 1564.73 1409.73 1564.73 Q1412.91 1564.73 1414.49 1561.63 Q1416.09 1558.51 1416.09 1552.29 Q1416.09 1546.05 1414.49 1542.95 Q1412.91 1539.83 1409.73 1539.83 M1409.73 1536.59 Q1414.82 1536.59 1417.49 1540.62 Q1420.18 1544.63 1420.18 1552.29 Q1420.18 1559.93 1417.49 1563.96 Q1414.82 1567.97 1409.73 1567.97 Q1404.65 1567.97 1401.95 1563.96 Q1399.28 1559.93 1399.28 1552.29 Q1399.28 1544.63 1401.95 1540.62 Q1404.65 1536.59 1409.73 1536.59 Z\" fill=\"#000000\" fill-rule=\"evenodd\" fill-opacity=\"1\" /><path clip-path=\"url(#clip930)\" d=\"M1427.37 1562.23 L1431.65 1562.23 L1431.65 1567.38 L1427.37 1567.38 L1427.37 1562.23 Z\" fill=\"#000000\" fill-rule=\"evenodd\" fill-opacity=\"1\" /><path clip-path=\"url(#clip930)\" d=\"M1449.31 1539.83 Q1446.15 1539.83 1444.55 1542.95 Q1442.97 1546.05 1442.97 1552.29 Q1442.97 1558.51 1444.55 1561.63 Q1446.15 1564.73 1449.31 1564.73 Q1452.49 1564.73 1454.07 1561.63 Q1455.67 1558.51 1455.67 1552.29 Q1455.67 1546.05 1454.07 1542.95 Q1452.49 1539.83 1449.31 1539.83 M1449.31 1536.59 Q1454.39 1536.59 1457.07 1540.62 Q1459.76 1544.63 1459.76 1552.29 Q1459.76 1559.93 1457.07 1563.96 Q1454.39 1567.97 1449.31 1567.97 Q1444.23 1567.97 1441.53 1563.96 Q1438.86 1559.93 1438.86 1552.29 Q1438.86 1544.63 1441.53 1540.62 Q1444.23 1536.59 1449.31 1536.59 Z\" fill=\"#000000\" fill-rule=\"evenodd\" fill-opacity=\"1\" /><path clip-path=\"url(#clip930)\" d=\"M1465.92 1537.14 L1485.36 1537.14 L1485.36 1538.88 L1474.38 1567.38 L1470.11 1567.38 L1480.44 1540.58 L1465.92 1540.58 L1465.92 1537.14 Z\" fill=\"#000000\" fill-rule=\"evenodd\" fill-opacity=\"1\" /><path clip-path=\"url(#clip930)\" d=\"M1492.31 1537.14 L1511.75 1537.14 L1511.75 1538.88 L1500.78 1567.38 L1496.5 1567.38 L1506.83 1540.58 L1492.31 1540.58 L1492.31 1537.14 Z\" fill=\"#000000\" fill-rule=\"evenodd\" fill-opacity=\"1\" /><path clip-path=\"url(#clip930)\" d=\"M953.727 1451.45 Q950.567 1451.45 948.967 1454.57 Q947.387 1457.67 947.387 1463.91 Q947.387 1470.12 948.967 1473.24 Q950.567 1476.34 953.727 1476.34 Q956.907 1476.34 958.486 1473.24 Q960.087 1470.12 960.087 1463.91 Q960.087 1457.67 958.486 1454.57 Q956.907 1451.45 953.727 1451.45 M953.727 1448.21 Q958.811 1448.21 961.484 1452.24 Q964.178 1456.25 964.178 1463.91 Q964.178 1471.54 961.484 1475.57 Q958.811 1479.58 953.727 1479.58 Q948.643 1479.58 945.949 1475.57 Q943.275 1471.54 943.275 1463.91 Q943.275 1456.25 945.949 1452.24 Q948.643 1448.21 953.727 1448.21 Z\" fill=\"#000000\" fill-rule=\"evenodd\" fill-opacity=\"1\" /><path clip-path=\"url(#clip930)\" d=\"M971.368 1473.85 L975.642 1473.85 L975.642 1478.99 L971.368 1478.99 L971.368 1473.85 Z\" fill=\"#000000\" fill-rule=\"evenodd\" fill-opacity=\"1\" /><path clip-path=\"url(#clip930)\" d=\"M985.263 1475.55 L991.947 1475.55 L991.947 1452.48 L984.676 1453.94 L984.676 1450.21 L991.906 1448.75 L995.998 1448.75 L995.998 1475.55 L1002.68 1475.55 L1002.68 1478.99 L985.263 1478.99 L985.263 1475.55 Z\" fill=\"#000000\" fill-rule=\"evenodd\" fill-opacity=\"1\" /><path clip-path=\"url(#clip930)\" d=\"M1023.34 1462.69 Q1026.28 1463.32 1027.92 1465.3 Q1029.58 1467.29 1029.58 1470.2 Q1029.58 1474.68 1026.5 1477.13 Q1023.42 1479.58 1017.75 1479.58 Q1015.85 1479.58 1013.82 1479.2 Q1011.82 1478.83 1009.67 1478.08 L1009.67 1474.13 Q1011.37 1475.13 1013.4 1475.63 Q1015.42 1476.14 1017.63 1476.14 Q1021.48 1476.14 1023.48 1474.62 Q1025.51 1473.1 1025.51 1470.2 Q1025.51 1467.53 1023.62 1466.03 Q1021.76 1464.51 1018.42 1464.51 L1014.9 1464.51 L1014.9 1461.15 L1018.58 1461.15 Q1021.6 1461.15 1023.2 1459.96 Q1024.8 1458.74 1024.8 1456.47 Q1024.8 1454.14 1023.14 1452.91 Q1021.5 1451.65 1018.42 1451.65 Q1016.74 1451.65 1014.81 1452.02 Q1012.89 1452.38 1010.58 1453.15 L1010.58 1449.5 Q1012.91 1448.86 1014.94 1448.53 Q1016.98 1448.21 1018.78 1448.21 Q1023.44 1448.21 1026.16 1450.33 Q1028.87 1452.44 1028.87 1456.05 Q1028.87 1458.56 1027.43 1460.3 Q1025.99 1462.02 1023.34 1462.69 Z\" fill=\"#000000\" fill-rule=\"evenodd\" fill-opacity=\"1\" /><path clip-path=\"url(#clip930)\" d=\"M819.673 1050.05 Q816.513 1050.05 814.913 1053.17 Q813.333 1056.27 813.333 1062.51 Q813.333 1068.72 814.913 1071.84 Q816.513 1074.94 819.673 1074.94 Q822.853 1074.94 824.433 1071.84 Q826.033 1068.72 826.033 1062.51 Q826.033 1056.27 824.433 1053.17 Q822.853 1050.05 819.673 1050.05 M819.673 1046.81 Q824.757 1046.81 827.43 1050.84 Q830.124 1054.85 830.124 1062.51 Q830.124 1070.14 827.43 1074.17 Q824.757 1078.18 819.673 1078.18 Q814.589 1078.18 811.895 1074.17 Q809.221 1070.14 809.221 1062.51 Q809.221 1054.85 811.895 1050.84 Q814.589 1046.81 819.673 1046.81 Z\" fill=\"#000000\" fill-rule=\"evenodd\" fill-opacity=\"1\" /><path clip-path=\"url(#clip930)\" d=\"M837.314 1072.45 L841.588 1072.45 L841.588 1077.6 L837.314 1077.6 L837.314 1072.45 Z\" fill=\"#000000\" fill-rule=\"evenodd\" fill-opacity=\"1\" /><path clip-path=\"url(#clip930)\" d=\"M851.209 1074.15 L857.893 1074.15 L857.893 1051.08 L850.622 1052.54 L850.622 1048.81 L857.853 1047.36 L861.944 1047.36 L861.944 1074.15 L868.628 1074.15 L868.628 1077.6 L851.209 1077.6 L851.209 1074.15 Z\" fill=\"#000000\" fill-rule=\"evenodd\" fill-opacity=\"1\" /><path clip-path=\"url(#clip930)\" d=\"M888.133 1050.92 L877.803 1067.06 L888.133 1067.06 L888.133 1050.92 M887.06 1047.36 L892.204 1047.36 L892.204 1067.06 L896.518 1067.06 L896.518 1070.47 L892.204 1070.47 L892.204 1077.6 L888.133 1077.6 L888.133 1070.47 L874.481 1070.47 L874.481 1066.52 L887.06 1047.36 Z\" fill=\"#000000\" fill-rule=\"evenodd\" fill-opacity=\"1\" /><path clip-path=\"url(#clip930)\" d=\"M1701.35 1161.49 Q1698.19 1161.49 1696.59 1164.61 Q1695.01 1167.71 1695.01 1173.95 Q1695.01 1180.17 1696.59 1183.29 Q1698.19 1186.39 1701.35 1186.39 Q1704.53 1186.39 1706.11 1183.29 Q1707.71 1180.17 1707.71 1173.95 Q1707.71 1167.71 1706.11 1164.61 Q1704.53 1161.49 1701.35 1161.49 M1701.35 1158.25 Q1706.43 1158.25 1709.1 1162.28 Q1711.8 1166.29 1711.8 1173.95 Q1711.8 1181.59 1709.1 1185.62 Q1706.43 1189.63 1701.35 1189.63 Q1696.26 1189.63 1693.57 1185.62 Q1690.89 1181.59 1690.89 1173.95 Q1690.89 1166.29 1693.57 1162.28 Q1696.26 1158.25 1701.35 1158.25 Z\" fill=\"#000000\" fill-rule=\"evenodd\" fill-opacity=\"1\" /><path clip-path=\"url(#clip930)\" d=\"M1718.99 1183.9 L1723.26 1183.9 L1723.26 1189.04 L1718.99 1189.04 L1718.99 1183.9 Z\" fill=\"#000000\" fill-rule=\"evenodd\" fill-opacity=\"1\" /><path clip-path=\"url(#clip930)\" d=\"M1744.57 1172.74 Q1747.51 1173.36 1749.15 1175.35 Q1750.81 1177.33 1750.81 1180.25 Q1750.81 1184.73 1747.73 1187.18 Q1744.65 1189.63 1738.98 1189.63 Q1737.07 1189.63 1735.05 1189.24 Q1733.04 1188.88 1730.9 1188.13 L1730.9 1184.18 Q1732.6 1185.17 1734.62 1185.68 Q1736.65 1186.18 1738.86 1186.18 Q1742.71 1186.18 1744.71 1184.67 Q1746.74 1183.15 1746.74 1180.25 Q1746.74 1177.58 1744.85 1176.08 Q1742.99 1174.56 1739.65 1174.56 L1736.12 1174.56 L1736.12 1171.2 L1739.81 1171.2 Q1742.83 1171.2 1744.43 1170 Q1746.03 1168.79 1746.03 1166.52 Q1746.03 1164.19 1744.37 1162.95 Q1742.73 1161.7 1739.65 1161.7 Q1737.97 1161.7 1736.04 1162.06 Q1734.12 1162.43 1731.81 1163.2 L1731.81 1159.55 Q1734.14 1158.9 1736.16 1158.58 Q1738.21 1158.25 1740.01 1158.25 Q1744.67 1158.25 1747.38 1160.38 Q1750.1 1162.49 1750.1 1166.09 Q1750.1 1168.6 1748.66 1170.35 Q1747.22 1172.07 1744.57 1172.74 Z\" fill=\"#000000\" fill-rule=\"evenodd\" fill-opacity=\"1\" /><path clip-path=\"url(#clip930)\" d=\"M1758.69 1188.41 L1758.69 1184.69 Q1760.23 1185.41 1761.81 1185.8 Q1763.39 1186.18 1764.9 1186.18 Q1768.96 1186.18 1771.08 1183.47 Q1773.23 1180.74 1773.53 1175.19 Q1772.36 1176.93 1770.56 1177.86 Q1768.75 1178.79 1766.57 1178.79 Q1762.03 1178.79 1759.37 1176.06 Q1756.74 1173.3 1756.74 1168.54 Q1756.74 1163.88 1759.5 1161.07 Q1762.25 1158.25 1766.83 1158.25 Q1772.07 1158.25 1774.83 1162.28 Q1777.6 1166.29 1777.6 1173.95 Q1777.6 1181.1 1774.2 1185.37 Q1770.82 1189.63 1765.09 1189.63 Q1763.55 1189.63 1761.97 1189.32 Q1760.39 1189.02 1758.69 1188.41 M1766.83 1175.59 Q1769.58 1175.59 1771.18 1173.71 Q1772.8 1171.82 1772.8 1168.54 Q1772.8 1165.28 1771.18 1163.4 Q1769.58 1161.49 1766.83 1161.49 Q1764.07 1161.49 1762.45 1163.4 Q1760.85 1165.28 1760.85 1168.54 Q1760.85 1171.82 1762.45 1173.71 Q1764.07 1175.59 1766.83 1175.59 Z\" fill=\"#000000\" fill-rule=\"evenodd\" fill-opacity=\"1\" /><path clip-path=\"url(#clip930)\" d=\"M1088.07 801.669 Q1084.91 801.669 1083.31 804.788 Q1081.73 807.887 1081.73 814.125 Q1081.73 820.343 1083.31 823.462 Q1084.91 826.561 1088.07 826.561 Q1091.25 826.561 1092.83 823.462 Q1094.43 820.343 1094.43 814.125 Q1094.43 807.887 1092.83 804.788 Q1091.25 801.669 1088.07 801.669 M1088.07 798.428 Q1093.15 798.428 1095.82 802.459 Q1098.52 806.469 1098.52 814.125 Q1098.52 821.761 1095.82 825.792 Q1093.15 829.802 1088.07 829.802 Q1082.98 829.802 1080.29 825.792 Q1077.61 821.761 1077.61 814.125 Q1077.61 806.469 1080.29 802.459 Q1082.98 798.428 1088.07 798.428 Z\" fill=\"#000000\" fill-rule=\"evenodd\" fill-opacity=\"1\" /><path clip-path=\"url(#clip930)\" d=\"M1105.71 824.07 L1109.98 824.07 L1109.98 829.215 L1105.71 829.215 L1105.71 824.07 Z\" fill=\"#000000\" fill-rule=\"evenodd\" fill-opacity=\"1\" /><path clip-path=\"url(#clip930)\" d=\"M1122.42 825.771 L1136.7 825.771 L1136.7 829.215 L1117.5 829.215 L1117.5 825.771 Q1119.82 823.361 1123.84 819.31 Q1127.87 815.239 1128.9 814.064 Q1130.86 811.857 1131.63 810.338 Q1132.42 808.798 1132.42 807.32 Q1132.42 804.909 1130.72 803.39 Q1129.04 801.871 1126.33 801.871 Q1124.4 801.871 1122.26 802.54 Q1120.13 803.208 1117.7 804.565 L1117.7 800.433 Q1120.17 799.441 1122.32 798.934 Q1124.46 798.428 1126.25 798.428 Q1130.94 798.428 1133.74 800.777 Q1136.53 803.127 1136.53 807.056 Q1136.53 808.92 1135.83 810.601 Q1135.14 812.262 1133.29 814.53 Q1132.79 815.118 1130.07 817.933 Q1127.36 820.728 1122.42 825.771 Z\" fill=\"#000000\" fill-rule=\"evenodd\" fill-opacity=\"1\" /><path clip-path=\"url(#clip930)\" d=\"M1144.25 798.975 L1163.7 798.975 L1163.7 800.717 L1152.72 829.215 L1148.44 829.215 L1158.77 802.418 L1144.25 802.418 L1144.25 798.975 Z\" fill=\"#000000\" fill-rule=\"evenodd\" fill-opacity=\"1\" /><path clip-path=\"url(#clip930)\" d=\"M1043.98 1033.99 Q1040.82 1033.99 1039.22 1037.11 Q1037.64 1040.21 1037.64 1046.44 Q1037.64 1052.66 1039.22 1055.78 Q1040.82 1058.88 1043.98 1058.88 Q1047.16 1058.88 1048.74 1055.78 Q1050.34 1052.66 1050.34 1046.44 Q1050.34 1040.21 1048.74 1037.11 Q1047.16 1033.99 1043.98 1033.99 M1043.98 1030.75 Q1049.06 1030.75 1051.74 1034.78 Q1054.43 1038.79 1054.43 1046.44 Q1054.43 1054.08 1051.74 1058.11 Q1049.06 1062.12 1043.98 1062.12 Q1038.89 1062.12 1036.2 1058.11 Q1033.53 1054.08 1033.53 1046.44 Q1033.53 1038.79 1036.2 1034.78 Q1038.89 1030.75 1043.98 1030.75 Z\" fill=\"#000000\" fill-rule=\"evenodd\" fill-opacity=\"1\" /><path clip-path=\"url(#clip930)\" d=\"M1061.62 1056.39 L1065.89 1056.39 L1065.89 1061.53 L1061.62 1061.53 L1061.62 1056.39 Z\" fill=\"#000000\" fill-rule=\"evenodd\" fill-opacity=\"1\" /><path clip-path=\"url(#clip930)\" d=\"M1083.56 1033.99 Q1080.4 1033.99 1078.8 1037.11 Q1077.22 1040.21 1077.22 1046.44 Q1077.22 1052.66 1078.8 1055.78 Q1080.4 1058.88 1083.56 1058.88 Q1086.74 1058.88 1088.31 1055.78 Q1089.92 1052.66 1089.92 1046.44 Q1089.92 1040.21 1088.31 1037.11 Q1086.74 1033.99 1083.56 1033.99 M1083.56 1030.75 Q1088.64 1030.75 1091.31 1034.78 Q1094.01 1038.79 1094.01 1046.44 Q1094.01 1054.08 1091.31 1058.11 Q1088.64 1062.12 1083.56 1062.12 Q1078.47 1062.12 1075.78 1058.11 Q1073.1 1054.08 1073.1 1046.44 Q1073.1 1038.79 1075.78 1034.78 Q1078.47 1030.75 1083.56 1030.75 Z\" fill=\"#000000\" fill-rule=\"evenodd\" fill-opacity=\"1\" /><path clip-path=\"url(#clip930)\" d=\"M1110.45 1044.78 Q1107.7 1044.78 1106.08 1046.67 Q1104.48 1048.55 1104.48 1051.83 Q1104.48 1055.09 1106.08 1057 Q1107.7 1058.88 1110.45 1058.88 Q1113.21 1058.88 1114.81 1057 Q1116.43 1055.09 1116.43 1051.83 Q1116.43 1048.55 1114.81 1046.67 Q1113.21 1044.78 1110.45 1044.78 M1118.58 1031.96 L1118.58 1035.69 Q1117.04 1034.96 1115.46 1034.57 Q1113.9 1034.19 1112.36 1034.19 Q1108.31 1034.19 1106.16 1036.92 Q1104.03 1039.66 1103.73 1045.19 Q1104.92 1043.43 1106.73 1042.49 Q1108.53 1041.54 1110.7 1041.54 Q1115.25 1041.54 1117.89 1044.32 Q1120.54 1047.07 1120.54 1051.83 Q1120.54 1056.49 1117.79 1059.31 Q1115.03 1062.12 1110.45 1062.12 Q1105.21 1062.12 1102.43 1058.11 Q1099.66 1054.08 1099.66 1046.44 Q1099.66 1039.27 1103.06 1035.02 Q1106.46 1030.75 1112.2 1030.75 Q1113.73 1030.75 1115.29 1031.05 Q1116.87 1031.35 1118.58 1031.96 Z\" fill=\"#000000\" fill-rule=\"evenodd\" fill-opacity=\"1\" /><path clip-path=\"url(#clip930)\" d=\"M1136.34 1047.17 Q1133.42 1047.17 1131.74 1048.73 Q1130.08 1050.29 1130.08 1053.03 Q1130.08 1055.76 1131.74 1057.32 Q1133.42 1058.88 1136.34 1058.88 Q1139.26 1058.88 1140.94 1057.32 Q1142.62 1055.74 1142.62 1053.03 Q1142.62 1050.29 1140.94 1048.73 Q1139.28 1047.17 1136.34 1047.17 M1132.25 1045.43 Q1129.61 1044.78 1128.14 1042.98 Q1126.68 1041.18 1126.68 1038.58 Q1126.68 1034.96 1129.25 1032.85 Q1131.84 1030.75 1136.34 1030.75 Q1140.86 1030.75 1143.43 1032.85 Q1146 1034.96 1146 1038.58 Q1146 1041.18 1144.52 1042.98 Q1143.06 1044.78 1140.45 1045.43 Q1143.41 1046.12 1145.05 1048.12 Q1146.71 1050.13 1146.71 1053.03 Q1146.71 1057.42 1144.01 1059.77 Q1141.34 1062.12 1136.34 1062.12 Q1131.34 1062.12 1128.64 1059.77 Q1125.97 1057.42 1125.97 1053.03 Q1125.97 1050.13 1127.63 1048.12 Q1129.29 1046.12 1132.25 1045.43 M1130.75 1038.97 Q1130.75 1041.32 1132.21 1042.64 Q1133.69 1043.95 1136.34 1043.95 Q1138.97 1043.95 1140.45 1042.64 Q1141.95 1041.32 1141.95 1038.97 Q1141.95 1036.62 1140.45 1035.3 Q1138.97 1033.99 1136.34 1033.99 Q1133.69 1033.99 1132.21 1035.3 Q1130.75 1036.62 1130.75 1038.97 Z\" fill=\"#000000\" fill-rule=\"evenodd\" fill-opacity=\"1\" /><path clip-path=\"url(#clip930)\" d=\"M601.557 1250.04 Q598.397 1250.04 596.797 1253.16 Q595.217 1256.26 595.217 1262.49 Q595.217 1268.71 596.797 1271.83 Q598.397 1274.93 601.557 1274.93 Q604.737 1274.93 606.317 1271.83 Q607.917 1268.71 607.917 1262.49 Q607.917 1256.26 606.317 1253.16 Q604.737 1250.04 601.557 1250.04 M601.557 1246.8 Q606.641 1246.8 609.314 1250.83 Q612.008 1254.84 612.008 1262.49 Q612.008 1270.13 609.314 1274.16 Q606.641 1278.17 601.557 1278.17 Q596.473 1278.17 593.779 1274.16 Q591.105 1270.13 591.105 1262.49 Q591.105 1254.84 593.779 1250.83 Q596.473 1246.8 601.557 1246.8 Z\" fill=\"#000000\" fill-rule=\"evenodd\" fill-opacity=\"1\" /><path clip-path=\"url(#clip930)\" d=\"M619.198 1272.44 L623.472 1272.44 L623.472 1277.58 L619.198 1277.58 L619.198 1272.44 Z\" fill=\"#000000\" fill-rule=\"evenodd\" fill-opacity=\"1\" /><path clip-path=\"url(#clip930)\" d=\"M633.093 1274.14 L639.777 1274.14 L639.777 1251.07 L632.506 1252.53 L632.506 1248.8 L639.737 1247.34 L643.828 1247.34 L643.828 1274.14 L650.512 1274.14 L650.512 1277.58 L633.093 1277.58 L633.093 1274.14 Z\" fill=\"#000000\" fill-rule=\"evenodd\" fill-opacity=\"1\" /><path clip-path=\"url(#clip930)\" d=\"M659.485 1274.14 L666.169 1274.14 L666.169 1251.07 L658.897 1252.53 L658.897 1248.8 L666.128 1247.34 L670.22 1247.34 L670.22 1274.14 L676.904 1274.14 L676.904 1277.58 L659.485 1277.58 L659.485 1274.14 Z\" fill=\"#000000\" fill-rule=\"evenodd\" fill-opacity=\"1\" /><path clip-path=\"url(#clip930)\" d=\"M436.83 841.967 Q433.67 841.967 432.07 845.087 Q430.49 848.185 430.49 854.424 Q430.49 860.642 432.07 863.761 Q433.67 866.86 436.83 866.86 Q440.01 866.86 441.59 863.761 Q443.19 860.642 443.19 854.424 Q443.19 848.185 441.59 845.087 Q440.01 841.967 436.83 841.967 M436.83 838.727 Q441.914 838.727 444.588 842.757 Q447.281 846.768 447.281 854.424 Q447.281 862.06 444.588 866.09 Q441.914 870.101 436.83 870.101 Q431.746 870.101 429.052 866.09 Q426.379 862.06 426.379 854.424 Q426.379 846.768 429.052 842.757 Q431.746 838.727 436.83 838.727 Z\" fill=\"#000000\" fill-rule=\"evenodd\" fill-opacity=\"1\" /><path clip-path=\"url(#clip930)\" d=\"M454.472 864.369 L458.746 864.369 L458.746 869.513 L454.472 869.513 L454.472 864.369 Z\" fill=\"#000000\" fill-rule=\"evenodd\" fill-opacity=\"1\" /><path clip-path=\"url(#clip930)\" d=\"M468.366 866.07 L475.05 866.07 L475.05 843 L467.779 844.459 L467.779 840.732 L475.01 839.273 L479.101 839.273 L479.101 866.07 L485.785 866.07 L485.785 869.513 L468.366 869.513 L468.366 866.07 Z\" fill=\"#000000\" fill-rule=\"evenodd\" fill-opacity=\"1\" /><path clip-path=\"url(#clip930)\" d=\"M506.445 853.209 Q509.382 853.836 511.022 855.821 Q512.683 857.806 512.683 860.723 Q512.683 865.199 509.605 867.65 Q506.526 870.101 500.855 870.101 Q498.951 870.101 496.925 869.716 Q494.92 869.351 492.773 868.602 L492.773 864.652 Q494.475 865.645 496.5 866.151 Q498.525 866.658 500.733 866.658 Q504.582 866.658 506.587 865.138 Q508.612 863.619 508.612 860.723 Q508.612 858.049 506.729 856.551 Q504.865 855.031 501.523 855.031 L497.999 855.031 L497.999 851.669 L501.685 851.669 Q504.703 851.669 506.303 850.474 Q507.903 849.259 507.903 846.99 Q507.903 844.661 506.242 843.426 Q504.602 842.17 501.523 842.17 Q499.842 842.17 497.918 842.534 Q495.994 842.899 493.685 843.669 L493.685 840.023 Q496.014 839.375 498.039 839.051 Q500.085 838.727 501.888 838.727 Q506.546 838.727 509.26 840.853 Q511.974 842.96 511.974 846.565 Q511.974 849.077 510.536 850.819 Q509.098 852.54 506.445 853.209 Z\" fill=\"#000000\" fill-rule=\"evenodd\" fill-opacity=\"1\" /><path clip-path=\"url(#clip930)\" d=\"M1279.15 1162.12 Q1275.99 1162.12 1274.39 1165.23 Q1272.81 1168.33 1272.81 1174.57 Q1272.81 1180.79 1274.39 1183.91 Q1275.99 1187.01 1279.15 1187.01 Q1282.33 1187.01 1283.91 1183.91 Q1285.51 1180.79 1285.51 1174.57 Q1285.51 1168.33 1283.91 1165.23 Q1282.33 1162.12 1279.15 1162.12 M1279.15 1158.87 Q1284.23 1158.87 1286.91 1162.91 Q1289.6 1166.92 1289.6 1174.57 Q1289.6 1182.21 1286.91 1186.24 Q1284.23 1190.25 1279.15 1190.25 Q1274.06 1190.25 1271.37 1186.24 Q1268.7 1182.21 1268.7 1174.57 Q1268.7 1166.92 1271.37 1162.91 Q1274.06 1158.87 1279.15 1158.87 Z\" fill=\"#000000\" fill-rule=\"evenodd\" fill-opacity=\"1\" /><path clip-path=\"url(#clip930)\" d=\"M1296.79 1184.52 L1301.06 1184.52 L1301.06 1189.66 L1296.79 1189.66 L1296.79 1184.52 Z\" fill=\"#000000\" fill-rule=\"evenodd\" fill-opacity=\"1\" /><path clip-path=\"url(#clip930)\" d=\"M1321.22 1162.99 L1310.89 1179.13 L1321.22 1179.13 L1321.22 1162.99 M1320.14 1159.42 L1325.29 1159.42 L1325.29 1179.13 L1329.6 1179.13 L1329.6 1182.53 L1325.29 1182.53 L1325.29 1189.66 L1321.22 1189.66 L1321.22 1182.53 L1307.57 1182.53 L1307.57 1178.58 L1320.14 1159.42 Z\" fill=\"#000000\" fill-rule=\"evenodd\" fill-opacity=\"1\" /><path clip-path=\"url(#clip930)\" d=\"M1150.17 822.567 Q1147.02 822.567 1145.41 825.686 Q1143.84 828.785 1143.84 835.023 Q1143.84 841.242 1145.41 844.361 Q1147.02 847.46 1150.17 847.46 Q1153.35 847.46 1154.93 844.361 Q1156.53 841.242 1156.53 835.023 Q1156.53 828.785 1154.93 825.686 Q1153.35 822.567 1150.17 822.567 M1150.17 819.326 Q1155.26 819.326 1157.93 823.357 Q1160.63 827.367 1160.63 835.023 Q1160.63 842.659 1157.93 846.69 Q1155.26 850.7 1150.17 850.7 Q1145.09 850.7 1142.4 846.69 Q1139.72 842.659 1139.72 835.023 Q1139.72 827.367 1142.4 823.357 Q1145.09 819.326 1150.17 819.326 Z\" fill=\"#000000\" fill-rule=\"evenodd\" fill-opacity=\"1\" /><path clip-path=\"url(#clip930)\" d=\"M1167.82 844.968 L1172.09 844.968 L1172.09 850.113 L1167.82 850.113 L1167.82 844.968 Z\" fill=\"#000000\" fill-rule=\"evenodd\" fill-opacity=\"1\" /><path clip-path=\"url(#clip930)\" d=\"M1184.53 846.67 L1198.81 846.67 L1198.81 850.113 L1179.6 850.113 L1179.6 846.67 Q1181.93 844.26 1185.94 840.209 Q1189.97 836.137 1191.01 834.963 Q1192.97 832.755 1193.74 831.236 Q1194.53 829.697 1194.53 828.218 Q1194.53 825.808 1192.83 824.289 Q1191.15 822.769 1188.44 822.769 Q1186.51 822.769 1184.36 823.438 Q1182.24 824.106 1179.81 825.463 L1179.81 821.331 Q1182.28 820.339 1184.43 819.833 Q1186.57 819.326 1188.35 819.326 Q1193.05 819.326 1195.85 821.676 Q1198.64 824.025 1198.64 827.955 Q1198.64 829.818 1197.93 831.499 Q1197.25 833.16 1195.4 835.429 Q1194.9 836.016 1192.18 838.831 Q1189.47 841.626 1184.53 846.67 Z\" fill=\"#000000\" fill-rule=\"evenodd\" fill-opacity=\"1\" /><path clip-path=\"url(#clip930)\" d=\"M1207.52 849.485 L1207.52 845.758 Q1209.05 846.488 1210.63 846.872 Q1212.21 847.257 1213.73 847.257 Q1217.78 847.257 1219.91 844.543 Q1222.06 841.809 1222.36 836.259 Q1221.19 838.001 1219.38 838.933 Q1217.58 839.864 1215.39 839.864 Q1210.86 839.864 1208.2 837.13 Q1205.57 834.375 1205.57 829.616 Q1205.57 824.957 1208.33 822.142 Q1211.08 819.326 1215.66 819.326 Q1220.9 819.326 1223.66 823.357 Q1226.43 827.367 1226.43 835.023 Q1226.43 842.173 1223.03 846.447 Q1219.65 850.7 1213.92 850.7 Q1212.38 850.7 1210.8 850.397 Q1209.22 850.093 1207.52 849.485 M1215.66 836.664 Q1218.41 836.664 1220.01 834.78 Q1221.63 832.897 1221.63 829.616 Q1221.63 826.355 1220.01 824.471 Q1218.41 822.567 1215.66 822.567 Q1212.9 822.567 1211.28 824.471 Q1209.68 826.355 1209.68 829.616 Q1209.68 832.897 1211.28 834.78 Q1212.9 836.664 1215.66 836.664 Z\" fill=\"#000000\" fill-rule=\"evenodd\" fill-opacity=\"1\" /><path clip-path=\"url(#clip930)\" d=\"M1134.28 770.774 Q1131.12 770.774 1129.52 773.893 Q1127.94 776.992 1127.94 783.23 Q1127.94 789.448 1129.52 792.568 Q1131.12 795.667 1134.28 795.667 Q1137.46 795.667 1139.04 792.568 Q1140.64 789.448 1140.64 783.23 Q1140.64 776.992 1139.04 773.893 Q1137.46 770.774 1134.28 770.774 M1134.28 767.533 Q1139.37 767.533 1142.04 771.564 Q1144.73 775.574 1144.73 783.23 Q1144.73 790.866 1142.04 794.897 Q1139.37 798.907 1134.28 798.907 Q1129.2 798.907 1126.5 794.897 Q1123.83 790.866 1123.83 783.23 Q1123.83 775.574 1126.5 771.564 Q1129.2 767.533 1134.28 767.533 Z\" fill=\"#000000\" fill-rule=\"evenodd\" fill-opacity=\"1\" /><path clip-path=\"url(#clip930)\" d=\"M1151.92 793.175 L1156.2 793.175 L1156.2 798.32 L1151.92 798.32 L1151.92 793.175 Z\" fill=\"#000000\" fill-rule=\"evenodd\" fill-opacity=\"1\" /><path clip-path=\"url(#clip930)\" d=\"M1173.86 770.774 Q1170.7 770.774 1169.1 773.893 Q1167.52 776.992 1167.52 783.23 Q1167.52 789.448 1169.1 792.568 Q1170.7 795.667 1173.86 795.667 Q1177.04 795.667 1178.62 792.568 Q1180.22 789.448 1180.22 783.23 Q1180.22 776.992 1178.62 773.893 Q1177.04 770.774 1173.86 770.774 M1173.86 767.533 Q1178.94 767.533 1181.62 771.564 Q1184.31 775.574 1184.31 783.23 Q1184.31 790.866 1181.62 794.897 Q1178.94 798.907 1173.86 798.907 Q1168.77 798.907 1166.08 794.897 Q1163.41 790.866 1163.41 783.23 Q1163.41 775.574 1166.08 771.564 Q1168.77 767.533 1173.86 767.533 Z\" fill=\"#000000\" fill-rule=\"evenodd\" fill-opacity=\"1\" /><path clip-path=\"url(#clip930)\" d=\"M1202.74 771.645 L1192.41 787.788 L1202.74 787.788 L1202.74 771.645 M1201.67 768.08 L1206.81 768.08 L1206.81 787.788 L1211.13 787.788 L1211.13 791.19 L1206.81 791.19 L1206.81 798.32 L1202.74 798.32 L1202.74 791.19 L1189.09 791.19 L1189.09 787.241 L1201.67 768.08 Z\" fill=\"#000000\" fill-rule=\"evenodd\" fill-opacity=\"1\" /><path clip-path=\"url(#clip930)\" d=\"M1217.93 768.08 L1233.99 768.08 L1233.99 771.523 L1221.68 771.523 L1221.68 778.936 Q1222.57 778.633 1223.46 778.491 Q1224.35 778.329 1225.24 778.329 Q1230.31 778.329 1233.26 781.104 Q1236.22 783.878 1236.22 788.618 Q1236.22 793.499 1233.18 796.213 Q1230.15 798.907 1224.62 798.907 Q1222.71 798.907 1220.73 798.583 Q1218.76 798.259 1216.66 797.611 L1216.66 793.499 Q1218.48 794.492 1220.42 794.978 Q1222.37 795.464 1224.54 795.464 Q1228.04 795.464 1230.09 793.621 Q1232.13 791.778 1232.13 788.618 Q1232.13 785.458 1230.09 783.615 Q1228.04 781.772 1224.54 781.772 Q1222.89 781.772 1221.25 782.137 Q1219.63 782.501 1217.93 783.271 L1217.93 768.08 Z\" fill=\"#000000\" fill-rule=\"evenodd\" fill-opacity=\"1\" /><path clip-path=\"url(#clip930)\" d=\"M852.613 813.778 Q849.453 813.778 847.853 816.897 Q846.273 819.996 846.273 826.234 Q846.273 832.452 847.853 835.572 Q849.453 838.67 852.613 838.67 Q855.793 838.67 857.373 835.572 Q858.973 832.452 858.973 826.234 Q858.973 819.996 857.373 816.897 Q855.793 813.778 852.613 813.778 M852.613 810.537 Q857.697 810.537 860.37 814.568 Q863.064 818.578 863.064 826.234 Q863.064 833.87 860.37 837.901 Q857.697 841.911 852.613 841.911 Q847.529 841.911 844.835 837.901 Q842.161 833.87 842.161 826.234 Q842.161 818.578 844.835 814.568 Q847.529 810.537 852.613 810.537 Z\" fill=\"#000000\" fill-rule=\"evenodd\" fill-opacity=\"1\" /><path clip-path=\"url(#clip930)\" d=\"M870.255 836.179 L874.528 836.179 L874.528 841.324 L870.255 841.324 L870.255 836.179 Z\" fill=\"#000000\" fill-rule=\"evenodd\" fill-opacity=\"1\" /><path clip-path=\"url(#clip930)\" d=\"M892.19 813.778 Q889.03 813.778 887.43 816.897 Q885.85 819.996 885.85 826.234 Q885.85 832.452 887.43 835.572 Q889.03 838.67 892.19 838.67 Q895.37 838.67 896.95 835.572 Q898.55 832.452 898.55 826.234 Q898.55 819.996 896.95 816.897 Q895.37 813.778 892.19 813.778 M892.19 810.537 Q897.274 810.537 899.948 814.568 Q902.641 818.578 902.641 826.234 Q902.641 833.87 899.948 837.901 Q897.274 841.911 892.19 841.911 Q887.106 841.911 884.412 837.901 Q881.739 833.87 881.739 826.234 Q881.739 818.578 884.412 814.568 Q887.106 810.537 892.19 810.537 Z\" fill=\"#000000\" fill-rule=\"evenodd\" fill-opacity=\"1\" /><path clip-path=\"url(#clip930)\" d=\"M908.799 811.084 L928.243 811.084 L928.243 812.826 L917.265 841.324 L912.992 841.324 L923.321 814.527 L908.799 814.527 L908.799 811.084 Z\" fill=\"#000000\" fill-rule=\"evenodd\" fill-opacity=\"1\" /><path clip-path=\"url(#clip930)\" d=\"M944.973 826.963 Q942.057 826.963 940.376 828.523 Q938.715 830.083 938.715 832.817 Q938.715 835.551 940.376 837.111 Q942.057 838.67 944.973 838.67 Q947.89 838.67 949.571 837.111 Q951.252 835.531 951.252 832.817 Q951.252 830.083 949.571 828.523 Q947.91 826.963 944.973 826.963 M940.882 825.221 Q938.249 824.573 936.77 822.771 Q935.312 820.968 935.312 818.375 Q935.312 814.75 937.884 812.643 Q940.477 810.537 944.973 810.537 Q949.49 810.537 952.063 812.643 Q954.635 814.75 954.635 818.375 Q954.635 820.968 953.156 822.771 Q951.698 824.573 949.085 825.221 Q952.042 825.91 953.683 827.915 Q955.344 829.921 955.344 832.817 Q955.344 837.212 952.65 839.562 Q949.976 841.911 944.973 841.911 Q939.971 841.911 937.277 839.562 Q934.603 837.212 934.603 832.817 Q934.603 829.921 936.264 827.915 Q937.925 825.91 940.882 825.221 M939.383 818.76 Q939.383 821.11 940.842 822.426 Q942.32 823.743 944.973 823.743 Q947.607 823.743 949.085 822.426 Q950.584 821.11 950.584 818.76 Q950.584 816.411 949.085 815.094 Q947.607 813.778 944.973 813.778 Q942.32 813.778 940.842 815.094 Q939.383 816.411 939.383 818.76 Z\" fill=\"#000000\" fill-rule=\"evenodd\" fill-opacity=\"1\" /><path clip-path=\"url(#clip930)\" d=\"M440.83 373.628 Q437.671 373.628 436.071 376.747 Q434.491 379.846 434.491 386.085 Q434.491 392.303 436.071 395.422 Q437.671 398.521 440.83 398.521 Q444.01 398.521 445.59 395.422 Q447.19 392.303 447.19 386.085 Q447.19 379.846 445.59 376.747 Q444.01 373.628 440.83 373.628 M440.83 370.388 Q445.914 370.388 448.588 374.418 Q451.282 378.429 451.282 386.085 Q451.282 393.721 448.588 397.751 Q445.914 401.762 440.83 401.762 Q435.747 401.762 433.053 397.751 Q430.379 393.721 430.379 386.085 Q430.379 378.429 433.053 374.418 Q435.747 370.388 440.83 370.388 Z\" fill=\"#000000\" fill-rule=\"evenodd\" fill-opacity=\"1\" /><path clip-path=\"url(#clip930)\" d=\"M458.472 396.03 L462.746 396.03 L462.746 401.174 L458.472 401.174 L458.472 396.03 Z\" fill=\"#000000\" fill-rule=\"evenodd\" fill-opacity=\"1\" /><path clip-path=\"url(#clip930)\" d=\"M472.367 397.731 L479.051 397.731 L479.051 374.661 L471.779 376.12 L471.779 372.393 L479.01 370.934 L483.102 370.934 L483.102 397.731 L489.786 397.731 L489.786 401.174 L472.367 401.174 L472.367 397.731 Z\" fill=\"#000000\" fill-rule=\"evenodd\" fill-opacity=\"1\" /><path clip-path=\"url(#clip930)\" d=\"M498.758 397.731 L505.442 397.731 L505.442 374.661 L498.171 376.12 L498.171 372.393 L505.402 370.934 L509.493 370.934 L509.493 397.731 L516.177 397.731 L516.177 401.174 L498.758 401.174 L498.758 397.731 Z\" fill=\"#000000\" fill-rule=\"evenodd\" fill-opacity=\"1\" /><path clip-path=\"url(#clip930)\" d=\"M1114.96 837.848 Q1111.8 837.848 1110.2 840.967 Q1108.62 844.066 1108.62 850.304 Q1108.62 856.522 1110.2 859.642 Q1111.8 862.741 1114.96 862.741 Q1118.14 862.741 1119.72 859.642 Q1121.32 856.522 1121.32 850.304 Q1121.32 844.066 1119.72 840.967 Q1118.14 837.848 1114.96 837.848 M1114.96 834.607 Q1120.04 834.607 1122.72 838.638 Q1125.41 842.648 1125.41 850.304 Q1125.41 857.94 1122.72 861.971 Q1120.04 865.981 1114.96 865.981 Q1109.87 865.981 1107.18 861.971 Q1104.51 857.94 1104.51 850.304 Q1104.51 842.648 1107.18 838.638 Q1109.87 834.607 1114.96 834.607 Z\" fill=\"#000000\" fill-rule=\"evenodd\" fill-opacity=\"1\" /><path clip-path=\"url(#clip930)\" d=\"M1132.6 860.249 L1136.87 860.249 L1136.87 865.394 L1132.6 865.394 L1132.6 860.249 Z\" fill=\"#000000\" fill-rule=\"evenodd\" fill-opacity=\"1\" /><path clip-path=\"url(#clip930)\" d=\"M1157.03 838.719 L1146.7 854.862 L1157.03 854.862 L1157.03 838.719 M1155.95 835.154 L1161.1 835.154 L1161.1 854.862 L1165.41 854.862 L1165.41 858.264 L1161.1 858.264 L1161.1 865.394 L1157.03 865.394 L1157.03 858.264 L1143.37 858.264 L1143.37 854.315 L1155.95 835.154 Z\" fill=\"#000000\" fill-rule=\"evenodd\" fill-opacity=\"1\" /><path clip-path=\"url(#clip930)\" d=\"M1183.42 838.719 L1173.09 854.862 L1183.42 854.862 L1183.42 838.719 M1182.34 835.154 L1187.49 835.154 L1187.49 854.862 L1191.8 854.862 L1191.8 858.264 L1187.49 858.264 L1187.49 865.394 L1183.42 865.394 L1183.42 858.264 L1169.77 858.264 L1169.77 854.315 L1182.34 835.154 Z\" fill=\"#000000\" fill-rule=\"evenodd\" fill-opacity=\"1\" /><path clip-path=\"url(#clip930)\" d=\"M1025.76 573.421 Q1022.6 573.421 1021 576.54 Q1019.42 579.639 1019.42 585.877 Q1019.42 592.095 1021 595.215 Q1022.6 598.314 1025.76 598.314 Q1028.94 598.314 1030.52 595.215 Q1032.12 592.095 1032.12 585.877 Q1032.12 579.639 1030.52 576.54 Q1028.94 573.421 1025.76 573.421 M1025.76 570.18 Q1030.84 570.18 1033.52 574.211 Q1036.21 578.221 1036.21 585.877 Q1036.21 593.513 1033.52 597.544 Q1030.84 601.554 1025.76 601.554 Q1020.68 601.554 1017.98 597.544 Q1015.31 593.513 1015.31 585.877 Q1015.31 578.221 1017.98 574.211 Q1020.68 570.18 1025.76 570.18 Z\" fill=\"#000000\" fill-rule=\"evenodd\" fill-opacity=\"1\" /><path clip-path=\"url(#clip930)\" d=\"M1043.4 595.822 L1047.67 595.822 L1047.67 600.967 L1043.4 600.967 L1043.4 595.822 Z\" fill=\"#000000\" fill-rule=\"evenodd\" fill-opacity=\"1\" /><path clip-path=\"url(#clip930)\" d=\"M1068.98 584.662 Q1071.92 585.29 1073.56 587.275 Q1075.22 589.26 1075.22 592.176 Q1075.22 596.653 1072.14 599.103 Q1069.06 601.554 1063.39 601.554 Q1061.49 601.554 1059.46 601.169 Q1057.46 600.805 1055.31 600.055 L1055.31 596.106 Q1057.01 597.098 1059.04 597.605 Q1061.06 598.111 1063.27 598.111 Q1067.12 598.111 1069.12 596.592 Q1071.15 595.073 1071.15 592.176 Q1071.15 589.503 1069.27 588.004 Q1067.4 586.485 1064.06 586.485 L1060.54 586.485 L1060.54 583.123 L1064.22 583.123 Q1067.24 583.123 1068.84 581.928 Q1070.44 580.712 1070.44 578.444 Q1070.44 576.115 1068.78 574.879 Q1067.14 573.623 1064.06 573.623 Q1062.38 573.623 1060.46 573.988 Q1058.53 574.352 1056.22 575.122 L1056.22 571.476 Q1058.55 570.828 1060.58 570.504 Q1062.62 570.18 1064.42 570.18 Q1069.08 570.18 1071.8 572.307 Q1074.51 574.413 1074.51 578.019 Q1074.51 580.53 1073.07 582.272 Q1071.64 583.994 1068.98 584.662 Z\" fill=\"#000000\" fill-rule=\"evenodd\" fill-opacity=\"1\" /><path clip-path=\"url(#clip930)\" d=\"M1095.37 584.662 Q1098.31 585.29 1099.95 587.275 Q1101.61 589.26 1101.61 592.176 Q1101.61 596.653 1098.53 599.103 Q1095.45 601.554 1089.78 601.554 Q1087.88 601.554 1085.85 601.169 Q1083.85 600.805 1081.7 600.055 L1081.7 596.106 Q1083.4 597.098 1085.43 597.605 Q1087.45 598.111 1089.66 598.111 Q1093.51 598.111 1095.52 596.592 Q1097.54 595.073 1097.54 592.176 Q1097.54 589.503 1095.66 588.004 Q1093.79 586.485 1090.45 586.485 L1086.93 586.485 L1086.93 583.123 L1090.61 583.123 Q1093.63 583.123 1095.23 581.928 Q1096.83 580.712 1096.83 578.444 Q1096.83 576.115 1095.17 574.879 Q1093.53 573.623 1090.45 573.623 Q1088.77 573.623 1086.85 573.988 Q1084.92 574.352 1082.61 575.122 L1082.61 571.476 Q1084.94 570.828 1086.97 570.504 Q1089.01 570.18 1090.82 570.18 Q1095.48 570.18 1098.19 572.307 Q1100.9 574.413 1100.9 578.019 Q1100.9 580.53 1099.47 582.272 Q1098.03 583.994 1095.37 584.662 Z\" fill=\"#000000\" fill-rule=\"evenodd\" fill-opacity=\"1\" /><path clip-path=\"url(#clip930)\" d=\"M1327.87 926.43 Q1324.71 926.43 1323.11 929.549 Q1321.53 932.648 1321.53 938.887 Q1321.53 945.105 1323.11 948.224 Q1324.71 951.323 1327.87 951.323 Q1331.05 951.323 1332.63 948.224 Q1334.23 945.105 1334.23 938.887 Q1334.23 932.648 1332.63 929.549 Q1331.05 926.43 1327.87 926.43 M1327.87 923.189 Q1332.96 923.189 1335.63 927.22 Q1338.32 931.23 1338.32 938.887 Q1338.32 946.523 1335.63 950.553 Q1332.96 954.564 1327.87 954.564 Q1322.79 954.564 1320.09 950.553 Q1317.42 946.523 1317.42 938.887 Q1317.42 931.23 1320.09 927.22 Q1322.79 923.189 1327.87 923.189 Z\" fill=\"#000000\" fill-rule=\"evenodd\" fill-opacity=\"1\" /><path clip-path=\"url(#clip930)\" d=\"M1345.51 948.832 L1349.79 948.832 L1349.79 953.976 L1345.51 953.976 L1345.51 948.832 Z\" fill=\"#000000\" fill-rule=\"evenodd\" fill-opacity=\"1\" /><path clip-path=\"url(#clip930)\" d=\"M1367.45 926.43 Q1364.29 926.43 1362.69 929.549 Q1361.11 932.648 1361.11 938.887 Q1361.11 945.105 1362.69 948.224 Q1364.29 951.323 1367.45 951.323 Q1370.63 951.323 1372.21 948.224 Q1373.81 945.105 1373.81 938.887 Q1373.81 932.648 1372.21 929.549 Q1370.63 926.43 1367.45 926.43 M1367.45 923.189 Q1372.53 923.189 1375.21 927.22 Q1377.9 931.23 1377.9 938.887 Q1377.9 946.523 1375.21 950.553 Q1372.53 954.564 1367.45 954.564 Q1362.37 954.564 1359.67 950.553 Q1357 946.523 1357 938.887 Q1357 931.23 1359.67 927.22 Q1362.37 923.189 1367.45 923.189 Z\" fill=\"#000000\" fill-rule=\"evenodd\" fill-opacity=\"1\" /><path clip-path=\"url(#clip930)\" d=\"M1388.62 950.533 L1402.9 950.533 L1402.9 953.976 L1383.69 953.976 L1383.69 950.533 Q1386.02 948.123 1390.03 944.072 Q1394.06 940.001 1395.1 938.826 Q1397.06 936.618 1397.83 935.099 Q1398.62 933.56 1398.62 932.081 Q1398.62 929.671 1396.92 928.152 Q1395.24 926.633 1392.52 926.633 Q1390.6 926.633 1388.45 927.301 Q1386.33 927.969 1383.9 929.327 L1383.9 925.195 Q1386.37 924.202 1388.51 923.696 Q1390.66 923.189 1392.44 923.189 Q1397.14 923.189 1399.94 925.539 Q1402.73 927.888 1402.73 931.818 Q1402.73 933.681 1402.02 935.362 Q1401.34 937.023 1399.49 939.292 Q1398.99 939.879 1396.27 942.695 Q1393.56 945.49 1388.62 950.533 Z\" fill=\"#000000\" fill-rule=\"evenodd\" fill-opacity=\"1\" /><path clip-path=\"url(#clip930)\" d=\"M1420.23 939.616 Q1417.32 939.616 1415.64 941.175 Q1413.97 942.735 1413.97 945.469 Q1413.97 948.204 1415.64 949.763 Q1417.32 951.323 1420.23 951.323 Q1423.15 951.323 1424.83 949.763 Q1426.51 948.183 1426.51 945.469 Q1426.51 942.735 1424.83 941.175 Q1423.17 939.616 1420.23 939.616 M1416.14 937.874 Q1413.51 937.226 1412.03 935.423 Q1410.57 933.62 1410.57 931.028 Q1410.57 927.402 1413.14 925.296 Q1415.74 923.189 1420.23 923.189 Q1424.75 923.189 1427.32 925.296 Q1429.89 927.402 1429.89 931.028 Q1429.89 933.62 1428.42 935.423 Q1426.96 937.226 1424.34 937.874 Q1427.3 938.563 1428.94 940.568 Q1430.6 942.573 1430.6 945.469 Q1430.6 949.865 1427.91 952.214 Q1425.24 954.564 1420.23 954.564 Q1415.23 954.564 1412.54 952.214 Q1409.86 949.865 1409.86 945.469 Q1409.86 942.573 1411.52 940.568 Q1413.18 938.563 1416.14 937.874 M1414.64 931.413 Q1414.64 933.762 1416.1 935.079 Q1417.58 936.395 1420.23 936.395 Q1422.87 936.395 1424.34 935.079 Q1425.84 933.762 1425.84 931.413 Q1425.84 929.063 1424.34 927.747 Q1422.87 926.43 1420.23 926.43 Q1417.58 926.43 1416.1 927.747 Q1414.64 929.063 1414.64 931.413 Z\" fill=\"#000000\" fill-rule=\"evenodd\" fill-opacity=\"1\" /><path clip-path=\"url(#clip930)\" d=\"M1111.95 760.731 Q1108.79 760.731 1107.19 763.85 Q1105.61 766.949 1105.61 773.188 Q1105.61 779.406 1107.19 782.525 Q1108.79 785.624 1111.95 785.624 Q1115.13 785.624 1116.71 782.525 Q1118.31 779.406 1118.31 773.188 Q1118.31 766.949 1116.71 763.85 Q1115.13 760.731 1111.95 760.731 M1111.95 757.49 Q1117.03 757.49 1119.71 761.521 Q1122.4 765.531 1122.4 773.188 Q1122.4 780.824 1119.71 784.854 Q1117.03 788.865 1111.95 788.865 Q1106.87 788.865 1104.17 784.854 Q1101.5 780.824 1101.5 773.188 Q1101.5 765.531 1104.17 761.521 Q1106.87 757.49 1111.95 757.49 Z\" fill=\"#000000\" fill-rule=\"evenodd\" fill-opacity=\"1\" /><path clip-path=\"url(#clip930)\" d=\"M1129.59 783.133 L1133.87 783.133 L1133.87 788.277 L1129.59 788.277 L1129.59 783.133 Z\" fill=\"#000000\" fill-rule=\"evenodd\" fill-opacity=\"1\" /><path clip-path=\"url(#clip930)\" d=\"M1151.53 760.731 Q1148.37 760.731 1146.77 763.85 Q1145.19 766.949 1145.19 773.188 Q1145.19 779.406 1146.77 782.525 Q1148.37 785.624 1151.53 785.624 Q1154.71 785.624 1156.29 782.525 Q1157.89 779.406 1157.89 773.188 Q1157.89 766.949 1156.29 763.85 Q1154.71 760.731 1151.53 760.731 M1151.53 757.49 Q1156.61 757.49 1159.29 761.521 Q1161.98 765.531 1161.98 773.188 Q1161.98 780.824 1159.29 784.854 Q1156.61 788.865 1151.53 788.865 Q1146.44 788.865 1143.75 784.854 Q1141.08 780.824 1141.08 773.188 Q1141.08 765.531 1143.75 761.521 Q1146.44 757.49 1151.53 757.49 Z\" fill=\"#000000\" fill-rule=\"evenodd\" fill-opacity=\"1\" /><path clip-path=\"url(#clip930)\" d=\"M1169.21 758.037 L1185.27 758.037 L1185.27 761.481 L1172.96 761.481 L1172.96 768.894 Q1173.85 768.59 1174.74 768.448 Q1175.63 768.286 1176.52 768.286 Q1181.59 768.286 1184.54 771.061 Q1187.5 773.836 1187.5 778.575 Q1187.5 783.457 1184.46 786.171 Q1181.42 788.865 1175.89 788.865 Q1173.99 788.865 1172.01 788.541 Q1170.04 788.217 1167.93 787.568 L1167.93 783.457 Q1169.76 784.449 1171.7 784.935 Q1173.65 785.421 1175.81 785.421 Q1179.32 785.421 1181.36 783.578 Q1183.41 781.735 1183.41 778.575 Q1183.41 775.416 1181.36 773.573 Q1179.32 771.729 1175.81 771.729 Q1174.17 771.729 1172.53 772.094 Q1170.91 772.459 1169.21 773.228 L1169.21 758.037 Z\" fill=\"#000000\" fill-rule=\"evenodd\" fill-opacity=\"1\" /><path clip-path=\"url(#clip930)\" d=\"M1205.95 420.386 Q1202.79 420.386 1201.19 423.505 Q1199.61 426.604 1199.61 432.843 Q1199.61 439.061 1201.19 442.18 Q1202.79 445.279 1205.95 445.279 Q1209.13 445.279 1210.71 442.18 Q1212.31 439.061 1212.31 432.843 Q1212.31 426.604 1210.71 423.505 Q1209.13 420.386 1205.95 420.386 M1205.95 417.145 Q1211.03 417.145 1213.71 421.176 Q1216.4 425.187 1216.4 432.843 Q1216.4 440.479 1213.71 444.509 Q1211.03 448.52 1205.95 448.52 Q1200.86 448.52 1198.17 444.509 Q1195.5 440.479 1195.5 432.843 Q1195.5 425.187 1198.17 421.176 Q1200.86 417.145 1205.95 417.145 Z\" fill=\"#000000\" fill-rule=\"evenodd\" fill-opacity=\"1\" /><path clip-path=\"url(#clip930)\" d=\"M1223.59 442.788 L1227.86 442.788 L1227.86 447.932 L1223.59 447.932 L1223.59 442.788 Z\" fill=\"#000000\" fill-rule=\"evenodd\" fill-opacity=\"1\" /><path clip-path=\"url(#clip930)\" d=\"M1245.53 420.386 Q1242.37 420.386 1240.77 423.505 Q1239.19 426.604 1239.19 432.843 Q1239.19 439.061 1240.77 442.18 Q1242.37 445.279 1245.53 445.279 Q1248.71 445.279 1250.29 442.18 Q1251.89 439.061 1251.89 432.843 Q1251.89 426.604 1250.29 423.505 Q1248.71 420.386 1245.53 420.386 M1245.53 417.145 Q1250.61 417.145 1253.28 421.176 Q1255.98 425.187 1255.98 432.843 Q1255.98 440.479 1253.28 444.509 Q1250.61 448.52 1245.53 448.52 Q1240.44 448.52 1237.75 444.509 Q1235.07 440.479 1235.07 432.843 Q1235.07 425.187 1237.75 421.176 Q1240.44 417.145 1245.53 417.145 Z\" fill=\"#000000\" fill-rule=\"evenodd\" fill-opacity=\"1\" /><path clip-path=\"url(#clip930)\" d=\"M1263.29 447.304 L1263.29 443.578 Q1264.83 444.307 1266.41 444.692 Q1267.99 445.076 1269.51 445.076 Q1273.56 445.076 1275.68 442.362 Q1277.83 439.628 1278.14 434.078 Q1276.96 435.82 1275.16 436.752 Q1273.36 437.684 1271.17 437.684 Q1266.63 437.684 1263.98 434.949 Q1261.34 432.195 1261.34 427.435 Q1261.34 422.776 1264.1 419.961 Q1266.85 417.145 1271.43 417.145 Q1276.68 417.145 1279.43 421.176 Q1282.21 425.187 1282.21 432.843 Q1282.21 439.993 1278.8 444.266 Q1275.42 448.52 1269.69 448.52 Q1268.15 448.52 1266.57 448.216 Q1264.99 447.912 1263.29 447.304 M1271.43 434.483 Q1274.19 434.483 1275.79 432.6 Q1277.41 430.716 1277.41 427.435 Q1277.41 424.174 1275.79 422.29 Q1274.19 420.386 1271.43 420.386 Q1268.68 420.386 1267.06 422.29 Q1265.46 424.174 1265.46 427.435 Q1265.46 430.716 1267.06 432.6 Q1268.68 434.483 1271.43 434.483 Z\" fill=\"#000000\" fill-rule=\"evenodd\" fill-opacity=\"1\" /><path clip-path=\"url(#clip930)\" d=\"M1301.95 431.627 Q1304.89 432.255 1306.53 434.24 Q1308.19 436.225 1308.19 439.142 Q1308.19 443.618 1305.11 446.069 Q1302.04 448.52 1296.36 448.52 Q1294.46 448.52 1292.44 448.135 Q1290.43 447.77 1288.28 447.021 L1288.28 443.071 Q1289.98 444.064 1292.01 444.57 Q1294.04 445.076 1296.24 445.076 Q1300.09 445.076 1302.1 443.557 Q1304.12 442.038 1304.12 439.142 Q1304.12 436.468 1302.24 434.969 Q1300.37 433.45 1297.03 433.45 L1293.51 433.45 L1293.51 430.088 L1297.19 430.088 Q1300.21 430.088 1301.81 428.893 Q1303.41 427.678 1303.41 425.409 Q1303.41 423.08 1301.75 421.845 Q1300.11 420.589 1297.03 420.589 Q1295.35 420.589 1293.43 420.953 Q1291.5 421.318 1289.19 422.088 L1289.19 418.442 Q1291.52 417.794 1293.55 417.47 Q1295.59 417.145 1297.4 417.145 Q1302.06 417.145 1304.77 419.272 Q1307.48 421.379 1307.48 424.984 Q1307.48 427.496 1306.05 429.237 Q1304.61 430.959 1301.95 431.627 Z\" fill=\"#000000\" fill-rule=\"evenodd\" fill-opacity=\"1\" /><path clip-path=\"url(#clip930)\" d=\"M1934.01 749.192 Q1930.85 749.192 1929.25 752.311 Q1927.67 755.41 1927.67 761.648 Q1927.67 767.867 1929.25 770.986 Q1930.85 774.085 1934.01 774.085 Q1937.19 774.085 1938.77 770.986 Q1940.37 767.867 1940.37 761.648 Q1940.37 755.41 1938.77 752.311 Q1937.19 749.192 1934.01 749.192 M1934.01 745.951 Q1939.1 745.951 1941.77 749.982 Q1944.46 753.992 1944.46 761.648 Q1944.46 769.284 1941.77 773.315 Q1939.1 777.325 1934.01 777.325 Q1928.93 777.325 1926.23 773.315 Q1923.56 769.284 1923.56 761.648 Q1923.56 753.992 1926.23 749.982 Q1928.93 745.951 1934.01 745.951 Z\" fill=\"#000000\" fill-rule=\"evenodd\" fill-opacity=\"1\" /><path clip-path=\"url(#clip930)\" d=\"M1951.65 771.593 L1955.93 771.593 L1955.93 776.738 L1951.65 776.738 L1951.65 771.593 Z\" fill=\"#000000\" fill-rule=\"evenodd\" fill-opacity=\"1\" /><path clip-path=\"url(#clip930)\" d=\"M1976.08 750.063 L1965.75 766.206 L1976.08 766.206 L1976.08 750.063 M1975.01 746.498 L1980.15 746.498 L1980.15 766.206 L1984.47 766.206 L1984.47 769.608 L1980.15 769.608 L1980.15 776.738 L1976.08 776.738 L1976.08 769.608 L1962.43 769.608 L1962.43 765.659 L1975.01 746.498 Z\" fill=\"#000000\" fill-rule=\"evenodd\" fill-opacity=\"1\" /><path clip-path=\"url(#clip930)\" d=\"M1990.2 746.498 L2009.64 746.498 L2009.64 748.24 L1998.66 776.738 L1994.39 776.738 L2004.72 749.941 L1990.2 749.941 L1990.2 746.498 Z\" fill=\"#000000\" fill-rule=\"evenodd\" fill-opacity=\"1\" /><path clip-path=\"url(#clip930)\" d=\"M1322.18 645.917 Q1319.02 645.917 1317.42 649.036 Q1315.84 652.135 1315.84 658.374 Q1315.84 664.592 1317.42 667.711 Q1319.02 670.81 1322.18 670.81 Q1325.36 670.81 1326.94 667.711 Q1328.54 664.592 1328.54 658.374 Q1328.54 652.135 1326.94 649.036 Q1325.36 645.917 1322.18 645.917 M1322.18 642.676 Q1327.27 642.676 1329.94 646.707 Q1332.64 650.717 1332.64 658.374 Q1332.64 666.01 1329.94 670.04 Q1327.27 674.051 1322.18 674.051 Q1317.1 674.051 1314.41 670.04 Q1311.73 666.01 1311.73 658.374 Q1311.73 650.717 1314.41 646.707 Q1317.1 642.676 1322.18 642.676 Z\" fill=\"#000000\" fill-rule=\"evenodd\" fill-opacity=\"1\" /><path clip-path=\"url(#clip930)\" d=\"M1339.83 668.319 L1344.1 668.319 L1344.1 673.463 L1339.83 673.463 L1339.83 668.319 Z\" fill=\"#000000\" fill-rule=\"evenodd\" fill-opacity=\"1\" /><path clip-path=\"url(#clip930)\" d=\"M1365.41 657.158 Q1368.34 657.786 1369.99 659.771 Q1371.65 661.756 1371.65 664.673 Q1371.65 669.149 1368.57 671.6 Q1365.49 674.051 1359.82 674.051 Q1357.91 674.051 1355.89 673.666 Q1353.88 673.301 1351.74 672.552 L1351.74 668.602 Q1353.44 669.595 1355.46 670.101 Q1357.49 670.607 1359.7 670.607 Q1363.54 670.607 1365.55 669.088 Q1367.57 667.569 1367.57 664.673 Q1367.57 661.999 1365.69 660.5 Q1363.83 658.981 1360.49 658.981 L1356.96 658.981 L1356.96 655.619 L1360.65 655.619 Q1363.67 655.619 1365.27 654.424 Q1366.87 653.209 1366.87 650.94 Q1366.87 648.611 1365.21 647.375 Q1363.56 646.12 1360.49 646.12 Q1358.8 646.12 1356.88 646.484 Q1354.96 646.849 1352.65 647.618 L1352.65 643.973 Q1354.98 643.325 1357 643 Q1359.05 642.676 1360.85 642.676 Q1365.51 642.676 1368.22 644.803 Q1370.94 646.91 1370.94 650.515 Q1370.94 653.026 1369.5 654.768 Q1368.06 656.49 1365.41 657.158 Z\" fill=\"#000000\" fill-rule=\"evenodd\" fill-opacity=\"1\" /><path clip-path=\"url(#clip930)\" d=\"M1388.66 656.713 Q1385.91 656.713 1384.28 658.596 Q1382.68 660.48 1382.68 663.761 Q1382.68 667.022 1384.28 668.926 Q1385.91 670.81 1388.66 670.81 Q1391.41 670.81 1393.01 668.926 Q1394.63 667.022 1394.63 663.761 Q1394.63 660.48 1393.01 658.596 Q1391.41 656.713 1388.66 656.713 M1396.78 643.892 L1396.78 647.618 Q1395.24 646.889 1393.66 646.504 Q1392.1 646.12 1390.56 646.12 Q1386.51 646.12 1384.37 648.854 Q1382.24 651.588 1381.94 657.118 Q1383.13 655.356 1384.93 654.424 Q1386.74 653.472 1388.9 653.472 Q1393.46 653.472 1396.09 656.247 Q1398.75 659.002 1398.75 663.761 Q1398.75 668.42 1395.99 671.235 Q1393.24 674.051 1388.66 674.051 Q1383.41 674.051 1380.64 670.04 Q1377.86 666.01 1377.86 658.374 Q1377.86 651.204 1381.27 646.95 Q1384.67 642.676 1390.4 642.676 Q1391.94 642.676 1393.5 642.98 Q1395.08 643.284 1396.78 643.892 Z\" fill=\"#000000\" fill-rule=\"evenodd\" fill-opacity=\"1\" /><path clip-path=\"url(#clip930)\" d=\"M1504.13 773.479 Q1500.97 773.479 1499.37 776.598 Q1497.79 779.697 1497.79 785.936 Q1497.79 792.154 1499.37 795.273 Q1500.97 798.372 1504.13 798.372 Q1507.31 798.372 1508.89 795.273 Q1510.49 792.154 1510.49 785.936 Q1510.49 779.697 1508.89 776.598 Q1507.31 773.479 1504.13 773.479 M1504.13 770.238 Q1509.22 770.238 1511.89 774.269 Q1514.58 778.279 1514.58 785.936 Q1514.58 793.572 1511.89 797.602 Q1509.22 801.613 1504.13 801.613 Q1499.05 801.613 1496.35 797.602 Q1493.68 793.572 1493.68 785.936 Q1493.68 778.279 1496.35 774.269 Q1499.05 770.238 1504.13 770.238 Z\" fill=\"#000000\" fill-rule=\"evenodd\" fill-opacity=\"1\" /><path clip-path=\"url(#clip930)\" d=\"M1521.77 795.881 L1526.05 795.881 L1526.05 801.025 L1521.77 801.025 L1521.77 795.881 Z\" fill=\"#000000\" fill-rule=\"evenodd\" fill-opacity=\"1\" /><path clip-path=\"url(#clip930)\" d=\"M1543.71 773.479 Q1540.55 773.479 1538.95 776.598 Q1537.37 779.697 1537.37 785.936 Q1537.37 792.154 1538.95 795.273 Q1540.55 798.372 1543.71 798.372 Q1546.89 798.372 1548.47 795.273 Q1550.07 792.154 1550.07 785.936 Q1550.07 779.697 1548.47 776.598 Q1546.89 773.479 1543.71 773.479 M1543.71 770.238 Q1548.79 770.238 1551.47 774.269 Q1554.16 778.279 1554.16 785.936 Q1554.16 793.572 1551.47 797.602 Q1548.79 801.613 1543.71 801.613 Q1538.63 801.613 1535.93 797.602 Q1533.26 793.572 1533.26 785.936 Q1533.26 778.279 1535.93 774.269 Q1538.63 770.238 1543.71 770.238 Z\" fill=\"#000000\" fill-rule=\"evenodd\" fill-opacity=\"1\" /><path clip-path=\"url(#clip930)\" d=\"M1564.88 797.582 L1579.15 797.582 L1579.15 801.025 L1559.95 801.025 L1559.95 797.582 Q1562.28 795.172 1566.29 791.121 Q1570.32 787.05 1571.36 785.875 Q1573.32 783.667 1574.09 782.148 Q1574.88 780.609 1574.88 779.13 Q1574.88 776.72 1573.18 775.201 Q1571.5 773.682 1568.78 773.682 Q1566.86 773.682 1564.71 774.35 Q1562.59 775.018 1560.16 776.376 L1560.16 772.244 Q1562.63 771.251 1564.77 770.745 Q1566.92 770.238 1568.7 770.238 Q1573.4 770.238 1576.2 772.588 Q1578.99 774.937 1578.99 778.867 Q1578.99 780.73 1578.28 782.411 Q1577.59 784.072 1575.75 786.341 Q1575.25 786.928 1572.53 789.743 Q1569.82 792.539 1564.88 797.582 Z\" fill=\"#000000\" fill-rule=\"evenodd\" fill-opacity=\"1\" /><path clip-path=\"url(#clip930)\" d=\"M1587.78 770.785 L1603.84 770.785 L1603.84 774.229 L1591.53 774.229 L1591.53 781.642 Q1592.42 781.338 1593.31 781.196 Q1594.2 781.034 1595.09 781.034 Q1600.16 781.034 1603.12 783.809 Q1606.07 786.584 1606.07 791.323 Q1606.07 796.205 1603.03 798.919 Q1600 801.613 1594.47 801.613 Q1592.56 801.613 1590.58 801.289 Q1588.61 800.964 1586.51 800.316 L1586.51 796.205 Q1588.33 797.197 1590.27 797.683 Q1592.22 798.169 1594.39 798.169 Q1597.89 798.169 1599.94 796.326 Q1601.98 794.483 1601.98 791.323 Q1601.98 788.164 1599.94 786.32 Q1597.89 784.477 1594.39 784.477 Q1592.75 784.477 1591.1 784.842 Q1589.48 785.206 1587.78 785.976 L1587.78 770.785 Z\" fill=\"#000000\" fill-rule=\"evenodd\" fill-opacity=\"1\" /><path clip-path=\"url(#clip930)\" d=\"M777.096 587.503 Q773.937 587.503 772.337 590.622 Q770.757 593.721 770.757 599.959 Q770.757 606.178 772.337 609.297 Q773.937 612.396 777.096 612.396 Q780.276 612.396 781.856 609.297 Q783.456 606.178 783.456 599.959 Q783.456 593.721 781.856 590.622 Q780.276 587.503 777.096 587.503 M777.096 584.262 Q782.18 584.262 784.854 588.293 Q787.548 592.303 787.548 599.959 Q787.548 607.595 784.854 611.626 Q782.18 615.636 777.096 615.636 Q772.013 615.636 769.319 611.626 Q766.645 607.595 766.645 599.959 Q766.645 592.303 769.319 588.293 Q772.013 584.262 777.096 584.262 Z\" fill=\"#000000\" fill-rule=\"evenodd\" fill-opacity=\"1\" /><path clip-path=\"url(#clip930)\" d=\"M794.738 609.904 L799.012 609.904 L799.012 615.049 L794.738 615.049 L794.738 609.904 Z\" fill=\"#000000\" fill-rule=\"evenodd\" fill-opacity=\"1\" /><path clip-path=\"url(#clip930)\" d=\"M816.674 587.503 Q813.514 587.503 811.914 590.622 Q810.334 593.721 810.334 599.959 Q810.334 606.178 811.914 609.297 Q813.514 612.396 816.674 612.396 Q819.854 612.396 821.434 609.297 Q823.034 606.178 823.034 599.959 Q823.034 593.721 821.434 590.622 Q819.854 587.503 816.674 587.503 M816.674 584.262 Q821.758 584.262 824.431 588.293 Q827.125 592.303 827.125 599.959 Q827.125 607.595 824.431 611.626 Q821.758 615.636 816.674 615.636 Q811.59 615.636 808.896 611.626 Q806.222 607.595 806.222 599.959 Q806.222 592.303 808.896 588.293 Q811.59 584.262 816.674 584.262 Z\" fill=\"#000000\" fill-rule=\"evenodd\" fill-opacity=\"1\" /><path clip-path=\"url(#clip930)\" d=\"M845.557 588.374 L835.227 604.517 L845.557 604.517 L845.557 588.374 M844.483 584.809 L849.628 584.809 L849.628 604.517 L853.942 604.517 L853.942 607.919 L849.628 607.919 L849.628 615.049 L845.557 615.049 L845.557 607.919 L831.905 607.919 L831.905 603.97 L844.483 584.809 Z\" fill=\"#000000\" fill-rule=\"evenodd\" fill-opacity=\"1\" /><path clip-path=\"url(#clip930)\" d=\"M860.748 584.809 L876.809 584.809 L876.809 588.252 L864.495 588.252 L864.495 595.665 Q865.386 595.362 866.277 595.22 Q867.168 595.058 868.06 595.058 Q873.123 595.058 876.08 597.833 Q879.037 600.608 879.037 605.347 Q879.037 610.228 875.999 612.943 Q872.961 615.636 867.432 615.636 Q865.528 615.636 863.543 615.312 Q861.578 614.988 859.472 614.34 L859.472 610.228 Q861.295 611.221 863.239 611.707 Q865.183 612.193 867.351 612.193 Q870.855 612.193 872.9 610.35 Q874.946 608.507 874.946 605.347 Q874.946 602.187 872.9 600.344 Q870.855 598.501 867.351 598.501 Q865.71 598.501 864.069 598.866 Q862.449 599.23 860.748 600 L860.748 584.809 Z\" fill=\"#000000\" fill-rule=\"evenodd\" fill-opacity=\"1\" /><path clip-path=\"url(#clip930)\" d=\"M870.907 172.037 Q867.747 172.037 866.147 175.156 Q864.567 178.255 864.567 184.493 Q864.567 190.711 866.147 193.83 Q867.747 196.929 870.907 196.929 Q874.087 196.929 875.667 193.83 Q877.267 190.711 877.267 184.493 Q877.267 178.255 875.667 175.156 Q874.087 172.037 870.907 172.037 M870.907 168.796 Q875.991 168.796 878.664 172.826 Q881.358 176.837 881.358 184.493 Q881.358 192.129 878.664 196.16 Q875.991 200.17 870.907 200.17 Q865.823 200.17 863.129 196.16 Q860.456 192.129 860.456 184.493 Q860.456 176.837 863.129 172.826 Q865.823 168.796 870.907 168.796 Z\" fill=\"#000000\" fill-rule=\"evenodd\" fill-opacity=\"1\" /><path clip-path=\"url(#clip930)\" d=\"M888.549 194.438 L892.822 194.438 L892.822 199.583 L888.549 199.583 L888.549 194.438 Z\" fill=\"#000000\" fill-rule=\"evenodd\" fill-opacity=\"1\" /><path clip-path=\"url(#clip930)\" d=\"M910.484 172.037 Q907.325 172.037 905.724 175.156 Q904.145 178.255 904.145 184.493 Q904.145 190.711 905.724 193.83 Q907.325 196.929 910.484 196.929 Q913.664 196.929 915.244 193.83 Q916.844 190.711 916.844 184.493 Q916.844 178.255 915.244 175.156 Q913.664 172.037 910.484 172.037 M910.484 168.796 Q915.568 168.796 918.242 172.826 Q920.936 176.837 920.936 184.493 Q920.936 192.129 918.242 196.16 Q915.568 200.17 910.484 200.17 Q905.4 200.17 902.706 196.16 Q900.033 192.129 900.033 184.493 Q900.033 176.837 902.706 172.826 Q905.4 168.796 910.484 168.796 Z\" fill=\"#000000\" fill-rule=\"evenodd\" fill-opacity=\"1\" /><path clip-path=\"url(#clip930)\" d=\"M928.247 198.955 L928.247 195.228 Q929.787 195.957 931.367 196.342 Q932.946 196.727 934.466 196.727 Q938.516 196.727 940.643 194.013 Q942.79 191.278 943.094 185.729 Q941.919 187.47 940.117 188.402 Q938.314 189.334 936.126 189.334 Q931.589 189.334 928.936 186.6 Q926.303 183.845 926.303 179.085 Q926.303 174.427 929.058 171.611 Q931.812 168.796 936.39 168.796 Q941.636 168.796 944.39 172.826 Q947.165 176.837 947.165 184.493 Q947.165 191.643 943.762 195.917 Q940.38 200.17 934.648 200.17 Q933.109 200.17 931.529 199.866 Q929.949 199.562 928.247 198.955 M936.39 186.134 Q939.144 186.134 940.744 184.25 Q942.365 182.366 942.365 179.085 Q942.365 175.824 940.744 173.94 Q939.144 172.037 936.39 172.037 Q933.635 172.037 932.015 173.94 Q930.415 175.824 930.415 179.085 Q930.415 182.366 932.015 184.25 Q933.635 186.134 936.39 186.134 Z\" fill=\"#000000\" fill-rule=\"evenodd\" fill-opacity=\"1\" /><path clip-path=\"url(#clip930)\" d=\"M1649.81 366.642 Q1646.65 366.642 1645.05 369.761 Q1643.47 372.86 1643.47 379.098 Q1643.47 385.316 1645.05 388.436 Q1646.65 391.535 1649.81 391.535 Q1652.99 391.535 1654.57 388.436 Q1656.17 385.316 1656.17 379.098 Q1656.17 372.86 1654.57 369.761 Q1652.99 366.642 1649.81 366.642 M1649.81 363.401 Q1654.89 363.401 1657.56 367.432 Q1660.26 371.442 1660.26 379.098 Q1660.26 386.734 1657.56 390.765 Q1654.89 394.775 1649.81 394.775 Q1644.72 394.775 1642.03 390.765 Q1639.36 386.734 1639.36 379.098 Q1639.36 371.442 1642.03 367.432 Q1644.72 363.401 1649.81 363.401 Z\" fill=\"#000000\" fill-rule=\"evenodd\" fill-opacity=\"1\" /><path clip-path=\"url(#clip930)\" d=\"M1667.45 389.043 L1671.72 389.043 L1671.72 394.188 L1667.45 394.188 L1667.45 389.043 Z\" fill=\"#000000\" fill-rule=\"evenodd\" fill-opacity=\"1\" /><path clip-path=\"url(#clip930)\" d=\"M1691.88 367.513 L1681.55 383.656 L1691.88 383.656 L1691.88 367.513 M1690.8 363.948 L1695.95 363.948 L1695.95 383.656 L1700.26 383.656 L1700.26 387.058 L1695.95 387.058 L1695.95 394.188 L1691.88 394.188 L1691.88 387.058 L1678.22 387.058 L1678.22 383.109 L1690.8 363.948 Z\" fill=\"#000000\" fill-rule=\"evenodd\" fill-opacity=\"1\" /><path clip-path=\"url(#clip930)\" d=\"M1705.99 363.948 L1725.44 363.948 L1725.44 365.69 L1714.46 394.188 L1710.19 394.188 L1720.51 367.391 L1705.99 367.391 L1705.99 363.948 Z\" fill=\"#000000\" fill-rule=\"evenodd\" fill-opacity=\"1\" /><path clip-path=\"url(#clip930)\" d=\"M1270.12 144.735 Q1266.96 144.735 1265.36 147.854 Q1263.78 150.953 1263.78 157.192 Q1263.78 163.41 1265.36 166.529 Q1266.96 169.628 1270.12 169.628 Q1273.3 169.628 1274.88 166.529 Q1276.48 163.41 1276.48 157.192 Q1276.48 150.953 1274.88 147.854 Q1273.3 144.735 1270.12 144.735 M1270.12 141.494 Q1275.2 141.494 1277.87 145.525 Q1280.57 149.535 1280.57 157.192 Q1280.57 164.828 1277.87 168.858 Q1275.2 172.869 1270.12 172.869 Q1265.03 172.869 1262.34 168.858 Q1259.67 164.828 1259.67 157.192 Q1259.67 149.535 1262.34 145.525 Q1265.03 141.494 1270.12 141.494 Z\" fill=\"#000000\" fill-rule=\"evenodd\" fill-opacity=\"1\" /><path clip-path=\"url(#clip930)\" d=\"M1287.76 167.137 L1292.03 167.137 L1292.03 172.281 L1287.76 172.281 L1287.76 167.137 Z\" fill=\"#000000\" fill-rule=\"evenodd\" fill-opacity=\"1\" /><path clip-path=\"url(#clip930)\" d=\"M1313.34 155.976 Q1316.28 156.604 1317.92 158.589 Q1319.58 160.574 1319.58 163.491 Q1319.58 167.967 1316.5 170.418 Q1313.42 172.869 1307.75 172.869 Q1305.85 172.869 1303.82 172.484 Q1301.82 172.119 1299.67 171.37 L1299.67 167.42 Q1301.37 168.413 1303.4 168.919 Q1305.42 169.425 1307.63 169.425 Q1311.48 169.425 1313.48 167.906 Q1315.51 166.387 1315.51 163.491 Q1315.51 160.817 1313.62 159.318 Q1311.76 157.799 1308.42 157.799 L1304.89 157.799 L1304.89 154.437 L1308.58 154.437 Q1311.6 154.437 1313.2 153.242 Q1314.8 152.027 1314.8 149.758 Q1314.8 147.429 1313.14 146.193 Q1311.5 144.938 1308.42 144.938 Q1306.74 144.938 1304.81 145.302 Q1302.89 145.667 1300.58 146.436 L1300.58 142.791 Q1302.91 142.143 1304.93 141.818 Q1306.98 141.494 1308.78 141.494 Q1313.44 141.494 1316.16 143.621 Q1318.87 145.728 1318.87 149.333 Q1318.87 151.844 1317.43 153.586 Q1315.99 155.308 1313.34 155.976 Z\" fill=\"#000000\" fill-rule=\"evenodd\" fill-opacity=\"1\" /><path clip-path=\"url(#clip930)\" d=\"M1326.3 142.041 L1345.75 142.041 L1345.75 143.783 L1334.77 172.281 L1330.5 172.281 L1340.83 145.485 L1326.3 145.485 L1326.3 142.041 Z\" fill=\"#000000\" fill-rule=\"evenodd\" fill-opacity=\"1\" /><path clip-path=\"url(#clip930)\" d=\"M1362.16 1349.36 L1368.85 1349.36 L1368.85 1326.29 L1361.58 1327.75 L1361.58 1324.02 L1368.81 1322.56 L1372.9 1322.56 L1372.9 1349.36 L1379.58 1349.36 L1379.58 1352.8 L1362.16 1352.8 L1362.16 1349.36 Z\" fill=\"#000000\" fill-rule=\"evenodd\" fill-opacity=\"1\" /><path clip-path=\"url(#clip930)\" d=\"M701.288 1184.28 L715.567 1184.28 L715.567 1187.72 L696.366 1187.72 L696.366 1184.28 Q698.695 1181.87 702.706 1177.82 Q706.736 1173.75 707.769 1172.57 Q709.734 1170.37 710.503 1168.85 Q711.293 1167.31 711.293 1165.83 Q711.293 1163.42 709.592 1161.9 Q707.911 1160.38 705.197 1160.38 Q703.273 1160.38 701.126 1161.05 Q698.999 1161.72 696.568 1163.08 L696.568 1158.94 Q699.039 1157.95 701.186 1157.44 Q703.333 1156.94 705.116 1156.94 Q709.815 1156.94 712.61 1159.29 Q715.405 1161.64 715.405 1165.57 Q715.405 1167.43 714.696 1169.11 Q714.008 1170.77 712.164 1173.04 Q711.658 1173.63 708.944 1176.44 Q706.23 1179.24 701.288 1184.28 Z\" fill=\"#000000\" fill-rule=\"evenodd\" fill-opacity=\"1\" /><path clip-path=\"url(#clip930)\" d=\"M666.034 506.807 Q668.971 507.435 670.611 509.42 Q672.272 511.405 672.272 514.322 Q672.272 518.798 669.194 521.249 Q666.115 523.7 660.444 523.7 Q658.54 523.7 656.514 523.315 Q654.509 522.95 652.362 522.201 L652.362 518.251 Q654.063 519.244 656.089 519.75 Q658.114 520.256 660.322 520.256 Q664.17 520.256 666.176 518.737 Q668.201 517.218 668.201 514.322 Q668.201 511.648 666.317 510.149 Q664.454 508.63 661.112 508.63 L657.588 508.63 L657.588 505.268 L661.274 505.268 Q664.292 505.268 665.892 504.073 Q667.492 502.858 667.492 500.589 Q667.492 498.26 665.831 497.025 Q664.191 495.769 661.112 495.769 Q659.431 495.769 657.507 496.133 Q655.583 496.498 653.274 497.268 L653.274 493.622 Q655.603 492.974 657.628 492.65 Q659.674 492.325 661.477 492.325 Q666.135 492.325 668.849 494.452 Q671.563 496.559 671.563 500.164 Q671.563 502.676 670.125 504.417 Q668.687 506.139 666.034 506.807 Z\" fill=\"#000000\" fill-rule=\"evenodd\" fill-opacity=\"1\" /><path clip-path=\"url(#clip930)\" d=\"M1740.32 763.539 L1729.99 779.682 L1740.32 779.682 L1740.32 763.539 M1739.24 759.974 L1744.39 759.974 L1744.39 779.682 L1748.7 779.682 L1748.7 783.084 L1744.39 783.084 L1744.39 790.214 L1740.32 790.214 L1740.32 783.084 L1726.66 783.084 L1726.66 779.135 L1739.24 759.974 Z\" fill=\"#000000\" fill-rule=\"evenodd\" fill-opacity=\"1\" /><path clip-path=\"url(#clip930)\" d=\"M1291.45 247.197 L1307.51 247.197 L1307.51 250.64 L1295.19 250.64 L1295.19 258.054 Q1296.08 257.75 1296.98 257.608 Q1297.87 257.446 1298.76 257.446 Q1303.82 257.446 1306.78 260.221 Q1309.74 262.996 1309.74 267.735 Q1309.74 272.617 1306.7 275.331 Q1303.66 278.025 1298.13 278.025 Q1296.23 278.025 1294.24 277.701 Q1292.28 277.376 1290.17 276.728 L1290.17 272.617 Q1291.99 273.609 1293.94 274.095 Q1295.88 274.581 1298.05 274.581 Q1301.55 274.581 1303.6 272.738 Q1305.64 270.895 1305.64 267.735 Q1305.64 264.576 1303.6 262.732 Q1301.55 260.889 1298.05 260.889 Q1296.41 260.889 1294.77 261.254 Q1293.15 261.618 1291.45 262.388 L1291.45 247.197 Z\" fill=\"#000000\" fill-rule=\"evenodd\" fill-opacity=\"1\" /></svg>\n"
      ]
     },
     "execution_count": 71,
     "metadata": {},
     "output_type": "execute_result"
    }
   ],
   "source": [
    "g=exp(get_rate_mat(2)*50)\n",
    "n = 5\n",
    "edgelabel_dict = Dict()\n",
    "edgelabel_mat = Array{String}(undef, n, n)\n",
    "for i in 1:n\n",
    "    for j in 1:n\n",
    "        edgelabel_mat[i, j] = edgelabel_dict[(i, j)] = string(round(g[i,j],sigdigits=2)) \n",
    "    end\n",
    "end\n",
    "edgelabel_vec = edgelabel_mat[:]\n",
    "\n",
    "\n",
    "graphplot(g, names=1:5, curvature_scalar=0.2,  edgelabel=edgelabel_dict, markersize = 0.5,\n",
    "           linecolor = :darkgrey, markercolor = \"yellow\",\n",
    "           linealpha = 0.7)"
   ]
  },
  {
   "cell_type": "code",
   "execution_count": 100,
   "id": "160b339d",
   "metadata": {},
   "outputs": [
    {
     "data": {
      "text/plain": [
       "get_RL_atT (generic function with 1 method)"
      ]
     },
     "execution_count": 100,
     "metadata": {},
     "output_type": "execute_result"
    }
   ],
   "source": [
    "function get_transition_mat(i)\n",
    "    p_mat=reshape(collect(innovations[i,9:33]),5,5)\n",
    "    return p_mat'\n",
    "end\n",
    "\n",
    "\n",
    "function get_rate_mat(i)\n",
    "    p_mat=get_transition_mat(i)\n",
    "    q_mat=p_mat./collect(innovations[i,4:8])\n",
    "    for i in 1:5\n",
    "        q_mat[i,i]=-1*sum(q_mat[i,j] for j in 1:5 if j!=i)\n",
    "    end\n",
    "    return q_mat\n",
    "end\n",
    "\n",
    "function get_IAM_factor(t)\n",
    "    return 1\n",
    "end\n",
    "\n",
    "function give_sorted(t)\n",
    "    v=sortperm(t)\n",
    "    return v\n",
    "end\n",
    "\n",
    "function calc_tot_co2(x,t)\n",
    "    v=give_sorted(t)\n",
    "    for i in 1:(size(tk)[1]-1)\n",
    "        print(initial[1,3]*tk[v][1]-sum(xk[v[j]]*tk[v][j+1]*(initial[1,3]-compromise[v,3][j]) for j in 1:i))\n",
    "        print(\"\\n\")\n",
    "    end\n",
    "    return 1\n",
    "end\n",
    "\n",
    "function get_RL_atT(i,t)\n",
    "    s0=[0 0 0 0 0]\n",
    "    s0[rl[i]]=1\n",
    "    q=get_rate_mat(i)\n",
    "    #rl_t=sum([1 2 3 4 5].*(s0*exp(q*t)))\n",
    "    #rl_t=sum([1 2 3 4 5].*(s0*(I+t*q+1/2*t^2*q^2)))\n",
    "    temp1=Diagonal(eigvals(q))\n",
    "    temp2=reshape(reduce(vcat,(I(5)+t.*temp1)),5,5)\n",
    "    d=eigvecs(q)'*(temp2)*inv(eigvecs(q)')\n",
    "    rl_t=sum([1 2 3 4 5].*(s0*d))\n",
    "    return rl_t\n",
    "end\n"
   ]
  },
  {
   "cell_type": "code",
   "execution_count": 102,
   "id": "54e9fd3d-1d93-4b82-afa2-ecff64de11c4",
   "metadata": {},
   "outputs": [
    {
     "data": {
      "text/plain": [
       "-30.1250678010322"
      ]
     },
     "execution_count": 102,
     "metadata": {},
     "output_type": "execute_result"
    }
   ],
   "source": [
    "get_RL_atT(2,50)"
   ]
  },
  {
   "cell_type": "code",
   "execution_count": 93,
   "id": "b9a5bd8e",
   "metadata": {},
   "outputs": [
    {
     "data": {
      "text/plain": [
       "tech_roadmap (generic function with 1 method)"
      ]
     },
     "execution_count": 93,
     "metadata": {},
     "output_type": "execute_result"
    }
   ],
   "source": [
    "function tech_roadmap()\n",
    "    rdmap= Model(Gurobi.Optimizer)\n",
    "    @variable(rdmap,yk[k=1:nrow(compromise)],Bin)\n",
    "    @variable(rdmap,0 ≤ tk[k=1:nrow(compromise)] ≤ 50)\n",
    "    @variable(rdmap,0 ≤ xk[k=1:nrow(compromise)] ≤ 1)\n",
    "    @variable(rdmap,yi[i=1:nrow(innovations)],Bin)\n",
    "    @variable(rdmap,0 ≤ ti[i=1:nrow(innovations)] ≤ 50)\n",
    "    @variable(rdmap, 1 ≤ s[i=1:nrow(innovations)] )\n",
    "    \n",
    "    @variable(rdmap, co2_2050 ≥ 0)\n",
    "    @variable(rdmap, co2_total ≥ 0)\n",
    "    @variable(rdmap, cost_inn≥ 0)\n",
    "    \n",
    "    @constraint(rdmap, [i=1], sum(yk[k] for k=1:mapki[i,2])==yi[i])\n",
    "    @constraint(rdmap, [i=2:nrow(mapki)], sum(yk[k] for k=mapki[i-1,2]:mapki[i,2])==yi[i])\n",
    "    \n",
    "    @constraint(rdmap, [i=1,k=1:mapki[i,2]], ti[i] ≤ tk[k])\n",
    "    @constraint(rdmap, [i=2:nrow(mapki),k=mapki[i-1,2]:mapki[i,2]], ti[i] ≤ tk[k])\n",
    "    \n",
    "    @constraint(rdmap, [i=1:nrow(mapki)], 50*yi[i] ≥ ti[i])\n",
    "    @constraint(rdmap, [k=1:nrow(compromise)], 50*yk[k] ≥ tk[k])\n",
    "    \n",
    "    @constraint(rdmap, [k=1:nrow(compromise)], yk[k] ≥ xk[k])\n",
    "    @constraint(rdmap, sum(xk[k] for k in 1:nrow(compromise)) ≤ 1) \n",
    "    \n",
    "    \n",
    "    @constraint(rdmap, co2_2050==sum(xk[k]*compromise[k,3]*get_IAM_factor(tk[k]) for k in 1:nrow(compromise))\n",
    "        + (1-sum(xk[k] for k in 1:nrow(compromise)))*initial[1,3])\n",
    "    \n",
    "    #@constraint(rdmap, co2_total == calc_tot_co2(xk,tk))\n",
    "    \n",
    "    @constraint(rdmap, [i=1:nrow(innovations)], s[i]==get_RL_atT(i,ti[i]))\n",
    "    \n",
    "    @constraint(rdmap, co2_2050 ≤ 75)\n",
    "    @constraint(rdmap, cost_inn == sum(ci[i]*(yi[i]*(5-s[i])) for i in 1:nrow(innovations)))\n",
    "    @objective(rdmap,Min, cost_inn)\n",
    "    \n",
    "    optimize!(rdmap)\n",
    "    return JuMP.value.(yk), JuMP.value.(tk), JuMP.value.(xk), JuMP.value.(yi), JuMP.value.(ti), JuMP.value.(s), JuMP.value.(co2_2050), JuMP.value.(cost_inn)  \n",
    "end"
   ]
  },
  {
   "cell_type": "code",
   "execution_count": 94,
   "id": "e971da9a",
   "metadata": {
    "scrolled": true
   },
   "outputs": [
    {
     "name": "stdout",
     "output_type": "stream",
     "text": [
      "Set parameter Username\n",
      "Academic license - for non-commercial use only - expires 2022-11-07\n",
      "Gurobi Optimizer version 9.5.0 build v9.5.0rc5 (linux64)\n",
      "Thread count: 8 physical cores, 16 logical processors, using up to 16 threads\n",
      "Optimize a model with 97 rows, 93 columns and 263 nonzeros\n",
      "Model fingerprint: 0x7c266035\n",
      "Model has 1 quadratic constraint\n",
      "Variable types: 63 continuous, 30 integer (30 binary)\n",
      "Coefficient statistics:\n",
      "  Matrix range     [2e-01, 5e+01]\n",
      "  QMatrix range    [8e+01, 1e+02]\n",
      "  QLMatrix range   [1e+00, 7e+02]\n",
      "  Objective range  [1e+00, 1e+00]\n",
      "  Bounds range     [1e+00, 5e+01]\n",
      "  RHS range        [1e+00, 1e+02]\n",
      "Presolve removed 67 rows and 40 columns\n",
      "Presolve time: 0.00s\n",
      "Presolved: 30 rows, 53 columns, 132 nonzeros\n",
      "Variable types: 25 continuous, 28 integer (27 binary)\n",
      "Found heuristic solution: objective 1474.0000000\n",
      "Found heuristic solution: objective 1094.0000000\n",
      "\n",
      "Root relaxation: objective 1.525000e+02, 32 iterations, 0.00 seconds (0.00 work units)\n",
      "\n",
      "    Nodes    |    Current Node    |     Objective Bounds      |     Work\n",
      " Expl Unexpl |  Obj  Depth IntInf | Incumbent    BestBd   Gap | It/Node Time\n",
      "\n",
      "     0     0  152.50000    0    3 1094.00000  152.50000  86.1%     -    0s\n",
      "H    0     0                     244.0000000  152.50000  37.5%     -    0s\n",
      "     0     0  152.50000    0    3  244.00000  152.50000  37.5%     -    0s\n",
      "\n",
      "Explored 1 nodes (32 simplex iterations) in 0.00 seconds (0.00 work units)\n",
      "Thread count was 16 (of 16 available processors)\n",
      "\n",
      "Solution count 3: 244 1094 1474 \n",
      "\n",
      "Optimal solution found (tolerance 1.00e-04)\n",
      "Best objective 2.440000000000e+02, best bound 2.440000000000e+02, gap 0.0000%\n",
      "\n",
      "User-callback calls 328, time in user-callback 0.00 sec\n"
     ]
    },
    {
     "name": "stderr",
     "output_type": "stream",
     "text": [
      "┌ Warning: Axis contains one element: 1. If intended, you can safely ignore this warning. To explicitly pass the axis with one element, pass `[1]` instead of `1`.\n",
      "└ @ JuMP.Containers /home/thakker.8/.julia/packages/JuMP/2IF9U/src/Containers/DenseAxisArray.jl:156\n"
     ]
    },
    {
     "data": {
      "text/plain": [
       "5-element Vector{Float64}:\n",
       " 0.0\n",
       " 1.0\n",
       " 0.0\n",
       " 0.0\n",
       " 0.0"
      ]
     },
     "execution_count": 94,
     "metadata": {},
     "output_type": "execute_result"
    }
   ],
   "source": [
    "yk, tk, xk, yi, ti, s, co2, cost1=tech_roadmap()\n",
    "yi"
   ]
  },
  {
   "cell_type": "code",
   "execution_count": 96,
   "id": "385863c0",
   "metadata": {},
   "outputs": [
    {
     "data": {
      "text/plain": [
       "5-element Vector{Float64}:\n",
       " 0.0\n",
       " 0.0\n",
       " 0.0\n",
       " 0.0\n",
       " 0.0"
      ]
     },
     "execution_count": 96,
     "metadata": {},
     "output_type": "execute_result"
    }
   ],
   "source": [
    "ti"
   ]
  },
  {
   "cell_type": "code",
   "execution_count": 97,
   "id": "7a1746e6",
   "metadata": {},
   "outputs": [
    {
     "data": {
      "text/plain": [
       "5-element Vector{Float64}:\n",
       " 0.0\n",
       " 1.0\n",
       " 0.0\n",
       " 0.0\n",
       " 0.0"
      ]
     },
     "execution_count": 97,
     "metadata": {},
     "output_type": "execute_result"
    }
   ],
   "source": [
    "yi"
   ]
  },
  {
   "cell_type": "code",
   "execution_count": 98,
   "id": "f1bc445a-189b-46db-9787-4d7e0bb692ee",
   "metadata": {},
   "outputs": [
    {
     "data": {
      "text/plain": [
       "75.0"
      ]
     },
     "execution_count": 98,
     "metadata": {},
     "output_type": "execute_result"
    }
   ],
   "source": [
    "co2"
   ]
  },
  {
   "cell_type": "code",
   "execution_count": 99,
   "id": "aaa08e92-1891-4d57-9f48-64bb590664a1",
   "metadata": {},
   "outputs": [
    {
     "data": {
      "text/plain": [
       "5-element Vector{Float64}:\n",
       " 2.0\n",
       " 2.9999999999999987\n",
       " 1.0\n",
       " 3.000000000000001\n",
       " 1.0"
      ]
     },
     "execution_count": 99,
     "metadata": {},
     "output_type": "execute_result"
    }
   ],
   "source": [
    "s"
   ]
  },
  {
   "cell_type": "code",
   "execution_count": 16,
   "id": "2858b727",
   "metadata": {},
   "outputs": [
    {
     "data": {
      "text/plain": [
       "244.00000000000017"
      ]
     },
     "execution_count": 16,
     "metadata": {},
     "output_type": "execute_result"
    }
   ],
   "source": [
    "cost1"
   ]
  },
  {
   "cell_type": "code",
   "execution_count": 17,
   "id": "7daab2db",
   "metadata": {},
   "outputs": [
    {
     "data": {
      "text/html": [
       "<div class=\"data-frame\"><p>5 rows × 33 columns (omitted printing of 24 columns)</p><table class=\"data-frame\"><thead><tr><th></th><th>i</th><th>Cost_per_RL</th><th>RL</th><th>Sojourn1</th><th>Sojourn2</th><th>Sojourn3</th><th>Sojourn4</th><th>Sojourn5</th><th>P11</th></tr><tr><th></th><th title=\"Int64\">Int64</th><th title=\"Int64\">Int64</th><th title=\"Int64\">Int64</th><th title=\"Float64\">Float64</th><th title=\"Float64\">Float64</th><th title=\"Float64\">Float64</th><th title=\"Float64\">Float64</th><th title=\"Float64\">Float64</th><th title=\"Int64\">Int64</th></tr></thead><tbody><tr><th>1</th><td>1</td><td>92</td><td>2</td><td>4.6</td><td>1.34</td><td>2.04</td><td>0.12</td><td>8.86</td><td>0</td></tr><tr><th>2</th><td>2</td><td>122</td><td>3</td><td>8.32</td><td>8.84</td><td>7.0</td><td>9.9</td><td>9.65</td><td>0</td></tr><tr><th>3</th><td>3</td><td>78</td><td>1</td><td>4.44</td><td>1.21</td><td>5.09</td><td>6.52</td><td>8.67</td><td>0</td></tr><tr><th>4</th><td>4</td><td>131</td><td>3</td><td>5.48</td><td>7.62</td><td>3.34</td><td>5.05</td><td>5.6</td><td>0</td></tr><tr><th>5</th><td>5</td><td>95</td><td>1</td><td>9.94</td><td>2.38</td><td>7.94</td><td>3.82</td><td>5.44</td><td>0</td></tr></tbody></table></div>"
      ],
      "text/latex": [
       "\\begin{tabular}{r|cccccccccc}\n",
       "\t& i & Cost\\_per\\_RL & RL & Sojourn1 & Sojourn2 & Sojourn3 & Sojourn4 & Sojourn5 & P11 & \\\\\n",
       "\t\\hline\n",
       "\t& Int64 & Int64 & Int64 & Float64 & Float64 & Float64 & Float64 & Float64 & Int64 & \\\\\n",
       "\t\\hline\n",
       "\t1 & 1 & 92 & 2 & 4.6 & 1.34 & 2.04 & 0.12 & 8.86 & 0 & $\\dots$ \\\\\n",
       "\t2 & 2 & 122 & 3 & 8.32 & 8.84 & 7.0 & 9.9 & 9.65 & 0 & $\\dots$ \\\\\n",
       "\t3 & 3 & 78 & 1 & 4.44 & 1.21 & 5.09 & 6.52 & 8.67 & 0 & $\\dots$ \\\\\n",
       "\t4 & 4 & 131 & 3 & 5.48 & 7.62 & 3.34 & 5.05 & 5.6 & 0 & $\\dots$ \\\\\n",
       "\t5 & 5 & 95 & 1 & 9.94 & 2.38 & 7.94 & 3.82 & 5.44 & 0 & $\\dots$ \\\\\n",
       "\\end{tabular}\n"
      ],
      "text/plain": [
       "\u001b[1m5×33 DataFrame\u001b[0m\n",
       "\u001b[1m Row \u001b[0m│\u001b[1m i     \u001b[0m\u001b[1m Cost_per_RL \u001b[0m\u001b[1m RL    \u001b[0m\u001b[1m Sojourn1 \u001b[0m\u001b[1m Sojourn2 \u001b[0m\u001b[1m Sojourn3 \u001b[0m\u001b[1m Sojourn4 \u001b[0m\u001b[1m Sojo\u001b[0m ⋯\n",
       "\u001b[1m     \u001b[0m│\u001b[90m Int64 \u001b[0m\u001b[90m Int64       \u001b[0m\u001b[90m Int64 \u001b[0m\u001b[90m Float64  \u001b[0m\u001b[90m Float64  \u001b[0m\u001b[90m Float64  \u001b[0m\u001b[90m Float64  \u001b[0m\u001b[90m Floa\u001b[0m ⋯\n",
       "─────┼──────────────────────────────────────────────────────────────────────────\n",
       "   1 │     1           92      2      4.6       1.34      2.04      0.12       ⋯\n",
       "   2 │     2          122      3      8.32      8.84      7.0       9.9\n",
       "   3 │     3           78      1      4.44      1.21      5.09      6.52\n",
       "   4 │     4          131      3      5.48      7.62      3.34      5.05\n",
       "   5 │     5           95      1      9.94      2.38      7.94      3.82       ⋯\n",
       "\u001b[36m                                                              26 columns omitted\u001b[0m"
      ]
     },
     "execution_count": 17,
     "metadata": {},
     "output_type": "execute_result"
    }
   ],
   "source": [
    "innovations"
   ]
  },
  {
   "cell_type": "code",
   "execution_count": 18,
   "id": "e0dd093a",
   "metadata": {},
   "outputs": [
    {
     "data": {
      "text/plain": [
       "-41.11305631301775"
      ]
     },
     "execution_count": 18,
     "metadata": {},
     "output_type": "execute_result"
    }
   ],
   "source": [
    "get_RL_atT(4,50)"
   ]
  },
  {
   "cell_type": "code",
   "execution_count": 19,
   "id": "a60414f8",
   "metadata": {},
   "outputs": [
    {
     "data": {
      "text/plain": [
       "2-element Vector{Vector{Vector{Real}}}:\n",
       " [[0, 0.76, 0.21, 0.03, 0]]\n",
       " [[0, 0.76, 0.21, 0.03, 0]]"
      ]
     },
     "execution_count": 19,
     "metadata": {},
     "output_type": "execute_result"
    }
   ],
   "source": [
    "i=1\n",
    "eDtmc=[[collect(innovations[i,9:13])],[collect(innovations[i,9:13])]]"
   ]
  },
  {
   "cell_type": "code",
   "execution_count": 20,
   "id": "525e6be7",
   "metadata": {},
   "outputs": [
    {
     "data": {
      "text/html": [
       "<p>DataFrameRow (5 columns)</p><div class=\"data-frame\"><table class=\"data-frame\"><thead><tr><th></th><th>P11</th><th>P12</th><th>P13</th><th>P14</th><th>P15</th></tr><tr><th></th><th title=\"Int64\">Int64</th><th title=\"Float64\">Float64</th><th title=\"Float64\">Float64</th><th title=\"Float64\">Float64</th><th title=\"Int64\">Int64</th></tr></thead><tbody><tr><th>1</th><td>0</td><td>0.76</td><td>0.21</td><td>0.03</td><td>0</td></tr></tbody></table></div>"
      ],
      "text/latex": [
       "\\begin{tabular}{r|ccccc}\n",
       "\t& P11 & P12 & P13 & P14 & P15\\\\\n",
       "\t\\hline\n",
       "\t& Int64 & Float64 & Float64 & Float64 & Int64\\\\\n",
       "\t\\hline\n",
       "\t1 & 0 & 0.76 & 0.21 & 0.03 & 0 \\\\\n",
       "\\end{tabular}\n"
      ],
      "text/plain": [
       "\u001b[1mDataFrameRow\u001b[0m\n",
       "\u001b[1m Row \u001b[0m│\u001b[1m P11   \u001b[0m\u001b[1m P12     \u001b[0m\u001b[1m P13     \u001b[0m\u001b[1m P14     \u001b[0m\u001b[1m P15   \u001b[0m\n",
       "\u001b[1m     \u001b[0m│\u001b[90m Int64 \u001b[0m\u001b[90m Float64 \u001b[0m\u001b[90m Float64 \u001b[0m\u001b[90m Float64 \u001b[0m\u001b[90m Int64 \u001b[0m\n",
       "─────┼─────────────────────────────────────────\n",
       "   1 │     0     0.76     0.21     0.03      0"
      ]
     },
     "execution_count": 20,
     "metadata": {},
     "output_type": "execute_result"
    }
   ],
   "source": [
    "innovations[1,9:13]"
   ]
  },
  {
   "cell_type": "code",
   "execution_count": 21,
   "id": "048bd6da",
   "metadata": {},
   "outputs": [
    {
     "data": {
      "text/plain": [
       "5-element Vector{Real}:\n",
       " 0\n",
       " 0.76\n",
       " 0.21\n",
       " 0.03\n",
       " 0"
      ]
     },
     "execution_count": 21,
     "metadata": {},
     "output_type": "execute_result"
    }
   ],
   "source": [
    "collect(innovations[i,9:13])"
   ]
  },
  {
   "cell_type": "code",
   "execution_count": 24,
   "id": "63df4e12",
   "metadata": {},
   "outputs": [
    {
     "data": {
      "text/plain": [
       "5×5 Matrix{Float64}:\n",
       " 0.860082  1.49996  2.43039  11.033   8.5099\n",
       " 0.846386  1.47826  2.41825  11.055   8.53542\n",
       " 0.812576  1.4236   2.38646  11.11    8.60068\n",
       " 0.786893  1.38217  2.36188  11.1516  8.65078\n",
       " 0.782657  1.37533  2.3577   11.1584  8.65924"
      ]
     },
     "execution_count": 24,
     "metadata": {},
     "output_type": "execute_result"
    }
   ],
   "source": [
    "tt=4\n",
    "g+tt*g^2/2+tt^3*g^3/6+tt^4*g^4/24"
   ]
  },
  {
   "cell_type": "code",
   "execution_count": 25,
   "id": "28b1c0c8",
   "metadata": {},
   "outputs": [
    {
     "data": {
      "text/plain": [
       "5×5 Matrix{Float64}:\n",
       " 2.98448  3.44865  5.43726  24.1562  18.5716\n",
       " 1.93566  4.37144  5.39434  24.2346  18.6621\n",
       " 1.8154   3.17698  6.28135  24.4303  18.8941\n",
       " 1.72406  3.02962  5.19382  25.5782  19.0724\n",
       " 1.70901  3.0053   5.1789   24.6023  20.1026"
      ]
     },
     "execution_count": 25,
     "metadata": {},
     "output_type": "execute_result"
    }
   ],
   "source": [
    "exp(g*tt)"
   ]
  },
  {
   "cell_type": "code",
   "execution_count": null,
   "id": "5364e7a7",
   "metadata": {},
   "outputs": [],
   "source": []
  },
  {
   "cell_type": "code",
   "execution_count": 26,
   "id": "3aa3dabf",
   "metadata": {},
   "outputs": [
    {
     "data": {
      "text/plain": [
       "5-element Vector{Float64}:\n",
       " 0.1\n",
       " 0.32\n",
       " 0.2\n",
       " 0.11\n",
       " 0.4"
      ]
     },
     "execution_count": 26,
     "metadata": {},
     "output_type": "execute_result"
    }
   ],
   "source": [
    "tk=vec([1 34 2 112 44])\n",
    "xk=vec([0.1 0.32 0.2 0.11 0.4])"
   ]
  },
  {
   "cell_type": "code",
   "execution_count": 27,
   "id": "3468f6cb",
   "metadata": {},
   "outputs": [
    {
     "data": {
      "text/html": [
       "<div class=\"data-frame\"><p>25 rows × 6 columns</p><table class=\"data-frame\"><thead><tr><th></th><th>k</th><th>i</th><th>GWP</th><th>Theta</th><th>Per_Recycl</th><th>Per_Comp</th></tr><tr><th></th><th title=\"Int64\">Int64</th><th title=\"Int64\">Int64</th><th title=\"Int64\">Int64</th><th title=\"Float64\">Float64</th><th title=\"Float64\">Float64</th><th title=\"Float64\">Float64</th></tr></thead><tbody><tr><th>1</th><td>1</td><td>1</td><td>80</td><td>0.6</td><td>0.5</td><td>0.0</td></tr><tr><th>2</th><td>2</td><td>1</td><td>86</td><td>0.66</td><td>0.55</td><td>0.0</td></tr><tr><th>3</th><td>3</td><td>1</td><td>91</td><td>0.68</td><td>0.567</td><td>0.0</td></tr><tr><th>4</th><td>4</td><td>1</td><td>95</td><td>0.7</td><td>0.583</td><td>0.0</td></tr><tr><th>5</th><td>5</td><td>2</td><td>60</td><td>0.4</td><td>0.0</td><td>0.2</td></tr><tr><th>6</th><td>6</td><td>2</td><td>64</td><td>0.48</td><td>0.0</td><td>0.24</td></tr><tr><th>7</th><td>7</td><td>2</td><td>68</td><td>0.5</td><td>0.0</td><td>0.27</td></tr><tr><th>8</th><td>8</td><td>2</td><td>76</td><td>0.52</td><td>0.0</td><td>0.34</td></tr><tr><th>9</th><td>9</td><td>2</td><td>80</td><td>0.54</td><td>0.0</td><td>0.37</td></tr><tr><th>10</th><td>10</td><td>2</td><td>85</td><td>0.55</td><td>0.0</td><td>0.4</td></tr><tr><th>11</th><td>11</td><td>3</td><td>85</td><td>0.6</td><td>0.6</td><td>0.3</td></tr><tr><th>12</th><td>12</td><td>3</td><td>89</td><td>0.68</td><td>0.55</td><td>0.4</td></tr><tr><th>13</th><td>13</td><td>3</td><td>93</td><td>0.76</td><td>0.53</td><td>0.4</td></tr><tr><th>14</th><td>14</td><td>3</td><td>95</td><td>0.82</td><td>0.5</td><td>0.4</td></tr><tr><th>15</th><td>15</td><td>4</td><td>75</td><td>0.65</td><td>0.0</td><td>0.5</td></tr><tr><th>16</th><td>16</td><td>4</td><td>78</td><td>0.69</td><td>0.0</td><td>0.531</td></tr><tr><th>17</th><td>17</td><td>4</td><td>80</td><td>0.71</td><td>0.0</td><td>0.55</td></tr><tr><th>18</th><td>18</td><td>4</td><td>81</td><td>0.72</td><td>0.0</td><td>0.55</td></tr><tr><th>19</th><td>19</td><td>4</td><td>83</td><td>0.74</td><td>0.0</td><td>0.57</td></tr><tr><th>20</th><td>20</td><td>4</td><td>85</td><td>0.75</td><td>0.0</td><td>0.8</td></tr><tr><th>21</th><td>21</td><td>5</td><td>90</td><td>0.9</td><td>0.7</td><td>0.15</td></tr><tr><th>22</th><td>22</td><td>5</td><td>92</td><td>0.92</td><td>0.716</td><td>0.1</td></tr><tr><th>23</th><td>23</td><td>5</td><td>94</td><td>0.94</td><td>0.731</td><td>0.0</td></tr><tr><th>24</th><td>24</td><td>5</td><td>96</td><td>0.95</td><td>0.738</td><td>0.0</td></tr><tr><th>25</th><td>25</td><td>5</td><td>100</td><td>0.95</td><td>0.738</td><td>0.0</td></tr></tbody></table></div>"
      ],
      "text/latex": [
       "\\begin{tabular}{r|cccccc}\n",
       "\t& k & i & GWP & Theta & Per\\_Recycl & Per\\_Comp\\\\\n",
       "\t\\hline\n",
       "\t& Int64 & Int64 & Int64 & Float64 & Float64 & Float64\\\\\n",
       "\t\\hline\n",
       "\t1 & 1 & 1 & 80 & 0.6 & 0.5 & 0.0 \\\\\n",
       "\t2 & 2 & 1 & 86 & 0.66 & 0.55 & 0.0 \\\\\n",
       "\t3 & 3 & 1 & 91 & 0.68 & 0.567 & 0.0 \\\\\n",
       "\t4 & 4 & 1 & 95 & 0.7 & 0.583 & 0.0 \\\\\n",
       "\t5 & 5 & 2 & 60 & 0.4 & 0.0 & 0.2 \\\\\n",
       "\t6 & 6 & 2 & 64 & 0.48 & 0.0 & 0.24 \\\\\n",
       "\t7 & 7 & 2 & 68 & 0.5 & 0.0 & 0.27 \\\\\n",
       "\t8 & 8 & 2 & 76 & 0.52 & 0.0 & 0.34 \\\\\n",
       "\t9 & 9 & 2 & 80 & 0.54 & 0.0 & 0.37 \\\\\n",
       "\t10 & 10 & 2 & 85 & 0.55 & 0.0 & 0.4 \\\\\n",
       "\t11 & 11 & 3 & 85 & 0.6 & 0.6 & 0.3 \\\\\n",
       "\t12 & 12 & 3 & 89 & 0.68 & 0.55 & 0.4 \\\\\n",
       "\t13 & 13 & 3 & 93 & 0.76 & 0.53 & 0.4 \\\\\n",
       "\t14 & 14 & 3 & 95 & 0.82 & 0.5 & 0.4 \\\\\n",
       "\t15 & 15 & 4 & 75 & 0.65 & 0.0 & 0.5 \\\\\n",
       "\t16 & 16 & 4 & 78 & 0.69 & 0.0 & 0.531 \\\\\n",
       "\t17 & 17 & 4 & 80 & 0.71 & 0.0 & 0.55 \\\\\n",
       "\t18 & 18 & 4 & 81 & 0.72 & 0.0 & 0.55 \\\\\n",
       "\t19 & 19 & 4 & 83 & 0.74 & 0.0 & 0.57 \\\\\n",
       "\t20 & 20 & 4 & 85 & 0.75 & 0.0 & 0.8 \\\\\n",
       "\t21 & 21 & 5 & 90 & 0.9 & 0.7 & 0.15 \\\\\n",
       "\t22 & 22 & 5 & 92 & 0.92 & 0.716 & 0.1 \\\\\n",
       "\t23 & 23 & 5 & 94 & 0.94 & 0.731 & 0.0 \\\\\n",
       "\t24 & 24 & 5 & 96 & 0.95 & 0.738 & 0.0 \\\\\n",
       "\t25 & 25 & 5 & 100 & 0.95 & 0.738 & 0.0 \\\\\n",
       "\\end{tabular}\n"
      ],
      "text/plain": [
       "\u001b[1m25×6 DataFrame\u001b[0m\n",
       "\u001b[1m Row \u001b[0m│\u001b[1m k     \u001b[0m\u001b[1m i     \u001b[0m\u001b[1m GWP   \u001b[0m\u001b[1m Theta   \u001b[0m\u001b[1m Per_Recycl \u001b[0m\u001b[1m Per_Comp \u001b[0m\n",
       "\u001b[1m     \u001b[0m│\u001b[90m Int64 \u001b[0m\u001b[90m Int64 \u001b[0m\u001b[90m Int64 \u001b[0m\u001b[90m Float64 \u001b[0m\u001b[90m Float64    \u001b[0m\u001b[90m Float64  \u001b[0m\n",
       "─────┼────────────────────────────────────────────────────\n",
       "   1 │     1      1     80     0.6        0.5       0.0\n",
       "   2 │     2      1     86     0.66       0.55      0.0\n",
       "   3 │     3      1     91     0.68       0.567     0.0\n",
       "   4 │     4      1     95     0.7        0.583     0.0\n",
       "   5 │     5      2     60     0.4        0.0       0.2\n",
       "   6 │     6      2     64     0.48       0.0       0.24\n",
       "   7 │     7      2     68     0.5        0.0       0.27\n",
       "   8 │     8      2     76     0.52       0.0       0.34\n",
       "   9 │     9      2     80     0.54       0.0       0.37\n",
       "  10 │    10      2     85     0.55       0.0       0.4\n",
       "  11 │    11      3     85     0.6        0.6       0.3\n",
       "  ⋮  │   ⋮      ⋮      ⋮       ⋮         ⋮          ⋮\n",
       "  16 │    16      4     78     0.69       0.0       0.531\n",
       "  17 │    17      4     80     0.71       0.0       0.55\n",
       "  18 │    18      4     81     0.72       0.0       0.55\n",
       "  19 │    19      4     83     0.74       0.0       0.57\n",
       "  20 │    20      4     85     0.75       0.0       0.8\n",
       "  21 │    21      5     90     0.9        0.7       0.15\n",
       "  22 │    22      5     92     0.92       0.716     0.1\n",
       "  23 │    23      5     94     0.94       0.731     0.0\n",
       "  24 │    24      5     96     0.95       0.738     0.0\n",
       "  25 │    25      5    100     0.95       0.738     0.0\n",
       "\u001b[36m                                            4 rows omitted\u001b[0m"
      ]
     },
     "execution_count": 27,
     "metadata": {},
     "output_type": "execute_result"
    }
   ],
   "source": [
    "xk[give_sorted(tk)]\n",
    "v=give_sorted(tk)\n",
    "v\n",
    "compromise"
   ]
  },
  {
   "cell_type": "code",
   "execution_count": 28,
   "id": "4e2ead5b-7b01-4354-895b-dfc62df29869",
   "metadata": {},
   "outputs": [
    {
     "data": {
      "text/plain": [
       "1×5 Matrix{Float64}:\n",
       " 0.0280624  0.0499089  0.0930683  0.465243  0.363718"
      ]
     },
     "execution_count": 28,
     "metadata": {},
     "output_type": "execute_result"
    }
   ],
   "source": [
    "q=get_rate_mat(2)\n",
    "t=50\n",
    "s0=[0 0 0 1 0]\n",
    "(s0*(exp(q*t)))"
   ]
  },
  {
   "cell_type": "code",
   "execution_count": 29,
   "id": "d0749555",
   "metadata": {},
   "outputs": [
    {
     "name": "stdout",
     "output_type": "stream",
     "text": [
      "0.1\n",
      "0.30000000000000004\n",
      "0.6200000000000001\n",
      "1.02\n",
      "1.1300000000000001\n"
     ]
    }
   ],
   "source": [
    "for i in 1:size(tk)[1]\n",
    "    print(sum(xk[v[j]] for j in 1:i))\n",
    "    print(\"\\n\")\n",
    "end"
   ]
  },
  {
   "cell_type": "code",
   "execution_count": 30,
   "id": "73d91cf2",
   "metadata": {},
   "outputs": [
    {
     "data": {
      "text/plain": [
       "5"
      ]
     },
     "execution_count": 30,
     "metadata": {},
     "output_type": "execute_result"
    }
   ],
   "source": [
    "size(tk)[1]"
   ]
  },
  {
   "cell_type": "code",
   "execution_count": 31,
   "id": "76fb40ab",
   "metadata": {},
   "outputs": [
    {
     "name": "stdout",
     "output_type": "stream",
     "text": [
      "96.0\n",
      "34.8\n",
      "-162.32\n",
      "-1954.3200000000002\n"
     ]
    }
   ],
   "source": [
    "for i in 1:(size(tk)[1]-1)\n",
    "    print(initial[1,3]*tk[v][1]-sum(xk[v[j]]*tk[v][j+1]*(initial[1,3]-compromise[v,3][j]) for j in 1:i))\n",
    "    print(\"\\n\")\n",
    "end"
   ]
  },
  {
   "cell_type": "code",
   "execution_count": 32,
   "id": "94fb60e1",
   "metadata": {},
   "outputs": [
    {
     "data": {
      "text/plain": [
       "5×5 Matrix{Float64}:\n",
       " -8.12409   6.87956     1.78832   0.456204   0.0\n",
       "  2.42126  -5.56168     3.83202   0.308399   0.0\n",
       "  1.78144   2.93413   -13.9701    9.49102    0.763473\n",
       "  0.0       0.405941    1.92079  -8.90099    7.57426\n",
       "  0.0       0.0         0.0       8.92857   -7.92857"
      ]
     },
     "execution_count": 32,
     "metadata": {},
     "output_type": "execute_result"
    }
   ],
   "source": [
    "apprx=I+get_rate_mat(4)*50"
   ]
  },
  {
   "cell_type": "code",
   "execution_count": 33,
   "id": "96625c4f-7709-4cd3-99af-6d31c7d93f0e",
   "metadata": {},
   "outputs": [
    {
     "data": {
      "text/plain": [
       "1×5 Matrix{Float64}:\n",
       " 5.34431  8.8024  -41.9102  28.4731  2.29042"
      ]
     },
     "execution_count": 33,
     "metadata": {},
     "output_type": "execute_result"
    }
   ],
   "source": [
    "n1=[1 2 3 4 5].*[0 0 1 0 0]*apprx"
   ]
  },
  {
   "cell_type": "code",
   "execution_count": 34,
   "id": "cbfc6aaa-e841-4735-815c-863c4bf3e725",
   "metadata": {},
   "outputs": [
    {
     "data": {
      "text/plain": [
       "3.0000000000000013"
      ]
     },
     "execution_count": 34,
     "metadata": {},
     "output_type": "execute_result"
    }
   ],
   "source": [
    "sum(n1)"
   ]
  },
  {
   "cell_type": "code",
   "execution_count": 35,
   "id": "e4346172-859d-49f5-911a-a71d509d20fc",
   "metadata": {},
   "outputs": [
    {
     "data": {
      "text/plain": [
       "5×5 Matrix{Float64}:\n",
       "  43.4219   -44.3599     -6.13627     5.66386    2.41037\n",
       " -13.1551    29.9792    -34.9618     16.507      2.63077\n",
       " -16.1275   -20.6002    114.411    -104.268     27.5842\n",
       "   2.20233   -0.117564  -21.1875     83.1052   -63.0025\n",
       "   0.0        1.81223     8.57496   -75.132     65.7448"
      ]
     },
     "execution_count": 35,
     "metadata": {},
     "output_type": "execute_result"
    }
   ],
   "source": [
    "i=4\n",
    "s0=[0 0 0 0 0]\n",
    "s0[i]=rl[i]\n",
    "q=get_rate_mat(i)\n",
    "t=50\n",
    "apprx=I+q*t+1/2*t^2*q^2"
   ]
  },
  {
   "cell_type": "code",
   "execution_count": 36,
   "id": "1b70908a-ab80-448f-bebf-11643b4c0ba1",
   "metadata": {},
   "outputs": [
    {
     "data": {
      "text/plain": [
       "3.000000000000057"
      ]
     },
     "execution_count": 36,
     "metadata": {},
     "output_type": "execute_result"
    }
   ],
   "source": [
    "n1=[1 2 3 4 5].*[0 0 1 0 0]*apprx\n",
    "sum(n1)"
   ]
  },
  {
   "cell_type": "code",
   "execution_count": 37,
   "id": "ea7ce0db-61af-4f60-a7f7-557c856ec2f9",
   "metadata": {},
   "outputs": [
    {
     "data": {
      "text/plain": [
       "-41.11305631301775"
      ]
     },
     "execution_count": 37,
     "metadata": {},
     "output_type": "execute_result"
    }
   ],
   "source": [
    "get_RL_atT(4,50)"
   ]
  },
  {
   "cell_type": "code",
   "execution_count": 38,
   "id": "ecd28874-fd6c-4fe2-b6b7-766fd2c3f5a3",
   "metadata": {},
   "outputs": [
    {
     "data": {
      "text/plain": [
       "1×5 Matrix{Int64}:\n",
       " 0  0  0  3  0"
      ]
     },
     "execution_count": 38,
     "metadata": {},
     "output_type": "execute_result"
    }
   ],
   "source": [
    "s0"
   ]
  },
  {
   "cell_type": "code",
   "execution_count": 39,
   "id": "bf001aaa",
   "metadata": {},
   "outputs": [
    {
     "data": {
      "text/plain": [
       "8.178628123098022"
      ]
     },
     "execution_count": 39,
     "metadata": {},
     "output_type": "execute_result"
    }
   ],
   "source": [
    "\n",
    "i=2\n",
    "t=50\n",
    "s0=[0 0 0 0 0]\n",
    "s0[rl[i]]=1\n",
    "q=get_rate_mat(i)\n",
    "#rl_t=sum([1 2 3 4 5].*(s0*exp(q*t)))\n",
    "rl_t=sum([1 2 3 4 5].*(s0*(I+t*q+1/2*t^2*q^2)))"
   ]
  },
  {
   "cell_type": "code",
   "execution_count": 40,
   "id": "884ef550",
   "metadata": {},
   "outputs": [
    {
     "data": {
      "text/plain": [
       "1×5 Matrix{Int64}:\n",
       " 0  0  0  1  0"
      ]
     },
     "execution_count": 40,
     "metadata": {},
     "output_type": "execute_result"
    }
   ],
   "source": [
    "s0=[0 0.2 0.3 0.4 0.1]\n",
    "s1=[0 0 0 1 0]"
   ]
  },
  {
   "cell_type": "code",
   "execution_count": 41,
   "id": "9c476cf8",
   "metadata": {},
   "outputs": [
    {
     "data": {
      "text/plain": [
       "1×5 Matrix{Float64}:\n",
       " 18.7711  -24.5321  5.34423  -7.83121  9.248"
      ]
     },
     "execution_count": 41,
     "metadata": {},
     "output_type": "execute_result"
    }
   ],
   "source": [
    "s0*(I+t.*q+((1/2)*t^2).*q^2+((1/6)*t^3).*q^3+((1/24)*t^4).*q^4+((1/120)*t^5).*q^5)"
   ]
  },
  {
   "cell_type": "code",
   "execution_count": 42,
   "id": "6526aa97",
   "metadata": {},
   "outputs": [
    {
     "data": {
      "text/plain": [
       "5×5 Matrix{Float64}:\n",
       " -138.354     241.038    -165.434     67.2842    -3.53511\n",
       "   66.0809   -182.399     251.702   -234.925    100.541\n",
       "   31.4691     52.7655   -254.965    436.357   -264.626\n",
       "  -11.9463    -11.7273     99.6773  -306.575    231.571\n",
       "    8.92662     8.08954   -83.7745   308.766   -241.008"
      ]
     },
     "execution_count": 42,
     "metadata": {},
     "output_type": "execute_result"
    }
   ],
   "source": [
    "(I+t.*q+((1/2)*t^2).*q^2+((1/6)*t^3).*q^3+((1/24)*t^4).*q^4+((1/120)*t^5).*q^5)"
   ]
  },
  {
   "cell_type": "code",
   "execution_count": 43,
   "id": "36099cf6",
   "metadata": {},
   "outputs": [
    {
     "data": {
      "text/plain": [
       "5×5 Matrix{Float64}:\n",
       " -94.2609   313.131   -519.969    684.184  -382.085\n",
       "  25.8329  -239.916    596.533  -1069.33    687.883\n",
       "  64.8606    87.1085  -543.548   1347.24   -954.662\n",
       " -38.9508   -39.9843   304.811   -837.239   612.363\n",
       "  37.0407    37.7705  -292.265    821.345  -602.892"
      ]
     },
     "execution_count": 43,
     "metadata": {},
     "output_type": "execute_result"
    }
   ],
   "source": [
    "(I+sum((1/factorial(i))*(t^i)*(q^i) for i in 1:20))"
   ]
  },
  {
   "cell_type": "code",
   "execution_count": 44,
   "id": "210757e1",
   "metadata": {},
   "outputs": [
    {
     "data": {
      "text/plain": [
       "3.9693414106379463"
      ]
     },
     "execution_count": 44,
     "metadata": {},
     "output_type": "execute_result"
    }
   ],
   "source": [
    "sum([1 2 3 4 5].*(s0*exp(q*t)))"
   ]
  },
  {
   "cell_type": "code",
   "execution_count": 45,
   "id": "6d07aa35",
   "metadata": {},
   "outputs": [
    {
     "data": {
      "text/plain": [
       "3.9693414106379463"
      ]
     },
     "execution_count": 45,
     "metadata": {},
     "output_type": "execute_result"
    }
   ],
   "source": [
    "sum([1 2 3 4 5].*(s0*(exp(q*t))))"
   ]
  },
  {
   "cell_type": "code",
   "execution_count": 46,
   "id": "712acaf6",
   "metadata": {},
   "outputs": [
    {
     "data": {
      "text/plain": [
       "5×5 Matrix{Float64}:\n",
       " -0.120192    0.0930288    0.0227163   0.00444712   0.0\n",
       "  0.039819   -0.113122     0.0667421   0.00656109   0.0\n",
       "  0.0168571   0.0287143   -0.142857    0.0918571    0.00542857\n",
       "  0.0         0.00141414   0.020404   -0.10101      0.0791919\n",
       "  0.0         0.0          0.0         0.103627    -0.103627"
      ]
     },
     "execution_count": 46,
     "metadata": {},
     "output_type": "execute_result"
    }
   ],
   "source": [
    "q"
   ]
  },
  {
   "cell_type": "code",
   "execution_count": 47,
   "id": "9df6bc6c-0f36-47c0-9c58-0d6ae2dbc83b",
   "metadata": {},
   "outputs": [
    {
     "data": {
      "text/plain": [
       "5×5 Matrix{Float64}:\n",
       " 0.0771895  0.128895   0.138814   0.385642  0.269459\n",
       " 0.0679296  0.114343   0.130868   0.400474  0.286385\n",
       " 0.0452652  0.0776663  0.109623   0.437398  0.330047\n",
       " 0.0280624  0.0499089  0.0930683  0.465243  0.363718\n",
       " 0.0252328  0.0453331  0.0902223  0.46976   0.369452"
      ]
     },
     "execution_count": 47,
     "metadata": {},
     "output_type": "execute_result"
    }
   ],
   "source": [
    "exp(q*50)"
   ]
  },
  {
   "cell_type": "code",
   "execution_count": 48,
   "id": "2672cc01",
   "metadata": {},
   "outputs": [
    {
     "data": {
      "text/plain": [
       "5×5 Matrix{Float64}:\n",
       " -0.120192    0.0930288    0.0227163   0.00444712   0.0\n",
       "  0.039819   -0.113122     0.0667421   0.00656109   0.0\n",
       "  0.0168571   0.0287143   -0.142857    0.0918571    0.00542857\n",
       "  0.0         0.00141414   0.020404   -0.10101      0.0791919\n",
       "  0.0         0.0          0.0         0.103627    -0.103627"
      ]
     },
     "execution_count": 48,
     "metadata": {},
     "output_type": "execute_result"
    }
   ],
   "source": [
    "q"
   ]
  },
  {
   "cell_type": "code",
   "execution_count": 49,
   "id": "77ca1906",
   "metadata": {},
   "outputs": [
    {
     "data": {
      "text/plain": [
       "5-element Vector{Float64}:\n",
       " -0.2098085085920511\n",
       " -0.17936850177094582\n",
       " -0.15160942696594223\n",
       " -0.040022229181495284\n",
       "  2.0816681711721685e-17"
      ]
     },
     "execution_count": 49,
     "metadata": {},
     "output_type": "execute_result"
    }
   ],
   "source": [
    "eigvals(q)"
   ]
  },
  {
   "cell_type": "code",
   "execution_count": 50,
   "id": "25ce5bcd",
   "metadata": {},
   "outputs": [
    {
     "data": {
      "text/plain": [
       "5×5 Matrix{Float64}:\n",
       " -0.434616   0.838843      0.877579    0.754836   0.447214\n",
       "  0.537586  -0.543012     -0.194178    0.60145    0.447214\n",
       " -0.552263   0.0384604    -0.404635    0.215999   0.447214\n",
       "  0.333468   0.000561943  -0.0708359  -0.0772814  0.447214\n",
       " -0.325445  -0.00076883    0.152983   -0.125909   0.447214"
      ]
     },
     "execution_count": 50,
     "metadata": {},
     "output_type": "execute_result"
    }
   ],
   "source": [
    "eigvecs(q)"
   ]
  },
  {
   "cell_type": "code",
   "execution_count": 51,
   "id": "7fcf23ed",
   "metadata": {},
   "outputs": [
    {
     "data": {
      "text/plain": [
       "5×5 Diagonal{Float64, Vector{Float64}}:\n",
       " -0.209809    ⋅          ⋅          ⋅          ⋅ \n",
       "   ⋅        -0.179369    ⋅          ⋅          ⋅ \n",
       "   ⋅          ⋅        -0.151609    ⋅          ⋅ \n",
       "   ⋅          ⋅          ⋅        -0.0400222   ⋅ \n",
       "   ⋅          ⋅          ⋅          ⋅         2.08167e-17"
      ]
     },
     "execution_count": 51,
     "metadata": {},
     "output_type": "execute_result"
    }
   ],
   "source": [
    "Diagonal(eigvals(q))"
   ]
  },
  {
   "cell_type": "code",
   "execution_count": 52,
   "id": "e9e6e6f8",
   "metadata": {},
   "outputs": [
    {
     "data": {
      "text/plain": [
       "1×5 Matrix{Int64}:\n",
       " 0  0  1  0  0"
      ]
     },
     "execution_count": 52,
     "metadata": {},
     "output_type": "execute_result"
    }
   ],
   "source": [
    "s1=[0 0 0 0 0]\n",
    "s1[rl[i]]=1\n",
    "s1"
   ]
  },
  {
   "cell_type": "code",
   "execution_count": 53,
   "id": "b7273ba6",
   "metadata": {},
   "outputs": [
    {
     "data": {
      "text/plain": [
       "5×5 Matrix{Float64}:\n",
       " -6.00962       4.65144       1.13582       0.222356   2.58992e-15\n",
       "  1.99095      -5.65611       3.3371        0.328054  -9.62798e-16\n",
       "  0.842857      1.43571      -7.14286       4.59286    0.271429\n",
       " -8.68107e-16   0.0707071     1.0202       -5.05051    3.9596\n",
       " -1.46485e-15  -5.14331e-17   1.04499e-15   5.18135   -5.18135"
      ]
     },
     "execution_count": 53,
     "metadata": {},
     "output_type": "execute_result"
    }
   ],
   "source": [
    "q=get_rate_mat(2)\n",
    "d=eigvecs(q)*Diagonal(eigvals(q)*t)*inv(eigvecs(q))\n",
    "#d=eigvecs(q)*(I+t*Diagonal(eigvals(q)))*inv(eigvecs(q))"
   ]
  },
  {
   "cell_type": "code",
   "execution_count": 54,
   "id": "d0821426",
   "metadata": {},
   "outputs": [
    {
     "data": {
      "text/plain": [
       "2.0142857142857187"
      ]
     },
     "execution_count": 54,
     "metadata": {},
     "output_type": "execute_result"
    }
   ],
   "source": [
    "sum([1 2 3 4 5].*(s1*d))"
   ]
  },
  {
   "cell_type": "code",
   "execution_count": 55,
   "id": "0be78a6c",
   "metadata": {},
   "outputs": [
    {
     "data": {
      "text/plain": [
       "1×5 Matrix{Int64}:\n",
       " 0  0  1  0  0"
      ]
     },
     "execution_count": 55,
     "metadata": {},
     "output_type": "execute_result"
    }
   ],
   "source": [
    "s1"
   ]
  },
  {
   "cell_type": "code",
   "execution_count": null,
   "id": "aa61157e",
   "metadata": {},
   "outputs": [],
   "source": []
  },
  {
   "cell_type": "code",
   "execution_count": 56,
   "id": "1dbbb137-e2f4-4cc1-9753-c55e766381d0",
   "metadata": {},
   "outputs": [
    {
     "data": {
      "text/plain": [
       "-13.899832849996947"
      ]
     },
     "execution_count": 56,
     "metadata": {},
     "output_type": "execute_result"
    }
   ],
   "source": [
    "get_RL_atT(1,50)"
   ]
  },
  {
   "cell_type": "code",
   "execution_count": 57,
   "id": "2d64fcb0-4dc9-444a-8700-35ecef45ef82",
   "metadata": {},
   "outputs": [
    {
     "data": {
      "text/plain": [
       "5×5 Matrix{Float64}:\n",
       "   24.8037     -30.5065     -20.7009      81.0788        -10.3392\n",
       "   36.1094   12337.0      16959.0     -32236.3          3609.06\n",
       "  188.362    26705.1      41500.9     -79407.9          8876.7\n",
       " -184.609   -38797.5     -61959.7          1.20847e5  -13593.4\n",
       "   83.4968   20899.2      33492.6     -65783.5          7418.99"
      ]
     },
     "execution_count": 57,
     "metadata": {},
     "output_type": "execute_result"
    }
   ],
   "source": [
    "i=1\n",
    "q=get_rate_mat(i)\n",
    "t=50\n",
    "eigvecs(q)'*(I+t*Diagonal(eigvals(q))+t^2*Diagonal(eigvals(q).^2))*inv(eigvecs(q)')"
   ]
  },
  {
   "cell_type": "code",
   "execution_count": 58,
   "id": "a69b6b6f-0a6a-4ab6-ab4b-56d299b87d27",
   "metadata": {},
   "outputs": [
    {
     "data": {
      "text/html": [
       "<div class=\"data-frame\"><p>5 rows × 33 columns (omitted printing of 24 columns)</p><table class=\"data-frame\"><thead><tr><th></th><th>i</th><th>Cost_per_RL</th><th>RL</th><th>Sojourn1</th><th>Sojourn2</th><th>Sojourn3</th><th>Sojourn4</th><th>Sojourn5</th><th>P11</th></tr><tr><th></th><th title=\"Int64\">Int64</th><th title=\"Int64\">Int64</th><th title=\"Int64\">Int64</th><th title=\"Float64\">Float64</th><th title=\"Float64\">Float64</th><th title=\"Float64\">Float64</th><th title=\"Float64\">Float64</th><th title=\"Float64\">Float64</th><th title=\"Int64\">Int64</th></tr></thead><tbody><tr><th>1</th><td>1</td><td>92</td><td>2</td><td>4.6</td><td>1.34</td><td>2.04</td><td>0.12</td><td>8.86</td><td>0</td></tr><tr><th>2</th><td>2</td><td>122</td><td>3</td><td>8.32</td><td>8.84</td><td>7.0</td><td>9.9</td><td>9.65</td><td>0</td></tr><tr><th>3</th><td>3</td><td>78</td><td>1</td><td>4.44</td><td>1.21</td><td>5.09</td><td>6.52</td><td>8.67</td><td>0</td></tr><tr><th>4</th><td>4</td><td>131</td><td>3</td><td>5.48</td><td>7.62</td><td>3.34</td><td>5.05</td><td>5.6</td><td>0</td></tr><tr><th>5</th><td>5</td><td>95</td><td>1</td><td>9.94</td><td>2.38</td><td>7.94</td><td>3.82</td><td>5.44</td><td>0</td></tr></tbody></table></div>"
      ],
      "text/latex": [
       "\\begin{tabular}{r|cccccccccc}\n",
       "\t& i & Cost\\_per\\_RL & RL & Sojourn1 & Sojourn2 & Sojourn3 & Sojourn4 & Sojourn5 & P11 & \\\\\n",
       "\t\\hline\n",
       "\t& Int64 & Int64 & Int64 & Float64 & Float64 & Float64 & Float64 & Float64 & Int64 & \\\\\n",
       "\t\\hline\n",
       "\t1 & 1 & 92 & 2 & 4.6 & 1.34 & 2.04 & 0.12 & 8.86 & 0 & $\\dots$ \\\\\n",
       "\t2 & 2 & 122 & 3 & 8.32 & 8.84 & 7.0 & 9.9 & 9.65 & 0 & $\\dots$ \\\\\n",
       "\t3 & 3 & 78 & 1 & 4.44 & 1.21 & 5.09 & 6.52 & 8.67 & 0 & $\\dots$ \\\\\n",
       "\t4 & 4 & 131 & 3 & 5.48 & 7.62 & 3.34 & 5.05 & 5.6 & 0 & $\\dots$ \\\\\n",
       "\t5 & 5 & 95 & 1 & 9.94 & 2.38 & 7.94 & 3.82 & 5.44 & 0 & $\\dots$ \\\\\n",
       "\\end{tabular}\n"
      ],
      "text/plain": [
       "\u001b[1m5×33 DataFrame\u001b[0m\n",
       "\u001b[1m Row \u001b[0m│\u001b[1m i     \u001b[0m\u001b[1m Cost_per_RL \u001b[0m\u001b[1m RL    \u001b[0m\u001b[1m Sojourn1 \u001b[0m\u001b[1m Sojourn2 \u001b[0m\u001b[1m Sojourn3 \u001b[0m\u001b[1m Sojourn4 \u001b[0m\u001b[1m Sojo\u001b[0m ⋯\n",
       "\u001b[1m     \u001b[0m│\u001b[90m Int64 \u001b[0m\u001b[90m Int64       \u001b[0m\u001b[90m Int64 \u001b[0m\u001b[90m Float64  \u001b[0m\u001b[90m Float64  \u001b[0m\u001b[90m Float64  \u001b[0m\u001b[90m Float64  \u001b[0m\u001b[90m Floa\u001b[0m ⋯\n",
       "─────┼──────────────────────────────────────────────────────────────────────────\n",
       "   1 │     1           92      2      4.6       1.34      2.04      0.12       ⋯\n",
       "   2 │     2          122      3      8.32      8.84      7.0       9.9\n",
       "   3 │     3           78      1      4.44      1.21      5.09      6.52\n",
       "   4 │     4          131      3      5.48      7.62      3.34      5.05\n",
       "   5 │     5           95      1      9.94      2.38      7.94      3.82       ⋯\n",
       "\u001b[36m                                                              26 columns omitted\u001b[0m"
      ]
     },
     "execution_count": 58,
     "metadata": {},
     "output_type": "execute_result"
    }
   ],
   "source": [
    "innovations"
   ]
  },
  {
   "cell_type": "code",
   "execution_count": 59,
   "id": "74e50159-edd4-404f-aa48-f3aac8ecfbe8",
   "metadata": {},
   "outputs": [
    {
     "data": {
      "text/plain": [
       "5×5 Matrix{Real}:\n",
       " 0     0.36  0.12  0    0\n",
       " 0.76  0     0.2   0.0  0\n",
       " 0.21  0.58  0     0.2  0\n",
       " 0.03  0.06  0.65  0    1\n",
       " 0     0     0.03  0.8  0"
      ]
     },
     "execution_count": 59,
     "metadata": {},
     "output_type": "execute_result"
    }
   ],
   "source": [
    "get_transition_mat(1)'"
   ]
  },
  {
   "cell_type": "code",
   "execution_count": 60,
   "id": "f8a92cdd-3b5b-41c4-a7cf-26cba47cd8cf",
   "metadata": {},
   "outputs": [
    {
     "data": {
      "text/plain": [
       "2×2 Matrix{Int64}:\n",
       " 1  2\n",
       " 4  3"
      ]
     },
     "execution_count": 60,
     "metadata": {},
     "output_type": "execute_result"
    }
   ],
   "source": [
    "a=[1 2; 4 3]"
   ]
  },
  {
   "cell_type": "code",
   "execution_count": 61,
   "id": "34c81736-7d14-4a74-92f2-d52b9a7d5b8d",
   "metadata": {},
   "outputs": [
    {
     "data": {
      "text/plain": [
       "2×2 Matrix{Float64}:\n",
       " 49.7163  49.3484\n",
       " 98.6969  99.0647"
      ]
     },
     "execution_count": 61,
     "metadata": {},
     "output_type": "execute_result"
    }
   ],
   "source": [
    "exp(a)"
   ]
  },
  {
   "cell_type": "code",
   "execution_count": 62,
   "id": "02ee76a9-f129-48f0-9c6e-45ee839c3373",
   "metadata": {},
   "outputs": [
    {
     "data": {
      "text/plain": [
       "2×2 Matrix{Float64}:\n",
       " 46.3476  45.9798\n",
       " 91.9595  92.3274"
      ]
     },
     "execution_count": 62,
     "metadata": {},
     "output_type": "execute_result"
    }
   ],
   "source": [
    "I+a+(a^2)./2+(a^3)./6+(a^4)./24+(a^5)./120+(a^6)./720+(a^7)./factorial(7)+(a^8)./factorial(8)"
   ]
  },
  {
   "cell_type": "code",
   "execution_count": 63,
   "id": "aa19152d-83c7-427c-bf9c-601adc74d1d0",
   "metadata": {},
   "outputs": [
    {
     "data": {
      "text/plain": [
       "2×2 Matrix{Int64}:\n",
       "  9   8\n",
       " 16  17"
      ]
     },
     "execution_count": 63,
     "metadata": {},
     "output_type": "execute_result"
    }
   ],
   "source": [
    "a^2"
   ]
  },
  {
   "cell_type": "code",
   "execution_count": 64,
   "id": "fe870888-2857-47cc-8a72-8259c1acb7d7",
   "metadata": {},
   "outputs": [
    {
     "data": {
      "text/plain": [
       "5×5 adjoint(::Matrix{Real}) with eltype Real:\n",
       " 0     0.76  0.21  0.03  0\n",
       " 0.36  0     0.58  0.06  0\n",
       " 0.12  0.2   0     0.65  0.03\n",
       " 0     0.0   0.2   0     0.8\n",
       " 0     0     0     1     0"
      ]
     },
     "execution_count": 64,
     "metadata": {},
     "output_type": "execute_result"
    }
   ],
   "source": [
    "get_transition_mat(1)"
   ]
  },
  {
   "cell_type": "code",
   "execution_count": 65,
   "id": "52779078-bdf6-41c2-9a5b-855678c80ade",
   "metadata": {},
   "outputs": [
    {
     "data": {
      "text/html": [
       "<div class=\"data-frame\"><p>5 rows × 33 columns (omitted printing of 24 columns)</p><table class=\"data-frame\"><thead><tr><th></th><th>i</th><th>Cost_per_RL</th><th>RL</th><th>Sojourn1</th><th>Sojourn2</th><th>Sojourn3</th><th>Sojourn4</th><th>Sojourn5</th><th>P11</th></tr><tr><th></th><th title=\"Int64\">Int64</th><th title=\"Int64\">Int64</th><th title=\"Int64\">Int64</th><th title=\"Float64\">Float64</th><th title=\"Float64\">Float64</th><th title=\"Float64\">Float64</th><th title=\"Float64\">Float64</th><th title=\"Float64\">Float64</th><th title=\"Int64\">Int64</th></tr></thead><tbody><tr><th>1</th><td>1</td><td>92</td><td>2</td><td>4.6</td><td>1.34</td><td>2.04</td><td>0.12</td><td>8.86</td><td>0</td></tr><tr><th>2</th><td>2</td><td>122</td><td>3</td><td>8.32</td><td>8.84</td><td>7.0</td><td>9.9</td><td>9.65</td><td>0</td></tr><tr><th>3</th><td>3</td><td>78</td><td>1</td><td>4.44</td><td>1.21</td><td>5.09</td><td>6.52</td><td>8.67</td><td>0</td></tr><tr><th>4</th><td>4</td><td>131</td><td>3</td><td>5.48</td><td>7.62</td><td>3.34</td><td>5.05</td><td>5.6</td><td>0</td></tr><tr><th>5</th><td>5</td><td>95</td><td>1</td><td>9.94</td><td>2.38</td><td>7.94</td><td>3.82</td><td>5.44</td><td>0</td></tr></tbody></table></div>"
      ],
      "text/latex": [
       "\\begin{tabular}{r|cccccccccc}\n",
       "\t& i & Cost\\_per\\_RL & RL & Sojourn1 & Sojourn2 & Sojourn3 & Sojourn4 & Sojourn5 & P11 & \\\\\n",
       "\t\\hline\n",
       "\t& Int64 & Int64 & Int64 & Float64 & Float64 & Float64 & Float64 & Float64 & Int64 & \\\\\n",
       "\t\\hline\n",
       "\t1 & 1 & 92 & 2 & 4.6 & 1.34 & 2.04 & 0.12 & 8.86 & 0 & $\\dots$ \\\\\n",
       "\t2 & 2 & 122 & 3 & 8.32 & 8.84 & 7.0 & 9.9 & 9.65 & 0 & $\\dots$ \\\\\n",
       "\t3 & 3 & 78 & 1 & 4.44 & 1.21 & 5.09 & 6.52 & 8.67 & 0 & $\\dots$ \\\\\n",
       "\t4 & 4 & 131 & 3 & 5.48 & 7.62 & 3.34 & 5.05 & 5.6 & 0 & $\\dots$ \\\\\n",
       "\t5 & 5 & 95 & 1 & 9.94 & 2.38 & 7.94 & 3.82 & 5.44 & 0 & $\\dots$ \\\\\n",
       "\\end{tabular}\n"
      ],
      "text/plain": [
       "\u001b[1m5×33 DataFrame\u001b[0m\n",
       "\u001b[1m Row \u001b[0m│\u001b[1m i     \u001b[0m\u001b[1m Cost_per_RL \u001b[0m\u001b[1m RL    \u001b[0m\u001b[1m Sojourn1 \u001b[0m\u001b[1m Sojourn2 \u001b[0m\u001b[1m Sojourn3 \u001b[0m\u001b[1m Sojourn4 \u001b[0m\u001b[1m Sojo\u001b[0m ⋯\n",
       "\u001b[1m     \u001b[0m│\u001b[90m Int64 \u001b[0m\u001b[90m Int64       \u001b[0m\u001b[90m Int64 \u001b[0m\u001b[90m Float64  \u001b[0m\u001b[90m Float64  \u001b[0m\u001b[90m Float64  \u001b[0m\u001b[90m Float64  \u001b[0m\u001b[90m Floa\u001b[0m ⋯\n",
       "─────┼──────────────────────────────────────────────────────────────────────────\n",
       "   1 │     1           92      2      4.6       1.34      2.04      0.12       ⋯\n",
       "   2 │     2          122      3      8.32      8.84      7.0       9.9\n",
       "   3 │     3           78      1      4.44      1.21      5.09      6.52\n",
       "   4 │     4          131      3      5.48      7.62      3.34      5.05\n",
       "   5 │     5           95      1      9.94      2.38      7.94      3.82       ⋯\n",
       "\u001b[36m                                                              26 columns omitted\u001b[0m"
      ]
     },
     "execution_count": 65,
     "metadata": {},
     "output_type": "execute_result"
    }
   ],
   "source": [
    "innovations"
   ]
  },
  {
   "cell_type": "code",
   "execution_count": null,
   "id": "c1d2f151-6d55-4671-bae9-820761f6598d",
   "metadata": {},
   "outputs": [],
   "source": []
  },
  {
   "cell_type": "code",
   "execution_count": 66,
   "id": "0f9357e8-8fd0-48f3-b317-36bfae16ac68",
   "metadata": {},
   "outputs": [
    {
     "data": {
      "text/plain": [
       "5×5 Matrix{Float64}:\n",
       " 0.0        0.165217   0.0456522  0.00652174  0.0\n",
       " 0.268657   0.0        0.432836   0.0447761   0.0\n",
       " 0.0588235  0.0980392  0.0        0.318627    0.0147059\n",
       " 0.0        0.0        1.66667    0.0         6.66667\n",
       " 0.0        0.0        0.0        0.112867    0.0"
      ]
     },
     "execution_count": 66,
     "metadata": {},
     "output_type": "execute_result"
    }
   ],
   "source": [
    "get_transition_mat(1)./collect(innovations[1,4:8])"
   ]
  },
  {
   "cell_type": "code",
   "execution_count": null,
   "id": "3b53446a-f03f-43d8-8ddf-c8ba6da14b4c",
   "metadata": {},
   "outputs": [],
   "source": []
  },
  {
   "cell_type": "code",
   "execution_count": 67,
   "id": "4eb51a3c-cead-4d31-9b2f-64dc8c1379d9",
   "metadata": {},
   "outputs": [
    {
     "data": {
      "text/plain": [
       "5×5 Diagonal{Float64, Vector{Float64}}:\n",
       " 1.79753e5      ⋅       ⋅       ⋅       ⋅ \n",
       "  ⋅         1934.58     ⋅       ⋅       ⋅ \n",
       "  ⋅             ⋅    419.098    ⋅       ⋅ \n",
       "  ⋅             ⋅       ⋅     21.9329   ⋅ \n",
       "  ⋅             ⋅       ⋅       ⋅      1.0"
      ]
     },
     "execution_count": 67,
     "metadata": {},
     "output_type": "execute_result"
    }
   ],
   "source": [
    "I+t*Diagonal(eigvals(q))+t^2*Diagonal(eigvals(q).^2)"
   ]
  },
  {
   "cell_type": "code",
   "execution_count": 68,
   "id": "1d2a1c2e-0d5c-469d-8e13-3bee6bd1ec1a",
   "metadata": {},
   "outputs": [
    {
     "data": {
      "text/plain": [
       "5×5 Diagonal{Float64, Vector{Float64}}:\n",
       " 4.51242e-185   ⋅            ⋅            ⋅          ⋅ \n",
       "  ⋅            4.83727e-20   ⋅            ⋅          ⋅ \n",
       "  ⋅             ⋅           7.94298e-10   ⋅          ⋅ \n",
       "  ⋅             ⋅            ⋅           0.0060816   ⋅ \n",
       "  ⋅             ⋅            ⋅            ⋅         1.0"
      ]
     },
     "execution_count": 68,
     "metadata": {},
     "output_type": "execute_result"
    }
   ],
   "source": [
    "exp(50*Diagonal(eigvals(q)))"
   ]
  },
  {
   "cell_type": "code",
   "execution_count": 69,
   "id": "d3245906-97e3-4389-9f0c-02b9311a31d5",
   "metadata": {},
   "outputs": [
    {
     "data": {
      "text/plain": [
       "5-element Vector{Float64}:\n",
       " -8.48942815163113\n",
       " -0.8895070448628717\n",
       " -0.41907123933545865\n",
       " -0.10204975415525477\n",
       " -4.885048420854648e-17"
      ]
     },
     "execution_count": 69,
     "metadata": {},
     "output_type": "execute_result"
    }
   ],
   "source": [
    "eigvals(q)"
   ]
  },
  {
   "cell_type": "code",
   "execution_count": 70,
   "id": "1fdb00e6-1202-401f-9028-2c6adf9ffd9c",
   "metadata": {},
   "outputs": [
    {
     "data": {
      "text/plain": [
       "3.366441526732466e21"
      ]
     },
     "execution_count": 70,
     "metadata": {},
     "output_type": "execute_result"
    }
   ],
   "source": [
    "t=50\n",
    "1+sum((1/factorial(i))*t^i*(8.5)^i for i in 1:20)"
   ]
  },
  {
   "cell_type": "code",
   "execution_count": null,
   "id": "0e1f3533",
   "metadata": {},
   "outputs": [],
   "source": []
  },
  {
   "cell_type": "code",
   "execution_count": null,
   "id": "57187295",
   "metadata": {},
   "outputs": [],
   "source": []
  }
 ],
 "metadata": {
  "kernelspec": {
   "display_name": "Julia 1.6.3",
   "language": "julia",
   "name": "julia-1.6"
  },
  "language_info": {
   "file_extension": ".jl",
   "mimetype": "application/julia",
   "name": "julia",
   "version": "1.6.3"
  }
 },
 "nbformat": 4,
 "nbformat_minor": 5
}
