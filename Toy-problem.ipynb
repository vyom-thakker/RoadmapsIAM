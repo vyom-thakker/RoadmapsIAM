{
 "cells": [
  {
   "cell_type": "code",
   "execution_count": 1,
   "id": "0cd38929",
   "metadata": {},
   "outputs": [
    {
     "name": "stderr",
     "output_type": "stream",
     "text": [
      "\u001b[32m\u001b[1m  Activating\u001b[22m\u001b[39m environment at `~/Documents/project-codes/Plan_RoadmapsIAM/toy-problem/Project.toml`\n",
      "┌ Info: Precompiling Gurobi [2e9cd046-0924-5485-92f1-d5272153d98b]\n",
      "└ @ Base loading.jl:1342\n"
     ]
    }
   ],
   "source": [
    "\n",
    "using Pkg\n",
    "Pkg.activate(\".\")\n",
    "using JuMP\n",
    "using CSV\n",
    "using GraphRecipes, Plots\n",
    "using LightGraphs\n",
    "using LinearAlgebra\n",
    "using SparseArrays\n",
    "using DataFrames\n",
    "using Gurobi"
   ]
  },
  {
   "cell_type": "code",
   "execution_count": 87,
   "id": "6cd49756",
   "metadata": {},
   "outputs": [
    {
     "data": {
      "text/plain": [
       "6"
      ]
     },
     "execution_count": 87,
     "metadata": {},
     "output_type": "execute_result"
    }
   ],
   "source": [
    "innovations = CSV.File(\"./innovations.csv\",header=1,delim=\",\") |> DataFrame\n",
    "mapki = CSV.File(\"./map-ki.csv\",header=1,delim=\",\") |> DataFrame\n",
    "compromise = CSV.File(\"./compromise.csv\",header=1,delim=\",\") |> DataFrame\n",
    "initial = CSV.File(\"./initial.csv\",header=1,delim=\",\") |> DataFrame\n",
    "ci=innovations[!,2]\n",
    "rl=innovations[!,3]\n",
    "initial\n",
    "innovations[2,6]=6"
   ]
  },
  {
   "cell_type": "code",
   "execution_count": 88,
   "id": "050a94c4",
   "metadata": {},
   "outputs": [],
   "source": [
    "#using Pkg;\n",
    "#Pkg.build(\"BARON\")"
   ]
  },
  {
   "cell_type": "code",
   "execution_count": 89,
   "id": "160b339d",
   "metadata": {},
   "outputs": [
    {
     "data": {
      "text/plain": [
       "get_RL_atT (generic function with 1 method)"
      ]
     },
     "execution_count": 89,
     "metadata": {},
     "output_type": "execute_result"
    }
   ],
   "source": [
    "function get_transition_mat(i)\n",
    "    p_mat=reshape(collect(innovations[i,9:33]),5,5)\n",
    "    return p_mat\n",
    "end\n",
    "\n",
    "\n",
    "function get_rate_mat(i)\n",
    "    p_mat=get_transition_mat(i)\n",
    "    q_mat=p_mat./collect(innovations[i,4:8])'\n",
    "    for i in 1:5\n",
    "        q_mat[i,i]=-1*sum(q_mat[i,j] for j in 1:5 if j!=i)\n",
    "    end\n",
    "    return q_mat\n",
    "end\n",
    "\n",
    "function get_IAM_factor(t)\n",
    "    return 1\n",
    "end\n",
    "\n",
    "function give_sorted(t)\n",
    "    v=sortperm(t)\n",
    "    return v\n",
    "end\n",
    "\n",
    "function calc_tot_co2(x,t)\n",
    "    v=give_sorted(t)\n",
    "    for i in 1:(size(tk)[1]-1)\n",
    "        print(initial[1,3]*tk[v][1]-sum(xk[v[j]]*tk[v][j+1]*(initial[1,3]-compromise[v,3][j]) for j in 1:i))\n",
    "        print(\"\\n\")\n",
    "    end\n",
    "    return 1\n",
    "end\n",
    "\n",
    "function get_RL_atT(i,t)\n",
    "    s0=[0 0 0 0 0]\n",
    "    s0[i]=rl[i]\n",
    "    q=get_rate_mat(i)\n",
    "    #rl_t=sum([1 2 3 4 5].*(s0*exp(q*t)))\n",
    "    rl_t=sum([1 2 3 4 5].*(s0*(I+t*q+1/2*t^2*q^2)))\n",
    "    #rl_t=sum([1 2 3 4 5].*(s0*(I+t*q)))\n",
    "    return rl_t\n",
    "end"
   ]
  },
  {
   "cell_type": "code",
   "execution_count": 90,
   "id": "b9a5bd8e",
   "metadata": {},
   "outputs": [
    {
     "data": {
      "text/plain": [
       "tech_roadmap (generic function with 1 method)"
      ]
     },
     "execution_count": 90,
     "metadata": {},
     "output_type": "execute_result"
    }
   ],
   "source": [
    "function tech_roadmap()\n",
    "    rdmap= Model(Gurobi.Optimizer)\n",
    "    @variable(rdmap,yk[k=1:nrow(compromise)],Bin)\n",
    "    @variable(rdmap,0 ≤ tk[k=1:nrow(compromise)] ≤ 50)\n",
    "    @variable(rdmap,0 ≤ xk[k=1:nrow(compromise)] ≤ 1)\n",
    "    @variable(rdmap,yi[i=1:nrow(innovations)],Bin)\n",
    "    @variable(rdmap,0 ≤ ti[i=1:nrow(innovations)] ≤ 50)\n",
    "    @variable(rdmap, 1 ≤ s[i=1:nrow(innovations)] )\n",
    "    \n",
    "    @variable(rdmap, co2_2050 ≥ 0)\n",
    "    @variable(rdmap, co2_total ≥ 0)\n",
    "    \n",
    "    @constraint(rdmap, [i=1], sum(yk[k] for k=1:mapki[i,2])==yi[i])\n",
    "    @constraint(rdmap, [i=2:nrow(mapki)], sum(yk[k] for k=mapki[i-1,2]:mapki[i,2])==yi[i])\n",
    "    \n",
    "    @constraint(rdmap, [i=1,k=1:mapki[i,2]], ti[i] ≤ tk[k])\n",
    "    @constraint(rdmap, [i=2:nrow(mapki),k=mapki[i-1,2]:mapki[i,2]], ti[i] ≤ tk[k])\n",
    "    \n",
    "    @constraint(rdmap, [i=1:nrow(mapki)], 50*yi[i] ≥ ti[i])\n",
    "    @constraint(rdmap, [k=1:nrow(compromise)], 50*yk[k] ≥ tk[k])\n",
    "    \n",
    "    @constraint(rdmap, [k=1:nrow(compromise)], yk[k] ≥ xk[k])\n",
    "    @constraint(rdmap, sum(xk[k] for k in 1:nrow(compromise)) ≤ 1) \n",
    "    \n",
    "    \n",
    "    @constraint(rdmap, co2_2050==sum(xk[k]*compromise[k,3]*get_IAM_factor(tk[k]) for k in 1:nrow(compromise))\n",
    "        + (1-sum(xk[k] for k in 1:nrow(compromise)))*initial[1,3])\n",
    "    \n",
    "    #@constraint(rdmap, co2_total == calc_tot_co2(xk,tk))\n",
    "    \n",
    "    @constraint(rdmap, [i=1:nrow(innovations)], s[i]==get_RL_atT(i,ti[i]))\n",
    "    \n",
    "    @constraint(rdmap, co2_2050 ≤ 73)\n",
    "    \n",
    "    @objective(rdmap,Min,sum(ci[i]*(yi[i]*(15-s[i])) for i in 1:nrow(innovations)))\n",
    "    \n",
    "    optimize!(rdmap)\n",
    "    return JuMP.value.(yk), JuMP.value.(tk), JuMP.value.(xk), JuMP.value.(yi), JuMP.value.(ti), JuMP.value.(s), JuMP.value.(co2_2050)   \n",
    "end"
   ]
  },
  {
   "cell_type": "code",
   "execution_count": 91,
   "id": "e971da9a",
   "metadata": {},
   "outputs": [
    {
     "name": "stdout",
     "output_type": "stream",
     "text": [
      "Set parameter Username\n",
      "Academic license - for non-commercial use only - expires 2022-11-07\n",
      "Gurobi Optimizer version 9.5.0 build v9.5.0rc5 (linux64)\n",
      "Thread count: 8 physical cores, 16 logical processors, using up to 16 threads\n",
      "Optimize a model with 92 rows, 92 columns and 253 nonzeros\n",
      "Model fingerprint: 0x7da111ae\n",
      "Model has 5 quadratic objective terms\n",
      "Model has 5 quadratic constraints\n",
      "Variable types: 62 continuous, 30 integer (30 binary)\n",
      "Coefficient statistics:\n",
      "  Matrix range     [1e+00, 5e+01]\n",
      "  QMatrix range    [2e-02, 1e-01]\n",
      "  QLMatrix range   [2e-01, 1e+00]\n",
      "  Objective range  [1e+03, 2e+03]\n",
      "  QObjective range [2e+02, 3e+02]\n",
      "  Bounds range     [1e+00, 5e+01]\n",
      "  RHS range        [1e+00, 1e+02]\n",
      "  QRHS range       [2e+00, 1e+01]\n",
      "Presolve removed 66 rows and 43 columns\n",
      "Presolve time: 0.00s\n",
      "Presolved: 26 rows, 49 columns, 120 nonzeros\n",
      "Variable types: 25 continuous, 24 integer (24 binary)\n",
      "Found heuristic solution: objective 1491.0000000\n",
      "\n",
      "Root relaxation: objective 4.870000e+02, 35 iterations, 0.00 seconds (0.00 work units)\n",
      "\n",
      "    Nodes    |    Current Node    |     Objective Bounds      |     Work\n",
      " Expl Unexpl |  Obj  Depth IntInf | Incumbent    BestBd   Gap | It/Node Time\n",
      "\n",
      "     0     0  487.00000    0    2 1491.00000  487.00000  67.3%     -    0s\n",
      "H    0     0                    1098.0000000  487.00000  55.6%     -    0s\n",
      "\n",
      "Cutting planes:\n",
      "  Gomory: 1\n",
      "  Cover: 1\n",
      "  MIR: 1\n",
      "\n",
      "Explored 1 nodes (35 simplex iterations) in 0.00 seconds (0.00 work units)\n",
      "Thread count was 16 (of 16 available processors)\n",
      "\n",
      "Solution count 2: 1098 1491 \n",
      "\n",
      "Optimal solution found (tolerance 1.00e-04)\n",
      "Best objective 1.098000000000e+03, best bound 1.098000000000e+03, gap 0.0000%\n",
      "\n",
      "User-callback calls 557, time in user-callback 0.00 sec\n"
     ]
    },
    {
     "name": "stderr",
     "output_type": "stream",
     "text": [
      "┌ Warning: Axis contains one element: 1. If intended, you can safely ignore this warning. To explicitly pass the axis with one element, pass `[1]` instead of `1`.\n",
      "└ @ JuMP.Containers /home/thakker.8/.julia/packages/JuMP/2IF9U/src/Containers/DenseAxisArray.jl:156\n"
     ]
    },
    {
     "data": {
      "text/plain": [
       "5-element Vector{Float64}:\n",
       " -0.0\n",
       "  1.0\n",
       " -0.0\n",
       "  0.0\n",
       " -0.0"
      ]
     },
     "execution_count": 91,
     "metadata": {},
     "output_type": "execute_result"
    }
   ],
   "source": [
    "yk, tk, xk, yi, ti, s, co2=tech_roadmap()\n",
    "yi"
   ]
  },
  {
   "cell_type": "code",
   "execution_count": 92,
   "id": "385863c0",
   "metadata": {},
   "outputs": [
    {
     "data": {
      "text/plain": [
       "25-element Vector{Float64}:\n",
       "  0.0\n",
       " -0.0\n",
       " -0.0\n",
       " -0.0\n",
       "  0.0\n",
       " 50.0\n",
       " -0.0\n",
       " -0.0\n",
       " -0.0\n",
       " -0.0\n",
       "  0.0\n",
       " -0.0\n",
       " -0.0\n",
       " -0.0\n",
       "  0.0\n",
       " -0.0\n",
       " -0.0\n",
       " -0.0\n",
       " -0.0\n",
       " -0.0\n",
       "  0.0\n",
       " -0.0\n",
       " -0.0\n",
       " -0.0\n",
       "  0.0"
      ]
     },
     "execution_count": 92,
     "metadata": {},
     "output_type": "execute_result"
    }
   ],
   "source": [
    "tk"
   ]
  },
  {
   "cell_type": "code",
   "execution_count": 93,
   "id": "f1bc445a-189b-46db-9787-4d7e0bb692ee",
   "metadata": {},
   "outputs": [
    {
     "data": {
      "text/plain": [
       "73.0"
      ]
     },
     "execution_count": 93,
     "metadata": {},
     "output_type": "execute_result"
    }
   ],
   "source": [
    "co2"
   ]
  },
  {
   "cell_type": "code",
   "execution_count": 151,
   "id": "aaa08e92-1891-4d57-9f48-64bb590664a1",
   "metadata": {},
   "outputs": [
    {
     "data": {
      "text/plain": [
       "5-element Vector{Float64}:\n",
       "  2.0\n",
       "  6.0\n",
       "  3.0\n",
       " 12.0\n",
       "  5.0"
      ]
     },
     "execution_count": 151,
     "metadata": {},
     "output_type": "execute_result"
    }
   ],
   "source": [
    "s"
   ]
  },
  {
   "cell_type": "code",
   "execution_count": 94,
   "id": "7daab2db",
   "metadata": {},
   "outputs": [
    {
     "data": {
      "text/html": [
       "<div class=\"data-frame\"><p>5 rows × 33 columns (omitted printing of 24 columns)</p><table class=\"data-frame\"><thead><tr><th></th><th>i</th><th>Cost_per_RL</th><th>RL</th><th>Sojourn1</th><th>Sojourn2</th><th>Sojourn3</th><th>Sojourn4</th><th>Sojourn5</th><th>P11</th></tr><tr><th></th><th title=\"Int64\">Int64</th><th title=\"Int64\">Int64</th><th title=\"Int64\">Int64</th><th title=\"Float64\">Float64</th><th title=\"Float64\">Float64</th><th title=\"Float64\">Float64</th><th title=\"Float64\">Float64</th><th title=\"Float64\">Float64</th><th title=\"Int64\">Int64</th></tr></thead><tbody><tr><th>1</th><td>1</td><td>92</td><td>2</td><td>4.6</td><td>1.34</td><td>2.04</td><td>0.12</td><td>8.86</td><td>0</td></tr><tr><th>2</th><td>2</td><td>122</td><td>3</td><td>8.32</td><td>8.84</td><td>6.0</td><td>9.9</td><td>9.65</td><td>0</td></tr><tr><th>3</th><td>3</td><td>78</td><td>1</td><td>4.44</td><td>1.21</td><td>5.09</td><td>6.52</td><td>8.67</td><td>0</td></tr><tr><th>4</th><td>4</td><td>131</td><td>3</td><td>5.48</td><td>7.62</td><td>3.34</td><td>5.05</td><td>5.6</td><td>0</td></tr><tr><th>5</th><td>5</td><td>95</td><td>1</td><td>9.94</td><td>2.38</td><td>7.94</td><td>3.82</td><td>5.44</td><td>0</td></tr></tbody></table></div>"
      ],
      "text/latex": [
       "\\begin{tabular}{r|cccccccccc}\n",
       "\t& i & Cost\\_per\\_RL & RL & Sojourn1 & Sojourn2 & Sojourn3 & Sojourn4 & Sojourn5 & P11 & \\\\\n",
       "\t\\hline\n",
       "\t& Int64 & Int64 & Int64 & Float64 & Float64 & Float64 & Float64 & Float64 & Int64 & \\\\\n",
       "\t\\hline\n",
       "\t1 & 1 & 92 & 2 & 4.6 & 1.34 & 2.04 & 0.12 & 8.86 & 0 & $\\dots$ \\\\\n",
       "\t2 & 2 & 122 & 3 & 8.32 & 8.84 & 6.0 & 9.9 & 9.65 & 0 & $\\dots$ \\\\\n",
       "\t3 & 3 & 78 & 1 & 4.44 & 1.21 & 5.09 & 6.52 & 8.67 & 0 & $\\dots$ \\\\\n",
       "\t4 & 4 & 131 & 3 & 5.48 & 7.62 & 3.34 & 5.05 & 5.6 & 0 & $\\dots$ \\\\\n",
       "\t5 & 5 & 95 & 1 & 9.94 & 2.38 & 7.94 & 3.82 & 5.44 & 0 & $\\dots$ \\\\\n",
       "\\end{tabular}\n"
      ],
      "text/plain": [
       "\u001b[1m5×33 DataFrame\u001b[0m\n",
       "\u001b[1m Row \u001b[0m│\u001b[1m i     \u001b[0m\u001b[1m Cost_per_RL \u001b[0m\u001b[1m RL    \u001b[0m\u001b[1m Sojourn1 \u001b[0m\u001b[1m Sojourn2 \u001b[0m\u001b[1m Sojourn3 \u001b[0m\u001b[1m Sojourn4 \u001b[0m\u001b[1m Sojo\u001b[0m ⋯\n",
       "\u001b[1m     \u001b[0m│\u001b[90m Int64 \u001b[0m\u001b[90m Int64       \u001b[0m\u001b[90m Int64 \u001b[0m\u001b[90m Float64  \u001b[0m\u001b[90m Float64  \u001b[0m\u001b[90m Float64  \u001b[0m\u001b[90m Float64  \u001b[0m\u001b[90m Floa\u001b[0m ⋯\n",
       "─────┼──────────────────────────────────────────────────────────────────────────\n",
       "   1 │     1           92      2      4.6       1.34      2.04      0.12       ⋯\n",
       "   2 │     2          122      3      8.32      8.84      6.0       9.9\n",
       "   3 │     3           78      1      4.44      1.21      5.09      6.52\n",
       "   4 │     4          131      3      5.48      7.62      3.34      5.05\n",
       "   5 │     5           95      1      9.94      2.38      7.94      3.82       ⋯\n",
       "\u001b[36m                                                              26 columns omitted\u001b[0m"
      ]
     },
     "execution_count": 94,
     "metadata": {},
     "output_type": "execute_result"
    }
   ],
   "source": [
    "innovations"
   ]
  },
  {
   "cell_type": "code",
   "execution_count": 35,
   "id": "a60414f8",
   "metadata": {},
   "outputs": [
    {
     "data": {
      "text/plain": [
       "2-element Vector{Vector{Vector{Real}}}:\n",
       " [[0, 0.76, 0.21, 0.03, 0]]\n",
       " [[0, 0.76, 0.21, 0.03, 0]]"
      ]
     },
     "execution_count": 35,
     "metadata": {},
     "output_type": "execute_result"
    }
   ],
   "source": [
    "i=1\n",
    "eDtmc=[[collect(innovations[i,9:13])],[collect(innovations[i,9:13])]]"
   ]
  },
  {
   "cell_type": "code",
   "execution_count": 36,
   "id": "525e6be7",
   "metadata": {},
   "outputs": [
    {
     "data": {
      "text/html": [
       "<p>DataFrameRow (5 columns)</p><div class=\"data-frame\"><table class=\"data-frame\"><thead><tr><th></th><th>P11</th><th>P12</th><th>P13</th><th>P14</th><th>P15</th></tr><tr><th></th><th title=\"Int64\">Int64</th><th title=\"Float64\">Float64</th><th title=\"Float64\">Float64</th><th title=\"Float64\">Float64</th><th title=\"Int64\">Int64</th></tr></thead><tbody><tr><th>1</th><td>0</td><td>0.76</td><td>0.21</td><td>0.03</td><td>0</td></tr></tbody></table></div>"
      ],
      "text/latex": [
       "\\begin{tabular}{r|ccccc}\n",
       "\t& P11 & P12 & P13 & P14 & P15\\\\\n",
       "\t\\hline\n",
       "\t& Int64 & Float64 & Float64 & Float64 & Int64\\\\\n",
       "\t\\hline\n",
       "\t1 & 0 & 0.76 & 0.21 & 0.03 & 0 \\\\\n",
       "\\end{tabular}\n"
      ],
      "text/plain": [
       "\u001b[1mDataFrameRow\u001b[0m\n",
       "\u001b[1m Row \u001b[0m│\u001b[1m P11   \u001b[0m\u001b[1m P12     \u001b[0m\u001b[1m P13     \u001b[0m\u001b[1m P14     \u001b[0m\u001b[1m P15   \u001b[0m\n",
       "\u001b[1m     \u001b[0m│\u001b[90m Int64 \u001b[0m\u001b[90m Float64 \u001b[0m\u001b[90m Float64 \u001b[0m\u001b[90m Float64 \u001b[0m\u001b[90m Int64 \u001b[0m\n",
       "─────┼─────────────────────────────────────────\n",
       "   1 │     0     0.76     0.21     0.03      0"
      ]
     },
     "execution_count": 36,
     "metadata": {},
     "output_type": "execute_result"
    }
   ],
   "source": [
    "innovations[1,9:13]"
   ]
  },
  {
   "cell_type": "code",
   "execution_count": 37,
   "id": "048bd6da",
   "metadata": {},
   "outputs": [
    {
     "data": {
      "text/plain": [
       "5-element Vector{Real}:\n",
       " 0\n",
       " 0.76\n",
       " 0.21\n",
       " 0.03\n",
       " 0"
      ]
     },
     "execution_count": 37,
     "metadata": {},
     "output_type": "execute_result"
    }
   ],
   "source": [
    "collect(innovations[i,9:13])"
   ]
  },
  {
   "cell_type": "code",
   "execution_count": 38,
   "id": "2945163c",
   "metadata": {},
   "outputs": [
    {
     "data": {
      "text/plain": [
       "5×5 Matrix{Float64}:\n",
       " -0.321923    0.298347    0.0235756    0.0          0.0\n",
       "  0.17027    -0.211907    0.0394892    0.00214724   0.0\n",
       "  0.043018    0.483471   -0.557164     0.0306748    0.0\n",
       "  0.0119369   0.0446281   0.125344    -0.297249     0.11534\n",
       "  0.0         0.0         0.00805501   0.120552    -0.128607"
      ]
     },
     "execution_count": 38,
     "metadata": {},
     "output_type": "execute_result"
    }
   ],
   "source": [
    "g=get_rate_mat(3)"
   ]
  },
  {
   "cell_type": "code",
   "execution_count": 39,
   "id": "9d70e055",
   "metadata": {},
   "outputs": [
    {
     "data": {
      "image/svg+xml": [
       "<?xml version=\"1.0\" encoding=\"utf-8\"?>\n",
       "<svg xmlns=\"http://www.w3.org/2000/svg\" xmlns:xlink=\"http://www.w3.org/1999/xlink\" width=\"600\" height=\"400\" viewBox=\"0 0 2400 1600\">\n",
       "<defs>\n",
       "  <clipPath id=\"clip830\">\n",
       "    <rect x=\"0\" y=\"0\" width=\"2400\" height=\"1600\"/>\n",
       "  </clipPath>\n",
       "</defs>\n",
       "<path clip-path=\"url(#clip830)\" d=\"\n",
       "M0 1600 L2400 1600 L2400 0 L0 0  Z\n",
       "  \" fill=\"#ffffff\" fill-rule=\"evenodd\" fill-opacity=\"1\"/>\n",
       "<defs>\n",
       "  <clipPath id=\"clip831\">\n",
       "    <rect x=\"480\" y=\"0\" width=\"1681\" height=\"1600\"/>\n",
       "  </clipPath>\n",
       "</defs>\n",
       "<path clip-path=\"url(#clip830)\" d=\"\n",
       "M447.244 1552.76 L1952.76 1552.76 L1952.76 47.2441 L447.244 47.2441  Z\n",
       "  \" fill=\"#ffffff\" fill-rule=\"evenodd\" fill-opacity=\"1\"/>\n",
       "<defs>\n",
       "  <clipPath id=\"clip832\">\n",
       "    <rect x=\"447\" y=\"47\" width=\"1507\" height=\"1507\"/>\n",
       "  </clipPath>\n",
       "</defs>\n",
       "<polyline clip-path=\"url(#clip832)\" style=\"stroke:#000000; stroke-linecap:butt; stroke-linejoin:round; stroke-width:4; stroke-opacity:0.7; fill:none\" points=\"\n",
       "  1697.76,1455.03 1702.04,1460.75 1706.31,1466.43 1710.55,1472.06 1714.75,1477.6 1718.91,1483.01 1723,1488.27 1727.02,1493.35 1730.95,1498.21 1734.78,1502.82 \n",
       "  1738.5,1507.16 1742.09,1511.2 1745.55,1514.89 1748.86,1518.22 1752.01,1521.18 1755.01,1523.78 1757.84,1526.01 1760.51,1527.89 1763.01,1529.43 1765.34,1530.62 \n",
       "  1767.49,1531.47 1769.46,1532 1771.26,1532.2 1772.87,1532.08 1774.28,1531.65 1775.51,1530.91 1776.54,1529.87 1777.37,1528.52 1777.98,1526.86 1778.37,1524.89 \n",
       "  1778.53,1522.61 1778.45,1520.01 1778.12,1517.1 1777.54,1513.86 1776.7,1510.31 1775.58,1506.44 1774.19,1502.24 1772.5,1497.72 1770.53,1492.88 1768.3,1487.74 \n",
       "  1765.83,1482.34 1763.14,1476.69 1760.26,1470.84 1757.21,1464.79 1754.01,1458.59 1750.7,1452.25 1747.29,1445.8 1743.81,1439.28 1740.28,1432.7 1736.72,1426.09 \n",
       "  \n",
       "  \"/>\n",
       "<polyline clip-path=\"url(#clip832)\" style=\"stroke:#000000; stroke-linecap:butt; stroke-linejoin:round; stroke-width:4; stroke-opacity:0.7; fill:none\" points=\"\n",
       "  1737.93,1466.32 1736.72,1426.09 1769.63,1449.27 \n",
       "  \"/>\n",
       "<polyline clip-path=\"url(#clip832)\" style=\"stroke:#000000; stroke-linecap:butt; stroke-linejoin:round; stroke-width:4; stroke-opacity:0.7; fill:none\" points=\"\n",
       "  1736.72,1426.09 1740.28,1432.7 \n",
       "  \"/>\n",
       "<polyline clip-path=\"url(#clip832)\" style=\"stroke:#000000; stroke-linecap:butt; stroke-linejoin:round; stroke-width:4; stroke-opacity:0.7; fill:none\" points=\"\n",
       "  1652.27,1337.68 1666.69,1318.86 1681.08,1300.04 1695.38,1281.23 1709.57,1262.45 1723.59,1243.7 1737.42,1225 1751.02,1206.34 1764.34,1187.73 1777.34,1169.19 \n",
       "  1789.99,1150.72 1802.24,1132.33 1814.06,1114.02 1825.41,1095.81 1836.24,1077.71 1846.52,1059.71 1856.21,1041.84 1865.27,1024.09 1873.66,1006.47 1881.34,989.002 \n",
       "  1888.27,971.681 1894.42,954.518 1899.73,937.523 1904.18,920.701 1907.72,904.062 1910.31,887.612 1911.97,871.353 1912.71,855.276 1912.59,839.373 1911.64,823.637 \n",
       "  1909.9,808.06 1907.41,792.633 1904.21,777.348 1900.34,762.199 1895.84,747.176 1890.75,732.273 1885.11,717.48 1878.95,702.79 1872.33,688.196 1865.26,673.688 \n",
       "  1857.81,659.26 1850,644.903 1841.87,630.61 1833.47,616.372 1824.83,602.182 1815.99,588.031 1807,573.913 1797.89,559.817 1788.7,545.738 1779.47,531.667 \n",
       "  \n",
       "  \"/>\n",
       "<polyline clip-path=\"url(#clip832)\" style=\"stroke:#000000; stroke-linecap:butt; stroke-linejoin:round; stroke-width:4; stroke-opacity:0.7; fill:none\" points=\"\n",
       "  1784.16,571.641 1779.47,531.667 1814.26,551.896 \n",
       "  \"/>\n",
       "<polyline clip-path=\"url(#clip832)\" style=\"stroke:#000000; stroke-linecap:butt; stroke-linejoin:round; stroke-width:4; stroke-opacity:0.7; fill:none\" points=\"\n",
       "  1779.47,531.667 1788.7,545.738 \n",
       "  \"/>\n",
       "<polyline clip-path=\"url(#clip832)\" style=\"stroke:#000000; stroke-linecap:butt; stroke-linejoin:round; stroke-width:4; stroke-opacity:0.7; fill:none\" points=\"\n",
       "  1652.27,1337.68 1637,1345.24 1621.76,1352.78 1606.56,1360.25 1591.42,1367.63 1576.37,1374.9 1561.43,1382.02 1546.62,1388.96 1531.97,1395.7 1517.49,1402.19 \n",
       "  1503.21,1408.43 1489.15,1414.37 1475.33,1419.98 1461.77,1425.24 1448.49,1430.12 1435.53,1434.58 1422.89,1438.6 1410.6,1442.14 1398.69,1445.19 1387.17,1447.71 \n",
       "  1376.07,1449.66 1365.4,1451.02 1355.2,1451.77 1345.48,1451.86 1336.26,1451.28 1327.57,1449.98 1319.4,1447.99 1311.74,1445.31 1304.56,1441.98 1297.84,1438.03 \n",
       "  1291.56,1433.5 1285.69,1428.4 1280.22,1422.77 1275.12,1416.64 1270.38,1410.04 1265.96,1402.99 1261.85,1395.53 1258.02,1387.69 1254.46,1379.49 1251.14,1370.97 \n",
       "  1248.03,1362.16 1245.13,1353.07 1242.4,1343.76 1239.82,1334.23 1237.38,1324.53 1235.04,1314.68 1232.79,1304.71 1230.61,1294.66 1228.47,1284.54 1226.36,1274.4 \n",
       "  \n",
       "  \"/>\n",
       "<polyline clip-path=\"url(#clip832)\" style=\"stroke:#000000; stroke-linecap:butt; stroke-linejoin:round; stroke-width:4; stroke-opacity:0.7; fill:none\" points=\"\n",
       "  1216.09,1313.31 1226.36,1274.4 1251.33,1305.96 \n",
       "  \"/>\n",
       "<polyline clip-path=\"url(#clip832)\" style=\"stroke:#000000; stroke-linecap:butt; stroke-linejoin:round; stroke-width:4; stroke-opacity:0.7; fill:none\" points=\"\n",
       "  1226.36,1274.4 1228.47,1284.54 \n",
       "  \"/>\n",
       "<polyline clip-path=\"url(#clip832)\" style=\"stroke:#000000; stroke-linecap:butt; stroke-linejoin:round; stroke-width:4; stroke-opacity:0.7; fill:none\" points=\"\n",
       "  1737.68,414.324 1723.26,433.151 1708.88,451.97 1694.57,470.774 1680.39,489.554 1666.36,508.302 1652.53,527.01 1638.94,545.671 1625.62,564.276 1612.62,582.818 \n",
       "  1599.97,601.289 1587.72,619.68 1575.9,637.984 1564.55,656.193 1553.72,674.299 1543.43,692.294 1533.74,710.17 1524.68,727.919 1516.29,745.533 1508.61,763.005 \n",
       "  1501.68,780.326 1495.54,797.488 1490.22,814.484 1485.78,831.306 1482.24,847.945 1479.64,864.394 1477.99,880.654 1477.25,896.731 1477.37,912.633 1478.32,928.369 \n",
       "  1480.06,943.947 1482.55,959.374 1485.74,974.658 1489.61,989.808 1494.11,1004.83 1499.2,1019.73 1504.85,1034.53 1511,1049.22 1517.63,1063.81 1524.69,1078.32 \n",
       "  1532.15,1092.75 1539.96,1107.1 1548.08,1121.4 1556.49,1135.63 1565.12,1149.82 1573.96,1163.98 1582.95,1178.09 1592.07,1192.19 1601.26,1206.27 1610.49,1220.34 \n",
       "  \n",
       "  \"/>\n",
       "<polyline clip-path=\"url(#clip832)\" style=\"stroke:#000000; stroke-linecap:butt; stroke-linejoin:round; stroke-width:4; stroke-opacity:0.7; fill:none\" points=\"\n",
       "  1605.79,1180.37 1610.49,1220.34 1575.69,1200.11 \n",
       "  \"/>\n",
       "<polyline clip-path=\"url(#clip832)\" style=\"stroke:#000000; stroke-linecap:butt; stroke-linejoin:round; stroke-width:4; stroke-opacity:0.7; fill:none\" points=\"\n",
       "  1610.49,1220.34 1601.26,1206.27 \n",
       "  \"/>\n",
       "<polyline clip-path=\"url(#clip832)\" style=\"stroke:#000000; stroke-linecap:butt; stroke-linejoin:round; stroke-width:4; stroke-opacity:0.7; fill:none\" points=\"\n",
       "  1628.45,459.814 1645.52,450.637 1662.47,441.511 1679.18,432.488 1695.51,423.618 1711.36,414.954 1726.6,406.546 1741.11,398.447 1754.76,390.706 1767.44,383.376 \n",
       "  1779.01,376.507 1789.37,370.152 1798.38,364.361 1805.94,359.18 1812.09,354.6 1816.9,350.589 1820.49,347.109 1822.95,344.128 1824.38,341.608 1824.87,339.517 \n",
       "  1824.53,337.818 1823.45,336.478 1821.73,335.46 1819.46,334.73 1816.75,334.253 1813.69,333.995 1810.37,333.923 1806.9,334.006 1803.35,334.216 1799.81,334.522 \n",
       "  1796.38,334.894 1793.15,335.304 1790.2,335.72 1787.63,336.113 1785.52,336.454 1783.98,336.712 1783.08,336.858 1782.91,336.861 1783.52,336.707 1784.86,336.405 \n",
       "  1786.85,335.969 1789.43,335.411 1792.53,334.747 1796.1,333.988 1800.06,333.149 1804.34,332.243 1808.89,331.282 1813.64,330.282 1818.52,329.255 1823.46,328.214 \n",
       "  \n",
       "  \"/>\n",
       "<polyline clip-path=\"url(#clip832)\" style=\"stroke:#000000; stroke-linecap:butt; stroke-linejoin:round; stroke-width:4; stroke-opacity:0.7; fill:none\" points=\"\n",
       "  1784.53,318.015 1823.46,328.214 1791.94,353.243 \n",
       "  \"/>\n",
       "<polyline clip-path=\"url(#clip832)\" style=\"stroke:#000000; stroke-linecap:butt; stroke-linejoin:round; stroke-width:4; stroke-opacity:0.7; fill:none\" points=\"\n",
       "  1823.46,328.214 1818.52,329.255 \n",
       "  \"/>\n",
       "<polyline clip-path=\"url(#clip832)\" style=\"stroke:#000000; stroke-linecap:butt; stroke-linejoin:round; stroke-width:4; stroke-opacity:0.7; fill:none\" points=\"\n",
       "  1737.68,414.324 1735.16,438.166 1732.62,461.976 1730.02,485.722 1727.36,509.369 1724.6,532.886 1721.72,556.241 1718.69,579.401 1715.5,602.333 1712.11,625.006 \n",
       "  1708.51,647.385 1704.67,669.44 1700.57,691.136 1696.17,712.443 1691.47,733.327 1686.43,753.756 1681.03,773.697 1675.24,793.118 1669.05,811.986 1662.43,830.269 \n",
       "  1655.35,847.935 1647.79,864.95 1639.73,881.282 1631.13,896.899 1621.99,911.769 1612.27,925.859 1601.98,939.17 1591.14,951.734 1579.76,963.583 1567.89,974.748 \n",
       "  1555.53,985.264 1542.72,995.162 1529.47,1004.47 1515.82,1013.23 1501.79,1021.47 1487.39,1029.23 1472.66,1036.52 1457.62,1043.4 1442.29,1049.88 1426.69,1056.01 \n",
       "  1410.86,1061.81 1394.8,1067.32 1378.56,1072.57 1362.15,1077.59 1345.6,1082.41 1328.92,1087.08 1312.15,1091.61 1295.31,1096.05 1278.42,1100.42 1261.5,1104.75 \n",
       "  \n",
       "  \"/>\n",
       "<polyline clip-path=\"url(#clip832)\" style=\"stroke:#000000; stroke-linecap:butt; stroke-linejoin:round; stroke-width:4; stroke-opacity:0.7; fill:none\" points=\"\n",
       "  1300.84,1113.25 1261.5,1104.75 1291.9,1078.37 \n",
       "  \"/>\n",
       "<polyline clip-path=\"url(#clip832)\" style=\"stroke:#000000; stroke-linecap:butt; stroke-linejoin:round; stroke-width:4; stroke-opacity:0.7; fill:none\" points=\"\n",
       "  1261.5,1104.75 1278.42,1100.42 \n",
       "  \"/>\n",
       "<polyline clip-path=\"url(#clip832)\" style=\"stroke:#000000; stroke-linecap:butt; stroke-linejoin:round; stroke-width:4; stroke-opacity:0.7; fill:none\" points=\"\n",
       "  1737.68,414.324 1722.95,422.691 1708.24,431.028 1693.57,439.303 1678.96,447.486 1664.43,455.546 1650,463.452 1635.69,471.173 1621.52,478.679 1607.52,485.938 \n",
       "  1593.69,492.92 1580.07,499.595 1566.67,505.93 1553.51,511.897 1540.62,517.463 1528.01,522.598 1515.7,527.271 1503.71,531.452 1492.07,535.11 1480.79,538.213 \n",
       "  1469.9,540.731 1459.4,542.634 1449.34,543.89 1439.71,544.469 1430.55,544.34 1421.88,543.474 1413.69,541.869 1405.96,539.557 1398.68,536.568 1391.82,532.932 \n",
       "  1385.37,528.68 1379.3,523.843 1373.59,518.453 1368.23,512.539 1363.18,506.132 1358.45,499.263 1353.99,491.964 1349.8,484.264 1345.85,476.195 1342.12,467.788 \n",
       "  1338.59,459.072 1335.25,450.08 1332.07,440.841 1329.03,431.386 1326.1,421.747 1323.29,411.954 1320.55,402.038 1317.87,392.03 1315.23,381.96 1312.61,371.859 \n",
       "  \n",
       "  \"/>\n",
       "<polyline clip-path=\"url(#clip832)\" style=\"stroke:#000000; stroke-linecap:butt; stroke-linejoin:round; stroke-width:4; stroke-opacity:0.7; fill:none\" points=\"\n",
       "  1304.22,411.223 1312.61,371.859 1339.07,402.192 \n",
       "  \"/>\n",
       "<polyline clip-path=\"url(#clip832)\" style=\"stroke:#000000; stroke-linecap:butt; stroke-linejoin:round; stroke-width:4; stroke-opacity:0.7; fill:none\" points=\"\n",
       "  1312.61,371.859 1315.23,381.96 \n",
       "  \"/>\n",
       "<polyline clip-path=\"url(#clip832)\" style=\"stroke:#000000; stroke-linecap:butt; stroke-linejoin:round; stroke-width:4; stroke-opacity:0.7; fill:none\" points=\"\n",
       "  1157.41,1159.14 1172.67,1151.58 1187.92,1144.05 1203.12,1136.57 1218.26,1129.19 1233.31,1121.92 1248.25,1114.8 1263.05,1107.86 1277.71,1101.13 1292.19,1094.63 \n",
       "  1306.47,1088.39 1320.53,1082.46 1334.35,1076.84 1347.91,1071.58 1361.18,1066.71 1374.15,1062.25 1386.79,1058.23 1399.07,1054.68 1410.99,1051.63 1422.51,1049.12 \n",
       "  1433.61,1047.16 1444.27,1045.8 1454.48,1045.06 1464.2,1044.96 1473.42,1045.55 1482.11,1046.84 1490.28,1048.84 1497.94,1051.51 1505.12,1054.84 1511.84,1058.79 \n",
       "  1518.12,1063.33 1523.99,1068.42 1529.46,1074.05 1534.55,1080.18 1539.3,1086.79 1543.72,1093.83 1547.83,1101.29 1551.66,1109.13 1555.22,1117.33 1558.54,1125.85 \n",
       "  1561.64,1134.67 1564.55,1143.75 1567.28,1153.07 1569.85,1162.59 1572.3,1172.29 1574.64,1182.14 1576.88,1192.11 1579.06,1202.17 1581.2,1212.28 1583.32,1222.43 \n",
       "  \n",
       "  \"/>\n",
       "<polyline clip-path=\"url(#clip832)\" style=\"stroke:#000000; stroke-linecap:butt; stroke-linejoin:round; stroke-width:4; stroke-opacity:0.7; fill:none\" points=\"\n",
       "  1593.59,1183.51 1583.32,1222.43 1558.35,1190.86 \n",
       "  \"/>\n",
       "<polyline clip-path=\"url(#clip832)\" style=\"stroke:#000000; stroke-linecap:butt; stroke-linejoin:round; stroke-width:4; stroke-opacity:0.7; fill:none\" points=\"\n",
       "  1583.32,1222.43 1581.2,1212.28 \n",
       "  \"/>\n",
       "<polyline clip-path=\"url(#clip832)\" style=\"stroke:#000000; stroke-linecap:butt; stroke-linejoin:round; stroke-width:4; stroke-opacity:0.7; fill:none\" points=\"\n",
       "  1157.41,1159.14 1159.93,1135.3 1162.47,1111.49 1165.06,1087.74 1167.73,1064.1 1170.49,1040.58 1173.37,1017.22 1176.4,994.063 1179.59,971.131 1182.98,948.459 \n",
       "  1186.58,926.079 1190.42,904.025 1194.52,882.328 1198.91,861.021 1203.62,840.137 1208.66,819.708 1214.06,799.767 1219.84,780.346 1226.04,761.478 1232.66,743.195 \n",
       "  1239.74,725.53 1247.3,708.514 1255.36,692.182 1263.95,676.565 1273.1,661.696 1282.82,647.605 1293.11,634.294 1303.95,621.73 1315.33,609.882 1327.2,598.716 \n",
       "  1339.56,588.2 1352.37,578.303 1365.61,568.99 1379.27,560.23 1393.3,551.991 1407.7,544.239 1422.43,536.942 1437.47,530.068 1452.8,523.584 1468.4,517.457 \n",
       "  1484.23,511.656 1500.28,506.147 1516.53,500.899 1532.94,495.878 1549.49,491.052 1566.17,486.388 1582.94,481.855 1599.78,477.419 1616.67,473.048 1633.59,468.71 \n",
       "  \n",
       "  \"/>\n",
       "<polyline clip-path=\"url(#clip832)\" style=\"stroke:#000000; stroke-linecap:butt; stroke-linejoin:round; stroke-width:4; stroke-opacity:0.7; fill:none\" points=\"\n",
       "  1594.24,460.218 1633.59,468.71 1603.19,495.09 \n",
       "  \"/>\n",
       "<polyline clip-path=\"url(#clip832)\" style=\"stroke:#000000; stroke-linecap:butt; stroke-linejoin:round; stroke-width:4; stroke-opacity:0.7; fill:none\" points=\"\n",
       "  1633.59,468.71 1616.67,473.048 \n",
       "  \"/>\n",
       "<polyline clip-path=\"url(#clip832)\" style=\"stroke:#000000; stroke-linecap:butt; stroke-linejoin:round; stroke-width:4; stroke-opacity:0.7; fill:none\" points=\"\n",
       "  1245.51,1077.06 1232.46,1092.02 1219.52,1106.88 1206.77,1121.56 1194.31,1135.96 1182.25,1149.98 1170.68,1163.54 1159.71,1176.53 1149.42,1188.86 1139.92,1200.44 \n",
       "  1131.31,1211.17 1123.68,1220.97 1117.13,1229.73 1111.76,1237.38 1107.53,1243.92 1104.36,1249.45 1102.18,1254.01 1100.9,1257.68 1100.44,1260.54 1100.71,1262.65 \n",
       "  1101.65,1264.08 1103.16,1264.9 1105.17,1265.19 1107.59,1265.01 1110.34,1264.43 1113.35,1263.53 1116.53,1262.36 1119.8,1260.99 1123.1,1259.49 1126.34,1257.92 \n",
       "  1129.45,1256.33 1132.35,1254.8 1134.97,1253.38 1137.23,1252.14 1139.05,1251.14 1140.37,1250.45 1141.09,1250.12 1141.16,1250.21 1140.53,1250.77 1139.25,1251.75 \n",
       "  1137.39,1253.12 1134.99,1254.83 1132.13,1256.86 1128.86,1259.16 1125.23,1261.69 1121.31,1264.42 1117.15,1267.3 1112.82,1270.3 1108.37,1273.37 1103.87,1276.48 \n",
       "  \n",
       "  \"/>\n",
       "<polyline clip-path=\"url(#clip832)\" style=\"stroke:#000000; stroke-linecap:butt; stroke-linejoin:round; stroke-width:4; stroke-opacity:0.7; fill:none\" points=\"\n",
       "  1143.72,1270.84 1103.87,1276.48 1123.26,1241.21 \n",
       "  \"/>\n",
       "<polyline clip-path=\"url(#clip832)\" style=\"stroke:#000000; stroke-linecap:butt; stroke-linejoin:round; stroke-width:4; stroke-opacity:0.7; fill:none\" points=\"\n",
       "  1103.87,1276.48 1108.37,1273.37 \n",
       "  \"/>\n",
       "<polyline clip-path=\"url(#clip832)\" style=\"stroke:#000000; stroke-linecap:butt; stroke-linejoin:round; stroke-width:4; stroke-opacity:0.7; fill:none\" points=\"\n",
       "  1157.41,1159.14 1171.76,1140.85 1186.08,1122.58 1200.32,1104.31 1214.44,1086.08 1228.4,1067.87 1242.17,1049.7 1255.7,1031.58 1268.96,1013.52 1281.9,995.52 \n",
       "  1294.49,977.591 1306.69,959.741 1318.45,941.979 1329.75,924.311 1340.53,906.747 1350.76,889.294 1360.41,871.959 1369.42,854.752 1377.77,837.679 1385.41,820.749 \n",
       "  1392.3,803.969 1398.41,787.349 1403.7,770.894 1408.12,754.614 1411.63,738.516 1414.21,722.609 1415.85,706.891 1416.58,691.355 1416.45,675.994 1415.49,660.8 \n",
       "  1413.75,645.764 1411.26,630.878 1408.06,616.135 1404.2,601.528 1399.71,587.046 1394.63,572.684 1389,558.433 1382.86,544.285 1376.24,530.232 1369.2,516.266 \n",
       "  1361.76,502.38 1353.97,488.564 1345.87,474.813 1337.49,461.116 1328.87,447.468 1320.06,433.859 1311.09,420.281 1302.01,406.728 1292.84,393.19 1283.64,379.66 \n",
       "  \n",
       "  \"/>\n",
       "<polyline clip-path=\"url(#clip832)\" style=\"stroke:#000000; stroke-linecap:butt; stroke-linejoin:round; stroke-width:4; stroke-opacity:0.7; fill:none\" points=\"\n",
       "  1289,419.55 1283.64,379.66 1318.77,399.301 \n",
       "  \"/>\n",
       "<polyline clip-path=\"url(#clip832)\" style=\"stroke:#000000; stroke-linecap:butt; stroke-linejoin:round; stroke-width:4; stroke-opacity:0.7; fill:none\" points=\"\n",
       "  1283.64,379.66 1292.84,393.19 \n",
       "  \"/>\n",
       "<polyline clip-path=\"url(#clip832)\" style=\"stroke:#000000; stroke-linecap:butt; stroke-linejoin:round; stroke-width:4; stroke-opacity:0.7; fill:none\" points=\"\n",
       "  1240.36,262.317 1261.07,280.751 1281.73,299.189 1302.31,317.635 1322.77,336.091 1343.07,354.562 1363.16,373.052 1383,391.565 1402.56,410.103 1421.79,428.671 \n",
       "  1440.64,447.273 1459.09,465.912 1477.09,484.592 1494.59,503.317 1511.56,522.09 1527.95,540.915 1543.73,559.796 1558.85,578.737 1573.27,597.741 1586.95,616.812 \n",
       "  1599.86,635.954 1611.94,655.171 1623.16,674.465 1633.47,693.842 1642.84,713.304 1651.23,732.855 1658.63,752.496 1665.09,772.223 1670.64,792.031 1675.33,811.918 \n",
       "  1679.2,831.879 1682.29,851.91 1684.65,872.009 1686.3,892.172 1687.29,912.393 1687.67,932.671 1687.48,953.001 1686.75,973.379 1685.53,993.802 1683.85,1014.27 \n",
       "  1681.77,1034.77 1679.31,1055.3 1676.53,1075.87 1673.46,1096.46 1670.14,1117.07 1666.62,1137.7 1662.93,1158.35 1659.12,1179.01 1655.23,1199.67 1651.3,1220.34 \n",
       "  \n",
       "  \"/>\n",
       "<polyline clip-path=\"url(#clip832)\" style=\"stroke:#000000; stroke-linecap:butt; stroke-linejoin:round; stroke-width:4; stroke-opacity:0.7; fill:none\" points=\"\n",
       "  1675.71,1188.34 1651.3,1220.34 1640.34,1181.61 \n",
       "  \"/>\n",
       "<polyline clip-path=\"url(#clip832)\" style=\"stroke:#000000; stroke-linecap:butt; stroke-linejoin:round; stroke-width:4; stroke-opacity:0.7; fill:none\" points=\"\n",
       "  1651.3,1220.34 1655.23,1199.67 \n",
       "  \"/>\n",
       "<polyline clip-path=\"url(#clip832)\" style=\"stroke:#000000; stroke-linecap:butt; stroke-linejoin:round; stroke-width:4; stroke-opacity:0.7; fill:none\" points=\"\n",
       "  1240.36,262.317 1255.09,253.95 1269.81,245.613 1284.48,237.338 1299.09,229.155 1313.62,221.095 1328.05,213.189 1342.36,205.468 1356.52,197.963 1370.53,190.703 \n",
       "  1384.35,183.721 1397.97,177.047 1411.37,170.711 1424.53,164.744 1437.42,159.178 1450.04,154.043 1462.35,149.37 1474.33,145.189 1485.97,141.531 1497.25,138.428 \n",
       "  1508.15,135.91 1518.64,134.007 1528.71,132.751 1538.33,132.172 1547.49,132.301 1556.16,133.167 1564.36,134.772 1572.08,137.084 1579.36,140.073 1586.22,143.709 \n",
       "  1592.68,147.961 1598.75,152.798 1604.45,158.188 1609.82,164.103 1614.86,170.509 1619.6,177.378 1624.05,184.677 1628.25,192.377 1632.2,200.446 1635.92,208.853 \n",
       "  1639.45,217.569 1642.79,226.561 1645.98,235.8 1649.02,245.255 1651.94,254.894 1654.76,264.687 1657.5,274.603 1660.18,284.611 1662.81,294.681 1665.43,304.782 \n",
       "  \n",
       "  \"/>\n",
       "<polyline clip-path=\"url(#clip832)\" style=\"stroke:#000000; stroke-linecap:butt; stroke-linejoin:round; stroke-width:4; stroke-opacity:0.7; fill:none\" points=\"\n",
       "  1673.82,265.418 1665.43,304.782 1638.98,274.449 \n",
       "  \"/>\n",
       "<polyline clip-path=\"url(#clip832)\" style=\"stroke:#000000; stroke-linecap:butt; stroke-linejoin:round; stroke-width:4; stroke-opacity:0.7; fill:none\" points=\"\n",
       "  1665.43,304.782 1662.81,294.681 \n",
       "  \"/>\n",
       "<polyline clip-path=\"url(#clip832)\" style=\"stroke:#000000; stroke-linecap:butt; stroke-linejoin:round; stroke-width:4; stroke-opacity:0.7; fill:none\" points=\"\n",
       "  1240.36,262.317 1226,280.603 1211.69,298.881 1197.45,317.143 1183.33,335.381 1169.36,353.587 1155.6,371.754 1142.06,389.873 1128.81,407.937 1115.86,425.938 \n",
       "  1103.28,443.866 1091.08,461.716 1079.31,479.479 1068.02,497.146 1057.24,514.71 1047.01,532.164 1037.36,549.498 1028.35,566.706 1020,583.779 1012.36,600.709 \n",
       "  1005.46,617.488 999.354,634.109 994.069,650.563 989.649,666.843 986.132,682.941 983.556,698.849 981.921,714.567 981.189,730.102 981.321,745.463 982.278,760.658 \n",
       "  984.02,775.694 986.508,790.579 989.704,805.322 993.567,819.93 998.058,834.411 1003.14,848.773 1008.77,863.024 1014.91,877.173 1021.52,891.226 1028.57,905.191 \n",
       "  1036,919.078 1043.79,932.893 1051.9,946.645 1060.28,960.341 1068.89,973.99 1077.7,987.599 1086.67,1001.18 1095.76,1014.73 1104.92,1028.27 1114.13,1041.8 \n",
       "  \n",
       "  \"/>\n",
       "<polyline clip-path=\"url(#clip832)\" style=\"stroke:#000000; stroke-linecap:butt; stroke-linejoin:round; stroke-width:4; stroke-opacity:0.7; fill:none\" points=\"\n",
       "  1108.76,1001.91 1114.13,1041.8 1079,1022.16 \n",
       "  \"/>\n",
       "<polyline clip-path=\"url(#clip832)\" style=\"stroke:#000000; stroke-linecap:butt; stroke-linejoin:round; stroke-width:4; stroke-opacity:0.7; fill:none\" points=\"\n",
       "  1114.13,1041.8 1104.92,1028.27 \n",
       "  \"/>\n",
       "<polyline clip-path=\"url(#clip832)\" style=\"stroke:#000000; stroke-linecap:butt; stroke-linejoin:round; stroke-width:4; stroke-opacity:0.7; fill:none\" points=\"\n",
       "  1225.45,379.66 1225.98,360.284 1226.5,341.039 1226.99,322.058 1227.43,303.47 1227.8,285.408 1228.1,268.004 1228.29,251.388 1228.37,235.693 1228.32,221.049 \n",
       "  1228.13,207.588 1227.77,195.442 1227.23,184.742 1226.5,175.603 1225.59,167.997 1224.51,161.823 1223.28,156.978 1221.91,153.36 1220.44,150.868 1218.87,149.399 \n",
       "  1217.23,148.851 1215.53,149.121 1213.79,150.109 1212.03,151.711 1210.26,153.826 1208.52,156.351 1206.81,159.189 1205.15,162.248 1203.56,165.433 1202.07,168.652 \n",
       "  1200.68,171.812 1199.43,174.82 1198.32,177.584 1197.38,180.009 1196.63,182.003 1196.08,183.474 1195.76,184.328 1195.68,184.472 1195.85,183.864 1196.25,182.555 \n",
       "  1196.86,180.611 1197.66,178.094 1198.63,175.067 1199.75,171.596 1200.99,167.742 1202.34,163.57 1203.77,159.144 1205.26,154.527 1206.8,149.782 1208.36,144.974 \n",
       "  \n",
       "  \"/>\n",
       "<polyline clip-path=\"url(#clip832)\" style=\"stroke:#000000; stroke-linecap:butt; stroke-linejoin:round; stroke-width:4; stroke-opacity:0.7; fill:none\" points=\"\n",
       "  1180.14,173.678 1208.36,144.974 1214.39,184.769 \n",
       "  \"/>\n",
       "<polyline clip-path=\"url(#clip832)\" style=\"stroke:#000000; stroke-linecap:butt; stroke-linejoin:round; stroke-width:4; stroke-opacity:0.7; fill:none\" points=\"\n",
       "  1208.36,144.974 1206.8,149.782 \n",
       "  \"/>\n",
       "<polyline clip-path=\"url(#clip832)\" style=\"stroke:#000000; stroke-linecap:butt; stroke-linejoin:round; stroke-width:4; stroke-opacity:0.7; fill:none\" points=\"\n",
       "  1240.36,262.317 1232.86,279.547 1225.36,296.739 1217.84,313.855 1210.31,330.858 1202.75,347.71 1195.17,364.374 1187.55,380.81 1179.88,396.983 1172.17,412.853 \n",
       "  1164.41,428.384 1156.59,443.537 1148.7,458.274 1140.75,472.559 1132.71,486.353 1124.6,499.618 1116.39,512.316 1108.09,524.411 1099.7,535.864 1091.19,546.637 \n",
       "  1082.58,556.692 1073.84,565.993 1064.98,574.5 1056,582.177 1046.88,588.986 1037.61,594.89 1028.21,599.889 1018.67,604.02 1009,607.32 999.209,609.827 \n",
       "  989.299,611.579 979.278,612.613 969.15,612.968 958.922,612.681 948.601,611.79 938.191,610.333 927.698,608.347 917.129,605.87 906.49,602.94 895.785,599.595 \n",
       "  885.022,595.872 874.206,591.809 863.343,587.444 852.439,582.815 841.499,577.959 830.53,572.915 819.538,567.72 808.527,562.411 797.506,557.027 786.478,551.604 \n",
       "  \n",
       "  \"/>\n",
       "<polyline clip-path=\"url(#clip832)\" style=\"stroke:#000000; stroke-linecap:butt; stroke-linejoin:round; stroke-width:4; stroke-opacity:0.7; fill:none\" points=\"\n",
       "  810.842,583.642 786.478,551.604 826.726,551.335 \n",
       "  \"/>\n",
       "<polyline clip-path=\"url(#clip832)\" style=\"stroke:#000000; stroke-linecap:butt; stroke-linejoin:round; stroke-width:4; stroke-opacity:0.7; fill:none\" points=\"\n",
       "  786.478,551.604 797.506,557.027 \n",
       "  \"/>\n",
       "<polyline clip-path=\"url(#clip832)\" style=\"stroke:#000000; stroke-linecap:butt; stroke-linejoin:round; stroke-width:4; stroke-opacity:0.7; fill:none\" points=\"\n",
       "  662.317,531.971 682.961,537.811 703.569,543.667 724.104,549.553 744.529,555.485 764.807,561.477 784.903,567.546 804.78,573.706 824.401,579.972 843.73,586.361 \n",
       "  862.729,592.886 881.363,599.563 899.596,606.408 917.389,613.435 934.708,620.66 951.515,628.098 967.773,635.765 983.447,643.674 998.5,651.843 1012.89,660.285 \n",
       "  1026.6,669.017 1039.56,678.053 1051.77,687.408 1063.16,697.098 1073.72,707.138 1083.4,717.543 1092.21,728.312 1100.18,739.431 1107.34,750.885 1113.73,762.658 \n",
       "  1119.4,774.736 1124.36,787.103 1128.68,799.744 1132.37,812.643 1135.47,825.786 1138.03,839.157 1140.07,852.741 1141.64,866.523 1142.77,880.488 1143.5,894.62 \n",
       "  1143.87,908.904 1143.9,923.325 1143.65,937.868 1143.13,952.517 1142.4,967.258 1141.49,982.074 1140.43,996.952 1139.25,1011.87 1138.01,1026.83 1136.73,1041.8 \n",
       "  \n",
       "  \"/>\n",
       "<polyline clip-path=\"url(#clip832)\" style=\"stroke:#000000; stroke-linecap:butt; stroke-linejoin:round; stroke-width:4; stroke-opacity:0.7; fill:none\" points=\"\n",
       "  1157.73,1007.46 1136.73,1041.8 1121.86,1004.39 \n",
       "  \"/>\n",
       "<polyline clip-path=\"url(#clip832)\" style=\"stroke:#000000; stroke-linecap:butt; stroke-linejoin:round; stroke-width:4; stroke-opacity:0.7; fill:none\" points=\"\n",
       "  1136.73,1041.8 1138.01,1026.83 \n",
       "  \"/>\n",
       "<polyline clip-path=\"url(#clip832)\" style=\"stroke:#000000; stroke-linecap:butt; stroke-linejoin:round; stroke-width:4; stroke-opacity:0.7; fill:none\" points=\"\n",
       "  662.317,531.971 669.815,514.741 677.319,497.549 684.835,480.433 692.368,463.43 699.925,446.577 707.511,429.914 715.133,413.477 722.795,397.305 730.505,381.435 \n",
       "  738.268,365.904 746.09,350.751 753.976,336.013 761.933,321.729 769.966,307.935 778.082,294.67 786.286,281.971 794.584,269.877 802.983,258.424 811.487,247.651 \n",
       "  820.103,237.595 828.836,228.295 837.694,219.787 846.68,212.11 855.802,205.302 865.065,199.398 874.469,194.399 884.008,190.268 893.677,186.968 903.469,184.461 \n",
       "  913.379,182.709 923.401,181.674 933.528,181.319 943.756,181.606 954.078,182.497 964.488,183.955 974.98,185.941 985.549,188.418 996.189,191.348 1006.89,194.693 \n",
       "  1017.66,198.416 1028.47,202.479 1039.34,206.844 1050.24,211.473 1061.18,216.328 1072.15,221.373 1083.14,226.568 1094.15,231.877 1105.17,237.261 1116.2,242.683 \n",
       "  \n",
       "  \"/>\n",
       "<polyline clip-path=\"url(#clip832)\" style=\"stroke:#000000; stroke-linecap:butt; stroke-linejoin:round; stroke-width:4; stroke-opacity:0.7; fill:none\" points=\"\n",
       "  1091.84,210.646 1116.2,242.683 1075.95,242.953 \n",
       "  \"/>\n",
       "<polyline clip-path=\"url(#clip832)\" style=\"stroke:#000000; stroke-linecap:butt; stroke-linejoin:round; stroke-width:4; stroke-opacity:0.7; fill:none\" points=\"\n",
       "  1116.2,242.683 1105.17,237.261 \n",
       "  \"/>\n",
       "<polyline clip-path=\"url(#clip832)\" style=\"stroke:#000000; stroke-linecap:butt; stroke-linejoin:round; stroke-width:4; stroke-opacity:0.7; fill:none\" points=\"\n",
       "  555.151,482.902 547.19,481.597 539.267,480.307 531.419,479.047 523.683,477.831 516.098,476.675 508.701,475.592 501.528,474.599 494.619,473.708 488.01,472.937 \n",
       "  481.74,472.298 475.844,471.807 470.362,471.48 465.328,471.328 460.746,471.352 456.609,471.542 452.908,471.893 449.632,472.394 446.775,473.039 444.326,473.819 \n",
       "  442.277,474.726 440.618,475.752 439.342,476.89 438.438,478.131 437.898,479.467 437.713,480.89 437.879,482.394 438.396,483.972 439.263,485.618 440.48,487.327 \n",
       "  442.048,489.093 443.966,490.909 446.234,492.77 448.853,494.671 451.822,496.604 455.142,498.565 458.811,500.547 462.831,502.544 467.193,504.552 471.868,506.571 \n",
       "  476.83,508.598 482.049,510.634 487.496,512.676 493.144,514.725 498.963,516.78 504.926,518.839 511.002,520.901 517.165,522.966 523.384,525.033 529.633,527.101 \n",
       "  \n",
       "  \"/>\n",
       "<polyline clip-path=\"url(#clip832)\" style=\"stroke:#000000; stroke-linecap:butt; stroke-linejoin:round; stroke-width:4; stroke-opacity:0.7; fill:none\" points=\"\n",
       "  501.111,498.702 529.633,527.101 489.8,532.879 \n",
       "  \"/>\n",
       "<polyline clip-path=\"url(#clip832)\" style=\"stroke:#000000; stroke-linecap:butt; stroke-linejoin:round; stroke-width:4; stroke-opacity:0.7; fill:none\" points=\"\n",
       "  529.633,527.101 523.384,525.033 \n",
       "  \"/>\n",
       "<path clip-path=\"url(#clip832)\" d=\"\n",
       "M1692.45 1567.78 L1856.12 1567.78 L1856.12 1495.52 L1692.45 1495.52 L1692.45 1567.78 L1692.45 1567.78  Z\n",
       "  \" fill=\"#ffffff\" fill-rule=\"evenodd\" fill-opacity=\"1\"/>\n",
       "<polyline clip-path=\"url(#clip832)\" style=\"stroke:#a9a9a9; stroke-linecap:butt; stroke-linejoin:round; stroke-width:0; stroke-opacity:0.7; fill:none\" points=\"\n",
       "  1692.45,1567.78 1856.12,1567.78 1856.12,1495.52 1692.45,1495.52 1692.45,1567.78 \n",
       "  \"/>\n",
       "<path clip-path=\"url(#clip832)\" d=\"\n",
       "M1854.75 931.945 L1963.52 931.945 L1963.52 859.681 L1854.75 859.681 L1854.75 931.945 L1854.75 931.945  Z\n",
       "  \" fill=\"#ffffff\" fill-rule=\"evenodd\" fill-opacity=\"1\"/>\n",
       "<polyline clip-path=\"url(#clip832)\" style=\"stroke:#a9a9a9; stroke-linecap:butt; stroke-linejoin:round; stroke-width:0; stroke-opacity:0.7; fill:none\" points=\"\n",
       "  1854.75,931.945 1963.52,931.945 1963.52,859.681 1854.75,859.681 1854.75,931.945 \n",
       "  \"/>\n",
       "<path clip-path=\"url(#clip832)\" d=\"\n",
       "M1250.01 1486.85 L1413.69 1486.85 L1413.69 1414.59 L1250.01 1414.59 L1250.01 1486.85 L1250.01 1486.85  Z\n",
       "  \" fill=\"#ffffff\" fill-rule=\"evenodd\" fill-opacity=\"1\"/>\n",
       "<polyline clip-path=\"url(#clip832)\" style=\"stroke:#a9a9a9; stroke-linecap:butt; stroke-linejoin:round; stroke-width:0; stroke-opacity:0.7; fill:none\" points=\"\n",
       "  1250.01,1486.85 1413.69,1486.85 1413.69,1414.59 1250.01,1414.59 1250.01,1486.85 \n",
       "  \"/>\n",
       "<path clip-path=\"url(#clip832)\" d=\"\n",
       "M1412.36 892.326 L1549.28 892.326 L1549.28 820.061 L1412.36 820.061 L1412.36 892.326 L1412.36 892.326  Z\n",
       "  \" fill=\"#ffffff\" fill-rule=\"evenodd\" fill-opacity=\"1\"/>\n",
       "<polyline clip-path=\"url(#clip832)\" style=\"stroke:#a9a9a9; stroke-linecap:butt; stroke-linejoin:round; stroke-width:0; stroke-opacity:0.7; fill:none\" points=\"\n",
       "  1412.36,892.326 1549.28,892.326 1549.28,820.061 1412.36,820.061 1412.36,892.326 \n",
       "  \"/>\n",
       "<path clip-path=\"url(#clip832)\" d=\"\n",
       "M1734.91 370.386 L1898.59 370.386 L1898.59 298.121 L1734.91 298.121 L1734.91 370.386 L1734.91 370.386  Z\n",
       "  \" fill=\"#ffffff\" fill-rule=\"evenodd\" fill-opacity=\"1\"/>\n",
       "<polyline clip-path=\"url(#clip832)\" style=\"stroke:#a9a9a9; stroke-linecap:butt; stroke-linejoin:round; stroke-width:0; stroke-opacity:0.7; fill:none\" points=\"\n",
       "  1734.91,370.386 1898.59,370.386 1898.59,298.121 1734.91,298.121 1734.91,370.386 \n",
       "  \"/>\n",
       "<path clip-path=\"url(#clip832)\" d=\"\n",
       "M1535.37 955.045 L1699.04 955.045 L1699.04 882.78 L1535.37 882.78 L1535.37 955.045 L1535.37 955.045  Z\n",
       "  \" fill=\"#ffffff\" fill-rule=\"evenodd\" fill-opacity=\"1\"/>\n",
       "<polyline clip-path=\"url(#clip832)\" style=\"stroke:#a9a9a9; stroke-linecap:butt; stroke-linejoin:round; stroke-width:0; stroke-opacity:0.7; fill:none\" points=\"\n",
       "  1535.37,955.045 1699.04,955.045 1699.04,882.78 1535.37,882.78 1535.37,955.045 \n",
       "  \"/>\n",
       "<path clip-path=\"url(#clip832)\" d=\"\n",
       "M1331.47 580.133 L1520.84 580.133 L1520.84 507.868 L1331.47 507.868 L1331.47 580.133 L1331.47 580.133  Z\n",
       "  \" fill=\"#ffffff\" fill-rule=\"evenodd\" fill-opacity=\"1\"/>\n",
       "<polyline clip-path=\"url(#clip832)\" style=\"stroke:#a9a9a9; stroke-linecap:butt; stroke-linejoin:round; stroke-width:0; stroke-opacity:0.7; fill:none\" points=\"\n",
       "  1331.47,580.133 1520.84,580.133 1520.84,507.868 1331.47,507.868 1331.47,580.133 \n",
       "  \"/>\n",
       "<path clip-path=\"url(#clip832)\" d=\"\n",
       "M1395.99 1082.24 L1559.67 1082.24 L1559.67 1009.97 L1395.99 1009.97 L1395.99 1082.24 L1395.99 1082.24  Z\n",
       "  \" fill=\"#ffffff\" fill-rule=\"evenodd\" fill-opacity=\"1\"/>\n",
       "<polyline clip-path=\"url(#clip832)\" style=\"stroke:#a9a9a9; stroke-linecap:butt; stroke-linejoin:round; stroke-width:0; stroke-opacity:0.7; fill:none\" points=\"\n",
       "  1395.99,1082.24 1559.67,1082.24 1559.67,1009.97 1395.99,1009.97 1395.99,1082.24 \n",
       "  \"/>\n",
       "<path clip-path=\"url(#clip832)\" d=\"\n",
       "M1209.43 690.684 L1346.34 690.684 L1346.34 618.419 L1209.43 618.419 L1209.43 690.684 L1209.43 690.684  Z\n",
       "  \" fill=\"#ffffff\" fill-rule=\"evenodd\" fill-opacity=\"1\"/>\n",
       "<polyline clip-path=\"url(#clip832)\" style=\"stroke:#a9a9a9; stroke-linecap:butt; stroke-linejoin:round; stroke-width:0; stroke-opacity:0.7; fill:none\" points=\"\n",
       "  1209.43,690.684 1346.34,690.684 1346.34,618.419 1209.43,618.419 1209.43,690.684 \n",
       "  \"/>\n",
       "<path clip-path=\"url(#clip832)\" d=\"\n",
       "M1028.51 1300.56 L1192.18 1300.56 L1192.18 1228.3 L1028.51 1228.3 L1028.51 1300.56 L1028.51 1300.56  Z\n",
       "  \" fill=\"#ffffff\" fill-rule=\"evenodd\" fill-opacity=\"1\"/>\n",
       "<polyline clip-path=\"url(#clip832)\" style=\"stroke:#a9a9a9; stroke-linecap:butt; stroke-linejoin:round; stroke-width:0; stroke-opacity:0.7; fill:none\" points=\"\n",
       "  1028.51,1300.56 1192.18,1300.56 1192.18,1228.3 1028.51,1228.3 1028.51,1300.56 \n",
       "  \"/>\n",
       "<path clip-path=\"url(#clip832)\" d=\"\n",
       "M1331.2 766.671 L1494.88 766.671 L1494.88 694.406 L1331.2 694.406 L1331.2 766.671 L1331.2 766.671  Z\n",
       "  \" fill=\"#ffffff\" fill-rule=\"evenodd\" fill-opacity=\"1\"/>\n",
       "<polyline clip-path=\"url(#clip832)\" style=\"stroke:#a9a9a9; stroke-linecap:butt; stroke-linejoin:round; stroke-width:0; stroke-opacity:0.7; fill:none\" points=\"\n",
       "  1331.2,766.671 1494.88,766.671 1494.88,694.406 1331.2,694.406 1331.2,766.671 \n",
       "  \"/>\n",
       "<path clip-path=\"url(#clip832)\" d=\"\n",
       "M1565.32 759.201 L1729 759.201 L1729 686.936 L1565.32 686.936 L1565.32 759.201 L1565.32 759.201  Z\n",
       "  \" fill=\"#ffffff\" fill-rule=\"evenodd\" fill-opacity=\"1\"/>\n",
       "<polyline clip-path=\"url(#clip832)\" style=\"stroke:#a9a9a9; stroke-linecap:butt; stroke-linejoin:round; stroke-width:0; stroke-opacity:0.7; fill:none\" points=\"\n",
       "  1565.32,759.201 1729,759.201 1729,686.936 1565.32,686.936 1565.32,759.201 \n",
       "  \"/>\n",
       "<path clip-path=\"url(#clip832)\" d=\"\n",
       "M1470.05 168.773 L1633.73 168.773 L1633.73 96.5082 L1470.05 96.5082 L1470.05 168.773 L1470.05 168.773  Z\n",
       "  \" fill=\"#ffffff\" fill-rule=\"evenodd\" fill-opacity=\"1\"/>\n",
       "<polyline clip-path=\"url(#clip832)\" style=\"stroke:#a9a9a9; stroke-linecap:butt; stroke-linejoin:round; stroke-width:0; stroke-opacity:0.7; fill:none\" points=\"\n",
       "  1470.05,168.773 1633.73,168.773 1633.73,96.5082 1470.05,96.5082 1470.05,168.773 \n",
       "  \"/>\n",
       "<path clip-path=\"url(#clip832)\" d=\"\n",
       "M916.267 727.051 L1053.18 727.051 L1053.18 654.787 L916.267 654.787 L916.267 727.051 L916.267 727.051  Z\n",
       "  \" fill=\"#ffffff\" fill-rule=\"evenodd\" fill-opacity=\"1\"/>\n",
       "<polyline clip-path=\"url(#clip832)\" style=\"stroke:#a9a9a9; stroke-linecap:butt; stroke-linejoin:round; stroke-width:0; stroke-opacity:0.7; fill:none\" points=\"\n",
       "  916.267,727.051 1053.18,727.051 1053.18,654.787 916.267,654.787 916.267,727.051 \n",
       "  \"/>\n",
       "<path clip-path=\"url(#clip832)\" d=\"\n",
       "M1141.81 189.958 L1278.72 189.958 L1278.72 117.694 L1141.81 117.694 L1141.81 189.958 L1141.81 189.958  Z\n",
       "  \" fill=\"#ffffff\" fill-rule=\"evenodd\" fill-opacity=\"1\"/>\n",
       "<polyline clip-path=\"url(#clip832)\" style=\"stroke:#a9a9a9; stroke-linecap:butt; stroke-linejoin:round; stroke-width:0; stroke-opacity:0.7; fill:none\" points=\"\n",
       "  1141.81,189.958 1278.72,189.958 1278.72,117.694 1141.81,117.694 1141.81,189.958 \n",
       "  \"/>\n",
       "<path clip-path=\"url(#clip832)\" d=\"\n",
       "M973.805 628.185 L1110.72 628.185 L1110.72 555.92 L973.805 555.92 L973.805 628.185 L973.805 628.185  Z\n",
       "  \" fill=\"#ffffff\" fill-rule=\"evenodd\" fill-opacity=\"1\"/>\n",
       "<polyline clip-path=\"url(#clip832)\" style=\"stroke:#a9a9a9; stroke-linecap:butt; stroke-linejoin:round; stroke-width:0; stroke-opacity:0.7; fill:none\" points=\"\n",
       "  973.805,628.185 1110.72,628.185 1110.72,555.92 973.805,555.92 973.805,628.185 \n",
       "  \"/>\n",
       "<path clip-path=\"url(#clip832)\" d=\"\n",
       "M983.986 748.427 L1173.36 748.427 L1173.36 676.162 L983.986 676.162 L983.986 748.427 L983.986 748.427  Z\n",
       "  \" fill=\"#ffffff\" fill-rule=\"evenodd\" fill-opacity=\"1\"/>\n",
       "<polyline clip-path=\"url(#clip832)\" style=\"stroke:#a9a9a9; stroke-linecap:butt; stroke-linejoin:round; stroke-width:0; stroke-opacity:0.7; fill:none\" points=\"\n",
       "  983.986,748.427 1173.36,748.427 1173.36,676.162 983.986,676.162 983.986,748.427 \n",
       "  \"/>\n",
       "<path clip-path=\"url(#clip832)\" d=\"\n",
       "M791.958 238.368 L928.874 238.368 L928.874 166.103 L791.958 166.103 L791.958 238.368 L791.958 238.368  Z\n",
       "  \" fill=\"#ffffff\" fill-rule=\"evenodd\" fill-opacity=\"1\"/>\n",
       "<polyline clip-path=\"url(#clip832)\" style=\"stroke:#a9a9a9; stroke-linecap:butt; stroke-linejoin:round; stroke-width:0; stroke-opacity:0.7; fill:none\" points=\"\n",
       "  791.958,238.368 928.874,238.368 928.874,166.103 791.958,166.103 791.958,238.368 \n",
       "  \"/>\n",
       "<path clip-path=\"url(#clip832)\" d=\"\n",
       "M356.061 515.599 L519.736 515.599 L519.736 443.334 L356.061 443.334 L356.061 515.599 L356.061 515.599  Z\n",
       "  \" fill=\"#ffffff\" fill-rule=\"evenodd\" fill-opacity=\"1\"/>\n",
       "<polyline clip-path=\"url(#clip832)\" style=\"stroke:#a9a9a9; stroke-linecap:butt; stroke-linejoin:round; stroke-width:0; stroke-opacity:0.7; fill:none\" points=\"\n",
       "  356.061,515.599 519.736,515.599 519.736,443.334 356.061,443.334 356.061,515.599 \n",
       "  \"/>\n",
       "<path clip-path=\"url(#clip832)\" d=\"\n",
       "M1787.77 1337.68 L1720.02 1220.34 L1584.52 1220.34 L1516.78 1337.68 L1584.52 1455.03 L1720.02 1455.03 L1787.77 1337.68 L1787.77 1337.68  Z\n",
       "  \" fill=\"#ffff00\" fill-rule=\"evenodd\" fill-opacity=\"1\"/>\n",
       "<polyline clip-path=\"url(#clip832)\" style=\"stroke:#000000; stroke-linecap:butt; stroke-linejoin:round; stroke-width:4; stroke-opacity:1; fill:none\" points=\"\n",
       "  1787.77,1337.68 1720.02,1220.34 1584.52,1220.34 1516.78,1337.68 1584.52,1455.03 1720.02,1455.03 1787.77,1337.68 \n",
       "  \"/>\n",
       "<path clip-path=\"url(#clip832)\" d=\"\n",
       "M1873.18 414.324 L1805.43 296.981 L1669.93 296.981 L1602.19 414.324 L1669.93 531.667 L1805.43 531.667 L1873.18 414.324 L1873.18 414.324  Z\n",
       "  \" fill=\"#ffff00\" fill-rule=\"evenodd\" fill-opacity=\"1\"/>\n",
       "<polyline clip-path=\"url(#clip832)\" style=\"stroke:#000000; stroke-linecap:butt; stroke-linejoin:round; stroke-width:4; stroke-opacity:1; fill:none\" points=\"\n",
       "  1873.18,414.324 1805.43,296.981 1669.93,296.981 1602.19,414.324 1669.93,531.667 1805.43,531.667 1873.18,414.324 \n",
       "  \"/>\n",
       "<path clip-path=\"url(#clip832)\" d=\"\n",
       "M1292.9 1159.14 L1225.15 1041.8 L1089.66 1041.8 L1021.91 1159.14 L1089.66 1276.48 L1225.15 1276.48 L1292.9 1159.14 L1292.9 1159.14  Z\n",
       "  \" fill=\"#ffff00\" fill-rule=\"evenodd\" fill-opacity=\"1\"/>\n",
       "<polyline clip-path=\"url(#clip832)\" style=\"stroke:#000000; stroke-linecap:butt; stroke-linejoin:round; stroke-width:4; stroke-opacity:1; fill:none\" points=\"\n",
       "  1292.9,1159.14 1225.15,1041.8 1089.66,1041.8 1021.91,1159.14 1089.66,1276.48 1225.15,1276.48 1292.9,1159.14 1292.9,1159.14 \n",
       "  \"/>\n",
       "<path clip-path=\"url(#clip832)\" d=\"\n",
       "M1375.86 262.317 L1308.11 144.974 L1172.61 144.974 L1104.87 262.317 L1172.61 379.66 L1308.11 379.66 L1375.86 262.317 L1375.86 262.317  Z\n",
       "  \" fill=\"#ffff00\" fill-rule=\"evenodd\" fill-opacity=\"1\"/>\n",
       "<polyline clip-path=\"url(#clip832)\" style=\"stroke:#000000; stroke-linecap:butt; stroke-linejoin:round; stroke-width:4; stroke-opacity:1; fill:none\" points=\"\n",
       "  1375.86,262.317 1308.11,144.974 1172.61,144.974 1104.87,262.317 1172.61,379.66 1308.11,379.66 1375.86,262.317 1375.86,262.317 \n",
       "  \"/>\n",
       "<path clip-path=\"url(#clip832)\" d=\"\n",
       "M797.813 531.971 L730.065 414.628 L594.569 414.628 L526.821 531.971 L594.569 649.314 L730.065 649.314 L797.813 531.971 L797.813 531.971  Z\n",
       "  \" fill=\"#ffff00\" fill-rule=\"evenodd\" fill-opacity=\"1\"/>\n",
       "<polyline clip-path=\"url(#clip832)\" style=\"stroke:#000000; stroke-linecap:butt; stroke-linejoin:round; stroke-width:4; stroke-opacity:1; fill:none\" points=\"\n",
       "  797.813,531.971 730.065,414.628 594.569,414.628 526.821,531.971 594.569,649.314 730.065,649.314 797.813,531.971 \n",
       "  \"/>\n",
       "<path clip-path=\"url(#clip832)\" d=\"M1652.27 1339.68 L1650.54 1338.68 L1650.54 1336.68 L1652.27 1335.68 L1654 1336.68 L1654 1338.68 Z\" fill=\"#ffff00\" fill-rule=\"evenodd\" fill-opacity=\"1\" stroke=\"#000000\" stroke-opacity=\"1\" stroke-width=\"3.2\"/>\n",
       "<path clip-path=\"url(#clip832)\" d=\"M1737.68 416.324 L1735.95 415.324 L1735.95 413.324 L1737.68 412.324 L1739.41 413.324 L1739.41 415.324 Z\" fill=\"#ffff00\" fill-rule=\"evenodd\" fill-opacity=\"1\" stroke=\"#000000\" stroke-opacity=\"1\" stroke-width=\"3.2\"/>\n",
       "<path clip-path=\"url(#clip832)\" d=\"M1157.41 1161.14 L1155.67 1160.14 L1155.67 1158.14 L1157.41 1157.14 L1159.14 1158.14 L1159.14 1160.14 Z\" fill=\"#ffff00\" fill-rule=\"evenodd\" fill-opacity=\"1\" stroke=\"#000000\" stroke-opacity=\"1\" stroke-width=\"3.2\"/>\n",
       "<path clip-path=\"url(#clip832)\" d=\"M1240.36 264.317 L1238.63 263.317 L1238.63 261.317 L1240.36 260.317 L1242.09 261.317 L1242.09 263.317 Z\" fill=\"#ffff00\" fill-rule=\"evenodd\" fill-opacity=\"1\" stroke=\"#000000\" stroke-opacity=\"1\" stroke-width=\"3.2\"/>\n",
       "<path clip-path=\"url(#clip832)\" d=\"M662.317 533.971 L660.585 532.971 L660.585 530.971 L662.317 529.971 L664.049 530.971 L664.049 532.971 Z\" fill=\"#ffff00\" fill-rule=\"evenodd\" fill-opacity=\"1\" stroke=\"#000000\" stroke-opacity=\"1\" stroke-width=\"3.2\"/>\n",
       "<path clip-path=\"url(#clip830)\" d=\"M1723.71 1533.74 L1734.63 1533.74 L1734.63 1537.07 L1723.71 1537.07 L1723.71 1533.74 Z\" fill=\"#000000\" fill-rule=\"evenodd\" fill-opacity=\"1\" /><path clip-path=\"url(#clip830)\" d=\"M1749.84 1519.22 Q1746.68 1519.22 1745.08 1522.34 Q1743.5 1525.44 1743.5 1531.68 Q1743.5 1537.9 1745.08 1541.02 Q1746.68 1544.11 1749.84 1544.11 Q1753.02 1544.11 1754.6 1541.02 Q1756.2 1537.9 1756.2 1531.68 Q1756.2 1525.44 1754.6 1522.34 Q1753.02 1519.22 1749.84 1519.22 M1749.84 1515.98 Q1754.92 1515.98 1757.6 1520.01 Q1760.29 1524.02 1760.29 1531.68 Q1760.29 1539.31 1757.6 1543.35 Q1754.92 1547.36 1749.84 1547.36 Q1744.75 1547.36 1742.06 1543.35 Q1739.39 1539.31 1739.39 1531.68 Q1739.39 1524.02 1742.06 1520.01 Q1744.75 1515.98 1749.84 1515.98 Z\" fill=\"#000000\" fill-rule=\"evenodd\" fill-opacity=\"1\" /><path clip-path=\"url(#clip830)\" d=\"M1767.48 1541.62 L1771.75 1541.62 L1771.75 1546.77 L1767.48 1546.77 L1767.48 1541.62 Z\" fill=\"#000000\" fill-rule=\"evenodd\" fill-opacity=\"1\" /><path clip-path=\"url(#clip830)\" d=\"M1793.06 1530.46 Q1796 1531.09 1797.64 1533.08 Q1799.3 1535.06 1799.3 1537.98 Q1799.3 1542.45 1796.22 1544.9 Q1793.14 1547.36 1787.47 1547.36 Q1785.57 1547.36 1783.54 1546.97 Q1781.54 1546.61 1779.39 1545.86 L1779.39 1541.91 Q1781.09 1542.9 1783.12 1543.41 Q1785.14 1543.91 1787.35 1543.91 Q1791.2 1543.91 1793.2 1542.39 Q1795.23 1540.87 1795.23 1537.98 Q1795.23 1535.3 1793.34 1533.81 Q1791.48 1532.29 1788.14 1532.29 L1784.61 1532.29 L1784.61 1528.92 L1788.3 1528.92 Q1791.32 1528.92 1792.92 1527.73 Q1794.52 1526.51 1794.52 1524.25 Q1794.52 1521.92 1792.86 1520.68 Q1791.22 1519.42 1788.14 1519.42 Q1786.46 1519.42 1784.53 1519.79 Q1782.61 1520.15 1780.3 1520.92 L1780.3 1517.28 Q1782.63 1516.63 1784.66 1516.31 Q1786.7 1515.98 1788.5 1515.98 Q1793.16 1515.98 1795.88 1518.11 Q1798.59 1520.21 1798.59 1523.82 Q1798.59 1526.33 1797.15 1528.07 Q1795.71 1529.8 1793.06 1530.46 Z\" fill=\"#000000\" fill-rule=\"evenodd\" fill-opacity=\"1\" /><path clip-path=\"url(#clip830)\" d=\"M1810.58 1543.33 L1824.86 1543.33 L1824.86 1546.77 L1805.66 1546.77 L1805.66 1543.33 Q1807.99 1540.91 1812 1536.86 Q1816.03 1532.79 1817.06 1531.62 Q1819.03 1529.41 1819.8 1527.89 Q1820.59 1526.35 1820.59 1524.87 Q1820.59 1522.46 1818.89 1520.94 Q1817.2 1519.42 1814.49 1519.42 Q1812.57 1519.42 1810.42 1520.09 Q1808.29 1520.76 1805.86 1522.12 L1805.86 1517.99 Q1808.33 1516.99 1810.48 1516.49 Q1812.63 1515.98 1814.41 1515.98 Q1819.11 1515.98 1821.9 1518.33 Q1824.7 1520.68 1824.7 1524.61 Q1824.7 1526.47 1823.99 1528.15 Q1823.3 1529.82 1821.46 1532.08 Q1820.95 1532.67 1818.24 1535.49 Q1815.52 1538.28 1810.58 1543.33 Z\" fill=\"#000000\" fill-rule=\"evenodd\" fill-opacity=\"1\" /><path clip-path=\"url(#clip830)\" d=\"M1889.63 883.387 Q1886.47 883.387 1884.87 886.506 Q1883.29 889.605 1883.29 895.843 Q1883.29 902.061 1884.87 905.181 Q1886.47 908.28 1889.63 908.28 Q1892.81 908.28 1894.39 905.181 Q1895.99 902.061 1895.99 895.843 Q1895.99 889.605 1894.39 886.506 Q1892.81 883.387 1889.63 883.387 M1889.63 880.146 Q1894.72 880.146 1897.39 884.177 Q1900.08 888.187 1900.08 895.843 Q1900.08 903.479 1897.39 907.51 Q1894.72 911.52 1889.63 911.52 Q1884.55 911.52 1881.85 907.51 Q1879.18 903.479 1879.18 895.843 Q1879.18 888.187 1881.85 884.177 Q1884.55 880.146 1889.63 880.146 Z\" fill=\"#000000\" fill-rule=\"evenodd\" fill-opacity=\"1\" /><path clip-path=\"url(#clip830)\" d=\"M1907.27 905.788 L1911.55 905.788 L1911.55 910.933 L1907.27 910.933 L1907.27 905.788 Z\" fill=\"#000000\" fill-rule=\"evenodd\" fill-opacity=\"1\" /><path clip-path=\"url(#clip830)\" d=\"M1932.85 894.628 Q1935.79 895.256 1937.43 897.241 Q1939.09 899.226 1939.09 902.142 Q1939.09 906.619 1936.01 909.07 Q1932.94 911.52 1927.26 911.52 Q1925.36 911.52 1923.33 911.135 Q1921.33 910.771 1919.18 910.021 L1919.18 906.072 Q1920.88 907.064 1922.91 907.571 Q1924.94 908.077 1927.14 908.077 Q1930.99 908.077 1933 906.558 Q1935.02 905.039 1935.02 902.142 Q1935.02 899.469 1933.14 897.97 Q1931.27 896.451 1927.93 896.451 L1924.41 896.451 L1924.41 893.089 L1928.09 893.089 Q1931.11 893.089 1932.71 891.894 Q1934.31 890.678 1934.31 888.41 Q1934.31 886.081 1932.65 884.845 Q1931.01 883.589 1927.93 883.589 Q1926.25 883.589 1924.33 883.954 Q1922.4 884.318 1920.09 885.088 L1920.09 881.442 Q1922.42 880.794 1924.45 880.47 Q1926.49 880.146 1928.3 880.146 Q1932.96 880.146 1935.67 882.273 Q1938.38 884.379 1938.38 887.985 Q1938.38 890.496 1936.95 892.238 Q1935.51 893.96 1932.85 894.628 Z\" fill=\"#000000\" fill-rule=\"evenodd\" fill-opacity=\"1\" /><path clip-path=\"url(#clip830)\" d=\"M1285.46 1438.29 Q1282.3 1438.29 1280.7 1441.41 Q1279.12 1444.51 1279.12 1450.75 Q1279.12 1456.97 1280.7 1460.09 Q1282.3 1463.19 1285.46 1463.19 Q1288.64 1463.19 1290.22 1460.09 Q1291.82 1456.97 1291.82 1450.75 Q1291.82 1444.51 1290.22 1441.41 Q1288.64 1438.29 1285.46 1438.29 M1285.46 1435.05 Q1290.54 1435.05 1293.21 1439.08 Q1295.91 1443.09 1295.91 1450.75 Q1295.91 1458.39 1293.21 1462.42 Q1290.54 1466.43 1285.46 1466.43 Q1280.37 1466.43 1277.68 1462.42 Q1275 1458.39 1275 1450.75 Q1275 1443.09 1277.68 1439.08 Q1280.37 1435.05 1285.46 1435.05 Z\" fill=\"#000000\" fill-rule=\"evenodd\" fill-opacity=\"1\" /><path clip-path=\"url(#clip830)\" d=\"M1303.1 1460.7 L1307.37 1460.7 L1307.37 1465.84 L1303.1 1465.84 L1303.1 1460.7 Z\" fill=\"#000000\" fill-rule=\"evenodd\" fill-opacity=\"1\" /><path clip-path=\"url(#clip830)\" d=\"M1325.03 1438.29 Q1321.87 1438.29 1320.27 1441.41 Q1318.69 1444.51 1318.69 1450.75 Q1318.69 1456.97 1320.27 1460.09 Q1321.87 1463.19 1325.03 1463.19 Q1328.21 1463.19 1329.79 1460.09 Q1331.39 1456.97 1331.39 1450.75 Q1331.39 1444.51 1329.79 1441.41 Q1328.21 1438.29 1325.03 1438.29 M1325.03 1435.05 Q1330.12 1435.05 1332.79 1439.08 Q1335.48 1443.09 1335.48 1450.75 Q1335.48 1458.39 1332.79 1462.42 Q1330.12 1466.43 1325.03 1466.43 Q1319.95 1466.43 1317.25 1462.42 Q1314.58 1458.39 1314.58 1450.75 Q1314.58 1443.09 1317.25 1439.08 Q1319.95 1435.05 1325.03 1435.05 Z\" fill=\"#000000\" fill-rule=\"evenodd\" fill-opacity=\"1\" /><path clip-path=\"url(#clip830)\" d=\"M1346.2 1462.4 L1360.48 1462.4 L1360.48 1465.84 L1341.28 1465.84 L1341.28 1462.4 Q1343.61 1459.99 1347.62 1455.94 Q1351.65 1451.86 1352.68 1450.69 Q1354.64 1448.48 1355.41 1446.96 Q1356.2 1445.42 1356.2 1443.95 Q1356.2 1441.53 1354.5 1440.02 Q1352.82 1438.5 1350.11 1438.5 Q1348.18 1438.5 1346.04 1439.17 Q1343.91 1439.83 1341.48 1441.19 L1341.48 1437.06 Q1343.95 1436.07 1346.1 1435.56 Q1348.24 1435.05 1350.03 1435.05 Q1354.73 1435.05 1357.52 1437.4 Q1360.32 1439.75 1360.32 1443.68 Q1360.32 1445.55 1359.61 1447.23 Q1358.92 1448.89 1357.08 1451.16 Q1356.57 1451.74 1353.85 1454.56 Q1351.14 1457.35 1346.2 1462.4 Z\" fill=\"#000000\" fill-rule=\"evenodd\" fill-opacity=\"1\" /><path clip-path=\"url(#clip830)\" d=\"M1380.31 1439.17 L1369.98 1455.31 L1380.31 1455.31 L1380.31 1439.17 M1379.23 1435.6 L1384.38 1435.6 L1384.38 1455.31 L1388.69 1455.31 L1388.69 1458.71 L1384.38 1458.71 L1384.38 1465.84 L1380.31 1465.84 L1380.31 1458.71 L1366.66 1458.71 L1366.66 1454.76 L1379.23 1435.6 Z\" fill=\"#000000\" fill-rule=\"evenodd\" fill-opacity=\"1\" /><path clip-path=\"url(#clip830)\" d=\"M1448.23 843.768 Q1445.07 843.768 1443.47 846.887 Q1441.89 849.986 1441.89 856.224 Q1441.89 862.442 1443.47 865.561 Q1445.07 868.66 1448.23 868.66 Q1451.41 868.66 1452.99 865.561 Q1454.59 862.442 1454.59 856.224 Q1454.59 849.986 1452.99 846.887 Q1451.41 843.768 1448.23 843.768 M1448.23 840.527 Q1453.31 840.527 1455.99 844.558 Q1458.68 848.568 1458.68 856.224 Q1458.68 863.86 1455.99 867.891 Q1453.31 871.901 1448.23 871.901 Q1443.15 871.901 1440.45 867.891 Q1437.78 863.86 1437.78 856.224 Q1437.78 848.568 1440.45 844.558 Q1443.15 840.527 1448.23 840.527 Z\" fill=\"#000000\" fill-rule=\"evenodd\" fill-opacity=\"1\" /><path clip-path=\"url(#clip830)\" d=\"M1465.87 866.169 L1470.14 866.169 L1470.14 871.314 L1465.87 871.314 L1465.87 866.169 Z\" fill=\"#000000\" fill-rule=\"evenodd\" fill-opacity=\"1\" /><path clip-path=\"url(#clip830)\" d=\"M1479.77 867.87 L1486.45 867.87 L1486.45 844.801 L1479.18 846.259 L1479.18 842.532 L1486.41 841.074 L1490.5 841.074 L1490.5 867.87 L1497.18 867.87 L1497.18 871.314 L1479.77 871.314 L1479.77 867.87 Z\" fill=\"#000000\" fill-rule=\"evenodd\" fill-opacity=\"1\" /><path clip-path=\"url(#clip830)\" d=\"M1504.42 841.074 L1523.86 841.074 L1523.86 842.816 L1512.88 871.314 L1508.61 871.314 L1518.94 844.517 L1504.42 844.517 L1504.42 841.074 Z\" fill=\"#000000\" fill-rule=\"evenodd\" fill-opacity=\"1\" /><path clip-path=\"url(#clip830)\" d=\"M1766.01 336.35 L1776.93 336.35 L1776.93 339.672 L1766.01 339.672 L1766.01 336.35 Z\" fill=\"#000000\" fill-rule=\"evenodd\" fill-opacity=\"1\" /><path clip-path=\"url(#clip830)\" d=\"M1792.14 321.827 Q1788.98 321.827 1787.38 324.947 Q1785.8 328.045 1785.8 334.284 Q1785.8 340.502 1787.38 343.621 Q1788.98 346.72 1792.14 346.72 Q1795.32 346.72 1796.9 343.621 Q1798.5 340.502 1798.5 334.284 Q1798.5 328.045 1796.9 324.947 Q1795.32 321.827 1792.14 321.827 M1792.14 318.587 Q1797.22 318.587 1799.9 322.617 Q1802.59 326.628 1802.59 334.284 Q1802.59 341.92 1799.9 345.95 Q1797.22 349.961 1792.14 349.961 Q1787.06 349.961 1784.36 345.95 Q1781.69 341.92 1781.69 334.284 Q1781.69 326.628 1784.36 322.617 Q1787.06 318.587 1792.14 318.587 Z\" fill=\"#000000\" fill-rule=\"evenodd\" fill-opacity=\"1\" /><path clip-path=\"url(#clip830)\" d=\"M1809.78 344.229 L1814.05 344.229 L1814.05 349.373 L1809.78 349.373 L1809.78 344.229 Z\" fill=\"#000000\" fill-rule=\"evenodd\" fill-opacity=\"1\" /><path clip-path=\"url(#clip830)\" d=\"M1826.49 345.93 L1840.77 345.93 L1840.77 349.373 L1821.57 349.373 L1821.57 345.93 Q1823.9 343.52 1827.91 339.469 Q1831.94 335.398 1832.97 334.223 Q1834.94 332.015 1835.71 330.496 Q1836.5 328.957 1836.5 327.478 Q1836.5 325.068 1834.79 323.549 Q1833.11 322.03 1830.4 322.03 Q1828.48 322.03 1826.33 322.698 Q1824.2 323.367 1821.77 324.724 L1821.77 320.592 Q1824.24 319.599 1826.39 319.093 Q1828.54 318.587 1830.32 318.587 Q1835.02 318.587 1837.81 320.936 Q1840.61 323.286 1840.61 327.215 Q1840.61 329.078 1839.9 330.76 Q1839.21 332.42 1837.37 334.689 Q1836.86 335.276 1834.15 338.092 Q1831.43 340.887 1826.49 345.93 Z\" fill=\"#000000\" fill-rule=\"evenodd\" fill-opacity=\"1\" /><path clip-path=\"url(#clip830)\" d=\"M1850.07 345.93 L1856.75 345.93 L1856.75 322.86 L1849.48 324.319 L1849.48 320.592 L1856.71 319.133 L1860.8 319.133 L1860.8 345.93 L1867.49 345.93 L1867.49 349.373 L1850.07 349.373 L1850.07 345.93 Z\" fill=\"#000000\" fill-rule=\"evenodd\" fill-opacity=\"1\" /><path clip-path=\"url(#clip830)\" d=\"M1571.11 906.486 Q1567.95 906.486 1566.35 909.606 Q1564.77 912.705 1564.77 918.943 Q1564.77 925.161 1566.35 928.28 Q1567.95 931.379 1571.11 931.379 Q1574.29 931.379 1575.87 928.28 Q1577.47 925.161 1577.47 918.943 Q1577.47 912.705 1575.87 909.606 Q1574.29 906.486 1571.11 906.486 M1571.11 903.246 Q1576.19 903.246 1578.86 907.276 Q1581.56 911.287 1581.56 918.943 Q1581.56 926.579 1578.86 930.61 Q1576.19 934.62 1571.11 934.62 Q1566.02 934.62 1563.33 930.61 Q1560.65 926.579 1560.65 918.943 Q1560.65 911.287 1563.33 907.276 Q1566.02 903.246 1571.11 903.246 Z\" fill=\"#000000\" fill-rule=\"evenodd\" fill-opacity=\"1\" /><path clip-path=\"url(#clip830)\" d=\"M1588.75 928.888 L1593.02 928.888 L1593.02 934.033 L1588.75 934.033 L1588.75 928.888 Z\" fill=\"#000000\" fill-rule=\"evenodd\" fill-opacity=\"1\" /><path clip-path=\"url(#clip830)\" d=\"M1610.68 906.486 Q1607.52 906.486 1605.92 909.606 Q1604.34 912.705 1604.34 918.943 Q1604.34 925.161 1605.92 928.28 Q1607.52 931.379 1610.68 931.379 Q1613.86 931.379 1615.44 928.28 Q1617.04 925.161 1617.04 918.943 Q1617.04 912.705 1615.44 909.606 Q1613.86 906.486 1610.68 906.486 M1610.68 903.246 Q1615.77 903.246 1618.44 907.276 Q1621.13 911.287 1621.13 918.943 Q1621.13 926.579 1618.44 930.61 Q1615.77 934.62 1610.68 934.62 Q1605.6 934.62 1602.91 930.61 Q1600.23 926.579 1600.23 918.943 Q1600.23 911.287 1602.91 907.276 Q1605.6 903.246 1610.68 903.246 Z\" fill=\"#000000\" fill-rule=\"evenodd\" fill-opacity=\"1\" /><path clip-path=\"url(#clip830)\" d=\"M1640.72 917.728 Q1643.66 918.356 1645.3 920.341 Q1646.96 922.326 1646.96 925.242 Q1646.96 929.718 1643.88 932.169 Q1640.8 934.62 1635.13 934.62 Q1633.23 934.62 1631.2 934.235 Q1629.2 933.871 1627.05 933.121 L1627.05 929.172 Q1628.75 930.164 1630.78 930.67 Q1632.8 931.177 1635.01 931.177 Q1638.86 931.177 1640.86 929.658 Q1642.89 928.139 1642.89 925.242 Q1642.89 922.569 1641 921.07 Q1639.14 919.551 1635.8 919.551 L1632.27 919.551 L1632.27 916.188 L1635.96 916.188 Q1638.98 916.188 1640.58 914.993 Q1642.18 913.778 1642.18 911.51 Q1642.18 909.18 1640.52 907.945 Q1638.88 906.689 1635.8 906.689 Q1634.12 906.689 1632.19 907.054 Q1630.27 907.418 1627.96 908.188 L1627.96 904.542 Q1630.29 903.894 1632.31 903.57 Q1634.36 903.246 1636.16 903.246 Q1640.82 903.246 1643.54 905.372 Q1646.25 907.479 1646.25 911.084 Q1646.25 913.596 1644.81 915.338 Q1643.37 917.059 1640.72 917.728 Z\" fill=\"#000000\" fill-rule=\"evenodd\" fill-opacity=\"1\" /><path clip-path=\"url(#clip830)\" d=\"M1654.84 933.405 L1654.84 929.678 Q1656.38 930.407 1657.96 930.792 Q1659.54 931.177 1661.06 931.177 Q1665.11 931.177 1667.23 928.463 Q1669.38 925.728 1669.68 920.179 Q1668.51 921.92 1666.71 922.852 Q1664.9 923.784 1662.72 923.784 Q1658.18 923.784 1655.53 921.049 Q1652.89 918.295 1652.89 913.535 Q1652.89 908.877 1655.65 906.061 Q1658.4 903.246 1662.98 903.246 Q1668.23 903.246 1670.98 907.276 Q1673.76 911.287 1673.76 918.943 Q1673.76 926.093 1670.35 930.367 Q1666.97 934.62 1661.24 934.62 Q1659.7 934.62 1658.12 934.316 Q1656.54 934.012 1654.84 933.405 M1662.98 920.584 Q1665.73 920.584 1667.33 918.7 Q1668.96 916.816 1668.96 913.535 Q1668.96 910.274 1667.33 908.39 Q1665.73 906.486 1662.98 906.486 Q1660.23 906.486 1658.61 908.39 Q1657 910.274 1657 913.535 Q1657 916.816 1658.61 918.7 Q1660.23 920.584 1662.98 920.584 Z\" fill=\"#000000\" fill-rule=\"evenodd\" fill-opacity=\"1\" /><path clip-path=\"url(#clip830)\" d=\"M1367.32 531.574 Q1364.16 531.574 1362.56 534.694 Q1360.98 537.793 1360.98 544.031 Q1360.98 550.249 1362.56 553.368 Q1364.16 556.467 1367.32 556.467 Q1370.5 556.467 1372.08 553.368 Q1373.68 550.249 1373.68 544.031 Q1373.68 537.793 1372.08 534.694 Q1370.5 531.574 1367.32 531.574 M1367.32 528.334 Q1372.4 528.334 1375.07 532.364 Q1377.77 536.375 1377.77 544.031 Q1377.77 551.667 1375.07 555.698 Q1372.4 559.708 1367.32 559.708 Q1362.23 559.708 1359.54 555.698 Q1356.87 551.667 1356.87 544.031 Q1356.87 536.375 1359.54 532.364 Q1362.23 528.334 1367.32 528.334 Z\" fill=\"#000000\" fill-rule=\"evenodd\" fill-opacity=\"1\" /><path clip-path=\"url(#clip830)\" d=\"M1384.96 553.976 L1389.23 553.976 L1389.23 559.121 L1384.96 559.121 L1384.96 553.976 Z\" fill=\"#000000\" fill-rule=\"evenodd\" fill-opacity=\"1\" /><path clip-path=\"url(#clip830)\" d=\"M1406.89 531.574 Q1403.73 531.574 1402.13 534.694 Q1400.55 537.793 1400.55 544.031 Q1400.55 550.249 1402.13 553.368 Q1403.73 556.467 1406.89 556.467 Q1410.07 556.467 1411.65 553.368 Q1413.25 550.249 1413.25 544.031 Q1413.25 537.793 1411.65 534.694 Q1410.07 531.574 1406.89 531.574 M1406.89 528.334 Q1411.98 528.334 1414.65 532.364 Q1417.35 536.375 1417.35 544.031 Q1417.35 551.667 1414.65 555.698 Q1411.98 559.708 1406.89 559.708 Q1401.81 559.708 1399.12 555.698 Q1396.44 551.667 1396.44 544.031 Q1396.44 536.375 1399.12 532.364 Q1401.81 528.334 1406.89 528.334 Z\" fill=\"#000000\" fill-rule=\"evenodd\" fill-opacity=\"1\" /><path clip-path=\"url(#clip830)\" d=\"M1433.29 531.574 Q1430.13 531.574 1428.53 534.694 Q1426.95 537.793 1426.95 544.031 Q1426.95 550.249 1428.53 553.368 Q1430.13 556.467 1433.29 556.467 Q1436.47 556.467 1438.05 553.368 Q1439.65 550.249 1439.65 544.031 Q1439.65 537.793 1438.05 534.694 Q1436.47 531.574 1433.29 531.574 M1433.29 528.334 Q1438.37 528.334 1441.04 532.364 Q1443.74 536.375 1443.74 544.031 Q1443.74 551.667 1441.04 555.698 Q1438.37 559.708 1433.29 559.708 Q1428.2 559.708 1425.51 555.698 Q1422.83 551.667 1422.83 544.031 Q1422.83 536.375 1425.51 532.364 Q1428.2 528.334 1433.29 528.334 Z\" fill=\"#000000\" fill-rule=\"evenodd\" fill-opacity=\"1\" /><path clip-path=\"url(#clip830)\" d=\"M1454.45 555.677 L1468.73 555.677 L1468.73 559.121 L1449.53 559.121 L1449.53 555.677 Q1451.86 553.267 1455.87 549.216 Q1459.9 545.145 1460.93 543.97 Q1462.9 541.762 1463.67 540.243 Q1464.46 538.704 1464.46 537.225 Q1464.46 534.815 1462.76 533.296 Q1461.07 531.777 1458.36 531.777 Q1456.44 531.777 1454.29 532.445 Q1452.16 533.114 1449.73 534.471 L1449.73 530.339 Q1452.2 529.346 1454.35 528.84 Q1456.5 528.334 1458.28 528.334 Q1462.98 528.334 1465.77 530.683 Q1468.57 533.033 1468.57 536.962 Q1468.57 538.826 1467.86 540.507 Q1467.17 542.168 1465.33 544.436 Q1464.82 545.023 1462.11 547.839 Q1459.39 550.634 1454.45 555.677 Z\" fill=\"#000000\" fill-rule=\"evenodd\" fill-opacity=\"1\" /><path clip-path=\"url(#clip830)\" d=\"M1478.03 555.677 L1484.71 555.677 L1484.71 532.607 L1477.44 534.066 L1477.44 530.339 L1484.67 528.881 L1488.76 528.881 L1488.76 555.677 L1495.45 555.677 L1495.45 559.121 L1478.03 559.121 L1478.03 555.677 Z\" fill=\"#000000\" fill-rule=\"evenodd\" fill-opacity=\"1\" /><path clip-path=\"url(#clip830)\" d=\"M1431.93 1033.68 Q1428.77 1033.68 1427.17 1036.8 Q1425.59 1039.89 1425.59 1046.13 Q1425.59 1052.35 1427.17 1055.47 Q1428.77 1058.57 1431.93 1058.57 Q1435.11 1058.57 1436.69 1055.47 Q1438.29 1052.35 1438.29 1046.13 Q1438.29 1039.89 1436.69 1036.8 Q1435.11 1033.68 1431.93 1033.68 M1431.93 1030.44 Q1437.02 1030.44 1439.69 1034.47 Q1442.38 1038.48 1442.38 1046.13 Q1442.38 1053.77 1439.69 1057.8 Q1437.02 1061.81 1431.93 1061.81 Q1426.85 1061.81 1424.16 1057.8 Q1421.48 1053.77 1421.48 1046.13 Q1421.48 1038.48 1424.16 1034.47 Q1426.85 1030.44 1431.93 1030.44 Z\" fill=\"#000000\" fill-rule=\"evenodd\" fill-opacity=\"1\" /><path clip-path=\"url(#clip830)\" d=\"M1449.57 1056.08 L1453.85 1056.08 L1453.85 1061.22 L1449.57 1061.22 L1449.57 1056.08 Z\" fill=\"#000000\" fill-rule=\"evenodd\" fill-opacity=\"1\" /><path clip-path=\"url(#clip830)\" d=\"M1471.51 1033.68 Q1468.35 1033.68 1466.75 1036.8 Q1465.17 1039.89 1465.17 1046.13 Q1465.17 1052.35 1466.75 1055.47 Q1468.35 1058.57 1471.51 1058.57 Q1474.69 1058.57 1476.27 1055.47 Q1477.87 1052.35 1477.87 1046.13 Q1477.87 1039.89 1476.27 1036.8 Q1474.69 1033.68 1471.51 1033.68 M1471.51 1030.44 Q1476.59 1030.44 1479.27 1034.47 Q1481.96 1038.48 1481.96 1046.13 Q1481.96 1053.77 1479.27 1057.8 Q1476.59 1061.81 1471.51 1061.81 Q1466.43 1061.81 1463.73 1057.8 Q1461.06 1053.77 1461.06 1046.13 Q1461.06 1038.48 1463.73 1034.47 Q1466.43 1030.44 1471.51 1030.44 Z\" fill=\"#000000\" fill-rule=\"evenodd\" fill-opacity=\"1\" /><path clip-path=\"url(#clip830)\" d=\"M1500.39 1034.55 L1490.06 1050.69 L1500.39 1050.69 L1500.39 1034.55 M1499.32 1030.98 L1504.46 1030.98 L1504.46 1050.69 L1508.78 1050.69 L1508.78 1054.09 L1504.46 1054.09 L1504.46 1061.22 L1500.39 1061.22 L1500.39 1054.09 L1486.74 1054.09 L1486.74 1050.14 L1499.32 1030.98 Z\" fill=\"#000000\" fill-rule=\"evenodd\" fill-opacity=\"1\" /><path clip-path=\"url(#clip830)\" d=\"M1527.94 1044.92 Q1530.88 1045.55 1532.52 1047.53 Q1534.18 1049.52 1534.18 1052.43 Q1534.18 1056.91 1531.1 1059.36 Q1528.02 1061.81 1522.35 1061.81 Q1520.45 1061.81 1518.42 1061.43 Q1516.41 1061.06 1514.27 1060.31 L1514.27 1056.36 Q1515.97 1057.35 1517.99 1057.86 Q1520.02 1058.37 1522.23 1058.37 Q1526.08 1058.37 1528.08 1056.85 Q1530.11 1055.33 1530.11 1052.43 Q1530.11 1049.76 1528.22 1048.26 Q1526.36 1046.74 1523.02 1046.74 L1519.49 1046.74 L1519.49 1043.38 L1523.18 1043.38 Q1526.2 1043.38 1527.8 1042.18 Q1529.4 1040.97 1529.4 1038.7 Q1529.4 1036.37 1527.74 1035.14 Q1526.1 1033.88 1523.02 1033.88 Q1521.34 1033.88 1519.41 1034.24 Q1517.49 1034.61 1515.18 1035.38 L1515.18 1031.73 Q1517.51 1031.08 1519.53 1030.76 Q1521.58 1030.44 1523.38 1030.44 Q1528.04 1030.44 1530.75 1032.56 Q1533.47 1034.67 1533.47 1038.27 Q1533.47 1040.79 1532.03 1042.53 Q1530.59 1044.25 1527.94 1044.92 Z\" fill=\"#000000\" fill-rule=\"evenodd\" fill-opacity=\"1\" /><path clip-path=\"url(#clip830)\" d=\"M1244.94 642.125 Q1241.78 642.125 1240.18 645.245 Q1238.6 648.344 1238.6 654.582 Q1238.6 660.8 1240.18 663.919 Q1241.78 667.018 1244.94 667.018 Q1248.12 667.018 1249.7 663.919 Q1251.3 660.8 1251.3 654.582 Q1251.3 648.344 1249.7 645.245 Q1248.12 642.125 1244.94 642.125 M1244.94 638.885 Q1250.02 638.885 1252.7 642.915 Q1255.39 646.926 1255.39 654.582 Q1255.39 662.218 1252.7 666.249 Q1250.02 670.259 1244.94 670.259 Q1239.86 670.259 1237.16 666.249 Q1234.49 662.218 1234.49 654.582 Q1234.49 646.926 1237.16 642.915 Q1239.86 638.885 1244.94 638.885 Z\" fill=\"#000000\" fill-rule=\"evenodd\" fill-opacity=\"1\" /><path clip-path=\"url(#clip830)\" d=\"M1262.58 664.527 L1266.85 664.527 L1266.85 669.672 L1262.58 669.672 L1262.58 664.527 Z\" fill=\"#000000\" fill-rule=\"evenodd\" fill-opacity=\"1\" /><path clip-path=\"url(#clip830)\" d=\"M1287.01 642.996 L1276.68 659.139 L1287.01 659.139 L1287.01 642.996 M1285.93 639.432 L1291.08 639.432 L1291.08 659.139 L1295.39 659.139 L1295.39 662.542 L1291.08 662.542 L1291.08 669.672 L1287.01 669.672 L1287.01 662.542 L1273.36 662.542 L1273.36 658.592 L1285.93 639.432 Z\" fill=\"#000000\" fill-rule=\"evenodd\" fill-opacity=\"1\" /><path clip-path=\"url(#clip830)\" d=\"M1310.91 655.311 Q1307.99 655.311 1306.31 656.871 Q1304.65 658.43 1304.65 661.165 Q1304.65 663.899 1306.31 665.459 Q1307.99 667.018 1310.91 667.018 Q1313.83 667.018 1315.51 665.459 Q1317.19 663.879 1317.19 661.165 Q1317.19 658.43 1315.51 656.871 Q1313.85 655.311 1310.91 655.311 M1306.82 653.569 Q1304.18 652.921 1302.71 651.118 Q1301.25 649.316 1301.25 646.723 Q1301.25 643.098 1303.82 640.991 Q1306.41 638.885 1310.91 638.885 Q1315.43 638.885 1318 640.991 Q1320.57 643.098 1320.57 646.723 Q1320.57 649.316 1319.09 651.118 Q1317.63 652.921 1315.02 653.569 Q1317.98 654.258 1319.62 656.263 Q1321.28 658.268 1321.28 661.165 Q1321.28 665.56 1318.58 667.909 Q1315.91 670.259 1310.91 670.259 Q1305.91 670.259 1303.21 667.909 Q1300.54 665.56 1300.54 661.165 Q1300.54 658.268 1302.2 656.263 Q1303.86 654.258 1306.82 653.569 M1305.32 647.108 Q1305.32 649.458 1306.78 650.774 Q1308.26 652.091 1310.91 652.091 Q1313.54 652.091 1315.02 650.774 Q1316.52 649.458 1316.52 647.108 Q1316.52 644.758 1315.02 643.442 Q1313.54 642.125 1310.91 642.125 Q1308.26 642.125 1306.78 643.442 Q1305.32 644.758 1305.32 647.108 Z\" fill=\"#000000\" fill-rule=\"evenodd\" fill-opacity=\"1\" /><path clip-path=\"url(#clip830)\" d=\"M1059 1266.53 L1069.92 1266.53 L1069.92 1269.85 L1059 1269.85 L1059 1266.53 Z\" fill=\"#000000\" fill-rule=\"evenodd\" fill-opacity=\"1\" /><path clip-path=\"url(#clip830)\" d=\"M1085.13 1252.01 Q1081.97 1252.01 1080.37 1255.12 Q1078.79 1258.22 1078.79 1264.46 Q1078.79 1270.68 1080.37 1273.8 Q1081.97 1276.9 1085.13 1276.9 Q1088.31 1276.9 1089.89 1273.8 Q1091.49 1270.68 1091.49 1264.46 Q1091.49 1258.22 1089.89 1255.12 Q1088.31 1252.01 1085.13 1252.01 M1085.13 1248.76 Q1090.21 1248.76 1092.88 1252.8 Q1095.58 1256.81 1095.58 1264.46 Q1095.58 1272.1 1092.88 1276.13 Q1090.21 1280.14 1085.13 1280.14 Q1080.04 1280.14 1077.35 1276.13 Q1074.68 1272.1 1074.68 1264.46 Q1074.68 1256.81 1077.35 1252.8 Q1080.04 1248.76 1085.13 1248.76 Z\" fill=\"#000000\" fill-rule=\"evenodd\" fill-opacity=\"1\" /><path clip-path=\"url(#clip830)\" d=\"M1102.77 1274.41 L1107.04 1274.41 L1107.04 1279.55 L1102.77 1279.55 L1102.77 1274.41 Z\" fill=\"#000000\" fill-rule=\"evenodd\" fill-opacity=\"1\" /><path clip-path=\"url(#clip830)\" d=\"M1116 1249.31 L1132.06 1249.31 L1132.06 1252.75 L1119.74 1252.75 L1119.74 1260.17 Q1120.63 1259.86 1121.52 1259.72 Q1122.42 1259.56 1123.31 1259.56 Q1128.37 1259.56 1131.33 1262.34 Q1134.29 1265.11 1134.29 1269.85 Q1134.29 1274.73 1131.25 1277.44 Q1128.21 1280.14 1122.68 1280.14 Q1120.78 1280.14 1118.79 1279.81 Q1116.83 1279.49 1114.72 1278.84 L1114.72 1274.73 Q1116.54 1275.72 1118.49 1276.21 Q1120.43 1276.7 1122.6 1276.7 Q1126.1 1276.7 1128.15 1274.85 Q1130.19 1273.01 1130.19 1269.85 Q1130.19 1266.69 1128.15 1264.85 Q1126.1 1263 1122.6 1263 Q1120.96 1263 1119.32 1263.37 Q1117.7 1263.73 1116 1264.5 L1116 1249.31 Z\" fill=\"#000000\" fill-rule=\"evenodd\" fill-opacity=\"1\" /><path clip-path=\"url(#clip830)\" d=\"M1151.6 1262.8 Q1148.85 1262.8 1147.23 1264.68 Q1145.63 1266.57 1145.63 1269.85 Q1145.63 1273.11 1147.23 1275.01 Q1148.85 1276.9 1151.6 1276.9 Q1154.36 1276.9 1155.96 1275.01 Q1157.58 1273.11 1157.58 1269.85 Q1157.58 1266.57 1155.96 1264.68 Q1154.36 1262.8 1151.6 1262.8 M1159.72 1249.98 L1159.72 1253.71 Q1158.19 1252.98 1156.61 1252.59 Q1155.05 1252.21 1153.51 1252.21 Q1149.46 1252.21 1147.31 1254.94 Q1145.18 1257.68 1144.88 1263.21 Q1146.07 1261.44 1147.88 1260.51 Q1149.68 1259.56 1151.85 1259.56 Q1156.4 1259.56 1159.04 1262.34 Q1161.69 1265.09 1161.69 1269.85 Q1161.69 1274.51 1158.93 1277.32 Q1156.18 1280.14 1151.6 1280.14 Q1146.36 1280.14 1143.58 1276.13 Q1140.81 1272.1 1140.81 1264.46 Q1140.81 1257.29 1144.21 1253.04 Q1147.61 1248.76 1153.34 1248.76 Q1154.88 1248.76 1156.44 1249.07 Q1158.02 1249.37 1159.72 1249.98 Z\" fill=\"#000000\" fill-rule=\"evenodd\" fill-opacity=\"1\" /><path clip-path=\"url(#clip830)\" d=\"M1367.4 718.112 Q1364.24 718.112 1362.64 721.231 Q1361.06 724.33 1361.06 730.569 Q1361.06 736.787 1362.64 739.906 Q1364.24 743.005 1367.4 743.005 Q1370.58 743.005 1372.16 739.906 Q1373.76 736.787 1373.76 730.569 Q1373.76 724.33 1372.16 721.231 Q1370.58 718.112 1367.4 718.112 M1367.4 714.872 Q1372.48 714.872 1375.16 718.902 Q1377.85 722.913 1377.85 730.569 Q1377.85 738.205 1375.16 742.235 Q1372.48 746.246 1367.4 746.246 Q1362.31 746.246 1359.62 742.235 Q1356.95 738.205 1356.95 730.569 Q1356.95 722.913 1359.62 718.902 Q1362.31 714.872 1367.4 714.872 Z\" fill=\"#000000\" fill-rule=\"evenodd\" fill-opacity=\"1\" /><path clip-path=\"url(#clip830)\" d=\"M1385.04 740.514 L1389.31 740.514 L1389.31 745.658 L1385.04 745.658 L1385.04 740.514 Z\" fill=\"#000000\" fill-rule=\"evenodd\" fill-opacity=\"1\" /><path clip-path=\"url(#clip830)\" d=\"M1406.98 718.112 Q1403.82 718.112 1402.22 721.231 Q1400.64 724.33 1400.64 730.569 Q1400.64 736.787 1402.22 739.906 Q1403.82 743.005 1406.98 743.005 Q1410.16 743.005 1411.74 739.906 Q1413.34 736.787 1413.34 730.569 Q1413.34 724.33 1411.74 721.231 Q1410.16 718.112 1406.98 718.112 M1406.98 714.872 Q1412.06 714.872 1414.73 718.902 Q1417.43 722.913 1417.43 730.569 Q1417.43 738.205 1414.73 742.235 Q1412.06 746.246 1406.98 746.246 Q1401.89 746.246 1399.2 742.235 Q1396.52 738.205 1396.52 730.569 Q1396.52 722.913 1399.2 718.902 Q1401.89 714.872 1406.98 714.872 Z\" fill=\"#000000\" fill-rule=\"evenodd\" fill-opacity=\"1\" /><path clip-path=\"url(#clip830)\" d=\"M1437.01 729.353 Q1439.95 729.981 1441.59 731.966 Q1443.25 733.951 1443.25 736.868 Q1443.25 741.344 1440.17 743.795 Q1437.09 746.246 1431.42 746.246 Q1429.52 746.246 1427.49 745.861 Q1425.49 745.496 1423.34 744.747 L1423.34 740.797 Q1425.04 741.79 1427.07 742.296 Q1429.09 742.802 1431.3 742.802 Q1435.15 742.802 1437.16 741.283 Q1439.18 739.764 1439.18 736.868 Q1439.18 734.194 1437.3 732.695 Q1435.43 731.176 1432.09 731.176 L1428.57 731.176 L1428.57 727.814 L1432.25 727.814 Q1435.27 727.814 1436.87 726.619 Q1438.47 725.404 1438.47 723.135 Q1438.47 720.806 1436.81 719.571 Q1435.17 718.315 1432.09 718.315 Q1430.41 718.315 1428.49 718.679 Q1426.56 719.044 1424.25 719.814 L1424.25 716.168 Q1426.58 715.52 1428.61 715.196 Q1430.65 714.872 1432.46 714.872 Q1437.11 714.872 1439.83 716.998 Q1442.54 719.105 1442.54 722.71 Q1442.54 725.222 1441.1 726.963 Q1439.67 728.685 1437.01 729.353 Z\" fill=\"#000000\" fill-rule=\"evenodd\" fill-opacity=\"1\" /><path clip-path=\"url(#clip830)\" d=\"M1451.72 742.215 L1458.4 742.215 L1458.4 719.145 L1451.13 720.604 L1451.13 716.877 L1458.36 715.418 L1462.45 715.418 L1462.45 742.215 L1469.14 742.215 L1469.14 745.658 L1451.72 745.658 L1451.72 742.215 Z\" fill=\"#000000\" fill-rule=\"evenodd\" fill-opacity=\"1\" /><path clip-path=\"url(#clip830)\" d=\"M1601.68 710.642 Q1598.52 710.642 1596.92 713.761 Q1595.34 716.86 1595.34 723.099 Q1595.34 729.317 1596.92 732.436 Q1598.52 735.535 1601.68 735.535 Q1604.86 735.535 1606.44 732.436 Q1608.04 729.317 1608.04 723.099 Q1608.04 716.86 1606.44 713.761 Q1604.86 710.642 1601.68 710.642 M1601.68 707.402 Q1606.76 707.402 1609.44 711.432 Q1612.13 715.443 1612.13 723.099 Q1612.13 730.735 1609.44 734.765 Q1606.76 738.776 1601.68 738.776 Q1596.59 738.776 1593.9 734.765 Q1591.23 730.735 1591.23 723.099 Q1591.23 715.443 1593.9 711.432 Q1596.59 707.402 1601.68 707.402 Z\" fill=\"#000000\" fill-rule=\"evenodd\" fill-opacity=\"1\" /><path clip-path=\"url(#clip830)\" d=\"M1619.32 733.044 L1623.59 733.044 L1623.59 738.188 L1619.32 738.188 L1619.32 733.044 Z\" fill=\"#000000\" fill-rule=\"evenodd\" fill-opacity=\"1\" /><path clip-path=\"url(#clip830)\" d=\"M1641.26 710.642 Q1638.1 710.642 1636.5 713.761 Q1634.92 716.86 1634.92 723.099 Q1634.92 729.317 1636.5 732.436 Q1638.1 735.535 1641.26 735.535 Q1644.44 735.535 1646.02 732.436 Q1647.62 729.317 1647.62 723.099 Q1647.62 716.86 1646.02 713.761 Q1644.44 710.642 1641.26 710.642 M1641.26 707.402 Q1646.34 707.402 1649.01 711.432 Q1651.71 715.443 1651.71 723.099 Q1651.71 730.735 1649.01 734.765 Q1646.34 738.776 1641.26 738.776 Q1636.17 738.776 1633.48 734.765 Q1630.8 730.735 1630.8 723.099 Q1630.8 715.443 1633.48 711.432 Q1636.17 707.402 1641.26 707.402 Z\" fill=\"#000000\" fill-rule=\"evenodd\" fill-opacity=\"1\" /><path clip-path=\"url(#clip830)\" d=\"M1659.61 734.745 L1666.29 734.745 L1666.29 711.675 L1659.02 713.134 L1659.02 709.407 L1666.25 707.948 L1670.34 707.948 L1670.34 734.745 L1677.03 734.745 L1677.03 738.188 L1659.61 738.188 L1659.61 734.745 Z\" fill=\"#000000\" fill-rule=\"evenodd\" fill-opacity=\"1\" /><path clip-path=\"url(#clip830)\" d=\"M1688.81 734.745 L1703.09 734.745 L1703.09 738.188 L1683.89 738.188 L1683.89 734.745 Q1686.22 732.335 1690.23 728.284 Q1694.26 724.213 1695.29 723.038 Q1697.26 720.83 1698.03 719.311 Q1698.82 717.772 1698.82 716.293 Q1698.82 713.883 1697.12 712.364 Q1695.44 710.845 1692.72 710.845 Q1690.8 710.845 1688.65 711.513 Q1686.52 712.182 1684.09 713.539 L1684.09 709.407 Q1686.57 708.414 1688.71 707.908 Q1690.86 707.402 1692.64 707.402 Q1697.34 707.402 1700.14 709.751 Q1702.93 712.101 1702.93 716.03 Q1702.93 717.893 1702.22 719.575 Q1701.53 721.235 1699.69 723.504 Q1699.18 724.091 1696.47 726.907 Q1693.76 729.702 1688.81 734.745 Z\" fill=\"#000000\" fill-rule=\"evenodd\" fill-opacity=\"1\" /><path clip-path=\"url(#clip830)\" d=\"M1506.14 120.214 Q1502.98 120.214 1501.38 123.334 Q1499.8 126.432 1499.8 132.671 Q1499.8 138.889 1501.38 142.008 Q1502.98 145.107 1506.14 145.107 Q1509.32 145.107 1510.9 142.008 Q1512.5 138.889 1512.5 132.671 Q1512.5 126.432 1510.9 123.334 Q1509.32 120.214 1506.14 120.214 M1506.14 116.974 Q1511.23 116.974 1513.9 121.004 Q1516.59 125.015 1516.59 132.671 Q1516.59 140.307 1513.9 144.337 Q1511.23 148.348 1506.14 148.348 Q1501.06 148.348 1498.37 144.337 Q1495.69 140.307 1495.69 132.671 Q1495.69 125.015 1498.37 121.004 Q1501.06 116.974 1506.14 116.974 Z\" fill=\"#000000\" fill-rule=\"evenodd\" fill-opacity=\"1\" /><path clip-path=\"url(#clip830)\" d=\"M1523.79 142.616 L1528.06 142.616 L1528.06 147.76 L1523.79 147.76 L1523.79 142.616 Z\" fill=\"#000000\" fill-rule=\"evenodd\" fill-opacity=\"1\" /><path clip-path=\"url(#clip830)\" d=\"M1545.72 120.214 Q1542.56 120.214 1540.96 123.334 Q1539.38 126.432 1539.38 132.671 Q1539.38 138.889 1540.96 142.008 Q1542.56 145.107 1545.72 145.107 Q1548.9 145.107 1550.48 142.008 Q1552.08 138.889 1552.08 132.671 Q1552.08 126.432 1550.48 123.334 Q1548.9 120.214 1545.72 120.214 M1545.72 116.974 Q1550.8 116.974 1553.48 121.004 Q1556.17 125.015 1556.17 132.671 Q1556.17 140.307 1553.48 144.337 Q1550.8 148.348 1545.72 148.348 Q1540.64 148.348 1537.94 144.337 Q1535.27 140.307 1535.27 132.671 Q1535.27 125.015 1537.94 121.004 Q1540.64 116.974 1545.72 116.974 Z\" fill=\"#000000\" fill-rule=\"evenodd\" fill-opacity=\"1\" /><path clip-path=\"url(#clip830)\" d=\"M1574.6 121.085 L1564.27 137.228 L1574.6 137.228 L1574.6 121.085 M1573.53 117.52 L1578.67 117.52 L1578.67 137.228 L1582.99 137.228 L1582.99 140.631 L1578.67 140.631 L1578.67 147.76 L1574.6 147.76 L1574.6 140.631 L1560.95 140.631 L1560.95 136.681 L1573.53 117.52 Z\" fill=\"#000000\" fill-rule=\"evenodd\" fill-opacity=\"1\" /><path clip-path=\"url(#clip830)\" d=\"M1589.79 117.52 L1605.86 117.52 L1605.86 120.964 L1593.54 120.964 L1593.54 128.377 Q1594.43 128.073 1595.32 127.931 Q1596.22 127.769 1597.11 127.769 Q1602.17 127.769 1605.13 130.544 Q1608.08 133.319 1608.08 138.059 Q1608.08 142.94 1605.05 145.654 Q1602.01 148.348 1596.48 148.348 Q1594.57 148.348 1592.59 148.024 Q1590.63 147.7 1588.52 147.052 L1588.52 142.94 Q1590.34 143.932 1592.29 144.418 Q1594.23 144.905 1596.4 144.905 Q1599.9 144.905 1601.95 143.061 Q1603.99 141.218 1603.99 138.059 Q1603.99 134.899 1601.95 133.056 Q1599.9 131.213 1596.4 131.213 Q1594.76 131.213 1593.12 131.577 Q1591.5 131.942 1589.79 132.711 L1589.79 117.52 Z\" fill=\"#000000\" fill-rule=\"evenodd\" fill-opacity=\"1\" /><path clip-path=\"url(#clip830)\" d=\"M952.024 678.493 Q948.864 678.493 947.264 681.612 Q945.684 684.711 945.684 690.95 Q945.684 697.168 947.264 700.287 Q948.864 703.386 952.024 703.386 Q955.203 703.386 956.783 700.287 Q958.383 697.168 958.383 690.95 Q958.383 684.711 956.783 681.612 Q955.203 678.493 952.024 678.493 M952.024 675.252 Q957.107 675.252 959.781 679.283 Q962.475 683.293 962.475 690.95 Q962.475 698.585 959.781 702.616 Q957.107 706.627 952.024 706.627 Q946.94 706.627 944.246 702.616 Q941.572 698.585 941.572 690.95 Q941.572 683.293 944.246 679.283 Q946.94 675.252 952.024 675.252 Z\" fill=\"#000000\" fill-rule=\"evenodd\" fill-opacity=\"1\" /><path clip-path=\"url(#clip830)\" d=\"M969.665 700.894 L973.939 700.894 L973.939 706.039 L969.665 706.039 L969.665 700.894 Z\" fill=\"#000000\" fill-rule=\"evenodd\" fill-opacity=\"1\" /><path clip-path=\"url(#clip830)\" d=\"M983.56 702.596 L990.244 702.596 L990.244 679.526 L982.972 680.984 L982.972 677.257 L990.203 675.799 L994.295 675.799 L994.295 702.596 L1000.98 702.596 L1000.98 706.039 L983.56 706.039 L983.56 702.596 Z\" fill=\"#000000\" fill-rule=\"evenodd\" fill-opacity=\"1\" /><path clip-path=\"url(#clip830)\" d=\"M1021.64 689.734 Q1024.58 690.362 1026.22 692.347 Q1027.88 694.332 1027.88 697.249 Q1027.88 701.725 1024.8 704.176 Q1021.72 706.627 1016.05 706.627 Q1014.14 706.627 1012.12 706.242 Q1010.11 705.877 1007.97 705.128 L1007.97 701.178 Q1009.67 702.171 1011.69 702.677 Q1013.72 703.183 1015.93 703.183 Q1019.77 703.183 1021.78 701.664 Q1023.81 700.145 1023.81 697.249 Q1023.81 694.575 1021.92 693.076 Q1020.06 691.557 1016.72 691.557 L1013.19 691.557 L1013.19 688.195 L1016.88 688.195 Q1019.9 688.195 1021.5 687 Q1023.1 685.785 1023.1 683.516 Q1023.1 681.187 1021.44 679.951 Q1019.8 678.696 1016.72 678.696 Q1015.04 678.696 1013.11 679.06 Q1011.19 679.425 1008.88 680.194 L1008.88 676.549 Q1011.21 675.9 1013.23 675.576 Q1015.28 675.252 1017.08 675.252 Q1021.74 675.252 1024.45 677.379 Q1027.17 679.485 1027.17 683.091 Q1027.17 685.602 1025.73 687.344 Q1024.29 689.066 1021.64 689.734 Z\" fill=\"#000000\" fill-rule=\"evenodd\" fill-opacity=\"1\" /><path clip-path=\"url(#clip830)\" d=\"M1172.47 155.922 L1183.39 155.922 L1183.39 159.244 L1172.47 159.244 L1172.47 155.922 Z\" fill=\"#000000\" fill-rule=\"evenodd\" fill-opacity=\"1\" /><path clip-path=\"url(#clip830)\" d=\"M1198.6 141.4 Q1195.44 141.4 1193.84 144.519 Q1192.26 147.618 1192.26 153.856 Q1192.26 160.074 1193.84 163.194 Q1195.44 166.292 1198.6 166.292 Q1201.78 166.292 1203.36 163.194 Q1204.96 160.074 1204.96 153.856 Q1204.96 147.618 1203.36 144.519 Q1201.78 141.4 1198.6 141.4 M1198.6 138.159 Q1203.68 138.159 1206.36 142.19 Q1209.05 146.2 1209.05 153.856 Q1209.05 161.492 1206.36 165.523 Q1203.68 169.533 1198.6 169.533 Q1193.51 169.533 1190.82 165.523 Q1188.15 161.492 1188.15 153.856 Q1188.15 146.2 1190.82 142.19 Q1193.51 138.159 1198.6 138.159 Z\" fill=\"#000000\" fill-rule=\"evenodd\" fill-opacity=\"1\" /><path clip-path=\"url(#clip830)\" d=\"M1216.24 163.801 L1220.51 163.801 L1220.51 168.946 L1216.24 168.946 L1216.24 163.801 Z\" fill=\"#000000\" fill-rule=\"evenodd\" fill-opacity=\"1\" /><path clip-path=\"url(#clip830)\" d=\"M1241.82 152.641 Q1244.76 153.269 1246.4 155.254 Q1248.06 157.239 1248.06 160.155 Q1248.06 164.632 1244.98 167.082 Q1241.9 169.533 1236.23 169.533 Q1234.33 169.533 1232.3 169.148 Q1230.3 168.784 1228.15 168.034 L1228.15 164.085 Q1229.85 165.077 1231.88 165.584 Q1233.9 166.09 1236.11 166.09 Q1239.96 166.09 1241.96 164.571 Q1243.99 163.052 1243.99 160.155 Q1243.99 157.482 1242.1 155.983 Q1240.24 154.464 1236.9 154.464 L1233.37 154.464 L1233.37 151.102 L1237.06 151.102 Q1240.08 151.102 1241.68 149.907 Q1243.28 148.691 1243.28 146.423 Q1243.28 144.094 1241.62 142.858 Q1239.98 141.602 1236.9 141.602 Q1235.22 141.602 1233.29 141.967 Q1231.37 142.331 1229.06 143.101 L1229.06 139.455 Q1231.39 138.807 1233.42 138.483 Q1235.46 138.159 1237.26 138.159 Q1241.92 138.159 1244.64 140.286 Q1247.35 142.392 1247.35 145.997 Q1247.35 148.509 1245.91 150.251 Q1244.47 151.973 1241.82 152.641 Z\" fill=\"#000000\" fill-rule=\"evenodd\" fill-opacity=\"1\" /><path clip-path=\"url(#clip830)\" d=\"M1009.98 579.626 Q1006.82 579.626 1005.22 582.746 Q1003.64 585.845 1003.64 592.083 Q1003.64 598.301 1005.22 601.42 Q1006.82 604.519 1009.98 604.519 Q1013.16 604.519 1014.74 601.42 Q1016.34 598.301 1016.34 592.083 Q1016.34 585.845 1014.74 582.746 Q1013.16 579.626 1009.98 579.626 M1009.98 576.386 Q1015.06 576.386 1017.73 580.416 Q1020.43 584.427 1020.43 592.083 Q1020.43 599.719 1017.73 603.75 Q1015.06 607.76 1009.98 607.76 Q1004.89 607.76 1002.2 603.75 Q999.526 599.719 999.526 592.083 Q999.526 584.427 1002.2 580.416 Q1004.89 576.386 1009.98 576.386 Z\" fill=\"#000000\" fill-rule=\"evenodd\" fill-opacity=\"1\" /><path clip-path=\"url(#clip830)\" d=\"M1027.62 602.028 L1031.89 602.028 L1031.89 607.173 L1027.62 607.173 L1027.62 602.028 Z\" fill=\"#000000\" fill-rule=\"evenodd\" fill-opacity=\"1\" /><path clip-path=\"url(#clip830)\" d=\"M1041.51 603.729 L1048.2 603.729 L1048.2 580.659 L1040.93 582.118 L1040.93 578.391 L1048.16 576.933 L1052.25 576.933 L1052.25 603.729 L1058.93 603.729 L1058.93 607.173 L1041.51 607.173 L1041.51 603.729 Z\" fill=\"#000000\" fill-rule=\"evenodd\" fill-opacity=\"1\" /><path clip-path=\"url(#clip830)\" d=\"M1070.72 603.729 L1085 603.729 L1085 607.173 L1065.8 607.173 L1065.8 603.729 Q1068.13 601.319 1072.14 597.268 Q1076.17 593.197 1077.2 592.022 Q1079.17 589.814 1079.94 588.295 Q1080.73 586.756 1080.73 585.277 Q1080.73 582.867 1079.02 581.348 Q1077.34 579.829 1074.63 579.829 Q1072.71 579.829 1070.56 580.497 Q1068.43 581.166 1066 582.523 L1066 578.391 Q1068.47 577.398 1070.62 576.892 Q1072.77 576.386 1074.55 576.386 Q1079.25 576.386 1082.04 578.735 Q1084.84 581.085 1084.84 585.014 Q1084.84 586.877 1084.13 588.559 Q1083.44 590.219 1081.6 592.488 Q1081.09 593.075 1078.38 595.891 Q1075.66 598.686 1070.72 603.729 Z\" fill=\"#000000\" fill-rule=\"evenodd\" fill-opacity=\"1\" /><path clip-path=\"url(#clip830)\" d=\"M1019.84 699.868 Q1016.68 699.868 1015.08 702.987 Q1013.5 706.086 1013.5 712.325 Q1013.5 718.543 1015.08 721.662 Q1016.68 724.761 1019.84 724.761 Q1023.02 724.761 1024.59 721.662 Q1026.2 718.543 1026.2 712.325 Q1026.2 706.086 1024.59 702.987 Q1023.02 699.868 1019.84 699.868 M1019.84 696.627 Q1024.92 696.627 1027.59 700.658 Q1030.29 704.668 1030.29 712.325 Q1030.29 719.961 1027.59 723.991 Q1024.92 728.002 1019.84 728.002 Q1014.75 728.002 1012.06 723.991 Q1009.38 719.961 1009.38 712.325 Q1009.38 704.668 1012.06 700.658 Q1014.75 696.627 1019.84 696.627 Z\" fill=\"#000000\" fill-rule=\"evenodd\" fill-opacity=\"1\" /><path clip-path=\"url(#clip830)\" d=\"M1037.48 722.27 L1041.75 722.27 L1041.75 727.414 L1037.48 727.414 L1037.48 722.27 Z\" fill=\"#000000\" fill-rule=\"evenodd\" fill-opacity=\"1\" /><path clip-path=\"url(#clip830)\" d=\"M1059.41 699.868 Q1056.25 699.868 1054.65 702.987 Q1053.07 706.086 1053.07 712.325 Q1053.07 718.543 1054.65 721.662 Q1056.25 724.761 1059.41 724.761 Q1062.59 724.761 1064.17 721.662 Q1065.77 718.543 1065.77 712.325 Q1065.77 706.086 1064.17 702.987 Q1062.59 699.868 1059.41 699.868 M1059.41 696.627 Q1064.5 696.627 1067.17 700.658 Q1069.86 704.668 1069.86 712.325 Q1069.86 719.961 1067.17 723.991 Q1064.5 728.002 1059.41 728.002 Q1054.33 728.002 1051.63 723.991 Q1048.96 719.961 1048.96 712.325 Q1048.96 704.668 1051.63 700.658 Q1054.33 696.627 1059.41 696.627 Z\" fill=\"#000000\" fill-rule=\"evenodd\" fill-opacity=\"1\" /><path clip-path=\"url(#clip830)\" d=\"M1085.8 699.868 Q1082.64 699.868 1081.04 702.987 Q1079.46 706.086 1079.46 712.325 Q1079.46 718.543 1081.04 721.662 Q1082.64 724.761 1085.8 724.761 Q1088.98 724.761 1090.56 721.662 Q1092.16 718.543 1092.16 712.325 Q1092.16 706.086 1090.56 702.987 Q1088.98 699.868 1085.8 699.868 M1085.8 696.627 Q1090.89 696.627 1093.56 700.658 Q1096.26 704.668 1096.26 712.325 Q1096.26 719.961 1093.56 723.991 Q1090.89 728.002 1085.8 728.002 Q1080.72 728.002 1078.03 723.991 Q1075.35 719.961 1075.35 712.325 Q1075.35 704.668 1078.03 700.658 Q1080.72 696.627 1085.8 696.627 Z\" fill=\"#000000\" fill-rule=\"evenodd\" fill-opacity=\"1\" /><path clip-path=\"url(#clip830)\" d=\"M1112.2 713.054 Q1109.28 713.054 1107.6 714.613 Q1105.94 716.173 1105.94 718.907 Q1105.94 721.642 1107.6 723.201 Q1109.28 724.761 1112.2 724.761 Q1115.11 724.761 1116.79 723.201 Q1118.47 721.621 1118.47 718.907 Q1118.47 716.173 1116.79 714.613 Q1115.13 713.054 1112.2 713.054 M1108.1 711.312 Q1105.47 710.664 1103.99 708.861 Q1102.53 707.058 1102.53 704.466 Q1102.53 700.84 1105.11 698.734 Q1107.7 696.627 1112.2 696.627 Q1116.71 696.627 1119.28 698.734 Q1121.86 700.84 1121.86 704.466 Q1121.86 707.058 1120.38 708.861 Q1118.92 710.664 1116.31 711.312 Q1119.26 712.001 1120.91 714.006 Q1122.57 716.011 1122.57 718.907 Q1122.57 723.303 1119.87 725.652 Q1117.2 728.002 1112.2 728.002 Q1107.19 728.002 1104.5 725.652 Q1101.83 723.303 1101.83 718.907 Q1101.83 716.011 1103.49 714.006 Q1105.15 712.001 1108.1 711.312 M1106.61 704.851 Q1106.61 707.2 1108.06 708.517 Q1109.54 709.833 1112.2 709.833 Q1114.83 709.833 1116.31 708.517 Q1117.81 707.2 1117.81 704.851 Q1117.81 702.501 1116.31 701.185 Q1114.83 699.868 1112.2 699.868 Q1109.54 699.868 1108.06 701.185 Q1106.61 702.501 1106.61 704.851 Z\" fill=\"#000000\" fill-rule=\"evenodd\" fill-opacity=\"1\" /><path clip-path=\"url(#clip830)\" d=\"M1130.55 723.971 L1137.23 723.971 L1137.23 700.901 L1129.96 702.359 L1129.96 698.633 L1137.19 697.174 L1141.28 697.174 L1141.28 723.971 L1147.97 723.971 L1147.97 727.414 L1130.55 727.414 L1130.55 723.971 Z\" fill=\"#000000\" fill-rule=\"evenodd\" fill-opacity=\"1\" /><path clip-path=\"url(#clip830)\" d=\"M828.13 189.809 Q824.97 189.809 823.37 192.928 Q821.79 196.027 821.79 202.266 Q821.79 208.484 823.37 211.603 Q824.97 214.702 828.13 214.702 Q831.31 214.702 832.89 211.603 Q834.49 208.484 834.49 202.266 Q834.49 196.027 832.89 192.928 Q831.31 189.809 828.13 189.809 M828.13 186.568 Q833.214 186.568 835.888 190.599 Q838.581 194.609 838.581 202.266 Q838.581 209.902 835.888 213.932 Q833.214 217.943 828.13 217.943 Q823.046 217.943 820.352 213.932 Q817.679 209.902 817.679 202.266 Q817.679 194.609 820.352 190.599 Q823.046 186.568 828.13 186.568 Z\" fill=\"#000000\" fill-rule=\"evenodd\" fill-opacity=\"1\" /><path clip-path=\"url(#clip830)\" d=\"M845.772 212.211 L850.045 212.211 L850.045 217.355 L845.772 217.355 L845.772 212.211 Z\" fill=\"#000000\" fill-rule=\"evenodd\" fill-opacity=\"1\" /><path clip-path=\"url(#clip830)\" d=\"M859.666 213.912 L866.35 213.912 L866.35 190.842 L859.079 192.3 L859.079 188.574 L866.31 187.115 L870.401 187.115 L870.401 213.912 L877.085 213.912 L877.085 217.355 L859.666 217.355 L859.666 213.912 Z\" fill=\"#000000\" fill-rule=\"evenodd\" fill-opacity=\"1\" /><path clip-path=\"url(#clip830)\" d=\"M888.873 213.912 L903.153 213.912 L903.153 217.355 L883.951 217.355 L883.951 213.912 Q886.281 211.502 890.291 207.451 Q894.322 203.38 895.355 202.205 Q897.319 199.997 898.089 198.478 Q898.879 196.939 898.879 195.46 Q898.879 193.05 897.178 191.531 Q895.497 190.012 892.782 190.012 Q890.858 190.012 888.711 190.68 Q886.585 191.348 884.154 192.706 L884.154 188.574 Q886.625 187.581 888.772 187.075 Q890.919 186.568 892.701 186.568 Q897.4 186.568 900.196 188.918 Q902.991 191.267 902.991 195.197 Q902.991 197.06 902.282 198.741 Q901.593 200.402 899.75 202.671 Q899.244 203.258 896.53 206.074 Q893.815 208.869 888.873 213.912 Z\" fill=\"#000000\" fill-rule=\"evenodd\" fill-opacity=\"1\" /><path clip-path=\"url(#clip830)\" d=\"M386.907 481.563 L397.825 481.563 L397.825 484.885 L386.907 484.885 L386.907 481.563 Z\" fill=\"#000000\" fill-rule=\"evenodd\" fill-opacity=\"1\" /><path clip-path=\"url(#clip830)\" d=\"M413.036 467.041 Q409.876 467.041 408.276 470.16 Q406.696 473.259 406.696 479.497 Q406.696 485.715 408.276 488.834 Q409.876 491.933 413.036 491.933 Q416.216 491.933 417.796 488.834 Q419.396 485.715 419.396 479.497 Q419.396 473.259 417.796 470.16 Q416.216 467.041 413.036 467.041 M413.036 463.8 Q418.12 463.8 420.793 467.831 Q423.487 471.841 423.487 479.497 Q423.487 487.133 420.793 491.164 Q418.12 495.174 413.036 495.174 Q407.952 495.174 405.258 491.164 Q402.584 487.133 402.584 479.497 Q402.584 471.841 405.258 467.831 Q407.952 463.8 413.036 463.8 Z\" fill=\"#000000\" fill-rule=\"evenodd\" fill-opacity=\"1\" /><path clip-path=\"url(#clip830)\" d=\"M430.677 489.442 L434.951 489.442 L434.951 494.587 L430.677 494.587 L430.677 489.442 Z\" fill=\"#000000\" fill-rule=\"evenodd\" fill-opacity=\"1\" /><path clip-path=\"url(#clip830)\" d=\"M444.572 491.143 L451.256 491.143 L451.256 468.074 L443.985 469.532 L443.985 465.805 L451.216 464.347 L455.307 464.347 L455.307 491.143 L461.991 491.143 L461.991 494.587 L444.572 494.587 L444.572 491.143 Z\" fill=\"#000000\" fill-rule=\"evenodd\" fill-opacity=\"1\" /><path clip-path=\"url(#clip830)\" d=\"M482.651 478.282 Q485.587 478.91 487.228 480.895 Q488.889 482.88 488.889 485.796 Q488.889 490.273 485.81 492.723 Q482.732 495.174 477.06 495.174 Q475.156 495.174 473.131 494.789 Q471.126 494.425 468.979 493.675 L468.979 489.726 Q470.68 490.718 472.706 491.225 Q474.731 491.731 476.939 491.731 Q480.787 491.731 482.792 490.212 Q484.818 488.693 484.818 485.796 Q484.818 483.123 482.934 481.624 Q481.071 480.105 477.729 480.105 L474.204 480.105 L474.204 476.743 L477.891 476.743 Q480.909 476.743 482.509 475.548 Q484.109 474.332 484.109 472.064 Q484.109 469.734 482.448 468.499 Q480.807 467.243 477.729 467.243 Q476.048 467.243 474.123 467.608 Q472.199 467.972 469.89 468.742 L469.89 465.096 Q472.219 464.448 474.245 464.124 Q476.291 463.8 478.093 463.8 Q482.752 463.8 485.466 465.927 Q488.18 468.033 488.18 471.638 Q488.18 474.15 486.742 475.892 Q485.304 477.613 482.651 478.282 Z\" fill=\"#000000\" fill-rule=\"evenodd\" fill-opacity=\"1\" /><path clip-path=\"url(#clip830)\" d=\"M1643.86 1349.36 L1650.54 1349.36 L1650.54 1326.29 L1643.27 1327.75 L1643.27 1324.02 L1650.5 1322.56 L1654.59 1322.56 L1654.59 1349.36 L1661.28 1349.36 L1661.28 1352.8 L1643.86 1352.8 L1643.86 1349.36 Z\" fill=\"#000000\" fill-rule=\"evenodd\" fill-opacity=\"1\" /><path clip-path=\"url(#clip830)\" d=\"M1733 426.001 L1747.28 426.001 L1747.28 429.444 L1728.08 429.444 L1728.08 426.001 Q1730.41 423.59 1734.42 419.539 Q1738.45 415.468 1739.49 414.293 Q1741.45 412.086 1742.22 410.567 Q1743.01 409.027 1743.01 407.549 Q1743.01 405.138 1741.31 403.619 Q1739.63 402.1 1736.91 402.1 Q1734.99 402.1 1732.84 402.769 Q1730.72 403.437 1728.28 404.794 L1728.28 400.662 Q1730.76 399.67 1732.9 399.163 Q1735.05 398.657 1736.83 398.657 Q1741.53 398.657 1744.33 401.007 Q1747.12 403.356 1747.12 407.285 Q1747.12 409.149 1746.41 410.83 Q1745.72 412.491 1743.88 414.759 Q1743.37 415.347 1740.66 418.162 Q1737.95 420.957 1733 426.001 Z\" fill=\"#000000\" fill-rule=\"evenodd\" fill-opacity=\"1\" /><path clip-path=\"url(#clip830)\" d=\"M1161.12 1157.96 Q1164.06 1158.58 1165.7 1160.57 Q1167.36 1162.55 1167.36 1165.47 Q1167.36 1169.95 1164.28 1172.4 Q1161.2 1174.85 1155.53 1174.85 Q1153.63 1174.85 1151.6 1174.46 Q1149.6 1174.1 1147.45 1173.35 L1147.45 1169.4 Q1149.15 1170.39 1151.18 1170.9 Q1153.2 1171.4 1155.41 1171.4 Q1159.26 1171.4 1161.26 1169.89 Q1163.29 1168.37 1163.29 1165.47 Q1163.29 1162.8 1161.41 1161.3 Q1159.54 1159.78 1156.2 1159.78 L1152.68 1159.78 L1152.68 1156.42 L1156.36 1156.42 Q1159.38 1156.42 1160.98 1155.22 Q1162.58 1154.01 1162.58 1151.74 Q1162.58 1149.41 1160.92 1148.17 Q1159.28 1146.92 1156.2 1146.92 Q1154.52 1146.92 1152.59 1147.28 Q1150.67 1147.65 1148.36 1148.42 L1148.36 1144.77 Q1150.69 1144.12 1152.72 1143.8 Q1154.76 1143.47 1156.56 1143.47 Q1161.22 1143.47 1163.94 1145.6 Q1166.65 1147.71 1166.65 1151.31 Q1166.65 1153.82 1165.21 1155.57 Q1163.78 1157.29 1161.12 1157.96 Z\" fill=\"#000000\" fill-rule=\"evenodd\" fill-opacity=\"1\" /><path clip-path=\"url(#clip830)\" d=\"M1242.99 250.762 L1232.66 266.905 L1242.99 266.905 L1242.99 250.762 M1241.92 247.197 L1247.07 247.197 L1247.07 266.905 L1251.38 266.905 L1251.38 270.308 L1247.07 270.308 L1247.07 277.437 L1242.99 277.437 L1242.99 270.308 L1229.34 270.308 L1229.34 266.358 L1241.92 247.197 Z\" fill=\"#000000\" fill-rule=\"evenodd\" fill-opacity=\"1\" /><path clip-path=\"url(#clip830)\" d=\"M653.81 516.851 L669.872 516.851 L669.872 520.294 L657.557 520.294 L657.557 527.707 Q658.449 527.403 659.34 527.261 Q660.231 527.099 661.122 527.099 Q666.186 527.099 669.143 529.874 Q672.1 532.649 672.1 537.389 Q672.1 542.27 669.062 544.984 Q666.024 547.678 660.494 547.678 Q658.59 547.678 656.605 547.354 Q654.641 547.03 652.534 546.382 L652.534 542.27 Q654.357 543.263 656.302 543.749 Q658.246 544.235 660.413 544.235 Q663.917 544.235 665.963 542.392 Q668.009 540.548 668.009 537.389 Q668.009 534.229 665.963 532.386 Q663.917 530.543 660.413 530.543 Q658.773 530.543 657.132 530.907 Q655.512 531.272 653.81 532.042 L653.81 516.851 Z\" fill=\"#000000\" fill-rule=\"evenodd\" fill-opacity=\"1\" /></svg>\n"
      ]
     },
     "execution_count": 39,
     "metadata": {},
     "output_type": "execute_result"
    }
   ],
   "source": [
    "n = 5\n",
    "edgelabel_dict = Dict()\n",
    "edgelabel_mat = Array{String}(undef, n, n)\n",
    "for i in 1:n\n",
    "    for j in 1:n\n",
    "        edgelabel_mat[i, j] = edgelabel_dict[(i, j)] = string(round(g[i,j],sigdigits=2)) \n",
    "    end\n",
    "end\n",
    "edgelabel_vec = edgelabel_mat[:]\n",
    "\n",
    "\n",
    "graphplot(g, names=1:5, curvature_scalar=0.2,  edgelabel=edgelabel_dict, markersize = 0.5,\n",
    "           linecolor = :darkgrey, markercolor = \"yellow\",\n",
    "           linealpha = 0.7)"
   ]
  },
  {
   "cell_type": "code",
   "execution_count": 40,
   "id": "63df4e12",
   "metadata": {},
   "outputs": [
    {
     "data": {
      "text/plain": [
       "5×5 Matrix{Float64}:\n",
       " -0.423105     0.394385    0.0303724    -0.00188828   0.000235193\n",
       "  0.225231    -0.279031    0.0518874     0.0022737   -0.000361583\n",
       "  0.0525528    0.636447   -0.732158      0.0458914   -0.00273378\n",
       " -0.0296419    0.0464765   0.186124     -0.34269      0.139732\n",
       "  0.00843334  -0.0192055   0.000215816   0.145855    -0.135298"
      ]
     },
     "execution_count": 40,
     "metadata": {},
     "output_type": "execute_result"
    }
   ],
   "source": [
    "tt=4\n",
    "g+tt*g^2/2+tt^3*g^3/6+tt^4*g^4/24"
   ]
  },
  {
   "cell_type": "code",
   "execution_count": 41,
   "id": "28b1c0c8",
   "metadata": {},
   "outputs": [
    {
     "data": {
      "text/plain": [
       "5×5 Matrix{Float64}:\n",
       " 0.428317   0.519017   0.0474505  0.00446761  0.000747461\n",
       " 0.285887   0.65056    0.0550515  0.00699953  0.00150122\n",
       " 0.219469   0.591072   0.151541   0.0289299   0.00898843\n",
       " 0.0811992  0.236423   0.115946   0.356784    0.209647\n",
       " 0.0183684  0.0612607  0.0477347  0.219748    0.652888"
      ]
     },
     "execution_count": 41,
     "metadata": {},
     "output_type": "execute_result"
    }
   ],
   "source": [
    "exp(g*tt)"
   ]
  },
  {
   "cell_type": "code",
   "execution_count": 53,
   "id": "5364e7a7",
   "metadata": {},
   "outputs": [
    {
     "data": {
      "text/plain": [
       "-119.69962496882795"
      ]
     },
     "execution_count": 53,
     "metadata": {},
     "output_type": "execute_result"
    }
   ],
   "source": []
  },
  {
   "cell_type": "code",
   "execution_count": 110,
   "id": "3aa3dabf",
   "metadata": {},
   "outputs": [
    {
     "data": {
      "text/plain": [
       "5-element Vector{Float64}:\n",
       " 0.1\n",
       " 0.32\n",
       " 0.2\n",
       " 0.11\n",
       " 0.4"
      ]
     },
     "execution_count": 110,
     "metadata": {},
     "output_type": "execute_result"
    }
   ],
   "source": [
    "tk=vec([1 34 2 112 44])\n",
    "xk=vec([0.1 0.32 0.2 0.11 0.4])"
   ]
  },
  {
   "cell_type": "code",
   "execution_count": 48,
   "id": "3468f6cb",
   "metadata": {},
   "outputs": [
    {
     "data": {
      "text/html": [
       "<div class=\"data-frame\"><p>25 rows × 6 columns</p><table class=\"data-frame\"><thead><tr><th></th><th>k</th><th>i</th><th>GWP</th><th>Theta</th><th>Per_Recycl</th><th>Per_Comp</th></tr><tr><th></th><th title=\"Int64\">Int64</th><th title=\"Int64\">Int64</th><th title=\"Int64\">Int64</th><th title=\"Float64\">Float64</th><th title=\"Float64\">Float64</th><th title=\"Float64\">Float64</th></tr></thead><tbody><tr><th>1</th><td>1</td><td>1</td><td>80</td><td>0.6</td><td>0.5</td><td>0.0</td></tr><tr><th>2</th><td>2</td><td>1</td><td>86</td><td>0.66</td><td>0.55</td><td>0.0</td></tr><tr><th>3</th><td>3</td><td>1</td><td>91</td><td>0.68</td><td>0.567</td><td>0.0</td></tr><tr><th>4</th><td>4</td><td>1</td><td>95</td><td>0.7</td><td>0.583</td><td>0.0</td></tr><tr><th>5</th><td>5</td><td>2</td><td>60</td><td>0.4</td><td>0.0</td><td>0.2</td></tr><tr><th>6</th><td>6</td><td>2</td><td>64</td><td>0.48</td><td>0.0</td><td>0.24</td></tr><tr><th>7</th><td>7</td><td>2</td><td>68</td><td>0.5</td><td>0.0</td><td>0.27</td></tr><tr><th>8</th><td>8</td><td>2</td><td>76</td><td>0.52</td><td>0.0</td><td>0.34</td></tr><tr><th>9</th><td>9</td><td>2</td><td>80</td><td>0.54</td><td>0.0</td><td>0.37</td></tr><tr><th>10</th><td>10</td><td>2</td><td>85</td><td>0.55</td><td>0.0</td><td>0.4</td></tr><tr><th>11</th><td>11</td><td>3</td><td>85</td><td>0.6</td><td>0.6</td><td>0.3</td></tr><tr><th>12</th><td>12</td><td>3</td><td>89</td><td>0.68</td><td>0.55</td><td>0.4</td></tr><tr><th>13</th><td>13</td><td>3</td><td>93</td><td>0.76</td><td>0.53</td><td>0.4</td></tr><tr><th>14</th><td>14</td><td>3</td><td>95</td><td>0.82</td><td>0.5</td><td>0.4</td></tr><tr><th>15</th><td>15</td><td>4</td><td>75</td><td>0.65</td><td>0.0</td><td>0.5</td></tr><tr><th>16</th><td>16</td><td>4</td><td>78</td><td>0.69</td><td>0.0</td><td>0.531</td></tr><tr><th>17</th><td>17</td><td>4</td><td>80</td><td>0.71</td><td>0.0</td><td>0.55</td></tr><tr><th>18</th><td>18</td><td>4</td><td>81</td><td>0.72</td><td>0.0</td><td>0.55</td></tr><tr><th>19</th><td>19</td><td>4</td><td>83</td><td>0.74</td><td>0.0</td><td>0.57</td></tr><tr><th>20</th><td>20</td><td>4</td><td>85</td><td>0.75</td><td>0.0</td><td>0.8</td></tr><tr><th>21</th><td>21</td><td>5</td><td>90</td><td>0.9</td><td>0.7</td><td>0.15</td></tr><tr><th>22</th><td>22</td><td>5</td><td>92</td><td>0.92</td><td>0.716</td><td>0.1</td></tr><tr><th>23</th><td>23</td><td>5</td><td>94</td><td>0.94</td><td>0.731</td><td>0.0</td></tr><tr><th>24</th><td>24</td><td>5</td><td>96</td><td>0.95</td><td>0.738</td><td>0.0</td></tr><tr><th>25</th><td>25</td><td>5</td><td>100</td><td>0.95</td><td>0.738</td><td>0.0</td></tr></tbody></table></div>"
      ],
      "text/latex": [
       "\\begin{tabular}{r|cccccc}\n",
       "\t& k & i & GWP & Theta & Per\\_Recycl & Per\\_Comp\\\\\n",
       "\t\\hline\n",
       "\t& Int64 & Int64 & Int64 & Float64 & Float64 & Float64\\\\\n",
       "\t\\hline\n",
       "\t1 & 1 & 1 & 80 & 0.6 & 0.5 & 0.0 \\\\\n",
       "\t2 & 2 & 1 & 86 & 0.66 & 0.55 & 0.0 \\\\\n",
       "\t3 & 3 & 1 & 91 & 0.68 & 0.567 & 0.0 \\\\\n",
       "\t4 & 4 & 1 & 95 & 0.7 & 0.583 & 0.0 \\\\\n",
       "\t5 & 5 & 2 & 60 & 0.4 & 0.0 & 0.2 \\\\\n",
       "\t6 & 6 & 2 & 64 & 0.48 & 0.0 & 0.24 \\\\\n",
       "\t7 & 7 & 2 & 68 & 0.5 & 0.0 & 0.27 \\\\\n",
       "\t8 & 8 & 2 & 76 & 0.52 & 0.0 & 0.34 \\\\\n",
       "\t9 & 9 & 2 & 80 & 0.54 & 0.0 & 0.37 \\\\\n",
       "\t10 & 10 & 2 & 85 & 0.55 & 0.0 & 0.4 \\\\\n",
       "\t11 & 11 & 3 & 85 & 0.6 & 0.6 & 0.3 \\\\\n",
       "\t12 & 12 & 3 & 89 & 0.68 & 0.55 & 0.4 \\\\\n",
       "\t13 & 13 & 3 & 93 & 0.76 & 0.53 & 0.4 \\\\\n",
       "\t14 & 14 & 3 & 95 & 0.82 & 0.5 & 0.4 \\\\\n",
       "\t15 & 15 & 4 & 75 & 0.65 & 0.0 & 0.5 \\\\\n",
       "\t16 & 16 & 4 & 78 & 0.69 & 0.0 & 0.531 \\\\\n",
       "\t17 & 17 & 4 & 80 & 0.71 & 0.0 & 0.55 \\\\\n",
       "\t18 & 18 & 4 & 81 & 0.72 & 0.0 & 0.55 \\\\\n",
       "\t19 & 19 & 4 & 83 & 0.74 & 0.0 & 0.57 \\\\\n",
       "\t20 & 20 & 4 & 85 & 0.75 & 0.0 & 0.8 \\\\\n",
       "\t21 & 21 & 5 & 90 & 0.9 & 0.7 & 0.15 \\\\\n",
       "\t22 & 22 & 5 & 92 & 0.92 & 0.716 & 0.1 \\\\\n",
       "\t23 & 23 & 5 & 94 & 0.94 & 0.731 & 0.0 \\\\\n",
       "\t24 & 24 & 5 & 96 & 0.95 & 0.738 & 0.0 \\\\\n",
       "\t25 & 25 & 5 & 100 & 0.95 & 0.738 & 0.0 \\\\\n",
       "\\end{tabular}\n"
      ],
      "text/plain": [
       "\u001b[1m25×6 DataFrame\u001b[0m\n",
       "\u001b[1m Row \u001b[0m│\u001b[1m k     \u001b[0m\u001b[1m i     \u001b[0m\u001b[1m GWP   \u001b[0m\u001b[1m Theta   \u001b[0m\u001b[1m Per_Recycl \u001b[0m\u001b[1m Per_Comp \u001b[0m\n",
       "\u001b[1m     \u001b[0m│\u001b[90m Int64 \u001b[0m\u001b[90m Int64 \u001b[0m\u001b[90m Int64 \u001b[0m\u001b[90m Float64 \u001b[0m\u001b[90m Float64    \u001b[0m\u001b[90m Float64  \u001b[0m\n",
       "─────┼────────────────────────────────────────────────────\n",
       "   1 │     1      1     80     0.6        0.5       0.0\n",
       "   2 │     2      1     86     0.66       0.55      0.0\n",
       "   3 │     3      1     91     0.68       0.567     0.0\n",
       "   4 │     4      1     95     0.7        0.583     0.0\n",
       "   5 │     5      2     60     0.4        0.0       0.2\n",
       "   6 │     6      2     64     0.48       0.0       0.24\n",
       "   7 │     7      2     68     0.5        0.0       0.27\n",
       "   8 │     8      2     76     0.52       0.0       0.34\n",
       "   9 │     9      2     80     0.54       0.0       0.37\n",
       "  10 │    10      2     85     0.55       0.0       0.4\n",
       "  11 │    11      3     85     0.6        0.6       0.3\n",
       "  ⋮  │   ⋮      ⋮      ⋮       ⋮         ⋮          ⋮\n",
       "  16 │    16      4     78     0.69       0.0       0.531\n",
       "  17 │    17      4     80     0.71       0.0       0.55\n",
       "  18 │    18      4     81     0.72       0.0       0.55\n",
       "  19 │    19      4     83     0.74       0.0       0.57\n",
       "  20 │    20      4     85     0.75       0.0       0.8\n",
       "  21 │    21      5     90     0.9        0.7       0.15\n",
       "  22 │    22      5     92     0.92       0.716     0.1\n",
       "  23 │    23      5     94     0.94       0.731     0.0\n",
       "  24 │    24      5     96     0.95       0.738     0.0\n",
       "  25 │    25      5    100     0.95       0.738     0.0\n",
       "\u001b[36m                                            4 rows omitted\u001b[0m"
      ]
     },
     "execution_count": 48,
     "metadata": {},
     "output_type": "execute_result"
    }
   ],
   "source": [
    "xk[give_sorted(tk)]\n",
    "v=give_sorted(tk)\n",
    "v\n",
    "compromise"
   ]
  },
  {
   "cell_type": "code",
   "execution_count": 108,
   "id": "4e2ead5b-7b01-4354-895b-dfc62df29869",
   "metadata": {},
   "outputs": [
    {
     "data": {
      "text/plain": [
       "1×5 Matrix{Float64}:\n",
       " 0.394056  0.229994  0.212292  0.0619876  0.101671"
      ]
     },
     "execution_count": 108,
     "metadata": {},
     "output_type": "execute_result"
    }
   ],
   "source": [
    "q=get_rate_mat(2)\n",
    "t=50\n",
    "s0=[0 0 0 1 0]\n",
    "(s0*(exp(q*t)))"
   ]
  },
  {
   "cell_type": "code",
   "execution_count": 49,
   "id": "d0749555",
   "metadata": {},
   "outputs": [
    {
     "name": "stdout",
     "output_type": "stream",
     "text": [
      "0.0\n",
      "0.0\n",
      "0.0\n",
      "0.0\n",
      "0.0\n",
      "0.0\n",
      "0.0\n",
      "0.0\n",
      "0.0\n",
      "0.0\n",
      "0.0\n",
      "0.0\n",
      "0.0\n",
      "0.0\n",
      "0.0\n",
      "0.0\n",
      "0.0\n",
      "0.0\n",
      "0.0\n",
      "0.0\n",
      "0.0\n",
      "1.0\n",
      "1.0\n",
      "1.0\n",
      "1.0\n"
     ]
    }
   ],
   "source": [
    "for i in 1:size(tk)[1]\n",
    "    print(sum(xk[v[j]] for j in 1:i))\n",
    "    print(\"\\n\")\n",
    "end"
   ]
  },
  {
   "cell_type": "code",
   "execution_count": 99,
   "id": "73d91cf2",
   "metadata": {},
   "outputs": [
    {
     "data": {
      "text/plain": [
       "5"
      ]
     },
     "execution_count": 99,
     "metadata": {},
     "output_type": "execute_result"
    }
   ],
   "source": [
    "size(tk)[1]"
   ]
  },
  {
   "cell_type": "code",
   "execution_count": 122,
   "id": "76fb40ab",
   "metadata": {},
   "outputs": [
    {
     "name": "stdout",
     "output_type": "stream",
     "text": [
      "96.0\n",
      "34.8\n",
      "-162.32\n",
      "-1954.3200000000002\n"
     ]
    }
   ],
   "source": [
    "for i in 1:(size(tk)[1]-1)\n",
    "    print(initial[1,3]*tk[v][1]-sum(xk[v[j]]*tk[v][j+1]*(initial[1,3]-compromise[v,3][j]) for j in 1:i))\n",
    "    print(\"\\n\")\n",
    "end"
   ]
  },
  {
   "cell_type": "code",
   "execution_count": 116,
   "id": "94fb60e1",
   "metadata": {},
   "outputs": [
    {
     "data": {
      "text/plain": [
       "5×5 Matrix{Float64}:\n",
       " -3.2027     2.42126    1.78144     0.0        0.0\n",
       "  6.87956   -9.21963    2.93413     0.405941   0.0\n",
       "  1.78832    3.83202   -6.54113     1.92079    0.0\n",
       "  0.456204   0.308399   9.49102   -18.1842     8.92857\n",
       "  0.0        0.0        0.763473    7.57426   -7.33773"
      ]
     },
     "execution_count": 116,
     "metadata": {},
     "output_type": "execute_result"
    }
   ],
   "source": [
    "apprx=I+get_rate_mat(4)*50"
   ]
  },
  {
   "cell_type": "code",
   "execution_count": 142,
   "id": "96625c4f-7709-4cd3-99af-6d31c7d93f0e",
   "metadata": {},
   "outputs": [
    {
     "data": {
      "text/plain": [
       "1×5 Matrix{Float64}:\n",
       " 5.36496  11.4961  -19.6234  5.76238  0.0"
      ]
     },
     "execution_count": 142,
     "metadata": {},
     "output_type": "execute_result"
    }
   ],
   "source": [
    "n1=[1 2 3 4 5].*[0 0 1 0 0]*apprx"
   ]
  },
  {
   "cell_type": "code",
   "execution_count": 144,
   "id": "cbfc6aaa-e841-4735-815c-863c4bf3e725",
   "metadata": {},
   "outputs": [
    {
     "data": {
      "text/plain": [
       "3.0"
      ]
     },
     "execution_count": 144,
     "metadata": {},
     "output_type": "execute_result"
    }
   ],
   "source": [
    "sum(n1)"
   ]
  },
  {
   "cell_type": "code",
   "execution_count": 148,
   "id": "e4346172-859d-49f5-911a-a71d509d20fc",
   "metadata": {},
   "outputs": [
    {
     "data": {
      "text/plain": [
       "5×5 Matrix{Float64}:\n",
       "  15.5501   -11.6256     -5.12686    2.20233     0.0\n",
       " -40.0139    57.0139    -15.0679    -2.74423     1.81223\n",
       "   4.9069   -27.7366     38.2231   -22.9683      8.57496\n",
       "   4.66892   14.5115   -113.067    208.824    -113.937\n",
       "   2.41037    2.63077    30.6456   -95.9216     61.2348"
      ]
     },
     "execution_count": 148,
     "metadata": {},
     "output_type": "execute_result"
    }
   ],
   "source": [
    "i=4\n",
    "s0=[0 0 0 0 0]\n",
    "s0[i]=rl[i]\n",
    "q=get_rate_mat(i)\n",
    "apprx=I+q*50+1/2*t^2*q^2"
   ]
  },
  {
   "cell_type": "code",
   "execution_count": 149,
   "id": "1b70908a-ab80-448f-bebf-11643b4c0ba1",
   "metadata": {},
   "outputs": [
    {
     "data": {
      "text/plain": [
       "2.999999999999986"
      ]
     },
     "execution_count": 149,
     "metadata": {},
     "output_type": "execute_result"
    }
   ],
   "source": [
    "n1=[1 2 3 4 5].*[0 0 1 0 0]*apprx\n",
    "sum(n1)"
   ]
  },
  {
   "cell_type": "code",
   "execution_count": 155,
   "id": "ea7ce0db-61af-4f60-a7f7-557c856ec2f9",
   "metadata": {},
   "outputs": [
    {
     "data": {
      "text/plain": [
       "-119.69962496882795"
      ]
     },
     "execution_count": 155,
     "metadata": {},
     "output_type": "execute_result"
    }
   ],
   "source": [
    "get_RL_atT(4,50)"
   ]
  },
  {
   "cell_type": "code",
   "execution_count": null,
   "id": "ecd28874-fd6c-4fe2-b6b7-766fd2c3f5a3",
   "metadata": {},
   "outputs": [],
   "source": []
  }
 ],
 "metadata": {
  "kernelspec": {
   "display_name": "Julia 1.6.3",
   "language": "julia",
   "name": "julia-1.6"
  },
  "language_info": {
   "file_extension": ".jl",
   "mimetype": "application/julia",
   "name": "julia",
   "version": "1.6.3"
  }
 },
 "nbformat": 4,
 "nbformat_minor": 5
}
