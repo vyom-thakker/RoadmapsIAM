{
 "cells": [
  {
   "cell_type": "code",
   "execution_count": 4,
   "id": "0cd38929",
   "metadata": {},
   "outputs": [
    {
     "name": "stderr",
     "output_type": "stream",
     "text": [
      "\u001b[32m\u001b[1m  Activating\u001b[22m\u001b[39m environment at `~/Documents/project-codes/Plan_RoadmapsIAM/toy-problem/baron_env/Project.toml`\n"
     ]
    }
   ],
   "source": [
    "\n",
    "using Pkg\n",
    "Pkg.activate(\"./baron_env\")\n",
    "#Pkg.pin(\"JuMP\")\n",
    "using JuMP\n",
    "using CSV\n",
    "using GraphRecipes, Plots\n",
    "using LightGraphs\n",
    "using LinearAlgebra\n",
    "using SparseArrays\n",
    "using DataFrames\n",
    "using BARON\n",
    "using Gurobi\n",
    "using PiecewiseLinearOpt\n",
    "using VegaLite, VegaDatasets\n",
    "using FileIO"
   ]
  },
  {
   "cell_type": "code",
   "execution_count": 10,
   "id": "e8956d14-30ad-49f9-bf77-ae0d8a2937f8",
   "metadata": {},
   "outputs": [
    {
     "name": "stderr",
     "output_type": "stream",
     "text": [
      "┌ Warning: Pkg.installed() is deprecated\n",
      "└ @ Pkg /buildworker/worker/package_linux64/build/usr/share/julia/stdlib/v1.6/Pkg/src/Pkg.jl:570\n"
     ]
    },
    {
     "data": {
      "text/plain": [
       "Dict{String, VersionNumber} with 3 entries:\n",
       "  \"BARON\"              => v\"0.6.5\"\n",
       "  \"PiecewiseLinearOpt\" => v\"0.3.0\"\n",
       "  \"CPLEX\"              => v\"0.7.8\""
      ]
     },
     "execution_count": 10,
     "metadata": {},
     "output_type": "execute_result"
    }
   ],
   "source": [
    "Pkg.installed()"
   ]
  },
  {
   "cell_type": "code",
   "execution_count": 59,
   "id": "6cd49756",
   "metadata": {},
   "outputs": [
    {
     "data": {
      "text/html": [
       "<div class=\"data-frame\"><p>10 rows × 34 columns (omitted printing of 25 columns)</p><table class=\"data-frame\"><thead><tr><th></th><th>i</th><th>Cost_per_RL</th><th>RL</th><th>Sojourn1</th><th>Sojourn2</th><th>Sojourn3</th><th>Sojourn4</th><th>Sojourn5</th><th>P11</th></tr><tr><th></th><th title=\"Int64\">Int64</th><th title=\"Int64\">Int64</th><th title=\"Int64\">Int64</th><th title=\"Float64\">Float64</th><th title=\"Float64\">Float64</th><th title=\"Float64\">Float64</th><th title=\"Float64\">Float64</th><th title=\"Float64\">Float64</th><th title=\"Int64\">Int64</th></tr></thead><tbody><tr><th>1</th><td>1</td><td>100</td><td>3</td><td>5.48</td><td>7.62</td><td>3.34</td><td>5.05</td><td>1.1</td><td>0</td></tr><tr><th>2</th><td>2</td><td>100</td><td>3</td><td>8.32</td><td>8.84</td><td>0.65</td><td>9.9</td><td>9.65</td><td>0</td></tr><tr><th>3</th><td>3</td><td>100</td><td>1</td><td>4.6</td><td>1.34</td><td>2.04</td><td>0.12</td><td>8.86</td><td>0</td></tr><tr><th>4</th><td>4</td><td>100</td><td>1</td><td>5.48</td><td>7.62</td><td>3.34</td><td>5.05</td><td>1.1</td><td>0</td></tr><tr><th>5</th><td>5</td><td>100</td><td>3</td><td>9.94</td><td>2.38</td><td>7.94</td><td>3.82</td><td>5.44</td><td>0</td></tr><tr><th>6</th><td>6</td><td>100</td><td>2</td><td>4.44</td><td>1.21</td><td>5.09</td><td>6.52</td><td>8.67</td><td>0</td></tr><tr><th>7</th><td>7</td><td>100</td><td>3</td><td>4.44</td><td>1.21</td><td>5.09</td><td>6.52</td><td>8.67</td><td>0</td></tr><tr><th>8</th><td>8</td><td>100</td><td>1</td><td>4.6</td><td>1.34</td><td>2.04</td><td>0.12</td><td>8.86</td><td>0</td></tr><tr><th>9</th><td>9</td><td>100</td><td>2</td><td>5.48</td><td>7.62</td><td>3.34</td><td>5.05</td><td>1.1</td><td>0</td></tr><tr><th>10</th><td>10</td><td>100</td><td>1</td><td>5.48</td><td>7.62</td><td>3.34</td><td>5.05</td><td>1.1</td><td>0</td></tr></tbody></table></div>"
      ],
      "text/latex": [
       "\\begin{tabular}{r|cccccccccc}\n",
       "\t& i & Cost\\_per\\_RL & RL & Sojourn1 & Sojourn2 & Sojourn3 & Sojourn4 & Sojourn5 & P11 & \\\\\n",
       "\t\\hline\n",
       "\t& Int64 & Int64 & Int64 & Float64 & Float64 & Float64 & Float64 & Float64 & Int64 & \\\\\n",
       "\t\\hline\n",
       "\t1 & 1 & 100 & 3 & 5.48 & 7.62 & 3.34 & 5.05 & 1.1 & 0 & $\\dots$ \\\\\n",
       "\t2 & 2 & 100 & 3 & 8.32 & 8.84 & 0.65 & 9.9 & 9.65 & 0 & $\\dots$ \\\\\n",
       "\t3 & 3 & 100 & 1 & 4.6 & 1.34 & 2.04 & 0.12 & 8.86 & 0 & $\\dots$ \\\\\n",
       "\t4 & 4 & 100 & 1 & 5.48 & 7.62 & 3.34 & 5.05 & 1.1 & 0 & $\\dots$ \\\\\n",
       "\t5 & 5 & 100 & 3 & 9.94 & 2.38 & 7.94 & 3.82 & 5.44 & 0 & $\\dots$ \\\\\n",
       "\t6 & 6 & 100 & 2 & 4.44 & 1.21 & 5.09 & 6.52 & 8.67 & 0 & $\\dots$ \\\\\n",
       "\t7 & 7 & 100 & 3 & 4.44 & 1.21 & 5.09 & 6.52 & 8.67 & 0 & $\\dots$ \\\\\n",
       "\t8 & 8 & 100 & 1 & 4.6 & 1.34 & 2.04 & 0.12 & 8.86 & 0 & $\\dots$ \\\\\n",
       "\t9 & 9 & 100 & 2 & 5.48 & 7.62 & 3.34 & 5.05 & 1.1 & 0 & $\\dots$ \\\\\n",
       "\t10 & 10 & 100 & 1 & 5.48 & 7.62 & 3.34 & 5.05 & 1.1 & 0 & $\\dots$ \\\\\n",
       "\\end{tabular}\n"
      ],
      "text/plain": [
       "\u001b[1m10×34 DataFrame\u001b[0m\n",
       "\u001b[1m Row \u001b[0m│\u001b[1m i     \u001b[0m\u001b[1m Cost_per_RL \u001b[0m\u001b[1m RL    \u001b[0m\u001b[1m Sojourn1 \u001b[0m\u001b[1m Sojourn2 \u001b[0m\u001b[1m Sojourn3 \u001b[0m\u001b[1m Sojourn4 \u001b[0m\u001b[1m Sojo\u001b[0m ⋯\n",
       "\u001b[1m     \u001b[0m│\u001b[90m Int64 \u001b[0m\u001b[90m Int64       \u001b[0m\u001b[90m Int64 \u001b[0m\u001b[90m Float64  \u001b[0m\u001b[90m Float64  \u001b[0m\u001b[90m Float64  \u001b[0m\u001b[90m Float64  \u001b[0m\u001b[90m Floa\u001b[0m ⋯\n",
       "─────┼──────────────────────────────────────────────────────────────────────────\n",
       "   1 │     1          100      3      5.48      7.62      3.34      5.05       ⋯\n",
       "   2 │     2          100      3      8.32      8.84      0.65      9.9\n",
       "   3 │     3          100      1      4.6       1.34      2.04      0.12\n",
       "   4 │     4          100      1      5.48      7.62      3.34      5.05\n",
       "   5 │     5          100      3      9.94      2.38      7.94      3.82       ⋯\n",
       "   6 │     6          100      2      4.44      1.21      5.09      6.52\n",
       "   7 │     7          100      3      4.44      1.21      5.09      6.52\n",
       "   8 │     8          100      1      4.6       1.34      2.04      0.12\n",
       "   9 │     9          100      2      5.48      7.62      3.34      5.05       ⋯\n",
       "  10 │    10          100      1      5.48      7.62      3.34      5.05\n",
       "\u001b[36m                                                              27 columns omitted\u001b[0m"
      ]
     },
     "execution_count": 59,
     "metadata": {},
     "output_type": "execute_result"
    }
   ],
   "source": [
    "innovations = CSV.File(\"./data-case-roadmap/innovation-user.csv\",header=1,delim=\",\") |> DataFrame\n",
    "mapki = CSV.File(\"./data-case-roadmap/map-ki.csv\",header=1,delim=\",\") |> DataFrame\n",
    "compromise = CSV.File(\"./data-case-roadmap/compromise.csv\",header=1,delim=\",\") |> DataFrame\n",
    "compromise[67:240,:GHG_ElecInd].+=1\n",
    "compromise[100:165,:GHG_ElecInd].+=0.5\n",
    "initial = CSV.File(\"./data-case-roadmap/initial.csv\",header=1,delim=\",\") |> DataFrame\n",
    "iam_model = CSV.File(\"./data/iam_model.csv\",header=1,delim=\",\") |> DataFrame\n",
    "ci=innovations[!,2]\n",
    "rl=innovations[!,3]\n",
    "initial\n",
    "#innovations[3,2]=156\n",
    "#innovations[2,6]=7\n",
    "#compromise[!,3]=compromise[!,3]/2\n",
    "#innovations[2,2]=175\n",
    "#innovations[2,2]=205\n",
    "#innovations[2,3]=2\n",
    "#innovations[1,3]=3\n",
    "#innovations[4,2]=108\n",
    "\n",
    "#innovations[1,2]=185\n",
    "#innovations[3,3]=2\n",
    "\n",
    "\n",
    "innovations\n",
    "innovations[9,3:ncol(inn_template)]=innovations[10,3:ncol(inn_template)]\n",
    "#CSV.write(\"innovations.csv\",innovations)"
   ]
  },
  {
   "cell_type": "code",
   "execution_count": 60,
   "id": "a60f06a7",
   "metadata": {},
   "outputs": [
    {
     "data": {
      "text/plain": [
       "10-element Vector{String31}:\n",
       " \"MSW pyrolysis to small olefins\"\n",
       " \"Source Segregation\"\n",
       " \"AI robot segregation\"\n",
       " \"LABS from PE\"\n",
       " \"Pyrolysis of LDPE\"\n",
       " \"Pyrolysis of HDPE\"\n",
       " \"Pyrolysis of PP\"\n",
       " \"Recycling back to PLA usin Clay\"\n",
       " \"Alkaline hydrolysis of PLA\"\n",
       " \"Alcoholysis of PLA\""
      ]
     },
     "execution_count": 60,
     "metadata": {},
     "output_type": "execute_result"
    }
   ],
   "source": [
    "innovations[:,:name]"
   ]
  },
  {
   "cell_type": "code",
   "execution_count": null,
   "id": "d780e0f4",
   "metadata": {},
   "outputs": [],
   "source": []
  },
  {
   "cell_type": "code",
   "execution_count": 61,
   "id": "33d1096b-bd0b-4edf-8fb1-38ca9b060af5",
   "metadata": {},
   "outputs": [
    {
     "data": {
      "text/html": [
       "<div class=\"data-frame\"><p>240 rows × 9 columns</p><table class=\"data-frame\"><thead><tr><th></th><th>k</th><th>i</th><th>GWP</th><th>Theta</th><th>Per_Recycl</th><th>Per_Comp</th><th>GHG_ElecInd</th><th>GHG_Trans</th><th>OCost</th></tr><tr><th></th><th title=\"Int64\">Int64</th><th title=\"Int64\">Int64</th><th title=\"Float64\">Float64</th><th title=\"Float64\">Float64</th><th title=\"Float64\">Float64</th><th title=\"Float64\">Float64</th><th title=\"Float64\">Float64</th><th title=\"Float64\">Float64</th><th title=\"Float64\">Float64</th></tr></thead><tbody><tr><th>1</th><td>1</td><td>1</td><td>15.0711</td><td>0.621</td><td>0.0</td><td>0.0</td><td>0.499</td><td>0.122</td><td>3.4294</td></tr><tr><th>2</th><td>2</td><td>1</td><td>2.7837</td><td>0.3955</td><td>0.661676</td><td>0.0</td><td>0.47</td><td>0.127</td><td>1.1203</td></tr><tr><th>3</th><td>3</td><td>1</td><td>10.0834</td><td>0.41</td><td>0.0</td><td>1.0</td><td>0.56</td><td>0.111</td><td>0.65</td></tr><tr><th>4</th><td>4</td><td>1</td><td>8.9103</td><td>0.4132</td><td>0.0</td><td>0.958953</td><td>0.54</td><td>0.104</td><td>0.67</td></tr><tr><th>5</th><td>5</td><td>1</td><td>4.0</td><td>0.4546</td><td>0.0</td><td>0.0</td><td>0.54</td><td>0.139</td><td>0.7</td></tr><tr><th>6</th><td>6</td><td>1</td><td>4.1434</td><td>0.5081</td><td>0.0</td><td>0.0</td><td>0.57</td><td>0.12</td><td>0.7</td></tr><tr><th>7</th><td>7</td><td>1</td><td>7.1535</td><td>0.4218</td><td>0.0</td><td>0.854318</td><td>0.5</td><td>0.114</td><td>0.7</td></tr><tr><th>8</th><td>8</td><td>1</td><td>4.1374</td><td>0.5081</td><td>0.0</td><td>0.0</td><td>0.46</td><td>0.116</td><td>0.7</td></tr><tr><th>9</th><td>9</td><td>1</td><td>7.1535</td><td>0.4218</td><td>0.0</td><td>0.854318</td><td>0.52</td><td>0.132</td><td>0.7</td></tr><tr><th>10</th><td>10</td><td>1</td><td>4.0</td><td>0.4915</td><td>0.0922065</td><td>0.0</td><td>0.59</td><td>0.117</td><td>0.8014</td></tr><tr><th>11</th><td>11</td><td>1</td><td>8.5</td><td>0.5836</td><td>0.0</td><td>0.0</td><td>0.59</td><td>0.103</td><td>1.8103</td></tr><tr><th>12</th><td>12</td><td>1</td><td>9.2698</td><td>0.5904</td><td>0.0</td><td>0.0</td><td>0.52</td><td>0.134</td><td>2.0</td></tr><tr><th>13</th><td>13</td><td>1</td><td>9.2698</td><td>0.5904</td><td>0.0</td><td>0.0</td><td>0.58</td><td>0.105</td><td>2.0</td></tr><tr><th>14</th><td>14</td><td>1</td><td>9.2698</td><td>0.5904</td><td>0.0</td><td>0.0</td><td>0.56</td><td>0.107</td><td>2.0</td></tr><tr><th>15</th><td>15</td><td>1</td><td>4.0</td><td>0.4915</td><td>0.0922065</td><td>0.0</td><td>0.48</td><td>0.155</td><td>0.8014</td></tr><tr><th>16</th><td>16</td><td>1</td><td>8.5</td><td>0.5836</td><td>0.0</td><td>0.0</td><td>0.53</td><td>0.14</td><td>1.8103</td></tr><tr><th>17</th><td>17</td><td>1</td><td>10.0</td><td>0.596</td><td>0.0</td><td>0.0</td><td>0.53</td><td>0.126</td><td>2.1799</td></tr><tr><th>18</th><td>18</td><td>1</td><td>10.75</td><td>0.6011</td><td>0.0</td><td>0.0</td><td>0.57</td><td>0.156</td><td>2.3647</td></tr><tr><th>19</th><td>19</td><td>1</td><td>11.0285</td><td>0.6028</td><td>0.0</td><td>0.0</td><td>0.54</td><td>0.144</td><td>2.4333</td></tr><tr><th>20</th><td>20</td><td>1</td><td>4.0</td><td>0.4915</td><td>0.0922065</td><td>0.0</td><td>0.58</td><td>0.104</td><td>0.8014</td></tr><tr><th>21</th><td>21</td><td>1</td><td>8.5</td><td>0.5836</td><td>0.0</td><td>0.0</td><td>0.54</td><td>0.115</td><td>1.8103</td></tr><tr><th>22</th><td>22</td><td>1</td><td>10.0</td><td>0.596</td><td>0.0</td><td>0.0</td><td>0.58</td><td>0.101</td><td>2.1799</td></tr><tr><th>23</th><td>23</td><td>1</td><td>10.75</td><td>0.6011</td><td>0.0</td><td>0.0</td><td>0.58</td><td>0.139</td><td>2.3647</td></tr><tr><th>24</th><td>24</td><td>1</td><td>11.2</td><td>0.6038</td><td>0.0</td><td>0.0</td><td>0.55</td><td>0.124</td><td>2.4756</td></tr><tr><th>25</th><td>25</td><td>1</td><td>4.0</td><td>0.4915</td><td>0.0922065</td><td>0.0</td><td>0.53</td><td>0.123</td><td>0.8014</td></tr><tr><th>26</th><td>26</td><td>1</td><td>8.5</td><td>0.5836</td><td>0.0</td><td>0.0</td><td>0.57</td><td>0.144</td><td>1.8103</td></tr><tr><th>27</th><td>27</td><td>1</td><td>10.0</td><td>0.596</td><td>0.0</td><td>0.0</td><td>0.6</td><td>0.154</td><td>2.1799</td></tr><tr><th>28</th><td>28</td><td>1</td><td>10.75</td><td>0.6011</td><td>0.0</td><td>0.0</td><td>0.45</td><td>0.101</td><td>2.3647</td></tr><tr><th>29</th><td>29</td><td>1</td><td>11.2</td><td>0.6038</td><td>0.0</td><td>0.0</td><td>0.53</td><td>0.132</td><td>2.4756</td></tr><tr><th>30</th><td>30</td><td>2</td><td>12.2276</td><td>0.5596</td><td>0.881291</td><td>0.0</td><td>0.55</td><td>0.107</td><td>3.7074</td></tr><tr><th>&vellip;</th><td>&vellip;</td><td>&vellip;</td><td>&vellip;</td><td>&vellip;</td><td>&vellip;</td><td>&vellip;</td><td>&vellip;</td><td>&vellip;</td><td>&vellip;</td></tr></tbody></table></div>"
      ],
      "text/latex": [
       "\\begin{tabular}{r|ccccccccc}\n",
       "\t& k & i & GWP & Theta & Per\\_Recycl & Per\\_Comp & GHG\\_ElecInd & GHG\\_Trans & OCost\\\\\n",
       "\t\\hline\n",
       "\t& Int64 & Int64 & Float64 & Float64 & Float64 & Float64 & Float64 & Float64 & Float64\\\\\n",
       "\t\\hline\n",
       "\t1 & 1 & 1 & 15.0711 & 0.621 & 0.0 & 0.0 & 0.499 & 0.122 & 3.4294 \\\\\n",
       "\t2 & 2 & 1 & 2.7837 & 0.3955 & 0.661676 & 0.0 & 0.47 & 0.127 & 1.1203 \\\\\n",
       "\t3 & 3 & 1 & 10.0834 & 0.41 & 0.0 & 1.0 & 0.56 & 0.111 & 0.65 \\\\\n",
       "\t4 & 4 & 1 & 8.9103 & 0.4132 & 0.0 & 0.958953 & 0.54 & 0.104 & 0.67 \\\\\n",
       "\t5 & 5 & 1 & 4.0 & 0.4546 & 0.0 & 0.0 & 0.54 & 0.139 & 0.7 \\\\\n",
       "\t6 & 6 & 1 & 4.1434 & 0.5081 & 0.0 & 0.0 & 0.57 & 0.12 & 0.7 \\\\\n",
       "\t7 & 7 & 1 & 7.1535 & 0.4218 & 0.0 & 0.854318 & 0.5 & 0.114 & 0.7 \\\\\n",
       "\t8 & 8 & 1 & 4.1374 & 0.5081 & 0.0 & 0.0 & 0.46 & 0.116 & 0.7 \\\\\n",
       "\t9 & 9 & 1 & 7.1535 & 0.4218 & 0.0 & 0.854318 & 0.52 & 0.132 & 0.7 \\\\\n",
       "\t10 & 10 & 1 & 4.0 & 0.4915 & 0.0922065 & 0.0 & 0.59 & 0.117 & 0.8014 \\\\\n",
       "\t11 & 11 & 1 & 8.5 & 0.5836 & 0.0 & 0.0 & 0.59 & 0.103 & 1.8103 \\\\\n",
       "\t12 & 12 & 1 & 9.2698 & 0.5904 & 0.0 & 0.0 & 0.52 & 0.134 & 2.0 \\\\\n",
       "\t13 & 13 & 1 & 9.2698 & 0.5904 & 0.0 & 0.0 & 0.58 & 0.105 & 2.0 \\\\\n",
       "\t14 & 14 & 1 & 9.2698 & 0.5904 & 0.0 & 0.0 & 0.56 & 0.107 & 2.0 \\\\\n",
       "\t15 & 15 & 1 & 4.0 & 0.4915 & 0.0922065 & 0.0 & 0.48 & 0.155 & 0.8014 \\\\\n",
       "\t16 & 16 & 1 & 8.5 & 0.5836 & 0.0 & 0.0 & 0.53 & 0.14 & 1.8103 \\\\\n",
       "\t17 & 17 & 1 & 10.0 & 0.596 & 0.0 & 0.0 & 0.53 & 0.126 & 2.1799 \\\\\n",
       "\t18 & 18 & 1 & 10.75 & 0.6011 & 0.0 & 0.0 & 0.57 & 0.156 & 2.3647 \\\\\n",
       "\t19 & 19 & 1 & 11.0285 & 0.6028 & 0.0 & 0.0 & 0.54 & 0.144 & 2.4333 \\\\\n",
       "\t20 & 20 & 1 & 4.0 & 0.4915 & 0.0922065 & 0.0 & 0.58 & 0.104 & 0.8014 \\\\\n",
       "\t21 & 21 & 1 & 8.5 & 0.5836 & 0.0 & 0.0 & 0.54 & 0.115 & 1.8103 \\\\\n",
       "\t22 & 22 & 1 & 10.0 & 0.596 & 0.0 & 0.0 & 0.58 & 0.101 & 2.1799 \\\\\n",
       "\t23 & 23 & 1 & 10.75 & 0.6011 & 0.0 & 0.0 & 0.58 & 0.139 & 2.3647 \\\\\n",
       "\t24 & 24 & 1 & 11.2 & 0.6038 & 0.0 & 0.0 & 0.55 & 0.124 & 2.4756 \\\\\n",
       "\t25 & 25 & 1 & 4.0 & 0.4915 & 0.0922065 & 0.0 & 0.53 & 0.123 & 0.8014 \\\\\n",
       "\t26 & 26 & 1 & 8.5 & 0.5836 & 0.0 & 0.0 & 0.57 & 0.144 & 1.8103 \\\\\n",
       "\t27 & 27 & 1 & 10.0 & 0.596 & 0.0 & 0.0 & 0.6 & 0.154 & 2.1799 \\\\\n",
       "\t28 & 28 & 1 & 10.75 & 0.6011 & 0.0 & 0.0 & 0.45 & 0.101 & 2.3647 \\\\\n",
       "\t29 & 29 & 1 & 11.2 & 0.6038 & 0.0 & 0.0 & 0.53 & 0.132 & 2.4756 \\\\\n",
       "\t30 & 30 & 2 & 12.2276 & 0.5596 & 0.881291 & 0.0 & 0.55 & 0.107 & 3.7074 \\\\\n",
       "\t$\\dots$ & $\\dots$ & $\\dots$ & $\\dots$ & $\\dots$ & $\\dots$ & $\\dots$ & $\\dots$ & $\\dots$ & $\\dots$ \\\\\n",
       "\\end{tabular}\n"
      ],
      "text/plain": [
       "\u001b[1m240×9 DataFrame\u001b[0m\n",
       "\u001b[1m Row \u001b[0m│\u001b[1m k     \u001b[0m\u001b[1m i     \u001b[0m\u001b[1m GWP     \u001b[0m\u001b[1m Theta   \u001b[0m\u001b[1m Per_Recycl \u001b[0m\u001b[1m Per_Comp  \u001b[0m\u001b[1m GHG_ElecInd \u001b[0m\u001b[1m GHG\u001b[0m ⋯\n",
       "\u001b[1m     \u001b[0m│\u001b[90m Int64 \u001b[0m\u001b[90m Int64 \u001b[0m\u001b[90m Float64 \u001b[0m\u001b[90m Float64 \u001b[0m\u001b[90m Float64    \u001b[0m\u001b[90m Float64   \u001b[0m\u001b[90m Float64     \u001b[0m\u001b[90m Flo\u001b[0m ⋯\n",
       "─────┼──────────────────────────────────────────────────────────────────────────\n",
       "   1 │     1      1  15.0711   0.621    0.0        0.0              0.499      ⋯\n",
       "   2 │     2      1   2.7837   0.3955   0.661676   0.0              0.47\n",
       "   3 │     3      1  10.0834   0.41     0.0        1.0              0.56\n",
       "   4 │     4      1   8.9103   0.4132   0.0        0.958953         0.54\n",
       "   5 │     5      1   4.0      0.4546   0.0        0.0              0.54       ⋯\n",
       "   6 │     6      1   4.1434   0.5081   0.0        0.0              0.57\n",
       "   7 │     7      1   7.1535   0.4218   0.0        0.854318         0.5\n",
       "   8 │     8      1   4.1374   0.5081   0.0        0.0              0.46\n",
       "   9 │     9      1   7.1535   0.4218   0.0        0.854318         0.52       ⋯\n",
       "  10 │    10      1   4.0      0.4915   0.0922065  0.0              0.59\n",
       "  11 │    11      1   8.5      0.5836   0.0        0.0              0.59\n",
       "  ⋮  │   ⋮      ⋮       ⋮        ⋮         ⋮           ⋮           ⋮           ⋱\n",
       " 231 │   231     10   3.2136   0.175    0.27592    0.0              1.48\n",
       " 232 │   232     10   3.1062   0.175    0.245418   0.0646392        1.58       ⋯\n",
       " 233 │   233     10   2.9988   0.175    0.230787   0.153537         1.48\n",
       " 234 │   234     10   2.8914   0.2485   0.405205   0.0              1.57\n",
       " 235 │   235     10   2.784    0.3955   0.661676   0.0              1.52\n",
       " 236 │   236     10   3.1024   0.05     0.065482   0.0              1.45       ⋯\n",
       " 237 │   237     10   3.1021   0.05     0.065482   0.0              1.5\n",
       " 238 │   238     10   2.9988   0.05     0.0752763  0.0              1.58\n",
       " 239 │   239     10   2.8914   0.207    0.295782   0.0888537        1.56\n",
       " 240 │   240     10   2.784    0.3949   0.660557   0.0              1.48       ⋯\n",
       "\u001b[36m                                                  2 columns and 219 rows omitted\u001b[0m"
      ]
     },
     "execution_count": 61,
     "metadata": {},
     "output_type": "execute_result"
    }
   ],
   "source": [
    "\n",
    "compromise"
   ]
  },
  {
   "cell_type": "code",
   "execution_count": 62,
   "id": "768b23d5",
   "metadata": {},
   "outputs": [
    {
     "data": {
      "text/html": [
       "<div class=\"data-frame\"><p>10 rows × 3 columns</p><table class=\"data-frame\"><thead><tr><th></th><th>i</th><th>k_lim</th><th>name</th></tr><tr><th></th><th title=\"Int64\">Int64</th><th title=\"Int64\">Int64</th><th title=\"String31\">String31</th></tr></thead><tbody><tr><th>1</th><td>1</td><td>29</td><td>MSW pyrolysis to small olefins</td></tr><tr><th>2</th><td>2</td><td>52</td><td>Source Segregation</td></tr><tr><th>3</th><td>3</td><td>66</td><td>AI robot segregation</td></tr><tr><th>4</th><td>4</td><td>91</td><td>LABS from PE</td></tr><tr><th>5</th><td>5</td><td>113</td><td>Pyrolysis of LDPE</td></tr><tr><th>6</th><td>6</td><td>140</td><td>Pyrolysis of HDPE</td></tr><tr><th>7</th><td>7</td><td>165</td><td>Pyrolysis of PP</td></tr><tr><th>8</th><td>8</td><td>193</td><td>Recycling back to PLA usin Clay</td></tr><tr><th>9</th><td>9</td><td>215</td><td>Alkaline hydrolysis of PLA</td></tr><tr><th>10</th><td>10</td><td>240</td><td>Alcoholysis of PLA</td></tr></tbody></table></div>"
      ],
      "text/latex": [
       "\\begin{tabular}{r|ccc}\n",
       "\t& i & k\\_lim & name\\\\\n",
       "\t\\hline\n",
       "\t& Int64 & Int64 & String31\\\\\n",
       "\t\\hline\n",
       "\t1 & 1 & 29 & MSW pyrolysis to small olefins \\\\\n",
       "\t2 & 2 & 52 & Source Segregation \\\\\n",
       "\t3 & 3 & 66 & AI robot segregation \\\\\n",
       "\t4 & 4 & 91 & LABS from PE \\\\\n",
       "\t5 & 5 & 113 & Pyrolysis of LDPE \\\\\n",
       "\t6 & 6 & 140 & Pyrolysis of HDPE \\\\\n",
       "\t7 & 7 & 165 & Pyrolysis of PP \\\\\n",
       "\t8 & 8 & 193 & Recycling back to PLA usin Clay \\\\\n",
       "\t9 & 9 & 215 & Alkaline hydrolysis of PLA \\\\\n",
       "\t10 & 10 & 240 & Alcoholysis of PLA \\\\\n",
       "\\end{tabular}\n"
      ],
      "text/plain": [
       "\u001b[1m10×3 DataFrame\u001b[0m\n",
       "\u001b[1m Row \u001b[0m│\u001b[1m i     \u001b[0m\u001b[1m k_lim \u001b[0m\u001b[1m name                            \u001b[0m\n",
       "\u001b[1m     \u001b[0m│\u001b[90m Int64 \u001b[0m\u001b[90m Int64 \u001b[0m\u001b[90m String31                        \u001b[0m\n",
       "─────┼───────────────────────────────────────────────\n",
       "   1 │     1     29  MSW pyrolysis to small olefins\n",
       "   2 │     2     52  Source Segregation\n",
       "   3 │     3     66  AI robot segregation\n",
       "   4 │     4     91  LABS from PE\n",
       "   5 │     5    113  Pyrolysis of LDPE\n",
       "   6 │     6    140  Pyrolysis of HDPE\n",
       "   7 │     7    165  Pyrolysis of PP\n",
       "   8 │     8    193  Recycling back to PLA usin Clay\n",
       "   9 │     9    215  Alkaline hydrolysis of PLA\n",
       "  10 │    10    240  Alcoholysis of PLA"
      ]
     },
     "execution_count": 62,
     "metadata": {},
     "output_type": "execute_result"
    }
   ],
   "source": [
    "mapki[10,2]=240\n",
    "mapki"
   ]
  },
  {
   "cell_type": "code",
   "execution_count": 63,
   "id": "4e49351a-5301-4c14-8142-72ea5910982a",
   "metadata": {},
   "outputs": [
    {
     "data": {
      "text/plain": [
       "give_sorted (generic function with 1 method)"
      ]
     },
     "execution_count": 63,
     "metadata": {},
     "output_type": "execute_result"
    }
   ],
   "source": [
    "function get_transition_mat(i)\n",
    "    p_mat=reshape(collect(innovations[i,9:33]),5,5)\n",
    "    return p_mat'\n",
    "end\n",
    "\n",
    "\n",
    "function get_rate_mat(i)\n",
    "    p_mat=get_transition_mat(i)\n",
    "    q_mat=p_mat./collect(innovations[i,4:8])\n",
    "    for i in 1:5\n",
    "        q_mat[i,i]=-1*sum(q_mat[i,j] for j in 1:5 if j!=i)\n",
    "    end\n",
    "    return q_mat\n",
    "end\n",
    "\n",
    "function get_rate_eig_mat(i)\n",
    "    p_mat=get_transition_mat(i)\n",
    "    q_mat=p_mat./collect(innovations[i,4:8])\n",
    "    for i in 1:5\n",
    "        q_mat[i,i]=-1*sum(q_mat[i,j] for j in 1:5 if j!=i)\n",
    "    end\n",
    "    return [q_mat,eigvecs(q_mat),eigvals(q_mat)]\n",
    "end\n",
    "\n",
    "function get_IAM_factor(t)\n",
    "    return 1\n",
    "end\n",
    "\n",
    "function give_sorted(t)\n",
    "    v=sortperm(t)\n",
    "    return v\n",
    "end\n"
   ]
  },
  {
   "cell_type": "code",
   "execution_count": 64,
   "id": "d6e7594d",
   "metadata": {},
   "outputs": [
    {
     "data": {
      "text/plain": [
       "1×5 Matrix{Int64}:\n",
       " 1  2  3  4  5"
      ]
     },
     "execution_count": 64,
     "metadata": {},
     "output_type": "execute_result"
    }
   ],
   "source": [
    "q=zeros(5,5,nrow(innovations))\n",
    "a=zeros(5,5,nrow(innovations))\n",
    "ainv=zeros(5,5,nrow(innovations))\n",
    "d=zeros(5,1,nrow(innovations))\n",
    "s0=zeros(1,5,nrow(innovations))\n",
    "for i in 1:nrow(innovations)\n",
    "    q[:,:,i]=round.(get_rate_eig_mat(i)[1],digits=3)\n",
    "    a[:,:,i]=(get_rate_eig_mat(i)[2])\n",
    "    d[:,:,i]=round.(get_rate_eig_mat(i)[3],digits=3)\n",
    "    ainv[:,:,i]=round.(inv(get_rate_eig_mat(i)[2]),digits=3)\n",
    "    s0[1,rl[i],i]=1\n",
    "end\n",
    "rl_vals=[1 2 3 4 5]"
   ]
  },
  {
   "cell_type": "code",
   "execution_count": 65,
   "id": "82bcdb33-a9c3-4e1c-a456-21ed1fdb43b4",
   "metadata": {},
   "outputs": [
    {
     "data": {
      "text/html": [
       "<div class=\"data-frame\"><p>10 rows × 7 columns</p><table class=\"data-frame\"><thead><tr><th></th><th>Column1</th><th>Y0</th><th>Y1</th><th>Y2</th><th>Y3</th><th>Y4</th><th>Y5</th></tr><tr><th></th><th title=\"Int64\">Int64</th><th title=\"Int64\">Int64</th><th title=\"Float64\">Float64</th><th title=\"Float64\">Float64</th><th title=\"Float64\">Float64</th><th title=\"Float64\">Float64</th><th title=\"Float64\">Float64</th></tr></thead><tbody><tr><th>1</th><td>1</td><td>2</td><td>2.27859</td><td>2.84023</td><td>3.24855</td><td>3.7742</td><td>4.34531</td></tr><tr><th>2</th><td>2</td><td>2</td><td>1.83764</td><td>1.76236</td><td>2.00334</td><td>2.42641</td><td>3.01637</td></tr><tr><th>3</th><td>3</td><td>4</td><td>3.50466</td><td>3.44728</td><td>3.96065</td><td>4.98697</td><td>6.3803</td></tr><tr><th>4</th><td>4</td><td>4</td><td>3.55034</td><td>3.28297</td><td>3.38488</td><td>3.83014</td><td>4.56971</td></tr><tr><th>5</th><td>5</td><td>2</td><td>2.01948</td><td>2.18758</td><td>2.53377</td><td>3.06663</td><td>3.74638</td></tr><tr><th>6</th><td>6</td><td>3</td><td>2.65052</td><td>2.57007</td><td>2.95754</td><td>3.74405</td><td>4.796</td></tr><tr><th>7</th><td>7</td><td>2</td><td>2.04706</td><td>2.66122</td><td>3.34143</td><td>4.007</td><td>4.80312</td></tr><tr><th>8</th><td>8</td><td>4</td><td>3.50466</td><td>3.44728</td><td>3.96065</td><td>4.98697</td><td>6.3803</td></tr><tr><th>9</th><td>9</td><td>3</td><td>3.17394</td><td>3.35651</td><td>3.64222</td><td>4.03856</td><td>4.55208</td></tr><tr><th>10</th><td>10</td><td>4</td><td>3.55034</td><td>3.28297</td><td>3.38488</td><td>3.83014</td><td>4.56971</td></tr></tbody></table></div>"
      ],
      "text/latex": [
       "\\begin{tabular}{r|ccccccc}\n",
       "\t& Column1 & Y0 & Y1 & Y2 & Y3 & Y4 & Y5\\\\\n",
       "\t\\hline\n",
       "\t& Int64 & Int64 & Float64 & Float64 & Float64 & Float64 & Float64\\\\\n",
       "\t\\hline\n",
       "\t1 & 1 & 2 & 2.27859 & 2.84023 & 3.24855 & 3.7742 & 4.34531 \\\\\n",
       "\t2 & 2 & 2 & 1.83764 & 1.76236 & 2.00334 & 2.42641 & 3.01637 \\\\\n",
       "\t3 & 3 & 4 & 3.50466 & 3.44728 & 3.96065 & 4.98697 & 6.3803 \\\\\n",
       "\t4 & 4 & 4 & 3.55034 & 3.28297 & 3.38488 & 3.83014 & 4.56971 \\\\\n",
       "\t5 & 5 & 2 & 2.01948 & 2.18758 & 2.53377 & 3.06663 & 3.74638 \\\\\n",
       "\t6 & 6 & 3 & 2.65052 & 2.57007 & 2.95754 & 3.74405 & 4.796 \\\\\n",
       "\t7 & 7 & 2 & 2.04706 & 2.66122 & 3.34143 & 4.007 & 4.80312 \\\\\n",
       "\t8 & 8 & 4 & 3.50466 & 3.44728 & 3.96065 & 4.98697 & 6.3803 \\\\\n",
       "\t9 & 9 & 3 & 3.17394 & 3.35651 & 3.64222 & 4.03856 & 4.55208 \\\\\n",
       "\t10 & 10 & 4 & 3.55034 & 3.28297 & 3.38488 & 3.83014 & 4.56971 \\\\\n",
       "\\end{tabular}\n"
      ],
      "text/plain": [
       "\u001b[1m10×7 DataFrame\u001b[0m\n",
       "\u001b[1m Row \u001b[0m│\u001b[1m Column1 \u001b[0m\u001b[1m Y0    \u001b[0m\u001b[1m Y1      \u001b[0m\u001b[1m Y2      \u001b[0m\u001b[1m Y3      \u001b[0m\u001b[1m Y4      \u001b[0m\u001b[1m Y5      \u001b[0m\n",
       "\u001b[1m     \u001b[0m│\u001b[90m Int64   \u001b[0m\u001b[90m Int64 \u001b[0m\u001b[90m Float64 \u001b[0m\u001b[90m Float64 \u001b[0m\u001b[90m Float64 \u001b[0m\u001b[90m Float64 \u001b[0m\u001b[90m Float64 \u001b[0m\n",
       "─────┼─────────────────────────────────────────────────────────────\n",
       "   1 │       1      2  2.27859  2.84023  3.24855  3.7742   4.34531\n",
       "   2 │       2      2  1.83764  1.76236  2.00334  2.42641  3.01637\n",
       "   3 │       3      4  3.50466  3.44728  3.96065  4.98697  6.3803\n",
       "   4 │       4      4  3.55034  3.28297  3.38488  3.83014  4.56971\n",
       "   5 │       5      2  2.01948  2.18758  2.53377  3.06663  3.74638\n",
       "   6 │       6      3  2.65052  2.57007  2.95754  3.74405  4.796\n",
       "   7 │       7      2  2.04706  2.66122  3.34143  4.007    4.80312\n",
       "   8 │       8      4  3.50466  3.44728  3.96065  4.98697  6.3803\n",
       "   9 │       9      3  3.17394  3.35651  3.64222  4.03856  4.55208\n",
       "  10 │      10      4  3.55034  3.28297  3.38488  3.83014  4.56971"
      ]
     },
     "execution_count": 65,
     "metadata": {},
     "output_type": "execute_result"
    }
   ],
   "source": [
    "inn_reg = CSV.File(\"./data-case-roadmap/inn_reg.csv\",header=1,delim=\",\") |> DataFrame\n",
    "inn_xrang = CSV.File(\"./data-case-roadmap/inn_xrang.csv\",header=1,delim=\",\") |> DataFrame\n",
    "inn_yrang = CSV.File(\"./data-case-roadmap/inn_yrang.csv\",header=1,delim=\",\") |> DataFrame\n",
    "inn_yrang[!,\"Y0\"]=-1*(innovations[!,\"RL\"].-5)\n",
    "inn_yrang"
   ]
  },
  {
   "cell_type": "code",
   "execution_count": 66,
   "id": "f0da4ca7",
   "metadata": {},
   "outputs": [
    {
     "data": {
      "text/plain": [
       "7-element Vector{Int64}:\n",
       "  0\n",
       "  5\n",
       " 10\n",
       " 15\n",
       " 20\n",
       " 25\n",
       " 30"
      ]
     },
     "execution_count": 66,
     "metadata": {},
     "output_type": "execute_result"
    }
   ],
   "source": [
    "tau=[0,5,10,15,20,25,30]"
   ]
  },
  {
   "cell_type": "code",
   "execution_count": 67,
   "id": "99858d20",
   "metadata": {},
   "outputs": [
    {
     "data": {
      "text/html": [
       "<div class=\"data-frame\"><p>240 rows × 9 columns</p><table class=\"data-frame\"><thead><tr><th></th><th>k</th><th>i</th><th>GWP</th><th>Theta</th><th>Per_Recycl</th><th>Per_Comp</th><th>GHG_ElecInd</th><th>GHG_Trans</th><th>OCost</th></tr><tr><th></th><th title=\"Int64\">Int64</th><th title=\"Int64\">Int64</th><th title=\"Float64\">Float64</th><th title=\"Float64\">Float64</th><th title=\"Float64\">Float64</th><th title=\"Float64\">Float64</th><th title=\"Float64\">Float64</th><th title=\"Float64\">Float64</th><th title=\"Float64\">Float64</th></tr></thead><tbody><tr><th>1</th><td>1</td><td>1</td><td>15.0711</td><td>0.621</td><td>0.0</td><td>0.0</td><td>0.499</td><td>0.122</td><td>3.4294</td></tr><tr><th>2</th><td>2</td><td>1</td><td>2.7837</td><td>0.3955</td><td>0.661676</td><td>0.0</td><td>0.47</td><td>0.127</td><td>1.1203</td></tr><tr><th>3</th><td>3</td><td>1</td><td>10.0834</td><td>0.41</td><td>0.0</td><td>1.0</td><td>0.56</td><td>0.111</td><td>0.65</td></tr><tr><th>4</th><td>4</td><td>1</td><td>8.9103</td><td>0.4132</td><td>0.0</td><td>0.958953</td><td>0.54</td><td>0.104</td><td>0.67</td></tr><tr><th>5</th><td>5</td><td>1</td><td>4.0</td><td>0.4546</td><td>0.0</td><td>0.0</td><td>0.54</td><td>0.139</td><td>0.7</td></tr><tr><th>6</th><td>6</td><td>1</td><td>4.1434</td><td>0.5081</td><td>0.0</td><td>0.0</td><td>0.57</td><td>0.12</td><td>0.7</td></tr><tr><th>7</th><td>7</td><td>1</td><td>7.1535</td><td>0.4218</td><td>0.0</td><td>0.854318</td><td>0.5</td><td>0.114</td><td>0.7</td></tr><tr><th>8</th><td>8</td><td>1</td><td>4.1374</td><td>0.5081</td><td>0.0</td><td>0.0</td><td>0.46</td><td>0.116</td><td>0.7</td></tr><tr><th>9</th><td>9</td><td>1</td><td>7.1535</td><td>0.4218</td><td>0.0</td><td>0.854318</td><td>0.52</td><td>0.132</td><td>0.7</td></tr><tr><th>10</th><td>10</td><td>1</td><td>4.0</td><td>0.4915</td><td>0.0922065</td><td>0.0</td><td>0.59</td><td>0.117</td><td>0.8014</td></tr><tr><th>11</th><td>11</td><td>1</td><td>8.5</td><td>0.5836</td><td>0.0</td><td>0.0</td><td>0.59</td><td>0.103</td><td>1.8103</td></tr><tr><th>12</th><td>12</td><td>1</td><td>9.2698</td><td>0.5904</td><td>0.0</td><td>0.0</td><td>0.52</td><td>0.134</td><td>2.0</td></tr><tr><th>13</th><td>13</td><td>1</td><td>9.2698</td><td>0.5904</td><td>0.0</td><td>0.0</td><td>0.58</td><td>0.105</td><td>2.0</td></tr><tr><th>14</th><td>14</td><td>1</td><td>9.2698</td><td>0.5904</td><td>0.0</td><td>0.0</td><td>0.56</td><td>0.107</td><td>2.0</td></tr><tr><th>15</th><td>15</td><td>1</td><td>4.0</td><td>0.4915</td><td>0.0922065</td><td>0.0</td><td>0.48</td><td>0.155</td><td>0.8014</td></tr><tr><th>16</th><td>16</td><td>1</td><td>8.5</td><td>0.5836</td><td>0.0</td><td>0.0</td><td>0.53</td><td>0.14</td><td>1.8103</td></tr><tr><th>17</th><td>17</td><td>1</td><td>10.0</td><td>0.596</td><td>0.0</td><td>0.0</td><td>0.53</td><td>0.126</td><td>2.1799</td></tr><tr><th>18</th><td>18</td><td>1</td><td>10.75</td><td>0.6011</td><td>0.0</td><td>0.0</td><td>0.57</td><td>0.156</td><td>2.3647</td></tr><tr><th>19</th><td>19</td><td>1</td><td>11.0285</td><td>0.6028</td><td>0.0</td><td>0.0</td><td>0.54</td><td>0.144</td><td>2.4333</td></tr><tr><th>20</th><td>20</td><td>1</td><td>4.0</td><td>0.4915</td><td>0.0922065</td><td>0.0</td><td>0.58</td><td>0.104</td><td>0.8014</td></tr><tr><th>21</th><td>21</td><td>1</td><td>8.5</td><td>0.5836</td><td>0.0</td><td>0.0</td><td>0.54</td><td>0.115</td><td>1.8103</td></tr><tr><th>22</th><td>22</td><td>1</td><td>10.0</td><td>0.596</td><td>0.0</td><td>0.0</td><td>0.58</td><td>0.101</td><td>2.1799</td></tr><tr><th>23</th><td>23</td><td>1</td><td>10.75</td><td>0.6011</td><td>0.0</td><td>0.0</td><td>0.58</td><td>0.139</td><td>2.3647</td></tr><tr><th>24</th><td>24</td><td>1</td><td>11.2</td><td>0.6038</td><td>0.0</td><td>0.0</td><td>0.55</td><td>0.124</td><td>2.4756</td></tr><tr><th>25</th><td>25</td><td>1</td><td>4.0</td><td>0.4915</td><td>0.0922065</td><td>0.0</td><td>0.53</td><td>0.123</td><td>0.8014</td></tr><tr><th>26</th><td>26</td><td>1</td><td>8.5</td><td>0.5836</td><td>0.0</td><td>0.0</td><td>0.57</td><td>0.144</td><td>1.8103</td></tr><tr><th>27</th><td>27</td><td>1</td><td>10.0</td><td>0.596</td><td>0.0</td><td>0.0</td><td>0.6</td><td>0.154</td><td>2.1799</td></tr><tr><th>28</th><td>28</td><td>1</td><td>10.75</td><td>0.6011</td><td>0.0</td><td>0.0</td><td>0.45</td><td>0.101</td><td>2.3647</td></tr><tr><th>29</th><td>29</td><td>1</td><td>11.2</td><td>0.6038</td><td>0.0</td><td>0.0</td><td>0.53</td><td>0.132</td><td>2.4756</td></tr><tr><th>30</th><td>30</td><td>2</td><td>12.2276</td><td>0.5596</td><td>0.881291</td><td>0.0</td><td>0.55</td><td>0.107</td><td>3.7074</td></tr><tr><th>&vellip;</th><td>&vellip;</td><td>&vellip;</td><td>&vellip;</td><td>&vellip;</td><td>&vellip;</td><td>&vellip;</td><td>&vellip;</td><td>&vellip;</td><td>&vellip;</td></tr></tbody></table></div>"
      ],
      "text/latex": [
       "\\begin{tabular}{r|ccccccccc}\n",
       "\t& k & i & GWP & Theta & Per\\_Recycl & Per\\_Comp & GHG\\_ElecInd & GHG\\_Trans & OCost\\\\\n",
       "\t\\hline\n",
       "\t& Int64 & Int64 & Float64 & Float64 & Float64 & Float64 & Float64 & Float64 & Float64\\\\\n",
       "\t\\hline\n",
       "\t1 & 1 & 1 & 15.0711 & 0.621 & 0.0 & 0.0 & 0.499 & 0.122 & 3.4294 \\\\\n",
       "\t2 & 2 & 1 & 2.7837 & 0.3955 & 0.661676 & 0.0 & 0.47 & 0.127 & 1.1203 \\\\\n",
       "\t3 & 3 & 1 & 10.0834 & 0.41 & 0.0 & 1.0 & 0.56 & 0.111 & 0.65 \\\\\n",
       "\t4 & 4 & 1 & 8.9103 & 0.4132 & 0.0 & 0.958953 & 0.54 & 0.104 & 0.67 \\\\\n",
       "\t5 & 5 & 1 & 4.0 & 0.4546 & 0.0 & 0.0 & 0.54 & 0.139 & 0.7 \\\\\n",
       "\t6 & 6 & 1 & 4.1434 & 0.5081 & 0.0 & 0.0 & 0.57 & 0.12 & 0.7 \\\\\n",
       "\t7 & 7 & 1 & 7.1535 & 0.4218 & 0.0 & 0.854318 & 0.5 & 0.114 & 0.7 \\\\\n",
       "\t8 & 8 & 1 & 4.1374 & 0.5081 & 0.0 & 0.0 & 0.46 & 0.116 & 0.7 \\\\\n",
       "\t9 & 9 & 1 & 7.1535 & 0.4218 & 0.0 & 0.854318 & 0.52 & 0.132 & 0.7 \\\\\n",
       "\t10 & 10 & 1 & 4.0 & 0.4915 & 0.0922065 & 0.0 & 0.59 & 0.117 & 0.8014 \\\\\n",
       "\t11 & 11 & 1 & 8.5 & 0.5836 & 0.0 & 0.0 & 0.59 & 0.103 & 1.8103 \\\\\n",
       "\t12 & 12 & 1 & 9.2698 & 0.5904 & 0.0 & 0.0 & 0.52 & 0.134 & 2.0 \\\\\n",
       "\t13 & 13 & 1 & 9.2698 & 0.5904 & 0.0 & 0.0 & 0.58 & 0.105 & 2.0 \\\\\n",
       "\t14 & 14 & 1 & 9.2698 & 0.5904 & 0.0 & 0.0 & 0.56 & 0.107 & 2.0 \\\\\n",
       "\t15 & 15 & 1 & 4.0 & 0.4915 & 0.0922065 & 0.0 & 0.48 & 0.155 & 0.8014 \\\\\n",
       "\t16 & 16 & 1 & 8.5 & 0.5836 & 0.0 & 0.0 & 0.53 & 0.14 & 1.8103 \\\\\n",
       "\t17 & 17 & 1 & 10.0 & 0.596 & 0.0 & 0.0 & 0.53 & 0.126 & 2.1799 \\\\\n",
       "\t18 & 18 & 1 & 10.75 & 0.6011 & 0.0 & 0.0 & 0.57 & 0.156 & 2.3647 \\\\\n",
       "\t19 & 19 & 1 & 11.0285 & 0.6028 & 0.0 & 0.0 & 0.54 & 0.144 & 2.4333 \\\\\n",
       "\t20 & 20 & 1 & 4.0 & 0.4915 & 0.0922065 & 0.0 & 0.58 & 0.104 & 0.8014 \\\\\n",
       "\t21 & 21 & 1 & 8.5 & 0.5836 & 0.0 & 0.0 & 0.54 & 0.115 & 1.8103 \\\\\n",
       "\t22 & 22 & 1 & 10.0 & 0.596 & 0.0 & 0.0 & 0.58 & 0.101 & 2.1799 \\\\\n",
       "\t23 & 23 & 1 & 10.75 & 0.6011 & 0.0 & 0.0 & 0.58 & 0.139 & 2.3647 \\\\\n",
       "\t24 & 24 & 1 & 11.2 & 0.6038 & 0.0 & 0.0 & 0.55 & 0.124 & 2.4756 \\\\\n",
       "\t25 & 25 & 1 & 4.0 & 0.4915 & 0.0922065 & 0.0 & 0.53 & 0.123 & 0.8014 \\\\\n",
       "\t26 & 26 & 1 & 8.5 & 0.5836 & 0.0 & 0.0 & 0.57 & 0.144 & 1.8103 \\\\\n",
       "\t27 & 27 & 1 & 10.0 & 0.596 & 0.0 & 0.0 & 0.6 & 0.154 & 2.1799 \\\\\n",
       "\t28 & 28 & 1 & 10.75 & 0.6011 & 0.0 & 0.0 & 0.45 & 0.101 & 2.3647 \\\\\n",
       "\t29 & 29 & 1 & 11.2 & 0.6038 & 0.0 & 0.0 & 0.53 & 0.132 & 2.4756 \\\\\n",
       "\t30 & 30 & 2 & 12.2276 & 0.5596 & 0.881291 & 0.0 & 0.55 & 0.107 & 3.7074 \\\\\n",
       "\t$\\dots$ & $\\dots$ & $\\dots$ & $\\dots$ & $\\dots$ & $\\dots$ & $\\dots$ & $\\dots$ & $\\dots$ & $\\dots$ \\\\\n",
       "\\end{tabular}\n"
      ],
      "text/plain": [
       "\u001b[1m240×9 DataFrame\u001b[0m\n",
       "\u001b[1m Row \u001b[0m│\u001b[1m k     \u001b[0m\u001b[1m i     \u001b[0m\u001b[1m GWP     \u001b[0m\u001b[1m Theta   \u001b[0m\u001b[1m Per_Recycl \u001b[0m\u001b[1m Per_Comp  \u001b[0m\u001b[1m GHG_ElecInd \u001b[0m\u001b[1m GHG\u001b[0m ⋯\n",
       "\u001b[1m     \u001b[0m│\u001b[90m Int64 \u001b[0m\u001b[90m Int64 \u001b[0m\u001b[90m Float64 \u001b[0m\u001b[90m Float64 \u001b[0m\u001b[90m Float64    \u001b[0m\u001b[90m Float64   \u001b[0m\u001b[90m Float64     \u001b[0m\u001b[90m Flo\u001b[0m ⋯\n",
       "─────┼──────────────────────────────────────────────────────────────────────────\n",
       "   1 │     1      1  15.0711   0.621    0.0        0.0              0.499      ⋯\n",
       "   2 │     2      1   2.7837   0.3955   0.661676   0.0              0.47\n",
       "   3 │     3      1  10.0834   0.41     0.0        1.0              0.56\n",
       "   4 │     4      1   8.9103   0.4132   0.0        0.958953         0.54\n",
       "   5 │     5      1   4.0      0.4546   0.0        0.0              0.54       ⋯\n",
       "   6 │     6      1   4.1434   0.5081   0.0        0.0              0.57\n",
       "   7 │     7      1   7.1535   0.4218   0.0        0.854318         0.5\n",
       "   8 │     8      1   4.1374   0.5081   0.0        0.0              0.46\n",
       "   9 │     9      1   7.1535   0.4218   0.0        0.854318         0.52       ⋯\n",
       "  10 │    10      1   4.0      0.4915   0.0922065  0.0              0.59\n",
       "  11 │    11      1   8.5      0.5836   0.0        0.0              0.59\n",
       "  ⋮  │   ⋮      ⋮       ⋮        ⋮         ⋮           ⋮           ⋮           ⋱\n",
       " 231 │   231     10   3.2136   0.175    0.27592    0.0              1.48\n",
       " 232 │   232     10   3.1062   0.175    0.245418   0.0646392        1.58       ⋯\n",
       " 233 │   233     10   2.9988   0.175    0.230787   0.153537         1.48\n",
       " 234 │   234     10   2.8914   0.2485   0.405205   0.0              1.57\n",
       " 235 │   235     10   2.784    0.3955   0.661676   0.0              1.52\n",
       " 236 │   236     10   3.1024   0.05     0.065482   0.0              1.45       ⋯\n",
       " 237 │   237     10   3.1021   0.05     0.065482   0.0              1.5\n",
       " 238 │   238     10   2.9988   0.05     0.0752763  0.0              1.58\n",
       " 239 │   239     10   2.8914   0.207    0.295782   0.0888537        1.56\n",
       " 240 │   240     10   2.784    0.3949   0.660557   0.0              1.48       ⋯\n",
       "\u001b[36m                                                  2 columns and 219 rows omitted\u001b[0m"
      ]
     },
     "execution_count": 67,
     "metadata": {},
     "output_type": "execute_result"
    }
   ],
   "source": [
    "compromise"
   ]
  },
  {
   "cell_type": "code",
   "execution_count": 68,
   "id": "a3dc8236",
   "metadata": {},
   "outputs": [
    {
     "data": {
      "text/html": [
       "<div class=\"data-frame\"><p>1 rows × 7 columns</p><table class=\"data-frame\"><thead><tr><th></th><th>k</th><th>i</th><th>GWP</th><th>Theta</th><th>Per_Recycl</th><th>Per_Comp</th><th>Ocost</th></tr><tr><th></th><th title=\"Int64\">Int64</th><th title=\"Int64\">Int64</th><th title=\"Int64\">Int64</th><th title=\"Float64\">Float64</th><th title=\"Float64\">Float64</th><th title=\"Int64\">Int64</th><th title=\"Float64\">Float64</th></tr></thead><tbody><tr><th>1</th><td>0</td><td>0</td><td>8</td><td>0.15</td><td>0.12</td><td>0</td><td>3.2</td></tr></tbody></table></div>"
      ],
      "text/latex": [
       "\\begin{tabular}{r|ccccccc}\n",
       "\t& k & i & GWP & Theta & Per\\_Recycl & Per\\_Comp & Ocost\\\\\n",
       "\t\\hline\n",
       "\t& Int64 & Int64 & Int64 & Float64 & Float64 & Int64 & Float64\\\\\n",
       "\t\\hline\n",
       "\t1 & 0 & 0 & 8 & 0.15 & 0.12 & 0 & 3.2 \\\\\n",
       "\\end{tabular}\n"
      ],
      "text/plain": [
       "\u001b[1m1×7 DataFrame\u001b[0m\n",
       "\u001b[1m Row \u001b[0m│\u001b[1m k     \u001b[0m\u001b[1m i     \u001b[0m\u001b[1m GWP   \u001b[0m\u001b[1m Theta   \u001b[0m\u001b[1m Per_Recycl \u001b[0m\u001b[1m Per_Comp \u001b[0m\u001b[1m Ocost   \u001b[0m\n",
       "\u001b[1m     \u001b[0m│\u001b[90m Int64 \u001b[0m\u001b[90m Int64 \u001b[0m\u001b[90m Int64 \u001b[0m\u001b[90m Float64 \u001b[0m\u001b[90m Float64    \u001b[0m\u001b[90m Int64    \u001b[0m\u001b[90m Float64 \u001b[0m\n",
       "─────┼─────────────────────────────────────────────────────────────\n",
       "   1 │     0      0      8     0.15        0.12         0      3.2"
      ]
     },
     "execution_count": 68,
     "metadata": {},
     "output_type": "execute_result"
    }
   ],
   "source": [
    "initial"
   ]
  },
  {
   "cell_type": "code",
   "execution_count": 73,
   "id": "12fc4d55",
   "metadata": {},
   "outputs": [
    {
     "data": {
      "text/plain": [
       "tech_roadmap_mccormick_peicewise_iam_multipd (generic function with 1 method)"
      ]
     },
     "execution_count": 73,
     "metadata": {},
     "output_type": "execute_result"
    }
   ],
   "source": [
    "function tech_roadmap_mccormick_peicewise_iam_multipd(co2_target,circularity_target)\n",
    "    \n",
    "    rdmap= Model(Gurobi.Optimizer)\n",
    "    #rdmap=Model(BARON.Optimizer)\n",
    "    #set_optimizer_attribute(rdmap, \"MaxTime\", 250)\n",
    "    #set_optimizer_attribute(rdmap, \"DoLocal\", 0)\n",
    "    #set_optimizer_attribute(rdmap, \"NumLoc\", 0)\n",
    "    set_optimizer_attribute(rdmap, \"NonConvex\", 2)\n",
    "    \n",
    "    #Sets\n",
    "    # i: innovation\n",
    "    # k: compromise or pareto optimal solution\n",
    "    # r,c : row column of transition matrices\n",
    "    \n",
    "    #Declaration of variables\n",
    "    \n",
    "    #binary variable choosing the pareto optimal solution\n",
    "    @variable(rdmap,yk[k=1:nrow(compromise),tt=1:7],Bin)\n",
    "    #time at which a pareto optimal solution is chosen\n",
    "    @variable(rdmap,0 ≤ tk[k=1:nrow(compromise),tt=1:7] ≤ 5)\n",
    "    #percentage of functional unit that a pareto optimal solution takes up\n",
    "    @variable(rdmap,0 ≤ xk[k=1:nrow(compromise),tt=1:7] ≤ 1)\n",
    "    \n",
    "    #binary variable choosing which innovation to invest in for adoption\n",
    "    @variable(rdmap,yi[i=1:nrow(innovations),tt=1:7],Bin)\n",
    "    #time at which invested is made and innovation made adoptible\n",
    "    @variable(rdmap,0 ≤ ti[i=1:nrow(innovations),tt=1:7] ≤ 5)\n",
    "    #readiness level state value of ith innovation\n",
    "    @variable(rdmap, s[i=1:nrow(innovations),tt=1:7] )\n",
    "    \n",
    "    #CO2 at 2050 target\n",
    "    @variable(rdmap, co2_2050[tt=1:7])\n",
    "    \n",
    "    #circularity at 2030 target\n",
    "    @variable(rdmap, theta_2030[tt=1:7] ≥ 0)\n",
    "    #recycled content at 2030 target\n",
    "    @variable(rdmap, recycl_2030[tt=1:7] ≥ 0)\n",
    "    #compostable content at 2030 target\n",
    "    @variable(rdmap, comp_2030[tt=1:7] ≥ 0)\n",
    "    \n",
    "    #integral approximator of CO2\n",
    "    @variable(rdmap, co2_tot ≥ 0)\n",
    "    \n",
    "    #cost incured in investing to adopt\n",
    "    @variable(rdmap, 0 ≤ cost_inn)\n",
    "    \n",
    "    #surrogate models\n",
    "    @variable(rdmap,f_fit[i=1:nrow(innovations),tt=1:7] ≥ 0)\n",
    "    @variable(rdmap,co2_factor[k=1:nrow(compromise),tt=1:7]≥ 0)\n",
    "    @variable(rdmap,co2_corrected[k=1:nrow(compromise),tt=1:7]≥ 0)\n",
    "\n",
    "    for i in 1:nrow(innovations)\n",
    "        for tt in 1:7\n",
    "            f_fit[i,tt] = piecewiselinear(rdmap, tau[tt]+ti[i,tt], Matrix(inn_xrang[!,2:ncol(inn_xrang)])[i,:],Matrix(inn_yrang[!,2:ncol(inn_yrang)])[i,:])\n",
    "        end\n",
    "    end\n",
    "            \n",
    "    \n",
    "    for k in 1:nrow(compromise)\n",
    "        for tt in 1:7\n",
    "            co2_factor[k,tt] = (piecewiselinear(rdmap, tau[tt]+tk[k,tt], Matrix(iam_model[!,1:1])[:,1],Matrix(iam_model[!,2:2])[:,1]))\n",
    "    \n",
    "        end\n",
    "    end\n",
    "    \n",
    "    @constraint(rdmap, [k=1:nrow(compromise),tt=1:7], co2_corrected[k,tt] == \n",
    "        compromise[k,3]*((1-compromise[k,7]) + compromise[k,7]*(co2_factor[k,tt])))\n",
    "    \n",
    "    #Constraints\n",
    "    \n",
    "    \n",
    "    #Planning optimization constraints    \n",
    "    #only one compromise solution chosen on each pareto front, and chosen only if investment made in ith front\n",
    "    @constraint(rdmap, [i=1,tt=1:7], sum(yk[k,tt] for k=1:mapki[i,2])≤ yi[i,tt])\n",
    "    @constraint(rdmap, [i=2:nrow(mapki),tt=1:7], sum(yk[k,tt] for k=mapki[i-1,2]:mapki[i,2])≤ yi[i,tt])\n",
    "    #@constraint(rdmap,[k=2:nrow(compromise),tt=1:7],tk[k-1,tt]==tk[k,tt])\n",
    "    \n",
    "    \n",
    "    #one can pick a compromise solution from ith front to satisfy functional unit only after investment in ith innovation made\n",
    "    @constraint(rdmap, [i=1,tt=1:7], ti[i,tt] ≤ sum(tk[k,tt] for k=1:mapki[i,2]))\n",
    "    @constraint(rdmap, [i=2:nrow(mapki),tt=1:7], ti[i,tt] ≤ sum(tk[k,tt] for k=mapki[i-1,2]:mapki[i,2]))\n",
    "    \n",
    "    #if innovation invested in, time has to be between 0 and fifty, otherwise 0\n",
    "    @constraint(rdmap, [i=1:nrow(mapki),tt=1:7], 5*yi[i,tt] ≥ ti[i,tt])\n",
    "    #if compromise solution chosen, time has to be between 0 and fifty, otherwise 0\n",
    "    @constraint(rdmap, [k=1:nrow(compromise),tt=1:7], 5*yk[k,tt] ≥ tk[k,tt])\n",
    "    \n",
    "    @constraint(rdmap, [i=1:nrow(mapki),tt=1:6], yi[i,tt+1] ≥ yi[i,tt])\n",
    "    @constraint(rdmap, [i=1:nrow(mapki),tt=2:7],ti[i,tt]≤ 5*( yi[i,tt]-yi[i,tt-1]))\n",
    "    \n",
    "    #if compromise chosen across boundary tk=0\n",
    "    #@constraint(rdmap, [k=1:nrow(compromise),tt=2:7],tk[k,tt]≤ 5*( yk[k,tt]-yk[k,tt-1]))\n",
    "    #@constraint(rdmap, [k=1:nrow(compromise),tt=2:7],tk[k,tt]≤ 5000*( xk[k,tt]-xk[k,tt-1]))\n",
    "    #time of change has to be same\n",
    "    #=   \n",
    "    @variables(rdmap,begin \n",
    "                    u1[k=1:nrow(compromise),tt=2:7], Bin\n",
    "                    u2[k=1:nrow(compromise),tt=2:7], Bin\n",
    "                    u0[k=1:nrow(compromise),tt=2:7], Bin\n",
    "        end)\n",
    "    \n",
    "    \n",
    "    for i in 2:nrow(mapki)\n",
    "        @constraint(rdmap,[k=mapki[i-1,2]:mapki[i,2],tt=2:7],1-u0[k,tt]==yi[i,tt]-yi[i,tt-1])\n",
    "        @constraint(rdmap,[k=(mapki[i-1,2]+1):mapki[i,2],tt=2:7],tk[k,tt] ≥ tk[k-1,tt]+(1/5000)*u1[k,tt])\n",
    "        @constraint(rdmap,[k=(mapki[i-1,2]+1):mapki[i,2],tt=2:7],tk[k,tt] ≤ tk[k-1,tt]-(1/5000)*u2[k,tt])\n",
    "        @constraint(rdmap,[k=mapki[i-1,2]:mapki[i,2],tt=2:7],u0[k,tt]+u1[k,tt]+u2[k,tt]≤1)\n",
    "    end\n",
    "    \n",
    "    i=1\n",
    "    @constraint(rdmap,[k=1:mapki[i,2],tt=2:7],1-u0[k,tt]==yi[i,tt]-yi[i,tt-1])  \n",
    "    @constraint(rdmap,[k=2:mapki[i,2],tt=2:7],tk[k,tt] ≥ tk[k-1,tt]+(1/5000)*u1[k,tt])\n",
    "    @constraint(rdmap,[k=2:mapki[i,2],tt=2:7],tk[k,tt] ≤ tk[k-1,tt]-(1/5000)*u2[k,tt])\n",
    "    @constraint(rdmap,[k=1:mapki[i,2],tt=2:7],u0[k,tt]+u1[k,tt]+u2[k,tt]≤1)\n",
    "    =#  \n",
    "    \n",
    "    \n",
    "    \n",
    "    #if innovation invested in, time has to be between 0 and fifty, otherwise 0\n",
    "    #@constraint(rdmap, [i=1:nrow(mapki)], 50*yi[i] ≤ ti[i])\n",
    "    #if compromise solution chosen, time has to be between 0 and fifty, otherwise 0\n",
    "    #@constraint(rdmap, [k=1:nrow(compromise)], 50*yk[k] ≤ tk[k])\n",
    "    \n",
    "    \n",
    "    #functional unit allocation to innovation iff compromise solution chosen\n",
    "    @constraint(rdmap, [k=1:nrow(compromise),tt=1:7], yk[k,tt] ≥ xk[k,tt])\n",
    "    \n",
    "    #total fraction of functional unit satisfied by innovative compromise solutions <1i\n",
    "    @constraint(rdmap,[tt=1:7], sum(xk[k,tt] for k in 1:nrow(compromise)) ≤ 1) \n",
    "    \n",
    "    #co2 at 2050 target formulated based on distribution of functional unit to various pareto solutions from innovative and conventional fronts\n",
    "    #@constraint(rdmap,[tt=6:7],co2_2050[tt]==sum(xk[k,tt]*co2_corrected[k,tt] for k in 1:nrow(compromise))\n",
    "    #    + (1-sum(xk[k,tt] for k in 1:nrow(compromise)))*initial[1,3])\n",
    "    \n",
    "    @constraint(rdmap,[tt=6:7],co2_2050[tt]==sum(xk[k,tt]*co2_corrected[k,tt] for k in 1:nrow(compromise))\n",
    "        + (initial[1,3])*(sum(xk[k,tt-1]*tk[k,tt]-(xk[k,tt]*tk[k,tt]-5*xk[k,tt])\n",
    "                    for k in 1:nrow(compromise))/5))\n",
    "    \n",
    "    #@constraint(rdmap, [k=1:nrow(compromise),tt=1:6], xk[k,tt+1] ≥ xk[k,tt])\n",
    "    \n",
    "    #tk < 30\n",
    "    #@variable(rdmap, zk_2030[k=1:nrow(compromise)], Bin)\n",
    "    #@constraint(rdmap, [k=1:nrow(compromise)], 50*(1-zk_2030[k]) ≥ tk[k]-40)\n",
    "    \n",
    "    #circularity at 2030 target\n",
    "    #@constraint(rdmap, theta_2030==sum(xk[k]*compromise[k,4]*(zk_2030[k]) for k in 1:nrow(compromise))\n",
    "    #   + (1-sum(xk[k]*(zk_2030[k]) for k in 1:nrow(compromise)))*initial[1,4])\n",
    "    \n",
    "    #recyclable content at 2030 target\n",
    "    @constraint(rdmap,[tt=3:7], recycl_2030[tt]==sum(xk[k,tt]*compromise[k,5] for k in 1:nrow(compromise))\n",
    "        + (1-sum(xk[k,tt] for k in 1:nrow(compromise)))*initial[1,5])\n",
    "    \n",
    "    #compostable at 2030 target\n",
    "    @constraint(rdmap,[tt=3:7], comp_2030[tt]==sum(xk[k,tt]*compromise[k,6] for k in 1:nrow(compromise))\n",
    "        + (1-sum(xk[k,tt] for k in 1:nrow(compromise)))*initial[1,6])\n",
    "    \n",
    "    \n",
    "    #Time evolution of innovation\n",
    "   \n",
    "    \n",
    "    #Integral approximation of co2 emitted during the entire time horizon\n",
    "    \n",
    "    #mccormick envelopes reduces computational time by 3 fold (see previous formulation for actual bilinear integral approximation)\n",
    "    @variable(rdmap,0 ≤ w1k[k=1:nrow(compromise),tt=2:7])\n",
    "    @constraint(rdmap,[k=1:nrow(compromise),tt=2:7],w1k[k,tt] ≥ 5*xk[k,tt-1]+tk[k,tt]-5)\n",
    "    @constraint(rdmap,[k=1:nrow(compromise),tt=2:7],w1k[k,tt] ≤ 5*xk[k,tt-1])\n",
    "    @constraint(rdmap,[k=1:nrow(compromise),tt=2:7],w1k[k,tt] ≤ tk[k,tt])\n",
    "    \n",
    "    @variable(rdmap,0 ≤ w2k[k=1:nrow(compromise),tt=1:7])\n",
    "    @constraint(rdmap,[k=1:nrow(compromise),tt=1:7],w2k[k,tt] ≥ 5*xk[k,tt]+tk[k,tt]-5)\n",
    "    @constraint(rdmap,[k=1:nrow(compromise),tt=1:7],w2k[k,tt] ≤ 5*xk[k,tt])\n",
    "    @constraint(rdmap,[k=1:nrow(compromise),tt=1:7],w2k[k,tt] ≤ tk[k,tt])\n",
    "    \n",
    "    \n",
    "    \n",
    "    #@constraint(rdmap, co2_tot == 50*initial[1,3]-sum(sum((5-tk[k,tt])*xk[k,tt]*\n",
    "    #                        (initial[1,3]-co2_corrected[k,tt]) for k in 1:nrow(compromise)) for tt in 1:6))\n",
    "    #@constraint(rdmap, co2_tot == 50*initial[1,3]-sum(sum((5*xk[k,tt]-wk[k,tt])*(initial[1,3]-co2_corrected[k,tt]) \n",
    "    #                for k in 1:nrow(compromise)) for tt in 1:7))\n",
    "    \n",
    "    #@constraint(rdmap, co2_tot == 5*initial[1,3]*sum(1-xk[k,1] for k in 1:nrow(compromise))\n",
    "    #                    -sum(sum(((w1k[k,tt]-5*xk[k,tt-1])*co2_corrected[k,tt-1])+(w2k[k,tt]*co2_corrected[k,tt])\n",
    "    #                    + 5*initial[1,3]*(sum(xk[k,tt-1] for k in 1:nrow(compromise))-sum(xk[k,tt] for k in 1:nrow(compromise)))\n",
    "    #                    for k in 1:nrow(compromise)) for tt in 2:7))\n",
    "    \n",
    "    #@constraint(rdmap, co2_tot == 5*initial[1,3]*sum(1-xk[k,1] for k in 1:nrow(compromise))\n",
    "    #                -sum(sum(((w1k[k,tt]-5*xk[k,tt-1])*co2_corrected[k,tt-1])-(w2k[k,tt]*co2_corrected[k,tt])\n",
    "    #                for k in 1:nrow(compromise)) - 5*(initial[1,3])*(sum(xk[k,tt-1] for k in 1:nrow(compromise))\n",
    "    #                -sum(xk[k,tt] for k in 1:nrow(compromise))) for tt in 2:7))\n",
    "    \n",
    "    #@constraint(rdmap, co2_tot == 5*initial[1,3]*sum(1-xk[k,1] for k in 1:nrow(compromise))\n",
    "    #                +sum(sum(((w1k[k,tt])*co2_corrected[k,tt-1])-((w2k[k,tt]-5*xk[k,tt])*co2_corrected[k,tt])\n",
    "    #                for k in 1:nrow(compromise)) + 5*(initial[1,3])*(sum(xk[k,tt-1] for k in 1:nrow(compromise))\n",
    "    #                -sum(xk[k,tt] for k in 1:nrow(compromise))) for tt in 2:7))\n",
    "     \n",
    "    \n",
    "    #correct one\n",
    "    #@constraint(rdmap, co2_tot == 5*initial[1,3]*sum(1-xk[k,1] for k in 1:nrow(compromise))\n",
    "    #                +sum(sum(((w1k[k,tt])*co2_corrected[k,tt-1])-((w2k[k,tt]-5*xk[k,tt])*co2_corrected[k,tt])\n",
    "    #                for k in 1:nrow(compromise)) for tt in 2:7) + \n",
    "    #                sum(5*(initial[1,3])*(sum(w1k[k,tt]-(w2k[k,tt]-5*xk[k,tt])\n",
    "    #                for k in 1:nrow(compromise))/5) for tt in 2:7))\n",
    "    \n",
    "    @constraint(rdmap, co2_tot == 5*initial[1,3]*sum(1-xk[k,1] for k in 1:nrow(compromise))\n",
    "                    +sum(sum(((w1k[k,tt])*co2_corrected[k,tt-1])-((w2k[k,tt]-5*xk[k,tt])*co2_corrected[k,tt])\n",
    "                    for k in 1:nrow(compromise)) for tt in 2:7) + \n",
    "                    sum(5*(initial[1,3])*(sum(xk[k,tt-1]*tk[k,tt]-(xk[k,tt]*tk[k,tt]-5*xk[k,tt])\n",
    "                    for k in 1:nrow(compromise))/5) for tt in 2:7))\n",
    "    \n",
    "    @variable(rdmap,comp[tt=2:7])\n",
    "    @constraint(rdmap,[tt=2:7],comp[tt]==sum(xk[k,tt-1]*tk[k,tt]-(xk[k,tt]*tk[k,tt]-5*xk[k,tt])\n",
    "                    for k in 1:nrow(compromise))/5)\n",
    "        \n",
    "    #@constraint(rdmap, 120*0.001*co2_tot ≤ 360)\n",
    "    \n",
    "\n",
    "    #setting target for 2050 co2 pledge\n",
    "    @constraint(rdmap, co2_2050[7] .≤ co2_target)\n",
    "    \n",
    "    #setting target for 2030 circularity pledge\n",
    "    #@constraint(rdmap, theta_2030 ≥ 0.72)\n",
    "    \n",
    "    #setting target for 2030 recycl pledge\n",
    "    @constraint(rdmap,[tt=3:7], recycl_2030[tt] + comp_2030[tt] ≥ circularity_target)\n",
    "    \n",
    "    #setting target for 2030 comp pledge\n",
    "    #@constraint(rdmap, comp_2030 ≥ 0.45)\n",
    "    \n",
    "    #@constraint(rdmap,[k=1:25,tt=3:7],tk[k,tt]==0)\n",
    "\n",
    "\n",
    "    #investment cost\n",
    "    @constraint(rdmap, cost_inn == sum(sum(ci[i]*((yi[i,tt]-yi[i,tt-1])*f_fit[i,tt])\n",
    "                for i in 1:nrow(innovations)) for tt in 2:7) + sum(ci[i]*(yi[i,1]*f_fit[i,1]) for i in 1:nrow(innovations)))\n",
    "    \n",
    "    #operating cost\n",
    "    @variable(rdmap,cost_op ≥ 0)\n",
    "    @constraint(rdmap,cost_op == sum(sum(xk[k,tt]*compromise[k,9]*0.968^(-1*tau[tt]) for k in 1:nrow(compromise))\n",
    "        + (1-sum(xk[k,tt] for k in 1:nrow(compromise)))*initial[1,7]*0.968^(-1*tau[tt]) for tt in 1:7))\n",
    "\n",
    "    \n",
    "    @constraint(rdmap, [i=1:nrow(innovations),tt=1:7],s[i,tt]==f_fit[i,tt])\n",
    "    \n",
    "    #@variable(rdmap, y1, Bin)\n",
    "    #@NLconstraint(rdmap, cost_inn == sum(ci[i]*(yi[i]*(y1*(2*t/50)+(1-y1)*(3*t/50))) for i in 1:nrow(innovations)))\n",
    "    \n",
    "    #@constraint(rdmap,[i=1:nrow(innovations)],sum(yi[i,tt] for tt=1:7)≥1)\n",
    "    #definining objective function as investment cost + Co2 emission cost during the time horizon\n",
    "    #40*0.001*co2_tot+\n",
    "    #@NLconstraint(rdmap, obj_val == cost_inn)\n",
    "    #120*0.001*co2_tot+\n",
    "    @objective(rdmap,Min,120*0.001*co2_tot+cost_inn+cost_op)\n",
    "    #120*0.001*co2_tot+\n",
    "    #supplying lower bound on objective based on cost_inn optimal\n",
    "    #@variable(rdmap, obj_val ≥ 180)\n",
    "    #print(rdmap)\n",
    "    optimize!(rdmap)\n",
    "    \n",
    "    return JuMP.value.(yk), JuMP.value.(tk), JuMP.value.(xk), JuMP.value.(yi), JuMP.value.(ti), \n",
    "        JuMP.value.(s), JuMP.value.(co2_2050), JuMP.value.(cost_inn), JuMP.value.(co2_tot), JuMP.value.(co2_corrected), JuMP.value.(co2_factor), JuMP.values.(comp)\n",
    "end\n",
    "\n",
    "\n"
   ]
  },
  {
   "cell_type": "code",
   "execution_count": 74,
   "id": "6644178b",
   "metadata": {
    "scrolled": true
   },
   "outputs": [
    {
     "name": "stdout",
     "output_type": "stream",
     "text": [
      "Academic license - for non-commercial use only - expires 2022-11-07\n",
      "Gurobi Optimizer version 9.1.2 build v9.1.2rc0 (linux64)\n",
      "Thread count: 8 physical cores, 16 logical processors, using up to 16 threads\n",
      "Optimize a model with 30574 rows, 29337 columns and 109143 nonzeros\n",
      "Model fingerprint: 0x368f34e7\n",
      "Model has 10 quadratic constraints\n",
      "Variable types: 22337 continuous, 7000 integer (7000 binary)\n",
      "Coefficient statistics:\n",
      "  Matrix range     [6e-03, 5e+01]\n",
      "  QMatrix range    [2e-01, 1e+02]\n",
      "  QLMatrix range   [1e+00, 4e+01]\n",
      "  Objective range  [1e-01, 1e+00]\n",
      "  Bounds range     [3e-01, 6e+00]\n",
      "  RHS range        [1e-01, 4e+01]\n",
      "  QRHS range       [1e+04, 1e+04]\n",
      "Presolve removed 10514 rows and 13668 columns\n",
      "Presolve time: 0.21s\n",
      "Presolved: 49260 rows, 22999 columns, 185693 nonzeros\n",
      "Presolved model has 7200 bilinear constraint(s)\n",
      "Variable types: 19536 continuous, 3463 integer (3463 binary)\n",
      "\n",
      "Deterministic concurrent LP optimizer: primal and dual simplex (primal and dual model)\n",
      "Showing first log only...\n",
      "\n",
      "Presolve removed 5556 rows and 2204 columns\n",
      "Presolved: 43704 rows, 20795 columns, 170487 nonzeros\n",
      "\n",
      "Concurrent spin time: 0.02s\n",
      "\n",
      "Solved with primal simplex (primal model)\n",
      "\n",
      "Root relaxation: objective 1.343281e+03, 16834 iterations, 0.41 seconds\n",
      "\n",
      "    Nodes    |    Current Node    |     Objective Bounds      |     Work\n",
      " Expl Unexpl |  Obj  Depth IntInf | Incumbent    BestBd   Gap | It/Node Time\n",
      "\n",
      "     0     0 1363.47158    0  194          - 1363.47158      -     -    1s\n",
      "     0     0 1383.84631    0  192          - 1383.84631      -     -    1s\n",
      "     0     0 1383.84631    0  191          - 1383.84631      -     -    1s\n",
      "     0     0 1386.90365    0  198          - 1386.90365      -     -    1s\n",
      "     0     0 1386.90789    0  203          - 1386.90789      -     -    1s\n",
      "     0     0 1431.43731    0  167          - 1431.43731      -     -    2s\n",
      "     0     0 1440.90344    0  176          - 1440.90344      -     -    2s\n",
      "     0     0 1467.84269    0  277          - 1467.84269      -     -    2s\n",
      "     0     0 1515.26310    0  304          - 1515.26310      -     -    3s\n",
      "     0     0 1515.45514    0  218          - 1515.45514      -     -    3s\n",
      "     0     0 1515.46082    0  217          - 1515.46082      -     -    3s\n",
      "     0     0 1515.80149    0  245          - 1515.80149      -     -    3s\n",
      "     0     0 1515.81626    0  234          - 1515.81626      -     -    3s\n",
      "     0     0 1517.24002    0  241          - 1517.24002      -     -    3s\n",
      "     0     0 1517.24672    0  251          - 1517.24672      -     -    3s\n",
      "     0     0 1517.54297    0  268          - 1517.54297      -     -    4s\n",
      "     0     0 1517.54435    0  270          - 1517.54435      -     -    4s\n",
      "     0     0 1521.80118    0  291          - 1521.80118      -     -    4s\n",
      "     0     0 1524.08486    0  301          - 1524.08486      -     -    4s\n",
      "     0     0 1526.12262    0  307          - 1526.12262      -     -    4s\n",
      "     0     0 1526.21488    0  277          - 1526.21488      -     -    5s\n",
      "     0     0 1526.76445    0  267          - 1526.76445      -     -    5s\n",
      "     0     0 1526.97327    0  357          - 1526.97327      -     -    5s\n",
      "     0     0 1528.71747    0  323          - 1528.71747      -     -    5s\n",
      "     0     0 1528.71966    0  337          - 1528.71966      -     -    5s\n",
      "     0     0 1536.18956    0  323          - 1536.18956      -     -    5s\n",
      "     0     0 1538.60553    0  374          - 1538.60553      -     -    5s\n",
      "     0     0 1540.07903    0  433          - 1540.07903      -     -    6s\n",
      "     0     0 1540.13159    0  380          - 1540.13159      -     -    7s\n",
      "     0     0 1540.88609    0  417          - 1540.88609      -     -    7s\n",
      "     0     0 1541.27766    0  416          - 1541.27766      -     -    7s\n",
      "     0     0 1573.43051    0  460          - 1573.43051      -     -    7s\n",
      "     0     0 1573.82688    0  516          - 1573.82688      -     -    7s\n",
      "     0     0 1578.40277    0  524          - 1578.40277      -     -    8s\n",
      "     0     0 1578.81976    0  532          - 1578.81976      -     -    8s\n",
      "     0     0 1582.03108    0  493          - 1582.03108      -     -    8s\n",
      "     0     0 1585.53831    0  436          - 1585.53831      -     -    8s\n",
      "     0     0 1587.98348    0  465          - 1587.98348      -     -    9s\n",
      "     0     0 1588.47044    0  519          - 1588.47044      -     -    9s\n",
      "     0     0 1592.94746    0  454          - 1592.94746      -     -    9s\n",
      "     0     0 1593.75021    0  436          - 1593.75021      -     -    9s\n",
      "     0     0 1593.96022    0  443          - 1593.96022      -     -    9s\n",
      "     0     0 1594.42552    0  435          - 1594.42552      -     -    9s\n",
      "     0     0 1594.69177    0  490          - 1594.69177      -     -    9s\n",
      "     0     0 1594.82284    0  500          - 1594.82284      -     -    9s\n",
      "     0     0 1594.89281    0  477          - 1594.89281      -     -   10s\n",
      "     0     0 1595.02631    0  470          - 1595.02631      -     -   10s\n",
      "     0     0 1595.07946    0  509          - 1595.07946      -     -   10s\n",
      "     0     0 1595.08408    0  303          - 1595.08408      -     -   11s\n",
      "H    0     0                    1676.3062448 1595.08408  4.85%     -   12s\n",
      "     0     0 1595.08408    0  158 1676.30624 1595.08408  4.85%     -   14s\n",
      "     0     0 1595.08408    0  226 1676.30624 1595.08408  4.85%     -   15s\n",
      "     0     0 1595.08408    0  289 1676.30624 1595.08408  4.85%     -   15s\n",
      "     0     0 1595.08408    0  237 1676.30624 1595.08408  4.85%     -   15s\n",
      "H    0     0                    1675.3111629 1595.08408  4.79%     -   15s\n",
      "     0     0 1595.08408    0  230 1675.31116 1595.08408  4.79%     -   16s\n",
      "     0     0 1595.08408    0  257 1675.31116 1595.08408  4.79%     -   16s\n",
      "     0     0 1595.08408    0  266 1675.31116 1595.08408  4.79%     -   16s\n",
      "     0     0 1595.81777    0  296 1675.31116 1595.81777  4.74%     -   16s\n",
      "     0     0 1596.26979    0  306 1675.31116 1596.26979  4.72%     -   16s\n",
      "     0     0 1597.11306    0  315 1675.31116 1597.11306  4.67%     -   17s\n",
      "     0     0 1597.12862    0  311 1675.31116 1597.12862  4.67%     -   17s\n",
      "     0     0 1597.15065    0  314 1675.31116 1597.15065  4.67%     -   17s\n",
      "     0     0 1597.15065    0  159 1675.31116 1597.15065  4.67%     -   18s\n",
      "     0     0 1597.15065    0  188 1675.31116 1597.15065  4.67%     -   18s\n",
      "     0     0 1597.15065    0  241 1675.31116 1597.15065  4.67%     -   18s\n",
      "     0     0 1597.15065    0  247 1675.31116 1597.15065  4.67%     -   18s\n",
      "     0     0 1598.39989    0  263 1675.31116 1598.39989  4.59%     -   19s\n",
      "     0     0 1600.64584    0  250 1675.31116 1600.64584  4.46%     -   19s\n",
      "     0     0 1600.82553    0  231 1675.31116 1600.82553  4.45%     -   19s\n",
      "     0     0 1601.10108    0  271 1675.31116 1601.10108  4.43%     -   19s\n",
      "     0     0 1601.22228    0  259 1675.31116 1601.22228  4.42%     -   19s\n",
      "     0     0 1601.49791    0  263 1675.31116 1601.49791  4.41%     -   19s\n",
      "     0     0 1601.50056    0  277 1675.31116 1601.50056  4.41%     -   19s\n",
      "     0     0 1601.50714    0  274 1675.31116 1601.50714  4.41%     -   19s\n",
      "     0     0 1601.50807    0  271 1675.31116 1601.50807  4.41%     -   19s\n",
      "     0     0 1601.50904    0  271 1675.31116 1601.50904  4.41%     -   19s\n",
      "     0     0 1601.51074    0  274 1675.31116 1601.51074  4.41%     -   20s\n",
      "     0     0 1601.51085    0  270 1675.31116 1601.51085  4.41%     -   20s\n",
      "     0     0 1601.51188    0  271 1675.31116 1601.51188  4.41%     -   20s\n",
      "     0     0 1601.63213    0  224 1675.31116 1601.63213  4.40%     -   21s\n",
      "     0     0 1601.65462    0  218 1675.31116 1601.65462  4.40%     -   21s\n",
      "     0     0 1601.65462    0  218 1675.31116 1601.65462  4.40%     -   21s\n",
      "H    0     0                    1667.4842251 1601.65462  3.95%     -   21s\n",
      "     0     1 1603.78523    0  216 1667.48423 1603.78523  3.82%     -   21s\n",
      "H  122   102                    1667.4841195 1662.39801  0.31%  97.7   22s\n",
      "*  305   253              36    1662.8399676 1662.39801  0.03%  52.2   23s\n",
      "*  380   253              54    1662.7538707 1662.40891  0.02%  45.6   23s\n",
      "*  406   265              54    1662.7257615 1662.40891  0.02%  44.9   23s\n",
      "   659   374 1662.54472   42    8 1662.72576 1662.40891  0.02%  36.7   25s\n",
      "*  661   374              44    1662.5672417 1662.40891  0.01%  36.6   25s\n",
      "*  662   374              44    1662.5447196 1662.40891  0.01%  36.6   25s\n",
      "\n",
      "Cutting planes:\n",
      "  Gomory: 4\n",
      "  Implied bound: 9\n",
      "  MIR: 117\n",
      "  Flow cover: 48\n",
      "  RLT: 214\n",
      "  Relax-and-lift: 1\n",
      "\n",
      "Explored 770 nodes (132210 simplex iterations) in 25.33 seconds\n",
      "Thread count was 16 (of 16 available processors)\n",
      "\n",
      "Solution count 10: 1662.54 1662.57 1662.73 ... 1676.31\n",
      "\n",
      "Optimal solution found (tolerance 1.00e-04)\n",
      "Warning: max constraint violation (2.6145e-06) exceeds tolerance\n",
      "Best objective 1.662544848519e+03, best bound 1.662408911835e+03, gap 0.0082%\n",
      "\n",
      "User-callback calls 5810, time in user-callback 0.00 sec\n"
     ]
    },
    {
     "data": {
      "text/plain": [
       "10×7 Matrix{Float64}:\n",
       " 0.0  0.0  0.0  0.0  0.0  0.0  0.0\n",
       " 0.0  0.0  0.0  0.0  0.0  0.0  0.0\n",
       " 0.0  0.0  0.0  0.0  0.0  0.0  0.0\n",
       " 0.0  0.0  0.0  0.0  0.0  0.0  0.0\n",
       " 0.0  0.0  0.0  0.0  0.0  0.0  0.0\n",
       " 0.0  0.0  0.0  0.0  0.0  0.0  0.0\n",
       " 1.0  1.0  1.0  1.0  1.0  1.0  1.0\n",
       " 0.0  0.0  0.0  0.0  0.0  0.0  0.0\n",
       " 1.0  1.0  1.0  1.0  1.0  1.0  1.0\n",
       " 0.0  0.0  0.0  0.0  0.0  0.0  0.0"
      ]
     },
     "execution_count": 74,
     "metadata": {},
     "output_type": "execute_result"
    }
   ],
   "source": [
    "yk, tk, xk, yi, ti, s, co2, costInn, co2tot, co2fac, cc, comp1=tech_roadmap_mccormick_peicewise_iam_multipd(0.4,0.75)\n",
    "yi\n"
   ]
  },
  {
   "cell_type": "code",
   "execution_count": 76,
   "id": "0629277d",
   "metadata": {
    "scrolled": true
   },
   "outputs": [
    {
     "data": {
      "application/vnd.vegalite.v4+json": {
       "data": {
        "values": [
         {
          "value": 0,
          "variable": "x142",
          "year": 5
         },
         {
          "value": 0,
          "variable": "x142",
          "year": 10
         },
         {
          "value": 0,
          "variable": "x142",
          "year": 15
         },
         {
          "value": 0.5512696912341484,
          "variable": "x142",
          "year": 20
         },
         {
          "value": 0,
          "variable": "x142",
          "year": 25
         },
         {
          "value": 0,
          "variable": "x142",
          "year": 30
         },
         {
          "value": 0,
          "variable": "x142",
          "year": 35
         },
         {
          "value": 0,
          "variable": "x142",
          "year": 0
         },
         {
          "value": 1.0000000000000013,
          "variable": "x143",
          "year": 5
         },
         {
          "value": 0,
          "variable": "x143",
          "year": 10
         },
         {
          "value": 0,
          "variable": "x143",
          "year": 15
         },
         {
          "value": 0,
          "variable": "x143",
          "year": 20
         },
         {
          "value": 0,
          "variable": "x143",
          "year": 25
         },
         {
          "value": 0,
          "variable": "x143",
          "year": 30
         },
         {
          "value": 0,
          "variable": "x143",
          "year": 35
         },
         {
          "value": 0,
          "variable": "x143",
          "year": 0
         },
         {
          "value": 0,
          "variable": "x149",
          "year": 5
         },
         {
          "value": 0,
          "variable": "x149",
          "year": 10
         },
         {
          "value": 0.5331131579671016,
          "variable": "x149",
          "year": 15
         },
         {
          "value": 0,
          "variable": "x149",
          "year": 20
         },
         {
          "value": 0,
          "variable": "x149",
          "year": 25
         },
         {
          "value": 0,
          "variable": "x149",
          "year": 30
         },
         {
          "value": 0,
          "variable": "x149",
          "year": 35
         },
         {
          "value": 0,
          "variable": "x149",
          "year": 0
         },
         {
          "value": 0,
          "variable": "x155",
          "year": 5
         },
         {
          "value": 0,
          "variable": "x155",
          "year": 10
         },
         {
          "value": 0,
          "variable": "x155",
          "year": 15
         },
         {
          "value": 0,
          "variable": "x155",
          "year": 20
         },
         {
          "value": 0.5218638288099201,
          "variable": "x155",
          "year": 25
         },
         {
          "value": 0,
          "variable": "x155",
          "year": 30
         },
         {
          "value": 0.5483508501591889,
          "variable": "x155",
          "year": 35
         },
         {
          "value": 0,
          "variable": "x155",
          "year": 0
         },
         {
          "value": 0,
          "variable": "x160",
          "year": 5
         },
         {
          "value": 0,
          "variable": "x160",
          "year": 10
         },
         {
          "value": 0,
          "variable": "x160",
          "year": 15
         },
         {
          "value": 0,
          "variable": "x160",
          "year": 20
         },
         {
          "value": 0,
          "variable": "x160",
          "year": 25
         },
         {
          "value": 0.5433371726576041,
          "variable": "x160",
          "year": 30
         },
         {
          "value": 0,
          "variable": "x160",
          "year": 35
         },
         {
          "value": 0,
          "variable": "x160",
          "year": 0
         },
         {
          "value": 0,
          "variable": "x195",
          "year": 5
         },
         {
          "value": 1,
          "variable": "x195",
          "year": 10
         },
         {
          "value": 0,
          "variable": "x195",
          "year": 15
         },
         {
          "value": 0,
          "variable": "x195",
          "year": 20
         },
         {
          "value": 0,
          "variable": "x195",
          "year": 25
         },
         {
          "value": 0,
          "variable": "x195",
          "year": 30
         },
         {
          "value": 0,
          "variable": "x195",
          "year": 35
         },
         {
          "value": 0,
          "variable": "x195",
          "year": 0
         },
         {
          "value": 0,
          "variable": "x198",
          "year": 5
         },
         {
          "value": 0,
          "variable": "x198",
          "year": 10
         },
         {
          "value": 0,
          "variable": "x198",
          "year": 15
         },
         {
          "value": 0.4487303087658516,
          "variable": "x198",
          "year": 20
         },
         {
          "value": 0,
          "variable": "x198",
          "year": 25
         },
         {
          "value": 0.45666282734239594,
          "variable": "x198",
          "year": 30
         },
         {
          "value": 0,
          "variable": "x198",
          "year": 35
         },
         {
          "value": 0,
          "variable": "x198",
          "year": 0
         },
         {
          "value": 0,
          "variable": "x199",
          "year": 5
         },
         {
          "value": 0,
          "variable": "x199",
          "year": 10
         },
         {
          "value": 0,
          "variable": "x199",
          "year": 15
         },
         {
          "value": 0,
          "variable": "x199",
          "year": 20
         },
         {
          "value": 0.4781361711900799,
          "variable": "x199",
          "year": 25
         },
         {
          "value": 0,
          "variable": "x199",
          "year": 30
         },
         {
          "value": 0.4516491498408111,
          "variable": "x199",
          "year": 35
         },
         {
          "value": 0,
          "variable": "x199",
          "year": 0
         },
         {
          "value": 0,
          "variable": "x200",
          "year": 5
         },
         {
          "value": 0,
          "variable": "x200",
          "year": 10
         },
         {
          "value": 0.46688684203289843,
          "variable": "x200",
          "year": 15
         },
         {
          "value": 0,
          "variable": "x200",
          "year": 20
         },
         {
          "value": 0,
          "variable": "x200",
          "year": 25
         },
         {
          "value": 0,
          "variable": "x200",
          "year": 30
         },
         {
          "value": 0,
          "variable": "x200",
          "year": 35
         },
         {
          "value": 0,
          "variable": "x200",
          "year": 0
         },
         {
          "value": 0,
          "variable": "Conv",
          "year": 5
         },
         {
          "value": 0,
          "variable": "Conv",
          "year": 10
         },
         {
          "value": 0,
          "variable": "Conv",
          "year": 15
         },
         {
          "value": 0,
          "variable": "Conv",
          "year": 20
         },
         {
          "value": 0,
          "variable": "Conv",
          "year": 25
         },
         {
          "value": 0,
          "variable": "Conv",
          "year": 30
         },
         {
          "value": 0,
          "variable": "Conv",
          "year": 35
         },
         {
          "value": 1,
          "variable": "Conv",
          "year": 0
         }
        ]
       },
       "encoding": {
        "color": {
         "field": "variable",
         "type": "nominal"
        },
        "x": {
         "field": "year",
         "type": "quantitative"
        },
        "y": {
         "field": "value",
         "stack": "zero",
         "title": "xk",
         "type": "quantitative"
        }
       },
       "legend": "sNames",
       "mark": "area"
      },
      "image/png": "[encoded data removed]",
      "image/svg+xml": [
       "<?xml version=\"1.0\" encoding=\"utf-8\"?>\n",
       "<!DOCTYPE svg PUBLIC \"-//W3C//DTD SVG 1.1//EN\" \"http://www.w3.org/Graphics/SVG/1.1/DTD/svg11.dtd\">\n",
       "<svg xmlns=\"http://www.w3.org/2000/svg\" xmlns:xlink=\"http://www.w3.org/1999/xlink\" version=\"1.1\" class=\"marks\" width=\"314\" height=\"242\" viewBox=\"0 0 314 242\"><rect width=\"314\" height=\"242\" fill=\"white\"/><g fill=\"none\" stroke-miterlimit=\"10\" transform=\"translate(42,5)\"><g class=\"mark-group role-frame root\" role=\"graphics-object\" aria-roledescription=\"group mark container\"><g transform=\"translate(0,0)\"><path class=\"background\" aria-hidden=\"true\" d=\"M0.5,0.5h200v200h-200Z\" stroke=\"#ddd\"/><g><g class=\"mark-group role-axis\" aria-hidden=\"true\"><g transform=\"translate(0.5,200.5)\"><path class=\"background\" aria-hidden=\"true\" d=\"M0,0h0v0h0Z\" pointer-events=\"none\"/><g><g class=\"mark-rule role-axis-grid\" pointer-events=\"none\"><line transform=\"translate(0,-200)\" x2=\"0\" y2=\"200\" stroke=\"#ddd\" stroke-width=\"1\" opacity=\"1\"/><line transform=\"translate(29,-200)\" x2=\"0\" y2=\"200\" stroke=\"#ddd\" stroke-width=\"1\" opacity=\"1\"/><line transform=\"translate(57,-200)\" x2=\"0\" y2=\"200\" stroke=\"#ddd\" stroke-width=\"1\" opacity=\"1\"/><line transform=\"translate(86,-200)\" x2=\"0\" y2=\"200\" stroke=\"#ddd\" stroke-width=\"1\" opacity=\"1\"/><line transform=\"translate(114,-200)\" x2=\"0\" y2=\"200\" stroke=\"#ddd\" stroke-width=\"1\" opacity=\"1\"/><line transform=\"translate(143,-200)\" x2=\"0\" y2=\"200\" stroke=\"#ddd\" stroke-width=\"1\" opacity=\"1\"/><line transform=\"translate(171,-200)\" x2=\"0\" y2=\"200\" stroke=\"#ddd\" stroke-width=\"1\" opacity=\"1\"/><line transform=\"translate(200,-200)\" x2=\"0\" y2=\"200\" stroke=\"#ddd\" stroke-width=\"1\" opacity=\"1\"/></g></g><path class=\"foreground\" aria-hidden=\"true\" d=\"\" pointer-events=\"none\" display=\"none\"/></g></g><g class=\"mark-group role-axis\" aria-hidden=\"true\"><g transform=\"translate(0.5,0.5)\"><path class=\"background\" aria-hidden=\"true\" d=\"M0,0h0v0h0Z\" pointer-events=\"none\"/><g><g class=\"mark-rule role-axis-grid\" pointer-events=\"none\"><line transform=\"translate(0,200)\" x2=\"200\" y2=\"0\" stroke=\"#ddd\" stroke-width=\"1\" opacity=\"1\"/><line transform=\"translate(0,164)\" x2=\"200\" y2=\"0\" stroke=\"#ddd\" stroke-width=\"1\" opacity=\"1\"/><line transform=\"translate(0,127)\" x2=\"200\" y2=\"0\" stroke=\"#ddd\" stroke-width=\"1\" opacity=\"1\"/><line transform=\"translate(0,91)\" x2=\"200\" y2=\"0\" stroke=\"#ddd\" stroke-width=\"1\" opacity=\"1\"/><line transform=\"translate(0,55)\" x2=\"200\" y2=\"0\" stroke=\"#ddd\" stroke-width=\"1\" opacity=\"1\"/><line transform=\"translate(0,18)\" x2=\"200\" y2=\"0\" stroke=\"#ddd\" stroke-width=\"1\" opacity=\"1\"/></g></g><path class=\"foreground\" aria-hidden=\"true\" d=\"\" pointer-events=\"none\" display=\"none\"/></g></g><g class=\"mark-group role-axis\" role=\"graphics-symbol\" aria-roledescription=\"axis\" aria-label=\"X-axis titled 'year' for a linear scale with values from 0 to 35\"><g transform=\"translate(0.5,200.5)\"><path class=\"background\" aria-hidden=\"true\" d=\"M0,0h0v0h0Z\" pointer-events=\"none\"/><g><g class=\"mark-rule role-axis-tick\" pointer-events=\"none\"><line transform=\"translate(0,0)\" x2=\"0\" y2=\"5\" stroke=\"#888\" stroke-width=\"1\" opacity=\"1\"/><line transform=\"translate(29,0)\" x2=\"0\" y2=\"5\" stroke=\"#888\" stroke-width=\"1\" opacity=\"1\"/><line transform=\"translate(57,0)\" x2=\"0\" y2=\"5\" stroke=\"#888\" stroke-width=\"1\" opacity=\"1\"/><line transform=\"translate(86,0)\" x2=\"0\" y2=\"5\" stroke=\"#888\" stroke-width=\"1\" opacity=\"1\"/><line transform=\"translate(114,0)\" x2=\"0\" y2=\"5\" stroke=\"#888\" stroke-width=\"1\" opacity=\"1\"/><line transform=\"translate(143,0)\" x2=\"0\" y2=\"5\" stroke=\"#888\" stroke-width=\"1\" opacity=\"1\"/><line transform=\"translate(171,0)\" x2=\"0\" y2=\"5\" stroke=\"#888\" stroke-width=\"1\" opacity=\"1\"/><line transform=\"translate(200,0)\" x2=\"0\" y2=\"5\" stroke=\"#888\" stroke-width=\"1\" opacity=\"1\"/></g><g class=\"mark-text role-axis-label\" pointer-events=\"none\"><text text-anchor=\"start\" transform=\"translate(0,15)\" font-family=\"sans-serif\" font-size=\"10px\" fill=\"#000\" opacity=\"1\">0</text><text text-anchor=\"middle\" transform=\"translate(28.57142857142857,15)\" font-family=\"sans-serif\" font-size=\"10px\" fill=\"#000\" opacity=\"1\">5</text><text text-anchor=\"middle\" transform=\"translate(57.14285714285714,15)\" font-family=\"sans-serif\" font-size=\"10px\" fill=\"#000\" opacity=\"1\">10</text><text text-anchor=\"middle\" transform=\"translate(85.71428571428571,15)\" font-family=\"sans-serif\" font-size=\"10px\" fill=\"#000\" opacity=\"1\">15</text><text text-anchor=\"middle\" transform=\"translate(114.28571428571428,15)\" font-family=\"sans-serif\" font-size=\"10px\" fill=\"#000\" opacity=\"1\">20</text><text text-anchor=\"middle\" transform=\"translate(142.85714285714286,15)\" font-family=\"sans-serif\" font-size=\"10px\" fill=\"#000\" opacity=\"1\">25</text><text text-anchor=\"middle\" transform=\"translate(171.42857142857142,15)\" font-family=\"sans-serif\" font-size=\"10px\" fill=\"#000\" opacity=\"1\">30</text><text text-anchor=\"end\" transform=\"translate(200,15)\" font-family=\"sans-serif\" font-size=\"10px\" fill=\"#000\" opacity=\"1\">35</text></g><g class=\"mark-rule role-axis-domain\" pointer-events=\"none\"><line transform=\"translate(0,0)\" x2=\"200\" y2=\"0\" stroke=\"#888\" stroke-width=\"1\" opacity=\"1\"/></g><g class=\"mark-text role-axis-title\" pointer-events=\"none\"><text text-anchor=\"middle\" transform=\"translate(100,30)\" font-family=\"sans-serif\" font-size=\"11px\" font-weight=\"bold\" fill=\"#000\" opacity=\"1\">year</text></g></g><path class=\"foreground\" aria-hidden=\"true\" d=\"\" pointer-events=\"none\" display=\"none\"/></g></g><g class=\"mark-group role-axis\" role=\"graphics-symbol\" aria-roledescription=\"axis\" aria-label=\"Y-axis titled 'xk' for a linear scale with values from 0.0 to 1.1\"><g transform=\"translate(0.5,0.5)\"><path class=\"background\" aria-hidden=\"true\" d=\"M0,0h0v0h0Z\" pointer-events=\"none\"/><g><g class=\"mark-rule role-axis-tick\" pointer-events=\"none\"><line transform=\"translate(0,200)\" x2=\"-5\" y2=\"0\" stroke=\"#888\" stroke-width=\"1\" opacity=\"1\"/><line transform=\"translate(0,164)\" x2=\"-5\" y2=\"0\" stroke=\"#888\" stroke-width=\"1\" opacity=\"1\"/><line transform=\"translate(0,127)\" x2=\"-5\" y2=\"0\" stroke=\"#888\" stroke-width=\"1\" opacity=\"1\"/><line transform=\"translate(0,91)\" x2=\"-5\" y2=\"0\" stroke=\"#888\" stroke-width=\"1\" opacity=\"1\"/><line transform=\"translate(0,55)\" x2=\"-5\" y2=\"0\" stroke=\"#888\" stroke-width=\"1\" opacity=\"1\"/><line transform=\"translate(0,18)\" x2=\"-5\" y2=\"0\" stroke=\"#888\" stroke-width=\"1\" opacity=\"1\"/></g><g class=\"mark-text role-axis-label\" pointer-events=\"none\"><text text-anchor=\"end\" transform=\"translate(-7,203)\" font-family=\"sans-serif\" font-size=\"10px\" fill=\"#000\" opacity=\"1\">0.0</text><text text-anchor=\"end\" transform=\"translate(-7,166.63636363636363)\" font-family=\"sans-serif\" font-size=\"10px\" fill=\"#000\" opacity=\"1\">0.2</text><text text-anchor=\"end\" transform=\"translate(-7,130.27272727272725)\" font-family=\"sans-serif\" font-size=\"10px\" fill=\"#000\" opacity=\"1\">0.4</text><text text-anchor=\"end\" transform=\"translate(-7,93.90909090909092)\" font-family=\"sans-serif\" font-size=\"10px\" fill=\"#000\" opacity=\"1\">0.6</text><text text-anchor=\"end\" transform=\"translate(-7,57.54545454545454)\" font-family=\"sans-serif\" font-size=\"10px\" fill=\"#000\" opacity=\"1\">0.8</text><text text-anchor=\"end\" transform=\"translate(-7,21.181818181818187)\" font-family=\"sans-serif\" font-size=\"10px\" fill=\"#000\" opacity=\"1\">1.0</text></g><g class=\"mark-rule role-axis-domain\" pointer-events=\"none\"><line transform=\"translate(0,200)\" x2=\"0\" y2=\"-200\" stroke=\"#888\" stroke-width=\"1\" opacity=\"1\"/></g><g class=\"mark-text role-axis-title\" pointer-events=\"none\"><text text-anchor=\"middle\" transform=\"translate(-26,100) rotate(-90) translate(0,-2)\" font-family=\"sans-serif\" font-size=\"11px\" font-weight=\"bold\" fill=\"#000\" opacity=\"1\">xk</text></g></g><path class=\"foreground\" aria-hidden=\"true\" d=\"\" pointer-events=\"none\" display=\"none\"/></g></g><g class=\"mark-group role-scope pathgroup\" role=\"graphics-object\" aria-roledescription=\"group mark container\"><g transform=\"translate(0,0)\"><path class=\"background\" aria-hidden=\"true\" d=\"M0,0h200v200h-200Z\"/><g><g class=\"mark-area role-mark marks\" role=\"graphics-object\" aria-roledescription=\"area mark container\"><path aria-label=\"year: 0; xk: 0; variable: x142\" role=\"graphics-symbol\" aria-roledescription=\"area mark\" d=\"M0,200L28.57142857142857,18.181818181817945L57.14285714285714,18.181818181818187L85.71428571428571,18.181818181818187L114.28571428571428,18.181818181818187L142.85714285714286,18.181818181818187L171.42857142857142,18.181818181818187L200,18.181818181818187L200,18.181818181818187L171.42857142857142,18.181818181818187L142.85714285714286,18.181818181818187L114.28571428571428,118.41267113348152L85.71428571428571,18.181818181818187L57.14285714285714,18.181818181818187L28.57142857142857,18.181818181817945L0,200Z\" fill=\"#f58518\"/></g></g><path class=\"foreground\" aria-hidden=\"true\" d=\"\" display=\"none\"/></g><g transform=\"translate(0,0)\"><path class=\"background\" aria-hidden=\"true\" d=\"M0,0h200v200h-200Z\"/><g><g class=\"mark-area role-mark marks\" role=\"graphics-object\" aria-roledescription=\"area mark container\"><path aria-label=\"year: 0; xk: 0; variable: x143\" role=\"graphics-symbol\" aria-roledescription=\"area mark\" d=\"M0,200L28.57142857142857,18.181818181817945L57.14285714285714,18.181818181818187L85.71428571428571,18.181818181818187L114.28571428571428,118.41267113348152L142.85714285714286,18.181818181818187L171.42857142857142,18.181818181818187L200,18.181818181818187L200,18.181818181818187L171.42857142857142,18.181818181818187L142.85714285714286,18.181818181818187L114.28571428571428,118.41267113348152L85.71428571428571,18.181818181818187L57.14285714285714,18.181818181818187L28.57142857142857,200L0,200Z\" fill=\"#e45756\"/></g></g><path class=\"foreground\" aria-hidden=\"true\" d=\"\" display=\"none\"/></g><g transform=\"translate(0,0)\"><path class=\"background\" aria-hidden=\"true\" d=\"M0,0h200v200h-200Z\"/><g><g class=\"mark-area role-mark marks\" role=\"graphics-object\" aria-roledescription=\"area mark container\"><path aria-label=\"year: 0; xk: 0; variable: x149\" role=\"graphics-symbol\" aria-roledescription=\"area mark\" d=\"M0,200L28.57142857142857,200L57.14285714285714,18.181818181818187L85.71428571428571,18.181818181818187L114.28571428571428,118.41267113348152L142.85714285714286,18.181818181818187L171.42857142857142,18.181818181818187L200,18.181818181818187L200,18.181818181818187L171.42857142857142,18.181818181818187L142.85714285714286,18.181818181818187L114.28571428571428,118.41267113348152L85.71428571428571,115.11148326674574L57.14285714285714,18.181818181818187L28.57142857142857,200L0,200Z\" fill=\"#72b7b2\"/></g></g><path class=\"foreground\" aria-hidden=\"true\" d=\"\" display=\"none\"/></g><g transform=\"translate(0,0)\"><path class=\"background\" aria-hidden=\"true\" d=\"M0,0h200v200h-200Z\"/><g><g class=\"mark-area role-mark marks\" role=\"graphics-object\" aria-roledescription=\"area mark container\"><path aria-label=\"year: 0; xk: 0; variable: x155\" role=\"graphics-symbol\" aria-roledescription=\"area mark\" d=\"M0,200L28.57142857142857,200L57.14285714285714,18.181818181818187L85.71428571428571,115.11148326674574L114.28571428571428,118.41267113348152L142.85714285714286,18.181818181818187L171.42857142857142,18.181818181818187L200,18.181818181818187L200,117.88197275621617L171.42857142857142,18.181818181818187L142.85714285714286,113.06615069271275L114.28571428571428,118.41267113348152L85.71428571428571,115.11148326674574L57.14285714285714,18.181818181818187L28.57142857142857,200L0,200Z\" fill=\"#54a24b\"/></g></g><path class=\"foreground\" aria-hidden=\"true\" d=\"\" display=\"none\"/></g><g transform=\"translate(0,0)\"><path class=\"background\" aria-hidden=\"true\" d=\"M0,0h200v200h-200Z\"/><g><g class=\"mark-area role-mark marks\" role=\"graphics-object\" aria-roledescription=\"area mark container\"><path aria-label=\"year: 0; xk: 0; variable: x160\" role=\"graphics-symbol\" aria-roledescription=\"area mark\" d=\"M0,200L28.57142857142857,200L57.14285714285714,18.181818181818187L85.71428571428571,115.11148326674574L114.28571428571428,118.41267113348152L142.85714285714286,113.06615069271275L171.42857142857142,18.181818181818187L200,117.88197275621617L200,117.88197275621617L171.42857142857142,116.97039502865529L142.85714285714286,113.06615069271275L114.28571428571428,118.41267113348152L85.71428571428571,115.11148326674574L57.14285714285714,18.181818181818187L28.57142857142857,200L0,200Z\" fill=\"#eeca3b\"/></g></g><path class=\"foreground\" aria-hidden=\"true\" d=\"\" display=\"none\"/></g><g transform=\"translate(0,0)\"><path class=\"background\" aria-hidden=\"true\" d=\"M0,0h200v200h-200Z\"/><g><g class=\"mark-area role-mark marks\" role=\"graphics-object\" aria-roledescription=\"area mark container\"><path aria-label=\"year: 0; xk: 0; variable: x195\" role=\"graphics-symbol\" aria-roledescription=\"area mark\" d=\"M0,200L28.57142857142857,200L57.14285714285714,18.181818181818187L85.71428571428571,115.11148326674574L114.28571428571428,118.41267113348152L142.85714285714286,113.06615069271275L171.42857142857142,116.97039502865529L200,117.88197275621617L200,117.88197275621617L171.42857142857142,116.97039502865529L142.85714285714286,113.06615069271275L114.28571428571428,118.41267113348152L85.71428571428571,115.11148326674574L57.14285714285714,200L28.57142857142857,200L0,200Z\" fill=\"#b279a2\"/></g></g><path class=\"foreground\" aria-hidden=\"true\" d=\"\" display=\"none\"/></g><g transform=\"translate(0,0)\"><path class=\"background\" aria-hidden=\"true\" d=\"M0,0h200v200h-200Z\"/><g><g class=\"mark-area role-mark marks\" role=\"graphics-object\" aria-roledescription=\"area mark container\"><path aria-label=\"year: 0; xk: 0; variable: x198\" role=\"graphics-symbol\" aria-roledescription=\"area mark\" d=\"M0,200L28.57142857142857,200L57.14285714285714,200L85.71428571428571,115.11148326674574L114.28571428571428,118.41267113348152L142.85714285714286,113.06615069271275L171.42857142857142,116.97039502865529L200,117.88197275621617L200,117.88197275621617L171.42857142857142,200L142.85714285714286,113.06615069271275L114.28571428571428,200L85.71428571428571,115.11148326674574L57.14285714285714,200L28.57142857142857,200L0,200Z\" fill=\"#ff9da6\"/></g></g><path class=\"foreground\" aria-hidden=\"true\" d=\"\" display=\"none\"/></g><g transform=\"translate(0,0)\"><path class=\"background\" aria-hidden=\"true\" d=\"M0,0h200v200h-200Z\"/><g><g class=\"mark-area role-mark marks\" role=\"graphics-object\" aria-roledescription=\"area mark container\"><path aria-label=\"year: 0; xk: 0; variable: x199\" role=\"graphics-symbol\" aria-roledescription=\"area mark\" d=\"M0,200L28.57142857142857,200L57.14285714285714,200L85.71428571428571,115.11148326674574L114.28571428571428,200L142.85714285714286,113.06615069271275L171.42857142857142,200L200,117.88197275621617L200,200L171.42857142857142,200L142.85714285714286,200L114.28571428571428,200L85.71428571428571,115.11148326674574L57.14285714285714,200L28.57142857142857,200L0,200Z\" fill=\"#9d755d\"/></g></g><path class=\"foreground\" aria-hidden=\"true\" d=\"\" display=\"none\"/></g><g transform=\"translate(0,0)\"><path class=\"background\" aria-hidden=\"true\" d=\"M0,0h200v200h-200Z\"/><g><g class=\"mark-area role-mark marks\" role=\"graphics-object\" aria-roledescription=\"area mark container\"><path aria-label=\"year: 0; xk: 0; variable: x200\" role=\"graphics-symbol\" aria-roledescription=\"area mark\" d=\"M0,200L28.57142857142857,200L57.14285714285714,200L85.71428571428571,115.11148326674574L114.28571428571428,200L142.85714285714286,200L171.42857142857142,200L200,200L200,200L171.42857142857142,200L142.85714285714286,200L114.28571428571428,200L85.71428571428571,200L57.14285714285714,200L28.57142857142857,200L0,200Z\" fill=\"#bab0ac\"/></g></g><path class=\"foreground\" aria-hidden=\"true\" d=\"\" display=\"none\"/></g><g transform=\"translate(0,0)\"><path class=\"background\" aria-hidden=\"true\" d=\"M0,0h200v200h-200Z\"/><g><g class=\"mark-area role-mark marks\" role=\"graphics-object\" aria-roledescription=\"area mark container\"><path aria-label=\"year: 0; xk: 1; variable: Conv\" role=\"graphics-symbol\" aria-roledescription=\"area mark\" d=\"M0,18.181818181818187L28.57142857142857,18.181818181817945L57.14285714285714,18.181818181818187L85.71428571428571,18.181818181818187L114.28571428571428,18.181818181818187L142.85714285714286,18.181818181818187L171.42857142857142,18.181818181818187L200,18.181818181818187L200,18.181818181818187L171.42857142857142,18.181818181818187L142.85714285714286,18.181818181818187L114.28571428571428,18.181818181818187L85.71428571428571,18.181818181818187L57.14285714285714,18.181818181818187L28.57142857142857,18.181818181817945L0,200Z\" fill=\"#4c78a8\"/></g></g><path class=\"foreground\" aria-hidden=\"true\" d=\"\" display=\"none\"/></g></g><g class=\"mark-group role-legend\" role=\"graphics-symbol\" aria-roledescription=\"legend\" aria-label=\"Symbol legend titled 'variable' for fill color with 10 values: Conv, x142, x143, x149, x155, ending with x200\"><g transform=\"translate(218,0)\"><path class=\"background\" aria-hidden=\"true\" d=\"M0,0h49v144h-49Z\" pointer-events=\"none\"/><g><g class=\"mark-group role-legend-entry\"><g transform=\"translate(0,16)\"><path class=\"background\" aria-hidden=\"true\" d=\"M0,0h0v0h0Z\" pointer-events=\"none\"/><g><g class=\"mark-group role-scope\" role=\"graphics-object\" aria-roledescription=\"group mark container\"><g transform=\"translate(0,0)\"><path class=\"background\" aria-hidden=\"true\" d=\"M0,0h41v11h-41Z\" pointer-events=\"none\" opacity=\"1\"/><g><g class=\"mark-symbol role-legend-symbol\" pointer-events=\"none\"><path transform=\"translate(6,6)\" d=\"M5,0A5,5,0,1,1,-5,0A5,5,0,1,1,5,0\" fill=\"#4c78a8\" stroke-width=\"1.5\" opacity=\"1\"/></g><g class=\"mark-text role-legend-label\" pointer-events=\"none\"><text text-anchor=\"start\" transform=\"translate(16,9)\" font-family=\"sans-serif\" font-size=\"10px\" fill=\"#000\" opacity=\"1\">Conv</text></g></g><path class=\"foreground\" aria-hidden=\"true\" d=\"\" pointer-events=\"none\" display=\"none\"/></g><g transform=\"translate(0,13)\"><path class=\"background\" aria-hidden=\"true\" d=\"M0,0h41v11h-41Z\" pointer-events=\"none\" opacity=\"1\"/><g><g class=\"mark-symbol role-legend-symbol\" pointer-events=\"none\"><path transform=\"translate(6,6)\" d=\"M5,0A5,5,0,1,1,-5,0A5,5,0,1,1,5,0\" fill=\"#f58518\" stroke-width=\"1.5\" opacity=\"1\"/></g><g class=\"mark-text role-legend-label\" pointer-events=\"none\"><text text-anchor=\"start\" transform=\"translate(16,9)\" font-family=\"sans-serif\" font-size=\"10px\" fill=\"#000\" opacity=\"1\">x142</text></g></g><path class=\"foreground\" aria-hidden=\"true\" d=\"\" pointer-events=\"none\" display=\"none\"/></g><g transform=\"translate(0,26)\"><path class=\"background\" aria-hidden=\"true\" d=\"M0,0h41v11h-41Z\" pointer-events=\"none\" opacity=\"1\"/><g><g class=\"mark-symbol role-legend-symbol\" pointer-events=\"none\"><path transform=\"translate(6,6)\" d=\"M5,0A5,5,0,1,1,-5,0A5,5,0,1,1,5,0\" fill=\"#e45756\" stroke-width=\"1.5\" opacity=\"1\"/></g><g class=\"mark-text role-legend-label\" pointer-events=\"none\"><text text-anchor=\"start\" transform=\"translate(16,9)\" font-family=\"sans-serif\" font-size=\"10px\" fill=\"#000\" opacity=\"1\">x143</text></g></g><path class=\"foreground\" aria-hidden=\"true\" d=\"\" pointer-events=\"none\" display=\"none\"/></g><g transform=\"translate(0,39)\"><path class=\"background\" aria-hidden=\"true\" d=\"M0,0h41v11h-41Z\" pointer-events=\"none\" opacity=\"1\"/><g><g class=\"mark-symbol role-legend-symbol\" pointer-events=\"none\"><path transform=\"translate(6,6)\" d=\"M5,0A5,5,0,1,1,-5,0A5,5,0,1,1,5,0\" fill=\"#72b7b2\" stroke-width=\"1.5\" opacity=\"1\"/></g><g class=\"mark-text role-legend-label\" pointer-events=\"none\"><text text-anchor=\"start\" transform=\"translate(16,9)\" font-family=\"sans-serif\" font-size=\"10px\" fill=\"#000\" opacity=\"1\">x149</text></g></g><path class=\"foreground\" aria-hidden=\"true\" d=\"\" pointer-events=\"none\" display=\"none\"/></g><g transform=\"translate(0,52)\"><path class=\"background\" aria-hidden=\"true\" d=\"M0,0h41v11h-41Z\" pointer-events=\"none\" opacity=\"1\"/><g><g class=\"mark-symbol role-legend-symbol\" pointer-events=\"none\"><path transform=\"translate(6,6)\" d=\"M5,0A5,5,0,1,1,-5,0A5,5,0,1,1,5,0\" fill=\"#54a24b\" stroke-width=\"1.5\" opacity=\"1\"/></g><g class=\"mark-text role-legend-label\" pointer-events=\"none\"><text text-anchor=\"start\" transform=\"translate(16,9)\" font-family=\"sans-serif\" font-size=\"10px\" fill=\"#000\" opacity=\"1\">x155</text></g></g><path class=\"foreground\" aria-hidden=\"true\" d=\"\" pointer-events=\"none\" display=\"none\"/></g><g transform=\"translate(0,65)\"><path class=\"background\" aria-hidden=\"true\" d=\"M0,0h41v11h-41Z\" pointer-events=\"none\" opacity=\"1\"/><g><g class=\"mark-symbol role-legend-symbol\" pointer-events=\"none\"><path transform=\"translate(6,6)\" d=\"M5,0A5,5,0,1,1,-5,0A5,5,0,1,1,5,0\" fill=\"#eeca3b\" stroke-width=\"1.5\" opacity=\"1\"/></g><g class=\"mark-text role-legend-label\" pointer-events=\"none\"><text text-anchor=\"start\" transform=\"translate(16,9)\" font-family=\"sans-serif\" font-size=\"10px\" fill=\"#000\" opacity=\"1\">x160</text></g></g><path class=\"foreground\" aria-hidden=\"true\" d=\"\" pointer-events=\"none\" display=\"none\"/></g><g transform=\"translate(0,78)\"><path class=\"background\" aria-hidden=\"true\" d=\"M0,0h41v11h-41Z\" pointer-events=\"none\" opacity=\"1\"/><g><g class=\"mark-symbol role-legend-symbol\" pointer-events=\"none\"><path transform=\"translate(6,6)\" d=\"M5,0A5,5,0,1,1,-5,0A5,5,0,1,1,5,0\" fill=\"#b279a2\" stroke-width=\"1.5\" opacity=\"1\"/></g><g class=\"mark-text role-legend-label\" pointer-events=\"none\"><text text-anchor=\"start\" transform=\"translate(16,9)\" font-family=\"sans-serif\" font-size=\"10px\" fill=\"#000\" opacity=\"1\">x195</text></g></g><path class=\"foreground\" aria-hidden=\"true\" d=\"\" pointer-events=\"none\" display=\"none\"/></g><g transform=\"translate(0,91)\"><path class=\"background\" aria-hidden=\"true\" d=\"M0,0h41v11h-41Z\" pointer-events=\"none\" opacity=\"1\"/><g><g class=\"mark-symbol role-legend-symbol\" pointer-events=\"none\"><path transform=\"translate(6,6)\" d=\"M5,0A5,5,0,1,1,-5,0A5,5,0,1,1,5,0\" fill=\"#ff9da6\" stroke-width=\"1.5\" opacity=\"1\"/></g><g class=\"mark-text role-legend-label\" pointer-events=\"none\"><text text-anchor=\"start\" transform=\"translate(16,9)\" font-family=\"sans-serif\" font-size=\"10px\" fill=\"#000\" opacity=\"1\">x198</text></g></g><path class=\"foreground\" aria-hidden=\"true\" d=\"\" pointer-events=\"none\" display=\"none\"/></g><g transform=\"translate(0,104)\"><path class=\"background\" aria-hidden=\"true\" d=\"M0,0h41v11h-41Z\" pointer-events=\"none\" opacity=\"1\"/><g><g class=\"mark-symbol role-legend-symbol\" pointer-events=\"none\"><path transform=\"translate(6,6)\" d=\"M5,0A5,5,0,1,1,-5,0A5,5,0,1,1,5,0\" fill=\"#9d755d\" stroke-width=\"1.5\" opacity=\"1\"/></g><g class=\"mark-text role-legend-label\" pointer-events=\"none\"><text text-anchor=\"start\" transform=\"translate(16,9)\" font-family=\"sans-serif\" font-size=\"10px\" fill=\"#000\" opacity=\"1\">x199</text></g></g><path class=\"foreground\" aria-hidden=\"true\" d=\"\" pointer-events=\"none\" display=\"none\"/></g><g transform=\"translate(0,117)\"><path class=\"background\" aria-hidden=\"true\" d=\"M0,0h41v11h-41Z\" pointer-events=\"none\" opacity=\"1\"/><g><g class=\"mark-symbol role-legend-symbol\" pointer-events=\"none\"><path transform=\"translate(6,6)\" d=\"M5,0A5,5,0,1,1,-5,0A5,5,0,1,1,5,0\" fill=\"#bab0ac\" stroke-width=\"1.5\" opacity=\"1\"/></g><g class=\"mark-text role-legend-label\" pointer-events=\"none\"><text text-anchor=\"start\" transform=\"translate(16,9)\" font-family=\"sans-serif\" font-size=\"10px\" fill=\"#000\" opacity=\"1\">x200</text></g></g><path class=\"foreground\" aria-hidden=\"true\" d=\"\" pointer-events=\"none\" display=\"none\"/></g></g></g><path class=\"foreground\" aria-hidden=\"true\" d=\"\" pointer-events=\"none\" display=\"none\"/></g></g><g class=\"mark-text role-legend-title\" pointer-events=\"none\"><text text-anchor=\"start\" transform=\"translate(0,9)\" font-family=\"sans-serif\" font-size=\"11px\" font-weight=\"bold\" fill=\"#000\" opacity=\"1\">variable</text></g></g><path class=\"foreground\" aria-hidden=\"true\" d=\"\" pointer-events=\"none\" display=\"none\"/></g></g></g><path class=\"foreground\" aria-hidden=\"true\" d=\"\" display=\"none\"/></g></g></g></svg>\n"
      ],
      "text/plain": [
       "@vlplot(\n",
       "    legend=\"sNames\",\n",
       "    mark=\"area\",\n",
       "    encoding={\n",
       "        x={\n",
       "            field=\"year\"\n",
       "        },\n",
       "        y={\n",
       "            stack=\"zero\",\n",
       "            title=\"xk\",\n",
       "            field=\"value\"\n",
       "        },\n",
       "        color={\n",
       "            field=\"variable\",\n",
       "            type=\"nominal\"\n",
       "        }\n",
       "    },\n",
       "    data={\n",
       "        values=...\n",
       "    }\n",
       ")"
      ]
     },
     "execution_count": 76,
     "metadata": {},
     "output_type": "execute_result"
    }
   ],
   "source": [
    "\n",
    "transpose(xk)\n",
    "df1=DataFrame(xk',:auto)\n",
    "df1[!,:year] = 5*collect(1:7)\n",
    "df1=df1[!, any.(>(0), eachcol(df1))]\n",
    "df1[!,:Conv] = zeros(7)\n",
    "sNames=\"compromise \".*string.(collect(1:length(xk[:,1])))\n",
    "push!(df1,zeros(size(df1)[2]))\n",
    "df1[8,:Conv]=1\n",
    "\n",
    "comp=df1 |> stack |> @vlplot(:area, x=:year, y={:value, stack=:zero, title=\"xk\"}, color=\"variable:n\",legend=:sNames) \n",
    "#save(\"./result-case-roadmap/compromise-roadmap.svg\", comp)\n",
    "comp\n"
   ]
  },
  {
   "cell_type": "code",
   "execution_count": 15,
   "id": "d0f128a2",
   "metadata": {},
   "outputs": [
    {
     "data": {
      "text/plain": [
       "240×7 Matrix{Float64}:\n",
       " 0.0  0.0  0.0  0.0  0.0  0.0  0.0\n",
       " 0.0  0.0  0.0  0.0  0.0  0.0  0.0\n",
       " 0.0  0.0  0.0  0.0  0.0  0.0  0.0\n",
       " 0.0  0.0  0.0  0.0  0.0  0.0  0.0\n",
       " 0.0  0.0  0.0  0.0  0.0  0.0  0.0\n",
       " 0.0  0.0  0.0  0.0  0.0  0.0  0.0\n",
       " 0.0  0.0  0.0  0.0  0.0  0.0  0.0\n",
       " 0.0  0.0  0.0  0.0  0.0  0.0  0.0\n",
       " 0.0  0.0  0.0  0.0  0.0  0.0  0.0\n",
       " 0.0  0.0  0.0  0.0  0.0  0.0  0.0\n",
       " 0.0  0.0  0.0  0.0  0.0  0.0  0.0\n",
       " 0.0  0.0  0.0  0.0  0.0  0.0  0.0\n",
       " 0.0  0.0  0.0  0.0  0.0  0.0  0.0\n",
       " ⋮                        ⋮    \n",
       " 0.0  0.0  0.0  0.0  0.0  0.0  0.0\n",
       " 0.0  0.0  0.0  0.0  0.0  0.0  0.0\n",
       " 0.0  0.0  0.0  0.0  0.0  0.0  0.0\n",
       " 0.0  0.0  0.0  0.0  0.0  0.0  0.0\n",
       " 0.0  0.0  0.0  0.0  0.0  0.0  0.0\n",
       " 0.0  0.0  0.0  0.0  0.0  0.0  0.0\n",
       " 0.0  0.0  0.0  0.0  0.0  0.0  0.0\n",
       " 0.0  0.0  0.0  0.0  0.0  0.0  0.0\n",
       " 0.0  0.0  0.0  0.0  0.0  0.0  0.0\n",
       " 0.0  0.0  0.0  0.0  0.0  0.0  0.0\n",
       " 0.0  0.0  0.0  0.0  0.0  0.0  0.0\n",
       " 0.0  0.0  0.0  0.0  0.0  0.0  0.0"
      ]
     },
     "execution_count": 15,
     "metadata": {},
     "output_type": "execute_result"
    }
   ],
   "source": [
    "tk"
   ]
  },
  {
   "cell_type": "code",
   "execution_count": 16,
   "id": "c162d001",
   "metadata": {},
   "outputs": [
    {
     "data": {
      "text/plain": [
       "1-dimensional DenseAxisArray{Float64,1,...} with index sets:\n",
       "    Dimension 1, 2:7\n",
       "And data, a 6-element Vector{Float64}:\n",
       "  5.321118545786874e-12\n",
       "  1.974078886468611e-12\n",
       "  1.8834066251027792e-12\n",
       "  1.763224982687106e-12\n",
       "  1.2720954537865731e-12\n",
       " -1.2292518239703093e-12"
      ]
     },
     "execution_count": 16,
     "metadata": {},
     "output_type": "execute_result"
    }
   ],
   "source": [
    "JuMP.value.(comp1)"
   ]
  },
  {
   "cell_type": "code",
   "execution_count": 17,
   "id": "f0dafa12",
   "metadata": {},
   "outputs": [
    {
     "data": {
      "text/html": [
       "<div class=\"data-frame\"><p>8 rows × 11 columns (omitted printing of 2 columns)</p><table class=\"data-frame\"><thead><tr><th></th><th>x93</th><th>x94</th><th>x103</th><th>x108</th><th>x195</th><th>x197</th><th>x198</th><th>x199</th><th>x200</th></tr><tr><th></th><th title=\"Float64\">Float64</th><th title=\"Float64\">Float64</th><th title=\"Float64\">Float64</th><th title=\"Float64\">Float64</th><th title=\"Float64\">Float64</th><th title=\"Float64\">Float64</th><th title=\"Float64\">Float64</th><th title=\"Float64\">Float64</th><th title=\"Float64\">Float64</th></tr></thead><tbody><tr><th>1</th><td>0.0</td><td>1.0</td><td>0.0</td><td>0.0</td><td>0.0</td><td>0.0</td><td>0.0</td><td>0.0</td><td>0.0</td></tr><tr><th>2</th><td>0.0</td><td>0.0</td><td>0.0</td><td>0.0</td><td>1.0</td><td>0.0</td><td>0.0</td><td>0.0</td><td>0.0</td></tr><tr><th>3</th><td>0.0</td><td>0.0</td><td>0.531119</td><td>0.0</td><td>0.0</td><td>0.0</td><td>0.0</td><td>0.0</td><td>0.468881</td></tr><tr><th>4</th><td>0.551468</td><td>0.0</td><td>0.0</td><td>0.0</td><td>0.0</td><td>0.0</td><td>0.0</td><td>0.448532</td><td>0.0</td></tr><tr><th>5</th><td>0.0</td><td>0.0</td><td>0.0</td><td>0.548152</td><td>0.0</td><td>0.0</td><td>0.451848</td><td>0.0</td><td>0.0</td></tr><tr><th>6</th><td>0.551468</td><td>0.0</td><td>0.0</td><td>0.0</td><td>0.0</td><td>0.0</td><td>0.0</td><td>0.448532</td><td>0.0</td></tr><tr><th>7</th><td>0.0</td><td>0.0</td><td>0.0</td><td>0.662016</td><td>0.0</td><td>0.337984</td><td>0.0</td><td>0.0</td><td>0.0</td></tr><tr><th>8</th><td>0.0</td><td>0.0</td><td>0.0</td><td>0.0</td><td>0.0</td><td>0.0</td><td>0.0</td><td>0.0</td><td>0.0</td></tr></tbody></table></div>"
      ],
      "text/latex": [
       "\\begin{tabular}{r|cccccccccc}\n",
       "\t& x93 & x94 & x103 & x108 & x195 & x197 & x198 & x199 & x200 & \\\\\n",
       "\t\\hline\n",
       "\t& Float64 & Float64 & Float64 & Float64 & Float64 & Float64 & Float64 & Float64 & Float64 & \\\\\n",
       "\t\\hline\n",
       "\t1 & 0.0 & 1.0 & 0.0 & 0.0 & 0.0 & 0.0 & 0.0 & 0.0 & 0.0 & $\\dots$ \\\\\n",
       "\t2 & 0.0 & 0.0 & 0.0 & 0.0 & 1.0 & 0.0 & 0.0 & 0.0 & 0.0 & $\\dots$ \\\\\n",
       "\t3 & 0.0 & 0.0 & 0.531119 & 0.0 & 0.0 & 0.0 & 0.0 & 0.0 & 0.468881 & $\\dots$ \\\\\n",
       "\t4 & 0.551468 & 0.0 & 0.0 & 0.0 & 0.0 & 0.0 & 0.0 & 0.448532 & 0.0 & $\\dots$ \\\\\n",
       "\t5 & 0.0 & 0.0 & 0.0 & 0.548152 & 0.0 & 0.0 & 0.451848 & 0.0 & 0.0 & $\\dots$ \\\\\n",
       "\t6 & 0.551468 & 0.0 & 0.0 & 0.0 & 0.0 & 0.0 & 0.0 & 0.448532 & 0.0 & $\\dots$ \\\\\n",
       "\t7 & 0.0 & 0.0 & 0.0 & 0.662016 & 0.0 & 0.337984 & 0.0 & 0.0 & 0.0 & $\\dots$ \\\\\n",
       "\t8 & 0.0 & 0.0 & 0.0 & 0.0 & 0.0 & 0.0 & 0.0 & 0.0 & 0.0 & $\\dots$ \\\\\n",
       "\\end{tabular}\n"
      ],
      "text/plain": [
       "\u001b[1m8×11 DataFrame\u001b[0m\n",
       "\u001b[1m Row \u001b[0m│\u001b[1m x93      \u001b[0m\u001b[1m x94     \u001b[0m\u001b[1m x103     \u001b[0m\u001b[1m x108     \u001b[0m\u001b[1m x195    \u001b[0m\u001b[1m x197     \u001b[0m\u001b[1m x198     \u001b[0m\u001b[1m x19\u001b[0m ⋯\n",
       "\u001b[1m     \u001b[0m│\u001b[90m Float64  \u001b[0m\u001b[90m Float64 \u001b[0m\u001b[90m Float64  \u001b[0m\u001b[90m Float64  \u001b[0m\u001b[90m Float64 \u001b[0m\u001b[90m Float64  \u001b[0m\u001b[90m Float64  \u001b[0m\u001b[90m Flo\u001b[0m ⋯\n",
       "─────┼──────────────────────────────────────────────────────────────────────────\n",
       "   1 │ 0.0           1.0  0.0       0.0           0.0  0.0       0.0       0.0 ⋯\n",
       "   2 │ 0.0           0.0  0.0       0.0           1.0  0.0       0.0       0.0\n",
       "   3 │ 0.0           0.0  0.531119  0.0           0.0  0.0       0.0       0.0\n",
       "   4 │ 0.551468      0.0  0.0       0.0           0.0  0.0       0.0       0.4\n",
       "   5 │ 0.0           0.0  0.0       0.548152      0.0  0.0       0.451848  0.0 ⋯\n",
       "   6 │ 0.551468      0.0  0.0       0.0           0.0  0.0       0.0       0.4\n",
       "   7 │ 0.0           0.0  0.0       0.662016      0.0  0.337984  0.0       0.0\n",
       "   8 │ 0.0           0.0  0.0       0.0           0.0  0.0       0.0       0.0\n",
       "\u001b[36m                                                               4 columns omitted\u001b[0m"
      ]
     },
     "execution_count": 17,
     "metadata": {},
     "output_type": "execute_result"
    }
   ],
   "source": [
    "df1"
   ]
  },
  {
   "cell_type": "code",
   "execution_count": 18,
   "id": "963076e7",
   "metadata": {},
   "outputs": [
    {
     "data": {
      "text/html": [
       "<div class=\"data-frame\"><p>7 rows × 240 columns (omitted printing of 231 columns)</p><table class=\"data-frame\"><thead><tr><th></th><th>x1</th><th>x2</th><th>x3</th><th>x4</th><th>x5</th><th>x6</th><th>x7</th><th>x8</th><th>x9</th></tr><tr><th></th><th title=\"Float64\">Float64</th><th title=\"Float64\">Float64</th><th title=\"Float64\">Float64</th><th title=\"Float64\">Float64</th><th title=\"Float64\">Float64</th><th title=\"Float64\">Float64</th><th title=\"Float64\">Float64</th><th title=\"Float64\">Float64</th><th title=\"Float64\">Float64</th></tr></thead><tbody><tr><th>1</th><td>0.0</td><td>0.0</td><td>0.0</td><td>0.0</td><td>0.0</td><td>0.0</td><td>0.0</td><td>0.0</td><td>0.0</td></tr><tr><th>2</th><td>0.0</td><td>0.0</td><td>0.0</td><td>0.0</td><td>0.0</td><td>0.0</td><td>0.0</td><td>0.0</td><td>0.0</td></tr><tr><th>3</th><td>0.0</td><td>0.0</td><td>0.0</td><td>0.0</td><td>0.0</td><td>0.0</td><td>0.0</td><td>0.0</td><td>0.0</td></tr><tr><th>4</th><td>0.0</td><td>0.0</td><td>0.0</td><td>0.0</td><td>0.0</td><td>0.0</td><td>0.0</td><td>0.0</td><td>0.0</td></tr><tr><th>5</th><td>0.0</td><td>0.0</td><td>0.0</td><td>0.0</td><td>0.0</td><td>0.0</td><td>0.0</td><td>0.0</td><td>0.0</td></tr><tr><th>6</th><td>0.0</td><td>0.0</td><td>0.0</td><td>0.0</td><td>0.0</td><td>0.0</td><td>0.0</td><td>0.0</td><td>0.0</td></tr><tr><th>7</th><td>0.0</td><td>0.0</td><td>0.0</td><td>0.0</td><td>0.0</td><td>0.0</td><td>0.0</td><td>0.0</td><td>0.0</td></tr></tbody></table></div>"
      ],
      "text/latex": [
       "\\begin{tabular}{r|cccccccccc}\n",
       "\t& x1 & x2 & x3 & x4 & x5 & x6 & x7 & x8 & x9 & \\\\\n",
       "\t\\hline\n",
       "\t& Float64 & Float64 & Float64 & Float64 & Float64 & Float64 & Float64 & Float64 & Float64 & \\\\\n",
       "\t\\hline\n",
       "\t1 & 0.0 & 0.0 & 0.0 & 0.0 & 0.0 & 0.0 & 0.0 & 0.0 & 0.0 & $\\dots$ \\\\\n",
       "\t2 & 0.0 & 0.0 & 0.0 & 0.0 & 0.0 & 0.0 & 0.0 & 0.0 & 0.0 & $\\dots$ \\\\\n",
       "\t3 & 0.0 & 0.0 & 0.0 & 0.0 & 0.0 & 0.0 & 0.0 & 0.0 & 0.0 & $\\dots$ \\\\\n",
       "\t4 & 0.0 & 0.0 & 0.0 & 0.0 & 0.0 & 0.0 & 0.0 & 0.0 & 0.0 & $\\dots$ \\\\\n",
       "\t5 & 0.0 & 0.0 & 0.0 & 0.0 & 0.0 & 0.0 & 0.0 & 0.0 & 0.0 & $\\dots$ \\\\\n",
       "\t6 & 0.0 & 0.0 & 0.0 & 0.0 & 0.0 & 0.0 & 0.0 & 0.0 & 0.0 & $\\dots$ \\\\\n",
       "\t7 & 0.0 & 0.0 & 0.0 & 0.0 & 0.0 & 0.0 & 0.0 & 0.0 & 0.0 & $\\dots$ \\\\\n",
       "\\end{tabular}\n"
      ],
      "text/plain": [
       "\u001b[1m7×240 DataFrame\u001b[0m\n",
       "\u001b[1m Row \u001b[0m│\u001b[1m x1      \u001b[0m\u001b[1m x2      \u001b[0m\u001b[1m x3      \u001b[0m\u001b[1m x4      \u001b[0m\u001b[1m x5      \u001b[0m\u001b[1m x6      \u001b[0m\u001b[1m x7      \u001b[0m\u001b[1m x8      \u001b[0m\u001b[1m\u001b[0m ⋯\n",
       "\u001b[1m     \u001b[0m│\u001b[90m Float64 \u001b[0m\u001b[90m Float64 \u001b[0m\u001b[90m Float64 \u001b[0m\u001b[90m Float64 \u001b[0m\u001b[90m Float64 \u001b[0m\u001b[90m Float64 \u001b[0m\u001b[90m Float64 \u001b[0m\u001b[90m Float64 \u001b[0m\u001b[90m\u001b[0m ⋯\n",
       "─────┼──────────────────────────────────────────────────────────────────────────\n",
       "   1 │     0.0      0.0      0.0      0.0      0.0      0.0      0.0      0.0  ⋯\n",
       "   2 │     0.0      0.0      0.0      0.0      0.0      0.0      0.0      0.0\n",
       "   3 │     0.0      0.0      0.0      0.0      0.0      0.0      0.0      0.0\n",
       "   4 │     0.0      0.0      0.0      0.0      0.0      0.0      0.0      0.0\n",
       "   5 │     0.0      0.0      0.0      0.0      0.0      0.0      0.0      0.0  ⋯\n",
       "   6 │     0.0      0.0      0.0      0.0      0.0      0.0      0.0      0.0\n",
       "   7 │     0.0      0.0      0.0      0.0      0.0      0.0      0.0      0.0\n",
       "\u001b[36m                                                             232 columns omitted\u001b[0m"
      ]
     },
     "execution_count": 18,
     "metadata": {},
     "output_type": "execute_result"
    }
   ],
   "source": [
    "df_tk=DataFrame(tk',:auto)\n",
    "#CSV.write(\"./result-case-roadmap/tk\", df_tk)"
   ]
  },
  {
   "cell_type": "code",
   "execution_count": 19,
   "id": "04a70cca",
   "metadata": {},
   "outputs": [
    {
     "data": {
      "text/html": [
       "<div class=\"data-frame\"><p>10 rows × 3 columns</p><table class=\"data-frame\"><thead><tr><th></th><th>i</th><th>k_lim</th><th>name</th></tr><tr><th></th><th title=\"Int64\">Int64</th><th title=\"Int64\">Int64</th><th title=\"String31\">String31</th></tr></thead><tbody><tr><th>1</th><td>1</td><td>29</td><td>MSW pyrolysis to small olefins</td></tr><tr><th>2</th><td>2</td><td>52</td><td>Source Segregation</td></tr><tr><th>3</th><td>3</td><td>66</td><td>AI robot segregation</td></tr><tr><th>4</th><td>4</td><td>91</td><td>LABS from PE</td></tr><tr><th>5</th><td>5</td><td>113</td><td>Pyrolysis of LDPE</td></tr><tr><th>6</th><td>6</td><td>140</td><td>Pyrolysis of HDPE</td></tr><tr><th>7</th><td>7</td><td>165</td><td>Pyrolysis of PP</td></tr><tr><th>8</th><td>8</td><td>193</td><td>Recycling back to PLA usin Clay</td></tr><tr><th>9</th><td>9</td><td>215</td><td>Alkaline hydrolysis of PLA</td></tr><tr><th>10</th><td>10</td><td>240</td><td>Alcoholysis of PLA</td></tr></tbody></table></div>"
      ],
      "text/latex": [
       "\\begin{tabular}{r|ccc}\n",
       "\t& i & k\\_lim & name\\\\\n",
       "\t\\hline\n",
       "\t& Int64 & Int64 & String31\\\\\n",
       "\t\\hline\n",
       "\t1 & 1 & 29 & MSW pyrolysis to small olefins \\\\\n",
       "\t2 & 2 & 52 & Source Segregation \\\\\n",
       "\t3 & 3 & 66 & AI robot segregation \\\\\n",
       "\t4 & 4 & 91 & LABS from PE \\\\\n",
       "\t5 & 5 & 113 & Pyrolysis of LDPE \\\\\n",
       "\t6 & 6 & 140 & Pyrolysis of HDPE \\\\\n",
       "\t7 & 7 & 165 & Pyrolysis of PP \\\\\n",
       "\t8 & 8 & 193 & Recycling back to PLA usin Clay \\\\\n",
       "\t9 & 9 & 215 & Alkaline hydrolysis of PLA \\\\\n",
       "\t10 & 10 & 240 & Alcoholysis of PLA \\\\\n",
       "\\end{tabular}\n"
      ],
      "text/plain": [
       "\u001b[1m10×3 DataFrame\u001b[0m\n",
       "\u001b[1m Row \u001b[0m│\u001b[1m i     \u001b[0m\u001b[1m k_lim \u001b[0m\u001b[1m name                            \u001b[0m\n",
       "\u001b[1m     \u001b[0m│\u001b[90m Int64 \u001b[0m\u001b[90m Int64 \u001b[0m\u001b[90m String31                        \u001b[0m\n",
       "─────┼───────────────────────────────────────────────\n",
       "   1 │     1     29  MSW pyrolysis to small olefins\n",
       "   2 │     2     52  Source Segregation\n",
       "   3 │     3     66  AI robot segregation\n",
       "   4 │     4     91  LABS from PE\n",
       "   5 │     5    113  Pyrolysis of LDPE\n",
       "   6 │     6    140  Pyrolysis of HDPE\n",
       "   7 │     7    165  Pyrolysis of PP\n",
       "   8 │     8    193  Recycling back to PLA usin Clay\n",
       "   9 │     9    215  Alkaline hydrolysis of PLA\n",
       "  10 │    10    240  Alcoholysis of PLA"
      ]
     },
     "execution_count": 19,
     "metadata": {},
     "output_type": "execute_result"
    }
   ],
   "source": [
    "mapki"
   ]
  },
  {
   "cell_type": "code",
   "execution_count": 20,
   "id": "905131c7",
   "metadata": {},
   "outputs": [
    {
     "data": {
      "text/plain": [
       "10×7 Matrix{Float64}:\n",
       " 0.0  0.0  0.0  0.0  0.0  0.0  0.0\n",
       " 0.0  0.0  0.0  0.0  0.0  0.0  0.0\n",
       " 0.0  0.0  0.0  0.0  0.0  0.0  0.0\n",
       " 0.0  0.0  0.0  0.0  0.0  0.0  0.0\n",
       " 1.0  1.0  1.0  1.0  1.0  1.0  1.0\n",
       " 0.0  0.0  0.0  0.0  0.0  0.0  0.0\n",
       " 0.0  0.0  0.0  0.0  0.0  0.0  0.0\n",
       " 0.0  0.0  0.0  0.0  0.0  0.0  0.0\n",
       " 1.0  1.0  1.0  1.0  1.0  1.0  1.0\n",
       " 0.0  0.0  0.0  0.0  0.0  0.0  0.0"
      ]
     },
     "execution_count": 20,
     "metadata": {},
     "output_type": "execute_result"
    }
   ],
   "source": [
    "yi"
   ]
  },
  {
   "cell_type": "code",
   "execution_count": 21,
   "id": "cf474a89",
   "metadata": {},
   "outputs": [
    {
     "ename": "LoadError",
     "evalue": "ArgumentError: Tried renaming :x92 to :pyLDPE1, when :x92 does not exist in the data frame.",
     "output_type": "error",
     "traceback": [
      "ArgumentError: Tried renaming :x92 to :pyLDPE1, when :x92 does not exist in the data frame.",
      "",
      "Stacktrace:",
      " [1] rename!(x::DataFrames.Index, nms::Vector{Pair{Symbol, Symbol}})",
      "   @ DataFrames ~/.julia/packages/DataFrames/ORSVA/src/other/index.jl:91",
      " [2] rename!(df::DataFrame, args::Vector{Pair{Symbol, Symbol}})",
      "   @ DataFrames ~/.julia/packages/DataFrames/ORSVA/src/abstractdataframe/abstractdataframe.jl:210",
      " [3] top-level scope",
      "   @ In[21]:1",
      " [4] eval",
      "   @ ./boot.jl:360 [inlined]",
      " [5] include_string(mapexpr::typeof(REPL.softscope), mod::Module, code::String, filename::String)",
      "   @ Base ./loading.jl:1116"
     ]
    }
   ],
   "source": [
    "rename!(df1,[:x92,:x103,:x217,:x221] .=> [:pyLDPE1,:pyLDPE11,:alcPLA2,:alcPLA6])\n",
    "df0=DataFrame(year=0,Conv=1.0,pyLDPE1=0.0,pyLDPE11=0.0,alcPLA2=0.0,alcPLA6=0.0)\n",
    "append!(df0,df1)\n",
    "df0\n",
    "comp=df0 |> stack |> @vlplot(:area, x=:year, y={:value, stack=:zero, title=\"xk\"}, color=\"variable:n\",legend=:sNames) \n",
    "#save(\"./result-case-roadmap/compromise-roadmap.svg\", comp)\n",
    "comp"
   ]
  },
  {
   "cell_type": "code",
   "execution_count": 22,
   "id": "a84de32e",
   "metadata": {},
   "outputs": [
    {
     "data": {
      "text/html": [
       "<div class=\"data-frame\"><p>10 rows × 3 columns</p><table class=\"data-frame\"><thead><tr><th></th><th>i</th><th>k_lim</th><th>name</th></tr><tr><th></th><th title=\"Int64\">Int64</th><th title=\"Int64\">Int64</th><th title=\"String31\">String31</th></tr></thead><tbody><tr><th>1</th><td>1</td><td>29</td><td>MSW pyrolysis to small olefins</td></tr><tr><th>2</th><td>2</td><td>52</td><td>Source Segregation</td></tr><tr><th>3</th><td>3</td><td>66</td><td>AI robot segregation</td></tr><tr><th>4</th><td>4</td><td>91</td><td>LABS from PE</td></tr><tr><th>5</th><td>5</td><td>113</td><td>Pyrolysis of LDPE</td></tr><tr><th>6</th><td>6</td><td>140</td><td>Pyrolysis of HDPE</td></tr><tr><th>7</th><td>7</td><td>165</td><td>Pyrolysis of PP</td></tr><tr><th>8</th><td>8</td><td>193</td><td>Recycling back to PLA usin Clay</td></tr><tr><th>9</th><td>9</td><td>215</td><td>Alkaline hydrolysis of PLA</td></tr><tr><th>10</th><td>10</td><td>240</td><td>Alcoholysis of PLA</td></tr></tbody></table></div>"
      ],
      "text/latex": [
       "\\begin{tabular}{r|ccc}\n",
       "\t& i & k\\_lim & name\\\\\n",
       "\t\\hline\n",
       "\t& Int64 & Int64 & String31\\\\\n",
       "\t\\hline\n",
       "\t1 & 1 & 29 & MSW pyrolysis to small olefins \\\\\n",
       "\t2 & 2 & 52 & Source Segregation \\\\\n",
       "\t3 & 3 & 66 & AI robot segregation \\\\\n",
       "\t4 & 4 & 91 & LABS from PE \\\\\n",
       "\t5 & 5 & 113 & Pyrolysis of LDPE \\\\\n",
       "\t6 & 6 & 140 & Pyrolysis of HDPE \\\\\n",
       "\t7 & 7 & 165 & Pyrolysis of PP \\\\\n",
       "\t8 & 8 & 193 & Recycling back to PLA usin Clay \\\\\n",
       "\t9 & 9 & 215 & Alkaline hydrolysis of PLA \\\\\n",
       "\t10 & 10 & 240 & Alcoholysis of PLA \\\\\n",
       "\\end{tabular}\n"
      ],
      "text/plain": [
       "\u001b[1m10×3 DataFrame\u001b[0m\n",
       "\u001b[1m Row \u001b[0m│\u001b[1m i     \u001b[0m\u001b[1m k_lim \u001b[0m\u001b[1m name                            \u001b[0m\n",
       "\u001b[1m     \u001b[0m│\u001b[90m Int64 \u001b[0m\u001b[90m Int64 \u001b[0m\u001b[90m String31                        \u001b[0m\n",
       "─────┼───────────────────────────────────────────────\n",
       "   1 │     1     29  MSW pyrolysis to small olefins\n",
       "   2 │     2     52  Source Segregation\n",
       "   3 │     3     66  AI robot segregation\n",
       "   4 │     4     91  LABS from PE\n",
       "   5 │     5    113  Pyrolysis of LDPE\n",
       "   6 │     6    140  Pyrolysis of HDPE\n",
       "   7 │     7    165  Pyrolysis of PP\n",
       "   8 │     8    193  Recycling back to PLA usin Clay\n",
       "   9 │     9    215  Alkaline hydrolysis of PLA\n",
       "  10 │    10    240  Alcoholysis of PLA"
      ]
     },
     "execution_count": 22,
     "metadata": {},
     "output_type": "execute_result"
    }
   ],
   "source": [
    "mapki"
   ]
  },
  {
   "cell_type": "code",
   "execution_count": 23,
   "id": "5e34a2c5",
   "metadata": {},
   "outputs": [
    {
     "data": {
      "text/plain": [
       "240×7 Matrix{Float64}:\n",
       " 0.0  0.0  0.0  0.0  0.0  0.0  0.0\n",
       " 0.0  0.0  0.0  0.0  0.0  0.0  0.0\n",
       " 0.0  0.0  0.0  0.0  0.0  0.0  0.0\n",
       " 0.0  0.0  0.0  0.0  0.0  0.0  0.0\n",
       " 0.0  0.0  0.0  0.0  0.0  0.0  0.0\n",
       " 0.0  0.0  0.0  0.0  0.0  0.0  0.0\n",
       " 0.0  0.0  0.0  0.0  0.0  0.0  0.0\n",
       " 0.0  0.0  0.0  0.0  0.0  0.0  0.0\n",
       " 0.0  0.0  0.0  0.0  0.0  0.0  0.0\n",
       " 0.0  0.0  0.0  0.0  0.0  0.0  0.0\n",
       " 0.0  0.0  0.0  0.0  0.0  0.0  0.0\n",
       " 0.0  0.0  0.0  0.0  0.0  0.0  0.0\n",
       " 0.0  0.0  0.0  0.0  0.0  0.0  0.0\n",
       " ⋮                        ⋮    \n",
       " 0.0  0.0  0.0  0.0  0.0  0.0  0.0\n",
       " 0.0  0.0  0.0  0.0  0.0  0.0  0.0\n",
       " 0.0  0.0  0.0  0.0  0.0  0.0  0.0\n",
       " 0.0  0.0  0.0  0.0  0.0  0.0  0.0\n",
       " 0.0  0.0  0.0  0.0  0.0  0.0  0.0\n",
       " 0.0  0.0  0.0  0.0  0.0  0.0  0.0\n",
       " 0.0  0.0  0.0  0.0  0.0  0.0  0.0\n",
       " 0.0  0.0  0.0  0.0  0.0  0.0  0.0\n",
       " 0.0  0.0  0.0  0.0  0.0  0.0  0.0\n",
       " 0.0  0.0  0.0  0.0  0.0  0.0  0.0\n",
       " 0.0  0.0  0.0  0.0  0.0  0.0  0.0\n",
       " 0.0  0.0  0.0  0.0  0.0  0.0  0.0"
      ]
     },
     "execution_count": 23,
     "metadata": {},
     "output_type": "execute_result"
    }
   ],
   "source": [
    "xk"
   ]
  },
  {
   "cell_type": "code",
   "execution_count": 24,
   "id": "ef7beb2e",
   "metadata": {},
   "outputs": [
    {
     "data": {
      "text/plain": [
       "10×7 Matrix{Float64}:\n",
       " 0.0          0.0  0.0  0.0  0.0  0.0  0.0\n",
       " 0.0          0.0  0.0  0.0  0.0  0.0  0.0\n",
       " 0.0          0.0  0.0  0.0  0.0  0.0  0.0\n",
       " 0.0          0.0  0.0  0.0  0.0  0.0  0.0\n",
       " 5.99099e-11  0.0  0.0  0.0  0.0  0.0  0.0\n",
       " 0.0          0.0  0.0  0.0  0.0  0.0  0.0\n",
       " 0.0          0.0  0.0  0.0  0.0  0.0  0.0\n",
       " 0.0          0.0  0.0  0.0  0.0  0.0  0.0\n",
       " 8.13841e-10  0.0  0.0  0.0  0.0  0.0  0.0\n",
       " 0.0          0.0  0.0  0.0  0.0  0.0  0.0"
      ]
     },
     "execution_count": 24,
     "metadata": {},
     "output_type": "execute_result"
    }
   ],
   "source": [
    "ti  "
   ]
  },
  {
   "cell_type": "code",
   "execution_count": null,
   "id": "775063a2",
   "metadata": {},
   "outputs": [],
   "source": []
  },
  {
   "cell_type": "code",
   "execution_count": 25,
   "id": "005243fc",
   "metadata": {},
   "outputs": [
    {
     "data": {
      "text/html": [
       "<div class=\"data-frame\"><p>240 rows × 9 columns</p><table class=\"data-frame\"><thead><tr><th></th><th>k</th><th>i</th><th>GWP</th><th>Theta</th><th>Per_Recycl</th><th>Per_Comp</th><th>GHG_ElecInd</th><th>GHG_Trans</th><th>OCost</th></tr><tr><th></th><th title=\"Int64\">Int64</th><th title=\"Int64\">Int64</th><th title=\"Float64\">Float64</th><th title=\"Float64\">Float64</th><th title=\"Float64\">Float64</th><th title=\"Float64\">Float64</th><th title=\"Float64\">Float64</th><th title=\"Float64\">Float64</th><th title=\"Float64\">Float64</th></tr></thead><tbody><tr><th>1</th><td>1</td><td>1</td><td>15.0711</td><td>0.621</td><td>0.0</td><td>0.0</td><td>0.499</td><td>0.122</td><td>3.4294</td></tr><tr><th>2</th><td>2</td><td>1</td><td>2.7837</td><td>0.3955</td><td>0.661676</td><td>0.0</td><td>0.47</td><td>0.127</td><td>1.1203</td></tr><tr><th>3</th><td>3</td><td>1</td><td>10.0834</td><td>0.41</td><td>0.0</td><td>1.0</td><td>0.56</td><td>0.111</td><td>0.65</td></tr><tr><th>4</th><td>4</td><td>1</td><td>8.9103</td><td>0.4132</td><td>0.0</td><td>0.958953</td><td>0.54</td><td>0.104</td><td>0.67</td></tr><tr><th>5</th><td>5</td><td>1</td><td>4.0</td><td>0.4546</td><td>0.0</td><td>0.0</td><td>0.54</td><td>0.139</td><td>0.7</td></tr><tr><th>6</th><td>6</td><td>1</td><td>4.1434</td><td>0.5081</td><td>0.0</td><td>0.0</td><td>0.57</td><td>0.12</td><td>0.7</td></tr><tr><th>7</th><td>7</td><td>1</td><td>7.1535</td><td>0.4218</td><td>0.0</td><td>0.854318</td><td>0.5</td><td>0.114</td><td>0.7</td></tr><tr><th>8</th><td>8</td><td>1</td><td>4.1374</td><td>0.5081</td><td>0.0</td><td>0.0</td><td>0.46</td><td>0.116</td><td>0.7</td></tr><tr><th>9</th><td>9</td><td>1</td><td>7.1535</td><td>0.4218</td><td>0.0</td><td>0.854318</td><td>0.52</td><td>0.132</td><td>0.7</td></tr><tr><th>10</th><td>10</td><td>1</td><td>4.0</td><td>0.4915</td><td>0.0922065</td><td>0.0</td><td>0.59</td><td>0.117</td><td>0.8014</td></tr><tr><th>11</th><td>11</td><td>1</td><td>8.5</td><td>0.5836</td><td>0.0</td><td>0.0</td><td>0.59</td><td>0.103</td><td>1.8103</td></tr><tr><th>12</th><td>12</td><td>1</td><td>9.2698</td><td>0.5904</td><td>0.0</td><td>0.0</td><td>0.52</td><td>0.134</td><td>2.0</td></tr><tr><th>13</th><td>13</td><td>1</td><td>9.2698</td><td>0.5904</td><td>0.0</td><td>0.0</td><td>0.58</td><td>0.105</td><td>2.0</td></tr><tr><th>14</th><td>14</td><td>1</td><td>9.2698</td><td>0.5904</td><td>0.0</td><td>0.0</td><td>0.56</td><td>0.107</td><td>2.0</td></tr><tr><th>15</th><td>15</td><td>1</td><td>4.0</td><td>0.4915</td><td>0.0922065</td><td>0.0</td><td>0.48</td><td>0.155</td><td>0.8014</td></tr><tr><th>16</th><td>16</td><td>1</td><td>8.5</td><td>0.5836</td><td>0.0</td><td>0.0</td><td>0.53</td><td>0.14</td><td>1.8103</td></tr><tr><th>17</th><td>17</td><td>1</td><td>10.0</td><td>0.596</td><td>0.0</td><td>0.0</td><td>0.53</td><td>0.126</td><td>2.1799</td></tr><tr><th>18</th><td>18</td><td>1</td><td>10.75</td><td>0.6011</td><td>0.0</td><td>0.0</td><td>0.57</td><td>0.156</td><td>2.3647</td></tr><tr><th>19</th><td>19</td><td>1</td><td>11.0285</td><td>0.6028</td><td>0.0</td><td>0.0</td><td>0.54</td><td>0.144</td><td>2.4333</td></tr><tr><th>20</th><td>20</td><td>1</td><td>4.0</td><td>0.4915</td><td>0.0922065</td><td>0.0</td><td>0.58</td><td>0.104</td><td>0.8014</td></tr><tr><th>21</th><td>21</td><td>1</td><td>8.5</td><td>0.5836</td><td>0.0</td><td>0.0</td><td>0.54</td><td>0.115</td><td>1.8103</td></tr><tr><th>22</th><td>22</td><td>1</td><td>10.0</td><td>0.596</td><td>0.0</td><td>0.0</td><td>0.58</td><td>0.101</td><td>2.1799</td></tr><tr><th>23</th><td>23</td><td>1</td><td>10.75</td><td>0.6011</td><td>0.0</td><td>0.0</td><td>0.58</td><td>0.139</td><td>2.3647</td></tr><tr><th>24</th><td>24</td><td>1</td><td>11.2</td><td>0.6038</td><td>0.0</td><td>0.0</td><td>0.55</td><td>0.124</td><td>2.4756</td></tr><tr><th>25</th><td>25</td><td>1</td><td>4.0</td><td>0.4915</td><td>0.0922065</td><td>0.0</td><td>0.53</td><td>0.123</td><td>0.8014</td></tr><tr><th>26</th><td>26</td><td>1</td><td>8.5</td><td>0.5836</td><td>0.0</td><td>0.0</td><td>0.57</td><td>0.144</td><td>1.8103</td></tr><tr><th>27</th><td>27</td><td>1</td><td>10.0</td><td>0.596</td><td>0.0</td><td>0.0</td><td>0.6</td><td>0.154</td><td>2.1799</td></tr><tr><th>28</th><td>28</td><td>1</td><td>10.75</td><td>0.6011</td><td>0.0</td><td>0.0</td><td>0.45</td><td>0.101</td><td>2.3647</td></tr><tr><th>29</th><td>29</td><td>1</td><td>11.2</td><td>0.6038</td><td>0.0</td><td>0.0</td><td>0.53</td><td>0.132</td><td>2.4756</td></tr><tr><th>30</th><td>30</td><td>2</td><td>12.2276</td><td>0.5596</td><td>0.881291</td><td>0.0</td><td>0.55</td><td>0.107</td><td>3.7074</td></tr><tr><th>&vellip;</th><td>&vellip;</td><td>&vellip;</td><td>&vellip;</td><td>&vellip;</td><td>&vellip;</td><td>&vellip;</td><td>&vellip;</td><td>&vellip;</td><td>&vellip;</td></tr></tbody></table></div>"
      ],
      "text/latex": [
       "\\begin{tabular}{r|ccccccccc}\n",
       "\t& k & i & GWP & Theta & Per\\_Recycl & Per\\_Comp & GHG\\_ElecInd & GHG\\_Trans & OCost\\\\\n",
       "\t\\hline\n",
       "\t& Int64 & Int64 & Float64 & Float64 & Float64 & Float64 & Float64 & Float64 & Float64\\\\\n",
       "\t\\hline\n",
       "\t1 & 1 & 1 & 15.0711 & 0.621 & 0.0 & 0.0 & 0.499 & 0.122 & 3.4294 \\\\\n",
       "\t2 & 2 & 1 & 2.7837 & 0.3955 & 0.661676 & 0.0 & 0.47 & 0.127 & 1.1203 \\\\\n",
       "\t3 & 3 & 1 & 10.0834 & 0.41 & 0.0 & 1.0 & 0.56 & 0.111 & 0.65 \\\\\n",
       "\t4 & 4 & 1 & 8.9103 & 0.4132 & 0.0 & 0.958953 & 0.54 & 0.104 & 0.67 \\\\\n",
       "\t5 & 5 & 1 & 4.0 & 0.4546 & 0.0 & 0.0 & 0.54 & 0.139 & 0.7 \\\\\n",
       "\t6 & 6 & 1 & 4.1434 & 0.5081 & 0.0 & 0.0 & 0.57 & 0.12 & 0.7 \\\\\n",
       "\t7 & 7 & 1 & 7.1535 & 0.4218 & 0.0 & 0.854318 & 0.5 & 0.114 & 0.7 \\\\\n",
       "\t8 & 8 & 1 & 4.1374 & 0.5081 & 0.0 & 0.0 & 0.46 & 0.116 & 0.7 \\\\\n",
       "\t9 & 9 & 1 & 7.1535 & 0.4218 & 0.0 & 0.854318 & 0.52 & 0.132 & 0.7 \\\\\n",
       "\t10 & 10 & 1 & 4.0 & 0.4915 & 0.0922065 & 0.0 & 0.59 & 0.117 & 0.8014 \\\\\n",
       "\t11 & 11 & 1 & 8.5 & 0.5836 & 0.0 & 0.0 & 0.59 & 0.103 & 1.8103 \\\\\n",
       "\t12 & 12 & 1 & 9.2698 & 0.5904 & 0.0 & 0.0 & 0.52 & 0.134 & 2.0 \\\\\n",
       "\t13 & 13 & 1 & 9.2698 & 0.5904 & 0.0 & 0.0 & 0.58 & 0.105 & 2.0 \\\\\n",
       "\t14 & 14 & 1 & 9.2698 & 0.5904 & 0.0 & 0.0 & 0.56 & 0.107 & 2.0 \\\\\n",
       "\t15 & 15 & 1 & 4.0 & 0.4915 & 0.0922065 & 0.0 & 0.48 & 0.155 & 0.8014 \\\\\n",
       "\t16 & 16 & 1 & 8.5 & 0.5836 & 0.0 & 0.0 & 0.53 & 0.14 & 1.8103 \\\\\n",
       "\t17 & 17 & 1 & 10.0 & 0.596 & 0.0 & 0.0 & 0.53 & 0.126 & 2.1799 \\\\\n",
       "\t18 & 18 & 1 & 10.75 & 0.6011 & 0.0 & 0.0 & 0.57 & 0.156 & 2.3647 \\\\\n",
       "\t19 & 19 & 1 & 11.0285 & 0.6028 & 0.0 & 0.0 & 0.54 & 0.144 & 2.4333 \\\\\n",
       "\t20 & 20 & 1 & 4.0 & 0.4915 & 0.0922065 & 0.0 & 0.58 & 0.104 & 0.8014 \\\\\n",
       "\t21 & 21 & 1 & 8.5 & 0.5836 & 0.0 & 0.0 & 0.54 & 0.115 & 1.8103 \\\\\n",
       "\t22 & 22 & 1 & 10.0 & 0.596 & 0.0 & 0.0 & 0.58 & 0.101 & 2.1799 \\\\\n",
       "\t23 & 23 & 1 & 10.75 & 0.6011 & 0.0 & 0.0 & 0.58 & 0.139 & 2.3647 \\\\\n",
       "\t24 & 24 & 1 & 11.2 & 0.6038 & 0.0 & 0.0 & 0.55 & 0.124 & 2.4756 \\\\\n",
       "\t25 & 25 & 1 & 4.0 & 0.4915 & 0.0922065 & 0.0 & 0.53 & 0.123 & 0.8014 \\\\\n",
       "\t26 & 26 & 1 & 8.5 & 0.5836 & 0.0 & 0.0 & 0.57 & 0.144 & 1.8103 \\\\\n",
       "\t27 & 27 & 1 & 10.0 & 0.596 & 0.0 & 0.0 & 0.6 & 0.154 & 2.1799 \\\\\n",
       "\t28 & 28 & 1 & 10.75 & 0.6011 & 0.0 & 0.0 & 0.45 & 0.101 & 2.3647 \\\\\n",
       "\t29 & 29 & 1 & 11.2 & 0.6038 & 0.0 & 0.0 & 0.53 & 0.132 & 2.4756 \\\\\n",
       "\t30 & 30 & 2 & 12.2276 & 0.5596 & 0.881291 & 0.0 & 0.55 & 0.107 & 3.7074 \\\\\n",
       "\t$\\dots$ & $\\dots$ & $\\dots$ & $\\dots$ & $\\dots$ & $\\dots$ & $\\dots$ & $\\dots$ & $\\dots$ & $\\dots$ \\\\\n",
       "\\end{tabular}\n"
      ],
      "text/plain": [
       "\u001b[1m240×9 DataFrame\u001b[0m\n",
       "\u001b[1m Row \u001b[0m│\u001b[1m k     \u001b[0m\u001b[1m i     \u001b[0m\u001b[1m GWP     \u001b[0m\u001b[1m Theta   \u001b[0m\u001b[1m Per_Recycl \u001b[0m\u001b[1m Per_Comp  \u001b[0m\u001b[1m GHG_ElecInd \u001b[0m\u001b[1m GHG\u001b[0m ⋯\n",
       "\u001b[1m     \u001b[0m│\u001b[90m Int64 \u001b[0m\u001b[90m Int64 \u001b[0m\u001b[90m Float64 \u001b[0m\u001b[90m Float64 \u001b[0m\u001b[90m Float64    \u001b[0m\u001b[90m Float64   \u001b[0m\u001b[90m Float64     \u001b[0m\u001b[90m Flo\u001b[0m ⋯\n",
       "─────┼──────────────────────────────────────────────────────────────────────────\n",
       "   1 │     1      1  15.0711   0.621    0.0        0.0              0.499      ⋯\n",
       "   2 │     2      1   2.7837   0.3955   0.661676   0.0              0.47\n",
       "   3 │     3      1  10.0834   0.41     0.0        1.0              0.56\n",
       "   4 │     4      1   8.9103   0.4132   0.0        0.958953         0.54\n",
       "   5 │     5      1   4.0      0.4546   0.0        0.0              0.54       ⋯\n",
       "   6 │     6      1   4.1434   0.5081   0.0        0.0              0.57\n",
       "   7 │     7      1   7.1535   0.4218   0.0        0.854318         0.5\n",
       "   8 │     8      1   4.1374   0.5081   0.0        0.0              0.46\n",
       "   9 │     9      1   7.1535   0.4218   0.0        0.854318         0.52       ⋯\n",
       "  10 │    10      1   4.0      0.4915   0.0922065  0.0              0.59\n",
       "  11 │    11      1   8.5      0.5836   0.0        0.0              0.59\n",
       "  ⋮  │   ⋮      ⋮       ⋮        ⋮         ⋮           ⋮           ⋮           ⋱\n",
       " 231 │   231     10   3.2136   0.175    0.27592    0.0              1.48\n",
       " 232 │   232     10   3.1062   0.175    0.245418   0.0646392        1.58       ⋯\n",
       " 233 │   233     10   2.9988   0.175    0.230787   0.153537         1.48\n",
       " 234 │   234     10   2.8914   0.2485   0.405205   0.0              1.57\n",
       " 235 │   235     10   2.784    0.3955   0.661676   0.0              1.52\n",
       " 236 │   236     10   3.1024   0.05     0.065482   0.0              1.45       ⋯\n",
       " 237 │   237     10   3.1021   0.05     0.065482   0.0              1.5\n",
       " 238 │   238     10   2.9988   0.05     0.0752763  0.0              1.58\n",
       " 239 │   239     10   2.8914   0.207    0.295782   0.0888537        1.56\n",
       " 240 │   240     10   2.784    0.3949   0.660557   0.0              1.48       ⋯\n",
       "\u001b[36m                                                  2 columns and 219 rows omitted\u001b[0m"
      ]
     },
     "execution_count": 25,
     "metadata": {},
     "output_type": "execute_result"
    }
   ],
   "source": [
    "compromise"
   ]
  },
  {
   "cell_type": "code",
   "execution_count": 26,
   "id": "e3a3dbe8",
   "metadata": {},
   "outputs": [
    {
     "data": {
      "text/plain": [
       "10×7 Matrix{Float64}:\n",
       " 2.0  1.93097  2.08861  2.24624  2.60288  2.95952  3.36712\n",
       " 2.0  1.93097  2.08861  2.24624  2.60288  2.95952  3.36712\n",
       " 4.0  3.69121  4.08332  4.47542  5.18264  5.99488  6.92121\n",
       " 4.0  3.72014  3.89779  4.07544  4.47475  4.94796  5.49309\n",
       " 2.0  2.15894  2.31787  2.62687  2.98589  3.44992  4.01899\n",
       " 3.0  2.68846  2.96366  3.23887  3.76307  4.37027  5.05987\n",
       " 2.0  2.25727  2.63287  3.12678  3.62069  4.32956  5.03843\n",
       " 4.0  3.69121  4.08332  4.47542  5.18264  5.99488  6.92121\n",
       " 3.0  3.29813  3.59627  3.8944   4.34283  4.79125  5.42961\n",
       " 4.0  3.72014  3.89779  4.07544  4.47475  4.94796  5.49309"
      ]
     },
     "execution_count": 26,
     "metadata": {},
     "output_type": "execute_result"
    }
   ],
   "source": [
    "s"
   ]
  },
  {
   "cell_type": "code",
   "execution_count": 27,
   "id": "37a60cdb",
   "metadata": {},
   "outputs": [
    {
     "data": {
      "text/html": [
       "<div class=\"data-frame\"><p>8 rows × 11 columns (omitted printing of 2 columns)</p><table class=\"data-frame\"><thead><tr><th></th><th>x93</th><th>x94</th><th>x103</th><th>x108</th><th>x195</th><th>x197</th><th>x198</th><th>x199</th><th>x200</th></tr><tr><th></th><th title=\"Float64\">Float64</th><th title=\"Float64\">Float64</th><th title=\"Float64\">Float64</th><th title=\"Float64\">Float64</th><th title=\"Float64\">Float64</th><th title=\"Float64\">Float64</th><th title=\"Float64\">Float64</th><th title=\"Float64\">Float64</th><th title=\"Float64\">Float64</th></tr></thead><tbody><tr><th>1</th><td>0.0</td><td>1.0</td><td>0.0</td><td>0.0</td><td>0.0</td><td>0.0</td><td>0.0</td><td>0.0</td><td>0.0</td></tr><tr><th>2</th><td>0.0</td><td>0.0</td><td>0.0</td><td>0.0</td><td>1.0</td><td>0.0</td><td>0.0</td><td>0.0</td><td>0.0</td></tr><tr><th>3</th><td>0.0</td><td>0.0</td><td>0.531119</td><td>0.0</td><td>0.0</td><td>0.0</td><td>0.0</td><td>0.0</td><td>0.468881</td></tr><tr><th>4</th><td>0.551468</td><td>0.0</td><td>0.0</td><td>0.0</td><td>0.0</td><td>0.0</td><td>0.0</td><td>0.448532</td><td>0.0</td></tr><tr><th>5</th><td>0.0</td><td>0.0</td><td>0.0</td><td>0.548152</td><td>0.0</td><td>0.0</td><td>0.451848</td><td>0.0</td><td>0.0</td></tr><tr><th>6</th><td>0.551468</td><td>0.0</td><td>0.0</td><td>0.0</td><td>0.0</td><td>0.0</td><td>0.0</td><td>0.448532</td><td>0.0</td></tr><tr><th>7</th><td>0.0</td><td>0.0</td><td>0.0</td><td>0.662016</td><td>0.0</td><td>0.337984</td><td>0.0</td><td>0.0</td><td>0.0</td></tr><tr><th>8</th><td>0.0</td><td>0.0</td><td>0.0</td><td>0.0</td><td>0.0</td><td>0.0</td><td>0.0</td><td>0.0</td><td>0.0</td></tr></tbody></table></div>"
      ],
      "text/latex": [
       "\\begin{tabular}{r|cccccccccc}\n",
       "\t& x93 & x94 & x103 & x108 & x195 & x197 & x198 & x199 & x200 & \\\\\n",
       "\t\\hline\n",
       "\t& Float64 & Float64 & Float64 & Float64 & Float64 & Float64 & Float64 & Float64 & Float64 & \\\\\n",
       "\t\\hline\n",
       "\t1 & 0.0 & 1.0 & 0.0 & 0.0 & 0.0 & 0.0 & 0.0 & 0.0 & 0.0 & $\\dots$ \\\\\n",
       "\t2 & 0.0 & 0.0 & 0.0 & 0.0 & 1.0 & 0.0 & 0.0 & 0.0 & 0.0 & $\\dots$ \\\\\n",
       "\t3 & 0.0 & 0.0 & 0.531119 & 0.0 & 0.0 & 0.0 & 0.0 & 0.0 & 0.468881 & $\\dots$ \\\\\n",
       "\t4 & 0.551468 & 0.0 & 0.0 & 0.0 & 0.0 & 0.0 & 0.0 & 0.448532 & 0.0 & $\\dots$ \\\\\n",
       "\t5 & 0.0 & 0.0 & 0.0 & 0.548152 & 0.0 & 0.0 & 0.451848 & 0.0 & 0.0 & $\\dots$ \\\\\n",
       "\t6 & 0.551468 & 0.0 & 0.0 & 0.0 & 0.0 & 0.0 & 0.0 & 0.448532 & 0.0 & $\\dots$ \\\\\n",
       "\t7 & 0.0 & 0.0 & 0.0 & 0.662016 & 0.0 & 0.337984 & 0.0 & 0.0 & 0.0 & $\\dots$ \\\\\n",
       "\t8 & 0.0 & 0.0 & 0.0 & 0.0 & 0.0 & 0.0 & 0.0 & 0.0 & 0.0 & $\\dots$ \\\\\n",
       "\\end{tabular}\n"
      ],
      "text/plain": [
       "\u001b[1m8×11 DataFrame\u001b[0m\n",
       "\u001b[1m Row \u001b[0m│\u001b[1m x93      \u001b[0m\u001b[1m x94     \u001b[0m\u001b[1m x103     \u001b[0m\u001b[1m x108     \u001b[0m\u001b[1m x195    \u001b[0m\u001b[1m x197     \u001b[0m\u001b[1m x198     \u001b[0m\u001b[1m x19\u001b[0m ⋯\n",
       "\u001b[1m     \u001b[0m│\u001b[90m Float64  \u001b[0m\u001b[90m Float64 \u001b[0m\u001b[90m Float64  \u001b[0m\u001b[90m Float64  \u001b[0m\u001b[90m Float64 \u001b[0m\u001b[90m Float64  \u001b[0m\u001b[90m Float64  \u001b[0m\u001b[90m Flo\u001b[0m ⋯\n",
       "─────┼──────────────────────────────────────────────────────────────────────────\n",
       "   1 │ 0.0           1.0  0.0       0.0           0.0  0.0       0.0       0.0 ⋯\n",
       "   2 │ 0.0           0.0  0.0       0.0           1.0  0.0       0.0       0.0\n",
       "   3 │ 0.0           0.0  0.531119  0.0           0.0  0.0       0.0       0.0\n",
       "   4 │ 0.551468      0.0  0.0       0.0           0.0  0.0       0.0       0.4\n",
       "   5 │ 0.0           0.0  0.0       0.548152      0.0  0.0       0.451848  0.0 ⋯\n",
       "   6 │ 0.551468      0.0  0.0       0.0           0.0  0.0       0.0       0.4\n",
       "   7 │ 0.0           0.0  0.0       0.662016      0.0  0.337984  0.0       0.0\n",
       "   8 │ 0.0           0.0  0.0       0.0           0.0  0.0       0.0       0.0\n",
       "\u001b[36m                                                               4 columns omitted\u001b[0m"
      ]
     },
     "execution_count": 27,
     "metadata": {},
     "output_type": "execute_result"
    }
   ],
   "source": [
    "df1"
   ]
  },
  {
   "cell_type": "code",
   "execution_count": 28,
   "id": "d665b15b",
   "metadata": {},
   "outputs": [
    {
     "data": {
      "text/html": [
       "<div class=\"data-frame\"><p>6 rows × 2 columns</p><table class=\"data-frame\"><thead><tr><th></th><th>Yr</th><th>Back_RedFr_Elec</th></tr><tr><th></th><th title=\"Int64\">Int64</th><th title=\"Float64\">Float64</th></tr></thead><tbody><tr><th>1</th><td>0</td><td>1.0</td></tr><tr><th>2</th><td>10</td><td>0.949785</td></tr><tr><th>3</th><td>20</td><td>0.809146</td></tr><tr><th>4</th><td>30</td><td>0.623735</td></tr><tr><th>5</th><td>40</td><td>0.414707</td></tr><tr><th>6</th><td>50</td><td>0.331447</td></tr></tbody></table></div>"
      ],
      "text/latex": [
       "\\begin{tabular}{r|cc}\n",
       "\t& Yr & Back\\_RedFr\\_Elec\\\\\n",
       "\t\\hline\n",
       "\t& Int64 & Float64\\\\\n",
       "\t\\hline\n",
       "\t1 & 0 & 1.0 \\\\\n",
       "\t2 & 10 & 0.949785 \\\\\n",
       "\t3 & 20 & 0.809146 \\\\\n",
       "\t4 & 30 & 0.623735 \\\\\n",
       "\t5 & 40 & 0.414707 \\\\\n",
       "\t6 & 50 & 0.331447 \\\\\n",
       "\\end{tabular}\n"
      ],
      "text/plain": [
       "\u001b[1m6×2 DataFrame\u001b[0m\n",
       "\u001b[1m Row \u001b[0m│\u001b[1m Yr    \u001b[0m\u001b[1m Back_RedFr_Elec \u001b[0m\n",
       "\u001b[1m     \u001b[0m│\u001b[90m Int64 \u001b[0m\u001b[90m Float64         \u001b[0m\n",
       "─────┼────────────────────────\n",
       "   1 │     0         1.0\n",
       "   2 │    10         0.949785\n",
       "   3 │    20         0.809146\n",
       "   4 │    30         0.623735\n",
       "   5 │    40         0.414707\n",
       "   6 │    50         0.331447"
      ]
     },
     "execution_count": 28,
     "metadata": {},
     "output_type": "execute_result"
    }
   ],
   "source": [
    "iam_model"
   ]
  },
  {
   "cell_type": "code",
   "execution_count": 29,
   "id": "b973f9a0",
   "metadata": {},
   "outputs": [
    {
     "data": {
      "text/plain": [
       "1.0"
      ]
     },
     "execution_count": 29,
     "metadata": {},
     "output_type": "execute_result"
    }
   ],
   "source": [
    "sum(xk[:,1])"
   ]
  },
  {
   "cell_type": "code",
   "execution_count": 30,
   "id": "750deec1",
   "metadata": {},
   "outputs": [
    {
     "data": {
      "text/plain": [
       "1"
      ]
     },
     "execution_count": 30,
     "metadata": {},
     "output_type": "execute_result"
    }
   ],
   "source": [
    "mod(6,5)"
   ]
  },
  {
   "cell_type": "code",
   "execution_count": 77,
   "id": "4b41ac92",
   "metadata": {},
   "outputs": [
    {
     "data": {
      "application/vnd.vegalite.v4+json": {
       "data": {
        "values": [
         {
          "value": 8,
          "variable": "Conv",
          "year": "2020"
         },
         {
          "value": -1.0658141036401503e-14,
          "variable": "Conv",
          "year": "2021"
         },
         {
          "value": -1.0658141036401503e-14,
          "variable": "Conv",
          "year": "2022"
         },
         {
          "value": -1.0658141036401503e-14,
          "variable": "Conv",
          "year": "2023"
         },
         {
          "value": -1.0658141036401503e-14,
          "variable": "Conv",
          "year": "2024"
         },
         {
          "value": 0,
          "variable": "Conv",
          "year": "2025"
         },
         {
          "value": 0,
          "variable": "Conv",
          "year": "2026"
         },
         {
          "value": 0,
          "variable": "Conv",
          "year": "2027"
         },
         {
          "value": 0,
          "variable": "Conv",
          "year": "2028"
         },
         {
          "value": 0,
          "variable": "Conv",
          "year": "2029"
         },
         {
          "value": 0,
          "variable": "Conv",
          "year": "2030"
         },
         {
          "value": 0,
          "variable": "Conv",
          "year": "2031"
         },
         {
          "value": 0,
          "variable": "Conv",
          "year": "2032"
         },
         {
          "value": 0,
          "variable": "Conv",
          "year": "2033"
         },
         {
          "value": 0,
          "variable": "Conv",
          "year": "2034"
         },
         {
          "value": 0,
          "variable": "Conv",
          "year": "2035"
         },
         {
          "value": 0,
          "variable": "Conv",
          "year": "2036"
         },
         {
          "value": 0,
          "variable": "Conv",
          "year": "2037"
         },
         {
          "value": 0,
          "variable": "Conv",
          "year": "2038"
         },
         {
          "value": 0,
          "variable": "Conv",
          "year": "2039"
         },
         {
          "value": 0,
          "variable": "Conv",
          "year": "2040"
         },
         {
          "value": 0,
          "variable": "Conv",
          "year": "2041"
         },
         {
          "value": 0,
          "variable": "Conv",
          "year": "2042"
         },
         {
          "value": 0,
          "variable": "Conv",
          "year": "2043"
         },
         {
          "value": 0,
          "variable": "Conv",
          "year": "2044"
         },
         {
          "value": 0,
          "variable": "Conv",
          "year": "2045"
         },
         {
          "value": 0,
          "variable": "Conv",
          "year": "2046"
         },
         {
          "value": 0,
          "variable": "Conv",
          "year": "2047"
         },
         {
          "value": 0,
          "variable": "Conv",
          "year": "2048"
         },
         {
          "value": 0,
          "variable": "Conv",
          "year": "2049"
         },
         {
          "value": 0,
          "variable": "Conv",
          "year": "2050"
         },
         {
          "value": 0,
          "variable": "Conv",
          "year": "2051"
         },
         {
          "value": 0,
          "variable": "Conv",
          "year": "2052"
         },
         {
          "value": 0,
          "variable": "Conv",
          "year": "2053"
         },
         {
          "value": 0,
          "variable": "Conv",
          "year": "2054"
         },
         {
          "value": 0,
          "variable": "Conv",
          "year": "2055"
         },
         {
          "value": 0,
          "variable": "x143",
          "year": "2020"
         },
         {
          "value": 0,
          "variable": "x143",
          "year": "2021"
         },
         {
          "value": 0,
          "variable": "x143",
          "year": "2022"
         },
         {
          "value": 0,
          "variable": "x143",
          "year": "2023"
         },
         {
          "value": 0,
          "variable": "x143",
          "year": "2024"
         },
         {
          "value": 0,
          "variable": "x143",
          "year": "2025"
         },
         {
          "value": 0,
          "variable": "x143",
          "year": "2026"
         },
         {
          "value": 0,
          "variable": "x143",
          "year": "2027"
         },
         {
          "value": 0,
          "variable": "x143",
          "year": "2028"
         },
         {
          "value": 0,
          "variable": "x143",
          "year": "2029"
         },
         {
          "value": 0.9458818388730929,
          "variable": "x143",
          "year": "2030"
         },
         {
          "value": 0.9458818388730929,
          "variable": "x143",
          "year": "2031"
         },
         {
          "value": 0.9458818388730929,
          "variable": "x143",
          "year": "2032"
         },
         {
          "value": 0.9458818388730929,
          "variable": "x143",
          "year": "2033"
         },
         {
          "value": 0.9458818388730929,
          "variable": "x143",
          "year": "2034"
         },
         {
          "value": 0,
          "variable": "x143",
          "year": "2035"
         },
         {
          "value": 0,
          "variable": "x143",
          "year": "2036"
         },
         {
          "value": 0,
          "variable": "x143",
          "year": "2037"
         },
         {
          "value": 0,
          "variable": "x143",
          "year": "2038"
         },
         {
          "value": 0,
          "variable": "x143",
          "year": "2039"
         },
         {
          "value": 0,
          "variable": "x143",
          "year": "2040"
         },
         {
          "value": 0,
          "variable": "x143",
          "year": "2041"
         },
         {
          "value": 0,
          "variable": "x143",
          "year": "2042"
         },
         {
          "value": 0,
          "variable": "x143",
          "year": "2043"
         },
         {
          "value": 0,
          "variable": "x143",
          "year": "2044"
         },
         {
          "value": 0,
          "variable": "x143",
          "year": "2045"
         },
         {
          "value": 0,
          "variable": "x143",
          "year": "2046"
         },
         {
          "value": 0,
          "variable": "x143",
          "year": "2047"
         },
         {
          "value": 0,
          "variable": "x143",
          "year": "2048"
         },
         {
          "value": 0,
          "variable": "x143",
          "year": "2049"
         },
         {
          "value": 0,
          "variable": "x143",
          "year": "2050"
         },
         {
          "value": 0,
          "variable": "x143",
          "year": "2051"
         },
         {
          "value": 0,
          "variable": "x143",
          "year": "2052"
         },
         {
          "value": 0,
          "variable": "x143",
          "year": "2053"
         },
         {
          "value": 0,
          "variable": "x143",
          "year": "2054"
         },
         {
          "value": 0,
          "variable": "x143",
          "year": "2055"
         },
         {
          "value": 0,
          "variable": "x144",
          "year": "2020"
         },
         {
          "value": 2.8106816572385234,
          "variable": "x144",
          "year": "2021"
         },
         {
          "value": 2.8106816572385234,
          "variable": "x144",
          "year": "2022"
         },
         {
          "value": 2.8106816572385234,
          "variable": "x144",
          "year": "2023"
         },
         {
          "value": 2.8106816572385234,
          "variable": "x144",
          "year": "2024"
         },
         {
          "value": 0,
          "variable": "x144",
          "year": "2025"
         },
         {
          "value": 0,
          "variable": "x144",
          "year": "2026"
         },
         {
          "value": 0,
          "variable": "x144",
          "year": "2027"
         },
         {
          "value": 0,
          "variable": "x144",
          "year": "2028"
         },
         {
          "value": 0,
          "variable": "x144",
          "year": "2029"
         },
         {
          "value": 0,
          "variable": "x144",
          "year": "2030"
         },
         {
          "value": 0,
          "variable": "x144",
          "year": "2031"
         },
         {
          "value": 0,
          "variable": "x144",
          "year": "2032"
         },
         {
          "value": 0,
          "variable": "x144",
          "year": "2033"
         },
         {
          "value": 0,
          "variable": "x144",
          "year": "2034"
         },
         {
          "value": 0,
          "variable": "x144",
          "year": "2035"
         },
         {
          "value": 0,
          "variable": "x144",
          "year": "2036"
         },
         {
          "value": 0,
          "variable": "x144",
          "year": "2037"
         },
         {
          "value": 0,
          "variable": "x144",
          "year": "2038"
         },
         {
          "value": 0,
          "variable": "x144",
          "year": "2039"
         },
         {
          "value": 0,
          "variable": "x144",
          "year": "2040"
         },
         {
          "value": 0,
          "variable": "x144",
          "year": "2041"
         },
         {
          "value": 0,
          "variable": "x144",
          "year": "2042"
         },
         {
          "value": 0,
          "variable": "x144",
          "year": "2043"
         },
         {
          "value": 0,
          "variable": "x144",
          "year": "2044"
         },
         {
          "value": 0,
          "variable": "x144",
          "year": "2045"
         },
         {
          "value": 0,
          "variable": "x144",
          "year": "2046"
         },
         {
          "value": 0,
          "variable": "x144",
          "year": "2047"
         },
         {
          "value": 0,
          "variable": "x144",
          "year": "2048"
         },
         {
          "value": 0,
          "variable": "x144",
          "year": "2049"
         },
         {
          "value": 0,
          "variable": "x144",
          "year": "2050"
         },
         {
          "value": 0,
          "variable": "x144",
          "year": "2051"
         },
         {
          "value": 0,
          "variable": "x144",
          "year": "2052"
         },
         {
          "value": 0,
          "variable": "x144",
          "year": "2053"
         },
         {
          "value": 0,
          "variable": "x144",
          "year": "2054"
         },
         {
          "value": 0,
          "variable": "x144",
          "year": "2055"
         },
         {
          "value": 0,
          "variable": "x156",
          "year": "2020"
         },
         {
          "value": 0,
          "variable": "x156",
          "year": "2021"
         },
         {
          "value": 0,
          "variable": "x156",
          "year": "2022"
         },
         {
          "value": 0,
          "variable": "x156",
          "year": "2023"
         },
         {
          "value": 0,
          "variable": "x156",
          "year": "2024"
         },
         {
          "value": 0,
          "variable": "x156",
          "year": "2025"
         },
         {
          "value": 0,
          "variable": "x156",
          "year": "2026"
         },
         {
          "value": 0,
          "variable": "x156",
          "year": "2027"
         },
         {
          "value": 0,
          "variable": "x156",
          "year": "2028"
         },
         {
          "value": 0,
          "variable": "x156",
          "year": "2029"
         },
         {
          "value": 0,
          "variable": "x156",
          "year": "2030"
         },
         {
          "value": 0,
          "variable": "x156",
          "year": "2031"
         },
         {
          "value": 0,
          "variable": "x156",
          "year": "2032"
         },
         {
          "value": 0,
          "variable": "x156",
          "year": "2033"
         },
         {
          "value": 0,
          "variable": "x156",
          "year": "2034"
         },
         {
          "value": 0.6041997419607462,
          "variable": "x156",
          "year": "2035"
         },
         {
          "value": 0.6041997419607462,
          "variable": "x156",
          "year": "2036"
         },
         {
          "value": 0.6041997419607462,
          "variable": "x156",
          "year": "2037"
         },
         {
          "value": 0.6041997419607462,
          "variable": "x156",
          "year": "2038"
         },
         {
          "value": 0.6041997419607462,
          "variable": "x156",
          "year": "2039"
         },
         {
          "value": 0,
          "variable": "x156",
          "year": "2040"
         },
         {
          "value": 0,
          "variable": "x156",
          "year": "2041"
         },
         {
          "value": 0,
          "variable": "x156",
          "year": "2042"
         },
         {
          "value": 0,
          "variable": "x156",
          "year": "2043"
         },
         {
          "value": 0,
          "variable": "x156",
          "year": "2044"
         },
         {
          "value": 0.0146476482592371,
          "variable": "x156",
          "year": "2045"
         },
         {
          "value": 0.0146476482592371,
          "variable": "x156",
          "year": "2046"
         },
         {
          "value": 0.0146476482592371,
          "variable": "x156",
          "year": "2047"
         },
         {
          "value": 0.0146476482592371,
          "variable": "x156",
          "year": "2048"
         },
         {
          "value": 0.0146476482592371,
          "variable": "x156",
          "year": "2049"
         },
         {
          "value": 0.0146476482592371,
          "variable": "x156",
          "year": "2050"
         },
         {
          "value": 0.0146476482592371,
          "variable": "x156",
          "year": "2051"
         },
         {
          "value": 0.0146476482592371,
          "variable": "x156",
          "year": "2052"
         },
         {
          "value": 0.0146476482592371,
          "variable": "x156",
          "year": "2053"
         },
         {
          "value": 0.0146476482592371,
          "variable": "x156",
          "year": "2054"
         },
         {
          "value": 0.0146476482592371,
          "variable": "x156",
          "year": "2055"
         },
         {
          "value": 0,
          "variable": "x161",
          "year": "2020"
         },
         {
          "value": 0,
          "variable": "x161",
          "year": "2021"
         },
         {
          "value": 0,
          "variable": "x161",
          "year": "2022"
         },
         {
          "value": 0,
          "variable": "x161",
          "year": "2023"
         },
         {
          "value": 0,
          "variable": "x161",
          "year": "2024"
         },
         {
          "value": 0,
          "variable": "x161",
          "year": "2025"
         },
         {
          "value": 0,
          "variable": "x161",
          "year": "2026"
         },
         {
          "value": 0,
          "variable": "x161",
          "year": "2027"
         },
         {
          "value": 0,
          "variable": "x161",
          "year": "2028"
         },
         {
          "value": 0,
          "variable": "x161",
          "year": "2029"
         },
         {
          "value": 0,
          "variable": "x161",
          "year": "2030"
         },
         {
          "value": 0,
          "variable": "x161",
          "year": "2031"
         },
         {
          "value": 0,
          "variable": "x161",
          "year": "2032"
         },
         {
          "value": 0,
          "variable": "x161",
          "year": "2033"
         },
         {
          "value": 0,
          "variable": "x161",
          "year": "2034"
         },
         {
          "value": 0,
          "variable": "x161",
          "year": "2035"
         },
         {
          "value": 0,
          "variable": "x161",
          "year": "2036"
         },
         {
          "value": 0,
          "variable": "x161",
          "year": "2037"
         },
         {
          "value": 0,
          "variable": "x161",
          "year": "2038"
         },
         {
          "value": 0,
          "variable": "x161",
          "year": "2039"
         },
         {
          "value": 0.37433477043812735,
          "variable": "x161",
          "year": "2040"
         },
         {
          "value": 0.37433477043812735,
          "variable": "x161",
          "year": "2041"
         },
         {
          "value": 0.37433477043812735,
          "variable": "x161",
          "year": "2042"
         },
         {
          "value": 0.37433477043812735,
          "variable": "x161",
          "year": "2043"
         },
         {
          "value": 0.37433477043812735,
          "variable": "x161",
          "year": "2044"
         },
         {
          "value": 0,
          "variable": "x161",
          "year": "2045"
         },
         {
          "value": 0,
          "variable": "x161",
          "year": "2046"
         },
         {
          "value": 0,
          "variable": "x161",
          "year": "2047"
         },
         {
          "value": 0,
          "variable": "x161",
          "year": "2048"
         },
         {
          "value": 0,
          "variable": "x161",
          "year": "2049"
         },
         {
          "value": 0,
          "variable": "x161",
          "year": "2050"
         },
         {
          "value": 0,
          "variable": "x161",
          "year": "2051"
         },
         {
          "value": 0,
          "variable": "x161",
          "year": "2052"
         },
         {
          "value": 0,
          "variable": "x161",
          "year": "2053"
         },
         {
          "value": 0,
          "variable": "x161",
          "year": "2054"
         },
         {
          "value": 0,
          "variable": "x161",
          "year": "2055"
         },
         {
          "value": 0,
          "variable": "x196",
          "year": "2020"
         },
         {
          "value": 0,
          "variable": "x196",
          "year": "2021"
         },
         {
          "value": 0,
          "variable": "x196",
          "year": "2022"
         },
         {
          "value": 0,
          "variable": "x196",
          "year": "2023"
         },
         {
          "value": 0,
          "variable": "x196",
          "year": "2024"
         },
         {
          "value": 2.7252589968487206,
          "variable": "x196",
          "year": "2025"
         },
         {
          "value": 2.7252589968487206,
          "variable": "x196",
          "year": "2026"
         },
         {
          "value": 2.7252589968487206,
          "variable": "x196",
          "year": "2027"
         },
         {
          "value": 2.7252589968487206,
          "variable": "x196",
          "year": "2028"
         },
         {
          "value": 2.7252589968487206,
          "variable": "x196",
          "year": "2029"
         },
         {
          "value": 0,
          "variable": "x196",
          "year": "2030"
         },
         {
          "value": 0,
          "variable": "x196",
          "year": "2031"
         },
         {
          "value": 0,
          "variable": "x196",
          "year": "2032"
         },
         {
          "value": 0,
          "variable": "x196",
          "year": "2033"
         },
         {
          "value": 0,
          "variable": "x196",
          "year": "2034"
         },
         {
          "value": 0,
          "variable": "x196",
          "year": "2035"
         },
         {
          "value": 0,
          "variable": "x196",
          "year": "2036"
         },
         {
          "value": 0,
          "variable": "x196",
          "year": "2037"
         },
         {
          "value": 0,
          "variable": "x196",
          "year": "2038"
         },
         {
          "value": 0,
          "variable": "x196",
          "year": "2039"
         },
         {
          "value": 0,
          "variable": "x196",
          "year": "2040"
         },
         {
          "value": 0,
          "variable": "x196",
          "year": "2041"
         },
         {
          "value": 0,
          "variable": "x196",
          "year": "2042"
         },
         {
          "value": 0,
          "variable": "x196",
          "year": "2043"
         },
         {
          "value": 0,
          "variable": "x196",
          "year": "2044"
         },
         {
          "value": 0,
          "variable": "x196",
          "year": "2045"
         },
         {
          "value": 0,
          "variable": "x196",
          "year": "2046"
         },
         {
          "value": 0,
          "variable": "x196",
          "year": "2047"
         },
         {
          "value": 0,
          "variable": "x196",
          "year": "2048"
         },
         {
          "value": 0,
          "variable": "x196",
          "year": "2049"
         },
         {
          "value": 0,
          "variable": "x196",
          "year": "2050"
         },
         {
          "value": 0,
          "variable": "x196",
          "year": "2051"
         },
         {
          "value": 0,
          "variable": "x196",
          "year": "2052"
         },
         {
          "value": 0,
          "variable": "x196",
          "year": "2053"
         },
         {
          "value": 0,
          "variable": "x196",
          "year": "2054"
         },
         {
          "value": 0,
          "variable": "x196",
          "year": "2055"
         },
         {
          "value": 0,
          "variable": "x199",
          "year": "2020"
         },
         {
          "value": 0,
          "variable": "x199",
          "year": "2021"
         },
         {
          "value": 0,
          "variable": "x199",
          "year": "2022"
         },
         {
          "value": 0,
          "variable": "x199",
          "year": "2023"
         },
         {
          "value": 0,
          "variable": "x199",
          "year": "2024"
         },
         {
          "value": 0,
          "variable": "x199",
          "year": "2025"
         },
         {
          "value": 0,
          "variable": "x199",
          "year": "2026"
         },
         {
          "value": 0,
          "variable": "x199",
          "year": "2027"
         },
         {
          "value": 0,
          "variable": "x199",
          "year": "2028"
         },
         {
          "value": 0,
          "variable": "x199",
          "year": "2029"
         },
         {
          "value": 0.9802460865821456,
          "variable": "x199",
          "year": "2030"
         },
         {
          "value": 0.9802460865821456,
          "variable": "x199",
          "year": "2031"
         },
         {
          "value": 0.9802460865821456,
          "variable": "x199",
          "year": "2032"
         },
         {
          "value": 0.9802460865821456,
          "variable": "x199",
          "year": "2033"
         },
         {
          "value": 0.9802460865821456,
          "variable": "x199",
          "year": "2034"
         },
         {
          "value": 0,
          "variable": "x199",
          "year": "2035"
         },
         {
          "value": 0,
          "variable": "x199",
          "year": "2036"
         },
         {
          "value": 0,
          "variable": "x199",
          "year": "2037"
         },
         {
          "value": 0,
          "variable": "x199",
          "year": "2038"
         },
         {
          "value": 0,
          "variable": "x199",
          "year": "2039"
         },
         {
          "value": 0.5829455055075353,
          "variable": "x199",
          "year": "2040"
         },
         {
          "value": 0.5829455055075353,
          "variable": "x199",
          "year": "2041"
         },
         {
          "value": 0.5829455055075353,
          "variable": "x199",
          "year": "2042"
         },
         {
          "value": 0.5829455055075353,
          "variable": "x199",
          "year": "2043"
         },
         {
          "value": 0.5829455055075353,
          "variable": "x199",
          "year": "2044"
         },
         {
          "value": 0,
          "variable": "x199",
          "year": "2045"
         },
         {
          "value": 0,
          "variable": "x199",
          "year": "2046"
         },
         {
          "value": 0,
          "variable": "x199",
          "year": "2047"
         },
         {
          "value": 0,
          "variable": "x199",
          "year": "2048"
         },
         {
          "value": 0,
          "variable": "x199",
          "year": "2049"
         },
         {
          "value": 0,
          "variable": "x199",
          "year": "2050"
         },
         {
          "value": 0,
          "variable": "x199",
          "year": "2051"
         },
         {
          "value": 0,
          "variable": "x199",
          "year": "2052"
         },
         {
          "value": 0,
          "variable": "x199",
          "year": "2053"
         },
         {
          "value": 0,
          "variable": "x199",
          "year": "2054"
         },
         {
          "value": 0,
          "variable": "x199",
          "year": "2055"
         },
         {
          "value": 0,
          "variable": "x200",
          "year": "2020"
         },
         {
          "value": 0,
          "variable": "x200",
          "year": "2021"
         },
         {
          "value": 0,
          "variable": "x200",
          "year": "2022"
         },
         {
          "value": 0,
          "variable": "x200",
          "year": "2023"
         },
         {
          "value": 0,
          "variable": "x200",
          "year": "2024"
         },
         {
          "value": 0,
          "variable": "x200",
          "year": "2025"
         },
         {
          "value": 0,
          "variable": "x200",
          "year": "2026"
         },
         {
          "value": 0,
          "variable": "x200",
          "year": "2027"
         },
         {
          "value": 0,
          "variable": "x200",
          "year": "2028"
         },
         {
          "value": 0,
          "variable": "x200",
          "year": "2029"
         },
         {
          "value": 0,
          "variable": "x200",
          "year": "2030"
         },
         {
          "value": 0,
          "variable": "x200",
          "year": "2031"
         },
         {
          "value": 0,
          "variable": "x200",
          "year": "2032"
         },
         {
          "value": 0,
          "variable": "x200",
          "year": "2033"
         },
         {
          "value": 0,
          "variable": "x200",
          "year": "2034"
         },
         {
          "value": 0.914982186644142,
          "variable": "x200",
          "year": "2035"
         },
         {
          "value": 0.914982186644142,
          "variable": "x200",
          "year": "2036"
         },
         {
          "value": 0.914982186644142,
          "variable": "x200",
          "year": "2037"
         },
         {
          "value": 0.914982186644142,
          "variable": "x200",
          "year": "2038"
         },
         {
          "value": 0.914982186644142,
          "variable": "x200",
          "year": "2039"
         },
         {
          "value": 0,
          "variable": "x200",
          "year": "2040"
         },
         {
          "value": 0,
          "variable": "x200",
          "year": "2041"
         },
         {
          "value": 0,
          "variable": "x200",
          "year": "2042"
         },
         {
          "value": 0,
          "variable": "x200",
          "year": "2043"
         },
         {
          "value": 0,
          "variable": "x200",
          "year": "2044"
         },
         {
          "value": 0.3763750149755505,
          "variable": "x200",
          "year": "2045"
         },
         {
          "value": 0.3763750149755505,
          "variable": "x200",
          "year": "2046"
         },
         {
          "value": 0.3763750149755505,
          "variable": "x200",
          "year": "2047"
         },
         {
          "value": 0.3763750149755505,
          "variable": "x200",
          "year": "2048"
         },
         {
          "value": 0.3763750149755505,
          "variable": "x200",
          "year": "2049"
         },
         {
          "value": 0.3763750149755505,
          "variable": "x200",
          "year": "2050"
         },
         {
          "value": 0.3763750149755505,
          "variable": "x200",
          "year": "2051"
         },
         {
          "value": 0.3763750149755505,
          "variable": "x200",
          "year": "2052"
         },
         {
          "value": 0.3763750149755505,
          "variable": "x200",
          "year": "2053"
         },
         {
          "value": 0.3763750149755505,
          "variable": "x200",
          "year": "2054"
         },
         {
          "value": 0.3763750149755505,
          "variable": "x200",
          "year": "2055"
         }
        ]
       },
       "encoding": {
        "color": {
         "field": "variable",
         "type": "nominal"
        },
        "x": {
         "field": "year"
        },
        "y": {
         "field": "value",
         "stack": "zero",
         "title": "CO2",
         "type": "quantitative"
        }
       },
       "legend": "sNames",
       "mark": "area"
      },
      "image/png": "[encoded data removed]",
      "image/svg+xml": [
       "<?xml version=\"1.0\" encoding=\"utf-8\"?>\n",
       "<!DOCTYPE svg PUBLIC \"-//W3C//DTD SVG 1.1//EN\" \"http://www.w3.org/Graphics/SVG/1.1/DTD/svg11.dtd\">\n",
       "<svg xmlns=\"http://www.w3.org/2000/svg\" xmlns:xlink=\"http://www.w3.org/1999/xlink\" version=\"1.1\" class=\"marks\" width=\"825\" height=\"261\" viewBox=\"0 0 825 261\"><rect width=\"825\" height=\"261\" fill=\"white\"/><g fill=\"none\" stroke-miterlimit=\"10\" transform=\"translate(33,10)\"><g class=\"mark-group role-frame root\" role=\"graphics-object\" aria-roledescription=\"group mark container\"><g transform=\"translate(0,0)\"><path class=\"background\" aria-hidden=\"true\" d=\"M0.5,0.5h720v200h-720Z\" stroke=\"#ddd\"/><g><g class=\"mark-group role-axis\" aria-hidden=\"true\"><g transform=\"translate(0.5,0.5)\"><path class=\"background\" aria-hidden=\"true\" d=\"M0,0h0v0h0Z\" pointer-events=\"none\"/><g><g class=\"mark-rule role-axis-grid\" pointer-events=\"none\"><line transform=\"translate(0,178)\" x2=\"720\" y2=\"0\" stroke=\"#ddd\" stroke-width=\"1\" opacity=\"1\"/><line transform=\"translate(0,133)\" x2=\"720\" y2=\"0\" stroke=\"#ddd\" stroke-width=\"1\" opacity=\"1\"/><line transform=\"translate(0,89)\" x2=\"720\" y2=\"0\" stroke=\"#ddd\" stroke-width=\"1\" opacity=\"1\"/><line transform=\"translate(0,44)\" x2=\"720\" y2=\"0\" stroke=\"#ddd\" stroke-width=\"1\" opacity=\"1\"/><line transform=\"translate(0,0)\" x2=\"720\" y2=\"0\" stroke=\"#ddd\" stroke-width=\"1\" opacity=\"1\"/></g></g><path class=\"foreground\" aria-hidden=\"true\" d=\"\" pointer-events=\"none\" display=\"none\"/></g></g><g class=\"mark-group role-axis\" role=\"graphics-symbol\" aria-roledescription=\"axis\" aria-label=\"X-axis titled 'year' for a discrete scale with 36 values: 2020, 2021, 2022, 2023, 2024, ending with 2055\"><g transform=\"translate(0.5,200.5)\"><path class=\"background\" aria-hidden=\"true\" d=\"M0,0h0v0h0Z\" pointer-events=\"none\"/><g><g class=\"mark-rule role-axis-tick\" pointer-events=\"none\"><line transform=\"translate(10,0)\" x2=\"0\" y2=\"5\" stroke=\"#888\" stroke-width=\"1\" opacity=\"1\"/><line transform=\"translate(30,0)\" x2=\"0\" y2=\"5\" stroke=\"#888\" stroke-width=\"1\" opacity=\"1\"/><line transform=\"translate(50,0)\" x2=\"0\" y2=\"5\" stroke=\"#888\" stroke-width=\"1\" opacity=\"1\"/><line transform=\"translate(70,0)\" x2=\"0\" y2=\"5\" stroke=\"#888\" stroke-width=\"1\" opacity=\"1\"/><line transform=\"translate(90,0)\" x2=\"0\" y2=\"5\" stroke=\"#888\" stroke-width=\"1\" opacity=\"1\"/><line transform=\"translate(110,0)\" x2=\"0\" y2=\"5\" stroke=\"#888\" stroke-width=\"1\" opacity=\"1\"/><line transform=\"translate(130,0)\" x2=\"0\" y2=\"5\" stroke=\"#888\" stroke-width=\"1\" opacity=\"1\"/><line transform=\"translate(150,0)\" x2=\"0\" y2=\"5\" stroke=\"#888\" stroke-width=\"1\" opacity=\"1\"/><line transform=\"translate(170,0)\" x2=\"0\" y2=\"5\" stroke=\"#888\" stroke-width=\"1\" opacity=\"1\"/><line transform=\"translate(190,0)\" x2=\"0\" y2=\"5\" stroke=\"#888\" stroke-width=\"1\" opacity=\"1\"/><line transform=\"translate(210,0)\" x2=\"0\" y2=\"5\" stroke=\"#888\" stroke-width=\"1\" opacity=\"1\"/><line transform=\"translate(230,0)\" x2=\"0\" y2=\"5\" stroke=\"#888\" stroke-width=\"1\" opacity=\"1\"/><line transform=\"translate(250,0)\" x2=\"0\" y2=\"5\" stroke=\"#888\" stroke-width=\"1\" opacity=\"1\"/><line transform=\"translate(270,0)\" x2=\"0\" y2=\"5\" stroke=\"#888\" stroke-width=\"1\" opacity=\"1\"/><line transform=\"translate(290,0)\" x2=\"0\" y2=\"5\" stroke=\"#888\" stroke-width=\"1\" opacity=\"1\"/><line transform=\"translate(310,0)\" x2=\"0\" y2=\"5\" stroke=\"#888\" stroke-width=\"1\" opacity=\"1\"/><line transform=\"translate(330,0)\" x2=\"0\" y2=\"5\" stroke=\"#888\" stroke-width=\"1\" opacity=\"1\"/><line transform=\"translate(350,0)\" x2=\"0\" y2=\"5\" stroke=\"#888\" stroke-width=\"1\" opacity=\"1\"/><line transform=\"translate(370,0)\" x2=\"0\" y2=\"5\" stroke=\"#888\" stroke-width=\"1\" opacity=\"1\"/><line transform=\"translate(390,0)\" x2=\"0\" y2=\"5\" stroke=\"#888\" stroke-width=\"1\" opacity=\"1\"/><line transform=\"translate(410,0)\" x2=\"0\" y2=\"5\" stroke=\"#888\" stroke-width=\"1\" opacity=\"1\"/><line transform=\"translate(430,0)\" x2=\"0\" y2=\"5\" stroke=\"#888\" stroke-width=\"1\" opacity=\"1\"/><line transform=\"translate(450,0)\" x2=\"0\" y2=\"5\" stroke=\"#888\" stroke-width=\"1\" opacity=\"1\"/><line transform=\"translate(470,0)\" x2=\"0\" y2=\"5\" stroke=\"#888\" stroke-width=\"1\" opacity=\"1\"/><line transform=\"translate(490,0)\" x2=\"0\" y2=\"5\" stroke=\"#888\" stroke-width=\"1\" opacity=\"1\"/><line transform=\"translate(510,0)\" x2=\"0\" y2=\"5\" stroke=\"#888\" stroke-width=\"1\" opacity=\"1\"/><line transform=\"translate(530,0)\" x2=\"0\" y2=\"5\" stroke=\"#888\" stroke-width=\"1\" opacity=\"1\"/><line transform=\"translate(550,0)\" x2=\"0\" y2=\"5\" stroke=\"#888\" stroke-width=\"1\" opacity=\"1\"/><line transform=\"translate(570,0)\" x2=\"0\" y2=\"5\" stroke=\"#888\" stroke-width=\"1\" opacity=\"1\"/><line transform=\"translate(590,0)\" x2=\"0\" y2=\"5\" stroke=\"#888\" stroke-width=\"1\" opacity=\"1\"/><line transform=\"translate(610,0)\" x2=\"0\" y2=\"5\" stroke=\"#888\" stroke-width=\"1\" opacity=\"1\"/><line transform=\"translate(630,0)\" x2=\"0\" y2=\"5\" stroke=\"#888\" stroke-width=\"1\" opacity=\"1\"/><line transform=\"translate(650,0)\" x2=\"0\" y2=\"5\" stroke=\"#888\" stroke-width=\"1\" opacity=\"1\"/><line transform=\"translate(670,0)\" x2=\"0\" y2=\"5\" stroke=\"#888\" stroke-width=\"1\" opacity=\"1\"/><line transform=\"translate(690,0)\" x2=\"0\" y2=\"5\" stroke=\"#888\" stroke-width=\"1\" opacity=\"1\"/><line transform=\"translate(710,0)\" x2=\"0\" y2=\"5\" stroke=\"#888\" stroke-width=\"1\" opacity=\"1\"/></g><g class=\"mark-text role-axis-label\" pointer-events=\"none\"><text text-anchor=\"end\" transform=\"translate(10,7) rotate(270) translate(0,3)\" font-family=\"sans-serif\" font-size=\"10px\" fill=\"#000\" opacity=\"1\">2020</text><text text-anchor=\"end\" transform=\"translate(30,7) rotate(270) translate(0,3)\" font-family=\"sans-serif\" font-size=\"10px\" fill=\"#000\" opacity=\"1\">2021</text><text text-anchor=\"end\" transform=\"translate(50,7) rotate(270) translate(0,3)\" font-family=\"sans-serif\" font-size=\"10px\" fill=\"#000\" opacity=\"1\">2022</text><text text-anchor=\"end\" transform=\"translate(70,7) rotate(270) translate(0,3)\" font-family=\"sans-serif\" font-size=\"10px\" fill=\"#000\" opacity=\"1\">2023</text><text text-anchor=\"end\" transform=\"translate(90,7) rotate(270) translate(0,3)\" font-family=\"sans-serif\" font-size=\"10px\" fill=\"#000\" opacity=\"1\">2024</text><text text-anchor=\"end\" transform=\"translate(110,7) rotate(270) translate(0,3)\" font-family=\"sans-serif\" font-size=\"10px\" fill=\"#000\" opacity=\"1\">2025</text><text text-anchor=\"end\" transform=\"translate(130,7) rotate(270) translate(0,3)\" font-family=\"sans-serif\" font-size=\"10px\" fill=\"#000\" opacity=\"1\">2026</text><text text-anchor=\"end\" transform=\"translate(150,7) rotate(270) translate(0,3)\" font-family=\"sans-serif\" font-size=\"10px\" fill=\"#000\" opacity=\"1\">2027</text><text text-anchor=\"end\" transform=\"translate(170,7) rotate(270) translate(0,3)\" font-family=\"sans-serif\" font-size=\"10px\" fill=\"#000\" opacity=\"1\">2028</text><text text-anchor=\"end\" transform=\"translate(190,7) rotate(270) translate(0,3)\" font-family=\"sans-serif\" font-size=\"10px\" fill=\"#000\" opacity=\"1\">2029</text><text text-anchor=\"end\" transform=\"translate(210,7) rotate(270) translate(0,3)\" font-family=\"sans-serif\" font-size=\"10px\" fill=\"#000\" opacity=\"1\">2030</text><text text-anchor=\"end\" transform=\"translate(230,7) rotate(270) translate(0,3)\" font-family=\"sans-serif\" font-size=\"10px\" fill=\"#000\" opacity=\"1\">2031</text><text text-anchor=\"end\" transform=\"translate(250,7) rotate(270) translate(0,3)\" font-family=\"sans-serif\" font-size=\"10px\" fill=\"#000\" opacity=\"1\">2032</text><text text-anchor=\"end\" transform=\"translate(270,7) rotate(270) translate(0,3)\" font-family=\"sans-serif\" font-size=\"10px\" fill=\"#000\" opacity=\"1\">2033</text><text text-anchor=\"end\" transform=\"translate(290,7) rotate(270) translate(0,3)\" font-family=\"sans-serif\" font-size=\"10px\" fill=\"#000\" opacity=\"1\">2034</text><text text-anchor=\"end\" transform=\"translate(310,7) rotate(270) translate(0,3)\" font-family=\"sans-serif\" font-size=\"10px\" fill=\"#000\" opacity=\"1\">2035</text><text text-anchor=\"end\" transform=\"translate(330,7) rotate(270) translate(0,3)\" font-family=\"sans-serif\" font-size=\"10px\" fill=\"#000\" opacity=\"1\">2036</text><text text-anchor=\"end\" transform=\"translate(350,7) rotate(270) translate(0,3)\" font-family=\"sans-serif\" font-size=\"10px\" fill=\"#000\" opacity=\"1\">2037</text><text text-anchor=\"end\" transform=\"translate(370,7) rotate(270) translate(0,3)\" font-family=\"sans-serif\" font-size=\"10px\" fill=\"#000\" opacity=\"1\">2038</text><text text-anchor=\"end\" transform=\"translate(390,7) rotate(270) translate(0,3)\" font-family=\"sans-serif\" font-size=\"10px\" fill=\"#000\" opacity=\"1\">2039</text><text text-anchor=\"end\" transform=\"translate(410,7) rotate(270) translate(0,3)\" font-family=\"sans-serif\" font-size=\"10px\" fill=\"#000\" opacity=\"1\">2040</text><text text-anchor=\"end\" transform=\"translate(430,7) rotate(270) translate(0,3)\" font-family=\"sans-serif\" font-size=\"10px\" fill=\"#000\" opacity=\"1\">2041</text><text text-anchor=\"end\" transform=\"translate(450,7) rotate(270) translate(0,3)\" font-family=\"sans-serif\" font-size=\"10px\" fill=\"#000\" opacity=\"1\">2042</text><text text-anchor=\"end\" transform=\"translate(470,7) rotate(270) translate(0,3)\" font-family=\"sans-serif\" font-size=\"10px\" fill=\"#000\" opacity=\"1\">2043</text><text text-anchor=\"end\" transform=\"translate(490,7) rotate(270) translate(0,3)\" font-family=\"sans-serif\" font-size=\"10px\" fill=\"#000\" opacity=\"1\">2044</text><text text-anchor=\"end\" transform=\"translate(510,7) rotate(270) translate(0,3)\" font-family=\"sans-serif\" font-size=\"10px\" fill=\"#000\" opacity=\"1\">2045</text><text text-anchor=\"end\" transform=\"translate(530,7) rotate(270) translate(0,3)\" font-family=\"sans-serif\" font-size=\"10px\" fill=\"#000\" opacity=\"1\">2046</text><text text-anchor=\"end\" transform=\"translate(550,7) rotate(270) translate(0,3)\" font-family=\"sans-serif\" font-size=\"10px\" fill=\"#000\" opacity=\"1\">2047</text><text text-anchor=\"end\" transform=\"translate(570,7) rotate(270) translate(0,3)\" font-family=\"sans-serif\" font-size=\"10px\" fill=\"#000\" opacity=\"1\">2048</text><text text-anchor=\"end\" transform=\"translate(590,7) rotate(270) translate(0,3)\" font-family=\"sans-serif\" font-size=\"10px\" fill=\"#000\" opacity=\"1\">2049</text><text text-anchor=\"end\" transform=\"translate(610,7) rotate(270) translate(0,3)\" font-family=\"sans-serif\" font-size=\"10px\" fill=\"#000\" opacity=\"1\">2050</text><text text-anchor=\"end\" transform=\"translate(630,7) rotate(270) translate(0,3)\" font-family=\"sans-serif\" font-size=\"10px\" fill=\"#000\" opacity=\"1\">2051</text><text text-anchor=\"end\" transform=\"translate(650,7) rotate(270) translate(0,3)\" font-family=\"sans-serif\" font-size=\"10px\" fill=\"#000\" opacity=\"1\">2052</text><text text-anchor=\"end\" transform=\"translate(670,7) rotate(270) translate(0,3)\" font-family=\"sans-serif\" font-size=\"10px\" fill=\"#000\" opacity=\"1\">2053</text><text text-anchor=\"end\" transform=\"translate(690,7) rotate(270) translate(0,3)\" font-family=\"sans-serif\" font-size=\"10px\" fill=\"#000\" opacity=\"1\">2054</text><text text-anchor=\"end\" transform=\"translate(710,7) rotate(270) translate(0,3)\" font-family=\"sans-serif\" font-size=\"10px\" fill=\"#000\" opacity=\"1\">2055</text></g><g class=\"mark-rule role-axis-domain\" pointer-events=\"none\"><line transform=\"translate(0,0)\" x2=\"720\" y2=\"0\" stroke=\"#888\" stroke-width=\"1\" opacity=\"1\"/></g><g class=\"mark-text role-axis-title\" pointer-events=\"none\"><text text-anchor=\"middle\" transform=\"translate(360,44)\" font-family=\"sans-serif\" font-size=\"11px\" font-weight=\"bold\" fill=\"#000\" opacity=\"1\">year</text></g></g><path class=\"foreground\" aria-hidden=\"true\" d=\"\" pointer-events=\"none\" display=\"none\"/></g></g><g class=\"mark-group role-axis\" role=\"graphics-symbol\" aria-roledescription=\"axis\" aria-label=\"Y-axis titled 'CO2' for a linear scale with values from −1 to 8\"><g transform=\"translate(0.5,0.5)\"><path class=\"background\" aria-hidden=\"true\" d=\"M0,0h0v0h0Z\" pointer-events=\"none\"/><g><g class=\"mark-rule role-axis-tick\" pointer-events=\"none\"><line transform=\"translate(0,178)\" x2=\"-5\" y2=\"0\" stroke=\"#888\" stroke-width=\"1\" opacity=\"1\"/><line transform=\"translate(0,133)\" x2=\"-5\" y2=\"0\" stroke=\"#888\" stroke-width=\"1\" opacity=\"1\"/><line transform=\"translate(0,89)\" x2=\"-5\" y2=\"0\" stroke=\"#888\" stroke-width=\"1\" opacity=\"1\"/><line transform=\"translate(0,44)\" x2=\"-5\" y2=\"0\" stroke=\"#888\" stroke-width=\"1\" opacity=\"1\"/><line transform=\"translate(0,0)\" x2=\"-5\" y2=\"0\" stroke=\"#888\" stroke-width=\"1\" opacity=\"1\"/></g><g class=\"mark-text role-axis-label\" pointer-events=\"none\"><text text-anchor=\"end\" transform=\"translate(-7,180.77777777777777)\" font-family=\"sans-serif\" font-size=\"10px\" fill=\"#000\" opacity=\"1\">0</text><text text-anchor=\"end\" transform=\"translate(-7,136.33333333333334)\" font-family=\"sans-serif\" font-size=\"10px\" fill=\"#000\" opacity=\"1\">2</text><text text-anchor=\"end\" transform=\"translate(-7,91.88888888888889)\" font-family=\"sans-serif\" font-size=\"10px\" fill=\"#000\" opacity=\"1\">4</text><text text-anchor=\"end\" transform=\"translate(-7,47.44444444444444)\" font-family=\"sans-serif\" font-size=\"10px\" fill=\"#000\" opacity=\"1\">6</text><text text-anchor=\"end\" transform=\"translate(-7,3)\" font-family=\"sans-serif\" font-size=\"10px\" fill=\"#000\" opacity=\"1\">8</text></g><g class=\"mark-rule role-axis-domain\" pointer-events=\"none\"><line transform=\"translate(0,200)\" x2=\"0\" y2=\"-200\" stroke=\"#888\" stroke-width=\"1\" opacity=\"1\"/></g><g class=\"mark-text role-axis-title\" pointer-events=\"none\"><text text-anchor=\"middle\" transform=\"translate(-17,100) rotate(-90) translate(0,-2)\" font-family=\"sans-serif\" font-size=\"11px\" font-weight=\"bold\" fill=\"#000\" opacity=\"1\">CO2</text></g></g><path class=\"foreground\" aria-hidden=\"true\" d=\"\" pointer-events=\"none\" display=\"none\"/></g></g><g class=\"mark-group role-scope pathgroup\" role=\"graphics-object\" aria-roledescription=\"group mark container\"><g transform=\"translate(0,0)\"><path class=\"background\" aria-hidden=\"true\" d=\"M0,0h720v200h-720Z\"/><g><g class=\"mark-area role-mark marks\" role=\"graphics-object\" aria-roledescription=\"area mark container\"><path aria-label=\"year: 2020; CO2: 8; variable: Conv\" role=\"graphics-symbol\" aria-roledescription=\"area mark\" d=\"M10,0L30,177.777777777778L50,177.777777777778L70,177.777777777778L90,177.777777777778L110,117.2164667366951L130,117.2164667366951L150,117.2164667366951L170,117.2164667366951L190,117.2164667366951L210,134.97493498988356L230,134.97493498988356L250,134.97493498988356L270,134.97493498988356L290,134.97493498988356L310,144.01817936433582L330,144.01817936433582L350,144.01817936433582L370,144.01817936433582L390,144.01817936433582L410,156.50488275676304L430,156.50488275676304L450,156.50488275676304L470,156.50488275676304L490,156.50488275676304L510,169.08838526144916L530,169.08838526144916L550,169.08838526144916L570,169.08838526144916L590,169.08838526144916L610,169.08838526144916L630,169.08838526144916L650,169.08838526144916L670,169.08838526144916L690,169.08838526144916L710,169.08838526144916L710,169.08838526144916L690,169.08838526144916L670,169.08838526144916L650,169.08838526144916L630,169.08838526144916L610,169.08838526144916L590,169.08838526144916L570,169.08838526144916L550,169.08838526144916L530,169.08838526144916L510,169.08838526144916L490,156.50488275676304L470,156.50488275676304L450,156.50488275676304L430,156.50488275676304L410,156.50488275676304L390,144.01817936433582L370,144.01817936433582L350,144.01817936433582L330,144.01817936433582L310,144.01817936433582L290,134.97493498988356L270,134.97493498988356L250,134.97493498988356L230,134.97493498988356L210,134.97493498988356L190,117.2164667366951L170,117.2164667366951L150,117.2164667366951L130,117.2164667366951L110,117.2164667366951L90,177.77777777777777L70,177.77777777777777L50,177.77777777777777L30,177.77777777777777L10,177.77777777777777Z\" fill=\"#4c78a8\"/></g></g><path class=\"foreground\" aria-hidden=\"true\" d=\"\" display=\"none\"/></g><g transform=\"translate(0,0)\"><path class=\"background\" aria-hidden=\"true\" d=\"M0,0h720v200h-720Z\"/><g><g class=\"mark-area role-mark marks\" role=\"graphics-object\" aria-roledescription=\"area mark container\"><path aria-label=\"year: 2020; CO2: 0; variable: x143\" role=\"graphics-symbol\" aria-roledescription=\"area mark\" d=\"M10,177.77777777777777L30,115.3181853946995L50,115.3181853946995L70,115.3181853946995L90,115.3181853946995L110,117.2164667366951L130,117.2164667366951L150,117.2164667366951L170,117.2164667366951L190,117.2164667366951L210,134.97493498988356L230,134.97493498988356L250,134.97493498988356L270,134.97493498988356L290,134.97493498988356L310,144.01817936433582L330,144.01817936433582L350,144.01817936433582L370,144.01817936433582L390,144.01817936433582L410,156.50488275676304L430,156.50488275676304L450,156.50488275676304L470,156.50488275676304L490,156.50488275676304L510,169.08838526144916L530,169.08838526144916L550,169.08838526144916L570,169.08838526144916L590,169.08838526144916L610,169.08838526144916L630,169.08838526144916L650,169.08838526144916L670,169.08838526144916L690,169.08838526144916L710,169.08838526144916L710,169.08838526144916L690,169.08838526144916L670,169.08838526144916L650,169.08838526144916L630,169.08838526144916L610,169.08838526144916L590,169.08838526144916L570,169.08838526144916L550,169.08838526144916L530,169.08838526144916L510,169.08838526144916L490,156.50488275676304L470,156.50488275676304L450,156.50488275676304L430,156.50488275676304L410,156.50488275676304L390,144.01817936433582L370,144.01817936433582L350,144.01817936433582L330,144.01817936433582L310,144.01817936433582L290,155.99453140928566L270,155.99453140928566L250,155.99453140928566L230,155.99453140928566L210,155.99453140928566L190,117.2164667366951L170,117.2164667366951L150,117.2164667366951L130,117.2164667366951L110,117.2164667366951L90,115.3181853946995L70,115.3181853946995L50,115.3181853946995L30,115.3181853946995L10,177.77777777777777Z\" fill=\"#f58518\"/></g></g><path class=\"foreground\" aria-hidden=\"true\" d=\"\" display=\"none\"/></g><g transform=\"translate(0,0)\"><path class=\"background\" aria-hidden=\"true\" d=\"M0,0h720v200h-720Z\"/><g><g class=\"mark-area role-mark marks\" role=\"graphics-object\" aria-roledescription=\"area mark container\"><path aria-label=\"year: 2020; CO2: 0; variable: x144\" role=\"graphics-symbol\" aria-roledescription=\"area mark\" d=\"M10,177.77777777777777L30,115.3181853946995L50,115.3181853946995L70,115.3181853946995L90,115.3181853946995L110,117.2164667366951L130,117.2164667366951L150,117.2164667366951L170,117.2164667366951L190,117.2164667366951L210,155.99453140928566L230,155.99453140928566L250,155.99453140928566L270,155.99453140928566L290,155.99453140928566L310,144.01817936433582L330,144.01817936433582L350,144.01817936433582L370,144.01817936433582L390,144.01817936433582L410,156.50488275676304L430,156.50488275676304L450,156.50488275676304L470,156.50488275676304L490,156.50488275676304L510,169.08838526144916L530,169.08838526144916L550,169.08838526144916L570,169.08838526144916L590,169.08838526144916L610,169.08838526144916L630,169.08838526144916L650,169.08838526144916L670,169.08838526144916L690,169.08838526144916L710,169.08838526144916L710,169.08838526144916L690,169.08838526144916L670,169.08838526144916L650,169.08838526144916L630,169.08838526144916L610,169.08838526144916L590,169.08838526144916L570,169.08838526144916L550,169.08838526144916L530,169.08838526144916L510,169.08838526144916L490,156.50488275676304L470,156.50488275676304L450,156.50488275676304L430,156.50488275676304L410,156.50488275676304L390,144.01817936433582L370,144.01817936433582L350,144.01817936433582L330,144.01817936433582L310,144.01817936433582L290,155.99453140928566L270,155.99453140928566L250,155.99453140928566L230,155.99453140928566L210,155.99453140928566L190,117.2164667366951L170,117.2164667366951L150,117.2164667366951L130,117.2164667366951L110,117.2164667366951L90,177.77777777777777L70,177.77777777777777L50,177.77777777777777L30,177.77777777777777L10,177.77777777777777Z\" fill=\"#e45756\"/></g></g><path class=\"foreground\" aria-hidden=\"true\" d=\"\" display=\"none\"/></g><g transform=\"translate(0,0)\"><path class=\"background\" aria-hidden=\"true\" d=\"M0,0h720v200h-720Z\"/><g><g class=\"mark-area role-mark marks\" role=\"graphics-object\" aria-roledescription=\"area mark container\"><path aria-label=\"year: 2020; CO2: 0; variable: x156\" role=\"graphics-symbol\" aria-roledescription=\"area mark\" d=\"M10,177.77777777777777L30,177.77777777777777L50,177.77777777777777L70,177.77777777777777L90,177.77777777777777L110,117.2164667366951L130,117.2164667366951L150,117.2164667366951L170,117.2164667366951L190,117.2164667366951L210,155.99453140928566L230,155.99453140928566L250,155.99453140928566L270,155.99453140928566L290,155.99453140928566L310,144.01817936433582L330,144.01817936433582L350,144.01817936433582L370,144.01817936433582L390,144.01817936433582L410,156.50488275676304L430,156.50488275676304L450,156.50488275676304L470,156.50488275676304L490,156.50488275676304L510,169.08838526144916L530,169.08838526144916L550,169.08838526144916L570,169.08838526144916L590,169.08838526144916L610,169.08838526144916L630,169.08838526144916L650,169.08838526144916L670,169.08838526144916L690,169.08838526144916L710,169.08838526144916L710,169.41388855609887L690,169.41388855609887L670,169.41388855609887L650,169.41388855609887L630,169.41388855609887L610,169.41388855609887L590,169.41388855609887L570,169.41388855609887L550,169.41388855609887L530,169.41388855609887L510,169.41388855609887L490,156.50488275676304L470,156.50488275676304L450,156.50488275676304L430,156.50488275676304L410,156.50488275676304L390,157.44484029679683L370,157.44484029679683L350,157.44484029679683L330,157.44484029679683L310,157.44484029679683L290,155.99453140928566L270,155.99453140928566L250,155.99453140928566L230,155.99453140928566L210,155.99453140928566L190,117.2164667366951L170,117.2164667366951L150,117.2164667366951L130,117.2164667366951L110,117.2164667366951L90,177.77777777777777L70,177.77777777777777L50,177.77777777777777L30,177.77777777777777L10,177.77777777777777Z\" fill=\"#72b7b2\"/></g></g><path class=\"foreground\" aria-hidden=\"true\" d=\"\" display=\"none\"/></g><g transform=\"translate(0,0)\"><path class=\"background\" aria-hidden=\"true\" d=\"M0,0h720v200h-720Z\"/><g><g class=\"mark-area role-mark marks\" role=\"graphics-object\" aria-roledescription=\"area mark container\"><path aria-label=\"year: 2020; CO2: 0; variable: x161\" role=\"graphics-symbol\" aria-roledescription=\"area mark\" d=\"M10,177.77777777777777L30,177.77777777777777L50,177.77777777777777L70,177.77777777777777L90,177.77777777777777L110,117.2164667366951L130,117.2164667366951L150,117.2164667366951L170,117.2164667366951L190,117.2164667366951L210,155.99453140928566L230,155.99453140928566L250,155.99453140928566L270,155.99453140928566L290,155.99453140928566L310,157.44484029679683L330,157.44484029679683L350,157.44484029679683L370,157.44484029679683L390,157.44484029679683L410,156.50488275676304L430,156.50488275676304L450,156.50488275676304L470,156.50488275676304L490,156.50488275676304L510,169.41388855609887L530,169.41388855609887L550,169.41388855609887L570,169.41388855609887L590,169.41388855609887L610,169.41388855609887L630,169.41388855609887L650,169.41388855609887L670,169.41388855609887L690,169.41388855609887L710,169.41388855609887L710,169.41388855609887L690,169.41388855609887L670,169.41388855609887L650,169.41388855609887L630,169.41388855609887L610,169.41388855609887L590,169.41388855609887L570,169.41388855609887L550,169.41388855609887L530,169.41388855609887L510,169.41388855609887L490,164.82343321094365L470,164.82343321094365L450,164.82343321094365L430,164.82343321094365L410,164.82343321094365L390,157.44484029679683L370,157.44484029679683L350,157.44484029679683L330,157.44484029679683L310,157.44484029679683L290,155.99453140928566L270,155.99453140928566L250,155.99453140928566L230,155.99453140928566L210,155.99453140928566L190,117.2164667366951L170,117.2164667366951L150,117.2164667366951L130,117.2164667366951L110,117.2164667366951L90,177.77777777777777L70,177.77777777777777L50,177.77777777777777L30,177.77777777777777L10,177.77777777777777Z\" fill=\"#54a24b\"/></g></g><path class=\"foreground\" aria-hidden=\"true\" d=\"\" display=\"none\"/></g><g transform=\"translate(0,0)\"><path class=\"background\" aria-hidden=\"true\" d=\"M0,0h720v200h-720Z\"/><g><g class=\"mark-area role-mark marks\" role=\"graphics-object\" aria-roledescription=\"area mark container\"><path aria-label=\"year: 2020; CO2: 0; variable: x196\" role=\"graphics-symbol\" aria-roledescription=\"area mark\" d=\"M10,177.77777777777777L30,177.77777777777777L50,177.77777777777777L70,177.77777777777777L90,177.77777777777777L110,117.2164667366951L130,117.2164667366951L150,117.2164667366951L170,117.2164667366951L190,117.2164667366951L210,155.99453140928566L230,155.99453140928566L250,155.99453140928566L270,155.99453140928566L290,155.99453140928566L310,157.44484029679683L330,157.44484029679683L350,157.44484029679683L370,157.44484029679683L390,157.44484029679683L410,164.82343321094365L430,164.82343321094365L450,164.82343321094365L470,164.82343321094365L490,164.82343321094365L510,169.41388855609887L530,169.41388855609887L550,169.41388855609887L570,169.41388855609887L590,169.41388855609887L610,169.41388855609887L630,169.41388855609887L650,169.41388855609887L670,169.41388855609887L690,169.41388855609887L710,169.41388855609887L710,169.41388855609887L690,169.41388855609887L670,169.41388855609887L650,169.41388855609887L630,169.41388855609887L610,169.41388855609887L590,169.41388855609887L570,169.41388855609887L550,169.41388855609887L530,169.41388855609887L510,169.41388855609887L490,164.82343321094365L470,164.82343321094365L450,164.82343321094365L430,164.82343321094365L410,164.82343321094365L390,157.44484029679683L370,157.44484029679683L350,157.44484029679683L330,157.44484029679683L310,157.44484029679683L290,155.99453140928566L270,155.99453140928566L250,155.99453140928566L230,155.99453140928566L210,155.99453140928566L190,177.77777777777777L170,177.77777777777777L150,177.77777777777777L130,177.77777777777777L110,177.77777777777777L90,177.77777777777777L70,177.77777777777777L50,177.77777777777777L30,177.77777777777777L10,177.77777777777777Z\" fill=\"#eeca3b\"/></g></g><path class=\"foreground\" aria-hidden=\"true\" d=\"\" display=\"none\"/></g><g transform=\"translate(0,0)\"><path class=\"background\" aria-hidden=\"true\" d=\"M0,0h720v200h-720Z\"/><g><g class=\"mark-area role-mark marks\" role=\"graphics-object\" aria-roledescription=\"area mark container\"><path aria-label=\"year: 2020; CO2: 0; variable: x199\" role=\"graphics-symbol\" aria-roledescription=\"area mark\" d=\"M10,177.77777777777777L30,177.77777777777777L50,177.77777777777777L70,177.77777777777777L90,177.77777777777777L110,177.77777777777777L130,177.77777777777777L150,177.77777777777777L170,177.77777777777777L190,177.77777777777777L210,155.99453140928566L230,155.99453140928566L250,155.99453140928566L270,155.99453140928566L290,155.99453140928566L310,157.44484029679683L330,157.44484029679683L350,157.44484029679683L370,157.44484029679683L390,157.44484029679683L410,164.82343321094365L430,164.82343321094365L450,164.82343321094365L470,164.82343321094365L490,164.82343321094365L510,169.41388855609887L530,169.41388855609887L550,169.41388855609887L570,169.41388855609887L590,169.41388855609887L610,169.41388855609887L630,169.41388855609887L650,169.41388855609887L670,169.41388855609887L690,169.41388855609887L710,169.41388855609887L710,169.41388855609887L690,169.41388855609887L670,169.41388855609887L650,169.41388855609887L630,169.41388855609887L610,169.41388855609887L590,169.41388855609887L570,169.41388855609887L550,169.41388855609887L530,169.41388855609887L510,169.41388855609887L490,177.77777777777777L470,177.77777777777777L450,177.77777777777777L430,177.77777777777777L410,177.77777777777777L390,157.44484029679683L370,157.44484029679683L350,157.44484029679683L330,157.44484029679683L310,157.44484029679683L290,177.77777777777777L270,177.77777777777777L250,177.77777777777777L230,177.77777777777777L210,177.77777777777777L190,177.77777777777777L170,177.77777777777777L150,177.77777777777777L130,177.77777777777777L110,177.77777777777777L90,177.77777777777777L70,177.77777777777777L50,177.77777777777777L30,177.77777777777777L10,177.77777777777777Z\" fill=\"#b279a2\"/></g></g><path class=\"foreground\" aria-hidden=\"true\" d=\"\" display=\"none\"/></g><g transform=\"translate(0,0)\"><path class=\"background\" aria-hidden=\"true\" d=\"M0,0h720v200h-720Z\"/><g><g class=\"mark-area role-mark marks\" role=\"graphics-object\" aria-roledescription=\"area mark container\"><path aria-label=\"year: 2020; CO2: 0; variable: x200\" role=\"graphics-symbol\" aria-roledescription=\"area mark\" d=\"M10,177.77777777777777L30,177.77777777777777L50,177.77777777777777L70,177.77777777777777L90,177.77777777777777L110,177.77777777777777L130,177.77777777777777L150,177.77777777777777L170,177.77777777777777L190,177.77777777777777L210,177.77777777777777L230,177.77777777777777L250,177.77777777777777L270,177.77777777777777L290,177.77777777777777L310,157.44484029679683L330,157.44484029679683L350,157.44484029679683L370,157.44484029679683L390,157.44484029679683L410,177.77777777777777L430,177.77777777777777L450,177.77777777777777L470,177.77777777777777L490,177.77777777777777L510,169.41388855609887L530,169.41388855609887L550,169.41388855609887L570,169.41388855609887L590,169.41388855609887L610,169.41388855609887L630,169.41388855609887L650,169.41388855609887L670,169.41388855609887L690,169.41388855609887L710,169.41388855609887L710,177.77777777777777L690,177.77777777777777L670,177.77777777777777L650,177.77777777777777L630,177.77777777777777L610,177.77777777777777L590,177.77777777777777L570,177.77777777777777L550,177.77777777777777L530,177.77777777777777L510,177.77777777777777L490,177.77777777777777L470,177.77777777777777L450,177.77777777777777L430,177.77777777777777L410,177.77777777777777L390,177.77777777777777L370,177.77777777777777L350,177.77777777777777L330,177.77777777777777L310,177.77777777777777L290,177.77777777777777L270,177.77777777777777L250,177.77777777777777L230,177.77777777777777L210,177.77777777777777L190,177.77777777777777L170,177.77777777777777L150,177.77777777777777L130,177.77777777777777L110,177.77777777777777L90,177.77777777777777L70,177.77777777777777L50,177.77777777777777L30,177.77777777777777L10,177.77777777777777Z\" fill=\"#ff9da6\"/></g></g><path class=\"foreground\" aria-hidden=\"true\" d=\"\" display=\"none\"/></g></g><g class=\"mark-group role-legend\" role=\"graphics-symbol\" aria-roledescription=\"legend\" aria-label=\"Symbol legend titled 'variable' for fill color with 8 values: Conv, x143, x144, x156, x161, ending with x200\"><g transform=\"translate(738,0)\"><path class=\"background\" aria-hidden=\"true\" d=\"M0,0h49v118h-49Z\" pointer-events=\"none\"/><g><g class=\"mark-group role-legend-entry\"><g transform=\"translate(0,16)\"><path class=\"background\" aria-hidden=\"true\" d=\"M0,0h0v0h0Z\" pointer-events=\"none\"/><g><g class=\"mark-group role-scope\" role=\"graphics-object\" aria-roledescription=\"group mark container\"><g transform=\"translate(0,0)\"><path class=\"background\" aria-hidden=\"true\" d=\"M0,0h41v11h-41Z\" pointer-events=\"none\" opacity=\"1\"/><g><g class=\"mark-symbol role-legend-symbol\" pointer-events=\"none\"><path transform=\"translate(6,6)\" d=\"M5,0A5,5,0,1,1,-5,0A5,5,0,1,1,5,0\" fill=\"#4c78a8\" stroke-width=\"1.5\" opacity=\"1\"/></g><g class=\"mark-text role-legend-label\" pointer-events=\"none\"><text text-anchor=\"start\" transform=\"translate(16,9)\" font-family=\"sans-serif\" font-size=\"10px\" fill=\"#000\" opacity=\"1\">Conv</text></g></g><path class=\"foreground\" aria-hidden=\"true\" d=\"\" pointer-events=\"none\" display=\"none\"/></g><g transform=\"translate(0,13)\"><path class=\"background\" aria-hidden=\"true\" d=\"M0,0h41v11h-41Z\" pointer-events=\"none\" opacity=\"1\"/><g><g class=\"mark-symbol role-legend-symbol\" pointer-events=\"none\"><path transform=\"translate(6,6)\" d=\"M5,0A5,5,0,1,1,-5,0A5,5,0,1,1,5,0\" fill=\"#f58518\" stroke-width=\"1.5\" opacity=\"1\"/></g><g class=\"mark-text role-legend-label\" pointer-events=\"none\"><text text-anchor=\"start\" transform=\"translate(16,9)\" font-family=\"sans-serif\" font-size=\"10px\" fill=\"#000\" opacity=\"1\">x143</text></g></g><path class=\"foreground\" aria-hidden=\"true\" d=\"\" pointer-events=\"none\" display=\"none\"/></g><g transform=\"translate(0,26)\"><path class=\"background\" aria-hidden=\"true\" d=\"M0,0h41v11h-41Z\" pointer-events=\"none\" opacity=\"1\"/><g><g class=\"mark-symbol role-legend-symbol\" pointer-events=\"none\"><path transform=\"translate(6,6)\" d=\"M5,0A5,5,0,1,1,-5,0A5,5,0,1,1,5,0\" fill=\"#e45756\" stroke-width=\"1.5\" opacity=\"1\"/></g><g class=\"mark-text role-legend-label\" pointer-events=\"none\"><text text-anchor=\"start\" transform=\"translate(16,9)\" font-family=\"sans-serif\" font-size=\"10px\" fill=\"#000\" opacity=\"1\">x144</text></g></g><path class=\"foreground\" aria-hidden=\"true\" d=\"\" pointer-events=\"none\" display=\"none\"/></g><g transform=\"translate(0,39)\"><path class=\"background\" aria-hidden=\"true\" d=\"M0,0h41v11h-41Z\" pointer-events=\"none\" opacity=\"1\"/><g><g class=\"mark-symbol role-legend-symbol\" pointer-events=\"none\"><path transform=\"translate(6,6)\" d=\"M5,0A5,5,0,1,1,-5,0A5,5,0,1,1,5,0\" fill=\"#72b7b2\" stroke-width=\"1.5\" opacity=\"1\"/></g><g class=\"mark-text role-legend-label\" pointer-events=\"none\"><text text-anchor=\"start\" transform=\"translate(16,9)\" font-family=\"sans-serif\" font-size=\"10px\" fill=\"#000\" opacity=\"1\">x156</text></g></g><path class=\"foreground\" aria-hidden=\"true\" d=\"\" pointer-events=\"none\" display=\"none\"/></g><g transform=\"translate(0,52)\"><path class=\"background\" aria-hidden=\"true\" d=\"M0,0h41v11h-41Z\" pointer-events=\"none\" opacity=\"1\"/><g><g class=\"mark-symbol role-legend-symbol\" pointer-events=\"none\"><path transform=\"translate(6,6)\" d=\"M5,0A5,5,0,1,1,-5,0A5,5,0,1,1,5,0\" fill=\"#54a24b\" stroke-width=\"1.5\" opacity=\"1\"/></g><g class=\"mark-text role-legend-label\" pointer-events=\"none\"><text text-anchor=\"start\" transform=\"translate(16,9)\" font-family=\"sans-serif\" font-size=\"10px\" fill=\"#000\" opacity=\"1\">x161</text></g></g><path class=\"foreground\" aria-hidden=\"true\" d=\"\" pointer-events=\"none\" display=\"none\"/></g><g transform=\"translate(0,65)\"><path class=\"background\" aria-hidden=\"true\" d=\"M0,0h41v11h-41Z\" pointer-events=\"none\" opacity=\"1\"/><g><g class=\"mark-symbol role-legend-symbol\" pointer-events=\"none\"><path transform=\"translate(6,6)\" d=\"M5,0A5,5,0,1,1,-5,0A5,5,0,1,1,5,0\" fill=\"#eeca3b\" stroke-width=\"1.5\" opacity=\"1\"/></g><g class=\"mark-text role-legend-label\" pointer-events=\"none\"><text text-anchor=\"start\" transform=\"translate(16,9)\" font-family=\"sans-serif\" font-size=\"10px\" fill=\"#000\" opacity=\"1\">x196</text></g></g><path class=\"foreground\" aria-hidden=\"true\" d=\"\" pointer-events=\"none\" display=\"none\"/></g><g transform=\"translate(0,78)\"><path class=\"background\" aria-hidden=\"true\" d=\"M0,0h41v11h-41Z\" pointer-events=\"none\" opacity=\"1\"/><g><g class=\"mark-symbol role-legend-symbol\" pointer-events=\"none\"><path transform=\"translate(6,6)\" d=\"M5,0A5,5,0,1,1,-5,0A5,5,0,1,1,5,0\" fill=\"#b279a2\" stroke-width=\"1.5\" opacity=\"1\"/></g><g class=\"mark-text role-legend-label\" pointer-events=\"none\"><text text-anchor=\"start\" transform=\"translate(16,9)\" font-family=\"sans-serif\" font-size=\"10px\" fill=\"#000\" opacity=\"1\">x199</text></g></g><path class=\"foreground\" aria-hidden=\"true\" d=\"\" pointer-events=\"none\" display=\"none\"/></g><g transform=\"translate(0,91)\"><path class=\"background\" aria-hidden=\"true\" d=\"M0,0h41v11h-41Z\" pointer-events=\"none\" opacity=\"1\"/><g><g class=\"mark-symbol role-legend-symbol\" pointer-events=\"none\"><path transform=\"translate(6,6)\" d=\"M5,0A5,5,0,1,1,-5,0A5,5,0,1,1,5,0\" fill=\"#ff9da6\" stroke-width=\"1.5\" opacity=\"1\"/></g><g class=\"mark-text role-legend-label\" pointer-events=\"none\"><text text-anchor=\"start\" transform=\"translate(16,9)\" font-family=\"sans-serif\" font-size=\"10px\" fill=\"#000\" opacity=\"1\">x200</text></g></g><path class=\"foreground\" aria-hidden=\"true\" d=\"\" pointer-events=\"none\" display=\"none\"/></g></g></g><path class=\"foreground\" aria-hidden=\"true\" d=\"\" pointer-events=\"none\" display=\"none\"/></g></g><g class=\"mark-text role-legend-title\" pointer-events=\"none\"><text text-anchor=\"start\" transform=\"translate(0,9)\" font-family=\"sans-serif\" font-size=\"11px\" font-weight=\"bold\" fill=\"#000\" opacity=\"1\">variable</text></g></g><path class=\"foreground\" aria-hidden=\"true\" d=\"\" pointer-events=\"none\" display=\"none\"/></g></g></g><path class=\"foreground\" aria-hidden=\"true\" d=\"\" display=\"none\"/></g></g></g></svg>\n"
      ],
      "text/plain": [
       "@vlplot(\n",
       "    legend=\"sNames\",\n",
       "    mark=\"area\",\n",
       "    encoding={\n",
       "        x={\n",
       "            field=\"year\"\n",
       "        },\n",
       "        y={\n",
       "            stack=\"zero\",\n",
       "            title=\"CO2\",\n",
       "            field=\"value\"\n",
       "        },\n",
       "        color={\n",
       "            field=\"variable\",\n",
       "            type=\"nominal\"\n",
       "        }\n",
       "    },\n",
       "    data={\n",
       "        values=...\n",
       "    }\n",
       ")"
      ]
     },
     "execution_count": 77,
     "metadata": {},
     "output_type": "execute_result"
    }
   ],
   "source": [
    "#only for this result\n",
    "\n",
    "function conventional0(i1,t)\n",
    "    if t==0\n",
    "        if mod(i1,5)≥mod(sum(round(JuMP.values.(tk)[k1,t+1];digits=2) for k1=1:nrow(compromise)),5)\n",
    "            return initial[1,3]*(1-sum(JuMP.values.(xk)[k,t+1] for k in 1:nrow(compromise)))\n",
    "        else\n",
    "            return 0\n",
    "        end\n",
    "    else\n",
    "        return initial[1,3]*(1-sum(JuMP.values.(xk)[k,t] for k in 1:nrow(compromise)))\n",
    "    end\n",
    "end\n",
    "\n",
    "function conventional(i1,t)\n",
    "    if t==0\n",
    "        if mod(i1,5)≥mod(sum(round.(JuMP.values.(tk)[1:nrow(compromise),t+1];digits=2)),5) && sum(JuMP.values.(xk)[1:nrow(compromise),t+1]) > 0\n",
    "            return initial[1,3]*(1-sum(JuMP.values.(xk)[k,t+1] for k in 1:nrow(compromise)))\n",
    "        else\n",
    "            return 0\n",
    "        end\n",
    "    else\n",
    "        sum_xks_atT=0\n",
    "        for k1 in 1:nrow(compromise)\n",
    "            if mod(i1,5)≥mod(round(JuMP.values.(tk)[k1,t+1];digits=2),5) && sum(JuMP.values.(xk)[k1,t:t+1])>0 && t>0\n",
    "                sum_xks_atT+=JuMP.values.(xk)[k1,t+1]\n",
    "            else\n",
    "                sum_xks_atT+=JuMP.values.(xk)[k1,t]\n",
    "            end\n",
    "        end\n",
    "            \n",
    "        #if mod(i1,5)≥mod(round(sum(JuMP.values.(tk)[1:nrow(compromise),t+1]);digits=2),5) && sum(JuMP.values.(xk)[1:nrow(compromise),t:t+1])>0 && t>0\n",
    "        #    t=t+1\n",
    "        #end\n",
    "        #return (1-sum(JuMP.values.(xk)[k,t] for k in 1:nrow(compromise)))\n",
    "        return initial[1,3]*(1-sum_xks_atT)\n",
    "    end\n",
    "end\n",
    "\n",
    "\n",
    "function innovation(i1,k1,t)\n",
    "    if t==0 \n",
    "        if mod(i1,5)≥mod(round(JuMP.values.(tk)[k1,t+1];digits=2),5) && JuMP.values.(xk)[k1,t+1] > 0\n",
    "            t=1\n",
    "            return (sum(JuMP.values.(xk)[k,t]*(co2fac[k,t]) for k=k1:k1))            \n",
    "        else\n",
    "            return 0\n",
    "        end\n",
    "    end\n",
    "    if mod(i1,5)≥mod(round(JuMP.values.(tk)[k1,t+1];digits=2),5) && sum(JuMP.values.(xk)[k1,t:t+1])>0 && t>0\n",
    "        t=t+1\n",
    "    end\n",
    "    return sum(JuMP.values.(xk)[k,t]*(co2fac[k,t]) for k=k1:k1)\n",
    "end\n",
    "\n",
    "conv=zeros(51)\n",
    "\n",
    "conv[1]=initial[1,3]\n",
    "inn_co2=zeros(nrow(compromise),51)\n",
    "\n",
    "for k in 1:nrow(compromise)\n",
    "    inn_co2[k,1]=0\n",
    "end\n",
    "j=0\n",
    "for t in 2:51\n",
    "    if 0 ≤ t ≤ 5\n",
    "        j=0\n",
    "    elseif 6 ≤ t ≤ 10\n",
    "        j=1\n",
    "    elseif 6 ≤ t ≤ 10\n",
    "        j=2\n",
    "    elseif 11 ≤ t ≤ 15\n",
    "        j=3\n",
    "    elseif 16 ≤ t ≤ 20\n",
    "        j=4\n",
    "    elseif 21 ≤ t ≤ 25\n",
    "        j=5\n",
    "    else\n",
    "        j=6\n",
    "    end\n",
    "    \n",
    "    \n",
    "    \n",
    "    conv[t]=conventional(t,j)\n",
    "    for k in 1:nrow(compromise)\n",
    "        \n",
    "        inn_co2[k,t]=innovation(t,k,j)\n",
    "    end\n",
    "end\n",
    "#conv[1:5].=initial[1,3]\n",
    "\n",
    "sNames = [\"conv\",\"inn1\",\"inn2\",\"inn3\",\"inn4\",\"inn5\",\"inn6\",\"inn7\",\"inn8\",\"inn9\",\"inn10\"]\n",
    "xLabels = []\n",
    "for i in 2020:2070\n",
    "    push!(xLabels,string(i))\n",
    "end\n",
    "\n",
    "#df = DataFrame(year=xLabels, conv=conv, inn1=inn_co2[1,:],inn2=inn_co2[2,:],inn3=inn_co2[3,:],inn4=inn_co2[4,:],\n",
    "#        inn5=inn_co2[5,:],inn6=inn_co2[6,:],inn7=inn_co2[7,:],inn8=inn_co2[8,:],inn9=inn_co2[9,:],inn10=inn_co2[10,:])\n",
    "df = DataFrame(vcat(conv',inn_co2)',:auto)\n",
    "\n",
    "\n",
    "df=df[1:36,:]\n",
    "\n",
    "df=df[!, any.(>(0), eachcol(df))]\n",
    "df[!,:year]=xLabels[1:36]\n",
    "#rename!(df,[:x1,:x93,:x218,:x222] .=> [:Conv,:pyLDPE1,:alcPLA2,:alcPLA6])\n",
    "#df[!,:pyLDPE11]=zeros(36)\n",
    "rename!(df,[:x1] .=> [:Conv])\n",
    "#df[!,:x104]=zeros(36)\n",
    "#df[!,:x201]=zeros(36)\n",
    "#df[!,:x196]=zeros(36)\n",
    "#df[!,:x126]=zeros(36)\n",
    "#rename!(df,[:x94,:x95,:x104,:x109,:x196,:x198,:x199,:x200,:x201] .=> [:LABS12,:LABS13,:LABS22,:LABS27,:RecyclPLA2,:RecyclPLA4,:RecyclPLA5,:RecyclPLA6,:RecyclPLA7])\n",
    "\n",
    "co2_inn=df |> stack |> @vlplot(:area, x=:year, y={:value, stack=:zero, title=\"CO2\"}, color=\"variable:n\",legend=:sNames) \n",
    "\n",
    "#save(\"./result-case-roadmap/co2-roadmap-sc2.svg\", co2_inn)\n",
    "co2_inn\n",
    "\n"
   ]
  },
  {
   "cell_type": "code",
   "execution_count": 78,
   "id": "16630f74",
   "metadata": {},
   "outputs": [
    {
     "data": {
      "application/vnd.vegalite.v4+json": {
       "data": {
        "values": [
         {
          "value": 100,
          "variable": "Conv",
          "year": "2020"
         },
         {
          "value": -1.3322676295501878e-13,
          "variable": "Conv",
          "year": "2021"
         },
         {
          "value": -1.3322676295501878e-13,
          "variable": "Conv",
          "year": "2022"
         },
         {
          "value": -1.3322676295501878e-13,
          "variable": "Conv",
          "year": "2023"
         },
         {
          "value": -1.3322676295501878e-13,
          "variable": "Conv",
          "year": "2024"
         },
         {
          "value": 0,
          "variable": "Conv",
          "year": "2025"
         },
         {
          "value": 0,
          "variable": "Conv",
          "year": "2026"
         },
         {
          "value": 0,
          "variable": "Conv",
          "year": "2027"
         },
         {
          "value": 0,
          "variable": "Conv",
          "year": "2028"
         },
         {
          "value": 0,
          "variable": "Conv",
          "year": "2029"
         },
         {
          "value": 0,
          "variable": "Conv",
          "year": "2030"
         },
         {
          "value": 0,
          "variable": "Conv",
          "year": "2031"
         },
         {
          "value": 0,
          "variable": "Conv",
          "year": "2032"
         },
         {
          "value": 0,
          "variable": "Conv",
          "year": "2033"
         },
         {
          "value": 0,
          "variable": "Conv",
          "year": "2034"
         },
         {
          "value": 0,
          "variable": "Conv",
          "year": "2035"
         },
         {
          "value": 0,
          "variable": "Conv",
          "year": "2036"
         },
         {
          "value": 0,
          "variable": "Conv",
          "year": "2037"
         },
         {
          "value": 0,
          "variable": "Conv",
          "year": "2038"
         },
         {
          "value": 0,
          "variable": "Conv",
          "year": "2039"
         },
         {
          "value": 0,
          "variable": "Conv",
          "year": "2040"
         },
         {
          "value": 0,
          "variable": "Conv",
          "year": "2041"
         },
         {
          "value": 0,
          "variable": "Conv",
          "year": "2042"
         },
         {
          "value": 0,
          "variable": "Conv",
          "year": "2043"
         },
         {
          "value": 0,
          "variable": "Conv",
          "year": "2044"
         },
         {
          "value": 0,
          "variable": "Conv",
          "year": "2045"
         },
         {
          "value": 0,
          "variable": "Conv",
          "year": "2046"
         },
         {
          "value": 0,
          "variable": "Conv",
          "year": "2047"
         },
         {
          "value": 0,
          "variable": "Conv",
          "year": "2048"
         },
         {
          "value": 0,
          "variable": "Conv",
          "year": "2049"
         },
         {
          "value": 0,
          "variable": "Conv",
          "year": "2050"
         },
         {
          "value": 0,
          "variable": "Conv",
          "year": "2051"
         },
         {
          "value": 0,
          "variable": "Conv",
          "year": "2052"
         },
         {
          "value": 0,
          "variable": "Conv",
          "year": "2053"
         },
         {
          "value": 0,
          "variable": "Conv",
          "year": "2054"
         },
         {
          "value": 0,
          "variable": "Conv",
          "year": "2055"
         },
         {
          "value": 0,
          "variable": "x143",
          "year": "2020"
         },
         {
          "value": 0,
          "variable": "x143",
          "year": "2021"
         },
         {
          "value": 0,
          "variable": "x143",
          "year": "2022"
         },
         {
          "value": 0,
          "variable": "x143",
          "year": "2023"
         },
         {
          "value": 0,
          "variable": "x143",
          "year": "2024"
         },
         {
          "value": 0,
          "variable": "x143",
          "year": "2025"
         },
         {
          "value": 0,
          "variable": "x143",
          "year": "2026"
         },
         {
          "value": 0,
          "variable": "x143",
          "year": "2027"
         },
         {
          "value": 0,
          "variable": "x143",
          "year": "2028"
         },
         {
          "value": 0,
          "variable": "x143",
          "year": "2029"
         },
         {
          "value": 55.12696912341484,
          "variable": "x143",
          "year": "2030"
         },
         {
          "value": 55.12696912341484,
          "variable": "x143",
          "year": "2031"
         },
         {
          "value": 55.12696912341484,
          "variable": "x143",
          "year": "2032"
         },
         {
          "value": 55.12696912341484,
          "variable": "x143",
          "year": "2033"
         },
         {
          "value": 55.12696912341484,
          "variable": "x143",
          "year": "2034"
         },
         {
          "value": 0,
          "variable": "x143",
          "year": "2035"
         },
         {
          "value": 0,
          "variable": "x143",
          "year": "2036"
         },
         {
          "value": 0,
          "variable": "x143",
          "year": "2037"
         },
         {
          "value": 0,
          "variable": "x143",
          "year": "2038"
         },
         {
          "value": 0,
          "variable": "x143",
          "year": "2039"
         },
         {
          "value": 0,
          "variable": "x143",
          "year": "2040"
         },
         {
          "value": 0,
          "variable": "x143",
          "year": "2041"
         },
         {
          "value": 0,
          "variable": "x143",
          "year": "2042"
         },
         {
          "value": 0,
          "variable": "x143",
          "year": "2043"
         },
         {
          "value": 0,
          "variable": "x143",
          "year": "2044"
         },
         {
          "value": 0,
          "variable": "x143",
          "year": "2045"
         },
         {
          "value": 0,
          "variable": "x143",
          "year": "2046"
         },
         {
          "value": 0,
          "variable": "x143",
          "year": "2047"
         },
         {
          "value": 0,
          "variable": "x143",
          "year": "2048"
         },
         {
          "value": 0,
          "variable": "x143",
          "year": "2049"
         },
         {
          "value": 0,
          "variable": "x143",
          "year": "2050"
         },
         {
          "value": 0,
          "variable": "x143",
          "year": "2051"
         },
         {
          "value": 0,
          "variable": "x143",
          "year": "2052"
         },
         {
          "value": 0,
          "variable": "x143",
          "year": "2053"
         },
         {
          "value": 0,
          "variable": "x143",
          "year": "2054"
         },
         {
          "value": 0,
          "variable": "x143",
          "year": "2055"
         },
         {
          "value": 0,
          "variable": "x144",
          "year": "2020"
         },
         {
          "value": 100.00000000000013,
          "variable": "x144",
          "year": "2021"
         },
         {
          "value": 100.00000000000013,
          "variable": "x144",
          "year": "2022"
         },
         {
          "value": 100.00000000000013,
          "variable": "x144",
          "year": "2023"
         },
         {
          "value": 100.00000000000013,
          "variable": "x144",
          "year": "2024"
         },
         {
          "value": 0,
          "variable": "x144",
          "year": "2025"
         },
         {
          "value": 0,
          "variable": "x144",
          "year": "2026"
         },
         {
          "value": 0,
          "variable": "x144",
          "year": "2027"
         },
         {
          "value": 0,
          "variable": "x144",
          "year": "2028"
         },
         {
          "value": 0,
          "variable": "x144",
          "year": "2029"
         },
         {
          "value": 0,
          "variable": "x144",
          "year": "2030"
         },
         {
          "value": 0,
          "variable": "x144",
          "year": "2031"
         },
         {
          "value": 0,
          "variable": "x144",
          "year": "2032"
         },
         {
          "value": 0,
          "variable": "x144",
          "year": "2033"
         },
         {
          "value": 0,
          "variable": "x144",
          "year": "2034"
         },
         {
          "value": 0,
          "variable": "x144",
          "year": "2035"
         },
         {
          "value": 0,
          "variable": "x144",
          "year": "2036"
         },
         {
          "value": 0,
          "variable": "x144",
          "year": "2037"
         },
         {
          "value": 0,
          "variable": "x144",
          "year": "2038"
         },
         {
          "value": 0,
          "variable": "x144",
          "year": "2039"
         },
         {
          "value": 0,
          "variable": "x144",
          "year": "2040"
         },
         {
          "value": 0,
          "variable": "x144",
          "year": "2041"
         },
         {
          "value": 0,
          "variable": "x144",
          "year": "2042"
         },
         {
          "value": 0,
          "variable": "x144",
          "year": "2043"
         },
         {
          "value": 0,
          "variable": "x144",
          "year": "2044"
         },
         {
          "value": 0,
          "variable": "x144",
          "year": "2045"
         },
         {
          "value": 0,
          "variable": "x144",
          "year": "2046"
         },
         {
          "value": 0,
          "variable": "x144",
          "year": "2047"
         },
         {
          "value": 0,
          "variable": "x144",
          "year": "2048"
         },
         {
          "value": 0,
          "variable": "x144",
          "year": "2049"
         },
         {
          "value": 0,
          "variable": "x144",
          "year": "2050"
         },
         {
          "value": 0,
          "variable": "x144",
          "year": "2051"
         },
         {
          "value": 0,
          "variable": "x144",
          "year": "2052"
         },
         {
          "value": 0,
          "variable": "x144",
          "year": "2053"
         },
         {
          "value": 0,
          "variable": "x144",
          "year": "2054"
         },
         {
          "value": 0,
          "variable": "x144",
          "year": "2055"
         },
         {
          "value": 0,
          "variable": "x156",
          "year": "2020"
         },
         {
          "value": 0,
          "variable": "x156",
          "year": "2021"
         },
         {
          "value": 0,
          "variable": "x156",
          "year": "2022"
         },
         {
          "value": 0,
          "variable": "x156",
          "year": "2023"
         },
         {
          "value": 0,
          "variable": "x156",
          "year": "2024"
         },
         {
          "value": 0,
          "variable": "x156",
          "year": "2025"
         },
         {
          "value": 0,
          "variable": "x156",
          "year": "2026"
         },
         {
          "value": 0,
          "variable": "x156",
          "year": "2027"
         },
         {
          "value": 0,
          "variable": "x156",
          "year": "2028"
         },
         {
          "value": 0,
          "variable": "x156",
          "year": "2029"
         },
         {
          "value": 0,
          "variable": "x156",
          "year": "2030"
         },
         {
          "value": 0,
          "variable": "x156",
          "year": "2031"
         },
         {
          "value": 0,
          "variable": "x156",
          "year": "2032"
         },
         {
          "value": 0,
          "variable": "x156",
          "year": "2033"
         },
         {
          "value": 0,
          "variable": "x156",
          "year": "2034"
         },
         {
          "value": 52.186382880992014,
          "variable": "x156",
          "year": "2035"
         },
         {
          "value": 52.186382880992014,
          "variable": "x156",
          "year": "2036"
         },
         {
          "value": 52.186382880992014,
          "variable": "x156",
          "year": "2037"
         },
         {
          "value": 52.186382880992014,
          "variable": "x156",
          "year": "2038"
         },
         {
          "value": 52.186382880992014,
          "variable": "x156",
          "year": "2039"
         },
         {
          "value": 0,
          "variable": "x156",
          "year": "2040"
         },
         {
          "value": 0,
          "variable": "x156",
          "year": "2041"
         },
         {
          "value": 0,
          "variable": "x156",
          "year": "2042"
         },
         {
          "value": 0,
          "variable": "x156",
          "year": "2043"
         },
         {
          "value": 0,
          "variable": "x156",
          "year": "2044"
         },
         {
          "value": 54.83508501591889,
          "variable": "x156",
          "year": "2045"
         },
         {
          "value": 54.83508501591889,
          "variable": "x156",
          "year": "2046"
         },
         {
          "value": 54.83508501591889,
          "variable": "x156",
          "year": "2047"
         },
         {
          "value": 54.83508501591889,
          "variable": "x156",
          "year": "2048"
         },
         {
          "value": 54.83508501591889,
          "variable": "x156",
          "year": "2049"
         },
         {
          "value": 54.83508501591889,
          "variable": "x156",
          "year": "2050"
         },
         {
          "value": 54.83508501591889,
          "variable": "x156",
          "year": "2051"
         },
         {
          "value": 54.83508501591889,
          "variable": "x156",
          "year": "2052"
         },
         {
          "value": 54.83508501591889,
          "variable": "x156",
          "year": "2053"
         },
         {
          "value": 54.83508501591889,
          "variable": "x156",
          "year": "2054"
         },
         {
          "value": 54.83508501591889,
          "variable": "x156",
          "year": "2055"
         },
         {
          "value": 0,
          "variable": "x161",
          "year": "2020"
         },
         {
          "value": 0,
          "variable": "x161",
          "year": "2021"
         },
         {
          "value": 0,
          "variable": "x161",
          "year": "2022"
         },
         {
          "value": 0,
          "variable": "x161",
          "year": "2023"
         },
         {
          "value": 0,
          "variable": "x161",
          "year": "2024"
         },
         {
          "value": 0,
          "variable": "x161",
          "year": "2025"
         },
         {
          "value": 0,
          "variable": "x161",
          "year": "2026"
         },
         {
          "value": 0,
          "variable": "x161",
          "year": "2027"
         },
         {
          "value": 0,
          "variable": "x161",
          "year": "2028"
         },
         {
          "value": 0,
          "variable": "x161",
          "year": "2029"
         },
         {
          "value": 0,
          "variable": "x161",
          "year": "2030"
         },
         {
          "value": 0,
          "variable": "x161",
          "year": "2031"
         },
         {
          "value": 0,
          "variable": "x161",
          "year": "2032"
         },
         {
          "value": 0,
          "variable": "x161",
          "year": "2033"
         },
         {
          "value": 0,
          "variable": "x161",
          "year": "2034"
         },
         {
          "value": 0,
          "variable": "x161",
          "year": "2035"
         },
         {
          "value": 0,
          "variable": "x161",
          "year": "2036"
         },
         {
          "value": 0,
          "variable": "x161",
          "year": "2037"
         },
         {
          "value": 0,
          "variable": "x161",
          "year": "2038"
         },
         {
          "value": 0,
          "variable": "x161",
          "year": "2039"
         },
         {
          "value": 54.333717265760406,
          "variable": "x161",
          "year": "2040"
         },
         {
          "value": 54.333717265760406,
          "variable": "x161",
          "year": "2041"
         },
         {
          "value": 54.333717265760406,
          "variable": "x161",
          "year": "2042"
         },
         {
          "value": 54.333717265760406,
          "variable": "x161",
          "year": "2043"
         },
         {
          "value": 54.333717265760406,
          "variable": "x161",
          "year": "2044"
         },
         {
          "value": 0,
          "variable": "x161",
          "year": "2045"
         },
         {
          "value": 0,
          "variable": "x161",
          "year": "2046"
         },
         {
          "value": 0,
          "variable": "x161",
          "year": "2047"
         },
         {
          "value": 0,
          "variable": "x161",
          "year": "2048"
         },
         {
          "value": 0,
          "variable": "x161",
          "year": "2049"
         },
         {
          "value": 0,
          "variable": "x161",
          "year": "2050"
         },
         {
          "value": 0,
          "variable": "x161",
          "year": "2051"
         },
         {
          "value": 0,
          "variable": "x161",
          "year": "2052"
         },
         {
          "value": 0,
          "variable": "x161",
          "year": "2053"
         },
         {
          "value": 0,
          "variable": "x161",
          "year": "2054"
         },
         {
          "value": 0,
          "variable": "x161",
          "year": "2055"
         },
         {
          "value": 0,
          "variable": "x196",
          "year": "2020"
         },
         {
          "value": 0,
          "variable": "x196",
          "year": "2021"
         },
         {
          "value": 0,
          "variable": "x196",
          "year": "2022"
         },
         {
          "value": 0,
          "variable": "x196",
          "year": "2023"
         },
         {
          "value": 0,
          "variable": "x196",
          "year": "2024"
         },
         {
          "value": 100,
          "variable": "x196",
          "year": "2025"
         },
         {
          "value": 100,
          "variable": "x196",
          "year": "2026"
         },
         {
          "value": 100,
          "variable": "x196",
          "year": "2027"
         },
         {
          "value": 100,
          "variable": "x196",
          "year": "2028"
         },
         {
          "value": 100,
          "variable": "x196",
          "year": "2029"
         },
         {
          "value": 0,
          "variable": "x196",
          "year": "2030"
         },
         {
          "value": 0,
          "variable": "x196",
          "year": "2031"
         },
         {
          "value": 0,
          "variable": "x196",
          "year": "2032"
         },
         {
          "value": 0,
          "variable": "x196",
          "year": "2033"
         },
         {
          "value": 0,
          "variable": "x196",
          "year": "2034"
         },
         {
          "value": 0,
          "variable": "x196",
          "year": "2035"
         },
         {
          "value": 0,
          "variable": "x196",
          "year": "2036"
         },
         {
          "value": 0,
          "variable": "x196",
          "year": "2037"
         },
         {
          "value": 0,
          "variable": "x196",
          "year": "2038"
         },
         {
          "value": 0,
          "variable": "x196",
          "year": "2039"
         },
         {
          "value": 0,
          "variable": "x196",
          "year": "2040"
         },
         {
          "value": 0,
          "variable": "x196",
          "year": "2041"
         },
         {
          "value": 0,
          "variable": "x196",
          "year": "2042"
         },
         {
          "value": 0,
          "variable": "x196",
          "year": "2043"
         },
         {
          "value": 0,
          "variable": "x196",
          "year": "2044"
         },
         {
          "value": 0,
          "variable": "x196",
          "year": "2045"
         },
         {
          "value": 0,
          "variable": "x196",
          "year": "2046"
         },
         {
          "value": 0,
          "variable": "x196",
          "year": "2047"
         },
         {
          "value": 0,
          "variable": "x196",
          "year": "2048"
         },
         {
          "value": 0,
          "variable": "x196",
          "year": "2049"
         },
         {
          "value": 0,
          "variable": "x196",
          "year": "2050"
         },
         {
          "value": 0,
          "variable": "x196",
          "year": "2051"
         },
         {
          "value": 0,
          "variable": "x196",
          "year": "2052"
         },
         {
          "value": 0,
          "variable": "x196",
          "year": "2053"
         },
         {
          "value": 0,
          "variable": "x196",
          "year": "2054"
         },
         {
          "value": 0,
          "variable": "x196",
          "year": "2055"
         },
         {
          "value": 0,
          "variable": "x199",
          "year": "2020"
         },
         {
          "value": 0,
          "variable": "x199",
          "year": "2021"
         },
         {
          "value": 0,
          "variable": "x199",
          "year": "2022"
         },
         {
          "value": 0,
          "variable": "x199",
          "year": "2023"
         },
         {
          "value": 0,
          "variable": "x199",
          "year": "2024"
         },
         {
          "value": 0,
          "variable": "x199",
          "year": "2025"
         },
         {
          "value": 0,
          "variable": "x199",
          "year": "2026"
         },
         {
          "value": 0,
          "variable": "x199",
          "year": "2027"
         },
         {
          "value": 0,
          "variable": "x199",
          "year": "2028"
         },
         {
          "value": 0,
          "variable": "x199",
          "year": "2029"
         },
         {
          "value": 44.87303087658516,
          "variable": "x199",
          "year": "2030"
         },
         {
          "value": 44.87303087658516,
          "variable": "x199",
          "year": "2031"
         },
         {
          "value": 44.87303087658516,
          "variable": "x199",
          "year": "2032"
         },
         {
          "value": 44.87303087658516,
          "variable": "x199",
          "year": "2033"
         },
         {
          "value": 44.87303087658516,
          "variable": "x199",
          "year": "2034"
         },
         {
          "value": 0,
          "variable": "x199",
          "year": "2035"
         },
         {
          "value": 0,
          "variable": "x199",
          "year": "2036"
         },
         {
          "value": 0,
          "variable": "x199",
          "year": "2037"
         },
         {
          "value": 0,
          "variable": "x199",
          "year": "2038"
         },
         {
          "value": 0,
          "variable": "x199",
          "year": "2039"
         },
         {
          "value": 45.666282734239594,
          "variable": "x199",
          "year": "2040"
         },
         {
          "value": 45.666282734239594,
          "variable": "x199",
          "year": "2041"
         },
         {
          "value": 45.666282734239594,
          "variable": "x199",
          "year": "2042"
         },
         {
          "value": 45.666282734239594,
          "variable": "x199",
          "year": "2043"
         },
         {
          "value": 45.666282734239594,
          "variable": "x199",
          "year": "2044"
         },
         {
          "value": 0,
          "variable": "x199",
          "year": "2045"
         },
         {
          "value": 0,
          "variable": "x199",
          "year": "2046"
         },
         {
          "value": 0,
          "variable": "x199",
          "year": "2047"
         },
         {
          "value": 0,
          "variable": "x199",
          "year": "2048"
         },
         {
          "value": 0,
          "variable": "x199",
          "year": "2049"
         },
         {
          "value": 0,
          "variable": "x199",
          "year": "2050"
         },
         {
          "value": 0,
          "variable": "x199",
          "year": "2051"
         },
         {
          "value": 0,
          "variable": "x199",
          "year": "2052"
         },
         {
          "value": 0,
          "variable": "x199",
          "year": "2053"
         },
         {
          "value": 0,
          "variable": "x199",
          "year": "2054"
         },
         {
          "value": 0,
          "variable": "x199",
          "year": "2055"
         },
         {
          "value": 0,
          "variable": "x200",
          "year": "2020"
         },
         {
          "value": 0,
          "variable": "x200",
          "year": "2021"
         },
         {
          "value": 0,
          "variable": "x200",
          "year": "2022"
         },
         {
          "value": 0,
          "variable": "x200",
          "year": "2023"
         },
         {
          "value": 0,
          "variable": "x200",
          "year": "2024"
         },
         {
          "value": 0,
          "variable": "x200",
          "year": "2025"
         },
         {
          "value": 0,
          "variable": "x200",
          "year": "2026"
         },
         {
          "value": 0,
          "variable": "x200",
          "year": "2027"
         },
         {
          "value": 0,
          "variable": "x200",
          "year": "2028"
         },
         {
          "value": 0,
          "variable": "x200",
          "year": "2029"
         },
         {
          "value": 0,
          "variable": "x200",
          "year": "2030"
         },
         {
          "value": 0,
          "variable": "x200",
          "year": "2031"
         },
         {
          "value": 0,
          "variable": "x200",
          "year": "2032"
         },
         {
          "value": 0,
          "variable": "x200",
          "year": "2033"
         },
         {
          "value": 0,
          "variable": "x200",
          "year": "2034"
         },
         {
          "value": 47.813617119007986,
          "variable": "x200",
          "year": "2035"
         },
         {
          "value": 47.813617119007986,
          "variable": "x200",
          "year": "2036"
         },
         {
          "value": 47.813617119007986,
          "variable": "x200",
          "year": "2037"
         },
         {
          "value": 47.813617119007986,
          "variable": "x200",
          "year": "2038"
         },
         {
          "value": 47.813617119007986,
          "variable": "x200",
          "year": "2039"
         },
         {
          "value": 0,
          "variable": "x200",
          "year": "2040"
         },
         {
          "value": 0,
          "variable": "x200",
          "year": "2041"
         },
         {
          "value": 0,
          "variable": "x200",
          "year": "2042"
         },
         {
          "value": 0,
          "variable": "x200",
          "year": "2043"
         },
         {
          "value": 0,
          "variable": "x200",
          "year": "2044"
         },
         {
          "value": 45.164914984081115,
          "variable": "x200",
          "year": "2045"
         },
         {
          "value": 45.164914984081115,
          "variable": "x200",
          "year": "2046"
         },
         {
          "value": 45.164914984081115,
          "variable": "x200",
          "year": "2047"
         },
         {
          "value": 45.164914984081115,
          "variable": "x200",
          "year": "2048"
         },
         {
          "value": 45.164914984081115,
          "variable": "x200",
          "year": "2049"
         },
         {
          "value": 45.164914984081115,
          "variable": "x200",
          "year": "2050"
         },
         {
          "value": 45.164914984081115,
          "variable": "x200",
          "year": "2051"
         },
         {
          "value": 45.164914984081115,
          "variable": "x200",
          "year": "2052"
         },
         {
          "value": 45.164914984081115,
          "variable": "x200",
          "year": "2053"
         },
         {
          "value": 45.164914984081115,
          "variable": "x200",
          "year": "2054"
         },
         {
          "value": 45.164914984081115,
          "variable": "x200",
          "year": "2055"
         }
        ]
       },
       "encoding": {
        "color": {
         "field": "variable",
         "type": "nominal"
        },
        "x": {
         "field": "year"
        },
        "y": {
         "field": "value",
         "stack": "zero",
         "title": "Value-chain adopted (%)",
         "type": "quantitative"
        }
       },
       "legend": "sNames",
       "mark": "area"
      },
      "image/png": "[encoded data removed]",
      "image/svg+xml": [
       "<?xml version=\"1.0\" encoding=\"utf-8\"?>\n",
       "<!DOCTYPE svg PUBLIC \"-//W3C//DTD SVG 1.1//EN\" \"http://www.w3.org/Graphics/SVG/1.1/DTD/svg11.dtd\">\n",
       "<svg xmlns=\"http://www.w3.org/2000/svg\" xmlns:xlink=\"http://www.w3.org/1999/xlink\" version=\"1.1\" class=\"marks\" width=\"837\" height=\"256\" viewBox=\"0 0 837 256\"><rect width=\"837\" height=\"256\" fill=\"white\"/><g fill=\"none\" stroke-miterlimit=\"10\" transform=\"translate(45,5)\"><g class=\"mark-group role-frame root\" role=\"graphics-object\" aria-roledescription=\"group mark container\"><g transform=\"translate(0,0)\"><path class=\"background\" aria-hidden=\"true\" d=\"M0.5,0.5h720v200h-720Z\" stroke=\"#ddd\"/><g><g class=\"mark-group role-axis\" aria-hidden=\"true\"><g transform=\"translate(0.5,0.5)\"><path class=\"background\" aria-hidden=\"true\" d=\"M0,0h0v0h0Z\" pointer-events=\"none\"/><g><g class=\"mark-rule role-axis-grid\" pointer-events=\"none\"><line transform=\"translate(0,183)\" x2=\"720\" y2=\"0\" stroke=\"#ddd\" stroke-width=\"1\" opacity=\"1\"/><line transform=\"translate(0,150)\" x2=\"720\" y2=\"0\" stroke=\"#ddd\" stroke-width=\"1\" opacity=\"1\"/><line transform=\"translate(0,117)\" x2=\"720\" y2=\"0\" stroke=\"#ddd\" stroke-width=\"1\" opacity=\"1\"/><line transform=\"translate(0,83)\" x2=\"720\" y2=\"0\" stroke=\"#ddd\" stroke-width=\"1\" opacity=\"1\"/><line transform=\"translate(0,50)\" x2=\"720\" y2=\"0\" stroke=\"#ddd\" stroke-width=\"1\" opacity=\"1\"/><line transform=\"translate(0,17)\" x2=\"720\" y2=\"0\" stroke=\"#ddd\" stroke-width=\"1\" opacity=\"1\"/></g></g><path class=\"foreground\" aria-hidden=\"true\" d=\"\" pointer-events=\"none\" display=\"none\"/></g></g><g class=\"mark-group role-axis\" role=\"graphics-symbol\" aria-roledescription=\"axis\" aria-label=\"X-axis titled 'year' for a discrete scale with 36 values: 2020, 2021, 2022, 2023, 2024, ending with 2055\"><g transform=\"translate(0.5,200.5)\"><path class=\"background\" aria-hidden=\"true\" d=\"M0,0h0v0h0Z\" pointer-events=\"none\"/><g><g class=\"mark-rule role-axis-tick\" pointer-events=\"none\"><line transform=\"translate(10,0)\" x2=\"0\" y2=\"5\" stroke=\"#888\" stroke-width=\"1\" opacity=\"1\"/><line transform=\"translate(30,0)\" x2=\"0\" y2=\"5\" stroke=\"#888\" stroke-width=\"1\" opacity=\"1\"/><line transform=\"translate(50,0)\" x2=\"0\" y2=\"5\" stroke=\"#888\" stroke-width=\"1\" opacity=\"1\"/><line transform=\"translate(70,0)\" x2=\"0\" y2=\"5\" stroke=\"#888\" stroke-width=\"1\" opacity=\"1\"/><line transform=\"translate(90,0)\" x2=\"0\" y2=\"5\" stroke=\"#888\" stroke-width=\"1\" opacity=\"1\"/><line transform=\"translate(110,0)\" x2=\"0\" y2=\"5\" stroke=\"#888\" stroke-width=\"1\" opacity=\"1\"/><line transform=\"translate(130,0)\" x2=\"0\" y2=\"5\" stroke=\"#888\" stroke-width=\"1\" opacity=\"1\"/><line transform=\"translate(150,0)\" x2=\"0\" y2=\"5\" stroke=\"#888\" stroke-width=\"1\" opacity=\"1\"/><line transform=\"translate(170,0)\" x2=\"0\" y2=\"5\" stroke=\"#888\" stroke-width=\"1\" opacity=\"1\"/><line transform=\"translate(190,0)\" x2=\"0\" y2=\"5\" stroke=\"#888\" stroke-width=\"1\" opacity=\"1\"/><line transform=\"translate(210,0)\" x2=\"0\" y2=\"5\" stroke=\"#888\" stroke-width=\"1\" opacity=\"1\"/><line transform=\"translate(230,0)\" x2=\"0\" y2=\"5\" stroke=\"#888\" stroke-width=\"1\" opacity=\"1\"/><line transform=\"translate(250,0)\" x2=\"0\" y2=\"5\" stroke=\"#888\" stroke-width=\"1\" opacity=\"1\"/><line transform=\"translate(270,0)\" x2=\"0\" y2=\"5\" stroke=\"#888\" stroke-width=\"1\" opacity=\"1\"/><line transform=\"translate(290,0)\" x2=\"0\" y2=\"5\" stroke=\"#888\" stroke-width=\"1\" opacity=\"1\"/><line transform=\"translate(310,0)\" x2=\"0\" y2=\"5\" stroke=\"#888\" stroke-width=\"1\" opacity=\"1\"/><line transform=\"translate(330,0)\" x2=\"0\" y2=\"5\" stroke=\"#888\" stroke-width=\"1\" opacity=\"1\"/><line transform=\"translate(350,0)\" x2=\"0\" y2=\"5\" stroke=\"#888\" stroke-width=\"1\" opacity=\"1\"/><line transform=\"translate(370,0)\" x2=\"0\" y2=\"5\" stroke=\"#888\" stroke-width=\"1\" opacity=\"1\"/><line transform=\"translate(390,0)\" x2=\"0\" y2=\"5\" stroke=\"#888\" stroke-width=\"1\" opacity=\"1\"/><line transform=\"translate(410,0)\" x2=\"0\" y2=\"5\" stroke=\"#888\" stroke-width=\"1\" opacity=\"1\"/><line transform=\"translate(430,0)\" x2=\"0\" y2=\"5\" stroke=\"#888\" stroke-width=\"1\" opacity=\"1\"/><line transform=\"translate(450,0)\" x2=\"0\" y2=\"5\" stroke=\"#888\" stroke-width=\"1\" opacity=\"1\"/><line transform=\"translate(470,0)\" x2=\"0\" y2=\"5\" stroke=\"#888\" stroke-width=\"1\" opacity=\"1\"/><line transform=\"translate(490,0)\" x2=\"0\" y2=\"5\" stroke=\"#888\" stroke-width=\"1\" opacity=\"1\"/><line transform=\"translate(510,0)\" x2=\"0\" y2=\"5\" stroke=\"#888\" stroke-width=\"1\" opacity=\"1\"/><line transform=\"translate(530,0)\" x2=\"0\" y2=\"5\" stroke=\"#888\" stroke-width=\"1\" opacity=\"1\"/><line transform=\"translate(550,0)\" x2=\"0\" y2=\"5\" stroke=\"#888\" stroke-width=\"1\" opacity=\"1\"/><line transform=\"translate(570,0)\" x2=\"0\" y2=\"5\" stroke=\"#888\" stroke-width=\"1\" opacity=\"1\"/><line transform=\"translate(590,0)\" x2=\"0\" y2=\"5\" stroke=\"#888\" stroke-width=\"1\" opacity=\"1\"/><line transform=\"translate(610,0)\" x2=\"0\" y2=\"5\" stroke=\"#888\" stroke-width=\"1\" opacity=\"1\"/><line transform=\"translate(630,0)\" x2=\"0\" y2=\"5\" stroke=\"#888\" stroke-width=\"1\" opacity=\"1\"/><line transform=\"translate(650,0)\" x2=\"0\" y2=\"5\" stroke=\"#888\" stroke-width=\"1\" opacity=\"1\"/><line transform=\"translate(670,0)\" x2=\"0\" y2=\"5\" stroke=\"#888\" stroke-width=\"1\" opacity=\"1\"/><line transform=\"translate(690,0)\" x2=\"0\" y2=\"5\" stroke=\"#888\" stroke-width=\"1\" opacity=\"1\"/><line transform=\"translate(710,0)\" x2=\"0\" y2=\"5\" stroke=\"#888\" stroke-width=\"1\" opacity=\"1\"/></g><g class=\"mark-text role-axis-label\" pointer-events=\"none\"><text text-anchor=\"end\" transform=\"translate(10,7) rotate(270) translate(0,3)\" font-family=\"sans-serif\" font-size=\"10px\" fill=\"#000\" opacity=\"1\">2020</text><text text-anchor=\"end\" transform=\"translate(30,7) rotate(270) translate(0,3)\" font-family=\"sans-serif\" font-size=\"10px\" fill=\"#000\" opacity=\"1\">2021</text><text text-anchor=\"end\" transform=\"translate(50,7) rotate(270) translate(0,3)\" font-family=\"sans-serif\" font-size=\"10px\" fill=\"#000\" opacity=\"1\">2022</text><text text-anchor=\"end\" transform=\"translate(70,7) rotate(270) translate(0,3)\" font-family=\"sans-serif\" font-size=\"10px\" fill=\"#000\" opacity=\"1\">2023</text><text text-anchor=\"end\" transform=\"translate(90,7) rotate(270) translate(0,3)\" font-family=\"sans-serif\" font-size=\"10px\" fill=\"#000\" opacity=\"1\">2024</text><text text-anchor=\"end\" transform=\"translate(110,7) rotate(270) translate(0,3)\" font-family=\"sans-serif\" font-size=\"10px\" fill=\"#000\" opacity=\"1\">2025</text><text text-anchor=\"end\" transform=\"translate(130,7) rotate(270) translate(0,3)\" font-family=\"sans-serif\" font-size=\"10px\" fill=\"#000\" opacity=\"1\">2026</text><text text-anchor=\"end\" transform=\"translate(150,7) rotate(270) translate(0,3)\" font-family=\"sans-serif\" font-size=\"10px\" fill=\"#000\" opacity=\"1\">2027</text><text text-anchor=\"end\" transform=\"translate(170,7) rotate(270) translate(0,3)\" font-family=\"sans-serif\" font-size=\"10px\" fill=\"#000\" opacity=\"1\">2028</text><text text-anchor=\"end\" transform=\"translate(190,7) rotate(270) translate(0,3)\" font-family=\"sans-serif\" font-size=\"10px\" fill=\"#000\" opacity=\"1\">2029</text><text text-anchor=\"end\" transform=\"translate(210,7) rotate(270) translate(0,3)\" font-family=\"sans-serif\" font-size=\"10px\" fill=\"#000\" opacity=\"1\">2030</text><text text-anchor=\"end\" transform=\"translate(230,7) rotate(270) translate(0,3)\" font-family=\"sans-serif\" font-size=\"10px\" fill=\"#000\" opacity=\"1\">2031</text><text text-anchor=\"end\" transform=\"translate(250,7) rotate(270) translate(0,3)\" font-family=\"sans-serif\" font-size=\"10px\" fill=\"#000\" opacity=\"1\">2032</text><text text-anchor=\"end\" transform=\"translate(270,7) rotate(270) translate(0,3)\" font-family=\"sans-serif\" font-size=\"10px\" fill=\"#000\" opacity=\"1\">2033</text><text text-anchor=\"end\" transform=\"translate(290,7) rotate(270) translate(0,3)\" font-family=\"sans-serif\" font-size=\"10px\" fill=\"#000\" opacity=\"1\">2034</text><text text-anchor=\"end\" transform=\"translate(310,7) rotate(270) translate(0,3)\" font-family=\"sans-serif\" font-size=\"10px\" fill=\"#000\" opacity=\"1\">2035</text><text text-anchor=\"end\" transform=\"translate(330,7) rotate(270) translate(0,3)\" font-family=\"sans-serif\" font-size=\"10px\" fill=\"#000\" opacity=\"1\">2036</text><text text-anchor=\"end\" transform=\"translate(350,7) rotate(270) translate(0,3)\" font-family=\"sans-serif\" font-size=\"10px\" fill=\"#000\" opacity=\"1\">2037</text><text text-anchor=\"end\" transform=\"translate(370,7) rotate(270) translate(0,3)\" font-family=\"sans-serif\" font-size=\"10px\" fill=\"#000\" opacity=\"1\">2038</text><text text-anchor=\"end\" transform=\"translate(390,7) rotate(270) translate(0,3)\" font-family=\"sans-serif\" font-size=\"10px\" fill=\"#000\" opacity=\"1\">2039</text><text text-anchor=\"end\" transform=\"translate(410,7) rotate(270) translate(0,3)\" font-family=\"sans-serif\" font-size=\"10px\" fill=\"#000\" opacity=\"1\">2040</text><text text-anchor=\"end\" transform=\"translate(430,7) rotate(270) translate(0,3)\" font-family=\"sans-serif\" font-size=\"10px\" fill=\"#000\" opacity=\"1\">2041</text><text text-anchor=\"end\" transform=\"translate(450,7) rotate(270) translate(0,3)\" font-family=\"sans-serif\" font-size=\"10px\" fill=\"#000\" opacity=\"1\">2042</text><text text-anchor=\"end\" transform=\"translate(470,7) rotate(270) translate(0,3)\" font-family=\"sans-serif\" font-size=\"10px\" fill=\"#000\" opacity=\"1\">2043</text><text text-anchor=\"end\" transform=\"translate(490,7) rotate(270) translate(0,3)\" font-family=\"sans-serif\" font-size=\"10px\" fill=\"#000\" opacity=\"1\">2044</text><text text-anchor=\"end\" transform=\"translate(510,7) rotate(270) translate(0,3)\" font-family=\"sans-serif\" font-size=\"10px\" fill=\"#000\" opacity=\"1\">2045</text><text text-anchor=\"end\" transform=\"translate(530,7) rotate(270) translate(0,3)\" font-family=\"sans-serif\" font-size=\"10px\" fill=\"#000\" opacity=\"1\">2046</text><text text-anchor=\"end\" transform=\"translate(550,7) rotate(270) translate(0,3)\" font-family=\"sans-serif\" font-size=\"10px\" fill=\"#000\" opacity=\"1\">2047</text><text text-anchor=\"end\" transform=\"translate(570,7) rotate(270) translate(0,3)\" font-family=\"sans-serif\" font-size=\"10px\" fill=\"#000\" opacity=\"1\">2048</text><text text-anchor=\"end\" transform=\"translate(590,7) rotate(270) translate(0,3)\" font-family=\"sans-serif\" font-size=\"10px\" fill=\"#000\" opacity=\"1\">2049</text><text text-anchor=\"end\" transform=\"translate(610,7) rotate(270) translate(0,3)\" font-family=\"sans-serif\" font-size=\"10px\" fill=\"#000\" opacity=\"1\">2050</text><text text-anchor=\"end\" transform=\"translate(630,7) rotate(270) translate(0,3)\" font-family=\"sans-serif\" font-size=\"10px\" fill=\"#000\" opacity=\"1\">2051</text><text text-anchor=\"end\" transform=\"translate(650,7) rotate(270) translate(0,3)\" font-family=\"sans-serif\" font-size=\"10px\" fill=\"#000\" opacity=\"1\">2052</text><text text-anchor=\"end\" transform=\"translate(670,7) rotate(270) translate(0,3)\" font-family=\"sans-serif\" font-size=\"10px\" fill=\"#000\" opacity=\"1\">2053</text><text text-anchor=\"end\" transform=\"translate(690,7) rotate(270) translate(0,3)\" font-family=\"sans-serif\" font-size=\"10px\" fill=\"#000\" opacity=\"1\">2054</text><text text-anchor=\"end\" transform=\"translate(710,7) rotate(270) translate(0,3)\" font-family=\"sans-serif\" font-size=\"10px\" fill=\"#000\" opacity=\"1\">2055</text></g><g class=\"mark-rule role-axis-domain\" pointer-events=\"none\"><line transform=\"translate(0,0)\" x2=\"720\" y2=\"0\" stroke=\"#888\" stroke-width=\"1\" opacity=\"1\"/></g><g class=\"mark-text role-axis-title\" pointer-events=\"none\"><text text-anchor=\"middle\" transform=\"translate(360,44)\" font-family=\"sans-serif\" font-size=\"11px\" font-weight=\"bold\" fill=\"#000\" opacity=\"1\">year</text></g></g><path class=\"foreground\" aria-hidden=\"true\" d=\"\" pointer-events=\"none\" display=\"none\"/></g></g><g class=\"mark-group role-axis\" role=\"graphics-symbol\" aria-roledescription=\"axis\" aria-label=\"Y-axis titled 'Value-chain adopted (%)' for a linear scale with values from −10 to 110\"><g transform=\"translate(0.5,0.5)\"><path class=\"background\" aria-hidden=\"true\" d=\"M0,0h0v0h0Z\" pointer-events=\"none\"/><g><g class=\"mark-rule role-axis-tick\" pointer-events=\"none\"><line transform=\"translate(0,183)\" x2=\"-5\" y2=\"0\" stroke=\"#888\" stroke-width=\"1\" opacity=\"1\"/><line transform=\"translate(0,150)\" x2=\"-5\" y2=\"0\" stroke=\"#888\" stroke-width=\"1\" opacity=\"1\"/><line transform=\"translate(0,117)\" x2=\"-5\" y2=\"0\" stroke=\"#888\" stroke-width=\"1\" opacity=\"1\"/><line transform=\"translate(0,83)\" x2=\"-5\" y2=\"0\" stroke=\"#888\" stroke-width=\"1\" opacity=\"1\"/><line transform=\"translate(0,50)\" x2=\"-5\" y2=\"0\" stroke=\"#888\" stroke-width=\"1\" opacity=\"1\"/><line transform=\"translate(0,17)\" x2=\"-5\" y2=\"0\" stroke=\"#888\" stroke-width=\"1\" opacity=\"1\"/></g><g class=\"mark-text role-axis-label\" pointer-events=\"none\"><text text-anchor=\"end\" transform=\"translate(-7,186.33333333333331)\" font-family=\"sans-serif\" font-size=\"10px\" fill=\"#000\" opacity=\"1\">0</text><text text-anchor=\"end\" transform=\"translate(-7,153)\" font-family=\"sans-serif\" font-size=\"10px\" fill=\"#000\" opacity=\"1\">20</text><text text-anchor=\"end\" transform=\"translate(-7,119.66666666666666)\" font-family=\"sans-serif\" font-size=\"10px\" fill=\"#000\" opacity=\"1\">40</text><text text-anchor=\"end\" transform=\"translate(-7,86.33333333333333)\" font-family=\"sans-serif\" font-size=\"10px\" fill=\"#000\" opacity=\"1\">60</text><text text-anchor=\"end\" transform=\"translate(-7,53)\" font-family=\"sans-serif\" font-size=\"10px\" fill=\"#000\" opacity=\"1\">80</text><text text-anchor=\"end\" transform=\"translate(-7,19.666666666666675)\" font-family=\"sans-serif\" font-size=\"10px\" fill=\"#000\" opacity=\"1\">100</text></g><g class=\"mark-rule role-axis-domain\" pointer-events=\"none\"><line transform=\"translate(0,200)\" x2=\"0\" y2=\"-200\" stroke=\"#888\" stroke-width=\"1\" opacity=\"1\"/></g><g class=\"mark-text role-axis-title\" pointer-events=\"none\"><text text-anchor=\"middle\" transform=\"translate(-29,100) rotate(-90) translate(0,-2)\" font-family=\"sans-serif\" font-size=\"11px\" font-weight=\"bold\" fill=\"#000\" opacity=\"1\">Value-chain adopted (%)</text></g></g><path class=\"foreground\" aria-hidden=\"true\" d=\"\" pointer-events=\"none\" display=\"none\"/></g></g><g class=\"mark-group role-scope pathgroup\" role=\"graphics-object\" aria-roledescription=\"group mark container\"><g transform=\"translate(0,0)\"><path class=\"background\" aria-hidden=\"true\" d=\"M0,0h720v200h-720Z\"/><g><g class=\"mark-area role-mark marks\" role=\"graphics-object\" aria-roledescription=\"area mark container\"><path aria-label=\"year: 2020; Value-chain adopted (%): 100; variable: Conv\" role=\"graphics-symbol\" aria-roledescription=\"area mark\" d=\"M10,16.666666666666675L30,183.33333333333354L50,183.33333333333354L70,183.33333333333354L90,183.33333333333354L110,16.666666666666675L130,16.666666666666675L150,16.666666666666675L170,16.666666666666675L190,16.666666666666675L210,16.666666666666675L230,16.666666666666675L250,16.666666666666675L270,16.666666666666675L290,16.666666666666675L310,16.666666666666675L330,16.666666666666675L350,16.666666666666675L370,16.666666666666675L390,16.666666666666675L410,16.666666666666675L430,16.666666666666675L450,16.666666666666675L470,16.666666666666675L490,16.666666666666675L510,16.666666666666675L530,16.666666666666675L550,16.666666666666675L570,16.666666666666675L590,16.666666666666675L610,16.666666666666675L630,16.666666666666675L650,16.666666666666675L670,16.666666666666675L690,16.666666666666675L710,16.666666666666675L710,16.666666666666675L690,16.666666666666675L670,16.666666666666675L650,16.666666666666675L630,16.666666666666675L610,16.666666666666675L590,16.666666666666675L570,16.666666666666675L550,16.666666666666675L530,16.666666666666675L510,16.666666666666675L490,16.666666666666675L470,16.666666666666675L450,16.666666666666675L430,16.666666666666675L410,16.666666666666675L390,16.666666666666675L370,16.666666666666675L350,16.666666666666675L330,16.666666666666675L310,16.666666666666675L290,16.666666666666675L270,16.666666666666675L250,16.666666666666675L230,16.666666666666675L210,16.666666666666675L190,16.666666666666675L170,16.666666666666675L150,16.666666666666675L130,16.666666666666675L110,16.666666666666675L90,183.33333333333331L70,183.33333333333331L50,183.33333333333331L30,183.33333333333331L10,183.33333333333331Z\" fill=\"#4c78a8\"/></g></g><path class=\"foreground\" aria-hidden=\"true\" d=\"\" display=\"none\"/></g><g transform=\"translate(0,0)\"><path class=\"background\" aria-hidden=\"true\" d=\"M0,0h720v200h-720Z\"/><g><g class=\"mark-area role-mark marks\" role=\"graphics-object\" aria-roledescription=\"area mark container\"><path aria-label=\"year: 2020; Value-chain adopted (%): 0; variable: x143\" role=\"graphics-symbol\" aria-roledescription=\"area mark\" d=\"M10,183.33333333333331L30,16.66666666666645L50,16.66666666666645L70,16.66666666666645L90,16.66666666666645L110,16.666666666666675L130,16.666666666666675L150,16.666666666666675L170,16.666666666666675L190,16.666666666666675L210,16.666666666666675L230,16.666666666666675L250,16.666666666666675L270,16.666666666666675L290,16.666666666666675L310,16.666666666666675L330,16.666666666666675L350,16.666666666666675L370,16.666666666666675L390,16.666666666666675L410,16.666666666666675L430,16.666666666666675L450,16.666666666666675L470,16.666666666666675L490,16.666666666666675L510,16.666666666666675L530,16.666666666666675L550,16.666666666666675L570,16.666666666666675L590,16.666666666666675L610,16.666666666666675L630,16.666666666666675L650,16.666666666666675L670,16.666666666666675L690,16.666666666666675L710,16.666666666666675L710,16.666666666666675L690,16.666666666666675L670,16.666666666666675L650,16.666666666666675L630,16.666666666666675L610,16.666666666666675L590,16.666666666666675L570,16.666666666666675L550,16.666666666666675L530,16.666666666666675L510,16.666666666666675L490,16.666666666666675L470,16.666666666666675L450,16.666666666666675L430,16.666666666666675L410,16.666666666666675L390,16.666666666666675L370,16.666666666666675L350,16.666666666666675L330,16.666666666666675L310,16.666666666666675L290,108.54494853902472L270,108.54494853902472L250,108.54494853902472L230,108.54494853902472L210,108.54494853902472L190,16.666666666666675L170,16.666666666666675L150,16.666666666666675L130,16.666666666666675L110,16.666666666666675L90,16.66666666666645L70,16.66666666666645L50,16.66666666666645L30,16.66666666666645L10,183.33333333333331Z\" fill=\"#f58518\"/></g></g><path class=\"foreground\" aria-hidden=\"true\" d=\"\" display=\"none\"/></g><g transform=\"translate(0,0)\"><path class=\"background\" aria-hidden=\"true\" d=\"M0,0h720v200h-720Z\"/><g><g class=\"mark-area role-mark marks\" role=\"graphics-object\" aria-roledescription=\"area mark container\"><path aria-label=\"year: 2020; Value-chain adopted (%): 0; variable: x144\" role=\"graphics-symbol\" aria-roledescription=\"area mark\" d=\"M10,183.33333333333331L30,16.66666666666645L50,16.66666666666645L70,16.66666666666645L90,16.66666666666645L110,16.666666666666675L130,16.666666666666675L150,16.666666666666675L170,16.666666666666675L190,16.666666666666675L210,108.54494853902472L230,108.54494853902472L250,108.54494853902472L270,108.54494853902472L290,108.54494853902472L310,16.666666666666675L330,16.666666666666675L350,16.666666666666675L370,16.666666666666675L390,16.666666666666675L410,16.666666666666675L430,16.666666666666675L450,16.666666666666675L470,16.666666666666675L490,16.666666666666675L510,16.666666666666675L530,16.666666666666675L550,16.666666666666675L570,16.666666666666675L590,16.666666666666675L610,16.666666666666675L630,16.666666666666675L650,16.666666666666675L670,16.666666666666675L690,16.666666666666675L710,16.666666666666675L710,16.666666666666675L690,16.666666666666675L670,16.666666666666675L650,16.666666666666675L630,16.666666666666675L610,16.666666666666675L590,16.666666666666675L570,16.666666666666675L550,16.666666666666675L530,16.666666666666675L510,16.666666666666675L490,16.666666666666675L470,16.666666666666675L450,16.666666666666675L430,16.666666666666675L410,16.666666666666675L390,16.666666666666675L370,16.666666666666675L350,16.666666666666675L330,16.666666666666675L310,16.666666666666675L290,108.54494853902472L270,108.54494853902472L250,108.54494853902472L230,108.54494853902472L210,108.54494853902472L190,16.666666666666675L170,16.666666666666675L150,16.666666666666675L130,16.666666666666675L110,16.666666666666675L90,183.33333333333331L70,183.33333333333331L50,183.33333333333331L30,183.33333333333331L10,183.33333333333331Z\" fill=\"#e45756\"/></g></g><path class=\"foreground\" aria-hidden=\"true\" d=\"\" display=\"none\"/></g><g transform=\"translate(0,0)\"><path class=\"background\" aria-hidden=\"true\" d=\"M0,0h720v200h-720Z\"/><g><g class=\"mark-area role-mark marks\" role=\"graphics-object\" aria-roledescription=\"area mark container\"><path aria-label=\"year: 2020; Value-chain adopted (%): 0; variable: x156\" role=\"graphics-symbol\" aria-roledescription=\"area mark\" d=\"M10,183.33333333333331L30,183.33333333333331L50,183.33333333333331L70,183.33333333333331L90,183.33333333333331L110,16.666666666666675L130,16.666666666666675L150,16.666666666666675L170,16.666666666666675L190,16.666666666666675L210,108.54494853902472L230,108.54494853902472L250,108.54494853902472L270,108.54494853902472L290,108.54494853902472L310,16.666666666666675L330,16.666666666666675L350,16.666666666666675L370,16.666666666666675L390,16.666666666666675L410,16.666666666666675L430,16.666666666666675L450,16.666666666666675L470,16.666666666666675L490,16.666666666666675L510,16.666666666666675L530,16.666666666666675L550,16.666666666666675L570,16.666666666666675L590,16.666666666666675L610,16.666666666666675L630,16.666666666666675L650,16.666666666666675L670,16.666666666666675L690,16.666666666666675L710,16.666666666666675L710,108.05847502653148L690,108.05847502653148L670,108.05847502653148L650,108.05847502653148L630,108.05847502653148L610,108.05847502653148L590,108.05847502653148L570,108.05847502653148L550,108.05847502653148L530,108.05847502653148L510,108.05847502653148L490,16.666666666666675L470,16.666666666666675L450,16.666666666666675L430,16.666666666666675L410,16.666666666666675L390,103.64397146832003L370,103.64397146832003L350,103.64397146832003L330,103.64397146832003L310,103.64397146832003L290,108.54494853902472L270,108.54494853902472L250,108.54494853902472L230,108.54494853902472L210,108.54494853902472L190,16.666666666666675L170,16.666666666666675L150,16.666666666666675L130,16.666666666666675L110,16.666666666666675L90,183.33333333333331L70,183.33333333333331L50,183.33333333333331L30,183.33333333333331L10,183.33333333333331Z\" fill=\"#72b7b2\"/></g></g><path class=\"foreground\" aria-hidden=\"true\" d=\"\" display=\"none\"/></g><g transform=\"translate(0,0)\"><path class=\"background\" aria-hidden=\"true\" d=\"M0,0h720v200h-720Z\"/><g><g class=\"mark-area role-mark marks\" role=\"graphics-object\" aria-roledescription=\"area mark container\"><path aria-label=\"year: 2020; Value-chain adopted (%): 0; variable: x161\" role=\"graphics-symbol\" aria-roledescription=\"area mark\" d=\"M10,183.33333333333331L30,183.33333333333331L50,183.33333333333331L70,183.33333333333331L90,183.33333333333331L110,16.666666666666675L130,16.666666666666675L150,16.666666666666675L170,16.666666666666675L190,16.666666666666675L210,108.54494853902472L230,108.54494853902472L250,108.54494853902472L270,108.54494853902472L290,108.54494853902472L310,103.64397146832003L330,103.64397146832003L350,103.64397146832003L370,103.64397146832003L390,103.64397146832003L410,16.666666666666675L430,16.666666666666675L450,16.666666666666675L470,16.666666666666675L490,16.666666666666675L510,108.05847502653148L530,108.05847502653148L550,108.05847502653148L570,108.05847502653148L590,108.05847502653148L610,108.05847502653148L630,108.05847502653148L650,108.05847502653148L670,108.05847502653148L690,108.05847502653148L710,108.05847502653148L710,108.05847502653148L690,108.05847502653148L670,108.05847502653148L650,108.05847502653148L630,108.05847502653148L610,108.05847502653148L590,108.05847502653148L570,108.05847502653148L550,108.05847502653148L530,108.05847502653148L510,108.05847502653148L490,107.22286210960068L470,107.22286210960068L450,107.22286210960068L430,107.22286210960068L410,107.22286210960068L390,103.64397146832003L370,103.64397146832003L350,103.64397146832003L330,103.64397146832003L310,103.64397146832003L290,108.54494853902472L270,108.54494853902472L250,108.54494853902472L230,108.54494853902472L210,108.54494853902472L190,16.666666666666675L170,16.666666666666675L150,16.666666666666675L130,16.666666666666675L110,16.666666666666675L90,183.33333333333331L70,183.33333333333331L50,183.33333333333331L30,183.33333333333331L10,183.33333333333331Z\" fill=\"#54a24b\"/></g></g><path class=\"foreground\" aria-hidden=\"true\" d=\"\" display=\"none\"/></g><g transform=\"translate(0,0)\"><path class=\"background\" aria-hidden=\"true\" d=\"M0,0h720v200h-720Z\"/><g><g class=\"mark-area role-mark marks\" role=\"graphics-object\" aria-roledescription=\"area mark container\"><path aria-label=\"year: 2020; Value-chain adopted (%): 0; variable: x196\" role=\"graphics-symbol\" aria-roledescription=\"area mark\" d=\"M10,183.33333333333331L30,183.33333333333331L50,183.33333333333331L70,183.33333333333331L90,183.33333333333331L110,16.666666666666675L130,16.666666666666675L150,16.666666666666675L170,16.666666666666675L190,16.666666666666675L210,108.54494853902472L230,108.54494853902472L250,108.54494853902472L270,108.54494853902472L290,108.54494853902472L310,103.64397146832003L330,103.64397146832003L350,103.64397146832003L370,103.64397146832003L390,103.64397146832003L410,107.22286210960068L430,107.22286210960068L450,107.22286210960068L470,107.22286210960068L490,107.22286210960068L510,108.05847502653148L530,108.05847502653148L550,108.05847502653148L570,108.05847502653148L590,108.05847502653148L610,108.05847502653148L630,108.05847502653148L650,108.05847502653148L670,108.05847502653148L690,108.05847502653148L710,108.05847502653148L710,108.05847502653148L690,108.05847502653148L670,108.05847502653148L650,108.05847502653148L630,108.05847502653148L610,108.05847502653148L590,108.05847502653148L570,108.05847502653148L550,108.05847502653148L530,108.05847502653148L510,108.05847502653148L490,107.22286210960068L470,107.22286210960068L450,107.22286210960068L430,107.22286210960068L410,107.22286210960068L390,103.64397146832003L370,103.64397146832003L350,103.64397146832003L330,103.64397146832003L310,103.64397146832003L290,108.54494853902472L270,108.54494853902472L250,108.54494853902472L230,108.54494853902472L210,108.54494853902472L190,183.33333333333331L170,183.33333333333331L150,183.33333333333331L130,183.33333333333331L110,183.33333333333331L90,183.33333333333331L70,183.33333333333331L50,183.33333333333331L30,183.33333333333331L10,183.33333333333331Z\" fill=\"#eeca3b\"/></g></g><path class=\"foreground\" aria-hidden=\"true\" d=\"\" display=\"none\"/></g><g transform=\"translate(0,0)\"><path class=\"background\" aria-hidden=\"true\" d=\"M0,0h720v200h-720Z\"/><g><g class=\"mark-area role-mark marks\" role=\"graphics-object\" aria-roledescription=\"area mark container\"><path aria-label=\"year: 2020; Value-chain adopted (%): 0; variable: x199\" role=\"graphics-symbol\" aria-roledescription=\"area mark\" d=\"M10,183.33333333333331L30,183.33333333333331L50,183.33333333333331L70,183.33333333333331L90,183.33333333333331L110,183.33333333333331L130,183.33333333333331L150,183.33333333333331L170,183.33333333333331L190,183.33333333333331L210,108.54494853902472L230,108.54494853902472L250,108.54494853902472L270,108.54494853902472L290,108.54494853902472L310,103.64397146832003L330,103.64397146832003L350,103.64397146832003L370,103.64397146832003L390,103.64397146832003L410,107.22286210960068L430,107.22286210960068L450,107.22286210960068L470,107.22286210960068L490,107.22286210960068L510,108.05847502653148L530,108.05847502653148L550,108.05847502653148L570,108.05847502653148L590,108.05847502653148L610,108.05847502653148L630,108.05847502653148L650,108.05847502653148L670,108.05847502653148L690,108.05847502653148L710,108.05847502653148L710,108.05847502653148L690,108.05847502653148L670,108.05847502653148L650,108.05847502653148L630,108.05847502653148L610,108.05847502653148L590,108.05847502653148L570,108.05847502653148L550,108.05847502653148L530,108.05847502653148L510,108.05847502653148L490,183.33333333333331L470,183.33333333333331L450,183.33333333333331L430,183.33333333333331L410,183.33333333333331L390,103.64397146832003L370,103.64397146832003L350,103.64397146832003L330,103.64397146832003L310,103.64397146832003L290,183.33333333333331L270,183.33333333333331L250,183.33333333333331L230,183.33333333333331L210,183.33333333333331L190,183.33333333333331L170,183.33333333333331L150,183.33333333333331L130,183.33333333333331L110,183.33333333333331L90,183.33333333333331L70,183.33333333333331L50,183.33333333333331L30,183.33333333333331L10,183.33333333333331Z\" fill=\"#b279a2\"/></g></g><path class=\"foreground\" aria-hidden=\"true\" d=\"\" display=\"none\"/></g><g transform=\"translate(0,0)\"><path class=\"background\" aria-hidden=\"true\" d=\"M0,0h720v200h-720Z\"/><g><g class=\"mark-area role-mark marks\" role=\"graphics-object\" aria-roledescription=\"area mark container\"><path aria-label=\"year: 2020; Value-chain adopted (%): 0; variable: x200\" role=\"graphics-symbol\" aria-roledescription=\"area mark\" d=\"M10,183.33333333333331L30,183.33333333333331L50,183.33333333333331L70,183.33333333333331L90,183.33333333333331L110,183.33333333333331L130,183.33333333333331L150,183.33333333333331L170,183.33333333333331L190,183.33333333333331L210,183.33333333333331L230,183.33333333333331L250,183.33333333333331L270,183.33333333333331L290,183.33333333333331L310,103.64397146832003L330,103.64397146832003L350,103.64397146832003L370,103.64397146832003L390,103.64397146832003L410,183.33333333333331L430,183.33333333333331L450,183.33333333333331L470,183.33333333333331L490,183.33333333333331L510,108.05847502653148L530,108.05847502653148L550,108.05847502653148L570,108.05847502653148L590,108.05847502653148L610,108.05847502653148L630,108.05847502653148L650,108.05847502653148L670,108.05847502653148L690,108.05847502653148L710,108.05847502653148L710,183.33333333333331L690,183.33333333333331L670,183.33333333333331L650,183.33333333333331L630,183.33333333333331L610,183.33333333333331L590,183.33333333333331L570,183.33333333333331L550,183.33333333333331L530,183.33333333333331L510,183.33333333333331L490,183.33333333333331L470,183.33333333333331L450,183.33333333333331L430,183.33333333333331L410,183.33333333333331L390,183.33333333333331L370,183.33333333333331L350,183.33333333333331L330,183.33333333333331L310,183.33333333333331L290,183.33333333333331L270,183.33333333333331L250,183.33333333333331L230,183.33333333333331L210,183.33333333333331L190,183.33333333333331L170,183.33333333333331L150,183.33333333333331L130,183.33333333333331L110,183.33333333333331L90,183.33333333333331L70,183.33333333333331L50,183.33333333333331L30,183.33333333333331L10,183.33333333333331Z\" fill=\"#ff9da6\"/></g></g><path class=\"foreground\" aria-hidden=\"true\" d=\"\" display=\"none\"/></g></g><g class=\"mark-group role-legend\" role=\"graphics-symbol\" aria-roledescription=\"legend\" aria-label=\"Symbol legend titled 'variable' for fill color with 8 values: Conv, x143, x144, x156, x161, ending with x200\"><g transform=\"translate(738,0)\"><path class=\"background\" aria-hidden=\"true\" d=\"M0,0h49v118h-49Z\" pointer-events=\"none\"/><g><g class=\"mark-group role-legend-entry\"><g transform=\"translate(0,16)\"><path class=\"background\" aria-hidden=\"true\" d=\"M0,0h0v0h0Z\" pointer-events=\"none\"/><g><g class=\"mark-group role-scope\" role=\"graphics-object\" aria-roledescription=\"group mark container\"><g transform=\"translate(0,0)\"><path class=\"background\" aria-hidden=\"true\" d=\"M0,0h41v11h-41Z\" pointer-events=\"none\" opacity=\"1\"/><g><g class=\"mark-symbol role-legend-symbol\" pointer-events=\"none\"><path transform=\"translate(6,6)\" d=\"M5,0A5,5,0,1,1,-5,0A5,5,0,1,1,5,0\" fill=\"#4c78a8\" stroke-width=\"1.5\" opacity=\"1\"/></g><g class=\"mark-text role-legend-label\" pointer-events=\"none\"><text text-anchor=\"start\" transform=\"translate(16,9)\" font-family=\"sans-serif\" font-size=\"10px\" fill=\"#000\" opacity=\"1\">Conv</text></g></g><path class=\"foreground\" aria-hidden=\"true\" d=\"\" pointer-events=\"none\" display=\"none\"/></g><g transform=\"translate(0,13)\"><path class=\"background\" aria-hidden=\"true\" d=\"M0,0h41v11h-41Z\" pointer-events=\"none\" opacity=\"1\"/><g><g class=\"mark-symbol role-legend-symbol\" pointer-events=\"none\"><path transform=\"translate(6,6)\" d=\"M5,0A5,5,0,1,1,-5,0A5,5,0,1,1,5,0\" fill=\"#f58518\" stroke-width=\"1.5\" opacity=\"1\"/></g><g class=\"mark-text role-legend-label\" pointer-events=\"none\"><text text-anchor=\"start\" transform=\"translate(16,9)\" font-family=\"sans-serif\" font-size=\"10px\" fill=\"#000\" opacity=\"1\">x143</text></g></g><path class=\"foreground\" aria-hidden=\"true\" d=\"\" pointer-events=\"none\" display=\"none\"/></g><g transform=\"translate(0,26)\"><path class=\"background\" aria-hidden=\"true\" d=\"M0,0h41v11h-41Z\" pointer-events=\"none\" opacity=\"1\"/><g><g class=\"mark-symbol role-legend-symbol\" pointer-events=\"none\"><path transform=\"translate(6,6)\" d=\"M5,0A5,5,0,1,1,-5,0A5,5,0,1,1,5,0\" fill=\"#e45756\" stroke-width=\"1.5\" opacity=\"1\"/></g><g class=\"mark-text role-legend-label\" pointer-events=\"none\"><text text-anchor=\"start\" transform=\"translate(16,9)\" font-family=\"sans-serif\" font-size=\"10px\" fill=\"#000\" opacity=\"1\">x144</text></g></g><path class=\"foreground\" aria-hidden=\"true\" d=\"\" pointer-events=\"none\" display=\"none\"/></g><g transform=\"translate(0,39)\"><path class=\"background\" aria-hidden=\"true\" d=\"M0,0h41v11h-41Z\" pointer-events=\"none\" opacity=\"1\"/><g><g class=\"mark-symbol role-legend-symbol\" pointer-events=\"none\"><path transform=\"translate(6,6)\" d=\"M5,0A5,5,0,1,1,-5,0A5,5,0,1,1,5,0\" fill=\"#72b7b2\" stroke-width=\"1.5\" opacity=\"1\"/></g><g class=\"mark-text role-legend-label\" pointer-events=\"none\"><text text-anchor=\"start\" transform=\"translate(16,9)\" font-family=\"sans-serif\" font-size=\"10px\" fill=\"#000\" opacity=\"1\">x156</text></g></g><path class=\"foreground\" aria-hidden=\"true\" d=\"\" pointer-events=\"none\" display=\"none\"/></g><g transform=\"translate(0,52)\"><path class=\"background\" aria-hidden=\"true\" d=\"M0,0h41v11h-41Z\" pointer-events=\"none\" opacity=\"1\"/><g><g class=\"mark-symbol role-legend-symbol\" pointer-events=\"none\"><path transform=\"translate(6,6)\" d=\"M5,0A5,5,0,1,1,-5,0A5,5,0,1,1,5,0\" fill=\"#54a24b\" stroke-width=\"1.5\" opacity=\"1\"/></g><g class=\"mark-text role-legend-label\" pointer-events=\"none\"><text text-anchor=\"start\" transform=\"translate(16,9)\" font-family=\"sans-serif\" font-size=\"10px\" fill=\"#000\" opacity=\"1\">x161</text></g></g><path class=\"foreground\" aria-hidden=\"true\" d=\"\" pointer-events=\"none\" display=\"none\"/></g><g transform=\"translate(0,65)\"><path class=\"background\" aria-hidden=\"true\" d=\"M0,0h41v11h-41Z\" pointer-events=\"none\" opacity=\"1\"/><g><g class=\"mark-symbol role-legend-symbol\" pointer-events=\"none\"><path transform=\"translate(6,6)\" d=\"M5,0A5,5,0,1,1,-5,0A5,5,0,1,1,5,0\" fill=\"#eeca3b\" stroke-width=\"1.5\" opacity=\"1\"/></g><g class=\"mark-text role-legend-label\" pointer-events=\"none\"><text text-anchor=\"start\" transform=\"translate(16,9)\" font-family=\"sans-serif\" font-size=\"10px\" fill=\"#000\" opacity=\"1\">x196</text></g></g><path class=\"foreground\" aria-hidden=\"true\" d=\"\" pointer-events=\"none\" display=\"none\"/></g><g transform=\"translate(0,78)\"><path class=\"background\" aria-hidden=\"true\" d=\"M0,0h41v11h-41Z\" pointer-events=\"none\" opacity=\"1\"/><g><g class=\"mark-symbol role-legend-symbol\" pointer-events=\"none\"><path transform=\"translate(6,6)\" d=\"M5,0A5,5,0,1,1,-5,0A5,5,0,1,1,5,0\" fill=\"#b279a2\" stroke-width=\"1.5\" opacity=\"1\"/></g><g class=\"mark-text role-legend-label\" pointer-events=\"none\"><text text-anchor=\"start\" transform=\"translate(16,9)\" font-family=\"sans-serif\" font-size=\"10px\" fill=\"#000\" opacity=\"1\">x199</text></g></g><path class=\"foreground\" aria-hidden=\"true\" d=\"\" pointer-events=\"none\" display=\"none\"/></g><g transform=\"translate(0,91)\"><path class=\"background\" aria-hidden=\"true\" d=\"M0,0h41v11h-41Z\" pointer-events=\"none\" opacity=\"1\"/><g><g class=\"mark-symbol role-legend-symbol\" pointer-events=\"none\"><path transform=\"translate(6,6)\" d=\"M5,0A5,5,0,1,1,-5,0A5,5,0,1,1,5,0\" fill=\"#ff9da6\" stroke-width=\"1.5\" opacity=\"1\"/></g><g class=\"mark-text role-legend-label\" pointer-events=\"none\"><text text-anchor=\"start\" transform=\"translate(16,9)\" font-family=\"sans-serif\" font-size=\"10px\" fill=\"#000\" opacity=\"1\">x200</text></g></g><path class=\"foreground\" aria-hidden=\"true\" d=\"\" pointer-events=\"none\" display=\"none\"/></g></g></g><path class=\"foreground\" aria-hidden=\"true\" d=\"\" pointer-events=\"none\" display=\"none\"/></g></g><g class=\"mark-text role-legend-title\" pointer-events=\"none\"><text text-anchor=\"start\" transform=\"translate(0,9)\" font-family=\"sans-serif\" font-size=\"11px\" font-weight=\"bold\" fill=\"#000\" opacity=\"1\">variable</text></g></g><path class=\"foreground\" aria-hidden=\"true\" d=\"\" pointer-events=\"none\" display=\"none\"/></g></g></g><path class=\"foreground\" aria-hidden=\"true\" d=\"\" display=\"none\"/></g></g></g></svg>\n"
      ],
      "text/plain": [
       "@vlplot(\n",
       "    legend=\"sNames\",\n",
       "    mark=\"area\",\n",
       "    encoding={\n",
       "        x={\n",
       "            field=\"year\"\n",
       "        },\n",
       "        y={\n",
       "            stack=\"zero\",\n",
       "            title=\"Value-chain adopted (%)\",\n",
       "            field=\"value\"\n",
       "        },\n",
       "        color={\n",
       "            field=\"variable\",\n",
       "            type=\"nominal\"\n",
       "        }\n",
       "    },\n",
       "    data={\n",
       "        values=...\n",
       "    }\n",
       ")"
      ]
     },
     "execution_count": 78,
     "metadata": {},
     "output_type": "execute_result"
    }
   ],
   "source": [
    "#only for this result\n",
    "\n",
    "function conventional(i1,t)\n",
    "    if t==0\n",
    "        if mod(i1,5)≥mod(sum(round.(JuMP.values.(tk)[1:nrow(compromise),t+1];digits=2)),5) && sum(JuMP.values.(xk)[1:nrow(compromise),t+1]) > 0\n",
    "            return (1-sum(JuMP.values.(xk)[k,t+1] for k in 1:nrow(compromise)))\n",
    "        else\n",
    "            return 0\n",
    "        end\n",
    "    else\n",
    "        sum_xks_atT=0\n",
    "        for k1 in 1:nrow(compromise)\n",
    "            if mod(i1,5)≥mod(round(JuMP.values.(tk)[k1,t+1];digits=2),5) && sum(JuMP.values.(xk)[k1,t:t+1])>0 && t>0\n",
    "                sum_xks_atT+=JuMP.values.(xk)[k1,t+1]\n",
    "            else\n",
    "                sum_xks_atT+=JuMP.values.(xk)[k1,t]\n",
    "            end\n",
    "        end\n",
    "            \n",
    "        #if mod(i1,5)≥mod(round(sum(JuMP.values.(tk)[1:nrow(compromise),t+1]);digits=2),5) && sum(JuMP.values.(xk)[1:nrow(compromise),t:t+1])>0 && t>0\n",
    "        #    t=t+1\n",
    "        #end\n",
    "        #return (1-sum(JuMP.values.(xk)[k,t] for k in 1:nrow(compromise)))\n",
    "        return (1-sum_xks_atT)\n",
    "    end\n",
    "end\n",
    "\n",
    "function innovation(i1,k1,t)\n",
    "    if t==0 \n",
    "        if mod(i1,5)≥mod(round(JuMP.values.(tk)[k1,t+1];digits=2),5) && JuMP.values.(xk)[k1,t+1] > 0\n",
    "            t=1\n",
    "            return (sum(JuMP.values.(xk)[k,t] for k=k1:k1))            \n",
    "        else\n",
    "            return 0\n",
    "        end\n",
    "    end\n",
    "    if mod(i1,5)≥mod(round(JuMP.values.(tk)[k1,t+1];digits=2),5) && sum(JuMP.values.(xk)[k1,t:t+1])>0 && t>0\n",
    "        t=t+1\n",
    "    end\n",
    "    return sum(JuMP.values.(xk)[k,t] for k=k1:k1)\n",
    "end\n",
    "\n",
    "conv=zeros(51)\n",
    "\n",
    "conv[1]=100\n",
    "inn_co2=zeros(nrow(compromise),51)\n",
    "\n",
    "for k in 1:nrow(compromise)\n",
    "    inn_co2[k,1]=0\n",
    "end\n",
    "j=0\n",
    "for t in 2:51\n",
    "    if 0 ≤ t ≤ 5\n",
    "        j=0\n",
    "    elseif 6 ≤ t ≤ 10\n",
    "        j=1\n",
    "    elseif 6 ≤ t ≤ 10\n",
    "        j=2\n",
    "    elseif 11 ≤ t ≤ 15\n",
    "        j=3\n",
    "    elseif 16 ≤ t ≤ 20\n",
    "        j=4\n",
    "    elseif 21 ≤ t ≤ 25\n",
    "        j=5\n",
    "    else\n",
    "        j=6\n",
    "    end\n",
    "    \n",
    "    \n",
    "    \n",
    "    conv[t]=100*conventional(t,j)\n",
    "    for k in 1:nrow(compromise)\n",
    "        \n",
    "        inn_co2[k,t]=100*innovation(t,k,j)\n",
    "    end\n",
    "end\n",
    "#conv[1:5].=initial[1,3]\n",
    "\n",
    "sNames = [\"conv\",\"inn1\",\"inn2\",\"inn3\",\"inn4\",\"inn5\",\"inn6\",\"inn7\",\"inn8\",\"inn9\",\"inn10\"]\n",
    "xLabels = []\n",
    "for i in 2020:2070\n",
    "    push!(xLabels,string(i))\n",
    "end\n",
    "\n",
    "#df = DataFrame(year=xLabels, conv=conv, inn1=inn_co2[1,:],inn2=inn_co2[2,:],inn3=inn_co2[3,:],inn4=inn_co2[4,:],\n",
    "#        inn5=inn_co2[5,:],inn6=inn_co2[6,:],inn7=inn_co2[7,:],inn8=inn_co2[8,:],inn9=inn_co2[9,:],inn10=inn_co2[10,:])\n",
    "df = DataFrame(vcat(conv',inn_co2)',:auto)\n",
    "\n",
    "\n",
    "df=df[1:36,:]\n",
    "\n",
    "df=df[!, any.(>(0), eachcol(df))]\n",
    "df[!,:year]=xLabels[1:36]\n",
    "#rename!(df,[:x1,:x93,:x218,:x222] .=> [:Conv,:pyLDPE1,:alcPLA2,:alcPLA6])\n",
    "#df[!,:pyLDPE11]=zeros(36)\n",
    "rename!(df,[:x1] .=> [:Conv])\n",
    "#df[!,:x104]=zeros(36)\n",
    "#df[!,:x201]=zeros(36)\n",
    "\n",
    "#rename!(df,[:x94,:x95,:x104,:x109,:x196,:x198,:x199,:x200,:x201] .=> [:LABS12,:LABS13,:LABS22,:LABS27,:RecyclPLA2,:RecyclPLA4,:RecyclPLA5,:RecyclPLA6,:RecyclPLA7])\n",
    "\n",
    "split_yearly=df |> stack |> @vlplot(:area, x=:year, y={:value, stack=:zero, title=\"Value-chain adopted (%)\"}, color=\"variable:n\",legend=:sNames) \n",
    "\n",
    "#save(\"./result-case-roadmap/split_yearly-sc2.svg\", split_yearly)\n",
    "split_yearly\n",
    "\n"
   ]
  },
  {
   "cell_type": "code",
   "execution_count": 79,
   "id": "ffaef1be",
   "metadata": {},
   "outputs": [
    {
     "data": {
      "application/vnd.vegalite.v4+json": {
       "data": {
        "values": [
         {
          "value": 0,
          "variable": "x142",
          "year": 5
         },
         {
          "value": 0,
          "variable": "x142",
          "year": 10
         },
         {
          "value": 0,
          "variable": "x142",
          "year": 15
         },
         {
          "value": 0.5512696912341484,
          "variable": "x142",
          "year": 20
         },
         {
          "value": 0,
          "variable": "x142",
          "year": 25
         },
         {
          "value": 0,
          "variable": "x142",
          "year": 30
         },
         {
          "value": 0,
          "variable": "x142",
          "year": 35
         },
         {
          "value": 0,
          "variable": "x142",
          "year": 0
         },
         {
          "value": 1.0000000000000013,
          "variable": "x143",
          "year": 5
         },
         {
          "value": 0,
          "variable": "x143",
          "year": 10
         },
         {
          "value": 0,
          "variable": "x143",
          "year": 15
         },
         {
          "value": 0,
          "variable": "x143",
          "year": 20
         },
         {
          "value": 0,
          "variable": "x143",
          "year": 25
         },
         {
          "value": 0,
          "variable": "x143",
          "year": 30
         },
         {
          "value": 0,
          "variable": "x143",
          "year": 35
         },
         {
          "value": 0,
          "variable": "x143",
          "year": 0
         },
         {
          "value": 0,
          "variable": "x149",
          "year": 5
         },
         {
          "value": 0,
          "variable": "x149",
          "year": 10
         },
         {
          "value": 0.5331131579671016,
          "variable": "x149",
          "year": 15
         },
         {
          "value": 0,
          "variable": "x149",
          "year": 20
         },
         {
          "value": 0,
          "variable": "x149",
          "year": 25
         },
         {
          "value": 0,
          "variable": "x149",
          "year": 30
         },
         {
          "value": 0,
          "variable": "x149",
          "year": 35
         },
         {
          "value": 0,
          "variable": "x149",
          "year": 0
         },
         {
          "value": 0,
          "variable": "x155",
          "year": 5
         },
         {
          "value": 0,
          "variable": "x155",
          "year": 10
         },
         {
          "value": 0,
          "variable": "x155",
          "year": 15
         },
         {
          "value": 0,
          "variable": "x155",
          "year": 20
         },
         {
          "value": 0.5218638288099201,
          "variable": "x155",
          "year": 25
         },
         {
          "value": 0,
          "variable": "x155",
          "year": 30
         },
         {
          "value": 0.5483508501591889,
          "variable": "x155",
          "year": 35
         },
         {
          "value": 0,
          "variable": "x155",
          "year": 0
         },
         {
          "value": 0,
          "variable": "x160",
          "year": 5
         },
         {
          "value": 0,
          "variable": "x160",
          "year": 10
         },
         {
          "value": 0,
          "variable": "x160",
          "year": 15
         },
         {
          "value": 0,
          "variable": "x160",
          "year": 20
         },
         {
          "value": 0,
          "variable": "x160",
          "year": 25
         },
         {
          "value": 0.5433371726576041,
          "variable": "x160",
          "year": 30
         },
         {
          "value": 0,
          "variable": "x160",
          "year": 35
         },
         {
          "value": 0,
          "variable": "x160",
          "year": 0
         },
         {
          "value": 0,
          "variable": "x195",
          "year": 5
         },
         {
          "value": 1,
          "variable": "x195",
          "year": 10
         },
         {
          "value": 0,
          "variable": "x195",
          "year": 15
         },
         {
          "value": 0,
          "variable": "x195",
          "year": 20
         },
         {
          "value": 0,
          "variable": "x195",
          "year": 25
         },
         {
          "value": 0,
          "variable": "x195",
          "year": 30
         },
         {
          "value": 0,
          "variable": "x195",
          "year": 35
         },
         {
          "value": 0,
          "variable": "x195",
          "year": 0
         },
         {
          "value": 0,
          "variable": "x198",
          "year": 5
         },
         {
          "value": 0,
          "variable": "x198",
          "year": 10
         },
         {
          "value": 0,
          "variable": "x198",
          "year": 15
         },
         {
          "value": 0.4487303087658516,
          "variable": "x198",
          "year": 20
         },
         {
          "value": 0,
          "variable": "x198",
          "year": 25
         },
         {
          "value": 0.45666282734239594,
          "variable": "x198",
          "year": 30
         },
         {
          "value": 0,
          "variable": "x198",
          "year": 35
         },
         {
          "value": 0,
          "variable": "x198",
          "year": 0
         },
         {
          "value": 0,
          "variable": "x199",
          "year": 5
         },
         {
          "value": 0,
          "variable": "x199",
          "year": 10
         },
         {
          "value": 0,
          "variable": "x199",
          "year": 15
         },
         {
          "value": 0,
          "variable": "x199",
          "year": 20
         },
         {
          "value": 0.4781361711900799,
          "variable": "x199",
          "year": 25
         },
         {
          "value": 0,
          "variable": "x199",
          "year": 30
         },
         {
          "value": 0.4516491498408111,
          "variable": "x199",
          "year": 35
         },
         {
          "value": 0,
          "variable": "x199",
          "year": 0
         },
         {
          "value": 0,
          "variable": "x200",
          "year": 5
         },
         {
          "value": 0,
          "variable": "x200",
          "year": 10
         },
         {
          "value": 0.46688684203289843,
          "variable": "x200",
          "year": 15
         },
         {
          "value": 0,
          "variable": "x200",
          "year": 20
         },
         {
          "value": 0,
          "variable": "x200",
          "year": 25
         },
         {
          "value": 0,
          "variable": "x200",
          "year": 30
         },
         {
          "value": 0,
          "variable": "x200",
          "year": 35
         },
         {
          "value": 0,
          "variable": "x200",
          "year": 0
         },
         {
          "value": 0,
          "variable": "Conv",
          "year": 5
         },
         {
          "value": 0,
          "variable": "Conv",
          "year": 10
         },
         {
          "value": 0,
          "variable": "Conv",
          "year": 15
         },
         {
          "value": 0,
          "variable": "Conv",
          "year": 20
         },
         {
          "value": 0,
          "variable": "Conv",
          "year": 25
         },
         {
          "value": 0,
          "variable": "Conv",
          "year": 30
         },
         {
          "value": 0,
          "variable": "Conv",
          "year": 35
         },
         {
          "value": 1,
          "variable": "Conv",
          "year": 0
         }
        ]
       },
       "encoding": {
        "color": {
         "field": "variable",
         "type": "nominal"
        },
        "x": {
         "field": "year",
         "type": "quantitative"
        },
        "y": {
         "field": "value",
         "stack": "zero",
         "title": "xk",
         "type": "quantitative"
        }
       },
       "legend": "sNames",
       "mark": "area"
      },
      "image/png": "[encoded data removed]",
      "image/svg+xml": [
       "<?xml version=\"1.0\" encoding=\"utf-8\"?>\n",
       "<!DOCTYPE svg PUBLIC \"-//W3C//DTD SVG 1.1//EN\" \"http://www.w3.org/Graphics/SVG/1.1/DTD/svg11.dtd\">\n",
       "<svg xmlns=\"http://www.w3.org/2000/svg\" xmlns:xlink=\"http://www.w3.org/1999/xlink\" version=\"1.1\" class=\"marks\" width=\"314\" height=\"242\" viewBox=\"0 0 314 242\"><rect width=\"314\" height=\"242\" fill=\"white\"/><g fill=\"none\" stroke-miterlimit=\"10\" transform=\"translate(42,5)\"><g class=\"mark-group role-frame root\" role=\"graphics-object\" aria-roledescription=\"group mark container\"><g transform=\"translate(0,0)\"><path class=\"background\" aria-hidden=\"true\" d=\"M0.5,0.5h200v200h-200Z\" stroke=\"#ddd\"/><g><g class=\"mark-group role-axis\" aria-hidden=\"true\"><g transform=\"translate(0.5,200.5)\"><path class=\"background\" aria-hidden=\"true\" d=\"M0,0h0v0h0Z\" pointer-events=\"none\"/><g><g class=\"mark-rule role-axis-grid\" pointer-events=\"none\"><line transform=\"translate(0,-200)\" x2=\"0\" y2=\"200\" stroke=\"#ddd\" stroke-width=\"1\" opacity=\"1\"/><line transform=\"translate(29,-200)\" x2=\"0\" y2=\"200\" stroke=\"#ddd\" stroke-width=\"1\" opacity=\"1\"/><line transform=\"translate(57,-200)\" x2=\"0\" y2=\"200\" stroke=\"#ddd\" stroke-width=\"1\" opacity=\"1\"/><line transform=\"translate(86,-200)\" x2=\"0\" y2=\"200\" stroke=\"#ddd\" stroke-width=\"1\" opacity=\"1\"/><line transform=\"translate(114,-200)\" x2=\"0\" y2=\"200\" stroke=\"#ddd\" stroke-width=\"1\" opacity=\"1\"/><line transform=\"translate(143,-200)\" x2=\"0\" y2=\"200\" stroke=\"#ddd\" stroke-width=\"1\" opacity=\"1\"/><line transform=\"translate(171,-200)\" x2=\"0\" y2=\"200\" stroke=\"#ddd\" stroke-width=\"1\" opacity=\"1\"/><line transform=\"translate(200,-200)\" x2=\"0\" y2=\"200\" stroke=\"#ddd\" stroke-width=\"1\" opacity=\"1\"/></g></g><path class=\"foreground\" aria-hidden=\"true\" d=\"\" pointer-events=\"none\" display=\"none\"/></g></g><g class=\"mark-group role-axis\" aria-hidden=\"true\"><g transform=\"translate(0.5,0.5)\"><path class=\"background\" aria-hidden=\"true\" d=\"M0,0h0v0h0Z\" pointer-events=\"none\"/><g><g class=\"mark-rule role-axis-grid\" pointer-events=\"none\"><line transform=\"translate(0,200)\" x2=\"200\" y2=\"0\" stroke=\"#ddd\" stroke-width=\"1\" opacity=\"1\"/><line transform=\"translate(0,164)\" x2=\"200\" y2=\"0\" stroke=\"#ddd\" stroke-width=\"1\" opacity=\"1\"/><line transform=\"translate(0,127)\" x2=\"200\" y2=\"0\" stroke=\"#ddd\" stroke-width=\"1\" opacity=\"1\"/><line transform=\"translate(0,91)\" x2=\"200\" y2=\"0\" stroke=\"#ddd\" stroke-width=\"1\" opacity=\"1\"/><line transform=\"translate(0,55)\" x2=\"200\" y2=\"0\" stroke=\"#ddd\" stroke-width=\"1\" opacity=\"1\"/><line transform=\"translate(0,18)\" x2=\"200\" y2=\"0\" stroke=\"#ddd\" stroke-width=\"1\" opacity=\"1\"/></g></g><path class=\"foreground\" aria-hidden=\"true\" d=\"\" pointer-events=\"none\" display=\"none\"/></g></g><g class=\"mark-group role-axis\" role=\"graphics-symbol\" aria-roledescription=\"axis\" aria-label=\"X-axis titled 'year' for a linear scale with values from 0 to 35\"><g transform=\"translate(0.5,200.5)\"><path class=\"background\" aria-hidden=\"true\" d=\"M0,0h0v0h0Z\" pointer-events=\"none\"/><g><g class=\"mark-rule role-axis-tick\" pointer-events=\"none\"><line transform=\"translate(0,0)\" x2=\"0\" y2=\"5\" stroke=\"#888\" stroke-width=\"1\" opacity=\"1\"/><line transform=\"translate(29,0)\" x2=\"0\" y2=\"5\" stroke=\"#888\" stroke-width=\"1\" opacity=\"1\"/><line transform=\"translate(57,0)\" x2=\"0\" y2=\"5\" stroke=\"#888\" stroke-width=\"1\" opacity=\"1\"/><line transform=\"translate(86,0)\" x2=\"0\" y2=\"5\" stroke=\"#888\" stroke-width=\"1\" opacity=\"1\"/><line transform=\"translate(114,0)\" x2=\"0\" y2=\"5\" stroke=\"#888\" stroke-width=\"1\" opacity=\"1\"/><line transform=\"translate(143,0)\" x2=\"0\" y2=\"5\" stroke=\"#888\" stroke-width=\"1\" opacity=\"1\"/><line transform=\"translate(171,0)\" x2=\"0\" y2=\"5\" stroke=\"#888\" stroke-width=\"1\" opacity=\"1\"/><line transform=\"translate(200,0)\" x2=\"0\" y2=\"5\" stroke=\"#888\" stroke-width=\"1\" opacity=\"1\"/></g><g class=\"mark-text role-axis-label\" pointer-events=\"none\"><text text-anchor=\"start\" transform=\"translate(0,15)\" font-family=\"sans-serif\" font-size=\"10px\" fill=\"#000\" opacity=\"1\">0</text><text text-anchor=\"middle\" transform=\"translate(28.57142857142857,15)\" font-family=\"sans-serif\" font-size=\"10px\" fill=\"#000\" opacity=\"1\">5</text><text text-anchor=\"middle\" transform=\"translate(57.14285714285714,15)\" font-family=\"sans-serif\" font-size=\"10px\" fill=\"#000\" opacity=\"1\">10</text><text text-anchor=\"middle\" transform=\"translate(85.71428571428571,15)\" font-family=\"sans-serif\" font-size=\"10px\" fill=\"#000\" opacity=\"1\">15</text><text text-anchor=\"middle\" transform=\"translate(114.28571428571428,15)\" font-family=\"sans-serif\" font-size=\"10px\" fill=\"#000\" opacity=\"1\">20</text><text text-anchor=\"middle\" transform=\"translate(142.85714285714286,15)\" font-family=\"sans-serif\" font-size=\"10px\" fill=\"#000\" opacity=\"1\">25</text><text text-anchor=\"middle\" transform=\"translate(171.42857142857142,15)\" font-family=\"sans-serif\" font-size=\"10px\" fill=\"#000\" opacity=\"1\">30</text><text text-anchor=\"end\" transform=\"translate(200,15)\" font-family=\"sans-serif\" font-size=\"10px\" fill=\"#000\" opacity=\"1\">35</text></g><g class=\"mark-rule role-axis-domain\" pointer-events=\"none\"><line transform=\"translate(0,0)\" x2=\"200\" y2=\"0\" stroke=\"#888\" stroke-width=\"1\" opacity=\"1\"/></g><g class=\"mark-text role-axis-title\" pointer-events=\"none\"><text text-anchor=\"middle\" transform=\"translate(100,30)\" font-family=\"sans-serif\" font-size=\"11px\" font-weight=\"bold\" fill=\"#000\" opacity=\"1\">year</text></g></g><path class=\"foreground\" aria-hidden=\"true\" d=\"\" pointer-events=\"none\" display=\"none\"/></g></g><g class=\"mark-group role-axis\" role=\"graphics-symbol\" aria-roledescription=\"axis\" aria-label=\"Y-axis titled 'xk' for a linear scale with values from 0.0 to 1.1\"><g transform=\"translate(0.5,0.5)\"><path class=\"background\" aria-hidden=\"true\" d=\"M0,0h0v0h0Z\" pointer-events=\"none\"/><g><g class=\"mark-rule role-axis-tick\" pointer-events=\"none\"><line transform=\"translate(0,200)\" x2=\"-5\" y2=\"0\" stroke=\"#888\" stroke-width=\"1\" opacity=\"1\"/><line transform=\"translate(0,164)\" x2=\"-5\" y2=\"0\" stroke=\"#888\" stroke-width=\"1\" opacity=\"1\"/><line transform=\"translate(0,127)\" x2=\"-5\" y2=\"0\" stroke=\"#888\" stroke-width=\"1\" opacity=\"1\"/><line transform=\"translate(0,91)\" x2=\"-5\" y2=\"0\" stroke=\"#888\" stroke-width=\"1\" opacity=\"1\"/><line transform=\"translate(0,55)\" x2=\"-5\" y2=\"0\" stroke=\"#888\" stroke-width=\"1\" opacity=\"1\"/><line transform=\"translate(0,18)\" x2=\"-5\" y2=\"0\" stroke=\"#888\" stroke-width=\"1\" opacity=\"1\"/></g><g class=\"mark-text role-axis-label\" pointer-events=\"none\"><text text-anchor=\"end\" transform=\"translate(-7,203)\" font-family=\"sans-serif\" font-size=\"10px\" fill=\"#000\" opacity=\"1\">0.0</text><text text-anchor=\"end\" transform=\"translate(-7,166.63636363636363)\" font-family=\"sans-serif\" font-size=\"10px\" fill=\"#000\" opacity=\"1\">0.2</text><text text-anchor=\"end\" transform=\"translate(-7,130.27272727272725)\" font-family=\"sans-serif\" font-size=\"10px\" fill=\"#000\" opacity=\"1\">0.4</text><text text-anchor=\"end\" transform=\"translate(-7,93.90909090909092)\" font-family=\"sans-serif\" font-size=\"10px\" fill=\"#000\" opacity=\"1\">0.6</text><text text-anchor=\"end\" transform=\"translate(-7,57.54545454545454)\" font-family=\"sans-serif\" font-size=\"10px\" fill=\"#000\" opacity=\"1\">0.8</text><text text-anchor=\"end\" transform=\"translate(-7,21.181818181818187)\" font-family=\"sans-serif\" font-size=\"10px\" fill=\"#000\" opacity=\"1\">1.0</text></g><g class=\"mark-rule role-axis-domain\" pointer-events=\"none\"><line transform=\"translate(0,200)\" x2=\"0\" y2=\"-200\" stroke=\"#888\" stroke-width=\"1\" opacity=\"1\"/></g><g class=\"mark-text role-axis-title\" pointer-events=\"none\"><text text-anchor=\"middle\" transform=\"translate(-26,100) rotate(-90) translate(0,-2)\" font-family=\"sans-serif\" font-size=\"11px\" font-weight=\"bold\" fill=\"#000\" opacity=\"1\">xk</text></g></g><path class=\"foreground\" aria-hidden=\"true\" d=\"\" pointer-events=\"none\" display=\"none\"/></g></g><g class=\"mark-group role-scope pathgroup\" role=\"graphics-object\" aria-roledescription=\"group mark container\"><g transform=\"translate(0,0)\"><path class=\"background\" aria-hidden=\"true\" d=\"M0,0h200v200h-200Z\"/><g><g class=\"mark-area role-mark marks\" role=\"graphics-object\" aria-roledescription=\"area mark container\"><path aria-label=\"year: 0; xk: 0; variable: x142\" role=\"graphics-symbol\" aria-roledescription=\"area mark\" d=\"M0,200L28.57142857142857,18.181818181817945L57.14285714285714,18.181818181818187L85.71428571428571,18.181818181818187L114.28571428571428,18.181818181818187L142.85714285714286,18.181818181818187L171.42857142857142,18.181818181818187L200,18.181818181818187L200,18.181818181818187L171.42857142857142,18.181818181818187L142.85714285714286,18.181818181818187L114.28571428571428,118.41267113348152L85.71428571428571,18.181818181818187L57.14285714285714,18.181818181818187L28.57142857142857,18.181818181817945L0,200Z\" fill=\"#f58518\"/></g></g><path class=\"foreground\" aria-hidden=\"true\" d=\"\" display=\"none\"/></g><g transform=\"translate(0,0)\"><path class=\"background\" aria-hidden=\"true\" d=\"M0,0h200v200h-200Z\"/><g><g class=\"mark-area role-mark marks\" role=\"graphics-object\" aria-roledescription=\"area mark container\"><path aria-label=\"year: 0; xk: 0; variable: x143\" role=\"graphics-symbol\" aria-roledescription=\"area mark\" d=\"M0,200L28.57142857142857,18.181818181817945L57.14285714285714,18.181818181818187L85.71428571428571,18.181818181818187L114.28571428571428,118.41267113348152L142.85714285714286,18.181818181818187L171.42857142857142,18.181818181818187L200,18.181818181818187L200,18.181818181818187L171.42857142857142,18.181818181818187L142.85714285714286,18.181818181818187L114.28571428571428,118.41267113348152L85.71428571428571,18.181818181818187L57.14285714285714,18.181818181818187L28.57142857142857,200L0,200Z\" fill=\"#e45756\"/></g></g><path class=\"foreground\" aria-hidden=\"true\" d=\"\" display=\"none\"/></g><g transform=\"translate(0,0)\"><path class=\"background\" aria-hidden=\"true\" d=\"M0,0h200v200h-200Z\"/><g><g class=\"mark-area role-mark marks\" role=\"graphics-object\" aria-roledescription=\"area mark container\"><path aria-label=\"year: 0; xk: 0; variable: x149\" role=\"graphics-symbol\" aria-roledescription=\"area mark\" d=\"M0,200L28.57142857142857,200L57.14285714285714,18.181818181818187L85.71428571428571,18.181818181818187L114.28571428571428,118.41267113348152L142.85714285714286,18.181818181818187L171.42857142857142,18.181818181818187L200,18.181818181818187L200,18.181818181818187L171.42857142857142,18.181818181818187L142.85714285714286,18.181818181818187L114.28571428571428,118.41267113348152L85.71428571428571,115.11148326674574L57.14285714285714,18.181818181818187L28.57142857142857,200L0,200Z\" fill=\"#72b7b2\"/></g></g><path class=\"foreground\" aria-hidden=\"true\" d=\"\" display=\"none\"/></g><g transform=\"translate(0,0)\"><path class=\"background\" aria-hidden=\"true\" d=\"M0,0h200v200h-200Z\"/><g><g class=\"mark-area role-mark marks\" role=\"graphics-object\" aria-roledescription=\"area mark container\"><path aria-label=\"year: 0; xk: 0; variable: x155\" role=\"graphics-symbol\" aria-roledescription=\"area mark\" d=\"M0,200L28.57142857142857,200L57.14285714285714,18.181818181818187L85.71428571428571,115.11148326674574L114.28571428571428,118.41267113348152L142.85714285714286,18.181818181818187L171.42857142857142,18.181818181818187L200,18.181818181818187L200,117.88197275621617L171.42857142857142,18.181818181818187L142.85714285714286,113.06615069271275L114.28571428571428,118.41267113348152L85.71428571428571,115.11148326674574L57.14285714285714,18.181818181818187L28.57142857142857,200L0,200Z\" fill=\"#54a24b\"/></g></g><path class=\"foreground\" aria-hidden=\"true\" d=\"\" display=\"none\"/></g><g transform=\"translate(0,0)\"><path class=\"background\" aria-hidden=\"true\" d=\"M0,0h200v200h-200Z\"/><g><g class=\"mark-area role-mark marks\" role=\"graphics-object\" aria-roledescription=\"area mark container\"><path aria-label=\"year: 0; xk: 0; variable: x160\" role=\"graphics-symbol\" aria-roledescription=\"area mark\" d=\"M0,200L28.57142857142857,200L57.14285714285714,18.181818181818187L85.71428571428571,115.11148326674574L114.28571428571428,118.41267113348152L142.85714285714286,113.06615069271275L171.42857142857142,18.181818181818187L200,117.88197275621617L200,117.88197275621617L171.42857142857142,116.97039502865529L142.85714285714286,113.06615069271275L114.28571428571428,118.41267113348152L85.71428571428571,115.11148326674574L57.14285714285714,18.181818181818187L28.57142857142857,200L0,200Z\" fill=\"#eeca3b\"/></g></g><path class=\"foreground\" aria-hidden=\"true\" d=\"\" display=\"none\"/></g><g transform=\"translate(0,0)\"><path class=\"background\" aria-hidden=\"true\" d=\"M0,0h200v200h-200Z\"/><g><g class=\"mark-area role-mark marks\" role=\"graphics-object\" aria-roledescription=\"area mark container\"><path aria-label=\"year: 0; xk: 0; variable: x195\" role=\"graphics-symbol\" aria-roledescription=\"area mark\" d=\"M0,200L28.57142857142857,200L57.14285714285714,18.181818181818187L85.71428571428571,115.11148326674574L114.28571428571428,118.41267113348152L142.85714285714286,113.06615069271275L171.42857142857142,116.97039502865529L200,117.88197275621617L200,117.88197275621617L171.42857142857142,116.97039502865529L142.85714285714286,113.06615069271275L114.28571428571428,118.41267113348152L85.71428571428571,115.11148326674574L57.14285714285714,200L28.57142857142857,200L0,200Z\" fill=\"#b279a2\"/></g></g><path class=\"foreground\" aria-hidden=\"true\" d=\"\" display=\"none\"/></g><g transform=\"translate(0,0)\"><path class=\"background\" aria-hidden=\"true\" d=\"M0,0h200v200h-200Z\"/><g><g class=\"mark-area role-mark marks\" role=\"graphics-object\" aria-roledescription=\"area mark container\"><path aria-label=\"year: 0; xk: 0; variable: x198\" role=\"graphics-symbol\" aria-roledescription=\"area mark\" d=\"M0,200L28.57142857142857,200L57.14285714285714,200L85.71428571428571,115.11148326674574L114.28571428571428,118.41267113348152L142.85714285714286,113.06615069271275L171.42857142857142,116.97039502865529L200,117.88197275621617L200,117.88197275621617L171.42857142857142,200L142.85714285714286,113.06615069271275L114.28571428571428,200L85.71428571428571,115.11148326674574L57.14285714285714,200L28.57142857142857,200L0,200Z\" fill=\"#ff9da6\"/></g></g><path class=\"foreground\" aria-hidden=\"true\" d=\"\" display=\"none\"/></g><g transform=\"translate(0,0)\"><path class=\"background\" aria-hidden=\"true\" d=\"M0,0h200v200h-200Z\"/><g><g class=\"mark-area role-mark marks\" role=\"graphics-object\" aria-roledescription=\"area mark container\"><path aria-label=\"year: 0; xk: 0; variable: x199\" role=\"graphics-symbol\" aria-roledescription=\"area mark\" d=\"M0,200L28.57142857142857,200L57.14285714285714,200L85.71428571428571,115.11148326674574L114.28571428571428,200L142.85714285714286,113.06615069271275L171.42857142857142,200L200,117.88197275621617L200,200L171.42857142857142,200L142.85714285714286,200L114.28571428571428,200L85.71428571428571,115.11148326674574L57.14285714285714,200L28.57142857142857,200L0,200Z\" fill=\"#9d755d\"/></g></g><path class=\"foreground\" aria-hidden=\"true\" d=\"\" display=\"none\"/></g><g transform=\"translate(0,0)\"><path class=\"background\" aria-hidden=\"true\" d=\"M0,0h200v200h-200Z\"/><g><g class=\"mark-area role-mark marks\" role=\"graphics-object\" aria-roledescription=\"area mark container\"><path aria-label=\"year: 0; xk: 0; variable: x200\" role=\"graphics-symbol\" aria-roledescription=\"area mark\" d=\"M0,200L28.57142857142857,200L57.14285714285714,200L85.71428571428571,115.11148326674574L114.28571428571428,200L142.85714285714286,200L171.42857142857142,200L200,200L200,200L171.42857142857142,200L142.85714285714286,200L114.28571428571428,200L85.71428571428571,200L57.14285714285714,200L28.57142857142857,200L0,200Z\" fill=\"#bab0ac\"/></g></g><path class=\"foreground\" aria-hidden=\"true\" d=\"\" display=\"none\"/></g><g transform=\"translate(0,0)\"><path class=\"background\" aria-hidden=\"true\" d=\"M0,0h200v200h-200Z\"/><g><g class=\"mark-area role-mark marks\" role=\"graphics-object\" aria-roledescription=\"area mark container\"><path aria-label=\"year: 0; xk: 1; variable: Conv\" role=\"graphics-symbol\" aria-roledescription=\"area mark\" d=\"M0,18.181818181818187L28.57142857142857,18.181818181817945L57.14285714285714,18.181818181818187L85.71428571428571,18.181818181818187L114.28571428571428,18.181818181818187L142.85714285714286,18.181818181818187L171.42857142857142,18.181818181818187L200,18.181818181818187L200,18.181818181818187L171.42857142857142,18.181818181818187L142.85714285714286,18.181818181818187L114.28571428571428,18.181818181818187L85.71428571428571,18.181818181818187L57.14285714285714,18.181818181818187L28.57142857142857,18.181818181817945L0,200Z\" fill=\"#4c78a8\"/></g></g><path class=\"foreground\" aria-hidden=\"true\" d=\"\" display=\"none\"/></g></g><g class=\"mark-group role-legend\" role=\"graphics-symbol\" aria-roledescription=\"legend\" aria-label=\"Symbol legend titled 'variable' for fill color with 10 values: Conv, x142, x143, x149, x155, ending with x200\"><g transform=\"translate(218,0)\"><path class=\"background\" aria-hidden=\"true\" d=\"M0,0h49v144h-49Z\" pointer-events=\"none\"/><g><g class=\"mark-group role-legend-entry\"><g transform=\"translate(0,16)\"><path class=\"background\" aria-hidden=\"true\" d=\"M0,0h0v0h0Z\" pointer-events=\"none\"/><g><g class=\"mark-group role-scope\" role=\"graphics-object\" aria-roledescription=\"group mark container\"><g transform=\"translate(0,0)\"><path class=\"background\" aria-hidden=\"true\" d=\"M0,0h41v11h-41Z\" pointer-events=\"none\" opacity=\"1\"/><g><g class=\"mark-symbol role-legend-symbol\" pointer-events=\"none\"><path transform=\"translate(6,6)\" d=\"M5,0A5,5,0,1,1,-5,0A5,5,0,1,1,5,0\" fill=\"#4c78a8\" stroke-width=\"1.5\" opacity=\"1\"/></g><g class=\"mark-text role-legend-label\" pointer-events=\"none\"><text text-anchor=\"start\" transform=\"translate(16,9)\" font-family=\"sans-serif\" font-size=\"10px\" fill=\"#000\" opacity=\"1\">Conv</text></g></g><path class=\"foreground\" aria-hidden=\"true\" d=\"\" pointer-events=\"none\" display=\"none\"/></g><g transform=\"translate(0,13)\"><path class=\"background\" aria-hidden=\"true\" d=\"M0,0h41v11h-41Z\" pointer-events=\"none\" opacity=\"1\"/><g><g class=\"mark-symbol role-legend-symbol\" pointer-events=\"none\"><path transform=\"translate(6,6)\" d=\"M5,0A5,5,0,1,1,-5,0A5,5,0,1,1,5,0\" fill=\"#f58518\" stroke-width=\"1.5\" opacity=\"1\"/></g><g class=\"mark-text role-legend-label\" pointer-events=\"none\"><text text-anchor=\"start\" transform=\"translate(16,9)\" font-family=\"sans-serif\" font-size=\"10px\" fill=\"#000\" opacity=\"1\">x142</text></g></g><path class=\"foreground\" aria-hidden=\"true\" d=\"\" pointer-events=\"none\" display=\"none\"/></g><g transform=\"translate(0,26)\"><path class=\"background\" aria-hidden=\"true\" d=\"M0,0h41v11h-41Z\" pointer-events=\"none\" opacity=\"1\"/><g><g class=\"mark-symbol role-legend-symbol\" pointer-events=\"none\"><path transform=\"translate(6,6)\" d=\"M5,0A5,5,0,1,1,-5,0A5,5,0,1,1,5,0\" fill=\"#e45756\" stroke-width=\"1.5\" opacity=\"1\"/></g><g class=\"mark-text role-legend-label\" pointer-events=\"none\"><text text-anchor=\"start\" transform=\"translate(16,9)\" font-family=\"sans-serif\" font-size=\"10px\" fill=\"#000\" opacity=\"1\">x143</text></g></g><path class=\"foreground\" aria-hidden=\"true\" d=\"\" pointer-events=\"none\" display=\"none\"/></g><g transform=\"translate(0,39)\"><path class=\"background\" aria-hidden=\"true\" d=\"M0,0h41v11h-41Z\" pointer-events=\"none\" opacity=\"1\"/><g><g class=\"mark-symbol role-legend-symbol\" pointer-events=\"none\"><path transform=\"translate(6,6)\" d=\"M5,0A5,5,0,1,1,-5,0A5,5,0,1,1,5,0\" fill=\"#72b7b2\" stroke-width=\"1.5\" opacity=\"1\"/></g><g class=\"mark-text role-legend-label\" pointer-events=\"none\"><text text-anchor=\"start\" transform=\"translate(16,9)\" font-family=\"sans-serif\" font-size=\"10px\" fill=\"#000\" opacity=\"1\">x149</text></g></g><path class=\"foreground\" aria-hidden=\"true\" d=\"\" pointer-events=\"none\" display=\"none\"/></g><g transform=\"translate(0,52)\"><path class=\"background\" aria-hidden=\"true\" d=\"M0,0h41v11h-41Z\" pointer-events=\"none\" opacity=\"1\"/><g><g class=\"mark-symbol role-legend-symbol\" pointer-events=\"none\"><path transform=\"translate(6,6)\" d=\"M5,0A5,5,0,1,1,-5,0A5,5,0,1,1,5,0\" fill=\"#54a24b\" stroke-width=\"1.5\" opacity=\"1\"/></g><g class=\"mark-text role-legend-label\" pointer-events=\"none\"><text text-anchor=\"start\" transform=\"translate(16,9)\" font-family=\"sans-serif\" font-size=\"10px\" fill=\"#000\" opacity=\"1\">x155</text></g></g><path class=\"foreground\" aria-hidden=\"true\" d=\"\" pointer-events=\"none\" display=\"none\"/></g><g transform=\"translate(0,65)\"><path class=\"background\" aria-hidden=\"true\" d=\"M0,0h41v11h-41Z\" pointer-events=\"none\" opacity=\"1\"/><g><g class=\"mark-symbol role-legend-symbol\" pointer-events=\"none\"><path transform=\"translate(6,6)\" d=\"M5,0A5,5,0,1,1,-5,0A5,5,0,1,1,5,0\" fill=\"#eeca3b\" stroke-width=\"1.5\" opacity=\"1\"/></g><g class=\"mark-text role-legend-label\" pointer-events=\"none\"><text text-anchor=\"start\" transform=\"translate(16,9)\" font-family=\"sans-serif\" font-size=\"10px\" fill=\"#000\" opacity=\"1\">x160</text></g></g><path class=\"foreground\" aria-hidden=\"true\" d=\"\" pointer-events=\"none\" display=\"none\"/></g><g transform=\"translate(0,78)\"><path class=\"background\" aria-hidden=\"true\" d=\"M0,0h41v11h-41Z\" pointer-events=\"none\" opacity=\"1\"/><g><g class=\"mark-symbol role-legend-symbol\" pointer-events=\"none\"><path transform=\"translate(6,6)\" d=\"M5,0A5,5,0,1,1,-5,0A5,5,0,1,1,5,0\" fill=\"#b279a2\" stroke-width=\"1.5\" opacity=\"1\"/></g><g class=\"mark-text role-legend-label\" pointer-events=\"none\"><text text-anchor=\"start\" transform=\"translate(16,9)\" font-family=\"sans-serif\" font-size=\"10px\" fill=\"#000\" opacity=\"1\">x195</text></g></g><path class=\"foreground\" aria-hidden=\"true\" d=\"\" pointer-events=\"none\" display=\"none\"/></g><g transform=\"translate(0,91)\"><path class=\"background\" aria-hidden=\"true\" d=\"M0,0h41v11h-41Z\" pointer-events=\"none\" opacity=\"1\"/><g><g class=\"mark-symbol role-legend-symbol\" pointer-events=\"none\"><path transform=\"translate(6,6)\" d=\"M5,0A5,5,0,1,1,-5,0A5,5,0,1,1,5,0\" fill=\"#ff9da6\" stroke-width=\"1.5\" opacity=\"1\"/></g><g class=\"mark-text role-legend-label\" pointer-events=\"none\"><text text-anchor=\"start\" transform=\"translate(16,9)\" font-family=\"sans-serif\" font-size=\"10px\" fill=\"#000\" opacity=\"1\">x198</text></g></g><path class=\"foreground\" aria-hidden=\"true\" d=\"\" pointer-events=\"none\" display=\"none\"/></g><g transform=\"translate(0,104)\"><path class=\"background\" aria-hidden=\"true\" d=\"M0,0h41v11h-41Z\" pointer-events=\"none\" opacity=\"1\"/><g><g class=\"mark-symbol role-legend-symbol\" pointer-events=\"none\"><path transform=\"translate(6,6)\" d=\"M5,0A5,5,0,1,1,-5,0A5,5,0,1,1,5,0\" fill=\"#9d755d\" stroke-width=\"1.5\" opacity=\"1\"/></g><g class=\"mark-text role-legend-label\" pointer-events=\"none\"><text text-anchor=\"start\" transform=\"translate(16,9)\" font-family=\"sans-serif\" font-size=\"10px\" fill=\"#000\" opacity=\"1\">x199</text></g></g><path class=\"foreground\" aria-hidden=\"true\" d=\"\" pointer-events=\"none\" display=\"none\"/></g><g transform=\"translate(0,117)\"><path class=\"background\" aria-hidden=\"true\" d=\"M0,0h41v11h-41Z\" pointer-events=\"none\" opacity=\"1\"/><g><g class=\"mark-symbol role-legend-symbol\" pointer-events=\"none\"><path transform=\"translate(6,6)\" d=\"M5,0A5,5,0,1,1,-5,0A5,5,0,1,1,5,0\" fill=\"#bab0ac\" stroke-width=\"1.5\" opacity=\"1\"/></g><g class=\"mark-text role-legend-label\" pointer-events=\"none\"><text text-anchor=\"start\" transform=\"translate(16,9)\" font-family=\"sans-serif\" font-size=\"10px\" fill=\"#000\" opacity=\"1\">x200</text></g></g><path class=\"foreground\" aria-hidden=\"true\" d=\"\" pointer-events=\"none\" display=\"none\"/></g></g></g><path class=\"foreground\" aria-hidden=\"true\" d=\"\" pointer-events=\"none\" display=\"none\"/></g></g><g class=\"mark-text role-legend-title\" pointer-events=\"none\"><text text-anchor=\"start\" transform=\"translate(0,9)\" font-family=\"sans-serif\" font-size=\"11px\" font-weight=\"bold\" fill=\"#000\" opacity=\"1\">variable</text></g></g><path class=\"foreground\" aria-hidden=\"true\" d=\"\" pointer-events=\"none\" display=\"none\"/></g></g></g><path class=\"foreground\" aria-hidden=\"true\" d=\"\" display=\"none\"/></g></g></g></svg>\n"
      ],
      "text/plain": [
       "@vlplot(\n",
       "    legend=\"sNames\",\n",
       "    mark=\"area\",\n",
       "    encoding={\n",
       "        x={\n",
       "            field=\"year\"\n",
       "        },\n",
       "        y={\n",
       "            stack=\"zero\",\n",
       "            title=\"xk\",\n",
       "            field=\"value\"\n",
       "        },\n",
       "        color={\n",
       "            field=\"variable\",\n",
       "            type=\"nominal\"\n",
       "        }\n",
       "    },\n",
       "    data={\n",
       "        values=...\n",
       "    }\n",
       ")"
      ]
     },
     "execution_count": 79,
     "metadata": {},
     "output_type": "execute_result"
    }
   ],
   "source": [
    "comp"
   ]
  },
  {
   "cell_type": "code",
   "execution_count": 80,
   "id": "4a092e6f",
   "metadata": {},
   "outputs": [
    {
     "data": {
      "text/html": [
       "<div class=\"data-frame\"><p>10 rows × 3 columns</p><table class=\"data-frame\"><thead><tr><th></th><th>i</th><th>k_lim</th><th>name</th></tr><tr><th></th><th title=\"Int64\">Int64</th><th title=\"Int64\">Int64</th><th title=\"String31\">String31</th></tr></thead><tbody><tr><th>1</th><td>1</td><td>29</td><td>MSW pyrolysis to small olefins</td></tr><tr><th>2</th><td>2</td><td>52</td><td>Source Segregation</td></tr><tr><th>3</th><td>3</td><td>66</td><td>AI robot segregation</td></tr><tr><th>4</th><td>4</td><td>91</td><td>LABS from PE</td></tr><tr><th>5</th><td>5</td><td>113</td><td>Pyrolysis of LDPE</td></tr><tr><th>6</th><td>6</td><td>140</td><td>Pyrolysis of HDPE</td></tr><tr><th>7</th><td>7</td><td>165</td><td>Pyrolysis of PP</td></tr><tr><th>8</th><td>8</td><td>193</td><td>Recycling back to PLA usin Clay</td></tr><tr><th>9</th><td>9</td><td>215</td><td>Alkaline hydrolysis of PLA</td></tr><tr><th>10</th><td>10</td><td>240</td><td>Alcoholysis of PLA</td></tr></tbody></table></div>"
      ],
      "text/latex": [
       "\\begin{tabular}{r|ccc}\n",
       "\t& i & k\\_lim & name\\\\\n",
       "\t\\hline\n",
       "\t& Int64 & Int64 & String31\\\\\n",
       "\t\\hline\n",
       "\t1 & 1 & 29 & MSW pyrolysis to small olefins \\\\\n",
       "\t2 & 2 & 52 & Source Segregation \\\\\n",
       "\t3 & 3 & 66 & AI robot segregation \\\\\n",
       "\t4 & 4 & 91 & LABS from PE \\\\\n",
       "\t5 & 5 & 113 & Pyrolysis of LDPE \\\\\n",
       "\t6 & 6 & 140 & Pyrolysis of HDPE \\\\\n",
       "\t7 & 7 & 165 & Pyrolysis of PP \\\\\n",
       "\t8 & 8 & 193 & Recycling back to PLA usin Clay \\\\\n",
       "\t9 & 9 & 215 & Alkaline hydrolysis of PLA \\\\\n",
       "\t10 & 10 & 240 & Alcoholysis of PLA \\\\\n",
       "\\end{tabular}\n"
      ],
      "text/plain": [
       "\u001b[1m10×3 DataFrame\u001b[0m\n",
       "\u001b[1m Row \u001b[0m│\u001b[1m i     \u001b[0m\u001b[1m k_lim \u001b[0m\u001b[1m name                            \u001b[0m\n",
       "\u001b[1m     \u001b[0m│\u001b[90m Int64 \u001b[0m\u001b[90m Int64 \u001b[0m\u001b[90m String31                        \u001b[0m\n",
       "─────┼───────────────────────────────────────────────\n",
       "   1 │     1     29  MSW pyrolysis to small olefins\n",
       "   2 │     2     52  Source Segregation\n",
       "   3 │     3     66  AI robot segregation\n",
       "   4 │     4     91  LABS from PE\n",
       "   5 │     5    113  Pyrolysis of LDPE\n",
       "   6 │     6    140  Pyrolysis of HDPE\n",
       "   7 │     7    165  Pyrolysis of PP\n",
       "   8 │     8    193  Recycling back to PLA usin Clay\n",
       "   9 │     9    215  Alkaline hydrolysis of PLA\n",
       "  10 │    10    240  Alcoholysis of PLA"
      ]
     },
     "execution_count": 80,
     "metadata": {},
     "output_type": "execute_result"
    }
   ],
   "source": [
    "mapki"
   ]
  },
  {
   "cell_type": "code",
   "execution_count": 86,
   "id": "0db93a13",
   "metadata": {},
   "outputs": [
    {
     "data": {
      "text/html": [
       "<p>DataFrameRow (9 columns)</p><div class=\"data-frame\"><table class=\"data-frame\"><thead><tr><th></th><th>k</th><th>i</th><th>GWP</th><th>Theta</th><th>Per_Recycl</th><th>Per_Comp</th><th>GHG_ElecInd</th><th>GHG_Trans</th><th>OCost</th></tr><tr><th></th><th title=\"Int64\">Int64</th><th title=\"Int64\">Int64</th><th title=\"Float64\">Float64</th><th title=\"Float64\">Float64</th><th title=\"Float64\">Float64</th><th title=\"Float64\">Float64</th><th title=\"Float64\">Float64</th><th title=\"Float64\">Float64</th><th title=\"Float64\">Float64</th></tr></thead><tbody><tr><th>199</th><td>199</td><td>9</td><td>3.4669</td><td>0.7436</td><td>0.661689</td><td>0.196905</td><td>1.58</td><td>0.132</td><td>1.6963</td></tr></tbody></table></div>"
      ],
      "text/latex": [
       "\\begin{tabular}{r|ccccccccc}\n",
       "\t& k & i & GWP & Theta & Per\\_Recycl & Per\\_Comp & GHG\\_ElecInd & GHG\\_Trans & OCost\\\\\n",
       "\t\\hline\n",
       "\t& Int64 & Int64 & Float64 & Float64 & Float64 & Float64 & Float64 & Float64 & Float64\\\\\n",
       "\t\\hline\n",
       "\t199 & 199 & 9 & 3.4669 & 0.7436 & 0.661689 & 0.196905 & 1.58 & 0.132 & 1.6963 \\\\\n",
       "\\end{tabular}\n"
      ],
      "text/plain": [
       "\u001b[1mDataFrameRow\u001b[0m\n",
       "\u001b[1m Row \u001b[0m│\u001b[1m k     \u001b[0m\u001b[1m i     \u001b[0m\u001b[1m GWP     \u001b[0m\u001b[1m Theta   \u001b[0m\u001b[1m Per_Recycl \u001b[0m\u001b[1m Per_Comp \u001b[0m\u001b[1m GHG_ElecInd \u001b[0m\u001b[1m GHG_\u001b[0m ⋯\n",
       "\u001b[1m     \u001b[0m│\u001b[90m Int64 \u001b[0m\u001b[90m Int64 \u001b[0m\u001b[90m Float64 \u001b[0m\u001b[90m Float64 \u001b[0m\u001b[90m Float64    \u001b[0m\u001b[90m Float64  \u001b[0m\u001b[90m Float64     \u001b[0m\u001b[90m Floa\u001b[0m ⋯\n",
       "─────┼──────────────────────────────────────────────────────────────────────────\n",
       " 199 │   199      9   3.4669   0.7436    0.661689  0.196905         1.58       ⋯\n",
       "\u001b[36m                                                               2 columns omitted\u001b[0m"
      ]
     },
     "execution_count": 86,
     "metadata": {},
     "output_type": "execute_result"
    }
   ],
   "source": [
    "compromise[199,:]"
   ]
  },
  {
   "cell_type": "code",
   "execution_count": 81,
   "id": "69fdca65",
   "metadata": {},
   "outputs": [
    {
     "name": "stdout",
     "output_type": "stream",
     "text": [
      "142[0.0, 0.0, 0.0, 0.95, 0.0, 0.0, 0.0]\n",
      "143[2.81, 0.0, 0.0, 0.0, 0.0, 0.0, 0.0]\n",
      "149[0.0, 0.0, 1.64, 0.0, 0.0, 0.0, 0.0]\n",
      "155[0.0, 0.0, 0.0, 0.0, 0.6, 0.0, 0.01]\n",
      "160[0.0, 0.0, 0.0, 0.0, 0.0, 0.37, 0.0]\n",
      "195[0.0, 2.73, 0.0, 0.0, 0.0, 0.0, 0.0]\n",
      "198[0.0, 0.0, 0.0, 0.98, 0.0, 0.58, 0.0]\n",
      "199[0.0, 0.0, 0.0, 0.0, 0.91, 0.0, 0.38]\n",
      "200[0.0, 0.0, 1.24, 0.0, 0.0, 0.0, 0.0]\n"
     ]
    }
   ],
   "source": [
    "for i in 1:240\n",
    "    if sum(xk[i,:])>0\n",
    "        print(i)\n",
    "        println(round.(xk[i,:].*co2fac[i,:];digits=2))\n",
    "    end\n",
    "end"
   ]
  },
  {
   "cell_type": "code",
   "execution_count": 82,
   "id": "b9272fc7",
   "metadata": {},
   "outputs": [
    {
     "name": "stdout",
     "output_type": "stream",
     "text": [
      "142[0.0, 0.0, 0.0, 0.55, 0.0, 0.0, 0.0]\n",
      "143[1.0, 0.0, 0.0, 0.0, 0.0, 0.0, 0.0]\n",
      "149[0.0, 0.0, 0.53, 0.0, 0.0, 0.0, 0.0]\n",
      "155[0.0, 0.0, 0.0, 0.0, 0.52, 0.0, 0.55]\n",
      "160[0.0, 0.0, 0.0, 0.0, 0.0, 0.54, 0.0]\n",
      "195[0.0, 1.0, 0.0, 0.0, 0.0, 0.0, 0.0]\n",
      "198[0.0, 0.0, 0.0, 0.45, 0.0, 0.46, 0.0]\n",
      "199[0.0, 0.0, 0.0, 0.0, 0.48, 0.0, 0.45]\n",
      "200[0.0, 0.0, 0.47, 0.0, 0.0, 0.0, 0.0]\n"
     ]
    }
   ],
   "source": [
    "for i in 1:240\n",
    "    if sum(xk[i,:])>0\n",
    "        print(i)\n",
    "        println(round.(xk[i,:];digits=2))\n",
    "    end\n",
    "end"
   ]
  },
  {
   "cell_type": "code",
   "execution_count": 37,
   "id": "91d9e882",
   "metadata": {},
   "outputs": [
    {
     "name": "stdout",
     "output_type": "stream",
     "text": [
      "93[0.0, 0.0, 0.0, 5.0, 0.0, 5.0, 0.0]\n",
      "94[0.0, 0.0, 0.0, 0.0, 0.0, 0.0, 0.0]\n",
      "103[0.0, 0.0, 5.0, 0.0, 0.0, 0.0, 0.0]\n",
      "108[0.0, 0.0, 0.0, 0.0, 5.0, 0.0, 5.0]\n",
      "195[5.0, 5.0, 0.0, 0.0, 0.0, 0.0, 0.0]\n",
      "197[0.0, 0.0, 0.0, 0.0, 0.0, 0.0, 5.0]\n",
      "198[0.0, 0.0, 0.0, 0.0, 5.0, 0.0, 0.0]\n",
      "199[0.0, 0.0, 0.0, 5.0, 0.0, 5.0, 0.0]\n",
      "200[0.0, 0.0, 5.0, 0.0, 0.0, 0.0, 0.0]\n"
     ]
    }
   ],
   "source": [
    "for i in 1:240\n",
    "    if sum(xk[i,:])>0\n",
    "        print(i)\n",
    "        println(round.(tk[i,:];digits=2))\n",
    "    end\n",
    "end"
   ]
  },
  {
   "cell_type": "code",
   "execution_count": 83,
   "id": "69f31436",
   "metadata": {},
   "outputs": [
    {
     "data": {
      "application/vnd.vegalite.v4+json": {
       "data": {
        "values": [
         {
          "value": 0,
          "variable": "x143",
          "year": "2020"
         },
         {
          "value": 0,
          "variable": "x143",
          "year": "2021"
         },
         {
          "value": 0,
          "variable": "x143",
          "year": "2022"
         },
         {
          "value": 0,
          "variable": "x143",
          "year": "2023"
         },
         {
          "value": 0,
          "variable": "x143",
          "year": "2024"
         },
         {
          "value": 0,
          "variable": "x143",
          "year": "2025"
         },
         {
          "value": 0,
          "variable": "x143",
          "year": "2026"
         },
         {
          "value": 0,
          "variable": "x143",
          "year": "2027"
         },
         {
          "value": 0,
          "variable": "x143",
          "year": "2028"
         },
         {
          "value": 0,
          "variable": "x143",
          "year": "2029"
         },
         {
          "value": 0.364762049906536,
          "variable": "x143",
          "year": "2030"
         },
         {
          "value": 0.364762049906536,
          "variable": "x143",
          "year": "2031"
         },
         {
          "value": 0.364762049906536,
          "variable": "x143",
          "year": "2032"
         },
         {
          "value": 0.364762049906536,
          "variable": "x143",
          "year": "2033"
         },
         {
          "value": 0.364762049906536,
          "variable": "x143",
          "year": "2034"
         },
         {
          "value": 0,
          "variable": "x143",
          "year": "2035"
         },
         {
          "value": 0,
          "variable": "x143",
          "year": "2036"
         },
         {
          "value": 0,
          "variable": "x143",
          "year": "2037"
         },
         {
          "value": 0,
          "variable": "x143",
          "year": "2038"
         },
         {
          "value": 0,
          "variable": "x143",
          "year": "2039"
         },
         {
          "value": 0,
          "variable": "x143",
          "year": "2040"
         },
         {
          "value": 0,
          "variable": "x143",
          "year": "2041"
         },
         {
          "value": 0,
          "variable": "x143",
          "year": "2042"
         },
         {
          "value": 0,
          "variable": "x143",
          "year": "2043"
         },
         {
          "value": 0,
          "variable": "x143",
          "year": "2044"
         },
         {
          "value": 0,
          "variable": "x143",
          "year": "2045"
         },
         {
          "value": 0,
          "variable": "x143",
          "year": "2046"
         },
         {
          "value": 0,
          "variable": "x143",
          "year": "2047"
         },
         {
          "value": 0,
          "variable": "x143",
          "year": "2048"
         },
         {
          "value": 0,
          "variable": "x143",
          "year": "2049"
         },
         {
          "value": 0,
          "variable": "x143",
          "year": "2050"
         },
         {
          "value": 0,
          "variable": "x143",
          "year": "2051"
         },
         {
          "value": 0,
          "variable": "x143",
          "year": "2052"
         },
         {
          "value": 0,
          "variable": "x143",
          "year": "2053"
         },
         {
          "value": 0,
          "variable": "x143",
          "year": "2054"
         },
         {
          "value": 0,
          "variable": "x143",
          "year": "2055"
         },
         {
          "value": 0,
          "variable": "x156",
          "year": "2020"
         },
         {
          "value": 0,
          "variable": "x156",
          "year": "2021"
         },
         {
          "value": 0,
          "variable": "x156",
          "year": "2022"
         },
         {
          "value": 0,
          "variable": "x156",
          "year": "2023"
         },
         {
          "value": 0,
          "variable": "x156",
          "year": "2024"
         },
         {
          "value": 0,
          "variable": "x156",
          "year": "2025"
         },
         {
          "value": 0,
          "variable": "x156",
          "year": "2026"
         },
         {
          "value": 0,
          "variable": "x156",
          "year": "2027"
         },
         {
          "value": 0,
          "variable": "x156",
          "year": "2028"
         },
         {
          "value": 0,
          "variable": "x156",
          "year": "2029"
         },
         {
          "value": 0,
          "variable": "x156",
          "year": "2030"
         },
         {
          "value": 0,
          "variable": "x156",
          "year": "2031"
         },
         {
          "value": 0,
          "variable": "x156",
          "year": "2032"
         },
         {
          "value": 0,
          "variable": "x156",
          "year": "2033"
         },
         {
          "value": 0,
          "variable": "x156",
          "year": "2034"
         },
         {
          "value": 0.3447207409779434,
          "variable": "x156",
          "year": "2035"
         },
         {
          "value": 0.3447207409779434,
          "variable": "x156",
          "year": "2036"
         },
         {
          "value": 0.3447207409779434,
          "variable": "x156",
          "year": "2037"
         },
         {
          "value": 0.3447207409779434,
          "variable": "x156",
          "year": "2038"
         },
         {
          "value": 0.3447207409779434,
          "variable": "x156",
          "year": "2039"
         },
         {
          "value": 0,
          "variable": "x156",
          "year": "2040"
         },
         {
          "value": 0,
          "variable": "x156",
          "year": "2041"
         },
         {
          "value": 0,
          "variable": "x156",
          "year": "2042"
         },
         {
          "value": 0,
          "variable": "x156",
          "year": "2043"
         },
         {
          "value": 0,
          "variable": "x156",
          "year": "2044"
         },
         {
          "value": 0.3622169250814488,
          "variable": "x156",
          "year": "2045"
         },
         {
          "value": 0.3622169250814488,
          "variable": "x156",
          "year": "2046"
         },
         {
          "value": 0.3622169250814488,
          "variable": "x156",
          "year": "2047"
         },
         {
          "value": 0.3622169250814488,
          "variable": "x156",
          "year": "2048"
         },
         {
          "value": 0.3622169250814488,
          "variable": "x156",
          "year": "2049"
         },
         {
          "value": 0.3622169250814488,
          "variable": "x156",
          "year": "2050"
         },
         {
          "value": 0.3622169250814488,
          "variable": "x156",
          "year": "2051"
         },
         {
          "value": 0.3622169250814488,
          "variable": "x156",
          "year": "2052"
         },
         {
          "value": 0.3622169250814488,
          "variable": "x156",
          "year": "2053"
         },
         {
          "value": 0.3622169250814488,
          "variable": "x156",
          "year": "2054"
         },
         {
          "value": 0.3622169250814488,
          "variable": "x156",
          "year": "2055"
         },
         {
          "value": 0,
          "variable": "x161",
          "year": "2020"
         },
         {
          "value": 0,
          "variable": "x161",
          "year": "2021"
         },
         {
          "value": 0,
          "variable": "x161",
          "year": "2022"
         },
         {
          "value": 0,
          "variable": "x161",
          "year": "2023"
         },
         {
          "value": 0,
          "variable": "x161",
          "year": "2024"
         },
         {
          "value": 0,
          "variable": "x161",
          "year": "2025"
         },
         {
          "value": 0,
          "variable": "x161",
          "year": "2026"
         },
         {
          "value": 0,
          "variable": "x161",
          "year": "2027"
         },
         {
          "value": 0,
          "variable": "x161",
          "year": "2028"
         },
         {
          "value": 0,
          "variable": "x161",
          "year": "2029"
         },
         {
          "value": 0,
          "variable": "x161",
          "year": "2030"
         },
         {
          "value": 0,
          "variable": "x161",
          "year": "2031"
         },
         {
          "value": 0,
          "variable": "x161",
          "year": "2032"
         },
         {
          "value": 0,
          "variable": "x161",
          "year": "2033"
         },
         {
          "value": 0,
          "variable": "x161",
          "year": "2034"
         },
         {
          "value": 0,
          "variable": "x161",
          "year": "2035"
         },
         {
          "value": 0,
          "variable": "x161",
          "year": "2036"
         },
         {
          "value": 0,
          "variable": "x161",
          "year": "2037"
         },
         {
          "value": 0,
          "variable": "x161",
          "year": "2038"
         },
         {
          "value": 0,
          "variable": "x161",
          "year": "2039"
         },
         {
          "value": 0.3589051059287167,
          "variable": "x161",
          "year": "2040"
         },
         {
          "value": 0.3589051059287167,
          "variable": "x161",
          "year": "2041"
         },
         {
          "value": 0.3589051059287167,
          "variable": "x161",
          "year": "2042"
         },
         {
          "value": 0.3589051059287167,
          "variable": "x161",
          "year": "2043"
         },
         {
          "value": 0.3589051059287167,
          "variable": "x161",
          "year": "2044"
         },
         {
          "value": 0,
          "variable": "x161",
          "year": "2045"
         },
         {
          "value": 0,
          "variable": "x161",
          "year": "2046"
         },
         {
          "value": 0,
          "variable": "x161",
          "year": "2047"
         },
         {
          "value": 0,
          "variable": "x161",
          "year": "2048"
         },
         {
          "value": 0,
          "variable": "x161",
          "year": "2049"
         },
         {
          "value": 0,
          "variable": "x161",
          "year": "2050"
         },
         {
          "value": 0,
          "variable": "x161",
          "year": "2051"
         },
         {
          "value": 0,
          "variable": "x161",
          "year": "2052"
         },
         {
          "value": 0,
          "variable": "x161",
          "year": "2053"
         },
         {
          "value": 0,
          "variable": "x161",
          "year": "2054"
         },
         {
          "value": 0,
          "variable": "x161",
          "year": "2055"
         },
         {
          "value": 0,
          "variable": "x199",
          "year": "2020"
         },
         {
          "value": 0,
          "variable": "x199",
          "year": "2021"
         },
         {
          "value": 0,
          "variable": "x199",
          "year": "2022"
         },
         {
          "value": 0,
          "variable": "x199",
          "year": "2023"
         },
         {
          "value": 0,
          "variable": "x199",
          "year": "2024"
         },
         {
          "value": 0,
          "variable": "x199",
          "year": "2025"
         },
         {
          "value": 0,
          "variable": "x199",
          "year": "2026"
         },
         {
          "value": 0,
          "variable": "x199",
          "year": "2027"
         },
         {
          "value": 0,
          "variable": "x199",
          "year": "2028"
         },
         {
          "value": 0,
          "variable": "x199",
          "year": "2029"
         },
         {
          "value": 0.3852379500934641,
          "variable": "x199",
          "year": "2030"
         },
         {
          "value": 0.3852379500934641,
          "variable": "x199",
          "year": "2031"
         },
         {
          "value": 0.3852379500934641,
          "variable": "x199",
          "year": "2032"
         },
         {
          "value": 0.3852379500934641,
          "variable": "x199",
          "year": "2033"
         },
         {
          "value": 0.3852379500934641,
          "variable": "x199",
          "year": "2034"
         },
         {
          "value": 0,
          "variable": "x199",
          "year": "2035"
         },
         {
          "value": 0,
          "variable": "x199",
          "year": "2036"
         },
         {
          "value": 0,
          "variable": "x199",
          "year": "2037"
         },
         {
          "value": 0,
          "variable": "x199",
          "year": "2038"
         },
         {
          "value": 0,
          "variable": "x199",
          "year": "2039"
         },
         {
          "value": 0.3920480699712833,
          "variable": "x199",
          "year": "2040"
         },
         {
          "value": 0.3920480699712833,
          "variable": "x199",
          "year": "2041"
         },
         {
          "value": 0.3920480699712833,
          "variable": "x199",
          "year": "2042"
         },
         {
          "value": 0.3920480699712833,
          "variable": "x199",
          "year": "2043"
         },
         {
          "value": 0.3920480699712833,
          "variable": "x199",
          "year": "2044"
         },
         {
          "value": 0,
          "variable": "x199",
          "year": "2045"
         },
         {
          "value": 0,
          "variable": "x199",
          "year": "2046"
         },
         {
          "value": 0,
          "variable": "x199",
          "year": "2047"
         },
         {
          "value": 0,
          "variable": "x199",
          "year": "2048"
         },
         {
          "value": 0,
          "variable": "x199",
          "year": "2049"
         },
         {
          "value": 0,
          "variable": "x199",
          "year": "2050"
         },
         {
          "value": 0,
          "variable": "x199",
          "year": "2051"
         },
         {
          "value": 0,
          "variable": "x199",
          "year": "2052"
         },
         {
          "value": 0,
          "variable": "x199",
          "year": "2053"
         },
         {
          "value": 0,
          "variable": "x199",
          "year": "2054"
         },
         {
          "value": 0,
          "variable": "x199",
          "year": "2055"
         },
         {
          "value": 0,
          "variable": "x200",
          "year": "2020"
         },
         {
          "value": 0,
          "variable": "x200",
          "year": "2021"
         },
         {
          "value": 0,
          "variable": "x200",
          "year": "2022"
         },
         {
          "value": 0,
          "variable": "x200",
          "year": "2023"
         },
         {
          "value": 0,
          "variable": "x200",
          "year": "2024"
         },
         {
          "value": 0,
          "variable": "x200",
          "year": "2025"
         },
         {
          "value": 0,
          "variable": "x200",
          "year": "2026"
         },
         {
          "value": 0,
          "variable": "x200",
          "year": "2027"
         },
         {
          "value": 0,
          "variable": "x200",
          "year": "2028"
         },
         {
          "value": 0,
          "variable": "x200",
          "year": "2029"
         },
         {
          "value": 0,
          "variable": "x200",
          "year": "2030"
         },
         {
          "value": 0,
          "variable": "x200",
          "year": "2031"
         },
         {
          "value": 0,
          "variable": "x200",
          "year": "2032"
         },
         {
          "value": 0,
          "variable": "x200",
          "year": "2033"
         },
         {
          "value": 0,
          "variable": "x200",
          "year": "2034"
         },
         {
          "value": 0.410524662249941,
          "variable": "x200",
          "year": "2035"
         },
         {
          "value": 0.410524662249941,
          "variable": "x200",
          "year": "2036"
         },
         {
          "value": 0.410524662249941,
          "variable": "x200",
          "year": "2037"
         },
         {
          "value": 0.410524662249941,
          "variable": "x200",
          "year": "2038"
         },
         {
          "value": 0.410524662249941,
          "variable": "x200",
          "year": "2039"
         },
         {
          "value": 0,
          "variable": "x200",
          "year": "2040"
         },
         {
          "value": 0,
          "variable": "x200",
          "year": "2041"
         },
         {
          "value": 0,
          "variable": "x200",
          "year": "2042"
         },
         {
          "value": 0,
          "variable": "x200",
          "year": "2043"
         },
         {
          "value": 0,
          "variable": "x200",
          "year": "2044"
         },
         {
          "value": 0.38778307491855124,
          "variable": "x200",
          "year": "2045"
         },
         {
          "value": 0.38778307491855124,
          "variable": "x200",
          "year": "2046"
         },
         {
          "value": 0.38778307491855124,
          "variable": "x200",
          "year": "2047"
         },
         {
          "value": 0.38778307491855124,
          "variable": "x200",
          "year": "2048"
         },
         {
          "value": 0.38778307491855124,
          "variable": "x200",
          "year": "2049"
         },
         {
          "value": 0.38778307491855124,
          "variable": "x200",
          "year": "2050"
         },
         {
          "value": 0.38778307491855124,
          "variable": "x200",
          "year": "2051"
         },
         {
          "value": 0.38778307491855124,
          "variable": "x200",
          "year": "2052"
         },
         {
          "value": 0.38778307491855124,
          "variable": "x200",
          "year": "2053"
         },
         {
          "value": 0.38778307491855124,
          "variable": "x200",
          "year": "2054"
         },
         {
          "value": 0.38778307491855124,
          "variable": "x200",
          "year": "2055"
         }
        ]
       },
       "encoding": {
        "color": {
         "field": "variable",
         "type": "nominal"
        },
        "x": {
         "field": "year"
        },
        "y": {
         "field": "value",
         "stack": "zero",
         "title": "recycled/renewable content",
         "type": "quantitative"
        }
       },
       "legend": "sNames",
       "mark": "area"
      },
      "image/png": "[encoded data removed]",
      "image/svg+xml": [
       "<?xml version=\"1.0\" encoding=\"utf-8\"?>\n",
       "<!DOCTYPE svg PUBLIC \"-//W3C//DTD SVG 1.1//EN\" \"http://www.w3.org/Graphics/SVG/1.1/DTD/svg11.dtd\">\n",
       "<svg xmlns=\"http://www.w3.org/2000/svg\" xmlns:xlink=\"http://www.w3.org/1999/xlink\" version=\"1.1\" class=\"marks\" width=\"834\" height=\"261\" viewBox=\"0 0 834 261\"><rect width=\"834\" height=\"261\" fill=\"white\"/><g fill=\"none\" stroke-miterlimit=\"10\" transform=\"translate(42,10)\"><g class=\"mark-group role-frame root\" role=\"graphics-object\" aria-roledescription=\"group mark container\"><g transform=\"translate(0,0)\"><path class=\"background\" aria-hidden=\"true\" d=\"M0.5,0.5h720v200h-720Z\" stroke=\"#ddd\"/><g><g class=\"mark-group role-axis\" aria-hidden=\"true\"><g transform=\"translate(0.5,0.5)\"><path class=\"background\" aria-hidden=\"true\" d=\"M0,0h0v0h0Z\" pointer-events=\"none\"/><g><g class=\"mark-rule role-axis-grid\" pointer-events=\"none\"><line transform=\"translate(0,200)\" x2=\"720\" y2=\"0\" stroke=\"#ddd\" stroke-width=\"1\" opacity=\"1\"/><line transform=\"translate(0,150)\" x2=\"720\" y2=\"0\" stroke=\"#ddd\" stroke-width=\"1\" opacity=\"1\"/><line transform=\"translate(0,100)\" x2=\"720\" y2=\"0\" stroke=\"#ddd\" stroke-width=\"1\" opacity=\"1\"/><line transform=\"translate(0,50)\" x2=\"720\" y2=\"0\" stroke=\"#ddd\" stroke-width=\"1\" opacity=\"1\"/><line transform=\"translate(0,0)\" x2=\"720\" y2=\"0\" stroke=\"#ddd\" stroke-width=\"1\" opacity=\"1\"/></g></g><path class=\"foreground\" aria-hidden=\"true\" d=\"\" pointer-events=\"none\" display=\"none\"/></g></g><g class=\"mark-group role-axis\" role=\"graphics-symbol\" aria-roledescription=\"axis\" aria-label=\"X-axis titled 'year' for a discrete scale with 36 values: 2020, 2021, 2022, 2023, 2024, ending with 2055\"><g transform=\"translate(0.5,200.5)\"><path class=\"background\" aria-hidden=\"true\" d=\"M0,0h0v0h0Z\" pointer-events=\"none\"/><g><g class=\"mark-rule role-axis-tick\" pointer-events=\"none\"><line transform=\"translate(10,0)\" x2=\"0\" y2=\"5\" stroke=\"#888\" stroke-width=\"1\" opacity=\"1\"/><line transform=\"translate(30,0)\" x2=\"0\" y2=\"5\" stroke=\"#888\" stroke-width=\"1\" opacity=\"1\"/><line transform=\"translate(50,0)\" x2=\"0\" y2=\"5\" stroke=\"#888\" stroke-width=\"1\" opacity=\"1\"/><line transform=\"translate(70,0)\" x2=\"0\" y2=\"5\" stroke=\"#888\" stroke-width=\"1\" opacity=\"1\"/><line transform=\"translate(90,0)\" x2=\"0\" y2=\"5\" stroke=\"#888\" stroke-width=\"1\" opacity=\"1\"/><line transform=\"translate(110,0)\" x2=\"0\" y2=\"5\" stroke=\"#888\" stroke-width=\"1\" opacity=\"1\"/><line transform=\"translate(130,0)\" x2=\"0\" y2=\"5\" stroke=\"#888\" stroke-width=\"1\" opacity=\"1\"/><line transform=\"translate(150,0)\" x2=\"0\" y2=\"5\" stroke=\"#888\" stroke-width=\"1\" opacity=\"1\"/><line transform=\"translate(170,0)\" x2=\"0\" y2=\"5\" stroke=\"#888\" stroke-width=\"1\" opacity=\"1\"/><line transform=\"translate(190,0)\" x2=\"0\" y2=\"5\" stroke=\"#888\" stroke-width=\"1\" opacity=\"1\"/><line transform=\"translate(210,0)\" x2=\"0\" y2=\"5\" stroke=\"#888\" stroke-width=\"1\" opacity=\"1\"/><line transform=\"translate(230,0)\" x2=\"0\" y2=\"5\" stroke=\"#888\" stroke-width=\"1\" opacity=\"1\"/><line transform=\"translate(250,0)\" x2=\"0\" y2=\"5\" stroke=\"#888\" stroke-width=\"1\" opacity=\"1\"/><line transform=\"translate(270,0)\" x2=\"0\" y2=\"5\" stroke=\"#888\" stroke-width=\"1\" opacity=\"1\"/><line transform=\"translate(290,0)\" x2=\"0\" y2=\"5\" stroke=\"#888\" stroke-width=\"1\" opacity=\"1\"/><line transform=\"translate(310,0)\" x2=\"0\" y2=\"5\" stroke=\"#888\" stroke-width=\"1\" opacity=\"1\"/><line transform=\"translate(330,0)\" x2=\"0\" y2=\"5\" stroke=\"#888\" stroke-width=\"1\" opacity=\"1\"/><line transform=\"translate(350,0)\" x2=\"0\" y2=\"5\" stroke=\"#888\" stroke-width=\"1\" opacity=\"1\"/><line transform=\"translate(370,0)\" x2=\"0\" y2=\"5\" stroke=\"#888\" stroke-width=\"1\" opacity=\"1\"/><line transform=\"translate(390,0)\" x2=\"0\" y2=\"5\" stroke=\"#888\" stroke-width=\"1\" opacity=\"1\"/><line transform=\"translate(410,0)\" x2=\"0\" y2=\"5\" stroke=\"#888\" stroke-width=\"1\" opacity=\"1\"/><line transform=\"translate(430,0)\" x2=\"0\" y2=\"5\" stroke=\"#888\" stroke-width=\"1\" opacity=\"1\"/><line transform=\"translate(450,0)\" x2=\"0\" y2=\"5\" stroke=\"#888\" stroke-width=\"1\" opacity=\"1\"/><line transform=\"translate(470,0)\" x2=\"0\" y2=\"5\" stroke=\"#888\" stroke-width=\"1\" opacity=\"1\"/><line transform=\"translate(490,0)\" x2=\"0\" y2=\"5\" stroke=\"#888\" stroke-width=\"1\" opacity=\"1\"/><line transform=\"translate(510,0)\" x2=\"0\" y2=\"5\" stroke=\"#888\" stroke-width=\"1\" opacity=\"1\"/><line transform=\"translate(530,0)\" x2=\"0\" y2=\"5\" stroke=\"#888\" stroke-width=\"1\" opacity=\"1\"/><line transform=\"translate(550,0)\" x2=\"0\" y2=\"5\" stroke=\"#888\" stroke-width=\"1\" opacity=\"1\"/><line transform=\"translate(570,0)\" x2=\"0\" y2=\"5\" stroke=\"#888\" stroke-width=\"1\" opacity=\"1\"/><line transform=\"translate(590,0)\" x2=\"0\" y2=\"5\" stroke=\"#888\" stroke-width=\"1\" opacity=\"1\"/><line transform=\"translate(610,0)\" x2=\"0\" y2=\"5\" stroke=\"#888\" stroke-width=\"1\" opacity=\"1\"/><line transform=\"translate(630,0)\" x2=\"0\" y2=\"5\" stroke=\"#888\" stroke-width=\"1\" opacity=\"1\"/><line transform=\"translate(650,0)\" x2=\"0\" y2=\"5\" stroke=\"#888\" stroke-width=\"1\" opacity=\"1\"/><line transform=\"translate(670,0)\" x2=\"0\" y2=\"5\" stroke=\"#888\" stroke-width=\"1\" opacity=\"1\"/><line transform=\"translate(690,0)\" x2=\"0\" y2=\"5\" stroke=\"#888\" stroke-width=\"1\" opacity=\"1\"/><line transform=\"translate(710,0)\" x2=\"0\" y2=\"5\" stroke=\"#888\" stroke-width=\"1\" opacity=\"1\"/></g><g class=\"mark-text role-axis-label\" pointer-events=\"none\"><text text-anchor=\"end\" transform=\"translate(10,7) rotate(270) translate(0,3)\" font-family=\"sans-serif\" font-size=\"10px\" fill=\"#000\" opacity=\"1\">2020</text><text text-anchor=\"end\" transform=\"translate(30,7) rotate(270) translate(0,3)\" font-family=\"sans-serif\" font-size=\"10px\" fill=\"#000\" opacity=\"1\">2021</text><text text-anchor=\"end\" transform=\"translate(50,7) rotate(270) translate(0,3)\" font-family=\"sans-serif\" font-size=\"10px\" fill=\"#000\" opacity=\"1\">2022</text><text text-anchor=\"end\" transform=\"translate(70,7) rotate(270) translate(0,3)\" font-family=\"sans-serif\" font-size=\"10px\" fill=\"#000\" opacity=\"1\">2023</text><text text-anchor=\"end\" transform=\"translate(90,7) rotate(270) translate(0,3)\" font-family=\"sans-serif\" font-size=\"10px\" fill=\"#000\" opacity=\"1\">2024</text><text text-anchor=\"end\" transform=\"translate(110,7) rotate(270) translate(0,3)\" font-family=\"sans-serif\" font-size=\"10px\" fill=\"#000\" opacity=\"1\">2025</text><text text-anchor=\"end\" transform=\"translate(130,7) rotate(270) translate(0,3)\" font-family=\"sans-serif\" font-size=\"10px\" fill=\"#000\" opacity=\"1\">2026</text><text text-anchor=\"end\" transform=\"translate(150,7) rotate(270) translate(0,3)\" font-family=\"sans-serif\" font-size=\"10px\" fill=\"#000\" opacity=\"1\">2027</text><text text-anchor=\"end\" transform=\"translate(170,7) rotate(270) translate(0,3)\" font-family=\"sans-serif\" font-size=\"10px\" fill=\"#000\" opacity=\"1\">2028</text><text text-anchor=\"end\" transform=\"translate(190,7) rotate(270) translate(0,3)\" font-family=\"sans-serif\" font-size=\"10px\" fill=\"#000\" opacity=\"1\">2029</text><text text-anchor=\"end\" transform=\"translate(210,7) rotate(270) translate(0,3)\" font-family=\"sans-serif\" font-size=\"10px\" fill=\"#000\" opacity=\"1\">2030</text><text text-anchor=\"end\" transform=\"translate(230,7) rotate(270) translate(0,3)\" font-family=\"sans-serif\" font-size=\"10px\" fill=\"#000\" opacity=\"1\">2031</text><text text-anchor=\"end\" transform=\"translate(250,7) rotate(270) translate(0,3)\" font-family=\"sans-serif\" font-size=\"10px\" fill=\"#000\" opacity=\"1\">2032</text><text text-anchor=\"end\" transform=\"translate(270,7) rotate(270) translate(0,3)\" font-family=\"sans-serif\" font-size=\"10px\" fill=\"#000\" opacity=\"1\">2033</text><text text-anchor=\"end\" transform=\"translate(290,7) rotate(270) translate(0,3)\" font-family=\"sans-serif\" font-size=\"10px\" fill=\"#000\" opacity=\"1\">2034</text><text text-anchor=\"end\" transform=\"translate(310,7) rotate(270) translate(0,3)\" font-family=\"sans-serif\" font-size=\"10px\" fill=\"#000\" opacity=\"1\">2035</text><text text-anchor=\"end\" transform=\"translate(330,7) rotate(270) translate(0,3)\" font-family=\"sans-serif\" font-size=\"10px\" fill=\"#000\" opacity=\"1\">2036</text><text text-anchor=\"end\" transform=\"translate(350,7) rotate(270) translate(0,3)\" font-family=\"sans-serif\" font-size=\"10px\" fill=\"#000\" opacity=\"1\">2037</text><text text-anchor=\"end\" transform=\"translate(370,7) rotate(270) translate(0,3)\" font-family=\"sans-serif\" font-size=\"10px\" fill=\"#000\" opacity=\"1\">2038</text><text text-anchor=\"end\" transform=\"translate(390,7) rotate(270) translate(0,3)\" font-family=\"sans-serif\" font-size=\"10px\" fill=\"#000\" opacity=\"1\">2039</text><text text-anchor=\"end\" transform=\"translate(410,7) rotate(270) translate(0,3)\" font-family=\"sans-serif\" font-size=\"10px\" fill=\"#000\" opacity=\"1\">2040</text><text text-anchor=\"end\" transform=\"translate(430,7) rotate(270) translate(0,3)\" font-family=\"sans-serif\" font-size=\"10px\" fill=\"#000\" opacity=\"1\">2041</text><text text-anchor=\"end\" transform=\"translate(450,7) rotate(270) translate(0,3)\" font-family=\"sans-serif\" font-size=\"10px\" fill=\"#000\" opacity=\"1\">2042</text><text text-anchor=\"end\" transform=\"translate(470,7) rotate(270) translate(0,3)\" font-family=\"sans-serif\" font-size=\"10px\" fill=\"#000\" opacity=\"1\">2043</text><text text-anchor=\"end\" transform=\"translate(490,7) rotate(270) translate(0,3)\" font-family=\"sans-serif\" font-size=\"10px\" fill=\"#000\" opacity=\"1\">2044</text><text text-anchor=\"end\" transform=\"translate(510,7) rotate(270) translate(0,3)\" font-family=\"sans-serif\" font-size=\"10px\" fill=\"#000\" opacity=\"1\">2045</text><text text-anchor=\"end\" transform=\"translate(530,7) rotate(270) translate(0,3)\" font-family=\"sans-serif\" font-size=\"10px\" fill=\"#000\" opacity=\"1\">2046</text><text text-anchor=\"end\" transform=\"translate(550,7) rotate(270) translate(0,3)\" font-family=\"sans-serif\" font-size=\"10px\" fill=\"#000\" opacity=\"1\">2047</text><text text-anchor=\"end\" transform=\"translate(570,7) rotate(270) translate(0,3)\" font-family=\"sans-serif\" font-size=\"10px\" fill=\"#000\" opacity=\"1\">2048</text><text text-anchor=\"end\" transform=\"translate(590,7) rotate(270) translate(0,3)\" font-family=\"sans-serif\" font-size=\"10px\" fill=\"#000\" opacity=\"1\">2049</text><text text-anchor=\"end\" transform=\"translate(610,7) rotate(270) translate(0,3)\" font-family=\"sans-serif\" font-size=\"10px\" fill=\"#000\" opacity=\"1\">2050</text><text text-anchor=\"end\" transform=\"translate(630,7) rotate(270) translate(0,3)\" font-family=\"sans-serif\" font-size=\"10px\" fill=\"#000\" opacity=\"1\">2051</text><text text-anchor=\"end\" transform=\"translate(650,7) rotate(270) translate(0,3)\" font-family=\"sans-serif\" font-size=\"10px\" fill=\"#000\" opacity=\"1\">2052</text><text text-anchor=\"end\" transform=\"translate(670,7) rotate(270) translate(0,3)\" font-family=\"sans-serif\" font-size=\"10px\" fill=\"#000\" opacity=\"1\">2053</text><text text-anchor=\"end\" transform=\"translate(690,7) rotate(270) translate(0,3)\" font-family=\"sans-serif\" font-size=\"10px\" fill=\"#000\" opacity=\"1\">2054</text><text text-anchor=\"end\" transform=\"translate(710,7) rotate(270) translate(0,3)\" font-family=\"sans-serif\" font-size=\"10px\" fill=\"#000\" opacity=\"1\">2055</text></g><g class=\"mark-rule role-axis-domain\" pointer-events=\"none\"><line transform=\"translate(0,0)\" x2=\"720\" y2=\"0\" stroke=\"#888\" stroke-width=\"1\" opacity=\"1\"/></g><g class=\"mark-text role-axis-title\" pointer-events=\"none\"><text text-anchor=\"middle\" transform=\"translate(360,44)\" font-family=\"sans-serif\" font-size=\"11px\" font-weight=\"bold\" fill=\"#000\" opacity=\"1\">year</text></g></g><path class=\"foreground\" aria-hidden=\"true\" d=\"\" pointer-events=\"none\" display=\"none\"/></g></g><g class=\"mark-group role-axis\" role=\"graphics-symbol\" aria-roledescription=\"axis\" aria-label=\"Y-axis titled 'recycled/renewable content' for a linear scale with values from 0.0 to 0.8\"><g transform=\"translate(0.5,0.5)\"><path class=\"background\" aria-hidden=\"true\" d=\"M0,0h0v0h0Z\" pointer-events=\"none\"/><g><g class=\"mark-rule role-axis-tick\" pointer-events=\"none\"><line transform=\"translate(0,200)\" x2=\"-5\" y2=\"0\" stroke=\"#888\" stroke-width=\"1\" opacity=\"1\"/><line transform=\"translate(0,150)\" x2=\"-5\" y2=\"0\" stroke=\"#888\" stroke-width=\"1\" opacity=\"1\"/><line transform=\"translate(0,100)\" x2=\"-5\" y2=\"0\" stroke=\"#888\" stroke-width=\"1\" opacity=\"1\"/><line transform=\"translate(0,50)\" x2=\"-5\" y2=\"0\" stroke=\"#888\" stroke-width=\"1\" opacity=\"1\"/><line transform=\"translate(0,0)\" x2=\"-5\" y2=\"0\" stroke=\"#888\" stroke-width=\"1\" opacity=\"1\"/></g><g class=\"mark-text role-axis-label\" pointer-events=\"none\"><text text-anchor=\"end\" transform=\"translate(-7,203)\" font-family=\"sans-serif\" font-size=\"10px\" fill=\"#000\" opacity=\"1\">0.0</text><text text-anchor=\"end\" transform=\"translate(-7,153)\" font-family=\"sans-serif\" font-size=\"10px\" fill=\"#000\" opacity=\"1\">0.2</text><text text-anchor=\"end\" transform=\"translate(-7,103)\" font-family=\"sans-serif\" font-size=\"10px\" fill=\"#000\" opacity=\"1\">0.4</text><text text-anchor=\"end\" transform=\"translate(-7,53.00000000000002)\" font-family=\"sans-serif\" font-size=\"10px\" fill=\"#000\" opacity=\"1\">0.6</text><text text-anchor=\"end\" transform=\"translate(-7,3)\" font-family=\"sans-serif\" font-size=\"10px\" fill=\"#000\" opacity=\"1\">0.8</text></g><g class=\"mark-rule role-axis-domain\" pointer-events=\"none\"><line transform=\"translate(0,200)\" x2=\"0\" y2=\"-200\" stroke=\"#888\" stroke-width=\"1\" opacity=\"1\"/></g><g class=\"mark-text role-axis-title\" pointer-events=\"none\"><text text-anchor=\"middle\" transform=\"translate(-26,100) rotate(-90) translate(0,-2)\" font-family=\"sans-serif\" font-size=\"11px\" font-weight=\"bold\" fill=\"#000\" opacity=\"1\">recycled/renewable content</text></g></g><path class=\"foreground\" aria-hidden=\"true\" d=\"\" pointer-events=\"none\" display=\"none\"/></g></g><g class=\"mark-group role-scope pathgroup\" role=\"graphics-object\" aria-roledescription=\"group mark container\"><g transform=\"translate(0,0)\"><path class=\"background\" aria-hidden=\"true\" d=\"M0,0h720v200h-720Z\"/><g><g class=\"mark-area role-mark marks\" role=\"graphics-object\" aria-roledescription=\"area mark container\"><path aria-label=\"year: 2020; recycled/renewable content: 0; variable: x143\" role=\"graphics-symbol\" aria-roledescription=\"area mark\" d=\"M10,200L30,200L50,200L70,200L90,200L110,200L130,200L150,200L170,200L190,200L210,12.499999999999979L230,12.499999999999979L250,12.499999999999979L270,12.499999999999979L290,12.499999999999979L310,11.18864919302891L330,11.18864919302891L350,11.18864919302891L370,11.18864919302891L390,11.18864919302891L410,12.261706025000008L430,12.261706025000008L450,12.261706025000008L470,12.261706025000008L490,12.261706025000008L510,12.5L530,12.5L550,12.5L570,12.5L590,12.5L610,12.5L630,12.5L650,12.5L670,12.5L690,12.5L710,12.5L710,12.5L690,12.5L670,12.5L650,12.5L630,12.5L610,12.5L590,12.5L570,12.5L550,12.5L530,12.5L510,12.5L490,12.261706025000008L470,12.261706025000008L450,12.261706025000008L430,12.261706025000008L410,12.261706025000008L390,11.18864919302891L370,11.18864919302891L350,11.18864919302891L330,11.18864919302891L310,11.18864919302891L290,103.69051247663398L270,103.69051247663398L250,103.69051247663398L230,103.69051247663398L210,103.69051247663398L190,200L170,200L150,200L130,200L110,200L90,200L70,200L50,200L30,200L10,200Z\" fill=\"#4c78a8\"/></g></g><path class=\"foreground\" aria-hidden=\"true\" d=\"\" display=\"none\"/></g><g transform=\"translate(0,0)\"><path class=\"background\" aria-hidden=\"true\" d=\"M0,0h720v200h-720Z\"/><g><g class=\"mark-area role-mark marks\" role=\"graphics-object\" aria-roledescription=\"area mark container\"><path aria-label=\"year: 2020; recycled/renewable content: 0; variable: x156\" role=\"graphics-symbol\" aria-roledescription=\"area mark\" d=\"M10,200L30,200L50,200L70,200L90,200L110,200L130,200L150,200L170,200L190,200L210,103.69051247663398L230,103.69051247663398L250,103.69051247663398L270,103.69051247663398L290,103.69051247663398L310,11.18864919302891L330,11.18864919302891L350,11.18864919302891L370,11.18864919302891L390,11.18864919302891L410,12.261706025000008L430,12.261706025000008L450,12.261706025000008L470,12.261706025000008L490,12.261706025000008L510,12.5L530,12.5L550,12.5L570,12.5L590,12.5L610,12.5L630,12.5L650,12.5L670,12.5L690,12.5L710,12.5L710,103.0542312703622L690,103.0542312703622L670,103.0542312703622L650,103.0542312703622L630,103.0542312703622L610,103.0542312703622L590,103.0542312703622L570,103.0542312703622L550,103.0542312703622L530,103.0542312703622L510,103.0542312703622L490,12.261706025000008L470,12.261706025000008L450,12.261706025000008L430,12.261706025000008L410,12.261706025000008L390,97.36883443751476L370,97.36883443751476L350,97.36883443751476L330,97.36883443751476L310,97.36883443751476L290,103.69051247663398L270,103.69051247663398L250,103.69051247663398L230,103.69051247663398L210,103.69051247663398L190,200L170,200L150,200L130,200L110,200L90,200L70,200L50,200L30,200L10,200Z\" fill=\"#f58518\"/></g></g><path class=\"foreground\" aria-hidden=\"true\" d=\"\" display=\"none\"/></g><g transform=\"translate(0,0)\"><path class=\"background\" aria-hidden=\"true\" d=\"M0,0h720v200h-720Z\"/><g><g class=\"mark-area role-mark marks\" role=\"graphics-object\" aria-roledescription=\"area mark container\"><path aria-label=\"year: 2020; recycled/renewable content: 0; variable: x161\" role=\"graphics-symbol\" aria-roledescription=\"area mark\" d=\"M10,200L30,200L50,200L70,200L90,200L110,200L130,200L150,200L170,200L190,200L210,103.69051247663398L230,103.69051247663398L250,103.69051247663398L270,103.69051247663398L290,103.69051247663398L310,97.36883443751476L330,97.36883443751476L350,97.36883443751476L370,97.36883443751476L390,97.36883443751476L410,12.261706025000008L430,12.261706025000008L450,12.261706025000008L470,12.261706025000008L490,12.261706025000008L510,103.0542312703622L530,103.0542312703622L550,103.0542312703622L570,103.0542312703622L590,103.0542312703622L610,103.0542312703622L630,103.0542312703622L650,103.0542312703622L670,103.0542312703622L690,103.0542312703622L710,103.0542312703622L710,103.0542312703622L690,103.0542312703622L670,103.0542312703622L650,103.0542312703622L630,103.0542312703622L610,103.0542312703622L590,103.0542312703622L570,103.0542312703622L550,103.0542312703622L530,103.0542312703622L510,103.0542312703622L490,101.98798250717917L470,101.98798250717917L450,101.98798250717917L430,101.98798250717917L410,101.98798250717917L390,97.36883443751476L370,97.36883443751476L350,97.36883443751476L330,97.36883443751476L310,97.36883443751476L290,103.69051247663398L270,103.69051247663398L250,103.69051247663398L230,103.69051247663398L210,103.69051247663398L190,200L170,200L150,200L130,200L110,200L90,200L70,200L50,200L30,200L10,200Z\" fill=\"#e45756\"/></g></g><path class=\"foreground\" aria-hidden=\"true\" d=\"\" display=\"none\"/></g><g transform=\"translate(0,0)\"><path class=\"background\" aria-hidden=\"true\" d=\"M0,0h720v200h-720Z\"/><g><g class=\"mark-area role-mark marks\" role=\"graphics-object\" aria-roledescription=\"area mark container\"><path aria-label=\"year: 2020; recycled/renewable content: 0; variable: x199\" role=\"graphics-symbol\" aria-roledescription=\"area mark\" d=\"M10,200L30,200L50,200L70,200L90,200L110,200L130,200L150,200L170,200L190,200L210,103.69051247663398L230,103.69051247663398L250,103.69051247663398L270,103.69051247663398L290,103.69051247663398L310,97.36883443751476L330,97.36883443751476L350,97.36883443751476L370,97.36883443751476L390,97.36883443751476L410,101.98798250717917L430,101.98798250717917L450,101.98798250717917L470,101.98798250717917L490,101.98798250717917L510,103.0542312703622L530,103.0542312703622L550,103.0542312703622L570,103.0542312703622L590,103.0542312703622L610,103.0542312703622L630,103.0542312703622L650,103.0542312703622L670,103.0542312703622L690,103.0542312703622L710,103.0542312703622L710,103.0542312703622L690,103.0542312703622L670,103.0542312703622L650,103.0542312703622L630,103.0542312703622L610,103.0542312703622L590,103.0542312703622L570,103.0542312703622L550,103.0542312703622L530,103.0542312703622L510,103.0542312703622L490,200L470,200L450,200L430,200L410,200L390,97.36883443751476L370,97.36883443751476L350,97.36883443751476L330,97.36883443751476L310,97.36883443751476L290,200L270,200L250,200L230,200L210,200L190,200L170,200L150,200L130,200L110,200L90,200L70,200L50,200L30,200L10,200Z\" fill=\"#72b7b2\"/></g></g><path class=\"foreground\" aria-hidden=\"true\" d=\"\" display=\"none\"/></g><g transform=\"translate(0,0)\"><path class=\"background\" aria-hidden=\"true\" d=\"M0,0h720v200h-720Z\"/><g><g class=\"mark-area role-mark marks\" role=\"graphics-object\" aria-roledescription=\"area mark container\"><path aria-label=\"year: 2020; recycled/renewable content: 0; variable: x200\" role=\"graphics-symbol\" aria-roledescription=\"area mark\" d=\"M10,200L30,200L50,200L70,200L90,200L110,200L130,200L150,200L170,200L190,200L210,200L230,200L250,200L270,200L290,200L310,97.36883443751476L330,97.36883443751476L350,97.36883443751476L370,97.36883443751476L390,97.36883443751476L410,200L430,200L450,200L470,200L490,200L510,103.0542312703622L530,103.0542312703622L550,103.0542312703622L570,103.0542312703622L590,103.0542312703622L610,103.0542312703622L630,103.0542312703622L650,103.0542312703622L670,103.0542312703622L690,103.0542312703622L710,103.0542312703622L710,200L690,200L670,200L650,200L630,200L610,200L590,200L570,200L550,200L530,200L510,200L490,200L470,200L450,200L430,200L410,200L390,200L370,200L350,200L330,200L310,200L290,200L270,200L250,200L230,200L210,200L190,200L170,200L150,200L130,200L110,200L90,200L70,200L50,200L30,200L10,200Z\" fill=\"#54a24b\"/></g></g><path class=\"foreground\" aria-hidden=\"true\" d=\"\" display=\"none\"/></g></g><g class=\"mark-group role-legend\" role=\"graphics-symbol\" aria-roledescription=\"legend\" aria-label=\"Symbol legend titled 'variable' for fill color with 5 values: x143, x156, x161, x199, x200\"><g transform=\"translate(738,0)\"><path class=\"background\" aria-hidden=\"true\" d=\"M0,0h49v79h-49Z\" pointer-events=\"none\"/><g><g class=\"mark-group role-legend-entry\"><g transform=\"translate(0,16)\"><path class=\"background\" aria-hidden=\"true\" d=\"M0,0h0v0h0Z\" pointer-events=\"none\"/><g><g class=\"mark-group role-scope\" role=\"graphics-object\" aria-roledescription=\"group mark container\"><g transform=\"translate(0,0)\"><path class=\"background\" aria-hidden=\"true\" d=\"M0,0h40v11h-40Z\" pointer-events=\"none\" opacity=\"1\"/><g><g class=\"mark-symbol role-legend-symbol\" pointer-events=\"none\"><path transform=\"translate(6,6)\" d=\"M5,0A5,5,0,1,1,-5,0A5,5,0,1,1,5,0\" fill=\"#4c78a8\" stroke-width=\"1.5\" opacity=\"1\"/></g><g class=\"mark-text role-legend-label\" pointer-events=\"none\"><text text-anchor=\"start\" transform=\"translate(16,9)\" font-family=\"sans-serif\" font-size=\"10px\" fill=\"#000\" opacity=\"1\">x143</text></g></g><path class=\"foreground\" aria-hidden=\"true\" d=\"\" pointer-events=\"none\" display=\"none\"/></g><g transform=\"translate(0,13)\"><path class=\"background\" aria-hidden=\"true\" d=\"M0,0h40v11h-40Z\" pointer-events=\"none\" opacity=\"1\"/><g><g class=\"mark-symbol role-legend-symbol\" pointer-events=\"none\"><path transform=\"translate(6,6)\" d=\"M5,0A5,5,0,1,1,-5,0A5,5,0,1,1,5,0\" fill=\"#f58518\" stroke-width=\"1.5\" opacity=\"1\"/></g><g class=\"mark-text role-legend-label\" pointer-events=\"none\"><text text-anchor=\"start\" transform=\"translate(16,9)\" font-family=\"sans-serif\" font-size=\"10px\" fill=\"#000\" opacity=\"1\">x156</text></g></g><path class=\"foreground\" aria-hidden=\"true\" d=\"\" pointer-events=\"none\" display=\"none\"/></g><g transform=\"translate(0,26)\"><path class=\"background\" aria-hidden=\"true\" d=\"M0,0h40v11h-40Z\" pointer-events=\"none\" opacity=\"1\"/><g><g class=\"mark-symbol role-legend-symbol\" pointer-events=\"none\"><path transform=\"translate(6,6)\" d=\"M5,0A5,5,0,1,1,-5,0A5,5,0,1,1,5,0\" fill=\"#e45756\" stroke-width=\"1.5\" opacity=\"1\"/></g><g class=\"mark-text role-legend-label\" pointer-events=\"none\"><text text-anchor=\"start\" transform=\"translate(16,9)\" font-family=\"sans-serif\" font-size=\"10px\" fill=\"#000\" opacity=\"1\">x161</text></g></g><path class=\"foreground\" aria-hidden=\"true\" d=\"\" pointer-events=\"none\" display=\"none\"/></g><g transform=\"translate(0,39)\"><path class=\"background\" aria-hidden=\"true\" d=\"M0,0h40v11h-40Z\" pointer-events=\"none\" opacity=\"1\"/><g><g class=\"mark-symbol role-legend-symbol\" pointer-events=\"none\"><path transform=\"translate(6,6)\" d=\"M5,0A5,5,0,1,1,-5,0A5,5,0,1,1,5,0\" fill=\"#72b7b2\" stroke-width=\"1.5\" opacity=\"1\"/></g><g class=\"mark-text role-legend-label\" pointer-events=\"none\"><text text-anchor=\"start\" transform=\"translate(16,9)\" font-family=\"sans-serif\" font-size=\"10px\" fill=\"#000\" opacity=\"1\">x199</text></g></g><path class=\"foreground\" aria-hidden=\"true\" d=\"\" pointer-events=\"none\" display=\"none\"/></g><g transform=\"translate(0,52)\"><path class=\"background\" aria-hidden=\"true\" d=\"M0,0h40v11h-40Z\" pointer-events=\"none\" opacity=\"1\"/><g><g class=\"mark-symbol role-legend-symbol\" pointer-events=\"none\"><path transform=\"translate(6,6)\" d=\"M5,0A5,5,0,1,1,-5,0A5,5,0,1,1,5,0\" fill=\"#54a24b\" stroke-width=\"1.5\" opacity=\"1\"/></g><g class=\"mark-text role-legend-label\" pointer-events=\"none\"><text text-anchor=\"start\" transform=\"translate(16,9)\" font-family=\"sans-serif\" font-size=\"10px\" fill=\"#000\" opacity=\"1\">x200</text></g></g><path class=\"foreground\" aria-hidden=\"true\" d=\"\" pointer-events=\"none\" display=\"none\"/></g></g></g><path class=\"foreground\" aria-hidden=\"true\" d=\"\" pointer-events=\"none\" display=\"none\"/></g></g><g class=\"mark-text role-legend-title\" pointer-events=\"none\"><text text-anchor=\"start\" transform=\"translate(0,9)\" font-family=\"sans-serif\" font-size=\"11px\" font-weight=\"bold\" fill=\"#000\" opacity=\"1\">variable</text></g></g><path class=\"foreground\" aria-hidden=\"true\" d=\"\" pointer-events=\"none\" display=\"none\"/></g></g></g><path class=\"foreground\" aria-hidden=\"true\" d=\"\" display=\"none\"/></g></g></g></svg>\n"
      ],
      "text/plain": [
       "@vlplot(\n",
       "    legend=\"sNames\",\n",
       "    mark=\"area\",\n",
       "    encoding={\n",
       "        x={\n",
       "            field=\"year\"\n",
       "        },\n",
       "        y={\n",
       "            stack=\"zero\",\n",
       "            title=\"recycled/renewable content\",\n",
       "            field=\"value\"\n",
       "        },\n",
       "        color={\n",
       "            field=\"variable\",\n",
       "            type=\"nominal\"\n",
       "        }\n",
       "    },\n",
       "    data={\n",
       "        values=...\n",
       "    }\n",
       ")"
      ]
     },
     "execution_count": 83,
     "metadata": {},
     "output_type": "execute_result"
    }
   ],
   "source": [
    "#=\n",
    "function conventional(t)\n",
    "    return initial[1,5]*(1-sum(JuMP.values.(xk)[k,t] for k in 1:nrow(compromise)))\n",
    "end\n",
    "\n",
    "function innovation(i1,k1,t)\n",
    "     if mod(i1,5)>JuMP.values.(tk)[k1,t] && t<7\n",
    "        t=t+1\n",
    "    end\n",
    "    if k1==1\n",
    "        return sum(JuMP.values.(xk)[k,t]*(compromise[k,5])+JuMP.values.(xk)[k,t]*(compromise[k,6]) for k=k1:k1)\n",
    "    else\n",
    "        return sum(JuMP.values.(xk)[k,t]*(compromise[k,5])+JuMP.values.(xk)[k,t]*(compromise[k,6]) for k=k1:k1 )\n",
    "    end\n",
    "end\n",
    "=#\n",
    "\n",
    "function conventional(i1,t)\n",
    "    if t==0\n",
    "        if mod(i1,5)≥mod(sum(round.(JuMP.values.(tk)[1:nrow(compromise),t+1];digits=2)),5) && sum(JuMP.values.(xk)[1:nrow(compromise),t+1]) > 0\n",
    "            return initial[1,5]*(1-sum(JuMP.values.(xk)[k,t+1] for k in 1:nrow(compromise)))\n",
    "        else\n",
    "            return 0\n",
    "        end\n",
    "    else\n",
    "        sum_xks_atT=0\n",
    "        for k1 in 1:nrow(compromise)\n",
    "            if mod(i1,5)≥mod(round(JuMP.values.(tk)[k1,t+1];digits=2),5) && sum(JuMP.values.(xk)[k1,t:t+1])>0 && t>0\n",
    "                sum_xks_atT+=JuMP.values.(xk)[k1,t+1]\n",
    "            else\n",
    "                sum_xks_atT+=JuMP.values.(xk)[k1,t]\n",
    "            end\n",
    "        end\n",
    "            \n",
    "        #if mod(i1,5)≥mod(round(sum(JuMP.values.(tk)[1:nrow(compromise),t+1]);digits=2),5) && sum(JuMP.values.(xk)[1:nrow(compromise),t:t+1])>0 && t>0\n",
    "        #    t=t+1\n",
    "        #end\n",
    "        #return (1-sum(JuMP.values.(xk)[k,t] for k in 1:nrow(compromise)))\n",
    "        return initial[1,5]*(1-sum_xks_atT)\n",
    "    end\n",
    "end\n",
    "\n",
    "\n",
    "function innovation(i1,k1,t)\n",
    "    if t==0 \n",
    "        if mod(i1,5)≥mod(round(JuMP.values.(tk)[k1,t+1];digits=2),5) && JuMP.values.(xk)[k1,t+1] > 0\n",
    "            t=1\n",
    "            return (sum(JuMP.values.(xk)[k,t]*(compromise[k,5]+compromise[k,6]) for k=k1:k1))            \n",
    "        else\n",
    "            return 0\n",
    "        end\n",
    "    end\n",
    "    if mod(i1,5)≥mod(round(JuMP.values.(tk)[k1,t+1];digits=2),5) && sum(JuMP.values.(xk)[k1,t:t+1])>0 && t>0\n",
    "        t=t+1\n",
    "    end\n",
    "    return sum(JuMP.values.(xk)[k,t]*(compromise[k,5]+compromise[k,6]) for k=k1:k1)\n",
    "end\n",
    "\n",
    "\n",
    "\n",
    "\n",
    "\n",
    "conv=zeros(51)\n",
    "\n",
    "\n",
    "inn_co2=zeros(nrow(compromise),51)\n",
    "\n",
    "for k in 1:nrow(compromise)\n",
    "    inn_co2[k,1]=0\n",
    "end\n",
    "j=0\n",
    "for t in 2:51\n",
    "    if 0 ≤ t ≤ 5\n",
    "        j=0\n",
    "    elseif 6 ≤ t ≤ 10\n",
    "        j=1\n",
    "    elseif 6 ≤ t ≤ 10\n",
    "        j=2\n",
    "    elseif 11 ≤ t ≤ 15\n",
    "        j=3\n",
    "    elseif 16 ≤ t ≤ 20\n",
    "        j=4\n",
    "    elseif 21 ≤ t ≤ 25\n",
    "        j=5\n",
    "    else\n",
    "        j=6\n",
    "    end\n",
    "        \n",
    "    conv[t]=conventional(t,j)\n",
    "    for k in 1:nrow(compromise)\n",
    "        inn_co2[k,t]=innovation(t,k,j)\n",
    "    end\n",
    "end\n",
    "#conv[1:5].=initial[1,5]\n",
    "\n",
    "sNames = [\"conv\",\"inn1\",\"inn2\",\"inn3\",\"inn4\",\"inn5\",\"inn6\",\"inn7\",\"inn8\",\"inn9\",\"inn10\"]\n",
    "xLabels = []\n",
    "for i in 2020:2070\n",
    "    push!(xLabels,string(i))\n",
    "end\n",
    "\n",
    "#df = DataFrame(year=xLabels, conv=conv, inn1=inn_co2[1,:],inn2=inn_co2[2,:],inn3=inn_co2[3,:],inn4=inn_co2[4,:],\n",
    "#        inn5=inn_co2[5,:],inn6=inn_co2[6,:],inn7=inn_co2[7,:],inn8=inn_co2[8,:],inn9=inn_co2[9,:],inn10=inn_co2[10,:])\n",
    "df = DataFrame(vcat(conv',inn_co2)',:auto)\n",
    "\n",
    "\n",
    "df=df[1:36,:]\n",
    "\n",
    "df=df[!, any.(>(0), eachcol(df))]\n",
    "df[!,:year]=xLabels[1:36]\n",
    "#rename!(df,[:x1,:x93,:x104,:x222] .=> [:Conv,:pyLDPE1,:pyLDPE11,:alcPLA6])\n",
    "#df[!,:alcPLA2]=zeros(36)\n",
    "#df |> stack |> @vlplot(:area, x=:year, y={:value, stack=:zero, title=\"recycled/renewable content\"}, color=\"variable:n\",legend=:sNames) \n",
    "#df[!,:Conv]=zeros(36)\n",
    "#df[!,:x104]=zeros(36)\n",
    "#df[!,:x196]=zeros(36)\n",
    "#df[!,:x201]=zeros(36)\n",
    "#df[!,:x95]=zeros(36)\n",
    "#rename!(df,[:x1,:x94,:x95,:x104,:x109,:x196,:x198,:x199,:x200,:x201] .=> [:Conv,:LABS12,:LABS13,:LABS22,:LABS27,:RecyclPLA2,:RecyclPLA4,:RecyclPLA5,:RecyclPLA6,:RecyclPLA7])\n",
    "\n",
    "#rename!(df,[:conv,:inn5,:inn10] .=> [:Conventional,:LDPE_Pyrolysis,:PLA_Alcoholysis])\n",
    "\n",
    "circular_inn=df |> stack |> @vlplot(:area, x=:year, y={:value, stack=:zero, title=\"recycled/renewable content\"}, color=\"variable:n\",legend=:sNames) \n",
    "\n",
    "#save(\"./result-case-roadmap/circularity-roadmap.svg\", circular_inn)\n",
    "circular_inn\n"
   ]
  },
  {
   "cell_type": "code",
   "execution_count": 39,
   "id": "6747696d",
   "metadata": {},
   "outputs": [
    {
     "data": {
      "application/vnd.vegalite.v4+json": {
       "data": {
        "values": [
         {
          "value": 0.12,
          "variable": "conv",
          "year": "2020"
         },
         {
          "value": 0,
          "variable": "conv",
          "year": "2021"
         },
         {
          "value": 0,
          "variable": "conv",
          "year": "2022"
         },
         {
          "value": 0,
          "variable": "conv",
          "year": "2023"
         },
         {
          "value": 0,
          "variable": "conv",
          "year": "2024"
         },
         {
          "value": 0,
          "variable": "conv",
          "year": "2025"
         },
         {
          "value": 0,
          "variable": "conv",
          "year": "2026"
         },
         {
          "value": 0,
          "variable": "conv",
          "year": "2027"
         },
         {
          "value": 0,
          "variable": "conv",
          "year": "2028"
         },
         {
          "value": 0,
          "variable": "conv",
          "year": "2029"
         },
         {
          "value": 0,
          "variable": "conv",
          "year": "2030"
         },
         {
          "value": 0,
          "variable": "conv",
          "year": "2031"
         },
         {
          "value": 0,
          "variable": "conv",
          "year": "2032"
         },
         {
          "value": 0,
          "variable": "conv",
          "year": "2033"
         },
         {
          "value": 0,
          "variable": "conv",
          "year": "2034"
         },
         {
          "value": 0,
          "variable": "conv",
          "year": "2035"
         },
         {
          "value": 0,
          "variable": "conv",
          "year": "2036"
         },
         {
          "value": 0,
          "variable": "conv",
          "year": "2037"
         },
         {
          "value": 0,
          "variable": "conv",
          "year": "2038"
         },
         {
          "value": 0,
          "variable": "conv",
          "year": "2039"
         },
         {
          "value": 0,
          "variable": "conv",
          "year": "2040"
         },
         {
          "value": 0,
          "variable": "conv",
          "year": "2041"
         },
         {
          "value": 0,
          "variable": "conv",
          "year": "2042"
         },
         {
          "value": 0,
          "variable": "conv",
          "year": "2043"
         },
         {
          "value": 0,
          "variable": "conv",
          "year": "2044"
         },
         {
          "value": 0,
          "variable": "conv",
          "year": "2045"
         },
         {
          "value": 0,
          "variable": "conv",
          "year": "2046"
         },
         {
          "value": 0,
          "variable": "conv",
          "year": "2047"
         },
         {
          "value": 0,
          "variable": "conv",
          "year": "2048"
         },
         {
          "value": 0,
          "variable": "conv",
          "year": "2049"
         },
         {
          "value": 0,
          "variable": "conv",
          "year": "2050"
         },
         {
          "value": 0,
          "variable": "conv",
          "year": "2051"
         },
         {
          "value": 0,
          "variable": "conv",
          "year": "2052"
         },
         {
          "value": 0,
          "variable": "conv",
          "year": "2053"
         },
         {
          "value": 0,
          "variable": "conv",
          "year": "2054"
         },
         {
          "value": 0,
          "variable": "conv",
          "year": "2055"
         },
         {
          "value": 0,
          "variable": "inn1",
          "year": "2020"
         },
         {
          "value": 0,
          "variable": "inn1",
          "year": "2021"
         },
         {
          "value": 0,
          "variable": "inn1",
          "year": "2022"
         },
         {
          "value": 0,
          "variable": "inn1",
          "year": "2023"
         },
         {
          "value": 0,
          "variable": "inn1",
          "year": "2024"
         },
         {
          "value": 0,
          "variable": "inn1",
          "year": "2025"
         },
         {
          "value": 0,
          "variable": "inn1",
          "year": "2026"
         },
         {
          "value": 0,
          "variable": "inn1",
          "year": "2027"
         },
         {
          "value": 0,
          "variable": "inn1",
          "year": "2028"
         },
         {
          "value": 0,
          "variable": "inn1",
          "year": "2029"
         },
         {
          "value": 0,
          "variable": "inn1",
          "year": "2030"
         },
         {
          "value": 0,
          "variable": "inn1",
          "year": "2031"
         },
         {
          "value": 0,
          "variable": "inn1",
          "year": "2032"
         },
         {
          "value": 0,
          "variable": "inn1",
          "year": "2033"
         },
         {
          "value": 0,
          "variable": "inn1",
          "year": "2034"
         },
         {
          "value": 0,
          "variable": "inn1",
          "year": "2035"
         },
         {
          "value": 0,
          "variable": "inn1",
          "year": "2036"
         },
         {
          "value": 0,
          "variable": "inn1",
          "year": "2037"
         },
         {
          "value": 0,
          "variable": "inn1",
          "year": "2038"
         },
         {
          "value": 0,
          "variable": "inn1",
          "year": "2039"
         },
         {
          "value": 0,
          "variable": "inn1",
          "year": "2040"
         },
         {
          "value": 0,
          "variable": "inn1",
          "year": "2041"
         },
         {
          "value": 0,
          "variable": "inn1",
          "year": "2042"
         },
         {
          "value": 0,
          "variable": "inn1",
          "year": "2043"
         },
         {
          "value": 0,
          "variable": "inn1",
          "year": "2044"
         },
         {
          "value": 0,
          "variable": "inn1",
          "year": "2045"
         },
         {
          "value": 0,
          "variable": "inn1",
          "year": "2046"
         },
         {
          "value": 0,
          "variable": "inn1",
          "year": "2047"
         },
         {
          "value": 0,
          "variable": "inn1",
          "year": "2048"
         },
         {
          "value": 0,
          "variable": "inn1",
          "year": "2049"
         },
         {
          "value": 0,
          "variable": "inn1",
          "year": "2050"
         },
         {
          "value": 0,
          "variable": "inn1",
          "year": "2051"
         },
         {
          "value": 0,
          "variable": "inn1",
          "year": "2052"
         },
         {
          "value": 0,
          "variable": "inn1",
          "year": "2053"
         },
         {
          "value": 0,
          "variable": "inn1",
          "year": "2054"
         },
         {
          "value": 0,
          "variable": "inn1",
          "year": "2055"
         },
         {
          "value": 0,
          "variable": "inn2",
          "year": "2020"
         },
         {
          "value": 0,
          "variable": "inn2",
          "year": "2021"
         },
         {
          "value": 0,
          "variable": "inn2",
          "year": "2022"
         },
         {
          "value": 0,
          "variable": "inn2",
          "year": "2023"
         },
         {
          "value": 0,
          "variable": "inn2",
          "year": "2024"
         },
         {
          "value": 0,
          "variable": "inn2",
          "year": "2025"
         },
         {
          "value": 0,
          "variable": "inn2",
          "year": "2026"
         },
         {
          "value": 0,
          "variable": "inn2",
          "year": "2027"
         },
         {
          "value": 0,
          "variable": "inn2",
          "year": "2028"
         },
         {
          "value": 0,
          "variable": "inn2",
          "year": "2029"
         },
         {
          "value": 0,
          "variable": "inn2",
          "year": "2030"
         },
         {
          "value": 0,
          "variable": "inn2",
          "year": "2031"
         },
         {
          "value": 0,
          "variable": "inn2",
          "year": "2032"
         },
         {
          "value": 0,
          "variable": "inn2",
          "year": "2033"
         },
         {
          "value": 0,
          "variable": "inn2",
          "year": "2034"
         },
         {
          "value": 0,
          "variable": "inn2",
          "year": "2035"
         },
         {
          "value": 0,
          "variable": "inn2",
          "year": "2036"
         },
         {
          "value": 0,
          "variable": "inn2",
          "year": "2037"
         },
         {
          "value": 0,
          "variable": "inn2",
          "year": "2038"
         },
         {
          "value": 0,
          "variable": "inn2",
          "year": "2039"
         },
         {
          "value": 0,
          "variable": "inn2",
          "year": "2040"
         },
         {
          "value": 0,
          "variable": "inn2",
          "year": "2041"
         },
         {
          "value": 0,
          "variable": "inn2",
          "year": "2042"
         },
         {
          "value": 0,
          "variable": "inn2",
          "year": "2043"
         },
         {
          "value": 0,
          "variable": "inn2",
          "year": "2044"
         },
         {
          "value": 0,
          "variable": "inn2",
          "year": "2045"
         },
         {
          "value": 0,
          "variable": "inn2",
          "year": "2046"
         },
         {
          "value": 0,
          "variable": "inn2",
          "year": "2047"
         },
         {
          "value": 0,
          "variable": "inn2",
          "year": "2048"
         },
         {
          "value": 0,
          "variable": "inn2",
          "year": "2049"
         },
         {
          "value": 0,
          "variable": "inn2",
          "year": "2050"
         },
         {
          "value": 0,
          "variable": "inn2",
          "year": "2051"
         },
         {
          "value": 0,
          "variable": "inn2",
          "year": "2052"
         },
         {
          "value": 0,
          "variable": "inn2",
          "year": "2053"
         },
         {
          "value": 0,
          "variable": "inn2",
          "year": "2054"
         },
         {
          "value": 0,
          "variable": "inn2",
          "year": "2055"
         },
         {
          "value": 0,
          "variable": "inn3",
          "year": "2020"
         },
         {
          "value": 0,
          "variable": "inn3",
          "year": "2021"
         },
         {
          "value": 0,
          "variable": "inn3",
          "year": "2022"
         },
         {
          "value": 0,
          "variable": "inn3",
          "year": "2023"
         },
         {
          "value": 0,
          "variable": "inn3",
          "year": "2024"
         },
         {
          "value": 0,
          "variable": "inn3",
          "year": "2025"
         },
         {
          "value": 0,
          "variable": "inn3",
          "year": "2026"
         },
         {
          "value": 0,
          "variable": "inn3",
          "year": "2027"
         },
         {
          "value": 0,
          "variable": "inn3",
          "year": "2028"
         },
         {
          "value": 0,
          "variable": "inn3",
          "year": "2029"
         },
         {
          "value": 0,
          "variable": "inn3",
          "year": "2030"
         },
         {
          "value": 0,
          "variable": "inn3",
          "year": "2031"
         },
         {
          "value": 0,
          "variable": "inn3",
          "year": "2032"
         },
         {
          "value": 0,
          "variable": "inn3",
          "year": "2033"
         },
         {
          "value": 0,
          "variable": "inn3",
          "year": "2034"
         },
         {
          "value": 0,
          "variable": "inn3",
          "year": "2035"
         },
         {
          "value": 0,
          "variable": "inn3",
          "year": "2036"
         },
         {
          "value": 0,
          "variable": "inn3",
          "year": "2037"
         },
         {
          "value": 0,
          "variable": "inn3",
          "year": "2038"
         },
         {
          "value": 0,
          "variable": "inn3",
          "year": "2039"
         },
         {
          "value": 0,
          "variable": "inn3",
          "year": "2040"
         },
         {
          "value": 0,
          "variable": "inn3",
          "year": "2041"
         },
         {
          "value": 0,
          "variable": "inn3",
          "year": "2042"
         },
         {
          "value": 0,
          "variable": "inn3",
          "year": "2043"
         },
         {
          "value": 0,
          "variable": "inn3",
          "year": "2044"
         },
         {
          "value": 0,
          "variable": "inn3",
          "year": "2045"
         },
         {
          "value": 0,
          "variable": "inn3",
          "year": "2046"
         },
         {
          "value": 0,
          "variable": "inn3",
          "year": "2047"
         },
         {
          "value": 0,
          "variable": "inn3",
          "year": "2048"
         },
         {
          "value": 0,
          "variable": "inn3",
          "year": "2049"
         },
         {
          "value": 0,
          "variable": "inn3",
          "year": "2050"
         },
         {
          "value": 0,
          "variable": "inn3",
          "year": "2051"
         },
         {
          "value": 0,
          "variable": "inn3",
          "year": "2052"
         },
         {
          "value": 0,
          "variable": "inn3",
          "year": "2053"
         },
         {
          "value": 0,
          "variable": "inn3",
          "year": "2054"
         },
         {
          "value": 0,
          "variable": "inn3",
          "year": "2055"
         },
         {
          "value": 0,
          "variable": "inn4",
          "year": "2020"
         },
         {
          "value": 0,
          "variable": "inn4",
          "year": "2021"
         },
         {
          "value": 0,
          "variable": "inn4",
          "year": "2022"
         },
         {
          "value": 0,
          "variable": "inn4",
          "year": "2023"
         },
         {
          "value": 0,
          "variable": "inn4",
          "year": "2024"
         },
         {
          "value": 0,
          "variable": "inn4",
          "year": "2025"
         },
         {
          "value": 0,
          "variable": "inn4",
          "year": "2026"
         },
         {
          "value": 0,
          "variable": "inn4",
          "year": "2027"
         },
         {
          "value": 0,
          "variable": "inn4",
          "year": "2028"
         },
         {
          "value": 0,
          "variable": "inn4",
          "year": "2029"
         },
         {
          "value": 0,
          "variable": "inn4",
          "year": "2030"
         },
         {
          "value": 0,
          "variable": "inn4",
          "year": "2031"
         },
         {
          "value": 0,
          "variable": "inn4",
          "year": "2032"
         },
         {
          "value": 0,
          "variable": "inn4",
          "year": "2033"
         },
         {
          "value": 0,
          "variable": "inn4",
          "year": "2034"
         },
         {
          "value": 0,
          "variable": "inn4",
          "year": "2035"
         },
         {
          "value": 0,
          "variable": "inn4",
          "year": "2036"
         },
         {
          "value": 0,
          "variable": "inn4",
          "year": "2037"
         },
         {
          "value": 0,
          "variable": "inn4",
          "year": "2038"
         },
         {
          "value": 0,
          "variable": "inn4",
          "year": "2039"
         },
         {
          "value": 0,
          "variable": "inn4",
          "year": "2040"
         },
         {
          "value": 0,
          "variable": "inn4",
          "year": "2041"
         },
         {
          "value": 0,
          "variable": "inn4",
          "year": "2042"
         },
         {
          "value": 0,
          "variable": "inn4",
          "year": "2043"
         },
         {
          "value": 0,
          "variable": "inn4",
          "year": "2044"
         },
         {
          "value": 0,
          "variable": "inn4",
          "year": "2045"
         },
         {
          "value": 0,
          "variable": "inn4",
          "year": "2046"
         },
         {
          "value": 0,
          "variable": "inn4",
          "year": "2047"
         },
         {
          "value": 0,
          "variable": "inn4",
          "year": "2048"
         },
         {
          "value": 0,
          "variable": "inn4",
          "year": "2049"
         },
         {
          "value": 0,
          "variable": "inn4",
          "year": "2050"
         },
         {
          "value": 0,
          "variable": "inn4",
          "year": "2051"
         },
         {
          "value": 0,
          "variable": "inn4",
          "year": "2052"
         },
         {
          "value": 0,
          "variable": "inn4",
          "year": "2053"
         },
         {
          "value": 0,
          "variable": "inn4",
          "year": "2054"
         },
         {
          "value": 0,
          "variable": "inn4",
          "year": "2055"
         },
         {
          "value": 0,
          "variable": "inn5",
          "year": "2020"
         },
         {
          "value": 1.2134840976095327,
          "variable": "inn5",
          "year": "2021"
         },
         {
          "value": 1.2134840976095327,
          "variable": "inn5",
          "year": "2022"
         },
         {
          "value": 1.2134840976095327,
          "variable": "inn5",
          "year": "2023"
         },
         {
          "value": 1,
          "variable": "inn5",
          "year": "2024"
         },
         {
          "value": 1.2134840976095327,
          "variable": "inn5",
          "year": "2025"
         },
         {
          "value": 1.2134840976095327,
          "variable": "inn5",
          "year": "2026"
         },
         {
          "value": 1.2134840976095327,
          "variable": "inn5",
          "year": "2027"
         },
         {
          "value": 1.2134840976095327,
          "variable": "inn5",
          "year": "2028"
         },
         {
          "value": 0,
          "variable": "inn5",
          "year": "2029"
         },
         {
          "value": 1.213484097609582,
          "variable": "inn5",
          "year": "2030"
         },
         {
          "value": 1.213484097609582,
          "variable": "inn5",
          "year": "2031"
         },
         {
          "value": 1.213484097609582,
          "variable": "inn5",
          "year": "2032"
         },
         {
          "value": 1.213484097609582,
          "variable": "inn5",
          "year": "2033"
         },
         {
          "value": 0.5514678785292009,
          "variable": "inn5",
          "year": "2034"
         },
         {
          "value": 0.6620162190803317,
          "variable": "inn5",
          "year": "2035"
         },
         {
          "value": 0.6620162190803317,
          "variable": "inn5",
          "year": "2036"
         },
         {
          "value": 0.6620162190803317,
          "variable": "inn5",
          "year": "2037"
         },
         {
          "value": 0.6620162190803317,
          "variable": "inn5",
          "year": "2038"
         },
         {
          "value": 0.5481524140640046,
          "variable": "inn5",
          "year": "2039"
         },
         {
          "value": 0.6620162190803317,
          "variable": "inn5",
          "year": "2040"
         },
         {
          "value": 0.6620162190803317,
          "variable": "inn5",
          "year": "2041"
         },
         {
          "value": 0.6620162190803317,
          "variable": "inn5",
          "year": "2042"
         },
         {
          "value": 0.6620162190803317,
          "variable": "inn5",
          "year": "2043"
         },
         {
          "value": 0.5514678785292502,
          "variable": "inn5",
          "year": "2044"
         },
         {
          "value": 0.6620162190803317,
          "variable": "inn5",
          "year": "2045"
         },
         {
          "value": 0.6620162190803317,
          "variable": "inn5",
          "year": "2046"
         },
         {
          "value": 0.6620162190803317,
          "variable": "inn5",
          "year": "2047"
         },
         {
          "value": 0.6620162190803317,
          "variable": "inn5",
          "year": "2048"
         },
         {
          "value": 0.6620162190803317,
          "variable": "inn5",
          "year": "2049"
         },
         {
          "value": 0.6620162190803317,
          "variable": "inn5",
          "year": "2050"
         },
         {
          "value": 0.6620162190803317,
          "variable": "inn5",
          "year": "2051"
         },
         {
          "value": 0.6620162190803317,
          "variable": "inn5",
          "year": "2052"
         },
         {
          "value": 0.6620162190803317,
          "variable": "inn5",
          "year": "2053"
         },
         {
          "value": 0.6620162190803317,
          "variable": "inn5",
          "year": "2054"
         },
         {
          "value": 0.6620162190803317,
          "variable": "inn5",
          "year": "2055"
         },
         {
          "value": 0,
          "variable": "inn6",
          "year": "2020"
         },
         {
          "value": 0,
          "variable": "inn6",
          "year": "2021"
         },
         {
          "value": 0,
          "variable": "inn6",
          "year": "2022"
         },
         {
          "value": 0,
          "variable": "inn6",
          "year": "2023"
         },
         {
          "value": 0,
          "variable": "inn6",
          "year": "2024"
         },
         {
          "value": 0,
          "variable": "inn6",
          "year": "2025"
         },
         {
          "value": 0,
          "variable": "inn6",
          "year": "2026"
         },
         {
          "value": 0,
          "variable": "inn6",
          "year": "2027"
         },
         {
          "value": 0,
          "variable": "inn6",
          "year": "2028"
         },
         {
          "value": 0,
          "variable": "inn6",
          "year": "2029"
         },
         {
          "value": 0,
          "variable": "inn6",
          "year": "2030"
         },
         {
          "value": 0,
          "variable": "inn6",
          "year": "2031"
         },
         {
          "value": 0,
          "variable": "inn6",
          "year": "2032"
         },
         {
          "value": 0,
          "variable": "inn6",
          "year": "2033"
         },
         {
          "value": 0,
          "variable": "inn6",
          "year": "2034"
         },
         {
          "value": 0,
          "variable": "inn6",
          "year": "2035"
         },
         {
          "value": 0,
          "variable": "inn6",
          "year": "2036"
         },
         {
          "value": 0,
          "variable": "inn6",
          "year": "2037"
         },
         {
          "value": 0,
          "variable": "inn6",
          "year": "2038"
         },
         {
          "value": 0,
          "variable": "inn6",
          "year": "2039"
         },
         {
          "value": 0,
          "variable": "inn6",
          "year": "2040"
         },
         {
          "value": 0,
          "variable": "inn6",
          "year": "2041"
         },
         {
          "value": 0,
          "variable": "inn6",
          "year": "2042"
         },
         {
          "value": 0,
          "variable": "inn6",
          "year": "2043"
         },
         {
          "value": 0,
          "variable": "inn6",
          "year": "2044"
         },
         {
          "value": 0,
          "variable": "inn6",
          "year": "2045"
         },
         {
          "value": 0,
          "variable": "inn6",
          "year": "2046"
         },
         {
          "value": 0,
          "variable": "inn6",
          "year": "2047"
         },
         {
          "value": 0,
          "variable": "inn6",
          "year": "2048"
         },
         {
          "value": 0,
          "variable": "inn6",
          "year": "2049"
         },
         {
          "value": 0,
          "variable": "inn6",
          "year": "2050"
         },
         {
          "value": 0,
          "variable": "inn6",
          "year": "2051"
         },
         {
          "value": 0,
          "variable": "inn6",
          "year": "2052"
         },
         {
          "value": 0,
          "variable": "inn6",
          "year": "2053"
         },
         {
          "value": 0,
          "variable": "inn6",
          "year": "2054"
         },
         {
          "value": 0,
          "variable": "inn6",
          "year": "2055"
         },
         {
          "value": 0,
          "variable": "inn7",
          "year": "2020"
         },
         {
          "value": 0,
          "variable": "inn7",
          "year": "2021"
         },
         {
          "value": 0,
          "variable": "inn7",
          "year": "2022"
         },
         {
          "value": 0,
          "variable": "inn7",
          "year": "2023"
         },
         {
          "value": 0,
          "variable": "inn7",
          "year": "2024"
         },
         {
          "value": 0,
          "variable": "inn7",
          "year": "2025"
         },
         {
          "value": 0,
          "variable": "inn7",
          "year": "2026"
         },
         {
          "value": 0,
          "variable": "inn7",
          "year": "2027"
         },
         {
          "value": 0,
          "variable": "inn7",
          "year": "2028"
         },
         {
          "value": 0,
          "variable": "inn7",
          "year": "2029"
         },
         {
          "value": 0,
          "variable": "inn7",
          "year": "2030"
         },
         {
          "value": 0,
          "variable": "inn7",
          "year": "2031"
         },
         {
          "value": 0,
          "variable": "inn7",
          "year": "2032"
         },
         {
          "value": 0,
          "variable": "inn7",
          "year": "2033"
         },
         {
          "value": 0,
          "variable": "inn7",
          "year": "2034"
         },
         {
          "value": 0,
          "variable": "inn7",
          "year": "2035"
         },
         {
          "value": 0,
          "variable": "inn7",
          "year": "2036"
         },
         {
          "value": 0,
          "variable": "inn7",
          "year": "2037"
         },
         {
          "value": 0,
          "variable": "inn7",
          "year": "2038"
         },
         {
          "value": 0,
          "variable": "inn7",
          "year": "2039"
         },
         {
          "value": 0,
          "variable": "inn7",
          "year": "2040"
         },
         {
          "value": 0,
          "variable": "inn7",
          "year": "2041"
         },
         {
          "value": 0,
          "variable": "inn7",
          "year": "2042"
         },
         {
          "value": 0,
          "variable": "inn7",
          "year": "2043"
         },
         {
          "value": 0,
          "variable": "inn7",
          "year": "2044"
         },
         {
          "value": 0,
          "variable": "inn7",
          "year": "2045"
         },
         {
          "value": 0,
          "variable": "inn7",
          "year": "2046"
         },
         {
          "value": 0,
          "variable": "inn7",
          "year": "2047"
         },
         {
          "value": 0,
          "variable": "inn7",
          "year": "2048"
         },
         {
          "value": 0,
          "variable": "inn7",
          "year": "2049"
         },
         {
          "value": 0,
          "variable": "inn7",
          "year": "2050"
         },
         {
          "value": 0,
          "variable": "inn7",
          "year": "2051"
         },
         {
          "value": 0,
          "variable": "inn7",
          "year": "2052"
         },
         {
          "value": 0,
          "variable": "inn7",
          "year": "2053"
         },
         {
          "value": 0,
          "variable": "inn7",
          "year": "2054"
         },
         {
          "value": 0,
          "variable": "inn7",
          "year": "2055"
         },
         {
          "value": 0,
          "variable": "inn8",
          "year": "2020"
         },
         {
          "value": 0,
          "variable": "inn8",
          "year": "2021"
         },
         {
          "value": 0,
          "variable": "inn8",
          "year": "2022"
         },
         {
          "value": 0,
          "variable": "inn8",
          "year": "2023"
         },
         {
          "value": 0,
          "variable": "inn8",
          "year": "2024"
         },
         {
          "value": 0,
          "variable": "inn8",
          "year": "2025"
         },
         {
          "value": 0,
          "variable": "inn8",
          "year": "2026"
         },
         {
          "value": 0,
          "variable": "inn8",
          "year": "2027"
         },
         {
          "value": 0,
          "variable": "inn8",
          "year": "2028"
         },
         {
          "value": 0,
          "variable": "inn8",
          "year": "2029"
         },
         {
          "value": 0,
          "variable": "inn8",
          "year": "2030"
         },
         {
          "value": 0,
          "variable": "inn8",
          "year": "2031"
         },
         {
          "value": 0,
          "variable": "inn8",
          "year": "2032"
         },
         {
          "value": 0,
          "variable": "inn8",
          "year": "2033"
         },
         {
          "value": 0,
          "variable": "inn8",
          "year": "2034"
         },
         {
          "value": 0,
          "variable": "inn8",
          "year": "2035"
         },
         {
          "value": 0,
          "variable": "inn8",
          "year": "2036"
         },
         {
          "value": 0,
          "variable": "inn8",
          "year": "2037"
         },
         {
          "value": 0,
          "variable": "inn8",
          "year": "2038"
         },
         {
          "value": 0,
          "variable": "inn8",
          "year": "2039"
         },
         {
          "value": 0,
          "variable": "inn8",
          "year": "2040"
         },
         {
          "value": 0,
          "variable": "inn8",
          "year": "2041"
         },
         {
          "value": 0,
          "variable": "inn8",
          "year": "2042"
         },
         {
          "value": 0,
          "variable": "inn8",
          "year": "2043"
         },
         {
          "value": 0,
          "variable": "inn8",
          "year": "2044"
         },
         {
          "value": 0,
          "variable": "inn8",
          "year": "2045"
         },
         {
          "value": 0,
          "variable": "inn8",
          "year": "2046"
         },
         {
          "value": 0,
          "variable": "inn8",
          "year": "2047"
         },
         {
          "value": 0,
          "variable": "inn8",
          "year": "2048"
         },
         {
          "value": 0,
          "variable": "inn8",
          "year": "2049"
         },
         {
          "value": 0,
          "variable": "inn8",
          "year": "2050"
         },
         {
          "value": 0,
          "variable": "inn8",
          "year": "2051"
         },
         {
          "value": 0,
          "variable": "inn8",
          "year": "2052"
         },
         {
          "value": 0,
          "variable": "inn8",
          "year": "2053"
         },
         {
          "value": 0,
          "variable": "inn8",
          "year": "2054"
         },
         {
          "value": 0,
          "variable": "inn8",
          "year": "2055"
         },
         {
          "value": 0,
          "variable": "inn9",
          "year": "2020"
         },
         {
          "value": 0,
          "variable": "inn9",
          "year": "2021"
         },
         {
          "value": 0,
          "variable": "inn9",
          "year": "2022"
         },
         {
          "value": 0,
          "variable": "inn9",
          "year": "2023"
         },
         {
          "value": 0,
          "variable": "inn9",
          "year": "2024"
         },
         {
          "value": 0.3379837809196683,
          "variable": "inn9",
          "year": "2025"
         },
         {
          "value": 0.3379837809196683,
          "variable": "inn9",
          "year": "2026"
         },
         {
          "value": 0.3379837809196683,
          "variable": "inn9",
          "year": "2027"
         },
         {
          "value": 0.3379837809196683,
          "variable": "inn9",
          "year": "2028"
         },
         {
          "value": 1,
          "variable": "inn9",
          "year": "2029"
         },
         {
          "value": 0.3379837809196683,
          "variable": "inn9",
          "year": "2030"
         },
         {
          "value": 0.3379837809196683,
          "variable": "inn9",
          "year": "2031"
         },
         {
          "value": 0.3379837809196683,
          "variable": "inn9",
          "year": "2032"
         },
         {
          "value": 0.3379837809196683,
          "variable": "inn9",
          "year": "2033"
         },
         {
          "value": 0.4485321214707991,
          "variable": "inn9",
          "year": "2034"
         },
         {
          "value": 0.3379837809196683,
          "variable": "inn9",
          "year": "2035"
         },
         {
          "value": 0.3379837809196683,
          "variable": "inn9",
          "year": "2036"
         },
         {
          "value": 0.3379837809196683,
          "variable": "inn9",
          "year": "2037"
         },
         {
          "value": 0.3379837809196683,
          "variable": "inn9",
          "year": "2038"
         },
         {
          "value": 0.4518475859359954,
          "variable": "inn9",
          "year": "2039"
         },
         {
          "value": 0.3379837809196683,
          "variable": "inn9",
          "year": "2040"
         },
         {
          "value": 0.3379837809196683,
          "variable": "inn9",
          "year": "2041"
         },
         {
          "value": 0.3379837809196683,
          "variable": "inn9",
          "year": "2042"
         },
         {
          "value": 0.3379837809196683,
          "variable": "inn9",
          "year": "2043"
         },
         {
          "value": 0.44853212147074983,
          "variable": "inn9",
          "year": "2044"
         },
         {
          "value": 0.3379837809196683,
          "variable": "inn9",
          "year": "2045"
         },
         {
          "value": 0.3379837809196683,
          "variable": "inn9",
          "year": "2046"
         },
         {
          "value": 0.3379837809196683,
          "variable": "inn9",
          "year": "2047"
         },
         {
          "value": 0.3379837809196683,
          "variable": "inn9",
          "year": "2048"
         },
         {
          "value": 0.3379837809196683,
          "variable": "inn9",
          "year": "2049"
         },
         {
          "value": 0.3379837809196683,
          "variable": "inn9",
          "year": "2050"
         },
         {
          "value": 0.3379837809196683,
          "variable": "inn9",
          "year": "2051"
         },
         {
          "value": 0.3379837809196683,
          "variable": "inn9",
          "year": "2052"
         },
         {
          "value": 0.3379837809196683,
          "variable": "inn9",
          "year": "2053"
         },
         {
          "value": 0.3379837809196683,
          "variable": "inn9",
          "year": "2054"
         },
         {
          "value": 0.3379837809196683,
          "variable": "inn9",
          "year": "2055"
         },
         {
          "value": 0,
          "variable": "inn10",
          "year": "2020"
         },
         {
          "value": 0,
          "variable": "inn10",
          "year": "2021"
         },
         {
          "value": 0,
          "variable": "inn10",
          "year": "2022"
         },
         {
          "value": 0,
          "variable": "inn10",
          "year": "2023"
         },
         {
          "value": 0,
          "variable": "inn10",
          "year": "2024"
         },
         {
          "value": 0,
          "variable": "inn10",
          "year": "2025"
         },
         {
          "value": 0,
          "variable": "inn10",
          "year": "2026"
         },
         {
          "value": 0,
          "variable": "inn10",
          "year": "2027"
         },
         {
          "value": 0,
          "variable": "inn10",
          "year": "2028"
         },
         {
          "value": 0,
          "variable": "inn10",
          "year": "2029"
         },
         {
          "value": 0,
          "variable": "inn10",
          "year": "2030"
         },
         {
          "value": 0,
          "variable": "inn10",
          "year": "2031"
         },
         {
          "value": 0,
          "variable": "inn10",
          "year": "2032"
         },
         {
          "value": 0,
          "variable": "inn10",
          "year": "2033"
         },
         {
          "value": 0,
          "variable": "inn10",
          "year": "2034"
         },
         {
          "value": 0,
          "variable": "inn10",
          "year": "2035"
         },
         {
          "value": 0,
          "variable": "inn10",
          "year": "2036"
         },
         {
          "value": 0,
          "variable": "inn10",
          "year": "2037"
         },
         {
          "value": 0,
          "variable": "inn10",
          "year": "2038"
         },
         {
          "value": 0,
          "variable": "inn10",
          "year": "2039"
         },
         {
          "value": 0,
          "variable": "inn10",
          "year": "2040"
         },
         {
          "value": 0,
          "variable": "inn10",
          "year": "2041"
         },
         {
          "value": 0,
          "variable": "inn10",
          "year": "2042"
         },
         {
          "value": 0,
          "variable": "inn10",
          "year": "2043"
         },
         {
          "value": 0,
          "variable": "inn10",
          "year": "2044"
         },
         {
          "value": 0,
          "variable": "inn10",
          "year": "2045"
         },
         {
          "value": 0,
          "variable": "inn10",
          "year": "2046"
         },
         {
          "value": 0,
          "variable": "inn10",
          "year": "2047"
         },
         {
          "value": 0,
          "variable": "inn10",
          "year": "2048"
         },
         {
          "value": 0,
          "variable": "inn10",
          "year": "2049"
         },
         {
          "value": 0,
          "variable": "inn10",
          "year": "2050"
         },
         {
          "value": 0,
          "variable": "inn10",
          "year": "2051"
         },
         {
          "value": 0,
          "variable": "inn10",
          "year": "2052"
         },
         {
          "value": 0,
          "variable": "inn10",
          "year": "2053"
         },
         {
          "value": 0,
          "variable": "inn10",
          "year": "2054"
         },
         {
          "value": 0,
          "variable": "inn10",
          "year": "2055"
         }
        ]
       },
       "encoding": {
        "color": {
         "field": "variable",
         "type": "nominal"
        },
        "x": {
         "field": "year"
        },
        "y": {
         "field": "value",
         "stack": "zero",
         "title": "CO2",
         "type": "quantitative"
        }
       },
       "legend": "sNames",
       "mark": "area"
      },
      "image/png": "[encoded data removed]",
      "image/svg+xml": [
       "<?xml version=\"1.0\" encoding=\"utf-8\"?>\n",
       "<!DOCTYPE svg PUBLIC \"-//W3C//DTD SVG 1.1//EN\" \"http://www.w3.org/Graphics/SVG/1.1/DTD/svg11.dtd\">\n",
       "<svg xmlns=\"http://www.w3.org/2000/svg\" xmlns:xlink=\"http://www.w3.org/1999/xlink\" version=\"1.1\" class=\"marks\" width=\"834\" height=\"256\" viewBox=\"0 0 834 256\"><rect width=\"834\" height=\"256\" fill=\"white\"/><g fill=\"none\" stroke-miterlimit=\"10\" transform=\"translate(42,5)\"><g class=\"mark-group role-frame root\" role=\"graphics-object\" aria-roledescription=\"group mark container\"><g transform=\"translate(0,0)\"><path class=\"background\" aria-hidden=\"true\" d=\"M0.5,0.5h720v200h-720Z\" stroke=\"#ddd\"/><g><g class=\"mark-group role-axis\" aria-hidden=\"true\"><g transform=\"translate(0.5,0.5)\"><path class=\"background\" aria-hidden=\"true\" d=\"M0,0h0v0h0Z\" pointer-events=\"none\"/><g><g class=\"mark-rule role-axis-grid\" pointer-events=\"none\"><line transform=\"translate(0,200)\" x2=\"720\" y2=\"0\" stroke=\"#ddd\" stroke-width=\"1\" opacity=\"1\"/><line transform=\"translate(0,138)\" x2=\"720\" y2=\"0\" stroke=\"#ddd\" stroke-width=\"1\" opacity=\"1\"/><line transform=\"translate(0,75)\" x2=\"720\" y2=\"0\" stroke=\"#ddd\" stroke-width=\"1\" opacity=\"1\"/><line transform=\"translate(0,13)\" x2=\"720\" y2=\"0\" stroke=\"#ddd\" stroke-width=\"1\" opacity=\"1\"/></g></g><path class=\"foreground\" aria-hidden=\"true\" d=\"\" pointer-events=\"none\" display=\"none\"/></g></g><g class=\"mark-group role-axis\" role=\"graphics-symbol\" aria-roledescription=\"axis\" aria-label=\"X-axis titled 'year' for a discrete scale with 36 values: 2020, 2021, 2022, 2023, 2024, ending with 2055\"><g transform=\"translate(0.5,200.5)\"><path class=\"background\" aria-hidden=\"true\" d=\"M0,0h0v0h0Z\" pointer-events=\"none\"/><g><g class=\"mark-rule role-axis-tick\" pointer-events=\"none\"><line transform=\"translate(10,0)\" x2=\"0\" y2=\"5\" stroke=\"#888\" stroke-width=\"1\" opacity=\"1\"/><line transform=\"translate(30,0)\" x2=\"0\" y2=\"5\" stroke=\"#888\" stroke-width=\"1\" opacity=\"1\"/><line transform=\"translate(50,0)\" x2=\"0\" y2=\"5\" stroke=\"#888\" stroke-width=\"1\" opacity=\"1\"/><line transform=\"translate(70,0)\" x2=\"0\" y2=\"5\" stroke=\"#888\" stroke-width=\"1\" opacity=\"1\"/><line transform=\"translate(90,0)\" x2=\"0\" y2=\"5\" stroke=\"#888\" stroke-width=\"1\" opacity=\"1\"/><line transform=\"translate(110,0)\" x2=\"0\" y2=\"5\" stroke=\"#888\" stroke-width=\"1\" opacity=\"1\"/><line transform=\"translate(130,0)\" x2=\"0\" y2=\"5\" stroke=\"#888\" stroke-width=\"1\" opacity=\"1\"/><line transform=\"translate(150,0)\" x2=\"0\" y2=\"5\" stroke=\"#888\" stroke-width=\"1\" opacity=\"1\"/><line transform=\"translate(170,0)\" x2=\"0\" y2=\"5\" stroke=\"#888\" stroke-width=\"1\" opacity=\"1\"/><line transform=\"translate(190,0)\" x2=\"0\" y2=\"5\" stroke=\"#888\" stroke-width=\"1\" opacity=\"1\"/><line transform=\"translate(210,0)\" x2=\"0\" y2=\"5\" stroke=\"#888\" stroke-width=\"1\" opacity=\"1\"/><line transform=\"translate(230,0)\" x2=\"0\" y2=\"5\" stroke=\"#888\" stroke-width=\"1\" opacity=\"1\"/><line transform=\"translate(250,0)\" x2=\"0\" y2=\"5\" stroke=\"#888\" stroke-width=\"1\" opacity=\"1\"/><line transform=\"translate(270,0)\" x2=\"0\" y2=\"5\" stroke=\"#888\" stroke-width=\"1\" opacity=\"1\"/><line transform=\"translate(290,0)\" x2=\"0\" y2=\"5\" stroke=\"#888\" stroke-width=\"1\" opacity=\"1\"/><line transform=\"translate(310,0)\" x2=\"0\" y2=\"5\" stroke=\"#888\" stroke-width=\"1\" opacity=\"1\"/><line transform=\"translate(330,0)\" x2=\"0\" y2=\"5\" stroke=\"#888\" stroke-width=\"1\" opacity=\"1\"/><line transform=\"translate(350,0)\" x2=\"0\" y2=\"5\" stroke=\"#888\" stroke-width=\"1\" opacity=\"1\"/><line transform=\"translate(370,0)\" x2=\"0\" y2=\"5\" stroke=\"#888\" stroke-width=\"1\" opacity=\"1\"/><line transform=\"translate(390,0)\" x2=\"0\" y2=\"5\" stroke=\"#888\" stroke-width=\"1\" opacity=\"1\"/><line transform=\"translate(410,0)\" x2=\"0\" y2=\"5\" stroke=\"#888\" stroke-width=\"1\" opacity=\"1\"/><line transform=\"translate(430,0)\" x2=\"0\" y2=\"5\" stroke=\"#888\" stroke-width=\"1\" opacity=\"1\"/><line transform=\"translate(450,0)\" x2=\"0\" y2=\"5\" stroke=\"#888\" stroke-width=\"1\" opacity=\"1\"/><line transform=\"translate(470,0)\" x2=\"0\" y2=\"5\" stroke=\"#888\" stroke-width=\"1\" opacity=\"1\"/><line transform=\"translate(490,0)\" x2=\"0\" y2=\"5\" stroke=\"#888\" stroke-width=\"1\" opacity=\"1\"/><line transform=\"translate(510,0)\" x2=\"0\" y2=\"5\" stroke=\"#888\" stroke-width=\"1\" opacity=\"1\"/><line transform=\"translate(530,0)\" x2=\"0\" y2=\"5\" stroke=\"#888\" stroke-width=\"1\" opacity=\"1\"/><line transform=\"translate(550,0)\" x2=\"0\" y2=\"5\" stroke=\"#888\" stroke-width=\"1\" opacity=\"1\"/><line transform=\"translate(570,0)\" x2=\"0\" y2=\"5\" stroke=\"#888\" stroke-width=\"1\" opacity=\"1\"/><line transform=\"translate(590,0)\" x2=\"0\" y2=\"5\" stroke=\"#888\" stroke-width=\"1\" opacity=\"1\"/><line transform=\"translate(610,0)\" x2=\"0\" y2=\"5\" stroke=\"#888\" stroke-width=\"1\" opacity=\"1\"/><line transform=\"translate(630,0)\" x2=\"0\" y2=\"5\" stroke=\"#888\" stroke-width=\"1\" opacity=\"1\"/><line transform=\"translate(650,0)\" x2=\"0\" y2=\"5\" stroke=\"#888\" stroke-width=\"1\" opacity=\"1\"/><line transform=\"translate(670,0)\" x2=\"0\" y2=\"5\" stroke=\"#888\" stroke-width=\"1\" opacity=\"1\"/><line transform=\"translate(690,0)\" x2=\"0\" y2=\"5\" stroke=\"#888\" stroke-width=\"1\" opacity=\"1\"/><line transform=\"translate(710,0)\" x2=\"0\" y2=\"5\" stroke=\"#888\" stroke-width=\"1\" opacity=\"1\"/></g><g class=\"mark-text role-axis-label\" pointer-events=\"none\"><text text-anchor=\"end\" transform=\"translate(10,7) rotate(270) translate(0,3)\" font-family=\"sans-serif\" font-size=\"10px\" fill=\"#000\" opacity=\"1\">2020</text><text text-anchor=\"end\" transform=\"translate(30,7) rotate(270) translate(0,3)\" font-family=\"sans-serif\" font-size=\"10px\" fill=\"#000\" opacity=\"1\">2021</text><text text-anchor=\"end\" transform=\"translate(50,7) rotate(270) translate(0,3)\" font-family=\"sans-serif\" font-size=\"10px\" fill=\"#000\" opacity=\"1\">2022</text><text text-anchor=\"end\" transform=\"translate(70,7) rotate(270) translate(0,3)\" font-family=\"sans-serif\" font-size=\"10px\" fill=\"#000\" opacity=\"1\">2023</text><text text-anchor=\"end\" transform=\"translate(90,7) rotate(270) translate(0,3)\" font-family=\"sans-serif\" font-size=\"10px\" fill=\"#000\" opacity=\"1\">2024</text><text text-anchor=\"end\" transform=\"translate(110,7) rotate(270) translate(0,3)\" font-family=\"sans-serif\" font-size=\"10px\" fill=\"#000\" opacity=\"1\">2025</text><text text-anchor=\"end\" transform=\"translate(130,7) rotate(270) translate(0,3)\" font-family=\"sans-serif\" font-size=\"10px\" fill=\"#000\" opacity=\"1\">2026</text><text text-anchor=\"end\" transform=\"translate(150,7) rotate(270) translate(0,3)\" font-family=\"sans-serif\" font-size=\"10px\" fill=\"#000\" opacity=\"1\">2027</text><text text-anchor=\"end\" transform=\"translate(170,7) rotate(270) translate(0,3)\" font-family=\"sans-serif\" font-size=\"10px\" fill=\"#000\" opacity=\"1\">2028</text><text text-anchor=\"end\" transform=\"translate(190,7) rotate(270) translate(0,3)\" font-family=\"sans-serif\" font-size=\"10px\" fill=\"#000\" opacity=\"1\">2029</text><text text-anchor=\"end\" transform=\"translate(210,7) rotate(270) translate(0,3)\" font-family=\"sans-serif\" font-size=\"10px\" fill=\"#000\" opacity=\"1\">2030</text><text text-anchor=\"end\" transform=\"translate(230,7) rotate(270) translate(0,3)\" font-family=\"sans-serif\" font-size=\"10px\" fill=\"#000\" opacity=\"1\">2031</text><text text-anchor=\"end\" transform=\"translate(250,7) rotate(270) translate(0,3)\" font-family=\"sans-serif\" font-size=\"10px\" fill=\"#000\" opacity=\"1\">2032</text><text text-anchor=\"end\" transform=\"translate(270,7) rotate(270) translate(0,3)\" font-family=\"sans-serif\" font-size=\"10px\" fill=\"#000\" opacity=\"1\">2033</text><text text-anchor=\"end\" transform=\"translate(290,7) rotate(270) translate(0,3)\" font-family=\"sans-serif\" font-size=\"10px\" fill=\"#000\" opacity=\"1\">2034</text><text text-anchor=\"end\" transform=\"translate(310,7) rotate(270) translate(0,3)\" font-family=\"sans-serif\" font-size=\"10px\" fill=\"#000\" opacity=\"1\">2035</text><text text-anchor=\"end\" transform=\"translate(330,7) rotate(270) translate(0,3)\" font-family=\"sans-serif\" font-size=\"10px\" fill=\"#000\" opacity=\"1\">2036</text><text text-anchor=\"end\" transform=\"translate(350,7) rotate(270) translate(0,3)\" font-family=\"sans-serif\" font-size=\"10px\" fill=\"#000\" opacity=\"1\">2037</text><text text-anchor=\"end\" transform=\"translate(370,7) rotate(270) translate(0,3)\" font-family=\"sans-serif\" font-size=\"10px\" fill=\"#000\" opacity=\"1\">2038</text><text text-anchor=\"end\" transform=\"translate(390,7) rotate(270) translate(0,3)\" font-family=\"sans-serif\" font-size=\"10px\" fill=\"#000\" opacity=\"1\">2039</text><text text-anchor=\"end\" transform=\"translate(410,7) rotate(270) translate(0,3)\" font-family=\"sans-serif\" font-size=\"10px\" fill=\"#000\" opacity=\"1\">2040</text><text text-anchor=\"end\" transform=\"translate(430,7) rotate(270) translate(0,3)\" font-family=\"sans-serif\" font-size=\"10px\" fill=\"#000\" opacity=\"1\">2041</text><text text-anchor=\"end\" transform=\"translate(450,7) rotate(270) translate(0,3)\" font-family=\"sans-serif\" font-size=\"10px\" fill=\"#000\" opacity=\"1\">2042</text><text text-anchor=\"end\" transform=\"translate(470,7) rotate(270) translate(0,3)\" font-family=\"sans-serif\" font-size=\"10px\" fill=\"#000\" opacity=\"1\">2043</text><text text-anchor=\"end\" transform=\"translate(490,7) rotate(270) translate(0,3)\" font-family=\"sans-serif\" font-size=\"10px\" fill=\"#000\" opacity=\"1\">2044</text><text text-anchor=\"end\" transform=\"translate(510,7) rotate(270) translate(0,3)\" font-family=\"sans-serif\" font-size=\"10px\" fill=\"#000\" opacity=\"1\">2045</text><text text-anchor=\"end\" transform=\"translate(530,7) rotate(270) translate(0,3)\" font-family=\"sans-serif\" font-size=\"10px\" fill=\"#000\" opacity=\"1\">2046</text><text text-anchor=\"end\" transform=\"translate(550,7) rotate(270) translate(0,3)\" font-family=\"sans-serif\" font-size=\"10px\" fill=\"#000\" opacity=\"1\">2047</text><text text-anchor=\"end\" transform=\"translate(570,7) rotate(270) translate(0,3)\" font-family=\"sans-serif\" font-size=\"10px\" fill=\"#000\" opacity=\"1\">2048</text><text text-anchor=\"end\" transform=\"translate(590,7) rotate(270) translate(0,3)\" font-family=\"sans-serif\" font-size=\"10px\" fill=\"#000\" opacity=\"1\">2049</text><text text-anchor=\"end\" transform=\"translate(610,7) rotate(270) translate(0,3)\" font-family=\"sans-serif\" font-size=\"10px\" fill=\"#000\" opacity=\"1\">2050</text><text text-anchor=\"end\" transform=\"translate(630,7) rotate(270) translate(0,3)\" font-family=\"sans-serif\" font-size=\"10px\" fill=\"#000\" opacity=\"1\">2051</text><text text-anchor=\"end\" transform=\"translate(650,7) rotate(270) translate(0,3)\" font-family=\"sans-serif\" font-size=\"10px\" fill=\"#000\" opacity=\"1\">2052</text><text text-anchor=\"end\" transform=\"translate(670,7) rotate(270) translate(0,3)\" font-family=\"sans-serif\" font-size=\"10px\" fill=\"#000\" opacity=\"1\">2053</text><text text-anchor=\"end\" transform=\"translate(690,7) rotate(270) translate(0,3)\" font-family=\"sans-serif\" font-size=\"10px\" fill=\"#000\" opacity=\"1\">2054</text><text text-anchor=\"end\" transform=\"translate(710,7) rotate(270) translate(0,3)\" font-family=\"sans-serif\" font-size=\"10px\" fill=\"#000\" opacity=\"1\">2055</text></g><g class=\"mark-rule role-axis-domain\" pointer-events=\"none\"><line transform=\"translate(0,0)\" x2=\"720\" y2=\"0\" stroke=\"#888\" stroke-width=\"1\" opacity=\"1\"/></g><g class=\"mark-text role-axis-title\" pointer-events=\"none\"><text text-anchor=\"middle\" transform=\"translate(360,44)\" font-family=\"sans-serif\" font-size=\"11px\" font-weight=\"bold\" fill=\"#000\" opacity=\"1\">year</text></g></g><path class=\"foreground\" aria-hidden=\"true\" d=\"\" pointer-events=\"none\" display=\"none\"/></g></g><g class=\"mark-group role-axis\" role=\"graphics-symbol\" aria-roledescription=\"axis\" aria-label=\"Y-axis titled 'CO2' for a linear scale with values from 0.0 to 1.6\"><g transform=\"translate(0.5,0.5)\"><path class=\"background\" aria-hidden=\"true\" d=\"M0,0h0v0h0Z\" pointer-events=\"none\"/><g><g class=\"mark-rule role-axis-tick\" pointer-events=\"none\"><line transform=\"translate(0,200)\" x2=\"-5\" y2=\"0\" stroke=\"#888\" stroke-width=\"1\" opacity=\"1\"/><line transform=\"translate(0,138)\" x2=\"-5\" y2=\"0\" stroke=\"#888\" stroke-width=\"1\" opacity=\"1\"/><line transform=\"translate(0,75)\" x2=\"-5\" y2=\"0\" stroke=\"#888\" stroke-width=\"1\" opacity=\"1\"/><line transform=\"translate(0,13)\" x2=\"-5\" y2=\"0\" stroke=\"#888\" stroke-width=\"1\" opacity=\"1\"/></g><g class=\"mark-text role-axis-label\" pointer-events=\"none\"><text text-anchor=\"end\" transform=\"translate(-7,203)\" font-family=\"sans-serif\" font-size=\"10px\" fill=\"#000\" opacity=\"1\">0.0</text><text text-anchor=\"end\" transform=\"translate(-7,140.5)\" font-family=\"sans-serif\" font-size=\"10px\" fill=\"#000\" opacity=\"1\">0.5</text><text text-anchor=\"end\" transform=\"translate(-7,78)\" font-family=\"sans-serif\" font-size=\"10px\" fill=\"#000\" opacity=\"1\">1.0</text><text text-anchor=\"end\" transform=\"translate(-7,15.5)\" font-family=\"sans-serif\" font-size=\"10px\" fill=\"#000\" opacity=\"1\">1.5</text></g><g class=\"mark-rule role-axis-domain\" pointer-events=\"none\"><line transform=\"translate(0,200)\" x2=\"0\" y2=\"-200\" stroke=\"#888\" stroke-width=\"1\" opacity=\"1\"/></g><g class=\"mark-text role-axis-title\" pointer-events=\"none\"><text text-anchor=\"middle\" transform=\"translate(-26,100) rotate(-90) translate(0,-2)\" font-family=\"sans-serif\" font-size=\"11px\" font-weight=\"bold\" fill=\"#000\" opacity=\"1\">CO2</text></g></g><path class=\"foreground\" aria-hidden=\"true\" d=\"\" pointer-events=\"none\" display=\"none\"/></g></g><g class=\"mark-group role-scope pathgroup\" role=\"graphics-object\" aria-roledescription=\"group mark container\"><g transform=\"translate(0,0)\"><path class=\"background\" aria-hidden=\"true\" d=\"M0,0h720v200h-720Z\"/><g><g class=\"mark-area role-mark marks\" role=\"graphics-object\" aria-roledescription=\"area mark container\"><path aria-label=\"year: 2020; CO2: 0.12; variable: conv\" role=\"graphics-symbol\" aria-roledescription=\"area mark\" d=\"M10,185L30,48.31448779880843L50,48.31448779880843L70,48.31448779880843L90,75L110,6.066515183849863L130,6.066515183849863L150,6.066515183849863L170,6.066515183849863L190,75L210,6.066515183843713L230,6.066515183843713L250,6.066515183843713L270,6.066515183843713L290,75L310,75L330,75L350,75L370,75L390,75L410,75L430,75L450,75L470,75L490,75L510,75L530,75L550,75L570,75L590,75L610,75L630,75L650,75L670,75L690,75L710,75L710,75L690,75L670,75L650,75L630,75L610,75L590,75L570,75L550,75L530,75L510,75L490,75L470,75L450,75L430,75L410,75L390,75L370,75L350,75L330,75L310,75L290,75L270,6.066515183843713L250,6.066515183843713L230,6.066515183843713L210,6.066515183843713L190,75L170,6.066515183849863L150,6.066515183849863L130,6.066515183849863L110,6.066515183849863L90,75L70,48.31448779880843L50,48.31448779880843L30,48.31448779880843L10,200Z\" fill=\"#4c78a8\"/></g></g><path class=\"foreground\" aria-hidden=\"true\" d=\"\" display=\"none\"/></g><g transform=\"translate(0,0)\"><path class=\"background\" aria-hidden=\"true\" d=\"M0,0h720v200h-720Z\"/><g><g class=\"mark-area role-mark marks\" role=\"graphics-object\" aria-roledescription=\"area mark container\"><path aria-label=\"year: 2020; CO2: 0; variable: inn1\" role=\"graphics-symbol\" aria-roledescription=\"area mark\" d=\"M10,200L30,48.31448779880843L50,48.31448779880843L70,48.31448779880843L90,75L110,6.066515183849863L130,6.066515183849863L150,6.066515183849863L170,6.066515183849863L190,75L210,6.066515183843713L230,6.066515183843713L250,6.066515183843713L270,6.066515183843713L290,75L310,75L330,75L350,75L370,75L390,75L410,75L430,75L450,75L470,75L490,75L510,75L530,75L550,75L570,75L590,75L610,75L630,75L650,75L670,75L690,75L710,75L710,75L690,75L670,75L650,75L630,75L610,75L590,75L570,75L550,75L530,75L510,75L490,75L470,75L450,75L430,75L410,75L390,75L370,75L350,75L330,75L310,75L290,75L270,6.066515183843713L250,6.066515183843713L230,6.066515183843713L210,6.066515183843713L190,75L170,6.066515183849863L150,6.066515183849863L130,6.066515183849863L110,6.066515183849863L90,75L70,48.31448779880843L50,48.31448779880843L30,48.31448779880843L10,200Z\" fill=\"#f58518\"/></g></g><path class=\"foreground\" aria-hidden=\"true\" d=\"\" display=\"none\"/></g><g transform=\"translate(0,0)\"><path class=\"background\" aria-hidden=\"true\" d=\"M0,0h720v200h-720Z\"/><g><g class=\"mark-area role-mark marks\" role=\"graphics-object\" aria-roledescription=\"area mark container\"><path aria-label=\"year: 2020; CO2: 0; variable: inn2\" role=\"graphics-symbol\" aria-roledescription=\"area mark\" d=\"M10,200L30,48.31448779880843L50,48.31448779880843L70,48.31448779880843L90,75L110,6.066515183849863L130,6.066515183849863L150,6.066515183849863L170,6.066515183849863L190,75L210,6.066515183843713L230,6.066515183843713L250,6.066515183843713L270,6.066515183843713L290,75L310,75L330,75L350,75L370,75L390,75L410,75L430,75L450,75L470,75L490,75L510,75L530,75L550,75L570,75L590,75L610,75L630,75L650,75L670,75L690,75L710,75L710,75L690,75L670,75L650,75L630,75L610,75L590,75L570,75L550,75L530,75L510,75L490,75L470,75L450,75L430,75L410,75L390,75L370,75L350,75L330,75L310,75L290,75L270,6.066515183843713L250,6.066515183843713L230,6.066515183843713L210,6.066515183843713L190,75L170,6.066515183849863L150,6.066515183849863L130,6.066515183849863L110,6.066515183849863L90,75L70,48.31448779880843L50,48.31448779880843L30,48.31448779880843L10,200Z\" fill=\"#72b7b2\"/></g></g><path class=\"foreground\" aria-hidden=\"true\" d=\"\" display=\"none\"/></g><g transform=\"translate(0,0)\"><path class=\"background\" aria-hidden=\"true\" d=\"M0,0h720v200h-720Z\"/><g><g class=\"mark-area role-mark marks\" role=\"graphics-object\" aria-roledescription=\"area mark container\"><path aria-label=\"year: 2020; CO2: 0; variable: inn3\" role=\"graphics-symbol\" aria-roledescription=\"area mark\" d=\"M10,200L30,48.31448779880843L50,48.31448779880843L70,48.31448779880843L90,75L110,6.066515183849863L130,6.066515183849863L150,6.066515183849863L170,6.066515183849863L190,75L210,6.066515183843713L230,6.066515183843713L250,6.066515183843713L270,6.066515183843713L290,75L310,75L330,75L350,75L370,75L390,75L410,75L430,75L450,75L470,75L490,75L510,75L530,75L550,75L570,75L590,75L610,75L630,75L650,75L670,75L690,75L710,75L710,75L690,75L670,75L650,75L630,75L610,75L590,75L570,75L550,75L530,75L510,75L490,75L470,75L450,75L430,75L410,75L390,75L370,75L350,75L330,75L310,75L290,75L270,6.066515183843713L250,6.066515183843713L230,6.066515183843713L210,6.066515183843713L190,75L170,6.066515183849863L150,6.066515183849863L130,6.066515183849863L110,6.066515183849863L90,75L70,48.31448779880843L50,48.31448779880843L30,48.31448779880843L10,200Z\" fill=\"#54a24b\"/></g></g><path class=\"foreground\" aria-hidden=\"true\" d=\"\" display=\"none\"/></g><g transform=\"translate(0,0)\"><path class=\"background\" aria-hidden=\"true\" d=\"M0,0h720v200h-720Z\"/><g><g class=\"mark-area role-mark marks\" role=\"graphics-object\" aria-roledescription=\"area mark container\"><path aria-label=\"year: 2020; CO2: 0; variable: inn4\" role=\"graphics-symbol\" aria-roledescription=\"area mark\" d=\"M10,200L30,48.31448779880843L50,48.31448779880843L70,48.31448779880843L90,75L110,6.066515183849863L130,6.066515183849863L150,6.066515183849863L170,6.066515183849863L190,75L210,6.066515183843713L230,6.066515183843713L250,6.066515183843713L270,6.066515183843713L290,75L310,75L330,75L350,75L370,75L390,75L410,75L430,75L450,75L470,75L490,75L510,75L530,75L550,75L570,75L590,75L610,75L630,75L650,75L670,75L690,75L710,75L710,75L690,75L670,75L650,75L630,75L610,75L590,75L570,75L550,75L530,75L510,75L490,75L470,75L450,75L430,75L410,75L390,75L370,75L350,75L330,75L310,75L290,75L270,6.066515183843713L250,6.066515183843713L230,6.066515183843713L210,6.066515183843713L190,75L170,6.066515183849863L150,6.066515183849863L130,6.066515183849863L110,6.066515183849863L90,75L70,48.31448779880843L50,48.31448779880843L30,48.31448779880843L10,200Z\" fill=\"#eeca3b\"/></g></g><path class=\"foreground\" aria-hidden=\"true\" d=\"\" display=\"none\"/></g><g transform=\"translate(0,0)\"><path class=\"background\" aria-hidden=\"true\" d=\"M0,0h720v200h-720Z\"/><g><g class=\"mark-area role-mark marks\" role=\"graphics-object\" aria-roledescription=\"area mark container\"><path aria-label=\"year: 2020; CO2: 0; variable: inn5\" role=\"graphics-symbol\" aria-roledescription=\"area mark\" d=\"M10,200L30,48.31448779880843L50,48.31448779880843L70,48.31448779880843L90,75L110,6.066515183849863L130,6.066515183849863L150,6.066515183849863L170,6.066515183849863L190,75L210,6.066515183843713L230,6.066515183843713L250,6.066515183843713L270,6.066515183843713L290,75L310,75L330,75L350,75L370,75L390,75L410,75L430,75L450,75L470,75L490,75L510,75L530,75L550,75L570,75L590,75L610,75L630,75L650,75L670,75L690,75L710,75L710,157.75202738504146L690,157.75202738504146L670,157.75202738504146L650,157.75202738504146L630,157.75202738504146L610,157.75202738504146L590,157.75202738504146L570,157.75202738504146L550,157.75202738504146L530,157.75202738504146L510,157.75202738504146L490,143.9334848161563L470,157.75202738504146L450,157.75202738504146L430,157.75202738504146L410,157.75202738504146L390,143.5190517580006L370,157.75202738504146L350,157.75202738504146L330,157.75202738504146L310,157.75202738504146L290,143.93348481615013L270,157.75202738504146L250,157.75202738504146L230,157.75202738504146L210,157.75202738504146L190,75L170,157.75202738504146L150,157.75202738504146L130,157.75202738504146L110,157.75202738504146L90,200L70,200L50,200L30,200L10,200Z\" fill=\"#b279a2\"/></g></g><path class=\"foreground\" aria-hidden=\"true\" d=\"\" display=\"none\"/></g><g transform=\"translate(0,0)\"><path class=\"background\" aria-hidden=\"true\" d=\"M0,0h720v200h-720Z\"/><g><g class=\"mark-area role-mark marks\" role=\"graphics-object\" aria-roledescription=\"area mark container\"><path aria-label=\"year: 2020; CO2: 0; variable: inn6\" role=\"graphics-symbol\" aria-roledescription=\"area mark\" d=\"M10,200L30,200L50,200L70,200L90,200L110,157.75202738504146L130,157.75202738504146L150,157.75202738504146L170,157.75202738504146L190,75L210,157.75202738504146L230,157.75202738504146L250,157.75202738504146L270,157.75202738504146L290,143.93348481615013L310,157.75202738504146L330,157.75202738504146L350,157.75202738504146L370,157.75202738504146L390,143.5190517580006L410,157.75202738504146L430,157.75202738504146L450,157.75202738504146L470,157.75202738504146L490,143.9334848161563L510,157.75202738504146L530,157.75202738504146L550,157.75202738504146L570,157.75202738504146L590,157.75202738504146L610,157.75202738504146L630,157.75202738504146L650,157.75202738504146L670,157.75202738504146L690,157.75202738504146L710,157.75202738504146L710,157.75202738504146L690,157.75202738504146L670,157.75202738504146L650,157.75202738504146L630,157.75202738504146L610,157.75202738504146L590,157.75202738504146L570,157.75202738504146L550,157.75202738504146L530,157.75202738504146L510,157.75202738504146L490,143.9334848161563L470,157.75202738504146L450,157.75202738504146L430,157.75202738504146L410,157.75202738504146L390,143.5190517580006L370,157.75202738504146L350,157.75202738504146L330,157.75202738504146L310,157.75202738504146L290,143.93348481615013L270,157.75202738504146L250,157.75202738504146L230,157.75202738504146L210,157.75202738504146L190,75L170,157.75202738504146L150,157.75202738504146L130,157.75202738504146L110,157.75202738504146L90,200L70,200L50,200L30,200L10,200Z\" fill=\"#ff9da6\"/></g></g><path class=\"foreground\" aria-hidden=\"true\" d=\"\" display=\"none\"/></g><g transform=\"translate(0,0)\"><path class=\"background\" aria-hidden=\"true\" d=\"M0,0h720v200h-720Z\"/><g><g class=\"mark-area role-mark marks\" role=\"graphics-object\" aria-roledescription=\"area mark container\"><path aria-label=\"year: 2020; CO2: 0; variable: inn7\" role=\"graphics-symbol\" aria-roledescription=\"area mark\" d=\"M10,200L30,200L50,200L70,200L90,200L110,157.75202738504146L130,157.75202738504146L150,157.75202738504146L170,157.75202738504146L190,75L210,157.75202738504146L230,157.75202738504146L250,157.75202738504146L270,157.75202738504146L290,143.93348481615013L310,157.75202738504146L330,157.75202738504146L350,157.75202738504146L370,157.75202738504146L390,143.5190517580006L410,157.75202738504146L430,157.75202738504146L450,157.75202738504146L470,157.75202738504146L490,143.9334848161563L510,157.75202738504146L530,157.75202738504146L550,157.75202738504146L570,157.75202738504146L590,157.75202738504146L610,157.75202738504146L630,157.75202738504146L650,157.75202738504146L670,157.75202738504146L690,157.75202738504146L710,157.75202738504146L710,157.75202738504146L690,157.75202738504146L670,157.75202738504146L650,157.75202738504146L630,157.75202738504146L610,157.75202738504146L590,157.75202738504146L570,157.75202738504146L550,157.75202738504146L530,157.75202738504146L510,157.75202738504146L490,143.9334848161563L470,157.75202738504146L450,157.75202738504146L430,157.75202738504146L410,157.75202738504146L390,143.5190517580006L370,157.75202738504146L350,157.75202738504146L330,157.75202738504146L310,157.75202738504146L290,143.93348481615013L270,157.75202738504146L250,157.75202738504146L230,157.75202738504146L210,157.75202738504146L190,75L170,157.75202738504146L150,157.75202738504146L130,157.75202738504146L110,157.75202738504146L90,200L70,200L50,200L30,200L10,200Z\" fill=\"#9d755d\"/></g></g><path class=\"foreground\" aria-hidden=\"true\" d=\"\" display=\"none\"/></g><g transform=\"translate(0,0)\"><path class=\"background\" aria-hidden=\"true\" d=\"M0,0h720v200h-720Z\"/><g><g class=\"mark-area role-mark marks\" role=\"graphics-object\" aria-roledescription=\"area mark container\"><path aria-label=\"year: 2020; CO2: 0; variable: inn8\" role=\"graphics-symbol\" aria-roledescription=\"area mark\" d=\"M10,200L30,200L50,200L70,200L90,200L110,157.75202738504146L130,157.75202738504146L150,157.75202738504146L170,157.75202738504146L190,75L210,157.75202738504146L230,157.75202738504146L250,157.75202738504146L270,157.75202738504146L290,143.93348481615013L310,157.75202738504146L330,157.75202738504146L350,157.75202738504146L370,157.75202738504146L390,143.5190517580006L410,157.75202738504146L430,157.75202738504146L450,157.75202738504146L470,157.75202738504146L490,143.9334848161563L510,157.75202738504146L530,157.75202738504146L550,157.75202738504146L570,157.75202738504146L590,157.75202738504146L610,157.75202738504146L630,157.75202738504146L650,157.75202738504146L670,157.75202738504146L690,157.75202738504146L710,157.75202738504146L710,157.75202738504146L690,157.75202738504146L670,157.75202738504146L650,157.75202738504146L630,157.75202738504146L610,157.75202738504146L590,157.75202738504146L570,157.75202738504146L550,157.75202738504146L530,157.75202738504146L510,157.75202738504146L490,143.9334848161563L470,157.75202738504146L450,157.75202738504146L430,157.75202738504146L410,157.75202738504146L390,143.5190517580006L370,157.75202738504146L350,157.75202738504146L330,157.75202738504146L310,157.75202738504146L290,143.93348481615013L270,157.75202738504146L250,157.75202738504146L230,157.75202738504146L210,157.75202738504146L190,75L170,157.75202738504146L150,157.75202738504146L130,157.75202738504146L110,157.75202738504146L90,200L70,200L50,200L30,200L10,200Z\" fill=\"#bab0ac\"/></g></g><path class=\"foreground\" aria-hidden=\"true\" d=\"\" display=\"none\"/></g><g transform=\"translate(0,0)\"><path class=\"background\" aria-hidden=\"true\" d=\"M0,0h720v200h-720Z\"/><g><g class=\"mark-area role-mark marks\" role=\"graphics-object\" aria-roledescription=\"area mark container\"><path aria-label=\"year: 2020; CO2: 0; variable: inn9\" role=\"graphics-symbol\" aria-roledescription=\"area mark\" d=\"M10,200L30,200L50,200L70,200L90,200L110,157.75202738504146L130,157.75202738504146L150,157.75202738504146L170,157.75202738504146L190,75L210,157.75202738504146L230,157.75202738504146L250,157.75202738504146L270,157.75202738504146L290,143.93348481615013L310,157.75202738504146L330,157.75202738504146L350,157.75202738504146L370,157.75202738504146L390,143.5190517580006L410,157.75202738504146L430,157.75202738504146L450,157.75202738504146L470,157.75202738504146L490,143.9334848161563L510,157.75202738504146L530,157.75202738504146L550,157.75202738504146L570,157.75202738504146L590,157.75202738504146L610,157.75202738504146L630,157.75202738504146L650,157.75202738504146L670,157.75202738504146L690,157.75202738504146L710,157.75202738504146L710,200L690,200L670,200L650,200L630,200L610,200L590,200L570,200L550,200L530,200L510,200L490,200L470,200L450,200L430,200L410,200L390,200L370,200L350,200L330,200L310,200L290,200L270,200L250,200L230,200L210,200L190,200L170,200L150,200L130,200L110,200L90,200L70,200L50,200L30,200L10,200Z\" fill=\"#4c78a8\"/></g></g><path class=\"foreground\" aria-hidden=\"true\" d=\"\" display=\"none\"/></g><g transform=\"translate(0,0)\"><path class=\"background\" aria-hidden=\"true\" d=\"M0,0h720v200h-720Z\"/><g><g class=\"mark-area role-mark marks\" role=\"graphics-object\" aria-roledescription=\"area mark container\"><path aria-label=\"year: 2020; CO2: 0; variable: inn10\" role=\"graphics-symbol\" aria-roledescription=\"area mark\" d=\"M10,200L30,48.31448779880843L50,48.31448779880843L70,48.31448779880843L90,75L110,6.066515183849863L130,6.066515183849863L150,6.066515183849863L170,6.066515183849863L190,75L210,6.066515183843713L230,6.066515183843713L250,6.066515183843713L270,6.066515183843713L290,75L310,75L330,75L350,75L370,75L390,75L410,75L430,75L450,75L470,75L490,75L510,75L530,75L550,75L570,75L590,75L610,75L630,75L650,75L670,75L690,75L710,75L710,75L690,75L670,75L650,75L630,75L610,75L590,75L570,75L550,75L530,75L510,75L490,75L470,75L450,75L430,75L410,75L390,75L370,75L350,75L330,75L310,75L290,75L270,6.066515183843713L250,6.066515183843713L230,6.066515183843713L210,6.066515183843713L190,75L170,6.066515183849863L150,6.066515183849863L130,6.066515183849863L110,6.066515183849863L90,75L70,48.31448779880843L50,48.31448779880843L30,48.31448779880843L10,200Z\" fill=\"#e45756\"/></g></g><path class=\"foreground\" aria-hidden=\"true\" d=\"\" display=\"none\"/></g></g><g class=\"mark-group role-legend\" role=\"graphics-symbol\" aria-roledescription=\"legend\" aria-label=\"Symbol legend titled 'variable' for fill color with 11 values: conv, inn1, inn10, inn2, inn3, ending with inn9\"><g transform=\"translate(738,0)\"><path class=\"background\" aria-hidden=\"true\" d=\"M0,0h49v157h-49Z\" pointer-events=\"none\"/><g><g class=\"mark-group role-legend-entry\"><g transform=\"translate(0,16)\"><path class=\"background\" aria-hidden=\"true\" d=\"M0,0h0v0h0Z\" pointer-events=\"none\"/><g><g class=\"mark-group role-scope\" role=\"graphics-object\" aria-roledescription=\"group mark container\"><g transform=\"translate(0,0)\"><path class=\"background\" aria-hidden=\"true\" d=\"M0,0h43v11h-43Z\" pointer-events=\"none\" opacity=\"1\"/><g><g class=\"mark-symbol role-legend-symbol\" pointer-events=\"none\"><path transform=\"translate(6,6)\" d=\"M5,0A5,5,0,1,1,-5,0A5,5,0,1,1,5,0\" fill=\"#4c78a8\" stroke-width=\"1.5\" opacity=\"1\"/></g><g class=\"mark-text role-legend-label\" pointer-events=\"none\"><text text-anchor=\"start\" transform=\"translate(16,9)\" font-family=\"sans-serif\" font-size=\"10px\" fill=\"#000\" opacity=\"1\">conv</text></g></g><path class=\"foreground\" aria-hidden=\"true\" d=\"\" pointer-events=\"none\" display=\"none\"/></g><g transform=\"translate(0,13)\"><path class=\"background\" aria-hidden=\"true\" d=\"M0,0h43v11h-43Z\" pointer-events=\"none\" opacity=\"1\"/><g><g class=\"mark-symbol role-legend-symbol\" pointer-events=\"none\"><path transform=\"translate(6,6)\" d=\"M5,0A5,5,0,1,1,-5,0A5,5,0,1,1,5,0\" fill=\"#f58518\" stroke-width=\"1.5\" opacity=\"1\"/></g><g class=\"mark-text role-legend-label\" pointer-events=\"none\"><text text-anchor=\"start\" transform=\"translate(16,9)\" font-family=\"sans-serif\" font-size=\"10px\" fill=\"#000\" opacity=\"1\">inn1</text></g></g><path class=\"foreground\" aria-hidden=\"true\" d=\"\" pointer-events=\"none\" display=\"none\"/></g><g transform=\"translate(0,26)\"><path class=\"background\" aria-hidden=\"true\" d=\"M0,0h43v11h-43Z\" pointer-events=\"none\" opacity=\"1\"/><g><g class=\"mark-symbol role-legend-symbol\" pointer-events=\"none\"><path transform=\"translate(6,6)\" d=\"M5,0A5,5,0,1,1,-5,0A5,5,0,1,1,5,0\" fill=\"#e45756\" stroke-width=\"1.5\" opacity=\"1\"/></g><g class=\"mark-text role-legend-label\" pointer-events=\"none\"><text text-anchor=\"start\" transform=\"translate(16,9)\" font-family=\"sans-serif\" font-size=\"10px\" fill=\"#000\" opacity=\"1\">inn10</text></g></g><path class=\"foreground\" aria-hidden=\"true\" d=\"\" pointer-events=\"none\" display=\"none\"/></g><g transform=\"translate(0,39)\"><path class=\"background\" aria-hidden=\"true\" d=\"M0,0h43v11h-43Z\" pointer-events=\"none\" opacity=\"1\"/><g><g class=\"mark-symbol role-legend-symbol\" pointer-events=\"none\"><path transform=\"translate(6,6)\" d=\"M5,0A5,5,0,1,1,-5,0A5,5,0,1,1,5,0\" fill=\"#72b7b2\" stroke-width=\"1.5\" opacity=\"1\"/></g><g class=\"mark-text role-legend-label\" pointer-events=\"none\"><text text-anchor=\"start\" transform=\"translate(16,9)\" font-family=\"sans-serif\" font-size=\"10px\" fill=\"#000\" opacity=\"1\">inn2</text></g></g><path class=\"foreground\" aria-hidden=\"true\" d=\"\" pointer-events=\"none\" display=\"none\"/></g><g transform=\"translate(0,52)\"><path class=\"background\" aria-hidden=\"true\" d=\"M0,0h43v11h-43Z\" pointer-events=\"none\" opacity=\"1\"/><g><g class=\"mark-symbol role-legend-symbol\" pointer-events=\"none\"><path transform=\"translate(6,6)\" d=\"M5,0A5,5,0,1,1,-5,0A5,5,0,1,1,5,0\" fill=\"#54a24b\" stroke-width=\"1.5\" opacity=\"1\"/></g><g class=\"mark-text role-legend-label\" pointer-events=\"none\"><text text-anchor=\"start\" transform=\"translate(16,9)\" font-family=\"sans-serif\" font-size=\"10px\" fill=\"#000\" opacity=\"1\">inn3</text></g></g><path class=\"foreground\" aria-hidden=\"true\" d=\"\" pointer-events=\"none\" display=\"none\"/></g><g transform=\"translate(0,65)\"><path class=\"background\" aria-hidden=\"true\" d=\"M0,0h43v11h-43Z\" pointer-events=\"none\" opacity=\"1\"/><g><g class=\"mark-symbol role-legend-symbol\" pointer-events=\"none\"><path transform=\"translate(6,6)\" d=\"M5,0A5,5,0,1,1,-5,0A5,5,0,1,1,5,0\" fill=\"#eeca3b\" stroke-width=\"1.5\" opacity=\"1\"/></g><g class=\"mark-text role-legend-label\" pointer-events=\"none\"><text text-anchor=\"start\" transform=\"translate(16,9)\" font-family=\"sans-serif\" font-size=\"10px\" fill=\"#000\" opacity=\"1\">inn4</text></g></g><path class=\"foreground\" aria-hidden=\"true\" d=\"\" pointer-events=\"none\" display=\"none\"/></g><g transform=\"translate(0,78)\"><path class=\"background\" aria-hidden=\"true\" d=\"M0,0h43v11h-43Z\" pointer-events=\"none\" opacity=\"1\"/><g><g class=\"mark-symbol role-legend-symbol\" pointer-events=\"none\"><path transform=\"translate(6,6)\" d=\"M5,0A5,5,0,1,1,-5,0A5,5,0,1,1,5,0\" fill=\"#b279a2\" stroke-width=\"1.5\" opacity=\"1\"/></g><g class=\"mark-text role-legend-label\" pointer-events=\"none\"><text text-anchor=\"start\" transform=\"translate(16,9)\" font-family=\"sans-serif\" font-size=\"10px\" fill=\"#000\" opacity=\"1\">inn5</text></g></g><path class=\"foreground\" aria-hidden=\"true\" d=\"\" pointer-events=\"none\" display=\"none\"/></g><g transform=\"translate(0,91)\"><path class=\"background\" aria-hidden=\"true\" d=\"M0,0h43v11h-43Z\" pointer-events=\"none\" opacity=\"1\"/><g><g class=\"mark-symbol role-legend-symbol\" pointer-events=\"none\"><path transform=\"translate(6,6)\" d=\"M5,0A5,5,0,1,1,-5,0A5,5,0,1,1,5,0\" fill=\"#ff9da6\" stroke-width=\"1.5\" opacity=\"1\"/></g><g class=\"mark-text role-legend-label\" pointer-events=\"none\"><text text-anchor=\"start\" transform=\"translate(16,9)\" font-family=\"sans-serif\" font-size=\"10px\" fill=\"#000\" opacity=\"1\">inn6</text></g></g><path class=\"foreground\" aria-hidden=\"true\" d=\"\" pointer-events=\"none\" display=\"none\"/></g><g transform=\"translate(0,104)\"><path class=\"background\" aria-hidden=\"true\" d=\"M0,0h43v11h-43Z\" pointer-events=\"none\" opacity=\"1\"/><g><g class=\"mark-symbol role-legend-symbol\" pointer-events=\"none\"><path transform=\"translate(6,6)\" d=\"M5,0A5,5,0,1,1,-5,0A5,5,0,1,1,5,0\" fill=\"#9d755d\" stroke-width=\"1.5\" opacity=\"1\"/></g><g class=\"mark-text role-legend-label\" pointer-events=\"none\"><text text-anchor=\"start\" transform=\"translate(16,9)\" font-family=\"sans-serif\" font-size=\"10px\" fill=\"#000\" opacity=\"1\">inn7</text></g></g><path class=\"foreground\" aria-hidden=\"true\" d=\"\" pointer-events=\"none\" display=\"none\"/></g><g transform=\"translate(0,117)\"><path class=\"background\" aria-hidden=\"true\" d=\"M0,0h43v11h-43Z\" pointer-events=\"none\" opacity=\"1\"/><g><g class=\"mark-symbol role-legend-symbol\" pointer-events=\"none\"><path transform=\"translate(6,6)\" d=\"M5,0A5,5,0,1,1,-5,0A5,5,0,1,1,5,0\" fill=\"#bab0ac\" stroke-width=\"1.5\" opacity=\"1\"/></g><g class=\"mark-text role-legend-label\" pointer-events=\"none\"><text text-anchor=\"start\" transform=\"translate(16,9)\" font-family=\"sans-serif\" font-size=\"10px\" fill=\"#000\" opacity=\"1\">inn8</text></g></g><path class=\"foreground\" aria-hidden=\"true\" d=\"\" pointer-events=\"none\" display=\"none\"/></g><g transform=\"translate(0,130)\"><path class=\"background\" aria-hidden=\"true\" d=\"M0,0h43v11h-43Z\" pointer-events=\"none\" opacity=\"1\"/><g><g class=\"mark-symbol role-legend-symbol\" pointer-events=\"none\"><path transform=\"translate(6,6)\" d=\"M5,0A5,5,0,1,1,-5,0A5,5,0,1,1,5,0\" fill=\"#4c78a8\" stroke-width=\"1.5\" opacity=\"1\"/></g><g class=\"mark-text role-legend-label\" pointer-events=\"none\"><text text-anchor=\"start\" transform=\"translate(16,9)\" font-family=\"sans-serif\" font-size=\"10px\" fill=\"#000\" opacity=\"1\">inn9</text></g></g><path class=\"foreground\" aria-hidden=\"true\" d=\"\" pointer-events=\"none\" display=\"none\"/></g></g></g><path class=\"foreground\" aria-hidden=\"true\" d=\"\" pointer-events=\"none\" display=\"none\"/></g></g><g class=\"mark-text role-legend-title\" pointer-events=\"none\"><text text-anchor=\"start\" transform=\"translate(0,9)\" font-family=\"sans-serif\" font-size=\"11px\" font-weight=\"bold\" fill=\"#000\" opacity=\"1\">variable</text></g></g><path class=\"foreground\" aria-hidden=\"true\" d=\"\" pointer-events=\"none\" display=\"none\"/></g></g></g><path class=\"foreground\" aria-hidden=\"true\" d=\"\" display=\"none\"/></g></g></g></svg>\n"
      ],
      "text/plain": [
       "@vlplot(\n",
       "    legend=\"sNames\",\n",
       "    mark=\"area\",\n",
       "    encoding={\n",
       "        x={\n",
       "            field=\"year\"\n",
       "        },\n",
       "        y={\n",
       "            stack=\"zero\",\n",
       "            title=\"CO2\",\n",
       "            field=\"value\"\n",
       "        },\n",
       "        color={\n",
       "            field=\"variable\",\n",
       "            type=\"nominal\"\n",
       "        }\n",
       "    },\n",
       "    data={\n",
       "        values=...\n",
       "    }\n",
       ")"
      ]
     },
     "execution_count": 39,
     "metadata": {},
     "output_type": "execute_result"
    }
   ],
   "source": [
    "function conventional(t)\n",
    "    return (1-sum(JuMP.values.(xk)[k,t] for k in 1:nrow(compromise)))\n",
    "end\n",
    "\n",
    "function innovation(i0,i,t)\n",
    "    #if mod(i0,5)>JuMP.values.(tk)[k1,t] && t<7\n",
    "    #    t=t+1\n",
    "    #end\n",
    "    if i==1\n",
    "        s=0\n",
    "        for k1 in 1:mapki[i,2]\n",
    "            if mod(i0,5)>JuMP.values.(tk)[k1,t] && t<7\n",
    "                t=t+1\n",
    "            end\n",
    "        s+=JuMP.values.(xk)[k1,t]\n",
    "        end\n",
    "        return s   \n",
    "    else\n",
    "        s=0\n",
    "        for k1 in mapki[i-1,2]:mapki[i,2]\n",
    "            if mod(i0,5)>JuMP.values.(tk)[k1,t] && t<7\n",
    "                t=t+1\n",
    "            end\n",
    "        s+=JuMP.values.(xk)[k1,t]\n",
    "        end\n",
    "        return s   \n",
    "        #return sum(JuMP.values.(xk)[k,t] for k=mapki[i-1,2]:mapki[i,2] )\n",
    "    end\n",
    "end\n",
    "\n",
    "conv=zeros(51)\n",
    "\n",
    "conv[1]=initial[1,5]\n",
    "inn_co2=zeros(nrow(innovations),51)\n",
    "\n",
    "for inn in 1:nrow(innovations)\n",
    "    inn_co2[inn,1]=0\n",
    "end\n",
    "\n",
    "j=0\n",
    "for i in 2:51\n",
    "    if 0 ≤ i ≤ 5\n",
    "        j=1\n",
    "    elseif 6 ≤ i ≤ 10\n",
    "        j=2\n",
    "    elseif 6 ≤ i ≤ 10\n",
    "        j=3\n",
    "    elseif 11 ≤ i ≤ 15\n",
    "        j=4\n",
    "    elseif 16 ≤ i ≤ 20\n",
    "        j=5\n",
    "    elseif 21 ≤ i ≤ 25\n",
    "        j=6\n",
    "    else\n",
    "        j=7\n",
    "    end\n",
    "        \n",
    "    conv[i]=conventional(j)\n",
    "    for inn in 1:nrow(innovations)\n",
    "        inn_co2[inn,i]=innovation(i,inn,j)\n",
    "    end\n",
    "end\n",
    "\n",
    "sNames = [\"conv\",\"inn1\",\"inn2\",\"inn3\",\"inn4\",\"inn5\",\"inn6\",\"inn7\",\"inn8\",\"inn9\",\"inn10\"]\n",
    "xLabels = []\n",
    "for i in 2020:2070\n",
    "    push!(xLabels,string(i))\n",
    "end\n",
    "\n",
    "df = DataFrame(year=xLabels, conv=conv, inn1=inn_co2[1,:],inn2=inn_co2[2,:],inn3=inn_co2[3,:],inn4=inn_co2[4,:],\n",
    "        inn5=inn_co2[5,:],inn6=inn_co2[6,:],inn7=inn_co2[7,:],inn8=inn_co2[8,:],inn9=inn_co2[9,:],inn10=inn_co2[10,:])\n",
    "df=df[1:36,:]\n",
    "df |> stack |> @vlplot(:area, x=:year, y={:value, stack=:zero, title=\"CO2\"}, color=\"variable:n\",legend=:sNames) "
   ]
  },
  {
   "cell_type": "code",
   "execution_count": 40,
   "id": "bbce2b22",
   "metadata": {},
   "outputs": [],
   "source": [
    "#=\n",
    "#cost objective\n",
    "#@NLconstraint(rdmap, cost_inn == sum(sum(ci[i]*((yi[i,tt]-yi[i,tt-1])*f_fit[i,tt])\n",
    "#            for i in 2:nrow(innovations)) for tt in 2:7) + sum(ci[i]*(yi[i,1]*f_fit[i,1]) for i in 1:nrow(innovations)))\n",
    "#linearization\n",
    "@variable(rdmap,0≤p[i=1:nrow(innovations),tt=2:7]≤5)\n",
    "@constraint(rdmap,[i=1:nrow(innovations),tt=2:7],p[i,tt]≤5*(yi[i,tt]-yi[i,tt-1]))\n",
    "@constraint(rdmap,[i=1:nrow(innovations),tt=2:7],p[i,tt]≤(f_fit[i,tt]))\n",
    "@constraint(rdmap,[i=1:nrow(innovations),tt=2:7],p[i,tt]≥(f_fit[i,tt])-5*(1-(yi[i,tt]-yi[i,tt-1])))\n",
    "\n",
    "@variable(rdmap,0≤q[i=1:nrow(innovations),tt=1:1]≤5)\n",
    "@constraint(rdmap,[i=1:nrow(innovations),tt=1:1],q[i,tt]≤(yi[i,tt]))\n",
    "@constraint(rdmap,[i=1:nrow(innovations),tt=1:1],q[i,tt]≤(f_fit[i,tt]))\n",
    "@constraint(rdmap,[i=1:nrow(innovations),tt=1:1],q[i,tt]≥(f_fit[i,tt])-5*(1-(yi[i,tt])))\n",
    "\n",
    "@constraint(rdmap,cost_inn == sum(sum(ci[i]*p[i,tt] for i in 2:nrow(innovations)) for tt in 2:7) +\n",
    "                                sum(ci[i]*q[i,1] for i in 1:nrow(innovations)))\n",
    "\n",
    "#http://yetanothermathprogrammingconsultant.blogspot.com/2008/05/multiplication-of-continuous-and-binary.html\n",
    "\n",
    "=#\n"
   ]
  },
  {
   "cell_type": "code",
   "execution_count": null,
   "id": "fa9dc350",
   "metadata": {},
   "outputs": [],
   "source": []
  },
  {
   "cell_type": "code",
   "execution_count": 41,
   "id": "8fb21231",
   "metadata": {},
   "outputs": [
    {
     "data": {
      "application/vnd.vegalite.v4+json": {
       "data": {
        "values": [
         {
          "value": 8,
          "variable": "Conventional",
          "year": "2020"
         },
         {
          "value": 0,
          "variable": "Conventional",
          "year": "2021"
         },
         {
          "value": 0,
          "variable": "Conventional",
          "year": "2022"
         },
         {
          "value": 0,
          "variable": "Conventional",
          "year": "2023"
         },
         {
          "value": 0,
          "variable": "Conventional",
          "year": "2024"
         },
         {
          "value": 0,
          "variable": "Conventional",
          "year": "2025"
         },
         {
          "value": 0,
          "variable": "Conventional",
          "year": "2026"
         },
         {
          "value": 0,
          "variable": "Conventional",
          "year": "2027"
         },
         {
          "value": 0,
          "variable": "Conventional",
          "year": "2028"
         },
         {
          "value": 0,
          "variable": "Conventional",
          "year": "2029"
         },
         {
          "value": 0,
          "variable": "Conventional",
          "year": "2030"
         },
         {
          "value": 0,
          "variable": "Conventional",
          "year": "2031"
         },
         {
          "value": 0,
          "variable": "Conventional",
          "year": "2032"
         },
         {
          "value": 0,
          "variable": "Conventional",
          "year": "2033"
         },
         {
          "value": 0,
          "variable": "Conventional",
          "year": "2034"
         },
         {
          "value": 0,
          "variable": "Conventional",
          "year": "2035"
         },
         {
          "value": 0,
          "variable": "Conventional",
          "year": "2036"
         },
         {
          "value": 0,
          "variable": "Conventional",
          "year": "2037"
         },
         {
          "value": 0,
          "variable": "Conventional",
          "year": "2038"
         },
         {
          "value": 0,
          "variable": "Conventional",
          "year": "2039"
         },
         {
          "value": 0,
          "variable": "Conventional",
          "year": "2040"
         },
         {
          "value": 0,
          "variable": "Conventional",
          "year": "2041"
         },
         {
          "value": 0,
          "variable": "Conventional",
          "year": "2042"
         },
         {
          "value": 0,
          "variable": "Conventional",
          "year": "2043"
         },
         {
          "value": 0,
          "variable": "Conventional",
          "year": "2044"
         },
         {
          "value": 0,
          "variable": "Conventional",
          "year": "2045"
         },
         {
          "value": 0,
          "variable": "Conventional",
          "year": "2046"
         },
         {
          "value": 0,
          "variable": "Conventional",
          "year": "2047"
         },
         {
          "value": 0,
          "variable": "Conventional",
          "year": "2048"
         },
         {
          "value": 0,
          "variable": "Conventional",
          "year": "2049"
         },
         {
          "value": 0,
          "variable": "Conventional",
          "year": "2050"
         },
         {
          "value": 0,
          "variable": "Conventional",
          "year": "2051"
         },
         {
          "value": 0,
          "variable": "Conventional",
          "year": "2052"
         },
         {
          "value": 0,
          "variable": "Conventional",
          "year": "2053"
         },
         {
          "value": 0,
          "variable": "Conventional",
          "year": "2054"
         },
         {
          "value": 0,
          "variable": "Conventional",
          "year": "2055"
         },
         {
          "value": 0,
          "variable": "inn1",
          "year": "2020"
         },
         {
          "value": 0,
          "variable": "inn1",
          "year": "2021"
         },
         {
          "value": 0,
          "variable": "inn1",
          "year": "2022"
         },
         {
          "value": 0,
          "variable": "inn1",
          "year": "2023"
         },
         {
          "value": 0,
          "variable": "inn1",
          "year": "2024"
         },
         {
          "value": 0,
          "variable": "inn1",
          "year": "2025"
         },
         {
          "value": 0,
          "variable": "inn1",
          "year": "2026"
         },
         {
          "value": 0,
          "variable": "inn1",
          "year": "2027"
         },
         {
          "value": 0,
          "variable": "inn1",
          "year": "2028"
         },
         {
          "value": 0,
          "variable": "inn1",
          "year": "2029"
         },
         {
          "value": 0,
          "variable": "inn1",
          "year": "2030"
         },
         {
          "value": 0,
          "variable": "inn1",
          "year": "2031"
         },
         {
          "value": 0,
          "variable": "inn1",
          "year": "2032"
         },
         {
          "value": 0,
          "variable": "inn1",
          "year": "2033"
         },
         {
          "value": 0,
          "variable": "inn1",
          "year": "2034"
         },
         {
          "value": 0,
          "variable": "inn1",
          "year": "2035"
         },
         {
          "value": 0,
          "variable": "inn1",
          "year": "2036"
         },
         {
          "value": 0,
          "variable": "inn1",
          "year": "2037"
         },
         {
          "value": 0,
          "variable": "inn1",
          "year": "2038"
         },
         {
          "value": 0,
          "variable": "inn1",
          "year": "2039"
         },
         {
          "value": 0,
          "variable": "inn1",
          "year": "2040"
         },
         {
          "value": 0,
          "variable": "inn1",
          "year": "2041"
         },
         {
          "value": 0,
          "variable": "inn1",
          "year": "2042"
         },
         {
          "value": 0,
          "variable": "inn1",
          "year": "2043"
         },
         {
          "value": 0,
          "variable": "inn1",
          "year": "2044"
         },
         {
          "value": 0,
          "variable": "inn1",
          "year": "2045"
         },
         {
          "value": 0,
          "variable": "inn1",
          "year": "2046"
         },
         {
          "value": 0,
          "variable": "inn1",
          "year": "2047"
         },
         {
          "value": 0,
          "variable": "inn1",
          "year": "2048"
         },
         {
          "value": 0,
          "variable": "inn1",
          "year": "2049"
         },
         {
          "value": 0,
          "variable": "inn1",
          "year": "2050"
         },
         {
          "value": 0,
          "variable": "inn1",
          "year": "2051"
         },
         {
          "value": 0,
          "variable": "inn1",
          "year": "2052"
         },
         {
          "value": 0,
          "variable": "inn1",
          "year": "2053"
         },
         {
          "value": 0,
          "variable": "inn1",
          "year": "2054"
         },
         {
          "value": 0,
          "variable": "inn1",
          "year": "2055"
         },
         {
          "value": 0,
          "variable": "inn2",
          "year": "2020"
         },
         {
          "value": 0,
          "variable": "inn2",
          "year": "2021"
         },
         {
          "value": 0,
          "variable": "inn2",
          "year": "2022"
         },
         {
          "value": 0,
          "variable": "inn2",
          "year": "2023"
         },
         {
          "value": 0,
          "variable": "inn2",
          "year": "2024"
         },
         {
          "value": 0,
          "variable": "inn2",
          "year": "2025"
         },
         {
          "value": 0,
          "variable": "inn2",
          "year": "2026"
         },
         {
          "value": 0,
          "variable": "inn2",
          "year": "2027"
         },
         {
          "value": 0,
          "variable": "inn2",
          "year": "2028"
         },
         {
          "value": 0,
          "variable": "inn2",
          "year": "2029"
         },
         {
          "value": 0,
          "variable": "inn2",
          "year": "2030"
         },
         {
          "value": 0,
          "variable": "inn2",
          "year": "2031"
         },
         {
          "value": 0,
          "variable": "inn2",
          "year": "2032"
         },
         {
          "value": 0,
          "variable": "inn2",
          "year": "2033"
         },
         {
          "value": 0,
          "variable": "inn2",
          "year": "2034"
         },
         {
          "value": 0,
          "variable": "inn2",
          "year": "2035"
         },
         {
          "value": 0,
          "variable": "inn2",
          "year": "2036"
         },
         {
          "value": 0,
          "variable": "inn2",
          "year": "2037"
         },
         {
          "value": 0,
          "variable": "inn2",
          "year": "2038"
         },
         {
          "value": 0,
          "variable": "inn2",
          "year": "2039"
         },
         {
          "value": 0,
          "variable": "inn2",
          "year": "2040"
         },
         {
          "value": 0,
          "variable": "inn2",
          "year": "2041"
         },
         {
          "value": 0,
          "variable": "inn2",
          "year": "2042"
         },
         {
          "value": 0,
          "variable": "inn2",
          "year": "2043"
         },
         {
          "value": 0,
          "variable": "inn2",
          "year": "2044"
         },
         {
          "value": 0,
          "variable": "inn2",
          "year": "2045"
         },
         {
          "value": 0,
          "variable": "inn2",
          "year": "2046"
         },
         {
          "value": 0,
          "variable": "inn2",
          "year": "2047"
         },
         {
          "value": 0,
          "variable": "inn2",
          "year": "2048"
         },
         {
          "value": 0,
          "variable": "inn2",
          "year": "2049"
         },
         {
          "value": 0,
          "variable": "inn2",
          "year": "2050"
         },
         {
          "value": 0,
          "variable": "inn2",
          "year": "2051"
         },
         {
          "value": 0,
          "variable": "inn2",
          "year": "2052"
         },
         {
          "value": 0,
          "variable": "inn2",
          "year": "2053"
         },
         {
          "value": 0,
          "variable": "inn2",
          "year": "2054"
         },
         {
          "value": 0,
          "variable": "inn2",
          "year": "2055"
         },
         {
          "value": 0,
          "variable": "inn3",
          "year": "2020"
         },
         {
          "value": 0,
          "variable": "inn3",
          "year": "2021"
         },
         {
          "value": 0,
          "variable": "inn3",
          "year": "2022"
         },
         {
          "value": 0,
          "variable": "inn3",
          "year": "2023"
         },
         {
          "value": 0,
          "variable": "inn3",
          "year": "2024"
         },
         {
          "value": 0,
          "variable": "inn3",
          "year": "2025"
         },
         {
          "value": 0,
          "variable": "inn3",
          "year": "2026"
         },
         {
          "value": 0,
          "variable": "inn3",
          "year": "2027"
         },
         {
          "value": 0,
          "variable": "inn3",
          "year": "2028"
         },
         {
          "value": 0,
          "variable": "inn3",
          "year": "2029"
         },
         {
          "value": 0,
          "variable": "inn3",
          "year": "2030"
         },
         {
          "value": 0,
          "variable": "inn3",
          "year": "2031"
         },
         {
          "value": 0,
          "variable": "inn3",
          "year": "2032"
         },
         {
          "value": 0,
          "variable": "inn3",
          "year": "2033"
         },
         {
          "value": 0,
          "variable": "inn3",
          "year": "2034"
         },
         {
          "value": 0,
          "variable": "inn3",
          "year": "2035"
         },
         {
          "value": 0,
          "variable": "inn3",
          "year": "2036"
         },
         {
          "value": 0,
          "variable": "inn3",
          "year": "2037"
         },
         {
          "value": 0,
          "variable": "inn3",
          "year": "2038"
         },
         {
          "value": 0,
          "variable": "inn3",
          "year": "2039"
         },
         {
          "value": 0,
          "variable": "inn3",
          "year": "2040"
         },
         {
          "value": 0,
          "variable": "inn3",
          "year": "2041"
         },
         {
          "value": 0,
          "variable": "inn3",
          "year": "2042"
         },
         {
          "value": 0,
          "variable": "inn3",
          "year": "2043"
         },
         {
          "value": 0,
          "variable": "inn3",
          "year": "2044"
         },
         {
          "value": 0,
          "variable": "inn3",
          "year": "2045"
         },
         {
          "value": 0,
          "variable": "inn3",
          "year": "2046"
         },
         {
          "value": 0,
          "variable": "inn3",
          "year": "2047"
         },
         {
          "value": 0,
          "variable": "inn3",
          "year": "2048"
         },
         {
          "value": 0,
          "variable": "inn3",
          "year": "2049"
         },
         {
          "value": 0,
          "variable": "inn3",
          "year": "2050"
         },
         {
          "value": 0,
          "variable": "inn3",
          "year": "2051"
         },
         {
          "value": 0,
          "variable": "inn3",
          "year": "2052"
         },
         {
          "value": 0,
          "variable": "inn3",
          "year": "2053"
         },
         {
          "value": 0,
          "variable": "inn3",
          "year": "2054"
         },
         {
          "value": 0,
          "variable": "inn3",
          "year": "2055"
         },
         {
          "value": 0,
          "variable": "inn4",
          "year": "2020"
         },
         {
          "value": 0,
          "variable": "inn4",
          "year": "2021"
         },
         {
          "value": 0,
          "variable": "inn4",
          "year": "2022"
         },
         {
          "value": 0,
          "variable": "inn4",
          "year": "2023"
         },
         {
          "value": 0,
          "variable": "inn4",
          "year": "2024"
         },
         {
          "value": 0,
          "variable": "inn4",
          "year": "2025"
         },
         {
          "value": 0,
          "variable": "inn4",
          "year": "2026"
         },
         {
          "value": 0,
          "variable": "inn4",
          "year": "2027"
         },
         {
          "value": 0,
          "variable": "inn4",
          "year": "2028"
         },
         {
          "value": 0,
          "variable": "inn4",
          "year": "2029"
         },
         {
          "value": 0,
          "variable": "inn4",
          "year": "2030"
         },
         {
          "value": 0,
          "variable": "inn4",
          "year": "2031"
         },
         {
          "value": 0,
          "variable": "inn4",
          "year": "2032"
         },
         {
          "value": 0,
          "variable": "inn4",
          "year": "2033"
         },
         {
          "value": 0,
          "variable": "inn4",
          "year": "2034"
         },
         {
          "value": 0,
          "variable": "inn4",
          "year": "2035"
         },
         {
          "value": 0,
          "variable": "inn4",
          "year": "2036"
         },
         {
          "value": 0,
          "variable": "inn4",
          "year": "2037"
         },
         {
          "value": 0,
          "variable": "inn4",
          "year": "2038"
         },
         {
          "value": 0,
          "variable": "inn4",
          "year": "2039"
         },
         {
          "value": 0,
          "variable": "inn4",
          "year": "2040"
         },
         {
          "value": 0,
          "variable": "inn4",
          "year": "2041"
         },
         {
          "value": 0,
          "variable": "inn4",
          "year": "2042"
         },
         {
          "value": 0,
          "variable": "inn4",
          "year": "2043"
         },
         {
          "value": 0,
          "variable": "inn4",
          "year": "2044"
         },
         {
          "value": 0,
          "variable": "inn4",
          "year": "2045"
         },
         {
          "value": 0,
          "variable": "inn4",
          "year": "2046"
         },
         {
          "value": 0,
          "variable": "inn4",
          "year": "2047"
         },
         {
          "value": 0,
          "variable": "inn4",
          "year": "2048"
         },
         {
          "value": 0,
          "variable": "inn4",
          "year": "2049"
         },
         {
          "value": 0,
          "variable": "inn4",
          "year": "2050"
         },
         {
          "value": 0,
          "variable": "inn4",
          "year": "2051"
         },
         {
          "value": 0,
          "variable": "inn4",
          "year": "2052"
         },
         {
          "value": 0,
          "variable": "inn4",
          "year": "2053"
         },
         {
          "value": 0,
          "variable": "inn4",
          "year": "2054"
         },
         {
          "value": 0,
          "variable": "inn4",
          "year": "2055"
         },
         {
          "value": 0,
          "variable": "LDPE_Pyrolysis",
          "year": "2020"
         },
         {
          "value": 2.9585,
          "variable": "LDPE_Pyrolysis",
          "year": "2021"
         },
         {
          "value": 2.9585,
          "variable": "LDPE_Pyrolysis",
          "year": "2022"
         },
         {
          "value": 2.9585,
          "variable": "LDPE_Pyrolysis",
          "year": "2023"
         },
         {
          "value": 2.9585,
          "variable": "LDPE_Pyrolysis",
          "year": "2024"
         },
         {
          "value": 0,
          "variable": "LDPE_Pyrolysis",
          "year": "2025"
         },
         {
          "value": 0,
          "variable": "LDPE_Pyrolysis",
          "year": "2026"
         },
         {
          "value": 0,
          "variable": "LDPE_Pyrolysis",
          "year": "2027"
         },
         {
          "value": 0,
          "variable": "LDPE_Pyrolysis",
          "year": "2028"
         },
         {
          "value": 0,
          "variable": "LDPE_Pyrolysis",
          "year": "2029"
         },
         {
          "value": 1.1073634765133744,
          "variable": "LDPE_Pyrolysis",
          "year": "2030"
         },
         {
          "value": 1.1073634765133744,
          "variable": "LDPE_Pyrolysis",
          "year": "2031"
         },
         {
          "value": 1.1073634765133744,
          "variable": "LDPE_Pyrolysis",
          "year": "2032"
         },
         {
          "value": 1.1073634765133744,
          "variable": "LDPE_Pyrolysis",
          "year": "2033"
         },
         {
          "value": 1.1073634765133744,
          "variable": "LDPE_Pyrolysis",
          "year": "2034"
         },
         {
          "value": 0.6605996507984914,
          "variable": "LDPE_Pyrolysis",
          "year": "2035"
         },
         {
          "value": 0.6605996507984914,
          "variable": "LDPE_Pyrolysis",
          "year": "2036"
         },
         {
          "value": 0.6605996507984914,
          "variable": "LDPE_Pyrolysis",
          "year": "2037"
         },
         {
          "value": 0.6605996507984914,
          "variable": "LDPE_Pyrolysis",
          "year": "2038"
         },
         {
          "value": 0.6605996507984914,
          "variable": "LDPE_Pyrolysis",
          "year": "2039"
         },
         {
          "value": 0.6918064342521579,
          "variable": "LDPE_Pyrolysis",
          "year": "2040"
         },
         {
          "value": 0.6918064342521579,
          "variable": "LDPE_Pyrolysis",
          "year": "2041"
         },
         {
          "value": 0.6918064342521579,
          "variable": "LDPE_Pyrolysis",
          "year": "2042"
         },
         {
          "value": 0.6918064342521579,
          "variable": "LDPE_Pyrolysis",
          "year": "2043"
         },
         {
          "value": 0.6918064342521579,
          "variable": "LDPE_Pyrolysis",
          "year": "2044"
         },
         {
          "value": 0.07084999321605534,
          "variable": "LDPE_Pyrolysis",
          "year": "2045"
         },
         {
          "value": 0.07084999321605534,
          "variable": "LDPE_Pyrolysis",
          "year": "2046"
         },
         {
          "value": 0.07084999321605534,
          "variable": "LDPE_Pyrolysis",
          "year": "2047"
         },
         {
          "value": 0.07084999321605534,
          "variable": "LDPE_Pyrolysis",
          "year": "2048"
         },
         {
          "value": 0.07084999321605534,
          "variable": "LDPE_Pyrolysis",
          "year": "2049"
         },
         {
          "value": 0.07084999321605534,
          "variable": "LDPE_Pyrolysis",
          "year": "2050"
         },
         {
          "value": 0.07084999321605534,
          "variable": "LDPE_Pyrolysis",
          "year": "2051"
         },
         {
          "value": 0.07084999321605534,
          "variable": "LDPE_Pyrolysis",
          "year": "2052"
         },
         {
          "value": 0.07084999321605534,
          "variable": "LDPE_Pyrolysis",
          "year": "2053"
         },
         {
          "value": 0.07084999321605534,
          "variable": "LDPE_Pyrolysis",
          "year": "2054"
         },
         {
          "value": 0.07084999321605534,
          "variable": "LDPE_Pyrolysis",
          "year": "2055"
         },
         {
          "value": 0,
          "variable": "inn6",
          "year": "2020"
         },
         {
          "value": 0,
          "variable": "inn6",
          "year": "2021"
         },
         {
          "value": 0,
          "variable": "inn6",
          "year": "2022"
         },
         {
          "value": 0,
          "variable": "inn6",
          "year": "2023"
         },
         {
          "value": 0,
          "variable": "inn6",
          "year": "2024"
         },
         {
          "value": 0,
          "variable": "inn6",
          "year": "2025"
         },
         {
          "value": 0,
          "variable": "inn6",
          "year": "2026"
         },
         {
          "value": 0,
          "variable": "inn6",
          "year": "2027"
         },
         {
          "value": 0,
          "variable": "inn6",
          "year": "2028"
         },
         {
          "value": 0,
          "variable": "inn6",
          "year": "2029"
         },
         {
          "value": 0,
          "variable": "inn6",
          "year": "2030"
         },
         {
          "value": 0,
          "variable": "inn6",
          "year": "2031"
         },
         {
          "value": 0,
          "variable": "inn6",
          "year": "2032"
         },
         {
          "value": 0,
          "variable": "inn6",
          "year": "2033"
         },
         {
          "value": 0,
          "variable": "inn6",
          "year": "2034"
         },
         {
          "value": 0,
          "variable": "inn6",
          "year": "2035"
         },
         {
          "value": 0,
          "variable": "inn6",
          "year": "2036"
         },
         {
          "value": 0,
          "variable": "inn6",
          "year": "2037"
         },
         {
          "value": 0,
          "variable": "inn6",
          "year": "2038"
         },
         {
          "value": 0,
          "variable": "inn6",
          "year": "2039"
         },
         {
          "value": 0,
          "variable": "inn6",
          "year": "2040"
         },
         {
          "value": 0,
          "variable": "inn6",
          "year": "2041"
         },
         {
          "value": 0,
          "variable": "inn6",
          "year": "2042"
         },
         {
          "value": 0,
          "variable": "inn6",
          "year": "2043"
         },
         {
          "value": 0,
          "variable": "inn6",
          "year": "2044"
         },
         {
          "value": 0,
          "variable": "inn6",
          "year": "2045"
         },
         {
          "value": 0,
          "variable": "inn6",
          "year": "2046"
         },
         {
          "value": 0,
          "variable": "inn6",
          "year": "2047"
         },
         {
          "value": 0,
          "variable": "inn6",
          "year": "2048"
         },
         {
          "value": 0,
          "variable": "inn6",
          "year": "2049"
         },
         {
          "value": 0,
          "variable": "inn6",
          "year": "2050"
         },
         {
          "value": 0,
          "variable": "inn6",
          "year": "2051"
         },
         {
          "value": 0,
          "variable": "inn6",
          "year": "2052"
         },
         {
          "value": 0,
          "variable": "inn6",
          "year": "2053"
         },
         {
          "value": 0,
          "variable": "inn6",
          "year": "2054"
         },
         {
          "value": 0,
          "variable": "inn6",
          "year": "2055"
         },
         {
          "value": 0,
          "variable": "inn7",
          "year": "2020"
         },
         {
          "value": 0,
          "variable": "inn7",
          "year": "2021"
         },
         {
          "value": 0,
          "variable": "inn7",
          "year": "2022"
         },
         {
          "value": 0,
          "variable": "inn7",
          "year": "2023"
         },
         {
          "value": 0,
          "variable": "inn7",
          "year": "2024"
         },
         {
          "value": 0,
          "variable": "inn7",
          "year": "2025"
         },
         {
          "value": 0,
          "variable": "inn7",
          "year": "2026"
         },
         {
          "value": 0,
          "variable": "inn7",
          "year": "2027"
         },
         {
          "value": 0,
          "variable": "inn7",
          "year": "2028"
         },
         {
          "value": 0,
          "variable": "inn7",
          "year": "2029"
         },
         {
          "value": 0,
          "variable": "inn7",
          "year": "2030"
         },
         {
          "value": 0,
          "variable": "inn7",
          "year": "2031"
         },
         {
          "value": 0,
          "variable": "inn7",
          "year": "2032"
         },
         {
          "value": 0,
          "variable": "inn7",
          "year": "2033"
         },
         {
          "value": 0,
          "variable": "inn7",
          "year": "2034"
         },
         {
          "value": 0,
          "variable": "inn7",
          "year": "2035"
         },
         {
          "value": 0,
          "variable": "inn7",
          "year": "2036"
         },
         {
          "value": 0,
          "variable": "inn7",
          "year": "2037"
         },
         {
          "value": 0,
          "variable": "inn7",
          "year": "2038"
         },
         {
          "value": 0,
          "variable": "inn7",
          "year": "2039"
         },
         {
          "value": 0,
          "variable": "inn7",
          "year": "2040"
         },
         {
          "value": 0,
          "variable": "inn7",
          "year": "2041"
         },
         {
          "value": 0,
          "variable": "inn7",
          "year": "2042"
         },
         {
          "value": 0,
          "variable": "inn7",
          "year": "2043"
         },
         {
          "value": 0,
          "variable": "inn7",
          "year": "2044"
         },
         {
          "value": 0,
          "variable": "inn7",
          "year": "2045"
         },
         {
          "value": 0,
          "variable": "inn7",
          "year": "2046"
         },
         {
          "value": 0,
          "variable": "inn7",
          "year": "2047"
         },
         {
          "value": 0,
          "variable": "inn7",
          "year": "2048"
         },
         {
          "value": 0,
          "variable": "inn7",
          "year": "2049"
         },
         {
          "value": 0,
          "variable": "inn7",
          "year": "2050"
         },
         {
          "value": 0,
          "variable": "inn7",
          "year": "2051"
         },
         {
          "value": 0,
          "variable": "inn7",
          "year": "2052"
         },
         {
          "value": 0,
          "variable": "inn7",
          "year": "2053"
         },
         {
          "value": 0,
          "variable": "inn7",
          "year": "2054"
         },
         {
          "value": 0,
          "variable": "inn7",
          "year": "2055"
         },
         {
          "value": 0,
          "variable": "inn8",
          "year": "2020"
         },
         {
          "value": 0,
          "variable": "inn8",
          "year": "2021"
         },
         {
          "value": 0,
          "variable": "inn8",
          "year": "2022"
         },
         {
          "value": 0,
          "variable": "inn8",
          "year": "2023"
         },
         {
          "value": 0,
          "variable": "inn8",
          "year": "2024"
         },
         {
          "value": 0,
          "variable": "inn8",
          "year": "2025"
         },
         {
          "value": 0,
          "variable": "inn8",
          "year": "2026"
         },
         {
          "value": 0,
          "variable": "inn8",
          "year": "2027"
         },
         {
          "value": 0,
          "variable": "inn8",
          "year": "2028"
         },
         {
          "value": 0,
          "variable": "inn8",
          "year": "2029"
         },
         {
          "value": 0,
          "variable": "inn8",
          "year": "2030"
         },
         {
          "value": 0,
          "variable": "inn8",
          "year": "2031"
         },
         {
          "value": 0,
          "variable": "inn8",
          "year": "2032"
         },
         {
          "value": 0,
          "variable": "inn8",
          "year": "2033"
         },
         {
          "value": 0,
          "variable": "inn8",
          "year": "2034"
         },
         {
          "value": 0,
          "variable": "inn8",
          "year": "2035"
         },
         {
          "value": 0,
          "variable": "inn8",
          "year": "2036"
         },
         {
          "value": 0,
          "variable": "inn8",
          "year": "2037"
         },
         {
          "value": 0,
          "variable": "inn8",
          "year": "2038"
         },
         {
          "value": 0,
          "variable": "inn8",
          "year": "2039"
         },
         {
          "value": 0,
          "variable": "inn8",
          "year": "2040"
         },
         {
          "value": 0,
          "variable": "inn8",
          "year": "2041"
         },
         {
          "value": 0,
          "variable": "inn8",
          "year": "2042"
         },
         {
          "value": 0,
          "variable": "inn8",
          "year": "2043"
         },
         {
          "value": 0,
          "variable": "inn8",
          "year": "2044"
         },
         {
          "value": 0,
          "variable": "inn8",
          "year": "2045"
         },
         {
          "value": 0,
          "variable": "inn8",
          "year": "2046"
         },
         {
          "value": 0,
          "variable": "inn8",
          "year": "2047"
         },
         {
          "value": 0,
          "variable": "inn8",
          "year": "2048"
         },
         {
          "value": 0,
          "variable": "inn8",
          "year": "2049"
         },
         {
          "value": 0,
          "variable": "inn8",
          "year": "2050"
         },
         {
          "value": 0,
          "variable": "inn8",
          "year": "2051"
         },
         {
          "value": 0,
          "variable": "inn8",
          "year": "2052"
         },
         {
          "value": 0,
          "variable": "inn8",
          "year": "2053"
         },
         {
          "value": 0,
          "variable": "inn8",
          "year": "2054"
         },
         {
          "value": 0,
          "variable": "inn8",
          "year": "2055"
         },
         {
          "value": 0,
          "variable": "inn9",
          "year": "2020"
         },
         {
          "value": 0,
          "variable": "inn9",
          "year": "2021"
         },
         {
          "value": 0,
          "variable": "inn9",
          "year": "2022"
         },
         {
          "value": 0,
          "variable": "inn9",
          "year": "2023"
         },
         {
          "value": 0,
          "variable": "inn9",
          "year": "2024"
         },
         {
          "value": 2.7252589968487206,
          "variable": "inn9",
          "year": "2025"
         },
         {
          "value": 2.7252589968487206,
          "variable": "inn9",
          "year": "2026"
         },
         {
          "value": 2.7252589968487206,
          "variable": "inn9",
          "year": "2027"
         },
         {
          "value": 2.7252589968487206,
          "variable": "inn9",
          "year": "2028"
         },
         {
          "value": 2.7252589968487206,
          "variable": "inn9",
          "year": "2029"
         },
         {
          "value": 1.0861008902388467,
          "variable": "inn9",
          "year": "2030"
         },
         {
          "value": 1.0861008902388467,
          "variable": "inn9",
          "year": "2031"
         },
         {
          "value": 1.0861008902388467,
          "variable": "inn9",
          "year": "2032"
         },
         {
          "value": 1.0861008902388467,
          "variable": "inn9",
          "year": "2033"
         },
         {
          "value": 1.0861008902388467,
          "variable": "inn9",
          "year": "2034"
         },
         {
          "value": 0.7819272146653777,
          "variable": "inn9",
          "year": "2035"
         },
         {
          "value": 0.7819272146653777,
          "variable": "inn9",
          "year": "2036"
         },
         {
          "value": 0.7819272146653777,
          "variable": "inn9",
          "year": "2037"
         },
         {
          "value": 0.7819272146653777,
          "variable": "inn9",
          "year": "2038"
         },
         {
          "value": 0.7819272146653777,
          "variable": "inn9",
          "year": "2039"
         },
         {
          "value": 0.6305602871073022,
          "variable": "inn9",
          "year": "2040"
         },
         {
          "value": 0.6305602871073022,
          "variable": "inn9",
          "year": "2041"
         },
         {
          "value": 0.6305602871073022,
          "variable": "inn9",
          "year": "2042"
         },
         {
          "value": 0.6305602871073022,
          "variable": "inn9",
          "year": "2043"
         },
         {
          "value": 0.6305602871073022,
          "variable": "inn9",
          "year": "2044"
         },
         {
          "value": 0.28728725086234724,
          "variable": "inn9",
          "year": "2045"
         },
         {
          "value": 0.28728725086234724,
          "variable": "inn9",
          "year": "2046"
         },
         {
          "value": 0.28728725086234724,
          "variable": "inn9",
          "year": "2047"
         },
         {
          "value": 0.28728725086234724,
          "variable": "inn9",
          "year": "2048"
         },
         {
          "value": 0.28728725086234724,
          "variable": "inn9",
          "year": "2049"
         },
         {
          "value": 0.28728725086234724,
          "variable": "inn9",
          "year": "2050"
         },
         {
          "value": 0.28728725086234724,
          "variable": "inn9",
          "year": "2051"
         },
         {
          "value": 0.28728725086234724,
          "variable": "inn9",
          "year": "2052"
         },
         {
          "value": 0.28728725086234724,
          "variable": "inn9",
          "year": "2053"
         },
         {
          "value": 0.28728725086234724,
          "variable": "inn9",
          "year": "2054"
         },
         {
          "value": 0.28728725086234724,
          "variable": "inn9",
          "year": "2055"
         },
         {
          "value": 0,
          "variable": "PLA_Alcoholysis",
          "year": "2020"
         },
         {
          "value": 0,
          "variable": "PLA_Alcoholysis",
          "year": "2021"
         },
         {
          "value": 0,
          "variable": "PLA_Alcoholysis",
          "year": "2022"
         },
         {
          "value": 0,
          "variable": "PLA_Alcoholysis",
          "year": "2023"
         },
         {
          "value": 0,
          "variable": "PLA_Alcoholysis",
          "year": "2024"
         },
         {
          "value": 0,
          "variable": "PLA_Alcoholysis",
          "year": "2025"
         },
         {
          "value": 0,
          "variable": "PLA_Alcoholysis",
          "year": "2026"
         },
         {
          "value": 0,
          "variable": "PLA_Alcoholysis",
          "year": "2027"
         },
         {
          "value": 0,
          "variable": "PLA_Alcoholysis",
          "year": "2028"
         },
         {
          "value": 0,
          "variable": "PLA_Alcoholysis",
          "year": "2029"
         },
         {
          "value": 0,
          "variable": "PLA_Alcoholysis",
          "year": "2030"
         },
         {
          "value": 0,
          "variable": "PLA_Alcoholysis",
          "year": "2031"
         },
         {
          "value": 0,
          "variable": "PLA_Alcoholysis",
          "year": "2032"
         },
         {
          "value": 0,
          "variable": "PLA_Alcoholysis",
          "year": "2033"
         },
         {
          "value": 0,
          "variable": "PLA_Alcoholysis",
          "year": "2034"
         },
         {
          "value": 0,
          "variable": "PLA_Alcoholysis",
          "year": "2035"
         },
         {
          "value": 0,
          "variable": "PLA_Alcoholysis",
          "year": "2036"
         },
         {
          "value": 0,
          "variable": "PLA_Alcoholysis",
          "year": "2037"
         },
         {
          "value": 0,
          "variable": "PLA_Alcoholysis",
          "year": "2038"
         },
         {
          "value": 0,
          "variable": "PLA_Alcoholysis",
          "year": "2039"
         },
         {
          "value": 0,
          "variable": "PLA_Alcoholysis",
          "year": "2040"
         },
         {
          "value": 0,
          "variable": "PLA_Alcoholysis",
          "year": "2041"
         },
         {
          "value": 0,
          "variable": "PLA_Alcoholysis",
          "year": "2042"
         },
         {
          "value": 0,
          "variable": "PLA_Alcoholysis",
          "year": "2043"
         },
         {
          "value": 0,
          "variable": "PLA_Alcoholysis",
          "year": "2044"
         },
         {
          "value": 0,
          "variable": "PLA_Alcoholysis",
          "year": "2045"
         },
         {
          "value": 0,
          "variable": "PLA_Alcoholysis",
          "year": "2046"
         },
         {
          "value": 0,
          "variable": "PLA_Alcoholysis",
          "year": "2047"
         },
         {
          "value": 0,
          "variable": "PLA_Alcoholysis",
          "year": "2048"
         },
         {
          "value": 0,
          "variable": "PLA_Alcoholysis",
          "year": "2049"
         },
         {
          "value": 0,
          "variable": "PLA_Alcoholysis",
          "year": "2050"
         },
         {
          "value": 0,
          "variable": "PLA_Alcoholysis",
          "year": "2051"
         },
         {
          "value": 0,
          "variable": "PLA_Alcoholysis",
          "year": "2052"
         },
         {
          "value": 0,
          "variable": "PLA_Alcoholysis",
          "year": "2053"
         },
         {
          "value": 0,
          "variable": "PLA_Alcoholysis",
          "year": "2054"
         },
         {
          "value": 0,
          "variable": "PLA_Alcoholysis",
          "year": "2055"
         }
        ]
       },
       "encoding": {
        "color": {
         "field": "variable",
         "type": "nominal"
        },
        "x": {
         "field": "year"
        },
        "y": {
         "field": "value",
         "stack": "zero",
         "title": "CO2",
         "type": "quantitative"
        }
       },
       "legend": "sNames",
       "mark": "area"
      },
      "image/png": "[encoded data removed]",
      "image/svg+xml": [
       "<?xml version=\"1.0\" encoding=\"utf-8\"?>\n",
       "<!DOCTYPE svg PUBLIC \"-//W3C//DTD SVG 1.1//EN\" \"http://www.w3.org/Graphics/SVG/1.1/DTD/svg11.dtd\">\n",
       "<svg xmlns=\"http://www.w3.org/2000/svg\" xmlns:xlink=\"http://www.w3.org/1999/xlink\" version=\"1.1\" class=\"marks\" width=\"872\" height=\"261\" viewBox=\"0 0 872 261\"><rect width=\"872\" height=\"261\" fill=\"white\"/><g fill=\"none\" stroke-miterlimit=\"10\" transform=\"translate(33,10)\"><g class=\"mark-group role-frame root\" role=\"graphics-object\" aria-roledescription=\"group mark container\"><g transform=\"translate(0,0)\"><path class=\"background\" aria-hidden=\"true\" d=\"M0.5,0.5h720v200h-720Z\" stroke=\"#ddd\"/><g><g class=\"mark-group role-axis\" aria-hidden=\"true\"><g transform=\"translate(0.5,0.5)\"><path class=\"background\" aria-hidden=\"true\" d=\"M0,0h0v0h0Z\" pointer-events=\"none\"/><g><g class=\"mark-rule role-axis-grid\" pointer-events=\"none\"><line transform=\"translate(0,200)\" x2=\"720\" y2=\"0\" stroke=\"#ddd\" stroke-width=\"1\" opacity=\"1\"/><line transform=\"translate(0,150)\" x2=\"720\" y2=\"0\" stroke=\"#ddd\" stroke-width=\"1\" opacity=\"1\"/><line transform=\"translate(0,100)\" x2=\"720\" y2=\"0\" stroke=\"#ddd\" stroke-width=\"1\" opacity=\"1\"/><line transform=\"translate(0,50)\" x2=\"720\" y2=\"0\" stroke=\"#ddd\" stroke-width=\"1\" opacity=\"1\"/><line transform=\"translate(0,0)\" x2=\"720\" y2=\"0\" stroke=\"#ddd\" stroke-width=\"1\" opacity=\"1\"/></g></g><path class=\"foreground\" aria-hidden=\"true\" d=\"\" pointer-events=\"none\" display=\"none\"/></g></g><g class=\"mark-group role-axis\" role=\"graphics-symbol\" aria-roledescription=\"axis\" aria-label=\"X-axis titled 'year' for a discrete scale with 36 values: 2020, 2021, 2022, 2023, 2024, ending with 2055\"><g transform=\"translate(0.5,200.5)\"><path class=\"background\" aria-hidden=\"true\" d=\"M0,0h0v0h0Z\" pointer-events=\"none\"/><g><g class=\"mark-rule role-axis-tick\" pointer-events=\"none\"><line transform=\"translate(10,0)\" x2=\"0\" y2=\"5\" stroke=\"#888\" stroke-width=\"1\" opacity=\"1\"/><line transform=\"translate(30,0)\" x2=\"0\" y2=\"5\" stroke=\"#888\" stroke-width=\"1\" opacity=\"1\"/><line transform=\"translate(50,0)\" x2=\"0\" y2=\"5\" stroke=\"#888\" stroke-width=\"1\" opacity=\"1\"/><line transform=\"translate(70,0)\" x2=\"0\" y2=\"5\" stroke=\"#888\" stroke-width=\"1\" opacity=\"1\"/><line transform=\"translate(90,0)\" x2=\"0\" y2=\"5\" stroke=\"#888\" stroke-width=\"1\" opacity=\"1\"/><line transform=\"translate(110,0)\" x2=\"0\" y2=\"5\" stroke=\"#888\" stroke-width=\"1\" opacity=\"1\"/><line transform=\"translate(130,0)\" x2=\"0\" y2=\"5\" stroke=\"#888\" stroke-width=\"1\" opacity=\"1\"/><line transform=\"translate(150,0)\" x2=\"0\" y2=\"5\" stroke=\"#888\" stroke-width=\"1\" opacity=\"1\"/><line transform=\"translate(170,0)\" x2=\"0\" y2=\"5\" stroke=\"#888\" stroke-width=\"1\" opacity=\"1\"/><line transform=\"translate(190,0)\" x2=\"0\" y2=\"5\" stroke=\"#888\" stroke-width=\"1\" opacity=\"1\"/><line transform=\"translate(210,0)\" x2=\"0\" y2=\"5\" stroke=\"#888\" stroke-width=\"1\" opacity=\"1\"/><line transform=\"translate(230,0)\" x2=\"0\" y2=\"5\" stroke=\"#888\" stroke-width=\"1\" opacity=\"1\"/><line transform=\"translate(250,0)\" x2=\"0\" y2=\"5\" stroke=\"#888\" stroke-width=\"1\" opacity=\"1\"/><line transform=\"translate(270,0)\" x2=\"0\" y2=\"5\" stroke=\"#888\" stroke-width=\"1\" opacity=\"1\"/><line transform=\"translate(290,0)\" x2=\"0\" y2=\"5\" stroke=\"#888\" stroke-width=\"1\" opacity=\"1\"/><line transform=\"translate(310,0)\" x2=\"0\" y2=\"5\" stroke=\"#888\" stroke-width=\"1\" opacity=\"1\"/><line transform=\"translate(330,0)\" x2=\"0\" y2=\"5\" stroke=\"#888\" stroke-width=\"1\" opacity=\"1\"/><line transform=\"translate(350,0)\" x2=\"0\" y2=\"5\" stroke=\"#888\" stroke-width=\"1\" opacity=\"1\"/><line transform=\"translate(370,0)\" x2=\"0\" y2=\"5\" stroke=\"#888\" stroke-width=\"1\" opacity=\"1\"/><line transform=\"translate(390,0)\" x2=\"0\" y2=\"5\" stroke=\"#888\" stroke-width=\"1\" opacity=\"1\"/><line transform=\"translate(410,0)\" x2=\"0\" y2=\"5\" stroke=\"#888\" stroke-width=\"1\" opacity=\"1\"/><line transform=\"translate(430,0)\" x2=\"0\" y2=\"5\" stroke=\"#888\" stroke-width=\"1\" opacity=\"1\"/><line transform=\"translate(450,0)\" x2=\"0\" y2=\"5\" stroke=\"#888\" stroke-width=\"1\" opacity=\"1\"/><line transform=\"translate(470,0)\" x2=\"0\" y2=\"5\" stroke=\"#888\" stroke-width=\"1\" opacity=\"1\"/><line transform=\"translate(490,0)\" x2=\"0\" y2=\"5\" stroke=\"#888\" stroke-width=\"1\" opacity=\"1\"/><line transform=\"translate(510,0)\" x2=\"0\" y2=\"5\" stroke=\"#888\" stroke-width=\"1\" opacity=\"1\"/><line transform=\"translate(530,0)\" x2=\"0\" y2=\"5\" stroke=\"#888\" stroke-width=\"1\" opacity=\"1\"/><line transform=\"translate(550,0)\" x2=\"0\" y2=\"5\" stroke=\"#888\" stroke-width=\"1\" opacity=\"1\"/><line transform=\"translate(570,0)\" x2=\"0\" y2=\"5\" stroke=\"#888\" stroke-width=\"1\" opacity=\"1\"/><line transform=\"translate(590,0)\" x2=\"0\" y2=\"5\" stroke=\"#888\" stroke-width=\"1\" opacity=\"1\"/><line transform=\"translate(610,0)\" x2=\"0\" y2=\"5\" stroke=\"#888\" stroke-width=\"1\" opacity=\"1\"/><line transform=\"translate(630,0)\" x2=\"0\" y2=\"5\" stroke=\"#888\" stroke-width=\"1\" opacity=\"1\"/><line transform=\"translate(650,0)\" x2=\"0\" y2=\"5\" stroke=\"#888\" stroke-width=\"1\" opacity=\"1\"/><line transform=\"translate(670,0)\" x2=\"0\" y2=\"5\" stroke=\"#888\" stroke-width=\"1\" opacity=\"1\"/><line transform=\"translate(690,0)\" x2=\"0\" y2=\"5\" stroke=\"#888\" stroke-width=\"1\" opacity=\"1\"/><line transform=\"translate(710,0)\" x2=\"0\" y2=\"5\" stroke=\"#888\" stroke-width=\"1\" opacity=\"1\"/></g><g class=\"mark-text role-axis-label\" pointer-events=\"none\"><text text-anchor=\"end\" transform=\"translate(10,7) rotate(270) translate(0,3)\" font-family=\"sans-serif\" font-size=\"10px\" fill=\"#000\" opacity=\"1\">2020</text><text text-anchor=\"end\" transform=\"translate(30,7) rotate(270) translate(0,3)\" font-family=\"sans-serif\" font-size=\"10px\" fill=\"#000\" opacity=\"1\">2021</text><text text-anchor=\"end\" transform=\"translate(50,7) rotate(270) translate(0,3)\" font-family=\"sans-serif\" font-size=\"10px\" fill=\"#000\" opacity=\"1\">2022</text><text text-anchor=\"end\" transform=\"translate(70,7) rotate(270) translate(0,3)\" font-family=\"sans-serif\" font-size=\"10px\" fill=\"#000\" opacity=\"1\">2023</text><text text-anchor=\"end\" transform=\"translate(90,7) rotate(270) translate(0,3)\" font-family=\"sans-serif\" font-size=\"10px\" fill=\"#000\" opacity=\"1\">2024</text><text text-anchor=\"end\" transform=\"translate(110,7) rotate(270) translate(0,3)\" font-family=\"sans-serif\" font-size=\"10px\" fill=\"#000\" opacity=\"1\">2025</text><text text-anchor=\"end\" transform=\"translate(130,7) rotate(270) translate(0,3)\" font-family=\"sans-serif\" font-size=\"10px\" fill=\"#000\" opacity=\"1\">2026</text><text text-anchor=\"end\" transform=\"translate(150,7) rotate(270) translate(0,3)\" font-family=\"sans-serif\" font-size=\"10px\" fill=\"#000\" opacity=\"1\">2027</text><text text-anchor=\"end\" transform=\"translate(170,7) rotate(270) translate(0,3)\" font-family=\"sans-serif\" font-size=\"10px\" fill=\"#000\" opacity=\"1\">2028</text><text text-anchor=\"end\" transform=\"translate(190,7) rotate(270) translate(0,3)\" font-family=\"sans-serif\" font-size=\"10px\" fill=\"#000\" opacity=\"1\">2029</text><text text-anchor=\"end\" transform=\"translate(210,7) rotate(270) translate(0,3)\" font-family=\"sans-serif\" font-size=\"10px\" fill=\"#000\" opacity=\"1\">2030</text><text text-anchor=\"end\" transform=\"translate(230,7) rotate(270) translate(0,3)\" font-family=\"sans-serif\" font-size=\"10px\" fill=\"#000\" opacity=\"1\">2031</text><text text-anchor=\"end\" transform=\"translate(250,7) rotate(270) translate(0,3)\" font-family=\"sans-serif\" font-size=\"10px\" fill=\"#000\" opacity=\"1\">2032</text><text text-anchor=\"end\" transform=\"translate(270,7) rotate(270) translate(0,3)\" font-family=\"sans-serif\" font-size=\"10px\" fill=\"#000\" opacity=\"1\">2033</text><text text-anchor=\"end\" transform=\"translate(290,7) rotate(270) translate(0,3)\" font-family=\"sans-serif\" font-size=\"10px\" fill=\"#000\" opacity=\"1\">2034</text><text text-anchor=\"end\" transform=\"translate(310,7) rotate(270) translate(0,3)\" font-family=\"sans-serif\" font-size=\"10px\" fill=\"#000\" opacity=\"1\">2035</text><text text-anchor=\"end\" transform=\"translate(330,7) rotate(270) translate(0,3)\" font-family=\"sans-serif\" font-size=\"10px\" fill=\"#000\" opacity=\"1\">2036</text><text text-anchor=\"end\" transform=\"translate(350,7) rotate(270) translate(0,3)\" font-family=\"sans-serif\" font-size=\"10px\" fill=\"#000\" opacity=\"1\">2037</text><text text-anchor=\"end\" transform=\"translate(370,7) rotate(270) translate(0,3)\" font-family=\"sans-serif\" font-size=\"10px\" fill=\"#000\" opacity=\"1\">2038</text><text text-anchor=\"end\" transform=\"translate(390,7) rotate(270) translate(0,3)\" font-family=\"sans-serif\" font-size=\"10px\" fill=\"#000\" opacity=\"1\">2039</text><text text-anchor=\"end\" transform=\"translate(410,7) rotate(270) translate(0,3)\" font-family=\"sans-serif\" font-size=\"10px\" fill=\"#000\" opacity=\"1\">2040</text><text text-anchor=\"end\" transform=\"translate(430,7) rotate(270) translate(0,3)\" font-family=\"sans-serif\" font-size=\"10px\" fill=\"#000\" opacity=\"1\">2041</text><text text-anchor=\"end\" transform=\"translate(450,7) rotate(270) translate(0,3)\" font-family=\"sans-serif\" font-size=\"10px\" fill=\"#000\" opacity=\"1\">2042</text><text text-anchor=\"end\" transform=\"translate(470,7) rotate(270) translate(0,3)\" font-family=\"sans-serif\" font-size=\"10px\" fill=\"#000\" opacity=\"1\">2043</text><text text-anchor=\"end\" transform=\"translate(490,7) rotate(270) translate(0,3)\" font-family=\"sans-serif\" font-size=\"10px\" fill=\"#000\" opacity=\"1\">2044</text><text text-anchor=\"end\" transform=\"translate(510,7) rotate(270) translate(0,3)\" font-family=\"sans-serif\" font-size=\"10px\" fill=\"#000\" opacity=\"1\">2045</text><text text-anchor=\"end\" transform=\"translate(530,7) rotate(270) translate(0,3)\" font-family=\"sans-serif\" font-size=\"10px\" fill=\"#000\" opacity=\"1\">2046</text><text text-anchor=\"end\" transform=\"translate(550,7) rotate(270) translate(0,3)\" font-family=\"sans-serif\" font-size=\"10px\" fill=\"#000\" opacity=\"1\">2047</text><text text-anchor=\"end\" transform=\"translate(570,7) rotate(270) translate(0,3)\" font-family=\"sans-serif\" font-size=\"10px\" fill=\"#000\" opacity=\"1\">2048</text><text text-anchor=\"end\" transform=\"translate(590,7) rotate(270) translate(0,3)\" font-family=\"sans-serif\" font-size=\"10px\" fill=\"#000\" opacity=\"1\">2049</text><text text-anchor=\"end\" transform=\"translate(610,7) rotate(270) translate(0,3)\" font-family=\"sans-serif\" font-size=\"10px\" fill=\"#000\" opacity=\"1\">2050</text><text text-anchor=\"end\" transform=\"translate(630,7) rotate(270) translate(0,3)\" font-family=\"sans-serif\" font-size=\"10px\" fill=\"#000\" opacity=\"1\">2051</text><text text-anchor=\"end\" transform=\"translate(650,7) rotate(270) translate(0,3)\" font-family=\"sans-serif\" font-size=\"10px\" fill=\"#000\" opacity=\"1\">2052</text><text text-anchor=\"end\" transform=\"translate(670,7) rotate(270) translate(0,3)\" font-family=\"sans-serif\" font-size=\"10px\" fill=\"#000\" opacity=\"1\">2053</text><text text-anchor=\"end\" transform=\"translate(690,7) rotate(270) translate(0,3)\" font-family=\"sans-serif\" font-size=\"10px\" fill=\"#000\" opacity=\"1\">2054</text><text text-anchor=\"end\" transform=\"translate(710,7) rotate(270) translate(0,3)\" font-family=\"sans-serif\" font-size=\"10px\" fill=\"#000\" opacity=\"1\">2055</text></g><g class=\"mark-rule role-axis-domain\" pointer-events=\"none\"><line transform=\"translate(0,0)\" x2=\"720\" y2=\"0\" stroke=\"#888\" stroke-width=\"1\" opacity=\"1\"/></g><g class=\"mark-text role-axis-title\" pointer-events=\"none\"><text text-anchor=\"middle\" transform=\"translate(360,44)\" font-family=\"sans-serif\" font-size=\"11px\" font-weight=\"bold\" fill=\"#000\" opacity=\"1\">year</text></g></g><path class=\"foreground\" aria-hidden=\"true\" d=\"\" pointer-events=\"none\" display=\"none\"/></g></g><g class=\"mark-group role-axis\" role=\"graphics-symbol\" aria-roledescription=\"axis\" aria-label=\"Y-axis titled 'CO2' for a linear scale with values from 0 to 8\"><g transform=\"translate(0.5,0.5)\"><path class=\"background\" aria-hidden=\"true\" d=\"M0,0h0v0h0Z\" pointer-events=\"none\"/><g><g class=\"mark-rule role-axis-tick\" pointer-events=\"none\"><line transform=\"translate(0,200)\" x2=\"-5\" y2=\"0\" stroke=\"#888\" stroke-width=\"1\" opacity=\"1\"/><line transform=\"translate(0,150)\" x2=\"-5\" y2=\"0\" stroke=\"#888\" stroke-width=\"1\" opacity=\"1\"/><line transform=\"translate(0,100)\" x2=\"-5\" y2=\"0\" stroke=\"#888\" stroke-width=\"1\" opacity=\"1\"/><line transform=\"translate(0,50)\" x2=\"-5\" y2=\"0\" stroke=\"#888\" stroke-width=\"1\" opacity=\"1\"/><line transform=\"translate(0,0)\" x2=\"-5\" y2=\"0\" stroke=\"#888\" stroke-width=\"1\" opacity=\"1\"/></g><g class=\"mark-text role-axis-label\" pointer-events=\"none\"><text text-anchor=\"end\" transform=\"translate(-7,203)\" font-family=\"sans-serif\" font-size=\"10px\" fill=\"#000\" opacity=\"1\">0</text><text text-anchor=\"end\" transform=\"translate(-7,153)\" font-family=\"sans-serif\" font-size=\"10px\" fill=\"#000\" opacity=\"1\">2</text><text text-anchor=\"end\" transform=\"translate(-7,103)\" font-family=\"sans-serif\" font-size=\"10px\" fill=\"#000\" opacity=\"1\">4</text><text text-anchor=\"end\" transform=\"translate(-7,53)\" font-family=\"sans-serif\" font-size=\"10px\" fill=\"#000\" opacity=\"1\">6</text><text text-anchor=\"end\" transform=\"translate(-7,3)\" font-family=\"sans-serif\" font-size=\"10px\" fill=\"#000\" opacity=\"1\">8</text></g><g class=\"mark-rule role-axis-domain\" pointer-events=\"none\"><line transform=\"translate(0,200)\" x2=\"0\" y2=\"-200\" stroke=\"#888\" stroke-width=\"1\" opacity=\"1\"/></g><g class=\"mark-text role-axis-title\" pointer-events=\"none\"><text text-anchor=\"middle\" transform=\"translate(-17,100) rotate(-90) translate(0,-2)\" font-family=\"sans-serif\" font-size=\"11px\" font-weight=\"bold\" fill=\"#000\" opacity=\"1\">CO2</text></g></g><path class=\"foreground\" aria-hidden=\"true\" d=\"\" pointer-events=\"none\" display=\"none\"/></g></g><g class=\"mark-group role-scope pathgroup\" role=\"graphics-object\" aria-roledescription=\"group mark container\"><g transform=\"translate(0,0)\"><path class=\"background\" aria-hidden=\"true\" d=\"M0,0h720v200h-720Z\"/><g><g class=\"mark-area role-mark marks\" role=\"graphics-object\" aria-roledescription=\"area mark container\"><path aria-label=\"year: 2020; CO2: 8; variable: Conventional\" role=\"graphics-symbol\" aria-roledescription=\"area mark\" d=\"M10,0L30,126.03750000000001L50,126.03750000000001L70,126.03750000000001L90,126.03750000000001L110,131.86852507878197L130,131.86852507878197L150,131.86852507878197L170,131.86852507878197L190,131.86852507878197L210,145.16339083119448L230,145.16339083119448L250,145.16339083119448L270,145.16339083119448L290,145.16339083119448L310,163.9368283634033L330,163.9368283634033L350,163.9368283634033L370,163.9368283634033L390,163.9368283634033L410,166.9408319660135L430,166.9408319660135L450,166.9408319660135L470,166.9408319660135L490,166.9408319660135L510,191.04656889803994L530,191.04656889803994L550,191.04656889803994L570,191.04656889803994L590,191.04656889803994L610,191.04656889803994L630,191.04656889803994L650,191.04656889803994L670,191.04656889803994L690,191.04656889803994L710,191.04656889803994L710,191.04656889803994L690,191.04656889803994L670,191.04656889803994L650,191.04656889803994L630,191.04656889803994L610,191.04656889803994L590,191.04656889803994L570,191.04656889803994L550,191.04656889803994L530,191.04656889803994L510,191.04656889803994L490,166.9408319660135L470,166.9408319660135L450,166.9408319660135L430,166.9408319660135L410,166.9408319660135L390,163.9368283634033L370,163.9368283634033L350,163.9368283634033L330,163.9368283634033L310,163.9368283634033L290,145.16339083119448L270,145.16339083119448L250,145.16339083119448L230,145.16339083119448L210,145.16339083119448L190,131.86852507878197L170,131.86852507878197L150,131.86852507878197L130,131.86852507878197L110,131.86852507878197L90,126.03750000000001L70,126.03750000000001L50,126.03750000000001L30,126.03750000000001L10,200Z\" fill=\"#4c78a8\"/></g></g><path class=\"foreground\" aria-hidden=\"true\" d=\"\" display=\"none\"/></g><g transform=\"translate(0,0)\"><path class=\"background\" aria-hidden=\"true\" d=\"M0,0h720v200h-720Z\"/><g><g class=\"mark-area role-mark marks\" role=\"graphics-object\" aria-roledescription=\"area mark container\"><path aria-label=\"year: 2020; CO2: 0; variable: inn1\" role=\"graphics-symbol\" aria-roledescription=\"area mark\" d=\"M10,200L30,200L50,200L70,200L90,200L110,131.86852507878197L130,131.86852507878197L150,131.86852507878197L170,131.86852507878197L190,131.86852507878197L210,172.84747774402885L230,172.84747774402885L250,172.84747774402885L270,172.84747774402885L290,172.84747774402885L310,180.45181963336557L330,180.45181963336557L350,180.45181963336557L370,180.45181963336557L390,180.45181963336557L410,184.23599282231743L430,184.23599282231743L450,184.23599282231743L470,184.23599282231743L490,184.23599282231743L510,192.81781872844132L530,192.81781872844132L550,192.81781872844132L570,192.81781872844132L590,192.81781872844132L610,192.81781872844132L630,192.81781872844132L650,192.81781872844132L670,192.81781872844132L690,192.81781872844132L710,192.81781872844132L710,192.81781872844132L690,192.81781872844132L670,192.81781872844132L650,192.81781872844132L630,192.81781872844132L610,192.81781872844132L590,192.81781872844132L570,192.81781872844132L550,192.81781872844132L530,192.81781872844132L510,192.81781872844132L490,184.23599282231743L470,184.23599282231743L450,184.23599282231743L430,184.23599282231743L410,184.23599282231743L390,180.45181963336557L370,180.45181963336557L350,180.45181963336557L330,180.45181963336557L310,180.45181963336557L290,172.84747774402885L270,172.84747774402885L250,172.84747774402885L230,172.84747774402885L210,172.84747774402885L190,131.86852507878197L170,131.86852507878197L150,131.86852507878197L130,131.86852507878197L110,131.86852507878197L90,200L70,200L50,200L30,200L10,200Z\" fill=\"#72b7b2\"/></g></g><path class=\"foreground\" aria-hidden=\"true\" d=\"\" display=\"none\"/></g><g transform=\"translate(0,0)\"><path class=\"background\" aria-hidden=\"true\" d=\"M0,0h720v200h-720Z\"/><g><g class=\"mark-area role-mark marks\" role=\"graphics-object\" aria-roledescription=\"area mark container\"><path aria-label=\"year: 2020; CO2: 0; variable: inn2\" role=\"graphics-symbol\" aria-roledescription=\"area mark\" d=\"M10,200L30,200L50,200L70,200L90,200L110,131.86852507878197L130,131.86852507878197L150,131.86852507878197L170,131.86852507878197L190,131.86852507878197L210,172.84747774402885L230,172.84747774402885L250,172.84747774402885L270,172.84747774402885L290,172.84747774402885L310,180.45181963336557L330,180.45181963336557L350,180.45181963336557L370,180.45181963336557L390,180.45181963336557L410,184.23599282231743L430,184.23599282231743L450,184.23599282231743L470,184.23599282231743L490,184.23599282231743L510,192.81781872844132L530,192.81781872844132L550,192.81781872844132L570,192.81781872844132L590,192.81781872844132L610,192.81781872844132L630,192.81781872844132L650,192.81781872844132L670,192.81781872844132L690,192.81781872844132L710,192.81781872844132L710,192.81781872844132L690,192.81781872844132L670,192.81781872844132L650,192.81781872844132L630,192.81781872844132L610,192.81781872844132L590,192.81781872844132L570,192.81781872844132L550,192.81781872844132L530,192.81781872844132L510,192.81781872844132L490,184.23599282231743L470,184.23599282231743L450,184.23599282231743L430,184.23599282231743L410,184.23599282231743L390,180.45181963336557L370,180.45181963336557L350,180.45181963336557L330,180.45181963336557L310,180.45181963336557L290,172.84747774402885L270,172.84747774402885L250,172.84747774402885L230,172.84747774402885L210,172.84747774402885L190,131.86852507878197L170,131.86852507878197L150,131.86852507878197L130,131.86852507878197L110,131.86852507878197L90,200L70,200L50,200L30,200L10,200Z\" fill=\"#54a24b\"/></g></g><path class=\"foreground\" aria-hidden=\"true\" d=\"\" display=\"none\"/></g><g transform=\"translate(0,0)\"><path class=\"background\" aria-hidden=\"true\" d=\"M0,0h720v200h-720Z\"/><g><g class=\"mark-area role-mark marks\" role=\"graphics-object\" aria-roledescription=\"area mark container\"><path aria-label=\"year: 2020; CO2: 0; variable: inn3\" role=\"graphics-symbol\" aria-roledescription=\"area mark\" d=\"M10,200L30,200L50,200L70,200L90,200L110,131.86852507878197L130,131.86852507878197L150,131.86852507878197L170,131.86852507878197L190,131.86852507878197L210,172.84747774402885L230,172.84747774402885L250,172.84747774402885L270,172.84747774402885L290,172.84747774402885L310,180.45181963336557L330,180.45181963336557L350,180.45181963336557L370,180.45181963336557L390,180.45181963336557L410,184.23599282231743L430,184.23599282231743L450,184.23599282231743L470,184.23599282231743L490,184.23599282231743L510,192.81781872844132L530,192.81781872844132L550,192.81781872844132L570,192.81781872844132L590,192.81781872844132L610,192.81781872844132L630,192.81781872844132L650,192.81781872844132L670,192.81781872844132L690,192.81781872844132L710,192.81781872844132L710,192.81781872844132L690,192.81781872844132L670,192.81781872844132L650,192.81781872844132L630,192.81781872844132L610,192.81781872844132L590,192.81781872844132L570,192.81781872844132L550,192.81781872844132L530,192.81781872844132L510,192.81781872844132L490,184.23599282231743L470,184.23599282231743L450,184.23599282231743L430,184.23599282231743L410,184.23599282231743L390,180.45181963336557L370,180.45181963336557L350,180.45181963336557L330,180.45181963336557L310,180.45181963336557L290,172.84747774402885L270,172.84747774402885L250,172.84747774402885L230,172.84747774402885L210,172.84747774402885L190,131.86852507878197L170,131.86852507878197L150,131.86852507878197L130,131.86852507878197L110,131.86852507878197L90,200L70,200L50,200L30,200L10,200Z\" fill=\"#eeca3b\"/></g></g><path class=\"foreground\" aria-hidden=\"true\" d=\"\" display=\"none\"/></g><g transform=\"translate(0,0)\"><path class=\"background\" aria-hidden=\"true\" d=\"M0,0h720v200h-720Z\"/><g><g class=\"mark-area role-mark marks\" role=\"graphics-object\" aria-roledescription=\"area mark container\"><path aria-label=\"year: 2020; CO2: 0; variable: inn4\" role=\"graphics-symbol\" aria-roledescription=\"area mark\" d=\"M10,200L30,200L50,200L70,200L90,200L110,131.86852507878197L130,131.86852507878197L150,131.86852507878197L170,131.86852507878197L190,131.86852507878197L210,172.84747774402885L230,172.84747774402885L250,172.84747774402885L270,172.84747774402885L290,172.84747774402885L310,180.45181963336557L330,180.45181963336557L350,180.45181963336557L370,180.45181963336557L390,180.45181963336557L410,184.23599282231743L430,184.23599282231743L450,184.23599282231743L470,184.23599282231743L490,184.23599282231743L510,192.81781872844132L530,192.81781872844132L550,192.81781872844132L570,192.81781872844132L590,192.81781872844132L610,192.81781872844132L630,192.81781872844132L650,192.81781872844132L670,192.81781872844132L690,192.81781872844132L710,192.81781872844132L710,192.81781872844132L690,192.81781872844132L670,192.81781872844132L650,192.81781872844132L630,192.81781872844132L610,192.81781872844132L590,192.81781872844132L570,192.81781872844132L550,192.81781872844132L530,192.81781872844132L510,192.81781872844132L490,184.23599282231743L470,184.23599282231743L450,184.23599282231743L430,184.23599282231743L410,184.23599282231743L390,180.45181963336557L370,180.45181963336557L350,180.45181963336557L330,180.45181963336557L310,180.45181963336557L290,172.84747774402885L270,172.84747774402885L250,172.84747774402885L230,172.84747774402885L210,172.84747774402885L190,131.86852507878197L170,131.86852507878197L150,131.86852507878197L130,131.86852507878197L110,131.86852507878197L90,200L70,200L50,200L30,200L10,200Z\" fill=\"#b279a2\"/></g></g><path class=\"foreground\" aria-hidden=\"true\" d=\"\" display=\"none\"/></g><g transform=\"translate(0,0)\"><path class=\"background\" aria-hidden=\"true\" d=\"M0,0h720v200h-720Z\"/><g><g class=\"mark-area role-mark marks\" role=\"graphics-object\" aria-roledescription=\"area mark container\"><path aria-label=\"year: 2020; CO2: 0; variable: LDPE_Pyrolysis\" role=\"graphics-symbol\" aria-roledescription=\"area mark\" d=\"M10,200L30,126.03750000000001L50,126.03750000000001L70,126.03750000000001L90,126.03750000000001L110,131.86852507878197L130,131.86852507878197L150,131.86852507878197L170,131.86852507878197L190,131.86852507878197L210,145.16339083119448L230,145.16339083119448L250,145.16339083119448L270,145.16339083119448L290,145.16339083119448L310,163.9368283634033L330,163.9368283634033L350,163.9368283634033L370,163.9368283634033L390,163.9368283634033L410,166.9408319660135L430,166.9408319660135L450,166.9408319660135L470,166.9408319660135L490,166.9408319660135L510,191.04656889803994L530,191.04656889803994L550,191.04656889803994L570,191.04656889803994L590,191.04656889803994L610,191.04656889803994L630,191.04656889803994L650,191.04656889803994L670,191.04656889803994L690,191.04656889803994L710,191.04656889803994L710,192.81781872844132L690,192.81781872844132L670,192.81781872844132L650,192.81781872844132L630,192.81781872844132L610,192.81781872844132L590,192.81781872844132L570,192.81781872844132L550,192.81781872844132L530,192.81781872844132L510,192.81781872844132L490,184.23599282231743L470,184.23599282231743L450,184.23599282231743L430,184.23599282231743L410,184.23599282231743L390,180.45181963336557L370,180.45181963336557L350,180.45181963336557L330,180.45181963336557L310,180.45181963336557L290,172.84747774402885L270,172.84747774402885L250,172.84747774402885L230,172.84747774402885L210,172.84747774402885L190,131.86852507878197L170,131.86852507878197L150,131.86852507878197L130,131.86852507878197L110,131.86852507878197L90,200L70,200L50,200L30,200L10,200Z\" fill=\"#f58518\"/></g></g><path class=\"foreground\" aria-hidden=\"true\" d=\"\" display=\"none\"/></g><g transform=\"translate(0,0)\"><path class=\"background\" aria-hidden=\"true\" d=\"M0,0h720v200h-720Z\"/><g><g class=\"mark-area role-mark marks\" role=\"graphics-object\" aria-roledescription=\"area mark container\"><path aria-label=\"year: 2020; CO2: 0; variable: inn6\" role=\"graphics-symbol\" aria-roledescription=\"area mark\" d=\"M10,200L30,200L50,200L70,200L90,200L110,131.86852507878197L130,131.86852507878197L150,131.86852507878197L170,131.86852507878197L190,131.86852507878197L210,172.84747774402885L230,172.84747774402885L250,172.84747774402885L270,172.84747774402885L290,172.84747774402885L310,180.45181963336557L330,180.45181963336557L350,180.45181963336557L370,180.45181963336557L390,180.45181963336557L410,184.23599282231743L430,184.23599282231743L450,184.23599282231743L470,184.23599282231743L490,184.23599282231743L510,192.81781872844132L530,192.81781872844132L550,192.81781872844132L570,192.81781872844132L590,192.81781872844132L610,192.81781872844132L630,192.81781872844132L650,192.81781872844132L670,192.81781872844132L690,192.81781872844132L710,192.81781872844132L710,192.81781872844132L690,192.81781872844132L670,192.81781872844132L650,192.81781872844132L630,192.81781872844132L610,192.81781872844132L590,192.81781872844132L570,192.81781872844132L550,192.81781872844132L530,192.81781872844132L510,192.81781872844132L490,184.23599282231743L470,184.23599282231743L450,184.23599282231743L430,184.23599282231743L410,184.23599282231743L390,180.45181963336557L370,180.45181963336557L350,180.45181963336557L330,180.45181963336557L310,180.45181963336557L290,172.84747774402885L270,172.84747774402885L250,172.84747774402885L230,172.84747774402885L210,172.84747774402885L190,131.86852507878197L170,131.86852507878197L150,131.86852507878197L130,131.86852507878197L110,131.86852507878197L90,200L70,200L50,200L30,200L10,200Z\" fill=\"#ff9da6\"/></g></g><path class=\"foreground\" aria-hidden=\"true\" d=\"\" display=\"none\"/></g><g transform=\"translate(0,0)\"><path class=\"background\" aria-hidden=\"true\" d=\"M0,0h720v200h-720Z\"/><g><g class=\"mark-area role-mark marks\" role=\"graphics-object\" aria-roledescription=\"area mark container\"><path aria-label=\"year: 2020; CO2: 0; variable: inn7\" role=\"graphics-symbol\" aria-roledescription=\"area mark\" d=\"M10,200L30,200L50,200L70,200L90,200L110,131.86852507878197L130,131.86852507878197L150,131.86852507878197L170,131.86852507878197L190,131.86852507878197L210,172.84747774402885L230,172.84747774402885L250,172.84747774402885L270,172.84747774402885L290,172.84747774402885L310,180.45181963336557L330,180.45181963336557L350,180.45181963336557L370,180.45181963336557L390,180.45181963336557L410,184.23599282231743L430,184.23599282231743L450,184.23599282231743L470,184.23599282231743L490,184.23599282231743L510,192.81781872844132L530,192.81781872844132L550,192.81781872844132L570,192.81781872844132L590,192.81781872844132L610,192.81781872844132L630,192.81781872844132L650,192.81781872844132L670,192.81781872844132L690,192.81781872844132L710,192.81781872844132L710,192.81781872844132L690,192.81781872844132L670,192.81781872844132L650,192.81781872844132L630,192.81781872844132L610,192.81781872844132L590,192.81781872844132L570,192.81781872844132L550,192.81781872844132L530,192.81781872844132L510,192.81781872844132L490,184.23599282231743L470,184.23599282231743L450,184.23599282231743L430,184.23599282231743L410,184.23599282231743L390,180.45181963336557L370,180.45181963336557L350,180.45181963336557L330,180.45181963336557L310,180.45181963336557L290,172.84747774402885L270,172.84747774402885L250,172.84747774402885L230,172.84747774402885L210,172.84747774402885L190,131.86852507878197L170,131.86852507878197L150,131.86852507878197L130,131.86852507878197L110,131.86852507878197L90,200L70,200L50,200L30,200L10,200Z\" fill=\"#9d755d\"/></g></g><path class=\"foreground\" aria-hidden=\"true\" d=\"\" display=\"none\"/></g><g transform=\"translate(0,0)\"><path class=\"background\" aria-hidden=\"true\" d=\"M0,0h720v200h-720Z\"/><g><g class=\"mark-area role-mark marks\" role=\"graphics-object\" aria-roledescription=\"area mark container\"><path aria-label=\"year: 2020; CO2: 0; variable: inn8\" role=\"graphics-symbol\" aria-roledescription=\"area mark\" d=\"M10,200L30,200L50,200L70,200L90,200L110,131.86852507878197L130,131.86852507878197L150,131.86852507878197L170,131.86852507878197L190,131.86852507878197L210,172.84747774402885L230,172.84747774402885L250,172.84747774402885L270,172.84747774402885L290,172.84747774402885L310,180.45181963336557L330,180.45181963336557L350,180.45181963336557L370,180.45181963336557L390,180.45181963336557L410,184.23599282231743L430,184.23599282231743L450,184.23599282231743L470,184.23599282231743L490,184.23599282231743L510,192.81781872844132L530,192.81781872844132L550,192.81781872844132L570,192.81781872844132L590,192.81781872844132L610,192.81781872844132L630,192.81781872844132L650,192.81781872844132L670,192.81781872844132L690,192.81781872844132L710,192.81781872844132L710,192.81781872844132L690,192.81781872844132L670,192.81781872844132L650,192.81781872844132L630,192.81781872844132L610,192.81781872844132L590,192.81781872844132L570,192.81781872844132L550,192.81781872844132L530,192.81781872844132L510,192.81781872844132L490,184.23599282231743L470,184.23599282231743L450,184.23599282231743L430,184.23599282231743L410,184.23599282231743L390,180.45181963336557L370,180.45181963336557L350,180.45181963336557L330,180.45181963336557L310,180.45181963336557L290,172.84747774402885L270,172.84747774402885L250,172.84747774402885L230,172.84747774402885L210,172.84747774402885L190,131.86852507878197L170,131.86852507878197L150,131.86852507878197L130,131.86852507878197L110,131.86852507878197L90,200L70,200L50,200L30,200L10,200Z\" fill=\"#bab0ac\"/></g></g><path class=\"foreground\" aria-hidden=\"true\" d=\"\" display=\"none\"/></g><g transform=\"translate(0,0)\"><path class=\"background\" aria-hidden=\"true\" d=\"M0,0h720v200h-720Z\"/><g><g class=\"mark-area role-mark marks\" role=\"graphics-object\" aria-roledescription=\"area mark container\"><path aria-label=\"year: 2020; CO2: 0; variable: inn9\" role=\"graphics-symbol\" aria-roledescription=\"area mark\" d=\"M10,200L30,200L50,200L70,200L90,200L110,131.86852507878197L130,131.86852507878197L150,131.86852507878197L170,131.86852507878197L190,131.86852507878197L210,172.84747774402885L230,172.84747774402885L250,172.84747774402885L270,172.84747774402885L290,172.84747774402885L310,180.45181963336557L330,180.45181963336557L350,180.45181963336557L370,180.45181963336557L390,180.45181963336557L410,184.23599282231743L430,184.23599282231743L450,184.23599282231743L470,184.23599282231743L490,184.23599282231743L510,192.81781872844132L530,192.81781872844132L550,192.81781872844132L570,192.81781872844132L590,192.81781872844132L610,192.81781872844132L630,192.81781872844132L650,192.81781872844132L670,192.81781872844132L690,192.81781872844132L710,192.81781872844132L710,200L690,200L670,200L650,200L630,200L610,200L590,200L570,200L550,200L530,200L510,200L490,200L470,200L450,200L430,200L410,200L390,200L370,200L350,200L330,200L310,200L290,200L270,200L250,200L230,200L210,200L190,200L170,200L150,200L130,200L110,200L90,200L70,200L50,200L30,200L10,200Z\" fill=\"#4c78a8\"/></g></g><path class=\"foreground\" aria-hidden=\"true\" d=\"\" display=\"none\"/></g><g transform=\"translate(0,0)\"><path class=\"background\" aria-hidden=\"true\" d=\"M0,0h720v200h-720Z\"/><g><g class=\"mark-area role-mark marks\" role=\"graphics-object\" aria-roledescription=\"area mark container\"><path aria-label=\"year: 2020; CO2: 0; variable: PLA_Alcoholysis\" role=\"graphics-symbol\" aria-roledescription=\"area mark\" d=\"M10,200L30,200L50,200L70,200L90,200L110,131.86852507878197L130,131.86852507878197L150,131.86852507878197L170,131.86852507878197L190,131.86852507878197L210,172.84747774402885L230,172.84747774402885L250,172.84747774402885L270,172.84747774402885L290,172.84747774402885L310,180.45181963336557L330,180.45181963336557L350,180.45181963336557L370,180.45181963336557L390,180.45181963336557L410,184.23599282231743L430,184.23599282231743L450,184.23599282231743L470,184.23599282231743L490,184.23599282231743L510,192.81781872844132L530,192.81781872844132L550,192.81781872844132L570,192.81781872844132L590,192.81781872844132L610,192.81781872844132L630,192.81781872844132L650,192.81781872844132L670,192.81781872844132L690,192.81781872844132L710,192.81781872844132L710,192.81781872844132L690,192.81781872844132L670,192.81781872844132L650,192.81781872844132L630,192.81781872844132L610,192.81781872844132L590,192.81781872844132L570,192.81781872844132L550,192.81781872844132L530,192.81781872844132L510,192.81781872844132L490,184.23599282231743L470,184.23599282231743L450,184.23599282231743L430,184.23599282231743L410,184.23599282231743L390,180.45181963336557L370,180.45181963336557L350,180.45181963336557L330,180.45181963336557L310,180.45181963336557L290,172.84747774402885L270,172.84747774402885L250,172.84747774402885L230,172.84747774402885L210,172.84747774402885L190,131.86852507878197L170,131.86852507878197L150,131.86852507878197L130,131.86852507878197L110,131.86852507878197L90,200L70,200L50,200L30,200L10,200Z\" fill=\"#e45756\"/></g></g><path class=\"foreground\" aria-hidden=\"true\" d=\"\" display=\"none\"/></g></g><g class=\"mark-group role-legend\" role=\"graphics-symbol\" aria-roledescription=\"legend\" aria-label=\"Symbol legend titled 'variable' for fill color with 11 values: Conventional, LDPE_Pyrolysis, PLA_Alcoholysis, inn1, inn2, ending with inn9\"><g transform=\"translate(738,0)\"><path class=\"background\" aria-hidden=\"true\" d=\"M0,0h96v157h-96Z\" pointer-events=\"none\"/><g><g class=\"mark-group role-legend-entry\"><g transform=\"translate(0,16)\"><path class=\"background\" aria-hidden=\"true\" d=\"M0,0h0v0h0Z\" pointer-events=\"none\"/><g><g class=\"mark-group role-scope\" role=\"graphics-object\" aria-roledescription=\"group mark container\"><g transform=\"translate(0,0)\"><path class=\"background\" aria-hidden=\"true\" d=\"M0,0h96v11h-96Z\" pointer-events=\"none\" opacity=\"1\"/><g><g class=\"mark-symbol role-legend-symbol\" pointer-events=\"none\"><path transform=\"translate(6,6)\" d=\"M5,0A5,5,0,1,1,-5,0A5,5,0,1,1,5,0\" fill=\"#4c78a8\" stroke-width=\"1.5\" opacity=\"1\"/></g><g class=\"mark-text role-legend-label\" pointer-events=\"none\"><text text-anchor=\"start\" transform=\"translate(16,9)\" font-family=\"sans-serif\" font-size=\"10px\" fill=\"#000\" opacity=\"1\">Conventional</text></g></g><path class=\"foreground\" aria-hidden=\"true\" d=\"\" pointer-events=\"none\" display=\"none\"/></g><g transform=\"translate(0,13)\"><path class=\"background\" aria-hidden=\"true\" d=\"M0,0h96v11h-96Z\" pointer-events=\"none\" opacity=\"1\"/><g><g class=\"mark-symbol role-legend-symbol\" pointer-events=\"none\"><path transform=\"translate(6,6)\" d=\"M5,0A5,5,0,1,1,-5,0A5,5,0,1,1,5,0\" fill=\"#f58518\" stroke-width=\"1.5\" opacity=\"1\"/></g><g class=\"mark-text role-legend-label\" pointer-events=\"none\"><text text-anchor=\"start\" transform=\"translate(16,9)\" font-family=\"sans-serif\" font-size=\"10px\" fill=\"#000\" opacity=\"1\">LDPE_Pyrolysis</text></g></g><path class=\"foreground\" aria-hidden=\"true\" d=\"\" pointer-events=\"none\" display=\"none\"/></g><g transform=\"translate(0,26)\"><path class=\"background\" aria-hidden=\"true\" d=\"M0,0h96v11h-96Z\" pointer-events=\"none\" opacity=\"1\"/><g><g class=\"mark-symbol role-legend-symbol\" pointer-events=\"none\"><path transform=\"translate(6,6)\" d=\"M5,0A5,5,0,1,1,-5,0A5,5,0,1,1,5,0\" fill=\"#e45756\" stroke-width=\"1.5\" opacity=\"1\"/></g><g class=\"mark-text role-legend-label\" pointer-events=\"none\"><text text-anchor=\"start\" transform=\"translate(16,9)\" font-family=\"sans-serif\" font-size=\"10px\" fill=\"#000\" opacity=\"1\">PLA_Alcoholysis</text></g></g><path class=\"foreground\" aria-hidden=\"true\" d=\"\" pointer-events=\"none\" display=\"none\"/></g><g transform=\"translate(0,39)\"><path class=\"background\" aria-hidden=\"true\" d=\"M0,0h96v11h-96Z\" pointer-events=\"none\" opacity=\"1\"/><g><g class=\"mark-symbol role-legend-symbol\" pointer-events=\"none\"><path transform=\"translate(6,6)\" d=\"M5,0A5,5,0,1,1,-5,0A5,5,0,1,1,5,0\" fill=\"#72b7b2\" stroke-width=\"1.5\" opacity=\"1\"/></g><g class=\"mark-text role-legend-label\" pointer-events=\"none\"><text text-anchor=\"start\" transform=\"translate(16,9)\" font-family=\"sans-serif\" font-size=\"10px\" fill=\"#000\" opacity=\"1\">inn1</text></g></g><path class=\"foreground\" aria-hidden=\"true\" d=\"\" pointer-events=\"none\" display=\"none\"/></g><g transform=\"translate(0,52)\"><path class=\"background\" aria-hidden=\"true\" d=\"M0,0h96v11h-96Z\" pointer-events=\"none\" opacity=\"1\"/><g><g class=\"mark-symbol role-legend-symbol\" pointer-events=\"none\"><path transform=\"translate(6,6)\" d=\"M5,0A5,5,0,1,1,-5,0A5,5,0,1,1,5,0\" fill=\"#54a24b\" stroke-width=\"1.5\" opacity=\"1\"/></g><g class=\"mark-text role-legend-label\" pointer-events=\"none\"><text text-anchor=\"start\" transform=\"translate(16,9)\" font-family=\"sans-serif\" font-size=\"10px\" fill=\"#000\" opacity=\"1\">inn2</text></g></g><path class=\"foreground\" aria-hidden=\"true\" d=\"\" pointer-events=\"none\" display=\"none\"/></g><g transform=\"translate(0,65)\"><path class=\"background\" aria-hidden=\"true\" d=\"M0,0h96v11h-96Z\" pointer-events=\"none\" opacity=\"1\"/><g><g class=\"mark-symbol role-legend-symbol\" pointer-events=\"none\"><path transform=\"translate(6,6)\" d=\"M5,0A5,5,0,1,1,-5,0A5,5,0,1,1,5,0\" fill=\"#eeca3b\" stroke-width=\"1.5\" opacity=\"1\"/></g><g class=\"mark-text role-legend-label\" pointer-events=\"none\"><text text-anchor=\"start\" transform=\"translate(16,9)\" font-family=\"sans-serif\" font-size=\"10px\" fill=\"#000\" opacity=\"1\">inn3</text></g></g><path class=\"foreground\" aria-hidden=\"true\" d=\"\" pointer-events=\"none\" display=\"none\"/></g><g transform=\"translate(0,78)\"><path class=\"background\" aria-hidden=\"true\" d=\"M0,0h96v11h-96Z\" pointer-events=\"none\" opacity=\"1\"/><g><g class=\"mark-symbol role-legend-symbol\" pointer-events=\"none\"><path transform=\"translate(6,6)\" d=\"M5,0A5,5,0,1,1,-5,0A5,5,0,1,1,5,0\" fill=\"#b279a2\" stroke-width=\"1.5\" opacity=\"1\"/></g><g class=\"mark-text role-legend-label\" pointer-events=\"none\"><text text-anchor=\"start\" transform=\"translate(16,9)\" font-family=\"sans-serif\" font-size=\"10px\" fill=\"#000\" opacity=\"1\">inn4</text></g></g><path class=\"foreground\" aria-hidden=\"true\" d=\"\" pointer-events=\"none\" display=\"none\"/></g><g transform=\"translate(0,91)\"><path class=\"background\" aria-hidden=\"true\" d=\"M0,0h96v11h-96Z\" pointer-events=\"none\" opacity=\"1\"/><g><g class=\"mark-symbol role-legend-symbol\" pointer-events=\"none\"><path transform=\"translate(6,6)\" d=\"M5,0A5,5,0,1,1,-5,0A5,5,0,1,1,5,0\" fill=\"#ff9da6\" stroke-width=\"1.5\" opacity=\"1\"/></g><g class=\"mark-text role-legend-label\" pointer-events=\"none\"><text text-anchor=\"start\" transform=\"translate(16,9)\" font-family=\"sans-serif\" font-size=\"10px\" fill=\"#000\" opacity=\"1\">inn6</text></g></g><path class=\"foreground\" aria-hidden=\"true\" d=\"\" pointer-events=\"none\" display=\"none\"/></g><g transform=\"translate(0,104)\"><path class=\"background\" aria-hidden=\"true\" d=\"M0,0h96v11h-96Z\" pointer-events=\"none\" opacity=\"1\"/><g><g class=\"mark-symbol role-legend-symbol\" pointer-events=\"none\"><path transform=\"translate(6,6)\" d=\"M5,0A5,5,0,1,1,-5,0A5,5,0,1,1,5,0\" fill=\"#9d755d\" stroke-width=\"1.5\" opacity=\"1\"/></g><g class=\"mark-text role-legend-label\" pointer-events=\"none\"><text text-anchor=\"start\" transform=\"translate(16,9)\" font-family=\"sans-serif\" font-size=\"10px\" fill=\"#000\" opacity=\"1\">inn7</text></g></g><path class=\"foreground\" aria-hidden=\"true\" d=\"\" pointer-events=\"none\" display=\"none\"/></g><g transform=\"translate(0,117)\"><path class=\"background\" aria-hidden=\"true\" d=\"M0,0h96v11h-96Z\" pointer-events=\"none\" opacity=\"1\"/><g><g class=\"mark-symbol role-legend-symbol\" pointer-events=\"none\"><path transform=\"translate(6,6)\" d=\"M5,0A5,5,0,1,1,-5,0A5,5,0,1,1,5,0\" fill=\"#bab0ac\" stroke-width=\"1.5\" opacity=\"1\"/></g><g class=\"mark-text role-legend-label\" pointer-events=\"none\"><text text-anchor=\"start\" transform=\"translate(16,9)\" font-family=\"sans-serif\" font-size=\"10px\" fill=\"#000\" opacity=\"1\">inn8</text></g></g><path class=\"foreground\" aria-hidden=\"true\" d=\"\" pointer-events=\"none\" display=\"none\"/></g><g transform=\"translate(0,130)\"><path class=\"background\" aria-hidden=\"true\" d=\"M0,0h96v11h-96Z\" pointer-events=\"none\" opacity=\"1\"/><g><g class=\"mark-symbol role-legend-symbol\" pointer-events=\"none\"><path transform=\"translate(6,6)\" d=\"M5,0A5,5,0,1,1,-5,0A5,5,0,1,1,5,0\" fill=\"#4c78a8\" stroke-width=\"1.5\" opacity=\"1\"/></g><g class=\"mark-text role-legend-label\" pointer-events=\"none\"><text text-anchor=\"start\" transform=\"translate(16,9)\" font-family=\"sans-serif\" font-size=\"10px\" fill=\"#000\" opacity=\"1\">inn9</text></g></g><path class=\"foreground\" aria-hidden=\"true\" d=\"\" pointer-events=\"none\" display=\"none\"/></g></g></g><path class=\"foreground\" aria-hidden=\"true\" d=\"\" pointer-events=\"none\" display=\"none\"/></g></g><g class=\"mark-text role-legend-title\" pointer-events=\"none\"><text text-anchor=\"start\" transform=\"translate(0,9)\" font-family=\"sans-serif\" font-size=\"11px\" font-weight=\"bold\" fill=\"#000\" opacity=\"1\">variable</text></g></g><path class=\"foreground\" aria-hidden=\"true\" d=\"\" pointer-events=\"none\" display=\"none\"/></g></g></g><path class=\"foreground\" aria-hidden=\"true\" d=\"\" display=\"none\"/></g></g></g></svg>\n"
      ],
      "text/plain": [
       "@vlplot(\n",
       "    legend=\"sNames\",\n",
       "    mark=\"area\",\n",
       "    encoding={\n",
       "        x={\n",
       "            field=\"year\"\n",
       "        },\n",
       "        y={\n",
       "            stack=\"zero\",\n",
       "            title=\"CO2\",\n",
       "            field=\"value\"\n",
       "        },\n",
       "        color={\n",
       "            field=\"variable\",\n",
       "            type=\"nominal\"\n",
       "        }\n",
       "    },\n",
       "    data={\n",
       "        values=...\n",
       "    }\n",
       ")"
      ]
     },
     "execution_count": 41,
     "metadata": {},
     "output_type": "execute_result"
    }
   ],
   "source": [
    "function conventional(t)\n",
    "    return initial[1,3]*(1-sum(JuMP.values.(xk)[k,t] for k in 1:nrow(compromise)))\n",
    "end\n",
    "\n",
    "function innovation(i,t)\n",
    "    if i==1\n",
    "        return sum(JuMP.values.(xk)[k,t]*(co2fac[k,t]) for k=1:mapki[i,2])\n",
    "    else\n",
    "        return sum(JuMP.values.(xk)[k,t]*(co2fac[k,t]) for k=mapki[i-1,2]:mapki[i,2])\n",
    "    end\n",
    "end\n",
    "\n",
    "conv=zeros(51)\n",
    "\n",
    "conv[1]=initial[1,3]\n",
    "inn_co2=zeros(nrow(innovations),51)\n",
    "\n",
    "for inn in 1:nrow(innovations)\n",
    "    inn_co2[inn,1]=0\n",
    "end\n",
    "j=0\n",
    "for i in 2:51\n",
    "    \n",
    "    if 0 ≤ i ≤ 5\n",
    "        j=1\n",
    "    elseif 6 ≤ i ≤ 10\n",
    "        j=2\n",
    "    elseif 6 ≤ i ≤ 10\n",
    "        j=3\n",
    "    elseif 11 ≤ i ≤ 15\n",
    "        j=4\n",
    "    elseif 16 ≤ i ≤ 20\n",
    "        j=5\n",
    "    elseif 21 ≤ i ≤ 25\n",
    "        j=6\n",
    "    else\n",
    "        j=7\n",
    "    end\n",
    "    \n",
    "    conv[i]=conventional(j)\n",
    "    for inn in 1:nrow(innovations)\n",
    "        inn_co2[inn,i]=innovation(inn,j)\n",
    "    end\n",
    "end\n",
    "\n",
    "\n",
    "sNames = [\"conv\",\"inn1\",\"inn2\",\"inn3\",\"inn4\",\"inn5\",\"inn6\",\"inn7\",\"inn8\",\"inn9\",\"inn10\"]\n",
    "xLabels = []\n",
    "for i in 2020:2070\n",
    "    push!(xLabels,string(i))\n",
    "end\n",
    "\n",
    "df = DataFrame(year=xLabels, conv=conv, inn1=inn_co2[1,:],inn2=inn_co2[2,:],inn3=inn_co2[3,:],inn4=inn_co2[4,:],\n",
    "        inn5=inn_co2[5,:],inn6=inn_co2[6,:],inn7=inn_co2[7,:],inn8=inn_co2[8,:],inn9=inn_co2[9,:],inn10=inn_co2[10,:])\n",
    "df=df[1:36,:]\n",
    "\n",
    "rename!(df,[:conv,:inn5,:inn10] .=> [:Conventional,:LDPE_Pyrolysis,:PLA_Alcoholysis])\n",
    "\n",
    "co2_inn=df |> stack |> @vlplot(:area, x=:year, y={:value, stack=:zero, title=\"CO2\"}, color=\"variable:n\",legend=:sNames) \n",
    "\n",
    "#save(\"./result-case-roadmap/co2-roadmap.svg\", co2_inn)\n",
    "co2_inn\n",
    "\n"
   ]
  },
  {
   "cell_type": "code",
   "execution_count": 42,
   "id": "3645b8d1",
   "metadata": {},
   "outputs": [
    {
     "data": {
      "application/vnd.vegalite.v4+json": {
       "data": {
        "values": [
         {
          "value": 0.12,
          "variable": "Conventional",
          "year": "2020"
         },
         {
          "value": 0,
          "variable": "Conventional",
          "year": "2021"
         },
         {
          "value": 0,
          "variable": "Conventional",
          "year": "2022"
         },
         {
          "value": 0,
          "variable": "Conventional",
          "year": "2023"
         },
         {
          "value": 0,
          "variable": "Conventional",
          "year": "2024"
         },
         {
          "value": 0,
          "variable": "Conventional",
          "year": "2025"
         },
         {
          "value": 0,
          "variable": "Conventional",
          "year": "2026"
         },
         {
          "value": 0,
          "variable": "Conventional",
          "year": "2027"
         },
         {
          "value": 0,
          "variable": "Conventional",
          "year": "2028"
         },
         {
          "value": 0,
          "variable": "Conventional",
          "year": "2029"
         },
         {
          "value": 0,
          "variable": "Conventional",
          "year": "2030"
         },
         {
          "value": 0,
          "variable": "Conventional",
          "year": "2031"
         },
         {
          "value": 0,
          "variable": "Conventional",
          "year": "2032"
         },
         {
          "value": 0,
          "variable": "Conventional",
          "year": "2033"
         },
         {
          "value": 0,
          "variable": "Conventional",
          "year": "2034"
         },
         {
          "value": 0,
          "variable": "Conventional",
          "year": "2035"
         },
         {
          "value": 0,
          "variable": "Conventional",
          "year": "2036"
         },
         {
          "value": 0,
          "variable": "Conventional",
          "year": "2037"
         },
         {
          "value": 0,
          "variable": "Conventional",
          "year": "2038"
         },
         {
          "value": 0,
          "variable": "Conventional",
          "year": "2039"
         },
         {
          "value": 0,
          "variable": "Conventional",
          "year": "2040"
         },
         {
          "value": 0,
          "variable": "Conventional",
          "year": "2041"
         },
         {
          "value": 0,
          "variable": "Conventional",
          "year": "2042"
         },
         {
          "value": 0,
          "variable": "Conventional",
          "year": "2043"
         },
         {
          "value": 0,
          "variable": "Conventional",
          "year": "2044"
         },
         {
          "value": 0,
          "variable": "Conventional",
          "year": "2045"
         },
         {
          "value": 0,
          "variable": "Conventional",
          "year": "2046"
         },
         {
          "value": 0,
          "variable": "Conventional",
          "year": "2047"
         },
         {
          "value": 0,
          "variable": "Conventional",
          "year": "2048"
         },
         {
          "value": 0,
          "variable": "Conventional",
          "year": "2049"
         },
         {
          "value": 0,
          "variable": "Conventional",
          "year": "2050"
         },
         {
          "value": 0,
          "variable": "Conventional",
          "year": "2051"
         },
         {
          "value": 0,
          "variable": "Conventional",
          "year": "2052"
         },
         {
          "value": 0,
          "variable": "Conventional",
          "year": "2053"
         },
         {
          "value": 0,
          "variable": "Conventional",
          "year": "2054"
         },
         {
          "value": 0,
          "variable": "Conventional",
          "year": "2055"
         },
         {
          "value": 0,
          "variable": "inn1",
          "year": "2020"
         },
         {
          "value": 0,
          "variable": "inn1",
          "year": "2021"
         },
         {
          "value": 0,
          "variable": "inn1",
          "year": "2022"
         },
         {
          "value": 0,
          "variable": "inn1",
          "year": "2023"
         },
         {
          "value": 0,
          "variable": "inn1",
          "year": "2024"
         },
         {
          "value": 0,
          "variable": "inn1",
          "year": "2025"
         },
         {
          "value": 0,
          "variable": "inn1",
          "year": "2026"
         },
         {
          "value": 0,
          "variable": "inn1",
          "year": "2027"
         },
         {
          "value": 0,
          "variable": "inn1",
          "year": "2028"
         },
         {
          "value": 0,
          "variable": "inn1",
          "year": "2029"
         },
         {
          "value": 0,
          "variable": "inn1",
          "year": "2030"
         },
         {
          "value": 0,
          "variable": "inn1",
          "year": "2031"
         },
         {
          "value": 0,
          "variable": "inn1",
          "year": "2032"
         },
         {
          "value": 0,
          "variable": "inn1",
          "year": "2033"
         },
         {
          "value": 0,
          "variable": "inn1",
          "year": "2034"
         },
         {
          "value": 0,
          "variable": "inn1",
          "year": "2035"
         },
         {
          "value": 0,
          "variable": "inn1",
          "year": "2036"
         },
         {
          "value": 0,
          "variable": "inn1",
          "year": "2037"
         },
         {
          "value": 0,
          "variable": "inn1",
          "year": "2038"
         },
         {
          "value": 0,
          "variable": "inn1",
          "year": "2039"
         },
         {
          "value": 0,
          "variable": "inn1",
          "year": "2040"
         },
         {
          "value": 0,
          "variable": "inn1",
          "year": "2041"
         },
         {
          "value": 0,
          "variable": "inn1",
          "year": "2042"
         },
         {
          "value": 0,
          "variable": "inn1",
          "year": "2043"
         },
         {
          "value": 0,
          "variable": "inn1",
          "year": "2044"
         },
         {
          "value": 0,
          "variable": "inn1",
          "year": "2045"
         },
         {
          "value": 0,
          "variable": "inn1",
          "year": "2046"
         },
         {
          "value": 0,
          "variable": "inn1",
          "year": "2047"
         },
         {
          "value": 0,
          "variable": "inn1",
          "year": "2048"
         },
         {
          "value": 0,
          "variable": "inn1",
          "year": "2049"
         },
         {
          "value": 0,
          "variable": "inn1",
          "year": "2050"
         },
         {
          "value": 0,
          "variable": "inn1",
          "year": "2051"
         },
         {
          "value": 0,
          "variable": "inn1",
          "year": "2052"
         },
         {
          "value": 0,
          "variable": "inn1",
          "year": "2053"
         },
         {
          "value": 0,
          "variable": "inn1",
          "year": "2054"
         },
         {
          "value": 0,
          "variable": "inn1",
          "year": "2055"
         },
         {
          "value": 0,
          "variable": "inn2",
          "year": "2020"
         },
         {
          "value": 0,
          "variable": "inn2",
          "year": "2021"
         },
         {
          "value": 0,
          "variable": "inn2",
          "year": "2022"
         },
         {
          "value": 0,
          "variable": "inn2",
          "year": "2023"
         },
         {
          "value": 0,
          "variable": "inn2",
          "year": "2024"
         },
         {
          "value": 0,
          "variable": "inn2",
          "year": "2025"
         },
         {
          "value": 0,
          "variable": "inn2",
          "year": "2026"
         },
         {
          "value": 0,
          "variable": "inn2",
          "year": "2027"
         },
         {
          "value": 0,
          "variable": "inn2",
          "year": "2028"
         },
         {
          "value": 0,
          "variable": "inn2",
          "year": "2029"
         },
         {
          "value": 0,
          "variable": "inn2",
          "year": "2030"
         },
         {
          "value": 0,
          "variable": "inn2",
          "year": "2031"
         },
         {
          "value": 0,
          "variable": "inn2",
          "year": "2032"
         },
         {
          "value": 0,
          "variable": "inn2",
          "year": "2033"
         },
         {
          "value": 0,
          "variable": "inn2",
          "year": "2034"
         },
         {
          "value": 0,
          "variable": "inn2",
          "year": "2035"
         },
         {
          "value": 0,
          "variable": "inn2",
          "year": "2036"
         },
         {
          "value": 0,
          "variable": "inn2",
          "year": "2037"
         },
         {
          "value": 0,
          "variable": "inn2",
          "year": "2038"
         },
         {
          "value": 0,
          "variable": "inn2",
          "year": "2039"
         },
         {
          "value": 0,
          "variable": "inn2",
          "year": "2040"
         },
         {
          "value": 0,
          "variable": "inn2",
          "year": "2041"
         },
         {
          "value": 0,
          "variable": "inn2",
          "year": "2042"
         },
         {
          "value": 0,
          "variable": "inn2",
          "year": "2043"
         },
         {
          "value": 0,
          "variable": "inn2",
          "year": "2044"
         },
         {
          "value": 0,
          "variable": "inn2",
          "year": "2045"
         },
         {
          "value": 0,
          "variable": "inn2",
          "year": "2046"
         },
         {
          "value": 0,
          "variable": "inn2",
          "year": "2047"
         },
         {
          "value": 0,
          "variable": "inn2",
          "year": "2048"
         },
         {
          "value": 0,
          "variable": "inn2",
          "year": "2049"
         },
         {
          "value": 0,
          "variable": "inn2",
          "year": "2050"
         },
         {
          "value": 0,
          "variable": "inn2",
          "year": "2051"
         },
         {
          "value": 0,
          "variable": "inn2",
          "year": "2052"
         },
         {
          "value": 0,
          "variable": "inn2",
          "year": "2053"
         },
         {
          "value": 0,
          "variable": "inn2",
          "year": "2054"
         },
         {
          "value": 0,
          "variable": "inn2",
          "year": "2055"
         },
         {
          "value": 0,
          "variable": "inn3",
          "year": "2020"
         },
         {
          "value": 0,
          "variable": "inn3",
          "year": "2021"
         },
         {
          "value": 0,
          "variable": "inn3",
          "year": "2022"
         },
         {
          "value": 0,
          "variable": "inn3",
          "year": "2023"
         },
         {
          "value": 0,
          "variable": "inn3",
          "year": "2024"
         },
         {
          "value": 0,
          "variable": "inn3",
          "year": "2025"
         },
         {
          "value": 0,
          "variable": "inn3",
          "year": "2026"
         },
         {
          "value": 0,
          "variable": "inn3",
          "year": "2027"
         },
         {
          "value": 0,
          "variable": "inn3",
          "year": "2028"
         },
         {
          "value": 0,
          "variable": "inn3",
          "year": "2029"
         },
         {
          "value": 0,
          "variable": "inn3",
          "year": "2030"
         },
         {
          "value": 0,
          "variable": "inn3",
          "year": "2031"
         },
         {
          "value": 0,
          "variable": "inn3",
          "year": "2032"
         },
         {
          "value": 0,
          "variable": "inn3",
          "year": "2033"
         },
         {
          "value": 0,
          "variable": "inn3",
          "year": "2034"
         },
         {
          "value": 0,
          "variable": "inn3",
          "year": "2035"
         },
         {
          "value": 0,
          "variable": "inn3",
          "year": "2036"
         },
         {
          "value": 0,
          "variable": "inn3",
          "year": "2037"
         },
         {
          "value": 0,
          "variable": "inn3",
          "year": "2038"
         },
         {
          "value": 0,
          "variable": "inn3",
          "year": "2039"
         },
         {
          "value": 0,
          "variable": "inn3",
          "year": "2040"
         },
         {
          "value": 0,
          "variable": "inn3",
          "year": "2041"
         },
         {
          "value": 0,
          "variable": "inn3",
          "year": "2042"
         },
         {
          "value": 0,
          "variable": "inn3",
          "year": "2043"
         },
         {
          "value": 0,
          "variable": "inn3",
          "year": "2044"
         },
         {
          "value": 0,
          "variable": "inn3",
          "year": "2045"
         },
         {
          "value": 0,
          "variable": "inn3",
          "year": "2046"
         },
         {
          "value": 0,
          "variable": "inn3",
          "year": "2047"
         },
         {
          "value": 0,
          "variable": "inn3",
          "year": "2048"
         },
         {
          "value": 0,
          "variable": "inn3",
          "year": "2049"
         },
         {
          "value": 0,
          "variable": "inn3",
          "year": "2050"
         },
         {
          "value": 0,
          "variable": "inn3",
          "year": "2051"
         },
         {
          "value": 0,
          "variable": "inn3",
          "year": "2052"
         },
         {
          "value": 0,
          "variable": "inn3",
          "year": "2053"
         },
         {
          "value": 0,
          "variable": "inn3",
          "year": "2054"
         },
         {
          "value": 0,
          "variable": "inn3",
          "year": "2055"
         },
         {
          "value": 0,
          "variable": "inn4",
          "year": "2020"
         },
         {
          "value": 0,
          "variable": "inn4",
          "year": "2021"
         },
         {
          "value": 0,
          "variable": "inn4",
          "year": "2022"
         },
         {
          "value": 0,
          "variable": "inn4",
          "year": "2023"
         },
         {
          "value": 0,
          "variable": "inn4",
          "year": "2024"
         },
         {
          "value": 0,
          "variable": "inn4",
          "year": "2025"
         },
         {
          "value": 0,
          "variable": "inn4",
          "year": "2026"
         },
         {
          "value": 0,
          "variable": "inn4",
          "year": "2027"
         },
         {
          "value": 0,
          "variable": "inn4",
          "year": "2028"
         },
         {
          "value": 0,
          "variable": "inn4",
          "year": "2029"
         },
         {
          "value": 0,
          "variable": "inn4",
          "year": "2030"
         },
         {
          "value": 0,
          "variable": "inn4",
          "year": "2031"
         },
         {
          "value": 0,
          "variable": "inn4",
          "year": "2032"
         },
         {
          "value": 0,
          "variable": "inn4",
          "year": "2033"
         },
         {
          "value": 0,
          "variable": "inn4",
          "year": "2034"
         },
         {
          "value": 0,
          "variable": "inn4",
          "year": "2035"
         },
         {
          "value": 0,
          "variable": "inn4",
          "year": "2036"
         },
         {
          "value": 0,
          "variable": "inn4",
          "year": "2037"
         },
         {
          "value": 0,
          "variable": "inn4",
          "year": "2038"
         },
         {
          "value": 0,
          "variable": "inn4",
          "year": "2039"
         },
         {
          "value": 0,
          "variable": "inn4",
          "year": "2040"
         },
         {
          "value": 0,
          "variable": "inn4",
          "year": "2041"
         },
         {
          "value": 0,
          "variable": "inn4",
          "year": "2042"
         },
         {
          "value": 0,
          "variable": "inn4",
          "year": "2043"
         },
         {
          "value": 0,
          "variable": "inn4",
          "year": "2044"
         },
         {
          "value": 0,
          "variable": "inn4",
          "year": "2045"
         },
         {
          "value": 0,
          "variable": "inn4",
          "year": "2046"
         },
         {
          "value": 0,
          "variable": "inn4",
          "year": "2047"
         },
         {
          "value": 0,
          "variable": "inn4",
          "year": "2048"
         },
         {
          "value": 0,
          "variable": "inn4",
          "year": "2049"
         },
         {
          "value": 0,
          "variable": "inn4",
          "year": "2050"
         },
         {
          "value": 0,
          "variable": "inn4",
          "year": "2051"
         },
         {
          "value": 0,
          "variable": "inn4",
          "year": "2052"
         },
         {
          "value": 0,
          "variable": "inn4",
          "year": "2053"
         },
         {
          "value": 0,
          "variable": "inn4",
          "year": "2054"
         },
         {
          "value": 0,
          "variable": "inn4",
          "year": "2055"
         },
         {
          "value": 0,
          "variable": "LDPE_Pyrolysis",
          "year": "2020"
         },
         {
          "value": 0,
          "variable": "LDPE_Pyrolysis",
          "year": "2021"
         },
         {
          "value": 0,
          "variable": "LDPE_Pyrolysis",
          "year": "2022"
         },
         {
          "value": 0,
          "variable": "LDPE_Pyrolysis",
          "year": "2023"
         },
         {
          "value": 0,
          "variable": "LDPE_Pyrolysis",
          "year": "2024"
         },
         {
          "value": 0,
          "variable": "LDPE_Pyrolysis",
          "year": "2025"
         },
         {
          "value": 0,
          "variable": "LDPE_Pyrolysis",
          "year": "2026"
         },
         {
          "value": 0,
          "variable": "LDPE_Pyrolysis",
          "year": "2027"
         },
         {
          "value": 0,
          "variable": "LDPE_Pyrolysis",
          "year": "2028"
         },
         {
          "value": 0,
          "variable": "LDPE_Pyrolysis",
          "year": "2029"
         },
         {
          "value": 0.3648931857283638,
          "variable": "LDPE_Pyrolysis",
          "year": "2030"
         },
         {
          "value": 0.3648931857283638,
          "variable": "LDPE_Pyrolysis",
          "year": "2031"
         },
         {
          "value": 0.3648931857283638,
          "variable": "LDPE_Pyrolysis",
          "year": "2032"
         },
         {
          "value": 0.3648931857283638,
          "variable": "LDPE_Pyrolysis",
          "year": "2033"
         },
         {
          "value": 0.3648931857283638,
          "variable": "LDPE_Pyrolysis",
          "year": "2034"
         },
         {
          "value": 0.36208584675412975,
          "variable": "LDPE_Pyrolysis",
          "year": "2035"
         },
         {
          "value": 0.36208584675412975,
          "variable": "LDPE_Pyrolysis",
          "year": "2036"
         },
         {
          "value": 0.36208584675412975,
          "variable": "LDPE_Pyrolysis",
          "year": "2037"
         },
         {
          "value": 0.36208584675412975,
          "variable": "LDPE_Pyrolysis",
          "year": "2038"
         },
         {
          "value": 0.36208584675412975,
          "variable": "LDPE_Pyrolysis",
          "year": "2039"
         },
         {
          "value": 0.36489318572839646,
          "variable": "LDPE_Pyrolysis",
          "year": "2040"
         },
         {
          "value": 0.36489318572839646,
          "variable": "LDPE_Pyrolysis",
          "year": "2041"
         },
         {
          "value": 0.36489318572839646,
          "variable": "LDPE_Pyrolysis",
          "year": "2042"
         },
         {
          "value": 0.36489318572839646,
          "variable": "LDPE_Pyrolysis",
          "year": "2043"
         },
         {
          "value": 0.36489318572839646,
          "variable": "LDPE_Pyrolysis",
          "year": "2044"
         },
         {
          "value": 0.4372993661990517,
          "variable": "LDPE_Pyrolysis",
          "year": "2045"
         },
         {
          "value": 0.4372993661990517,
          "variable": "LDPE_Pyrolysis",
          "year": "2046"
         },
         {
          "value": 0.4372993661990517,
          "variable": "LDPE_Pyrolysis",
          "year": "2047"
         },
         {
          "value": 0.4372993661990517,
          "variable": "LDPE_Pyrolysis",
          "year": "2048"
         },
         {
          "value": 0.4372993661990517,
          "variable": "LDPE_Pyrolysis",
          "year": "2049"
         },
         {
          "value": 0.4372993661990517,
          "variable": "LDPE_Pyrolysis",
          "year": "2050"
         },
         {
          "value": 0.4372993661990517,
          "variable": "LDPE_Pyrolysis",
          "year": "2051"
         },
         {
          "value": 0.4372993661990517,
          "variable": "LDPE_Pyrolysis",
          "year": "2052"
         },
         {
          "value": 0.4372993661990517,
          "variable": "LDPE_Pyrolysis",
          "year": "2053"
         },
         {
          "value": 0.4372993661990517,
          "variable": "LDPE_Pyrolysis",
          "year": "2054"
         },
         {
          "value": 0.4372993661990517,
          "variable": "LDPE_Pyrolysis",
          "year": "2055"
         },
         {
          "value": 0,
          "variable": "inn6",
          "year": "2020"
         },
         {
          "value": 0,
          "variable": "inn6",
          "year": "2021"
         },
         {
          "value": 0,
          "variable": "inn6",
          "year": "2022"
         },
         {
          "value": 0,
          "variable": "inn6",
          "year": "2023"
         },
         {
          "value": 0,
          "variable": "inn6",
          "year": "2024"
         },
         {
          "value": 0,
          "variable": "inn6",
          "year": "2025"
         },
         {
          "value": 0,
          "variable": "inn6",
          "year": "2026"
         },
         {
          "value": 0,
          "variable": "inn6",
          "year": "2027"
         },
         {
          "value": 0,
          "variable": "inn6",
          "year": "2028"
         },
         {
          "value": 0,
          "variable": "inn6",
          "year": "2029"
         },
         {
          "value": 0,
          "variable": "inn6",
          "year": "2030"
         },
         {
          "value": 0,
          "variable": "inn6",
          "year": "2031"
         },
         {
          "value": 0,
          "variable": "inn6",
          "year": "2032"
         },
         {
          "value": 0,
          "variable": "inn6",
          "year": "2033"
         },
         {
          "value": 0,
          "variable": "inn6",
          "year": "2034"
         },
         {
          "value": 0,
          "variable": "inn6",
          "year": "2035"
         },
         {
          "value": 0,
          "variable": "inn6",
          "year": "2036"
         },
         {
          "value": 0,
          "variable": "inn6",
          "year": "2037"
         },
         {
          "value": 0,
          "variable": "inn6",
          "year": "2038"
         },
         {
          "value": 0,
          "variable": "inn6",
          "year": "2039"
         },
         {
          "value": 0,
          "variable": "inn6",
          "year": "2040"
         },
         {
          "value": 0,
          "variable": "inn6",
          "year": "2041"
         },
         {
          "value": 0,
          "variable": "inn6",
          "year": "2042"
         },
         {
          "value": 0,
          "variable": "inn6",
          "year": "2043"
         },
         {
          "value": 0,
          "variable": "inn6",
          "year": "2044"
         },
         {
          "value": 0,
          "variable": "inn6",
          "year": "2045"
         },
         {
          "value": 0,
          "variable": "inn6",
          "year": "2046"
         },
         {
          "value": 0,
          "variable": "inn6",
          "year": "2047"
         },
         {
          "value": 0,
          "variable": "inn6",
          "year": "2048"
         },
         {
          "value": 0,
          "variable": "inn6",
          "year": "2049"
         },
         {
          "value": 0,
          "variable": "inn6",
          "year": "2050"
         },
         {
          "value": 0,
          "variable": "inn6",
          "year": "2051"
         },
         {
          "value": 0,
          "variable": "inn6",
          "year": "2052"
         },
         {
          "value": 0,
          "variable": "inn6",
          "year": "2053"
         },
         {
          "value": 0,
          "variable": "inn6",
          "year": "2054"
         },
         {
          "value": 0,
          "variable": "inn6",
          "year": "2055"
         },
         {
          "value": 0,
          "variable": "inn7",
          "year": "2020"
         },
         {
          "value": 0,
          "variable": "inn7",
          "year": "2021"
         },
         {
          "value": 0,
          "variable": "inn7",
          "year": "2022"
         },
         {
          "value": 0,
          "variable": "inn7",
          "year": "2023"
         },
         {
          "value": 0,
          "variable": "inn7",
          "year": "2024"
         },
         {
          "value": 0,
          "variable": "inn7",
          "year": "2025"
         },
         {
          "value": 0,
          "variable": "inn7",
          "year": "2026"
         },
         {
          "value": 0,
          "variable": "inn7",
          "year": "2027"
         },
         {
          "value": 0,
          "variable": "inn7",
          "year": "2028"
         },
         {
          "value": 0,
          "variable": "inn7",
          "year": "2029"
         },
         {
          "value": 0,
          "variable": "inn7",
          "year": "2030"
         },
         {
          "value": 0,
          "variable": "inn7",
          "year": "2031"
         },
         {
          "value": 0,
          "variable": "inn7",
          "year": "2032"
         },
         {
          "value": 0,
          "variable": "inn7",
          "year": "2033"
         },
         {
          "value": 0,
          "variable": "inn7",
          "year": "2034"
         },
         {
          "value": 0,
          "variable": "inn7",
          "year": "2035"
         },
         {
          "value": 0,
          "variable": "inn7",
          "year": "2036"
         },
         {
          "value": 0,
          "variable": "inn7",
          "year": "2037"
         },
         {
          "value": 0,
          "variable": "inn7",
          "year": "2038"
         },
         {
          "value": 0,
          "variable": "inn7",
          "year": "2039"
         },
         {
          "value": 0,
          "variable": "inn7",
          "year": "2040"
         },
         {
          "value": 0,
          "variable": "inn7",
          "year": "2041"
         },
         {
          "value": 0,
          "variable": "inn7",
          "year": "2042"
         },
         {
          "value": 0,
          "variable": "inn7",
          "year": "2043"
         },
         {
          "value": 0,
          "variable": "inn7",
          "year": "2044"
         },
         {
          "value": 0,
          "variable": "inn7",
          "year": "2045"
         },
         {
          "value": 0,
          "variable": "inn7",
          "year": "2046"
         },
         {
          "value": 0,
          "variable": "inn7",
          "year": "2047"
         },
         {
          "value": 0,
          "variable": "inn7",
          "year": "2048"
         },
         {
          "value": 0,
          "variable": "inn7",
          "year": "2049"
         },
         {
          "value": 0,
          "variable": "inn7",
          "year": "2050"
         },
         {
          "value": 0,
          "variable": "inn7",
          "year": "2051"
         },
         {
          "value": 0,
          "variable": "inn7",
          "year": "2052"
         },
         {
          "value": 0,
          "variable": "inn7",
          "year": "2053"
         },
         {
          "value": 0,
          "variable": "inn7",
          "year": "2054"
         },
         {
          "value": 0,
          "variable": "inn7",
          "year": "2055"
         },
         {
          "value": 0,
          "variable": "inn8",
          "year": "2020"
         },
         {
          "value": 0,
          "variable": "inn8",
          "year": "2021"
         },
         {
          "value": 0,
          "variable": "inn8",
          "year": "2022"
         },
         {
          "value": 0,
          "variable": "inn8",
          "year": "2023"
         },
         {
          "value": 0,
          "variable": "inn8",
          "year": "2024"
         },
         {
          "value": 0,
          "variable": "inn8",
          "year": "2025"
         },
         {
          "value": 0,
          "variable": "inn8",
          "year": "2026"
         },
         {
          "value": 0,
          "variable": "inn8",
          "year": "2027"
         },
         {
          "value": 0,
          "variable": "inn8",
          "year": "2028"
         },
         {
          "value": 0,
          "variable": "inn8",
          "year": "2029"
         },
         {
          "value": 0,
          "variable": "inn8",
          "year": "2030"
         },
         {
          "value": 0,
          "variable": "inn8",
          "year": "2031"
         },
         {
          "value": 0,
          "variable": "inn8",
          "year": "2032"
         },
         {
          "value": 0,
          "variable": "inn8",
          "year": "2033"
         },
         {
          "value": 0,
          "variable": "inn8",
          "year": "2034"
         },
         {
          "value": 0,
          "variable": "inn8",
          "year": "2035"
         },
         {
          "value": 0,
          "variable": "inn8",
          "year": "2036"
         },
         {
          "value": 0,
          "variable": "inn8",
          "year": "2037"
         },
         {
          "value": 0,
          "variable": "inn8",
          "year": "2038"
         },
         {
          "value": 0,
          "variable": "inn8",
          "year": "2039"
         },
         {
          "value": 0,
          "variable": "inn8",
          "year": "2040"
         },
         {
          "value": 0,
          "variable": "inn8",
          "year": "2041"
         },
         {
          "value": 0,
          "variable": "inn8",
          "year": "2042"
         },
         {
          "value": 0,
          "variable": "inn8",
          "year": "2043"
         },
         {
          "value": 0,
          "variable": "inn8",
          "year": "2044"
         },
         {
          "value": 0,
          "variable": "inn8",
          "year": "2045"
         },
         {
          "value": 0,
          "variable": "inn8",
          "year": "2046"
         },
         {
          "value": 0,
          "variable": "inn8",
          "year": "2047"
         },
         {
          "value": 0,
          "variable": "inn8",
          "year": "2048"
         },
         {
          "value": 0,
          "variable": "inn8",
          "year": "2049"
         },
         {
          "value": 0,
          "variable": "inn8",
          "year": "2050"
         },
         {
          "value": 0,
          "variable": "inn8",
          "year": "2051"
         },
         {
          "value": 0,
          "variable": "inn8",
          "year": "2052"
         },
         {
          "value": 0,
          "variable": "inn8",
          "year": "2053"
         },
         {
          "value": 0,
          "variable": "inn8",
          "year": "2054"
         },
         {
          "value": 0,
          "variable": "inn8",
          "year": "2055"
         },
         {
          "value": 0,
          "variable": "inn9",
          "year": "2020"
         },
         {
          "value": 0,
          "variable": "inn9",
          "year": "2021"
         },
         {
          "value": 0,
          "variable": "inn9",
          "year": "2022"
         },
         {
          "value": 0,
          "variable": "inn9",
          "year": "2023"
         },
         {
          "value": 0,
          "variable": "inn9",
          "year": "2024"
         },
         {
          "value": 0,
          "variable": "inn9",
          "year": "2025"
         },
         {
          "value": 0,
          "variable": "inn9",
          "year": "2026"
         },
         {
          "value": 0,
          "variable": "inn9",
          "year": "2027"
         },
         {
          "value": 0,
          "variable": "inn9",
          "year": "2028"
         },
         {
          "value": 0,
          "variable": "inn9",
          "year": "2029"
         },
         {
          "value": 0.3851068142716362,
          "variable": "inn9",
          "year": "2030"
         },
         {
          "value": 0.3851068142716362,
          "variable": "inn9",
          "year": "2031"
         },
         {
          "value": 0.3851068142716362,
          "variable": "inn9",
          "year": "2032"
         },
         {
          "value": 0.3851068142716362,
          "variable": "inn9",
          "year": "2033"
         },
         {
          "value": 0.3851068142716362,
          "variable": "inn9",
          "year": "2034"
         },
         {
          "value": 0.3879141532458702,
          "variable": "inn9",
          "year": "2035"
         },
         {
          "value": 0.3879141532458702,
          "variable": "inn9",
          "year": "2036"
         },
         {
          "value": 0.3879141532458702,
          "variable": "inn9",
          "year": "2037"
         },
         {
          "value": 0.3879141532458702,
          "variable": "inn9",
          "year": "2038"
         },
         {
          "value": 0.3879141532458702,
          "variable": "inn9",
          "year": "2039"
         },
         {
          "value": 0.3851068142715938,
          "variable": "inn9",
          "year": "2040"
         },
         {
          "value": 0.3851068142715938,
          "variable": "inn9",
          "year": "2041"
         },
         {
          "value": 0.3851068142715938,
          "variable": "inn9",
          "year": "2042"
         },
         {
          "value": 0.3851068142715938,
          "variable": "inn9",
          "year": "2043"
         },
         {
          "value": 0.3851068142715938,
          "variable": "inn9",
          "year": "2044"
         },
         {
          "value": 0.31270063380094776,
          "variable": "inn9",
          "year": "2045"
         },
         {
          "value": 0.31270063380094776,
          "variable": "inn9",
          "year": "2046"
         },
         {
          "value": 0.31270063380094776,
          "variable": "inn9",
          "year": "2047"
         },
         {
          "value": 0.31270063380094776,
          "variable": "inn9",
          "year": "2048"
         },
         {
          "value": 0.31270063380094776,
          "variable": "inn9",
          "year": "2049"
         },
         {
          "value": 0.31270063380094776,
          "variable": "inn9",
          "year": "2050"
         },
         {
          "value": 0.31270063380094776,
          "variable": "inn9",
          "year": "2051"
         },
         {
          "value": 0.31270063380094776,
          "variable": "inn9",
          "year": "2052"
         },
         {
          "value": 0.31270063380094776,
          "variable": "inn9",
          "year": "2053"
         },
         {
          "value": 0.31270063380094776,
          "variable": "inn9",
          "year": "2054"
         },
         {
          "value": 0.31270063380094776,
          "variable": "inn9",
          "year": "2055"
         },
         {
          "value": 0,
          "variable": "PLA_Alcoholysis",
          "year": "2020"
         },
         {
          "value": 0,
          "variable": "PLA_Alcoholysis",
          "year": "2021"
         },
         {
          "value": 0,
          "variable": "PLA_Alcoholysis",
          "year": "2022"
         },
         {
          "value": 0,
          "variable": "PLA_Alcoholysis",
          "year": "2023"
         },
         {
          "value": 0,
          "variable": "PLA_Alcoholysis",
          "year": "2024"
         },
         {
          "value": 0,
          "variable": "PLA_Alcoholysis",
          "year": "2025"
         },
         {
          "value": 0,
          "variable": "PLA_Alcoholysis",
          "year": "2026"
         },
         {
          "value": 0,
          "variable": "PLA_Alcoholysis",
          "year": "2027"
         },
         {
          "value": 0,
          "variable": "PLA_Alcoholysis",
          "year": "2028"
         },
         {
          "value": 0,
          "variable": "PLA_Alcoholysis",
          "year": "2029"
         },
         {
          "value": 0,
          "variable": "PLA_Alcoholysis",
          "year": "2030"
         },
         {
          "value": 0,
          "variable": "PLA_Alcoholysis",
          "year": "2031"
         },
         {
          "value": 0,
          "variable": "PLA_Alcoholysis",
          "year": "2032"
         },
         {
          "value": 0,
          "variable": "PLA_Alcoholysis",
          "year": "2033"
         },
         {
          "value": 0,
          "variable": "PLA_Alcoholysis",
          "year": "2034"
         },
         {
          "value": 0,
          "variable": "PLA_Alcoholysis",
          "year": "2035"
         },
         {
          "value": 0,
          "variable": "PLA_Alcoholysis",
          "year": "2036"
         },
         {
          "value": 0,
          "variable": "PLA_Alcoholysis",
          "year": "2037"
         },
         {
          "value": 0,
          "variable": "PLA_Alcoholysis",
          "year": "2038"
         },
         {
          "value": 0,
          "variable": "PLA_Alcoholysis",
          "year": "2039"
         },
         {
          "value": 0,
          "variable": "PLA_Alcoholysis",
          "year": "2040"
         },
         {
          "value": 0,
          "variable": "PLA_Alcoholysis",
          "year": "2041"
         },
         {
          "value": 0,
          "variable": "PLA_Alcoholysis",
          "year": "2042"
         },
         {
          "value": 0,
          "variable": "PLA_Alcoholysis",
          "year": "2043"
         },
         {
          "value": 0,
          "variable": "PLA_Alcoholysis",
          "year": "2044"
         },
         {
          "value": 0,
          "variable": "PLA_Alcoholysis",
          "year": "2045"
         },
         {
          "value": 0,
          "variable": "PLA_Alcoholysis",
          "year": "2046"
         },
         {
          "value": 0,
          "variable": "PLA_Alcoholysis",
          "year": "2047"
         },
         {
          "value": 0,
          "variable": "PLA_Alcoholysis",
          "year": "2048"
         },
         {
          "value": 0,
          "variable": "PLA_Alcoholysis",
          "year": "2049"
         },
         {
          "value": 0,
          "variable": "PLA_Alcoholysis",
          "year": "2050"
         },
         {
          "value": 0,
          "variable": "PLA_Alcoholysis",
          "year": "2051"
         },
         {
          "value": 0,
          "variable": "PLA_Alcoholysis",
          "year": "2052"
         },
         {
          "value": 0,
          "variable": "PLA_Alcoholysis",
          "year": "2053"
         },
         {
          "value": 0,
          "variable": "PLA_Alcoholysis",
          "year": "2054"
         },
         {
          "value": 0,
          "variable": "PLA_Alcoholysis",
          "year": "2055"
         }
        ]
       },
       "encoding": {
        "color": {
         "field": "variable",
         "type": "nominal"
        },
        "x": {
         "field": "year"
        },
        "y": {
         "field": "value",
         "stack": "zero",
         "title": "recycled/renewable content",
         "type": "quantitative"
        }
       },
       "legend": "sNames",
       "mark": "area"
      },
      "image/png": "[encoded data removed]",
      "image/svg+xml": [
       "<?xml version=\"1.0\" encoding=\"utf-8\"?>\n",
       "<!DOCTYPE svg PUBLIC \"-//W3C//DTD SVG 1.1//EN\" \"http://www.w3.org/Graphics/SVG/1.1/DTD/svg11.dtd\">\n",
       "<svg xmlns=\"http://www.w3.org/2000/svg\" xmlns:xlink=\"http://www.w3.org/1999/xlink\" version=\"1.1\" class=\"marks\" width=\"881\" height=\"261\" viewBox=\"0 0 881 261\"><rect width=\"881\" height=\"261\" fill=\"white\"/><g fill=\"none\" stroke-miterlimit=\"10\" transform=\"translate(42,10)\"><g class=\"mark-group role-frame root\" role=\"graphics-object\" aria-roledescription=\"group mark container\"><g transform=\"translate(0,0)\"><path class=\"background\" aria-hidden=\"true\" d=\"M0.5,0.5h720v200h-720Z\" stroke=\"#ddd\"/><g><g class=\"mark-group role-axis\" aria-hidden=\"true\"><g transform=\"translate(0.5,0.5)\"><path class=\"background\" aria-hidden=\"true\" d=\"M0,0h0v0h0Z\" pointer-events=\"none\"/><g><g class=\"mark-rule role-axis-grid\" pointer-events=\"none\"><line transform=\"translate(0,200)\" x2=\"720\" y2=\"0\" stroke=\"#ddd\" stroke-width=\"1\" opacity=\"1\"/><line transform=\"translate(0,150)\" x2=\"720\" y2=\"0\" stroke=\"#ddd\" stroke-width=\"1\" opacity=\"1\"/><line transform=\"translate(0,100)\" x2=\"720\" y2=\"0\" stroke=\"#ddd\" stroke-width=\"1\" opacity=\"1\"/><line transform=\"translate(0,50)\" x2=\"720\" y2=\"0\" stroke=\"#ddd\" stroke-width=\"1\" opacity=\"1\"/><line transform=\"translate(0,0)\" x2=\"720\" y2=\"0\" stroke=\"#ddd\" stroke-width=\"1\" opacity=\"1\"/></g></g><path class=\"foreground\" aria-hidden=\"true\" d=\"\" pointer-events=\"none\" display=\"none\"/></g></g><g class=\"mark-group role-axis\" role=\"graphics-symbol\" aria-roledescription=\"axis\" aria-label=\"X-axis titled 'year' for a discrete scale with 36 values: 2020, 2021, 2022, 2023, 2024, ending with 2055\"><g transform=\"translate(0.5,200.5)\"><path class=\"background\" aria-hidden=\"true\" d=\"M0,0h0v0h0Z\" pointer-events=\"none\"/><g><g class=\"mark-rule role-axis-tick\" pointer-events=\"none\"><line transform=\"translate(10,0)\" x2=\"0\" y2=\"5\" stroke=\"#888\" stroke-width=\"1\" opacity=\"1\"/><line transform=\"translate(30,0)\" x2=\"0\" y2=\"5\" stroke=\"#888\" stroke-width=\"1\" opacity=\"1\"/><line transform=\"translate(50,0)\" x2=\"0\" y2=\"5\" stroke=\"#888\" stroke-width=\"1\" opacity=\"1\"/><line transform=\"translate(70,0)\" x2=\"0\" y2=\"5\" stroke=\"#888\" stroke-width=\"1\" opacity=\"1\"/><line transform=\"translate(90,0)\" x2=\"0\" y2=\"5\" stroke=\"#888\" stroke-width=\"1\" opacity=\"1\"/><line transform=\"translate(110,0)\" x2=\"0\" y2=\"5\" stroke=\"#888\" stroke-width=\"1\" opacity=\"1\"/><line transform=\"translate(130,0)\" x2=\"0\" y2=\"5\" stroke=\"#888\" stroke-width=\"1\" opacity=\"1\"/><line transform=\"translate(150,0)\" x2=\"0\" y2=\"5\" stroke=\"#888\" stroke-width=\"1\" opacity=\"1\"/><line transform=\"translate(170,0)\" x2=\"0\" y2=\"5\" stroke=\"#888\" stroke-width=\"1\" opacity=\"1\"/><line transform=\"translate(190,0)\" x2=\"0\" y2=\"5\" stroke=\"#888\" stroke-width=\"1\" opacity=\"1\"/><line transform=\"translate(210,0)\" x2=\"0\" y2=\"5\" stroke=\"#888\" stroke-width=\"1\" opacity=\"1\"/><line transform=\"translate(230,0)\" x2=\"0\" y2=\"5\" stroke=\"#888\" stroke-width=\"1\" opacity=\"1\"/><line transform=\"translate(250,0)\" x2=\"0\" y2=\"5\" stroke=\"#888\" stroke-width=\"1\" opacity=\"1\"/><line transform=\"translate(270,0)\" x2=\"0\" y2=\"5\" stroke=\"#888\" stroke-width=\"1\" opacity=\"1\"/><line transform=\"translate(290,0)\" x2=\"0\" y2=\"5\" stroke=\"#888\" stroke-width=\"1\" opacity=\"1\"/><line transform=\"translate(310,0)\" x2=\"0\" y2=\"5\" stroke=\"#888\" stroke-width=\"1\" opacity=\"1\"/><line transform=\"translate(330,0)\" x2=\"0\" y2=\"5\" stroke=\"#888\" stroke-width=\"1\" opacity=\"1\"/><line transform=\"translate(350,0)\" x2=\"0\" y2=\"5\" stroke=\"#888\" stroke-width=\"1\" opacity=\"1\"/><line transform=\"translate(370,0)\" x2=\"0\" y2=\"5\" stroke=\"#888\" stroke-width=\"1\" opacity=\"1\"/><line transform=\"translate(390,0)\" x2=\"0\" y2=\"5\" stroke=\"#888\" stroke-width=\"1\" opacity=\"1\"/><line transform=\"translate(410,0)\" x2=\"0\" y2=\"5\" stroke=\"#888\" stroke-width=\"1\" opacity=\"1\"/><line transform=\"translate(430,0)\" x2=\"0\" y2=\"5\" stroke=\"#888\" stroke-width=\"1\" opacity=\"1\"/><line transform=\"translate(450,0)\" x2=\"0\" y2=\"5\" stroke=\"#888\" stroke-width=\"1\" opacity=\"1\"/><line transform=\"translate(470,0)\" x2=\"0\" y2=\"5\" stroke=\"#888\" stroke-width=\"1\" opacity=\"1\"/><line transform=\"translate(490,0)\" x2=\"0\" y2=\"5\" stroke=\"#888\" stroke-width=\"1\" opacity=\"1\"/><line transform=\"translate(510,0)\" x2=\"0\" y2=\"5\" stroke=\"#888\" stroke-width=\"1\" opacity=\"1\"/><line transform=\"translate(530,0)\" x2=\"0\" y2=\"5\" stroke=\"#888\" stroke-width=\"1\" opacity=\"1\"/><line transform=\"translate(550,0)\" x2=\"0\" y2=\"5\" stroke=\"#888\" stroke-width=\"1\" opacity=\"1\"/><line transform=\"translate(570,0)\" x2=\"0\" y2=\"5\" stroke=\"#888\" stroke-width=\"1\" opacity=\"1\"/><line transform=\"translate(590,0)\" x2=\"0\" y2=\"5\" stroke=\"#888\" stroke-width=\"1\" opacity=\"1\"/><line transform=\"translate(610,0)\" x2=\"0\" y2=\"5\" stroke=\"#888\" stroke-width=\"1\" opacity=\"1\"/><line transform=\"translate(630,0)\" x2=\"0\" y2=\"5\" stroke=\"#888\" stroke-width=\"1\" opacity=\"1\"/><line transform=\"translate(650,0)\" x2=\"0\" y2=\"5\" stroke=\"#888\" stroke-width=\"1\" opacity=\"1\"/><line transform=\"translate(670,0)\" x2=\"0\" y2=\"5\" stroke=\"#888\" stroke-width=\"1\" opacity=\"1\"/><line transform=\"translate(690,0)\" x2=\"0\" y2=\"5\" stroke=\"#888\" stroke-width=\"1\" opacity=\"1\"/><line transform=\"translate(710,0)\" x2=\"0\" y2=\"5\" stroke=\"#888\" stroke-width=\"1\" opacity=\"1\"/></g><g class=\"mark-text role-axis-label\" pointer-events=\"none\"><text text-anchor=\"end\" transform=\"translate(10,7) rotate(270) translate(0,3)\" font-family=\"sans-serif\" font-size=\"10px\" fill=\"#000\" opacity=\"1\">2020</text><text text-anchor=\"end\" transform=\"translate(30,7) rotate(270) translate(0,3)\" font-family=\"sans-serif\" font-size=\"10px\" fill=\"#000\" opacity=\"1\">2021</text><text text-anchor=\"end\" transform=\"translate(50,7) rotate(270) translate(0,3)\" font-family=\"sans-serif\" font-size=\"10px\" fill=\"#000\" opacity=\"1\">2022</text><text text-anchor=\"end\" transform=\"translate(70,7) rotate(270) translate(0,3)\" font-family=\"sans-serif\" font-size=\"10px\" fill=\"#000\" opacity=\"1\">2023</text><text text-anchor=\"end\" transform=\"translate(90,7) rotate(270) translate(0,3)\" font-family=\"sans-serif\" font-size=\"10px\" fill=\"#000\" opacity=\"1\">2024</text><text text-anchor=\"end\" transform=\"translate(110,7) rotate(270) translate(0,3)\" font-family=\"sans-serif\" font-size=\"10px\" fill=\"#000\" opacity=\"1\">2025</text><text text-anchor=\"end\" transform=\"translate(130,7) rotate(270) translate(0,3)\" font-family=\"sans-serif\" font-size=\"10px\" fill=\"#000\" opacity=\"1\">2026</text><text text-anchor=\"end\" transform=\"translate(150,7) rotate(270) translate(0,3)\" font-family=\"sans-serif\" font-size=\"10px\" fill=\"#000\" opacity=\"1\">2027</text><text text-anchor=\"end\" transform=\"translate(170,7) rotate(270) translate(0,3)\" font-family=\"sans-serif\" font-size=\"10px\" fill=\"#000\" opacity=\"1\">2028</text><text text-anchor=\"end\" transform=\"translate(190,7) rotate(270) translate(0,3)\" font-family=\"sans-serif\" font-size=\"10px\" fill=\"#000\" opacity=\"1\">2029</text><text text-anchor=\"end\" transform=\"translate(210,7) rotate(270) translate(0,3)\" font-family=\"sans-serif\" font-size=\"10px\" fill=\"#000\" opacity=\"1\">2030</text><text text-anchor=\"end\" transform=\"translate(230,7) rotate(270) translate(0,3)\" font-family=\"sans-serif\" font-size=\"10px\" fill=\"#000\" opacity=\"1\">2031</text><text text-anchor=\"end\" transform=\"translate(250,7) rotate(270) translate(0,3)\" font-family=\"sans-serif\" font-size=\"10px\" fill=\"#000\" opacity=\"1\">2032</text><text text-anchor=\"end\" transform=\"translate(270,7) rotate(270) translate(0,3)\" font-family=\"sans-serif\" font-size=\"10px\" fill=\"#000\" opacity=\"1\">2033</text><text text-anchor=\"end\" transform=\"translate(290,7) rotate(270) translate(0,3)\" font-family=\"sans-serif\" font-size=\"10px\" fill=\"#000\" opacity=\"1\">2034</text><text text-anchor=\"end\" transform=\"translate(310,7) rotate(270) translate(0,3)\" font-family=\"sans-serif\" font-size=\"10px\" fill=\"#000\" opacity=\"1\">2035</text><text text-anchor=\"end\" transform=\"translate(330,7) rotate(270) translate(0,3)\" font-family=\"sans-serif\" font-size=\"10px\" fill=\"#000\" opacity=\"1\">2036</text><text text-anchor=\"end\" transform=\"translate(350,7) rotate(270) translate(0,3)\" font-family=\"sans-serif\" font-size=\"10px\" fill=\"#000\" opacity=\"1\">2037</text><text text-anchor=\"end\" transform=\"translate(370,7) rotate(270) translate(0,3)\" font-family=\"sans-serif\" font-size=\"10px\" fill=\"#000\" opacity=\"1\">2038</text><text text-anchor=\"end\" transform=\"translate(390,7) rotate(270) translate(0,3)\" font-family=\"sans-serif\" font-size=\"10px\" fill=\"#000\" opacity=\"1\">2039</text><text text-anchor=\"end\" transform=\"translate(410,7) rotate(270) translate(0,3)\" font-family=\"sans-serif\" font-size=\"10px\" fill=\"#000\" opacity=\"1\">2040</text><text text-anchor=\"end\" transform=\"translate(430,7) rotate(270) translate(0,3)\" font-family=\"sans-serif\" font-size=\"10px\" fill=\"#000\" opacity=\"1\">2041</text><text text-anchor=\"end\" transform=\"translate(450,7) rotate(270) translate(0,3)\" font-family=\"sans-serif\" font-size=\"10px\" fill=\"#000\" opacity=\"1\">2042</text><text text-anchor=\"end\" transform=\"translate(470,7) rotate(270) translate(0,3)\" font-family=\"sans-serif\" font-size=\"10px\" fill=\"#000\" opacity=\"1\">2043</text><text text-anchor=\"end\" transform=\"translate(490,7) rotate(270) translate(0,3)\" font-family=\"sans-serif\" font-size=\"10px\" fill=\"#000\" opacity=\"1\">2044</text><text text-anchor=\"end\" transform=\"translate(510,7) rotate(270) translate(0,3)\" font-family=\"sans-serif\" font-size=\"10px\" fill=\"#000\" opacity=\"1\">2045</text><text text-anchor=\"end\" transform=\"translate(530,7) rotate(270) translate(0,3)\" font-family=\"sans-serif\" font-size=\"10px\" fill=\"#000\" opacity=\"1\">2046</text><text text-anchor=\"end\" transform=\"translate(550,7) rotate(270) translate(0,3)\" font-family=\"sans-serif\" font-size=\"10px\" fill=\"#000\" opacity=\"1\">2047</text><text text-anchor=\"end\" transform=\"translate(570,7) rotate(270) translate(0,3)\" font-family=\"sans-serif\" font-size=\"10px\" fill=\"#000\" opacity=\"1\">2048</text><text text-anchor=\"end\" transform=\"translate(590,7) rotate(270) translate(0,3)\" font-family=\"sans-serif\" font-size=\"10px\" fill=\"#000\" opacity=\"1\">2049</text><text text-anchor=\"end\" transform=\"translate(610,7) rotate(270) translate(0,3)\" font-family=\"sans-serif\" font-size=\"10px\" fill=\"#000\" opacity=\"1\">2050</text><text text-anchor=\"end\" transform=\"translate(630,7) rotate(270) translate(0,3)\" font-family=\"sans-serif\" font-size=\"10px\" fill=\"#000\" opacity=\"1\">2051</text><text text-anchor=\"end\" transform=\"translate(650,7) rotate(270) translate(0,3)\" font-family=\"sans-serif\" font-size=\"10px\" fill=\"#000\" opacity=\"1\">2052</text><text text-anchor=\"end\" transform=\"translate(670,7) rotate(270) translate(0,3)\" font-family=\"sans-serif\" font-size=\"10px\" fill=\"#000\" opacity=\"1\">2053</text><text text-anchor=\"end\" transform=\"translate(690,7) rotate(270) translate(0,3)\" font-family=\"sans-serif\" font-size=\"10px\" fill=\"#000\" opacity=\"1\">2054</text><text text-anchor=\"end\" transform=\"translate(710,7) rotate(270) translate(0,3)\" font-family=\"sans-serif\" font-size=\"10px\" fill=\"#000\" opacity=\"1\">2055</text></g><g class=\"mark-rule role-axis-domain\" pointer-events=\"none\"><line transform=\"translate(0,0)\" x2=\"720\" y2=\"0\" stroke=\"#888\" stroke-width=\"1\" opacity=\"1\"/></g><g class=\"mark-text role-axis-title\" pointer-events=\"none\"><text text-anchor=\"middle\" transform=\"translate(360,44)\" font-family=\"sans-serif\" font-size=\"11px\" font-weight=\"bold\" fill=\"#000\" opacity=\"1\">year</text></g></g><path class=\"foreground\" aria-hidden=\"true\" d=\"\" pointer-events=\"none\" display=\"none\"/></g></g><g class=\"mark-group role-axis\" role=\"graphics-symbol\" aria-roledescription=\"axis\" aria-label=\"Y-axis titled 'recycled/renewable content' for a linear scale with values from 0.0 to 0.8\"><g transform=\"translate(0.5,0.5)\"><path class=\"background\" aria-hidden=\"true\" d=\"M0,0h0v0h0Z\" pointer-events=\"none\"/><g><g class=\"mark-rule role-axis-tick\" pointer-events=\"none\"><line transform=\"translate(0,200)\" x2=\"-5\" y2=\"0\" stroke=\"#888\" stroke-width=\"1\" opacity=\"1\"/><line transform=\"translate(0,150)\" x2=\"-5\" y2=\"0\" stroke=\"#888\" stroke-width=\"1\" opacity=\"1\"/><line transform=\"translate(0,100)\" x2=\"-5\" y2=\"0\" stroke=\"#888\" stroke-width=\"1\" opacity=\"1\"/><line transform=\"translate(0,50)\" x2=\"-5\" y2=\"0\" stroke=\"#888\" stroke-width=\"1\" opacity=\"1\"/><line transform=\"translate(0,0)\" x2=\"-5\" y2=\"0\" stroke=\"#888\" stroke-width=\"1\" opacity=\"1\"/></g><g class=\"mark-text role-axis-label\" pointer-events=\"none\"><text text-anchor=\"end\" transform=\"translate(-7,203)\" font-family=\"sans-serif\" font-size=\"10px\" fill=\"#000\" opacity=\"1\">0.0</text><text text-anchor=\"end\" transform=\"translate(-7,153)\" font-family=\"sans-serif\" font-size=\"10px\" fill=\"#000\" opacity=\"1\">0.2</text><text text-anchor=\"end\" transform=\"translate(-7,103)\" font-family=\"sans-serif\" font-size=\"10px\" fill=\"#000\" opacity=\"1\">0.4</text><text text-anchor=\"end\" transform=\"translate(-7,53.00000000000002)\" font-family=\"sans-serif\" font-size=\"10px\" fill=\"#000\" opacity=\"1\">0.6</text><text text-anchor=\"end\" transform=\"translate(-7,3)\" font-family=\"sans-serif\" font-size=\"10px\" fill=\"#000\" opacity=\"1\">0.8</text></g><g class=\"mark-rule role-axis-domain\" pointer-events=\"none\"><line transform=\"translate(0,200)\" x2=\"0\" y2=\"-200\" stroke=\"#888\" stroke-width=\"1\" opacity=\"1\"/></g><g class=\"mark-text role-axis-title\" pointer-events=\"none\"><text text-anchor=\"middle\" transform=\"translate(-26,100) rotate(-90) translate(0,-2)\" font-family=\"sans-serif\" font-size=\"11px\" font-weight=\"bold\" fill=\"#000\" opacity=\"1\">recycled/renewable content</text></g></g><path class=\"foreground\" aria-hidden=\"true\" d=\"\" pointer-events=\"none\" display=\"none\"/></g></g><g class=\"mark-group role-scope pathgroup\" role=\"graphics-object\" aria-roledescription=\"group mark container\"><g transform=\"translate(0,0)\"><path class=\"background\" aria-hidden=\"true\" d=\"M0,0h720v200h-720Z\"/><g><g class=\"mark-area role-mark marks\" role=\"graphics-object\" aria-roledescription=\"area mark container\"><path aria-label=\"year: 2020; recycled/renewable content: 0.12; variable: Conventional\" role=\"graphics-symbol\" aria-roledescription=\"area mark\" d=\"M10,170L30,200L50,200L70,200L90,200L110,200L130,200L150,200L170,200L190,200L210,12.5L230,12.5L250,12.5L270,12.5L290,12.5L310,12.5L330,12.5L350,12.5L370,12.5L390,12.5L410,12.500000000002442L430,12.500000000002442L450,12.500000000002442L470,12.500000000002442L490,12.500000000002442L510,12.500000000000156L530,12.500000000000156L550,12.500000000000156L570,12.500000000000156L590,12.500000000000156L610,12.500000000000156L630,12.500000000000156L650,12.500000000000156L670,12.500000000000156L690,12.500000000000156L710,12.500000000000156L710,12.500000000000156L690,12.500000000000156L670,12.500000000000156L650,12.500000000000156L630,12.500000000000156L610,12.500000000000156L590,12.500000000000156L570,12.500000000000156L550,12.500000000000156L530,12.500000000000156L510,12.500000000000156L490,12.500000000002442L470,12.500000000002442L450,12.500000000002442L430,12.500000000002442L410,12.500000000002442L390,12.5L370,12.5L350,12.5L330,12.5L310,12.5L290,12.5L270,12.5L250,12.5L230,12.5L210,12.5L190,200L170,200L150,200L130,200L110,200L90,200L70,200L50,200L30,200L10,200Z\" fill=\"#4c78a8\"/></g></g><path class=\"foreground\" aria-hidden=\"true\" d=\"\" display=\"none\"/></g><g transform=\"translate(0,0)\"><path class=\"background\" aria-hidden=\"true\" d=\"M0,0h720v200h-720Z\"/><g><g class=\"mark-area role-mark marks\" role=\"graphics-object\" aria-roledescription=\"area mark container\"><path aria-label=\"year: 2020; recycled/renewable content: 0; variable: inn1\" role=\"graphics-symbol\" aria-roledescription=\"area mark\" d=\"M10,200L30,200L50,200L70,200L90,200L110,200L130,200L150,200L170,200L190,200L210,103.72329643209098L230,103.72329643209098L250,103.72329643209098L270,103.72329643209098L290,103.72329643209098L310,103.02146168853245L330,103.02146168853245L350,103.02146168853245L370,103.02146168853245L390,103.02146168853245L410,103.72329643210153L430,103.72329643210153L450,103.72329643210153L470,103.72329643210153L490,103.72329643210153L510,121.82484154976305L530,121.82484154976305L550,121.82484154976305L570,121.82484154976305L590,121.82484154976305L610,121.82484154976305L630,121.82484154976305L650,121.82484154976305L670,121.82484154976305L690,121.82484154976305L710,121.82484154976305L710,121.82484154976305L690,121.82484154976305L670,121.82484154976305L650,121.82484154976305L630,121.82484154976305L610,121.82484154976305L590,121.82484154976305L570,121.82484154976305L550,121.82484154976305L530,121.82484154976305L510,121.82484154976305L490,103.72329643210153L470,103.72329643210153L450,103.72329643210153L430,103.72329643210153L410,103.72329643210153L390,103.02146168853245L370,103.02146168853245L350,103.02146168853245L330,103.02146168853245L310,103.02146168853245L290,103.72329643209098L270,103.72329643209098L250,103.72329643209098L230,103.72329643209098L210,103.72329643209098L190,200L170,200L150,200L130,200L110,200L90,200L70,200L50,200L30,200L10,200Z\" fill=\"#72b7b2\"/></g></g><path class=\"foreground\" aria-hidden=\"true\" d=\"\" display=\"none\"/></g><g transform=\"translate(0,0)\"><path class=\"background\" aria-hidden=\"true\" d=\"M0,0h720v200h-720Z\"/><g><g class=\"mark-area role-mark marks\" role=\"graphics-object\" aria-roledescription=\"area mark container\"><path aria-label=\"year: 2020; recycled/renewable content: 0; variable: inn2\" role=\"graphics-symbol\" aria-roledescription=\"area mark\" d=\"M10,200L30,200L50,200L70,200L90,200L110,200L130,200L150,200L170,200L190,200L210,103.72329643209098L230,103.72329643209098L250,103.72329643209098L270,103.72329643209098L290,103.72329643209098L310,103.02146168853245L330,103.02146168853245L350,103.02146168853245L370,103.02146168853245L390,103.02146168853245L410,103.72329643210153L430,103.72329643210153L450,103.72329643210153L470,103.72329643210153L490,103.72329643210153L510,121.82484154976305L530,121.82484154976305L550,121.82484154976305L570,121.82484154976305L590,121.82484154976305L610,121.82484154976305L630,121.82484154976305L650,121.82484154976305L670,121.82484154976305L690,121.82484154976305L710,121.82484154976305L710,121.82484154976305L690,121.82484154976305L670,121.82484154976305L650,121.82484154976305L630,121.82484154976305L610,121.82484154976305L590,121.82484154976305L570,121.82484154976305L550,121.82484154976305L530,121.82484154976305L510,121.82484154976305L490,103.72329643210153L470,103.72329643210153L450,103.72329643210153L430,103.72329643210153L410,103.72329643210153L390,103.02146168853245L370,103.02146168853245L350,103.02146168853245L330,103.02146168853245L310,103.02146168853245L290,103.72329643209098L270,103.72329643209098L250,103.72329643209098L230,103.72329643209098L210,103.72329643209098L190,200L170,200L150,200L130,200L110,200L90,200L70,200L50,200L30,200L10,200Z\" fill=\"#54a24b\"/></g></g><path class=\"foreground\" aria-hidden=\"true\" d=\"\" display=\"none\"/></g><g transform=\"translate(0,0)\"><path class=\"background\" aria-hidden=\"true\" d=\"M0,0h720v200h-720Z\"/><g><g class=\"mark-area role-mark marks\" role=\"graphics-object\" aria-roledescription=\"area mark container\"><path aria-label=\"year: 2020; recycled/renewable content: 0; variable: inn3\" role=\"graphics-symbol\" aria-roledescription=\"area mark\" d=\"M10,200L30,200L50,200L70,200L90,200L110,200L130,200L150,200L170,200L190,200L210,103.72329643209098L230,103.72329643209098L250,103.72329643209098L270,103.72329643209098L290,103.72329643209098L310,103.02146168853245L330,103.02146168853245L350,103.02146168853245L370,103.02146168853245L390,103.02146168853245L410,103.72329643210153L430,103.72329643210153L450,103.72329643210153L470,103.72329643210153L490,103.72329643210153L510,121.82484154976305L530,121.82484154976305L550,121.82484154976305L570,121.82484154976305L590,121.82484154976305L610,121.82484154976305L630,121.82484154976305L650,121.82484154976305L670,121.82484154976305L690,121.82484154976305L710,121.82484154976305L710,121.82484154976305L690,121.82484154976305L670,121.82484154976305L650,121.82484154976305L630,121.82484154976305L610,121.82484154976305L590,121.82484154976305L570,121.82484154976305L550,121.82484154976305L530,121.82484154976305L510,121.82484154976305L490,103.72329643210153L470,103.72329643210153L450,103.72329643210153L430,103.72329643210153L410,103.72329643210153L390,103.02146168853245L370,103.02146168853245L350,103.02146168853245L330,103.02146168853245L310,103.02146168853245L290,103.72329643209098L270,103.72329643209098L250,103.72329643209098L230,103.72329643209098L210,103.72329643209098L190,200L170,200L150,200L130,200L110,200L90,200L70,200L50,200L30,200L10,200Z\" fill=\"#eeca3b\"/></g></g><path class=\"foreground\" aria-hidden=\"true\" d=\"\" display=\"none\"/></g><g transform=\"translate(0,0)\"><path class=\"background\" aria-hidden=\"true\" d=\"M0,0h720v200h-720Z\"/><g><g class=\"mark-area role-mark marks\" role=\"graphics-object\" aria-roledescription=\"area mark container\"><path aria-label=\"year: 2020; recycled/renewable content: 0; variable: inn4\" role=\"graphics-symbol\" aria-roledescription=\"area mark\" d=\"M10,200L30,200L50,200L70,200L90,200L110,200L130,200L150,200L170,200L190,200L210,103.72329643209098L230,103.72329643209098L250,103.72329643209098L270,103.72329643209098L290,103.72329643209098L310,103.02146168853245L330,103.02146168853245L350,103.02146168853245L370,103.02146168853245L390,103.02146168853245L410,103.72329643210153L430,103.72329643210153L450,103.72329643210153L470,103.72329643210153L490,103.72329643210153L510,121.82484154976305L530,121.82484154976305L550,121.82484154976305L570,121.82484154976305L590,121.82484154976305L610,121.82484154976305L630,121.82484154976305L650,121.82484154976305L670,121.82484154976305L690,121.82484154976305L710,121.82484154976305L710,121.82484154976305L690,121.82484154976305L670,121.82484154976305L650,121.82484154976305L630,121.82484154976305L610,121.82484154976305L590,121.82484154976305L570,121.82484154976305L550,121.82484154976305L530,121.82484154976305L510,121.82484154976305L490,103.72329643210153L470,103.72329643210153L450,103.72329643210153L430,103.72329643210153L410,103.72329643210153L390,103.02146168853245L370,103.02146168853245L350,103.02146168853245L330,103.02146168853245L310,103.02146168853245L290,103.72329643209098L270,103.72329643209098L250,103.72329643209098L230,103.72329643209098L210,103.72329643209098L190,200L170,200L150,200L130,200L110,200L90,200L70,200L50,200L30,200L10,200Z\" fill=\"#b279a2\"/></g></g><path class=\"foreground\" aria-hidden=\"true\" d=\"\" display=\"none\"/></g><g transform=\"translate(0,0)\"><path class=\"background\" aria-hidden=\"true\" d=\"M0,0h720v200h-720Z\"/><g><g class=\"mark-area role-mark marks\" role=\"graphics-object\" aria-roledescription=\"area mark container\"><path aria-label=\"year: 2020; recycled/renewable content: 0; variable: LDPE_Pyrolysis\" role=\"graphics-symbol\" aria-roledescription=\"area mark\" d=\"M10,200L30,200L50,200L70,200L90,200L110,200L130,200L150,200L170,200L190,200L210,12.5L230,12.5L250,12.5L270,12.5L290,12.5L310,12.5L330,12.5L350,12.5L370,12.5L390,12.5L410,12.500000000002442L430,12.500000000002442L450,12.500000000002442L470,12.500000000002442L490,12.500000000002442L510,12.500000000000156L530,12.500000000000156L550,12.500000000000156L570,12.500000000000156L590,12.500000000000156L610,12.500000000000156L630,12.500000000000156L650,12.500000000000156L670,12.500000000000156L690,12.500000000000156L710,12.500000000000156L710,121.82484154976305L690,121.82484154976305L670,121.82484154976305L650,121.82484154976305L630,121.82484154976305L610,121.82484154976305L590,121.82484154976305L570,121.82484154976305L550,121.82484154976305L530,121.82484154976305L510,121.82484154976305L490,103.72329643210153L470,103.72329643210153L450,103.72329643210153L430,103.72329643210153L410,103.72329643210153L390,103.02146168853245L370,103.02146168853245L350,103.02146168853245L330,103.02146168853245L310,103.02146168853245L290,103.72329643209098L270,103.72329643209098L250,103.72329643209098L230,103.72329643209098L210,103.72329643209098L190,200L170,200L150,200L130,200L110,200L90,200L70,200L50,200L30,200L10,200Z\" fill=\"#f58518\"/></g></g><path class=\"foreground\" aria-hidden=\"true\" d=\"\" display=\"none\"/></g><g transform=\"translate(0,0)\"><path class=\"background\" aria-hidden=\"true\" d=\"M0,0h720v200h-720Z\"/><g><g class=\"mark-area role-mark marks\" role=\"graphics-object\" aria-roledescription=\"area mark container\"><path aria-label=\"year: 2020; recycled/renewable content: 0; variable: inn6\" role=\"graphics-symbol\" aria-roledescription=\"area mark\" d=\"M10,200L30,200L50,200L70,200L90,200L110,200L130,200L150,200L170,200L190,200L210,103.72329643209098L230,103.72329643209098L250,103.72329643209098L270,103.72329643209098L290,103.72329643209098L310,103.02146168853245L330,103.02146168853245L350,103.02146168853245L370,103.02146168853245L390,103.02146168853245L410,103.72329643210153L430,103.72329643210153L450,103.72329643210153L470,103.72329643210153L490,103.72329643210153L510,121.82484154976305L530,121.82484154976305L550,121.82484154976305L570,121.82484154976305L590,121.82484154976305L610,121.82484154976305L630,121.82484154976305L650,121.82484154976305L670,121.82484154976305L690,121.82484154976305L710,121.82484154976305L710,121.82484154976305L690,121.82484154976305L670,121.82484154976305L650,121.82484154976305L630,121.82484154976305L610,121.82484154976305L590,121.82484154976305L570,121.82484154976305L550,121.82484154976305L530,121.82484154976305L510,121.82484154976305L490,103.72329643210153L470,103.72329643210153L450,103.72329643210153L430,103.72329643210153L410,103.72329643210153L390,103.02146168853245L370,103.02146168853245L350,103.02146168853245L330,103.02146168853245L310,103.02146168853245L290,103.72329643209098L270,103.72329643209098L250,103.72329643209098L230,103.72329643209098L210,103.72329643209098L190,200L170,200L150,200L130,200L110,200L90,200L70,200L50,200L30,200L10,200Z\" fill=\"#ff9da6\"/></g></g><path class=\"foreground\" aria-hidden=\"true\" d=\"\" display=\"none\"/></g><g transform=\"translate(0,0)\"><path class=\"background\" aria-hidden=\"true\" d=\"M0,0h720v200h-720Z\"/><g><g class=\"mark-area role-mark marks\" role=\"graphics-object\" aria-roledescription=\"area mark container\"><path aria-label=\"year: 2020; recycled/renewable content: 0; variable: inn7\" role=\"graphics-symbol\" aria-roledescription=\"area mark\" d=\"M10,200L30,200L50,200L70,200L90,200L110,200L130,200L150,200L170,200L190,200L210,103.72329643209098L230,103.72329643209098L250,103.72329643209098L270,103.72329643209098L290,103.72329643209098L310,103.02146168853245L330,103.02146168853245L350,103.02146168853245L370,103.02146168853245L390,103.02146168853245L410,103.72329643210153L430,103.72329643210153L450,103.72329643210153L470,103.72329643210153L490,103.72329643210153L510,121.82484154976305L530,121.82484154976305L550,121.82484154976305L570,121.82484154976305L590,121.82484154976305L610,121.82484154976305L630,121.82484154976305L650,121.82484154976305L670,121.82484154976305L690,121.82484154976305L710,121.82484154976305L710,121.82484154976305L690,121.82484154976305L670,121.82484154976305L650,121.82484154976305L630,121.82484154976305L610,121.82484154976305L590,121.82484154976305L570,121.82484154976305L550,121.82484154976305L530,121.82484154976305L510,121.82484154976305L490,103.72329643210153L470,103.72329643210153L450,103.72329643210153L430,103.72329643210153L410,103.72329643210153L390,103.02146168853245L370,103.02146168853245L350,103.02146168853245L330,103.02146168853245L310,103.02146168853245L290,103.72329643209098L270,103.72329643209098L250,103.72329643209098L230,103.72329643209098L210,103.72329643209098L190,200L170,200L150,200L130,200L110,200L90,200L70,200L50,200L30,200L10,200Z\" fill=\"#9d755d\"/></g></g><path class=\"foreground\" aria-hidden=\"true\" d=\"\" display=\"none\"/></g><g transform=\"translate(0,0)\"><path class=\"background\" aria-hidden=\"true\" d=\"M0,0h720v200h-720Z\"/><g><g class=\"mark-area role-mark marks\" role=\"graphics-object\" aria-roledescription=\"area mark container\"><path aria-label=\"year: 2020; recycled/renewable content: 0; variable: inn8\" role=\"graphics-symbol\" aria-roledescription=\"area mark\" d=\"M10,200L30,200L50,200L70,200L90,200L110,200L130,200L150,200L170,200L190,200L210,103.72329643209098L230,103.72329643209098L250,103.72329643209098L270,103.72329643209098L290,103.72329643209098L310,103.02146168853245L330,103.02146168853245L350,103.02146168853245L370,103.02146168853245L390,103.02146168853245L410,103.72329643210153L430,103.72329643210153L450,103.72329643210153L470,103.72329643210153L490,103.72329643210153L510,121.82484154976305L530,121.82484154976305L550,121.82484154976305L570,121.82484154976305L590,121.82484154976305L610,121.82484154976305L630,121.82484154976305L650,121.82484154976305L670,121.82484154976305L690,121.82484154976305L710,121.82484154976305L710,121.82484154976305L690,121.82484154976305L670,121.82484154976305L650,121.82484154976305L630,121.82484154976305L610,121.82484154976305L590,121.82484154976305L570,121.82484154976305L550,121.82484154976305L530,121.82484154976305L510,121.82484154976305L490,103.72329643210153L470,103.72329643210153L450,103.72329643210153L430,103.72329643210153L410,103.72329643210153L390,103.02146168853245L370,103.02146168853245L350,103.02146168853245L330,103.02146168853245L310,103.02146168853245L290,103.72329643209098L270,103.72329643209098L250,103.72329643209098L230,103.72329643209098L210,103.72329643209098L190,200L170,200L150,200L130,200L110,200L90,200L70,200L50,200L30,200L10,200Z\" fill=\"#bab0ac\"/></g></g><path class=\"foreground\" aria-hidden=\"true\" d=\"\" display=\"none\"/></g><g transform=\"translate(0,0)\"><path class=\"background\" aria-hidden=\"true\" d=\"M0,0h720v200h-720Z\"/><g><g class=\"mark-area role-mark marks\" role=\"graphics-object\" aria-roledescription=\"area mark container\"><path aria-label=\"year: 2020; recycled/renewable content: 0; variable: inn9\" role=\"graphics-symbol\" aria-roledescription=\"area mark\" d=\"M10,200L30,200L50,200L70,200L90,200L110,200L130,200L150,200L170,200L190,200L210,103.72329643209098L230,103.72329643209098L250,103.72329643209098L270,103.72329643209098L290,103.72329643209098L310,103.02146168853245L330,103.02146168853245L350,103.02146168853245L370,103.02146168853245L390,103.02146168853245L410,103.72329643210153L430,103.72329643210153L450,103.72329643210153L470,103.72329643210153L490,103.72329643210153L510,121.82484154976305L530,121.82484154976305L550,121.82484154976305L570,121.82484154976305L590,121.82484154976305L610,121.82484154976305L630,121.82484154976305L650,121.82484154976305L670,121.82484154976305L690,121.82484154976305L710,121.82484154976305L710,200L690,200L670,200L650,200L630,200L610,200L590,200L570,200L550,200L530,200L510,200L490,200L470,200L450,200L430,200L410,200L390,200L370,200L350,200L330,200L310,200L290,200L270,200L250,200L230,200L210,200L190,200L170,200L150,200L130,200L110,200L90,200L70,200L50,200L30,200L10,200Z\" fill=\"#4c78a8\"/></g></g><path class=\"foreground\" aria-hidden=\"true\" d=\"\" display=\"none\"/></g><g transform=\"translate(0,0)\"><path class=\"background\" aria-hidden=\"true\" d=\"M0,0h720v200h-720Z\"/><g><g class=\"mark-area role-mark marks\" role=\"graphics-object\" aria-roledescription=\"area mark container\"><path aria-label=\"year: 2020; recycled/renewable content: 0; variable: PLA_Alcoholysis\" role=\"graphics-symbol\" aria-roledescription=\"area mark\" d=\"M10,200L30,200L50,200L70,200L90,200L110,200L130,200L150,200L170,200L190,200L210,103.72329643209098L230,103.72329643209098L250,103.72329643209098L270,103.72329643209098L290,103.72329643209098L310,103.02146168853245L330,103.02146168853245L350,103.02146168853245L370,103.02146168853245L390,103.02146168853245L410,103.72329643210153L430,103.72329643210153L450,103.72329643210153L470,103.72329643210153L490,103.72329643210153L510,121.82484154976305L530,121.82484154976305L550,121.82484154976305L570,121.82484154976305L590,121.82484154976305L610,121.82484154976305L630,121.82484154976305L650,121.82484154976305L670,121.82484154976305L690,121.82484154976305L710,121.82484154976305L710,121.82484154976305L690,121.82484154976305L670,121.82484154976305L650,121.82484154976305L630,121.82484154976305L610,121.82484154976305L590,121.82484154976305L570,121.82484154976305L550,121.82484154976305L530,121.82484154976305L510,121.82484154976305L490,103.72329643210153L470,103.72329643210153L450,103.72329643210153L430,103.72329643210153L410,103.72329643210153L390,103.02146168853245L370,103.02146168853245L350,103.02146168853245L330,103.02146168853245L310,103.02146168853245L290,103.72329643209098L270,103.72329643209098L250,103.72329643209098L230,103.72329643209098L210,103.72329643209098L190,200L170,200L150,200L130,200L110,200L90,200L70,200L50,200L30,200L10,200Z\" fill=\"#e45756\"/></g></g><path class=\"foreground\" aria-hidden=\"true\" d=\"\" display=\"none\"/></g></g><g class=\"mark-group role-legend\" role=\"graphics-symbol\" aria-roledescription=\"legend\" aria-label=\"Symbol legend titled 'variable' for fill color with 11 values: Conventional, LDPE_Pyrolysis, PLA_Alcoholysis, inn1, inn2, ending with inn9\"><g transform=\"translate(738,0)\"><path class=\"background\" aria-hidden=\"true\" d=\"M0,0h96v157h-96Z\" pointer-events=\"none\"/><g><g class=\"mark-group role-legend-entry\"><g transform=\"translate(0,16)\"><path class=\"background\" aria-hidden=\"true\" d=\"M0,0h0v0h0Z\" pointer-events=\"none\"/><g><g class=\"mark-group role-scope\" role=\"graphics-object\" aria-roledescription=\"group mark container\"><g transform=\"translate(0,0)\"><path class=\"background\" aria-hidden=\"true\" d=\"M0,0h96v11h-96Z\" pointer-events=\"none\" opacity=\"1\"/><g><g class=\"mark-symbol role-legend-symbol\" pointer-events=\"none\"><path transform=\"translate(6,6)\" d=\"M5,0A5,5,0,1,1,-5,0A5,5,0,1,1,5,0\" fill=\"#4c78a8\" stroke-width=\"1.5\" opacity=\"1\"/></g><g class=\"mark-text role-legend-label\" pointer-events=\"none\"><text text-anchor=\"start\" transform=\"translate(16,9)\" font-family=\"sans-serif\" font-size=\"10px\" fill=\"#000\" opacity=\"1\">Conventional</text></g></g><path class=\"foreground\" aria-hidden=\"true\" d=\"\" pointer-events=\"none\" display=\"none\"/></g><g transform=\"translate(0,13)\"><path class=\"background\" aria-hidden=\"true\" d=\"M0,0h96v11h-96Z\" pointer-events=\"none\" opacity=\"1\"/><g><g class=\"mark-symbol role-legend-symbol\" pointer-events=\"none\"><path transform=\"translate(6,6)\" d=\"M5,0A5,5,0,1,1,-5,0A5,5,0,1,1,5,0\" fill=\"#f58518\" stroke-width=\"1.5\" opacity=\"1\"/></g><g class=\"mark-text role-legend-label\" pointer-events=\"none\"><text text-anchor=\"start\" transform=\"translate(16,9)\" font-family=\"sans-serif\" font-size=\"10px\" fill=\"#000\" opacity=\"1\">LDPE_Pyrolysis</text></g></g><path class=\"foreground\" aria-hidden=\"true\" d=\"\" pointer-events=\"none\" display=\"none\"/></g><g transform=\"translate(0,26)\"><path class=\"background\" aria-hidden=\"true\" d=\"M0,0h96v11h-96Z\" pointer-events=\"none\" opacity=\"1\"/><g><g class=\"mark-symbol role-legend-symbol\" pointer-events=\"none\"><path transform=\"translate(6,6)\" d=\"M5,0A5,5,0,1,1,-5,0A5,5,0,1,1,5,0\" fill=\"#e45756\" stroke-width=\"1.5\" opacity=\"1\"/></g><g class=\"mark-text role-legend-label\" pointer-events=\"none\"><text text-anchor=\"start\" transform=\"translate(16,9)\" font-family=\"sans-serif\" font-size=\"10px\" fill=\"#000\" opacity=\"1\">PLA_Alcoholysis</text></g></g><path class=\"foreground\" aria-hidden=\"true\" d=\"\" pointer-events=\"none\" display=\"none\"/></g><g transform=\"translate(0,39)\"><path class=\"background\" aria-hidden=\"true\" d=\"M0,0h96v11h-96Z\" pointer-events=\"none\" opacity=\"1\"/><g><g class=\"mark-symbol role-legend-symbol\" pointer-events=\"none\"><path transform=\"translate(6,6)\" d=\"M5,0A5,5,0,1,1,-5,0A5,5,0,1,1,5,0\" fill=\"#72b7b2\" stroke-width=\"1.5\" opacity=\"1\"/></g><g class=\"mark-text role-legend-label\" pointer-events=\"none\"><text text-anchor=\"start\" transform=\"translate(16,9)\" font-family=\"sans-serif\" font-size=\"10px\" fill=\"#000\" opacity=\"1\">inn1</text></g></g><path class=\"foreground\" aria-hidden=\"true\" d=\"\" pointer-events=\"none\" display=\"none\"/></g><g transform=\"translate(0,52)\"><path class=\"background\" aria-hidden=\"true\" d=\"M0,0h96v11h-96Z\" pointer-events=\"none\" opacity=\"1\"/><g><g class=\"mark-symbol role-legend-symbol\" pointer-events=\"none\"><path transform=\"translate(6,6)\" d=\"M5,0A5,5,0,1,1,-5,0A5,5,0,1,1,5,0\" fill=\"#54a24b\" stroke-width=\"1.5\" opacity=\"1\"/></g><g class=\"mark-text role-legend-label\" pointer-events=\"none\"><text text-anchor=\"start\" transform=\"translate(16,9)\" font-family=\"sans-serif\" font-size=\"10px\" fill=\"#000\" opacity=\"1\">inn2</text></g></g><path class=\"foreground\" aria-hidden=\"true\" d=\"\" pointer-events=\"none\" display=\"none\"/></g><g transform=\"translate(0,65)\"><path class=\"background\" aria-hidden=\"true\" d=\"M0,0h96v11h-96Z\" pointer-events=\"none\" opacity=\"1\"/><g><g class=\"mark-symbol role-legend-symbol\" pointer-events=\"none\"><path transform=\"translate(6,6)\" d=\"M5,0A5,5,0,1,1,-5,0A5,5,0,1,1,5,0\" fill=\"#eeca3b\" stroke-width=\"1.5\" opacity=\"1\"/></g><g class=\"mark-text role-legend-label\" pointer-events=\"none\"><text text-anchor=\"start\" transform=\"translate(16,9)\" font-family=\"sans-serif\" font-size=\"10px\" fill=\"#000\" opacity=\"1\">inn3</text></g></g><path class=\"foreground\" aria-hidden=\"true\" d=\"\" pointer-events=\"none\" display=\"none\"/></g><g transform=\"translate(0,78)\"><path class=\"background\" aria-hidden=\"true\" d=\"M0,0h96v11h-96Z\" pointer-events=\"none\" opacity=\"1\"/><g><g class=\"mark-symbol role-legend-symbol\" pointer-events=\"none\"><path transform=\"translate(6,6)\" d=\"M5,0A5,5,0,1,1,-5,0A5,5,0,1,1,5,0\" fill=\"#b279a2\" stroke-width=\"1.5\" opacity=\"1\"/></g><g class=\"mark-text role-legend-label\" pointer-events=\"none\"><text text-anchor=\"start\" transform=\"translate(16,9)\" font-family=\"sans-serif\" font-size=\"10px\" fill=\"#000\" opacity=\"1\">inn4</text></g></g><path class=\"foreground\" aria-hidden=\"true\" d=\"\" pointer-events=\"none\" display=\"none\"/></g><g transform=\"translate(0,91)\"><path class=\"background\" aria-hidden=\"true\" d=\"M0,0h96v11h-96Z\" pointer-events=\"none\" opacity=\"1\"/><g><g class=\"mark-symbol role-legend-symbol\" pointer-events=\"none\"><path transform=\"translate(6,6)\" d=\"M5,0A5,5,0,1,1,-5,0A5,5,0,1,1,5,0\" fill=\"#ff9da6\" stroke-width=\"1.5\" opacity=\"1\"/></g><g class=\"mark-text role-legend-label\" pointer-events=\"none\"><text text-anchor=\"start\" transform=\"translate(16,9)\" font-family=\"sans-serif\" font-size=\"10px\" fill=\"#000\" opacity=\"1\">inn6</text></g></g><path class=\"foreground\" aria-hidden=\"true\" d=\"\" pointer-events=\"none\" display=\"none\"/></g><g transform=\"translate(0,104)\"><path class=\"background\" aria-hidden=\"true\" d=\"M0,0h96v11h-96Z\" pointer-events=\"none\" opacity=\"1\"/><g><g class=\"mark-symbol role-legend-symbol\" pointer-events=\"none\"><path transform=\"translate(6,6)\" d=\"M5,0A5,5,0,1,1,-5,0A5,5,0,1,1,5,0\" fill=\"#9d755d\" stroke-width=\"1.5\" opacity=\"1\"/></g><g class=\"mark-text role-legend-label\" pointer-events=\"none\"><text text-anchor=\"start\" transform=\"translate(16,9)\" font-family=\"sans-serif\" font-size=\"10px\" fill=\"#000\" opacity=\"1\">inn7</text></g></g><path class=\"foreground\" aria-hidden=\"true\" d=\"\" pointer-events=\"none\" display=\"none\"/></g><g transform=\"translate(0,117)\"><path class=\"background\" aria-hidden=\"true\" d=\"M0,0h96v11h-96Z\" pointer-events=\"none\" opacity=\"1\"/><g><g class=\"mark-symbol role-legend-symbol\" pointer-events=\"none\"><path transform=\"translate(6,6)\" d=\"M5,0A5,5,0,1,1,-5,0A5,5,0,1,1,5,0\" fill=\"#bab0ac\" stroke-width=\"1.5\" opacity=\"1\"/></g><g class=\"mark-text role-legend-label\" pointer-events=\"none\"><text text-anchor=\"start\" transform=\"translate(16,9)\" font-family=\"sans-serif\" font-size=\"10px\" fill=\"#000\" opacity=\"1\">inn8</text></g></g><path class=\"foreground\" aria-hidden=\"true\" d=\"\" pointer-events=\"none\" display=\"none\"/></g><g transform=\"translate(0,130)\"><path class=\"background\" aria-hidden=\"true\" d=\"M0,0h96v11h-96Z\" pointer-events=\"none\" opacity=\"1\"/><g><g class=\"mark-symbol role-legend-symbol\" pointer-events=\"none\"><path transform=\"translate(6,6)\" d=\"M5,0A5,5,0,1,1,-5,0A5,5,0,1,1,5,0\" fill=\"#4c78a8\" stroke-width=\"1.5\" opacity=\"1\"/></g><g class=\"mark-text role-legend-label\" pointer-events=\"none\"><text text-anchor=\"start\" transform=\"translate(16,9)\" font-family=\"sans-serif\" font-size=\"10px\" fill=\"#000\" opacity=\"1\">inn9</text></g></g><path class=\"foreground\" aria-hidden=\"true\" d=\"\" pointer-events=\"none\" display=\"none\"/></g></g></g><path class=\"foreground\" aria-hidden=\"true\" d=\"\" pointer-events=\"none\" display=\"none\"/></g></g><g class=\"mark-text role-legend-title\" pointer-events=\"none\"><text text-anchor=\"start\" transform=\"translate(0,9)\" font-family=\"sans-serif\" font-size=\"11px\" font-weight=\"bold\" fill=\"#000\" opacity=\"1\">variable</text></g></g><path class=\"foreground\" aria-hidden=\"true\" d=\"\" pointer-events=\"none\" display=\"none\"/></g></g></g><path class=\"foreground\" aria-hidden=\"true\" d=\"\" display=\"none\"/></g></g></g></svg>\n"
      ],
      "text/plain": [
       "@vlplot(\n",
       "    legend=\"sNames\",\n",
       "    mark=\"area\",\n",
       "    encoding={\n",
       "        x={\n",
       "            field=\"year\"\n",
       "        },\n",
       "        y={\n",
       "            stack=\"zero\",\n",
       "            title=\"recycled/renewable content\",\n",
       "            field=\"value\"\n",
       "        },\n",
       "        color={\n",
       "            field=\"variable\",\n",
       "            type=\"nominal\"\n",
       "        }\n",
       "    },\n",
       "    data={\n",
       "        values=...\n",
       "    }\n",
       ")"
      ]
     },
     "execution_count": 42,
     "metadata": {},
     "output_type": "execute_result"
    }
   ],
   "source": [
    "function conventional(t)\n",
    "    return initial[1,5]*(1-sum(JuMP.values.(xk)[k,t] for k in 1:nrow(compromise)))\n",
    "end\n",
    "\n",
    "function innovation(i,t)\n",
    "    if i==1\n",
    "        return sum(JuMP.values.(xk)[k,t]*(compromise[k,5])+JuMP.values.(xk)[k,t]*(compromise[k,6]) for k=1:mapki[i,2])\n",
    "    else\n",
    "        return sum(JuMP.values.(xk)[k,t]*(compromise[k,5])+JuMP.values.(xk)[k,t]*(compromise[k,6]) for k=mapki[i-1,2]:mapki[i,2] )\n",
    "    end\n",
    "end\n",
    "\n",
    "conv=zeros(51)\n",
    "\n",
    "conv[1]=initial[1,5]\n",
    "inn_co2=zeros(nrow(innovations),51)\n",
    "\n",
    "for inn in 1:nrow(innovations)\n",
    "    inn_co2[inn,1]=0\n",
    "end\n",
    "\n",
    "j=0\n",
    "for i in 2:51\n",
    "    if 0 ≤ i ≤ 5\n",
    "        j=1\n",
    "    elseif 6 ≤ i ≤ 10\n",
    "        j=2\n",
    "    elseif 6 ≤ i ≤ 10\n",
    "        j=3\n",
    "    elseif 11 ≤ i ≤ 15\n",
    "        j=4\n",
    "    elseif 16 ≤ i ≤ 20\n",
    "        j=5\n",
    "    elseif 21 ≤ i ≤ 25\n",
    "        j=6\n",
    "    else\n",
    "        j=7\n",
    "    end\n",
    "        \n",
    "    conv[i]=conventional(j)\n",
    "    for inn in 1:nrow(innovations)\n",
    "        inn_co2[inn,i]=innovation(inn,j)\n",
    "    end\n",
    "end\n",
    "sNames = [\"conv\",\"inn1\",\"inn2\",\"inn3\",\"inn4\",\"inn5\",\"inn6\",\"inn7\",\"inn8\",\"inn9\",\"inn10\"]\n",
    "xLabels = []\n",
    "for i in 2020:2070\n",
    "    push!(xLabels,string(i))\n",
    "end\n",
    "\n",
    "df = DataFrame(year=xLabels, conv=conv, inn1=inn_co2[1,:],inn2=inn_co2[2,:],inn3=inn_co2[3,:],inn4=inn_co2[4,:],\n",
    "        inn5=inn_co2[5,:],inn6=inn_co2[6,:],inn7=inn_co2[7,:],inn8=inn_co2[8,:],inn9=inn_co2[9,:],inn10=inn_co2[10,:])\n",
    "df=df[1:36,:]\n",
    "\n",
    "\n",
    "#df |> stack |> @vlplot(:area, x=:year, y={:value, stack=:zero, title=\"recycled/renewable content\"}, color=\"variable:n\",legend=:sNames) \n",
    "\n",
    "\n",
    "rename!(df,[:conv,:inn5,:inn10] .=> [:Conventional,:LDPE_Pyrolysis,:PLA_Alcoholysis])\n",
    "\n",
    "circular_inn=df |> stack |> @vlplot(:area, x=:year, y={:value, stack=:zero, title=\"recycled/renewable content\"}, color=\"variable:n\",legend=:sNames) \n",
    "\n",
    "#save(\"./result-case-roadmap/circularity-roadmap.svg\", circular_inn)\n",
    "circular_inn\n"
   ]
  },
  {
   "cell_type": "code",
   "execution_count": null,
   "id": "b1042025",
   "metadata": {},
   "outputs": [],
   "source": []
  },
  {
   "cell_type": "code",
   "execution_count": null,
   "id": "221ef107",
   "metadata": {},
   "outputs": [],
   "source": []
  },
  {
   "cell_type": "code",
   "execution_count": null,
   "id": "5333e549",
   "metadata": {},
   "outputs": [],
   "source": []
  },
  {
   "cell_type": "code",
   "execution_count": null,
   "id": "3702d314",
   "metadata": {},
   "outputs": [],
   "source": []
  }
 ],
 "metadata": {
  "kernelspec": {
   "display_name": "Julia 1.6.3",
   "language": "julia",
   "name": "julia-1.6"
  },
  "language_info": {
   "file_extension": ".jl",
   "mimetype": "application/julia",
   "name": "julia",
   "version": "1.6.3"
  }
 },
 "nbformat": 4,
 "nbformat_minor": 5
}
