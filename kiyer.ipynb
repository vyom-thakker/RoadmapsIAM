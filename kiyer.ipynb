{
 "cells": [
  {
   "cell_type": "code",
   "execution_count": 1,
   "id": "eed3e05e-52a4-4a09-a73a-a482ef427782",
   "metadata": {},
   "outputs": [
    {
     "name": "stderr",
     "output_type": "stream",
     "text": [
      "\u001b[32m\u001b[1m  Activating\u001b[22m\u001b[39m environment at `~/Documents/project-codes/Plan_RoadmapsIAM/toy-problem/baron_env/Project.toml`\n"
     ]
    }
   ],
   "source": [
    "using Pkg\n",
    "Pkg.activate(\"./baron_env\")\n",
    "#Pkg.pin(\"JuMP\")\n",
    "\n",
    "using JuMP\n",
    "using CSV\n",
    "using GraphRecipes, Plots\n",
    "using LightGraphs\n",
    "using LinearAlgebra\n",
    "using SparseArrays\n",
    "using DataFrames\n",
    "using BARON"
   ]
  },
  {
   "cell_type": "code",
   "execution_count": 31,
   "id": "bd9e2fea-2f2e-4730-8e87-c3d00e78d224",
   "metadata": {},
   "outputs": [
    {
     "data": {
      "text/html": [
       "<div class=\"data-frame\"><p>89 rows × 1 columns</p><table class=\"data-frame\"><thead><tr><th></th><th>Column1</th></tr><tr><th></th><th title=\"Float64\">Float64</th></tr></thead><tbody><tr><th>1</th><td>3.29695</td></tr><tr><th>2</th><td>2.69059</td></tr><tr><th>3</th><td>1.85199</td></tr><tr><th>4</th><td>1.97267</td></tr><tr><th>5</th><td>3.83331</td></tr><tr><th>6</th><td>4.21508</td></tr><tr><th>7</th><td>3.20623</td></tr><tr><th>8</th><td>1.51394</td></tr><tr><th>9</th><td>2.44561</td></tr><tr><th>10</th><td>3.82964</td></tr><tr><th>11</th><td>2.83525</td></tr><tr><th>12</th><td>3.13371</td></tr><tr><th>13</th><td>2.49857</td></tr><tr><th>14</th><td>3.32152</td></tr><tr><th>15</th><td>3.08615</td></tr><tr><th>16</th><td>2.21765</td></tr><tr><th>17</th><td>1.69186</td></tr><tr><th>18</th><td>2.90258</td></tr><tr><th>19</th><td>2.6339</td></tr><tr><th>20</th><td>3.3363</td></tr><tr><th>21</th><td>3.06006</td></tr><tr><th>22</th><td>2.80542</td></tr><tr><th>23</th><td>2.91847</td></tr><tr><th>24</th><td>2.61814</td></tr><tr><th>25</th><td>2.14722</td></tr><tr><th>26</th><td>3.99532</td></tr><tr><th>27</th><td>3.05088</td></tr><tr><th>28</th><td>2.62852</td></tr><tr><th>29</th><td>3.31494</td></tr><tr><th>30</th><td>2.30263</td></tr><tr><th>&vellip;</th><td>&vellip;</td></tr></tbody></table></div>"
      ],
      "text/latex": [
       "\\begin{tabular}{r|c}\n",
       "\t& Column1\\\\\n",
       "\t\\hline\n",
       "\t& Float64\\\\\n",
       "\t\\hline\n",
       "\t1 & 3.29695 \\\\\n",
       "\t2 & 2.69059 \\\\\n",
       "\t3 & 1.85199 \\\\\n",
       "\t4 & 1.97267 \\\\\n",
       "\t5 & 3.83331 \\\\\n",
       "\t6 & 4.21508 \\\\\n",
       "\t7 & 3.20623 \\\\\n",
       "\t8 & 1.51394 \\\\\n",
       "\t9 & 2.44561 \\\\\n",
       "\t10 & 3.82964 \\\\\n",
       "\t11 & 2.83525 \\\\\n",
       "\t12 & 3.13371 \\\\\n",
       "\t13 & 2.49857 \\\\\n",
       "\t14 & 3.32152 \\\\\n",
       "\t15 & 3.08615 \\\\\n",
       "\t16 & 2.21765 \\\\\n",
       "\t17 & 1.69186 \\\\\n",
       "\t18 & 2.90258 \\\\\n",
       "\t19 & 2.6339 \\\\\n",
       "\t20 & 3.3363 \\\\\n",
       "\t21 & 3.06006 \\\\\n",
       "\t22 & 2.80542 \\\\\n",
       "\t23 & 2.91847 \\\\\n",
       "\t24 & 2.61814 \\\\\n",
       "\t25 & 2.14722 \\\\\n",
       "\t26 & 3.99532 \\\\\n",
       "\t27 & 3.05088 \\\\\n",
       "\t28 & 2.62852 \\\\\n",
       "\t29 & 3.31494 \\\\\n",
       "\t30 & 2.30263 \\\\\n",
       "\t$\\dots$ & $\\dots$ \\\\\n",
       "\\end{tabular}\n"
      ],
      "text/plain": [
       "\u001b[1m89×1 DataFrame\u001b[0m\n",
       "\u001b[1m Row \u001b[0m│\u001b[1m Column1  \u001b[0m\n",
       "\u001b[1m     \u001b[0m│\u001b[90m Float64  \u001b[0m\n",
       "─────┼──────────\n",
       "   1 │ 3.29695\n",
       "   2 │ 2.69059\n",
       "   3 │ 1.85199\n",
       "   4 │ 1.97267\n",
       "   5 │ 3.83331\n",
       "   6 │ 4.21508\n",
       "   7 │ 3.20623\n",
       "   8 │ 1.51394\n",
       "   9 │ 2.44561\n",
       "  10 │ 3.82964\n",
       "  11 │ 2.83525\n",
       "  ⋮  │    ⋮\n",
       "  80 │ 2.559\n",
       "  81 │ 2.73151\n",
       "  82 │ 0.918857\n",
       "  83 │ 1.33486\n",
       "  84 │ 4.36496\n",
       "  85 │ 3.23781\n",
       "  86 │ 3.73109\n",
       "  87 │ 2.92132\n",
       "  88 │ 3.43935\n",
       "  89 │ 1.21358\n",
       "\u001b[36m 68 rows omitted\u001b[0m"
      ]
     },
     "execution_count": 31,
     "metadata": {},
     "output_type": "execute_result"
    }
   ],
   "source": [
    "A = CSV.File(\"./a.csv\",header=0,delim=\",\") |> DataFrame\n",
    "b = CSV.File(\"./b.csv\",header=0,delim=\",\") |> DataFrame"
   ]
  },
  {
   "cell_type": "code",
   "execution_count": 95,
   "id": "c3a92470-2c63-4706-aa58-fcb5153a439d",
   "metadata": {},
   "outputs": [
    {
     "name": "stdout",
     "output_type": "stream",
     "text": [
      "===========================================================================\n",
      " BARON version 21.1.13. Built: LNX-64 Wed Jan 13 16:09:31 EST 2021\n",
      "\n",
      " BARON is a product of The Optimization Firm.\n",
      " For information on BARON, see https://minlp.com/about-baron\n",
      " Licensee: Bhavik R. Bakshi at The Ohio State University, bakshi.2@osu.edu.\n",
      "\n",
      " If you use this software, please cite publications from\n",
      " https://minlp.com/baron-publications, such as: \n",
      "\n",
      " Khajavirad, A. and N. V. Sahinidis,\n",
      " A hybrid LP/NLP paradigm for global optimization relaxations,\n",
      " Mathematical Programming Computation, 10, 383-421, 2018.\n",
      "===========================================================================\n",
      " This BARON run may utilize the following subsolver(s)\n",
      " For LP/MIP/QP: CLP/CBC                                         \n",
      " For NLP: IPOPT, FILTERSD, FILTERSQP\n",
      "===========================================================================\n",
      " Doing local search\n",
      " Solving bounding LP\n",
      " Starting multi-start local search\n",
      " Unable to find/load CPLEX library libcplex.so: cannot open shared object file: No such file or directory\n",
      " Unable to find/load CPLEX library libcplex2010.so: cannot open shared object file: No such file or directory\n",
      " Preprocessing found feasible solution with value  5.57363710335     \n",
      " Done with local search\n",
      "===========================================================================\n",
      "  Iteration    Open nodes         Time (s)    Lower bound      Upper bound\n",
      "          1             0             0.08     5.57363          5.57363    \n",
      "\n",
      " Calculating duals\n",
      "\n",
      "                         *** Normal completion ***            \n",
      "\n",
      " Wall clock time:                     0.08\n",
      " Total CPU time used:                 0.08\n",
      "\n",
      " Total no. of BaR iterations:       1\n",
      " Best solution found at node:       1\n",
      " Max. no. of nodes in memory:       1\n",
      " \n",
      " All done\n",
      "===========================================================================\n"
     ]
    },
    {
     "data": {
      "text/plain": [
       "18-element Vector{Float64}:\n",
       " 0.0\n",
       " 0.473218616818473\n",
       " 0.0\n",
       " 2.7894238183462967\n",
       " 2.5709608169003815\n",
       " 0.0\n",
       " 0.0\n",
       " 0.0\n",
       " 0.0\n",
       " 0.0\n",
       " 0.0\n",
       " 0.0\n",
       " 0.0\n",
       " 0.0\n",
       " 0.0\n",
       " 0.0\n",
       " 0.0\n",
       " 0.0"
      ]
     },
     "execution_count": 95,
     "metadata": {},
     "output_type": "execute_result"
    }
   ],
   "source": [
    "mod= Model(BARON.Optimizer)\n",
    "@variable(mod,x[1:18]≥ 0)\n",
    "@variable(mod,res[1:89] ≥ 0)\n",
    "@variable(mod,obj)\n",
    "@constraint(mod,res.==Matrix(A)*x-Matrix(b))\n",
    "@NLconstraint(mod, obj==(sum(res[i]^2 for i in 1:89))^0.5)\n",
    "@NLobjective(mod,Min,obj)\n",
    "optimize!(mod)\n",
    "res_val=JuMP.value.(res)\n",
    "x_val=JuMP.value.(x)"
   ]
  },
  {
   "cell_type": "code",
   "execution_count": 99,
   "id": "7a0ac91a-78a9-4736-9b15-3e532d99ddce",
   "metadata": {},
   "outputs": [
    {
     "name": "stdout",
     "output_type": "stream",
     "text": [
      "===========================================================================\n",
      " BARON version 21.1.13. Built: LNX-64 Wed Jan 13 16:09:31 EST 2021\n",
      "\n",
      " BARON is a product of The Optimization Firm.\n",
      " For information on BARON, see https://minlp.com/about-baron\n",
      " Licensee: Bhavik R. Bakshi at The Ohio State University, bakshi.2@osu.edu.\n",
      "\n",
      " If you use this software, please cite publications from\n",
      " https://minlp.com/baron-publications, such as: \n",
      "\n",
      " Khajavirad, A. and N. V. Sahinidis,\n",
      " A hybrid LP/NLP paradigm for global optimization relaxations,\n",
      " Mathematical Programming Computation, 10, 383-421, 2018.\n",
      "===========================================================================\n",
      " This BARON run may utilize the following subsolver(s)\n",
      " For LP/MIP/QP: CLP/CBC                                         \n",
      " For NLP: IPOPT, FILTERSD, FILTERSQP\n",
      "===========================================================================\n",
      " Doing local search\n",
      " Solving bounding LP\n",
      " Starting multi-start local search\n",
      " Unable to find/load CPLEX library libcplex.so: cannot open shared object file: No such file or directory\n",
      " Unable to find/load CPLEX library libcplex2010.so: cannot open shared object file: No such file or directory\n",
      " Preprocessing found feasible solution with value  29.7848964307     \n",
      " Done with local search\n",
      "===========================================================================\n",
      "  Iteration    Open nodes         Time (s)    Lower bound      Upper bound\n",
      "          1             0             0.08     29.7849          29.7849    \n",
      "\n",
      " Calculating duals\n",
      "\n",
      "                         *** Normal completion ***            \n",
      "\n",
      " Wall clock time:                     0.09\n",
      " Total CPU time used:                 0.08\n",
      "\n",
      " Total no. of BaR iterations:       1\n",
      " Best solution found at node:      -1\n",
      " Max. no. of nodes in memory:       1\n",
      " \n",
      " All done\n",
      "===========================================================================\n"
     ]
    },
    {
     "data": {
      "text/plain": [
       "18-element Vector{Float64}:\n",
       " 1.3463990133771255\n",
       " 1.3463990134721715\n",
       " 1.3463990135714323\n",
       " 1.3463990136708535\n",
       " 1.3463990137699942\n",
       " 1.3463990138682727\n",
       " 1.3463990139650446\n",
       " 1.3463990140557927\n",
       " 1.3463990139813842\n",
       " 0.0\n",
       " 0.0\n",
       " 0.0\n",
       " 0.0\n",
       " 0.0\n",
       " 0.0\n",
       " 0.0\n",
       " 0.0\n",
       " 0.0"
      ]
     },
     "execution_count": 99,
     "metadata": {},
     "output_type": "execute_result"
    }
   ],
   "source": [
    "mod= Model(BARON.Optimizer)\n",
    "@variable(mod,x[1:18]≥ 0)\n",
    "@variable(mod,res[1:89] ≥ 0)\n",
    "@variable(mod,obj)\n",
    "@constraint(mod,res.==Matrix(A)*x-Matrix(b))\n",
    "@constraint(mod,[i=1:17],x[i]≥x[i+1]) # Decreasing trend\n",
    "@NLconstraint(mod, obj==(sum(res[i]^2 for i in 1:89))^0.5)\n",
    "@NLobjective(mod,Min,obj)\n",
    "optimize!(mod)\n",
    "res_val=JuMP.value.(res)\n",
    "x_val=JuMP.value.(x)"
   ]
  },
  {
   "cell_type": "code",
   "execution_count": null,
   "id": "a11c047c-27b5-45f0-b3e4-294711eeeacc",
   "metadata": {},
   "outputs": [],
   "source": []
  }
 ],
 "metadata": {
  "kernelspec": {
   "display_name": "Julia 1.6.3",
   "language": "julia",
   "name": "julia-1.6"
  },
  "language_info": {
   "file_extension": ".jl",
   "mimetype": "application/julia",
   "name": "julia",
   "version": "1.6.3"
  }
 },
 "nbformat": 4,
 "nbformat_minor": 5
}
