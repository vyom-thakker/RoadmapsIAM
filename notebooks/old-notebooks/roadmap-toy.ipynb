{
 "cells": [
  {
   "cell_type": "code",
   "execution_count": 1,
   "id": "0cd38929",
   "metadata": {},
   "outputs": [
    {
     "name": "stderr",
     "output_type": "stream",
     "text": [
      "\u001b[32m\u001b[1m  Activating\u001b[22m\u001b[39m environment at `~/Documents/project-codes/Plan_RoadmapsIAM/toy-problem/baron_env/Project.toml`\n"
     ]
    }
   ],
   "source": [
    "\n",
    "using Pkg\n",
    "Pkg.activate(\"./baron_env\")\n",
    "#Pkg.pin(\"JuMP\")\n",
    "using JuMP\n",
    "using CSV\n",
    "using GraphRecipes, Plots\n",
    "using LightGraphs\n",
    "using LinearAlgebra\n",
    "using SparseArrays\n",
    "using DataFrames\n",
    "using BARON\n",
    "using PiecewiseLinearOpt\n"
   ]
  },
  {
   "cell_type": "code",
   "execution_count": 2,
   "id": "e8956d14-30ad-49f9-bf77-ae0d8a2937f8",
   "metadata": {},
   "outputs": [
    {
     "name": "stderr",
     "output_type": "stream",
     "text": [
      "┌ Warning: Pkg.installed() is deprecated\n",
      "└ @ Pkg /buildworker/worker/package_linux64/build/usr/share/julia/stdlib/v1.6/Pkg/src/Pkg.jl:570\n"
     ]
    },
    {
     "data": {
      "text/plain": [
       "Dict{String, VersionNumber} with 3 entries:\n",
       "  \"BARON\"              => v\"0.6.5\"\n",
       "  \"PiecewiseLinearOpt\" => v\"0.3.0\"\n",
       "  \"CPLEX\"              => v\"0.7.8\""
      ]
     },
     "execution_count": 2,
     "metadata": {},
     "output_type": "execute_result"
    }
   ],
   "source": [
    "Pkg.installed()"
   ]
  },
  {
   "cell_type": "code",
   "execution_count": 272,
   "id": "6cd49756",
   "metadata": {},
   "outputs": [
    {
     "data": {
      "text/html": [
       "<div class=\"data-frame\"><p>5 rows × 33 columns (omitted printing of 24 columns)</p><table class=\"data-frame\"><thead><tr><th></th><th>i</th><th>Cost_per_RL</th><th>RL</th><th>Sojourn1</th><th>Sojourn2</th><th>Sojourn3</th><th>Sojourn4</th><th>Sojourn5</th><th>P11</th></tr><tr><th></th><th title=\"Int64\">Int64</th><th title=\"Int64\">Int64</th><th title=\"Int64\">Int64</th><th title=\"Float64\">Float64</th><th title=\"Float64\">Float64</th><th title=\"Float64\">Float64</th><th title=\"Float64\">Float64</th><th title=\"Float64\">Float64</th><th title=\"Int64\">Int64</th></tr></thead><tbody><tr><th>1</th><td>1</td><td>92</td><td>3</td><td>4.6</td><td>1.34</td><td>2.04</td><td>0.12</td><td>8.86</td><td>0</td></tr><tr><th>2</th><td>2</td><td>175</td><td>2</td><td>8.32</td><td>8.84</td><td>0.65</td><td>9.9</td><td>9.65</td><td>0</td></tr><tr><th>3</th><td>3</td><td>78</td><td>1</td><td>4.44</td><td>1.21</td><td>5.09</td><td>6.52</td><td>8.67</td><td>0</td></tr><tr><th>4</th><td>4</td><td>168</td><td>3</td><td>5.48</td><td>7.62</td><td>3.34</td><td>5.05</td><td>5.6</td><td>0</td></tr><tr><th>5</th><td>5</td><td>95</td><td>1</td><td>9.94</td><td>2.38</td><td>7.94</td><td>3.82</td><td>5.44</td><td>0</td></tr></tbody></table></div>"
      ],
      "text/latex": [
       "\\begin{tabular}{r|cccccccccc}\n",
       "\t& i & Cost\\_per\\_RL & RL & Sojourn1 & Sojourn2 & Sojourn3 & Sojourn4 & Sojourn5 & P11 & \\\\\n",
       "\t\\hline\n",
       "\t& Int64 & Int64 & Int64 & Float64 & Float64 & Float64 & Float64 & Float64 & Int64 & \\\\\n",
       "\t\\hline\n",
       "\t1 & 1 & 92 & 3 & 4.6 & 1.34 & 2.04 & 0.12 & 8.86 & 0 & $\\dots$ \\\\\n",
       "\t2 & 2 & 175 & 2 & 8.32 & 8.84 & 0.65 & 9.9 & 9.65 & 0 & $\\dots$ \\\\\n",
       "\t3 & 3 & 78 & 1 & 4.44 & 1.21 & 5.09 & 6.52 & 8.67 & 0 & $\\dots$ \\\\\n",
       "\t4 & 4 & 168 & 3 & 5.48 & 7.62 & 3.34 & 5.05 & 5.6 & 0 & $\\dots$ \\\\\n",
       "\t5 & 5 & 95 & 1 & 9.94 & 2.38 & 7.94 & 3.82 & 5.44 & 0 & $\\dots$ \\\\\n",
       "\\end{tabular}\n"
      ],
      "text/plain": [
       "\u001b[1m5×33 DataFrame\u001b[0m\n",
       "\u001b[1m Row \u001b[0m│\u001b[1m i     \u001b[0m\u001b[1m Cost_per_RL \u001b[0m\u001b[1m RL    \u001b[0m\u001b[1m Sojourn1 \u001b[0m\u001b[1m Sojourn2 \u001b[0m\u001b[1m Sojourn3 \u001b[0m\u001b[1m Sojourn4 \u001b[0m\u001b[1m Sojo\u001b[0m ⋯\n",
       "\u001b[1m     \u001b[0m│\u001b[90m Int64 \u001b[0m\u001b[90m Int64       \u001b[0m\u001b[90m Int64 \u001b[0m\u001b[90m Float64  \u001b[0m\u001b[90m Float64  \u001b[0m\u001b[90m Float64  \u001b[0m\u001b[90m Float64  \u001b[0m\u001b[90m Floa\u001b[0m ⋯\n",
       "─────┼──────────────────────────────────────────────────────────────────────────\n",
       "   1 │     1           92      3      4.6       1.34      2.04      0.12       ⋯\n",
       "   2 │     2          175      2      8.32      8.84      0.65      9.9\n",
       "   3 │     3           78      1      4.44      1.21      5.09      6.52\n",
       "   4 │     4          168      3      5.48      7.62      3.34      5.05\n",
       "   5 │     5           95      1      9.94      2.38      7.94      3.82       ⋯\n",
       "\u001b[36m                                                              26 columns omitted\u001b[0m"
      ]
     },
     "execution_count": 272,
     "metadata": {},
     "output_type": "execute_result"
    }
   ],
   "source": [
    "innovations = CSV.File(\"./data/innovations.csv\",header=1,delim=\",\") |> DataFrame\n",
    "mapki = CSV.File(\"./data/map-ki.csv\",header=1,delim=\",\") |> DataFrame\n",
    "compromise = CSV.File(\"./data/compromise.csv\",header=1,delim=\",\") |> DataFrame\n",
    "initial = CSV.File(\"./data/initial.csv\",header=1,delim=\",\") |> DataFrame\n",
    "ci=innovations[!,2]\n",
    "rl=innovations[!,3]\n",
    "initial\n",
    "#innovations[2,6]=7\n",
    "compromise[!,3]=compromise[!,3]/2\n",
    "innovations[2,2]=175\n",
    "innovations[2,3]=2\n",
    "innovations[1,3]=3\n",
    "innovations[4,2]=168\n",
    "#innovations[3,3]=2\n",
    "innovations"
   ]
  },
  {
   "cell_type": "code",
   "execution_count": 273,
   "id": "33d1096b-bd0b-4edf-8fb1-38ca9b060af5",
   "metadata": {},
   "outputs": [
    {
     "data": {
      "text/html": [
       "<div class=\"data-frame\"><p>25 rows × 6 columns</p><table class=\"data-frame\"><thead><tr><th></th><th>k</th><th>i</th><th>GWP</th><th>Theta</th><th>Per_Recycl</th><th>Per_Comp</th></tr><tr><th></th><th title=\"Int64\">Int64</th><th title=\"Int64\">Int64</th><th title=\"Float64\">Float64</th><th title=\"Float64\">Float64</th><th title=\"Float64\">Float64</th><th title=\"Float64\">Float64</th></tr></thead><tbody><tr><th>1</th><td>1</td><td>1</td><td>40.0</td><td>0.6</td><td>0.5</td><td>0.0</td></tr><tr><th>2</th><td>2</td><td>1</td><td>43.0</td><td>0.66</td><td>0.55</td><td>0.0</td></tr><tr><th>3</th><td>3</td><td>1</td><td>45.5</td><td>0.68</td><td>0.567</td><td>0.0</td></tr><tr><th>4</th><td>4</td><td>1</td><td>47.5</td><td>0.7</td><td>0.583</td><td>0.0</td></tr><tr><th>5</th><td>5</td><td>2</td><td>30.0</td><td>0.4</td><td>0.0</td><td>0.2</td></tr><tr><th>6</th><td>6</td><td>2</td><td>32.0</td><td>0.48</td><td>0.0</td><td>0.24</td></tr><tr><th>7</th><td>7</td><td>2</td><td>34.0</td><td>0.5</td><td>0.0</td><td>0.27</td></tr><tr><th>8</th><td>8</td><td>2</td><td>38.0</td><td>0.52</td><td>0.0</td><td>0.34</td></tr><tr><th>9</th><td>9</td><td>2</td><td>40.0</td><td>0.54</td><td>0.0</td><td>0.37</td></tr><tr><th>10</th><td>10</td><td>2</td><td>42.5</td><td>0.55</td><td>0.0</td><td>0.4</td></tr><tr><th>11</th><td>11</td><td>3</td><td>42.5</td><td>0.6</td><td>0.6</td><td>0.3</td></tr><tr><th>12</th><td>12</td><td>3</td><td>44.5</td><td>0.68</td><td>0.55</td><td>0.4</td></tr><tr><th>13</th><td>13</td><td>3</td><td>46.5</td><td>0.76</td><td>0.53</td><td>0.4</td></tr><tr><th>14</th><td>14</td><td>3</td><td>47.5</td><td>0.82</td><td>0.5</td><td>0.4</td></tr><tr><th>15</th><td>15</td><td>4</td><td>37.5</td><td>0.65</td><td>0.0</td><td>0.5</td></tr><tr><th>16</th><td>16</td><td>4</td><td>39.0</td><td>0.69</td><td>0.0</td><td>0.531</td></tr><tr><th>17</th><td>17</td><td>4</td><td>40.0</td><td>0.71</td><td>0.0</td><td>0.55</td></tr><tr><th>18</th><td>18</td><td>4</td><td>40.5</td><td>0.72</td><td>0.0</td><td>0.55</td></tr><tr><th>19</th><td>19</td><td>4</td><td>41.5</td><td>0.74</td><td>0.0</td><td>0.57</td></tr><tr><th>20</th><td>20</td><td>4</td><td>42.5</td><td>0.75</td><td>0.0</td><td>0.8</td></tr><tr><th>21</th><td>21</td><td>5</td><td>45.0</td><td>0.9</td><td>0.7</td><td>0.15</td></tr><tr><th>22</th><td>22</td><td>5</td><td>46.0</td><td>0.92</td><td>0.716</td><td>0.1</td></tr><tr><th>23</th><td>23</td><td>5</td><td>47.0</td><td>0.94</td><td>0.731</td><td>0.0</td></tr><tr><th>24</th><td>24</td><td>5</td><td>48.0</td><td>0.95</td><td>0.738</td><td>0.0</td></tr><tr><th>25</th><td>25</td><td>5</td><td>50.0</td><td>0.95</td><td>0.738</td><td>0.0</td></tr></tbody></table></div>"
      ],
      "text/latex": [
       "\\begin{tabular}{r|cccccc}\n",
       "\t& k & i & GWP & Theta & Per\\_Recycl & Per\\_Comp\\\\\n",
       "\t\\hline\n",
       "\t& Int64 & Int64 & Float64 & Float64 & Float64 & Float64\\\\\n",
       "\t\\hline\n",
       "\t1 & 1 & 1 & 40.0 & 0.6 & 0.5 & 0.0 \\\\\n",
       "\t2 & 2 & 1 & 43.0 & 0.66 & 0.55 & 0.0 \\\\\n",
       "\t3 & 3 & 1 & 45.5 & 0.68 & 0.567 & 0.0 \\\\\n",
       "\t4 & 4 & 1 & 47.5 & 0.7 & 0.583 & 0.0 \\\\\n",
       "\t5 & 5 & 2 & 30.0 & 0.4 & 0.0 & 0.2 \\\\\n",
       "\t6 & 6 & 2 & 32.0 & 0.48 & 0.0 & 0.24 \\\\\n",
       "\t7 & 7 & 2 & 34.0 & 0.5 & 0.0 & 0.27 \\\\\n",
       "\t8 & 8 & 2 & 38.0 & 0.52 & 0.0 & 0.34 \\\\\n",
       "\t9 & 9 & 2 & 40.0 & 0.54 & 0.0 & 0.37 \\\\\n",
       "\t10 & 10 & 2 & 42.5 & 0.55 & 0.0 & 0.4 \\\\\n",
       "\t11 & 11 & 3 & 42.5 & 0.6 & 0.6 & 0.3 \\\\\n",
       "\t12 & 12 & 3 & 44.5 & 0.68 & 0.55 & 0.4 \\\\\n",
       "\t13 & 13 & 3 & 46.5 & 0.76 & 0.53 & 0.4 \\\\\n",
       "\t14 & 14 & 3 & 47.5 & 0.82 & 0.5 & 0.4 \\\\\n",
       "\t15 & 15 & 4 & 37.5 & 0.65 & 0.0 & 0.5 \\\\\n",
       "\t16 & 16 & 4 & 39.0 & 0.69 & 0.0 & 0.531 \\\\\n",
       "\t17 & 17 & 4 & 40.0 & 0.71 & 0.0 & 0.55 \\\\\n",
       "\t18 & 18 & 4 & 40.5 & 0.72 & 0.0 & 0.55 \\\\\n",
       "\t19 & 19 & 4 & 41.5 & 0.74 & 0.0 & 0.57 \\\\\n",
       "\t20 & 20 & 4 & 42.5 & 0.75 & 0.0 & 0.8 \\\\\n",
       "\t21 & 21 & 5 & 45.0 & 0.9 & 0.7 & 0.15 \\\\\n",
       "\t22 & 22 & 5 & 46.0 & 0.92 & 0.716 & 0.1 \\\\\n",
       "\t23 & 23 & 5 & 47.0 & 0.94 & 0.731 & 0.0 \\\\\n",
       "\t24 & 24 & 5 & 48.0 & 0.95 & 0.738 & 0.0 \\\\\n",
       "\t25 & 25 & 5 & 50.0 & 0.95 & 0.738 & 0.0 \\\\\n",
       "\\end{tabular}\n"
      ],
      "text/plain": [
       "\u001b[1m25×6 DataFrame\u001b[0m\n",
       "\u001b[1m Row \u001b[0m│\u001b[1m k     \u001b[0m\u001b[1m i     \u001b[0m\u001b[1m GWP     \u001b[0m\u001b[1m Theta   \u001b[0m\u001b[1m Per_Recycl \u001b[0m\u001b[1m Per_Comp \u001b[0m\n",
       "\u001b[1m     \u001b[0m│\u001b[90m Int64 \u001b[0m\u001b[90m Int64 \u001b[0m\u001b[90m Float64 \u001b[0m\u001b[90m Float64 \u001b[0m\u001b[90m Float64    \u001b[0m\u001b[90m Float64  \u001b[0m\n",
       "─────┼──────────────────────────────────────────────────────\n",
       "   1 │     1      1     40.0     0.6        0.5       0.0\n",
       "   2 │     2      1     43.0     0.66       0.55      0.0\n",
       "   3 │     3      1     45.5     0.68       0.567     0.0\n",
       "   4 │     4      1     47.5     0.7        0.583     0.0\n",
       "   5 │     5      2     30.0     0.4        0.0       0.2\n",
       "   6 │     6      2     32.0     0.48       0.0       0.24\n",
       "   7 │     7      2     34.0     0.5        0.0       0.27\n",
       "   8 │     8      2     38.0     0.52       0.0       0.34\n",
       "   9 │     9      2     40.0     0.54       0.0       0.37\n",
       "  10 │    10      2     42.5     0.55       0.0       0.4\n",
       "  11 │    11      3     42.5     0.6        0.6       0.3\n",
       "  ⋮  │   ⋮      ⋮       ⋮        ⋮         ⋮          ⋮\n",
       "  16 │    16      4     39.0     0.69       0.0       0.531\n",
       "  17 │    17      4     40.0     0.71       0.0       0.55\n",
       "  18 │    18      4     40.5     0.72       0.0       0.55\n",
       "  19 │    19      4     41.5     0.74       0.0       0.57\n",
       "  20 │    20      4     42.5     0.75       0.0       0.8\n",
       "  21 │    21      5     45.0     0.9        0.7       0.15\n",
       "  22 │    22      5     46.0     0.92       0.716     0.1\n",
       "  23 │    23      5     47.0     0.94       0.731     0.0\n",
       "  24 │    24      5     48.0     0.95       0.738     0.0\n",
       "  25 │    25      5     50.0     0.95       0.738     0.0\n",
       "\u001b[36m                                              4 rows omitted\u001b[0m"
      ]
     },
     "execution_count": 273,
     "metadata": {},
     "output_type": "execute_result"
    }
   ],
   "source": [
    "compromise"
   ]
  },
  {
   "cell_type": "code",
   "execution_count": 274,
   "id": "4e49351a-5301-4c14-8142-72ea5910982a",
   "metadata": {},
   "outputs": [
    {
     "data": {
      "text/plain": [
       "give_sorted (generic function with 1 method)"
      ]
     },
     "execution_count": 274,
     "metadata": {},
     "output_type": "execute_result"
    }
   ],
   "source": [
    "function get_transition_mat(i)\n",
    "    p_mat=reshape(collect(innovations[i,9:33]),5,5)\n",
    "    return p_mat'\n",
    "end\n",
    "\n",
    "\n",
    "function get_rate_mat(i)\n",
    "    p_mat=get_transition_mat(i)\n",
    "    q_mat=p_mat./collect(innovations[i,4:8])\n",
    "    for i in 1:5\n",
    "        q_mat[i,i]=-1*sum(q_mat[i,j] for j in 1:5 if j!=i)\n",
    "    end\n",
    "    return q_mat\n",
    "end\n",
    "\n",
    "function get_rate_eig_mat(i)\n",
    "    p_mat=get_transition_mat(i)\n",
    "    q_mat=p_mat./collect(innovations[i,4:8])\n",
    "    for i in 1:5\n",
    "        q_mat[i,i]=-1*sum(q_mat[i,j] for j in 1:5 if j!=i)\n",
    "    end\n",
    "    return [q_mat,eigvecs(q_mat),eigvals(q_mat)]\n",
    "end\n",
    "\n",
    "function get_IAM_factor(t)\n",
    "    return 1\n",
    "end\n",
    "\n",
    "function give_sorted(t)\n",
    "    v=sortperm(t)\n",
    "    return v\n",
    "end\n"
   ]
  },
  {
   "cell_type": "code",
   "execution_count": 275,
   "id": "d6e7594d",
   "metadata": {},
   "outputs": [
    {
     "data": {
      "text/plain": [
       "1×5 Matrix{Int64}:\n",
       " 1  2  3  4  5"
      ]
     },
     "execution_count": 275,
     "metadata": {},
     "output_type": "execute_result"
    }
   ],
   "source": [
    "q=zeros(5,5,nrow(innovations))\n",
    "a=zeros(5,5,nrow(innovations))\n",
    "ainv=zeros(5,5,nrow(innovations))\n",
    "d=zeros(5,1,nrow(innovations))\n",
    "s0=zeros(1,5,nrow(innovations))\n",
    "for i in 1:nrow(innovations)\n",
    "    q[:,:,i]=round.(get_rate_eig_mat(i)[1],digits=3)\n",
    "    a[:,:,i]=(get_rate_eig_mat(i)[2])\n",
    "    d[:,:,i]=round.(get_rate_eig_mat(i)[3],digits=3)\n",
    "    ainv[:,:,i]=round.(inv(get_rate_eig_mat(i)[2]),digits=3)\n",
    "    s0[1,rl[i],i]=1\n",
    "end\n",
    "rl_vals=[1 2 3 4 5]"
   ]
  },
  {
   "cell_type": "code",
   "execution_count": 276,
   "id": "82bcdb33-a9c3-4e1c-a456-21ed1fdb43b4",
   "metadata": {},
   "outputs": [
    {
     "data": {
      "text/html": [
       "<div class=\"data-frame\"><p>5 rows × 7 columns</p><table class=\"data-frame\"><thead><tr><th></th><th>Column1</th><th>Y0</th><th>Y1</th><th>Y2</th><th>Y3</th><th>Y4</th><th>Y5</th></tr><tr><th></th><th title=\"Int64\">Int64</th><th title=\"Int64\">Int64</th><th title=\"Float64\">Float64</th><th title=\"Float64\">Float64</th><th title=\"Float64\">Float64</th><th title=\"Float64\">Float64</th><th title=\"Float64\">Float64</th></tr></thead><tbody><tr><th>1</th><td>1</td><td>2</td><td>1.55336</td><td>1.08482</td><td>0.987212</td><td>1.26794</td><td>1.87998</td></tr><tr><th>2</th><td>2</td><td>3</td><td>3.55746</td><td>3.93607</td><td>4.40891</td><td>5.05482</td><td>5.76446</td></tr><tr><th>3</th><td>3</td><td>4</td><td>3.16098</td><td>2.53288</td><td>2.48238</td><td>2.96874</td><td>3.96047</td></tr><tr><th>4</th><td>4</td><td>2</td><td>1.90803</td><td>2.33811</td><td>3.25335</td><td>4.37439</td><td>5.72498</td></tr><tr><th>5</th><td>5</td><td>4</td><td>4.03011</td><td>4.32668</td><td>4.96027</td><td>5.88777</td><td>7.0267</td></tr></tbody></table></div>"
      ],
      "text/latex": [
       "\\begin{tabular}{r|ccccccc}\n",
       "\t& Column1 & Y0 & Y1 & Y2 & Y3 & Y4 & Y5\\\\\n",
       "\t\\hline\n",
       "\t& Int64 & Int64 & Float64 & Float64 & Float64 & Float64 & Float64\\\\\n",
       "\t\\hline\n",
       "\t1 & 1 & 2 & 1.55336 & 1.08482 & 0.987212 & 1.26794 & 1.87998 \\\\\n",
       "\t2 & 2 & 3 & 3.55746 & 3.93607 & 4.40891 & 5.05482 & 5.76446 \\\\\n",
       "\t3 & 3 & 4 & 3.16098 & 2.53288 & 2.48238 & 2.96874 & 3.96047 \\\\\n",
       "\t4 & 4 & 2 & 1.90803 & 2.33811 & 3.25335 & 4.37439 & 5.72498 \\\\\n",
       "\t5 & 5 & 4 & 4.03011 & 4.32668 & 4.96027 & 5.88777 & 7.0267 \\\\\n",
       "\\end{tabular}\n"
      ],
      "text/plain": [
       "\u001b[1m5×7 DataFrame\u001b[0m\n",
       "\u001b[1m Row \u001b[0m│\u001b[1m Column1 \u001b[0m\u001b[1m Y0    \u001b[0m\u001b[1m Y1      \u001b[0m\u001b[1m Y2      \u001b[0m\u001b[1m Y3       \u001b[0m\u001b[1m Y4      \u001b[0m\u001b[1m Y5      \u001b[0m\n",
       "\u001b[1m     \u001b[0m│\u001b[90m Int64   \u001b[0m\u001b[90m Int64 \u001b[0m\u001b[90m Float64 \u001b[0m\u001b[90m Float64 \u001b[0m\u001b[90m Float64  \u001b[0m\u001b[90m Float64 \u001b[0m\u001b[90m Float64 \u001b[0m\n",
       "─────┼──────────────────────────────────────────────────────────────\n",
       "   1 │       1      2  1.55336  1.08482  0.987212  1.26794  1.87998\n",
       "   2 │       2      3  3.55746  3.93607  4.40891   5.05482  5.76446\n",
       "   3 │       3      4  3.16098  2.53288  2.48238   2.96874  3.96047\n",
       "   4 │       4      2  1.90803  2.33811  3.25335   4.37439  5.72498\n",
       "   5 │       5      4  4.03011  4.32668  4.96027   5.88777  7.0267"
      ]
     },
     "execution_count": 276,
     "metadata": {},
     "output_type": "execute_result"
    }
   ],
   "source": [
    "inn_reg = CSV.File(\"./inn_reg.csv\",header=1,delim=\",\") |> DataFrame\n",
    "inn_xrang = CSV.File(\"./inn_xrang.csv\",header=1,delim=\",\") |> DataFrame\n",
    "inn_yrang = CSV.File(\"./inn_yrang.csv\",header=1,delim=\",\") |> DataFrame\n",
    "inn_yrang[!,\"Y0\"]=-1*(innovations[!,\"RL\"].-5)\n",
    "inn_yrang"
   ]
  },
  {
   "cell_type": "code",
   "execution_count": 277,
   "id": "278df7ad-e93e-4e3a-ba71-b19c0d32ecac",
   "metadata": {},
   "outputs": [
    {
     "data": {
      "text/plain": [
       "pw_fit_diff (generic function with 1 method)"
      ]
     },
     "execution_count": 277,
     "metadata": {},
     "output_type": "execute_result"
    }
   ],
   "source": [
    "function piecewise_fitted_parameters(i,t)\n",
    "    if(t <= inn_xrang[i,3])\n",
    "        return inn_reg[i,3],inn_reg[i,4]\n",
    "    elseif(inn_xrang[i,3]< t <= inn_xrang[i,4])\n",
    "        return inn_reg[i,5],inn_reg[i,6]\n",
    "    elseif(inn_xrang[i,4]< t <= inn_xrang[i,5])\n",
    "        return inn_reg[i,7],inn_reg[i,8]\n",
    "    elseif(inn_xrang[i,5]< t <= inn_xrang[i,6])\n",
    "        return inn_reg[i,9],inn_reg[i,10]\n",
    "    else\n",
    "        return inn_reg[i,11],inn_reg[i,12]\n",
    "    end\n",
    "end\n",
    "\n",
    "function pw_fit(i,t)\n",
    "    if(t <= inn_xrang[i,3])\n",
    "        return inn_reg[i,3]+inn_reg[i,4]*t\n",
    "    elseif(inn_xrang[i,3]< t <= inn_xrang[i,4])\n",
    "        return inn_reg[i,5]+inn_reg[i,6]*t\n",
    "    elseif(inn_xrang[i,4]< t <= inn_xrang[i,5])\n",
    "        return inn_reg[i,7]+inn_reg[i,8]*t\n",
    "    elseif(inn_xrang[i,5]< t <= inn_xrang[i,6])\n",
    "        return inn_reg[i,9]+inn_reg[i,10]*t\n",
    "    else\n",
    "        return inn_reg[i,11]+inn_reg[i,12]*t\n",
    "    end\n",
    "end\n",
    "\n",
    "function pw_fit_diff(i,t)\n",
    "    if(t <= inn_xrang[i,3])\n",
    "        return inn_reg[i,4]\n",
    "    elseif(inn_xrang[i,3]< t <= inn_xrang[i,4])\n",
    "        return inn_reg[i,6]\n",
    "    elseif(inn_xrang[i,4]< t <= inn_xrang[i,5])\n",
    "        return inn_reg[i,8]\n",
    "    elseif(inn_xrang[i,5]< t <= inn_xrang[i,6])\n",
    "        return inn_reg[i,10]\n",
    "    else\n",
    "        return inn_reg[i,12]\n",
    "    end\n",
    "end\n"
   ]
  },
  {
   "cell_type": "code",
   "execution_count": 278,
   "id": "b7e41e06-c60c-4632-9aea-7217bf9ddd1e",
   "metadata": {},
   "outputs": [],
   "source": [
    "## Something in mccormick section is disallowing combinations of xk, check that immediately\n",
    "# its not the co2_2050 which is getting violated by having higher ti it is something else\n",
    "\n",
    "\n",
    "#check constraint to adopt only if invested"
   ]
  },
  {
   "cell_type": "code",
   "execution_count": 279,
   "id": "95cba596-3ead-4df7-833f-4b106eb15515",
   "metadata": {},
   "outputs": [
    {
     "data": {
      "text/plain": [
       "tech_roadmap_mccormick_peicewise_self (generic function with 1 method)"
      ]
     },
     "execution_count": 279,
     "metadata": {},
     "output_type": "execute_result"
    }
   ],
   "source": [
    "function tech_roadmap_mccormick_peicewise_self()\n",
    "    \n",
    "    rdmap= Model(BARON.Optimizer)\n",
    "    set_optimizer_attribute(rdmap, \"MaxTime\", 2500)\n",
    "    \n",
    "    #Sets\n",
    "    # i: innovation\n",
    "    # k: compromise or pareto optimal solution\n",
    "    # r,c : row column of transition matrices\n",
    "    \n",
    "    #Declaration of variables\n",
    "    \n",
    "    #binary variable choosing the pareto optimal solution\n",
    "    @variable(rdmap,yk[k=1:nrow(compromise)],Bin)\n",
    "    #time at which a pareto optimal solution is chosen\n",
    "    @variable(rdmap,0 ≤ tk[k=1:nrow(compromise)] ≤ 50)\n",
    "    #percentage of functional unit that a pareto optimal solution takes up\n",
    "    @variable(rdmap,0 ≤ xk[k=1:nrow(compromise)] ≤ 1)\n",
    "    \n",
    "    #binary variable choosing which innovation to invest in for adoption\n",
    "    @variable(rdmap,yi[i=1:nrow(innovations)],Bin)\n",
    "    #time at which invested is made and innovation made adoptible\n",
    "    @variable(rdmap,0 ≤ ti[i=1:nrow(innovations)] ≤ 50)\n",
    "    #readiness level state value of ith innovation\n",
    "    @variable(rdmap, s[i=1:nrow(innovations)] )\n",
    "    \n",
    "    #CO2 at 2050 target\n",
    "    @variable(rdmap, co2_2050 ≥ 0)\n",
    "    #integral approximator of CO2\n",
    "    @variable(rdmap, co2_tot ≥ 0)\n",
    "    \n",
    "    #cost incured in investing to adopt\n",
    "    @variable(rdmap, 0 ≤ cost_inn)\n",
    "    \n",
    "    \n",
    "    #Constraints\n",
    "    \n",
    "    #Planning optimization constraints    \n",
    "    #only one compromise solution chosen on each pareto front, and chosen only if investment made in ith front\n",
    "    @constraint(rdmap, [i=1], sum(yk[k] for k=1:mapki[i,2])==yi[i])\n",
    "    @constraint(rdmap, [i=2:nrow(mapki)], sum(yk[k] for k=mapki[i-1,2]:mapki[i,2])==yi[i])\n",
    "    \n",
    "    #one can pick a compromise solution from ith front to satisfy functional unit only after investment in ith innovation made\n",
    "    @constraint(rdmap, [i=1], ti[i] ≤ sum(tk[k] for k=1:mapki[i,2]))\n",
    "    @constraint(rdmap, [i=2:nrow(mapki)], ti[i] ≤ sum(tk[k] for k=mapki[i-1,2]:mapki[i,2]))\n",
    "    \n",
    "    #if innovation invested in, time has to be between 0 and fifty, otherwise 0\n",
    "    @constraint(rdmap, [i=1:nrow(mapki)], 50*yi[i] ≥ ti[i])\n",
    "    #if compromise solution chosen, time has to be between 0 and fifty, otherwise 0\n",
    "    @constraint(rdmap, [k=1:nrow(compromise)], 50*yk[k] ≥ tk[k])\n",
    "    \n",
    "    #if innovation invested in, time has to be between 0 and fifty, otherwise 0\n",
    "    #@constraint(rdmap, [i=1:nrow(mapki)], 50*yi[i] ≤ ti[i])\n",
    "    #if compromise solution chosen, time has to be between 0 and fifty, otherwise 0\n",
    "    #@constraint(rdmap, [k=1:nrow(compromise)], 50*yk[k] ≤ tk[k])\n",
    "    \n",
    "    \n",
    "    #functional unit allocation to innovation iff compromise solution chosen\n",
    "    @constraint(rdmap, [k=1:nrow(compromise)], yk[k] ≥ xk[k])\n",
    "    \n",
    "    #total fraction of functional unit satisfied by innovative compromise solutions <1\n",
    "    @constraint(rdmap, sum(xk[k] for k in 1:nrow(compromise)) ≤ 1) \n",
    "    \n",
    "    #co2 at 2050 target formulated based on distribution of functional unit to various pareto solutions from innovative and conventional fronts\n",
    "    @constraint(rdmap, co2_2050==sum(xk[k]*compromise[k,3] for k in 1:nrow(compromise))\n",
    "        + (1-sum(xk[k] for k in 1:nrow(compromise)))*initial[1,3])\n",
    "    \n",
    "    #Time evolution of innovation\n",
    "   \n",
    "    \n",
    "    #Integral approximation of co2 emitted during the entire time horizon\n",
    "    \n",
    "    #mccormick envelopes reduces computational time by 3 fold (see previous formulation for actual bilinear integral approximation)\n",
    "    @variable(rdmap,0 ≤ wk[k=1:nrow(compromise)])\n",
    "    @constraint(rdmap,[k=1:nrow(compromise)],wk[k] ≥ 50*xk[k]+tk[k]-50)\n",
    "    @constraint(rdmap,[k=1:nrow(compromise)],wk[k] ≤ 50*xk[k])\n",
    "    @constraint(rdmap,[k=1:nrow(compromise)],wk[k] ≤ tk[k])\n",
    "    \n",
    "    #@NLconstraint(rdmap, co2_tot == 50*initial[1,3]-sum((50-tk[k])*xk[k]*(initial[1,3]-compromise[k,3]) for k in 1:nrow(compromise)))\n",
    "    @constraint(rdmap, co2_tot == 50*initial[1,3]-sum((50*xk[k]-wk[k])*(initial[1,3]-compromise[k,3]) for k in 1:nrow(compromise)))\n",
    "\n",
    "    #setting target for 2050 co2 pledge\n",
    "    @constraint(rdmap, co2_2050 ≤ 50)\n",
    "    \n",
    "    #find present value of investment cost for objective function - time value of money x how far from adoption RL x cost per RL differential\n",
    "    #@NLconstraint(rdmap, cost_inn == sum(ci[i]*(yi[i]*(5-s[i])*0.968^(-1*ti[i])) for i in 1:nrow(innovations)))\n",
    "    #@variable(rdmap,state_time[i=1:nrow(innovations)])\n",
    "    #for i in 1:nrow(innovations)\n",
    "    #    state_time[i]=piecewiselinear(rdmap,ti[i],tval[:,i],fval[:,i])\n",
    "        #state_time[i]=piecewiselinear(rdmap,ti[i],0:0.1:50, ti[i] -> (5-s[i])*0.968^(-1*ti[i]))\n",
    "    #end\n",
    "    #register(rdmap, :pw_fit, 2, pw_fit, pw_fit_diff)\n",
    "    #@NLconstraint(rdmap, cost_inn == sum(ci[i]*(yi[i]*pw_fit(i,ti[i])) for i in 1:nrow(innovations)))\n",
    "    \n",
    "    \n",
    "    \n",
    "    @variable(rdmap,pw[i=1:nrow(innovations),p=3:ncol(inn_xrang)],Bin)\n",
    "    @variable(rdmap,pw1[i=1:nrow(innovations)],Bin)\n",
    "    @variable(rdmap,pwb[i=1:nrow(innovations),p=3:ncol(inn_xrang),1:2],Bin)\n",
    "    @constraint(rdmap,[i=1:nrow(innovations)],pw1[i]==sum(pw[i,p] for p in 3:ncol(inn_xrang)))\n",
    "    \n",
    "    #@constraint(rdmap,[i=1:nrow(innovations)],pw[i,3]*inn_xrang[i,3] ≥ ti[i])\n",
    "    #@constraint(rdmap,[i=1:nrow(innovations)],pw[i,4]*inn_xrang[i,4] ≥ ti[i])\n",
    "    #@constraint(rdmap,[i=1:nrow(innovations)],pw[i,5]*inn_xrang[i,5] ≥ ti[i])\n",
    "    #@constraint(rdmap,[i=1:nrow(innovations)],pw[i,6]*inn_xrang[i,6] ≥ ti[i])\n",
    "    #@constraint(rdmap,[i=1:nrow(innovations)],pw[i,7]*inn_xrang[i,7] ≥ ti[i])\n",
    "    \n",
    "    #@constraint(rdmap,[i=1:nrow(innovations)],(1-pw[i,3])*inn_xrang[i,4] ≤ ti[i])\n",
    "    #@constraint(rdmap,[i=1:nrow(innovations)],(1-pw[i,4])*inn_xrang[i,5] ≤ ti[i])\n",
    "    #@constraint(rdmap,[i=1:nrow(innovations)],(1-pw[i,5])*inn_xrang[i,6] ≤ ti[i])\n",
    "    #@constraint(rdmap,[i=1:nrow(innovations)],(1-pw[i,6])*inn_xrang[i,7] ≤ ti[i])\n",
    "    \n",
    "    #@constraint(rdmap,[i=1:nrow(innovations)],50*pw[i,3]≥ ti[i]-inn_xrang[i,3])\n",
    "    \n",
    "    #for p in 4:nrow(inn_xrang)\n",
    "    #    @constraint(rdmap,[i=1:nrow(innovations)],pw[i,p] == pwb[i,p,1]+pwb[i,p,2]-1)\n",
    "    #    @constraint(rdmap,[i=1:nrow(innovations)],50*pwb[i,p,1] ≥ ti[i]-inn_xrang[i,p-1])\n",
    "    #    @constraint(rdmap,[i=1:nrow(innovations)],50*pwb[i,p,2] ≥ inn_xrang[i,p]-ti[i])\n",
    "    #end\n",
    "    \n",
    "    #for p in 3:nrow(inn_xrang)\n",
    "    #    @constraint(rdmap,[i=1:nrow(innovations)],pw[i,p] == pwb[i,p,1]+pwb[i,p,2]-1)\n",
    "    #    @constraint(rdmap,[i=1:nrow(innovations)],50*pwb[i,p,1] ≥ ti[i]-inn_xrang[i,p])\n",
    "    #    @constraint(rdmap,[i=1:nrow(innovations)],50*pwb[i,p,2] ≥ inn_xrang[i,p-1]-ti[i])\n",
    "    #end\n",
    "    \n",
    "    @constraint(rdmap, [i=1:nrow(innovations)],pw1[i] == 1 )\n",
    "    \n",
    "    for p in 4:nrow(inn_xrang)\n",
    "        @constraint(rdmap,[i=1:nrow(innovations)],pw[i,p] ≥ pwb[i,p,1]+pwb[i,p,2] - 1)\n",
    "        @constraint(rdmap,[i=1:nrow(innovations)],55*pwb[i,p,2] + inn_xrang[i,p-1]*pwb[i,p,1] + 0.5*pw[i,p]*(inn_xrang[i,p-1]+inn_xrang[i,p]) ≥ ti[i] )\n",
    "        @constraint(rdmap,[i=1:nrow(innovations)],ti[i]≥ 0.5*pw[i,p]*(inn_xrang[i,p-1]+inn_xrang[i,p])+ inn_xrang[i,p]*pwb[i,p,2])\n",
    "    end\n",
    "\n",
    "    \n",
    "    @NLconstraint(rdmap, cost_inn == sum(ci[i]*(yi[i]*\n",
    "                (sum(pw[i,p]*(inn_reg[i,2*p-3]+inn_reg[i,2*p-2]*ti[i]) for p in 3:ncol(inn_xrang)))) for i in 1:nrow(innovations)))\n",
    "    \n",
    "    @NLconstraint(rdmap, [i=1:nrow(innovations)],s[i]==sum(pw[i,p]*(inn_reg[i,2*p-3]+inn_reg[i,2*p-2]*ti[i]) for p in 3:ncol(inn_xrang)))\n",
    "    \n",
    "    #@variable(rdmap, y1, Bin)\n",
    "    #@NLconstraint(rdmap, cost_inn == sum(ci[i]*(yi[i]*(y1*(2*t/50)+(1-y1)*(3*t/50))) for i in 1:nrow(innovations)))\n",
    "    \n",
    "    #@constraint(rdmap, ti[1]  ≥ 6)\n",
    "    #@constraint(rdmap, ti[3]  ≥ 12)\n",
    "    \n",
    "\n",
    "    #definining objective function as investment cost + Co2 emission cost during the time horizon\n",
    "    #40*0.001*co2_tot+\n",
    "    #@NLconstraint(rdmap, obj_val == cost_inn)\n",
    "    @NLobjective(rdmap,Min, 40*0.001*co2_tot+cost_inn)\n",
    "    #supplying lower bound on objective based on cost_inn optimal\n",
    "    #@variable(rdmap, obj_val ≥ 180)\n",
    "    #print(rdmap)\n",
    "    optimize!(rdmap)\n",
    "    \n",
    "    return JuMP.value.(yk), JuMP.value.(tk), JuMP.value.(xk), JuMP.value.(yi), JuMP.value.(ti), \n",
    "        JuMP.value.(s), JuMP.value.(co2_2050), JuMP.value.(cost_inn), JuMP.value.(co2_tot),JuMP.value.(pw),JuMP.value.(pwb)\n",
    "end\n",
    "\n",
    "\n"
   ]
  },
  {
   "cell_type": "code",
   "execution_count": 292,
   "id": "8e71e88a-0c0c-4457-94b8-9f47678e64ac",
   "metadata": {},
   "outputs": [
    {
     "data": {
      "text/plain": [
       "tech_roadmap_mccormick_peicewise_self (generic function with 1 method)"
      ]
     },
     "execution_count": 292,
     "metadata": {},
     "output_type": "execute_result"
    }
   ],
   "source": [
    "function tech_roadmap_mccormick_peicewise_self()\n",
    "    \n",
    "    rdmap= Model(BARON.Optimizer)\n",
    "    set_optimizer_attribute(rdmap, \"MaxTime\", 2500)\n",
    "    \n",
    "    #Sets\n",
    "    # i: innovation\n",
    "    # k: compromise or pareto optimal solution\n",
    "    # r,c : row column of transition matrices\n",
    "    \n",
    "    #Declaration of variables\n",
    "    \n",
    "    #binary variable choosing the pareto optimal solution\n",
    "    @variable(rdmap,yk[k=1:nrow(compromise)],Bin)\n",
    "    #time at which a pareto optimal solution is chosen\n",
    "    @variable(rdmap,0 ≤ tk[k=1:nrow(compromise)] ≤ 50)\n",
    "    #percentage of functional unit that a pareto optimal solution takes up\n",
    "    @variable(rdmap,0 ≤ xk[k=1:nrow(compromise)] ≤ 1)\n",
    "    \n",
    "    #binary variable choosing which innovation to invest in for adoption\n",
    "    @variable(rdmap,yi[i=1:nrow(innovations)],Bin)\n",
    "    #time at which invested is made and innovation made adoptible\n",
    "    @variable(rdmap,0 ≤ ti[i=1:nrow(innovations)] ≤ 50)\n",
    "    #readiness level state value of ith innovation\n",
    "    @variable(rdmap, s[i=1:nrow(innovations)] )\n",
    "    \n",
    "    #CO2 at 2050 target\n",
    "    @variable(rdmap, co2_2050 ≥ 0)\n",
    "    #integral approximator of CO2\n",
    "    @variable(rdmap, co2_tot ≥ 0)\n",
    "    \n",
    "    #cost incured in investing to adopt\n",
    "    @variable(rdmap, 0 ≤ cost_inn)\n",
    "    \n",
    "    \n",
    "    #Constraints\n",
    "    \n",
    "    #Planning optimization constraints    \n",
    "    #only one compromise solution chosen on each pareto front, and chosen only if investment made in ith front\n",
    "    @constraint(rdmap, [i=1], sum(yk[k] for k=1:mapki[i,2])==yi[i])\n",
    "    @constraint(rdmap, [i=2:nrow(mapki)], sum(yk[k] for k=mapki[i-1,2]:mapki[i,2])==yi[i])\n",
    "    \n",
    "    #one can pick a compromise solution from ith front to satisfy functional unit only after investment in ith innovation made\n",
    "    @constraint(rdmap, [i=1], ti[i] ≤ sum(tk[k] for k=1:mapki[i,2]))\n",
    "    @constraint(rdmap, [i=2:nrow(mapki)], ti[i] ≤ sum(tk[k] for k=mapki[i-1,2]:mapki[i,2]))\n",
    "    \n",
    "    #if innovation invested in, time has to be between 0 and fifty, otherwise 0\n",
    "    @constraint(rdmap, [i=1:nrow(mapki)], 50*yi[i] ≥ ti[i])\n",
    "    #if compromise solution chosen, time has to be between 0 and fifty, otherwise 0\n",
    "    @constraint(rdmap, [k=1:nrow(compromise)], 50*yk[k] ≥ tk[k])\n",
    "    \n",
    "    #if innovation invested in, time has to be between 0 and fifty, otherwise 0\n",
    "    #@constraint(rdmap, [i=1:nrow(mapki)], 50*yi[i] ≤ ti[i])\n",
    "    #if compromise solution chosen, time has to be between 0 and fifty, otherwise 0\n",
    "    #@constraint(rdmap, [k=1:nrow(compromise)], 50*yk[k] ≤ tk[k])\n",
    "    \n",
    "    \n",
    "    #functional unit allocation to innovation iff compromise solution chosen\n",
    "    @constraint(rdmap, [k=1:nrow(compromise)], yk[k] ≥ xk[k])\n",
    "    \n",
    "    #total fraction of functional unit satisfied by innovative compromise solutions <1\n",
    "    @constraint(rdmap, sum(xk[k] for k in 1:nrow(compromise)) ≤ 1) \n",
    "    \n",
    "    #co2 at 2050 target formulated based on distribution of functional unit to various pareto solutions from innovative and conventional fronts\n",
    "    @constraint(rdmap, co2_2050==sum(xk[k]*compromise[k,3] for k in 1:nrow(compromise))\n",
    "        + (1-sum(xk[k] for k in 1:nrow(compromise)))*initial[1,3])\n",
    "    \n",
    "    #Time evolution of innovation\n",
    "   \n",
    "    \n",
    "    #Integral approximation of co2 emitted during the entire time horizon\n",
    "    \n",
    "    #mccormick envelopes reduces computational time by 3 fold (see previous formulation for actual bilinear integral approximation)\n",
    "    @variable(rdmap,0 ≤ wk[k=1:nrow(compromise)])\n",
    "    @constraint(rdmap,[k=1:nrow(compromise)],wk[k] ≥ 50*xk[k]+tk[k]-50)\n",
    "    @constraint(rdmap,[k=1:nrow(compromise)],wk[k] ≤ 50*xk[k])\n",
    "    @constraint(rdmap,[k=1:nrow(compromise)],wk[k] ≤ tk[k])\n",
    "    \n",
    "    @NLconstraint(rdmap, co2_tot == 50*initial[1,3]-sum((50-tk[k])*xk[k]*(initial[1,3]-compromise[k,3]) for k in 1:nrow(compromise)))\n",
    "    #@constraint(rdmap, co2_tot == 50*initial[1,3]-sum((50*xk[k]-wk[k])*(initial[1,3]-compromise[k,3]) for k in 1:nrow(compromise)))\n",
    "\n",
    "    #setting target for 2050 co2 pledge\n",
    "    @constraint(rdmap, co2_2050 ≤ 50)\n",
    "    \n",
    "    @variable(rdmap,f_fit[i=1:nrow(innovations)] ≥ 0)\n",
    "\n",
    "    for i in 1:nrow(innovations)\n",
    "        f_fit[i] = piecewiselinear(rdmap, ti[i], Matrix(inn_xrang[!,2:ncol(inn_xrang)])[i,:],Matrix(inn_yrang[!,2:ncol(inn_yrang)])[i,:])\n",
    "    end\n",
    "\n",
    "    \n",
    "    @NLconstraint(rdmap, cost_inn == sum(ci[i]*(yi[i]*f_fit[i]) for i in 1:nrow(innovations)))\n",
    "                \n",
    "\n",
    "    \n",
    "    @constraint(rdmap, [i=1:nrow(innovations)],s[i]==f_fit[i])\n",
    "    \n",
    "    #@variable(rdmap, y1, Bin)\n",
    "    #@NLconstraint(rdmap, cost_inn == sum(ci[i]*(yi[i]*(y1*(2*t/50)+(1-y1)*(3*t/50))) for i in 1:nrow(innovations)))\n",
    "    \n",
    "    \n",
    "\n",
    "    #definining objective function as investment cost + Co2 emission cost during the time horizon\n",
    "    #40*0.001*co2_tot+\n",
    "    #@NLconstraint(rdmap, obj_val == cost_inn)\n",
    "    @NLobjective(rdmap,Min, 40*0.001*co2_tot+cost_inn)\n",
    "    #supplying lower bound on objective based on cost_inn optimal\n",
    "    #@variable(rdmap, obj_val ≥ 180)\n",
    "    #print(rdmap)\n",
    "    optimize!(rdmap)\n",
    "    \n",
    "    return JuMP.value.(yk), JuMP.value.(tk), JuMP.value.(xk), JuMP.value.(yi), JuMP.value.(ti), \n",
    "        JuMP.value.(s), JuMP.value.(co2_2050), JuMP.value.(cost_inn), JuMP.value.(co2_tot)\n",
    "end\n",
    "\n",
    "\n"
   ]
  },
  {
   "cell_type": "code",
   "execution_count": 293,
   "id": "af85f631",
   "metadata": {},
   "outputs": [
    {
     "name": "stdout",
     "output_type": "stream",
     "text": [
      "===========================================================================\n",
      " BARON version 21.1.13. Built: LNX-64 Wed Jan 13 16:09:31 EST 2021\n",
      "\n",
      " BARON is a product of The Optimization Firm.\n",
      " For information on BARON, see https://minlp.com/about-baron\n",
      " Licensee: Bhavik R. Bakshi at The Ohio State University, bakshi.2@osu.edu.\n",
      "\n",
      " If you use this software, please cite publications from\n",
      " https://minlp.com/baron-publications, such as: \n",
      "\n",
      " Kilinc, M. and N. V. Sahinidis, Exploiting integrality in the global\n",
      " optimization of mixed-integer nonlinear programming problems in BARON,\n",
      " Optimization Methods and Software, 33, 540-562, 2018.\n",
      "===========================================================================\n",
      " This BARON run may utilize the following subsolver(s)\n",
      " For LP/MIP/QP: CLP/CBC                                         \n",
      " For NLP: IPOPT, FILTERSD, FILTERSQP\n",
      "===========================================================================\n",
      " Doing local search\n",
      " Preprocessing found feasible solution with value  208.603048924     \n",
      " Solving bounding LP\n",
      " Starting multi-start local search\n",
      " Done with local search\n",
      "===========================================================================\n",
      "  Iteration    Open nodes         Time (s)    Lower bound      Upper bound\n",
      "*         1             1             0.06      0.00000         203.803    \n",
      "          1             0             0.06     203.803          203.803    \n",
      "\n",
      " Calculating duals\n",
      "\n",
      "                         *** Normal completion ***            \n",
      "\n",
      " Wall clock time:                     0.07\n",
      " Total CPU time used:                 0.06\n",
      "\n",
      " Total no. of BaR iterations:       1\n",
      " Best solution found at node:       1\n",
      " Max. no. of nodes in memory:       1\n",
      " \n",
      " All done\n",
      "===========================================================================\n",
      " Unable to find/load CPLEX library libcplex.so: cannot open shared object file: No such file or directory\n",
      " Unable to find/load CPLEX library libcplex2010.so: cannot open shared object file: No such file or directory\n"
     ]
    },
    {
     "data": {
      "text/plain": [
       "5-element Vector{Float64}:\n",
       " 1.0\n",
       " 0.0\n",
       " 0.0\n",
       " 0.0\n",
       " 0.0"
      ]
     },
     "execution_count": 293,
     "metadata": {},
     "output_type": "execute_result"
    }
   ],
   "source": [
    "yk, tk, xk, yi, ti, s, co2, costInn, co2tot=tech_roadmap_mccormick_peicewise_self()\n",
    "yi\n"
   ]
  },
  {
   "cell_type": "code",
   "execution_count": 294,
   "id": "b4f63b97-8e5f-4b63-8535-b19d99aab222",
   "metadata": {},
   "outputs": [
    {
     "data": {
      "text/plain": [
       "5-element Vector{Float64}:\n",
       " 9.999999999999996\n",
       " 0.0\n",
       " 0.0\n",
       " 0.0\n",
       " 0.0"
      ]
     },
     "execution_count": 294,
     "metadata": {},
     "output_type": "execute_result"
    }
   ],
   "source": [
    "ti"
   ]
  },
  {
   "cell_type": "code",
   "execution_count": 295,
   "id": "b1112d72-1fcc-461f-8d56-0abb7d01d9a2",
   "metadata": {},
   "outputs": [
    {
     "data": {
      "text/plain": [
       "99.80304892435524"
      ]
     },
     "execution_count": 295,
     "metadata": {},
     "output_type": "execute_result"
    }
   ],
   "source": [
    "costInn"
   ]
  },
  {
   "cell_type": "code",
   "execution_count": 296,
   "id": "13367c8a",
   "metadata": {},
   "outputs": [
    {
     "data": {
      "text/plain": [
       "25-element Vector{Float64}:\n",
       " 9.999999999999996\n",
       " 0.0\n",
       " 0.0\n",
       " 0.0\n",
       " 0.0\n",
       " 0.0\n",
       " 0.0\n",
       " 0.0\n",
       " 0.0\n",
       " 0.0\n",
       " 0.0\n",
       " 0.0\n",
       " 0.0\n",
       " 0.0\n",
       " 0.0\n",
       " 0.0\n",
       " 0.0\n",
       " 0.0\n",
       " 0.0\n",
       " 0.0\n",
       " 0.0\n",
       " 0.0\n",
       " 0.0\n",
       " 0.0\n",
       " 0.0"
      ]
     },
     "execution_count": 296,
     "metadata": {},
     "output_type": "execute_result"
    }
   ],
   "source": [
    "tk"
   ]
  },
  {
   "cell_type": "code",
   "execution_count": 297,
   "id": "baa9385f",
   "metadata": {},
   "outputs": [
    {
     "data": {
      "text/plain": [
       "104.00000000000001"
      ]
     },
     "execution_count": 297,
     "metadata": {},
     "output_type": "execute_result"
    }
   ],
   "source": [
    "co2tot*40*0.001"
   ]
  },
  {
   "cell_type": "code",
   "execution_count": 298,
   "id": "c243bf22-df36-4199-8a63-058523b27f05",
   "metadata": {},
   "outputs": [
    {
     "data": {
      "text/plain": [
       "0.0"
      ]
     },
     "execution_count": 298,
     "metadata": {},
     "output_type": "execute_result"
    }
   ],
   "source": [
    "cost1"
   ]
  },
  {
   "cell_type": "code",
   "execution_count": 299,
   "id": "2a487c68",
   "metadata": {},
   "outputs": [
    {
     "data": {
      "text/plain": [
       "5-element Vector{Float64}:\n",
       " 1.0\n",
       " 0.0\n",
       " 0.0\n",
       " 0.0\n",
       " 0.0"
      ]
     },
     "execution_count": 299,
     "metadata": {},
     "output_type": "execute_result"
    }
   ],
   "source": [
    "yi"
   ]
  },
  {
   "cell_type": "code",
   "execution_count": 300,
   "id": "c6f1ba5c",
   "metadata": {},
   "outputs": [
    {
     "data": {
      "text/plain": [
       "25-element Vector{Float64}:\n",
       " 9.999999999999996\n",
       " 0.0\n",
       " 0.0\n",
       " 0.0\n",
       " 0.0\n",
       " 0.0\n",
       " 0.0\n",
       " 0.0\n",
       " 0.0\n",
       " 0.0\n",
       " 0.0\n",
       " 0.0\n",
       " 0.0\n",
       " 0.0\n",
       " 0.0\n",
       " 0.0\n",
       " 0.0\n",
       " 0.0\n",
       " 0.0\n",
       " 0.0\n",
       " 0.0\n",
       " 0.0\n",
       " 0.0\n",
       " 0.0\n",
       " 0.0"
      ]
     },
     "execution_count": 300,
     "metadata": {},
     "output_type": "execute_result"
    }
   ],
   "source": [
    "tk"
   ]
  },
  {
   "cell_type": "code",
   "execution_count": 301,
   "id": "f89dc476",
   "metadata": {},
   "outputs": [
    {
     "data": {
      "text/plain": [
       "25-element Vector{Float64}:\n",
       " 1.0\n",
       " 0.0\n",
       " 0.0\n",
       " 0.0\n",
       " 0.0\n",
       " 0.0\n",
       " 0.0\n",
       " 0.0\n",
       " 0.0\n",
       " 0.0\n",
       " 0.0\n",
       " 0.0\n",
       " 0.0\n",
       " 0.0\n",
       " 0.0\n",
       " 0.0\n",
       " 0.0\n",
       " 0.0\n",
       " 0.0\n",
       " 0.0\n",
       " 0.0\n",
       " 0.0\n",
       " 0.0\n",
       " 0.0\n",
       " 0.0"
      ]
     },
     "execution_count": 301,
     "metadata": {},
     "output_type": "execute_result"
    }
   ],
   "source": [
    "xk\n"
   ]
  },
  {
   "cell_type": "code",
   "execution_count": 222,
   "id": "8cee8b14",
   "metadata": {},
   "outputs": [
    {
     "data": {
      "text/plain": [
       "25-element Vector{Float64}:\n",
       " 1.0\n",
       " 0.0\n",
       " 0.0\n",
       " 0.0\n",
       " 0.0\n",
       " 0.0\n",
       " 0.0\n",
       " 0.0\n",
       " 0.0\n",
       " 0.0\n",
       " 0.0\n",
       " 0.0\n",
       " 0.0\n",
       " 0.0\n",
       " 0.0\n",
       " 0.0\n",
       " 0.0\n",
       " 0.0\n",
       " 0.0\n",
       " 0.0\n",
       " 0.0\n",
       " 0.0\n",
       " 0.0\n",
       " 0.0\n",
       " 0.0"
      ]
     },
     "execution_count": 222,
     "metadata": {},
     "output_type": "execute_result"
    }
   ],
   "source": [
    "yk"
   ]
  },
  {
   "cell_type": "code",
   "execution_count": 223,
   "id": "a2fc12dc-fdb1-4420-aec5-214d711dff10",
   "metadata": {},
   "outputs": [
    {
     "data": {
      "text/plain": [
       "5-element Vector{Float64}:\n",
       " 1.563451996243491\n",
       " 3.0\n",
       " 4.0\n",
       " 2.0\n",
       " 4.0"
      ]
     },
     "execution_count": 223,
     "metadata": {},
     "output_type": "execute_result"
    }
   ],
   "source": [
    "s"
   ]
  },
  {
   "cell_type": "code",
   "execution_count": 220,
   "id": "61a5a341-af7f-4929-8a8a-f681f3a77875",
   "metadata": {},
   "outputs": [
    {
     "data": {
      "text/plain": [
       "tech_roadmap_integral (generic function with 1 method)"
      ]
     },
     "execution_count": 220,
     "metadata": {},
     "output_type": "execute_result"
    }
   ],
   "source": [
    "function tech_roadmap_integral()\n",
    "    \n",
    "    rdmap= Model(BARON.Optimizer)\n",
    "    set_optimizer_attribute(rdmap, \"MaxTime\", 2500)\n",
    "    @variable(rdmap,yk[k=1:nrow(compromise)],Bin)\n",
    "    @variable(rdmap,0 ≤ tk[k=1:nrow(compromise)] ≤ 50)\n",
    "    @variable(rdmap,0 ≤ xk[k=1:nrow(compromise)] ≤ 1)\n",
    "    @variable(rdmap,yi[i=1:nrow(innovations)],Bin)\n",
    "    @variable(rdmap,0 ≤ ti[i=1:nrow(innovations)] ≤ 50)\n",
    "    @variable(rdmap, s[i=1:nrow(innovations)] )\n",
    "    \n",
    "    @variable(rdmap, co2_2050 ≥ 0)\n",
    "    @variable(rdmap, co2_tot ≥ 0)\n",
    "    @variable(rdmap, 0≤ cost_inn)\n",
    "    \n",
    "    @constraint(rdmap, [i=1], sum(yk[k] for k=1:mapki[i,2])==yi[i])\n",
    "    @constraint(rdmap, [i=2:nrow(mapki)], sum(yk[k] for k=mapki[i-1,2]:mapki[i,2])==yi[i])\n",
    "    \n",
    "    @constraint(rdmap, [i=1], ti[i] ≤ sum(tk[k] for k=1:mapki[i,2]))\n",
    "    @constraint(rdmap, [i=2:nrow(mapki)], ti[i] ≤ sum(tk[k] for k=mapki[i-1,2]:mapki[i,2]))\n",
    "    \n",
    "    @constraint(rdmap, [i=1:nrow(mapki)], 50*yi[i] ≥ ti[i])\n",
    "    @constraint(rdmap, [k=1:nrow(compromise)], 50*yk[k] ≥ tk[k])\n",
    "    \n",
    "    @constraint(rdmap, [k=1:nrow(compromise)], yk[k] ≥ xk[k])\n",
    "    @constraint(rdmap, sum(xk[k] for k in 1:nrow(compromise)) ≤ 1) \n",
    "    \n",
    "    \n",
    "    @constraint(rdmap, co2_2050==sum(xk[k]*compromise[k,3] for k in 1:nrow(compromise))\n",
    "        + (1-sum(xk[k] for k in 1:nrow(compromise)))*initial[1,3])\n",
    "    \n",
    "    \n",
    "    @variable(rdmap, eig_dec0[r=1:5,c=1,i=1:nrow(innovations)])\n",
    "    @variable(rdmap, eig_dec1[r=1:5,c=1:5,i=1:nrow(innovations)])\n",
    "    @variable(rdmap, eig_dec2[r=1:5,c=1:5,i=1:nrow(innovations)])\n",
    "    @variable(rdmap, eig_dec3[r=1,c=1:5,i=1:nrow(innovations)])\n",
    "    \n",
    "    @NLconstraint(rdmap,[r=1:5,i=1:nrow(innovations)],eig_dec0[r,1,i]==exp(d[r,1,i]*ti[i]))\n",
    "    \n",
    "    @NLconstraint(rdmap, [r=1:5,c=1:5,i=1:nrow(innovations)],eig_dec1[r,c,i]==(eig_dec0[r,1,i])*ainv[r,c,i])\n",
    "\n",
    "    \n",
    "    for r=1:5\n",
    "        @NLconstraint(rdmap, [c=1:5,i=1:nrow(innovations)],eig_dec2[r,c,i]==sum(a[r,c1,i]*eig_dec1[c1,c,i] for c1 in 1:5))\n",
    "    end\n",
    "    \n",
    "    @NLconstraint(rdmap,[c=1:5,i=1:nrow(innovations)],eig_dec3[1,c,i]==sum(s0[1,r,i]*eig_dec2[r,c,i] for r in 1:5))\n",
    "\n",
    "    #@constraint(rdmap, sum(ti[i] for i in 1:nrow(innovations))≥ 10)\n",
    "    #@NLparameter(rdmap, q[i=1:nrow(innovations)]==0)\n",
    "    #@NLconstraint(rdmap, [i=1:nrow(innovations)], s[i]==sum([1 2 3 4 5].*((s0[:,:,i]*a[:,:,i]).*(exp.(d[:,:,i]*ti[i]))'*ainv[:,:,i])[ind] for ind in 1:5))\n",
    "    @NLconstraint(rdmap, [i=1:nrow(innovations)], s[i]==sum(rl_vals[c]*eig_dec3[1,c,i] for c in 1:5))  \n",
    "    #@constraint(rdmap, [i=1:nrow(innovations)], s[i]==s0[i])\n",
    "\n",
    "    #@NLconstraint(rdmap,yi[2]==0)\n",
    "    \n",
    "    @NLconstraint(rdmap, co2_tot == 50*initial[1,3]-sum((50-tk[k])*xk[k]*(initial[1,3]-compromise[k,3]) for k in 1:nrow(compromise)))\n",
    "    \n",
    "    @constraint(rdmap, ti[1]  ≥ 1)\n",
    "    \n",
    "    @constraint(rdmap, co2_2050 ≤ 44)\n",
    "    #@NLconstraint(rdmap, cost_inn == sum(ci[i]*(yi[i]*(5-s[i])*0.968^(-1*ti[i])) for i in 1:nrow(innovations)))\n",
    "    #@NLobjective(rdmap,Min, cost_inn)\n",
    "    \n",
    "    @variable(rdmap,pw[i=1:nrow(innovations),p=3:ncol(inn_xrang)],Bin)\n",
    "    @variable(rdmap,pwb[i=1:nrow(innovations),p=3:ncol(inn_xrang),1:2],Bin)\n",
    "    \n",
    "    for p in 3:nrow(inn_xrang)\n",
    "        @constraint(rdmap,[i=1:nrow(innovations)],pw[i,p] ≥ pwb[i,p,1]+pwb[i,p,2]-1)\n",
    "        @constraint(rdmap,[i=1:nrow(innovations)],pwb[i,p,1] ≥ ti[i]-inn_xrang[i,p])\n",
    "        @constraint(rdmap,[i=1:nrow(innovations)],pwb[i,p,1] ≥ ti[i]-inn_xrang[i,p])\n",
    "    end\n",
    "        \n",
    "    \n",
    "    @NLconstraint(rdmap, cost_inn == sum(ci[i]*(yi[i]*\n",
    "                (sum(pw[i,p]*(inn_reg[i,2*p-3]+inn_reg[i,2*p-2]*ti[i]) for p in 1:ncol(inn_xrang)))) for i in 1:nrow(innovations)))\n",
    "    \n",
    "    \n",
    "    @variable(rdmap, obj_val )\n",
    "    @NLconstraint(rdmap, obj_val == 40*0.001*co2_tot+cost_inn)\n",
    "    @NLobjective(rdmap,Min, obj_val)\n",
    "    \n",
    "    optimize!(rdmap)\n",
    "    return JuMP.value.(yk), JuMP.value.(tk), JuMP.value.(xk), JuMP.value.(yi), JuMP.value.(ti), JuMP.value.(s), JuMP.value.(co2_2050), JuMP.value.(cost_inn), JuMP.value.(co2_tot)\n",
    "end\n",
    "\n",
    "\n"
   ]
  },
  {
   "cell_type": "code",
   "execution_count": 221,
   "id": "b48c68ed-ebb7-4ace-9096-f9473fc0e40c",
   "metadata": {},
   "outputs": [
    {
     "ename": "LoadError",
     "evalue": "KeyError: key 1 not found",
     "output_type": "error",
     "traceback": [
      "KeyError: key 1 not found",
      "",
      "Stacktrace:",
      "  [1] getindex",
      "    @ ./dict.jl:482 [inlined]",
      "  [2] lookup_index",
      "    @ ~/.julia/packages/JuMP/qhoVb/src/Containers/DenseAxisArray.jl:140 [inlined]",
      "  [3] _to_index_tuple (repeats 2 times)",
      "    @ ~/.julia/packages/JuMP/qhoVb/src/Containers/DenseAxisArray.jl:149 [inlined]",
      "  [4] to_index",
      "    @ ~/.julia/packages/JuMP/qhoVb/src/Containers/DenseAxisArray.jl:167 [inlined]",
      "  [5] getindex(::JuMP.Containers.DenseAxisArray{VariableRef, 2, Tuple{Base.OneTo{Int64}, UnitRange{Int64}}, Tuple{Dict{Int64, Int64}, Dict{Int64, Int64}}}, ::Int64, ::Int64)",
      "    @ JuMP.Containers ~/.julia/packages/JuMP/qhoVb/src/Containers/DenseAxisArray.jl:182",
      "  [6] macro expansion",
      "    @ ~/.julia/packages/JuMP/qhoVb/src/parse_nlp.jl:247 [inlined]",
      "  [7] macro expansion",
      "    @ ~/.julia/packages/JuMP/qhoVb/src/macros.jl:1421 [inlined]",
      "  [8] tech_roadmap_integral()",
      "    @ Main ./In[220]:75",
      "  [9] top-level scope",
      "    @ In[221]:1",
      " [10] eval",
      "    @ ./boot.jl:360 [inlined]",
      " [11] include_string(mapexpr::typeof(REPL.softscope), mod::Module, code::String, filename::String)",
      "    @ Base ./loading.jl:1116"
     ]
    }
   ],
   "source": [
    "yk, tk, xk, yi, ti, s, co2, cost1, co2tot=tech_roadmap_integral()\n",
    "yi\n"
   ]
  },
  {
   "cell_type": "code",
   "execution_count": 71,
   "id": "5b03a9e5-b92c-4979-ae14-3ccd2f27c37f",
   "metadata": {},
   "outputs": [
    {
     "data": {
      "text/plain": [
       "5-element Vector{Float64}:\n",
       " 2.499999999990322\n",
       " 0.0\n",
       " 0.0\n",
       " 0.0\n",
       " 0.0"
      ]
     },
     "execution_count": 71,
     "metadata": {},
     "output_type": "execute_result"
    }
   ],
   "source": [
    "ti"
   ]
  },
  {
   "cell_type": "markdown",
   "id": "c946f2d8",
   "metadata": {},
   "source": [
    "## Additional functions"
   ]
  },
  {
   "cell_type": "code",
   "execution_count": 265,
   "id": "78be51c0",
   "metadata": {},
   "outputs": [
    {
     "data": {
      "text/plain": [
       "0.3742059960635462"
      ]
     },
     "execution_count": 265,
     "metadata": {},
     "output_type": "execute_result"
    }
   ],
   "source": [
    "q=zeros(5,5,nrow(innovations))\n",
    "a=zeros(5,5,nrow(innovations))\n",
    "ainv=zeros(5,5,nrow(innovations))\n",
    "d=zeros(5,1,nrow(innovations))\n",
    "s0=zeros(1,5,nrow(innovations))\n",
    "for i in 1:nrow(innovations)\n",
    "    q[:,:,i]=round.(get_rate_eig_mat(i)[1],sigdigits=3)\n",
    "    a[:,:,i]=(get_rate_eig_mat(i)[2])\n",
    "    d[:,:,i]=round.(get_rate_eig_mat(i)[3],sigdigits=3)\n",
    "    ainv[:,:,i]=round.(inv(get_rate_eig_mat(i)[2]),sigdigits=3)\n",
    "    s0[1,rl[i],i]=1\n",
    "end\n",
    "rl_vals=[1 2 3 4 5]\n",
    "\n",
    "function get_latest(i,t)\n",
    "    e0=zeros(5,1,i)\n",
    "    e1=zeros(5,5,i)\n",
    "    e2=zeros(5,5,i)\n",
    "    e3=zeros(1,5,i)\n",
    "    for r in 1:5\n",
    "        e0[r,1,i]=exp(d[r,1,i]*t)\n",
    "    end\n",
    "\n",
    "    for r in 1:5\n",
    "        for c in 1:5\n",
    "            e1[r,c,i]=e0[r,1,i]*ainv[r,c,i]\n",
    "        end\n",
    "    end\n",
    "\n",
    "    for r in 1:5\n",
    "        for c in 1:5\n",
    "            e2[r,c,i]=sum(a[r,c1,i]*e1[c1,c,i] for c1 in 1:5)\n",
    "        end\n",
    "    end\n",
    "\n",
    "    for c in 1:5\n",
    "        e3[1,c,i]=sum(s0[1,r,i]*e2[r,c,i] for r in 1:5)\n",
    "    end\n",
    "\n",
    "\n",
    "    e4=sum(rl_vals[c]*e3[1,c,i] for c in 1:5)\n",
    "\n",
    "    #rl_vals*([0 1 0 0 0]*a[:,:,1]*Diagonal(round.(exp.(get_new2(1,t)),sigdigits=3))*get_new3(1,t))'\n",
    "    return 5-e4\n",
    "end\n",
    "\n",
    "get_latest(1,50)\n",
    "#rl_vals*([0 1 0 0 0]*a[:,:,1]*Diagonal(round.(exp.(get_new2(1,t)),sigdigits=3))*get_new3(1,t))'"
   ]
  },
  {
   "cell_type": "code",
   "execution_count": 266,
   "id": "ead4a5d7",
   "metadata": {},
   "outputs": [
    {
     "data": {
      "image/svg+xml": [
       "<?xml version=\"1.0\" encoding=\"utf-8\"?>\n",
       "<svg xmlns=\"http://www.w3.org/2000/svg\" xmlns:xlink=\"http://www.w3.org/1999/xlink\" width=\"600\" height=\"400\" viewBox=\"0 0 2400 1600\">\n",
       "<defs>\n",
       "  <clipPath id=\"clip390\">\n",
       "    <rect x=\"0\" y=\"0\" width=\"2400\" height=\"1600\"/>\n",
       "  </clipPath>\n",
       "</defs>\n",
       "<path clip-path=\"url(#clip390)\" d=\"\n",
       "M0 1600 L2400 1600 L2400 0 L0 0  Z\n",
       "  \" fill=\"#ffffff\" fill-rule=\"evenodd\" fill-opacity=\"1\"/>\n",
       "<defs>\n",
       "  <clipPath id=\"clip391\">\n",
       "    <rect x=\"480\" y=\"0\" width=\"1681\" height=\"1600\"/>\n",
       "  </clipPath>\n",
       "</defs>\n",
       "<path clip-path=\"url(#clip390)\" d=\"\n",
       "M175.445 1423.18 L2352.76 1423.18 L2352.76 123.472 L175.445 123.472  Z\n",
       "  \" fill=\"#ffffff\" fill-rule=\"evenodd\" fill-opacity=\"1\"/>\n",
       "<defs>\n",
       "  <clipPath id=\"clip392\">\n",
       "    <rect x=\"175\" y=\"123\" width=\"2178\" height=\"1301\"/>\n",
       "  </clipPath>\n",
       "</defs>\n",
       "<polyline clip-path=\"url(#clip392)\" style=\"stroke:#000000; stroke-linecap:butt; stroke-linejoin:round; stroke-width:2; stroke-opacity:0.1; fill:none\" points=\"\n",
       "  195.147,1423.18 195.147,123.472 \n",
       "  \"/>\n",
       "<polyline clip-path=\"url(#clip392)\" style=\"stroke:#000000; stroke-linecap:butt; stroke-linejoin:round; stroke-width:2; stroke-opacity:0.1; fill:none\" points=\"\n",
       "  614.345,1423.18 614.345,123.472 \n",
       "  \"/>\n",
       "<polyline clip-path=\"url(#clip392)\" style=\"stroke:#000000; stroke-linecap:butt; stroke-linejoin:round; stroke-width:2; stroke-opacity:0.1; fill:none\" points=\"\n",
       "  1033.54,1423.18 1033.54,123.472 \n",
       "  \"/>\n",
       "<polyline clip-path=\"url(#clip392)\" style=\"stroke:#000000; stroke-linecap:butt; stroke-linejoin:round; stroke-width:2; stroke-opacity:0.1; fill:none\" points=\"\n",
       "  1452.74,1423.18 1452.74,123.472 \n",
       "  \"/>\n",
       "<polyline clip-path=\"url(#clip392)\" style=\"stroke:#000000; stroke-linecap:butt; stroke-linejoin:round; stroke-width:2; stroke-opacity:0.1; fill:none\" points=\"\n",
       "  1871.94,1423.18 1871.94,123.472 \n",
       "  \"/>\n",
       "<polyline clip-path=\"url(#clip392)\" style=\"stroke:#000000; stroke-linecap:butt; stroke-linejoin:round; stroke-width:2; stroke-opacity:0.1; fill:none\" points=\"\n",
       "  2291.13,1423.18 2291.13,123.472 \n",
       "  \"/>\n",
       "<polyline clip-path=\"url(#clip390)\" style=\"stroke:#000000; stroke-linecap:butt; stroke-linejoin:round; stroke-width:4; stroke-opacity:1; fill:none\" points=\"\n",
       "  175.445,1423.18 2352.76,1423.18 \n",
       "  \"/>\n",
       "<polyline clip-path=\"url(#clip390)\" style=\"stroke:#000000; stroke-linecap:butt; stroke-linejoin:round; stroke-width:4; stroke-opacity:1; fill:none\" points=\"\n",
       "  195.147,1423.18 195.147,1404.28 \n",
       "  \"/>\n",
       "<polyline clip-path=\"url(#clip390)\" style=\"stroke:#000000; stroke-linecap:butt; stroke-linejoin:round; stroke-width:4; stroke-opacity:1; fill:none\" points=\"\n",
       "  614.345,1423.18 614.345,1404.28 \n",
       "  \"/>\n",
       "<polyline clip-path=\"url(#clip390)\" style=\"stroke:#000000; stroke-linecap:butt; stroke-linejoin:round; stroke-width:4; stroke-opacity:1; fill:none\" points=\"\n",
       "  1033.54,1423.18 1033.54,1404.28 \n",
       "  \"/>\n",
       "<polyline clip-path=\"url(#clip390)\" style=\"stroke:#000000; stroke-linecap:butt; stroke-linejoin:round; stroke-width:4; stroke-opacity:1; fill:none\" points=\"\n",
       "  1452.74,1423.18 1452.74,1404.28 \n",
       "  \"/>\n",
       "<polyline clip-path=\"url(#clip390)\" style=\"stroke:#000000; stroke-linecap:butt; stroke-linejoin:round; stroke-width:4; stroke-opacity:1; fill:none\" points=\"\n",
       "  1871.94,1423.18 1871.94,1404.28 \n",
       "  \"/>\n",
       "<polyline clip-path=\"url(#clip390)\" style=\"stroke:#000000; stroke-linecap:butt; stroke-linejoin:round; stroke-width:4; stroke-opacity:1; fill:none\" points=\"\n",
       "  2291.13,1423.18 2291.13,1404.28 \n",
       "  \"/>\n",
       "<path clip-path=\"url(#clip390)\" d=\"M195.147 1454.1 Q191.536 1454.1 189.708 1457.66 Q187.902 1461.2 187.902 1468.33 Q187.902 1475.44 189.708 1479.01 Q191.536 1482.55 195.147 1482.55 Q198.782 1482.55 200.587 1479.01 Q202.416 1475.44 202.416 1468.33 Q202.416 1461.2 200.587 1457.66 Q198.782 1454.1 195.147 1454.1 M195.147 1450.39 Q200.958 1450.39 204.013 1455 Q207.092 1459.58 207.092 1468.33 Q207.092 1477.06 204.013 1481.67 Q200.958 1486.25 195.147 1486.25 Q189.337 1486.25 186.259 1481.67 Q183.203 1477.06 183.203 1468.33 Q183.203 1459.58 186.259 1455 Q189.337 1450.39 195.147 1450.39 Z\" fill=\"#000000\" fill-rule=\"evenodd\" fill-opacity=\"1\" /><path clip-path=\"url(#clip390)\" d=\"M589.032 1481.64 L596.671 1481.64 L596.671 1455.28 L588.361 1456.95 L588.361 1452.69 L596.625 1451.02 L601.301 1451.02 L601.301 1481.64 L608.94 1481.64 L608.94 1485.58 L589.032 1485.58 L589.032 1481.64 Z\" fill=\"#000000\" fill-rule=\"evenodd\" fill-opacity=\"1\" /><path clip-path=\"url(#clip390)\" d=\"M628.384 1454.1 Q624.773 1454.1 622.944 1457.66 Q621.139 1461.2 621.139 1468.33 Q621.139 1475.44 622.944 1479.01 Q624.773 1482.55 628.384 1482.55 Q632.018 1482.55 633.824 1479.01 Q635.653 1475.44 635.653 1468.33 Q635.653 1461.2 633.824 1457.66 Q632.018 1454.1 628.384 1454.1 M628.384 1450.39 Q634.194 1450.39 637.25 1455 Q640.328 1459.58 640.328 1468.33 Q640.328 1477.06 637.25 1481.67 Q634.194 1486.25 628.384 1486.25 Q622.574 1486.25 619.495 1481.67 Q616.44 1477.06 616.44 1468.33 Q616.44 1459.58 619.495 1455 Q622.574 1450.39 628.384 1450.39 Z\" fill=\"#000000\" fill-rule=\"evenodd\" fill-opacity=\"1\" /><path clip-path=\"url(#clip390)\" d=\"M1012.32 1481.64 L1028.63 1481.64 L1028.63 1485.58 L1006.69 1485.58 L1006.69 1481.64 Q1009.35 1478.89 1013.94 1474.26 Q1018.54 1469.61 1019.72 1468.27 Q1021.97 1465.74 1022.85 1464.01 Q1023.75 1462.25 1023.75 1460.56 Q1023.75 1457.8 1021.81 1456.07 Q1019.88 1454.33 1016.78 1454.33 Q1014.58 1454.33 1012.13 1455.09 Q1009.7 1455.86 1006.92 1457.41 L1006.92 1452.69 Q1009.75 1451.55 1012.2 1450.97 Q1014.65 1450.39 1016.69 1450.39 Q1022.06 1450.39 1025.26 1453.08 Q1028.45 1455.77 1028.45 1460.26 Q1028.45 1462.39 1027.64 1464.31 Q1026.85 1466.2 1024.75 1468.8 Q1024.17 1469.47 1021.07 1472.69 Q1017.96 1475.88 1012.32 1481.64 Z\" fill=\"#000000\" fill-rule=\"evenodd\" fill-opacity=\"1\" /><path clip-path=\"url(#clip390)\" d=\"M1048.45 1454.1 Q1044.84 1454.1 1043.01 1457.66 Q1041.2 1461.2 1041.2 1468.33 Q1041.2 1475.44 1043.01 1479.01 Q1044.84 1482.55 1048.45 1482.55 Q1052.08 1482.55 1053.89 1479.01 Q1055.72 1475.44 1055.72 1468.33 Q1055.72 1461.2 1053.89 1457.66 Q1052.08 1454.1 1048.45 1454.1 M1048.45 1450.39 Q1054.26 1450.39 1057.32 1455 Q1060.39 1459.58 1060.39 1468.33 Q1060.39 1477.06 1057.32 1481.67 Q1054.26 1486.25 1048.45 1486.25 Q1042.64 1486.25 1039.56 1481.67 Q1036.5 1477.06 1036.5 1468.33 Q1036.5 1459.58 1039.56 1455 Q1042.64 1450.39 1048.45 1450.39 Z\" fill=\"#000000\" fill-rule=\"evenodd\" fill-opacity=\"1\" /><path clip-path=\"url(#clip390)\" d=\"M1441.58 1466.95 Q1444.94 1467.66 1446.81 1469.93 Q1448.71 1472.2 1448.71 1475.53 Q1448.71 1480.65 1445.19 1483.45 Q1441.67 1486.25 1435.19 1486.25 Q1433.02 1486.25 1430.7 1485.81 Q1428.41 1485.39 1425.96 1484.54 L1425.96 1480.02 Q1427.9 1481.16 1430.22 1481.74 Q1432.53 1482.32 1435.05 1482.32 Q1439.45 1482.32 1441.74 1480.58 Q1444.06 1478.84 1444.06 1475.53 Q1444.06 1472.48 1441.91 1470.77 Q1439.78 1469.03 1435.96 1469.03 L1431.93 1469.03 L1431.93 1465.19 L1436.14 1465.19 Q1439.59 1465.19 1441.42 1463.82 Q1443.25 1462.43 1443.25 1459.84 Q1443.25 1457.18 1441.35 1455.77 Q1439.48 1454.33 1435.96 1454.33 Q1434.04 1454.33 1431.84 1454.75 Q1429.64 1455.16 1427 1456.04 L1427 1451.88 Q1429.66 1451.14 1431.98 1450.77 Q1434.31 1450.39 1436.37 1450.39 Q1441.7 1450.39 1444.8 1452.83 Q1447.9 1455.23 1447.9 1459.35 Q1447.9 1462.22 1446.26 1464.21 Q1444.61 1466.18 1441.58 1466.95 Z\" fill=\"#000000\" fill-rule=\"evenodd\" fill-opacity=\"1\" /><path clip-path=\"url(#clip390)\" d=\"M1467.58 1454.1 Q1463.97 1454.1 1462.14 1457.66 Q1460.33 1461.2 1460.33 1468.33 Q1460.33 1475.44 1462.14 1479.01 Q1463.97 1482.55 1467.58 1482.55 Q1471.21 1482.55 1473.02 1479.01 Q1474.85 1475.44 1474.85 1468.33 Q1474.85 1461.2 1473.02 1457.66 Q1471.21 1454.1 1467.58 1454.1 M1467.58 1450.39 Q1473.39 1450.39 1476.44 1455 Q1479.52 1459.58 1479.52 1468.33 Q1479.52 1477.06 1476.44 1481.67 Q1473.39 1486.25 1467.58 1486.25 Q1461.77 1486.25 1458.69 1481.67 Q1455.63 1477.06 1455.63 1468.33 Q1455.63 1459.58 1458.69 1455 Q1461.77 1450.39 1467.58 1450.39 Z\" fill=\"#000000\" fill-rule=\"evenodd\" fill-opacity=\"1\" /><path clip-path=\"url(#clip390)\" d=\"M1860.11 1455.09 L1848.3 1473.54 L1860.11 1473.54 L1860.11 1455.09 M1858.88 1451.02 L1864.76 1451.02 L1864.76 1473.54 L1869.69 1473.54 L1869.69 1477.43 L1864.76 1477.43 L1864.76 1485.58 L1860.11 1485.58 L1860.11 1477.43 L1844.51 1477.43 L1844.51 1472.92 L1858.88 1451.02 Z\" fill=\"#000000\" fill-rule=\"evenodd\" fill-opacity=\"1\" /><path clip-path=\"url(#clip390)\" d=\"M1887.42 1454.1 Q1883.81 1454.1 1881.98 1457.66 Q1880.18 1461.2 1880.18 1468.33 Q1880.18 1475.44 1881.98 1479.01 Q1883.81 1482.55 1887.42 1482.55 Q1891.06 1482.55 1892.86 1479.01 Q1894.69 1475.44 1894.69 1468.33 Q1894.69 1461.2 1892.86 1457.66 Q1891.06 1454.1 1887.42 1454.1 M1887.42 1450.39 Q1893.23 1450.39 1896.29 1455 Q1899.37 1459.58 1899.37 1468.33 Q1899.37 1477.06 1896.29 1481.67 Q1893.23 1486.25 1887.42 1486.25 Q1881.61 1486.25 1878.53 1481.67 Q1875.48 1477.06 1875.48 1468.33 Q1875.48 1459.58 1878.53 1455 Q1881.61 1450.39 1887.42 1450.39 Z\" fill=\"#000000\" fill-rule=\"evenodd\" fill-opacity=\"1\" /><path clip-path=\"url(#clip390)\" d=\"M2265.83 1451.02 L2284.19 1451.02 L2284.19 1454.96 L2270.12 1454.96 L2270.12 1463.43 Q2271.13 1463.08 2272.15 1462.92 Q2273.17 1462.73 2274.19 1462.73 Q2279.98 1462.73 2283.36 1465.9 Q2286.74 1469.08 2286.74 1474.49 Q2286.74 1480.07 2283.26 1483.17 Q2279.79 1486.25 2273.47 1486.25 Q2271.3 1486.25 2269.03 1485.88 Q2266.78 1485.51 2264.37 1484.77 L2264.37 1480.07 Q2266.46 1481.2 2268.68 1481.76 Q2270.9 1482.32 2273.38 1482.32 Q2277.38 1482.32 2279.72 1480.21 Q2282.06 1478.1 2282.06 1474.49 Q2282.06 1470.88 2279.72 1468.77 Q2277.38 1466.67 2273.38 1466.67 Q2271.5 1466.67 2269.63 1467.08 Q2267.78 1467.5 2265.83 1468.38 L2265.83 1451.02 Z\" fill=\"#000000\" fill-rule=\"evenodd\" fill-opacity=\"1\" /><path clip-path=\"url(#clip390)\" d=\"M2305.95 1454.1 Q2302.34 1454.1 2300.51 1457.66 Q2298.7 1461.2 2298.7 1468.33 Q2298.7 1475.44 2300.51 1479.01 Q2302.34 1482.55 2305.95 1482.55 Q2309.58 1482.55 2311.39 1479.01 Q2313.22 1475.44 2313.22 1468.33 Q2313.22 1461.2 2311.39 1457.66 Q2309.58 1454.1 2305.95 1454.1 M2305.95 1450.39 Q2311.76 1450.39 2314.81 1455 Q2317.89 1459.58 2317.89 1468.33 Q2317.89 1477.06 2314.81 1481.67 Q2311.76 1486.25 2305.95 1486.25 Q2300.14 1486.25 2297.06 1481.67 Q2294 1477.06 2294 1468.33 Q2294 1459.58 2297.06 1455 Q2300.14 1450.39 2305.95 1450.39 Z\" fill=\"#000000\" fill-rule=\"evenodd\" fill-opacity=\"1\" /><path clip-path=\"url(#clip390)\" d=\"M1101.58 1520.52 L1141.78 1520.52 L1141.78 1525.93 L1124.91 1525.93 L1124.91 1568.04 L1118.45 1568.04 L1118.45 1525.93 L1101.58 1525.93 L1101.58 1520.52 Z\" fill=\"#000000\" fill-rule=\"evenodd\" fill-opacity=\"1\" /><path clip-path=\"url(#clip390)\" d=\"M1145.73 1532.4 L1151.59 1532.4 L1151.59 1568.04 L1145.73 1568.04 L1145.73 1532.4 M1145.73 1518.52 L1151.59 1518.52 L1151.59 1525.93 L1145.73 1525.93 L1145.73 1518.52 Z\" fill=\"#000000\" fill-rule=\"evenodd\" fill-opacity=\"1\" /><path clip-path=\"url(#clip390)\" d=\"M1191.6 1539.24 Q1193.79 1535.29 1196.85 1533.41 Q1199.9 1531.54 1204.04 1531.54 Q1209.61 1531.54 1212.63 1535.45 Q1215.66 1539.33 1215.66 1546.53 L1215.66 1568.04 L1209.77 1568.04 L1209.77 1546.72 Q1209.77 1541.59 1207.96 1539.11 Q1206.14 1536.63 1202.42 1536.63 Q1197.87 1536.63 1195.22 1539.65 Q1192.58 1542.68 1192.58 1547.9 L1192.58 1568.04 L1186.69 1568.04 L1186.69 1546.72 Q1186.69 1541.56 1184.88 1539.11 Q1183.07 1536.63 1179.28 1536.63 Q1174.79 1536.63 1172.15 1539.68 Q1169.51 1542.71 1169.51 1547.9 L1169.51 1568.04 L1163.62 1568.04 L1163.62 1532.4 L1169.51 1532.4 L1169.51 1537.93 Q1171.51 1534.66 1174.31 1533.1 Q1177.11 1531.54 1180.96 1531.54 Q1184.85 1531.54 1187.55 1533.51 Q1190.29 1535.48 1191.6 1539.24 Z\" fill=\"#000000\" fill-rule=\"evenodd\" fill-opacity=\"1\" /><path clip-path=\"url(#clip390)\" d=\"M1257.83 1548.76 L1257.83 1551.62 L1230.9 1551.62 Q1231.29 1557.67 1234.53 1560.85 Q1237.81 1564 1243.63 1564 Q1247.01 1564 1250.16 1563.17 Q1253.34 1562.35 1256.46 1560.69 L1256.46 1566.23 Q1253.31 1567.57 1250 1568.27 Q1246.69 1568.97 1243.28 1568.97 Q1234.75 1568.97 1229.76 1564 Q1224.79 1559.04 1224.79 1550.57 Q1224.79 1541.82 1229.5 1536.69 Q1234.25 1531.54 1242.27 1531.54 Q1249.46 1531.54 1253.63 1536.18 Q1257.83 1540.8 1257.83 1548.76 M1251.97 1547.04 Q1251.91 1542.23 1249.27 1539.37 Q1246.66 1536.5 1242.33 1536.5 Q1237.43 1536.5 1234.47 1539.27 Q1231.54 1542.04 1231.09 1547.07 L1251.97 1547.04 Z\" fill=\"#000000\" fill-rule=\"evenodd\" fill-opacity=\"1\" /><path clip-path=\"url(#clip390)\" d=\"M1302.23 1518.58 Q1297.97 1525.9 1295.9 1533.06 Q1293.83 1540.23 1293.83 1547.58 Q1293.83 1554.93 1295.9 1562.16 Q1298 1569.35 1302.23 1576.64 L1297.14 1576.64 Q1292.36 1569.16 1289.98 1561.93 Q1287.62 1554.71 1287.62 1547.58 Q1287.62 1540.48 1289.98 1533.29 Q1292.33 1526.09 1297.14 1518.58 L1302.23 1518.58 Z\" fill=\"#000000\" fill-rule=\"evenodd\" fill-opacity=\"1\" /><path clip-path=\"url(#clip390)\" d=\"M1328.43 1571.35 Q1325.94 1577.72 1323.59 1579.66 Q1321.23 1581.6 1317.29 1581.6 L1312.61 1581.6 L1312.61 1576.7 L1316.04 1576.7 Q1318.46 1576.7 1319.8 1575.56 Q1321.14 1574.41 1322.76 1570.14 L1323.81 1567.47 L1309.39 1532.4 L1315.6 1532.4 L1326.74 1560.28 L1337.88 1532.4 L1344.09 1532.4 L1328.43 1571.35 Z\" fill=\"#000000\" fill-rule=\"evenodd\" fill-opacity=\"1\" /><path clip-path=\"url(#clip390)\" d=\"M1372.83 1537.87 Q1371.84 1537.3 1370.66 1537.04 Q1369.52 1536.76 1368.12 1536.76 Q1363.15 1536.76 1360.48 1540 Q1357.84 1543.22 1357.84 1549.27 L1357.84 1568.04 L1351.95 1568.04 L1351.95 1532.4 L1357.84 1532.4 L1357.84 1537.93 Q1359.68 1534.69 1362.64 1533.13 Q1365.6 1531.54 1369.83 1531.54 Q1370.44 1531.54 1371.17 1531.63 Q1371.9 1531.7 1372.79 1531.85 L1372.83 1537.87 Z\" fill=\"#000000\" fill-rule=\"evenodd\" fill-opacity=\"1\" /><path clip-path=\"url(#clip390)\" d=\"M1401.7 1533.45 L1401.7 1538.98 Q1399.21 1537.71 1396.54 1537.07 Q1393.87 1536.44 1391 1536.44 Q1386.64 1536.44 1384.44 1537.77 Q1382.28 1539.11 1382.28 1541.79 Q1382.28 1543.82 1383.84 1545 Q1385.4 1546.15 1390.11 1547.2 L1392.11 1547.64 Q1398.35 1548.98 1400.96 1551.43 Q1403.61 1553.85 1403.61 1558.21 Q1403.61 1563.17 1399.66 1566.07 Q1395.74 1568.97 1388.87 1568.97 Q1386 1568.97 1382.88 1568.39 Q1379.8 1567.85 1376.36 1566.74 L1376.36 1560.69 Q1379.61 1562.38 1382.76 1563.24 Q1385.91 1564.07 1389 1564.07 Q1393.13 1564.07 1395.36 1562.66 Q1397.59 1561.23 1397.59 1558.65 Q1397.59 1556.27 1395.97 1554.99 Q1394.37 1553.72 1388.93 1552.54 L1386.9 1552.07 Q1381.45 1550.92 1379.03 1548.56 Q1376.61 1546.18 1376.61 1542.04 Q1376.61 1537.01 1380.18 1534.27 Q1383.74 1531.54 1390.3 1531.54 Q1393.55 1531.54 1396.41 1532.01 Q1399.28 1532.49 1401.7 1533.45 Z\" fill=\"#000000\" fill-rule=\"evenodd\" fill-opacity=\"1\" /><path clip-path=\"url(#clip390)\" d=\"M1412.01 1518.58 L1417.1 1518.58 Q1421.87 1526.09 1424.23 1533.29 Q1426.62 1540.48 1426.62 1547.58 Q1426.62 1554.71 1424.23 1561.93 Q1421.87 1569.16 1417.1 1576.64 L1412.01 1576.64 Q1416.24 1569.35 1418.31 1562.16 Q1420.41 1554.93 1420.41 1547.58 Q1420.41 1540.23 1418.31 1533.06 Q1416.24 1525.9 1412.01 1518.58 Z\" fill=\"#000000\" fill-rule=\"evenodd\" fill-opacity=\"1\" /><polyline clip-path=\"url(#clip392)\" style=\"stroke:#000000; stroke-linecap:butt; stroke-linejoin:round; stroke-width:2; stroke-opacity:0.1; fill:none\" points=\"\n",
       "  175.445,1325.12 2352.76,1325.12 \n",
       "  \"/>\n",
       "<polyline clip-path=\"url(#clip392)\" style=\"stroke:#000000; stroke-linecap:butt; stroke-linejoin:round; stroke-width:2; stroke-opacity:0.1; fill:none\" points=\"\n",
       "  175.445,1039.91 2352.76,1039.91 \n",
       "  \"/>\n",
       "<polyline clip-path=\"url(#clip392)\" style=\"stroke:#000000; stroke-linecap:butt; stroke-linejoin:round; stroke-width:2; stroke-opacity:0.1; fill:none\" points=\"\n",
       "  175.445,754.71 2352.76,754.71 \n",
       "  \"/>\n",
       "<polyline clip-path=\"url(#clip392)\" style=\"stroke:#000000; stroke-linecap:butt; stroke-linejoin:round; stroke-width:2; stroke-opacity:0.1; fill:none\" points=\"\n",
       "  175.445,469.506 2352.76,469.506 \n",
       "  \"/>\n",
       "<polyline clip-path=\"url(#clip392)\" style=\"stroke:#000000; stroke-linecap:butt; stroke-linejoin:round; stroke-width:2; stroke-opacity:0.1; fill:none\" points=\"\n",
       "  175.445,184.302 2352.76,184.302 \n",
       "  \"/>\n",
       "<polyline clip-path=\"url(#clip390)\" style=\"stroke:#000000; stroke-linecap:butt; stroke-linejoin:round; stroke-width:4; stroke-opacity:1; fill:none\" points=\"\n",
       "  175.445,1423.18 175.445,123.472 \n",
       "  \"/>\n",
       "<polyline clip-path=\"url(#clip390)\" style=\"stroke:#000000; stroke-linecap:butt; stroke-linejoin:round; stroke-width:4; stroke-opacity:1; fill:none\" points=\"\n",
       "  175.445,1325.12 194.343,1325.12 \n",
       "  \"/>\n",
       "<polyline clip-path=\"url(#clip390)\" style=\"stroke:#000000; stroke-linecap:butt; stroke-linejoin:round; stroke-width:4; stroke-opacity:1; fill:none\" points=\"\n",
       "  175.445,1039.91 194.343,1039.91 \n",
       "  \"/>\n",
       "<polyline clip-path=\"url(#clip390)\" style=\"stroke:#000000; stroke-linecap:butt; stroke-linejoin:round; stroke-width:4; stroke-opacity:1; fill:none\" points=\"\n",
       "  175.445,754.71 194.343,754.71 \n",
       "  \"/>\n",
       "<polyline clip-path=\"url(#clip390)\" style=\"stroke:#000000; stroke-linecap:butt; stroke-linejoin:round; stroke-width:4; stroke-opacity:1; fill:none\" points=\"\n",
       "  175.445,469.506 194.343,469.506 \n",
       "  \"/>\n",
       "<polyline clip-path=\"url(#clip390)\" style=\"stroke:#000000; stroke-linecap:butt; stroke-linejoin:round; stroke-width:4; stroke-opacity:1; fill:none\" points=\"\n",
       "  175.445,184.302 194.343,184.302 \n",
       "  \"/>\n",
       "<path clip-path=\"url(#clip390)\" d=\"M119.538 1338.46 L127.177 1338.46 L127.177 1312.1 L118.867 1313.76 L118.867 1309.5 L127.13 1307.84 L131.806 1307.84 L131.806 1338.46 L139.445 1338.46 L139.445 1342.4 L119.538 1342.4 L119.538 1338.46 Z\" fill=\"#000000\" fill-rule=\"evenodd\" fill-opacity=\"1\" /><path clip-path=\"url(#clip390)\" d=\"M123.126 1053.26 L139.445 1053.26 L139.445 1057.19 L117.501 1057.19 L117.501 1053.26 Q120.163 1050.5 124.746 1045.87 Q129.353 1041.22 130.533 1039.88 Q132.779 1037.36 133.658 1035.62 Q134.561 1033.86 134.561 1032.17 Q134.561 1029.42 132.617 1027.68 Q130.695 1025.94 127.593 1025.94 Q125.394 1025.94 122.941 1026.71 Q120.51 1027.47 117.732 1029.02 L117.732 1024.3 Q120.556 1023.17 123.01 1022.59 Q125.464 1022.01 127.501 1022.01 Q132.871 1022.01 136.066 1024.69 Q139.26 1027.38 139.26 1031.87 Q139.26 1034 138.45 1035.92 Q137.663 1037.82 135.556 1040.41 Q134.978 1041.08 131.876 1044.3 Q128.774 1047.5 123.126 1053.26 Z\" fill=\"#000000\" fill-rule=\"evenodd\" fill-opacity=\"1\" /><path clip-path=\"url(#clip390)\" d=\"M132.316 753.356 Q135.672 754.074 137.547 756.342 Q139.445 758.611 139.445 761.944 Q139.445 767.06 135.927 769.861 Q132.408 772.662 125.927 772.662 Q123.751 772.662 121.436 772.222 Q119.144 771.805 116.691 770.949 L116.691 766.435 Q118.635 767.569 120.95 768.148 Q123.265 768.726 125.788 768.726 Q130.186 768.726 132.478 766.99 Q134.792 765.254 134.792 761.944 Q134.792 758.888 132.64 757.175 Q130.51 755.439 126.691 755.439 L122.663 755.439 L122.663 751.597 L126.876 751.597 Q130.325 751.597 132.154 750.231 Q133.982 748.842 133.982 746.25 Q133.982 743.588 132.084 742.176 Q130.209 740.74 126.691 740.74 Q124.769 740.74 122.57 741.157 Q120.371 741.574 117.732 742.453 L117.732 738.287 Q120.394 737.546 122.709 737.176 Q125.047 736.805 127.107 736.805 Q132.431 736.805 135.533 739.236 Q138.635 741.643 138.635 745.763 Q138.635 748.634 136.992 750.625 Q135.348 752.592 132.316 753.356 Z\" fill=\"#000000\" fill-rule=\"evenodd\" fill-opacity=\"1\" /><path clip-path=\"url(#clip390)\" d=\"M129.862 456.3 L118.056 474.749 L129.862 474.749 L129.862 456.3 M128.635 452.226 L134.515 452.226 L134.515 474.749 L139.445 474.749 L139.445 478.638 L134.515 478.638 L134.515 486.786 L129.862 486.786 L129.862 478.638 L114.26 478.638 L114.26 474.124 L128.635 452.226 Z\" fill=\"#000000\" fill-rule=\"evenodd\" fill-opacity=\"1\" /><path clip-path=\"url(#clip390)\" d=\"M118.543 167.022 L136.899 167.022 L136.899 170.957 L122.825 170.957 L122.825 179.43 Q123.843 179.082 124.862 178.92 Q125.88 178.735 126.899 178.735 Q132.686 178.735 136.066 181.906 Q139.445 185.078 139.445 190.494 Q139.445 196.073 135.973 199.175 Q132.501 202.254 126.181 202.254 Q124.005 202.254 121.737 201.883 Q119.492 201.513 117.084 200.772 L117.084 196.073 Q119.168 197.207 121.39 197.763 Q123.612 198.318 126.089 198.318 Q130.093 198.318 132.431 196.212 Q134.769 194.105 134.769 190.494 Q134.769 186.883 132.431 184.777 Q130.093 182.67 126.089 182.67 Q124.214 182.67 122.339 183.087 Q120.487 183.504 118.543 184.383 L118.543 167.022 Z\" fill=\"#000000\" fill-rule=\"evenodd\" fill-opacity=\"1\" /><path clip-path=\"url(#clip390)\" d=\"M20.8447 934.522 Q20.8447 941.524 26.0645 945.662 Q31.2844 949.767 40.2919 949.767 Q49.2675 949.767 54.4874 945.662 Q59.7073 941.524 59.7073 934.522 Q59.7073 927.519 54.4874 923.445 Q49.2675 919.339 40.2919 919.339 Q31.2844 919.339 26.0645 923.445 Q20.8447 927.519 20.8447 934.522 M15.6248 934.522 Q15.6248 924.527 22.3406 918.544 Q29.0246 912.56 40.2919 912.56 Q51.5274 912.56 58.2432 918.544 Q64.9272 924.527 64.9272 934.522 Q64.9272 944.548 58.2432 950.563 Q51.5592 956.547 40.2919 956.547 Q29.0246 956.547 22.3406 950.563 Q15.6248 944.548 15.6248 934.522 Z\" fill=\"#000000\" fill-rule=\"evenodd\" fill-opacity=\"1\" /><path clip-path=\"url(#clip390)\" d=\"M46.212 877.167 Q39.7508 877.167 36.0905 879.84 Q32.3984 882.482 32.3984 887.129 Q32.3984 891.776 36.0905 894.449 Q39.7508 897.091 46.212 897.091 Q52.6732 897.091 56.3653 894.449 Q60.0256 891.776 60.0256 887.129 Q60.0256 882.482 56.3653 879.84 Q52.6732 877.167 46.212 877.167 M33.7671 897.091 Q30.5842 895.245 29.0564 892.444 Q27.4968 889.612 27.4968 885.697 Q27.4968 879.204 32.6531 875.161 Q37.8093 871.087 46.212 871.087 Q54.6147 871.087 59.771 875.161 Q64.9272 879.204 64.9272 885.697 Q64.9272 889.612 63.3994 892.444 Q61.8398 895.245 58.657 897.091 L64.0042 897.091 L64.0042 902.98 L14.479 902.98 L14.479 897.091 L33.7671 897.091 Z\" fill=\"#000000\" fill-rule=\"evenodd\" fill-opacity=\"1\" /><path clip-path=\"url(#clip390)\" d=\"M28.3562 861.38 L28.3562 855.523 L64.6407 855.523 Q71.452 855.523 74.5076 858.133 Q77.5631 860.711 77.5631 866.472 L77.5631 868.7 L72.5979 868.7 L72.5979 867.141 Q72.5979 863.799 71.0383 862.589 Q69.5105 861.38 64.6407 861.38 L28.3562 861.38 M14.479 861.38 L14.479 855.523 L21.895 855.523 L21.895 861.38 L14.479 861.38 Z\" fill=\"#000000\" fill-rule=\"evenodd\" fill-opacity=\"1\" /><path clip-path=\"url(#clip390)\" d=\"M33.7671 799.091 L14.479 799.091 L14.479 793.235 L64.0042 793.235 L64.0042 799.091 L58.657 799.091 Q61.8398 800.937 63.3994 803.77 Q64.9272 806.571 64.9272 810.518 Q64.9272 816.979 59.771 821.053 Q54.6147 825.095 46.212 825.095 Q37.8093 825.095 32.6531 821.053 Q27.4968 816.979 27.4968 810.518 Q27.4968 806.571 29.0564 803.77 Q30.5842 800.937 33.7671 799.091 M46.212 819.048 Q52.6732 819.048 56.3653 816.406 Q60.0256 813.732 60.0256 809.085 Q60.0256 804.438 56.3653 801.765 Q52.6732 799.091 46.212 799.091 Q39.7508 799.091 36.0905 801.765 Q32.3984 804.438 32.3984 809.085 Q32.3984 813.732 36.0905 816.406 Q39.7508 819.048 46.212 819.048 Z\" fill=\"#000000\" fill-rule=\"evenodd\" fill-opacity=\"1\" /><path clip-path=\"url(#clip390)\" d=\"M32.4621 767.358 Q32.4621 772.069 36.1542 774.806 Q39.8145 777.543 46.212 777.543 Q52.6095 777.543 56.3017 774.838 Q59.9619 772.101 59.9619 767.358 Q59.9619 762.679 56.2698 759.942 Q52.5777 757.205 46.212 757.205 Q39.8781 757.205 36.186 759.942 Q32.4621 762.679 32.4621 767.358 M27.4968 767.358 Q27.4968 759.719 32.4621 755.359 Q37.4273 750.998 46.212 750.998 Q54.9649 750.998 59.9619 755.359 Q64.9272 759.719 64.9272 767.358 Q64.9272 775.029 59.9619 779.389 Q54.9649 783.718 46.212 783.718 Q37.4273 783.718 32.4621 779.389 Q27.4968 775.029 27.4968 767.358 Z\" fill=\"#000000\" fill-rule=\"evenodd\" fill-opacity=\"1\" /><path clip-path=\"url(#clip390)\" d=\"M35.1993 713.536 Q31.2526 711.34 29.3747 708.284 Q27.4968 705.229 27.4968 701.091 Q27.4968 695.521 31.4117 692.497 Q35.2948 689.474 42.4881 689.474 L64.0042 689.474 L64.0042 695.362 L42.679 695.362 Q37.5546 695.362 35.072 697.176 Q32.5894 698.99 32.5894 702.714 Q32.5894 707.266 35.6131 709.908 Q38.6368 712.549 43.8567 712.549 L64.0042 712.549 L64.0042 718.438 L42.679 718.438 Q37.5228 718.438 35.072 720.252 Q32.5894 722.066 32.5894 725.854 Q32.5894 730.342 35.6449 732.983 Q38.6686 735.625 43.8567 735.625 L64.0042 735.625 L64.0042 741.513 L28.3562 741.513 L28.3562 735.625 L33.8944 735.625 Q30.616 733.62 29.0564 730.819 Q27.4968 728.018 27.4968 724.167 Q27.4968 720.284 29.4702 717.578 Q31.4436 714.841 35.1993 713.536 Z\" fill=\"#000000\" fill-rule=\"evenodd\" fill-opacity=\"1\" /><path clip-path=\"url(#clip390)\" d=\"M46.0847 661.592 Q46.0847 668.69 47.7079 671.427 Q49.3312 674.164 53.2461 674.164 Q56.3653 674.164 58.2114 672.127 Q60.0256 670.058 60.0256 666.525 Q60.0256 661.656 56.5881 658.727 Q53.1188 655.767 47.3897 655.767 L46.0847 655.767 L46.0847 661.592 M43.6657 649.911 L64.0042 649.911 L64.0042 655.767 L58.5933 655.767 Q61.8398 657.772 63.3994 660.764 Q64.9272 663.756 64.9272 668.085 Q64.9272 673.559 61.8716 676.806 Q58.7843 680.021 53.6281 680.021 Q47.6125 680.021 44.5569 676.01 Q41.5014 671.968 41.5014 663.979 L41.5014 655.767 L40.9285 655.767 Q36.8862 655.767 34.6901 658.441 Q32.4621 661.083 32.4621 665.889 Q32.4621 668.944 33.1941 671.841 Q33.9262 674.737 35.3903 677.411 L29.9795 677.411 Q28.7381 674.196 28.1334 671.172 Q27.4968 668.149 27.4968 665.284 Q27.4968 657.55 31.5072 653.73 Q35.5176 649.911 43.6657 649.911 Z\" fill=\"#000000\" fill-rule=\"evenodd\" fill-opacity=\"1\" /><path clip-path=\"url(#clip390)\" d=\"M28.3562 637.848 L28.3562 631.991 L64.0042 631.991 L64.0042 637.848 L28.3562 637.848 M14.479 637.848 L14.479 631.991 L21.895 631.991 L21.895 637.848 L14.479 637.848 Z\" fill=\"#000000\" fill-rule=\"evenodd\" fill-opacity=\"1\" /><path clip-path=\"url(#clip390)\" d=\"M42.4881 590.105 L64.0042 590.105 L64.0042 595.961 L42.679 595.961 Q37.6183 595.961 35.1038 597.935 Q32.5894 599.908 32.5894 603.855 Q32.5894 608.597 35.6131 611.335 Q38.6368 614.072 43.8567 614.072 L64.0042 614.072 L64.0042 619.96 L28.3562 619.96 L28.3562 614.072 L33.8944 614.072 Q30.6797 611.971 29.0883 609.138 Q27.4968 606.274 27.4968 602.55 Q27.4968 596.407 31.3163 593.256 Q35.1038 590.105 42.4881 590.105 Z\" fill=\"#000000\" fill-rule=\"evenodd\" fill-opacity=\"1\" /><path clip-path=\"url(#clip390)\" d=\"M303.489 16.7545 L303.489 25.383 Q299.357 21.5346 294.658 19.6307 Q290 17.7268 284.734 17.7268 Q274.363 17.7268 268.854 24.0867 Q263.345 30.4061 263.345 42.3968 Q263.345 54.3469 268.854 60.7069 Q274.363 67.0263 284.734 67.0263 Q290 67.0263 294.658 65.1223 Q299.357 63.2184 303.489 59.3701 L303.489 67.9175 Q299.195 70.8341 294.375 72.2924 Q289.595 73.7508 284.248 73.7508 Q270.515 73.7508 262.616 65.3654 Q254.716 56.9395 254.716 42.3968 Q254.716 27.8135 262.616 19.4281 Q270.515 11.0023 284.248 11.0023 Q289.676 11.0023 294.456 12.4606 Q299.276 13.8784 303.489 16.7545 Z\" fill=\"#000000\" fill-rule=\"evenodd\" fill-opacity=\"1\" /><path clip-path=\"url(#clip390)\" d=\"M333.385 32.4315 Q327.39 32.4315 323.906 37.1306 Q320.422 41.7891 320.422 49.9314 Q320.422 58.0738 323.865 62.7728 Q327.349 67.4314 333.385 67.4314 Q339.34 67.4314 342.824 62.7323 Q346.307 58.0333 346.307 49.9314 Q346.307 41.8701 342.824 37.1711 Q339.34 32.4315 333.385 32.4315 M333.385 26.1121 Q343.107 26.1121 348.657 32.4315 Q354.207 38.7509 354.207 49.9314 Q354.207 61.0714 348.657 67.4314 Q343.107 73.7508 333.385 73.7508 Q323.622 73.7508 318.073 67.4314 Q312.563 61.0714 312.563 49.9314 Q312.563 38.7509 318.073 32.4315 Q323.622 26.1121 333.385 26.1121 Z\" fill=\"#000000\" fill-rule=\"evenodd\" fill-opacity=\"1\" /><path clip-path=\"url(#clip390)\" d=\"M404.276 45.1919 L404.276 72.576 L396.822 72.576 L396.822 45.4349 Q396.822 38.994 394.311 35.7938 Q391.799 32.5936 386.776 32.5936 Q380.74 32.5936 377.256 36.4419 Q373.773 40.2903 373.773 46.9338 L373.773 72.576 L366.278 72.576 L366.278 27.2059 L373.773 27.2059 L373.773 34.2544 Q376.446 30.163 380.051 28.1376 Q383.697 26.1121 388.437 26.1121 Q396.255 26.1121 400.265 30.9732 Q404.276 35.7938 404.276 45.1919 Z\" fill=\"#000000\" fill-rule=\"evenodd\" fill-opacity=\"1\" /><path clip-path=\"url(#clip390)\" d=\"M442.111 9.54393 L442.111 15.7418 L434.982 15.7418 Q430.971 15.7418 429.391 17.3622 Q427.852 18.9825 427.852 23.1955 L427.852 27.2059 L440.126 27.2059 L440.126 32.9987 L427.852 32.9987 L427.852 72.576 L420.358 72.576 L420.358 32.9987 L413.228 32.9987 L413.228 27.2059 L420.358 27.2059 L420.358 24.0462 Q420.358 16.471 423.882 13.0277 Q427.407 9.54393 435.063 9.54393 L442.111 9.54393 Z\" fill=\"#000000\" fill-rule=\"evenodd\" fill-opacity=\"1\" /><path clip-path=\"url(#clip390)\" d=\"M448.35 9.54393 L455.803 9.54393 L455.803 72.576 L448.35 72.576 L448.35 9.54393 Z\" fill=\"#000000\" fill-rule=\"evenodd\" fill-opacity=\"1\" /><path clip-path=\"url(#clip390)\" d=\"M471.399 27.2059 L478.853 27.2059 L478.853 72.576 L471.399 72.576 L471.399 27.2059 M471.399 9.54393 L478.853 9.54393 L478.853 18.9825 L471.399 18.9825 L471.399 9.54393 Z\" fill=\"#000000\" fill-rule=\"evenodd\" fill-opacity=\"1\" /><path clip-path=\"url(#clip390)\" d=\"M527.099 28.9478 L527.099 35.9153 Q523.94 34.1734 520.739 33.3227 Q517.58 32.4315 514.339 32.4315 Q507.088 32.4315 503.077 37.0496 Q499.067 41.6271 499.067 49.9314 Q499.067 58.2358 503.077 62.8538 Q507.088 67.4314 514.339 67.4314 Q517.58 67.4314 520.739 66.5807 Q523.94 65.6895 527.099 63.9476 L527.099 70.8341 Q523.98 72.2924 520.618 73.0216 Q517.296 73.7508 513.529 73.7508 Q503.28 73.7508 497.244 67.3098 Q491.208 60.8689 491.208 49.9314 Q491.208 38.832 497.285 32.472 Q503.402 26.1121 514.015 26.1121 Q517.458 26.1121 520.739 26.8413 Q524.021 27.5299 527.099 28.9478 Z\" fill=\"#000000\" fill-rule=\"evenodd\" fill-opacity=\"1\" /><path clip-path=\"url(#clip390)\" d=\"M547.435 14.324 L547.435 27.2059 L562.788 27.2059 L562.788 32.9987 L547.435 32.9987 L547.435 57.6282 Q547.435 63.1779 548.934 64.7578 Q550.473 66.3376 555.132 66.3376 L562.788 66.3376 L562.788 72.576 L555.132 72.576 Q546.503 72.576 543.222 69.3758 Q539.941 66.1351 539.941 57.6282 L539.941 32.9987 L534.472 32.9987 L534.472 27.2059 L539.941 27.2059 L539.941 14.324 L547.435 14.324 Z\" fill=\"#000000\" fill-rule=\"evenodd\" fill-opacity=\"1\" /><path clip-path=\"url(#clip390)\" d=\"M572.591 27.2059 L580.045 27.2059 L580.045 72.576 L572.591 72.576 L572.591 27.2059 M572.591 9.54393 L580.045 9.54393 L580.045 18.9825 L572.591 18.9825 L572.591 9.54393 Z\" fill=\"#000000\" fill-rule=\"evenodd\" fill-opacity=\"1\" /><path clip-path=\"url(#clip390)\" d=\"M633.355 45.1919 L633.355 72.576 L625.901 72.576 L625.901 45.4349 Q625.901 38.994 623.389 35.7938 Q620.878 32.5936 615.855 32.5936 Q609.819 32.5936 606.335 36.4419 Q602.851 40.2903 602.851 46.9338 L602.851 72.576 L595.357 72.576 L595.357 27.2059 L602.851 27.2059 L602.851 34.2544 Q605.525 30.163 609.13 28.1376 Q612.776 26.1121 617.515 26.1121 Q625.334 26.1121 629.344 30.9732 Q633.355 35.7938 633.355 45.1919 Z\" fill=\"#000000\" fill-rule=\"evenodd\" fill-opacity=\"1\" /><path clip-path=\"url(#clip390)\" d=\"M678.076 49.3643 Q678.076 41.2625 674.714 36.8065 Q671.393 32.3505 665.357 32.3505 Q659.361 32.3505 655.999 36.8065 Q652.677 41.2625 652.677 49.3643 Q652.677 57.4256 655.999 61.8816 Q659.361 66.3376 665.357 66.3376 Q671.393 66.3376 674.714 61.8816 Q678.076 57.4256 678.076 49.3643 M685.53 66.9452 Q685.53 78.5308 680.386 84.1616 Q675.241 89.8329 664.627 89.8329 Q660.698 89.8329 657.214 89.2252 Q653.731 88.6581 650.449 87.4428 L650.449 80.1917 Q653.731 81.9741 656.931 82.8248 Q660.131 83.6755 663.453 83.6755 Q670.785 83.6755 674.431 79.8271 Q678.076 76.0193 678.076 68.282 L678.076 64.5957 Q675.767 68.6061 672.162 70.5911 Q668.557 72.576 663.534 72.576 Q655.189 72.576 650.085 66.2161 Q644.981 59.8562 644.981 49.3643 Q644.981 38.832 650.085 32.472 Q655.189 26.1121 663.534 26.1121 Q668.557 26.1121 672.162 28.0971 Q675.767 30.082 678.076 34.0924 L678.076 27.2059 L685.53 27.2059 L685.53 66.9452 Z\" fill=\"#000000\" fill-rule=\"evenodd\" fill-opacity=\"1\" /><path clip-path=\"url(#clip390)\" d=\"M750.223 9.54393 L750.223 15.7418 L743.094 15.7418 Q739.083 15.7418 737.503 17.3622 Q735.964 18.9825 735.964 23.1955 L735.964 27.2059 L748.238 27.2059 L748.238 32.9987 L735.964 32.9987 L735.964 72.576 L728.47 72.576 L728.47 32.9987 L721.34 32.9987 L721.34 27.2059 L728.47 27.2059 L728.47 24.0462 Q728.47 16.471 731.994 13.0277 Q735.518 9.54393 743.175 9.54393 L750.223 9.54393 Z\" fill=\"#000000\" fill-rule=\"evenodd\" fill-opacity=\"1\" /><path clip-path=\"url(#clip390)\" d=\"M777.081 49.7694 Q768.047 49.7694 764.563 51.8354 Q761.08 53.9013 761.08 58.8839 Q761.08 62.8538 763.672 65.2034 Q766.305 67.5124 770.802 67.5124 Q777 67.5124 780.726 63.1374 Q784.494 58.7219 784.494 51.4303 L784.494 49.7694 L777.081 49.7694 M791.947 46.6907 L791.947 72.576 L784.494 72.576 L784.494 65.6895 Q781.942 69.8214 778.134 71.8063 Q774.326 73.7508 768.817 73.7508 Q761.849 73.7508 757.717 69.8619 Q753.626 65.9325 753.626 59.3701 Q753.626 51.7138 758.73 47.825 Q763.875 43.9361 774.042 43.9361 L784.494 43.9361 L784.494 43.2069 Q784.494 38.0623 781.091 35.2672 Q777.729 32.4315 771.612 32.4315 Q767.723 32.4315 764.037 33.3632 Q760.35 34.295 756.948 36.1584 L756.948 29.2718 Q761.039 27.692 764.887 26.9223 Q768.736 26.1121 772.382 26.1121 Q782.225 26.1121 787.086 31.2163 Q791.947 36.3204 791.947 46.6907 Z\" fill=\"#000000\" fill-rule=\"evenodd\" fill-opacity=\"1\" /><path clip-path=\"url(#clip390)\" d=\"M839.951 28.9478 L839.951 35.9153 Q836.791 34.1734 833.591 33.3227 Q830.431 32.4315 827.19 32.4315 Q819.939 32.4315 815.929 37.0496 Q811.918 41.6271 811.918 49.9314 Q811.918 58.2358 815.929 62.8538 Q819.939 67.4314 827.19 67.4314 Q830.431 67.4314 833.591 66.5807 Q836.791 65.6895 839.951 63.9476 L839.951 70.8341 Q836.831 72.2924 833.469 73.0216 Q830.147 73.7508 826.38 73.7508 Q816.131 73.7508 810.095 67.3098 Q804.06 60.8689 804.06 49.9314 Q804.06 38.832 810.136 32.472 Q816.253 26.1121 826.866 26.1121 Q830.309 26.1121 833.591 26.8413 Q836.872 27.5299 839.951 28.9478 Z\" fill=\"#000000\" fill-rule=\"evenodd\" fill-opacity=\"1\" /><path clip-path=\"url(#clip390)\" d=\"M860.286 14.324 L860.286 27.2059 L875.639 27.2059 L875.639 32.9987 L860.286 32.9987 L860.286 57.6282 Q860.286 63.1779 861.785 64.7578 Q863.324 66.3376 867.983 66.3376 L875.639 66.3376 L875.639 72.576 L867.983 72.576 Q859.354 72.576 856.073 69.3758 Q852.792 66.1351 852.792 57.6282 L852.792 32.9987 L847.323 32.9987 L847.323 27.2059 L852.792 27.2059 L852.792 14.324 L860.286 14.324 Z\" fill=\"#000000\" fill-rule=\"evenodd\" fill-opacity=\"1\" /><path clip-path=\"url(#clip390)\" d=\"M903.023 32.4315 Q897.028 32.4315 893.544 37.1306 Q890.06 41.7891 890.06 49.9314 Q890.06 58.0738 893.504 62.7728 Q896.987 67.4314 903.023 67.4314 Q908.978 67.4314 912.462 62.7323 Q915.946 58.0333 915.946 49.9314 Q915.946 41.8701 912.462 37.1711 Q908.978 32.4315 903.023 32.4315 M903.023 26.1121 Q912.745 26.1121 918.295 32.4315 Q923.845 38.7509 923.845 49.9314 Q923.845 61.0714 918.295 67.4314 Q912.745 73.7508 903.023 73.7508 Q893.261 73.7508 887.711 67.4314 Q882.202 61.0714 882.202 49.9314 Q882.202 38.7509 887.711 32.4315 Q893.261 26.1121 903.023 26.1121 Z\" fill=\"#000000\" fill-rule=\"evenodd\" fill-opacity=\"1\" /><path clip-path=\"url(#clip390)\" d=\"M962.49 34.1734 Q961.235 33.4443 959.736 33.1202 Q958.278 32.7556 956.495 32.7556 Q950.176 32.7556 946.773 36.8875 Q943.411 40.9789 943.411 48.6757 L943.411 72.576 L935.917 72.576 L935.917 27.2059 L943.411 27.2059 L943.411 34.2544 Q945.76 30.1225 949.528 28.1376 Q953.295 26.1121 958.683 26.1121 Q959.452 26.1121 960.384 26.2337 Q961.316 26.3147 962.45 26.5172 L962.49 34.1734 Z\" fill=\"#000000\" fill-rule=\"evenodd\" fill-opacity=\"1\" /><path clip-path=\"url(#clip390)\" d=\"M999.232 28.5427 L999.232 35.5912 Q996.072 33.9709 992.67 33.1607 Q989.267 32.3505 985.621 32.3505 Q980.071 32.3505 977.276 34.0519 Q974.522 35.7533 974.522 39.156 Q974.522 41.7486 976.507 43.2475 Q978.492 44.7058 984.487 46.0426 L987.039 46.6097 Q994.979 48.3111 998.3 51.4303 Q1001.66 54.509 1001.66 60.0587 Q1001.66 66.3781 996.64 70.0644 Q991.657 73.7508 982.907 73.7508 Q979.261 73.7508 975.291 73.0216 Q971.362 72.3329 966.987 70.9151 L966.987 63.2184 Q971.119 65.3654 975.129 66.4591 Q979.14 67.5124 983.069 67.5124 Q988.335 67.5124 991.171 65.73 Q994.007 63.9071 994.007 60.6258 Q994.007 57.5877 991.941 55.9673 Q989.915 54.3469 982.988 52.8481 L980.395 52.2405 Q973.468 50.7821 970.39 47.7845 Q967.311 44.7463 967.311 39.4801 Q967.311 33.0797 971.848 29.5959 Q976.385 26.1121 984.73 26.1121 Q988.862 26.1121 992.508 26.7198 Q996.153 27.3274 999.232 28.5427 Z\" fill=\"#000000\" fill-rule=\"evenodd\" fill-opacity=\"1\" /><path clip-path=\"url(#clip390)\" d=\"M1039.9 27.2059 L1047.36 27.2059 L1047.36 72.576 L1039.9 72.576 L1039.9 27.2059 M1039.9 9.54393 L1047.36 9.54393 L1047.36 18.9825 L1039.9 18.9825 L1039.9 9.54393 Z\" fill=\"#000000\" fill-rule=\"evenodd\" fill-opacity=\"1\" /><path clip-path=\"url(#clip390)\" d=\"M1100.67 45.1919 L1100.67 72.576 L1093.21 72.576 L1093.21 45.4349 Q1093.21 38.994 1090.7 35.7938 Q1088.19 32.5936 1083.17 32.5936 Q1077.13 32.5936 1073.65 36.4419 Q1070.16 40.2903 1070.16 46.9338 L1070.16 72.576 L1062.67 72.576 L1062.67 27.2059 L1070.16 27.2059 L1070.16 34.2544 Q1072.84 30.163 1076.44 28.1376 Q1080.09 26.1121 1084.83 26.1121 Q1092.65 26.1121 1096.66 30.9732 Q1100.67 35.7938 1100.67 45.1919 Z\" fill=\"#000000\" fill-rule=\"evenodd\" fill-opacity=\"1\" /><path clip-path=\"url(#clip390)\" d=\"M1174.56 28.9478 L1174.56 35.9153 Q1171.4 34.1734 1168.2 33.3227 Q1165.04 32.4315 1161.79 32.4315 Q1154.54 32.4315 1150.53 37.0496 Q1146.52 41.6271 1146.52 49.9314 Q1146.52 58.2358 1150.53 62.8538 Q1154.54 67.4314 1161.79 67.4314 Q1165.04 67.4314 1168.2 66.5807 Q1171.4 65.6895 1174.56 63.9476 L1174.56 70.8341 Q1171.44 72.2924 1168.07 73.0216 Q1164.75 73.7508 1160.98 73.7508 Q1150.74 73.7508 1144.7 67.3098 Q1138.66 60.8689 1138.66 49.9314 Q1138.66 38.832 1144.74 32.472 Q1150.86 26.1121 1161.47 26.1121 Q1164.91 26.1121 1168.2 26.8413 Q1171.48 27.5299 1174.56 28.9478 Z\" fill=\"#000000\" fill-rule=\"evenodd\" fill-opacity=\"1\" /><path clip-path=\"url(#clip390)\" d=\"M1205.1 32.4315 Q1199.1 32.4315 1195.62 37.1306 Q1192.14 41.7891 1192.14 49.9314 Q1192.14 58.0738 1195.58 62.7728 Q1199.06 67.4314 1205.1 67.4314 Q1211.05 67.4314 1214.54 62.7323 Q1218.02 58.0333 1218.02 49.9314 Q1218.02 41.8701 1214.54 37.1711 Q1211.05 32.4315 1205.1 32.4315 M1205.1 26.1121 Q1214.82 26.1121 1220.37 32.4315 Q1225.92 38.7509 1225.92 49.9314 Q1225.92 61.0714 1220.37 67.4314 Q1214.82 73.7508 1205.1 73.7508 Q1195.34 73.7508 1189.79 67.4314 Q1184.28 61.0714 1184.28 49.9314 Q1184.28 38.7509 1189.79 32.4315 Q1195.34 26.1121 1205.1 26.1121 Z\" fill=\"#000000\" fill-rule=\"evenodd\" fill-opacity=\"1\" /><path clip-path=\"url(#clip390)\" d=\"M1267.2 28.5427 L1267.2 35.5912 Q1264.04 33.9709 1260.64 33.1607 Q1257.23 32.3505 1253.59 32.3505 Q1248.04 32.3505 1245.24 34.0519 Q1242.49 35.7533 1242.49 39.156 Q1242.49 41.7486 1244.47 43.2475 Q1246.46 44.7058 1252.45 46.0426 L1255.01 46.6097 Q1262.95 48.3111 1266.27 51.4303 Q1269.63 54.509 1269.63 60.0587 Q1269.63 66.3781 1264.61 70.0644 Q1259.62 73.7508 1250.87 73.7508 Q1247.23 73.7508 1243.26 73.0216 Q1239.33 72.3329 1234.95 70.9151 L1234.95 63.2184 Q1239.09 65.3654 1243.1 66.4591 Q1247.11 67.5124 1251.04 67.5124 Q1256.3 67.5124 1259.14 65.73 Q1261.97 63.9071 1261.97 60.6258 Q1261.97 57.5877 1259.91 55.9673 Q1257.88 54.3469 1250.96 52.8481 L1248.36 52.2405 Q1241.44 50.7821 1238.36 47.7845 Q1235.28 44.7463 1235.28 39.4801 Q1235.28 33.0797 1239.82 29.5959 Q1244.35 26.1121 1252.7 26.1121 Q1256.83 26.1121 1260.47 26.7198 Q1264.12 27.3274 1267.2 28.5427 Z\" fill=\"#000000\" fill-rule=\"evenodd\" fill-opacity=\"1\" /><path clip-path=\"url(#clip390)\" d=\"M1288.87 14.324 L1288.87 27.2059 L1304.22 27.2059 L1304.22 32.9987 L1288.87 32.9987 L1288.87 57.6282 Q1288.87 63.1779 1290.37 64.7578 Q1291.91 66.3376 1296.57 66.3376 L1304.22 66.3376 L1304.22 72.576 L1296.57 72.576 Q1287.94 72.576 1284.66 69.3758 Q1281.38 66.1351 1281.38 57.6282 L1281.38 32.9987 L1275.91 32.9987 L1275.91 27.2059 L1281.38 27.2059 L1281.38 14.324 L1288.87 14.324 Z\" fill=\"#000000\" fill-rule=\"evenodd\" fill-opacity=\"1\" /><path clip-path=\"url(#clip390)\" d=\"M1357.98 32.4315 Q1351.98 32.4315 1348.5 37.1306 Q1345.02 41.7891 1345.02 49.9314 Q1345.02 58.0738 1348.46 62.7728 Q1351.94 67.4314 1357.98 67.4314 Q1363.94 67.4314 1367.42 62.7323 Q1370.9 58.0333 1370.9 49.9314 Q1370.9 41.8701 1367.42 37.1711 Q1363.94 32.4315 1357.98 32.4315 M1357.98 26.1121 Q1367.7 26.1121 1373.25 32.4315 Q1378.8 38.7509 1378.8 49.9314 Q1378.8 61.0714 1373.25 67.4314 Q1367.7 73.7508 1357.98 73.7508 Q1348.22 73.7508 1342.67 67.4314 Q1337.16 61.0714 1337.16 49.9314 Q1337.16 38.7509 1342.67 32.4315 Q1348.22 26.1121 1357.98 26.1121 Z\" fill=\"#000000\" fill-rule=\"evenodd\" fill-opacity=\"1\" /><path clip-path=\"url(#clip390)\" d=\"M1423.73 49.9314 Q1423.73 41.7081 1420.32 37.0496 Q1416.96 32.3505 1411.05 32.3505 Q1405.13 32.3505 1401.73 37.0496 Q1398.37 41.7081 1398.37 49.9314 Q1398.37 58.1548 1401.73 62.8538 Q1405.13 67.5124 1411.05 67.5124 Q1416.96 67.5124 1420.32 62.8538 Q1423.73 58.1548 1423.73 49.9314 M1398.37 34.0924 Q1400.72 30.0415 1404.28 28.0971 Q1407.89 26.1121 1412.87 26.1121 Q1421.13 26.1121 1426.28 32.6746 Q1431.46 39.2371 1431.46 49.9314 Q1431.46 60.6258 1426.28 67.1883 Q1421.13 73.7508 1412.87 73.7508 Q1407.89 73.7508 1404.28 71.8063 Q1400.72 69.8214 1398.37 65.7705 L1398.37 72.576 L1390.87 72.576 L1390.87 9.54393 L1398.37 9.54393 L1398.37 34.0924 Z\" fill=\"#000000\" fill-rule=\"evenodd\" fill-opacity=\"1\" /><path clip-path=\"url(#clip390)\" d=\"M1443.82 27.2059 L1451.27 27.2059 L1451.27 73.3862 Q1451.27 82.0551 1447.95 85.944 Q1444.67 89.8329 1437.34 89.8329 L1434.5 89.8329 L1434.5 83.5134 L1436.49 83.5134 Q1440.74 83.5134 1442.28 81.5285 Q1443.82 79.5841 1443.82 73.3862 L1443.82 27.2059 M1443.82 9.54393 L1451.27 9.54393 L1451.27 18.9825 L1443.82 18.9825 L1443.82 9.54393 Z\" fill=\"#000000\" fill-rule=\"evenodd\" fill-opacity=\"1\" /><path clip-path=\"url(#clip390)\" d=\"M1505.68 48.0275 L1505.68 51.6733 L1471.41 51.6733 Q1471.89 59.3701 1476.02 63.421 Q1480.2 67.4314 1487.61 67.4314 Q1491.9 67.4314 1495.91 66.3781 Q1499.96 65.3249 1503.93 63.2184 L1503.93 70.267 Q1499.92 71.9684 1495.71 72.8596 Q1491.5 73.7508 1487.16 73.7508 Q1476.31 73.7508 1469.95 67.4314 Q1463.63 61.1119 1463.63 50.3365 Q1463.63 39.1965 1469.62 32.6746 Q1475.66 26.1121 1485.87 26.1121 Q1495.02 26.1121 1500.33 32.0264 Q1505.68 37.9003 1505.68 48.0275 M1498.22 45.84 Q1498.14 39.7232 1494.78 36.0774 Q1491.46 32.4315 1485.95 32.4315 Q1479.71 32.4315 1475.94 35.9558 Q1472.22 39.4801 1471.65 45.8805 L1498.22 45.84 Z\" fill=\"#000000\" fill-rule=\"evenodd\" fill-opacity=\"1\" /><path clip-path=\"url(#clip390)\" d=\"M1550.56 28.9478 L1550.56 35.9153 Q1547.4 34.1734 1544.2 33.3227 Q1541.04 32.4315 1537.8 32.4315 Q1530.55 32.4315 1526.54 37.0496 Q1522.53 41.6271 1522.53 49.9314 Q1522.53 58.2358 1526.54 62.8538 Q1530.55 67.4314 1537.8 67.4314 Q1541.04 67.4314 1544.2 66.5807 Q1547.4 65.6895 1550.56 63.9476 L1550.56 70.8341 Q1547.44 72.2924 1544.08 73.0216 Q1540.76 73.7508 1536.99 73.7508 Q1526.74 73.7508 1520.71 67.3098 Q1514.67 60.8689 1514.67 49.9314 Q1514.67 38.832 1520.75 32.472 Q1526.86 26.1121 1537.48 26.1121 Q1540.92 26.1121 1544.2 26.8413 Q1547.48 27.5299 1550.56 28.9478 Z\" fill=\"#000000\" fill-rule=\"evenodd\" fill-opacity=\"1\" /><path clip-path=\"url(#clip390)\" d=\"M1570.9 14.324 L1570.9 27.2059 L1586.25 27.2059 L1586.25 32.9987 L1570.9 32.9987 L1570.9 57.6282 Q1570.9 63.1779 1572.39 64.7578 Q1573.93 66.3376 1578.59 66.3376 L1586.25 66.3376 L1586.25 72.576 L1578.59 72.576 Q1569.96 72.576 1566.68 69.3758 Q1563.4 66.1351 1563.4 57.6282 L1563.4 32.9987 L1557.93 32.9987 L1557.93 27.2059 L1563.4 27.2059 L1563.4 14.324 L1570.9 14.324 Z\" fill=\"#000000\" fill-rule=\"evenodd\" fill-opacity=\"1\" /><path clip-path=\"url(#clip390)\" d=\"M1596.05 27.2059 L1603.51 27.2059 L1603.51 72.576 L1596.05 72.576 L1596.05 27.2059 M1596.05 9.54393 L1603.51 9.54393 L1603.51 18.9825 L1596.05 18.9825 L1596.05 9.54393 Z\" fill=\"#000000\" fill-rule=\"evenodd\" fill-opacity=\"1\" /><path clip-path=\"url(#clip390)\" d=\"M1613.75 27.2059 L1621.65 27.2059 L1635.83 65.2844 L1650.01 27.2059 L1657.91 27.2059 L1640.9 72.576 L1630.77 72.576 L1613.75 27.2059 Z\" fill=\"#000000\" fill-rule=\"evenodd\" fill-opacity=\"1\" /><path clip-path=\"url(#clip390)\" d=\"M1707.01 48.0275 L1707.01 51.6733 L1672.74 51.6733 Q1673.22 59.3701 1677.35 63.421 Q1681.53 67.4314 1688.94 67.4314 Q1693.23 67.4314 1697.24 66.3781 Q1701.29 65.3249 1705.26 63.2184 L1705.26 70.267 Q1701.25 71.9684 1697.04 72.8596 Q1692.83 73.7508 1688.49 73.7508 Q1677.64 73.7508 1671.28 67.4314 Q1664.96 61.1119 1664.96 50.3365 Q1664.96 39.1965 1670.95 32.6746 Q1676.99 26.1121 1687.2 26.1121 Q1696.35 26.1121 1701.66 32.0264 Q1707.01 37.9003 1707.01 48.0275 M1699.55 45.84 Q1699.47 39.7232 1696.11 36.0774 Q1692.79 32.4315 1687.28 32.4315 Q1681.04 32.4315 1677.27 35.9558 Q1673.55 39.4801 1672.98 45.8805 L1699.55 45.84 Z\" fill=\"#000000\" fill-rule=\"evenodd\" fill-opacity=\"1\" /><path clip-path=\"url(#clip390)\" d=\"M1721.14 62.2867 L1729.69 62.2867 L1729.69 69.2543 L1723.05 82.2172 L1717.82 82.2172 L1721.14 69.2543 L1721.14 62.2867 Z\" fill=\"#000000\" fill-rule=\"evenodd\" fill-opacity=\"1\" /><path clip-path=\"url(#clip390)\" d=\"M1771.98 27.2059 L1779.44 27.2059 L1779.44 72.576 L1771.98 72.576 L1771.98 27.2059 M1771.98 9.54393 L1779.44 9.54393 L1779.44 18.9825 L1771.98 18.9825 L1771.98 9.54393 Z\" fill=\"#000000\" fill-rule=\"evenodd\" fill-opacity=\"1\" /><path clip-path=\"url(#clip390)\" d=\"M1832.75 45.1919 L1832.75 72.576 L1825.29 72.576 L1825.29 45.4349 Q1825.29 38.994 1822.78 35.7938 Q1820.27 32.5936 1815.25 32.5936 Q1809.21 32.5936 1805.73 36.4419 Q1802.24 40.2903 1802.24 46.9338 L1802.24 72.576 L1794.75 72.576 L1794.75 27.2059 L1802.24 27.2059 L1802.24 34.2544 Q1804.92 30.163 1808.52 28.1376 Q1812.17 26.1121 1816.91 26.1121 Q1824.73 26.1121 1828.74 30.9732 Q1832.75 35.7938 1832.75 45.1919 Z\" fill=\"#000000\" fill-rule=\"evenodd\" fill-opacity=\"1\" /><path clip-path=\"url(#clip390)\" d=\"M1885.33 45.1919 L1885.33 72.576 L1877.87 72.576 L1877.87 45.4349 Q1877.87 38.994 1875.36 35.7938 Q1872.85 32.5936 1867.83 32.5936 Q1861.79 32.5936 1858.31 36.4419 Q1854.82 40.2903 1854.82 46.9338 L1854.82 72.576 L1847.33 72.576 L1847.33 27.2059 L1854.82 27.2059 L1854.82 34.2544 Q1857.5 30.163 1861.1 28.1376 Q1864.75 26.1121 1869.49 26.1121 Q1877.31 26.1121 1881.32 30.9732 Q1885.33 35.7938 1885.33 45.1919 Z\" fill=\"#000000\" fill-rule=\"evenodd\" fill-opacity=\"1\" /><path clip-path=\"url(#clip390)\" d=\"M1917.77 32.4315 Q1911.78 32.4315 1908.3 37.1306 Q1904.81 41.7891 1904.81 49.9314 Q1904.81 58.0738 1908.26 62.7728 Q1911.74 67.4314 1917.77 67.4314 Q1923.73 67.4314 1927.21 62.7323 Q1930.7 58.0333 1930.7 49.9314 Q1930.7 41.8701 1927.21 37.1711 Q1923.73 32.4315 1917.77 32.4315 M1917.77 26.1121 Q1927.5 26.1121 1933.05 32.4315 Q1938.6 38.7509 1938.6 49.9314 Q1938.6 61.0714 1933.05 67.4314 Q1927.5 73.7508 1917.77 73.7508 Q1908.01 73.7508 1902.46 67.4314 Q1896.95 61.0714 1896.95 49.9314 Q1896.95 38.7509 1902.46 32.4315 Q1908.01 26.1121 1917.77 26.1121 Z\" fill=\"#000000\" fill-rule=\"evenodd\" fill-opacity=\"1\" /><path clip-path=\"url(#clip390)\" d=\"M1945.6 27.2059 L1953.5 27.2059 L1967.68 65.2844 L1981.86 27.2059 L1989.76 27.2059 L1972.75 72.576 L1962.62 72.576 L1945.6 27.2059 Z\" fill=\"#000000\" fill-rule=\"evenodd\" fill-opacity=\"1\" /><path clip-path=\"url(#clip390)\" d=\"M2020.67 49.7694 Q2011.63 49.7694 2008.15 51.8354 Q2004.67 53.9013 2004.67 58.8839 Q2004.67 62.8538 2007.26 65.2034 Q2009.89 67.5124 2014.39 67.5124 Q2020.59 67.5124 2024.31 63.1374 Q2028.08 58.7219 2028.08 51.4303 L2028.08 49.7694 L2020.67 49.7694 M2035.53 46.6907 L2035.53 72.576 L2028.08 72.576 L2028.08 65.6895 Q2025.53 69.8214 2021.72 71.8063 Q2017.91 73.7508 2012.4 73.7508 Q2005.44 73.7508 2001.3 69.8619 Q1997.21 65.9325 1997.21 59.3701 Q1997.21 51.7138 2002.32 47.825 Q2007.46 43.9361 2017.63 43.9361 L2028.08 43.9361 L2028.08 43.2069 Q2028.08 38.0623 2024.68 35.2672 Q2021.32 32.4315 2015.2 32.4315 Q2011.31 32.4315 2007.62 33.3632 Q2003.94 34.295 2000.53 36.1584 L2000.53 29.2718 Q2004.63 27.692 2008.47 26.9223 Q2012.32 26.1121 2015.97 26.1121 Q2025.81 26.1121 2030.67 31.2163 Q2035.53 36.3204 2035.53 46.6907 Z\" fill=\"#000000\" fill-rule=\"evenodd\" fill-opacity=\"1\" /><path clip-path=\"url(#clip390)\" d=\"M2058.26 14.324 L2058.26 27.2059 L2073.61 27.2059 L2073.61 32.9987 L2058.26 32.9987 L2058.26 57.6282 Q2058.26 63.1779 2059.76 64.7578 Q2061.3 66.3376 2065.96 66.3376 L2073.61 66.3376 L2073.61 72.576 L2065.96 72.576 Q2057.33 72.576 2054.05 69.3758 Q2050.77 66.1351 2050.77 57.6282 L2050.77 32.9987 L2045.3 32.9987 L2045.3 27.2059 L2050.77 27.2059 L2050.77 14.324 L2058.26 14.324 Z\" fill=\"#000000\" fill-rule=\"evenodd\" fill-opacity=\"1\" /><path clip-path=\"url(#clip390)\" d=\"M2083.42 27.2059 L2090.87 27.2059 L2090.87 72.576 L2083.42 72.576 L2083.42 27.2059 M2083.42 9.54393 L2090.87 9.54393 L2090.87 18.9825 L2083.42 18.9825 L2083.42 9.54393 Z\" fill=\"#000000\" fill-rule=\"evenodd\" fill-opacity=\"1\" /><path clip-path=\"url(#clip390)\" d=\"M2124.05 32.4315 Q2118.05 32.4315 2114.57 37.1306 Q2111.08 41.7891 2111.08 49.9314 Q2111.08 58.0738 2114.53 62.7728 Q2118.01 67.4314 2124.05 67.4314 Q2130 67.4314 2133.49 62.7323 Q2136.97 58.0333 2136.97 49.9314 Q2136.97 41.8701 2133.49 37.1711 Q2130 32.4315 2124.05 32.4315 M2124.05 26.1121 Q2133.77 26.1121 2139.32 32.4315 Q2144.87 38.7509 2144.87 49.9314 Q2144.87 61.0714 2139.32 67.4314 Q2133.77 73.7508 2124.05 73.7508 Q2114.28 73.7508 2108.73 67.4314 Q2103.23 61.0714 2103.23 49.9314 Q2103.23 38.7509 2108.73 32.4315 Q2114.28 26.1121 2124.05 26.1121 Z\" fill=\"#000000\" fill-rule=\"evenodd\" fill-opacity=\"1\" /><path clip-path=\"url(#clip390)\" d=\"M2194.94 45.1919 L2194.94 72.576 L2187.48 72.576 L2187.48 45.4349 Q2187.48 38.994 2184.97 35.7938 Q2182.46 32.5936 2177.44 32.5936 Q2171.4 32.5936 2167.92 36.4419 Q2164.43 40.2903 2164.43 46.9338 L2164.43 72.576 L2156.94 72.576 L2156.94 27.2059 L2164.43 27.2059 L2164.43 34.2544 Q2167.11 30.163 2170.71 28.1376 Q2174.36 26.1121 2179.1 26.1121 Q2186.92 26.1121 2190.93 30.9732 Q2194.94 35.7938 2194.94 45.1919 Z\" fill=\"#000000\" fill-rule=\"evenodd\" fill-opacity=\"1\" /><path clip-path=\"url(#clip390)\" d=\"M2238.65 65.6895 L2252.01 65.6895 L2252.01 19.5497 L2237.47 22.4663 L2237.47 15.0127 L2251.93 12.096 L2260.12 12.096 L2260.12 65.6895 L2273.48 65.6895 L2273.48 72.576 L2238.65 72.576 L2238.65 65.6895 Z\" fill=\"#000000\" fill-rule=\"evenodd\" fill-opacity=\"1\" /><polyline clip-path=\"url(#clip392)\" style=\"stroke:#009af9; stroke-linecap:butt; stroke-linejoin:round; stroke-width:4; stroke-opacity:1; fill:none\" points=\"\n",
       "  237.067,1315.69 278.987,1305.95 320.907,1295.89 362.826,1285.49 404.746,1274.76 446.666,1263.66 488.586,1252.2 530.505,1240.36 572.425,1228.13 614.345,1215.5 \n",
       "  656.264,1202.45 698.184,1188.96 740.104,1175.03 782.024,1160.65 823.943,1145.78 865.863,1130.42 907.783,1114.56 949.703,1098.17 991.622,1081.24 1033.54,1063.75 \n",
       "  1075.46,1045.68 1117.38,1027.01 1159.3,1007.73 1201.22,987.811 1243.14,967.232 1285.06,945.973 1326.98,924.011 1368.9,901.323 1410.82,877.885 1452.74,853.672 \n",
       "  1494.66,828.659 1536.58,802.819 1578.5,776.125 1620.42,748.548 1662.34,720.06 1704.26,690.629 1746.18,660.226 1788.1,628.818 1830.02,596.372 1871.94,562.853 \n",
       "  1913.86,528.226 1955.78,492.454 1997.7,455.5 2039.62,417.324 2081.54,377.886 2123.45,337.144 2165.37,295.056 2207.29,251.576 2249.21,206.658 2291.13,160.256 \n",
       "  \n",
       "  \"/>\n",
       "<polyline clip-path=\"url(#clip392)\" style=\"stroke:#e26f46; stroke-linecap:butt; stroke-linejoin:round; stroke-width:4; stroke-opacity:1; fill:none\" points=\"\n",
       "  237.067,541.574 278.987,617.506 320.907,686.218 362.826,748.285 404.746,804.432 446.666,855.346 488.586,901.628 530.505,943.787 572.425,982.257 614.345,1017.41 \n",
       "  656.264,1049.55 698.184,1078.97 740.104,1105.91 782.024,1130.57 823.943,1153.17 865.863,1173.87 907.783,1192.83 949.703,1210.2 991.622,1226.11 1033.54,1240.67 \n",
       "  1075.46,1254.01 1117.38,1266.22 1159.3,1277.4 1201.22,1287.63 1243.14,1296.99 1285.06,1305.56 1326.98,1313.39 1368.9,1320.56 1410.82,1327.12 1452.74,1333.12 \n",
       "  1494.66,1338.6 1536.58,1343.62 1578.5,1348.2 1620.42,1352.39 1662.34,1356.23 1704.26,1359.73 1746.18,1362.93 1788.1,1365.86 1830.02,1368.54 1871.94,1370.98 \n",
       "  1913.86,1373.22 1955.78,1375.26 1997.7,1377.13 2039.62,1378.84 2081.54,1380.4 2123.45,1381.82 2165.37,1383.12 2207.29,1384.31 2249.21,1385.4 2291.13,1386.4 \n",
       "  \n",
       "  \"/>\n",
       "<polyline clip-path=\"url(#clip392)\" style=\"stroke:#3da44d; stroke-linecap:butt; stroke-linejoin:round; stroke-width:4; stroke-opacity:1; fill:none\" points=\"\n",
       "  237.067,506.243 278.987,550.78 320.907,591.508 362.826,628.519 404.746,662.124 446.666,692.663 488.586,720.442 530.505,745.713 572.425,768.682 614.345,789.518 \n",
       "  656.264,808.355 698.184,825.306 740.104,840.465 782.024,853.91 823.943,865.71 865.863,875.924 907.783,884.606 949.703,891.804 991.622,897.56 1033.54,901.914 \n",
       "  1075.46,904.902 1117.38,906.557 1159.3,906.909 1201.22,905.985 1243.14,903.81 1285.06,900.408 1326.98,895.798 1368.9,889.999 1410.82,883.026 1452.74,874.894 \n",
       "  1494.66,865.613 1536.58,855.193 1578.5,843.642 1620.42,830.965 1662.34,817.165 1704.26,802.243 1746.18,786.199 1788.1,769.031 1830.02,750.734 1871.94,731.301 \n",
       "  1913.86,710.724 1955.78,688.994 1997.7,666.098 2039.62,642.023 2081.54,616.753 2123.45,590.27 2165.37,562.557 2207.29,533.591 2249.21,503.35 2291.13,471.81 \n",
       "  \n",
       "  \"/>\n",
       "<path clip-path=\"url(#clip390)\" d=\"\n",
       "M248.022 374.156 L1352.39 374.156 L1352.39 166.796 L248.022 166.796  Z\n",
       "  \" fill=\"#ffffff\" fill-rule=\"evenodd\" fill-opacity=\"1\"/>\n",
       "<polyline clip-path=\"url(#clip390)\" style=\"stroke:#000000; stroke-linecap:butt; stroke-linejoin:round; stroke-width:4; stroke-opacity:1; fill:none\" points=\"\n",
       "  248.022,374.156 1352.39,374.156 1352.39,166.796 248.022,166.796 248.022,374.156 \n",
       "  \"/>\n",
       "<polyline clip-path=\"url(#clip390)\" style=\"stroke:#009af9; stroke-linecap:butt; stroke-linejoin:round; stroke-width:4; stroke-opacity:1; fill:none\" points=\"\n",
       "  272.215,218.636 417.369,218.636 \n",
       "  \"/>\n",
       "<path clip-path=\"url(#clip390)\" d=\"M441.561 201.356 L470.797 201.356 L470.797 205.291 L458.528 205.291 L458.528 235.916 L453.829 235.916 L453.829 205.291 L441.561 205.291 L441.561 201.356 Z\" fill=\"#000000\" fill-rule=\"evenodd\" fill-opacity=\"1\" /><path clip-path=\"url(#clip390)\" d=\"M473.667 209.99 L477.927 209.99 L477.927 235.916 L473.667 235.916 L473.667 209.99 M473.667 199.897 L477.927 199.897 L477.927 205.291 L473.667 205.291 L473.667 199.897 Z\" fill=\"#000000\" fill-rule=\"evenodd\" fill-opacity=\"1\" /><path clip-path=\"url(#clip390)\" d=\"M507.024 214.967 Q508.621 212.096 510.843 210.731 Q513.065 209.365 516.074 209.365 Q520.125 209.365 522.324 212.212 Q524.523 215.036 524.523 220.268 L524.523 235.916 L520.241 235.916 L520.241 220.407 Q520.241 216.68 518.922 214.874 Q517.602 213.069 514.894 213.069 Q511.584 213.069 509.662 215.268 Q507.741 217.467 507.741 221.263 L507.741 235.916 L503.459 235.916 L503.459 220.407 Q503.459 216.657 502.139 214.874 Q500.82 213.069 498.065 213.069 Q494.801 213.069 492.88 215.291 Q490.959 217.49 490.959 221.263 L490.959 235.916 L486.676 235.916 L486.676 209.99 L490.959 209.99 L490.959 214.018 Q492.417 211.633 494.454 210.499 Q496.491 209.365 499.292 209.365 Q502.116 209.365 504.084 210.8 Q506.075 212.235 507.024 214.967 Z\" fill=\"#000000\" fill-rule=\"evenodd\" fill-opacity=\"1\" /><path clip-path=\"url(#clip390)\" d=\"M555.195 221.888 L555.195 223.971 L535.611 223.971 Q535.889 228.369 538.25 230.684 Q540.635 232.976 544.871 232.976 Q547.324 232.976 549.616 232.374 Q551.931 231.772 554.199 230.569 L554.199 234.596 Q551.908 235.568 549.5 236.078 Q547.093 236.587 544.616 236.587 Q538.412 236.587 534.778 232.976 Q531.167 229.365 531.167 223.207 Q531.167 216.842 534.593 213.115 Q538.042 209.365 543.875 209.365 Q549.107 209.365 552.139 212.745 Q555.195 216.101 555.195 221.888 M550.935 220.638 Q550.889 217.143 548.968 215.059 Q547.07 212.976 543.922 212.976 Q540.357 212.976 538.204 214.99 Q536.074 217.004 535.75 220.661 L550.935 220.638 Z\" fill=\"#000000\" fill-rule=\"evenodd\" fill-opacity=\"1\" /><path clip-path=\"url(#clip390)\" d=\"M574.199 209.99 L578.713 209.99 L586.815 231.749 L594.917 209.99 L599.43 209.99 L589.708 235.916 L583.921 235.916 L574.199 209.99 Z\" fill=\"#000000\" fill-rule=\"evenodd\" fill-opacity=\"1\" /><path clip-path=\"url(#clip390)\" d=\"M617.092 222.883 Q611.93 222.883 609.94 224.064 Q607.949 225.244 607.949 228.092 Q607.949 230.36 609.43 231.703 Q610.935 233.022 613.504 233.022 Q617.046 233.022 619.176 230.522 Q621.329 227.999 621.329 223.832 L621.329 222.883 L617.092 222.883 M625.588 221.124 L625.588 235.916 L621.329 235.916 L621.329 231.981 Q619.87 234.342 617.694 235.476 Q615.518 236.587 612.37 236.587 Q608.389 236.587 606.028 234.365 Q603.69 232.119 603.69 228.369 Q603.69 223.994 606.606 221.772 Q609.546 219.55 615.356 219.55 L621.329 219.55 L621.329 219.133 Q621.329 216.194 619.384 214.596 Q617.463 212.976 613.967 212.976 Q611.745 212.976 609.639 213.508 Q607.532 214.041 605.588 215.106 L605.588 211.17 Q607.926 210.268 610.125 209.828 Q612.324 209.365 614.407 209.365 Q620.032 209.365 622.81 212.282 Q625.588 215.198 625.588 221.124 Z\" fill=\"#000000\" fill-rule=\"evenodd\" fill-opacity=\"1\" /><path clip-path=\"url(#clip390)\" d=\"M634.361 199.897 L638.62 199.897 L638.62 235.916 L634.361 235.916 L634.361 199.897 Z\" fill=\"#000000\" fill-rule=\"evenodd\" fill-opacity=\"1\" /><path clip-path=\"url(#clip390)\" d=\"M672.648 212.976 Q669.222 212.976 667.231 215.661 Q665.24 218.323 665.24 222.976 Q665.24 227.629 667.208 230.314 Q669.199 232.976 672.648 232.976 Q676.05 232.976 678.041 230.291 Q680.032 227.606 680.032 222.976 Q680.032 218.37 678.041 215.684 Q676.05 212.976 672.648 212.976 M672.648 209.365 Q678.203 209.365 681.374 212.976 Q684.546 216.587 684.546 222.976 Q684.546 229.342 681.374 232.976 Q678.203 236.587 672.648 236.587 Q667.069 236.587 663.898 232.976 Q660.75 229.342 660.75 222.976 Q660.75 216.587 663.898 212.976 Q667.069 209.365 672.648 209.365 Z\" fill=\"#000000\" fill-rule=\"evenodd\" fill-opacity=\"1\" /><path clip-path=\"url(#clip390)\" d=\"M704.731 199.897 L704.731 203.439 L700.657 203.439 Q698.365 203.439 697.462 204.365 Q696.583 205.291 696.583 207.698 L696.583 209.99 L703.597 209.99 L703.597 213.3 L696.583 213.3 L696.583 235.916 L692.3 235.916 L692.3 213.3 L688.226 213.3 L688.226 209.99 L692.3 209.99 L692.3 208.184 Q692.3 203.856 694.314 201.888 Q696.328 199.897 700.703 199.897 L704.731 199.897 Z\" fill=\"#000000\" fill-rule=\"evenodd\" fill-opacity=\"1\" /><path clip-path=\"url(#clip390)\" d=\"M743.55 214.967 Q745.147 212.096 747.37 210.731 Q749.592 209.365 752.601 209.365 Q756.652 209.365 758.851 212.212 Q761.05 215.036 761.05 220.268 L761.05 235.916 L756.768 235.916 L756.768 220.407 Q756.768 216.68 755.448 214.874 Q754.129 213.069 751.42 213.069 Q748.11 213.069 746.189 215.268 Q744.268 217.467 744.268 221.263 L744.268 235.916 L739.985 235.916 L739.985 220.407 Q739.985 216.657 738.666 214.874 Q737.346 213.069 734.592 213.069 Q731.328 213.069 729.407 215.291 Q727.485 217.49 727.485 221.263 L727.485 235.916 L723.203 235.916 L723.203 209.99 L727.485 209.99 L727.485 214.018 Q728.944 211.633 730.981 210.499 Q733.018 209.365 735.819 209.365 Q738.643 209.365 740.61 210.8 Q742.601 212.235 743.55 214.967 Z\" fill=\"#000000\" fill-rule=\"evenodd\" fill-opacity=\"1\" /><path clip-path=\"url(#clip390)\" d=\"M779.592 212.976 Q776.166 212.976 774.175 215.661 Q772.184 218.323 772.184 222.976 Q772.184 227.629 774.152 230.314 Q776.143 232.976 779.592 232.976 Q782.994 232.976 784.985 230.291 Q786.976 227.606 786.976 222.976 Q786.976 218.37 784.985 215.684 Q782.994 212.976 779.592 212.976 M779.592 209.365 Q785.147 209.365 788.318 212.976 Q791.49 216.587 791.49 222.976 Q791.49 229.342 788.318 232.976 Q785.147 236.587 779.592 236.587 Q774.013 236.587 770.842 232.976 Q767.693 229.342 767.693 222.976 Q767.693 216.587 770.842 212.976 Q774.013 209.365 779.592 209.365 Z\" fill=\"#000000\" fill-rule=\"evenodd\" fill-opacity=\"1\" /><path clip-path=\"url(#clip390)\" d=\"M820.101 220.268 L820.101 235.916 L815.841 235.916 L815.841 220.407 Q815.841 216.726 814.406 214.897 Q812.971 213.069 810.101 213.069 Q806.652 213.069 804.661 215.268 Q802.67 217.467 802.67 221.263 L802.67 235.916 L798.388 235.916 L798.388 209.99 L802.67 209.99 L802.67 214.018 Q804.198 211.68 806.258 210.522 Q808.341 209.365 811.05 209.365 Q815.517 209.365 817.809 212.143 Q820.101 214.897 820.101 220.268 Z\" fill=\"#000000\" fill-rule=\"evenodd\" fill-opacity=\"1\" /><path clip-path=\"url(#clip390)\" d=\"M850.772 221.888 L850.772 223.971 L831.189 223.971 Q831.466 228.369 833.827 230.684 Q836.212 232.976 840.448 232.976 Q842.901 232.976 845.193 232.374 Q847.508 231.772 849.776 230.569 L849.776 234.596 Q847.485 235.568 845.077 236.078 Q842.67 236.587 840.193 236.587 Q833.989 236.587 830.355 232.976 Q826.744 229.365 826.744 223.207 Q826.744 216.842 830.17 213.115 Q833.619 209.365 839.452 209.365 Q844.684 209.365 847.716 212.745 Q850.772 216.101 850.772 221.888 M846.512 220.638 Q846.466 217.143 844.545 215.059 Q842.647 212.976 839.499 212.976 Q835.934 212.976 833.781 214.99 Q831.651 217.004 831.327 220.661 L846.512 220.638 Z\" fill=\"#000000\" fill-rule=\"evenodd\" fill-opacity=\"1\" /><path clip-path=\"url(#clip390)\" d=\"M868.549 238.323 Q866.744 242.953 865.031 244.365 Q863.318 245.777 860.448 245.777 L857.045 245.777 L857.045 242.212 L859.545 242.212 Q861.304 242.212 862.276 241.379 Q863.249 240.545 864.429 237.443 L865.193 235.499 L854.707 209.99 L859.221 209.99 L867.323 230.268 L875.424 209.99 L879.938 209.99 L868.549 238.323 Z\" fill=\"#000000\" fill-rule=\"evenodd\" fill-opacity=\"1\" /><polyline clip-path=\"url(#clip390)\" style=\"stroke:#e26f46; stroke-linecap:butt; stroke-linejoin:round; stroke-width:4; stroke-opacity:1; fill:none\" points=\"\n",
       "  272.215,270.476 417.369,270.476 \n",
       "  \"/>\n",
       "<path clip-path=\"url(#clip390)\" d=\"M443.019 253.196 L461.376 253.196 L461.376 257.131 L447.302 257.131 L447.302 265.603 Q448.32 265.256 449.339 265.094 Q450.357 264.909 451.376 264.909 Q457.163 264.909 460.542 268.08 Q463.922 271.251 463.922 276.668 Q463.922 282.246 460.45 285.348 Q456.978 288.427 450.658 288.427 Q448.482 288.427 446.214 288.057 Q443.968 287.686 441.561 286.946 L441.561 282.246 Q443.644 283.381 445.866 283.936 Q448.089 284.492 450.566 284.492 Q454.57 284.492 456.908 282.385 Q459.246 280.279 459.246 276.668 Q459.246 273.057 456.908 270.95 Q454.57 268.844 450.566 268.844 Q448.691 268.844 446.816 269.26 Q444.964 269.677 443.019 270.557 L443.019 253.196 Z\" fill=\"#000000\" fill-rule=\"evenodd\" fill-opacity=\"1\" /><path clip-path=\"url(#clip390)\" d=\"M485.45 272.872 L497.926 272.872 L497.926 276.668 L485.45 276.668 L485.45 272.872 Z\" fill=\"#000000\" fill-rule=\"evenodd\" fill-opacity=\"1\" /><path clip-path=\"url(#clip390)\" d=\"M530.01 251.784 Q526.908 257.108 525.403 262.316 Q523.898 267.524 523.898 272.872 Q523.898 278.219 525.403 283.473 Q526.931 288.705 530.01 294.006 L526.306 294.006 Q522.834 288.566 521.098 283.311 Q519.385 278.057 519.385 272.872 Q519.385 267.71 521.098 262.478 Q522.811 257.247 526.306 251.784 L530.01 251.784 Z\" fill=\"#000000\" fill-rule=\"evenodd\" fill-opacity=\"1\" /><path clip-path=\"url(#clip390)\" d=\"M554.847 271.552 Q556.352 272.061 557.764 273.728 Q559.199 275.395 560.634 278.311 L565.38 287.756 L560.357 287.756 L555.935 278.89 Q554.222 275.418 552.602 274.284 Q551.005 273.149 548.227 273.149 L543.134 273.149 L543.134 287.756 L538.459 287.756 L538.459 253.196 L549.014 253.196 Q554.94 253.196 557.857 255.673 Q560.773 258.149 560.773 263.149 Q560.773 266.413 559.246 268.566 Q557.741 270.719 554.847 271.552 M543.134 257.038 L543.134 269.307 L549.014 269.307 Q552.394 269.307 554.107 267.756 Q555.843 266.182 555.843 263.149 Q555.843 260.117 554.107 258.589 Q552.394 257.038 549.014 257.038 L543.134 257.038 Z\" fill=\"#000000\" fill-rule=\"evenodd\" fill-opacity=\"1\" /><path clip-path=\"url(#clip390)\" d=\"M571.398 253.196 L576.074 253.196 L576.074 283.821 L592.903 283.821 L592.903 287.756 L571.398 287.756 L571.398 253.196 Z\" fill=\"#000000\" fill-rule=\"evenodd\" fill-opacity=\"1\" /><path clip-path=\"url(#clip390)\" d=\"M634.87 273.728 L634.87 275.811 L615.287 275.811 Q615.565 280.209 617.926 282.524 Q620.31 284.816 624.546 284.816 Q627 284.816 629.291 284.214 Q631.606 283.612 633.875 282.409 L633.875 286.436 Q631.583 287.408 629.176 287.918 Q626.768 288.427 624.291 288.427 Q618.088 288.427 614.454 284.816 Q610.842 281.205 610.842 275.047 Q610.842 268.682 614.268 264.955 Q617.717 261.205 623.551 261.205 Q628.782 261.205 631.815 264.585 Q634.87 267.941 634.87 273.728 M630.611 272.478 Q630.565 268.983 628.643 266.899 Q626.745 264.816 623.597 264.816 Q620.032 264.816 617.879 266.83 Q615.75 268.844 615.426 272.501 L630.611 272.478 Z\" fill=\"#000000\" fill-rule=\"evenodd\" fill-opacity=\"1\" /><path clip-path=\"url(#clip390)\" d=\"M638.805 261.83 L643.319 261.83 L651.421 283.589 L659.523 261.83 L664.037 261.83 L654.314 287.756 L648.527 287.756 L638.805 261.83 Z\" fill=\"#000000\" fill-rule=\"evenodd\" fill-opacity=\"1\" /><path clip-path=\"url(#clip390)\" d=\"M679.962 264.816 Q676.537 264.816 674.546 267.501 Q672.555 270.163 672.555 274.816 Q672.555 279.469 674.523 282.154 Q676.513 284.816 679.962 284.816 Q683.365 284.816 685.356 282.131 Q687.347 279.446 687.347 274.816 Q687.347 270.21 685.356 267.524 Q683.365 264.816 679.962 264.816 M679.962 261.205 Q685.518 261.205 688.689 264.816 Q691.861 268.427 691.861 274.816 Q691.861 281.182 688.689 284.816 Q685.518 288.427 679.962 288.427 Q674.384 288.427 671.213 284.816 Q668.064 281.182 668.064 274.816 Q668.064 268.427 671.213 264.816 Q674.384 261.205 679.962 261.205 Z\" fill=\"#000000\" fill-rule=\"evenodd\" fill-opacity=\"1\" /><path clip-path=\"url(#clip390)\" d=\"M698.921 251.737 L703.18 251.737 L703.18 287.756 L698.921 287.756 L698.921 251.737 Z\" fill=\"#000000\" fill-rule=\"evenodd\" fill-opacity=\"1\" /><path clip-path=\"url(#clip390)\" d=\"M711.652 277.524 L711.652 261.83 L715.911 261.83 L715.911 277.362 Q715.911 281.043 717.347 282.895 Q718.782 284.723 721.652 284.723 Q725.101 284.723 727.092 282.524 Q729.106 280.325 729.106 276.529 L729.106 261.83 L733.365 261.83 L733.365 287.756 L729.106 287.756 L729.106 283.774 Q727.555 286.135 725.495 287.293 Q723.458 288.427 720.749 288.427 Q716.282 288.427 713.967 285.649 Q711.652 282.871 711.652 277.524 M722.37 261.205 L722.37 261.205 Z\" fill=\"#000000\" fill-rule=\"evenodd\" fill-opacity=\"1\" /><path clip-path=\"url(#clip390)\" d=\"M746.351 254.469 L746.351 261.83 L755.124 261.83 L755.124 265.14 L746.351 265.14 L746.351 279.214 Q746.351 282.385 747.207 283.288 Q748.087 284.191 750.749 284.191 L755.124 284.191 L755.124 287.756 L750.749 287.756 Q745.819 287.756 743.944 285.927 Q742.069 284.075 742.069 279.214 L742.069 265.14 L738.944 265.14 L738.944 261.83 L742.069 261.83 L742.069 254.469 L746.351 254.469 Z\" fill=\"#000000\" fill-rule=\"evenodd\" fill-opacity=\"1\" /><path clip-path=\"url(#clip390)\" d=\"M760.726 261.83 L764.985 261.83 L764.985 287.756 L760.726 287.756 L760.726 261.83 M760.726 251.737 L764.985 251.737 L764.985 257.131 L760.726 257.131 L760.726 251.737 Z\" fill=\"#000000\" fill-rule=\"evenodd\" fill-opacity=\"1\" /><path clip-path=\"url(#clip390)\" d=\"M783.943 264.816 Q780.517 264.816 778.527 267.501 Q776.536 270.163 776.536 274.816 Q776.536 279.469 778.504 282.154 Q780.494 284.816 783.943 284.816 Q787.346 284.816 789.337 282.131 Q791.328 279.446 791.328 274.816 Q791.328 270.21 789.337 267.524 Q787.346 264.816 783.943 264.816 M783.943 261.205 Q789.499 261.205 792.67 264.816 Q795.841 268.427 795.841 274.816 Q795.841 281.182 792.67 284.816 Q789.499 288.427 783.943 288.427 Q778.365 288.427 775.193 284.816 Q772.045 281.182 772.045 274.816 Q772.045 268.427 775.193 264.816 Q778.365 261.205 783.943 261.205 Z\" fill=\"#000000\" fill-rule=\"evenodd\" fill-opacity=\"1\" /><path clip-path=\"url(#clip390)\" d=\"M824.452 272.108 L824.452 287.756 L820.193 287.756 L820.193 272.247 Q820.193 268.566 818.758 266.737 Q817.323 264.909 814.452 264.909 Q811.003 264.909 809.013 267.108 Q807.022 269.307 807.022 273.103 L807.022 287.756 L802.74 287.756 L802.74 261.83 L807.022 261.83 L807.022 265.858 Q808.55 263.52 810.61 262.362 Q812.693 261.205 815.402 261.205 Q819.869 261.205 822.161 263.983 Q824.452 266.737 824.452 272.108 Z\" fill=\"#000000\" fill-rule=\"evenodd\" fill-opacity=\"1\" /><path clip-path=\"url(#clip390)\" d=\"M859.799 274.723 Q854.637 274.723 852.647 275.904 Q850.656 277.084 850.656 279.932 Q850.656 282.2 852.137 283.543 Q853.642 284.862 856.212 284.862 Q859.753 284.862 861.883 282.362 Q864.036 279.839 864.036 275.672 L864.036 274.723 L859.799 274.723 M868.295 272.964 L868.295 287.756 L864.036 287.756 L864.036 283.821 Q862.577 286.182 860.401 287.316 Q858.225 288.427 855.077 288.427 Q851.096 288.427 848.735 286.205 Q846.397 283.959 846.397 280.209 Q846.397 275.834 849.313 273.612 Q852.253 271.39 858.063 271.39 L864.036 271.39 L864.036 270.973 Q864.036 268.034 862.091 266.436 Q860.17 264.816 856.674 264.816 Q854.452 264.816 852.346 265.348 Q850.239 265.881 848.295 266.946 L848.295 263.01 Q850.633 262.108 852.832 261.668 Q855.031 261.205 857.114 261.205 Q862.739 261.205 865.517 264.122 Q868.295 267.038 868.295 272.964 Z\" fill=\"#000000\" fill-rule=\"evenodd\" fill-opacity=\"1\" /><path clip-path=\"url(#clip390)\" d=\"M895.725 262.825 L895.725 266.807 Q893.92 265.811 892.091 265.325 Q890.285 264.816 888.434 264.816 Q884.29 264.816 881.998 267.455 Q879.707 270.071 879.707 274.816 Q879.707 279.561 881.998 282.2 Q884.29 284.816 888.434 284.816 Q890.285 284.816 892.091 284.33 Q893.92 283.821 895.725 282.825 L895.725 286.76 Q893.943 287.594 892.022 288.01 Q890.123 288.427 887.971 288.427 Q882.114 288.427 878.665 284.746 Q875.216 281.066 875.216 274.816 Q875.216 268.473 878.688 264.839 Q882.184 261.205 888.248 261.205 Q890.216 261.205 892.091 261.622 Q893.966 262.015 895.725 262.825 Z\" fill=\"#000000\" fill-rule=\"evenodd\" fill-opacity=\"1\" /><path clip-path=\"url(#clip390)\" d=\"M921.79 262.825 L921.79 266.807 Q919.984 265.811 918.156 265.325 Q916.35 264.816 914.498 264.816 Q910.355 264.816 908.063 267.455 Q905.771 270.071 905.771 274.816 Q905.771 279.561 908.063 282.2 Q910.355 284.816 914.498 284.816 Q916.35 284.816 918.156 284.33 Q919.984 283.821 921.79 282.825 L921.79 286.76 Q920.007 287.594 918.086 288.01 Q916.188 288.427 914.035 288.427 Q908.179 288.427 904.73 284.746 Q901.281 281.066 901.281 274.816 Q901.281 268.473 904.753 264.839 Q908.248 261.205 914.313 261.205 Q916.281 261.205 918.156 261.622 Q920.031 262.015 921.79 262.825 Z\" fill=\"#000000\" fill-rule=\"evenodd\" fill-opacity=\"1\" /><path clip-path=\"url(#clip390)\" d=\"M939.243 264.816 Q935.818 264.816 933.827 267.501 Q931.836 270.163 931.836 274.816 Q931.836 279.469 933.804 282.154 Q935.794 284.816 939.243 284.816 Q942.646 284.816 944.637 282.131 Q946.628 279.446 946.628 274.816 Q946.628 270.21 944.637 267.524 Q942.646 264.816 939.243 264.816 M939.243 261.205 Q944.799 261.205 947.97 264.816 Q951.142 268.427 951.142 274.816 Q951.142 281.182 947.97 284.816 Q944.799 288.427 939.243 288.427 Q933.665 288.427 930.494 284.816 Q927.345 281.182 927.345 274.816 Q927.345 268.427 930.494 264.816 Q933.665 261.205 939.243 261.205 Z\" fill=\"#000000\" fill-rule=\"evenodd\" fill-opacity=\"1\" /><path clip-path=\"url(#clip390)\" d=\"M973.225 265.811 Q972.507 265.395 971.651 265.21 Q970.817 265.001 969.799 265.001 Q966.188 265.001 964.243 267.362 Q962.322 269.7 962.322 274.098 L962.322 287.756 L958.04 287.756 L958.04 261.83 L962.322 261.83 L962.322 265.858 Q963.665 263.497 965.817 262.362 Q967.97 261.205 971.049 261.205 Q971.489 261.205 972.021 261.274 Q972.553 261.321 973.202 261.436 L973.225 265.811 Z\" fill=\"#000000\" fill-rule=\"evenodd\" fill-opacity=\"1\" /><path clip-path=\"url(#clip390)\" d=\"M993.919 265.765 L993.919 251.737 L998.178 251.737 L998.178 287.756 L993.919 287.756 L993.919 283.867 Q992.577 286.182 990.516 287.316 Q988.479 288.427 985.609 288.427 Q980.91 288.427 977.947 284.677 Q975.007 280.927 975.007 274.816 Q975.007 268.705 977.947 264.955 Q980.91 261.205 985.609 261.205 Q988.479 261.205 990.516 262.339 Q992.577 263.45 993.919 265.765 M979.405 274.816 Q979.405 279.515 981.327 282.2 Q983.271 284.862 986.651 284.862 Q990.03 284.862 991.975 282.2 Q993.919 279.515 993.919 274.816 Q993.919 270.117 991.975 267.455 Q990.03 264.77 986.651 264.77 Q983.271 264.77 981.327 267.455 Q979.405 270.117 979.405 274.816 Z\" fill=\"#000000\" fill-rule=\"evenodd\" fill-opacity=\"1\" /><path clip-path=\"url(#clip390)\" d=\"M1006.95 261.83 L1011.21 261.83 L1011.21 287.756 L1006.95 287.756 L1006.95 261.83 M1006.95 251.737 L1011.21 251.737 L1011.21 257.131 L1006.95 257.131 L1006.95 251.737 Z\" fill=\"#000000\" fill-rule=\"evenodd\" fill-opacity=\"1\" /><path clip-path=\"url(#clip390)\" d=\"M1041.67 272.108 L1041.67 287.756 L1037.41 287.756 L1037.41 272.247 Q1037.41 268.566 1035.98 266.737 Q1034.54 264.909 1031.67 264.909 Q1028.22 264.909 1026.23 267.108 Q1024.24 269.307 1024.24 273.103 L1024.24 287.756 L1019.96 287.756 L1019.96 261.83 L1024.24 261.83 L1024.24 265.858 Q1025.77 263.52 1027.83 262.362 Q1029.91 261.205 1032.62 261.205 Q1037.09 261.205 1039.38 263.983 Q1041.67 266.737 1041.67 272.108 Z\" fill=\"#000000\" fill-rule=\"evenodd\" fill-opacity=\"1\" /><path clip-path=\"url(#clip390)\" d=\"M1067.23 274.492 Q1067.23 269.862 1065.31 267.316 Q1063.41 264.77 1059.96 264.77 Q1056.53 264.77 1054.61 267.316 Q1052.72 269.862 1052.72 274.492 Q1052.72 279.098 1054.61 281.645 Q1056.53 284.191 1059.96 284.191 Q1063.41 284.191 1065.31 281.645 Q1067.23 279.098 1067.23 274.492 M1071.49 284.538 Q1071.49 291.158 1068.55 294.376 Q1065.61 297.617 1059.54 297.617 Q1057.3 297.617 1055.31 297.27 Q1053.32 296.945 1051.44 296.251 L1051.44 292.108 Q1053.32 293.126 1055.15 293.612 Q1056.97 294.098 1058.87 294.098 Q1063.06 294.098 1065.15 291.899 Q1067.23 289.723 1067.23 285.302 L1067.23 283.196 Q1065.91 285.487 1063.85 286.621 Q1061.79 287.756 1058.92 287.756 Q1054.15 287.756 1051.23 284.121 Q1048.32 280.487 1048.32 274.492 Q1048.32 268.473 1051.23 264.839 Q1054.15 261.205 1058.92 261.205 Q1061.79 261.205 1063.85 262.339 Q1065.91 263.473 1067.23 265.765 L1067.23 261.83 L1071.49 261.83 L1071.49 284.538 Z\" fill=\"#000000\" fill-rule=\"evenodd\" fill-opacity=\"1\" /><path clip-path=\"url(#clip390)\" d=\"M1099.54 254.469 L1099.54 261.83 L1108.32 261.83 L1108.32 265.14 L1099.54 265.14 L1099.54 279.214 Q1099.54 282.385 1100.4 283.288 Q1101.28 284.191 1103.94 284.191 L1108.32 284.191 L1108.32 287.756 L1103.94 287.756 Q1099.01 287.756 1097.14 285.927 Q1095.26 284.075 1095.26 279.214 L1095.26 265.14 L1092.14 265.14 L1092.14 261.83 L1095.26 261.83 L1095.26 254.469 L1099.54 254.469 Z\" fill=\"#000000\" fill-rule=\"evenodd\" fill-opacity=\"1\" /><path clip-path=\"url(#clip390)\" d=\"M1123.96 264.816 Q1120.54 264.816 1118.55 267.501 Q1116.56 270.163 1116.56 274.816 Q1116.56 279.469 1118.52 282.154 Q1120.52 284.816 1123.96 284.816 Q1127.37 284.816 1129.36 282.131 Q1131.35 279.446 1131.35 274.816 Q1131.35 270.21 1129.36 267.524 Q1127.37 264.816 1123.96 264.816 M1123.96 261.205 Q1129.52 261.205 1132.69 264.816 Q1135.86 268.427 1135.86 274.816 Q1135.86 281.182 1132.69 284.816 Q1129.52 288.427 1123.96 288.427 Q1118.39 288.427 1115.21 284.816 Q1112.07 281.182 1112.07 274.816 Q1112.07 268.427 1115.21 264.816 Q1118.39 261.205 1123.96 261.205 Z\" fill=\"#000000\" fill-rule=\"evenodd\" fill-opacity=\"1\" /><path clip-path=\"url(#clip390)\" d=\"M1184.06 255.858 L1184.06 260.788 Q1181.7 258.589 1179.01 257.501 Q1176.35 256.413 1173.34 256.413 Q1167.41 256.413 1164.27 260.048 Q1161.12 263.659 1161.12 270.51 Q1161.12 277.339 1164.27 280.973 Q1167.41 284.584 1173.34 284.584 Q1176.35 284.584 1179.01 283.496 Q1181.7 282.409 1184.06 280.209 L1184.06 285.094 Q1181.6 286.76 1178.85 287.594 Q1176.12 288.427 1173.06 288.427 Q1165.21 288.427 1160.7 283.635 Q1156.19 278.821 1156.19 270.51 Q1156.19 262.177 1160.7 257.386 Q1165.21 252.571 1173.06 252.571 Q1176.16 252.571 1178.89 253.404 Q1181.65 254.214 1184.06 255.858 Z\" fill=\"#000000\" fill-rule=\"evenodd\" fill-opacity=\"1\" /><path clip-path=\"url(#clip390)\" d=\"M1186.49 253.196 L1215.72 253.196 L1215.72 257.131 L1203.46 257.131 L1203.46 287.756 L1198.76 287.756 L1198.76 257.131 L1186.49 257.131 L1186.49 253.196 Z\" fill=\"#000000\" fill-rule=\"evenodd\" fill-opacity=\"1\" /><path clip-path=\"url(#clip390)\" d=\"M1220.24 253.196 L1227.2 253.196 L1236.02 276.714 L1244.89 253.196 L1251.86 253.196 L1251.86 287.756 L1247.3 287.756 L1247.3 257.409 L1238.39 281.112 L1233.69 281.112 L1224.77 257.409 L1224.77 287.756 L1220.24 287.756 L1220.24 253.196 Z\" fill=\"#000000\" fill-rule=\"evenodd\" fill-opacity=\"1\" /><path clip-path=\"url(#clip390)\" d=\"M1287.02 255.858 L1287.02 260.788 Q1284.66 258.589 1281.97 257.501 Q1279.31 256.413 1276.3 256.413 Q1270.38 256.413 1267.23 260.048 Q1264.08 263.659 1264.08 270.51 Q1264.08 277.339 1267.23 280.973 Q1270.38 284.584 1276.3 284.584 Q1279.31 284.584 1281.97 283.496 Q1284.66 282.409 1287.02 280.209 L1287.02 285.094 Q1284.57 286.76 1281.81 287.594 Q1279.08 288.427 1276.02 288.427 Q1268.18 288.427 1263.66 283.635 Q1259.15 278.821 1259.15 270.51 Q1259.15 262.177 1263.66 257.386 Q1268.18 252.571 1276.02 252.571 Q1279.13 252.571 1281.86 253.404 Q1284.61 254.214 1287.02 255.858 Z\" fill=\"#000000\" fill-rule=\"evenodd\" fill-opacity=\"1\" /><path clip-path=\"url(#clip390)\" d=\"M1293.39 251.784 L1297.09 251.784 Q1300.56 257.247 1302.27 262.478 Q1304.01 267.71 1304.01 272.872 Q1304.01 278.057 1302.27 283.311 Q1300.56 288.566 1297.09 294.006 L1293.39 294.006 Q1296.46 288.705 1297.97 283.473 Q1299.5 278.219 1299.5 272.872 Q1299.5 267.524 1297.97 262.316 Q1296.46 257.108 1293.39 251.784 Z\" fill=\"#000000\" fill-rule=\"evenodd\" fill-opacity=\"1\" /><polyline clip-path=\"url(#clip390)\" style=\"stroke:#3da44d; stroke-linecap:butt; stroke-linejoin:round; stroke-width:4; stroke-opacity:1; fill:none\" points=\"\n",
       "  272.215,322.316 417.369,322.316 \n",
       "  \"/>\n",
       "<path clip-path=\"url(#clip390)\" d=\"M457.579 308.207 Q452.487 308.207 449.478 312.003 Q446.491 315.8 446.491 322.35 Q446.491 328.878 449.478 332.674 Q452.487 336.471 457.579 336.471 Q462.672 336.471 465.635 332.674 Q468.621 328.878 468.621 322.35 Q468.621 315.8 465.635 312.003 Q462.672 308.207 457.579 308.207 M457.579 304.411 Q464.848 304.411 469.2 309.295 Q473.552 314.156 473.552 322.35 Q473.552 330.522 469.2 335.406 Q464.848 340.267 457.579 340.267 Q450.288 340.267 445.913 335.406 Q441.561 330.545 441.561 322.35 Q441.561 314.156 445.913 309.295 Q450.288 304.411 457.579 304.411 Z\" fill=\"#000000\" fill-rule=\"evenodd\" fill-opacity=\"1\" /><path clip-path=\"url(#clip390)\" d=\"M499.292 326.656 Q499.292 321.957 497.348 319.295 Q495.426 316.61 492.047 316.61 Q488.667 316.61 486.723 319.295 Q484.801 321.957 484.801 326.656 Q484.801 331.355 486.723 334.04 Q488.667 336.702 492.047 336.702 Q495.426 336.702 497.348 334.04 Q499.292 331.355 499.292 326.656 M484.801 317.605 Q486.144 315.29 488.181 314.179 Q490.241 313.045 493.088 313.045 Q497.811 313.045 500.75 316.795 Q503.713 320.545 503.713 326.656 Q503.713 332.767 500.75 336.517 Q497.811 340.267 493.088 340.267 Q490.241 340.267 488.181 339.156 Q486.144 338.022 484.801 335.707 L484.801 339.596 L480.519 339.596 L480.519 303.577 L484.801 303.577 L484.801 317.605 Z\" fill=\"#000000\" fill-rule=\"evenodd\" fill-opacity=\"1\" /><path clip-path=\"url(#clip390)\" d=\"M510.774 313.67 L515.033 313.67 L515.033 340.059 Q515.033 345.012 513.135 347.235 Q511.26 349.457 507.07 349.457 L505.45 349.457 L505.45 345.846 L506.584 345.846 Q509.014 345.846 509.894 344.711 Q510.774 343.6 510.774 340.059 L510.774 313.67 M510.774 303.577 L515.033 303.577 L515.033 308.971 L510.774 308.971 L510.774 303.577 Z\" fill=\"#000000\" fill-rule=\"evenodd\" fill-opacity=\"1\" /><path clip-path=\"url(#clip390)\" d=\"M546.121 325.568 L546.121 327.651 L526.537 327.651 Q526.815 332.049 529.176 334.364 Q531.56 336.656 535.797 336.656 Q538.25 336.656 540.542 336.054 Q542.857 335.452 545.125 334.249 L545.125 338.276 Q542.834 339.248 540.426 339.758 Q538.019 340.267 535.542 340.267 Q529.338 340.267 525.704 336.656 Q522.093 333.045 522.093 326.887 Q522.093 320.522 525.519 316.795 Q528.968 313.045 534.801 313.045 Q540.033 313.045 543.065 316.425 Q546.121 319.781 546.121 325.568 M541.861 324.318 Q541.815 320.823 539.894 318.739 Q537.996 316.656 534.847 316.656 Q531.283 316.656 529.13 318.67 Q527 320.684 526.676 324.341 L541.861 324.318 Z\" fill=\"#000000\" fill-rule=\"evenodd\" fill-opacity=\"1\" /><path clip-path=\"url(#clip390)\" d=\"M571.769 314.665 L571.769 318.647 Q569.963 317.651 568.134 317.165 Q566.329 316.656 564.477 316.656 Q560.333 316.656 558.042 319.295 Q555.75 321.911 555.75 326.656 Q555.75 331.401 558.042 334.04 Q560.333 336.656 564.477 336.656 Q566.329 336.656 568.134 336.17 Q569.963 335.661 571.769 334.665 L571.769 338.6 Q569.986 339.434 568.065 339.85 Q566.167 340.267 564.014 340.267 Q558.158 340.267 554.709 336.586 Q551.259 332.906 551.259 326.656 Q551.259 320.313 554.732 316.679 Q558.227 313.045 564.292 313.045 Q566.259 313.045 568.134 313.462 Q570.009 313.855 571.769 314.665 Z\" fill=\"#000000\" fill-rule=\"evenodd\" fill-opacity=\"1\" /><path clip-path=\"url(#clip390)\" d=\"M583.389 306.309 L583.389 313.67 L592.162 313.67 L592.162 316.98 L583.389 316.98 L583.389 331.054 Q583.389 334.225 584.245 335.128 Q585.125 336.031 587.787 336.031 L592.162 336.031 L592.162 339.596 L587.787 339.596 Q582.856 339.596 580.982 337.767 Q579.107 335.915 579.107 331.054 L579.107 316.98 L575.982 316.98 L575.982 313.67 L579.107 313.67 L579.107 306.309 L583.389 306.309 Z\" fill=\"#000000\" fill-rule=\"evenodd\" fill-opacity=\"1\" /><path clip-path=\"url(#clip390)\" d=\"M597.764 313.67 L602.023 313.67 L602.023 339.596 L597.764 339.596 L597.764 313.67 M597.764 303.577 L602.023 303.577 L602.023 308.971 L597.764 308.971 L597.764 303.577 Z\" fill=\"#000000\" fill-rule=\"evenodd\" fill-opacity=\"1\" /><path clip-path=\"url(#clip390)\" d=\"M607.88 313.67 L612.393 313.67 L620.495 335.429 L628.597 313.67 L633.111 313.67 L623.389 339.596 L617.602 339.596 L607.88 313.67 Z\" fill=\"#000000\" fill-rule=\"evenodd\" fill-opacity=\"1\" /><path clip-path=\"url(#clip390)\" d=\"M661.166 325.568 L661.166 327.651 L641.583 327.651 Q641.861 332.049 644.222 334.364 Q646.606 336.656 650.842 336.656 Q653.296 336.656 655.588 336.054 Q657.902 335.452 660.171 334.249 L660.171 338.276 Q657.879 339.248 655.472 339.758 Q653.064 340.267 650.588 340.267 Q644.384 340.267 640.75 336.656 Q637.139 333.045 637.139 326.887 Q637.139 320.522 640.565 316.795 Q644.014 313.045 649.847 313.045 Q655.078 313.045 658.111 316.425 Q661.166 319.781 661.166 325.568 M656.907 324.318 Q656.861 320.823 654.939 318.739 Q653.041 316.656 649.893 316.656 Q646.328 316.656 644.176 318.67 Q642.046 320.684 641.722 324.341 L656.907 324.318 Z\" fill=\"#000000\" fill-rule=\"evenodd\" fill-opacity=\"1\" /></svg>\n"
      ]
     },
     "execution_count": 266,
     "metadata": {},
     "output_type": "execute_result"
    }
   ],
   "source": [
    "inn=3\n",
    "plot(range(1, 50; length = 50),[0.968^(-1*i) for i = 1:50],labels=\"Time val of money\")\n",
    "plot!(range(1, 50; length = 50), [get_latest.(inn,1:50)],labels=\"5 - (RL evolution according to CTMC)\")\n",
    "plot_ref=plot!(range(1, 50; length = 50), [0.968^(-1*i)*get_latest.(inn,i) for i = 1:50], labels=\"Objective\",legend=:topleft,\n",
    "        xlab=\"Time (yrs)\", ylab=\"Obj domain\", title=\"Conflicting factors in cost objective, innovation 1\")\n",
    "#savefig(plot_ref,\"evolution-inn_costObj.svg\")"
   ]
  },
  {
   "cell_type": "code",
   "execution_count": 270,
   "id": "bdb62723-3bec-460d-91b3-28b794963125",
   "metadata": {},
   "outputs": [
    {
     "data": {
      "text/plain": [
       "41×6 Matrix{Float64}:\n",
       "  0.0   1.99304  2.9877   4.03842  1.97829  3.99762\n",
       "  1.25  1.74797  3.0479   3.83095  1.95276  3.99894\n",
       "  2.5   1.56345  3.09335  3.64195  1.92998  3.99786\n",
       "  3.75  1.43071  3.13236  3.47374  1.91524  3.99623\n",
       "  5.0   1.33152  3.16732  3.32463  1.91046  3.99522\n",
       "  6.25  1.25508  3.19957  3.19233  1.91583  3.99557\n",
       "  7.5   1.19476  3.2301   3.0748   1.93071  3.99783\n",
       "  8.75  1.14639  3.25971  2.97042  1.95419  4.00245\n",
       " 10.0   1.10731  3.28907  2.87796  1.98531  4.00977\n",
       " 11.25  1.07574  3.31874  2.79644  2.02319  4.02012\n",
       " 12.5   1.0505   3.34918  2.72513  2.06709  4.03377\n",
       " 13.75  1.03075  3.3808   2.66342  2.11645  4.05099\n",
       " 15.0   1.01591  3.41393  2.61081  2.17081  4.07201\n",
       "  ⋮                                         ⋮\n",
       " 36.25  1.28835  4.41637  2.84703  3.78991  5.2083\n",
       " 37.5   1.32993  4.511    2.9192   3.9318   5.33226\n",
       " 38.75  1.37423  4.6107   2.99753  4.08007  5.46395\n",
       " 40.0   1.42127  4.71566  3.08208  4.23497  5.60362\n",
       " 41.25  1.47109  4.82609  3.17289  4.39675  5.75156\n",
       " 42.5   1.52374  4.9422   3.27004  4.56568  5.90803\n",
       " 43.75  1.57927  5.06423  3.37362  4.74205  6.07333\n",
       " 45.0   1.63775  5.19239  3.48371  4.92616  6.24777\n",
       " 46.25  1.69924  5.32693  3.60045  5.1183   6.43167\n",
       " 47.5   1.76382  5.46811  3.72397  5.3188   6.62535\n",
       " 48.75  1.83157  5.61618  3.8544   5.528    6.82917\n",
       " 50.0   1.90258  5.77142  3.99192  5.74624  7.04349"
      ]
     },
     "execution_count": 270,
     "metadata": {},
     "output_type": "execute_result"
    }
   ],
   "source": [
    "intvls=40\n",
    "fval=zeros(intvls+1,5)\n",
    "tval=zeros(intvls+1,5)\n",
    "for inn in 1:5\n",
    "    tval[:,inn]=[i*(50/intvls) for i = 0:intvls]\n",
    "    fval[:,inn]=[0.968^(-1*i*(50/intvls))*get_latest.(inn,i*(50/intvls)) for i =0:intvls]\n",
    "end\n",
    "[tval[:,1] fval]"
   ]
  },
  {
   "cell_type": "code",
   "execution_count": 271,
   "id": "86123d51-f511-4bd2-b80b-e8212a2f9b4d",
   "metadata": {},
   "outputs": [
    {
     "data": {
      "text/plain": [
       "\"cost_inn_obj.csv\""
      ]
     },
     "execution_count": 271,
     "metadata": {},
     "output_type": "execute_result"
    }
   ],
   "source": [
    "CSV.write(\"cost_inn_obj.csv\",  Tables.table([tval[:,1] fval]), writeheader=true)\n"
   ]
  },
  {
   "cell_type": "code",
   "execution_count": 23,
   "id": "657920ef-5adf-4bec-a88c-7c96a684d566",
   "metadata": {},
   "outputs": [
    {
     "data": {
      "text/plain": [
       "6×5 Matrix{Float64}:\n",
       "  0.0  0.0  0.0  0.0  0.0\n",
       " 10.0  0.0  0.0  0.0  0.0\n",
       " 20.0  0.0  0.0  0.0  0.0\n",
       " 30.0  0.0  0.0  0.0  0.0\n",
       " 40.0  0.0  0.0  0.0  0.0\n",
       " 50.0  0.0  0.0  0.0  0.0"
      ]
     },
     "execution_count": 23,
     "metadata": {},
     "output_type": "execute_result"
    }
   ],
   "source": [
    "tval"
   ]
  },
  {
   "cell_type": "code",
   "execution_count": 24,
   "id": "b0bd3c06",
   "metadata": {},
   "outputs": [
    {
     "data": {
      "text/plain": [
       "1×1 Matrix{Float64}:\n",
       " 3.8698053730585023"
      ]
     },
     "execution_count": 24,
     "metadata": {},
     "output_type": "execute_result"
    }
   ],
   "source": [
    "function get_new1(i,t)\n",
    "    s0=[0 0 0 0 0]\n",
    "    s0[rl[i]]=1\n",
    "    p_mat=reshape(collect(innovations[i,9:33]),5,5)'\n",
    "    q_mat=p_mat./collect(innovations[i,4:8])\n",
    "    for i in 1:5\n",
    "        q_mat[i,i]=-1*sum(q_mat[i,j] for j in 1:5 if j!=i)\n",
    "    end\n",
    "    q=q_mat\n",
    "    \n",
    "    temp1=Diagonal(eigvals(q))*t\n",
    "    temp2=reshape(reduce(vcat,(exp(temp1))),5,5)\n",
    "    d=eigvecs(q)*(temp2)*inv(eigvecs(q))\n",
    "    t1=(s0)*eigvecs(q)\n",
    "    return t1\n",
    "end\n",
    "function get_new2(i,t)\n",
    "    s0=[0 0 0 0 0]\n",
    "    s0[rl[i]]=1\n",
    "    p_mat=reshape(collect(innovations[i,9:33]),5,5)'\n",
    "    q_mat=p_mat./collect(innovations[i,4:8])\n",
    "    for i in 1:5\n",
    "        q_mat[i,i]=-1*sum(q_mat[i,j] for j in 1:5 if j!=i)\n",
    "    end\n",
    "    q=q_mat\n",
    "    \n",
    "    temp1=(eigvals(q))*t\n",
    "    return temp1\n",
    "end\n",
    "\n",
    "function get_new3(i,t)\n",
    "    s0=[0 0 0 0 0]\n",
    "    s0[rl[i]]=1\n",
    "    p_mat=reshape(collect(innovations[i,9:33]),5,5)'\n",
    "    q_mat=p_mat./collect(innovations[i,4:8])\n",
    "    for i in 1:5\n",
    "        q_mat[i,i]=-1*sum(q_mat[i,j] for j in 1:5 if j!=i)\n",
    "    end\n",
    "    return inv(eigvecs(q_mat))\n",
    "end\n",
    "\n",
    "\n",
    "function get_new(i,t)\n",
    "    return ([1 2 3 4 5]*(get_new1(i,t).*round.(exp.(get_new2(i,t)),sigdigits=3)'*get_new3(i,t))')\n",
    "end\n",
    "#get_RL(1,50)\n",
    "\n",
    "\n",
    "\n",
    "i=1\n",
    "t=50\n",
    "s0=[0 0 0 0 0]\n",
    "s0[rl[i]]=1\n",
    "p_mat=reshape(collect(innovations[i,9:33]),5,5)'\n",
    "q_mat=p_mat./collect(innovations[i,4:8])\n",
    "for i in 1:5\n",
    "    q_mat[i,i]=-1*sum(q_mat[i,j] for j in 1:5 if j!=i)\n",
    "end\n",
    "q=q_mat\n",
    "#rl_t=sum([1 2 3 4 5].*(s0*exp(q*t)))\n",
    "#rl_t=sum([1 2 3 4 5].*(s0*(I+t*q+1/2*t^2*q^2)))\n",
    "temp1=Diagonal(eigvals(q))*t\n",
    "temp2=reshape(reduce(vcat,(exp(temp1))),5,5)\n",
    "d=eigvecs(q)*(temp2)*inv(eigvecs(q))\n",
    "rl_t=sum([1 2 3 4 5].*(s0*d))\n",
    "temp2\n",
    "\n",
    "[exp(get_new2(4,50)[i]) for i in 1:5]\n",
    "get_new1(4,50).*[exp(get_new2(4,50)[i]) for i in 1:5]\n",
    "get_new2(4,50)[1]\n",
    "get_new(4,50)"
   ]
  },
  {
   "cell_type": "code",
   "execution_count": 25,
   "id": "2945163c",
   "metadata": {},
   "outputs": [
    {
     "ename": "LoadError",
     "evalue": "UndefVarError: get_rate_mat not defined",
     "output_type": "error",
     "traceback": [
      "UndefVarError: get_rate_mat not defined",
      "",
      "Stacktrace:",
      " [1] top-level scope",
      "   @ In[25]:1",
      " [2] eval",
      "   @ ./boot.jl:360 [inlined]",
      " [3] include_string(mapexpr::typeof(REPL.softscope), mod::Module, code::String, filename::String)",
      "   @ Base ./loading.jl:1116"
     ]
    }
   ],
   "source": [
    "g=exp(get_rate_mat(2)*50)\n"
   ]
  },
  {
   "cell_type": "code",
   "execution_count": 26,
   "id": "9d70e055",
   "metadata": {},
   "outputs": [
    {
     "ename": "LoadError",
     "evalue": "UndefVarError: g not defined",
     "output_type": "error",
     "traceback": [
      "UndefVarError: g not defined",
      "",
      "Stacktrace:",
      " [1] top-level scope",
      "   @ ./In[26]:6",
      " [2] eval",
      "   @ ./boot.jl:360 [inlined]",
      " [3] include_string(mapexpr::typeof(REPL.softscope), mod::Module, code::String, filename::String)",
      "   @ Base ./loading.jl:1116"
     ]
    }
   ],
   "source": [
    "n = 5\n",
    "edgelabel_dict = Dict()\n",
    "edgelabel_mat = Array{String}(undef, n, n)\n",
    "for i in 1:n\n",
    "    for j in 1:n\n",
    "        edgelabel_mat[i, j] = edgelabel_dict[(i, j)] = string(round(g[i,j],sigdigits=2)) \n",
    "    end\n",
    "end\n",
    "edgelabel_vec = edgelabel_mat[:]\n",
    "\n",
    "\n",
    "graphplot(g, names=1:5, curvature_scalar=0.2,  edgelabel=edgelabel_dict, markersize = 0.5,\n",
    "           linecolor = :darkgrey, markercolor = \"yellow\",\n",
    "           linealpha = 0.7)"
   ]
  },
  {
   "cell_type": "code",
   "execution_count": null,
   "id": "04ee1f2b",
   "metadata": {},
   "outputs": [],
   "source": []
  },
  {
   "cell_type": "code",
   "execution_count": null,
   "id": "9245cfa2",
   "metadata": {},
   "outputs": [],
   "source": []
  }
 ],
 "metadata": {
  "kernelspec": {
   "display_name": "Julia 1.6.3",
   "language": "julia",
   "name": "julia-1.6"
  },
  "language_info": {
   "file_extension": ".jl",
   "mimetype": "application/julia",
   "name": "julia",
   "version": "1.6.3"
  }
 },
 "nbformat": 4,
 "nbformat_minor": 5
}
