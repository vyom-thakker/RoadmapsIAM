{
 "cells": [
  {
   "cell_type": "code",
   "execution_count": 2,
   "id": "0cd38929",
   "metadata": {},
   "outputs": [
    {
     "name": "stderr",
     "output_type": "stream",
     "text": [
      "\u001b[32m\u001b[1m  Activating\u001b[22m\u001b[39m environment at `~/Documents/project-codes/Plan_RoadmapsIAM/toy-problem/Project.toml`\n"
     ]
    }
   ],
   "source": [
    "\n",
    "using Pkg\n",
    "Pkg.activate(\".\")\n",
    "#Pkg.pin(\"JuMP\")\n",
    "#Pkg.pin(\"Gurobi\")\n",
    "using JuMP\n",
    "using CSV\n",
    "using GraphRecipes, Plots\n",
    "using LightGraphs\n",
    "using LinearAlgebra\n",
    "using SparseArrays\n",
    "using DataFrames\n",
    "using Gurobi"
   ]
  },
  {
   "cell_type": "code",
   "execution_count": 3,
   "id": "6cd49756",
   "metadata": {},
   "outputs": [
    {
     "data": {
      "text/html": [
       "<div class=\"data-frame\"><p>1 rows × 6 columns</p><table class=\"data-frame\"><thead><tr><th></th><th>k</th><th>i</th><th>GWP</th><th>Theta</th><th>Per_Recycl</th><th>Per_Comp</th></tr><tr><th></th><th title=\"Int64\">Int64</th><th title=\"Int64\">Int64</th><th title=\"Int64\">Int64</th><th title=\"Float64\">Float64</th><th title=\"Float64\">Float64</th><th title=\"Int64\">Int64</th></tr></thead><tbody><tr><th>1</th><td>0</td><td>0</td><td>100</td><td>0.25</td><td>0.12</td><td>0</td></tr></tbody></table></div>"
      ],
      "text/latex": [
       "\\begin{tabular}{r|cccccc}\n",
       "\t& k & i & GWP & Theta & Per\\_Recycl & Per\\_Comp\\\\\n",
       "\t\\hline\n",
       "\t& Int64 & Int64 & Int64 & Float64 & Float64 & Int64\\\\\n",
       "\t\\hline\n",
       "\t1 & 0 & 0 & 100 & 0.25 & 0.12 & 0 \\\\\n",
       "\\end{tabular}\n"
      ],
      "text/plain": [
       "\u001b[1m1×6 DataFrame\u001b[0m\n",
       "\u001b[1m Row \u001b[0m│\u001b[1m k     \u001b[0m\u001b[1m i     \u001b[0m\u001b[1m GWP   \u001b[0m\u001b[1m Theta   \u001b[0m\u001b[1m Per_Recycl \u001b[0m\u001b[1m Per_Comp \u001b[0m\n",
       "\u001b[1m     \u001b[0m│\u001b[90m Int64 \u001b[0m\u001b[90m Int64 \u001b[0m\u001b[90m Int64 \u001b[0m\u001b[90m Float64 \u001b[0m\u001b[90m Float64    \u001b[0m\u001b[90m Int64    \u001b[0m\n",
       "─────┼────────────────────────────────────────────────────\n",
       "   1 │     0      0    100     0.25        0.12         0"
      ]
     },
     "execution_count": 3,
     "metadata": {},
     "output_type": "execute_result"
    }
   ],
   "source": [
    "innovations = CSV.File(\"./innovations.csv\",header=1,delim=\",\") |> DataFrame\n",
    "mapki = CSV.File(\"./map-ki.csv\",header=1,delim=\",\") |> DataFrame\n",
    "compromise = CSV.File(\"./compromise.csv\",header=1,delim=\",\") |> DataFrame\n",
    "initial = CSV.File(\"./initial.csv\",header=1,delim=\",\") |> DataFrame\n",
    "ci=innovations[!,2]\n",
    "rl=innovations[!,3]\n",
    "innovations[2,6]=7\n",
    "initial"
   ]
  },
  {
   "cell_type": "code",
   "execution_count": 4,
   "id": "f12511b3",
   "metadata": {},
   "outputs": [
    {
     "data": {
      "text/html": [
       "<div class=\"data-frame\"><p>5 rows × 33 columns (omitted printing of 24 columns)</p><table class=\"data-frame\"><thead><tr><th></th><th>i</th><th>Cost_per_RL</th><th>RL</th><th>Sojourn1</th><th>Sojourn2</th><th>Sojourn3</th><th>Sojourn4</th><th>Sojourn5</th><th>P11</th></tr><tr><th></th><th title=\"Int64\">Int64</th><th title=\"Int64\">Int64</th><th title=\"Int64\">Int64</th><th title=\"Float64\">Float64</th><th title=\"Float64\">Float64</th><th title=\"Float64\">Float64</th><th title=\"Float64\">Float64</th><th title=\"Float64\">Float64</th><th title=\"Int64\">Int64</th></tr></thead><tbody><tr><th>1</th><td>1</td><td>92</td><td>2</td><td>4.6</td><td>1.34</td><td>2.04</td><td>0.12</td><td>8.86</td><td>0</td></tr><tr><th>2</th><td>2</td><td>122</td><td>3</td><td>8.32</td><td>8.84</td><td>7.0</td><td>9.9</td><td>9.65</td><td>0</td></tr><tr><th>3</th><td>3</td><td>78</td><td>1</td><td>4.44</td><td>1.21</td><td>5.09</td><td>6.52</td><td>8.67</td><td>0</td></tr><tr><th>4</th><td>4</td><td>131</td><td>3</td><td>5.48</td><td>7.62</td><td>3.34</td><td>5.05</td><td>5.6</td><td>0</td></tr><tr><th>5</th><td>5</td><td>95</td><td>1</td><td>9.94</td><td>2.38</td><td>7.94</td><td>3.82</td><td>5.44</td><td>0</td></tr></tbody></table></div>"
      ],
      "text/latex": [
       "\\begin{tabular}{r|cccccccccc}\n",
       "\t& i & Cost\\_per\\_RL & RL & Sojourn1 & Sojourn2 & Sojourn3 & Sojourn4 & Sojourn5 & P11 & \\\\\n",
       "\t\\hline\n",
       "\t& Int64 & Int64 & Int64 & Float64 & Float64 & Float64 & Float64 & Float64 & Int64 & \\\\\n",
       "\t\\hline\n",
       "\t1 & 1 & 92 & 2 & 4.6 & 1.34 & 2.04 & 0.12 & 8.86 & 0 & $\\dots$ \\\\\n",
       "\t2 & 2 & 122 & 3 & 8.32 & 8.84 & 7.0 & 9.9 & 9.65 & 0 & $\\dots$ \\\\\n",
       "\t3 & 3 & 78 & 1 & 4.44 & 1.21 & 5.09 & 6.52 & 8.67 & 0 & $\\dots$ \\\\\n",
       "\t4 & 4 & 131 & 3 & 5.48 & 7.62 & 3.34 & 5.05 & 5.6 & 0 & $\\dots$ \\\\\n",
       "\t5 & 5 & 95 & 1 & 9.94 & 2.38 & 7.94 & 3.82 & 5.44 & 0 & $\\dots$ \\\\\n",
       "\\end{tabular}\n"
      ],
      "text/plain": [
       "\u001b[1m5×33 DataFrame\u001b[0m\n",
       "\u001b[1m Row \u001b[0m│\u001b[1m i     \u001b[0m\u001b[1m Cost_per_RL \u001b[0m\u001b[1m RL    \u001b[0m\u001b[1m Sojourn1 \u001b[0m\u001b[1m Sojourn2 \u001b[0m\u001b[1m Sojourn3 \u001b[0m\u001b[1m Sojourn4 \u001b[0m\u001b[1m Sojo\u001b[0m ⋯\n",
       "\u001b[1m     \u001b[0m│\u001b[90m Int64 \u001b[0m\u001b[90m Int64       \u001b[0m\u001b[90m Int64 \u001b[0m\u001b[90m Float64  \u001b[0m\u001b[90m Float64  \u001b[0m\u001b[90m Float64  \u001b[0m\u001b[90m Float64  \u001b[0m\u001b[90m Floa\u001b[0m ⋯\n",
       "─────┼──────────────────────────────────────────────────────────────────────────\n",
       "   1 │     1           92      2      4.6       1.34      2.04      0.12       ⋯\n",
       "   2 │     2          122      3      8.32      8.84      7.0       9.9\n",
       "   3 │     3           78      1      4.44      1.21      5.09      6.52\n",
       "   4 │     4          131      3      5.48      7.62      3.34      5.05\n",
       "   5 │     5           95      1      9.94      2.38      7.94      3.82       ⋯\n",
       "\u001b[36m                                                              26 columns omitted\u001b[0m"
      ]
     },
     "execution_count": 4,
     "metadata": {},
     "output_type": "execute_result"
    }
   ],
   "source": [
    "innovations"
   ]
  },
  {
   "cell_type": "code",
   "execution_count": 5,
   "id": "c5e56caa",
   "metadata": {},
   "outputs": [
    {
     "data": {
      "text/html": [
       "<div class=\"data-frame\"><p>25 rows × 6 columns</p><table class=\"data-frame\"><thead><tr><th></th><th>k</th><th>i</th><th>GWP</th><th>Theta</th><th>Per_Recycl</th><th>Per_Comp</th></tr><tr><th></th><th title=\"Int64\">Int64</th><th title=\"Int64\">Int64</th><th title=\"Int64\">Int64</th><th title=\"Float64\">Float64</th><th title=\"Float64\">Float64</th><th title=\"Float64\">Float64</th></tr></thead><tbody><tr><th>1</th><td>1</td><td>1</td><td>80</td><td>0.6</td><td>0.5</td><td>0.0</td></tr><tr><th>2</th><td>2</td><td>1</td><td>86</td><td>0.66</td><td>0.55</td><td>0.0</td></tr><tr><th>3</th><td>3</td><td>1</td><td>91</td><td>0.68</td><td>0.567</td><td>0.0</td></tr><tr><th>4</th><td>4</td><td>1</td><td>95</td><td>0.7</td><td>0.583</td><td>0.0</td></tr><tr><th>5</th><td>5</td><td>2</td><td>60</td><td>0.4</td><td>0.0</td><td>0.2</td></tr><tr><th>6</th><td>6</td><td>2</td><td>64</td><td>0.48</td><td>0.0</td><td>0.24</td></tr><tr><th>7</th><td>7</td><td>2</td><td>68</td><td>0.5</td><td>0.0</td><td>0.27</td></tr><tr><th>8</th><td>8</td><td>2</td><td>76</td><td>0.52</td><td>0.0</td><td>0.34</td></tr><tr><th>9</th><td>9</td><td>2</td><td>80</td><td>0.54</td><td>0.0</td><td>0.37</td></tr><tr><th>10</th><td>10</td><td>2</td><td>85</td><td>0.55</td><td>0.0</td><td>0.4</td></tr><tr><th>11</th><td>11</td><td>3</td><td>85</td><td>0.6</td><td>0.6</td><td>0.3</td></tr><tr><th>12</th><td>12</td><td>3</td><td>89</td><td>0.68</td><td>0.55</td><td>0.4</td></tr><tr><th>13</th><td>13</td><td>3</td><td>93</td><td>0.76</td><td>0.53</td><td>0.4</td></tr><tr><th>14</th><td>14</td><td>3</td><td>95</td><td>0.82</td><td>0.5</td><td>0.4</td></tr><tr><th>15</th><td>15</td><td>4</td><td>75</td><td>0.65</td><td>0.0</td><td>0.5</td></tr><tr><th>16</th><td>16</td><td>4</td><td>78</td><td>0.69</td><td>0.0</td><td>0.531</td></tr><tr><th>17</th><td>17</td><td>4</td><td>80</td><td>0.71</td><td>0.0</td><td>0.55</td></tr><tr><th>18</th><td>18</td><td>4</td><td>81</td><td>0.72</td><td>0.0</td><td>0.55</td></tr><tr><th>19</th><td>19</td><td>4</td><td>83</td><td>0.74</td><td>0.0</td><td>0.57</td></tr><tr><th>20</th><td>20</td><td>4</td><td>85</td><td>0.75</td><td>0.0</td><td>0.8</td></tr><tr><th>21</th><td>21</td><td>5</td><td>90</td><td>0.9</td><td>0.7</td><td>0.15</td></tr><tr><th>22</th><td>22</td><td>5</td><td>92</td><td>0.92</td><td>0.716</td><td>0.1</td></tr><tr><th>23</th><td>23</td><td>5</td><td>94</td><td>0.94</td><td>0.731</td><td>0.0</td></tr><tr><th>24</th><td>24</td><td>5</td><td>96</td><td>0.95</td><td>0.738</td><td>0.0</td></tr><tr><th>25</th><td>25</td><td>5</td><td>100</td><td>0.95</td><td>0.738</td><td>0.0</td></tr></tbody></table></div>"
      ],
      "text/latex": [
       "\\begin{tabular}{r|cccccc}\n",
       "\t& k & i & GWP & Theta & Per\\_Recycl & Per\\_Comp\\\\\n",
       "\t\\hline\n",
       "\t& Int64 & Int64 & Int64 & Float64 & Float64 & Float64\\\\\n",
       "\t\\hline\n",
       "\t1 & 1 & 1 & 80 & 0.6 & 0.5 & 0.0 \\\\\n",
       "\t2 & 2 & 1 & 86 & 0.66 & 0.55 & 0.0 \\\\\n",
       "\t3 & 3 & 1 & 91 & 0.68 & 0.567 & 0.0 \\\\\n",
       "\t4 & 4 & 1 & 95 & 0.7 & 0.583 & 0.0 \\\\\n",
       "\t5 & 5 & 2 & 60 & 0.4 & 0.0 & 0.2 \\\\\n",
       "\t6 & 6 & 2 & 64 & 0.48 & 0.0 & 0.24 \\\\\n",
       "\t7 & 7 & 2 & 68 & 0.5 & 0.0 & 0.27 \\\\\n",
       "\t8 & 8 & 2 & 76 & 0.52 & 0.0 & 0.34 \\\\\n",
       "\t9 & 9 & 2 & 80 & 0.54 & 0.0 & 0.37 \\\\\n",
       "\t10 & 10 & 2 & 85 & 0.55 & 0.0 & 0.4 \\\\\n",
       "\t11 & 11 & 3 & 85 & 0.6 & 0.6 & 0.3 \\\\\n",
       "\t12 & 12 & 3 & 89 & 0.68 & 0.55 & 0.4 \\\\\n",
       "\t13 & 13 & 3 & 93 & 0.76 & 0.53 & 0.4 \\\\\n",
       "\t14 & 14 & 3 & 95 & 0.82 & 0.5 & 0.4 \\\\\n",
       "\t15 & 15 & 4 & 75 & 0.65 & 0.0 & 0.5 \\\\\n",
       "\t16 & 16 & 4 & 78 & 0.69 & 0.0 & 0.531 \\\\\n",
       "\t17 & 17 & 4 & 80 & 0.71 & 0.0 & 0.55 \\\\\n",
       "\t18 & 18 & 4 & 81 & 0.72 & 0.0 & 0.55 \\\\\n",
       "\t19 & 19 & 4 & 83 & 0.74 & 0.0 & 0.57 \\\\\n",
       "\t20 & 20 & 4 & 85 & 0.75 & 0.0 & 0.8 \\\\\n",
       "\t21 & 21 & 5 & 90 & 0.9 & 0.7 & 0.15 \\\\\n",
       "\t22 & 22 & 5 & 92 & 0.92 & 0.716 & 0.1 \\\\\n",
       "\t23 & 23 & 5 & 94 & 0.94 & 0.731 & 0.0 \\\\\n",
       "\t24 & 24 & 5 & 96 & 0.95 & 0.738 & 0.0 \\\\\n",
       "\t25 & 25 & 5 & 100 & 0.95 & 0.738 & 0.0 \\\\\n",
       "\\end{tabular}\n"
      ],
      "text/plain": [
       "\u001b[1m25×6 DataFrame\u001b[0m\n",
       "\u001b[1m Row \u001b[0m│\u001b[1m k     \u001b[0m\u001b[1m i     \u001b[0m\u001b[1m GWP   \u001b[0m\u001b[1m Theta   \u001b[0m\u001b[1m Per_Recycl \u001b[0m\u001b[1m Per_Comp \u001b[0m\n",
       "\u001b[1m     \u001b[0m│\u001b[90m Int64 \u001b[0m\u001b[90m Int64 \u001b[0m\u001b[90m Int64 \u001b[0m\u001b[90m Float64 \u001b[0m\u001b[90m Float64    \u001b[0m\u001b[90m Float64  \u001b[0m\n",
       "─────┼────────────────────────────────────────────────────\n",
       "   1 │     1      1     80     0.6        0.5       0.0\n",
       "   2 │     2      1     86     0.66       0.55      0.0\n",
       "   3 │     3      1     91     0.68       0.567     0.0\n",
       "   4 │     4      1     95     0.7        0.583     0.0\n",
       "   5 │     5      2     60     0.4        0.0       0.2\n",
       "   6 │     6      2     64     0.48       0.0       0.24\n",
       "   7 │     7      2     68     0.5        0.0       0.27\n",
       "   8 │     8      2     76     0.52       0.0       0.34\n",
       "   9 │     9      2     80     0.54       0.0       0.37\n",
       "  10 │    10      2     85     0.55       0.0       0.4\n",
       "  11 │    11      3     85     0.6        0.6       0.3\n",
       "  ⋮  │   ⋮      ⋮      ⋮       ⋮         ⋮          ⋮\n",
       "  16 │    16      4     78     0.69       0.0       0.531\n",
       "  17 │    17      4     80     0.71       0.0       0.55\n",
       "  18 │    18      4     81     0.72       0.0       0.55\n",
       "  19 │    19      4     83     0.74       0.0       0.57\n",
       "  20 │    20      4     85     0.75       0.0       0.8\n",
       "  21 │    21      5     90     0.9        0.7       0.15\n",
       "  22 │    22      5     92     0.92       0.716     0.1\n",
       "  23 │    23      5     94     0.94       0.731     0.0\n",
       "  24 │    24      5     96     0.95       0.738     0.0\n",
       "  25 │    25      5    100     0.95       0.738     0.0\n",
       "\u001b[36m                                            4 rows omitted\u001b[0m"
      ]
     },
     "execution_count": 5,
     "metadata": {},
     "output_type": "execute_result"
    }
   ],
   "source": [
    "compromise"
   ]
  },
  {
   "cell_type": "code",
   "execution_count": 6,
   "id": "be8c7969",
   "metadata": {},
   "outputs": [
    {
     "data": {
      "text/html": [
       "<div class=\"data-frame\"><p>5 rows × 2 columns</p><table class=\"data-frame\"><thead><tr><th></th><th>i</th><th>k_lim</th></tr><tr><th></th><th title=\"Int64\">Int64</th><th title=\"Int64\">Int64</th></tr></thead><tbody><tr><th>1</th><td>1</td><td>4</td></tr><tr><th>2</th><td>2</td><td>10</td></tr><tr><th>3</th><td>3</td><td>14</td></tr><tr><th>4</th><td>4</td><td>20</td></tr><tr><th>5</th><td>5</td><td>25</td></tr></tbody></table></div>"
      ],
      "text/latex": [
       "\\begin{tabular}{r|cc}\n",
       "\t& i & k\\_lim\\\\\n",
       "\t\\hline\n",
       "\t& Int64 & Int64\\\\\n",
       "\t\\hline\n",
       "\t1 & 1 & 4 \\\\\n",
       "\t2 & 2 & 10 \\\\\n",
       "\t3 & 3 & 14 \\\\\n",
       "\t4 & 4 & 20 \\\\\n",
       "\t5 & 5 & 25 \\\\\n",
       "\\end{tabular}\n"
      ],
      "text/plain": [
       "\u001b[1m5×2 DataFrame\u001b[0m\n",
       "\u001b[1m Row \u001b[0m│\u001b[1m i     \u001b[0m\u001b[1m k_lim \u001b[0m\n",
       "\u001b[1m     \u001b[0m│\u001b[90m Int64 \u001b[0m\u001b[90m Int64 \u001b[0m\n",
       "─────┼──────────────\n",
       "   1 │     1      4\n",
       "   2 │     2     10\n",
       "   3 │     3     14\n",
       "   4 │     4     20\n",
       "   5 │     5     25"
      ]
     },
     "execution_count": 6,
     "metadata": {},
     "output_type": "execute_result"
    }
   ],
   "source": [
    "mapki"
   ]
  },
  {
   "cell_type": "code",
   "execution_count": 7,
   "id": "9d70e055",
   "metadata": {},
   "outputs": [
    {
     "ename": "LoadError",
     "evalue": "UndefVarError: get_rate_mat not defined",
     "output_type": "error",
     "traceback": [
      "UndefVarError: get_rate_mat not defined",
      "",
      "Stacktrace:",
      " [1] top-level scope",
      "   @ In[7]:1",
      " [2] eval",
      "   @ ./boot.jl:360 [inlined]",
      " [3] include_string(mapexpr::typeof(REPL.softscope), mod::Module, code::String, filename::String)",
      "   @ Base ./loading.jl:1116"
     ]
    }
   ],
   "source": [
    "g=exp(get_rate_mat(2)*50)\n",
    "n = 5\n",
    "edgelabel_dict = Dict()\n",
    "edgelabel_mat = Array{String}(undef, n, n)\n",
    "for i in 1:n\n",
    "    for j in 1:n\n",
    "        edgelabel_mat[i, j] = edgelabel_dict[(i, j)] = string(round(g[i,j],sigdigits=2)) \n",
    "    end\n",
    "end\n",
    "edgelabel_vec = edgelabel_mat[:]\n",
    "\n",
    "\n",
    "graphplot(g, names=1:5, curvature_scalar=0.2,  edgelabel=edgelabel_dict, markersize = 0.5,\n",
    "           linecolor = :darkgrey, markercolor = \"yellow\",\n",
    "           linealpha = 0.7)"
   ]
  },
  {
   "cell_type": "code",
   "execution_count": 8,
   "id": "160b339d",
   "metadata": {},
   "outputs": [
    {
     "data": {
      "text/plain": [
       "get_RL_atT (generic function with 1 method)"
      ]
     },
     "execution_count": 8,
     "metadata": {},
     "output_type": "execute_result"
    }
   ],
   "source": [
    "function get_transition_mat(i)\n",
    "    p_mat=reshape(collect(innovations[i,9:33]),5,5)\n",
    "    return p_mat'\n",
    "end\n",
    "\n",
    "\n",
    "function get_rate_mat(i)\n",
    "    p_mat=get_transition_mat(i)\n",
    "    q_mat=p_mat./collect(innovations[i,4:8])\n",
    "    for i in 1:5\n",
    "        q_mat[i,i]=-1*sum(q_mat[i,j] for j in 1:5 if j!=i)\n",
    "    end\n",
    "    return q_mat\n",
    "end\n",
    "\n",
    "function get_IAM_factor(t)\n",
    "    return 1\n",
    "end\n",
    "\n",
    "function give_sorted(t)\n",
    "    v=sortperm(t)\n",
    "    return v\n",
    "end\n",
    "\n",
    "function calc_tot_co2(x,t)\n",
    "    v=give_sorted(t)\n",
    "    for i in 1:(size(tk)[1]-1)\n",
    "        print(initial[1,3]*tk[v][1]-sum(xk[v[j]]*tk[v][j+1]*(initial[1,3]-compromise[v,3][j]) for j in 1:i))\n",
    "        print(\"\\n\")\n",
    "    end\n",
    "    return 1\n",
    "end\n",
    "\n",
    "function get_RL_atT(i,t)\n",
    "    s0=[0 0 0 0 0]\n",
    "    s0[rl[i]]=1\n",
    "    q=get_rate_mat(i)\n",
    "    #rl_t=sum([1 2 3 4 5].*(s0*exp(q*t)))\n",
    "    #rl_t=sum([1 2 3 4 5].*(s0*(I+t*q+1/2*t^2*q^2)))\n",
    "    temp1=Diagonal(eigvals(q))\n",
    "    temp2=reshape(reduce(vcat,(I(5)+t.*temp1)),5,5)\n",
    "    d=eigvecs(q)'*(temp2)*inv(eigvecs(q)')\n",
    "    rl_t=sum([1 2 3 4 5].*(s0*d))\n",
    "    return rl_t\n",
    "end\n"
   ]
  },
  {
   "cell_type": "code",
   "execution_count": 9,
   "id": "54e9fd3d-1d93-4b82-afa2-ecff64de11c4",
   "metadata": {},
   "outputs": [
    {
     "data": {
      "text/plain": [
       "-30.1250678010322"
      ]
     },
     "execution_count": 9,
     "metadata": {},
     "output_type": "execute_result"
    }
   ],
   "source": [
    "get_RL_atT(2,50)"
   ]
  },
  {
   "cell_type": "code",
   "execution_count": 10,
   "id": "b9a5bd8e",
   "metadata": {},
   "outputs": [
    {
     "data": {
      "text/plain": [
       "tech_roadmap (generic function with 1 method)"
      ]
     },
     "execution_count": 10,
     "metadata": {},
     "output_type": "execute_result"
    }
   ],
   "source": [
    "function tech_roadmap()\n",
    "    rdmap= Model(Gurobi.Optimizer)\n",
    "    @variable(rdmap,yk[k=1:nrow(compromise)],Bin)\n",
    "    @variable(rdmap,0 ≤ tk[k=1:nrow(compromise)] ≤ 50)\n",
    "    @variable(rdmap,0 ≤ xk[k=1:nrow(compromise)] ≤ 1)\n",
    "    @variable(rdmap,yi[i=1:nrow(innovations)],Bin)\n",
    "    @variable(rdmap,0 ≤ ti[i=1:nrow(innovations)] ≤ 50)\n",
    "    @variable(rdmap, 1 ≤ s[i=1:nrow(innovations)] )\n",
    "    \n",
    "    @variable(rdmap, co2_2050 ≥ 0)\n",
    "    @variable(rdmap, co2_total ≥ 0)\n",
    "    @variable(rdmap, cost_inn≥ 0)\n",
    "    \n",
    "    @constraint(rdmap, [i=1], sum(yk[k] for k=1:mapki[i,2])==yi[i])\n",
    "    @constraint(rdmap, [i=2:nrow(mapki)], sum(yk[k] for k=mapki[i-1,2]:mapki[i,2])==yi[i])\n",
    "    \n",
    "    @constraint(rdmap, [i=1,k=1:mapki[i,2]], ti[i] ≤ tk[k])\n",
    "    @constraint(rdmap, [i=2:nrow(mapki),k=mapki[i-1,2]:mapki[i,2]], ti[i] ≤ tk[k])\n",
    "    \n",
    "    @constraint(rdmap, [i=1:nrow(mapki)], 50*yi[i] ≥ ti[i])\n",
    "    @constraint(rdmap, [k=1:nrow(compromise)], 50*yk[k] ≥ tk[k])\n",
    "    \n",
    "    @constraint(rdmap, [k=1:nrow(compromise)], yk[k] ≥ xk[k])\n",
    "    @constraint(rdmap, sum(xk[k] for k in 1:nrow(compromise)) ≤ 1) \n",
    "    \n",
    "    \n",
    "    @constraint(rdmap, co2_2050==sum(xk[k]*compromise[k,3]*get_IAM_factor(tk[k]) for k in 1:nrow(compromise))\n",
    "        + (1-sum(xk[k] for k in 1:nrow(compromise)))*initial[1,3])\n",
    "    \n",
    "    #@constraint(rdmap, co2_total == calc_tot_co2(xk,tk))\n",
    "    \n",
    "    @constraint(rdmap, [i=1:nrow(innovations)], s[i]==get_RL_atT(i,ti[i]))\n",
    "    \n",
    "    @constraint(rdmap, co2_2050 ≤ 75)\n",
    "    @constraint(rdmap, cost_inn == sum(ci[i]*(yi[i]*(5-s[i])) for i in 1:nrow(innovations)))\n",
    "    @objective(rdmap,Min, cost_inn)\n",
    "    \n",
    "    optimize!(rdmap)\n",
    "    return JuMP.value.(yk), JuMP.value.(tk), JuMP.value.(xk), JuMP.value.(yi), JuMP.value.(ti), JuMP.value.(s), JuMP.value.(co2_2050), JuMP.value.(cost_inn)  \n",
    "end"
   ]
  },
  {
   "cell_type": "code",
   "execution_count": 94,
   "id": "e971da9a",
   "metadata": {
    "scrolled": true
   },
   "outputs": [
    {
     "name": "stdout",
     "output_type": "stream",
     "text": [
      "Set parameter Username\n",
      "Academic license - for non-commercial use only - expires 2022-11-07\n",
      "Gurobi Optimizer version 9.5.0 build v9.5.0rc5 (linux64)\n",
      "Thread count: 8 physical cores, 16 logical processors, using up to 16 threads\n",
      "Optimize a model with 97 rows, 93 columns and 263 nonzeros\n",
      "Model fingerprint: 0x7c266035\n",
      "Model has 1 quadratic constraint\n",
      "Variable types: 63 continuous, 30 integer (30 binary)\n",
      "Coefficient statistics:\n",
      "  Matrix range     [2e-01, 5e+01]\n",
      "  QMatrix range    [8e+01, 1e+02]\n",
      "  QLMatrix range   [1e+00, 7e+02]\n",
      "  Objective range  [1e+00, 1e+00]\n",
      "  Bounds range     [1e+00, 5e+01]\n",
      "  RHS range        [1e+00, 1e+02]\n",
      "Presolve removed 67 rows and 40 columns\n",
      "Presolve time: 0.00s\n",
      "Presolved: 30 rows, 53 columns, 132 nonzeros\n",
      "Variable types: 25 continuous, 28 integer (27 binary)\n",
      "Found heuristic solution: objective 1474.0000000\n",
      "Found heuristic solution: objective 1094.0000000\n",
      "\n",
      "Root relaxation: objective 1.525000e+02, 32 iterations, 0.00 seconds (0.00 work units)\n",
      "\n",
      "    Nodes    |    Current Node    |     Objective Bounds      |     Work\n",
      " Expl Unexpl |  Obj  Depth IntInf | Incumbent    BestBd   Gap | It/Node Time\n",
      "\n",
      "     0     0  152.50000    0    3 1094.00000  152.50000  86.1%     -    0s\n",
      "H    0     0                     244.0000000  152.50000  37.5%     -    0s\n",
      "     0     0  152.50000    0    3  244.00000  152.50000  37.5%     -    0s\n",
      "\n",
      "Explored 1 nodes (32 simplex iterations) in 0.00 seconds (0.00 work units)\n",
      "Thread count was 16 (of 16 available processors)\n",
      "\n",
      "Solution count 3: 244 1094 1474 \n",
      "\n",
      "Optimal solution found (tolerance 1.00e-04)\n",
      "Best objective 2.440000000000e+02, best bound 2.440000000000e+02, gap 0.0000%\n",
      "\n",
      "User-callback calls 328, time in user-callback 0.00 sec\n"
     ]
    },
    {
     "name": "stderr",
     "output_type": "stream",
     "text": [
      "┌ Warning: Axis contains one element: 1. If intended, you can safely ignore this warning. To explicitly pass the axis with one element, pass `[1]` instead of `1`.\n",
      "└ @ JuMP.Containers /home/thakker.8/.julia/packages/JuMP/2IF9U/src/Containers/DenseAxisArray.jl:156\n"
     ]
    },
    {
     "data": {
      "text/plain": [
       "5-element Vector{Float64}:\n",
       " 0.0\n",
       " 1.0\n",
       " 0.0\n",
       " 0.0\n",
       " 0.0"
      ]
     },
     "execution_count": 94,
     "metadata": {},
     "output_type": "execute_result"
    }
   ],
   "source": [
    "yk, tk, xk, yi, ti, s, co2, cost1=tech_roadmap()\n",
    "yi"
   ]
  },
  {
   "cell_type": "code",
   "execution_count": 96,
   "id": "385863c0",
   "metadata": {},
   "outputs": [
    {
     "data": {
      "text/plain": [
       "5-element Vector{Float64}:\n",
       " 0.0\n",
       " 0.0\n",
       " 0.0\n",
       " 0.0\n",
       " 0.0"
      ]
     },
     "execution_count": 96,
     "metadata": {},
     "output_type": "execute_result"
    }
   ],
   "source": [
    "ti"
   ]
  },
  {
   "cell_type": "code",
   "execution_count": 97,
   "id": "7a1746e6",
   "metadata": {},
   "outputs": [
    {
     "data": {
      "text/plain": [
       "5-element Vector{Float64}:\n",
       " 0.0\n",
       " 1.0\n",
       " 0.0\n",
       " 0.0\n",
       " 0.0"
      ]
     },
     "execution_count": 97,
     "metadata": {},
     "output_type": "execute_result"
    }
   ],
   "source": [
    "yi"
   ]
  },
  {
   "cell_type": "code",
   "execution_count": 98,
   "id": "f1bc445a-189b-46db-9787-4d7e0bb692ee",
   "metadata": {},
   "outputs": [
    {
     "data": {
      "text/plain": [
       "75.0"
      ]
     },
     "execution_count": 98,
     "metadata": {},
     "output_type": "execute_result"
    }
   ],
   "source": [
    "co2"
   ]
  },
  {
   "cell_type": "code",
   "execution_count": 99,
   "id": "aaa08e92-1891-4d57-9f48-64bb590664a1",
   "metadata": {},
   "outputs": [
    {
     "data": {
      "text/plain": [
       "5-element Vector{Float64}:\n",
       " 2.0\n",
       " 2.9999999999999987\n",
       " 1.0\n",
       " 3.000000000000001\n",
       " 1.0"
      ]
     },
     "execution_count": 99,
     "metadata": {},
     "output_type": "execute_result"
    }
   ],
   "source": [
    "s"
   ]
  },
  {
   "cell_type": "code",
   "execution_count": 16,
   "id": "2858b727",
   "metadata": {},
   "outputs": [
    {
     "data": {
      "text/plain": [
       "244.00000000000017"
      ]
     },
     "execution_count": 16,
     "metadata": {},
     "output_type": "execute_result"
    }
   ],
   "source": [
    "cost1"
   ]
  },
  {
   "cell_type": "code",
   "execution_count": 17,
   "id": "7daab2db",
   "metadata": {},
   "outputs": [
    {
     "data": {
      "text/html": [
       "<div class=\"data-frame\"><p>5 rows × 33 columns (omitted printing of 24 columns)</p><table class=\"data-frame\"><thead><tr><th></th><th>i</th><th>Cost_per_RL</th><th>RL</th><th>Sojourn1</th><th>Sojourn2</th><th>Sojourn3</th><th>Sojourn4</th><th>Sojourn5</th><th>P11</th></tr><tr><th></th><th title=\"Int64\">Int64</th><th title=\"Int64\">Int64</th><th title=\"Int64\">Int64</th><th title=\"Float64\">Float64</th><th title=\"Float64\">Float64</th><th title=\"Float64\">Float64</th><th title=\"Float64\">Float64</th><th title=\"Float64\">Float64</th><th title=\"Int64\">Int64</th></tr></thead><tbody><tr><th>1</th><td>1</td><td>92</td><td>2</td><td>4.6</td><td>1.34</td><td>2.04</td><td>0.12</td><td>8.86</td><td>0</td></tr><tr><th>2</th><td>2</td><td>122</td><td>3</td><td>8.32</td><td>8.84</td><td>7.0</td><td>9.9</td><td>9.65</td><td>0</td></tr><tr><th>3</th><td>3</td><td>78</td><td>1</td><td>4.44</td><td>1.21</td><td>5.09</td><td>6.52</td><td>8.67</td><td>0</td></tr><tr><th>4</th><td>4</td><td>131</td><td>3</td><td>5.48</td><td>7.62</td><td>3.34</td><td>5.05</td><td>5.6</td><td>0</td></tr><tr><th>5</th><td>5</td><td>95</td><td>1</td><td>9.94</td><td>2.38</td><td>7.94</td><td>3.82</td><td>5.44</td><td>0</td></tr></tbody></table></div>"
      ],
      "text/latex": [
       "\\begin{tabular}{r|cccccccccc}\n",
       "\t& i & Cost\\_per\\_RL & RL & Sojourn1 & Sojourn2 & Sojourn3 & Sojourn4 & Sojourn5 & P11 & \\\\\n",
       "\t\\hline\n",
       "\t& Int64 & Int64 & Int64 & Float64 & Float64 & Float64 & Float64 & Float64 & Int64 & \\\\\n",
       "\t\\hline\n",
       "\t1 & 1 & 92 & 2 & 4.6 & 1.34 & 2.04 & 0.12 & 8.86 & 0 & $\\dots$ \\\\\n",
       "\t2 & 2 & 122 & 3 & 8.32 & 8.84 & 7.0 & 9.9 & 9.65 & 0 & $\\dots$ \\\\\n",
       "\t3 & 3 & 78 & 1 & 4.44 & 1.21 & 5.09 & 6.52 & 8.67 & 0 & $\\dots$ \\\\\n",
       "\t4 & 4 & 131 & 3 & 5.48 & 7.62 & 3.34 & 5.05 & 5.6 & 0 & $\\dots$ \\\\\n",
       "\t5 & 5 & 95 & 1 & 9.94 & 2.38 & 7.94 & 3.82 & 5.44 & 0 & $\\dots$ \\\\\n",
       "\\end{tabular}\n"
      ],
      "text/plain": [
       "\u001b[1m5×33 DataFrame\u001b[0m\n",
       "\u001b[1m Row \u001b[0m│\u001b[1m i     \u001b[0m\u001b[1m Cost_per_RL \u001b[0m\u001b[1m RL    \u001b[0m\u001b[1m Sojourn1 \u001b[0m\u001b[1m Sojourn2 \u001b[0m\u001b[1m Sojourn3 \u001b[0m\u001b[1m Sojourn4 \u001b[0m\u001b[1m Sojo\u001b[0m ⋯\n",
       "\u001b[1m     \u001b[0m│\u001b[90m Int64 \u001b[0m\u001b[90m Int64       \u001b[0m\u001b[90m Int64 \u001b[0m\u001b[90m Float64  \u001b[0m\u001b[90m Float64  \u001b[0m\u001b[90m Float64  \u001b[0m\u001b[90m Float64  \u001b[0m\u001b[90m Floa\u001b[0m ⋯\n",
       "─────┼──────────────────────────────────────────────────────────────────────────\n",
       "   1 │     1           92      2      4.6       1.34      2.04      0.12       ⋯\n",
       "   2 │     2          122      3      8.32      8.84      7.0       9.9\n",
       "   3 │     3           78      1      4.44      1.21      5.09      6.52\n",
       "   4 │     4          131      3      5.48      7.62      3.34      5.05\n",
       "   5 │     5           95      1      9.94      2.38      7.94      3.82       ⋯\n",
       "\u001b[36m                                                              26 columns omitted\u001b[0m"
      ]
     },
     "execution_count": 17,
     "metadata": {},
     "output_type": "execute_result"
    }
   ],
   "source": [
    "innovations"
   ]
  },
  {
   "cell_type": "code",
   "execution_count": 18,
   "id": "e0dd093a",
   "metadata": {},
   "outputs": [
    {
     "data": {
      "text/plain": [
       "-41.11305631301775"
      ]
     },
     "execution_count": 18,
     "metadata": {},
     "output_type": "execute_result"
    }
   ],
   "source": [
    "get_RL_atT(4,50)"
   ]
  },
  {
   "cell_type": "code",
   "execution_count": 19,
   "id": "a60414f8",
   "metadata": {},
   "outputs": [
    {
     "data": {
      "text/plain": [
       "2-element Vector{Vector{Vector{Real}}}:\n",
       " [[0, 0.76, 0.21, 0.03, 0]]\n",
       " [[0, 0.76, 0.21, 0.03, 0]]"
      ]
     },
     "execution_count": 19,
     "metadata": {},
     "output_type": "execute_result"
    }
   ],
   "source": [
    "i=1\n",
    "eDtmc=[[collect(innovations[i,9:13])],[collect(innovations[i,9:13])]]"
   ]
  },
  {
   "cell_type": "code",
   "execution_count": 20,
   "id": "525e6be7",
   "metadata": {},
   "outputs": [
    {
     "data": {
      "text/html": [
       "<p>DataFrameRow (5 columns)</p><div class=\"data-frame\"><table class=\"data-frame\"><thead><tr><th></th><th>P11</th><th>P12</th><th>P13</th><th>P14</th><th>P15</th></tr><tr><th></th><th title=\"Int64\">Int64</th><th title=\"Float64\">Float64</th><th title=\"Float64\">Float64</th><th title=\"Float64\">Float64</th><th title=\"Int64\">Int64</th></tr></thead><tbody><tr><th>1</th><td>0</td><td>0.76</td><td>0.21</td><td>0.03</td><td>0</td></tr></tbody></table></div>"
      ],
      "text/latex": [
       "\\begin{tabular}{r|ccccc}\n",
       "\t& P11 & P12 & P13 & P14 & P15\\\\\n",
       "\t\\hline\n",
       "\t& Int64 & Float64 & Float64 & Float64 & Int64\\\\\n",
       "\t\\hline\n",
       "\t1 & 0 & 0.76 & 0.21 & 0.03 & 0 \\\\\n",
       "\\end{tabular}\n"
      ],
      "text/plain": [
       "\u001b[1mDataFrameRow\u001b[0m\n",
       "\u001b[1m Row \u001b[0m│\u001b[1m P11   \u001b[0m\u001b[1m P12     \u001b[0m\u001b[1m P13     \u001b[0m\u001b[1m P14     \u001b[0m\u001b[1m P15   \u001b[0m\n",
       "\u001b[1m     \u001b[0m│\u001b[90m Int64 \u001b[0m\u001b[90m Float64 \u001b[0m\u001b[90m Float64 \u001b[0m\u001b[90m Float64 \u001b[0m\u001b[90m Int64 \u001b[0m\n",
       "─────┼─────────────────────────────────────────\n",
       "   1 │     0     0.76     0.21     0.03      0"
      ]
     },
     "execution_count": 20,
     "metadata": {},
     "output_type": "execute_result"
    }
   ],
   "source": [
    "innovations[1,9:13]"
   ]
  },
  {
   "cell_type": "code",
   "execution_count": 21,
   "id": "048bd6da",
   "metadata": {},
   "outputs": [
    {
     "data": {
      "text/plain": [
       "5-element Vector{Real}:\n",
       " 0\n",
       " 0.76\n",
       " 0.21\n",
       " 0.03\n",
       " 0"
      ]
     },
     "execution_count": 21,
     "metadata": {},
     "output_type": "execute_result"
    }
   ],
   "source": [
    "collect(innovations[i,9:13])"
   ]
  },
  {
   "cell_type": "code",
   "execution_count": 24,
   "id": "63df4e12",
   "metadata": {},
   "outputs": [
    {
     "data": {
      "text/plain": [
       "5×5 Matrix{Float64}:\n",
       " 0.860082  1.49996  2.43039  11.033   8.5099\n",
       " 0.846386  1.47826  2.41825  11.055   8.53542\n",
       " 0.812576  1.4236   2.38646  11.11    8.60068\n",
       " 0.786893  1.38217  2.36188  11.1516  8.65078\n",
       " 0.782657  1.37533  2.3577   11.1584  8.65924"
      ]
     },
     "execution_count": 24,
     "metadata": {},
     "output_type": "execute_result"
    }
   ],
   "source": [
    "tt=4\n",
    "g+tt*g^2/2+tt^3*g^3/6+tt^4*g^4/24"
   ]
  },
  {
   "cell_type": "code",
   "execution_count": 25,
   "id": "28b1c0c8",
   "metadata": {},
   "outputs": [
    {
     "data": {
      "text/plain": [
       "5×5 Matrix{Float64}:\n",
       " 2.98448  3.44865  5.43726  24.1562  18.5716\n",
       " 1.93566  4.37144  5.39434  24.2346  18.6621\n",
       " 1.8154   3.17698  6.28135  24.4303  18.8941\n",
       " 1.72406  3.02962  5.19382  25.5782  19.0724\n",
       " 1.70901  3.0053   5.1789   24.6023  20.1026"
      ]
     },
     "execution_count": 25,
     "metadata": {},
     "output_type": "execute_result"
    }
   ],
   "source": [
    "exp(g*tt)"
   ]
  },
  {
   "cell_type": "code",
   "execution_count": null,
   "id": "5364e7a7",
   "metadata": {},
   "outputs": [],
   "source": []
  },
  {
   "cell_type": "code",
   "execution_count": 26,
   "id": "3aa3dabf",
   "metadata": {},
   "outputs": [
    {
     "data": {
      "text/plain": [
       "5-element Vector{Float64}:\n",
       " 0.1\n",
       " 0.32\n",
       " 0.2\n",
       " 0.11\n",
       " 0.4"
      ]
     },
     "execution_count": 26,
     "metadata": {},
     "output_type": "execute_result"
    }
   ],
   "source": [
    "tk=vec([1 34 2 112 44])\n",
    "xk=vec([0.1 0.32 0.2 0.11 0.4])"
   ]
  },
  {
   "cell_type": "code",
   "execution_count": 27,
   "id": "3468f6cb",
   "metadata": {},
   "outputs": [
    {
     "data": {
      "text/html": [
       "<div class=\"data-frame\"><p>25 rows × 6 columns</p><table class=\"data-frame\"><thead><tr><th></th><th>k</th><th>i</th><th>GWP</th><th>Theta</th><th>Per_Recycl</th><th>Per_Comp</th></tr><tr><th></th><th title=\"Int64\">Int64</th><th title=\"Int64\">Int64</th><th title=\"Int64\">Int64</th><th title=\"Float64\">Float64</th><th title=\"Float64\">Float64</th><th title=\"Float64\">Float64</th></tr></thead><tbody><tr><th>1</th><td>1</td><td>1</td><td>80</td><td>0.6</td><td>0.5</td><td>0.0</td></tr><tr><th>2</th><td>2</td><td>1</td><td>86</td><td>0.66</td><td>0.55</td><td>0.0</td></tr><tr><th>3</th><td>3</td><td>1</td><td>91</td><td>0.68</td><td>0.567</td><td>0.0</td></tr><tr><th>4</th><td>4</td><td>1</td><td>95</td><td>0.7</td><td>0.583</td><td>0.0</td></tr><tr><th>5</th><td>5</td><td>2</td><td>60</td><td>0.4</td><td>0.0</td><td>0.2</td></tr><tr><th>6</th><td>6</td><td>2</td><td>64</td><td>0.48</td><td>0.0</td><td>0.24</td></tr><tr><th>7</th><td>7</td><td>2</td><td>68</td><td>0.5</td><td>0.0</td><td>0.27</td></tr><tr><th>8</th><td>8</td><td>2</td><td>76</td><td>0.52</td><td>0.0</td><td>0.34</td></tr><tr><th>9</th><td>9</td><td>2</td><td>80</td><td>0.54</td><td>0.0</td><td>0.37</td></tr><tr><th>10</th><td>10</td><td>2</td><td>85</td><td>0.55</td><td>0.0</td><td>0.4</td></tr><tr><th>11</th><td>11</td><td>3</td><td>85</td><td>0.6</td><td>0.6</td><td>0.3</td></tr><tr><th>12</th><td>12</td><td>3</td><td>89</td><td>0.68</td><td>0.55</td><td>0.4</td></tr><tr><th>13</th><td>13</td><td>3</td><td>93</td><td>0.76</td><td>0.53</td><td>0.4</td></tr><tr><th>14</th><td>14</td><td>3</td><td>95</td><td>0.82</td><td>0.5</td><td>0.4</td></tr><tr><th>15</th><td>15</td><td>4</td><td>75</td><td>0.65</td><td>0.0</td><td>0.5</td></tr><tr><th>16</th><td>16</td><td>4</td><td>78</td><td>0.69</td><td>0.0</td><td>0.531</td></tr><tr><th>17</th><td>17</td><td>4</td><td>80</td><td>0.71</td><td>0.0</td><td>0.55</td></tr><tr><th>18</th><td>18</td><td>4</td><td>81</td><td>0.72</td><td>0.0</td><td>0.55</td></tr><tr><th>19</th><td>19</td><td>4</td><td>83</td><td>0.74</td><td>0.0</td><td>0.57</td></tr><tr><th>20</th><td>20</td><td>4</td><td>85</td><td>0.75</td><td>0.0</td><td>0.8</td></tr><tr><th>21</th><td>21</td><td>5</td><td>90</td><td>0.9</td><td>0.7</td><td>0.15</td></tr><tr><th>22</th><td>22</td><td>5</td><td>92</td><td>0.92</td><td>0.716</td><td>0.1</td></tr><tr><th>23</th><td>23</td><td>5</td><td>94</td><td>0.94</td><td>0.731</td><td>0.0</td></tr><tr><th>24</th><td>24</td><td>5</td><td>96</td><td>0.95</td><td>0.738</td><td>0.0</td></tr><tr><th>25</th><td>25</td><td>5</td><td>100</td><td>0.95</td><td>0.738</td><td>0.0</td></tr></tbody></table></div>"
      ],
      "text/latex": [
       "\\begin{tabular}{r|cccccc}\n",
       "\t& k & i & GWP & Theta & Per\\_Recycl & Per\\_Comp\\\\\n",
       "\t\\hline\n",
       "\t& Int64 & Int64 & Int64 & Float64 & Float64 & Float64\\\\\n",
       "\t\\hline\n",
       "\t1 & 1 & 1 & 80 & 0.6 & 0.5 & 0.0 \\\\\n",
       "\t2 & 2 & 1 & 86 & 0.66 & 0.55 & 0.0 \\\\\n",
       "\t3 & 3 & 1 & 91 & 0.68 & 0.567 & 0.0 \\\\\n",
       "\t4 & 4 & 1 & 95 & 0.7 & 0.583 & 0.0 \\\\\n",
       "\t5 & 5 & 2 & 60 & 0.4 & 0.0 & 0.2 \\\\\n",
       "\t6 & 6 & 2 & 64 & 0.48 & 0.0 & 0.24 \\\\\n",
       "\t7 & 7 & 2 & 68 & 0.5 & 0.0 & 0.27 \\\\\n",
       "\t8 & 8 & 2 & 76 & 0.52 & 0.0 & 0.34 \\\\\n",
       "\t9 & 9 & 2 & 80 & 0.54 & 0.0 & 0.37 \\\\\n",
       "\t10 & 10 & 2 & 85 & 0.55 & 0.0 & 0.4 \\\\\n",
       "\t11 & 11 & 3 & 85 & 0.6 & 0.6 & 0.3 \\\\\n",
       "\t12 & 12 & 3 & 89 & 0.68 & 0.55 & 0.4 \\\\\n",
       "\t13 & 13 & 3 & 93 & 0.76 & 0.53 & 0.4 \\\\\n",
       "\t14 & 14 & 3 & 95 & 0.82 & 0.5 & 0.4 \\\\\n",
       "\t15 & 15 & 4 & 75 & 0.65 & 0.0 & 0.5 \\\\\n",
       "\t16 & 16 & 4 & 78 & 0.69 & 0.0 & 0.531 \\\\\n",
       "\t17 & 17 & 4 & 80 & 0.71 & 0.0 & 0.55 \\\\\n",
       "\t18 & 18 & 4 & 81 & 0.72 & 0.0 & 0.55 \\\\\n",
       "\t19 & 19 & 4 & 83 & 0.74 & 0.0 & 0.57 \\\\\n",
       "\t20 & 20 & 4 & 85 & 0.75 & 0.0 & 0.8 \\\\\n",
       "\t21 & 21 & 5 & 90 & 0.9 & 0.7 & 0.15 \\\\\n",
       "\t22 & 22 & 5 & 92 & 0.92 & 0.716 & 0.1 \\\\\n",
       "\t23 & 23 & 5 & 94 & 0.94 & 0.731 & 0.0 \\\\\n",
       "\t24 & 24 & 5 & 96 & 0.95 & 0.738 & 0.0 \\\\\n",
       "\t25 & 25 & 5 & 100 & 0.95 & 0.738 & 0.0 \\\\\n",
       "\\end{tabular}\n"
      ],
      "text/plain": [
       "\u001b[1m25×6 DataFrame\u001b[0m\n",
       "\u001b[1m Row \u001b[0m│\u001b[1m k     \u001b[0m\u001b[1m i     \u001b[0m\u001b[1m GWP   \u001b[0m\u001b[1m Theta   \u001b[0m\u001b[1m Per_Recycl \u001b[0m\u001b[1m Per_Comp \u001b[0m\n",
       "\u001b[1m     \u001b[0m│\u001b[90m Int64 \u001b[0m\u001b[90m Int64 \u001b[0m\u001b[90m Int64 \u001b[0m\u001b[90m Float64 \u001b[0m\u001b[90m Float64    \u001b[0m\u001b[90m Float64  \u001b[0m\n",
       "─────┼────────────────────────────────────────────────────\n",
       "   1 │     1      1     80     0.6        0.5       0.0\n",
       "   2 │     2      1     86     0.66       0.55      0.0\n",
       "   3 │     3      1     91     0.68       0.567     0.0\n",
       "   4 │     4      1     95     0.7        0.583     0.0\n",
       "   5 │     5      2     60     0.4        0.0       0.2\n",
       "   6 │     6      2     64     0.48       0.0       0.24\n",
       "   7 │     7      2     68     0.5        0.0       0.27\n",
       "   8 │     8      2     76     0.52       0.0       0.34\n",
       "   9 │     9      2     80     0.54       0.0       0.37\n",
       "  10 │    10      2     85     0.55       0.0       0.4\n",
       "  11 │    11      3     85     0.6        0.6       0.3\n",
       "  ⋮  │   ⋮      ⋮      ⋮       ⋮         ⋮          ⋮\n",
       "  16 │    16      4     78     0.69       0.0       0.531\n",
       "  17 │    17      4     80     0.71       0.0       0.55\n",
       "  18 │    18      4     81     0.72       0.0       0.55\n",
       "  19 │    19      4     83     0.74       0.0       0.57\n",
       "  20 │    20      4     85     0.75       0.0       0.8\n",
       "  21 │    21      5     90     0.9        0.7       0.15\n",
       "  22 │    22      5     92     0.92       0.716     0.1\n",
       "  23 │    23      5     94     0.94       0.731     0.0\n",
       "  24 │    24      5     96     0.95       0.738     0.0\n",
       "  25 │    25      5    100     0.95       0.738     0.0\n",
       "\u001b[36m                                            4 rows omitted\u001b[0m"
      ]
     },
     "execution_count": 27,
     "metadata": {},
     "output_type": "execute_result"
    }
   ],
   "source": [
    "xk[give_sorted(tk)]\n",
    "v=give_sorted(tk)\n",
    "v\n",
    "compromise"
   ]
  },
  {
   "cell_type": "code",
   "execution_count": 28,
   "id": "4e2ead5b-7b01-4354-895b-dfc62df29869",
   "metadata": {},
   "outputs": [
    {
     "data": {
      "text/plain": [
       "1×5 Matrix{Float64}:\n",
       " 0.0280624  0.0499089  0.0930683  0.465243  0.363718"
      ]
     },
     "execution_count": 28,
     "metadata": {},
     "output_type": "execute_result"
    }
   ],
   "source": [
    "q=get_rate_mat(2)\n",
    "t=50\n",
    "s0=[0 0 0 1 0]\n",
    "(s0*(exp(q*t)))"
   ]
  },
  {
   "cell_type": "code",
   "execution_count": 29,
   "id": "d0749555",
   "metadata": {},
   "outputs": [
    {
     "name": "stdout",
     "output_type": "stream",
     "text": [
      "0.1\n",
      "0.30000000000000004\n",
      "0.6200000000000001\n",
      "1.02\n",
      "1.1300000000000001\n"
     ]
    }
   ],
   "source": [
    "for i in 1:size(tk)[1]\n",
    "    print(sum(xk[v[j]] for j in 1:i))\n",
    "    print(\"\\n\")\n",
    "end"
   ]
  },
  {
   "cell_type": "code",
   "execution_count": 30,
   "id": "73d91cf2",
   "metadata": {},
   "outputs": [
    {
     "data": {
      "text/plain": [
       "5"
      ]
     },
     "execution_count": 30,
     "metadata": {},
     "output_type": "execute_result"
    }
   ],
   "source": [
    "size(tk)[1]"
   ]
  },
  {
   "cell_type": "code",
   "execution_count": 31,
   "id": "76fb40ab",
   "metadata": {},
   "outputs": [
    {
     "name": "stdout",
     "output_type": "stream",
     "text": [
      "96.0\n",
      "34.8\n",
      "-162.32\n",
      "-1954.3200000000002\n"
     ]
    }
   ],
   "source": [
    "for i in 1:(size(tk)[1]-1)\n",
    "    print(initial[1,3]*tk[v][1]-sum(xk[v[j]]*tk[v][j+1]*(initial[1,3]-compromise[v,3][j]) for j in 1:i))\n",
    "    print(\"\\n\")\n",
    "end"
   ]
  },
  {
   "cell_type": "code",
   "execution_count": 32,
   "id": "94fb60e1",
   "metadata": {},
   "outputs": [
    {
     "data": {
      "text/plain": [
       "5×5 Matrix{Float64}:\n",
       " -8.12409   6.87956     1.78832   0.456204   0.0\n",
       "  2.42126  -5.56168     3.83202   0.308399   0.0\n",
       "  1.78144   2.93413   -13.9701    9.49102    0.763473\n",
       "  0.0       0.405941    1.92079  -8.90099    7.57426\n",
       "  0.0       0.0         0.0       8.92857   -7.92857"
      ]
     },
     "execution_count": 32,
     "metadata": {},
     "output_type": "execute_result"
    }
   ],
   "source": [
    "apprx=I+get_rate_mat(4)*50"
   ]
  },
  {
   "cell_type": "code",
   "execution_count": 33,
   "id": "96625c4f-7709-4cd3-99af-6d31c7d93f0e",
   "metadata": {},
   "outputs": [
    {
     "data": {
      "text/plain": [
       "1×5 Matrix{Float64}:\n",
       " 5.34431  8.8024  -41.9102  28.4731  2.29042"
      ]
     },
     "execution_count": 33,
     "metadata": {},
     "output_type": "execute_result"
    }
   ],
   "source": [
    "n1=[1 2 3 4 5].*[0 0 1 0 0]*apprx"
   ]
  },
  {
   "cell_type": "code",
   "execution_count": 34,
   "id": "cbfc6aaa-e841-4735-815c-863c4bf3e725",
   "metadata": {},
   "outputs": [
    {
     "data": {
      "text/plain": [
       "3.0000000000000013"
      ]
     },
     "execution_count": 34,
     "metadata": {},
     "output_type": "execute_result"
    }
   ],
   "source": [
    "sum(n1)"
   ]
  },
  {
   "cell_type": "code",
   "execution_count": 35,
   "id": "e4346172-859d-49f5-911a-a71d509d20fc",
   "metadata": {},
   "outputs": [
    {
     "data": {
      "text/plain": [
       "5×5 Matrix{Float64}:\n",
       "  43.4219   -44.3599     -6.13627     5.66386    2.41037\n",
       " -13.1551    29.9792    -34.9618     16.507      2.63077\n",
       " -16.1275   -20.6002    114.411    -104.268     27.5842\n",
       "   2.20233   -0.117564  -21.1875     83.1052   -63.0025\n",
       "   0.0        1.81223     8.57496   -75.132     65.7448"
      ]
     },
     "execution_count": 35,
     "metadata": {},
     "output_type": "execute_result"
    }
   ],
   "source": [
    "i=4\n",
    "s0=[0 0 0 0 0]\n",
    "s0[i]=rl[i]\n",
    "q=get_rate_mat(i)\n",
    "t=50\n",
    "apprx=I+q*t+1/2*t^2*q^2"
   ]
  },
  {
   "cell_type": "code",
   "execution_count": 36,
   "id": "1b70908a-ab80-448f-bebf-11643b4c0ba1",
   "metadata": {},
   "outputs": [
    {
     "data": {
      "text/plain": [
       "3.000000000000057"
      ]
     },
     "execution_count": 36,
     "metadata": {},
     "output_type": "execute_result"
    }
   ],
   "source": [
    "n1=[1 2 3 4 5].*[0 0 1 0 0]*apprx\n",
    "sum(n1)"
   ]
  },
  {
   "cell_type": "code",
   "execution_count": 37,
   "id": "ea7ce0db-61af-4f60-a7f7-557c856ec2f9",
   "metadata": {},
   "outputs": [
    {
     "data": {
      "text/plain": [
       "-41.11305631301775"
      ]
     },
     "execution_count": 37,
     "metadata": {},
     "output_type": "execute_result"
    }
   ],
   "source": [
    "get_RL_atT(4,50)"
   ]
  },
  {
   "cell_type": "code",
   "execution_count": 38,
   "id": "ecd28874-fd6c-4fe2-b6b7-766fd2c3f5a3",
   "metadata": {},
   "outputs": [
    {
     "data": {
      "text/plain": [
       "1×5 Matrix{Int64}:\n",
       " 0  0  0  3  0"
      ]
     },
     "execution_count": 38,
     "metadata": {},
     "output_type": "execute_result"
    }
   ],
   "source": [
    "s0"
   ]
  },
  {
   "cell_type": "code",
   "execution_count": 39,
   "id": "bf001aaa",
   "metadata": {},
   "outputs": [
    {
     "data": {
      "text/plain": [
       "8.178628123098022"
      ]
     },
     "execution_count": 39,
     "metadata": {},
     "output_type": "execute_result"
    }
   ],
   "source": [
    "\n",
    "i=2\n",
    "t=50\n",
    "s0=[0 0 0 0 0]\n",
    "s0[rl[i]]=1\n",
    "q=get_rate_mat(i)\n",
    "#rl_t=sum([1 2 3 4 5].*(s0*exp(q*t)))\n",
    "rl_t=sum([1 2 3 4 5].*(s0*(I+t*q+1/2*t^2*q^2)))"
   ]
  },
  {
   "cell_type": "code",
   "execution_count": 40,
   "id": "884ef550",
   "metadata": {},
   "outputs": [
    {
     "data": {
      "text/plain": [
       "1×5 Matrix{Int64}:\n",
       " 0  0  0  1  0"
      ]
     },
     "execution_count": 40,
     "metadata": {},
     "output_type": "execute_result"
    }
   ],
   "source": [
    "s0=[0 0.2 0.3 0.4 0.1]\n",
    "s1=[0 0 0 1 0]"
   ]
  },
  {
   "cell_type": "code",
   "execution_count": 41,
   "id": "9c476cf8",
   "metadata": {},
   "outputs": [
    {
     "data": {
      "text/plain": [
       "1×5 Matrix{Float64}:\n",
       " 18.7711  -24.5321  5.34423  -7.83121  9.248"
      ]
     },
     "execution_count": 41,
     "metadata": {},
     "output_type": "execute_result"
    }
   ],
   "source": [
    "s0*(I+t.*q+((1/2)*t^2).*q^2+((1/6)*t^3).*q^3+((1/24)*t^4).*q^4+((1/120)*t^5).*q^5)"
   ]
  },
  {
   "cell_type": "code",
   "execution_count": 42,
   "id": "6526aa97",
   "metadata": {},
   "outputs": [
    {
     "data": {
      "text/plain": [
       "5×5 Matrix{Float64}:\n",
       " -138.354     241.038    -165.434     67.2842    -3.53511\n",
       "   66.0809   -182.399     251.702   -234.925    100.541\n",
       "   31.4691     52.7655   -254.965    436.357   -264.626\n",
       "  -11.9463    -11.7273     99.6773  -306.575    231.571\n",
       "    8.92662     8.08954   -83.7745   308.766   -241.008"
      ]
     },
     "execution_count": 42,
     "metadata": {},
     "output_type": "execute_result"
    }
   ],
   "source": [
    "(I+t.*q+((1/2)*t^2).*q^2+((1/6)*t^3).*q^3+((1/24)*t^4).*q^4+((1/120)*t^5).*q^5)"
   ]
  },
  {
   "cell_type": "code",
   "execution_count": 43,
   "id": "36099cf6",
   "metadata": {},
   "outputs": [
    {
     "data": {
      "text/plain": [
       "5×5 Matrix{Float64}:\n",
       " -94.2609   313.131   -519.969    684.184  -382.085\n",
       "  25.8329  -239.916    596.533  -1069.33    687.883\n",
       "  64.8606    87.1085  -543.548   1347.24   -954.662\n",
       " -38.9508   -39.9843   304.811   -837.239   612.363\n",
       "  37.0407    37.7705  -292.265    821.345  -602.892"
      ]
     },
     "execution_count": 43,
     "metadata": {},
     "output_type": "execute_result"
    }
   ],
   "source": [
    "(I+sum((1/factorial(i))*(t^i)*(q^i) for i in 1:20))"
   ]
  },
  {
   "cell_type": "code",
   "execution_count": 44,
   "id": "210757e1",
   "metadata": {},
   "outputs": [
    {
     "data": {
      "text/plain": [
       "3.9693414106379463"
      ]
     },
     "execution_count": 44,
     "metadata": {},
     "output_type": "execute_result"
    }
   ],
   "source": [
    "sum([1 2 3 4 5].*(s0*exp(q*t)))"
   ]
  },
  {
   "cell_type": "code",
   "execution_count": 45,
   "id": "6d07aa35",
   "metadata": {},
   "outputs": [
    {
     "data": {
      "text/plain": [
       "3.9693414106379463"
      ]
     },
     "execution_count": 45,
     "metadata": {},
     "output_type": "execute_result"
    }
   ],
   "source": [
    "sum([1 2 3 4 5].*(s0*(exp(q*t))))"
   ]
  },
  {
   "cell_type": "code",
   "execution_count": 46,
   "id": "712acaf6",
   "metadata": {},
   "outputs": [
    {
     "data": {
      "text/plain": [
       "5×5 Matrix{Float64}:\n",
       " -0.120192    0.0930288    0.0227163   0.00444712   0.0\n",
       "  0.039819   -0.113122     0.0667421   0.00656109   0.0\n",
       "  0.0168571   0.0287143   -0.142857    0.0918571    0.00542857\n",
       "  0.0         0.00141414   0.020404   -0.10101      0.0791919\n",
       "  0.0         0.0          0.0         0.103627    -0.103627"
      ]
     },
     "execution_count": 46,
     "metadata": {},
     "output_type": "execute_result"
    }
   ],
   "source": [
    "q"
   ]
  },
  {
   "cell_type": "code",
   "execution_count": 47,
   "id": "9df6bc6c-0f36-47c0-9c58-0d6ae2dbc83b",
   "metadata": {},
   "outputs": [
    {
     "data": {
      "text/plain": [
       "5×5 Matrix{Float64}:\n",
       " 0.0771895  0.128895   0.138814   0.385642  0.269459\n",
       " 0.0679296  0.114343   0.130868   0.400474  0.286385\n",
       " 0.0452652  0.0776663  0.109623   0.437398  0.330047\n",
       " 0.0280624  0.0499089  0.0930683  0.465243  0.363718\n",
       " 0.0252328  0.0453331  0.0902223  0.46976   0.369452"
      ]
     },
     "execution_count": 47,
     "metadata": {},
     "output_type": "execute_result"
    }
   ],
   "source": [
    "exp(q*50)"
   ]
  },
  {
   "cell_type": "code",
   "execution_count": 48,
   "id": "2672cc01",
   "metadata": {},
   "outputs": [
    {
     "data": {
      "text/plain": [
       "5×5 Matrix{Float64}:\n",
       " -0.120192    0.0930288    0.0227163   0.00444712   0.0\n",
       "  0.039819   -0.113122     0.0667421   0.00656109   0.0\n",
       "  0.0168571   0.0287143   -0.142857    0.0918571    0.00542857\n",
       "  0.0         0.00141414   0.020404   -0.10101      0.0791919\n",
       "  0.0         0.0          0.0         0.103627    -0.103627"
      ]
     },
     "execution_count": 48,
     "metadata": {},
     "output_type": "execute_result"
    }
   ],
   "source": [
    "q"
   ]
  },
  {
   "cell_type": "code",
   "execution_count": 49,
   "id": "77ca1906",
   "metadata": {},
   "outputs": [
    {
     "data": {
      "text/plain": [
       "5-element Vector{Float64}:\n",
       " -0.2098085085920511\n",
       " -0.17936850177094582\n",
       " -0.15160942696594223\n",
       " -0.040022229181495284\n",
       "  2.0816681711721685e-17"
      ]
     },
     "execution_count": 49,
     "metadata": {},
     "output_type": "execute_result"
    }
   ],
   "source": [
    "eigvals(q)"
   ]
  },
  {
   "cell_type": "code",
   "execution_count": 50,
   "id": "25ce5bcd",
   "metadata": {},
   "outputs": [
    {
     "data": {
      "text/plain": [
       "5×5 Matrix{Float64}:\n",
       " -0.434616   0.838843      0.877579    0.754836   0.447214\n",
       "  0.537586  -0.543012     -0.194178    0.60145    0.447214\n",
       " -0.552263   0.0384604    -0.404635    0.215999   0.447214\n",
       "  0.333468   0.000561943  -0.0708359  -0.0772814  0.447214\n",
       " -0.325445  -0.00076883    0.152983   -0.125909   0.447214"
      ]
     },
     "execution_count": 50,
     "metadata": {},
     "output_type": "execute_result"
    }
   ],
   "source": [
    "eigvecs(q)"
   ]
  },
  {
   "cell_type": "code",
   "execution_count": 51,
   "id": "7fcf23ed",
   "metadata": {},
   "outputs": [
    {
     "data": {
      "text/plain": [
       "5×5 Diagonal{Float64, Vector{Float64}}:\n",
       " -0.209809    ⋅          ⋅          ⋅          ⋅ \n",
       "   ⋅        -0.179369    ⋅          ⋅          ⋅ \n",
       "   ⋅          ⋅        -0.151609    ⋅          ⋅ \n",
       "   ⋅          ⋅          ⋅        -0.0400222   ⋅ \n",
       "   ⋅          ⋅          ⋅          ⋅         2.08167e-17"
      ]
     },
     "execution_count": 51,
     "metadata": {},
     "output_type": "execute_result"
    }
   ],
   "source": [
    "Diagonal(eigvals(q))"
   ]
  },
  {
   "cell_type": "code",
   "execution_count": 52,
   "id": "e9e6e6f8",
   "metadata": {},
   "outputs": [
    {
     "data": {
      "text/plain": [
       "1×5 Matrix{Int64}:\n",
       " 0  0  1  0  0"
      ]
     },
     "execution_count": 52,
     "metadata": {},
     "output_type": "execute_result"
    }
   ],
   "source": [
    "s1=[0 0 0 0 0]\n",
    "s1[rl[i]]=1\n",
    "s1"
   ]
  },
  {
   "cell_type": "code",
   "execution_count": 53,
   "id": "b7273ba6",
   "metadata": {},
   "outputs": [
    {
     "data": {
      "text/plain": [
       "5×5 Matrix{Float64}:\n",
       " -6.00962       4.65144       1.13582       0.222356   2.58992e-15\n",
       "  1.99095      -5.65611       3.3371        0.328054  -9.62798e-16\n",
       "  0.842857      1.43571      -7.14286       4.59286    0.271429\n",
       " -8.68107e-16   0.0707071     1.0202       -5.05051    3.9596\n",
       " -1.46485e-15  -5.14331e-17   1.04499e-15   5.18135   -5.18135"
      ]
     },
     "execution_count": 53,
     "metadata": {},
     "output_type": "execute_result"
    }
   ],
   "source": [
    "q=get_rate_mat(2)\n",
    "d=eigvecs(q)*Diagonal(eigvals(q)*t)*inv(eigvecs(q))\n",
    "#d=eigvecs(q)*(I+t*Diagonal(eigvals(q)))*inv(eigvecs(q))"
   ]
  },
  {
   "cell_type": "code",
   "execution_count": 54,
   "id": "d0821426",
   "metadata": {},
   "outputs": [
    {
     "data": {
      "text/plain": [
       "2.0142857142857187"
      ]
     },
     "execution_count": 54,
     "metadata": {},
     "output_type": "execute_result"
    }
   ],
   "source": [
    "sum([1 2 3 4 5].*(s1*d))"
   ]
  },
  {
   "cell_type": "code",
   "execution_count": 55,
   "id": "0be78a6c",
   "metadata": {},
   "outputs": [
    {
     "data": {
      "text/plain": [
       "1×5 Matrix{Int64}:\n",
       " 0  0  1  0  0"
      ]
     },
     "execution_count": 55,
     "metadata": {},
     "output_type": "execute_result"
    }
   ],
   "source": [
    "s1"
   ]
  },
  {
   "cell_type": "code",
   "execution_count": null,
   "id": "aa61157e",
   "metadata": {},
   "outputs": [],
   "source": []
  },
  {
   "cell_type": "code",
   "execution_count": 56,
   "id": "1dbbb137-e2f4-4cc1-9753-c55e766381d0",
   "metadata": {},
   "outputs": [
    {
     "data": {
      "text/plain": [
       "-13.899832849996947"
      ]
     },
     "execution_count": 56,
     "metadata": {},
     "output_type": "execute_result"
    }
   ],
   "source": [
    "get_RL_atT(1,50)"
   ]
  },
  {
   "cell_type": "code",
   "execution_count": 57,
   "id": "2d64fcb0-4dc9-444a-8700-35ecef45ef82",
   "metadata": {},
   "outputs": [
    {
     "data": {
      "text/plain": [
       "5×5 Matrix{Float64}:\n",
       "   24.8037     -30.5065     -20.7009      81.0788        -10.3392\n",
       "   36.1094   12337.0      16959.0     -32236.3          3609.06\n",
       "  188.362    26705.1      41500.9     -79407.9          8876.7\n",
       " -184.609   -38797.5     -61959.7          1.20847e5  -13593.4\n",
       "   83.4968   20899.2      33492.6     -65783.5          7418.99"
      ]
     },
     "execution_count": 57,
     "metadata": {},
     "output_type": "execute_result"
    }
   ],
   "source": [
    "i=1\n",
    "q=get_rate_mat(i)\n",
    "t=50\n",
    "eigvecs(q)'*(I+t*Diagonal(eigvals(q))+t^2*Diagonal(eigvals(q).^2))*inv(eigvecs(q)')"
   ]
  },
  {
   "cell_type": "code",
   "execution_count": 58,
   "id": "a69b6b6f-0a6a-4ab6-ab4b-56d299b87d27",
   "metadata": {},
   "outputs": [
    {
     "data": {
      "text/html": [
       "<div class=\"data-frame\"><p>5 rows × 33 columns (omitted printing of 24 columns)</p><table class=\"data-frame\"><thead><tr><th></th><th>i</th><th>Cost_per_RL</th><th>RL</th><th>Sojourn1</th><th>Sojourn2</th><th>Sojourn3</th><th>Sojourn4</th><th>Sojourn5</th><th>P11</th></tr><tr><th></th><th title=\"Int64\">Int64</th><th title=\"Int64\">Int64</th><th title=\"Int64\">Int64</th><th title=\"Float64\">Float64</th><th title=\"Float64\">Float64</th><th title=\"Float64\">Float64</th><th title=\"Float64\">Float64</th><th title=\"Float64\">Float64</th><th title=\"Int64\">Int64</th></tr></thead><tbody><tr><th>1</th><td>1</td><td>92</td><td>2</td><td>4.6</td><td>1.34</td><td>2.04</td><td>0.12</td><td>8.86</td><td>0</td></tr><tr><th>2</th><td>2</td><td>122</td><td>3</td><td>8.32</td><td>8.84</td><td>7.0</td><td>9.9</td><td>9.65</td><td>0</td></tr><tr><th>3</th><td>3</td><td>78</td><td>1</td><td>4.44</td><td>1.21</td><td>5.09</td><td>6.52</td><td>8.67</td><td>0</td></tr><tr><th>4</th><td>4</td><td>131</td><td>3</td><td>5.48</td><td>7.62</td><td>3.34</td><td>5.05</td><td>5.6</td><td>0</td></tr><tr><th>5</th><td>5</td><td>95</td><td>1</td><td>9.94</td><td>2.38</td><td>7.94</td><td>3.82</td><td>5.44</td><td>0</td></tr></tbody></table></div>"
      ],
      "text/latex": [
       "\\begin{tabular}{r|cccccccccc}\n",
       "\t& i & Cost\\_per\\_RL & RL & Sojourn1 & Sojourn2 & Sojourn3 & Sojourn4 & Sojourn5 & P11 & \\\\\n",
       "\t\\hline\n",
       "\t& Int64 & Int64 & Int64 & Float64 & Float64 & Float64 & Float64 & Float64 & Int64 & \\\\\n",
       "\t\\hline\n",
       "\t1 & 1 & 92 & 2 & 4.6 & 1.34 & 2.04 & 0.12 & 8.86 & 0 & $\\dots$ \\\\\n",
       "\t2 & 2 & 122 & 3 & 8.32 & 8.84 & 7.0 & 9.9 & 9.65 & 0 & $\\dots$ \\\\\n",
       "\t3 & 3 & 78 & 1 & 4.44 & 1.21 & 5.09 & 6.52 & 8.67 & 0 & $\\dots$ \\\\\n",
       "\t4 & 4 & 131 & 3 & 5.48 & 7.62 & 3.34 & 5.05 & 5.6 & 0 & $\\dots$ \\\\\n",
       "\t5 & 5 & 95 & 1 & 9.94 & 2.38 & 7.94 & 3.82 & 5.44 & 0 & $\\dots$ \\\\\n",
       "\\end{tabular}\n"
      ],
      "text/plain": [
       "\u001b[1m5×33 DataFrame\u001b[0m\n",
       "\u001b[1m Row \u001b[0m│\u001b[1m i     \u001b[0m\u001b[1m Cost_per_RL \u001b[0m\u001b[1m RL    \u001b[0m\u001b[1m Sojourn1 \u001b[0m\u001b[1m Sojourn2 \u001b[0m\u001b[1m Sojourn3 \u001b[0m\u001b[1m Sojourn4 \u001b[0m\u001b[1m Sojo\u001b[0m ⋯\n",
       "\u001b[1m     \u001b[0m│\u001b[90m Int64 \u001b[0m\u001b[90m Int64       \u001b[0m\u001b[90m Int64 \u001b[0m\u001b[90m Float64  \u001b[0m\u001b[90m Float64  \u001b[0m\u001b[90m Float64  \u001b[0m\u001b[90m Float64  \u001b[0m\u001b[90m Floa\u001b[0m ⋯\n",
       "─────┼──────────────────────────────────────────────────────────────────────────\n",
       "   1 │     1           92      2      4.6       1.34      2.04      0.12       ⋯\n",
       "   2 │     2          122      3      8.32      8.84      7.0       9.9\n",
       "   3 │     3           78      1      4.44      1.21      5.09      6.52\n",
       "   4 │     4          131      3      5.48      7.62      3.34      5.05\n",
       "   5 │     5           95      1      9.94      2.38      7.94      3.82       ⋯\n",
       "\u001b[36m                                                              26 columns omitted\u001b[0m"
      ]
     },
     "execution_count": 58,
     "metadata": {},
     "output_type": "execute_result"
    }
   ],
   "source": [
    "innovations"
   ]
  },
  {
   "cell_type": "code",
   "execution_count": 59,
   "id": "74e50159-edd4-404f-aa48-f3aac8ecfbe8",
   "metadata": {},
   "outputs": [
    {
     "data": {
      "text/plain": [
       "5×5 Matrix{Real}:\n",
       " 0     0.36  0.12  0    0\n",
       " 0.76  0     0.2   0.0  0\n",
       " 0.21  0.58  0     0.2  0\n",
       " 0.03  0.06  0.65  0    1\n",
       " 0     0     0.03  0.8  0"
      ]
     },
     "execution_count": 59,
     "metadata": {},
     "output_type": "execute_result"
    }
   ],
   "source": [
    "get_transition_mat(1)'"
   ]
  },
  {
   "cell_type": "code",
   "execution_count": 60,
   "id": "f8a92cdd-3b5b-41c4-a7cf-26cba47cd8cf",
   "metadata": {},
   "outputs": [
    {
     "data": {
      "text/plain": [
       "2×2 Matrix{Int64}:\n",
       " 1  2\n",
       " 4  3"
      ]
     },
     "execution_count": 60,
     "metadata": {},
     "output_type": "execute_result"
    }
   ],
   "source": [
    "a=[1 2; 4 3]"
   ]
  },
  {
   "cell_type": "code",
   "execution_count": 61,
   "id": "34c81736-7d14-4a74-92f2-d52b9a7d5b8d",
   "metadata": {},
   "outputs": [
    {
     "data": {
      "text/plain": [
       "2×2 Matrix{Float64}:\n",
       " 49.7163  49.3484\n",
       " 98.6969  99.0647"
      ]
     },
     "execution_count": 61,
     "metadata": {},
     "output_type": "execute_result"
    }
   ],
   "source": [
    "exp(a)"
   ]
  },
  {
   "cell_type": "code",
   "execution_count": 62,
   "id": "02ee76a9-f129-48f0-9c6e-45ee839c3373",
   "metadata": {},
   "outputs": [
    {
     "data": {
      "text/plain": [
       "2×2 Matrix{Float64}:\n",
       " 46.3476  45.9798\n",
       " 91.9595  92.3274"
      ]
     },
     "execution_count": 62,
     "metadata": {},
     "output_type": "execute_result"
    }
   ],
   "source": [
    "I+a+(a^2)./2+(a^3)./6+(a^4)./24+(a^5)./120+(a^6)./720+(a^7)./factorial(7)+(a^8)./factorial(8)"
   ]
  },
  {
   "cell_type": "code",
   "execution_count": 63,
   "id": "aa19152d-83c7-427c-bf9c-601adc74d1d0",
   "metadata": {},
   "outputs": [
    {
     "data": {
      "text/plain": [
       "2×2 Matrix{Int64}:\n",
       "  9   8\n",
       " 16  17"
      ]
     },
     "execution_count": 63,
     "metadata": {},
     "output_type": "execute_result"
    }
   ],
   "source": [
    "a^2"
   ]
  },
  {
   "cell_type": "code",
   "execution_count": 64,
   "id": "fe870888-2857-47cc-8a72-8259c1acb7d7",
   "metadata": {},
   "outputs": [
    {
     "data": {
      "text/plain": [
       "5×5 adjoint(::Matrix{Real}) with eltype Real:\n",
       " 0     0.76  0.21  0.03  0\n",
       " 0.36  0     0.58  0.06  0\n",
       " 0.12  0.2   0     0.65  0.03\n",
       " 0     0.0   0.2   0     0.8\n",
       " 0     0     0     1     0"
      ]
     },
     "execution_count": 64,
     "metadata": {},
     "output_type": "execute_result"
    }
   ],
   "source": [
    "get_transition_mat(1)"
   ]
  },
  {
   "cell_type": "code",
   "execution_count": 65,
   "id": "52779078-bdf6-41c2-9a5b-855678c80ade",
   "metadata": {},
   "outputs": [
    {
     "data": {
      "text/html": [
       "<div class=\"data-frame\"><p>5 rows × 33 columns (omitted printing of 24 columns)</p><table class=\"data-frame\"><thead><tr><th></th><th>i</th><th>Cost_per_RL</th><th>RL</th><th>Sojourn1</th><th>Sojourn2</th><th>Sojourn3</th><th>Sojourn4</th><th>Sojourn5</th><th>P11</th></tr><tr><th></th><th title=\"Int64\">Int64</th><th title=\"Int64\">Int64</th><th title=\"Int64\">Int64</th><th title=\"Float64\">Float64</th><th title=\"Float64\">Float64</th><th title=\"Float64\">Float64</th><th title=\"Float64\">Float64</th><th title=\"Float64\">Float64</th><th title=\"Int64\">Int64</th></tr></thead><tbody><tr><th>1</th><td>1</td><td>92</td><td>2</td><td>4.6</td><td>1.34</td><td>2.04</td><td>0.12</td><td>8.86</td><td>0</td></tr><tr><th>2</th><td>2</td><td>122</td><td>3</td><td>8.32</td><td>8.84</td><td>7.0</td><td>9.9</td><td>9.65</td><td>0</td></tr><tr><th>3</th><td>3</td><td>78</td><td>1</td><td>4.44</td><td>1.21</td><td>5.09</td><td>6.52</td><td>8.67</td><td>0</td></tr><tr><th>4</th><td>4</td><td>131</td><td>3</td><td>5.48</td><td>7.62</td><td>3.34</td><td>5.05</td><td>5.6</td><td>0</td></tr><tr><th>5</th><td>5</td><td>95</td><td>1</td><td>9.94</td><td>2.38</td><td>7.94</td><td>3.82</td><td>5.44</td><td>0</td></tr></tbody></table></div>"
      ],
      "text/latex": [
       "\\begin{tabular}{r|cccccccccc}\n",
       "\t& i & Cost\\_per\\_RL & RL & Sojourn1 & Sojourn2 & Sojourn3 & Sojourn4 & Sojourn5 & P11 & \\\\\n",
       "\t\\hline\n",
       "\t& Int64 & Int64 & Int64 & Float64 & Float64 & Float64 & Float64 & Float64 & Int64 & \\\\\n",
       "\t\\hline\n",
       "\t1 & 1 & 92 & 2 & 4.6 & 1.34 & 2.04 & 0.12 & 8.86 & 0 & $\\dots$ \\\\\n",
       "\t2 & 2 & 122 & 3 & 8.32 & 8.84 & 7.0 & 9.9 & 9.65 & 0 & $\\dots$ \\\\\n",
       "\t3 & 3 & 78 & 1 & 4.44 & 1.21 & 5.09 & 6.52 & 8.67 & 0 & $\\dots$ \\\\\n",
       "\t4 & 4 & 131 & 3 & 5.48 & 7.62 & 3.34 & 5.05 & 5.6 & 0 & $\\dots$ \\\\\n",
       "\t5 & 5 & 95 & 1 & 9.94 & 2.38 & 7.94 & 3.82 & 5.44 & 0 & $\\dots$ \\\\\n",
       "\\end{tabular}\n"
      ],
      "text/plain": [
       "\u001b[1m5×33 DataFrame\u001b[0m\n",
       "\u001b[1m Row \u001b[0m│\u001b[1m i     \u001b[0m\u001b[1m Cost_per_RL \u001b[0m\u001b[1m RL    \u001b[0m\u001b[1m Sojourn1 \u001b[0m\u001b[1m Sojourn2 \u001b[0m\u001b[1m Sojourn3 \u001b[0m\u001b[1m Sojourn4 \u001b[0m\u001b[1m Sojo\u001b[0m ⋯\n",
       "\u001b[1m     \u001b[0m│\u001b[90m Int64 \u001b[0m\u001b[90m Int64       \u001b[0m\u001b[90m Int64 \u001b[0m\u001b[90m Float64  \u001b[0m\u001b[90m Float64  \u001b[0m\u001b[90m Float64  \u001b[0m\u001b[90m Float64  \u001b[0m\u001b[90m Floa\u001b[0m ⋯\n",
       "─────┼──────────────────────────────────────────────────────────────────────────\n",
       "   1 │     1           92      2      4.6       1.34      2.04      0.12       ⋯\n",
       "   2 │     2          122      3      8.32      8.84      7.0       9.9\n",
       "   3 │     3           78      1      4.44      1.21      5.09      6.52\n",
       "   4 │     4          131      3      5.48      7.62      3.34      5.05\n",
       "   5 │     5           95      1      9.94      2.38      7.94      3.82       ⋯\n",
       "\u001b[36m                                                              26 columns omitted\u001b[0m"
      ]
     },
     "execution_count": 65,
     "metadata": {},
     "output_type": "execute_result"
    }
   ],
   "source": [
    "innovations"
   ]
  },
  {
   "cell_type": "code",
   "execution_count": null,
   "id": "c1d2f151-6d55-4671-bae9-820761f6598d",
   "metadata": {},
   "outputs": [],
   "source": []
  },
  {
   "cell_type": "code",
   "execution_count": 66,
   "id": "0f9357e8-8fd0-48f3-b317-36bfae16ac68",
   "metadata": {},
   "outputs": [
    {
     "data": {
      "text/plain": [
       "5×5 Matrix{Float64}:\n",
       " 0.0        0.165217   0.0456522  0.00652174  0.0\n",
       " 0.268657   0.0        0.432836   0.0447761   0.0\n",
       " 0.0588235  0.0980392  0.0        0.318627    0.0147059\n",
       " 0.0        0.0        1.66667    0.0         6.66667\n",
       " 0.0        0.0        0.0        0.112867    0.0"
      ]
     },
     "execution_count": 66,
     "metadata": {},
     "output_type": "execute_result"
    }
   ],
   "source": [
    "get_transition_mat(1)./collect(innovations[1,4:8])"
   ]
  },
  {
   "cell_type": "code",
   "execution_count": null,
   "id": "3b53446a-f03f-43d8-8ddf-c8ba6da14b4c",
   "metadata": {},
   "outputs": [],
   "source": []
  },
  {
   "cell_type": "code",
   "execution_count": 67,
   "id": "4eb51a3c-cead-4d31-9b2f-64dc8c1379d9",
   "metadata": {},
   "outputs": [
    {
     "data": {
      "text/plain": [
       "5×5 Diagonal{Float64, Vector{Float64}}:\n",
       " 1.79753e5      ⋅       ⋅       ⋅       ⋅ \n",
       "  ⋅         1934.58     ⋅       ⋅       ⋅ \n",
       "  ⋅             ⋅    419.098    ⋅       ⋅ \n",
       "  ⋅             ⋅       ⋅     21.9329   ⋅ \n",
       "  ⋅             ⋅       ⋅       ⋅      1.0"
      ]
     },
     "execution_count": 67,
     "metadata": {},
     "output_type": "execute_result"
    }
   ],
   "source": [
    "I+t*Diagonal(eigvals(q))+t^2*Diagonal(eigvals(q).^2)"
   ]
  },
  {
   "cell_type": "code",
   "execution_count": 68,
   "id": "1d2a1c2e-0d5c-469d-8e13-3bee6bd1ec1a",
   "metadata": {},
   "outputs": [
    {
     "data": {
      "text/plain": [
       "5×5 Diagonal{Float64, Vector{Float64}}:\n",
       " 4.51242e-185   ⋅            ⋅            ⋅          ⋅ \n",
       "  ⋅            4.83727e-20   ⋅            ⋅          ⋅ \n",
       "  ⋅             ⋅           7.94298e-10   ⋅          ⋅ \n",
       "  ⋅             ⋅            ⋅           0.0060816   ⋅ \n",
       "  ⋅             ⋅            ⋅            ⋅         1.0"
      ]
     },
     "execution_count": 68,
     "metadata": {},
     "output_type": "execute_result"
    }
   ],
   "source": [
    "exp(50*Diagonal(eigvals(q)))"
   ]
  },
  {
   "cell_type": "code",
   "execution_count": 69,
   "id": "d3245906-97e3-4389-9f0c-02b9311a31d5",
   "metadata": {},
   "outputs": [
    {
     "data": {
      "text/plain": [
       "5-element Vector{Float64}:\n",
       " -8.48942815163113\n",
       " -0.8895070448628717\n",
       " -0.41907123933545865\n",
       " -0.10204975415525477\n",
       " -4.885048420854648e-17"
      ]
     },
     "execution_count": 69,
     "metadata": {},
     "output_type": "execute_result"
    }
   ],
   "source": [
    "eigvals(q)"
   ]
  },
  {
   "cell_type": "code",
   "execution_count": 70,
   "id": "1fdb00e6-1202-401f-9028-2c6adf9ffd9c",
   "metadata": {},
   "outputs": [
    {
     "data": {
      "text/plain": [
       "3.366441526732466e21"
      ]
     },
     "execution_count": 70,
     "metadata": {},
     "output_type": "execute_result"
    }
   ],
   "source": [
    "t=50\n",
    "1+sum((1/factorial(i))*t^i*(8.5)^i for i in 1:20)"
   ]
  },
  {
   "cell_type": "code",
   "execution_count": null,
   "id": "0e1f3533",
   "metadata": {},
   "outputs": [],
   "source": []
  },
  {
   "cell_type": "code",
   "execution_count": null,
   "id": "57187295",
   "metadata": {},
   "outputs": [],
   "source": []
  }
 ],
 "metadata": {
  "kernelspec": {
   "display_name": "Julia 1.6.3",
   "language": "julia",
   "name": "julia-1.6"
  },
  "language_info": {
   "file_extension": ".jl",
   "mimetype": "application/julia",
   "name": "julia",
   "version": "1.6.3"
  }
 },
 "nbformat": 4,
 "nbformat_minor": 5
}
