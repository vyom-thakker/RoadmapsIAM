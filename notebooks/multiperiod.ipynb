{
 "cells": [
  {
   "cell_type": "code",
   "execution_count": 14,
   "id": "0cd38929",
   "metadata": {},
   "outputs": [
    {
     "name": "stderr",
     "output_type": "stream",
     "text": [
      "\u001b[32m\u001b[1m  Activating\u001b[22m\u001b[39m environment at `~/Documents/project-codes/Plan_RoadmapsIAM/toy-problem/baron_env/Project.toml`\n"
     ]
    }
   ],
   "source": [
    "\n",
    "using Pkg\n",
    "Pkg.activate(\"./baron_env\")\n",
    "#Pkg.pin(\"JuMP\")\n",
    "using JuMP\n",
    "using CSV\n",
    "using GraphRecipes, Plots\n",
    "using LightGraphs\n",
    "using LinearAlgebra\n",
    "using SparseArrays\n",
    "using DataFrames\n",
    "using BARON\n",
    "using Gurobi\n",
    "using PiecewiseLinearOpt\n",
    "using VegaLite, VegaDatasets\n",
    "using FileIO"
   ]
  },
  {
   "cell_type": "code",
   "execution_count": 2,
   "id": "e8956d14-30ad-49f9-bf77-ae0d8a2937f8",
   "metadata": {},
   "outputs": [
    {
     "name": "stderr",
     "output_type": "stream",
     "text": [
      "┌ Warning: Pkg.installed() is deprecated\n",
      "└ @ Pkg /buildworker/worker/package_linux64/build/usr/share/julia/stdlib/v1.6/Pkg/src/Pkg.jl:570\n"
     ]
    },
    {
     "data": {
      "text/plain": [
       "Dict{String, VersionNumber} with 3 entries:\n",
       "  \"BARON\"              => v\"0.6.5\"\n",
       "  \"PiecewiseLinearOpt\" => v\"0.3.0\"\n",
       "  \"CPLEX\"              => v\"0.7.8\""
      ]
     },
     "execution_count": 2,
     "metadata": {},
     "output_type": "execute_result"
    }
   ],
   "source": [
    "Pkg.installed()"
   ]
  },
  {
   "cell_type": "code",
   "execution_count": 3,
   "id": "6cd49756",
   "metadata": {},
   "outputs": [
    {
     "data": {
      "text/html": [
       "<div class=\"data-frame\"><p>5 rows × 33 columns (omitted printing of 24 columns)</p><table class=\"data-frame\"><thead><tr><th></th><th>i</th><th>Cost_per_RL</th><th>RL</th><th>Sojourn1</th><th>Sojourn2</th><th>Sojourn3</th><th>Sojourn4</th><th>Sojourn5</th><th>P11</th></tr><tr><th></th><th title=\"Int64\">Int64</th><th title=\"Int64\">Int64</th><th title=\"Int64\">Int64</th><th title=\"Float64\">Float64</th><th title=\"Float64\">Float64</th><th title=\"Float64\">Float64</th><th title=\"Float64\">Float64</th><th title=\"Float64\">Float64</th><th title=\"Int64\">Int64</th></tr></thead><tbody><tr><th>1</th><td>1</td><td>92</td><td>3</td><td>4.6</td><td>1.34</td><td>2.04</td><td>0.12</td><td>8.86</td><td>0</td></tr><tr><th>2</th><td>2</td><td>205</td><td>2</td><td>8.32</td><td>8.84</td><td>0.65</td><td>9.9</td><td>9.65</td><td>0</td></tr><tr><th>3</th><td>3</td><td>84</td><td>1</td><td>4.44</td><td>1.21</td><td>5.09</td><td>6.52</td><td>8.67</td><td>0</td></tr><tr><th>4</th><td>4</td><td>108</td><td>3</td><td>5.48</td><td>7.62</td><td>3.34</td><td>5.05</td><td>1.1</td><td>0</td></tr><tr><th>5</th><td>5</td><td>80</td><td>1</td><td>9.94</td><td>2.38</td><td>7.94</td><td>3.82</td><td>5.44</td><td>0</td></tr></tbody></table></div>"
      ],
      "text/latex": [
       "\\begin{tabular}{r|cccccccccc}\n",
       "\t& i & Cost\\_per\\_RL & RL & Sojourn1 & Sojourn2 & Sojourn3 & Sojourn4 & Sojourn5 & P11 & \\\\\n",
       "\t\\hline\n",
       "\t& Int64 & Int64 & Int64 & Float64 & Float64 & Float64 & Float64 & Float64 & Int64 & \\\\\n",
       "\t\\hline\n",
       "\t1 & 1 & 92 & 3 & 4.6 & 1.34 & 2.04 & 0.12 & 8.86 & 0 & $\\dots$ \\\\\n",
       "\t2 & 2 & 205 & 2 & 8.32 & 8.84 & 0.65 & 9.9 & 9.65 & 0 & $\\dots$ \\\\\n",
       "\t3 & 3 & 84 & 1 & 4.44 & 1.21 & 5.09 & 6.52 & 8.67 & 0 & $\\dots$ \\\\\n",
       "\t4 & 4 & 108 & 3 & 5.48 & 7.62 & 3.34 & 5.05 & 1.1 & 0 & $\\dots$ \\\\\n",
       "\t5 & 5 & 80 & 1 & 9.94 & 2.38 & 7.94 & 3.82 & 5.44 & 0 & $\\dots$ \\\\\n",
       "\\end{tabular}\n"
      ],
      "text/plain": [
       "\u001b[1m5×33 DataFrame\u001b[0m\n",
       "\u001b[1m Row \u001b[0m│\u001b[1m i     \u001b[0m\u001b[1m Cost_per_RL \u001b[0m\u001b[1m RL    \u001b[0m\u001b[1m Sojourn1 \u001b[0m\u001b[1m Sojourn2 \u001b[0m\u001b[1m Sojourn3 \u001b[0m\u001b[1m Sojourn4 \u001b[0m\u001b[1m Sojo\u001b[0m ⋯\n",
       "\u001b[1m     \u001b[0m│\u001b[90m Int64 \u001b[0m\u001b[90m Int64       \u001b[0m\u001b[90m Int64 \u001b[0m\u001b[90m Float64  \u001b[0m\u001b[90m Float64  \u001b[0m\u001b[90m Float64  \u001b[0m\u001b[90m Float64  \u001b[0m\u001b[90m Floa\u001b[0m ⋯\n",
       "─────┼──────────────────────────────────────────────────────────────────────────\n",
       "   1 │     1           92      3      4.6       1.34      2.04      0.12       ⋯\n",
       "   2 │     2          205      2      8.32      8.84      0.65      9.9\n",
       "   3 │     3           84      1      4.44      1.21      5.09      6.52\n",
       "   4 │     4          108      3      5.48      7.62      3.34      5.05\n",
       "   5 │     5           80      1      9.94      2.38      7.94      3.82       ⋯\n",
       "\u001b[36m                                                              26 columns omitted\u001b[0m"
      ]
     },
     "execution_count": 3,
     "metadata": {},
     "output_type": "execute_result"
    }
   ],
   "source": [
    "innovations = CSV.File(\"./data/innovations.csv\",header=1,delim=\",\") |> DataFrame\n",
    "mapki = CSV.File(\"./data/map-ki.csv\",header=1,delim=\",\") |> DataFrame\n",
    "compromise = CSV.File(\"./data/compromise.csv\",header=1,delim=\",\") |> DataFrame\n",
    "initial = CSV.File(\"./data/initial.csv\",header=1,delim=\",\") |> DataFrame\n",
    "iam_model = CSV.File(\"./data/iam_model.csv\",header=1,delim=\",\") |> DataFrame\n",
    "ci=innovations[!,2]\n",
    "rl=innovations[!,3]\n",
    "initial\n",
    "\n",
    "#innovations[2,6]=7\n",
    "#compromise[!,3]=compromise[!,3]/2\n",
    "#innovations[2,2]=175\n",
    "innovations[2,2]=205\n",
    "#innovations[2,3]=2\n",
    "#innovations[1,3]=3\n",
    "#innovations[4,2]=108\n",
    "\n",
    "#innovations[1,2]=185\n",
    "#innovations[3,3]=2\n",
    "innovations\n",
    "#CSV.write(\"innovations.csv\",innovations)"
   ]
  },
  {
   "cell_type": "code",
   "execution_count": 4,
   "id": "33d1096b-bd0b-4edf-8fb1-38ca9b060af5",
   "metadata": {},
   "outputs": [
    {
     "data": {
      "text/html": [
       "<div class=\"data-frame\"><p>25 rows × 8 columns</p><table class=\"data-frame\"><thead><tr><th></th><th>k</th><th>i</th><th>GWP</th><th>Theta</th><th>Per_Recycl</th><th>Per_Comp</th><th>GHG_ElecInd</th><th>GHG_Trans</th></tr><tr><th></th><th title=\"Int64\">Int64</th><th title=\"Int64\">Int64</th><th title=\"Float64\">Float64</th><th title=\"Float64\">Float64</th><th title=\"Float64\">Float64</th><th title=\"Float64\">Float64</th><th title=\"Float64\">Float64</th><th title=\"Float64\">Float64</th></tr></thead><tbody><tr><th>1</th><td>1</td><td>1</td><td>40.0</td><td>0.6</td><td>0.5</td><td>0.0</td><td>0.301222</td><td>0.162415</td></tr><tr><th>2</th><td>2</td><td>1</td><td>43.0</td><td>0.66</td><td>0.55</td><td>0.0</td><td>0.291677</td><td>0.145083</td></tr><tr><th>3</th><td>3</td><td>1</td><td>45.5</td><td>0.68</td><td>0.567</td><td>0.0</td><td>0.323371</td><td>0.161281</td></tr><tr><th>4</th><td>4</td><td>1</td><td>47.5</td><td>0.7</td><td>0.583</td><td>0.0</td><td>0.525025</td><td>0.151392</td></tr><tr><th>5</th><td>5</td><td>2</td><td>30.0</td><td>0.4</td><td>0.0</td><td>0.2</td><td>0.308217</td><td>0.0923318</td></tr><tr><th>6</th><td>6</td><td>2</td><td>32.0</td><td>0.48</td><td>0.0</td><td>0.24</td><td>0.419839</td><td>0.167281</td></tr><tr><th>7</th><td>7</td><td>2</td><td>34.0</td><td>0.5</td><td>0.0</td><td>0.27</td><td>0.418893</td><td>0.136562</td></tr><tr><th>8</th><td>8</td><td>2</td><td>38.0</td><td>0.52</td><td>0.0</td><td>0.34</td><td>0.530551</td><td>0.134121</td></tr><tr><th>9</th><td>9</td><td>2</td><td>40.0</td><td>0.54</td><td>0.0</td><td>0.37</td><td>0.418593</td><td>0.146208</td></tr><tr><th>10</th><td>10</td><td>2</td><td>42.5</td><td>0.55</td><td>0.0</td><td>0.4</td><td>0.241192</td><td>0.171951</td></tr><tr><th>11</th><td>11</td><td>3</td><td>42.5</td><td>0.6</td><td>0.6</td><td>0.3</td><td>0.299233</td><td>0.0803592</td></tr><tr><th>12</th><td>12</td><td>3</td><td>44.5</td><td>0.68</td><td>0.55</td><td>0.4</td><td>0.208995</td><td>0.133684</td></tr><tr><th>13</th><td>13</td><td>3</td><td>46.5</td><td>0.76</td><td>0.53</td><td>0.4</td><td>0.190811</td><td>0.16299</td></tr><tr><th>14</th><td>14</td><td>3</td><td>47.5</td><td>0.82</td><td>0.5</td><td>0.4</td><td>0.20475</td><td>0.0683796</td></tr><tr><th>15</th><td>15</td><td>4</td><td>37.5</td><td>0.65</td><td>0.0</td><td>0.5</td><td>0.35395</td><td>0.0837429</td></tr><tr><th>16</th><td>16</td><td>4</td><td>39.0</td><td>0.69</td><td>0.0</td><td>0.531</td><td>0.473869</td><td>0.126291</td></tr><tr><th>17</th><td>17</td><td>4</td><td>40.0</td><td>0.71</td><td>0.0</td><td>0.55</td><td>0.499872</td><td>0.151744</td></tr><tr><th>18</th><td>18</td><td>4</td><td>40.5</td><td>0.72</td><td>0.0</td><td>0.55</td><td>0.4039</td><td>0.171753</td></tr><tr><th>19</th><td>19</td><td>4</td><td>41.5</td><td>0.74</td><td>0.0</td><td>0.57</td><td>0.515215</td><td>0.0825216</td></tr><tr><th>20</th><td>20</td><td>4</td><td>42.5</td><td>0.75</td><td>0.0</td><td>0.8</td><td>0.163491</td><td>0.121528</td></tr><tr><th>21</th><td>21</td><td>5</td><td>45.0</td><td>0.9</td><td>0.7</td><td>0.15</td><td>0.323143</td><td>0.104367</td></tr><tr><th>22</th><td>22</td><td>5</td><td>46.0</td><td>0.92</td><td>0.716</td><td>0.1</td><td>0.393909</td><td>0.0648811</td></tr><tr><th>23</th><td>23</td><td>5</td><td>47.0</td><td>0.94</td><td>0.731</td><td>0.0</td><td>0.367604</td><td>0.0785466</td></tr><tr><th>24</th><td>24</td><td>5</td><td>48.0</td><td>0.95</td><td>0.738</td><td>0.0</td><td>0.361888</td><td>0.0685196</td></tr><tr><th>25</th><td>25</td><td>5</td><td>50.0</td><td>0.95</td><td>0.738</td><td>0.0</td><td>0.420387</td><td>0.123506</td></tr></tbody></table></div>"
      ],
      "text/latex": [
       "\\begin{tabular}{r|cccccccc}\n",
       "\t& k & i & GWP & Theta & Per\\_Recycl & Per\\_Comp & GHG\\_ElecInd & GHG\\_Trans\\\\\n",
       "\t\\hline\n",
       "\t& Int64 & Int64 & Float64 & Float64 & Float64 & Float64 & Float64 & Float64\\\\\n",
       "\t\\hline\n",
       "\t1 & 1 & 1 & 40.0 & 0.6 & 0.5 & 0.0 & 0.301222 & 0.162415 \\\\\n",
       "\t2 & 2 & 1 & 43.0 & 0.66 & 0.55 & 0.0 & 0.291677 & 0.145083 \\\\\n",
       "\t3 & 3 & 1 & 45.5 & 0.68 & 0.567 & 0.0 & 0.323371 & 0.161281 \\\\\n",
       "\t4 & 4 & 1 & 47.5 & 0.7 & 0.583 & 0.0 & 0.525025 & 0.151392 \\\\\n",
       "\t5 & 5 & 2 & 30.0 & 0.4 & 0.0 & 0.2 & 0.308217 & 0.0923318 \\\\\n",
       "\t6 & 6 & 2 & 32.0 & 0.48 & 0.0 & 0.24 & 0.419839 & 0.167281 \\\\\n",
       "\t7 & 7 & 2 & 34.0 & 0.5 & 0.0 & 0.27 & 0.418893 & 0.136562 \\\\\n",
       "\t8 & 8 & 2 & 38.0 & 0.52 & 0.0 & 0.34 & 0.530551 & 0.134121 \\\\\n",
       "\t9 & 9 & 2 & 40.0 & 0.54 & 0.0 & 0.37 & 0.418593 & 0.146208 \\\\\n",
       "\t10 & 10 & 2 & 42.5 & 0.55 & 0.0 & 0.4 & 0.241192 & 0.171951 \\\\\n",
       "\t11 & 11 & 3 & 42.5 & 0.6 & 0.6 & 0.3 & 0.299233 & 0.0803592 \\\\\n",
       "\t12 & 12 & 3 & 44.5 & 0.68 & 0.55 & 0.4 & 0.208995 & 0.133684 \\\\\n",
       "\t13 & 13 & 3 & 46.5 & 0.76 & 0.53 & 0.4 & 0.190811 & 0.16299 \\\\\n",
       "\t14 & 14 & 3 & 47.5 & 0.82 & 0.5 & 0.4 & 0.20475 & 0.0683796 \\\\\n",
       "\t15 & 15 & 4 & 37.5 & 0.65 & 0.0 & 0.5 & 0.35395 & 0.0837429 \\\\\n",
       "\t16 & 16 & 4 & 39.0 & 0.69 & 0.0 & 0.531 & 0.473869 & 0.126291 \\\\\n",
       "\t17 & 17 & 4 & 40.0 & 0.71 & 0.0 & 0.55 & 0.499872 & 0.151744 \\\\\n",
       "\t18 & 18 & 4 & 40.5 & 0.72 & 0.0 & 0.55 & 0.4039 & 0.171753 \\\\\n",
       "\t19 & 19 & 4 & 41.5 & 0.74 & 0.0 & 0.57 & 0.515215 & 0.0825216 \\\\\n",
       "\t20 & 20 & 4 & 42.5 & 0.75 & 0.0 & 0.8 & 0.163491 & 0.121528 \\\\\n",
       "\t21 & 21 & 5 & 45.0 & 0.9 & 0.7 & 0.15 & 0.323143 & 0.104367 \\\\\n",
       "\t22 & 22 & 5 & 46.0 & 0.92 & 0.716 & 0.1 & 0.393909 & 0.0648811 \\\\\n",
       "\t23 & 23 & 5 & 47.0 & 0.94 & 0.731 & 0.0 & 0.367604 & 0.0785466 \\\\\n",
       "\t24 & 24 & 5 & 48.0 & 0.95 & 0.738 & 0.0 & 0.361888 & 0.0685196 \\\\\n",
       "\t25 & 25 & 5 & 50.0 & 0.95 & 0.738 & 0.0 & 0.420387 & 0.123506 \\\\\n",
       "\\end{tabular}\n"
      ],
      "text/plain": [
       "\u001b[1m25×8 DataFrame\u001b[0m\n",
       "\u001b[1m Row \u001b[0m│\u001b[1m k     \u001b[0m\u001b[1m i     \u001b[0m\u001b[1m GWP     \u001b[0m\u001b[1m Theta   \u001b[0m\u001b[1m Per_Recycl \u001b[0m\u001b[1m Per_Comp \u001b[0m\u001b[1m GHG_ElecInd \u001b[0m\u001b[1m GHG_\u001b[0m ⋯\n",
       "\u001b[1m     \u001b[0m│\u001b[90m Int64 \u001b[0m\u001b[90m Int64 \u001b[0m\u001b[90m Float64 \u001b[0m\u001b[90m Float64 \u001b[0m\u001b[90m Float64    \u001b[0m\u001b[90m Float64  \u001b[0m\u001b[90m Float64     \u001b[0m\u001b[90m Floa\u001b[0m ⋯\n",
       "─────┼──────────────────────────────────────────────────────────────────────────\n",
       "   1 │     1      1     40.0     0.6        0.5       0.0       0.301222  0.16 ⋯\n",
       "   2 │     2      1     43.0     0.66       0.55      0.0       0.291677  0.14\n",
       "   3 │     3      1     45.5     0.68       0.567     0.0       0.323371  0.16\n",
       "   4 │     4      1     47.5     0.7        0.583     0.0       0.525025  0.15\n",
       "   5 │     5      2     30.0     0.4        0.0       0.2       0.308217  0.09 ⋯\n",
       "   6 │     6      2     32.0     0.48       0.0       0.24      0.419839  0.16\n",
       "   7 │     7      2     34.0     0.5        0.0       0.27      0.418893  0.13\n",
       "   8 │     8      2     38.0     0.52       0.0       0.34      0.530551  0.13\n",
       "   9 │     9      2     40.0     0.54       0.0       0.37      0.418593  0.14 ⋯\n",
       "  10 │    10      2     42.5     0.55       0.0       0.4       0.241192  0.17\n",
       "  11 │    11      3     42.5     0.6        0.6       0.3       0.299233  0.08\n",
       "  ⋮  │   ⋮      ⋮       ⋮        ⋮         ⋮          ⋮           ⋮            ⋱\n",
       "  16 │    16      4     39.0     0.69       0.0       0.531     0.473869  0.12\n",
       "  17 │    17      4     40.0     0.71       0.0       0.55      0.499872  0.15 ⋯\n",
       "  18 │    18      4     40.5     0.72       0.0       0.55      0.4039    0.17\n",
       "  19 │    19      4     41.5     0.74       0.0       0.57      0.515215  0.08\n",
       "  20 │    20      4     42.5     0.75       0.0       0.8       0.163491  0.12\n",
       "  21 │    21      5     45.0     0.9        0.7       0.15      0.323143  0.10 ⋯\n",
       "  22 │    22      5     46.0     0.92       0.716     0.1       0.393909  0.06\n",
       "  23 │    23      5     47.0     0.94       0.731     0.0       0.367604  0.07\n",
       "  24 │    24      5     48.0     0.95       0.738     0.0       0.361888  0.06\n",
       "  25 │    25      5     50.0     0.95       0.738     0.0       0.420387  0.12 ⋯\n",
       "\u001b[36m                                                     1 column and 4 rows omitted\u001b[0m"
      ]
     },
     "execution_count": 4,
     "metadata": {},
     "output_type": "execute_result"
    }
   ],
   "source": [
    "compromise"
   ]
  },
  {
   "cell_type": "code",
   "execution_count": 5,
   "id": "4e49351a-5301-4c14-8142-72ea5910982a",
   "metadata": {},
   "outputs": [
    {
     "data": {
      "text/plain": [
       "give_sorted (generic function with 1 method)"
      ]
     },
     "execution_count": 5,
     "metadata": {},
     "output_type": "execute_result"
    }
   ],
   "source": [
    "function get_transition_mat(i)\n",
    "    p_mat=reshape(collect(innovations[i,9:33]),5,5)\n",
    "    return p_mat'\n",
    "end\n",
    "\n",
    "\n",
    "function get_rate_mat(i)\n",
    "    p_mat=get_transition_mat(i)\n",
    "    q_mat=p_mat./collect(innovations[i,4:8])\n",
    "    for i in 1:5\n",
    "        q_mat[i,i]=-1*sum(q_mat[i,j] for j in 1:5 if j!=i)\n",
    "    end\n",
    "    return q_mat\n",
    "end\n",
    "\n",
    "function get_rate_eig_mat(i)\n",
    "    p_mat=get_transition_mat(i)\n",
    "    q_mat=p_mat./collect(innovations[i,4:8])\n",
    "    for i in 1:5\n",
    "        q_mat[i,i]=-1*sum(q_mat[i,j] for j in 1:5 if j!=i)\n",
    "    end\n",
    "    return [q_mat,eigvecs(q_mat),eigvals(q_mat)]\n",
    "end\n",
    "\n",
    "function get_IAM_factor(t)\n",
    "    return 1\n",
    "end\n",
    "\n",
    "function give_sorted(t)\n",
    "    v=sortperm(t)\n",
    "    return v\n",
    "end\n"
   ]
  },
  {
   "cell_type": "code",
   "execution_count": 6,
   "id": "d6e7594d",
   "metadata": {},
   "outputs": [
    {
     "data": {
      "text/plain": [
       "1×5 Matrix{Int64}:\n",
       " 1  2  3  4  5"
      ]
     },
     "execution_count": 6,
     "metadata": {},
     "output_type": "execute_result"
    }
   ],
   "source": [
    "q=zeros(5,5,nrow(innovations))\n",
    "a=zeros(5,5,nrow(innovations))\n",
    "ainv=zeros(5,5,nrow(innovations))\n",
    "d=zeros(5,1,nrow(innovations))\n",
    "s0=zeros(1,5,nrow(innovations))\n",
    "for i in 1:nrow(innovations)\n",
    "    q[:,:,i]=round.(get_rate_eig_mat(i)[1],digits=3)\n",
    "    a[:,:,i]=(get_rate_eig_mat(i)[2])\n",
    "    d[:,:,i]=round.(get_rate_eig_mat(i)[3],digits=3)\n",
    "    ainv[:,:,i]=round.(inv(get_rate_eig_mat(i)[2]),digits=3)\n",
    "    s0[1,rl[i],i]=1\n",
    "end\n",
    "rl_vals=[1 2 3 4 5]"
   ]
  },
  {
   "cell_type": "code",
   "execution_count": 7,
   "id": "82bcdb33-a9c3-4e1c-a456-21ed1fdb43b4",
   "metadata": {},
   "outputs": [
    {
     "data": {
      "text/html": [
       "<div class=\"data-frame\"><p>5 rows × 7 columns</p><table class=\"data-frame\"><thead><tr><th></th><th>Column1</th><th>Y0</th><th>Y1</th><th>Y2</th><th>Y3</th><th>Y4</th><th>Y5</th></tr><tr><th></th><th title=\"Int64\">Int64</th><th title=\"Int64\">Int64</th><th title=\"Float64\">Float64</th><th title=\"Float64\">Float64</th><th title=\"Float64\">Float64</th><th title=\"Float64\">Float64</th><th title=\"Float64\">Float64</th></tr></thead><tbody><tr><th>1</th><td>1</td><td>2</td><td>2.7072</td><td>4.75873</td><td>7.09603</td><td>9.8417</td><td>13.0938</td></tr><tr><th>2</th><td>2</td><td>3</td><td>3.57175</td><td>4.12</td><td>4.85225</td><td>5.7275</td><td>6.88619</td></tr><tr><th>3</th><td>3</td><td>4</td><td>3.27231</td><td>3.46135</td><td>4.85452</td><td>6.94432</td><td>9.60523</td></tr><tr><th>4</th><td>4</td><td>2</td><td>3.57586</td><td>4.52541</td><td>5.81029</td><td>7.27062</td><td>8.80461</td></tr><tr><th>5</th><td>5</td><td>4</td><td>3.61235</td><td>3.77839</td><td>4.54485</td><td>5.90837</td><td>7.67768</td></tr></tbody></table></div>"
      ],
      "text/latex": [
       "\\begin{tabular}{r|ccccccc}\n",
       "\t& Column1 & Y0 & Y1 & Y2 & Y3 & Y4 & Y5\\\\\n",
       "\t\\hline\n",
       "\t& Int64 & Int64 & Float64 & Float64 & Float64 & Float64 & Float64\\\\\n",
       "\t\\hline\n",
       "\t1 & 1 & 2 & 2.7072 & 4.75873 & 7.09603 & 9.8417 & 13.0938 \\\\\n",
       "\t2 & 2 & 3 & 3.57175 & 4.12 & 4.85225 & 5.7275 & 6.88619 \\\\\n",
       "\t3 & 3 & 4 & 3.27231 & 3.46135 & 4.85452 & 6.94432 & 9.60523 \\\\\n",
       "\t4 & 4 & 2 & 3.57586 & 4.52541 & 5.81029 & 7.27062 & 8.80461 \\\\\n",
       "\t5 & 5 & 4 & 3.61235 & 3.77839 & 4.54485 & 5.90837 & 7.67768 \\\\\n",
       "\\end{tabular}\n"
      ],
      "text/plain": [
       "\u001b[1m5×7 DataFrame\u001b[0m\n",
       "\u001b[1m Row \u001b[0m│\u001b[1m Column1 \u001b[0m\u001b[1m Y0    \u001b[0m\u001b[1m Y1      \u001b[0m\u001b[1m Y2      \u001b[0m\u001b[1m Y3      \u001b[0m\u001b[1m Y4      \u001b[0m\u001b[1m Y5       \u001b[0m\n",
       "\u001b[1m     \u001b[0m│\u001b[90m Int64   \u001b[0m\u001b[90m Int64 \u001b[0m\u001b[90m Float64 \u001b[0m\u001b[90m Float64 \u001b[0m\u001b[90m Float64 \u001b[0m\u001b[90m Float64 \u001b[0m\u001b[90m Float64  \u001b[0m\n",
       "─────┼──────────────────────────────────────────────────────────────\n",
       "   1 │       1      2  2.7072   4.75873  7.09603  9.8417   13.0938\n",
       "   2 │       2      3  3.57175  4.12     4.85225  5.7275    6.88619\n",
       "   3 │       3      4  3.27231  3.46135  4.85452  6.94432   9.60523\n",
       "   4 │       4      2  3.57586  4.52541  5.81029  7.27062   8.80461\n",
       "   5 │       5      4  3.61235  3.77839  4.54485  5.90837   7.67768"
      ]
     },
     "execution_count": 7,
     "metadata": {},
     "output_type": "execute_result"
    }
   ],
   "source": [
    "inn_reg = CSV.File(\"./data/inn_reg.csv\",header=1,delim=\",\") |> DataFrame\n",
    "inn_xrang = CSV.File(\"./data/inn_xrang.csv\",header=1,delim=\",\") |> DataFrame\n",
    "inn_yrang = CSV.File(\"./data/inn_yrang.csv\",header=1,delim=\",\") |> DataFrame\n",
    "inn_yrang[!,\"Y0\"]=-1*(innovations[!,\"RL\"].-5)\n",
    "inn_yrang"
   ]
  },
  {
   "cell_type": "code",
   "execution_count": 17,
   "id": "f0da4ca7",
   "metadata": {},
   "outputs": [
    {
     "data": {
      "text/plain": [
       "7-element Vector{Int64}:\n",
       "  0\n",
       "  5\n",
       " 10\n",
       " 15\n",
       " 20\n",
       " 25\n",
       " 30"
      ]
     },
     "execution_count": 17,
     "metadata": {},
     "output_type": "execute_result"
    }
   ],
   "source": [
    "tau=[0,5,10,15,20,25,30]"
   ]
  },
  {
   "cell_type": "code",
   "execution_count": 79,
   "id": "12fc4d55",
   "metadata": {},
   "outputs": [
    {
     "data": {
      "text/plain": [
       "tech_roadmap_mccormick_peicewise_iam_multipd (generic function with 1 method)"
      ]
     },
     "execution_count": 79,
     "metadata": {},
     "output_type": "execute_result"
    }
   ],
   "source": [
    "function tech_roadmap_mccormick_peicewise_iam_multipd()\n",
    "    \n",
    "    rdmap= Model(Gurobi.Optimizer)\n",
    "    #set_optimizer_attribute(rdmap, \"MaxTime\", 100)\n",
    "    #set_optimizer_attribute(rdmap, \"optCR\", 0.2)\n",
    "    set_optimizer_attribute(rdmap, \"NonConvex\", 2)\n",
    "    \n",
    "    #Sets\n",
    "    # i: innovation\n",
    "    # k: compromise or pareto optimal solution\n",
    "    # r,c : row column of transition matrices\n",
    "    \n",
    "    #Declaration of variables\n",
    "    \n",
    "    #binary variable choosing the pareto optimal solution\n",
    "    @variable(rdmap,yk[k=1:nrow(compromise),tt=1:7],Bin)\n",
    "    #time at which a pareto optimal solution is chosen\n",
    "    @variable(rdmap,0 ≤ tk[k=1:nrow(compromise),tt=1:7] ≤ 50)\n",
    "    #percentage of functional unit that a pareto optimal solution takes up\n",
    "    @variable(rdmap,0 ≤ xk[k=1:nrow(compromise),tt=1:7] ≤ 1)\n",
    "    \n",
    "    #binary variable choosing which innovation to invest in for adoption\n",
    "    @variable(rdmap,yi[i=1:nrow(innovations),tt=1:7],Bin)\n",
    "    #time at which invested is made and innovation made adoptible\n",
    "    @variable(rdmap,0 ≤ ti[i=1:nrow(innovations),tt=1:7] ≤ 50)\n",
    "    #readiness level state value of ith innovation\n",
    "    @variable(rdmap, s[i=1:nrow(innovations),tt=1:7] )\n",
    "    \n",
    "    #CO2 at 2050 target\n",
    "    @variable(rdmap, co2_2050[tt=1:7] ≥ 0)\n",
    "    \n",
    "    #circularity at 2030 target\n",
    "    @variable(rdmap, theta_2030[tt=1:7] ≥ 0)\n",
    "    #recycled content at 2030 target\n",
    "    @variable(rdmap, recycl_2030[tt=1:7] ≥ 0)\n",
    "    #compostable content at 2030 target\n",
    "    @variable(rdmap, comp_2030[tt=1:7] ≥ 0)\n",
    "    \n",
    "    #integral approximator of CO2\n",
    "    @variable(rdmap, co2_tot ≥ 0)\n",
    "    \n",
    "    #cost incured in investing to adopt\n",
    "    @variable(rdmap, 0 ≤ cost_inn)\n",
    "    \n",
    "    #surrogate models\n",
    "    @variable(rdmap,f_fit[i=1:nrow(innovations),tt=1:7] ≥ 0)\n",
    "    @variable(rdmap,co2_factor[k=1:nrow(compromise),tt=1:7]≥ 0)\n",
    "    @variable(rdmap,co2_corrected[k=1:nrow(compromise),tt=1:7]≥ 0)\n",
    "\n",
    "    for i in 1:nrow(innovations)\n",
    "        for tt in 1:7\n",
    "            f_fit[i,tt] = piecewiselinear(rdmap, tau[tt]+ti[i,tt], Matrix(inn_xrang[!,2:ncol(inn_xrang)])[i,:],Matrix(inn_yrang[!,2:ncol(inn_yrang)])[i,:])\n",
    "        end\n",
    "    end\n",
    "            \n",
    "    \n",
    "    for k in 1:nrow(compromise)\n",
    "        for tt in 1:7\n",
    "            co2_factor[k,tt] = (piecewiselinear(rdmap, tau[tt]+tk[k,tt], Matrix(iam_model[!,1:1])[:,1],Matrix(iam_model[!,2:2])[:,1]))\n",
    "    \n",
    "        end\n",
    "    end\n",
    "    \n",
    "    @constraint(rdmap, [k=1:nrow(compromise),tt=1:7], co2_corrected[k,tt] == \n",
    "        compromise[k,3]*((1-compromise[k,7]) + compromise[k,7]*(1-co2_factor[k,tt])))\n",
    "    \n",
    "    #Constraints\n",
    "    \n",
    "    \n",
    "    #Planning optimization constraints    \n",
    "    #only one compromise solution chosen on each pareto front, and chosen only if investment made in ith front\n",
    "    @constraint(rdmap, [i=1,tt=1:7], sum(yk[k,tt] for k=1:mapki[i,2])≤yi[i,tt])\n",
    "    @constraint(rdmap, [i=2:nrow(mapki),tt=1:7], sum(yk[k,tt] for k=mapki[i-1,2]:mapki[i,2])≤yi[i,tt])\n",
    "    \n",
    "    #one can pick a compromise solution from ith front to satisfy functional unit only after investment in ith innovation made\n",
    "    @constraint(rdmap, [i=1,tt=1:7], ti[i,tt] ≤ sum(tk[k,tt] for k=1:mapki[i,2]))\n",
    "    @constraint(rdmap, [i=2:nrow(mapki),tt=1:7], ti[i,tt] ≤ sum(tk[k,tt] for k=mapki[i-1,2]:mapki[i,2]))\n",
    "    \n",
    "    #if innovation invested in, time has to be between 0 and fifty, otherwise 0\n",
    "    @constraint(rdmap, [i=1:nrow(mapki),tt=1:7], 5*yi[i,tt] ≥ ti[i,tt])\n",
    "    #if compromise solution chosen, time has to be between 0 and fifty, otherwise 0\n",
    "    @constraint(rdmap, [k=1:nrow(compromise),tt=1:7], 5*yk[k,tt] ≥ tk[k,tt])\n",
    "    \n",
    "    @constraint(rdmap, [i=1:nrow(mapki),tt=1:6], yi[i,tt+1] ≥ yi[i,tt])\n",
    "    @constraint(rdmap, [i=1:nrow(mapki),tt=2:7],10000*ti[i,tt]≥ yi[i,tt]-yi[i,tt-1])\n",
    "    \n",
    "    \n",
    "    \n",
    "    \n",
    "    #if innovation invested in, time has to be between 0 and fifty, otherwise 0\n",
    "    #@constraint(rdmap, [i=1:nrow(mapki)], 50*yi[i] ≤ ti[i])\n",
    "    #if compromise solution chosen, time has to be between 0 and fifty, otherwise 0\n",
    "    #@constraint(rdmap, [k=1:nrow(compromise)], 50*yk[k] ≤ tk[k])\n",
    "    \n",
    "    \n",
    "    #functional unit allocation to innovation iff compromise solution chosen\n",
    "    @constraint(rdmap, [k=1:nrow(compromise),tt=1:7], yk[k,tt] ≥ xk[k,tt])\n",
    "    \n",
    "    #total fraction of functional unit satisfied by innovative compromise solutions <1\n",
    "    @constraint(rdmap,[tt=1:7], sum(xk[k,tt] for k in 1:nrow(compromise)) ≤ 1) \n",
    "    \n",
    "    #co2 at 2050 target formulated based on distribution of functional unit to various pareto solutions from innovative and conventional fronts\n",
    "    @constraint(rdmap,[tt=7],co2_2050[tt]==sum(xk[k,7]*co2_corrected[k,7] for k in 1:nrow(compromise))\n",
    "        + (1-sum(xk[k,7] for k in 1:nrow(compromise)))*initial[1,3])\n",
    "    \n",
    "    #tk < 30\n",
    "    #@variable(rdmap, zk_2030[k=1:nrow(compromise)], Bin)\n",
    "    #@constraint(rdmap, [k=1:nrow(compromise)], 50*(1-zk_2030[k]) ≥ tk[k]-40)\n",
    "    \n",
    "    #circularity at 2030 target\n",
    "    #@constraint(rdmap, theta_2030==sum(xk[k]*compromise[k,4]*(zk_2030[k]) for k in 1:nrow(compromise))\n",
    "    #   + (1-sum(xk[k]*(zk_2030[k]) for k in 1:nrow(compromise)))*initial[1,4])\n",
    "    \n",
    "    #recyclable content at 2030 target\n",
    "    @constraint(rdmap,[tt=3:7], recycl_2030[tt]==sum(xk[k,tt]*compromise[k,5] for k in 1:nrow(compromise))\n",
    "        + (1-sum(xk[k,tt] for k in 1:nrow(compromise)))*initial[1,5])\n",
    "    \n",
    "    #compostable at 2030 target\n",
    "    @constraint(rdmap,[tt=3:7], comp_2030[tt]==sum(xk[k,tt]*compromise[k,6] for k in 1:nrow(compromise))\n",
    "        + (1-sum(xk[k,tt] for k in 1:nrow(compromise)))*initial[1,6])\n",
    "    \n",
    "    \n",
    "    #Time evolution of innovation\n",
    "   \n",
    "    \n",
    "    #Integral approximation of co2 emitted during the entire time horizon\n",
    "    \n",
    "    #mccormick envelopes reduces computational time by 3 fold (see previous formulation for actual bilinear integral approximation)\n",
    "    @variable(rdmap,0 ≤ wk[k=1:nrow(compromise),tt=1:7])\n",
    "    @constraint(rdmap,[k=1:nrow(compromise),tt=1:7],wk[k,tt] ≥ 5*xk[k,tt]+tk[k,tt]-5)\n",
    "    @constraint(rdmap,[k=1:nrow(compromise),tt=1:7],wk[k,tt] ≤ 5*xk[k,tt])\n",
    "    @constraint(rdmap,[k=1:nrow(compromise),tt=1:7],wk[k,tt] ≤ tk[k,tt])\n",
    "    \n",
    "    #@constraint(rdmap, co2_tot == 50*initial[1,3]-sum(sum((5-tk[k,tt])*xk[k,tt]*\n",
    "    #                        (initial[1,3]-co2_corrected[k,tt]) for k in 1:nrow(compromise)) for tt in 1:6))\n",
    "    @constraint(rdmap, co2_tot == 50*initial[1,3]-sum(sum((5*xk[k,tt]-wk[k,tt])*(initial[1,3]-compromise[k,3]) \n",
    "                    for k in 1:nrow(compromise)) for tt in 1:7))\n",
    "\n",
    "    #setting target for 2050 co2 pledge\n",
    "    @constraint(rdmap, co2_2050[7] ≤ 30)\n",
    "    \n",
    "    #setting target for 2030 circularity pledge\n",
    "    #@constraint(rdmap, theta_2030 ≥ 0.72)\n",
    "    \n",
    "    #setting target for 2030 recycl pledge\n",
    "    @constraint(rdmap,[tt=3:7], recycl_2030[tt] + comp_2030[tt] ≥ 0.6)\n",
    "    \n",
    "    #setting target for 2030 comp pledge\n",
    "    #@constraint(rdmap, comp_2030 ≥ 0.45)\n",
    "    \n",
    "    #@constraint(rdmap,yi[3,1]==0)\n",
    "\n",
    "\n",
    "    \n",
    "    @constraint(rdmap, cost_inn == sum(sum(ci[i]*((yi[i,tt]-yi[i,tt-1])*f_fit[i,tt])\n",
    "                for i in 1:nrow(innovations)) for tt in 2:7) + sum(ci[i]*(yi[i,1]*f_fit[i,1]) for i in 1:nrow(innovations)))\n",
    "                \n",
    "\n",
    "    \n",
    "    @constraint(rdmap, [i=1:nrow(innovations),tt=1:7],s[i,tt]==f_fit[i,tt])\n",
    "    \n",
    "    #@variable(rdmap, y1, Bin)\n",
    "    #@NLconstraint(rdmap, cost_inn == sum(ci[i]*(yi[i]*(y1*(2*t/50)+(1-y1)*(3*t/50))) for i in 1:nrow(innovations)))\n",
    "    \n",
    "    \n",
    "    #definining objective function as investment cost + Co2 emission cost during the time horizon\n",
    "    #40*0.001*co2_tot+\n",
    "    #@NLconstraint(rdmap, obj_val == cost_inn)\n",
    "    #120*0.001*co2_tot+\n",
    "    @objective(rdmap,Min, 120*0.001*co2_tot+cost_inn)\n",
    "    #120*0.001*co2_tot+\n",
    "    #supplying lower bound on objective based on cost_inn optimal\n",
    "    #@variable(rdmap, obj_val ≥ 180)\n",
    "    #print(rdmap)\n",
    "    optimize!(rdmap)\n",
    "    \n",
    "    return JuMP.value.(yk), JuMP.value.(tk), JuMP.value.(xk), JuMP.value.(yi), JuMP.value.(ti), \n",
    "        JuMP.value.(s), JuMP.value.(co2_2050), JuMP.value.(cost_inn), JuMP.value.(co2_tot), JuMP.value.(co2_corrected)\n",
    "end\n",
    "\n",
    "\n"
   ]
  },
  {
   "cell_type": "code",
   "execution_count": 81,
   "id": "6644178b",
   "metadata": {
    "scrolled": true
   },
   "outputs": [
    {
     "name": "stdout",
     "output_type": "stream",
     "text": [
      "Academic license - for non-commercial use only - expires 2022-11-07\n",
      "Gurobi Optimizer version 9.1.2 build v9.1.2rc0 (linux64)\n",
      "Thread count: 8 physical cores, 16 logical processors, using up to 16 threads\n",
      "Optimize a model with 3164 rows, 3320 columns and 11993 nonzeros\n",
      "Model fingerprint: 0xa71a1dc8\n",
      "Model has 2 quadratic constraints\n",
      "Variable types: 2480 continuous, 840 integer (840 binary)\n",
      "Coefficient statistics:\n",
      "  Matrix range     [1e-01, 1e+04]\n",
      "  QMatrix range    [1e+00, 2e+02]\n",
      "  QLMatrix range   [1e+00, 1e+02]\n",
      "  Objective range  [2e-01, 1e+00]\n",
      "  Bounds range     [3e-01, 5e+01]\n",
      "  RHS range        [1e-01, 5e+03]\n",
      "  QRHS range       [1e+02, 1e+02]\n",
      "Presolve removed 1491 rows and 1927 columns\n",
      "Presolve time: 0.03s\n",
      "Presolved: 1970 rows, 1483 columns, 7104 nonzeros\n",
      "Presolved model has 25 bilinear constraint(s)\n",
      "Variable types: 1109 continuous, 374 integer (374 binary)\n",
      "\n",
      "Root relaxation: objective 5.173190e+02, 1481 iterations, 0.03 seconds\n",
      "\n",
      "    Nodes    |    Current Node    |     Objective Bounds      |     Work\n",
      " Expl Unexpl |  Obj  Depth IntInf | Incumbent    BestBd   Gap | It/Node Time\n",
      "\n",
      "     0     0  517.31903    0   54          -  517.31903      -     -    0s\n",
      "     0     0  702.01706    0   67          -  702.01706      -     -    0s\n",
      "     0     0  713.41889    0   52          -  713.41889      -     -    0s\n",
      "     0     0  713.44976    0   52          -  713.44976      -     -    0s\n",
      "     0     0  822.12891    0   53          -  822.12891      -     -    0s\n",
      "     0     0  822.34236    0   52          -  822.34236      -     -    0s\n",
      "     0     0  893.42743    0   24          -  893.42743      -     -    0s\n",
      "     0     0  893.53319    0   22          -  893.53319      -     -    0s\n",
      "     0     0  905.17324    0   21          -  905.17324      -     -    0s\n",
      "     0     0  906.39239    0   38          -  906.39239      -     -    0s\n",
      "     0     0  911.23026    0   18          -  911.23026      -     -    0s\n",
      "     0     0  911.30393    0   20          -  911.30393      -     -    0s\n",
      "     0     0  911.34096    0   21          -  911.34096      -     -    0s\n",
      "     0     0  911.63966    0   49          -  911.63966      -     -    0s\n",
      "     0     0  911.94918    0   19          -  911.94918      -     -    0s\n",
      "     0     0  911.94918    0   18          -  911.94918      -     -    0s\n",
      "     0     2  911.99074    0   18          -  911.99074      -     -    0s\n",
      "*    5     4               2     948.1467964  946.10360  0.22%  49.2    0s\n",
      "*    7     2               3     946.5976464  946.10360  0.05%  50.0    0s\n",
      "\n",
      "Cutting planes:\n",
      "  Gomory: 4\n",
      "  Cover: 1\n",
      "  Implied bound: 13\n",
      "  MIR: 28\n",
      "  Flow cover: 41\n",
      "  Zero half: 2\n",
      "  RLT: 36\n",
      "  Relax-and-lift: 17\n",
      "\n",
      "Explored 11 nodes (2772 simplex iterations) in 0.27 seconds\n",
      "Thread count was 16 (of 16 available processors)\n",
      "\n",
      "Solution count 2: 946.598 948.147 \n",
      "\n",
      "Optimal solution found (tolerance 1.00e-04)\n",
      "Best objective 9.465976463821e+02, best bound 9.465976463821e+02, gap 0.0000%\n",
      "\n",
      "User-callback calls 405, time in user-callback 0.00 sec\n"
     ]
    },
    {
     "data": {
      "text/plain": [
       "5×7 Matrix{Float64}:\n",
       " 0.0  0.0  0.0  0.0  0.0  0.0   0.0\n",
       " 0.0  0.0  0.0  0.0  0.0  0.0   0.0\n",
       " 0.0  1.0  1.0  1.0  1.0  1.0   1.0\n",
       " 1.0  1.0  1.0  1.0  1.0  1.0   1.0\n",
       " 0.0  0.0  0.0  0.0  0.0  0.0  -0.0"
      ]
     },
     "execution_count": 81,
     "metadata": {},
     "output_type": "execute_result"
    }
   ],
   "source": [
    "yk, tk, xk, yi, ti, s, co2, costInn, co2tot, co2fac=tech_roadmap_mccormick_peicewise_iam_multipd()\n",
    "yi\n"
   ]
  },
  {
   "cell_type": "code",
   "execution_count": 82,
   "id": "0629277d",
   "metadata": {
    "scrolled": true
   },
   "outputs": [
    {
     "data": {
      "application/vnd.vegalite.v4+json": {
       "data": {
        "values": [
         {
          "value": 0,
          "variable": "x1",
          "year": 1
         },
         {
          "value": 0,
          "variable": "x1",
          "year": 2
         },
         {
          "value": 0,
          "variable": "x1",
          "year": 3
         },
         {
          "value": 0,
          "variable": "x1",
          "year": 4
         },
         {
          "value": 0,
          "variable": "x1",
          "year": 5
         },
         {
          "value": 0,
          "variable": "x1",
          "year": 6
         },
         {
          "value": 0,
          "variable": "x1",
          "year": 7
         },
         {
          "value": 0,
          "variable": "x2",
          "year": 1
         },
         {
          "value": 0,
          "variable": "x2",
          "year": 2
         },
         {
          "value": 0,
          "variable": "x2",
          "year": 3
         },
         {
          "value": 0,
          "variable": "x2",
          "year": 4
         },
         {
          "value": 0,
          "variable": "x2",
          "year": 5
         },
         {
          "value": 0,
          "variable": "x2",
          "year": 6
         },
         {
          "value": 0,
          "variable": "x2",
          "year": 7
         },
         {
          "value": 0,
          "variable": "x3",
          "year": 1
         },
         {
          "value": 0,
          "variable": "x3",
          "year": 2
         },
         {
          "value": 0,
          "variable": "x3",
          "year": 3
         },
         {
          "value": 0,
          "variable": "x3",
          "year": 4
         },
         {
          "value": 0,
          "variable": "x3",
          "year": 5
         },
         {
          "value": 0,
          "variable": "x3",
          "year": 6
         },
         {
          "value": 0,
          "variable": "x3",
          "year": 7
         },
         {
          "value": 0,
          "variable": "x4",
          "year": 1
         },
         {
          "value": 0,
          "variable": "x4",
          "year": 2
         },
         {
          "value": 0,
          "variable": "x4",
          "year": 3
         },
         {
          "value": 0,
          "variable": "x4",
          "year": 4
         },
         {
          "value": 0,
          "variable": "x4",
          "year": 5
         },
         {
          "value": 0,
          "variable": "x4",
          "year": 6
         },
         {
          "value": 0,
          "variable": "x4",
          "year": 7
         },
         {
          "value": 0,
          "variable": "x5",
          "year": 1
         },
         {
          "value": 0,
          "variable": "x5",
          "year": 2
         },
         {
          "value": 0,
          "variable": "x5",
          "year": 3
         },
         {
          "value": 0,
          "variable": "x5",
          "year": 4
         },
         {
          "value": 0,
          "variable": "x5",
          "year": 5
         },
         {
          "value": 0,
          "variable": "x5",
          "year": 6
         },
         {
          "value": 0,
          "variable": "x5",
          "year": 7
         },
         {
          "value": 0,
          "variable": "x6",
          "year": 1
         },
         {
          "value": 0,
          "variable": "x6",
          "year": 2
         },
         {
          "value": 0,
          "variable": "x6",
          "year": 3
         },
         {
          "value": 0,
          "variable": "x6",
          "year": 4
         },
         {
          "value": 0,
          "variable": "x6",
          "year": 5
         },
         {
          "value": 0,
          "variable": "x6",
          "year": 6
         },
         {
          "value": 0,
          "variable": "x6",
          "year": 7
         },
         {
          "value": 0,
          "variable": "x7",
          "year": 1
         },
         {
          "value": 0,
          "variable": "x7",
          "year": 2
         },
         {
          "value": 0,
          "variable": "x7",
          "year": 3
         },
         {
          "value": 0,
          "variable": "x7",
          "year": 4
         },
         {
          "value": 0,
          "variable": "x7",
          "year": 5
         },
         {
          "value": 0,
          "variable": "x7",
          "year": 6
         },
         {
          "value": 0,
          "variable": "x7",
          "year": 7
         },
         {
          "value": 0,
          "variable": "x8",
          "year": 1
         },
         {
          "value": 0,
          "variable": "x8",
          "year": 2
         },
         {
          "value": 0,
          "variable": "x8",
          "year": 3
         },
         {
          "value": 0,
          "variable": "x8",
          "year": 4
         },
         {
          "value": 0,
          "variable": "x8",
          "year": 5
         },
         {
          "value": 0,
          "variable": "x8",
          "year": 6
         },
         {
          "value": 0,
          "variable": "x8",
          "year": 7
         },
         {
          "value": 0,
          "variable": "x9",
          "year": 1
         },
         {
          "value": 0,
          "variable": "x9",
          "year": 2
         },
         {
          "value": 0,
          "variable": "x9",
          "year": 3
         },
         {
          "value": 0,
          "variable": "x9",
          "year": 4
         },
         {
          "value": 0,
          "variable": "x9",
          "year": 5
         },
         {
          "value": 0,
          "variable": "x9",
          "year": 6
         },
         {
          "value": 0,
          "variable": "x9",
          "year": 7
         },
         {
          "value": 0,
          "variable": "x10",
          "year": 1
         },
         {
          "value": 0,
          "variable": "x10",
          "year": 2
         },
         {
          "value": 0,
          "variable": "x10",
          "year": 3
         },
         {
          "value": 0,
          "variable": "x10",
          "year": 4
         },
         {
          "value": 0,
          "variable": "x10",
          "year": 5
         },
         {
          "value": 0,
          "variable": "x10",
          "year": 6
         },
         {
          "value": 0,
          "variable": "x10",
          "year": 7
         },
         {
          "value": 0,
          "variable": "x11",
          "year": 1
         },
         {
          "value": 0,
          "variable": "x11",
          "year": 2
         },
         {
          "value": 0.2499999999999999,
          "variable": "x11",
          "year": 3
         },
         {
          "value": 0.2499999999999999,
          "variable": "x11",
          "year": 4
         },
         {
          "value": 0.24999999999999992,
          "variable": "x11",
          "year": 5
         },
         {
          "value": 0.25,
          "variable": "x11",
          "year": 6
         },
         {
          "value": 0.18699186991869893,
          "variable": "x11",
          "year": 7
         },
         {
          "value": 0,
          "variable": "x12",
          "year": 1
         },
         {
          "value": 0,
          "variable": "x12",
          "year": 2
         },
         {
          "value": 0,
          "variable": "x12",
          "year": 3
         },
         {
          "value": 0,
          "variable": "x12",
          "year": 4
         },
         {
          "value": 0,
          "variable": "x12",
          "year": 5
         },
         {
          "value": 0,
          "variable": "x12",
          "year": 6
         },
         {
          "value": 0,
          "variable": "x12",
          "year": 7
         },
         {
          "value": 0,
          "variable": "x13",
          "year": 1
         },
         {
          "value": 0,
          "variable": "x13",
          "year": 2
         },
         {
          "value": 0,
          "variable": "x13",
          "year": 3
         },
         {
          "value": 0,
          "variable": "x13",
          "year": 4
         },
         {
          "value": 0,
          "variable": "x13",
          "year": 5
         },
         {
          "value": 0,
          "variable": "x13",
          "year": 6
         },
         {
          "value": 0,
          "variable": "x13",
          "year": 7
         },
         {
          "value": 0,
          "variable": "x14",
          "year": 1
         },
         {
          "value": 0,
          "variable": "x14",
          "year": 2
         },
         {
          "value": 0,
          "variable": "x14",
          "year": 3
         },
         {
          "value": 0,
          "variable": "x14",
          "year": 4
         },
         {
          "value": 0,
          "variable": "x14",
          "year": 5
         },
         {
          "value": 0,
          "variable": "x14",
          "year": 6
         },
         {
          "value": 0,
          "variable": "x14",
          "year": 7
         },
         {
          "value": 1,
          "variable": "x15",
          "year": 1
         },
         {
          "value": 1,
          "variable": "x15",
          "year": 2
         },
         {
          "value": 0.7500000000000001,
          "variable": "x15",
          "year": 3
         },
         {
          "value": 0.7500000000000001,
          "variable": "x15",
          "year": 4
         },
         {
          "value": 0.75,
          "variable": "x15",
          "year": 5
         },
         {
          "value": 0.75,
          "variable": "x15",
          "year": 6
         },
         {
          "value": 0,
          "variable": "x15",
          "year": 7
         },
         {
          "value": 0,
          "variable": "x16",
          "year": 1
         },
         {
          "value": 0,
          "variable": "x16",
          "year": 2
         },
         {
          "value": 0,
          "variable": "x16",
          "year": 3
         },
         {
          "value": 0,
          "variable": "x16",
          "year": 4
         },
         {
          "value": 0,
          "variable": "x16",
          "year": 5
         },
         {
          "value": 0,
          "variable": "x16",
          "year": 6
         },
         {
          "value": 0.8130081300813011,
          "variable": "x16",
          "year": 7
         },
         {
          "value": 0,
          "variable": "x17",
          "year": 1
         },
         {
          "value": 0,
          "variable": "x17",
          "year": 2
         },
         {
          "value": 0,
          "variable": "x17",
          "year": 3
         },
         {
          "value": 0,
          "variable": "x17",
          "year": 4
         },
         {
          "value": 0,
          "variable": "x17",
          "year": 5
         },
         {
          "value": 0,
          "variable": "x17",
          "year": 6
         },
         {
          "value": 0,
          "variable": "x17",
          "year": 7
         },
         {
          "value": 0,
          "variable": "x18",
          "year": 1
         },
         {
          "value": 0,
          "variable": "x18",
          "year": 2
         },
         {
          "value": 0,
          "variable": "x18",
          "year": 3
         },
         {
          "value": 0,
          "variable": "x18",
          "year": 4
         },
         {
          "value": 0,
          "variable": "x18",
          "year": 5
         },
         {
          "value": 0,
          "variable": "x18",
          "year": 6
         },
         {
          "value": 0,
          "variable": "x18",
          "year": 7
         },
         {
          "value": 0,
          "variable": "x19",
          "year": 1
         },
         {
          "value": 0,
          "variable": "x19",
          "year": 2
         },
         {
          "value": 0,
          "variable": "x19",
          "year": 3
         },
         {
          "value": 0,
          "variable": "x19",
          "year": 4
         },
         {
          "value": 0,
          "variable": "x19",
          "year": 5
         },
         {
          "value": 0,
          "variable": "x19",
          "year": 6
         },
         {
          "value": 0,
          "variable": "x19",
          "year": 7
         },
         {
          "value": 0,
          "variable": "x20",
          "year": 1
         },
         {
          "value": 0,
          "variable": "x20",
          "year": 2
         },
         {
          "value": 0,
          "variable": "x20",
          "year": 3
         },
         {
          "value": 0,
          "variable": "x20",
          "year": 4
         },
         {
          "value": 0,
          "variable": "x20",
          "year": 5
         },
         {
          "value": 0,
          "variable": "x20",
          "year": 6
         },
         {
          "value": 0,
          "variable": "x20",
          "year": 7
         },
         {
          "value": 0,
          "variable": "x21",
          "year": 1
         },
         {
          "value": 0,
          "variable": "x21",
          "year": 2
         },
         {
          "value": 0,
          "variable": "x21",
          "year": 3
         },
         {
          "value": 0,
          "variable": "x21",
          "year": 4
         },
         {
          "value": 0,
          "variable": "x21",
          "year": 5
         },
         {
          "value": 0,
          "variable": "x21",
          "year": 6
         },
         {
          "value": 0,
          "variable": "x21",
          "year": 7
         },
         {
          "value": 0,
          "variable": "x22",
          "year": 1
         },
         {
          "value": 0,
          "variable": "x22",
          "year": 2
         },
         {
          "value": 0,
          "variable": "x22",
          "year": 3
         },
         {
          "value": 0,
          "variable": "x22",
          "year": 4
         },
         {
          "value": 0,
          "variable": "x22",
          "year": 5
         },
         {
          "value": 0,
          "variable": "x22",
          "year": 6
         },
         {
          "value": 0,
          "variable": "x22",
          "year": 7
         },
         {
          "value": 0,
          "variable": "x23",
          "year": 1
         },
         {
          "value": 0,
          "variable": "x23",
          "year": 2
         },
         {
          "value": 0,
          "variable": "x23",
          "year": 3
         },
         {
          "value": 0,
          "variable": "x23",
          "year": 4
         },
         {
          "value": 0,
          "variable": "x23",
          "year": 5
         },
         {
          "value": 0,
          "variable": "x23",
          "year": 6
         },
         {
          "value": 0,
          "variable": "x23",
          "year": 7
         },
         {
          "value": 0,
          "variable": "x24",
          "year": 1
         },
         {
          "value": 0,
          "variable": "x24",
          "year": 2
         },
         {
          "value": 0,
          "variable": "x24",
          "year": 3
         },
         {
          "value": 0,
          "variable": "x24",
          "year": 4
         },
         {
          "value": 0,
          "variable": "x24",
          "year": 5
         },
         {
          "value": 0,
          "variable": "x24",
          "year": 6
         },
         {
          "value": 0,
          "variable": "x24",
          "year": 7
         },
         {
          "value": 0,
          "variable": "x25",
          "year": 1
         },
         {
          "value": 0,
          "variable": "x25",
          "year": 2
         },
         {
          "value": 0,
          "variable": "x25",
          "year": 3
         },
         {
          "value": 0,
          "variable": "x25",
          "year": 4
         },
         {
          "value": 0,
          "variable": "x25",
          "year": 5
         },
         {
          "value": 0,
          "variable": "x25",
          "year": 6
         },
         {
          "value": 0,
          "variable": "x25",
          "year": 7
         }
        ]
       },
       "encoding": {
        "color": {
         "field": "variable",
         "type": "nominal"
        },
        "x": {
         "field": "year",
         "type": "quantitative"
        },
        "y": {
         "field": "value",
         "stack": "zero",
         "title": "xk",
         "type": "quantitative"
        }
       },
       "legend": "sNames",
       "mark": "area"
      },
      "image/png": "[encoded data removed]",
      "image/svg+xml": [
       "<?xml version=\"1.0\" encoding=\"utf-8\"?>\n",
       "<!DOCTYPE svg PUBLIC \"-//W3C//DTD SVG 1.1//EN\" \"http://www.w3.org/Graphics/SVG/1.1/DTD/svg11.dtd\">\n",
       "<svg xmlns=\"http://www.w3.org/2000/svg\" xmlns:xlink=\"http://www.w3.org/1999/xlink\" version=\"1.1\" class=\"marks\" width=\"314\" height=\"354\" viewBox=\"0 0 314 354\"><rect width=\"314\" height=\"354\" fill=\"white\"/><g fill=\"none\" stroke-miterlimit=\"10\" transform=\"translate(42,10)\"><g class=\"mark-group role-frame root\" role=\"graphics-object\" aria-roledescription=\"group mark container\"><g transform=\"translate(0,0)\"><path class=\"background\" aria-hidden=\"true\" d=\"M0.5,0.5h200v200h-200Z\" stroke=\"#ddd\"/><g><g class=\"mark-group role-axis\" aria-hidden=\"true\"><g transform=\"translate(0.5,200.5)\"><path class=\"background\" aria-hidden=\"true\" d=\"M0,0h0v0h0Z\" pointer-events=\"none\"/><g><g class=\"mark-rule role-axis-grid\" pointer-events=\"none\"><line transform=\"translate(0,-200)\" x2=\"0\" y2=\"200\" stroke=\"#ddd\" stroke-width=\"1\" opacity=\"1\"/><line transform=\"translate(33,-200)\" x2=\"0\" y2=\"200\" stroke=\"#ddd\" stroke-width=\"1\" opacity=\"1\"/><line transform=\"translate(67,-200)\" x2=\"0\" y2=\"200\" stroke=\"#ddd\" stroke-width=\"1\" opacity=\"1\"/><line transform=\"translate(100,-200)\" x2=\"0\" y2=\"200\" stroke=\"#ddd\" stroke-width=\"1\" opacity=\"1\"/><line transform=\"translate(133,-200)\" x2=\"0\" y2=\"200\" stroke=\"#ddd\" stroke-width=\"1\" opacity=\"1\"/><line transform=\"translate(167,-200)\" x2=\"0\" y2=\"200\" stroke=\"#ddd\" stroke-width=\"1\" opacity=\"1\"/><line transform=\"translate(200,-200)\" x2=\"0\" y2=\"200\" stroke=\"#ddd\" stroke-width=\"1\" opacity=\"1\"/></g></g><path class=\"foreground\" aria-hidden=\"true\" d=\"\" pointer-events=\"none\" display=\"none\"/></g></g><g class=\"mark-group role-axis\" aria-hidden=\"true\"><g transform=\"translate(0.5,0.5)\"><path class=\"background\" aria-hidden=\"true\" d=\"M0,0h0v0h0Z\" pointer-events=\"none\"/><g><g class=\"mark-rule role-axis-grid\" pointer-events=\"none\"><line transform=\"translate(0,200)\" x2=\"200\" y2=\"0\" stroke=\"#ddd\" stroke-width=\"1\" opacity=\"1\"/><line transform=\"translate(0,160)\" x2=\"200\" y2=\"0\" stroke=\"#ddd\" stroke-width=\"1\" opacity=\"1\"/><line transform=\"translate(0,120)\" x2=\"200\" y2=\"0\" stroke=\"#ddd\" stroke-width=\"1\" opacity=\"1\"/><line transform=\"translate(0,80)\" x2=\"200\" y2=\"0\" stroke=\"#ddd\" stroke-width=\"1\" opacity=\"1\"/><line transform=\"translate(0,40)\" x2=\"200\" y2=\"0\" stroke=\"#ddd\" stroke-width=\"1\" opacity=\"1\"/><line transform=\"translate(0,0)\" x2=\"200\" y2=\"0\" stroke=\"#ddd\" stroke-width=\"1\" opacity=\"1\"/></g></g><path class=\"foreground\" aria-hidden=\"true\" d=\"\" pointer-events=\"none\" display=\"none\"/></g></g><g class=\"mark-group role-axis\" role=\"graphics-symbol\" aria-roledescription=\"axis\" aria-label=\"X-axis titled 'year' for a linear scale with values from 1 to 7\"><g transform=\"translate(0.5,200.5)\"><path class=\"background\" aria-hidden=\"true\" d=\"M0,0h0v0h0Z\" pointer-events=\"none\"/><g><g class=\"mark-rule role-axis-tick\" pointer-events=\"none\"><line transform=\"translate(0,0)\" x2=\"0\" y2=\"5\" stroke=\"#888\" stroke-width=\"1\" opacity=\"1\"/><line transform=\"translate(33,0)\" x2=\"0\" y2=\"5\" stroke=\"#888\" stroke-width=\"1\" opacity=\"1\"/><line transform=\"translate(67,0)\" x2=\"0\" y2=\"5\" stroke=\"#888\" stroke-width=\"1\" opacity=\"1\"/><line transform=\"translate(100,0)\" x2=\"0\" y2=\"5\" stroke=\"#888\" stroke-width=\"1\" opacity=\"1\"/><line transform=\"translate(133,0)\" x2=\"0\" y2=\"5\" stroke=\"#888\" stroke-width=\"1\" opacity=\"1\"/><line transform=\"translate(167,0)\" x2=\"0\" y2=\"5\" stroke=\"#888\" stroke-width=\"1\" opacity=\"1\"/><line transform=\"translate(200,0)\" x2=\"0\" y2=\"5\" stroke=\"#888\" stroke-width=\"1\" opacity=\"1\"/></g><g class=\"mark-text role-axis-label\" pointer-events=\"none\"><text text-anchor=\"start\" transform=\"translate(0,15)\" font-family=\"sans-serif\" font-size=\"10px\" fill=\"#000\" opacity=\"1\">1</text><text text-anchor=\"middle\" transform=\"translate(33.33333333333333,15)\" font-family=\"sans-serif\" font-size=\"10px\" fill=\"#000\" opacity=\"1\">2</text><text text-anchor=\"middle\" transform=\"translate(66.66666666666666,15)\" font-family=\"sans-serif\" font-size=\"10px\" fill=\"#000\" opacity=\"1\">3</text><text text-anchor=\"middle\" transform=\"translate(100,15)\" font-family=\"sans-serif\" font-size=\"10px\" fill=\"#000\" opacity=\"1\">4</text><text text-anchor=\"middle\" transform=\"translate(133.33333333333331,15)\" font-family=\"sans-serif\" font-size=\"10px\" fill=\"#000\" opacity=\"1\">5</text><text text-anchor=\"middle\" transform=\"translate(166.66666666666669,15)\" font-family=\"sans-serif\" font-size=\"10px\" fill=\"#000\" opacity=\"1\">6</text><text text-anchor=\"end\" transform=\"translate(200,15)\" font-family=\"sans-serif\" font-size=\"10px\" fill=\"#000\" opacity=\"1\">7</text></g><g class=\"mark-rule role-axis-domain\" pointer-events=\"none\"><line transform=\"translate(0,0)\" x2=\"200\" y2=\"0\" stroke=\"#888\" stroke-width=\"1\" opacity=\"1\"/></g><g class=\"mark-text role-axis-title\" pointer-events=\"none\"><text text-anchor=\"middle\" transform=\"translate(100,30)\" font-family=\"sans-serif\" font-size=\"11px\" font-weight=\"bold\" fill=\"#000\" opacity=\"1\">year</text></g></g><path class=\"foreground\" aria-hidden=\"true\" d=\"\" pointer-events=\"none\" display=\"none\"/></g></g><g class=\"mark-group role-axis\" role=\"graphics-symbol\" aria-roledescription=\"axis\" aria-label=\"Y-axis titled 'xk' for a linear scale with values from 0.0 to 1.0\"><g transform=\"translate(0.5,0.5)\"><path class=\"background\" aria-hidden=\"true\" d=\"M0,0h0v0h0Z\" pointer-events=\"none\"/><g><g class=\"mark-rule role-axis-tick\" pointer-events=\"none\"><line transform=\"translate(0,200)\" x2=\"-5\" y2=\"0\" stroke=\"#888\" stroke-width=\"1\" opacity=\"1\"/><line transform=\"translate(0,160)\" x2=\"-5\" y2=\"0\" stroke=\"#888\" stroke-width=\"1\" opacity=\"1\"/><line transform=\"translate(0,120)\" x2=\"-5\" y2=\"0\" stroke=\"#888\" stroke-width=\"1\" opacity=\"1\"/><line transform=\"translate(0,80)\" x2=\"-5\" y2=\"0\" stroke=\"#888\" stroke-width=\"1\" opacity=\"1\"/><line transform=\"translate(0,40)\" x2=\"-5\" y2=\"0\" stroke=\"#888\" stroke-width=\"1\" opacity=\"1\"/><line transform=\"translate(0,0)\" x2=\"-5\" y2=\"0\" stroke=\"#888\" stroke-width=\"1\" opacity=\"1\"/></g><g class=\"mark-text role-axis-label\" pointer-events=\"none\"><text text-anchor=\"end\" transform=\"translate(-7,203)\" font-family=\"sans-serif\" font-size=\"10px\" fill=\"#000\" opacity=\"1\">0.0</text><text text-anchor=\"end\" transform=\"translate(-7,163)\" font-family=\"sans-serif\" font-size=\"10px\" fill=\"#000\" opacity=\"1\">0.2</text><text text-anchor=\"end\" transform=\"translate(-7,123)\" font-family=\"sans-serif\" font-size=\"10px\" fill=\"#000\" opacity=\"1\">0.4</text><text text-anchor=\"end\" transform=\"translate(-7,83)\" font-family=\"sans-serif\" font-size=\"10px\" fill=\"#000\" opacity=\"1\">0.6</text><text text-anchor=\"end\" transform=\"translate(-7,42.99999999999999)\" font-family=\"sans-serif\" font-size=\"10px\" fill=\"#000\" opacity=\"1\">0.8</text><text text-anchor=\"end\" transform=\"translate(-7,3)\" font-family=\"sans-serif\" font-size=\"10px\" fill=\"#000\" opacity=\"1\">1.0</text></g><g class=\"mark-rule role-axis-domain\" pointer-events=\"none\"><line transform=\"translate(0,200)\" x2=\"0\" y2=\"-200\" stroke=\"#888\" stroke-width=\"1\" opacity=\"1\"/></g><g class=\"mark-text role-axis-title\" pointer-events=\"none\"><text text-anchor=\"middle\" transform=\"translate(-26,100) rotate(-90) translate(0,-2)\" font-family=\"sans-serif\" font-size=\"11px\" font-weight=\"bold\" fill=\"#000\" opacity=\"1\">xk</text></g></g><path class=\"foreground\" aria-hidden=\"true\" d=\"\" pointer-events=\"none\" display=\"none\"/></g></g><g class=\"mark-group role-scope pathgroup\" role=\"graphics-object\" aria-roledescription=\"group mark container\"><g transform=\"translate(0,0)\"><path class=\"background\" aria-hidden=\"true\" d=\"M0,0h200v200h-200Z\"/><g><g class=\"mark-area role-mark marks\" role=\"graphics-object\" aria-roledescription=\"area mark container\"><path aria-label=\"year: 1; xk: 0; variable: x1\" role=\"graphics-symbol\" aria-roledescription=\"area mark\" d=\"M0,0L33.33333333333333,0L66.66666666666666,0L100,0L133.33333333333331,2.220446049250313e-14L166.66666666666669,0L200,0L200,0L166.66666666666669,0L133.33333333333331,2.220446049250313e-14L100,0L66.66666666666666,0L33.33333333333333,0L0,0Z\" fill=\"#4c78a8\"/></g></g><path class=\"foreground\" aria-hidden=\"true\" d=\"\" display=\"none\"/></g><g transform=\"translate(0,0)\"><path class=\"background\" aria-hidden=\"true\" d=\"M0,0h200v200h-200Z\"/><g><g class=\"mark-area role-mark marks\" role=\"graphics-object\" aria-roledescription=\"area mark container\"><path aria-label=\"year: 1; xk: 0; variable: x2\" role=\"graphics-symbol\" aria-roledescription=\"area mark\" d=\"M0,200L33.33333333333333,200L66.66666666666666,200L100,200L133.33333333333331,200L166.66666666666669,200L200,200L200,200L166.66666666666669,200L133.33333333333331,200L100,200L66.66666666666666,200L33.33333333333333,200L0,200Z\" fill=\"#f58518\"/></g></g><path class=\"foreground\" aria-hidden=\"true\" d=\"\" display=\"none\"/></g><g transform=\"translate(0,0)\"><path class=\"background\" aria-hidden=\"true\" d=\"M0,0h200v200h-200Z\"/><g><g class=\"mark-area role-mark marks\" role=\"graphics-object\" aria-roledescription=\"area mark container\"><path aria-label=\"year: 1; xk: 0; variable: x3\" role=\"graphics-symbol\" aria-roledescription=\"area mark\" d=\"M0,200L33.33333333333333,200L66.66666666666666,200L100,200L133.33333333333331,200L166.66666666666669,200L200,200L200,200L166.66666666666669,200L133.33333333333331,200L100,200L66.66666666666666,200L33.33333333333333,200L0,200Z\" fill=\"#9d755d\"/></g></g><path class=\"foreground\" aria-hidden=\"true\" d=\"\" display=\"none\"/></g><g transform=\"translate(0,0)\"><path class=\"background\" aria-hidden=\"true\" d=\"M0,0h200v200h-200Z\"/><g><g class=\"mark-area role-mark marks\" role=\"graphics-object\" aria-roledescription=\"area mark container\"><path aria-label=\"year: 1; xk: 0; variable: x4\" role=\"graphics-symbol\" aria-roledescription=\"area mark\" d=\"M0,200L33.33333333333333,200L66.66666666666666,200L100,200L133.33333333333331,200L166.66666666666669,200L200,200L200,200L166.66666666666669,200L133.33333333333331,200L100,200L66.66666666666666,200L33.33333333333333,200L0,200Z\" fill=\"#bab0ac\"/></g></g><path class=\"foreground\" aria-hidden=\"true\" d=\"\" display=\"none\"/></g><g transform=\"translate(0,0)\"><path class=\"background\" aria-hidden=\"true\" d=\"M0,0h200v200h-200Z\"/><g><g class=\"mark-area role-mark marks\" role=\"graphics-object\" aria-roledescription=\"area mark container\"><path aria-label=\"year: 1; xk: 0; variable: x5\" role=\"graphics-symbol\" aria-roledescription=\"area mark\" d=\"M0,200L33.33333333333333,200L66.66666666666666,200L100,200L133.33333333333331,200L166.66666666666669,200L200,200L200,200L166.66666666666669,200L133.33333333333331,200L100,200L66.66666666666666,200L33.33333333333333,200L0,200Z\" fill=\"#4c78a8\"/></g></g><path class=\"foreground\" aria-hidden=\"true\" d=\"\" display=\"none\"/></g><g transform=\"translate(0,0)\"><path class=\"background\" aria-hidden=\"true\" d=\"M0,0h200v200h-200Z\"/><g><g class=\"mark-area role-mark marks\" role=\"graphics-object\" aria-roledescription=\"area mark container\"><path aria-label=\"year: 1; xk: 0; variable: x6\" role=\"graphics-symbol\" aria-roledescription=\"area mark\" d=\"M0,200L33.33333333333333,200L66.66666666666666,200L100,200L133.33333333333331,200L166.66666666666669,200L200,200L200,200L166.66666666666669,200L133.33333333333331,200L100,200L66.66666666666666,200L33.33333333333333,200L0,200Z\" fill=\"#f58518\"/></g></g><path class=\"foreground\" aria-hidden=\"true\" d=\"\" display=\"none\"/></g><g transform=\"translate(0,0)\"><path class=\"background\" aria-hidden=\"true\" d=\"M0,0h200v200h-200Z\"/><g><g class=\"mark-area role-mark marks\" role=\"graphics-object\" aria-roledescription=\"area mark container\"><path aria-label=\"year: 1; xk: 0; variable: x7\" role=\"graphics-symbol\" aria-roledescription=\"area mark\" d=\"M0,200L33.33333333333333,200L66.66666666666666,200L100,200L133.33333333333331,200L166.66666666666669,200L200,200L200,200L166.66666666666669,200L133.33333333333331,200L100,200L66.66666666666666,200L33.33333333333333,200L0,200Z\" fill=\"#e45756\"/></g></g><path class=\"foreground\" aria-hidden=\"true\" d=\"\" display=\"none\"/></g><g transform=\"translate(0,0)\"><path class=\"background\" aria-hidden=\"true\" d=\"M0,0h200v200h-200Z\"/><g><g class=\"mark-area role-mark marks\" role=\"graphics-object\" aria-roledescription=\"area mark container\"><path aria-label=\"year: 1; xk: 0; variable: x8\" role=\"graphics-symbol\" aria-roledescription=\"area mark\" d=\"M0,200L33.33333333333333,200L66.66666666666666,200L100,200L133.33333333333331,200L166.66666666666669,200L200,200L200,200L166.66666666666669,200L133.33333333333331,200L100,200L66.66666666666666,200L33.33333333333333,200L0,200Z\" fill=\"#72b7b2\"/></g></g><path class=\"foreground\" aria-hidden=\"true\" d=\"\" display=\"none\"/></g><g transform=\"translate(0,0)\"><path class=\"background\" aria-hidden=\"true\" d=\"M0,0h200v200h-200Z\"/><g><g class=\"mark-area role-mark marks\" role=\"graphics-object\" aria-roledescription=\"area mark container\"><path aria-label=\"year: 1; xk: 0; variable: x9\" role=\"graphics-symbol\" aria-roledescription=\"area mark\" d=\"M0,200L33.33333333333333,200L66.66666666666666,200L100,200L133.33333333333331,200L166.66666666666669,200L200,200L200,200L166.66666666666669,200L133.33333333333331,200L100,200L66.66666666666666,200L33.33333333333333,200L0,200Z\" fill=\"#54a24b\"/></g></g><path class=\"foreground\" aria-hidden=\"true\" d=\"\" display=\"none\"/></g><g transform=\"translate(0,0)\"><path class=\"background\" aria-hidden=\"true\" d=\"M0,0h200v200h-200Z\"/><g><g class=\"mark-area role-mark marks\" role=\"graphics-object\" aria-roledescription=\"area mark container\"><path aria-label=\"year: 1; xk: 0; variable: x10\" role=\"graphics-symbol\" aria-roledescription=\"area mark\" d=\"M0,0L33.33333333333333,0L66.66666666666666,0L100,0L133.33333333333331,2.220446049250313e-14L166.66666666666669,0L200,0L200,0L166.66666666666669,0L133.33333333333331,2.220446049250313e-14L100,0L66.66666666666666,0L33.33333333333333,0L0,0Z\" fill=\"#f58518\"/></g></g><path class=\"foreground\" aria-hidden=\"true\" d=\"\" display=\"none\"/></g><g transform=\"translate(0,0)\"><path class=\"background\" aria-hidden=\"true\" d=\"M0,0h200v200h-200Z\"/><g><g class=\"mark-area role-mark marks\" role=\"graphics-object\" aria-roledescription=\"area mark container\"><path aria-label=\"year: 1; xk: 0; variable: x11\" role=\"graphics-symbol\" aria-roledescription=\"area mark\" d=\"M0,0L33.33333333333333,0L66.66666666666666,0L100,0L133.33333333333331,2.220446049250313e-14L166.66666666666669,0L200,0L200,37.39837398373977L166.66666666666669,50L133.33333333333331,50L100,49.99999999999998L66.66666666666666,49.99999999999998L33.33333333333333,0L0,0Z\" fill=\"#e45756\"/></g></g><path class=\"foreground\" aria-hidden=\"true\" d=\"\" display=\"none\"/></g><g transform=\"translate(0,0)\"><path class=\"background\" aria-hidden=\"true\" d=\"M0,0h200v200h-200Z\"/><g><g class=\"mark-area role-mark marks\" role=\"graphics-object\" aria-roledescription=\"area mark container\"><path aria-label=\"year: 1; xk: 0; variable: x12\" role=\"graphics-symbol\" aria-roledescription=\"area mark\" d=\"M0,0L33.33333333333333,0L66.66666666666666,49.99999999999998L100,49.99999999999998L133.33333333333331,50L166.66666666666669,50L200,37.39837398373977L200,37.39837398373977L166.66666666666669,50L133.33333333333331,50L100,49.99999999999998L66.66666666666666,49.99999999999998L33.33333333333333,0L0,0Z\" fill=\"#72b7b2\"/></g></g><path class=\"foreground\" aria-hidden=\"true\" d=\"\" display=\"none\"/></g><g transform=\"translate(0,0)\"><path class=\"background\" aria-hidden=\"true\" d=\"M0,0h200v200h-200Z\"/><g><g class=\"mark-area role-mark marks\" role=\"graphics-object\" aria-roledescription=\"area mark container\"><path aria-label=\"year: 1; xk: 0; variable: x13\" role=\"graphics-symbol\" aria-roledescription=\"area mark\" d=\"M0,0L33.33333333333333,0L66.66666666666666,49.99999999999998L100,49.99999999999998L133.33333333333331,50L166.66666666666669,50L200,37.39837398373977L200,37.39837398373977L166.66666666666669,50L133.33333333333331,50L100,49.99999999999998L66.66666666666666,49.99999999999998L33.33333333333333,0L0,0Z\" fill=\"#54a24b\"/></g></g><path class=\"foreground\" aria-hidden=\"true\" d=\"\" display=\"none\"/></g><g transform=\"translate(0,0)\"><path class=\"background\" aria-hidden=\"true\" d=\"M0,0h200v200h-200Z\"/><g><g class=\"mark-area role-mark marks\" role=\"graphics-object\" aria-roledescription=\"area mark container\"><path aria-label=\"year: 1; xk: 0; variable: x14\" role=\"graphics-symbol\" aria-roledescription=\"area mark\" d=\"M0,0L33.33333333333333,0L66.66666666666666,49.99999999999998L100,49.99999999999998L133.33333333333331,50L166.66666666666669,50L200,37.39837398373977L200,37.39837398373977L166.66666666666669,50L133.33333333333331,50L100,49.99999999999998L66.66666666666666,49.99999999999998L33.33333333333333,0L0,0Z\" fill=\"#eeca3b\"/></g></g><path class=\"foreground\" aria-hidden=\"true\" d=\"\" display=\"none\"/></g><g transform=\"translate(0,0)\"><path class=\"background\" aria-hidden=\"true\" d=\"M0,0h200v200h-200Z\"/><g><g class=\"mark-area role-mark marks\" role=\"graphics-object\" aria-roledescription=\"area mark container\"><path aria-label=\"year: 1; xk: 1; variable: x15\" role=\"graphics-symbol\" aria-roledescription=\"area mark\" d=\"M0,0L33.33333333333333,0L66.66666666666666,49.99999999999998L100,49.99999999999998L133.33333333333331,50L166.66666666666669,50L200,37.39837398373977L200,37.39837398373977L166.66666666666669,200L133.33333333333331,200L100,200L66.66666666666666,200L33.33333333333333,200L0,200Z\" fill=\"#b279a2\"/></g></g><path class=\"foreground\" aria-hidden=\"true\" d=\"\" display=\"none\"/></g><g transform=\"translate(0,0)\"><path class=\"background\" aria-hidden=\"true\" d=\"M0,0h200v200h-200Z\"/><g><g class=\"mark-area role-mark marks\" role=\"graphics-object\" aria-roledescription=\"area mark container\"><path aria-label=\"year: 1; xk: 0; variable: x16\" role=\"graphics-symbol\" aria-roledescription=\"area mark\" d=\"M0,200L33.33333333333333,200L66.66666666666666,200L100,200L133.33333333333331,200L166.66666666666669,200L200,37.39837398373977L200,200L166.66666666666669,200L133.33333333333331,200L100,200L66.66666666666666,200L33.33333333333333,200L0,200Z\" fill=\"#ff9da6\"/></g></g><path class=\"foreground\" aria-hidden=\"true\" d=\"\" display=\"none\"/></g><g transform=\"translate(0,0)\"><path class=\"background\" aria-hidden=\"true\" d=\"M0,0h200v200h-200Z\"/><g><g class=\"mark-area role-mark marks\" role=\"graphics-object\" aria-roledescription=\"area mark container\"><path aria-label=\"year: 1; xk: 0; variable: x17\" role=\"graphics-symbol\" aria-roledescription=\"area mark\" d=\"M0,200L33.33333333333333,200L66.66666666666666,200L100,200L133.33333333333331,200L166.66666666666669,200L200,200L200,200L166.66666666666669,200L133.33333333333331,200L100,200L66.66666666666666,200L33.33333333333333,200L0,200Z\" fill=\"#9d755d\"/></g></g><path class=\"foreground\" aria-hidden=\"true\" d=\"\" display=\"none\"/></g><g transform=\"translate(0,0)\"><path class=\"background\" aria-hidden=\"true\" d=\"M0,0h200v200h-200Z\"/><g><g class=\"mark-area role-mark marks\" role=\"graphics-object\" aria-roledescription=\"area mark container\"><path aria-label=\"year: 1; xk: 0; variable: x18\" role=\"graphics-symbol\" aria-roledescription=\"area mark\" d=\"M0,200L33.33333333333333,200L66.66666666666666,200L100,200L133.33333333333331,200L166.66666666666669,200L200,200L200,200L166.66666666666669,200L133.33333333333331,200L100,200L66.66666666666666,200L33.33333333333333,200L0,200Z\" fill=\"#bab0ac\"/></g></g><path class=\"foreground\" aria-hidden=\"true\" d=\"\" display=\"none\"/></g><g transform=\"translate(0,0)\"><path class=\"background\" aria-hidden=\"true\" d=\"M0,0h200v200h-200Z\"/><g><g class=\"mark-area role-mark marks\" role=\"graphics-object\" aria-roledescription=\"area mark container\"><path aria-label=\"year: 1; xk: 0; variable: x19\" role=\"graphics-symbol\" aria-roledescription=\"area mark\" d=\"M0,200L33.33333333333333,200L66.66666666666666,200L100,200L133.33333333333331,200L166.66666666666669,200L200,200L200,200L166.66666666666669,200L133.33333333333331,200L100,200L66.66666666666666,200L33.33333333333333,200L0,200Z\" fill=\"#4c78a8\"/></g></g><path class=\"foreground\" aria-hidden=\"true\" d=\"\" display=\"none\"/></g><g transform=\"translate(0,0)\"><path class=\"background\" aria-hidden=\"true\" d=\"M0,0h200v200h-200Z\"/><g><g class=\"mark-area role-mark marks\" role=\"graphics-object\" aria-roledescription=\"area mark container\"><path aria-label=\"year: 1; xk: 0; variable: x20\" role=\"graphics-symbol\" aria-roledescription=\"area mark\" d=\"M0,200L33.33333333333333,200L66.66666666666666,200L100,200L133.33333333333331,200L166.66666666666669,200L200,200L200,200L166.66666666666669,200L133.33333333333331,200L100,200L66.66666666666666,200L33.33333333333333,200L0,200Z\" fill=\"#e45756\"/></g></g><path class=\"foreground\" aria-hidden=\"true\" d=\"\" display=\"none\"/></g><g transform=\"translate(0,0)\"><path class=\"background\" aria-hidden=\"true\" d=\"M0,0h200v200h-200Z\"/><g><g class=\"mark-area role-mark marks\" role=\"graphics-object\" aria-roledescription=\"area mark container\"><path aria-label=\"year: 1; xk: 0; variable: x21\" role=\"graphics-symbol\" aria-roledescription=\"area mark\" d=\"M0,200L33.33333333333333,200L66.66666666666666,200L100,200L133.33333333333331,200L166.66666666666669,200L200,200L200,200L166.66666666666669,200L133.33333333333331,200L100,200L66.66666666666666,200L33.33333333333333,200L0,200Z\" fill=\"#72b7b2\"/></g></g><path class=\"foreground\" aria-hidden=\"true\" d=\"\" display=\"none\"/></g><g transform=\"translate(0,0)\"><path class=\"background\" aria-hidden=\"true\" d=\"M0,0h200v200h-200Z\"/><g><g class=\"mark-area role-mark marks\" role=\"graphics-object\" aria-roledescription=\"area mark container\"><path aria-label=\"year: 1; xk: 0; variable: x22\" role=\"graphics-symbol\" aria-roledescription=\"area mark\" d=\"M0,200L33.33333333333333,200L66.66666666666666,200L100,200L133.33333333333331,200L166.66666666666669,200L200,200L200,200L166.66666666666669,200L133.33333333333331,200L100,200L66.66666666666666,200L33.33333333333333,200L0,200Z\" fill=\"#54a24b\"/></g></g><path class=\"foreground\" aria-hidden=\"true\" d=\"\" display=\"none\"/></g><g transform=\"translate(0,0)\"><path class=\"background\" aria-hidden=\"true\" d=\"M0,0h200v200h-200Z\"/><g><g class=\"mark-area role-mark marks\" role=\"graphics-object\" aria-roledescription=\"area mark container\"><path aria-label=\"year: 1; xk: 0; variable: x23\" role=\"graphics-symbol\" aria-roledescription=\"area mark\" d=\"M0,200L33.33333333333333,200L66.66666666666666,200L100,200L133.33333333333331,200L166.66666666666669,200L200,200L200,200L166.66666666666669,200L133.33333333333331,200L100,200L66.66666666666666,200L33.33333333333333,200L0,200Z\" fill=\"#eeca3b\"/></g></g><path class=\"foreground\" aria-hidden=\"true\" d=\"\" display=\"none\"/></g><g transform=\"translate(0,0)\"><path class=\"background\" aria-hidden=\"true\" d=\"M0,0h200v200h-200Z\"/><g><g class=\"mark-area role-mark marks\" role=\"graphics-object\" aria-roledescription=\"area mark container\"><path aria-label=\"year: 1; xk: 0; variable: x24\" role=\"graphics-symbol\" aria-roledescription=\"area mark\" d=\"M0,200L33.33333333333333,200L66.66666666666666,200L100,200L133.33333333333331,200L166.66666666666669,200L200,200L200,200L166.66666666666669,200L133.33333333333331,200L100,200L66.66666666666666,200L33.33333333333333,200L0,200Z\" fill=\"#b279a2\"/></g></g><path class=\"foreground\" aria-hidden=\"true\" d=\"\" display=\"none\"/></g><g transform=\"translate(0,0)\"><path class=\"background\" aria-hidden=\"true\" d=\"M0,0h200v200h-200Z\"/><g><g class=\"mark-area role-mark marks\" role=\"graphics-object\" aria-roledescription=\"area mark container\"><path aria-label=\"year: 1; xk: 0; variable: x25\" role=\"graphics-symbol\" aria-roledescription=\"area mark\" d=\"M0,200L33.33333333333333,200L66.66666666666666,200L100,200L133.33333333333331,200L166.66666666666669,200L200,200L200,200L166.66666666666669,200L133.33333333333331,200L100,200L66.66666666666666,200L33.33333333333333,200L0,200Z\" fill=\"#ff9da6\"/></g></g><path class=\"foreground\" aria-hidden=\"true\" d=\"\" display=\"none\"/></g></g><g class=\"mark-group role-legend\" role=\"graphics-symbol\" aria-roledescription=\"legend\" aria-label=\"Symbol legend titled 'variable' for fill color with 25 values: x1, x10, x11, x12, x13, ending with x9\"><g transform=\"translate(218,0)\"><path class=\"background\" aria-hidden=\"true\" d=\"M0,0h49v339h-49Z\" pointer-events=\"none\"/><g><g class=\"mark-group role-legend-entry\"><g transform=\"translate(0,16)\"><path class=\"background\" aria-hidden=\"true\" d=\"M0,0h0v0h0Z\" pointer-events=\"none\"/><g><g class=\"mark-group role-scope\" role=\"graphics-object\" aria-roledescription=\"group mark container\"><g transform=\"translate(0,0)\"><path class=\"background\" aria-hidden=\"true\" d=\"M0,0h34v11h-34Z\" pointer-events=\"none\" opacity=\"1\"/><g><g class=\"mark-symbol role-legend-symbol\" pointer-events=\"none\"><path transform=\"translate(6,6)\" d=\"M5,0A5,5,0,1,1,-5,0A5,5,0,1,1,5,0\" fill=\"#4c78a8\" stroke-width=\"1.5\" opacity=\"1\"/></g><g class=\"mark-text role-legend-label\" pointer-events=\"none\"><text text-anchor=\"start\" transform=\"translate(16,9)\" font-family=\"sans-serif\" font-size=\"10px\" fill=\"#000\" opacity=\"1\">x1</text></g></g><path class=\"foreground\" aria-hidden=\"true\" d=\"\" pointer-events=\"none\" display=\"none\"/></g><g transform=\"translate(0,13)\"><path class=\"background\" aria-hidden=\"true\" d=\"M0,0h34v11h-34Z\" pointer-events=\"none\" opacity=\"1\"/><g><g class=\"mark-symbol role-legend-symbol\" pointer-events=\"none\"><path transform=\"translate(6,6)\" d=\"M5,0A5,5,0,1,1,-5,0A5,5,0,1,1,5,0\" fill=\"#f58518\" stroke-width=\"1.5\" opacity=\"1\"/></g><g class=\"mark-text role-legend-label\" pointer-events=\"none\"><text text-anchor=\"start\" transform=\"translate(16,9)\" font-family=\"sans-serif\" font-size=\"10px\" fill=\"#000\" opacity=\"1\">x10</text></g></g><path class=\"foreground\" aria-hidden=\"true\" d=\"\" pointer-events=\"none\" display=\"none\"/></g><g transform=\"translate(0,26)\"><path class=\"background\" aria-hidden=\"true\" d=\"M0,0h34v11h-34Z\" pointer-events=\"none\" opacity=\"1\"/><g><g class=\"mark-symbol role-legend-symbol\" pointer-events=\"none\"><path transform=\"translate(6,6)\" d=\"M5,0A5,5,0,1,1,-5,0A5,5,0,1,1,5,0\" fill=\"#e45756\" stroke-width=\"1.5\" opacity=\"1\"/></g><g class=\"mark-text role-legend-label\" pointer-events=\"none\"><text text-anchor=\"start\" transform=\"translate(16,9)\" font-family=\"sans-serif\" font-size=\"10px\" fill=\"#000\" opacity=\"1\">x11</text></g></g><path class=\"foreground\" aria-hidden=\"true\" d=\"\" pointer-events=\"none\" display=\"none\"/></g><g transform=\"translate(0,39)\"><path class=\"background\" aria-hidden=\"true\" d=\"M0,0h34v11h-34Z\" pointer-events=\"none\" opacity=\"1\"/><g><g class=\"mark-symbol role-legend-symbol\" pointer-events=\"none\"><path transform=\"translate(6,6)\" d=\"M5,0A5,5,0,1,1,-5,0A5,5,0,1,1,5,0\" fill=\"#72b7b2\" stroke-width=\"1.5\" opacity=\"1\"/></g><g class=\"mark-text role-legend-label\" pointer-events=\"none\"><text text-anchor=\"start\" transform=\"translate(16,9)\" font-family=\"sans-serif\" font-size=\"10px\" fill=\"#000\" opacity=\"1\">x12</text></g></g><path class=\"foreground\" aria-hidden=\"true\" d=\"\" pointer-events=\"none\" display=\"none\"/></g><g transform=\"translate(0,52)\"><path class=\"background\" aria-hidden=\"true\" d=\"M0,0h34v11h-34Z\" pointer-events=\"none\" opacity=\"1\"/><g><g class=\"mark-symbol role-legend-symbol\" pointer-events=\"none\"><path transform=\"translate(6,6)\" d=\"M5,0A5,5,0,1,1,-5,0A5,5,0,1,1,5,0\" fill=\"#54a24b\" stroke-width=\"1.5\" opacity=\"1\"/></g><g class=\"mark-text role-legend-label\" pointer-events=\"none\"><text text-anchor=\"start\" transform=\"translate(16,9)\" font-family=\"sans-serif\" font-size=\"10px\" fill=\"#000\" opacity=\"1\">x13</text></g></g><path class=\"foreground\" aria-hidden=\"true\" d=\"\" pointer-events=\"none\" display=\"none\"/></g><g transform=\"translate(0,65)\"><path class=\"background\" aria-hidden=\"true\" d=\"M0,0h34v11h-34Z\" pointer-events=\"none\" opacity=\"1\"/><g><g class=\"mark-symbol role-legend-symbol\" pointer-events=\"none\"><path transform=\"translate(6,6)\" d=\"M5,0A5,5,0,1,1,-5,0A5,5,0,1,1,5,0\" fill=\"#eeca3b\" stroke-width=\"1.5\" opacity=\"1\"/></g><g class=\"mark-text role-legend-label\" pointer-events=\"none\"><text text-anchor=\"start\" transform=\"translate(16,9)\" font-family=\"sans-serif\" font-size=\"10px\" fill=\"#000\" opacity=\"1\">x14</text></g></g><path class=\"foreground\" aria-hidden=\"true\" d=\"\" pointer-events=\"none\" display=\"none\"/></g><g transform=\"translate(0,78)\"><path class=\"background\" aria-hidden=\"true\" d=\"M0,0h34v11h-34Z\" pointer-events=\"none\" opacity=\"1\"/><g><g class=\"mark-symbol role-legend-symbol\" pointer-events=\"none\"><path transform=\"translate(6,6)\" d=\"M5,0A5,5,0,1,1,-5,0A5,5,0,1,1,5,0\" fill=\"#b279a2\" stroke-width=\"1.5\" opacity=\"1\"/></g><g class=\"mark-text role-legend-label\" pointer-events=\"none\"><text text-anchor=\"start\" transform=\"translate(16,9)\" font-family=\"sans-serif\" font-size=\"10px\" fill=\"#000\" opacity=\"1\">x15</text></g></g><path class=\"foreground\" aria-hidden=\"true\" d=\"\" pointer-events=\"none\" display=\"none\"/></g><g transform=\"translate(0,91)\"><path class=\"background\" aria-hidden=\"true\" d=\"M0,0h34v11h-34Z\" pointer-events=\"none\" opacity=\"1\"/><g><g class=\"mark-symbol role-legend-symbol\" pointer-events=\"none\"><path transform=\"translate(6,6)\" d=\"M5,0A5,5,0,1,1,-5,0A5,5,0,1,1,5,0\" fill=\"#ff9da6\" stroke-width=\"1.5\" opacity=\"1\"/></g><g class=\"mark-text role-legend-label\" pointer-events=\"none\"><text text-anchor=\"start\" transform=\"translate(16,9)\" font-family=\"sans-serif\" font-size=\"10px\" fill=\"#000\" opacity=\"1\">x16</text></g></g><path class=\"foreground\" aria-hidden=\"true\" d=\"\" pointer-events=\"none\" display=\"none\"/></g><g transform=\"translate(0,104)\"><path class=\"background\" aria-hidden=\"true\" d=\"M0,0h34v11h-34Z\" pointer-events=\"none\" opacity=\"1\"/><g><g class=\"mark-symbol role-legend-symbol\" pointer-events=\"none\"><path transform=\"translate(6,6)\" d=\"M5,0A5,5,0,1,1,-5,0A5,5,0,1,1,5,0\" fill=\"#9d755d\" stroke-width=\"1.5\" opacity=\"1\"/></g><g class=\"mark-text role-legend-label\" pointer-events=\"none\"><text text-anchor=\"start\" transform=\"translate(16,9)\" font-family=\"sans-serif\" font-size=\"10px\" fill=\"#000\" opacity=\"1\">x17</text></g></g><path class=\"foreground\" aria-hidden=\"true\" d=\"\" pointer-events=\"none\" display=\"none\"/></g><g transform=\"translate(0,117)\"><path class=\"background\" aria-hidden=\"true\" d=\"M0,0h34v11h-34Z\" pointer-events=\"none\" opacity=\"1\"/><g><g class=\"mark-symbol role-legend-symbol\" pointer-events=\"none\"><path transform=\"translate(6,6)\" d=\"M5,0A5,5,0,1,1,-5,0A5,5,0,1,1,5,0\" fill=\"#bab0ac\" stroke-width=\"1.5\" opacity=\"1\"/></g><g class=\"mark-text role-legend-label\" pointer-events=\"none\"><text text-anchor=\"start\" transform=\"translate(16,9)\" font-family=\"sans-serif\" font-size=\"10px\" fill=\"#000\" opacity=\"1\">x18</text></g></g><path class=\"foreground\" aria-hidden=\"true\" d=\"\" pointer-events=\"none\" display=\"none\"/></g><g transform=\"translate(0,130)\"><path class=\"background\" aria-hidden=\"true\" d=\"M0,0h34v11h-34Z\" pointer-events=\"none\" opacity=\"1\"/><g><g class=\"mark-symbol role-legend-symbol\" pointer-events=\"none\"><path transform=\"translate(6,6)\" d=\"M5,0A5,5,0,1,1,-5,0A5,5,0,1,1,5,0\" fill=\"#4c78a8\" stroke-width=\"1.5\" opacity=\"1\"/></g><g class=\"mark-text role-legend-label\" pointer-events=\"none\"><text text-anchor=\"start\" transform=\"translate(16,9)\" font-family=\"sans-serif\" font-size=\"10px\" fill=\"#000\" opacity=\"1\">x19</text></g></g><path class=\"foreground\" aria-hidden=\"true\" d=\"\" pointer-events=\"none\" display=\"none\"/></g><g transform=\"translate(0,143)\"><path class=\"background\" aria-hidden=\"true\" d=\"M0,0h34v11h-34Z\" pointer-events=\"none\" opacity=\"1\"/><g><g class=\"mark-symbol role-legend-symbol\" pointer-events=\"none\"><path transform=\"translate(6,6)\" d=\"M5,0A5,5,0,1,1,-5,0A5,5,0,1,1,5,0\" fill=\"#f58518\" stroke-width=\"1.5\" opacity=\"1\"/></g><g class=\"mark-text role-legend-label\" pointer-events=\"none\"><text text-anchor=\"start\" transform=\"translate(16,9)\" font-family=\"sans-serif\" font-size=\"10px\" fill=\"#000\" opacity=\"1\">x2</text></g></g><path class=\"foreground\" aria-hidden=\"true\" d=\"\" pointer-events=\"none\" display=\"none\"/></g><g transform=\"translate(0,156)\"><path class=\"background\" aria-hidden=\"true\" d=\"M0,0h34v11h-34Z\" pointer-events=\"none\" opacity=\"1\"/><g><g class=\"mark-symbol role-legend-symbol\" pointer-events=\"none\"><path transform=\"translate(6,6)\" d=\"M5,0A5,5,0,1,1,-5,0A5,5,0,1,1,5,0\" fill=\"#e45756\" stroke-width=\"1.5\" opacity=\"1\"/></g><g class=\"mark-text role-legend-label\" pointer-events=\"none\"><text text-anchor=\"start\" transform=\"translate(16,9)\" font-family=\"sans-serif\" font-size=\"10px\" fill=\"#000\" opacity=\"1\">x20</text></g></g><path class=\"foreground\" aria-hidden=\"true\" d=\"\" pointer-events=\"none\" display=\"none\"/></g><g transform=\"translate(0,169)\"><path class=\"background\" aria-hidden=\"true\" d=\"M0,0h34v11h-34Z\" pointer-events=\"none\" opacity=\"1\"/><g><g class=\"mark-symbol role-legend-symbol\" pointer-events=\"none\"><path transform=\"translate(6,6)\" d=\"M5,0A5,5,0,1,1,-5,0A5,5,0,1,1,5,0\" fill=\"#72b7b2\" stroke-width=\"1.5\" opacity=\"1\"/></g><g class=\"mark-text role-legend-label\" pointer-events=\"none\"><text text-anchor=\"start\" transform=\"translate(16,9)\" font-family=\"sans-serif\" font-size=\"10px\" fill=\"#000\" opacity=\"1\">x21</text></g></g><path class=\"foreground\" aria-hidden=\"true\" d=\"\" pointer-events=\"none\" display=\"none\"/></g><g transform=\"translate(0,182)\"><path class=\"background\" aria-hidden=\"true\" d=\"M0,0h34v11h-34Z\" pointer-events=\"none\" opacity=\"1\"/><g><g class=\"mark-symbol role-legend-symbol\" pointer-events=\"none\"><path transform=\"translate(6,6)\" d=\"M5,0A5,5,0,1,1,-5,0A5,5,0,1,1,5,0\" fill=\"#54a24b\" stroke-width=\"1.5\" opacity=\"1\"/></g><g class=\"mark-text role-legend-label\" pointer-events=\"none\"><text text-anchor=\"start\" transform=\"translate(16,9)\" font-family=\"sans-serif\" font-size=\"10px\" fill=\"#000\" opacity=\"1\">x22</text></g></g><path class=\"foreground\" aria-hidden=\"true\" d=\"\" pointer-events=\"none\" display=\"none\"/></g><g transform=\"translate(0,195)\"><path class=\"background\" aria-hidden=\"true\" d=\"M0,0h34v11h-34Z\" pointer-events=\"none\" opacity=\"1\"/><g><g class=\"mark-symbol role-legend-symbol\" pointer-events=\"none\"><path transform=\"translate(6,6)\" d=\"M5,0A5,5,0,1,1,-5,0A5,5,0,1,1,5,0\" fill=\"#eeca3b\" stroke-width=\"1.5\" opacity=\"1\"/></g><g class=\"mark-text role-legend-label\" pointer-events=\"none\"><text text-anchor=\"start\" transform=\"translate(16,9)\" font-family=\"sans-serif\" font-size=\"10px\" fill=\"#000\" opacity=\"1\">x23</text></g></g><path class=\"foreground\" aria-hidden=\"true\" d=\"\" pointer-events=\"none\" display=\"none\"/></g><g transform=\"translate(0,208)\"><path class=\"background\" aria-hidden=\"true\" d=\"M0,0h34v11h-34Z\" pointer-events=\"none\" opacity=\"1\"/><g><g class=\"mark-symbol role-legend-symbol\" pointer-events=\"none\"><path transform=\"translate(6,6)\" d=\"M5,0A5,5,0,1,1,-5,0A5,5,0,1,1,5,0\" fill=\"#b279a2\" stroke-width=\"1.5\" opacity=\"1\"/></g><g class=\"mark-text role-legend-label\" pointer-events=\"none\"><text text-anchor=\"start\" transform=\"translate(16,9)\" font-family=\"sans-serif\" font-size=\"10px\" fill=\"#000\" opacity=\"1\">x24</text></g></g><path class=\"foreground\" aria-hidden=\"true\" d=\"\" pointer-events=\"none\" display=\"none\"/></g><g transform=\"translate(0,221)\"><path class=\"background\" aria-hidden=\"true\" d=\"M0,0h34v11h-34Z\" pointer-events=\"none\" opacity=\"1\"/><g><g class=\"mark-symbol role-legend-symbol\" pointer-events=\"none\"><path transform=\"translate(6,6)\" d=\"M5,0A5,5,0,1,1,-5,0A5,5,0,1,1,5,0\" fill=\"#ff9da6\" stroke-width=\"1.5\" opacity=\"1\"/></g><g class=\"mark-text role-legend-label\" pointer-events=\"none\"><text text-anchor=\"start\" transform=\"translate(16,9)\" font-family=\"sans-serif\" font-size=\"10px\" fill=\"#000\" opacity=\"1\">x25</text></g></g><path class=\"foreground\" aria-hidden=\"true\" d=\"\" pointer-events=\"none\" display=\"none\"/></g><g transform=\"translate(0,234)\"><path class=\"background\" aria-hidden=\"true\" d=\"M0,0h34v11h-34Z\" pointer-events=\"none\" opacity=\"1\"/><g><g class=\"mark-symbol role-legend-symbol\" pointer-events=\"none\"><path transform=\"translate(6,6)\" d=\"M5,0A5,5,0,1,1,-5,0A5,5,0,1,1,5,0\" fill=\"#9d755d\" stroke-width=\"1.5\" opacity=\"1\"/></g><g class=\"mark-text role-legend-label\" pointer-events=\"none\"><text text-anchor=\"start\" transform=\"translate(16,9)\" font-family=\"sans-serif\" font-size=\"10px\" fill=\"#000\" opacity=\"1\">x3</text></g></g><path class=\"foreground\" aria-hidden=\"true\" d=\"\" pointer-events=\"none\" display=\"none\"/></g><g transform=\"translate(0,247)\"><path class=\"background\" aria-hidden=\"true\" d=\"M0,0h34v11h-34Z\" pointer-events=\"none\" opacity=\"1\"/><g><g class=\"mark-symbol role-legend-symbol\" pointer-events=\"none\"><path transform=\"translate(6,6)\" d=\"M5,0A5,5,0,1,1,-5,0A5,5,0,1,1,5,0\" fill=\"#bab0ac\" stroke-width=\"1.5\" opacity=\"1\"/></g><g class=\"mark-text role-legend-label\" pointer-events=\"none\"><text text-anchor=\"start\" transform=\"translate(16,9)\" font-family=\"sans-serif\" font-size=\"10px\" fill=\"#000\" opacity=\"1\">x4</text></g></g><path class=\"foreground\" aria-hidden=\"true\" d=\"\" pointer-events=\"none\" display=\"none\"/></g><g transform=\"translate(0,260)\"><path class=\"background\" aria-hidden=\"true\" d=\"M0,0h34v11h-34Z\" pointer-events=\"none\" opacity=\"1\"/><g><g class=\"mark-symbol role-legend-symbol\" pointer-events=\"none\"><path transform=\"translate(6,6)\" d=\"M5,0A5,5,0,1,1,-5,0A5,5,0,1,1,5,0\" fill=\"#4c78a8\" stroke-width=\"1.5\" opacity=\"1\"/></g><g class=\"mark-text role-legend-label\" pointer-events=\"none\"><text text-anchor=\"start\" transform=\"translate(16,9)\" font-family=\"sans-serif\" font-size=\"10px\" fill=\"#000\" opacity=\"1\">x5</text></g></g><path class=\"foreground\" aria-hidden=\"true\" d=\"\" pointer-events=\"none\" display=\"none\"/></g><g transform=\"translate(0,273)\"><path class=\"background\" aria-hidden=\"true\" d=\"M0,0h34v11h-34Z\" pointer-events=\"none\" opacity=\"1\"/><g><g class=\"mark-symbol role-legend-symbol\" pointer-events=\"none\"><path transform=\"translate(6,6)\" d=\"M5,0A5,5,0,1,1,-5,0A5,5,0,1,1,5,0\" fill=\"#f58518\" stroke-width=\"1.5\" opacity=\"1\"/></g><g class=\"mark-text role-legend-label\" pointer-events=\"none\"><text text-anchor=\"start\" transform=\"translate(16,9)\" font-family=\"sans-serif\" font-size=\"10px\" fill=\"#000\" opacity=\"1\">x6</text></g></g><path class=\"foreground\" aria-hidden=\"true\" d=\"\" pointer-events=\"none\" display=\"none\"/></g><g transform=\"translate(0,286)\"><path class=\"background\" aria-hidden=\"true\" d=\"M0,0h34v11h-34Z\" pointer-events=\"none\" opacity=\"1\"/><g><g class=\"mark-symbol role-legend-symbol\" pointer-events=\"none\"><path transform=\"translate(6,6)\" d=\"M5,0A5,5,0,1,1,-5,0A5,5,0,1,1,5,0\" fill=\"#e45756\" stroke-width=\"1.5\" opacity=\"1\"/></g><g class=\"mark-text role-legend-label\" pointer-events=\"none\"><text text-anchor=\"start\" transform=\"translate(16,9)\" font-family=\"sans-serif\" font-size=\"10px\" fill=\"#000\" opacity=\"1\">x7</text></g></g><path class=\"foreground\" aria-hidden=\"true\" d=\"\" pointer-events=\"none\" display=\"none\"/></g><g transform=\"translate(0,299)\"><path class=\"background\" aria-hidden=\"true\" d=\"M0,0h34v11h-34Z\" pointer-events=\"none\" opacity=\"1\"/><g><g class=\"mark-symbol role-legend-symbol\" pointer-events=\"none\"><path transform=\"translate(6,6)\" d=\"M5,0A5,5,0,1,1,-5,0A5,5,0,1,1,5,0\" fill=\"#72b7b2\" stroke-width=\"1.5\" opacity=\"1\"/></g><g class=\"mark-text role-legend-label\" pointer-events=\"none\"><text text-anchor=\"start\" transform=\"translate(16,9)\" font-family=\"sans-serif\" font-size=\"10px\" fill=\"#000\" opacity=\"1\">x8</text></g></g><path class=\"foreground\" aria-hidden=\"true\" d=\"\" pointer-events=\"none\" display=\"none\"/></g><g transform=\"translate(0,312)\"><path class=\"background\" aria-hidden=\"true\" d=\"M0,0h34v11h-34Z\" pointer-events=\"none\" opacity=\"1\"/><g><g class=\"mark-symbol role-legend-symbol\" pointer-events=\"none\"><path transform=\"translate(6,6)\" d=\"M5,0A5,5,0,1,1,-5,0A5,5,0,1,1,5,0\" fill=\"#54a24b\" stroke-width=\"1.5\" opacity=\"1\"/></g><g class=\"mark-text role-legend-label\" pointer-events=\"none\"><text text-anchor=\"start\" transform=\"translate(16,9)\" font-family=\"sans-serif\" font-size=\"10px\" fill=\"#000\" opacity=\"1\">x9</text></g></g><path class=\"foreground\" aria-hidden=\"true\" d=\"\" pointer-events=\"none\" display=\"none\"/></g></g></g><path class=\"foreground\" aria-hidden=\"true\" d=\"\" pointer-events=\"none\" display=\"none\"/></g></g><g class=\"mark-text role-legend-title\" pointer-events=\"none\"><text text-anchor=\"start\" transform=\"translate(0,9)\" font-family=\"sans-serif\" font-size=\"11px\" font-weight=\"bold\" fill=\"#000\" opacity=\"1\">variable</text></g></g><path class=\"foreground\" aria-hidden=\"true\" d=\"\" pointer-events=\"none\" display=\"none\"/></g></g></g><path class=\"foreground\" aria-hidden=\"true\" d=\"\" display=\"none\"/></g></g></g></svg>\n"
      ],
      "text/plain": [
       "@vlplot(\n",
       "    legend=\"sNames\",\n",
       "    mark=\"area\",\n",
       "    encoding={\n",
       "        x={\n",
       "            field=\"year\"\n",
       "        },\n",
       "        y={\n",
       "            stack=\"zero\",\n",
       "            title=\"xk\",\n",
       "            field=\"value\"\n",
       "        },\n",
       "        color={\n",
       "            field=\"variable\",\n",
       "            type=\"nominal\"\n",
       "        }\n",
       "    },\n",
       "    data={\n",
       "        values=...\n",
       "    }\n",
       ")"
      ]
     },
     "execution_count": 82,
     "metadata": {},
     "output_type": "execute_result"
    }
   ],
   "source": [
    "transpose(xk)\n",
    "df1=DataFrame(xk',:auto)\n",
    "df1[!,:year] = collect(1:7)\n",
    "\n",
    "sNames=\"compromise \".*string.(collect(1:length(xk[:,1])))\n",
    "df1 |> stack |> @vlplot(:area, x=:year, y={:value, stack=:zero, title=\"xk\"}, color=\"variable:n\",legend=:sNames) "
   ]
  },
  {
   "cell_type": "code",
   "execution_count": 83,
   "id": "5e34a2c5",
   "metadata": {},
   "outputs": [
    {
     "data": {
      "text/plain": [
       "25×7 Matrix{Float64}:\n",
       " 0.0  0.0  0.0   0.0   0.0   0.0   0.0\n",
       " 0.0  0.0  0.0   0.0   0.0   0.0   0.0\n",
       " 0.0  0.0  0.0   0.0   0.0   0.0   0.0\n",
       " 0.0  0.0  0.0   0.0   0.0   0.0   0.0\n",
       " 0.0  0.0  0.0   0.0   0.0   0.0   0.0\n",
       " 0.0  0.0  0.0   0.0   0.0   0.0   0.0\n",
       " 0.0  0.0  0.0   0.0   0.0   0.0   0.0\n",
       " 0.0  0.0  0.0   0.0   0.0   0.0   0.0\n",
       " 0.0  0.0  0.0   0.0   0.0   0.0   0.0\n",
       " 0.0  0.0  0.0   0.0   0.0   0.0   0.0\n",
       " 0.0  0.0  0.25  0.25  0.25  0.25  0.186992\n",
       " 0.0  0.0  0.0   0.0   0.0   0.0   0.0\n",
       " 0.0  0.0  0.0   0.0   0.0   0.0   0.0\n",
       " 0.0  0.0  0.0   0.0   0.0   0.0   0.0\n",
       " 1.0  1.0  0.75  0.75  0.75  0.75  0.0\n",
       " 0.0  0.0  0.0   0.0   0.0   0.0   0.813008\n",
       " 0.0  0.0  0.0   0.0   0.0   0.0   0.0\n",
       " 0.0  0.0  0.0   0.0   0.0   0.0   0.0\n",
       " 0.0  0.0  0.0   0.0   0.0   0.0   0.0\n",
       " 0.0  0.0  0.0   0.0   0.0   0.0   0.0\n",
       " 0.0  0.0  0.0   0.0   0.0   0.0   0.0\n",
       " 0.0  0.0  0.0   0.0   0.0   0.0   0.0\n",
       " 0.0  0.0  0.0   0.0   0.0   0.0   0.0\n",
       " 0.0  0.0  0.0   0.0   0.0   0.0   0.0\n",
       " 0.0  0.0  0.0   0.0   0.0   0.0   0.0"
      ]
     },
     "execution_count": 83,
     "metadata": {},
     "output_type": "execute_result"
    }
   ],
   "source": [
    "xk"
   ]
  },
  {
   "cell_type": "code",
   "execution_count": 84,
   "id": "ef7beb2e",
   "metadata": {},
   "outputs": [
    {
     "data": {
      "text/plain": [
       "25×7 Matrix{Float64}:\n",
       " 0.0  0.0   0.0  0.0  0.0  0.0  0.0\n",
       " 0.0  0.0   0.0  0.0  0.0  0.0  0.0\n",
       " 0.0  0.0   0.0  0.0  0.0  0.0  0.0\n",
       " 0.0  0.0   0.0  0.0  0.0  0.0  0.0\n",
       " 0.0  0.0   0.0  0.0  0.0  0.0  0.0\n",
       " 0.0  0.0   0.0  0.0  0.0  0.0  0.0\n",
       " 0.0  0.0   0.0  0.0  0.0  0.0  0.0\n",
       " 0.0  0.0   0.0  0.0  0.0  0.0  0.0\n",
       " 0.0  0.0   0.0  0.0  0.0  0.0  0.0\n",
       " 0.0  0.0   0.0  0.0  0.0  0.0  0.0\n",
       " 0.0  1.25  0.0  0.0  0.0  0.0  0.0\n",
       " 0.0  0.0   0.0  0.0  0.0  0.0  0.0\n",
       " 0.0  0.0   0.0  0.0  0.0  0.0  0.0\n",
       " 0.0  0.0   0.0  0.0  0.0  0.0  0.0\n",
       " 0.0  0.0   0.0  0.0  0.0  0.0  0.0\n",
       " 0.0  0.0   0.0  0.0  0.0  0.0  0.0\n",
       " 0.0  0.0   0.0  0.0  0.0  0.0  0.0\n",
       " 0.0  0.0   0.0  0.0  0.0  0.0  0.0\n",
       " 0.0  0.0   0.0  0.0  0.0  0.0  0.0\n",
       " 0.0  0.0   0.0  0.0  0.0  0.0  0.0\n",
       " 0.0  0.0   0.0  0.0  0.0  0.0  0.0\n",
       " 0.0  0.0   0.0  0.0  0.0  0.0  0.0\n",
       " 0.0  0.0   0.0  0.0  0.0  0.0  0.0\n",
       " 0.0  0.0   0.0  0.0  0.0  0.0  0.0\n",
       " 0.0  0.0   0.0  0.0  0.0  0.0  0.0"
      ]
     },
     "execution_count": 84,
     "metadata": {},
     "output_type": "execute_result"
    }
   ],
   "source": [
    "tk\n"
   ]
  },
  {
   "cell_type": "code",
   "execution_count": 57,
   "id": "005243fc",
   "metadata": {},
   "outputs": [
    {
     "data": {
      "text/html": [
       "<div class=\"data-frame\"><p>25 rows × 8 columns</p><table class=\"data-frame\"><thead><tr><th></th><th>k</th><th>i</th><th>GWP</th><th>Theta</th><th>Per_Recycl</th><th>Per_Comp</th><th>GHG_ElecInd</th><th>GHG_Trans</th></tr><tr><th></th><th title=\"Int64\">Int64</th><th title=\"Int64\">Int64</th><th title=\"Float64\">Float64</th><th title=\"Float64\">Float64</th><th title=\"Float64\">Float64</th><th title=\"Float64\">Float64</th><th title=\"Float64\">Float64</th><th title=\"Float64\">Float64</th></tr></thead><tbody><tr><th>1</th><td>1</td><td>1</td><td>40.0</td><td>0.6</td><td>0.5</td><td>0.0</td><td>0.301222</td><td>0.162415</td></tr><tr><th>2</th><td>2</td><td>1</td><td>43.0</td><td>0.66</td><td>0.55</td><td>0.0</td><td>0.291677</td><td>0.145083</td></tr><tr><th>3</th><td>3</td><td>1</td><td>45.5</td><td>0.68</td><td>0.567</td><td>0.0</td><td>0.323371</td><td>0.161281</td></tr><tr><th>4</th><td>4</td><td>1</td><td>47.5</td><td>0.7</td><td>0.583</td><td>0.0</td><td>0.525025</td><td>0.151392</td></tr><tr><th>5</th><td>5</td><td>2</td><td>30.0</td><td>0.4</td><td>0.0</td><td>0.2</td><td>0.308217</td><td>0.0923318</td></tr><tr><th>6</th><td>6</td><td>2</td><td>32.0</td><td>0.48</td><td>0.0</td><td>0.24</td><td>0.419839</td><td>0.167281</td></tr><tr><th>7</th><td>7</td><td>2</td><td>34.0</td><td>0.5</td><td>0.0</td><td>0.27</td><td>0.418893</td><td>0.136562</td></tr><tr><th>8</th><td>8</td><td>2</td><td>38.0</td><td>0.52</td><td>0.0</td><td>0.34</td><td>0.530551</td><td>0.134121</td></tr><tr><th>9</th><td>9</td><td>2</td><td>40.0</td><td>0.54</td><td>0.0</td><td>0.37</td><td>0.418593</td><td>0.146208</td></tr><tr><th>10</th><td>10</td><td>2</td><td>42.5</td><td>0.55</td><td>0.0</td><td>0.4</td><td>0.241192</td><td>0.171951</td></tr><tr><th>11</th><td>11</td><td>3</td><td>42.5</td><td>0.6</td><td>0.6</td><td>0.3</td><td>0.299233</td><td>0.0803592</td></tr><tr><th>12</th><td>12</td><td>3</td><td>44.5</td><td>0.68</td><td>0.55</td><td>0.4</td><td>0.208995</td><td>0.133684</td></tr><tr><th>13</th><td>13</td><td>3</td><td>46.5</td><td>0.76</td><td>0.53</td><td>0.4</td><td>0.190811</td><td>0.16299</td></tr><tr><th>14</th><td>14</td><td>3</td><td>47.5</td><td>0.82</td><td>0.5</td><td>0.4</td><td>0.20475</td><td>0.0683796</td></tr><tr><th>15</th><td>15</td><td>4</td><td>37.5</td><td>0.65</td><td>0.0</td><td>0.5</td><td>0.35395</td><td>0.0837429</td></tr><tr><th>16</th><td>16</td><td>4</td><td>39.0</td><td>0.69</td><td>0.0</td><td>0.531</td><td>0.473869</td><td>0.126291</td></tr><tr><th>17</th><td>17</td><td>4</td><td>40.0</td><td>0.71</td><td>0.0</td><td>0.55</td><td>0.499872</td><td>0.151744</td></tr><tr><th>18</th><td>18</td><td>4</td><td>40.5</td><td>0.72</td><td>0.0</td><td>0.55</td><td>0.4039</td><td>0.171753</td></tr><tr><th>19</th><td>19</td><td>4</td><td>41.5</td><td>0.74</td><td>0.0</td><td>0.57</td><td>0.515215</td><td>0.0825216</td></tr><tr><th>20</th><td>20</td><td>4</td><td>42.5</td><td>0.75</td><td>0.0</td><td>0.8</td><td>0.163491</td><td>0.121528</td></tr><tr><th>21</th><td>21</td><td>5</td><td>45.0</td><td>0.9</td><td>0.7</td><td>0.15</td><td>0.323143</td><td>0.104367</td></tr><tr><th>22</th><td>22</td><td>5</td><td>46.0</td><td>0.92</td><td>0.716</td><td>0.1</td><td>0.393909</td><td>0.0648811</td></tr><tr><th>23</th><td>23</td><td>5</td><td>47.0</td><td>0.94</td><td>0.731</td><td>0.0</td><td>0.367604</td><td>0.0785466</td></tr><tr><th>24</th><td>24</td><td>5</td><td>48.0</td><td>0.95</td><td>0.738</td><td>0.0</td><td>0.361888</td><td>0.0685196</td></tr><tr><th>25</th><td>25</td><td>5</td><td>50.0</td><td>0.95</td><td>0.738</td><td>0.0</td><td>0.420387</td><td>0.123506</td></tr></tbody></table></div>"
      ],
      "text/latex": [
       "\\begin{tabular}{r|cccccccc}\n",
       "\t& k & i & GWP & Theta & Per\\_Recycl & Per\\_Comp & GHG\\_ElecInd & GHG\\_Trans\\\\\n",
       "\t\\hline\n",
       "\t& Int64 & Int64 & Float64 & Float64 & Float64 & Float64 & Float64 & Float64\\\\\n",
       "\t\\hline\n",
       "\t1 & 1 & 1 & 40.0 & 0.6 & 0.5 & 0.0 & 0.301222 & 0.162415 \\\\\n",
       "\t2 & 2 & 1 & 43.0 & 0.66 & 0.55 & 0.0 & 0.291677 & 0.145083 \\\\\n",
       "\t3 & 3 & 1 & 45.5 & 0.68 & 0.567 & 0.0 & 0.323371 & 0.161281 \\\\\n",
       "\t4 & 4 & 1 & 47.5 & 0.7 & 0.583 & 0.0 & 0.525025 & 0.151392 \\\\\n",
       "\t5 & 5 & 2 & 30.0 & 0.4 & 0.0 & 0.2 & 0.308217 & 0.0923318 \\\\\n",
       "\t6 & 6 & 2 & 32.0 & 0.48 & 0.0 & 0.24 & 0.419839 & 0.167281 \\\\\n",
       "\t7 & 7 & 2 & 34.0 & 0.5 & 0.0 & 0.27 & 0.418893 & 0.136562 \\\\\n",
       "\t8 & 8 & 2 & 38.0 & 0.52 & 0.0 & 0.34 & 0.530551 & 0.134121 \\\\\n",
       "\t9 & 9 & 2 & 40.0 & 0.54 & 0.0 & 0.37 & 0.418593 & 0.146208 \\\\\n",
       "\t10 & 10 & 2 & 42.5 & 0.55 & 0.0 & 0.4 & 0.241192 & 0.171951 \\\\\n",
       "\t11 & 11 & 3 & 42.5 & 0.6 & 0.6 & 0.3 & 0.299233 & 0.0803592 \\\\\n",
       "\t12 & 12 & 3 & 44.5 & 0.68 & 0.55 & 0.4 & 0.208995 & 0.133684 \\\\\n",
       "\t13 & 13 & 3 & 46.5 & 0.76 & 0.53 & 0.4 & 0.190811 & 0.16299 \\\\\n",
       "\t14 & 14 & 3 & 47.5 & 0.82 & 0.5 & 0.4 & 0.20475 & 0.0683796 \\\\\n",
       "\t15 & 15 & 4 & 37.5 & 0.65 & 0.0 & 0.5 & 0.35395 & 0.0837429 \\\\\n",
       "\t16 & 16 & 4 & 39.0 & 0.69 & 0.0 & 0.531 & 0.473869 & 0.126291 \\\\\n",
       "\t17 & 17 & 4 & 40.0 & 0.71 & 0.0 & 0.55 & 0.499872 & 0.151744 \\\\\n",
       "\t18 & 18 & 4 & 40.5 & 0.72 & 0.0 & 0.55 & 0.4039 & 0.171753 \\\\\n",
       "\t19 & 19 & 4 & 41.5 & 0.74 & 0.0 & 0.57 & 0.515215 & 0.0825216 \\\\\n",
       "\t20 & 20 & 4 & 42.5 & 0.75 & 0.0 & 0.8 & 0.163491 & 0.121528 \\\\\n",
       "\t21 & 21 & 5 & 45.0 & 0.9 & 0.7 & 0.15 & 0.323143 & 0.104367 \\\\\n",
       "\t22 & 22 & 5 & 46.0 & 0.92 & 0.716 & 0.1 & 0.393909 & 0.0648811 \\\\\n",
       "\t23 & 23 & 5 & 47.0 & 0.94 & 0.731 & 0.0 & 0.367604 & 0.0785466 \\\\\n",
       "\t24 & 24 & 5 & 48.0 & 0.95 & 0.738 & 0.0 & 0.361888 & 0.0685196 \\\\\n",
       "\t25 & 25 & 5 & 50.0 & 0.95 & 0.738 & 0.0 & 0.420387 & 0.123506 \\\\\n",
       "\\end{tabular}\n"
      ],
      "text/plain": [
       "\u001b[1m25×8 DataFrame\u001b[0m\n",
       "\u001b[1m Row \u001b[0m│\u001b[1m k     \u001b[0m\u001b[1m i     \u001b[0m\u001b[1m GWP     \u001b[0m\u001b[1m Theta   \u001b[0m\u001b[1m Per_Recycl \u001b[0m\u001b[1m Per_Comp \u001b[0m\u001b[1m GHG_ElecInd \u001b[0m\u001b[1m GHG_\u001b[0m ⋯\n",
       "\u001b[1m     \u001b[0m│\u001b[90m Int64 \u001b[0m\u001b[90m Int64 \u001b[0m\u001b[90m Float64 \u001b[0m\u001b[90m Float64 \u001b[0m\u001b[90m Float64    \u001b[0m\u001b[90m Float64  \u001b[0m\u001b[90m Float64     \u001b[0m\u001b[90m Floa\u001b[0m ⋯\n",
       "─────┼──────────────────────────────────────────────────────────────────────────\n",
       "   1 │     1      1     40.0     0.6        0.5       0.0       0.301222  0.16 ⋯\n",
       "   2 │     2      1     43.0     0.66       0.55      0.0       0.291677  0.14\n",
       "   3 │     3      1     45.5     0.68       0.567     0.0       0.323371  0.16\n",
       "   4 │     4      1     47.5     0.7        0.583     0.0       0.525025  0.15\n",
       "   5 │     5      2     30.0     0.4        0.0       0.2       0.308217  0.09 ⋯\n",
       "   6 │     6      2     32.0     0.48       0.0       0.24      0.419839  0.16\n",
       "   7 │     7      2     34.0     0.5        0.0       0.27      0.418893  0.13\n",
       "   8 │     8      2     38.0     0.52       0.0       0.34      0.530551  0.13\n",
       "   9 │     9      2     40.0     0.54       0.0       0.37      0.418593  0.14 ⋯\n",
       "  10 │    10      2     42.5     0.55       0.0       0.4       0.241192  0.17\n",
       "  11 │    11      3     42.5     0.6        0.6       0.3       0.299233  0.08\n",
       "  ⋮  │   ⋮      ⋮       ⋮        ⋮         ⋮          ⋮           ⋮            ⋱\n",
       "  16 │    16      4     39.0     0.69       0.0       0.531     0.473869  0.12\n",
       "  17 │    17      4     40.0     0.71       0.0       0.55      0.499872  0.15 ⋯\n",
       "  18 │    18      4     40.5     0.72       0.0       0.55      0.4039    0.17\n",
       "  19 │    19      4     41.5     0.74       0.0       0.57      0.515215  0.08\n",
       "  20 │    20      4     42.5     0.75       0.0       0.8       0.163491  0.12\n",
       "  21 │    21      5     45.0     0.9        0.7       0.15      0.323143  0.10 ⋯\n",
       "  22 │    22      5     46.0     0.92       0.716     0.1       0.393909  0.06\n",
       "  23 │    23      5     47.0     0.94       0.731     0.0       0.367604  0.07\n",
       "  24 │    24      5     48.0     0.95       0.738     0.0       0.361888  0.06\n",
       "  25 │    25      5     50.0     0.95       0.738     0.0       0.420387  0.12 ⋯\n",
       "\u001b[36m                                                     1 column and 4 rows omitted\u001b[0m"
      ]
     },
     "execution_count": 57,
     "metadata": {},
     "output_type": "execute_result"
    }
   ],
   "source": [
    "compromise"
   ]
  },
  {
   "cell_type": "code",
   "execution_count": 85,
   "id": "e3a3dbe8",
   "metadata": {},
   "outputs": [
    {
     "data": {
      "text/plain": [
       "5×7 Matrix{Float64}:\n",
       " 2.0  3.02282  3.65406  4.2853   4.99246  5.92738  6.8623\n",
       " 3.0  3.17592  3.35185  3.52777  3.77734  4.05147  4.43382\n",
       " 4.0  3.27231  3.3432   3.43772  3.8793   4.43657  5.08672\n",
       " 2.0  2.42023  2.84046  3.26069  3.71151  4.25411  4.89252\n",
       " 4.0  3.82771  3.65542  3.67461  3.75764  4.06581  4.44904"
      ]
     },
     "execution_count": 85,
     "metadata": {},
     "output_type": "execute_result"
    }
   ],
   "source": [
    "s"
   ]
  },
  {
   "cell_type": "code",
   "execution_count": 33,
   "id": "37a60cdb",
   "metadata": {},
   "outputs": [
    {
     "data": {
      "text/html": [
       "<div class=\"data-frame\"><p>25 rows × 8 columns</p><table class=\"data-frame\"><thead><tr><th></th><th>k</th><th>i</th><th>GWP</th><th>Theta</th><th>Per_Recycl</th><th>Per_Comp</th><th>GHG_ElecInd</th><th>GHG_Trans</th></tr><tr><th></th><th title=\"Int64\">Int64</th><th title=\"Int64\">Int64</th><th title=\"Float64\">Float64</th><th title=\"Float64\">Float64</th><th title=\"Float64\">Float64</th><th title=\"Float64\">Float64</th><th title=\"Float64\">Float64</th><th title=\"Float64\">Float64</th></tr></thead><tbody><tr><th>1</th><td>1</td><td>1</td><td>40.0</td><td>0.6</td><td>0.5</td><td>0.0</td><td>0.301222</td><td>0.162415</td></tr><tr><th>2</th><td>2</td><td>1</td><td>43.0</td><td>0.66</td><td>0.55</td><td>0.0</td><td>0.291677</td><td>0.145083</td></tr><tr><th>3</th><td>3</td><td>1</td><td>45.5</td><td>0.68</td><td>0.567</td><td>0.0</td><td>0.323371</td><td>0.161281</td></tr><tr><th>4</th><td>4</td><td>1</td><td>47.5</td><td>0.7</td><td>0.583</td><td>0.0</td><td>0.525025</td><td>0.151392</td></tr><tr><th>5</th><td>5</td><td>2</td><td>30.0</td><td>0.4</td><td>0.0</td><td>0.2</td><td>0.308217</td><td>0.0923318</td></tr><tr><th>6</th><td>6</td><td>2</td><td>32.0</td><td>0.48</td><td>0.0</td><td>0.24</td><td>0.419839</td><td>0.167281</td></tr><tr><th>7</th><td>7</td><td>2</td><td>34.0</td><td>0.5</td><td>0.0</td><td>0.27</td><td>0.418893</td><td>0.136562</td></tr><tr><th>8</th><td>8</td><td>2</td><td>38.0</td><td>0.52</td><td>0.0</td><td>0.34</td><td>0.530551</td><td>0.134121</td></tr><tr><th>9</th><td>9</td><td>2</td><td>40.0</td><td>0.54</td><td>0.0</td><td>0.37</td><td>0.418593</td><td>0.146208</td></tr><tr><th>10</th><td>10</td><td>2</td><td>42.5</td><td>0.55</td><td>0.0</td><td>0.4</td><td>0.241192</td><td>0.171951</td></tr><tr><th>11</th><td>11</td><td>3</td><td>42.5</td><td>0.6</td><td>0.6</td><td>0.3</td><td>0.299233</td><td>0.0803592</td></tr><tr><th>12</th><td>12</td><td>3</td><td>44.5</td><td>0.68</td><td>0.55</td><td>0.4</td><td>0.208995</td><td>0.133684</td></tr><tr><th>13</th><td>13</td><td>3</td><td>46.5</td><td>0.76</td><td>0.53</td><td>0.4</td><td>0.190811</td><td>0.16299</td></tr><tr><th>14</th><td>14</td><td>3</td><td>47.5</td><td>0.82</td><td>0.5</td><td>0.4</td><td>0.20475</td><td>0.0683796</td></tr><tr><th>15</th><td>15</td><td>4</td><td>37.5</td><td>0.65</td><td>0.0</td><td>0.5</td><td>0.35395</td><td>0.0837429</td></tr><tr><th>16</th><td>16</td><td>4</td><td>39.0</td><td>0.69</td><td>0.0</td><td>0.531</td><td>0.473869</td><td>0.126291</td></tr><tr><th>17</th><td>17</td><td>4</td><td>40.0</td><td>0.71</td><td>0.0</td><td>0.55</td><td>0.499872</td><td>0.151744</td></tr><tr><th>18</th><td>18</td><td>4</td><td>40.5</td><td>0.72</td><td>0.0</td><td>0.55</td><td>0.4039</td><td>0.171753</td></tr><tr><th>19</th><td>19</td><td>4</td><td>41.5</td><td>0.74</td><td>0.0</td><td>0.57</td><td>0.515215</td><td>0.0825216</td></tr><tr><th>20</th><td>20</td><td>4</td><td>42.5</td><td>0.75</td><td>0.0</td><td>0.8</td><td>0.163491</td><td>0.121528</td></tr><tr><th>21</th><td>21</td><td>5</td><td>45.0</td><td>0.9</td><td>0.7</td><td>0.15</td><td>0.323143</td><td>0.104367</td></tr><tr><th>22</th><td>22</td><td>5</td><td>46.0</td><td>0.92</td><td>0.716</td><td>0.1</td><td>0.393909</td><td>0.0648811</td></tr><tr><th>23</th><td>23</td><td>5</td><td>47.0</td><td>0.94</td><td>0.731</td><td>0.0</td><td>0.367604</td><td>0.0785466</td></tr><tr><th>24</th><td>24</td><td>5</td><td>48.0</td><td>0.95</td><td>0.738</td><td>0.0</td><td>0.361888</td><td>0.0685196</td></tr><tr><th>25</th><td>25</td><td>5</td><td>50.0</td><td>0.95</td><td>0.738</td><td>0.0</td><td>0.420387</td><td>0.123506</td></tr></tbody></table></div>"
      ],
      "text/latex": [
       "\\begin{tabular}{r|cccccccc}\n",
       "\t& k & i & GWP & Theta & Per\\_Recycl & Per\\_Comp & GHG\\_ElecInd & GHG\\_Trans\\\\\n",
       "\t\\hline\n",
       "\t& Int64 & Int64 & Float64 & Float64 & Float64 & Float64 & Float64 & Float64\\\\\n",
       "\t\\hline\n",
       "\t1 & 1 & 1 & 40.0 & 0.6 & 0.5 & 0.0 & 0.301222 & 0.162415 \\\\\n",
       "\t2 & 2 & 1 & 43.0 & 0.66 & 0.55 & 0.0 & 0.291677 & 0.145083 \\\\\n",
       "\t3 & 3 & 1 & 45.5 & 0.68 & 0.567 & 0.0 & 0.323371 & 0.161281 \\\\\n",
       "\t4 & 4 & 1 & 47.5 & 0.7 & 0.583 & 0.0 & 0.525025 & 0.151392 \\\\\n",
       "\t5 & 5 & 2 & 30.0 & 0.4 & 0.0 & 0.2 & 0.308217 & 0.0923318 \\\\\n",
       "\t6 & 6 & 2 & 32.0 & 0.48 & 0.0 & 0.24 & 0.419839 & 0.167281 \\\\\n",
       "\t7 & 7 & 2 & 34.0 & 0.5 & 0.0 & 0.27 & 0.418893 & 0.136562 \\\\\n",
       "\t8 & 8 & 2 & 38.0 & 0.52 & 0.0 & 0.34 & 0.530551 & 0.134121 \\\\\n",
       "\t9 & 9 & 2 & 40.0 & 0.54 & 0.0 & 0.37 & 0.418593 & 0.146208 \\\\\n",
       "\t10 & 10 & 2 & 42.5 & 0.55 & 0.0 & 0.4 & 0.241192 & 0.171951 \\\\\n",
       "\t11 & 11 & 3 & 42.5 & 0.6 & 0.6 & 0.3 & 0.299233 & 0.0803592 \\\\\n",
       "\t12 & 12 & 3 & 44.5 & 0.68 & 0.55 & 0.4 & 0.208995 & 0.133684 \\\\\n",
       "\t13 & 13 & 3 & 46.5 & 0.76 & 0.53 & 0.4 & 0.190811 & 0.16299 \\\\\n",
       "\t14 & 14 & 3 & 47.5 & 0.82 & 0.5 & 0.4 & 0.20475 & 0.0683796 \\\\\n",
       "\t15 & 15 & 4 & 37.5 & 0.65 & 0.0 & 0.5 & 0.35395 & 0.0837429 \\\\\n",
       "\t16 & 16 & 4 & 39.0 & 0.69 & 0.0 & 0.531 & 0.473869 & 0.126291 \\\\\n",
       "\t17 & 17 & 4 & 40.0 & 0.71 & 0.0 & 0.55 & 0.499872 & 0.151744 \\\\\n",
       "\t18 & 18 & 4 & 40.5 & 0.72 & 0.0 & 0.55 & 0.4039 & 0.171753 \\\\\n",
       "\t19 & 19 & 4 & 41.5 & 0.74 & 0.0 & 0.57 & 0.515215 & 0.0825216 \\\\\n",
       "\t20 & 20 & 4 & 42.5 & 0.75 & 0.0 & 0.8 & 0.163491 & 0.121528 \\\\\n",
       "\t21 & 21 & 5 & 45.0 & 0.9 & 0.7 & 0.15 & 0.323143 & 0.104367 \\\\\n",
       "\t22 & 22 & 5 & 46.0 & 0.92 & 0.716 & 0.1 & 0.393909 & 0.0648811 \\\\\n",
       "\t23 & 23 & 5 & 47.0 & 0.94 & 0.731 & 0.0 & 0.367604 & 0.0785466 \\\\\n",
       "\t24 & 24 & 5 & 48.0 & 0.95 & 0.738 & 0.0 & 0.361888 & 0.0685196 \\\\\n",
       "\t25 & 25 & 5 & 50.0 & 0.95 & 0.738 & 0.0 & 0.420387 & 0.123506 \\\\\n",
       "\\end{tabular}\n"
      ],
      "text/plain": [
       "\u001b[1m25×8 DataFrame\u001b[0m\n",
       "\u001b[1m Row \u001b[0m│\u001b[1m k     \u001b[0m\u001b[1m i     \u001b[0m\u001b[1m GWP     \u001b[0m\u001b[1m Theta   \u001b[0m\u001b[1m Per_Recycl \u001b[0m\u001b[1m Per_Comp \u001b[0m\u001b[1m GHG_ElecInd \u001b[0m\u001b[1m GHG_\u001b[0m ⋯\n",
       "\u001b[1m     \u001b[0m│\u001b[90m Int64 \u001b[0m\u001b[90m Int64 \u001b[0m\u001b[90m Float64 \u001b[0m\u001b[90m Float64 \u001b[0m\u001b[90m Float64    \u001b[0m\u001b[90m Float64  \u001b[0m\u001b[90m Float64     \u001b[0m\u001b[90m Floa\u001b[0m ⋯\n",
       "─────┼──────────────────────────────────────────────────────────────────────────\n",
       "   1 │     1      1     40.0     0.6        0.5       0.0       0.301222  0.16 ⋯\n",
       "   2 │     2      1     43.0     0.66       0.55      0.0       0.291677  0.14\n",
       "   3 │     3      1     45.5     0.68       0.567     0.0       0.323371  0.16\n",
       "   4 │     4      1     47.5     0.7        0.583     0.0       0.525025  0.15\n",
       "   5 │     5      2     30.0     0.4        0.0       0.2       0.308217  0.09 ⋯\n",
       "   6 │     6      2     32.0     0.48       0.0       0.24      0.419839  0.16\n",
       "   7 │     7      2     34.0     0.5        0.0       0.27      0.418893  0.13\n",
       "   8 │     8      2     38.0     0.52       0.0       0.34      0.530551  0.13\n",
       "   9 │     9      2     40.0     0.54       0.0       0.37      0.418593  0.14 ⋯\n",
       "  10 │    10      2     42.5     0.55       0.0       0.4       0.241192  0.17\n",
       "  11 │    11      3     42.5     0.6        0.6       0.3       0.299233  0.08\n",
       "  ⋮  │   ⋮      ⋮       ⋮        ⋮         ⋮          ⋮           ⋮            ⋱\n",
       "  16 │    16      4     39.0     0.69       0.0       0.531     0.473869  0.12\n",
       "  17 │    17      4     40.0     0.71       0.0       0.55      0.499872  0.15 ⋯\n",
       "  18 │    18      4     40.5     0.72       0.0       0.55      0.4039    0.17\n",
       "  19 │    19      4     41.5     0.74       0.0       0.57      0.515215  0.08\n",
       "  20 │    20      4     42.5     0.75       0.0       0.8       0.163491  0.12\n",
       "  21 │    21      5     45.0     0.9        0.7       0.15      0.323143  0.10 ⋯\n",
       "  22 │    22      5     46.0     0.92       0.716     0.1       0.393909  0.06\n",
       "  23 │    23      5     47.0     0.94       0.731     0.0       0.367604  0.07\n",
       "  24 │    24      5     48.0     0.95       0.738     0.0       0.361888  0.06\n",
       "  25 │    25      5     50.0     0.95       0.738     0.0       0.420387  0.12 ⋯\n",
       "\u001b[36m                                                     1 column and 4 rows omitted\u001b[0m"
      ]
     },
     "execution_count": 33,
     "metadata": {},
     "output_type": "execute_result"
    }
   ],
   "source": [
    "compromise"
   ]
  },
  {
   "cell_type": "code",
   "execution_count": 75,
   "id": "8fb21231",
   "metadata": {},
   "outputs": [
    {
     "data": {
      "application/vnd.vegalite.v4+json": {
       "data": {
        "values": [
         {
          "value": 100,
          "variable": "conv",
          "year": "2020"
         },
         {
          "value": 0,
          "variable": "conv",
          "year": "2021"
         },
         {
          "value": 0,
          "variable": "conv",
          "year": "2022"
         },
         {
          "value": 0,
          "variable": "conv",
          "year": "2023"
         },
         {
          "value": 0,
          "variable": "conv",
          "year": "2024"
         },
         {
          "value": 0,
          "variable": "conv",
          "year": "2025"
         },
         {
          "value": 0,
          "variable": "conv",
          "year": "2026"
         },
         {
          "value": 0,
          "variable": "conv",
          "year": "2027"
         },
         {
          "value": 0,
          "variable": "conv",
          "year": "2028"
         },
         {
          "value": 0,
          "variable": "conv",
          "year": "2029"
         },
         {
          "value": 0,
          "variable": "conv",
          "year": "2030"
         },
         {
          "value": 0,
          "variable": "conv",
          "year": "2031"
         },
         {
          "value": 0,
          "variable": "conv",
          "year": "2032"
         },
         {
          "value": 0,
          "variable": "conv",
          "year": "2033"
         },
         {
          "value": 0,
          "variable": "conv",
          "year": "2034"
         },
         {
          "value": 0,
          "variable": "conv",
          "year": "2035"
         },
         {
          "value": 0,
          "variable": "conv",
          "year": "2036"
         },
         {
          "value": 0,
          "variable": "conv",
          "year": "2037"
         },
         {
          "value": 0,
          "variable": "conv",
          "year": "2038"
         },
         {
          "value": 0,
          "variable": "conv",
          "year": "2039"
         },
         {
          "value": 0,
          "variable": "conv",
          "year": "2040"
         },
         {
          "value": 0,
          "variable": "conv",
          "year": "2041"
         },
         {
          "value": 0,
          "variable": "conv",
          "year": "2042"
         },
         {
          "value": 0,
          "variable": "conv",
          "year": "2043"
         },
         {
          "value": 0,
          "variable": "conv",
          "year": "2044"
         },
         {
          "value": -4.440892098500626e-14,
          "variable": "conv",
          "year": "2045"
         },
         {
          "value": -4.440892098500626e-14,
          "variable": "conv",
          "year": "2046"
         },
         {
          "value": -4.440892098500626e-14,
          "variable": "conv",
          "year": "2047"
         },
         {
          "value": -4.440892098500626e-14,
          "variable": "conv",
          "year": "2048"
         },
         {
          "value": -4.440892098500626e-14,
          "variable": "conv",
          "year": "2049"
         },
         {
          "value": -4.440892098500626e-14,
          "variable": "conv",
          "year": "2050"
         },
         {
          "value": -4.440892098500626e-14,
          "variable": "conv",
          "year": "2051"
         },
         {
          "value": -4.440892098500626e-14,
          "variable": "conv",
          "year": "2052"
         },
         {
          "value": -4.440892098500626e-14,
          "variable": "conv",
          "year": "2053"
         },
         {
          "value": -4.440892098500626e-14,
          "variable": "conv",
          "year": "2054"
         },
         {
          "value": -4.440892098500626e-14,
          "variable": "conv",
          "year": "2055"
         },
         {
          "value": -4.440892098500626e-14,
          "variable": "conv",
          "year": "2056"
         },
         {
          "value": -4.440892098500626e-14,
          "variable": "conv",
          "year": "2057"
         },
         {
          "value": -4.440892098500626e-14,
          "variable": "conv",
          "year": "2058"
         },
         {
          "value": -4.440892098500626e-14,
          "variable": "conv",
          "year": "2059"
         },
         {
          "value": -4.440892098500626e-14,
          "variable": "conv",
          "year": "2060"
         },
         {
          "value": -4.440892098500626e-14,
          "variable": "conv",
          "year": "2061"
         },
         {
          "value": -4.440892098500626e-14,
          "variable": "conv",
          "year": "2062"
         },
         {
          "value": -4.440892098500626e-14,
          "variable": "conv",
          "year": "2063"
         },
         {
          "value": -4.440892098500626e-14,
          "variable": "conv",
          "year": "2064"
         },
         {
          "value": -4.440892098500626e-14,
          "variable": "conv",
          "year": "2065"
         },
         {
          "value": -4.440892098500626e-14,
          "variable": "conv",
          "year": "2066"
         },
         {
          "value": -4.440892098500626e-14,
          "variable": "conv",
          "year": "2067"
         },
         {
          "value": -4.440892098500626e-14,
          "variable": "conv",
          "year": "2068"
         },
         {
          "value": -4.440892098500626e-14,
          "variable": "conv",
          "year": "2069"
         },
         {
          "value": -4.440892098500626e-14,
          "variable": "conv",
          "year": "2070"
         },
         {
          "value": 0,
          "variable": "inn1",
          "year": "2020"
         },
         {
          "value": 0,
          "variable": "inn1",
          "year": "2021"
         },
         {
          "value": 0,
          "variable": "inn1",
          "year": "2022"
         },
         {
          "value": 0,
          "variable": "inn1",
          "year": "2023"
         },
         {
          "value": 0,
          "variable": "inn1",
          "year": "2024"
         },
         {
          "value": 0,
          "variable": "inn1",
          "year": "2025"
         },
         {
          "value": 0,
          "variable": "inn1",
          "year": "2026"
         },
         {
          "value": 0,
          "variable": "inn1",
          "year": "2027"
         },
         {
          "value": 0,
          "variable": "inn1",
          "year": "2028"
         },
         {
          "value": 0,
          "variable": "inn1",
          "year": "2029"
         },
         {
          "value": 0,
          "variable": "inn1",
          "year": "2030"
         },
         {
          "value": 0,
          "variable": "inn1",
          "year": "2031"
         },
         {
          "value": 0,
          "variable": "inn1",
          "year": "2032"
         },
         {
          "value": 0,
          "variable": "inn1",
          "year": "2033"
         },
         {
          "value": 0,
          "variable": "inn1",
          "year": "2034"
         },
         {
          "value": 0,
          "variable": "inn1",
          "year": "2035"
         },
         {
          "value": 0,
          "variable": "inn1",
          "year": "2036"
         },
         {
          "value": 0,
          "variable": "inn1",
          "year": "2037"
         },
         {
          "value": 0,
          "variable": "inn1",
          "year": "2038"
         },
         {
          "value": 0,
          "variable": "inn1",
          "year": "2039"
         },
         {
          "value": 0,
          "variable": "inn1",
          "year": "2040"
         },
         {
          "value": 0,
          "variable": "inn1",
          "year": "2041"
         },
         {
          "value": 0,
          "variable": "inn1",
          "year": "2042"
         },
         {
          "value": 0,
          "variable": "inn1",
          "year": "2043"
         },
         {
          "value": 0,
          "variable": "inn1",
          "year": "2044"
         },
         {
          "value": 0,
          "variable": "inn1",
          "year": "2045"
         },
         {
          "value": 0,
          "variable": "inn1",
          "year": "2046"
         },
         {
          "value": 0,
          "variable": "inn1",
          "year": "2047"
         },
         {
          "value": 0,
          "variable": "inn1",
          "year": "2048"
         },
         {
          "value": 0,
          "variable": "inn1",
          "year": "2049"
         },
         {
          "value": 0,
          "variable": "inn1",
          "year": "2050"
         },
         {
          "value": 0,
          "variable": "inn1",
          "year": "2051"
         },
         {
          "value": 0,
          "variable": "inn1",
          "year": "2052"
         },
         {
          "value": 0,
          "variable": "inn1",
          "year": "2053"
         },
         {
          "value": 0,
          "variable": "inn1",
          "year": "2054"
         },
         {
          "value": 0,
          "variable": "inn1",
          "year": "2055"
         },
         {
          "value": 0,
          "variable": "inn1",
          "year": "2056"
         },
         {
          "value": 0,
          "variable": "inn1",
          "year": "2057"
         },
         {
          "value": 0,
          "variable": "inn1",
          "year": "2058"
         },
         {
          "value": 0,
          "variable": "inn1",
          "year": "2059"
         },
         {
          "value": 0,
          "variable": "inn1",
          "year": "2060"
         },
         {
          "value": 0,
          "variable": "inn1",
          "year": "2061"
         },
         {
          "value": 0,
          "variable": "inn1",
          "year": "2062"
         },
         {
          "value": 0,
          "variable": "inn1",
          "year": "2063"
         },
         {
          "value": 0,
          "variable": "inn1",
          "year": "2064"
         },
         {
          "value": 0,
          "variable": "inn1",
          "year": "2065"
         },
         {
          "value": 0,
          "variable": "inn1",
          "year": "2066"
         },
         {
          "value": 0,
          "variable": "inn1",
          "year": "2067"
         },
         {
          "value": 0,
          "variable": "inn1",
          "year": "2068"
         },
         {
          "value": 0,
          "variable": "inn1",
          "year": "2069"
         },
         {
          "value": 0,
          "variable": "inn1",
          "year": "2070"
         },
         {
          "value": 0,
          "variable": "inn2",
          "year": "2020"
         },
         {
          "value": 0,
          "variable": "inn2",
          "year": "2021"
         },
         {
          "value": 0,
          "variable": "inn2",
          "year": "2022"
         },
         {
          "value": 0,
          "variable": "inn2",
          "year": "2023"
         },
         {
          "value": 0,
          "variable": "inn2",
          "year": "2024"
         },
         {
          "value": 0,
          "variable": "inn2",
          "year": "2025"
         },
         {
          "value": 0,
          "variable": "inn2",
          "year": "2026"
         },
         {
          "value": 0,
          "variable": "inn2",
          "year": "2027"
         },
         {
          "value": 0,
          "variable": "inn2",
          "year": "2028"
         },
         {
          "value": 0,
          "variable": "inn2",
          "year": "2029"
         },
         {
          "value": 0,
          "variable": "inn2",
          "year": "2030"
         },
         {
          "value": 0,
          "variable": "inn2",
          "year": "2031"
         },
         {
          "value": 0,
          "variable": "inn2",
          "year": "2032"
         },
         {
          "value": 0,
          "variable": "inn2",
          "year": "2033"
         },
         {
          "value": 0,
          "variable": "inn2",
          "year": "2034"
         },
         {
          "value": 0,
          "variable": "inn2",
          "year": "2035"
         },
         {
          "value": 0,
          "variable": "inn2",
          "year": "2036"
         },
         {
          "value": 0,
          "variable": "inn2",
          "year": "2037"
         },
         {
          "value": 0,
          "variable": "inn2",
          "year": "2038"
         },
         {
          "value": 0,
          "variable": "inn2",
          "year": "2039"
         },
         {
          "value": 0,
          "variable": "inn2",
          "year": "2040"
         },
         {
          "value": 0,
          "variable": "inn2",
          "year": "2041"
         },
         {
          "value": 0,
          "variable": "inn2",
          "year": "2042"
         },
         {
          "value": 0,
          "variable": "inn2",
          "year": "2043"
         },
         {
          "value": 0,
          "variable": "inn2",
          "year": "2044"
         },
         {
          "value": 0,
          "variable": "inn2",
          "year": "2045"
         },
         {
          "value": 0,
          "variable": "inn2",
          "year": "2046"
         },
         {
          "value": 0,
          "variable": "inn2",
          "year": "2047"
         },
         {
          "value": 0,
          "variable": "inn2",
          "year": "2048"
         },
         {
          "value": 0,
          "variable": "inn2",
          "year": "2049"
         },
         {
          "value": 0,
          "variable": "inn2",
          "year": "2050"
         },
         {
          "value": 0,
          "variable": "inn2",
          "year": "2051"
         },
         {
          "value": 0,
          "variable": "inn2",
          "year": "2052"
         },
         {
          "value": 0,
          "variable": "inn2",
          "year": "2053"
         },
         {
          "value": 0,
          "variable": "inn2",
          "year": "2054"
         },
         {
          "value": 0,
          "variable": "inn2",
          "year": "2055"
         },
         {
          "value": 0,
          "variable": "inn2",
          "year": "2056"
         },
         {
          "value": 0,
          "variable": "inn2",
          "year": "2057"
         },
         {
          "value": 0,
          "variable": "inn2",
          "year": "2058"
         },
         {
          "value": 0,
          "variable": "inn2",
          "year": "2059"
         },
         {
          "value": 0,
          "variable": "inn2",
          "year": "2060"
         },
         {
          "value": 0,
          "variable": "inn2",
          "year": "2061"
         },
         {
          "value": 0,
          "variable": "inn2",
          "year": "2062"
         },
         {
          "value": 0,
          "variable": "inn2",
          "year": "2063"
         },
         {
          "value": 0,
          "variable": "inn2",
          "year": "2064"
         },
         {
          "value": 0,
          "variable": "inn2",
          "year": "2065"
         },
         {
          "value": 0,
          "variable": "inn2",
          "year": "2066"
         },
         {
          "value": 0,
          "variable": "inn2",
          "year": "2067"
         },
         {
          "value": 0,
          "variable": "inn2",
          "year": "2068"
         },
         {
          "value": 0,
          "variable": "inn2",
          "year": "2069"
         },
         {
          "value": 0,
          "variable": "inn2",
          "year": "2070"
         },
         {
          "value": 0,
          "variable": "inn3",
          "year": "2020"
         },
         {
          "value": 0,
          "variable": "inn3",
          "year": "2021"
         },
         {
          "value": 0,
          "variable": "inn3",
          "year": "2022"
         },
         {
          "value": 0,
          "variable": "inn3",
          "year": "2023"
         },
         {
          "value": 0,
          "variable": "inn3",
          "year": "2024"
         },
         {
          "value": 0,
          "variable": "inn3",
          "year": "2025"
         },
         {
          "value": 0,
          "variable": "inn3",
          "year": "2026"
         },
         {
          "value": 0,
          "variable": "inn3",
          "year": "2027"
         },
         {
          "value": 0,
          "variable": "inn3",
          "year": "2028"
         },
         {
          "value": 0,
          "variable": "inn3",
          "year": "2029"
         },
         {
          "value": 10.624999999999995,
          "variable": "inn3",
          "year": "2030"
         },
         {
          "value": 10.624999999999995,
          "variable": "inn3",
          "year": "2031"
         },
         {
          "value": 10.624999999999995,
          "variable": "inn3",
          "year": "2032"
         },
         {
          "value": 10.624999999999995,
          "variable": "inn3",
          "year": "2033"
         },
         {
          "value": 10.624999999999995,
          "variable": "inn3",
          "year": "2034"
         },
         {
          "value": 10.625000000000117,
          "variable": "inn3",
          "year": "2035"
         },
         {
          "value": 10.625000000000117,
          "variable": "inn3",
          "year": "2036"
         },
         {
          "value": 10.625000000000117,
          "variable": "inn3",
          "year": "2037"
         },
         {
          "value": 10.625000000000117,
          "variable": "inn3",
          "year": "2038"
         },
         {
          "value": 10.625000000000117,
          "variable": "inn3",
          "year": "2039"
         },
         {
          "value": 10.625000000000005,
          "variable": "inn3",
          "year": "2040"
         },
         {
          "value": 10.625000000000005,
          "variable": "inn3",
          "year": "2041"
         },
         {
          "value": 10.625000000000005,
          "variable": "inn3",
          "year": "2042"
         },
         {
          "value": 10.625000000000005,
          "variable": "inn3",
          "year": "2043"
         },
         {
          "value": 10.625000000000005,
          "variable": "inn3",
          "year": "2044"
         },
         {
          "value": 7.947154471544725,
          "variable": "inn3",
          "year": "2045"
         },
         {
          "value": 7.947154471544725,
          "variable": "inn3",
          "year": "2046"
         },
         {
          "value": 7.947154471544725,
          "variable": "inn3",
          "year": "2047"
         },
         {
          "value": 7.947154471544725,
          "variable": "inn3",
          "year": "2048"
         },
         {
          "value": 7.947154471544725,
          "variable": "inn3",
          "year": "2049"
         },
         {
          "value": 7.947154471544725,
          "variable": "inn3",
          "year": "2050"
         },
         {
          "value": 7.947154471544725,
          "variable": "inn3",
          "year": "2051"
         },
         {
          "value": 7.947154471544725,
          "variable": "inn3",
          "year": "2052"
         },
         {
          "value": 7.947154471544725,
          "variable": "inn3",
          "year": "2053"
         },
         {
          "value": 7.947154471544725,
          "variable": "inn3",
          "year": "2054"
         },
         {
          "value": 7.947154471544725,
          "variable": "inn3",
          "year": "2055"
         },
         {
          "value": 7.947154471544725,
          "variable": "inn3",
          "year": "2056"
         },
         {
          "value": 7.947154471544725,
          "variable": "inn3",
          "year": "2057"
         },
         {
          "value": 7.947154471544725,
          "variable": "inn3",
          "year": "2058"
         },
         {
          "value": 7.947154471544725,
          "variable": "inn3",
          "year": "2059"
         },
         {
          "value": 7.947154471544725,
          "variable": "inn3",
          "year": "2060"
         },
         {
          "value": 7.947154471544725,
          "variable": "inn3",
          "year": "2061"
         },
         {
          "value": 7.947154471544725,
          "variable": "inn3",
          "year": "2062"
         },
         {
          "value": 7.947154471544725,
          "variable": "inn3",
          "year": "2063"
         },
         {
          "value": 7.947154471544725,
          "variable": "inn3",
          "year": "2064"
         },
         {
          "value": 7.947154471544725,
          "variable": "inn3",
          "year": "2065"
         },
         {
          "value": 7.947154471544725,
          "variable": "inn3",
          "year": "2066"
         },
         {
          "value": 7.947154471544725,
          "variable": "inn3",
          "year": "2067"
         },
         {
          "value": 7.947154471544725,
          "variable": "inn3",
          "year": "2068"
         },
         {
          "value": 7.947154471544725,
          "variable": "inn3",
          "year": "2069"
         },
         {
          "value": 7.947154471544725,
          "variable": "inn3",
          "year": "2070"
         },
         {
          "value": 0,
          "variable": "inn4",
          "year": "2020"
         },
         {
          "value": 37.5,
          "variable": "inn4",
          "year": "2021"
         },
         {
          "value": 37.5,
          "variable": "inn4",
          "year": "2022"
         },
         {
          "value": 37.5,
          "variable": "inn4",
          "year": "2023"
         },
         {
          "value": 37.5,
          "variable": "inn4",
          "year": "2024"
         },
         {
          "value": 37.5,
          "variable": "inn4",
          "year": "2025"
         },
         {
          "value": 37.5,
          "variable": "inn4",
          "year": "2026"
         },
         {
          "value": 37.5,
          "variable": "inn4",
          "year": "2027"
         },
         {
          "value": 37.5,
          "variable": "inn4",
          "year": "2028"
         },
         {
          "value": 37.5,
          "variable": "inn4",
          "year": "2029"
         },
         {
          "value": 28.125000000000004,
          "variable": "inn4",
          "year": "2030"
         },
         {
          "value": 28.125000000000004,
          "variable": "inn4",
          "year": "2031"
         },
         {
          "value": 28.125000000000004,
          "variable": "inn4",
          "year": "2032"
         },
         {
          "value": 28.125000000000004,
          "variable": "inn4",
          "year": "2033"
         },
         {
          "value": 28.125000000000004,
          "variable": "inn4",
          "year": "2034"
         },
         {
          "value": 28.124999999999897,
          "variable": "inn4",
          "year": "2035"
         },
         {
          "value": 28.124999999999897,
          "variable": "inn4",
          "year": "2036"
         },
         {
          "value": 28.124999999999897,
          "variable": "inn4",
          "year": "2037"
         },
         {
          "value": 28.124999999999897,
          "variable": "inn4",
          "year": "2038"
         },
         {
          "value": 28.124999999999897,
          "variable": "inn4",
          "year": "2039"
         },
         {
          "value": 28.124999999999996,
          "variable": "inn4",
          "year": "2040"
         },
         {
          "value": 28.124999999999996,
          "variable": "inn4",
          "year": "2041"
         },
         {
          "value": 28.124999999999996,
          "variable": "inn4",
          "year": "2042"
         },
         {
          "value": 28.124999999999996,
          "variable": "inn4",
          "year": "2043"
         },
         {
          "value": 28.124999999999996,
          "variable": "inn4",
          "year": "2044"
         },
         {
          "value": 31.707317073170735,
          "variable": "inn4",
          "year": "2045"
         },
         {
          "value": 31.707317073170735,
          "variable": "inn4",
          "year": "2046"
         },
         {
          "value": 31.707317073170735,
          "variable": "inn4",
          "year": "2047"
         },
         {
          "value": 31.707317073170735,
          "variable": "inn4",
          "year": "2048"
         },
         {
          "value": 31.707317073170735,
          "variable": "inn4",
          "year": "2049"
         },
         {
          "value": 31.707317073170735,
          "variable": "inn4",
          "year": "2050"
         },
         {
          "value": 31.707317073170735,
          "variable": "inn4",
          "year": "2051"
         },
         {
          "value": 31.707317073170735,
          "variable": "inn4",
          "year": "2052"
         },
         {
          "value": 31.707317073170735,
          "variable": "inn4",
          "year": "2053"
         },
         {
          "value": 31.707317073170735,
          "variable": "inn4",
          "year": "2054"
         },
         {
          "value": 31.707317073170735,
          "variable": "inn4",
          "year": "2055"
         },
         {
          "value": 31.707317073170735,
          "variable": "inn4",
          "year": "2056"
         },
         {
          "value": 31.707317073170735,
          "variable": "inn4",
          "year": "2057"
         },
         {
          "value": 31.707317073170735,
          "variable": "inn4",
          "year": "2058"
         },
         {
          "value": 31.707317073170735,
          "variable": "inn4",
          "year": "2059"
         },
         {
          "value": 31.707317073170735,
          "variable": "inn4",
          "year": "2060"
         },
         {
          "value": 31.707317073170735,
          "variable": "inn4",
          "year": "2061"
         },
         {
          "value": 31.707317073170735,
          "variable": "inn4",
          "year": "2062"
         },
         {
          "value": 31.707317073170735,
          "variable": "inn4",
          "year": "2063"
         },
         {
          "value": 31.707317073170735,
          "variable": "inn4",
          "year": "2064"
         },
         {
          "value": 31.707317073170735,
          "variable": "inn4",
          "year": "2065"
         },
         {
          "value": 31.707317073170735,
          "variable": "inn4",
          "year": "2066"
         },
         {
          "value": 31.707317073170735,
          "variable": "inn4",
          "year": "2067"
         },
         {
          "value": 31.707317073170735,
          "variable": "inn4",
          "year": "2068"
         },
         {
          "value": 31.707317073170735,
          "variable": "inn4",
          "year": "2069"
         },
         {
          "value": 31.707317073170735,
          "variable": "inn4",
          "year": "2070"
         },
         {
          "value": 0,
          "variable": "inn5",
          "year": "2020"
         },
         {
          "value": 0,
          "variable": "inn5",
          "year": "2021"
         },
         {
          "value": 0,
          "variable": "inn5",
          "year": "2022"
         },
         {
          "value": 0,
          "variable": "inn5",
          "year": "2023"
         },
         {
          "value": 0,
          "variable": "inn5",
          "year": "2024"
         },
         {
          "value": 0,
          "variable": "inn5",
          "year": "2025"
         },
         {
          "value": 0,
          "variable": "inn5",
          "year": "2026"
         },
         {
          "value": 0,
          "variable": "inn5",
          "year": "2027"
         },
         {
          "value": 0,
          "variable": "inn5",
          "year": "2028"
         },
         {
          "value": 0,
          "variable": "inn5",
          "year": "2029"
         },
         {
          "value": 0,
          "variable": "inn5",
          "year": "2030"
         },
         {
          "value": 0,
          "variable": "inn5",
          "year": "2031"
         },
         {
          "value": 0,
          "variable": "inn5",
          "year": "2032"
         },
         {
          "value": 0,
          "variable": "inn5",
          "year": "2033"
         },
         {
          "value": 0,
          "variable": "inn5",
          "year": "2034"
         },
         {
          "value": 0,
          "variable": "inn5",
          "year": "2035"
         },
         {
          "value": 0,
          "variable": "inn5",
          "year": "2036"
         },
         {
          "value": 0,
          "variable": "inn5",
          "year": "2037"
         },
         {
          "value": 0,
          "variable": "inn5",
          "year": "2038"
         },
         {
          "value": 0,
          "variable": "inn5",
          "year": "2039"
         },
         {
          "value": 0,
          "variable": "inn5",
          "year": "2040"
         },
         {
          "value": 0,
          "variable": "inn5",
          "year": "2041"
         },
         {
          "value": 0,
          "variable": "inn5",
          "year": "2042"
         },
         {
          "value": 0,
          "variable": "inn5",
          "year": "2043"
         },
         {
          "value": 0,
          "variable": "inn5",
          "year": "2044"
         },
         {
          "value": 0,
          "variable": "inn5",
          "year": "2045"
         },
         {
          "value": 0,
          "variable": "inn5",
          "year": "2046"
         },
         {
          "value": 0,
          "variable": "inn5",
          "year": "2047"
         },
         {
          "value": 0,
          "variable": "inn5",
          "year": "2048"
         },
         {
          "value": 0,
          "variable": "inn5",
          "year": "2049"
         },
         {
          "value": 0,
          "variable": "inn5",
          "year": "2050"
         },
         {
          "value": 0,
          "variable": "inn5",
          "year": "2051"
         },
         {
          "value": 0,
          "variable": "inn5",
          "year": "2052"
         },
         {
          "value": 0,
          "variable": "inn5",
          "year": "2053"
         },
         {
          "value": 0,
          "variable": "inn5",
          "year": "2054"
         },
         {
          "value": 0,
          "variable": "inn5",
          "year": "2055"
         },
         {
          "value": 0,
          "variable": "inn5",
          "year": "2056"
         },
         {
          "value": 0,
          "variable": "inn5",
          "year": "2057"
         },
         {
          "value": 0,
          "variable": "inn5",
          "year": "2058"
         },
         {
          "value": 0,
          "variable": "inn5",
          "year": "2059"
         },
         {
          "value": 0,
          "variable": "inn5",
          "year": "2060"
         },
         {
          "value": 0,
          "variable": "inn5",
          "year": "2061"
         },
         {
          "value": 0,
          "variable": "inn5",
          "year": "2062"
         },
         {
          "value": 0,
          "variable": "inn5",
          "year": "2063"
         },
         {
          "value": 0,
          "variable": "inn5",
          "year": "2064"
         },
         {
          "value": 0,
          "variable": "inn5",
          "year": "2065"
         },
         {
          "value": 0,
          "variable": "inn5",
          "year": "2066"
         },
         {
          "value": 0,
          "variable": "inn5",
          "year": "2067"
         },
         {
          "value": 0,
          "variable": "inn5",
          "year": "2068"
         },
         {
          "value": 0,
          "variable": "inn5",
          "year": "2069"
         },
         {
          "value": 0,
          "variable": "inn5",
          "year": "2070"
         }
        ]
       },
       "encoding": {
        "color": {
         "field": "variable",
         "type": "nominal"
        },
        "x": {
         "field": "year"
        },
        "y": {
         "field": "value",
         "stack": "zero",
         "title": "CO2",
         "type": "quantitative"
        }
       },
       "legend": "sNames",
       "mark": "area"
      },
      "image/png": "[encoded data removed]",
      "image/svg+xml": [
       "<?xml version=\"1.0\" encoding=\"utf-8\"?>\n",
       "<!DOCTYPE svg PUBLIC \"-//W3C//DTD SVG 1.1//EN\" \"http://www.w3.org/Graphics/SVG/1.1/DTD/svg11.dtd\">\n",
       "<svg xmlns=\"http://www.w3.org/2000/svg\" xmlns:xlink=\"http://www.w3.org/1999/xlink\" version=\"1.1\" class=\"marks\" width=\"1137\" height=\"261\" viewBox=\"0 0 1137 261\"><rect width=\"1137\" height=\"261\" fill=\"white\"/><g fill=\"none\" stroke-miterlimit=\"10\" transform=\"translate(45,10)\"><g class=\"mark-group role-frame root\" role=\"graphics-object\" aria-roledescription=\"group mark container\"><g transform=\"translate(0,0)\"><path class=\"background\" aria-hidden=\"true\" d=\"M0.5,0.5h1020v200h-1020Z\" stroke=\"#ddd\"/><g><g class=\"mark-group role-axis\" aria-hidden=\"true\"><g transform=\"translate(0.5,0.5)\"><path class=\"background\" aria-hidden=\"true\" d=\"M0,0h0v0h0Z\" pointer-events=\"none\"/><g><g class=\"mark-rule role-axis-grid\" pointer-events=\"none\"><line transform=\"translate(0,182)\" x2=\"1020\" y2=\"0\" stroke=\"#ddd\" stroke-width=\"1\" opacity=\"1\"/><line transform=\"translate(0,145)\" x2=\"1020\" y2=\"0\" stroke=\"#ddd\" stroke-width=\"1\" opacity=\"1\"/><line transform=\"translate(0,109)\" x2=\"1020\" y2=\"0\" stroke=\"#ddd\" stroke-width=\"1\" opacity=\"1\"/><line transform=\"translate(0,73)\" x2=\"1020\" y2=\"0\" stroke=\"#ddd\" stroke-width=\"1\" opacity=\"1\"/><line transform=\"translate(0,36)\" x2=\"1020\" y2=\"0\" stroke=\"#ddd\" stroke-width=\"1\" opacity=\"1\"/><line transform=\"translate(0,0)\" x2=\"1020\" y2=\"0\" stroke=\"#ddd\" stroke-width=\"1\" opacity=\"1\"/></g></g><path class=\"foreground\" aria-hidden=\"true\" d=\"\" pointer-events=\"none\" display=\"none\"/></g></g><g class=\"mark-group role-axis\" role=\"graphics-symbol\" aria-roledescription=\"axis\" aria-label=\"X-axis titled 'year' for a discrete scale with 51 values: 2020, 2021, 2022, 2023, 2024, ending with 2070\"><g transform=\"translate(0.5,200.5)\"><path class=\"background\" aria-hidden=\"true\" d=\"M0,0h0v0h0Z\" pointer-events=\"none\"/><g><g class=\"mark-rule role-axis-tick\" pointer-events=\"none\"><line transform=\"translate(10,0)\" x2=\"0\" y2=\"5\" stroke=\"#888\" stroke-width=\"1\" opacity=\"1\"/><line transform=\"translate(30,0)\" x2=\"0\" y2=\"5\" stroke=\"#888\" stroke-width=\"1\" opacity=\"1\"/><line transform=\"translate(50,0)\" x2=\"0\" y2=\"5\" stroke=\"#888\" stroke-width=\"1\" opacity=\"1\"/><line transform=\"translate(70,0)\" x2=\"0\" y2=\"5\" stroke=\"#888\" stroke-width=\"1\" opacity=\"1\"/><line transform=\"translate(90,0)\" x2=\"0\" y2=\"5\" stroke=\"#888\" stroke-width=\"1\" opacity=\"1\"/><line transform=\"translate(110,0)\" x2=\"0\" y2=\"5\" stroke=\"#888\" stroke-width=\"1\" opacity=\"1\"/><line transform=\"translate(130,0)\" x2=\"0\" y2=\"5\" stroke=\"#888\" stroke-width=\"1\" opacity=\"1\"/><line transform=\"translate(150,0)\" x2=\"0\" y2=\"5\" stroke=\"#888\" stroke-width=\"1\" opacity=\"1\"/><line transform=\"translate(170,0)\" x2=\"0\" y2=\"5\" stroke=\"#888\" stroke-width=\"1\" opacity=\"1\"/><line transform=\"translate(190,0)\" x2=\"0\" y2=\"5\" stroke=\"#888\" stroke-width=\"1\" opacity=\"1\"/><line transform=\"translate(210,0)\" x2=\"0\" y2=\"5\" stroke=\"#888\" stroke-width=\"1\" opacity=\"1\"/><line transform=\"translate(230,0)\" x2=\"0\" y2=\"5\" stroke=\"#888\" stroke-width=\"1\" opacity=\"1\"/><line transform=\"translate(250,0)\" x2=\"0\" y2=\"5\" stroke=\"#888\" stroke-width=\"1\" opacity=\"1\"/><line transform=\"translate(270,0)\" x2=\"0\" y2=\"5\" stroke=\"#888\" stroke-width=\"1\" opacity=\"1\"/><line transform=\"translate(290,0)\" x2=\"0\" y2=\"5\" stroke=\"#888\" stroke-width=\"1\" opacity=\"1\"/><line transform=\"translate(310,0)\" x2=\"0\" y2=\"5\" stroke=\"#888\" stroke-width=\"1\" opacity=\"1\"/><line transform=\"translate(330,0)\" x2=\"0\" y2=\"5\" stroke=\"#888\" stroke-width=\"1\" opacity=\"1\"/><line transform=\"translate(350,0)\" x2=\"0\" y2=\"5\" stroke=\"#888\" stroke-width=\"1\" opacity=\"1\"/><line transform=\"translate(370,0)\" x2=\"0\" y2=\"5\" stroke=\"#888\" stroke-width=\"1\" opacity=\"1\"/><line transform=\"translate(390,0)\" x2=\"0\" y2=\"5\" stroke=\"#888\" stroke-width=\"1\" opacity=\"1\"/><line transform=\"translate(410,0)\" x2=\"0\" y2=\"5\" stroke=\"#888\" stroke-width=\"1\" opacity=\"1\"/><line transform=\"translate(430,0)\" x2=\"0\" y2=\"5\" stroke=\"#888\" stroke-width=\"1\" opacity=\"1\"/><line transform=\"translate(450,0)\" x2=\"0\" y2=\"5\" stroke=\"#888\" stroke-width=\"1\" opacity=\"1\"/><line transform=\"translate(470,0)\" x2=\"0\" y2=\"5\" stroke=\"#888\" stroke-width=\"1\" opacity=\"1\"/><line transform=\"translate(490,0)\" x2=\"0\" y2=\"5\" stroke=\"#888\" stroke-width=\"1\" opacity=\"1\"/><line transform=\"translate(510,0)\" x2=\"0\" y2=\"5\" stroke=\"#888\" stroke-width=\"1\" opacity=\"1\"/><line transform=\"translate(530,0)\" x2=\"0\" y2=\"5\" stroke=\"#888\" stroke-width=\"1\" opacity=\"1\"/><line transform=\"translate(550,0)\" x2=\"0\" y2=\"5\" stroke=\"#888\" stroke-width=\"1\" opacity=\"1\"/><line transform=\"translate(570,0)\" x2=\"0\" y2=\"5\" stroke=\"#888\" stroke-width=\"1\" opacity=\"1\"/><line transform=\"translate(590,0)\" x2=\"0\" y2=\"5\" stroke=\"#888\" stroke-width=\"1\" opacity=\"1\"/><line transform=\"translate(610,0)\" x2=\"0\" y2=\"5\" stroke=\"#888\" stroke-width=\"1\" opacity=\"1\"/><line transform=\"translate(630,0)\" x2=\"0\" y2=\"5\" stroke=\"#888\" stroke-width=\"1\" opacity=\"1\"/><line transform=\"translate(650,0)\" x2=\"0\" y2=\"5\" stroke=\"#888\" stroke-width=\"1\" opacity=\"1\"/><line transform=\"translate(670,0)\" x2=\"0\" y2=\"5\" stroke=\"#888\" stroke-width=\"1\" opacity=\"1\"/><line transform=\"translate(690,0)\" x2=\"0\" y2=\"5\" stroke=\"#888\" stroke-width=\"1\" opacity=\"1\"/><line transform=\"translate(710,0)\" x2=\"0\" y2=\"5\" stroke=\"#888\" stroke-width=\"1\" opacity=\"1\"/><line transform=\"translate(730,0)\" x2=\"0\" y2=\"5\" stroke=\"#888\" stroke-width=\"1\" opacity=\"1\"/><line transform=\"translate(750,0)\" x2=\"0\" y2=\"5\" stroke=\"#888\" stroke-width=\"1\" opacity=\"1\"/><line transform=\"translate(770,0)\" x2=\"0\" y2=\"5\" stroke=\"#888\" stroke-width=\"1\" opacity=\"1\"/><line transform=\"translate(790,0)\" x2=\"0\" y2=\"5\" stroke=\"#888\" stroke-width=\"1\" opacity=\"1\"/><line transform=\"translate(810,0)\" x2=\"0\" y2=\"5\" stroke=\"#888\" stroke-width=\"1\" opacity=\"1\"/><line transform=\"translate(830,0)\" x2=\"0\" y2=\"5\" stroke=\"#888\" stroke-width=\"1\" opacity=\"1\"/><line transform=\"translate(850,0)\" x2=\"0\" y2=\"5\" stroke=\"#888\" stroke-width=\"1\" opacity=\"1\"/><line transform=\"translate(870,0)\" x2=\"0\" y2=\"5\" stroke=\"#888\" stroke-width=\"1\" opacity=\"1\"/><line transform=\"translate(890,0)\" x2=\"0\" y2=\"5\" stroke=\"#888\" stroke-width=\"1\" opacity=\"1\"/><line transform=\"translate(910,0)\" x2=\"0\" y2=\"5\" stroke=\"#888\" stroke-width=\"1\" opacity=\"1\"/><line transform=\"translate(930,0)\" x2=\"0\" y2=\"5\" stroke=\"#888\" stroke-width=\"1\" opacity=\"1\"/><line transform=\"translate(950,0)\" x2=\"0\" y2=\"5\" stroke=\"#888\" stroke-width=\"1\" opacity=\"1\"/><line transform=\"translate(970,0)\" x2=\"0\" y2=\"5\" stroke=\"#888\" stroke-width=\"1\" opacity=\"1\"/><line transform=\"translate(990,0)\" x2=\"0\" y2=\"5\" stroke=\"#888\" stroke-width=\"1\" opacity=\"1\"/><line transform=\"translate(1010,0)\" x2=\"0\" y2=\"5\" stroke=\"#888\" stroke-width=\"1\" opacity=\"1\"/></g><g class=\"mark-text role-axis-label\" pointer-events=\"none\"><text text-anchor=\"end\" transform=\"translate(10,7) rotate(270) translate(0,3)\" font-family=\"sans-serif\" font-size=\"10px\" fill=\"#000\" opacity=\"1\">2020</text><text text-anchor=\"end\" transform=\"translate(30,7) rotate(270) translate(0,3)\" font-family=\"sans-serif\" font-size=\"10px\" fill=\"#000\" opacity=\"1\">2021</text><text text-anchor=\"end\" transform=\"translate(50,7) rotate(270) translate(0,3)\" font-family=\"sans-serif\" font-size=\"10px\" fill=\"#000\" opacity=\"1\">2022</text><text text-anchor=\"end\" transform=\"translate(70,7) rotate(270) translate(0,3)\" font-family=\"sans-serif\" font-size=\"10px\" fill=\"#000\" opacity=\"1\">2023</text><text text-anchor=\"end\" transform=\"translate(90,7) rotate(270) translate(0,3)\" font-family=\"sans-serif\" font-size=\"10px\" fill=\"#000\" opacity=\"1\">2024</text><text text-anchor=\"end\" transform=\"translate(110,7) rotate(270) translate(0,3)\" font-family=\"sans-serif\" font-size=\"10px\" fill=\"#000\" opacity=\"1\">2025</text><text text-anchor=\"end\" transform=\"translate(130,7) rotate(270) translate(0,3)\" font-family=\"sans-serif\" font-size=\"10px\" fill=\"#000\" opacity=\"1\">2026</text><text text-anchor=\"end\" transform=\"translate(150,7) rotate(270) translate(0,3)\" font-family=\"sans-serif\" font-size=\"10px\" fill=\"#000\" opacity=\"1\">2027</text><text text-anchor=\"end\" transform=\"translate(170,7) rotate(270) translate(0,3)\" font-family=\"sans-serif\" font-size=\"10px\" fill=\"#000\" opacity=\"1\">2028</text><text text-anchor=\"end\" transform=\"translate(190,7) rotate(270) translate(0,3)\" font-family=\"sans-serif\" font-size=\"10px\" fill=\"#000\" opacity=\"1\">2029</text><text text-anchor=\"end\" transform=\"translate(210,7) rotate(270) translate(0,3)\" font-family=\"sans-serif\" font-size=\"10px\" fill=\"#000\" opacity=\"1\">2030</text><text text-anchor=\"end\" transform=\"translate(230,7) rotate(270) translate(0,3)\" font-family=\"sans-serif\" font-size=\"10px\" fill=\"#000\" opacity=\"1\">2031</text><text text-anchor=\"end\" transform=\"translate(250,7) rotate(270) translate(0,3)\" font-family=\"sans-serif\" font-size=\"10px\" fill=\"#000\" opacity=\"1\">2032</text><text text-anchor=\"end\" transform=\"translate(270,7) rotate(270) translate(0,3)\" font-family=\"sans-serif\" font-size=\"10px\" fill=\"#000\" opacity=\"1\">2033</text><text text-anchor=\"end\" transform=\"translate(290,7) rotate(270) translate(0,3)\" font-family=\"sans-serif\" font-size=\"10px\" fill=\"#000\" opacity=\"1\">2034</text><text text-anchor=\"end\" transform=\"translate(310,7) rotate(270) translate(0,3)\" font-family=\"sans-serif\" font-size=\"10px\" fill=\"#000\" opacity=\"1\">2035</text><text text-anchor=\"end\" transform=\"translate(330,7) rotate(270) translate(0,3)\" font-family=\"sans-serif\" font-size=\"10px\" fill=\"#000\" opacity=\"1\">2036</text><text text-anchor=\"end\" transform=\"translate(350,7) rotate(270) translate(0,3)\" font-family=\"sans-serif\" font-size=\"10px\" fill=\"#000\" opacity=\"1\">2037</text><text text-anchor=\"end\" transform=\"translate(370,7) rotate(270) translate(0,3)\" font-family=\"sans-serif\" font-size=\"10px\" fill=\"#000\" opacity=\"1\">2038</text><text text-anchor=\"end\" transform=\"translate(390,7) rotate(270) translate(0,3)\" font-family=\"sans-serif\" font-size=\"10px\" fill=\"#000\" opacity=\"1\">2039</text><text text-anchor=\"end\" transform=\"translate(410,7) rotate(270) translate(0,3)\" font-family=\"sans-serif\" font-size=\"10px\" fill=\"#000\" opacity=\"1\">2040</text><text text-anchor=\"end\" transform=\"translate(430,7) rotate(270) translate(0,3)\" font-family=\"sans-serif\" font-size=\"10px\" fill=\"#000\" opacity=\"1\">2041</text><text text-anchor=\"end\" transform=\"translate(450,7) rotate(270) translate(0,3)\" font-family=\"sans-serif\" font-size=\"10px\" fill=\"#000\" opacity=\"1\">2042</text><text text-anchor=\"end\" transform=\"translate(470,7) rotate(270) translate(0,3)\" font-family=\"sans-serif\" font-size=\"10px\" fill=\"#000\" opacity=\"1\">2043</text><text text-anchor=\"end\" transform=\"translate(490,7) rotate(270) translate(0,3)\" font-family=\"sans-serif\" font-size=\"10px\" fill=\"#000\" opacity=\"1\">2044</text><text text-anchor=\"end\" transform=\"translate(510,7) rotate(270) translate(0,3)\" font-family=\"sans-serif\" font-size=\"10px\" fill=\"#000\" opacity=\"1\">2045</text><text text-anchor=\"end\" transform=\"translate(530,7) rotate(270) translate(0,3)\" font-family=\"sans-serif\" font-size=\"10px\" fill=\"#000\" opacity=\"1\">2046</text><text text-anchor=\"end\" transform=\"translate(550,7) rotate(270) translate(0,3)\" font-family=\"sans-serif\" font-size=\"10px\" fill=\"#000\" opacity=\"1\">2047</text><text text-anchor=\"end\" transform=\"translate(570,7) rotate(270) translate(0,3)\" font-family=\"sans-serif\" font-size=\"10px\" fill=\"#000\" opacity=\"1\">2048</text><text text-anchor=\"end\" transform=\"translate(590,7) rotate(270) translate(0,3)\" font-family=\"sans-serif\" font-size=\"10px\" fill=\"#000\" opacity=\"1\">2049</text><text text-anchor=\"end\" transform=\"translate(610,7) rotate(270) translate(0,3)\" font-family=\"sans-serif\" font-size=\"10px\" fill=\"#000\" opacity=\"1\">2050</text><text text-anchor=\"end\" transform=\"translate(630,7) rotate(270) translate(0,3)\" font-family=\"sans-serif\" font-size=\"10px\" fill=\"#000\" opacity=\"1\">2051</text><text text-anchor=\"end\" transform=\"translate(650,7) rotate(270) translate(0,3)\" font-family=\"sans-serif\" font-size=\"10px\" fill=\"#000\" opacity=\"1\">2052</text><text text-anchor=\"end\" transform=\"translate(670,7) rotate(270) translate(0,3)\" font-family=\"sans-serif\" font-size=\"10px\" fill=\"#000\" opacity=\"1\">2053</text><text text-anchor=\"end\" transform=\"translate(690,7) rotate(270) translate(0,3)\" font-family=\"sans-serif\" font-size=\"10px\" fill=\"#000\" opacity=\"1\">2054</text><text text-anchor=\"end\" transform=\"translate(710,7) rotate(270) translate(0,3)\" font-family=\"sans-serif\" font-size=\"10px\" fill=\"#000\" opacity=\"1\">2055</text><text text-anchor=\"end\" transform=\"translate(730,7) rotate(270) translate(0,3)\" font-family=\"sans-serif\" font-size=\"10px\" fill=\"#000\" opacity=\"1\">2056</text><text text-anchor=\"end\" transform=\"translate(750,7) rotate(270) translate(0,3)\" font-family=\"sans-serif\" font-size=\"10px\" fill=\"#000\" opacity=\"1\">2057</text><text text-anchor=\"end\" transform=\"translate(770,7) rotate(270) translate(0,3)\" font-family=\"sans-serif\" font-size=\"10px\" fill=\"#000\" opacity=\"1\">2058</text><text text-anchor=\"end\" transform=\"translate(790,7) rotate(270) translate(0,3)\" font-family=\"sans-serif\" font-size=\"10px\" fill=\"#000\" opacity=\"1\">2059</text><text text-anchor=\"end\" transform=\"translate(810,7) rotate(270) translate(0,3)\" font-family=\"sans-serif\" font-size=\"10px\" fill=\"#000\" opacity=\"1\">2060</text><text text-anchor=\"end\" transform=\"translate(830,7) rotate(270) translate(0,3)\" font-family=\"sans-serif\" font-size=\"10px\" fill=\"#000\" opacity=\"1\">2061</text><text text-anchor=\"end\" transform=\"translate(850,7) rotate(270) translate(0,3)\" font-family=\"sans-serif\" font-size=\"10px\" fill=\"#000\" opacity=\"1\">2062</text><text text-anchor=\"end\" transform=\"translate(870,7) rotate(270) translate(0,3)\" font-family=\"sans-serif\" font-size=\"10px\" fill=\"#000\" opacity=\"1\">2063</text><text text-anchor=\"end\" transform=\"translate(890,7) rotate(270) translate(0,3)\" font-family=\"sans-serif\" font-size=\"10px\" fill=\"#000\" opacity=\"1\">2064</text><text text-anchor=\"end\" transform=\"translate(910,7) rotate(270) translate(0,3)\" font-family=\"sans-serif\" font-size=\"10px\" fill=\"#000\" opacity=\"1\">2065</text><text text-anchor=\"end\" transform=\"translate(930,7) rotate(270) translate(0,3)\" font-family=\"sans-serif\" font-size=\"10px\" fill=\"#000\" opacity=\"1\">2066</text><text text-anchor=\"end\" transform=\"translate(950,7) rotate(270) translate(0,3)\" font-family=\"sans-serif\" font-size=\"10px\" fill=\"#000\" opacity=\"1\">2067</text><text text-anchor=\"end\" transform=\"translate(970,7) rotate(270) translate(0,3)\" font-family=\"sans-serif\" font-size=\"10px\" fill=\"#000\" opacity=\"1\">2068</text><text text-anchor=\"end\" transform=\"translate(990,7) rotate(270) translate(0,3)\" font-family=\"sans-serif\" font-size=\"10px\" fill=\"#000\" opacity=\"1\">2069</text><text text-anchor=\"end\" transform=\"translate(1010,7) rotate(270) translate(0,3)\" font-family=\"sans-serif\" font-size=\"10px\" fill=\"#000\" opacity=\"1\">2070</text></g><g class=\"mark-rule role-axis-domain\" pointer-events=\"none\"><line transform=\"translate(0,0)\" x2=\"1020\" y2=\"0\" stroke=\"#888\" stroke-width=\"1\" opacity=\"1\"/></g><g class=\"mark-text role-axis-title\" pointer-events=\"none\"><text text-anchor=\"middle\" transform=\"translate(510,44)\" font-family=\"sans-serif\" font-size=\"11px\" font-weight=\"bold\" fill=\"#000\" opacity=\"1\">year</text></g></g><path class=\"foreground\" aria-hidden=\"true\" d=\"\" pointer-events=\"none\" display=\"none\"/></g></g><g class=\"mark-group role-axis\" role=\"graphics-symbol\" aria-roledescription=\"axis\" aria-label=\"Y-axis titled 'CO2' for a linear scale with values from −10 to 100\"><g transform=\"translate(0.5,0.5)\"><path class=\"background\" aria-hidden=\"true\" d=\"M0,0h0v0h0Z\" pointer-events=\"none\"/><g><g class=\"mark-rule role-axis-tick\" pointer-events=\"none\"><line transform=\"translate(0,182)\" x2=\"-5\" y2=\"0\" stroke=\"#888\" stroke-width=\"1\" opacity=\"1\"/><line transform=\"translate(0,145)\" x2=\"-5\" y2=\"0\" stroke=\"#888\" stroke-width=\"1\" opacity=\"1\"/><line transform=\"translate(0,109)\" x2=\"-5\" y2=\"0\" stroke=\"#888\" stroke-width=\"1\" opacity=\"1\"/><line transform=\"translate(0,73)\" x2=\"-5\" y2=\"0\" stroke=\"#888\" stroke-width=\"1\" opacity=\"1\"/><line transform=\"translate(0,36)\" x2=\"-5\" y2=\"0\" stroke=\"#888\" stroke-width=\"1\" opacity=\"1\"/><line transform=\"translate(0,0)\" x2=\"-5\" y2=\"0\" stroke=\"#888\" stroke-width=\"1\" opacity=\"1\"/></g><g class=\"mark-text role-axis-label\" pointer-events=\"none\"><text text-anchor=\"end\" transform=\"translate(-7,184.8181818181818)\" font-family=\"sans-serif\" font-size=\"10px\" fill=\"#000\" opacity=\"1\">0</text><text text-anchor=\"end\" transform=\"translate(-7,148.45454545454547)\" font-family=\"sans-serif\" font-size=\"10px\" fill=\"#000\" opacity=\"1\">20</text><text text-anchor=\"end\" transform=\"translate(-7,112.09090909090908)\" font-family=\"sans-serif\" font-size=\"10px\" fill=\"#000\" opacity=\"1\">40</text><text text-anchor=\"end\" transform=\"translate(-7,75.72727272727273)\" font-family=\"sans-serif\" font-size=\"10px\" fill=\"#000\" opacity=\"1\">60</text><text text-anchor=\"end\" transform=\"translate(-7,39.36363636363635)\" font-family=\"sans-serif\" font-size=\"10px\" fill=\"#000\" opacity=\"1\">80</text><text text-anchor=\"end\" transform=\"translate(-7,3)\" font-family=\"sans-serif\" font-size=\"10px\" fill=\"#000\" opacity=\"1\">100</text></g><g class=\"mark-rule role-axis-domain\" pointer-events=\"none\"><line transform=\"translate(0,200)\" x2=\"0\" y2=\"-200\" stroke=\"#888\" stroke-width=\"1\" opacity=\"1\"/></g><g class=\"mark-text role-axis-title\" pointer-events=\"none\"><text text-anchor=\"middle\" transform=\"translate(-29,100) rotate(-90) translate(0,-2)\" font-family=\"sans-serif\" font-size=\"11px\" font-weight=\"bold\" fill=\"#000\" opacity=\"1\">CO2</text></g></g><path class=\"foreground\" aria-hidden=\"true\" d=\"\" pointer-events=\"none\" display=\"none\"/></g></g><g class=\"mark-group role-scope pathgroup\" role=\"graphics-object\" aria-roledescription=\"group mark container\"><g transform=\"translate(0,0)\"><path class=\"background\" aria-hidden=\"true\" d=\"M0,0h1020v200h-1020Z\"/><g><g class=\"mark-area role-mark marks\" role=\"graphics-object\" aria-roledescription=\"area mark container\"><path aria-label=\"year: 2020; CO2: 100; variable: conv\" role=\"graphics-symbol\" aria-roledescription=\"area mark\" d=\"M10,0L30,113.63636363636363L50,113.63636363636363L70,113.63636363636363L90,113.63636363636363L110,113.63636363636363L130,113.63636363636363L150,113.63636363636363L170,113.63636363636363L190,113.63636363636363L210,111.36363636363637L230,111.36363636363637L250,111.36363636363637L270,111.36363636363637L290,111.36363636363637L310,111.36363636363633L330,111.36363636363633L350,111.36363636363633L370,111.36363636363633L390,111.36363636363633L410,111.36363636363637L430,111.36363636363637L450,111.36363636363637L470,111.36363636363637L490,111.36363636363637L510,181.8181818181819L530,181.8181818181819L550,181.8181818181819L570,181.8181818181819L590,181.8181818181819L610,181.8181818181819L630,181.8181818181819L650,181.8181818181819L670,181.8181818181819L690,181.8181818181819L710,181.8181818181819L730,181.8181818181819L750,181.8181818181819L770,181.8181818181819L790,181.8181818181819L810,181.8181818181819L830,181.8181818181819L850,181.8181818181819L870,181.8181818181819L890,181.8181818181819L910,181.8181818181819L930,181.8181818181819L950,181.8181818181819L970,181.8181818181819L990,181.8181818181819L1010,181.8181818181819L1010,181.8181818181818L990,181.8181818181818L970,181.8181818181818L950,181.8181818181818L930,181.8181818181818L910,181.8181818181818L890,181.8181818181818L870,181.8181818181818L850,181.8181818181818L830,181.8181818181818L810,181.8181818181818L790,181.8181818181818L770,181.8181818181818L750,181.8181818181818L730,181.8181818181818L710,181.8181818181818L690,181.8181818181818L670,181.8181818181818L650,181.8181818181818L630,181.8181818181818L610,181.8181818181818L590,181.8181818181818L570,181.8181818181818L550,181.8181818181818L530,181.8181818181818L510,181.8181818181818L490,111.36363636363637L470,111.36363636363637L450,111.36363636363637L430,111.36363636363637L410,111.36363636363637L390,111.36363636363633L370,111.36363636363633L350,111.36363636363633L330,111.36363636363633L310,111.36363636363633L290,111.36363636363637L270,111.36363636363637L250,111.36363636363637L230,111.36363636363637L210,111.36363636363637L190,113.63636363636363L170,113.63636363636363L150,113.63636363636363L130,113.63636363636363L110,113.63636363636363L90,113.63636363636363L70,113.63636363636363L50,113.63636363636363L30,113.63636363636363L10,181.8181818181818Z\" fill=\"#4c78a8\"/></g></g><path class=\"foreground\" aria-hidden=\"true\" d=\"\" display=\"none\"/></g><g transform=\"translate(0,0)\"><path class=\"background\" aria-hidden=\"true\" d=\"M0,0h1020v200h-1020Z\"/><g><g class=\"mark-area role-mark marks\" role=\"graphics-object\" aria-roledescription=\"area mark container\"><path aria-label=\"year: 2020; CO2: 0; variable: inn1\" role=\"graphics-symbol\" aria-roledescription=\"area mark\" d=\"M10,181.8181818181818L30,113.63636363636363L50,113.63636363636363L70,113.63636363636363L90,113.63636363636363L110,113.63636363636363L130,113.63636363636363L150,113.63636363636363L170,113.63636363636363L190,113.63636363636363L210,111.36363636363637L230,111.36363636363637L250,111.36363636363637L270,111.36363636363637L290,111.36363636363637L310,111.36363636363633L330,111.36363636363633L350,111.36363636363633L370,111.36363636363633L390,111.36363636363633L410,111.36363636363637L430,111.36363636363637L450,111.36363636363637L470,111.36363636363637L490,111.36363636363637L510,109.71914264597189L530,109.71914264597189L550,109.71914264597189L570,109.71914264597189L590,109.71914264597189L610,109.71914264597189L630,109.71914264597189L650,109.71914264597189L670,109.71914264597189L690,109.71914264597189L710,109.71914264597189L730,109.71914264597189L750,109.71914264597189L770,109.71914264597189L790,109.71914264597189L810,109.71914264597189L830,109.71914264597189L850,109.71914264597189L870,109.71914264597189L890,109.71914264597189L910,109.71914264597189L930,109.71914264597189L950,109.71914264597189L970,109.71914264597189L990,109.71914264597189L1010,109.71914264597189L1010,109.71914264597189L990,109.71914264597189L970,109.71914264597189L950,109.71914264597189L930,109.71914264597189L910,109.71914264597189L890,109.71914264597189L870,109.71914264597189L850,109.71914264597189L830,109.71914264597189L810,109.71914264597189L790,109.71914264597189L770,109.71914264597189L750,109.71914264597189L730,109.71914264597189L710,109.71914264597189L690,109.71914264597189L670,109.71914264597189L650,109.71914264597189L630,109.71914264597189L610,109.71914264597189L590,109.71914264597189L570,109.71914264597189L550,109.71914264597189L530,109.71914264597189L510,109.71914264597189L490,111.36363636363637L470,111.36363636363637L450,111.36363636363637L430,111.36363636363637L410,111.36363636363637L390,111.36363636363633L370,111.36363636363633L350,111.36363636363633L330,111.36363636363633L310,111.36363636363633L290,111.36363636363637L270,111.36363636363637L250,111.36363636363637L230,111.36363636363637L210,111.36363636363637L190,113.63636363636363L170,113.63636363636363L150,113.63636363636363L130,113.63636363636363L110,113.63636363636363L90,113.63636363636363L70,113.63636363636363L50,113.63636363636363L30,113.63636363636363L10,181.8181818181818Z\" fill=\"#f58518\"/></g></g><path class=\"foreground\" aria-hidden=\"true\" d=\"\" display=\"none\"/></g><g transform=\"translate(0,0)\"><path class=\"background\" aria-hidden=\"true\" d=\"M0,0h1020v200h-1020Z\"/><g><g class=\"mark-area role-mark marks\" role=\"graphics-object\" aria-roledescription=\"area mark container\"><path aria-label=\"year: 2020; CO2: 0; variable: inn2\" role=\"graphics-symbol\" aria-roledescription=\"area mark\" d=\"M10,181.8181818181818L30,113.63636363636363L50,113.63636363636363L70,113.63636363636363L90,113.63636363636363L110,113.63636363636363L130,113.63636363636363L150,113.63636363636363L170,113.63636363636363L190,113.63636363636363L210,111.36363636363637L230,111.36363636363637L250,111.36363636363637L270,111.36363636363637L290,111.36363636363637L310,111.36363636363633L330,111.36363636363633L350,111.36363636363633L370,111.36363636363633L390,111.36363636363633L410,111.36363636363637L430,111.36363636363637L450,111.36363636363637L470,111.36363636363637L490,111.36363636363637L510,109.71914264597189L530,109.71914264597189L550,109.71914264597189L570,109.71914264597189L590,109.71914264597189L610,109.71914264597189L630,109.71914264597189L650,109.71914264597189L670,109.71914264597189L690,109.71914264597189L710,109.71914264597189L730,109.71914264597189L750,109.71914264597189L770,109.71914264597189L790,109.71914264597189L810,109.71914264597189L830,109.71914264597189L850,109.71914264597189L870,109.71914264597189L890,109.71914264597189L910,109.71914264597189L930,109.71914264597189L950,109.71914264597189L970,109.71914264597189L990,109.71914264597189L1010,109.71914264597189L1010,109.71914264597189L990,109.71914264597189L970,109.71914264597189L950,109.71914264597189L930,109.71914264597189L910,109.71914264597189L890,109.71914264597189L870,109.71914264597189L850,109.71914264597189L830,109.71914264597189L810,109.71914264597189L790,109.71914264597189L770,109.71914264597189L750,109.71914264597189L730,109.71914264597189L710,109.71914264597189L690,109.71914264597189L670,109.71914264597189L650,109.71914264597189L630,109.71914264597189L610,109.71914264597189L590,109.71914264597189L570,109.71914264597189L550,109.71914264597189L530,109.71914264597189L510,109.71914264597189L490,111.36363636363637L470,111.36363636363637L450,111.36363636363637L430,111.36363636363637L410,111.36363636363637L390,111.36363636363633L370,111.36363636363633L350,111.36363636363633L330,111.36363636363633L310,111.36363636363633L290,111.36363636363637L270,111.36363636363637L250,111.36363636363637L230,111.36363636363637L210,111.36363636363637L190,113.63636363636363L170,113.63636363636363L150,113.63636363636363L130,113.63636363636363L110,113.63636363636363L90,113.63636363636363L70,113.63636363636363L50,113.63636363636363L30,113.63636363636363L10,181.8181818181818Z\" fill=\"#e45756\"/></g></g><path class=\"foreground\" aria-hidden=\"true\" d=\"\" display=\"none\"/></g><g transform=\"translate(0,0)\"><path class=\"background\" aria-hidden=\"true\" d=\"M0,0h1020v200h-1020Z\"/><g><g class=\"mark-area role-mark marks\" role=\"graphics-object\" aria-roledescription=\"area mark container\"><path aria-label=\"year: 2020; CO2: 0; variable: inn3\" role=\"graphics-symbol\" aria-roledescription=\"area mark\" d=\"M10,181.8181818181818L30,113.63636363636363L50,113.63636363636363L70,113.63636363636363L90,113.63636363636363L110,113.63636363636363L130,113.63636363636363L150,113.63636363636363L170,113.63636363636363L190,113.63636363636363L210,111.36363636363637L230,111.36363636363637L250,111.36363636363637L270,111.36363636363637L290,111.36363636363637L310,111.36363636363633L330,111.36363636363633L350,111.36363636363633L370,111.36363636363633L390,111.36363636363633L410,111.36363636363637L430,111.36363636363637L450,111.36363636363637L470,111.36363636363637L490,111.36363636363637L510,109.71914264597189L530,109.71914264597189L550,109.71914264597189L570,109.71914264597189L590,109.71914264597189L610,109.71914264597189L630,109.71914264597189L650,109.71914264597189L670,109.71914264597189L690,109.71914264597189L710,109.71914264597189L730,109.71914264597189L750,109.71914264597189L770,109.71914264597189L790,109.71914264597189L810,109.71914264597189L830,109.71914264597189L850,109.71914264597189L870,109.71914264597189L890,109.71914264597189L910,109.71914264597189L930,109.71914264597189L950,109.71914264597189L970,109.71914264597189L990,109.71914264597189L1010,109.71914264597189L1010,124.16851441241685L990,124.16851441241685L970,124.16851441241685L950,124.16851441241685L930,124.16851441241685L910,124.16851441241685L890,124.16851441241685L870,124.16851441241685L850,124.16851441241685L830,124.16851441241685L810,124.16851441241685L790,124.16851441241685L770,124.16851441241685L750,124.16851441241685L730,124.16851441241685L710,124.16851441241685L690,124.16851441241685L670,124.16851441241685L650,124.16851441241685L630,124.16851441241685L610,124.16851441241685L590,124.16851441241685L570,124.16851441241685L550,124.16851441241685L530,124.16851441241685L510,124.16851441241685L490,130.68181818181816L470,130.68181818181816L450,130.68181818181816L430,130.68181818181816L410,130.68181818181816L390,130.68181818181836L370,130.68181818181836L350,130.68181818181836L330,130.68181818181836L310,130.68181818181836L290,130.68181818181816L270,130.68181818181816L250,130.68181818181816L230,130.68181818181816L210,130.68181818181816L190,113.63636363636363L170,113.63636363636363L150,113.63636363636363L130,113.63636363636363L110,113.63636363636363L90,113.63636363636363L70,113.63636363636363L50,113.63636363636363L30,113.63636363636363L10,181.8181818181818Z\" fill=\"#72b7b2\"/></g></g><path class=\"foreground\" aria-hidden=\"true\" d=\"\" display=\"none\"/></g><g transform=\"translate(0,0)\"><path class=\"background\" aria-hidden=\"true\" d=\"M0,0h1020v200h-1020Z\"/><g><g class=\"mark-area role-mark marks\" role=\"graphics-object\" aria-roledescription=\"area mark container\"><path aria-label=\"year: 2020; CO2: 0; variable: inn4\" role=\"graphics-symbol\" aria-roledescription=\"area mark\" d=\"M10,181.8181818181818L30,113.63636363636363L50,113.63636363636363L70,113.63636363636363L90,113.63636363636363L110,113.63636363636363L130,113.63636363636363L150,113.63636363636363L170,113.63636363636363L190,113.63636363636363L210,130.68181818181816L230,130.68181818181816L250,130.68181818181816L270,130.68181818181816L290,130.68181818181816L310,130.68181818181836L330,130.68181818181836L350,130.68181818181836L370,130.68181818181836L390,130.68181818181836L410,130.68181818181816L430,130.68181818181816L450,130.68181818181816L470,130.68181818181816L490,130.68181818181816L510,124.16851441241685L530,124.16851441241685L550,124.16851441241685L570,124.16851441241685L590,124.16851441241685L610,124.16851441241685L630,124.16851441241685L650,124.16851441241685L670,124.16851441241685L690,124.16851441241685L710,124.16851441241685L730,124.16851441241685L750,124.16851441241685L770,124.16851441241685L790,124.16851441241685L810,124.16851441241685L830,124.16851441241685L850,124.16851441241685L870,124.16851441241685L890,124.16851441241685L910,124.16851441241685L930,124.16851441241685L950,124.16851441241685L970,124.16851441241685L990,124.16851441241685L1010,124.16851441241685L1010,181.8181818181818L990,181.8181818181818L970,181.8181818181818L950,181.8181818181818L930,181.8181818181818L910,181.8181818181818L890,181.8181818181818L870,181.8181818181818L850,181.8181818181818L830,181.8181818181818L810,181.8181818181818L790,181.8181818181818L770,181.8181818181818L750,181.8181818181818L730,181.8181818181818L710,181.8181818181818L690,181.8181818181818L670,181.8181818181818L650,181.8181818181818L630,181.8181818181818L610,181.8181818181818L590,181.8181818181818L570,181.8181818181818L550,181.8181818181818L530,181.8181818181818L510,181.8181818181818L490,181.8181818181818L470,181.8181818181818L450,181.8181818181818L430,181.8181818181818L410,181.8181818181818L390,181.8181818181818L370,181.8181818181818L350,181.8181818181818L330,181.8181818181818L310,181.8181818181818L290,181.8181818181818L270,181.8181818181818L250,181.8181818181818L230,181.8181818181818L210,181.8181818181818L190,181.8181818181818L170,181.8181818181818L150,181.8181818181818L130,181.8181818181818L110,181.8181818181818L90,181.8181818181818L70,181.8181818181818L50,181.8181818181818L30,181.8181818181818L10,181.8181818181818Z\" fill=\"#54a24b\"/></g></g><path class=\"foreground\" aria-hidden=\"true\" d=\"\" display=\"none\"/></g><g transform=\"translate(0,0)\"><path class=\"background\" aria-hidden=\"true\" d=\"M0,0h1020v200h-1020Z\"/><g><g class=\"mark-area role-mark marks\" role=\"graphics-object\" aria-roledescription=\"area mark container\"><path aria-label=\"year: 2020; CO2: 0; variable: inn5\" role=\"graphics-symbol\" aria-roledescription=\"area mark\" d=\"M10,181.8181818181818L30,181.8181818181818L50,181.8181818181818L70,181.8181818181818L90,181.8181818181818L110,181.8181818181818L130,181.8181818181818L150,181.8181818181818L170,181.8181818181818L190,181.8181818181818L210,181.8181818181818L230,181.8181818181818L250,181.8181818181818L270,181.8181818181818L290,181.8181818181818L310,181.8181818181818L330,181.8181818181818L350,181.8181818181818L370,181.8181818181818L390,181.8181818181818L410,181.8181818181818L430,181.8181818181818L450,181.8181818181818L470,181.8181818181818L490,181.8181818181818L510,181.8181818181818L530,181.8181818181818L550,181.8181818181818L570,181.8181818181818L590,181.8181818181818L610,181.8181818181818L630,181.8181818181818L650,181.8181818181818L670,181.8181818181818L690,181.8181818181818L710,181.8181818181818L730,181.8181818181818L750,181.8181818181818L770,181.8181818181818L790,181.8181818181818L810,181.8181818181818L830,181.8181818181818L850,181.8181818181818L870,181.8181818181818L890,181.8181818181818L910,181.8181818181818L930,181.8181818181818L950,181.8181818181818L970,181.8181818181818L990,181.8181818181818L1010,181.8181818181818L1010,181.8181818181818L990,181.8181818181818L970,181.8181818181818L950,181.8181818181818L930,181.8181818181818L910,181.8181818181818L890,181.8181818181818L870,181.8181818181818L850,181.8181818181818L830,181.8181818181818L810,181.8181818181818L790,181.8181818181818L770,181.8181818181818L750,181.8181818181818L730,181.8181818181818L710,181.8181818181818L690,181.8181818181818L670,181.8181818181818L650,181.8181818181818L630,181.8181818181818L610,181.8181818181818L590,181.8181818181818L570,181.8181818181818L550,181.8181818181818L530,181.8181818181818L510,181.8181818181818L490,181.8181818181818L470,181.8181818181818L450,181.8181818181818L430,181.8181818181818L410,181.8181818181818L390,181.8181818181818L370,181.8181818181818L350,181.8181818181818L330,181.8181818181818L310,181.8181818181818L290,181.8181818181818L270,181.8181818181818L250,181.8181818181818L230,181.8181818181818L210,181.8181818181818L190,181.8181818181818L170,181.8181818181818L150,181.8181818181818L130,181.8181818181818L110,181.8181818181818L90,181.8181818181818L70,181.8181818181818L50,181.8181818181818L30,181.8181818181818L10,181.8181818181818Z\" fill=\"#eeca3b\"/></g></g><path class=\"foreground\" aria-hidden=\"true\" d=\"\" display=\"none\"/></g></g><g class=\"mark-group role-legend\" role=\"graphics-symbol\" aria-roledescription=\"legend\" aria-label=\"Symbol legend titled 'variable' for fill color with 6 values: conv, inn1, inn2, inn3, inn4, inn5\"><g transform=\"translate(1038,0)\"><path class=\"background\" aria-hidden=\"true\" d=\"M0,0h49v92h-49Z\" pointer-events=\"none\"/><g><g class=\"mark-group role-legend-entry\"><g transform=\"translate(0,16)\"><path class=\"background\" aria-hidden=\"true\" d=\"M0,0h0v0h0Z\" pointer-events=\"none\"/><g><g class=\"mark-group role-scope\" role=\"graphics-object\" aria-roledescription=\"group mark container\"><g transform=\"translate(0,0)\"><path class=\"background\" aria-hidden=\"true\" d=\"M0,0h40v11h-40Z\" pointer-events=\"none\" opacity=\"1\"/><g><g class=\"mark-symbol role-legend-symbol\" pointer-events=\"none\"><path transform=\"translate(6,6)\" d=\"M5,0A5,5,0,1,1,-5,0A5,5,0,1,1,5,0\" fill=\"#4c78a8\" stroke-width=\"1.5\" opacity=\"1\"/></g><g class=\"mark-text role-legend-label\" pointer-events=\"none\"><text text-anchor=\"start\" transform=\"translate(16,9)\" font-family=\"sans-serif\" font-size=\"10px\" fill=\"#000\" opacity=\"1\">conv</text></g></g><path class=\"foreground\" aria-hidden=\"true\" d=\"\" pointer-events=\"none\" display=\"none\"/></g><g transform=\"translate(0,13)\"><path class=\"background\" aria-hidden=\"true\" d=\"M0,0h40v11h-40Z\" pointer-events=\"none\" opacity=\"1\"/><g><g class=\"mark-symbol role-legend-symbol\" pointer-events=\"none\"><path transform=\"translate(6,6)\" d=\"M5,0A5,5,0,1,1,-5,0A5,5,0,1,1,5,0\" fill=\"#f58518\" stroke-width=\"1.5\" opacity=\"1\"/></g><g class=\"mark-text role-legend-label\" pointer-events=\"none\"><text text-anchor=\"start\" transform=\"translate(16,9)\" font-family=\"sans-serif\" font-size=\"10px\" fill=\"#000\" opacity=\"1\">inn1</text></g></g><path class=\"foreground\" aria-hidden=\"true\" d=\"\" pointer-events=\"none\" display=\"none\"/></g><g transform=\"translate(0,26)\"><path class=\"background\" aria-hidden=\"true\" d=\"M0,0h40v11h-40Z\" pointer-events=\"none\" opacity=\"1\"/><g><g class=\"mark-symbol role-legend-symbol\" pointer-events=\"none\"><path transform=\"translate(6,6)\" d=\"M5,0A5,5,0,1,1,-5,0A5,5,0,1,1,5,0\" fill=\"#e45756\" stroke-width=\"1.5\" opacity=\"1\"/></g><g class=\"mark-text role-legend-label\" pointer-events=\"none\"><text text-anchor=\"start\" transform=\"translate(16,9)\" font-family=\"sans-serif\" font-size=\"10px\" fill=\"#000\" opacity=\"1\">inn2</text></g></g><path class=\"foreground\" aria-hidden=\"true\" d=\"\" pointer-events=\"none\" display=\"none\"/></g><g transform=\"translate(0,39)\"><path class=\"background\" aria-hidden=\"true\" d=\"M0,0h40v11h-40Z\" pointer-events=\"none\" opacity=\"1\"/><g><g class=\"mark-symbol role-legend-symbol\" pointer-events=\"none\"><path transform=\"translate(6,6)\" d=\"M5,0A5,5,0,1,1,-5,0A5,5,0,1,1,5,0\" fill=\"#72b7b2\" stroke-width=\"1.5\" opacity=\"1\"/></g><g class=\"mark-text role-legend-label\" pointer-events=\"none\"><text text-anchor=\"start\" transform=\"translate(16,9)\" font-family=\"sans-serif\" font-size=\"10px\" fill=\"#000\" opacity=\"1\">inn3</text></g></g><path class=\"foreground\" aria-hidden=\"true\" d=\"\" pointer-events=\"none\" display=\"none\"/></g><g transform=\"translate(0,52)\"><path class=\"background\" aria-hidden=\"true\" d=\"M0,0h40v11h-40Z\" pointer-events=\"none\" opacity=\"1\"/><g><g class=\"mark-symbol role-legend-symbol\" pointer-events=\"none\"><path transform=\"translate(6,6)\" d=\"M5,0A5,5,0,1,1,-5,0A5,5,0,1,1,5,0\" fill=\"#54a24b\" stroke-width=\"1.5\" opacity=\"1\"/></g><g class=\"mark-text role-legend-label\" pointer-events=\"none\"><text text-anchor=\"start\" transform=\"translate(16,9)\" font-family=\"sans-serif\" font-size=\"10px\" fill=\"#000\" opacity=\"1\">inn4</text></g></g><path class=\"foreground\" aria-hidden=\"true\" d=\"\" pointer-events=\"none\" display=\"none\"/></g><g transform=\"translate(0,65)\"><path class=\"background\" aria-hidden=\"true\" d=\"M0,0h40v11h-40Z\" pointer-events=\"none\" opacity=\"1\"/><g><g class=\"mark-symbol role-legend-symbol\" pointer-events=\"none\"><path transform=\"translate(6,6)\" d=\"M5,0A5,5,0,1,1,-5,0A5,5,0,1,1,5,0\" fill=\"#eeca3b\" stroke-width=\"1.5\" opacity=\"1\"/></g><g class=\"mark-text role-legend-label\" pointer-events=\"none\"><text text-anchor=\"start\" transform=\"translate(16,9)\" font-family=\"sans-serif\" font-size=\"10px\" fill=\"#000\" opacity=\"1\">inn5</text></g></g><path class=\"foreground\" aria-hidden=\"true\" d=\"\" pointer-events=\"none\" display=\"none\"/></g></g></g><path class=\"foreground\" aria-hidden=\"true\" d=\"\" pointer-events=\"none\" display=\"none\"/></g></g><g class=\"mark-text role-legend-title\" pointer-events=\"none\"><text text-anchor=\"start\" transform=\"translate(0,9)\" font-family=\"sans-serif\" font-size=\"11px\" font-weight=\"bold\" fill=\"#000\" opacity=\"1\">variable</text></g></g><path class=\"foreground\" aria-hidden=\"true\" d=\"\" pointer-events=\"none\" display=\"none\"/></g></g></g><path class=\"foreground\" aria-hidden=\"true\" d=\"\" display=\"none\"/></g></g></g></svg>\n"
      ],
      "text/plain": [
       "@vlplot(\n",
       "    legend=\"sNames\",\n",
       "    mark=\"area\",\n",
       "    encoding={\n",
       "        x={\n",
       "            field=\"year\"\n",
       "        },\n",
       "        y={\n",
       "            stack=\"zero\",\n",
       "            title=\"CO2\",\n",
       "            field=\"value\"\n",
       "        },\n",
       "        color={\n",
       "            field=\"variable\",\n",
       "            type=\"nominal\"\n",
       "        }\n",
       "    },\n",
       "    data={\n",
       "        values=...\n",
       "    }\n",
       ")"
      ]
     },
     "execution_count": 75,
     "metadata": {},
     "output_type": "execute_result"
    }
   ],
   "source": [
    "function conventional(t)\n",
    "    return initial[1,3]*(1-sum(JuMP.values.(xk)[k,t] for k in 1:nrow(compromise)))\n",
    "end\n",
    "\n",
    "function innovation(i,t)\n",
    "    if i==1\n",
    "        return sum(JuMP.values.(xk)[k,t]*(compromise[k,3]) for k=1:mapki[i,2])\n",
    "    else\n",
    "        return sum(JuMP.values.(xk)[k,t]*(compromise[k,3]) for k=mapki[i-1,2]:mapki[i,2])\n",
    "    end\n",
    "end\n",
    "\n",
    "conv=zeros(51)\n",
    "\n",
    "conv[1]=initial[1,3]\n",
    "inn_co2=zeros(5,51)\n",
    "\n",
    "for inn in 1:5\n",
    "    inn_co2[inn,1]=0\n",
    "end\n",
    "j=0\n",
    "for i in 2:51\n",
    "    if 0 ≤ i ≤ 5\n",
    "        j=1\n",
    "    elseif 6 ≤ i ≤ 10\n",
    "        j=2\n",
    "    elseif 6 ≤ i ≤ 10\n",
    "        j=3\n",
    "    elseif 11 ≤ i ≤ 15\n",
    "        j=4\n",
    "    elseif 16 ≤ i ≤ 20\n",
    "        j=5\n",
    "    elseif 21 ≤ i ≤ 25\n",
    "        j=6\n",
    "    else\n",
    "        j=7\n",
    "    end\n",
    "        \n",
    "    conv[i]=conventional(j)\n",
    "    for inn in 1:5\n",
    "        inn_co2[inn,i]=innovation(inn,j)\n",
    "    end\n",
    "end\n",
    "conv\n",
    "\n",
    "sNames = [\"conv\",\"inn1\",\"inn2\",\"inn3\",\"inn4\",\"inn5\"]\n",
    "xLabels = []\n",
    "for i in 2020:2070\n",
    "    push!(xLabels,string(i))\n",
    "end\n",
    "\n",
    "df = DataFrame(year=xLabels, conv=conv, inn1=inn_co2[1,:],inn2=inn_co2[2,:],inn3=inn_co2[3,:],inn4=inn_co2[4,:],inn5=inn_co2[5,:])\n",
    "\n",
    "df |> stack |> @vlplot(:area, x=:year, y={:value, stack=:zero, title=\"CO2\"}, color=\"variable:n\",legend=:sNames) "
   ]
  },
  {
   "cell_type": "code",
   "execution_count": 76,
   "id": "3645b8d1",
   "metadata": {},
   "outputs": [
    {
     "data": {
      "application/vnd.vegalite.v4+json": {
       "data": {
        "values": [
         {
          "value": 0.12,
          "variable": "conv",
          "year": "2020"
         },
         {
          "value": 0,
          "variable": "conv",
          "year": "2021"
         },
         {
          "value": 0,
          "variable": "conv",
          "year": "2022"
         },
         {
          "value": 0,
          "variable": "conv",
          "year": "2023"
         },
         {
          "value": 0,
          "variable": "conv",
          "year": "2024"
         },
         {
          "value": 0,
          "variable": "conv",
          "year": "2025"
         },
         {
          "value": 0,
          "variable": "conv",
          "year": "2026"
         },
         {
          "value": 0,
          "variable": "conv",
          "year": "2027"
         },
         {
          "value": 0,
          "variable": "conv",
          "year": "2028"
         },
         {
          "value": 0,
          "variable": "conv",
          "year": "2029"
         },
         {
          "value": 0,
          "variable": "conv",
          "year": "2030"
         },
         {
          "value": 0,
          "variable": "conv",
          "year": "2031"
         },
         {
          "value": 0,
          "variable": "conv",
          "year": "2032"
         },
         {
          "value": 0,
          "variable": "conv",
          "year": "2033"
         },
         {
          "value": 0,
          "variable": "conv",
          "year": "2034"
         },
         {
          "value": 0,
          "variable": "conv",
          "year": "2035"
         },
         {
          "value": 0,
          "variable": "conv",
          "year": "2036"
         },
         {
          "value": 0,
          "variable": "conv",
          "year": "2037"
         },
         {
          "value": 0,
          "variable": "conv",
          "year": "2038"
         },
         {
          "value": 0,
          "variable": "conv",
          "year": "2039"
         },
         {
          "value": 0,
          "variable": "conv",
          "year": "2040"
         },
         {
          "value": 0,
          "variable": "conv",
          "year": "2041"
         },
         {
          "value": 0,
          "variable": "conv",
          "year": "2042"
         },
         {
          "value": 0,
          "variable": "conv",
          "year": "2043"
         },
         {
          "value": 0,
          "variable": "conv",
          "year": "2044"
         },
         {
          "value": -5.329070518200751e-17,
          "variable": "conv",
          "year": "2045"
         },
         {
          "value": -5.329070518200751e-17,
          "variable": "conv",
          "year": "2046"
         },
         {
          "value": -5.329070518200751e-17,
          "variable": "conv",
          "year": "2047"
         },
         {
          "value": -5.329070518200751e-17,
          "variable": "conv",
          "year": "2048"
         },
         {
          "value": -5.329070518200751e-17,
          "variable": "conv",
          "year": "2049"
         },
         {
          "value": -5.329070518200751e-17,
          "variable": "conv",
          "year": "2050"
         },
         {
          "value": -5.329070518200751e-17,
          "variable": "conv",
          "year": "2051"
         },
         {
          "value": -5.329070518200751e-17,
          "variable": "conv",
          "year": "2052"
         },
         {
          "value": -5.329070518200751e-17,
          "variable": "conv",
          "year": "2053"
         },
         {
          "value": -5.329070518200751e-17,
          "variable": "conv",
          "year": "2054"
         },
         {
          "value": -5.329070518200751e-17,
          "variable": "conv",
          "year": "2055"
         },
         {
          "value": -5.329070518200751e-17,
          "variable": "conv",
          "year": "2056"
         },
         {
          "value": -5.329070518200751e-17,
          "variable": "conv",
          "year": "2057"
         },
         {
          "value": -5.329070518200751e-17,
          "variable": "conv",
          "year": "2058"
         },
         {
          "value": -5.329070518200751e-17,
          "variable": "conv",
          "year": "2059"
         },
         {
          "value": -5.329070518200751e-17,
          "variable": "conv",
          "year": "2060"
         },
         {
          "value": -5.329070518200751e-17,
          "variable": "conv",
          "year": "2061"
         },
         {
          "value": -5.329070518200751e-17,
          "variable": "conv",
          "year": "2062"
         },
         {
          "value": -5.329070518200751e-17,
          "variable": "conv",
          "year": "2063"
         },
         {
          "value": -5.329070518200751e-17,
          "variable": "conv",
          "year": "2064"
         },
         {
          "value": -5.329070518200751e-17,
          "variable": "conv",
          "year": "2065"
         },
         {
          "value": -5.329070518200751e-17,
          "variable": "conv",
          "year": "2066"
         },
         {
          "value": -5.329070518200751e-17,
          "variable": "conv",
          "year": "2067"
         },
         {
          "value": -5.329070518200751e-17,
          "variable": "conv",
          "year": "2068"
         },
         {
          "value": -5.329070518200751e-17,
          "variable": "conv",
          "year": "2069"
         },
         {
          "value": -5.329070518200751e-17,
          "variable": "conv",
          "year": "2070"
         },
         {
          "value": 0,
          "variable": "inn1",
          "year": "2020"
         },
         {
          "value": 0,
          "variable": "inn1",
          "year": "2021"
         },
         {
          "value": 0,
          "variable": "inn1",
          "year": "2022"
         },
         {
          "value": 0,
          "variable": "inn1",
          "year": "2023"
         },
         {
          "value": 0,
          "variable": "inn1",
          "year": "2024"
         },
         {
          "value": 0,
          "variable": "inn1",
          "year": "2025"
         },
         {
          "value": 0,
          "variable": "inn1",
          "year": "2026"
         },
         {
          "value": 0,
          "variable": "inn1",
          "year": "2027"
         },
         {
          "value": 0,
          "variable": "inn1",
          "year": "2028"
         },
         {
          "value": 0,
          "variable": "inn1",
          "year": "2029"
         },
         {
          "value": 0,
          "variable": "inn1",
          "year": "2030"
         },
         {
          "value": 0,
          "variable": "inn1",
          "year": "2031"
         },
         {
          "value": 0,
          "variable": "inn1",
          "year": "2032"
         },
         {
          "value": 0,
          "variable": "inn1",
          "year": "2033"
         },
         {
          "value": 0,
          "variable": "inn1",
          "year": "2034"
         },
         {
          "value": 0,
          "variable": "inn1",
          "year": "2035"
         },
         {
          "value": 0,
          "variable": "inn1",
          "year": "2036"
         },
         {
          "value": 0,
          "variable": "inn1",
          "year": "2037"
         },
         {
          "value": 0,
          "variable": "inn1",
          "year": "2038"
         },
         {
          "value": 0,
          "variable": "inn1",
          "year": "2039"
         },
         {
          "value": 0,
          "variable": "inn1",
          "year": "2040"
         },
         {
          "value": 0,
          "variable": "inn1",
          "year": "2041"
         },
         {
          "value": 0,
          "variable": "inn1",
          "year": "2042"
         },
         {
          "value": 0,
          "variable": "inn1",
          "year": "2043"
         },
         {
          "value": 0,
          "variable": "inn1",
          "year": "2044"
         },
         {
          "value": 0,
          "variable": "inn1",
          "year": "2045"
         },
         {
          "value": 0,
          "variable": "inn1",
          "year": "2046"
         },
         {
          "value": 0,
          "variable": "inn1",
          "year": "2047"
         },
         {
          "value": 0,
          "variable": "inn1",
          "year": "2048"
         },
         {
          "value": 0,
          "variable": "inn1",
          "year": "2049"
         },
         {
          "value": 0,
          "variable": "inn1",
          "year": "2050"
         },
         {
          "value": 0,
          "variable": "inn1",
          "year": "2051"
         },
         {
          "value": 0,
          "variable": "inn1",
          "year": "2052"
         },
         {
          "value": 0,
          "variable": "inn1",
          "year": "2053"
         },
         {
          "value": 0,
          "variable": "inn1",
          "year": "2054"
         },
         {
          "value": 0,
          "variable": "inn1",
          "year": "2055"
         },
         {
          "value": 0,
          "variable": "inn1",
          "year": "2056"
         },
         {
          "value": 0,
          "variable": "inn1",
          "year": "2057"
         },
         {
          "value": 0,
          "variable": "inn1",
          "year": "2058"
         },
         {
          "value": 0,
          "variable": "inn1",
          "year": "2059"
         },
         {
          "value": 0,
          "variable": "inn1",
          "year": "2060"
         },
         {
          "value": 0,
          "variable": "inn1",
          "year": "2061"
         },
         {
          "value": 0,
          "variable": "inn1",
          "year": "2062"
         },
         {
          "value": 0,
          "variable": "inn1",
          "year": "2063"
         },
         {
          "value": 0,
          "variable": "inn1",
          "year": "2064"
         },
         {
          "value": 0,
          "variable": "inn1",
          "year": "2065"
         },
         {
          "value": 0,
          "variable": "inn1",
          "year": "2066"
         },
         {
          "value": 0,
          "variable": "inn1",
          "year": "2067"
         },
         {
          "value": 0,
          "variable": "inn1",
          "year": "2068"
         },
         {
          "value": 0,
          "variable": "inn1",
          "year": "2069"
         },
         {
          "value": 0,
          "variable": "inn1",
          "year": "2070"
         },
         {
          "value": 0,
          "variable": "inn2",
          "year": "2020"
         },
         {
          "value": 0,
          "variable": "inn2",
          "year": "2021"
         },
         {
          "value": 0,
          "variable": "inn2",
          "year": "2022"
         },
         {
          "value": 0,
          "variable": "inn2",
          "year": "2023"
         },
         {
          "value": 0,
          "variable": "inn2",
          "year": "2024"
         },
         {
          "value": 0,
          "variable": "inn2",
          "year": "2025"
         },
         {
          "value": 0,
          "variable": "inn2",
          "year": "2026"
         },
         {
          "value": 0,
          "variable": "inn2",
          "year": "2027"
         },
         {
          "value": 0,
          "variable": "inn2",
          "year": "2028"
         },
         {
          "value": 0,
          "variable": "inn2",
          "year": "2029"
         },
         {
          "value": 0,
          "variable": "inn2",
          "year": "2030"
         },
         {
          "value": 0,
          "variable": "inn2",
          "year": "2031"
         },
         {
          "value": 0,
          "variable": "inn2",
          "year": "2032"
         },
         {
          "value": 0,
          "variable": "inn2",
          "year": "2033"
         },
         {
          "value": 0,
          "variable": "inn2",
          "year": "2034"
         },
         {
          "value": 0,
          "variable": "inn2",
          "year": "2035"
         },
         {
          "value": 0,
          "variable": "inn2",
          "year": "2036"
         },
         {
          "value": 0,
          "variable": "inn2",
          "year": "2037"
         },
         {
          "value": 0,
          "variable": "inn2",
          "year": "2038"
         },
         {
          "value": 0,
          "variable": "inn2",
          "year": "2039"
         },
         {
          "value": 0,
          "variable": "inn2",
          "year": "2040"
         },
         {
          "value": 0,
          "variable": "inn2",
          "year": "2041"
         },
         {
          "value": 0,
          "variable": "inn2",
          "year": "2042"
         },
         {
          "value": 0,
          "variable": "inn2",
          "year": "2043"
         },
         {
          "value": 0,
          "variable": "inn2",
          "year": "2044"
         },
         {
          "value": 0,
          "variable": "inn2",
          "year": "2045"
         },
         {
          "value": 0,
          "variable": "inn2",
          "year": "2046"
         },
         {
          "value": 0,
          "variable": "inn2",
          "year": "2047"
         },
         {
          "value": 0,
          "variable": "inn2",
          "year": "2048"
         },
         {
          "value": 0,
          "variable": "inn2",
          "year": "2049"
         },
         {
          "value": 0,
          "variable": "inn2",
          "year": "2050"
         },
         {
          "value": 0,
          "variable": "inn2",
          "year": "2051"
         },
         {
          "value": 0,
          "variable": "inn2",
          "year": "2052"
         },
         {
          "value": 0,
          "variable": "inn2",
          "year": "2053"
         },
         {
          "value": 0,
          "variable": "inn2",
          "year": "2054"
         },
         {
          "value": 0,
          "variable": "inn2",
          "year": "2055"
         },
         {
          "value": 0,
          "variable": "inn2",
          "year": "2056"
         },
         {
          "value": 0,
          "variable": "inn2",
          "year": "2057"
         },
         {
          "value": 0,
          "variable": "inn2",
          "year": "2058"
         },
         {
          "value": 0,
          "variable": "inn2",
          "year": "2059"
         },
         {
          "value": 0,
          "variable": "inn2",
          "year": "2060"
         },
         {
          "value": 0,
          "variable": "inn2",
          "year": "2061"
         },
         {
          "value": 0,
          "variable": "inn2",
          "year": "2062"
         },
         {
          "value": 0,
          "variable": "inn2",
          "year": "2063"
         },
         {
          "value": 0,
          "variable": "inn2",
          "year": "2064"
         },
         {
          "value": 0,
          "variable": "inn2",
          "year": "2065"
         },
         {
          "value": 0,
          "variable": "inn2",
          "year": "2066"
         },
         {
          "value": 0,
          "variable": "inn2",
          "year": "2067"
         },
         {
          "value": 0,
          "variable": "inn2",
          "year": "2068"
         },
         {
          "value": 0,
          "variable": "inn2",
          "year": "2069"
         },
         {
          "value": 0,
          "variable": "inn2",
          "year": "2070"
         },
         {
          "value": 0,
          "variable": "inn3",
          "year": "2020"
         },
         {
          "value": 0,
          "variable": "inn3",
          "year": "2021"
         },
         {
          "value": 0,
          "variable": "inn3",
          "year": "2022"
         },
         {
          "value": 0,
          "variable": "inn3",
          "year": "2023"
         },
         {
          "value": 0,
          "variable": "inn3",
          "year": "2024"
         },
         {
          "value": 0,
          "variable": "inn3",
          "year": "2025"
         },
         {
          "value": 0,
          "variable": "inn3",
          "year": "2026"
         },
         {
          "value": 0,
          "variable": "inn3",
          "year": "2027"
         },
         {
          "value": 0,
          "variable": "inn3",
          "year": "2028"
         },
         {
          "value": 0,
          "variable": "inn3",
          "year": "2029"
         },
         {
          "value": 0.14999999999999994,
          "variable": "inn3",
          "year": "2030"
         },
         {
          "value": 0.14999999999999994,
          "variable": "inn3",
          "year": "2031"
         },
         {
          "value": 0.14999999999999994,
          "variable": "inn3",
          "year": "2032"
         },
         {
          "value": 0.14999999999999994,
          "variable": "inn3",
          "year": "2033"
         },
         {
          "value": 0.14999999999999994,
          "variable": "inn3",
          "year": "2034"
         },
         {
          "value": 0.15000000000000166,
          "variable": "inn3",
          "year": "2035"
         },
         {
          "value": 0.15000000000000166,
          "variable": "inn3",
          "year": "2036"
         },
         {
          "value": 0.15000000000000166,
          "variable": "inn3",
          "year": "2037"
         },
         {
          "value": 0.15000000000000166,
          "variable": "inn3",
          "year": "2038"
         },
         {
          "value": 0.15000000000000166,
          "variable": "inn3",
          "year": "2039"
         },
         {
          "value": 0.15000000000000005,
          "variable": "inn3",
          "year": "2040"
         },
         {
          "value": 0.15000000000000005,
          "variable": "inn3",
          "year": "2041"
         },
         {
          "value": 0.15000000000000005,
          "variable": "inn3",
          "year": "2042"
         },
         {
          "value": 0.15000000000000005,
          "variable": "inn3",
          "year": "2043"
         },
         {
          "value": 0.15000000000000005,
          "variable": "inn3",
          "year": "2044"
         },
         {
          "value": 0.11219512195121965,
          "variable": "inn3",
          "year": "2045"
         },
         {
          "value": 0.11219512195121965,
          "variable": "inn3",
          "year": "2046"
         },
         {
          "value": 0.11219512195121965,
          "variable": "inn3",
          "year": "2047"
         },
         {
          "value": 0.11219512195121965,
          "variable": "inn3",
          "year": "2048"
         },
         {
          "value": 0.11219512195121965,
          "variable": "inn3",
          "year": "2049"
         },
         {
          "value": 0.11219512195121965,
          "variable": "inn3",
          "year": "2050"
         },
         {
          "value": 0.11219512195121965,
          "variable": "inn3",
          "year": "2051"
         },
         {
          "value": 0.11219512195121965,
          "variable": "inn3",
          "year": "2052"
         },
         {
          "value": 0.11219512195121965,
          "variable": "inn3",
          "year": "2053"
         },
         {
          "value": 0.11219512195121965,
          "variable": "inn3",
          "year": "2054"
         },
         {
          "value": 0.11219512195121965,
          "variable": "inn3",
          "year": "2055"
         },
         {
          "value": 0.11219512195121965,
          "variable": "inn3",
          "year": "2056"
         },
         {
          "value": 0.11219512195121965,
          "variable": "inn3",
          "year": "2057"
         },
         {
          "value": 0.11219512195121965,
          "variable": "inn3",
          "year": "2058"
         },
         {
          "value": 0.11219512195121965,
          "variable": "inn3",
          "year": "2059"
         },
         {
          "value": 0.11219512195121965,
          "variable": "inn3",
          "year": "2060"
         },
         {
          "value": 0.11219512195121965,
          "variable": "inn3",
          "year": "2061"
         },
         {
          "value": 0.11219512195121965,
          "variable": "inn3",
          "year": "2062"
         },
         {
          "value": 0.11219512195121965,
          "variable": "inn3",
          "year": "2063"
         },
         {
          "value": 0.11219512195121965,
          "variable": "inn3",
          "year": "2064"
         },
         {
          "value": 0.11219512195121965,
          "variable": "inn3",
          "year": "2065"
         },
         {
          "value": 0.11219512195121965,
          "variable": "inn3",
          "year": "2066"
         },
         {
          "value": 0.11219512195121965,
          "variable": "inn3",
          "year": "2067"
         },
         {
          "value": 0.11219512195121965,
          "variable": "inn3",
          "year": "2068"
         },
         {
          "value": 0.11219512195121965,
          "variable": "inn3",
          "year": "2069"
         },
         {
          "value": 0.11219512195121965,
          "variable": "inn3",
          "year": "2070"
         },
         {
          "value": 0,
          "variable": "inn4",
          "year": "2020"
         },
         {
          "value": 0,
          "variable": "inn4",
          "year": "2021"
         },
         {
          "value": 0,
          "variable": "inn4",
          "year": "2022"
         },
         {
          "value": 0,
          "variable": "inn4",
          "year": "2023"
         },
         {
          "value": 0,
          "variable": "inn4",
          "year": "2024"
         },
         {
          "value": 0,
          "variable": "inn4",
          "year": "2025"
         },
         {
          "value": 0,
          "variable": "inn4",
          "year": "2026"
         },
         {
          "value": 0,
          "variable": "inn4",
          "year": "2027"
         },
         {
          "value": 0,
          "variable": "inn4",
          "year": "2028"
         },
         {
          "value": 0,
          "variable": "inn4",
          "year": "2029"
         },
         {
          "value": 0,
          "variable": "inn4",
          "year": "2030"
         },
         {
          "value": 0,
          "variable": "inn4",
          "year": "2031"
         },
         {
          "value": 0,
          "variable": "inn4",
          "year": "2032"
         },
         {
          "value": 0,
          "variable": "inn4",
          "year": "2033"
         },
         {
          "value": 0,
          "variable": "inn4",
          "year": "2034"
         },
         {
          "value": 0,
          "variable": "inn4",
          "year": "2035"
         },
         {
          "value": 0,
          "variable": "inn4",
          "year": "2036"
         },
         {
          "value": 0,
          "variable": "inn4",
          "year": "2037"
         },
         {
          "value": 0,
          "variable": "inn4",
          "year": "2038"
         },
         {
          "value": 0,
          "variable": "inn4",
          "year": "2039"
         },
         {
          "value": 0,
          "variable": "inn4",
          "year": "2040"
         },
         {
          "value": 0,
          "variable": "inn4",
          "year": "2041"
         },
         {
          "value": 0,
          "variable": "inn4",
          "year": "2042"
         },
         {
          "value": 0,
          "variable": "inn4",
          "year": "2043"
         },
         {
          "value": 0,
          "variable": "inn4",
          "year": "2044"
         },
         {
          "value": 0,
          "variable": "inn4",
          "year": "2045"
         },
         {
          "value": 0,
          "variable": "inn4",
          "year": "2046"
         },
         {
          "value": 0,
          "variable": "inn4",
          "year": "2047"
         },
         {
          "value": 0,
          "variable": "inn4",
          "year": "2048"
         },
         {
          "value": 0,
          "variable": "inn4",
          "year": "2049"
         },
         {
          "value": 0,
          "variable": "inn4",
          "year": "2050"
         },
         {
          "value": 0,
          "variable": "inn4",
          "year": "2051"
         },
         {
          "value": 0,
          "variable": "inn4",
          "year": "2052"
         },
         {
          "value": 0,
          "variable": "inn4",
          "year": "2053"
         },
         {
          "value": 0,
          "variable": "inn4",
          "year": "2054"
         },
         {
          "value": 0,
          "variable": "inn4",
          "year": "2055"
         },
         {
          "value": 0,
          "variable": "inn4",
          "year": "2056"
         },
         {
          "value": 0,
          "variable": "inn4",
          "year": "2057"
         },
         {
          "value": 0,
          "variable": "inn4",
          "year": "2058"
         },
         {
          "value": 0,
          "variable": "inn4",
          "year": "2059"
         },
         {
          "value": 0,
          "variable": "inn4",
          "year": "2060"
         },
         {
          "value": 0,
          "variable": "inn4",
          "year": "2061"
         },
         {
          "value": 0,
          "variable": "inn4",
          "year": "2062"
         },
         {
          "value": 0,
          "variable": "inn4",
          "year": "2063"
         },
         {
          "value": 0,
          "variable": "inn4",
          "year": "2064"
         },
         {
          "value": 0,
          "variable": "inn4",
          "year": "2065"
         },
         {
          "value": 0,
          "variable": "inn4",
          "year": "2066"
         },
         {
          "value": 0,
          "variable": "inn4",
          "year": "2067"
         },
         {
          "value": 0,
          "variable": "inn4",
          "year": "2068"
         },
         {
          "value": 0,
          "variable": "inn4",
          "year": "2069"
         },
         {
          "value": 0,
          "variable": "inn4",
          "year": "2070"
         },
         {
          "value": 0,
          "variable": "inn5",
          "year": "2020"
         },
         {
          "value": 0,
          "variable": "inn5",
          "year": "2021"
         },
         {
          "value": 0,
          "variable": "inn5",
          "year": "2022"
         },
         {
          "value": 0,
          "variable": "inn5",
          "year": "2023"
         },
         {
          "value": 0,
          "variable": "inn5",
          "year": "2024"
         },
         {
          "value": 0,
          "variable": "inn5",
          "year": "2025"
         },
         {
          "value": 0,
          "variable": "inn5",
          "year": "2026"
         },
         {
          "value": 0,
          "variable": "inn5",
          "year": "2027"
         },
         {
          "value": 0,
          "variable": "inn5",
          "year": "2028"
         },
         {
          "value": 0,
          "variable": "inn5",
          "year": "2029"
         },
         {
          "value": 0,
          "variable": "inn5",
          "year": "2030"
         },
         {
          "value": 0,
          "variable": "inn5",
          "year": "2031"
         },
         {
          "value": 0,
          "variable": "inn5",
          "year": "2032"
         },
         {
          "value": 0,
          "variable": "inn5",
          "year": "2033"
         },
         {
          "value": 0,
          "variable": "inn5",
          "year": "2034"
         },
         {
          "value": 0,
          "variable": "inn5",
          "year": "2035"
         },
         {
          "value": 0,
          "variable": "inn5",
          "year": "2036"
         },
         {
          "value": 0,
          "variable": "inn5",
          "year": "2037"
         },
         {
          "value": 0,
          "variable": "inn5",
          "year": "2038"
         },
         {
          "value": 0,
          "variable": "inn5",
          "year": "2039"
         },
         {
          "value": 0,
          "variable": "inn5",
          "year": "2040"
         },
         {
          "value": 0,
          "variable": "inn5",
          "year": "2041"
         },
         {
          "value": 0,
          "variable": "inn5",
          "year": "2042"
         },
         {
          "value": 0,
          "variable": "inn5",
          "year": "2043"
         },
         {
          "value": 0,
          "variable": "inn5",
          "year": "2044"
         },
         {
          "value": 0,
          "variable": "inn5",
          "year": "2045"
         },
         {
          "value": 0,
          "variable": "inn5",
          "year": "2046"
         },
         {
          "value": 0,
          "variable": "inn5",
          "year": "2047"
         },
         {
          "value": 0,
          "variable": "inn5",
          "year": "2048"
         },
         {
          "value": 0,
          "variable": "inn5",
          "year": "2049"
         },
         {
          "value": 0,
          "variable": "inn5",
          "year": "2050"
         },
         {
          "value": 0,
          "variable": "inn5",
          "year": "2051"
         },
         {
          "value": 0,
          "variable": "inn5",
          "year": "2052"
         },
         {
          "value": 0,
          "variable": "inn5",
          "year": "2053"
         },
         {
          "value": 0,
          "variable": "inn5",
          "year": "2054"
         },
         {
          "value": 0,
          "variable": "inn5",
          "year": "2055"
         },
         {
          "value": 0,
          "variable": "inn5",
          "year": "2056"
         },
         {
          "value": 0,
          "variable": "inn5",
          "year": "2057"
         },
         {
          "value": 0,
          "variable": "inn5",
          "year": "2058"
         },
         {
          "value": 0,
          "variable": "inn5",
          "year": "2059"
         },
         {
          "value": 0,
          "variable": "inn5",
          "year": "2060"
         },
         {
          "value": 0,
          "variable": "inn5",
          "year": "2061"
         },
         {
          "value": 0,
          "variable": "inn5",
          "year": "2062"
         },
         {
          "value": 0,
          "variable": "inn5",
          "year": "2063"
         },
         {
          "value": 0,
          "variable": "inn5",
          "year": "2064"
         },
         {
          "value": 0,
          "variable": "inn5",
          "year": "2065"
         },
         {
          "value": 0,
          "variable": "inn5",
          "year": "2066"
         },
         {
          "value": 0,
          "variable": "inn5",
          "year": "2067"
         },
         {
          "value": 0,
          "variable": "inn5",
          "year": "2068"
         },
         {
          "value": 0,
          "variable": "inn5",
          "year": "2069"
         },
         {
          "value": 0,
          "variable": "inn5",
          "year": "2070"
         }
        ]
       },
       "encoding": {
        "color": {
         "field": "variable",
         "type": "nominal"
        },
        "x": {
         "field": "year"
        },
        "y": {
         "field": "value",
         "stack": "zero",
         "title": "recycled content",
         "type": "quantitative"
        }
       },
       "mark": "area",
       "ylab": "circularity"
      },
      "image/png": "[encoded data removed]",
      "image/svg+xml": [
       "<?xml version=\"1.0\" encoding=\"utf-8\"?>\n",
       "<!DOCTYPE svg PUBLIC \"-//W3C//DTD SVG 1.1//EN\" \"http://www.w3.org/Graphics/SVG/1.1/DTD/svg11.dtd\">\n",
       "<svg xmlns=\"http://www.w3.org/2000/svg\" xmlns:xlink=\"http://www.w3.org/1999/xlink\" version=\"1.1\" class=\"marks\" width=\"1140\" height=\"256\" viewBox=\"0 0 1140 256\"><rect width=\"1140\" height=\"256\" fill=\"white\"/><g fill=\"none\" stroke-miterlimit=\"10\" transform=\"translate(48,5)\"><g class=\"mark-group role-frame root\" role=\"graphics-object\" aria-roledescription=\"group mark container\"><g transform=\"translate(0,0)\"><path class=\"background\" aria-hidden=\"true\" d=\"M0.5,0.5h1020v200h-1020Z\" stroke=\"#ddd\"/><g><g class=\"mark-group role-axis\" aria-hidden=\"true\"><g transform=\"translate(0.5,0.5)\"><path class=\"background\" aria-hidden=\"true\" d=\"M0,0h0v0h0Z\" pointer-events=\"none\"/><g><g class=\"mark-rule role-axis-grid\" pointer-events=\"none\"><line transform=\"translate(0,178)\" x2=\"1020\" y2=\"0\" stroke=\"#ddd\" stroke-width=\"1\" opacity=\"1\"/><line transform=\"translate(0,122)\" x2=\"1020\" y2=\"0\" stroke=\"#ddd\" stroke-width=\"1\" opacity=\"1\"/><line transform=\"translate(0,67)\" x2=\"1020\" y2=\"0\" stroke=\"#ddd\" stroke-width=\"1\" opacity=\"1\"/><line transform=\"translate(0,11)\" x2=\"1020\" y2=\"0\" stroke=\"#ddd\" stroke-width=\"1\" opacity=\"1\"/></g></g><path class=\"foreground\" aria-hidden=\"true\" d=\"\" pointer-events=\"none\" display=\"none\"/></g></g><g class=\"mark-group role-axis\" role=\"graphics-symbol\" aria-roledescription=\"axis\" aria-label=\"X-axis titled 'year' for a discrete scale with 51 values: 2020, 2021, 2022, 2023, 2024, ending with 2070\"><g transform=\"translate(0.5,200.5)\"><path class=\"background\" aria-hidden=\"true\" d=\"M0,0h0v0h0Z\" pointer-events=\"none\"/><g><g class=\"mark-rule role-axis-tick\" pointer-events=\"none\"><line transform=\"translate(10,0)\" x2=\"0\" y2=\"5\" stroke=\"#888\" stroke-width=\"1\" opacity=\"1\"/><line transform=\"translate(30,0)\" x2=\"0\" y2=\"5\" stroke=\"#888\" stroke-width=\"1\" opacity=\"1\"/><line transform=\"translate(50,0)\" x2=\"0\" y2=\"5\" stroke=\"#888\" stroke-width=\"1\" opacity=\"1\"/><line transform=\"translate(70,0)\" x2=\"0\" y2=\"5\" stroke=\"#888\" stroke-width=\"1\" opacity=\"1\"/><line transform=\"translate(90,0)\" x2=\"0\" y2=\"5\" stroke=\"#888\" stroke-width=\"1\" opacity=\"1\"/><line transform=\"translate(110,0)\" x2=\"0\" y2=\"5\" stroke=\"#888\" stroke-width=\"1\" opacity=\"1\"/><line transform=\"translate(130,0)\" x2=\"0\" y2=\"5\" stroke=\"#888\" stroke-width=\"1\" opacity=\"1\"/><line transform=\"translate(150,0)\" x2=\"0\" y2=\"5\" stroke=\"#888\" stroke-width=\"1\" opacity=\"1\"/><line transform=\"translate(170,0)\" x2=\"0\" y2=\"5\" stroke=\"#888\" stroke-width=\"1\" opacity=\"1\"/><line transform=\"translate(190,0)\" x2=\"0\" y2=\"5\" stroke=\"#888\" stroke-width=\"1\" opacity=\"1\"/><line transform=\"translate(210,0)\" x2=\"0\" y2=\"5\" stroke=\"#888\" stroke-width=\"1\" opacity=\"1\"/><line transform=\"translate(230,0)\" x2=\"0\" y2=\"5\" stroke=\"#888\" stroke-width=\"1\" opacity=\"1\"/><line transform=\"translate(250,0)\" x2=\"0\" y2=\"5\" stroke=\"#888\" stroke-width=\"1\" opacity=\"1\"/><line transform=\"translate(270,0)\" x2=\"0\" y2=\"5\" stroke=\"#888\" stroke-width=\"1\" opacity=\"1\"/><line transform=\"translate(290,0)\" x2=\"0\" y2=\"5\" stroke=\"#888\" stroke-width=\"1\" opacity=\"1\"/><line transform=\"translate(310,0)\" x2=\"0\" y2=\"5\" stroke=\"#888\" stroke-width=\"1\" opacity=\"1\"/><line transform=\"translate(330,0)\" x2=\"0\" y2=\"5\" stroke=\"#888\" stroke-width=\"1\" opacity=\"1\"/><line transform=\"translate(350,0)\" x2=\"0\" y2=\"5\" stroke=\"#888\" stroke-width=\"1\" opacity=\"1\"/><line transform=\"translate(370,0)\" x2=\"0\" y2=\"5\" stroke=\"#888\" stroke-width=\"1\" opacity=\"1\"/><line transform=\"translate(390,0)\" x2=\"0\" y2=\"5\" stroke=\"#888\" stroke-width=\"1\" opacity=\"1\"/><line transform=\"translate(410,0)\" x2=\"0\" y2=\"5\" stroke=\"#888\" stroke-width=\"1\" opacity=\"1\"/><line transform=\"translate(430,0)\" x2=\"0\" y2=\"5\" stroke=\"#888\" stroke-width=\"1\" opacity=\"1\"/><line transform=\"translate(450,0)\" x2=\"0\" y2=\"5\" stroke=\"#888\" stroke-width=\"1\" opacity=\"1\"/><line transform=\"translate(470,0)\" x2=\"0\" y2=\"5\" stroke=\"#888\" stroke-width=\"1\" opacity=\"1\"/><line transform=\"translate(490,0)\" x2=\"0\" y2=\"5\" stroke=\"#888\" stroke-width=\"1\" opacity=\"1\"/><line transform=\"translate(510,0)\" x2=\"0\" y2=\"5\" stroke=\"#888\" stroke-width=\"1\" opacity=\"1\"/><line transform=\"translate(530,0)\" x2=\"0\" y2=\"5\" stroke=\"#888\" stroke-width=\"1\" opacity=\"1\"/><line transform=\"translate(550,0)\" x2=\"0\" y2=\"5\" stroke=\"#888\" stroke-width=\"1\" opacity=\"1\"/><line transform=\"translate(570,0)\" x2=\"0\" y2=\"5\" stroke=\"#888\" stroke-width=\"1\" opacity=\"1\"/><line transform=\"translate(590,0)\" x2=\"0\" y2=\"5\" stroke=\"#888\" stroke-width=\"1\" opacity=\"1\"/><line transform=\"translate(610,0)\" x2=\"0\" y2=\"5\" stroke=\"#888\" stroke-width=\"1\" opacity=\"1\"/><line transform=\"translate(630,0)\" x2=\"0\" y2=\"5\" stroke=\"#888\" stroke-width=\"1\" opacity=\"1\"/><line transform=\"translate(650,0)\" x2=\"0\" y2=\"5\" stroke=\"#888\" stroke-width=\"1\" opacity=\"1\"/><line transform=\"translate(670,0)\" x2=\"0\" y2=\"5\" stroke=\"#888\" stroke-width=\"1\" opacity=\"1\"/><line transform=\"translate(690,0)\" x2=\"0\" y2=\"5\" stroke=\"#888\" stroke-width=\"1\" opacity=\"1\"/><line transform=\"translate(710,0)\" x2=\"0\" y2=\"5\" stroke=\"#888\" stroke-width=\"1\" opacity=\"1\"/><line transform=\"translate(730,0)\" x2=\"0\" y2=\"5\" stroke=\"#888\" stroke-width=\"1\" opacity=\"1\"/><line transform=\"translate(750,0)\" x2=\"0\" y2=\"5\" stroke=\"#888\" stroke-width=\"1\" opacity=\"1\"/><line transform=\"translate(770,0)\" x2=\"0\" y2=\"5\" stroke=\"#888\" stroke-width=\"1\" opacity=\"1\"/><line transform=\"translate(790,0)\" x2=\"0\" y2=\"5\" stroke=\"#888\" stroke-width=\"1\" opacity=\"1\"/><line transform=\"translate(810,0)\" x2=\"0\" y2=\"5\" stroke=\"#888\" stroke-width=\"1\" opacity=\"1\"/><line transform=\"translate(830,0)\" x2=\"0\" y2=\"5\" stroke=\"#888\" stroke-width=\"1\" opacity=\"1\"/><line transform=\"translate(850,0)\" x2=\"0\" y2=\"5\" stroke=\"#888\" stroke-width=\"1\" opacity=\"1\"/><line transform=\"translate(870,0)\" x2=\"0\" y2=\"5\" stroke=\"#888\" stroke-width=\"1\" opacity=\"1\"/><line transform=\"translate(890,0)\" x2=\"0\" y2=\"5\" stroke=\"#888\" stroke-width=\"1\" opacity=\"1\"/><line transform=\"translate(910,0)\" x2=\"0\" y2=\"5\" stroke=\"#888\" stroke-width=\"1\" opacity=\"1\"/><line transform=\"translate(930,0)\" x2=\"0\" y2=\"5\" stroke=\"#888\" stroke-width=\"1\" opacity=\"1\"/><line transform=\"translate(950,0)\" x2=\"0\" y2=\"5\" stroke=\"#888\" stroke-width=\"1\" opacity=\"1\"/><line transform=\"translate(970,0)\" x2=\"0\" y2=\"5\" stroke=\"#888\" stroke-width=\"1\" opacity=\"1\"/><line transform=\"translate(990,0)\" x2=\"0\" y2=\"5\" stroke=\"#888\" stroke-width=\"1\" opacity=\"1\"/><line transform=\"translate(1010,0)\" x2=\"0\" y2=\"5\" stroke=\"#888\" stroke-width=\"1\" opacity=\"1\"/></g><g class=\"mark-text role-axis-label\" pointer-events=\"none\"><text text-anchor=\"end\" transform=\"translate(10,7) rotate(270) translate(0,3)\" font-family=\"sans-serif\" font-size=\"10px\" fill=\"#000\" opacity=\"1\">2020</text><text text-anchor=\"end\" transform=\"translate(30,7) rotate(270) translate(0,3)\" font-family=\"sans-serif\" font-size=\"10px\" fill=\"#000\" opacity=\"1\">2021</text><text text-anchor=\"end\" transform=\"translate(50,7) rotate(270) translate(0,3)\" font-family=\"sans-serif\" font-size=\"10px\" fill=\"#000\" opacity=\"1\">2022</text><text text-anchor=\"end\" transform=\"translate(70,7) rotate(270) translate(0,3)\" font-family=\"sans-serif\" font-size=\"10px\" fill=\"#000\" opacity=\"1\">2023</text><text text-anchor=\"end\" transform=\"translate(90,7) rotate(270) translate(0,3)\" font-family=\"sans-serif\" font-size=\"10px\" fill=\"#000\" opacity=\"1\">2024</text><text text-anchor=\"end\" transform=\"translate(110,7) rotate(270) translate(0,3)\" font-family=\"sans-serif\" font-size=\"10px\" fill=\"#000\" opacity=\"1\">2025</text><text text-anchor=\"end\" transform=\"translate(130,7) rotate(270) translate(0,3)\" font-family=\"sans-serif\" font-size=\"10px\" fill=\"#000\" opacity=\"1\">2026</text><text text-anchor=\"end\" transform=\"translate(150,7) rotate(270) translate(0,3)\" font-family=\"sans-serif\" font-size=\"10px\" fill=\"#000\" opacity=\"1\">2027</text><text text-anchor=\"end\" transform=\"translate(170,7) rotate(270) translate(0,3)\" font-family=\"sans-serif\" font-size=\"10px\" fill=\"#000\" opacity=\"1\">2028</text><text text-anchor=\"end\" transform=\"translate(190,7) rotate(270) translate(0,3)\" font-family=\"sans-serif\" font-size=\"10px\" fill=\"#000\" opacity=\"1\">2029</text><text text-anchor=\"end\" transform=\"translate(210,7) rotate(270) translate(0,3)\" font-family=\"sans-serif\" font-size=\"10px\" fill=\"#000\" opacity=\"1\">2030</text><text text-anchor=\"end\" transform=\"translate(230,7) rotate(270) translate(0,3)\" font-family=\"sans-serif\" font-size=\"10px\" fill=\"#000\" opacity=\"1\">2031</text><text text-anchor=\"end\" transform=\"translate(250,7) rotate(270) translate(0,3)\" font-family=\"sans-serif\" font-size=\"10px\" fill=\"#000\" opacity=\"1\">2032</text><text text-anchor=\"end\" transform=\"translate(270,7) rotate(270) translate(0,3)\" font-family=\"sans-serif\" font-size=\"10px\" fill=\"#000\" opacity=\"1\">2033</text><text text-anchor=\"end\" transform=\"translate(290,7) rotate(270) translate(0,3)\" font-family=\"sans-serif\" font-size=\"10px\" fill=\"#000\" opacity=\"1\">2034</text><text text-anchor=\"end\" transform=\"translate(310,7) rotate(270) translate(0,3)\" font-family=\"sans-serif\" font-size=\"10px\" fill=\"#000\" opacity=\"1\">2035</text><text text-anchor=\"end\" transform=\"translate(330,7) rotate(270) translate(0,3)\" font-family=\"sans-serif\" font-size=\"10px\" fill=\"#000\" opacity=\"1\">2036</text><text text-anchor=\"end\" transform=\"translate(350,7) rotate(270) translate(0,3)\" font-family=\"sans-serif\" font-size=\"10px\" fill=\"#000\" opacity=\"1\">2037</text><text text-anchor=\"end\" transform=\"translate(370,7) rotate(270) translate(0,3)\" font-family=\"sans-serif\" font-size=\"10px\" fill=\"#000\" opacity=\"1\">2038</text><text text-anchor=\"end\" transform=\"translate(390,7) rotate(270) translate(0,3)\" font-family=\"sans-serif\" font-size=\"10px\" fill=\"#000\" opacity=\"1\">2039</text><text text-anchor=\"end\" transform=\"translate(410,7) rotate(270) translate(0,3)\" font-family=\"sans-serif\" font-size=\"10px\" fill=\"#000\" opacity=\"1\">2040</text><text text-anchor=\"end\" transform=\"translate(430,7) rotate(270) translate(0,3)\" font-family=\"sans-serif\" font-size=\"10px\" fill=\"#000\" opacity=\"1\">2041</text><text text-anchor=\"end\" transform=\"translate(450,7) rotate(270) translate(0,3)\" font-family=\"sans-serif\" font-size=\"10px\" fill=\"#000\" opacity=\"1\">2042</text><text text-anchor=\"end\" transform=\"translate(470,7) rotate(270) translate(0,3)\" font-family=\"sans-serif\" font-size=\"10px\" fill=\"#000\" opacity=\"1\">2043</text><text text-anchor=\"end\" transform=\"translate(490,7) rotate(270) translate(0,3)\" font-family=\"sans-serif\" font-size=\"10px\" fill=\"#000\" opacity=\"1\">2044</text><text text-anchor=\"end\" transform=\"translate(510,7) rotate(270) translate(0,3)\" font-family=\"sans-serif\" font-size=\"10px\" fill=\"#000\" opacity=\"1\">2045</text><text text-anchor=\"end\" transform=\"translate(530,7) rotate(270) translate(0,3)\" font-family=\"sans-serif\" font-size=\"10px\" fill=\"#000\" opacity=\"1\">2046</text><text text-anchor=\"end\" transform=\"translate(550,7) rotate(270) translate(0,3)\" font-family=\"sans-serif\" font-size=\"10px\" fill=\"#000\" opacity=\"1\">2047</text><text text-anchor=\"end\" transform=\"translate(570,7) rotate(270) translate(0,3)\" font-family=\"sans-serif\" font-size=\"10px\" fill=\"#000\" opacity=\"1\">2048</text><text text-anchor=\"end\" transform=\"translate(590,7) rotate(270) translate(0,3)\" font-family=\"sans-serif\" font-size=\"10px\" fill=\"#000\" opacity=\"1\">2049</text><text text-anchor=\"end\" transform=\"translate(610,7) rotate(270) translate(0,3)\" font-family=\"sans-serif\" font-size=\"10px\" fill=\"#000\" opacity=\"1\">2050</text><text text-anchor=\"end\" transform=\"translate(630,7) rotate(270) translate(0,3)\" font-family=\"sans-serif\" font-size=\"10px\" fill=\"#000\" opacity=\"1\">2051</text><text text-anchor=\"end\" transform=\"translate(650,7) rotate(270) translate(0,3)\" font-family=\"sans-serif\" font-size=\"10px\" fill=\"#000\" opacity=\"1\">2052</text><text text-anchor=\"end\" transform=\"translate(670,7) rotate(270) translate(0,3)\" font-family=\"sans-serif\" font-size=\"10px\" fill=\"#000\" opacity=\"1\">2053</text><text text-anchor=\"end\" transform=\"translate(690,7) rotate(270) translate(0,3)\" font-family=\"sans-serif\" font-size=\"10px\" fill=\"#000\" opacity=\"1\">2054</text><text text-anchor=\"end\" transform=\"translate(710,7) rotate(270) translate(0,3)\" font-family=\"sans-serif\" font-size=\"10px\" fill=\"#000\" opacity=\"1\">2055</text><text text-anchor=\"end\" transform=\"translate(730,7) rotate(270) translate(0,3)\" font-family=\"sans-serif\" font-size=\"10px\" fill=\"#000\" opacity=\"1\">2056</text><text text-anchor=\"end\" transform=\"translate(750,7) rotate(270) translate(0,3)\" font-family=\"sans-serif\" font-size=\"10px\" fill=\"#000\" opacity=\"1\">2057</text><text text-anchor=\"end\" transform=\"translate(770,7) rotate(270) translate(0,3)\" font-family=\"sans-serif\" font-size=\"10px\" fill=\"#000\" opacity=\"1\">2058</text><text text-anchor=\"end\" transform=\"translate(790,7) rotate(270) translate(0,3)\" font-family=\"sans-serif\" font-size=\"10px\" fill=\"#000\" opacity=\"1\">2059</text><text text-anchor=\"end\" transform=\"translate(810,7) rotate(270) translate(0,3)\" font-family=\"sans-serif\" font-size=\"10px\" fill=\"#000\" opacity=\"1\">2060</text><text text-anchor=\"end\" transform=\"translate(830,7) rotate(270) translate(0,3)\" font-family=\"sans-serif\" font-size=\"10px\" fill=\"#000\" opacity=\"1\">2061</text><text text-anchor=\"end\" transform=\"translate(850,7) rotate(270) translate(0,3)\" font-family=\"sans-serif\" font-size=\"10px\" fill=\"#000\" opacity=\"1\">2062</text><text text-anchor=\"end\" transform=\"translate(870,7) rotate(270) translate(0,3)\" font-family=\"sans-serif\" font-size=\"10px\" fill=\"#000\" opacity=\"1\">2063</text><text text-anchor=\"end\" transform=\"translate(890,7) rotate(270) translate(0,3)\" font-family=\"sans-serif\" font-size=\"10px\" fill=\"#000\" opacity=\"1\">2064</text><text text-anchor=\"end\" transform=\"translate(910,7) rotate(270) translate(0,3)\" font-family=\"sans-serif\" font-size=\"10px\" fill=\"#000\" opacity=\"1\">2065</text><text text-anchor=\"end\" transform=\"translate(930,7) rotate(270) translate(0,3)\" font-family=\"sans-serif\" font-size=\"10px\" fill=\"#000\" opacity=\"1\">2066</text><text text-anchor=\"end\" transform=\"translate(950,7) rotate(270) translate(0,3)\" font-family=\"sans-serif\" font-size=\"10px\" fill=\"#000\" opacity=\"1\">2067</text><text text-anchor=\"end\" transform=\"translate(970,7) rotate(270) translate(0,3)\" font-family=\"sans-serif\" font-size=\"10px\" fill=\"#000\" opacity=\"1\">2068</text><text text-anchor=\"end\" transform=\"translate(990,7) rotate(270) translate(0,3)\" font-family=\"sans-serif\" font-size=\"10px\" fill=\"#000\" opacity=\"1\">2069</text><text text-anchor=\"end\" transform=\"translate(1010,7) rotate(270) translate(0,3)\" font-family=\"sans-serif\" font-size=\"10px\" fill=\"#000\" opacity=\"1\">2070</text></g><g class=\"mark-rule role-axis-domain\" pointer-events=\"none\"><line transform=\"translate(0,0)\" x2=\"1020\" y2=\"0\" stroke=\"#888\" stroke-width=\"1\" opacity=\"1\"/></g><g class=\"mark-text role-axis-title\" pointer-events=\"none\"><text text-anchor=\"middle\" transform=\"translate(510,44)\" font-family=\"sans-serif\" font-size=\"11px\" font-weight=\"bold\" fill=\"#000\" opacity=\"1\">year</text></g></g><path class=\"foreground\" aria-hidden=\"true\" d=\"\" pointer-events=\"none\" display=\"none\"/></g></g><g class=\"mark-group role-axis\" role=\"graphics-symbol\" aria-roledescription=\"axis\" aria-label=\"Y-axis titled 'recycled content' for a linear scale with values from −0.02 to 0.16\"><g transform=\"translate(0.5,0.5)\"><path class=\"background\" aria-hidden=\"true\" d=\"M0,0h0v0h0Z\" pointer-events=\"none\"/><g><g class=\"mark-rule role-axis-tick\" pointer-events=\"none\"><line transform=\"translate(0,178)\" x2=\"-5\" y2=\"0\" stroke=\"#888\" stroke-width=\"1\" opacity=\"1\"/><line transform=\"translate(0,122)\" x2=\"-5\" y2=\"0\" stroke=\"#888\" stroke-width=\"1\" opacity=\"1\"/><line transform=\"translate(0,67)\" x2=\"-5\" y2=\"0\" stroke=\"#888\" stroke-width=\"1\" opacity=\"1\"/><line transform=\"translate(0,11)\" x2=\"-5\" y2=\"0\" stroke=\"#888\" stroke-width=\"1\" opacity=\"1\"/></g><g class=\"mark-text role-axis-label\" pointer-events=\"none\"><text text-anchor=\"end\" transform=\"translate(-7,180.77777777777777)\" font-family=\"sans-serif\" font-size=\"10px\" fill=\"#000\" opacity=\"1\">0.00</text><text text-anchor=\"end\" transform=\"translate(-7,125.22222222222221)\" font-family=\"sans-serif\" font-size=\"10px\" fill=\"#000\" opacity=\"1\">0.05</text><text text-anchor=\"end\" transform=\"translate(-7,69.66666666666666)\" font-family=\"sans-serif\" font-size=\"10px\" fill=\"#000\" opacity=\"1\">0.10</text><text text-anchor=\"end\" transform=\"translate(-7,14.111111111111116)\" font-family=\"sans-serif\" font-size=\"10px\" fill=\"#000\" opacity=\"1\">0.15</text></g><g class=\"mark-rule role-axis-domain\" pointer-events=\"none\"><line transform=\"translate(0,200)\" x2=\"0\" y2=\"-200\" stroke=\"#888\" stroke-width=\"1\" opacity=\"1\"/></g><g class=\"mark-text role-axis-title\" pointer-events=\"none\"><text text-anchor=\"middle\" transform=\"translate(-32,100) rotate(-90) translate(0,-2)\" font-family=\"sans-serif\" font-size=\"11px\" font-weight=\"bold\" fill=\"#000\" opacity=\"1\">recycled content</text></g></g><path class=\"foreground\" aria-hidden=\"true\" d=\"\" pointer-events=\"none\" display=\"none\"/></g></g><g class=\"mark-group role-scope pathgroup\" role=\"graphics-object\" aria-roledescription=\"group mark container\"><g transform=\"translate(0,0)\"><path class=\"background\" aria-hidden=\"true\" d=\"M0,0h1020v200h-1020Z\"/><g><g class=\"mark-area role-mark marks\" role=\"graphics-object\" aria-roledescription=\"area mark container\"><path aria-label=\"year: 2020; recycled content: 0.12; variable: conv\" role=\"graphics-symbol\" aria-roledescription=\"area mark\" d=\"M10,44.444444444444464L30,177.77777777777777L50,177.77777777777777L70,177.77777777777777L90,177.77777777777777L110,177.77777777777777L130,177.77777777777777L150,177.77777777777777L170,177.77777777777777L190,177.77777777777777L210,11.111111111111182L230,11.111111111111182L250,11.111111111111182L270,11.111111111111182L290,11.111111111111182L310,11.111111111109274L330,11.111111111109274L350,11.111111111109274L370,11.111111111109274L390,11.111111111109274L410,11.11111111111105L430,11.11111111111105L450,11.11111111111105L470,11.11111111111105L490,11.11111111111105L510,177.77777777777783L530,177.77777777777783L550,177.77777777777783L570,177.77777777777783L590,177.77777777777783L610,177.77777777777783L630,177.77777777777783L650,177.77777777777783L670,177.77777777777783L690,177.77777777777783L710,177.77777777777783L730,177.77777777777783L750,177.77777777777783L770,177.77777777777783L790,177.77777777777783L810,177.77777777777783L830,177.77777777777783L850,177.77777777777783L870,177.77777777777783L890,177.77777777777783L910,177.77777777777783L930,177.77777777777783L950,177.77777777777783L970,177.77777777777783L990,177.77777777777783L1010,177.77777777777783L1010,177.77777777777777L990,177.77777777777777L970,177.77777777777777L950,177.77777777777777L930,177.77777777777777L910,177.77777777777777L890,177.77777777777777L870,177.77777777777777L850,177.77777777777777L830,177.77777777777777L810,177.77777777777777L790,177.77777777777777L770,177.77777777777777L750,177.77777777777777L730,177.77777777777777L710,177.77777777777777L690,177.77777777777777L670,177.77777777777777L650,177.77777777777777L630,177.77777777777777L610,177.77777777777777L590,177.77777777777777L570,177.77777777777777L550,177.77777777777777L530,177.77777777777777L510,177.77777777777777L490,11.11111111111105L470,11.11111111111105L450,11.11111111111105L430,11.11111111111105L410,11.11111111111105L390,11.111111111109274L370,11.111111111109274L350,11.111111111109274L330,11.111111111109274L310,11.111111111109274L290,11.111111111111182L270,11.111111111111182L250,11.111111111111182L230,11.111111111111182L210,11.111111111111182L190,177.77777777777777L170,177.77777777777777L150,177.77777777777777L130,177.77777777777777L110,177.77777777777777L90,177.77777777777777L70,177.77777777777777L50,177.77777777777777L30,177.77777777777777L10,177.77777777777777Z\" fill=\"#4c78a8\"/></g></g><path class=\"foreground\" aria-hidden=\"true\" d=\"\" display=\"none\"/></g><g transform=\"translate(0,0)\"><path class=\"background\" aria-hidden=\"true\" d=\"M0,0h1020v200h-1020Z\"/><g><g class=\"mark-area role-mark marks\" role=\"graphics-object\" aria-roledescription=\"area mark container\"><path aria-label=\"year: 2020; recycled content: 0; variable: inn1\" role=\"graphics-symbol\" aria-roledescription=\"area mark\" d=\"M10,177.77777777777777L30,177.77777777777777L50,177.77777777777777L70,177.77777777777777L90,177.77777777777777L110,177.77777777777777L130,177.77777777777777L150,177.77777777777777L170,177.77777777777777L190,177.77777777777777L210,11.111111111111182L230,11.111111111111182L250,11.111111111111182L270,11.111111111111182L290,11.111111111111182L310,11.111111111109274L330,11.111111111109274L350,11.111111111109274L370,11.111111111109274L390,11.111111111109274L410,11.11111111111105L430,11.11111111111105L450,11.11111111111105L470,11.11111111111105L490,11.11111111111105L510,53.11653116531148L530,53.11653116531148L550,53.11653116531148L570,53.11653116531148L590,53.11653116531148L610,53.11653116531148L630,53.11653116531148L650,53.11653116531148L670,53.11653116531148L690,53.11653116531148L710,53.11653116531148L730,53.11653116531148L750,53.11653116531148L770,53.11653116531148L790,53.11653116531148L810,53.11653116531148L830,53.11653116531148L850,53.11653116531148L870,53.11653116531148L890,53.11653116531148L910,53.11653116531148L930,53.11653116531148L950,53.11653116531148L970,53.11653116531148L990,53.11653116531148L1010,53.11653116531148L1010,53.11653116531148L990,53.11653116531148L970,53.11653116531148L950,53.11653116531148L930,53.11653116531148L910,53.11653116531148L890,53.11653116531148L870,53.11653116531148L850,53.11653116531148L830,53.11653116531148L810,53.11653116531148L790,53.11653116531148L770,53.11653116531148L750,53.11653116531148L730,53.11653116531148L710,53.11653116531148L690,53.11653116531148L670,53.11653116531148L650,53.11653116531148L630,53.11653116531148L610,53.11653116531148L590,53.11653116531148L570,53.11653116531148L550,53.11653116531148L530,53.11653116531148L510,53.11653116531148L490,11.11111111111105L470,11.11111111111105L450,11.11111111111105L430,11.11111111111105L410,11.11111111111105L390,11.111111111109274L370,11.111111111109274L350,11.111111111109274L330,11.111111111109274L310,11.111111111109274L290,11.111111111111182L270,11.111111111111182L250,11.111111111111182L230,11.111111111111182L210,11.111111111111182L190,177.77777777777777L170,177.77777777777777L150,177.77777777777777L130,177.77777777777777L110,177.77777777777777L90,177.77777777777777L70,177.77777777777777L50,177.77777777777777L30,177.77777777777777L10,177.77777777777777Z\" fill=\"#f58518\"/></g></g><path class=\"foreground\" aria-hidden=\"true\" d=\"\" display=\"none\"/></g><g transform=\"translate(0,0)\"><path class=\"background\" aria-hidden=\"true\" d=\"M0,0h1020v200h-1020Z\"/><g><g class=\"mark-area role-mark marks\" role=\"graphics-object\" aria-roledescription=\"area mark container\"><path aria-label=\"year: 2020; recycled content: 0; variable: inn2\" role=\"graphics-symbol\" aria-roledescription=\"area mark\" d=\"M10,177.77777777777777L30,177.77777777777777L50,177.77777777777777L70,177.77777777777777L90,177.77777777777777L110,177.77777777777777L130,177.77777777777777L150,177.77777777777777L170,177.77777777777777L190,177.77777777777777L210,11.111111111111182L230,11.111111111111182L250,11.111111111111182L270,11.111111111111182L290,11.111111111111182L310,11.111111111109274L330,11.111111111109274L350,11.111111111109274L370,11.111111111109274L390,11.111111111109274L410,11.11111111111105L430,11.11111111111105L450,11.11111111111105L470,11.11111111111105L490,11.11111111111105L510,53.11653116531148L530,53.11653116531148L550,53.11653116531148L570,53.11653116531148L590,53.11653116531148L610,53.11653116531148L630,53.11653116531148L650,53.11653116531148L670,53.11653116531148L690,53.11653116531148L710,53.11653116531148L730,53.11653116531148L750,53.11653116531148L770,53.11653116531148L790,53.11653116531148L810,53.11653116531148L830,53.11653116531148L850,53.11653116531148L870,53.11653116531148L890,53.11653116531148L910,53.11653116531148L930,53.11653116531148L950,53.11653116531148L970,53.11653116531148L990,53.11653116531148L1010,53.11653116531148L1010,53.11653116531148L990,53.11653116531148L970,53.11653116531148L950,53.11653116531148L930,53.11653116531148L910,53.11653116531148L890,53.11653116531148L870,53.11653116531148L850,53.11653116531148L830,53.11653116531148L810,53.11653116531148L790,53.11653116531148L770,53.11653116531148L750,53.11653116531148L730,53.11653116531148L710,53.11653116531148L690,53.11653116531148L670,53.11653116531148L650,53.11653116531148L630,53.11653116531148L610,53.11653116531148L590,53.11653116531148L570,53.11653116531148L550,53.11653116531148L530,53.11653116531148L510,53.11653116531148L490,11.11111111111105L470,11.11111111111105L450,11.11111111111105L430,11.11111111111105L410,11.11111111111105L390,11.111111111109274L370,11.111111111109274L350,11.111111111109274L330,11.111111111109274L310,11.111111111109274L290,11.111111111111182L270,11.111111111111182L250,11.111111111111182L230,11.111111111111182L210,11.111111111111182L190,177.77777777777777L170,177.77777777777777L150,177.77777777777777L130,177.77777777777777L110,177.77777777777777L90,177.77777777777777L70,177.77777777777777L50,177.77777777777777L30,177.77777777777777L10,177.77777777777777Z\" fill=\"#e45756\"/></g></g><path class=\"foreground\" aria-hidden=\"true\" d=\"\" display=\"none\"/></g><g transform=\"translate(0,0)\"><path class=\"background\" aria-hidden=\"true\" d=\"M0,0h1020v200h-1020Z\"/><g><g class=\"mark-area role-mark marks\" role=\"graphics-object\" aria-roledescription=\"area mark container\"><path aria-label=\"year: 2020; recycled content: 0; variable: inn3\" role=\"graphics-symbol\" aria-roledescription=\"area mark\" d=\"M10,177.77777777777777L30,177.77777777777777L50,177.77777777777777L70,177.77777777777777L90,177.77777777777777L110,177.77777777777777L130,177.77777777777777L150,177.77777777777777L170,177.77777777777777L190,177.77777777777777L210,11.111111111111182L230,11.111111111111182L250,11.111111111111182L270,11.111111111111182L290,11.111111111111182L310,11.111111111109274L330,11.111111111109274L350,11.111111111109274L370,11.111111111109274L390,11.111111111109274L410,11.11111111111105L430,11.11111111111105L450,11.11111111111105L470,11.11111111111105L490,11.11111111111105L510,53.11653116531148L530,53.11653116531148L550,53.11653116531148L570,53.11653116531148L590,53.11653116531148L610,53.11653116531148L630,53.11653116531148L650,53.11653116531148L670,53.11653116531148L690,53.11653116531148L710,53.11653116531148L730,53.11653116531148L750,53.11653116531148L770,53.11653116531148L790,53.11653116531148L810,53.11653116531148L830,53.11653116531148L850,53.11653116531148L870,53.11653116531148L890,53.11653116531148L910,53.11653116531148L930,53.11653116531148L950,53.11653116531148L970,53.11653116531148L990,53.11653116531148L1010,53.11653116531148L1010,177.77777777777777L990,177.77777777777777L970,177.77777777777777L950,177.77777777777777L930,177.77777777777777L910,177.77777777777777L890,177.77777777777777L870,177.77777777777777L850,177.77777777777777L830,177.77777777777777L810,177.77777777777777L790,177.77777777777777L770,177.77777777777777L750,177.77777777777777L730,177.77777777777777L710,177.77777777777777L690,177.77777777777777L670,177.77777777777777L650,177.77777777777777L630,177.77777777777777L610,177.77777777777777L590,177.77777777777777L570,177.77777777777777L550,177.77777777777777L530,177.77777777777777L510,177.77777777777777L490,177.77777777777777L470,177.77777777777777L450,177.77777777777777L430,177.77777777777777L410,177.77777777777777L390,177.77777777777777L370,177.77777777777777L350,177.77777777777777L330,177.77777777777777L310,177.77777777777777L290,177.77777777777777L270,177.77777777777777L250,177.77777777777777L230,177.77777777777777L210,177.77777777777777L190,177.77777777777777L170,177.77777777777777L150,177.77777777777777L130,177.77777777777777L110,177.77777777777777L90,177.77777777777777L70,177.77777777777777L50,177.77777777777777L30,177.77777777777777L10,177.77777777777777Z\" fill=\"#72b7b2\"/></g></g><path class=\"foreground\" aria-hidden=\"true\" d=\"\" display=\"none\"/></g><g transform=\"translate(0,0)\"><path class=\"background\" aria-hidden=\"true\" d=\"M0,0h1020v200h-1020Z\"/><g><g class=\"mark-area role-mark marks\" role=\"graphics-object\" aria-roledescription=\"area mark container\"><path aria-label=\"year: 2020; recycled content: 0; variable: inn4\" role=\"graphics-symbol\" aria-roledescription=\"area mark\" d=\"M10,177.77777777777777L30,177.77777777777777L50,177.77777777777777L70,177.77777777777777L90,177.77777777777777L110,177.77777777777777L130,177.77777777777777L150,177.77777777777777L170,177.77777777777777L190,177.77777777777777L210,177.77777777777777L230,177.77777777777777L250,177.77777777777777L270,177.77777777777777L290,177.77777777777777L310,177.77777777777777L330,177.77777777777777L350,177.77777777777777L370,177.77777777777777L390,177.77777777777777L410,177.77777777777777L430,177.77777777777777L450,177.77777777777777L470,177.77777777777777L490,177.77777777777777L510,177.77777777777777L530,177.77777777777777L550,177.77777777777777L570,177.77777777777777L590,177.77777777777777L610,177.77777777777777L630,177.77777777777777L650,177.77777777777777L670,177.77777777777777L690,177.77777777777777L710,177.77777777777777L730,177.77777777777777L750,177.77777777777777L770,177.77777777777777L790,177.77777777777777L810,177.77777777777777L830,177.77777777777777L850,177.77777777777777L870,177.77777777777777L890,177.77777777777777L910,177.77777777777777L930,177.77777777777777L950,177.77777777777777L970,177.77777777777777L990,177.77777777777777L1010,177.77777777777777L1010,177.77777777777777L990,177.77777777777777L970,177.77777777777777L950,177.77777777777777L930,177.77777777777777L910,177.77777777777777L890,177.77777777777777L870,177.77777777777777L850,177.77777777777777L830,177.77777777777777L810,177.77777777777777L790,177.77777777777777L770,177.77777777777777L750,177.77777777777777L730,177.77777777777777L710,177.77777777777777L690,177.77777777777777L670,177.77777777777777L650,177.77777777777777L630,177.77777777777777L610,177.77777777777777L590,177.77777777777777L570,177.77777777777777L550,177.77777777777777L530,177.77777777777777L510,177.77777777777777L490,177.77777777777777L470,177.77777777777777L450,177.77777777777777L430,177.77777777777777L410,177.77777777777777L390,177.77777777777777L370,177.77777777777777L350,177.77777777777777L330,177.77777777777777L310,177.77777777777777L290,177.77777777777777L270,177.77777777777777L250,177.77777777777777L230,177.77777777777777L210,177.77777777777777L190,177.77777777777777L170,177.77777777777777L150,177.77777777777777L130,177.77777777777777L110,177.77777777777777L90,177.77777777777777L70,177.77777777777777L50,177.77777777777777L30,177.77777777777777L10,177.77777777777777Z\" fill=\"#54a24b\"/></g></g><path class=\"foreground\" aria-hidden=\"true\" d=\"\" display=\"none\"/></g><g transform=\"translate(0,0)\"><path class=\"background\" aria-hidden=\"true\" d=\"M0,0h1020v200h-1020Z\"/><g><g class=\"mark-area role-mark marks\" role=\"graphics-object\" aria-roledescription=\"area mark container\"><path aria-label=\"year: 2020; recycled content: 0; variable: inn5\" role=\"graphics-symbol\" aria-roledescription=\"area mark\" d=\"M10,177.77777777777777L30,177.77777777777777L50,177.77777777777777L70,177.77777777777777L90,177.77777777777777L110,177.77777777777777L130,177.77777777777777L150,177.77777777777777L170,177.77777777777777L190,177.77777777777777L210,177.77777777777777L230,177.77777777777777L250,177.77777777777777L270,177.77777777777777L290,177.77777777777777L310,177.77777777777777L330,177.77777777777777L350,177.77777777777777L370,177.77777777777777L390,177.77777777777777L410,177.77777777777777L430,177.77777777777777L450,177.77777777777777L470,177.77777777777777L490,177.77777777777777L510,177.77777777777777L530,177.77777777777777L550,177.77777777777777L570,177.77777777777777L590,177.77777777777777L610,177.77777777777777L630,177.77777777777777L650,177.77777777777777L670,177.77777777777777L690,177.77777777777777L710,177.77777777777777L730,177.77777777777777L750,177.77777777777777L770,177.77777777777777L790,177.77777777777777L810,177.77777777777777L830,177.77777777777777L850,177.77777777777777L870,177.77777777777777L890,177.77777777777777L910,177.77777777777777L930,177.77777777777777L950,177.77777777777777L970,177.77777777777777L990,177.77777777777777L1010,177.77777777777777L1010,177.77777777777777L990,177.77777777777777L970,177.77777777777777L950,177.77777777777777L930,177.77777777777777L910,177.77777777777777L890,177.77777777777777L870,177.77777777777777L850,177.77777777777777L830,177.77777777777777L810,177.77777777777777L790,177.77777777777777L770,177.77777777777777L750,177.77777777777777L730,177.77777777777777L710,177.77777777777777L690,177.77777777777777L670,177.77777777777777L650,177.77777777777777L630,177.77777777777777L610,177.77777777777777L590,177.77777777777777L570,177.77777777777777L550,177.77777777777777L530,177.77777777777777L510,177.77777777777777L490,177.77777777777777L470,177.77777777777777L450,177.77777777777777L430,177.77777777777777L410,177.77777777777777L390,177.77777777777777L370,177.77777777777777L350,177.77777777777777L330,177.77777777777777L310,177.77777777777777L290,177.77777777777777L270,177.77777777777777L250,177.77777777777777L230,177.77777777777777L210,177.77777777777777L190,177.77777777777777L170,177.77777777777777L150,177.77777777777777L130,177.77777777777777L110,177.77777777777777L90,177.77777777777777L70,177.77777777777777L50,177.77777777777777L30,177.77777777777777L10,177.77777777777777Z\" fill=\"#eeca3b\"/></g></g><path class=\"foreground\" aria-hidden=\"true\" d=\"\" display=\"none\"/></g></g><g class=\"mark-group role-legend\" role=\"graphics-symbol\" aria-roledescription=\"legend\" aria-label=\"Symbol legend titled 'variable' for fill color with 6 values: conv, inn1, inn2, inn3, inn4, inn5\"><g transform=\"translate(1038,0)\"><path class=\"background\" aria-hidden=\"true\" d=\"M0,0h49v92h-49Z\" pointer-events=\"none\"/><g><g class=\"mark-group role-legend-entry\"><g transform=\"translate(0,16)\"><path class=\"background\" aria-hidden=\"true\" d=\"M0,0h0v0h0Z\" pointer-events=\"none\"/><g><g class=\"mark-group role-scope\" role=\"graphics-object\" aria-roledescription=\"group mark container\"><g transform=\"translate(0,0)\"><path class=\"background\" aria-hidden=\"true\" d=\"M0,0h40v11h-40Z\" pointer-events=\"none\" opacity=\"1\"/><g><g class=\"mark-symbol role-legend-symbol\" pointer-events=\"none\"><path transform=\"translate(6,6)\" d=\"M5,0A5,5,0,1,1,-5,0A5,5,0,1,1,5,0\" fill=\"#4c78a8\" stroke-width=\"1.5\" opacity=\"1\"/></g><g class=\"mark-text role-legend-label\" pointer-events=\"none\"><text text-anchor=\"start\" transform=\"translate(16,9)\" font-family=\"sans-serif\" font-size=\"10px\" fill=\"#000\" opacity=\"1\">conv</text></g></g><path class=\"foreground\" aria-hidden=\"true\" d=\"\" pointer-events=\"none\" display=\"none\"/></g><g transform=\"translate(0,13)\"><path class=\"background\" aria-hidden=\"true\" d=\"M0,0h40v11h-40Z\" pointer-events=\"none\" opacity=\"1\"/><g><g class=\"mark-symbol role-legend-symbol\" pointer-events=\"none\"><path transform=\"translate(6,6)\" d=\"M5,0A5,5,0,1,1,-5,0A5,5,0,1,1,5,0\" fill=\"#f58518\" stroke-width=\"1.5\" opacity=\"1\"/></g><g class=\"mark-text role-legend-label\" pointer-events=\"none\"><text text-anchor=\"start\" transform=\"translate(16,9)\" font-family=\"sans-serif\" font-size=\"10px\" fill=\"#000\" opacity=\"1\">inn1</text></g></g><path class=\"foreground\" aria-hidden=\"true\" d=\"\" pointer-events=\"none\" display=\"none\"/></g><g transform=\"translate(0,26)\"><path class=\"background\" aria-hidden=\"true\" d=\"M0,0h40v11h-40Z\" pointer-events=\"none\" opacity=\"1\"/><g><g class=\"mark-symbol role-legend-symbol\" pointer-events=\"none\"><path transform=\"translate(6,6)\" d=\"M5,0A5,5,0,1,1,-5,0A5,5,0,1,1,5,0\" fill=\"#e45756\" stroke-width=\"1.5\" opacity=\"1\"/></g><g class=\"mark-text role-legend-label\" pointer-events=\"none\"><text text-anchor=\"start\" transform=\"translate(16,9)\" font-family=\"sans-serif\" font-size=\"10px\" fill=\"#000\" opacity=\"1\">inn2</text></g></g><path class=\"foreground\" aria-hidden=\"true\" d=\"\" pointer-events=\"none\" display=\"none\"/></g><g transform=\"translate(0,39)\"><path class=\"background\" aria-hidden=\"true\" d=\"M0,0h40v11h-40Z\" pointer-events=\"none\" opacity=\"1\"/><g><g class=\"mark-symbol role-legend-symbol\" pointer-events=\"none\"><path transform=\"translate(6,6)\" d=\"M5,0A5,5,0,1,1,-5,0A5,5,0,1,1,5,0\" fill=\"#72b7b2\" stroke-width=\"1.5\" opacity=\"1\"/></g><g class=\"mark-text role-legend-label\" pointer-events=\"none\"><text text-anchor=\"start\" transform=\"translate(16,9)\" font-family=\"sans-serif\" font-size=\"10px\" fill=\"#000\" opacity=\"1\">inn3</text></g></g><path class=\"foreground\" aria-hidden=\"true\" d=\"\" pointer-events=\"none\" display=\"none\"/></g><g transform=\"translate(0,52)\"><path class=\"background\" aria-hidden=\"true\" d=\"M0,0h40v11h-40Z\" pointer-events=\"none\" opacity=\"1\"/><g><g class=\"mark-symbol role-legend-symbol\" pointer-events=\"none\"><path transform=\"translate(6,6)\" d=\"M5,0A5,5,0,1,1,-5,0A5,5,0,1,1,5,0\" fill=\"#54a24b\" stroke-width=\"1.5\" opacity=\"1\"/></g><g class=\"mark-text role-legend-label\" pointer-events=\"none\"><text text-anchor=\"start\" transform=\"translate(16,9)\" font-family=\"sans-serif\" font-size=\"10px\" fill=\"#000\" opacity=\"1\">inn4</text></g></g><path class=\"foreground\" aria-hidden=\"true\" d=\"\" pointer-events=\"none\" display=\"none\"/></g><g transform=\"translate(0,65)\"><path class=\"background\" aria-hidden=\"true\" d=\"M0,0h40v11h-40Z\" pointer-events=\"none\" opacity=\"1\"/><g><g class=\"mark-symbol role-legend-symbol\" pointer-events=\"none\"><path transform=\"translate(6,6)\" d=\"M5,0A5,5,0,1,1,-5,0A5,5,0,1,1,5,0\" fill=\"#eeca3b\" stroke-width=\"1.5\" opacity=\"1\"/></g><g class=\"mark-text role-legend-label\" pointer-events=\"none\"><text text-anchor=\"start\" transform=\"translate(16,9)\" font-family=\"sans-serif\" font-size=\"10px\" fill=\"#000\" opacity=\"1\">inn5</text></g></g><path class=\"foreground\" aria-hidden=\"true\" d=\"\" pointer-events=\"none\" display=\"none\"/></g></g></g><path class=\"foreground\" aria-hidden=\"true\" d=\"\" pointer-events=\"none\" display=\"none\"/></g></g><g class=\"mark-text role-legend-title\" pointer-events=\"none\"><text text-anchor=\"start\" transform=\"translate(0,9)\" font-family=\"sans-serif\" font-size=\"11px\" font-weight=\"bold\" fill=\"#000\" opacity=\"1\">variable</text></g></g><path class=\"foreground\" aria-hidden=\"true\" d=\"\" pointer-events=\"none\" display=\"none\"/></g></g></g><path class=\"foreground\" aria-hidden=\"true\" d=\"\" display=\"none\"/></g></g></g></svg>\n"
      ],
      "text/plain": [
       "@vlplot(\n",
       "    ylab=\"circularity\",\n",
       "    mark=\"area\",\n",
       "    encoding={\n",
       "        x={\n",
       "            field=\"year\"\n",
       "        },\n",
       "        y={\n",
       "            stack=\"zero\",\n",
       "            title=\"recycled content\",\n",
       "            field=\"value\"\n",
       "        },\n",
       "        color={\n",
       "            field=\"variable\",\n",
       "            type=\"nominal\"\n",
       "        }\n",
       "    },\n",
       "    data={\n",
       "        values=...\n",
       "    }\n",
       ")"
      ]
     },
     "execution_count": 76,
     "metadata": {},
     "output_type": "execute_result"
    }
   ],
   "source": [
    "function conventional(t)\n",
    "    return initial[1,5]*(1-sum(JuMP.values.(xk)[k,t] for k in 1:nrow(compromise)))\n",
    "end\n",
    "\n",
    "function innovation(i,t)\n",
    "    if i==1\n",
    "        return sum(JuMP.values.(xk)[k,t]*(compromise[k,5]) for k=1:mapki[i,2])\n",
    "    else\n",
    "        return sum(JuMP.values.(xk)[k,t]*(compromise[k,5]) for k=mapki[i-1,2]:mapki[i,2] )\n",
    "    end\n",
    "end\n",
    "\n",
    "conv=zeros(51)\n",
    "\n",
    "conv[1]=initial[1,5]\n",
    "inn_co2=zeros(5,51)\n",
    "\n",
    "for inn in 1:5\n",
    "    inn_co2[inn,1]=0\n",
    "end\n",
    "\n",
    "j=0\n",
    "for i in 2:51\n",
    "    if 0 ≤ i ≤ 5\n",
    "        j=1\n",
    "    elseif 6 ≤ i ≤ 10\n",
    "        j=2\n",
    "    elseif 6 ≤ i ≤ 10\n",
    "        j=3\n",
    "    elseif 11 ≤ i ≤ 15\n",
    "        j=4\n",
    "    elseif 16 ≤ i ≤ 20\n",
    "        j=5\n",
    "    elseif 21 ≤ i ≤ 25\n",
    "        j=6\n",
    "    else\n",
    "        j=7\n",
    "    end\n",
    "        \n",
    "    conv[i]=conventional(j)\n",
    "    for inn in 1:5\n",
    "        inn_co2[inn,i]=innovation(inn,j)\n",
    "    end\n",
    "end\n",
    "\n",
    "sNames = [\"conv\",\"inn1\",\"inn2\",\"inn3\",\"inn4\",\"inn5\"]\n",
    "xLabels = []\n",
    "for i in 2020:2070\n",
    "    push!(xLabels,string(i))\n",
    "end\n",
    "\n",
    "df = DataFrame(year=xLabels, conv=conv, inn1=inn_co2[1,:],inn2=inn_co2[2,:],inn3=inn_co2[3,:],inn4=inn_co2[4,:],inn5=inn_co2[5,:])\n",
    "\n",
    "df |> stack |> @vlplot(:area, x=:year, y={:value, stack=:zero, title=\"recycled content\"}, color=\"variable:n\",ylab=\"circularity\") "
   ]
  },
  {
   "cell_type": "code",
   "execution_count": 86,
   "id": "6747696d",
   "metadata": {},
   "outputs": [
    {
     "data": {
      "application/vnd.vegalite.v4+json": {
       "data": {
        "values": [
         {
          "value": 0.12,
          "variable": "conv",
          "year": "2020"
         },
         {
          "value": 0,
          "variable": "conv",
          "year": "2021"
         },
         {
          "value": 0,
          "variable": "conv",
          "year": "2022"
         },
         {
          "value": 0,
          "variable": "conv",
          "year": "2023"
         },
         {
          "value": 0,
          "variable": "conv",
          "year": "2024"
         },
         {
          "value": 0,
          "variable": "conv",
          "year": "2025"
         },
         {
          "value": 0,
          "variable": "conv",
          "year": "2026"
         },
         {
          "value": 0,
          "variable": "conv",
          "year": "2027"
         },
         {
          "value": 0,
          "variable": "conv",
          "year": "2028"
         },
         {
          "value": 0,
          "variable": "conv",
          "year": "2029"
         },
         {
          "value": 0,
          "variable": "conv",
          "year": "2030"
         },
         {
          "value": 0,
          "variable": "conv",
          "year": "2031"
         },
         {
          "value": 0,
          "variable": "conv",
          "year": "2032"
         },
         {
          "value": 0,
          "variable": "conv",
          "year": "2033"
         },
         {
          "value": 0,
          "variable": "conv",
          "year": "2034"
         },
         {
          "value": 1.1102230246251565e-16,
          "variable": "conv",
          "year": "2035"
         },
         {
          "value": 1.1102230246251565e-16,
          "variable": "conv",
          "year": "2036"
         },
         {
          "value": 1.1102230246251565e-16,
          "variable": "conv",
          "year": "2037"
         },
         {
          "value": 1.1102230246251565e-16,
          "variable": "conv",
          "year": "2038"
         },
         {
          "value": 1.1102230246251565e-16,
          "variable": "conv",
          "year": "2039"
         },
         {
          "value": 0,
          "variable": "conv",
          "year": "2040"
         },
         {
          "value": 0,
          "variable": "conv",
          "year": "2041"
         },
         {
          "value": 0,
          "variable": "conv",
          "year": "2042"
         },
         {
          "value": 0,
          "variable": "conv",
          "year": "2043"
         },
         {
          "value": 0,
          "variable": "conv",
          "year": "2044"
         },
         {
          "value": 0,
          "variable": "conv",
          "year": "2045"
         },
         {
          "value": 0,
          "variable": "conv",
          "year": "2046"
         },
         {
          "value": 0,
          "variable": "conv",
          "year": "2047"
         },
         {
          "value": 0,
          "variable": "conv",
          "year": "2048"
         },
         {
          "value": 0,
          "variable": "conv",
          "year": "2049"
         },
         {
          "value": 0,
          "variable": "conv",
          "year": "2050"
         },
         {
          "value": 0,
          "variable": "conv",
          "year": "2051"
         },
         {
          "value": 0,
          "variable": "conv",
          "year": "2052"
         },
         {
          "value": 0,
          "variable": "conv",
          "year": "2053"
         },
         {
          "value": 0,
          "variable": "conv",
          "year": "2054"
         },
         {
          "value": 0,
          "variable": "conv",
          "year": "2055"
         },
         {
          "value": 0,
          "variable": "conv",
          "year": "2056"
         },
         {
          "value": 0,
          "variable": "conv",
          "year": "2057"
         },
         {
          "value": 0,
          "variable": "conv",
          "year": "2058"
         },
         {
          "value": 0,
          "variable": "conv",
          "year": "2059"
         },
         {
          "value": 0,
          "variable": "conv",
          "year": "2060"
         },
         {
          "value": 0,
          "variable": "conv",
          "year": "2061"
         },
         {
          "value": 0,
          "variable": "conv",
          "year": "2062"
         },
         {
          "value": 0,
          "variable": "conv",
          "year": "2063"
         },
         {
          "value": 0,
          "variable": "conv",
          "year": "2064"
         },
         {
          "value": 0,
          "variable": "conv",
          "year": "2065"
         },
         {
          "value": 0,
          "variable": "conv",
          "year": "2066"
         },
         {
          "value": 0,
          "variable": "conv",
          "year": "2067"
         },
         {
          "value": 0,
          "variable": "conv",
          "year": "2068"
         },
         {
          "value": 0,
          "variable": "conv",
          "year": "2069"
         },
         {
          "value": 0,
          "variable": "conv",
          "year": "2070"
         },
         {
          "value": 0,
          "variable": "inn1",
          "year": "2020"
         },
         {
          "value": 0,
          "variable": "inn1",
          "year": "2021"
         },
         {
          "value": 0,
          "variable": "inn1",
          "year": "2022"
         },
         {
          "value": 0,
          "variable": "inn1",
          "year": "2023"
         },
         {
          "value": 0,
          "variable": "inn1",
          "year": "2024"
         },
         {
          "value": 0,
          "variable": "inn1",
          "year": "2025"
         },
         {
          "value": 0,
          "variable": "inn1",
          "year": "2026"
         },
         {
          "value": 0,
          "variable": "inn1",
          "year": "2027"
         },
         {
          "value": 0,
          "variable": "inn1",
          "year": "2028"
         },
         {
          "value": 0,
          "variable": "inn1",
          "year": "2029"
         },
         {
          "value": 0,
          "variable": "inn1",
          "year": "2030"
         },
         {
          "value": 0,
          "variable": "inn1",
          "year": "2031"
         },
         {
          "value": 0,
          "variable": "inn1",
          "year": "2032"
         },
         {
          "value": 0,
          "variable": "inn1",
          "year": "2033"
         },
         {
          "value": 0,
          "variable": "inn1",
          "year": "2034"
         },
         {
          "value": 0,
          "variable": "inn1",
          "year": "2035"
         },
         {
          "value": 0,
          "variable": "inn1",
          "year": "2036"
         },
         {
          "value": 0,
          "variable": "inn1",
          "year": "2037"
         },
         {
          "value": 0,
          "variable": "inn1",
          "year": "2038"
         },
         {
          "value": 0,
          "variable": "inn1",
          "year": "2039"
         },
         {
          "value": 0,
          "variable": "inn1",
          "year": "2040"
         },
         {
          "value": 0,
          "variable": "inn1",
          "year": "2041"
         },
         {
          "value": 0,
          "variable": "inn1",
          "year": "2042"
         },
         {
          "value": 0,
          "variable": "inn1",
          "year": "2043"
         },
         {
          "value": 0,
          "variable": "inn1",
          "year": "2044"
         },
         {
          "value": 0,
          "variable": "inn1",
          "year": "2045"
         },
         {
          "value": 0,
          "variable": "inn1",
          "year": "2046"
         },
         {
          "value": 0,
          "variable": "inn1",
          "year": "2047"
         },
         {
          "value": 0,
          "variable": "inn1",
          "year": "2048"
         },
         {
          "value": 0,
          "variable": "inn1",
          "year": "2049"
         },
         {
          "value": 0,
          "variable": "inn1",
          "year": "2050"
         },
         {
          "value": 0,
          "variable": "inn1",
          "year": "2051"
         },
         {
          "value": 0,
          "variable": "inn1",
          "year": "2052"
         },
         {
          "value": 0,
          "variable": "inn1",
          "year": "2053"
         },
         {
          "value": 0,
          "variable": "inn1",
          "year": "2054"
         },
         {
          "value": 0,
          "variable": "inn1",
          "year": "2055"
         },
         {
          "value": 0,
          "variable": "inn1",
          "year": "2056"
         },
         {
          "value": 0,
          "variable": "inn1",
          "year": "2057"
         },
         {
          "value": 0,
          "variable": "inn1",
          "year": "2058"
         },
         {
          "value": 0,
          "variable": "inn1",
          "year": "2059"
         },
         {
          "value": 0,
          "variable": "inn1",
          "year": "2060"
         },
         {
          "value": 0,
          "variable": "inn1",
          "year": "2061"
         },
         {
          "value": 0,
          "variable": "inn1",
          "year": "2062"
         },
         {
          "value": 0,
          "variable": "inn1",
          "year": "2063"
         },
         {
          "value": 0,
          "variable": "inn1",
          "year": "2064"
         },
         {
          "value": 0,
          "variable": "inn1",
          "year": "2065"
         },
         {
          "value": 0,
          "variable": "inn1",
          "year": "2066"
         },
         {
          "value": 0,
          "variable": "inn1",
          "year": "2067"
         },
         {
          "value": 0,
          "variable": "inn1",
          "year": "2068"
         },
         {
          "value": 0,
          "variable": "inn1",
          "year": "2069"
         },
         {
          "value": 0,
          "variable": "inn1",
          "year": "2070"
         },
         {
          "value": 0,
          "variable": "inn2",
          "year": "2020"
         },
         {
          "value": 0,
          "variable": "inn2",
          "year": "2021"
         },
         {
          "value": 0,
          "variable": "inn2",
          "year": "2022"
         },
         {
          "value": 0,
          "variable": "inn2",
          "year": "2023"
         },
         {
          "value": 0,
          "variable": "inn2",
          "year": "2024"
         },
         {
          "value": 0,
          "variable": "inn2",
          "year": "2025"
         },
         {
          "value": 0,
          "variable": "inn2",
          "year": "2026"
         },
         {
          "value": 0,
          "variable": "inn2",
          "year": "2027"
         },
         {
          "value": 0,
          "variable": "inn2",
          "year": "2028"
         },
         {
          "value": 0,
          "variable": "inn2",
          "year": "2029"
         },
         {
          "value": 0,
          "variable": "inn2",
          "year": "2030"
         },
         {
          "value": 0,
          "variable": "inn2",
          "year": "2031"
         },
         {
          "value": 0,
          "variable": "inn2",
          "year": "2032"
         },
         {
          "value": 0,
          "variable": "inn2",
          "year": "2033"
         },
         {
          "value": 0,
          "variable": "inn2",
          "year": "2034"
         },
         {
          "value": 0,
          "variable": "inn2",
          "year": "2035"
         },
         {
          "value": 0,
          "variable": "inn2",
          "year": "2036"
         },
         {
          "value": 0,
          "variable": "inn2",
          "year": "2037"
         },
         {
          "value": 0,
          "variable": "inn2",
          "year": "2038"
         },
         {
          "value": 0,
          "variable": "inn2",
          "year": "2039"
         },
         {
          "value": 0,
          "variable": "inn2",
          "year": "2040"
         },
         {
          "value": 0,
          "variable": "inn2",
          "year": "2041"
         },
         {
          "value": 0,
          "variable": "inn2",
          "year": "2042"
         },
         {
          "value": 0,
          "variable": "inn2",
          "year": "2043"
         },
         {
          "value": 0,
          "variable": "inn2",
          "year": "2044"
         },
         {
          "value": 0,
          "variable": "inn2",
          "year": "2045"
         },
         {
          "value": 0,
          "variable": "inn2",
          "year": "2046"
         },
         {
          "value": 0,
          "variable": "inn2",
          "year": "2047"
         },
         {
          "value": 0,
          "variable": "inn2",
          "year": "2048"
         },
         {
          "value": 0,
          "variable": "inn2",
          "year": "2049"
         },
         {
          "value": 0,
          "variable": "inn2",
          "year": "2050"
         },
         {
          "value": 0,
          "variable": "inn2",
          "year": "2051"
         },
         {
          "value": 0,
          "variable": "inn2",
          "year": "2052"
         },
         {
          "value": 0,
          "variable": "inn2",
          "year": "2053"
         },
         {
          "value": 0,
          "variable": "inn2",
          "year": "2054"
         },
         {
          "value": 0,
          "variable": "inn2",
          "year": "2055"
         },
         {
          "value": 0,
          "variable": "inn2",
          "year": "2056"
         },
         {
          "value": 0,
          "variable": "inn2",
          "year": "2057"
         },
         {
          "value": 0,
          "variable": "inn2",
          "year": "2058"
         },
         {
          "value": 0,
          "variable": "inn2",
          "year": "2059"
         },
         {
          "value": 0,
          "variable": "inn2",
          "year": "2060"
         },
         {
          "value": 0,
          "variable": "inn2",
          "year": "2061"
         },
         {
          "value": 0,
          "variable": "inn2",
          "year": "2062"
         },
         {
          "value": 0,
          "variable": "inn2",
          "year": "2063"
         },
         {
          "value": 0,
          "variable": "inn2",
          "year": "2064"
         },
         {
          "value": 0,
          "variable": "inn2",
          "year": "2065"
         },
         {
          "value": 0,
          "variable": "inn2",
          "year": "2066"
         },
         {
          "value": 0,
          "variable": "inn2",
          "year": "2067"
         },
         {
          "value": 0,
          "variable": "inn2",
          "year": "2068"
         },
         {
          "value": 0,
          "variable": "inn2",
          "year": "2069"
         },
         {
          "value": 0,
          "variable": "inn2",
          "year": "2070"
         },
         {
          "value": 0,
          "variable": "inn3",
          "year": "2020"
         },
         {
          "value": 0,
          "variable": "inn3",
          "year": "2021"
         },
         {
          "value": 0,
          "variable": "inn3",
          "year": "2022"
         },
         {
          "value": 0,
          "variable": "inn3",
          "year": "2023"
         },
         {
          "value": 0,
          "variable": "inn3",
          "year": "2024"
         },
         {
          "value": 0,
          "variable": "inn3",
          "year": "2025"
         },
         {
          "value": 0,
          "variable": "inn3",
          "year": "2026"
         },
         {
          "value": 0,
          "variable": "inn3",
          "year": "2027"
         },
         {
          "value": 0,
          "variable": "inn3",
          "year": "2028"
         },
         {
          "value": 0,
          "variable": "inn3",
          "year": "2029"
         },
         {
          "value": 0.2499999999999999,
          "variable": "inn3",
          "year": "2030"
         },
         {
          "value": 0.2499999999999999,
          "variable": "inn3",
          "year": "2031"
         },
         {
          "value": 0.2499999999999999,
          "variable": "inn3",
          "year": "2032"
         },
         {
          "value": 0.2499999999999999,
          "variable": "inn3",
          "year": "2033"
         },
         {
          "value": 0.2499999999999999,
          "variable": "inn3",
          "year": "2034"
         },
         {
          "value": 0.24999999999999992,
          "variable": "inn3",
          "year": "2035"
         },
         {
          "value": 0.24999999999999992,
          "variable": "inn3",
          "year": "2036"
         },
         {
          "value": 0.24999999999999992,
          "variable": "inn3",
          "year": "2037"
         },
         {
          "value": 0.24999999999999992,
          "variable": "inn3",
          "year": "2038"
         },
         {
          "value": 0.24999999999999992,
          "variable": "inn3",
          "year": "2039"
         },
         {
          "value": 0.25,
          "variable": "inn3",
          "year": "2040"
         },
         {
          "value": 0.25,
          "variable": "inn3",
          "year": "2041"
         },
         {
          "value": 0.25,
          "variable": "inn3",
          "year": "2042"
         },
         {
          "value": 0.25,
          "variable": "inn3",
          "year": "2043"
         },
         {
          "value": 0.25,
          "variable": "inn3",
          "year": "2044"
         },
         {
          "value": 0.18699186991869893,
          "variable": "inn3",
          "year": "2045"
         },
         {
          "value": 0.18699186991869893,
          "variable": "inn3",
          "year": "2046"
         },
         {
          "value": 0.18699186991869893,
          "variable": "inn3",
          "year": "2047"
         },
         {
          "value": 0.18699186991869893,
          "variable": "inn3",
          "year": "2048"
         },
         {
          "value": 0.18699186991869893,
          "variable": "inn3",
          "year": "2049"
         },
         {
          "value": 0.18699186991869893,
          "variable": "inn3",
          "year": "2050"
         },
         {
          "value": 0.18699186991869893,
          "variable": "inn3",
          "year": "2051"
         },
         {
          "value": 0.18699186991869893,
          "variable": "inn3",
          "year": "2052"
         },
         {
          "value": 0.18699186991869893,
          "variable": "inn3",
          "year": "2053"
         },
         {
          "value": 0.18699186991869893,
          "variable": "inn3",
          "year": "2054"
         },
         {
          "value": 0.18699186991869893,
          "variable": "inn3",
          "year": "2055"
         },
         {
          "value": 0.18699186991869893,
          "variable": "inn3",
          "year": "2056"
         },
         {
          "value": 0.18699186991869893,
          "variable": "inn3",
          "year": "2057"
         },
         {
          "value": 0.18699186991869893,
          "variable": "inn3",
          "year": "2058"
         },
         {
          "value": 0.18699186991869893,
          "variable": "inn3",
          "year": "2059"
         },
         {
          "value": 0.18699186991869893,
          "variable": "inn3",
          "year": "2060"
         },
         {
          "value": 0.18699186991869893,
          "variable": "inn3",
          "year": "2061"
         },
         {
          "value": 0.18699186991869893,
          "variable": "inn3",
          "year": "2062"
         },
         {
          "value": 0.18699186991869893,
          "variable": "inn3",
          "year": "2063"
         },
         {
          "value": 0.18699186991869893,
          "variable": "inn3",
          "year": "2064"
         },
         {
          "value": 0.18699186991869893,
          "variable": "inn3",
          "year": "2065"
         },
         {
          "value": 0.18699186991869893,
          "variable": "inn3",
          "year": "2066"
         },
         {
          "value": 0.18699186991869893,
          "variable": "inn3",
          "year": "2067"
         },
         {
          "value": 0.18699186991869893,
          "variable": "inn3",
          "year": "2068"
         },
         {
          "value": 0.18699186991869893,
          "variable": "inn3",
          "year": "2069"
         },
         {
          "value": 0.18699186991869893,
          "variable": "inn3",
          "year": "2070"
         },
         {
          "value": 0,
          "variable": "inn4",
          "year": "2020"
         },
         {
          "value": 1,
          "variable": "inn4",
          "year": "2021"
         },
         {
          "value": 1,
          "variable": "inn4",
          "year": "2022"
         },
         {
          "value": 1,
          "variable": "inn4",
          "year": "2023"
         },
         {
          "value": 1,
          "variable": "inn4",
          "year": "2024"
         },
         {
          "value": 1,
          "variable": "inn4",
          "year": "2025"
         },
         {
          "value": 1,
          "variable": "inn4",
          "year": "2026"
         },
         {
          "value": 1,
          "variable": "inn4",
          "year": "2027"
         },
         {
          "value": 1,
          "variable": "inn4",
          "year": "2028"
         },
         {
          "value": 1,
          "variable": "inn4",
          "year": "2029"
         },
         {
          "value": 0.7500000000000001,
          "variable": "inn4",
          "year": "2030"
         },
         {
          "value": 0.7500000000000001,
          "variable": "inn4",
          "year": "2031"
         },
         {
          "value": 0.7500000000000001,
          "variable": "inn4",
          "year": "2032"
         },
         {
          "value": 0.7500000000000001,
          "variable": "inn4",
          "year": "2033"
         },
         {
          "value": 0.7500000000000001,
          "variable": "inn4",
          "year": "2034"
         },
         {
          "value": 0.75,
          "variable": "inn4",
          "year": "2035"
         },
         {
          "value": 0.75,
          "variable": "inn4",
          "year": "2036"
         },
         {
          "value": 0.75,
          "variable": "inn4",
          "year": "2037"
         },
         {
          "value": 0.75,
          "variable": "inn4",
          "year": "2038"
         },
         {
          "value": 0.75,
          "variable": "inn4",
          "year": "2039"
         },
         {
          "value": 0.75,
          "variable": "inn4",
          "year": "2040"
         },
         {
          "value": 0.75,
          "variable": "inn4",
          "year": "2041"
         },
         {
          "value": 0.75,
          "variable": "inn4",
          "year": "2042"
         },
         {
          "value": 0.75,
          "variable": "inn4",
          "year": "2043"
         },
         {
          "value": 0.75,
          "variable": "inn4",
          "year": "2044"
         },
         {
          "value": 0.8130081300813011,
          "variable": "inn4",
          "year": "2045"
         },
         {
          "value": 0.8130081300813011,
          "variable": "inn4",
          "year": "2046"
         },
         {
          "value": 0.8130081300813011,
          "variable": "inn4",
          "year": "2047"
         },
         {
          "value": 0.8130081300813011,
          "variable": "inn4",
          "year": "2048"
         },
         {
          "value": 0.8130081300813011,
          "variable": "inn4",
          "year": "2049"
         },
         {
          "value": 0.8130081300813011,
          "variable": "inn4",
          "year": "2050"
         },
         {
          "value": 0.8130081300813011,
          "variable": "inn4",
          "year": "2051"
         },
         {
          "value": 0.8130081300813011,
          "variable": "inn4",
          "year": "2052"
         },
         {
          "value": 0.8130081300813011,
          "variable": "inn4",
          "year": "2053"
         },
         {
          "value": 0.8130081300813011,
          "variable": "inn4",
          "year": "2054"
         },
         {
          "value": 0.8130081300813011,
          "variable": "inn4",
          "year": "2055"
         },
         {
          "value": 0.8130081300813011,
          "variable": "inn4",
          "year": "2056"
         },
         {
          "value": 0.8130081300813011,
          "variable": "inn4",
          "year": "2057"
         },
         {
          "value": 0.8130081300813011,
          "variable": "inn4",
          "year": "2058"
         },
         {
          "value": 0.8130081300813011,
          "variable": "inn4",
          "year": "2059"
         },
         {
          "value": 0.8130081300813011,
          "variable": "inn4",
          "year": "2060"
         },
         {
          "value": 0.8130081300813011,
          "variable": "inn4",
          "year": "2061"
         },
         {
          "value": 0.8130081300813011,
          "variable": "inn4",
          "year": "2062"
         },
         {
          "value": 0.8130081300813011,
          "variable": "inn4",
          "year": "2063"
         },
         {
          "value": 0.8130081300813011,
          "variable": "inn4",
          "year": "2064"
         },
         {
          "value": 0.8130081300813011,
          "variable": "inn4",
          "year": "2065"
         },
         {
          "value": 0.8130081300813011,
          "variable": "inn4",
          "year": "2066"
         },
         {
          "value": 0.8130081300813011,
          "variable": "inn4",
          "year": "2067"
         },
         {
          "value": 0.8130081300813011,
          "variable": "inn4",
          "year": "2068"
         },
         {
          "value": 0.8130081300813011,
          "variable": "inn4",
          "year": "2069"
         },
         {
          "value": 0.8130081300813011,
          "variable": "inn4",
          "year": "2070"
         },
         {
          "value": 0,
          "variable": "inn5",
          "year": "2020"
         },
         {
          "value": 0,
          "variable": "inn5",
          "year": "2021"
         },
         {
          "value": 0,
          "variable": "inn5",
          "year": "2022"
         },
         {
          "value": 0,
          "variable": "inn5",
          "year": "2023"
         },
         {
          "value": 0,
          "variable": "inn5",
          "year": "2024"
         },
         {
          "value": 0,
          "variable": "inn5",
          "year": "2025"
         },
         {
          "value": 0,
          "variable": "inn5",
          "year": "2026"
         },
         {
          "value": 0,
          "variable": "inn5",
          "year": "2027"
         },
         {
          "value": 0,
          "variable": "inn5",
          "year": "2028"
         },
         {
          "value": 0,
          "variable": "inn5",
          "year": "2029"
         },
         {
          "value": 0,
          "variable": "inn5",
          "year": "2030"
         },
         {
          "value": 0,
          "variable": "inn5",
          "year": "2031"
         },
         {
          "value": 0,
          "variable": "inn5",
          "year": "2032"
         },
         {
          "value": 0,
          "variable": "inn5",
          "year": "2033"
         },
         {
          "value": 0,
          "variable": "inn5",
          "year": "2034"
         },
         {
          "value": 0,
          "variable": "inn5",
          "year": "2035"
         },
         {
          "value": 0,
          "variable": "inn5",
          "year": "2036"
         },
         {
          "value": 0,
          "variable": "inn5",
          "year": "2037"
         },
         {
          "value": 0,
          "variable": "inn5",
          "year": "2038"
         },
         {
          "value": 0,
          "variable": "inn5",
          "year": "2039"
         },
         {
          "value": 0,
          "variable": "inn5",
          "year": "2040"
         },
         {
          "value": 0,
          "variable": "inn5",
          "year": "2041"
         },
         {
          "value": 0,
          "variable": "inn5",
          "year": "2042"
         },
         {
          "value": 0,
          "variable": "inn5",
          "year": "2043"
         },
         {
          "value": 0,
          "variable": "inn5",
          "year": "2044"
         },
         {
          "value": 0,
          "variable": "inn5",
          "year": "2045"
         },
         {
          "value": 0,
          "variable": "inn5",
          "year": "2046"
         },
         {
          "value": 0,
          "variable": "inn5",
          "year": "2047"
         },
         {
          "value": 0,
          "variable": "inn5",
          "year": "2048"
         },
         {
          "value": 0,
          "variable": "inn5",
          "year": "2049"
         },
         {
          "value": 0,
          "variable": "inn5",
          "year": "2050"
         },
         {
          "value": 0,
          "variable": "inn5",
          "year": "2051"
         },
         {
          "value": 0,
          "variable": "inn5",
          "year": "2052"
         },
         {
          "value": 0,
          "variable": "inn5",
          "year": "2053"
         },
         {
          "value": 0,
          "variable": "inn5",
          "year": "2054"
         },
         {
          "value": 0,
          "variable": "inn5",
          "year": "2055"
         },
         {
          "value": 0,
          "variable": "inn5",
          "year": "2056"
         },
         {
          "value": 0,
          "variable": "inn5",
          "year": "2057"
         },
         {
          "value": 0,
          "variable": "inn5",
          "year": "2058"
         },
         {
          "value": 0,
          "variable": "inn5",
          "year": "2059"
         },
         {
          "value": 0,
          "variable": "inn5",
          "year": "2060"
         },
         {
          "value": 0,
          "variable": "inn5",
          "year": "2061"
         },
         {
          "value": 0,
          "variable": "inn5",
          "year": "2062"
         },
         {
          "value": 0,
          "variable": "inn5",
          "year": "2063"
         },
         {
          "value": 0,
          "variable": "inn5",
          "year": "2064"
         },
         {
          "value": 0,
          "variable": "inn5",
          "year": "2065"
         },
         {
          "value": 0,
          "variable": "inn5",
          "year": "2066"
         },
         {
          "value": 0,
          "variable": "inn5",
          "year": "2067"
         },
         {
          "value": 0,
          "variable": "inn5",
          "year": "2068"
         },
         {
          "value": 0,
          "variable": "inn5",
          "year": "2069"
         },
         {
          "value": 0,
          "variable": "inn5",
          "year": "2070"
         }
        ]
       },
       "encoding": {
        "color": {
         "field": "variable",
         "type": "nominal"
        },
        "x": {
         "field": "year"
        },
        "y": {
         "field": "value",
         "stack": "zero",
         "title": "recycled content",
         "type": "quantitative"
        }
       },
       "mark": "area",
       "ylab": "circularity"
      },
      "image/png": "[encoded data removed]",
      "image/svg+xml": [
       "<?xml version=\"1.0\" encoding=\"utf-8\"?>\n",
       "<!DOCTYPE svg PUBLIC \"-//W3C//DTD SVG 1.1//EN\" \"http://www.w3.org/Graphics/SVG/1.1/DTD/svg11.dtd\">\n",
       "<svg xmlns=\"http://www.w3.org/2000/svg\" xmlns:xlink=\"http://www.w3.org/1999/xlink\" version=\"1.1\" class=\"marks\" width=\"1134\" height=\"261\" viewBox=\"0 0 1134 261\"><rect width=\"1134\" height=\"261\" fill=\"white\"/><g fill=\"none\" stroke-miterlimit=\"10\" transform=\"translate(42,10)\"><g class=\"mark-group role-frame root\" role=\"graphics-object\" aria-roledescription=\"group mark container\"><g transform=\"translate(0,0)\"><path class=\"background\" aria-hidden=\"true\" d=\"M0.5,0.5h1020v200h-1020Z\" stroke=\"#ddd\"/><g><g class=\"mark-group role-axis\" aria-hidden=\"true\"><g transform=\"translate(0.5,0.5)\"><path class=\"background\" aria-hidden=\"true\" d=\"M0,0h0v0h0Z\" pointer-events=\"none\"/><g><g class=\"mark-rule role-axis-grid\" pointer-events=\"none\"><line transform=\"translate(0,200)\" x2=\"1020\" y2=\"0\" stroke=\"#ddd\" stroke-width=\"1\" opacity=\"1\"/><line transform=\"translate(0,160)\" x2=\"1020\" y2=\"0\" stroke=\"#ddd\" stroke-width=\"1\" opacity=\"1\"/><line transform=\"translate(0,120)\" x2=\"1020\" y2=\"0\" stroke=\"#ddd\" stroke-width=\"1\" opacity=\"1\"/><line transform=\"translate(0,80)\" x2=\"1020\" y2=\"0\" stroke=\"#ddd\" stroke-width=\"1\" opacity=\"1\"/><line transform=\"translate(0,40)\" x2=\"1020\" y2=\"0\" stroke=\"#ddd\" stroke-width=\"1\" opacity=\"1\"/><line transform=\"translate(0,0)\" x2=\"1020\" y2=\"0\" stroke=\"#ddd\" stroke-width=\"1\" opacity=\"1\"/></g></g><path class=\"foreground\" aria-hidden=\"true\" d=\"\" pointer-events=\"none\" display=\"none\"/></g></g><g class=\"mark-group role-axis\" role=\"graphics-symbol\" aria-roledescription=\"axis\" aria-label=\"X-axis titled 'year' for a discrete scale with 51 values: 2020, 2021, 2022, 2023, 2024, ending with 2070\"><g transform=\"translate(0.5,200.5)\"><path class=\"background\" aria-hidden=\"true\" d=\"M0,0h0v0h0Z\" pointer-events=\"none\"/><g><g class=\"mark-rule role-axis-tick\" pointer-events=\"none\"><line transform=\"translate(10,0)\" x2=\"0\" y2=\"5\" stroke=\"#888\" stroke-width=\"1\" opacity=\"1\"/><line transform=\"translate(30,0)\" x2=\"0\" y2=\"5\" stroke=\"#888\" stroke-width=\"1\" opacity=\"1\"/><line transform=\"translate(50,0)\" x2=\"0\" y2=\"5\" stroke=\"#888\" stroke-width=\"1\" opacity=\"1\"/><line transform=\"translate(70,0)\" x2=\"0\" y2=\"5\" stroke=\"#888\" stroke-width=\"1\" opacity=\"1\"/><line transform=\"translate(90,0)\" x2=\"0\" y2=\"5\" stroke=\"#888\" stroke-width=\"1\" opacity=\"1\"/><line transform=\"translate(110,0)\" x2=\"0\" y2=\"5\" stroke=\"#888\" stroke-width=\"1\" opacity=\"1\"/><line transform=\"translate(130,0)\" x2=\"0\" y2=\"5\" stroke=\"#888\" stroke-width=\"1\" opacity=\"1\"/><line transform=\"translate(150,0)\" x2=\"0\" y2=\"5\" stroke=\"#888\" stroke-width=\"1\" opacity=\"1\"/><line transform=\"translate(170,0)\" x2=\"0\" y2=\"5\" stroke=\"#888\" stroke-width=\"1\" opacity=\"1\"/><line transform=\"translate(190,0)\" x2=\"0\" y2=\"5\" stroke=\"#888\" stroke-width=\"1\" opacity=\"1\"/><line transform=\"translate(210,0)\" x2=\"0\" y2=\"5\" stroke=\"#888\" stroke-width=\"1\" opacity=\"1\"/><line transform=\"translate(230,0)\" x2=\"0\" y2=\"5\" stroke=\"#888\" stroke-width=\"1\" opacity=\"1\"/><line transform=\"translate(250,0)\" x2=\"0\" y2=\"5\" stroke=\"#888\" stroke-width=\"1\" opacity=\"1\"/><line transform=\"translate(270,0)\" x2=\"0\" y2=\"5\" stroke=\"#888\" stroke-width=\"1\" opacity=\"1\"/><line transform=\"translate(290,0)\" x2=\"0\" y2=\"5\" stroke=\"#888\" stroke-width=\"1\" opacity=\"1\"/><line transform=\"translate(310,0)\" x2=\"0\" y2=\"5\" stroke=\"#888\" stroke-width=\"1\" opacity=\"1\"/><line transform=\"translate(330,0)\" x2=\"0\" y2=\"5\" stroke=\"#888\" stroke-width=\"1\" opacity=\"1\"/><line transform=\"translate(350,0)\" x2=\"0\" y2=\"5\" stroke=\"#888\" stroke-width=\"1\" opacity=\"1\"/><line transform=\"translate(370,0)\" x2=\"0\" y2=\"5\" stroke=\"#888\" stroke-width=\"1\" opacity=\"1\"/><line transform=\"translate(390,0)\" x2=\"0\" y2=\"5\" stroke=\"#888\" stroke-width=\"1\" opacity=\"1\"/><line transform=\"translate(410,0)\" x2=\"0\" y2=\"5\" stroke=\"#888\" stroke-width=\"1\" opacity=\"1\"/><line transform=\"translate(430,0)\" x2=\"0\" y2=\"5\" stroke=\"#888\" stroke-width=\"1\" opacity=\"1\"/><line transform=\"translate(450,0)\" x2=\"0\" y2=\"5\" stroke=\"#888\" stroke-width=\"1\" opacity=\"1\"/><line transform=\"translate(470,0)\" x2=\"0\" y2=\"5\" stroke=\"#888\" stroke-width=\"1\" opacity=\"1\"/><line transform=\"translate(490,0)\" x2=\"0\" y2=\"5\" stroke=\"#888\" stroke-width=\"1\" opacity=\"1\"/><line transform=\"translate(510,0)\" x2=\"0\" y2=\"5\" stroke=\"#888\" stroke-width=\"1\" opacity=\"1\"/><line transform=\"translate(530,0)\" x2=\"0\" y2=\"5\" stroke=\"#888\" stroke-width=\"1\" opacity=\"1\"/><line transform=\"translate(550,0)\" x2=\"0\" y2=\"5\" stroke=\"#888\" stroke-width=\"1\" opacity=\"1\"/><line transform=\"translate(570,0)\" x2=\"0\" y2=\"5\" stroke=\"#888\" stroke-width=\"1\" opacity=\"1\"/><line transform=\"translate(590,0)\" x2=\"0\" y2=\"5\" stroke=\"#888\" stroke-width=\"1\" opacity=\"1\"/><line transform=\"translate(610,0)\" x2=\"0\" y2=\"5\" stroke=\"#888\" stroke-width=\"1\" opacity=\"1\"/><line transform=\"translate(630,0)\" x2=\"0\" y2=\"5\" stroke=\"#888\" stroke-width=\"1\" opacity=\"1\"/><line transform=\"translate(650,0)\" x2=\"0\" y2=\"5\" stroke=\"#888\" stroke-width=\"1\" opacity=\"1\"/><line transform=\"translate(670,0)\" x2=\"0\" y2=\"5\" stroke=\"#888\" stroke-width=\"1\" opacity=\"1\"/><line transform=\"translate(690,0)\" x2=\"0\" y2=\"5\" stroke=\"#888\" stroke-width=\"1\" opacity=\"1\"/><line transform=\"translate(710,0)\" x2=\"0\" y2=\"5\" stroke=\"#888\" stroke-width=\"1\" opacity=\"1\"/><line transform=\"translate(730,0)\" x2=\"0\" y2=\"5\" stroke=\"#888\" stroke-width=\"1\" opacity=\"1\"/><line transform=\"translate(750,0)\" x2=\"0\" y2=\"5\" stroke=\"#888\" stroke-width=\"1\" opacity=\"1\"/><line transform=\"translate(770,0)\" x2=\"0\" y2=\"5\" stroke=\"#888\" stroke-width=\"1\" opacity=\"1\"/><line transform=\"translate(790,0)\" x2=\"0\" y2=\"5\" stroke=\"#888\" stroke-width=\"1\" opacity=\"1\"/><line transform=\"translate(810,0)\" x2=\"0\" y2=\"5\" stroke=\"#888\" stroke-width=\"1\" opacity=\"1\"/><line transform=\"translate(830,0)\" x2=\"0\" y2=\"5\" stroke=\"#888\" stroke-width=\"1\" opacity=\"1\"/><line transform=\"translate(850,0)\" x2=\"0\" y2=\"5\" stroke=\"#888\" stroke-width=\"1\" opacity=\"1\"/><line transform=\"translate(870,0)\" x2=\"0\" y2=\"5\" stroke=\"#888\" stroke-width=\"1\" opacity=\"1\"/><line transform=\"translate(890,0)\" x2=\"0\" y2=\"5\" stroke=\"#888\" stroke-width=\"1\" opacity=\"1\"/><line transform=\"translate(910,0)\" x2=\"0\" y2=\"5\" stroke=\"#888\" stroke-width=\"1\" opacity=\"1\"/><line transform=\"translate(930,0)\" x2=\"0\" y2=\"5\" stroke=\"#888\" stroke-width=\"1\" opacity=\"1\"/><line transform=\"translate(950,0)\" x2=\"0\" y2=\"5\" stroke=\"#888\" stroke-width=\"1\" opacity=\"1\"/><line transform=\"translate(970,0)\" x2=\"0\" y2=\"5\" stroke=\"#888\" stroke-width=\"1\" opacity=\"1\"/><line transform=\"translate(990,0)\" x2=\"0\" y2=\"5\" stroke=\"#888\" stroke-width=\"1\" opacity=\"1\"/><line transform=\"translate(1010,0)\" x2=\"0\" y2=\"5\" stroke=\"#888\" stroke-width=\"1\" opacity=\"1\"/></g><g class=\"mark-text role-axis-label\" pointer-events=\"none\"><text text-anchor=\"end\" transform=\"translate(10,7) rotate(270) translate(0,3)\" font-family=\"sans-serif\" font-size=\"10px\" fill=\"#000\" opacity=\"1\">2020</text><text text-anchor=\"end\" transform=\"translate(30,7) rotate(270) translate(0,3)\" font-family=\"sans-serif\" font-size=\"10px\" fill=\"#000\" opacity=\"1\">2021</text><text text-anchor=\"end\" transform=\"translate(50,7) rotate(270) translate(0,3)\" font-family=\"sans-serif\" font-size=\"10px\" fill=\"#000\" opacity=\"1\">2022</text><text text-anchor=\"end\" transform=\"translate(70,7) rotate(270) translate(0,3)\" font-family=\"sans-serif\" font-size=\"10px\" fill=\"#000\" opacity=\"1\">2023</text><text text-anchor=\"end\" transform=\"translate(90,7) rotate(270) translate(0,3)\" font-family=\"sans-serif\" font-size=\"10px\" fill=\"#000\" opacity=\"1\">2024</text><text text-anchor=\"end\" transform=\"translate(110,7) rotate(270) translate(0,3)\" font-family=\"sans-serif\" font-size=\"10px\" fill=\"#000\" opacity=\"1\">2025</text><text text-anchor=\"end\" transform=\"translate(130,7) rotate(270) translate(0,3)\" font-family=\"sans-serif\" font-size=\"10px\" fill=\"#000\" opacity=\"1\">2026</text><text text-anchor=\"end\" transform=\"translate(150,7) rotate(270) translate(0,3)\" font-family=\"sans-serif\" font-size=\"10px\" fill=\"#000\" opacity=\"1\">2027</text><text text-anchor=\"end\" transform=\"translate(170,7) rotate(270) translate(0,3)\" font-family=\"sans-serif\" font-size=\"10px\" fill=\"#000\" opacity=\"1\">2028</text><text text-anchor=\"end\" transform=\"translate(190,7) rotate(270) translate(0,3)\" font-family=\"sans-serif\" font-size=\"10px\" fill=\"#000\" opacity=\"1\">2029</text><text text-anchor=\"end\" transform=\"translate(210,7) rotate(270) translate(0,3)\" font-family=\"sans-serif\" font-size=\"10px\" fill=\"#000\" opacity=\"1\">2030</text><text text-anchor=\"end\" transform=\"translate(230,7) rotate(270) translate(0,3)\" font-family=\"sans-serif\" font-size=\"10px\" fill=\"#000\" opacity=\"1\">2031</text><text text-anchor=\"end\" transform=\"translate(250,7) rotate(270) translate(0,3)\" font-family=\"sans-serif\" font-size=\"10px\" fill=\"#000\" opacity=\"1\">2032</text><text text-anchor=\"end\" transform=\"translate(270,7) rotate(270) translate(0,3)\" font-family=\"sans-serif\" font-size=\"10px\" fill=\"#000\" opacity=\"1\">2033</text><text text-anchor=\"end\" transform=\"translate(290,7) rotate(270) translate(0,3)\" font-family=\"sans-serif\" font-size=\"10px\" fill=\"#000\" opacity=\"1\">2034</text><text text-anchor=\"end\" transform=\"translate(310,7) rotate(270) translate(0,3)\" font-family=\"sans-serif\" font-size=\"10px\" fill=\"#000\" opacity=\"1\">2035</text><text text-anchor=\"end\" transform=\"translate(330,7) rotate(270) translate(0,3)\" font-family=\"sans-serif\" font-size=\"10px\" fill=\"#000\" opacity=\"1\">2036</text><text text-anchor=\"end\" transform=\"translate(350,7) rotate(270) translate(0,3)\" font-family=\"sans-serif\" font-size=\"10px\" fill=\"#000\" opacity=\"1\">2037</text><text text-anchor=\"end\" transform=\"translate(370,7) rotate(270) translate(0,3)\" font-family=\"sans-serif\" font-size=\"10px\" fill=\"#000\" opacity=\"1\">2038</text><text text-anchor=\"end\" transform=\"translate(390,7) rotate(270) translate(0,3)\" font-family=\"sans-serif\" font-size=\"10px\" fill=\"#000\" opacity=\"1\">2039</text><text text-anchor=\"end\" transform=\"translate(410,7) rotate(270) translate(0,3)\" font-family=\"sans-serif\" font-size=\"10px\" fill=\"#000\" opacity=\"1\">2040</text><text text-anchor=\"end\" transform=\"translate(430,7) rotate(270) translate(0,3)\" font-family=\"sans-serif\" font-size=\"10px\" fill=\"#000\" opacity=\"1\">2041</text><text text-anchor=\"end\" transform=\"translate(450,7) rotate(270) translate(0,3)\" font-family=\"sans-serif\" font-size=\"10px\" fill=\"#000\" opacity=\"1\">2042</text><text text-anchor=\"end\" transform=\"translate(470,7) rotate(270) translate(0,3)\" font-family=\"sans-serif\" font-size=\"10px\" fill=\"#000\" opacity=\"1\">2043</text><text text-anchor=\"end\" transform=\"translate(490,7) rotate(270) translate(0,3)\" font-family=\"sans-serif\" font-size=\"10px\" fill=\"#000\" opacity=\"1\">2044</text><text text-anchor=\"end\" transform=\"translate(510,7) rotate(270) translate(0,3)\" font-family=\"sans-serif\" font-size=\"10px\" fill=\"#000\" opacity=\"1\">2045</text><text text-anchor=\"end\" transform=\"translate(530,7) rotate(270) translate(0,3)\" font-family=\"sans-serif\" font-size=\"10px\" fill=\"#000\" opacity=\"1\">2046</text><text text-anchor=\"end\" transform=\"translate(550,7) rotate(270) translate(0,3)\" font-family=\"sans-serif\" font-size=\"10px\" fill=\"#000\" opacity=\"1\">2047</text><text text-anchor=\"end\" transform=\"translate(570,7) rotate(270) translate(0,3)\" font-family=\"sans-serif\" font-size=\"10px\" fill=\"#000\" opacity=\"1\">2048</text><text text-anchor=\"end\" transform=\"translate(590,7) rotate(270) translate(0,3)\" font-family=\"sans-serif\" font-size=\"10px\" fill=\"#000\" opacity=\"1\">2049</text><text text-anchor=\"end\" transform=\"translate(610,7) rotate(270) translate(0,3)\" font-family=\"sans-serif\" font-size=\"10px\" fill=\"#000\" opacity=\"1\">2050</text><text text-anchor=\"end\" transform=\"translate(630,7) rotate(270) translate(0,3)\" font-family=\"sans-serif\" font-size=\"10px\" fill=\"#000\" opacity=\"1\">2051</text><text text-anchor=\"end\" transform=\"translate(650,7) rotate(270) translate(0,3)\" font-family=\"sans-serif\" font-size=\"10px\" fill=\"#000\" opacity=\"1\">2052</text><text text-anchor=\"end\" transform=\"translate(670,7) rotate(270) translate(0,3)\" font-family=\"sans-serif\" font-size=\"10px\" fill=\"#000\" opacity=\"1\">2053</text><text text-anchor=\"end\" transform=\"translate(690,7) rotate(270) translate(0,3)\" font-family=\"sans-serif\" font-size=\"10px\" fill=\"#000\" opacity=\"1\">2054</text><text text-anchor=\"end\" transform=\"translate(710,7) rotate(270) translate(0,3)\" font-family=\"sans-serif\" font-size=\"10px\" fill=\"#000\" opacity=\"1\">2055</text><text text-anchor=\"end\" transform=\"translate(730,7) rotate(270) translate(0,3)\" font-family=\"sans-serif\" font-size=\"10px\" fill=\"#000\" opacity=\"1\">2056</text><text text-anchor=\"end\" transform=\"translate(750,7) rotate(270) translate(0,3)\" font-family=\"sans-serif\" font-size=\"10px\" fill=\"#000\" opacity=\"1\">2057</text><text text-anchor=\"end\" transform=\"translate(770,7) rotate(270) translate(0,3)\" font-family=\"sans-serif\" font-size=\"10px\" fill=\"#000\" opacity=\"1\">2058</text><text text-anchor=\"end\" transform=\"translate(790,7) rotate(270) translate(0,3)\" font-family=\"sans-serif\" font-size=\"10px\" fill=\"#000\" opacity=\"1\">2059</text><text text-anchor=\"end\" transform=\"translate(810,7) rotate(270) translate(0,3)\" font-family=\"sans-serif\" font-size=\"10px\" fill=\"#000\" opacity=\"1\">2060</text><text text-anchor=\"end\" transform=\"translate(830,7) rotate(270) translate(0,3)\" font-family=\"sans-serif\" font-size=\"10px\" fill=\"#000\" opacity=\"1\">2061</text><text text-anchor=\"end\" transform=\"translate(850,7) rotate(270) translate(0,3)\" font-family=\"sans-serif\" font-size=\"10px\" fill=\"#000\" opacity=\"1\">2062</text><text text-anchor=\"end\" transform=\"translate(870,7) rotate(270) translate(0,3)\" font-family=\"sans-serif\" font-size=\"10px\" fill=\"#000\" opacity=\"1\">2063</text><text text-anchor=\"end\" transform=\"translate(890,7) rotate(270) translate(0,3)\" font-family=\"sans-serif\" font-size=\"10px\" fill=\"#000\" opacity=\"1\">2064</text><text text-anchor=\"end\" transform=\"translate(910,7) rotate(270) translate(0,3)\" font-family=\"sans-serif\" font-size=\"10px\" fill=\"#000\" opacity=\"1\">2065</text><text text-anchor=\"end\" transform=\"translate(930,7) rotate(270) translate(0,3)\" font-family=\"sans-serif\" font-size=\"10px\" fill=\"#000\" opacity=\"1\">2066</text><text text-anchor=\"end\" transform=\"translate(950,7) rotate(270) translate(0,3)\" font-family=\"sans-serif\" font-size=\"10px\" fill=\"#000\" opacity=\"1\">2067</text><text text-anchor=\"end\" transform=\"translate(970,7) rotate(270) translate(0,3)\" font-family=\"sans-serif\" font-size=\"10px\" fill=\"#000\" opacity=\"1\">2068</text><text text-anchor=\"end\" transform=\"translate(990,7) rotate(270) translate(0,3)\" font-family=\"sans-serif\" font-size=\"10px\" fill=\"#000\" opacity=\"1\">2069</text><text text-anchor=\"end\" transform=\"translate(1010,7) rotate(270) translate(0,3)\" font-family=\"sans-serif\" font-size=\"10px\" fill=\"#000\" opacity=\"1\">2070</text></g><g class=\"mark-rule role-axis-domain\" pointer-events=\"none\"><line transform=\"translate(0,0)\" x2=\"1020\" y2=\"0\" stroke=\"#888\" stroke-width=\"1\" opacity=\"1\"/></g><g class=\"mark-text role-axis-title\" pointer-events=\"none\"><text text-anchor=\"middle\" transform=\"translate(510,44)\" font-family=\"sans-serif\" font-size=\"11px\" font-weight=\"bold\" fill=\"#000\" opacity=\"1\">year</text></g></g><path class=\"foreground\" aria-hidden=\"true\" d=\"\" pointer-events=\"none\" display=\"none\"/></g></g><g class=\"mark-group role-axis\" role=\"graphics-symbol\" aria-roledescription=\"axis\" aria-label=\"Y-axis titled 'recycled content' for a linear scale with values from 0.0 to 1.0\"><g transform=\"translate(0.5,0.5)\"><path class=\"background\" aria-hidden=\"true\" d=\"M0,0h0v0h0Z\" pointer-events=\"none\"/><g><g class=\"mark-rule role-axis-tick\" pointer-events=\"none\"><line transform=\"translate(0,200)\" x2=\"-5\" y2=\"0\" stroke=\"#888\" stroke-width=\"1\" opacity=\"1\"/><line transform=\"translate(0,160)\" x2=\"-5\" y2=\"0\" stroke=\"#888\" stroke-width=\"1\" opacity=\"1\"/><line transform=\"translate(0,120)\" x2=\"-5\" y2=\"0\" stroke=\"#888\" stroke-width=\"1\" opacity=\"1\"/><line transform=\"translate(0,80)\" x2=\"-5\" y2=\"0\" stroke=\"#888\" stroke-width=\"1\" opacity=\"1\"/><line transform=\"translate(0,40)\" x2=\"-5\" y2=\"0\" stroke=\"#888\" stroke-width=\"1\" opacity=\"1\"/><line transform=\"translate(0,0)\" x2=\"-5\" y2=\"0\" stroke=\"#888\" stroke-width=\"1\" opacity=\"1\"/></g><g class=\"mark-text role-axis-label\" pointer-events=\"none\"><text text-anchor=\"end\" transform=\"translate(-7,203)\" font-family=\"sans-serif\" font-size=\"10px\" fill=\"#000\" opacity=\"1\">0.0</text><text text-anchor=\"end\" transform=\"translate(-7,163)\" font-family=\"sans-serif\" font-size=\"10px\" fill=\"#000\" opacity=\"1\">0.2</text><text text-anchor=\"end\" transform=\"translate(-7,123)\" font-family=\"sans-serif\" font-size=\"10px\" fill=\"#000\" opacity=\"1\">0.4</text><text text-anchor=\"end\" transform=\"translate(-7,83)\" font-family=\"sans-serif\" font-size=\"10px\" fill=\"#000\" opacity=\"1\">0.6</text><text text-anchor=\"end\" transform=\"translate(-7,42.99999999999999)\" font-family=\"sans-serif\" font-size=\"10px\" fill=\"#000\" opacity=\"1\">0.8</text><text text-anchor=\"end\" transform=\"translate(-7,3)\" font-family=\"sans-serif\" font-size=\"10px\" fill=\"#000\" opacity=\"1\">1.0</text></g><g class=\"mark-rule role-axis-domain\" pointer-events=\"none\"><line transform=\"translate(0,200)\" x2=\"0\" y2=\"-200\" stroke=\"#888\" stroke-width=\"1\" opacity=\"1\"/></g><g class=\"mark-text role-axis-title\" pointer-events=\"none\"><text text-anchor=\"middle\" transform=\"translate(-26,100) rotate(-90) translate(0,-2)\" font-family=\"sans-serif\" font-size=\"11px\" font-weight=\"bold\" fill=\"#000\" opacity=\"1\">recycled content</text></g></g><path class=\"foreground\" aria-hidden=\"true\" d=\"\" pointer-events=\"none\" display=\"none\"/></g></g><g class=\"mark-group role-scope pathgroup\" role=\"graphics-object\" aria-roledescription=\"group mark container\"><g transform=\"translate(0,0)\"><path class=\"background\" aria-hidden=\"true\" d=\"M0,0h1020v200h-1020Z\"/><g><g class=\"mark-area role-mark marks\" role=\"graphics-object\" aria-roledescription=\"area mark container\"><path aria-label=\"year: 2020; recycled content: 0.12; variable: conv\" role=\"graphics-symbol\" aria-roledescription=\"area mark\" d=\"M10,176L30,0L50,0L70,0L90,0L110,0L130,0L150,0L170,0L190,0L210,0L230,0L250,0L270,0L290,0L310,0L330,0L350,0L370,0L390,0L410,0L430,0L450,0L470,0L490,0L510,0L530,0L550,0L570,0L590,0L610,0L630,0L650,0L670,0L690,0L710,0L730,0L750,0L770,0L790,0L810,0L830,0L850,0L870,0L890,0L910,0L930,0L950,0L970,0L990,0L1010,0L1010,0L990,0L970,0L950,0L930,0L910,0L890,0L870,0L850,0L830,0L810,0L790,0L770,0L750,0L730,0L710,0L690,0L670,0L650,0L630,0L610,0L590,0L570,0L550,0L530,0L510,0L490,0L470,0L450,0L430,0L410,0L390,2.220446049250313e-14L370,2.220446049250313e-14L350,2.220446049250313e-14L330,2.220446049250313e-14L310,2.220446049250313e-14L290,0L270,0L250,0L230,0L210,0L190,0L170,0L150,0L130,0L110,0L90,0L70,0L50,0L30,0L10,200Z\" fill=\"#4c78a8\"/></g></g><path class=\"foreground\" aria-hidden=\"true\" d=\"\" display=\"none\"/></g><g transform=\"translate(0,0)\"><path class=\"background\" aria-hidden=\"true\" d=\"M0,0h1020v200h-1020Z\"/><g><g class=\"mark-area role-mark marks\" role=\"graphics-object\" aria-roledescription=\"area mark container\"><path aria-label=\"year: 2020; recycled content: 0; variable: inn1\" role=\"graphics-symbol\" aria-roledescription=\"area mark\" d=\"M10,200L30,0L50,0L70,0L90,0L110,0L130,0L150,0L170,0L190,0L210,0L230,0L250,0L270,0L290,0L310,2.220446049250313e-14L330,2.220446049250313e-14L350,2.220446049250313e-14L370,2.220446049250313e-14L390,2.220446049250313e-14L410,0L430,0L450,0L470,0L490,0L510,0L530,0L550,0L570,0L590,0L610,0L630,0L650,0L670,0L690,0L710,0L730,0L750,0L770,0L790,0L810,0L830,0L850,0L870,0L890,0L910,0L930,0L950,0L970,0L990,0L1010,0L1010,0L990,0L970,0L950,0L930,0L910,0L890,0L870,0L850,0L830,0L810,0L790,0L770,0L750,0L730,0L710,0L690,0L670,0L650,0L630,0L610,0L590,0L570,0L550,0L530,0L510,0L490,0L470,0L450,0L430,0L410,0L390,2.220446049250313e-14L370,2.220446049250313e-14L350,2.220446049250313e-14L330,2.220446049250313e-14L310,2.220446049250313e-14L290,0L270,0L250,0L230,0L210,0L190,0L170,0L150,0L130,0L110,0L90,0L70,0L50,0L30,0L10,200Z\" fill=\"#f58518\"/></g></g><path class=\"foreground\" aria-hidden=\"true\" d=\"\" display=\"none\"/></g><g transform=\"translate(0,0)\"><path class=\"background\" aria-hidden=\"true\" d=\"M0,0h1020v200h-1020Z\"/><g><g class=\"mark-area role-mark marks\" role=\"graphics-object\" aria-roledescription=\"area mark container\"><path aria-label=\"year: 2020; recycled content: 0; variable: inn2\" role=\"graphics-symbol\" aria-roledescription=\"area mark\" d=\"M10,200L30,0L50,0L70,0L90,0L110,0L130,0L150,0L170,0L190,0L210,0L230,0L250,0L270,0L290,0L310,2.220446049250313e-14L330,2.220446049250313e-14L350,2.220446049250313e-14L370,2.220446049250313e-14L390,2.220446049250313e-14L410,0L430,0L450,0L470,0L490,0L510,0L530,0L550,0L570,0L590,0L610,0L630,0L650,0L670,0L690,0L710,0L730,0L750,0L770,0L790,0L810,0L830,0L850,0L870,0L890,0L910,0L930,0L950,0L970,0L990,0L1010,0L1010,0L990,0L970,0L950,0L930,0L910,0L890,0L870,0L850,0L830,0L810,0L790,0L770,0L750,0L730,0L710,0L690,0L670,0L650,0L630,0L610,0L590,0L570,0L550,0L530,0L510,0L490,0L470,0L450,0L430,0L410,0L390,2.220446049250313e-14L370,2.220446049250313e-14L350,2.220446049250313e-14L330,2.220446049250313e-14L310,2.220446049250313e-14L290,0L270,0L250,0L230,0L210,0L190,0L170,0L150,0L130,0L110,0L90,0L70,0L50,0L30,0L10,200Z\" fill=\"#e45756\"/></g></g><path class=\"foreground\" aria-hidden=\"true\" d=\"\" display=\"none\"/></g><g transform=\"translate(0,0)\"><path class=\"background\" aria-hidden=\"true\" d=\"M0,0h1020v200h-1020Z\"/><g><g class=\"mark-area role-mark marks\" role=\"graphics-object\" aria-roledescription=\"area mark container\"><path aria-label=\"year: 2020; recycled content: 0; variable: inn3\" role=\"graphics-symbol\" aria-roledescription=\"area mark\" d=\"M10,200L30,0L50,0L70,0L90,0L110,0L130,0L150,0L170,0L190,0L210,0L230,0L250,0L270,0L290,0L310,2.220446049250313e-14L330,2.220446049250313e-14L350,2.220446049250313e-14L370,2.220446049250313e-14L390,2.220446049250313e-14L410,0L430,0L450,0L470,0L490,0L510,0L530,0L550,0L570,0L590,0L610,0L630,0L650,0L670,0L690,0L710,0L730,0L750,0L770,0L790,0L810,0L830,0L850,0L870,0L890,0L910,0L930,0L950,0L970,0L990,0L1010,0L1010,37.39837398373977L990,37.39837398373977L970,37.39837398373977L950,37.39837398373977L930,37.39837398373977L910,37.39837398373977L890,37.39837398373977L870,37.39837398373977L850,37.39837398373977L830,37.39837398373977L810,37.39837398373977L790,37.39837398373977L770,37.39837398373977L750,37.39837398373977L730,37.39837398373977L710,37.39837398373977L690,37.39837398373977L670,37.39837398373977L650,37.39837398373977L630,37.39837398373977L610,37.39837398373977L590,37.39837398373977L570,37.39837398373977L550,37.39837398373977L530,37.39837398373977L510,37.39837398373977L490,50L470,50L450,50L430,50L410,50L390,50L370,50L350,50L330,50L310,50L290,49.99999999999998L270,49.99999999999998L250,49.99999999999998L230,49.99999999999998L210,49.99999999999998L190,0L170,0L150,0L130,0L110,0L90,0L70,0L50,0L30,0L10,200Z\" fill=\"#72b7b2\"/></g></g><path class=\"foreground\" aria-hidden=\"true\" d=\"\" display=\"none\"/></g><g transform=\"translate(0,0)\"><path class=\"background\" aria-hidden=\"true\" d=\"M0,0h1020v200h-1020Z\"/><g><g class=\"mark-area role-mark marks\" role=\"graphics-object\" aria-roledescription=\"area mark container\"><path aria-label=\"year: 2020; recycled content: 0; variable: inn4\" role=\"graphics-symbol\" aria-roledescription=\"area mark\" d=\"M10,200L30,0L50,0L70,0L90,0L110,0L130,0L150,0L170,0L190,0L210,49.99999999999998L230,49.99999999999998L250,49.99999999999998L270,49.99999999999998L290,49.99999999999998L310,50L330,50L350,50L370,50L390,50L410,50L430,50L450,50L470,50L490,50L510,37.39837398373977L530,37.39837398373977L550,37.39837398373977L570,37.39837398373977L590,37.39837398373977L610,37.39837398373977L630,37.39837398373977L650,37.39837398373977L670,37.39837398373977L690,37.39837398373977L710,37.39837398373977L730,37.39837398373977L750,37.39837398373977L770,37.39837398373977L790,37.39837398373977L810,37.39837398373977L830,37.39837398373977L850,37.39837398373977L870,37.39837398373977L890,37.39837398373977L910,37.39837398373977L930,37.39837398373977L950,37.39837398373977L970,37.39837398373977L990,37.39837398373977L1010,37.39837398373977L1010,200L990,200L970,200L950,200L930,200L910,200L890,200L870,200L850,200L830,200L810,200L790,200L770,200L750,200L730,200L710,200L690,200L670,200L650,200L630,200L610,200L590,200L570,200L550,200L530,200L510,200L490,200L470,200L450,200L430,200L410,200L390,200L370,200L350,200L330,200L310,200L290,200L270,200L250,200L230,200L210,200L190,200L170,200L150,200L130,200L110,200L90,200L70,200L50,200L30,200L10,200Z\" fill=\"#54a24b\"/></g></g><path class=\"foreground\" aria-hidden=\"true\" d=\"\" display=\"none\"/></g><g transform=\"translate(0,0)\"><path class=\"background\" aria-hidden=\"true\" d=\"M0,0h1020v200h-1020Z\"/><g><g class=\"mark-area role-mark marks\" role=\"graphics-object\" aria-roledescription=\"area mark container\"><path aria-label=\"year: 2020; recycled content: 0; variable: inn5\" role=\"graphics-symbol\" aria-roledescription=\"area mark\" d=\"M10,200L30,200L50,200L70,200L90,200L110,200L130,200L150,200L170,200L190,200L210,200L230,200L250,200L270,200L290,200L310,200L330,200L350,200L370,200L390,200L410,200L430,200L450,200L470,200L490,200L510,200L530,200L550,200L570,200L590,200L610,200L630,200L650,200L670,200L690,200L710,200L730,200L750,200L770,200L790,200L810,200L830,200L850,200L870,200L890,200L910,200L930,200L950,200L970,200L990,200L1010,200L1010,200L990,200L970,200L950,200L930,200L910,200L890,200L870,200L850,200L830,200L810,200L790,200L770,200L750,200L730,200L710,200L690,200L670,200L650,200L630,200L610,200L590,200L570,200L550,200L530,200L510,200L490,200L470,200L450,200L430,200L410,200L390,200L370,200L350,200L330,200L310,200L290,200L270,200L250,200L230,200L210,200L190,200L170,200L150,200L130,200L110,200L90,200L70,200L50,200L30,200L10,200Z\" fill=\"#eeca3b\"/></g></g><path class=\"foreground\" aria-hidden=\"true\" d=\"\" display=\"none\"/></g></g><g class=\"mark-group role-legend\" role=\"graphics-symbol\" aria-roledescription=\"legend\" aria-label=\"Symbol legend titled 'variable' for fill color with 6 values: conv, inn1, inn2, inn3, inn4, inn5\"><g transform=\"translate(1038,0)\"><path class=\"background\" aria-hidden=\"true\" d=\"M0,0h49v92h-49Z\" pointer-events=\"none\"/><g><g class=\"mark-group role-legend-entry\"><g transform=\"translate(0,16)\"><path class=\"background\" aria-hidden=\"true\" d=\"M0,0h0v0h0Z\" pointer-events=\"none\"/><g><g class=\"mark-group role-scope\" role=\"graphics-object\" aria-roledescription=\"group mark container\"><g transform=\"translate(0,0)\"><path class=\"background\" aria-hidden=\"true\" d=\"M0,0h40v11h-40Z\" pointer-events=\"none\" opacity=\"1\"/><g><g class=\"mark-symbol role-legend-symbol\" pointer-events=\"none\"><path transform=\"translate(6,6)\" d=\"M5,0A5,5,0,1,1,-5,0A5,5,0,1,1,5,0\" fill=\"#4c78a8\" stroke-width=\"1.5\" opacity=\"1\"/></g><g class=\"mark-text role-legend-label\" pointer-events=\"none\"><text text-anchor=\"start\" transform=\"translate(16,9)\" font-family=\"sans-serif\" font-size=\"10px\" fill=\"#000\" opacity=\"1\">conv</text></g></g><path class=\"foreground\" aria-hidden=\"true\" d=\"\" pointer-events=\"none\" display=\"none\"/></g><g transform=\"translate(0,13)\"><path class=\"background\" aria-hidden=\"true\" d=\"M0,0h40v11h-40Z\" pointer-events=\"none\" opacity=\"1\"/><g><g class=\"mark-symbol role-legend-symbol\" pointer-events=\"none\"><path transform=\"translate(6,6)\" d=\"M5,0A5,5,0,1,1,-5,0A5,5,0,1,1,5,0\" fill=\"#f58518\" stroke-width=\"1.5\" opacity=\"1\"/></g><g class=\"mark-text role-legend-label\" pointer-events=\"none\"><text text-anchor=\"start\" transform=\"translate(16,9)\" font-family=\"sans-serif\" font-size=\"10px\" fill=\"#000\" opacity=\"1\">inn1</text></g></g><path class=\"foreground\" aria-hidden=\"true\" d=\"\" pointer-events=\"none\" display=\"none\"/></g><g transform=\"translate(0,26)\"><path class=\"background\" aria-hidden=\"true\" d=\"M0,0h40v11h-40Z\" pointer-events=\"none\" opacity=\"1\"/><g><g class=\"mark-symbol role-legend-symbol\" pointer-events=\"none\"><path transform=\"translate(6,6)\" d=\"M5,0A5,5,0,1,1,-5,0A5,5,0,1,1,5,0\" fill=\"#e45756\" stroke-width=\"1.5\" opacity=\"1\"/></g><g class=\"mark-text role-legend-label\" pointer-events=\"none\"><text text-anchor=\"start\" transform=\"translate(16,9)\" font-family=\"sans-serif\" font-size=\"10px\" fill=\"#000\" opacity=\"1\">inn2</text></g></g><path class=\"foreground\" aria-hidden=\"true\" d=\"\" pointer-events=\"none\" display=\"none\"/></g><g transform=\"translate(0,39)\"><path class=\"background\" aria-hidden=\"true\" d=\"M0,0h40v11h-40Z\" pointer-events=\"none\" opacity=\"1\"/><g><g class=\"mark-symbol role-legend-symbol\" pointer-events=\"none\"><path transform=\"translate(6,6)\" d=\"M5,0A5,5,0,1,1,-5,0A5,5,0,1,1,5,0\" fill=\"#72b7b2\" stroke-width=\"1.5\" opacity=\"1\"/></g><g class=\"mark-text role-legend-label\" pointer-events=\"none\"><text text-anchor=\"start\" transform=\"translate(16,9)\" font-family=\"sans-serif\" font-size=\"10px\" fill=\"#000\" opacity=\"1\">inn3</text></g></g><path class=\"foreground\" aria-hidden=\"true\" d=\"\" pointer-events=\"none\" display=\"none\"/></g><g transform=\"translate(0,52)\"><path class=\"background\" aria-hidden=\"true\" d=\"M0,0h40v11h-40Z\" pointer-events=\"none\" opacity=\"1\"/><g><g class=\"mark-symbol role-legend-symbol\" pointer-events=\"none\"><path transform=\"translate(6,6)\" d=\"M5,0A5,5,0,1,1,-5,0A5,5,0,1,1,5,0\" fill=\"#54a24b\" stroke-width=\"1.5\" opacity=\"1\"/></g><g class=\"mark-text role-legend-label\" pointer-events=\"none\"><text text-anchor=\"start\" transform=\"translate(16,9)\" font-family=\"sans-serif\" font-size=\"10px\" fill=\"#000\" opacity=\"1\">inn4</text></g></g><path class=\"foreground\" aria-hidden=\"true\" d=\"\" pointer-events=\"none\" display=\"none\"/></g><g transform=\"translate(0,65)\"><path class=\"background\" aria-hidden=\"true\" d=\"M0,0h40v11h-40Z\" pointer-events=\"none\" opacity=\"1\"/><g><g class=\"mark-symbol role-legend-symbol\" pointer-events=\"none\"><path transform=\"translate(6,6)\" d=\"M5,0A5,5,0,1,1,-5,0A5,5,0,1,1,5,0\" fill=\"#eeca3b\" stroke-width=\"1.5\" opacity=\"1\"/></g><g class=\"mark-text role-legend-label\" pointer-events=\"none\"><text text-anchor=\"start\" transform=\"translate(16,9)\" font-family=\"sans-serif\" font-size=\"10px\" fill=\"#000\" opacity=\"1\">inn5</text></g></g><path class=\"foreground\" aria-hidden=\"true\" d=\"\" pointer-events=\"none\" display=\"none\"/></g></g></g><path class=\"foreground\" aria-hidden=\"true\" d=\"\" pointer-events=\"none\" display=\"none\"/></g></g><g class=\"mark-text role-legend-title\" pointer-events=\"none\"><text text-anchor=\"start\" transform=\"translate(0,9)\" font-family=\"sans-serif\" font-size=\"11px\" font-weight=\"bold\" fill=\"#000\" opacity=\"1\">variable</text></g></g><path class=\"foreground\" aria-hidden=\"true\" d=\"\" pointer-events=\"none\" display=\"none\"/></g></g></g><path class=\"foreground\" aria-hidden=\"true\" d=\"\" display=\"none\"/></g></g></g></svg>\n"
      ],
      "text/plain": [
       "@vlplot(\n",
       "    ylab=\"circularity\",\n",
       "    mark=\"area\",\n",
       "    encoding={\n",
       "        x={\n",
       "            field=\"year\"\n",
       "        },\n",
       "        y={\n",
       "            stack=\"zero\",\n",
       "            title=\"recycled content\",\n",
       "            field=\"value\"\n",
       "        },\n",
       "        color={\n",
       "            field=\"variable\",\n",
       "            type=\"nominal\"\n",
       "        }\n",
       "    },\n",
       "    data={\n",
       "        values=...\n",
       "    }\n",
       ")"
      ]
     },
     "execution_count": 86,
     "metadata": {},
     "output_type": "execute_result"
    }
   ],
   "source": [
    "function conventional(t)\n",
    "    return (1-sum(JuMP.values.(xk)[k,t] for k in 1:nrow(compromise)))\n",
    "end\n",
    "\n",
    "function innovation(i,t)\n",
    "    if i==1\n",
    "        return sum(JuMP.values.(xk)[k,t] for k=1:mapki[i,2])\n",
    "    else\n",
    "        return sum(JuMP.values.(xk)[k,t] for k=mapki[i-1,2]:mapki[i,2] )\n",
    "    end\n",
    "end\n",
    "\n",
    "conv=zeros(51)\n",
    "\n",
    "conv[1]=initial[1,5]\n",
    "inn_co2=zeros(5,51)\n",
    "\n",
    "for inn in 1:5\n",
    "    inn_co2[inn,1]=0\n",
    "end\n",
    "\n",
    "j=0\n",
    "for i in 2:51\n",
    "    if 0 ≤ i ≤ 5\n",
    "        j=1\n",
    "    elseif 6 ≤ i ≤ 10\n",
    "        j=2\n",
    "    elseif 6 ≤ i ≤ 10\n",
    "        j=3\n",
    "    elseif 11 ≤ i ≤ 15\n",
    "        j=4\n",
    "    elseif 16 ≤ i ≤ 20\n",
    "        j=5\n",
    "    elseif 21 ≤ i ≤ 25\n",
    "        j=6\n",
    "    else\n",
    "        j=7\n",
    "    end\n",
    "        \n",
    "    conv[i]=conventional(j)\n",
    "    for inn in 1:5\n",
    "        inn_co2[inn,i]=innovation(inn,j)\n",
    "    end\n",
    "end\n",
    "\n",
    "sNames = [\"conv\",\"inn1\",\"inn2\",\"inn3\",\"inn4\",\"inn5\"]\n",
    "xLabels = []\n",
    "for i in 2020:2070\n",
    "    push!(xLabels,string(i))\n",
    "end\n",
    "\n",
    "df = DataFrame(year=xLabels, conv=conv, inn1=inn_co2[1,:],inn2=inn_co2[2,:],inn3=inn_co2[3,:],inn4=inn_co2[4,:],inn5=inn_co2[5,:])\n",
    "\n",
    "df |> stack |> @vlplot(:area, x=:year, y={:value, stack=:zero, title=\"recycled content\"}, color=\"variable:n\",ylab=\"circularity\") "
   ]
  },
  {
   "cell_type": "code",
   "execution_count": 45,
   "id": "bbce2b22",
   "metadata": {},
   "outputs": [],
   "source": [
    "#=\n",
    "#cost objective\n",
    "#@NLconstraint(rdmap, cost_inn == sum(sum(ci[i]*((yi[i,tt]-yi[i,tt-1])*f_fit[i,tt])\n",
    "#            for i in 2:nrow(innovations)) for tt in 2:7) + sum(ci[i]*(yi[i,1]*f_fit[i,1]) for i in 1:nrow(innovations)))\n",
    "#linearization\n",
    "@variable(rdmap,0≤p[i=1:nrow(innovations),tt=2:7]≤5)\n",
    "@constraint(rdmap,[i=1:nrow(innovations),tt=2:7],p[i,tt]≤5*(yi[i,tt]-yi[i,tt-1]))\n",
    "@constraint(rdmap,[i=1:nrow(innovations),tt=2:7],p[i,tt]≤(f_fit[i,tt]))\n",
    "@constraint(rdmap,[i=1:nrow(innovations),tt=2:7],p[i,tt]≥(f_fit[i,tt])-5*(1-(yi[i,tt]-yi[i,tt-1])))\n",
    "\n",
    "@variable(rdmap,0≤q[i=1:nrow(innovations),tt=1:1]≤5)\n",
    "@constraint(rdmap,[i=1:nrow(innovations),tt=1:1],q[i,tt]≤(yi[i,tt]))\n",
    "@constraint(rdmap,[i=1:nrow(innovations),tt=1:1],q[i,tt]≤(f_fit[i,tt]))\n",
    "@constraint(rdmap,[i=1:nrow(innovations),tt=1:1],q[i,tt]≥(f_fit[i,tt])-5*(1-(yi[i,tt])))\n",
    "\n",
    "@constraint(rdmap,cost_inn == sum(sum(ci[i]*p[i,tt] for i in 2:nrow(innovations)) for tt in 2:7) +\n",
    "                                sum(ci[i]*q[i,1] for i in 1:nrow(innovations)))\n",
    "\n",
    "#http://yetanothermathprogrammingconsultant.blogspot.com/2008/05/multiplication-of-continuous-and-binary.html\n",
    "\n",
    "=#\n"
   ]
  }
 ],
 "metadata": {
  "kernelspec": {
   "display_name": "Julia 1.6.3",
   "language": "julia",
   "name": "julia-1.6"
  },
  "language_info": {
   "file_extension": ".jl",
   "mimetype": "application/julia",
   "name": "julia",
   "version": "1.6.3"
  }
 },
 "nbformat": 4,
 "nbformat_minor": 5
}
