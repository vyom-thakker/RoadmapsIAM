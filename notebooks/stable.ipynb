{
 "cells": [
  {
   "cell_type": "code",
   "execution_count": 15,
   "id": "0cd38929",
   "metadata": {},
   "outputs": [
    {
     "name": "stderr",
     "output_type": "stream",
     "text": [
      "\u001b[32m\u001b[1m  Activating\u001b[22m\u001b[39m environment at `~/Documents/project-codes/Plan_RoadmapsIAM/toy-problem/baron_env/Project.toml`\n"
     ]
    }
   ],
   "source": [
    "\n",
    "using Pkg\n",
    "Pkg.activate(\"./baron_env\")\n",
    "#Pkg.pin(\"JuMP\")\n",
    "using JuMP\n",
    "using CSV\n",
    "using GraphRecipes, Plots\n",
    "using LightGraphs\n",
    "using LinearAlgebra\n",
    "using SparseArrays\n",
    "using DataFrames\n",
    "using BARON\n",
    "using PiecewiseLinearOpt\n",
    "using VegaLite, VegaDatasets\n",
    "using FileIO"
   ]
  },
  {
   "cell_type": "code",
   "execution_count": 2,
   "id": "e8956d14-30ad-49f9-bf77-ae0d8a2937f8",
   "metadata": {},
   "outputs": [
    {
     "name": "stderr",
     "output_type": "stream",
     "text": [
      "┌ Warning: Pkg.installed() is deprecated\n",
      "└ @ Pkg /buildworker/worker/package_linux64/build/usr/share/julia/stdlib/v1.6/Pkg/src/Pkg.jl:570\n"
     ]
    },
    {
     "data": {
      "text/plain": [
       "Dict{String, VersionNumber} with 3 entries:\n",
       "  \"BARON\"              => v\"0.6.5\"\n",
       "  \"PiecewiseLinearOpt\" => v\"0.3.0\"\n",
       "  \"CPLEX\"              => v\"0.7.8\""
      ]
     },
     "execution_count": 2,
     "metadata": {},
     "output_type": "execute_result"
    }
   ],
   "source": [
    "Pkg.installed()"
   ]
  },
  {
   "cell_type": "code",
   "execution_count": 3,
   "id": "6cd49756",
   "metadata": {},
   "outputs": [
    {
     "data": {
      "text/html": [
       "<div class=\"data-frame\"><p>5 rows × 33 columns (omitted printing of 24 columns)</p><table class=\"data-frame\"><thead><tr><th></th><th>i</th><th>Cost_per_RL</th><th>RL</th><th>Sojourn1</th><th>Sojourn2</th><th>Sojourn3</th><th>Sojourn4</th><th>Sojourn5</th><th>P11</th></tr><tr><th></th><th title=\"Int64\">Int64</th><th title=\"Int64\">Int64</th><th title=\"Int64\">Int64</th><th title=\"Float64\">Float64</th><th title=\"Float64\">Float64</th><th title=\"Float64\">Float64</th><th title=\"Float64\">Float64</th><th title=\"Float64\">Float64</th><th title=\"Int64\">Int64</th></tr></thead><tbody><tr><th>1</th><td>1</td><td>92</td><td>3</td><td>4.6</td><td>1.34</td><td>2.04</td><td>0.12</td><td>8.86</td><td>0</td></tr><tr><th>2</th><td>2</td><td>205</td><td>2</td><td>8.32</td><td>8.84</td><td>0.65</td><td>9.9</td><td>9.65</td><td>0</td></tr><tr><th>3</th><td>3</td><td>84</td><td>1</td><td>4.44</td><td>1.21</td><td>5.09</td><td>6.52</td><td>8.67</td><td>0</td></tr><tr><th>4</th><td>4</td><td>108</td><td>3</td><td>5.48</td><td>7.62</td><td>3.34</td><td>5.05</td><td>1.1</td><td>0</td></tr><tr><th>5</th><td>5</td><td>80</td><td>1</td><td>9.94</td><td>2.38</td><td>7.94</td><td>3.82</td><td>5.44</td><td>0</td></tr></tbody></table></div>"
      ],
      "text/latex": [
       "\\begin{tabular}{r|cccccccccc}\n",
       "\t& i & Cost\\_per\\_RL & RL & Sojourn1 & Sojourn2 & Sojourn3 & Sojourn4 & Sojourn5 & P11 & \\\\\n",
       "\t\\hline\n",
       "\t& Int64 & Int64 & Int64 & Float64 & Float64 & Float64 & Float64 & Float64 & Int64 & \\\\\n",
       "\t\\hline\n",
       "\t1 & 1 & 92 & 3 & 4.6 & 1.34 & 2.04 & 0.12 & 8.86 & 0 & $\\dots$ \\\\\n",
       "\t2 & 2 & 205 & 2 & 8.32 & 8.84 & 0.65 & 9.9 & 9.65 & 0 & $\\dots$ \\\\\n",
       "\t3 & 3 & 84 & 1 & 4.44 & 1.21 & 5.09 & 6.52 & 8.67 & 0 & $\\dots$ \\\\\n",
       "\t4 & 4 & 108 & 3 & 5.48 & 7.62 & 3.34 & 5.05 & 1.1 & 0 & $\\dots$ \\\\\n",
       "\t5 & 5 & 80 & 1 & 9.94 & 2.38 & 7.94 & 3.82 & 5.44 & 0 & $\\dots$ \\\\\n",
       "\\end{tabular}\n"
      ],
      "text/plain": [
       "\u001b[1m5×33 DataFrame\u001b[0m\n",
       "\u001b[1m Row \u001b[0m│\u001b[1m i     \u001b[0m\u001b[1m Cost_per_RL \u001b[0m\u001b[1m RL    \u001b[0m\u001b[1m Sojourn1 \u001b[0m\u001b[1m Sojourn2 \u001b[0m\u001b[1m Sojourn3 \u001b[0m\u001b[1m Sojourn4 \u001b[0m\u001b[1m Sojo\u001b[0m ⋯\n",
       "\u001b[1m     \u001b[0m│\u001b[90m Int64 \u001b[0m\u001b[90m Int64       \u001b[0m\u001b[90m Int64 \u001b[0m\u001b[90m Float64  \u001b[0m\u001b[90m Float64  \u001b[0m\u001b[90m Float64  \u001b[0m\u001b[90m Float64  \u001b[0m\u001b[90m Floa\u001b[0m ⋯\n",
       "─────┼──────────────────────────────────────────────────────────────────────────\n",
       "   1 │     1           92      3      4.6       1.34      2.04      0.12       ⋯\n",
       "   2 │     2          205      2      8.32      8.84      0.65      9.9\n",
       "   3 │     3           84      1      4.44      1.21      5.09      6.52\n",
       "   4 │     4          108      3      5.48      7.62      3.34      5.05\n",
       "   5 │     5           80      1      9.94      2.38      7.94      3.82       ⋯\n",
       "\u001b[36m                                                              26 columns omitted\u001b[0m"
      ]
     },
     "execution_count": 3,
     "metadata": {},
     "output_type": "execute_result"
    }
   ],
   "source": [
    "innovations = CSV.File(\"./data/innovations.csv\",header=1,delim=\",\") |> DataFrame\n",
    "mapki = CSV.File(\"./data/map-ki.csv\",header=1,delim=\",\") |> DataFrame\n",
    "compromise = CSV.File(\"./data/compromise.csv\",header=1,delim=\",\") |> DataFrame\n",
    "initial = CSV.File(\"./data/initial.csv\",header=1,delim=\",\") |> DataFrame\n",
    "iam_model = CSV.File(\"./data/iam_model.csv\",header=1,delim=\",\") |> DataFrame\n",
    "ci=innovations[!,2]\n",
    "rl=innovations[!,3]\n",
    "initial\n",
    "\n",
    "#innovations[2,6]=7\n",
    "#compromise[!,3]=compromise[!,3]/2\n",
    "#innovations[2,2]=175\n",
    "innovations[2,2]=205\n",
    "#innovations[2,3]=2\n",
    "#innovations[1,3]=3\n",
    "#innovations[4,2]=108\n",
    "\n",
    "#innovations[1,2]=185\n",
    "#innovations[3,3]=2\n",
    "innovations\n",
    "#CSV.write(\"innovations.csv\",innovations)"
   ]
  },
  {
   "cell_type": "code",
   "execution_count": 4,
   "id": "33d1096b-bd0b-4edf-8fb1-38ca9b060af5",
   "metadata": {},
   "outputs": [
    {
     "data": {
      "text/html": [
       "<div class=\"data-frame\"><p>25 rows × 8 columns</p><table class=\"data-frame\"><thead><tr><th></th><th>k</th><th>i</th><th>GWP</th><th>Theta</th><th>Per_Recycl</th><th>Per_Comp</th><th>GHG_ElecInd</th><th>GHG_Trans</th></tr><tr><th></th><th title=\"Int64\">Int64</th><th title=\"Int64\">Int64</th><th title=\"Float64\">Float64</th><th title=\"Float64\">Float64</th><th title=\"Float64\">Float64</th><th title=\"Float64\">Float64</th><th title=\"Float64\">Float64</th><th title=\"Float64\">Float64</th></tr></thead><tbody><tr><th>1</th><td>1</td><td>1</td><td>40.0</td><td>0.6</td><td>0.5</td><td>0.0</td><td>0.301222</td><td>0.162415</td></tr><tr><th>2</th><td>2</td><td>1</td><td>43.0</td><td>0.66</td><td>0.55</td><td>0.0</td><td>0.291677</td><td>0.145083</td></tr><tr><th>3</th><td>3</td><td>1</td><td>45.5</td><td>0.68</td><td>0.567</td><td>0.0</td><td>0.323371</td><td>0.161281</td></tr><tr><th>4</th><td>4</td><td>1</td><td>47.5</td><td>0.7</td><td>0.583</td><td>0.0</td><td>0.525025</td><td>0.151392</td></tr><tr><th>5</th><td>5</td><td>2</td><td>30.0</td><td>0.4</td><td>0.0</td><td>0.2</td><td>0.308217</td><td>0.0923318</td></tr><tr><th>6</th><td>6</td><td>2</td><td>32.0</td><td>0.48</td><td>0.0</td><td>0.24</td><td>0.419839</td><td>0.167281</td></tr><tr><th>7</th><td>7</td><td>2</td><td>34.0</td><td>0.5</td><td>0.0</td><td>0.27</td><td>0.418893</td><td>0.136562</td></tr><tr><th>8</th><td>8</td><td>2</td><td>38.0</td><td>0.52</td><td>0.0</td><td>0.34</td><td>0.530551</td><td>0.134121</td></tr><tr><th>9</th><td>9</td><td>2</td><td>40.0</td><td>0.54</td><td>0.0</td><td>0.37</td><td>0.418593</td><td>0.146208</td></tr><tr><th>10</th><td>10</td><td>2</td><td>42.5</td><td>0.55</td><td>0.0</td><td>0.4</td><td>0.241192</td><td>0.171951</td></tr><tr><th>11</th><td>11</td><td>3</td><td>42.5</td><td>0.6</td><td>0.6</td><td>0.3</td><td>0.299233</td><td>0.0803592</td></tr><tr><th>12</th><td>12</td><td>3</td><td>44.5</td><td>0.68</td><td>0.55</td><td>0.4</td><td>0.208995</td><td>0.133684</td></tr><tr><th>13</th><td>13</td><td>3</td><td>46.5</td><td>0.76</td><td>0.53</td><td>0.4</td><td>0.190811</td><td>0.16299</td></tr><tr><th>14</th><td>14</td><td>3</td><td>47.5</td><td>0.82</td><td>0.5</td><td>0.4</td><td>0.20475</td><td>0.0683796</td></tr><tr><th>15</th><td>15</td><td>4</td><td>37.5</td><td>0.65</td><td>0.0</td><td>0.5</td><td>0.35395</td><td>0.0837429</td></tr><tr><th>16</th><td>16</td><td>4</td><td>39.0</td><td>0.69</td><td>0.0</td><td>0.531</td><td>0.473869</td><td>0.126291</td></tr><tr><th>17</th><td>17</td><td>4</td><td>40.0</td><td>0.71</td><td>0.0</td><td>0.55</td><td>0.499872</td><td>0.151744</td></tr><tr><th>18</th><td>18</td><td>4</td><td>40.5</td><td>0.72</td><td>0.0</td><td>0.55</td><td>0.4039</td><td>0.171753</td></tr><tr><th>19</th><td>19</td><td>4</td><td>41.5</td><td>0.74</td><td>0.0</td><td>0.57</td><td>0.515215</td><td>0.0825216</td></tr><tr><th>20</th><td>20</td><td>4</td><td>42.5</td><td>0.75</td><td>0.0</td><td>0.8</td><td>0.163491</td><td>0.121528</td></tr><tr><th>21</th><td>21</td><td>5</td><td>45.0</td><td>0.9</td><td>0.7</td><td>0.15</td><td>0.323143</td><td>0.104367</td></tr><tr><th>22</th><td>22</td><td>5</td><td>46.0</td><td>0.92</td><td>0.716</td><td>0.1</td><td>0.393909</td><td>0.0648811</td></tr><tr><th>23</th><td>23</td><td>5</td><td>47.0</td><td>0.94</td><td>0.731</td><td>0.0</td><td>0.367604</td><td>0.0785466</td></tr><tr><th>24</th><td>24</td><td>5</td><td>48.0</td><td>0.95</td><td>0.738</td><td>0.0</td><td>0.361888</td><td>0.0685196</td></tr><tr><th>25</th><td>25</td><td>5</td><td>50.0</td><td>0.95</td><td>0.738</td><td>0.0</td><td>0.420387</td><td>0.123506</td></tr></tbody></table></div>"
      ],
      "text/latex": [
       "\\begin{tabular}{r|cccccccc}\n",
       "\t& k & i & GWP & Theta & Per\\_Recycl & Per\\_Comp & GHG\\_ElecInd & GHG\\_Trans\\\\\n",
       "\t\\hline\n",
       "\t& Int64 & Int64 & Float64 & Float64 & Float64 & Float64 & Float64 & Float64\\\\\n",
       "\t\\hline\n",
       "\t1 & 1 & 1 & 40.0 & 0.6 & 0.5 & 0.0 & 0.301222 & 0.162415 \\\\\n",
       "\t2 & 2 & 1 & 43.0 & 0.66 & 0.55 & 0.0 & 0.291677 & 0.145083 \\\\\n",
       "\t3 & 3 & 1 & 45.5 & 0.68 & 0.567 & 0.0 & 0.323371 & 0.161281 \\\\\n",
       "\t4 & 4 & 1 & 47.5 & 0.7 & 0.583 & 0.0 & 0.525025 & 0.151392 \\\\\n",
       "\t5 & 5 & 2 & 30.0 & 0.4 & 0.0 & 0.2 & 0.308217 & 0.0923318 \\\\\n",
       "\t6 & 6 & 2 & 32.0 & 0.48 & 0.0 & 0.24 & 0.419839 & 0.167281 \\\\\n",
       "\t7 & 7 & 2 & 34.0 & 0.5 & 0.0 & 0.27 & 0.418893 & 0.136562 \\\\\n",
       "\t8 & 8 & 2 & 38.0 & 0.52 & 0.0 & 0.34 & 0.530551 & 0.134121 \\\\\n",
       "\t9 & 9 & 2 & 40.0 & 0.54 & 0.0 & 0.37 & 0.418593 & 0.146208 \\\\\n",
       "\t10 & 10 & 2 & 42.5 & 0.55 & 0.0 & 0.4 & 0.241192 & 0.171951 \\\\\n",
       "\t11 & 11 & 3 & 42.5 & 0.6 & 0.6 & 0.3 & 0.299233 & 0.0803592 \\\\\n",
       "\t12 & 12 & 3 & 44.5 & 0.68 & 0.55 & 0.4 & 0.208995 & 0.133684 \\\\\n",
       "\t13 & 13 & 3 & 46.5 & 0.76 & 0.53 & 0.4 & 0.190811 & 0.16299 \\\\\n",
       "\t14 & 14 & 3 & 47.5 & 0.82 & 0.5 & 0.4 & 0.20475 & 0.0683796 \\\\\n",
       "\t15 & 15 & 4 & 37.5 & 0.65 & 0.0 & 0.5 & 0.35395 & 0.0837429 \\\\\n",
       "\t16 & 16 & 4 & 39.0 & 0.69 & 0.0 & 0.531 & 0.473869 & 0.126291 \\\\\n",
       "\t17 & 17 & 4 & 40.0 & 0.71 & 0.0 & 0.55 & 0.499872 & 0.151744 \\\\\n",
       "\t18 & 18 & 4 & 40.5 & 0.72 & 0.0 & 0.55 & 0.4039 & 0.171753 \\\\\n",
       "\t19 & 19 & 4 & 41.5 & 0.74 & 0.0 & 0.57 & 0.515215 & 0.0825216 \\\\\n",
       "\t20 & 20 & 4 & 42.5 & 0.75 & 0.0 & 0.8 & 0.163491 & 0.121528 \\\\\n",
       "\t21 & 21 & 5 & 45.0 & 0.9 & 0.7 & 0.15 & 0.323143 & 0.104367 \\\\\n",
       "\t22 & 22 & 5 & 46.0 & 0.92 & 0.716 & 0.1 & 0.393909 & 0.0648811 \\\\\n",
       "\t23 & 23 & 5 & 47.0 & 0.94 & 0.731 & 0.0 & 0.367604 & 0.0785466 \\\\\n",
       "\t24 & 24 & 5 & 48.0 & 0.95 & 0.738 & 0.0 & 0.361888 & 0.0685196 \\\\\n",
       "\t25 & 25 & 5 & 50.0 & 0.95 & 0.738 & 0.0 & 0.420387 & 0.123506 \\\\\n",
       "\\end{tabular}\n"
      ],
      "text/plain": [
       "\u001b[1m25×8 DataFrame\u001b[0m\n",
       "\u001b[1m Row \u001b[0m│\u001b[1m k     \u001b[0m\u001b[1m i     \u001b[0m\u001b[1m GWP     \u001b[0m\u001b[1m Theta   \u001b[0m\u001b[1m Per_Recycl \u001b[0m\u001b[1m Per_Comp \u001b[0m\u001b[1m GHG_ElecInd \u001b[0m\u001b[1m GHG_\u001b[0m ⋯\n",
       "\u001b[1m     \u001b[0m│\u001b[90m Int64 \u001b[0m\u001b[90m Int64 \u001b[0m\u001b[90m Float64 \u001b[0m\u001b[90m Float64 \u001b[0m\u001b[90m Float64    \u001b[0m\u001b[90m Float64  \u001b[0m\u001b[90m Float64     \u001b[0m\u001b[90m Floa\u001b[0m ⋯\n",
       "─────┼──────────────────────────────────────────────────────────────────────────\n",
       "   1 │     1      1     40.0     0.6        0.5       0.0       0.301222  0.16 ⋯\n",
       "   2 │     2      1     43.0     0.66       0.55      0.0       0.291677  0.14\n",
       "   3 │     3      1     45.5     0.68       0.567     0.0       0.323371  0.16\n",
       "   4 │     4      1     47.5     0.7        0.583     0.0       0.525025  0.15\n",
       "   5 │     5      2     30.0     0.4        0.0       0.2       0.308217  0.09 ⋯\n",
       "   6 │     6      2     32.0     0.48       0.0       0.24      0.419839  0.16\n",
       "   7 │     7      2     34.0     0.5        0.0       0.27      0.418893  0.13\n",
       "   8 │     8      2     38.0     0.52       0.0       0.34      0.530551  0.13\n",
       "   9 │     9      2     40.0     0.54       0.0       0.37      0.418593  0.14 ⋯\n",
       "  10 │    10      2     42.5     0.55       0.0       0.4       0.241192  0.17\n",
       "  11 │    11      3     42.5     0.6        0.6       0.3       0.299233  0.08\n",
       "  ⋮  │   ⋮      ⋮       ⋮        ⋮         ⋮          ⋮           ⋮            ⋱\n",
       "  16 │    16      4     39.0     0.69       0.0       0.531     0.473869  0.12\n",
       "  17 │    17      4     40.0     0.71       0.0       0.55      0.499872  0.15 ⋯\n",
       "  18 │    18      4     40.5     0.72       0.0       0.55      0.4039    0.17\n",
       "  19 │    19      4     41.5     0.74       0.0       0.57      0.515215  0.08\n",
       "  20 │    20      4     42.5     0.75       0.0       0.8       0.163491  0.12\n",
       "  21 │    21      5     45.0     0.9        0.7       0.15      0.323143  0.10 ⋯\n",
       "  22 │    22      5     46.0     0.92       0.716     0.1       0.393909  0.06\n",
       "  23 │    23      5     47.0     0.94       0.731     0.0       0.367604  0.07\n",
       "  24 │    24      5     48.0     0.95       0.738     0.0       0.361888  0.06\n",
       "  25 │    25      5     50.0     0.95       0.738     0.0       0.420387  0.12 ⋯\n",
       "\u001b[36m                                                     1 column and 4 rows omitted\u001b[0m"
      ]
     },
     "execution_count": 4,
     "metadata": {},
     "output_type": "execute_result"
    }
   ],
   "source": [
    "compromise"
   ]
  },
  {
   "cell_type": "code",
   "execution_count": 5,
   "id": "4e49351a-5301-4c14-8142-72ea5910982a",
   "metadata": {},
   "outputs": [
    {
     "data": {
      "text/plain": [
       "give_sorted (generic function with 1 method)"
      ]
     },
     "execution_count": 5,
     "metadata": {},
     "output_type": "execute_result"
    }
   ],
   "source": [
    "function get_transition_mat(i)\n",
    "    p_mat=reshape(collect(innovations[i,9:33]),5,5)\n",
    "    return p_mat'\n",
    "end\n",
    "\n",
    "\n",
    "function get_rate_mat(i)\n",
    "    p_mat=get_transition_mat(i)\n",
    "    q_mat=p_mat./collect(innovations[i,4:8])\n",
    "    for i in 1:5\n",
    "        q_mat[i,i]=-1*sum(q_mat[i,j] for j in 1:5 if j!=i)\n",
    "    end\n",
    "    return q_mat\n",
    "end\n",
    "\n",
    "function get_rate_eig_mat(i)\n",
    "    p_mat=get_transition_mat(i)\n",
    "    q_mat=p_mat./collect(innovations[i,4:8])\n",
    "    for i in 1:5\n",
    "        q_mat[i,i]=-1*sum(q_mat[i,j] for j in 1:5 if j!=i)\n",
    "    end\n",
    "    return [q_mat,eigvecs(q_mat),eigvals(q_mat)]\n",
    "end\n",
    "\n",
    "function get_IAM_factor(t)\n",
    "    return 1\n",
    "end\n",
    "\n",
    "function give_sorted(t)\n",
    "    v=sortperm(t)\n",
    "    return v\n",
    "end\n"
   ]
  },
  {
   "cell_type": "code",
   "execution_count": 6,
   "id": "d6e7594d",
   "metadata": {},
   "outputs": [
    {
     "data": {
      "text/plain": [
       "1×5 Matrix{Int64}:\n",
       " 1  2  3  4  5"
      ]
     },
     "execution_count": 6,
     "metadata": {},
     "output_type": "execute_result"
    }
   ],
   "source": [
    "q=zeros(5,5,nrow(innovations))\n",
    "a=zeros(5,5,nrow(innovations))\n",
    "ainv=zeros(5,5,nrow(innovations))\n",
    "d=zeros(5,1,nrow(innovations))\n",
    "s0=zeros(1,5,nrow(innovations))\n",
    "for i in 1:nrow(innovations)\n",
    "    q[:,:,i]=round.(get_rate_eig_mat(i)[1],digits=3)\n",
    "    a[:,:,i]=(get_rate_eig_mat(i)[2])\n",
    "    d[:,:,i]=round.(get_rate_eig_mat(i)[3],digits=3)\n",
    "    ainv[:,:,i]=round.(inv(get_rate_eig_mat(i)[2]),digits=3)\n",
    "    s0[1,rl[i],i]=1\n",
    "end\n",
    "rl_vals=[1 2 3 4 5]"
   ]
  },
  {
   "cell_type": "code",
   "execution_count": 7,
   "id": "82bcdb33-a9c3-4e1c-a456-21ed1fdb43b4",
   "metadata": {},
   "outputs": [
    {
     "data": {
      "text/html": [
       "<div class=\"data-frame\"><p>5 rows × 7 columns</p><table class=\"data-frame\"><thead><tr><th></th><th>Column1</th><th>Y0</th><th>Y1</th><th>Y2</th><th>Y3</th><th>Y4</th><th>Y5</th></tr><tr><th></th><th title=\"Int64\">Int64</th><th title=\"Int64\">Int64</th><th title=\"Float64\">Float64</th><th title=\"Float64\">Float64</th><th title=\"Float64\">Float64</th><th title=\"Float64\">Float64</th><th title=\"Float64\">Float64</th></tr></thead><tbody><tr><th>1</th><td>1</td><td>2</td><td>2.7072</td><td>4.75873</td><td>7.09603</td><td>9.8417</td><td>13.0938</td></tr><tr><th>2</th><td>2</td><td>3</td><td>3.57175</td><td>4.12</td><td>4.85225</td><td>5.7275</td><td>6.88619</td></tr><tr><th>3</th><td>3</td><td>4</td><td>3.27231</td><td>3.46135</td><td>4.85452</td><td>6.94432</td><td>9.60523</td></tr><tr><th>4</th><td>4</td><td>2</td><td>3.57586</td><td>4.52541</td><td>5.81029</td><td>7.27062</td><td>8.80461</td></tr><tr><th>5</th><td>5</td><td>4</td><td>3.61235</td><td>3.77839</td><td>4.54485</td><td>5.90837</td><td>7.67768</td></tr></tbody></table></div>"
      ],
      "text/latex": [
       "\\begin{tabular}{r|ccccccc}\n",
       "\t& Column1 & Y0 & Y1 & Y2 & Y3 & Y4 & Y5\\\\\n",
       "\t\\hline\n",
       "\t& Int64 & Int64 & Float64 & Float64 & Float64 & Float64 & Float64\\\\\n",
       "\t\\hline\n",
       "\t1 & 1 & 2 & 2.7072 & 4.75873 & 7.09603 & 9.8417 & 13.0938 \\\\\n",
       "\t2 & 2 & 3 & 3.57175 & 4.12 & 4.85225 & 5.7275 & 6.88619 \\\\\n",
       "\t3 & 3 & 4 & 3.27231 & 3.46135 & 4.85452 & 6.94432 & 9.60523 \\\\\n",
       "\t4 & 4 & 2 & 3.57586 & 4.52541 & 5.81029 & 7.27062 & 8.80461 \\\\\n",
       "\t5 & 5 & 4 & 3.61235 & 3.77839 & 4.54485 & 5.90837 & 7.67768 \\\\\n",
       "\\end{tabular}\n"
      ],
      "text/plain": [
       "\u001b[1m5×7 DataFrame\u001b[0m\n",
       "\u001b[1m Row \u001b[0m│\u001b[1m Column1 \u001b[0m\u001b[1m Y0    \u001b[0m\u001b[1m Y1      \u001b[0m\u001b[1m Y2      \u001b[0m\u001b[1m Y3      \u001b[0m\u001b[1m Y4      \u001b[0m\u001b[1m Y5       \u001b[0m\n",
       "\u001b[1m     \u001b[0m│\u001b[90m Int64   \u001b[0m\u001b[90m Int64 \u001b[0m\u001b[90m Float64 \u001b[0m\u001b[90m Float64 \u001b[0m\u001b[90m Float64 \u001b[0m\u001b[90m Float64 \u001b[0m\u001b[90m Float64  \u001b[0m\n",
       "─────┼──────────────────────────────────────────────────────────────\n",
       "   1 │       1      2  2.7072   4.75873  7.09603  9.8417   13.0938\n",
       "   2 │       2      3  3.57175  4.12     4.85225  5.7275    6.88619\n",
       "   3 │       3      4  3.27231  3.46135  4.85452  6.94432   9.60523\n",
       "   4 │       4      2  3.57586  4.52541  5.81029  7.27062   8.80461\n",
       "   5 │       5      4  3.61235  3.77839  4.54485  5.90837   7.67768"
      ]
     },
     "execution_count": 7,
     "metadata": {},
     "output_type": "execute_result"
    }
   ],
   "source": [
    "inn_reg = CSV.File(\"./data/inn_reg.csv\",header=1,delim=\",\") |> DataFrame\n",
    "inn_xrang = CSV.File(\"./data/inn_xrang.csv\",header=1,delim=\",\") |> DataFrame\n",
    "inn_yrang = CSV.File(\"./data/inn_yrang.csv\",header=1,delim=\",\") |> DataFrame\n",
    "inn_yrang[!,\"Y0\"]=-1*(innovations[!,\"RL\"].-5)\n",
    "inn_yrang"
   ]
  },
  {
   "cell_type": "code",
   "execution_count": 8,
   "id": "97835213",
   "metadata": {},
   "outputs": [
    {
     "data": {
      "text/plain": [
       "3-element Vector{Float64}:\n",
       "  3.999999999999999\n",
       " -2.5\n",
       "  0.5"
      ]
     },
     "execution_count": 8,
     "metadata": {},
     "output_type": "execute_result"
    }
   ],
   "source": [
    "A=[1 2 4;2 3 5;4 5 1]\n",
    "A^-1 * [1;3;4]\n"
   ]
  },
  {
   "cell_type": "code",
   "execution_count": 9,
   "id": "8d0dcee1",
   "metadata": {},
   "outputs": [
    {
     "data": {
      "text/plain": [
       "1×2 Matrix{Float64}:\n",
       " 0.2  0.4"
      ]
     },
     "execution_count": 9,
     "metadata": {},
     "output_type": "execute_result"
    }
   ],
   "source": [
    "A=[ [1 0 -20 -40 0 30 45 0 0];\n",
    "    [0 1 -1 -2 0 0 0 0 0.1];\n",
    "    [0 0 100 0 -1 0 0 0 0];\n",
    "    [0 0 0 100 -1 0 0 0 0];\n",
    "    [0 0 0 0 1 0 0 -30 -20];\n",
    "    [0 0 0 0 0 -50 -50 22 0]]\n",
    "\n",
    "B=[[0.25 0.2 2 1 0 2 5 1 1];\n",
    "    [0 0 0 0 0.4 5 5 0 2];\n",
    "    [0 0 0 0 0 15 0 8 5]]\n",
    "\n",
    "m=[0.2 0.4]"
   ]
  },
  {
   "cell_type": "code",
   "execution_count": 10,
   "id": "9736a1f2",
   "metadata": {},
   "outputs": [
    {
     "data": {
      "text/plain": [
       "6×9 Matrix{Float64}:\n",
       " 1.0  0.0  -20.0  -40.0   0.0   30.0   45.0    0.0    0.0\n",
       " 0.0  1.0   -1.0   -2.0   0.0    0.0    0.0    0.0    0.1\n",
       " 0.0  0.0  100.0    0.0  -1.0    0.0    0.0    0.0    0.0\n",
       " 0.0  0.0    0.0  100.0  -1.0    0.0    0.0    0.0    0.0\n",
       " 0.0  0.0    0.0    0.0   1.0    0.0    0.0  -30.0  -20.0\n",
       " 0.0  0.0    0.0    0.0   0.0  -50.0  -50.0   22.0    0.0"
      ]
     },
     "execution_count": 10,
     "metadata": {},
     "output_type": "execute_result"
    }
   ],
   "source": [
    "A"
   ]
  },
  {
   "cell_type": "code",
   "execution_count": 11,
   "id": "8e71e88a-0c0c-4457-94b8-9f47678e64ac",
   "metadata": {},
   "outputs": [
    {
     "data": {
      "text/plain": [
       "tech_roadmap_mccormick_peicewise_self (generic function with 1 method)"
      ]
     },
     "execution_count": 11,
     "metadata": {},
     "output_type": "execute_result"
    }
   ],
   "source": [
    "function tech_roadmap_mccormick_peicewise_self()\n",
    "    \n",
    "    rdmap= Model(BARON.Optimizer)\n",
    "    set_optimizer_attribute(rdmap, \"MaxTime\", 2500)\n",
    "    \n",
    "    #Sets\n",
    "    # i: innovation\n",
    "    # k: compromise or pareto optimal solution\n",
    "    # r,c : row column of transition matrices\n",
    "    \n",
    "    #Declaration of variables\n",
    "    \n",
    "    #binary variable choosing the pareto optimal solution\n",
    "    @variable(rdmap,yk[k=1:nrow(compromise)],Bin)\n",
    "    #time at which a pareto optimal solution is chosen\n",
    "    @variable(rdmap,0 ≤ tk[k=1:nrow(compromise)] ≤ 50)\n",
    "    #percentage of functional unit that a pareto optimal solution takes up\n",
    "    @variable(rdmap,0 ≤ xk[k=1:nrow(compromise)] ≤ 1)\n",
    "    \n",
    "    #binary variable choosing which innovation to invest in for adoption\n",
    "    @variable(rdmap,yi[i=1:nrow(innovations)],Bin)\n",
    "    #time at which invested is made and innovation made adoptible\n",
    "    @variable(rdmap,0 ≤ ti[i=1:nrow(innovations)] ≤ 50)\n",
    "    #readiness level state value of ith innovation\n",
    "    @variable(rdmap, s[i=1:nrow(innovations)] )\n",
    "    \n",
    "    #CO2 at 2050 target\n",
    "    @variable(rdmap, co2_2050 ≥ 0)\n",
    "    \n",
    "    #circularity at 2030 target\n",
    "    @variable(rdmap, theta_2030 ≥ 0)\n",
    "    #recycled content at 2030 target\n",
    "    @variable(rdmap, recycl_2030 ≥ 0)\n",
    "    #compostable content at 2030 target\n",
    "    @variable(rdmap, comp_2030 ≥ 0)\n",
    "    \n",
    "    #integral approximator of CO2\n",
    "    @variable(rdmap, co2_tot ≥ 0)\n",
    "    \n",
    "    #cost incured in investing to adopt\n",
    "    @variable(rdmap, 0 ≤ cost_inn)\n",
    "    \n",
    "    \n",
    "    #Constraints\n",
    "    \n",
    "    #Planning optimization constraints    \n",
    "    #only one compromise solution chosen on each pareto front, and chosen only if investment made in ith front\n",
    "    @constraint(rdmap, [i=1], sum(yk[k] for k=1:mapki[i,2])==yi[i])\n",
    "    @constraint(rdmap, [i=2:nrow(mapki)], sum(yk[k] for k=mapki[i-1,2]:mapki[i,2])==yi[i])\n",
    "    \n",
    "    #one can pick a compromise solution from ith front to satisfy functional unit only after investment in ith innovation made\n",
    "    @constraint(rdmap, [i=1], ti[i] ≤ sum(tk[k] for k=1:mapki[i,2]))\n",
    "    @constraint(rdmap, [i=2:nrow(mapki)], ti[i] ≤ sum(tk[k] for k=mapki[i-1,2]:mapki[i,2]))\n",
    "    \n",
    "    #if innovation invested in, time has to be between 0 and fifty, otherwise 0\n",
    "    @constraint(rdmap, [i=1:nrow(mapki)], 50*yi[i] ≥ ti[i])\n",
    "    #if compromise solution chosen, time has to be between 0 and fifty, otherwise 0\n",
    "    @constraint(rdmap, [k=1:nrow(compromise)], 50*yk[k] ≥ tk[k])\n",
    "    \n",
    "    #if innovation invested in, time has to be between 0 and fifty, otherwise 0\n",
    "    #@constraint(rdmap, [i=1:nrow(mapki)], 50*yi[i] ≤ ti[i])\n",
    "    #if compromise solution chosen, time has to be between 0 and fifty, otherwise 0\n",
    "    #@constraint(rdmap, [k=1:nrow(compromise)], 50*yk[k] ≤ tk[k])\n",
    "    \n",
    "    \n",
    "    #functional unit allocation to innovation iff compromise solution chosen\n",
    "    @constraint(rdmap, [k=1:nrow(compromise)], yk[k] ≥ xk[k])\n",
    "    \n",
    "    #total fraction of functional unit satisfied by innovative compromise solutions <1\n",
    "    @constraint(rdmap, sum(xk[k] for k in 1:nrow(compromise)) ≤ 1) \n",
    "    \n",
    "    #co2 at 2050 target formulated based on distribution of functional unit to various pareto solutions from innovative and conventional fronts\n",
    "    @constraint(rdmap, co2_2050==sum(xk[k]*compromise[k,3] for k in 1:nrow(compromise))\n",
    "        + (1-sum(xk[k] for k in 1:nrow(compromise)))*initial[1,3])\n",
    "    \n",
    "    #tk < 30\n",
    "    @variable(rdmap, zk_2030[k=1:nrow(compromise)], Bin)\n",
    "    @constraint(rdmap, [k=1:nrow(compromise)], 50*(1-zk_2030[k]) ≥ tk[k]-10)\n",
    "    \n",
    "    #circularity at 2030 target\n",
    "    @constraint(rdmap, theta_2030==sum(xk[k]*compromise[k,4]*(zk_2030[k]) for k in 1:nrow(compromise))\n",
    "        + (1-sum(xk[k]*(zk_2030[k]) for k in 1:nrow(compromise)))*initial[1,4])\n",
    "    \n",
    "    #recyclable content at 2030 target\n",
    "    @constraint(rdmap, recycl_2030==sum(xk[k]*compromise[k,5]*(zk_2030[k]) for k in 1:nrow(compromise))\n",
    "        + (1-sum(xk[k]*(zk_2030[k]) for k in 1:nrow(compromise)))*initial[1,5])\n",
    "    \n",
    "    #compostable at 2030 target\n",
    "    @constraint(rdmap, comp_2030==sum(xk[k]*compromise[k,6]*(zk_2030[k]) for k in 1:nrow(compromise))\n",
    "        + (1-sum(xk[k]*(zk_2030[k]) for k in 1:nrow(compromise)))*initial[1,6])\n",
    "    \n",
    "    \n",
    "    #Time evolution of innovation\n",
    "   \n",
    "    \n",
    "    #Integral approximation of co2 emitted during the entire time horizon\n",
    "    \n",
    "    #mccormick envelopes reduces computational time by 3 fold (see previous formulation for actual bilinear integral approximation)\n",
    "    @variable(rdmap,0 ≤ wk[k=1:nrow(compromise)])\n",
    "    @constraint(rdmap,[k=1:nrow(compromise)],wk[k] ≥ 50*xk[k]+tk[k]-50)\n",
    "    @constraint(rdmap,[k=1:nrow(compromise)],wk[k] ≤ 50*xk[k])\n",
    "    @constraint(rdmap,[k=1:nrow(compromise)],wk[k] ≤ tk[k])\n",
    "    \n",
    "    @NLconstraint(rdmap, co2_tot == 50*initial[1,3]-sum((50-tk[k])*xk[k]*(initial[1,3]-compromise[k,3]) for k in 1:nrow(compromise)))\n",
    "    #@constraint(rdmap, co2_tot == 50*initial[1,3]-sum((50*xk[k]-wk[k])*(initial[1,3]-compromise[k,3]) for k in 1:nrow(compromise)))\n",
    "\n",
    "    #setting target for 2050 co2 pledge\n",
    "    @constraint(rdmap, co2_2050 ≤ 42)\n",
    "    \n",
    "    #setting target for 2030 circularity pledge\n",
    "    #@constraint(rdmap, theta_2030 ≥ 0.72)\n",
    "    \n",
    "    #setting target for 2030 recycl pledge\n",
    "    @constraint(rdmap, recycl_2030 + comp_2030 ≥ 0.75)\n",
    "    #0.42 co2 0.3 recycl\n",
    "    \n",
    "    #setting target for 2030 comp pledge\n",
    "    #@constraint(rdmap, comp_2030 ≥ 0.0)\n",
    "    \n",
    "    \n",
    "    @variable(rdmap,f_fit[i=1:nrow(innovations)] ≥ 0)\n",
    "\n",
    "    for i in 1:nrow(innovations)\n",
    "        f_fit[i] = piecewiselinear(rdmap, ti[i], Matrix(inn_xrang[!,2:ncol(inn_xrang)])[i,:],Matrix(inn_yrang[!,2:ncol(inn_yrang)])[i,:])\n",
    "    end\n",
    "\n",
    "    \n",
    "    @NLconstraint(rdmap, cost_inn == sum(ci[i]*(yi[i]*f_fit[i]) for i in 1:nrow(innovations)))\n",
    "                \n",
    "\n",
    "    \n",
    "    @constraint(rdmap, [i=1:nrow(innovations)],s[i]==f_fit[i])\n",
    "    \n",
    "    #@variable(rdmap, y1, Bin)\n",
    "    #@NLconstraint(rdmap, cost_inn == sum(ci[i]*(yi[i]*(y1*(2*t/50)+(1-y1)*(3*t/50))) for i in 1:nrow(innovations)))\n",
    "    \n",
    "    \n",
    "\n",
    "    #definining objective function as investment cost + Co2 emission cost during the time horizon\n",
    "    #40*0.001*co2_tot+\n",
    "    #@NLconstraint(rdmap, obj_val == cost_inn)\n",
    "    @NLobjective(rdmap,Min, 120*0.001*co2_tot+cost_inn)\n",
    "    #supplying lower bound on objective based on cost_inn optimal\n",
    "    #@variable(rdmap, obj_val ≥ 180)\n",
    "    #print(rdmap)\n",
    "    optimize!(rdmap)\n",
    "    \n",
    "    return JuMP.value.(yk), JuMP.value.(tk), JuMP.value.(xk), JuMP.value.(yi), JuMP.value.(ti), \n",
    "        JuMP.value.(s), JuMP.value.(co2_2050), JuMP.value.(cost_inn), JuMP.value.(co2_tot)\n",
    "end\n",
    "\n",
    "\n"
   ]
  },
  {
   "cell_type": "code",
   "execution_count": 12,
   "id": "af85f631",
   "metadata": {},
   "outputs": [
    {
     "name": "stdout",
     "output_type": "stream",
     "text": [
      "===========================================================================\n",
      " BARON version 21.1.13. Built: LNX-64 Wed Jan 13 16:09:31 EST 2021\n",
      "\n",
      " BARON is a product of The Optimization Firm.\n",
      " For information on BARON, see https://minlp.com/about-baron\n",
      " Licensee: Bhavik R. Bakshi at The Ohio State University, bakshi.2@osu.edu.\n",
      "\n",
      " If you use this software, please cite publications from\n",
      " https://minlp.com/baron-publications, such as: \n",
      "\n",
      " Kilinc, M. and N. V. Sahinidis, Exploiting integrality in the global\n",
      " optimization of mixed-integer nonlinear programming problems in BARON,\n",
      " Optimization Methods and Software, 33, 540-562, 2018.\n",
      "===========================================================================\n",
      " This BARON run may utilize the following subsolver(s)\n",
      " For LP/MIP/QP: CLP/CBC                                         \n",
      " For NLP: IPOPT, FILTERSD, FILTERSQP\n",
      "===========================================================================\n",
      " Doing local search\n",
      " Unable to find/load CPLEX library libcplex.so: cannot open shared object file: No such file or directory\n",
      " Unable to find/load CPLEX library libcplex2010.so: cannot open shared object file: No such file or directory\n",
      " Solving bounding LP\n",
      " Starting multi-start local search\n",
      " Preprocessing found feasible solution with value  951.202194146     \n",
      " Preprocessing found feasible solution with value  946.332402480     \n",
      " Preprocessing found feasible solution with value  735.202194146     \n",
      " Done with local search\n",
      "===========================================================================\n",
      "  Iteration    Open nodes         Time (s)    Lower bound      Upper bound\n",
      "          1             1             0.71     708.249          735.202    \n",
      "          5             0             0.76     735.201          735.202    \n",
      "\n",
      " Calculating duals\n",
      "\n",
      "                         *** Normal completion ***            \n",
      "\n",
      " Wall clock time:                     0.78\n",
      " Total CPU time used:                 0.76\n",
      "\n",
      " Total no. of BaR iterations:       5\n",
      " Best solution found at node:      -1\n",
      " Max. no. of nodes in memory:       2\n",
      " \n",
      " All done\n",
      "===========================================================================\n"
     ]
    },
    {
     "data": {
      "text/plain": [
       "5-element Vector{Float64}:\n",
       " 1.0\n",
       " 0.0\n",
       " 1.0\n",
       " 0.0\n",
       " 0.0"
      ]
     },
     "execution_count": 12,
     "metadata": {},
     "output_type": "execute_result"
    }
   ],
   "source": [
    "yk, tk, xk, yi, ti, s, co2, costInn, co2tot=tech_roadmap_mccormick_peicewise_self()\n",
    "yi\n"
   ]
  },
  {
   "cell_type": "code",
   "execution_count": 11,
   "id": "1abf8dd4",
   "metadata": {},
   "outputs": [
    {
     "data": {
      "text/plain": [
       "tech_roadmap_mccormick_peicewise_iam (generic function with 1 method)"
      ]
     },
     "execution_count": 11,
     "metadata": {},
     "output_type": "execute_result"
    }
   ],
   "source": [
    "function tech_roadmap_mccormick_peicewise_iam_multipd()\n",
    "    \n",
    "    rdmap= Model(BARON.Optimizer)\n",
    "    set_optimizer_attribute(rdmap, \"MaxTime\", 2500)\n",
    "    \n",
    "    #Sets\n",
    "    # i: innovation\n",
    "    # k: compromise or pareto optimal solution\n",
    "    # r,c : row column of transition matrices\n",
    "    \n",
    "    #Declaration of variables\n",
    "    \n",
    "    #binary variable choosing the pareto optimal solution\n",
    "    @variable(rdmap,yk[k=1:nrow(compromise)],Bin)\n",
    "    #time at which a pareto optimal solution is chosen\n",
    "    @variable(rdmap,0 ≤ tk[k=1:nrow(compromise)] ≤ 50)\n",
    "    #percentage of functional unit that a pareto optimal solution takes up\n",
    "    @variable(rdmap,0 ≤ xk[k=1:nrow(compromise)] ≤ 1)\n",
    "    \n",
    "    #binary variable choosing which innovation to invest in for adoption\n",
    "    @variable(rdmap,yi[i=1:nrow(innovations)],Bin)\n",
    "    #time at which invested is made and innovation made adoptible\n",
    "    @variable(rdmap,0 ≤ ti[i=1:nrow(innovations)] ≤ 50)\n",
    "    #readiness level state value of ith innovation\n",
    "    @variable(rdmap, s[i=1:nrow(innovations)] )\n",
    "    \n",
    "    #CO2 at 2050 target\n",
    "    @variable(rdmap, co2_2050 ≥ 0)\n",
    "    \n",
    "    #circularity at 2030 target\n",
    "    @variable(rdmap, theta_2030 ≥ 0)\n",
    "    #recycled content at 2030 target\n",
    "    @variable(rdmap, recycl_2030 ≥ 0)\n",
    "    #compostable content at 2030 target\n",
    "    @variable(rdmap, comp_2030 ≥ 0)\n",
    "    \n",
    "    #integral approximator of CO2\n",
    "    @variable(rdmap, co2_tot ≥ 0)\n",
    "    \n",
    "    #cost incured in investing to adopt\n",
    "    @variable(rdmap, 0 ≤ cost_inn)\n",
    "    \n",
    "    #surrogate models\n",
    "    @variable(rdmap,f_fit[i=1:nrow(innovations)] ≥ 0)\n",
    "    @variable(rdmap,co2_factor[k=1:nrow(compromise)]≥ 0)\n",
    "    @variable(rdmap,co2_corrected[k=1:nrow(compromise)]≥ 0)\n",
    "\n",
    "    for i in 1:nrow(innovations)\n",
    "        f_fit[i] = piecewiselinear(rdmap, ti[i], Matrix(inn_xrang[!,2:ncol(inn_xrang)])[i,:],Matrix(inn_yrang[!,2:ncol(inn_yrang)])[i,:])\n",
    "    end\n",
    "    \n",
    "    for k in 1:nrow(compromise)\n",
    "        co2_factor[k] = (piecewiselinear(rdmap, tk[k], Matrix(iam_model[!,1:1])[:,1],Matrix(iam_model[!,2:2])[:,1]))\n",
    "    end\n",
    "    \n",
    "    @constraint(rdmap, [k=1:nrow(compromise)], co2_corrected[k] == \n",
    "        compromise[k,3]*((1-compromise[k,7]) + compromise[k,7]*(1-co2_factor[k])))\n",
    "    \n",
    "    #Constraints\n",
    "    \n",
    "    \n",
    "    #Planning optimization constraints    \n",
    "    #only one compromise solution chosen on each pareto front, and chosen only if investment made in ith front\n",
    "    @constraint(rdmap, [i=1], sum(yk[k] for k=1:mapki[i,2])==yi[i])\n",
    "    @constraint(rdmap, [i=2:nrow(mapki)], sum(yk[k] for k=mapki[i-1,2]:mapki[i,2])==yi[i])\n",
    "    \n",
    "    #one can pick a compromise solution from ith front to satisfy functional unit only after investment in ith innovation made\n",
    "    @constraint(rdmap, [i=1], ti[i] ≤ sum(tk[k] for k=1:mapki[i,2]))\n",
    "    @constraint(rdmap, [i=2:nrow(mapki)], ti[i] ≤ sum(tk[k] for k=mapki[i-1,2]:mapki[i,2]))\n",
    "    \n",
    "    #if innovation invested in, time has to be between 0 and fifty, otherwise 0\n",
    "    @constraint(rdmap, [i=1:nrow(mapki)], 50*yi[i] ≥ ti[i])\n",
    "    #if compromise solution chosen, time has to be between 0 and fifty, otherwise 0\n",
    "    @constraint(rdmap, [k=1:nrow(compromise)], 50*yk[k] ≥ tk[k])\n",
    "    \n",
    "    #if innovation invested in, time has to be between 0 and fifty, otherwise 0\n",
    "    #@constraint(rdmap, [i=1:nrow(mapki)], 50*yi[i] ≤ ti[i])\n",
    "    #if compromise solution chosen, time has to be between 0 and fifty, otherwise 0\n",
    "    #@constraint(rdmap, [k=1:nrow(compromise)], 50*yk[k] ≤ tk[k])\n",
    "    \n",
    "    \n",
    "    #functional unit allocation to innovation iff compromise solution chosen\n",
    "    @constraint(rdmap, [k=1:nrow(compromise)], yk[k] ≥ xk[k])\n",
    "    \n",
    "    #total fraction of functional unit satisfied by innovative compromise solutions <1\n",
    "    @constraint(rdmap, sum(xk[k] for k in 1:nrow(compromise)) ≤ 1) \n",
    "    \n",
    "    #co2 at 2050 target formulated based on distribution of functional unit to various pareto solutions from innovative and conventional fronts\n",
    "    @constraint(rdmap, co2_2050==sum(xk[k]*co2_corrected[k] for k in 1:nrow(compromise))\n",
    "        + (1-sum(xk[k] for k in 1:nrow(compromise)))*initial[1,3])\n",
    "    \n",
    "    #tk < 30\n",
    "    @variable(rdmap, zk_2030[k=1:nrow(compromise)], Bin)\n",
    "    @constraint(rdmap, [k=1:nrow(compromise)], 50*(1-zk_2030[k]) ≥ tk[k]-40)\n",
    "    \n",
    "    #circularity at 2030 target\n",
    "    @constraint(rdmap, theta_2030==sum(xk[k]*compromise[k,4]*(zk_2030[k]) for k in 1:nrow(compromise))\n",
    "        + (1-sum(xk[k]*(zk_2030[k]) for k in 1:nrow(compromise)))*initial[1,4])\n",
    "    \n",
    "    #recyclable content at 2030 target\n",
    "    @constraint(rdmap, recycl_2030==sum(xk[k]*compromise[k,5]*(zk_2030[k]) for k in 1:nrow(compromise))\n",
    "        + (1-sum(xk[k]*(zk_2030[k]) for k in 1:nrow(compromise)))*initial[1,5])\n",
    "    \n",
    "    #compostable at 2030 target\n",
    "    @constraint(rdmap, comp_2030==sum(xk[k]*compromise[k,6]*(zk_2030[k]) for k in 1:nrow(compromise))\n",
    "        + (1-sum(xk[k]*(zk_2030[k]) for k in 1:nrow(compromise)))*initial[1,6])\n",
    "    \n",
    "    \n",
    "    #Time evolution of innovation\n",
    "   \n",
    "    \n",
    "    #Integral approximation of co2 emitted during the entire time horizon\n",
    "    \n",
    "    #mccormick envelopes reduces computational time by 3 fold (see previous formulation for actual bilinear integral approximation)\n",
    "    @variable(rdmap,0 ≤ wk[k=1:nrow(compromise)])\n",
    "    @constraint(rdmap,[k=1:nrow(compromise)],wk[k] ≥ 50*xk[k]+tk[k]-50)\n",
    "    @constraint(rdmap,[k=1:nrow(compromise)],wk[k] ≤ 50*xk[k])\n",
    "    @constraint(rdmap,[k=1:nrow(compromise)],wk[k] ≤ tk[k])\n",
    "    \n",
    "    @NLconstraint(rdmap, co2_tot == 50*initial[1,3]-sum((50-tk[k])*xk[k]*(initial[1,3]-co2_corrected[k]) for k in 1:nrow(compromise)))\n",
    "    #@constraint(rdmap, co2_tot == 50*initial[1,3]-sum((50*xk[k]-wk[k])*(initial[1,3]-compromise[k,3]) for k in 1:nrow(compromise)))\n",
    "\n",
    "    #setting target for 2050 co2 pledge\n",
    "    @constraint(rdmap, co2_2050 ≤ 30)\n",
    "    \n",
    "    #setting target for 2030 circularity pledge\n",
    "    #@constraint(rdmap, theta_2030 ≥ 0.72)\n",
    "    \n",
    "    #setting target for 2030 recycl pledge\n",
    "    @constraint(rdmap, recycl_2030 ≥ 0.3)\n",
    "    \n",
    "    #setting target for 2030 comp pledge\n",
    "    @constraint(rdmap, comp_2030 ≥ 0.45)\n",
    "    \n",
    "    \n",
    "\n",
    "\n",
    "    \n",
    "    @NLconstraint(rdmap, cost_inn == sum(ci[i]*(yi[i]*f_fit[i]) for i in 1:nrow(innovations)))\n",
    "                \n",
    "\n",
    "    \n",
    "    @constraint(rdmap, [i=1:nrow(innovations)],s[i]==f_fit[i])\n",
    "    \n",
    "    #@variable(rdmap, y1, Bin)\n",
    "    #@NLconstraint(rdmap, cost_inn == sum(ci[i]*(yi[i]*(y1*(2*t/50)+(1-y1)*(3*t/50))) for i in 1:nrow(innovations)))\n",
    "    \n",
    "    \n",
    "\n",
    "    #definining objective function as investment cost + Co2 emission cost during the time horizon\n",
    "    #40*0.001*co2_tot+\n",
    "    #@NLconstraint(rdmap, obj_val == cost_inn)\n",
    "    @NLobjective(rdmap,Min, 120*0.001*co2_tot+cost_inn)\n",
    "    #supplying lower bound on objective based on cost_inn optimal\n",
    "    #@variable(rdmap, obj_val ≥ 180)\n",
    "    #print(rdmap)\n",
    "    optimize!(rdmap)\n",
    "    \n",
    "    return JuMP.value.(yk), JuMP.value.(tk), JuMP.value.(xk), JuMP.value.(yi), JuMP.value.(ti), \n",
    "        JuMP.value.(s), JuMP.value.(co2_2050), JuMP.value.(cost_inn), JuMP.value.(co2_tot), JuMP.value.(co2_corrected)\n",
    "end\n",
    "\n",
    "\n"
   ]
  },
  {
   "cell_type": "code",
   "execution_count": 12,
   "id": "27347e35",
   "metadata": {},
   "outputs": [
    {
     "name": "stdout",
     "output_type": "stream",
     "text": [
      "===========================================================================\n",
      " BARON version 21.1.13. Built: LNX-64 Wed Jan 13 16:09:31 EST 2021\n",
      "\n",
      " BARON is a product of The Optimization Firm.\n",
      " For information on BARON, see https://minlp.com/about-baron\n",
      " Licensee: Bhavik R. Bakshi at The Ohio State University, bakshi.2@osu.edu.\n",
      "\n",
      " If you use this software, please cite publications from\n",
      " https://minlp.com/baron-publications, such as: \n",
      "\n",
      " Kilinc, M. and N. V. Sahinidis, Exploiting integrality in the global\n",
      " optimization of mixed-integer nonlinear programming problems in BARON,\n",
      " Optimization Methods and Software, 33, 540-562, 2018.\n",
      "===========================================================================\n",
      " This BARON run may utilize the following subsolver(s)\n",
      " For LP/MIP/QP: CLP/CBC                                         \n",
      " For NLP: IPOPT, FILTERSD, FILTERSQP\n",
      "===========================================================================\n",
      " Doing local search\n",
      " Unable to find/load CPLEX library libcplex.so: cannot open shared object file: No such file or directory\n",
      " Unable to find/load CPLEX library libcplex2010.so: cannot open shared object file: No such file or directory\n",
      " Solving bounding LP\n",
      " Starting multi-start local search\n",
      " Preprocessing found feasible solution with value  688.286972678     \n",
      " Done with local search\n",
      "===========================================================================\n",
      "  Iteration    Open nodes         Time (s)    Lower bound      Upper bound\n",
      "          1             1             1.34     660.633          688.287    \n",
      "*         8             2             1.50     687.976          687.978    \n",
      "          9             0             1.50     687.977          687.978    \n",
      "\n",
      " Calculating duals\n",
      "\n",
      "                         *** Normal completion ***            \n",
      "\n",
      " Wall clock time:                     2.35\n",
      " Total CPU time used:                 1.50\n",
      "\n",
      " Total no. of BaR iterations:       9\n",
      " Best solution found at node:       8\n",
      " Max. no. of nodes in memory:       3\n",
      " \n",
      " All done\n",
      "===========================================================================\n"
     ]
    },
    {
     "data": {
      "text/plain": [
       "5-element Vector{Float64}:\n",
       " 0.0\n",
       " 0.0\n",
       " 1.0\n",
       " 1.0\n",
       " 0.0"
      ]
     },
     "execution_count": 12,
     "metadata": {},
     "output_type": "execute_result"
    }
   ],
   "source": [
    "yk, tk, xk, yi, ti, s, co2, costInn, co2tot, co2fac=tech_roadmap_mccormick_peicewise_iam_multipd()\n",
    "yi\n"
   ]
  },
  {
   "cell_type": "code",
   "execution_count": 18,
   "id": "8fb21231",
   "metadata": {},
   "outputs": [
    {
     "data": {
      "application/vnd.vegalite.v4+json": {
       "data": {
        "values": [
         {
          "value": 100,
          "variable": "conv",
          "year": "2020"
         },
         {
          "value": 54.5454545454545,
          "variable": "conv",
          "year": "2021"
         },
         {
          "value": 54.5454545454545,
          "variable": "conv",
          "year": "2022"
         },
         {
          "value": 54.5454545454545,
          "variable": "conv",
          "year": "2023"
         },
         {
          "value": 54.5454545454545,
          "variable": "conv",
          "year": "2024"
         },
         {
          "value": 54.5454545454545,
          "variable": "conv",
          "year": "2025"
         },
         {
          "value": 0,
          "variable": "conv",
          "year": "2026"
         },
         {
          "value": 0,
          "variable": "conv",
          "year": "2027"
         },
         {
          "value": 0,
          "variable": "conv",
          "year": "2028"
         },
         {
          "value": 0,
          "variable": "conv",
          "year": "2029"
         },
         {
          "value": 0,
          "variable": "conv",
          "year": "2030"
         },
         {
          "value": 0,
          "variable": "conv",
          "year": "2031"
         },
         {
          "value": 0,
          "variable": "conv",
          "year": "2032"
         },
         {
          "value": 0,
          "variable": "conv",
          "year": "2033"
         },
         {
          "value": 0,
          "variable": "conv",
          "year": "2034"
         },
         {
          "value": 0,
          "variable": "conv",
          "year": "2035"
         },
         {
          "value": 0,
          "variable": "conv",
          "year": "2036"
         },
         {
          "value": 0,
          "variable": "conv",
          "year": "2037"
         },
         {
          "value": 0,
          "variable": "conv",
          "year": "2038"
         },
         {
          "value": 0,
          "variable": "conv",
          "year": "2039"
         },
         {
          "value": 0,
          "variable": "conv",
          "year": "2040"
         },
         {
          "value": 0,
          "variable": "conv",
          "year": "2041"
         },
         {
          "value": 0,
          "variable": "conv",
          "year": "2042"
         },
         {
          "value": 0,
          "variable": "conv",
          "year": "2043"
         },
         {
          "value": 0,
          "variable": "conv",
          "year": "2044"
         },
         {
          "value": 0,
          "variable": "conv",
          "year": "2045"
         },
         {
          "value": 0,
          "variable": "conv",
          "year": "2046"
         },
         {
          "value": 0,
          "variable": "conv",
          "year": "2047"
         },
         {
          "value": 0,
          "variable": "conv",
          "year": "2048"
         },
         {
          "value": 0,
          "variable": "conv",
          "year": "2049"
         },
         {
          "value": 0,
          "variable": "conv",
          "year": "2050"
         },
         {
          "value": 0,
          "variable": "conv",
          "year": "2051"
         },
         {
          "value": 0,
          "variable": "conv",
          "year": "2052"
         },
         {
          "value": 0,
          "variable": "conv",
          "year": "2053"
         },
         {
          "value": 0,
          "variable": "conv",
          "year": "2054"
         },
         {
          "value": 0,
          "variable": "conv",
          "year": "2055"
         },
         {
          "value": 0,
          "variable": "conv",
          "year": "2056"
         },
         {
          "value": 0,
          "variable": "conv",
          "year": "2057"
         },
         {
          "value": 0,
          "variable": "conv",
          "year": "2058"
         },
         {
          "value": 0,
          "variable": "conv",
          "year": "2059"
         },
         {
          "value": 0,
          "variable": "conv",
          "year": "2060"
         },
         {
          "value": 0,
          "variable": "conv",
          "year": "2061"
         },
         {
          "value": 0,
          "variable": "conv",
          "year": "2062"
         },
         {
          "value": 0,
          "variable": "conv",
          "year": "2063"
         },
         {
          "value": 0,
          "variable": "conv",
          "year": "2064"
         },
         {
          "value": 0,
          "variable": "conv",
          "year": "2065"
         },
         {
          "value": 0,
          "variable": "conv",
          "year": "2066"
         },
         {
          "value": 0,
          "variable": "conv",
          "year": "2067"
         },
         {
          "value": 0,
          "variable": "conv",
          "year": "2068"
         },
         {
          "value": 0,
          "variable": "conv",
          "year": "2069"
         },
         {
          "value": 0,
          "variable": "conv",
          "year": "2070"
         },
         {
          "value": 0,
          "variable": "inn1",
          "year": "2020"
         },
         {
          "value": 0,
          "variable": "inn1",
          "year": "2021"
         },
         {
          "value": 0,
          "variable": "inn1",
          "year": "2022"
         },
         {
          "value": 0,
          "variable": "inn1",
          "year": "2023"
         },
         {
          "value": 0,
          "variable": "inn1",
          "year": "2024"
         },
         {
          "value": 0,
          "variable": "inn1",
          "year": "2025"
         },
         {
          "value": 0,
          "variable": "inn1",
          "year": "2026"
         },
         {
          "value": 0,
          "variable": "inn1",
          "year": "2027"
         },
         {
          "value": 0,
          "variable": "inn1",
          "year": "2028"
         },
         {
          "value": 0,
          "variable": "inn1",
          "year": "2029"
         },
         {
          "value": 0,
          "variable": "inn1",
          "year": "2030"
         },
         {
          "value": 0,
          "variable": "inn1",
          "year": "2031"
         },
         {
          "value": 0,
          "variable": "inn1",
          "year": "2032"
         },
         {
          "value": 0,
          "variable": "inn1",
          "year": "2033"
         },
         {
          "value": 0,
          "variable": "inn1",
          "year": "2034"
         },
         {
          "value": 0,
          "variable": "inn1",
          "year": "2035"
         },
         {
          "value": 0,
          "variable": "inn1",
          "year": "2036"
         },
         {
          "value": 0,
          "variable": "inn1",
          "year": "2037"
         },
         {
          "value": 0,
          "variable": "inn1",
          "year": "2038"
         },
         {
          "value": 0,
          "variable": "inn1",
          "year": "2039"
         },
         {
          "value": 0,
          "variable": "inn1",
          "year": "2040"
         },
         {
          "value": 0,
          "variable": "inn1",
          "year": "2041"
         },
         {
          "value": 0,
          "variable": "inn1",
          "year": "2042"
         },
         {
          "value": 0,
          "variable": "inn1",
          "year": "2043"
         },
         {
          "value": 0,
          "variable": "inn1",
          "year": "2044"
         },
         {
          "value": 0,
          "variable": "inn1",
          "year": "2045"
         },
         {
          "value": 0,
          "variable": "inn1",
          "year": "2046"
         },
         {
          "value": 0,
          "variable": "inn1",
          "year": "2047"
         },
         {
          "value": 0,
          "variable": "inn1",
          "year": "2048"
         },
         {
          "value": 0,
          "variable": "inn1",
          "year": "2049"
         },
         {
          "value": 0,
          "variable": "inn1",
          "year": "2050"
         },
         {
          "value": 0,
          "variable": "inn1",
          "year": "2051"
         },
         {
          "value": 0,
          "variable": "inn1",
          "year": "2052"
         },
         {
          "value": 0,
          "variable": "inn1",
          "year": "2053"
         },
         {
          "value": 0,
          "variable": "inn1",
          "year": "2054"
         },
         {
          "value": 0,
          "variable": "inn1",
          "year": "2055"
         },
         {
          "value": 0,
          "variable": "inn1",
          "year": "2056"
         },
         {
          "value": 0,
          "variable": "inn1",
          "year": "2057"
         },
         {
          "value": 0,
          "variable": "inn1",
          "year": "2058"
         },
         {
          "value": 0,
          "variable": "inn1",
          "year": "2059"
         },
         {
          "value": 0,
          "variable": "inn1",
          "year": "2060"
         },
         {
          "value": 0,
          "variable": "inn1",
          "year": "2061"
         },
         {
          "value": 0,
          "variable": "inn1",
          "year": "2062"
         },
         {
          "value": 0,
          "variable": "inn1",
          "year": "2063"
         },
         {
          "value": 0,
          "variable": "inn1",
          "year": "2064"
         },
         {
          "value": 0,
          "variable": "inn1",
          "year": "2065"
         },
         {
          "value": 0,
          "variable": "inn1",
          "year": "2066"
         },
         {
          "value": 0,
          "variable": "inn1",
          "year": "2067"
         },
         {
          "value": 0,
          "variable": "inn1",
          "year": "2068"
         },
         {
          "value": 0,
          "variable": "inn1",
          "year": "2069"
         },
         {
          "value": 0,
          "variable": "inn1",
          "year": "2070"
         },
         {
          "value": 0,
          "variable": "inn2",
          "year": "2020"
         },
         {
          "value": 0,
          "variable": "inn2",
          "year": "2021"
         },
         {
          "value": 0,
          "variable": "inn2",
          "year": "2022"
         },
         {
          "value": 0,
          "variable": "inn2",
          "year": "2023"
         },
         {
          "value": 0,
          "variable": "inn2",
          "year": "2024"
         },
         {
          "value": 0,
          "variable": "inn2",
          "year": "2025"
         },
         {
          "value": 0,
          "variable": "inn2",
          "year": "2026"
         },
         {
          "value": 0,
          "variable": "inn2",
          "year": "2027"
         },
         {
          "value": 0,
          "variable": "inn2",
          "year": "2028"
         },
         {
          "value": 0,
          "variable": "inn2",
          "year": "2029"
         },
         {
          "value": 0,
          "variable": "inn2",
          "year": "2030"
         },
         {
          "value": 0,
          "variable": "inn2",
          "year": "2031"
         },
         {
          "value": 0,
          "variable": "inn2",
          "year": "2032"
         },
         {
          "value": 0,
          "variable": "inn2",
          "year": "2033"
         },
         {
          "value": 0,
          "variable": "inn2",
          "year": "2034"
         },
         {
          "value": 0,
          "variable": "inn2",
          "year": "2035"
         },
         {
          "value": 0,
          "variable": "inn2",
          "year": "2036"
         },
         {
          "value": 0,
          "variable": "inn2",
          "year": "2037"
         },
         {
          "value": 0,
          "variable": "inn2",
          "year": "2038"
         },
         {
          "value": 0,
          "variable": "inn2",
          "year": "2039"
         },
         {
          "value": 0,
          "variable": "inn2",
          "year": "2040"
         },
         {
          "value": 0,
          "variable": "inn2",
          "year": "2041"
         },
         {
          "value": 0,
          "variable": "inn2",
          "year": "2042"
         },
         {
          "value": 0,
          "variable": "inn2",
          "year": "2043"
         },
         {
          "value": 0,
          "variable": "inn2",
          "year": "2044"
         },
         {
          "value": 0,
          "variable": "inn2",
          "year": "2045"
         },
         {
          "value": 0,
          "variable": "inn2",
          "year": "2046"
         },
         {
          "value": 0,
          "variable": "inn2",
          "year": "2047"
         },
         {
          "value": 0,
          "variable": "inn2",
          "year": "2048"
         },
         {
          "value": 0,
          "variable": "inn2",
          "year": "2049"
         },
         {
          "value": 0,
          "variable": "inn2",
          "year": "2050"
         },
         {
          "value": 0,
          "variable": "inn2",
          "year": "2051"
         },
         {
          "value": 0,
          "variable": "inn2",
          "year": "2052"
         },
         {
          "value": 0,
          "variable": "inn2",
          "year": "2053"
         },
         {
          "value": 0,
          "variable": "inn2",
          "year": "2054"
         },
         {
          "value": 0,
          "variable": "inn2",
          "year": "2055"
         },
         {
          "value": 0,
          "variable": "inn2",
          "year": "2056"
         },
         {
          "value": 0,
          "variable": "inn2",
          "year": "2057"
         },
         {
          "value": 0,
          "variable": "inn2",
          "year": "2058"
         },
         {
          "value": 0,
          "variable": "inn2",
          "year": "2059"
         },
         {
          "value": 0,
          "variable": "inn2",
          "year": "2060"
         },
         {
          "value": 0,
          "variable": "inn2",
          "year": "2061"
         },
         {
          "value": 0,
          "variable": "inn2",
          "year": "2062"
         },
         {
          "value": 0,
          "variable": "inn2",
          "year": "2063"
         },
         {
          "value": 0,
          "variable": "inn2",
          "year": "2064"
         },
         {
          "value": 0,
          "variable": "inn2",
          "year": "2065"
         },
         {
          "value": 0,
          "variable": "inn2",
          "year": "2066"
         },
         {
          "value": 0,
          "variable": "inn2",
          "year": "2067"
         },
         {
          "value": 0,
          "variable": "inn2",
          "year": "2068"
         },
         {
          "value": 0,
          "variable": "inn2",
          "year": "2069"
         },
         {
          "value": 0,
          "variable": "inn2",
          "year": "2070"
         },
         {
          "value": 0,
          "variable": "inn3",
          "year": "2020"
         },
         {
          "value": 0,
          "variable": "inn3",
          "year": "2021"
         },
         {
          "value": 0,
          "variable": "inn3",
          "year": "2022"
         },
         {
          "value": 0,
          "variable": "inn3",
          "year": "2023"
         },
         {
          "value": 0,
          "variable": "inn3",
          "year": "2024"
         },
         {
          "value": 0,
          "variable": "inn3",
          "year": "2025"
         },
         {
          "value": 24.272727272727256,
          "variable": "inn3",
          "year": "2026"
         },
         {
          "value": 24.272727272727256,
          "variable": "inn3",
          "year": "2027"
         },
         {
          "value": 24.272727272727256,
          "variable": "inn3",
          "year": "2028"
         },
         {
          "value": 24.272727272727256,
          "variable": "inn3",
          "year": "2029"
         },
         {
          "value": 24.272727272727256,
          "variable": "inn3",
          "year": "2030"
         },
         {
          "value": 24.272727272727256,
          "variable": "inn3",
          "year": "2031"
         },
         {
          "value": 24.272727272727256,
          "variable": "inn3",
          "year": "2032"
         },
         {
          "value": 24.272727272727256,
          "variable": "inn3",
          "year": "2033"
         },
         {
          "value": 24.272727272727256,
          "variable": "inn3",
          "year": "2034"
         },
         {
          "value": 24.272727272727256,
          "variable": "inn3",
          "year": "2035"
         },
         {
          "value": 24.272727272727256,
          "variable": "inn3",
          "year": "2036"
         },
         {
          "value": 24.272727272727256,
          "variable": "inn3",
          "year": "2037"
         },
         {
          "value": 24.272727272727256,
          "variable": "inn3",
          "year": "2038"
         },
         {
          "value": 24.272727272727256,
          "variable": "inn3",
          "year": "2039"
         },
         {
          "value": 24.272727272727256,
          "variable": "inn3",
          "year": "2040"
         },
         {
          "value": 24.272727272727256,
          "variable": "inn3",
          "year": "2041"
         },
         {
          "value": 24.272727272727256,
          "variable": "inn3",
          "year": "2042"
         },
         {
          "value": 24.272727272727256,
          "variable": "inn3",
          "year": "2043"
         },
         {
          "value": 24.272727272727256,
          "variable": "inn3",
          "year": "2044"
         },
         {
          "value": 24.272727272727256,
          "variable": "inn3",
          "year": "2045"
         },
         {
          "value": 24.272727272727256,
          "variable": "inn3",
          "year": "2046"
         },
         {
          "value": 24.272727272727256,
          "variable": "inn3",
          "year": "2047"
         },
         {
          "value": 24.272727272727256,
          "variable": "inn3",
          "year": "2048"
         },
         {
          "value": 24.272727272727256,
          "variable": "inn3",
          "year": "2049"
         },
         {
          "value": 24.272727272727256,
          "variable": "inn3",
          "year": "2050"
         },
         {
          "value": 24.272727272727256,
          "variable": "inn3",
          "year": "2051"
         },
         {
          "value": 24.272727272727256,
          "variable": "inn3",
          "year": "2052"
         },
         {
          "value": 24.272727272727256,
          "variable": "inn3",
          "year": "2053"
         },
         {
          "value": 24.272727272727256,
          "variable": "inn3",
          "year": "2054"
         },
         {
          "value": 24.272727272727256,
          "variable": "inn3",
          "year": "2055"
         },
         {
          "value": 24.272727272727256,
          "variable": "inn3",
          "year": "2056"
         },
         {
          "value": 24.272727272727256,
          "variable": "inn3",
          "year": "2057"
         },
         {
          "value": 24.272727272727256,
          "variable": "inn3",
          "year": "2058"
         },
         {
          "value": 24.272727272727256,
          "variable": "inn3",
          "year": "2059"
         },
         {
          "value": 24.272727272727256,
          "variable": "inn3",
          "year": "2060"
         },
         {
          "value": 24.272727272727256,
          "variable": "inn3",
          "year": "2061"
         },
         {
          "value": 24.272727272727256,
          "variable": "inn3",
          "year": "2062"
         },
         {
          "value": 24.272727272727256,
          "variable": "inn3",
          "year": "2063"
         },
         {
          "value": 24.272727272727256,
          "variable": "inn3",
          "year": "2064"
         },
         {
          "value": 24.272727272727256,
          "variable": "inn3",
          "year": "2065"
         },
         {
          "value": 24.272727272727256,
          "variable": "inn3",
          "year": "2066"
         },
         {
          "value": 24.272727272727256,
          "variable": "inn3",
          "year": "2067"
         },
         {
          "value": 24.272727272727256,
          "variable": "inn3",
          "year": "2068"
         },
         {
          "value": 24.272727272727256,
          "variable": "inn3",
          "year": "2069"
         },
         {
          "value": 24.272727272727256,
          "variable": "inn3",
          "year": "2070"
         },
         {
          "value": 0,
          "variable": "inn4",
          "year": "2020"
         },
         {
          "value": 18.181818181818198,
          "variable": "inn4",
          "year": "2021"
         },
         {
          "value": 18.181818181818198,
          "variable": "inn4",
          "year": "2022"
         },
         {
          "value": 18.181818181818198,
          "variable": "inn4",
          "year": "2023"
         },
         {
          "value": 18.181818181818198,
          "variable": "inn4",
          "year": "2024"
         },
         {
          "value": 18.181818181818198,
          "variable": "inn4",
          "year": "2025"
         },
         {
          "value": 18.181818181818198,
          "variable": "inn4",
          "year": "2026"
         },
         {
          "value": 18.181818181818198,
          "variable": "inn4",
          "year": "2027"
         },
         {
          "value": 18.181818181818198,
          "variable": "inn4",
          "year": "2028"
         },
         {
          "value": 18.181818181818198,
          "variable": "inn4",
          "year": "2029"
         },
         {
          "value": 18.181818181818198,
          "variable": "inn4",
          "year": "2030"
         },
         {
          "value": 18.181818181818198,
          "variable": "inn4",
          "year": "2031"
         },
         {
          "value": 18.181818181818198,
          "variable": "inn4",
          "year": "2032"
         },
         {
          "value": 18.181818181818198,
          "variable": "inn4",
          "year": "2033"
         },
         {
          "value": 18.181818181818198,
          "variable": "inn4",
          "year": "2034"
         },
         {
          "value": 18.181818181818198,
          "variable": "inn4",
          "year": "2035"
         },
         {
          "value": 18.181818181818198,
          "variable": "inn4",
          "year": "2036"
         },
         {
          "value": 18.181818181818198,
          "variable": "inn4",
          "year": "2037"
         },
         {
          "value": 18.181818181818198,
          "variable": "inn4",
          "year": "2038"
         },
         {
          "value": 18.181818181818198,
          "variable": "inn4",
          "year": "2039"
         },
         {
          "value": 18.181818181818198,
          "variable": "inn4",
          "year": "2040"
         },
         {
          "value": 18.181818181818198,
          "variable": "inn4",
          "year": "2041"
         },
         {
          "value": 18.181818181818198,
          "variable": "inn4",
          "year": "2042"
         },
         {
          "value": 18.181818181818198,
          "variable": "inn4",
          "year": "2043"
         },
         {
          "value": 18.181818181818198,
          "variable": "inn4",
          "year": "2044"
         },
         {
          "value": 18.181818181818198,
          "variable": "inn4",
          "year": "2045"
         },
         {
          "value": 18.181818181818198,
          "variable": "inn4",
          "year": "2046"
         },
         {
          "value": 18.181818181818198,
          "variable": "inn4",
          "year": "2047"
         },
         {
          "value": 18.181818181818198,
          "variable": "inn4",
          "year": "2048"
         },
         {
          "value": 18.181818181818198,
          "variable": "inn4",
          "year": "2049"
         },
         {
          "value": 18.181818181818198,
          "variable": "inn4",
          "year": "2050"
         },
         {
          "value": 18.181818181818198,
          "variable": "inn4",
          "year": "2051"
         },
         {
          "value": 18.181818181818198,
          "variable": "inn4",
          "year": "2052"
         },
         {
          "value": 18.181818181818198,
          "variable": "inn4",
          "year": "2053"
         },
         {
          "value": 18.181818181818198,
          "variable": "inn4",
          "year": "2054"
         },
         {
          "value": 18.181818181818198,
          "variable": "inn4",
          "year": "2055"
         },
         {
          "value": 18.181818181818198,
          "variable": "inn4",
          "year": "2056"
         },
         {
          "value": 18.181818181818198,
          "variable": "inn4",
          "year": "2057"
         },
         {
          "value": 18.181818181818198,
          "variable": "inn4",
          "year": "2058"
         },
         {
          "value": 18.181818181818198,
          "variable": "inn4",
          "year": "2059"
         },
         {
          "value": 18.181818181818198,
          "variable": "inn4",
          "year": "2060"
         },
         {
          "value": 18.181818181818198,
          "variable": "inn4",
          "year": "2061"
         },
         {
          "value": 18.181818181818198,
          "variable": "inn4",
          "year": "2062"
         },
         {
          "value": 18.181818181818198,
          "variable": "inn4",
          "year": "2063"
         },
         {
          "value": 18.181818181818198,
          "variable": "inn4",
          "year": "2064"
         },
         {
          "value": 18.181818181818198,
          "variable": "inn4",
          "year": "2065"
         },
         {
          "value": 18.181818181818198,
          "variable": "inn4",
          "year": "2066"
         },
         {
          "value": 18.181818181818198,
          "variable": "inn4",
          "year": "2067"
         },
         {
          "value": 18.181818181818198,
          "variable": "inn4",
          "year": "2068"
         },
         {
          "value": 18.181818181818198,
          "variable": "inn4",
          "year": "2069"
         },
         {
          "value": 18.181818181818198,
          "variable": "inn4",
          "year": "2070"
         },
         {
          "value": 0,
          "variable": "inn5",
          "year": "2020"
         },
         {
          "value": 0,
          "variable": "inn5",
          "year": "2021"
         },
         {
          "value": 0,
          "variable": "inn5",
          "year": "2022"
         },
         {
          "value": 0,
          "variable": "inn5",
          "year": "2023"
         },
         {
          "value": 0,
          "variable": "inn5",
          "year": "2024"
         },
         {
          "value": 0,
          "variable": "inn5",
          "year": "2025"
         },
         {
          "value": 0,
          "variable": "inn5",
          "year": "2026"
         },
         {
          "value": 0,
          "variable": "inn5",
          "year": "2027"
         },
         {
          "value": 0,
          "variable": "inn5",
          "year": "2028"
         },
         {
          "value": 0,
          "variable": "inn5",
          "year": "2029"
         },
         {
          "value": 0,
          "variable": "inn5",
          "year": "2030"
         },
         {
          "value": 0,
          "variable": "inn5",
          "year": "2031"
         },
         {
          "value": 0,
          "variable": "inn5",
          "year": "2032"
         },
         {
          "value": 0,
          "variable": "inn5",
          "year": "2033"
         },
         {
          "value": 0,
          "variable": "inn5",
          "year": "2034"
         },
         {
          "value": 0,
          "variable": "inn5",
          "year": "2035"
         },
         {
          "value": 0,
          "variable": "inn5",
          "year": "2036"
         },
         {
          "value": 0,
          "variable": "inn5",
          "year": "2037"
         },
         {
          "value": 0,
          "variable": "inn5",
          "year": "2038"
         },
         {
          "value": 0,
          "variable": "inn5",
          "year": "2039"
         },
         {
          "value": 0,
          "variable": "inn5",
          "year": "2040"
         },
         {
          "value": 0,
          "variable": "inn5",
          "year": "2041"
         },
         {
          "value": 0,
          "variable": "inn5",
          "year": "2042"
         },
         {
          "value": 0,
          "variable": "inn5",
          "year": "2043"
         },
         {
          "value": 0,
          "variable": "inn5",
          "year": "2044"
         },
         {
          "value": 0,
          "variable": "inn5",
          "year": "2045"
         },
         {
          "value": 0,
          "variable": "inn5",
          "year": "2046"
         },
         {
          "value": 0,
          "variable": "inn5",
          "year": "2047"
         },
         {
          "value": 0,
          "variable": "inn5",
          "year": "2048"
         },
         {
          "value": 0,
          "variable": "inn5",
          "year": "2049"
         },
         {
          "value": 0,
          "variable": "inn5",
          "year": "2050"
         },
         {
          "value": 0,
          "variable": "inn5",
          "year": "2051"
         },
         {
          "value": 0,
          "variable": "inn5",
          "year": "2052"
         },
         {
          "value": 0,
          "variable": "inn5",
          "year": "2053"
         },
         {
          "value": 0,
          "variable": "inn5",
          "year": "2054"
         },
         {
          "value": 0,
          "variable": "inn5",
          "year": "2055"
         },
         {
          "value": 0,
          "variable": "inn5",
          "year": "2056"
         },
         {
          "value": 0,
          "variable": "inn5",
          "year": "2057"
         },
         {
          "value": 0,
          "variable": "inn5",
          "year": "2058"
         },
         {
          "value": 0,
          "variable": "inn5",
          "year": "2059"
         },
         {
          "value": 0,
          "variable": "inn5",
          "year": "2060"
         },
         {
          "value": 0,
          "variable": "inn5",
          "year": "2061"
         },
         {
          "value": 0,
          "variable": "inn5",
          "year": "2062"
         },
         {
          "value": 0,
          "variable": "inn5",
          "year": "2063"
         },
         {
          "value": 0,
          "variable": "inn5",
          "year": "2064"
         },
         {
          "value": 0,
          "variable": "inn5",
          "year": "2065"
         },
         {
          "value": 0,
          "variable": "inn5",
          "year": "2066"
         },
         {
          "value": 0,
          "variable": "inn5",
          "year": "2067"
         },
         {
          "value": 0,
          "variable": "inn5",
          "year": "2068"
         },
         {
          "value": 0,
          "variable": "inn5",
          "year": "2069"
         },
         {
          "value": 0,
          "variable": "inn5",
          "year": "2070"
         }
        ]
       },
       "encoding": {
        "color": {
         "field": "variable",
         "type": "nominal"
        },
        "x": {
         "field": "year"
        },
        "y": {
         "field": "value",
         "stack": "zero",
         "title": "CO2",
         "type": "quantitative"
        }
       },
       "legend": "sNames",
       "mark": "area"
      },
      "image/png": "[encoded data removed]",
      "image/svg+xml": [
       "<?xml version=\"1.0\" encoding=\"utf-8\"?>\n",
       "<!DOCTYPE svg PUBLIC \"-//W3C//DTD SVG 1.1//EN\" \"http://www.w3.org/Graphics/SVG/1.1/DTD/svg11.dtd\">\n",
       "<svg xmlns=\"http://www.w3.org/2000/svg\" xmlns:xlink=\"http://www.w3.org/1999/xlink\" version=\"1.1\" class=\"marks\" width=\"1137\" height=\"261\" viewBox=\"0 0 1137 261\"><rect width=\"1137\" height=\"261\" fill=\"white\"/><g fill=\"none\" stroke-miterlimit=\"10\" transform=\"translate(45,10)\"><g class=\"mark-group role-frame root\" role=\"graphics-object\" aria-roledescription=\"group mark container\"><g transform=\"translate(0,0)\"><path class=\"background\" aria-hidden=\"true\" d=\"M0.5,0.5h1020v200h-1020Z\" stroke=\"#ddd\"/><g><g class=\"mark-group role-axis\" aria-hidden=\"true\"><g transform=\"translate(0.5,0.5)\"><path class=\"background\" aria-hidden=\"true\" d=\"M0,0h0v0h0Z\" pointer-events=\"none\"/><g><g class=\"mark-rule role-axis-grid\" pointer-events=\"none\"><line transform=\"translate(0,200)\" x2=\"1020\" y2=\"0\" stroke=\"#ddd\" stroke-width=\"1\" opacity=\"1\"/><line transform=\"translate(0,160)\" x2=\"1020\" y2=\"0\" stroke=\"#ddd\" stroke-width=\"1\" opacity=\"1\"/><line transform=\"translate(0,120)\" x2=\"1020\" y2=\"0\" stroke=\"#ddd\" stroke-width=\"1\" opacity=\"1\"/><line transform=\"translate(0,80)\" x2=\"1020\" y2=\"0\" stroke=\"#ddd\" stroke-width=\"1\" opacity=\"1\"/><line transform=\"translate(0,40)\" x2=\"1020\" y2=\"0\" stroke=\"#ddd\" stroke-width=\"1\" opacity=\"1\"/><line transform=\"translate(0,0)\" x2=\"1020\" y2=\"0\" stroke=\"#ddd\" stroke-width=\"1\" opacity=\"1\"/></g></g><path class=\"foreground\" aria-hidden=\"true\" d=\"\" pointer-events=\"none\" display=\"none\"/></g></g><g class=\"mark-group role-axis\" role=\"graphics-symbol\" aria-roledescription=\"axis\" aria-label=\"X-axis titled 'year' for a discrete scale with 51 values: 2020, 2021, 2022, 2023, 2024, ending with 2070\"><g transform=\"translate(0.5,200.5)\"><path class=\"background\" aria-hidden=\"true\" d=\"M0,0h0v0h0Z\" pointer-events=\"none\"/><g><g class=\"mark-rule role-axis-tick\" pointer-events=\"none\"><line transform=\"translate(10,0)\" x2=\"0\" y2=\"5\" stroke=\"#888\" stroke-width=\"1\" opacity=\"1\"/><line transform=\"translate(30,0)\" x2=\"0\" y2=\"5\" stroke=\"#888\" stroke-width=\"1\" opacity=\"1\"/><line transform=\"translate(50,0)\" x2=\"0\" y2=\"5\" stroke=\"#888\" stroke-width=\"1\" opacity=\"1\"/><line transform=\"translate(70,0)\" x2=\"0\" y2=\"5\" stroke=\"#888\" stroke-width=\"1\" opacity=\"1\"/><line transform=\"translate(90,0)\" x2=\"0\" y2=\"5\" stroke=\"#888\" stroke-width=\"1\" opacity=\"1\"/><line transform=\"translate(110,0)\" x2=\"0\" y2=\"5\" stroke=\"#888\" stroke-width=\"1\" opacity=\"1\"/><line transform=\"translate(130,0)\" x2=\"0\" y2=\"5\" stroke=\"#888\" stroke-width=\"1\" opacity=\"1\"/><line transform=\"translate(150,0)\" x2=\"0\" y2=\"5\" stroke=\"#888\" stroke-width=\"1\" opacity=\"1\"/><line transform=\"translate(170,0)\" x2=\"0\" y2=\"5\" stroke=\"#888\" stroke-width=\"1\" opacity=\"1\"/><line transform=\"translate(190,0)\" x2=\"0\" y2=\"5\" stroke=\"#888\" stroke-width=\"1\" opacity=\"1\"/><line transform=\"translate(210,0)\" x2=\"0\" y2=\"5\" stroke=\"#888\" stroke-width=\"1\" opacity=\"1\"/><line transform=\"translate(230,0)\" x2=\"0\" y2=\"5\" stroke=\"#888\" stroke-width=\"1\" opacity=\"1\"/><line transform=\"translate(250,0)\" x2=\"0\" y2=\"5\" stroke=\"#888\" stroke-width=\"1\" opacity=\"1\"/><line transform=\"translate(270,0)\" x2=\"0\" y2=\"5\" stroke=\"#888\" stroke-width=\"1\" opacity=\"1\"/><line transform=\"translate(290,0)\" x2=\"0\" y2=\"5\" stroke=\"#888\" stroke-width=\"1\" opacity=\"1\"/><line transform=\"translate(310,0)\" x2=\"0\" y2=\"5\" stroke=\"#888\" stroke-width=\"1\" opacity=\"1\"/><line transform=\"translate(330,0)\" x2=\"0\" y2=\"5\" stroke=\"#888\" stroke-width=\"1\" opacity=\"1\"/><line transform=\"translate(350,0)\" x2=\"0\" y2=\"5\" stroke=\"#888\" stroke-width=\"1\" opacity=\"1\"/><line transform=\"translate(370,0)\" x2=\"0\" y2=\"5\" stroke=\"#888\" stroke-width=\"1\" opacity=\"1\"/><line transform=\"translate(390,0)\" x2=\"0\" y2=\"5\" stroke=\"#888\" stroke-width=\"1\" opacity=\"1\"/><line transform=\"translate(410,0)\" x2=\"0\" y2=\"5\" stroke=\"#888\" stroke-width=\"1\" opacity=\"1\"/><line transform=\"translate(430,0)\" x2=\"0\" y2=\"5\" stroke=\"#888\" stroke-width=\"1\" opacity=\"1\"/><line transform=\"translate(450,0)\" x2=\"0\" y2=\"5\" stroke=\"#888\" stroke-width=\"1\" opacity=\"1\"/><line transform=\"translate(470,0)\" x2=\"0\" y2=\"5\" stroke=\"#888\" stroke-width=\"1\" opacity=\"1\"/><line transform=\"translate(490,0)\" x2=\"0\" y2=\"5\" stroke=\"#888\" stroke-width=\"1\" opacity=\"1\"/><line transform=\"translate(510,0)\" x2=\"0\" y2=\"5\" stroke=\"#888\" stroke-width=\"1\" opacity=\"1\"/><line transform=\"translate(530,0)\" x2=\"0\" y2=\"5\" stroke=\"#888\" stroke-width=\"1\" opacity=\"1\"/><line transform=\"translate(550,0)\" x2=\"0\" y2=\"5\" stroke=\"#888\" stroke-width=\"1\" opacity=\"1\"/><line transform=\"translate(570,0)\" x2=\"0\" y2=\"5\" stroke=\"#888\" stroke-width=\"1\" opacity=\"1\"/><line transform=\"translate(590,0)\" x2=\"0\" y2=\"5\" stroke=\"#888\" stroke-width=\"1\" opacity=\"1\"/><line transform=\"translate(610,0)\" x2=\"0\" y2=\"5\" stroke=\"#888\" stroke-width=\"1\" opacity=\"1\"/><line transform=\"translate(630,0)\" x2=\"0\" y2=\"5\" stroke=\"#888\" stroke-width=\"1\" opacity=\"1\"/><line transform=\"translate(650,0)\" x2=\"0\" y2=\"5\" stroke=\"#888\" stroke-width=\"1\" opacity=\"1\"/><line transform=\"translate(670,0)\" x2=\"0\" y2=\"5\" stroke=\"#888\" stroke-width=\"1\" opacity=\"1\"/><line transform=\"translate(690,0)\" x2=\"0\" y2=\"5\" stroke=\"#888\" stroke-width=\"1\" opacity=\"1\"/><line transform=\"translate(710,0)\" x2=\"0\" y2=\"5\" stroke=\"#888\" stroke-width=\"1\" opacity=\"1\"/><line transform=\"translate(730,0)\" x2=\"0\" y2=\"5\" stroke=\"#888\" stroke-width=\"1\" opacity=\"1\"/><line transform=\"translate(750,0)\" x2=\"0\" y2=\"5\" stroke=\"#888\" stroke-width=\"1\" opacity=\"1\"/><line transform=\"translate(770,0)\" x2=\"0\" y2=\"5\" stroke=\"#888\" stroke-width=\"1\" opacity=\"1\"/><line transform=\"translate(790,0)\" x2=\"0\" y2=\"5\" stroke=\"#888\" stroke-width=\"1\" opacity=\"1\"/><line transform=\"translate(810,0)\" x2=\"0\" y2=\"5\" stroke=\"#888\" stroke-width=\"1\" opacity=\"1\"/><line transform=\"translate(830,0)\" x2=\"0\" y2=\"5\" stroke=\"#888\" stroke-width=\"1\" opacity=\"1\"/><line transform=\"translate(850,0)\" x2=\"0\" y2=\"5\" stroke=\"#888\" stroke-width=\"1\" opacity=\"1\"/><line transform=\"translate(870,0)\" x2=\"0\" y2=\"5\" stroke=\"#888\" stroke-width=\"1\" opacity=\"1\"/><line transform=\"translate(890,0)\" x2=\"0\" y2=\"5\" stroke=\"#888\" stroke-width=\"1\" opacity=\"1\"/><line transform=\"translate(910,0)\" x2=\"0\" y2=\"5\" stroke=\"#888\" stroke-width=\"1\" opacity=\"1\"/><line transform=\"translate(930,0)\" x2=\"0\" y2=\"5\" stroke=\"#888\" stroke-width=\"1\" opacity=\"1\"/><line transform=\"translate(950,0)\" x2=\"0\" y2=\"5\" stroke=\"#888\" stroke-width=\"1\" opacity=\"1\"/><line transform=\"translate(970,0)\" x2=\"0\" y2=\"5\" stroke=\"#888\" stroke-width=\"1\" opacity=\"1\"/><line transform=\"translate(990,0)\" x2=\"0\" y2=\"5\" stroke=\"#888\" stroke-width=\"1\" opacity=\"1\"/><line transform=\"translate(1010,0)\" x2=\"0\" y2=\"5\" stroke=\"#888\" stroke-width=\"1\" opacity=\"1\"/></g><g class=\"mark-text role-axis-label\" pointer-events=\"none\"><text text-anchor=\"end\" transform=\"translate(10,7) rotate(270) translate(0,3)\" font-family=\"sans-serif\" font-size=\"10px\" fill=\"#000\" opacity=\"1\">2020</text><text text-anchor=\"end\" transform=\"translate(30,7) rotate(270) translate(0,3)\" font-family=\"sans-serif\" font-size=\"10px\" fill=\"#000\" opacity=\"1\">2021</text><text text-anchor=\"end\" transform=\"translate(50,7) rotate(270) translate(0,3)\" font-family=\"sans-serif\" font-size=\"10px\" fill=\"#000\" opacity=\"1\">2022</text><text text-anchor=\"end\" transform=\"translate(70,7) rotate(270) translate(0,3)\" font-family=\"sans-serif\" font-size=\"10px\" fill=\"#000\" opacity=\"1\">2023</text><text text-anchor=\"end\" transform=\"translate(90,7) rotate(270) translate(0,3)\" font-family=\"sans-serif\" font-size=\"10px\" fill=\"#000\" opacity=\"1\">2024</text><text text-anchor=\"end\" transform=\"translate(110,7) rotate(270) translate(0,3)\" font-family=\"sans-serif\" font-size=\"10px\" fill=\"#000\" opacity=\"1\">2025</text><text text-anchor=\"end\" transform=\"translate(130,7) rotate(270) translate(0,3)\" font-family=\"sans-serif\" font-size=\"10px\" fill=\"#000\" opacity=\"1\">2026</text><text text-anchor=\"end\" transform=\"translate(150,7) rotate(270) translate(0,3)\" font-family=\"sans-serif\" font-size=\"10px\" fill=\"#000\" opacity=\"1\">2027</text><text text-anchor=\"end\" transform=\"translate(170,7) rotate(270) translate(0,3)\" font-family=\"sans-serif\" font-size=\"10px\" fill=\"#000\" opacity=\"1\">2028</text><text text-anchor=\"end\" transform=\"translate(190,7) rotate(270) translate(0,3)\" font-family=\"sans-serif\" font-size=\"10px\" fill=\"#000\" opacity=\"1\">2029</text><text text-anchor=\"end\" transform=\"translate(210,7) rotate(270) translate(0,3)\" font-family=\"sans-serif\" font-size=\"10px\" fill=\"#000\" opacity=\"1\">2030</text><text text-anchor=\"end\" transform=\"translate(230,7) rotate(270) translate(0,3)\" font-family=\"sans-serif\" font-size=\"10px\" fill=\"#000\" opacity=\"1\">2031</text><text text-anchor=\"end\" transform=\"translate(250,7) rotate(270) translate(0,3)\" font-family=\"sans-serif\" font-size=\"10px\" fill=\"#000\" opacity=\"1\">2032</text><text text-anchor=\"end\" transform=\"translate(270,7) rotate(270) translate(0,3)\" font-family=\"sans-serif\" font-size=\"10px\" fill=\"#000\" opacity=\"1\">2033</text><text text-anchor=\"end\" transform=\"translate(290,7) rotate(270) translate(0,3)\" font-family=\"sans-serif\" font-size=\"10px\" fill=\"#000\" opacity=\"1\">2034</text><text text-anchor=\"end\" transform=\"translate(310,7) rotate(270) translate(0,3)\" font-family=\"sans-serif\" font-size=\"10px\" fill=\"#000\" opacity=\"1\">2035</text><text text-anchor=\"end\" transform=\"translate(330,7) rotate(270) translate(0,3)\" font-family=\"sans-serif\" font-size=\"10px\" fill=\"#000\" opacity=\"1\">2036</text><text text-anchor=\"end\" transform=\"translate(350,7) rotate(270) translate(0,3)\" font-family=\"sans-serif\" font-size=\"10px\" fill=\"#000\" opacity=\"1\">2037</text><text text-anchor=\"end\" transform=\"translate(370,7) rotate(270) translate(0,3)\" font-family=\"sans-serif\" font-size=\"10px\" fill=\"#000\" opacity=\"1\">2038</text><text text-anchor=\"end\" transform=\"translate(390,7) rotate(270) translate(0,3)\" font-family=\"sans-serif\" font-size=\"10px\" fill=\"#000\" opacity=\"1\">2039</text><text text-anchor=\"end\" transform=\"translate(410,7) rotate(270) translate(0,3)\" font-family=\"sans-serif\" font-size=\"10px\" fill=\"#000\" opacity=\"1\">2040</text><text text-anchor=\"end\" transform=\"translate(430,7) rotate(270) translate(0,3)\" font-family=\"sans-serif\" font-size=\"10px\" fill=\"#000\" opacity=\"1\">2041</text><text text-anchor=\"end\" transform=\"translate(450,7) rotate(270) translate(0,3)\" font-family=\"sans-serif\" font-size=\"10px\" fill=\"#000\" opacity=\"1\">2042</text><text text-anchor=\"end\" transform=\"translate(470,7) rotate(270) translate(0,3)\" font-family=\"sans-serif\" font-size=\"10px\" fill=\"#000\" opacity=\"1\">2043</text><text text-anchor=\"end\" transform=\"translate(490,7) rotate(270) translate(0,3)\" font-family=\"sans-serif\" font-size=\"10px\" fill=\"#000\" opacity=\"1\">2044</text><text text-anchor=\"end\" transform=\"translate(510,7) rotate(270) translate(0,3)\" font-family=\"sans-serif\" font-size=\"10px\" fill=\"#000\" opacity=\"1\">2045</text><text text-anchor=\"end\" transform=\"translate(530,7) rotate(270) translate(0,3)\" font-family=\"sans-serif\" font-size=\"10px\" fill=\"#000\" opacity=\"1\">2046</text><text text-anchor=\"end\" transform=\"translate(550,7) rotate(270) translate(0,3)\" font-family=\"sans-serif\" font-size=\"10px\" fill=\"#000\" opacity=\"1\">2047</text><text text-anchor=\"end\" transform=\"translate(570,7) rotate(270) translate(0,3)\" font-family=\"sans-serif\" font-size=\"10px\" fill=\"#000\" opacity=\"1\">2048</text><text text-anchor=\"end\" transform=\"translate(590,7) rotate(270) translate(0,3)\" font-family=\"sans-serif\" font-size=\"10px\" fill=\"#000\" opacity=\"1\">2049</text><text text-anchor=\"end\" transform=\"translate(610,7) rotate(270) translate(0,3)\" font-family=\"sans-serif\" font-size=\"10px\" fill=\"#000\" opacity=\"1\">2050</text><text text-anchor=\"end\" transform=\"translate(630,7) rotate(270) translate(0,3)\" font-family=\"sans-serif\" font-size=\"10px\" fill=\"#000\" opacity=\"1\">2051</text><text text-anchor=\"end\" transform=\"translate(650,7) rotate(270) translate(0,3)\" font-family=\"sans-serif\" font-size=\"10px\" fill=\"#000\" opacity=\"1\">2052</text><text text-anchor=\"end\" transform=\"translate(670,7) rotate(270) translate(0,3)\" font-family=\"sans-serif\" font-size=\"10px\" fill=\"#000\" opacity=\"1\">2053</text><text text-anchor=\"end\" transform=\"translate(690,7) rotate(270) translate(0,3)\" font-family=\"sans-serif\" font-size=\"10px\" fill=\"#000\" opacity=\"1\">2054</text><text text-anchor=\"end\" transform=\"translate(710,7) rotate(270) translate(0,3)\" font-family=\"sans-serif\" font-size=\"10px\" fill=\"#000\" opacity=\"1\">2055</text><text text-anchor=\"end\" transform=\"translate(730,7) rotate(270) translate(0,3)\" font-family=\"sans-serif\" font-size=\"10px\" fill=\"#000\" opacity=\"1\">2056</text><text text-anchor=\"end\" transform=\"translate(750,7) rotate(270) translate(0,3)\" font-family=\"sans-serif\" font-size=\"10px\" fill=\"#000\" opacity=\"1\">2057</text><text text-anchor=\"end\" transform=\"translate(770,7) rotate(270) translate(0,3)\" font-family=\"sans-serif\" font-size=\"10px\" fill=\"#000\" opacity=\"1\">2058</text><text text-anchor=\"end\" transform=\"translate(790,7) rotate(270) translate(0,3)\" font-family=\"sans-serif\" font-size=\"10px\" fill=\"#000\" opacity=\"1\">2059</text><text text-anchor=\"end\" transform=\"translate(810,7) rotate(270) translate(0,3)\" font-family=\"sans-serif\" font-size=\"10px\" fill=\"#000\" opacity=\"1\">2060</text><text text-anchor=\"end\" transform=\"translate(830,7) rotate(270) translate(0,3)\" font-family=\"sans-serif\" font-size=\"10px\" fill=\"#000\" opacity=\"1\">2061</text><text text-anchor=\"end\" transform=\"translate(850,7) rotate(270) translate(0,3)\" font-family=\"sans-serif\" font-size=\"10px\" fill=\"#000\" opacity=\"1\">2062</text><text text-anchor=\"end\" transform=\"translate(870,7) rotate(270) translate(0,3)\" font-family=\"sans-serif\" font-size=\"10px\" fill=\"#000\" opacity=\"1\">2063</text><text text-anchor=\"end\" transform=\"translate(890,7) rotate(270) translate(0,3)\" font-family=\"sans-serif\" font-size=\"10px\" fill=\"#000\" opacity=\"1\">2064</text><text text-anchor=\"end\" transform=\"translate(910,7) rotate(270) translate(0,3)\" font-family=\"sans-serif\" font-size=\"10px\" fill=\"#000\" opacity=\"1\">2065</text><text text-anchor=\"end\" transform=\"translate(930,7) rotate(270) translate(0,3)\" font-family=\"sans-serif\" font-size=\"10px\" fill=\"#000\" opacity=\"1\">2066</text><text text-anchor=\"end\" transform=\"translate(950,7) rotate(270) translate(0,3)\" font-family=\"sans-serif\" font-size=\"10px\" fill=\"#000\" opacity=\"1\">2067</text><text text-anchor=\"end\" transform=\"translate(970,7) rotate(270) translate(0,3)\" font-family=\"sans-serif\" font-size=\"10px\" fill=\"#000\" opacity=\"1\">2068</text><text text-anchor=\"end\" transform=\"translate(990,7) rotate(270) translate(0,3)\" font-family=\"sans-serif\" font-size=\"10px\" fill=\"#000\" opacity=\"1\">2069</text><text text-anchor=\"end\" transform=\"translate(1010,7) rotate(270) translate(0,3)\" font-family=\"sans-serif\" font-size=\"10px\" fill=\"#000\" opacity=\"1\">2070</text></g><g class=\"mark-rule role-axis-domain\" pointer-events=\"none\"><line transform=\"translate(0,0)\" x2=\"1020\" y2=\"0\" stroke=\"#888\" stroke-width=\"1\" opacity=\"1\"/></g><g class=\"mark-text role-axis-title\" pointer-events=\"none\"><text text-anchor=\"middle\" transform=\"translate(510,44)\" font-family=\"sans-serif\" font-size=\"11px\" font-weight=\"bold\" fill=\"#000\" opacity=\"1\">year</text></g></g><path class=\"foreground\" aria-hidden=\"true\" d=\"\" pointer-events=\"none\" display=\"none\"/></g></g><g class=\"mark-group role-axis\" role=\"graphics-symbol\" aria-roledescription=\"axis\" aria-label=\"Y-axis titled 'CO2' for a linear scale with values from 0 to 100\"><g transform=\"translate(0.5,0.5)\"><path class=\"background\" aria-hidden=\"true\" d=\"M0,0h0v0h0Z\" pointer-events=\"none\"/><g><g class=\"mark-rule role-axis-tick\" pointer-events=\"none\"><line transform=\"translate(0,200)\" x2=\"-5\" y2=\"0\" stroke=\"#888\" stroke-width=\"1\" opacity=\"1\"/><line transform=\"translate(0,160)\" x2=\"-5\" y2=\"0\" stroke=\"#888\" stroke-width=\"1\" opacity=\"1\"/><line transform=\"translate(0,120)\" x2=\"-5\" y2=\"0\" stroke=\"#888\" stroke-width=\"1\" opacity=\"1\"/><line transform=\"translate(0,80)\" x2=\"-5\" y2=\"0\" stroke=\"#888\" stroke-width=\"1\" opacity=\"1\"/><line transform=\"translate(0,40)\" x2=\"-5\" y2=\"0\" stroke=\"#888\" stroke-width=\"1\" opacity=\"1\"/><line transform=\"translate(0,0)\" x2=\"-5\" y2=\"0\" stroke=\"#888\" stroke-width=\"1\" opacity=\"1\"/></g><g class=\"mark-text role-axis-label\" pointer-events=\"none\"><text text-anchor=\"end\" transform=\"translate(-7,203)\" font-family=\"sans-serif\" font-size=\"10px\" fill=\"#000\" opacity=\"1\">0</text><text text-anchor=\"end\" transform=\"translate(-7,163)\" font-family=\"sans-serif\" font-size=\"10px\" fill=\"#000\" opacity=\"1\">20</text><text text-anchor=\"end\" transform=\"translate(-7,123)\" font-family=\"sans-serif\" font-size=\"10px\" fill=\"#000\" opacity=\"1\">40</text><text text-anchor=\"end\" transform=\"translate(-7,83)\" font-family=\"sans-serif\" font-size=\"10px\" fill=\"#000\" opacity=\"1\">60</text><text text-anchor=\"end\" transform=\"translate(-7,42.99999999999999)\" font-family=\"sans-serif\" font-size=\"10px\" fill=\"#000\" opacity=\"1\">80</text><text text-anchor=\"end\" transform=\"translate(-7,3)\" font-family=\"sans-serif\" font-size=\"10px\" fill=\"#000\" opacity=\"1\">100</text></g><g class=\"mark-rule role-axis-domain\" pointer-events=\"none\"><line transform=\"translate(0,200)\" x2=\"0\" y2=\"-200\" stroke=\"#888\" stroke-width=\"1\" opacity=\"1\"/></g><g class=\"mark-text role-axis-title\" pointer-events=\"none\"><text text-anchor=\"middle\" transform=\"translate(-29,100) rotate(-90) translate(0,-2)\" font-family=\"sans-serif\" font-size=\"11px\" font-weight=\"bold\" fill=\"#000\" opacity=\"1\">CO2</text></g></g><path class=\"foreground\" aria-hidden=\"true\" d=\"\" pointer-events=\"none\" display=\"none\"/></g></g><g class=\"mark-group role-scope pathgroup\" role=\"graphics-object\" aria-roledescription=\"group mark container\"><g transform=\"translate(0,0)\"><path class=\"background\" aria-hidden=\"true\" d=\"M0,0h1020v200h-1020Z\"/><g><g class=\"mark-area role-mark marks\" role=\"graphics-object\" aria-roledescription=\"area mark container\"><path aria-label=\"year: 2020; CO2: 100; variable: conv\" role=\"graphics-symbol\" aria-roledescription=\"area mark\" d=\"M10,0L30,54.54545454545461L50,54.54545454545461L70,54.54545454545461L90,54.54545454545461L110,54.54545454545461L130,115.0909090909091L150,115.0909090909091L170,115.0909090909091L190,115.0909090909091L210,115.0909090909091L230,115.0909090909091L250,115.0909090909091L270,115.0909090909091L290,115.0909090909091L310,115.0909090909091L330,115.0909090909091L350,115.0909090909091L370,115.0909090909091L390,115.0909090909091L410,115.0909090909091L430,115.0909090909091L450,115.0909090909091L470,115.0909090909091L490,115.0909090909091L510,115.0909090909091L530,115.0909090909091L550,115.0909090909091L570,115.0909090909091L590,115.0909090909091L610,115.0909090909091L630,115.0909090909091L650,115.0909090909091L670,115.0909090909091L690,115.0909090909091L710,115.0909090909091L730,115.0909090909091L750,115.0909090909091L770,115.0909090909091L790,115.0909090909091L810,115.0909090909091L830,115.0909090909091L850,115.0909090909091L870,115.0909090909091L890,115.0909090909091L910,115.0909090909091L930,115.0909090909091L950,115.0909090909091L970,115.0909090909091L990,115.0909090909091L1010,115.0909090909091L1010,115.0909090909091L990,115.0909090909091L970,115.0909090909091L950,115.0909090909091L930,115.0909090909091L910,115.0909090909091L890,115.0909090909091L870,115.0909090909091L850,115.0909090909091L830,115.0909090909091L810,115.0909090909091L790,115.0909090909091L770,115.0909090909091L750,115.0909090909091L730,115.0909090909091L710,115.0909090909091L690,115.0909090909091L670,115.0909090909091L650,115.0909090909091L630,115.0909090909091L610,115.0909090909091L590,115.0909090909091L570,115.0909090909091L550,115.0909090909091L530,115.0909090909091L510,115.0909090909091L490,115.0909090909091L470,115.0909090909091L450,115.0909090909091L430,115.0909090909091L410,115.0909090909091L390,115.0909090909091L370,115.0909090909091L350,115.0909090909091L330,115.0909090909091L310,115.0909090909091L290,115.0909090909091L270,115.0909090909091L250,115.0909090909091L230,115.0909090909091L210,115.0909090909091L190,115.0909090909091L170,115.0909090909091L150,115.0909090909091L130,115.0909090909091L110,163.6363636363636L90,163.6363636363636L70,163.6363636363636L50,163.6363636363636L30,163.6363636363636L10,200Z\" fill=\"#4c78a8\"/></g></g><path class=\"foreground\" aria-hidden=\"true\" d=\"\" display=\"none\"/></g><g transform=\"translate(0,0)\"><path class=\"background\" aria-hidden=\"true\" d=\"M0,0h1020v200h-1020Z\"/><g><g class=\"mark-area role-mark marks\" role=\"graphics-object\" aria-roledescription=\"area mark container\"><path aria-label=\"year: 2020; CO2: 0; variable: inn1\" role=\"graphics-symbol\" aria-roledescription=\"area mark\" d=\"M10,200L30,163.6363636363636L50,163.6363636363636L70,163.6363636363636L90,163.6363636363636L110,163.6363636363636L130,115.0909090909091L150,115.0909090909091L170,115.0909090909091L190,115.0909090909091L210,115.0909090909091L230,115.0909090909091L250,115.0909090909091L270,115.0909090909091L290,115.0909090909091L310,115.0909090909091L330,115.0909090909091L350,115.0909090909091L370,115.0909090909091L390,115.0909090909091L410,115.0909090909091L430,115.0909090909091L450,115.0909090909091L470,115.0909090909091L490,115.0909090909091L510,115.0909090909091L530,115.0909090909091L550,115.0909090909091L570,115.0909090909091L590,115.0909090909091L610,115.0909090909091L630,115.0909090909091L650,115.0909090909091L670,115.0909090909091L690,115.0909090909091L710,115.0909090909091L730,115.0909090909091L750,115.0909090909091L770,115.0909090909091L790,115.0909090909091L810,115.0909090909091L830,115.0909090909091L850,115.0909090909091L870,115.0909090909091L890,115.0909090909091L910,115.0909090909091L930,115.0909090909091L950,115.0909090909091L970,115.0909090909091L990,115.0909090909091L1010,115.0909090909091L1010,115.0909090909091L990,115.0909090909091L970,115.0909090909091L950,115.0909090909091L930,115.0909090909091L910,115.0909090909091L890,115.0909090909091L870,115.0909090909091L850,115.0909090909091L830,115.0909090909091L810,115.0909090909091L790,115.0909090909091L770,115.0909090909091L750,115.0909090909091L730,115.0909090909091L710,115.0909090909091L690,115.0909090909091L670,115.0909090909091L650,115.0909090909091L630,115.0909090909091L610,115.0909090909091L590,115.0909090909091L570,115.0909090909091L550,115.0909090909091L530,115.0909090909091L510,115.0909090909091L490,115.0909090909091L470,115.0909090909091L450,115.0909090909091L430,115.0909090909091L410,115.0909090909091L390,115.0909090909091L370,115.0909090909091L350,115.0909090909091L330,115.0909090909091L310,115.0909090909091L290,115.0909090909091L270,115.0909090909091L250,115.0909090909091L230,115.0909090909091L210,115.0909090909091L190,115.0909090909091L170,115.0909090909091L150,115.0909090909091L130,115.0909090909091L110,163.6363636363636L90,163.6363636363636L70,163.6363636363636L50,163.6363636363636L30,163.6363636363636L10,200Z\" fill=\"#f58518\"/></g></g><path class=\"foreground\" aria-hidden=\"true\" d=\"\" display=\"none\"/></g><g transform=\"translate(0,0)\"><path class=\"background\" aria-hidden=\"true\" d=\"M0,0h1020v200h-1020Z\"/><g><g class=\"mark-area role-mark marks\" role=\"graphics-object\" aria-roledescription=\"area mark container\"><path aria-label=\"year: 2020; CO2: 0; variable: inn2\" role=\"graphics-symbol\" aria-roledescription=\"area mark\" d=\"M10,200L30,163.6363636363636L50,163.6363636363636L70,163.6363636363636L90,163.6363636363636L110,163.6363636363636L130,115.0909090909091L150,115.0909090909091L170,115.0909090909091L190,115.0909090909091L210,115.0909090909091L230,115.0909090909091L250,115.0909090909091L270,115.0909090909091L290,115.0909090909091L310,115.0909090909091L330,115.0909090909091L350,115.0909090909091L370,115.0909090909091L390,115.0909090909091L410,115.0909090909091L430,115.0909090909091L450,115.0909090909091L470,115.0909090909091L490,115.0909090909091L510,115.0909090909091L530,115.0909090909091L550,115.0909090909091L570,115.0909090909091L590,115.0909090909091L610,115.0909090909091L630,115.0909090909091L650,115.0909090909091L670,115.0909090909091L690,115.0909090909091L710,115.0909090909091L730,115.0909090909091L750,115.0909090909091L770,115.0909090909091L790,115.0909090909091L810,115.0909090909091L830,115.0909090909091L850,115.0909090909091L870,115.0909090909091L890,115.0909090909091L910,115.0909090909091L930,115.0909090909091L950,115.0909090909091L970,115.0909090909091L990,115.0909090909091L1010,115.0909090909091L1010,115.0909090909091L990,115.0909090909091L970,115.0909090909091L950,115.0909090909091L930,115.0909090909091L910,115.0909090909091L890,115.0909090909091L870,115.0909090909091L850,115.0909090909091L830,115.0909090909091L810,115.0909090909091L790,115.0909090909091L770,115.0909090909091L750,115.0909090909091L730,115.0909090909091L710,115.0909090909091L690,115.0909090909091L670,115.0909090909091L650,115.0909090909091L630,115.0909090909091L610,115.0909090909091L590,115.0909090909091L570,115.0909090909091L550,115.0909090909091L530,115.0909090909091L510,115.0909090909091L490,115.0909090909091L470,115.0909090909091L450,115.0909090909091L430,115.0909090909091L410,115.0909090909091L390,115.0909090909091L370,115.0909090909091L350,115.0909090909091L330,115.0909090909091L310,115.0909090909091L290,115.0909090909091L270,115.0909090909091L250,115.0909090909091L230,115.0909090909091L210,115.0909090909091L190,115.0909090909091L170,115.0909090909091L150,115.0909090909091L130,115.0909090909091L110,163.6363636363636L90,163.6363636363636L70,163.6363636363636L50,163.6363636363636L30,163.6363636363636L10,200Z\" fill=\"#e45756\"/></g></g><path class=\"foreground\" aria-hidden=\"true\" d=\"\" display=\"none\"/></g><g transform=\"translate(0,0)\"><path class=\"background\" aria-hidden=\"true\" d=\"M0,0h1020v200h-1020Z\"/><g><g class=\"mark-area role-mark marks\" role=\"graphics-object\" aria-roledescription=\"area mark container\"><path aria-label=\"year: 2020; CO2: 0; variable: inn3\" role=\"graphics-symbol\" aria-roledescription=\"area mark\" d=\"M10,200L30,163.6363636363636L50,163.6363636363636L70,163.6363636363636L90,163.6363636363636L110,163.6363636363636L130,115.0909090909091L150,115.0909090909091L170,115.0909090909091L190,115.0909090909091L210,115.0909090909091L230,115.0909090909091L250,115.0909090909091L270,115.0909090909091L290,115.0909090909091L310,115.0909090909091L330,115.0909090909091L350,115.0909090909091L370,115.0909090909091L390,115.0909090909091L410,115.0909090909091L430,115.0909090909091L450,115.0909090909091L470,115.0909090909091L490,115.0909090909091L510,115.0909090909091L530,115.0909090909091L550,115.0909090909091L570,115.0909090909091L590,115.0909090909091L610,115.0909090909091L630,115.0909090909091L650,115.0909090909091L670,115.0909090909091L690,115.0909090909091L710,115.0909090909091L730,115.0909090909091L750,115.0909090909091L770,115.0909090909091L790,115.0909090909091L810,115.0909090909091L830,115.0909090909091L850,115.0909090909091L870,115.0909090909091L890,115.0909090909091L910,115.0909090909091L930,115.0909090909091L950,115.0909090909091L970,115.0909090909091L990,115.0909090909091L1010,115.0909090909091L1010,163.6363636363636L990,163.6363636363636L970,163.6363636363636L950,163.6363636363636L930,163.6363636363636L910,163.6363636363636L890,163.6363636363636L870,163.6363636363636L850,163.6363636363636L830,163.6363636363636L810,163.6363636363636L790,163.6363636363636L770,163.6363636363636L750,163.6363636363636L730,163.6363636363636L710,163.6363636363636L690,163.6363636363636L670,163.6363636363636L650,163.6363636363636L630,163.6363636363636L610,163.6363636363636L590,163.6363636363636L570,163.6363636363636L550,163.6363636363636L530,163.6363636363636L510,163.6363636363636L490,163.6363636363636L470,163.6363636363636L450,163.6363636363636L430,163.6363636363636L410,163.6363636363636L390,163.6363636363636L370,163.6363636363636L350,163.6363636363636L330,163.6363636363636L310,163.6363636363636L290,163.6363636363636L270,163.6363636363636L250,163.6363636363636L230,163.6363636363636L210,163.6363636363636L190,163.6363636363636L170,163.6363636363636L150,163.6363636363636L130,163.6363636363636L110,163.6363636363636L90,163.6363636363636L70,163.6363636363636L50,163.6363636363636L30,163.6363636363636L10,200Z\" fill=\"#72b7b2\"/></g></g><path class=\"foreground\" aria-hidden=\"true\" d=\"\" display=\"none\"/></g><g transform=\"translate(0,0)\"><path class=\"background\" aria-hidden=\"true\" d=\"M0,0h1020v200h-1020Z\"/><g><g class=\"mark-area role-mark marks\" role=\"graphics-object\" aria-roledescription=\"area mark container\"><path aria-label=\"year: 2020; CO2: 0; variable: inn4\" role=\"graphics-symbol\" aria-roledescription=\"area mark\" d=\"M10,200L30,163.6363636363636L50,163.6363636363636L70,163.6363636363636L90,163.6363636363636L110,163.6363636363636L130,163.6363636363636L150,163.6363636363636L170,163.6363636363636L190,163.6363636363636L210,163.6363636363636L230,163.6363636363636L250,163.6363636363636L270,163.6363636363636L290,163.6363636363636L310,163.6363636363636L330,163.6363636363636L350,163.6363636363636L370,163.6363636363636L390,163.6363636363636L410,163.6363636363636L430,163.6363636363636L450,163.6363636363636L470,163.6363636363636L490,163.6363636363636L510,163.6363636363636L530,163.6363636363636L550,163.6363636363636L570,163.6363636363636L590,163.6363636363636L610,163.6363636363636L630,163.6363636363636L650,163.6363636363636L670,163.6363636363636L690,163.6363636363636L710,163.6363636363636L730,163.6363636363636L750,163.6363636363636L770,163.6363636363636L790,163.6363636363636L810,163.6363636363636L830,163.6363636363636L850,163.6363636363636L870,163.6363636363636L890,163.6363636363636L910,163.6363636363636L930,163.6363636363636L950,163.6363636363636L970,163.6363636363636L990,163.6363636363636L1010,163.6363636363636L1010,200L990,200L970,200L950,200L930,200L910,200L890,200L870,200L850,200L830,200L810,200L790,200L770,200L750,200L730,200L710,200L690,200L670,200L650,200L630,200L610,200L590,200L570,200L550,200L530,200L510,200L490,200L470,200L450,200L430,200L410,200L390,200L370,200L350,200L330,200L310,200L290,200L270,200L250,200L230,200L210,200L190,200L170,200L150,200L130,200L110,200L90,200L70,200L50,200L30,200L10,200Z\" fill=\"#54a24b\"/></g></g><path class=\"foreground\" aria-hidden=\"true\" d=\"\" display=\"none\"/></g><g transform=\"translate(0,0)\"><path class=\"background\" aria-hidden=\"true\" d=\"M0,0h1020v200h-1020Z\"/><g><g class=\"mark-area role-mark marks\" role=\"graphics-object\" aria-roledescription=\"area mark container\"><path aria-label=\"year: 2020; CO2: 0; variable: inn5\" role=\"graphics-symbol\" aria-roledescription=\"area mark\" d=\"M10,200L30,200L50,200L70,200L90,200L110,200L130,200L150,200L170,200L190,200L210,200L230,200L250,200L270,200L290,200L310,200L330,200L350,200L370,200L390,200L410,200L430,200L450,200L470,200L490,200L510,200L530,200L550,200L570,200L590,200L610,200L630,200L650,200L670,200L690,200L710,200L730,200L750,200L770,200L790,200L810,200L830,200L850,200L870,200L890,200L910,200L930,200L950,200L970,200L990,200L1010,200L1010,200L990,200L970,200L950,200L930,200L910,200L890,200L870,200L850,200L830,200L810,200L790,200L770,200L750,200L730,200L710,200L690,200L670,200L650,200L630,200L610,200L590,200L570,200L550,200L530,200L510,200L490,200L470,200L450,200L430,200L410,200L390,200L370,200L350,200L330,200L310,200L290,200L270,200L250,200L230,200L210,200L190,200L170,200L150,200L130,200L110,200L90,200L70,200L50,200L30,200L10,200Z\" fill=\"#eeca3b\"/></g></g><path class=\"foreground\" aria-hidden=\"true\" d=\"\" display=\"none\"/></g></g><g class=\"mark-group role-legend\" role=\"graphics-symbol\" aria-roledescription=\"legend\" aria-label=\"Symbol legend titled 'variable' for fill color with 6 values: conv, inn1, inn2, inn3, inn4, inn5\"><g transform=\"translate(1038,0)\"><path class=\"background\" aria-hidden=\"true\" d=\"M0,0h49v92h-49Z\" pointer-events=\"none\"/><g><g class=\"mark-group role-legend-entry\"><g transform=\"translate(0,16)\"><path class=\"background\" aria-hidden=\"true\" d=\"M0,0h0v0h0Z\" pointer-events=\"none\"/><g><g class=\"mark-group role-scope\" role=\"graphics-object\" aria-roledescription=\"group mark container\"><g transform=\"translate(0,0)\"><path class=\"background\" aria-hidden=\"true\" d=\"M0,0h40v11h-40Z\" pointer-events=\"none\" opacity=\"1\"/><g><g class=\"mark-symbol role-legend-symbol\" pointer-events=\"none\"><path transform=\"translate(6,6)\" d=\"M5,0A5,5,0,1,1,-5,0A5,5,0,1,1,5,0\" fill=\"#4c78a8\" stroke-width=\"1.5\" opacity=\"1\"/></g><g class=\"mark-text role-legend-label\" pointer-events=\"none\"><text text-anchor=\"start\" transform=\"translate(16,9)\" font-family=\"sans-serif\" font-size=\"10px\" fill=\"#000\" opacity=\"1\">conv</text></g></g><path class=\"foreground\" aria-hidden=\"true\" d=\"\" pointer-events=\"none\" display=\"none\"/></g><g transform=\"translate(0,13)\"><path class=\"background\" aria-hidden=\"true\" d=\"M0,0h40v11h-40Z\" pointer-events=\"none\" opacity=\"1\"/><g><g class=\"mark-symbol role-legend-symbol\" pointer-events=\"none\"><path transform=\"translate(6,6)\" d=\"M5,0A5,5,0,1,1,-5,0A5,5,0,1,1,5,0\" fill=\"#f58518\" stroke-width=\"1.5\" opacity=\"1\"/></g><g class=\"mark-text role-legend-label\" pointer-events=\"none\"><text text-anchor=\"start\" transform=\"translate(16,9)\" font-family=\"sans-serif\" font-size=\"10px\" fill=\"#000\" opacity=\"1\">inn1</text></g></g><path class=\"foreground\" aria-hidden=\"true\" d=\"\" pointer-events=\"none\" display=\"none\"/></g><g transform=\"translate(0,26)\"><path class=\"background\" aria-hidden=\"true\" d=\"M0,0h40v11h-40Z\" pointer-events=\"none\" opacity=\"1\"/><g><g class=\"mark-symbol role-legend-symbol\" pointer-events=\"none\"><path transform=\"translate(6,6)\" d=\"M5,0A5,5,0,1,1,-5,0A5,5,0,1,1,5,0\" fill=\"#e45756\" stroke-width=\"1.5\" opacity=\"1\"/></g><g class=\"mark-text role-legend-label\" pointer-events=\"none\"><text text-anchor=\"start\" transform=\"translate(16,9)\" font-family=\"sans-serif\" font-size=\"10px\" fill=\"#000\" opacity=\"1\">inn2</text></g></g><path class=\"foreground\" aria-hidden=\"true\" d=\"\" pointer-events=\"none\" display=\"none\"/></g><g transform=\"translate(0,39)\"><path class=\"background\" aria-hidden=\"true\" d=\"M0,0h40v11h-40Z\" pointer-events=\"none\" opacity=\"1\"/><g><g class=\"mark-symbol role-legend-symbol\" pointer-events=\"none\"><path transform=\"translate(6,6)\" d=\"M5,0A5,5,0,1,1,-5,0A5,5,0,1,1,5,0\" fill=\"#72b7b2\" stroke-width=\"1.5\" opacity=\"1\"/></g><g class=\"mark-text role-legend-label\" pointer-events=\"none\"><text text-anchor=\"start\" transform=\"translate(16,9)\" font-family=\"sans-serif\" font-size=\"10px\" fill=\"#000\" opacity=\"1\">inn3</text></g></g><path class=\"foreground\" aria-hidden=\"true\" d=\"\" pointer-events=\"none\" display=\"none\"/></g><g transform=\"translate(0,52)\"><path class=\"background\" aria-hidden=\"true\" d=\"M0,0h40v11h-40Z\" pointer-events=\"none\" opacity=\"1\"/><g><g class=\"mark-symbol role-legend-symbol\" pointer-events=\"none\"><path transform=\"translate(6,6)\" d=\"M5,0A5,5,0,1,1,-5,0A5,5,0,1,1,5,0\" fill=\"#54a24b\" stroke-width=\"1.5\" opacity=\"1\"/></g><g class=\"mark-text role-legend-label\" pointer-events=\"none\"><text text-anchor=\"start\" transform=\"translate(16,9)\" font-family=\"sans-serif\" font-size=\"10px\" fill=\"#000\" opacity=\"1\">inn4</text></g></g><path class=\"foreground\" aria-hidden=\"true\" d=\"\" pointer-events=\"none\" display=\"none\"/></g><g transform=\"translate(0,65)\"><path class=\"background\" aria-hidden=\"true\" d=\"M0,0h40v11h-40Z\" pointer-events=\"none\" opacity=\"1\"/><g><g class=\"mark-symbol role-legend-symbol\" pointer-events=\"none\"><path transform=\"translate(6,6)\" d=\"M5,0A5,5,0,1,1,-5,0A5,5,0,1,1,5,0\" fill=\"#eeca3b\" stroke-width=\"1.5\" opacity=\"1\"/></g><g class=\"mark-text role-legend-label\" pointer-events=\"none\"><text text-anchor=\"start\" transform=\"translate(16,9)\" font-family=\"sans-serif\" font-size=\"10px\" fill=\"#000\" opacity=\"1\">inn5</text></g></g><path class=\"foreground\" aria-hidden=\"true\" d=\"\" pointer-events=\"none\" display=\"none\"/></g></g></g><path class=\"foreground\" aria-hidden=\"true\" d=\"\" pointer-events=\"none\" display=\"none\"/></g></g><g class=\"mark-text role-legend-title\" pointer-events=\"none\"><text text-anchor=\"start\" transform=\"translate(0,9)\" font-family=\"sans-serif\" font-size=\"11px\" font-weight=\"bold\" fill=\"#000\" opacity=\"1\">variable</text></g></g><path class=\"foreground\" aria-hidden=\"true\" d=\"\" pointer-events=\"none\" display=\"none\"/></g></g></g><path class=\"foreground\" aria-hidden=\"true\" d=\"\" display=\"none\"/></g></g></g></svg>\n"
      ],
      "text/plain": [
       "@vlplot(\n",
       "    legend=\"sNames\",\n",
       "    mark=\"area\",\n",
       "    encoding={\n",
       "        x={\n",
       "            field=\"year\"\n",
       "        },\n",
       "        y={\n",
       "            stack=\"zero\",\n",
       "            title=\"CO2\",\n",
       "            field=\"value\"\n",
       "        },\n",
       "        color={\n",
       "            field=\"variable\",\n",
       "            type=\"nominal\"\n",
       "        }\n",
       "    },\n",
       "    data={\n",
       "        values=...\n",
       "    }\n",
       ")"
      ]
     },
     "execution_count": 18,
     "metadata": {},
     "output_type": "execute_result"
    }
   ],
   "source": [
    "function conventional(t)\n",
    "    return initial[1,3]*(1-sum(JuMP.values.(xk)[k] for k in 1:nrow(compromise) if t>JuMP.values.(tk)[k]))\n",
    "end\n",
    "\n",
    "function innovation(i,t)\n",
    "    if i==1\n",
    "        return sum(JuMP.values.(xk)[k]*(compromise[k,3]) for k=1:mapki[i,2] if t>JuMP.values.(tk)[k])\n",
    "    else\n",
    "        return sum(JuMP.values.(xk)[k]*(compromise[k,3]) for k=mapki[i-1,2]:mapki[i,2] if t>JuMP.values.(tk)[k])\n",
    "    end\n",
    "end\n",
    "\n",
    "conv=zeros(51)\n",
    "\n",
    "conv[1]=initial[1,3]\n",
    "inn_co2=zeros(5,51)\n",
    "\n",
    "for inn in 1:5\n",
    "    inn_co2[inn,1]=0\n",
    "end\n",
    "\n",
    "for i in 2:51\n",
    "    conv[i]=conventional(i)\n",
    "    for inn in 1:5\n",
    "        inn_co2[inn,i]=innovation(inn,i)\n",
    "    end\n",
    "end\n",
    "conv\n",
    "\n",
    "sNames = [\"conv\",\"inn1\",\"inn2\",\"inn3\",\"inn4\",\"inn5\"]\n",
    "xLabels = []\n",
    "for i in 2020:2070\n",
    "    push!(xLabels,string(i))\n",
    "end\n",
    "\n",
    "df = DataFrame(year=xLabels, conv=conv, inn1=inn_co2[1,:],inn2=inn_co2[2,:],inn3=inn_co2[3,:],inn4=inn_co2[4,:],inn5=inn_co2[5,:])\n",
    "\n",
    "df |> stack |> @vlplot(:area, x=:year, y={:value, stack=:zero, title=\"CO2\"}, color=\"variable:n\",legend=:sNames) "
   ]
  },
  {
   "cell_type": "code",
   "execution_count": 17,
   "id": "3645b8d1",
   "metadata": {},
   "outputs": [
    {
     "data": {
      "application/vnd.vegalite.v4+json": {
       "data": {
        "values": [
         {
          "value": 0.12,
          "variable": "conv",
          "year": "2020"
         },
         {
          "value": 0.06545454545454539,
          "variable": "conv",
          "year": "2021"
         },
         {
          "value": 0.06545454545454539,
          "variable": "conv",
          "year": "2022"
         },
         {
          "value": 0.06545454545454539,
          "variable": "conv",
          "year": "2023"
         },
         {
          "value": 0.06545454545454539,
          "variable": "conv",
          "year": "2024"
         },
         {
          "value": 0.06545454545454539,
          "variable": "conv",
          "year": "2025"
         },
         {
          "value": 0,
          "variable": "conv",
          "year": "2026"
         },
         {
          "value": 0,
          "variable": "conv",
          "year": "2027"
         },
         {
          "value": 0,
          "variable": "conv",
          "year": "2028"
         },
         {
          "value": 0,
          "variable": "conv",
          "year": "2029"
         },
         {
          "value": 0,
          "variable": "conv",
          "year": "2030"
         },
         {
          "value": 0,
          "variable": "conv",
          "year": "2031"
         },
         {
          "value": 0,
          "variable": "conv",
          "year": "2032"
         },
         {
          "value": 0,
          "variable": "conv",
          "year": "2033"
         },
         {
          "value": 0,
          "variable": "conv",
          "year": "2034"
         },
         {
          "value": 0,
          "variable": "conv",
          "year": "2035"
         },
         {
          "value": 0,
          "variable": "conv",
          "year": "2036"
         },
         {
          "value": 0,
          "variable": "conv",
          "year": "2037"
         },
         {
          "value": 0,
          "variable": "conv",
          "year": "2038"
         },
         {
          "value": 0,
          "variable": "conv",
          "year": "2039"
         },
         {
          "value": 0,
          "variable": "conv",
          "year": "2040"
         },
         {
          "value": 0,
          "variable": "conv",
          "year": "2041"
         },
         {
          "value": 0,
          "variable": "conv",
          "year": "2042"
         },
         {
          "value": 0,
          "variable": "conv",
          "year": "2043"
         },
         {
          "value": 0,
          "variable": "conv",
          "year": "2044"
         },
         {
          "value": 0,
          "variable": "conv",
          "year": "2045"
         },
         {
          "value": 0,
          "variable": "conv",
          "year": "2046"
         },
         {
          "value": 0,
          "variable": "conv",
          "year": "2047"
         },
         {
          "value": 0,
          "variable": "conv",
          "year": "2048"
         },
         {
          "value": 0,
          "variable": "conv",
          "year": "2049"
         },
         {
          "value": 0,
          "variable": "conv",
          "year": "2050"
         },
         {
          "value": 0,
          "variable": "conv",
          "year": "2051"
         },
         {
          "value": 0,
          "variable": "conv",
          "year": "2052"
         },
         {
          "value": 0,
          "variable": "conv",
          "year": "2053"
         },
         {
          "value": 0,
          "variable": "conv",
          "year": "2054"
         },
         {
          "value": 0,
          "variable": "conv",
          "year": "2055"
         },
         {
          "value": 0,
          "variable": "conv",
          "year": "2056"
         },
         {
          "value": 0,
          "variable": "conv",
          "year": "2057"
         },
         {
          "value": 0,
          "variable": "conv",
          "year": "2058"
         },
         {
          "value": 0,
          "variable": "conv",
          "year": "2059"
         },
         {
          "value": 0,
          "variable": "conv",
          "year": "2060"
         },
         {
          "value": 0,
          "variable": "conv",
          "year": "2061"
         },
         {
          "value": 0,
          "variable": "conv",
          "year": "2062"
         },
         {
          "value": 0,
          "variable": "conv",
          "year": "2063"
         },
         {
          "value": 0,
          "variable": "conv",
          "year": "2064"
         },
         {
          "value": 0,
          "variable": "conv",
          "year": "2065"
         },
         {
          "value": 0,
          "variable": "conv",
          "year": "2066"
         },
         {
          "value": 0,
          "variable": "conv",
          "year": "2067"
         },
         {
          "value": 0,
          "variable": "conv",
          "year": "2068"
         },
         {
          "value": 0,
          "variable": "conv",
          "year": "2069"
         },
         {
          "value": 0,
          "variable": "conv",
          "year": "2070"
         },
         {
          "value": 0,
          "variable": "inn1",
          "year": "2020"
         },
         {
          "value": 0,
          "variable": "inn1",
          "year": "2021"
         },
         {
          "value": 0,
          "variable": "inn1",
          "year": "2022"
         },
         {
          "value": 0,
          "variable": "inn1",
          "year": "2023"
         },
         {
          "value": 0,
          "variable": "inn1",
          "year": "2024"
         },
         {
          "value": 0,
          "variable": "inn1",
          "year": "2025"
         },
         {
          "value": 0,
          "variable": "inn1",
          "year": "2026"
         },
         {
          "value": 0,
          "variable": "inn1",
          "year": "2027"
         },
         {
          "value": 0,
          "variable": "inn1",
          "year": "2028"
         },
         {
          "value": 0,
          "variable": "inn1",
          "year": "2029"
         },
         {
          "value": 0,
          "variable": "inn1",
          "year": "2030"
         },
         {
          "value": 0,
          "variable": "inn1",
          "year": "2031"
         },
         {
          "value": 0,
          "variable": "inn1",
          "year": "2032"
         },
         {
          "value": 0,
          "variable": "inn1",
          "year": "2033"
         },
         {
          "value": 0,
          "variable": "inn1",
          "year": "2034"
         },
         {
          "value": 0,
          "variable": "inn1",
          "year": "2035"
         },
         {
          "value": 0,
          "variable": "inn1",
          "year": "2036"
         },
         {
          "value": 0,
          "variable": "inn1",
          "year": "2037"
         },
         {
          "value": 0,
          "variable": "inn1",
          "year": "2038"
         },
         {
          "value": 0,
          "variable": "inn1",
          "year": "2039"
         },
         {
          "value": 0,
          "variable": "inn1",
          "year": "2040"
         },
         {
          "value": 0,
          "variable": "inn1",
          "year": "2041"
         },
         {
          "value": 0,
          "variable": "inn1",
          "year": "2042"
         },
         {
          "value": 0,
          "variable": "inn1",
          "year": "2043"
         },
         {
          "value": 0,
          "variable": "inn1",
          "year": "2044"
         },
         {
          "value": 0,
          "variable": "inn1",
          "year": "2045"
         },
         {
          "value": 0,
          "variable": "inn1",
          "year": "2046"
         },
         {
          "value": 0,
          "variable": "inn1",
          "year": "2047"
         },
         {
          "value": 0,
          "variable": "inn1",
          "year": "2048"
         },
         {
          "value": 0,
          "variable": "inn1",
          "year": "2049"
         },
         {
          "value": 0,
          "variable": "inn1",
          "year": "2050"
         },
         {
          "value": 0,
          "variable": "inn1",
          "year": "2051"
         },
         {
          "value": 0,
          "variable": "inn1",
          "year": "2052"
         },
         {
          "value": 0,
          "variable": "inn1",
          "year": "2053"
         },
         {
          "value": 0,
          "variable": "inn1",
          "year": "2054"
         },
         {
          "value": 0,
          "variable": "inn1",
          "year": "2055"
         },
         {
          "value": 0,
          "variable": "inn1",
          "year": "2056"
         },
         {
          "value": 0,
          "variable": "inn1",
          "year": "2057"
         },
         {
          "value": 0,
          "variable": "inn1",
          "year": "2058"
         },
         {
          "value": 0,
          "variable": "inn1",
          "year": "2059"
         },
         {
          "value": 0,
          "variable": "inn1",
          "year": "2060"
         },
         {
          "value": 0,
          "variable": "inn1",
          "year": "2061"
         },
         {
          "value": 0,
          "variable": "inn1",
          "year": "2062"
         },
         {
          "value": 0,
          "variable": "inn1",
          "year": "2063"
         },
         {
          "value": 0,
          "variable": "inn1",
          "year": "2064"
         },
         {
          "value": 0,
          "variable": "inn1",
          "year": "2065"
         },
         {
          "value": 0,
          "variable": "inn1",
          "year": "2066"
         },
         {
          "value": 0,
          "variable": "inn1",
          "year": "2067"
         },
         {
          "value": 0,
          "variable": "inn1",
          "year": "2068"
         },
         {
          "value": 0,
          "variable": "inn1",
          "year": "2069"
         },
         {
          "value": 0,
          "variable": "inn1",
          "year": "2070"
         },
         {
          "value": 0,
          "variable": "inn2",
          "year": "2020"
         },
         {
          "value": 0,
          "variable": "inn2",
          "year": "2021"
         },
         {
          "value": 0,
          "variable": "inn2",
          "year": "2022"
         },
         {
          "value": 0,
          "variable": "inn2",
          "year": "2023"
         },
         {
          "value": 0,
          "variable": "inn2",
          "year": "2024"
         },
         {
          "value": 0,
          "variable": "inn2",
          "year": "2025"
         },
         {
          "value": 0,
          "variable": "inn2",
          "year": "2026"
         },
         {
          "value": 0,
          "variable": "inn2",
          "year": "2027"
         },
         {
          "value": 0,
          "variable": "inn2",
          "year": "2028"
         },
         {
          "value": 0,
          "variable": "inn2",
          "year": "2029"
         },
         {
          "value": 0,
          "variable": "inn2",
          "year": "2030"
         },
         {
          "value": 0,
          "variable": "inn2",
          "year": "2031"
         },
         {
          "value": 0,
          "variable": "inn2",
          "year": "2032"
         },
         {
          "value": 0,
          "variable": "inn2",
          "year": "2033"
         },
         {
          "value": 0,
          "variable": "inn2",
          "year": "2034"
         },
         {
          "value": 0,
          "variable": "inn2",
          "year": "2035"
         },
         {
          "value": 0,
          "variable": "inn2",
          "year": "2036"
         },
         {
          "value": 0,
          "variable": "inn2",
          "year": "2037"
         },
         {
          "value": 0,
          "variable": "inn2",
          "year": "2038"
         },
         {
          "value": 0,
          "variable": "inn2",
          "year": "2039"
         },
         {
          "value": 0,
          "variable": "inn2",
          "year": "2040"
         },
         {
          "value": 0,
          "variable": "inn2",
          "year": "2041"
         },
         {
          "value": 0,
          "variable": "inn2",
          "year": "2042"
         },
         {
          "value": 0,
          "variable": "inn2",
          "year": "2043"
         },
         {
          "value": 0,
          "variable": "inn2",
          "year": "2044"
         },
         {
          "value": 0,
          "variable": "inn2",
          "year": "2045"
         },
         {
          "value": 0,
          "variable": "inn2",
          "year": "2046"
         },
         {
          "value": 0,
          "variable": "inn2",
          "year": "2047"
         },
         {
          "value": 0,
          "variable": "inn2",
          "year": "2048"
         },
         {
          "value": 0,
          "variable": "inn2",
          "year": "2049"
         },
         {
          "value": 0,
          "variable": "inn2",
          "year": "2050"
         },
         {
          "value": 0,
          "variable": "inn2",
          "year": "2051"
         },
         {
          "value": 0,
          "variable": "inn2",
          "year": "2052"
         },
         {
          "value": 0,
          "variable": "inn2",
          "year": "2053"
         },
         {
          "value": 0,
          "variable": "inn2",
          "year": "2054"
         },
         {
          "value": 0,
          "variable": "inn2",
          "year": "2055"
         },
         {
          "value": 0,
          "variable": "inn2",
          "year": "2056"
         },
         {
          "value": 0,
          "variable": "inn2",
          "year": "2057"
         },
         {
          "value": 0,
          "variable": "inn2",
          "year": "2058"
         },
         {
          "value": 0,
          "variable": "inn2",
          "year": "2059"
         },
         {
          "value": 0,
          "variable": "inn2",
          "year": "2060"
         },
         {
          "value": 0,
          "variable": "inn2",
          "year": "2061"
         },
         {
          "value": 0,
          "variable": "inn2",
          "year": "2062"
         },
         {
          "value": 0,
          "variable": "inn2",
          "year": "2063"
         },
         {
          "value": 0,
          "variable": "inn2",
          "year": "2064"
         },
         {
          "value": 0,
          "variable": "inn2",
          "year": "2065"
         },
         {
          "value": 0,
          "variable": "inn2",
          "year": "2066"
         },
         {
          "value": 0,
          "variable": "inn2",
          "year": "2067"
         },
         {
          "value": 0,
          "variable": "inn2",
          "year": "2068"
         },
         {
          "value": 0,
          "variable": "inn2",
          "year": "2069"
         },
         {
          "value": 0,
          "variable": "inn2",
          "year": "2070"
         },
         {
          "value": 0,
          "variable": "inn3",
          "year": "2020"
         },
         {
          "value": 0,
          "variable": "inn3",
          "year": "2021"
         },
         {
          "value": 0,
          "variable": "inn3",
          "year": "2022"
         },
         {
          "value": 0,
          "variable": "inn3",
          "year": "2023"
         },
         {
          "value": 0,
          "variable": "inn3",
          "year": "2024"
         },
         {
          "value": 0,
          "variable": "inn3",
          "year": "2025"
         },
         {
          "value": 0.2999999999999998,
          "variable": "inn3",
          "year": "2026"
         },
         {
          "value": 0.2999999999999998,
          "variable": "inn3",
          "year": "2027"
         },
         {
          "value": 0.2999999999999998,
          "variable": "inn3",
          "year": "2028"
         },
         {
          "value": 0.2999999999999998,
          "variable": "inn3",
          "year": "2029"
         },
         {
          "value": 0.2999999999999998,
          "variable": "inn3",
          "year": "2030"
         },
         {
          "value": 0.2999999999999998,
          "variable": "inn3",
          "year": "2031"
         },
         {
          "value": 0.2999999999999998,
          "variable": "inn3",
          "year": "2032"
         },
         {
          "value": 0.2999999999999998,
          "variable": "inn3",
          "year": "2033"
         },
         {
          "value": 0.2999999999999998,
          "variable": "inn3",
          "year": "2034"
         },
         {
          "value": 0.2999999999999998,
          "variable": "inn3",
          "year": "2035"
         },
         {
          "value": 0.2999999999999998,
          "variable": "inn3",
          "year": "2036"
         },
         {
          "value": 0.2999999999999998,
          "variable": "inn3",
          "year": "2037"
         },
         {
          "value": 0.2999999999999998,
          "variable": "inn3",
          "year": "2038"
         },
         {
          "value": 0.2999999999999998,
          "variable": "inn3",
          "year": "2039"
         },
         {
          "value": 0.2999999999999998,
          "variable": "inn3",
          "year": "2040"
         },
         {
          "value": 0.2999999999999998,
          "variable": "inn3",
          "year": "2041"
         },
         {
          "value": 0.2999999999999998,
          "variable": "inn3",
          "year": "2042"
         },
         {
          "value": 0.2999999999999998,
          "variable": "inn3",
          "year": "2043"
         },
         {
          "value": 0.2999999999999998,
          "variable": "inn3",
          "year": "2044"
         },
         {
          "value": 0.2999999999999998,
          "variable": "inn3",
          "year": "2045"
         },
         {
          "value": 0.2999999999999998,
          "variable": "inn3",
          "year": "2046"
         },
         {
          "value": 0.2999999999999998,
          "variable": "inn3",
          "year": "2047"
         },
         {
          "value": 0.2999999999999998,
          "variable": "inn3",
          "year": "2048"
         },
         {
          "value": 0.2999999999999998,
          "variable": "inn3",
          "year": "2049"
         },
         {
          "value": 0.2999999999999998,
          "variable": "inn3",
          "year": "2050"
         },
         {
          "value": 0.2999999999999998,
          "variable": "inn3",
          "year": "2051"
         },
         {
          "value": 0.2999999999999998,
          "variable": "inn3",
          "year": "2052"
         },
         {
          "value": 0.2999999999999998,
          "variable": "inn3",
          "year": "2053"
         },
         {
          "value": 0.2999999999999998,
          "variable": "inn3",
          "year": "2054"
         },
         {
          "value": 0.2999999999999998,
          "variable": "inn3",
          "year": "2055"
         },
         {
          "value": 0.2999999999999998,
          "variable": "inn3",
          "year": "2056"
         },
         {
          "value": 0.2999999999999998,
          "variable": "inn3",
          "year": "2057"
         },
         {
          "value": 0.2999999999999998,
          "variable": "inn3",
          "year": "2058"
         },
         {
          "value": 0.2999999999999998,
          "variable": "inn3",
          "year": "2059"
         },
         {
          "value": 0.2999999999999998,
          "variable": "inn3",
          "year": "2060"
         },
         {
          "value": 0.2999999999999998,
          "variable": "inn3",
          "year": "2061"
         },
         {
          "value": 0.2999999999999998,
          "variable": "inn3",
          "year": "2062"
         },
         {
          "value": 0.2999999999999998,
          "variable": "inn3",
          "year": "2063"
         },
         {
          "value": 0.2999999999999998,
          "variable": "inn3",
          "year": "2064"
         },
         {
          "value": 0.2999999999999998,
          "variable": "inn3",
          "year": "2065"
         },
         {
          "value": 0.2999999999999998,
          "variable": "inn3",
          "year": "2066"
         },
         {
          "value": 0.2999999999999998,
          "variable": "inn3",
          "year": "2067"
         },
         {
          "value": 0.2999999999999998,
          "variable": "inn3",
          "year": "2068"
         },
         {
          "value": 0.2999999999999998,
          "variable": "inn3",
          "year": "2069"
         },
         {
          "value": 0.2999999999999998,
          "variable": "inn3",
          "year": "2070"
         },
         {
          "value": 0,
          "variable": "inn4",
          "year": "2020"
         },
         {
          "value": 0,
          "variable": "inn4",
          "year": "2021"
         },
         {
          "value": 0,
          "variable": "inn4",
          "year": "2022"
         },
         {
          "value": 0,
          "variable": "inn4",
          "year": "2023"
         },
         {
          "value": 0,
          "variable": "inn4",
          "year": "2024"
         },
         {
          "value": 0,
          "variable": "inn4",
          "year": "2025"
         },
         {
          "value": 0,
          "variable": "inn4",
          "year": "2026"
         },
         {
          "value": 0,
          "variable": "inn4",
          "year": "2027"
         },
         {
          "value": 0,
          "variable": "inn4",
          "year": "2028"
         },
         {
          "value": 0,
          "variable": "inn4",
          "year": "2029"
         },
         {
          "value": 0,
          "variable": "inn4",
          "year": "2030"
         },
         {
          "value": 0,
          "variable": "inn4",
          "year": "2031"
         },
         {
          "value": 0,
          "variable": "inn4",
          "year": "2032"
         },
         {
          "value": 0,
          "variable": "inn4",
          "year": "2033"
         },
         {
          "value": 0,
          "variable": "inn4",
          "year": "2034"
         },
         {
          "value": 0,
          "variable": "inn4",
          "year": "2035"
         },
         {
          "value": 0,
          "variable": "inn4",
          "year": "2036"
         },
         {
          "value": 0,
          "variable": "inn4",
          "year": "2037"
         },
         {
          "value": 0,
          "variable": "inn4",
          "year": "2038"
         },
         {
          "value": 0,
          "variable": "inn4",
          "year": "2039"
         },
         {
          "value": 0,
          "variable": "inn4",
          "year": "2040"
         },
         {
          "value": 0,
          "variable": "inn4",
          "year": "2041"
         },
         {
          "value": 0,
          "variable": "inn4",
          "year": "2042"
         },
         {
          "value": 0,
          "variable": "inn4",
          "year": "2043"
         },
         {
          "value": 0,
          "variable": "inn4",
          "year": "2044"
         },
         {
          "value": 0,
          "variable": "inn4",
          "year": "2045"
         },
         {
          "value": 0,
          "variable": "inn4",
          "year": "2046"
         },
         {
          "value": 0,
          "variable": "inn4",
          "year": "2047"
         },
         {
          "value": 0,
          "variable": "inn4",
          "year": "2048"
         },
         {
          "value": 0,
          "variable": "inn4",
          "year": "2049"
         },
         {
          "value": 0,
          "variable": "inn4",
          "year": "2050"
         },
         {
          "value": 0,
          "variable": "inn4",
          "year": "2051"
         },
         {
          "value": 0,
          "variable": "inn4",
          "year": "2052"
         },
         {
          "value": 0,
          "variable": "inn4",
          "year": "2053"
         },
         {
          "value": 0,
          "variable": "inn4",
          "year": "2054"
         },
         {
          "value": 0,
          "variable": "inn4",
          "year": "2055"
         },
         {
          "value": 0,
          "variable": "inn4",
          "year": "2056"
         },
         {
          "value": 0,
          "variable": "inn4",
          "year": "2057"
         },
         {
          "value": 0,
          "variable": "inn4",
          "year": "2058"
         },
         {
          "value": 0,
          "variable": "inn4",
          "year": "2059"
         },
         {
          "value": 0,
          "variable": "inn4",
          "year": "2060"
         },
         {
          "value": 0,
          "variable": "inn4",
          "year": "2061"
         },
         {
          "value": 0,
          "variable": "inn4",
          "year": "2062"
         },
         {
          "value": 0,
          "variable": "inn4",
          "year": "2063"
         },
         {
          "value": 0,
          "variable": "inn4",
          "year": "2064"
         },
         {
          "value": 0,
          "variable": "inn4",
          "year": "2065"
         },
         {
          "value": 0,
          "variable": "inn4",
          "year": "2066"
         },
         {
          "value": 0,
          "variable": "inn4",
          "year": "2067"
         },
         {
          "value": 0,
          "variable": "inn4",
          "year": "2068"
         },
         {
          "value": 0,
          "variable": "inn4",
          "year": "2069"
         },
         {
          "value": 0,
          "variable": "inn4",
          "year": "2070"
         },
         {
          "value": 0,
          "variable": "inn5",
          "year": "2020"
         },
         {
          "value": 0,
          "variable": "inn5",
          "year": "2021"
         },
         {
          "value": 0,
          "variable": "inn5",
          "year": "2022"
         },
         {
          "value": 0,
          "variable": "inn5",
          "year": "2023"
         },
         {
          "value": 0,
          "variable": "inn5",
          "year": "2024"
         },
         {
          "value": 0,
          "variable": "inn5",
          "year": "2025"
         },
         {
          "value": 0,
          "variable": "inn5",
          "year": "2026"
         },
         {
          "value": 0,
          "variable": "inn5",
          "year": "2027"
         },
         {
          "value": 0,
          "variable": "inn5",
          "year": "2028"
         },
         {
          "value": 0,
          "variable": "inn5",
          "year": "2029"
         },
         {
          "value": 0,
          "variable": "inn5",
          "year": "2030"
         },
         {
          "value": 0,
          "variable": "inn5",
          "year": "2031"
         },
         {
          "value": 0,
          "variable": "inn5",
          "year": "2032"
         },
         {
          "value": 0,
          "variable": "inn5",
          "year": "2033"
         },
         {
          "value": 0,
          "variable": "inn5",
          "year": "2034"
         },
         {
          "value": 0,
          "variable": "inn5",
          "year": "2035"
         },
         {
          "value": 0,
          "variable": "inn5",
          "year": "2036"
         },
         {
          "value": 0,
          "variable": "inn5",
          "year": "2037"
         },
         {
          "value": 0,
          "variable": "inn5",
          "year": "2038"
         },
         {
          "value": 0,
          "variable": "inn5",
          "year": "2039"
         },
         {
          "value": 0,
          "variable": "inn5",
          "year": "2040"
         },
         {
          "value": 0,
          "variable": "inn5",
          "year": "2041"
         },
         {
          "value": 0,
          "variable": "inn5",
          "year": "2042"
         },
         {
          "value": 0,
          "variable": "inn5",
          "year": "2043"
         },
         {
          "value": 0,
          "variable": "inn5",
          "year": "2044"
         },
         {
          "value": 0,
          "variable": "inn5",
          "year": "2045"
         },
         {
          "value": 0,
          "variable": "inn5",
          "year": "2046"
         },
         {
          "value": 0,
          "variable": "inn5",
          "year": "2047"
         },
         {
          "value": 0,
          "variable": "inn5",
          "year": "2048"
         },
         {
          "value": 0,
          "variable": "inn5",
          "year": "2049"
         },
         {
          "value": 0,
          "variable": "inn5",
          "year": "2050"
         },
         {
          "value": 0,
          "variable": "inn5",
          "year": "2051"
         },
         {
          "value": 0,
          "variable": "inn5",
          "year": "2052"
         },
         {
          "value": 0,
          "variable": "inn5",
          "year": "2053"
         },
         {
          "value": 0,
          "variable": "inn5",
          "year": "2054"
         },
         {
          "value": 0,
          "variable": "inn5",
          "year": "2055"
         },
         {
          "value": 0,
          "variable": "inn5",
          "year": "2056"
         },
         {
          "value": 0,
          "variable": "inn5",
          "year": "2057"
         },
         {
          "value": 0,
          "variable": "inn5",
          "year": "2058"
         },
         {
          "value": 0,
          "variable": "inn5",
          "year": "2059"
         },
         {
          "value": 0,
          "variable": "inn5",
          "year": "2060"
         },
         {
          "value": 0,
          "variable": "inn5",
          "year": "2061"
         },
         {
          "value": 0,
          "variable": "inn5",
          "year": "2062"
         },
         {
          "value": 0,
          "variable": "inn5",
          "year": "2063"
         },
         {
          "value": 0,
          "variable": "inn5",
          "year": "2064"
         },
         {
          "value": 0,
          "variable": "inn5",
          "year": "2065"
         },
         {
          "value": 0,
          "variable": "inn5",
          "year": "2066"
         },
         {
          "value": 0,
          "variable": "inn5",
          "year": "2067"
         },
         {
          "value": 0,
          "variable": "inn5",
          "year": "2068"
         },
         {
          "value": 0,
          "variable": "inn5",
          "year": "2069"
         },
         {
          "value": 0,
          "variable": "inn5",
          "year": "2070"
         }
        ]
       },
       "encoding": {
        "color": {
         "field": "variable",
         "type": "nominal"
        },
        "x": {
         "field": "year"
        },
        "y": {
         "field": "value",
         "stack": "zero",
         "title": "recycled content",
         "type": "quantitative"
        }
       },
       "mark": "area",
       "ylab": "circularity"
      },
      "image/png": "[encoded data removed]",
      "image/svg+xml": [
       "<?xml version=\"1.0\" encoding=\"utf-8\"?>\n",
       "<!DOCTYPE svg PUBLIC \"-//W3C//DTD SVG 1.1//EN\" \"http://www.w3.org/Graphics/SVG/1.1/DTD/svg11.dtd\">\n",
       "<svg xmlns=\"http://www.w3.org/2000/svg\" xmlns:xlink=\"http://www.w3.org/1999/xlink\" version=\"1.1\" class=\"marks\" width=\"1140\" height=\"261\" viewBox=\"0 0 1140 261\"><rect width=\"1140\" height=\"261\" fill=\"white\"/><g fill=\"none\" stroke-miterlimit=\"10\" transform=\"translate(48,10)\"><g class=\"mark-group role-frame root\" role=\"graphics-object\" aria-roledescription=\"group mark container\"><g transform=\"translate(0,0)\"><path class=\"background\" aria-hidden=\"true\" d=\"M0.5,0.5h1020v200h-1020Z\" stroke=\"#ddd\"/><g><g class=\"mark-group role-axis\" aria-hidden=\"true\"><g transform=\"translate(0.5,0.5)\"><path class=\"background\" aria-hidden=\"true\" d=\"M0,0h0v0h0Z\" pointer-events=\"none\"/><g><g class=\"mark-rule role-axis-grid\" pointer-events=\"none\"><line transform=\"translate(0,200)\" x2=\"1020\" y2=\"0\" stroke=\"#ddd\" stroke-width=\"1\" opacity=\"1\"/><line transform=\"translate(0,167)\" x2=\"1020\" y2=\"0\" stroke=\"#ddd\" stroke-width=\"1\" opacity=\"1\"/><line transform=\"translate(0,133)\" x2=\"1020\" y2=\"0\" stroke=\"#ddd\" stroke-width=\"1\" opacity=\"1\"/><line transform=\"translate(0,100)\" x2=\"1020\" y2=\"0\" stroke=\"#ddd\" stroke-width=\"1\" opacity=\"1\"/><line transform=\"translate(0,67)\" x2=\"1020\" y2=\"0\" stroke=\"#ddd\" stroke-width=\"1\" opacity=\"1\"/><line transform=\"translate(0,33)\" x2=\"1020\" y2=\"0\" stroke=\"#ddd\" stroke-width=\"1\" opacity=\"1\"/><line transform=\"translate(0,0)\" x2=\"1020\" y2=\"0\" stroke=\"#ddd\" stroke-width=\"1\" opacity=\"1\"/></g></g><path class=\"foreground\" aria-hidden=\"true\" d=\"\" pointer-events=\"none\" display=\"none\"/></g></g><g class=\"mark-group role-axis\" role=\"graphics-symbol\" aria-roledescription=\"axis\" aria-label=\"X-axis titled 'year' for a discrete scale with 51 values: 2020, 2021, 2022, 2023, 2024, ending with 2070\"><g transform=\"translate(0.5,200.5)\"><path class=\"background\" aria-hidden=\"true\" d=\"M0,0h0v0h0Z\" pointer-events=\"none\"/><g><g class=\"mark-rule role-axis-tick\" pointer-events=\"none\"><line transform=\"translate(10,0)\" x2=\"0\" y2=\"5\" stroke=\"#888\" stroke-width=\"1\" opacity=\"1\"/><line transform=\"translate(30,0)\" x2=\"0\" y2=\"5\" stroke=\"#888\" stroke-width=\"1\" opacity=\"1\"/><line transform=\"translate(50,0)\" x2=\"0\" y2=\"5\" stroke=\"#888\" stroke-width=\"1\" opacity=\"1\"/><line transform=\"translate(70,0)\" x2=\"0\" y2=\"5\" stroke=\"#888\" stroke-width=\"1\" opacity=\"1\"/><line transform=\"translate(90,0)\" x2=\"0\" y2=\"5\" stroke=\"#888\" stroke-width=\"1\" opacity=\"1\"/><line transform=\"translate(110,0)\" x2=\"0\" y2=\"5\" stroke=\"#888\" stroke-width=\"1\" opacity=\"1\"/><line transform=\"translate(130,0)\" x2=\"0\" y2=\"5\" stroke=\"#888\" stroke-width=\"1\" opacity=\"1\"/><line transform=\"translate(150,0)\" x2=\"0\" y2=\"5\" stroke=\"#888\" stroke-width=\"1\" opacity=\"1\"/><line transform=\"translate(170,0)\" x2=\"0\" y2=\"5\" stroke=\"#888\" stroke-width=\"1\" opacity=\"1\"/><line transform=\"translate(190,0)\" x2=\"0\" y2=\"5\" stroke=\"#888\" stroke-width=\"1\" opacity=\"1\"/><line transform=\"translate(210,0)\" x2=\"0\" y2=\"5\" stroke=\"#888\" stroke-width=\"1\" opacity=\"1\"/><line transform=\"translate(230,0)\" x2=\"0\" y2=\"5\" stroke=\"#888\" stroke-width=\"1\" opacity=\"1\"/><line transform=\"translate(250,0)\" x2=\"0\" y2=\"5\" stroke=\"#888\" stroke-width=\"1\" opacity=\"1\"/><line transform=\"translate(270,0)\" x2=\"0\" y2=\"5\" stroke=\"#888\" stroke-width=\"1\" opacity=\"1\"/><line transform=\"translate(290,0)\" x2=\"0\" y2=\"5\" stroke=\"#888\" stroke-width=\"1\" opacity=\"1\"/><line transform=\"translate(310,0)\" x2=\"0\" y2=\"5\" stroke=\"#888\" stroke-width=\"1\" opacity=\"1\"/><line transform=\"translate(330,0)\" x2=\"0\" y2=\"5\" stroke=\"#888\" stroke-width=\"1\" opacity=\"1\"/><line transform=\"translate(350,0)\" x2=\"0\" y2=\"5\" stroke=\"#888\" stroke-width=\"1\" opacity=\"1\"/><line transform=\"translate(370,0)\" x2=\"0\" y2=\"5\" stroke=\"#888\" stroke-width=\"1\" opacity=\"1\"/><line transform=\"translate(390,0)\" x2=\"0\" y2=\"5\" stroke=\"#888\" stroke-width=\"1\" opacity=\"1\"/><line transform=\"translate(410,0)\" x2=\"0\" y2=\"5\" stroke=\"#888\" stroke-width=\"1\" opacity=\"1\"/><line transform=\"translate(430,0)\" x2=\"0\" y2=\"5\" stroke=\"#888\" stroke-width=\"1\" opacity=\"1\"/><line transform=\"translate(450,0)\" x2=\"0\" y2=\"5\" stroke=\"#888\" stroke-width=\"1\" opacity=\"1\"/><line transform=\"translate(470,0)\" x2=\"0\" y2=\"5\" stroke=\"#888\" stroke-width=\"1\" opacity=\"1\"/><line transform=\"translate(490,0)\" x2=\"0\" y2=\"5\" stroke=\"#888\" stroke-width=\"1\" opacity=\"1\"/><line transform=\"translate(510,0)\" x2=\"0\" y2=\"5\" stroke=\"#888\" stroke-width=\"1\" opacity=\"1\"/><line transform=\"translate(530,0)\" x2=\"0\" y2=\"5\" stroke=\"#888\" stroke-width=\"1\" opacity=\"1\"/><line transform=\"translate(550,0)\" x2=\"0\" y2=\"5\" stroke=\"#888\" stroke-width=\"1\" opacity=\"1\"/><line transform=\"translate(570,0)\" x2=\"0\" y2=\"5\" stroke=\"#888\" stroke-width=\"1\" opacity=\"1\"/><line transform=\"translate(590,0)\" x2=\"0\" y2=\"5\" stroke=\"#888\" stroke-width=\"1\" opacity=\"1\"/><line transform=\"translate(610,0)\" x2=\"0\" y2=\"5\" stroke=\"#888\" stroke-width=\"1\" opacity=\"1\"/><line transform=\"translate(630,0)\" x2=\"0\" y2=\"5\" stroke=\"#888\" stroke-width=\"1\" opacity=\"1\"/><line transform=\"translate(650,0)\" x2=\"0\" y2=\"5\" stroke=\"#888\" stroke-width=\"1\" opacity=\"1\"/><line transform=\"translate(670,0)\" x2=\"0\" y2=\"5\" stroke=\"#888\" stroke-width=\"1\" opacity=\"1\"/><line transform=\"translate(690,0)\" x2=\"0\" y2=\"5\" stroke=\"#888\" stroke-width=\"1\" opacity=\"1\"/><line transform=\"translate(710,0)\" x2=\"0\" y2=\"5\" stroke=\"#888\" stroke-width=\"1\" opacity=\"1\"/><line transform=\"translate(730,0)\" x2=\"0\" y2=\"5\" stroke=\"#888\" stroke-width=\"1\" opacity=\"1\"/><line transform=\"translate(750,0)\" x2=\"0\" y2=\"5\" stroke=\"#888\" stroke-width=\"1\" opacity=\"1\"/><line transform=\"translate(770,0)\" x2=\"0\" y2=\"5\" stroke=\"#888\" stroke-width=\"1\" opacity=\"1\"/><line transform=\"translate(790,0)\" x2=\"0\" y2=\"5\" stroke=\"#888\" stroke-width=\"1\" opacity=\"1\"/><line transform=\"translate(810,0)\" x2=\"0\" y2=\"5\" stroke=\"#888\" stroke-width=\"1\" opacity=\"1\"/><line transform=\"translate(830,0)\" x2=\"0\" y2=\"5\" stroke=\"#888\" stroke-width=\"1\" opacity=\"1\"/><line transform=\"translate(850,0)\" x2=\"0\" y2=\"5\" stroke=\"#888\" stroke-width=\"1\" opacity=\"1\"/><line transform=\"translate(870,0)\" x2=\"0\" y2=\"5\" stroke=\"#888\" stroke-width=\"1\" opacity=\"1\"/><line transform=\"translate(890,0)\" x2=\"0\" y2=\"5\" stroke=\"#888\" stroke-width=\"1\" opacity=\"1\"/><line transform=\"translate(910,0)\" x2=\"0\" y2=\"5\" stroke=\"#888\" stroke-width=\"1\" opacity=\"1\"/><line transform=\"translate(930,0)\" x2=\"0\" y2=\"5\" stroke=\"#888\" stroke-width=\"1\" opacity=\"1\"/><line transform=\"translate(950,0)\" x2=\"0\" y2=\"5\" stroke=\"#888\" stroke-width=\"1\" opacity=\"1\"/><line transform=\"translate(970,0)\" x2=\"0\" y2=\"5\" stroke=\"#888\" stroke-width=\"1\" opacity=\"1\"/><line transform=\"translate(990,0)\" x2=\"0\" y2=\"5\" stroke=\"#888\" stroke-width=\"1\" opacity=\"1\"/><line transform=\"translate(1010,0)\" x2=\"0\" y2=\"5\" stroke=\"#888\" stroke-width=\"1\" opacity=\"1\"/></g><g class=\"mark-text role-axis-label\" pointer-events=\"none\"><text text-anchor=\"end\" transform=\"translate(10,7) rotate(270) translate(0,3)\" font-family=\"sans-serif\" font-size=\"10px\" fill=\"#000\" opacity=\"1\">2020</text><text text-anchor=\"end\" transform=\"translate(30,7) rotate(270) translate(0,3)\" font-family=\"sans-serif\" font-size=\"10px\" fill=\"#000\" opacity=\"1\">2021</text><text text-anchor=\"end\" transform=\"translate(50,7) rotate(270) translate(0,3)\" font-family=\"sans-serif\" font-size=\"10px\" fill=\"#000\" opacity=\"1\">2022</text><text text-anchor=\"end\" transform=\"translate(70,7) rotate(270) translate(0,3)\" font-family=\"sans-serif\" font-size=\"10px\" fill=\"#000\" opacity=\"1\">2023</text><text text-anchor=\"end\" transform=\"translate(90,7) rotate(270) translate(0,3)\" font-family=\"sans-serif\" font-size=\"10px\" fill=\"#000\" opacity=\"1\">2024</text><text text-anchor=\"end\" transform=\"translate(110,7) rotate(270) translate(0,3)\" font-family=\"sans-serif\" font-size=\"10px\" fill=\"#000\" opacity=\"1\">2025</text><text text-anchor=\"end\" transform=\"translate(130,7) rotate(270) translate(0,3)\" font-family=\"sans-serif\" font-size=\"10px\" fill=\"#000\" opacity=\"1\">2026</text><text text-anchor=\"end\" transform=\"translate(150,7) rotate(270) translate(0,3)\" font-family=\"sans-serif\" font-size=\"10px\" fill=\"#000\" opacity=\"1\">2027</text><text text-anchor=\"end\" transform=\"translate(170,7) rotate(270) translate(0,3)\" font-family=\"sans-serif\" font-size=\"10px\" fill=\"#000\" opacity=\"1\">2028</text><text text-anchor=\"end\" transform=\"translate(190,7) rotate(270) translate(0,3)\" font-family=\"sans-serif\" font-size=\"10px\" fill=\"#000\" opacity=\"1\">2029</text><text text-anchor=\"end\" transform=\"translate(210,7) rotate(270) translate(0,3)\" font-family=\"sans-serif\" font-size=\"10px\" fill=\"#000\" opacity=\"1\">2030</text><text text-anchor=\"end\" transform=\"translate(230,7) rotate(270) translate(0,3)\" font-family=\"sans-serif\" font-size=\"10px\" fill=\"#000\" opacity=\"1\">2031</text><text text-anchor=\"end\" transform=\"translate(250,7) rotate(270) translate(0,3)\" font-family=\"sans-serif\" font-size=\"10px\" fill=\"#000\" opacity=\"1\">2032</text><text text-anchor=\"end\" transform=\"translate(270,7) rotate(270) translate(0,3)\" font-family=\"sans-serif\" font-size=\"10px\" fill=\"#000\" opacity=\"1\">2033</text><text text-anchor=\"end\" transform=\"translate(290,7) rotate(270) translate(0,3)\" font-family=\"sans-serif\" font-size=\"10px\" fill=\"#000\" opacity=\"1\">2034</text><text text-anchor=\"end\" transform=\"translate(310,7) rotate(270) translate(0,3)\" font-family=\"sans-serif\" font-size=\"10px\" fill=\"#000\" opacity=\"1\">2035</text><text text-anchor=\"end\" transform=\"translate(330,7) rotate(270) translate(0,3)\" font-family=\"sans-serif\" font-size=\"10px\" fill=\"#000\" opacity=\"1\">2036</text><text text-anchor=\"end\" transform=\"translate(350,7) rotate(270) translate(0,3)\" font-family=\"sans-serif\" font-size=\"10px\" fill=\"#000\" opacity=\"1\">2037</text><text text-anchor=\"end\" transform=\"translate(370,7) rotate(270) translate(0,3)\" font-family=\"sans-serif\" font-size=\"10px\" fill=\"#000\" opacity=\"1\">2038</text><text text-anchor=\"end\" transform=\"translate(390,7) rotate(270) translate(0,3)\" font-family=\"sans-serif\" font-size=\"10px\" fill=\"#000\" opacity=\"1\">2039</text><text text-anchor=\"end\" transform=\"translate(410,7) rotate(270) translate(0,3)\" font-family=\"sans-serif\" font-size=\"10px\" fill=\"#000\" opacity=\"1\">2040</text><text text-anchor=\"end\" transform=\"translate(430,7) rotate(270) translate(0,3)\" font-family=\"sans-serif\" font-size=\"10px\" fill=\"#000\" opacity=\"1\">2041</text><text text-anchor=\"end\" transform=\"translate(450,7) rotate(270) translate(0,3)\" font-family=\"sans-serif\" font-size=\"10px\" fill=\"#000\" opacity=\"1\">2042</text><text text-anchor=\"end\" transform=\"translate(470,7) rotate(270) translate(0,3)\" font-family=\"sans-serif\" font-size=\"10px\" fill=\"#000\" opacity=\"1\">2043</text><text text-anchor=\"end\" transform=\"translate(490,7) rotate(270) translate(0,3)\" font-family=\"sans-serif\" font-size=\"10px\" fill=\"#000\" opacity=\"1\">2044</text><text text-anchor=\"end\" transform=\"translate(510,7) rotate(270) translate(0,3)\" font-family=\"sans-serif\" font-size=\"10px\" fill=\"#000\" opacity=\"1\">2045</text><text text-anchor=\"end\" transform=\"translate(530,7) rotate(270) translate(0,3)\" font-family=\"sans-serif\" font-size=\"10px\" fill=\"#000\" opacity=\"1\">2046</text><text text-anchor=\"end\" transform=\"translate(550,7) rotate(270) translate(0,3)\" font-family=\"sans-serif\" font-size=\"10px\" fill=\"#000\" opacity=\"1\">2047</text><text text-anchor=\"end\" transform=\"translate(570,7) rotate(270) translate(0,3)\" font-family=\"sans-serif\" font-size=\"10px\" fill=\"#000\" opacity=\"1\">2048</text><text text-anchor=\"end\" transform=\"translate(590,7) rotate(270) translate(0,3)\" font-family=\"sans-serif\" font-size=\"10px\" fill=\"#000\" opacity=\"1\">2049</text><text text-anchor=\"end\" transform=\"translate(610,7) rotate(270) translate(0,3)\" font-family=\"sans-serif\" font-size=\"10px\" fill=\"#000\" opacity=\"1\">2050</text><text text-anchor=\"end\" transform=\"translate(630,7) rotate(270) translate(0,3)\" font-family=\"sans-serif\" font-size=\"10px\" fill=\"#000\" opacity=\"1\">2051</text><text text-anchor=\"end\" transform=\"translate(650,7) rotate(270) translate(0,3)\" font-family=\"sans-serif\" font-size=\"10px\" fill=\"#000\" opacity=\"1\">2052</text><text text-anchor=\"end\" transform=\"translate(670,7) rotate(270) translate(0,3)\" font-family=\"sans-serif\" font-size=\"10px\" fill=\"#000\" opacity=\"1\">2053</text><text text-anchor=\"end\" transform=\"translate(690,7) rotate(270) translate(0,3)\" font-family=\"sans-serif\" font-size=\"10px\" fill=\"#000\" opacity=\"1\">2054</text><text text-anchor=\"end\" transform=\"translate(710,7) rotate(270) translate(0,3)\" font-family=\"sans-serif\" font-size=\"10px\" fill=\"#000\" opacity=\"1\">2055</text><text text-anchor=\"end\" transform=\"translate(730,7) rotate(270) translate(0,3)\" font-family=\"sans-serif\" font-size=\"10px\" fill=\"#000\" opacity=\"1\">2056</text><text text-anchor=\"end\" transform=\"translate(750,7) rotate(270) translate(0,3)\" font-family=\"sans-serif\" font-size=\"10px\" fill=\"#000\" opacity=\"1\">2057</text><text text-anchor=\"end\" transform=\"translate(770,7) rotate(270) translate(0,3)\" font-family=\"sans-serif\" font-size=\"10px\" fill=\"#000\" opacity=\"1\">2058</text><text text-anchor=\"end\" transform=\"translate(790,7) rotate(270) translate(0,3)\" font-family=\"sans-serif\" font-size=\"10px\" fill=\"#000\" opacity=\"1\">2059</text><text text-anchor=\"end\" transform=\"translate(810,7) rotate(270) translate(0,3)\" font-family=\"sans-serif\" font-size=\"10px\" fill=\"#000\" opacity=\"1\">2060</text><text text-anchor=\"end\" transform=\"translate(830,7) rotate(270) translate(0,3)\" font-family=\"sans-serif\" font-size=\"10px\" fill=\"#000\" opacity=\"1\">2061</text><text text-anchor=\"end\" transform=\"translate(850,7) rotate(270) translate(0,3)\" font-family=\"sans-serif\" font-size=\"10px\" fill=\"#000\" opacity=\"1\">2062</text><text text-anchor=\"end\" transform=\"translate(870,7) rotate(270) translate(0,3)\" font-family=\"sans-serif\" font-size=\"10px\" fill=\"#000\" opacity=\"1\">2063</text><text text-anchor=\"end\" transform=\"translate(890,7) rotate(270) translate(0,3)\" font-family=\"sans-serif\" font-size=\"10px\" fill=\"#000\" opacity=\"1\">2064</text><text text-anchor=\"end\" transform=\"translate(910,7) rotate(270) translate(0,3)\" font-family=\"sans-serif\" font-size=\"10px\" fill=\"#000\" opacity=\"1\">2065</text><text text-anchor=\"end\" transform=\"translate(930,7) rotate(270) translate(0,3)\" font-family=\"sans-serif\" font-size=\"10px\" fill=\"#000\" opacity=\"1\">2066</text><text text-anchor=\"end\" transform=\"translate(950,7) rotate(270) translate(0,3)\" font-family=\"sans-serif\" font-size=\"10px\" fill=\"#000\" opacity=\"1\">2067</text><text text-anchor=\"end\" transform=\"translate(970,7) rotate(270) translate(0,3)\" font-family=\"sans-serif\" font-size=\"10px\" fill=\"#000\" opacity=\"1\">2068</text><text text-anchor=\"end\" transform=\"translate(990,7) rotate(270) translate(0,3)\" font-family=\"sans-serif\" font-size=\"10px\" fill=\"#000\" opacity=\"1\">2069</text><text text-anchor=\"end\" transform=\"translate(1010,7) rotate(270) translate(0,3)\" font-family=\"sans-serif\" font-size=\"10px\" fill=\"#000\" opacity=\"1\">2070</text></g><g class=\"mark-rule role-axis-domain\" pointer-events=\"none\"><line transform=\"translate(0,0)\" x2=\"1020\" y2=\"0\" stroke=\"#888\" stroke-width=\"1\" opacity=\"1\"/></g><g class=\"mark-text role-axis-title\" pointer-events=\"none\"><text text-anchor=\"middle\" transform=\"translate(510,44)\" font-family=\"sans-serif\" font-size=\"11px\" font-weight=\"bold\" fill=\"#000\" opacity=\"1\">year</text></g></g><path class=\"foreground\" aria-hidden=\"true\" d=\"\" pointer-events=\"none\" display=\"none\"/></g></g><g class=\"mark-group role-axis\" role=\"graphics-symbol\" aria-roledescription=\"axis\" aria-label=\"Y-axis titled 'recycled content' for a linear scale with values from 0.00 to 0.30\"><g transform=\"translate(0.5,0.5)\"><path class=\"background\" aria-hidden=\"true\" d=\"M0,0h0v0h0Z\" pointer-events=\"none\"/><g><g class=\"mark-rule role-axis-tick\" pointer-events=\"none\"><line transform=\"translate(0,200)\" x2=\"-5\" y2=\"0\" stroke=\"#888\" stroke-width=\"1\" opacity=\"1\"/><line transform=\"translate(0,167)\" x2=\"-5\" y2=\"0\" stroke=\"#888\" stroke-width=\"1\" opacity=\"1\"/><line transform=\"translate(0,133)\" x2=\"-5\" y2=\"0\" stroke=\"#888\" stroke-width=\"1\" opacity=\"1\"/><line transform=\"translate(0,100)\" x2=\"-5\" y2=\"0\" stroke=\"#888\" stroke-width=\"1\" opacity=\"1\"/><line transform=\"translate(0,67)\" x2=\"-5\" y2=\"0\" stroke=\"#888\" stroke-width=\"1\" opacity=\"1\"/><line transform=\"translate(0,33)\" x2=\"-5\" y2=\"0\" stroke=\"#888\" stroke-width=\"1\" opacity=\"1\"/><line transform=\"translate(0,0)\" x2=\"-5\" y2=\"0\" stroke=\"#888\" stroke-width=\"1\" opacity=\"1\"/></g><g class=\"mark-text role-axis-label\" pointer-events=\"none\"><text text-anchor=\"end\" transform=\"translate(-7,203)\" font-family=\"sans-serif\" font-size=\"10px\" fill=\"#000\" opacity=\"1\">0.00</text><text text-anchor=\"end\" transform=\"translate(-7,169.66666666666666)\" font-family=\"sans-serif\" font-size=\"10px\" fill=\"#000\" opacity=\"1\">0.05</text><text text-anchor=\"end\" transform=\"translate(-7,136.33333333333331)\" font-family=\"sans-serif\" font-size=\"10px\" fill=\"#000\" opacity=\"1\">0.10</text><text text-anchor=\"end\" transform=\"translate(-7,103)\" font-family=\"sans-serif\" font-size=\"10px\" fill=\"#000\" opacity=\"1\">0.15</text><text text-anchor=\"end\" transform=\"translate(-7,69.66666666666666)\" font-family=\"sans-serif\" font-size=\"10px\" fill=\"#000\" opacity=\"1\">0.20</text><text text-anchor=\"end\" transform=\"translate(-7,36.33333333333333)\" font-family=\"sans-serif\" font-size=\"10px\" fill=\"#000\" opacity=\"1\">0.25</text><text text-anchor=\"end\" transform=\"translate(-7,3)\" font-family=\"sans-serif\" font-size=\"10px\" fill=\"#000\" opacity=\"1\">0.30</text></g><g class=\"mark-rule role-axis-domain\" pointer-events=\"none\"><line transform=\"translate(0,200)\" x2=\"0\" y2=\"-200\" stroke=\"#888\" stroke-width=\"1\" opacity=\"1\"/></g><g class=\"mark-text role-axis-title\" pointer-events=\"none\"><text text-anchor=\"middle\" transform=\"translate(-32,100) rotate(-90) translate(0,-2)\" font-family=\"sans-serif\" font-size=\"11px\" font-weight=\"bold\" fill=\"#000\" opacity=\"1\">recycled content</text></g></g><path class=\"foreground\" aria-hidden=\"true\" d=\"\" pointer-events=\"none\" display=\"none\"/></g></g><g class=\"mark-group role-scope pathgroup\" role=\"graphics-object\" aria-roledescription=\"group mark container\"><g transform=\"translate(0,0)\"><path class=\"background\" aria-hidden=\"true\" d=\"M0,0h1020v200h-1020Z\"/><g><g class=\"mark-area role-mark marks\" role=\"graphics-object\" aria-roledescription=\"area mark container\"><path aria-label=\"year: 2020; recycled content: 0.12; variable: conv\" role=\"graphics-symbol\" aria-roledescription=\"area mark\" d=\"M10,120L30,156.3636363636364L50,156.3636363636364L70,156.3636363636364L90,156.3636363636364L110,156.3636363636364L130,1.1102230246251565e-13L150,1.1102230246251565e-13L170,1.1102230246251565e-13L190,1.1102230246251565e-13L210,1.1102230246251565e-13L230,1.1102230246251565e-13L250,1.1102230246251565e-13L270,1.1102230246251565e-13L290,1.1102230246251565e-13L310,1.1102230246251565e-13L330,1.1102230246251565e-13L350,1.1102230246251565e-13L370,1.1102230246251565e-13L390,1.1102230246251565e-13L410,1.1102230246251565e-13L430,1.1102230246251565e-13L450,1.1102230246251565e-13L470,1.1102230246251565e-13L490,1.1102230246251565e-13L510,1.1102230246251565e-13L530,1.1102230246251565e-13L550,1.1102230246251565e-13L570,1.1102230246251565e-13L590,1.1102230246251565e-13L610,1.1102230246251565e-13L630,1.1102230246251565e-13L650,1.1102230246251565e-13L670,1.1102230246251565e-13L690,1.1102230246251565e-13L710,1.1102230246251565e-13L730,1.1102230246251565e-13L750,1.1102230246251565e-13L770,1.1102230246251565e-13L790,1.1102230246251565e-13L810,1.1102230246251565e-13L830,1.1102230246251565e-13L850,1.1102230246251565e-13L870,1.1102230246251565e-13L890,1.1102230246251565e-13L910,1.1102230246251565e-13L930,1.1102230246251565e-13L950,1.1102230246251565e-13L970,1.1102230246251565e-13L990,1.1102230246251565e-13L1010,1.1102230246251565e-13L1010,1.1102230246251565e-13L990,1.1102230246251565e-13L970,1.1102230246251565e-13L950,1.1102230246251565e-13L930,1.1102230246251565e-13L910,1.1102230246251565e-13L890,1.1102230246251565e-13L870,1.1102230246251565e-13L850,1.1102230246251565e-13L830,1.1102230246251565e-13L810,1.1102230246251565e-13L790,1.1102230246251565e-13L770,1.1102230246251565e-13L750,1.1102230246251565e-13L730,1.1102230246251565e-13L710,1.1102230246251565e-13L690,1.1102230246251565e-13L670,1.1102230246251565e-13L650,1.1102230246251565e-13L630,1.1102230246251565e-13L610,1.1102230246251565e-13L590,1.1102230246251565e-13L570,1.1102230246251565e-13L550,1.1102230246251565e-13L530,1.1102230246251565e-13L510,1.1102230246251565e-13L490,1.1102230246251565e-13L470,1.1102230246251565e-13L450,1.1102230246251565e-13L430,1.1102230246251565e-13L410,1.1102230246251565e-13L390,1.1102230246251565e-13L370,1.1102230246251565e-13L350,1.1102230246251565e-13L330,1.1102230246251565e-13L310,1.1102230246251565e-13L290,1.1102230246251565e-13L270,1.1102230246251565e-13L250,1.1102230246251565e-13L230,1.1102230246251565e-13L210,1.1102230246251565e-13L190,1.1102230246251565e-13L170,1.1102230246251565e-13L150,1.1102230246251565e-13L130,1.1102230246251565e-13L110,200L90,200L70,200L50,200L30,200L10,200Z\" fill=\"#4c78a8\"/></g></g><path class=\"foreground\" aria-hidden=\"true\" d=\"\" display=\"none\"/></g><g transform=\"translate(0,0)\"><path class=\"background\" aria-hidden=\"true\" d=\"M0,0h1020v200h-1020Z\"/><g><g class=\"mark-area role-mark marks\" role=\"graphics-object\" aria-roledescription=\"area mark container\"><path aria-label=\"year: 2020; recycled content: 0; variable: inn1\" role=\"graphics-symbol\" aria-roledescription=\"area mark\" d=\"M10,200L30,200L50,200L70,200L90,200L110,200L130,1.1102230246251565e-13L150,1.1102230246251565e-13L170,1.1102230246251565e-13L190,1.1102230246251565e-13L210,1.1102230246251565e-13L230,1.1102230246251565e-13L250,1.1102230246251565e-13L270,1.1102230246251565e-13L290,1.1102230246251565e-13L310,1.1102230246251565e-13L330,1.1102230246251565e-13L350,1.1102230246251565e-13L370,1.1102230246251565e-13L390,1.1102230246251565e-13L410,1.1102230246251565e-13L430,1.1102230246251565e-13L450,1.1102230246251565e-13L470,1.1102230246251565e-13L490,1.1102230246251565e-13L510,1.1102230246251565e-13L530,1.1102230246251565e-13L550,1.1102230246251565e-13L570,1.1102230246251565e-13L590,1.1102230246251565e-13L610,1.1102230246251565e-13L630,1.1102230246251565e-13L650,1.1102230246251565e-13L670,1.1102230246251565e-13L690,1.1102230246251565e-13L710,1.1102230246251565e-13L730,1.1102230246251565e-13L750,1.1102230246251565e-13L770,1.1102230246251565e-13L790,1.1102230246251565e-13L810,1.1102230246251565e-13L830,1.1102230246251565e-13L850,1.1102230246251565e-13L870,1.1102230246251565e-13L890,1.1102230246251565e-13L910,1.1102230246251565e-13L930,1.1102230246251565e-13L950,1.1102230246251565e-13L970,1.1102230246251565e-13L990,1.1102230246251565e-13L1010,1.1102230246251565e-13L1010,1.1102230246251565e-13L990,1.1102230246251565e-13L970,1.1102230246251565e-13L950,1.1102230246251565e-13L930,1.1102230246251565e-13L910,1.1102230246251565e-13L890,1.1102230246251565e-13L870,1.1102230246251565e-13L850,1.1102230246251565e-13L830,1.1102230246251565e-13L810,1.1102230246251565e-13L790,1.1102230246251565e-13L770,1.1102230246251565e-13L750,1.1102230246251565e-13L730,1.1102230246251565e-13L710,1.1102230246251565e-13L690,1.1102230246251565e-13L670,1.1102230246251565e-13L650,1.1102230246251565e-13L630,1.1102230246251565e-13L610,1.1102230246251565e-13L590,1.1102230246251565e-13L570,1.1102230246251565e-13L550,1.1102230246251565e-13L530,1.1102230246251565e-13L510,1.1102230246251565e-13L490,1.1102230246251565e-13L470,1.1102230246251565e-13L450,1.1102230246251565e-13L430,1.1102230246251565e-13L410,1.1102230246251565e-13L390,1.1102230246251565e-13L370,1.1102230246251565e-13L350,1.1102230246251565e-13L330,1.1102230246251565e-13L310,1.1102230246251565e-13L290,1.1102230246251565e-13L270,1.1102230246251565e-13L250,1.1102230246251565e-13L230,1.1102230246251565e-13L210,1.1102230246251565e-13L190,1.1102230246251565e-13L170,1.1102230246251565e-13L150,1.1102230246251565e-13L130,1.1102230246251565e-13L110,200L90,200L70,200L50,200L30,200L10,200Z\" fill=\"#f58518\"/></g></g><path class=\"foreground\" aria-hidden=\"true\" d=\"\" display=\"none\"/></g><g transform=\"translate(0,0)\"><path class=\"background\" aria-hidden=\"true\" d=\"M0,0h1020v200h-1020Z\"/><g><g class=\"mark-area role-mark marks\" role=\"graphics-object\" aria-roledescription=\"area mark container\"><path aria-label=\"year: 2020; recycled content: 0; variable: inn2\" role=\"graphics-symbol\" aria-roledescription=\"area mark\" d=\"M10,200L30,200L50,200L70,200L90,200L110,200L130,1.1102230246251565e-13L150,1.1102230246251565e-13L170,1.1102230246251565e-13L190,1.1102230246251565e-13L210,1.1102230246251565e-13L230,1.1102230246251565e-13L250,1.1102230246251565e-13L270,1.1102230246251565e-13L290,1.1102230246251565e-13L310,1.1102230246251565e-13L330,1.1102230246251565e-13L350,1.1102230246251565e-13L370,1.1102230246251565e-13L390,1.1102230246251565e-13L410,1.1102230246251565e-13L430,1.1102230246251565e-13L450,1.1102230246251565e-13L470,1.1102230246251565e-13L490,1.1102230246251565e-13L510,1.1102230246251565e-13L530,1.1102230246251565e-13L550,1.1102230246251565e-13L570,1.1102230246251565e-13L590,1.1102230246251565e-13L610,1.1102230246251565e-13L630,1.1102230246251565e-13L650,1.1102230246251565e-13L670,1.1102230246251565e-13L690,1.1102230246251565e-13L710,1.1102230246251565e-13L730,1.1102230246251565e-13L750,1.1102230246251565e-13L770,1.1102230246251565e-13L790,1.1102230246251565e-13L810,1.1102230246251565e-13L830,1.1102230246251565e-13L850,1.1102230246251565e-13L870,1.1102230246251565e-13L890,1.1102230246251565e-13L910,1.1102230246251565e-13L930,1.1102230246251565e-13L950,1.1102230246251565e-13L970,1.1102230246251565e-13L990,1.1102230246251565e-13L1010,1.1102230246251565e-13L1010,1.1102230246251565e-13L990,1.1102230246251565e-13L970,1.1102230246251565e-13L950,1.1102230246251565e-13L930,1.1102230246251565e-13L910,1.1102230246251565e-13L890,1.1102230246251565e-13L870,1.1102230246251565e-13L850,1.1102230246251565e-13L830,1.1102230246251565e-13L810,1.1102230246251565e-13L790,1.1102230246251565e-13L770,1.1102230246251565e-13L750,1.1102230246251565e-13L730,1.1102230246251565e-13L710,1.1102230246251565e-13L690,1.1102230246251565e-13L670,1.1102230246251565e-13L650,1.1102230246251565e-13L630,1.1102230246251565e-13L610,1.1102230246251565e-13L590,1.1102230246251565e-13L570,1.1102230246251565e-13L550,1.1102230246251565e-13L530,1.1102230246251565e-13L510,1.1102230246251565e-13L490,1.1102230246251565e-13L470,1.1102230246251565e-13L450,1.1102230246251565e-13L430,1.1102230246251565e-13L410,1.1102230246251565e-13L390,1.1102230246251565e-13L370,1.1102230246251565e-13L350,1.1102230246251565e-13L330,1.1102230246251565e-13L310,1.1102230246251565e-13L290,1.1102230246251565e-13L270,1.1102230246251565e-13L250,1.1102230246251565e-13L230,1.1102230246251565e-13L210,1.1102230246251565e-13L190,1.1102230246251565e-13L170,1.1102230246251565e-13L150,1.1102230246251565e-13L130,1.1102230246251565e-13L110,200L90,200L70,200L50,200L30,200L10,200Z\" fill=\"#e45756\"/></g></g><path class=\"foreground\" aria-hidden=\"true\" d=\"\" display=\"none\"/></g><g transform=\"translate(0,0)\"><path class=\"background\" aria-hidden=\"true\" d=\"M0,0h1020v200h-1020Z\"/><g><g class=\"mark-area role-mark marks\" role=\"graphics-object\" aria-roledescription=\"area mark container\"><path aria-label=\"year: 2020; recycled content: 0; variable: inn3\" role=\"graphics-symbol\" aria-roledescription=\"area mark\" d=\"M10,200L30,200L50,200L70,200L90,200L110,200L130,1.1102230246251565e-13L150,1.1102230246251565e-13L170,1.1102230246251565e-13L190,1.1102230246251565e-13L210,1.1102230246251565e-13L230,1.1102230246251565e-13L250,1.1102230246251565e-13L270,1.1102230246251565e-13L290,1.1102230246251565e-13L310,1.1102230246251565e-13L330,1.1102230246251565e-13L350,1.1102230246251565e-13L370,1.1102230246251565e-13L390,1.1102230246251565e-13L410,1.1102230246251565e-13L430,1.1102230246251565e-13L450,1.1102230246251565e-13L470,1.1102230246251565e-13L490,1.1102230246251565e-13L510,1.1102230246251565e-13L530,1.1102230246251565e-13L550,1.1102230246251565e-13L570,1.1102230246251565e-13L590,1.1102230246251565e-13L610,1.1102230246251565e-13L630,1.1102230246251565e-13L650,1.1102230246251565e-13L670,1.1102230246251565e-13L690,1.1102230246251565e-13L710,1.1102230246251565e-13L730,1.1102230246251565e-13L750,1.1102230246251565e-13L770,1.1102230246251565e-13L790,1.1102230246251565e-13L810,1.1102230246251565e-13L830,1.1102230246251565e-13L850,1.1102230246251565e-13L870,1.1102230246251565e-13L890,1.1102230246251565e-13L910,1.1102230246251565e-13L930,1.1102230246251565e-13L950,1.1102230246251565e-13L970,1.1102230246251565e-13L990,1.1102230246251565e-13L1010,1.1102230246251565e-13L1010,200L990,200L970,200L950,200L930,200L910,200L890,200L870,200L850,200L830,200L810,200L790,200L770,200L750,200L730,200L710,200L690,200L670,200L650,200L630,200L610,200L590,200L570,200L550,200L530,200L510,200L490,200L470,200L450,200L430,200L410,200L390,200L370,200L350,200L330,200L310,200L290,200L270,200L250,200L230,200L210,200L190,200L170,200L150,200L130,200L110,200L90,200L70,200L50,200L30,200L10,200Z\" fill=\"#72b7b2\"/></g></g><path class=\"foreground\" aria-hidden=\"true\" d=\"\" display=\"none\"/></g><g transform=\"translate(0,0)\"><path class=\"background\" aria-hidden=\"true\" d=\"M0,0h1020v200h-1020Z\"/><g><g class=\"mark-area role-mark marks\" role=\"graphics-object\" aria-roledescription=\"area mark container\"><path aria-label=\"year: 2020; recycled content: 0; variable: inn4\" role=\"graphics-symbol\" aria-roledescription=\"area mark\" d=\"M10,200L30,200L50,200L70,200L90,200L110,200L130,200L150,200L170,200L190,200L210,200L230,200L250,200L270,200L290,200L310,200L330,200L350,200L370,200L390,200L410,200L430,200L450,200L470,200L490,200L510,200L530,200L550,200L570,200L590,200L610,200L630,200L650,200L670,200L690,200L710,200L730,200L750,200L770,200L790,200L810,200L830,200L850,200L870,200L890,200L910,200L930,200L950,200L970,200L990,200L1010,200L1010,200L990,200L970,200L950,200L930,200L910,200L890,200L870,200L850,200L830,200L810,200L790,200L770,200L750,200L730,200L710,200L690,200L670,200L650,200L630,200L610,200L590,200L570,200L550,200L530,200L510,200L490,200L470,200L450,200L430,200L410,200L390,200L370,200L350,200L330,200L310,200L290,200L270,200L250,200L230,200L210,200L190,200L170,200L150,200L130,200L110,200L90,200L70,200L50,200L30,200L10,200Z\" fill=\"#54a24b\"/></g></g><path class=\"foreground\" aria-hidden=\"true\" d=\"\" display=\"none\"/></g><g transform=\"translate(0,0)\"><path class=\"background\" aria-hidden=\"true\" d=\"M0,0h1020v200h-1020Z\"/><g><g class=\"mark-area role-mark marks\" role=\"graphics-object\" aria-roledescription=\"area mark container\"><path aria-label=\"year: 2020; recycled content: 0; variable: inn5\" role=\"graphics-symbol\" aria-roledescription=\"area mark\" d=\"M10,200L30,200L50,200L70,200L90,200L110,200L130,200L150,200L170,200L190,200L210,200L230,200L250,200L270,200L290,200L310,200L330,200L350,200L370,200L390,200L410,200L430,200L450,200L470,200L490,200L510,200L530,200L550,200L570,200L590,200L610,200L630,200L650,200L670,200L690,200L710,200L730,200L750,200L770,200L790,200L810,200L830,200L850,200L870,200L890,200L910,200L930,200L950,200L970,200L990,200L1010,200L1010,200L990,200L970,200L950,200L930,200L910,200L890,200L870,200L850,200L830,200L810,200L790,200L770,200L750,200L730,200L710,200L690,200L670,200L650,200L630,200L610,200L590,200L570,200L550,200L530,200L510,200L490,200L470,200L450,200L430,200L410,200L390,200L370,200L350,200L330,200L310,200L290,200L270,200L250,200L230,200L210,200L190,200L170,200L150,200L130,200L110,200L90,200L70,200L50,200L30,200L10,200Z\" fill=\"#eeca3b\"/></g></g><path class=\"foreground\" aria-hidden=\"true\" d=\"\" display=\"none\"/></g></g><g class=\"mark-group role-legend\" role=\"graphics-symbol\" aria-roledescription=\"legend\" aria-label=\"Symbol legend titled 'variable' for fill color with 6 values: conv, inn1, inn2, inn3, inn4, inn5\"><g transform=\"translate(1038,0)\"><path class=\"background\" aria-hidden=\"true\" d=\"M0,0h49v92h-49Z\" pointer-events=\"none\"/><g><g class=\"mark-group role-legend-entry\"><g transform=\"translate(0,16)\"><path class=\"background\" aria-hidden=\"true\" d=\"M0,0h0v0h0Z\" pointer-events=\"none\"/><g><g class=\"mark-group role-scope\" role=\"graphics-object\" aria-roledescription=\"group mark container\"><g transform=\"translate(0,0)\"><path class=\"background\" aria-hidden=\"true\" d=\"M0,0h40v11h-40Z\" pointer-events=\"none\" opacity=\"1\"/><g><g class=\"mark-symbol role-legend-symbol\" pointer-events=\"none\"><path transform=\"translate(6,6)\" d=\"M5,0A5,5,0,1,1,-5,0A5,5,0,1,1,5,0\" fill=\"#4c78a8\" stroke-width=\"1.5\" opacity=\"1\"/></g><g class=\"mark-text role-legend-label\" pointer-events=\"none\"><text text-anchor=\"start\" transform=\"translate(16,9)\" font-family=\"sans-serif\" font-size=\"10px\" fill=\"#000\" opacity=\"1\">conv</text></g></g><path class=\"foreground\" aria-hidden=\"true\" d=\"\" pointer-events=\"none\" display=\"none\"/></g><g transform=\"translate(0,13)\"><path class=\"background\" aria-hidden=\"true\" d=\"M0,0h40v11h-40Z\" pointer-events=\"none\" opacity=\"1\"/><g><g class=\"mark-symbol role-legend-symbol\" pointer-events=\"none\"><path transform=\"translate(6,6)\" d=\"M5,0A5,5,0,1,1,-5,0A5,5,0,1,1,5,0\" fill=\"#f58518\" stroke-width=\"1.5\" opacity=\"1\"/></g><g class=\"mark-text role-legend-label\" pointer-events=\"none\"><text text-anchor=\"start\" transform=\"translate(16,9)\" font-family=\"sans-serif\" font-size=\"10px\" fill=\"#000\" opacity=\"1\">inn1</text></g></g><path class=\"foreground\" aria-hidden=\"true\" d=\"\" pointer-events=\"none\" display=\"none\"/></g><g transform=\"translate(0,26)\"><path class=\"background\" aria-hidden=\"true\" d=\"M0,0h40v11h-40Z\" pointer-events=\"none\" opacity=\"1\"/><g><g class=\"mark-symbol role-legend-symbol\" pointer-events=\"none\"><path transform=\"translate(6,6)\" d=\"M5,0A5,5,0,1,1,-5,0A5,5,0,1,1,5,0\" fill=\"#e45756\" stroke-width=\"1.5\" opacity=\"1\"/></g><g class=\"mark-text role-legend-label\" pointer-events=\"none\"><text text-anchor=\"start\" transform=\"translate(16,9)\" font-family=\"sans-serif\" font-size=\"10px\" fill=\"#000\" opacity=\"1\">inn2</text></g></g><path class=\"foreground\" aria-hidden=\"true\" d=\"\" pointer-events=\"none\" display=\"none\"/></g><g transform=\"translate(0,39)\"><path class=\"background\" aria-hidden=\"true\" d=\"M0,0h40v11h-40Z\" pointer-events=\"none\" opacity=\"1\"/><g><g class=\"mark-symbol role-legend-symbol\" pointer-events=\"none\"><path transform=\"translate(6,6)\" d=\"M5,0A5,5,0,1,1,-5,0A5,5,0,1,1,5,0\" fill=\"#72b7b2\" stroke-width=\"1.5\" opacity=\"1\"/></g><g class=\"mark-text role-legend-label\" pointer-events=\"none\"><text text-anchor=\"start\" transform=\"translate(16,9)\" font-family=\"sans-serif\" font-size=\"10px\" fill=\"#000\" opacity=\"1\">inn3</text></g></g><path class=\"foreground\" aria-hidden=\"true\" d=\"\" pointer-events=\"none\" display=\"none\"/></g><g transform=\"translate(0,52)\"><path class=\"background\" aria-hidden=\"true\" d=\"M0,0h40v11h-40Z\" pointer-events=\"none\" opacity=\"1\"/><g><g class=\"mark-symbol role-legend-symbol\" pointer-events=\"none\"><path transform=\"translate(6,6)\" d=\"M5,0A5,5,0,1,1,-5,0A5,5,0,1,1,5,0\" fill=\"#54a24b\" stroke-width=\"1.5\" opacity=\"1\"/></g><g class=\"mark-text role-legend-label\" pointer-events=\"none\"><text text-anchor=\"start\" transform=\"translate(16,9)\" font-family=\"sans-serif\" font-size=\"10px\" fill=\"#000\" opacity=\"1\">inn4</text></g></g><path class=\"foreground\" aria-hidden=\"true\" d=\"\" pointer-events=\"none\" display=\"none\"/></g><g transform=\"translate(0,65)\"><path class=\"background\" aria-hidden=\"true\" d=\"M0,0h40v11h-40Z\" pointer-events=\"none\" opacity=\"1\"/><g><g class=\"mark-symbol role-legend-symbol\" pointer-events=\"none\"><path transform=\"translate(6,6)\" d=\"M5,0A5,5,0,1,1,-5,0A5,5,0,1,1,5,0\" fill=\"#eeca3b\" stroke-width=\"1.5\" opacity=\"1\"/></g><g class=\"mark-text role-legend-label\" pointer-events=\"none\"><text text-anchor=\"start\" transform=\"translate(16,9)\" font-family=\"sans-serif\" font-size=\"10px\" fill=\"#000\" opacity=\"1\">inn5</text></g></g><path class=\"foreground\" aria-hidden=\"true\" d=\"\" pointer-events=\"none\" display=\"none\"/></g></g></g><path class=\"foreground\" aria-hidden=\"true\" d=\"\" pointer-events=\"none\" display=\"none\"/></g></g><g class=\"mark-text role-legend-title\" pointer-events=\"none\"><text text-anchor=\"start\" transform=\"translate(0,9)\" font-family=\"sans-serif\" font-size=\"11px\" font-weight=\"bold\" fill=\"#000\" opacity=\"1\">variable</text></g></g><path class=\"foreground\" aria-hidden=\"true\" d=\"\" pointer-events=\"none\" display=\"none\"/></g></g></g><path class=\"foreground\" aria-hidden=\"true\" d=\"\" display=\"none\"/></g></g></g></svg>\n"
      ],
      "text/plain": [
       "@vlplot(\n",
       "    ylab=\"circularity\",\n",
       "    mark=\"area\",\n",
       "    encoding={\n",
       "        x={\n",
       "            field=\"year\"\n",
       "        },\n",
       "        y={\n",
       "            stack=\"zero\",\n",
       "            title=\"recycled content\",\n",
       "            field=\"value\"\n",
       "        },\n",
       "        color={\n",
       "            field=\"variable\",\n",
       "            type=\"nominal\"\n",
       "        }\n",
       "    },\n",
       "    data={\n",
       "        values=...\n",
       "    }\n",
       ")"
      ]
     },
     "execution_count": 17,
     "metadata": {},
     "output_type": "execute_result"
    }
   ],
   "source": [
    "function conventional(t)\n",
    "    return initial[1,5]*(1-sum(JuMP.values.(xk)[k] for k in 1:nrow(compromise) if t>JuMP.values.(tk)[k]))\n",
    "end\n",
    "\n",
    "function innovation(i,t)\n",
    "    if i==1\n",
    "        return sum(JuMP.values.(xk)[k]*(compromise[k,5]) for k=1:mapki[i,2] if t>JuMP.values.(tk)[k])\n",
    "    else\n",
    "        return sum(JuMP.values.(xk)[k]*(compromise[k,5]) for k=mapki[i-1,2]:mapki[i,2] if t>JuMP.values.(tk)[k])\n",
    "    end\n",
    "end\n",
    "\n",
    "conv=zeros(51)\n",
    "\n",
    "conv[1]=initial[1,5]\n",
    "inn_co2=zeros(5,51)\n",
    "\n",
    "for inn in 1:5\n",
    "    inn_co2[inn,1]=0\n",
    "end\n",
    "\n",
    "for i in 2:51\n",
    "    conv[i]=conventional(i)\n",
    "    for inn in 1:5\n",
    "        inn_co2[inn,i]=innovation(inn,i)\n",
    "    end\n",
    "end\n",
    "conv\n",
    "\n",
    "sNames = [\"conv\",\"inn1\",\"inn2\",\"inn3\",\"inn4\",\"inn5\"]\n",
    "xLabels = []\n",
    "for i in 2020:2070\n",
    "    push!(xLabels,string(i))\n",
    "end\n",
    "\n",
    "df = DataFrame(year=xLabels, conv=conv, inn1=inn_co2[1,:],inn2=inn_co2[2,:],inn3=inn_co2[3,:],inn4=inn_co2[4,:],inn5=inn_co2[5,:])\n",
    "\n",
    "df |> stack |> @vlplot(:area, x=:year, y={:value, stack=:zero, title=\"recycled content\"}, color=\"variable:n\",ylab=\"circularity\") "
   ]
  },
  {
   "cell_type": "code",
   "execution_count": 40,
   "id": "51222687",
   "metadata": {},
   "outputs": [
    {
     "data": {
      "text/plain": [
       "51-element Vector{Float64}:\n",
       " 100.0\n",
       "  85.0\n",
       "  85.0\n",
       "  85.0\n",
       "  85.0\n",
       "  85.0\n",
       "  58.4375\n",
       "  58.4375\n",
       "  58.4375\n",
       "  58.4375\n",
       "  58.4375\n",
       "  58.4375\n",
       "  58.4375\n",
       "   ⋮\n",
       "  58.4375\n",
       "  58.4375\n",
       "  58.4375\n",
       "  58.4375\n",
       "  58.4375\n",
       "  58.4375\n",
       "  58.4375\n",
       "  58.4375\n",
       "  58.4375\n",
       "  58.4375\n",
       "  58.4375\n",
       "  58.4375"
      ]
     },
     "execution_count": 40,
     "metadata": {},
     "output_type": "execute_result"
    }
   ],
   "source": [
    "conv"
   ]
  },
  {
   "cell_type": "code",
   "execution_count": 13,
   "id": "b4f63b97-8e5f-4b63-8535-b19d99aab222",
   "metadata": {},
   "outputs": [
    {
     "data": {
      "text/plain": [
       "5-element Vector{Float64}:\n",
       " 0.0\n",
       " 0.0\n",
       " 6.250000000000002\n",
       " 0.0\n",
       " 0.0"
      ]
     },
     "execution_count": 13,
     "metadata": {},
     "output_type": "execute_result"
    }
   ],
   "source": [
    "ti\n"
   ]
  },
  {
   "cell_type": "code",
   "execution_count": 14,
   "id": "b1112d72-1fcc-461f-8d56-0abb7d01d9a2",
   "metadata": {},
   "outputs": [
    {
     "data": {
      "text/plain": [
       "458.87406914637427"
      ]
     },
     "execution_count": 14,
     "metadata": {},
     "output_type": "execute_result"
    }
   ],
   "source": [
    "costInn"
   ]
  },
  {
   "cell_type": "code",
   "execution_count": 15,
   "id": "13367c8a",
   "metadata": {},
   "outputs": [
    {
     "data": {
      "text/plain": [
       "25-element Vector{Float64}:\n",
       " 0.0\n",
       " 0.0\n",
       " 0.0\n",
       " 0.0\n",
       " 0.0\n",
       " 0.0\n",
       " 0.0\n",
       " 0.0\n",
       " 0.0\n",
       " 0.0\n",
       " 6.250000000000002\n",
       " 0.0\n",
       " 0.0\n",
       " 0.0\n",
       " 0.0\n",
       " 0.0\n",
       " 0.0\n",
       " 0.0\n",
       " 0.0\n",
       " 0.0\n",
       " 0.0\n",
       " 0.0\n",
       " 0.0\n",
       " 0.0\n",
       " 0.0"
      ]
     },
     "execution_count": 15,
     "metadata": {},
     "output_type": "execute_result"
    }
   ],
   "source": [
    "tk"
   ]
  },
  {
   "cell_type": "code",
   "execution_count": 16,
   "id": "baa9385f",
   "metadata": {},
   "outputs": [
    {
     "data": {
      "text/plain": [
       "92.109375"
      ]
     },
     "execution_count": 16,
     "metadata": {},
     "output_type": "execute_result"
    }
   ],
   "source": [
    "co2tot*40*0.001"
   ]
  },
  {
   "cell_type": "code",
   "execution_count": 17,
   "id": "2a487c68",
   "metadata": {},
   "outputs": [
    {
     "data": {
      "text/plain": [
       "5-element Vector{Float64}:\n",
       " 1.0\n",
       " 0.0\n",
       " 1.0\n",
       " 0.0\n",
       " 0.0"
      ]
     },
     "execution_count": 17,
     "metadata": {},
     "output_type": "execute_result"
    }
   ],
   "source": [
    "yi"
   ]
  },
  {
   "cell_type": "code",
   "execution_count": 18,
   "id": "c6f1ba5c",
   "metadata": {},
   "outputs": [
    {
     "data": {
      "text/plain": [
       "25-element Vector{Float64}:\n",
       " 0.0\n",
       " 0.0\n",
       " 0.0\n",
       " 0.0\n",
       " 0.0\n",
       " 0.0\n",
       " 0.0\n",
       " 0.0\n",
       " 0.0\n",
       " 0.0\n",
       " 6.250000000000002\n",
       " 0.0\n",
       " 0.0\n",
       " 0.0\n",
       " 0.0\n",
       " 0.0\n",
       " 0.0\n",
       " 0.0\n",
       " 0.0\n",
       " 0.0\n",
       " 0.0\n",
       " 0.0\n",
       " 0.0\n",
       " 0.0\n",
       " 0.0"
      ]
     },
     "execution_count": 18,
     "metadata": {},
     "output_type": "execute_result"
    }
   ],
   "source": [
    "tk"
   ]
  },
  {
   "cell_type": "code",
   "execution_count": 19,
   "id": "f89dc476",
   "metadata": {},
   "outputs": [
    {
     "data": {
      "text/plain": [
       "25-element Vector{Float64}:\n",
       " 0.375\n",
       " 0.0\n",
       " 0.0\n",
       " 0.0\n",
       " 0.0\n",
       " 0.0\n",
       " 0.0\n",
       " 0.0\n",
       " 0.0\n",
       " 0.0\n",
       " 0.625\n",
       " 0.0\n",
       " 0.0\n",
       " 0.0\n",
       " 0.0\n",
       " 0.0\n",
       " 0.0\n",
       " 0.0\n",
       " 0.0\n",
       " 0.0\n",
       " 0.0\n",
       " 0.0\n",
       " 0.0\n",
       " 0.0\n",
       " 0.0"
      ]
     },
     "execution_count": 19,
     "metadata": {},
     "output_type": "execute_result"
    }
   ],
   "source": [
    "xk\n"
   ]
  },
  {
   "cell_type": "code",
   "execution_count": 20,
   "id": "8cee8b14",
   "metadata": {},
   "outputs": [
    {
     "data": {
      "text/plain": [
       "25-element Vector{Float64}:\n",
       " 1.0\n",
       " 0.0\n",
       " 0.0\n",
       " 0.0\n",
       " 0.0\n",
       " 0.0\n",
       " 0.0\n",
       " 0.0\n",
       " 0.0\n",
       " 0.0\n",
       " 1.0\n",
       " 0.0\n",
       " 0.0\n",
       " 0.0\n",
       " 0.0\n",
       " 0.0\n",
       " 0.0\n",
       " 0.0\n",
       " 0.0\n",
       " 0.0\n",
       " 0.0\n",
       " 0.0\n",
       " 0.0\n",
       " 0.0\n",
       " 0.0"
      ]
     },
     "execution_count": 20,
     "metadata": {},
     "output_type": "execute_result"
    }
   ],
   "source": [
    "yk"
   ]
  },
  {
   "cell_type": "code",
   "execution_count": 21,
   "id": "a2fc12dc-fdb1-4420-aec5-214d711dff10",
   "metadata": {},
   "outputs": [
    {
     "data": {
      "text/plain": [
       "5-element Vector{Float64}:\n",
       " 2.0\n",
       " 3.0\n",
       " 3.272310346980646\n",
       " 2.0\n",
       " 4.0"
      ]
     },
     "execution_count": 21,
     "metadata": {},
     "output_type": "execute_result"
    }
   ],
   "source": [
    "s"
   ]
  },
  {
   "cell_type": "code",
   "execution_count": 22,
   "id": "74cb122b",
   "metadata": {},
   "outputs": [
    {
     "data": {
      "text/html": [
       "<div class=\"data-frame\"><p>25 rows × 8 columns</p><table class=\"data-frame\"><thead><tr><th></th><th>k</th><th>i</th><th>GWP</th><th>Theta</th><th>Per_Recycl</th><th>Per_Comp</th><th>GHG_ElecInd</th><th>GHG_Trans</th></tr><tr><th></th><th title=\"Int64\">Int64</th><th title=\"Int64\">Int64</th><th title=\"Float64\">Float64</th><th title=\"Float64\">Float64</th><th title=\"Float64\">Float64</th><th title=\"Float64\">Float64</th><th title=\"Float64\">Float64</th><th title=\"Float64\">Float64</th></tr></thead><tbody><tr><th>1</th><td>1</td><td>1</td><td>40.0</td><td>0.6</td><td>0.5</td><td>0.0</td><td>0.301222</td><td>0.162415</td></tr><tr><th>2</th><td>2</td><td>1</td><td>43.0</td><td>0.66</td><td>0.55</td><td>0.0</td><td>0.291677</td><td>0.145083</td></tr><tr><th>3</th><td>3</td><td>1</td><td>45.5</td><td>0.68</td><td>0.567</td><td>0.0</td><td>0.323371</td><td>0.161281</td></tr><tr><th>4</th><td>4</td><td>1</td><td>47.5</td><td>0.7</td><td>0.583</td><td>0.0</td><td>0.525025</td><td>0.151392</td></tr><tr><th>5</th><td>5</td><td>2</td><td>30.0</td><td>0.4</td><td>0.0</td><td>0.2</td><td>0.308217</td><td>0.0923318</td></tr><tr><th>6</th><td>6</td><td>2</td><td>32.0</td><td>0.48</td><td>0.0</td><td>0.24</td><td>0.419839</td><td>0.167281</td></tr><tr><th>7</th><td>7</td><td>2</td><td>34.0</td><td>0.5</td><td>0.0</td><td>0.27</td><td>0.418893</td><td>0.136562</td></tr><tr><th>8</th><td>8</td><td>2</td><td>38.0</td><td>0.52</td><td>0.0</td><td>0.34</td><td>0.530551</td><td>0.134121</td></tr><tr><th>9</th><td>9</td><td>2</td><td>40.0</td><td>0.54</td><td>0.0</td><td>0.37</td><td>0.418593</td><td>0.146208</td></tr><tr><th>10</th><td>10</td><td>2</td><td>42.5</td><td>0.55</td><td>0.0</td><td>0.4</td><td>0.241192</td><td>0.171951</td></tr><tr><th>11</th><td>11</td><td>3</td><td>42.5</td><td>0.6</td><td>0.6</td><td>0.3</td><td>0.299233</td><td>0.0803592</td></tr><tr><th>12</th><td>12</td><td>3</td><td>44.5</td><td>0.68</td><td>0.55</td><td>0.4</td><td>0.208995</td><td>0.133684</td></tr><tr><th>13</th><td>13</td><td>3</td><td>46.5</td><td>0.76</td><td>0.53</td><td>0.4</td><td>0.190811</td><td>0.16299</td></tr><tr><th>14</th><td>14</td><td>3</td><td>47.5</td><td>0.82</td><td>0.5</td><td>0.4</td><td>0.20475</td><td>0.0683796</td></tr><tr><th>15</th><td>15</td><td>4</td><td>37.5</td><td>0.65</td><td>0.0</td><td>0.5</td><td>0.35395</td><td>0.0837429</td></tr><tr><th>16</th><td>16</td><td>4</td><td>39.0</td><td>0.69</td><td>0.0</td><td>0.531</td><td>0.473869</td><td>0.126291</td></tr><tr><th>17</th><td>17</td><td>4</td><td>40.0</td><td>0.71</td><td>0.0</td><td>0.55</td><td>0.499872</td><td>0.151744</td></tr><tr><th>18</th><td>18</td><td>4</td><td>40.5</td><td>0.72</td><td>0.0</td><td>0.55</td><td>0.4039</td><td>0.171753</td></tr><tr><th>19</th><td>19</td><td>4</td><td>41.5</td><td>0.74</td><td>0.0</td><td>0.57</td><td>0.515215</td><td>0.0825216</td></tr><tr><th>20</th><td>20</td><td>4</td><td>42.5</td><td>0.75</td><td>0.0</td><td>0.8</td><td>0.163491</td><td>0.121528</td></tr><tr><th>21</th><td>21</td><td>5</td><td>45.0</td><td>0.9</td><td>0.7</td><td>0.15</td><td>0.323143</td><td>0.104367</td></tr><tr><th>22</th><td>22</td><td>5</td><td>46.0</td><td>0.92</td><td>0.716</td><td>0.1</td><td>0.393909</td><td>0.0648811</td></tr><tr><th>23</th><td>23</td><td>5</td><td>47.0</td><td>0.94</td><td>0.731</td><td>0.0</td><td>0.367604</td><td>0.0785466</td></tr><tr><th>24</th><td>24</td><td>5</td><td>48.0</td><td>0.95</td><td>0.738</td><td>0.0</td><td>0.361888</td><td>0.0685196</td></tr><tr><th>25</th><td>25</td><td>5</td><td>50.0</td><td>0.95</td><td>0.738</td><td>0.0</td><td>0.420387</td><td>0.123506</td></tr></tbody></table></div>"
      ],
      "text/latex": [
       "\\begin{tabular}{r|cccccccc}\n",
       "\t& k & i & GWP & Theta & Per\\_Recycl & Per\\_Comp & GHG\\_ElecInd & GHG\\_Trans\\\\\n",
       "\t\\hline\n",
       "\t& Int64 & Int64 & Float64 & Float64 & Float64 & Float64 & Float64 & Float64\\\\\n",
       "\t\\hline\n",
       "\t1 & 1 & 1 & 40.0 & 0.6 & 0.5 & 0.0 & 0.301222 & 0.162415 \\\\\n",
       "\t2 & 2 & 1 & 43.0 & 0.66 & 0.55 & 0.0 & 0.291677 & 0.145083 \\\\\n",
       "\t3 & 3 & 1 & 45.5 & 0.68 & 0.567 & 0.0 & 0.323371 & 0.161281 \\\\\n",
       "\t4 & 4 & 1 & 47.5 & 0.7 & 0.583 & 0.0 & 0.525025 & 0.151392 \\\\\n",
       "\t5 & 5 & 2 & 30.0 & 0.4 & 0.0 & 0.2 & 0.308217 & 0.0923318 \\\\\n",
       "\t6 & 6 & 2 & 32.0 & 0.48 & 0.0 & 0.24 & 0.419839 & 0.167281 \\\\\n",
       "\t7 & 7 & 2 & 34.0 & 0.5 & 0.0 & 0.27 & 0.418893 & 0.136562 \\\\\n",
       "\t8 & 8 & 2 & 38.0 & 0.52 & 0.0 & 0.34 & 0.530551 & 0.134121 \\\\\n",
       "\t9 & 9 & 2 & 40.0 & 0.54 & 0.0 & 0.37 & 0.418593 & 0.146208 \\\\\n",
       "\t10 & 10 & 2 & 42.5 & 0.55 & 0.0 & 0.4 & 0.241192 & 0.171951 \\\\\n",
       "\t11 & 11 & 3 & 42.5 & 0.6 & 0.6 & 0.3 & 0.299233 & 0.0803592 \\\\\n",
       "\t12 & 12 & 3 & 44.5 & 0.68 & 0.55 & 0.4 & 0.208995 & 0.133684 \\\\\n",
       "\t13 & 13 & 3 & 46.5 & 0.76 & 0.53 & 0.4 & 0.190811 & 0.16299 \\\\\n",
       "\t14 & 14 & 3 & 47.5 & 0.82 & 0.5 & 0.4 & 0.20475 & 0.0683796 \\\\\n",
       "\t15 & 15 & 4 & 37.5 & 0.65 & 0.0 & 0.5 & 0.35395 & 0.0837429 \\\\\n",
       "\t16 & 16 & 4 & 39.0 & 0.69 & 0.0 & 0.531 & 0.473869 & 0.126291 \\\\\n",
       "\t17 & 17 & 4 & 40.0 & 0.71 & 0.0 & 0.55 & 0.499872 & 0.151744 \\\\\n",
       "\t18 & 18 & 4 & 40.5 & 0.72 & 0.0 & 0.55 & 0.4039 & 0.171753 \\\\\n",
       "\t19 & 19 & 4 & 41.5 & 0.74 & 0.0 & 0.57 & 0.515215 & 0.0825216 \\\\\n",
       "\t20 & 20 & 4 & 42.5 & 0.75 & 0.0 & 0.8 & 0.163491 & 0.121528 \\\\\n",
       "\t21 & 21 & 5 & 45.0 & 0.9 & 0.7 & 0.15 & 0.323143 & 0.104367 \\\\\n",
       "\t22 & 22 & 5 & 46.0 & 0.92 & 0.716 & 0.1 & 0.393909 & 0.0648811 \\\\\n",
       "\t23 & 23 & 5 & 47.0 & 0.94 & 0.731 & 0.0 & 0.367604 & 0.0785466 \\\\\n",
       "\t24 & 24 & 5 & 48.0 & 0.95 & 0.738 & 0.0 & 0.361888 & 0.0685196 \\\\\n",
       "\t25 & 25 & 5 & 50.0 & 0.95 & 0.738 & 0.0 & 0.420387 & 0.123506 \\\\\n",
       "\\end{tabular}\n"
      ],
      "text/plain": [
       "\u001b[1m25×8 DataFrame\u001b[0m\n",
       "\u001b[1m Row \u001b[0m│\u001b[1m k     \u001b[0m\u001b[1m i     \u001b[0m\u001b[1m GWP     \u001b[0m\u001b[1m Theta   \u001b[0m\u001b[1m Per_Recycl \u001b[0m\u001b[1m Per_Comp \u001b[0m\u001b[1m GHG_ElecInd \u001b[0m\u001b[1m GHG_\u001b[0m ⋯\n",
       "\u001b[1m     \u001b[0m│\u001b[90m Int64 \u001b[0m\u001b[90m Int64 \u001b[0m\u001b[90m Float64 \u001b[0m\u001b[90m Float64 \u001b[0m\u001b[90m Float64    \u001b[0m\u001b[90m Float64  \u001b[0m\u001b[90m Float64     \u001b[0m\u001b[90m Floa\u001b[0m ⋯\n",
       "─────┼──────────────────────────────────────────────────────────────────────────\n",
       "   1 │     1      1     40.0     0.6        0.5       0.0       0.301222  0.16 ⋯\n",
       "   2 │     2      1     43.0     0.66       0.55      0.0       0.291677  0.14\n",
       "   3 │     3      1     45.5     0.68       0.567     0.0       0.323371  0.16\n",
       "   4 │     4      1     47.5     0.7        0.583     0.0       0.525025  0.15\n",
       "   5 │     5      2     30.0     0.4        0.0       0.2       0.308217  0.09 ⋯\n",
       "   6 │     6      2     32.0     0.48       0.0       0.24      0.419839  0.16\n",
       "   7 │     7      2     34.0     0.5        0.0       0.27      0.418893  0.13\n",
       "   8 │     8      2     38.0     0.52       0.0       0.34      0.530551  0.13\n",
       "   9 │     9      2     40.0     0.54       0.0       0.37      0.418593  0.14 ⋯\n",
       "  10 │    10      2     42.5     0.55       0.0       0.4       0.241192  0.17\n",
       "  11 │    11      3     42.5     0.6        0.6       0.3       0.299233  0.08\n",
       "  ⋮  │   ⋮      ⋮       ⋮        ⋮         ⋮          ⋮           ⋮            ⋱\n",
       "  16 │    16      4     39.0     0.69       0.0       0.531     0.473869  0.12\n",
       "  17 │    17      4     40.0     0.71       0.0       0.55      0.499872  0.15 ⋯\n",
       "  18 │    18      4     40.5     0.72       0.0       0.55      0.4039    0.17\n",
       "  19 │    19      4     41.5     0.74       0.0       0.57      0.515215  0.08\n",
       "  20 │    20      4     42.5     0.75       0.0       0.8       0.163491  0.12\n",
       "  21 │    21      5     45.0     0.9        0.7       0.15      0.323143  0.10 ⋯\n",
       "  22 │    22      5     46.0     0.92       0.716     0.1       0.393909  0.06\n",
       "  23 │    23      5     47.0     0.94       0.731     0.0       0.367604  0.07\n",
       "  24 │    24      5     48.0     0.95       0.738     0.0       0.361888  0.06\n",
       "  25 │    25      5     50.0     0.95       0.738     0.0       0.420387  0.12 ⋯\n",
       "\u001b[36m                                                     1 column and 4 rows omitted\u001b[0m"
      ]
     },
     "execution_count": 22,
     "metadata": {},
     "output_type": "execute_result"
    }
   ],
   "source": [
    "compromise"
   ]
  },
  {
   "cell_type": "code",
   "execution_count": 23,
   "id": "745182b6",
   "metadata": {},
   "outputs": [
    {
     "data": {
      "text/plain": [
       "5-element Vector{Float64}:\n",
       " 0.0\n",
       " 0.0\n",
       " 0.0\n",
       " 0.0\n",
       " 0.0"
      ]
     },
     "execution_count": 23,
     "metadata": {},
     "output_type": "execute_result"
    }
   ],
   "source": [
    "Matrix(inn_xrang[!,2:ncol(inn_xrang)])[:,1]"
   ]
  },
  {
   "cell_type": "code",
   "execution_count": 28,
   "id": "ee0bc861",
   "metadata": {},
   "outputs": [
    {
     "data": {
      "application/vnd.vegalite.v4+json": {
       "data": {
        "values": [
         {
          "value": 1,
          "variable": "a",
          "year": 2001
         },
         {
          "value": 1,
          "variable": "a",
          "year": 2002
         },
         {
          "value": 1,
          "variable": "a",
          "year": 2003
         },
         {
          "value": 1.5,
          "variable": "a",
          "year": 2004
         },
         {
          "value": 2,
          "variable": "a",
          "year": 2005
         },
         {
          "value": 3,
          "variable": "a",
          "year": 2006
         },
         {
          "value": 0.5,
          "variable": "b",
          "year": 2001
         },
         {
          "value": 0.6,
          "variable": "b",
          "year": 2002
         },
         {
          "value": 0.4,
          "variable": "b",
          "year": 2003
         },
         {
          "value": 0.3,
          "variable": "b",
          "year": 2004
         },
         {
          "value": 0.3,
          "variable": "b",
          "year": 2005
         },
         {
          "value": 0.2,
          "variable": "b",
          "year": 2006
         },
         {
          "value": 2,
          "variable": "c",
          "year": 2001
         },
         {
          "value": 1.8,
          "variable": "c",
          "year": 2002
         },
         {
          "value": 2.2,
          "variable": "c",
          "year": 2003
         },
         {
          "value": 3.3,
          "variable": "c",
          "year": 2004
         },
         {
          "value": 2.5,
          "variable": "c",
          "year": 2005
         },
         {
          "value": 1.8,
          "variable": "c",
          "year": 2006
         }
        ]
       },
       "encoding": {
        "color": {
         "field": "variable",
         "type": "nominal"
        },
        "x": {
         "field": "year",
         "type": "quantitative"
        },
        "y": {
         "field": "value",
         "stack": "zero",
         "type": "quantitative"
        }
       },
       "mark": "area"
      },
      "image/png": "[encoded data removed]",
      "image/svg+xml": [
       "<?xml version=\"1.0\" encoding=\"utf-8\"?>\n",
       "<!DOCTYPE svg PUBLIC \"-//W3C//DTD SVG 1.1//EN\" \"http://www.w3.org/Graphics/SVG/1.1/DTD/svg11.dtd\">\n",
       "<svg xmlns=\"http://www.w3.org/2000/svg\" xmlns:xlink=\"http://www.w3.org/1999/xlink\" version=\"1.1\" class=\"marks\" width=\"305\" height=\"242\" viewBox=\"0 0 305 242\"><rect width=\"305\" height=\"242\" fill=\"white\"/><g fill=\"none\" stroke-miterlimit=\"10\" transform=\"translate(33,5)\"><g class=\"mark-group role-frame root\" role=\"graphics-object\" aria-roledescription=\"group mark container\"><g transform=\"translate(0,0)\"><path class=\"background\" aria-hidden=\"true\" d=\"M0.5,0.5h200v200h-200Z\" stroke=\"#ddd\"/><g><g class=\"mark-group role-axis\" aria-hidden=\"true\"><g transform=\"translate(0.5,200.5)\"><path class=\"background\" aria-hidden=\"true\" d=\"M0,0h0v0h0Z\" pointer-events=\"none\"/><g><g class=\"mark-rule role-axis-grid\" pointer-events=\"none\"><line transform=\"translate(0,-200)\" x2=\"0\" y2=\"200\" stroke=\"#ddd\" stroke-width=\"1\" opacity=\"1\"/><line transform=\"translate(40,-200)\" x2=\"0\" y2=\"200\" stroke=\"#ddd\" stroke-width=\"1\" opacity=\"1\"/><line transform=\"translate(80,-200)\" x2=\"0\" y2=\"200\" stroke=\"#ddd\" stroke-width=\"1\" opacity=\"1\"/><line transform=\"translate(120,-200)\" x2=\"0\" y2=\"200\" stroke=\"#ddd\" stroke-width=\"1\" opacity=\"1\"/><line transform=\"translate(160,-200)\" x2=\"0\" y2=\"200\" stroke=\"#ddd\" stroke-width=\"1\" opacity=\"1\"/><line transform=\"translate(200,-200)\" x2=\"0\" y2=\"200\" stroke=\"#ddd\" stroke-width=\"1\" opacity=\"1\"/></g></g><path class=\"foreground\" aria-hidden=\"true\" d=\"\" pointer-events=\"none\" display=\"none\"/></g></g><g class=\"mark-group role-axis\" aria-hidden=\"true\"><g transform=\"translate(0.5,0.5)\"><path class=\"background\" aria-hidden=\"true\" d=\"M0,0h0v0h0Z\" pointer-events=\"none\"/><g><g class=\"mark-rule role-axis-grid\" pointer-events=\"none\"><line transform=\"translate(0,200)\" x2=\"200\" y2=\"0\" stroke=\"#ddd\" stroke-width=\"1\" opacity=\"1\"/><line transform=\"translate(0,164)\" x2=\"200\" y2=\"0\" stroke=\"#ddd\" stroke-width=\"1\" opacity=\"1\"/><line transform=\"translate(0,127)\" x2=\"200\" y2=\"0\" stroke=\"#ddd\" stroke-width=\"1\" opacity=\"1\"/><line transform=\"translate(0,91)\" x2=\"200\" y2=\"0\" stroke=\"#ddd\" stroke-width=\"1\" opacity=\"1\"/><line transform=\"translate(0,55)\" x2=\"200\" y2=\"0\" stroke=\"#ddd\" stroke-width=\"1\" opacity=\"1\"/><line transform=\"translate(0,18)\" x2=\"200\" y2=\"0\" stroke=\"#ddd\" stroke-width=\"1\" opacity=\"1\"/></g></g><path class=\"foreground\" aria-hidden=\"true\" d=\"\" pointer-events=\"none\" display=\"none\"/></g></g><g class=\"mark-group role-axis\" role=\"graphics-symbol\" aria-roledescription=\"axis\" aria-label=\"X-axis titled 'year' for a linear scale with values from 2,001 to 2,006\"><g transform=\"translate(0.5,200.5)\"><path class=\"background\" aria-hidden=\"true\" d=\"M0,0h0v0h0Z\" pointer-events=\"none\"/><g><g class=\"mark-rule role-axis-tick\" pointer-events=\"none\"><line transform=\"translate(0,0)\" x2=\"0\" y2=\"5\" stroke=\"#888\" stroke-width=\"1\" opacity=\"1\"/><line transform=\"translate(40,0)\" x2=\"0\" y2=\"5\" stroke=\"#888\" stroke-width=\"1\" opacity=\"1\"/><line transform=\"translate(80,0)\" x2=\"0\" y2=\"5\" stroke=\"#888\" stroke-width=\"1\" opacity=\"1\"/><line transform=\"translate(120,0)\" x2=\"0\" y2=\"5\" stroke=\"#888\" stroke-width=\"1\" opacity=\"1\"/><line transform=\"translate(160,0)\" x2=\"0\" y2=\"5\" stroke=\"#888\" stroke-width=\"1\" opacity=\"1\"/><line transform=\"translate(200,0)\" x2=\"0\" y2=\"5\" stroke=\"#888\" stroke-width=\"1\" opacity=\"1\"/></g><g class=\"mark-text role-axis-label\" pointer-events=\"none\"><text text-anchor=\"start\" transform=\"translate(0,15)\" font-family=\"sans-serif\" font-size=\"10px\" fill=\"#000\" opacity=\"1\">2,001</text><text text-anchor=\"middle\" transform=\"translate(40,15)\" font-family=\"sans-serif\" font-size=\"10px\" fill=\"#000\" opacity=\"0\">2,002</text><text text-anchor=\"middle\" transform=\"translate(80,15)\" font-family=\"sans-serif\" font-size=\"10px\" fill=\"#000\" opacity=\"1\">2,003</text><text text-anchor=\"middle\" transform=\"translate(120,15)\" font-family=\"sans-serif\" font-size=\"10px\" fill=\"#000\" opacity=\"0\">2,004</text><text text-anchor=\"middle\" transform=\"translate(160,15)\" font-family=\"sans-serif\" font-size=\"10px\" fill=\"#000\" opacity=\"1\">2,005</text><text text-anchor=\"end\" transform=\"translate(200,15)\" font-family=\"sans-serif\" font-size=\"10px\" fill=\"#000\" opacity=\"0\">2,006</text></g><g class=\"mark-rule role-axis-domain\" pointer-events=\"none\"><line transform=\"translate(0,0)\" x2=\"200\" y2=\"0\" stroke=\"#888\" stroke-width=\"1\" opacity=\"1\"/></g><g class=\"mark-text role-axis-title\" pointer-events=\"none\"><text text-anchor=\"middle\" transform=\"translate(100,30)\" font-family=\"sans-serif\" font-size=\"11px\" font-weight=\"bold\" fill=\"#000\" opacity=\"1\">year</text></g></g><path class=\"foreground\" aria-hidden=\"true\" d=\"\" pointer-events=\"none\" display=\"none\"/></g></g><g class=\"mark-group role-axis\" role=\"graphics-symbol\" aria-roledescription=\"axis\" aria-label=\"Y-axis titled 'value' for a linear scale with values from 0 to 6\"><g transform=\"translate(0.5,0.5)\"><path class=\"background\" aria-hidden=\"true\" d=\"M0,0h0v0h0Z\" pointer-events=\"none\"/><g><g class=\"mark-rule role-axis-tick\" pointer-events=\"none\"><line transform=\"translate(0,200)\" x2=\"-5\" y2=\"0\" stroke=\"#888\" stroke-width=\"1\" opacity=\"1\"/><line transform=\"translate(0,164)\" x2=\"-5\" y2=\"0\" stroke=\"#888\" stroke-width=\"1\" opacity=\"1\"/><line transform=\"translate(0,127)\" x2=\"-5\" y2=\"0\" stroke=\"#888\" stroke-width=\"1\" opacity=\"1\"/><line transform=\"translate(0,91)\" x2=\"-5\" y2=\"0\" stroke=\"#888\" stroke-width=\"1\" opacity=\"1\"/><line transform=\"translate(0,55)\" x2=\"-5\" y2=\"0\" stroke=\"#888\" stroke-width=\"1\" opacity=\"1\"/><line transform=\"translate(0,18)\" x2=\"-5\" y2=\"0\" stroke=\"#888\" stroke-width=\"1\" opacity=\"1\"/></g><g class=\"mark-text role-axis-label\" pointer-events=\"none\"><text text-anchor=\"end\" transform=\"translate(-7,203)\" font-family=\"sans-serif\" font-size=\"10px\" fill=\"#000\" opacity=\"1\">0</text><text text-anchor=\"end\" transform=\"translate(-7,166.63636363636363)\" font-family=\"sans-serif\" font-size=\"10px\" fill=\"#000\" opacity=\"1\">1</text><text text-anchor=\"end\" transform=\"translate(-7,130.27272727272725)\" font-family=\"sans-serif\" font-size=\"10px\" fill=\"#000\" opacity=\"1\">2</text><text text-anchor=\"end\" transform=\"translate(-7,93.90909090909092)\" font-family=\"sans-serif\" font-size=\"10px\" fill=\"#000\" opacity=\"1\">3</text><text text-anchor=\"end\" transform=\"translate(-7,57.54545454545454)\" font-family=\"sans-serif\" font-size=\"10px\" fill=\"#000\" opacity=\"1\">4</text><text text-anchor=\"end\" transform=\"translate(-7,21.181818181818187)\" font-family=\"sans-serif\" font-size=\"10px\" fill=\"#000\" opacity=\"1\">5</text></g><g class=\"mark-rule role-axis-domain\" pointer-events=\"none\"><line transform=\"translate(0,200)\" x2=\"0\" y2=\"-200\" stroke=\"#888\" stroke-width=\"1\" opacity=\"1\"/></g><g class=\"mark-text role-axis-title\" pointer-events=\"none\"><text text-anchor=\"middle\" transform=\"translate(-17,100) rotate(-90) translate(0,-2)\" font-family=\"sans-serif\" font-size=\"11px\" font-weight=\"bold\" fill=\"#000\" opacity=\"1\">value</text></g></g><path class=\"foreground\" aria-hidden=\"true\" d=\"\" pointer-events=\"none\" display=\"none\"/></g></g><g class=\"mark-group role-scope pathgroup\" role=\"graphics-object\" aria-roledescription=\"group mark container\"><g transform=\"translate(0,0)\"><path class=\"background\" aria-hidden=\"true\" d=\"M0,0h200v200h-200Z\"/><g><g class=\"mark-area role-mark marks\" role=\"graphics-object\" aria-roledescription=\"area mark container\"><path aria-label=\"year: 2001; value: 1; variable: a\" role=\"graphics-symbol\" aria-roledescription=\"area mark\" d=\"M0,72.72727272727273L40,76.36363636363637L80,69.0909090909091L120,14.54545454545455L160,25.454545454545464L200,18.181818181818187L200,127.27272727272727L160,98.18181818181819L120,69.09090909090911L80,105.45454545454547L40,112.72727272727275L0,109.09090909090908Z\" fill=\"#4c78a8\"/></g></g><path class=\"foreground\" aria-hidden=\"true\" d=\"\" display=\"none\"/></g><g transform=\"translate(0,0)\"><path class=\"background\" aria-hidden=\"true\" d=\"M0,0h200v200h-200Z\"/><g><g class=\"mark-area role-mark marks\" role=\"graphics-object\" aria-roledescription=\"area mark container\"><path aria-label=\"year: 2001; value: 0.5; variable: b\" role=\"graphics-symbol\" aria-roledescription=\"area mark\" d=\"M0,109.09090909090908L40,112.72727272727275L80,105.45454545454547L120,69.09090909090911L160,98.18181818181819L200,127.27272727272727L200,134.54545454545453L160,109.09090909090908L120,80L80,120L40,134.54545454545453L0,127.27272727272727Z\" fill=\"#f58518\"/></g></g><path class=\"foreground\" aria-hidden=\"true\" d=\"\" display=\"none\"/></g><g transform=\"translate(0,0)\"><path class=\"background\" aria-hidden=\"true\" d=\"M0,0h200v200h-200Z\"/><g><g class=\"mark-area role-mark marks\" role=\"graphics-object\" aria-roledescription=\"area mark container\"><path aria-label=\"year: 2001; value: 2; variable: c\" role=\"graphics-symbol\" aria-roledescription=\"area mark\" d=\"M0,127.27272727272727L40,134.54545454545453L80,120L120,80L160,109.09090909090908L200,134.54545454545453L200,200L160,200L120,200L80,200L40,200L0,200Z\" fill=\"#e45756\"/></g></g><path class=\"foreground\" aria-hidden=\"true\" d=\"\" display=\"none\"/></g></g><g class=\"mark-group role-legend\" role=\"graphics-symbol\" aria-roledescription=\"legend\" aria-label=\"Symbol legend titled 'variable' for fill color with 3 values: a, b, c\"><g transform=\"translate(218,0)\"><path class=\"background\" aria-hidden=\"true\" d=\"M0,0h49v53h-49Z\" pointer-events=\"none\"/><g><g class=\"mark-group role-legend-entry\"><g transform=\"translate(0,16)\"><path class=\"background\" aria-hidden=\"true\" d=\"M0,0h0v0h0Z\" pointer-events=\"none\"/><g><g class=\"mark-group role-scope\" role=\"graphics-object\" aria-roledescription=\"group mark container\"><g transform=\"translate(0,0)\"><path class=\"background\" aria-hidden=\"true\" d=\"M0,0h22v11h-22Z\" pointer-events=\"none\" opacity=\"1\"/><g><g class=\"mark-symbol role-legend-symbol\" pointer-events=\"none\"><path transform=\"translate(6,6)\" d=\"M5,0A5,5,0,1,1,-5,0A5,5,0,1,1,5,0\" fill=\"#4c78a8\" stroke-width=\"1.5\" opacity=\"1\"/></g><g class=\"mark-text role-legend-label\" pointer-events=\"none\"><text text-anchor=\"start\" transform=\"translate(16,9)\" font-family=\"sans-serif\" font-size=\"10px\" fill=\"#000\" opacity=\"1\">a</text></g></g><path class=\"foreground\" aria-hidden=\"true\" d=\"\" pointer-events=\"none\" display=\"none\"/></g><g transform=\"translate(0,13)\"><path class=\"background\" aria-hidden=\"true\" d=\"M0,0h22v11h-22Z\" pointer-events=\"none\" opacity=\"1\"/><g><g class=\"mark-symbol role-legend-symbol\" pointer-events=\"none\"><path transform=\"translate(6,6)\" d=\"M5,0A5,5,0,1,1,-5,0A5,5,0,1,1,5,0\" fill=\"#f58518\" stroke-width=\"1.5\" opacity=\"1\"/></g><g class=\"mark-text role-legend-label\" pointer-events=\"none\"><text text-anchor=\"start\" transform=\"translate(16,9)\" font-family=\"sans-serif\" font-size=\"10px\" fill=\"#000\" opacity=\"1\">b</text></g></g><path class=\"foreground\" aria-hidden=\"true\" d=\"\" pointer-events=\"none\" display=\"none\"/></g><g transform=\"translate(0,26)\"><path class=\"background\" aria-hidden=\"true\" d=\"M0,0h22v11h-22Z\" pointer-events=\"none\" opacity=\"1\"/><g><g class=\"mark-symbol role-legend-symbol\" pointer-events=\"none\"><path transform=\"translate(6,6)\" d=\"M5,0A5,5,0,1,1,-5,0A5,5,0,1,1,5,0\" fill=\"#e45756\" stroke-width=\"1.5\" opacity=\"1\"/></g><g class=\"mark-text role-legend-label\" pointer-events=\"none\"><text text-anchor=\"start\" transform=\"translate(16,9)\" font-family=\"sans-serif\" font-size=\"10px\" fill=\"#000\" opacity=\"1\">c</text></g></g><path class=\"foreground\" aria-hidden=\"true\" d=\"\" pointer-events=\"none\" display=\"none\"/></g></g></g><path class=\"foreground\" aria-hidden=\"true\" d=\"\" pointer-events=\"none\" display=\"none\"/></g></g><g class=\"mark-text role-legend-title\" pointer-events=\"none\"><text text-anchor=\"start\" transform=\"translate(0,9)\" font-family=\"sans-serif\" font-size=\"11px\" font-weight=\"bold\" fill=\"#000\" opacity=\"1\">variable</text></g></g><path class=\"foreground\" aria-hidden=\"true\" d=\"\" pointer-events=\"none\" display=\"none\"/></g></g></g><path class=\"foreground\" aria-hidden=\"true\" d=\"\" display=\"none\"/></g></g></g></svg>\n"
      ],
      "text/plain": [
       "@vlplot(\n",
       "    mark=\"area\",\n",
       "    encoding={\n",
       "        x={\n",
       "            field=\"year\"\n",
       "        },\n",
       "        y={\n",
       "            stack=\"zero\",\n",
       "            field=\"value\"\n",
       "        },\n",
       "        color={\n",
       "            field=\"variable\",\n",
       "            type=\"nominal\"\n",
       "        }\n",
       "    },\n",
       "    data={\n",
       "        values=...\n",
       "    }\n",
       ")"
      ]
     },
     "execution_count": 28,
     "metadata": {},
     "output_type": "execute_result"
    }
   ],
   "source": [
    "\n",
    "a = [1,1,1,1.5,2,3]\n",
    "b = [0.5,0.6,0.4,0.3,0.3,0.2]\n",
    "c = [2,1.8,2.2,3.3,2.5,1.8]\n",
    "sNames = [\"a\",\"b\",\"c\"]\n",
    "xLabels = [2001,2002,2003,2004,2005,2006]\n",
    "\n",
    "df = DataFrame(year=xLabels, a=a, b=b, c=c)\n",
    "\n",
    "df |> stack |> @vlplot(:area, x=:year, y={:value, stack=:zero}, color=\"variable:n\") "
   ]
  },
  {
   "cell_type": "code",
   "execution_count": 11,
   "id": "f69f8002-be30-4258-93bf-d9c0652c8b5c",
   "metadata": {},
   "outputs": [
    {
     "data": {
      "text/plain": [
       "tech_roadmap_mccormick_peicewise_iam (generic function with 1 method)"
      ]
     },
     "execution_count": 11,
     "metadata": {},
     "output_type": "execute_result"
    }
   ],
   "source": [
    "function tech_roadmap_mccormick_peicewise_iam()\n",
    "    \n",
    "    rdmap= Model(BARON.Optimizer)\n",
    "    set_optimizer_attribute(rdmap, \"MaxTime\", 2500)\n",
    "    \n",
    "    #Sets\n",
    "    # i: innovation\n",
    "    # k: compromise or pareto optimal solution\n",
    "    # r,c : row column of transition matrices\n",
    "    \n",
    "    #Declaration of variables\n",
    "    \n",
    "    #binary variable choosing the pareto optimal solution\n",
    "    @variable(rdmap,yk[k=1:nrow(compromise)],Bin)\n",
    "    #time at which a pareto optimal solution is chosen\n",
    "    @variable(rdmap,0 ≤ tk[k=1:nrow(compromise)] ≤ 50)\n",
    "    #percentage of functional unit that a pareto optimal solution takes up\n",
    "    @variable(rdmap,0 ≤ xk[k=1:nrow(compromise)] ≤ 1)\n",
    "    \n",
    "    #binary variable choosing which innovation to invest in for adoption\n",
    "    @variable(rdmap,yi[i=1:nrow(innovations)],Bin)\n",
    "    #time at which invested is made and innovation made adoptible\n",
    "    @variable(rdmap,0 ≤ ti[i=1:nrow(innovations)] ≤ 50)\n",
    "    #readiness level state value of ith innovation\n",
    "    @variable(rdmap, s[i=1:nrow(innovations)] )\n",
    "    \n",
    "    #CO2 at 2050 target\n",
    "    @variable(rdmap, co2_2050 ≥ 0)\n",
    "    \n",
    "    #circularity at 2030 target\n",
    "    @variable(rdmap, theta_2030 ≥ 0)\n",
    "    #recycled content at 2030 target\n",
    "    @variable(rdmap, recycl_2030 ≥ 0)\n",
    "    #compostable content at 2030 target\n",
    "    @variable(rdmap, comp_2030 ≥ 0)\n",
    "    \n",
    "    #integral approximator of CO2\n",
    "    @variable(rdmap, co2_tot ≥ 0)\n",
    "    \n",
    "    #cost incured in investing to adopt\n",
    "    @variable(rdmap, 0 ≤ cost_inn)\n",
    "    \n",
    "    #surrogate models\n",
    "    @variable(rdmap,f_fit[i=1:nrow(innovations)] ≥ 0)\n",
    "    @variable(rdmap,co2_factor[k=1:nrow(compromise)]≥ 0)\n",
    "    @variable(rdmap,co2_corrected[k=1:nrow(compromise)]≥ 0)\n",
    "\n",
    "    for i in 1:nrow(innovations)\n",
    "        f_fit[i] = piecewiselinear(rdmap, ti[i], Matrix(inn_xrang[!,2:ncol(inn_xrang)])[i,:],Matrix(inn_yrang[!,2:ncol(inn_yrang)])[i,:])\n",
    "    end\n",
    "    \n",
    "    for k in 1:nrow(compromise)\n",
    "        co2_factor[k] = (piecewiselinear(rdmap, tk[k], Matrix(iam_model[!,1:1])[:,1],Matrix(iam_model[!,2:2])[:,1]))\n",
    "    end\n",
    "    \n",
    "    @constraint(rdmap, [k=1:nrow(compromise)], co2_corrected[k] == \n",
    "        compromise[k,3]*((1-compromise[k,7]) + compromise[k,7]*(1-co2_factor[k])))\n",
    "    \n",
    "    #Constraints\n",
    "    \n",
    "    \n",
    "    #Planning optimization constraints    \n",
    "    #only one compromise solution chosen on each pareto front, and chosen only if investment made in ith front\n",
    "    @constraint(rdmap, [i=1], sum(yk[k] for k=1:mapki[i,2])==yi[i])\n",
    "    @constraint(rdmap, [i=2:nrow(mapki)], sum(yk[k] for k=mapki[i-1,2]:mapki[i,2])==yi[i])\n",
    "    \n",
    "    #one can pick a compromise solution from ith front to satisfy functional unit only after investment in ith innovation made\n",
    "    @constraint(rdmap, [i=1], ti[i] ≤ sum(tk[k] for k=1:mapki[i,2]))\n",
    "    @constraint(rdmap, [i=2:nrow(mapki)], ti[i] ≤ sum(tk[k] for k=mapki[i-1,2]:mapki[i,2]))\n",
    "    \n",
    "    #if innovation invested in, time has to be between 0 and fifty, otherwise 0\n",
    "    @constraint(rdmap, [i=1:nrow(mapki)], 50*yi[i] ≥ ti[i])\n",
    "    #if compromise solution chosen, time has to be between 0 and fifty, otherwise 0\n",
    "    @constraint(rdmap, [k=1:nrow(compromise)], 50*yk[k] ≥ tk[k])\n",
    "    \n",
    "    #if innovation invested in, time has to be between 0 and fifty, otherwise 0\n",
    "    #@constraint(rdmap, [i=1:nrow(mapki)], 50*yi[i] ≤ ti[i])\n",
    "    #if compromise solution chosen, time has to be between 0 and fifty, otherwise 0\n",
    "    #@constraint(rdmap, [k=1:nrow(compromise)], 50*yk[k] ≤ tk[k])\n",
    "    \n",
    "    \n",
    "    #functional unit allocation to innovation iff compromise solution chosen\n",
    "    @constraint(rdmap, [k=1:nrow(compromise)], yk[k] ≥ xk[k])\n",
    "    \n",
    "    #total fraction of functional unit satisfied by innovative compromise solutions <1\n",
    "    @constraint(rdmap, sum(xk[k] for k in 1:nrow(compromise)) ≤ 1) \n",
    "    \n",
    "    #co2 at 2050 target formulated based on distribution of functional unit to various pareto solutions from innovative and conventional fronts\n",
    "    @constraint(rdmap, co2_2050==sum(xk[k]*co2_corrected[k] for k in 1:nrow(compromise))\n",
    "        + (1-sum(xk[k] for k in 1:nrow(compromise)))*initial[1,3])\n",
    "    \n",
    "    #tk < 30\n",
    "    @variable(rdmap, zk_2030[k=1:nrow(compromise)], Bin)\n",
    "    @constraint(rdmap, [k=1:nrow(compromise)], 50*(1-zk_2030[k]) ≥ tk[k]-40)\n",
    "    \n",
    "    #circularity at 2030 target\n",
    "    @constraint(rdmap, theta_2030==sum(xk[k]*compromise[k,4]*(zk_2030[k]) for k in 1:nrow(compromise))\n",
    "        + (1-sum(xk[k]*(zk_2030[k]) for k in 1:nrow(compromise)))*initial[1,4])\n",
    "    \n",
    "    #recyclable content at 2030 target\n",
    "    @constraint(rdmap, recycl_2030==sum(xk[k]*compromise[k,5]*(zk_2030[k]) for k in 1:nrow(compromise))\n",
    "        + (1-sum(xk[k]*(zk_2030[k]) for k in 1:nrow(compromise)))*initial[1,5])\n",
    "    \n",
    "    #compostable at 2030 target\n",
    "    @constraint(rdmap, comp_2030==sum(xk[k]*compromise[k,6]*(zk_2030[k]) for k in 1:nrow(compromise))\n",
    "        + (1-sum(xk[k]*(zk_2030[k]) for k in 1:nrow(compromise)))*initial[1,6])\n",
    "    \n",
    "    \n",
    "    #Time evolution of innovation\n",
    "   \n",
    "    \n",
    "    #Integral approximation of co2 emitted during the entire time horizon\n",
    "    \n",
    "    #mccormick envelopes reduces computational time by 3 fold (see previous formulation for actual bilinear integral approximation)\n",
    "    @variable(rdmap,0 ≤ wk[k=1:nrow(compromise)])\n",
    "    @constraint(rdmap,[k=1:nrow(compromise)],wk[k] ≥ 50*xk[k]+tk[k]-50)\n",
    "    @constraint(rdmap,[k=1:nrow(compromise)],wk[k] ≤ 50*xk[k])\n",
    "    @constraint(rdmap,[k=1:nrow(compromise)],wk[k] ≤ tk[k])\n",
    "    \n",
    "    @NLconstraint(rdmap, co2_tot == 50*initial[1,3]-sum((50-tk[k])*xk[k]*(initial[1,3]-co2_corrected[k]) for k in 1:nrow(compromise)))\n",
    "    #@constraint(rdmap, co2_tot == 50*initial[1,3]-sum((50*xk[k]-wk[k])*(initial[1,3]-compromise[k,3]) for k in 1:nrow(compromise)))\n",
    "\n",
    "    #setting target for 2050 co2 pledge\n",
    "    @constraint(rdmap, co2_2050 ≤ 30)\n",
    "    \n",
    "    #setting target for 2030 circularity pledge\n",
    "    #@constraint(rdmap, theta_2030 ≥ 0.72)\n",
    "    \n",
    "    #setting target for 2030 recycl pledge\n",
    "    @constraint(rdmap, recycl_2030 ≥ 0.3)\n",
    "    \n",
    "    #setting target for 2030 comp pledge\n",
    "    @constraint(rdmap, comp_2030 ≥ 0.45)\n",
    "    \n",
    "    \n",
    "\n",
    "\n",
    "    \n",
    "    @NLconstraint(rdmap, cost_inn == sum(ci[i]*(yi[i]*f_fit[i]) for i in 1:nrow(innovations)))\n",
    "                \n",
    "\n",
    "    \n",
    "    @constraint(rdmap, [i=1:nrow(innovations)],s[i]==f_fit[i])\n",
    "    \n",
    "    #@variable(rdmap, y1, Bin)\n",
    "    #@NLconstraint(rdmap, cost_inn == sum(ci[i]*(yi[i]*(y1*(2*t/50)+(1-y1)*(3*t/50))) for i in 1:nrow(innovations)))\n",
    "    \n",
    "    \n",
    "\n",
    "    #definining objective function as investment cost + Co2 emission cost during the time horizon\n",
    "    #40*0.001*co2_tot+\n",
    "    #@NLconstraint(rdmap, obj_val == cost_inn)\n",
    "    @NLobjective(rdmap,Min, 120*0.001*co2_tot+cost_inn)\n",
    "    #supplying lower bound on objective based on cost_inn optimal\n",
    "    #@variable(rdmap, obj_val ≥ 180)\n",
    "    #print(rdmap)\n",
    "    optimize!(rdmap)\n",
    "    \n",
    "    return JuMP.value.(yk), JuMP.value.(tk), JuMP.value.(xk), JuMP.value.(yi), JuMP.value.(ti), \n",
    "        JuMP.value.(s), JuMP.value.(co2_2050), JuMP.value.(cost_inn), JuMP.value.(co2_tot), JuMP.value.(co2_corrected)\n",
    "end\n",
    "\n",
    "\n"
   ]
  },
  {
   "cell_type": "code",
   "execution_count": 12,
   "id": "b38ffbcb",
   "metadata": {},
   "outputs": [
    {
     "name": "stdout",
     "output_type": "stream",
     "text": [
      "===========================================================================\n",
      " BARON version 21.1.13. Built: LNX-64 Wed Jan 13 16:09:31 EST 2021\n",
      "\n",
      " BARON is a product of The Optimization Firm.\n",
      " For information on BARON, see https://minlp.com/about-baron\n",
      " Licensee: Bhavik R. Bakshi at The Ohio State University, bakshi.2@osu.edu.\n",
      "\n",
      " If you use this software, please cite publications from\n",
      " https://minlp.com/baron-publications, such as: \n",
      "\n",
      " Kilinc, M. and N. V. Sahinidis, Exploiting integrality in the global\n",
      " optimization of mixed-integer nonlinear programming problems in BARON,\n",
      " Optimization Methods and Software, 33, 540-562, 2018.\n",
      "===========================================================================\n",
      " This BARON run may utilize the following subsolver(s)\n",
      " For LP/MIP/QP: CLP/CBC                                         \n",
      " For NLP: IPOPT, FILTERSD, FILTERSQP\n",
      "===========================================================================\n",
      " Doing local search\n",
      " Unable to find/load CPLEX library libcplex.so: cannot open shared object file: No such file or directory\n",
      " Unable to find/load CPLEX library libcplex2010.so: cannot open shared object file: No such file or directory\n",
      " Solving bounding LP\n",
      " Starting multi-start local search\n",
      " Preprocessing found feasible solution with value  688.286972678     \n",
      " Done with local search\n",
      "===========================================================================\n",
      "  Iteration    Open nodes         Time (s)    Lower bound      Upper bound\n",
      "          1             1             1.34     660.633          688.287    \n",
      "*         8             2             1.50     687.976          687.978    \n",
      "          9             0             1.50     687.977          687.978    \n",
      "\n",
      " Calculating duals\n",
      "\n",
      "                         *** Normal completion ***            \n",
      "\n",
      " Wall clock time:                     2.35\n",
      " Total CPU time used:                 1.50\n",
      "\n",
      " Total no. of BaR iterations:       9\n",
      " Best solution found at node:       8\n",
      " Max. no. of nodes in memory:       3\n",
      " \n",
      " All done\n",
      "===========================================================================\n"
     ]
    },
    {
     "data": {
      "text/plain": [
       "5-element Vector{Float64}:\n",
       " 0.0\n",
       " 0.0\n",
       " 1.0\n",
       " 1.0\n",
       " 0.0"
      ]
     },
     "execution_count": 12,
     "metadata": {},
     "output_type": "execute_result"
    }
   ],
   "source": [
    "yk, tk, xk, yi, ti, s, co2, costInn, co2tot, co2fac=tech_roadmap_mccormick_peicewise_iam()\n",
    "yi\n"
   ]
  },
  {
   "cell_type": "code",
   "execution_count": 49,
   "id": "ae8650f9",
   "metadata": {},
   "outputs": [
    {
     "data": {
      "text/plain": [
       "25-element Vector{Float64}:\n",
       "  0.0\n",
       "  0.0\n",
       "  0.0\n",
       "  0.0\n",
       "  0.0\n",
       "  0.0\n",
       "  0.0\n",
       "  0.0\n",
       "  0.0\n",
       "  0.0\n",
       "  0.0\n",
       " 16.24999999999999\n",
       "  0.0\n",
       "  0.0\n",
       "  0.0\n",
       "  0.0\n",
       "  0.0\n",
       "  0.0\n",
       "  0.0\n",
       "  0.0\n",
       "  0.0\n",
       "  0.0\n",
       "  0.0\n",
       "  0.0\n",
       "  0.0"
      ]
     },
     "execution_count": 49,
     "metadata": {},
     "output_type": "execute_result"
    }
   ],
   "source": [
    "tk"
   ]
  },
  {
   "cell_type": "code",
   "execution_count": 50,
   "id": "ed2543fc",
   "metadata": {},
   "outputs": [
    {
     "data": {
      "text/plain": [
       "25-element Vector{Float64}:\n",
       " 0.0\n",
       " 0.0\n",
       " 0.0\n",
       " 0.0\n",
       " 0.0\n",
       " 0.0\n",
       " 0.0\n",
       " 0.0\n",
       " 0.0\n",
       " 0.0\n",
       " 0.0\n",
       " 0.5454545454545451\n",
       " 0.0\n",
       " 0.0\n",
       " 0.0\n",
       " 0.0\n",
       " 0.454545454545455\n",
       " 0.0\n",
       " 0.0\n",
       " 0.0\n",
       " 0.0\n",
       " 0.0\n",
       " 0.0\n",
       " 0.0\n",
       " 0.0"
      ]
     },
     "execution_count": 50,
     "metadata": {},
     "output_type": "execute_result"
    }
   ],
   "source": [
    "xk"
   ]
  },
  {
   "cell_type": "code",
   "execution_count": 21,
   "id": "ecd585d8",
   "metadata": {},
   "outputs": [],
   "source": [
    "using Gurobi"
   ]
  },
  {
   "cell_type": "code",
   "execution_count": 30,
   "id": "4252ef1e",
   "metadata": {},
   "outputs": [
    {
     "data": {
      "text/plain": [
       "tech_roadmap_mccormick_peicewise_iam_breakpts (generic function with 1 method)"
      ]
     },
     "execution_count": 30,
     "metadata": {},
     "output_type": "execute_result"
    }
   ],
   "source": [
    "function tech_roadmap_mccormick_peicewise_iam_breakpts()\n",
    "    \n",
    "    rdmap= Model(BARON.Optimizer)\n",
    "    set_optimizer_attribute(rdmap, \"MaxTime\", 2500)\n",
    "    \n",
    "    #Sets\n",
    "    # i: innovation\n",
    "    # k: compromise or pareto optimal solution\n",
    "    # r,c : row column of transition matrices\n",
    "    B=3\n",
    "    #Declaration of variables\n",
    "    \n",
    "    #binary variable choosing the pareto optimal solution\n",
    "    @variable(rdmap,yk[b=1:B,k=1:nrow(compromise)],Bin)\n",
    "    #time at which a pareto optimal solution is chosen\n",
    "    @variable(rdmap,0 ≤ tk[b=1:B,k=1:nrow(compromise)] ≤ 50)\n",
    "    #percentage of functional unit that a pareto optimal solution takes up\n",
    "    @variable(rdmap,0 ≤ xk[b=1:B,k=1:nrow(compromise)] ≤ 1)\n",
    "    \n",
    "    #binary variable choosing which innovation to invest in for adoption\n",
    "    @variable(rdmap,yi[i=1:nrow(innovations)],Bin)\n",
    "    #time at which invested is made and innovation made adoptible\n",
    "    @variable(rdmap,0 ≤ ti[i=1:nrow(innovations)] ≤ 50)\n",
    "    #readiness level state value of ith innovation\n",
    "    @variable(rdmap, s[i=1:nrow(innovations)] )\n",
    "    \n",
    "    #CO2 at 2050 target\n",
    "    @variable(rdmap, co2_2050 ≥ 0)\n",
    "    \n",
    "    #circularity at 2030 target\n",
    "    @variable(rdmap, theta_2030 ≥ 0)\n",
    "    #recycled content at 2030 target\n",
    "    @variable(rdmap, recycl_2030 ≥ 0)\n",
    "    #compostable content at 2030 target\n",
    "    @variable(rdmap, comp_2030 ≥ 0)\n",
    "    \n",
    "    #integral approximator of CO2\n",
    "    @variable(rdmap, co2_tot ≥ 0)\n",
    "    \n",
    "    #cost incured in investing to adopt\n",
    "    @variable(rdmap, 0 ≤ cost_inn)\n",
    "    \n",
    "    #surrogate models\n",
    "    @variable(rdmap,f_fit[i=1:nrow(innovations)] ≥ 0)\n",
    "    @variable(rdmap,co2_factor[b=1:B,k=1:nrow(compromise)]≥ 0)\n",
    "    @variable(rdmap,co2_corrected[b=1:B,k=1:nrow(compromise)]≥ 0)\n",
    "\n",
    "    for i in 1:nrow(innovations)\n",
    "        f_fit[i] = piecewiselinear(rdmap, ti[i], Matrix(inn_xrang[!,2:ncol(inn_xrang)])[i,:],Matrix(inn_yrang[!,2:ncol(inn_yrang)])[i,:])\n",
    "    end\n",
    "    \n",
    "    for b in 1:B\n",
    "        for k in 1:nrow(compromise)\n",
    "            co2_factor[b,k] = (piecewiselinear(rdmap, tk[b,k], Matrix(iam_model[!,1:1])[:,1],Matrix(iam_model[!,2:2])[:,1]))\n",
    "        end\n",
    "    end\n",
    "    \n",
    "    @constraint(rdmap, [b=1:B,k=1:nrow(compromise)], co2_corrected[b,k] == \n",
    "        compromise[k,3]*((1-compromise[k,7]) + compromise[k,7]*(1-co2_factor[b,k])))\n",
    "    \n",
    "    #Constraints\n",
    "    \n",
    "    \n",
    "    #Planning optimization constraints    \n",
    "    #only one compromise solution chosen on each pareto front, and chosen only if investment made in ith front\n",
    "    @constraint(rdmap, [i=1], sum(yk[b,k] for k=1:mapki[i,2],b=1:B)≥ yi[i])\n",
    "    @constraint(rdmap, [i=2:nrow(mapki)], sum(yk[b,k] for k=mapki[i-1,2]:mapki[i,2],b=1:B) ≥ yi[i])\n",
    "    #@constraint(rdmap, [i=1,b=1:B], sum(yk[b,k] for k=1:mapki[i,2]) ≤ 1 )\n",
    "    #@constraint(rdmap, [i=2:nrow(mapki),b=1:B], sum(yk[b,k] for k=mapki[i-1,2]:mapki[i,2]) ≤ 1)\n",
    "    \n",
    "    #one can pick a compromise solution from ith front to satisfy functional unit only after investment in ith innovation made\n",
    "    @constraint(rdmap, [i=1], ti[i] ≤ sum(tk[b,k] for k=1:mapki[i,2],b=1:B))\n",
    "    @constraint(rdmap, [i=2:nrow(mapki)], ti[i] ≤ sum(tk[b,k] for k=mapki[i-1,2]:mapki[i,2],b=1:B))\n",
    "    \n",
    "    #if innovation invested in, time has to be between 0 and fifty, otherwise 0\n",
    "    @constraint(rdmap, [i=1:nrow(mapki)], 50*yi[i] ≥ ti[i])\n",
    "    #if compromise solution chosen, time has to be between 0 and fifty, otherwise 0\n",
    "    @constraint(rdmap, [b=1:B,k=1:nrow(compromise)], 50*yk[b,k] ≥tk[b,k])\n",
    "    @constraint(rdmap, [b=1:B,k=1:nrow(compromise)], (b-1)*50 ≤ B*tk[b,k] ≤ b*50)\n",
    "\n",
    "    \n",
    "    \n",
    "    #if innovation invested in, time has to be between 0 and fifty, otherwise 0\n",
    "    #@constraint(rdmap, [i=1:nrow(mapki)], 50*yi[i] ≤ ti[i])\n",
    "    #if compromise solution chosen, time has to be between 0 and fifty, otherwise 0\n",
    "    #@constraint(rdmap, [k=1:nrow(compromise)], 50*yk[k] ≤ tk[k])\n",
    "    \n",
    "    \n",
    "    #functional unit allocation to innovation iff compromise solution chosen\n",
    "    @constraint(rdmap, [b=1:B,k=1:nrow(compromise)], yk[b,k] ≥ xk[b,k])\n",
    "    \n",
    "    #total fraction of functional unit satisfied by innovative compromise solutions <1\n",
    "    @constraint(rdmap, sum(xk[b,k] for k in 1:nrow(compromise),b in 1:B) ≤ 1) \n",
    "    \n",
    "    #co2 at 2050 target formulated based on distribution of functional unit to various pareto solutions from innovative and conventional fronts\n",
    "    @constraint(rdmap, co2_2050==sum(xk[B,k]*co2_corrected[B,k] for k in 1:nrow(compromise))\n",
    "        + (1-sum(xk[B,k] for k in 1:nrow(compromise)))*initial[1,3])\n",
    "    \n",
    "    #tk < 30\n",
    "    @variable(rdmap, zk_2030[b=1:B,k=1:nrow(compromise)], Bin)\n",
    "    @constraint(rdmap, [b=1:B,k=1:nrow(compromise)], 50*(1-zk_2030[b,k]) ≥ tk[b,k]-40)\n",
    "    \n",
    "    #circularity at 2030 target\n",
    "    @constraint(rdmap, theta_2030==sum(xk[b,k]*compromise[k,4]*(zk_2030[b,k]) for k in 1:nrow(compromise),b in 1:B)\n",
    "        + (1-sum(xk[b,k]*(zk_2030[b,k]) for k in 1:nrow(compromise),b in 1:B))*initial[1,4])\n",
    "    \n",
    "    #recyclable content at 2030 target\n",
    "    @constraint(rdmap, recycl_2030==sum(xk[b,k]*compromise[k,5]*(zk_2030[b,k]) for k in 1:nrow(compromise),b in 1:B)\n",
    "        + (1-sum(xk[b,k]*(zk_2030[b,k]) for k in 1:nrow(compromise),b=1:B))*initial[1,5])\n",
    "    \n",
    "    #compostable at 2030 target\n",
    "    @constraint(rdmap, comp_2030==sum(xk[b,k]*compromise[k,6]*(zk_2030[b,k]) for k in 1:nrow(compromise),b in 1:B)\n",
    "        + (1-sum(xk[b,k]*(zk_2030[b,k]) for k in 1:nrow(compromise),b in 1:B))*initial[1,6])\n",
    "    \n",
    "    \n",
    "    #Time evolution of innovation\n",
    "   \n",
    "    \n",
    "    #Integral approximation of co2 emitted during the entire time horizon\n",
    "    \n",
    "    #mccormick envelopes reduces computational time by 3 fold (see previous formulation for actual bilinear integral approximation)\n",
    "    #@variable(rdmap,0 ≤ wk[k=1:nrow(compromise)])\n",
    "    #@constraint(rdmap,[k=1:nrow(compromise)],wk[k] ≥ 50*xk[k]+tk[k]-50)\n",
    "    #@constraint(rdmap,[k=1:nrow(compromise)],wk[k] ≤ 50*xk[k])\n",
    "    #@constraint(rdmap,[k=1:nrow(compromise)],wk[k] ≤ tk[k])\n",
    "    \n",
    "    #@NLconstraint(rdmap, co2_tot == 50*initial[1,3]-sum((50-tk[b,k])*xk[b,k]*(initial[1,3]-co2_corrected[b,k]) for k in 1:nrow(compromise), b in 1:B))\n",
    "    #@constraint(rdmap, co2_tot == 50*initial[1,3]-sum((50*xk[k]-wk[k])*(initial[1,3]-compromise[k,3]) for k in 1:nrow(compromise)))\n",
    "\n",
    "    #setting target for 2050 co2 pledge\n",
    "    @constraint(rdmap, co2_2050 ≤ 30)\n",
    "    \n",
    "    #setting target for 2030 circularity pledge\n",
    "    #@constraint(rdmap, theta_2030 ≥ 0.72)\n",
    "    \n",
    "    #setting target for 2030 recycl pledge\n",
    "    @constraint(rdmap, recycl_2030 ≥ 0.3)\n",
    "    \n",
    "    #setting target for 2030 comp pledge\n",
    "    @constraint(rdmap, comp_2030 ≥ 0.45)\n",
    "    \n",
    "    \n",
    "\n",
    "\n",
    "    \n",
    "    @constraint(rdmap, cost_inn == sum(ci[i]*(yi[i]*f_fit[i]) for i in 1:nrow(innovations)))\n",
    "                \n",
    "\n",
    "    \n",
    "    @constraint(rdmap, [i=1:nrow(innovations)],s[i]==f_fit[i])\n",
    "    \n",
    "    #@variable(rdmap, y1, Bin)\n",
    "    #@NLconstraint(rdmap, cost_inn == sum(ci[i]*(yi[i]*(y1*(2*t/50)+(1-y1)*(3*t/50))) for i in 1:nrow(innovations)))\n",
    "    \n",
    "    \n",
    "\n",
    "    #definining objective function as investment cost + Co2 emission cost during the time horizon\n",
    "    #40*0.001*co2_tot+\n",
    "    #@NLconstraint(rdmap, obj_val == cost_inn)\n",
    "    @objective(rdmap,Min, 120*0.001*co2_tot+cost_inn)\n",
    "    #supplying lower bound on objective based on cost_inn optimal\n",
    "    #@variable(rdmap, obj_val ≥ 180)\n",
    "    #print(rdmap)\n",
    "    optimize!(rdmap)\n",
    "    \n",
    "    return JuMP.value.(yk), JuMP.value.(tk), JuMP.value.(xk), JuMP.value.(yi), JuMP.value.(ti), \n",
    "        JuMP.value.(s), JuMP.value.(co2_2050), JuMP.value.(cost_inn), JuMP.value.(co2_tot), JuMP.value.(co2_corrected)\n",
    "end\n",
    "\n",
    "\n"
   ]
  },
  {
   "cell_type": "code",
   "execution_count": 31,
   "id": "bee60301",
   "metadata": {},
   "outputs": [
    {
     "name": "stdout",
     "output_type": "stream",
     "text": [
      "===========================================================================\n",
      " BARON version 21.1.13. Built: LNX-64 Wed Jan 13 16:09:31 EST 2021\n",
      "\n",
      " BARON is a product of The Optimization Firm.\n",
      " For information on BARON, see https://minlp.com/about-baron\n",
      " Licensee: Bhavik R. Bakshi at The Ohio State University, bakshi.2@osu.edu.\n",
      "\n",
      " If you use this software, please cite publications from\n",
      " https://minlp.com/baron-publications, such as: \n",
      "\n",
      " Kilinc, M. and N. V. Sahinidis, Exploiting integrality in the global\n",
      " optimization of mixed-integer nonlinear programming problems in BARON,\n",
      " Optimization Methods and Software, 33, 540-562, 2018.\n",
      "===========================================================================\n",
      " This BARON run may utilize the following subsolver(s)\n",
      " For LP/MIP/QP: CLP/CBC                                         \n",
      " For NLP: IPOPT, FILTERSD, FILTERSQP\n",
      "===========================================================================\n",
      " Doing local search\n",
      " Unable to find/load CPLEX library libcplex.so: cannot open shared object file: No such file or directory\n",
      " Unable to find/load CPLEX library libcplex2010.so: cannot open shared object file: No such file or directory\n",
      " Solving bounding LP\n",
      " Starting multi-start local search\n",
      " Done with local search\n",
      "===========================================================================\n",
      "  Iteration    Open nodes         Time (s)    Lower bound      Upper bound\n",
      "          1             1             1.41      0.00000        0.100000E+52\n"
     ]
    },
    {
     "name": "stderr",
     "output_type": "stream",
     "text": [
      "BARON: Cntrl-C Abort\n"
     ]
    },
    {
     "ename": "LoadError",
     "evalue": "failed process: Process(`\u001b[4m/home/thakker.8/.local/share/baron-lin64/baron\u001b[24m \u001b[4m/tmp/jl_ujfjJs/baron_problem.bar\u001b[24m`, ProcessExited(130)) [130]\n",
     "output_type": "error",
     "traceback": [
      "failed process: Process(`\u001b[4m/home/thakker.8/.local/share/baron-lin64/baron\u001b[24m \u001b[4m/tmp/jl_ujfjJs/baron_problem.bar\u001b[24m`, ProcessExited(130)) [130]\n",
      "",
      "Stacktrace:",
      "  [1] pipeline_error",
      "    @ ./process.jl:525 [inlined]",
      "  [2] run(::Cmd; wait::Bool)",
      "    @ Base ./process.jl:440",
      "  [3] run",
      "    @ ./process.jl:438 [inlined]",
      "  [4] optimize!",
      "    @ ~/.julia/packages/BARON/nEHtU/src/MOI_wrapper.jl:57 [inlined]",
      "  [5] optimize!(b::MathOptInterface.Bridges.LazyBridgeOptimizer{BARON.Optimizer})",
      "    @ MathOptInterface.Bridges ~/.julia/packages/MathOptInterface/YDdD3/src/Bridges/bridge_optimizer.jl:319",
      "  [6] optimize!(m::MathOptInterface.Utilities.CachingOptimizer{MathOptInterface.AbstractOptimizer, MathOptInterface.Utilities.UniversalFallback{MathOptInterface.Utilities.GenericModel{Float64, MathOptInterface.Utilities.ModelFunctionConstraints{Float64}}}})",
      "    @ MathOptInterface.Utilities ~/.julia/packages/MathOptInterface/YDdD3/src/Utilities/cachingoptimizer.jl:252",
      "  [7] optimize!(model::Model, optimizer_factory::Nothing; bridge_constraints::Bool, ignore_optimize_hook::Bool, kwargs::Base.Iterators.Pairs{Union{}, Union{}, Tuple{}, NamedTuple{(), Tuple{}}})",
      "    @ JuMP ~/.julia/packages/JuMP/qhoVb/src/optimizer_interface.jl:130",
      "  [8] optimize! (repeats 2 times)",
      "    @ ~/.julia/packages/JuMP/qhoVb/src/optimizer_interface.jl:106 [inlined]",
      "  [9] tech_roadmap_mccormick_peicewise_iam_breakpts()",
      "    @ Main ./In[30]:164",
      " [10] top-level scope",
      "    @ In[31]:1",
      " [11] eval",
      "    @ ./boot.jl:360 [inlined]",
      " [12] include_string(mapexpr::typeof(REPL.softscope), mod::Module, code::String, filename::String)",
      "    @ Base ./loading.jl:1116"
     ]
    }
   ],
   "source": [
    "yk, tk, xk, yi, ti, s, co2, costInn, co2tot, co2fac=tech_roadmap_mccormick_peicewise_iam_breakpts()\n",
    "yi\n"
   ]
  },
  {
   "cell_type": "code",
   "execution_count": 31,
   "id": "f594a0b6",
   "metadata": {},
   "outputs": [
    {
     "data": {
      "text/plain": [
       "3×25 Matrix{Float64}:\n",
       " 0.0  0.0  0.0  0.0  0.0   0.0  0.0  …  0.0  0.0  0.0  0.0  0.0  0.0  0.0\n",
       " 0.0  0.0  0.0  0.0  0.0   0.0  0.0     0.0  0.0  0.0  0.0  0.0  0.0  0.0\n",
       " 0.0  0.0  0.0  0.0  0.0  10.0  0.0     0.0  0.0  0.0  0.0  0.0  0.0  0.0"
      ]
     },
     "execution_count": 31,
     "metadata": {},
     "output_type": "execute_result"
    }
   ],
   "source": [
    "tk"
   ]
  },
  {
   "cell_type": "code",
   "execution_count": 42,
   "id": "6c7748a4",
   "metadata": {},
   "outputs": [
    {
     "data": {
      "text/plain": [
       "25-element Vector{Float64}:\n",
       " 0.0\n",
       " 0.0\n",
       " 0.0\n",
       " 0.0\n",
       " 0.0\n",
       " 9.999999999999998\n",
       " 0.0\n",
       " 0.0\n",
       " 0.0\n",
       " 0.0\n",
       " 0.0\n",
       " 0.0\n",
       " 0.0\n",
       " 0.0\n",
       " 0.0\n",
       " 0.0\n",
       " 0.0\n",
       " 0.0\n",
       " 0.0\n",
       " 0.0\n",
       " 0.0\n",
       " 0.0\n",
       " 0.0\n",
       " 0.0\n",
       " 0.0"
      ]
     },
     "execution_count": 42,
     "metadata": {},
     "output_type": "execute_result"
    }
   ],
   "source": [
    "tk[3,:]"
   ]
  },
  {
   "cell_type": "code",
   "execution_count": 32,
   "id": "5dc596fe",
   "metadata": {},
   "outputs": [],
   "source": [
    "###troubleshoot multiperiod"
   ]
  },
  {
   "cell_type": "code",
   "execution_count": 24,
   "id": "cd92d65c-7581-400b-8a05-9a1da71b4cab",
   "metadata": {},
   "outputs": [
    {
     "data": {
      "text/plain": [
       "3×25 Matrix{Float64}:\n",
       " 0.0  0.0  0.0  0.0  0.0  0.0  0.0  …  0.0  0.0  0.0        0.0  0.0  0.0\n",
       " 0.0  0.0  0.0  0.0  0.0  0.0  0.0     0.0  0.0  0.0        0.0  0.0  0.0\n",
       " 0.0  0.0  0.0  0.0  0.0  0.0  0.0     0.0  0.0  0.0947635  0.0  0.0  0.0"
      ]
     },
     "execution_count": 24,
     "metadata": {},
     "output_type": "execute_result"
    }
   ],
   "source": [
    "xk"
   ]
  },
  {
   "cell_type": "code",
   "execution_count": 36,
   "id": "a030ecfe-43fb-4bf5-92b1-bb72a871f729",
   "metadata": {},
   "outputs": [
    {
     "data": {
      "text/plain": [
       "25-element Vector{Float64}:\n",
       " 0.0\n",
       " 0.0\n",
       " 0.0\n",
       " 0.0\n",
       " 0.0\n",
       " 0.0\n",
       " 0.0\n",
       " 0.0\n",
       " 0.0\n",
       " 0.0\n",
       " 0.0\n",
       " 0.0\n",
       " 0.0\n",
       " 0.0\n",
       " 0.0\n",
       " 0.0\n",
       " 0.0\n",
       " 0.0\n",
       " 0.0\n",
       " 0.0\n",
       " 0.0\n",
       " 0.0\n",
       " 0.0\n",
       " 0.0\n",
       " 0.0"
      ]
     },
     "execution_count": 36,
     "metadata": {},
     "output_type": "execute_result"
    }
   ],
   "source": [
    "tk[2,:]"
   ]
  },
  {
   "cell_type": "code",
   "execution_count": 32,
   "id": "2b4cfc09-dbb5-4e6c-a0db-3cd83ff74c6c",
   "metadata": {},
   "outputs": [
    {
     "data": {
      "text/plain": [
       "25-element Vector{Float64}:\n",
       " 0.0\n",
       " 0.0\n",
       " 0.0\n",
       " 0.0\n",
       " 0.0\n",
       " 0.0\n",
       " 0.0\n",
       " 0.0\n",
       " 0.0\n",
       " 0.0\n",
       " 0.0\n",
       " 6.249999999999998\n",
       " 0.0\n",
       " 0.0\n",
       " 0.0\n",
       " 0.0\n",
       " 0.0\n",
       " 0.0\n",
       " 0.0\n",
       " 0.0\n",
       " 0.0\n",
       " 0.0\n",
       " 0.0\n",
       " 0.0\n",
       " 0.0"
      ]
     },
     "execution_count": 32,
     "metadata": {},
     "output_type": "execute_result"
    }
   ],
   "source": [
    "tk"
   ]
  },
  {
   "cell_type": "code",
   "execution_count": null,
   "id": "efc3d62d-d24d-4bd5-ae7b-e476f85a5a92",
   "metadata": {},
   "outputs": [],
   "source": []
  }
 ],
 "metadata": {
  "kernelspec": {
   "display_name": "Julia 1.6.3",
   "language": "julia",
   "name": "julia-1.6"
  },
  "language_info": {
   "file_extension": ".jl",
   "mimetype": "application/julia",
   "name": "julia",
   "version": "1.6.3"
  }
 },
 "nbformat": 4,
 "nbformat_minor": 5
}
