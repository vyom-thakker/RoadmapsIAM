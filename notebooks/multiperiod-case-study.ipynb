{
 "cells": [
  {
   "cell_type": "code",
   "execution_count": 1,
   "id": "0cd38929",
   "metadata": {},
   "outputs": [
    {
     "name": "stderr",
     "output_type": "stream",
     "text": [
      "\u001b[32m\u001b[1m  Activating\u001b[22m\u001b[39m environment at `~/Documents/project-codes/Plan_RoadmapsIAM/toy-problem/baron_env/Project.toml`\n"
     ]
    }
   ],
   "source": [
    "\n",
    "using Pkg\n",
    "Pkg.activate(\"./baron_env\")\n",
    "#Pkg.pin(\"JuMP\")\n",
    "using JuMP\n",
    "using CSV\n",
    "using GraphRecipes, Plots\n",
    "using LightGraphs\n",
    "using LinearAlgebra\n",
    "using SparseArrays\n",
    "using DataFrames\n",
    "using BARON\n",
    "using Gurobi\n",
    "using PiecewiseLinearOpt\n",
    "using VegaLite, VegaDatasets\n",
    "using FileIO"
   ]
  },
  {
   "cell_type": "code",
   "execution_count": 2,
   "id": "e8956d14-30ad-49f9-bf77-ae0d8a2937f8",
   "metadata": {},
   "outputs": [
    {
     "name": "stderr",
     "output_type": "stream",
     "text": [
      "┌ Warning: Pkg.installed() is deprecated\n",
      "└ @ Pkg /buildworker/worker/package_linux64/build/usr/share/julia/stdlib/v1.6/Pkg/src/Pkg.jl:570\n"
     ]
    },
    {
     "data": {
      "text/plain": [
       "Dict{String, VersionNumber} with 3 entries:\n",
       "  \"BARON\"              => v\"0.6.5\"\n",
       "  \"PiecewiseLinearOpt\" => v\"0.3.0\"\n",
       "  \"CPLEX\"              => v\"0.7.8\""
      ]
     },
     "execution_count": 2,
     "metadata": {},
     "output_type": "execute_result"
    }
   ],
   "source": [
    "Pkg.installed()"
   ]
  },
  {
   "cell_type": "code",
   "execution_count": 81,
   "id": "6cd49756",
   "metadata": {},
   "outputs": [
    {
     "data": {
      "text/html": [
       "<div class=\"data-frame\"><p>10 rows × 34 columns (omitted printing of 25 columns)</p><table class=\"data-frame\"><thead><tr><th></th><th>i</th><th>Cost_per_RL</th><th>RL</th><th>Sojourn1</th><th>Sojourn2</th><th>Sojourn3</th><th>Sojourn4</th><th>Sojourn5</th><th>P11</th></tr><tr><th></th><th title=\"Int64\">Int64</th><th title=\"Float64\">Float64</th><th title=\"Int64\">Int64</th><th title=\"Float64\">Float64</th><th title=\"Float64\">Float64</th><th title=\"Float64\">Float64</th><th title=\"Float64\">Float64</th><th title=\"Float64\">Float64</th><th title=\"Int64\">Int64</th></tr></thead><tbody><tr><th>1</th><td>1</td><td>121.08</td><td>3</td><td>8.32</td><td>8.84</td><td>0.65</td><td>9.9</td><td>9.65</td><td>0</td></tr><tr><th>2</th><td>2</td><td>103.22</td><td>3</td><td>8.32</td><td>8.84</td><td>0.65</td><td>9.9</td><td>9.65</td><td>0</td></tr><tr><th>3</th><td>3</td><td>156.0</td><td>1</td><td>4.6</td><td>1.34</td><td>2.04</td><td>0.12</td><td>8.86</td><td>0</td></tr><tr><th>4</th><td>4</td><td>90.68</td><td>1</td><td>5.48</td><td>7.62</td><td>3.34</td><td>5.05</td><td>1.1</td><td>0</td></tr><tr><th>5</th><td>5</td><td>77.52</td><td>3</td><td>9.94</td><td>2.38</td><td>7.94</td><td>3.82</td><td>5.44</td><td>0</td></tr><tr><th>6</th><td>6</td><td>98.51</td><td>2</td><td>4.44</td><td>1.21</td><td>5.09</td><td>6.52</td><td>8.67</td><td>0</td></tr><tr><th>7</th><td>7</td><td>121.59</td><td>3</td><td>4.44</td><td>1.21</td><td>5.09</td><td>6.52</td><td>8.67</td><td>0</td></tr><tr><th>8</th><td>8</td><td>122.1</td><td>1</td><td>4.6</td><td>1.34</td><td>2.04</td><td>0.12</td><td>8.86</td><td>0</td></tr><tr><th>9</th><td>9</td><td>122.26</td><td>2</td><td>5.48</td><td>7.62</td><td>3.34</td><td>5.05</td><td>1.1</td><td>0</td></tr><tr><th>10</th><td>10</td><td>89.63</td><td>1</td><td>5.48</td><td>7.62</td><td>3.34</td><td>5.05</td><td>1.1</td><td>0</td></tr></tbody></table></div>"
      ],
      "text/latex": [
       "\\begin{tabular}{r|cccccccccc}\n",
       "\t& i & Cost\\_per\\_RL & RL & Sojourn1 & Sojourn2 & Sojourn3 & Sojourn4 & Sojourn5 & P11 & \\\\\n",
       "\t\\hline\n",
       "\t& Int64 & Float64 & Int64 & Float64 & Float64 & Float64 & Float64 & Float64 & Int64 & \\\\\n",
       "\t\\hline\n",
       "\t1 & 1 & 121.08 & 3 & 8.32 & 8.84 & 0.65 & 9.9 & 9.65 & 0 & $\\dots$ \\\\\n",
       "\t2 & 2 & 103.22 & 3 & 8.32 & 8.84 & 0.65 & 9.9 & 9.65 & 0 & $\\dots$ \\\\\n",
       "\t3 & 3 & 156.0 & 1 & 4.6 & 1.34 & 2.04 & 0.12 & 8.86 & 0 & $\\dots$ \\\\\n",
       "\t4 & 4 & 90.68 & 1 & 5.48 & 7.62 & 3.34 & 5.05 & 1.1 & 0 & $\\dots$ \\\\\n",
       "\t5 & 5 & 77.52 & 3 & 9.94 & 2.38 & 7.94 & 3.82 & 5.44 & 0 & $\\dots$ \\\\\n",
       "\t6 & 6 & 98.51 & 2 & 4.44 & 1.21 & 5.09 & 6.52 & 8.67 & 0 & $\\dots$ \\\\\n",
       "\t7 & 7 & 121.59 & 3 & 4.44 & 1.21 & 5.09 & 6.52 & 8.67 & 0 & $\\dots$ \\\\\n",
       "\t8 & 8 & 122.1 & 1 & 4.6 & 1.34 & 2.04 & 0.12 & 8.86 & 0 & $\\dots$ \\\\\n",
       "\t9 & 9 & 122.26 & 2 & 5.48 & 7.62 & 3.34 & 5.05 & 1.1 & 0 & $\\dots$ \\\\\n",
       "\t10 & 10 & 89.63 & 1 & 5.48 & 7.62 & 3.34 & 5.05 & 1.1 & 0 & $\\dots$ \\\\\n",
       "\\end{tabular}\n"
      ],
      "text/plain": [
       "\u001b[1m10×34 DataFrame\u001b[0m\n",
       "\u001b[1m Row \u001b[0m│\u001b[1m i     \u001b[0m\u001b[1m Cost_per_RL \u001b[0m\u001b[1m RL    \u001b[0m\u001b[1m Sojourn1 \u001b[0m\u001b[1m Sojourn2 \u001b[0m\u001b[1m Sojourn3 \u001b[0m\u001b[1m Sojourn4 \u001b[0m\u001b[1m Sojo\u001b[0m ⋯\n",
       "\u001b[1m     \u001b[0m│\u001b[90m Int64 \u001b[0m\u001b[90m Float64     \u001b[0m\u001b[90m Int64 \u001b[0m\u001b[90m Float64  \u001b[0m\u001b[90m Float64  \u001b[0m\u001b[90m Float64  \u001b[0m\u001b[90m Float64  \u001b[0m\u001b[90m Floa\u001b[0m ⋯\n",
       "─────┼──────────────────────────────────────────────────────────────────────────\n",
       "   1 │     1       121.08      3      8.32      8.84      0.65      9.9        ⋯\n",
       "   2 │     2       103.22      3      8.32      8.84      0.65      9.9\n",
       "   3 │     3       156.0       1      4.6       1.34      2.04      0.12\n",
       "   4 │     4        90.68      1      5.48      7.62      3.34      5.05\n",
       "   5 │     5        77.52      3      9.94      2.38      7.94      3.82       ⋯\n",
       "   6 │     6        98.51      2      4.44      1.21      5.09      6.52\n",
       "   7 │     7       121.59      3      4.44      1.21      5.09      6.52\n",
       "   8 │     8       122.1       1      4.6       1.34      2.04      0.12\n",
       "   9 │     9       122.26      2      5.48      7.62      3.34      5.05       ⋯\n",
       "  10 │    10        89.63      1      5.48      7.62      3.34      5.05\n",
       "\u001b[36m                                                              27 columns omitted\u001b[0m"
      ]
     },
     "execution_count": 81,
     "metadata": {},
     "output_type": "execute_result"
    }
   ],
   "source": [
    "innovations = CSV.File(\"./data-case-roadmap/innovations.csv\",header=1,delim=\",\") |> DataFrame\n",
    "mapki = CSV.File(\"./data-case-roadmap/map-ki.csv\",header=1,delim=\",\") |> DataFrame\n",
    "compromise = CSV.File(\"./data-case-roadmap/compromise.csv\",header=1,delim=\",\") |> DataFrame\n",
    "compromise[67:240,:GHG_ElecInd].+=1\n",
    "compromise[100:165,:GHG_ElecInd].+=0.5\n",
    "initial = CSV.File(\"./data-case-roadmap/initial.csv\",header=1,delim=\",\") |> DataFrame\n",
    "iam_model = CSV.File(\"./data/iam_model.csv\",header=1,delim=\",\") |> DataFrame\n",
    "ci=innovations[!,2]\n",
    "rl=innovations[!,3]\n",
    "initial\n",
    "innovations[3,2]=156\n",
    "#innovations[2,6]=7\n",
    "#compromise[!,3]=compromise[!,3]/2\n",
    "#innovations[2,2]=175\n",
    "#innovations[2,2]=205\n",
    "#innovations[2,3]=2\n",
    "#innovations[1,3]=3\n",
    "#innovations[4,2]=108\n",
    "\n",
    "#innovations[1,2]=185\n",
    "#innovations[3,3]=2\n",
    "\n",
    "\n",
    "innovations\n",
    "#CSV.write(\"innovations.csv\",innovations)"
   ]
  },
  {
   "cell_type": "code",
   "execution_count": 87,
   "id": "a60f06a7",
   "metadata": {},
   "outputs": [
    {
     "data": {
      "text/plain": [
       "10-element Vector{String31}:\n",
       " \"MSW pyrolysis to small olefins\"\n",
       " \"Source Segregation\"\n",
       " \"AI robot segregation\"\n",
       " \"LABS from PE\"\n",
       " \"Pyrolysis of LDPE\"\n",
       " \"Pyrolysis of HDPE\"\n",
       " \"Pyrolysis of PP\"\n",
       " \"Recycling back to PLA usin Clay\"\n",
       " \"Alkaline hydrolysis of PLA\"\n",
       " \"Alcoholysis of PLA\""
      ]
     },
     "execution_count": 87,
     "metadata": {},
     "output_type": "execute_result"
    }
   ],
   "source": [
    "innovations[:,:name]"
   ]
  },
  {
   "cell_type": "code",
   "execution_count": null,
   "id": "d780e0f4",
   "metadata": {},
   "outputs": [],
   "source": []
  },
  {
   "cell_type": "code",
   "execution_count": 88,
   "id": "33d1096b-bd0b-4edf-8fb1-38ca9b060af5",
   "metadata": {},
   "outputs": [
    {
     "data": {
      "text/html": [
       "<div class=\"data-frame\"><p>240 rows × 9 columns</p><table class=\"data-frame\"><thead><tr><th></th><th>k</th><th>i</th><th>GWP</th><th>Theta</th><th>Per_Recycl</th><th>Per_Comp</th><th>GHG_ElecInd</th><th>GHG_Trans</th><th>OCost</th></tr><tr><th></th><th title=\"Int64\">Int64</th><th title=\"Int64\">Int64</th><th title=\"Float64\">Float64</th><th title=\"Float64\">Float64</th><th title=\"Float64\">Float64</th><th title=\"Float64\">Float64</th><th title=\"Float64\">Float64</th><th title=\"Float64\">Float64</th><th title=\"Float64\">Float64</th></tr></thead><tbody><tr><th>1</th><td>1</td><td>1</td><td>15.0711</td><td>0.621</td><td>0.0</td><td>0.0</td><td>0.499</td><td>0.122</td><td>3.4294</td></tr><tr><th>2</th><td>2</td><td>1</td><td>2.7837</td><td>0.3955</td><td>0.661676</td><td>0.0</td><td>0.47</td><td>0.127</td><td>1.1203</td></tr><tr><th>3</th><td>3</td><td>1</td><td>10.0834</td><td>0.41</td><td>0.0</td><td>1.0</td><td>0.56</td><td>0.111</td><td>0.65</td></tr><tr><th>4</th><td>4</td><td>1</td><td>8.9103</td><td>0.4132</td><td>0.0</td><td>0.958953</td><td>0.54</td><td>0.104</td><td>0.67</td></tr><tr><th>5</th><td>5</td><td>1</td><td>4.0</td><td>0.4546</td><td>0.0</td><td>0.0</td><td>0.54</td><td>0.139</td><td>0.7</td></tr><tr><th>6</th><td>6</td><td>1</td><td>4.1434</td><td>0.5081</td><td>0.0</td><td>0.0</td><td>0.57</td><td>0.12</td><td>0.7</td></tr><tr><th>7</th><td>7</td><td>1</td><td>7.1535</td><td>0.4218</td><td>0.0</td><td>0.854318</td><td>0.5</td><td>0.114</td><td>0.7</td></tr><tr><th>8</th><td>8</td><td>1</td><td>4.1374</td><td>0.5081</td><td>0.0</td><td>0.0</td><td>0.46</td><td>0.116</td><td>0.7</td></tr><tr><th>9</th><td>9</td><td>1</td><td>7.1535</td><td>0.4218</td><td>0.0</td><td>0.854318</td><td>0.52</td><td>0.132</td><td>0.7</td></tr><tr><th>10</th><td>10</td><td>1</td><td>4.0</td><td>0.4915</td><td>0.0922065</td><td>0.0</td><td>0.59</td><td>0.117</td><td>0.8014</td></tr><tr><th>11</th><td>11</td><td>1</td><td>8.5</td><td>0.5836</td><td>0.0</td><td>0.0</td><td>0.59</td><td>0.103</td><td>1.8103</td></tr><tr><th>12</th><td>12</td><td>1</td><td>9.2698</td><td>0.5904</td><td>0.0</td><td>0.0</td><td>0.52</td><td>0.134</td><td>2.0</td></tr><tr><th>13</th><td>13</td><td>1</td><td>9.2698</td><td>0.5904</td><td>0.0</td><td>0.0</td><td>0.58</td><td>0.105</td><td>2.0</td></tr><tr><th>14</th><td>14</td><td>1</td><td>9.2698</td><td>0.5904</td><td>0.0</td><td>0.0</td><td>0.56</td><td>0.107</td><td>2.0</td></tr><tr><th>15</th><td>15</td><td>1</td><td>4.0</td><td>0.4915</td><td>0.0922065</td><td>0.0</td><td>0.48</td><td>0.155</td><td>0.8014</td></tr><tr><th>16</th><td>16</td><td>1</td><td>8.5</td><td>0.5836</td><td>0.0</td><td>0.0</td><td>0.53</td><td>0.14</td><td>1.8103</td></tr><tr><th>17</th><td>17</td><td>1</td><td>10.0</td><td>0.596</td><td>0.0</td><td>0.0</td><td>0.53</td><td>0.126</td><td>2.1799</td></tr><tr><th>18</th><td>18</td><td>1</td><td>10.75</td><td>0.6011</td><td>0.0</td><td>0.0</td><td>0.57</td><td>0.156</td><td>2.3647</td></tr><tr><th>19</th><td>19</td><td>1</td><td>11.0285</td><td>0.6028</td><td>0.0</td><td>0.0</td><td>0.54</td><td>0.144</td><td>2.4333</td></tr><tr><th>20</th><td>20</td><td>1</td><td>4.0</td><td>0.4915</td><td>0.0922065</td><td>0.0</td><td>0.58</td><td>0.104</td><td>0.8014</td></tr><tr><th>21</th><td>21</td><td>1</td><td>8.5</td><td>0.5836</td><td>0.0</td><td>0.0</td><td>0.54</td><td>0.115</td><td>1.8103</td></tr><tr><th>22</th><td>22</td><td>1</td><td>10.0</td><td>0.596</td><td>0.0</td><td>0.0</td><td>0.58</td><td>0.101</td><td>2.1799</td></tr><tr><th>23</th><td>23</td><td>1</td><td>10.75</td><td>0.6011</td><td>0.0</td><td>0.0</td><td>0.58</td><td>0.139</td><td>2.3647</td></tr><tr><th>24</th><td>24</td><td>1</td><td>11.2</td><td>0.6038</td><td>0.0</td><td>0.0</td><td>0.55</td><td>0.124</td><td>2.4756</td></tr><tr><th>25</th><td>25</td><td>1</td><td>4.0</td><td>0.4915</td><td>0.0922065</td><td>0.0</td><td>0.53</td><td>0.123</td><td>0.8014</td></tr><tr><th>26</th><td>26</td><td>1</td><td>8.5</td><td>0.5836</td><td>0.0</td><td>0.0</td><td>0.57</td><td>0.144</td><td>1.8103</td></tr><tr><th>27</th><td>27</td><td>1</td><td>10.0</td><td>0.596</td><td>0.0</td><td>0.0</td><td>0.6</td><td>0.154</td><td>2.1799</td></tr><tr><th>28</th><td>28</td><td>1</td><td>10.75</td><td>0.6011</td><td>0.0</td><td>0.0</td><td>0.45</td><td>0.101</td><td>2.3647</td></tr><tr><th>29</th><td>29</td><td>1</td><td>11.2</td><td>0.6038</td><td>0.0</td><td>0.0</td><td>0.53</td><td>0.132</td><td>2.4756</td></tr><tr><th>30</th><td>30</td><td>2</td><td>12.2276</td><td>0.5596</td><td>0.881291</td><td>0.0</td><td>0.55</td><td>0.107</td><td>3.7074</td></tr><tr><th>&vellip;</th><td>&vellip;</td><td>&vellip;</td><td>&vellip;</td><td>&vellip;</td><td>&vellip;</td><td>&vellip;</td><td>&vellip;</td><td>&vellip;</td><td>&vellip;</td></tr></tbody></table></div>"
      ],
      "text/latex": [
       "\\begin{tabular}{r|ccccccccc}\n",
       "\t& k & i & GWP & Theta & Per\\_Recycl & Per\\_Comp & GHG\\_ElecInd & GHG\\_Trans & OCost\\\\\n",
       "\t\\hline\n",
       "\t& Int64 & Int64 & Float64 & Float64 & Float64 & Float64 & Float64 & Float64 & Float64\\\\\n",
       "\t\\hline\n",
       "\t1 & 1 & 1 & 15.0711 & 0.621 & 0.0 & 0.0 & 0.499 & 0.122 & 3.4294 \\\\\n",
       "\t2 & 2 & 1 & 2.7837 & 0.3955 & 0.661676 & 0.0 & 0.47 & 0.127 & 1.1203 \\\\\n",
       "\t3 & 3 & 1 & 10.0834 & 0.41 & 0.0 & 1.0 & 0.56 & 0.111 & 0.65 \\\\\n",
       "\t4 & 4 & 1 & 8.9103 & 0.4132 & 0.0 & 0.958953 & 0.54 & 0.104 & 0.67 \\\\\n",
       "\t5 & 5 & 1 & 4.0 & 0.4546 & 0.0 & 0.0 & 0.54 & 0.139 & 0.7 \\\\\n",
       "\t6 & 6 & 1 & 4.1434 & 0.5081 & 0.0 & 0.0 & 0.57 & 0.12 & 0.7 \\\\\n",
       "\t7 & 7 & 1 & 7.1535 & 0.4218 & 0.0 & 0.854318 & 0.5 & 0.114 & 0.7 \\\\\n",
       "\t8 & 8 & 1 & 4.1374 & 0.5081 & 0.0 & 0.0 & 0.46 & 0.116 & 0.7 \\\\\n",
       "\t9 & 9 & 1 & 7.1535 & 0.4218 & 0.0 & 0.854318 & 0.52 & 0.132 & 0.7 \\\\\n",
       "\t10 & 10 & 1 & 4.0 & 0.4915 & 0.0922065 & 0.0 & 0.59 & 0.117 & 0.8014 \\\\\n",
       "\t11 & 11 & 1 & 8.5 & 0.5836 & 0.0 & 0.0 & 0.59 & 0.103 & 1.8103 \\\\\n",
       "\t12 & 12 & 1 & 9.2698 & 0.5904 & 0.0 & 0.0 & 0.52 & 0.134 & 2.0 \\\\\n",
       "\t13 & 13 & 1 & 9.2698 & 0.5904 & 0.0 & 0.0 & 0.58 & 0.105 & 2.0 \\\\\n",
       "\t14 & 14 & 1 & 9.2698 & 0.5904 & 0.0 & 0.0 & 0.56 & 0.107 & 2.0 \\\\\n",
       "\t15 & 15 & 1 & 4.0 & 0.4915 & 0.0922065 & 0.0 & 0.48 & 0.155 & 0.8014 \\\\\n",
       "\t16 & 16 & 1 & 8.5 & 0.5836 & 0.0 & 0.0 & 0.53 & 0.14 & 1.8103 \\\\\n",
       "\t17 & 17 & 1 & 10.0 & 0.596 & 0.0 & 0.0 & 0.53 & 0.126 & 2.1799 \\\\\n",
       "\t18 & 18 & 1 & 10.75 & 0.6011 & 0.0 & 0.0 & 0.57 & 0.156 & 2.3647 \\\\\n",
       "\t19 & 19 & 1 & 11.0285 & 0.6028 & 0.0 & 0.0 & 0.54 & 0.144 & 2.4333 \\\\\n",
       "\t20 & 20 & 1 & 4.0 & 0.4915 & 0.0922065 & 0.0 & 0.58 & 0.104 & 0.8014 \\\\\n",
       "\t21 & 21 & 1 & 8.5 & 0.5836 & 0.0 & 0.0 & 0.54 & 0.115 & 1.8103 \\\\\n",
       "\t22 & 22 & 1 & 10.0 & 0.596 & 0.0 & 0.0 & 0.58 & 0.101 & 2.1799 \\\\\n",
       "\t23 & 23 & 1 & 10.75 & 0.6011 & 0.0 & 0.0 & 0.58 & 0.139 & 2.3647 \\\\\n",
       "\t24 & 24 & 1 & 11.2 & 0.6038 & 0.0 & 0.0 & 0.55 & 0.124 & 2.4756 \\\\\n",
       "\t25 & 25 & 1 & 4.0 & 0.4915 & 0.0922065 & 0.0 & 0.53 & 0.123 & 0.8014 \\\\\n",
       "\t26 & 26 & 1 & 8.5 & 0.5836 & 0.0 & 0.0 & 0.57 & 0.144 & 1.8103 \\\\\n",
       "\t27 & 27 & 1 & 10.0 & 0.596 & 0.0 & 0.0 & 0.6 & 0.154 & 2.1799 \\\\\n",
       "\t28 & 28 & 1 & 10.75 & 0.6011 & 0.0 & 0.0 & 0.45 & 0.101 & 2.3647 \\\\\n",
       "\t29 & 29 & 1 & 11.2 & 0.6038 & 0.0 & 0.0 & 0.53 & 0.132 & 2.4756 \\\\\n",
       "\t30 & 30 & 2 & 12.2276 & 0.5596 & 0.881291 & 0.0 & 0.55 & 0.107 & 3.7074 \\\\\n",
       "\t$\\dots$ & $\\dots$ & $\\dots$ & $\\dots$ & $\\dots$ & $\\dots$ & $\\dots$ & $\\dots$ & $\\dots$ & $\\dots$ \\\\\n",
       "\\end{tabular}\n"
      ],
      "text/plain": [
       "\u001b[1m240×9 DataFrame\u001b[0m\n",
       "\u001b[1m Row \u001b[0m│\u001b[1m k     \u001b[0m\u001b[1m i     \u001b[0m\u001b[1m GWP     \u001b[0m\u001b[1m Theta   \u001b[0m\u001b[1m Per_Recycl \u001b[0m\u001b[1m Per_Comp  \u001b[0m\u001b[1m GHG_ElecInd \u001b[0m\u001b[1m GHG\u001b[0m ⋯\n",
       "\u001b[1m     \u001b[0m│\u001b[90m Int64 \u001b[0m\u001b[90m Int64 \u001b[0m\u001b[90m Float64 \u001b[0m\u001b[90m Float64 \u001b[0m\u001b[90m Float64    \u001b[0m\u001b[90m Float64   \u001b[0m\u001b[90m Float64     \u001b[0m\u001b[90m Flo\u001b[0m ⋯\n",
       "─────┼──────────────────────────────────────────────────────────────────────────\n",
       "   1 │     1      1  15.0711   0.621    0.0        0.0              0.499      ⋯\n",
       "   2 │     2      1   2.7837   0.3955   0.661676   0.0              0.47\n",
       "   3 │     3      1  10.0834   0.41     0.0        1.0              0.56\n",
       "   4 │     4      1   8.9103   0.4132   0.0        0.958953         0.54\n",
       "   5 │     5      1   4.0      0.4546   0.0        0.0              0.54       ⋯\n",
       "   6 │     6      1   4.1434   0.5081   0.0        0.0              0.57\n",
       "   7 │     7      1   7.1535   0.4218   0.0        0.854318         0.5\n",
       "   8 │     8      1   4.1374   0.5081   0.0        0.0              0.46\n",
       "   9 │     9      1   7.1535   0.4218   0.0        0.854318         0.52       ⋯\n",
       "  10 │    10      1   4.0      0.4915   0.0922065  0.0              0.59\n",
       "  11 │    11      1   8.5      0.5836   0.0        0.0              0.59\n",
       "  ⋮  │   ⋮      ⋮       ⋮        ⋮         ⋮           ⋮           ⋮           ⋱\n",
       " 231 │   231     10   3.2136   0.175    0.27592    0.0              1.48\n",
       " 232 │   232     10   3.1062   0.175    0.245418   0.0646392        1.58       ⋯\n",
       " 233 │   233     10   2.9988   0.175    0.230787   0.153537         1.48\n",
       " 234 │   234     10   2.8914   0.2485   0.405205   0.0              1.57\n",
       " 235 │   235     10   2.784    0.3955   0.661676   0.0              1.52\n",
       " 236 │   236     10   3.1024   0.05     0.065482   0.0              1.45       ⋯\n",
       " 237 │   237     10   3.1021   0.05     0.065482   0.0              1.5\n",
       " 238 │   238     10   2.9988   0.05     0.0752763  0.0              1.58\n",
       " 239 │   239     10   2.8914   0.207    0.295782   0.0888537        1.56\n",
       " 240 │   240     10   2.784    0.3949   0.660557   0.0              1.48       ⋯\n",
       "\u001b[36m                                                  2 columns and 219 rows omitted\u001b[0m"
      ]
     },
     "execution_count": 88,
     "metadata": {},
     "output_type": "execute_result"
    }
   ],
   "source": [
    "\n",
    "compromise"
   ]
  },
  {
   "cell_type": "code",
   "execution_count": 89,
   "id": "768b23d5",
   "metadata": {},
   "outputs": [
    {
     "data": {
      "text/html": [
       "<div class=\"data-frame\"><p>10 rows × 3 columns</p><table class=\"data-frame\"><thead><tr><th></th><th>i</th><th>k_lim</th><th>name</th></tr><tr><th></th><th title=\"Int64\">Int64</th><th title=\"Int64\">Int64</th><th title=\"String31\">String31</th></tr></thead><tbody><tr><th>1</th><td>1</td><td>29</td><td>MSW pyrolysis to small olefins</td></tr><tr><th>2</th><td>2</td><td>52</td><td>Source Segregation</td></tr><tr><th>3</th><td>3</td><td>66</td><td>AI robot segregation</td></tr><tr><th>4</th><td>4</td><td>91</td><td>LABS from PE</td></tr><tr><th>5</th><td>5</td><td>113</td><td>Pyrolysis of LDPE</td></tr><tr><th>6</th><td>6</td><td>140</td><td>Pyrolysis of HDPE</td></tr><tr><th>7</th><td>7</td><td>165</td><td>Pyrolysis of PP</td></tr><tr><th>8</th><td>8</td><td>193</td><td>Recycling back to PLA usin Clay</td></tr><tr><th>9</th><td>9</td><td>215</td><td>Alkaline hydrolysis of PLA</td></tr><tr><th>10</th><td>10</td><td>240</td><td>Alcoholysis of PLA</td></tr></tbody></table></div>"
      ],
      "text/latex": [
       "\\begin{tabular}{r|ccc}\n",
       "\t& i & k\\_lim & name\\\\\n",
       "\t\\hline\n",
       "\t& Int64 & Int64 & String31\\\\\n",
       "\t\\hline\n",
       "\t1 & 1 & 29 & MSW pyrolysis to small olefins \\\\\n",
       "\t2 & 2 & 52 & Source Segregation \\\\\n",
       "\t3 & 3 & 66 & AI robot segregation \\\\\n",
       "\t4 & 4 & 91 & LABS from PE \\\\\n",
       "\t5 & 5 & 113 & Pyrolysis of LDPE \\\\\n",
       "\t6 & 6 & 140 & Pyrolysis of HDPE \\\\\n",
       "\t7 & 7 & 165 & Pyrolysis of PP \\\\\n",
       "\t8 & 8 & 193 & Recycling back to PLA usin Clay \\\\\n",
       "\t9 & 9 & 215 & Alkaline hydrolysis of PLA \\\\\n",
       "\t10 & 10 & 240 & Alcoholysis of PLA \\\\\n",
       "\\end{tabular}\n"
      ],
      "text/plain": [
       "\u001b[1m10×3 DataFrame\u001b[0m\n",
       "\u001b[1m Row \u001b[0m│\u001b[1m i     \u001b[0m\u001b[1m k_lim \u001b[0m\u001b[1m name                            \u001b[0m\n",
       "\u001b[1m     \u001b[0m│\u001b[90m Int64 \u001b[0m\u001b[90m Int64 \u001b[0m\u001b[90m String31                        \u001b[0m\n",
       "─────┼───────────────────────────────────────────────\n",
       "   1 │     1     29  MSW pyrolysis to small olefins\n",
       "   2 │     2     52  Source Segregation\n",
       "   3 │     3     66  AI robot segregation\n",
       "   4 │     4     91  LABS from PE\n",
       "   5 │     5    113  Pyrolysis of LDPE\n",
       "   6 │     6    140  Pyrolysis of HDPE\n",
       "   7 │     7    165  Pyrolysis of PP\n",
       "   8 │     8    193  Recycling back to PLA usin Clay\n",
       "   9 │     9    215  Alkaline hydrolysis of PLA\n",
       "  10 │    10    240  Alcoholysis of PLA"
      ]
     },
     "execution_count": 89,
     "metadata": {},
     "output_type": "execute_result"
    }
   ],
   "source": [
    "mapki[10,2]=240\n",
    "mapki"
   ]
  },
  {
   "cell_type": "code",
   "execution_count": 90,
   "id": "4e49351a-5301-4c14-8142-72ea5910982a",
   "metadata": {},
   "outputs": [
    {
     "data": {
      "text/plain": [
       "give_sorted (generic function with 1 method)"
      ]
     },
     "execution_count": 90,
     "metadata": {},
     "output_type": "execute_result"
    }
   ],
   "source": [
    "function get_transition_mat(i)\n",
    "    p_mat=reshape(collect(innovations[i,9:33]),5,5)\n",
    "    return p_mat'\n",
    "end\n",
    "\n",
    "\n",
    "function get_rate_mat(i)\n",
    "    p_mat=get_transition_mat(i)\n",
    "    q_mat=p_mat./collect(innovations[i,4:8])\n",
    "    for i in 1:5\n",
    "        q_mat[i,i]=-1*sum(q_mat[i,j] for j in 1:5 if j!=i)\n",
    "    end\n",
    "    return q_mat\n",
    "end\n",
    "\n",
    "function get_rate_eig_mat(i)\n",
    "    p_mat=get_transition_mat(i)\n",
    "    q_mat=p_mat./collect(innovations[i,4:8])\n",
    "    for i in 1:5\n",
    "        q_mat[i,i]=-1*sum(q_mat[i,j] for j in 1:5 if j!=i)\n",
    "    end\n",
    "    return [q_mat,eigvecs(q_mat),eigvals(q_mat)]\n",
    "end\n",
    "\n",
    "function get_IAM_factor(t)\n",
    "    return 1\n",
    "end\n",
    "\n",
    "function give_sorted(t)\n",
    "    v=sortperm(t)\n",
    "    return v\n",
    "end\n"
   ]
  },
  {
   "cell_type": "code",
   "execution_count": 91,
   "id": "d6e7594d",
   "metadata": {},
   "outputs": [
    {
     "data": {
      "text/plain": [
       "1×5 Matrix{Int64}:\n",
       " 1  2  3  4  5"
      ]
     },
     "execution_count": 91,
     "metadata": {},
     "output_type": "execute_result"
    }
   ],
   "source": [
    "q=zeros(5,5,nrow(innovations))\n",
    "a=zeros(5,5,nrow(innovations))\n",
    "ainv=zeros(5,5,nrow(innovations))\n",
    "d=zeros(5,1,nrow(innovations))\n",
    "s0=zeros(1,5,nrow(innovations))\n",
    "for i in 1:nrow(innovations)\n",
    "    q[:,:,i]=round.(get_rate_eig_mat(i)[1],digits=3)\n",
    "    a[:,:,i]=(get_rate_eig_mat(i)[2])\n",
    "    d[:,:,i]=round.(get_rate_eig_mat(i)[3],digits=3)\n",
    "    ainv[:,:,i]=round.(inv(get_rate_eig_mat(i)[2]),digits=3)\n",
    "    s0[1,rl[i],i]=1\n",
    "end\n",
    "rl_vals=[1 2 3 4 5]"
   ]
  },
  {
   "cell_type": "code",
   "execution_count": 92,
   "id": "82bcdb33-a9c3-4e1c-a456-21ed1fdb43b4",
   "metadata": {},
   "outputs": [
    {
     "data": {
      "text/html": [
       "<div class=\"data-frame\"><p>10 rows × 7 columns</p><table class=\"data-frame\"><thead><tr><th></th><th>Column1</th><th>Y0</th><th>Y1</th><th>Y2</th><th>Y3</th><th>Y4</th><th>Y5</th></tr><tr><th></th><th title=\"Int64\">Int64</th><th title=\"Int64\">Int64</th><th title=\"Float64\">Float64</th><th title=\"Float64\">Float64</th><th title=\"Float64\">Float64</th><th title=\"Float64\">Float64</th><th title=\"Float64\">Float64</th></tr></thead><tbody><tr><th>1</th><td>1</td><td>2</td><td>1.81274</td><td>2.24624</td><td>3.227</td><td>4.48808</td><td>6.08818</td></tr><tr><th>2</th><td>2</td><td>2</td><td>1.81274</td><td>2.24624</td><td>3.227</td><td>4.48808</td><td>6.08818</td></tr><tr><th>3</th><td>3</td><td>4</td><td>3.69121</td><td>4.57345</td><td>6.60407</td><td>9.45836</td><td>13.0855</td></tr><tr><th>4</th><td>4</td><td>4</td><td>3.72014</td><td>4.11985</td><td>5.30286</td><td>7.01497</td><td>9.24516</td></tr><tr><th>5</th><td>5</td><td>2</td><td>2.35761</td><td>3.16539</td><td>4.30352</td><td>5.69014</td><td>7.54168</td></tr><tr><th>6</th><td>6</td><td>3</td><td>2.68846</td><td>3.30768</td><td>4.82566</td><td>6.93351</td><td>9.60059</td></tr><tr><th>7</th><td>7</td><td>2</td><td>2.38591</td><td>3.62069</td><td>5.21565</td><td>7.22296</td><td>9.61039</td></tr><tr><th>8</th><td>8</td><td>4</td><td>3.69121</td><td>4.57345</td><td>6.60407</td><td>9.45836</td><td>13.0855</td></tr><tr><th>9</th><td>9</td><td>3</td><td>3.8944</td><td>4.79125</td><td>5.90838</td><td>7.44012</td><td>9.19717</td></tr><tr><th>10</th><td>10</td><td>4</td><td>3.72014</td><td>4.11985</td><td>5.30286</td><td>7.01497</td><td>9.24516</td></tr></tbody></table></div>"
      ],
      "text/latex": [
       "\\begin{tabular}{r|ccccccc}\n",
       "\t& Column1 & Y0 & Y1 & Y2 & Y3 & Y4 & Y5\\\\\n",
       "\t\\hline\n",
       "\t& Int64 & Int64 & Float64 & Float64 & Float64 & Float64 & Float64\\\\\n",
       "\t\\hline\n",
       "\t1 & 1 & 2 & 1.81274 & 2.24624 & 3.227 & 4.48808 & 6.08818 \\\\\n",
       "\t2 & 2 & 2 & 1.81274 & 2.24624 & 3.227 & 4.48808 & 6.08818 \\\\\n",
       "\t3 & 3 & 4 & 3.69121 & 4.57345 & 6.60407 & 9.45836 & 13.0855 \\\\\n",
       "\t4 & 4 & 4 & 3.72014 & 4.11985 & 5.30286 & 7.01497 & 9.24516 \\\\\n",
       "\t5 & 5 & 2 & 2.35761 & 3.16539 & 4.30352 & 5.69014 & 7.54168 \\\\\n",
       "\t6 & 6 & 3 & 2.68846 & 3.30768 & 4.82566 & 6.93351 & 9.60059 \\\\\n",
       "\t7 & 7 & 2 & 2.38591 & 3.62069 & 5.21565 & 7.22296 & 9.61039 \\\\\n",
       "\t8 & 8 & 4 & 3.69121 & 4.57345 & 6.60407 & 9.45836 & 13.0855 \\\\\n",
       "\t9 & 9 & 3 & 3.8944 & 4.79125 & 5.90838 & 7.44012 & 9.19717 \\\\\n",
       "\t10 & 10 & 4 & 3.72014 & 4.11985 & 5.30286 & 7.01497 & 9.24516 \\\\\n",
       "\\end{tabular}\n"
      ],
      "text/plain": [
       "\u001b[1m10×7 DataFrame\u001b[0m\n",
       "\u001b[1m Row \u001b[0m│\u001b[1m Column1 \u001b[0m\u001b[1m Y0    \u001b[0m\u001b[1m Y1      \u001b[0m\u001b[1m Y2      \u001b[0m\u001b[1m Y3      \u001b[0m\u001b[1m Y4      \u001b[0m\u001b[1m Y5       \u001b[0m\n",
       "\u001b[1m     \u001b[0m│\u001b[90m Int64   \u001b[0m\u001b[90m Int64 \u001b[0m\u001b[90m Float64 \u001b[0m\u001b[90m Float64 \u001b[0m\u001b[90m Float64 \u001b[0m\u001b[90m Float64 \u001b[0m\u001b[90m Float64  \u001b[0m\n",
       "─────┼──────────────────────────────────────────────────────────────\n",
       "   1 │       1      2  1.81274  2.24624  3.227    4.48808   6.08818\n",
       "   2 │       2      2  1.81274  2.24624  3.227    4.48808   6.08818\n",
       "   3 │       3      4  3.69121  4.57345  6.60407  9.45836  13.0855\n",
       "   4 │       4      4  3.72014  4.11985  5.30286  7.01497   9.24516\n",
       "   5 │       5      2  2.35761  3.16539  4.30352  5.69014   7.54168\n",
       "   6 │       6      3  2.68846  3.30768  4.82566  6.93351   9.60059\n",
       "   7 │       7      2  2.38591  3.62069  5.21565  7.22296   9.61039\n",
       "   8 │       8      4  3.69121  4.57345  6.60407  9.45836  13.0855\n",
       "   9 │       9      3  3.8944   4.79125  5.90838  7.44012   9.19717\n",
       "  10 │      10      4  3.72014  4.11985  5.30286  7.01497   9.24516"
      ]
     },
     "execution_count": 92,
     "metadata": {},
     "output_type": "execute_result"
    }
   ],
   "source": [
    "inn_reg = CSV.File(\"./data-case-roadmap/inn_reg.csv\",header=1,delim=\",\") |> DataFrame\n",
    "inn_xrang = CSV.File(\"./data-case-roadmap/inn_xrang.csv\",header=1,delim=\",\") |> DataFrame\n",
    "inn_yrang = CSV.File(\"./data-case-roadmap/inn_yrang.csv\",header=1,delim=\",\") |> DataFrame\n",
    "inn_yrang[!,\"Y0\"]=-1*(innovations[!,\"RL\"].-5)\n",
    "inn_yrang"
   ]
  },
  {
   "cell_type": "code",
   "execution_count": 93,
   "id": "f0da4ca7",
   "metadata": {},
   "outputs": [
    {
     "data": {
      "text/plain": [
       "7-element Vector{Int64}:\n",
       "  0\n",
       "  5\n",
       " 10\n",
       " 15\n",
       " 20\n",
       " 25\n",
       " 30"
      ]
     },
     "execution_count": 93,
     "metadata": {},
     "output_type": "execute_result"
    }
   ],
   "source": [
    "tau=[0,5,10,15,20,25,30]"
   ]
  },
  {
   "cell_type": "code",
   "execution_count": 10,
   "id": "99858d20",
   "metadata": {},
   "outputs": [
    {
     "data": {
      "text/html": [
       "<div class=\"data-frame\"><p>240 rows × 9 columns</p><table class=\"data-frame\"><thead><tr><th></th><th>k</th><th>i</th><th>GWP</th><th>Theta</th><th>Per_Recycl</th><th>Per_Comp</th><th>GHG_ElecInd</th><th>GHG_Trans</th><th>OCost</th></tr><tr><th></th><th title=\"Int64\">Int64</th><th title=\"Int64\">Int64</th><th title=\"Float64\">Float64</th><th title=\"Float64\">Float64</th><th title=\"Float64\">Float64</th><th title=\"Float64\">Float64</th><th title=\"Float64\">Float64</th><th title=\"Float64\">Float64</th><th title=\"Float64\">Float64</th></tr></thead><tbody><tr><th>1</th><td>1</td><td>1</td><td>15.0711</td><td>0.621</td><td>0.0</td><td>0.0</td><td>0.499</td><td>0.122</td><td>3.4294</td></tr><tr><th>2</th><td>2</td><td>1</td><td>2.7837</td><td>0.3955</td><td>0.661676</td><td>0.0</td><td>0.47</td><td>0.127</td><td>1.1203</td></tr><tr><th>3</th><td>3</td><td>1</td><td>10.0834</td><td>0.41</td><td>0.0</td><td>1.0</td><td>0.56</td><td>0.111</td><td>0.65</td></tr><tr><th>4</th><td>4</td><td>1</td><td>8.9103</td><td>0.4132</td><td>0.0</td><td>0.958953</td><td>0.54</td><td>0.104</td><td>0.67</td></tr><tr><th>5</th><td>5</td><td>1</td><td>4.0</td><td>0.4546</td><td>0.0</td><td>0.0</td><td>0.54</td><td>0.139</td><td>0.7</td></tr><tr><th>6</th><td>6</td><td>1</td><td>4.1434</td><td>0.5081</td><td>0.0</td><td>0.0</td><td>0.57</td><td>0.12</td><td>0.7</td></tr><tr><th>7</th><td>7</td><td>1</td><td>7.1535</td><td>0.4218</td><td>0.0</td><td>0.854318</td><td>0.5</td><td>0.114</td><td>0.7</td></tr><tr><th>8</th><td>8</td><td>1</td><td>4.1374</td><td>0.5081</td><td>0.0</td><td>0.0</td><td>0.46</td><td>0.116</td><td>0.7</td></tr><tr><th>9</th><td>9</td><td>1</td><td>7.1535</td><td>0.4218</td><td>0.0</td><td>0.854318</td><td>0.52</td><td>0.132</td><td>0.7</td></tr><tr><th>10</th><td>10</td><td>1</td><td>4.0</td><td>0.4915</td><td>0.0922065</td><td>0.0</td><td>0.59</td><td>0.117</td><td>0.8014</td></tr><tr><th>11</th><td>11</td><td>1</td><td>8.5</td><td>0.5836</td><td>0.0</td><td>0.0</td><td>0.59</td><td>0.103</td><td>1.8103</td></tr><tr><th>12</th><td>12</td><td>1</td><td>9.2698</td><td>0.5904</td><td>0.0</td><td>0.0</td><td>0.52</td><td>0.134</td><td>2.0</td></tr><tr><th>13</th><td>13</td><td>1</td><td>9.2698</td><td>0.5904</td><td>0.0</td><td>0.0</td><td>0.58</td><td>0.105</td><td>2.0</td></tr><tr><th>14</th><td>14</td><td>1</td><td>9.2698</td><td>0.5904</td><td>0.0</td><td>0.0</td><td>0.56</td><td>0.107</td><td>2.0</td></tr><tr><th>15</th><td>15</td><td>1</td><td>4.0</td><td>0.4915</td><td>0.0922065</td><td>0.0</td><td>0.48</td><td>0.155</td><td>0.8014</td></tr><tr><th>16</th><td>16</td><td>1</td><td>8.5</td><td>0.5836</td><td>0.0</td><td>0.0</td><td>0.53</td><td>0.14</td><td>1.8103</td></tr><tr><th>17</th><td>17</td><td>1</td><td>10.0</td><td>0.596</td><td>0.0</td><td>0.0</td><td>0.53</td><td>0.126</td><td>2.1799</td></tr><tr><th>18</th><td>18</td><td>1</td><td>10.75</td><td>0.6011</td><td>0.0</td><td>0.0</td><td>0.57</td><td>0.156</td><td>2.3647</td></tr><tr><th>19</th><td>19</td><td>1</td><td>11.0285</td><td>0.6028</td><td>0.0</td><td>0.0</td><td>0.54</td><td>0.144</td><td>2.4333</td></tr><tr><th>20</th><td>20</td><td>1</td><td>4.0</td><td>0.4915</td><td>0.0922065</td><td>0.0</td><td>0.58</td><td>0.104</td><td>0.8014</td></tr><tr><th>21</th><td>21</td><td>1</td><td>8.5</td><td>0.5836</td><td>0.0</td><td>0.0</td><td>0.54</td><td>0.115</td><td>1.8103</td></tr><tr><th>22</th><td>22</td><td>1</td><td>10.0</td><td>0.596</td><td>0.0</td><td>0.0</td><td>0.58</td><td>0.101</td><td>2.1799</td></tr><tr><th>23</th><td>23</td><td>1</td><td>10.75</td><td>0.6011</td><td>0.0</td><td>0.0</td><td>0.58</td><td>0.139</td><td>2.3647</td></tr><tr><th>24</th><td>24</td><td>1</td><td>11.2</td><td>0.6038</td><td>0.0</td><td>0.0</td><td>0.55</td><td>0.124</td><td>2.4756</td></tr><tr><th>25</th><td>25</td><td>1</td><td>4.0</td><td>0.4915</td><td>0.0922065</td><td>0.0</td><td>0.53</td><td>0.123</td><td>0.8014</td></tr><tr><th>26</th><td>26</td><td>1</td><td>8.5</td><td>0.5836</td><td>0.0</td><td>0.0</td><td>0.57</td><td>0.144</td><td>1.8103</td></tr><tr><th>27</th><td>27</td><td>1</td><td>10.0</td><td>0.596</td><td>0.0</td><td>0.0</td><td>0.6</td><td>0.154</td><td>2.1799</td></tr><tr><th>28</th><td>28</td><td>1</td><td>10.75</td><td>0.6011</td><td>0.0</td><td>0.0</td><td>0.45</td><td>0.101</td><td>2.3647</td></tr><tr><th>29</th><td>29</td><td>1</td><td>11.2</td><td>0.6038</td><td>0.0</td><td>0.0</td><td>0.53</td><td>0.132</td><td>2.4756</td></tr><tr><th>30</th><td>30</td><td>2</td><td>12.2276</td><td>0.5596</td><td>0.881291</td><td>0.0</td><td>0.55</td><td>0.107</td><td>3.7074</td></tr><tr><th>&vellip;</th><td>&vellip;</td><td>&vellip;</td><td>&vellip;</td><td>&vellip;</td><td>&vellip;</td><td>&vellip;</td><td>&vellip;</td><td>&vellip;</td><td>&vellip;</td></tr></tbody></table></div>"
      ],
      "text/latex": [
       "\\begin{tabular}{r|ccccccccc}\n",
       "\t& k & i & GWP & Theta & Per\\_Recycl & Per\\_Comp & GHG\\_ElecInd & GHG\\_Trans & OCost\\\\\n",
       "\t\\hline\n",
       "\t& Int64 & Int64 & Float64 & Float64 & Float64 & Float64 & Float64 & Float64 & Float64\\\\\n",
       "\t\\hline\n",
       "\t1 & 1 & 1 & 15.0711 & 0.621 & 0.0 & 0.0 & 0.499 & 0.122 & 3.4294 \\\\\n",
       "\t2 & 2 & 1 & 2.7837 & 0.3955 & 0.661676 & 0.0 & 0.47 & 0.127 & 1.1203 \\\\\n",
       "\t3 & 3 & 1 & 10.0834 & 0.41 & 0.0 & 1.0 & 0.56 & 0.111 & 0.65 \\\\\n",
       "\t4 & 4 & 1 & 8.9103 & 0.4132 & 0.0 & 0.958953 & 0.54 & 0.104 & 0.67 \\\\\n",
       "\t5 & 5 & 1 & 4.0 & 0.4546 & 0.0 & 0.0 & 0.54 & 0.139 & 0.7 \\\\\n",
       "\t6 & 6 & 1 & 4.1434 & 0.5081 & 0.0 & 0.0 & 0.57 & 0.12 & 0.7 \\\\\n",
       "\t7 & 7 & 1 & 7.1535 & 0.4218 & 0.0 & 0.854318 & 0.5 & 0.114 & 0.7 \\\\\n",
       "\t8 & 8 & 1 & 4.1374 & 0.5081 & 0.0 & 0.0 & 0.46 & 0.116 & 0.7 \\\\\n",
       "\t9 & 9 & 1 & 7.1535 & 0.4218 & 0.0 & 0.854318 & 0.52 & 0.132 & 0.7 \\\\\n",
       "\t10 & 10 & 1 & 4.0 & 0.4915 & 0.0922065 & 0.0 & 0.59 & 0.117 & 0.8014 \\\\\n",
       "\t11 & 11 & 1 & 8.5 & 0.5836 & 0.0 & 0.0 & 0.59 & 0.103 & 1.8103 \\\\\n",
       "\t12 & 12 & 1 & 9.2698 & 0.5904 & 0.0 & 0.0 & 0.52 & 0.134 & 2.0 \\\\\n",
       "\t13 & 13 & 1 & 9.2698 & 0.5904 & 0.0 & 0.0 & 0.58 & 0.105 & 2.0 \\\\\n",
       "\t14 & 14 & 1 & 9.2698 & 0.5904 & 0.0 & 0.0 & 0.56 & 0.107 & 2.0 \\\\\n",
       "\t15 & 15 & 1 & 4.0 & 0.4915 & 0.0922065 & 0.0 & 0.48 & 0.155 & 0.8014 \\\\\n",
       "\t16 & 16 & 1 & 8.5 & 0.5836 & 0.0 & 0.0 & 0.53 & 0.14 & 1.8103 \\\\\n",
       "\t17 & 17 & 1 & 10.0 & 0.596 & 0.0 & 0.0 & 0.53 & 0.126 & 2.1799 \\\\\n",
       "\t18 & 18 & 1 & 10.75 & 0.6011 & 0.0 & 0.0 & 0.57 & 0.156 & 2.3647 \\\\\n",
       "\t19 & 19 & 1 & 11.0285 & 0.6028 & 0.0 & 0.0 & 0.54 & 0.144 & 2.4333 \\\\\n",
       "\t20 & 20 & 1 & 4.0 & 0.4915 & 0.0922065 & 0.0 & 0.58 & 0.104 & 0.8014 \\\\\n",
       "\t21 & 21 & 1 & 8.5 & 0.5836 & 0.0 & 0.0 & 0.54 & 0.115 & 1.8103 \\\\\n",
       "\t22 & 22 & 1 & 10.0 & 0.596 & 0.0 & 0.0 & 0.58 & 0.101 & 2.1799 \\\\\n",
       "\t23 & 23 & 1 & 10.75 & 0.6011 & 0.0 & 0.0 & 0.58 & 0.139 & 2.3647 \\\\\n",
       "\t24 & 24 & 1 & 11.2 & 0.6038 & 0.0 & 0.0 & 0.55 & 0.124 & 2.4756 \\\\\n",
       "\t25 & 25 & 1 & 4.0 & 0.4915 & 0.0922065 & 0.0 & 0.53 & 0.123 & 0.8014 \\\\\n",
       "\t26 & 26 & 1 & 8.5 & 0.5836 & 0.0 & 0.0 & 0.57 & 0.144 & 1.8103 \\\\\n",
       "\t27 & 27 & 1 & 10.0 & 0.596 & 0.0 & 0.0 & 0.6 & 0.154 & 2.1799 \\\\\n",
       "\t28 & 28 & 1 & 10.75 & 0.6011 & 0.0 & 0.0 & 0.45 & 0.101 & 2.3647 \\\\\n",
       "\t29 & 29 & 1 & 11.2 & 0.6038 & 0.0 & 0.0 & 0.53 & 0.132 & 2.4756 \\\\\n",
       "\t30 & 30 & 2 & 12.2276 & 0.5596 & 0.881291 & 0.0 & 0.55 & 0.107 & 3.7074 \\\\\n",
       "\t$\\dots$ & $\\dots$ & $\\dots$ & $\\dots$ & $\\dots$ & $\\dots$ & $\\dots$ & $\\dots$ & $\\dots$ & $\\dots$ \\\\\n",
       "\\end{tabular}\n"
      ],
      "text/plain": [
       "\u001b[1m240×9 DataFrame\u001b[0m\n",
       "\u001b[1m Row \u001b[0m│\u001b[1m k     \u001b[0m\u001b[1m i     \u001b[0m\u001b[1m GWP     \u001b[0m\u001b[1m Theta   \u001b[0m\u001b[1m Per_Recycl \u001b[0m\u001b[1m Per_Comp  \u001b[0m\u001b[1m GHG_ElecInd \u001b[0m\u001b[1m GHG\u001b[0m ⋯\n",
       "\u001b[1m     \u001b[0m│\u001b[90m Int64 \u001b[0m\u001b[90m Int64 \u001b[0m\u001b[90m Float64 \u001b[0m\u001b[90m Float64 \u001b[0m\u001b[90m Float64    \u001b[0m\u001b[90m Float64   \u001b[0m\u001b[90m Float64     \u001b[0m\u001b[90m Flo\u001b[0m ⋯\n",
       "─────┼──────────────────────────────────────────────────────────────────────────\n",
       "   1 │     1      1  15.0711   0.621    0.0        0.0              0.499      ⋯\n",
       "   2 │     2      1   2.7837   0.3955   0.661676   0.0              0.47\n",
       "   3 │     3      1  10.0834   0.41     0.0        1.0              0.56\n",
       "   4 │     4      1   8.9103   0.4132   0.0        0.958953         0.54\n",
       "   5 │     5      1   4.0      0.4546   0.0        0.0              0.54       ⋯\n",
       "   6 │     6      1   4.1434   0.5081   0.0        0.0              0.57\n",
       "   7 │     7      1   7.1535   0.4218   0.0        0.854318         0.5\n",
       "   8 │     8      1   4.1374   0.5081   0.0        0.0              0.46\n",
       "   9 │     9      1   7.1535   0.4218   0.0        0.854318         0.52       ⋯\n",
       "  10 │    10      1   4.0      0.4915   0.0922065  0.0              0.59\n",
       "  11 │    11      1   8.5      0.5836   0.0        0.0              0.59\n",
       "  ⋮  │   ⋮      ⋮       ⋮        ⋮         ⋮           ⋮           ⋮           ⋱\n",
       " 231 │   231     10   3.2136   0.175    0.27592    0.0              1.48\n",
       " 232 │   232     10   3.1062   0.175    0.245418   0.0646392        1.58       ⋯\n",
       " 233 │   233     10   2.9988   0.175    0.230787   0.153537         1.48\n",
       " 234 │   234     10   2.8914   0.2485   0.405205   0.0              1.57\n",
       " 235 │   235     10   2.784    0.3955   0.661676   0.0              1.52\n",
       " 236 │   236     10   3.1024   0.05     0.065482   0.0              1.45       ⋯\n",
       " 237 │   237     10   3.1021   0.05     0.065482   0.0              1.5\n",
       " 238 │   238     10   2.9988   0.05     0.0752763  0.0              1.58\n",
       " 239 │   239     10   2.8914   0.207    0.295782   0.0888537        1.56\n",
       " 240 │   240     10   2.784    0.3949   0.660557   0.0              1.48       ⋯\n",
       "\u001b[36m                                                  2 columns and 219 rows omitted\u001b[0m"
      ]
     },
     "execution_count": 10,
     "metadata": {},
     "output_type": "execute_result"
    }
   ],
   "source": [
    "compromise"
   ]
  },
  {
   "cell_type": "code",
   "execution_count": 11,
   "id": "a3dc8236",
   "metadata": {},
   "outputs": [
    {
     "data": {
      "text/html": [
       "<div class=\"data-frame\"><p>1 rows × 7 columns</p><table class=\"data-frame\"><thead><tr><th></th><th>k</th><th>i</th><th>GWP</th><th>Theta</th><th>Per_Recycl</th><th>Per_Comp</th><th>Ocost</th></tr><tr><th></th><th title=\"Int64\">Int64</th><th title=\"Int64\">Int64</th><th title=\"Int64\">Int64</th><th title=\"Float64\">Float64</th><th title=\"Float64\">Float64</th><th title=\"Int64\">Int64</th><th title=\"Float64\">Float64</th></tr></thead><tbody><tr><th>1</th><td>0</td><td>0</td><td>8</td><td>0.15</td><td>0.12</td><td>0</td><td>3.2</td></tr></tbody></table></div>"
      ],
      "text/latex": [
       "\\begin{tabular}{r|ccccccc}\n",
       "\t& k & i & GWP & Theta & Per\\_Recycl & Per\\_Comp & Ocost\\\\\n",
       "\t\\hline\n",
       "\t& Int64 & Int64 & Int64 & Float64 & Float64 & Int64 & Float64\\\\\n",
       "\t\\hline\n",
       "\t1 & 0 & 0 & 8 & 0.15 & 0.12 & 0 & 3.2 \\\\\n",
       "\\end{tabular}\n"
      ],
      "text/plain": [
       "\u001b[1m1×7 DataFrame\u001b[0m\n",
       "\u001b[1m Row \u001b[0m│\u001b[1m k     \u001b[0m\u001b[1m i     \u001b[0m\u001b[1m GWP   \u001b[0m\u001b[1m Theta   \u001b[0m\u001b[1m Per_Recycl \u001b[0m\u001b[1m Per_Comp \u001b[0m\u001b[1m Ocost   \u001b[0m\n",
       "\u001b[1m     \u001b[0m│\u001b[90m Int64 \u001b[0m\u001b[90m Int64 \u001b[0m\u001b[90m Int64 \u001b[0m\u001b[90m Float64 \u001b[0m\u001b[90m Float64    \u001b[0m\u001b[90m Int64    \u001b[0m\u001b[90m Float64 \u001b[0m\n",
       "─────┼─────────────────────────────────────────────────────────────\n",
       "   1 │     0      0      8     0.15        0.12         0      3.2"
      ]
     },
     "execution_count": 11,
     "metadata": {},
     "output_type": "execute_result"
    }
   ],
   "source": [
    "initial"
   ]
  },
  {
   "cell_type": "code",
   "execution_count": 12,
   "id": "12fc4d55",
   "metadata": {},
   "outputs": [
    {
     "data": {
      "text/plain": [
       "tech_roadmap_mccormick_peicewise_iam_multipd (generic function with 1 method)"
      ]
     },
     "execution_count": 12,
     "metadata": {},
     "output_type": "execute_result"
    }
   ],
   "source": [
    "function tech_roadmap_mccormick_peicewise_iam_multipd(co2_target,circularity_target)\n",
    "    \n",
    "    rdmap= Model(Gurobi.Optimizer)\n",
    "    #rdmap=Model(BARON.Optimizer)\n",
    "    #set_optimizer_attribute(rdmap, \"MaxTime\", 250)\n",
    "    #set_optimizer_attribute(rdmap, \"DoLocal\", 0)\n",
    "    #set_optimizer_attribute(rdmap, \"NumLoc\", 0)\n",
    "    set_optimizer_attribute(rdmap, \"NonConvex\", 2)\n",
    "    \n",
    "    #Sets\n",
    "    # i: innovation\n",
    "    # k: compromise or pareto optimal solution\n",
    "    # r,c : row column of transition matrices\n",
    "    \n",
    "    #Declaration of variables\n",
    "    \n",
    "    #binary variable choosing the pareto optimal solution\n",
    "    @variable(rdmap,yk[k=1:nrow(compromise),tt=1:7],Bin)\n",
    "    #time at which a pareto optimal solution is chosen\n",
    "    @variable(rdmap,0 ≤ tk[k=1:nrow(compromise),tt=1:7] ≤ 5)\n",
    "    #percentage of functional unit that a pareto optimal solution takes up\n",
    "    @variable(rdmap,0 ≤ xk[k=1:nrow(compromise),tt=1:7] ≤ 1)\n",
    "    \n",
    "    #binary variable choosing which innovation to invest in for adoption\n",
    "    @variable(rdmap,yi[i=1:nrow(innovations),tt=1:7],Bin)\n",
    "    #time at which invested is made and innovation made adoptible\n",
    "    @variable(rdmap,0 ≤ ti[i=1:nrow(innovations),tt=1:7] ≤ 5)\n",
    "    #readiness level state value of ith innovation\n",
    "    @variable(rdmap, s[i=1:nrow(innovations),tt=1:7] )\n",
    "    \n",
    "    #CO2 at 2050 target\n",
    "    @variable(rdmap, co2_2050[tt=1:7])\n",
    "    \n",
    "    #circularity at 2030 target\n",
    "    @variable(rdmap, theta_2030[tt=1:7] ≥ 0)\n",
    "    #recycled content at 2030 target\n",
    "    @variable(rdmap, recycl_2030[tt=1:7] ≥ 0)\n",
    "    #compostable content at 2030 target\n",
    "    @variable(rdmap, comp_2030[tt=1:7] ≥ 0)\n",
    "    \n",
    "    #integral approximator of CO2\n",
    "    @variable(rdmap, co2_tot ≥ 0)\n",
    "    \n",
    "    #cost incured in investing to adopt\n",
    "    @variable(rdmap, 0 ≤ cost_inn)\n",
    "    \n",
    "    #surrogate models\n",
    "    @variable(rdmap,f_fit[i=1:nrow(innovations),tt=1:7] ≥ 0)\n",
    "    @variable(rdmap,co2_factor[k=1:nrow(compromise),tt=1:7]≥ 0)\n",
    "    @variable(rdmap,co2_corrected[k=1:nrow(compromise),tt=1:7]≥ 0)\n",
    "\n",
    "    for i in 1:nrow(innovations)\n",
    "        for tt in 1:7\n",
    "            f_fit[i,tt] = piecewiselinear(rdmap, tau[tt]+ti[i,tt], Matrix(inn_xrang[!,2:ncol(inn_xrang)])[i,:],Matrix(inn_yrang[!,2:ncol(inn_yrang)])[i,:])\n",
    "        end\n",
    "    end\n",
    "            \n",
    "    \n",
    "    for k in 1:nrow(compromise)\n",
    "        for tt in 1:7\n",
    "            co2_factor[k,tt] = (piecewiselinear(rdmap, tau[tt]+tk[k,tt], Matrix(iam_model[!,1:1])[:,1],Matrix(iam_model[!,2:2])[:,1]))\n",
    "    \n",
    "        end\n",
    "    end\n",
    "    \n",
    "    @constraint(rdmap, [k=1:nrow(compromise),tt=1:7], co2_corrected[k,tt] == \n",
    "        compromise[k,3]*((1-compromise[k,7]) + compromise[k,7]*(co2_factor[k,tt])))\n",
    "    \n",
    "    #Constraints\n",
    "    \n",
    "    \n",
    "    #Planning optimization constraints    \n",
    "    #only one compromise solution chosen on each pareto front, and chosen only if investment made in ith front\n",
    "    @constraint(rdmap, [i=1,tt=1:7], sum(yk[k,tt] for k=1:mapki[i,2])≤ yi[i,tt])\n",
    "    @constraint(rdmap, [i=2:nrow(mapki),tt=1:7], sum(yk[k,tt] for k=mapki[i-1,2]:mapki[i,2])≤ yi[i,tt])\n",
    "    #@constraint(rdmap,[k=2:nrow(compromise),tt=1:7],tk[k-1,tt]==tk[k,tt])\n",
    "    \n",
    "    \n",
    "    #one can pick a compromise solution from ith front to satisfy functional unit only after investment in ith innovation made\n",
    "    @constraint(rdmap, [i=1,tt=1:7], ti[i,tt] ≤ sum(tk[k,tt] for k=1:mapki[i,2]))\n",
    "    @constraint(rdmap, [i=2:nrow(mapki),tt=1:7], ti[i,tt] ≤ sum(tk[k,tt] for k=mapki[i-1,2]:mapki[i,2]))\n",
    "    \n",
    "    #if innovation invested in, time has to be between 0 and fifty, otherwise 0\n",
    "    @constraint(rdmap, [i=1:nrow(mapki),tt=1:7], 5*yi[i,tt] ≥ ti[i,tt])\n",
    "    #if compromise solution chosen, time has to be between 0 and fifty, otherwise 0\n",
    "    @constraint(rdmap, [k=1:nrow(compromise),tt=1:7], 5*yk[k,tt] ≥ tk[k,tt])\n",
    "    \n",
    "    @constraint(rdmap, [i=1:nrow(mapki),tt=1:6], yi[i,tt+1] ≥ yi[i,tt])\n",
    "    @constraint(rdmap, [i=1:nrow(mapki),tt=2:7],ti[i,tt]≤ 5*( yi[i,tt]-yi[i,tt-1]))\n",
    "    \n",
    "    #if compromise chosen across boundary tk=0\n",
    "    #@constraint(rdmap, [k=1:nrow(compromise),tt=2:7],tk[k,tt]≤ 5*( yk[k,tt]-yk[k,tt-1]))\n",
    "    #@constraint(rdmap, [k=1:nrow(compromise),tt=2:7],tk[k,tt]≤ 5000*( xk[k,tt]-xk[k,tt-1]))\n",
    "    #time of change has to be same\n",
    "    #=   \n",
    "    @variables(rdmap,begin \n",
    "                    u1[k=1:nrow(compromise),tt=2:7], Bin\n",
    "                    u2[k=1:nrow(compromise),tt=2:7], Bin\n",
    "                    u0[k=1:nrow(compromise),tt=2:7], Bin\n",
    "        end)\n",
    "    \n",
    "    \n",
    "    for i in 2:nrow(mapki)\n",
    "        @constraint(rdmap,[k=mapki[i-1,2]:mapki[i,2],tt=2:7],1-u0[k,tt]==yi[i,tt]-yi[i,tt-1])\n",
    "        @constraint(rdmap,[k=(mapki[i-1,2]+1):mapki[i,2],tt=2:7],tk[k,tt] ≥ tk[k-1,tt]+(1/5000)*u1[k,tt])\n",
    "        @constraint(rdmap,[k=(mapki[i-1,2]+1):mapki[i,2],tt=2:7],tk[k,tt] ≤ tk[k-1,tt]-(1/5000)*u2[k,tt])\n",
    "        @constraint(rdmap,[k=mapki[i-1,2]:mapki[i,2],tt=2:7],u0[k,tt]+u1[k,tt]+u2[k,tt]≤1)\n",
    "    end\n",
    "    \n",
    "    i=1\n",
    "    @constraint(rdmap,[k=1:mapki[i,2],tt=2:7],1-u0[k,tt]==yi[i,tt]-yi[i,tt-1])  \n",
    "    @constraint(rdmap,[k=2:mapki[i,2],tt=2:7],tk[k,tt] ≥ tk[k-1,tt]+(1/5000)*u1[k,tt])\n",
    "    @constraint(rdmap,[k=2:mapki[i,2],tt=2:7],tk[k,tt] ≤ tk[k-1,tt]-(1/5000)*u2[k,tt])\n",
    "    @constraint(rdmap,[k=1:mapki[i,2],tt=2:7],u0[k,tt]+u1[k,tt]+u2[k,tt]≤1)\n",
    "    =#  \n",
    "    \n",
    "    \n",
    "    \n",
    "    #if innovation invested in, time has to be between 0 and fifty, otherwise 0\n",
    "    #@constraint(rdmap, [i=1:nrow(mapki)], 50*yi[i] ≤ ti[i])\n",
    "    #if compromise solution chosen, time has to be between 0 and fifty, otherwise 0\n",
    "    #@constraint(rdmap, [k=1:nrow(compromise)], 50*yk[k] ≤ tk[k])\n",
    "    \n",
    "    \n",
    "    #functional unit allocation to innovation iff compromise solution chosen\n",
    "    @constraint(rdmap, [k=1:nrow(compromise),tt=1:7], yk[k,tt] ≥ xk[k,tt])\n",
    "    \n",
    "    #total fraction of functional unit satisfied by innovative compromise solutions <1i\n",
    "    @constraint(rdmap,[tt=1:7], sum(xk[k,tt] for k in 1:nrow(compromise)) ≤ 1) \n",
    "    \n",
    "    #co2 at 2050 target formulated based on distribution of functional unit to various pareto solutions from innovative and conventional fronts\n",
    "    #@constraint(rdmap,[tt=6:7],co2_2050[tt]==sum(xk[k,tt]*co2_corrected[k,tt] for k in 1:nrow(compromise))\n",
    "    #    + (1-sum(xk[k,tt] for k in 1:nrow(compromise)))*initial[1,3])\n",
    "    \n",
    "    @constraint(rdmap,[tt=6:7],co2_2050[tt]==sum(xk[k,tt]*co2_corrected[k,tt] for k in 1:nrow(compromise))\n",
    "        + (initial[1,3])*(sum(xk[k,tt-1]*tk[k,tt]-(xk[k,tt]*tk[k,tt]-5*xk[k,tt])\n",
    "                    for k in 1:nrow(compromise))/5))\n",
    "    \n",
    "    #@constraint(rdmap, [k=1:nrow(compromise),tt=1:6], xk[k,tt+1] ≥ xk[k,tt])\n",
    "    \n",
    "    #tk < 30\n",
    "    #@variable(rdmap, zk_2030[k=1:nrow(compromise)], Bin)\n",
    "    #@constraint(rdmap, [k=1:nrow(compromise)], 50*(1-zk_2030[k]) ≥ tk[k]-40)\n",
    "    \n",
    "    #circularity at 2030 target\n",
    "    #@constraint(rdmap, theta_2030==sum(xk[k]*compromise[k,4]*(zk_2030[k]) for k in 1:nrow(compromise))\n",
    "    #   + (1-sum(xk[k]*(zk_2030[k]) for k in 1:nrow(compromise)))*initial[1,4])\n",
    "    \n",
    "    #recyclable content at 2030 target\n",
    "    @constraint(rdmap,[tt=3:7], recycl_2030[tt]==sum(xk[k,tt]*compromise[k,5] for k in 1:nrow(compromise))\n",
    "        + (1-sum(xk[k,tt] for k in 1:nrow(compromise)))*initial[1,5])\n",
    "    \n",
    "    #compostable at 2030 target\n",
    "    @constraint(rdmap,[tt=3:7], comp_2030[tt]==sum(xk[k,tt]*compromise[k,6] for k in 1:nrow(compromise))\n",
    "        + (1-sum(xk[k,tt] for k in 1:nrow(compromise)))*initial[1,6])\n",
    "    \n",
    "    \n",
    "    #Time evolution of innovation\n",
    "   \n",
    "    \n",
    "    #Integral approximation of co2 emitted during the entire time horizon\n",
    "    \n",
    "    #mccormick envelopes reduces computational time by 3 fold (see previous formulation for actual bilinear integral approximation)\n",
    "    @variable(rdmap,0 ≤ w1k[k=1:nrow(compromise),tt=2:7])\n",
    "    @constraint(rdmap,[k=1:nrow(compromise),tt=2:7],w1k[k,tt] ≥ 5*xk[k,tt-1]+tk[k,tt]-5)\n",
    "    @constraint(rdmap,[k=1:nrow(compromise),tt=2:7],w1k[k,tt] ≤ 5*xk[k,tt-1])\n",
    "    @constraint(rdmap,[k=1:nrow(compromise),tt=2:7],w1k[k,tt] ≤ tk[k,tt])\n",
    "    \n",
    "    @variable(rdmap,0 ≤ w2k[k=1:nrow(compromise),tt=1:7])\n",
    "    @constraint(rdmap,[k=1:nrow(compromise),tt=1:7],w2k[k,tt] ≥ 5*xk[k,tt]+tk[k,tt]-5)\n",
    "    @constraint(rdmap,[k=1:nrow(compromise),tt=1:7],w2k[k,tt] ≤ 5*xk[k,tt])\n",
    "    @constraint(rdmap,[k=1:nrow(compromise),tt=1:7],w2k[k,tt] ≤ tk[k,tt])\n",
    "    \n",
    "    \n",
    "    \n",
    "    #@constraint(rdmap, co2_tot == 50*initial[1,3]-sum(sum((5-tk[k,tt])*xk[k,tt]*\n",
    "    #                        (initial[1,3]-co2_corrected[k,tt]) for k in 1:nrow(compromise)) for tt in 1:6))\n",
    "    #@constraint(rdmap, co2_tot == 50*initial[1,3]-sum(sum((5*xk[k,tt]-wk[k,tt])*(initial[1,3]-co2_corrected[k,tt]) \n",
    "    #                for k in 1:nrow(compromise)) for tt in 1:7))\n",
    "    \n",
    "    #@constraint(rdmap, co2_tot == 5*initial[1,3]*sum(1-xk[k,1] for k in 1:nrow(compromise))\n",
    "    #                    -sum(sum(((w1k[k,tt]-5*xk[k,tt-1])*co2_corrected[k,tt-1])+(w2k[k,tt]*co2_corrected[k,tt])\n",
    "    #                    + 5*initial[1,3]*(sum(xk[k,tt-1] for k in 1:nrow(compromise))-sum(xk[k,tt] for k in 1:nrow(compromise)))\n",
    "    #                    for k in 1:nrow(compromise)) for tt in 2:7))\n",
    "    \n",
    "    #@constraint(rdmap, co2_tot == 5*initial[1,3]*sum(1-xk[k,1] for k in 1:nrow(compromise))\n",
    "    #                -sum(sum(((w1k[k,tt]-5*xk[k,tt-1])*co2_corrected[k,tt-1])-(w2k[k,tt]*co2_corrected[k,tt])\n",
    "    #                for k in 1:nrow(compromise)) - 5*(initial[1,3])*(sum(xk[k,tt-1] for k in 1:nrow(compromise))\n",
    "    #                -sum(xk[k,tt] for k in 1:nrow(compromise))) for tt in 2:7))\n",
    "    \n",
    "    #@constraint(rdmap, co2_tot == 5*initial[1,3]*sum(1-xk[k,1] for k in 1:nrow(compromise))\n",
    "    #                +sum(sum(((w1k[k,tt])*co2_corrected[k,tt-1])-((w2k[k,tt]-5*xk[k,tt])*co2_corrected[k,tt])\n",
    "    #                for k in 1:nrow(compromise)) + 5*(initial[1,3])*(sum(xk[k,tt-1] for k in 1:nrow(compromise))\n",
    "    #                -sum(xk[k,tt] for k in 1:nrow(compromise))) for tt in 2:7))\n",
    "     \n",
    "    \n",
    "    #correct one\n",
    "    #@constraint(rdmap, co2_tot == 5*initial[1,3]*sum(1-xk[k,1] for k in 1:nrow(compromise))\n",
    "    #                +sum(sum(((w1k[k,tt])*co2_corrected[k,tt-1])-((w2k[k,tt]-5*xk[k,tt])*co2_corrected[k,tt])\n",
    "    #                for k in 1:nrow(compromise)) for tt in 2:7) + \n",
    "    #                sum(5*(initial[1,3])*(sum(w1k[k,tt]-(w2k[k,tt]-5*xk[k,tt])\n",
    "    #                for k in 1:nrow(compromise))/5) for tt in 2:7))\n",
    "    \n",
    "    @constraint(rdmap, co2_tot == 5*initial[1,3]*sum(1-xk[k,1] for k in 1:nrow(compromise))\n",
    "                    +sum(sum(((w1k[k,tt])*co2_corrected[k,tt-1])-((w2k[k,tt]-5*xk[k,tt])*co2_corrected[k,tt])\n",
    "                    for k in 1:nrow(compromise)) for tt in 2:7) + \n",
    "                    sum(5*(initial[1,3])*(sum(xk[k,tt-1]*tk[k,tt]-(xk[k,tt]*tk[k,tt]-5*xk[k,tt])\n",
    "                    for k in 1:nrow(compromise))/5) for tt in 2:7))\n",
    "    \n",
    "    @variable(rdmap,comp[tt=2:7])\n",
    "    @constraint(rdmap,[tt=2:7],comp[tt]==sum(xk[k,tt-1]*tk[k,tt]-(xk[k,tt]*tk[k,tt]-5*xk[k,tt])\n",
    "                    for k in 1:nrow(compromise))/5)\n",
    "        \n",
    "    #@constraint(rdmap, 120*0.001*co2_tot ≤ 360)\n",
    "    \n",
    "\n",
    "    #setting target for 2050 co2 pledge\n",
    "    @constraint(rdmap, co2_2050[7] .≤ co2_target)\n",
    "    \n",
    "    #setting target for 2030 circularity pledge\n",
    "    #@constraint(rdmap, theta_2030 ≥ 0.72)\n",
    "    \n",
    "    #setting target for 2030 recycl pledge\n",
    "    @constraint(rdmap,[tt=3:7], recycl_2030[tt] + comp_2030[tt] ≥ circularity_target)\n",
    "    \n",
    "    #setting target for 2030 comp pledge\n",
    "    #@constraint(rdmap, comp_2030 ≥ 0.45)\n",
    "    \n",
    "    #@constraint(rdmap,[k=1:25,tt=3:7],tk[k,tt]==0)\n",
    "\n",
    "\n",
    "    #investment cost\n",
    "    @constraint(rdmap, cost_inn == sum(sum(ci[i]*((yi[i,tt]-yi[i,tt-1])*f_fit[i,tt])\n",
    "                for i in 1:nrow(innovations)) for tt in 2:7) + sum(ci[i]*(yi[i,1]*f_fit[i,1]) for i in 1:nrow(innovations)))\n",
    "    \n",
    "    #operating cost\n",
    "    @variable(rdmap,cost_op ≥ 0)\n",
    "    @constraint(rdmap,cost_op == sum(sum(xk[k,tt]*compromise[k,9]*0.968^(-1*tau[tt]) for k in 1:nrow(compromise))\n",
    "        + (1-sum(xk[k,tt] for k in 1:nrow(compromise)))*initial[1,7]*0.968^(-1*tau[tt]) for tt in 1:7))\n",
    "\n",
    "    \n",
    "    @constraint(rdmap, [i=1:nrow(innovations),tt=1:7],s[i,tt]==f_fit[i,tt])\n",
    "    \n",
    "    #@variable(rdmap, y1, Bin)\n",
    "    #@NLconstraint(rdmap, cost_inn == sum(ci[i]*(yi[i]*(y1*(2*t/50)+(1-y1)*(3*t/50))) for i in 1:nrow(innovations)))\n",
    "    \n",
    "    \n",
    "    #definining objective function as investment cost + Co2 emission cost during the time horizon\n",
    "    #40*0.001*co2_tot+\n",
    "    #@NLconstraint(rdmap, obj_val == cost_inn)\n",
    "    #120*0.001*co2_tot+\n",
    "    @objective(rdmap,Min,120*0.001*co2_tot+cost_inn+cost_op)\n",
    "    #120*0.001*co2_tot+\n",
    "    #supplying lower bound on objective based on cost_inn optimal\n",
    "    #@variable(rdmap, obj_val ≥ 180)\n",
    "    #print(rdmap)\n",
    "    optimize!(rdmap)\n",
    "    \n",
    "    return JuMP.value.(yk), JuMP.value.(tk), JuMP.value.(xk), JuMP.value.(yi), JuMP.value.(ti), \n",
    "        JuMP.value.(s), JuMP.value.(co2_2050), JuMP.value.(cost_inn), JuMP.value.(co2_tot), JuMP.value.(co2_corrected), JuMP.value.(co2_factor), JuMP.values.(comp)\n",
    "end\n",
    "\n",
    "\n"
   ]
  },
  {
   "cell_type": "code",
   "execution_count": 13,
   "id": "6644178b",
   "metadata": {
    "scrolled": true
   },
   "outputs": [
    {
     "name": "stdout",
     "output_type": "stream",
     "text": [
      "Academic license - for non-commercial use only - expires 2022-11-07\n",
      "Gurobi Optimizer version 9.1.2 build v9.1.2rc0 (linux64)\n",
      "Thread count: 8 physical cores, 16 logical processors, using up to 16 threads\n",
      "Optimize a model with 30574 rows, 29337 columns and 109143 nonzeros\n",
      "Model fingerprint: 0x95de5951\n",
      "Model has 10 quadratic constraints\n",
      "Variable types: 22337 continuous, 7000 integer (7000 binary)\n",
      "Coefficient statistics:\n",
      "  Matrix range     [6e-03, 5e+01]\n",
      "  QMatrix range    [2e-01, 2e+02]\n",
      "  QLMatrix range   [1e+00, 4e+01]\n",
      "  Objective range  [1e-01, 1e+00]\n",
      "  Bounds range     [3e-01, 1e+01]\n",
      "  RHS range        [1e-01, 4e+01]\n",
      "  QRHS range       [1e+04, 1e+04]\n",
      "Presolve removed 10481 rows and 13635 columns\n",
      "Presolve time: 0.20s\n",
      "Presolved: 49293 rows, 23032 columns, 185696 nonzeros\n",
      "Presolved model has 7200 bilinear constraint(s)\n",
      "Variable types: 19561 continuous, 3471 integer (3471 binary)\n",
      "\n",
      "Deterministic concurrent LP optimizer: primal and dual simplex (primal and dual model)\n",
      "Showing first log only...\n",
      "\n",
      "Presolve removed 5575 rows and 2221 columns\n",
      "Presolved: 43718 rows, 20811 columns, 170435 nonzeros\n",
      "\n",
      "Concurrent spin time: 0.05s\n",
      "\n",
      "Solved with primal simplex (primal model)\n",
      "\n",
      "Root relaxation: objective 1.218710e+03, 18749 iterations, 0.68 seconds\n",
      "\n",
      "    Nodes    |    Current Node    |     Objective Bounds      |     Work\n",
      " Expl Unexpl |  Obj  Depth IntInf | Incumbent    BestBd   Gap | It/Node Time\n",
      "\n",
      "     0     0 1321.28346    0  249          - 1321.28346      -     -    1s\n",
      "     0     0 1396.53197    0  309          - 1396.53197      -     -    2s\n",
      "     0     0 1396.54701    0  306          - 1396.54701      -     -    2s\n",
      "     0     0 1442.03978    0  320          - 1442.03978      -     -    2s\n",
      "     0     0 1443.96476    0  321          - 1443.96476      -     -    3s\n",
      "     0     0 1497.97205    0  253          - 1497.97205      -     -    3s\n",
      "     0     0 1573.68992    0  308          - 1573.68992      -     -    3s\n",
      "     0     0 1601.40546    0  351          - 1601.40546      -     -    3s\n",
      "     0     0 1604.66424    0  368          - 1604.66424      -     -    4s\n",
      "     0     0 1612.58775    0  324          - 1612.58775      -     -    4s\n",
      "     0     0 1612.58977    0  336          - 1612.58977      -     -    4s\n",
      "     0     0 1612.86013    0  303          - 1612.86013      -     -    4s\n",
      "     0     0 1612.86030    0  312          - 1612.86030      -     -    4s\n",
      "     0     0 1614.80422    0  331          - 1614.80422      -     -    4s\n",
      "     0     0 1615.28360    0  352          - 1615.28360      -     -    4s\n",
      "     0     0 1616.07581    0  360          - 1616.07581      -     -    5s\n",
      "     0     0 1616.34615    0  368          - 1616.34615      -     -    5s\n",
      "     0     0 1617.85376    0  367          - 1617.85376      -     -    5s\n",
      "     0     0 1618.68710    0  347          - 1618.68710      -     -    5s\n",
      "     0     0 1618.96230    0  344          - 1618.96230      -     -    5s\n",
      "     0     0 1619.69181    0  366          - 1619.69181      -     -    5s\n",
      "     0     0 1620.00458    0  364          - 1620.00458      -     -    5s\n",
      "     0     0 1620.00734    0  373          - 1620.00734      -     -    6s\n",
      "     0     0 1620.13338    0  385          - 1620.13338      -     -    6s\n",
      "     0     0 1620.13455    0  401          - 1620.13455      -     -    6s\n",
      "     0     0 1620.15628    0  387          - 1620.15628      -     -    6s\n",
      "     0     0 1620.15670    0  390          - 1620.15670      -     -    6s\n",
      "     0     0 1620.17375    0  407          - 1620.17375      -     -    6s\n",
      "     0     0 1620.26280    0  329          - 1620.26280      -     -    7s\n",
      "     0     2 1620.26286    0  315          - 1620.26286      -     -   10s\n",
      "   141   174 1684.91495   15   83          - 1684.34083      -   653   15s\n",
      "   701   830 1685.14445   74   62          - 1684.34083      -   319   20s\n",
      "* 1088   569             148    1685.1490647 1684.34093  0.05%   243   24s\n",
      "  1218   485 1684.34360    8  187 1685.14906 1684.34158  0.05%   228   25s\n",
      "H 1332   477                    1685.1444395 1684.34158  0.05%   232   26s\n",
      "  1564   895 1684.65503   13  167 1685.14444 1684.34312  0.05%   201   30s\n",
      "* 1884   593             187    1684.6708132 1684.34312  0.02%   172   31s\n",
      "  2351   810 1684.66477   52  159 1684.67081 1684.34312  0.02%   152   36s\n",
      "  2918  1081 1684.64784   67  141 1684.67081 1684.34312  0.02%   124   41s\n",
      "H 2919  1027                    1684.6707708 1684.34312  0.02%   124   42s\n",
      "  2929  1035 1684.66869   98  141 1684.67077 1684.34312  0.02%   131   45s\n",
      "  2954  1052 1684.64969   45  102 1684.67077 1684.34312  0.02%   130   50s\n",
      "\n",
      "Cutting planes:\n",
      "  Gomory: 10\n",
      "  Implied bound: 16\n",
      "  Projected implied bound: 7\n",
      "  Clique: 9\n",
      "  MIR: 37\n",
      "  Flow cover: 31\n",
      "  GUB cover: 1\n",
      "  RLT: 57\n",
      "  Relax-and-lift: 56\n",
      "\n",
      "Explored 2963 nodes (444399 simplex iterations) in 52.03 seconds\n",
      "Thread count was 16 (of 16 available processors)\n",
      "\n",
      "Solution count 7: 1684.67 1684.67 1684.67 ... 1685.15\n",
      "\n",
      "Optimal solution found (tolerance 1.00e-04)\n",
      "Best objective 1.684670813256e+03, best bound 1.684602780131e+03, gap 0.0040%\n",
      "\n",
      "User-callback calls 12082, time in user-callback 0.01 sec\n"
     ]
    },
    {
     "data": {
      "text/plain": [
       "10×7 Matrix{Float64}:\n",
       " 0.0  0.0  0.0  0.0  0.0  0.0  0.0\n",
       " 0.0  0.0  0.0  0.0  0.0  0.0  0.0\n",
       " 0.0  0.0  0.0  0.0  0.0  0.0  0.0\n",
       " 0.0  0.0  0.0  0.0  0.0  0.0  0.0\n",
       " 1.0  1.0  1.0  1.0  1.0  1.0  1.0\n",
       " 0.0  0.0  0.0  0.0  0.0  0.0  0.0\n",
       " 0.0  0.0  0.0  0.0  0.0  0.0  0.0\n",
       " 0.0  0.0  0.0  0.0  0.0  0.0  0.0\n",
       " 1.0  1.0  1.0  1.0  1.0  1.0  1.0\n",
       " 0.0  0.0  0.0  0.0  0.0  0.0  0.0"
      ]
     },
     "execution_count": 13,
     "metadata": {},
     "output_type": "execute_result"
    }
   ],
   "source": [
    "yk, tk, xk, yi, ti, s, co2, costInn, co2tot, co2fac, cc, comp1=tech_roadmap_mccormick_peicewise_iam_multipd(0.4,0.75)\n",
    "yi\n"
   ]
  },
  {
   "cell_type": "code",
   "execution_count": 14,
   "id": "0629277d",
   "metadata": {
    "scrolled": true
   },
   "outputs": [
    {
     "data": {
      "application/vnd.vegalite.v4+json": {
       "data": {
        "values": [
         {
          "value": 0,
          "variable": "x93",
          "year": 5
         },
         {
          "value": 0,
          "variable": "x93",
          "year": 10
         },
         {
          "value": 0,
          "variable": "x93",
          "year": 15
         },
         {
          "value": 0.5514678785292009,
          "variable": "x93",
          "year": 20
         },
         {
          "value": 0,
          "variable": "x93",
          "year": 25
         },
         {
          "value": 0.5514678785292502,
          "variable": "x93",
          "year": 30
         },
         {
          "value": 0,
          "variable": "x93",
          "year": 35
         },
         {
          "value": 0,
          "variable": "x93",
          "year": 0
         },
         {
          "value": 1,
          "variable": "x94",
          "year": 5
         },
         {
          "value": 0,
          "variable": "x94",
          "year": 10
         },
         {
          "value": 0,
          "variable": "x94",
          "year": 15
         },
         {
          "value": 0,
          "variable": "x94",
          "year": 20
         },
         {
          "value": 0,
          "variable": "x94",
          "year": 25
         },
         {
          "value": 0,
          "variable": "x94",
          "year": 30
         },
         {
          "value": 0,
          "variable": "x94",
          "year": 35
         },
         {
          "value": 0,
          "variable": "x94",
          "year": 0
         },
         {
          "value": 0,
          "variable": "x103",
          "year": 5
         },
         {
          "value": 0,
          "variable": "x103",
          "year": 10
         },
         {
          "value": 0.5311190564364692,
          "variable": "x103",
          "year": 15
         },
         {
          "value": 0,
          "variable": "x103",
          "year": 20
         },
         {
          "value": 0,
          "variable": "x103",
          "year": 25
         },
         {
          "value": 0,
          "variable": "x103",
          "year": 30
         },
         {
          "value": 0,
          "variable": "x103",
          "year": 35
         },
         {
          "value": 0,
          "variable": "x103",
          "year": 0
         },
         {
          "value": 0,
          "variable": "x108",
          "year": 5
         },
         {
          "value": 0,
          "variable": "x108",
          "year": 10
         },
         {
          "value": 0,
          "variable": "x108",
          "year": 15
         },
         {
          "value": 0,
          "variable": "x108",
          "year": 20
         },
         {
          "value": 0.5481524140640046,
          "variable": "x108",
          "year": 25
         },
         {
          "value": 0,
          "variable": "x108",
          "year": 30
         },
         {
          "value": 0.6620162190803317,
          "variable": "x108",
          "year": 35
         },
         {
          "value": 0,
          "variable": "x108",
          "year": 0
         },
         {
          "value": 0,
          "variable": "x195",
          "year": 5
         },
         {
          "value": 1,
          "variable": "x195",
          "year": 10
         },
         {
          "value": 0,
          "variable": "x195",
          "year": 15
         },
         {
          "value": 0,
          "variable": "x195",
          "year": 20
         },
         {
          "value": 0,
          "variable": "x195",
          "year": 25
         },
         {
          "value": 0,
          "variable": "x195",
          "year": 30
         },
         {
          "value": 0,
          "variable": "x195",
          "year": 35
         },
         {
          "value": 0,
          "variable": "x195",
          "year": 0
         },
         {
          "value": 0,
          "variable": "x197",
          "year": 5
         },
         {
          "value": 0,
          "variable": "x197",
          "year": 10
         },
         {
          "value": 0,
          "variable": "x197",
          "year": 15
         },
         {
          "value": 0,
          "variable": "x197",
          "year": 20
         },
         {
          "value": 0,
          "variable": "x197",
          "year": 25
         },
         {
          "value": 0,
          "variable": "x197",
          "year": 30
         },
         {
          "value": 0.3379837809196683,
          "variable": "x197",
          "year": 35
         },
         {
          "value": 0,
          "variable": "x197",
          "year": 0
         },
         {
          "value": 0,
          "variable": "x198",
          "year": 5
         },
         {
          "value": 0,
          "variable": "x198",
          "year": 10
         },
         {
          "value": 0,
          "variable": "x198",
          "year": 15
         },
         {
          "value": 0,
          "variable": "x198",
          "year": 20
         },
         {
          "value": 0.4518475859359954,
          "variable": "x198",
          "year": 25
         },
         {
          "value": 0,
          "variable": "x198",
          "year": 30
         },
         {
          "value": 0,
          "variable": "x198",
          "year": 35
         },
         {
          "value": 0,
          "variable": "x198",
          "year": 0
         },
         {
          "value": 0,
          "variable": "x199",
          "year": 5
         },
         {
          "value": 0,
          "variable": "x199",
          "year": 10
         },
         {
          "value": 0,
          "variable": "x199",
          "year": 15
         },
         {
          "value": 0.4485321214707991,
          "variable": "x199",
          "year": 20
         },
         {
          "value": 0,
          "variable": "x199",
          "year": 25
         },
         {
          "value": 0.44853212147074983,
          "variable": "x199",
          "year": 30
         },
         {
          "value": 0,
          "variable": "x199",
          "year": 35
         },
         {
          "value": 0,
          "variable": "x199",
          "year": 0
         },
         {
          "value": 0,
          "variable": "x200",
          "year": 5
         },
         {
          "value": 0,
          "variable": "x200",
          "year": 10
         },
         {
          "value": 0.46888094356353077,
          "variable": "x200",
          "year": 15
         },
         {
          "value": 0,
          "variable": "x200",
          "year": 20
         },
         {
          "value": 0,
          "variable": "x200",
          "year": 25
         },
         {
          "value": 0,
          "variable": "x200",
          "year": 30
         },
         {
          "value": 0,
          "variable": "x200",
          "year": 35
         },
         {
          "value": 0,
          "variable": "x200",
          "year": 0
         },
         {
          "value": 0,
          "variable": "Conv",
          "year": 5
         },
         {
          "value": 0,
          "variable": "Conv",
          "year": 10
         },
         {
          "value": 0,
          "variable": "Conv",
          "year": 15
         },
         {
          "value": 0,
          "variable": "Conv",
          "year": 20
         },
         {
          "value": 0,
          "variable": "Conv",
          "year": 25
         },
         {
          "value": 0,
          "variable": "Conv",
          "year": 30
         },
         {
          "value": 0,
          "variable": "Conv",
          "year": 35
         },
         {
          "value": 1,
          "variable": "Conv",
          "year": 0
         }
        ]
       },
       "encoding": {
        "color": {
         "field": "variable",
         "type": "nominal"
        },
        "x": {
         "field": "year",
         "type": "quantitative"
        },
        "y": {
         "field": "value",
         "stack": "zero",
         "title": "xk",
         "type": "quantitative"
        }
       },
       "legend": "sNames",
       "mark": "area"
      },
      "image/png": "[encoded data removed]",
      "image/svg+xml": [
       "<?xml version=\"1.0\" encoding=\"utf-8\"?>\n",
       "<!DOCTYPE svg PUBLIC \"-//W3C//DTD SVG 1.1//EN\" \"http://www.w3.org/Graphics/SVG/1.1/DTD/svg11.dtd\">\n",
       "<svg xmlns=\"http://www.w3.org/2000/svg\" xmlns:xlink=\"http://www.w3.org/1999/xlink\" version=\"1.1\" class=\"marks\" width=\"314\" height=\"247\" viewBox=\"0 0 314 247\"><rect width=\"314\" height=\"247\" fill=\"white\"/><g fill=\"none\" stroke-miterlimit=\"10\" transform=\"translate(42,10)\"><g class=\"mark-group role-frame root\" role=\"graphics-object\" aria-roledescription=\"group mark container\"><g transform=\"translate(0,0)\"><path class=\"background\" aria-hidden=\"true\" d=\"M0.5,0.5h200v200h-200Z\" stroke=\"#ddd\"/><g><g class=\"mark-group role-axis\" aria-hidden=\"true\"><g transform=\"translate(0.5,200.5)\"><path class=\"background\" aria-hidden=\"true\" d=\"M0,0h0v0h0Z\" pointer-events=\"none\"/><g><g class=\"mark-rule role-axis-grid\" pointer-events=\"none\"><line transform=\"translate(0,-200)\" x2=\"0\" y2=\"200\" stroke=\"#ddd\" stroke-width=\"1\" opacity=\"1\"/><line transform=\"translate(29,-200)\" x2=\"0\" y2=\"200\" stroke=\"#ddd\" stroke-width=\"1\" opacity=\"1\"/><line transform=\"translate(57,-200)\" x2=\"0\" y2=\"200\" stroke=\"#ddd\" stroke-width=\"1\" opacity=\"1\"/><line transform=\"translate(86,-200)\" x2=\"0\" y2=\"200\" stroke=\"#ddd\" stroke-width=\"1\" opacity=\"1\"/><line transform=\"translate(114,-200)\" x2=\"0\" y2=\"200\" stroke=\"#ddd\" stroke-width=\"1\" opacity=\"1\"/><line transform=\"translate(143,-200)\" x2=\"0\" y2=\"200\" stroke=\"#ddd\" stroke-width=\"1\" opacity=\"1\"/><line transform=\"translate(171,-200)\" x2=\"0\" y2=\"200\" stroke=\"#ddd\" stroke-width=\"1\" opacity=\"1\"/><line transform=\"translate(200,-200)\" x2=\"0\" y2=\"200\" stroke=\"#ddd\" stroke-width=\"1\" opacity=\"1\"/></g></g><path class=\"foreground\" aria-hidden=\"true\" d=\"\" pointer-events=\"none\" display=\"none\"/></g></g><g class=\"mark-group role-axis\" aria-hidden=\"true\"><g transform=\"translate(0.5,0.5)\"><path class=\"background\" aria-hidden=\"true\" d=\"M0,0h0v0h0Z\" pointer-events=\"none\"/><g><g class=\"mark-rule role-axis-grid\" pointer-events=\"none\"><line transform=\"translate(0,200)\" x2=\"200\" y2=\"0\" stroke=\"#ddd\" stroke-width=\"1\" opacity=\"1\"/><line transform=\"translate(0,160)\" x2=\"200\" y2=\"0\" stroke=\"#ddd\" stroke-width=\"1\" opacity=\"1\"/><line transform=\"translate(0,120)\" x2=\"200\" y2=\"0\" stroke=\"#ddd\" stroke-width=\"1\" opacity=\"1\"/><line transform=\"translate(0,80)\" x2=\"200\" y2=\"0\" stroke=\"#ddd\" stroke-width=\"1\" opacity=\"1\"/><line transform=\"translate(0,40)\" x2=\"200\" y2=\"0\" stroke=\"#ddd\" stroke-width=\"1\" opacity=\"1\"/><line transform=\"translate(0,0)\" x2=\"200\" y2=\"0\" stroke=\"#ddd\" stroke-width=\"1\" opacity=\"1\"/></g></g><path class=\"foreground\" aria-hidden=\"true\" d=\"\" pointer-events=\"none\" display=\"none\"/></g></g><g class=\"mark-group role-axis\" role=\"graphics-symbol\" aria-roledescription=\"axis\" aria-label=\"X-axis titled 'year' for a linear scale with values from 0 to 35\"><g transform=\"translate(0.5,200.5)\"><path class=\"background\" aria-hidden=\"true\" d=\"M0,0h0v0h0Z\" pointer-events=\"none\"/><g><g class=\"mark-rule role-axis-tick\" pointer-events=\"none\"><line transform=\"translate(0,0)\" x2=\"0\" y2=\"5\" stroke=\"#888\" stroke-width=\"1\" opacity=\"1\"/><line transform=\"translate(29,0)\" x2=\"0\" y2=\"5\" stroke=\"#888\" stroke-width=\"1\" opacity=\"1\"/><line transform=\"translate(57,0)\" x2=\"0\" y2=\"5\" stroke=\"#888\" stroke-width=\"1\" opacity=\"1\"/><line transform=\"translate(86,0)\" x2=\"0\" y2=\"5\" stroke=\"#888\" stroke-width=\"1\" opacity=\"1\"/><line transform=\"translate(114,0)\" x2=\"0\" y2=\"5\" stroke=\"#888\" stroke-width=\"1\" opacity=\"1\"/><line transform=\"translate(143,0)\" x2=\"0\" y2=\"5\" stroke=\"#888\" stroke-width=\"1\" opacity=\"1\"/><line transform=\"translate(171,0)\" x2=\"0\" y2=\"5\" stroke=\"#888\" stroke-width=\"1\" opacity=\"1\"/><line transform=\"translate(200,0)\" x2=\"0\" y2=\"5\" stroke=\"#888\" stroke-width=\"1\" opacity=\"1\"/></g><g class=\"mark-text role-axis-label\" pointer-events=\"none\"><text text-anchor=\"start\" transform=\"translate(0,15)\" font-family=\"sans-serif\" font-size=\"10px\" fill=\"#000\" opacity=\"1\">0</text><text text-anchor=\"middle\" transform=\"translate(28.57142857142857,15)\" font-family=\"sans-serif\" font-size=\"10px\" fill=\"#000\" opacity=\"1\">5</text><text text-anchor=\"middle\" transform=\"translate(57.14285714285714,15)\" font-family=\"sans-serif\" font-size=\"10px\" fill=\"#000\" opacity=\"1\">10</text><text text-anchor=\"middle\" transform=\"translate(85.71428571428571,15)\" font-family=\"sans-serif\" font-size=\"10px\" fill=\"#000\" opacity=\"1\">15</text><text text-anchor=\"middle\" transform=\"translate(114.28571428571428,15)\" font-family=\"sans-serif\" font-size=\"10px\" fill=\"#000\" opacity=\"1\">20</text><text text-anchor=\"middle\" transform=\"translate(142.85714285714286,15)\" font-family=\"sans-serif\" font-size=\"10px\" fill=\"#000\" opacity=\"1\">25</text><text text-anchor=\"middle\" transform=\"translate(171.42857142857142,15)\" font-family=\"sans-serif\" font-size=\"10px\" fill=\"#000\" opacity=\"1\">30</text><text text-anchor=\"end\" transform=\"translate(200,15)\" font-family=\"sans-serif\" font-size=\"10px\" fill=\"#000\" opacity=\"1\">35</text></g><g class=\"mark-rule role-axis-domain\" pointer-events=\"none\"><line transform=\"translate(0,0)\" x2=\"200\" y2=\"0\" stroke=\"#888\" stroke-width=\"1\" opacity=\"1\"/></g><g class=\"mark-text role-axis-title\" pointer-events=\"none\"><text text-anchor=\"middle\" transform=\"translate(100,30)\" font-family=\"sans-serif\" font-size=\"11px\" font-weight=\"bold\" fill=\"#000\" opacity=\"1\">year</text></g></g><path class=\"foreground\" aria-hidden=\"true\" d=\"\" pointer-events=\"none\" display=\"none\"/></g></g><g class=\"mark-group role-axis\" role=\"graphics-symbol\" aria-roledescription=\"axis\" aria-label=\"Y-axis titled 'xk' for a linear scale with values from 0.0 to 1.0\"><g transform=\"translate(0.5,0.5)\"><path class=\"background\" aria-hidden=\"true\" d=\"M0,0h0v0h0Z\" pointer-events=\"none\"/><g><g class=\"mark-rule role-axis-tick\" pointer-events=\"none\"><line transform=\"translate(0,200)\" x2=\"-5\" y2=\"0\" stroke=\"#888\" stroke-width=\"1\" opacity=\"1\"/><line transform=\"translate(0,160)\" x2=\"-5\" y2=\"0\" stroke=\"#888\" stroke-width=\"1\" opacity=\"1\"/><line transform=\"translate(0,120)\" x2=\"-5\" y2=\"0\" stroke=\"#888\" stroke-width=\"1\" opacity=\"1\"/><line transform=\"translate(0,80)\" x2=\"-5\" y2=\"0\" stroke=\"#888\" stroke-width=\"1\" opacity=\"1\"/><line transform=\"translate(0,40)\" x2=\"-5\" y2=\"0\" stroke=\"#888\" stroke-width=\"1\" opacity=\"1\"/><line transform=\"translate(0,0)\" x2=\"-5\" y2=\"0\" stroke=\"#888\" stroke-width=\"1\" opacity=\"1\"/></g><g class=\"mark-text role-axis-label\" pointer-events=\"none\"><text text-anchor=\"end\" transform=\"translate(-7,203)\" font-family=\"sans-serif\" font-size=\"10px\" fill=\"#000\" opacity=\"1\">0.0</text><text text-anchor=\"end\" transform=\"translate(-7,163)\" font-family=\"sans-serif\" font-size=\"10px\" fill=\"#000\" opacity=\"1\">0.2</text><text text-anchor=\"end\" transform=\"translate(-7,123)\" font-family=\"sans-serif\" font-size=\"10px\" fill=\"#000\" opacity=\"1\">0.4</text><text text-anchor=\"end\" transform=\"translate(-7,83)\" font-family=\"sans-serif\" font-size=\"10px\" fill=\"#000\" opacity=\"1\">0.6</text><text text-anchor=\"end\" transform=\"translate(-7,42.99999999999999)\" font-family=\"sans-serif\" font-size=\"10px\" fill=\"#000\" opacity=\"1\">0.8</text><text text-anchor=\"end\" transform=\"translate(-7,3)\" font-family=\"sans-serif\" font-size=\"10px\" fill=\"#000\" opacity=\"1\">1.0</text></g><g class=\"mark-rule role-axis-domain\" pointer-events=\"none\"><line transform=\"translate(0,200)\" x2=\"0\" y2=\"-200\" stroke=\"#888\" stroke-width=\"1\" opacity=\"1\"/></g><g class=\"mark-text role-axis-title\" pointer-events=\"none\"><text text-anchor=\"middle\" transform=\"translate(-26,100) rotate(-90) translate(0,-2)\" font-family=\"sans-serif\" font-size=\"11px\" font-weight=\"bold\" fill=\"#000\" opacity=\"1\">xk</text></g></g><path class=\"foreground\" aria-hidden=\"true\" d=\"\" pointer-events=\"none\" display=\"none\"/></g></g><g class=\"mark-group role-scope pathgroup\" role=\"graphics-object\" aria-roledescription=\"group mark container\"><g transform=\"translate(0,0)\"><path class=\"background\" aria-hidden=\"true\" d=\"M0,0h200v200h-200Z\"/><g><g class=\"mark-area role-mark marks\" role=\"graphics-object\" aria-roledescription=\"area mark container\"><path aria-label=\"year: 0; xk: 0; variable: x93\" role=\"graphics-symbol\" aria-roledescription=\"area mark\" d=\"M0,200L28.57142857142857,0L57.14285714285714,200L85.71428571428571,200L114.28571428571428,89.70642429415983L142.85714285714286,200L171.42857142857142,89.70642429414997L200,200L200,200L171.42857142857142,200L142.85714285714286,200L114.28571428571428,200L85.71428571428571,200L57.14285714285714,200L28.57142857142857,0L0,200Z\" fill=\"#9d755d\"/></g></g><path class=\"foreground\" aria-hidden=\"true\" d=\"\" display=\"none\"/></g><g transform=\"translate(0,0)\"><path class=\"background\" aria-hidden=\"true\" d=\"M0,0h200v200h-200Z\"/><g><g class=\"mark-area role-mark marks\" role=\"graphics-object\" aria-roledescription=\"area mark container\"><path aria-label=\"year: 0; xk: 0; variable: x94\" role=\"graphics-symbol\" aria-roledescription=\"area mark\" d=\"M0,200L28.57142857142857,0L57.14285714285714,200L85.71428571428571,200L114.28571428571428,200L142.85714285714286,200L171.42857142857142,200L200,200L200,200L171.42857142857142,200L142.85714285714286,200L114.28571428571428,200L85.71428571428571,200L57.14285714285714,200L28.57142857142857,200L0,200Z\" fill=\"#bab0ac\"/></g></g><path class=\"foreground\" aria-hidden=\"true\" d=\"\" display=\"none\"/></g><g transform=\"translate(0,0)\"><path class=\"background\" aria-hidden=\"true\" d=\"M0,0h200v200h-200Z\"/><g><g class=\"mark-area role-mark marks\" role=\"graphics-object\" aria-roledescription=\"area mark container\"><path aria-label=\"year: 0; xk: 0; variable: x103\" role=\"graphics-symbol\" aria-roledescription=\"area mark\" d=\"M0,200L28.57142857142857,0L57.14285714285714,0L85.71428571428571,0L114.28571428571428,0L142.85714285714286,0L171.42857142857142,0L200,0L200,0L171.42857142857142,0L142.85714285714286,0L114.28571428571428,0L85.71428571428571,106.22381128729384L57.14285714285714,0L28.57142857142857,0L0,200Z\" fill=\"#f58518\"/></g></g><path class=\"foreground\" aria-hidden=\"true\" d=\"\" display=\"none\"/></g><g transform=\"translate(0,0)\"><path class=\"background\" aria-hidden=\"true\" d=\"M0,0h200v200h-200Z\"/><g><g class=\"mark-area role-mark marks\" role=\"graphics-object\" aria-roledescription=\"area mark container\"><path aria-label=\"year: 0; xk: 0; variable: x108\" role=\"graphics-symbol\" aria-roledescription=\"area mark\" d=\"M0,200L28.57142857142857,0L57.14285714285714,0L85.71428571428571,106.22381128729384L114.28571428571428,0L142.85714285714286,0L171.42857142857142,0L200,0L200,132.40324381606635L171.42857142857142,0L142.85714285714286,109.63048281280092L114.28571428571428,0L85.71428571428571,106.22381128729384L57.14285714285714,0L28.57142857142857,0L0,200Z\" fill=\"#e45756\"/></g></g><path class=\"foreground\" aria-hidden=\"true\" d=\"\" display=\"none\"/></g><g transform=\"translate(0,0)\"><path class=\"background\" aria-hidden=\"true\" d=\"M0,0h200v200h-200Z\"/><g><g class=\"mark-area role-mark marks\" role=\"graphics-object\" aria-roledescription=\"area mark container\"><path aria-label=\"year: 0; xk: 0; variable: x195\" role=\"graphics-symbol\" aria-roledescription=\"area mark\" d=\"M0,200L28.57142857142857,0L57.14285714285714,0L85.71428571428571,106.22381128729384L114.28571428571428,0L142.85714285714286,109.63048281280092L171.42857142857142,0L200,132.40324381606635L200,132.40324381606635L171.42857142857142,0L142.85714285714286,109.63048281280092L114.28571428571428,0L85.71428571428571,106.22381128729384L57.14285714285714,200L28.57142857142857,0L0,200Z\" fill=\"#72b7b2\"/></g></g><path class=\"foreground\" aria-hidden=\"true\" d=\"\" display=\"none\"/></g><g transform=\"translate(0,0)\"><path class=\"background\" aria-hidden=\"true\" d=\"M0,0h200v200h-200Z\"/><g><g class=\"mark-area role-mark marks\" role=\"graphics-object\" aria-roledescription=\"area mark container\"><path aria-label=\"year: 0; xk: 0; variable: x197\" role=\"graphics-symbol\" aria-roledescription=\"area mark\" d=\"M0,200L28.57142857142857,0L57.14285714285714,200L85.71428571428571,106.22381128729384L114.28571428571428,0L142.85714285714286,109.63048281280092L171.42857142857142,0L200,132.40324381606635L200,200L171.42857142857142,0L142.85714285714286,109.63048281280092L114.28571428571428,0L85.71428571428571,106.22381128729384L57.14285714285714,200L28.57142857142857,0L0,200Z\" fill=\"#54a24b\"/></g></g><path class=\"foreground\" aria-hidden=\"true\" d=\"\" display=\"none\"/></g><g transform=\"translate(0,0)\"><path class=\"background\" aria-hidden=\"true\" d=\"M0,0h200v200h-200Z\"/><g><g class=\"mark-area role-mark marks\" role=\"graphics-object\" aria-roledescription=\"area mark container\"><path aria-label=\"year: 0; xk: 0; variable: x198\" role=\"graphics-symbol\" aria-roledescription=\"area mark\" d=\"M0,200L28.57142857142857,0L57.14285714285714,200L85.71428571428571,106.22381128729384L114.28571428571428,0L142.85714285714286,109.63048281280092L171.42857142857142,0L200,200L200,200L171.42857142857142,0L142.85714285714286,200L114.28571428571428,0L85.71428571428571,106.22381128729384L57.14285714285714,200L28.57142857142857,0L0,200Z\" fill=\"#eeca3b\"/></g></g><path class=\"foreground\" aria-hidden=\"true\" d=\"\" display=\"none\"/></g><g transform=\"translate(0,0)\"><path class=\"background\" aria-hidden=\"true\" d=\"M0,0h200v200h-200Z\"/><g><g class=\"mark-area role-mark marks\" role=\"graphics-object\" aria-roledescription=\"area mark container\"><path aria-label=\"year: 0; xk: 0; variable: x199\" role=\"graphics-symbol\" aria-roledescription=\"area mark\" d=\"M0,200L28.57142857142857,0L57.14285714285714,200L85.71428571428571,106.22381128729384L114.28571428571428,0L142.85714285714286,200L171.42857142857142,0L200,200L200,200L171.42857142857142,89.70642429414997L142.85714285714286,200L114.28571428571428,89.70642429415983L85.71428571428571,106.22381128729384L57.14285714285714,200L28.57142857142857,0L0,200Z\" fill=\"#b279a2\"/></g></g><path class=\"foreground\" aria-hidden=\"true\" d=\"\" display=\"none\"/></g><g transform=\"translate(0,0)\"><path class=\"background\" aria-hidden=\"true\" d=\"M0,0h200v200h-200Z\"/><g><g class=\"mark-area role-mark marks\" role=\"graphics-object\" aria-roledescription=\"area mark container\"><path aria-label=\"year: 0; xk: 0; variable: x200\" role=\"graphics-symbol\" aria-roledescription=\"area mark\" d=\"M0,200L28.57142857142857,0L57.14285714285714,200L85.71428571428571,106.22381128729384L114.28571428571428,89.70642429415983L142.85714285714286,200L171.42857142857142,89.70642429414997L200,200L200,200L171.42857142857142,89.70642429414997L142.85714285714286,200L114.28571428571428,89.70642429415983L85.71428571428571,200L57.14285714285714,200L28.57142857142857,0L0,200Z\" fill=\"#ff9da6\"/></g></g><path class=\"foreground\" aria-hidden=\"true\" d=\"\" display=\"none\"/></g><g transform=\"translate(0,0)\"><path class=\"background\" aria-hidden=\"true\" d=\"M0,0h200v200h-200Z\"/><g><g class=\"mark-area role-mark marks\" role=\"graphics-object\" aria-roledescription=\"area mark container\"><path aria-label=\"year: 0; xk: 1; variable: Conv\" role=\"graphics-symbol\" aria-roledescription=\"area mark\" d=\"M0,0L28.57142857142857,0L57.14285714285714,0L85.71428571428571,0L114.28571428571428,0L142.85714285714286,0L171.42857142857142,0L200,0L200,0L171.42857142857142,0L142.85714285714286,0L114.28571428571428,0L85.71428571428571,0L57.14285714285714,0L28.57142857142857,0L0,200Z\" fill=\"#4c78a8\"/></g></g><path class=\"foreground\" aria-hidden=\"true\" d=\"\" display=\"none\"/></g></g><g class=\"mark-group role-legend\" role=\"graphics-symbol\" aria-roledescription=\"legend\" aria-label=\"Symbol legend titled 'variable' for fill color with 10 values: Conv, x103, x108, x195, x197, ending with x94\"><g transform=\"translate(218,0)\"><path class=\"background\" aria-hidden=\"true\" d=\"M0,0h49v144h-49Z\" pointer-events=\"none\"/><g><g class=\"mark-group role-legend-entry\"><g transform=\"translate(0,16)\"><path class=\"background\" aria-hidden=\"true\" d=\"M0,0h0v0h0Z\" pointer-events=\"none\"/><g><g class=\"mark-group role-scope\" role=\"graphics-object\" aria-roledescription=\"group mark container\"><g transform=\"translate(0,0)\"><path class=\"background\" aria-hidden=\"true\" d=\"M0,0h41v11h-41Z\" pointer-events=\"none\" opacity=\"1\"/><g><g class=\"mark-symbol role-legend-symbol\" pointer-events=\"none\"><path transform=\"translate(6,6)\" d=\"M5,0A5,5,0,1,1,-5,0A5,5,0,1,1,5,0\" fill=\"#4c78a8\" stroke-width=\"1.5\" opacity=\"1\"/></g><g class=\"mark-text role-legend-label\" pointer-events=\"none\"><text text-anchor=\"start\" transform=\"translate(16,9)\" font-family=\"sans-serif\" font-size=\"10px\" fill=\"#000\" opacity=\"1\">Conv</text></g></g><path class=\"foreground\" aria-hidden=\"true\" d=\"\" pointer-events=\"none\" display=\"none\"/></g><g transform=\"translate(0,13)\"><path class=\"background\" aria-hidden=\"true\" d=\"M0,0h41v11h-41Z\" pointer-events=\"none\" opacity=\"1\"/><g><g class=\"mark-symbol role-legend-symbol\" pointer-events=\"none\"><path transform=\"translate(6,6)\" d=\"M5,0A5,5,0,1,1,-5,0A5,5,0,1,1,5,0\" fill=\"#f58518\" stroke-width=\"1.5\" opacity=\"1\"/></g><g class=\"mark-text role-legend-label\" pointer-events=\"none\"><text text-anchor=\"start\" transform=\"translate(16,9)\" font-family=\"sans-serif\" font-size=\"10px\" fill=\"#000\" opacity=\"1\">x103</text></g></g><path class=\"foreground\" aria-hidden=\"true\" d=\"\" pointer-events=\"none\" display=\"none\"/></g><g transform=\"translate(0,26)\"><path class=\"background\" aria-hidden=\"true\" d=\"M0,0h41v11h-41Z\" pointer-events=\"none\" opacity=\"1\"/><g><g class=\"mark-symbol role-legend-symbol\" pointer-events=\"none\"><path transform=\"translate(6,6)\" d=\"M5,0A5,5,0,1,1,-5,0A5,5,0,1,1,5,0\" fill=\"#e45756\" stroke-width=\"1.5\" opacity=\"1\"/></g><g class=\"mark-text role-legend-label\" pointer-events=\"none\"><text text-anchor=\"start\" transform=\"translate(16,9)\" font-family=\"sans-serif\" font-size=\"10px\" fill=\"#000\" opacity=\"1\">x108</text></g></g><path class=\"foreground\" aria-hidden=\"true\" d=\"\" pointer-events=\"none\" display=\"none\"/></g><g transform=\"translate(0,39)\"><path class=\"background\" aria-hidden=\"true\" d=\"M0,0h41v11h-41Z\" pointer-events=\"none\" opacity=\"1\"/><g><g class=\"mark-symbol role-legend-symbol\" pointer-events=\"none\"><path transform=\"translate(6,6)\" d=\"M5,0A5,5,0,1,1,-5,0A5,5,0,1,1,5,0\" fill=\"#72b7b2\" stroke-width=\"1.5\" opacity=\"1\"/></g><g class=\"mark-text role-legend-label\" pointer-events=\"none\"><text text-anchor=\"start\" transform=\"translate(16,9)\" font-family=\"sans-serif\" font-size=\"10px\" fill=\"#000\" opacity=\"1\">x195</text></g></g><path class=\"foreground\" aria-hidden=\"true\" d=\"\" pointer-events=\"none\" display=\"none\"/></g><g transform=\"translate(0,52)\"><path class=\"background\" aria-hidden=\"true\" d=\"M0,0h41v11h-41Z\" pointer-events=\"none\" opacity=\"1\"/><g><g class=\"mark-symbol role-legend-symbol\" pointer-events=\"none\"><path transform=\"translate(6,6)\" d=\"M5,0A5,5,0,1,1,-5,0A5,5,0,1,1,5,0\" fill=\"#54a24b\" stroke-width=\"1.5\" opacity=\"1\"/></g><g class=\"mark-text role-legend-label\" pointer-events=\"none\"><text text-anchor=\"start\" transform=\"translate(16,9)\" font-family=\"sans-serif\" font-size=\"10px\" fill=\"#000\" opacity=\"1\">x197</text></g></g><path class=\"foreground\" aria-hidden=\"true\" d=\"\" pointer-events=\"none\" display=\"none\"/></g><g transform=\"translate(0,65)\"><path class=\"background\" aria-hidden=\"true\" d=\"M0,0h41v11h-41Z\" pointer-events=\"none\" opacity=\"1\"/><g><g class=\"mark-symbol role-legend-symbol\" pointer-events=\"none\"><path transform=\"translate(6,6)\" d=\"M5,0A5,5,0,1,1,-5,0A5,5,0,1,1,5,0\" fill=\"#eeca3b\" stroke-width=\"1.5\" opacity=\"1\"/></g><g class=\"mark-text role-legend-label\" pointer-events=\"none\"><text text-anchor=\"start\" transform=\"translate(16,9)\" font-family=\"sans-serif\" font-size=\"10px\" fill=\"#000\" opacity=\"1\">x198</text></g></g><path class=\"foreground\" aria-hidden=\"true\" d=\"\" pointer-events=\"none\" display=\"none\"/></g><g transform=\"translate(0,78)\"><path class=\"background\" aria-hidden=\"true\" d=\"M0,0h41v11h-41Z\" pointer-events=\"none\" opacity=\"1\"/><g><g class=\"mark-symbol role-legend-symbol\" pointer-events=\"none\"><path transform=\"translate(6,6)\" d=\"M5,0A5,5,0,1,1,-5,0A5,5,0,1,1,5,0\" fill=\"#b279a2\" stroke-width=\"1.5\" opacity=\"1\"/></g><g class=\"mark-text role-legend-label\" pointer-events=\"none\"><text text-anchor=\"start\" transform=\"translate(16,9)\" font-family=\"sans-serif\" font-size=\"10px\" fill=\"#000\" opacity=\"1\">x199</text></g></g><path class=\"foreground\" aria-hidden=\"true\" d=\"\" pointer-events=\"none\" display=\"none\"/></g><g transform=\"translate(0,91)\"><path class=\"background\" aria-hidden=\"true\" d=\"M0,0h41v11h-41Z\" pointer-events=\"none\" opacity=\"1\"/><g><g class=\"mark-symbol role-legend-symbol\" pointer-events=\"none\"><path transform=\"translate(6,6)\" d=\"M5,0A5,5,0,1,1,-5,0A5,5,0,1,1,5,0\" fill=\"#ff9da6\" stroke-width=\"1.5\" opacity=\"1\"/></g><g class=\"mark-text role-legend-label\" pointer-events=\"none\"><text text-anchor=\"start\" transform=\"translate(16,9)\" font-family=\"sans-serif\" font-size=\"10px\" fill=\"#000\" opacity=\"1\">x200</text></g></g><path class=\"foreground\" aria-hidden=\"true\" d=\"\" pointer-events=\"none\" display=\"none\"/></g><g transform=\"translate(0,104)\"><path class=\"background\" aria-hidden=\"true\" d=\"M0,0h41v11h-41Z\" pointer-events=\"none\" opacity=\"1\"/><g><g class=\"mark-symbol role-legend-symbol\" pointer-events=\"none\"><path transform=\"translate(6,6)\" d=\"M5,0A5,5,0,1,1,-5,0A5,5,0,1,1,5,0\" fill=\"#9d755d\" stroke-width=\"1.5\" opacity=\"1\"/></g><g class=\"mark-text role-legend-label\" pointer-events=\"none\"><text text-anchor=\"start\" transform=\"translate(16,9)\" font-family=\"sans-serif\" font-size=\"10px\" fill=\"#000\" opacity=\"1\">x93</text></g></g><path class=\"foreground\" aria-hidden=\"true\" d=\"\" pointer-events=\"none\" display=\"none\"/></g><g transform=\"translate(0,117)\"><path class=\"background\" aria-hidden=\"true\" d=\"M0,0h41v11h-41Z\" pointer-events=\"none\" opacity=\"1\"/><g><g class=\"mark-symbol role-legend-symbol\" pointer-events=\"none\"><path transform=\"translate(6,6)\" d=\"M5,0A5,5,0,1,1,-5,0A5,5,0,1,1,5,0\" fill=\"#bab0ac\" stroke-width=\"1.5\" opacity=\"1\"/></g><g class=\"mark-text role-legend-label\" pointer-events=\"none\"><text text-anchor=\"start\" transform=\"translate(16,9)\" font-family=\"sans-serif\" font-size=\"10px\" fill=\"#000\" opacity=\"1\">x94</text></g></g><path class=\"foreground\" aria-hidden=\"true\" d=\"\" pointer-events=\"none\" display=\"none\"/></g></g></g><path class=\"foreground\" aria-hidden=\"true\" d=\"\" pointer-events=\"none\" display=\"none\"/></g></g><g class=\"mark-text role-legend-title\" pointer-events=\"none\"><text text-anchor=\"start\" transform=\"translate(0,9)\" font-family=\"sans-serif\" font-size=\"11px\" font-weight=\"bold\" fill=\"#000\" opacity=\"1\">variable</text></g></g><path class=\"foreground\" aria-hidden=\"true\" d=\"\" pointer-events=\"none\" display=\"none\"/></g></g></g><path class=\"foreground\" aria-hidden=\"true\" d=\"\" display=\"none\"/></g></g></g></svg>\n"
      ],
      "text/plain": [
       "@vlplot(\n",
       "    legend=\"sNames\",\n",
       "    mark=\"area\",\n",
       "    encoding={\n",
       "        x={\n",
       "            field=\"year\"\n",
       "        },\n",
       "        y={\n",
       "            stack=\"zero\",\n",
       "            title=\"xk\",\n",
       "            field=\"value\"\n",
       "        },\n",
       "        color={\n",
       "            field=\"variable\",\n",
       "            type=\"nominal\"\n",
       "        }\n",
       "    },\n",
       "    data={\n",
       "        values=...\n",
       "    }\n",
       ")"
      ]
     },
     "execution_count": 14,
     "metadata": {},
     "output_type": "execute_result"
    }
   ],
   "source": [
    "\n",
    "transpose(xk)\n",
    "df1=DataFrame(xk',:auto)\n",
    "df1[!,:year] = 5*collect(1:7)\n",
    "df1=df1[!, any.(>(0), eachcol(df1))]\n",
    "df1[!,:Conv] = zeros(7)\n",
    "sNames=\"compromise \".*string.(collect(1:length(xk[:,1])))\n",
    "push!(df1,zeros(size(df1)[2]))\n",
    "df1[8,:Conv]=1\n",
    "\n",
    "comp=df1 |> stack |> @vlplot(:area, x=:year, y={:value, stack=:zero, title=\"xk\"}, color=\"variable:n\",legend=:sNames) \n",
    "#save(\"./result-case-roadmap/compromise-roadmap.svg\", comp)\n",
    "comp\n"
   ]
  },
  {
   "cell_type": "code",
   "execution_count": 15,
   "id": "d0f128a2",
   "metadata": {},
   "outputs": [
    {
     "data": {
      "text/plain": [
       "240×7 Matrix{Float64}:\n",
       " 0.0  0.0  0.0  0.0  0.0  0.0  0.0\n",
       " 0.0  0.0  0.0  0.0  0.0  0.0  0.0\n",
       " 0.0  0.0  0.0  0.0  0.0  0.0  0.0\n",
       " 0.0  0.0  0.0  0.0  0.0  0.0  0.0\n",
       " 0.0  0.0  0.0  0.0  0.0  0.0  0.0\n",
       " 0.0  0.0  0.0  0.0  0.0  0.0  0.0\n",
       " 0.0  0.0  0.0  0.0  0.0  0.0  0.0\n",
       " 0.0  0.0  0.0  0.0  0.0  0.0  0.0\n",
       " 0.0  0.0  0.0  0.0  0.0  0.0  0.0\n",
       " 0.0  0.0  0.0  0.0  0.0  0.0  0.0\n",
       " 0.0  0.0  0.0  0.0  0.0  0.0  0.0\n",
       " 0.0  0.0  0.0  0.0  0.0  0.0  0.0\n",
       " 0.0  0.0  0.0  0.0  0.0  0.0  0.0\n",
       " ⋮                        ⋮    \n",
       " 0.0  0.0  0.0  0.0  0.0  0.0  0.0\n",
       " 0.0  0.0  0.0  0.0  0.0  0.0  0.0\n",
       " 0.0  0.0  0.0  0.0  0.0  0.0  0.0\n",
       " 0.0  0.0  0.0  0.0  0.0  0.0  0.0\n",
       " 0.0  0.0  0.0  0.0  0.0  0.0  0.0\n",
       " 0.0  0.0  0.0  0.0  0.0  0.0  0.0\n",
       " 0.0  0.0  0.0  0.0  0.0  0.0  0.0\n",
       " 0.0  0.0  0.0  0.0  0.0  0.0  0.0\n",
       " 0.0  0.0  0.0  0.0  0.0  0.0  0.0\n",
       " 0.0  0.0  0.0  0.0  0.0  0.0  0.0\n",
       " 0.0  0.0  0.0  0.0  0.0  0.0  0.0\n",
       " 0.0  0.0  0.0  0.0  0.0  0.0  0.0"
      ]
     },
     "execution_count": 15,
     "metadata": {},
     "output_type": "execute_result"
    }
   ],
   "source": [
    "tk"
   ]
  },
  {
   "cell_type": "code",
   "execution_count": 16,
   "id": "c162d001",
   "metadata": {},
   "outputs": [
    {
     "data": {
      "text/plain": [
       "1-dimensional DenseAxisArray{Float64,1,...} with index sets:\n",
       "    Dimension 1, 2:7\n",
       "And data, a 6-element Vector{Float64}:\n",
       "  5.321118545786874e-12\n",
       "  1.974078886468611e-12\n",
       "  1.8834066251027792e-12\n",
       "  1.763224982687106e-12\n",
       "  1.2720954537865731e-12\n",
       " -1.2292518239703093e-12"
      ]
     },
     "execution_count": 16,
     "metadata": {},
     "output_type": "execute_result"
    }
   ],
   "source": [
    "JuMP.value.(comp1)"
   ]
  },
  {
   "cell_type": "code",
   "execution_count": 17,
   "id": "f0dafa12",
   "metadata": {},
   "outputs": [
    {
     "data": {
      "text/html": [
       "<div class=\"data-frame\"><p>8 rows × 11 columns (omitted printing of 2 columns)</p><table class=\"data-frame\"><thead><tr><th></th><th>x93</th><th>x94</th><th>x103</th><th>x108</th><th>x195</th><th>x197</th><th>x198</th><th>x199</th><th>x200</th></tr><tr><th></th><th title=\"Float64\">Float64</th><th title=\"Float64\">Float64</th><th title=\"Float64\">Float64</th><th title=\"Float64\">Float64</th><th title=\"Float64\">Float64</th><th title=\"Float64\">Float64</th><th title=\"Float64\">Float64</th><th title=\"Float64\">Float64</th><th title=\"Float64\">Float64</th></tr></thead><tbody><tr><th>1</th><td>0.0</td><td>1.0</td><td>0.0</td><td>0.0</td><td>0.0</td><td>0.0</td><td>0.0</td><td>0.0</td><td>0.0</td></tr><tr><th>2</th><td>0.0</td><td>0.0</td><td>0.0</td><td>0.0</td><td>1.0</td><td>0.0</td><td>0.0</td><td>0.0</td><td>0.0</td></tr><tr><th>3</th><td>0.0</td><td>0.0</td><td>0.531119</td><td>0.0</td><td>0.0</td><td>0.0</td><td>0.0</td><td>0.0</td><td>0.468881</td></tr><tr><th>4</th><td>0.551468</td><td>0.0</td><td>0.0</td><td>0.0</td><td>0.0</td><td>0.0</td><td>0.0</td><td>0.448532</td><td>0.0</td></tr><tr><th>5</th><td>0.0</td><td>0.0</td><td>0.0</td><td>0.548152</td><td>0.0</td><td>0.0</td><td>0.451848</td><td>0.0</td><td>0.0</td></tr><tr><th>6</th><td>0.551468</td><td>0.0</td><td>0.0</td><td>0.0</td><td>0.0</td><td>0.0</td><td>0.0</td><td>0.448532</td><td>0.0</td></tr><tr><th>7</th><td>0.0</td><td>0.0</td><td>0.0</td><td>0.662016</td><td>0.0</td><td>0.337984</td><td>0.0</td><td>0.0</td><td>0.0</td></tr><tr><th>8</th><td>0.0</td><td>0.0</td><td>0.0</td><td>0.0</td><td>0.0</td><td>0.0</td><td>0.0</td><td>0.0</td><td>0.0</td></tr></tbody></table></div>"
      ],
      "text/latex": [
       "\\begin{tabular}{r|cccccccccc}\n",
       "\t& x93 & x94 & x103 & x108 & x195 & x197 & x198 & x199 & x200 & \\\\\n",
       "\t\\hline\n",
       "\t& Float64 & Float64 & Float64 & Float64 & Float64 & Float64 & Float64 & Float64 & Float64 & \\\\\n",
       "\t\\hline\n",
       "\t1 & 0.0 & 1.0 & 0.0 & 0.0 & 0.0 & 0.0 & 0.0 & 0.0 & 0.0 & $\\dots$ \\\\\n",
       "\t2 & 0.0 & 0.0 & 0.0 & 0.0 & 1.0 & 0.0 & 0.0 & 0.0 & 0.0 & $\\dots$ \\\\\n",
       "\t3 & 0.0 & 0.0 & 0.531119 & 0.0 & 0.0 & 0.0 & 0.0 & 0.0 & 0.468881 & $\\dots$ \\\\\n",
       "\t4 & 0.551468 & 0.0 & 0.0 & 0.0 & 0.0 & 0.0 & 0.0 & 0.448532 & 0.0 & $\\dots$ \\\\\n",
       "\t5 & 0.0 & 0.0 & 0.0 & 0.548152 & 0.0 & 0.0 & 0.451848 & 0.0 & 0.0 & $\\dots$ \\\\\n",
       "\t6 & 0.551468 & 0.0 & 0.0 & 0.0 & 0.0 & 0.0 & 0.0 & 0.448532 & 0.0 & $\\dots$ \\\\\n",
       "\t7 & 0.0 & 0.0 & 0.0 & 0.662016 & 0.0 & 0.337984 & 0.0 & 0.0 & 0.0 & $\\dots$ \\\\\n",
       "\t8 & 0.0 & 0.0 & 0.0 & 0.0 & 0.0 & 0.0 & 0.0 & 0.0 & 0.0 & $\\dots$ \\\\\n",
       "\\end{tabular}\n"
      ],
      "text/plain": [
       "\u001b[1m8×11 DataFrame\u001b[0m\n",
       "\u001b[1m Row \u001b[0m│\u001b[1m x93      \u001b[0m\u001b[1m x94     \u001b[0m\u001b[1m x103     \u001b[0m\u001b[1m x108     \u001b[0m\u001b[1m x195    \u001b[0m\u001b[1m x197     \u001b[0m\u001b[1m x198     \u001b[0m\u001b[1m x19\u001b[0m ⋯\n",
       "\u001b[1m     \u001b[0m│\u001b[90m Float64  \u001b[0m\u001b[90m Float64 \u001b[0m\u001b[90m Float64  \u001b[0m\u001b[90m Float64  \u001b[0m\u001b[90m Float64 \u001b[0m\u001b[90m Float64  \u001b[0m\u001b[90m Float64  \u001b[0m\u001b[90m Flo\u001b[0m ⋯\n",
       "─────┼──────────────────────────────────────────────────────────────────────────\n",
       "   1 │ 0.0           1.0  0.0       0.0           0.0  0.0       0.0       0.0 ⋯\n",
       "   2 │ 0.0           0.0  0.0       0.0           1.0  0.0       0.0       0.0\n",
       "   3 │ 0.0           0.0  0.531119  0.0           0.0  0.0       0.0       0.0\n",
       "   4 │ 0.551468      0.0  0.0       0.0           0.0  0.0       0.0       0.4\n",
       "   5 │ 0.0           0.0  0.0       0.548152      0.0  0.0       0.451848  0.0 ⋯\n",
       "   6 │ 0.551468      0.0  0.0       0.0           0.0  0.0       0.0       0.4\n",
       "   7 │ 0.0           0.0  0.0       0.662016      0.0  0.337984  0.0       0.0\n",
       "   8 │ 0.0           0.0  0.0       0.0           0.0  0.0       0.0       0.0\n",
       "\u001b[36m                                                               4 columns omitted\u001b[0m"
      ]
     },
     "execution_count": 17,
     "metadata": {},
     "output_type": "execute_result"
    }
   ],
   "source": [
    "df1"
   ]
  },
  {
   "cell_type": "code",
   "execution_count": 18,
   "id": "963076e7",
   "metadata": {},
   "outputs": [
    {
     "data": {
      "text/html": [
       "<div class=\"data-frame\"><p>7 rows × 240 columns (omitted printing of 231 columns)</p><table class=\"data-frame\"><thead><tr><th></th><th>x1</th><th>x2</th><th>x3</th><th>x4</th><th>x5</th><th>x6</th><th>x7</th><th>x8</th><th>x9</th></tr><tr><th></th><th title=\"Float64\">Float64</th><th title=\"Float64\">Float64</th><th title=\"Float64\">Float64</th><th title=\"Float64\">Float64</th><th title=\"Float64\">Float64</th><th title=\"Float64\">Float64</th><th title=\"Float64\">Float64</th><th title=\"Float64\">Float64</th><th title=\"Float64\">Float64</th></tr></thead><tbody><tr><th>1</th><td>0.0</td><td>0.0</td><td>0.0</td><td>0.0</td><td>0.0</td><td>0.0</td><td>0.0</td><td>0.0</td><td>0.0</td></tr><tr><th>2</th><td>0.0</td><td>0.0</td><td>0.0</td><td>0.0</td><td>0.0</td><td>0.0</td><td>0.0</td><td>0.0</td><td>0.0</td></tr><tr><th>3</th><td>0.0</td><td>0.0</td><td>0.0</td><td>0.0</td><td>0.0</td><td>0.0</td><td>0.0</td><td>0.0</td><td>0.0</td></tr><tr><th>4</th><td>0.0</td><td>0.0</td><td>0.0</td><td>0.0</td><td>0.0</td><td>0.0</td><td>0.0</td><td>0.0</td><td>0.0</td></tr><tr><th>5</th><td>0.0</td><td>0.0</td><td>0.0</td><td>0.0</td><td>0.0</td><td>0.0</td><td>0.0</td><td>0.0</td><td>0.0</td></tr><tr><th>6</th><td>0.0</td><td>0.0</td><td>0.0</td><td>0.0</td><td>0.0</td><td>0.0</td><td>0.0</td><td>0.0</td><td>0.0</td></tr><tr><th>7</th><td>0.0</td><td>0.0</td><td>0.0</td><td>0.0</td><td>0.0</td><td>0.0</td><td>0.0</td><td>0.0</td><td>0.0</td></tr></tbody></table></div>"
      ],
      "text/latex": [
       "\\begin{tabular}{r|cccccccccc}\n",
       "\t& x1 & x2 & x3 & x4 & x5 & x6 & x7 & x8 & x9 & \\\\\n",
       "\t\\hline\n",
       "\t& Float64 & Float64 & Float64 & Float64 & Float64 & Float64 & Float64 & Float64 & Float64 & \\\\\n",
       "\t\\hline\n",
       "\t1 & 0.0 & 0.0 & 0.0 & 0.0 & 0.0 & 0.0 & 0.0 & 0.0 & 0.0 & $\\dots$ \\\\\n",
       "\t2 & 0.0 & 0.0 & 0.0 & 0.0 & 0.0 & 0.0 & 0.0 & 0.0 & 0.0 & $\\dots$ \\\\\n",
       "\t3 & 0.0 & 0.0 & 0.0 & 0.0 & 0.0 & 0.0 & 0.0 & 0.0 & 0.0 & $\\dots$ \\\\\n",
       "\t4 & 0.0 & 0.0 & 0.0 & 0.0 & 0.0 & 0.0 & 0.0 & 0.0 & 0.0 & $\\dots$ \\\\\n",
       "\t5 & 0.0 & 0.0 & 0.0 & 0.0 & 0.0 & 0.0 & 0.0 & 0.0 & 0.0 & $\\dots$ \\\\\n",
       "\t6 & 0.0 & 0.0 & 0.0 & 0.0 & 0.0 & 0.0 & 0.0 & 0.0 & 0.0 & $\\dots$ \\\\\n",
       "\t7 & 0.0 & 0.0 & 0.0 & 0.0 & 0.0 & 0.0 & 0.0 & 0.0 & 0.0 & $\\dots$ \\\\\n",
       "\\end{tabular}\n"
      ],
      "text/plain": [
       "\u001b[1m7×240 DataFrame\u001b[0m\n",
       "\u001b[1m Row \u001b[0m│\u001b[1m x1      \u001b[0m\u001b[1m x2      \u001b[0m\u001b[1m x3      \u001b[0m\u001b[1m x4      \u001b[0m\u001b[1m x5      \u001b[0m\u001b[1m x6      \u001b[0m\u001b[1m x7      \u001b[0m\u001b[1m x8      \u001b[0m\u001b[1m\u001b[0m ⋯\n",
       "\u001b[1m     \u001b[0m│\u001b[90m Float64 \u001b[0m\u001b[90m Float64 \u001b[0m\u001b[90m Float64 \u001b[0m\u001b[90m Float64 \u001b[0m\u001b[90m Float64 \u001b[0m\u001b[90m Float64 \u001b[0m\u001b[90m Float64 \u001b[0m\u001b[90m Float64 \u001b[0m\u001b[90m\u001b[0m ⋯\n",
       "─────┼──────────────────────────────────────────────────────────────────────────\n",
       "   1 │     0.0      0.0      0.0      0.0      0.0      0.0      0.0      0.0  ⋯\n",
       "   2 │     0.0      0.0      0.0      0.0      0.0      0.0      0.0      0.0\n",
       "   3 │     0.0      0.0      0.0      0.0      0.0      0.0      0.0      0.0\n",
       "   4 │     0.0      0.0      0.0      0.0      0.0      0.0      0.0      0.0\n",
       "   5 │     0.0      0.0      0.0      0.0      0.0      0.0      0.0      0.0  ⋯\n",
       "   6 │     0.0      0.0      0.0      0.0      0.0      0.0      0.0      0.0\n",
       "   7 │     0.0      0.0      0.0      0.0      0.0      0.0      0.0      0.0\n",
       "\u001b[36m                                                             232 columns omitted\u001b[0m"
      ]
     },
     "execution_count": 18,
     "metadata": {},
     "output_type": "execute_result"
    }
   ],
   "source": [
    "df_tk=DataFrame(tk',:auto)\n",
    "#CSV.write(\"./result-case-roadmap/tk\", df_tk)"
   ]
  },
  {
   "cell_type": "code",
   "execution_count": 19,
   "id": "04a70cca",
   "metadata": {},
   "outputs": [
    {
     "data": {
      "text/html": [
       "<div class=\"data-frame\"><p>10 rows × 3 columns</p><table class=\"data-frame\"><thead><tr><th></th><th>i</th><th>k_lim</th><th>name</th></tr><tr><th></th><th title=\"Int64\">Int64</th><th title=\"Int64\">Int64</th><th title=\"String31\">String31</th></tr></thead><tbody><tr><th>1</th><td>1</td><td>29</td><td>MSW pyrolysis to small olefins</td></tr><tr><th>2</th><td>2</td><td>52</td><td>Source Segregation</td></tr><tr><th>3</th><td>3</td><td>66</td><td>AI robot segregation</td></tr><tr><th>4</th><td>4</td><td>91</td><td>LABS from PE</td></tr><tr><th>5</th><td>5</td><td>113</td><td>Pyrolysis of LDPE</td></tr><tr><th>6</th><td>6</td><td>140</td><td>Pyrolysis of HDPE</td></tr><tr><th>7</th><td>7</td><td>165</td><td>Pyrolysis of PP</td></tr><tr><th>8</th><td>8</td><td>193</td><td>Recycling back to PLA usin Clay</td></tr><tr><th>9</th><td>9</td><td>215</td><td>Alkaline hydrolysis of PLA</td></tr><tr><th>10</th><td>10</td><td>240</td><td>Alcoholysis of PLA</td></tr></tbody></table></div>"
      ],
      "text/latex": [
       "\\begin{tabular}{r|ccc}\n",
       "\t& i & k\\_lim & name\\\\\n",
       "\t\\hline\n",
       "\t& Int64 & Int64 & String31\\\\\n",
       "\t\\hline\n",
       "\t1 & 1 & 29 & MSW pyrolysis to small olefins \\\\\n",
       "\t2 & 2 & 52 & Source Segregation \\\\\n",
       "\t3 & 3 & 66 & AI robot segregation \\\\\n",
       "\t4 & 4 & 91 & LABS from PE \\\\\n",
       "\t5 & 5 & 113 & Pyrolysis of LDPE \\\\\n",
       "\t6 & 6 & 140 & Pyrolysis of HDPE \\\\\n",
       "\t7 & 7 & 165 & Pyrolysis of PP \\\\\n",
       "\t8 & 8 & 193 & Recycling back to PLA usin Clay \\\\\n",
       "\t9 & 9 & 215 & Alkaline hydrolysis of PLA \\\\\n",
       "\t10 & 10 & 240 & Alcoholysis of PLA \\\\\n",
       "\\end{tabular}\n"
      ],
      "text/plain": [
       "\u001b[1m10×3 DataFrame\u001b[0m\n",
       "\u001b[1m Row \u001b[0m│\u001b[1m i     \u001b[0m\u001b[1m k_lim \u001b[0m\u001b[1m name                            \u001b[0m\n",
       "\u001b[1m     \u001b[0m│\u001b[90m Int64 \u001b[0m\u001b[90m Int64 \u001b[0m\u001b[90m String31                        \u001b[0m\n",
       "─────┼───────────────────────────────────────────────\n",
       "   1 │     1     29  MSW pyrolysis to small olefins\n",
       "   2 │     2     52  Source Segregation\n",
       "   3 │     3     66  AI robot segregation\n",
       "   4 │     4     91  LABS from PE\n",
       "   5 │     5    113  Pyrolysis of LDPE\n",
       "   6 │     6    140  Pyrolysis of HDPE\n",
       "   7 │     7    165  Pyrolysis of PP\n",
       "   8 │     8    193  Recycling back to PLA usin Clay\n",
       "   9 │     9    215  Alkaline hydrolysis of PLA\n",
       "  10 │    10    240  Alcoholysis of PLA"
      ]
     },
     "execution_count": 19,
     "metadata": {},
     "output_type": "execute_result"
    }
   ],
   "source": [
    "mapki"
   ]
  },
  {
   "cell_type": "code",
   "execution_count": 20,
   "id": "905131c7",
   "metadata": {},
   "outputs": [
    {
     "data": {
      "text/plain": [
       "10×7 Matrix{Float64}:\n",
       " 0.0  0.0  0.0  0.0  0.0  0.0  0.0\n",
       " 0.0  0.0  0.0  0.0  0.0  0.0  0.0\n",
       " 0.0  0.0  0.0  0.0  0.0  0.0  0.0\n",
       " 0.0  0.0  0.0  0.0  0.0  0.0  0.0\n",
       " 1.0  1.0  1.0  1.0  1.0  1.0  1.0\n",
       " 0.0  0.0  0.0  0.0  0.0  0.0  0.0\n",
       " 0.0  0.0  0.0  0.0  0.0  0.0  0.0\n",
       " 0.0  0.0  0.0  0.0  0.0  0.0  0.0\n",
       " 1.0  1.0  1.0  1.0  1.0  1.0  1.0\n",
       " 0.0  0.0  0.0  0.0  0.0  0.0  0.0"
      ]
     },
     "execution_count": 20,
     "metadata": {},
     "output_type": "execute_result"
    }
   ],
   "source": [
    "yi"
   ]
  },
  {
   "cell_type": "code",
   "execution_count": 21,
   "id": "cf474a89",
   "metadata": {},
   "outputs": [
    {
     "ename": "LoadError",
     "evalue": "ArgumentError: Tried renaming :x92 to :pyLDPE1, when :x92 does not exist in the data frame.",
     "output_type": "error",
     "traceback": [
      "ArgumentError: Tried renaming :x92 to :pyLDPE1, when :x92 does not exist in the data frame.",
      "",
      "Stacktrace:",
      " [1] rename!(x::DataFrames.Index, nms::Vector{Pair{Symbol, Symbol}})",
      "   @ DataFrames ~/.julia/packages/DataFrames/ORSVA/src/other/index.jl:91",
      " [2] rename!(df::DataFrame, args::Vector{Pair{Symbol, Symbol}})",
      "   @ DataFrames ~/.julia/packages/DataFrames/ORSVA/src/abstractdataframe/abstractdataframe.jl:210",
      " [3] top-level scope",
      "   @ In[21]:1",
      " [4] eval",
      "   @ ./boot.jl:360 [inlined]",
      " [5] include_string(mapexpr::typeof(REPL.softscope), mod::Module, code::String, filename::String)",
      "   @ Base ./loading.jl:1116"
     ]
    }
   ],
   "source": [
    "rename!(df1,[:x92,:x103,:x217,:x221] .=> [:pyLDPE1,:pyLDPE11,:alcPLA2,:alcPLA6])\n",
    "df0=DataFrame(year=0,Conv=1.0,pyLDPE1=0.0,pyLDPE11=0.0,alcPLA2=0.0,alcPLA6=0.0)\n",
    "append!(df0,df1)\n",
    "df0\n",
    "comp=df0 |> stack |> @vlplot(:area, x=:year, y={:value, stack=:zero, title=\"xk\"}, color=\"variable:n\",legend=:sNames) \n",
    "#save(\"./result-case-roadmap/compromise-roadmap.svg\", comp)\n",
    "comp"
   ]
  },
  {
   "cell_type": "code",
   "execution_count": 22,
   "id": "a84de32e",
   "metadata": {},
   "outputs": [
    {
     "data": {
      "text/html": [
       "<div class=\"data-frame\"><p>10 rows × 3 columns</p><table class=\"data-frame\"><thead><tr><th></th><th>i</th><th>k_lim</th><th>name</th></tr><tr><th></th><th title=\"Int64\">Int64</th><th title=\"Int64\">Int64</th><th title=\"String31\">String31</th></tr></thead><tbody><tr><th>1</th><td>1</td><td>29</td><td>MSW pyrolysis to small olefins</td></tr><tr><th>2</th><td>2</td><td>52</td><td>Source Segregation</td></tr><tr><th>3</th><td>3</td><td>66</td><td>AI robot segregation</td></tr><tr><th>4</th><td>4</td><td>91</td><td>LABS from PE</td></tr><tr><th>5</th><td>5</td><td>113</td><td>Pyrolysis of LDPE</td></tr><tr><th>6</th><td>6</td><td>140</td><td>Pyrolysis of HDPE</td></tr><tr><th>7</th><td>7</td><td>165</td><td>Pyrolysis of PP</td></tr><tr><th>8</th><td>8</td><td>193</td><td>Recycling back to PLA usin Clay</td></tr><tr><th>9</th><td>9</td><td>215</td><td>Alkaline hydrolysis of PLA</td></tr><tr><th>10</th><td>10</td><td>240</td><td>Alcoholysis of PLA</td></tr></tbody></table></div>"
      ],
      "text/latex": [
       "\\begin{tabular}{r|ccc}\n",
       "\t& i & k\\_lim & name\\\\\n",
       "\t\\hline\n",
       "\t& Int64 & Int64 & String31\\\\\n",
       "\t\\hline\n",
       "\t1 & 1 & 29 & MSW pyrolysis to small olefins \\\\\n",
       "\t2 & 2 & 52 & Source Segregation \\\\\n",
       "\t3 & 3 & 66 & AI robot segregation \\\\\n",
       "\t4 & 4 & 91 & LABS from PE \\\\\n",
       "\t5 & 5 & 113 & Pyrolysis of LDPE \\\\\n",
       "\t6 & 6 & 140 & Pyrolysis of HDPE \\\\\n",
       "\t7 & 7 & 165 & Pyrolysis of PP \\\\\n",
       "\t8 & 8 & 193 & Recycling back to PLA usin Clay \\\\\n",
       "\t9 & 9 & 215 & Alkaline hydrolysis of PLA \\\\\n",
       "\t10 & 10 & 240 & Alcoholysis of PLA \\\\\n",
       "\\end{tabular}\n"
      ],
      "text/plain": [
       "\u001b[1m10×3 DataFrame\u001b[0m\n",
       "\u001b[1m Row \u001b[0m│\u001b[1m i     \u001b[0m\u001b[1m k_lim \u001b[0m\u001b[1m name                            \u001b[0m\n",
       "\u001b[1m     \u001b[0m│\u001b[90m Int64 \u001b[0m\u001b[90m Int64 \u001b[0m\u001b[90m String31                        \u001b[0m\n",
       "─────┼───────────────────────────────────────────────\n",
       "   1 │     1     29  MSW pyrolysis to small olefins\n",
       "   2 │     2     52  Source Segregation\n",
       "   3 │     3     66  AI robot segregation\n",
       "   4 │     4     91  LABS from PE\n",
       "   5 │     5    113  Pyrolysis of LDPE\n",
       "   6 │     6    140  Pyrolysis of HDPE\n",
       "   7 │     7    165  Pyrolysis of PP\n",
       "   8 │     8    193  Recycling back to PLA usin Clay\n",
       "   9 │     9    215  Alkaline hydrolysis of PLA\n",
       "  10 │    10    240  Alcoholysis of PLA"
      ]
     },
     "execution_count": 22,
     "metadata": {},
     "output_type": "execute_result"
    }
   ],
   "source": [
    "mapki"
   ]
  },
  {
   "cell_type": "code",
   "execution_count": 23,
   "id": "5e34a2c5",
   "metadata": {},
   "outputs": [
    {
     "data": {
      "text/plain": [
       "240×7 Matrix{Float64}:\n",
       " 0.0  0.0  0.0  0.0  0.0  0.0  0.0\n",
       " 0.0  0.0  0.0  0.0  0.0  0.0  0.0\n",
       " 0.0  0.0  0.0  0.0  0.0  0.0  0.0\n",
       " 0.0  0.0  0.0  0.0  0.0  0.0  0.0\n",
       " 0.0  0.0  0.0  0.0  0.0  0.0  0.0\n",
       " 0.0  0.0  0.0  0.0  0.0  0.0  0.0\n",
       " 0.0  0.0  0.0  0.0  0.0  0.0  0.0\n",
       " 0.0  0.0  0.0  0.0  0.0  0.0  0.0\n",
       " 0.0  0.0  0.0  0.0  0.0  0.0  0.0\n",
       " 0.0  0.0  0.0  0.0  0.0  0.0  0.0\n",
       " 0.0  0.0  0.0  0.0  0.0  0.0  0.0\n",
       " 0.0  0.0  0.0  0.0  0.0  0.0  0.0\n",
       " 0.0  0.0  0.0  0.0  0.0  0.0  0.0\n",
       " ⋮                        ⋮    \n",
       " 0.0  0.0  0.0  0.0  0.0  0.0  0.0\n",
       " 0.0  0.0  0.0  0.0  0.0  0.0  0.0\n",
       " 0.0  0.0  0.0  0.0  0.0  0.0  0.0\n",
       " 0.0  0.0  0.0  0.0  0.0  0.0  0.0\n",
       " 0.0  0.0  0.0  0.0  0.0  0.0  0.0\n",
       " 0.0  0.0  0.0  0.0  0.0  0.0  0.0\n",
       " 0.0  0.0  0.0  0.0  0.0  0.0  0.0\n",
       " 0.0  0.0  0.0  0.0  0.0  0.0  0.0\n",
       " 0.0  0.0  0.0  0.0  0.0  0.0  0.0\n",
       " 0.0  0.0  0.0  0.0  0.0  0.0  0.0\n",
       " 0.0  0.0  0.0  0.0  0.0  0.0  0.0\n",
       " 0.0  0.0  0.0  0.0  0.0  0.0  0.0"
      ]
     },
     "execution_count": 23,
     "metadata": {},
     "output_type": "execute_result"
    }
   ],
   "source": [
    "xk"
   ]
  },
  {
   "cell_type": "code",
   "execution_count": 24,
   "id": "ef7beb2e",
   "metadata": {},
   "outputs": [
    {
     "data": {
      "text/plain": [
       "10×7 Matrix{Float64}:\n",
       " 0.0          0.0  0.0  0.0  0.0  0.0  0.0\n",
       " 0.0          0.0  0.0  0.0  0.0  0.0  0.0\n",
       " 0.0          0.0  0.0  0.0  0.0  0.0  0.0\n",
       " 0.0          0.0  0.0  0.0  0.0  0.0  0.0\n",
       " 5.99099e-11  0.0  0.0  0.0  0.0  0.0  0.0\n",
       " 0.0          0.0  0.0  0.0  0.0  0.0  0.0\n",
       " 0.0          0.0  0.0  0.0  0.0  0.0  0.0\n",
       " 0.0          0.0  0.0  0.0  0.0  0.0  0.0\n",
       " 8.13841e-10  0.0  0.0  0.0  0.0  0.0  0.0\n",
       " 0.0          0.0  0.0  0.0  0.0  0.0  0.0"
      ]
     },
     "execution_count": 24,
     "metadata": {},
     "output_type": "execute_result"
    }
   ],
   "source": [
    "ti  "
   ]
  },
  {
   "cell_type": "code",
   "execution_count": null,
   "id": "775063a2",
   "metadata": {},
   "outputs": [],
   "source": []
  },
  {
   "cell_type": "code",
   "execution_count": 25,
   "id": "005243fc",
   "metadata": {},
   "outputs": [
    {
     "data": {
      "text/html": [
       "<div class=\"data-frame\"><p>240 rows × 9 columns</p><table class=\"data-frame\"><thead><tr><th></th><th>k</th><th>i</th><th>GWP</th><th>Theta</th><th>Per_Recycl</th><th>Per_Comp</th><th>GHG_ElecInd</th><th>GHG_Trans</th><th>OCost</th></tr><tr><th></th><th title=\"Int64\">Int64</th><th title=\"Int64\">Int64</th><th title=\"Float64\">Float64</th><th title=\"Float64\">Float64</th><th title=\"Float64\">Float64</th><th title=\"Float64\">Float64</th><th title=\"Float64\">Float64</th><th title=\"Float64\">Float64</th><th title=\"Float64\">Float64</th></tr></thead><tbody><tr><th>1</th><td>1</td><td>1</td><td>15.0711</td><td>0.621</td><td>0.0</td><td>0.0</td><td>0.499</td><td>0.122</td><td>3.4294</td></tr><tr><th>2</th><td>2</td><td>1</td><td>2.7837</td><td>0.3955</td><td>0.661676</td><td>0.0</td><td>0.47</td><td>0.127</td><td>1.1203</td></tr><tr><th>3</th><td>3</td><td>1</td><td>10.0834</td><td>0.41</td><td>0.0</td><td>1.0</td><td>0.56</td><td>0.111</td><td>0.65</td></tr><tr><th>4</th><td>4</td><td>1</td><td>8.9103</td><td>0.4132</td><td>0.0</td><td>0.958953</td><td>0.54</td><td>0.104</td><td>0.67</td></tr><tr><th>5</th><td>5</td><td>1</td><td>4.0</td><td>0.4546</td><td>0.0</td><td>0.0</td><td>0.54</td><td>0.139</td><td>0.7</td></tr><tr><th>6</th><td>6</td><td>1</td><td>4.1434</td><td>0.5081</td><td>0.0</td><td>0.0</td><td>0.57</td><td>0.12</td><td>0.7</td></tr><tr><th>7</th><td>7</td><td>1</td><td>7.1535</td><td>0.4218</td><td>0.0</td><td>0.854318</td><td>0.5</td><td>0.114</td><td>0.7</td></tr><tr><th>8</th><td>8</td><td>1</td><td>4.1374</td><td>0.5081</td><td>0.0</td><td>0.0</td><td>0.46</td><td>0.116</td><td>0.7</td></tr><tr><th>9</th><td>9</td><td>1</td><td>7.1535</td><td>0.4218</td><td>0.0</td><td>0.854318</td><td>0.52</td><td>0.132</td><td>0.7</td></tr><tr><th>10</th><td>10</td><td>1</td><td>4.0</td><td>0.4915</td><td>0.0922065</td><td>0.0</td><td>0.59</td><td>0.117</td><td>0.8014</td></tr><tr><th>11</th><td>11</td><td>1</td><td>8.5</td><td>0.5836</td><td>0.0</td><td>0.0</td><td>0.59</td><td>0.103</td><td>1.8103</td></tr><tr><th>12</th><td>12</td><td>1</td><td>9.2698</td><td>0.5904</td><td>0.0</td><td>0.0</td><td>0.52</td><td>0.134</td><td>2.0</td></tr><tr><th>13</th><td>13</td><td>1</td><td>9.2698</td><td>0.5904</td><td>0.0</td><td>0.0</td><td>0.58</td><td>0.105</td><td>2.0</td></tr><tr><th>14</th><td>14</td><td>1</td><td>9.2698</td><td>0.5904</td><td>0.0</td><td>0.0</td><td>0.56</td><td>0.107</td><td>2.0</td></tr><tr><th>15</th><td>15</td><td>1</td><td>4.0</td><td>0.4915</td><td>0.0922065</td><td>0.0</td><td>0.48</td><td>0.155</td><td>0.8014</td></tr><tr><th>16</th><td>16</td><td>1</td><td>8.5</td><td>0.5836</td><td>0.0</td><td>0.0</td><td>0.53</td><td>0.14</td><td>1.8103</td></tr><tr><th>17</th><td>17</td><td>1</td><td>10.0</td><td>0.596</td><td>0.0</td><td>0.0</td><td>0.53</td><td>0.126</td><td>2.1799</td></tr><tr><th>18</th><td>18</td><td>1</td><td>10.75</td><td>0.6011</td><td>0.0</td><td>0.0</td><td>0.57</td><td>0.156</td><td>2.3647</td></tr><tr><th>19</th><td>19</td><td>1</td><td>11.0285</td><td>0.6028</td><td>0.0</td><td>0.0</td><td>0.54</td><td>0.144</td><td>2.4333</td></tr><tr><th>20</th><td>20</td><td>1</td><td>4.0</td><td>0.4915</td><td>0.0922065</td><td>0.0</td><td>0.58</td><td>0.104</td><td>0.8014</td></tr><tr><th>21</th><td>21</td><td>1</td><td>8.5</td><td>0.5836</td><td>0.0</td><td>0.0</td><td>0.54</td><td>0.115</td><td>1.8103</td></tr><tr><th>22</th><td>22</td><td>1</td><td>10.0</td><td>0.596</td><td>0.0</td><td>0.0</td><td>0.58</td><td>0.101</td><td>2.1799</td></tr><tr><th>23</th><td>23</td><td>1</td><td>10.75</td><td>0.6011</td><td>0.0</td><td>0.0</td><td>0.58</td><td>0.139</td><td>2.3647</td></tr><tr><th>24</th><td>24</td><td>1</td><td>11.2</td><td>0.6038</td><td>0.0</td><td>0.0</td><td>0.55</td><td>0.124</td><td>2.4756</td></tr><tr><th>25</th><td>25</td><td>1</td><td>4.0</td><td>0.4915</td><td>0.0922065</td><td>0.0</td><td>0.53</td><td>0.123</td><td>0.8014</td></tr><tr><th>26</th><td>26</td><td>1</td><td>8.5</td><td>0.5836</td><td>0.0</td><td>0.0</td><td>0.57</td><td>0.144</td><td>1.8103</td></tr><tr><th>27</th><td>27</td><td>1</td><td>10.0</td><td>0.596</td><td>0.0</td><td>0.0</td><td>0.6</td><td>0.154</td><td>2.1799</td></tr><tr><th>28</th><td>28</td><td>1</td><td>10.75</td><td>0.6011</td><td>0.0</td><td>0.0</td><td>0.45</td><td>0.101</td><td>2.3647</td></tr><tr><th>29</th><td>29</td><td>1</td><td>11.2</td><td>0.6038</td><td>0.0</td><td>0.0</td><td>0.53</td><td>0.132</td><td>2.4756</td></tr><tr><th>30</th><td>30</td><td>2</td><td>12.2276</td><td>0.5596</td><td>0.881291</td><td>0.0</td><td>0.55</td><td>0.107</td><td>3.7074</td></tr><tr><th>&vellip;</th><td>&vellip;</td><td>&vellip;</td><td>&vellip;</td><td>&vellip;</td><td>&vellip;</td><td>&vellip;</td><td>&vellip;</td><td>&vellip;</td><td>&vellip;</td></tr></tbody></table></div>"
      ],
      "text/latex": [
       "\\begin{tabular}{r|ccccccccc}\n",
       "\t& k & i & GWP & Theta & Per\\_Recycl & Per\\_Comp & GHG\\_ElecInd & GHG\\_Trans & OCost\\\\\n",
       "\t\\hline\n",
       "\t& Int64 & Int64 & Float64 & Float64 & Float64 & Float64 & Float64 & Float64 & Float64\\\\\n",
       "\t\\hline\n",
       "\t1 & 1 & 1 & 15.0711 & 0.621 & 0.0 & 0.0 & 0.499 & 0.122 & 3.4294 \\\\\n",
       "\t2 & 2 & 1 & 2.7837 & 0.3955 & 0.661676 & 0.0 & 0.47 & 0.127 & 1.1203 \\\\\n",
       "\t3 & 3 & 1 & 10.0834 & 0.41 & 0.0 & 1.0 & 0.56 & 0.111 & 0.65 \\\\\n",
       "\t4 & 4 & 1 & 8.9103 & 0.4132 & 0.0 & 0.958953 & 0.54 & 0.104 & 0.67 \\\\\n",
       "\t5 & 5 & 1 & 4.0 & 0.4546 & 0.0 & 0.0 & 0.54 & 0.139 & 0.7 \\\\\n",
       "\t6 & 6 & 1 & 4.1434 & 0.5081 & 0.0 & 0.0 & 0.57 & 0.12 & 0.7 \\\\\n",
       "\t7 & 7 & 1 & 7.1535 & 0.4218 & 0.0 & 0.854318 & 0.5 & 0.114 & 0.7 \\\\\n",
       "\t8 & 8 & 1 & 4.1374 & 0.5081 & 0.0 & 0.0 & 0.46 & 0.116 & 0.7 \\\\\n",
       "\t9 & 9 & 1 & 7.1535 & 0.4218 & 0.0 & 0.854318 & 0.52 & 0.132 & 0.7 \\\\\n",
       "\t10 & 10 & 1 & 4.0 & 0.4915 & 0.0922065 & 0.0 & 0.59 & 0.117 & 0.8014 \\\\\n",
       "\t11 & 11 & 1 & 8.5 & 0.5836 & 0.0 & 0.0 & 0.59 & 0.103 & 1.8103 \\\\\n",
       "\t12 & 12 & 1 & 9.2698 & 0.5904 & 0.0 & 0.0 & 0.52 & 0.134 & 2.0 \\\\\n",
       "\t13 & 13 & 1 & 9.2698 & 0.5904 & 0.0 & 0.0 & 0.58 & 0.105 & 2.0 \\\\\n",
       "\t14 & 14 & 1 & 9.2698 & 0.5904 & 0.0 & 0.0 & 0.56 & 0.107 & 2.0 \\\\\n",
       "\t15 & 15 & 1 & 4.0 & 0.4915 & 0.0922065 & 0.0 & 0.48 & 0.155 & 0.8014 \\\\\n",
       "\t16 & 16 & 1 & 8.5 & 0.5836 & 0.0 & 0.0 & 0.53 & 0.14 & 1.8103 \\\\\n",
       "\t17 & 17 & 1 & 10.0 & 0.596 & 0.0 & 0.0 & 0.53 & 0.126 & 2.1799 \\\\\n",
       "\t18 & 18 & 1 & 10.75 & 0.6011 & 0.0 & 0.0 & 0.57 & 0.156 & 2.3647 \\\\\n",
       "\t19 & 19 & 1 & 11.0285 & 0.6028 & 0.0 & 0.0 & 0.54 & 0.144 & 2.4333 \\\\\n",
       "\t20 & 20 & 1 & 4.0 & 0.4915 & 0.0922065 & 0.0 & 0.58 & 0.104 & 0.8014 \\\\\n",
       "\t21 & 21 & 1 & 8.5 & 0.5836 & 0.0 & 0.0 & 0.54 & 0.115 & 1.8103 \\\\\n",
       "\t22 & 22 & 1 & 10.0 & 0.596 & 0.0 & 0.0 & 0.58 & 0.101 & 2.1799 \\\\\n",
       "\t23 & 23 & 1 & 10.75 & 0.6011 & 0.0 & 0.0 & 0.58 & 0.139 & 2.3647 \\\\\n",
       "\t24 & 24 & 1 & 11.2 & 0.6038 & 0.0 & 0.0 & 0.55 & 0.124 & 2.4756 \\\\\n",
       "\t25 & 25 & 1 & 4.0 & 0.4915 & 0.0922065 & 0.0 & 0.53 & 0.123 & 0.8014 \\\\\n",
       "\t26 & 26 & 1 & 8.5 & 0.5836 & 0.0 & 0.0 & 0.57 & 0.144 & 1.8103 \\\\\n",
       "\t27 & 27 & 1 & 10.0 & 0.596 & 0.0 & 0.0 & 0.6 & 0.154 & 2.1799 \\\\\n",
       "\t28 & 28 & 1 & 10.75 & 0.6011 & 0.0 & 0.0 & 0.45 & 0.101 & 2.3647 \\\\\n",
       "\t29 & 29 & 1 & 11.2 & 0.6038 & 0.0 & 0.0 & 0.53 & 0.132 & 2.4756 \\\\\n",
       "\t30 & 30 & 2 & 12.2276 & 0.5596 & 0.881291 & 0.0 & 0.55 & 0.107 & 3.7074 \\\\\n",
       "\t$\\dots$ & $\\dots$ & $\\dots$ & $\\dots$ & $\\dots$ & $\\dots$ & $\\dots$ & $\\dots$ & $\\dots$ & $\\dots$ \\\\\n",
       "\\end{tabular}\n"
      ],
      "text/plain": [
       "\u001b[1m240×9 DataFrame\u001b[0m\n",
       "\u001b[1m Row \u001b[0m│\u001b[1m k     \u001b[0m\u001b[1m i     \u001b[0m\u001b[1m GWP     \u001b[0m\u001b[1m Theta   \u001b[0m\u001b[1m Per_Recycl \u001b[0m\u001b[1m Per_Comp  \u001b[0m\u001b[1m GHG_ElecInd \u001b[0m\u001b[1m GHG\u001b[0m ⋯\n",
       "\u001b[1m     \u001b[0m│\u001b[90m Int64 \u001b[0m\u001b[90m Int64 \u001b[0m\u001b[90m Float64 \u001b[0m\u001b[90m Float64 \u001b[0m\u001b[90m Float64    \u001b[0m\u001b[90m Float64   \u001b[0m\u001b[90m Float64     \u001b[0m\u001b[90m Flo\u001b[0m ⋯\n",
       "─────┼──────────────────────────────────────────────────────────────────────────\n",
       "   1 │     1      1  15.0711   0.621    0.0        0.0              0.499      ⋯\n",
       "   2 │     2      1   2.7837   0.3955   0.661676   0.0              0.47\n",
       "   3 │     3      1  10.0834   0.41     0.0        1.0              0.56\n",
       "   4 │     4      1   8.9103   0.4132   0.0        0.958953         0.54\n",
       "   5 │     5      1   4.0      0.4546   0.0        0.0              0.54       ⋯\n",
       "   6 │     6      1   4.1434   0.5081   0.0        0.0              0.57\n",
       "   7 │     7      1   7.1535   0.4218   0.0        0.854318         0.5\n",
       "   8 │     8      1   4.1374   0.5081   0.0        0.0              0.46\n",
       "   9 │     9      1   7.1535   0.4218   0.0        0.854318         0.52       ⋯\n",
       "  10 │    10      1   4.0      0.4915   0.0922065  0.0              0.59\n",
       "  11 │    11      1   8.5      0.5836   0.0        0.0              0.59\n",
       "  ⋮  │   ⋮      ⋮       ⋮        ⋮         ⋮           ⋮           ⋮           ⋱\n",
       " 231 │   231     10   3.2136   0.175    0.27592    0.0              1.48\n",
       " 232 │   232     10   3.1062   0.175    0.245418   0.0646392        1.58       ⋯\n",
       " 233 │   233     10   2.9988   0.175    0.230787   0.153537         1.48\n",
       " 234 │   234     10   2.8914   0.2485   0.405205   0.0              1.57\n",
       " 235 │   235     10   2.784    0.3955   0.661676   0.0              1.52\n",
       " 236 │   236     10   3.1024   0.05     0.065482   0.0              1.45       ⋯\n",
       " 237 │   237     10   3.1021   0.05     0.065482   0.0              1.5\n",
       " 238 │   238     10   2.9988   0.05     0.0752763  0.0              1.58\n",
       " 239 │   239     10   2.8914   0.207    0.295782   0.0888537        1.56\n",
       " 240 │   240     10   2.784    0.3949   0.660557   0.0              1.48       ⋯\n",
       "\u001b[36m                                                  2 columns and 219 rows omitted\u001b[0m"
      ]
     },
     "execution_count": 25,
     "metadata": {},
     "output_type": "execute_result"
    }
   ],
   "source": [
    "compromise"
   ]
  },
  {
   "cell_type": "code",
   "execution_count": 26,
   "id": "e3a3dbe8",
   "metadata": {},
   "outputs": [
    {
     "data": {
      "text/plain": [
       "10×7 Matrix{Float64}:\n",
       " 2.0  1.93097  2.08861  2.24624  2.60288  2.95952  3.36712\n",
       " 2.0  1.93097  2.08861  2.24624  2.60288  2.95952  3.36712\n",
       " 4.0  3.69121  4.08332  4.47542  5.18264  5.99488  6.92121\n",
       " 4.0  3.72014  3.89779  4.07544  4.47475  4.94796  5.49309\n",
       " 2.0  2.15894  2.31787  2.62687  2.98589  3.44992  4.01899\n",
       " 3.0  2.68846  2.96366  3.23887  3.76307  4.37027  5.05987\n",
       " 2.0  2.25727  2.63287  3.12678  3.62069  4.32956  5.03843\n",
       " 4.0  3.69121  4.08332  4.47542  5.18264  5.99488  6.92121\n",
       " 3.0  3.29813  3.59627  3.8944   4.34283  4.79125  5.42961\n",
       " 4.0  3.72014  3.89779  4.07544  4.47475  4.94796  5.49309"
      ]
     },
     "execution_count": 26,
     "metadata": {},
     "output_type": "execute_result"
    }
   ],
   "source": [
    "s"
   ]
  },
  {
   "cell_type": "code",
   "execution_count": 27,
   "id": "37a60cdb",
   "metadata": {},
   "outputs": [
    {
     "data": {
      "text/html": [
       "<div class=\"data-frame\"><p>8 rows × 11 columns (omitted printing of 2 columns)</p><table class=\"data-frame\"><thead><tr><th></th><th>x93</th><th>x94</th><th>x103</th><th>x108</th><th>x195</th><th>x197</th><th>x198</th><th>x199</th><th>x200</th></tr><tr><th></th><th title=\"Float64\">Float64</th><th title=\"Float64\">Float64</th><th title=\"Float64\">Float64</th><th title=\"Float64\">Float64</th><th title=\"Float64\">Float64</th><th title=\"Float64\">Float64</th><th title=\"Float64\">Float64</th><th title=\"Float64\">Float64</th><th title=\"Float64\">Float64</th></tr></thead><tbody><tr><th>1</th><td>0.0</td><td>1.0</td><td>0.0</td><td>0.0</td><td>0.0</td><td>0.0</td><td>0.0</td><td>0.0</td><td>0.0</td></tr><tr><th>2</th><td>0.0</td><td>0.0</td><td>0.0</td><td>0.0</td><td>1.0</td><td>0.0</td><td>0.0</td><td>0.0</td><td>0.0</td></tr><tr><th>3</th><td>0.0</td><td>0.0</td><td>0.531119</td><td>0.0</td><td>0.0</td><td>0.0</td><td>0.0</td><td>0.0</td><td>0.468881</td></tr><tr><th>4</th><td>0.551468</td><td>0.0</td><td>0.0</td><td>0.0</td><td>0.0</td><td>0.0</td><td>0.0</td><td>0.448532</td><td>0.0</td></tr><tr><th>5</th><td>0.0</td><td>0.0</td><td>0.0</td><td>0.548152</td><td>0.0</td><td>0.0</td><td>0.451848</td><td>0.0</td><td>0.0</td></tr><tr><th>6</th><td>0.551468</td><td>0.0</td><td>0.0</td><td>0.0</td><td>0.0</td><td>0.0</td><td>0.0</td><td>0.448532</td><td>0.0</td></tr><tr><th>7</th><td>0.0</td><td>0.0</td><td>0.0</td><td>0.662016</td><td>0.0</td><td>0.337984</td><td>0.0</td><td>0.0</td><td>0.0</td></tr><tr><th>8</th><td>0.0</td><td>0.0</td><td>0.0</td><td>0.0</td><td>0.0</td><td>0.0</td><td>0.0</td><td>0.0</td><td>0.0</td></tr></tbody></table></div>"
      ],
      "text/latex": [
       "\\begin{tabular}{r|cccccccccc}\n",
       "\t& x93 & x94 & x103 & x108 & x195 & x197 & x198 & x199 & x200 & \\\\\n",
       "\t\\hline\n",
       "\t& Float64 & Float64 & Float64 & Float64 & Float64 & Float64 & Float64 & Float64 & Float64 & \\\\\n",
       "\t\\hline\n",
       "\t1 & 0.0 & 1.0 & 0.0 & 0.0 & 0.0 & 0.0 & 0.0 & 0.0 & 0.0 & $\\dots$ \\\\\n",
       "\t2 & 0.0 & 0.0 & 0.0 & 0.0 & 1.0 & 0.0 & 0.0 & 0.0 & 0.0 & $\\dots$ \\\\\n",
       "\t3 & 0.0 & 0.0 & 0.531119 & 0.0 & 0.0 & 0.0 & 0.0 & 0.0 & 0.468881 & $\\dots$ \\\\\n",
       "\t4 & 0.551468 & 0.0 & 0.0 & 0.0 & 0.0 & 0.0 & 0.0 & 0.448532 & 0.0 & $\\dots$ \\\\\n",
       "\t5 & 0.0 & 0.0 & 0.0 & 0.548152 & 0.0 & 0.0 & 0.451848 & 0.0 & 0.0 & $\\dots$ \\\\\n",
       "\t6 & 0.551468 & 0.0 & 0.0 & 0.0 & 0.0 & 0.0 & 0.0 & 0.448532 & 0.0 & $\\dots$ \\\\\n",
       "\t7 & 0.0 & 0.0 & 0.0 & 0.662016 & 0.0 & 0.337984 & 0.0 & 0.0 & 0.0 & $\\dots$ \\\\\n",
       "\t8 & 0.0 & 0.0 & 0.0 & 0.0 & 0.0 & 0.0 & 0.0 & 0.0 & 0.0 & $\\dots$ \\\\\n",
       "\\end{tabular}\n"
      ],
      "text/plain": [
       "\u001b[1m8×11 DataFrame\u001b[0m\n",
       "\u001b[1m Row \u001b[0m│\u001b[1m x93      \u001b[0m\u001b[1m x94     \u001b[0m\u001b[1m x103     \u001b[0m\u001b[1m x108     \u001b[0m\u001b[1m x195    \u001b[0m\u001b[1m x197     \u001b[0m\u001b[1m x198     \u001b[0m\u001b[1m x19\u001b[0m ⋯\n",
       "\u001b[1m     \u001b[0m│\u001b[90m Float64  \u001b[0m\u001b[90m Float64 \u001b[0m\u001b[90m Float64  \u001b[0m\u001b[90m Float64  \u001b[0m\u001b[90m Float64 \u001b[0m\u001b[90m Float64  \u001b[0m\u001b[90m Float64  \u001b[0m\u001b[90m Flo\u001b[0m ⋯\n",
       "─────┼──────────────────────────────────────────────────────────────────────────\n",
       "   1 │ 0.0           1.0  0.0       0.0           0.0  0.0       0.0       0.0 ⋯\n",
       "   2 │ 0.0           0.0  0.0       0.0           1.0  0.0       0.0       0.0\n",
       "   3 │ 0.0           0.0  0.531119  0.0           0.0  0.0       0.0       0.0\n",
       "   4 │ 0.551468      0.0  0.0       0.0           0.0  0.0       0.0       0.4\n",
       "   5 │ 0.0           0.0  0.0       0.548152      0.0  0.0       0.451848  0.0 ⋯\n",
       "   6 │ 0.551468      0.0  0.0       0.0           0.0  0.0       0.0       0.4\n",
       "   7 │ 0.0           0.0  0.0       0.662016      0.0  0.337984  0.0       0.0\n",
       "   8 │ 0.0           0.0  0.0       0.0           0.0  0.0       0.0       0.0\n",
       "\u001b[36m                                                               4 columns omitted\u001b[0m"
      ]
     },
     "execution_count": 27,
     "metadata": {},
     "output_type": "execute_result"
    }
   ],
   "source": [
    "df1"
   ]
  },
  {
   "cell_type": "code",
   "execution_count": 28,
   "id": "d665b15b",
   "metadata": {},
   "outputs": [
    {
     "data": {
      "text/html": [
       "<div class=\"data-frame\"><p>6 rows × 2 columns</p><table class=\"data-frame\"><thead><tr><th></th><th>Yr</th><th>Back_RedFr_Elec</th></tr><tr><th></th><th title=\"Int64\">Int64</th><th title=\"Float64\">Float64</th></tr></thead><tbody><tr><th>1</th><td>0</td><td>1.0</td></tr><tr><th>2</th><td>10</td><td>0.949785</td></tr><tr><th>3</th><td>20</td><td>0.809146</td></tr><tr><th>4</th><td>30</td><td>0.623735</td></tr><tr><th>5</th><td>40</td><td>0.414707</td></tr><tr><th>6</th><td>50</td><td>0.331447</td></tr></tbody></table></div>"
      ],
      "text/latex": [
       "\\begin{tabular}{r|cc}\n",
       "\t& Yr & Back\\_RedFr\\_Elec\\\\\n",
       "\t\\hline\n",
       "\t& Int64 & Float64\\\\\n",
       "\t\\hline\n",
       "\t1 & 0 & 1.0 \\\\\n",
       "\t2 & 10 & 0.949785 \\\\\n",
       "\t3 & 20 & 0.809146 \\\\\n",
       "\t4 & 30 & 0.623735 \\\\\n",
       "\t5 & 40 & 0.414707 \\\\\n",
       "\t6 & 50 & 0.331447 \\\\\n",
       "\\end{tabular}\n"
      ],
      "text/plain": [
       "\u001b[1m6×2 DataFrame\u001b[0m\n",
       "\u001b[1m Row \u001b[0m│\u001b[1m Yr    \u001b[0m\u001b[1m Back_RedFr_Elec \u001b[0m\n",
       "\u001b[1m     \u001b[0m│\u001b[90m Int64 \u001b[0m\u001b[90m Float64         \u001b[0m\n",
       "─────┼────────────────────────\n",
       "   1 │     0         1.0\n",
       "   2 │    10         0.949785\n",
       "   3 │    20         0.809146\n",
       "   4 │    30         0.623735\n",
       "   5 │    40         0.414707\n",
       "   6 │    50         0.331447"
      ]
     },
     "execution_count": 28,
     "metadata": {},
     "output_type": "execute_result"
    }
   ],
   "source": [
    "iam_model"
   ]
  },
  {
   "cell_type": "code",
   "execution_count": 29,
   "id": "b973f9a0",
   "metadata": {},
   "outputs": [
    {
     "data": {
      "text/plain": [
       "1.0"
      ]
     },
     "execution_count": 29,
     "metadata": {},
     "output_type": "execute_result"
    }
   ],
   "source": [
    "sum(xk[:,1])"
   ]
  },
  {
   "cell_type": "code",
   "execution_count": 30,
   "id": "750deec1",
   "metadata": {},
   "outputs": [
    {
     "data": {
      "text/plain": [
       "1"
      ]
     },
     "execution_count": 30,
     "metadata": {},
     "output_type": "execute_result"
    }
   ],
   "source": [
    "mod(6,5)"
   ]
  },
  {
   "cell_type": "code",
   "execution_count": 54,
   "id": "4b41ac92",
   "metadata": {},
   "outputs": [
    {
     "data": {
      "application/vnd.vegalite.v4+json": {
       "data": {
        "values": [
         {
          "value": 8,
          "variable": "Conv",
          "year": "2020"
         },
         {
          "value": 0,
          "variable": "Conv",
          "year": "2021"
         },
         {
          "value": 0,
          "variable": "Conv",
          "year": "2022"
         },
         {
          "value": 0,
          "variable": "Conv",
          "year": "2023"
         },
         {
          "value": 0,
          "variable": "Conv",
          "year": "2024"
         },
         {
          "value": 0,
          "variable": "Conv",
          "year": "2025"
         },
         {
          "value": 0,
          "variable": "Conv",
          "year": "2026"
         },
         {
          "value": 0,
          "variable": "Conv",
          "year": "2027"
         },
         {
          "value": 0,
          "variable": "Conv",
          "year": "2028"
         },
         {
          "value": 0,
          "variable": "Conv",
          "year": "2029"
         },
         {
          "value": 0,
          "variable": "Conv",
          "year": "2030"
         },
         {
          "value": 0,
          "variable": "Conv",
          "year": "2031"
         },
         {
          "value": 0,
          "variable": "Conv",
          "year": "2032"
         },
         {
          "value": 0,
          "variable": "Conv",
          "year": "2033"
         },
         {
          "value": 0,
          "variable": "Conv",
          "year": "2034"
         },
         {
          "value": 0,
          "variable": "Conv",
          "year": "2035"
         },
         {
          "value": 0,
          "variable": "Conv",
          "year": "2036"
         },
         {
          "value": 0,
          "variable": "Conv",
          "year": "2037"
         },
         {
          "value": 0,
          "variable": "Conv",
          "year": "2038"
         },
         {
          "value": 0,
          "variable": "Conv",
          "year": "2039"
         },
         {
          "value": 0,
          "variable": "Conv",
          "year": "2040"
         },
         {
          "value": 0,
          "variable": "Conv",
          "year": "2041"
         },
         {
          "value": 0,
          "variable": "Conv",
          "year": "2042"
         },
         {
          "value": 0,
          "variable": "Conv",
          "year": "2043"
         },
         {
          "value": 0,
          "variable": "Conv",
          "year": "2044"
         },
         {
          "value": 0,
          "variable": "Conv",
          "year": "2045"
         },
         {
          "value": 0,
          "variable": "Conv",
          "year": "2046"
         },
         {
          "value": 0,
          "variable": "Conv",
          "year": "2047"
         },
         {
          "value": 0,
          "variable": "Conv",
          "year": "2048"
         },
         {
          "value": 0,
          "variable": "Conv",
          "year": "2049"
         },
         {
          "value": 0,
          "variable": "Conv",
          "year": "2050"
         },
         {
          "value": 0,
          "variable": "Conv",
          "year": "2051"
         },
         {
          "value": 0,
          "variable": "Conv",
          "year": "2052"
         },
         {
          "value": 0,
          "variable": "Conv",
          "year": "2053"
         },
         {
          "value": 0,
          "variable": "Conv",
          "year": "2054"
         },
         {
          "value": 0,
          "variable": "Conv",
          "year": "2055"
         },
         {
          "value": 0,
          "variable": "LABS12",
          "year": "2020"
         },
         {
          "value": 0,
          "variable": "LABS12",
          "year": "2021"
         },
         {
          "value": 0,
          "variable": "LABS12",
          "year": "2022"
         },
         {
          "value": 0,
          "variable": "LABS12",
          "year": "2023"
         },
         {
          "value": 0,
          "variable": "LABS12",
          "year": "2024"
         },
         {
          "value": 0,
          "variable": "LABS12",
          "year": "2025"
         },
         {
          "value": 0,
          "variable": "LABS12",
          "year": "2026"
         },
         {
          "value": 0,
          "variable": "LABS12",
          "year": "2027"
         },
         {
          "value": 0,
          "variable": "LABS12",
          "year": "2028"
         },
         {
          "value": 0,
          "variable": "LABS12",
          "year": "2029"
         },
         {
          "value": 1.1073634765133744,
          "variable": "LABS12",
          "year": "2030"
         },
         {
          "value": 1.1073634765133744,
          "variable": "LABS12",
          "year": "2031"
         },
         {
          "value": 1.1073634765133744,
          "variable": "LABS12",
          "year": "2032"
         },
         {
          "value": 1.1073634765133744,
          "variable": "LABS12",
          "year": "2033"
         },
         {
          "value": 1.1073634765133744,
          "variable": "LABS12",
          "year": "2034"
         },
         {
          "value": 0,
          "variable": "LABS12",
          "year": "2035"
         },
         {
          "value": 0,
          "variable": "LABS12",
          "year": "2036"
         },
         {
          "value": 0,
          "variable": "LABS12",
          "year": "2037"
         },
         {
          "value": 0,
          "variable": "LABS12",
          "year": "2038"
         },
         {
          "value": 0,
          "variable": "LABS12",
          "year": "2039"
         },
         {
          "value": 0.6918064342521579,
          "variable": "LABS12",
          "year": "2040"
         },
         {
          "value": 0.6918064342521579,
          "variable": "LABS12",
          "year": "2041"
         },
         {
          "value": 0.6918064342521579,
          "variable": "LABS12",
          "year": "2042"
         },
         {
          "value": 0.6918064342521579,
          "variable": "LABS12",
          "year": "2043"
         },
         {
          "value": 0.6918064342521579,
          "variable": "LABS12",
          "year": "2044"
         },
         {
          "value": 0,
          "variable": "LABS12",
          "year": "2045"
         },
         {
          "value": 0,
          "variable": "LABS12",
          "year": "2046"
         },
         {
          "value": 0,
          "variable": "LABS12",
          "year": "2047"
         },
         {
          "value": 0,
          "variable": "LABS12",
          "year": "2048"
         },
         {
          "value": 0,
          "variable": "LABS12",
          "year": "2049"
         },
         {
          "value": 0,
          "variable": "LABS12",
          "year": "2050"
         },
         {
          "value": 0,
          "variable": "LABS12",
          "year": "2051"
         },
         {
          "value": 0,
          "variable": "LABS12",
          "year": "2052"
         },
         {
          "value": 0,
          "variable": "LABS12",
          "year": "2053"
         },
         {
          "value": 0,
          "variable": "LABS12",
          "year": "2054"
         },
         {
          "value": 0,
          "variable": "LABS12",
          "year": "2055"
         },
         {
          "value": 0,
          "variable": "LABS13",
          "year": "2020"
         },
         {
          "value": 2.9585,
          "variable": "LABS13",
          "year": "2021"
         },
         {
          "value": 2.9585,
          "variable": "LABS13",
          "year": "2022"
         },
         {
          "value": 2.9585,
          "variable": "LABS13",
          "year": "2023"
         },
         {
          "value": 2.9585,
          "variable": "LABS13",
          "year": "2024"
         },
         {
          "value": 0,
          "variable": "LABS13",
          "year": "2025"
         },
         {
          "value": 0,
          "variable": "LABS13",
          "year": "2026"
         },
         {
          "value": 0,
          "variable": "LABS13",
          "year": "2027"
         },
         {
          "value": 0,
          "variable": "LABS13",
          "year": "2028"
         },
         {
          "value": 0,
          "variable": "LABS13",
          "year": "2029"
         },
         {
          "value": 0,
          "variable": "LABS13",
          "year": "2030"
         },
         {
          "value": 0,
          "variable": "LABS13",
          "year": "2031"
         },
         {
          "value": 0,
          "variable": "LABS13",
          "year": "2032"
         },
         {
          "value": 0,
          "variable": "LABS13",
          "year": "2033"
         },
         {
          "value": 0,
          "variable": "LABS13",
          "year": "2034"
         },
         {
          "value": 0,
          "variable": "LABS13",
          "year": "2035"
         },
         {
          "value": 0,
          "variable": "LABS13",
          "year": "2036"
         },
         {
          "value": 0,
          "variable": "LABS13",
          "year": "2037"
         },
         {
          "value": 0,
          "variable": "LABS13",
          "year": "2038"
         },
         {
          "value": 0,
          "variable": "LABS13",
          "year": "2039"
         },
         {
          "value": 0,
          "variable": "LABS13",
          "year": "2040"
         },
         {
          "value": 0,
          "variable": "LABS13",
          "year": "2041"
         },
         {
          "value": 0,
          "variable": "LABS13",
          "year": "2042"
         },
         {
          "value": 0,
          "variable": "LABS13",
          "year": "2043"
         },
         {
          "value": 0,
          "variable": "LABS13",
          "year": "2044"
         },
         {
          "value": 0,
          "variable": "LABS13",
          "year": "2045"
         },
         {
          "value": 0,
          "variable": "LABS13",
          "year": "2046"
         },
         {
          "value": 0,
          "variable": "LABS13",
          "year": "2047"
         },
         {
          "value": 0,
          "variable": "LABS13",
          "year": "2048"
         },
         {
          "value": 0,
          "variable": "LABS13",
          "year": "2049"
         },
         {
          "value": 0,
          "variable": "LABS13",
          "year": "2050"
         },
         {
          "value": 0,
          "variable": "LABS13",
          "year": "2051"
         },
         {
          "value": 0,
          "variable": "LABS13",
          "year": "2052"
         },
         {
          "value": 0,
          "variable": "LABS13",
          "year": "2053"
         },
         {
          "value": 0,
          "variable": "LABS13",
          "year": "2054"
         },
         {
          "value": 0,
          "variable": "LABS13",
          "year": "2055"
         },
         {
          "value": 0,
          "variable": "LABS27",
          "year": "2020"
         },
         {
          "value": 0,
          "variable": "LABS27",
          "year": "2021"
         },
         {
          "value": 0,
          "variable": "LABS27",
          "year": "2022"
         },
         {
          "value": 0,
          "variable": "LABS27",
          "year": "2023"
         },
         {
          "value": 0,
          "variable": "LABS27",
          "year": "2024"
         },
         {
          "value": 0,
          "variable": "LABS27",
          "year": "2025"
         },
         {
          "value": 0,
          "variable": "LABS27",
          "year": "2026"
         },
         {
          "value": 0,
          "variable": "LABS27",
          "year": "2027"
         },
         {
          "value": 0,
          "variable": "LABS27",
          "year": "2028"
         },
         {
          "value": 0,
          "variable": "LABS27",
          "year": "2029"
         },
         {
          "value": 0,
          "variable": "LABS27",
          "year": "2030"
         },
         {
          "value": 0,
          "variable": "LABS27",
          "year": "2031"
         },
         {
          "value": 0,
          "variable": "LABS27",
          "year": "2032"
         },
         {
          "value": 0,
          "variable": "LABS27",
          "year": "2033"
         },
         {
          "value": 0,
          "variable": "LABS27",
          "year": "2034"
         },
         {
          "value": 0.6605996507984914,
          "variable": "LABS27",
          "year": "2035"
         },
         {
          "value": 0.6605996507984914,
          "variable": "LABS27",
          "year": "2036"
         },
         {
          "value": 0.6605996507984914,
          "variable": "LABS27",
          "year": "2037"
         },
         {
          "value": 0.6605996507984914,
          "variable": "LABS27",
          "year": "2038"
         },
         {
          "value": 0.6605996507984914,
          "variable": "LABS27",
          "year": "2039"
         },
         {
          "value": 0,
          "variable": "LABS27",
          "year": "2040"
         },
         {
          "value": 0,
          "variable": "LABS27",
          "year": "2041"
         },
         {
          "value": 0,
          "variable": "LABS27",
          "year": "2042"
         },
         {
          "value": 0,
          "variable": "LABS27",
          "year": "2043"
         },
         {
          "value": 0,
          "variable": "LABS27",
          "year": "2044"
         },
         {
          "value": 0.07084999321605534,
          "variable": "LABS27",
          "year": "2045"
         },
         {
          "value": 0.07084999321605534,
          "variable": "LABS27",
          "year": "2046"
         },
         {
          "value": 0.07084999321605534,
          "variable": "LABS27",
          "year": "2047"
         },
         {
          "value": 0.07084999321605534,
          "variable": "LABS27",
          "year": "2048"
         },
         {
          "value": 0.07084999321605534,
          "variable": "LABS27",
          "year": "2049"
         },
         {
          "value": 0.07084999321605534,
          "variable": "LABS27",
          "year": "2050"
         },
         {
          "value": 0.07084999321605534,
          "variable": "LABS27",
          "year": "2051"
         },
         {
          "value": 0.07084999321605534,
          "variable": "LABS27",
          "year": "2052"
         },
         {
          "value": 0.07084999321605534,
          "variable": "LABS27",
          "year": "2053"
         },
         {
          "value": 0.07084999321605534,
          "variable": "LABS27",
          "year": "2054"
         },
         {
          "value": 0.07084999321605534,
          "variable": "LABS27",
          "year": "2055"
         },
         {
          "value": 0,
          "variable": "RecyclPLA2",
          "year": "2020"
         },
         {
          "value": 0,
          "variable": "RecyclPLA2",
          "year": "2021"
         },
         {
          "value": 0,
          "variable": "RecyclPLA2",
          "year": "2022"
         },
         {
          "value": 0,
          "variable": "RecyclPLA2",
          "year": "2023"
         },
         {
          "value": 0,
          "variable": "RecyclPLA2",
          "year": "2024"
         },
         {
          "value": 2.7252589968487206,
          "variable": "RecyclPLA2",
          "year": "2025"
         },
         {
          "value": 2.7252589968487206,
          "variable": "RecyclPLA2",
          "year": "2026"
         },
         {
          "value": 2.7252589968487206,
          "variable": "RecyclPLA2",
          "year": "2027"
         },
         {
          "value": 2.7252589968487206,
          "variable": "RecyclPLA2",
          "year": "2028"
         },
         {
          "value": 2.7252589968487206,
          "variable": "RecyclPLA2",
          "year": "2029"
         },
         {
          "value": 0,
          "variable": "RecyclPLA2",
          "year": "2030"
         },
         {
          "value": 0,
          "variable": "RecyclPLA2",
          "year": "2031"
         },
         {
          "value": 0,
          "variable": "RecyclPLA2",
          "year": "2032"
         },
         {
          "value": 0,
          "variable": "RecyclPLA2",
          "year": "2033"
         },
         {
          "value": 0,
          "variable": "RecyclPLA2",
          "year": "2034"
         },
         {
          "value": 0,
          "variable": "RecyclPLA2",
          "year": "2035"
         },
         {
          "value": 0,
          "variable": "RecyclPLA2",
          "year": "2036"
         },
         {
          "value": 0,
          "variable": "RecyclPLA2",
          "year": "2037"
         },
         {
          "value": 0,
          "variable": "RecyclPLA2",
          "year": "2038"
         },
         {
          "value": 0,
          "variable": "RecyclPLA2",
          "year": "2039"
         },
         {
          "value": 0,
          "variable": "RecyclPLA2",
          "year": "2040"
         },
         {
          "value": 0,
          "variable": "RecyclPLA2",
          "year": "2041"
         },
         {
          "value": 0,
          "variable": "RecyclPLA2",
          "year": "2042"
         },
         {
          "value": 0,
          "variable": "RecyclPLA2",
          "year": "2043"
         },
         {
          "value": 0,
          "variable": "RecyclPLA2",
          "year": "2044"
         },
         {
          "value": 0,
          "variable": "RecyclPLA2",
          "year": "2045"
         },
         {
          "value": 0,
          "variable": "RecyclPLA2",
          "year": "2046"
         },
         {
          "value": 0,
          "variable": "RecyclPLA2",
          "year": "2047"
         },
         {
          "value": 0,
          "variable": "RecyclPLA2",
          "year": "2048"
         },
         {
          "value": 0,
          "variable": "RecyclPLA2",
          "year": "2049"
         },
         {
          "value": 0,
          "variable": "RecyclPLA2",
          "year": "2050"
         },
         {
          "value": 0,
          "variable": "RecyclPLA2",
          "year": "2051"
         },
         {
          "value": 0,
          "variable": "RecyclPLA2",
          "year": "2052"
         },
         {
          "value": 0,
          "variable": "RecyclPLA2",
          "year": "2053"
         },
         {
          "value": 0,
          "variable": "RecyclPLA2",
          "year": "2054"
         },
         {
          "value": 0,
          "variable": "RecyclPLA2",
          "year": "2055"
         },
         {
          "value": 0,
          "variable": "RecyclPLA4",
          "year": "2020"
         },
         {
          "value": 0,
          "variable": "RecyclPLA4",
          "year": "2021"
         },
         {
          "value": 0,
          "variable": "RecyclPLA4",
          "year": "2022"
         },
         {
          "value": 0,
          "variable": "RecyclPLA4",
          "year": "2023"
         },
         {
          "value": 0,
          "variable": "RecyclPLA4",
          "year": "2024"
         },
         {
          "value": 0,
          "variable": "RecyclPLA4",
          "year": "2025"
         },
         {
          "value": 0,
          "variable": "RecyclPLA4",
          "year": "2026"
         },
         {
          "value": 0,
          "variable": "RecyclPLA4",
          "year": "2027"
         },
         {
          "value": 0,
          "variable": "RecyclPLA4",
          "year": "2028"
         },
         {
          "value": 0,
          "variable": "RecyclPLA4",
          "year": "2029"
         },
         {
          "value": 0,
          "variable": "RecyclPLA4",
          "year": "2030"
         },
         {
          "value": 0,
          "variable": "RecyclPLA4",
          "year": "2031"
         },
         {
          "value": 0,
          "variable": "RecyclPLA4",
          "year": "2032"
         },
         {
          "value": 0,
          "variable": "RecyclPLA4",
          "year": "2033"
         },
         {
          "value": 0,
          "variable": "RecyclPLA4",
          "year": "2034"
         },
         {
          "value": 0,
          "variable": "RecyclPLA4",
          "year": "2035"
         },
         {
          "value": 0,
          "variable": "RecyclPLA4",
          "year": "2036"
         },
         {
          "value": 0,
          "variable": "RecyclPLA4",
          "year": "2037"
         },
         {
          "value": 0,
          "variable": "RecyclPLA4",
          "year": "2038"
         },
         {
          "value": 0,
          "variable": "RecyclPLA4",
          "year": "2039"
         },
         {
          "value": 0,
          "variable": "RecyclPLA4",
          "year": "2040"
         },
         {
          "value": 0,
          "variable": "RecyclPLA4",
          "year": "2041"
         },
         {
          "value": 0,
          "variable": "RecyclPLA4",
          "year": "2042"
         },
         {
          "value": 0,
          "variable": "RecyclPLA4",
          "year": "2043"
         },
         {
          "value": 0,
          "variable": "RecyclPLA4",
          "year": "2044"
         },
         {
          "value": 0.28728725086234724,
          "variable": "RecyclPLA4",
          "year": "2045"
         },
         {
          "value": 0.28728725086234724,
          "variable": "RecyclPLA4",
          "year": "2046"
         },
         {
          "value": 0.28728725086234724,
          "variable": "RecyclPLA4",
          "year": "2047"
         },
         {
          "value": 0.28728725086234724,
          "variable": "RecyclPLA4",
          "year": "2048"
         },
         {
          "value": 0.28728725086234724,
          "variable": "RecyclPLA4",
          "year": "2049"
         },
         {
          "value": 0.28728725086234724,
          "variable": "RecyclPLA4",
          "year": "2050"
         },
         {
          "value": 0.28728725086234724,
          "variable": "RecyclPLA4",
          "year": "2051"
         },
         {
          "value": 0.28728725086234724,
          "variable": "RecyclPLA4",
          "year": "2052"
         },
         {
          "value": 0.28728725086234724,
          "variable": "RecyclPLA4",
          "year": "2053"
         },
         {
          "value": 0.28728725086234724,
          "variable": "RecyclPLA4",
          "year": "2054"
         },
         {
          "value": 0.28728725086234724,
          "variable": "RecyclPLA4",
          "year": "2055"
         },
         {
          "value": 0,
          "variable": "RecyclPLA5",
          "year": "2020"
         },
         {
          "value": 0,
          "variable": "RecyclPLA5",
          "year": "2021"
         },
         {
          "value": 0,
          "variable": "RecyclPLA5",
          "year": "2022"
         },
         {
          "value": 0,
          "variable": "RecyclPLA5",
          "year": "2023"
         },
         {
          "value": 0,
          "variable": "RecyclPLA5",
          "year": "2024"
         },
         {
          "value": 0,
          "variable": "RecyclPLA5",
          "year": "2025"
         },
         {
          "value": 0,
          "variable": "RecyclPLA5",
          "year": "2026"
         },
         {
          "value": 0,
          "variable": "RecyclPLA5",
          "year": "2027"
         },
         {
          "value": 0,
          "variable": "RecyclPLA5",
          "year": "2028"
         },
         {
          "value": 0,
          "variable": "RecyclPLA5",
          "year": "2029"
         },
         {
          "value": 0,
          "variable": "RecyclPLA5",
          "year": "2030"
         },
         {
          "value": 0,
          "variable": "RecyclPLA5",
          "year": "2031"
         },
         {
          "value": 0,
          "variable": "RecyclPLA5",
          "year": "2032"
         },
         {
          "value": 0,
          "variable": "RecyclPLA5",
          "year": "2033"
         },
         {
          "value": 0,
          "variable": "RecyclPLA5",
          "year": "2034"
         },
         {
          "value": 0.7819272146653777,
          "variable": "RecyclPLA5",
          "year": "2035"
         },
         {
          "value": 0.7819272146653777,
          "variable": "RecyclPLA5",
          "year": "2036"
         },
         {
          "value": 0.7819272146653777,
          "variable": "RecyclPLA5",
          "year": "2037"
         },
         {
          "value": 0.7819272146653777,
          "variable": "RecyclPLA5",
          "year": "2038"
         },
         {
          "value": 0.7819272146653777,
          "variable": "RecyclPLA5",
          "year": "2039"
         },
         {
          "value": 0,
          "variable": "RecyclPLA5",
          "year": "2040"
         },
         {
          "value": 0,
          "variable": "RecyclPLA5",
          "year": "2041"
         },
         {
          "value": 0,
          "variable": "RecyclPLA5",
          "year": "2042"
         },
         {
          "value": 0,
          "variable": "RecyclPLA5",
          "year": "2043"
         },
         {
          "value": 0,
          "variable": "RecyclPLA5",
          "year": "2044"
         },
         {
          "value": 0,
          "variable": "RecyclPLA5",
          "year": "2045"
         },
         {
          "value": 0,
          "variable": "RecyclPLA5",
          "year": "2046"
         },
         {
          "value": 0,
          "variable": "RecyclPLA5",
          "year": "2047"
         },
         {
          "value": 0,
          "variable": "RecyclPLA5",
          "year": "2048"
         },
         {
          "value": 0,
          "variable": "RecyclPLA5",
          "year": "2049"
         },
         {
          "value": 0,
          "variable": "RecyclPLA5",
          "year": "2050"
         },
         {
          "value": 0,
          "variable": "RecyclPLA5",
          "year": "2051"
         },
         {
          "value": 0,
          "variable": "RecyclPLA5",
          "year": "2052"
         },
         {
          "value": 0,
          "variable": "RecyclPLA5",
          "year": "2053"
         },
         {
          "value": 0,
          "variable": "RecyclPLA5",
          "year": "2054"
         },
         {
          "value": 0,
          "variable": "RecyclPLA5",
          "year": "2055"
         },
         {
          "value": 0,
          "variable": "RecyclPLA6",
          "year": "2020"
         },
         {
          "value": 0,
          "variable": "RecyclPLA6",
          "year": "2021"
         },
         {
          "value": 0,
          "variable": "RecyclPLA6",
          "year": "2022"
         },
         {
          "value": 0,
          "variable": "RecyclPLA6",
          "year": "2023"
         },
         {
          "value": 0,
          "variable": "RecyclPLA6",
          "year": "2024"
         },
         {
          "value": 0,
          "variable": "RecyclPLA6",
          "year": "2025"
         },
         {
          "value": 0,
          "variable": "RecyclPLA6",
          "year": "2026"
         },
         {
          "value": 0,
          "variable": "RecyclPLA6",
          "year": "2027"
         },
         {
          "value": 0,
          "variable": "RecyclPLA6",
          "year": "2028"
         },
         {
          "value": 0,
          "variable": "RecyclPLA6",
          "year": "2029"
         },
         {
          "value": 1.0861008902388467,
          "variable": "RecyclPLA6",
          "year": "2030"
         },
         {
          "value": 1.0861008902388467,
          "variable": "RecyclPLA6",
          "year": "2031"
         },
         {
          "value": 1.0861008902388467,
          "variable": "RecyclPLA6",
          "year": "2032"
         },
         {
          "value": 1.0861008902388467,
          "variable": "RecyclPLA6",
          "year": "2033"
         },
         {
          "value": 1.0861008902388467,
          "variable": "RecyclPLA6",
          "year": "2034"
         },
         {
          "value": 0,
          "variable": "RecyclPLA6",
          "year": "2035"
         },
         {
          "value": 0,
          "variable": "RecyclPLA6",
          "year": "2036"
         },
         {
          "value": 0,
          "variable": "RecyclPLA6",
          "year": "2037"
         },
         {
          "value": 0,
          "variable": "RecyclPLA6",
          "year": "2038"
         },
         {
          "value": 0,
          "variable": "RecyclPLA6",
          "year": "2039"
         },
         {
          "value": 0.6305602871073022,
          "variable": "RecyclPLA6",
          "year": "2040"
         },
         {
          "value": 0.6305602871073022,
          "variable": "RecyclPLA6",
          "year": "2041"
         },
         {
          "value": 0.6305602871073022,
          "variable": "RecyclPLA6",
          "year": "2042"
         },
         {
          "value": 0.6305602871073022,
          "variable": "RecyclPLA6",
          "year": "2043"
         },
         {
          "value": 0.6305602871073022,
          "variable": "RecyclPLA6",
          "year": "2044"
         },
         {
          "value": 0,
          "variable": "RecyclPLA6",
          "year": "2045"
         },
         {
          "value": 0,
          "variable": "RecyclPLA6",
          "year": "2046"
         },
         {
          "value": 0,
          "variable": "RecyclPLA6",
          "year": "2047"
         },
         {
          "value": 0,
          "variable": "RecyclPLA6",
          "year": "2048"
         },
         {
          "value": 0,
          "variable": "RecyclPLA6",
          "year": "2049"
         },
         {
          "value": 0,
          "variable": "RecyclPLA6",
          "year": "2050"
         },
         {
          "value": 0,
          "variable": "RecyclPLA6",
          "year": "2051"
         },
         {
          "value": 0,
          "variable": "RecyclPLA6",
          "year": "2052"
         },
         {
          "value": 0,
          "variable": "RecyclPLA6",
          "year": "2053"
         },
         {
          "value": 0,
          "variable": "RecyclPLA6",
          "year": "2054"
         },
         {
          "value": 0,
          "variable": "RecyclPLA6",
          "year": "2055"
         },
         {
          "value": 0,
          "variable": "LABS22",
          "year": "2020"
         },
         {
          "value": 0,
          "variable": "LABS22",
          "year": "2021"
         },
         {
          "value": 0,
          "variable": "LABS22",
          "year": "2022"
         },
         {
          "value": 0,
          "variable": "LABS22",
          "year": "2023"
         },
         {
          "value": 0,
          "variable": "LABS22",
          "year": "2024"
         },
         {
          "value": 0,
          "variable": "LABS22",
          "year": "2025"
         },
         {
          "value": 0,
          "variable": "LABS22",
          "year": "2026"
         },
         {
          "value": 0,
          "variable": "LABS22",
          "year": "2027"
         },
         {
          "value": 0,
          "variable": "LABS22",
          "year": "2028"
         },
         {
          "value": 0,
          "variable": "LABS22",
          "year": "2029"
         },
         {
          "value": 0,
          "variable": "LABS22",
          "year": "2030"
         },
         {
          "value": 0,
          "variable": "LABS22",
          "year": "2031"
         },
         {
          "value": 0,
          "variable": "LABS22",
          "year": "2032"
         },
         {
          "value": 0,
          "variable": "LABS22",
          "year": "2033"
         },
         {
          "value": 0,
          "variable": "LABS22",
          "year": "2034"
         },
         {
          "value": 0,
          "variable": "LABS22",
          "year": "2035"
         },
         {
          "value": 0,
          "variable": "LABS22",
          "year": "2036"
         },
         {
          "value": 0,
          "variable": "LABS22",
          "year": "2037"
         },
         {
          "value": 0,
          "variable": "LABS22",
          "year": "2038"
         },
         {
          "value": 0,
          "variable": "LABS22",
          "year": "2039"
         },
         {
          "value": 0,
          "variable": "LABS22",
          "year": "2040"
         },
         {
          "value": 0,
          "variable": "LABS22",
          "year": "2041"
         },
         {
          "value": 0,
          "variable": "LABS22",
          "year": "2042"
         },
         {
          "value": 0,
          "variable": "LABS22",
          "year": "2043"
         },
         {
          "value": 0,
          "variable": "LABS22",
          "year": "2044"
         },
         {
          "value": 0,
          "variable": "LABS22",
          "year": "2045"
         },
         {
          "value": 0,
          "variable": "LABS22",
          "year": "2046"
         },
         {
          "value": 0,
          "variable": "LABS22",
          "year": "2047"
         },
         {
          "value": 0,
          "variable": "LABS22",
          "year": "2048"
         },
         {
          "value": 0,
          "variable": "LABS22",
          "year": "2049"
         },
         {
          "value": 0,
          "variable": "LABS22",
          "year": "2050"
         },
         {
          "value": 0,
          "variable": "LABS22",
          "year": "2051"
         },
         {
          "value": 0,
          "variable": "LABS22",
          "year": "2052"
         },
         {
          "value": 0,
          "variable": "LABS22",
          "year": "2053"
         },
         {
          "value": 0,
          "variable": "LABS22",
          "year": "2054"
         },
         {
          "value": 0,
          "variable": "LABS22",
          "year": "2055"
         },
         {
          "value": 0,
          "variable": "RecyclPLA7",
          "year": "2020"
         },
         {
          "value": 0,
          "variable": "RecyclPLA7",
          "year": "2021"
         },
         {
          "value": 0,
          "variable": "RecyclPLA7",
          "year": "2022"
         },
         {
          "value": 0,
          "variable": "RecyclPLA7",
          "year": "2023"
         },
         {
          "value": 0,
          "variable": "RecyclPLA7",
          "year": "2024"
         },
         {
          "value": 0,
          "variable": "RecyclPLA7",
          "year": "2025"
         },
         {
          "value": 0,
          "variable": "RecyclPLA7",
          "year": "2026"
         },
         {
          "value": 0,
          "variable": "RecyclPLA7",
          "year": "2027"
         },
         {
          "value": 0,
          "variable": "RecyclPLA7",
          "year": "2028"
         },
         {
          "value": 0,
          "variable": "RecyclPLA7",
          "year": "2029"
         },
         {
          "value": 0,
          "variable": "RecyclPLA7",
          "year": "2030"
         },
         {
          "value": 0,
          "variable": "RecyclPLA7",
          "year": "2031"
         },
         {
          "value": 0,
          "variable": "RecyclPLA7",
          "year": "2032"
         },
         {
          "value": 0,
          "variable": "RecyclPLA7",
          "year": "2033"
         },
         {
          "value": 0,
          "variable": "RecyclPLA7",
          "year": "2034"
         },
         {
          "value": 0,
          "variable": "RecyclPLA7",
          "year": "2035"
         },
         {
          "value": 0,
          "variable": "RecyclPLA7",
          "year": "2036"
         },
         {
          "value": 0,
          "variable": "RecyclPLA7",
          "year": "2037"
         },
         {
          "value": 0,
          "variable": "RecyclPLA7",
          "year": "2038"
         },
         {
          "value": 0,
          "variable": "RecyclPLA7",
          "year": "2039"
         },
         {
          "value": 0,
          "variable": "RecyclPLA7",
          "year": "2040"
         },
         {
          "value": 0,
          "variable": "RecyclPLA7",
          "year": "2041"
         },
         {
          "value": 0,
          "variable": "RecyclPLA7",
          "year": "2042"
         },
         {
          "value": 0,
          "variable": "RecyclPLA7",
          "year": "2043"
         },
         {
          "value": 0,
          "variable": "RecyclPLA7",
          "year": "2044"
         },
         {
          "value": 0,
          "variable": "RecyclPLA7",
          "year": "2045"
         },
         {
          "value": 0,
          "variable": "RecyclPLA7",
          "year": "2046"
         },
         {
          "value": 0,
          "variable": "RecyclPLA7",
          "year": "2047"
         },
         {
          "value": 0,
          "variable": "RecyclPLA7",
          "year": "2048"
         },
         {
          "value": 0,
          "variable": "RecyclPLA7",
          "year": "2049"
         },
         {
          "value": 0,
          "variable": "RecyclPLA7",
          "year": "2050"
         },
         {
          "value": 0,
          "variable": "RecyclPLA7",
          "year": "2051"
         },
         {
          "value": 0,
          "variable": "RecyclPLA7",
          "year": "2052"
         },
         {
          "value": 0,
          "variable": "RecyclPLA7",
          "year": "2053"
         },
         {
          "value": 0,
          "variable": "RecyclPLA7",
          "year": "2054"
         },
         {
          "value": 0,
          "variable": "RecyclPLA7",
          "year": "2055"
         }
        ]
       },
       "encoding": {
        "color": {
         "field": "variable",
         "type": "nominal"
        },
        "x": {
         "field": "year"
        },
        "y": {
         "field": "value",
         "stack": "zero",
         "title": "CO2",
         "type": "quantitative"
        }
       },
       "legend": "sNames",
       "mark": "area"
      },
      "image/png": "[encoded data removed]",
      "image/svg+xml": [
       "<?xml version=\"1.0\" encoding=\"utf-8\"?>\n",
       "<!DOCTYPE svg PUBLIC \"-//W3C//DTD SVG 1.1//EN\" \"http://www.w3.org/Graphics/SVG/1.1/DTD/svg11.dtd\">\n",
       "<svg xmlns=\"http://www.w3.org/2000/svg\" xmlns:xlink=\"http://www.w3.org/1999/xlink\" version=\"1.1\" class=\"marks\" width=\"851\" height=\"261\" viewBox=\"0 0 851 261\"><rect width=\"851\" height=\"261\" fill=\"white\"/><g fill=\"none\" stroke-miterlimit=\"10\" transform=\"translate(33,10)\"><g class=\"mark-group role-frame root\" role=\"graphics-object\" aria-roledescription=\"group mark container\"><g transform=\"translate(0,0)\"><path class=\"background\" aria-hidden=\"true\" d=\"M0.5,0.5h720v200h-720Z\" stroke=\"#ddd\"/><g><g class=\"mark-group role-axis\" aria-hidden=\"true\"><g transform=\"translate(0.5,0.5)\"><path class=\"background\" aria-hidden=\"true\" d=\"M0,0h0v0h0Z\" pointer-events=\"none\"/><g><g class=\"mark-rule role-axis-grid\" pointer-events=\"none\"><line transform=\"translate(0,200)\" x2=\"720\" y2=\"0\" stroke=\"#ddd\" stroke-width=\"1\" opacity=\"1\"/><line transform=\"translate(0,150)\" x2=\"720\" y2=\"0\" stroke=\"#ddd\" stroke-width=\"1\" opacity=\"1\"/><line transform=\"translate(0,100)\" x2=\"720\" y2=\"0\" stroke=\"#ddd\" stroke-width=\"1\" opacity=\"1\"/><line transform=\"translate(0,50)\" x2=\"720\" y2=\"0\" stroke=\"#ddd\" stroke-width=\"1\" opacity=\"1\"/><line transform=\"translate(0,0)\" x2=\"720\" y2=\"0\" stroke=\"#ddd\" stroke-width=\"1\" opacity=\"1\"/></g></g><path class=\"foreground\" aria-hidden=\"true\" d=\"\" pointer-events=\"none\" display=\"none\"/></g></g><g class=\"mark-group role-axis\" role=\"graphics-symbol\" aria-roledescription=\"axis\" aria-label=\"X-axis titled 'year' for a discrete scale with 36 values: 2020, 2021, 2022, 2023, 2024, ending with 2055\"><g transform=\"translate(0.5,200.5)\"><path class=\"background\" aria-hidden=\"true\" d=\"M0,0h0v0h0Z\" pointer-events=\"none\"/><g><g class=\"mark-rule role-axis-tick\" pointer-events=\"none\"><line transform=\"translate(10,0)\" x2=\"0\" y2=\"5\" stroke=\"#888\" stroke-width=\"1\" opacity=\"1\"/><line transform=\"translate(30,0)\" x2=\"0\" y2=\"5\" stroke=\"#888\" stroke-width=\"1\" opacity=\"1\"/><line transform=\"translate(50,0)\" x2=\"0\" y2=\"5\" stroke=\"#888\" stroke-width=\"1\" opacity=\"1\"/><line transform=\"translate(70,0)\" x2=\"0\" y2=\"5\" stroke=\"#888\" stroke-width=\"1\" opacity=\"1\"/><line transform=\"translate(90,0)\" x2=\"0\" y2=\"5\" stroke=\"#888\" stroke-width=\"1\" opacity=\"1\"/><line transform=\"translate(110,0)\" x2=\"0\" y2=\"5\" stroke=\"#888\" stroke-width=\"1\" opacity=\"1\"/><line transform=\"translate(130,0)\" x2=\"0\" y2=\"5\" stroke=\"#888\" stroke-width=\"1\" opacity=\"1\"/><line transform=\"translate(150,0)\" x2=\"0\" y2=\"5\" stroke=\"#888\" stroke-width=\"1\" opacity=\"1\"/><line transform=\"translate(170,0)\" x2=\"0\" y2=\"5\" stroke=\"#888\" stroke-width=\"1\" opacity=\"1\"/><line transform=\"translate(190,0)\" x2=\"0\" y2=\"5\" stroke=\"#888\" stroke-width=\"1\" opacity=\"1\"/><line transform=\"translate(210,0)\" x2=\"0\" y2=\"5\" stroke=\"#888\" stroke-width=\"1\" opacity=\"1\"/><line transform=\"translate(230,0)\" x2=\"0\" y2=\"5\" stroke=\"#888\" stroke-width=\"1\" opacity=\"1\"/><line transform=\"translate(250,0)\" x2=\"0\" y2=\"5\" stroke=\"#888\" stroke-width=\"1\" opacity=\"1\"/><line transform=\"translate(270,0)\" x2=\"0\" y2=\"5\" stroke=\"#888\" stroke-width=\"1\" opacity=\"1\"/><line transform=\"translate(290,0)\" x2=\"0\" y2=\"5\" stroke=\"#888\" stroke-width=\"1\" opacity=\"1\"/><line transform=\"translate(310,0)\" x2=\"0\" y2=\"5\" stroke=\"#888\" stroke-width=\"1\" opacity=\"1\"/><line transform=\"translate(330,0)\" x2=\"0\" y2=\"5\" stroke=\"#888\" stroke-width=\"1\" opacity=\"1\"/><line transform=\"translate(350,0)\" x2=\"0\" y2=\"5\" stroke=\"#888\" stroke-width=\"1\" opacity=\"1\"/><line transform=\"translate(370,0)\" x2=\"0\" y2=\"5\" stroke=\"#888\" stroke-width=\"1\" opacity=\"1\"/><line transform=\"translate(390,0)\" x2=\"0\" y2=\"5\" stroke=\"#888\" stroke-width=\"1\" opacity=\"1\"/><line transform=\"translate(410,0)\" x2=\"0\" y2=\"5\" stroke=\"#888\" stroke-width=\"1\" opacity=\"1\"/><line transform=\"translate(430,0)\" x2=\"0\" y2=\"5\" stroke=\"#888\" stroke-width=\"1\" opacity=\"1\"/><line transform=\"translate(450,0)\" x2=\"0\" y2=\"5\" stroke=\"#888\" stroke-width=\"1\" opacity=\"1\"/><line transform=\"translate(470,0)\" x2=\"0\" y2=\"5\" stroke=\"#888\" stroke-width=\"1\" opacity=\"1\"/><line transform=\"translate(490,0)\" x2=\"0\" y2=\"5\" stroke=\"#888\" stroke-width=\"1\" opacity=\"1\"/><line transform=\"translate(510,0)\" x2=\"0\" y2=\"5\" stroke=\"#888\" stroke-width=\"1\" opacity=\"1\"/><line transform=\"translate(530,0)\" x2=\"0\" y2=\"5\" stroke=\"#888\" stroke-width=\"1\" opacity=\"1\"/><line transform=\"translate(550,0)\" x2=\"0\" y2=\"5\" stroke=\"#888\" stroke-width=\"1\" opacity=\"1\"/><line transform=\"translate(570,0)\" x2=\"0\" y2=\"5\" stroke=\"#888\" stroke-width=\"1\" opacity=\"1\"/><line transform=\"translate(590,0)\" x2=\"0\" y2=\"5\" stroke=\"#888\" stroke-width=\"1\" opacity=\"1\"/><line transform=\"translate(610,0)\" x2=\"0\" y2=\"5\" stroke=\"#888\" stroke-width=\"1\" opacity=\"1\"/><line transform=\"translate(630,0)\" x2=\"0\" y2=\"5\" stroke=\"#888\" stroke-width=\"1\" opacity=\"1\"/><line transform=\"translate(650,0)\" x2=\"0\" y2=\"5\" stroke=\"#888\" stroke-width=\"1\" opacity=\"1\"/><line transform=\"translate(670,0)\" x2=\"0\" y2=\"5\" stroke=\"#888\" stroke-width=\"1\" opacity=\"1\"/><line transform=\"translate(690,0)\" x2=\"0\" y2=\"5\" stroke=\"#888\" stroke-width=\"1\" opacity=\"1\"/><line transform=\"translate(710,0)\" x2=\"0\" y2=\"5\" stroke=\"#888\" stroke-width=\"1\" opacity=\"1\"/></g><g class=\"mark-text role-axis-label\" pointer-events=\"none\"><text text-anchor=\"end\" transform=\"translate(10,7) rotate(270) translate(0,3)\" font-family=\"sans-serif\" font-size=\"10px\" fill=\"#000\" opacity=\"1\">2020</text><text text-anchor=\"end\" transform=\"translate(30,7) rotate(270) translate(0,3)\" font-family=\"sans-serif\" font-size=\"10px\" fill=\"#000\" opacity=\"1\">2021</text><text text-anchor=\"end\" transform=\"translate(50,7) rotate(270) translate(0,3)\" font-family=\"sans-serif\" font-size=\"10px\" fill=\"#000\" opacity=\"1\">2022</text><text text-anchor=\"end\" transform=\"translate(70,7) rotate(270) translate(0,3)\" font-family=\"sans-serif\" font-size=\"10px\" fill=\"#000\" opacity=\"1\">2023</text><text text-anchor=\"end\" transform=\"translate(90,7) rotate(270) translate(0,3)\" font-family=\"sans-serif\" font-size=\"10px\" fill=\"#000\" opacity=\"1\">2024</text><text text-anchor=\"end\" transform=\"translate(110,7) rotate(270) translate(0,3)\" font-family=\"sans-serif\" font-size=\"10px\" fill=\"#000\" opacity=\"1\">2025</text><text text-anchor=\"end\" transform=\"translate(130,7) rotate(270) translate(0,3)\" font-family=\"sans-serif\" font-size=\"10px\" fill=\"#000\" opacity=\"1\">2026</text><text text-anchor=\"end\" transform=\"translate(150,7) rotate(270) translate(0,3)\" font-family=\"sans-serif\" font-size=\"10px\" fill=\"#000\" opacity=\"1\">2027</text><text text-anchor=\"end\" transform=\"translate(170,7) rotate(270) translate(0,3)\" font-family=\"sans-serif\" font-size=\"10px\" fill=\"#000\" opacity=\"1\">2028</text><text text-anchor=\"end\" transform=\"translate(190,7) rotate(270) translate(0,3)\" font-family=\"sans-serif\" font-size=\"10px\" fill=\"#000\" opacity=\"1\">2029</text><text text-anchor=\"end\" transform=\"translate(210,7) rotate(270) translate(0,3)\" font-family=\"sans-serif\" font-size=\"10px\" fill=\"#000\" opacity=\"1\">2030</text><text text-anchor=\"end\" transform=\"translate(230,7) rotate(270) translate(0,3)\" font-family=\"sans-serif\" font-size=\"10px\" fill=\"#000\" opacity=\"1\">2031</text><text text-anchor=\"end\" transform=\"translate(250,7) rotate(270) translate(0,3)\" font-family=\"sans-serif\" font-size=\"10px\" fill=\"#000\" opacity=\"1\">2032</text><text text-anchor=\"end\" transform=\"translate(270,7) rotate(270) translate(0,3)\" font-family=\"sans-serif\" font-size=\"10px\" fill=\"#000\" opacity=\"1\">2033</text><text text-anchor=\"end\" transform=\"translate(290,7) rotate(270) translate(0,3)\" font-family=\"sans-serif\" font-size=\"10px\" fill=\"#000\" opacity=\"1\">2034</text><text text-anchor=\"end\" transform=\"translate(310,7) rotate(270) translate(0,3)\" font-family=\"sans-serif\" font-size=\"10px\" fill=\"#000\" opacity=\"1\">2035</text><text text-anchor=\"end\" transform=\"translate(330,7) rotate(270) translate(0,3)\" font-family=\"sans-serif\" font-size=\"10px\" fill=\"#000\" opacity=\"1\">2036</text><text text-anchor=\"end\" transform=\"translate(350,7) rotate(270) translate(0,3)\" font-family=\"sans-serif\" font-size=\"10px\" fill=\"#000\" opacity=\"1\">2037</text><text text-anchor=\"end\" transform=\"translate(370,7) rotate(270) translate(0,3)\" font-family=\"sans-serif\" font-size=\"10px\" fill=\"#000\" opacity=\"1\">2038</text><text text-anchor=\"end\" transform=\"translate(390,7) rotate(270) translate(0,3)\" font-family=\"sans-serif\" font-size=\"10px\" fill=\"#000\" opacity=\"1\">2039</text><text text-anchor=\"end\" transform=\"translate(410,7) rotate(270) translate(0,3)\" font-family=\"sans-serif\" font-size=\"10px\" fill=\"#000\" opacity=\"1\">2040</text><text text-anchor=\"end\" transform=\"translate(430,7) rotate(270) translate(0,3)\" font-family=\"sans-serif\" font-size=\"10px\" fill=\"#000\" opacity=\"1\">2041</text><text text-anchor=\"end\" transform=\"translate(450,7) rotate(270) translate(0,3)\" font-family=\"sans-serif\" font-size=\"10px\" fill=\"#000\" opacity=\"1\">2042</text><text text-anchor=\"end\" transform=\"translate(470,7) rotate(270) translate(0,3)\" font-family=\"sans-serif\" font-size=\"10px\" fill=\"#000\" opacity=\"1\">2043</text><text text-anchor=\"end\" transform=\"translate(490,7) rotate(270) translate(0,3)\" font-family=\"sans-serif\" font-size=\"10px\" fill=\"#000\" opacity=\"1\">2044</text><text text-anchor=\"end\" transform=\"translate(510,7) rotate(270) translate(0,3)\" font-family=\"sans-serif\" font-size=\"10px\" fill=\"#000\" opacity=\"1\">2045</text><text text-anchor=\"end\" transform=\"translate(530,7) rotate(270) translate(0,3)\" font-family=\"sans-serif\" font-size=\"10px\" fill=\"#000\" opacity=\"1\">2046</text><text text-anchor=\"end\" transform=\"translate(550,7) rotate(270) translate(0,3)\" font-family=\"sans-serif\" font-size=\"10px\" fill=\"#000\" opacity=\"1\">2047</text><text text-anchor=\"end\" transform=\"translate(570,7) rotate(270) translate(0,3)\" font-family=\"sans-serif\" font-size=\"10px\" fill=\"#000\" opacity=\"1\">2048</text><text text-anchor=\"end\" transform=\"translate(590,7) rotate(270) translate(0,3)\" font-family=\"sans-serif\" font-size=\"10px\" fill=\"#000\" opacity=\"1\">2049</text><text text-anchor=\"end\" transform=\"translate(610,7) rotate(270) translate(0,3)\" font-family=\"sans-serif\" font-size=\"10px\" fill=\"#000\" opacity=\"1\">2050</text><text text-anchor=\"end\" transform=\"translate(630,7) rotate(270) translate(0,3)\" font-family=\"sans-serif\" font-size=\"10px\" fill=\"#000\" opacity=\"1\">2051</text><text text-anchor=\"end\" transform=\"translate(650,7) rotate(270) translate(0,3)\" font-family=\"sans-serif\" font-size=\"10px\" fill=\"#000\" opacity=\"1\">2052</text><text text-anchor=\"end\" transform=\"translate(670,7) rotate(270) translate(0,3)\" font-family=\"sans-serif\" font-size=\"10px\" fill=\"#000\" opacity=\"1\">2053</text><text text-anchor=\"end\" transform=\"translate(690,7) rotate(270) translate(0,3)\" font-family=\"sans-serif\" font-size=\"10px\" fill=\"#000\" opacity=\"1\">2054</text><text text-anchor=\"end\" transform=\"translate(710,7) rotate(270) translate(0,3)\" font-family=\"sans-serif\" font-size=\"10px\" fill=\"#000\" opacity=\"1\">2055</text></g><g class=\"mark-rule role-axis-domain\" pointer-events=\"none\"><line transform=\"translate(0,0)\" x2=\"720\" y2=\"0\" stroke=\"#888\" stroke-width=\"1\" opacity=\"1\"/></g><g class=\"mark-text role-axis-title\" pointer-events=\"none\"><text text-anchor=\"middle\" transform=\"translate(360,44)\" font-family=\"sans-serif\" font-size=\"11px\" font-weight=\"bold\" fill=\"#000\" opacity=\"1\">year</text></g></g><path class=\"foreground\" aria-hidden=\"true\" d=\"\" pointer-events=\"none\" display=\"none\"/></g></g><g class=\"mark-group role-axis\" role=\"graphics-symbol\" aria-roledescription=\"axis\" aria-label=\"Y-axis titled 'CO2' for a linear scale with values from 0 to 8\"><g transform=\"translate(0.5,0.5)\"><path class=\"background\" aria-hidden=\"true\" d=\"M0,0h0v0h0Z\" pointer-events=\"none\"/><g><g class=\"mark-rule role-axis-tick\" pointer-events=\"none\"><line transform=\"translate(0,200)\" x2=\"-5\" y2=\"0\" stroke=\"#888\" stroke-width=\"1\" opacity=\"1\"/><line transform=\"translate(0,150)\" x2=\"-5\" y2=\"0\" stroke=\"#888\" stroke-width=\"1\" opacity=\"1\"/><line transform=\"translate(0,100)\" x2=\"-5\" y2=\"0\" stroke=\"#888\" stroke-width=\"1\" opacity=\"1\"/><line transform=\"translate(0,50)\" x2=\"-5\" y2=\"0\" stroke=\"#888\" stroke-width=\"1\" opacity=\"1\"/><line transform=\"translate(0,0)\" x2=\"-5\" y2=\"0\" stroke=\"#888\" stroke-width=\"1\" opacity=\"1\"/></g><g class=\"mark-text role-axis-label\" pointer-events=\"none\"><text text-anchor=\"end\" transform=\"translate(-7,203)\" font-family=\"sans-serif\" font-size=\"10px\" fill=\"#000\" opacity=\"1\">0</text><text text-anchor=\"end\" transform=\"translate(-7,153)\" font-family=\"sans-serif\" font-size=\"10px\" fill=\"#000\" opacity=\"1\">2</text><text text-anchor=\"end\" transform=\"translate(-7,103)\" font-family=\"sans-serif\" font-size=\"10px\" fill=\"#000\" opacity=\"1\">4</text><text text-anchor=\"end\" transform=\"translate(-7,53)\" font-family=\"sans-serif\" font-size=\"10px\" fill=\"#000\" opacity=\"1\">6</text><text text-anchor=\"end\" transform=\"translate(-7,3)\" font-family=\"sans-serif\" font-size=\"10px\" fill=\"#000\" opacity=\"1\">8</text></g><g class=\"mark-rule role-axis-domain\" pointer-events=\"none\"><line transform=\"translate(0,200)\" x2=\"0\" y2=\"-200\" stroke=\"#888\" stroke-width=\"1\" opacity=\"1\"/></g><g class=\"mark-text role-axis-title\" pointer-events=\"none\"><text text-anchor=\"middle\" transform=\"translate(-17,100) rotate(-90) translate(0,-2)\" font-family=\"sans-serif\" font-size=\"11px\" font-weight=\"bold\" fill=\"#000\" opacity=\"1\">CO2</text></g></g><path class=\"foreground\" aria-hidden=\"true\" d=\"\" pointer-events=\"none\" display=\"none\"/></g></g><g class=\"mark-group role-scope pathgroup\" role=\"graphics-object\" aria-roledescription=\"group mark container\"><g transform=\"translate(0,0)\"><path class=\"background\" aria-hidden=\"true\" d=\"M0,0h720v200h-720Z\"/><g><g class=\"mark-area role-mark marks\" role=\"graphics-object\" aria-roledescription=\"area mark container\"><path aria-label=\"year: 2020; CO2: 8; variable: Conv\" role=\"graphics-symbol\" aria-roledescription=\"area mark\" d=\"M10,0L30,126.03750000000001L50,126.03750000000001L70,126.03750000000001L90,126.03750000000001L110,131.86852507878197L130,131.86852507878197L150,131.86852507878197L170,131.86852507878197L190,131.86852507878197L210,145.16339083119448L230,145.16339083119448L250,145.16339083119448L270,145.16339083119448L290,145.16339083119448L310,163.9368283634033L330,163.9368283634033L350,163.9368283634033L370,163.9368283634033L390,163.9368283634033L410,166.9408319660135L430,166.9408319660135L450,166.9408319660135L470,166.9408319660135L490,166.9408319660135L510,191.04656889803994L530,191.04656889803994L550,191.04656889803994L570,191.04656889803994L590,191.04656889803994L610,191.04656889803994L630,191.04656889803994L650,191.04656889803994L670,191.04656889803994L690,191.04656889803994L710,191.04656889803994L710,191.04656889803994L690,191.04656889803994L670,191.04656889803994L650,191.04656889803994L630,191.04656889803994L610,191.04656889803994L590,191.04656889803994L570,191.04656889803994L550,191.04656889803994L530,191.04656889803994L510,191.04656889803994L490,166.9408319660135L470,166.9408319660135L450,166.9408319660135L430,166.9408319660135L410,166.9408319660135L390,163.9368283634033L370,163.9368283634033L350,163.9368283634033L330,163.9368283634033L310,163.9368283634033L290,145.16339083119448L270,145.16339083119448L250,145.16339083119448L230,145.16339083119448L210,145.16339083119448L190,131.86852507878197L170,131.86852507878197L150,131.86852507878197L130,131.86852507878197L110,131.86852507878197L90,126.03750000000001L70,126.03750000000001L50,126.03750000000001L30,126.03750000000001L10,200Z\" fill=\"#4c78a8\"/></g></g><path class=\"foreground\" aria-hidden=\"true\" d=\"\" display=\"none\"/></g><g transform=\"translate(0,0)\"><path class=\"background\" aria-hidden=\"true\" d=\"M0,0h720v200h-720Z\"/><g><g class=\"mark-area role-mark marks\" role=\"graphics-object\" aria-roledescription=\"area mark container\"><path aria-label=\"year: 2020; CO2: 0; variable: LABS12\" role=\"graphics-symbol\" aria-roledescription=\"area mark\" d=\"M10,200L30,126.03750000000001L50,126.03750000000001L70,126.03750000000001L90,126.03750000000001L110,131.86852507878197L130,131.86852507878197L150,131.86852507878197L170,131.86852507878197L190,131.86852507878197L210,145.16339083119448L230,145.16339083119448L250,145.16339083119448L270,145.16339083119448L290,145.16339083119448L310,163.9368283634033L330,163.9368283634033L350,163.9368283634033L370,163.9368283634033L390,163.9368283634033L410,166.9408319660135L430,166.9408319660135L450,166.9408319660135L470,166.9408319660135L490,166.9408319660135L510,191.04656889803994L530,191.04656889803994L550,191.04656889803994L570,191.04656889803994L590,191.04656889803994L610,191.04656889803994L630,191.04656889803994L650,191.04656889803994L670,191.04656889803994L690,191.04656889803994L710,191.04656889803994L710,191.04656889803994L690,191.04656889803994L670,191.04656889803994L650,191.04656889803994L630,191.04656889803994L610,191.04656889803994L590,191.04656889803994L570,191.04656889803994L550,191.04656889803994L530,191.04656889803994L510,191.04656889803994L490,184.23599282231743L470,184.23599282231743L450,184.23599282231743L430,184.23599282231743L410,184.23599282231743L390,163.9368283634033L370,163.9368283634033L350,163.9368283634033L330,163.9368283634033L310,163.9368283634033L290,172.84747774402885L270,172.84747774402885L250,172.84747774402885L230,172.84747774402885L210,172.84747774402885L190,131.86852507878197L170,131.86852507878197L150,131.86852507878197L130,131.86852507878197L110,131.86852507878197L90,126.03750000000001L70,126.03750000000001L50,126.03750000000001L30,126.03750000000001L10,200Z\" fill=\"#f58518\"/></g></g><path class=\"foreground\" aria-hidden=\"true\" d=\"\" display=\"none\"/></g><g transform=\"translate(0,0)\"><path class=\"background\" aria-hidden=\"true\" d=\"M0,0h720v200h-720Z\"/><g><g class=\"mark-area role-mark marks\" role=\"graphics-object\" aria-roledescription=\"area mark container\"><path aria-label=\"year: 2020; CO2: 0; variable: LABS13\" role=\"graphics-symbol\" aria-roledescription=\"area mark\" d=\"M10,200L30,126.03750000000001L50,126.03750000000001L70,126.03750000000001L90,126.03750000000001L110,131.86852507878197L130,131.86852507878197L150,131.86852507878197L170,131.86852507878197L190,131.86852507878197L210,172.84747774402885L230,172.84747774402885L250,172.84747774402885L270,172.84747774402885L290,172.84747774402885L310,163.9368283634033L330,163.9368283634033L350,163.9368283634033L370,163.9368283634033L390,163.9368283634033L410,184.23599282231743L430,184.23599282231743L450,184.23599282231743L470,184.23599282231743L490,184.23599282231743L510,191.04656889803994L530,191.04656889803994L550,191.04656889803994L570,191.04656889803994L590,191.04656889803994L610,191.04656889803994L630,191.04656889803994L650,191.04656889803994L670,191.04656889803994L690,191.04656889803994L710,191.04656889803994L710,191.04656889803994L690,191.04656889803994L670,191.04656889803994L650,191.04656889803994L630,191.04656889803994L610,191.04656889803994L590,191.04656889803994L570,191.04656889803994L550,191.04656889803994L530,191.04656889803994L510,191.04656889803994L490,184.23599282231743L470,184.23599282231743L450,184.23599282231743L430,184.23599282231743L410,184.23599282231743L390,163.9368283634033L370,163.9368283634033L350,163.9368283634033L330,163.9368283634033L310,163.9368283634033L290,172.84747774402885L270,172.84747774402885L250,172.84747774402885L230,172.84747774402885L210,172.84747774402885L190,131.86852507878197L170,131.86852507878197L150,131.86852507878197L130,131.86852507878197L110,131.86852507878197L90,200L70,200L50,200L30,200L10,200Z\" fill=\"#e45756\"/></g></g><path class=\"foreground\" aria-hidden=\"true\" d=\"\" display=\"none\"/></g><g transform=\"translate(0,0)\"><path class=\"background\" aria-hidden=\"true\" d=\"M0,0h720v200h-720Z\"/><g><g class=\"mark-area role-mark marks\" role=\"graphics-object\" aria-roledescription=\"area mark container\"><path aria-label=\"year: 2020; CO2: 0; variable: LABS27\" role=\"graphics-symbol\" aria-roledescription=\"area mark\" d=\"M10,200L30,200L50,200L70,200L90,200L110,131.86852507878197L130,131.86852507878197L150,131.86852507878197L170,131.86852507878197L190,131.86852507878197L210,172.84747774402885L230,172.84747774402885L250,172.84747774402885L270,172.84747774402885L290,172.84747774402885L310,163.9368283634033L330,163.9368283634033L350,163.9368283634033L370,163.9368283634033L390,163.9368283634033L410,184.23599282231743L430,184.23599282231743L450,184.23599282231743L470,184.23599282231743L490,184.23599282231743L510,191.04656889803994L530,191.04656889803994L550,191.04656889803994L570,191.04656889803994L590,191.04656889803994L610,191.04656889803994L630,191.04656889803994L650,191.04656889803994L670,191.04656889803994L690,191.04656889803994L710,191.04656889803994L710,192.81781872844132L690,192.81781872844132L670,192.81781872844132L650,192.81781872844132L630,192.81781872844132L610,192.81781872844132L590,192.81781872844132L570,192.81781872844132L550,192.81781872844132L530,192.81781872844132L510,192.81781872844132L490,184.23599282231743L470,184.23599282231743L450,184.23599282231743L430,184.23599282231743L410,184.23599282231743L390,180.45181963336557L370,180.45181963336557L350,180.45181963336557L330,180.45181963336557L310,180.45181963336557L290,172.84747774402885L270,172.84747774402885L250,172.84747774402885L230,172.84747774402885L210,172.84747774402885L190,131.86852507878197L170,131.86852507878197L150,131.86852507878197L130,131.86852507878197L110,131.86852507878197L90,200L70,200L50,200L30,200L10,200Z\" fill=\"#54a24b\"/></g></g><path class=\"foreground\" aria-hidden=\"true\" d=\"\" display=\"none\"/></g><g transform=\"translate(0,0)\"><path class=\"background\" aria-hidden=\"true\" d=\"M0,0h720v200h-720Z\"/><g><g class=\"mark-area role-mark marks\" role=\"graphics-object\" aria-roledescription=\"area mark container\"><path aria-label=\"year: 2020; CO2: 0; variable: RecyclPLA2\" role=\"graphics-symbol\" aria-roledescription=\"area mark\" d=\"M10,200L30,200L50,200L70,200L90,200L110,131.86852507878197L130,131.86852507878197L150,131.86852507878197L170,131.86852507878197L190,131.86852507878197L210,172.84747774402885L230,172.84747774402885L250,172.84747774402885L270,172.84747774402885L290,172.84747774402885L310,180.45181963336557L330,180.45181963336557L350,180.45181963336557L370,180.45181963336557L390,180.45181963336557L410,184.23599282231743L430,184.23599282231743L450,184.23599282231743L470,184.23599282231743L490,184.23599282231743L510,192.81781872844132L530,192.81781872844132L550,192.81781872844132L570,192.81781872844132L590,192.81781872844132L610,192.81781872844132L630,192.81781872844132L650,192.81781872844132L670,192.81781872844132L690,192.81781872844132L710,192.81781872844132L710,192.81781872844132L690,192.81781872844132L670,192.81781872844132L650,192.81781872844132L630,192.81781872844132L610,192.81781872844132L590,192.81781872844132L570,192.81781872844132L550,192.81781872844132L530,192.81781872844132L510,192.81781872844132L490,184.23599282231743L470,184.23599282231743L450,184.23599282231743L430,184.23599282231743L410,184.23599282231743L390,180.45181963336557L370,180.45181963336557L350,180.45181963336557L330,180.45181963336557L310,180.45181963336557L290,172.84747774402885L270,172.84747774402885L250,172.84747774402885L230,172.84747774402885L210,172.84747774402885L190,200L170,200L150,200L130,200L110,200L90,200L70,200L50,200L30,200L10,200Z\" fill=\"#eeca3b\"/></g></g><path class=\"foreground\" aria-hidden=\"true\" d=\"\" display=\"none\"/></g><g transform=\"translate(0,0)\"><path class=\"background\" aria-hidden=\"true\" d=\"M0,0h720v200h-720Z\"/><g><g class=\"mark-area role-mark marks\" role=\"graphics-object\" aria-roledescription=\"area mark container\"><path aria-label=\"year: 2020; CO2: 0; variable: RecyclPLA4\" role=\"graphics-symbol\" aria-roledescription=\"area mark\" d=\"M10,200L30,200L50,200L70,200L90,200L110,200L130,200L150,200L170,200L190,200L210,172.84747774402885L230,172.84747774402885L250,172.84747774402885L270,172.84747774402885L290,172.84747774402885L310,180.45181963336557L330,180.45181963336557L350,180.45181963336557L370,180.45181963336557L390,180.45181963336557L410,184.23599282231743L430,184.23599282231743L450,184.23599282231743L470,184.23599282231743L490,184.23599282231743L510,192.81781872844132L530,192.81781872844132L550,192.81781872844132L570,192.81781872844132L590,192.81781872844132L610,192.81781872844132L630,192.81781872844132L650,192.81781872844132L670,192.81781872844132L690,192.81781872844132L710,192.81781872844132L710,200L690,200L670,200L650,200L630,200L610,200L590,200L570,200L550,200L530,200L510,200L490,184.23599282231743L470,184.23599282231743L450,184.23599282231743L430,184.23599282231743L410,184.23599282231743L390,180.45181963336557L370,180.45181963336557L350,180.45181963336557L330,180.45181963336557L310,180.45181963336557L290,172.84747774402885L270,172.84747774402885L250,172.84747774402885L230,172.84747774402885L210,172.84747774402885L190,200L170,200L150,200L130,200L110,200L90,200L70,200L50,200L30,200L10,200Z\" fill=\"#b279a2\"/></g></g><path class=\"foreground\" aria-hidden=\"true\" d=\"\" display=\"none\"/></g><g transform=\"translate(0,0)\"><path class=\"background\" aria-hidden=\"true\" d=\"M0,0h720v200h-720Z\"/><g><g class=\"mark-area role-mark marks\" role=\"graphics-object\" aria-roledescription=\"area mark container\"><path aria-label=\"year: 2020; CO2: 0; variable: RecyclPLA5\" role=\"graphics-symbol\" aria-roledescription=\"area mark\" d=\"M10,200L30,200L50,200L70,200L90,200L110,200L130,200L150,200L170,200L190,200L210,172.84747774402885L230,172.84747774402885L250,172.84747774402885L270,172.84747774402885L290,172.84747774402885L310,180.45181963336557L330,180.45181963336557L350,180.45181963336557L370,180.45181963336557L390,180.45181963336557L410,184.23599282231743L430,184.23599282231743L450,184.23599282231743L470,184.23599282231743L490,184.23599282231743L510,200L530,200L550,200L570,200L590,200L610,200L630,200L650,200L670,200L690,200L710,200L710,200L690,200L670,200L650,200L630,200L610,200L590,200L570,200L550,200L530,200L510,200L490,184.23599282231743L470,184.23599282231743L450,184.23599282231743L430,184.23599282231743L410,184.23599282231743L390,200L370,200L350,200L330,200L310,200L290,172.84747774402885L270,172.84747774402885L250,172.84747774402885L230,172.84747774402885L210,172.84747774402885L190,200L170,200L150,200L130,200L110,200L90,200L70,200L50,200L30,200L10,200Z\" fill=\"#ff9da6\"/></g></g><path class=\"foreground\" aria-hidden=\"true\" d=\"\" display=\"none\"/></g><g transform=\"translate(0,0)\"><path class=\"background\" aria-hidden=\"true\" d=\"M0,0h720v200h-720Z\"/><g><g class=\"mark-area role-mark marks\" role=\"graphics-object\" aria-roledescription=\"area mark container\"><path aria-label=\"year: 2020; CO2: 0; variable: RecyclPLA6\" role=\"graphics-symbol\" aria-roledescription=\"area mark\" d=\"M10,200L30,200L50,200L70,200L90,200L110,200L130,200L150,200L170,200L190,200L210,172.84747774402885L230,172.84747774402885L250,172.84747774402885L270,172.84747774402885L290,172.84747774402885L310,200L330,200L350,200L370,200L390,200L410,184.23599282231743L430,184.23599282231743L450,184.23599282231743L470,184.23599282231743L490,184.23599282231743L510,200L530,200L550,200L570,200L590,200L610,200L630,200L650,200L670,200L690,200L710,200L710,200L690,200L670,200L650,200L630,200L610,200L590,200L570,200L550,200L530,200L510,200L490,200L470,200L450,200L430,200L410,200L390,200L370,200L350,200L330,200L310,200L290,200L270,200L250,200L230,200L210,200L190,200L170,200L150,200L130,200L110,200L90,200L70,200L50,200L30,200L10,200Z\" fill=\"#9d755d\"/></g></g><path class=\"foreground\" aria-hidden=\"true\" d=\"\" display=\"none\"/></g><g transform=\"translate(0,0)\"><path class=\"background\" aria-hidden=\"true\" d=\"M0,0h720v200h-720Z\"/><g><g class=\"mark-area role-mark marks\" role=\"graphics-object\" aria-roledescription=\"area mark container\"><path aria-label=\"year: 2020; CO2: 0; variable: LABS22\" role=\"graphics-symbol\" aria-roledescription=\"area mark\" d=\"M10,200L30,200L50,200L70,200L90,200L110,131.86852507878197L130,131.86852507878197L150,131.86852507878197L170,131.86852507878197L190,131.86852507878197L210,172.84747774402885L230,172.84747774402885L250,172.84747774402885L270,172.84747774402885L290,172.84747774402885L310,163.9368283634033L330,163.9368283634033L350,163.9368283634033L370,163.9368283634033L390,163.9368283634033L410,184.23599282231743L430,184.23599282231743L450,184.23599282231743L470,184.23599282231743L490,184.23599282231743L510,191.04656889803994L530,191.04656889803994L550,191.04656889803994L570,191.04656889803994L590,191.04656889803994L610,191.04656889803994L630,191.04656889803994L650,191.04656889803994L670,191.04656889803994L690,191.04656889803994L710,191.04656889803994L710,191.04656889803994L690,191.04656889803994L670,191.04656889803994L650,191.04656889803994L630,191.04656889803994L610,191.04656889803994L590,191.04656889803994L570,191.04656889803994L550,191.04656889803994L530,191.04656889803994L510,191.04656889803994L490,184.23599282231743L470,184.23599282231743L450,184.23599282231743L430,184.23599282231743L410,184.23599282231743L390,163.9368283634033L370,163.9368283634033L350,163.9368283634033L330,163.9368283634033L310,163.9368283634033L290,172.84747774402885L270,172.84747774402885L250,172.84747774402885L230,172.84747774402885L210,172.84747774402885L190,131.86852507878197L170,131.86852507878197L150,131.86852507878197L130,131.86852507878197L110,131.86852507878197L90,200L70,200L50,200L30,200L10,200Z\" fill=\"#72b7b2\"/></g></g><path class=\"foreground\" aria-hidden=\"true\" d=\"\" display=\"none\"/></g><g transform=\"translate(0,0)\"><path class=\"background\" aria-hidden=\"true\" d=\"M0,0h720v200h-720Z\"/><g><g class=\"mark-area role-mark marks\" role=\"graphics-object\" aria-roledescription=\"area mark container\"><path aria-label=\"year: 2020; CO2: 0; variable: RecyclPLA7\" role=\"graphics-symbol\" aria-roledescription=\"area mark\" d=\"M10,200L30,200L50,200L70,200L90,200L110,200L130,200L150,200L170,200L190,200L210,200L230,200L250,200L270,200L290,200L310,200L330,200L350,200L370,200L390,200L410,200L430,200L450,200L470,200L490,200L510,200L530,200L550,200L570,200L590,200L610,200L630,200L650,200L670,200L690,200L710,200L710,200L690,200L670,200L650,200L630,200L610,200L590,200L570,200L550,200L530,200L510,200L490,200L470,200L450,200L430,200L410,200L390,200L370,200L350,200L330,200L310,200L290,200L270,200L250,200L230,200L210,200L190,200L170,200L150,200L130,200L110,200L90,200L70,200L50,200L30,200L10,200Z\" fill=\"#bab0ac\"/></g></g><path class=\"foreground\" aria-hidden=\"true\" d=\"\" display=\"none\"/></g></g><g class=\"mark-group role-legend\" role=\"graphics-symbol\" aria-roledescription=\"legend\" aria-label=\"Symbol legend titled 'variable' for fill color with 10 values: Conv, LABS12, LABS13, LABS22, LABS27, ending with RecyclPLA7\"><g transform=\"translate(738,0)\"><path class=\"background\" aria-hidden=\"true\" d=\"M0,0h75v144h-75Z\" pointer-events=\"none\"/><g><g class=\"mark-group role-legend-entry\"><g transform=\"translate(0,16)\"><path class=\"background\" aria-hidden=\"true\" d=\"M0,0h0v0h0Z\" pointer-events=\"none\"/><g><g class=\"mark-group role-scope\" role=\"graphics-object\" aria-roledescription=\"group mark container\"><g transform=\"translate(0,0)\"><path class=\"background\" aria-hidden=\"true\" d=\"M0,0h75v11h-75Z\" pointer-events=\"none\" opacity=\"1\"/><g><g class=\"mark-symbol role-legend-symbol\" pointer-events=\"none\"><path transform=\"translate(6,6)\" d=\"M5,0A5,5,0,1,1,-5,0A5,5,0,1,1,5,0\" fill=\"#4c78a8\" stroke-width=\"1.5\" opacity=\"1\"/></g><g class=\"mark-text role-legend-label\" pointer-events=\"none\"><text text-anchor=\"start\" transform=\"translate(16,9)\" font-family=\"sans-serif\" font-size=\"10px\" fill=\"#000\" opacity=\"1\">Conv</text></g></g><path class=\"foreground\" aria-hidden=\"true\" d=\"\" pointer-events=\"none\" display=\"none\"/></g><g transform=\"translate(0,13)\"><path class=\"background\" aria-hidden=\"true\" d=\"M0,0h75v11h-75Z\" pointer-events=\"none\" opacity=\"1\"/><g><g class=\"mark-symbol role-legend-symbol\" pointer-events=\"none\"><path transform=\"translate(6,6)\" d=\"M5,0A5,5,0,1,1,-5,0A5,5,0,1,1,5,0\" fill=\"#f58518\" stroke-width=\"1.5\" opacity=\"1\"/></g><g class=\"mark-text role-legend-label\" pointer-events=\"none\"><text text-anchor=\"start\" transform=\"translate(16,9)\" font-family=\"sans-serif\" font-size=\"10px\" fill=\"#000\" opacity=\"1\">LABS12</text></g></g><path class=\"foreground\" aria-hidden=\"true\" d=\"\" pointer-events=\"none\" display=\"none\"/></g><g transform=\"translate(0,26)\"><path class=\"background\" aria-hidden=\"true\" d=\"M0,0h75v11h-75Z\" pointer-events=\"none\" opacity=\"1\"/><g><g class=\"mark-symbol role-legend-symbol\" pointer-events=\"none\"><path transform=\"translate(6,6)\" d=\"M5,0A5,5,0,1,1,-5,0A5,5,0,1,1,5,0\" fill=\"#e45756\" stroke-width=\"1.5\" opacity=\"1\"/></g><g class=\"mark-text role-legend-label\" pointer-events=\"none\"><text text-anchor=\"start\" transform=\"translate(16,9)\" font-family=\"sans-serif\" font-size=\"10px\" fill=\"#000\" opacity=\"1\">LABS13</text></g></g><path class=\"foreground\" aria-hidden=\"true\" d=\"\" pointer-events=\"none\" display=\"none\"/></g><g transform=\"translate(0,39)\"><path class=\"background\" aria-hidden=\"true\" d=\"M0,0h75v11h-75Z\" pointer-events=\"none\" opacity=\"1\"/><g><g class=\"mark-symbol role-legend-symbol\" pointer-events=\"none\"><path transform=\"translate(6,6)\" d=\"M5,0A5,5,0,1,1,-5,0A5,5,0,1,1,5,0\" fill=\"#72b7b2\" stroke-width=\"1.5\" opacity=\"1\"/></g><g class=\"mark-text role-legend-label\" pointer-events=\"none\"><text text-anchor=\"start\" transform=\"translate(16,9)\" font-family=\"sans-serif\" font-size=\"10px\" fill=\"#000\" opacity=\"1\">LABS22</text></g></g><path class=\"foreground\" aria-hidden=\"true\" d=\"\" pointer-events=\"none\" display=\"none\"/></g><g transform=\"translate(0,52)\"><path class=\"background\" aria-hidden=\"true\" d=\"M0,0h75v11h-75Z\" pointer-events=\"none\" opacity=\"1\"/><g><g class=\"mark-symbol role-legend-symbol\" pointer-events=\"none\"><path transform=\"translate(6,6)\" d=\"M5,0A5,5,0,1,1,-5,0A5,5,0,1,1,5,0\" fill=\"#54a24b\" stroke-width=\"1.5\" opacity=\"1\"/></g><g class=\"mark-text role-legend-label\" pointer-events=\"none\"><text text-anchor=\"start\" transform=\"translate(16,9)\" font-family=\"sans-serif\" font-size=\"10px\" fill=\"#000\" opacity=\"1\">LABS27</text></g></g><path class=\"foreground\" aria-hidden=\"true\" d=\"\" pointer-events=\"none\" display=\"none\"/></g><g transform=\"translate(0,65)\"><path class=\"background\" aria-hidden=\"true\" d=\"M0,0h75v11h-75Z\" pointer-events=\"none\" opacity=\"1\"/><g><g class=\"mark-symbol role-legend-symbol\" pointer-events=\"none\"><path transform=\"translate(6,6)\" d=\"M5,0A5,5,0,1,1,-5,0A5,5,0,1,1,5,0\" fill=\"#eeca3b\" stroke-width=\"1.5\" opacity=\"1\"/></g><g class=\"mark-text role-legend-label\" pointer-events=\"none\"><text text-anchor=\"start\" transform=\"translate(16,9)\" font-family=\"sans-serif\" font-size=\"10px\" fill=\"#000\" opacity=\"1\">RecyclPLA2</text></g></g><path class=\"foreground\" aria-hidden=\"true\" d=\"\" pointer-events=\"none\" display=\"none\"/></g><g transform=\"translate(0,78)\"><path class=\"background\" aria-hidden=\"true\" d=\"M0,0h75v11h-75Z\" pointer-events=\"none\" opacity=\"1\"/><g><g class=\"mark-symbol role-legend-symbol\" pointer-events=\"none\"><path transform=\"translate(6,6)\" d=\"M5,0A5,5,0,1,1,-5,0A5,5,0,1,1,5,0\" fill=\"#b279a2\" stroke-width=\"1.5\" opacity=\"1\"/></g><g class=\"mark-text role-legend-label\" pointer-events=\"none\"><text text-anchor=\"start\" transform=\"translate(16,9)\" font-family=\"sans-serif\" font-size=\"10px\" fill=\"#000\" opacity=\"1\">RecyclPLA4</text></g></g><path class=\"foreground\" aria-hidden=\"true\" d=\"\" pointer-events=\"none\" display=\"none\"/></g><g transform=\"translate(0,91)\"><path class=\"background\" aria-hidden=\"true\" d=\"M0,0h75v11h-75Z\" pointer-events=\"none\" opacity=\"1\"/><g><g class=\"mark-symbol role-legend-symbol\" pointer-events=\"none\"><path transform=\"translate(6,6)\" d=\"M5,0A5,5,0,1,1,-5,0A5,5,0,1,1,5,0\" fill=\"#ff9da6\" stroke-width=\"1.5\" opacity=\"1\"/></g><g class=\"mark-text role-legend-label\" pointer-events=\"none\"><text text-anchor=\"start\" transform=\"translate(16,9)\" font-family=\"sans-serif\" font-size=\"10px\" fill=\"#000\" opacity=\"1\">RecyclPLA5</text></g></g><path class=\"foreground\" aria-hidden=\"true\" d=\"\" pointer-events=\"none\" display=\"none\"/></g><g transform=\"translate(0,104)\"><path class=\"background\" aria-hidden=\"true\" d=\"M0,0h75v11h-75Z\" pointer-events=\"none\" opacity=\"1\"/><g><g class=\"mark-symbol role-legend-symbol\" pointer-events=\"none\"><path transform=\"translate(6,6)\" d=\"M5,0A5,5,0,1,1,-5,0A5,5,0,1,1,5,0\" fill=\"#9d755d\" stroke-width=\"1.5\" opacity=\"1\"/></g><g class=\"mark-text role-legend-label\" pointer-events=\"none\"><text text-anchor=\"start\" transform=\"translate(16,9)\" font-family=\"sans-serif\" font-size=\"10px\" fill=\"#000\" opacity=\"1\">RecyclPLA6</text></g></g><path class=\"foreground\" aria-hidden=\"true\" d=\"\" pointer-events=\"none\" display=\"none\"/></g><g transform=\"translate(0,117)\"><path class=\"background\" aria-hidden=\"true\" d=\"M0,0h75v11h-75Z\" pointer-events=\"none\" opacity=\"1\"/><g><g class=\"mark-symbol role-legend-symbol\" pointer-events=\"none\"><path transform=\"translate(6,6)\" d=\"M5,0A5,5,0,1,1,-5,0A5,5,0,1,1,5,0\" fill=\"#bab0ac\" stroke-width=\"1.5\" opacity=\"1\"/></g><g class=\"mark-text role-legend-label\" pointer-events=\"none\"><text text-anchor=\"start\" transform=\"translate(16,9)\" font-family=\"sans-serif\" font-size=\"10px\" fill=\"#000\" opacity=\"1\">RecyclPLA7</text></g></g><path class=\"foreground\" aria-hidden=\"true\" d=\"\" pointer-events=\"none\" display=\"none\"/></g></g></g><path class=\"foreground\" aria-hidden=\"true\" d=\"\" pointer-events=\"none\" display=\"none\"/></g></g><g class=\"mark-text role-legend-title\" pointer-events=\"none\"><text text-anchor=\"start\" transform=\"translate(0,9)\" font-family=\"sans-serif\" font-size=\"11px\" font-weight=\"bold\" fill=\"#000\" opacity=\"1\">variable</text></g></g><path class=\"foreground\" aria-hidden=\"true\" d=\"\" pointer-events=\"none\" display=\"none\"/></g></g></g><path class=\"foreground\" aria-hidden=\"true\" d=\"\" display=\"none\"/></g></g></g></svg>\n"
      ],
      "text/plain": [
       "@vlplot(\n",
       "    legend=\"sNames\",\n",
       "    mark=\"area\",\n",
       "    encoding={\n",
       "        x={\n",
       "            field=\"year\"\n",
       "        },\n",
       "        y={\n",
       "            stack=\"zero\",\n",
       "            title=\"CO2\",\n",
       "            field=\"value\"\n",
       "        },\n",
       "        color={\n",
       "            field=\"variable\",\n",
       "            type=\"nominal\"\n",
       "        }\n",
       "    },\n",
       "    data={\n",
       "        values=...\n",
       "    }\n",
       ")"
      ]
     },
     "execution_count": 54,
     "metadata": {},
     "output_type": "execute_result"
    }
   ],
   "source": [
    "#only for this result\n",
    "\n",
    "function conventional0(i1,t)\n",
    "    if t==0\n",
    "        if mod(i1,5)≥mod(sum(round(JuMP.values.(tk)[k1,t+1];digits=2) for k1=1:nrow(compromise)),5)\n",
    "            return initial[1,3]*(1-sum(JuMP.values.(xk)[k,t+1] for k in 1:nrow(compromise)))\n",
    "        else\n",
    "            return 0\n",
    "        end\n",
    "    else\n",
    "        return initial[1,3]*(1-sum(JuMP.values.(xk)[k,t] for k in 1:nrow(compromise)))\n",
    "    end\n",
    "end\n",
    "\n",
    "function conventional(i1,t)\n",
    "    if t==0\n",
    "        if mod(i1,5)≥mod(sum(round.(JuMP.values.(tk)[1:nrow(compromise),t+1];digits=2)),5) && sum(JuMP.values.(xk)[1:nrow(compromise),t+1]) > 0\n",
    "            return initial[1,3]*(1-sum(JuMP.values.(xk)[k,t+1] for k in 1:nrow(compromise)))\n",
    "        else\n",
    "            return 0\n",
    "        end\n",
    "    else\n",
    "        sum_xks_atT=0\n",
    "        for k1 in 1:nrow(compromise)\n",
    "            if mod(i1,5)≥mod(round(JuMP.values.(tk)[k1,t+1];digits=2),5) && sum(JuMP.values.(xk)[k1,t:t+1])>0 && t>0\n",
    "                sum_xks_atT+=JuMP.values.(xk)[k1,t+1]\n",
    "            else\n",
    "                sum_xks_atT+=JuMP.values.(xk)[k1,t]\n",
    "            end\n",
    "        end\n",
    "            \n",
    "        #if mod(i1,5)≥mod(round(sum(JuMP.values.(tk)[1:nrow(compromise),t+1]);digits=2),5) && sum(JuMP.values.(xk)[1:nrow(compromise),t:t+1])>0 && t>0\n",
    "        #    t=t+1\n",
    "        #end\n",
    "        #return (1-sum(JuMP.values.(xk)[k,t] for k in 1:nrow(compromise)))\n",
    "        return initial[1,3]*(1-sum_xks_atT)\n",
    "    end\n",
    "end\n",
    "\n",
    "\n",
    "function innovation(i1,k1,t)\n",
    "    if t==0 \n",
    "        if mod(i1,5)≥mod(round(JuMP.values.(tk)[k1,t+1];digits=2),5) && JuMP.values.(xk)[k1,t+1] > 0\n",
    "            t=1\n",
    "            return (sum(JuMP.values.(xk)[k,t]*(co2fac[k,t]) for k=k1:k1))            \n",
    "        else\n",
    "            return 0\n",
    "        end\n",
    "    end\n",
    "    if mod(i1,5)≥mod(round(JuMP.values.(tk)[k1,t+1];digits=2),5) && sum(JuMP.values.(xk)[k1,t:t+1])>0 && t>0\n",
    "        t=t+1\n",
    "    end\n",
    "    return sum(JuMP.values.(xk)[k,t]*(co2fac[k,t]) for k=k1:k1)\n",
    "end\n",
    "\n",
    "conv=zeros(51)\n",
    "\n",
    "conv[1]=initial[1,3]\n",
    "inn_co2=zeros(nrow(compromise),51)\n",
    "\n",
    "for k in 1:nrow(compromise)\n",
    "    inn_co2[k,1]=0\n",
    "end\n",
    "j=0\n",
    "for t in 2:51\n",
    "    if 0 ≤ t ≤ 5\n",
    "        j=0\n",
    "    elseif 6 ≤ t ≤ 10\n",
    "        j=1\n",
    "    elseif 6 ≤ t ≤ 10\n",
    "        j=2\n",
    "    elseif 11 ≤ t ≤ 15\n",
    "        j=3\n",
    "    elseif 16 ≤ t ≤ 20\n",
    "        j=4\n",
    "    elseif 21 ≤ t ≤ 25\n",
    "        j=5\n",
    "    else\n",
    "        j=6\n",
    "    end\n",
    "    \n",
    "    \n",
    "    \n",
    "    conv[t]=conventional(t,j)\n",
    "    for k in 1:nrow(compromise)\n",
    "        \n",
    "        inn_co2[k,t]=innovation(t,k,j)\n",
    "    end\n",
    "end\n",
    "#conv[1:5].=initial[1,3]\n",
    "\n",
    "sNames = [\"conv\",\"inn1\",\"inn2\",\"inn3\",\"inn4\",\"inn5\",\"inn6\",\"inn7\",\"inn8\",\"inn9\",\"inn10\"]\n",
    "xLabels = []\n",
    "for i in 2020:2070\n",
    "    push!(xLabels,string(i))\n",
    "end\n",
    "\n",
    "#df = DataFrame(year=xLabels, conv=conv, inn1=inn_co2[1,:],inn2=inn_co2[2,:],inn3=inn_co2[3,:],inn4=inn_co2[4,:],\n",
    "#        inn5=inn_co2[5,:],inn6=inn_co2[6,:],inn7=inn_co2[7,:],inn8=inn_co2[8,:],inn9=inn_co2[9,:],inn10=inn_co2[10,:])\n",
    "df = DataFrame(vcat(conv',inn_co2)',:auto)\n",
    "\n",
    "\n",
    "df=df[1:36,:]\n",
    "\n",
    "df=df[!, any.(>(0), eachcol(df))]\n",
    "df[!,:year]=xLabels[1:36]\n",
    "#rename!(df,[:x1,:x93,:x218,:x222] .=> [:Conv,:pyLDPE1,:alcPLA2,:alcPLA6])\n",
    "#df[!,:pyLDPE11]=zeros(36)\n",
    "rename!(df,[:x1] .=> [:Conv])\n",
    "df[!,:x104]=zeros(36)\n",
    "df[!,:x201]=zeros(36)\n",
    "#df[!,:x196]=zeros(36)\n",
    "#df[!,:x126]=zeros(36)\n",
    "rename!(df,[:x94,:x95,:x104,:x109,:x196,:x198,:x199,:x200,:x201] .=> [:LABS12,:LABS13,:LABS22,:LABS27,:RecyclPLA2,:RecyclPLA4,:RecyclPLA5,:RecyclPLA6,:RecyclPLA7])\n",
    "\n",
    "co2_inn=df |> stack |> @vlplot(:area, x=:year, y={:value, stack=:zero, title=\"CO2\"}, color=\"variable:n\",legend=:sNames) \n",
    "\n",
    "save(\"./result-case-roadmap/co2-roadmap.svg\", co2_inn)\n",
    "co2_inn\n",
    "\n"
   ]
  },
  {
   "cell_type": "code",
   "execution_count": 60,
   "id": "16630f74",
   "metadata": {},
   "outputs": [
    {
     "data": {
      "application/vnd.vegalite.v4+json": {
       "data": {
        "values": [
         {
          "value": 100,
          "variable": "Conv",
          "year": "2020"
         },
         {
          "value": 0,
          "variable": "Conv",
          "year": "2021"
         },
         {
          "value": 0,
          "variable": "Conv",
          "year": "2022"
         },
         {
          "value": 0,
          "variable": "Conv",
          "year": "2023"
         },
         {
          "value": 0,
          "variable": "Conv",
          "year": "2024"
         },
         {
          "value": 0,
          "variable": "Conv",
          "year": "2025"
         },
         {
          "value": 0,
          "variable": "Conv",
          "year": "2026"
         },
         {
          "value": 0,
          "variable": "Conv",
          "year": "2027"
         },
         {
          "value": 0,
          "variable": "Conv",
          "year": "2028"
         },
         {
          "value": 0,
          "variable": "Conv",
          "year": "2029"
         },
         {
          "value": 0,
          "variable": "Conv",
          "year": "2030"
         },
         {
          "value": 0,
          "variable": "Conv",
          "year": "2031"
         },
         {
          "value": 0,
          "variable": "Conv",
          "year": "2032"
         },
         {
          "value": 0,
          "variable": "Conv",
          "year": "2033"
         },
         {
          "value": 0,
          "variable": "Conv",
          "year": "2034"
         },
         {
          "value": 0,
          "variable": "Conv",
          "year": "2035"
         },
         {
          "value": 0,
          "variable": "Conv",
          "year": "2036"
         },
         {
          "value": 0,
          "variable": "Conv",
          "year": "2037"
         },
         {
          "value": 0,
          "variable": "Conv",
          "year": "2038"
         },
         {
          "value": 0,
          "variable": "Conv",
          "year": "2039"
         },
         {
          "value": 0,
          "variable": "Conv",
          "year": "2040"
         },
         {
          "value": 0,
          "variable": "Conv",
          "year": "2041"
         },
         {
          "value": 0,
          "variable": "Conv",
          "year": "2042"
         },
         {
          "value": 0,
          "variable": "Conv",
          "year": "2043"
         },
         {
          "value": 0,
          "variable": "Conv",
          "year": "2044"
         },
         {
          "value": 0,
          "variable": "Conv",
          "year": "2045"
         },
         {
          "value": 0,
          "variable": "Conv",
          "year": "2046"
         },
         {
          "value": 0,
          "variable": "Conv",
          "year": "2047"
         },
         {
          "value": 0,
          "variable": "Conv",
          "year": "2048"
         },
         {
          "value": 0,
          "variable": "Conv",
          "year": "2049"
         },
         {
          "value": 0,
          "variable": "Conv",
          "year": "2050"
         },
         {
          "value": 0,
          "variable": "Conv",
          "year": "2051"
         },
         {
          "value": 0,
          "variable": "Conv",
          "year": "2052"
         },
         {
          "value": 0,
          "variable": "Conv",
          "year": "2053"
         },
         {
          "value": 0,
          "variable": "Conv",
          "year": "2054"
         },
         {
          "value": 0,
          "variable": "Conv",
          "year": "2055"
         },
         {
          "value": 0,
          "variable": "LABS12",
          "year": "2020"
         },
         {
          "value": 0,
          "variable": "LABS12",
          "year": "2021"
         },
         {
          "value": 0,
          "variable": "LABS12",
          "year": "2022"
         },
         {
          "value": 0,
          "variable": "LABS12",
          "year": "2023"
         },
         {
          "value": 0,
          "variable": "LABS12",
          "year": "2024"
         },
         {
          "value": 0,
          "variable": "LABS12",
          "year": "2025"
         },
         {
          "value": 0,
          "variable": "LABS12",
          "year": "2026"
         },
         {
          "value": 0,
          "variable": "LABS12",
          "year": "2027"
         },
         {
          "value": 0,
          "variable": "LABS12",
          "year": "2028"
         },
         {
          "value": 0,
          "variable": "LABS12",
          "year": "2029"
         },
         {
          "value": 55.146787852920085,
          "variable": "LABS12",
          "year": "2030"
         },
         {
          "value": 55.146787852920085,
          "variable": "LABS12",
          "year": "2031"
         },
         {
          "value": 55.146787852920085,
          "variable": "LABS12",
          "year": "2032"
         },
         {
          "value": 55.146787852920085,
          "variable": "LABS12",
          "year": "2033"
         },
         {
          "value": 55.146787852920085,
          "variable": "LABS12",
          "year": "2034"
         },
         {
          "value": 0,
          "variable": "LABS12",
          "year": "2035"
         },
         {
          "value": 0,
          "variable": "LABS12",
          "year": "2036"
         },
         {
          "value": 0,
          "variable": "LABS12",
          "year": "2037"
         },
         {
          "value": 0,
          "variable": "LABS12",
          "year": "2038"
         },
         {
          "value": 0,
          "variable": "LABS12",
          "year": "2039"
         },
         {
          "value": 55.146787852925016,
          "variable": "LABS12",
          "year": "2040"
         },
         {
          "value": 55.146787852925016,
          "variable": "LABS12",
          "year": "2041"
         },
         {
          "value": 55.146787852925016,
          "variable": "LABS12",
          "year": "2042"
         },
         {
          "value": 55.146787852925016,
          "variable": "LABS12",
          "year": "2043"
         },
         {
          "value": 55.146787852925016,
          "variable": "LABS12",
          "year": "2044"
         },
         {
          "value": 0,
          "variable": "LABS12",
          "year": "2045"
         },
         {
          "value": 0,
          "variable": "LABS12",
          "year": "2046"
         },
         {
          "value": 0,
          "variable": "LABS12",
          "year": "2047"
         },
         {
          "value": 0,
          "variable": "LABS12",
          "year": "2048"
         },
         {
          "value": 0,
          "variable": "LABS12",
          "year": "2049"
         },
         {
          "value": 0,
          "variable": "LABS12",
          "year": "2050"
         },
         {
          "value": 0,
          "variable": "LABS12",
          "year": "2051"
         },
         {
          "value": 0,
          "variable": "LABS12",
          "year": "2052"
         },
         {
          "value": 0,
          "variable": "LABS12",
          "year": "2053"
         },
         {
          "value": 0,
          "variable": "LABS12",
          "year": "2054"
         },
         {
          "value": 0,
          "variable": "LABS12",
          "year": "2055"
         },
         {
          "value": 0,
          "variable": "LABS13",
          "year": "2020"
         },
         {
          "value": 100,
          "variable": "LABS13",
          "year": "2021"
         },
         {
          "value": 100,
          "variable": "LABS13",
          "year": "2022"
         },
         {
          "value": 100,
          "variable": "LABS13",
          "year": "2023"
         },
         {
          "value": 100,
          "variable": "LABS13",
          "year": "2024"
         },
         {
          "value": 0,
          "variable": "LABS13",
          "year": "2025"
         },
         {
          "value": 0,
          "variable": "LABS13",
          "year": "2026"
         },
         {
          "value": 0,
          "variable": "LABS13",
          "year": "2027"
         },
         {
          "value": 0,
          "variable": "LABS13",
          "year": "2028"
         },
         {
          "value": 0,
          "variable": "LABS13",
          "year": "2029"
         },
         {
          "value": 0,
          "variable": "LABS13",
          "year": "2030"
         },
         {
          "value": 0,
          "variable": "LABS13",
          "year": "2031"
         },
         {
          "value": 0,
          "variable": "LABS13",
          "year": "2032"
         },
         {
          "value": 0,
          "variable": "LABS13",
          "year": "2033"
         },
         {
          "value": 0,
          "variable": "LABS13",
          "year": "2034"
         },
         {
          "value": 0,
          "variable": "LABS13",
          "year": "2035"
         },
         {
          "value": 0,
          "variable": "LABS13",
          "year": "2036"
         },
         {
          "value": 0,
          "variable": "LABS13",
          "year": "2037"
         },
         {
          "value": 0,
          "variable": "LABS13",
          "year": "2038"
         },
         {
          "value": 0,
          "variable": "LABS13",
          "year": "2039"
         },
         {
          "value": 0,
          "variable": "LABS13",
          "year": "2040"
         },
         {
          "value": 0,
          "variable": "LABS13",
          "year": "2041"
         },
         {
          "value": 0,
          "variable": "LABS13",
          "year": "2042"
         },
         {
          "value": 0,
          "variable": "LABS13",
          "year": "2043"
         },
         {
          "value": 0,
          "variable": "LABS13",
          "year": "2044"
         },
         {
          "value": 0,
          "variable": "LABS13",
          "year": "2045"
         },
         {
          "value": 0,
          "variable": "LABS13",
          "year": "2046"
         },
         {
          "value": 0,
          "variable": "LABS13",
          "year": "2047"
         },
         {
          "value": 0,
          "variable": "LABS13",
          "year": "2048"
         },
         {
          "value": 0,
          "variable": "LABS13",
          "year": "2049"
         },
         {
          "value": 0,
          "variable": "LABS13",
          "year": "2050"
         },
         {
          "value": 0,
          "variable": "LABS13",
          "year": "2051"
         },
         {
          "value": 0,
          "variable": "LABS13",
          "year": "2052"
         },
         {
          "value": 0,
          "variable": "LABS13",
          "year": "2053"
         },
         {
          "value": 0,
          "variable": "LABS13",
          "year": "2054"
         },
         {
          "value": 0,
          "variable": "LABS13",
          "year": "2055"
         },
         {
          "value": 0,
          "variable": "LABS27",
          "year": "2020"
         },
         {
          "value": 0,
          "variable": "LABS27",
          "year": "2021"
         },
         {
          "value": 0,
          "variable": "LABS27",
          "year": "2022"
         },
         {
          "value": 0,
          "variable": "LABS27",
          "year": "2023"
         },
         {
          "value": 0,
          "variable": "LABS27",
          "year": "2024"
         },
         {
          "value": 0,
          "variable": "LABS27",
          "year": "2025"
         },
         {
          "value": 0,
          "variable": "LABS27",
          "year": "2026"
         },
         {
          "value": 0,
          "variable": "LABS27",
          "year": "2027"
         },
         {
          "value": 0,
          "variable": "LABS27",
          "year": "2028"
         },
         {
          "value": 0,
          "variable": "LABS27",
          "year": "2029"
         },
         {
          "value": 0,
          "variable": "LABS27",
          "year": "2030"
         },
         {
          "value": 0,
          "variable": "LABS27",
          "year": "2031"
         },
         {
          "value": 0,
          "variable": "LABS27",
          "year": "2032"
         },
         {
          "value": 0,
          "variable": "LABS27",
          "year": "2033"
         },
         {
          "value": 0,
          "variable": "LABS27",
          "year": "2034"
         },
         {
          "value": 54.81524140640046,
          "variable": "LABS27",
          "year": "2035"
         },
         {
          "value": 54.81524140640046,
          "variable": "LABS27",
          "year": "2036"
         },
         {
          "value": 54.81524140640046,
          "variable": "LABS27",
          "year": "2037"
         },
         {
          "value": 54.81524140640046,
          "variable": "LABS27",
          "year": "2038"
         },
         {
          "value": 54.81524140640046,
          "variable": "LABS27",
          "year": "2039"
         },
         {
          "value": 0,
          "variable": "LABS27",
          "year": "2040"
         },
         {
          "value": 0,
          "variable": "LABS27",
          "year": "2041"
         },
         {
          "value": 0,
          "variable": "LABS27",
          "year": "2042"
         },
         {
          "value": 0,
          "variable": "LABS27",
          "year": "2043"
         },
         {
          "value": 0,
          "variable": "LABS27",
          "year": "2044"
         },
         {
          "value": 66.20162190803318,
          "variable": "LABS27",
          "year": "2045"
         },
         {
          "value": 66.20162190803318,
          "variable": "LABS27",
          "year": "2046"
         },
         {
          "value": 66.20162190803318,
          "variable": "LABS27",
          "year": "2047"
         },
         {
          "value": 66.20162190803318,
          "variable": "LABS27",
          "year": "2048"
         },
         {
          "value": 66.20162190803318,
          "variable": "LABS27",
          "year": "2049"
         },
         {
          "value": 66.20162190803318,
          "variable": "LABS27",
          "year": "2050"
         },
         {
          "value": 66.20162190803318,
          "variable": "LABS27",
          "year": "2051"
         },
         {
          "value": 66.20162190803318,
          "variable": "LABS27",
          "year": "2052"
         },
         {
          "value": 66.20162190803318,
          "variable": "LABS27",
          "year": "2053"
         },
         {
          "value": 66.20162190803318,
          "variable": "LABS27",
          "year": "2054"
         },
         {
          "value": 66.20162190803318,
          "variable": "LABS27",
          "year": "2055"
         },
         {
          "value": 0,
          "variable": "RecyclPLA2",
          "year": "2020"
         },
         {
          "value": 0,
          "variable": "RecyclPLA2",
          "year": "2021"
         },
         {
          "value": 0,
          "variable": "RecyclPLA2",
          "year": "2022"
         },
         {
          "value": 0,
          "variable": "RecyclPLA2",
          "year": "2023"
         },
         {
          "value": 0,
          "variable": "RecyclPLA2",
          "year": "2024"
         },
         {
          "value": 100,
          "variable": "RecyclPLA2",
          "year": "2025"
         },
         {
          "value": 100,
          "variable": "RecyclPLA2",
          "year": "2026"
         },
         {
          "value": 100,
          "variable": "RecyclPLA2",
          "year": "2027"
         },
         {
          "value": 100,
          "variable": "RecyclPLA2",
          "year": "2028"
         },
         {
          "value": 100,
          "variable": "RecyclPLA2",
          "year": "2029"
         },
         {
          "value": 0,
          "variable": "RecyclPLA2",
          "year": "2030"
         },
         {
          "value": 0,
          "variable": "RecyclPLA2",
          "year": "2031"
         },
         {
          "value": 0,
          "variable": "RecyclPLA2",
          "year": "2032"
         },
         {
          "value": 0,
          "variable": "RecyclPLA2",
          "year": "2033"
         },
         {
          "value": 0,
          "variable": "RecyclPLA2",
          "year": "2034"
         },
         {
          "value": 0,
          "variable": "RecyclPLA2",
          "year": "2035"
         },
         {
          "value": 0,
          "variable": "RecyclPLA2",
          "year": "2036"
         },
         {
          "value": 0,
          "variable": "RecyclPLA2",
          "year": "2037"
         },
         {
          "value": 0,
          "variable": "RecyclPLA2",
          "year": "2038"
         },
         {
          "value": 0,
          "variable": "RecyclPLA2",
          "year": "2039"
         },
         {
          "value": 0,
          "variable": "RecyclPLA2",
          "year": "2040"
         },
         {
          "value": 0,
          "variable": "RecyclPLA2",
          "year": "2041"
         },
         {
          "value": 0,
          "variable": "RecyclPLA2",
          "year": "2042"
         },
         {
          "value": 0,
          "variable": "RecyclPLA2",
          "year": "2043"
         },
         {
          "value": 0,
          "variable": "RecyclPLA2",
          "year": "2044"
         },
         {
          "value": 0,
          "variable": "RecyclPLA2",
          "year": "2045"
         },
         {
          "value": 0,
          "variable": "RecyclPLA2",
          "year": "2046"
         },
         {
          "value": 0,
          "variable": "RecyclPLA2",
          "year": "2047"
         },
         {
          "value": 0,
          "variable": "RecyclPLA2",
          "year": "2048"
         },
         {
          "value": 0,
          "variable": "RecyclPLA2",
          "year": "2049"
         },
         {
          "value": 0,
          "variable": "RecyclPLA2",
          "year": "2050"
         },
         {
          "value": 0,
          "variable": "RecyclPLA2",
          "year": "2051"
         },
         {
          "value": 0,
          "variable": "RecyclPLA2",
          "year": "2052"
         },
         {
          "value": 0,
          "variable": "RecyclPLA2",
          "year": "2053"
         },
         {
          "value": 0,
          "variable": "RecyclPLA2",
          "year": "2054"
         },
         {
          "value": 0,
          "variable": "RecyclPLA2",
          "year": "2055"
         },
         {
          "value": 0,
          "variable": "RecyclPLA4",
          "year": "2020"
         },
         {
          "value": 0,
          "variable": "RecyclPLA4",
          "year": "2021"
         },
         {
          "value": 0,
          "variable": "RecyclPLA4",
          "year": "2022"
         },
         {
          "value": 0,
          "variable": "RecyclPLA4",
          "year": "2023"
         },
         {
          "value": 0,
          "variable": "RecyclPLA4",
          "year": "2024"
         },
         {
          "value": 0,
          "variable": "RecyclPLA4",
          "year": "2025"
         },
         {
          "value": 0,
          "variable": "RecyclPLA4",
          "year": "2026"
         },
         {
          "value": 0,
          "variable": "RecyclPLA4",
          "year": "2027"
         },
         {
          "value": 0,
          "variable": "RecyclPLA4",
          "year": "2028"
         },
         {
          "value": 0,
          "variable": "RecyclPLA4",
          "year": "2029"
         },
         {
          "value": 0,
          "variable": "RecyclPLA4",
          "year": "2030"
         },
         {
          "value": 0,
          "variable": "RecyclPLA4",
          "year": "2031"
         },
         {
          "value": 0,
          "variable": "RecyclPLA4",
          "year": "2032"
         },
         {
          "value": 0,
          "variable": "RecyclPLA4",
          "year": "2033"
         },
         {
          "value": 0,
          "variable": "RecyclPLA4",
          "year": "2034"
         },
         {
          "value": 0,
          "variable": "RecyclPLA4",
          "year": "2035"
         },
         {
          "value": 0,
          "variable": "RecyclPLA4",
          "year": "2036"
         },
         {
          "value": 0,
          "variable": "RecyclPLA4",
          "year": "2037"
         },
         {
          "value": 0,
          "variable": "RecyclPLA4",
          "year": "2038"
         },
         {
          "value": 0,
          "variable": "RecyclPLA4",
          "year": "2039"
         },
         {
          "value": 0,
          "variable": "RecyclPLA4",
          "year": "2040"
         },
         {
          "value": 0,
          "variable": "RecyclPLA4",
          "year": "2041"
         },
         {
          "value": 0,
          "variable": "RecyclPLA4",
          "year": "2042"
         },
         {
          "value": 0,
          "variable": "RecyclPLA4",
          "year": "2043"
         },
         {
          "value": 0,
          "variable": "RecyclPLA4",
          "year": "2044"
         },
         {
          "value": 33.79837809196683,
          "variable": "RecyclPLA4",
          "year": "2045"
         },
         {
          "value": 33.79837809196683,
          "variable": "RecyclPLA4",
          "year": "2046"
         },
         {
          "value": 33.79837809196683,
          "variable": "RecyclPLA4",
          "year": "2047"
         },
         {
          "value": 33.79837809196683,
          "variable": "RecyclPLA4",
          "year": "2048"
         },
         {
          "value": 33.79837809196683,
          "variable": "RecyclPLA4",
          "year": "2049"
         },
         {
          "value": 33.79837809196683,
          "variable": "RecyclPLA4",
          "year": "2050"
         },
         {
          "value": 33.79837809196683,
          "variable": "RecyclPLA4",
          "year": "2051"
         },
         {
          "value": 33.79837809196683,
          "variable": "RecyclPLA4",
          "year": "2052"
         },
         {
          "value": 33.79837809196683,
          "variable": "RecyclPLA4",
          "year": "2053"
         },
         {
          "value": 33.79837809196683,
          "variable": "RecyclPLA4",
          "year": "2054"
         },
         {
          "value": 33.79837809196683,
          "variable": "RecyclPLA4",
          "year": "2055"
         },
         {
          "value": 0,
          "variable": "RecyclPLA5",
          "year": "2020"
         },
         {
          "value": 0,
          "variable": "RecyclPLA5",
          "year": "2021"
         },
         {
          "value": 0,
          "variable": "RecyclPLA5",
          "year": "2022"
         },
         {
          "value": 0,
          "variable": "RecyclPLA5",
          "year": "2023"
         },
         {
          "value": 0,
          "variable": "RecyclPLA5",
          "year": "2024"
         },
         {
          "value": 0,
          "variable": "RecyclPLA5",
          "year": "2025"
         },
         {
          "value": 0,
          "variable": "RecyclPLA5",
          "year": "2026"
         },
         {
          "value": 0,
          "variable": "RecyclPLA5",
          "year": "2027"
         },
         {
          "value": 0,
          "variable": "RecyclPLA5",
          "year": "2028"
         },
         {
          "value": 0,
          "variable": "RecyclPLA5",
          "year": "2029"
         },
         {
          "value": 0,
          "variable": "RecyclPLA5",
          "year": "2030"
         },
         {
          "value": 0,
          "variable": "RecyclPLA5",
          "year": "2031"
         },
         {
          "value": 0,
          "variable": "RecyclPLA5",
          "year": "2032"
         },
         {
          "value": 0,
          "variable": "RecyclPLA5",
          "year": "2033"
         },
         {
          "value": 0,
          "variable": "RecyclPLA5",
          "year": "2034"
         },
         {
          "value": 45.18475859359954,
          "variable": "RecyclPLA5",
          "year": "2035"
         },
         {
          "value": 45.18475859359954,
          "variable": "RecyclPLA5",
          "year": "2036"
         },
         {
          "value": 45.18475859359954,
          "variable": "RecyclPLA5",
          "year": "2037"
         },
         {
          "value": 45.18475859359954,
          "variable": "RecyclPLA5",
          "year": "2038"
         },
         {
          "value": 45.18475859359954,
          "variable": "RecyclPLA5",
          "year": "2039"
         },
         {
          "value": 0,
          "variable": "RecyclPLA5",
          "year": "2040"
         },
         {
          "value": 0,
          "variable": "RecyclPLA5",
          "year": "2041"
         },
         {
          "value": 0,
          "variable": "RecyclPLA5",
          "year": "2042"
         },
         {
          "value": 0,
          "variable": "RecyclPLA5",
          "year": "2043"
         },
         {
          "value": 0,
          "variable": "RecyclPLA5",
          "year": "2044"
         },
         {
          "value": 0,
          "variable": "RecyclPLA5",
          "year": "2045"
         },
         {
          "value": 0,
          "variable": "RecyclPLA5",
          "year": "2046"
         },
         {
          "value": 0,
          "variable": "RecyclPLA5",
          "year": "2047"
         },
         {
          "value": 0,
          "variable": "RecyclPLA5",
          "year": "2048"
         },
         {
          "value": 0,
          "variable": "RecyclPLA5",
          "year": "2049"
         },
         {
          "value": 0,
          "variable": "RecyclPLA5",
          "year": "2050"
         },
         {
          "value": 0,
          "variable": "RecyclPLA5",
          "year": "2051"
         },
         {
          "value": 0,
          "variable": "RecyclPLA5",
          "year": "2052"
         },
         {
          "value": 0,
          "variable": "RecyclPLA5",
          "year": "2053"
         },
         {
          "value": 0,
          "variable": "RecyclPLA5",
          "year": "2054"
         },
         {
          "value": 0,
          "variable": "RecyclPLA5",
          "year": "2055"
         },
         {
          "value": 0,
          "variable": "RecyclPLA6",
          "year": "2020"
         },
         {
          "value": 0,
          "variable": "RecyclPLA6",
          "year": "2021"
         },
         {
          "value": 0,
          "variable": "RecyclPLA6",
          "year": "2022"
         },
         {
          "value": 0,
          "variable": "RecyclPLA6",
          "year": "2023"
         },
         {
          "value": 0,
          "variable": "RecyclPLA6",
          "year": "2024"
         },
         {
          "value": 0,
          "variable": "RecyclPLA6",
          "year": "2025"
         },
         {
          "value": 0,
          "variable": "RecyclPLA6",
          "year": "2026"
         },
         {
          "value": 0,
          "variable": "RecyclPLA6",
          "year": "2027"
         },
         {
          "value": 0,
          "variable": "RecyclPLA6",
          "year": "2028"
         },
         {
          "value": 0,
          "variable": "RecyclPLA6",
          "year": "2029"
         },
         {
          "value": 44.853212147079915,
          "variable": "RecyclPLA6",
          "year": "2030"
         },
         {
          "value": 44.853212147079915,
          "variable": "RecyclPLA6",
          "year": "2031"
         },
         {
          "value": 44.853212147079915,
          "variable": "RecyclPLA6",
          "year": "2032"
         },
         {
          "value": 44.853212147079915,
          "variable": "RecyclPLA6",
          "year": "2033"
         },
         {
          "value": 44.853212147079915,
          "variable": "RecyclPLA6",
          "year": "2034"
         },
         {
          "value": 0,
          "variable": "RecyclPLA6",
          "year": "2035"
         },
         {
          "value": 0,
          "variable": "RecyclPLA6",
          "year": "2036"
         },
         {
          "value": 0,
          "variable": "RecyclPLA6",
          "year": "2037"
         },
         {
          "value": 0,
          "variable": "RecyclPLA6",
          "year": "2038"
         },
         {
          "value": 0,
          "variable": "RecyclPLA6",
          "year": "2039"
         },
         {
          "value": 44.853212147074984,
          "variable": "RecyclPLA6",
          "year": "2040"
         },
         {
          "value": 44.853212147074984,
          "variable": "RecyclPLA6",
          "year": "2041"
         },
         {
          "value": 44.853212147074984,
          "variable": "RecyclPLA6",
          "year": "2042"
         },
         {
          "value": 44.853212147074984,
          "variable": "RecyclPLA6",
          "year": "2043"
         },
         {
          "value": 44.853212147074984,
          "variable": "RecyclPLA6",
          "year": "2044"
         },
         {
          "value": 0,
          "variable": "RecyclPLA6",
          "year": "2045"
         },
         {
          "value": 0,
          "variable": "RecyclPLA6",
          "year": "2046"
         },
         {
          "value": 0,
          "variable": "RecyclPLA6",
          "year": "2047"
         },
         {
          "value": 0,
          "variable": "RecyclPLA6",
          "year": "2048"
         },
         {
          "value": 0,
          "variable": "RecyclPLA6",
          "year": "2049"
         },
         {
          "value": 0,
          "variable": "RecyclPLA6",
          "year": "2050"
         },
         {
          "value": 0,
          "variable": "RecyclPLA6",
          "year": "2051"
         },
         {
          "value": 0,
          "variable": "RecyclPLA6",
          "year": "2052"
         },
         {
          "value": 0,
          "variable": "RecyclPLA6",
          "year": "2053"
         },
         {
          "value": 0,
          "variable": "RecyclPLA6",
          "year": "2054"
         },
         {
          "value": 0,
          "variable": "RecyclPLA6",
          "year": "2055"
         },
         {
          "value": 0,
          "variable": "LABS22",
          "year": "2020"
         },
         {
          "value": 0,
          "variable": "LABS22",
          "year": "2021"
         },
         {
          "value": 0,
          "variable": "LABS22",
          "year": "2022"
         },
         {
          "value": 0,
          "variable": "LABS22",
          "year": "2023"
         },
         {
          "value": 0,
          "variable": "LABS22",
          "year": "2024"
         },
         {
          "value": 0,
          "variable": "LABS22",
          "year": "2025"
         },
         {
          "value": 0,
          "variable": "LABS22",
          "year": "2026"
         },
         {
          "value": 0,
          "variable": "LABS22",
          "year": "2027"
         },
         {
          "value": 0,
          "variable": "LABS22",
          "year": "2028"
         },
         {
          "value": 0,
          "variable": "LABS22",
          "year": "2029"
         },
         {
          "value": 0,
          "variable": "LABS22",
          "year": "2030"
         },
         {
          "value": 0,
          "variable": "LABS22",
          "year": "2031"
         },
         {
          "value": 0,
          "variable": "LABS22",
          "year": "2032"
         },
         {
          "value": 0,
          "variable": "LABS22",
          "year": "2033"
         },
         {
          "value": 0,
          "variable": "LABS22",
          "year": "2034"
         },
         {
          "value": 0,
          "variable": "LABS22",
          "year": "2035"
         },
         {
          "value": 0,
          "variable": "LABS22",
          "year": "2036"
         },
         {
          "value": 0,
          "variable": "LABS22",
          "year": "2037"
         },
         {
          "value": 0,
          "variable": "LABS22",
          "year": "2038"
         },
         {
          "value": 0,
          "variable": "LABS22",
          "year": "2039"
         },
         {
          "value": 0,
          "variable": "LABS22",
          "year": "2040"
         },
         {
          "value": 0,
          "variable": "LABS22",
          "year": "2041"
         },
         {
          "value": 0,
          "variable": "LABS22",
          "year": "2042"
         },
         {
          "value": 0,
          "variable": "LABS22",
          "year": "2043"
         },
         {
          "value": 0,
          "variable": "LABS22",
          "year": "2044"
         },
         {
          "value": 0,
          "variable": "LABS22",
          "year": "2045"
         },
         {
          "value": 0,
          "variable": "LABS22",
          "year": "2046"
         },
         {
          "value": 0,
          "variable": "LABS22",
          "year": "2047"
         },
         {
          "value": 0,
          "variable": "LABS22",
          "year": "2048"
         },
         {
          "value": 0,
          "variable": "LABS22",
          "year": "2049"
         },
         {
          "value": 0,
          "variable": "LABS22",
          "year": "2050"
         },
         {
          "value": 0,
          "variable": "LABS22",
          "year": "2051"
         },
         {
          "value": 0,
          "variable": "LABS22",
          "year": "2052"
         },
         {
          "value": 0,
          "variable": "LABS22",
          "year": "2053"
         },
         {
          "value": 0,
          "variable": "LABS22",
          "year": "2054"
         },
         {
          "value": 0,
          "variable": "LABS22",
          "year": "2055"
         },
         {
          "value": 0,
          "variable": "RecyclPLA7",
          "year": "2020"
         },
         {
          "value": 0,
          "variable": "RecyclPLA7",
          "year": "2021"
         },
         {
          "value": 0,
          "variable": "RecyclPLA7",
          "year": "2022"
         },
         {
          "value": 0,
          "variable": "RecyclPLA7",
          "year": "2023"
         },
         {
          "value": 0,
          "variable": "RecyclPLA7",
          "year": "2024"
         },
         {
          "value": 0,
          "variable": "RecyclPLA7",
          "year": "2025"
         },
         {
          "value": 0,
          "variable": "RecyclPLA7",
          "year": "2026"
         },
         {
          "value": 0,
          "variable": "RecyclPLA7",
          "year": "2027"
         },
         {
          "value": 0,
          "variable": "RecyclPLA7",
          "year": "2028"
         },
         {
          "value": 0,
          "variable": "RecyclPLA7",
          "year": "2029"
         },
         {
          "value": 0,
          "variable": "RecyclPLA7",
          "year": "2030"
         },
         {
          "value": 0,
          "variable": "RecyclPLA7",
          "year": "2031"
         },
         {
          "value": 0,
          "variable": "RecyclPLA7",
          "year": "2032"
         },
         {
          "value": 0,
          "variable": "RecyclPLA7",
          "year": "2033"
         },
         {
          "value": 0,
          "variable": "RecyclPLA7",
          "year": "2034"
         },
         {
          "value": 0,
          "variable": "RecyclPLA7",
          "year": "2035"
         },
         {
          "value": 0,
          "variable": "RecyclPLA7",
          "year": "2036"
         },
         {
          "value": 0,
          "variable": "RecyclPLA7",
          "year": "2037"
         },
         {
          "value": 0,
          "variable": "RecyclPLA7",
          "year": "2038"
         },
         {
          "value": 0,
          "variable": "RecyclPLA7",
          "year": "2039"
         },
         {
          "value": 0,
          "variable": "RecyclPLA7",
          "year": "2040"
         },
         {
          "value": 0,
          "variable": "RecyclPLA7",
          "year": "2041"
         },
         {
          "value": 0,
          "variable": "RecyclPLA7",
          "year": "2042"
         },
         {
          "value": 0,
          "variable": "RecyclPLA7",
          "year": "2043"
         },
         {
          "value": 0,
          "variable": "RecyclPLA7",
          "year": "2044"
         },
         {
          "value": 0,
          "variable": "RecyclPLA7",
          "year": "2045"
         },
         {
          "value": 0,
          "variable": "RecyclPLA7",
          "year": "2046"
         },
         {
          "value": 0,
          "variable": "RecyclPLA7",
          "year": "2047"
         },
         {
          "value": 0,
          "variable": "RecyclPLA7",
          "year": "2048"
         },
         {
          "value": 0,
          "variable": "RecyclPLA7",
          "year": "2049"
         },
         {
          "value": 0,
          "variable": "RecyclPLA7",
          "year": "2050"
         },
         {
          "value": 0,
          "variable": "RecyclPLA7",
          "year": "2051"
         },
         {
          "value": 0,
          "variable": "RecyclPLA7",
          "year": "2052"
         },
         {
          "value": 0,
          "variable": "RecyclPLA7",
          "year": "2053"
         },
         {
          "value": 0,
          "variable": "RecyclPLA7",
          "year": "2054"
         },
         {
          "value": 0,
          "variable": "RecyclPLA7",
          "year": "2055"
         }
        ]
       },
       "encoding": {
        "color": {
         "field": "variable",
         "type": "nominal"
        },
        "x": {
         "field": "year"
        },
        "y": {
         "field": "value",
         "stack": "zero",
         "title": "Value-chain adopted (%)",
         "type": "quantitative"
        }
       },
       "legend": "sNames",
       "mark": "area"
      },
      "image/png": "[encoded data removed]",
      "image/svg+xml": [
       "<?xml version=\"1.0\" encoding=\"utf-8\"?>\n",
       "<!DOCTYPE svg PUBLIC \"-//W3C//DTD SVG 1.1//EN\" \"http://www.w3.org/Graphics/SVG/1.1/DTD/svg11.dtd\">\n",
       "<svg xmlns=\"http://www.w3.org/2000/svg\" xmlns:xlink=\"http://www.w3.org/1999/xlink\" version=\"1.1\" class=\"marks\" width=\"863\" height=\"261\" viewBox=\"0 0 863 261\"><rect width=\"863\" height=\"261\" fill=\"white\"/><g fill=\"none\" stroke-miterlimit=\"10\" transform=\"translate(45,10)\"><g class=\"mark-group role-frame root\" role=\"graphics-object\" aria-roledescription=\"group mark container\"><g transform=\"translate(0,0)\"><path class=\"background\" aria-hidden=\"true\" d=\"M0.5,0.5h720v200h-720Z\" stroke=\"#ddd\"/><g><g class=\"mark-group role-axis\" aria-hidden=\"true\"><g transform=\"translate(0.5,0.5)\"><path class=\"background\" aria-hidden=\"true\" d=\"M0,0h0v0h0Z\" pointer-events=\"none\"/><g><g class=\"mark-rule role-axis-grid\" pointer-events=\"none\"><line transform=\"translate(0,200)\" x2=\"720\" y2=\"0\" stroke=\"#ddd\" stroke-width=\"1\" opacity=\"1\"/><line transform=\"translate(0,160)\" x2=\"720\" y2=\"0\" stroke=\"#ddd\" stroke-width=\"1\" opacity=\"1\"/><line transform=\"translate(0,120)\" x2=\"720\" y2=\"0\" stroke=\"#ddd\" stroke-width=\"1\" opacity=\"1\"/><line transform=\"translate(0,80)\" x2=\"720\" y2=\"0\" stroke=\"#ddd\" stroke-width=\"1\" opacity=\"1\"/><line transform=\"translate(0,40)\" x2=\"720\" y2=\"0\" stroke=\"#ddd\" stroke-width=\"1\" opacity=\"1\"/><line transform=\"translate(0,0)\" x2=\"720\" y2=\"0\" stroke=\"#ddd\" stroke-width=\"1\" opacity=\"1\"/></g></g><path class=\"foreground\" aria-hidden=\"true\" d=\"\" pointer-events=\"none\" display=\"none\"/></g></g><g class=\"mark-group role-axis\" role=\"graphics-symbol\" aria-roledescription=\"axis\" aria-label=\"X-axis titled 'year' for a discrete scale with 36 values: 2020, 2021, 2022, 2023, 2024, ending with 2055\"><g transform=\"translate(0.5,200.5)\"><path class=\"background\" aria-hidden=\"true\" d=\"M0,0h0v0h0Z\" pointer-events=\"none\"/><g><g class=\"mark-rule role-axis-tick\" pointer-events=\"none\"><line transform=\"translate(10,0)\" x2=\"0\" y2=\"5\" stroke=\"#888\" stroke-width=\"1\" opacity=\"1\"/><line transform=\"translate(30,0)\" x2=\"0\" y2=\"5\" stroke=\"#888\" stroke-width=\"1\" opacity=\"1\"/><line transform=\"translate(50,0)\" x2=\"0\" y2=\"5\" stroke=\"#888\" stroke-width=\"1\" opacity=\"1\"/><line transform=\"translate(70,0)\" x2=\"0\" y2=\"5\" stroke=\"#888\" stroke-width=\"1\" opacity=\"1\"/><line transform=\"translate(90,0)\" x2=\"0\" y2=\"5\" stroke=\"#888\" stroke-width=\"1\" opacity=\"1\"/><line transform=\"translate(110,0)\" x2=\"0\" y2=\"5\" stroke=\"#888\" stroke-width=\"1\" opacity=\"1\"/><line transform=\"translate(130,0)\" x2=\"0\" y2=\"5\" stroke=\"#888\" stroke-width=\"1\" opacity=\"1\"/><line transform=\"translate(150,0)\" x2=\"0\" y2=\"5\" stroke=\"#888\" stroke-width=\"1\" opacity=\"1\"/><line transform=\"translate(170,0)\" x2=\"0\" y2=\"5\" stroke=\"#888\" stroke-width=\"1\" opacity=\"1\"/><line transform=\"translate(190,0)\" x2=\"0\" y2=\"5\" stroke=\"#888\" stroke-width=\"1\" opacity=\"1\"/><line transform=\"translate(210,0)\" x2=\"0\" y2=\"5\" stroke=\"#888\" stroke-width=\"1\" opacity=\"1\"/><line transform=\"translate(230,0)\" x2=\"0\" y2=\"5\" stroke=\"#888\" stroke-width=\"1\" opacity=\"1\"/><line transform=\"translate(250,0)\" x2=\"0\" y2=\"5\" stroke=\"#888\" stroke-width=\"1\" opacity=\"1\"/><line transform=\"translate(270,0)\" x2=\"0\" y2=\"5\" stroke=\"#888\" stroke-width=\"1\" opacity=\"1\"/><line transform=\"translate(290,0)\" x2=\"0\" y2=\"5\" stroke=\"#888\" stroke-width=\"1\" opacity=\"1\"/><line transform=\"translate(310,0)\" x2=\"0\" y2=\"5\" stroke=\"#888\" stroke-width=\"1\" opacity=\"1\"/><line transform=\"translate(330,0)\" x2=\"0\" y2=\"5\" stroke=\"#888\" stroke-width=\"1\" opacity=\"1\"/><line transform=\"translate(350,0)\" x2=\"0\" y2=\"5\" stroke=\"#888\" stroke-width=\"1\" opacity=\"1\"/><line transform=\"translate(370,0)\" x2=\"0\" y2=\"5\" stroke=\"#888\" stroke-width=\"1\" opacity=\"1\"/><line transform=\"translate(390,0)\" x2=\"0\" y2=\"5\" stroke=\"#888\" stroke-width=\"1\" opacity=\"1\"/><line transform=\"translate(410,0)\" x2=\"0\" y2=\"5\" stroke=\"#888\" stroke-width=\"1\" opacity=\"1\"/><line transform=\"translate(430,0)\" x2=\"0\" y2=\"5\" stroke=\"#888\" stroke-width=\"1\" opacity=\"1\"/><line transform=\"translate(450,0)\" x2=\"0\" y2=\"5\" stroke=\"#888\" stroke-width=\"1\" opacity=\"1\"/><line transform=\"translate(470,0)\" x2=\"0\" y2=\"5\" stroke=\"#888\" stroke-width=\"1\" opacity=\"1\"/><line transform=\"translate(490,0)\" x2=\"0\" y2=\"5\" stroke=\"#888\" stroke-width=\"1\" opacity=\"1\"/><line transform=\"translate(510,0)\" x2=\"0\" y2=\"5\" stroke=\"#888\" stroke-width=\"1\" opacity=\"1\"/><line transform=\"translate(530,0)\" x2=\"0\" y2=\"5\" stroke=\"#888\" stroke-width=\"1\" opacity=\"1\"/><line transform=\"translate(550,0)\" x2=\"0\" y2=\"5\" stroke=\"#888\" stroke-width=\"1\" opacity=\"1\"/><line transform=\"translate(570,0)\" x2=\"0\" y2=\"5\" stroke=\"#888\" stroke-width=\"1\" opacity=\"1\"/><line transform=\"translate(590,0)\" x2=\"0\" y2=\"5\" stroke=\"#888\" stroke-width=\"1\" opacity=\"1\"/><line transform=\"translate(610,0)\" x2=\"0\" y2=\"5\" stroke=\"#888\" stroke-width=\"1\" opacity=\"1\"/><line transform=\"translate(630,0)\" x2=\"0\" y2=\"5\" stroke=\"#888\" stroke-width=\"1\" opacity=\"1\"/><line transform=\"translate(650,0)\" x2=\"0\" y2=\"5\" stroke=\"#888\" stroke-width=\"1\" opacity=\"1\"/><line transform=\"translate(670,0)\" x2=\"0\" y2=\"5\" stroke=\"#888\" stroke-width=\"1\" opacity=\"1\"/><line transform=\"translate(690,0)\" x2=\"0\" y2=\"5\" stroke=\"#888\" stroke-width=\"1\" opacity=\"1\"/><line transform=\"translate(710,0)\" x2=\"0\" y2=\"5\" stroke=\"#888\" stroke-width=\"1\" opacity=\"1\"/></g><g class=\"mark-text role-axis-label\" pointer-events=\"none\"><text text-anchor=\"end\" transform=\"translate(10,7) rotate(270) translate(0,3)\" font-family=\"sans-serif\" font-size=\"10px\" fill=\"#000\" opacity=\"1\">2020</text><text text-anchor=\"end\" transform=\"translate(30,7) rotate(270) translate(0,3)\" font-family=\"sans-serif\" font-size=\"10px\" fill=\"#000\" opacity=\"1\">2021</text><text text-anchor=\"end\" transform=\"translate(50,7) rotate(270) translate(0,3)\" font-family=\"sans-serif\" font-size=\"10px\" fill=\"#000\" opacity=\"1\">2022</text><text text-anchor=\"end\" transform=\"translate(70,7) rotate(270) translate(0,3)\" font-family=\"sans-serif\" font-size=\"10px\" fill=\"#000\" opacity=\"1\">2023</text><text text-anchor=\"end\" transform=\"translate(90,7) rotate(270) translate(0,3)\" font-family=\"sans-serif\" font-size=\"10px\" fill=\"#000\" opacity=\"1\">2024</text><text text-anchor=\"end\" transform=\"translate(110,7) rotate(270) translate(0,3)\" font-family=\"sans-serif\" font-size=\"10px\" fill=\"#000\" opacity=\"1\">2025</text><text text-anchor=\"end\" transform=\"translate(130,7) rotate(270) translate(0,3)\" font-family=\"sans-serif\" font-size=\"10px\" fill=\"#000\" opacity=\"1\">2026</text><text text-anchor=\"end\" transform=\"translate(150,7) rotate(270) translate(0,3)\" font-family=\"sans-serif\" font-size=\"10px\" fill=\"#000\" opacity=\"1\">2027</text><text text-anchor=\"end\" transform=\"translate(170,7) rotate(270) translate(0,3)\" font-family=\"sans-serif\" font-size=\"10px\" fill=\"#000\" opacity=\"1\">2028</text><text text-anchor=\"end\" transform=\"translate(190,7) rotate(270) translate(0,3)\" font-family=\"sans-serif\" font-size=\"10px\" fill=\"#000\" opacity=\"1\">2029</text><text text-anchor=\"end\" transform=\"translate(210,7) rotate(270) translate(0,3)\" font-family=\"sans-serif\" font-size=\"10px\" fill=\"#000\" opacity=\"1\">2030</text><text text-anchor=\"end\" transform=\"translate(230,7) rotate(270) translate(0,3)\" font-family=\"sans-serif\" font-size=\"10px\" fill=\"#000\" opacity=\"1\">2031</text><text text-anchor=\"end\" transform=\"translate(250,7) rotate(270) translate(0,3)\" font-family=\"sans-serif\" font-size=\"10px\" fill=\"#000\" opacity=\"1\">2032</text><text text-anchor=\"end\" transform=\"translate(270,7) rotate(270) translate(0,3)\" font-family=\"sans-serif\" font-size=\"10px\" fill=\"#000\" opacity=\"1\">2033</text><text text-anchor=\"end\" transform=\"translate(290,7) rotate(270) translate(0,3)\" font-family=\"sans-serif\" font-size=\"10px\" fill=\"#000\" opacity=\"1\">2034</text><text text-anchor=\"end\" transform=\"translate(310,7) rotate(270) translate(0,3)\" font-family=\"sans-serif\" font-size=\"10px\" fill=\"#000\" opacity=\"1\">2035</text><text text-anchor=\"end\" transform=\"translate(330,7) rotate(270) translate(0,3)\" font-family=\"sans-serif\" font-size=\"10px\" fill=\"#000\" opacity=\"1\">2036</text><text text-anchor=\"end\" transform=\"translate(350,7) rotate(270) translate(0,3)\" font-family=\"sans-serif\" font-size=\"10px\" fill=\"#000\" opacity=\"1\">2037</text><text text-anchor=\"end\" transform=\"translate(370,7) rotate(270) translate(0,3)\" font-family=\"sans-serif\" font-size=\"10px\" fill=\"#000\" opacity=\"1\">2038</text><text text-anchor=\"end\" transform=\"translate(390,7) rotate(270) translate(0,3)\" font-family=\"sans-serif\" font-size=\"10px\" fill=\"#000\" opacity=\"1\">2039</text><text text-anchor=\"end\" transform=\"translate(410,7) rotate(270) translate(0,3)\" font-family=\"sans-serif\" font-size=\"10px\" fill=\"#000\" opacity=\"1\">2040</text><text text-anchor=\"end\" transform=\"translate(430,7) rotate(270) translate(0,3)\" font-family=\"sans-serif\" font-size=\"10px\" fill=\"#000\" opacity=\"1\">2041</text><text text-anchor=\"end\" transform=\"translate(450,7) rotate(270) translate(0,3)\" font-family=\"sans-serif\" font-size=\"10px\" fill=\"#000\" opacity=\"1\">2042</text><text text-anchor=\"end\" transform=\"translate(470,7) rotate(270) translate(0,3)\" font-family=\"sans-serif\" font-size=\"10px\" fill=\"#000\" opacity=\"1\">2043</text><text text-anchor=\"end\" transform=\"translate(490,7) rotate(270) translate(0,3)\" font-family=\"sans-serif\" font-size=\"10px\" fill=\"#000\" opacity=\"1\">2044</text><text text-anchor=\"end\" transform=\"translate(510,7) rotate(270) translate(0,3)\" font-family=\"sans-serif\" font-size=\"10px\" fill=\"#000\" opacity=\"1\">2045</text><text text-anchor=\"end\" transform=\"translate(530,7) rotate(270) translate(0,3)\" font-family=\"sans-serif\" font-size=\"10px\" fill=\"#000\" opacity=\"1\">2046</text><text text-anchor=\"end\" transform=\"translate(550,7) rotate(270) translate(0,3)\" font-family=\"sans-serif\" font-size=\"10px\" fill=\"#000\" opacity=\"1\">2047</text><text text-anchor=\"end\" transform=\"translate(570,7) rotate(270) translate(0,3)\" font-family=\"sans-serif\" font-size=\"10px\" fill=\"#000\" opacity=\"1\">2048</text><text text-anchor=\"end\" transform=\"translate(590,7) rotate(270) translate(0,3)\" font-family=\"sans-serif\" font-size=\"10px\" fill=\"#000\" opacity=\"1\">2049</text><text text-anchor=\"end\" transform=\"translate(610,7) rotate(270) translate(0,3)\" font-family=\"sans-serif\" font-size=\"10px\" fill=\"#000\" opacity=\"1\">2050</text><text text-anchor=\"end\" transform=\"translate(630,7) rotate(270) translate(0,3)\" font-family=\"sans-serif\" font-size=\"10px\" fill=\"#000\" opacity=\"1\">2051</text><text text-anchor=\"end\" transform=\"translate(650,7) rotate(270) translate(0,3)\" font-family=\"sans-serif\" font-size=\"10px\" fill=\"#000\" opacity=\"1\">2052</text><text text-anchor=\"end\" transform=\"translate(670,7) rotate(270) translate(0,3)\" font-family=\"sans-serif\" font-size=\"10px\" fill=\"#000\" opacity=\"1\">2053</text><text text-anchor=\"end\" transform=\"translate(690,7) rotate(270) translate(0,3)\" font-family=\"sans-serif\" font-size=\"10px\" fill=\"#000\" opacity=\"1\">2054</text><text text-anchor=\"end\" transform=\"translate(710,7) rotate(270) translate(0,3)\" font-family=\"sans-serif\" font-size=\"10px\" fill=\"#000\" opacity=\"1\">2055</text></g><g class=\"mark-rule role-axis-domain\" pointer-events=\"none\"><line transform=\"translate(0,0)\" x2=\"720\" y2=\"0\" stroke=\"#888\" stroke-width=\"1\" opacity=\"1\"/></g><g class=\"mark-text role-axis-title\" pointer-events=\"none\"><text text-anchor=\"middle\" transform=\"translate(360,44)\" font-family=\"sans-serif\" font-size=\"11px\" font-weight=\"bold\" fill=\"#000\" opacity=\"1\">year</text></g></g><path class=\"foreground\" aria-hidden=\"true\" d=\"\" pointer-events=\"none\" display=\"none\"/></g></g><g class=\"mark-group role-axis\" role=\"graphics-symbol\" aria-roledescription=\"axis\" aria-label=\"Y-axis titled 'Value-chain adopted (%)' for a linear scale with values from 0 to 100\"><g transform=\"translate(0.5,0.5)\"><path class=\"background\" aria-hidden=\"true\" d=\"M0,0h0v0h0Z\" pointer-events=\"none\"/><g><g class=\"mark-rule role-axis-tick\" pointer-events=\"none\"><line transform=\"translate(0,200)\" x2=\"-5\" y2=\"0\" stroke=\"#888\" stroke-width=\"1\" opacity=\"1\"/><line transform=\"translate(0,160)\" x2=\"-5\" y2=\"0\" stroke=\"#888\" stroke-width=\"1\" opacity=\"1\"/><line transform=\"translate(0,120)\" x2=\"-5\" y2=\"0\" stroke=\"#888\" stroke-width=\"1\" opacity=\"1\"/><line transform=\"translate(0,80)\" x2=\"-5\" y2=\"0\" stroke=\"#888\" stroke-width=\"1\" opacity=\"1\"/><line transform=\"translate(0,40)\" x2=\"-5\" y2=\"0\" stroke=\"#888\" stroke-width=\"1\" opacity=\"1\"/><line transform=\"translate(0,0)\" x2=\"-5\" y2=\"0\" stroke=\"#888\" stroke-width=\"1\" opacity=\"1\"/></g><g class=\"mark-text role-axis-label\" pointer-events=\"none\"><text text-anchor=\"end\" transform=\"translate(-7,203)\" font-family=\"sans-serif\" font-size=\"10px\" fill=\"#000\" opacity=\"1\">0</text><text text-anchor=\"end\" transform=\"translate(-7,163)\" font-family=\"sans-serif\" font-size=\"10px\" fill=\"#000\" opacity=\"1\">20</text><text text-anchor=\"end\" transform=\"translate(-7,123)\" font-family=\"sans-serif\" font-size=\"10px\" fill=\"#000\" opacity=\"1\">40</text><text text-anchor=\"end\" transform=\"translate(-7,83)\" font-family=\"sans-serif\" font-size=\"10px\" fill=\"#000\" opacity=\"1\">60</text><text text-anchor=\"end\" transform=\"translate(-7,42.99999999999999)\" font-family=\"sans-serif\" font-size=\"10px\" fill=\"#000\" opacity=\"1\">80</text><text text-anchor=\"end\" transform=\"translate(-7,3)\" font-family=\"sans-serif\" font-size=\"10px\" fill=\"#000\" opacity=\"1\">100</text></g><g class=\"mark-rule role-axis-domain\" pointer-events=\"none\"><line transform=\"translate(0,200)\" x2=\"0\" y2=\"-200\" stroke=\"#888\" stroke-width=\"1\" opacity=\"1\"/></g><g class=\"mark-text role-axis-title\" pointer-events=\"none\"><text text-anchor=\"middle\" transform=\"translate(-29,100) rotate(-90) translate(0,-2)\" font-family=\"sans-serif\" font-size=\"11px\" font-weight=\"bold\" fill=\"#000\" opacity=\"1\">Value-chain adopted (%)</text></g></g><path class=\"foreground\" aria-hidden=\"true\" d=\"\" pointer-events=\"none\" display=\"none\"/></g></g><g class=\"mark-group role-scope pathgroup\" role=\"graphics-object\" aria-roledescription=\"group mark container\"><g transform=\"translate(0,0)\"><path class=\"background\" aria-hidden=\"true\" d=\"M0,0h720v200h-720Z\"/><g><g class=\"mark-area role-mark marks\" role=\"graphics-object\" aria-roledescription=\"area mark container\"><path aria-label=\"year: 2020; Value-chain adopted (%): 100; variable: Conv\" role=\"graphics-symbol\" aria-roledescription=\"area mark\" d=\"M10,0L30,0L50,0L70,0L90,0L110,0L130,0L150,0L170,0L190,0L210,0L230,0L250,0L270,0L290,0L310,0L330,0L350,0L370,0L390,0L410,0L430,0L450,0L470,0L490,0L510,0L530,0L550,0L570,0L590,0L610,0L630,0L650,0L670,0L690,0L710,0L710,0L690,0L670,0L650,0L630,0L610,0L590,0L570,0L550,0L530,0L510,0L490,0L470,0L450,0L430,0L410,0L390,0L370,0L350,0L330,0L310,0L290,0L270,0L250,0L230,0L210,0L190,0L170,0L150,0L130,0L110,0L90,0L70,0L50,0L30,0L10,200Z\" fill=\"#4c78a8\"/></g></g><path class=\"foreground\" aria-hidden=\"true\" d=\"\" display=\"none\"/></g><g transform=\"translate(0,0)\"><path class=\"background\" aria-hidden=\"true\" d=\"M0,0h720v200h-720Z\"/><g><g class=\"mark-area role-mark marks\" role=\"graphics-object\" aria-roledescription=\"area mark container\"><path aria-label=\"year: 2020; Value-chain adopted (%): 0; variable: LABS12\" role=\"graphics-symbol\" aria-roledescription=\"area mark\" d=\"M10,200L30,0L50,0L70,0L90,0L110,0L130,0L150,0L170,0L190,0L210,0L230,0L250,0L270,0L290,0L310,0L330,0L350,0L370,0L390,0L410,0L430,0L450,0L470,0L490,0L510,0L530,0L550,0L570,0L590,0L610,0L630,0L650,0L670,0L690,0L710,0L710,0L690,0L670,0L650,0L630,0L610,0L590,0L570,0L550,0L530,0L510,0L490,110.29357570585003L470,110.29357570585003L450,110.29357570585003L430,110.29357570585003L410,110.29357570585003L390,0L370,0L350,0L330,0L310,0L290,110.29357570584017L270,110.29357570584017L250,110.29357570584017L230,110.29357570584017L210,110.29357570584017L190,0L170,0L150,0L130,0L110,0L90,0L70,0L50,0L30,0L10,200Z\" fill=\"#f58518\"/></g></g><path class=\"foreground\" aria-hidden=\"true\" d=\"\" display=\"none\"/></g><g transform=\"translate(0,0)\"><path class=\"background\" aria-hidden=\"true\" d=\"M0,0h720v200h-720Z\"/><g><g class=\"mark-area role-mark marks\" role=\"graphics-object\" aria-roledescription=\"area mark container\"><path aria-label=\"year: 2020; Value-chain adopted (%): 0; variable: LABS13\" role=\"graphics-symbol\" aria-roledescription=\"area mark\" d=\"M10,200L30,0L50,0L70,0L90,0L110,0L130,0L150,0L170,0L190,0L210,110.29357570584017L230,110.29357570584017L250,110.29357570584017L270,110.29357570584017L290,110.29357570584017L310,0L330,0L350,0L370,0L390,0L410,110.29357570585003L430,110.29357570585003L450,110.29357570585003L470,110.29357570585003L490,110.29357570585003L510,0L530,0L550,0L570,0L590,0L610,0L630,0L650,0L670,0L690,0L710,0L710,0L690,0L670,0L650,0L630,0L610,0L590,0L570,0L550,0L530,0L510,0L490,110.29357570585003L470,110.29357570585003L450,110.29357570585003L430,110.29357570585003L410,110.29357570585003L390,0L370,0L350,0L330,0L310,0L290,110.29357570584017L270,110.29357570584017L250,110.29357570584017L230,110.29357570584017L210,110.29357570584017L190,0L170,0L150,0L130,0L110,0L90,200L70,200L50,200L30,200L10,200Z\" fill=\"#e45756\"/></g></g><path class=\"foreground\" aria-hidden=\"true\" d=\"\" display=\"none\"/></g><g transform=\"translate(0,0)\"><path class=\"background\" aria-hidden=\"true\" d=\"M0,0h720v200h-720Z\"/><g><g class=\"mark-area role-mark marks\" role=\"graphics-object\" aria-roledescription=\"area mark container\"><path aria-label=\"year: 2020; Value-chain adopted (%): 0; variable: LABS27\" role=\"graphics-symbol\" aria-roledescription=\"area mark\" d=\"M10,200L30,200L50,200L70,200L90,200L110,0L130,0L150,0L170,0L190,0L210,110.29357570584017L230,110.29357570584017L250,110.29357570584017L270,110.29357570584017L290,110.29357570584017L310,0L330,0L350,0L370,0L390,0L410,110.29357570585003L430,110.29357570585003L450,110.29357570585003L470,110.29357570585003L490,110.29357570585003L510,0L530,0L550,0L570,0L590,0L610,0L630,0L650,0L670,0L690,0L710,0L710,132.40324381606635L690,132.40324381606635L670,132.40324381606635L650,132.40324381606635L630,132.40324381606635L610,132.40324381606635L590,132.40324381606635L570,132.40324381606635L550,132.40324381606635L530,132.40324381606635L510,132.40324381606635L490,110.29357570585003L470,110.29357570585003L450,110.29357570585003L430,110.29357570585003L410,110.29357570585003L390,109.63048281280092L370,109.63048281280092L350,109.63048281280092L330,109.63048281280092L310,109.63048281280092L290,110.29357570584017L270,110.29357570584017L250,110.29357570584017L230,110.29357570584017L210,110.29357570584017L190,0L170,0L150,0L130,0L110,0L90,200L70,200L50,200L30,200L10,200Z\" fill=\"#54a24b\"/></g></g><path class=\"foreground\" aria-hidden=\"true\" d=\"\" display=\"none\"/></g><g transform=\"translate(0,0)\"><path class=\"background\" aria-hidden=\"true\" d=\"M0,0h720v200h-720Z\"/><g><g class=\"mark-area role-mark marks\" role=\"graphics-object\" aria-roledescription=\"area mark container\"><path aria-label=\"year: 2020; Value-chain adopted (%): 0; variable: RecyclPLA2\" role=\"graphics-symbol\" aria-roledescription=\"area mark\" d=\"M10,200L30,200L50,200L70,200L90,200L110,0L130,0L150,0L170,0L190,0L210,110.29357570584017L230,110.29357570584017L250,110.29357570584017L270,110.29357570584017L290,110.29357570584017L310,109.63048281280092L330,109.63048281280092L350,109.63048281280092L370,109.63048281280092L390,109.63048281280092L410,110.29357570585003L430,110.29357570585003L450,110.29357570585003L470,110.29357570585003L490,110.29357570585003L510,132.40324381606635L530,132.40324381606635L550,132.40324381606635L570,132.40324381606635L590,132.40324381606635L610,132.40324381606635L630,132.40324381606635L650,132.40324381606635L670,132.40324381606635L690,132.40324381606635L710,132.40324381606635L710,132.40324381606635L690,132.40324381606635L670,132.40324381606635L650,132.40324381606635L630,132.40324381606635L610,132.40324381606635L590,132.40324381606635L570,132.40324381606635L550,132.40324381606635L530,132.40324381606635L510,132.40324381606635L490,110.29357570585003L470,110.29357570585003L450,110.29357570585003L430,110.29357570585003L410,110.29357570585003L390,109.63048281280092L370,109.63048281280092L350,109.63048281280092L330,109.63048281280092L310,109.63048281280092L290,110.29357570584017L270,110.29357570584017L250,110.29357570584017L230,110.29357570584017L210,110.29357570584017L190,200L170,200L150,200L130,200L110,200L90,200L70,200L50,200L30,200L10,200Z\" fill=\"#eeca3b\"/></g></g><path class=\"foreground\" aria-hidden=\"true\" d=\"\" display=\"none\"/></g><g transform=\"translate(0,0)\"><path class=\"background\" aria-hidden=\"true\" d=\"M0,0h720v200h-720Z\"/><g><g class=\"mark-area role-mark marks\" role=\"graphics-object\" aria-roledescription=\"area mark container\"><path aria-label=\"year: 2020; Value-chain adopted (%): 0; variable: RecyclPLA4\" role=\"graphics-symbol\" aria-roledescription=\"area mark\" d=\"M10,200L30,200L50,200L70,200L90,200L110,200L130,200L150,200L170,200L190,200L210,110.29357570584017L230,110.29357570584017L250,110.29357570584017L270,110.29357570584017L290,110.29357570584017L310,109.63048281280092L330,109.63048281280092L350,109.63048281280092L370,109.63048281280092L390,109.63048281280092L410,110.29357570585003L430,110.29357570585003L450,110.29357570585003L470,110.29357570585003L490,110.29357570585003L510,132.40324381606635L530,132.40324381606635L550,132.40324381606635L570,132.40324381606635L590,132.40324381606635L610,132.40324381606635L630,132.40324381606635L650,132.40324381606635L670,132.40324381606635L690,132.40324381606635L710,132.40324381606635L710,200L690,200L670,200L650,200L630,200L610,200L590,200L570,200L550,200L530,200L510,200L490,110.29357570585003L470,110.29357570585003L450,110.29357570585003L430,110.29357570585003L410,110.29357570585003L390,109.63048281280092L370,109.63048281280092L350,109.63048281280092L330,109.63048281280092L310,109.63048281280092L290,110.29357570584017L270,110.29357570584017L250,110.29357570584017L230,110.29357570584017L210,110.29357570584017L190,200L170,200L150,200L130,200L110,200L90,200L70,200L50,200L30,200L10,200Z\" fill=\"#b279a2\"/></g></g><path class=\"foreground\" aria-hidden=\"true\" d=\"\" display=\"none\"/></g><g transform=\"translate(0,0)\"><path class=\"background\" aria-hidden=\"true\" d=\"M0,0h720v200h-720Z\"/><g><g class=\"mark-area role-mark marks\" role=\"graphics-object\" aria-roledescription=\"area mark container\"><path aria-label=\"year: 2020; Value-chain adopted (%): 0; variable: RecyclPLA5\" role=\"graphics-symbol\" aria-roledescription=\"area mark\" d=\"M10,200L30,200L50,200L70,200L90,200L110,200L130,200L150,200L170,200L190,200L210,110.29357570584017L230,110.29357570584017L250,110.29357570584017L270,110.29357570584017L290,110.29357570584017L310,109.63048281280092L330,109.63048281280092L350,109.63048281280092L370,109.63048281280092L390,109.63048281280092L410,110.29357570585003L430,110.29357570585003L450,110.29357570585003L470,110.29357570585003L490,110.29357570585003L510,200L530,200L550,200L570,200L590,200L610,200L630,200L650,200L670,200L690,200L710,200L710,200L690,200L670,200L650,200L630,200L610,200L590,200L570,200L550,200L530,200L510,200L490,110.29357570585003L470,110.29357570585003L450,110.29357570585003L430,110.29357570585003L410,110.29357570585003L390,200L370,200L350,200L330,200L310,200L290,110.29357570584017L270,110.29357570584017L250,110.29357570584017L230,110.29357570584017L210,110.29357570584017L190,200L170,200L150,200L130,200L110,200L90,200L70,200L50,200L30,200L10,200Z\" fill=\"#ff9da6\"/></g></g><path class=\"foreground\" aria-hidden=\"true\" d=\"\" display=\"none\"/></g><g transform=\"translate(0,0)\"><path class=\"background\" aria-hidden=\"true\" d=\"M0,0h720v200h-720Z\"/><g><g class=\"mark-area role-mark marks\" role=\"graphics-object\" aria-roledescription=\"area mark container\"><path aria-label=\"year: 2020; Value-chain adopted (%): 0; variable: RecyclPLA6\" role=\"graphics-symbol\" aria-roledescription=\"area mark\" d=\"M10,200L30,200L50,200L70,200L90,200L110,200L130,200L150,200L170,200L190,200L210,110.29357570584017L230,110.29357570584017L250,110.29357570584017L270,110.29357570584017L290,110.29357570584017L310,200L330,200L350,200L370,200L390,200L410,110.29357570585003L430,110.29357570585003L450,110.29357570585003L470,110.29357570585003L490,110.29357570585003L510,200L530,200L550,200L570,200L590,200L610,200L630,200L650,200L670,200L690,200L710,200L710,200L690,200L670,200L650,200L630,200L610,200L590,200L570,200L550,200L530,200L510,200L490,200L470,200L450,200L430,200L410,200L390,200L370,200L350,200L330,200L310,200L290,200L270,200L250,200L230,200L210,200L190,200L170,200L150,200L130,200L110,200L90,200L70,200L50,200L30,200L10,200Z\" fill=\"#9d755d\"/></g></g><path class=\"foreground\" aria-hidden=\"true\" d=\"\" display=\"none\"/></g><g transform=\"translate(0,0)\"><path class=\"background\" aria-hidden=\"true\" d=\"M0,0h720v200h-720Z\"/><g><g class=\"mark-area role-mark marks\" role=\"graphics-object\" aria-roledescription=\"area mark container\"><path aria-label=\"year: 2020; Value-chain adopted (%): 0; variable: LABS22\" role=\"graphics-symbol\" aria-roledescription=\"area mark\" d=\"M10,200L30,200L50,200L70,200L90,200L110,0L130,0L150,0L170,0L190,0L210,110.29357570584017L230,110.29357570584017L250,110.29357570584017L270,110.29357570584017L290,110.29357570584017L310,0L330,0L350,0L370,0L390,0L410,110.29357570585003L430,110.29357570585003L450,110.29357570585003L470,110.29357570585003L490,110.29357570585003L510,0L530,0L550,0L570,0L590,0L610,0L630,0L650,0L670,0L690,0L710,0L710,0L690,0L670,0L650,0L630,0L610,0L590,0L570,0L550,0L530,0L510,0L490,110.29357570585003L470,110.29357570585003L450,110.29357570585003L430,110.29357570585003L410,110.29357570585003L390,0L370,0L350,0L330,0L310,0L290,110.29357570584017L270,110.29357570584017L250,110.29357570584017L230,110.29357570584017L210,110.29357570584017L190,0L170,0L150,0L130,0L110,0L90,200L70,200L50,200L30,200L10,200Z\" fill=\"#72b7b2\"/></g></g><path class=\"foreground\" aria-hidden=\"true\" d=\"\" display=\"none\"/></g><g transform=\"translate(0,0)\"><path class=\"background\" aria-hidden=\"true\" d=\"M0,0h720v200h-720Z\"/><g><g class=\"mark-area role-mark marks\" role=\"graphics-object\" aria-roledescription=\"area mark container\"><path aria-label=\"year: 2020; Value-chain adopted (%): 0; variable: RecyclPLA7\" role=\"graphics-symbol\" aria-roledescription=\"area mark\" d=\"M10,200L30,200L50,200L70,200L90,200L110,200L130,200L150,200L170,200L190,200L210,200L230,200L250,200L270,200L290,200L310,200L330,200L350,200L370,200L390,200L410,200L430,200L450,200L470,200L490,200L510,200L530,200L550,200L570,200L590,200L610,200L630,200L650,200L670,200L690,200L710,200L710,200L690,200L670,200L650,200L630,200L610,200L590,200L570,200L550,200L530,200L510,200L490,200L470,200L450,200L430,200L410,200L390,200L370,200L350,200L330,200L310,200L290,200L270,200L250,200L230,200L210,200L190,200L170,200L150,200L130,200L110,200L90,200L70,200L50,200L30,200L10,200Z\" fill=\"#bab0ac\"/></g></g><path class=\"foreground\" aria-hidden=\"true\" d=\"\" display=\"none\"/></g></g><g class=\"mark-group role-legend\" role=\"graphics-symbol\" aria-roledescription=\"legend\" aria-label=\"Symbol legend titled 'variable' for fill color with 10 values: Conv, LABS12, LABS13, LABS22, LABS27, ending with RecyclPLA7\"><g transform=\"translate(738,0)\"><path class=\"background\" aria-hidden=\"true\" d=\"M0,0h75v144h-75Z\" pointer-events=\"none\"/><g><g class=\"mark-group role-legend-entry\"><g transform=\"translate(0,16)\"><path class=\"background\" aria-hidden=\"true\" d=\"M0,0h0v0h0Z\" pointer-events=\"none\"/><g><g class=\"mark-group role-scope\" role=\"graphics-object\" aria-roledescription=\"group mark container\"><g transform=\"translate(0,0)\"><path class=\"background\" aria-hidden=\"true\" d=\"M0,0h75v11h-75Z\" pointer-events=\"none\" opacity=\"1\"/><g><g class=\"mark-symbol role-legend-symbol\" pointer-events=\"none\"><path transform=\"translate(6,6)\" d=\"M5,0A5,5,0,1,1,-5,0A5,5,0,1,1,5,0\" fill=\"#4c78a8\" stroke-width=\"1.5\" opacity=\"1\"/></g><g class=\"mark-text role-legend-label\" pointer-events=\"none\"><text text-anchor=\"start\" transform=\"translate(16,9)\" font-family=\"sans-serif\" font-size=\"10px\" fill=\"#000\" opacity=\"1\">Conv</text></g></g><path class=\"foreground\" aria-hidden=\"true\" d=\"\" pointer-events=\"none\" display=\"none\"/></g><g transform=\"translate(0,13)\"><path class=\"background\" aria-hidden=\"true\" d=\"M0,0h75v11h-75Z\" pointer-events=\"none\" opacity=\"1\"/><g><g class=\"mark-symbol role-legend-symbol\" pointer-events=\"none\"><path transform=\"translate(6,6)\" d=\"M5,0A5,5,0,1,1,-5,0A5,5,0,1,1,5,0\" fill=\"#f58518\" stroke-width=\"1.5\" opacity=\"1\"/></g><g class=\"mark-text role-legend-label\" pointer-events=\"none\"><text text-anchor=\"start\" transform=\"translate(16,9)\" font-family=\"sans-serif\" font-size=\"10px\" fill=\"#000\" opacity=\"1\">LABS12</text></g></g><path class=\"foreground\" aria-hidden=\"true\" d=\"\" pointer-events=\"none\" display=\"none\"/></g><g transform=\"translate(0,26)\"><path class=\"background\" aria-hidden=\"true\" d=\"M0,0h75v11h-75Z\" pointer-events=\"none\" opacity=\"1\"/><g><g class=\"mark-symbol role-legend-symbol\" pointer-events=\"none\"><path transform=\"translate(6,6)\" d=\"M5,0A5,5,0,1,1,-5,0A5,5,0,1,1,5,0\" fill=\"#e45756\" stroke-width=\"1.5\" opacity=\"1\"/></g><g class=\"mark-text role-legend-label\" pointer-events=\"none\"><text text-anchor=\"start\" transform=\"translate(16,9)\" font-family=\"sans-serif\" font-size=\"10px\" fill=\"#000\" opacity=\"1\">LABS13</text></g></g><path class=\"foreground\" aria-hidden=\"true\" d=\"\" pointer-events=\"none\" display=\"none\"/></g><g transform=\"translate(0,39)\"><path class=\"background\" aria-hidden=\"true\" d=\"M0,0h75v11h-75Z\" pointer-events=\"none\" opacity=\"1\"/><g><g class=\"mark-symbol role-legend-symbol\" pointer-events=\"none\"><path transform=\"translate(6,6)\" d=\"M5,0A5,5,0,1,1,-5,0A5,5,0,1,1,5,0\" fill=\"#72b7b2\" stroke-width=\"1.5\" opacity=\"1\"/></g><g class=\"mark-text role-legend-label\" pointer-events=\"none\"><text text-anchor=\"start\" transform=\"translate(16,9)\" font-family=\"sans-serif\" font-size=\"10px\" fill=\"#000\" opacity=\"1\">LABS22</text></g></g><path class=\"foreground\" aria-hidden=\"true\" d=\"\" pointer-events=\"none\" display=\"none\"/></g><g transform=\"translate(0,52)\"><path class=\"background\" aria-hidden=\"true\" d=\"M0,0h75v11h-75Z\" pointer-events=\"none\" opacity=\"1\"/><g><g class=\"mark-symbol role-legend-symbol\" pointer-events=\"none\"><path transform=\"translate(6,6)\" d=\"M5,0A5,5,0,1,1,-5,0A5,5,0,1,1,5,0\" fill=\"#54a24b\" stroke-width=\"1.5\" opacity=\"1\"/></g><g class=\"mark-text role-legend-label\" pointer-events=\"none\"><text text-anchor=\"start\" transform=\"translate(16,9)\" font-family=\"sans-serif\" font-size=\"10px\" fill=\"#000\" opacity=\"1\">LABS27</text></g></g><path class=\"foreground\" aria-hidden=\"true\" d=\"\" pointer-events=\"none\" display=\"none\"/></g><g transform=\"translate(0,65)\"><path class=\"background\" aria-hidden=\"true\" d=\"M0,0h75v11h-75Z\" pointer-events=\"none\" opacity=\"1\"/><g><g class=\"mark-symbol role-legend-symbol\" pointer-events=\"none\"><path transform=\"translate(6,6)\" d=\"M5,0A5,5,0,1,1,-5,0A5,5,0,1,1,5,0\" fill=\"#eeca3b\" stroke-width=\"1.5\" opacity=\"1\"/></g><g class=\"mark-text role-legend-label\" pointer-events=\"none\"><text text-anchor=\"start\" transform=\"translate(16,9)\" font-family=\"sans-serif\" font-size=\"10px\" fill=\"#000\" opacity=\"1\">RecyclPLA2</text></g></g><path class=\"foreground\" aria-hidden=\"true\" d=\"\" pointer-events=\"none\" display=\"none\"/></g><g transform=\"translate(0,78)\"><path class=\"background\" aria-hidden=\"true\" d=\"M0,0h75v11h-75Z\" pointer-events=\"none\" opacity=\"1\"/><g><g class=\"mark-symbol role-legend-symbol\" pointer-events=\"none\"><path transform=\"translate(6,6)\" d=\"M5,0A5,5,0,1,1,-5,0A5,5,0,1,1,5,0\" fill=\"#b279a2\" stroke-width=\"1.5\" opacity=\"1\"/></g><g class=\"mark-text role-legend-label\" pointer-events=\"none\"><text text-anchor=\"start\" transform=\"translate(16,9)\" font-family=\"sans-serif\" font-size=\"10px\" fill=\"#000\" opacity=\"1\">RecyclPLA4</text></g></g><path class=\"foreground\" aria-hidden=\"true\" d=\"\" pointer-events=\"none\" display=\"none\"/></g><g transform=\"translate(0,91)\"><path class=\"background\" aria-hidden=\"true\" d=\"M0,0h75v11h-75Z\" pointer-events=\"none\" opacity=\"1\"/><g><g class=\"mark-symbol role-legend-symbol\" pointer-events=\"none\"><path transform=\"translate(6,6)\" d=\"M5,0A5,5,0,1,1,-5,0A5,5,0,1,1,5,0\" fill=\"#ff9da6\" stroke-width=\"1.5\" opacity=\"1\"/></g><g class=\"mark-text role-legend-label\" pointer-events=\"none\"><text text-anchor=\"start\" transform=\"translate(16,9)\" font-family=\"sans-serif\" font-size=\"10px\" fill=\"#000\" opacity=\"1\">RecyclPLA5</text></g></g><path class=\"foreground\" aria-hidden=\"true\" d=\"\" pointer-events=\"none\" display=\"none\"/></g><g transform=\"translate(0,104)\"><path class=\"background\" aria-hidden=\"true\" d=\"M0,0h75v11h-75Z\" pointer-events=\"none\" opacity=\"1\"/><g><g class=\"mark-symbol role-legend-symbol\" pointer-events=\"none\"><path transform=\"translate(6,6)\" d=\"M5,0A5,5,0,1,1,-5,0A5,5,0,1,1,5,0\" fill=\"#9d755d\" stroke-width=\"1.5\" opacity=\"1\"/></g><g class=\"mark-text role-legend-label\" pointer-events=\"none\"><text text-anchor=\"start\" transform=\"translate(16,9)\" font-family=\"sans-serif\" font-size=\"10px\" fill=\"#000\" opacity=\"1\">RecyclPLA6</text></g></g><path class=\"foreground\" aria-hidden=\"true\" d=\"\" pointer-events=\"none\" display=\"none\"/></g><g transform=\"translate(0,117)\"><path class=\"background\" aria-hidden=\"true\" d=\"M0,0h75v11h-75Z\" pointer-events=\"none\" opacity=\"1\"/><g><g class=\"mark-symbol role-legend-symbol\" pointer-events=\"none\"><path transform=\"translate(6,6)\" d=\"M5,0A5,5,0,1,1,-5,0A5,5,0,1,1,5,0\" fill=\"#bab0ac\" stroke-width=\"1.5\" opacity=\"1\"/></g><g class=\"mark-text role-legend-label\" pointer-events=\"none\"><text text-anchor=\"start\" transform=\"translate(16,9)\" font-family=\"sans-serif\" font-size=\"10px\" fill=\"#000\" opacity=\"1\">RecyclPLA7</text></g></g><path class=\"foreground\" aria-hidden=\"true\" d=\"\" pointer-events=\"none\" display=\"none\"/></g></g></g><path class=\"foreground\" aria-hidden=\"true\" d=\"\" pointer-events=\"none\" display=\"none\"/></g></g><g class=\"mark-text role-legend-title\" pointer-events=\"none\"><text text-anchor=\"start\" transform=\"translate(0,9)\" font-family=\"sans-serif\" font-size=\"11px\" font-weight=\"bold\" fill=\"#000\" opacity=\"1\">variable</text></g></g><path class=\"foreground\" aria-hidden=\"true\" d=\"\" pointer-events=\"none\" display=\"none\"/></g></g></g><path class=\"foreground\" aria-hidden=\"true\" d=\"\" display=\"none\"/></g></g></g></svg>\n"
      ],
      "text/plain": [
       "@vlplot(\n",
       "    legend=\"sNames\",\n",
       "    mark=\"area\",\n",
       "    encoding={\n",
       "        x={\n",
       "            field=\"year\"\n",
       "        },\n",
       "        y={\n",
       "            stack=\"zero\",\n",
       "            title=\"Value-chain adopted (%)\",\n",
       "            field=\"value\"\n",
       "        },\n",
       "        color={\n",
       "            field=\"variable\",\n",
       "            type=\"nominal\"\n",
       "        }\n",
       "    },\n",
       "    data={\n",
       "        values=...\n",
       "    }\n",
       ")"
      ]
     },
     "execution_count": 60,
     "metadata": {},
     "output_type": "execute_result"
    }
   ],
   "source": [
    "#only for this result\n",
    "\n",
    "function conventional(i1,t)\n",
    "    if t==0\n",
    "        if mod(i1,5)≥mod(sum(round.(JuMP.values.(tk)[1:nrow(compromise),t+1];digits=2)),5) && sum(JuMP.values.(xk)[1:nrow(compromise),t+1]) > 0\n",
    "            return (1-sum(JuMP.values.(xk)[k,t+1] for k in 1:nrow(compromise)))\n",
    "        else\n",
    "            return 0\n",
    "        end\n",
    "    else\n",
    "        sum_xks_atT=0\n",
    "        for k1 in 1:nrow(compromise)\n",
    "            if mod(i1,5)≥mod(round(JuMP.values.(tk)[k1,t+1];digits=2),5) && sum(JuMP.values.(xk)[k1,t:t+1])>0 && t>0\n",
    "                sum_xks_atT+=JuMP.values.(xk)[k1,t+1]\n",
    "            else\n",
    "                sum_xks_atT+=JuMP.values.(xk)[k1,t]\n",
    "            end\n",
    "        end\n",
    "            \n",
    "        #if mod(i1,5)≥mod(round(sum(JuMP.values.(tk)[1:nrow(compromise),t+1]);digits=2),5) && sum(JuMP.values.(xk)[1:nrow(compromise),t:t+1])>0 && t>0\n",
    "        #    t=t+1\n",
    "        #end\n",
    "        #return (1-sum(JuMP.values.(xk)[k,t] for k in 1:nrow(compromise)))\n",
    "        return (1-sum_xks_atT)\n",
    "    end\n",
    "end\n",
    "\n",
    "function innovation(i1,k1,t)\n",
    "    if t==0 \n",
    "        if mod(i1,5)≥mod(round(JuMP.values.(tk)[k1,t+1];digits=2),5) && JuMP.values.(xk)[k1,t+1] > 0\n",
    "            t=1\n",
    "            return (sum(JuMP.values.(xk)[k,t] for k=k1:k1))            \n",
    "        else\n",
    "            return 0\n",
    "        end\n",
    "    end\n",
    "    if mod(i1,5)≥mod(round(JuMP.values.(tk)[k1,t+1];digits=2),5) && sum(JuMP.values.(xk)[k1,t:t+1])>0 && t>0\n",
    "        t=t+1\n",
    "    end\n",
    "    return sum(JuMP.values.(xk)[k,t] for k=k1:k1)\n",
    "end\n",
    "\n",
    "conv=zeros(51)\n",
    "\n",
    "conv[1]=100\n",
    "inn_co2=zeros(nrow(compromise),51)\n",
    "\n",
    "for k in 1:nrow(compromise)\n",
    "    inn_co2[k,1]=0\n",
    "end\n",
    "j=0\n",
    "for t in 2:51\n",
    "    if 0 ≤ t ≤ 5\n",
    "        j=0\n",
    "    elseif 6 ≤ t ≤ 10\n",
    "        j=1\n",
    "    elseif 6 ≤ t ≤ 10\n",
    "        j=2\n",
    "    elseif 11 ≤ t ≤ 15\n",
    "        j=3\n",
    "    elseif 16 ≤ t ≤ 20\n",
    "        j=4\n",
    "    elseif 21 ≤ t ≤ 25\n",
    "        j=5\n",
    "    else\n",
    "        j=6\n",
    "    end\n",
    "    \n",
    "    \n",
    "    \n",
    "    conv[t]=100*conventional(t,j)\n",
    "    for k in 1:nrow(compromise)\n",
    "        \n",
    "        inn_co2[k,t]=100*innovation(t,k,j)\n",
    "    end\n",
    "end\n",
    "#conv[1:5].=initial[1,3]\n",
    "\n",
    "sNames = [\"conv\",\"inn1\",\"inn2\",\"inn3\",\"inn4\",\"inn5\",\"inn6\",\"inn7\",\"inn8\",\"inn9\",\"inn10\"]\n",
    "xLabels = []\n",
    "for i in 2020:2070\n",
    "    push!(xLabels,string(i))\n",
    "end\n",
    "\n",
    "#df = DataFrame(year=xLabels, conv=conv, inn1=inn_co2[1,:],inn2=inn_co2[2,:],inn3=inn_co2[3,:],inn4=inn_co2[4,:],\n",
    "#        inn5=inn_co2[5,:],inn6=inn_co2[6,:],inn7=inn_co2[7,:],inn8=inn_co2[8,:],inn9=inn_co2[9,:],inn10=inn_co2[10,:])\n",
    "df = DataFrame(vcat(conv',inn_co2)',:auto)\n",
    "\n",
    "\n",
    "df=df[1:36,:]\n",
    "\n",
    "df=df[!, any.(>(0), eachcol(df))]\n",
    "df[!,:year]=xLabels[1:36]\n",
    "#rename!(df,[:x1,:x93,:x218,:x222] .=> [:Conv,:pyLDPE1,:alcPLA2,:alcPLA6])\n",
    "#df[!,:pyLDPE11]=zeros(36)\n",
    "rename!(df,[:x1] .=> [:Conv])\n",
    "df[!,:x104]=zeros(36)\n",
    "df[!,:x201]=zeros(36)\n",
    "\n",
    "rename!(df,[:x94,:x95,:x104,:x109,:x196,:x198,:x199,:x200,:x201] .=> [:LABS12,:LABS13,:LABS22,:LABS27,:RecyclPLA2,:RecyclPLA4,:RecyclPLA5,:RecyclPLA6,:RecyclPLA7])\n",
    "\n",
    "split_yearly=df |> stack |> @vlplot(:area, x=:year, y={:value, stack=:zero, title=\"Value-chain adopted (%)\"}, color=\"variable:n\",legend=:sNames) \n",
    "\n",
    "save(\"./result-case-roadmap/split_yearly.svg\", split_yearly)\n",
    "split_yearly\n",
    "\n"
   ]
  },
  {
   "cell_type": "code",
   "execution_count": 33,
   "id": "ffaef1be",
   "metadata": {},
   "outputs": [
    {
     "data": {
      "application/vnd.vegalite.v4+json": {
       "data": {
        "values": [
         {
          "value": 0,
          "variable": "x93",
          "year": 5
         },
         {
          "value": 0,
          "variable": "x93",
          "year": 10
         },
         {
          "value": 0,
          "variable": "x93",
          "year": 15
         },
         {
          "value": 0.5514678785292009,
          "variable": "x93",
          "year": 20
         },
         {
          "value": 0,
          "variable": "x93",
          "year": 25
         },
         {
          "value": 0.5514678785292502,
          "variable": "x93",
          "year": 30
         },
         {
          "value": 0,
          "variable": "x93",
          "year": 35
         },
         {
          "value": 0,
          "variable": "x93",
          "year": 0
         },
         {
          "value": 1,
          "variable": "x94",
          "year": 5
         },
         {
          "value": 0,
          "variable": "x94",
          "year": 10
         },
         {
          "value": 0,
          "variable": "x94",
          "year": 15
         },
         {
          "value": 0,
          "variable": "x94",
          "year": 20
         },
         {
          "value": 0,
          "variable": "x94",
          "year": 25
         },
         {
          "value": 0,
          "variable": "x94",
          "year": 30
         },
         {
          "value": 0,
          "variable": "x94",
          "year": 35
         },
         {
          "value": 0,
          "variable": "x94",
          "year": 0
         },
         {
          "value": 0,
          "variable": "x103",
          "year": 5
         },
         {
          "value": 0,
          "variable": "x103",
          "year": 10
         },
         {
          "value": 0.5311190564364692,
          "variable": "x103",
          "year": 15
         },
         {
          "value": 0,
          "variable": "x103",
          "year": 20
         },
         {
          "value": 0,
          "variable": "x103",
          "year": 25
         },
         {
          "value": 0,
          "variable": "x103",
          "year": 30
         },
         {
          "value": 0,
          "variable": "x103",
          "year": 35
         },
         {
          "value": 0,
          "variable": "x103",
          "year": 0
         },
         {
          "value": 0,
          "variable": "x108",
          "year": 5
         },
         {
          "value": 0,
          "variable": "x108",
          "year": 10
         },
         {
          "value": 0,
          "variable": "x108",
          "year": 15
         },
         {
          "value": 0,
          "variable": "x108",
          "year": 20
         },
         {
          "value": 0.5481524140640046,
          "variable": "x108",
          "year": 25
         },
         {
          "value": 0,
          "variable": "x108",
          "year": 30
         },
         {
          "value": 0.6620162190803317,
          "variable": "x108",
          "year": 35
         },
         {
          "value": 0,
          "variable": "x108",
          "year": 0
         },
         {
          "value": 0,
          "variable": "x195",
          "year": 5
         },
         {
          "value": 1,
          "variable": "x195",
          "year": 10
         },
         {
          "value": 0,
          "variable": "x195",
          "year": 15
         },
         {
          "value": 0,
          "variable": "x195",
          "year": 20
         },
         {
          "value": 0,
          "variable": "x195",
          "year": 25
         },
         {
          "value": 0,
          "variable": "x195",
          "year": 30
         },
         {
          "value": 0,
          "variable": "x195",
          "year": 35
         },
         {
          "value": 0,
          "variable": "x195",
          "year": 0
         },
         {
          "value": 0,
          "variable": "x197",
          "year": 5
         },
         {
          "value": 0,
          "variable": "x197",
          "year": 10
         },
         {
          "value": 0,
          "variable": "x197",
          "year": 15
         },
         {
          "value": 0,
          "variable": "x197",
          "year": 20
         },
         {
          "value": 0,
          "variable": "x197",
          "year": 25
         },
         {
          "value": 0,
          "variable": "x197",
          "year": 30
         },
         {
          "value": 0.3379837809196683,
          "variable": "x197",
          "year": 35
         },
         {
          "value": 0,
          "variable": "x197",
          "year": 0
         },
         {
          "value": 0,
          "variable": "x198",
          "year": 5
         },
         {
          "value": 0,
          "variable": "x198",
          "year": 10
         },
         {
          "value": 0,
          "variable": "x198",
          "year": 15
         },
         {
          "value": 0,
          "variable": "x198",
          "year": 20
         },
         {
          "value": 0.4518475859359954,
          "variable": "x198",
          "year": 25
         },
         {
          "value": 0,
          "variable": "x198",
          "year": 30
         },
         {
          "value": 0,
          "variable": "x198",
          "year": 35
         },
         {
          "value": 0,
          "variable": "x198",
          "year": 0
         },
         {
          "value": 0,
          "variable": "x199",
          "year": 5
         },
         {
          "value": 0,
          "variable": "x199",
          "year": 10
         },
         {
          "value": 0,
          "variable": "x199",
          "year": 15
         },
         {
          "value": 0.4485321214707991,
          "variable": "x199",
          "year": 20
         },
         {
          "value": 0,
          "variable": "x199",
          "year": 25
         },
         {
          "value": 0.44853212147074983,
          "variable": "x199",
          "year": 30
         },
         {
          "value": 0,
          "variable": "x199",
          "year": 35
         },
         {
          "value": 0,
          "variable": "x199",
          "year": 0
         },
         {
          "value": 0,
          "variable": "x200",
          "year": 5
         },
         {
          "value": 0,
          "variable": "x200",
          "year": 10
         },
         {
          "value": 0.46888094356353077,
          "variable": "x200",
          "year": 15
         },
         {
          "value": 0,
          "variable": "x200",
          "year": 20
         },
         {
          "value": 0,
          "variable": "x200",
          "year": 25
         },
         {
          "value": 0,
          "variable": "x200",
          "year": 30
         },
         {
          "value": 0,
          "variable": "x200",
          "year": 35
         },
         {
          "value": 0,
          "variable": "x200",
          "year": 0
         },
         {
          "value": 0,
          "variable": "Conv",
          "year": 5
         },
         {
          "value": 0,
          "variable": "Conv",
          "year": 10
         },
         {
          "value": 0,
          "variable": "Conv",
          "year": 15
         },
         {
          "value": 0,
          "variable": "Conv",
          "year": 20
         },
         {
          "value": 0,
          "variable": "Conv",
          "year": 25
         },
         {
          "value": 0,
          "variable": "Conv",
          "year": 30
         },
         {
          "value": 0,
          "variable": "Conv",
          "year": 35
         },
         {
          "value": 1,
          "variable": "Conv",
          "year": 0
         }
        ]
       },
       "encoding": {
        "color": {
         "field": "variable",
         "type": "nominal"
        },
        "x": {
         "field": "year",
         "type": "quantitative"
        },
        "y": {
         "field": "value",
         "stack": "zero",
         "title": "xk",
         "type": "quantitative"
        }
       },
       "legend": "sNames",
       "mark": "area"
      },
      "image/png": "[encoded data removed]",
      "image/svg+xml": [
       "<?xml version=\"1.0\" encoding=\"utf-8\"?>\n",
       "<!DOCTYPE svg PUBLIC \"-//W3C//DTD SVG 1.1//EN\" \"http://www.w3.org/Graphics/SVG/1.1/DTD/svg11.dtd\">\n",
       "<svg xmlns=\"http://www.w3.org/2000/svg\" xmlns:xlink=\"http://www.w3.org/1999/xlink\" version=\"1.1\" class=\"marks\" width=\"314\" height=\"247\" viewBox=\"0 0 314 247\"><rect width=\"314\" height=\"247\" fill=\"white\"/><g fill=\"none\" stroke-miterlimit=\"10\" transform=\"translate(42,10)\"><g class=\"mark-group role-frame root\" role=\"graphics-object\" aria-roledescription=\"group mark container\"><g transform=\"translate(0,0)\"><path class=\"background\" aria-hidden=\"true\" d=\"M0.5,0.5h200v200h-200Z\" stroke=\"#ddd\"/><g><g class=\"mark-group role-axis\" aria-hidden=\"true\"><g transform=\"translate(0.5,200.5)\"><path class=\"background\" aria-hidden=\"true\" d=\"M0,0h0v0h0Z\" pointer-events=\"none\"/><g><g class=\"mark-rule role-axis-grid\" pointer-events=\"none\"><line transform=\"translate(0,-200)\" x2=\"0\" y2=\"200\" stroke=\"#ddd\" stroke-width=\"1\" opacity=\"1\"/><line transform=\"translate(29,-200)\" x2=\"0\" y2=\"200\" stroke=\"#ddd\" stroke-width=\"1\" opacity=\"1\"/><line transform=\"translate(57,-200)\" x2=\"0\" y2=\"200\" stroke=\"#ddd\" stroke-width=\"1\" opacity=\"1\"/><line transform=\"translate(86,-200)\" x2=\"0\" y2=\"200\" stroke=\"#ddd\" stroke-width=\"1\" opacity=\"1\"/><line transform=\"translate(114,-200)\" x2=\"0\" y2=\"200\" stroke=\"#ddd\" stroke-width=\"1\" opacity=\"1\"/><line transform=\"translate(143,-200)\" x2=\"0\" y2=\"200\" stroke=\"#ddd\" stroke-width=\"1\" opacity=\"1\"/><line transform=\"translate(171,-200)\" x2=\"0\" y2=\"200\" stroke=\"#ddd\" stroke-width=\"1\" opacity=\"1\"/><line transform=\"translate(200,-200)\" x2=\"0\" y2=\"200\" stroke=\"#ddd\" stroke-width=\"1\" opacity=\"1\"/></g></g><path class=\"foreground\" aria-hidden=\"true\" d=\"\" pointer-events=\"none\" display=\"none\"/></g></g><g class=\"mark-group role-axis\" aria-hidden=\"true\"><g transform=\"translate(0.5,0.5)\"><path class=\"background\" aria-hidden=\"true\" d=\"M0,0h0v0h0Z\" pointer-events=\"none\"/><g><g class=\"mark-rule role-axis-grid\" pointer-events=\"none\"><line transform=\"translate(0,200)\" x2=\"200\" y2=\"0\" stroke=\"#ddd\" stroke-width=\"1\" opacity=\"1\"/><line transform=\"translate(0,160)\" x2=\"200\" y2=\"0\" stroke=\"#ddd\" stroke-width=\"1\" opacity=\"1\"/><line transform=\"translate(0,120)\" x2=\"200\" y2=\"0\" stroke=\"#ddd\" stroke-width=\"1\" opacity=\"1\"/><line transform=\"translate(0,80)\" x2=\"200\" y2=\"0\" stroke=\"#ddd\" stroke-width=\"1\" opacity=\"1\"/><line transform=\"translate(0,40)\" x2=\"200\" y2=\"0\" stroke=\"#ddd\" stroke-width=\"1\" opacity=\"1\"/><line transform=\"translate(0,0)\" x2=\"200\" y2=\"0\" stroke=\"#ddd\" stroke-width=\"1\" opacity=\"1\"/></g></g><path class=\"foreground\" aria-hidden=\"true\" d=\"\" pointer-events=\"none\" display=\"none\"/></g></g><g class=\"mark-group role-axis\" role=\"graphics-symbol\" aria-roledescription=\"axis\" aria-label=\"X-axis titled 'year' for a linear scale with values from 0 to 35\"><g transform=\"translate(0.5,200.5)\"><path class=\"background\" aria-hidden=\"true\" d=\"M0,0h0v0h0Z\" pointer-events=\"none\"/><g><g class=\"mark-rule role-axis-tick\" pointer-events=\"none\"><line transform=\"translate(0,0)\" x2=\"0\" y2=\"5\" stroke=\"#888\" stroke-width=\"1\" opacity=\"1\"/><line transform=\"translate(29,0)\" x2=\"0\" y2=\"5\" stroke=\"#888\" stroke-width=\"1\" opacity=\"1\"/><line transform=\"translate(57,0)\" x2=\"0\" y2=\"5\" stroke=\"#888\" stroke-width=\"1\" opacity=\"1\"/><line transform=\"translate(86,0)\" x2=\"0\" y2=\"5\" stroke=\"#888\" stroke-width=\"1\" opacity=\"1\"/><line transform=\"translate(114,0)\" x2=\"0\" y2=\"5\" stroke=\"#888\" stroke-width=\"1\" opacity=\"1\"/><line transform=\"translate(143,0)\" x2=\"0\" y2=\"5\" stroke=\"#888\" stroke-width=\"1\" opacity=\"1\"/><line transform=\"translate(171,0)\" x2=\"0\" y2=\"5\" stroke=\"#888\" stroke-width=\"1\" opacity=\"1\"/><line transform=\"translate(200,0)\" x2=\"0\" y2=\"5\" stroke=\"#888\" stroke-width=\"1\" opacity=\"1\"/></g><g class=\"mark-text role-axis-label\" pointer-events=\"none\"><text text-anchor=\"start\" transform=\"translate(0,15)\" font-family=\"sans-serif\" font-size=\"10px\" fill=\"#000\" opacity=\"1\">0</text><text text-anchor=\"middle\" transform=\"translate(28.57142857142857,15)\" font-family=\"sans-serif\" font-size=\"10px\" fill=\"#000\" opacity=\"1\">5</text><text text-anchor=\"middle\" transform=\"translate(57.14285714285714,15)\" font-family=\"sans-serif\" font-size=\"10px\" fill=\"#000\" opacity=\"1\">10</text><text text-anchor=\"middle\" transform=\"translate(85.71428571428571,15)\" font-family=\"sans-serif\" font-size=\"10px\" fill=\"#000\" opacity=\"1\">15</text><text text-anchor=\"middle\" transform=\"translate(114.28571428571428,15)\" font-family=\"sans-serif\" font-size=\"10px\" fill=\"#000\" opacity=\"1\">20</text><text text-anchor=\"middle\" transform=\"translate(142.85714285714286,15)\" font-family=\"sans-serif\" font-size=\"10px\" fill=\"#000\" opacity=\"1\">25</text><text text-anchor=\"middle\" transform=\"translate(171.42857142857142,15)\" font-family=\"sans-serif\" font-size=\"10px\" fill=\"#000\" opacity=\"1\">30</text><text text-anchor=\"end\" transform=\"translate(200,15)\" font-family=\"sans-serif\" font-size=\"10px\" fill=\"#000\" opacity=\"1\">35</text></g><g class=\"mark-rule role-axis-domain\" pointer-events=\"none\"><line transform=\"translate(0,0)\" x2=\"200\" y2=\"0\" stroke=\"#888\" stroke-width=\"1\" opacity=\"1\"/></g><g class=\"mark-text role-axis-title\" pointer-events=\"none\"><text text-anchor=\"middle\" transform=\"translate(100,30)\" font-family=\"sans-serif\" font-size=\"11px\" font-weight=\"bold\" fill=\"#000\" opacity=\"1\">year</text></g></g><path class=\"foreground\" aria-hidden=\"true\" d=\"\" pointer-events=\"none\" display=\"none\"/></g></g><g class=\"mark-group role-axis\" role=\"graphics-symbol\" aria-roledescription=\"axis\" aria-label=\"Y-axis titled 'xk' for a linear scale with values from 0.0 to 1.0\"><g transform=\"translate(0.5,0.5)\"><path class=\"background\" aria-hidden=\"true\" d=\"M0,0h0v0h0Z\" pointer-events=\"none\"/><g><g class=\"mark-rule role-axis-tick\" pointer-events=\"none\"><line transform=\"translate(0,200)\" x2=\"-5\" y2=\"0\" stroke=\"#888\" stroke-width=\"1\" opacity=\"1\"/><line transform=\"translate(0,160)\" x2=\"-5\" y2=\"0\" stroke=\"#888\" stroke-width=\"1\" opacity=\"1\"/><line transform=\"translate(0,120)\" x2=\"-5\" y2=\"0\" stroke=\"#888\" stroke-width=\"1\" opacity=\"1\"/><line transform=\"translate(0,80)\" x2=\"-5\" y2=\"0\" stroke=\"#888\" stroke-width=\"1\" opacity=\"1\"/><line transform=\"translate(0,40)\" x2=\"-5\" y2=\"0\" stroke=\"#888\" stroke-width=\"1\" opacity=\"1\"/><line transform=\"translate(0,0)\" x2=\"-5\" y2=\"0\" stroke=\"#888\" stroke-width=\"1\" opacity=\"1\"/></g><g class=\"mark-text role-axis-label\" pointer-events=\"none\"><text text-anchor=\"end\" transform=\"translate(-7,203)\" font-family=\"sans-serif\" font-size=\"10px\" fill=\"#000\" opacity=\"1\">0.0</text><text text-anchor=\"end\" transform=\"translate(-7,163)\" font-family=\"sans-serif\" font-size=\"10px\" fill=\"#000\" opacity=\"1\">0.2</text><text text-anchor=\"end\" transform=\"translate(-7,123)\" font-family=\"sans-serif\" font-size=\"10px\" fill=\"#000\" opacity=\"1\">0.4</text><text text-anchor=\"end\" transform=\"translate(-7,83)\" font-family=\"sans-serif\" font-size=\"10px\" fill=\"#000\" opacity=\"1\">0.6</text><text text-anchor=\"end\" transform=\"translate(-7,42.99999999999999)\" font-family=\"sans-serif\" font-size=\"10px\" fill=\"#000\" opacity=\"1\">0.8</text><text text-anchor=\"end\" transform=\"translate(-7,3)\" font-family=\"sans-serif\" font-size=\"10px\" fill=\"#000\" opacity=\"1\">1.0</text></g><g class=\"mark-rule role-axis-domain\" pointer-events=\"none\"><line transform=\"translate(0,200)\" x2=\"0\" y2=\"-200\" stroke=\"#888\" stroke-width=\"1\" opacity=\"1\"/></g><g class=\"mark-text role-axis-title\" pointer-events=\"none\"><text text-anchor=\"middle\" transform=\"translate(-26,100) rotate(-90) translate(0,-2)\" font-family=\"sans-serif\" font-size=\"11px\" font-weight=\"bold\" fill=\"#000\" opacity=\"1\">xk</text></g></g><path class=\"foreground\" aria-hidden=\"true\" d=\"\" pointer-events=\"none\" display=\"none\"/></g></g><g class=\"mark-group role-scope pathgroup\" role=\"graphics-object\" aria-roledescription=\"group mark container\"><g transform=\"translate(0,0)\"><path class=\"background\" aria-hidden=\"true\" d=\"M0,0h200v200h-200Z\"/><g><g class=\"mark-area role-mark marks\" role=\"graphics-object\" aria-roledescription=\"area mark container\"><path aria-label=\"year: 0; xk: 0; variable: x93\" role=\"graphics-symbol\" aria-roledescription=\"area mark\" d=\"M0,200L28.57142857142857,0L57.14285714285714,200L85.71428571428571,200L114.28571428571428,89.70642429415983L142.85714285714286,200L171.42857142857142,89.70642429414997L200,200L200,200L171.42857142857142,200L142.85714285714286,200L114.28571428571428,200L85.71428571428571,200L57.14285714285714,200L28.57142857142857,0L0,200Z\" fill=\"#9d755d\"/></g></g><path class=\"foreground\" aria-hidden=\"true\" d=\"\" display=\"none\"/></g><g transform=\"translate(0,0)\"><path class=\"background\" aria-hidden=\"true\" d=\"M0,0h200v200h-200Z\"/><g><g class=\"mark-area role-mark marks\" role=\"graphics-object\" aria-roledescription=\"area mark container\"><path aria-label=\"year: 0; xk: 0; variable: x94\" role=\"graphics-symbol\" aria-roledescription=\"area mark\" d=\"M0,200L28.57142857142857,0L57.14285714285714,200L85.71428571428571,200L114.28571428571428,200L142.85714285714286,200L171.42857142857142,200L200,200L200,200L171.42857142857142,200L142.85714285714286,200L114.28571428571428,200L85.71428571428571,200L57.14285714285714,200L28.57142857142857,200L0,200Z\" fill=\"#bab0ac\"/></g></g><path class=\"foreground\" aria-hidden=\"true\" d=\"\" display=\"none\"/></g><g transform=\"translate(0,0)\"><path class=\"background\" aria-hidden=\"true\" d=\"M0,0h200v200h-200Z\"/><g><g class=\"mark-area role-mark marks\" role=\"graphics-object\" aria-roledescription=\"area mark container\"><path aria-label=\"year: 0; xk: 0; variable: x103\" role=\"graphics-symbol\" aria-roledescription=\"area mark\" d=\"M0,200L28.57142857142857,0L57.14285714285714,0L85.71428571428571,0L114.28571428571428,0L142.85714285714286,0L171.42857142857142,0L200,0L200,0L171.42857142857142,0L142.85714285714286,0L114.28571428571428,0L85.71428571428571,106.22381128729384L57.14285714285714,0L28.57142857142857,0L0,200Z\" fill=\"#f58518\"/></g></g><path class=\"foreground\" aria-hidden=\"true\" d=\"\" display=\"none\"/></g><g transform=\"translate(0,0)\"><path class=\"background\" aria-hidden=\"true\" d=\"M0,0h200v200h-200Z\"/><g><g class=\"mark-area role-mark marks\" role=\"graphics-object\" aria-roledescription=\"area mark container\"><path aria-label=\"year: 0; xk: 0; variable: x108\" role=\"graphics-symbol\" aria-roledescription=\"area mark\" d=\"M0,200L28.57142857142857,0L57.14285714285714,0L85.71428571428571,106.22381128729384L114.28571428571428,0L142.85714285714286,0L171.42857142857142,0L200,0L200,132.40324381606635L171.42857142857142,0L142.85714285714286,109.63048281280092L114.28571428571428,0L85.71428571428571,106.22381128729384L57.14285714285714,0L28.57142857142857,0L0,200Z\" fill=\"#e45756\"/></g></g><path class=\"foreground\" aria-hidden=\"true\" d=\"\" display=\"none\"/></g><g transform=\"translate(0,0)\"><path class=\"background\" aria-hidden=\"true\" d=\"M0,0h200v200h-200Z\"/><g><g class=\"mark-area role-mark marks\" role=\"graphics-object\" aria-roledescription=\"area mark container\"><path aria-label=\"year: 0; xk: 0; variable: x195\" role=\"graphics-symbol\" aria-roledescription=\"area mark\" d=\"M0,200L28.57142857142857,0L57.14285714285714,0L85.71428571428571,106.22381128729384L114.28571428571428,0L142.85714285714286,109.63048281280092L171.42857142857142,0L200,132.40324381606635L200,132.40324381606635L171.42857142857142,0L142.85714285714286,109.63048281280092L114.28571428571428,0L85.71428571428571,106.22381128729384L57.14285714285714,200L28.57142857142857,0L0,200Z\" fill=\"#72b7b2\"/></g></g><path class=\"foreground\" aria-hidden=\"true\" d=\"\" display=\"none\"/></g><g transform=\"translate(0,0)\"><path class=\"background\" aria-hidden=\"true\" d=\"M0,0h200v200h-200Z\"/><g><g class=\"mark-area role-mark marks\" role=\"graphics-object\" aria-roledescription=\"area mark container\"><path aria-label=\"year: 0; xk: 0; variable: x197\" role=\"graphics-symbol\" aria-roledescription=\"area mark\" d=\"M0,200L28.57142857142857,0L57.14285714285714,200L85.71428571428571,106.22381128729384L114.28571428571428,0L142.85714285714286,109.63048281280092L171.42857142857142,0L200,132.40324381606635L200,200L171.42857142857142,0L142.85714285714286,109.63048281280092L114.28571428571428,0L85.71428571428571,106.22381128729384L57.14285714285714,200L28.57142857142857,0L0,200Z\" fill=\"#54a24b\"/></g></g><path class=\"foreground\" aria-hidden=\"true\" d=\"\" display=\"none\"/></g><g transform=\"translate(0,0)\"><path class=\"background\" aria-hidden=\"true\" d=\"M0,0h200v200h-200Z\"/><g><g class=\"mark-area role-mark marks\" role=\"graphics-object\" aria-roledescription=\"area mark container\"><path aria-label=\"year: 0; xk: 0; variable: x198\" role=\"graphics-symbol\" aria-roledescription=\"area mark\" d=\"M0,200L28.57142857142857,0L57.14285714285714,200L85.71428571428571,106.22381128729384L114.28571428571428,0L142.85714285714286,109.63048281280092L171.42857142857142,0L200,200L200,200L171.42857142857142,0L142.85714285714286,200L114.28571428571428,0L85.71428571428571,106.22381128729384L57.14285714285714,200L28.57142857142857,0L0,200Z\" fill=\"#eeca3b\"/></g></g><path class=\"foreground\" aria-hidden=\"true\" d=\"\" display=\"none\"/></g><g transform=\"translate(0,0)\"><path class=\"background\" aria-hidden=\"true\" d=\"M0,0h200v200h-200Z\"/><g><g class=\"mark-area role-mark marks\" role=\"graphics-object\" aria-roledescription=\"area mark container\"><path aria-label=\"year: 0; xk: 0; variable: x199\" role=\"graphics-symbol\" aria-roledescription=\"area mark\" d=\"M0,200L28.57142857142857,0L57.14285714285714,200L85.71428571428571,106.22381128729384L114.28571428571428,0L142.85714285714286,200L171.42857142857142,0L200,200L200,200L171.42857142857142,89.70642429414997L142.85714285714286,200L114.28571428571428,89.70642429415983L85.71428571428571,106.22381128729384L57.14285714285714,200L28.57142857142857,0L0,200Z\" fill=\"#b279a2\"/></g></g><path class=\"foreground\" aria-hidden=\"true\" d=\"\" display=\"none\"/></g><g transform=\"translate(0,0)\"><path class=\"background\" aria-hidden=\"true\" d=\"M0,0h200v200h-200Z\"/><g><g class=\"mark-area role-mark marks\" role=\"graphics-object\" aria-roledescription=\"area mark container\"><path aria-label=\"year: 0; xk: 0; variable: x200\" role=\"graphics-symbol\" aria-roledescription=\"area mark\" d=\"M0,200L28.57142857142857,0L57.14285714285714,200L85.71428571428571,106.22381128729384L114.28571428571428,89.70642429415983L142.85714285714286,200L171.42857142857142,89.70642429414997L200,200L200,200L171.42857142857142,89.70642429414997L142.85714285714286,200L114.28571428571428,89.70642429415983L85.71428571428571,200L57.14285714285714,200L28.57142857142857,0L0,200Z\" fill=\"#ff9da6\"/></g></g><path class=\"foreground\" aria-hidden=\"true\" d=\"\" display=\"none\"/></g><g transform=\"translate(0,0)\"><path class=\"background\" aria-hidden=\"true\" d=\"M0,0h200v200h-200Z\"/><g><g class=\"mark-area role-mark marks\" role=\"graphics-object\" aria-roledescription=\"area mark container\"><path aria-label=\"year: 0; xk: 1; variable: Conv\" role=\"graphics-symbol\" aria-roledescription=\"area mark\" d=\"M0,0L28.57142857142857,0L57.14285714285714,0L85.71428571428571,0L114.28571428571428,0L142.85714285714286,0L171.42857142857142,0L200,0L200,0L171.42857142857142,0L142.85714285714286,0L114.28571428571428,0L85.71428571428571,0L57.14285714285714,0L28.57142857142857,0L0,200Z\" fill=\"#4c78a8\"/></g></g><path class=\"foreground\" aria-hidden=\"true\" d=\"\" display=\"none\"/></g></g><g class=\"mark-group role-legend\" role=\"graphics-symbol\" aria-roledescription=\"legend\" aria-label=\"Symbol legend titled 'variable' for fill color with 10 values: Conv, x103, x108, x195, x197, ending with x94\"><g transform=\"translate(218,0)\"><path class=\"background\" aria-hidden=\"true\" d=\"M0,0h49v144h-49Z\" pointer-events=\"none\"/><g><g class=\"mark-group role-legend-entry\"><g transform=\"translate(0,16)\"><path class=\"background\" aria-hidden=\"true\" d=\"M0,0h0v0h0Z\" pointer-events=\"none\"/><g><g class=\"mark-group role-scope\" role=\"graphics-object\" aria-roledescription=\"group mark container\"><g transform=\"translate(0,0)\"><path class=\"background\" aria-hidden=\"true\" d=\"M0,0h41v11h-41Z\" pointer-events=\"none\" opacity=\"1\"/><g><g class=\"mark-symbol role-legend-symbol\" pointer-events=\"none\"><path transform=\"translate(6,6)\" d=\"M5,0A5,5,0,1,1,-5,0A5,5,0,1,1,5,0\" fill=\"#4c78a8\" stroke-width=\"1.5\" opacity=\"1\"/></g><g class=\"mark-text role-legend-label\" pointer-events=\"none\"><text text-anchor=\"start\" transform=\"translate(16,9)\" font-family=\"sans-serif\" font-size=\"10px\" fill=\"#000\" opacity=\"1\">Conv</text></g></g><path class=\"foreground\" aria-hidden=\"true\" d=\"\" pointer-events=\"none\" display=\"none\"/></g><g transform=\"translate(0,13)\"><path class=\"background\" aria-hidden=\"true\" d=\"M0,0h41v11h-41Z\" pointer-events=\"none\" opacity=\"1\"/><g><g class=\"mark-symbol role-legend-symbol\" pointer-events=\"none\"><path transform=\"translate(6,6)\" d=\"M5,0A5,5,0,1,1,-5,0A5,5,0,1,1,5,0\" fill=\"#f58518\" stroke-width=\"1.5\" opacity=\"1\"/></g><g class=\"mark-text role-legend-label\" pointer-events=\"none\"><text text-anchor=\"start\" transform=\"translate(16,9)\" font-family=\"sans-serif\" font-size=\"10px\" fill=\"#000\" opacity=\"1\">x103</text></g></g><path class=\"foreground\" aria-hidden=\"true\" d=\"\" pointer-events=\"none\" display=\"none\"/></g><g transform=\"translate(0,26)\"><path class=\"background\" aria-hidden=\"true\" d=\"M0,0h41v11h-41Z\" pointer-events=\"none\" opacity=\"1\"/><g><g class=\"mark-symbol role-legend-symbol\" pointer-events=\"none\"><path transform=\"translate(6,6)\" d=\"M5,0A5,5,0,1,1,-5,0A5,5,0,1,1,5,0\" fill=\"#e45756\" stroke-width=\"1.5\" opacity=\"1\"/></g><g class=\"mark-text role-legend-label\" pointer-events=\"none\"><text text-anchor=\"start\" transform=\"translate(16,9)\" font-family=\"sans-serif\" font-size=\"10px\" fill=\"#000\" opacity=\"1\">x108</text></g></g><path class=\"foreground\" aria-hidden=\"true\" d=\"\" pointer-events=\"none\" display=\"none\"/></g><g transform=\"translate(0,39)\"><path class=\"background\" aria-hidden=\"true\" d=\"M0,0h41v11h-41Z\" pointer-events=\"none\" opacity=\"1\"/><g><g class=\"mark-symbol role-legend-symbol\" pointer-events=\"none\"><path transform=\"translate(6,6)\" d=\"M5,0A5,5,0,1,1,-5,0A5,5,0,1,1,5,0\" fill=\"#72b7b2\" stroke-width=\"1.5\" opacity=\"1\"/></g><g class=\"mark-text role-legend-label\" pointer-events=\"none\"><text text-anchor=\"start\" transform=\"translate(16,9)\" font-family=\"sans-serif\" font-size=\"10px\" fill=\"#000\" opacity=\"1\">x195</text></g></g><path class=\"foreground\" aria-hidden=\"true\" d=\"\" pointer-events=\"none\" display=\"none\"/></g><g transform=\"translate(0,52)\"><path class=\"background\" aria-hidden=\"true\" d=\"M0,0h41v11h-41Z\" pointer-events=\"none\" opacity=\"1\"/><g><g class=\"mark-symbol role-legend-symbol\" pointer-events=\"none\"><path transform=\"translate(6,6)\" d=\"M5,0A5,5,0,1,1,-5,0A5,5,0,1,1,5,0\" fill=\"#54a24b\" stroke-width=\"1.5\" opacity=\"1\"/></g><g class=\"mark-text role-legend-label\" pointer-events=\"none\"><text text-anchor=\"start\" transform=\"translate(16,9)\" font-family=\"sans-serif\" font-size=\"10px\" fill=\"#000\" opacity=\"1\">x197</text></g></g><path class=\"foreground\" aria-hidden=\"true\" d=\"\" pointer-events=\"none\" display=\"none\"/></g><g transform=\"translate(0,65)\"><path class=\"background\" aria-hidden=\"true\" d=\"M0,0h41v11h-41Z\" pointer-events=\"none\" opacity=\"1\"/><g><g class=\"mark-symbol role-legend-symbol\" pointer-events=\"none\"><path transform=\"translate(6,6)\" d=\"M5,0A5,5,0,1,1,-5,0A5,5,0,1,1,5,0\" fill=\"#eeca3b\" stroke-width=\"1.5\" opacity=\"1\"/></g><g class=\"mark-text role-legend-label\" pointer-events=\"none\"><text text-anchor=\"start\" transform=\"translate(16,9)\" font-family=\"sans-serif\" font-size=\"10px\" fill=\"#000\" opacity=\"1\">x198</text></g></g><path class=\"foreground\" aria-hidden=\"true\" d=\"\" pointer-events=\"none\" display=\"none\"/></g><g transform=\"translate(0,78)\"><path class=\"background\" aria-hidden=\"true\" d=\"M0,0h41v11h-41Z\" pointer-events=\"none\" opacity=\"1\"/><g><g class=\"mark-symbol role-legend-symbol\" pointer-events=\"none\"><path transform=\"translate(6,6)\" d=\"M5,0A5,5,0,1,1,-5,0A5,5,0,1,1,5,0\" fill=\"#b279a2\" stroke-width=\"1.5\" opacity=\"1\"/></g><g class=\"mark-text role-legend-label\" pointer-events=\"none\"><text text-anchor=\"start\" transform=\"translate(16,9)\" font-family=\"sans-serif\" font-size=\"10px\" fill=\"#000\" opacity=\"1\">x199</text></g></g><path class=\"foreground\" aria-hidden=\"true\" d=\"\" pointer-events=\"none\" display=\"none\"/></g><g transform=\"translate(0,91)\"><path class=\"background\" aria-hidden=\"true\" d=\"M0,0h41v11h-41Z\" pointer-events=\"none\" opacity=\"1\"/><g><g class=\"mark-symbol role-legend-symbol\" pointer-events=\"none\"><path transform=\"translate(6,6)\" d=\"M5,0A5,5,0,1,1,-5,0A5,5,0,1,1,5,0\" fill=\"#ff9da6\" stroke-width=\"1.5\" opacity=\"1\"/></g><g class=\"mark-text role-legend-label\" pointer-events=\"none\"><text text-anchor=\"start\" transform=\"translate(16,9)\" font-family=\"sans-serif\" font-size=\"10px\" fill=\"#000\" opacity=\"1\">x200</text></g></g><path class=\"foreground\" aria-hidden=\"true\" d=\"\" pointer-events=\"none\" display=\"none\"/></g><g transform=\"translate(0,104)\"><path class=\"background\" aria-hidden=\"true\" d=\"M0,0h41v11h-41Z\" pointer-events=\"none\" opacity=\"1\"/><g><g class=\"mark-symbol role-legend-symbol\" pointer-events=\"none\"><path transform=\"translate(6,6)\" d=\"M5,0A5,5,0,1,1,-5,0A5,5,0,1,1,5,0\" fill=\"#9d755d\" stroke-width=\"1.5\" opacity=\"1\"/></g><g class=\"mark-text role-legend-label\" pointer-events=\"none\"><text text-anchor=\"start\" transform=\"translate(16,9)\" font-family=\"sans-serif\" font-size=\"10px\" fill=\"#000\" opacity=\"1\">x93</text></g></g><path class=\"foreground\" aria-hidden=\"true\" d=\"\" pointer-events=\"none\" display=\"none\"/></g><g transform=\"translate(0,117)\"><path class=\"background\" aria-hidden=\"true\" d=\"M0,0h41v11h-41Z\" pointer-events=\"none\" opacity=\"1\"/><g><g class=\"mark-symbol role-legend-symbol\" pointer-events=\"none\"><path transform=\"translate(6,6)\" d=\"M5,0A5,5,0,1,1,-5,0A5,5,0,1,1,5,0\" fill=\"#bab0ac\" stroke-width=\"1.5\" opacity=\"1\"/></g><g class=\"mark-text role-legend-label\" pointer-events=\"none\"><text text-anchor=\"start\" transform=\"translate(16,9)\" font-family=\"sans-serif\" font-size=\"10px\" fill=\"#000\" opacity=\"1\">x94</text></g></g><path class=\"foreground\" aria-hidden=\"true\" d=\"\" pointer-events=\"none\" display=\"none\"/></g></g></g><path class=\"foreground\" aria-hidden=\"true\" d=\"\" pointer-events=\"none\" display=\"none\"/></g></g><g class=\"mark-text role-legend-title\" pointer-events=\"none\"><text text-anchor=\"start\" transform=\"translate(0,9)\" font-family=\"sans-serif\" font-size=\"11px\" font-weight=\"bold\" fill=\"#000\" opacity=\"1\">variable</text></g></g><path class=\"foreground\" aria-hidden=\"true\" d=\"\" pointer-events=\"none\" display=\"none\"/></g></g></g><path class=\"foreground\" aria-hidden=\"true\" d=\"\" display=\"none\"/></g></g></g></svg>\n"
      ],
      "text/plain": [
       "@vlplot(\n",
       "    legend=\"sNames\",\n",
       "    mark=\"area\",\n",
       "    encoding={\n",
       "        x={\n",
       "            field=\"year\"\n",
       "        },\n",
       "        y={\n",
       "            stack=\"zero\",\n",
       "            title=\"xk\",\n",
       "            field=\"value\"\n",
       "        },\n",
       "        color={\n",
       "            field=\"variable\",\n",
       "            type=\"nominal\"\n",
       "        }\n",
       "    },\n",
       "    data={\n",
       "        values=...\n",
       "    }\n",
       ")"
      ]
     },
     "execution_count": 33,
     "metadata": {},
     "output_type": "execute_result"
    }
   ],
   "source": [
    "comp"
   ]
  },
  {
   "cell_type": "code",
   "execution_count": 34,
   "id": "4a092e6f",
   "metadata": {},
   "outputs": [
    {
     "data": {
      "text/html": [
       "<div class=\"data-frame\"><p>10 rows × 3 columns</p><table class=\"data-frame\"><thead><tr><th></th><th>i</th><th>k_lim</th><th>name</th></tr><tr><th></th><th title=\"Int64\">Int64</th><th title=\"Int64\">Int64</th><th title=\"String31\">String31</th></tr></thead><tbody><tr><th>1</th><td>1</td><td>29</td><td>MSW pyrolysis to small olefins</td></tr><tr><th>2</th><td>2</td><td>52</td><td>Source Segregation</td></tr><tr><th>3</th><td>3</td><td>66</td><td>AI robot segregation</td></tr><tr><th>4</th><td>4</td><td>91</td><td>LABS from PE</td></tr><tr><th>5</th><td>5</td><td>113</td><td>Pyrolysis of LDPE</td></tr><tr><th>6</th><td>6</td><td>140</td><td>Pyrolysis of HDPE</td></tr><tr><th>7</th><td>7</td><td>165</td><td>Pyrolysis of PP</td></tr><tr><th>8</th><td>8</td><td>193</td><td>Recycling back to PLA usin Clay</td></tr><tr><th>9</th><td>9</td><td>215</td><td>Alkaline hydrolysis of PLA</td></tr><tr><th>10</th><td>10</td><td>240</td><td>Alcoholysis of PLA</td></tr></tbody></table></div>"
      ],
      "text/latex": [
       "\\begin{tabular}{r|ccc}\n",
       "\t& i & k\\_lim & name\\\\\n",
       "\t\\hline\n",
       "\t& Int64 & Int64 & String31\\\\\n",
       "\t\\hline\n",
       "\t1 & 1 & 29 & MSW pyrolysis to small olefins \\\\\n",
       "\t2 & 2 & 52 & Source Segregation \\\\\n",
       "\t3 & 3 & 66 & AI robot segregation \\\\\n",
       "\t4 & 4 & 91 & LABS from PE \\\\\n",
       "\t5 & 5 & 113 & Pyrolysis of LDPE \\\\\n",
       "\t6 & 6 & 140 & Pyrolysis of HDPE \\\\\n",
       "\t7 & 7 & 165 & Pyrolysis of PP \\\\\n",
       "\t8 & 8 & 193 & Recycling back to PLA usin Clay \\\\\n",
       "\t9 & 9 & 215 & Alkaline hydrolysis of PLA \\\\\n",
       "\t10 & 10 & 240 & Alcoholysis of PLA \\\\\n",
       "\\end{tabular}\n"
      ],
      "text/plain": [
       "\u001b[1m10×3 DataFrame\u001b[0m\n",
       "\u001b[1m Row \u001b[0m│\u001b[1m i     \u001b[0m\u001b[1m k_lim \u001b[0m\u001b[1m name                            \u001b[0m\n",
       "\u001b[1m     \u001b[0m│\u001b[90m Int64 \u001b[0m\u001b[90m Int64 \u001b[0m\u001b[90m String31                        \u001b[0m\n",
       "─────┼───────────────────────────────────────────────\n",
       "   1 │     1     29  MSW pyrolysis to small olefins\n",
       "   2 │     2     52  Source Segregation\n",
       "   3 │     3     66  AI robot segregation\n",
       "   4 │     4     91  LABS from PE\n",
       "   5 │     5    113  Pyrolysis of LDPE\n",
       "   6 │     6    140  Pyrolysis of HDPE\n",
       "   7 │     7    165  Pyrolysis of PP\n",
       "   8 │     8    193  Recycling back to PLA usin Clay\n",
       "   9 │     9    215  Alkaline hydrolysis of PLA\n",
       "  10 │    10    240  Alcoholysis of PLA"
      ]
     },
     "execution_count": 34,
     "metadata": {},
     "output_type": "execute_result"
    }
   ],
   "source": [
    "mapki"
   ]
  },
  {
   "cell_type": "code",
   "execution_count": 35,
   "id": "69fdca65",
   "metadata": {},
   "outputs": [
    {
     "name": "stdout",
     "output_type": "stream",
     "text": [
      "93[0.0, 0.0, 0.0, 1.11, 0.0, 0.69, 0.0]\n",
      "94[2.96, 0.0, 0.0, 0.0, 0.0, 0.0, 0.0]\n",
      "103[0.0, 0.0, 1.11, 0.0, 0.0, 0.0, 0.0]\n",
      "108[0.0, 0.0, 0.0, 0.0, 0.66, 0.0, 0.07]\n",
      "195[0.0, 2.73, 0.0, 0.0, 0.0, 0.0, 0.0]\n",
      "197[0.0, 0.0, 0.0, 0.0, 0.0, 0.0, 0.29]\n",
      "198[0.0, 0.0, 0.0, 0.0, 0.78, 0.0, 0.0]\n",
      "199[0.0, 0.0, 0.0, 1.09, 0.0, 0.63, 0.0]\n",
      "200[0.0, 0.0, 1.25, 0.0, 0.0, 0.0, 0.0]\n"
     ]
    }
   ],
   "source": [
    "for i in 1:240\n",
    "    if sum(xk[i,:])>0\n",
    "        print(i)\n",
    "        println(round.(xk[i,:].*co2fac[i,:];digits=2))\n",
    "    end\n",
    "end"
   ]
  },
  {
   "cell_type": "code",
   "execution_count": 36,
   "id": "b9272fc7",
   "metadata": {},
   "outputs": [
    {
     "name": "stdout",
     "output_type": "stream",
     "text": [
      "93[0.0, 0.0, 0.0, 0.55, 0.0, 0.55, 0.0]\n",
      "94[1.0, 0.0, 0.0, 0.0, 0.0, 0.0, 0.0]\n",
      "103[0.0, 0.0, 0.53, 0.0, 0.0, 0.0, 0.0]\n",
      "108[0.0, 0.0, 0.0, 0.0, 0.55, 0.0, 0.66]\n",
      "195[0.0, 1.0, 0.0, 0.0, 0.0, 0.0, 0.0]\n",
      "197[0.0, 0.0, 0.0, 0.0, 0.0, 0.0, 0.34]\n",
      "198[0.0, 0.0, 0.0, 0.0, 0.45, 0.0, 0.0]\n",
      "199[0.0, 0.0, 0.0, 0.45, 0.0, 0.45, 0.0]\n",
      "200[0.0, 0.0, 0.47, 0.0, 0.0, 0.0, 0.0]\n"
     ]
    }
   ],
   "source": [
    "for i in 1:240\n",
    "    if sum(xk[i,:])>0\n",
    "        print(i)\n",
    "        println(round.(xk[i,:];digits=2))\n",
    "    end\n",
    "end"
   ]
  },
  {
   "cell_type": "code",
   "execution_count": 37,
   "id": "91d9e882",
   "metadata": {},
   "outputs": [
    {
     "name": "stdout",
     "output_type": "stream",
     "text": [
      "93[0.0, 0.0, 0.0, 5.0, 0.0, 5.0, 0.0]\n",
      "94[0.0, 0.0, 0.0, 0.0, 0.0, 0.0, 0.0]\n",
      "103[0.0, 0.0, 5.0, 0.0, 0.0, 0.0, 0.0]\n",
      "108[0.0, 0.0, 0.0, 0.0, 5.0, 0.0, 5.0]\n",
      "195[5.0, 5.0, 0.0, 0.0, 0.0, 0.0, 0.0]\n",
      "197[0.0, 0.0, 0.0, 0.0, 0.0, 0.0, 5.0]\n",
      "198[0.0, 0.0, 0.0, 0.0, 5.0, 0.0, 0.0]\n",
      "199[0.0, 0.0, 0.0, 5.0, 0.0, 5.0, 0.0]\n",
      "200[0.0, 0.0, 5.0, 0.0, 0.0, 0.0, 0.0]\n"
     ]
    }
   ],
   "source": [
    "for i in 1:240\n",
    "    if sum(xk[i,:])>0\n",
    "        print(i)\n",
    "        println(round.(tk[i,:];digits=2))\n",
    "    end\n",
    "end"
   ]
  },
  {
   "cell_type": "code",
   "execution_count": 55,
   "id": "69f31436",
   "metadata": {},
   "outputs": [
    {
     "data": {
      "application/vnd.vegalite.v4+json": {
       "data": {
        "values": [
         {
          "value": 0,
          "variable": "LABS12",
          "year": "2020"
         },
         {
          "value": 0,
          "variable": "LABS12",
          "year": "2021"
         },
         {
          "value": 0,
          "variable": "LABS12",
          "year": "2022"
         },
         {
          "value": 0,
          "variable": "LABS12",
          "year": "2023"
         },
         {
          "value": 0,
          "variable": "LABS12",
          "year": "2024"
         },
         {
          "value": 0,
          "variable": "LABS12",
          "year": "2025"
         },
         {
          "value": 0,
          "variable": "LABS12",
          "year": "2026"
         },
         {
          "value": 0,
          "variable": "LABS12",
          "year": "2027"
         },
         {
          "value": 0,
          "variable": "LABS12",
          "year": "2028"
         },
         {
          "value": 0,
          "variable": "LABS12",
          "year": "2029"
         },
         {
          "value": 0.3648931857283638,
          "variable": "LABS12",
          "year": "2030"
         },
         {
          "value": 0.3648931857283638,
          "variable": "LABS12",
          "year": "2031"
         },
         {
          "value": 0.3648931857283638,
          "variable": "LABS12",
          "year": "2032"
         },
         {
          "value": 0.3648931857283638,
          "variable": "LABS12",
          "year": "2033"
         },
         {
          "value": 0.3648931857283638,
          "variable": "LABS12",
          "year": "2034"
         },
         {
          "value": 0,
          "variable": "LABS12",
          "year": "2035"
         },
         {
          "value": 0,
          "variable": "LABS12",
          "year": "2036"
         },
         {
          "value": 0,
          "variable": "LABS12",
          "year": "2037"
         },
         {
          "value": 0,
          "variable": "LABS12",
          "year": "2038"
         },
         {
          "value": 0,
          "variable": "LABS12",
          "year": "2039"
         },
         {
          "value": 0.36489318572839646,
          "variable": "LABS12",
          "year": "2040"
         },
         {
          "value": 0.36489318572839646,
          "variable": "LABS12",
          "year": "2041"
         },
         {
          "value": 0.36489318572839646,
          "variable": "LABS12",
          "year": "2042"
         },
         {
          "value": 0.36489318572839646,
          "variable": "LABS12",
          "year": "2043"
         },
         {
          "value": 0.36489318572839646,
          "variable": "LABS12",
          "year": "2044"
         },
         {
          "value": 0,
          "variable": "LABS12",
          "year": "2045"
         },
         {
          "value": 0,
          "variable": "LABS12",
          "year": "2046"
         },
         {
          "value": 0,
          "variable": "LABS12",
          "year": "2047"
         },
         {
          "value": 0,
          "variable": "LABS12",
          "year": "2048"
         },
         {
          "value": 0,
          "variable": "LABS12",
          "year": "2049"
         },
         {
          "value": 0,
          "variable": "LABS12",
          "year": "2050"
         },
         {
          "value": 0,
          "variable": "LABS12",
          "year": "2051"
         },
         {
          "value": 0,
          "variable": "LABS12",
          "year": "2052"
         },
         {
          "value": 0,
          "variable": "LABS12",
          "year": "2053"
         },
         {
          "value": 0,
          "variable": "LABS12",
          "year": "2054"
         },
         {
          "value": 0,
          "variable": "LABS12",
          "year": "2055"
         },
         {
          "value": 0,
          "variable": "LABS27",
          "year": "2020"
         },
         {
          "value": 0,
          "variable": "LABS27",
          "year": "2021"
         },
         {
          "value": 0,
          "variable": "LABS27",
          "year": "2022"
         },
         {
          "value": 0,
          "variable": "LABS27",
          "year": "2023"
         },
         {
          "value": 0,
          "variable": "LABS27",
          "year": "2024"
         },
         {
          "value": 0,
          "variable": "LABS27",
          "year": "2025"
         },
         {
          "value": 0,
          "variable": "LABS27",
          "year": "2026"
         },
         {
          "value": 0,
          "variable": "LABS27",
          "year": "2027"
         },
         {
          "value": 0,
          "variable": "LABS27",
          "year": "2028"
         },
         {
          "value": 0,
          "variable": "LABS27",
          "year": "2029"
         },
         {
          "value": 0,
          "variable": "LABS27",
          "year": "2030"
         },
         {
          "value": 0,
          "variable": "LABS27",
          "year": "2031"
         },
         {
          "value": 0,
          "variable": "LABS27",
          "year": "2032"
         },
         {
          "value": 0,
          "variable": "LABS27",
          "year": "2033"
         },
         {
          "value": 0,
          "variable": "LABS27",
          "year": "2034"
         },
         {
          "value": 0.36208584675412975,
          "variable": "LABS27",
          "year": "2035"
         },
         {
          "value": 0.36208584675412975,
          "variable": "LABS27",
          "year": "2036"
         },
         {
          "value": 0.36208584675412975,
          "variable": "LABS27",
          "year": "2037"
         },
         {
          "value": 0.36208584675412975,
          "variable": "LABS27",
          "year": "2038"
         },
         {
          "value": 0.36208584675412975,
          "variable": "LABS27",
          "year": "2039"
         },
         {
          "value": 0,
          "variable": "LABS27",
          "year": "2040"
         },
         {
          "value": 0,
          "variable": "LABS27",
          "year": "2041"
         },
         {
          "value": 0,
          "variable": "LABS27",
          "year": "2042"
         },
         {
          "value": 0,
          "variable": "LABS27",
          "year": "2043"
         },
         {
          "value": 0,
          "variable": "LABS27",
          "year": "2044"
         },
         {
          "value": 0.4372993661990517,
          "variable": "LABS27",
          "year": "2045"
         },
         {
          "value": 0.4372993661990517,
          "variable": "LABS27",
          "year": "2046"
         },
         {
          "value": 0.4372993661990517,
          "variable": "LABS27",
          "year": "2047"
         },
         {
          "value": 0.4372993661990517,
          "variable": "LABS27",
          "year": "2048"
         },
         {
          "value": 0.4372993661990517,
          "variable": "LABS27",
          "year": "2049"
         },
         {
          "value": 0.4372993661990517,
          "variable": "LABS27",
          "year": "2050"
         },
         {
          "value": 0.4372993661990517,
          "variable": "LABS27",
          "year": "2051"
         },
         {
          "value": 0.4372993661990517,
          "variable": "LABS27",
          "year": "2052"
         },
         {
          "value": 0.4372993661990517,
          "variable": "LABS27",
          "year": "2053"
         },
         {
          "value": 0.4372993661990517,
          "variable": "LABS27",
          "year": "2054"
         },
         {
          "value": 0.4372993661990517,
          "variable": "LABS27",
          "year": "2055"
         },
         {
          "value": 0,
          "variable": "RecyclPLA4",
          "year": "2020"
         },
         {
          "value": 0,
          "variable": "RecyclPLA4",
          "year": "2021"
         },
         {
          "value": 0,
          "variable": "RecyclPLA4",
          "year": "2022"
         },
         {
          "value": 0,
          "variable": "RecyclPLA4",
          "year": "2023"
         },
         {
          "value": 0,
          "variable": "RecyclPLA4",
          "year": "2024"
         },
         {
          "value": 0,
          "variable": "RecyclPLA4",
          "year": "2025"
         },
         {
          "value": 0,
          "variable": "RecyclPLA4",
          "year": "2026"
         },
         {
          "value": 0,
          "variable": "RecyclPLA4",
          "year": "2027"
         },
         {
          "value": 0,
          "variable": "RecyclPLA4",
          "year": "2028"
         },
         {
          "value": 0,
          "variable": "RecyclPLA4",
          "year": "2029"
         },
         {
          "value": 0,
          "variable": "RecyclPLA4",
          "year": "2030"
         },
         {
          "value": 0,
          "variable": "RecyclPLA4",
          "year": "2031"
         },
         {
          "value": 0,
          "variable": "RecyclPLA4",
          "year": "2032"
         },
         {
          "value": 0,
          "variable": "RecyclPLA4",
          "year": "2033"
         },
         {
          "value": 0,
          "variable": "RecyclPLA4",
          "year": "2034"
         },
         {
          "value": 0,
          "variable": "RecyclPLA4",
          "year": "2035"
         },
         {
          "value": 0,
          "variable": "RecyclPLA4",
          "year": "2036"
         },
         {
          "value": 0,
          "variable": "RecyclPLA4",
          "year": "2037"
         },
         {
          "value": 0,
          "variable": "RecyclPLA4",
          "year": "2038"
         },
         {
          "value": 0,
          "variable": "RecyclPLA4",
          "year": "2039"
         },
         {
          "value": 0,
          "variable": "RecyclPLA4",
          "year": "2040"
         },
         {
          "value": 0,
          "variable": "RecyclPLA4",
          "year": "2041"
         },
         {
          "value": 0,
          "variable": "RecyclPLA4",
          "year": "2042"
         },
         {
          "value": 0,
          "variable": "RecyclPLA4",
          "year": "2043"
         },
         {
          "value": 0,
          "variable": "RecyclPLA4",
          "year": "2044"
         },
         {
          "value": 0.31270063380094776,
          "variable": "RecyclPLA4",
          "year": "2045"
         },
         {
          "value": 0.31270063380094776,
          "variable": "RecyclPLA4",
          "year": "2046"
         },
         {
          "value": 0.31270063380094776,
          "variable": "RecyclPLA4",
          "year": "2047"
         },
         {
          "value": 0.31270063380094776,
          "variable": "RecyclPLA4",
          "year": "2048"
         },
         {
          "value": 0.31270063380094776,
          "variable": "RecyclPLA4",
          "year": "2049"
         },
         {
          "value": 0.31270063380094776,
          "variable": "RecyclPLA4",
          "year": "2050"
         },
         {
          "value": 0.31270063380094776,
          "variable": "RecyclPLA4",
          "year": "2051"
         },
         {
          "value": 0.31270063380094776,
          "variable": "RecyclPLA4",
          "year": "2052"
         },
         {
          "value": 0.31270063380094776,
          "variable": "RecyclPLA4",
          "year": "2053"
         },
         {
          "value": 0.31270063380094776,
          "variable": "RecyclPLA4",
          "year": "2054"
         },
         {
          "value": 0.31270063380094776,
          "variable": "RecyclPLA4",
          "year": "2055"
         },
         {
          "value": 0,
          "variable": "RecyclPLA5",
          "year": "2020"
         },
         {
          "value": 0,
          "variable": "RecyclPLA5",
          "year": "2021"
         },
         {
          "value": 0,
          "variable": "RecyclPLA5",
          "year": "2022"
         },
         {
          "value": 0,
          "variable": "RecyclPLA5",
          "year": "2023"
         },
         {
          "value": 0,
          "variable": "RecyclPLA5",
          "year": "2024"
         },
         {
          "value": 0,
          "variable": "RecyclPLA5",
          "year": "2025"
         },
         {
          "value": 0,
          "variable": "RecyclPLA5",
          "year": "2026"
         },
         {
          "value": 0,
          "variable": "RecyclPLA5",
          "year": "2027"
         },
         {
          "value": 0,
          "variable": "RecyclPLA5",
          "year": "2028"
         },
         {
          "value": 0,
          "variable": "RecyclPLA5",
          "year": "2029"
         },
         {
          "value": 0,
          "variable": "RecyclPLA5",
          "year": "2030"
         },
         {
          "value": 0,
          "variable": "RecyclPLA5",
          "year": "2031"
         },
         {
          "value": 0,
          "variable": "RecyclPLA5",
          "year": "2032"
         },
         {
          "value": 0,
          "variable": "RecyclPLA5",
          "year": "2033"
         },
         {
          "value": 0,
          "variable": "RecyclPLA5",
          "year": "2034"
         },
         {
          "value": 0.3879141532458702,
          "variable": "RecyclPLA5",
          "year": "2035"
         },
         {
          "value": 0.3879141532458702,
          "variable": "RecyclPLA5",
          "year": "2036"
         },
         {
          "value": 0.3879141532458702,
          "variable": "RecyclPLA5",
          "year": "2037"
         },
         {
          "value": 0.3879141532458702,
          "variable": "RecyclPLA5",
          "year": "2038"
         },
         {
          "value": 0.3879141532458702,
          "variable": "RecyclPLA5",
          "year": "2039"
         },
         {
          "value": 0,
          "variable": "RecyclPLA5",
          "year": "2040"
         },
         {
          "value": 0,
          "variable": "RecyclPLA5",
          "year": "2041"
         },
         {
          "value": 0,
          "variable": "RecyclPLA5",
          "year": "2042"
         },
         {
          "value": 0,
          "variable": "RecyclPLA5",
          "year": "2043"
         },
         {
          "value": 0,
          "variable": "RecyclPLA5",
          "year": "2044"
         },
         {
          "value": 0,
          "variable": "RecyclPLA5",
          "year": "2045"
         },
         {
          "value": 0,
          "variable": "RecyclPLA5",
          "year": "2046"
         },
         {
          "value": 0,
          "variable": "RecyclPLA5",
          "year": "2047"
         },
         {
          "value": 0,
          "variable": "RecyclPLA5",
          "year": "2048"
         },
         {
          "value": 0,
          "variable": "RecyclPLA5",
          "year": "2049"
         },
         {
          "value": 0,
          "variable": "RecyclPLA5",
          "year": "2050"
         },
         {
          "value": 0,
          "variable": "RecyclPLA5",
          "year": "2051"
         },
         {
          "value": 0,
          "variable": "RecyclPLA5",
          "year": "2052"
         },
         {
          "value": 0,
          "variable": "RecyclPLA5",
          "year": "2053"
         },
         {
          "value": 0,
          "variable": "RecyclPLA5",
          "year": "2054"
         },
         {
          "value": 0,
          "variable": "RecyclPLA5",
          "year": "2055"
         },
         {
          "value": 0,
          "variable": "RecyclPLA6",
          "year": "2020"
         },
         {
          "value": 0,
          "variable": "RecyclPLA6",
          "year": "2021"
         },
         {
          "value": 0,
          "variable": "RecyclPLA6",
          "year": "2022"
         },
         {
          "value": 0,
          "variable": "RecyclPLA6",
          "year": "2023"
         },
         {
          "value": 0,
          "variable": "RecyclPLA6",
          "year": "2024"
         },
         {
          "value": 0,
          "variable": "RecyclPLA6",
          "year": "2025"
         },
         {
          "value": 0,
          "variable": "RecyclPLA6",
          "year": "2026"
         },
         {
          "value": 0,
          "variable": "RecyclPLA6",
          "year": "2027"
         },
         {
          "value": 0,
          "variable": "RecyclPLA6",
          "year": "2028"
         },
         {
          "value": 0,
          "variable": "RecyclPLA6",
          "year": "2029"
         },
         {
          "value": 0.3851068142716362,
          "variable": "RecyclPLA6",
          "year": "2030"
         },
         {
          "value": 0.3851068142716362,
          "variable": "RecyclPLA6",
          "year": "2031"
         },
         {
          "value": 0.3851068142716362,
          "variable": "RecyclPLA6",
          "year": "2032"
         },
         {
          "value": 0.3851068142716362,
          "variable": "RecyclPLA6",
          "year": "2033"
         },
         {
          "value": 0.3851068142716362,
          "variable": "RecyclPLA6",
          "year": "2034"
         },
         {
          "value": 0,
          "variable": "RecyclPLA6",
          "year": "2035"
         },
         {
          "value": 0,
          "variable": "RecyclPLA6",
          "year": "2036"
         },
         {
          "value": 0,
          "variable": "RecyclPLA6",
          "year": "2037"
         },
         {
          "value": 0,
          "variable": "RecyclPLA6",
          "year": "2038"
         },
         {
          "value": 0,
          "variable": "RecyclPLA6",
          "year": "2039"
         },
         {
          "value": 0.3851068142715938,
          "variable": "RecyclPLA6",
          "year": "2040"
         },
         {
          "value": 0.3851068142715938,
          "variable": "RecyclPLA6",
          "year": "2041"
         },
         {
          "value": 0.3851068142715938,
          "variable": "RecyclPLA6",
          "year": "2042"
         },
         {
          "value": 0.3851068142715938,
          "variable": "RecyclPLA6",
          "year": "2043"
         },
         {
          "value": 0.3851068142715938,
          "variable": "RecyclPLA6",
          "year": "2044"
         },
         {
          "value": 0,
          "variable": "RecyclPLA6",
          "year": "2045"
         },
         {
          "value": 0,
          "variable": "RecyclPLA6",
          "year": "2046"
         },
         {
          "value": 0,
          "variable": "RecyclPLA6",
          "year": "2047"
         },
         {
          "value": 0,
          "variable": "RecyclPLA6",
          "year": "2048"
         },
         {
          "value": 0,
          "variable": "RecyclPLA6",
          "year": "2049"
         },
         {
          "value": 0,
          "variable": "RecyclPLA6",
          "year": "2050"
         },
         {
          "value": 0,
          "variable": "RecyclPLA6",
          "year": "2051"
         },
         {
          "value": 0,
          "variable": "RecyclPLA6",
          "year": "2052"
         },
         {
          "value": 0,
          "variable": "RecyclPLA6",
          "year": "2053"
         },
         {
          "value": 0,
          "variable": "RecyclPLA6",
          "year": "2054"
         },
         {
          "value": 0,
          "variable": "RecyclPLA6",
          "year": "2055"
         },
         {
          "value": 0,
          "variable": "Conv",
          "year": "2020"
         },
         {
          "value": 0,
          "variable": "Conv",
          "year": "2021"
         },
         {
          "value": 0,
          "variable": "Conv",
          "year": "2022"
         },
         {
          "value": 0,
          "variable": "Conv",
          "year": "2023"
         },
         {
          "value": 0,
          "variable": "Conv",
          "year": "2024"
         },
         {
          "value": 0,
          "variable": "Conv",
          "year": "2025"
         },
         {
          "value": 0,
          "variable": "Conv",
          "year": "2026"
         },
         {
          "value": 0,
          "variable": "Conv",
          "year": "2027"
         },
         {
          "value": 0,
          "variable": "Conv",
          "year": "2028"
         },
         {
          "value": 0,
          "variable": "Conv",
          "year": "2029"
         },
         {
          "value": 0,
          "variable": "Conv",
          "year": "2030"
         },
         {
          "value": 0,
          "variable": "Conv",
          "year": "2031"
         },
         {
          "value": 0,
          "variable": "Conv",
          "year": "2032"
         },
         {
          "value": 0,
          "variable": "Conv",
          "year": "2033"
         },
         {
          "value": 0,
          "variable": "Conv",
          "year": "2034"
         },
         {
          "value": 0,
          "variable": "Conv",
          "year": "2035"
         },
         {
          "value": 0,
          "variable": "Conv",
          "year": "2036"
         },
         {
          "value": 0,
          "variable": "Conv",
          "year": "2037"
         },
         {
          "value": 0,
          "variable": "Conv",
          "year": "2038"
         },
         {
          "value": 0,
          "variable": "Conv",
          "year": "2039"
         },
         {
          "value": 0,
          "variable": "Conv",
          "year": "2040"
         },
         {
          "value": 0,
          "variable": "Conv",
          "year": "2041"
         },
         {
          "value": 0,
          "variable": "Conv",
          "year": "2042"
         },
         {
          "value": 0,
          "variable": "Conv",
          "year": "2043"
         },
         {
          "value": 0,
          "variable": "Conv",
          "year": "2044"
         },
         {
          "value": 0,
          "variable": "Conv",
          "year": "2045"
         },
         {
          "value": 0,
          "variable": "Conv",
          "year": "2046"
         },
         {
          "value": 0,
          "variable": "Conv",
          "year": "2047"
         },
         {
          "value": 0,
          "variable": "Conv",
          "year": "2048"
         },
         {
          "value": 0,
          "variable": "Conv",
          "year": "2049"
         },
         {
          "value": 0,
          "variable": "Conv",
          "year": "2050"
         },
         {
          "value": 0,
          "variable": "Conv",
          "year": "2051"
         },
         {
          "value": 0,
          "variable": "Conv",
          "year": "2052"
         },
         {
          "value": 0,
          "variable": "Conv",
          "year": "2053"
         },
         {
          "value": 0,
          "variable": "Conv",
          "year": "2054"
         },
         {
          "value": 0,
          "variable": "Conv",
          "year": "2055"
         },
         {
          "value": 0,
          "variable": "LABS22",
          "year": "2020"
         },
         {
          "value": 0,
          "variable": "LABS22",
          "year": "2021"
         },
         {
          "value": 0,
          "variable": "LABS22",
          "year": "2022"
         },
         {
          "value": 0,
          "variable": "LABS22",
          "year": "2023"
         },
         {
          "value": 0,
          "variable": "LABS22",
          "year": "2024"
         },
         {
          "value": 0,
          "variable": "LABS22",
          "year": "2025"
         },
         {
          "value": 0,
          "variable": "LABS22",
          "year": "2026"
         },
         {
          "value": 0,
          "variable": "LABS22",
          "year": "2027"
         },
         {
          "value": 0,
          "variable": "LABS22",
          "year": "2028"
         },
         {
          "value": 0,
          "variable": "LABS22",
          "year": "2029"
         },
         {
          "value": 0,
          "variable": "LABS22",
          "year": "2030"
         },
         {
          "value": 0,
          "variable": "LABS22",
          "year": "2031"
         },
         {
          "value": 0,
          "variable": "LABS22",
          "year": "2032"
         },
         {
          "value": 0,
          "variable": "LABS22",
          "year": "2033"
         },
         {
          "value": 0,
          "variable": "LABS22",
          "year": "2034"
         },
         {
          "value": 0,
          "variable": "LABS22",
          "year": "2035"
         },
         {
          "value": 0,
          "variable": "LABS22",
          "year": "2036"
         },
         {
          "value": 0,
          "variable": "LABS22",
          "year": "2037"
         },
         {
          "value": 0,
          "variable": "LABS22",
          "year": "2038"
         },
         {
          "value": 0,
          "variable": "LABS22",
          "year": "2039"
         },
         {
          "value": 0,
          "variable": "LABS22",
          "year": "2040"
         },
         {
          "value": 0,
          "variable": "LABS22",
          "year": "2041"
         },
         {
          "value": 0,
          "variable": "LABS22",
          "year": "2042"
         },
         {
          "value": 0,
          "variable": "LABS22",
          "year": "2043"
         },
         {
          "value": 0,
          "variable": "LABS22",
          "year": "2044"
         },
         {
          "value": 0,
          "variable": "LABS22",
          "year": "2045"
         },
         {
          "value": 0,
          "variable": "LABS22",
          "year": "2046"
         },
         {
          "value": 0,
          "variable": "LABS22",
          "year": "2047"
         },
         {
          "value": 0,
          "variable": "LABS22",
          "year": "2048"
         },
         {
          "value": 0,
          "variable": "LABS22",
          "year": "2049"
         },
         {
          "value": 0,
          "variable": "LABS22",
          "year": "2050"
         },
         {
          "value": 0,
          "variable": "LABS22",
          "year": "2051"
         },
         {
          "value": 0,
          "variable": "LABS22",
          "year": "2052"
         },
         {
          "value": 0,
          "variable": "LABS22",
          "year": "2053"
         },
         {
          "value": 0,
          "variable": "LABS22",
          "year": "2054"
         },
         {
          "value": 0,
          "variable": "LABS22",
          "year": "2055"
         },
         {
          "value": 0,
          "variable": "RecyclPLA2",
          "year": "2020"
         },
         {
          "value": 0,
          "variable": "RecyclPLA2",
          "year": "2021"
         },
         {
          "value": 0,
          "variable": "RecyclPLA2",
          "year": "2022"
         },
         {
          "value": 0,
          "variable": "RecyclPLA2",
          "year": "2023"
         },
         {
          "value": 0,
          "variable": "RecyclPLA2",
          "year": "2024"
         },
         {
          "value": 0,
          "variable": "RecyclPLA2",
          "year": "2025"
         },
         {
          "value": 0,
          "variable": "RecyclPLA2",
          "year": "2026"
         },
         {
          "value": 0,
          "variable": "RecyclPLA2",
          "year": "2027"
         },
         {
          "value": 0,
          "variable": "RecyclPLA2",
          "year": "2028"
         },
         {
          "value": 0,
          "variable": "RecyclPLA2",
          "year": "2029"
         },
         {
          "value": 0,
          "variable": "RecyclPLA2",
          "year": "2030"
         },
         {
          "value": 0,
          "variable": "RecyclPLA2",
          "year": "2031"
         },
         {
          "value": 0,
          "variable": "RecyclPLA2",
          "year": "2032"
         },
         {
          "value": 0,
          "variable": "RecyclPLA2",
          "year": "2033"
         },
         {
          "value": 0,
          "variable": "RecyclPLA2",
          "year": "2034"
         },
         {
          "value": 0,
          "variable": "RecyclPLA2",
          "year": "2035"
         },
         {
          "value": 0,
          "variable": "RecyclPLA2",
          "year": "2036"
         },
         {
          "value": 0,
          "variable": "RecyclPLA2",
          "year": "2037"
         },
         {
          "value": 0,
          "variable": "RecyclPLA2",
          "year": "2038"
         },
         {
          "value": 0,
          "variable": "RecyclPLA2",
          "year": "2039"
         },
         {
          "value": 0,
          "variable": "RecyclPLA2",
          "year": "2040"
         },
         {
          "value": 0,
          "variable": "RecyclPLA2",
          "year": "2041"
         },
         {
          "value": 0,
          "variable": "RecyclPLA2",
          "year": "2042"
         },
         {
          "value": 0,
          "variable": "RecyclPLA2",
          "year": "2043"
         },
         {
          "value": 0,
          "variable": "RecyclPLA2",
          "year": "2044"
         },
         {
          "value": 0,
          "variable": "RecyclPLA2",
          "year": "2045"
         },
         {
          "value": 0,
          "variable": "RecyclPLA2",
          "year": "2046"
         },
         {
          "value": 0,
          "variable": "RecyclPLA2",
          "year": "2047"
         },
         {
          "value": 0,
          "variable": "RecyclPLA2",
          "year": "2048"
         },
         {
          "value": 0,
          "variable": "RecyclPLA2",
          "year": "2049"
         },
         {
          "value": 0,
          "variable": "RecyclPLA2",
          "year": "2050"
         },
         {
          "value": 0,
          "variable": "RecyclPLA2",
          "year": "2051"
         },
         {
          "value": 0,
          "variable": "RecyclPLA2",
          "year": "2052"
         },
         {
          "value": 0,
          "variable": "RecyclPLA2",
          "year": "2053"
         },
         {
          "value": 0,
          "variable": "RecyclPLA2",
          "year": "2054"
         },
         {
          "value": 0,
          "variable": "RecyclPLA2",
          "year": "2055"
         },
         {
          "value": 0,
          "variable": "RecyclPLA7",
          "year": "2020"
         },
         {
          "value": 0,
          "variable": "RecyclPLA7",
          "year": "2021"
         },
         {
          "value": 0,
          "variable": "RecyclPLA7",
          "year": "2022"
         },
         {
          "value": 0,
          "variable": "RecyclPLA7",
          "year": "2023"
         },
         {
          "value": 0,
          "variable": "RecyclPLA7",
          "year": "2024"
         },
         {
          "value": 0,
          "variable": "RecyclPLA7",
          "year": "2025"
         },
         {
          "value": 0,
          "variable": "RecyclPLA7",
          "year": "2026"
         },
         {
          "value": 0,
          "variable": "RecyclPLA7",
          "year": "2027"
         },
         {
          "value": 0,
          "variable": "RecyclPLA7",
          "year": "2028"
         },
         {
          "value": 0,
          "variable": "RecyclPLA7",
          "year": "2029"
         },
         {
          "value": 0,
          "variable": "RecyclPLA7",
          "year": "2030"
         },
         {
          "value": 0,
          "variable": "RecyclPLA7",
          "year": "2031"
         },
         {
          "value": 0,
          "variable": "RecyclPLA7",
          "year": "2032"
         },
         {
          "value": 0,
          "variable": "RecyclPLA7",
          "year": "2033"
         },
         {
          "value": 0,
          "variable": "RecyclPLA7",
          "year": "2034"
         },
         {
          "value": 0,
          "variable": "RecyclPLA7",
          "year": "2035"
         },
         {
          "value": 0,
          "variable": "RecyclPLA7",
          "year": "2036"
         },
         {
          "value": 0,
          "variable": "RecyclPLA7",
          "year": "2037"
         },
         {
          "value": 0,
          "variable": "RecyclPLA7",
          "year": "2038"
         },
         {
          "value": 0,
          "variable": "RecyclPLA7",
          "year": "2039"
         },
         {
          "value": 0,
          "variable": "RecyclPLA7",
          "year": "2040"
         },
         {
          "value": 0,
          "variable": "RecyclPLA7",
          "year": "2041"
         },
         {
          "value": 0,
          "variable": "RecyclPLA7",
          "year": "2042"
         },
         {
          "value": 0,
          "variable": "RecyclPLA7",
          "year": "2043"
         },
         {
          "value": 0,
          "variable": "RecyclPLA7",
          "year": "2044"
         },
         {
          "value": 0,
          "variable": "RecyclPLA7",
          "year": "2045"
         },
         {
          "value": 0,
          "variable": "RecyclPLA7",
          "year": "2046"
         },
         {
          "value": 0,
          "variable": "RecyclPLA7",
          "year": "2047"
         },
         {
          "value": 0,
          "variable": "RecyclPLA7",
          "year": "2048"
         },
         {
          "value": 0,
          "variable": "RecyclPLA7",
          "year": "2049"
         },
         {
          "value": 0,
          "variable": "RecyclPLA7",
          "year": "2050"
         },
         {
          "value": 0,
          "variable": "RecyclPLA7",
          "year": "2051"
         },
         {
          "value": 0,
          "variable": "RecyclPLA7",
          "year": "2052"
         },
         {
          "value": 0,
          "variable": "RecyclPLA7",
          "year": "2053"
         },
         {
          "value": 0,
          "variable": "RecyclPLA7",
          "year": "2054"
         },
         {
          "value": 0,
          "variable": "RecyclPLA7",
          "year": "2055"
         },
         {
          "value": 0,
          "variable": "LABS13",
          "year": "2020"
         },
         {
          "value": 0,
          "variable": "LABS13",
          "year": "2021"
         },
         {
          "value": 0,
          "variable": "LABS13",
          "year": "2022"
         },
         {
          "value": 0,
          "variable": "LABS13",
          "year": "2023"
         },
         {
          "value": 0,
          "variable": "LABS13",
          "year": "2024"
         },
         {
          "value": 0,
          "variable": "LABS13",
          "year": "2025"
         },
         {
          "value": 0,
          "variable": "LABS13",
          "year": "2026"
         },
         {
          "value": 0,
          "variable": "LABS13",
          "year": "2027"
         },
         {
          "value": 0,
          "variable": "LABS13",
          "year": "2028"
         },
         {
          "value": 0,
          "variable": "LABS13",
          "year": "2029"
         },
         {
          "value": 0,
          "variable": "LABS13",
          "year": "2030"
         },
         {
          "value": 0,
          "variable": "LABS13",
          "year": "2031"
         },
         {
          "value": 0,
          "variable": "LABS13",
          "year": "2032"
         },
         {
          "value": 0,
          "variable": "LABS13",
          "year": "2033"
         },
         {
          "value": 0,
          "variable": "LABS13",
          "year": "2034"
         },
         {
          "value": 0,
          "variable": "LABS13",
          "year": "2035"
         },
         {
          "value": 0,
          "variable": "LABS13",
          "year": "2036"
         },
         {
          "value": 0,
          "variable": "LABS13",
          "year": "2037"
         },
         {
          "value": 0,
          "variable": "LABS13",
          "year": "2038"
         },
         {
          "value": 0,
          "variable": "LABS13",
          "year": "2039"
         },
         {
          "value": 0,
          "variable": "LABS13",
          "year": "2040"
         },
         {
          "value": 0,
          "variable": "LABS13",
          "year": "2041"
         },
         {
          "value": 0,
          "variable": "LABS13",
          "year": "2042"
         },
         {
          "value": 0,
          "variable": "LABS13",
          "year": "2043"
         },
         {
          "value": 0,
          "variable": "LABS13",
          "year": "2044"
         },
         {
          "value": 0,
          "variable": "LABS13",
          "year": "2045"
         },
         {
          "value": 0,
          "variable": "LABS13",
          "year": "2046"
         },
         {
          "value": 0,
          "variable": "LABS13",
          "year": "2047"
         },
         {
          "value": 0,
          "variable": "LABS13",
          "year": "2048"
         },
         {
          "value": 0,
          "variable": "LABS13",
          "year": "2049"
         },
         {
          "value": 0,
          "variable": "LABS13",
          "year": "2050"
         },
         {
          "value": 0,
          "variable": "LABS13",
          "year": "2051"
         },
         {
          "value": 0,
          "variable": "LABS13",
          "year": "2052"
         },
         {
          "value": 0,
          "variable": "LABS13",
          "year": "2053"
         },
         {
          "value": 0,
          "variable": "LABS13",
          "year": "2054"
         },
         {
          "value": 0,
          "variable": "LABS13",
          "year": "2055"
         }
        ]
       },
       "encoding": {
        "color": {
         "field": "variable",
         "type": "nominal"
        },
        "x": {
         "field": "year"
        },
        "y": {
         "field": "value",
         "stack": "zero",
         "title": "recycled/renewable content",
         "type": "quantitative"
        }
       },
       "legend": "sNames",
       "mark": "area"
      },
      "image/png": "[encoded data removed]",
      "image/svg+xml": [
       "<?xml version=\"1.0\" encoding=\"utf-8\"?>\n",
       "<!DOCTYPE svg PUBLIC \"-//W3C//DTD SVG 1.1//EN\" \"http://www.w3.org/Graphics/SVG/1.1/DTD/svg11.dtd\">\n",
       "<svg xmlns=\"http://www.w3.org/2000/svg\" xmlns:xlink=\"http://www.w3.org/1999/xlink\" version=\"1.1\" class=\"marks\" width=\"860\" height=\"261\" viewBox=\"0 0 860 261\"><rect width=\"860\" height=\"261\" fill=\"white\"/><g fill=\"none\" stroke-miterlimit=\"10\" transform=\"translate(42,10)\"><g class=\"mark-group role-frame root\" role=\"graphics-object\" aria-roledescription=\"group mark container\"><g transform=\"translate(0,0)\"><path class=\"background\" aria-hidden=\"true\" d=\"M0.5,0.5h720v200h-720Z\" stroke=\"#ddd\"/><g><g class=\"mark-group role-axis\" aria-hidden=\"true\"><g transform=\"translate(0.5,0.5)\"><path class=\"background\" aria-hidden=\"true\" d=\"M0,0h0v0h0Z\" pointer-events=\"none\"/><g><g class=\"mark-rule role-axis-grid\" pointer-events=\"none\"><line transform=\"translate(0,200)\" x2=\"720\" y2=\"0\" stroke=\"#ddd\" stroke-width=\"1\" opacity=\"1\"/><line transform=\"translate(0,150)\" x2=\"720\" y2=\"0\" stroke=\"#ddd\" stroke-width=\"1\" opacity=\"1\"/><line transform=\"translate(0,100)\" x2=\"720\" y2=\"0\" stroke=\"#ddd\" stroke-width=\"1\" opacity=\"1\"/><line transform=\"translate(0,50)\" x2=\"720\" y2=\"0\" stroke=\"#ddd\" stroke-width=\"1\" opacity=\"1\"/><line transform=\"translate(0,0)\" x2=\"720\" y2=\"0\" stroke=\"#ddd\" stroke-width=\"1\" opacity=\"1\"/></g></g><path class=\"foreground\" aria-hidden=\"true\" d=\"\" pointer-events=\"none\" display=\"none\"/></g></g><g class=\"mark-group role-axis\" role=\"graphics-symbol\" aria-roledescription=\"axis\" aria-label=\"X-axis titled 'year' for a discrete scale with 36 values: 2020, 2021, 2022, 2023, 2024, ending with 2055\"><g transform=\"translate(0.5,200.5)\"><path class=\"background\" aria-hidden=\"true\" d=\"M0,0h0v0h0Z\" pointer-events=\"none\"/><g><g class=\"mark-rule role-axis-tick\" pointer-events=\"none\"><line transform=\"translate(10,0)\" x2=\"0\" y2=\"5\" stroke=\"#888\" stroke-width=\"1\" opacity=\"1\"/><line transform=\"translate(30,0)\" x2=\"0\" y2=\"5\" stroke=\"#888\" stroke-width=\"1\" opacity=\"1\"/><line transform=\"translate(50,0)\" x2=\"0\" y2=\"5\" stroke=\"#888\" stroke-width=\"1\" opacity=\"1\"/><line transform=\"translate(70,0)\" x2=\"0\" y2=\"5\" stroke=\"#888\" stroke-width=\"1\" opacity=\"1\"/><line transform=\"translate(90,0)\" x2=\"0\" y2=\"5\" stroke=\"#888\" stroke-width=\"1\" opacity=\"1\"/><line transform=\"translate(110,0)\" x2=\"0\" y2=\"5\" stroke=\"#888\" stroke-width=\"1\" opacity=\"1\"/><line transform=\"translate(130,0)\" x2=\"0\" y2=\"5\" stroke=\"#888\" stroke-width=\"1\" opacity=\"1\"/><line transform=\"translate(150,0)\" x2=\"0\" y2=\"5\" stroke=\"#888\" stroke-width=\"1\" opacity=\"1\"/><line transform=\"translate(170,0)\" x2=\"0\" y2=\"5\" stroke=\"#888\" stroke-width=\"1\" opacity=\"1\"/><line transform=\"translate(190,0)\" x2=\"0\" y2=\"5\" stroke=\"#888\" stroke-width=\"1\" opacity=\"1\"/><line transform=\"translate(210,0)\" x2=\"0\" y2=\"5\" stroke=\"#888\" stroke-width=\"1\" opacity=\"1\"/><line transform=\"translate(230,0)\" x2=\"0\" y2=\"5\" stroke=\"#888\" stroke-width=\"1\" opacity=\"1\"/><line transform=\"translate(250,0)\" x2=\"0\" y2=\"5\" stroke=\"#888\" stroke-width=\"1\" opacity=\"1\"/><line transform=\"translate(270,0)\" x2=\"0\" y2=\"5\" stroke=\"#888\" stroke-width=\"1\" opacity=\"1\"/><line transform=\"translate(290,0)\" x2=\"0\" y2=\"5\" stroke=\"#888\" stroke-width=\"1\" opacity=\"1\"/><line transform=\"translate(310,0)\" x2=\"0\" y2=\"5\" stroke=\"#888\" stroke-width=\"1\" opacity=\"1\"/><line transform=\"translate(330,0)\" x2=\"0\" y2=\"5\" stroke=\"#888\" stroke-width=\"1\" opacity=\"1\"/><line transform=\"translate(350,0)\" x2=\"0\" y2=\"5\" stroke=\"#888\" stroke-width=\"1\" opacity=\"1\"/><line transform=\"translate(370,0)\" x2=\"0\" y2=\"5\" stroke=\"#888\" stroke-width=\"1\" opacity=\"1\"/><line transform=\"translate(390,0)\" x2=\"0\" y2=\"5\" stroke=\"#888\" stroke-width=\"1\" opacity=\"1\"/><line transform=\"translate(410,0)\" x2=\"0\" y2=\"5\" stroke=\"#888\" stroke-width=\"1\" opacity=\"1\"/><line transform=\"translate(430,0)\" x2=\"0\" y2=\"5\" stroke=\"#888\" stroke-width=\"1\" opacity=\"1\"/><line transform=\"translate(450,0)\" x2=\"0\" y2=\"5\" stroke=\"#888\" stroke-width=\"1\" opacity=\"1\"/><line transform=\"translate(470,0)\" x2=\"0\" y2=\"5\" stroke=\"#888\" stroke-width=\"1\" opacity=\"1\"/><line transform=\"translate(490,0)\" x2=\"0\" y2=\"5\" stroke=\"#888\" stroke-width=\"1\" opacity=\"1\"/><line transform=\"translate(510,0)\" x2=\"0\" y2=\"5\" stroke=\"#888\" stroke-width=\"1\" opacity=\"1\"/><line transform=\"translate(530,0)\" x2=\"0\" y2=\"5\" stroke=\"#888\" stroke-width=\"1\" opacity=\"1\"/><line transform=\"translate(550,0)\" x2=\"0\" y2=\"5\" stroke=\"#888\" stroke-width=\"1\" opacity=\"1\"/><line transform=\"translate(570,0)\" x2=\"0\" y2=\"5\" stroke=\"#888\" stroke-width=\"1\" opacity=\"1\"/><line transform=\"translate(590,0)\" x2=\"0\" y2=\"5\" stroke=\"#888\" stroke-width=\"1\" opacity=\"1\"/><line transform=\"translate(610,0)\" x2=\"0\" y2=\"5\" stroke=\"#888\" stroke-width=\"1\" opacity=\"1\"/><line transform=\"translate(630,0)\" x2=\"0\" y2=\"5\" stroke=\"#888\" stroke-width=\"1\" opacity=\"1\"/><line transform=\"translate(650,0)\" x2=\"0\" y2=\"5\" stroke=\"#888\" stroke-width=\"1\" opacity=\"1\"/><line transform=\"translate(670,0)\" x2=\"0\" y2=\"5\" stroke=\"#888\" stroke-width=\"1\" opacity=\"1\"/><line transform=\"translate(690,0)\" x2=\"0\" y2=\"5\" stroke=\"#888\" stroke-width=\"1\" opacity=\"1\"/><line transform=\"translate(710,0)\" x2=\"0\" y2=\"5\" stroke=\"#888\" stroke-width=\"1\" opacity=\"1\"/></g><g class=\"mark-text role-axis-label\" pointer-events=\"none\"><text text-anchor=\"end\" transform=\"translate(10,7) rotate(270) translate(0,3)\" font-family=\"sans-serif\" font-size=\"10px\" fill=\"#000\" opacity=\"1\">2020</text><text text-anchor=\"end\" transform=\"translate(30,7) rotate(270) translate(0,3)\" font-family=\"sans-serif\" font-size=\"10px\" fill=\"#000\" opacity=\"1\">2021</text><text text-anchor=\"end\" transform=\"translate(50,7) rotate(270) translate(0,3)\" font-family=\"sans-serif\" font-size=\"10px\" fill=\"#000\" opacity=\"1\">2022</text><text text-anchor=\"end\" transform=\"translate(70,7) rotate(270) translate(0,3)\" font-family=\"sans-serif\" font-size=\"10px\" fill=\"#000\" opacity=\"1\">2023</text><text text-anchor=\"end\" transform=\"translate(90,7) rotate(270) translate(0,3)\" font-family=\"sans-serif\" font-size=\"10px\" fill=\"#000\" opacity=\"1\">2024</text><text text-anchor=\"end\" transform=\"translate(110,7) rotate(270) translate(0,3)\" font-family=\"sans-serif\" font-size=\"10px\" fill=\"#000\" opacity=\"1\">2025</text><text text-anchor=\"end\" transform=\"translate(130,7) rotate(270) translate(0,3)\" font-family=\"sans-serif\" font-size=\"10px\" fill=\"#000\" opacity=\"1\">2026</text><text text-anchor=\"end\" transform=\"translate(150,7) rotate(270) translate(0,3)\" font-family=\"sans-serif\" font-size=\"10px\" fill=\"#000\" opacity=\"1\">2027</text><text text-anchor=\"end\" transform=\"translate(170,7) rotate(270) translate(0,3)\" font-family=\"sans-serif\" font-size=\"10px\" fill=\"#000\" opacity=\"1\">2028</text><text text-anchor=\"end\" transform=\"translate(190,7) rotate(270) translate(0,3)\" font-family=\"sans-serif\" font-size=\"10px\" fill=\"#000\" opacity=\"1\">2029</text><text text-anchor=\"end\" transform=\"translate(210,7) rotate(270) translate(0,3)\" font-family=\"sans-serif\" font-size=\"10px\" fill=\"#000\" opacity=\"1\">2030</text><text text-anchor=\"end\" transform=\"translate(230,7) rotate(270) translate(0,3)\" font-family=\"sans-serif\" font-size=\"10px\" fill=\"#000\" opacity=\"1\">2031</text><text text-anchor=\"end\" transform=\"translate(250,7) rotate(270) translate(0,3)\" font-family=\"sans-serif\" font-size=\"10px\" fill=\"#000\" opacity=\"1\">2032</text><text text-anchor=\"end\" transform=\"translate(270,7) rotate(270) translate(0,3)\" font-family=\"sans-serif\" font-size=\"10px\" fill=\"#000\" opacity=\"1\">2033</text><text text-anchor=\"end\" transform=\"translate(290,7) rotate(270) translate(0,3)\" font-family=\"sans-serif\" font-size=\"10px\" fill=\"#000\" opacity=\"1\">2034</text><text text-anchor=\"end\" transform=\"translate(310,7) rotate(270) translate(0,3)\" font-family=\"sans-serif\" font-size=\"10px\" fill=\"#000\" opacity=\"1\">2035</text><text text-anchor=\"end\" transform=\"translate(330,7) rotate(270) translate(0,3)\" font-family=\"sans-serif\" font-size=\"10px\" fill=\"#000\" opacity=\"1\">2036</text><text text-anchor=\"end\" transform=\"translate(350,7) rotate(270) translate(0,3)\" font-family=\"sans-serif\" font-size=\"10px\" fill=\"#000\" opacity=\"1\">2037</text><text text-anchor=\"end\" transform=\"translate(370,7) rotate(270) translate(0,3)\" font-family=\"sans-serif\" font-size=\"10px\" fill=\"#000\" opacity=\"1\">2038</text><text text-anchor=\"end\" transform=\"translate(390,7) rotate(270) translate(0,3)\" font-family=\"sans-serif\" font-size=\"10px\" fill=\"#000\" opacity=\"1\">2039</text><text text-anchor=\"end\" transform=\"translate(410,7) rotate(270) translate(0,3)\" font-family=\"sans-serif\" font-size=\"10px\" fill=\"#000\" opacity=\"1\">2040</text><text text-anchor=\"end\" transform=\"translate(430,7) rotate(270) translate(0,3)\" font-family=\"sans-serif\" font-size=\"10px\" fill=\"#000\" opacity=\"1\">2041</text><text text-anchor=\"end\" transform=\"translate(450,7) rotate(270) translate(0,3)\" font-family=\"sans-serif\" font-size=\"10px\" fill=\"#000\" opacity=\"1\">2042</text><text text-anchor=\"end\" transform=\"translate(470,7) rotate(270) translate(0,3)\" font-family=\"sans-serif\" font-size=\"10px\" fill=\"#000\" opacity=\"1\">2043</text><text text-anchor=\"end\" transform=\"translate(490,7) rotate(270) translate(0,3)\" font-family=\"sans-serif\" font-size=\"10px\" fill=\"#000\" opacity=\"1\">2044</text><text text-anchor=\"end\" transform=\"translate(510,7) rotate(270) translate(0,3)\" font-family=\"sans-serif\" font-size=\"10px\" fill=\"#000\" opacity=\"1\">2045</text><text text-anchor=\"end\" transform=\"translate(530,7) rotate(270) translate(0,3)\" font-family=\"sans-serif\" font-size=\"10px\" fill=\"#000\" opacity=\"1\">2046</text><text text-anchor=\"end\" transform=\"translate(550,7) rotate(270) translate(0,3)\" font-family=\"sans-serif\" font-size=\"10px\" fill=\"#000\" opacity=\"1\">2047</text><text text-anchor=\"end\" transform=\"translate(570,7) rotate(270) translate(0,3)\" font-family=\"sans-serif\" font-size=\"10px\" fill=\"#000\" opacity=\"1\">2048</text><text text-anchor=\"end\" transform=\"translate(590,7) rotate(270) translate(0,3)\" font-family=\"sans-serif\" font-size=\"10px\" fill=\"#000\" opacity=\"1\">2049</text><text text-anchor=\"end\" transform=\"translate(610,7) rotate(270) translate(0,3)\" font-family=\"sans-serif\" font-size=\"10px\" fill=\"#000\" opacity=\"1\">2050</text><text text-anchor=\"end\" transform=\"translate(630,7) rotate(270) translate(0,3)\" font-family=\"sans-serif\" font-size=\"10px\" fill=\"#000\" opacity=\"1\">2051</text><text text-anchor=\"end\" transform=\"translate(650,7) rotate(270) translate(0,3)\" font-family=\"sans-serif\" font-size=\"10px\" fill=\"#000\" opacity=\"1\">2052</text><text text-anchor=\"end\" transform=\"translate(670,7) rotate(270) translate(0,3)\" font-family=\"sans-serif\" font-size=\"10px\" fill=\"#000\" opacity=\"1\">2053</text><text text-anchor=\"end\" transform=\"translate(690,7) rotate(270) translate(0,3)\" font-family=\"sans-serif\" font-size=\"10px\" fill=\"#000\" opacity=\"1\">2054</text><text text-anchor=\"end\" transform=\"translate(710,7) rotate(270) translate(0,3)\" font-family=\"sans-serif\" font-size=\"10px\" fill=\"#000\" opacity=\"1\">2055</text></g><g class=\"mark-rule role-axis-domain\" pointer-events=\"none\"><line transform=\"translate(0,0)\" x2=\"720\" y2=\"0\" stroke=\"#888\" stroke-width=\"1\" opacity=\"1\"/></g><g class=\"mark-text role-axis-title\" pointer-events=\"none\"><text text-anchor=\"middle\" transform=\"translate(360,44)\" font-family=\"sans-serif\" font-size=\"11px\" font-weight=\"bold\" fill=\"#000\" opacity=\"1\">year</text></g></g><path class=\"foreground\" aria-hidden=\"true\" d=\"\" pointer-events=\"none\" display=\"none\"/></g></g><g class=\"mark-group role-axis\" role=\"graphics-symbol\" aria-roledescription=\"axis\" aria-label=\"Y-axis titled 'recycled/renewable content' for a linear scale with values from 0.0 to 0.8\"><g transform=\"translate(0.5,0.5)\"><path class=\"background\" aria-hidden=\"true\" d=\"M0,0h0v0h0Z\" pointer-events=\"none\"/><g><g class=\"mark-rule role-axis-tick\" pointer-events=\"none\"><line transform=\"translate(0,200)\" x2=\"-5\" y2=\"0\" stroke=\"#888\" stroke-width=\"1\" opacity=\"1\"/><line transform=\"translate(0,150)\" x2=\"-5\" y2=\"0\" stroke=\"#888\" stroke-width=\"1\" opacity=\"1\"/><line transform=\"translate(0,100)\" x2=\"-5\" y2=\"0\" stroke=\"#888\" stroke-width=\"1\" opacity=\"1\"/><line transform=\"translate(0,50)\" x2=\"-5\" y2=\"0\" stroke=\"#888\" stroke-width=\"1\" opacity=\"1\"/><line transform=\"translate(0,0)\" x2=\"-5\" y2=\"0\" stroke=\"#888\" stroke-width=\"1\" opacity=\"1\"/></g><g class=\"mark-text role-axis-label\" pointer-events=\"none\"><text text-anchor=\"end\" transform=\"translate(-7,203)\" font-family=\"sans-serif\" font-size=\"10px\" fill=\"#000\" opacity=\"1\">0.0</text><text text-anchor=\"end\" transform=\"translate(-7,153)\" font-family=\"sans-serif\" font-size=\"10px\" fill=\"#000\" opacity=\"1\">0.2</text><text text-anchor=\"end\" transform=\"translate(-7,103)\" font-family=\"sans-serif\" font-size=\"10px\" fill=\"#000\" opacity=\"1\">0.4</text><text text-anchor=\"end\" transform=\"translate(-7,53.00000000000002)\" font-family=\"sans-serif\" font-size=\"10px\" fill=\"#000\" opacity=\"1\">0.6</text><text text-anchor=\"end\" transform=\"translate(-7,3)\" font-family=\"sans-serif\" font-size=\"10px\" fill=\"#000\" opacity=\"1\">0.8</text></g><g class=\"mark-rule role-axis-domain\" pointer-events=\"none\"><line transform=\"translate(0,200)\" x2=\"0\" y2=\"-200\" stroke=\"#888\" stroke-width=\"1\" opacity=\"1\"/></g><g class=\"mark-text role-axis-title\" pointer-events=\"none\"><text text-anchor=\"middle\" transform=\"translate(-26,100) rotate(-90) translate(0,-2)\" font-family=\"sans-serif\" font-size=\"11px\" font-weight=\"bold\" fill=\"#000\" opacity=\"1\">recycled/renewable content</text></g></g><path class=\"foreground\" aria-hidden=\"true\" d=\"\" pointer-events=\"none\" display=\"none\"/></g></g><g class=\"mark-group role-scope pathgroup\" role=\"graphics-object\" aria-roledescription=\"group mark container\"><g transform=\"translate(0,0)\"><path class=\"background\" aria-hidden=\"true\" d=\"M0,0h720v200h-720Z\"/><g><g class=\"mark-area role-mark marks\" role=\"graphics-object\" aria-roledescription=\"area mark container\"><path aria-label=\"year: 2020; recycled/renewable content: 0; variable: LABS12\" role=\"graphics-symbol\" aria-roledescription=\"area mark\" d=\"M10,200L30,200L50,200L70,200L90,200L110,200L130,200L150,200L170,200L190,200L210,12.5L230,12.5L250,12.5L270,12.5L290,12.5L310,12.5L330,12.5L350,12.5L370,12.5L390,12.5L410,12.500000000002442L430,12.500000000002442L450,12.500000000002442L470,12.500000000002442L490,12.500000000002442L510,12.500000000000156L530,12.500000000000156L550,12.500000000000156L570,12.500000000000156L590,12.500000000000156L610,12.500000000000156L630,12.500000000000156L650,12.500000000000156L670,12.500000000000156L690,12.500000000000156L710,12.500000000000156L710,12.500000000000156L690,12.500000000000156L670,12.500000000000156L650,12.500000000000156L630,12.500000000000156L610,12.500000000000156L590,12.500000000000156L570,12.500000000000156L550,12.500000000000156L530,12.500000000000156L510,12.500000000000156L490,103.72329643210153L470,103.72329643210153L450,103.72329643210153L430,103.72329643210153L410,103.72329643210153L390,12.5L370,12.5L350,12.5L330,12.5L310,12.5L290,103.72329643209098L270,103.72329643209098L250,103.72329643209098L230,103.72329643209098L210,103.72329643209098L190,200L170,200L150,200L130,200L110,200L90,200L70,200L50,200L30,200L10,200Z\" fill=\"#f58518\"/></g></g><path class=\"foreground\" aria-hidden=\"true\" d=\"\" display=\"none\"/></g><g transform=\"translate(0,0)\"><path class=\"background\" aria-hidden=\"true\" d=\"M0,0h720v200h-720Z\"/><g><g class=\"mark-area role-mark marks\" role=\"graphics-object\" aria-roledescription=\"area mark container\"><path aria-label=\"year: 2020; recycled/renewable content: 0; variable: LABS27\" role=\"graphics-symbol\" aria-roledescription=\"area mark\" d=\"M10,200L30,200L50,200L70,200L90,200L110,200L130,200L150,200L170,200L190,200L210,103.72329643209098L230,103.72329643209098L250,103.72329643209098L270,103.72329643209098L290,103.72329643209098L310,12.5L330,12.5L350,12.5L370,12.5L390,12.5L410,103.72329643210153L430,103.72329643210153L450,103.72329643210153L470,103.72329643210153L490,103.72329643210153L510,12.500000000000156L530,12.500000000000156L550,12.500000000000156L570,12.500000000000156L590,12.500000000000156L610,12.500000000000156L630,12.500000000000156L650,12.500000000000156L670,12.500000000000156L690,12.500000000000156L710,12.500000000000156L710,121.82484154976305L690,121.82484154976305L670,121.82484154976305L650,121.82484154976305L630,121.82484154976305L610,121.82484154976305L590,121.82484154976305L570,121.82484154976305L550,121.82484154976305L530,121.82484154976305L510,121.82484154976305L490,103.72329643210153L470,103.72329643210153L450,103.72329643210153L430,103.72329643210153L410,103.72329643210153L390,103.02146168853245L370,103.02146168853245L350,103.02146168853245L330,103.02146168853245L310,103.02146168853245L290,103.72329643209098L270,103.72329643209098L250,103.72329643209098L230,103.72329643209098L210,103.72329643209098L190,200L170,200L150,200L130,200L110,200L90,200L70,200L50,200L30,200L10,200Z\" fill=\"#54a24b\"/></g></g><path class=\"foreground\" aria-hidden=\"true\" d=\"\" display=\"none\"/></g><g transform=\"translate(0,0)\"><path class=\"background\" aria-hidden=\"true\" d=\"M0,0h720v200h-720Z\"/><g><g class=\"mark-area role-mark marks\" role=\"graphics-object\" aria-roledescription=\"area mark container\"><path aria-label=\"year: 2020; recycled/renewable content: 0; variable: RecyclPLA4\" role=\"graphics-symbol\" aria-roledescription=\"area mark\" d=\"M10,200L30,200L50,200L70,200L90,200L110,200L130,200L150,200L170,200L190,200L210,103.72329643209098L230,103.72329643209098L250,103.72329643209098L270,103.72329643209098L290,103.72329643209098L310,103.02146168853245L330,103.02146168853245L350,103.02146168853245L370,103.02146168853245L390,103.02146168853245L410,103.72329643210153L430,103.72329643210153L450,103.72329643210153L470,103.72329643210153L490,103.72329643210153L510,121.82484154976305L530,121.82484154976305L550,121.82484154976305L570,121.82484154976305L590,121.82484154976305L610,121.82484154976305L630,121.82484154976305L650,121.82484154976305L670,121.82484154976305L690,121.82484154976305L710,121.82484154976305L710,200L690,200L670,200L650,200L630,200L610,200L590,200L570,200L550,200L530,200L510,200L490,103.72329643210153L470,103.72329643210153L450,103.72329643210153L430,103.72329643210153L410,103.72329643210153L390,103.02146168853245L370,103.02146168853245L350,103.02146168853245L330,103.02146168853245L310,103.02146168853245L290,103.72329643209098L270,103.72329643209098L250,103.72329643209098L230,103.72329643209098L210,103.72329643209098L190,200L170,200L150,200L130,200L110,200L90,200L70,200L50,200L30,200L10,200Z\" fill=\"#b279a2\"/></g></g><path class=\"foreground\" aria-hidden=\"true\" d=\"\" display=\"none\"/></g><g transform=\"translate(0,0)\"><path class=\"background\" aria-hidden=\"true\" d=\"M0,0h720v200h-720Z\"/><g><g class=\"mark-area role-mark marks\" role=\"graphics-object\" aria-roledescription=\"area mark container\"><path aria-label=\"year: 2020; recycled/renewable content: 0; variable: RecyclPLA5\" role=\"graphics-symbol\" aria-roledescription=\"area mark\" d=\"M10,200L30,200L50,200L70,200L90,200L110,200L130,200L150,200L170,200L190,200L210,103.72329643209098L230,103.72329643209098L250,103.72329643209098L270,103.72329643209098L290,103.72329643209098L310,103.02146168853245L330,103.02146168853245L350,103.02146168853245L370,103.02146168853245L390,103.02146168853245L410,103.72329643210153L430,103.72329643210153L450,103.72329643210153L470,103.72329643210153L490,103.72329643210153L510,200L530,200L550,200L570,200L590,200L610,200L630,200L650,200L670,200L690,200L710,200L710,200L690,200L670,200L650,200L630,200L610,200L590,200L570,200L550,200L530,200L510,200L490,103.72329643210153L470,103.72329643210153L450,103.72329643210153L430,103.72329643210153L410,103.72329643210153L390,200L370,200L350,200L330,200L310,200L290,103.72329643209098L270,103.72329643209098L250,103.72329643209098L230,103.72329643209098L210,103.72329643209098L190,200L170,200L150,200L130,200L110,200L90,200L70,200L50,200L30,200L10,200Z\" fill=\"#ff9da6\"/></g></g><path class=\"foreground\" aria-hidden=\"true\" d=\"\" display=\"none\"/></g><g transform=\"translate(0,0)\"><path class=\"background\" aria-hidden=\"true\" d=\"M0,0h720v200h-720Z\"/><g><g class=\"mark-area role-mark marks\" role=\"graphics-object\" aria-roledescription=\"area mark container\"><path aria-label=\"year: 2020; recycled/renewable content: 0; variable: RecyclPLA6\" role=\"graphics-symbol\" aria-roledescription=\"area mark\" d=\"M10,200L30,200L50,200L70,200L90,200L110,200L130,200L150,200L170,200L190,200L210,103.72329643209098L230,103.72329643209098L250,103.72329643209098L270,103.72329643209098L290,103.72329643209098L310,200L330,200L350,200L370,200L390,200L410,103.72329643210153L430,103.72329643210153L450,103.72329643210153L470,103.72329643210153L490,103.72329643210153L510,200L530,200L550,200L570,200L590,200L610,200L630,200L650,200L670,200L690,200L710,200L710,200L690,200L670,200L650,200L630,200L610,200L590,200L570,200L550,200L530,200L510,200L490,200L470,200L450,200L430,200L410,200L390,200L370,200L350,200L330,200L310,200L290,200L270,200L250,200L230,200L210,200L190,200L170,200L150,200L130,200L110,200L90,200L70,200L50,200L30,200L10,200Z\" fill=\"#9d755d\"/></g></g><path class=\"foreground\" aria-hidden=\"true\" d=\"\" display=\"none\"/></g><g transform=\"translate(0,0)\"><path class=\"background\" aria-hidden=\"true\" d=\"M0,0h720v200h-720Z\"/><g><g class=\"mark-area role-mark marks\" role=\"graphics-object\" aria-roledescription=\"area mark container\"><path aria-label=\"year: 2020; recycled/renewable content: 0; variable: Conv\" role=\"graphics-symbol\" aria-roledescription=\"area mark\" d=\"M10,200L30,200L50,200L70,200L90,200L110,200L130,200L150,200L170,200L190,200L210,12.5L230,12.5L250,12.5L270,12.5L290,12.5L310,12.5L330,12.5L350,12.5L370,12.5L390,12.5L410,12.500000000002442L430,12.500000000002442L450,12.500000000002442L470,12.500000000002442L490,12.500000000002442L510,12.500000000000156L530,12.500000000000156L550,12.500000000000156L570,12.500000000000156L590,12.500000000000156L610,12.500000000000156L630,12.500000000000156L650,12.500000000000156L670,12.500000000000156L690,12.500000000000156L710,12.500000000000156L710,12.500000000000156L690,12.500000000000156L670,12.500000000000156L650,12.500000000000156L630,12.500000000000156L610,12.500000000000156L590,12.500000000000156L570,12.500000000000156L550,12.500000000000156L530,12.500000000000156L510,12.500000000000156L490,12.500000000002442L470,12.500000000002442L450,12.500000000002442L430,12.500000000002442L410,12.500000000002442L390,12.5L370,12.5L350,12.5L330,12.5L310,12.5L290,12.5L270,12.5L250,12.5L230,12.5L210,12.5L190,200L170,200L150,200L130,200L110,200L90,200L70,200L50,200L30,200L10,200Z\" fill=\"#4c78a8\"/></g></g><path class=\"foreground\" aria-hidden=\"true\" d=\"\" display=\"none\"/></g><g transform=\"translate(0,0)\"><path class=\"background\" aria-hidden=\"true\" d=\"M0,0h720v200h-720Z\"/><g><g class=\"mark-area role-mark marks\" role=\"graphics-object\" aria-roledescription=\"area mark container\"><path aria-label=\"year: 2020; recycled/renewable content: 0; variable: LABS22\" role=\"graphics-symbol\" aria-roledescription=\"area mark\" d=\"M10,200L30,200L50,200L70,200L90,200L110,200L130,200L150,200L170,200L190,200L210,103.72329643209098L230,103.72329643209098L250,103.72329643209098L270,103.72329643209098L290,103.72329643209098L310,12.5L330,12.5L350,12.5L370,12.5L390,12.5L410,103.72329643210153L430,103.72329643210153L450,103.72329643210153L470,103.72329643210153L490,103.72329643210153L510,12.500000000000156L530,12.500000000000156L550,12.500000000000156L570,12.500000000000156L590,12.500000000000156L610,12.500000000000156L630,12.500000000000156L650,12.500000000000156L670,12.500000000000156L690,12.500000000000156L710,12.500000000000156L710,12.500000000000156L690,12.500000000000156L670,12.500000000000156L650,12.500000000000156L630,12.500000000000156L610,12.500000000000156L590,12.500000000000156L570,12.500000000000156L550,12.500000000000156L530,12.500000000000156L510,12.500000000000156L490,103.72329643210153L470,103.72329643210153L450,103.72329643210153L430,103.72329643210153L410,103.72329643210153L390,12.5L370,12.5L350,12.5L330,12.5L310,12.5L290,103.72329643209098L270,103.72329643209098L250,103.72329643209098L230,103.72329643209098L210,103.72329643209098L190,200L170,200L150,200L130,200L110,200L90,200L70,200L50,200L30,200L10,200Z\" fill=\"#72b7b2\"/></g></g><path class=\"foreground\" aria-hidden=\"true\" d=\"\" display=\"none\"/></g><g transform=\"translate(0,0)\"><path class=\"background\" aria-hidden=\"true\" d=\"M0,0h720v200h-720Z\"/><g><g class=\"mark-area role-mark marks\" role=\"graphics-object\" aria-roledescription=\"area mark container\"><path aria-label=\"year: 2020; recycled/renewable content: 0; variable: RecyclPLA2\" role=\"graphics-symbol\" aria-roledescription=\"area mark\" d=\"M10,200L30,200L50,200L70,200L90,200L110,200L130,200L150,200L170,200L190,200L210,103.72329643209098L230,103.72329643209098L250,103.72329643209098L270,103.72329643209098L290,103.72329643209098L310,103.02146168853245L330,103.02146168853245L350,103.02146168853245L370,103.02146168853245L390,103.02146168853245L410,103.72329643210153L430,103.72329643210153L450,103.72329643210153L470,103.72329643210153L490,103.72329643210153L510,121.82484154976305L530,121.82484154976305L550,121.82484154976305L570,121.82484154976305L590,121.82484154976305L610,121.82484154976305L630,121.82484154976305L650,121.82484154976305L670,121.82484154976305L690,121.82484154976305L710,121.82484154976305L710,121.82484154976305L690,121.82484154976305L670,121.82484154976305L650,121.82484154976305L630,121.82484154976305L610,121.82484154976305L590,121.82484154976305L570,121.82484154976305L550,121.82484154976305L530,121.82484154976305L510,121.82484154976305L490,103.72329643210153L470,103.72329643210153L450,103.72329643210153L430,103.72329643210153L410,103.72329643210153L390,103.02146168853245L370,103.02146168853245L350,103.02146168853245L330,103.02146168853245L310,103.02146168853245L290,103.72329643209098L270,103.72329643209098L250,103.72329643209098L230,103.72329643209098L210,103.72329643209098L190,200L170,200L150,200L130,200L110,200L90,200L70,200L50,200L30,200L10,200Z\" fill=\"#eeca3b\"/></g></g><path class=\"foreground\" aria-hidden=\"true\" d=\"\" display=\"none\"/></g><g transform=\"translate(0,0)\"><path class=\"background\" aria-hidden=\"true\" d=\"M0,0h720v200h-720Z\"/><g><g class=\"mark-area role-mark marks\" role=\"graphics-object\" aria-roledescription=\"area mark container\"><path aria-label=\"year: 2020; recycled/renewable content: 0; variable: RecyclPLA7\" role=\"graphics-symbol\" aria-roledescription=\"area mark\" d=\"M10,200L30,200L50,200L70,200L90,200L110,200L130,200L150,200L170,200L190,200L210,200L230,200L250,200L270,200L290,200L310,200L330,200L350,200L370,200L390,200L410,200L430,200L450,200L470,200L490,200L510,200L530,200L550,200L570,200L590,200L610,200L630,200L650,200L670,200L690,200L710,200L710,200L690,200L670,200L650,200L630,200L610,200L590,200L570,200L550,200L530,200L510,200L490,200L470,200L450,200L430,200L410,200L390,200L370,200L350,200L330,200L310,200L290,200L270,200L250,200L230,200L210,200L190,200L170,200L150,200L130,200L110,200L90,200L70,200L50,200L30,200L10,200Z\" fill=\"#bab0ac\"/></g></g><path class=\"foreground\" aria-hidden=\"true\" d=\"\" display=\"none\"/></g><g transform=\"translate(0,0)\"><path class=\"background\" aria-hidden=\"true\" d=\"M0,0h720v200h-720Z\"/><g><g class=\"mark-area role-mark marks\" role=\"graphics-object\" aria-roledescription=\"area mark container\"><path aria-label=\"year: 2020; recycled/renewable content: 0; variable: LABS13\" role=\"graphics-symbol\" aria-roledescription=\"area mark\" d=\"M10,200L30,200L50,200L70,200L90,200L110,200L130,200L150,200L170,200L190,200L210,103.72329643209098L230,103.72329643209098L250,103.72329643209098L270,103.72329643209098L290,103.72329643209098L310,12.5L330,12.5L350,12.5L370,12.5L390,12.5L410,103.72329643210153L430,103.72329643210153L450,103.72329643210153L470,103.72329643210153L490,103.72329643210153L510,12.500000000000156L530,12.500000000000156L550,12.500000000000156L570,12.500000000000156L590,12.500000000000156L610,12.500000000000156L630,12.500000000000156L650,12.500000000000156L670,12.500000000000156L690,12.500000000000156L710,12.500000000000156L710,12.500000000000156L690,12.500000000000156L670,12.500000000000156L650,12.500000000000156L630,12.500000000000156L610,12.500000000000156L590,12.500000000000156L570,12.500000000000156L550,12.500000000000156L530,12.500000000000156L510,12.500000000000156L490,103.72329643210153L470,103.72329643210153L450,103.72329643210153L430,103.72329643210153L410,103.72329643210153L390,12.5L370,12.5L350,12.5L330,12.5L310,12.5L290,103.72329643209098L270,103.72329643209098L250,103.72329643209098L230,103.72329643209098L210,103.72329643209098L190,200L170,200L150,200L130,200L110,200L90,200L70,200L50,200L30,200L10,200Z\" fill=\"#e45756\"/></g></g><path class=\"foreground\" aria-hidden=\"true\" d=\"\" display=\"none\"/></g></g><g class=\"mark-group role-legend\" role=\"graphics-symbol\" aria-roledescription=\"legend\" aria-label=\"Symbol legend titled 'variable' for fill color with 10 values: Conv, LABS12, LABS13, LABS22, LABS27, ending with RecyclPLA7\"><g transform=\"translate(738,0)\"><path class=\"background\" aria-hidden=\"true\" d=\"M0,0h75v144h-75Z\" pointer-events=\"none\"/><g><g class=\"mark-group role-legend-entry\"><g transform=\"translate(0,16)\"><path class=\"background\" aria-hidden=\"true\" d=\"M0,0h0v0h0Z\" pointer-events=\"none\"/><g><g class=\"mark-group role-scope\" role=\"graphics-object\" aria-roledescription=\"group mark container\"><g transform=\"translate(0,0)\"><path class=\"background\" aria-hidden=\"true\" d=\"M0,0h75v11h-75Z\" pointer-events=\"none\" opacity=\"1\"/><g><g class=\"mark-symbol role-legend-symbol\" pointer-events=\"none\"><path transform=\"translate(6,6)\" d=\"M5,0A5,5,0,1,1,-5,0A5,5,0,1,1,5,0\" fill=\"#4c78a8\" stroke-width=\"1.5\" opacity=\"1\"/></g><g class=\"mark-text role-legend-label\" pointer-events=\"none\"><text text-anchor=\"start\" transform=\"translate(16,9)\" font-family=\"sans-serif\" font-size=\"10px\" fill=\"#000\" opacity=\"1\">Conv</text></g></g><path class=\"foreground\" aria-hidden=\"true\" d=\"\" pointer-events=\"none\" display=\"none\"/></g><g transform=\"translate(0,13)\"><path class=\"background\" aria-hidden=\"true\" d=\"M0,0h75v11h-75Z\" pointer-events=\"none\" opacity=\"1\"/><g><g class=\"mark-symbol role-legend-symbol\" pointer-events=\"none\"><path transform=\"translate(6,6)\" d=\"M5,0A5,5,0,1,1,-5,0A5,5,0,1,1,5,0\" fill=\"#f58518\" stroke-width=\"1.5\" opacity=\"1\"/></g><g class=\"mark-text role-legend-label\" pointer-events=\"none\"><text text-anchor=\"start\" transform=\"translate(16,9)\" font-family=\"sans-serif\" font-size=\"10px\" fill=\"#000\" opacity=\"1\">LABS12</text></g></g><path class=\"foreground\" aria-hidden=\"true\" d=\"\" pointer-events=\"none\" display=\"none\"/></g><g transform=\"translate(0,26)\"><path class=\"background\" aria-hidden=\"true\" d=\"M0,0h75v11h-75Z\" pointer-events=\"none\" opacity=\"1\"/><g><g class=\"mark-symbol role-legend-symbol\" pointer-events=\"none\"><path transform=\"translate(6,6)\" d=\"M5,0A5,5,0,1,1,-5,0A5,5,0,1,1,5,0\" fill=\"#e45756\" stroke-width=\"1.5\" opacity=\"1\"/></g><g class=\"mark-text role-legend-label\" pointer-events=\"none\"><text text-anchor=\"start\" transform=\"translate(16,9)\" font-family=\"sans-serif\" font-size=\"10px\" fill=\"#000\" opacity=\"1\">LABS13</text></g></g><path class=\"foreground\" aria-hidden=\"true\" d=\"\" pointer-events=\"none\" display=\"none\"/></g><g transform=\"translate(0,39)\"><path class=\"background\" aria-hidden=\"true\" d=\"M0,0h75v11h-75Z\" pointer-events=\"none\" opacity=\"1\"/><g><g class=\"mark-symbol role-legend-symbol\" pointer-events=\"none\"><path transform=\"translate(6,6)\" d=\"M5,0A5,5,0,1,1,-5,0A5,5,0,1,1,5,0\" fill=\"#72b7b2\" stroke-width=\"1.5\" opacity=\"1\"/></g><g class=\"mark-text role-legend-label\" pointer-events=\"none\"><text text-anchor=\"start\" transform=\"translate(16,9)\" font-family=\"sans-serif\" font-size=\"10px\" fill=\"#000\" opacity=\"1\">LABS22</text></g></g><path class=\"foreground\" aria-hidden=\"true\" d=\"\" pointer-events=\"none\" display=\"none\"/></g><g transform=\"translate(0,52)\"><path class=\"background\" aria-hidden=\"true\" d=\"M0,0h75v11h-75Z\" pointer-events=\"none\" opacity=\"1\"/><g><g class=\"mark-symbol role-legend-symbol\" pointer-events=\"none\"><path transform=\"translate(6,6)\" d=\"M5,0A5,5,0,1,1,-5,0A5,5,0,1,1,5,0\" fill=\"#54a24b\" stroke-width=\"1.5\" opacity=\"1\"/></g><g class=\"mark-text role-legend-label\" pointer-events=\"none\"><text text-anchor=\"start\" transform=\"translate(16,9)\" font-family=\"sans-serif\" font-size=\"10px\" fill=\"#000\" opacity=\"1\">LABS27</text></g></g><path class=\"foreground\" aria-hidden=\"true\" d=\"\" pointer-events=\"none\" display=\"none\"/></g><g transform=\"translate(0,65)\"><path class=\"background\" aria-hidden=\"true\" d=\"M0,0h75v11h-75Z\" pointer-events=\"none\" opacity=\"1\"/><g><g class=\"mark-symbol role-legend-symbol\" pointer-events=\"none\"><path transform=\"translate(6,6)\" d=\"M5,0A5,5,0,1,1,-5,0A5,5,0,1,1,5,0\" fill=\"#eeca3b\" stroke-width=\"1.5\" opacity=\"1\"/></g><g class=\"mark-text role-legend-label\" pointer-events=\"none\"><text text-anchor=\"start\" transform=\"translate(16,9)\" font-family=\"sans-serif\" font-size=\"10px\" fill=\"#000\" opacity=\"1\">RecyclPLA2</text></g></g><path class=\"foreground\" aria-hidden=\"true\" d=\"\" pointer-events=\"none\" display=\"none\"/></g><g transform=\"translate(0,78)\"><path class=\"background\" aria-hidden=\"true\" d=\"M0,0h75v11h-75Z\" pointer-events=\"none\" opacity=\"1\"/><g><g class=\"mark-symbol role-legend-symbol\" pointer-events=\"none\"><path transform=\"translate(6,6)\" d=\"M5,0A5,5,0,1,1,-5,0A5,5,0,1,1,5,0\" fill=\"#b279a2\" stroke-width=\"1.5\" opacity=\"1\"/></g><g class=\"mark-text role-legend-label\" pointer-events=\"none\"><text text-anchor=\"start\" transform=\"translate(16,9)\" font-family=\"sans-serif\" font-size=\"10px\" fill=\"#000\" opacity=\"1\">RecyclPLA4</text></g></g><path class=\"foreground\" aria-hidden=\"true\" d=\"\" pointer-events=\"none\" display=\"none\"/></g><g transform=\"translate(0,91)\"><path class=\"background\" aria-hidden=\"true\" d=\"M0,0h75v11h-75Z\" pointer-events=\"none\" opacity=\"1\"/><g><g class=\"mark-symbol role-legend-symbol\" pointer-events=\"none\"><path transform=\"translate(6,6)\" d=\"M5,0A5,5,0,1,1,-5,0A5,5,0,1,1,5,0\" fill=\"#ff9da6\" stroke-width=\"1.5\" opacity=\"1\"/></g><g class=\"mark-text role-legend-label\" pointer-events=\"none\"><text text-anchor=\"start\" transform=\"translate(16,9)\" font-family=\"sans-serif\" font-size=\"10px\" fill=\"#000\" opacity=\"1\">RecyclPLA5</text></g></g><path class=\"foreground\" aria-hidden=\"true\" d=\"\" pointer-events=\"none\" display=\"none\"/></g><g transform=\"translate(0,104)\"><path class=\"background\" aria-hidden=\"true\" d=\"M0,0h75v11h-75Z\" pointer-events=\"none\" opacity=\"1\"/><g><g class=\"mark-symbol role-legend-symbol\" pointer-events=\"none\"><path transform=\"translate(6,6)\" d=\"M5,0A5,5,0,1,1,-5,0A5,5,0,1,1,5,0\" fill=\"#9d755d\" stroke-width=\"1.5\" opacity=\"1\"/></g><g class=\"mark-text role-legend-label\" pointer-events=\"none\"><text text-anchor=\"start\" transform=\"translate(16,9)\" font-family=\"sans-serif\" font-size=\"10px\" fill=\"#000\" opacity=\"1\">RecyclPLA6</text></g></g><path class=\"foreground\" aria-hidden=\"true\" d=\"\" pointer-events=\"none\" display=\"none\"/></g><g transform=\"translate(0,117)\"><path class=\"background\" aria-hidden=\"true\" d=\"M0,0h75v11h-75Z\" pointer-events=\"none\" opacity=\"1\"/><g><g class=\"mark-symbol role-legend-symbol\" pointer-events=\"none\"><path transform=\"translate(6,6)\" d=\"M5,0A5,5,0,1,1,-5,0A5,5,0,1,1,5,0\" fill=\"#bab0ac\" stroke-width=\"1.5\" opacity=\"1\"/></g><g class=\"mark-text role-legend-label\" pointer-events=\"none\"><text text-anchor=\"start\" transform=\"translate(16,9)\" font-family=\"sans-serif\" font-size=\"10px\" fill=\"#000\" opacity=\"1\">RecyclPLA7</text></g></g><path class=\"foreground\" aria-hidden=\"true\" d=\"\" pointer-events=\"none\" display=\"none\"/></g></g></g><path class=\"foreground\" aria-hidden=\"true\" d=\"\" pointer-events=\"none\" display=\"none\"/></g></g><g class=\"mark-text role-legend-title\" pointer-events=\"none\"><text text-anchor=\"start\" transform=\"translate(0,9)\" font-family=\"sans-serif\" font-size=\"11px\" font-weight=\"bold\" fill=\"#000\" opacity=\"1\">variable</text></g></g><path class=\"foreground\" aria-hidden=\"true\" d=\"\" pointer-events=\"none\" display=\"none\"/></g></g></g><path class=\"foreground\" aria-hidden=\"true\" d=\"\" display=\"none\"/></g></g></g></svg>\n"
      ],
      "text/plain": [
       "@vlplot(\n",
       "    legend=\"sNames\",\n",
       "    mark=\"area\",\n",
       "    encoding={\n",
       "        x={\n",
       "            field=\"year\"\n",
       "        },\n",
       "        y={\n",
       "            stack=\"zero\",\n",
       "            title=\"recycled/renewable content\",\n",
       "            field=\"value\"\n",
       "        },\n",
       "        color={\n",
       "            field=\"variable\",\n",
       "            type=\"nominal\"\n",
       "        }\n",
       "    },\n",
       "    data={\n",
       "        values=...\n",
       "    }\n",
       ")"
      ]
     },
     "execution_count": 55,
     "metadata": {},
     "output_type": "execute_result"
    }
   ],
   "source": [
    "#=\n",
    "function conventional(t)\n",
    "    return initial[1,5]*(1-sum(JuMP.values.(xk)[k,t] for k in 1:nrow(compromise)))\n",
    "end\n",
    "\n",
    "function innovation(i1,k1,t)\n",
    "     if mod(i1,5)>JuMP.values.(tk)[k1,t] && t<7\n",
    "        t=t+1\n",
    "    end\n",
    "    if k1==1\n",
    "        return sum(JuMP.values.(xk)[k,t]*(compromise[k,5])+JuMP.values.(xk)[k,t]*(compromise[k,6]) for k=k1:k1)\n",
    "    else\n",
    "        return sum(JuMP.values.(xk)[k,t]*(compromise[k,5])+JuMP.values.(xk)[k,t]*(compromise[k,6]) for k=k1:k1 )\n",
    "    end\n",
    "end\n",
    "=#\n",
    "\n",
    "function conventional(i1,t)\n",
    "    if t==0\n",
    "        if mod(i1,5)≥mod(sum(round.(JuMP.values.(tk)[1:nrow(compromise),t+1];digits=2)),5) && sum(JuMP.values.(xk)[1:nrow(compromise),t+1]) > 0\n",
    "            return initial[1,5]*(1-sum(JuMP.values.(xk)[k,t+1] for k in 1:nrow(compromise)))\n",
    "        else\n",
    "            return 0\n",
    "        end\n",
    "    else\n",
    "        sum_xks_atT=0\n",
    "        for k1 in 1:nrow(compromise)\n",
    "            if mod(i1,5)≥mod(round(JuMP.values.(tk)[k1,t+1];digits=2),5) && sum(JuMP.values.(xk)[k1,t:t+1])>0 && t>0\n",
    "                sum_xks_atT+=JuMP.values.(xk)[k1,t+1]\n",
    "            else\n",
    "                sum_xks_atT+=JuMP.values.(xk)[k1,t]\n",
    "            end\n",
    "        end\n",
    "            \n",
    "        #if mod(i1,5)≥mod(round(sum(JuMP.values.(tk)[1:nrow(compromise),t+1]);digits=2),5) && sum(JuMP.values.(xk)[1:nrow(compromise),t:t+1])>0 && t>0\n",
    "        #    t=t+1\n",
    "        #end\n",
    "        #return (1-sum(JuMP.values.(xk)[k,t] for k in 1:nrow(compromise)))\n",
    "        return initial[1,5]*(1-sum_xks_atT)\n",
    "    end\n",
    "end\n",
    "\n",
    "\n",
    "function innovation(i1,k1,t)\n",
    "    if t==0 \n",
    "        if mod(i1,5)≥mod(round(JuMP.values.(tk)[k1,t+1];digits=2),5) && JuMP.values.(xk)[k1,t+1] > 0\n",
    "            t=1\n",
    "            return (sum(JuMP.values.(xk)[k,t]*(compromise[k,5]+compromise[k,6]) for k=k1:k1))            \n",
    "        else\n",
    "            return 0\n",
    "        end\n",
    "    end\n",
    "    if mod(i1,5)≥mod(round(JuMP.values.(tk)[k1,t+1];digits=2),5) && sum(JuMP.values.(xk)[k1,t:t+1])>0 && t>0\n",
    "        t=t+1\n",
    "    end\n",
    "    return sum(JuMP.values.(xk)[k,t]*(compromise[k,5]+compromise[k,6]) for k=k1:k1)\n",
    "end\n",
    "\n",
    "\n",
    "\n",
    "\n",
    "\n",
    "conv=zeros(51)\n",
    "\n",
    "\n",
    "inn_co2=zeros(nrow(compromise),51)\n",
    "\n",
    "for k in 1:nrow(compromise)\n",
    "    inn_co2[k,1]=0\n",
    "end\n",
    "j=0\n",
    "for t in 2:51\n",
    "    if 0 ≤ t ≤ 5\n",
    "        j=0\n",
    "    elseif 6 ≤ t ≤ 10\n",
    "        j=1\n",
    "    elseif 6 ≤ t ≤ 10\n",
    "        j=2\n",
    "    elseif 11 ≤ t ≤ 15\n",
    "        j=3\n",
    "    elseif 16 ≤ t ≤ 20\n",
    "        j=4\n",
    "    elseif 21 ≤ t ≤ 25\n",
    "        j=5\n",
    "    else\n",
    "        j=6\n",
    "    end\n",
    "        \n",
    "    conv[t]=conventional(t,j)\n",
    "    for k in 1:nrow(compromise)\n",
    "        inn_co2[k,t]=innovation(t,k,j)\n",
    "    end\n",
    "end\n",
    "#conv[1:5].=initial[1,5]\n",
    "\n",
    "sNames = [\"conv\",\"inn1\",\"inn2\",\"inn3\",\"inn4\",\"inn5\",\"inn6\",\"inn7\",\"inn8\",\"inn9\",\"inn10\"]\n",
    "xLabels = []\n",
    "for i in 2020:2070\n",
    "    push!(xLabels,string(i))\n",
    "end\n",
    "\n",
    "#df = DataFrame(year=xLabels, conv=conv, inn1=inn_co2[1,:],inn2=inn_co2[2,:],inn3=inn_co2[3,:],inn4=inn_co2[4,:],\n",
    "#        inn5=inn_co2[5,:],inn6=inn_co2[6,:],inn7=inn_co2[7,:],inn8=inn_co2[8,:],inn9=inn_co2[9,:],inn10=inn_co2[10,:])\n",
    "df = DataFrame(vcat(conv',inn_co2)',:auto)\n",
    "\n",
    "\n",
    "df=df[1:36,:]\n",
    "\n",
    "df=df[!, any.(>(0), eachcol(df))]\n",
    "df[!,:year]=xLabels[1:36]\n",
    "#rename!(df,[:x1,:x93,:x104,:x222] .=> [:Conv,:pyLDPE1,:pyLDPE11,:alcPLA6])\n",
    "#df[!,:alcPLA2]=zeros(36)\n",
    "#df |> stack |> @vlplot(:area, x=:year, y={:value, stack=:zero, title=\"recycled/renewable content\"}, color=\"variable:n\",legend=:sNames) \n",
    "df[!,:Conv]=zeros(36)\n",
    "df[!,:x104]=zeros(36)\n",
    "df[!,:x196]=zeros(36)\n",
    "df[!,:x201]=zeros(36)\n",
    "df[!,:x95]=zeros(36)\n",
    "rename!(df,[:x94,:x95,:x104,:x109,:x196,:x198,:x199,:x200,:x201] .=> [:LABS12,:LABS13,:LABS22,:LABS27,:RecyclPLA2,:RecyclPLA4,:RecyclPLA5,:RecyclPLA6,:RecyclPLA7])\n",
    "\n",
    "#rename!(df,[:conv,:inn5,:inn10] .=> [:Conventional,:LDPE_Pyrolysis,:PLA_Alcoholysis])\n",
    "\n",
    "circular_inn=df |> stack |> @vlplot(:area, x=:year, y={:value, stack=:zero, title=\"recycled/renewable content\"}, color=\"variable:n\",legend=:sNames) \n",
    "\n",
    "save(\"./result-case-roadmap/circularity-roadmap.svg\", circular_inn)\n",
    "circular_inn\n"
   ]
  },
  {
   "cell_type": "code",
   "execution_count": 39,
   "id": "6747696d",
   "metadata": {},
   "outputs": [
    {
     "data": {
      "application/vnd.vegalite.v4+json": {
       "data": {
        "values": [
         {
          "value": 0.12,
          "variable": "conv",
          "year": "2020"
         },
         {
          "value": 0,
          "variable": "conv",
          "year": "2021"
         },
         {
          "value": 0,
          "variable": "conv",
          "year": "2022"
         },
         {
          "value": 0,
          "variable": "conv",
          "year": "2023"
         },
         {
          "value": 0,
          "variable": "conv",
          "year": "2024"
         },
         {
          "value": 0,
          "variable": "conv",
          "year": "2025"
         },
         {
          "value": 0,
          "variable": "conv",
          "year": "2026"
         },
         {
          "value": 0,
          "variable": "conv",
          "year": "2027"
         },
         {
          "value": 0,
          "variable": "conv",
          "year": "2028"
         },
         {
          "value": 0,
          "variable": "conv",
          "year": "2029"
         },
         {
          "value": 0,
          "variable": "conv",
          "year": "2030"
         },
         {
          "value": 0,
          "variable": "conv",
          "year": "2031"
         },
         {
          "value": 0,
          "variable": "conv",
          "year": "2032"
         },
         {
          "value": 0,
          "variable": "conv",
          "year": "2033"
         },
         {
          "value": 0,
          "variable": "conv",
          "year": "2034"
         },
         {
          "value": 0,
          "variable": "conv",
          "year": "2035"
         },
         {
          "value": 0,
          "variable": "conv",
          "year": "2036"
         },
         {
          "value": 0,
          "variable": "conv",
          "year": "2037"
         },
         {
          "value": 0,
          "variable": "conv",
          "year": "2038"
         },
         {
          "value": 0,
          "variable": "conv",
          "year": "2039"
         },
         {
          "value": 0,
          "variable": "conv",
          "year": "2040"
         },
         {
          "value": 0,
          "variable": "conv",
          "year": "2041"
         },
         {
          "value": 0,
          "variable": "conv",
          "year": "2042"
         },
         {
          "value": 0,
          "variable": "conv",
          "year": "2043"
         },
         {
          "value": 0,
          "variable": "conv",
          "year": "2044"
         },
         {
          "value": 0,
          "variable": "conv",
          "year": "2045"
         },
         {
          "value": 0,
          "variable": "conv",
          "year": "2046"
         },
         {
          "value": 0,
          "variable": "conv",
          "year": "2047"
         },
         {
          "value": 0,
          "variable": "conv",
          "year": "2048"
         },
         {
          "value": 0,
          "variable": "conv",
          "year": "2049"
         },
         {
          "value": 0,
          "variable": "conv",
          "year": "2050"
         },
         {
          "value": 0,
          "variable": "conv",
          "year": "2051"
         },
         {
          "value": 0,
          "variable": "conv",
          "year": "2052"
         },
         {
          "value": 0,
          "variable": "conv",
          "year": "2053"
         },
         {
          "value": 0,
          "variable": "conv",
          "year": "2054"
         },
         {
          "value": 0,
          "variable": "conv",
          "year": "2055"
         },
         {
          "value": 0,
          "variable": "inn1",
          "year": "2020"
         },
         {
          "value": 0,
          "variable": "inn1",
          "year": "2021"
         },
         {
          "value": 0,
          "variable": "inn1",
          "year": "2022"
         },
         {
          "value": 0,
          "variable": "inn1",
          "year": "2023"
         },
         {
          "value": 0,
          "variable": "inn1",
          "year": "2024"
         },
         {
          "value": 0,
          "variable": "inn1",
          "year": "2025"
         },
         {
          "value": 0,
          "variable": "inn1",
          "year": "2026"
         },
         {
          "value": 0,
          "variable": "inn1",
          "year": "2027"
         },
         {
          "value": 0,
          "variable": "inn1",
          "year": "2028"
         },
         {
          "value": 0,
          "variable": "inn1",
          "year": "2029"
         },
         {
          "value": 0,
          "variable": "inn1",
          "year": "2030"
         },
         {
          "value": 0,
          "variable": "inn1",
          "year": "2031"
         },
         {
          "value": 0,
          "variable": "inn1",
          "year": "2032"
         },
         {
          "value": 0,
          "variable": "inn1",
          "year": "2033"
         },
         {
          "value": 0,
          "variable": "inn1",
          "year": "2034"
         },
         {
          "value": 0,
          "variable": "inn1",
          "year": "2035"
         },
         {
          "value": 0,
          "variable": "inn1",
          "year": "2036"
         },
         {
          "value": 0,
          "variable": "inn1",
          "year": "2037"
         },
         {
          "value": 0,
          "variable": "inn1",
          "year": "2038"
         },
         {
          "value": 0,
          "variable": "inn1",
          "year": "2039"
         },
         {
          "value": 0,
          "variable": "inn1",
          "year": "2040"
         },
         {
          "value": 0,
          "variable": "inn1",
          "year": "2041"
         },
         {
          "value": 0,
          "variable": "inn1",
          "year": "2042"
         },
         {
          "value": 0,
          "variable": "inn1",
          "year": "2043"
         },
         {
          "value": 0,
          "variable": "inn1",
          "year": "2044"
         },
         {
          "value": 0,
          "variable": "inn1",
          "year": "2045"
         },
         {
          "value": 0,
          "variable": "inn1",
          "year": "2046"
         },
         {
          "value": 0,
          "variable": "inn1",
          "year": "2047"
         },
         {
          "value": 0,
          "variable": "inn1",
          "year": "2048"
         },
         {
          "value": 0,
          "variable": "inn1",
          "year": "2049"
         },
         {
          "value": 0,
          "variable": "inn1",
          "year": "2050"
         },
         {
          "value": 0,
          "variable": "inn1",
          "year": "2051"
         },
         {
          "value": 0,
          "variable": "inn1",
          "year": "2052"
         },
         {
          "value": 0,
          "variable": "inn1",
          "year": "2053"
         },
         {
          "value": 0,
          "variable": "inn1",
          "year": "2054"
         },
         {
          "value": 0,
          "variable": "inn1",
          "year": "2055"
         },
         {
          "value": 0,
          "variable": "inn2",
          "year": "2020"
         },
         {
          "value": 0,
          "variable": "inn2",
          "year": "2021"
         },
         {
          "value": 0,
          "variable": "inn2",
          "year": "2022"
         },
         {
          "value": 0,
          "variable": "inn2",
          "year": "2023"
         },
         {
          "value": 0,
          "variable": "inn2",
          "year": "2024"
         },
         {
          "value": 0,
          "variable": "inn2",
          "year": "2025"
         },
         {
          "value": 0,
          "variable": "inn2",
          "year": "2026"
         },
         {
          "value": 0,
          "variable": "inn2",
          "year": "2027"
         },
         {
          "value": 0,
          "variable": "inn2",
          "year": "2028"
         },
         {
          "value": 0,
          "variable": "inn2",
          "year": "2029"
         },
         {
          "value": 0,
          "variable": "inn2",
          "year": "2030"
         },
         {
          "value": 0,
          "variable": "inn2",
          "year": "2031"
         },
         {
          "value": 0,
          "variable": "inn2",
          "year": "2032"
         },
         {
          "value": 0,
          "variable": "inn2",
          "year": "2033"
         },
         {
          "value": 0,
          "variable": "inn2",
          "year": "2034"
         },
         {
          "value": 0,
          "variable": "inn2",
          "year": "2035"
         },
         {
          "value": 0,
          "variable": "inn2",
          "year": "2036"
         },
         {
          "value": 0,
          "variable": "inn2",
          "year": "2037"
         },
         {
          "value": 0,
          "variable": "inn2",
          "year": "2038"
         },
         {
          "value": 0,
          "variable": "inn2",
          "year": "2039"
         },
         {
          "value": 0,
          "variable": "inn2",
          "year": "2040"
         },
         {
          "value": 0,
          "variable": "inn2",
          "year": "2041"
         },
         {
          "value": 0,
          "variable": "inn2",
          "year": "2042"
         },
         {
          "value": 0,
          "variable": "inn2",
          "year": "2043"
         },
         {
          "value": 0,
          "variable": "inn2",
          "year": "2044"
         },
         {
          "value": 0,
          "variable": "inn2",
          "year": "2045"
         },
         {
          "value": 0,
          "variable": "inn2",
          "year": "2046"
         },
         {
          "value": 0,
          "variable": "inn2",
          "year": "2047"
         },
         {
          "value": 0,
          "variable": "inn2",
          "year": "2048"
         },
         {
          "value": 0,
          "variable": "inn2",
          "year": "2049"
         },
         {
          "value": 0,
          "variable": "inn2",
          "year": "2050"
         },
         {
          "value": 0,
          "variable": "inn2",
          "year": "2051"
         },
         {
          "value": 0,
          "variable": "inn2",
          "year": "2052"
         },
         {
          "value": 0,
          "variable": "inn2",
          "year": "2053"
         },
         {
          "value": 0,
          "variable": "inn2",
          "year": "2054"
         },
         {
          "value": 0,
          "variable": "inn2",
          "year": "2055"
         },
         {
          "value": 0,
          "variable": "inn3",
          "year": "2020"
         },
         {
          "value": 0,
          "variable": "inn3",
          "year": "2021"
         },
         {
          "value": 0,
          "variable": "inn3",
          "year": "2022"
         },
         {
          "value": 0,
          "variable": "inn3",
          "year": "2023"
         },
         {
          "value": 0,
          "variable": "inn3",
          "year": "2024"
         },
         {
          "value": 0,
          "variable": "inn3",
          "year": "2025"
         },
         {
          "value": 0,
          "variable": "inn3",
          "year": "2026"
         },
         {
          "value": 0,
          "variable": "inn3",
          "year": "2027"
         },
         {
          "value": 0,
          "variable": "inn3",
          "year": "2028"
         },
         {
          "value": 0,
          "variable": "inn3",
          "year": "2029"
         },
         {
          "value": 0,
          "variable": "inn3",
          "year": "2030"
         },
         {
          "value": 0,
          "variable": "inn3",
          "year": "2031"
         },
         {
          "value": 0,
          "variable": "inn3",
          "year": "2032"
         },
         {
          "value": 0,
          "variable": "inn3",
          "year": "2033"
         },
         {
          "value": 0,
          "variable": "inn3",
          "year": "2034"
         },
         {
          "value": 0,
          "variable": "inn3",
          "year": "2035"
         },
         {
          "value": 0,
          "variable": "inn3",
          "year": "2036"
         },
         {
          "value": 0,
          "variable": "inn3",
          "year": "2037"
         },
         {
          "value": 0,
          "variable": "inn3",
          "year": "2038"
         },
         {
          "value": 0,
          "variable": "inn3",
          "year": "2039"
         },
         {
          "value": 0,
          "variable": "inn3",
          "year": "2040"
         },
         {
          "value": 0,
          "variable": "inn3",
          "year": "2041"
         },
         {
          "value": 0,
          "variable": "inn3",
          "year": "2042"
         },
         {
          "value": 0,
          "variable": "inn3",
          "year": "2043"
         },
         {
          "value": 0,
          "variable": "inn3",
          "year": "2044"
         },
         {
          "value": 0,
          "variable": "inn3",
          "year": "2045"
         },
         {
          "value": 0,
          "variable": "inn3",
          "year": "2046"
         },
         {
          "value": 0,
          "variable": "inn3",
          "year": "2047"
         },
         {
          "value": 0,
          "variable": "inn3",
          "year": "2048"
         },
         {
          "value": 0,
          "variable": "inn3",
          "year": "2049"
         },
         {
          "value": 0,
          "variable": "inn3",
          "year": "2050"
         },
         {
          "value": 0,
          "variable": "inn3",
          "year": "2051"
         },
         {
          "value": 0,
          "variable": "inn3",
          "year": "2052"
         },
         {
          "value": 0,
          "variable": "inn3",
          "year": "2053"
         },
         {
          "value": 0,
          "variable": "inn3",
          "year": "2054"
         },
         {
          "value": 0,
          "variable": "inn3",
          "year": "2055"
         },
         {
          "value": 0,
          "variable": "inn4",
          "year": "2020"
         },
         {
          "value": 0,
          "variable": "inn4",
          "year": "2021"
         },
         {
          "value": 0,
          "variable": "inn4",
          "year": "2022"
         },
         {
          "value": 0,
          "variable": "inn4",
          "year": "2023"
         },
         {
          "value": 0,
          "variable": "inn4",
          "year": "2024"
         },
         {
          "value": 0,
          "variable": "inn4",
          "year": "2025"
         },
         {
          "value": 0,
          "variable": "inn4",
          "year": "2026"
         },
         {
          "value": 0,
          "variable": "inn4",
          "year": "2027"
         },
         {
          "value": 0,
          "variable": "inn4",
          "year": "2028"
         },
         {
          "value": 0,
          "variable": "inn4",
          "year": "2029"
         },
         {
          "value": 0,
          "variable": "inn4",
          "year": "2030"
         },
         {
          "value": 0,
          "variable": "inn4",
          "year": "2031"
         },
         {
          "value": 0,
          "variable": "inn4",
          "year": "2032"
         },
         {
          "value": 0,
          "variable": "inn4",
          "year": "2033"
         },
         {
          "value": 0,
          "variable": "inn4",
          "year": "2034"
         },
         {
          "value": 0,
          "variable": "inn4",
          "year": "2035"
         },
         {
          "value": 0,
          "variable": "inn4",
          "year": "2036"
         },
         {
          "value": 0,
          "variable": "inn4",
          "year": "2037"
         },
         {
          "value": 0,
          "variable": "inn4",
          "year": "2038"
         },
         {
          "value": 0,
          "variable": "inn4",
          "year": "2039"
         },
         {
          "value": 0,
          "variable": "inn4",
          "year": "2040"
         },
         {
          "value": 0,
          "variable": "inn4",
          "year": "2041"
         },
         {
          "value": 0,
          "variable": "inn4",
          "year": "2042"
         },
         {
          "value": 0,
          "variable": "inn4",
          "year": "2043"
         },
         {
          "value": 0,
          "variable": "inn4",
          "year": "2044"
         },
         {
          "value": 0,
          "variable": "inn4",
          "year": "2045"
         },
         {
          "value": 0,
          "variable": "inn4",
          "year": "2046"
         },
         {
          "value": 0,
          "variable": "inn4",
          "year": "2047"
         },
         {
          "value": 0,
          "variable": "inn4",
          "year": "2048"
         },
         {
          "value": 0,
          "variable": "inn4",
          "year": "2049"
         },
         {
          "value": 0,
          "variable": "inn4",
          "year": "2050"
         },
         {
          "value": 0,
          "variable": "inn4",
          "year": "2051"
         },
         {
          "value": 0,
          "variable": "inn4",
          "year": "2052"
         },
         {
          "value": 0,
          "variable": "inn4",
          "year": "2053"
         },
         {
          "value": 0,
          "variable": "inn4",
          "year": "2054"
         },
         {
          "value": 0,
          "variable": "inn4",
          "year": "2055"
         },
         {
          "value": 0,
          "variable": "inn5",
          "year": "2020"
         },
         {
          "value": 1.2134840976095327,
          "variable": "inn5",
          "year": "2021"
         },
         {
          "value": 1.2134840976095327,
          "variable": "inn5",
          "year": "2022"
         },
         {
          "value": 1.2134840976095327,
          "variable": "inn5",
          "year": "2023"
         },
         {
          "value": 1,
          "variable": "inn5",
          "year": "2024"
         },
         {
          "value": 1.2134840976095327,
          "variable": "inn5",
          "year": "2025"
         },
         {
          "value": 1.2134840976095327,
          "variable": "inn5",
          "year": "2026"
         },
         {
          "value": 1.2134840976095327,
          "variable": "inn5",
          "year": "2027"
         },
         {
          "value": 1.2134840976095327,
          "variable": "inn5",
          "year": "2028"
         },
         {
          "value": 0,
          "variable": "inn5",
          "year": "2029"
         },
         {
          "value": 1.213484097609582,
          "variable": "inn5",
          "year": "2030"
         },
         {
          "value": 1.213484097609582,
          "variable": "inn5",
          "year": "2031"
         },
         {
          "value": 1.213484097609582,
          "variable": "inn5",
          "year": "2032"
         },
         {
          "value": 1.213484097609582,
          "variable": "inn5",
          "year": "2033"
         },
         {
          "value": 0.5514678785292009,
          "variable": "inn5",
          "year": "2034"
         },
         {
          "value": 0.6620162190803317,
          "variable": "inn5",
          "year": "2035"
         },
         {
          "value": 0.6620162190803317,
          "variable": "inn5",
          "year": "2036"
         },
         {
          "value": 0.6620162190803317,
          "variable": "inn5",
          "year": "2037"
         },
         {
          "value": 0.6620162190803317,
          "variable": "inn5",
          "year": "2038"
         },
         {
          "value": 0.5481524140640046,
          "variable": "inn5",
          "year": "2039"
         },
         {
          "value": 0.6620162190803317,
          "variable": "inn5",
          "year": "2040"
         },
         {
          "value": 0.6620162190803317,
          "variable": "inn5",
          "year": "2041"
         },
         {
          "value": 0.6620162190803317,
          "variable": "inn5",
          "year": "2042"
         },
         {
          "value": 0.6620162190803317,
          "variable": "inn5",
          "year": "2043"
         },
         {
          "value": 0.5514678785292502,
          "variable": "inn5",
          "year": "2044"
         },
         {
          "value": 0.6620162190803317,
          "variable": "inn5",
          "year": "2045"
         },
         {
          "value": 0.6620162190803317,
          "variable": "inn5",
          "year": "2046"
         },
         {
          "value": 0.6620162190803317,
          "variable": "inn5",
          "year": "2047"
         },
         {
          "value": 0.6620162190803317,
          "variable": "inn5",
          "year": "2048"
         },
         {
          "value": 0.6620162190803317,
          "variable": "inn5",
          "year": "2049"
         },
         {
          "value": 0.6620162190803317,
          "variable": "inn5",
          "year": "2050"
         },
         {
          "value": 0.6620162190803317,
          "variable": "inn5",
          "year": "2051"
         },
         {
          "value": 0.6620162190803317,
          "variable": "inn5",
          "year": "2052"
         },
         {
          "value": 0.6620162190803317,
          "variable": "inn5",
          "year": "2053"
         },
         {
          "value": 0.6620162190803317,
          "variable": "inn5",
          "year": "2054"
         },
         {
          "value": 0.6620162190803317,
          "variable": "inn5",
          "year": "2055"
         },
         {
          "value": 0,
          "variable": "inn6",
          "year": "2020"
         },
         {
          "value": 0,
          "variable": "inn6",
          "year": "2021"
         },
         {
          "value": 0,
          "variable": "inn6",
          "year": "2022"
         },
         {
          "value": 0,
          "variable": "inn6",
          "year": "2023"
         },
         {
          "value": 0,
          "variable": "inn6",
          "year": "2024"
         },
         {
          "value": 0,
          "variable": "inn6",
          "year": "2025"
         },
         {
          "value": 0,
          "variable": "inn6",
          "year": "2026"
         },
         {
          "value": 0,
          "variable": "inn6",
          "year": "2027"
         },
         {
          "value": 0,
          "variable": "inn6",
          "year": "2028"
         },
         {
          "value": 0,
          "variable": "inn6",
          "year": "2029"
         },
         {
          "value": 0,
          "variable": "inn6",
          "year": "2030"
         },
         {
          "value": 0,
          "variable": "inn6",
          "year": "2031"
         },
         {
          "value": 0,
          "variable": "inn6",
          "year": "2032"
         },
         {
          "value": 0,
          "variable": "inn6",
          "year": "2033"
         },
         {
          "value": 0,
          "variable": "inn6",
          "year": "2034"
         },
         {
          "value": 0,
          "variable": "inn6",
          "year": "2035"
         },
         {
          "value": 0,
          "variable": "inn6",
          "year": "2036"
         },
         {
          "value": 0,
          "variable": "inn6",
          "year": "2037"
         },
         {
          "value": 0,
          "variable": "inn6",
          "year": "2038"
         },
         {
          "value": 0,
          "variable": "inn6",
          "year": "2039"
         },
         {
          "value": 0,
          "variable": "inn6",
          "year": "2040"
         },
         {
          "value": 0,
          "variable": "inn6",
          "year": "2041"
         },
         {
          "value": 0,
          "variable": "inn6",
          "year": "2042"
         },
         {
          "value": 0,
          "variable": "inn6",
          "year": "2043"
         },
         {
          "value": 0,
          "variable": "inn6",
          "year": "2044"
         },
         {
          "value": 0,
          "variable": "inn6",
          "year": "2045"
         },
         {
          "value": 0,
          "variable": "inn6",
          "year": "2046"
         },
         {
          "value": 0,
          "variable": "inn6",
          "year": "2047"
         },
         {
          "value": 0,
          "variable": "inn6",
          "year": "2048"
         },
         {
          "value": 0,
          "variable": "inn6",
          "year": "2049"
         },
         {
          "value": 0,
          "variable": "inn6",
          "year": "2050"
         },
         {
          "value": 0,
          "variable": "inn6",
          "year": "2051"
         },
         {
          "value": 0,
          "variable": "inn6",
          "year": "2052"
         },
         {
          "value": 0,
          "variable": "inn6",
          "year": "2053"
         },
         {
          "value": 0,
          "variable": "inn6",
          "year": "2054"
         },
         {
          "value": 0,
          "variable": "inn6",
          "year": "2055"
         },
         {
          "value": 0,
          "variable": "inn7",
          "year": "2020"
         },
         {
          "value": 0,
          "variable": "inn7",
          "year": "2021"
         },
         {
          "value": 0,
          "variable": "inn7",
          "year": "2022"
         },
         {
          "value": 0,
          "variable": "inn7",
          "year": "2023"
         },
         {
          "value": 0,
          "variable": "inn7",
          "year": "2024"
         },
         {
          "value": 0,
          "variable": "inn7",
          "year": "2025"
         },
         {
          "value": 0,
          "variable": "inn7",
          "year": "2026"
         },
         {
          "value": 0,
          "variable": "inn7",
          "year": "2027"
         },
         {
          "value": 0,
          "variable": "inn7",
          "year": "2028"
         },
         {
          "value": 0,
          "variable": "inn7",
          "year": "2029"
         },
         {
          "value": 0,
          "variable": "inn7",
          "year": "2030"
         },
         {
          "value": 0,
          "variable": "inn7",
          "year": "2031"
         },
         {
          "value": 0,
          "variable": "inn7",
          "year": "2032"
         },
         {
          "value": 0,
          "variable": "inn7",
          "year": "2033"
         },
         {
          "value": 0,
          "variable": "inn7",
          "year": "2034"
         },
         {
          "value": 0,
          "variable": "inn7",
          "year": "2035"
         },
         {
          "value": 0,
          "variable": "inn7",
          "year": "2036"
         },
         {
          "value": 0,
          "variable": "inn7",
          "year": "2037"
         },
         {
          "value": 0,
          "variable": "inn7",
          "year": "2038"
         },
         {
          "value": 0,
          "variable": "inn7",
          "year": "2039"
         },
         {
          "value": 0,
          "variable": "inn7",
          "year": "2040"
         },
         {
          "value": 0,
          "variable": "inn7",
          "year": "2041"
         },
         {
          "value": 0,
          "variable": "inn7",
          "year": "2042"
         },
         {
          "value": 0,
          "variable": "inn7",
          "year": "2043"
         },
         {
          "value": 0,
          "variable": "inn7",
          "year": "2044"
         },
         {
          "value": 0,
          "variable": "inn7",
          "year": "2045"
         },
         {
          "value": 0,
          "variable": "inn7",
          "year": "2046"
         },
         {
          "value": 0,
          "variable": "inn7",
          "year": "2047"
         },
         {
          "value": 0,
          "variable": "inn7",
          "year": "2048"
         },
         {
          "value": 0,
          "variable": "inn7",
          "year": "2049"
         },
         {
          "value": 0,
          "variable": "inn7",
          "year": "2050"
         },
         {
          "value": 0,
          "variable": "inn7",
          "year": "2051"
         },
         {
          "value": 0,
          "variable": "inn7",
          "year": "2052"
         },
         {
          "value": 0,
          "variable": "inn7",
          "year": "2053"
         },
         {
          "value": 0,
          "variable": "inn7",
          "year": "2054"
         },
         {
          "value": 0,
          "variable": "inn7",
          "year": "2055"
         },
         {
          "value": 0,
          "variable": "inn8",
          "year": "2020"
         },
         {
          "value": 0,
          "variable": "inn8",
          "year": "2021"
         },
         {
          "value": 0,
          "variable": "inn8",
          "year": "2022"
         },
         {
          "value": 0,
          "variable": "inn8",
          "year": "2023"
         },
         {
          "value": 0,
          "variable": "inn8",
          "year": "2024"
         },
         {
          "value": 0,
          "variable": "inn8",
          "year": "2025"
         },
         {
          "value": 0,
          "variable": "inn8",
          "year": "2026"
         },
         {
          "value": 0,
          "variable": "inn8",
          "year": "2027"
         },
         {
          "value": 0,
          "variable": "inn8",
          "year": "2028"
         },
         {
          "value": 0,
          "variable": "inn8",
          "year": "2029"
         },
         {
          "value": 0,
          "variable": "inn8",
          "year": "2030"
         },
         {
          "value": 0,
          "variable": "inn8",
          "year": "2031"
         },
         {
          "value": 0,
          "variable": "inn8",
          "year": "2032"
         },
         {
          "value": 0,
          "variable": "inn8",
          "year": "2033"
         },
         {
          "value": 0,
          "variable": "inn8",
          "year": "2034"
         },
         {
          "value": 0,
          "variable": "inn8",
          "year": "2035"
         },
         {
          "value": 0,
          "variable": "inn8",
          "year": "2036"
         },
         {
          "value": 0,
          "variable": "inn8",
          "year": "2037"
         },
         {
          "value": 0,
          "variable": "inn8",
          "year": "2038"
         },
         {
          "value": 0,
          "variable": "inn8",
          "year": "2039"
         },
         {
          "value": 0,
          "variable": "inn8",
          "year": "2040"
         },
         {
          "value": 0,
          "variable": "inn8",
          "year": "2041"
         },
         {
          "value": 0,
          "variable": "inn8",
          "year": "2042"
         },
         {
          "value": 0,
          "variable": "inn8",
          "year": "2043"
         },
         {
          "value": 0,
          "variable": "inn8",
          "year": "2044"
         },
         {
          "value": 0,
          "variable": "inn8",
          "year": "2045"
         },
         {
          "value": 0,
          "variable": "inn8",
          "year": "2046"
         },
         {
          "value": 0,
          "variable": "inn8",
          "year": "2047"
         },
         {
          "value": 0,
          "variable": "inn8",
          "year": "2048"
         },
         {
          "value": 0,
          "variable": "inn8",
          "year": "2049"
         },
         {
          "value": 0,
          "variable": "inn8",
          "year": "2050"
         },
         {
          "value": 0,
          "variable": "inn8",
          "year": "2051"
         },
         {
          "value": 0,
          "variable": "inn8",
          "year": "2052"
         },
         {
          "value": 0,
          "variable": "inn8",
          "year": "2053"
         },
         {
          "value": 0,
          "variable": "inn8",
          "year": "2054"
         },
         {
          "value": 0,
          "variable": "inn8",
          "year": "2055"
         },
         {
          "value": 0,
          "variable": "inn9",
          "year": "2020"
         },
         {
          "value": 0,
          "variable": "inn9",
          "year": "2021"
         },
         {
          "value": 0,
          "variable": "inn9",
          "year": "2022"
         },
         {
          "value": 0,
          "variable": "inn9",
          "year": "2023"
         },
         {
          "value": 0,
          "variable": "inn9",
          "year": "2024"
         },
         {
          "value": 0.3379837809196683,
          "variable": "inn9",
          "year": "2025"
         },
         {
          "value": 0.3379837809196683,
          "variable": "inn9",
          "year": "2026"
         },
         {
          "value": 0.3379837809196683,
          "variable": "inn9",
          "year": "2027"
         },
         {
          "value": 0.3379837809196683,
          "variable": "inn9",
          "year": "2028"
         },
         {
          "value": 1,
          "variable": "inn9",
          "year": "2029"
         },
         {
          "value": 0.3379837809196683,
          "variable": "inn9",
          "year": "2030"
         },
         {
          "value": 0.3379837809196683,
          "variable": "inn9",
          "year": "2031"
         },
         {
          "value": 0.3379837809196683,
          "variable": "inn9",
          "year": "2032"
         },
         {
          "value": 0.3379837809196683,
          "variable": "inn9",
          "year": "2033"
         },
         {
          "value": 0.4485321214707991,
          "variable": "inn9",
          "year": "2034"
         },
         {
          "value": 0.3379837809196683,
          "variable": "inn9",
          "year": "2035"
         },
         {
          "value": 0.3379837809196683,
          "variable": "inn9",
          "year": "2036"
         },
         {
          "value": 0.3379837809196683,
          "variable": "inn9",
          "year": "2037"
         },
         {
          "value": 0.3379837809196683,
          "variable": "inn9",
          "year": "2038"
         },
         {
          "value": 0.4518475859359954,
          "variable": "inn9",
          "year": "2039"
         },
         {
          "value": 0.3379837809196683,
          "variable": "inn9",
          "year": "2040"
         },
         {
          "value": 0.3379837809196683,
          "variable": "inn9",
          "year": "2041"
         },
         {
          "value": 0.3379837809196683,
          "variable": "inn9",
          "year": "2042"
         },
         {
          "value": 0.3379837809196683,
          "variable": "inn9",
          "year": "2043"
         },
         {
          "value": 0.44853212147074983,
          "variable": "inn9",
          "year": "2044"
         },
         {
          "value": 0.3379837809196683,
          "variable": "inn9",
          "year": "2045"
         },
         {
          "value": 0.3379837809196683,
          "variable": "inn9",
          "year": "2046"
         },
         {
          "value": 0.3379837809196683,
          "variable": "inn9",
          "year": "2047"
         },
         {
          "value": 0.3379837809196683,
          "variable": "inn9",
          "year": "2048"
         },
         {
          "value": 0.3379837809196683,
          "variable": "inn9",
          "year": "2049"
         },
         {
          "value": 0.3379837809196683,
          "variable": "inn9",
          "year": "2050"
         },
         {
          "value": 0.3379837809196683,
          "variable": "inn9",
          "year": "2051"
         },
         {
          "value": 0.3379837809196683,
          "variable": "inn9",
          "year": "2052"
         },
         {
          "value": 0.3379837809196683,
          "variable": "inn9",
          "year": "2053"
         },
         {
          "value": 0.3379837809196683,
          "variable": "inn9",
          "year": "2054"
         },
         {
          "value": 0.3379837809196683,
          "variable": "inn9",
          "year": "2055"
         },
         {
          "value": 0,
          "variable": "inn10",
          "year": "2020"
         },
         {
          "value": 0,
          "variable": "inn10",
          "year": "2021"
         },
         {
          "value": 0,
          "variable": "inn10",
          "year": "2022"
         },
         {
          "value": 0,
          "variable": "inn10",
          "year": "2023"
         },
         {
          "value": 0,
          "variable": "inn10",
          "year": "2024"
         },
         {
          "value": 0,
          "variable": "inn10",
          "year": "2025"
         },
         {
          "value": 0,
          "variable": "inn10",
          "year": "2026"
         },
         {
          "value": 0,
          "variable": "inn10",
          "year": "2027"
         },
         {
          "value": 0,
          "variable": "inn10",
          "year": "2028"
         },
         {
          "value": 0,
          "variable": "inn10",
          "year": "2029"
         },
         {
          "value": 0,
          "variable": "inn10",
          "year": "2030"
         },
         {
          "value": 0,
          "variable": "inn10",
          "year": "2031"
         },
         {
          "value": 0,
          "variable": "inn10",
          "year": "2032"
         },
         {
          "value": 0,
          "variable": "inn10",
          "year": "2033"
         },
         {
          "value": 0,
          "variable": "inn10",
          "year": "2034"
         },
         {
          "value": 0,
          "variable": "inn10",
          "year": "2035"
         },
         {
          "value": 0,
          "variable": "inn10",
          "year": "2036"
         },
         {
          "value": 0,
          "variable": "inn10",
          "year": "2037"
         },
         {
          "value": 0,
          "variable": "inn10",
          "year": "2038"
         },
         {
          "value": 0,
          "variable": "inn10",
          "year": "2039"
         },
         {
          "value": 0,
          "variable": "inn10",
          "year": "2040"
         },
         {
          "value": 0,
          "variable": "inn10",
          "year": "2041"
         },
         {
          "value": 0,
          "variable": "inn10",
          "year": "2042"
         },
         {
          "value": 0,
          "variable": "inn10",
          "year": "2043"
         },
         {
          "value": 0,
          "variable": "inn10",
          "year": "2044"
         },
         {
          "value": 0,
          "variable": "inn10",
          "year": "2045"
         },
         {
          "value": 0,
          "variable": "inn10",
          "year": "2046"
         },
         {
          "value": 0,
          "variable": "inn10",
          "year": "2047"
         },
         {
          "value": 0,
          "variable": "inn10",
          "year": "2048"
         },
         {
          "value": 0,
          "variable": "inn10",
          "year": "2049"
         },
         {
          "value": 0,
          "variable": "inn10",
          "year": "2050"
         },
         {
          "value": 0,
          "variable": "inn10",
          "year": "2051"
         },
         {
          "value": 0,
          "variable": "inn10",
          "year": "2052"
         },
         {
          "value": 0,
          "variable": "inn10",
          "year": "2053"
         },
         {
          "value": 0,
          "variable": "inn10",
          "year": "2054"
         },
         {
          "value": 0,
          "variable": "inn10",
          "year": "2055"
         }
        ]
       },
       "encoding": {
        "color": {
         "field": "variable",
         "type": "nominal"
        },
        "x": {
         "field": "year"
        },
        "y": {
         "field": "value",
         "stack": "zero",
         "title": "CO2",
         "type": "quantitative"
        }
       },
       "legend": "sNames",
       "mark": "area"
      },
      "image/png": "[encoded data removed]",
      "image/svg+xml": [
       "<?xml version=\"1.0\" encoding=\"utf-8\"?>\n",
       "<!DOCTYPE svg PUBLIC \"-//W3C//DTD SVG 1.1//EN\" \"http://www.w3.org/Graphics/SVG/1.1/DTD/svg11.dtd\">\n",
       "<svg xmlns=\"http://www.w3.org/2000/svg\" xmlns:xlink=\"http://www.w3.org/1999/xlink\" version=\"1.1\" class=\"marks\" width=\"834\" height=\"256\" viewBox=\"0 0 834 256\"><rect width=\"834\" height=\"256\" fill=\"white\"/><g fill=\"none\" stroke-miterlimit=\"10\" transform=\"translate(42,5)\"><g class=\"mark-group role-frame root\" role=\"graphics-object\" aria-roledescription=\"group mark container\"><g transform=\"translate(0,0)\"><path class=\"background\" aria-hidden=\"true\" d=\"M0.5,0.5h720v200h-720Z\" stroke=\"#ddd\"/><g><g class=\"mark-group role-axis\" aria-hidden=\"true\"><g transform=\"translate(0.5,0.5)\"><path class=\"background\" aria-hidden=\"true\" d=\"M0,0h0v0h0Z\" pointer-events=\"none\"/><g><g class=\"mark-rule role-axis-grid\" pointer-events=\"none\"><line transform=\"translate(0,200)\" x2=\"720\" y2=\"0\" stroke=\"#ddd\" stroke-width=\"1\" opacity=\"1\"/><line transform=\"translate(0,138)\" x2=\"720\" y2=\"0\" stroke=\"#ddd\" stroke-width=\"1\" opacity=\"1\"/><line transform=\"translate(0,75)\" x2=\"720\" y2=\"0\" stroke=\"#ddd\" stroke-width=\"1\" opacity=\"1\"/><line transform=\"translate(0,13)\" x2=\"720\" y2=\"0\" stroke=\"#ddd\" stroke-width=\"1\" opacity=\"1\"/></g></g><path class=\"foreground\" aria-hidden=\"true\" d=\"\" pointer-events=\"none\" display=\"none\"/></g></g><g class=\"mark-group role-axis\" role=\"graphics-symbol\" aria-roledescription=\"axis\" aria-label=\"X-axis titled 'year' for a discrete scale with 36 values: 2020, 2021, 2022, 2023, 2024, ending with 2055\"><g transform=\"translate(0.5,200.5)\"><path class=\"background\" aria-hidden=\"true\" d=\"M0,0h0v0h0Z\" pointer-events=\"none\"/><g><g class=\"mark-rule role-axis-tick\" pointer-events=\"none\"><line transform=\"translate(10,0)\" x2=\"0\" y2=\"5\" stroke=\"#888\" stroke-width=\"1\" opacity=\"1\"/><line transform=\"translate(30,0)\" x2=\"0\" y2=\"5\" stroke=\"#888\" stroke-width=\"1\" opacity=\"1\"/><line transform=\"translate(50,0)\" x2=\"0\" y2=\"5\" stroke=\"#888\" stroke-width=\"1\" opacity=\"1\"/><line transform=\"translate(70,0)\" x2=\"0\" y2=\"5\" stroke=\"#888\" stroke-width=\"1\" opacity=\"1\"/><line transform=\"translate(90,0)\" x2=\"0\" y2=\"5\" stroke=\"#888\" stroke-width=\"1\" opacity=\"1\"/><line transform=\"translate(110,0)\" x2=\"0\" y2=\"5\" stroke=\"#888\" stroke-width=\"1\" opacity=\"1\"/><line transform=\"translate(130,0)\" x2=\"0\" y2=\"5\" stroke=\"#888\" stroke-width=\"1\" opacity=\"1\"/><line transform=\"translate(150,0)\" x2=\"0\" y2=\"5\" stroke=\"#888\" stroke-width=\"1\" opacity=\"1\"/><line transform=\"translate(170,0)\" x2=\"0\" y2=\"5\" stroke=\"#888\" stroke-width=\"1\" opacity=\"1\"/><line transform=\"translate(190,0)\" x2=\"0\" y2=\"5\" stroke=\"#888\" stroke-width=\"1\" opacity=\"1\"/><line transform=\"translate(210,0)\" x2=\"0\" y2=\"5\" stroke=\"#888\" stroke-width=\"1\" opacity=\"1\"/><line transform=\"translate(230,0)\" x2=\"0\" y2=\"5\" stroke=\"#888\" stroke-width=\"1\" opacity=\"1\"/><line transform=\"translate(250,0)\" x2=\"0\" y2=\"5\" stroke=\"#888\" stroke-width=\"1\" opacity=\"1\"/><line transform=\"translate(270,0)\" x2=\"0\" y2=\"5\" stroke=\"#888\" stroke-width=\"1\" opacity=\"1\"/><line transform=\"translate(290,0)\" x2=\"0\" y2=\"5\" stroke=\"#888\" stroke-width=\"1\" opacity=\"1\"/><line transform=\"translate(310,0)\" x2=\"0\" y2=\"5\" stroke=\"#888\" stroke-width=\"1\" opacity=\"1\"/><line transform=\"translate(330,0)\" x2=\"0\" y2=\"5\" stroke=\"#888\" stroke-width=\"1\" opacity=\"1\"/><line transform=\"translate(350,0)\" x2=\"0\" y2=\"5\" stroke=\"#888\" stroke-width=\"1\" opacity=\"1\"/><line transform=\"translate(370,0)\" x2=\"0\" y2=\"5\" stroke=\"#888\" stroke-width=\"1\" opacity=\"1\"/><line transform=\"translate(390,0)\" x2=\"0\" y2=\"5\" stroke=\"#888\" stroke-width=\"1\" opacity=\"1\"/><line transform=\"translate(410,0)\" x2=\"0\" y2=\"5\" stroke=\"#888\" stroke-width=\"1\" opacity=\"1\"/><line transform=\"translate(430,0)\" x2=\"0\" y2=\"5\" stroke=\"#888\" stroke-width=\"1\" opacity=\"1\"/><line transform=\"translate(450,0)\" x2=\"0\" y2=\"5\" stroke=\"#888\" stroke-width=\"1\" opacity=\"1\"/><line transform=\"translate(470,0)\" x2=\"0\" y2=\"5\" stroke=\"#888\" stroke-width=\"1\" opacity=\"1\"/><line transform=\"translate(490,0)\" x2=\"0\" y2=\"5\" stroke=\"#888\" stroke-width=\"1\" opacity=\"1\"/><line transform=\"translate(510,0)\" x2=\"0\" y2=\"5\" stroke=\"#888\" stroke-width=\"1\" opacity=\"1\"/><line transform=\"translate(530,0)\" x2=\"0\" y2=\"5\" stroke=\"#888\" stroke-width=\"1\" opacity=\"1\"/><line transform=\"translate(550,0)\" x2=\"0\" y2=\"5\" stroke=\"#888\" stroke-width=\"1\" opacity=\"1\"/><line transform=\"translate(570,0)\" x2=\"0\" y2=\"5\" stroke=\"#888\" stroke-width=\"1\" opacity=\"1\"/><line transform=\"translate(590,0)\" x2=\"0\" y2=\"5\" stroke=\"#888\" stroke-width=\"1\" opacity=\"1\"/><line transform=\"translate(610,0)\" x2=\"0\" y2=\"5\" stroke=\"#888\" stroke-width=\"1\" opacity=\"1\"/><line transform=\"translate(630,0)\" x2=\"0\" y2=\"5\" stroke=\"#888\" stroke-width=\"1\" opacity=\"1\"/><line transform=\"translate(650,0)\" x2=\"0\" y2=\"5\" stroke=\"#888\" stroke-width=\"1\" opacity=\"1\"/><line transform=\"translate(670,0)\" x2=\"0\" y2=\"5\" stroke=\"#888\" stroke-width=\"1\" opacity=\"1\"/><line transform=\"translate(690,0)\" x2=\"0\" y2=\"5\" stroke=\"#888\" stroke-width=\"1\" opacity=\"1\"/><line transform=\"translate(710,0)\" x2=\"0\" y2=\"5\" stroke=\"#888\" stroke-width=\"1\" opacity=\"1\"/></g><g class=\"mark-text role-axis-label\" pointer-events=\"none\"><text text-anchor=\"end\" transform=\"translate(10,7) rotate(270) translate(0,3)\" font-family=\"sans-serif\" font-size=\"10px\" fill=\"#000\" opacity=\"1\">2020</text><text text-anchor=\"end\" transform=\"translate(30,7) rotate(270) translate(0,3)\" font-family=\"sans-serif\" font-size=\"10px\" fill=\"#000\" opacity=\"1\">2021</text><text text-anchor=\"end\" transform=\"translate(50,7) rotate(270) translate(0,3)\" font-family=\"sans-serif\" font-size=\"10px\" fill=\"#000\" opacity=\"1\">2022</text><text text-anchor=\"end\" transform=\"translate(70,7) rotate(270) translate(0,3)\" font-family=\"sans-serif\" font-size=\"10px\" fill=\"#000\" opacity=\"1\">2023</text><text text-anchor=\"end\" transform=\"translate(90,7) rotate(270) translate(0,3)\" font-family=\"sans-serif\" font-size=\"10px\" fill=\"#000\" opacity=\"1\">2024</text><text text-anchor=\"end\" transform=\"translate(110,7) rotate(270) translate(0,3)\" font-family=\"sans-serif\" font-size=\"10px\" fill=\"#000\" opacity=\"1\">2025</text><text text-anchor=\"end\" transform=\"translate(130,7) rotate(270) translate(0,3)\" font-family=\"sans-serif\" font-size=\"10px\" fill=\"#000\" opacity=\"1\">2026</text><text text-anchor=\"end\" transform=\"translate(150,7) rotate(270) translate(0,3)\" font-family=\"sans-serif\" font-size=\"10px\" fill=\"#000\" opacity=\"1\">2027</text><text text-anchor=\"end\" transform=\"translate(170,7) rotate(270) translate(0,3)\" font-family=\"sans-serif\" font-size=\"10px\" fill=\"#000\" opacity=\"1\">2028</text><text text-anchor=\"end\" transform=\"translate(190,7) rotate(270) translate(0,3)\" font-family=\"sans-serif\" font-size=\"10px\" fill=\"#000\" opacity=\"1\">2029</text><text text-anchor=\"end\" transform=\"translate(210,7) rotate(270) translate(0,3)\" font-family=\"sans-serif\" font-size=\"10px\" fill=\"#000\" opacity=\"1\">2030</text><text text-anchor=\"end\" transform=\"translate(230,7) rotate(270) translate(0,3)\" font-family=\"sans-serif\" font-size=\"10px\" fill=\"#000\" opacity=\"1\">2031</text><text text-anchor=\"end\" transform=\"translate(250,7) rotate(270) translate(0,3)\" font-family=\"sans-serif\" font-size=\"10px\" fill=\"#000\" opacity=\"1\">2032</text><text text-anchor=\"end\" transform=\"translate(270,7) rotate(270) translate(0,3)\" font-family=\"sans-serif\" font-size=\"10px\" fill=\"#000\" opacity=\"1\">2033</text><text text-anchor=\"end\" transform=\"translate(290,7) rotate(270) translate(0,3)\" font-family=\"sans-serif\" font-size=\"10px\" fill=\"#000\" opacity=\"1\">2034</text><text text-anchor=\"end\" transform=\"translate(310,7) rotate(270) translate(0,3)\" font-family=\"sans-serif\" font-size=\"10px\" fill=\"#000\" opacity=\"1\">2035</text><text text-anchor=\"end\" transform=\"translate(330,7) rotate(270) translate(0,3)\" font-family=\"sans-serif\" font-size=\"10px\" fill=\"#000\" opacity=\"1\">2036</text><text text-anchor=\"end\" transform=\"translate(350,7) rotate(270) translate(0,3)\" font-family=\"sans-serif\" font-size=\"10px\" fill=\"#000\" opacity=\"1\">2037</text><text text-anchor=\"end\" transform=\"translate(370,7) rotate(270) translate(0,3)\" font-family=\"sans-serif\" font-size=\"10px\" fill=\"#000\" opacity=\"1\">2038</text><text text-anchor=\"end\" transform=\"translate(390,7) rotate(270) translate(0,3)\" font-family=\"sans-serif\" font-size=\"10px\" fill=\"#000\" opacity=\"1\">2039</text><text text-anchor=\"end\" transform=\"translate(410,7) rotate(270) translate(0,3)\" font-family=\"sans-serif\" font-size=\"10px\" fill=\"#000\" opacity=\"1\">2040</text><text text-anchor=\"end\" transform=\"translate(430,7) rotate(270) translate(0,3)\" font-family=\"sans-serif\" font-size=\"10px\" fill=\"#000\" opacity=\"1\">2041</text><text text-anchor=\"end\" transform=\"translate(450,7) rotate(270) translate(0,3)\" font-family=\"sans-serif\" font-size=\"10px\" fill=\"#000\" opacity=\"1\">2042</text><text text-anchor=\"end\" transform=\"translate(470,7) rotate(270) translate(0,3)\" font-family=\"sans-serif\" font-size=\"10px\" fill=\"#000\" opacity=\"1\">2043</text><text text-anchor=\"end\" transform=\"translate(490,7) rotate(270) translate(0,3)\" font-family=\"sans-serif\" font-size=\"10px\" fill=\"#000\" opacity=\"1\">2044</text><text text-anchor=\"end\" transform=\"translate(510,7) rotate(270) translate(0,3)\" font-family=\"sans-serif\" font-size=\"10px\" fill=\"#000\" opacity=\"1\">2045</text><text text-anchor=\"end\" transform=\"translate(530,7) rotate(270) translate(0,3)\" font-family=\"sans-serif\" font-size=\"10px\" fill=\"#000\" opacity=\"1\">2046</text><text text-anchor=\"end\" transform=\"translate(550,7) rotate(270) translate(0,3)\" font-family=\"sans-serif\" font-size=\"10px\" fill=\"#000\" opacity=\"1\">2047</text><text text-anchor=\"end\" transform=\"translate(570,7) rotate(270) translate(0,3)\" font-family=\"sans-serif\" font-size=\"10px\" fill=\"#000\" opacity=\"1\">2048</text><text text-anchor=\"end\" transform=\"translate(590,7) rotate(270) translate(0,3)\" font-family=\"sans-serif\" font-size=\"10px\" fill=\"#000\" opacity=\"1\">2049</text><text text-anchor=\"end\" transform=\"translate(610,7) rotate(270) translate(0,3)\" font-family=\"sans-serif\" font-size=\"10px\" fill=\"#000\" opacity=\"1\">2050</text><text text-anchor=\"end\" transform=\"translate(630,7) rotate(270) translate(0,3)\" font-family=\"sans-serif\" font-size=\"10px\" fill=\"#000\" opacity=\"1\">2051</text><text text-anchor=\"end\" transform=\"translate(650,7) rotate(270) translate(0,3)\" font-family=\"sans-serif\" font-size=\"10px\" fill=\"#000\" opacity=\"1\">2052</text><text text-anchor=\"end\" transform=\"translate(670,7) rotate(270) translate(0,3)\" font-family=\"sans-serif\" font-size=\"10px\" fill=\"#000\" opacity=\"1\">2053</text><text text-anchor=\"end\" transform=\"translate(690,7) rotate(270) translate(0,3)\" font-family=\"sans-serif\" font-size=\"10px\" fill=\"#000\" opacity=\"1\">2054</text><text text-anchor=\"end\" transform=\"translate(710,7) rotate(270) translate(0,3)\" font-family=\"sans-serif\" font-size=\"10px\" fill=\"#000\" opacity=\"1\">2055</text></g><g class=\"mark-rule role-axis-domain\" pointer-events=\"none\"><line transform=\"translate(0,0)\" x2=\"720\" y2=\"0\" stroke=\"#888\" stroke-width=\"1\" opacity=\"1\"/></g><g class=\"mark-text role-axis-title\" pointer-events=\"none\"><text text-anchor=\"middle\" transform=\"translate(360,44)\" font-family=\"sans-serif\" font-size=\"11px\" font-weight=\"bold\" fill=\"#000\" opacity=\"1\">year</text></g></g><path class=\"foreground\" aria-hidden=\"true\" d=\"\" pointer-events=\"none\" display=\"none\"/></g></g><g class=\"mark-group role-axis\" role=\"graphics-symbol\" aria-roledescription=\"axis\" aria-label=\"Y-axis titled 'CO2' for a linear scale with values from 0.0 to 1.6\"><g transform=\"translate(0.5,0.5)\"><path class=\"background\" aria-hidden=\"true\" d=\"M0,0h0v0h0Z\" pointer-events=\"none\"/><g><g class=\"mark-rule role-axis-tick\" pointer-events=\"none\"><line transform=\"translate(0,200)\" x2=\"-5\" y2=\"0\" stroke=\"#888\" stroke-width=\"1\" opacity=\"1\"/><line transform=\"translate(0,138)\" x2=\"-5\" y2=\"0\" stroke=\"#888\" stroke-width=\"1\" opacity=\"1\"/><line transform=\"translate(0,75)\" x2=\"-5\" y2=\"0\" stroke=\"#888\" stroke-width=\"1\" opacity=\"1\"/><line transform=\"translate(0,13)\" x2=\"-5\" y2=\"0\" stroke=\"#888\" stroke-width=\"1\" opacity=\"1\"/></g><g class=\"mark-text role-axis-label\" pointer-events=\"none\"><text text-anchor=\"end\" transform=\"translate(-7,203)\" font-family=\"sans-serif\" font-size=\"10px\" fill=\"#000\" opacity=\"1\">0.0</text><text text-anchor=\"end\" transform=\"translate(-7,140.5)\" font-family=\"sans-serif\" font-size=\"10px\" fill=\"#000\" opacity=\"1\">0.5</text><text text-anchor=\"end\" transform=\"translate(-7,78)\" font-family=\"sans-serif\" font-size=\"10px\" fill=\"#000\" opacity=\"1\">1.0</text><text text-anchor=\"end\" transform=\"translate(-7,15.5)\" font-family=\"sans-serif\" font-size=\"10px\" fill=\"#000\" opacity=\"1\">1.5</text></g><g class=\"mark-rule role-axis-domain\" pointer-events=\"none\"><line transform=\"translate(0,200)\" x2=\"0\" y2=\"-200\" stroke=\"#888\" stroke-width=\"1\" opacity=\"1\"/></g><g class=\"mark-text role-axis-title\" pointer-events=\"none\"><text text-anchor=\"middle\" transform=\"translate(-26,100) rotate(-90) translate(0,-2)\" font-family=\"sans-serif\" font-size=\"11px\" font-weight=\"bold\" fill=\"#000\" opacity=\"1\">CO2</text></g></g><path class=\"foreground\" aria-hidden=\"true\" d=\"\" pointer-events=\"none\" display=\"none\"/></g></g><g class=\"mark-group role-scope pathgroup\" role=\"graphics-object\" aria-roledescription=\"group mark container\"><g transform=\"translate(0,0)\"><path class=\"background\" aria-hidden=\"true\" d=\"M0,0h720v200h-720Z\"/><g><g class=\"mark-area role-mark marks\" role=\"graphics-object\" aria-roledescription=\"area mark container\"><path aria-label=\"year: 2020; CO2: 0.12; variable: conv\" role=\"graphics-symbol\" aria-roledescription=\"area mark\" d=\"M10,185L30,48.31448779880843L50,48.31448779880843L70,48.31448779880843L90,75L110,6.066515183849863L130,6.066515183849863L150,6.066515183849863L170,6.066515183849863L190,75L210,6.066515183843713L230,6.066515183843713L250,6.066515183843713L270,6.066515183843713L290,75L310,75L330,75L350,75L370,75L390,75L410,75L430,75L450,75L470,75L490,75L510,75L530,75L550,75L570,75L590,75L610,75L630,75L650,75L670,75L690,75L710,75L710,75L690,75L670,75L650,75L630,75L610,75L590,75L570,75L550,75L530,75L510,75L490,75L470,75L450,75L430,75L410,75L390,75L370,75L350,75L330,75L310,75L290,75L270,6.066515183843713L250,6.066515183843713L230,6.066515183843713L210,6.066515183843713L190,75L170,6.066515183849863L150,6.066515183849863L130,6.066515183849863L110,6.066515183849863L90,75L70,48.31448779880843L50,48.31448779880843L30,48.31448779880843L10,200Z\" fill=\"#4c78a8\"/></g></g><path class=\"foreground\" aria-hidden=\"true\" d=\"\" display=\"none\"/></g><g transform=\"translate(0,0)\"><path class=\"background\" aria-hidden=\"true\" d=\"M0,0h720v200h-720Z\"/><g><g class=\"mark-area role-mark marks\" role=\"graphics-object\" aria-roledescription=\"area mark container\"><path aria-label=\"year: 2020; CO2: 0; variable: inn1\" role=\"graphics-symbol\" aria-roledescription=\"area mark\" d=\"M10,200L30,48.31448779880843L50,48.31448779880843L70,48.31448779880843L90,75L110,6.066515183849863L130,6.066515183849863L150,6.066515183849863L170,6.066515183849863L190,75L210,6.066515183843713L230,6.066515183843713L250,6.066515183843713L270,6.066515183843713L290,75L310,75L330,75L350,75L370,75L390,75L410,75L430,75L450,75L470,75L490,75L510,75L530,75L550,75L570,75L590,75L610,75L630,75L650,75L670,75L690,75L710,75L710,75L690,75L670,75L650,75L630,75L610,75L590,75L570,75L550,75L530,75L510,75L490,75L470,75L450,75L430,75L410,75L390,75L370,75L350,75L330,75L310,75L290,75L270,6.066515183843713L250,6.066515183843713L230,6.066515183843713L210,6.066515183843713L190,75L170,6.066515183849863L150,6.066515183849863L130,6.066515183849863L110,6.066515183849863L90,75L70,48.31448779880843L50,48.31448779880843L30,48.31448779880843L10,200Z\" fill=\"#f58518\"/></g></g><path class=\"foreground\" aria-hidden=\"true\" d=\"\" display=\"none\"/></g><g transform=\"translate(0,0)\"><path class=\"background\" aria-hidden=\"true\" d=\"M0,0h720v200h-720Z\"/><g><g class=\"mark-area role-mark marks\" role=\"graphics-object\" aria-roledescription=\"area mark container\"><path aria-label=\"year: 2020; CO2: 0; variable: inn2\" role=\"graphics-symbol\" aria-roledescription=\"area mark\" d=\"M10,200L30,48.31448779880843L50,48.31448779880843L70,48.31448779880843L90,75L110,6.066515183849863L130,6.066515183849863L150,6.066515183849863L170,6.066515183849863L190,75L210,6.066515183843713L230,6.066515183843713L250,6.066515183843713L270,6.066515183843713L290,75L310,75L330,75L350,75L370,75L390,75L410,75L430,75L450,75L470,75L490,75L510,75L530,75L550,75L570,75L590,75L610,75L630,75L650,75L670,75L690,75L710,75L710,75L690,75L670,75L650,75L630,75L610,75L590,75L570,75L550,75L530,75L510,75L490,75L470,75L450,75L430,75L410,75L390,75L370,75L350,75L330,75L310,75L290,75L270,6.066515183843713L250,6.066515183843713L230,6.066515183843713L210,6.066515183843713L190,75L170,6.066515183849863L150,6.066515183849863L130,6.066515183849863L110,6.066515183849863L90,75L70,48.31448779880843L50,48.31448779880843L30,48.31448779880843L10,200Z\" fill=\"#72b7b2\"/></g></g><path class=\"foreground\" aria-hidden=\"true\" d=\"\" display=\"none\"/></g><g transform=\"translate(0,0)\"><path class=\"background\" aria-hidden=\"true\" d=\"M0,0h720v200h-720Z\"/><g><g class=\"mark-area role-mark marks\" role=\"graphics-object\" aria-roledescription=\"area mark container\"><path aria-label=\"year: 2020; CO2: 0; variable: inn3\" role=\"graphics-symbol\" aria-roledescription=\"area mark\" d=\"M10,200L30,48.31448779880843L50,48.31448779880843L70,48.31448779880843L90,75L110,6.066515183849863L130,6.066515183849863L150,6.066515183849863L170,6.066515183849863L190,75L210,6.066515183843713L230,6.066515183843713L250,6.066515183843713L270,6.066515183843713L290,75L310,75L330,75L350,75L370,75L390,75L410,75L430,75L450,75L470,75L490,75L510,75L530,75L550,75L570,75L590,75L610,75L630,75L650,75L670,75L690,75L710,75L710,75L690,75L670,75L650,75L630,75L610,75L590,75L570,75L550,75L530,75L510,75L490,75L470,75L450,75L430,75L410,75L390,75L370,75L350,75L330,75L310,75L290,75L270,6.066515183843713L250,6.066515183843713L230,6.066515183843713L210,6.066515183843713L190,75L170,6.066515183849863L150,6.066515183849863L130,6.066515183849863L110,6.066515183849863L90,75L70,48.31448779880843L50,48.31448779880843L30,48.31448779880843L10,200Z\" fill=\"#54a24b\"/></g></g><path class=\"foreground\" aria-hidden=\"true\" d=\"\" display=\"none\"/></g><g transform=\"translate(0,0)\"><path class=\"background\" aria-hidden=\"true\" d=\"M0,0h720v200h-720Z\"/><g><g class=\"mark-area role-mark marks\" role=\"graphics-object\" aria-roledescription=\"area mark container\"><path aria-label=\"year: 2020; CO2: 0; variable: inn4\" role=\"graphics-symbol\" aria-roledescription=\"area mark\" d=\"M10,200L30,48.31448779880843L50,48.31448779880843L70,48.31448779880843L90,75L110,6.066515183849863L130,6.066515183849863L150,6.066515183849863L170,6.066515183849863L190,75L210,6.066515183843713L230,6.066515183843713L250,6.066515183843713L270,6.066515183843713L290,75L310,75L330,75L350,75L370,75L390,75L410,75L430,75L450,75L470,75L490,75L510,75L530,75L550,75L570,75L590,75L610,75L630,75L650,75L670,75L690,75L710,75L710,75L690,75L670,75L650,75L630,75L610,75L590,75L570,75L550,75L530,75L510,75L490,75L470,75L450,75L430,75L410,75L390,75L370,75L350,75L330,75L310,75L290,75L270,6.066515183843713L250,6.066515183843713L230,6.066515183843713L210,6.066515183843713L190,75L170,6.066515183849863L150,6.066515183849863L130,6.066515183849863L110,6.066515183849863L90,75L70,48.31448779880843L50,48.31448779880843L30,48.31448779880843L10,200Z\" fill=\"#eeca3b\"/></g></g><path class=\"foreground\" aria-hidden=\"true\" d=\"\" display=\"none\"/></g><g transform=\"translate(0,0)\"><path class=\"background\" aria-hidden=\"true\" d=\"M0,0h720v200h-720Z\"/><g><g class=\"mark-area role-mark marks\" role=\"graphics-object\" aria-roledescription=\"area mark container\"><path aria-label=\"year: 2020; CO2: 0; variable: inn5\" role=\"graphics-symbol\" aria-roledescription=\"area mark\" d=\"M10,200L30,48.31448779880843L50,48.31448779880843L70,48.31448779880843L90,75L110,6.066515183849863L130,6.066515183849863L150,6.066515183849863L170,6.066515183849863L190,75L210,6.066515183843713L230,6.066515183843713L250,6.066515183843713L270,6.066515183843713L290,75L310,75L330,75L350,75L370,75L390,75L410,75L430,75L450,75L470,75L490,75L510,75L530,75L550,75L570,75L590,75L610,75L630,75L650,75L670,75L690,75L710,75L710,157.75202738504146L690,157.75202738504146L670,157.75202738504146L650,157.75202738504146L630,157.75202738504146L610,157.75202738504146L590,157.75202738504146L570,157.75202738504146L550,157.75202738504146L530,157.75202738504146L510,157.75202738504146L490,143.9334848161563L470,157.75202738504146L450,157.75202738504146L430,157.75202738504146L410,157.75202738504146L390,143.5190517580006L370,157.75202738504146L350,157.75202738504146L330,157.75202738504146L310,157.75202738504146L290,143.93348481615013L270,157.75202738504146L250,157.75202738504146L230,157.75202738504146L210,157.75202738504146L190,75L170,157.75202738504146L150,157.75202738504146L130,157.75202738504146L110,157.75202738504146L90,200L70,200L50,200L30,200L10,200Z\" fill=\"#b279a2\"/></g></g><path class=\"foreground\" aria-hidden=\"true\" d=\"\" display=\"none\"/></g><g transform=\"translate(0,0)\"><path class=\"background\" aria-hidden=\"true\" d=\"M0,0h720v200h-720Z\"/><g><g class=\"mark-area role-mark marks\" role=\"graphics-object\" aria-roledescription=\"area mark container\"><path aria-label=\"year: 2020; CO2: 0; variable: inn6\" role=\"graphics-symbol\" aria-roledescription=\"area mark\" d=\"M10,200L30,200L50,200L70,200L90,200L110,157.75202738504146L130,157.75202738504146L150,157.75202738504146L170,157.75202738504146L190,75L210,157.75202738504146L230,157.75202738504146L250,157.75202738504146L270,157.75202738504146L290,143.93348481615013L310,157.75202738504146L330,157.75202738504146L350,157.75202738504146L370,157.75202738504146L390,143.5190517580006L410,157.75202738504146L430,157.75202738504146L450,157.75202738504146L470,157.75202738504146L490,143.9334848161563L510,157.75202738504146L530,157.75202738504146L550,157.75202738504146L570,157.75202738504146L590,157.75202738504146L610,157.75202738504146L630,157.75202738504146L650,157.75202738504146L670,157.75202738504146L690,157.75202738504146L710,157.75202738504146L710,157.75202738504146L690,157.75202738504146L670,157.75202738504146L650,157.75202738504146L630,157.75202738504146L610,157.75202738504146L590,157.75202738504146L570,157.75202738504146L550,157.75202738504146L530,157.75202738504146L510,157.75202738504146L490,143.9334848161563L470,157.75202738504146L450,157.75202738504146L430,157.75202738504146L410,157.75202738504146L390,143.5190517580006L370,157.75202738504146L350,157.75202738504146L330,157.75202738504146L310,157.75202738504146L290,143.93348481615013L270,157.75202738504146L250,157.75202738504146L230,157.75202738504146L210,157.75202738504146L190,75L170,157.75202738504146L150,157.75202738504146L130,157.75202738504146L110,157.75202738504146L90,200L70,200L50,200L30,200L10,200Z\" fill=\"#ff9da6\"/></g></g><path class=\"foreground\" aria-hidden=\"true\" d=\"\" display=\"none\"/></g><g transform=\"translate(0,0)\"><path class=\"background\" aria-hidden=\"true\" d=\"M0,0h720v200h-720Z\"/><g><g class=\"mark-area role-mark marks\" role=\"graphics-object\" aria-roledescription=\"area mark container\"><path aria-label=\"year: 2020; CO2: 0; variable: inn7\" role=\"graphics-symbol\" aria-roledescription=\"area mark\" d=\"M10,200L30,200L50,200L70,200L90,200L110,157.75202738504146L130,157.75202738504146L150,157.75202738504146L170,157.75202738504146L190,75L210,157.75202738504146L230,157.75202738504146L250,157.75202738504146L270,157.75202738504146L290,143.93348481615013L310,157.75202738504146L330,157.75202738504146L350,157.75202738504146L370,157.75202738504146L390,143.5190517580006L410,157.75202738504146L430,157.75202738504146L450,157.75202738504146L470,157.75202738504146L490,143.9334848161563L510,157.75202738504146L530,157.75202738504146L550,157.75202738504146L570,157.75202738504146L590,157.75202738504146L610,157.75202738504146L630,157.75202738504146L650,157.75202738504146L670,157.75202738504146L690,157.75202738504146L710,157.75202738504146L710,157.75202738504146L690,157.75202738504146L670,157.75202738504146L650,157.75202738504146L630,157.75202738504146L610,157.75202738504146L590,157.75202738504146L570,157.75202738504146L550,157.75202738504146L530,157.75202738504146L510,157.75202738504146L490,143.9334848161563L470,157.75202738504146L450,157.75202738504146L430,157.75202738504146L410,157.75202738504146L390,143.5190517580006L370,157.75202738504146L350,157.75202738504146L330,157.75202738504146L310,157.75202738504146L290,143.93348481615013L270,157.75202738504146L250,157.75202738504146L230,157.75202738504146L210,157.75202738504146L190,75L170,157.75202738504146L150,157.75202738504146L130,157.75202738504146L110,157.75202738504146L90,200L70,200L50,200L30,200L10,200Z\" fill=\"#9d755d\"/></g></g><path class=\"foreground\" aria-hidden=\"true\" d=\"\" display=\"none\"/></g><g transform=\"translate(0,0)\"><path class=\"background\" aria-hidden=\"true\" d=\"M0,0h720v200h-720Z\"/><g><g class=\"mark-area role-mark marks\" role=\"graphics-object\" aria-roledescription=\"area mark container\"><path aria-label=\"year: 2020; CO2: 0; variable: inn8\" role=\"graphics-symbol\" aria-roledescription=\"area mark\" d=\"M10,200L30,200L50,200L70,200L90,200L110,157.75202738504146L130,157.75202738504146L150,157.75202738504146L170,157.75202738504146L190,75L210,157.75202738504146L230,157.75202738504146L250,157.75202738504146L270,157.75202738504146L290,143.93348481615013L310,157.75202738504146L330,157.75202738504146L350,157.75202738504146L370,157.75202738504146L390,143.5190517580006L410,157.75202738504146L430,157.75202738504146L450,157.75202738504146L470,157.75202738504146L490,143.9334848161563L510,157.75202738504146L530,157.75202738504146L550,157.75202738504146L570,157.75202738504146L590,157.75202738504146L610,157.75202738504146L630,157.75202738504146L650,157.75202738504146L670,157.75202738504146L690,157.75202738504146L710,157.75202738504146L710,157.75202738504146L690,157.75202738504146L670,157.75202738504146L650,157.75202738504146L630,157.75202738504146L610,157.75202738504146L590,157.75202738504146L570,157.75202738504146L550,157.75202738504146L530,157.75202738504146L510,157.75202738504146L490,143.9334848161563L470,157.75202738504146L450,157.75202738504146L430,157.75202738504146L410,157.75202738504146L390,143.5190517580006L370,157.75202738504146L350,157.75202738504146L330,157.75202738504146L310,157.75202738504146L290,143.93348481615013L270,157.75202738504146L250,157.75202738504146L230,157.75202738504146L210,157.75202738504146L190,75L170,157.75202738504146L150,157.75202738504146L130,157.75202738504146L110,157.75202738504146L90,200L70,200L50,200L30,200L10,200Z\" fill=\"#bab0ac\"/></g></g><path class=\"foreground\" aria-hidden=\"true\" d=\"\" display=\"none\"/></g><g transform=\"translate(0,0)\"><path class=\"background\" aria-hidden=\"true\" d=\"M0,0h720v200h-720Z\"/><g><g class=\"mark-area role-mark marks\" role=\"graphics-object\" aria-roledescription=\"area mark container\"><path aria-label=\"year: 2020; CO2: 0; variable: inn9\" role=\"graphics-symbol\" aria-roledescription=\"area mark\" d=\"M10,200L30,200L50,200L70,200L90,200L110,157.75202738504146L130,157.75202738504146L150,157.75202738504146L170,157.75202738504146L190,75L210,157.75202738504146L230,157.75202738504146L250,157.75202738504146L270,157.75202738504146L290,143.93348481615013L310,157.75202738504146L330,157.75202738504146L350,157.75202738504146L370,157.75202738504146L390,143.5190517580006L410,157.75202738504146L430,157.75202738504146L450,157.75202738504146L470,157.75202738504146L490,143.9334848161563L510,157.75202738504146L530,157.75202738504146L550,157.75202738504146L570,157.75202738504146L590,157.75202738504146L610,157.75202738504146L630,157.75202738504146L650,157.75202738504146L670,157.75202738504146L690,157.75202738504146L710,157.75202738504146L710,200L690,200L670,200L650,200L630,200L610,200L590,200L570,200L550,200L530,200L510,200L490,200L470,200L450,200L430,200L410,200L390,200L370,200L350,200L330,200L310,200L290,200L270,200L250,200L230,200L210,200L190,200L170,200L150,200L130,200L110,200L90,200L70,200L50,200L30,200L10,200Z\" fill=\"#4c78a8\"/></g></g><path class=\"foreground\" aria-hidden=\"true\" d=\"\" display=\"none\"/></g><g transform=\"translate(0,0)\"><path class=\"background\" aria-hidden=\"true\" d=\"M0,0h720v200h-720Z\"/><g><g class=\"mark-area role-mark marks\" role=\"graphics-object\" aria-roledescription=\"area mark container\"><path aria-label=\"year: 2020; CO2: 0; variable: inn10\" role=\"graphics-symbol\" aria-roledescription=\"area mark\" d=\"M10,200L30,48.31448779880843L50,48.31448779880843L70,48.31448779880843L90,75L110,6.066515183849863L130,6.066515183849863L150,6.066515183849863L170,6.066515183849863L190,75L210,6.066515183843713L230,6.066515183843713L250,6.066515183843713L270,6.066515183843713L290,75L310,75L330,75L350,75L370,75L390,75L410,75L430,75L450,75L470,75L490,75L510,75L530,75L550,75L570,75L590,75L610,75L630,75L650,75L670,75L690,75L710,75L710,75L690,75L670,75L650,75L630,75L610,75L590,75L570,75L550,75L530,75L510,75L490,75L470,75L450,75L430,75L410,75L390,75L370,75L350,75L330,75L310,75L290,75L270,6.066515183843713L250,6.066515183843713L230,6.066515183843713L210,6.066515183843713L190,75L170,6.066515183849863L150,6.066515183849863L130,6.066515183849863L110,6.066515183849863L90,75L70,48.31448779880843L50,48.31448779880843L30,48.31448779880843L10,200Z\" fill=\"#e45756\"/></g></g><path class=\"foreground\" aria-hidden=\"true\" d=\"\" display=\"none\"/></g></g><g class=\"mark-group role-legend\" role=\"graphics-symbol\" aria-roledescription=\"legend\" aria-label=\"Symbol legend titled 'variable' for fill color with 11 values: conv, inn1, inn10, inn2, inn3, ending with inn9\"><g transform=\"translate(738,0)\"><path class=\"background\" aria-hidden=\"true\" d=\"M0,0h49v157h-49Z\" pointer-events=\"none\"/><g><g class=\"mark-group role-legend-entry\"><g transform=\"translate(0,16)\"><path class=\"background\" aria-hidden=\"true\" d=\"M0,0h0v0h0Z\" pointer-events=\"none\"/><g><g class=\"mark-group role-scope\" role=\"graphics-object\" aria-roledescription=\"group mark container\"><g transform=\"translate(0,0)\"><path class=\"background\" aria-hidden=\"true\" d=\"M0,0h43v11h-43Z\" pointer-events=\"none\" opacity=\"1\"/><g><g class=\"mark-symbol role-legend-symbol\" pointer-events=\"none\"><path transform=\"translate(6,6)\" d=\"M5,0A5,5,0,1,1,-5,0A5,5,0,1,1,5,0\" fill=\"#4c78a8\" stroke-width=\"1.5\" opacity=\"1\"/></g><g class=\"mark-text role-legend-label\" pointer-events=\"none\"><text text-anchor=\"start\" transform=\"translate(16,9)\" font-family=\"sans-serif\" font-size=\"10px\" fill=\"#000\" opacity=\"1\">conv</text></g></g><path class=\"foreground\" aria-hidden=\"true\" d=\"\" pointer-events=\"none\" display=\"none\"/></g><g transform=\"translate(0,13)\"><path class=\"background\" aria-hidden=\"true\" d=\"M0,0h43v11h-43Z\" pointer-events=\"none\" opacity=\"1\"/><g><g class=\"mark-symbol role-legend-symbol\" pointer-events=\"none\"><path transform=\"translate(6,6)\" d=\"M5,0A5,5,0,1,1,-5,0A5,5,0,1,1,5,0\" fill=\"#f58518\" stroke-width=\"1.5\" opacity=\"1\"/></g><g class=\"mark-text role-legend-label\" pointer-events=\"none\"><text text-anchor=\"start\" transform=\"translate(16,9)\" font-family=\"sans-serif\" font-size=\"10px\" fill=\"#000\" opacity=\"1\">inn1</text></g></g><path class=\"foreground\" aria-hidden=\"true\" d=\"\" pointer-events=\"none\" display=\"none\"/></g><g transform=\"translate(0,26)\"><path class=\"background\" aria-hidden=\"true\" d=\"M0,0h43v11h-43Z\" pointer-events=\"none\" opacity=\"1\"/><g><g class=\"mark-symbol role-legend-symbol\" pointer-events=\"none\"><path transform=\"translate(6,6)\" d=\"M5,0A5,5,0,1,1,-5,0A5,5,0,1,1,5,0\" fill=\"#e45756\" stroke-width=\"1.5\" opacity=\"1\"/></g><g class=\"mark-text role-legend-label\" pointer-events=\"none\"><text text-anchor=\"start\" transform=\"translate(16,9)\" font-family=\"sans-serif\" font-size=\"10px\" fill=\"#000\" opacity=\"1\">inn10</text></g></g><path class=\"foreground\" aria-hidden=\"true\" d=\"\" pointer-events=\"none\" display=\"none\"/></g><g transform=\"translate(0,39)\"><path class=\"background\" aria-hidden=\"true\" d=\"M0,0h43v11h-43Z\" pointer-events=\"none\" opacity=\"1\"/><g><g class=\"mark-symbol role-legend-symbol\" pointer-events=\"none\"><path transform=\"translate(6,6)\" d=\"M5,0A5,5,0,1,1,-5,0A5,5,0,1,1,5,0\" fill=\"#72b7b2\" stroke-width=\"1.5\" opacity=\"1\"/></g><g class=\"mark-text role-legend-label\" pointer-events=\"none\"><text text-anchor=\"start\" transform=\"translate(16,9)\" font-family=\"sans-serif\" font-size=\"10px\" fill=\"#000\" opacity=\"1\">inn2</text></g></g><path class=\"foreground\" aria-hidden=\"true\" d=\"\" pointer-events=\"none\" display=\"none\"/></g><g transform=\"translate(0,52)\"><path class=\"background\" aria-hidden=\"true\" d=\"M0,0h43v11h-43Z\" pointer-events=\"none\" opacity=\"1\"/><g><g class=\"mark-symbol role-legend-symbol\" pointer-events=\"none\"><path transform=\"translate(6,6)\" d=\"M5,0A5,5,0,1,1,-5,0A5,5,0,1,1,5,0\" fill=\"#54a24b\" stroke-width=\"1.5\" opacity=\"1\"/></g><g class=\"mark-text role-legend-label\" pointer-events=\"none\"><text text-anchor=\"start\" transform=\"translate(16,9)\" font-family=\"sans-serif\" font-size=\"10px\" fill=\"#000\" opacity=\"1\">inn3</text></g></g><path class=\"foreground\" aria-hidden=\"true\" d=\"\" pointer-events=\"none\" display=\"none\"/></g><g transform=\"translate(0,65)\"><path class=\"background\" aria-hidden=\"true\" d=\"M0,0h43v11h-43Z\" pointer-events=\"none\" opacity=\"1\"/><g><g class=\"mark-symbol role-legend-symbol\" pointer-events=\"none\"><path transform=\"translate(6,6)\" d=\"M5,0A5,5,0,1,1,-5,0A5,5,0,1,1,5,0\" fill=\"#eeca3b\" stroke-width=\"1.5\" opacity=\"1\"/></g><g class=\"mark-text role-legend-label\" pointer-events=\"none\"><text text-anchor=\"start\" transform=\"translate(16,9)\" font-family=\"sans-serif\" font-size=\"10px\" fill=\"#000\" opacity=\"1\">inn4</text></g></g><path class=\"foreground\" aria-hidden=\"true\" d=\"\" pointer-events=\"none\" display=\"none\"/></g><g transform=\"translate(0,78)\"><path class=\"background\" aria-hidden=\"true\" d=\"M0,0h43v11h-43Z\" pointer-events=\"none\" opacity=\"1\"/><g><g class=\"mark-symbol role-legend-symbol\" pointer-events=\"none\"><path transform=\"translate(6,6)\" d=\"M5,0A5,5,0,1,1,-5,0A5,5,0,1,1,5,0\" fill=\"#b279a2\" stroke-width=\"1.5\" opacity=\"1\"/></g><g class=\"mark-text role-legend-label\" pointer-events=\"none\"><text text-anchor=\"start\" transform=\"translate(16,9)\" font-family=\"sans-serif\" font-size=\"10px\" fill=\"#000\" opacity=\"1\">inn5</text></g></g><path class=\"foreground\" aria-hidden=\"true\" d=\"\" pointer-events=\"none\" display=\"none\"/></g><g transform=\"translate(0,91)\"><path class=\"background\" aria-hidden=\"true\" d=\"M0,0h43v11h-43Z\" pointer-events=\"none\" opacity=\"1\"/><g><g class=\"mark-symbol role-legend-symbol\" pointer-events=\"none\"><path transform=\"translate(6,6)\" d=\"M5,0A5,5,0,1,1,-5,0A5,5,0,1,1,5,0\" fill=\"#ff9da6\" stroke-width=\"1.5\" opacity=\"1\"/></g><g class=\"mark-text role-legend-label\" pointer-events=\"none\"><text text-anchor=\"start\" transform=\"translate(16,9)\" font-family=\"sans-serif\" font-size=\"10px\" fill=\"#000\" opacity=\"1\">inn6</text></g></g><path class=\"foreground\" aria-hidden=\"true\" d=\"\" pointer-events=\"none\" display=\"none\"/></g><g transform=\"translate(0,104)\"><path class=\"background\" aria-hidden=\"true\" d=\"M0,0h43v11h-43Z\" pointer-events=\"none\" opacity=\"1\"/><g><g class=\"mark-symbol role-legend-symbol\" pointer-events=\"none\"><path transform=\"translate(6,6)\" d=\"M5,0A5,5,0,1,1,-5,0A5,5,0,1,1,5,0\" fill=\"#9d755d\" stroke-width=\"1.5\" opacity=\"1\"/></g><g class=\"mark-text role-legend-label\" pointer-events=\"none\"><text text-anchor=\"start\" transform=\"translate(16,9)\" font-family=\"sans-serif\" font-size=\"10px\" fill=\"#000\" opacity=\"1\">inn7</text></g></g><path class=\"foreground\" aria-hidden=\"true\" d=\"\" pointer-events=\"none\" display=\"none\"/></g><g transform=\"translate(0,117)\"><path class=\"background\" aria-hidden=\"true\" d=\"M0,0h43v11h-43Z\" pointer-events=\"none\" opacity=\"1\"/><g><g class=\"mark-symbol role-legend-symbol\" pointer-events=\"none\"><path transform=\"translate(6,6)\" d=\"M5,0A5,5,0,1,1,-5,0A5,5,0,1,1,5,0\" fill=\"#bab0ac\" stroke-width=\"1.5\" opacity=\"1\"/></g><g class=\"mark-text role-legend-label\" pointer-events=\"none\"><text text-anchor=\"start\" transform=\"translate(16,9)\" font-family=\"sans-serif\" font-size=\"10px\" fill=\"#000\" opacity=\"1\">inn8</text></g></g><path class=\"foreground\" aria-hidden=\"true\" d=\"\" pointer-events=\"none\" display=\"none\"/></g><g transform=\"translate(0,130)\"><path class=\"background\" aria-hidden=\"true\" d=\"M0,0h43v11h-43Z\" pointer-events=\"none\" opacity=\"1\"/><g><g class=\"mark-symbol role-legend-symbol\" pointer-events=\"none\"><path transform=\"translate(6,6)\" d=\"M5,0A5,5,0,1,1,-5,0A5,5,0,1,1,5,0\" fill=\"#4c78a8\" stroke-width=\"1.5\" opacity=\"1\"/></g><g class=\"mark-text role-legend-label\" pointer-events=\"none\"><text text-anchor=\"start\" transform=\"translate(16,9)\" font-family=\"sans-serif\" font-size=\"10px\" fill=\"#000\" opacity=\"1\">inn9</text></g></g><path class=\"foreground\" aria-hidden=\"true\" d=\"\" pointer-events=\"none\" display=\"none\"/></g></g></g><path class=\"foreground\" aria-hidden=\"true\" d=\"\" pointer-events=\"none\" display=\"none\"/></g></g><g class=\"mark-text role-legend-title\" pointer-events=\"none\"><text text-anchor=\"start\" transform=\"translate(0,9)\" font-family=\"sans-serif\" font-size=\"11px\" font-weight=\"bold\" fill=\"#000\" opacity=\"1\">variable</text></g></g><path class=\"foreground\" aria-hidden=\"true\" d=\"\" pointer-events=\"none\" display=\"none\"/></g></g></g><path class=\"foreground\" aria-hidden=\"true\" d=\"\" display=\"none\"/></g></g></g></svg>\n"
      ],
      "text/plain": [
       "@vlplot(\n",
       "    legend=\"sNames\",\n",
       "    mark=\"area\",\n",
       "    encoding={\n",
       "        x={\n",
       "            field=\"year\"\n",
       "        },\n",
       "        y={\n",
       "            stack=\"zero\",\n",
       "            title=\"CO2\",\n",
       "            field=\"value\"\n",
       "        },\n",
       "        color={\n",
       "            field=\"variable\",\n",
       "            type=\"nominal\"\n",
       "        }\n",
       "    },\n",
       "    data={\n",
       "        values=...\n",
       "    }\n",
       ")"
      ]
     },
     "execution_count": 39,
     "metadata": {},
     "output_type": "execute_result"
    }
   ],
   "source": [
    "function conventional(t)\n",
    "    return (1-sum(JuMP.values.(xk)[k,t] for k in 1:nrow(compromise)))\n",
    "end\n",
    "\n",
    "function innovation(i0,i,t)\n",
    "    #if mod(i0,5)>JuMP.values.(tk)[k1,t] && t<7\n",
    "    #    t=t+1\n",
    "    #end\n",
    "    if i==1\n",
    "        s=0\n",
    "        for k1 in 1:mapki[i,2]\n",
    "            if mod(i0,5)>JuMP.values.(tk)[k1,t] && t<7\n",
    "                t=t+1\n",
    "            end\n",
    "        s+=JuMP.values.(xk)[k1,t]\n",
    "        end\n",
    "        return s   \n",
    "    else\n",
    "        s=0\n",
    "        for k1 in mapki[i-1,2]:mapki[i,2]\n",
    "            if mod(i0,5)>JuMP.values.(tk)[k1,t] && t<7\n",
    "                t=t+1\n",
    "            end\n",
    "        s+=JuMP.values.(xk)[k1,t]\n",
    "        end\n",
    "        return s   \n",
    "        #return sum(JuMP.values.(xk)[k,t] for k=mapki[i-1,2]:mapki[i,2] )\n",
    "    end\n",
    "end\n",
    "\n",
    "conv=zeros(51)\n",
    "\n",
    "conv[1]=initial[1,5]\n",
    "inn_co2=zeros(nrow(innovations),51)\n",
    "\n",
    "for inn in 1:nrow(innovations)\n",
    "    inn_co2[inn,1]=0\n",
    "end\n",
    "\n",
    "j=0\n",
    "for i in 2:51\n",
    "    if 0 ≤ i ≤ 5\n",
    "        j=1\n",
    "    elseif 6 ≤ i ≤ 10\n",
    "        j=2\n",
    "    elseif 6 ≤ i ≤ 10\n",
    "        j=3\n",
    "    elseif 11 ≤ i ≤ 15\n",
    "        j=4\n",
    "    elseif 16 ≤ i ≤ 20\n",
    "        j=5\n",
    "    elseif 21 ≤ i ≤ 25\n",
    "        j=6\n",
    "    else\n",
    "        j=7\n",
    "    end\n",
    "        \n",
    "    conv[i]=conventional(j)\n",
    "    for inn in 1:nrow(innovations)\n",
    "        inn_co2[inn,i]=innovation(i,inn,j)\n",
    "    end\n",
    "end\n",
    "\n",
    "sNames = [\"conv\",\"inn1\",\"inn2\",\"inn3\",\"inn4\",\"inn5\",\"inn6\",\"inn7\",\"inn8\",\"inn9\",\"inn10\"]\n",
    "xLabels = []\n",
    "for i in 2020:2070\n",
    "    push!(xLabels,string(i))\n",
    "end\n",
    "\n",
    "df = DataFrame(year=xLabels, conv=conv, inn1=inn_co2[1,:],inn2=inn_co2[2,:],inn3=inn_co2[3,:],inn4=inn_co2[4,:],\n",
    "        inn5=inn_co2[5,:],inn6=inn_co2[6,:],inn7=inn_co2[7,:],inn8=inn_co2[8,:],inn9=inn_co2[9,:],inn10=inn_co2[10,:])\n",
    "df=df[1:36,:]\n",
    "df |> stack |> @vlplot(:area, x=:year, y={:value, stack=:zero, title=\"CO2\"}, color=\"variable:n\",legend=:sNames) "
   ]
  },
  {
   "cell_type": "code",
   "execution_count": 40,
   "id": "bbce2b22",
   "metadata": {},
   "outputs": [],
   "source": [
    "#=\n",
    "#cost objective\n",
    "#@NLconstraint(rdmap, cost_inn == sum(sum(ci[i]*((yi[i,tt]-yi[i,tt-1])*f_fit[i,tt])\n",
    "#            for i in 2:nrow(innovations)) for tt in 2:7) + sum(ci[i]*(yi[i,1]*f_fit[i,1]) for i in 1:nrow(innovations)))\n",
    "#linearization\n",
    "@variable(rdmap,0≤p[i=1:nrow(innovations),tt=2:7]≤5)\n",
    "@constraint(rdmap,[i=1:nrow(innovations),tt=2:7],p[i,tt]≤5*(yi[i,tt]-yi[i,tt-1]))\n",
    "@constraint(rdmap,[i=1:nrow(innovations),tt=2:7],p[i,tt]≤(f_fit[i,tt]))\n",
    "@constraint(rdmap,[i=1:nrow(innovations),tt=2:7],p[i,tt]≥(f_fit[i,tt])-5*(1-(yi[i,tt]-yi[i,tt-1])))\n",
    "\n",
    "@variable(rdmap,0≤q[i=1:nrow(innovations),tt=1:1]≤5)\n",
    "@constraint(rdmap,[i=1:nrow(innovations),tt=1:1],q[i,tt]≤(yi[i,tt]))\n",
    "@constraint(rdmap,[i=1:nrow(innovations),tt=1:1],q[i,tt]≤(f_fit[i,tt]))\n",
    "@constraint(rdmap,[i=1:nrow(innovations),tt=1:1],q[i,tt]≥(f_fit[i,tt])-5*(1-(yi[i,tt])))\n",
    "\n",
    "@constraint(rdmap,cost_inn == sum(sum(ci[i]*p[i,tt] for i in 2:nrow(innovations)) for tt in 2:7) +\n",
    "                                sum(ci[i]*q[i,1] for i in 1:nrow(innovations)))\n",
    "\n",
    "#http://yetanothermathprogrammingconsultant.blogspot.com/2008/05/multiplication-of-continuous-and-binary.html\n",
    "\n",
    "=#\n"
   ]
  },
  {
   "cell_type": "code",
   "execution_count": null,
   "id": "fa9dc350",
   "metadata": {},
   "outputs": [],
   "source": []
  },
  {
   "cell_type": "code",
   "execution_count": 41,
   "id": "8fb21231",
   "metadata": {},
   "outputs": [
    {
     "data": {
      "application/vnd.vegalite.v4+json": {
       "data": {
        "values": [
         {
          "value": 8,
          "variable": "Conventional",
          "year": "2020"
         },
         {
          "value": 0,
          "variable": "Conventional",
          "year": "2021"
         },
         {
          "value": 0,
          "variable": "Conventional",
          "year": "2022"
         },
         {
          "value": 0,
          "variable": "Conventional",
          "year": "2023"
         },
         {
          "value": 0,
          "variable": "Conventional",
          "year": "2024"
         },
         {
          "value": 0,
          "variable": "Conventional",
          "year": "2025"
         },
         {
          "value": 0,
          "variable": "Conventional",
          "year": "2026"
         },
         {
          "value": 0,
          "variable": "Conventional",
          "year": "2027"
         },
         {
          "value": 0,
          "variable": "Conventional",
          "year": "2028"
         },
         {
          "value": 0,
          "variable": "Conventional",
          "year": "2029"
         },
         {
          "value": 0,
          "variable": "Conventional",
          "year": "2030"
         },
         {
          "value": 0,
          "variable": "Conventional",
          "year": "2031"
         },
         {
          "value": 0,
          "variable": "Conventional",
          "year": "2032"
         },
         {
          "value": 0,
          "variable": "Conventional",
          "year": "2033"
         },
         {
          "value": 0,
          "variable": "Conventional",
          "year": "2034"
         },
         {
          "value": 0,
          "variable": "Conventional",
          "year": "2035"
         },
         {
          "value": 0,
          "variable": "Conventional",
          "year": "2036"
         },
         {
          "value": 0,
          "variable": "Conventional",
          "year": "2037"
         },
         {
          "value": 0,
          "variable": "Conventional",
          "year": "2038"
         },
         {
          "value": 0,
          "variable": "Conventional",
          "year": "2039"
         },
         {
          "value": 0,
          "variable": "Conventional",
          "year": "2040"
         },
         {
          "value": 0,
          "variable": "Conventional",
          "year": "2041"
         },
         {
          "value": 0,
          "variable": "Conventional",
          "year": "2042"
         },
         {
          "value": 0,
          "variable": "Conventional",
          "year": "2043"
         },
         {
          "value": 0,
          "variable": "Conventional",
          "year": "2044"
         },
         {
          "value": 0,
          "variable": "Conventional",
          "year": "2045"
         },
         {
          "value": 0,
          "variable": "Conventional",
          "year": "2046"
         },
         {
          "value": 0,
          "variable": "Conventional",
          "year": "2047"
         },
         {
          "value": 0,
          "variable": "Conventional",
          "year": "2048"
         },
         {
          "value": 0,
          "variable": "Conventional",
          "year": "2049"
         },
         {
          "value": 0,
          "variable": "Conventional",
          "year": "2050"
         },
         {
          "value": 0,
          "variable": "Conventional",
          "year": "2051"
         },
         {
          "value": 0,
          "variable": "Conventional",
          "year": "2052"
         },
         {
          "value": 0,
          "variable": "Conventional",
          "year": "2053"
         },
         {
          "value": 0,
          "variable": "Conventional",
          "year": "2054"
         },
         {
          "value": 0,
          "variable": "Conventional",
          "year": "2055"
         },
         {
          "value": 0,
          "variable": "inn1",
          "year": "2020"
         },
         {
          "value": 0,
          "variable": "inn1",
          "year": "2021"
         },
         {
          "value": 0,
          "variable": "inn1",
          "year": "2022"
         },
         {
          "value": 0,
          "variable": "inn1",
          "year": "2023"
         },
         {
          "value": 0,
          "variable": "inn1",
          "year": "2024"
         },
         {
          "value": 0,
          "variable": "inn1",
          "year": "2025"
         },
         {
          "value": 0,
          "variable": "inn1",
          "year": "2026"
         },
         {
          "value": 0,
          "variable": "inn1",
          "year": "2027"
         },
         {
          "value": 0,
          "variable": "inn1",
          "year": "2028"
         },
         {
          "value": 0,
          "variable": "inn1",
          "year": "2029"
         },
         {
          "value": 0,
          "variable": "inn1",
          "year": "2030"
         },
         {
          "value": 0,
          "variable": "inn1",
          "year": "2031"
         },
         {
          "value": 0,
          "variable": "inn1",
          "year": "2032"
         },
         {
          "value": 0,
          "variable": "inn1",
          "year": "2033"
         },
         {
          "value": 0,
          "variable": "inn1",
          "year": "2034"
         },
         {
          "value": 0,
          "variable": "inn1",
          "year": "2035"
         },
         {
          "value": 0,
          "variable": "inn1",
          "year": "2036"
         },
         {
          "value": 0,
          "variable": "inn1",
          "year": "2037"
         },
         {
          "value": 0,
          "variable": "inn1",
          "year": "2038"
         },
         {
          "value": 0,
          "variable": "inn1",
          "year": "2039"
         },
         {
          "value": 0,
          "variable": "inn1",
          "year": "2040"
         },
         {
          "value": 0,
          "variable": "inn1",
          "year": "2041"
         },
         {
          "value": 0,
          "variable": "inn1",
          "year": "2042"
         },
         {
          "value": 0,
          "variable": "inn1",
          "year": "2043"
         },
         {
          "value": 0,
          "variable": "inn1",
          "year": "2044"
         },
         {
          "value": 0,
          "variable": "inn1",
          "year": "2045"
         },
         {
          "value": 0,
          "variable": "inn1",
          "year": "2046"
         },
         {
          "value": 0,
          "variable": "inn1",
          "year": "2047"
         },
         {
          "value": 0,
          "variable": "inn1",
          "year": "2048"
         },
         {
          "value": 0,
          "variable": "inn1",
          "year": "2049"
         },
         {
          "value": 0,
          "variable": "inn1",
          "year": "2050"
         },
         {
          "value": 0,
          "variable": "inn1",
          "year": "2051"
         },
         {
          "value": 0,
          "variable": "inn1",
          "year": "2052"
         },
         {
          "value": 0,
          "variable": "inn1",
          "year": "2053"
         },
         {
          "value": 0,
          "variable": "inn1",
          "year": "2054"
         },
         {
          "value": 0,
          "variable": "inn1",
          "year": "2055"
         },
         {
          "value": 0,
          "variable": "inn2",
          "year": "2020"
         },
         {
          "value": 0,
          "variable": "inn2",
          "year": "2021"
         },
         {
          "value": 0,
          "variable": "inn2",
          "year": "2022"
         },
         {
          "value": 0,
          "variable": "inn2",
          "year": "2023"
         },
         {
          "value": 0,
          "variable": "inn2",
          "year": "2024"
         },
         {
          "value": 0,
          "variable": "inn2",
          "year": "2025"
         },
         {
          "value": 0,
          "variable": "inn2",
          "year": "2026"
         },
         {
          "value": 0,
          "variable": "inn2",
          "year": "2027"
         },
         {
          "value": 0,
          "variable": "inn2",
          "year": "2028"
         },
         {
          "value": 0,
          "variable": "inn2",
          "year": "2029"
         },
         {
          "value": 0,
          "variable": "inn2",
          "year": "2030"
         },
         {
          "value": 0,
          "variable": "inn2",
          "year": "2031"
         },
         {
          "value": 0,
          "variable": "inn2",
          "year": "2032"
         },
         {
          "value": 0,
          "variable": "inn2",
          "year": "2033"
         },
         {
          "value": 0,
          "variable": "inn2",
          "year": "2034"
         },
         {
          "value": 0,
          "variable": "inn2",
          "year": "2035"
         },
         {
          "value": 0,
          "variable": "inn2",
          "year": "2036"
         },
         {
          "value": 0,
          "variable": "inn2",
          "year": "2037"
         },
         {
          "value": 0,
          "variable": "inn2",
          "year": "2038"
         },
         {
          "value": 0,
          "variable": "inn2",
          "year": "2039"
         },
         {
          "value": 0,
          "variable": "inn2",
          "year": "2040"
         },
         {
          "value": 0,
          "variable": "inn2",
          "year": "2041"
         },
         {
          "value": 0,
          "variable": "inn2",
          "year": "2042"
         },
         {
          "value": 0,
          "variable": "inn2",
          "year": "2043"
         },
         {
          "value": 0,
          "variable": "inn2",
          "year": "2044"
         },
         {
          "value": 0,
          "variable": "inn2",
          "year": "2045"
         },
         {
          "value": 0,
          "variable": "inn2",
          "year": "2046"
         },
         {
          "value": 0,
          "variable": "inn2",
          "year": "2047"
         },
         {
          "value": 0,
          "variable": "inn2",
          "year": "2048"
         },
         {
          "value": 0,
          "variable": "inn2",
          "year": "2049"
         },
         {
          "value": 0,
          "variable": "inn2",
          "year": "2050"
         },
         {
          "value": 0,
          "variable": "inn2",
          "year": "2051"
         },
         {
          "value": 0,
          "variable": "inn2",
          "year": "2052"
         },
         {
          "value": 0,
          "variable": "inn2",
          "year": "2053"
         },
         {
          "value": 0,
          "variable": "inn2",
          "year": "2054"
         },
         {
          "value": 0,
          "variable": "inn2",
          "year": "2055"
         },
         {
          "value": 0,
          "variable": "inn3",
          "year": "2020"
         },
         {
          "value": 0,
          "variable": "inn3",
          "year": "2021"
         },
         {
          "value": 0,
          "variable": "inn3",
          "year": "2022"
         },
         {
          "value": 0,
          "variable": "inn3",
          "year": "2023"
         },
         {
          "value": 0,
          "variable": "inn3",
          "year": "2024"
         },
         {
          "value": 0,
          "variable": "inn3",
          "year": "2025"
         },
         {
          "value": 0,
          "variable": "inn3",
          "year": "2026"
         },
         {
          "value": 0,
          "variable": "inn3",
          "year": "2027"
         },
         {
          "value": 0,
          "variable": "inn3",
          "year": "2028"
         },
         {
          "value": 0,
          "variable": "inn3",
          "year": "2029"
         },
         {
          "value": 0,
          "variable": "inn3",
          "year": "2030"
         },
         {
          "value": 0,
          "variable": "inn3",
          "year": "2031"
         },
         {
          "value": 0,
          "variable": "inn3",
          "year": "2032"
         },
         {
          "value": 0,
          "variable": "inn3",
          "year": "2033"
         },
         {
          "value": 0,
          "variable": "inn3",
          "year": "2034"
         },
         {
          "value": 0,
          "variable": "inn3",
          "year": "2035"
         },
         {
          "value": 0,
          "variable": "inn3",
          "year": "2036"
         },
         {
          "value": 0,
          "variable": "inn3",
          "year": "2037"
         },
         {
          "value": 0,
          "variable": "inn3",
          "year": "2038"
         },
         {
          "value": 0,
          "variable": "inn3",
          "year": "2039"
         },
         {
          "value": 0,
          "variable": "inn3",
          "year": "2040"
         },
         {
          "value": 0,
          "variable": "inn3",
          "year": "2041"
         },
         {
          "value": 0,
          "variable": "inn3",
          "year": "2042"
         },
         {
          "value": 0,
          "variable": "inn3",
          "year": "2043"
         },
         {
          "value": 0,
          "variable": "inn3",
          "year": "2044"
         },
         {
          "value": 0,
          "variable": "inn3",
          "year": "2045"
         },
         {
          "value": 0,
          "variable": "inn3",
          "year": "2046"
         },
         {
          "value": 0,
          "variable": "inn3",
          "year": "2047"
         },
         {
          "value": 0,
          "variable": "inn3",
          "year": "2048"
         },
         {
          "value": 0,
          "variable": "inn3",
          "year": "2049"
         },
         {
          "value": 0,
          "variable": "inn3",
          "year": "2050"
         },
         {
          "value": 0,
          "variable": "inn3",
          "year": "2051"
         },
         {
          "value": 0,
          "variable": "inn3",
          "year": "2052"
         },
         {
          "value": 0,
          "variable": "inn3",
          "year": "2053"
         },
         {
          "value": 0,
          "variable": "inn3",
          "year": "2054"
         },
         {
          "value": 0,
          "variable": "inn3",
          "year": "2055"
         },
         {
          "value": 0,
          "variable": "inn4",
          "year": "2020"
         },
         {
          "value": 0,
          "variable": "inn4",
          "year": "2021"
         },
         {
          "value": 0,
          "variable": "inn4",
          "year": "2022"
         },
         {
          "value": 0,
          "variable": "inn4",
          "year": "2023"
         },
         {
          "value": 0,
          "variable": "inn4",
          "year": "2024"
         },
         {
          "value": 0,
          "variable": "inn4",
          "year": "2025"
         },
         {
          "value": 0,
          "variable": "inn4",
          "year": "2026"
         },
         {
          "value": 0,
          "variable": "inn4",
          "year": "2027"
         },
         {
          "value": 0,
          "variable": "inn4",
          "year": "2028"
         },
         {
          "value": 0,
          "variable": "inn4",
          "year": "2029"
         },
         {
          "value": 0,
          "variable": "inn4",
          "year": "2030"
         },
         {
          "value": 0,
          "variable": "inn4",
          "year": "2031"
         },
         {
          "value": 0,
          "variable": "inn4",
          "year": "2032"
         },
         {
          "value": 0,
          "variable": "inn4",
          "year": "2033"
         },
         {
          "value": 0,
          "variable": "inn4",
          "year": "2034"
         },
         {
          "value": 0,
          "variable": "inn4",
          "year": "2035"
         },
         {
          "value": 0,
          "variable": "inn4",
          "year": "2036"
         },
         {
          "value": 0,
          "variable": "inn4",
          "year": "2037"
         },
         {
          "value": 0,
          "variable": "inn4",
          "year": "2038"
         },
         {
          "value": 0,
          "variable": "inn4",
          "year": "2039"
         },
         {
          "value": 0,
          "variable": "inn4",
          "year": "2040"
         },
         {
          "value": 0,
          "variable": "inn4",
          "year": "2041"
         },
         {
          "value": 0,
          "variable": "inn4",
          "year": "2042"
         },
         {
          "value": 0,
          "variable": "inn4",
          "year": "2043"
         },
         {
          "value": 0,
          "variable": "inn4",
          "year": "2044"
         },
         {
          "value": 0,
          "variable": "inn4",
          "year": "2045"
         },
         {
          "value": 0,
          "variable": "inn4",
          "year": "2046"
         },
         {
          "value": 0,
          "variable": "inn4",
          "year": "2047"
         },
         {
          "value": 0,
          "variable": "inn4",
          "year": "2048"
         },
         {
          "value": 0,
          "variable": "inn4",
          "year": "2049"
         },
         {
          "value": 0,
          "variable": "inn4",
          "year": "2050"
         },
         {
          "value": 0,
          "variable": "inn4",
          "year": "2051"
         },
         {
          "value": 0,
          "variable": "inn4",
          "year": "2052"
         },
         {
          "value": 0,
          "variable": "inn4",
          "year": "2053"
         },
         {
          "value": 0,
          "variable": "inn4",
          "year": "2054"
         },
         {
          "value": 0,
          "variable": "inn4",
          "year": "2055"
         },
         {
          "value": 0,
          "variable": "LDPE_Pyrolysis",
          "year": "2020"
         },
         {
          "value": 2.9585,
          "variable": "LDPE_Pyrolysis",
          "year": "2021"
         },
         {
          "value": 2.9585,
          "variable": "LDPE_Pyrolysis",
          "year": "2022"
         },
         {
          "value": 2.9585,
          "variable": "LDPE_Pyrolysis",
          "year": "2023"
         },
         {
          "value": 2.9585,
          "variable": "LDPE_Pyrolysis",
          "year": "2024"
         },
         {
          "value": 0,
          "variable": "LDPE_Pyrolysis",
          "year": "2025"
         },
         {
          "value": 0,
          "variable": "LDPE_Pyrolysis",
          "year": "2026"
         },
         {
          "value": 0,
          "variable": "LDPE_Pyrolysis",
          "year": "2027"
         },
         {
          "value": 0,
          "variable": "LDPE_Pyrolysis",
          "year": "2028"
         },
         {
          "value": 0,
          "variable": "LDPE_Pyrolysis",
          "year": "2029"
         },
         {
          "value": 1.1073634765133744,
          "variable": "LDPE_Pyrolysis",
          "year": "2030"
         },
         {
          "value": 1.1073634765133744,
          "variable": "LDPE_Pyrolysis",
          "year": "2031"
         },
         {
          "value": 1.1073634765133744,
          "variable": "LDPE_Pyrolysis",
          "year": "2032"
         },
         {
          "value": 1.1073634765133744,
          "variable": "LDPE_Pyrolysis",
          "year": "2033"
         },
         {
          "value": 1.1073634765133744,
          "variable": "LDPE_Pyrolysis",
          "year": "2034"
         },
         {
          "value": 0.6605996507984914,
          "variable": "LDPE_Pyrolysis",
          "year": "2035"
         },
         {
          "value": 0.6605996507984914,
          "variable": "LDPE_Pyrolysis",
          "year": "2036"
         },
         {
          "value": 0.6605996507984914,
          "variable": "LDPE_Pyrolysis",
          "year": "2037"
         },
         {
          "value": 0.6605996507984914,
          "variable": "LDPE_Pyrolysis",
          "year": "2038"
         },
         {
          "value": 0.6605996507984914,
          "variable": "LDPE_Pyrolysis",
          "year": "2039"
         },
         {
          "value": 0.6918064342521579,
          "variable": "LDPE_Pyrolysis",
          "year": "2040"
         },
         {
          "value": 0.6918064342521579,
          "variable": "LDPE_Pyrolysis",
          "year": "2041"
         },
         {
          "value": 0.6918064342521579,
          "variable": "LDPE_Pyrolysis",
          "year": "2042"
         },
         {
          "value": 0.6918064342521579,
          "variable": "LDPE_Pyrolysis",
          "year": "2043"
         },
         {
          "value": 0.6918064342521579,
          "variable": "LDPE_Pyrolysis",
          "year": "2044"
         },
         {
          "value": 0.07084999321605534,
          "variable": "LDPE_Pyrolysis",
          "year": "2045"
         },
         {
          "value": 0.07084999321605534,
          "variable": "LDPE_Pyrolysis",
          "year": "2046"
         },
         {
          "value": 0.07084999321605534,
          "variable": "LDPE_Pyrolysis",
          "year": "2047"
         },
         {
          "value": 0.07084999321605534,
          "variable": "LDPE_Pyrolysis",
          "year": "2048"
         },
         {
          "value": 0.07084999321605534,
          "variable": "LDPE_Pyrolysis",
          "year": "2049"
         },
         {
          "value": 0.07084999321605534,
          "variable": "LDPE_Pyrolysis",
          "year": "2050"
         },
         {
          "value": 0.07084999321605534,
          "variable": "LDPE_Pyrolysis",
          "year": "2051"
         },
         {
          "value": 0.07084999321605534,
          "variable": "LDPE_Pyrolysis",
          "year": "2052"
         },
         {
          "value": 0.07084999321605534,
          "variable": "LDPE_Pyrolysis",
          "year": "2053"
         },
         {
          "value": 0.07084999321605534,
          "variable": "LDPE_Pyrolysis",
          "year": "2054"
         },
         {
          "value": 0.07084999321605534,
          "variable": "LDPE_Pyrolysis",
          "year": "2055"
         },
         {
          "value": 0,
          "variable": "inn6",
          "year": "2020"
         },
         {
          "value": 0,
          "variable": "inn6",
          "year": "2021"
         },
         {
          "value": 0,
          "variable": "inn6",
          "year": "2022"
         },
         {
          "value": 0,
          "variable": "inn6",
          "year": "2023"
         },
         {
          "value": 0,
          "variable": "inn6",
          "year": "2024"
         },
         {
          "value": 0,
          "variable": "inn6",
          "year": "2025"
         },
         {
          "value": 0,
          "variable": "inn6",
          "year": "2026"
         },
         {
          "value": 0,
          "variable": "inn6",
          "year": "2027"
         },
         {
          "value": 0,
          "variable": "inn6",
          "year": "2028"
         },
         {
          "value": 0,
          "variable": "inn6",
          "year": "2029"
         },
         {
          "value": 0,
          "variable": "inn6",
          "year": "2030"
         },
         {
          "value": 0,
          "variable": "inn6",
          "year": "2031"
         },
         {
          "value": 0,
          "variable": "inn6",
          "year": "2032"
         },
         {
          "value": 0,
          "variable": "inn6",
          "year": "2033"
         },
         {
          "value": 0,
          "variable": "inn6",
          "year": "2034"
         },
         {
          "value": 0,
          "variable": "inn6",
          "year": "2035"
         },
         {
          "value": 0,
          "variable": "inn6",
          "year": "2036"
         },
         {
          "value": 0,
          "variable": "inn6",
          "year": "2037"
         },
         {
          "value": 0,
          "variable": "inn6",
          "year": "2038"
         },
         {
          "value": 0,
          "variable": "inn6",
          "year": "2039"
         },
         {
          "value": 0,
          "variable": "inn6",
          "year": "2040"
         },
         {
          "value": 0,
          "variable": "inn6",
          "year": "2041"
         },
         {
          "value": 0,
          "variable": "inn6",
          "year": "2042"
         },
         {
          "value": 0,
          "variable": "inn6",
          "year": "2043"
         },
         {
          "value": 0,
          "variable": "inn6",
          "year": "2044"
         },
         {
          "value": 0,
          "variable": "inn6",
          "year": "2045"
         },
         {
          "value": 0,
          "variable": "inn6",
          "year": "2046"
         },
         {
          "value": 0,
          "variable": "inn6",
          "year": "2047"
         },
         {
          "value": 0,
          "variable": "inn6",
          "year": "2048"
         },
         {
          "value": 0,
          "variable": "inn6",
          "year": "2049"
         },
         {
          "value": 0,
          "variable": "inn6",
          "year": "2050"
         },
         {
          "value": 0,
          "variable": "inn6",
          "year": "2051"
         },
         {
          "value": 0,
          "variable": "inn6",
          "year": "2052"
         },
         {
          "value": 0,
          "variable": "inn6",
          "year": "2053"
         },
         {
          "value": 0,
          "variable": "inn6",
          "year": "2054"
         },
         {
          "value": 0,
          "variable": "inn6",
          "year": "2055"
         },
         {
          "value": 0,
          "variable": "inn7",
          "year": "2020"
         },
         {
          "value": 0,
          "variable": "inn7",
          "year": "2021"
         },
         {
          "value": 0,
          "variable": "inn7",
          "year": "2022"
         },
         {
          "value": 0,
          "variable": "inn7",
          "year": "2023"
         },
         {
          "value": 0,
          "variable": "inn7",
          "year": "2024"
         },
         {
          "value": 0,
          "variable": "inn7",
          "year": "2025"
         },
         {
          "value": 0,
          "variable": "inn7",
          "year": "2026"
         },
         {
          "value": 0,
          "variable": "inn7",
          "year": "2027"
         },
         {
          "value": 0,
          "variable": "inn7",
          "year": "2028"
         },
         {
          "value": 0,
          "variable": "inn7",
          "year": "2029"
         },
         {
          "value": 0,
          "variable": "inn7",
          "year": "2030"
         },
         {
          "value": 0,
          "variable": "inn7",
          "year": "2031"
         },
         {
          "value": 0,
          "variable": "inn7",
          "year": "2032"
         },
         {
          "value": 0,
          "variable": "inn7",
          "year": "2033"
         },
         {
          "value": 0,
          "variable": "inn7",
          "year": "2034"
         },
         {
          "value": 0,
          "variable": "inn7",
          "year": "2035"
         },
         {
          "value": 0,
          "variable": "inn7",
          "year": "2036"
         },
         {
          "value": 0,
          "variable": "inn7",
          "year": "2037"
         },
         {
          "value": 0,
          "variable": "inn7",
          "year": "2038"
         },
         {
          "value": 0,
          "variable": "inn7",
          "year": "2039"
         },
         {
          "value": 0,
          "variable": "inn7",
          "year": "2040"
         },
         {
          "value": 0,
          "variable": "inn7",
          "year": "2041"
         },
         {
          "value": 0,
          "variable": "inn7",
          "year": "2042"
         },
         {
          "value": 0,
          "variable": "inn7",
          "year": "2043"
         },
         {
          "value": 0,
          "variable": "inn7",
          "year": "2044"
         },
         {
          "value": 0,
          "variable": "inn7",
          "year": "2045"
         },
         {
          "value": 0,
          "variable": "inn7",
          "year": "2046"
         },
         {
          "value": 0,
          "variable": "inn7",
          "year": "2047"
         },
         {
          "value": 0,
          "variable": "inn7",
          "year": "2048"
         },
         {
          "value": 0,
          "variable": "inn7",
          "year": "2049"
         },
         {
          "value": 0,
          "variable": "inn7",
          "year": "2050"
         },
         {
          "value": 0,
          "variable": "inn7",
          "year": "2051"
         },
         {
          "value": 0,
          "variable": "inn7",
          "year": "2052"
         },
         {
          "value": 0,
          "variable": "inn7",
          "year": "2053"
         },
         {
          "value": 0,
          "variable": "inn7",
          "year": "2054"
         },
         {
          "value": 0,
          "variable": "inn7",
          "year": "2055"
         },
         {
          "value": 0,
          "variable": "inn8",
          "year": "2020"
         },
         {
          "value": 0,
          "variable": "inn8",
          "year": "2021"
         },
         {
          "value": 0,
          "variable": "inn8",
          "year": "2022"
         },
         {
          "value": 0,
          "variable": "inn8",
          "year": "2023"
         },
         {
          "value": 0,
          "variable": "inn8",
          "year": "2024"
         },
         {
          "value": 0,
          "variable": "inn8",
          "year": "2025"
         },
         {
          "value": 0,
          "variable": "inn8",
          "year": "2026"
         },
         {
          "value": 0,
          "variable": "inn8",
          "year": "2027"
         },
         {
          "value": 0,
          "variable": "inn8",
          "year": "2028"
         },
         {
          "value": 0,
          "variable": "inn8",
          "year": "2029"
         },
         {
          "value": 0,
          "variable": "inn8",
          "year": "2030"
         },
         {
          "value": 0,
          "variable": "inn8",
          "year": "2031"
         },
         {
          "value": 0,
          "variable": "inn8",
          "year": "2032"
         },
         {
          "value": 0,
          "variable": "inn8",
          "year": "2033"
         },
         {
          "value": 0,
          "variable": "inn8",
          "year": "2034"
         },
         {
          "value": 0,
          "variable": "inn8",
          "year": "2035"
         },
         {
          "value": 0,
          "variable": "inn8",
          "year": "2036"
         },
         {
          "value": 0,
          "variable": "inn8",
          "year": "2037"
         },
         {
          "value": 0,
          "variable": "inn8",
          "year": "2038"
         },
         {
          "value": 0,
          "variable": "inn8",
          "year": "2039"
         },
         {
          "value": 0,
          "variable": "inn8",
          "year": "2040"
         },
         {
          "value": 0,
          "variable": "inn8",
          "year": "2041"
         },
         {
          "value": 0,
          "variable": "inn8",
          "year": "2042"
         },
         {
          "value": 0,
          "variable": "inn8",
          "year": "2043"
         },
         {
          "value": 0,
          "variable": "inn8",
          "year": "2044"
         },
         {
          "value": 0,
          "variable": "inn8",
          "year": "2045"
         },
         {
          "value": 0,
          "variable": "inn8",
          "year": "2046"
         },
         {
          "value": 0,
          "variable": "inn8",
          "year": "2047"
         },
         {
          "value": 0,
          "variable": "inn8",
          "year": "2048"
         },
         {
          "value": 0,
          "variable": "inn8",
          "year": "2049"
         },
         {
          "value": 0,
          "variable": "inn8",
          "year": "2050"
         },
         {
          "value": 0,
          "variable": "inn8",
          "year": "2051"
         },
         {
          "value": 0,
          "variable": "inn8",
          "year": "2052"
         },
         {
          "value": 0,
          "variable": "inn8",
          "year": "2053"
         },
         {
          "value": 0,
          "variable": "inn8",
          "year": "2054"
         },
         {
          "value": 0,
          "variable": "inn8",
          "year": "2055"
         },
         {
          "value": 0,
          "variable": "inn9",
          "year": "2020"
         },
         {
          "value": 0,
          "variable": "inn9",
          "year": "2021"
         },
         {
          "value": 0,
          "variable": "inn9",
          "year": "2022"
         },
         {
          "value": 0,
          "variable": "inn9",
          "year": "2023"
         },
         {
          "value": 0,
          "variable": "inn9",
          "year": "2024"
         },
         {
          "value": 2.7252589968487206,
          "variable": "inn9",
          "year": "2025"
         },
         {
          "value": 2.7252589968487206,
          "variable": "inn9",
          "year": "2026"
         },
         {
          "value": 2.7252589968487206,
          "variable": "inn9",
          "year": "2027"
         },
         {
          "value": 2.7252589968487206,
          "variable": "inn9",
          "year": "2028"
         },
         {
          "value": 2.7252589968487206,
          "variable": "inn9",
          "year": "2029"
         },
         {
          "value": 1.0861008902388467,
          "variable": "inn9",
          "year": "2030"
         },
         {
          "value": 1.0861008902388467,
          "variable": "inn9",
          "year": "2031"
         },
         {
          "value": 1.0861008902388467,
          "variable": "inn9",
          "year": "2032"
         },
         {
          "value": 1.0861008902388467,
          "variable": "inn9",
          "year": "2033"
         },
         {
          "value": 1.0861008902388467,
          "variable": "inn9",
          "year": "2034"
         },
         {
          "value": 0.7819272146653777,
          "variable": "inn9",
          "year": "2035"
         },
         {
          "value": 0.7819272146653777,
          "variable": "inn9",
          "year": "2036"
         },
         {
          "value": 0.7819272146653777,
          "variable": "inn9",
          "year": "2037"
         },
         {
          "value": 0.7819272146653777,
          "variable": "inn9",
          "year": "2038"
         },
         {
          "value": 0.7819272146653777,
          "variable": "inn9",
          "year": "2039"
         },
         {
          "value": 0.6305602871073022,
          "variable": "inn9",
          "year": "2040"
         },
         {
          "value": 0.6305602871073022,
          "variable": "inn9",
          "year": "2041"
         },
         {
          "value": 0.6305602871073022,
          "variable": "inn9",
          "year": "2042"
         },
         {
          "value": 0.6305602871073022,
          "variable": "inn9",
          "year": "2043"
         },
         {
          "value": 0.6305602871073022,
          "variable": "inn9",
          "year": "2044"
         },
         {
          "value": 0.28728725086234724,
          "variable": "inn9",
          "year": "2045"
         },
         {
          "value": 0.28728725086234724,
          "variable": "inn9",
          "year": "2046"
         },
         {
          "value": 0.28728725086234724,
          "variable": "inn9",
          "year": "2047"
         },
         {
          "value": 0.28728725086234724,
          "variable": "inn9",
          "year": "2048"
         },
         {
          "value": 0.28728725086234724,
          "variable": "inn9",
          "year": "2049"
         },
         {
          "value": 0.28728725086234724,
          "variable": "inn9",
          "year": "2050"
         },
         {
          "value": 0.28728725086234724,
          "variable": "inn9",
          "year": "2051"
         },
         {
          "value": 0.28728725086234724,
          "variable": "inn9",
          "year": "2052"
         },
         {
          "value": 0.28728725086234724,
          "variable": "inn9",
          "year": "2053"
         },
         {
          "value": 0.28728725086234724,
          "variable": "inn9",
          "year": "2054"
         },
         {
          "value": 0.28728725086234724,
          "variable": "inn9",
          "year": "2055"
         },
         {
          "value": 0,
          "variable": "PLA_Alcoholysis",
          "year": "2020"
         },
         {
          "value": 0,
          "variable": "PLA_Alcoholysis",
          "year": "2021"
         },
         {
          "value": 0,
          "variable": "PLA_Alcoholysis",
          "year": "2022"
         },
         {
          "value": 0,
          "variable": "PLA_Alcoholysis",
          "year": "2023"
         },
         {
          "value": 0,
          "variable": "PLA_Alcoholysis",
          "year": "2024"
         },
         {
          "value": 0,
          "variable": "PLA_Alcoholysis",
          "year": "2025"
         },
         {
          "value": 0,
          "variable": "PLA_Alcoholysis",
          "year": "2026"
         },
         {
          "value": 0,
          "variable": "PLA_Alcoholysis",
          "year": "2027"
         },
         {
          "value": 0,
          "variable": "PLA_Alcoholysis",
          "year": "2028"
         },
         {
          "value": 0,
          "variable": "PLA_Alcoholysis",
          "year": "2029"
         },
         {
          "value": 0,
          "variable": "PLA_Alcoholysis",
          "year": "2030"
         },
         {
          "value": 0,
          "variable": "PLA_Alcoholysis",
          "year": "2031"
         },
         {
          "value": 0,
          "variable": "PLA_Alcoholysis",
          "year": "2032"
         },
         {
          "value": 0,
          "variable": "PLA_Alcoholysis",
          "year": "2033"
         },
         {
          "value": 0,
          "variable": "PLA_Alcoholysis",
          "year": "2034"
         },
         {
          "value": 0,
          "variable": "PLA_Alcoholysis",
          "year": "2035"
         },
         {
          "value": 0,
          "variable": "PLA_Alcoholysis",
          "year": "2036"
         },
         {
          "value": 0,
          "variable": "PLA_Alcoholysis",
          "year": "2037"
         },
         {
          "value": 0,
          "variable": "PLA_Alcoholysis",
          "year": "2038"
         },
         {
          "value": 0,
          "variable": "PLA_Alcoholysis",
          "year": "2039"
         },
         {
          "value": 0,
          "variable": "PLA_Alcoholysis",
          "year": "2040"
         },
         {
          "value": 0,
          "variable": "PLA_Alcoholysis",
          "year": "2041"
         },
         {
          "value": 0,
          "variable": "PLA_Alcoholysis",
          "year": "2042"
         },
         {
          "value": 0,
          "variable": "PLA_Alcoholysis",
          "year": "2043"
         },
         {
          "value": 0,
          "variable": "PLA_Alcoholysis",
          "year": "2044"
         },
         {
          "value": 0,
          "variable": "PLA_Alcoholysis",
          "year": "2045"
         },
         {
          "value": 0,
          "variable": "PLA_Alcoholysis",
          "year": "2046"
         },
         {
          "value": 0,
          "variable": "PLA_Alcoholysis",
          "year": "2047"
         },
         {
          "value": 0,
          "variable": "PLA_Alcoholysis",
          "year": "2048"
         },
         {
          "value": 0,
          "variable": "PLA_Alcoholysis",
          "year": "2049"
         },
         {
          "value": 0,
          "variable": "PLA_Alcoholysis",
          "year": "2050"
         },
         {
          "value": 0,
          "variable": "PLA_Alcoholysis",
          "year": "2051"
         },
         {
          "value": 0,
          "variable": "PLA_Alcoholysis",
          "year": "2052"
         },
         {
          "value": 0,
          "variable": "PLA_Alcoholysis",
          "year": "2053"
         },
         {
          "value": 0,
          "variable": "PLA_Alcoholysis",
          "year": "2054"
         },
         {
          "value": 0,
          "variable": "PLA_Alcoholysis",
          "year": "2055"
         }
        ]
       },
       "encoding": {
        "color": {
         "field": "variable",
         "type": "nominal"
        },
        "x": {
         "field": "year"
        },
        "y": {
         "field": "value",
         "stack": "zero",
         "title": "CO2",
         "type": "quantitative"
        }
       },
       "legend": "sNames",
       "mark": "area"
      },
      "image/png": "[encoded data removed]",
      "image/svg+xml": [
       "<?xml version=\"1.0\" encoding=\"utf-8\"?>\n",
       "<!DOCTYPE svg PUBLIC \"-//W3C//DTD SVG 1.1//EN\" \"http://www.w3.org/Graphics/SVG/1.1/DTD/svg11.dtd\">\n",
       "<svg xmlns=\"http://www.w3.org/2000/svg\" xmlns:xlink=\"http://www.w3.org/1999/xlink\" version=\"1.1\" class=\"marks\" width=\"872\" height=\"261\" viewBox=\"0 0 872 261\"><rect width=\"872\" height=\"261\" fill=\"white\"/><g fill=\"none\" stroke-miterlimit=\"10\" transform=\"translate(33,10)\"><g class=\"mark-group role-frame root\" role=\"graphics-object\" aria-roledescription=\"group mark container\"><g transform=\"translate(0,0)\"><path class=\"background\" aria-hidden=\"true\" d=\"M0.5,0.5h720v200h-720Z\" stroke=\"#ddd\"/><g><g class=\"mark-group role-axis\" aria-hidden=\"true\"><g transform=\"translate(0.5,0.5)\"><path class=\"background\" aria-hidden=\"true\" d=\"M0,0h0v0h0Z\" pointer-events=\"none\"/><g><g class=\"mark-rule role-axis-grid\" pointer-events=\"none\"><line transform=\"translate(0,200)\" x2=\"720\" y2=\"0\" stroke=\"#ddd\" stroke-width=\"1\" opacity=\"1\"/><line transform=\"translate(0,150)\" x2=\"720\" y2=\"0\" stroke=\"#ddd\" stroke-width=\"1\" opacity=\"1\"/><line transform=\"translate(0,100)\" x2=\"720\" y2=\"0\" stroke=\"#ddd\" stroke-width=\"1\" opacity=\"1\"/><line transform=\"translate(0,50)\" x2=\"720\" y2=\"0\" stroke=\"#ddd\" stroke-width=\"1\" opacity=\"1\"/><line transform=\"translate(0,0)\" x2=\"720\" y2=\"0\" stroke=\"#ddd\" stroke-width=\"1\" opacity=\"1\"/></g></g><path class=\"foreground\" aria-hidden=\"true\" d=\"\" pointer-events=\"none\" display=\"none\"/></g></g><g class=\"mark-group role-axis\" role=\"graphics-symbol\" aria-roledescription=\"axis\" aria-label=\"X-axis titled 'year' for a discrete scale with 36 values: 2020, 2021, 2022, 2023, 2024, ending with 2055\"><g transform=\"translate(0.5,200.5)\"><path class=\"background\" aria-hidden=\"true\" d=\"M0,0h0v0h0Z\" pointer-events=\"none\"/><g><g class=\"mark-rule role-axis-tick\" pointer-events=\"none\"><line transform=\"translate(10,0)\" x2=\"0\" y2=\"5\" stroke=\"#888\" stroke-width=\"1\" opacity=\"1\"/><line transform=\"translate(30,0)\" x2=\"0\" y2=\"5\" stroke=\"#888\" stroke-width=\"1\" opacity=\"1\"/><line transform=\"translate(50,0)\" x2=\"0\" y2=\"5\" stroke=\"#888\" stroke-width=\"1\" opacity=\"1\"/><line transform=\"translate(70,0)\" x2=\"0\" y2=\"5\" stroke=\"#888\" stroke-width=\"1\" opacity=\"1\"/><line transform=\"translate(90,0)\" x2=\"0\" y2=\"5\" stroke=\"#888\" stroke-width=\"1\" opacity=\"1\"/><line transform=\"translate(110,0)\" x2=\"0\" y2=\"5\" stroke=\"#888\" stroke-width=\"1\" opacity=\"1\"/><line transform=\"translate(130,0)\" x2=\"0\" y2=\"5\" stroke=\"#888\" stroke-width=\"1\" opacity=\"1\"/><line transform=\"translate(150,0)\" x2=\"0\" y2=\"5\" stroke=\"#888\" stroke-width=\"1\" opacity=\"1\"/><line transform=\"translate(170,0)\" x2=\"0\" y2=\"5\" stroke=\"#888\" stroke-width=\"1\" opacity=\"1\"/><line transform=\"translate(190,0)\" x2=\"0\" y2=\"5\" stroke=\"#888\" stroke-width=\"1\" opacity=\"1\"/><line transform=\"translate(210,0)\" x2=\"0\" y2=\"5\" stroke=\"#888\" stroke-width=\"1\" opacity=\"1\"/><line transform=\"translate(230,0)\" x2=\"0\" y2=\"5\" stroke=\"#888\" stroke-width=\"1\" opacity=\"1\"/><line transform=\"translate(250,0)\" x2=\"0\" y2=\"5\" stroke=\"#888\" stroke-width=\"1\" opacity=\"1\"/><line transform=\"translate(270,0)\" x2=\"0\" y2=\"5\" stroke=\"#888\" stroke-width=\"1\" opacity=\"1\"/><line transform=\"translate(290,0)\" x2=\"0\" y2=\"5\" stroke=\"#888\" stroke-width=\"1\" opacity=\"1\"/><line transform=\"translate(310,0)\" x2=\"0\" y2=\"5\" stroke=\"#888\" stroke-width=\"1\" opacity=\"1\"/><line transform=\"translate(330,0)\" x2=\"0\" y2=\"5\" stroke=\"#888\" stroke-width=\"1\" opacity=\"1\"/><line transform=\"translate(350,0)\" x2=\"0\" y2=\"5\" stroke=\"#888\" stroke-width=\"1\" opacity=\"1\"/><line transform=\"translate(370,0)\" x2=\"0\" y2=\"5\" stroke=\"#888\" stroke-width=\"1\" opacity=\"1\"/><line transform=\"translate(390,0)\" x2=\"0\" y2=\"5\" stroke=\"#888\" stroke-width=\"1\" opacity=\"1\"/><line transform=\"translate(410,0)\" x2=\"0\" y2=\"5\" stroke=\"#888\" stroke-width=\"1\" opacity=\"1\"/><line transform=\"translate(430,0)\" x2=\"0\" y2=\"5\" stroke=\"#888\" stroke-width=\"1\" opacity=\"1\"/><line transform=\"translate(450,0)\" x2=\"0\" y2=\"5\" stroke=\"#888\" stroke-width=\"1\" opacity=\"1\"/><line transform=\"translate(470,0)\" x2=\"0\" y2=\"5\" stroke=\"#888\" stroke-width=\"1\" opacity=\"1\"/><line transform=\"translate(490,0)\" x2=\"0\" y2=\"5\" stroke=\"#888\" stroke-width=\"1\" opacity=\"1\"/><line transform=\"translate(510,0)\" x2=\"0\" y2=\"5\" stroke=\"#888\" stroke-width=\"1\" opacity=\"1\"/><line transform=\"translate(530,0)\" x2=\"0\" y2=\"5\" stroke=\"#888\" stroke-width=\"1\" opacity=\"1\"/><line transform=\"translate(550,0)\" x2=\"0\" y2=\"5\" stroke=\"#888\" stroke-width=\"1\" opacity=\"1\"/><line transform=\"translate(570,0)\" x2=\"0\" y2=\"5\" stroke=\"#888\" stroke-width=\"1\" opacity=\"1\"/><line transform=\"translate(590,0)\" x2=\"0\" y2=\"5\" stroke=\"#888\" stroke-width=\"1\" opacity=\"1\"/><line transform=\"translate(610,0)\" x2=\"0\" y2=\"5\" stroke=\"#888\" stroke-width=\"1\" opacity=\"1\"/><line transform=\"translate(630,0)\" x2=\"0\" y2=\"5\" stroke=\"#888\" stroke-width=\"1\" opacity=\"1\"/><line transform=\"translate(650,0)\" x2=\"0\" y2=\"5\" stroke=\"#888\" stroke-width=\"1\" opacity=\"1\"/><line transform=\"translate(670,0)\" x2=\"0\" y2=\"5\" stroke=\"#888\" stroke-width=\"1\" opacity=\"1\"/><line transform=\"translate(690,0)\" x2=\"0\" y2=\"5\" stroke=\"#888\" stroke-width=\"1\" opacity=\"1\"/><line transform=\"translate(710,0)\" x2=\"0\" y2=\"5\" stroke=\"#888\" stroke-width=\"1\" opacity=\"1\"/></g><g class=\"mark-text role-axis-label\" pointer-events=\"none\"><text text-anchor=\"end\" transform=\"translate(10,7) rotate(270) translate(0,3)\" font-family=\"sans-serif\" font-size=\"10px\" fill=\"#000\" opacity=\"1\">2020</text><text text-anchor=\"end\" transform=\"translate(30,7) rotate(270) translate(0,3)\" font-family=\"sans-serif\" font-size=\"10px\" fill=\"#000\" opacity=\"1\">2021</text><text text-anchor=\"end\" transform=\"translate(50,7) rotate(270) translate(0,3)\" font-family=\"sans-serif\" font-size=\"10px\" fill=\"#000\" opacity=\"1\">2022</text><text text-anchor=\"end\" transform=\"translate(70,7) rotate(270) translate(0,3)\" font-family=\"sans-serif\" font-size=\"10px\" fill=\"#000\" opacity=\"1\">2023</text><text text-anchor=\"end\" transform=\"translate(90,7) rotate(270) translate(0,3)\" font-family=\"sans-serif\" font-size=\"10px\" fill=\"#000\" opacity=\"1\">2024</text><text text-anchor=\"end\" transform=\"translate(110,7) rotate(270) translate(0,3)\" font-family=\"sans-serif\" font-size=\"10px\" fill=\"#000\" opacity=\"1\">2025</text><text text-anchor=\"end\" transform=\"translate(130,7) rotate(270) translate(0,3)\" font-family=\"sans-serif\" font-size=\"10px\" fill=\"#000\" opacity=\"1\">2026</text><text text-anchor=\"end\" transform=\"translate(150,7) rotate(270) translate(0,3)\" font-family=\"sans-serif\" font-size=\"10px\" fill=\"#000\" opacity=\"1\">2027</text><text text-anchor=\"end\" transform=\"translate(170,7) rotate(270) translate(0,3)\" font-family=\"sans-serif\" font-size=\"10px\" fill=\"#000\" opacity=\"1\">2028</text><text text-anchor=\"end\" transform=\"translate(190,7) rotate(270) translate(0,3)\" font-family=\"sans-serif\" font-size=\"10px\" fill=\"#000\" opacity=\"1\">2029</text><text text-anchor=\"end\" transform=\"translate(210,7) rotate(270) translate(0,3)\" font-family=\"sans-serif\" font-size=\"10px\" fill=\"#000\" opacity=\"1\">2030</text><text text-anchor=\"end\" transform=\"translate(230,7) rotate(270) translate(0,3)\" font-family=\"sans-serif\" font-size=\"10px\" fill=\"#000\" opacity=\"1\">2031</text><text text-anchor=\"end\" transform=\"translate(250,7) rotate(270) translate(0,3)\" font-family=\"sans-serif\" font-size=\"10px\" fill=\"#000\" opacity=\"1\">2032</text><text text-anchor=\"end\" transform=\"translate(270,7) rotate(270) translate(0,3)\" font-family=\"sans-serif\" font-size=\"10px\" fill=\"#000\" opacity=\"1\">2033</text><text text-anchor=\"end\" transform=\"translate(290,7) rotate(270) translate(0,3)\" font-family=\"sans-serif\" font-size=\"10px\" fill=\"#000\" opacity=\"1\">2034</text><text text-anchor=\"end\" transform=\"translate(310,7) rotate(270) translate(0,3)\" font-family=\"sans-serif\" font-size=\"10px\" fill=\"#000\" opacity=\"1\">2035</text><text text-anchor=\"end\" transform=\"translate(330,7) rotate(270) translate(0,3)\" font-family=\"sans-serif\" font-size=\"10px\" fill=\"#000\" opacity=\"1\">2036</text><text text-anchor=\"end\" transform=\"translate(350,7) rotate(270) translate(0,3)\" font-family=\"sans-serif\" font-size=\"10px\" fill=\"#000\" opacity=\"1\">2037</text><text text-anchor=\"end\" transform=\"translate(370,7) rotate(270) translate(0,3)\" font-family=\"sans-serif\" font-size=\"10px\" fill=\"#000\" opacity=\"1\">2038</text><text text-anchor=\"end\" transform=\"translate(390,7) rotate(270) translate(0,3)\" font-family=\"sans-serif\" font-size=\"10px\" fill=\"#000\" opacity=\"1\">2039</text><text text-anchor=\"end\" transform=\"translate(410,7) rotate(270) translate(0,3)\" font-family=\"sans-serif\" font-size=\"10px\" fill=\"#000\" opacity=\"1\">2040</text><text text-anchor=\"end\" transform=\"translate(430,7) rotate(270) translate(0,3)\" font-family=\"sans-serif\" font-size=\"10px\" fill=\"#000\" opacity=\"1\">2041</text><text text-anchor=\"end\" transform=\"translate(450,7) rotate(270) translate(0,3)\" font-family=\"sans-serif\" font-size=\"10px\" fill=\"#000\" opacity=\"1\">2042</text><text text-anchor=\"end\" transform=\"translate(470,7) rotate(270) translate(0,3)\" font-family=\"sans-serif\" font-size=\"10px\" fill=\"#000\" opacity=\"1\">2043</text><text text-anchor=\"end\" transform=\"translate(490,7) rotate(270) translate(0,3)\" font-family=\"sans-serif\" font-size=\"10px\" fill=\"#000\" opacity=\"1\">2044</text><text text-anchor=\"end\" transform=\"translate(510,7) rotate(270) translate(0,3)\" font-family=\"sans-serif\" font-size=\"10px\" fill=\"#000\" opacity=\"1\">2045</text><text text-anchor=\"end\" transform=\"translate(530,7) rotate(270) translate(0,3)\" font-family=\"sans-serif\" font-size=\"10px\" fill=\"#000\" opacity=\"1\">2046</text><text text-anchor=\"end\" transform=\"translate(550,7) rotate(270) translate(0,3)\" font-family=\"sans-serif\" font-size=\"10px\" fill=\"#000\" opacity=\"1\">2047</text><text text-anchor=\"end\" transform=\"translate(570,7) rotate(270) translate(0,3)\" font-family=\"sans-serif\" font-size=\"10px\" fill=\"#000\" opacity=\"1\">2048</text><text text-anchor=\"end\" transform=\"translate(590,7) rotate(270) translate(0,3)\" font-family=\"sans-serif\" font-size=\"10px\" fill=\"#000\" opacity=\"1\">2049</text><text text-anchor=\"end\" transform=\"translate(610,7) rotate(270) translate(0,3)\" font-family=\"sans-serif\" font-size=\"10px\" fill=\"#000\" opacity=\"1\">2050</text><text text-anchor=\"end\" transform=\"translate(630,7) rotate(270) translate(0,3)\" font-family=\"sans-serif\" font-size=\"10px\" fill=\"#000\" opacity=\"1\">2051</text><text text-anchor=\"end\" transform=\"translate(650,7) rotate(270) translate(0,3)\" font-family=\"sans-serif\" font-size=\"10px\" fill=\"#000\" opacity=\"1\">2052</text><text text-anchor=\"end\" transform=\"translate(670,7) rotate(270) translate(0,3)\" font-family=\"sans-serif\" font-size=\"10px\" fill=\"#000\" opacity=\"1\">2053</text><text text-anchor=\"end\" transform=\"translate(690,7) rotate(270) translate(0,3)\" font-family=\"sans-serif\" font-size=\"10px\" fill=\"#000\" opacity=\"1\">2054</text><text text-anchor=\"end\" transform=\"translate(710,7) rotate(270) translate(0,3)\" font-family=\"sans-serif\" font-size=\"10px\" fill=\"#000\" opacity=\"1\">2055</text></g><g class=\"mark-rule role-axis-domain\" pointer-events=\"none\"><line transform=\"translate(0,0)\" x2=\"720\" y2=\"0\" stroke=\"#888\" stroke-width=\"1\" opacity=\"1\"/></g><g class=\"mark-text role-axis-title\" pointer-events=\"none\"><text text-anchor=\"middle\" transform=\"translate(360,44)\" font-family=\"sans-serif\" font-size=\"11px\" font-weight=\"bold\" fill=\"#000\" opacity=\"1\">year</text></g></g><path class=\"foreground\" aria-hidden=\"true\" d=\"\" pointer-events=\"none\" display=\"none\"/></g></g><g class=\"mark-group role-axis\" role=\"graphics-symbol\" aria-roledescription=\"axis\" aria-label=\"Y-axis titled 'CO2' for a linear scale with values from 0 to 8\"><g transform=\"translate(0.5,0.5)\"><path class=\"background\" aria-hidden=\"true\" d=\"M0,0h0v0h0Z\" pointer-events=\"none\"/><g><g class=\"mark-rule role-axis-tick\" pointer-events=\"none\"><line transform=\"translate(0,200)\" x2=\"-5\" y2=\"0\" stroke=\"#888\" stroke-width=\"1\" opacity=\"1\"/><line transform=\"translate(0,150)\" x2=\"-5\" y2=\"0\" stroke=\"#888\" stroke-width=\"1\" opacity=\"1\"/><line transform=\"translate(0,100)\" x2=\"-5\" y2=\"0\" stroke=\"#888\" stroke-width=\"1\" opacity=\"1\"/><line transform=\"translate(0,50)\" x2=\"-5\" y2=\"0\" stroke=\"#888\" stroke-width=\"1\" opacity=\"1\"/><line transform=\"translate(0,0)\" x2=\"-5\" y2=\"0\" stroke=\"#888\" stroke-width=\"1\" opacity=\"1\"/></g><g class=\"mark-text role-axis-label\" pointer-events=\"none\"><text text-anchor=\"end\" transform=\"translate(-7,203)\" font-family=\"sans-serif\" font-size=\"10px\" fill=\"#000\" opacity=\"1\">0</text><text text-anchor=\"end\" transform=\"translate(-7,153)\" font-family=\"sans-serif\" font-size=\"10px\" fill=\"#000\" opacity=\"1\">2</text><text text-anchor=\"end\" transform=\"translate(-7,103)\" font-family=\"sans-serif\" font-size=\"10px\" fill=\"#000\" opacity=\"1\">4</text><text text-anchor=\"end\" transform=\"translate(-7,53)\" font-family=\"sans-serif\" font-size=\"10px\" fill=\"#000\" opacity=\"1\">6</text><text text-anchor=\"end\" transform=\"translate(-7,3)\" font-family=\"sans-serif\" font-size=\"10px\" fill=\"#000\" opacity=\"1\">8</text></g><g class=\"mark-rule role-axis-domain\" pointer-events=\"none\"><line transform=\"translate(0,200)\" x2=\"0\" y2=\"-200\" stroke=\"#888\" stroke-width=\"1\" opacity=\"1\"/></g><g class=\"mark-text role-axis-title\" pointer-events=\"none\"><text text-anchor=\"middle\" transform=\"translate(-17,100) rotate(-90) translate(0,-2)\" font-family=\"sans-serif\" font-size=\"11px\" font-weight=\"bold\" fill=\"#000\" opacity=\"1\">CO2</text></g></g><path class=\"foreground\" aria-hidden=\"true\" d=\"\" pointer-events=\"none\" display=\"none\"/></g></g><g class=\"mark-group role-scope pathgroup\" role=\"graphics-object\" aria-roledescription=\"group mark container\"><g transform=\"translate(0,0)\"><path class=\"background\" aria-hidden=\"true\" d=\"M0,0h720v200h-720Z\"/><g><g class=\"mark-area role-mark marks\" role=\"graphics-object\" aria-roledescription=\"area mark container\"><path aria-label=\"year: 2020; CO2: 8; variable: Conventional\" role=\"graphics-symbol\" aria-roledescription=\"area mark\" d=\"M10,0L30,126.03750000000001L50,126.03750000000001L70,126.03750000000001L90,126.03750000000001L110,131.86852507878197L130,131.86852507878197L150,131.86852507878197L170,131.86852507878197L190,131.86852507878197L210,145.16339083119448L230,145.16339083119448L250,145.16339083119448L270,145.16339083119448L290,145.16339083119448L310,163.9368283634033L330,163.9368283634033L350,163.9368283634033L370,163.9368283634033L390,163.9368283634033L410,166.9408319660135L430,166.9408319660135L450,166.9408319660135L470,166.9408319660135L490,166.9408319660135L510,191.04656889803994L530,191.04656889803994L550,191.04656889803994L570,191.04656889803994L590,191.04656889803994L610,191.04656889803994L630,191.04656889803994L650,191.04656889803994L670,191.04656889803994L690,191.04656889803994L710,191.04656889803994L710,191.04656889803994L690,191.04656889803994L670,191.04656889803994L650,191.04656889803994L630,191.04656889803994L610,191.04656889803994L590,191.04656889803994L570,191.04656889803994L550,191.04656889803994L530,191.04656889803994L510,191.04656889803994L490,166.9408319660135L470,166.9408319660135L450,166.9408319660135L430,166.9408319660135L410,166.9408319660135L390,163.9368283634033L370,163.9368283634033L350,163.9368283634033L330,163.9368283634033L310,163.9368283634033L290,145.16339083119448L270,145.16339083119448L250,145.16339083119448L230,145.16339083119448L210,145.16339083119448L190,131.86852507878197L170,131.86852507878197L150,131.86852507878197L130,131.86852507878197L110,131.86852507878197L90,126.03750000000001L70,126.03750000000001L50,126.03750000000001L30,126.03750000000001L10,200Z\" fill=\"#4c78a8\"/></g></g><path class=\"foreground\" aria-hidden=\"true\" d=\"\" display=\"none\"/></g><g transform=\"translate(0,0)\"><path class=\"background\" aria-hidden=\"true\" d=\"M0,0h720v200h-720Z\"/><g><g class=\"mark-area role-mark marks\" role=\"graphics-object\" aria-roledescription=\"area mark container\"><path aria-label=\"year: 2020; CO2: 0; variable: inn1\" role=\"graphics-symbol\" aria-roledescription=\"area mark\" d=\"M10,200L30,200L50,200L70,200L90,200L110,131.86852507878197L130,131.86852507878197L150,131.86852507878197L170,131.86852507878197L190,131.86852507878197L210,172.84747774402885L230,172.84747774402885L250,172.84747774402885L270,172.84747774402885L290,172.84747774402885L310,180.45181963336557L330,180.45181963336557L350,180.45181963336557L370,180.45181963336557L390,180.45181963336557L410,184.23599282231743L430,184.23599282231743L450,184.23599282231743L470,184.23599282231743L490,184.23599282231743L510,192.81781872844132L530,192.81781872844132L550,192.81781872844132L570,192.81781872844132L590,192.81781872844132L610,192.81781872844132L630,192.81781872844132L650,192.81781872844132L670,192.81781872844132L690,192.81781872844132L710,192.81781872844132L710,192.81781872844132L690,192.81781872844132L670,192.81781872844132L650,192.81781872844132L630,192.81781872844132L610,192.81781872844132L590,192.81781872844132L570,192.81781872844132L550,192.81781872844132L530,192.81781872844132L510,192.81781872844132L490,184.23599282231743L470,184.23599282231743L450,184.23599282231743L430,184.23599282231743L410,184.23599282231743L390,180.45181963336557L370,180.45181963336557L350,180.45181963336557L330,180.45181963336557L310,180.45181963336557L290,172.84747774402885L270,172.84747774402885L250,172.84747774402885L230,172.84747774402885L210,172.84747774402885L190,131.86852507878197L170,131.86852507878197L150,131.86852507878197L130,131.86852507878197L110,131.86852507878197L90,200L70,200L50,200L30,200L10,200Z\" fill=\"#72b7b2\"/></g></g><path class=\"foreground\" aria-hidden=\"true\" d=\"\" display=\"none\"/></g><g transform=\"translate(0,0)\"><path class=\"background\" aria-hidden=\"true\" d=\"M0,0h720v200h-720Z\"/><g><g class=\"mark-area role-mark marks\" role=\"graphics-object\" aria-roledescription=\"area mark container\"><path aria-label=\"year: 2020; CO2: 0; variable: inn2\" role=\"graphics-symbol\" aria-roledescription=\"area mark\" d=\"M10,200L30,200L50,200L70,200L90,200L110,131.86852507878197L130,131.86852507878197L150,131.86852507878197L170,131.86852507878197L190,131.86852507878197L210,172.84747774402885L230,172.84747774402885L250,172.84747774402885L270,172.84747774402885L290,172.84747774402885L310,180.45181963336557L330,180.45181963336557L350,180.45181963336557L370,180.45181963336557L390,180.45181963336557L410,184.23599282231743L430,184.23599282231743L450,184.23599282231743L470,184.23599282231743L490,184.23599282231743L510,192.81781872844132L530,192.81781872844132L550,192.81781872844132L570,192.81781872844132L590,192.81781872844132L610,192.81781872844132L630,192.81781872844132L650,192.81781872844132L670,192.81781872844132L690,192.81781872844132L710,192.81781872844132L710,192.81781872844132L690,192.81781872844132L670,192.81781872844132L650,192.81781872844132L630,192.81781872844132L610,192.81781872844132L590,192.81781872844132L570,192.81781872844132L550,192.81781872844132L530,192.81781872844132L510,192.81781872844132L490,184.23599282231743L470,184.23599282231743L450,184.23599282231743L430,184.23599282231743L410,184.23599282231743L390,180.45181963336557L370,180.45181963336557L350,180.45181963336557L330,180.45181963336557L310,180.45181963336557L290,172.84747774402885L270,172.84747774402885L250,172.84747774402885L230,172.84747774402885L210,172.84747774402885L190,131.86852507878197L170,131.86852507878197L150,131.86852507878197L130,131.86852507878197L110,131.86852507878197L90,200L70,200L50,200L30,200L10,200Z\" fill=\"#54a24b\"/></g></g><path class=\"foreground\" aria-hidden=\"true\" d=\"\" display=\"none\"/></g><g transform=\"translate(0,0)\"><path class=\"background\" aria-hidden=\"true\" d=\"M0,0h720v200h-720Z\"/><g><g class=\"mark-area role-mark marks\" role=\"graphics-object\" aria-roledescription=\"area mark container\"><path aria-label=\"year: 2020; CO2: 0; variable: inn3\" role=\"graphics-symbol\" aria-roledescription=\"area mark\" d=\"M10,200L30,200L50,200L70,200L90,200L110,131.86852507878197L130,131.86852507878197L150,131.86852507878197L170,131.86852507878197L190,131.86852507878197L210,172.84747774402885L230,172.84747774402885L250,172.84747774402885L270,172.84747774402885L290,172.84747774402885L310,180.45181963336557L330,180.45181963336557L350,180.45181963336557L370,180.45181963336557L390,180.45181963336557L410,184.23599282231743L430,184.23599282231743L450,184.23599282231743L470,184.23599282231743L490,184.23599282231743L510,192.81781872844132L530,192.81781872844132L550,192.81781872844132L570,192.81781872844132L590,192.81781872844132L610,192.81781872844132L630,192.81781872844132L650,192.81781872844132L670,192.81781872844132L690,192.81781872844132L710,192.81781872844132L710,192.81781872844132L690,192.81781872844132L670,192.81781872844132L650,192.81781872844132L630,192.81781872844132L610,192.81781872844132L590,192.81781872844132L570,192.81781872844132L550,192.81781872844132L530,192.81781872844132L510,192.81781872844132L490,184.23599282231743L470,184.23599282231743L450,184.23599282231743L430,184.23599282231743L410,184.23599282231743L390,180.45181963336557L370,180.45181963336557L350,180.45181963336557L330,180.45181963336557L310,180.45181963336557L290,172.84747774402885L270,172.84747774402885L250,172.84747774402885L230,172.84747774402885L210,172.84747774402885L190,131.86852507878197L170,131.86852507878197L150,131.86852507878197L130,131.86852507878197L110,131.86852507878197L90,200L70,200L50,200L30,200L10,200Z\" fill=\"#eeca3b\"/></g></g><path class=\"foreground\" aria-hidden=\"true\" d=\"\" display=\"none\"/></g><g transform=\"translate(0,0)\"><path class=\"background\" aria-hidden=\"true\" d=\"M0,0h720v200h-720Z\"/><g><g class=\"mark-area role-mark marks\" role=\"graphics-object\" aria-roledescription=\"area mark container\"><path aria-label=\"year: 2020; CO2: 0; variable: inn4\" role=\"graphics-symbol\" aria-roledescription=\"area mark\" d=\"M10,200L30,200L50,200L70,200L90,200L110,131.86852507878197L130,131.86852507878197L150,131.86852507878197L170,131.86852507878197L190,131.86852507878197L210,172.84747774402885L230,172.84747774402885L250,172.84747774402885L270,172.84747774402885L290,172.84747774402885L310,180.45181963336557L330,180.45181963336557L350,180.45181963336557L370,180.45181963336557L390,180.45181963336557L410,184.23599282231743L430,184.23599282231743L450,184.23599282231743L470,184.23599282231743L490,184.23599282231743L510,192.81781872844132L530,192.81781872844132L550,192.81781872844132L570,192.81781872844132L590,192.81781872844132L610,192.81781872844132L630,192.81781872844132L650,192.81781872844132L670,192.81781872844132L690,192.81781872844132L710,192.81781872844132L710,192.81781872844132L690,192.81781872844132L670,192.81781872844132L650,192.81781872844132L630,192.81781872844132L610,192.81781872844132L590,192.81781872844132L570,192.81781872844132L550,192.81781872844132L530,192.81781872844132L510,192.81781872844132L490,184.23599282231743L470,184.23599282231743L450,184.23599282231743L430,184.23599282231743L410,184.23599282231743L390,180.45181963336557L370,180.45181963336557L350,180.45181963336557L330,180.45181963336557L310,180.45181963336557L290,172.84747774402885L270,172.84747774402885L250,172.84747774402885L230,172.84747774402885L210,172.84747774402885L190,131.86852507878197L170,131.86852507878197L150,131.86852507878197L130,131.86852507878197L110,131.86852507878197L90,200L70,200L50,200L30,200L10,200Z\" fill=\"#b279a2\"/></g></g><path class=\"foreground\" aria-hidden=\"true\" d=\"\" display=\"none\"/></g><g transform=\"translate(0,0)\"><path class=\"background\" aria-hidden=\"true\" d=\"M0,0h720v200h-720Z\"/><g><g class=\"mark-area role-mark marks\" role=\"graphics-object\" aria-roledescription=\"area mark container\"><path aria-label=\"year: 2020; CO2: 0; variable: LDPE_Pyrolysis\" role=\"graphics-symbol\" aria-roledescription=\"area mark\" d=\"M10,200L30,126.03750000000001L50,126.03750000000001L70,126.03750000000001L90,126.03750000000001L110,131.86852507878197L130,131.86852507878197L150,131.86852507878197L170,131.86852507878197L190,131.86852507878197L210,145.16339083119448L230,145.16339083119448L250,145.16339083119448L270,145.16339083119448L290,145.16339083119448L310,163.9368283634033L330,163.9368283634033L350,163.9368283634033L370,163.9368283634033L390,163.9368283634033L410,166.9408319660135L430,166.9408319660135L450,166.9408319660135L470,166.9408319660135L490,166.9408319660135L510,191.04656889803994L530,191.04656889803994L550,191.04656889803994L570,191.04656889803994L590,191.04656889803994L610,191.04656889803994L630,191.04656889803994L650,191.04656889803994L670,191.04656889803994L690,191.04656889803994L710,191.04656889803994L710,192.81781872844132L690,192.81781872844132L670,192.81781872844132L650,192.81781872844132L630,192.81781872844132L610,192.81781872844132L590,192.81781872844132L570,192.81781872844132L550,192.81781872844132L530,192.81781872844132L510,192.81781872844132L490,184.23599282231743L470,184.23599282231743L450,184.23599282231743L430,184.23599282231743L410,184.23599282231743L390,180.45181963336557L370,180.45181963336557L350,180.45181963336557L330,180.45181963336557L310,180.45181963336557L290,172.84747774402885L270,172.84747774402885L250,172.84747774402885L230,172.84747774402885L210,172.84747774402885L190,131.86852507878197L170,131.86852507878197L150,131.86852507878197L130,131.86852507878197L110,131.86852507878197L90,200L70,200L50,200L30,200L10,200Z\" fill=\"#f58518\"/></g></g><path class=\"foreground\" aria-hidden=\"true\" d=\"\" display=\"none\"/></g><g transform=\"translate(0,0)\"><path class=\"background\" aria-hidden=\"true\" d=\"M0,0h720v200h-720Z\"/><g><g class=\"mark-area role-mark marks\" role=\"graphics-object\" aria-roledescription=\"area mark container\"><path aria-label=\"year: 2020; CO2: 0; variable: inn6\" role=\"graphics-symbol\" aria-roledescription=\"area mark\" d=\"M10,200L30,200L50,200L70,200L90,200L110,131.86852507878197L130,131.86852507878197L150,131.86852507878197L170,131.86852507878197L190,131.86852507878197L210,172.84747774402885L230,172.84747774402885L250,172.84747774402885L270,172.84747774402885L290,172.84747774402885L310,180.45181963336557L330,180.45181963336557L350,180.45181963336557L370,180.45181963336557L390,180.45181963336557L410,184.23599282231743L430,184.23599282231743L450,184.23599282231743L470,184.23599282231743L490,184.23599282231743L510,192.81781872844132L530,192.81781872844132L550,192.81781872844132L570,192.81781872844132L590,192.81781872844132L610,192.81781872844132L630,192.81781872844132L650,192.81781872844132L670,192.81781872844132L690,192.81781872844132L710,192.81781872844132L710,192.81781872844132L690,192.81781872844132L670,192.81781872844132L650,192.81781872844132L630,192.81781872844132L610,192.81781872844132L590,192.81781872844132L570,192.81781872844132L550,192.81781872844132L530,192.81781872844132L510,192.81781872844132L490,184.23599282231743L470,184.23599282231743L450,184.23599282231743L430,184.23599282231743L410,184.23599282231743L390,180.45181963336557L370,180.45181963336557L350,180.45181963336557L330,180.45181963336557L310,180.45181963336557L290,172.84747774402885L270,172.84747774402885L250,172.84747774402885L230,172.84747774402885L210,172.84747774402885L190,131.86852507878197L170,131.86852507878197L150,131.86852507878197L130,131.86852507878197L110,131.86852507878197L90,200L70,200L50,200L30,200L10,200Z\" fill=\"#ff9da6\"/></g></g><path class=\"foreground\" aria-hidden=\"true\" d=\"\" display=\"none\"/></g><g transform=\"translate(0,0)\"><path class=\"background\" aria-hidden=\"true\" d=\"M0,0h720v200h-720Z\"/><g><g class=\"mark-area role-mark marks\" role=\"graphics-object\" aria-roledescription=\"area mark container\"><path aria-label=\"year: 2020; CO2: 0; variable: inn7\" role=\"graphics-symbol\" aria-roledescription=\"area mark\" d=\"M10,200L30,200L50,200L70,200L90,200L110,131.86852507878197L130,131.86852507878197L150,131.86852507878197L170,131.86852507878197L190,131.86852507878197L210,172.84747774402885L230,172.84747774402885L250,172.84747774402885L270,172.84747774402885L290,172.84747774402885L310,180.45181963336557L330,180.45181963336557L350,180.45181963336557L370,180.45181963336557L390,180.45181963336557L410,184.23599282231743L430,184.23599282231743L450,184.23599282231743L470,184.23599282231743L490,184.23599282231743L510,192.81781872844132L530,192.81781872844132L550,192.81781872844132L570,192.81781872844132L590,192.81781872844132L610,192.81781872844132L630,192.81781872844132L650,192.81781872844132L670,192.81781872844132L690,192.81781872844132L710,192.81781872844132L710,192.81781872844132L690,192.81781872844132L670,192.81781872844132L650,192.81781872844132L630,192.81781872844132L610,192.81781872844132L590,192.81781872844132L570,192.81781872844132L550,192.81781872844132L530,192.81781872844132L510,192.81781872844132L490,184.23599282231743L470,184.23599282231743L450,184.23599282231743L430,184.23599282231743L410,184.23599282231743L390,180.45181963336557L370,180.45181963336557L350,180.45181963336557L330,180.45181963336557L310,180.45181963336557L290,172.84747774402885L270,172.84747774402885L250,172.84747774402885L230,172.84747774402885L210,172.84747774402885L190,131.86852507878197L170,131.86852507878197L150,131.86852507878197L130,131.86852507878197L110,131.86852507878197L90,200L70,200L50,200L30,200L10,200Z\" fill=\"#9d755d\"/></g></g><path class=\"foreground\" aria-hidden=\"true\" d=\"\" display=\"none\"/></g><g transform=\"translate(0,0)\"><path class=\"background\" aria-hidden=\"true\" d=\"M0,0h720v200h-720Z\"/><g><g class=\"mark-area role-mark marks\" role=\"graphics-object\" aria-roledescription=\"area mark container\"><path aria-label=\"year: 2020; CO2: 0; variable: inn8\" role=\"graphics-symbol\" aria-roledescription=\"area mark\" d=\"M10,200L30,200L50,200L70,200L90,200L110,131.86852507878197L130,131.86852507878197L150,131.86852507878197L170,131.86852507878197L190,131.86852507878197L210,172.84747774402885L230,172.84747774402885L250,172.84747774402885L270,172.84747774402885L290,172.84747774402885L310,180.45181963336557L330,180.45181963336557L350,180.45181963336557L370,180.45181963336557L390,180.45181963336557L410,184.23599282231743L430,184.23599282231743L450,184.23599282231743L470,184.23599282231743L490,184.23599282231743L510,192.81781872844132L530,192.81781872844132L550,192.81781872844132L570,192.81781872844132L590,192.81781872844132L610,192.81781872844132L630,192.81781872844132L650,192.81781872844132L670,192.81781872844132L690,192.81781872844132L710,192.81781872844132L710,192.81781872844132L690,192.81781872844132L670,192.81781872844132L650,192.81781872844132L630,192.81781872844132L610,192.81781872844132L590,192.81781872844132L570,192.81781872844132L550,192.81781872844132L530,192.81781872844132L510,192.81781872844132L490,184.23599282231743L470,184.23599282231743L450,184.23599282231743L430,184.23599282231743L410,184.23599282231743L390,180.45181963336557L370,180.45181963336557L350,180.45181963336557L330,180.45181963336557L310,180.45181963336557L290,172.84747774402885L270,172.84747774402885L250,172.84747774402885L230,172.84747774402885L210,172.84747774402885L190,131.86852507878197L170,131.86852507878197L150,131.86852507878197L130,131.86852507878197L110,131.86852507878197L90,200L70,200L50,200L30,200L10,200Z\" fill=\"#bab0ac\"/></g></g><path class=\"foreground\" aria-hidden=\"true\" d=\"\" display=\"none\"/></g><g transform=\"translate(0,0)\"><path class=\"background\" aria-hidden=\"true\" d=\"M0,0h720v200h-720Z\"/><g><g class=\"mark-area role-mark marks\" role=\"graphics-object\" aria-roledescription=\"area mark container\"><path aria-label=\"year: 2020; CO2: 0; variable: inn9\" role=\"graphics-symbol\" aria-roledescription=\"area mark\" d=\"M10,200L30,200L50,200L70,200L90,200L110,131.86852507878197L130,131.86852507878197L150,131.86852507878197L170,131.86852507878197L190,131.86852507878197L210,172.84747774402885L230,172.84747774402885L250,172.84747774402885L270,172.84747774402885L290,172.84747774402885L310,180.45181963336557L330,180.45181963336557L350,180.45181963336557L370,180.45181963336557L390,180.45181963336557L410,184.23599282231743L430,184.23599282231743L450,184.23599282231743L470,184.23599282231743L490,184.23599282231743L510,192.81781872844132L530,192.81781872844132L550,192.81781872844132L570,192.81781872844132L590,192.81781872844132L610,192.81781872844132L630,192.81781872844132L650,192.81781872844132L670,192.81781872844132L690,192.81781872844132L710,192.81781872844132L710,200L690,200L670,200L650,200L630,200L610,200L590,200L570,200L550,200L530,200L510,200L490,200L470,200L450,200L430,200L410,200L390,200L370,200L350,200L330,200L310,200L290,200L270,200L250,200L230,200L210,200L190,200L170,200L150,200L130,200L110,200L90,200L70,200L50,200L30,200L10,200Z\" fill=\"#4c78a8\"/></g></g><path class=\"foreground\" aria-hidden=\"true\" d=\"\" display=\"none\"/></g><g transform=\"translate(0,0)\"><path class=\"background\" aria-hidden=\"true\" d=\"M0,0h720v200h-720Z\"/><g><g class=\"mark-area role-mark marks\" role=\"graphics-object\" aria-roledescription=\"area mark container\"><path aria-label=\"year: 2020; CO2: 0; variable: PLA_Alcoholysis\" role=\"graphics-symbol\" aria-roledescription=\"area mark\" d=\"M10,200L30,200L50,200L70,200L90,200L110,131.86852507878197L130,131.86852507878197L150,131.86852507878197L170,131.86852507878197L190,131.86852507878197L210,172.84747774402885L230,172.84747774402885L250,172.84747774402885L270,172.84747774402885L290,172.84747774402885L310,180.45181963336557L330,180.45181963336557L350,180.45181963336557L370,180.45181963336557L390,180.45181963336557L410,184.23599282231743L430,184.23599282231743L450,184.23599282231743L470,184.23599282231743L490,184.23599282231743L510,192.81781872844132L530,192.81781872844132L550,192.81781872844132L570,192.81781872844132L590,192.81781872844132L610,192.81781872844132L630,192.81781872844132L650,192.81781872844132L670,192.81781872844132L690,192.81781872844132L710,192.81781872844132L710,192.81781872844132L690,192.81781872844132L670,192.81781872844132L650,192.81781872844132L630,192.81781872844132L610,192.81781872844132L590,192.81781872844132L570,192.81781872844132L550,192.81781872844132L530,192.81781872844132L510,192.81781872844132L490,184.23599282231743L470,184.23599282231743L450,184.23599282231743L430,184.23599282231743L410,184.23599282231743L390,180.45181963336557L370,180.45181963336557L350,180.45181963336557L330,180.45181963336557L310,180.45181963336557L290,172.84747774402885L270,172.84747774402885L250,172.84747774402885L230,172.84747774402885L210,172.84747774402885L190,131.86852507878197L170,131.86852507878197L150,131.86852507878197L130,131.86852507878197L110,131.86852507878197L90,200L70,200L50,200L30,200L10,200Z\" fill=\"#e45756\"/></g></g><path class=\"foreground\" aria-hidden=\"true\" d=\"\" display=\"none\"/></g></g><g class=\"mark-group role-legend\" role=\"graphics-symbol\" aria-roledescription=\"legend\" aria-label=\"Symbol legend titled 'variable' for fill color with 11 values: Conventional, LDPE_Pyrolysis, PLA_Alcoholysis, inn1, inn2, ending with inn9\"><g transform=\"translate(738,0)\"><path class=\"background\" aria-hidden=\"true\" d=\"M0,0h96v157h-96Z\" pointer-events=\"none\"/><g><g class=\"mark-group role-legend-entry\"><g transform=\"translate(0,16)\"><path class=\"background\" aria-hidden=\"true\" d=\"M0,0h0v0h0Z\" pointer-events=\"none\"/><g><g class=\"mark-group role-scope\" role=\"graphics-object\" aria-roledescription=\"group mark container\"><g transform=\"translate(0,0)\"><path class=\"background\" aria-hidden=\"true\" d=\"M0,0h96v11h-96Z\" pointer-events=\"none\" opacity=\"1\"/><g><g class=\"mark-symbol role-legend-symbol\" pointer-events=\"none\"><path transform=\"translate(6,6)\" d=\"M5,0A5,5,0,1,1,-5,0A5,5,0,1,1,5,0\" fill=\"#4c78a8\" stroke-width=\"1.5\" opacity=\"1\"/></g><g class=\"mark-text role-legend-label\" pointer-events=\"none\"><text text-anchor=\"start\" transform=\"translate(16,9)\" font-family=\"sans-serif\" font-size=\"10px\" fill=\"#000\" opacity=\"1\">Conventional</text></g></g><path class=\"foreground\" aria-hidden=\"true\" d=\"\" pointer-events=\"none\" display=\"none\"/></g><g transform=\"translate(0,13)\"><path class=\"background\" aria-hidden=\"true\" d=\"M0,0h96v11h-96Z\" pointer-events=\"none\" opacity=\"1\"/><g><g class=\"mark-symbol role-legend-symbol\" pointer-events=\"none\"><path transform=\"translate(6,6)\" d=\"M5,0A5,5,0,1,1,-5,0A5,5,0,1,1,5,0\" fill=\"#f58518\" stroke-width=\"1.5\" opacity=\"1\"/></g><g class=\"mark-text role-legend-label\" pointer-events=\"none\"><text text-anchor=\"start\" transform=\"translate(16,9)\" font-family=\"sans-serif\" font-size=\"10px\" fill=\"#000\" opacity=\"1\">LDPE_Pyrolysis</text></g></g><path class=\"foreground\" aria-hidden=\"true\" d=\"\" pointer-events=\"none\" display=\"none\"/></g><g transform=\"translate(0,26)\"><path class=\"background\" aria-hidden=\"true\" d=\"M0,0h96v11h-96Z\" pointer-events=\"none\" opacity=\"1\"/><g><g class=\"mark-symbol role-legend-symbol\" pointer-events=\"none\"><path transform=\"translate(6,6)\" d=\"M5,0A5,5,0,1,1,-5,0A5,5,0,1,1,5,0\" fill=\"#e45756\" stroke-width=\"1.5\" opacity=\"1\"/></g><g class=\"mark-text role-legend-label\" pointer-events=\"none\"><text text-anchor=\"start\" transform=\"translate(16,9)\" font-family=\"sans-serif\" font-size=\"10px\" fill=\"#000\" opacity=\"1\">PLA_Alcoholysis</text></g></g><path class=\"foreground\" aria-hidden=\"true\" d=\"\" pointer-events=\"none\" display=\"none\"/></g><g transform=\"translate(0,39)\"><path class=\"background\" aria-hidden=\"true\" d=\"M0,0h96v11h-96Z\" pointer-events=\"none\" opacity=\"1\"/><g><g class=\"mark-symbol role-legend-symbol\" pointer-events=\"none\"><path transform=\"translate(6,6)\" d=\"M5,0A5,5,0,1,1,-5,0A5,5,0,1,1,5,0\" fill=\"#72b7b2\" stroke-width=\"1.5\" opacity=\"1\"/></g><g class=\"mark-text role-legend-label\" pointer-events=\"none\"><text text-anchor=\"start\" transform=\"translate(16,9)\" font-family=\"sans-serif\" font-size=\"10px\" fill=\"#000\" opacity=\"1\">inn1</text></g></g><path class=\"foreground\" aria-hidden=\"true\" d=\"\" pointer-events=\"none\" display=\"none\"/></g><g transform=\"translate(0,52)\"><path class=\"background\" aria-hidden=\"true\" d=\"M0,0h96v11h-96Z\" pointer-events=\"none\" opacity=\"1\"/><g><g class=\"mark-symbol role-legend-symbol\" pointer-events=\"none\"><path transform=\"translate(6,6)\" d=\"M5,0A5,5,0,1,1,-5,0A5,5,0,1,1,5,0\" fill=\"#54a24b\" stroke-width=\"1.5\" opacity=\"1\"/></g><g class=\"mark-text role-legend-label\" pointer-events=\"none\"><text text-anchor=\"start\" transform=\"translate(16,9)\" font-family=\"sans-serif\" font-size=\"10px\" fill=\"#000\" opacity=\"1\">inn2</text></g></g><path class=\"foreground\" aria-hidden=\"true\" d=\"\" pointer-events=\"none\" display=\"none\"/></g><g transform=\"translate(0,65)\"><path class=\"background\" aria-hidden=\"true\" d=\"M0,0h96v11h-96Z\" pointer-events=\"none\" opacity=\"1\"/><g><g class=\"mark-symbol role-legend-symbol\" pointer-events=\"none\"><path transform=\"translate(6,6)\" d=\"M5,0A5,5,0,1,1,-5,0A5,5,0,1,1,5,0\" fill=\"#eeca3b\" stroke-width=\"1.5\" opacity=\"1\"/></g><g class=\"mark-text role-legend-label\" pointer-events=\"none\"><text text-anchor=\"start\" transform=\"translate(16,9)\" font-family=\"sans-serif\" font-size=\"10px\" fill=\"#000\" opacity=\"1\">inn3</text></g></g><path class=\"foreground\" aria-hidden=\"true\" d=\"\" pointer-events=\"none\" display=\"none\"/></g><g transform=\"translate(0,78)\"><path class=\"background\" aria-hidden=\"true\" d=\"M0,0h96v11h-96Z\" pointer-events=\"none\" opacity=\"1\"/><g><g class=\"mark-symbol role-legend-symbol\" pointer-events=\"none\"><path transform=\"translate(6,6)\" d=\"M5,0A5,5,0,1,1,-5,0A5,5,0,1,1,5,0\" fill=\"#b279a2\" stroke-width=\"1.5\" opacity=\"1\"/></g><g class=\"mark-text role-legend-label\" pointer-events=\"none\"><text text-anchor=\"start\" transform=\"translate(16,9)\" font-family=\"sans-serif\" font-size=\"10px\" fill=\"#000\" opacity=\"1\">inn4</text></g></g><path class=\"foreground\" aria-hidden=\"true\" d=\"\" pointer-events=\"none\" display=\"none\"/></g><g transform=\"translate(0,91)\"><path class=\"background\" aria-hidden=\"true\" d=\"M0,0h96v11h-96Z\" pointer-events=\"none\" opacity=\"1\"/><g><g class=\"mark-symbol role-legend-symbol\" pointer-events=\"none\"><path transform=\"translate(6,6)\" d=\"M5,0A5,5,0,1,1,-5,0A5,5,0,1,1,5,0\" fill=\"#ff9da6\" stroke-width=\"1.5\" opacity=\"1\"/></g><g class=\"mark-text role-legend-label\" pointer-events=\"none\"><text text-anchor=\"start\" transform=\"translate(16,9)\" font-family=\"sans-serif\" font-size=\"10px\" fill=\"#000\" opacity=\"1\">inn6</text></g></g><path class=\"foreground\" aria-hidden=\"true\" d=\"\" pointer-events=\"none\" display=\"none\"/></g><g transform=\"translate(0,104)\"><path class=\"background\" aria-hidden=\"true\" d=\"M0,0h96v11h-96Z\" pointer-events=\"none\" opacity=\"1\"/><g><g class=\"mark-symbol role-legend-symbol\" pointer-events=\"none\"><path transform=\"translate(6,6)\" d=\"M5,0A5,5,0,1,1,-5,0A5,5,0,1,1,5,0\" fill=\"#9d755d\" stroke-width=\"1.5\" opacity=\"1\"/></g><g class=\"mark-text role-legend-label\" pointer-events=\"none\"><text text-anchor=\"start\" transform=\"translate(16,9)\" font-family=\"sans-serif\" font-size=\"10px\" fill=\"#000\" opacity=\"1\">inn7</text></g></g><path class=\"foreground\" aria-hidden=\"true\" d=\"\" pointer-events=\"none\" display=\"none\"/></g><g transform=\"translate(0,117)\"><path class=\"background\" aria-hidden=\"true\" d=\"M0,0h96v11h-96Z\" pointer-events=\"none\" opacity=\"1\"/><g><g class=\"mark-symbol role-legend-symbol\" pointer-events=\"none\"><path transform=\"translate(6,6)\" d=\"M5,0A5,5,0,1,1,-5,0A5,5,0,1,1,5,0\" fill=\"#bab0ac\" stroke-width=\"1.5\" opacity=\"1\"/></g><g class=\"mark-text role-legend-label\" pointer-events=\"none\"><text text-anchor=\"start\" transform=\"translate(16,9)\" font-family=\"sans-serif\" font-size=\"10px\" fill=\"#000\" opacity=\"1\">inn8</text></g></g><path class=\"foreground\" aria-hidden=\"true\" d=\"\" pointer-events=\"none\" display=\"none\"/></g><g transform=\"translate(0,130)\"><path class=\"background\" aria-hidden=\"true\" d=\"M0,0h96v11h-96Z\" pointer-events=\"none\" opacity=\"1\"/><g><g class=\"mark-symbol role-legend-symbol\" pointer-events=\"none\"><path transform=\"translate(6,6)\" d=\"M5,0A5,5,0,1,1,-5,0A5,5,0,1,1,5,0\" fill=\"#4c78a8\" stroke-width=\"1.5\" opacity=\"1\"/></g><g class=\"mark-text role-legend-label\" pointer-events=\"none\"><text text-anchor=\"start\" transform=\"translate(16,9)\" font-family=\"sans-serif\" font-size=\"10px\" fill=\"#000\" opacity=\"1\">inn9</text></g></g><path class=\"foreground\" aria-hidden=\"true\" d=\"\" pointer-events=\"none\" display=\"none\"/></g></g></g><path class=\"foreground\" aria-hidden=\"true\" d=\"\" pointer-events=\"none\" display=\"none\"/></g></g><g class=\"mark-text role-legend-title\" pointer-events=\"none\"><text text-anchor=\"start\" transform=\"translate(0,9)\" font-family=\"sans-serif\" font-size=\"11px\" font-weight=\"bold\" fill=\"#000\" opacity=\"1\">variable</text></g></g><path class=\"foreground\" aria-hidden=\"true\" d=\"\" pointer-events=\"none\" display=\"none\"/></g></g></g><path class=\"foreground\" aria-hidden=\"true\" d=\"\" display=\"none\"/></g></g></g></svg>\n"
      ],
      "text/plain": [
       "@vlplot(\n",
       "    legend=\"sNames\",\n",
       "    mark=\"area\",\n",
       "    encoding={\n",
       "        x={\n",
       "            field=\"year\"\n",
       "        },\n",
       "        y={\n",
       "            stack=\"zero\",\n",
       "            title=\"CO2\",\n",
       "            field=\"value\"\n",
       "        },\n",
       "        color={\n",
       "            field=\"variable\",\n",
       "            type=\"nominal\"\n",
       "        }\n",
       "    },\n",
       "    data={\n",
       "        values=...\n",
       "    }\n",
       ")"
      ]
     },
     "execution_count": 41,
     "metadata": {},
     "output_type": "execute_result"
    }
   ],
   "source": [
    "function conventional(t)\n",
    "    return initial[1,3]*(1-sum(JuMP.values.(xk)[k,t] for k in 1:nrow(compromise)))\n",
    "end\n",
    "\n",
    "function innovation(i,t)\n",
    "    if i==1\n",
    "        return sum(JuMP.values.(xk)[k,t]*(co2fac[k,t]) for k=1:mapki[i,2])\n",
    "    else\n",
    "        return sum(JuMP.values.(xk)[k,t]*(co2fac[k,t]) for k=mapki[i-1,2]:mapki[i,2])\n",
    "    end\n",
    "end\n",
    "\n",
    "conv=zeros(51)\n",
    "\n",
    "conv[1]=initial[1,3]\n",
    "inn_co2=zeros(nrow(innovations),51)\n",
    "\n",
    "for inn in 1:nrow(innovations)\n",
    "    inn_co2[inn,1]=0\n",
    "end\n",
    "j=0\n",
    "for i in 2:51\n",
    "    \n",
    "    if 0 ≤ i ≤ 5\n",
    "        j=1\n",
    "    elseif 6 ≤ i ≤ 10\n",
    "        j=2\n",
    "    elseif 6 ≤ i ≤ 10\n",
    "        j=3\n",
    "    elseif 11 ≤ i ≤ 15\n",
    "        j=4\n",
    "    elseif 16 ≤ i ≤ 20\n",
    "        j=5\n",
    "    elseif 21 ≤ i ≤ 25\n",
    "        j=6\n",
    "    else\n",
    "        j=7\n",
    "    end\n",
    "    \n",
    "    conv[i]=conventional(j)\n",
    "    for inn in 1:nrow(innovations)\n",
    "        inn_co2[inn,i]=innovation(inn,j)\n",
    "    end\n",
    "end\n",
    "\n",
    "\n",
    "sNames = [\"conv\",\"inn1\",\"inn2\",\"inn3\",\"inn4\",\"inn5\",\"inn6\",\"inn7\",\"inn8\",\"inn9\",\"inn10\"]\n",
    "xLabels = []\n",
    "for i in 2020:2070\n",
    "    push!(xLabels,string(i))\n",
    "end\n",
    "\n",
    "df = DataFrame(year=xLabels, conv=conv, inn1=inn_co2[1,:],inn2=inn_co2[2,:],inn3=inn_co2[3,:],inn4=inn_co2[4,:],\n",
    "        inn5=inn_co2[5,:],inn6=inn_co2[6,:],inn7=inn_co2[7,:],inn8=inn_co2[8,:],inn9=inn_co2[9,:],inn10=inn_co2[10,:])\n",
    "df=df[1:36,:]\n",
    "\n",
    "rename!(df,[:conv,:inn5,:inn10] .=> [:Conventional,:LDPE_Pyrolysis,:PLA_Alcoholysis])\n",
    "\n",
    "co2_inn=df |> stack |> @vlplot(:area, x=:year, y={:value, stack=:zero, title=\"CO2\"}, color=\"variable:n\",legend=:sNames) \n",
    "\n",
    "#save(\"./result-case-roadmap/co2-roadmap.svg\", co2_inn)\n",
    "co2_inn\n",
    "\n"
   ]
  },
  {
   "cell_type": "code",
   "execution_count": 42,
   "id": "3645b8d1",
   "metadata": {},
   "outputs": [
    {
     "data": {
      "application/vnd.vegalite.v4+json": {
       "data": {
        "values": [
         {
          "value": 0.12,
          "variable": "Conventional",
          "year": "2020"
         },
         {
          "value": 0,
          "variable": "Conventional",
          "year": "2021"
         },
         {
          "value": 0,
          "variable": "Conventional",
          "year": "2022"
         },
         {
          "value": 0,
          "variable": "Conventional",
          "year": "2023"
         },
         {
          "value": 0,
          "variable": "Conventional",
          "year": "2024"
         },
         {
          "value": 0,
          "variable": "Conventional",
          "year": "2025"
         },
         {
          "value": 0,
          "variable": "Conventional",
          "year": "2026"
         },
         {
          "value": 0,
          "variable": "Conventional",
          "year": "2027"
         },
         {
          "value": 0,
          "variable": "Conventional",
          "year": "2028"
         },
         {
          "value": 0,
          "variable": "Conventional",
          "year": "2029"
         },
         {
          "value": 0,
          "variable": "Conventional",
          "year": "2030"
         },
         {
          "value": 0,
          "variable": "Conventional",
          "year": "2031"
         },
         {
          "value": 0,
          "variable": "Conventional",
          "year": "2032"
         },
         {
          "value": 0,
          "variable": "Conventional",
          "year": "2033"
         },
         {
          "value": 0,
          "variable": "Conventional",
          "year": "2034"
         },
         {
          "value": 0,
          "variable": "Conventional",
          "year": "2035"
         },
         {
          "value": 0,
          "variable": "Conventional",
          "year": "2036"
         },
         {
          "value": 0,
          "variable": "Conventional",
          "year": "2037"
         },
         {
          "value": 0,
          "variable": "Conventional",
          "year": "2038"
         },
         {
          "value": 0,
          "variable": "Conventional",
          "year": "2039"
         },
         {
          "value": 0,
          "variable": "Conventional",
          "year": "2040"
         },
         {
          "value": 0,
          "variable": "Conventional",
          "year": "2041"
         },
         {
          "value": 0,
          "variable": "Conventional",
          "year": "2042"
         },
         {
          "value": 0,
          "variable": "Conventional",
          "year": "2043"
         },
         {
          "value": 0,
          "variable": "Conventional",
          "year": "2044"
         },
         {
          "value": 0,
          "variable": "Conventional",
          "year": "2045"
         },
         {
          "value": 0,
          "variable": "Conventional",
          "year": "2046"
         },
         {
          "value": 0,
          "variable": "Conventional",
          "year": "2047"
         },
         {
          "value": 0,
          "variable": "Conventional",
          "year": "2048"
         },
         {
          "value": 0,
          "variable": "Conventional",
          "year": "2049"
         },
         {
          "value": 0,
          "variable": "Conventional",
          "year": "2050"
         },
         {
          "value": 0,
          "variable": "Conventional",
          "year": "2051"
         },
         {
          "value": 0,
          "variable": "Conventional",
          "year": "2052"
         },
         {
          "value": 0,
          "variable": "Conventional",
          "year": "2053"
         },
         {
          "value": 0,
          "variable": "Conventional",
          "year": "2054"
         },
         {
          "value": 0,
          "variable": "Conventional",
          "year": "2055"
         },
         {
          "value": 0,
          "variable": "inn1",
          "year": "2020"
         },
         {
          "value": 0,
          "variable": "inn1",
          "year": "2021"
         },
         {
          "value": 0,
          "variable": "inn1",
          "year": "2022"
         },
         {
          "value": 0,
          "variable": "inn1",
          "year": "2023"
         },
         {
          "value": 0,
          "variable": "inn1",
          "year": "2024"
         },
         {
          "value": 0,
          "variable": "inn1",
          "year": "2025"
         },
         {
          "value": 0,
          "variable": "inn1",
          "year": "2026"
         },
         {
          "value": 0,
          "variable": "inn1",
          "year": "2027"
         },
         {
          "value": 0,
          "variable": "inn1",
          "year": "2028"
         },
         {
          "value": 0,
          "variable": "inn1",
          "year": "2029"
         },
         {
          "value": 0,
          "variable": "inn1",
          "year": "2030"
         },
         {
          "value": 0,
          "variable": "inn1",
          "year": "2031"
         },
         {
          "value": 0,
          "variable": "inn1",
          "year": "2032"
         },
         {
          "value": 0,
          "variable": "inn1",
          "year": "2033"
         },
         {
          "value": 0,
          "variable": "inn1",
          "year": "2034"
         },
         {
          "value": 0,
          "variable": "inn1",
          "year": "2035"
         },
         {
          "value": 0,
          "variable": "inn1",
          "year": "2036"
         },
         {
          "value": 0,
          "variable": "inn1",
          "year": "2037"
         },
         {
          "value": 0,
          "variable": "inn1",
          "year": "2038"
         },
         {
          "value": 0,
          "variable": "inn1",
          "year": "2039"
         },
         {
          "value": 0,
          "variable": "inn1",
          "year": "2040"
         },
         {
          "value": 0,
          "variable": "inn1",
          "year": "2041"
         },
         {
          "value": 0,
          "variable": "inn1",
          "year": "2042"
         },
         {
          "value": 0,
          "variable": "inn1",
          "year": "2043"
         },
         {
          "value": 0,
          "variable": "inn1",
          "year": "2044"
         },
         {
          "value": 0,
          "variable": "inn1",
          "year": "2045"
         },
         {
          "value": 0,
          "variable": "inn1",
          "year": "2046"
         },
         {
          "value": 0,
          "variable": "inn1",
          "year": "2047"
         },
         {
          "value": 0,
          "variable": "inn1",
          "year": "2048"
         },
         {
          "value": 0,
          "variable": "inn1",
          "year": "2049"
         },
         {
          "value": 0,
          "variable": "inn1",
          "year": "2050"
         },
         {
          "value": 0,
          "variable": "inn1",
          "year": "2051"
         },
         {
          "value": 0,
          "variable": "inn1",
          "year": "2052"
         },
         {
          "value": 0,
          "variable": "inn1",
          "year": "2053"
         },
         {
          "value": 0,
          "variable": "inn1",
          "year": "2054"
         },
         {
          "value": 0,
          "variable": "inn1",
          "year": "2055"
         },
         {
          "value": 0,
          "variable": "inn2",
          "year": "2020"
         },
         {
          "value": 0,
          "variable": "inn2",
          "year": "2021"
         },
         {
          "value": 0,
          "variable": "inn2",
          "year": "2022"
         },
         {
          "value": 0,
          "variable": "inn2",
          "year": "2023"
         },
         {
          "value": 0,
          "variable": "inn2",
          "year": "2024"
         },
         {
          "value": 0,
          "variable": "inn2",
          "year": "2025"
         },
         {
          "value": 0,
          "variable": "inn2",
          "year": "2026"
         },
         {
          "value": 0,
          "variable": "inn2",
          "year": "2027"
         },
         {
          "value": 0,
          "variable": "inn2",
          "year": "2028"
         },
         {
          "value": 0,
          "variable": "inn2",
          "year": "2029"
         },
         {
          "value": 0,
          "variable": "inn2",
          "year": "2030"
         },
         {
          "value": 0,
          "variable": "inn2",
          "year": "2031"
         },
         {
          "value": 0,
          "variable": "inn2",
          "year": "2032"
         },
         {
          "value": 0,
          "variable": "inn2",
          "year": "2033"
         },
         {
          "value": 0,
          "variable": "inn2",
          "year": "2034"
         },
         {
          "value": 0,
          "variable": "inn2",
          "year": "2035"
         },
         {
          "value": 0,
          "variable": "inn2",
          "year": "2036"
         },
         {
          "value": 0,
          "variable": "inn2",
          "year": "2037"
         },
         {
          "value": 0,
          "variable": "inn2",
          "year": "2038"
         },
         {
          "value": 0,
          "variable": "inn2",
          "year": "2039"
         },
         {
          "value": 0,
          "variable": "inn2",
          "year": "2040"
         },
         {
          "value": 0,
          "variable": "inn2",
          "year": "2041"
         },
         {
          "value": 0,
          "variable": "inn2",
          "year": "2042"
         },
         {
          "value": 0,
          "variable": "inn2",
          "year": "2043"
         },
         {
          "value": 0,
          "variable": "inn2",
          "year": "2044"
         },
         {
          "value": 0,
          "variable": "inn2",
          "year": "2045"
         },
         {
          "value": 0,
          "variable": "inn2",
          "year": "2046"
         },
         {
          "value": 0,
          "variable": "inn2",
          "year": "2047"
         },
         {
          "value": 0,
          "variable": "inn2",
          "year": "2048"
         },
         {
          "value": 0,
          "variable": "inn2",
          "year": "2049"
         },
         {
          "value": 0,
          "variable": "inn2",
          "year": "2050"
         },
         {
          "value": 0,
          "variable": "inn2",
          "year": "2051"
         },
         {
          "value": 0,
          "variable": "inn2",
          "year": "2052"
         },
         {
          "value": 0,
          "variable": "inn2",
          "year": "2053"
         },
         {
          "value": 0,
          "variable": "inn2",
          "year": "2054"
         },
         {
          "value": 0,
          "variable": "inn2",
          "year": "2055"
         },
         {
          "value": 0,
          "variable": "inn3",
          "year": "2020"
         },
         {
          "value": 0,
          "variable": "inn3",
          "year": "2021"
         },
         {
          "value": 0,
          "variable": "inn3",
          "year": "2022"
         },
         {
          "value": 0,
          "variable": "inn3",
          "year": "2023"
         },
         {
          "value": 0,
          "variable": "inn3",
          "year": "2024"
         },
         {
          "value": 0,
          "variable": "inn3",
          "year": "2025"
         },
         {
          "value": 0,
          "variable": "inn3",
          "year": "2026"
         },
         {
          "value": 0,
          "variable": "inn3",
          "year": "2027"
         },
         {
          "value": 0,
          "variable": "inn3",
          "year": "2028"
         },
         {
          "value": 0,
          "variable": "inn3",
          "year": "2029"
         },
         {
          "value": 0,
          "variable": "inn3",
          "year": "2030"
         },
         {
          "value": 0,
          "variable": "inn3",
          "year": "2031"
         },
         {
          "value": 0,
          "variable": "inn3",
          "year": "2032"
         },
         {
          "value": 0,
          "variable": "inn3",
          "year": "2033"
         },
         {
          "value": 0,
          "variable": "inn3",
          "year": "2034"
         },
         {
          "value": 0,
          "variable": "inn3",
          "year": "2035"
         },
         {
          "value": 0,
          "variable": "inn3",
          "year": "2036"
         },
         {
          "value": 0,
          "variable": "inn3",
          "year": "2037"
         },
         {
          "value": 0,
          "variable": "inn3",
          "year": "2038"
         },
         {
          "value": 0,
          "variable": "inn3",
          "year": "2039"
         },
         {
          "value": 0,
          "variable": "inn3",
          "year": "2040"
         },
         {
          "value": 0,
          "variable": "inn3",
          "year": "2041"
         },
         {
          "value": 0,
          "variable": "inn3",
          "year": "2042"
         },
         {
          "value": 0,
          "variable": "inn3",
          "year": "2043"
         },
         {
          "value": 0,
          "variable": "inn3",
          "year": "2044"
         },
         {
          "value": 0,
          "variable": "inn3",
          "year": "2045"
         },
         {
          "value": 0,
          "variable": "inn3",
          "year": "2046"
         },
         {
          "value": 0,
          "variable": "inn3",
          "year": "2047"
         },
         {
          "value": 0,
          "variable": "inn3",
          "year": "2048"
         },
         {
          "value": 0,
          "variable": "inn3",
          "year": "2049"
         },
         {
          "value": 0,
          "variable": "inn3",
          "year": "2050"
         },
         {
          "value": 0,
          "variable": "inn3",
          "year": "2051"
         },
         {
          "value": 0,
          "variable": "inn3",
          "year": "2052"
         },
         {
          "value": 0,
          "variable": "inn3",
          "year": "2053"
         },
         {
          "value": 0,
          "variable": "inn3",
          "year": "2054"
         },
         {
          "value": 0,
          "variable": "inn3",
          "year": "2055"
         },
         {
          "value": 0,
          "variable": "inn4",
          "year": "2020"
         },
         {
          "value": 0,
          "variable": "inn4",
          "year": "2021"
         },
         {
          "value": 0,
          "variable": "inn4",
          "year": "2022"
         },
         {
          "value": 0,
          "variable": "inn4",
          "year": "2023"
         },
         {
          "value": 0,
          "variable": "inn4",
          "year": "2024"
         },
         {
          "value": 0,
          "variable": "inn4",
          "year": "2025"
         },
         {
          "value": 0,
          "variable": "inn4",
          "year": "2026"
         },
         {
          "value": 0,
          "variable": "inn4",
          "year": "2027"
         },
         {
          "value": 0,
          "variable": "inn4",
          "year": "2028"
         },
         {
          "value": 0,
          "variable": "inn4",
          "year": "2029"
         },
         {
          "value": 0,
          "variable": "inn4",
          "year": "2030"
         },
         {
          "value": 0,
          "variable": "inn4",
          "year": "2031"
         },
         {
          "value": 0,
          "variable": "inn4",
          "year": "2032"
         },
         {
          "value": 0,
          "variable": "inn4",
          "year": "2033"
         },
         {
          "value": 0,
          "variable": "inn4",
          "year": "2034"
         },
         {
          "value": 0,
          "variable": "inn4",
          "year": "2035"
         },
         {
          "value": 0,
          "variable": "inn4",
          "year": "2036"
         },
         {
          "value": 0,
          "variable": "inn4",
          "year": "2037"
         },
         {
          "value": 0,
          "variable": "inn4",
          "year": "2038"
         },
         {
          "value": 0,
          "variable": "inn4",
          "year": "2039"
         },
         {
          "value": 0,
          "variable": "inn4",
          "year": "2040"
         },
         {
          "value": 0,
          "variable": "inn4",
          "year": "2041"
         },
         {
          "value": 0,
          "variable": "inn4",
          "year": "2042"
         },
         {
          "value": 0,
          "variable": "inn4",
          "year": "2043"
         },
         {
          "value": 0,
          "variable": "inn4",
          "year": "2044"
         },
         {
          "value": 0,
          "variable": "inn4",
          "year": "2045"
         },
         {
          "value": 0,
          "variable": "inn4",
          "year": "2046"
         },
         {
          "value": 0,
          "variable": "inn4",
          "year": "2047"
         },
         {
          "value": 0,
          "variable": "inn4",
          "year": "2048"
         },
         {
          "value": 0,
          "variable": "inn4",
          "year": "2049"
         },
         {
          "value": 0,
          "variable": "inn4",
          "year": "2050"
         },
         {
          "value": 0,
          "variable": "inn4",
          "year": "2051"
         },
         {
          "value": 0,
          "variable": "inn4",
          "year": "2052"
         },
         {
          "value": 0,
          "variable": "inn4",
          "year": "2053"
         },
         {
          "value": 0,
          "variable": "inn4",
          "year": "2054"
         },
         {
          "value": 0,
          "variable": "inn4",
          "year": "2055"
         },
         {
          "value": 0,
          "variable": "LDPE_Pyrolysis",
          "year": "2020"
         },
         {
          "value": 0,
          "variable": "LDPE_Pyrolysis",
          "year": "2021"
         },
         {
          "value": 0,
          "variable": "LDPE_Pyrolysis",
          "year": "2022"
         },
         {
          "value": 0,
          "variable": "LDPE_Pyrolysis",
          "year": "2023"
         },
         {
          "value": 0,
          "variable": "LDPE_Pyrolysis",
          "year": "2024"
         },
         {
          "value": 0,
          "variable": "LDPE_Pyrolysis",
          "year": "2025"
         },
         {
          "value": 0,
          "variable": "LDPE_Pyrolysis",
          "year": "2026"
         },
         {
          "value": 0,
          "variable": "LDPE_Pyrolysis",
          "year": "2027"
         },
         {
          "value": 0,
          "variable": "LDPE_Pyrolysis",
          "year": "2028"
         },
         {
          "value": 0,
          "variable": "LDPE_Pyrolysis",
          "year": "2029"
         },
         {
          "value": 0.3648931857283638,
          "variable": "LDPE_Pyrolysis",
          "year": "2030"
         },
         {
          "value": 0.3648931857283638,
          "variable": "LDPE_Pyrolysis",
          "year": "2031"
         },
         {
          "value": 0.3648931857283638,
          "variable": "LDPE_Pyrolysis",
          "year": "2032"
         },
         {
          "value": 0.3648931857283638,
          "variable": "LDPE_Pyrolysis",
          "year": "2033"
         },
         {
          "value": 0.3648931857283638,
          "variable": "LDPE_Pyrolysis",
          "year": "2034"
         },
         {
          "value": 0.36208584675412975,
          "variable": "LDPE_Pyrolysis",
          "year": "2035"
         },
         {
          "value": 0.36208584675412975,
          "variable": "LDPE_Pyrolysis",
          "year": "2036"
         },
         {
          "value": 0.36208584675412975,
          "variable": "LDPE_Pyrolysis",
          "year": "2037"
         },
         {
          "value": 0.36208584675412975,
          "variable": "LDPE_Pyrolysis",
          "year": "2038"
         },
         {
          "value": 0.36208584675412975,
          "variable": "LDPE_Pyrolysis",
          "year": "2039"
         },
         {
          "value": 0.36489318572839646,
          "variable": "LDPE_Pyrolysis",
          "year": "2040"
         },
         {
          "value": 0.36489318572839646,
          "variable": "LDPE_Pyrolysis",
          "year": "2041"
         },
         {
          "value": 0.36489318572839646,
          "variable": "LDPE_Pyrolysis",
          "year": "2042"
         },
         {
          "value": 0.36489318572839646,
          "variable": "LDPE_Pyrolysis",
          "year": "2043"
         },
         {
          "value": 0.36489318572839646,
          "variable": "LDPE_Pyrolysis",
          "year": "2044"
         },
         {
          "value": 0.4372993661990517,
          "variable": "LDPE_Pyrolysis",
          "year": "2045"
         },
         {
          "value": 0.4372993661990517,
          "variable": "LDPE_Pyrolysis",
          "year": "2046"
         },
         {
          "value": 0.4372993661990517,
          "variable": "LDPE_Pyrolysis",
          "year": "2047"
         },
         {
          "value": 0.4372993661990517,
          "variable": "LDPE_Pyrolysis",
          "year": "2048"
         },
         {
          "value": 0.4372993661990517,
          "variable": "LDPE_Pyrolysis",
          "year": "2049"
         },
         {
          "value": 0.4372993661990517,
          "variable": "LDPE_Pyrolysis",
          "year": "2050"
         },
         {
          "value": 0.4372993661990517,
          "variable": "LDPE_Pyrolysis",
          "year": "2051"
         },
         {
          "value": 0.4372993661990517,
          "variable": "LDPE_Pyrolysis",
          "year": "2052"
         },
         {
          "value": 0.4372993661990517,
          "variable": "LDPE_Pyrolysis",
          "year": "2053"
         },
         {
          "value": 0.4372993661990517,
          "variable": "LDPE_Pyrolysis",
          "year": "2054"
         },
         {
          "value": 0.4372993661990517,
          "variable": "LDPE_Pyrolysis",
          "year": "2055"
         },
         {
          "value": 0,
          "variable": "inn6",
          "year": "2020"
         },
         {
          "value": 0,
          "variable": "inn6",
          "year": "2021"
         },
         {
          "value": 0,
          "variable": "inn6",
          "year": "2022"
         },
         {
          "value": 0,
          "variable": "inn6",
          "year": "2023"
         },
         {
          "value": 0,
          "variable": "inn6",
          "year": "2024"
         },
         {
          "value": 0,
          "variable": "inn6",
          "year": "2025"
         },
         {
          "value": 0,
          "variable": "inn6",
          "year": "2026"
         },
         {
          "value": 0,
          "variable": "inn6",
          "year": "2027"
         },
         {
          "value": 0,
          "variable": "inn6",
          "year": "2028"
         },
         {
          "value": 0,
          "variable": "inn6",
          "year": "2029"
         },
         {
          "value": 0,
          "variable": "inn6",
          "year": "2030"
         },
         {
          "value": 0,
          "variable": "inn6",
          "year": "2031"
         },
         {
          "value": 0,
          "variable": "inn6",
          "year": "2032"
         },
         {
          "value": 0,
          "variable": "inn6",
          "year": "2033"
         },
         {
          "value": 0,
          "variable": "inn6",
          "year": "2034"
         },
         {
          "value": 0,
          "variable": "inn6",
          "year": "2035"
         },
         {
          "value": 0,
          "variable": "inn6",
          "year": "2036"
         },
         {
          "value": 0,
          "variable": "inn6",
          "year": "2037"
         },
         {
          "value": 0,
          "variable": "inn6",
          "year": "2038"
         },
         {
          "value": 0,
          "variable": "inn6",
          "year": "2039"
         },
         {
          "value": 0,
          "variable": "inn6",
          "year": "2040"
         },
         {
          "value": 0,
          "variable": "inn6",
          "year": "2041"
         },
         {
          "value": 0,
          "variable": "inn6",
          "year": "2042"
         },
         {
          "value": 0,
          "variable": "inn6",
          "year": "2043"
         },
         {
          "value": 0,
          "variable": "inn6",
          "year": "2044"
         },
         {
          "value": 0,
          "variable": "inn6",
          "year": "2045"
         },
         {
          "value": 0,
          "variable": "inn6",
          "year": "2046"
         },
         {
          "value": 0,
          "variable": "inn6",
          "year": "2047"
         },
         {
          "value": 0,
          "variable": "inn6",
          "year": "2048"
         },
         {
          "value": 0,
          "variable": "inn6",
          "year": "2049"
         },
         {
          "value": 0,
          "variable": "inn6",
          "year": "2050"
         },
         {
          "value": 0,
          "variable": "inn6",
          "year": "2051"
         },
         {
          "value": 0,
          "variable": "inn6",
          "year": "2052"
         },
         {
          "value": 0,
          "variable": "inn6",
          "year": "2053"
         },
         {
          "value": 0,
          "variable": "inn6",
          "year": "2054"
         },
         {
          "value": 0,
          "variable": "inn6",
          "year": "2055"
         },
         {
          "value": 0,
          "variable": "inn7",
          "year": "2020"
         },
         {
          "value": 0,
          "variable": "inn7",
          "year": "2021"
         },
         {
          "value": 0,
          "variable": "inn7",
          "year": "2022"
         },
         {
          "value": 0,
          "variable": "inn7",
          "year": "2023"
         },
         {
          "value": 0,
          "variable": "inn7",
          "year": "2024"
         },
         {
          "value": 0,
          "variable": "inn7",
          "year": "2025"
         },
         {
          "value": 0,
          "variable": "inn7",
          "year": "2026"
         },
         {
          "value": 0,
          "variable": "inn7",
          "year": "2027"
         },
         {
          "value": 0,
          "variable": "inn7",
          "year": "2028"
         },
         {
          "value": 0,
          "variable": "inn7",
          "year": "2029"
         },
         {
          "value": 0,
          "variable": "inn7",
          "year": "2030"
         },
         {
          "value": 0,
          "variable": "inn7",
          "year": "2031"
         },
         {
          "value": 0,
          "variable": "inn7",
          "year": "2032"
         },
         {
          "value": 0,
          "variable": "inn7",
          "year": "2033"
         },
         {
          "value": 0,
          "variable": "inn7",
          "year": "2034"
         },
         {
          "value": 0,
          "variable": "inn7",
          "year": "2035"
         },
         {
          "value": 0,
          "variable": "inn7",
          "year": "2036"
         },
         {
          "value": 0,
          "variable": "inn7",
          "year": "2037"
         },
         {
          "value": 0,
          "variable": "inn7",
          "year": "2038"
         },
         {
          "value": 0,
          "variable": "inn7",
          "year": "2039"
         },
         {
          "value": 0,
          "variable": "inn7",
          "year": "2040"
         },
         {
          "value": 0,
          "variable": "inn7",
          "year": "2041"
         },
         {
          "value": 0,
          "variable": "inn7",
          "year": "2042"
         },
         {
          "value": 0,
          "variable": "inn7",
          "year": "2043"
         },
         {
          "value": 0,
          "variable": "inn7",
          "year": "2044"
         },
         {
          "value": 0,
          "variable": "inn7",
          "year": "2045"
         },
         {
          "value": 0,
          "variable": "inn7",
          "year": "2046"
         },
         {
          "value": 0,
          "variable": "inn7",
          "year": "2047"
         },
         {
          "value": 0,
          "variable": "inn7",
          "year": "2048"
         },
         {
          "value": 0,
          "variable": "inn7",
          "year": "2049"
         },
         {
          "value": 0,
          "variable": "inn7",
          "year": "2050"
         },
         {
          "value": 0,
          "variable": "inn7",
          "year": "2051"
         },
         {
          "value": 0,
          "variable": "inn7",
          "year": "2052"
         },
         {
          "value": 0,
          "variable": "inn7",
          "year": "2053"
         },
         {
          "value": 0,
          "variable": "inn7",
          "year": "2054"
         },
         {
          "value": 0,
          "variable": "inn7",
          "year": "2055"
         },
         {
          "value": 0,
          "variable": "inn8",
          "year": "2020"
         },
         {
          "value": 0,
          "variable": "inn8",
          "year": "2021"
         },
         {
          "value": 0,
          "variable": "inn8",
          "year": "2022"
         },
         {
          "value": 0,
          "variable": "inn8",
          "year": "2023"
         },
         {
          "value": 0,
          "variable": "inn8",
          "year": "2024"
         },
         {
          "value": 0,
          "variable": "inn8",
          "year": "2025"
         },
         {
          "value": 0,
          "variable": "inn8",
          "year": "2026"
         },
         {
          "value": 0,
          "variable": "inn8",
          "year": "2027"
         },
         {
          "value": 0,
          "variable": "inn8",
          "year": "2028"
         },
         {
          "value": 0,
          "variable": "inn8",
          "year": "2029"
         },
         {
          "value": 0,
          "variable": "inn8",
          "year": "2030"
         },
         {
          "value": 0,
          "variable": "inn8",
          "year": "2031"
         },
         {
          "value": 0,
          "variable": "inn8",
          "year": "2032"
         },
         {
          "value": 0,
          "variable": "inn8",
          "year": "2033"
         },
         {
          "value": 0,
          "variable": "inn8",
          "year": "2034"
         },
         {
          "value": 0,
          "variable": "inn8",
          "year": "2035"
         },
         {
          "value": 0,
          "variable": "inn8",
          "year": "2036"
         },
         {
          "value": 0,
          "variable": "inn8",
          "year": "2037"
         },
         {
          "value": 0,
          "variable": "inn8",
          "year": "2038"
         },
         {
          "value": 0,
          "variable": "inn8",
          "year": "2039"
         },
         {
          "value": 0,
          "variable": "inn8",
          "year": "2040"
         },
         {
          "value": 0,
          "variable": "inn8",
          "year": "2041"
         },
         {
          "value": 0,
          "variable": "inn8",
          "year": "2042"
         },
         {
          "value": 0,
          "variable": "inn8",
          "year": "2043"
         },
         {
          "value": 0,
          "variable": "inn8",
          "year": "2044"
         },
         {
          "value": 0,
          "variable": "inn8",
          "year": "2045"
         },
         {
          "value": 0,
          "variable": "inn8",
          "year": "2046"
         },
         {
          "value": 0,
          "variable": "inn8",
          "year": "2047"
         },
         {
          "value": 0,
          "variable": "inn8",
          "year": "2048"
         },
         {
          "value": 0,
          "variable": "inn8",
          "year": "2049"
         },
         {
          "value": 0,
          "variable": "inn8",
          "year": "2050"
         },
         {
          "value": 0,
          "variable": "inn8",
          "year": "2051"
         },
         {
          "value": 0,
          "variable": "inn8",
          "year": "2052"
         },
         {
          "value": 0,
          "variable": "inn8",
          "year": "2053"
         },
         {
          "value": 0,
          "variable": "inn8",
          "year": "2054"
         },
         {
          "value": 0,
          "variable": "inn8",
          "year": "2055"
         },
         {
          "value": 0,
          "variable": "inn9",
          "year": "2020"
         },
         {
          "value": 0,
          "variable": "inn9",
          "year": "2021"
         },
         {
          "value": 0,
          "variable": "inn9",
          "year": "2022"
         },
         {
          "value": 0,
          "variable": "inn9",
          "year": "2023"
         },
         {
          "value": 0,
          "variable": "inn9",
          "year": "2024"
         },
         {
          "value": 0,
          "variable": "inn9",
          "year": "2025"
         },
         {
          "value": 0,
          "variable": "inn9",
          "year": "2026"
         },
         {
          "value": 0,
          "variable": "inn9",
          "year": "2027"
         },
         {
          "value": 0,
          "variable": "inn9",
          "year": "2028"
         },
         {
          "value": 0,
          "variable": "inn9",
          "year": "2029"
         },
         {
          "value": 0.3851068142716362,
          "variable": "inn9",
          "year": "2030"
         },
         {
          "value": 0.3851068142716362,
          "variable": "inn9",
          "year": "2031"
         },
         {
          "value": 0.3851068142716362,
          "variable": "inn9",
          "year": "2032"
         },
         {
          "value": 0.3851068142716362,
          "variable": "inn9",
          "year": "2033"
         },
         {
          "value": 0.3851068142716362,
          "variable": "inn9",
          "year": "2034"
         },
         {
          "value": 0.3879141532458702,
          "variable": "inn9",
          "year": "2035"
         },
         {
          "value": 0.3879141532458702,
          "variable": "inn9",
          "year": "2036"
         },
         {
          "value": 0.3879141532458702,
          "variable": "inn9",
          "year": "2037"
         },
         {
          "value": 0.3879141532458702,
          "variable": "inn9",
          "year": "2038"
         },
         {
          "value": 0.3879141532458702,
          "variable": "inn9",
          "year": "2039"
         },
         {
          "value": 0.3851068142715938,
          "variable": "inn9",
          "year": "2040"
         },
         {
          "value": 0.3851068142715938,
          "variable": "inn9",
          "year": "2041"
         },
         {
          "value": 0.3851068142715938,
          "variable": "inn9",
          "year": "2042"
         },
         {
          "value": 0.3851068142715938,
          "variable": "inn9",
          "year": "2043"
         },
         {
          "value": 0.3851068142715938,
          "variable": "inn9",
          "year": "2044"
         },
         {
          "value": 0.31270063380094776,
          "variable": "inn9",
          "year": "2045"
         },
         {
          "value": 0.31270063380094776,
          "variable": "inn9",
          "year": "2046"
         },
         {
          "value": 0.31270063380094776,
          "variable": "inn9",
          "year": "2047"
         },
         {
          "value": 0.31270063380094776,
          "variable": "inn9",
          "year": "2048"
         },
         {
          "value": 0.31270063380094776,
          "variable": "inn9",
          "year": "2049"
         },
         {
          "value": 0.31270063380094776,
          "variable": "inn9",
          "year": "2050"
         },
         {
          "value": 0.31270063380094776,
          "variable": "inn9",
          "year": "2051"
         },
         {
          "value": 0.31270063380094776,
          "variable": "inn9",
          "year": "2052"
         },
         {
          "value": 0.31270063380094776,
          "variable": "inn9",
          "year": "2053"
         },
         {
          "value": 0.31270063380094776,
          "variable": "inn9",
          "year": "2054"
         },
         {
          "value": 0.31270063380094776,
          "variable": "inn9",
          "year": "2055"
         },
         {
          "value": 0,
          "variable": "PLA_Alcoholysis",
          "year": "2020"
         },
         {
          "value": 0,
          "variable": "PLA_Alcoholysis",
          "year": "2021"
         },
         {
          "value": 0,
          "variable": "PLA_Alcoholysis",
          "year": "2022"
         },
         {
          "value": 0,
          "variable": "PLA_Alcoholysis",
          "year": "2023"
         },
         {
          "value": 0,
          "variable": "PLA_Alcoholysis",
          "year": "2024"
         },
         {
          "value": 0,
          "variable": "PLA_Alcoholysis",
          "year": "2025"
         },
         {
          "value": 0,
          "variable": "PLA_Alcoholysis",
          "year": "2026"
         },
         {
          "value": 0,
          "variable": "PLA_Alcoholysis",
          "year": "2027"
         },
         {
          "value": 0,
          "variable": "PLA_Alcoholysis",
          "year": "2028"
         },
         {
          "value": 0,
          "variable": "PLA_Alcoholysis",
          "year": "2029"
         },
         {
          "value": 0,
          "variable": "PLA_Alcoholysis",
          "year": "2030"
         },
         {
          "value": 0,
          "variable": "PLA_Alcoholysis",
          "year": "2031"
         },
         {
          "value": 0,
          "variable": "PLA_Alcoholysis",
          "year": "2032"
         },
         {
          "value": 0,
          "variable": "PLA_Alcoholysis",
          "year": "2033"
         },
         {
          "value": 0,
          "variable": "PLA_Alcoholysis",
          "year": "2034"
         },
         {
          "value": 0,
          "variable": "PLA_Alcoholysis",
          "year": "2035"
         },
         {
          "value": 0,
          "variable": "PLA_Alcoholysis",
          "year": "2036"
         },
         {
          "value": 0,
          "variable": "PLA_Alcoholysis",
          "year": "2037"
         },
         {
          "value": 0,
          "variable": "PLA_Alcoholysis",
          "year": "2038"
         },
         {
          "value": 0,
          "variable": "PLA_Alcoholysis",
          "year": "2039"
         },
         {
          "value": 0,
          "variable": "PLA_Alcoholysis",
          "year": "2040"
         },
         {
          "value": 0,
          "variable": "PLA_Alcoholysis",
          "year": "2041"
         },
         {
          "value": 0,
          "variable": "PLA_Alcoholysis",
          "year": "2042"
         },
         {
          "value": 0,
          "variable": "PLA_Alcoholysis",
          "year": "2043"
         },
         {
          "value": 0,
          "variable": "PLA_Alcoholysis",
          "year": "2044"
         },
         {
          "value": 0,
          "variable": "PLA_Alcoholysis",
          "year": "2045"
         },
         {
          "value": 0,
          "variable": "PLA_Alcoholysis",
          "year": "2046"
         },
         {
          "value": 0,
          "variable": "PLA_Alcoholysis",
          "year": "2047"
         },
         {
          "value": 0,
          "variable": "PLA_Alcoholysis",
          "year": "2048"
         },
         {
          "value": 0,
          "variable": "PLA_Alcoholysis",
          "year": "2049"
         },
         {
          "value": 0,
          "variable": "PLA_Alcoholysis",
          "year": "2050"
         },
         {
          "value": 0,
          "variable": "PLA_Alcoholysis",
          "year": "2051"
         },
         {
          "value": 0,
          "variable": "PLA_Alcoholysis",
          "year": "2052"
         },
         {
          "value": 0,
          "variable": "PLA_Alcoholysis",
          "year": "2053"
         },
         {
          "value": 0,
          "variable": "PLA_Alcoholysis",
          "year": "2054"
         },
         {
          "value": 0,
          "variable": "PLA_Alcoholysis",
          "year": "2055"
         }
        ]
       },
       "encoding": {
        "color": {
         "field": "variable",
         "type": "nominal"
        },
        "x": {
         "field": "year"
        },
        "y": {
         "field": "value",
         "stack": "zero",
         "title": "recycled/renewable content",
         "type": "quantitative"
        }
       },
       "legend": "sNames",
       "mark": "area"
      },
      "image/png": "[encoded data removed]",
      "image/svg+xml": [
       "<?xml version=\"1.0\" encoding=\"utf-8\"?>\n",
       "<!DOCTYPE svg PUBLIC \"-//W3C//DTD SVG 1.1//EN\" \"http://www.w3.org/Graphics/SVG/1.1/DTD/svg11.dtd\">\n",
       "<svg xmlns=\"http://www.w3.org/2000/svg\" xmlns:xlink=\"http://www.w3.org/1999/xlink\" version=\"1.1\" class=\"marks\" width=\"881\" height=\"261\" viewBox=\"0 0 881 261\"><rect width=\"881\" height=\"261\" fill=\"white\"/><g fill=\"none\" stroke-miterlimit=\"10\" transform=\"translate(42,10)\"><g class=\"mark-group role-frame root\" role=\"graphics-object\" aria-roledescription=\"group mark container\"><g transform=\"translate(0,0)\"><path class=\"background\" aria-hidden=\"true\" d=\"M0.5,0.5h720v200h-720Z\" stroke=\"#ddd\"/><g><g class=\"mark-group role-axis\" aria-hidden=\"true\"><g transform=\"translate(0.5,0.5)\"><path class=\"background\" aria-hidden=\"true\" d=\"M0,0h0v0h0Z\" pointer-events=\"none\"/><g><g class=\"mark-rule role-axis-grid\" pointer-events=\"none\"><line transform=\"translate(0,200)\" x2=\"720\" y2=\"0\" stroke=\"#ddd\" stroke-width=\"1\" opacity=\"1\"/><line transform=\"translate(0,150)\" x2=\"720\" y2=\"0\" stroke=\"#ddd\" stroke-width=\"1\" opacity=\"1\"/><line transform=\"translate(0,100)\" x2=\"720\" y2=\"0\" stroke=\"#ddd\" stroke-width=\"1\" opacity=\"1\"/><line transform=\"translate(0,50)\" x2=\"720\" y2=\"0\" stroke=\"#ddd\" stroke-width=\"1\" opacity=\"1\"/><line transform=\"translate(0,0)\" x2=\"720\" y2=\"0\" stroke=\"#ddd\" stroke-width=\"1\" opacity=\"1\"/></g></g><path class=\"foreground\" aria-hidden=\"true\" d=\"\" pointer-events=\"none\" display=\"none\"/></g></g><g class=\"mark-group role-axis\" role=\"graphics-symbol\" aria-roledescription=\"axis\" aria-label=\"X-axis titled 'year' for a discrete scale with 36 values: 2020, 2021, 2022, 2023, 2024, ending with 2055\"><g transform=\"translate(0.5,200.5)\"><path class=\"background\" aria-hidden=\"true\" d=\"M0,0h0v0h0Z\" pointer-events=\"none\"/><g><g class=\"mark-rule role-axis-tick\" pointer-events=\"none\"><line transform=\"translate(10,0)\" x2=\"0\" y2=\"5\" stroke=\"#888\" stroke-width=\"1\" opacity=\"1\"/><line transform=\"translate(30,0)\" x2=\"0\" y2=\"5\" stroke=\"#888\" stroke-width=\"1\" opacity=\"1\"/><line transform=\"translate(50,0)\" x2=\"0\" y2=\"5\" stroke=\"#888\" stroke-width=\"1\" opacity=\"1\"/><line transform=\"translate(70,0)\" x2=\"0\" y2=\"5\" stroke=\"#888\" stroke-width=\"1\" opacity=\"1\"/><line transform=\"translate(90,0)\" x2=\"0\" y2=\"5\" stroke=\"#888\" stroke-width=\"1\" opacity=\"1\"/><line transform=\"translate(110,0)\" x2=\"0\" y2=\"5\" stroke=\"#888\" stroke-width=\"1\" opacity=\"1\"/><line transform=\"translate(130,0)\" x2=\"0\" y2=\"5\" stroke=\"#888\" stroke-width=\"1\" opacity=\"1\"/><line transform=\"translate(150,0)\" x2=\"0\" y2=\"5\" stroke=\"#888\" stroke-width=\"1\" opacity=\"1\"/><line transform=\"translate(170,0)\" x2=\"0\" y2=\"5\" stroke=\"#888\" stroke-width=\"1\" opacity=\"1\"/><line transform=\"translate(190,0)\" x2=\"0\" y2=\"5\" stroke=\"#888\" stroke-width=\"1\" opacity=\"1\"/><line transform=\"translate(210,0)\" x2=\"0\" y2=\"5\" stroke=\"#888\" stroke-width=\"1\" opacity=\"1\"/><line transform=\"translate(230,0)\" x2=\"0\" y2=\"5\" stroke=\"#888\" stroke-width=\"1\" opacity=\"1\"/><line transform=\"translate(250,0)\" x2=\"0\" y2=\"5\" stroke=\"#888\" stroke-width=\"1\" opacity=\"1\"/><line transform=\"translate(270,0)\" x2=\"0\" y2=\"5\" stroke=\"#888\" stroke-width=\"1\" opacity=\"1\"/><line transform=\"translate(290,0)\" x2=\"0\" y2=\"5\" stroke=\"#888\" stroke-width=\"1\" opacity=\"1\"/><line transform=\"translate(310,0)\" x2=\"0\" y2=\"5\" stroke=\"#888\" stroke-width=\"1\" opacity=\"1\"/><line transform=\"translate(330,0)\" x2=\"0\" y2=\"5\" stroke=\"#888\" stroke-width=\"1\" opacity=\"1\"/><line transform=\"translate(350,0)\" x2=\"0\" y2=\"5\" stroke=\"#888\" stroke-width=\"1\" opacity=\"1\"/><line transform=\"translate(370,0)\" x2=\"0\" y2=\"5\" stroke=\"#888\" stroke-width=\"1\" opacity=\"1\"/><line transform=\"translate(390,0)\" x2=\"0\" y2=\"5\" stroke=\"#888\" stroke-width=\"1\" opacity=\"1\"/><line transform=\"translate(410,0)\" x2=\"0\" y2=\"5\" stroke=\"#888\" stroke-width=\"1\" opacity=\"1\"/><line transform=\"translate(430,0)\" x2=\"0\" y2=\"5\" stroke=\"#888\" stroke-width=\"1\" opacity=\"1\"/><line transform=\"translate(450,0)\" x2=\"0\" y2=\"5\" stroke=\"#888\" stroke-width=\"1\" opacity=\"1\"/><line transform=\"translate(470,0)\" x2=\"0\" y2=\"5\" stroke=\"#888\" stroke-width=\"1\" opacity=\"1\"/><line transform=\"translate(490,0)\" x2=\"0\" y2=\"5\" stroke=\"#888\" stroke-width=\"1\" opacity=\"1\"/><line transform=\"translate(510,0)\" x2=\"0\" y2=\"5\" stroke=\"#888\" stroke-width=\"1\" opacity=\"1\"/><line transform=\"translate(530,0)\" x2=\"0\" y2=\"5\" stroke=\"#888\" stroke-width=\"1\" opacity=\"1\"/><line transform=\"translate(550,0)\" x2=\"0\" y2=\"5\" stroke=\"#888\" stroke-width=\"1\" opacity=\"1\"/><line transform=\"translate(570,0)\" x2=\"0\" y2=\"5\" stroke=\"#888\" stroke-width=\"1\" opacity=\"1\"/><line transform=\"translate(590,0)\" x2=\"0\" y2=\"5\" stroke=\"#888\" stroke-width=\"1\" opacity=\"1\"/><line transform=\"translate(610,0)\" x2=\"0\" y2=\"5\" stroke=\"#888\" stroke-width=\"1\" opacity=\"1\"/><line transform=\"translate(630,0)\" x2=\"0\" y2=\"5\" stroke=\"#888\" stroke-width=\"1\" opacity=\"1\"/><line transform=\"translate(650,0)\" x2=\"0\" y2=\"5\" stroke=\"#888\" stroke-width=\"1\" opacity=\"1\"/><line transform=\"translate(670,0)\" x2=\"0\" y2=\"5\" stroke=\"#888\" stroke-width=\"1\" opacity=\"1\"/><line transform=\"translate(690,0)\" x2=\"0\" y2=\"5\" stroke=\"#888\" stroke-width=\"1\" opacity=\"1\"/><line transform=\"translate(710,0)\" x2=\"0\" y2=\"5\" stroke=\"#888\" stroke-width=\"1\" opacity=\"1\"/></g><g class=\"mark-text role-axis-label\" pointer-events=\"none\"><text text-anchor=\"end\" transform=\"translate(10,7) rotate(270) translate(0,3)\" font-family=\"sans-serif\" font-size=\"10px\" fill=\"#000\" opacity=\"1\">2020</text><text text-anchor=\"end\" transform=\"translate(30,7) rotate(270) translate(0,3)\" font-family=\"sans-serif\" font-size=\"10px\" fill=\"#000\" opacity=\"1\">2021</text><text text-anchor=\"end\" transform=\"translate(50,7) rotate(270) translate(0,3)\" font-family=\"sans-serif\" font-size=\"10px\" fill=\"#000\" opacity=\"1\">2022</text><text text-anchor=\"end\" transform=\"translate(70,7) rotate(270) translate(0,3)\" font-family=\"sans-serif\" font-size=\"10px\" fill=\"#000\" opacity=\"1\">2023</text><text text-anchor=\"end\" transform=\"translate(90,7) rotate(270) translate(0,3)\" font-family=\"sans-serif\" font-size=\"10px\" fill=\"#000\" opacity=\"1\">2024</text><text text-anchor=\"end\" transform=\"translate(110,7) rotate(270) translate(0,3)\" font-family=\"sans-serif\" font-size=\"10px\" fill=\"#000\" opacity=\"1\">2025</text><text text-anchor=\"end\" transform=\"translate(130,7) rotate(270) translate(0,3)\" font-family=\"sans-serif\" font-size=\"10px\" fill=\"#000\" opacity=\"1\">2026</text><text text-anchor=\"end\" transform=\"translate(150,7) rotate(270) translate(0,3)\" font-family=\"sans-serif\" font-size=\"10px\" fill=\"#000\" opacity=\"1\">2027</text><text text-anchor=\"end\" transform=\"translate(170,7) rotate(270) translate(0,3)\" font-family=\"sans-serif\" font-size=\"10px\" fill=\"#000\" opacity=\"1\">2028</text><text text-anchor=\"end\" transform=\"translate(190,7) rotate(270) translate(0,3)\" font-family=\"sans-serif\" font-size=\"10px\" fill=\"#000\" opacity=\"1\">2029</text><text text-anchor=\"end\" transform=\"translate(210,7) rotate(270) translate(0,3)\" font-family=\"sans-serif\" font-size=\"10px\" fill=\"#000\" opacity=\"1\">2030</text><text text-anchor=\"end\" transform=\"translate(230,7) rotate(270) translate(0,3)\" font-family=\"sans-serif\" font-size=\"10px\" fill=\"#000\" opacity=\"1\">2031</text><text text-anchor=\"end\" transform=\"translate(250,7) rotate(270) translate(0,3)\" font-family=\"sans-serif\" font-size=\"10px\" fill=\"#000\" opacity=\"1\">2032</text><text text-anchor=\"end\" transform=\"translate(270,7) rotate(270) translate(0,3)\" font-family=\"sans-serif\" font-size=\"10px\" fill=\"#000\" opacity=\"1\">2033</text><text text-anchor=\"end\" transform=\"translate(290,7) rotate(270) translate(0,3)\" font-family=\"sans-serif\" font-size=\"10px\" fill=\"#000\" opacity=\"1\">2034</text><text text-anchor=\"end\" transform=\"translate(310,7) rotate(270) translate(0,3)\" font-family=\"sans-serif\" font-size=\"10px\" fill=\"#000\" opacity=\"1\">2035</text><text text-anchor=\"end\" transform=\"translate(330,7) rotate(270) translate(0,3)\" font-family=\"sans-serif\" font-size=\"10px\" fill=\"#000\" opacity=\"1\">2036</text><text text-anchor=\"end\" transform=\"translate(350,7) rotate(270) translate(0,3)\" font-family=\"sans-serif\" font-size=\"10px\" fill=\"#000\" opacity=\"1\">2037</text><text text-anchor=\"end\" transform=\"translate(370,7) rotate(270) translate(0,3)\" font-family=\"sans-serif\" font-size=\"10px\" fill=\"#000\" opacity=\"1\">2038</text><text text-anchor=\"end\" transform=\"translate(390,7) rotate(270) translate(0,3)\" font-family=\"sans-serif\" font-size=\"10px\" fill=\"#000\" opacity=\"1\">2039</text><text text-anchor=\"end\" transform=\"translate(410,7) rotate(270) translate(0,3)\" font-family=\"sans-serif\" font-size=\"10px\" fill=\"#000\" opacity=\"1\">2040</text><text text-anchor=\"end\" transform=\"translate(430,7) rotate(270) translate(0,3)\" font-family=\"sans-serif\" font-size=\"10px\" fill=\"#000\" opacity=\"1\">2041</text><text text-anchor=\"end\" transform=\"translate(450,7) rotate(270) translate(0,3)\" font-family=\"sans-serif\" font-size=\"10px\" fill=\"#000\" opacity=\"1\">2042</text><text text-anchor=\"end\" transform=\"translate(470,7) rotate(270) translate(0,3)\" font-family=\"sans-serif\" font-size=\"10px\" fill=\"#000\" opacity=\"1\">2043</text><text text-anchor=\"end\" transform=\"translate(490,7) rotate(270) translate(0,3)\" font-family=\"sans-serif\" font-size=\"10px\" fill=\"#000\" opacity=\"1\">2044</text><text text-anchor=\"end\" transform=\"translate(510,7) rotate(270) translate(0,3)\" font-family=\"sans-serif\" font-size=\"10px\" fill=\"#000\" opacity=\"1\">2045</text><text text-anchor=\"end\" transform=\"translate(530,7) rotate(270) translate(0,3)\" font-family=\"sans-serif\" font-size=\"10px\" fill=\"#000\" opacity=\"1\">2046</text><text text-anchor=\"end\" transform=\"translate(550,7) rotate(270) translate(0,3)\" font-family=\"sans-serif\" font-size=\"10px\" fill=\"#000\" opacity=\"1\">2047</text><text text-anchor=\"end\" transform=\"translate(570,7) rotate(270) translate(0,3)\" font-family=\"sans-serif\" font-size=\"10px\" fill=\"#000\" opacity=\"1\">2048</text><text text-anchor=\"end\" transform=\"translate(590,7) rotate(270) translate(0,3)\" font-family=\"sans-serif\" font-size=\"10px\" fill=\"#000\" opacity=\"1\">2049</text><text text-anchor=\"end\" transform=\"translate(610,7) rotate(270) translate(0,3)\" font-family=\"sans-serif\" font-size=\"10px\" fill=\"#000\" opacity=\"1\">2050</text><text text-anchor=\"end\" transform=\"translate(630,7) rotate(270) translate(0,3)\" font-family=\"sans-serif\" font-size=\"10px\" fill=\"#000\" opacity=\"1\">2051</text><text text-anchor=\"end\" transform=\"translate(650,7) rotate(270) translate(0,3)\" font-family=\"sans-serif\" font-size=\"10px\" fill=\"#000\" opacity=\"1\">2052</text><text text-anchor=\"end\" transform=\"translate(670,7) rotate(270) translate(0,3)\" font-family=\"sans-serif\" font-size=\"10px\" fill=\"#000\" opacity=\"1\">2053</text><text text-anchor=\"end\" transform=\"translate(690,7) rotate(270) translate(0,3)\" font-family=\"sans-serif\" font-size=\"10px\" fill=\"#000\" opacity=\"1\">2054</text><text text-anchor=\"end\" transform=\"translate(710,7) rotate(270) translate(0,3)\" font-family=\"sans-serif\" font-size=\"10px\" fill=\"#000\" opacity=\"1\">2055</text></g><g class=\"mark-rule role-axis-domain\" pointer-events=\"none\"><line transform=\"translate(0,0)\" x2=\"720\" y2=\"0\" stroke=\"#888\" stroke-width=\"1\" opacity=\"1\"/></g><g class=\"mark-text role-axis-title\" pointer-events=\"none\"><text text-anchor=\"middle\" transform=\"translate(360,44)\" font-family=\"sans-serif\" font-size=\"11px\" font-weight=\"bold\" fill=\"#000\" opacity=\"1\">year</text></g></g><path class=\"foreground\" aria-hidden=\"true\" d=\"\" pointer-events=\"none\" display=\"none\"/></g></g><g class=\"mark-group role-axis\" role=\"graphics-symbol\" aria-roledescription=\"axis\" aria-label=\"Y-axis titled 'recycled/renewable content' for a linear scale with values from 0.0 to 0.8\"><g transform=\"translate(0.5,0.5)\"><path class=\"background\" aria-hidden=\"true\" d=\"M0,0h0v0h0Z\" pointer-events=\"none\"/><g><g class=\"mark-rule role-axis-tick\" pointer-events=\"none\"><line transform=\"translate(0,200)\" x2=\"-5\" y2=\"0\" stroke=\"#888\" stroke-width=\"1\" opacity=\"1\"/><line transform=\"translate(0,150)\" x2=\"-5\" y2=\"0\" stroke=\"#888\" stroke-width=\"1\" opacity=\"1\"/><line transform=\"translate(0,100)\" x2=\"-5\" y2=\"0\" stroke=\"#888\" stroke-width=\"1\" opacity=\"1\"/><line transform=\"translate(0,50)\" x2=\"-5\" y2=\"0\" stroke=\"#888\" stroke-width=\"1\" opacity=\"1\"/><line transform=\"translate(0,0)\" x2=\"-5\" y2=\"0\" stroke=\"#888\" stroke-width=\"1\" opacity=\"1\"/></g><g class=\"mark-text role-axis-label\" pointer-events=\"none\"><text text-anchor=\"end\" transform=\"translate(-7,203)\" font-family=\"sans-serif\" font-size=\"10px\" fill=\"#000\" opacity=\"1\">0.0</text><text text-anchor=\"end\" transform=\"translate(-7,153)\" font-family=\"sans-serif\" font-size=\"10px\" fill=\"#000\" opacity=\"1\">0.2</text><text text-anchor=\"end\" transform=\"translate(-7,103)\" font-family=\"sans-serif\" font-size=\"10px\" fill=\"#000\" opacity=\"1\">0.4</text><text text-anchor=\"end\" transform=\"translate(-7,53.00000000000002)\" font-family=\"sans-serif\" font-size=\"10px\" fill=\"#000\" opacity=\"1\">0.6</text><text text-anchor=\"end\" transform=\"translate(-7,3)\" font-family=\"sans-serif\" font-size=\"10px\" fill=\"#000\" opacity=\"1\">0.8</text></g><g class=\"mark-rule role-axis-domain\" pointer-events=\"none\"><line transform=\"translate(0,200)\" x2=\"0\" y2=\"-200\" stroke=\"#888\" stroke-width=\"1\" opacity=\"1\"/></g><g class=\"mark-text role-axis-title\" pointer-events=\"none\"><text text-anchor=\"middle\" transform=\"translate(-26,100) rotate(-90) translate(0,-2)\" font-family=\"sans-serif\" font-size=\"11px\" font-weight=\"bold\" fill=\"#000\" opacity=\"1\">recycled/renewable content</text></g></g><path class=\"foreground\" aria-hidden=\"true\" d=\"\" pointer-events=\"none\" display=\"none\"/></g></g><g class=\"mark-group role-scope pathgroup\" role=\"graphics-object\" aria-roledescription=\"group mark container\"><g transform=\"translate(0,0)\"><path class=\"background\" aria-hidden=\"true\" d=\"M0,0h720v200h-720Z\"/><g><g class=\"mark-area role-mark marks\" role=\"graphics-object\" aria-roledescription=\"area mark container\"><path aria-label=\"year: 2020; recycled/renewable content: 0.12; variable: Conventional\" role=\"graphics-symbol\" aria-roledescription=\"area mark\" d=\"M10,170L30,200L50,200L70,200L90,200L110,200L130,200L150,200L170,200L190,200L210,12.5L230,12.5L250,12.5L270,12.5L290,12.5L310,12.5L330,12.5L350,12.5L370,12.5L390,12.5L410,12.500000000002442L430,12.500000000002442L450,12.500000000002442L470,12.500000000002442L490,12.500000000002442L510,12.500000000000156L530,12.500000000000156L550,12.500000000000156L570,12.500000000000156L590,12.500000000000156L610,12.500000000000156L630,12.500000000000156L650,12.500000000000156L670,12.500000000000156L690,12.500000000000156L710,12.500000000000156L710,12.500000000000156L690,12.500000000000156L670,12.500000000000156L650,12.500000000000156L630,12.500000000000156L610,12.500000000000156L590,12.500000000000156L570,12.500000000000156L550,12.500000000000156L530,12.500000000000156L510,12.500000000000156L490,12.500000000002442L470,12.500000000002442L450,12.500000000002442L430,12.500000000002442L410,12.500000000002442L390,12.5L370,12.5L350,12.5L330,12.5L310,12.5L290,12.5L270,12.5L250,12.5L230,12.5L210,12.5L190,200L170,200L150,200L130,200L110,200L90,200L70,200L50,200L30,200L10,200Z\" fill=\"#4c78a8\"/></g></g><path class=\"foreground\" aria-hidden=\"true\" d=\"\" display=\"none\"/></g><g transform=\"translate(0,0)\"><path class=\"background\" aria-hidden=\"true\" d=\"M0,0h720v200h-720Z\"/><g><g class=\"mark-area role-mark marks\" role=\"graphics-object\" aria-roledescription=\"area mark container\"><path aria-label=\"year: 2020; recycled/renewable content: 0; variable: inn1\" role=\"graphics-symbol\" aria-roledescription=\"area mark\" d=\"M10,200L30,200L50,200L70,200L90,200L110,200L130,200L150,200L170,200L190,200L210,103.72329643209098L230,103.72329643209098L250,103.72329643209098L270,103.72329643209098L290,103.72329643209098L310,103.02146168853245L330,103.02146168853245L350,103.02146168853245L370,103.02146168853245L390,103.02146168853245L410,103.72329643210153L430,103.72329643210153L450,103.72329643210153L470,103.72329643210153L490,103.72329643210153L510,121.82484154976305L530,121.82484154976305L550,121.82484154976305L570,121.82484154976305L590,121.82484154976305L610,121.82484154976305L630,121.82484154976305L650,121.82484154976305L670,121.82484154976305L690,121.82484154976305L710,121.82484154976305L710,121.82484154976305L690,121.82484154976305L670,121.82484154976305L650,121.82484154976305L630,121.82484154976305L610,121.82484154976305L590,121.82484154976305L570,121.82484154976305L550,121.82484154976305L530,121.82484154976305L510,121.82484154976305L490,103.72329643210153L470,103.72329643210153L450,103.72329643210153L430,103.72329643210153L410,103.72329643210153L390,103.02146168853245L370,103.02146168853245L350,103.02146168853245L330,103.02146168853245L310,103.02146168853245L290,103.72329643209098L270,103.72329643209098L250,103.72329643209098L230,103.72329643209098L210,103.72329643209098L190,200L170,200L150,200L130,200L110,200L90,200L70,200L50,200L30,200L10,200Z\" fill=\"#72b7b2\"/></g></g><path class=\"foreground\" aria-hidden=\"true\" d=\"\" display=\"none\"/></g><g transform=\"translate(0,0)\"><path class=\"background\" aria-hidden=\"true\" d=\"M0,0h720v200h-720Z\"/><g><g class=\"mark-area role-mark marks\" role=\"graphics-object\" aria-roledescription=\"area mark container\"><path aria-label=\"year: 2020; recycled/renewable content: 0; variable: inn2\" role=\"graphics-symbol\" aria-roledescription=\"area mark\" d=\"M10,200L30,200L50,200L70,200L90,200L110,200L130,200L150,200L170,200L190,200L210,103.72329643209098L230,103.72329643209098L250,103.72329643209098L270,103.72329643209098L290,103.72329643209098L310,103.02146168853245L330,103.02146168853245L350,103.02146168853245L370,103.02146168853245L390,103.02146168853245L410,103.72329643210153L430,103.72329643210153L450,103.72329643210153L470,103.72329643210153L490,103.72329643210153L510,121.82484154976305L530,121.82484154976305L550,121.82484154976305L570,121.82484154976305L590,121.82484154976305L610,121.82484154976305L630,121.82484154976305L650,121.82484154976305L670,121.82484154976305L690,121.82484154976305L710,121.82484154976305L710,121.82484154976305L690,121.82484154976305L670,121.82484154976305L650,121.82484154976305L630,121.82484154976305L610,121.82484154976305L590,121.82484154976305L570,121.82484154976305L550,121.82484154976305L530,121.82484154976305L510,121.82484154976305L490,103.72329643210153L470,103.72329643210153L450,103.72329643210153L430,103.72329643210153L410,103.72329643210153L390,103.02146168853245L370,103.02146168853245L350,103.02146168853245L330,103.02146168853245L310,103.02146168853245L290,103.72329643209098L270,103.72329643209098L250,103.72329643209098L230,103.72329643209098L210,103.72329643209098L190,200L170,200L150,200L130,200L110,200L90,200L70,200L50,200L30,200L10,200Z\" fill=\"#54a24b\"/></g></g><path class=\"foreground\" aria-hidden=\"true\" d=\"\" display=\"none\"/></g><g transform=\"translate(0,0)\"><path class=\"background\" aria-hidden=\"true\" d=\"M0,0h720v200h-720Z\"/><g><g class=\"mark-area role-mark marks\" role=\"graphics-object\" aria-roledescription=\"area mark container\"><path aria-label=\"year: 2020; recycled/renewable content: 0; variable: inn3\" role=\"graphics-symbol\" aria-roledescription=\"area mark\" d=\"M10,200L30,200L50,200L70,200L90,200L110,200L130,200L150,200L170,200L190,200L210,103.72329643209098L230,103.72329643209098L250,103.72329643209098L270,103.72329643209098L290,103.72329643209098L310,103.02146168853245L330,103.02146168853245L350,103.02146168853245L370,103.02146168853245L390,103.02146168853245L410,103.72329643210153L430,103.72329643210153L450,103.72329643210153L470,103.72329643210153L490,103.72329643210153L510,121.82484154976305L530,121.82484154976305L550,121.82484154976305L570,121.82484154976305L590,121.82484154976305L610,121.82484154976305L630,121.82484154976305L650,121.82484154976305L670,121.82484154976305L690,121.82484154976305L710,121.82484154976305L710,121.82484154976305L690,121.82484154976305L670,121.82484154976305L650,121.82484154976305L630,121.82484154976305L610,121.82484154976305L590,121.82484154976305L570,121.82484154976305L550,121.82484154976305L530,121.82484154976305L510,121.82484154976305L490,103.72329643210153L470,103.72329643210153L450,103.72329643210153L430,103.72329643210153L410,103.72329643210153L390,103.02146168853245L370,103.02146168853245L350,103.02146168853245L330,103.02146168853245L310,103.02146168853245L290,103.72329643209098L270,103.72329643209098L250,103.72329643209098L230,103.72329643209098L210,103.72329643209098L190,200L170,200L150,200L130,200L110,200L90,200L70,200L50,200L30,200L10,200Z\" fill=\"#eeca3b\"/></g></g><path class=\"foreground\" aria-hidden=\"true\" d=\"\" display=\"none\"/></g><g transform=\"translate(0,0)\"><path class=\"background\" aria-hidden=\"true\" d=\"M0,0h720v200h-720Z\"/><g><g class=\"mark-area role-mark marks\" role=\"graphics-object\" aria-roledescription=\"area mark container\"><path aria-label=\"year: 2020; recycled/renewable content: 0; variable: inn4\" role=\"graphics-symbol\" aria-roledescription=\"area mark\" d=\"M10,200L30,200L50,200L70,200L90,200L110,200L130,200L150,200L170,200L190,200L210,103.72329643209098L230,103.72329643209098L250,103.72329643209098L270,103.72329643209098L290,103.72329643209098L310,103.02146168853245L330,103.02146168853245L350,103.02146168853245L370,103.02146168853245L390,103.02146168853245L410,103.72329643210153L430,103.72329643210153L450,103.72329643210153L470,103.72329643210153L490,103.72329643210153L510,121.82484154976305L530,121.82484154976305L550,121.82484154976305L570,121.82484154976305L590,121.82484154976305L610,121.82484154976305L630,121.82484154976305L650,121.82484154976305L670,121.82484154976305L690,121.82484154976305L710,121.82484154976305L710,121.82484154976305L690,121.82484154976305L670,121.82484154976305L650,121.82484154976305L630,121.82484154976305L610,121.82484154976305L590,121.82484154976305L570,121.82484154976305L550,121.82484154976305L530,121.82484154976305L510,121.82484154976305L490,103.72329643210153L470,103.72329643210153L450,103.72329643210153L430,103.72329643210153L410,103.72329643210153L390,103.02146168853245L370,103.02146168853245L350,103.02146168853245L330,103.02146168853245L310,103.02146168853245L290,103.72329643209098L270,103.72329643209098L250,103.72329643209098L230,103.72329643209098L210,103.72329643209098L190,200L170,200L150,200L130,200L110,200L90,200L70,200L50,200L30,200L10,200Z\" fill=\"#b279a2\"/></g></g><path class=\"foreground\" aria-hidden=\"true\" d=\"\" display=\"none\"/></g><g transform=\"translate(0,0)\"><path class=\"background\" aria-hidden=\"true\" d=\"M0,0h720v200h-720Z\"/><g><g class=\"mark-area role-mark marks\" role=\"graphics-object\" aria-roledescription=\"area mark container\"><path aria-label=\"year: 2020; recycled/renewable content: 0; variable: LDPE_Pyrolysis\" role=\"graphics-symbol\" aria-roledescription=\"area mark\" d=\"M10,200L30,200L50,200L70,200L90,200L110,200L130,200L150,200L170,200L190,200L210,12.5L230,12.5L250,12.5L270,12.5L290,12.5L310,12.5L330,12.5L350,12.5L370,12.5L390,12.5L410,12.500000000002442L430,12.500000000002442L450,12.500000000002442L470,12.500000000002442L490,12.500000000002442L510,12.500000000000156L530,12.500000000000156L550,12.500000000000156L570,12.500000000000156L590,12.500000000000156L610,12.500000000000156L630,12.500000000000156L650,12.500000000000156L670,12.500000000000156L690,12.500000000000156L710,12.500000000000156L710,121.82484154976305L690,121.82484154976305L670,121.82484154976305L650,121.82484154976305L630,121.82484154976305L610,121.82484154976305L590,121.82484154976305L570,121.82484154976305L550,121.82484154976305L530,121.82484154976305L510,121.82484154976305L490,103.72329643210153L470,103.72329643210153L450,103.72329643210153L430,103.72329643210153L410,103.72329643210153L390,103.02146168853245L370,103.02146168853245L350,103.02146168853245L330,103.02146168853245L310,103.02146168853245L290,103.72329643209098L270,103.72329643209098L250,103.72329643209098L230,103.72329643209098L210,103.72329643209098L190,200L170,200L150,200L130,200L110,200L90,200L70,200L50,200L30,200L10,200Z\" fill=\"#f58518\"/></g></g><path class=\"foreground\" aria-hidden=\"true\" d=\"\" display=\"none\"/></g><g transform=\"translate(0,0)\"><path class=\"background\" aria-hidden=\"true\" d=\"M0,0h720v200h-720Z\"/><g><g class=\"mark-area role-mark marks\" role=\"graphics-object\" aria-roledescription=\"area mark container\"><path aria-label=\"year: 2020; recycled/renewable content: 0; variable: inn6\" role=\"graphics-symbol\" aria-roledescription=\"area mark\" d=\"M10,200L30,200L50,200L70,200L90,200L110,200L130,200L150,200L170,200L190,200L210,103.72329643209098L230,103.72329643209098L250,103.72329643209098L270,103.72329643209098L290,103.72329643209098L310,103.02146168853245L330,103.02146168853245L350,103.02146168853245L370,103.02146168853245L390,103.02146168853245L410,103.72329643210153L430,103.72329643210153L450,103.72329643210153L470,103.72329643210153L490,103.72329643210153L510,121.82484154976305L530,121.82484154976305L550,121.82484154976305L570,121.82484154976305L590,121.82484154976305L610,121.82484154976305L630,121.82484154976305L650,121.82484154976305L670,121.82484154976305L690,121.82484154976305L710,121.82484154976305L710,121.82484154976305L690,121.82484154976305L670,121.82484154976305L650,121.82484154976305L630,121.82484154976305L610,121.82484154976305L590,121.82484154976305L570,121.82484154976305L550,121.82484154976305L530,121.82484154976305L510,121.82484154976305L490,103.72329643210153L470,103.72329643210153L450,103.72329643210153L430,103.72329643210153L410,103.72329643210153L390,103.02146168853245L370,103.02146168853245L350,103.02146168853245L330,103.02146168853245L310,103.02146168853245L290,103.72329643209098L270,103.72329643209098L250,103.72329643209098L230,103.72329643209098L210,103.72329643209098L190,200L170,200L150,200L130,200L110,200L90,200L70,200L50,200L30,200L10,200Z\" fill=\"#ff9da6\"/></g></g><path class=\"foreground\" aria-hidden=\"true\" d=\"\" display=\"none\"/></g><g transform=\"translate(0,0)\"><path class=\"background\" aria-hidden=\"true\" d=\"M0,0h720v200h-720Z\"/><g><g class=\"mark-area role-mark marks\" role=\"graphics-object\" aria-roledescription=\"area mark container\"><path aria-label=\"year: 2020; recycled/renewable content: 0; variable: inn7\" role=\"graphics-symbol\" aria-roledescription=\"area mark\" d=\"M10,200L30,200L50,200L70,200L90,200L110,200L130,200L150,200L170,200L190,200L210,103.72329643209098L230,103.72329643209098L250,103.72329643209098L270,103.72329643209098L290,103.72329643209098L310,103.02146168853245L330,103.02146168853245L350,103.02146168853245L370,103.02146168853245L390,103.02146168853245L410,103.72329643210153L430,103.72329643210153L450,103.72329643210153L470,103.72329643210153L490,103.72329643210153L510,121.82484154976305L530,121.82484154976305L550,121.82484154976305L570,121.82484154976305L590,121.82484154976305L610,121.82484154976305L630,121.82484154976305L650,121.82484154976305L670,121.82484154976305L690,121.82484154976305L710,121.82484154976305L710,121.82484154976305L690,121.82484154976305L670,121.82484154976305L650,121.82484154976305L630,121.82484154976305L610,121.82484154976305L590,121.82484154976305L570,121.82484154976305L550,121.82484154976305L530,121.82484154976305L510,121.82484154976305L490,103.72329643210153L470,103.72329643210153L450,103.72329643210153L430,103.72329643210153L410,103.72329643210153L390,103.02146168853245L370,103.02146168853245L350,103.02146168853245L330,103.02146168853245L310,103.02146168853245L290,103.72329643209098L270,103.72329643209098L250,103.72329643209098L230,103.72329643209098L210,103.72329643209098L190,200L170,200L150,200L130,200L110,200L90,200L70,200L50,200L30,200L10,200Z\" fill=\"#9d755d\"/></g></g><path class=\"foreground\" aria-hidden=\"true\" d=\"\" display=\"none\"/></g><g transform=\"translate(0,0)\"><path class=\"background\" aria-hidden=\"true\" d=\"M0,0h720v200h-720Z\"/><g><g class=\"mark-area role-mark marks\" role=\"graphics-object\" aria-roledescription=\"area mark container\"><path aria-label=\"year: 2020; recycled/renewable content: 0; variable: inn8\" role=\"graphics-symbol\" aria-roledescription=\"area mark\" d=\"M10,200L30,200L50,200L70,200L90,200L110,200L130,200L150,200L170,200L190,200L210,103.72329643209098L230,103.72329643209098L250,103.72329643209098L270,103.72329643209098L290,103.72329643209098L310,103.02146168853245L330,103.02146168853245L350,103.02146168853245L370,103.02146168853245L390,103.02146168853245L410,103.72329643210153L430,103.72329643210153L450,103.72329643210153L470,103.72329643210153L490,103.72329643210153L510,121.82484154976305L530,121.82484154976305L550,121.82484154976305L570,121.82484154976305L590,121.82484154976305L610,121.82484154976305L630,121.82484154976305L650,121.82484154976305L670,121.82484154976305L690,121.82484154976305L710,121.82484154976305L710,121.82484154976305L690,121.82484154976305L670,121.82484154976305L650,121.82484154976305L630,121.82484154976305L610,121.82484154976305L590,121.82484154976305L570,121.82484154976305L550,121.82484154976305L530,121.82484154976305L510,121.82484154976305L490,103.72329643210153L470,103.72329643210153L450,103.72329643210153L430,103.72329643210153L410,103.72329643210153L390,103.02146168853245L370,103.02146168853245L350,103.02146168853245L330,103.02146168853245L310,103.02146168853245L290,103.72329643209098L270,103.72329643209098L250,103.72329643209098L230,103.72329643209098L210,103.72329643209098L190,200L170,200L150,200L130,200L110,200L90,200L70,200L50,200L30,200L10,200Z\" fill=\"#bab0ac\"/></g></g><path class=\"foreground\" aria-hidden=\"true\" d=\"\" display=\"none\"/></g><g transform=\"translate(0,0)\"><path class=\"background\" aria-hidden=\"true\" d=\"M0,0h720v200h-720Z\"/><g><g class=\"mark-area role-mark marks\" role=\"graphics-object\" aria-roledescription=\"area mark container\"><path aria-label=\"year: 2020; recycled/renewable content: 0; variable: inn9\" role=\"graphics-symbol\" aria-roledescription=\"area mark\" d=\"M10,200L30,200L50,200L70,200L90,200L110,200L130,200L150,200L170,200L190,200L210,103.72329643209098L230,103.72329643209098L250,103.72329643209098L270,103.72329643209098L290,103.72329643209098L310,103.02146168853245L330,103.02146168853245L350,103.02146168853245L370,103.02146168853245L390,103.02146168853245L410,103.72329643210153L430,103.72329643210153L450,103.72329643210153L470,103.72329643210153L490,103.72329643210153L510,121.82484154976305L530,121.82484154976305L550,121.82484154976305L570,121.82484154976305L590,121.82484154976305L610,121.82484154976305L630,121.82484154976305L650,121.82484154976305L670,121.82484154976305L690,121.82484154976305L710,121.82484154976305L710,200L690,200L670,200L650,200L630,200L610,200L590,200L570,200L550,200L530,200L510,200L490,200L470,200L450,200L430,200L410,200L390,200L370,200L350,200L330,200L310,200L290,200L270,200L250,200L230,200L210,200L190,200L170,200L150,200L130,200L110,200L90,200L70,200L50,200L30,200L10,200Z\" fill=\"#4c78a8\"/></g></g><path class=\"foreground\" aria-hidden=\"true\" d=\"\" display=\"none\"/></g><g transform=\"translate(0,0)\"><path class=\"background\" aria-hidden=\"true\" d=\"M0,0h720v200h-720Z\"/><g><g class=\"mark-area role-mark marks\" role=\"graphics-object\" aria-roledescription=\"area mark container\"><path aria-label=\"year: 2020; recycled/renewable content: 0; variable: PLA_Alcoholysis\" role=\"graphics-symbol\" aria-roledescription=\"area mark\" d=\"M10,200L30,200L50,200L70,200L90,200L110,200L130,200L150,200L170,200L190,200L210,103.72329643209098L230,103.72329643209098L250,103.72329643209098L270,103.72329643209098L290,103.72329643209098L310,103.02146168853245L330,103.02146168853245L350,103.02146168853245L370,103.02146168853245L390,103.02146168853245L410,103.72329643210153L430,103.72329643210153L450,103.72329643210153L470,103.72329643210153L490,103.72329643210153L510,121.82484154976305L530,121.82484154976305L550,121.82484154976305L570,121.82484154976305L590,121.82484154976305L610,121.82484154976305L630,121.82484154976305L650,121.82484154976305L670,121.82484154976305L690,121.82484154976305L710,121.82484154976305L710,121.82484154976305L690,121.82484154976305L670,121.82484154976305L650,121.82484154976305L630,121.82484154976305L610,121.82484154976305L590,121.82484154976305L570,121.82484154976305L550,121.82484154976305L530,121.82484154976305L510,121.82484154976305L490,103.72329643210153L470,103.72329643210153L450,103.72329643210153L430,103.72329643210153L410,103.72329643210153L390,103.02146168853245L370,103.02146168853245L350,103.02146168853245L330,103.02146168853245L310,103.02146168853245L290,103.72329643209098L270,103.72329643209098L250,103.72329643209098L230,103.72329643209098L210,103.72329643209098L190,200L170,200L150,200L130,200L110,200L90,200L70,200L50,200L30,200L10,200Z\" fill=\"#e45756\"/></g></g><path class=\"foreground\" aria-hidden=\"true\" d=\"\" display=\"none\"/></g></g><g class=\"mark-group role-legend\" role=\"graphics-symbol\" aria-roledescription=\"legend\" aria-label=\"Symbol legend titled 'variable' for fill color with 11 values: Conventional, LDPE_Pyrolysis, PLA_Alcoholysis, inn1, inn2, ending with inn9\"><g transform=\"translate(738,0)\"><path class=\"background\" aria-hidden=\"true\" d=\"M0,0h96v157h-96Z\" pointer-events=\"none\"/><g><g class=\"mark-group role-legend-entry\"><g transform=\"translate(0,16)\"><path class=\"background\" aria-hidden=\"true\" d=\"M0,0h0v0h0Z\" pointer-events=\"none\"/><g><g class=\"mark-group role-scope\" role=\"graphics-object\" aria-roledescription=\"group mark container\"><g transform=\"translate(0,0)\"><path class=\"background\" aria-hidden=\"true\" d=\"M0,0h96v11h-96Z\" pointer-events=\"none\" opacity=\"1\"/><g><g class=\"mark-symbol role-legend-symbol\" pointer-events=\"none\"><path transform=\"translate(6,6)\" d=\"M5,0A5,5,0,1,1,-5,0A5,5,0,1,1,5,0\" fill=\"#4c78a8\" stroke-width=\"1.5\" opacity=\"1\"/></g><g class=\"mark-text role-legend-label\" pointer-events=\"none\"><text text-anchor=\"start\" transform=\"translate(16,9)\" font-family=\"sans-serif\" font-size=\"10px\" fill=\"#000\" opacity=\"1\">Conventional</text></g></g><path class=\"foreground\" aria-hidden=\"true\" d=\"\" pointer-events=\"none\" display=\"none\"/></g><g transform=\"translate(0,13)\"><path class=\"background\" aria-hidden=\"true\" d=\"M0,0h96v11h-96Z\" pointer-events=\"none\" opacity=\"1\"/><g><g class=\"mark-symbol role-legend-symbol\" pointer-events=\"none\"><path transform=\"translate(6,6)\" d=\"M5,0A5,5,0,1,1,-5,0A5,5,0,1,1,5,0\" fill=\"#f58518\" stroke-width=\"1.5\" opacity=\"1\"/></g><g class=\"mark-text role-legend-label\" pointer-events=\"none\"><text text-anchor=\"start\" transform=\"translate(16,9)\" font-family=\"sans-serif\" font-size=\"10px\" fill=\"#000\" opacity=\"1\">LDPE_Pyrolysis</text></g></g><path class=\"foreground\" aria-hidden=\"true\" d=\"\" pointer-events=\"none\" display=\"none\"/></g><g transform=\"translate(0,26)\"><path class=\"background\" aria-hidden=\"true\" d=\"M0,0h96v11h-96Z\" pointer-events=\"none\" opacity=\"1\"/><g><g class=\"mark-symbol role-legend-symbol\" pointer-events=\"none\"><path transform=\"translate(6,6)\" d=\"M5,0A5,5,0,1,1,-5,0A5,5,0,1,1,5,0\" fill=\"#e45756\" stroke-width=\"1.5\" opacity=\"1\"/></g><g class=\"mark-text role-legend-label\" pointer-events=\"none\"><text text-anchor=\"start\" transform=\"translate(16,9)\" font-family=\"sans-serif\" font-size=\"10px\" fill=\"#000\" opacity=\"1\">PLA_Alcoholysis</text></g></g><path class=\"foreground\" aria-hidden=\"true\" d=\"\" pointer-events=\"none\" display=\"none\"/></g><g transform=\"translate(0,39)\"><path class=\"background\" aria-hidden=\"true\" d=\"M0,0h96v11h-96Z\" pointer-events=\"none\" opacity=\"1\"/><g><g class=\"mark-symbol role-legend-symbol\" pointer-events=\"none\"><path transform=\"translate(6,6)\" d=\"M5,0A5,5,0,1,1,-5,0A5,5,0,1,1,5,0\" fill=\"#72b7b2\" stroke-width=\"1.5\" opacity=\"1\"/></g><g class=\"mark-text role-legend-label\" pointer-events=\"none\"><text text-anchor=\"start\" transform=\"translate(16,9)\" font-family=\"sans-serif\" font-size=\"10px\" fill=\"#000\" opacity=\"1\">inn1</text></g></g><path class=\"foreground\" aria-hidden=\"true\" d=\"\" pointer-events=\"none\" display=\"none\"/></g><g transform=\"translate(0,52)\"><path class=\"background\" aria-hidden=\"true\" d=\"M0,0h96v11h-96Z\" pointer-events=\"none\" opacity=\"1\"/><g><g class=\"mark-symbol role-legend-symbol\" pointer-events=\"none\"><path transform=\"translate(6,6)\" d=\"M5,0A5,5,0,1,1,-5,0A5,5,0,1,1,5,0\" fill=\"#54a24b\" stroke-width=\"1.5\" opacity=\"1\"/></g><g class=\"mark-text role-legend-label\" pointer-events=\"none\"><text text-anchor=\"start\" transform=\"translate(16,9)\" font-family=\"sans-serif\" font-size=\"10px\" fill=\"#000\" opacity=\"1\">inn2</text></g></g><path class=\"foreground\" aria-hidden=\"true\" d=\"\" pointer-events=\"none\" display=\"none\"/></g><g transform=\"translate(0,65)\"><path class=\"background\" aria-hidden=\"true\" d=\"M0,0h96v11h-96Z\" pointer-events=\"none\" opacity=\"1\"/><g><g class=\"mark-symbol role-legend-symbol\" pointer-events=\"none\"><path transform=\"translate(6,6)\" d=\"M5,0A5,5,0,1,1,-5,0A5,5,0,1,1,5,0\" fill=\"#eeca3b\" stroke-width=\"1.5\" opacity=\"1\"/></g><g class=\"mark-text role-legend-label\" pointer-events=\"none\"><text text-anchor=\"start\" transform=\"translate(16,9)\" font-family=\"sans-serif\" font-size=\"10px\" fill=\"#000\" opacity=\"1\">inn3</text></g></g><path class=\"foreground\" aria-hidden=\"true\" d=\"\" pointer-events=\"none\" display=\"none\"/></g><g transform=\"translate(0,78)\"><path class=\"background\" aria-hidden=\"true\" d=\"M0,0h96v11h-96Z\" pointer-events=\"none\" opacity=\"1\"/><g><g class=\"mark-symbol role-legend-symbol\" pointer-events=\"none\"><path transform=\"translate(6,6)\" d=\"M5,0A5,5,0,1,1,-5,0A5,5,0,1,1,5,0\" fill=\"#b279a2\" stroke-width=\"1.5\" opacity=\"1\"/></g><g class=\"mark-text role-legend-label\" pointer-events=\"none\"><text text-anchor=\"start\" transform=\"translate(16,9)\" font-family=\"sans-serif\" font-size=\"10px\" fill=\"#000\" opacity=\"1\">inn4</text></g></g><path class=\"foreground\" aria-hidden=\"true\" d=\"\" pointer-events=\"none\" display=\"none\"/></g><g transform=\"translate(0,91)\"><path class=\"background\" aria-hidden=\"true\" d=\"M0,0h96v11h-96Z\" pointer-events=\"none\" opacity=\"1\"/><g><g class=\"mark-symbol role-legend-symbol\" pointer-events=\"none\"><path transform=\"translate(6,6)\" d=\"M5,0A5,5,0,1,1,-5,0A5,5,0,1,1,5,0\" fill=\"#ff9da6\" stroke-width=\"1.5\" opacity=\"1\"/></g><g class=\"mark-text role-legend-label\" pointer-events=\"none\"><text text-anchor=\"start\" transform=\"translate(16,9)\" font-family=\"sans-serif\" font-size=\"10px\" fill=\"#000\" opacity=\"1\">inn6</text></g></g><path class=\"foreground\" aria-hidden=\"true\" d=\"\" pointer-events=\"none\" display=\"none\"/></g><g transform=\"translate(0,104)\"><path class=\"background\" aria-hidden=\"true\" d=\"M0,0h96v11h-96Z\" pointer-events=\"none\" opacity=\"1\"/><g><g class=\"mark-symbol role-legend-symbol\" pointer-events=\"none\"><path transform=\"translate(6,6)\" d=\"M5,0A5,5,0,1,1,-5,0A5,5,0,1,1,5,0\" fill=\"#9d755d\" stroke-width=\"1.5\" opacity=\"1\"/></g><g class=\"mark-text role-legend-label\" pointer-events=\"none\"><text text-anchor=\"start\" transform=\"translate(16,9)\" font-family=\"sans-serif\" font-size=\"10px\" fill=\"#000\" opacity=\"1\">inn7</text></g></g><path class=\"foreground\" aria-hidden=\"true\" d=\"\" pointer-events=\"none\" display=\"none\"/></g><g transform=\"translate(0,117)\"><path class=\"background\" aria-hidden=\"true\" d=\"M0,0h96v11h-96Z\" pointer-events=\"none\" opacity=\"1\"/><g><g class=\"mark-symbol role-legend-symbol\" pointer-events=\"none\"><path transform=\"translate(6,6)\" d=\"M5,0A5,5,0,1,1,-5,0A5,5,0,1,1,5,0\" fill=\"#bab0ac\" stroke-width=\"1.5\" opacity=\"1\"/></g><g class=\"mark-text role-legend-label\" pointer-events=\"none\"><text text-anchor=\"start\" transform=\"translate(16,9)\" font-family=\"sans-serif\" font-size=\"10px\" fill=\"#000\" opacity=\"1\">inn8</text></g></g><path class=\"foreground\" aria-hidden=\"true\" d=\"\" pointer-events=\"none\" display=\"none\"/></g><g transform=\"translate(0,130)\"><path class=\"background\" aria-hidden=\"true\" d=\"M0,0h96v11h-96Z\" pointer-events=\"none\" opacity=\"1\"/><g><g class=\"mark-symbol role-legend-symbol\" pointer-events=\"none\"><path transform=\"translate(6,6)\" d=\"M5,0A5,5,0,1,1,-5,0A5,5,0,1,1,5,0\" fill=\"#4c78a8\" stroke-width=\"1.5\" opacity=\"1\"/></g><g class=\"mark-text role-legend-label\" pointer-events=\"none\"><text text-anchor=\"start\" transform=\"translate(16,9)\" font-family=\"sans-serif\" font-size=\"10px\" fill=\"#000\" opacity=\"1\">inn9</text></g></g><path class=\"foreground\" aria-hidden=\"true\" d=\"\" pointer-events=\"none\" display=\"none\"/></g></g></g><path class=\"foreground\" aria-hidden=\"true\" d=\"\" pointer-events=\"none\" display=\"none\"/></g></g><g class=\"mark-text role-legend-title\" pointer-events=\"none\"><text text-anchor=\"start\" transform=\"translate(0,9)\" font-family=\"sans-serif\" font-size=\"11px\" font-weight=\"bold\" fill=\"#000\" opacity=\"1\">variable</text></g></g><path class=\"foreground\" aria-hidden=\"true\" d=\"\" pointer-events=\"none\" display=\"none\"/></g></g></g><path class=\"foreground\" aria-hidden=\"true\" d=\"\" display=\"none\"/></g></g></g></svg>\n"
      ],
      "text/plain": [
       "@vlplot(\n",
       "    legend=\"sNames\",\n",
       "    mark=\"area\",\n",
       "    encoding={\n",
       "        x={\n",
       "            field=\"year\"\n",
       "        },\n",
       "        y={\n",
       "            stack=\"zero\",\n",
       "            title=\"recycled/renewable content\",\n",
       "            field=\"value\"\n",
       "        },\n",
       "        color={\n",
       "            field=\"variable\",\n",
       "            type=\"nominal\"\n",
       "        }\n",
       "    },\n",
       "    data={\n",
       "        values=...\n",
       "    }\n",
       ")"
      ]
     },
     "execution_count": 42,
     "metadata": {},
     "output_type": "execute_result"
    }
   ],
   "source": [
    "function conventional(t)\n",
    "    return initial[1,5]*(1-sum(JuMP.values.(xk)[k,t] for k in 1:nrow(compromise)))\n",
    "end\n",
    "\n",
    "function innovation(i,t)\n",
    "    if i==1\n",
    "        return sum(JuMP.values.(xk)[k,t]*(compromise[k,5])+JuMP.values.(xk)[k,t]*(compromise[k,6]) for k=1:mapki[i,2])\n",
    "    else\n",
    "        return sum(JuMP.values.(xk)[k,t]*(compromise[k,5])+JuMP.values.(xk)[k,t]*(compromise[k,6]) for k=mapki[i-1,2]:mapki[i,2] )\n",
    "    end\n",
    "end\n",
    "\n",
    "conv=zeros(51)\n",
    "\n",
    "conv[1]=initial[1,5]\n",
    "inn_co2=zeros(nrow(innovations),51)\n",
    "\n",
    "for inn in 1:nrow(innovations)\n",
    "    inn_co2[inn,1]=0\n",
    "end\n",
    "\n",
    "j=0\n",
    "for i in 2:51\n",
    "    if 0 ≤ i ≤ 5\n",
    "        j=1\n",
    "    elseif 6 ≤ i ≤ 10\n",
    "        j=2\n",
    "    elseif 6 ≤ i ≤ 10\n",
    "        j=3\n",
    "    elseif 11 ≤ i ≤ 15\n",
    "        j=4\n",
    "    elseif 16 ≤ i ≤ 20\n",
    "        j=5\n",
    "    elseif 21 ≤ i ≤ 25\n",
    "        j=6\n",
    "    else\n",
    "        j=7\n",
    "    end\n",
    "        \n",
    "    conv[i]=conventional(j)\n",
    "    for inn in 1:nrow(innovations)\n",
    "        inn_co2[inn,i]=innovation(inn,j)\n",
    "    end\n",
    "end\n",
    "sNames = [\"conv\",\"inn1\",\"inn2\",\"inn3\",\"inn4\",\"inn5\",\"inn6\",\"inn7\",\"inn8\",\"inn9\",\"inn10\"]\n",
    "xLabels = []\n",
    "for i in 2020:2070\n",
    "    push!(xLabels,string(i))\n",
    "end\n",
    "\n",
    "df = DataFrame(year=xLabels, conv=conv, inn1=inn_co2[1,:],inn2=inn_co2[2,:],inn3=inn_co2[3,:],inn4=inn_co2[4,:],\n",
    "        inn5=inn_co2[5,:],inn6=inn_co2[6,:],inn7=inn_co2[7,:],inn8=inn_co2[8,:],inn9=inn_co2[9,:],inn10=inn_co2[10,:])\n",
    "df=df[1:36,:]\n",
    "\n",
    "\n",
    "#df |> stack |> @vlplot(:area, x=:year, y={:value, stack=:zero, title=\"recycled/renewable content\"}, color=\"variable:n\",legend=:sNames) \n",
    "\n",
    "\n",
    "rename!(df,[:conv,:inn5,:inn10] .=> [:Conventional,:LDPE_Pyrolysis,:PLA_Alcoholysis])\n",
    "\n",
    "circular_inn=df |> stack |> @vlplot(:area, x=:year, y={:value, stack=:zero, title=\"recycled/renewable content\"}, color=\"variable:n\",legend=:sNames) \n",
    "\n",
    "#save(\"./result-case-roadmap/circularity-roadmap.svg\", circular_inn)\n",
    "circular_inn\n"
   ]
  },
  {
   "cell_type": "code",
   "execution_count": null,
   "id": "b1042025",
   "metadata": {},
   "outputs": [],
   "source": []
  },
  {
   "cell_type": "code",
   "execution_count": null,
   "id": "221ef107",
   "metadata": {},
   "outputs": [],
   "source": []
  },
  {
   "cell_type": "code",
   "execution_count": null,
   "id": "5333e549",
   "metadata": {},
   "outputs": [],
   "source": []
  },
  {
   "cell_type": "code",
   "execution_count": null,
   "id": "3702d314",
   "metadata": {},
   "outputs": [],
   "source": []
  }
 ],
 "metadata": {
  "kernelspec": {
   "display_name": "Julia 1.6.3",
   "language": "julia",
   "name": "julia-1.6"
  },
  "language_info": {
   "file_extension": ".jl",
   "mimetype": "application/julia",
   "name": "julia",
   "version": "1.6.3"
  }
 },
 "nbformat": 4,
 "nbformat_minor": 5
}
